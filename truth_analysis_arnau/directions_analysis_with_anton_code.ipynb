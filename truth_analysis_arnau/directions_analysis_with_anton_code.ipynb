{
 "cells": [
  {
   "cell_type": "code",
   "execution_count": 25,
   "metadata": {},
   "outputs": [],
   "source": [
    "import os\n",
    "import torch\n",
    "import sys\n",
    "\n",
    "parent_dir = os.path.abspath(\"..\")\n",
    "sys.path.append(parent_dir)\n",
    "\n",
    "\n",
    "from src.classifying import (\n",
    "    ActivationsHandler,\n",
    "    get_correctness_direction_classifier\n",
    ")"
   ]
  },
  {
   "cell_type": "code",
   "execution_count": 29,
   "metadata": {},
   "outputs": [],
   "source": [
    "folder_path = \"./activations/activations_trivia_1000_4000_right/layer_12\"  \n",
    "activation_files = sorted([f for f in os.listdir(folder_path) if f.endswith(\".pt\")])\n",
    "activations_list_true = [torch.load(os.path.join(folder_path, f), map_location='cpu').cpu() for f in activation_files]\n",
    "\n",
    "folder_path = \"./activations/activations_trivia_1000_4000_wrong/layer_12\"\n",
    "activation_files = sorted([f for f in os.listdir(folder_path) if f.endswith(\".pt\")])\n",
    "activations_list_false = [torch.load(os.path.join(folder_path, f), map_location='cpu').cpu() for f in activation_files]"
   ]
  },
  {
   "cell_type": "code",
   "execution_count": 31,
   "metadata": {},
   "outputs": [],
   "source": [
    "activations_true = torch.cat(activations_list_true, dim=0)\n",
    "activations_false = torch.cat(activations_list_false, dim=0)\n",
    "activations_tensor_train = torch.cat([activations_true[:2000], activations_false[:2000]], dim=0)\n",
    "activations_tensor_test = torch.cat([activations_true[2000:2500], activations_false[2000:2500]], dim=0)\n",
    "pd_series_of_labels_bool_train = torch.cat([torch.ones(activations_true[:2000].size(0), dtype=torch.bool), torch.zeros(activations_false[:2000].size(0), dtype=torch.bool)], dim=0)\n",
    "pd_series_of_labels_bool_test = torch.cat([torch.ones(activations_true[2000:2500].size(0), dtype=torch.bool), torch.zeros(activations_false[2000:2500].size(0), dtype=torch.bool)], dim=0)"
   ]
  },
  {
   "cell_type": "code",
   "execution_count": 32,
   "metadata": {},
   "outputs": [],
   "source": [
    "activations_handler_train = ActivationsHandler(\n",
    "  activations=activations_tensor_train, # torch tensor of [batch, activations]\n",
    "  labels=pd_series_of_labels_bool_train, # each row label should correspond to the row in activations_tensor\n",
    ")\n",
    "\n",
    "activations_handler_test = ActivationsHandler(\n",
    "  activations=activations_tensor_test, # torch tensor of [batch, activations]\n",
    "  labels=pd_series_of_labels_bool_test, # each row label should correspond to the row in activations_tensor\n",
    ")\n",
    "\n",
    "direction_classifier, direction_calculator = get_correctness_direction_classifier(\n",
    "  activations_handler_train=activations_handler_train,\n",
    "  activations_handler_test=activations_handler_test,\n",
    ")"
   ]
  },
  {
   "cell_type": "code",
   "execution_count": 34,
   "metadata": {},
   "outputs": [
    {
     "data": {
      "text/plain": [
       "{'optimal_cut': 0.6012713313102722,\n",
       " 'optimal_train_set_cut': 0.6012713313102722,\n",
       " 'test_roc_auc': 0.963172,\n",
       " 'accuracy_score': 0.898,\n",
       " 'f1_score': 0.898406374501992,\n",
       " 'precision_score': 0.8948412698412699,\n",
       " 'recall_score': 0.902}"
      ]
     },
     "execution_count": 34,
     "metadata": {},
     "output_type": "execute_result"
    }
   ],
   "source": [
    "direction_classifier.classification_metrics"
   ]
  }
 ],
 "metadata": {
  "kernelspec": {
   "display_name": "ml_env",
   "language": "python",
   "name": "python3"
  },
  "language_info": {
   "codemirror_mode": {
    "name": "ipython",
    "version": 3
   },
   "file_extension": ".py",
   "mimetype": "text/x-python",
   "name": "python",
   "nbconvert_exporter": "python",
   "pygments_lexer": "ipython3",
   "version": "3.12.3"
  }
 },
 "nbformat": 4,
 "nbformat_minor": 2
}
