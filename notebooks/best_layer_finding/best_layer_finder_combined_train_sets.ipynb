{
 "cells": [
  {
   "cell_type": "code",
   "execution_count": 1,
   "metadata": {},
   "outputs": [
    {
     "data": {
      "text/plain": [
       "['/Library/Frameworks/Python.framework/Versions/3.11/lib/python311.zip',\n",
       " '/Library/Frameworks/Python.framework/Versions/3.11/lib/python3.11',\n",
       " '/Library/Frameworks/Python.framework/Versions/3.11/lib/python3.11/lib-dynload',\n",
       " '',\n",
       " '/Users/anton/dev/MARS/correctness-model-internals/venv/lib/python3.11/site-packages',\n",
       " '/Users/anton/dev/MARS/correctness-model-internals']"
      ]
     },
     "execution_count": 1,
     "metadata": {},
     "output_type": "execute_result"
    }
   ],
   "source": [
    "import sys\n",
    "from pathlib import Path\n",
    "\n",
    "# Add the src directory to Python path\n",
    "src_path = str(Path(\"./\").resolve().parent.parent)\n",
    "if src_path not in sys.path:\n",
    "    sys.path.append(src_path)\n",
    "\n",
    "sys.path"
   ]
  },
  {
   "cell_type": "code",
   "execution_count": 2,
   "metadata": {},
   "outputs": [],
   "source": [
    "from pathlib import Path\n",
    "from collections import defaultdict\n",
    "\n",
    "import torch as pt\n",
    "import pandas as pd\n",
    "# import seaborn as sns\n",
    "import plotly.graph_objects as go\n",
    "\n",
    "from src.classifying import (\n",
    "    ActivationsHandler,\n",
    "    combine_activations_handlers,\n",
    "    get_correctness_direction_classifier,\n",
    "    get_logistic_regression_classifier,\n",
    ")\n",
    "\n",
    "# sns.set_theme(style=\"whitegrid\")\n"
   ]
  },
  {
   "cell_type": "code",
   "execution_count": 3,
   "metadata": {},
   "outputs": [],
   "source": [
    "def load_activations(\n",
    "    model_id,\n",
    "    dataset_id,\n",
    "    prompt_id,\n",
    "    subset_id,\n",
    "    input_type,\n",
    "    layer,\n",
    "    batch_ids=None,\n",
    "):\n",
    "    if batch_ids:\n",
    "        batch_ids = [int(batch_id) for batch_id in batch_ids]\n",
    "\n",
    "    paths = sorted(\n",
    "        list(\n",
    "            Path(\n",
    "                f\"../../activations/{model_id}/{dataset_id}/{prompt_id}/{subset_id}/{input_type}/layer_{layer}\"\n",
    "            ).iterdir()\n",
    "        ),\n",
    "        key=lambda p: int(p.stem.split(\"_\")[-1]),\n",
    "    )\n",
    "\n",
    "    activations_list, indices = [], []\n",
    "    batch_size = None\n",
    "    for batch_file in paths:\n",
    "        batch_id = int(batch_file.stem.split(\"_\")[-1])\n",
    "        if batch_ids and batch_id not in batch_ids:\n",
    "            continue\n",
    "\n",
    "        activations = pt.load(batch_file, map_location=pt.device(\"cpu\"))\n",
    "        activations_list.append(activations)\n",
    "\n",
    "        batch_size = activations.shape[0]\n",
    "\n",
    "        if batch_size is None:\n",
    "            batch_size = activations.shape[0]\n",
    "        else:\n",
    "            assert batch_size == activations.shape[0]\n",
    "\n",
    "        indices.append(\n",
    "            pd.Series(range(batch_size), name=\"index\") + batch_id\n",
    "        )\n",
    "\n",
    "\n",
    "    return (\n",
    "        pt.cat(activations_list, dim=0),\n",
    "        pd.concat(indices, axis=0).reset_index(drop=True),\n",
    "    )\n",
    "\n",
    "\n",
    "def load_labels(model_id, dataset_id, prompt_id, subset_id, indices=None):\n",
    "    paths = list(\n",
    "        Path(f\"../../evaluations/{model_id}/{dataset_id}/{prompt_id}/\").iterdir()\n",
    "    )\n",
    "    for path in paths:\n",
    "        filename = path.stem\n",
    "        if subset_id != filename.split(\"_generations_evaluated\")[0]:\n",
    "            continue\n",
    "        df = pd.read_csv(path)\n",
    "        if indices is not None:\n",
    "            df = df.iloc[indices].reset_index(drop=True)\n",
    "        return df\n",
    "    raise ValueError(\n",
    "        f\"No labels found for {model_id} {dataset_id} {prompt_id} {subset_id}\"\n",
    "    )\n"
   ]
  },
  {
   "cell_type": "code",
   "execution_count": 4,
   "metadata": {},
   "outputs": [
    {
     "data": {
      "text/html": [
       "<div>\n",
       "<style scoped>\n",
       "    .dataframe tbody tr th:only-of-type {\n",
       "        vertical-align: middle;\n",
       "    }\n",
       "\n",
       "    .dataframe tbody tr th {\n",
       "        vertical-align: top;\n",
       "    }\n",
       "\n",
       "    .dataframe thead th {\n",
       "        text-align: right;\n",
       "    }\n",
       "</style>\n",
       "<table border=\"1\" class=\"dataframe\">\n",
       "  <thead>\n",
       "    <tr style=\"text-align: right;\">\n",
       "      <th></th>\n",
       "      <th>model_id</th>\n",
       "      <th>dataset_id</th>\n",
       "      <th>prompt_id</th>\n",
       "      <th>subset_id</th>\n",
       "      <th>input_type</th>\n",
       "      <th>layer</th>\n",
       "      <th>path</th>\n",
       "    </tr>\n",
       "  </thead>\n",
       "  <tbody>\n",
       "    <tr>\n",
       "      <th>0</th>\n",
       "      <td>llama3.1_8b_chat</td>\n",
       "      <td>football_leagues_1k</td>\n",
       "      <td>base</td>\n",
       "      <td>main</td>\n",
       "      <td>prompt_only</td>\n",
       "      <td>0</td>\n",
       "      <td>../../activations/llama3.1_8b_chat/football_le...</td>\n",
       "    </tr>\n",
       "    <tr>\n",
       "      <th>1</th>\n",
       "      <td>llama3.1_8b_chat</td>\n",
       "      <td>football_leagues_1k</td>\n",
       "      <td>base</td>\n",
       "      <td>main</td>\n",
       "      <td>prompt_only</td>\n",
       "      <td>7</td>\n",
       "      <td>../../activations/llama3.1_8b_chat/football_le...</td>\n",
       "    </tr>\n",
       "    <tr>\n",
       "      <th>2</th>\n",
       "      <td>llama3.1_8b_chat</td>\n",
       "      <td>football_leagues_1k</td>\n",
       "      <td>base</td>\n",
       "      <td>main</td>\n",
       "      <td>prompt_only</td>\n",
       "      <td>9</td>\n",
       "      <td>../../activations/llama3.1_8b_chat/football_le...</td>\n",
       "    </tr>\n",
       "    <tr>\n",
       "      <th>3</th>\n",
       "      <td>llama3.1_8b_chat</td>\n",
       "      <td>football_leagues_1k</td>\n",
       "      <td>base</td>\n",
       "      <td>main</td>\n",
       "      <td>prompt_only</td>\n",
       "      <td>17</td>\n",
       "      <td>../../activations/llama3.1_8b_chat/football_le...</td>\n",
       "    </tr>\n",
       "    <tr>\n",
       "      <th>4</th>\n",
       "      <td>llama3.1_8b_chat</td>\n",
       "      <td>football_leagues_1k</td>\n",
       "      <td>base</td>\n",
       "      <td>main</td>\n",
       "      <td>prompt_only</td>\n",
       "      <td>28</td>\n",
       "      <td>../../activations/llama3.1_8b_chat/football_le...</td>\n",
       "    </tr>\n",
       "    <tr>\n",
       "      <th>...</th>\n",
       "      <td>...</td>\n",
       "      <td>...</td>\n",
       "      <td>...</td>\n",
       "      <td>...</td>\n",
       "      <td>...</td>\n",
       "      <td>...</td>\n",
       "      <td>...</td>\n",
       "    </tr>\n",
       "    <tr>\n",
       "      <th>251</th>\n",
       "      <td>llama3.1_8b_chat</td>\n",
       "      <td>birth_years_4k</td>\n",
       "      <td>base</td>\n",
       "      <td>main</td>\n",
       "      <td>prompt_answer</td>\n",
       "      <td>23</td>\n",
       "      <td>../../activations/llama3.1_8b_chat/birth_years...</td>\n",
       "    </tr>\n",
       "    <tr>\n",
       "      <th>252</th>\n",
       "      <td>llama3.1_8b_chat</td>\n",
       "      <td>birth_years_4k</td>\n",
       "      <td>base</td>\n",
       "      <td>main</td>\n",
       "      <td>prompt_answer</td>\n",
       "      <td>15</td>\n",
       "      <td>../../activations/llama3.1_8b_chat/birth_years...</td>\n",
       "    </tr>\n",
       "    <tr>\n",
       "      <th>253</th>\n",
       "      <td>llama3.1_8b_chat</td>\n",
       "      <td>birth_years_4k</td>\n",
       "      <td>base</td>\n",
       "      <td>main</td>\n",
       "      <td>prompt_answer</td>\n",
       "      <td>12</td>\n",
       "      <td>../../activations/llama3.1_8b_chat/birth_years...</td>\n",
       "    </tr>\n",
       "    <tr>\n",
       "      <th>254</th>\n",
       "      <td>llama3.1_8b_chat</td>\n",
       "      <td>birth_years_4k</td>\n",
       "      <td>base</td>\n",
       "      <td>main</td>\n",
       "      <td>prompt_answer</td>\n",
       "      <td>2</td>\n",
       "      <td>../../activations/llama3.1_8b_chat/birth_years...</td>\n",
       "    </tr>\n",
       "    <tr>\n",
       "      <th>255</th>\n",
       "      <td>llama3.1_8b_chat</td>\n",
       "      <td>birth_years_4k</td>\n",
       "      <td>base</td>\n",
       "      <td>main</td>\n",
       "      <td>prompt_answer</td>\n",
       "      <td>5</td>\n",
       "      <td>../../activations/llama3.1_8b_chat/birth_years...</td>\n",
       "    </tr>\n",
       "  </tbody>\n",
       "</table>\n",
       "<p>256 rows × 7 columns</p>\n",
       "</div>"
      ],
      "text/plain": [
       "             model_id           dataset_id prompt_id subset_id     input_type  \\\n",
       "0    llama3.1_8b_chat  football_leagues_1k      base      main    prompt_only   \n",
       "1    llama3.1_8b_chat  football_leagues_1k      base      main    prompt_only   \n",
       "2    llama3.1_8b_chat  football_leagues_1k      base      main    prompt_only   \n",
       "3    llama3.1_8b_chat  football_leagues_1k      base      main    prompt_only   \n",
       "4    llama3.1_8b_chat  football_leagues_1k      base      main    prompt_only   \n",
       "..                ...                  ...       ...       ...            ...   \n",
       "251  llama3.1_8b_chat       birth_years_4k      base      main  prompt_answer   \n",
       "252  llama3.1_8b_chat       birth_years_4k      base      main  prompt_answer   \n",
       "253  llama3.1_8b_chat       birth_years_4k      base      main  prompt_answer   \n",
       "254  llama3.1_8b_chat       birth_years_4k      base      main  prompt_answer   \n",
       "255  llama3.1_8b_chat       birth_years_4k      base      main  prompt_answer   \n",
       "\n",
       "     layer                                               path  \n",
       "0        0  ../../activations/llama3.1_8b_chat/football_le...  \n",
       "1        7  ../../activations/llama3.1_8b_chat/football_le...  \n",
       "2        9  ../../activations/llama3.1_8b_chat/football_le...  \n",
       "3       17  ../../activations/llama3.1_8b_chat/football_le...  \n",
       "4       28  ../../activations/llama3.1_8b_chat/football_le...  \n",
       "..     ...                                                ...  \n",
       "251     23  ../../activations/llama3.1_8b_chat/birth_years...  \n",
       "252     15  ../../activations/llama3.1_8b_chat/birth_years...  \n",
       "253     12  ../../activations/llama3.1_8b_chat/birth_years...  \n",
       "254      2  ../../activations/llama3.1_8b_chat/birth_years...  \n",
       "255      5  ../../activations/llama3.1_8b_chat/birth_years...  \n",
       "\n",
       "[256 rows x 7 columns]"
      ]
     },
     "execution_count": 4,
     "metadata": {},
     "output_type": "execute_result"
    }
   ],
   "source": [
    "all_activation_exp_configs = defaultdict(list)\n",
    "for model_path in Path(\"../../activations\").iterdir():\n",
    "    for dataset_path in model_path.iterdir():\n",
    "        for prompt_path in dataset_path.iterdir():\n",
    "            for subset_path in prompt_path.iterdir():\n",
    "                for input_type_path in subset_path.iterdir():\n",
    "                    for layer_path in input_type_path.iterdir():\n",
    "                        all_activation_exp_configs[\"model_id\"].append(model_path.name)\n",
    "                        all_activation_exp_configs[\"dataset_id\"].append(dataset_path.name)\n",
    "                        all_activation_exp_configs[\"prompt_id\"].append(prompt_path.name)\n",
    "                        all_activation_exp_configs[\"subset_id\"].append(subset_path.name)\n",
    "                        all_activation_exp_configs[\"input_type\"].append(input_type_path.name)\n",
    "                        all_activation_exp_configs[\"layer\"].append(int(layer_path.name.split(\"_\")[-1]))\n",
    "                        all_activation_exp_configs[\"path\"].append(layer_path)\n",
    "all_activation_exp_configs_df = pd.DataFrame(all_activation_exp_configs)\n",
    "all_activation_exp_configs_df\n"
   ]
  },
  {
   "cell_type": "code",
   "execution_count": 5,
   "metadata": {},
   "outputs": [
    {
     "data": {
      "text/html": [
       "<div>\n",
       "<style scoped>\n",
       "    .dataframe tbody tr th:only-of-type {\n",
       "        vertical-align: middle;\n",
       "    }\n",
       "\n",
       "    .dataframe tbody tr th {\n",
       "        vertical-align: top;\n",
       "    }\n",
       "\n",
       "    .dataframe thead th {\n",
       "        text-align: right;\n",
       "    }\n",
       "</style>\n",
       "<table border=\"1\" class=\"dataframe\">\n",
       "  <thead>\n",
       "    <tr style=\"text-align: right;\">\n",
       "      <th></th>\n",
       "      <th>model_id</th>\n",
       "      <th>dataset_id</th>\n",
       "      <th>prompt_id</th>\n",
       "      <th>subset_id</th>\n",
       "      <th>input_type</th>\n",
       "      <th>layer</th>\n",
       "      <th>path</th>\n",
       "    </tr>\n",
       "  </thead>\n",
       "  <tbody>\n",
       "    <tr>\n",
       "      <th>0</th>\n",
       "      <td>llama3.1_8b_chat</td>\n",
       "      <td>football_leagues_1k</td>\n",
       "      <td>base</td>\n",
       "      <td>main</td>\n",
       "      <td>prompt_only</td>\n",
       "      <td>0</td>\n",
       "      <td>../../activations/llama3.1_8b_chat/football_le...</td>\n",
       "    </tr>\n",
       "    <tr>\n",
       "      <th>1</th>\n",
       "      <td>llama3.1_8b_chat</td>\n",
       "      <td>football_leagues_1k</td>\n",
       "      <td>base</td>\n",
       "      <td>main</td>\n",
       "      <td>prompt_only</td>\n",
       "      <td>7</td>\n",
       "      <td>../../activations/llama3.1_8b_chat/football_le...</td>\n",
       "    </tr>\n",
       "    <tr>\n",
       "      <th>2</th>\n",
       "      <td>llama3.1_8b_chat</td>\n",
       "      <td>football_leagues_1k</td>\n",
       "      <td>base</td>\n",
       "      <td>main</td>\n",
       "      <td>prompt_only</td>\n",
       "      <td>9</td>\n",
       "      <td>../../activations/llama3.1_8b_chat/football_le...</td>\n",
       "    </tr>\n",
       "    <tr>\n",
       "      <th>3</th>\n",
       "      <td>llama3.1_8b_chat</td>\n",
       "      <td>football_leagues_1k</td>\n",
       "      <td>base</td>\n",
       "      <td>main</td>\n",
       "      <td>prompt_only</td>\n",
       "      <td>17</td>\n",
       "      <td>../../activations/llama3.1_8b_chat/football_le...</td>\n",
       "    </tr>\n",
       "    <tr>\n",
       "      <th>4</th>\n",
       "      <td>llama3.1_8b_chat</td>\n",
       "      <td>football_leagues_1k</td>\n",
       "      <td>base</td>\n",
       "      <td>main</td>\n",
       "      <td>prompt_only</td>\n",
       "      <td>28</td>\n",
       "      <td>../../activations/llama3.1_8b_chat/football_le...</td>\n",
       "    </tr>\n",
       "    <tr>\n",
       "      <th>...</th>\n",
       "      <td>...</td>\n",
       "      <td>...</td>\n",
       "      <td>...</td>\n",
       "      <td>...</td>\n",
       "      <td>...</td>\n",
       "      <td>...</td>\n",
       "      <td>...</td>\n",
       "    </tr>\n",
       "    <tr>\n",
       "      <th>251</th>\n",
       "      <td>llama3.1_8b_chat</td>\n",
       "      <td>birth_years_4k</td>\n",
       "      <td>base</td>\n",
       "      <td>main</td>\n",
       "      <td>prompt_answer</td>\n",
       "      <td>23</td>\n",
       "      <td>../../activations/llama3.1_8b_chat/birth_years...</td>\n",
       "    </tr>\n",
       "    <tr>\n",
       "      <th>252</th>\n",
       "      <td>llama3.1_8b_chat</td>\n",
       "      <td>birth_years_4k</td>\n",
       "      <td>base</td>\n",
       "      <td>main</td>\n",
       "      <td>prompt_answer</td>\n",
       "      <td>15</td>\n",
       "      <td>../../activations/llama3.1_8b_chat/birth_years...</td>\n",
       "    </tr>\n",
       "    <tr>\n",
       "      <th>253</th>\n",
       "      <td>llama3.1_8b_chat</td>\n",
       "      <td>birth_years_4k</td>\n",
       "      <td>base</td>\n",
       "      <td>main</td>\n",
       "      <td>prompt_answer</td>\n",
       "      <td>12</td>\n",
       "      <td>../../activations/llama3.1_8b_chat/birth_years...</td>\n",
       "    </tr>\n",
       "    <tr>\n",
       "      <th>254</th>\n",
       "      <td>llama3.1_8b_chat</td>\n",
       "      <td>birth_years_4k</td>\n",
       "      <td>base</td>\n",
       "      <td>main</td>\n",
       "      <td>prompt_answer</td>\n",
       "      <td>2</td>\n",
       "      <td>../../activations/llama3.1_8b_chat/birth_years...</td>\n",
       "    </tr>\n",
       "    <tr>\n",
       "      <th>255</th>\n",
       "      <td>llama3.1_8b_chat</td>\n",
       "      <td>birth_years_4k</td>\n",
       "      <td>base</td>\n",
       "      <td>main</td>\n",
       "      <td>prompt_answer</td>\n",
       "      <td>5</td>\n",
       "      <td>../../activations/llama3.1_8b_chat/birth_years...</td>\n",
       "    </tr>\n",
       "  </tbody>\n",
       "</table>\n",
       "<p>256 rows × 7 columns</p>\n",
       "</div>"
      ],
      "text/plain": [
       "             model_id           dataset_id prompt_id subset_id     input_type  \\\n",
       "0    llama3.1_8b_chat  football_leagues_1k      base      main    prompt_only   \n",
       "1    llama3.1_8b_chat  football_leagues_1k      base      main    prompt_only   \n",
       "2    llama3.1_8b_chat  football_leagues_1k      base      main    prompt_only   \n",
       "3    llama3.1_8b_chat  football_leagues_1k      base      main    prompt_only   \n",
       "4    llama3.1_8b_chat  football_leagues_1k      base      main    prompt_only   \n",
       "..                ...                  ...       ...       ...            ...   \n",
       "251  llama3.1_8b_chat       birth_years_4k      base      main  prompt_answer   \n",
       "252  llama3.1_8b_chat       birth_years_4k      base      main  prompt_answer   \n",
       "253  llama3.1_8b_chat       birth_years_4k      base      main  prompt_answer   \n",
       "254  llama3.1_8b_chat       birth_years_4k      base      main  prompt_answer   \n",
       "255  llama3.1_8b_chat       birth_years_4k      base      main  prompt_answer   \n",
       "\n",
       "     layer                                               path  \n",
       "0        0  ../../activations/llama3.1_8b_chat/football_le...  \n",
       "1        7  ../../activations/llama3.1_8b_chat/football_le...  \n",
       "2        9  ../../activations/llama3.1_8b_chat/football_le...  \n",
       "3       17  ../../activations/llama3.1_8b_chat/football_le...  \n",
       "4       28  ../../activations/llama3.1_8b_chat/football_le...  \n",
       "..     ...                                                ...  \n",
       "251     23  ../../activations/llama3.1_8b_chat/birth_years...  \n",
       "252     15  ../../activations/llama3.1_8b_chat/birth_years...  \n",
       "253     12  ../../activations/llama3.1_8b_chat/birth_years...  \n",
       "254      2  ../../activations/llama3.1_8b_chat/birth_years...  \n",
       "255      5  ../../activations/llama3.1_8b_chat/birth_years...  \n",
       "\n",
       "[256 rows x 7 columns]"
      ]
     },
     "execution_count": 5,
     "metadata": {},
     "output_type": "execute_result"
    }
   ],
   "source": [
    "# Set None to get all\n",
    "MODEL_ID = \"llama3.1_8b_chat\"\n",
    "# DATASET_ID = \"gsm8k\"\n",
    "# PROMPT_ID = \"cot_3_shot\"\n",
    "# SUBSET_ID = \"main\"\n",
    "# INPUT_TYPE = \"prompt_only\"\n",
    "DATASET_ID = None\n",
    "PROMPT_ID = None\n",
    "SUBSET_ID = None\n",
    "INPUT_TYPE = None\n",
    "\n",
    "\n",
    "activation_exp_configs_df = all_activation_exp_configs_df.copy()\n",
    "\n",
    "if MODEL_ID != None:\n",
    "    activation_exp_configs_df = activation_exp_configs_df[activation_exp_configs_df[\"model_id\"] == MODEL_ID]\n",
    "if DATASET_ID != None:\n",
    "    activation_exp_configs_df = activation_exp_configs_df[activation_exp_configs_df[\"dataset_id\"] == DATASET_ID]\n",
    "if PROMPT_ID != None:\n",
    "    activation_exp_configs_df = activation_exp_configs_df[activation_exp_configs_df[\"prompt_id\"] == PROMPT_ID]\n",
    "if SUBSET_ID != None:\n",
    "    activation_exp_configs_df = activation_exp_configs_df[activation_exp_configs_df[\"subset_id\"] == SUBSET_ID]\n",
    "if INPUT_TYPE != None:\n",
    "    activation_exp_configs_df = activation_exp_configs_df[activation_exp_configs_df[\"input_type\"] == INPUT_TYPE]\n",
    "\n",
    "\n",
    "activation_exp_configs_df"
   ]
  },
  {
   "cell_type": "code",
   "execution_count": 6,
   "metadata": {},
   "outputs": [
    {
     "name": "stdout",
     "output_type": "stream",
     "text": [
      "\n",
      "model_id='llama3.1_8b_chat', prompt_id='base', subset_id='main', input_type='prompt_answer'\n",
      "layer=0, "
     ]
    },
    {
     "name": "stderr",
     "output_type": "stream",
     "text": [
      "/Users/anton/dev/MARS/correctness-model-internals/venv/lib/python3.11/site-packages/sklearn/linear_model/_logistic.py:469: ConvergenceWarning: lbfgs failed to converge (status=1):\n",
      "STOP: TOTAL NO. OF ITERATIONS REACHED LIMIT.\n",
      "\n",
      "Increase the number of iterations (max_iter) or scale the data as shown in:\n",
      "    https://scikit-learn.org/stable/modules/preprocessing.html\n",
      "Please also refer to the documentation for alternative solver options:\n",
      "    https://scikit-learn.org/stable/modules/linear_model.html#logistic-regression\n",
      "  n_iter_i = _check_optimize_result(\n",
      "/Users/anton/dev/MARS/correctness-model-internals/venv/lib/python3.11/site-packages/sklearn/linear_model/_logistic.py:469: ConvergenceWarning: lbfgs failed to converge (status=1):\n",
      "STOP: TOTAL NO. OF ITERATIONS REACHED LIMIT.\n",
      "\n",
      "Increase the number of iterations (max_iter) or scale the data as shown in:\n",
      "    https://scikit-learn.org/stable/modules/preprocessing.html\n",
      "Please also refer to the documentation for alternative solver options:\n",
      "    https://scikit-learn.org/stable/modules/linear_model.html#logistic-regression\n",
      "  n_iter_i = _check_optimize_result(\n",
      "/Users/anton/dev/MARS/correctness-model-internals/venv/lib/python3.11/site-packages/sklearn/linear_model/_logistic.py:469: ConvergenceWarning: lbfgs failed to converge (status=1):\n",
      "STOP: TOTAL NO. OF ITERATIONS REACHED LIMIT.\n",
      "\n",
      "Increase the number of iterations (max_iter) or scale the data as shown in:\n",
      "    https://scikit-learn.org/stable/modules/preprocessing.html\n",
      "Please also refer to the documentation for alternative solver options:\n",
      "    https://scikit-learn.org/stable/modules/linear_model.html#logistic-regression\n",
      "  n_iter_i = _check_optimize_result(\n",
      "/Users/anton/dev/MARS/correctness-model-internals/venv/lib/python3.11/site-packages/sklearn/linear_model/_logistic.py:469: ConvergenceWarning: lbfgs failed to converge (status=1):\n",
      "STOP: TOTAL NO. OF ITERATIONS REACHED LIMIT.\n",
      "\n",
      "Increase the number of iterations (max_iter) or scale the data as shown in:\n",
      "    https://scikit-learn.org/stable/modules/preprocessing.html\n",
      "Please also refer to the documentation for alternative solver options:\n",
      "    https://scikit-learn.org/stable/modules/linear_model.html#logistic-regression\n",
      "  n_iter_i = _check_optimize_result(\n",
      "/Users/anton/dev/MARS/correctness-model-internals/venv/lib/python3.11/site-packages/sklearn/linear_model/_logistic.py:469: ConvergenceWarning: lbfgs failed to converge (status=1):\n",
      "STOP: TOTAL NO. OF ITERATIONS REACHED LIMIT.\n",
      "\n",
      "Increase the number of iterations (max_iter) or scale the data as shown in:\n",
      "    https://scikit-learn.org/stable/modules/preprocessing.html\n",
      "Please also refer to the documentation for alternative solver options:\n",
      "    https://scikit-learn.org/stable/modules/linear_model.html#logistic-regression\n",
      "  n_iter_i = _check_optimize_result(\n"
     ]
    },
    {
     "name": "stdout",
     "output_type": "stream",
     "text": [
      "layer=1, "
     ]
    },
    {
     "name": "stderr",
     "output_type": "stream",
     "text": [
      "/Users/anton/dev/MARS/correctness-model-internals/venv/lib/python3.11/site-packages/sklearn/linear_model/_logistic.py:469: ConvergenceWarning: lbfgs failed to converge (status=1):\n",
      "STOP: TOTAL NO. OF ITERATIONS REACHED LIMIT.\n",
      "\n",
      "Increase the number of iterations (max_iter) or scale the data as shown in:\n",
      "    https://scikit-learn.org/stable/modules/preprocessing.html\n",
      "Please also refer to the documentation for alternative solver options:\n",
      "    https://scikit-learn.org/stable/modules/linear_model.html#logistic-regression\n",
      "  n_iter_i = _check_optimize_result(\n",
      "/Users/anton/dev/MARS/correctness-model-internals/venv/lib/python3.11/site-packages/sklearn/linear_model/_logistic.py:469: ConvergenceWarning: lbfgs failed to converge (status=1):\n",
      "STOP: TOTAL NO. OF ITERATIONS REACHED LIMIT.\n",
      "\n",
      "Increase the number of iterations (max_iter) or scale the data as shown in:\n",
      "    https://scikit-learn.org/stable/modules/preprocessing.html\n",
      "Please also refer to the documentation for alternative solver options:\n",
      "    https://scikit-learn.org/stable/modules/linear_model.html#logistic-regression\n",
      "  n_iter_i = _check_optimize_result(\n",
      "/Users/anton/dev/MARS/correctness-model-internals/venv/lib/python3.11/site-packages/sklearn/linear_model/_logistic.py:469: ConvergenceWarning: lbfgs failed to converge (status=1):\n",
      "STOP: TOTAL NO. OF ITERATIONS REACHED LIMIT.\n",
      "\n",
      "Increase the number of iterations (max_iter) or scale the data as shown in:\n",
      "    https://scikit-learn.org/stable/modules/preprocessing.html\n",
      "Please also refer to the documentation for alternative solver options:\n",
      "    https://scikit-learn.org/stable/modules/linear_model.html#logistic-regression\n",
      "  n_iter_i = _check_optimize_result(\n",
      "/Users/anton/dev/MARS/correctness-model-internals/venv/lib/python3.11/site-packages/sklearn/linear_model/_logistic.py:469: ConvergenceWarning: lbfgs failed to converge (status=1):\n",
      "STOP: TOTAL NO. OF ITERATIONS REACHED LIMIT.\n",
      "\n",
      "Increase the number of iterations (max_iter) or scale the data as shown in:\n",
      "    https://scikit-learn.org/stable/modules/preprocessing.html\n",
      "Please also refer to the documentation for alternative solver options:\n",
      "    https://scikit-learn.org/stable/modules/linear_model.html#logistic-regression\n",
      "  n_iter_i = _check_optimize_result(\n",
      "/Users/anton/dev/MARS/correctness-model-internals/venv/lib/python3.11/site-packages/sklearn/linear_model/_logistic.py:469: ConvergenceWarning: lbfgs failed to converge (status=1):\n",
      "STOP: TOTAL NO. OF ITERATIONS REACHED LIMIT.\n",
      "\n",
      "Increase the number of iterations (max_iter) or scale the data as shown in:\n",
      "    https://scikit-learn.org/stable/modules/preprocessing.html\n",
      "Please also refer to the documentation for alternative solver options:\n",
      "    https://scikit-learn.org/stable/modules/linear_model.html#logistic-regression\n",
      "  n_iter_i = _check_optimize_result(\n"
     ]
    },
    {
     "name": "stdout",
     "output_type": "stream",
     "text": [
      "layer=2, "
     ]
    },
    {
     "name": "stderr",
     "output_type": "stream",
     "text": [
      "/Users/anton/dev/MARS/correctness-model-internals/venv/lib/python3.11/site-packages/sklearn/linear_model/_logistic.py:469: ConvergenceWarning: lbfgs failed to converge (status=1):\n",
      "STOP: TOTAL NO. OF ITERATIONS REACHED LIMIT.\n",
      "\n",
      "Increase the number of iterations (max_iter) or scale the data as shown in:\n",
      "    https://scikit-learn.org/stable/modules/preprocessing.html\n",
      "Please also refer to the documentation for alternative solver options:\n",
      "    https://scikit-learn.org/stable/modules/linear_model.html#logistic-regression\n",
      "  n_iter_i = _check_optimize_result(\n",
      "/Users/anton/dev/MARS/correctness-model-internals/venv/lib/python3.11/site-packages/sklearn/linear_model/_logistic.py:469: ConvergenceWarning: lbfgs failed to converge (status=1):\n",
      "STOP: TOTAL NO. OF ITERATIONS REACHED LIMIT.\n",
      "\n",
      "Increase the number of iterations (max_iter) or scale the data as shown in:\n",
      "    https://scikit-learn.org/stable/modules/preprocessing.html\n",
      "Please also refer to the documentation for alternative solver options:\n",
      "    https://scikit-learn.org/stable/modules/linear_model.html#logistic-regression\n",
      "  n_iter_i = _check_optimize_result(\n",
      "/Users/anton/dev/MARS/correctness-model-internals/venv/lib/python3.11/site-packages/sklearn/linear_model/_logistic.py:469: ConvergenceWarning: lbfgs failed to converge (status=1):\n",
      "STOP: TOTAL NO. OF ITERATIONS REACHED LIMIT.\n",
      "\n",
      "Increase the number of iterations (max_iter) or scale the data as shown in:\n",
      "    https://scikit-learn.org/stable/modules/preprocessing.html\n",
      "Please also refer to the documentation for alternative solver options:\n",
      "    https://scikit-learn.org/stable/modules/linear_model.html#logistic-regression\n",
      "  n_iter_i = _check_optimize_result(\n",
      "/Users/anton/dev/MARS/correctness-model-internals/venv/lib/python3.11/site-packages/sklearn/linear_model/_logistic.py:469: ConvergenceWarning: lbfgs failed to converge (status=1):\n",
      "STOP: TOTAL NO. OF ITERATIONS REACHED LIMIT.\n",
      "\n",
      "Increase the number of iterations (max_iter) or scale the data as shown in:\n",
      "    https://scikit-learn.org/stable/modules/preprocessing.html\n",
      "Please also refer to the documentation for alternative solver options:\n",
      "    https://scikit-learn.org/stable/modules/linear_model.html#logistic-regression\n",
      "  n_iter_i = _check_optimize_result(\n",
      "/Users/anton/dev/MARS/correctness-model-internals/venv/lib/python3.11/site-packages/sklearn/linear_model/_logistic.py:469: ConvergenceWarning: lbfgs failed to converge (status=1):\n",
      "STOP: TOTAL NO. OF ITERATIONS REACHED LIMIT.\n",
      "\n",
      "Increase the number of iterations (max_iter) or scale the data as shown in:\n",
      "    https://scikit-learn.org/stable/modules/preprocessing.html\n",
      "Please also refer to the documentation for alternative solver options:\n",
      "    https://scikit-learn.org/stable/modules/linear_model.html#logistic-regression\n",
      "  n_iter_i = _check_optimize_result(\n"
     ]
    },
    {
     "name": "stdout",
     "output_type": "stream",
     "text": [
      "layer=3, "
     ]
    },
    {
     "name": "stderr",
     "output_type": "stream",
     "text": [
      "/Users/anton/dev/MARS/correctness-model-internals/venv/lib/python3.11/site-packages/sklearn/linear_model/_logistic.py:469: ConvergenceWarning: lbfgs failed to converge (status=1):\n",
      "STOP: TOTAL NO. OF ITERATIONS REACHED LIMIT.\n",
      "\n",
      "Increase the number of iterations (max_iter) or scale the data as shown in:\n",
      "    https://scikit-learn.org/stable/modules/preprocessing.html\n",
      "Please also refer to the documentation for alternative solver options:\n",
      "    https://scikit-learn.org/stable/modules/linear_model.html#logistic-regression\n",
      "  n_iter_i = _check_optimize_result(\n",
      "/Users/anton/dev/MARS/correctness-model-internals/venv/lib/python3.11/site-packages/sklearn/linear_model/_logistic.py:469: ConvergenceWarning: lbfgs failed to converge (status=1):\n",
      "STOP: TOTAL NO. OF ITERATIONS REACHED LIMIT.\n",
      "\n",
      "Increase the number of iterations (max_iter) or scale the data as shown in:\n",
      "    https://scikit-learn.org/stable/modules/preprocessing.html\n",
      "Please also refer to the documentation for alternative solver options:\n",
      "    https://scikit-learn.org/stable/modules/linear_model.html#logistic-regression\n",
      "  n_iter_i = _check_optimize_result(\n",
      "/Users/anton/dev/MARS/correctness-model-internals/venv/lib/python3.11/site-packages/sklearn/linear_model/_logistic.py:469: ConvergenceWarning: lbfgs failed to converge (status=1):\n",
      "STOP: TOTAL NO. OF ITERATIONS REACHED LIMIT.\n",
      "\n",
      "Increase the number of iterations (max_iter) or scale the data as shown in:\n",
      "    https://scikit-learn.org/stable/modules/preprocessing.html\n",
      "Please also refer to the documentation for alternative solver options:\n",
      "    https://scikit-learn.org/stable/modules/linear_model.html#logistic-regression\n",
      "  n_iter_i = _check_optimize_result(\n"
     ]
    },
    {
     "name": "stdout",
     "output_type": "stream",
     "text": [
      "layer=4, layer=5, layer=6, layer=7, layer=8, layer=9, layer=10, layer=11, layer=12, layer=13, layer=14, layer=15, layer=16, layer=17, layer=18, layer=19, layer=20, layer=21, layer=22, layer=23, layer=24, layer=25, layer=26, layer=27, layer=28, layer=29, layer=30, layer=31, \n",
      "model_id='llama3.1_8b_chat', prompt_id='base', subset_id='main', input_type='prompt_only'\n",
      "layer=0, "
     ]
    },
    {
     "name": "stderr",
     "output_type": "stream",
     "text": [
      "/Users/anton/dev/MARS/correctness-model-internals/venv/lib/python3.11/site-packages/sklearn/linear_model/_logistic.py:469: ConvergenceWarning: lbfgs failed to converge (status=1):\n",
      "STOP: TOTAL NO. OF ITERATIONS REACHED LIMIT.\n",
      "\n",
      "Increase the number of iterations (max_iter) or scale the data as shown in:\n",
      "    https://scikit-learn.org/stable/modules/preprocessing.html\n",
      "Please also refer to the documentation for alternative solver options:\n",
      "    https://scikit-learn.org/stable/modules/linear_model.html#logistic-regression\n",
      "  n_iter_i = _check_optimize_result(\n",
      "/Users/anton/dev/MARS/correctness-model-internals/venv/lib/python3.11/site-packages/sklearn/linear_model/_logistic.py:469: ConvergenceWarning: lbfgs failed to converge (status=1):\n",
      "STOP: TOTAL NO. OF ITERATIONS REACHED LIMIT.\n",
      "\n",
      "Increase the number of iterations (max_iter) or scale the data as shown in:\n",
      "    https://scikit-learn.org/stable/modules/preprocessing.html\n",
      "Please also refer to the documentation for alternative solver options:\n",
      "    https://scikit-learn.org/stable/modules/linear_model.html#logistic-regression\n",
      "  n_iter_i = _check_optimize_result(\n",
      "/Users/anton/dev/MARS/correctness-model-internals/venv/lib/python3.11/site-packages/sklearn/linear_model/_logistic.py:469: ConvergenceWarning: lbfgs failed to converge (status=1):\n",
      "STOP: TOTAL NO. OF ITERATIONS REACHED LIMIT.\n",
      "\n",
      "Increase the number of iterations (max_iter) or scale the data as shown in:\n",
      "    https://scikit-learn.org/stable/modules/preprocessing.html\n",
      "Please also refer to the documentation for alternative solver options:\n",
      "    https://scikit-learn.org/stable/modules/linear_model.html#logistic-regression\n",
      "  n_iter_i = _check_optimize_result(\n",
      "/Users/anton/dev/MARS/correctness-model-internals/venv/lib/python3.11/site-packages/sklearn/linear_model/_logistic.py:469: ConvergenceWarning: lbfgs failed to converge (status=1):\n",
      "STOP: TOTAL NO. OF ITERATIONS REACHED LIMIT.\n",
      "\n",
      "Increase the number of iterations (max_iter) or scale the data as shown in:\n",
      "    https://scikit-learn.org/stable/modules/preprocessing.html\n",
      "Please also refer to the documentation for alternative solver options:\n",
      "    https://scikit-learn.org/stable/modules/linear_model.html#logistic-regression\n",
      "  n_iter_i = _check_optimize_result(\n",
      "/Users/anton/dev/MARS/correctness-model-internals/venv/lib/python3.11/site-packages/sklearn/linear_model/_logistic.py:469: ConvergenceWarning: lbfgs failed to converge (status=1):\n",
      "STOP: TOTAL NO. OF ITERATIONS REACHED LIMIT.\n",
      "\n",
      "Increase the number of iterations (max_iter) or scale the data as shown in:\n",
      "    https://scikit-learn.org/stable/modules/preprocessing.html\n",
      "Please also refer to the documentation for alternative solver options:\n",
      "    https://scikit-learn.org/stable/modules/linear_model.html#logistic-regression\n",
      "  n_iter_i = _check_optimize_result(\n"
     ]
    },
    {
     "name": "stdout",
     "output_type": "stream",
     "text": [
      "layer=1, "
     ]
    },
    {
     "name": "stderr",
     "output_type": "stream",
     "text": [
      "/Users/anton/dev/MARS/correctness-model-internals/venv/lib/python3.11/site-packages/sklearn/linear_model/_logistic.py:469: ConvergenceWarning: lbfgs failed to converge (status=1):\n",
      "STOP: TOTAL NO. OF ITERATIONS REACHED LIMIT.\n",
      "\n",
      "Increase the number of iterations (max_iter) or scale the data as shown in:\n",
      "    https://scikit-learn.org/stable/modules/preprocessing.html\n",
      "Please also refer to the documentation for alternative solver options:\n",
      "    https://scikit-learn.org/stable/modules/linear_model.html#logistic-regression\n",
      "  n_iter_i = _check_optimize_result(\n",
      "/Users/anton/dev/MARS/correctness-model-internals/venv/lib/python3.11/site-packages/sklearn/linear_model/_logistic.py:469: ConvergenceWarning: lbfgs failed to converge (status=1):\n",
      "STOP: TOTAL NO. OF ITERATIONS REACHED LIMIT.\n",
      "\n",
      "Increase the number of iterations (max_iter) or scale the data as shown in:\n",
      "    https://scikit-learn.org/stable/modules/preprocessing.html\n",
      "Please also refer to the documentation for alternative solver options:\n",
      "    https://scikit-learn.org/stable/modules/linear_model.html#logistic-regression\n",
      "  n_iter_i = _check_optimize_result(\n",
      "/Users/anton/dev/MARS/correctness-model-internals/venv/lib/python3.11/site-packages/sklearn/linear_model/_logistic.py:469: ConvergenceWarning: lbfgs failed to converge (status=1):\n",
      "STOP: TOTAL NO. OF ITERATIONS REACHED LIMIT.\n",
      "\n",
      "Increase the number of iterations (max_iter) or scale the data as shown in:\n",
      "    https://scikit-learn.org/stable/modules/preprocessing.html\n",
      "Please also refer to the documentation for alternative solver options:\n",
      "    https://scikit-learn.org/stable/modules/linear_model.html#logistic-regression\n",
      "  n_iter_i = _check_optimize_result(\n",
      "/Users/anton/dev/MARS/correctness-model-internals/venv/lib/python3.11/site-packages/sklearn/linear_model/_logistic.py:469: ConvergenceWarning: lbfgs failed to converge (status=1):\n",
      "STOP: TOTAL NO. OF ITERATIONS REACHED LIMIT.\n",
      "\n",
      "Increase the number of iterations (max_iter) or scale the data as shown in:\n",
      "    https://scikit-learn.org/stable/modules/preprocessing.html\n",
      "Please also refer to the documentation for alternative solver options:\n",
      "    https://scikit-learn.org/stable/modules/linear_model.html#logistic-regression\n",
      "  n_iter_i = _check_optimize_result(\n",
      "/Users/anton/dev/MARS/correctness-model-internals/venv/lib/python3.11/site-packages/sklearn/linear_model/_logistic.py:469: ConvergenceWarning: lbfgs failed to converge (status=1):\n",
      "STOP: TOTAL NO. OF ITERATIONS REACHED LIMIT.\n",
      "\n",
      "Increase the number of iterations (max_iter) or scale the data as shown in:\n",
      "    https://scikit-learn.org/stable/modules/preprocessing.html\n",
      "Please also refer to the documentation for alternative solver options:\n",
      "    https://scikit-learn.org/stable/modules/linear_model.html#logistic-regression\n",
      "  n_iter_i = _check_optimize_result(\n"
     ]
    },
    {
     "name": "stdout",
     "output_type": "stream",
     "text": [
      "layer=2, "
     ]
    },
    {
     "name": "stderr",
     "output_type": "stream",
     "text": [
      "/Users/anton/dev/MARS/correctness-model-internals/venv/lib/python3.11/site-packages/sklearn/linear_model/_logistic.py:469: ConvergenceWarning: lbfgs failed to converge (status=1):\n",
      "STOP: TOTAL NO. OF ITERATIONS REACHED LIMIT.\n",
      "\n",
      "Increase the number of iterations (max_iter) or scale the data as shown in:\n",
      "    https://scikit-learn.org/stable/modules/preprocessing.html\n",
      "Please also refer to the documentation for alternative solver options:\n",
      "    https://scikit-learn.org/stable/modules/linear_model.html#logistic-regression\n",
      "  n_iter_i = _check_optimize_result(\n",
      "/Users/anton/dev/MARS/correctness-model-internals/venv/lib/python3.11/site-packages/sklearn/linear_model/_logistic.py:469: ConvergenceWarning: lbfgs failed to converge (status=1):\n",
      "STOP: TOTAL NO. OF ITERATIONS REACHED LIMIT.\n",
      "\n",
      "Increase the number of iterations (max_iter) or scale the data as shown in:\n",
      "    https://scikit-learn.org/stable/modules/preprocessing.html\n",
      "Please also refer to the documentation for alternative solver options:\n",
      "    https://scikit-learn.org/stable/modules/linear_model.html#logistic-regression\n",
      "  n_iter_i = _check_optimize_result(\n",
      "/Users/anton/dev/MARS/correctness-model-internals/venv/lib/python3.11/site-packages/sklearn/linear_model/_logistic.py:469: ConvergenceWarning: lbfgs failed to converge (status=1):\n",
      "STOP: TOTAL NO. OF ITERATIONS REACHED LIMIT.\n",
      "\n",
      "Increase the number of iterations (max_iter) or scale the data as shown in:\n",
      "    https://scikit-learn.org/stable/modules/preprocessing.html\n",
      "Please also refer to the documentation for alternative solver options:\n",
      "    https://scikit-learn.org/stable/modules/linear_model.html#logistic-regression\n",
      "  n_iter_i = _check_optimize_result(\n",
      "/Users/anton/dev/MARS/correctness-model-internals/venv/lib/python3.11/site-packages/sklearn/linear_model/_logistic.py:469: ConvergenceWarning: lbfgs failed to converge (status=1):\n",
      "STOP: TOTAL NO. OF ITERATIONS REACHED LIMIT.\n",
      "\n",
      "Increase the number of iterations (max_iter) or scale the data as shown in:\n",
      "    https://scikit-learn.org/stable/modules/preprocessing.html\n",
      "Please also refer to the documentation for alternative solver options:\n",
      "    https://scikit-learn.org/stable/modules/linear_model.html#logistic-regression\n",
      "  n_iter_i = _check_optimize_result(\n",
      "/Users/anton/dev/MARS/correctness-model-internals/venv/lib/python3.11/site-packages/sklearn/linear_model/_logistic.py:469: ConvergenceWarning: lbfgs failed to converge (status=1):\n",
      "STOP: TOTAL NO. OF ITERATIONS REACHED LIMIT.\n",
      "\n",
      "Increase the number of iterations (max_iter) or scale the data as shown in:\n",
      "    https://scikit-learn.org/stable/modules/preprocessing.html\n",
      "Please also refer to the documentation for alternative solver options:\n",
      "    https://scikit-learn.org/stable/modules/linear_model.html#logistic-regression\n",
      "  n_iter_i = _check_optimize_result(\n"
     ]
    },
    {
     "name": "stdout",
     "output_type": "stream",
     "text": [
      "layer=3, "
     ]
    },
    {
     "name": "stderr",
     "output_type": "stream",
     "text": [
      "/Users/anton/dev/MARS/correctness-model-internals/venv/lib/python3.11/site-packages/sklearn/linear_model/_logistic.py:469: ConvergenceWarning: lbfgs failed to converge (status=1):\n",
      "STOP: TOTAL NO. OF ITERATIONS REACHED LIMIT.\n",
      "\n",
      "Increase the number of iterations (max_iter) or scale the data as shown in:\n",
      "    https://scikit-learn.org/stable/modules/preprocessing.html\n",
      "Please also refer to the documentation for alternative solver options:\n",
      "    https://scikit-learn.org/stable/modules/linear_model.html#logistic-regression\n",
      "  n_iter_i = _check_optimize_result(\n",
      "/Users/anton/dev/MARS/correctness-model-internals/venv/lib/python3.11/site-packages/sklearn/linear_model/_logistic.py:469: ConvergenceWarning: lbfgs failed to converge (status=1):\n",
      "STOP: TOTAL NO. OF ITERATIONS REACHED LIMIT.\n",
      "\n",
      "Increase the number of iterations (max_iter) or scale the data as shown in:\n",
      "    https://scikit-learn.org/stable/modules/preprocessing.html\n",
      "Please also refer to the documentation for alternative solver options:\n",
      "    https://scikit-learn.org/stable/modules/linear_model.html#logistic-regression\n",
      "  n_iter_i = _check_optimize_result(\n",
      "/Users/anton/dev/MARS/correctness-model-internals/venv/lib/python3.11/site-packages/sklearn/linear_model/_logistic.py:469: ConvergenceWarning: lbfgs failed to converge (status=1):\n",
      "STOP: TOTAL NO. OF ITERATIONS REACHED LIMIT.\n",
      "\n",
      "Increase the number of iterations (max_iter) or scale the data as shown in:\n",
      "    https://scikit-learn.org/stable/modules/preprocessing.html\n",
      "Please also refer to the documentation for alternative solver options:\n",
      "    https://scikit-learn.org/stable/modules/linear_model.html#logistic-regression\n",
      "  n_iter_i = _check_optimize_result(\n",
      "/Users/anton/dev/MARS/correctness-model-internals/venv/lib/python3.11/site-packages/sklearn/linear_model/_logistic.py:469: ConvergenceWarning: lbfgs failed to converge (status=1):\n",
      "STOP: TOTAL NO. OF ITERATIONS REACHED LIMIT.\n",
      "\n",
      "Increase the number of iterations (max_iter) or scale the data as shown in:\n",
      "    https://scikit-learn.org/stable/modules/preprocessing.html\n",
      "Please also refer to the documentation for alternative solver options:\n",
      "    https://scikit-learn.org/stable/modules/linear_model.html#logistic-regression\n",
      "  n_iter_i = _check_optimize_result(\n",
      "/Users/anton/dev/MARS/correctness-model-internals/venv/lib/python3.11/site-packages/sklearn/linear_model/_logistic.py:469: ConvergenceWarning: lbfgs failed to converge (status=1):\n",
      "STOP: TOTAL NO. OF ITERATIONS REACHED LIMIT.\n",
      "\n",
      "Increase the number of iterations (max_iter) or scale the data as shown in:\n",
      "    https://scikit-learn.org/stable/modules/preprocessing.html\n",
      "Please also refer to the documentation for alternative solver options:\n",
      "    https://scikit-learn.org/stable/modules/linear_model.html#logistic-regression\n",
      "  n_iter_i = _check_optimize_result(\n"
     ]
    },
    {
     "name": "stdout",
     "output_type": "stream",
     "text": [
      "layer=4, "
     ]
    },
    {
     "name": "stderr",
     "output_type": "stream",
     "text": [
      "/Users/anton/dev/MARS/correctness-model-internals/venv/lib/python3.11/site-packages/sklearn/linear_model/_logistic.py:469: ConvergenceWarning: lbfgs failed to converge (status=1):\n",
      "STOP: TOTAL NO. OF ITERATIONS REACHED LIMIT.\n",
      "\n",
      "Increase the number of iterations (max_iter) or scale the data as shown in:\n",
      "    https://scikit-learn.org/stable/modules/preprocessing.html\n",
      "Please also refer to the documentation for alternative solver options:\n",
      "    https://scikit-learn.org/stable/modules/linear_model.html#logistic-regression\n",
      "  n_iter_i = _check_optimize_result(\n",
      "/Users/anton/dev/MARS/correctness-model-internals/venv/lib/python3.11/site-packages/sklearn/metrics/_classification.py:1509: UndefinedMetricWarning: Precision is ill-defined and being set to 0.0 due to no predicted samples. Use `zero_division` parameter to control this behavior.\n",
      "  _warn_prf(average, modifier, f\"{metric.capitalize()} is\", len(result))\n"
     ]
    },
    {
     "name": "stdout",
     "output_type": "stream",
     "text": [
      "layer=5, layer=6, "
     ]
    },
    {
     "name": "stderr",
     "output_type": "stream",
     "text": [
      "/Users/anton/dev/MARS/correctness-model-internals/venv/lib/python3.11/site-packages/sklearn/metrics/_classification.py:1509: UndefinedMetricWarning: Precision is ill-defined and being set to 0.0 due to no predicted samples. Use `zero_division` parameter to control this behavior.\n",
      "  _warn_prf(average, modifier, f\"{metric.capitalize()} is\", len(result))\n",
      "/Users/anton/dev/MARS/correctness-model-internals/venv/lib/python3.11/site-packages/sklearn/metrics/_classification.py:1509: UndefinedMetricWarning: Precision is ill-defined and being set to 0.0 due to no predicted samples. Use `zero_division` parameter to control this behavior.\n",
      "  _warn_prf(average, modifier, f\"{metric.capitalize()} is\", len(result))\n",
      "/Users/anton/dev/MARS/correctness-model-internals/venv/lib/python3.11/site-packages/sklearn/metrics/_classification.py:1509: UndefinedMetricWarning: Precision is ill-defined and being set to 0.0 due to no predicted samples. Use `zero_division` parameter to control this behavior.\n",
      "  _warn_prf(average, modifier, f\"{metric.capitalize()} is\", len(result))\n"
     ]
    },
    {
     "name": "stdout",
     "output_type": "stream",
     "text": [
      "layer=7, "
     ]
    },
    {
     "name": "stderr",
     "output_type": "stream",
     "text": [
      "/Users/anton/dev/MARS/correctness-model-internals/venv/lib/python3.11/site-packages/sklearn/metrics/_classification.py:1509: UndefinedMetricWarning: Precision is ill-defined and being set to 0.0 due to no predicted samples. Use `zero_division` parameter to control this behavior.\n",
      "  _warn_prf(average, modifier, f\"{metric.capitalize()} is\", len(result))\n",
      "/Users/anton/dev/MARS/correctness-model-internals/venv/lib/python3.11/site-packages/sklearn/metrics/_classification.py:1509: UndefinedMetricWarning: Precision is ill-defined and being set to 0.0 due to no predicted samples. Use `zero_division` parameter to control this behavior.\n",
      "  _warn_prf(average, modifier, f\"{metric.capitalize()} is\", len(result))\n",
      "/Users/anton/dev/MARS/correctness-model-internals/venv/lib/python3.11/site-packages/sklearn/metrics/_classification.py:1509: UndefinedMetricWarning: Precision is ill-defined and being set to 0.0 due to no predicted samples. Use `zero_division` parameter to control this behavior.\n",
      "  _warn_prf(average, modifier, f\"{metric.capitalize()} is\", len(result))\n",
      "/Users/anton/dev/MARS/correctness-model-internals/venv/lib/python3.11/site-packages/sklearn/metrics/_classification.py:1509: UndefinedMetricWarning: Precision is ill-defined and being set to 0.0 due to no predicted samples. Use `zero_division` parameter to control this behavior.\n",
      "  _warn_prf(average, modifier, f\"{metric.capitalize()} is\", len(result))\n"
     ]
    },
    {
     "name": "stdout",
     "output_type": "stream",
     "text": [
      "layer=8, layer=9, "
     ]
    },
    {
     "name": "stderr",
     "output_type": "stream",
     "text": [
      "/Users/anton/dev/MARS/correctness-model-internals/venv/lib/python3.11/site-packages/sklearn/metrics/_classification.py:1509: UndefinedMetricWarning: Precision is ill-defined and being set to 0.0 due to no predicted samples. Use `zero_division` parameter to control this behavior.\n",
      "  _warn_prf(average, modifier, f\"{metric.capitalize()} is\", len(result))\n"
     ]
    },
    {
     "name": "stdout",
     "output_type": "stream",
     "text": [
      "layer=10, "
     ]
    },
    {
     "name": "stderr",
     "output_type": "stream",
     "text": [
      "/Users/anton/dev/MARS/correctness-model-internals/venv/lib/python3.11/site-packages/sklearn/metrics/_classification.py:1509: UndefinedMetricWarning: Precision is ill-defined and being set to 0.0 due to no predicted samples. Use `zero_division` parameter to control this behavior.\n",
      "  _warn_prf(average, modifier, f\"{metric.capitalize()} is\", len(result))\n"
     ]
    },
    {
     "name": "stdout",
     "output_type": "stream",
     "text": [
      "layer=11, "
     ]
    },
    {
     "name": "stderr",
     "output_type": "stream",
     "text": [
      "/Users/anton/dev/MARS/correctness-model-internals/venv/lib/python3.11/site-packages/sklearn/metrics/_classification.py:1509: UndefinedMetricWarning: Precision is ill-defined and being set to 0.0 due to no predicted samples. Use `zero_division` parameter to control this behavior.\n",
      "  _warn_prf(average, modifier, f\"{metric.capitalize()} is\", len(result))\n"
     ]
    },
    {
     "name": "stdout",
     "output_type": "stream",
     "text": [
      "layer=12, layer=13, layer=14, layer=15, "
     ]
    },
    {
     "name": "stderr",
     "output_type": "stream",
     "text": [
      "/Users/anton/dev/MARS/correctness-model-internals/venv/lib/python3.11/site-packages/sklearn/metrics/_classification.py:1509: UndefinedMetricWarning: Precision is ill-defined and being set to 0.0 due to no predicted samples. Use `zero_division` parameter to control this behavior.\n",
      "  _warn_prf(average, modifier, f\"{metric.capitalize()} is\", len(result))\n"
     ]
    },
    {
     "name": "stdout",
     "output_type": "stream",
     "text": [
      "layer=16, layer=17, layer=18, layer=19, layer=20, layer=21, layer=22, layer=23, layer=24, layer=25, layer=26, layer=27, layer=28, layer=29, layer=30, layer=31, "
     ]
    },
    {
     "name": "stderr",
     "output_type": "stream",
     "text": [
      "/Users/anton/dev/MARS/correctness-model-internals/venv/lib/python3.11/site-packages/sklearn/metrics/_classification.py:1509: UndefinedMetricWarning: Precision is ill-defined and being set to 0.0 due to no predicted samples. Use `zero_division` parameter to control this behavior.\n",
      "  _warn_prf(average, modifier, f\"{metric.capitalize()} is\", len(result))\n"
     ]
    },
    {
     "data": {
      "text/html": [
       "<div>\n",
       "<style scoped>\n",
       "    .dataframe tbody tr th:only-of-type {\n",
       "        vertical-align: middle;\n",
       "    }\n",
       "\n",
       "    .dataframe tbody tr th {\n",
       "        vertical-align: top;\n",
       "    }\n",
       "\n",
       "    .dataframe thead th {\n",
       "        text-align: right;\n",
       "    }\n",
       "</style>\n",
       "<table border=\"1\" class=\"dataframe\">\n",
       "  <thead>\n",
       "    <tr style=\"text-align: right;\">\n",
       "      <th></th>\n",
       "      <th>model_id</th>\n",
       "      <th>train_dataset_ids</th>\n",
       "      <th>test_dataset_id</th>\n",
       "      <th>prompt_id</th>\n",
       "      <th>subset_id</th>\n",
       "      <th>input_type</th>\n",
       "      <th>layer</th>\n",
       "      <th>fold</th>\n",
       "      <th>direction_optimal_cut</th>\n",
       "      <th>direction_optimal_train_set_cut</th>\n",
       "      <th>...</th>\n",
       "      <th>direction_f1_score</th>\n",
       "      <th>direction_precision_score</th>\n",
       "      <th>direction_recall_score</th>\n",
       "      <th>logistic_regression_optimal_cut</th>\n",
       "      <th>logistic_regression_optimal_train_set_cut</th>\n",
       "      <th>logistic_regression_test_roc_auc</th>\n",
       "      <th>logistic_regression_accuracy_score</th>\n",
       "      <th>logistic_regression_f1_score</th>\n",
       "      <th>logistic_regression_precision_score</th>\n",
       "      <th>logistic_regression_recall_score</th>\n",
       "    </tr>\n",
       "  </thead>\n",
       "  <tbody>\n",
       "    <tr>\n",
       "      <th>0</th>\n",
       "      <td>llama3.1_8b_chat</td>\n",
       "      <td>[medals_9k, birth_years_4k, cities_10k]</td>\n",
       "      <td>football_leagues_1k</td>\n",
       "      <td>base</td>\n",
       "      <td>main</td>\n",
       "      <td>prompt_answer</td>\n",
       "      <td>0</td>\n",
       "      <td>0</td>\n",
       "      <td>-0.104880</td>\n",
       "      <td>-0.104880</td>\n",
       "      <td>...</td>\n",
       "      <td>0.637363</td>\n",
       "      <td>0.500000</td>\n",
       "      <td>0.878788</td>\n",
       "      <td>0.5</td>\n",
       "      <td>0.512922</td>\n",
       "      <td>0.523416</td>\n",
       "      <td>0.515152</td>\n",
       "      <td>0.448276</td>\n",
       "      <td>0.520000</td>\n",
       "      <td>0.393939</td>\n",
       "    </tr>\n",
       "    <tr>\n",
       "      <th>1</th>\n",
       "      <td>llama3.1_8b_chat</td>\n",
       "      <td>[medals_9k, birth_years_4k, cities_10k]</td>\n",
       "      <td>medals_9k</td>\n",
       "      <td>base</td>\n",
       "      <td>main</td>\n",
       "      <td>prompt_answer</td>\n",
       "      <td>0</td>\n",
       "      <td>0</td>\n",
       "      <td>-0.104880</td>\n",
       "      <td>-0.104880</td>\n",
       "      <td>...</td>\n",
       "      <td>0.636730</td>\n",
       "      <td>0.543756</td>\n",
       "      <td>0.768056</td>\n",
       "      <td>0.5</td>\n",
       "      <td>0.512922</td>\n",
       "      <td>0.761444</td>\n",
       "      <td>0.710417</td>\n",
       "      <td>0.712215</td>\n",
       "      <td>0.707819</td>\n",
       "      <td>0.716667</td>\n",
       "    </tr>\n",
       "    <tr>\n",
       "      <th>2</th>\n",
       "      <td>llama3.1_8b_chat</td>\n",
       "      <td>[medals_9k, birth_years_4k, cities_10k]</td>\n",
       "      <td>birth_years_4k</td>\n",
       "      <td>base</td>\n",
       "      <td>main</td>\n",
       "      <td>prompt_answer</td>\n",
       "      <td>0</td>\n",
       "      <td>0</td>\n",
       "      <td>-0.104880</td>\n",
       "      <td>-0.104880</td>\n",
       "      <td>...</td>\n",
       "      <td>0.545932</td>\n",
       "      <td>0.553191</td>\n",
       "      <td>0.538860</td>\n",
       "      <td>0.5</td>\n",
       "      <td>0.512922</td>\n",
       "      <td>0.583371</td>\n",
       "      <td>0.588083</td>\n",
       "      <td>0.605459</td>\n",
       "      <td>0.580952</td>\n",
       "      <td>0.632124</td>\n",
       "    </tr>\n",
       "    <tr>\n",
       "      <th>3</th>\n",
       "      <td>llama3.1_8b_chat</td>\n",
       "      <td>[medals_9k, birth_years_4k, cities_10k]</td>\n",
       "      <td>cities_10k</td>\n",
       "      <td>base</td>\n",
       "      <td>main</td>\n",
       "      <td>prompt_answer</td>\n",
       "      <td>0</td>\n",
       "      <td>0</td>\n",
       "      <td>-0.104880</td>\n",
       "      <td>-0.104880</td>\n",
       "      <td>...</td>\n",
       "      <td>0.680504</td>\n",
       "      <td>0.557039</td>\n",
       "      <td>0.874286</td>\n",
       "      <td>0.5</td>\n",
       "      <td>0.512922</td>\n",
       "      <td>0.653194</td>\n",
       "      <td>0.604762</td>\n",
       "      <td>0.628469</td>\n",
       "      <td>0.592905</td>\n",
       "      <td>0.668571</td>\n",
       "    </tr>\n",
       "    <tr>\n",
       "      <th>4</th>\n",
       "      <td>llama3.1_8b_chat</td>\n",
       "      <td>[medals_9k, birth_years_4k, cities_10k]</td>\n",
       "      <td>football_leagues_1k</td>\n",
       "      <td>base</td>\n",
       "      <td>main</td>\n",
       "      <td>prompt_answer</td>\n",
       "      <td>0</td>\n",
       "      <td>1</td>\n",
       "      <td>-0.085766</td>\n",
       "      <td>-0.085766</td>\n",
       "      <td>...</td>\n",
       "      <td>0.635294</td>\n",
       "      <td>0.519231</td>\n",
       "      <td>0.818182</td>\n",
       "      <td>0.5</td>\n",
       "      <td>0.524956</td>\n",
       "      <td>0.539945</td>\n",
       "      <td>0.515152</td>\n",
       "      <td>0.500000</td>\n",
       "      <td>0.516129</td>\n",
       "      <td>0.484848</td>\n",
       "    </tr>\n",
       "    <tr>\n",
       "      <th>...</th>\n",
       "      <td>...</td>\n",
       "      <td>...</td>\n",
       "      <td>...</td>\n",
       "      <td>...</td>\n",
       "      <td>...</td>\n",
       "      <td>...</td>\n",
       "      <td>...</td>\n",
       "      <td>...</td>\n",
       "      <td>...</td>\n",
       "      <td>...</td>\n",
       "      <td>...</td>\n",
       "      <td>...</td>\n",
       "      <td>...</td>\n",
       "      <td>...</td>\n",
       "      <td>...</td>\n",
       "      <td>...</td>\n",
       "      <td>...</td>\n",
       "      <td>...</td>\n",
       "      <td>...</td>\n",
       "      <td>...</td>\n",
       "      <td>...</td>\n",
       "    </tr>\n",
       "    <tr>\n",
       "      <th>1275</th>\n",
       "      <td>llama3.1_8b_chat</td>\n",
       "      <td>[birth_years_4k, cities_10k, medals_9k]</td>\n",
       "      <td>medals_9k</td>\n",
       "      <td>base</td>\n",
       "      <td>main</td>\n",
       "      <td>prompt_only</td>\n",
       "      <td>31</td>\n",
       "      <td>3</td>\n",
       "      <td>7.130029</td>\n",
       "      <td>7.130029</td>\n",
       "      <td>...</td>\n",
       "      <td>0.537715</td>\n",
       "      <td>0.581583</td>\n",
       "      <td>0.500000</td>\n",
       "      <td>0.5</td>\n",
       "      <td>0.492002</td>\n",
       "      <td>0.726635</td>\n",
       "      <td>0.685417</td>\n",
       "      <td>0.690785</td>\n",
       "      <td>0.679195</td>\n",
       "      <td>0.702778</td>\n",
       "    </tr>\n",
       "    <tr>\n",
       "      <th>1276</th>\n",
       "      <td>llama3.1_8b_chat</td>\n",
       "      <td>[birth_years_4k, cities_10k, medals_9k]</td>\n",
       "      <td>birth_years_4k</td>\n",
       "      <td>base</td>\n",
       "      <td>main</td>\n",
       "      <td>prompt_only</td>\n",
       "      <td>31</td>\n",
       "      <td>4</td>\n",
       "      <td>4.809654</td>\n",
       "      <td>4.809654</td>\n",
       "      <td>...</td>\n",
       "      <td>0.428135</td>\n",
       "      <td>0.522388</td>\n",
       "      <td>0.362694</td>\n",
       "      <td>0.5</td>\n",
       "      <td>0.462916</td>\n",
       "      <td>0.781900</td>\n",
       "      <td>0.727979</td>\n",
       "      <td>0.720000</td>\n",
       "      <td>0.741758</td>\n",
       "      <td>0.699482</td>\n",
       "    </tr>\n",
       "    <tr>\n",
       "      <th>1277</th>\n",
       "      <td>llama3.1_8b_chat</td>\n",
       "      <td>[birth_years_4k, cities_10k, medals_9k]</td>\n",
       "      <td>cities_10k</td>\n",
       "      <td>base</td>\n",
       "      <td>main</td>\n",
       "      <td>prompt_only</td>\n",
       "      <td>31</td>\n",
       "      <td>4</td>\n",
       "      <td>4.809654</td>\n",
       "      <td>4.809654</td>\n",
       "      <td>...</td>\n",
       "      <td>0.482850</td>\n",
       "      <td>0.785408</td>\n",
       "      <td>0.348571</td>\n",
       "      <td>0.5</td>\n",
       "      <td>0.462916</td>\n",
       "      <td>0.774984</td>\n",
       "      <td>0.728571</td>\n",
       "      <td>0.721408</td>\n",
       "      <td>0.740964</td>\n",
       "      <td>0.702857</td>\n",
       "    </tr>\n",
       "    <tr>\n",
       "      <th>1278</th>\n",
       "      <td>llama3.1_8b_chat</td>\n",
       "      <td>[birth_years_4k, cities_10k, medals_9k]</td>\n",
       "      <td>football_leagues_1k</td>\n",
       "      <td>base</td>\n",
       "      <td>main</td>\n",
       "      <td>prompt_only</td>\n",
       "      <td>31</td>\n",
       "      <td>4</td>\n",
       "      <td>4.809654</td>\n",
       "      <td>4.809654</td>\n",
       "      <td>...</td>\n",
       "      <td>0.363636</td>\n",
       "      <td>0.727273</td>\n",
       "      <td>0.242424</td>\n",
       "      <td>0.5</td>\n",
       "      <td>0.462916</td>\n",
       "      <td>0.489440</td>\n",
       "      <td>0.469697</td>\n",
       "      <td>0.461538</td>\n",
       "      <td>0.468750</td>\n",
       "      <td>0.454545</td>\n",
       "    </tr>\n",
       "    <tr>\n",
       "      <th>1279</th>\n",
       "      <td>llama3.1_8b_chat</td>\n",
       "      <td>[birth_years_4k, cities_10k, medals_9k]</td>\n",
       "      <td>medals_9k</td>\n",
       "      <td>base</td>\n",
       "      <td>main</td>\n",
       "      <td>prompt_only</td>\n",
       "      <td>31</td>\n",
       "      <td>4</td>\n",
       "      <td>4.809654</td>\n",
       "      <td>4.809654</td>\n",
       "      <td>...</td>\n",
       "      <td>0.548824</td>\n",
       "      <td>0.563690</td>\n",
       "      <td>0.534722</td>\n",
       "      <td>0.5</td>\n",
       "      <td>0.462916</td>\n",
       "      <td>0.725363</td>\n",
       "      <td>0.686806</td>\n",
       "      <td>0.688751</td>\n",
       "      <td>0.684499</td>\n",
       "      <td>0.693056</td>\n",
       "    </tr>\n",
       "  </tbody>\n",
       "</table>\n",
       "<p>1280 rows × 22 columns</p>\n",
       "</div>"
      ],
      "text/plain": [
       "              model_id                        train_dataset_ids  \\\n",
       "0     llama3.1_8b_chat  [medals_9k, birth_years_4k, cities_10k]   \n",
       "1     llama3.1_8b_chat  [medals_9k, birth_years_4k, cities_10k]   \n",
       "2     llama3.1_8b_chat  [medals_9k, birth_years_4k, cities_10k]   \n",
       "3     llama3.1_8b_chat  [medals_9k, birth_years_4k, cities_10k]   \n",
       "4     llama3.1_8b_chat  [medals_9k, birth_years_4k, cities_10k]   \n",
       "...                ...                                      ...   \n",
       "1275  llama3.1_8b_chat  [birth_years_4k, cities_10k, medals_9k]   \n",
       "1276  llama3.1_8b_chat  [birth_years_4k, cities_10k, medals_9k]   \n",
       "1277  llama3.1_8b_chat  [birth_years_4k, cities_10k, medals_9k]   \n",
       "1278  llama3.1_8b_chat  [birth_years_4k, cities_10k, medals_9k]   \n",
       "1279  llama3.1_8b_chat  [birth_years_4k, cities_10k, medals_9k]   \n",
       "\n",
       "          test_dataset_id prompt_id subset_id     input_type  layer  fold  \\\n",
       "0     football_leagues_1k      base      main  prompt_answer      0     0   \n",
       "1               medals_9k      base      main  prompt_answer      0     0   \n",
       "2          birth_years_4k      base      main  prompt_answer      0     0   \n",
       "3              cities_10k      base      main  prompt_answer      0     0   \n",
       "4     football_leagues_1k      base      main  prompt_answer      0     1   \n",
       "...                   ...       ...       ...            ...    ...   ...   \n",
       "1275            medals_9k      base      main    prompt_only     31     3   \n",
       "1276       birth_years_4k      base      main    prompt_only     31     4   \n",
       "1277           cities_10k      base      main    prompt_only     31     4   \n",
       "1278  football_leagues_1k      base      main    prompt_only     31     4   \n",
       "1279            medals_9k      base      main    prompt_only     31     4   \n",
       "\n",
       "      direction_optimal_cut  direction_optimal_train_set_cut  ...  \\\n",
       "0                 -0.104880                        -0.104880  ...   \n",
       "1                 -0.104880                        -0.104880  ...   \n",
       "2                 -0.104880                        -0.104880  ...   \n",
       "3                 -0.104880                        -0.104880  ...   \n",
       "4                 -0.085766                        -0.085766  ...   \n",
       "...                     ...                              ...  ...   \n",
       "1275               7.130029                         7.130029  ...   \n",
       "1276               4.809654                         4.809654  ...   \n",
       "1277               4.809654                         4.809654  ...   \n",
       "1278               4.809654                         4.809654  ...   \n",
       "1279               4.809654                         4.809654  ...   \n",
       "\n",
       "      direction_f1_score  direction_precision_score  direction_recall_score  \\\n",
       "0               0.637363                   0.500000                0.878788   \n",
       "1               0.636730                   0.543756                0.768056   \n",
       "2               0.545932                   0.553191                0.538860   \n",
       "3               0.680504                   0.557039                0.874286   \n",
       "4               0.635294                   0.519231                0.818182   \n",
       "...                  ...                        ...                     ...   \n",
       "1275            0.537715                   0.581583                0.500000   \n",
       "1276            0.428135                   0.522388                0.362694   \n",
       "1277            0.482850                   0.785408                0.348571   \n",
       "1278            0.363636                   0.727273                0.242424   \n",
       "1279            0.548824                   0.563690                0.534722   \n",
       "\n",
       "      logistic_regression_optimal_cut  \\\n",
       "0                                 0.5   \n",
       "1                                 0.5   \n",
       "2                                 0.5   \n",
       "3                                 0.5   \n",
       "4                                 0.5   \n",
       "...                               ...   \n",
       "1275                              0.5   \n",
       "1276                              0.5   \n",
       "1277                              0.5   \n",
       "1278                              0.5   \n",
       "1279                              0.5   \n",
       "\n",
       "      logistic_regression_optimal_train_set_cut  \\\n",
       "0                                      0.512922   \n",
       "1                                      0.512922   \n",
       "2                                      0.512922   \n",
       "3                                      0.512922   \n",
       "4                                      0.524956   \n",
       "...                                         ...   \n",
       "1275                                   0.492002   \n",
       "1276                                   0.462916   \n",
       "1277                                   0.462916   \n",
       "1278                                   0.462916   \n",
       "1279                                   0.462916   \n",
       "\n",
       "      logistic_regression_test_roc_auc  logistic_regression_accuracy_score  \\\n",
       "0                             0.523416                            0.515152   \n",
       "1                             0.761444                            0.710417   \n",
       "2                             0.583371                            0.588083   \n",
       "3                             0.653194                            0.604762   \n",
       "4                             0.539945                            0.515152   \n",
       "...                                ...                                 ...   \n",
       "1275                          0.726635                            0.685417   \n",
       "1276                          0.781900                            0.727979   \n",
       "1277                          0.774984                            0.728571   \n",
       "1278                          0.489440                            0.469697   \n",
       "1279                          0.725363                            0.686806   \n",
       "\n",
       "      logistic_regression_f1_score  logistic_regression_precision_score  \\\n",
       "0                         0.448276                             0.520000   \n",
       "1                         0.712215                             0.707819   \n",
       "2                         0.605459                             0.580952   \n",
       "3                         0.628469                             0.592905   \n",
       "4                         0.500000                             0.516129   \n",
       "...                            ...                                  ...   \n",
       "1275                      0.690785                             0.679195   \n",
       "1276                      0.720000                             0.741758   \n",
       "1277                      0.721408                             0.740964   \n",
       "1278                      0.461538                             0.468750   \n",
       "1279                      0.688751                             0.684499   \n",
       "\n",
       "      logistic_regression_recall_score  \n",
       "0                             0.393939  \n",
       "1                             0.716667  \n",
       "2                             0.632124  \n",
       "3                             0.668571  \n",
       "4                             0.484848  \n",
       "...                                ...  \n",
       "1275                          0.702778  \n",
       "1276                          0.699482  \n",
       "1277                          0.702857  \n",
       "1278                          0.454545  \n",
       "1279                          0.693056  \n",
       "\n",
       "[1280 rows x 22 columns]"
      ]
     },
     "execution_count": 6,
     "metadata": {},
     "output_type": "execute_result"
    }
   ],
   "source": [
    "res_dict = defaultdict(list)\n",
    "\n",
    "for (model_id, prompt_id, subset_id, input_type), config_df in activation_exp_configs_df.groupby([\"model_id\", \"prompt_id\", \"subset_id\", \"input_type\"]):\n",
    "    print(f\"\\n{model_id=}, {prompt_id=}, {subset_id=}, {input_type=}\")\n",
    "    \n",
    "    config_df[\"layer\"] = config_df[\"layer\"].astype(int)\n",
    "    config_df = config_df.sort_values(by=\"layer\")\n",
    "\n",
    "    check_indices = {}\n",
    "    for layer, layer_config_df in config_df.groupby(\"layer\"):\n",
    "        print(f\"{layer=}\", end=\", \")\n",
    "\n",
    "        dataset_activation_handlers = {}\n",
    "        for _, row in layer_config_df.iterrows():\n",
    "            dataset_id = row[\"dataset_id\"]\n",
    "\n",
    "            labels_df = load_labels(\n",
    "                model_id=model_id,\n",
    "                dataset_id=dataset_id,\n",
    "                prompt_id=prompt_id,\n",
    "                subset_id=subset_id,\n",
    "            )\n",
    "            activations, indices = load_activations(\n",
    "                model_id=model_id,\n",
    "                dataset_id=dataset_id,\n",
    "                prompt_id=prompt_id,\n",
    "                subset_id=subset_id,\n",
    "                input_type=input_type,\n",
    "                layer=layer,\n",
    "            )\n",
    "\n",
    "            if dataset_id not in check_indices:\n",
    "                check_indices[dataset_id] = indices.sample(frac=1, replace=False)\n",
    "            \n",
    "            if set(indices) != set(check_indices[dataset_id]):\n",
    "                raise RuntimeError(f\"indices across layers are not the same\")\n",
    "\n",
    "            labels_df_subset = labels_df.iloc[check_indices[dataset_id]].reset_index(drop=True)\n",
    "            activations_subset = activations[check_indices[dataset_id]]\n",
    "\n",
    "            # print(f\"{dataset_id=}, {labels_df_subset['correct'].astype(bool).value_counts()=}\")\n",
    "\n",
    "            activations_handler = ActivationsHandler(\n",
    "                activations=activations_subset,\n",
    "                labels=labels_df_subset[\"correct\"].astype(bool),\n",
    "            ).sample_equally_across_groups(\n",
    "                group_labels=[False, True], interleave=True\n",
    "            )\n",
    "\n",
    "            # print(\"activations_handler\", activations_handler.labels.value_counts(), end=\"\\n\\n\")\n",
    "\n",
    "            activations_handler_folds = list(\n",
    "                activations_handler.split_dataset(split_sizes=[1/5] * 5)\n",
    "            )\n",
    "\n",
    "            # print(\"activations_handler_folds\", [ah.labels.value_counts() for ah in activations_handler_folds], end=\"\\n\\n\\n\\n\\n\")\n",
    "\n",
    "\n",
    "            dataset_activation_handlers[dataset_id] = activations_handler_folds\n",
    "            \n",
    "        # if check_indices is None:\n",
    "        #     check_indices = indices.sample(frac=1, replace=False)\n",
    "        \n",
    "        # if set(indices) != set(check_indices):\n",
    "        #     raise RuntimeError(f\"indices across layers are not the same\")\n",
    "\n",
    "        # labels_df_subset = labels_df.iloc[check_indices]\n",
    "        # activations = activations[check_indices]\n",
    "\n",
    "        # activations_handler = ActivationsHandler(\n",
    "        #     activations=activations,\n",
    "        #     labels=labels_df_subset[\"correct\"].astype(bool),\n",
    "        # )\n",
    "\n",
    "        # activations_handler_folds = list(\n",
    "        #     activations_handler.split_dataset(split_sizes=[1/5] * 5)\n",
    "        # )\n",
    "\n",
    "        fold_stats = {}\n",
    "        for fold_i in range(len(list(dataset_activation_handlers.values())[0])):\n",
    "            train_activations_handlers, test_activations_handlers = {}, {}\n",
    "            for dataset_id, ah_folds in dataset_activation_handlers.items():\n",
    "\n",
    "                test_activations_handlers[dataset_id] = ah_folds[fold_i].sample_equally_across_groups(\n",
    "                    group_labels=[False, True], interleave=True\n",
    "                )\n",
    "\n",
    "                if dataset_id == \"football_leagues_1k\":\n",
    "                    continue\n",
    "\n",
    "                train_activations_handlers[dataset_id] = [ah for j, ah in enumerate(ah_folds) if j != fold_i]\n",
    "            \n",
    "            activations_handler_train = combine_activations_handlers(\n",
    "                sum(list(train_activations_handlers.values()), []), # combine the lists\n",
    "                equal_counts=True\n",
    "            ).sample_equally_across_groups(\n",
    "                group_labels=[False, True], interleave=True\n",
    "            )\n",
    "\n",
    "            scaler_model_tuple = None\n",
    "            for test_dataset_id, activations_handler_test in test_activations_handlers.items():\n",
    "                res_dict[\"model_id\"].append(model_id)\n",
    "                res_dict[\"train_dataset_ids\"].append(list(train_activations_handlers.keys()))\n",
    "                res_dict[\"test_dataset_id\"].append(test_dataset_id)\n",
    "                res_dict[\"prompt_id\"].append(prompt_id)\n",
    "                res_dict[\"subset_id\"].append(subset_id)\n",
    "                res_dict[\"input_type\"].append(input_type)\n",
    "                res_dict[\"layer\"].append(layer)\n",
    "                res_dict[\"fold\"].append(fold_i)\n",
    "\n",
    "                direction_classifier, direction_calculator = get_correctness_direction_classifier(\n",
    "                    activations_handler_train=activations_handler_train,\n",
    "                    activations_handler_test=activations_handler_test,\n",
    "                )\n",
    "                # res_dict[\"classifying_direction\"].append(direction_calculator.classifying_direction.tolist())\n",
    "                for key, value in direction_classifier.classification_metrics.items():\n",
    "                    res_dict[f\"direction_{key}\"].append(value)\n",
    "                \n",
    "                logistic_regression_classifier, scaler_model_tuple = get_logistic_regression_classifier(\n",
    "                    activations_handler_train=activations_handler_train,\n",
    "                    activations_handler_test=activations_handler_test,\n",
    "                    scaler_model_tuple=scaler_model_tuple,\n",
    "                )\n",
    "                for key, value in logistic_regression_classifier.classification_metrics.items():\n",
    "                    res_dict[f\"logistic_regression_{key}\"].append(value)\n",
    "\n",
    "\n",
    "\n",
    "res_df = pd.DataFrame(res_dict)\n",
    "res_df"
   ]
  },
  {
   "cell_type": "code",
   "execution_count": 13,
   "metadata": {},
   "outputs": [],
   "source": [
    "res_file = \"./classification_data/res_df_llama31_8B_4_memory_datasets_combined_train_sets.csv\"\n"
   ]
  },
  {
   "cell_type": "code",
   "execution_count": 14,
   "metadata": {},
   "outputs": [],
   "source": [
    "res_df.to_csv(res_file, index=False)"
   ]
  },
  {
   "cell_type": "code",
   "execution_count": 15,
   "metadata": {},
   "outputs": [],
   "source": [
    "res_df = pd.read_csv(res_file)"
   ]
  },
  {
   "cell_type": "code",
   "execution_count": 16,
   "metadata": {},
   "outputs": [],
   "source": [
    "def plot_interactive_lineplot(df_dict, x_label, y_label, title=None, save_path=None):\n",
    "    \"\"\"\n",
    "    df_dict: Dictionary mapping labels to dataframes, where each dataframe contains multiple columns\n",
    "            for the same measurement (e.g., {'Metric 1': df1, 'Metric 2': df2})\n",
    "    \"\"\"\n",
    "    fig = go.Figure()\n",
    "    \n",
    "    # Define a color palette for different metrics\n",
    "    colors = ['#1f77b4', '#ff7f0e', '#2ca02c', '#d62728', '#9467bd', '#8c564b']\n",
    "    \n",
    "    for metric_idx, (metric_name, df) in enumerate(df_dict.items()):\n",
    "        color = colors[metric_idx % len(colors)]\n",
    "        \n",
    "        # Calculate statistics for each column\n",
    "        means = df.mean(axis=1)\n",
    "\n",
    "        # Add mean line\n",
    "        fig.add_trace(go.Scatter(\n",
    "            x=df.index,\n",
    "            y=means,\n",
    "            mode='lines+markers',\n",
    "            line=dict(color=color, width=2),\n",
    "            marker=dict(size=8),\n",
    "            name=f'{metric_name}',\n",
    "            legendgroup=metric_name,\n",
    "        ))\n",
    "\n",
    "        if df.shape[1] > 1:\n",
    "            stds = df.std(axis=1)\n",
    "            mins = df.min(axis=1)\n",
    "            maxs = df.max(axis=1)\n",
    "\n",
    "            # Add min/max range (very faint)\n",
    "            fig.add_trace(go.Scatter(\n",
    "                x=df.index,\n",
    "                y=maxs,\n",
    "                mode='lines',\n",
    "                line=dict(width=0),\n",
    "                showlegend=False,\n",
    "                name=f'{metric_name} Max',\n",
    "                legendgroup=metric_name,\n",
    "            ))\n",
    "            fig.add_trace(go.Scatter(\n",
    "                x=df.index,\n",
    "                y=mins,\n",
    "                mode='lines',\n",
    "                line=dict(width=0),\n",
    "                fillcolor=f'rgba{tuple(list(int(color.lstrip(\"#\")[i:i+2], 16) for i in (0, 2, 4)) + [0.1])}',\n",
    "                fill='tonexty',\n",
    "                showlegend=False,\n",
    "                name=f'{metric_name} Min',\n",
    "                legendgroup=metric_name,\n",
    "            ))\n",
    "\n",
    "            # Add ±1 std range (moderately faint)\n",
    "            fig.add_trace(go.Scatter(\n",
    "                x=df.index,\n",
    "                y=means + stds,\n",
    "                mode='lines',\n",
    "                line=dict(width=0),\n",
    "                showlegend=False,\n",
    "                name=f'{metric_name} +1 STD',\n",
    "                legendgroup=metric_name,\n",
    "            ))\n",
    "            fig.add_trace(go.Scatter(\n",
    "                x=df.index,\n",
    "                y=means - stds,\n",
    "                mode='lines',\n",
    "                line=dict(width=0),\n",
    "                fillcolor=f'rgba{tuple(list(int(color.lstrip(\"#\")[i:i+2], 16) for i in (0, 2, 4)) + [0.3])}',\n",
    "                fill='tonexty',\n",
    "                showlegend=False,\n",
    "                name=f'{metric_name} -1 STD',\n",
    "                legendgroup=metric_name,\n",
    "            ))\n",
    "\n",
    "            # Add individual points for each fold\n",
    "            for col in df.columns:\n",
    "                fig.add_trace(go.Scatter(\n",
    "                    x=df.index,\n",
    "                    y=df[col],\n",
    "                    mode='markers',\n",
    "                    marker=dict(\n",
    "                        color=color,\n",
    "                        size=6,\n",
    "                        opacity=0.5\n",
    "                    ),\n",
    "                    showlegend=False,\n",
    "                    name=f'{metric_name} Fold {col}',\n",
    "                    legendgroup=metric_name,\n",
    "                ))\n",
    "\n",
    "    fig.update_layout(\n",
    "        title=title,\n",
    "        yaxis_title=y_label,\n",
    "        xaxis_title=x_label,\n",
    "        template='plotly_dark',\n",
    "        plot_bgcolor='rgba(32, 32, 32, 1)',\n",
    "        paper_bgcolor='rgba(32, 32, 32, 1)',\n",
    "        font=dict(color='white'),\n",
    "        margin=dict(t=100, l=50, r=30, b=50),  # Increased top margin to accommodate legend\n",
    "        showlegend=True,\n",
    "        legend=dict(\n",
    "            orientation=\"h\",    # Horizontal legend\n",
    "            yanchor=\"bottom\",  \n",
    "            y=1.02,           # Position above the plot\n",
    "            xanchor=\"center\",  # Center horizontally\n",
    "            x=0.5,\n",
    "            bgcolor='rgba(32, 32, 32, 0.8)'  # Semi-transparent background\n",
    "        ),\n",
    "        width=1000,   # Set explicit width in pixels\n",
    "        height=600    # Set explicit height in pixels\n",
    "    )\n",
    "    \n",
    "    # Update axes for consistency with dark theme\n",
    "    fig.update_xaxes(gridcolor='rgba(128, 128, 128, 0.2)', zeroline=False)\n",
    "    fig.update_yaxes(gridcolor='rgba(128, 128, 128, 0.2)', zeroline=False)\n",
    "\n",
    "    # Save the plot if path is provided\n",
    "    if save_path:\n",
    "        if save_path.endswith('.html'):\n",
    "            fig.write_html(save_path)\n",
    "        elif save_path.endswith('.png'):\n",
    "            fig.write_image(save_path)\n",
    "            \n",
    "    \n",
    "    return fig"
   ]
  },
  {
   "cell_type": "code",
   "execution_count": 17,
   "metadata": {},
   "outputs": [
    {
     "name": "stdout",
     "output_type": "stream",
     "text": [
      "conf=('llama3.1_8b_chat', 'birth_years_4k', 'base', 'main', 'prompt_answer')\n",
      "conf=('llama3.1_8b_chat', 'birth_years_4k', 'base', 'main', 'prompt_only')\n",
      "conf=('llama3.1_8b_chat', 'cities_10k', 'base', 'main', 'prompt_answer')\n",
      "conf=('llama3.1_8b_chat', 'cities_10k', 'base', 'main', 'prompt_only')\n",
      "conf=('llama3.1_8b_chat', 'football_leagues_1k', 'base', 'main', 'prompt_answer')\n",
      "conf=('llama3.1_8b_chat', 'football_leagues_1k', 'base', 'main', 'prompt_only')\n",
      "conf=('llama3.1_8b_chat', 'medals_9k', 'base', 'main', 'prompt_answer')\n",
      "conf=('llama3.1_8b_chat', 'medals_9k', 'base', 'main', 'prompt_only')\n"
     ]
    },
    {
     "data": {
      "application/vnd.plotly.v1+json": {
       "config": {
        "plotlyServerURL": "https://plot.ly"
       },
       "data": [
        {
         "legendgroup": "('llama3.1_8b_chat', 'birth_years_4k', 'base', 'main', 'prompt_answer')",
         "line": {
          "color": "#1f77b4",
          "width": 2
         },
         "marker": {
          "size": 8
         },
         "mode": "lines+markers",
         "name": "('llama3.1_8b_chat', 'birth_years_4k', 'base', 'main', 'prompt_answer')",
         "type": "scatter",
         "x": {
          "bdata": "AAECAwQFBgcICQoLDA0ODxAREhMUFRYXGBkaGxwdHh8=",
          "dtype": "i1"
         },
         "y": {
          "bdata": "qsQcP+QN4D8OSOPS3pThP2h7BztQoeA/JrKxoqb/4D/WzdR0tAXhP77DkNeCKeE/97Y8GFuQ4T+O9cYmp/jgPxAQ2G2ccuI/cAqNVHVb4D/bNnyKQ1jiP6Ia/Rxh9uE/GzzHCHCH4j9qTh0JmXHjPzeDqF6sguQ/HpiJ4QJ35D/CP6yERNbkP9P1kqBWJeY/7iym8SqU5T8DFFG85DDlP2Y06zt8kuQ//TnXKSj65D8lIDAio+7kP1rAA9HyqeQ/SvPun5D35D/ryDCat+XkPyTNLaYdauQ/CtdqJyBx5D/eHXp69iLkP5jvZgysyOI/PQrHfQzN4D/4PG3zWNLjPw==",
          "dtype": "f8"
         }
        },
        {
         "legendgroup": "('llama3.1_8b_chat', 'birth_years_4k', 'base', 'main', 'prompt_answer')",
         "line": {
          "width": 0
         },
         "mode": "lines",
         "name": "('llama3.1_8b_chat', 'birth_years_4k', 'base', 'main', 'prompt_answer') Max",
         "showlegend": false,
         "type": "scatter",
         "x": {
          "bdata": "AAECAwQFBgcICQoLDA0ODxAREhMUFRYXGBkaGxwdHh8=",
          "dtype": "i1"
         },
         "y": {
          "bdata": "JP31XMWy4T/hPoL7CO7jP/xoG+ULp+M/XSWNastV4j/iFlAY1WniP2xzusoz8eE/1B+xgDv94T/MMf2TwRzjP0/ZK6wJ9eQ/OL3pTW964z/rXHlAss7lP/b19fX19eU/WomXqR2a5T/k+W1EMJvmP0tT/JIIqeY/8SYTwtCp5j/h5RS8nILnP/CTAI1k1uc/F2zBFmzB5j9GZVRGZVTmP4aK1D8y5uU/bm5ubm5u5j/t0gldrTzlP1VVVVVVVeU/tpLHUAiu5T9ilcj7LmLlP1EaH5lA7+Q/qFChQoUK5T9Ax+a74UflP27btm3btuM/jVvGLeOW4T+XTenOGH3nPw==",
          "dtype": "f8"
         }
        },
        {
         "fill": "tonexty",
         "fillcolor": "rgba(31, 119, 180, 0.1)",
         "legendgroup": "('llama3.1_8b_chat', 'birth_years_4k', 'base', 'main', 'prompt_answer')",
         "line": {
          "width": 0
         },
         "mode": "lines",
         "name": "('llama3.1_8b_chat', 'birth_years_4k', 'base', 'main', 'prompt_answer') Min",
         "showlegend": false,
         "type": "scatter",
         "x": {
          "bdata": "AAECAwQFBgcICQoLDA0ODxAREhMUFRYXGBkaGxwdHh8=",
          "dtype": "i1"
         },
         "y": {
          "bdata": "lFCgEdvr1z+Cif5OVsvbP2hHAu1IoN0/YPqlX/ql3z+c1H15bEXgP9aHxvrQWN8/oGQsqmF24D/vrSMozabbP3UISaVNh+A/3QRt8G/L2T+amZmZmZnZP0+Xf4ROoNw/jdvFhMF32j+SPQNR6cjeP58/5ijdvuI/s1+IFaXx4T8xDMMwDMPgP61htN+U5+I/mv4G3a6V4z/vy2MrgobjP3X5R+gEyuE/1EM91EM95D8SkNJuBKTkP3w0IS9sFeQ/MJV3wrnA5D/PSMXc6ozkP73A2u4s9OM/h9QE463s4z8zMzMzMzPjP7wZ8WbEm+E/YMbpPPqw3z8SpvvFT9LePw==",
          "dtype": "f8"
         }
        },
        {
         "legendgroup": "('llama3.1_8b_chat', 'birth_years_4k', 'base', 'main', 'prompt_answer')",
         "line": {
          "width": 0
         },
         "mode": "lines",
         "name": "('llama3.1_8b_chat', 'birth_years_4k', 'base', 'main', 'prompt_answer') +1 STD",
         "showlegend": false,
         "type": "scatter",
         "x": {
          "bdata": "AAECAwQFBgcICQoLDA0ODxAREhMUFRYXGBkaGxwdHh8=",
          "dtype": "i1"
         },
         "y": {
          "bdata": "Hn+DxhB34j/g3ZI3dRbkP56C42WUtuI/XQKNZtIL4j9kMLlHZ+fhP3ooZWRkE+I/5omV8pEx4j9gLmFLkuniPywzZnDRJOQ/rpELwyck4z9Eo2ugob3lP7euSmajyeQ/cYOHga015j+t3hTqvWjmPwUJ1fadZOY/saBzkXU55j/r1g+4spHnP68UtV6zF+g/5rfvPFPV5j95aMxRIYzmP1EqcY67OeY/TnE4d5LR5T9uTl2TNy/lPzyVnYOWLOU/ttvv2Tde5T/cdTQ4mTflP8m9Az3T1+Q/XBLDtSb+5D80zcKdofvkP6uwFj3wleM/e5vrBOtz4T+QvUbz96nnPw==",
          "dtype": "f8"
         }
        },
        {
         "fill": "tonexty",
         "fillcolor": "rgba(31, 119, 180, 0.3)",
         "legendgroup": "('llama3.1_8b_chat', 'birth_years_4k', 'base', 'main', 'prompt_answer')",
         "line": {
          "width": 0
         },
         "mode": "lines",
         "name": "('llama3.1_8b_chat', 'birth_years_4k', 'base', 'main', 'prompt_answer') -1 STD",
         "showlegend": false,
         "type": "scatter",
         "x": {
          "bdata": "AAECAwQFBgcICQoLDA0ODxAREhMUFRYXGBkaGxwdHh8=",
          "dtype": "i1"
         },
         "y": {
          "bdata": "bRRsb29J2z93ZGfckCbeP2XoViAYGN0/3cOsvfXm3z9Ia/ChASTgPwJfvEqhP+A/COTjPSTv4D94eVkEeA/eP/TsSWtnwOA/YwYdzIUl2z/klBnpyuXdPxoNX6c9Rt4/iukNIGWy3T8nviUodHrgP2n9e8a6oOI/i4+fMZC04j+ZqEhR1hriP/fWcOL5MuQ/9qFcpgJT5D+Nv9UmqNXjP3s+Zek86+I/rAJ23L0i5D/c8QKxDq7kP3jraR5PJ+Q/3gruZemQ5D/6Gy381ZPkP3/cVw9o/OM/uJsSmRnk4z+IbjFXS0rjP4Uut9tn++E//3ii9i0m4D+/eCfnc/XfPw==",
          "dtype": "f8"
         }
        },
        {
         "legendgroup": "('llama3.1_8b_chat', 'birth_years_4k', 'base', 'main', 'prompt_answer')",
         "marker": {
          "color": "#1f77b4",
          "opacity": 0.5,
          "size": 6
         },
         "mode": "markers",
         "name": "('llama3.1_8b_chat', 'birth_years_4k', 'base', 'main', 'prompt_answer') Fold ('direction_f1_score', 0)",
         "showlegend": false,
         "type": "scatter",
         "x": {
          "bdata": "AAECAwQFBgcICQoLDA0ODxAREhMUFRYXGBkaGxwdHh8=",
          "dtype": "i1"
         },
         "y": {
          "bdata": "XoQX4UV44T9OBfzCrb3hP2hHAu1IoN0/xmFLXbU74D9BTK4gJlfgP0ZkvIiMF+E/4QqROPLy4T/CFPmsG0zhP2gvob2E9uI/3QRt8G/L2T+3lsW6HxzjP5DQCZSj+OA/gWxANiAb4D/k+W1EMJvmP1VVVVVVVeY/ufkGahhz5T+aswbF0x7nP/CTAI1k1uc/Ik2MrXtG5j/blahdidrlP4aK1D8y5uU/bm5ubm5u5j/t0gldrTzlP1KjU3zU6OQ/tpLHUAiu5T9ilcj7LmLlP1EaH5lA7+Q/qFChQoUK5T/2dzGoCLfkP2wor6G8huI/jVvGLeOW4T+XTenOGH3nPw==",
          "dtype": "f8"
         }
        },
        {
         "legendgroup": "('llama3.1_8b_chat', 'birth_years_4k', 'base', 'main', 'prompt_answer')",
         "marker": {
          "color": "#1f77b4",
          "opacity": 0.5,
          "size": 6
         },
         "mode": "markers",
         "name": "('llama3.1_8b_chat', 'birth_years_4k', 'base', 'main', 'prompt_answer') Fold ('direction_f1_score', 1)",
         "showlegend": false,
         "type": "scatter",
         "x": {
          "bdata": "AAECAwQFBgcICQoLDA0ODxAREhMUFRYXGBkaGxwdHh8=",
          "dtype": "i1"
         },
         "y": {
          "bdata": "lFCgEdvr1z+Cif5OVsvbP+PisKWu2t0/YPqlX/ql3z+c1H15bEXgP9aHxvrQWN8/oGQsqmF24D89z/M8z/PgP3UISaVNh+A/bu9DthQr3D+amZmZmZnZP0+Xf4ROoNw/jdvFhMF32j+SPQNR6cjeP9PS0tLS0uI/MdRfjkgx5D85BS+n4OXkP4ZhGIZhGOY/tVIrtVIr5T+B2FQacu7jP9WL+dSL+eQ/2KKKH9m45D/poosuuujkP3jtTrnqwuQ/O3PF+b3d5D/qW7XmNvnkP3CXejJ+u+Q/nKWSuGwE5T9Ax+a74UflP/hyQwxIx+I/PzTWh8b64D+N9aGxPjTmPw==",
          "dtype": "f8"
         }
        },
        {
         "legendgroup": "('llama3.1_8b_chat', 'birth_years_4k', 'base', 'main', 'prompt_answer')",
         "marker": {
          "color": "#1f77b4",
          "opacity": 0.5,
          "size": 6
         },
         "mode": "markers",
         "name": "('llama3.1_8b_chat', 'birth_years_4k', 'base', 'main', 'prompt_answer') Fold ('direction_f1_score', 2)",
         "showlegend": false,
         "type": "scatter",
         "x": {
          "bdata": "AAECAwQFBgcICQoLDA0ODxAREhMUFRYXGBkaGxwdHh8=",
          "dtype": "i1"
         },
         "y": {
          "bdata": "/Pjx48eP3z9Rmkr25szjP/xoG+ULp+M/chzHcRzH4T8NwTravE/hP2ejvrNR3+E/1B+xgDv94T/MMf2TwRzjP0/ZK6wJ9eQ/OL3pTW964z/rXHlAss7lP/b19fX19eU/WomXqR2a5T8Q6CPK0MblP0tT/JIIqeY/8SYTwtCp5j/h5RS8nILnP9WxtzZMc+c/HNa+Ye0b5j9+xN/DlFDmP16FLzfEgOQ/1enhxK+35D+9DtH9873kPySn+Vo9O+Q/MJV3wrnA5D85BS+n4OXkP1Lf2ajvbOQ/UCSc0rz44z962GyJRpzjP2YdaLu3SuM/MX2cg6QN4T9DcgGvt9HfPw==",
          "dtype": "f8"
         }
        },
        {
         "legendgroup": "('llama3.1_8b_chat', 'birth_years_4k', 'base', 'main', 'prompt_answer')",
         "marker": {
          "color": "#1f77b4",
          "opacity": 0.5,
          "size": 6
         },
         "mode": "markers",
         "name": "('llama3.1_8b_chat', 'birth_years_4k', 'base', 'main', 'prompt_answer') Fold ('direction_f1_score', 3)",
         "showlegend": false,
         "type": "scatter",
         "x": {
          "bdata": "AAECAwQFBgcICQoLDA0ODxAREhMUFRYXGBkaGxwdHh8=",
          "dtype": "i1"
         },
         "y": {
          "bdata": "JP31XMWy4T/hPoL7CO7jP4KaCtGGz98/99kFxKbS4D9mDHG7YcbgP7ETO7ETO+E/mOjvZLW84T8F3+avMKvhP1IJd1IJd+I/wOtt9IdC4j8FEkgggQTiP7KQhSxkIeM/QLX6V6kA5T+WexphuafhP//UP/VP/eM/CKStlzcT5D/lk08++eTjPyjEWfkJceY/F2zBFmzB5j9GZVRGZVTmP9BwUvflseU/1EM91EM95D8TjLeyzyHlP1VVVVVVVeU/phJTianE5D/PSMXc6ozkP73A2u4s9OM/h9QE463s4z8zMzMzMzPjP7wZ8WbEm+E/AkM1HXOJ4D8SpvvFT9LePw==",
          "dtype": "f8"
         }
        },
        {
         "legendgroup": "('llama3.1_8b_chat', 'birth_years_4k', 'base', 'main', 'prompt_answer')",
         "marker": {
          "color": "#1f77b4",
          "opacity": 0.5,
          "size": 6
         },
         "mode": "markers",
         "name": "('llama3.1_8b_chat', 'birth_years_4k', 'base', 'main', 'prompt_answer') Fold ('direction_f1_score', 4)",
         "showlegend": false,
         "type": "scatter",
         "x": {
          "bdata": "AAECAwQFBgcICQoLDA0ODxAREhMUFRYXGBkaGxwdHh8=",
          "dtype": "i1"
         },
         "y": {
          "bdata": "BTG5gphc4T8JRShCEYrgP6QdKxBG2uE/XSWNastV4j/iFlAY1WniP2xzusoz8eE/6BrRsIKu4T/vrSMozabbP881q8MoU+E/ERERERER4T/TPxnMMf3jP0diLJjAb+E/qpOuMWiz5D/Ei2QVzsnjP58/5ijdvuI/s1+IFaXx4T8xDMMwDMPgP61htN+U5+I/mv4G3a6V4z/vy2MrgobjP3X5R+gEyuE//+Ibqo3G5D8SkNJuBKTkP3w0IS9sFeQ/phJTianE5D9GrYGcZK7kP+Wvltu4BuQ/FERBFERB5D9vSqpDbODjP27btm3btuM/YMbpPPqw3z+GYRiGYRjmPw==",
          "dtype": "f8"
         }
        },
        {
         "legendgroup": "('llama3.1_8b_chat', 'birth_years_4k', 'base', 'main', 'prompt_only')",
         "line": {
          "color": "#ff7f0e",
          "width": 2
         },
         "marker": {
          "size": 8
         },
         "mode": "lines+markers",
         "name": "('llama3.1_8b_chat', 'birth_years_4k', 'base', 'main', 'prompt_only')",
         "type": "scatter",
         "x": {
          "bdata": "AAECAwQFBgcICQoLDA0ODxAREhMUFRYXGBkaGxwdHh8=",
          "dtype": "i1"
         },
         "y": {
          "bdata": "cghgHw5S4z9eUQgfTAPlPxmm1a3C2uI/KxowXMqt4j8LmhPVm5fiP7a8T5by0eM/E9CfmpUp5T+pxj9NXM7jP3tDrILFAuQ/grSOpcAk4z+DtiBmxynkPyuagQWiWOU/RRdRVkoD5T/AQmClleXkP56dyatQ4eM/di5TYUcv5T8+3hWQsRrhP+H9D+sEZuE/qBBwnx1w4T++dXe9aQzjPyZ/UZxx4OA/HhC7C/pc4j9pe/MteBzhP+YEI6/oxt8/Wh4blFf54T/GbGpQf+jiP7ZK0id3JOM/J3A0Y1D/4T+McbKP+aXhP1tMPld30eA/b8Mb4jxh4T9668n78FbaPw==",
          "dtype": "f8"
         }
        },
        {
         "legendgroup": "('llama3.1_8b_chat', 'birth_years_4k', 'base', 'main', 'prompt_only')",
         "line": {
          "width": 0
         },
         "mode": "lines",
         "name": "('llama3.1_8b_chat', 'birth_years_4k', 'base', 'main', 'prompt_only') Max",
         "showlegend": false,
         "type": "scatter",
         "x": {
          "bdata": "AAECAwQFBgcICQoLDA0ODxAREhMUFRYXGBkaGxwdHh8=",
          "dtype": "i1"
         },
         "y": {
          "bdata": "zE95a8X85D9VVVVVVVXlP8VXfMVXfOU/05ve9KY35T/DQfT4LhzkP/KUIE8J8uQ/hqMFCajZ5T9zJmLLQ8HlP+U23b954OU/nNW8Wc2b5T/fVeD2xEXmP+JE5WmhO+Y/tvP91Hjp5j9mZmZmZmbmP+5UHh14z+c/SHAfwX0E5z/2bO5lSh3mPzsTMHgs7+U/s6hZ1Cxq5j+WmsLPR2/nPzNnC+zi8uY/F2zBFmzB5j+Htr/H7tDmP9nPw/RxDuI/CWgloJWA5j+tt6AMq/XmP6uqqqqqquY/1r5h7RvW5j+O4ziO4zjmPzCsUi/tYOY/NlqjNVqj5T8cqvzrhy/dPw==",
          "dtype": "f8"
         }
        },
        {
         "fill": "tonexty",
         "fillcolor": "rgba(255, 127, 14, 0.1)",
         "legendgroup": "('llama3.1_8b_chat', 'birth_years_4k', 'base', 'main', 'prompt_only')",
         "line": {
          "width": 0
         },
         "mode": "lines",
         "name": "('llama3.1_8b_chat', 'birth_years_4k', 'base', 'main', 'prompt_only') Min",
         "showlegend": false,
         "type": "scatter",
         "x": {
          "bdata": "AAECAwQFBgcICQoLDA0ODxAREhMUFRYXGBkaGxwdHh8=",
          "dtype": "i1"
         },
         "y": {
          "bdata": "LaazmM5i4j/sxE7sxE7kP1VVVVVVVd8/7JX+nO344D992iQop5rhP5+kJ+lJeuI/XZIXt0Yl5D+h643nQ3zhPyKuMgXMB+I/XkTGi8h44T/0JxmLapjdP3rTm970puM/o3OvJFJZ4D+IKnUS1wzgP8RZ+QlxVt4/fvdAhN894D82KCvE2AfYP74aE+mBytk/gwlO5sYr2j8s3LQdBkXdPy+hvYT2Eto/UPgxO/+E3z9ugLRQJaPcP+x0/IMLk9o/4MCBAwcO3D82THMX/FXcP7gj7og74t4/wMgZFlwq2z+Xawfm2oHZP4fsSz5A0tg/bu9DthQr3D8WbMEWbMHWPw==",
          "dtype": "f8"
         }
        },
        {
         "legendgroup": "('llama3.1_8b_chat', 'birth_years_4k', 'base', 'main', 'prompt_only')",
         "line": {
          "width": 0
         },
         "mode": "lines",
         "name": "('llama3.1_8b_chat', 'birth_years_4k', 'base', 'main', 'prompt_only') +1 STD",
         "showlegend": false,
         "type": "scatter",
         "x": {
          "bdata": "AAECAwQFBgcICQoLDA0ODxAREhMUFRYXGBkaGxwdHh8=",
          "dtype": "i1"
         },
         "y": {
          "bdata": "zdCy0/FS5D/hRrXgRHXlPybCg5j0ZeU/JySvt9l25D8MvLfgZ5/jP4CIuYWsyuQ/Jq6R2aHN5T8q1/SgLrzlP6glFEKBxuU/ABnewce35D8EXrO4SkvnP1yIGctoa+Y/Bc4cC4i55z99wjQckZznP8BOBkrAD+c/tBUR+gL65z8kditnrJrlP4Jl00OnaOU/MzoBYIGA5T8gnKoPBsPmP1h2604dieQ/XPfEI+OQ5T+LXNpLwHHkP3NBoyscsuE/Zuv0hrv05T9FBIrx9ObmP8mVMW1c/eU/DnC4Zpjl5T+hgNuaLp7lP5W1gzOmgeQ/DMVYNZ0f5T97x0MEFrLcPw==",
          "dtype": "f8"
         }
        },
        {
         "fill": "tonexty",
         "fillcolor": "rgba(255, 127, 14, 0.3)",
         "legendgroup": "('llama3.1_8b_chat', 'birth_years_4k', 'base', 'main', 'prompt_only')",
         "line": {
          "width": 0
         },
         "mode": "lines",
         "name": "('llama3.1_8b_chat', 'birth_years_4k', 'base', 'main', 'prompt_only') -1 STD",
         "showlegend": false,
         "type": "scatter",
         "x": {
          "bdata": "AAECAwQFBgcICQoLDA0ODxAREhMUFRYXGBkaGxwdHh8=",
          "dtype": "i1"
         },
         "y": {
          "bdata": "F0ANaypR4j/bW1tdU5HkPwyKJ8OQT+A/LxCxALvk4D8KeG/Jz4/hP+zw5aY42eI/APKtW4mF5D8otor5ieDhP05hRMMJP+I/BFA/ibmR4T8CD44TRAjhP/qr6T/bReQ/hWCFoQxN4j8Dw4sumi7iP3zsjA3hsuA/OEeVyItk4j+wjABybTXZP4EsmSTFxto/Os69vXO/2j+5nojWmqveP+gPb9OLb9o/v1Fi5yFS3j+ONBkgYI7bP+aG/waZKdw/nKKCQuf72z+OqpVeE9TdP6P/cuKRS+A/f+BgvxAy3D/uxBIJiVvbP0LG8fWQQto/pIO9HblF2z95D1Dzy/vXPw==",
          "dtype": "f8"
         }
        },
        {
         "legendgroup": "('llama3.1_8b_chat', 'birth_years_4k', 'base', 'main', 'prompt_only')",
         "marker": {
          "color": "#ff7f0e",
          "opacity": 0.5,
          "size": 6
         },
         "mode": "markers",
         "name": "('llama3.1_8b_chat', 'birth_years_4k', 'base', 'main', 'prompt_only') Fold ('direction_f1_score', 0)",
         "showlegend": false,
         "type": "scatter",
         "x": {
          "bdata": "AAECAwQFBgcICQoLDA0ODxAREhMUFRYXGBkaGxwdHh8=",
          "dtype": "i1"
         },
         "y": {
          "bdata": "B8xBJ/fv4j+qKTaT8tTkP3S4Pzvv4uE/J46SgZ6c4T/gIc+3iSjjP1bDxQ9hkOM/XZIXt0Yl5D/IBcNr1QblP6dv1Zrb5OM/H9joXZH54j+HtW9Y+4blP0FcqDkJxOU/l5aWlpaW5j9mZmZmZmbmP/oGahhz1eI/gyZfNmjy5T+0l9BeQnvlP1VVVVVVVeU/OQHqiykU5T9ilcj7LmLlPwm0I4F2JOA/AAAAAAAA4D8VpKiCFFXgP+oDrUWhPuA/q24CTAfk5T8sSJUykg3mP2QatpvlSeQ//ZzXzaQr5T9JAQk/uRDlPymryNC/tOE/3Nzc3Nzc3D8Npshn3WDaPw==",
          "dtype": "f8"
         }
        },
        {
         "legendgroup": "('llama3.1_8b_chat', 'birth_years_4k', 'base', 'main', 'prompt_only')",
         "marker": {
          "color": "#ff7f0e",
          "opacity": 0.5,
          "size": 6
         },
         "mode": "markers",
         "name": "('llama3.1_8b_chat', 'birth_years_4k', 'base', 'main', 'prompt_only') Fold ('direction_f1_score', 1)",
         "showlegend": false,
         "type": "scatter",
         "x": {
          "bdata": "AAECAwQFBgcICQoLDA0ODxAREhMUFRYXGBkaGxwdHh8=",
          "dtype": "i1"
         },
         "y": {
          "bdata": "YZW/Q55v4z/sxE7sxE7kP4C/4K55yeE/7JX+nO344D/kkUceeeThP5+kJ+lJeuI/56kU0tc85T9P7MRO7MTkPwXU7HqRteU/nNW8Wc2b5T/fVeD2xEXmP+JE5WmhO+Y/o3OvJFJZ4D+IKnUS1wzgP8RZ+QlxVt4/fvdAhN894D/NAEGR9bLfP/y71unSVN8/jp7g6AmO3j8C136UwLXfP+tJmWOAg98/UPgxO/+E3z+D6PFdOIjeP0DiqSEDJN4/Jg+tZ/6B3T/FQAlvNHXeP7gj7og74t4/McDBz0283j/d5akvyl3ePwzOx+B8DN4/bu9DthQr3D8cqvzrhy/dPw==",
          "dtype": "f8"
         }
        },
        {
         "legendgroup": "('llama3.1_8b_chat', 'birth_years_4k', 'base', 'main', 'prompt_only')",
         "marker": {
          "color": "#ff7f0e",
          "opacity": 0.5,
          "size": 6
         },
         "mode": "markers",
         "name": "('llama3.1_8b_chat', 'birth_years_4k', 'base', 'main', 'prompt_only') Fold ('direction_f1_score', 2)",
         "showlegend": false,
         "type": "scatter",
         "x": {
          "bdata": "AAECAwQFBgcICQoLDA0ODxAREhMUFRYXGBkaGxwdHh8=",
          "dtype": "i1"
         },
         "y": {
          "bdata": "LaazmM5i4j93qSfjt0vlP8VXfMVXfOU/ob2E9hLa4z992iQop5rhPyVJkiRJkuQ/1qeC1aeC5T+h643nQ3zhPyKuMgXMB+I/jGR4bvMw4j/0JxmLapjdP7RLJ3S18uQ/RERERERE5j/cnrjIEgHmPxt7Ia9s/eQ/gXeCZocz5j82KCvE2AfYP74aE+mBytk/gwlO5sYr2j8mQ7CONu/jPy+hvYT2Eto/FxXs2dzL5D9ugLRQJaPcP+x0/IMLk9o/4MCBAwcO3D+K2Z8PpyHkP9I4AeqLKeQ/wMgZFlwq2z+Xawfm2oHZP4fsSz5A0tg/PSXIU4I85T8WbMEWbMHWPw==",
          "dtype": "f8"
         }
        },
        {
         "legendgroup": "('llama3.1_8b_chat', 'birth_years_4k', 'base', 'main', 'prompt_only')",
         "marker": {
          "color": "#ff7f0e",
          "opacity": 0.5,
          "size": 6
         },
         "mode": "markers",
         "name": "('llama3.1_8b_chat', 'birth_years_4k', 'base', 'main', 'prompt_only') Fold ('direction_f1_score', 3)",
         "showlegend": false,
         "type": "scatter",
         "x": {
          "bdata": "AAECAwQFBgcICQoLDA0ODxAREhMUFRYXGBkaGxwdHh8=",
          "dtype": "i1"
         },
         "y": {
          "bdata": "zE95a8X85D93qSfjt0vlPxbE5ApicuU/05ve9KY35T/DQfT4LhzkP/KUIE8J8uQ/hqMFCajZ5T8g3cYUhP7hP+U23b954OU/XkTGi8h44T/+WsoGJgjkP3rTm970puM/JTIN283y5D/SA5WzW/jlP+5UHh14z+c/SHAfwX0E5z/2bO5lSh3mPzsTMHgs7+U/s6hZ1Cxq5j+WmsLPR2/nPzNnC+zi8uY/F2zBFmzB5j+Htr/H7tDmP9nPw/RxDuI/CWgloJWA5j+tt6AMq/XmP6uqqqqqquY/1r5h7RvW5j+O4ziO4zjmPzCsUi/tYOY/NlqjNVqj5T+7JrkEVfrZPw==",
          "dtype": "f8"
         }
        },
        {
         "legendgroup": "('llama3.1_8b_chat', 'birth_years_4k', 'base', 'main', 'prompt_only')",
         "marker": {
          "color": "#ff7f0e",
          "opacity": 0.5,
          "size": 6
         },
         "mode": "markers",
         "name": "('llama3.1_8b_chat', 'birth_years_4k', 'base', 'main', 'prompt_only') Fold ('direction_f1_score', 4)",
         "showlegend": false,
         "type": "scatter",
         "x": {
          "bdata": "AAECAwQFBgcICQoLDA0ODxAREhMUFRYXGBkaGxwdHh8=",
          "dtype": "i1"
         },
         "y": {
          "bdata": "29KxLR3b4j9VVVVVVVXlP1VVVVVVVd8/TgX8wq294T8yMjIyMjLiP4dp7oK/iuM/v4hqnX0R5T9zJmLLQ8HlP7Moi7Ioi+I/4S/liah44z8wlvxiyS/mP4pCNyXVIeY/tvP91Hjp5j8lGrhFQA/mPy+QSfECmeQ/huJdBBiE5j8ffPDBBx/cP+ZCq8DYU94/q6qqqqqq3j8s3LQdBkXdP/jqPCyjf+A/QdNgrBmB4D/32QXEptLgP+mMkyiryOA/C1nIQhay4D82THMX/FXcP89lQtIZJ+E/eBDfQXwH4T8sqmF2cAThPyVJkiRJkuA/KdcdL7YE3z9otrF7jmbbPw==",
          "dtype": "f8"
         }
        },
        {
         "legendgroup": "('llama3.1_8b_chat', 'cities_10k', 'base', 'main', 'prompt_answer')",
         "line": {
          "color": "#2ca02c",
          "width": 2
         },
         "marker": {
          "size": 8
         },
         "mode": "lines+markers",
         "name": "('llama3.1_8b_chat', 'cities_10k', 'base', 'main', 'prompt_answer')",
         "type": "scatter",
         "x": {
          "bdata": "AAECAwQFBgcICQoLDA0ODxAREhMUFRYXGBkaGxwdHh8=",
          "dtype": "i1"
         },
         "y": {
          "bdata": "wPT7aHgS5D+E0gyvXXjlP+DUiNhTu+Q/zeq9ZcGT5T8VeYolwsPlP316A08GbuY/q+OlbmRn5j+pDZ47kTDlP2MMGFATXuY/iYbu1hUL5j/urDIn9IfmPwIImbyW5OM/Rh3pIo285D87USIYdKrkP4rCu67bD+U/K6R42HqZ5D9NPw6pOM7kP5lxHoKsHeU/fcGmVMbh4z8lGTc1OEvjP8Q6BeA9AeA/UEqQeZbe4z+GytNwQiPkP9V/FRkCeuQ/jl52jkw24z8O9Ql7vDHiP8LH7Qlbt+M/om6uydro4j9Jz2MuoBLjPyE8zQw48eE/0O0O0saJ4T+GsOj1OOPlPw==",
          "dtype": "f8"
         }
        },
        {
         "legendgroup": "('llama3.1_8b_chat', 'cities_10k', 'base', 'main', 'prompt_answer')",
         "line": {
          "width": 0
         },
         "mode": "lines",
         "name": "('llama3.1_8b_chat', 'cities_10k', 'base', 'main', 'prompt_answer') Max",
         "showlegend": false,
         "type": "scatter",
         "x": {
          "bdata": "AAECAwQFBgcICQoLDA0ODxAREhMUFRYXGBkaGxwdHh8=",
          "dtype": "i1"
         },
         "y": {
          "bdata": "kz99fLDG5T8MOyqrzhPnP6P9pjyXQOY/86QdFCku5j+BZJ0rD0jmPyd2Yid2Yuc/17FkUMT95j92Eb8CwpvmP0AMFo7MCeg/Tnxqt8JA5z/ud/TK2H7nP0DoZ9lIYeY/36amF1SA5j/+yxB99h7nP5zSvPgTCec/uXen0rYS5j9IcB/BfQTnP3QqlFkXq+c/3RqRGM+O5j8oTNsXCtPmPzKZTCaTyeQ/cbCgpOPT5z/HdlFNaWznP9DPz8/Pz+c/TcxDjenq5D82+ybn7vjkP3sYi2Dmj+U/k/OyiE8g5T9VVVVVVVXlPyFgi1hQeOU/Hqxo5bl14z+ouGQI1tHmPw==",
          "dtype": "f8"
         }
        },
        {
         "fill": "tonexty",
         "fillcolor": "rgba(44, 160, 44, 0.1)",
         "legendgroup": "('llama3.1_8b_chat', 'cities_10k', 'base', 'main', 'prompt_answer')",
         "line": {
          "width": 0
         },
         "mode": "lines",
         "name": "('llama3.1_8b_chat', 'cities_10k', 'base', 'main', 'prompt_answer') Min",
         "showlegend": false,
         "type": "scatter",
         "x": {
          "bdata": "AAECAwQFBgcICQoLDA0ODxAREhMUFRYXGBkaGxwdHh8=",
          "dtype": "i1"
         },
         "y": {
          "bdata": "ySSSnuti4z/9Xi+lBZPjP8ZGjqH6heM/LcOzJXfU5D/OTyUE5PzkP/RpTybAv+U/4Yd48UzY5T+Uui+PrQjiP993rq9U/eQ/owqfl7HW5D9xoxrjv+HkP0EExy6NAuE/e6iHeqiH4j//hT0e0gfjP7XeDCaoHeI/I591gyny4T8mtJfQXkLhPx1CM7ANv+A/dhBhBxF24D8BYhXkgAngP+KHUZcnftg/e7GpYUeU2z/VdjS5r8LcPzBYBjREL90/NxNGtM2E4T+vjO139MrgP0CFd9ybK+I/sQvCLgi74D9TUh1iA5/hP/9QSC7g9dY/ejq315JD3D8TxUoVkV/jPw==",
          "dtype": "f8"
         }
        },
        {
         "legendgroup": "('llama3.1_8b_chat', 'cities_10k', 'base', 'main', 'prompt_answer')",
         "line": {
          "width": 0
         },
         "mode": "lines",
         "name": "('llama3.1_8b_chat', 'cities_10k', 'base', 'main', 'prompt_answer') +1 STD",
         "showlegend": false,
         "type": "scatter",
         "x": {
          "bdata": "AAECAwQFBgcICQoLDA0ODxAREhMUFRYXGBkaGxwdHh8=",
          "dtype": "i1"
         },
         "y": {
          "bdata": "1uYjCHEN5T8tNlm+b8LmP9Kyp8YGyuU/KuZHPZQk5j8eC1UlvD7mP5peo3C4Fuc/X6lBjtXf5j9ygOD5Wg3nP6OxvbutdOc/gm739xIt5z8CQlLXRJHnP6IsvJh13uU/73WDlG5Q5j9QgEJVgFvmP394WN759eY/9getWZUs5j94M01wyDvnPyBYaLgYzOc/NJ9bv+NG5j+L+/MdfjbmPx8WMLl8xuM/eThXmuPg5z9WQYnUBTzoP/HJu4XiYug/UrYcRU2M5D/4+hRfC9fjP/xmN94xQOU/00klzUXb5D8Qvinw1YLkP1RsfRe87eU/bznPWZjs4z9eBN7diE7nPw==",
          "dtype": "f8"
         }
        },
        {
         "fill": "tonexty",
         "fillcolor": "rgba(44, 160, 44, 0.3)",
         "legendgroup": "('llama3.1_8b_chat', 'cities_10k', 'base', 'main', 'prompt_answer')",
         "line": {
          "width": 0
         },
         "mode": "lines",
         "name": "('llama3.1_8b_chat', 'cities_10k', 'base', 'main', 'prompt_answer') -1 STD",
         "showlegend": false,
         "type": "scatter",
         "x": {
          "bdata": "AAECAwQFBgcICQoLDA0ODxAREhMUFRYXGBkaGxwdHh8=",
          "dtype": "i1"
         },
         "y": {
          "bdata": "qgLUyX8X4z/bbsCfSy7kP+72aeqgrOM/cO8zju4C5T8M578lyEjlP2CWYy1UxeU/9x0KT/Pu5T/gmlt9x1PjPyNncuR4R+U/kJ7ltRjp5D/aFxN3o37lP2LjdeC36uE/ncROsaso4z8mIgLbZ/niP5UMH3+9KeM/YEBEV2AG4z8iS8/hqGDiPxKL1EtAb+I/xuPx6ah84T+/NnpM8l/gP9K+tA3+d9g/TriSsZK43z+2Ux4NfwrgP7k1b6whkeA/ygbQ10vg4T8k7/6WbYzgP4gopDWELuI/cZM3xm/24D+C4J1saqLhP90XOgRo6ds/YUSdlOpN3j+uXPMN6XfkPw==",
          "dtype": "f8"
         }
        },
        {
         "legendgroup": "('llama3.1_8b_chat', 'cities_10k', 'base', 'main', 'prompt_answer')",
         "marker": {
          "color": "#2ca02c",
          "opacity": 0.5,
          "size": 6
         },
         "mode": "markers",
         "name": "('llama3.1_8b_chat', 'cities_10k', 'base', 'main', 'prompt_answer') Fold ('direction_f1_score', 0)",
         "showlegend": false,
         "type": "scatter",
         "x": {
          "bdata": "AAECAwQFBgcICQoLDA0ODxAREhMUFRYXGBkaGxwdHh8=",
          "dtype": "i1"
         },
         "y": {
          "bdata": "kz99fLDG5T9VEVURVRHlP/oZ1kv5r+Q/LcOzJXfU5D/OTyUE5PzkP/RpTybAv+U/rBQTdFcp5j/SPSFkDtflP1ZDVkNWQ+Y/dO9xek7c5D/ud/TK2H7nP7CF0+8/F+Q/eT9ymq/V4z/+yxB99h7nP5zSvPgTCec/uXen0rYS5j9IcB/BfQTnP3QqlFkXq+c/3RqRGM+O5j8oTNsXCtPmPzKZTCaTyeQ/XUZzGc1l5D8nHKAuObXmP6uqqqqqquY/2yeqB4284z8wj60IGk7iP9aEbHs4OOM/mJxrmoDP5D8g77944k/jP/9QSC7g9dY/gma1hklj4z+ouGQI1tHmPw==",
          "dtype": "f8"
         }
        },
        {
         "legendgroup": "('llama3.1_8b_chat', 'cities_10k', 'base', 'main', 'prompt_answer')",
         "marker": {
          "color": "#2ca02c",
          "opacity": 0.5,
          "size": 6
         },
         "mode": "markers",
         "name": "('llama3.1_8b_chat', 'cities_10k', 'base', 'main', 'prompt_answer') Fold ('direction_f1_score', 1)",
         "showlegend": false,
         "type": "scatter",
         "x": {
          "bdata": "AAECAwQFBgcICQoLDA0ODxAREhMUFRYXGBkaGxwdHh8=",
          "dtype": "i1"
         },
         "y": {
          "bdata": "VC/mUy/m4z8IWotCfaDlPyz5xZJfLOU/5Y865Y865T93PPlAI9TlPwxIx1ImweY/FwPIFgPI5j92Eb8CwpvmP64ZICiyXuY/u4N2FKBh5j9xoxrjv+HkP0NDQ0NDQ+M/e6iHeqiH4j9jY2NjY2PjP62BN1QwHeU/L1LHA0TI5D/fpqYXVIDmP7dt27Zt2+Y/12rzKNO75T/nBWjJ/XjkP58bdCpKLuM/3oo+bhBr4j/VdjS5r8LcPzBYBjREL90/NxNGtM2E4T+vjO139MrgP7Ca1vHmhOI/sQvCLgi74D9TUh1iA5/hP43QrBVPNeE/Hqxo5bl14z/6oVyrpoHmPw==",
          "dtype": "f8"
         }
        },
        {
         "legendgroup": "('llama3.1_8b_chat', 'cities_10k', 'base', 'main', 'prompt_answer')",
         "marker": {
          "color": "#2ca02c",
          "opacity": 0.5,
          "size": 6
         },
         "mode": "markers",
         "name": "('llama3.1_8b_chat', 'cities_10k', 'base', 'main', 'prompt_answer') Fold ('direction_f1_score', 2)",
         "showlegend": false,
         "type": "scatter",
         "x": {
          "bdata": "AAECAwQFBgcICQoLDA0ODxAREhMUFRYXGBkaGxwdHh8=",
          "dtype": "i1"
         },
         "y": {
          "bdata": "ySSSnuti4z8MOyqrzhPnP6P9pjyXQOY/86QdFCku5j+BZJ0rD0jmPyd2Yid2Yuc/17FkUMT95j9mZmZmZmbmP0AMFo7MCeg/Tnxqt8JA5z9pfGQCvVPnP0DoZ9lIYeY/36amF1SA5j+0JGcOt5rlP1522WWXXeY/VrKSlaxk5T/iVSReReLlP2WTTTbZZOU/eihV8tUv4z9/jm7nIaPkP1OLwY5wbNo/cbCgpOPT5z/HdlFNaWznP9DPz8/Pz+c/T1d6Z8BB4j+VD+N+XVLhP3sYi2Dmj+U/ww/VSBYB4j92VC+pAwbjP83MzMzMzOQ/ejq315JD3D/XmduclEXmPw==",
          "dtype": "f8"
         }
        },
        {
         "legendgroup": "('llama3.1_8b_chat', 'cities_10k', 'base', 'main', 'prompt_answer')",
         "marker": {
          "color": "#2ca02c",
          "opacity": 0.5,
          "size": 6
         },
         "mode": "markers",
         "name": "('llama3.1_8b_chat', 'cities_10k', 'base', 'main', 'prompt_answer') Fold ('direction_f1_score', 3)",
         "showlegend": false,
         "type": "scatter",
         "x": {
          "bdata": "AAECAwQFBgcICQoLDA0ODxAREhMUFRYXGBkaGxwdHh8=",
          "dtype": "i1"
         },
         "y": {
          "bdata": "gSNFQ/xx4z8vFwbHLQHmP8ZGjqH6heM/TsJfw1CV5T+gA5/2673lPz7DpKAc7+U/4Yd48UzY5T8J1J/N8RDlP8xcPec2LeY/iaa2VAri5j+gMz5RQIjmP5Jyt3OYuOQ/qHN7LTnE5T//hT0e0gfjP1gj0JDGreQ/dBnkSpXN5D9TG8VFpV3jP0/Kp5Py6eQ/ywgHbFZ44z8BYhXkgAngP9TOn/gXMt0/e7GpYUeU2z/GFxsBojXhP0+t8Gl3XOI/GHqhF3qh4z+cooyAU5ThP0CFd9ybK+I/i32yVVfg4T8uIZEO4hLiP6wG2e27wOI/37o/OZfE4j8TxUoVkV/jPw==",
          "dtype": "f8"
         }
        },
        {
         "legendgroup": "('llama3.1_8b_chat', 'cities_10k', 'base', 'main', 'prompt_answer')",
         "marker": {
          "color": "#2ca02c",
          "opacity": 0.5,
          "size": 6
         },
         "mode": "markers",
         "name": "('llama3.1_8b_chat', 'cities_10k', 'base', 'main', 'prompt_answer') Fold ('direction_f1_score', 4)",
         "showlegend": false,
         "type": "scatter",
         "x": {
          "bdata": "AAECAwQFBgcICQoLDA0ODxAREhMUFRYXGBkaGxwdHh8=",
          "dtype": "i1"
         },
         "y": {
          "bdata": "jhCxWpLa4z/9Xi+lBZPjP87Q2n24BeQ/sttJGkYQ5j8EaVlUyPvlPwd580mmU+Y/3SCFXIo95j+Uui+PrQjiP993rq9U/eQ/owqfl7HW5D8/lUvCLmvmP0EExy6NAuE/5Y9xVNwM5T8SvJJrYS/kP7XeDCaoHeI/I591gyny4T8mtJfQXkLhPx1CM7ANv+A/dhBhBxF24D8qO0xdbn/gP+KHUZcnftg/Jxmqggvq5j9/Dnzar/fmP0Yr/X528+Y/TcxDjenq5D82+ybn7vjkP40pX4clHOU/k/OyiE8g5T9VVVVVVVXlPyFgi1hQeOU/qnQiEvzi3z8SuaNnenfmPw==",
          "dtype": "f8"
         }
        },
        {
         "legendgroup": "('llama3.1_8b_chat', 'cities_10k', 'base', 'main', 'prompt_only')",
         "line": {
          "color": "#d62728",
          "width": 2
         },
         "marker": {
          "size": 8
         },
         "mode": "lines+markers",
         "name": "('llama3.1_8b_chat', 'cities_10k', 'base', 'main', 'prompt_only')",
         "type": "scatter",
         "x": {
          "bdata": "AAECAwQFBgcICQoLDA0ODxAREhMUFRYXGBkaGxwdHh8=",
          "dtype": "i1"
         },
         "y": {
          "bdata": "+7GNEhWr4D8IGL6SoKbiP1Iebs6jJ+A/7rulc8pU3T8Do/gSxNPZPx5pGIH8rOA/5kZxoZxN4D+GIqOucArdP2VOd8rZsN0//SantmMv3j873pXzV6jgP4ZV+wTNk+E/ihS7pLMR4D83sfq0YkfhP63ZEzls1dw/1sylNXQa4z9VtzxrtLrdPzV1SPplSt4/YDB7DwEU3T/G5taZzdjhP8Jmseis3N4/WJDHTXv54j/nDPWeH4PhPw+oWE9deeA/0Tgxu8pk4z9VFn8aEo3jP2TY16DKueU/V0llQrUL4z8Gvsg6Mm7jPzbdZEuo5OI/3VBS/pTg4j/rXTmYq/jaPw==",
          "dtype": "f8"
         }
        },
        {
         "legendgroup": "('llama3.1_8b_chat', 'cities_10k', 'base', 'main', 'prompt_only')",
         "line": {
          "width": 0
         },
         "mode": "lines",
         "name": "('llama3.1_8b_chat', 'cities_10k', 'base', 'main', 'prompt_only') Max",
         "showlegend": false,
         "type": "scatter",
         "x": {
          "bdata": "AAECAwQFBgcICQoLDA0ODxAREhMUFRYXGBkaGxwdHh8=",
          "dtype": "i1"
         },
         "y": {
          "bdata": "ccsjDbc84j/P/xT6ikjkPwHmjyzA/OE/G8Uz6Y+D4T/lDdqYXpHgP+6JiywRYOE/SvfxTFHY4T8Bl4BLwCXgP+/u7u7u7uA/m/Rek95r4j+ScrdzmLjkPzZlTVlT1uQ/ZJUDkKuO5T+oRb8mBZ/mPwnWom88CeY/sNlRi5C/5j9kNjrPgt7mP/siIP9r5uY/FK5H4XoU5j/Ha7VIb7zmP3O5XC6Xy+U/dmIndmIn5j8ermUO4H7mP5lKTCWmEuM/CgMfCV0b5z/CgiQee/rmPyA0BLavHuc/8tulnozf5j+R9OXS/AbnPy7hdjUNzeY/4UlB8udV5j/tH1OGuezfPw==",
          "dtype": "f8"
         }
        },
        {
         "fill": "tonexty",
         "fillcolor": "rgba(214, 39, 40, 0.1)",
         "legendgroup": "('llama3.1_8b_chat', 'cities_10k', 'base', 'main', 'prompt_only')",
         "line": {
          "width": 0
         },
         "mode": "lines",
         "name": "('llama3.1_8b_chat', 'cities_10k', 'base', 'main', 'prompt_only') Min",
         "showlegend": false,
         "type": "scatter",
         "x": {
          "bdata": "AAECAwQFBgcICQoLDA0ODxAREhMUFRYXGBkaGxwdHh8=",
          "dtype": "i1"
         },
         "y": {
          "bdata": "1ggO2uGT3z9lwngcxLvhPylcj8L1KNg/lD7pkz7p0z+14UlYbXjSP5kBnfmLGeA/W5zWbJ+o3j+/Wf1njqrZPyFlGumnMNs/g+DmYtWN2j+kk49OPjrZP/OyiE8gldw/UdZ9QJR1zz978MEHH3zQPy3xWmP4bNA/oP9OlC5t1T8QDuEQDuHQP6kJxlvZ59A/n4GodGTP0D/uSUx6exLTP6HqDiGq7tA/YG+/Bygk4D/IiBq93tzVP2bkN9VJ19g/4MCBAwcO3D8gQ1Rkg9DYP9XlkTUD/+M/zmsV+70b2T+qbDhi2hPZP3aDKfJZN9g/Xl9fX19f3z9sSrEpxabUPw==",
          "dtype": "f8"
         }
        },
        {
         "legendgroup": "('llama3.1_8b_chat', 'cities_10k', 'base', 'main', 'prompt_only')",
         "line": {
          "width": 0
         },
         "mode": "lines",
         "name": "('llama3.1_8b_chat', 'cities_10k', 'base', 'main', 'prompt_only') +1 STD",
         "showlegend": false,
         "type": "scatter",
         "x": {
          "bdata": "AAECAwQFBgcICQoLDA0ODxAREhMUFRYXGBkaGxwdHh8=",
          "dtype": "i1"
         },
         "y": {
          "bdata": "XrlmeoSm4T9oxZDck7LjP6IqW0xJjuI/sKLeJQan4T8a0247VXPfP34BjxLMI+E/Rs7R/riL4T8yZqVbjKTfP4Kwt110KOA/9m3BkIUc4T+mdu+X2O/jP8rdFMasPOQ/XgM5gJRA5T8sWTCiOgnnP13ZCv611eM/ZdB5dxsV6D8ucH7IzrblPx+ljRSc2uU/UOk2q0Nn5T8SVmxtFdvnP0cHrNt7SOQ/OnBbffLY5T8Fo09GuN/lPwzxjhpIL+M/dt37Kqo05z/zpV8sXQboP+PYxXC+BOc/P1OMg4o+5z/N3fgS1qfnPw04mmamE+c/GTVRu4iW5T+geKjaRIzfPw==",
          "dtype": "f8"
         }
        },
        {
         "fill": "tonexty",
         "fillcolor": "rgba(214, 39, 40, 0.3)",
         "legendgroup": "('llama3.1_8b_chat', 'cities_10k', 'base', 'main', 'prompt_only')",
         "line": {
          "width": 0
         },
         "mode": "lines",
         "name": "('llama3.1_8b_chat', 'cities_10k', 'base', 'main', 'prompt_only') -1 STD",
         "showlegend": false,
         "type": "scatter",
         "x": {
          "bdata": "AAECAwQFBgcICQoLDA0ODxAREhMUFRYXGBkaGxwdHh8=",
          "dtype": "i1"
         },
         "y": {
          "bdata": "L1VpVUtf3z+oautIrZrhPwQkAqH8gds/fDKOm4hb1z/scoLqMjTUP77Qoe8sNuA/C38hiAAf3j/a3qABVXDaP8c7f9nKENs/D3LLS7wl2j+fi3iersHaP4Oaw4fa1d0/bEt6kqXF1T+EEoqPFQvXP6AAEnZs/9E/jpKj55k/3D9OjnxFywfQPyygdcuT39A/QhwRkfWyzj/z7oKMC63XP/a+ChpiKNU/drAzHgQa4D+S7TTvDU3aPyS+RAjlhts/WCjNltYp3z9uDT0RjifeP+XX6dDWbuQ/3n58AsCx3T9+PDHFHGneP74EX2BUa90/oWxTQaEq4D82Q8pVEmXWPw==",
          "dtype": "f8"
         }
        },
        {
         "legendgroup": "('llama3.1_8b_chat', 'cities_10k', 'base', 'main', 'prompt_only')",
         "marker": {
          "color": "#d62728",
          "opacity": 0.5,
          "size": 6
         },
         "mode": "markers",
         "name": "('llama3.1_8b_chat', 'cities_10k', 'base', 'main', 'prompt_only') Fold ('direction_f1_score', 0)",
         "showlegend": false,
         "type": "scatter",
         "x": {
          "bdata": "AAECAwQFBgcICQoLDA0ODxAREhMUFRYXGBkaGxwdHh8=",
          "dtype": "i1"
         },
         "y": {
          "bdata": "fgYU0wrM3z+S8wuS8wviPxYII+1YgeA/bYA/i91S3z/lDdqYXpHgPzufKpNhfOA/qJeRWA0X3z+2sedmLsfbPyFlGumnMNs/zCFa8IAC3D+DZdYh8rXgPw2eI1C01eA/pHT7yupd4j8lBoGVQ4vkPzklH6fk49Q/cadBuQyR5T9kNjrPgt7mP/siIP9r5uY/hl7ohV7o5T+vlPHmnezlP03iu8psB+E/chzHcRzH4T8YUgRsjLbjP2wor6G8huI/CgMfCV0b5z/CgiQee/rmPyA0BLavHuc/8tulnozf5j+R9OXS/AbnPxJ9QHXsreU/NPej6vuC4T+Bo4FkFDjaPw==",
          "dtype": "f8"
         }
        },
        {
         "legendgroup": "('llama3.1_8b_chat', 'cities_10k', 'base', 'main', 'prompt_only')",
         "marker": {
          "color": "#d62728",
          "opacity": 0.5,
          "size": 6
         },
         "mode": "markers",
         "name": "('llama3.1_8b_chat', 'cities_10k', 'base', 'main', 'prompt_only') Fold ('direction_f1_score', 1)",
         "showlegend": false,
         "type": "scatter",
         "x": {
          "bdata": "AAECAwQFBgcICQoLDA0ODxAREhMUFRYXGBkaGxwdHh8=",
          "dtype": "i1"
         },
         "y": {
          "bdata": "XJ2GhKvT4D/wFkhQ/BjjPylcj8L1KNg/lD7pkz7p0z+14UlYbXjSP5kBnfmLGeA/SvfxTFHY4T8yVHaYutzeP+/u7u7u7uA/m/Rek95r4j+ScrdzmLjkPzZlTVlT1uQ/UdZ9QJR1zz978MEHH3zQPy3xWmP4bNA/oP9OlC5t1T/ZYmX4RhTYPw4b6bCRDts/ddW3rvrW1T9eD+SPtLfaP/m8mQeiz9s/YG+/Bygk4D8AAAAAAADgPz3YmfW5IOE/bWRr/4i04T956yMBfuPhP9XlkTUD/+M/L7c/yFDZ4T/Za5cf6f7iPxv4jOFoQeI/Xl9fX19f3z/tH1OGuezfPw==",
          "dtype": "f8"
         }
        },
        {
         "legendgroup": "('llama3.1_8b_chat', 'cities_10k', 'base', 'main', 'prompt_only')",
         "marker": {
          "color": "#d62728",
          "opacity": 0.5,
          "size": 6
         },
         "mode": "markers",
         "name": "('llama3.1_8b_chat', 'cities_10k', 'base', 'main', 'prompt_only') Fold ('direction_f1_score', 2)",
         "showlegend": false,
         "type": "scatter",
         "x": {
          "bdata": "AAECAwQFBgcICQoLDA0ODxAREhMUFRYXGBkaGxwdHh8=",
          "dtype": "i1"
         },
         "y": {
          "bdata": "1ggO2uGT3z9zq9Tk4xfiPwN7x9TA3uE/akEoQHZc2z9sonMtRGbZPwRsjLbTrOA/hCrcoeGr3j+/Wf1njqrZPx5yWTFQwts/g+DmYtWN2j+kk49OPjrZPwnSIvXwOeA/XamymRLO4T+8QK/5o+fjPwnWom88CeY/F/ZxYR8X5j8QDuEQDuHQP6kJxlvZ59A/n4GodGTP0D/AVHPM3q3lP6HqDiGq7tA/9dVSXy315T/IiBq93tzVP2bkN9VJ19g/4MCBAwcO3D9E2vfGcBXmP+LxfBGTOuY/zmsV+70b2T+qbDhi2hPZP3aDKfJZN9g/4UlB8udV5j9sSrEpxabUPw==",
          "dtype": "f8"
         }
        },
        {
         "legendgroup": "('llama3.1_8b_chat', 'cities_10k', 'base', 'main', 'prompt_only')",
         "marker": {
          "color": "#d62728",
          "opacity": 0.5,
          "size": 6
         },
         "mode": "markers",
         "name": "('llama3.1_8b_chat', 'cities_10k', 'base', 'main', 'prompt_only') Fold ('direction_f1_score', 3)",
         "showlegend": false,
         "type": "scatter",
         "x": {
          "bdata": "AAECAwQFBgcICQoLDA0ODxAREhMUFRYXGBkaGxwdHh8=",
          "dtype": "i1"
         },
         "y": {
          "bdata": "ccsjDbc84j9lwngcxLvhPwHmjyzA/OE/G8Uz6Y+D4T+zDV5LhR7dP9J2mhUcvuA/W5zWbJ+o3j/5HtNqO5rcP+deptRhld0/FSTUWgSe3D9FfAKp5LzcP/OyiE8gldw/dXusZeiA3T+e4ime4ineP6JW48vPed0/KgkQHPFl4j+rBox8N43lP/tWOO2wb+U/FK5H4XoU5j/Ha7VIb7zmP3O5XC6Xy+U/dmIndmIn5j8ermUO4H7mP60VFMshct4/SMzbGRLz5j+ZBRHsrmXmP94hiKHHgOY/iLZwWfyH5j/N4Ghu6a3mPy7hdjUNzeY/ZeOecwf55D8pmdfdxCjZPw==",
          "dtype": "f8"
         }
        },
        {
         "legendgroup": "('llama3.1_8b_chat', 'cities_10k', 'base', 'main', 'prompt_only')",
         "marker": {
          "color": "#d62728",
          "opacity": 0.5,
          "size": 6
         },
         "mode": "markers",
         "name": "('llama3.1_8b_chat', 'cities_10k', 'base', 'main', 'prompt_only') Fold ('direction_f1_score', 4)",
         "showlegend": false,
         "type": "scatter",
         "x": {
          "bdata": "AAECAwQFBgcICQoLDA0ODxAREhMUFRYXGBkaGxwdHh8=",
          "dtype": "i1"
         },
         "y": {
          "bdata": "cQmJdBCX4D/P/xT6ikjkP2uAZDjeVOA/hBBCCCGE4D9wgQtc4ALXP+6JiywRYOE/8juipvZ14T8Bl4BLwCXgP/NzXCcJDt4/WbNwvNrm3j8ed5awm9/iP9p8kFJ4suM/ZJUDkKuO5T+oRb8mBZ/mP6UT4LP7puA/sNlRi5C/5j+fqVx3vNjSP2UxCv5Y0dI/lYGnW/PD0j/uSUx6exLTP7IinXAM698/eQ3lNZTX4D/s+9FBwmviP5lKTCWmEuM/5AfPA/ot4z8gQ1Rkg9DYPz0MnIXnx+Q/I28ZjtFr4z+UPumTPunjP/Q5n/M5n+M/J8Bn903h4T+aLsEGAufePw==",
          "dtype": "f8"
         }
        },
        {
         "legendgroup": "('llama3.1_8b_chat', 'football_leagues_1k', 'base', 'main', 'prompt_answer')",
         "line": {
          "color": "#9467bd",
          "width": 2
         },
         "marker": {
          "size": 8
         },
         "mode": "lines+markers",
         "name": "('llama3.1_8b_chat', 'football_leagues_1k', 'base', 'main', 'prompt_answer')",
         "type": "scatter",
         "x": {
          "bdata": "AAECAwQFBgcICQoLDA0ODxAREhMUFRYXGBkaGxwdHh8=",
          "dtype": "i1"
         },
         "y": {
          "bdata": "QNAPqE3l4z+Aqd2Raf7iPwAe2Exia98/dqli3cut4T8KvamoJK3iP69L4MAkd+Q//VZd617b5D+H35ZfSsbiP/DJCtTLTuQ/j3RWGiQ85D/LvvMRE0nkPzHL0ckIMuQ/T69nNDA/5D9l6q52G6fjP5nfPpQUYuM/HR+LwHlH4z/tkjFM/K3iP61Ou/Eah+M/S5AT6Lqy4j8yBvozCkXiP3V+d0y/XOE/GasD+U/U4j9b5oCx6DTiP3t6DQxYUuI/IxwDVTnG4T8C0NPWzEDhP4BZlGnzzOE/wb33aBVJ4T/BvfdoFUnhP7KqbU2YHd8/sAIIBtZt2z/oOlzGc9TjPw==",
          "dtype": "f8"
         }
        },
        {
         "legendgroup": "('llama3.1_8b_chat', 'football_leagues_1k', 'base', 'main', 'prompt_answer')",
         "line": {
          "width": 0
         },
         "mode": "lines",
         "name": "('llama3.1_8b_chat', 'football_leagues_1k', 'base', 'main', 'prompt_answer') Max",
         "showlegend": false,
         "type": "scatter",
         "x": {
          "bdata": "AAECAwQFBgcICQoLDA0ODxAREhMUFRYXGBkaGxwdHh8=",
          "dtype": "i1"
         },
         "y": {
          "bdata": "Bp5uzQ+L5D+llFJKKaXkP6OLLrroouM/nXPOOeec4z+1tLS0tLTkP+1YgTDSjuU/0UUXXXTR5T+jiy666KLjPyZO/Z5b4uQ/2FBeQ3kN5T9jfWisD43lP2N9aKwPjeU/5RdLfrHk5z8V+OLqBx3lP1VVVVVVVeU/1Hc26jsb5T9VVVVVVVXlPxdddNFFF+U/1Hc26jsb5T9UVFRUVFTkP8hTgjwlyOM/1Hc26jsb5T8GfUFf0BfkP1VVVVVVVeU/HMdxHMdx5D+XejJ+u9TjPxxMkc+6weQ/MzMzMzMz4z8zMzMzMzPjPzMzMzMzM+M/ewntJbSX4D9VVVVVVVXlPw==",
          "dtype": "f8"
         }
        },
        {
         "fill": "tonexty",
         "fillcolor": "rgba(148, 103, 189, 0.1)",
         "legendgroup": "('llama3.1_8b_chat', 'football_leagues_1k', 'base', 'main', 'prompt_answer')",
         "line": {
          "width": 0
         },
         "mode": "lines",
         "name": "('llama3.1_8b_chat', 'football_leagues_1k', 'base', 'main', 'prompt_answer') Min",
         "showlegend": false,
         "type": "scatter",
         "x": {
          "bdata": "AAECAwQFBgcICQoLDA0ODxAREhMUFRYXGBkaGxwdHh8=",
          "dtype": "i1"
         },
         "y": {
          "bdata": "mCKfdYMp4j9f8RVf8RXfP9q2bdu2bds/VwQNJ3Vf3j988MEHH3zgP6uqqqqqquI/+rWHXFYM5D/xFV/xFV/hP+U1lNdQXuM/6aKLLrro4j/0MTgfg/PhP83MzMzMzOA//Pjx48eP3z9RUVFRUVHhPyxRuxK1K+E/HR4eHh4e3j8AAAAAAADaPwubA4lW2Nw/DOU1lNdQ3j991g2myGfdP5S6L4+tCNo/EARBEARB4D8LWchCFrLgP1AHdVAHdeA/DOU1lNdQ3j8DnTbQaQPdPwOdNtBpA90/fdYNpshn3T991g2myGfdPxy5kRu5kds/Ccs9jbDc0z8f+IEf+IHfPw==",
          "dtype": "f8"
         }
        },
        {
         "legendgroup": "('llama3.1_8b_chat', 'football_leagues_1k', 'base', 'main', 'prompt_answer')",
         "line": {
          "width": 0
         },
         "mode": "lines",
         "name": "('llama3.1_8b_chat', 'football_leagues_1k', 'base', 'main', 'prompt_answer') +1 STD",
         "showlegend": false,
         "type": "scatter",
         "x": {
          "bdata": "AAECAwQFBgcICQoLDA0ODxAREhMUFRYXGBkaGxwdHh8=",
          "dtype": "i1"
         },
         "y": {
          "bdata": "Nsw9ap7h5D+Azb/VG/rkP3B5P0nTC+I/kO1TggDG4z9ed1X6XZfkPzwprUZzkuU/RwWwaE6D5T/dztgmjsHjP0zir9oz4+Q/VwFUQFQk5T/kXWVKS9PlP6zuGAMhKeY/9iTEwnoq5z8K+mVSh0LlP4AHSZPQF+U/h8E1N5TR5T8tS6lXcT/mP6RYuJtXZeY/Ri7AP/EK5T+97P76OovkP5R8ZeTvIOQ/4S6lF2mP5D+ocCHe7arjP54WHafsU+Q/k3YfavLd4z8KEXa/eS3jPxy7WN+dI+Q/FPyJFWX74j8U/IkVZfviP53xWkVnw+E/Eo2KnO9h4D8BESD7kjDmPw==",
          "dtype": "f8"
         }
        },
        {
         "fill": "tonexty",
         "fillcolor": "rgba(148, 103, 189, 0.3)",
         "legendgroup": "('llama3.1_8b_chat', 'football_leagues_1k', 'base', 'main', 'prompt_answer')",
         "line": {
          "width": 0
         },
         "mode": "lines",
         "name": "('llama3.1_8b_chat', 'football_leagues_1k', 'base', 'main', 'prompt_answer') -1 STD",
         "showlegend": false,
         "type": "scatter",
         "x": {
          "bdata": "AAECAwQFBgcICQoLDA0ODxAREhMUFRYXGBkaGxwdHh8=",
          "dtype": "i1"
         },
         "y": {
          "bdata": "StTh5fzo4j+AhftNtwLhPyFJMQcev9o/uMricC4r3z+2Av5W68LgPyJuEzvWW+M/s6gKbm8z5D8x8FSYBsvhP5SxZc1juuM/x+dY9PNT4z+yH4LZ2r7iP7anipDwOuI/qDkLpuVT4T/A2vearwviP7K3NJVYrOE/s3zgSV+94D9atXOBDjneP7ZEvkfeqOA/UPJmkIRa4D9OP+rZsv3fP6wAE2kdMd0/USdi2jYZ4T8OXOCE477gP1je/XDDUOA/ZoPNfwBd3z/zHWPcP6jeP8nvn+eR7N4/3P7KeIst3z/c/sp4iy3fPypyJRBitNo/POv60swX1j/PZJiRVHjhPw==",
          "dtype": "f8"
         }
        },
        {
         "legendgroup": "('llama3.1_8b_chat', 'football_leagues_1k', 'base', 'main', 'prompt_answer')",
         "marker": {
          "color": "#9467bd",
          "opacity": 0.5,
          "size": 6
         },
         "mode": "markers",
         "name": "('llama3.1_8b_chat', 'football_leagues_1k', 'base', 'main', 'prompt_answer') Fold ('direction_f1_score', 0)",
         "showlegend": false,
         "type": "scatter",
         "x": {
          "bdata": "AAECAwQFBgcICQoLDA0ODxAREhMUFRYXGBkaGxwdHh8=",
          "dtype": "i1"
         },
         "y": {
          "bdata": "VEZlVEZl5D+Uk5OTk5PjPy4ZgnW0ed8/5DiO4ziO4z9FPusGU+TjP9R3Nuo7G+U/q6qqqqqq5D+Uk5OTk5PjPyZO/Z5b4uQ/2FBeQ3kN5T8V+OLqBx3lP1VVVVVVVeU/5RdLfrHk5z8V+OLqBx3lP1VVVVVVVeU/1Hc26jsb5T9VVVVVVVXlPzkFL6fg5eQ/QxaykIUs5D9UVFRUVFTkP28wRT7rBuM/bzBFPusG4z+wd0wN7B3jP+U1lNdQXuM/kyZNmjRp4j9yHMdxHMfhP5MmTZo0aeI/chzHcRzH4T9yHMdxHMfhP3VfHlsRNNw/OaQmGG9l3z85BS+n4OXkPw==",
          "dtype": "f8"
         }
        },
        {
         "legendgroup": "('llama3.1_8b_chat', 'football_leagues_1k', 'base', 'main', 'prompt_answer')",
         "marker": {
          "color": "#9467bd",
          "opacity": 0.5,
          "size": 6
         },
         "mode": "markers",
         "name": "('llama3.1_8b_chat', 'football_leagues_1k', 'base', 'main', 'prompt_answer') Fold ('direction_f1_score', 1)",
         "showlegend": false,
         "type": "scatter",
         "x": {
          "bdata": "AAECAwQFBgcICQoLDA0ODxAREhMUFRYXGBkaGxwdHh8=",
          "dtype": "i1"
         },
         "y": {
          "bdata": "VFRUVFRU5D8UO7ETO7HjP53neZ7ned4/kiRJkiRJ4j+D8zE4H4PjP+1YgTDSjuU/pZRSSiml5D/jBTIpXiDjP15DeQ3lNeQ/6aKLLrro4j/0MTgfg/PhP83MzMzMzOA//Pjx48eP3z9RUVFRUVHhP+miiy666OI/pZRSSiml5D85BS+n4OXkPzkFL6fg5eQ/1Hc26jsb5T+Uk5OTk5PjP7sStStRu+I/RKUjewai4j95DeU1lNfgPxEREREREeE/RKUjewai4j900UUXXXThP0SlI3sGouI/0iAN0iAN4j/SIA3SIA3iPxy5kRu5kds/AAAAAAAA3D9VVVVVVVXlPw==",
          "dtype": "f8"
         }
        },
        {
         "legendgroup": "('llama3.1_8b_chat', 'football_leagues_1k', 'base', 'main', 'prompt_answer')",
         "marker": {
          "color": "#9467bd",
          "opacity": 0.5,
          "size": 6
         },
         "mode": "markers",
         "name": "('llama3.1_8b_chat', 'football_leagues_1k', 'base', 'main', 'prompt_answer') Fold ('direction_f1_score', 2)",
         "showlegend": false,
         "type": "scatter",
         "x": {
          "bdata": "AAECAwQFBgcICQoLDA0ODxAREhMUFRYXGBkaGxwdHh8=",
          "dtype": "i1"
         },
         "y": {
          "bdata": "+rWHXFYM5D+llFJKKaXkP6OLLrroouM/nXPOOeec4z+1tLS0tLTkP6uqqqqqquQ/1Hc26jsb5T+jiy666KLjP1Tgi6sfdOQ/Tm1qU5va5D9jfWisD43lP2N9aKwPjeU/1Hc26jsb5T+VURmVURnlP05vetOb3uQ/Tm1qU5va5D9Ob3rTm97kPxdddNFFF+U/5TWU11Be4z/lNZTXUF7jP8hTgjwlyOM/1Hc26jsb5T8GfUFf0BfkP1VVVVVVVeU/HMdxHMdx5D+XejJ+u9TjPxxMkc+6weQ/MzMzMzMz4z8zMzMzMzPjPzMzMzMzM+M/ewntJbSX4D+XejJ+u9TjPw==",
          "dtype": "f8"
         }
        },
        {
         "legendgroup": "('llama3.1_8b_chat', 'football_leagues_1k', 'base', 'main', 'prompt_answer')",
         "marker": {
          "color": "#9467bd",
          "opacity": 0.5,
          "size": 6
         },
         "mode": "markers",
         "name": "('llama3.1_8b_chat', 'football_leagues_1k', 'base', 'main', 'prompt_answer') Fold ('direction_f1_score', 3)",
         "showlegend": false,
         "type": "scatter",
         "x": {
          "bdata": "AAECAwQFBgcICQoLDA0ODxAREhMUFRYXGBkaGxwdHh8=",
          "dtype": "i1"
         },
         "y": {
          "bdata": "Bp5uzQ+L5D+D8zE4H4PjP9q2bdu2bds/VwQNJ3Vf3j872rxPccngP6uqqqqqquI/0UUXXXTR5T+YIp91gyniP/VJn/RJn+Q/q6qqqqqq5D84velNb3rjP15DeQ3lNeQ/VOCLqx905D/zLd/yLd/iPyxRuxK1K+E/uxK1K1G74j/CFPmsG0zhP1RUVFRUVOQ/8xrKayiv4T/xFV/xFV/hPxAEQRAEQeA/EARBEARB4D8LWchCFrLgP1AHdVAHdeA/NgcSrbA54D8LWchCFrLgPwtZyEIWsuA/C1nIQhay4D8LWchCFrLgPwAAAAAAAOA/OYvpLKaz2D8f+IEf+IHfPw==",
          "dtype": "f8"
         }
        },
        {
         "legendgroup": "('llama3.1_8b_chat', 'football_leagues_1k', 'base', 'main', 'prompt_answer')",
         "marker": {
          "color": "#9467bd",
          "opacity": 0.5,
          "size": 6
         },
         "mode": "markers",
         "name": "('llama3.1_8b_chat', 'football_leagues_1k', 'base', 'main', 'prompt_answer') Fold ('direction_f1_score', 4)",
         "showlegend": false,
         "type": "scatter",
         "x": {
          "bdata": "AAECAwQFBgcICQoLDA0ODxAREhMUFRYXGBkaGxwdHh8=",
          "dtype": "i1"
         },
         "y": {
          "bdata": "mCKfdYMp4j9f8RVf8RXfPxzHcRzHcdw/H/iBH/iB3z988MEHH3zgP1RUVFRUVOQ/+rWHXFYM5D/xFV/xFV/hP+U1lNdQXuM/FDuxEzux4z9VVVVVVVXlPxUVFRUVFeU/AAAAAAAA5D8Jyz2NsNzjP0SlI3sGouI/HR4eHh4e3j8AAAAAAADaPwubA4lW2Nw/DOU1lNdQ3j991g2myGfdP5S6L4+tCNo/4wUyKV4g4z+SJEmSJEniP8rA0635YeE/DOU1lNdQ3j8DnTbQaQPdPwOdNtBpA90/fdYNpshn3T991g2myGfdP33WDabIZ90/Ccs9jbDc0z9VVVVVVVXlPw==",
          "dtype": "f8"
         }
        },
        {
         "legendgroup": "('llama3.1_8b_chat', 'football_leagues_1k', 'base', 'main', 'prompt_only')",
         "line": {
          "color": "#8c564b",
          "width": 2
         },
         "marker": {
          "size": 8
         },
         "mode": "lines+markers",
         "name": "('llama3.1_8b_chat', 'football_leagues_1k', 'base', 'main', 'prompt_only')",
         "type": "scatter",
         "x": {
          "bdata": "AAECAwQFBgcICQoLDA0ODxAREhMUFRYXGBkaGxwdHh8=",
          "dtype": "i1"
         },
         "y": {
          "bdata": "gngazAo/5T+CeBrMCj/lP4J4GswKP+U/gngazAo/5T+CeBrMCj/lP4J4GswKP+U/gngazAo/5T+CeBrMCj/lP4J4GswKP+U/VVVVVVVV5T9VVVVVVVXlP1VVVVVVVeU/VVVVVVVV5T9VVVVVVVXlP1VVVVVVVeU/VVVVVVVV5T/zekE8DWblP4J4GswKP+U/VVVVVVVV5T9VVVVVVVXlP1VVVVVVVeU/VVVVVVVV5T9VVVVVVVXlP1VVVVVVVeU/VVVVVVVV5T9VVVVVVVXlP1VVVVVVVeU/VVVVVVVV5T9VVVVVVVXlP1VVVVVVVeU/VVVVVVVV5T8r9BMVIRjNPw==",
          "dtype": "f8"
         }
        },
        {
         "legendgroup": "('llama3.1_8b_chat', 'football_leagues_1k', 'base', 'main', 'prompt_only')",
         "line": {
          "width": 0
         },
         "mode": "lines",
         "name": "('llama3.1_8b_chat', 'football_leagues_1k', 'base', 'main', 'prompt_only') Max",
         "showlegend": false,
         "type": "scatter",
         "x": {
          "bdata": "AAECAwQFBgcICQoLDA0ODxAREhMUFRYXGBkaGxwdHh8=",
          "dtype": "i1"
         },
         "y": {
          "bdata": "VVVVVVVV5T9VVVVVVVXlP1VVVVVVVeU/VVVVVVVV5T9VVVVVVVXlP1VVVVVVVeU/VVVVVVVV5T9VVVVVVVXlP1VVVVVVVeU/VVVVVVVV5T9VVVVVVVXlP1VVVVVVVeU/VVVVVVVV5T9VVVVVVVXlP1VVVVVVVeU/VVVVVVVV5T+GYRiGYRjmP1VVVVVVVeU/VVVVVVVV5T9VVVVVVVXlP1VVVVVVVeU/VVVVVVVV5T9VVVVVVVXlP1VVVVVVVeU/VVVVVVVV5T9VVVVVVVXlP1VVVVVVVeU/VVVVVVVV5T9VVVVVVVXlP1VVVVVVVeU/VVVVVVVV5T9FF1100UXXPw==",
          "dtype": "f8"
         }
        },
        {
         "fill": "tonexty",
         "fillcolor": "rgba(140, 86, 75, 0.1)",
         "legendgroup": "('llama3.1_8b_chat', 'football_leagues_1k', 'base', 'main', 'prompt_only')",
         "line": {
          "width": 0
         },
         "mode": "lines",
         "name": "('llama3.1_8b_chat', 'football_leagues_1k', 'base', 'main', 'prompt_only') Min",
         "showlegend": false,
         "type": "scatter",
         "x": {
          "bdata": "AAECAwQFBgcICQoLDA0ODxAREhMUFRYXGBkaGxwdHh8=",
          "dtype": "i1"
         },
         "y": {
          "bdata": "OQUvp+Dl5D85BS+n4OXkPzkFL6fg5eQ/OQUvp+Dl5D85BS+n4OXkPzkFL6fg5eQ/OQUvp+Dl5D85BS+n4OXkPzkFL6fg5eQ/VVVVVVVV5T9VVVVVVVXlP1VVVVVVVeU/VVVVVVVV5T9VVVVVVVXlP1VVVVVVVeU/VVVVVVVV5T85BS+n4OXkPzkFL6fg5eQ/VVVVVVVV5T9VVVVVVVXlP1VVVVVVVeU/VVVVVVVV5T9VVVVVVVXlP1VVVVVVVeU/VVVVVVVV5T9VVVVVVVXlP1VVVVVVVeU/VVVVVVVV5T9VVVVVVVXlP1VVVVVVVeU/VVVVVVVV5T8AAAAAAAAAAA==",
          "dtype": "f8"
         }
        },
        {
         "legendgroup": "('llama3.1_8b_chat', 'football_leagues_1k', 'base', 'main', 'prompt_only')",
         "line": {
          "width": 0
         },
         "mode": "lines",
         "name": "('llama3.1_8b_chat', 'football_leagues_1k', 'base', 'main', 'prompt_only') +1 STD",
         "showlegend": false,
         "type": "scatter",
         "x": {
          "bdata": "AAECAwQFBgcICQoLDA0ODxAREhMUFRYXGBkaGxwdHh8=",
          "dtype": "i1"
         },
         "y": {
          "bdata": "0rjz/+Jw5T/SuPP/4nDlP9K48//icOU/0rjz/+Jw5T/SuPP/4nDlP9K48//icOU/0rjz/+Jw5T/SuPP/4nDlP9K48//icOU/VVVVVVVV5T9VVVVVVVXlP1VVVVVVVeU/VVVVVVVV5T9VVVVVVVXlP1VVVVVVVeU/VVVVVVVV5T8AEI4Gz9TlP9K48//icOU/VVVVVVVV5T9VVVVVVVXlP1VVVVVVVeU/VVVVVVVV5T9VVVVVVVXlP1VVVVVVVeU/VVVVVVVV5T9VVVVVVVXlP1VVVVVVVeU/VVVVVVVV5T9VVVVVVVXlP1VVVVVVVeU/VVVVVVVV5T8oUIZ7XMjXPw==",
          "dtype": "f8"
         }
        },
        {
         "fill": "tonexty",
         "fillcolor": "rgba(140, 86, 75, 0.3)",
         "legendgroup": "('llama3.1_8b_chat', 'football_leagues_1k', 'base', 'main', 'prompt_only')",
         "line": {
          "width": 0
         },
         "mode": "lines",
         "name": "('llama3.1_8b_chat', 'football_leagues_1k', 'base', 'main', 'prompt_only') -1 STD",
         "showlegend": false,
         "type": "scatter",
         "x": {
          "bdata": "AAECAwQFBgcICQoLDA0ODxAREhMUFRYXGBkaGxwdHh8=",
          "dtype": "i1"
         },
         "y": {
          "bdata": "MjhBmDIN5T8yOEGYMg3lPzI4QZgyDeU/MjhBmDIN5T8yOEGYMg3lPzI4QZgyDeU/MjhBmDIN5T8yOEGYMg3lPzI4QZgyDeU/VVVVVVVV5T9VVVVVVVXlP1VVVVVVVeU/VVVVVVVV5T9VVVVVVVXlP1VVVVVVVeU/VVVVVVVV5T/m5fRxS/fkPzI4QZgyDeU/VVVVVVVV5T9VVVVVVVXlP1VVVVVVVeU/VVVVVVVV5T9VVVVVVVXlP1VVVVVVVeU/VVVVVVVV5T9VVVVVVVXlP1VVVVVVVeU/VVVVVVVV5T9VVVVVVVXlP1VVVVVVVeU/VVVVVVVV5T8KkDZmEj+1Pw==",
          "dtype": "f8"
         }
        },
        {
         "legendgroup": "('llama3.1_8b_chat', 'football_leagues_1k', 'base', 'main', 'prompt_only')",
         "marker": {
          "color": "#8c564b",
          "opacity": 0.5,
          "size": 6
         },
         "mode": "markers",
         "name": "('llama3.1_8b_chat', 'football_leagues_1k', 'base', 'main', 'prompt_only') Fold ('direction_f1_score', 0)",
         "showlegend": false,
         "type": "scatter",
         "x": {
          "bdata": "AAECAwQFBgcICQoLDA0ODxAREhMUFRYXGBkaGxwdHh8=",
          "dtype": "i1"
         },
         "y": {
          "bdata": "OQUvp+Dl5D85BS+n4OXkPzkFL6fg5eQ/OQUvp+Dl5D85BS+n4OXkPzkFL6fg5eQ/OQUvp+Dl5D85BS+n4OXkPzkFL6fg5eQ/VVVVVVVV5T9VVVVVVVXlP1VVVVVVVeU/VVVVVVVV5T9VVVVVVVXlP1VVVVVVVeU/VVVVVVVV5T9VVVVVVVXlP1VVVVVVVeU/VVVVVVVV5T9VVVVVVVXlP1VVVVVVVeU/VVVVVVVV5T9VVVVVVVXlP1VVVVVVVeU/VVVVVVVV5T9VVVVVVVXlP1VVVVVVVeU/VVVVVVVV5T9VVVVVVVXlP1VVVVVVVeU/VVVVVVVV5T/PusEU+azLPw==",
          "dtype": "f8"
         }
        },
        {
         "legendgroup": "('llama3.1_8b_chat', 'football_leagues_1k', 'base', 'main', 'prompt_only')",
         "marker": {
          "color": "#8c564b",
          "opacity": 0.5,
          "size": 6
         },
         "mode": "markers",
         "name": "('llama3.1_8b_chat', 'football_leagues_1k', 'base', 'main', 'prompt_only') Fold ('direction_f1_score', 1)",
         "showlegend": false,
         "type": "scatter",
         "x": {
          "bdata": "AAECAwQFBgcICQoLDA0ODxAREhMUFRYXGBkaGxwdHh8=",
          "dtype": "i1"
         },
         "y": {
          "bdata": "VVVVVVVV5T9VVVVVVVXlP1VVVVVVVeU/VVVVVVVV5T9VVVVVVVXlP1VVVVVVVeU/VVVVVVVV5T9VVVVVVVXlP1VVVVVVVeU/VVVVVVVV5T9VVVVVVVXlP1VVVVVVVeU/VVVVVVVV5T9VVVVVVVXlP1VVVVVVVeU/VVVVVVVV5T9VVVVVVVXlP1VVVVVVVeU/VVVVVVVV5T9VVVVVVVXlP1VVVVVVVeU/VVVVVVVV5T9VVVVVVVXlP1VVVVVVVeU/VVVVVVVV5T9VVVVVVVXlP1VVVVVVVeU/VVVVVVVV5T9VVVVVVVXlP1VVVVVVVeU/VVVVVVVV5T9XEJMriMnVPw==",
          "dtype": "f8"
         }
        },
        {
         "legendgroup": "('llama3.1_8b_chat', 'football_leagues_1k', 'base', 'main', 'prompt_only')",
         "marker": {
          "color": "#8c564b",
          "opacity": 0.5,
          "size": 6
         },
         "mode": "markers",
         "name": "('llama3.1_8b_chat', 'football_leagues_1k', 'base', 'main', 'prompt_only') Fold ('direction_f1_score', 2)",
         "showlegend": false,
         "type": "scatter",
         "x": {
          "bdata": "AAECAwQFBgcICQoLDA0ODxAREhMUFRYXGBkaGxwdHh8=",
          "dtype": "i1"
         },
         "y": {
          "bdata": "VVVVVVVV5T9VVVVVVVXlP1VVVVVVVeU/VVVVVVVV5T9VVVVVVVXlP1VVVVVVVeU/VVVVVVVV5T9VVVVVVVXlP1VVVVVVVeU/VVVVVVVV5T9VVVVVVVXlP1VVVVVVVeU/VVVVVVVV5T9VVVVVVVXlP1VVVVVVVeU/VVVVVVVV5T85BS+n4OXkPzkFL6fg5eQ/VVVVVVVV5T9VVVVVVVXlP1VVVVVVVeU/VVVVVVVV5T9VVVVVVVXlP1VVVVVVVeU/VVVVVVVV5T9VVVVVVVXlP1VVVVVVVeU/VVVVVVVV5T9VVVVVVVXlP1VVVVVVVeU/VVVVVVVV5T/PusEU+azLPw==",
          "dtype": "f8"
         }
        },
        {
         "legendgroup": "('llama3.1_8b_chat', 'football_leagues_1k', 'base', 'main', 'prompt_only')",
         "marker": {
          "color": "#8c564b",
          "opacity": 0.5,
          "size": 6
         },
         "mode": "markers",
         "name": "('llama3.1_8b_chat', 'football_leagues_1k', 'base', 'main', 'prompt_only') Fold ('direction_f1_score', 3)",
         "showlegend": false,
         "type": "scatter",
         "x": {
          "bdata": "AAECAwQFBgcICQoLDA0ODxAREhMUFRYXGBkaGxwdHh8=",
          "dtype": "i1"
         },
         "y": {
          "bdata": "VVVVVVVV5T9VVVVVVVXlP1VVVVVVVeU/VVVVVVVV5T9VVVVVVVXlP1VVVVVVVeU/VVVVVVVV5T9VVVVVVVXlP1VVVVVVVeU/VVVVVVVV5T9VVVVVVVXlP1VVVVVVVeU/VVVVVVVV5T9VVVVVVVXlP1VVVVVVVeU/VVVVVVVV5T9VVVVVVVXlP1VVVVVVVeU/VVVVVVVV5T9VVVVVVVXlP1VVVVVVVeU/VVVVVVVV5T9VVVVVVVXlP1VVVVVVVeU/VVVVVVVV5T9VVVVVVVXlP1VVVVVVVeU/VVVVVVVV5T9VVVVVVVXlP1VVVVVVVeU/VVVVVVVV5T8AAAAAAAAAAA==",
          "dtype": "f8"
         }
        },
        {
         "legendgroup": "('llama3.1_8b_chat', 'football_leagues_1k', 'base', 'main', 'prompt_only')",
         "marker": {
          "color": "#8c564b",
          "opacity": 0.5,
          "size": 6
         },
         "mode": "markers",
         "name": "('llama3.1_8b_chat', 'football_leagues_1k', 'base', 'main', 'prompt_only') Fold ('direction_f1_score', 4)",
         "showlegend": false,
         "type": "scatter",
         "x": {
          "bdata": "AAECAwQFBgcICQoLDA0ODxAREhMUFRYXGBkaGxwdHh8=",
          "dtype": "i1"
         },
         "y": {
          "bdata": "VVVVVVVV5T9VVVVVVVXlP1VVVVVVVeU/VVVVVVVV5T9VVVVVVVXlP1VVVVVVVeU/VVVVVVVV5T9VVVVVVVXlP1VVVVVVVeU/VVVVVVVV5T9VVVVVVVXlP1VVVVVVVeU/VVVVVVVV5T9VVVVVVVXlP1VVVVVVVeU/VVVVVVVV5T+GYRiGYRjmP1VVVVVVVeU/VVVVVVVV5T9VVVVVVVXlP1VVVVVVVeU/VVVVVVVV5T9VVVVVVVXlP1VVVVVVVeU/VVVVVVVV5T9VVVVVVVXlP1VVVVVVVeU/VVVVVVVV5T9VVVVVVVXlP1VVVVVVVeU/VVVVVVVV5T9FF1100UXXPw==",
          "dtype": "f8"
         }
        },
        {
         "legendgroup": "('llama3.1_8b_chat', 'medals_9k', 'base', 'main', 'prompt_answer')",
         "line": {
          "color": "#1f77b4",
          "width": 2
         },
         "marker": {
          "size": 8
         },
         "mode": "lines+markers",
         "name": "('llama3.1_8b_chat', 'medals_9k', 'base', 'main', 'prompt_answer')",
         "type": "scatter",
         "x": {
          "bdata": "AAECAwQFBgcICQoLDA0ODxAREhMUFRYXGBkaGxwdHh8=",
          "dtype": "i1"
         },
         "y": {
          "bdata": "vkD9zudm4z/SH8rzVPfjP4ACFerhZ+M/YqtRVrgV5D8FkLNH2G/kPxZfREdkbuQ/06vrD7R15D/7/LXPhe/jP/53NIMRWeU/PUH20F4I5j9mFU67/jTmP9XtXYdMyuU/oBPdABsK5j+iPrAIjPDlP7ZKyKID5eU/vGM0Ya2+5T/IiKdzswrmP4hlyPn/5+U/8tkw63pn5T8+sTBskL/kP/g59Vs4rOM/uQG5jCN65D/7nnNoD13kP6+97jxsXOQ/VnejgiKj4z8mUa3jcKnjP1eVXj49n+M/Klat8ZSV4z9k4iO8U4rjP3Pn9qEDh+M/qjWyYKJ44z8zS0DGn8rkPw==",
          "dtype": "f8"
         }
        },
        {
         "legendgroup": "('llama3.1_8b_chat', 'medals_9k', 'base', 'main', 'prompt_answer')",
         "line": {
          "width": 0
         },
         "mode": "lines",
         "name": "('llama3.1_8b_chat', 'medals_9k', 'base', 'main', 'prompt_answer') Max",
         "showlegend": false,
         "type": "scatter",
         "x": {
          "bdata": "AAECAwQFBgcICQoLDA0ODxAREhMUFRYXGBkaGxwdHh8=",
          "dtype": "i1"
         },
         "y": {
          "bdata": "uvu0lBdg5D8ObvYLsaLkP9K026eXAuQ/whckY6Wi5D815GH/KdjkP/H8u9bp0uQ/IU0DIUrl5D/+9T4ZpCrlP9fZZUrS5OU/TR+qTu5R5j9MqC7l+4HmP2D11iWEDOY/QxBbZJiI5j8br1bBiHfmPyxmxGJGLOY/zbR6hGgx5j8DyYc4zSnmP7OsmQRxOeY/F+7qm+T95T+aQL3acOHlP2lYQdeIhuU/2C+GCKtG5T9qJoJC+HblPwqWGcgxuuU/MwIh7wIs5D8n4iUB4UTkP224xMDvMuQ/S4BCtQQo5D9LgEK1BCjkP15DeQ3lNeQ/LJWDBsZQ5D8ZDgjgNtblPw==",
          "dtype": "f8"
         }
        },
        {
         "fill": "tonexty",
         "fillcolor": "rgba(31, 119, 180, 0.1)",
         "legendgroup": "('llama3.1_8b_chat', 'medals_9k', 'base', 'main', 'prompt_answer')",
         "line": {
          "width": 0
         },
         "mode": "lines",
         "name": "('llama3.1_8b_chat', 'medals_9k', 'base', 'main', 'prompt_answer') Min",
         "showlegend": false,
         "type": "scatter",
         "x": {
          "bdata": "AAECAwQFBgcICQoLDA0ODxAREhMUFRYXGBkaGxwdHh8=",
          "dtype": "i1"
         },
         "y": {
          "bdata": "ofhWl2zL4j+aOP7kCIfjP5A1ELRKuOI/E0ITQhNC4z+6U2gcEYXjPxqsXudf7+M/3hdPPd8B5D+DDXdCEubiPzXLNMs0y+Q/lsqflcqf5T92Q38QKBjmPzIczA3sjuU/idjnTfZY5T9VVVVVVVXlP2R9O01SeOU/a1qbiwRE5T9Xi5swv6vlPzxkY6FUXuU/HeOjaGq+5D88G/WdjfriP5IneZIneeI/BTG5gphc4z8yWrLG8vziP/Py8vLy8uI/DxRboSY04z+Nv5tHqD7jPxImnOgqMuM/kucrqncl4z9rztuGEAzjP9Y2WAjsOOM/uBTNeOh64j/PpsxhcVTjPw==",
          "dtype": "f8"
         }
        },
        {
         "legendgroup": "('llama3.1_8b_chat', 'medals_9k', 'base', 'main', 'prompt_answer')",
         "line": {
          "width": 0
         },
         "mode": "lines",
         "name": "('llama3.1_8b_chat', 'medals_9k', 'base', 'main', 'prompt_answer') +1 STD",
         "showlegend": false,
         "type": "scatter",
         "x": {
          "bdata": "AAECAwQFBgcICQoLDA0ODxAREhMUFRYXGBkaGxwdHh8=",
          "dtype": "i1"
         },
         "y": {
          "bdata": "2OAsmGgS5D9shxJGQm3kP13bH+mM4+M/Te0bpYqh5D/tyq3VdPnkPyuZqBKTw+Q/0DU/fK/G5D8YzC7iOenkP7K+pquxzeU/HEDzoy5S5j+oqj5jDGHmP3WCFfleBOY/wMM2J/J95j9lQIIUglnmP7Stvrg8M+Y/axU670Ij5j/i4JmxY0DmP2tw1n66OeY/kL1x5Zzo5T8ONA6S8tflP1qsbDIEG+U/CKqqvYpt5T84vsPDKXHlP8NNKOOwguU/fJGEaPUS5D+emWAJcSTkP/6Co7OiIOQ/rvcZ/dET5D+gXDjYnQfkPylE+Dwl7+M/eO1xKfcj5D/tzDzO+RvmPw==",
          "dtype": "f8"
         }
        },
        {
         "fill": "tonexty",
         "fillcolor": "rgba(31, 119, 180, 0.3)",
         "legendgroup": "('llama3.1_8b_chat', 'medals_9k', 'base', 'main', 'prompt_answer')",
         "line": {
          "width": 0
         },
         "mode": "lines",
         "name": "('llama3.1_8b_chat', 'medals_9k', 'base', 'main', 'prompt_answer') -1 STD",
         "showlegend": false,
         "type": "scatter",
         "x": {
          "bdata": "AAECAwQFBgcICQoLDA0ODxAREhMUFRYXGBkaGxwdHh8=",
          "dtype": "i1"
         },
         "y": {
          "bdata": "pKDNBWe74j84uIGhZ4HjP6MpCus27OI/d2mHB+aJ4z8dVbm5O+bjPwEl4Hs1GeQ/1iGYo7gk5D/eLT290fXiP0oxwlpx5OQ/XkL5/Y6+5T8kgF0T8QjmPzVZphU6kOU/gGOD2kOW5T/fPN78lYflP7jn0YzKluU/DbIu0xda5T+uMLU1A9XlP6VaunRFluU/VPbv8Fjm5D9uLlNGLqfjP5bHfYVsPeI/alnHW7yG4z++fyMN9UjjP5sttZYnNuM/MF3CnE8z4z+uCPq9cC7jP7CnGcnXHeM/prRA5lcX4z8oaA+gCQ3jP72K9QbiHuM/3H3yl03N4j95yUO+RXnjPw==",
          "dtype": "f8"
         }
        },
        {
         "legendgroup": "('llama3.1_8b_chat', 'medals_9k', 'base', 'main', 'prompt_answer')",
         "marker": {
          "color": "#1f77b4",
          "opacity": 0.5,
          "size": 6
         },
         "mode": "markers",
         "name": "('llama3.1_8b_chat', 'medals_9k', 'base', 'main', 'prompt_answer') Fold ('direction_f1_score', 0)",
         "showlegend": false,
         "type": "scatter",
         "x": {
          "bdata": "AAECAwQFBgcICQoLDA0ODxAREhMUFRYXGBkaGxwdHh8=",
          "dtype": "i1"
         },
         "y": {
          "bdata": "uvu0lBdg5D8ObvYLsaLkP9K026eXAuQ/whckY6Wi5D815GH/KdjkP/H8u9bp0uQ/IU0DIUrl5D/+9T4ZpCrlP9fZZUrS5OU/PmD2gNkD5j/wRs0L7ijmP2D11iWEDOY/QxBbZJiI5j8AAAAAABDmP1pcywovH+Y/zbR6hGgx5j9h9VRYPRXmP3/AH/AH/OU/F+7qm+T95T+aQL3acOHlP2lYQdeIhuU/c2iR7Xw/5T9qJoJC+HblPwqWGcgxuuU/+1+h+z4K5D/K0i3H/hXkP6RV55ZhJeQ/EJMriMkV5D+w7CRZ9/fjP/M4NRwrj+M/LJWDBsZQ5D8edA7xiM3lPw==",
          "dtype": "f8"
         }
        },
        {
         "legendgroup": "('llama3.1_8b_chat', 'medals_9k', 'base', 'main', 'prompt_answer')",
         "marker": {
          "color": "#1f77b4",
          "opacity": 0.5,
          "size": 6
         },
         "mode": "markers",
         "name": "('llama3.1_8b_chat', 'medals_9k', 'base', 'main', 'prompt_answer') Fold ('direction_f1_score', 1)",
         "showlegend": false,
         "type": "scatter",
         "x": {
          "bdata": "AAECAwQFBgcICQoLDA0ODxAREhMUFRYXGBkaGxwdHh8=",
          "dtype": "i1"
         },
         "y": {
          "bdata": "HAXRTE7V4j+aOP7kCIfjP5A1ELRKuOI/ttnQjIvv4z/xb1X2gmzkP/nWnBx5oOQ/ASSDGKB95D+0u7SNGY/kP5ZaqZVaqeU/S36x5BdL5j92Q38QKBjmP4e7MK+cvuU/idjnTfZY5T8br1bBiHfmPyxmxGJGLOY/QbC8osIQ5j8AAAAAACjmP7OsmQRxOeY/xNgHmOHS5T/tf80D3UHlP84I3jn86eQ/hvi2creH4z8yWrLG8vziP/Py8vLy8uI/ZWtStiZl4z/DQNxKsUbjP4uOAvj4VeM/kucrqncl4z9rztuGEAzjP7K8V1vkOuM/s2ic2yjA4z8ZDgjgNtblPw==",
          "dtype": "f8"
         }
        },
        {
         "legendgroup": "('llama3.1_8b_chat', 'medals_9k', 'base', 'main', 'prompt_answer')",
         "marker": {
          "color": "#1f77b4",
          "opacity": 0.5,
          "size": 6
         },
         "mode": "markers",
         "name": "('llama3.1_8b_chat', 'medals_9k', 'base', 'main', 'prompt_answer') Fold ('direction_f1_score', 2)",
         "showlegend": false,
         "type": "scatter",
         "x": {
          "bdata": "AAECAwQFBgcICQoLDA0ODxAREhMUFRYXGBkaGxwdHh8=",
          "dtype": "i1"
         },
         "y": {
          "bdata": "ofhWl2zL4j9wynnOJBbkP68JMi2UfeM/E0ITQhNC4z+6U2gcEYXjPxqsXudf7+M/3hdPPd8B5D8U9QUU9QXkP1lT1pQ1ZeU/w33dyi/p5T801X51IS3mP6bpCN2cmOU/cm2NqEfl5T/kLvwpMtjlP13C4t0CruU/dNFFF1105T9Xi5swv6vlPzxkY6FUXuU/HeOjaGq+5D9wIVoU9JHkP5IneZIneeI/yUYV1Dn45D84ryaeFY3kPwGOOmksi+Q/DxRboSY04z+Nv5tHqD7jPwYojv+8O+M/HsWpkLg94z+WnP2vh0HjP9Y2WAjsOOM/p4YUdeFV4z/PpsxhcVTjPw==",
          "dtype": "f8"
         }
        },
        {
         "legendgroup": "('llama3.1_8b_chat', 'medals_9k', 'base', 'main', 'prompt_answer')",
         "marker": {
          "color": "#1f77b4",
          "opacity": 0.5,
          "size": 6
         },
         "mode": "markers",
         "name": "('llama3.1_8b_chat', 'medals_9k', 'base', 'main', 'prompt_answer') Fold ('direction_f1_score', 3)",
         "showlegend": false,
         "type": "scatter",
         "x": {
          "bdata": "AAECAwQFBgcICQoLDA0ODxAREhMUFRYXGBkaGxwdHh8=",
          "dtype": "i1"
         },
         "y": {
          "bdata": "HWgwi18+4z8mrOtfk4jjPzsuD+79MOM/S0HV+qoU5D+F6S1+857kP7V4+gvmYuQ/AAAAAACA5D+dPB0R2AfjP/8E7E/A/uQ/TR+qTu5R5j9MqC7l+4HmP2bu+OTUAOY/5XzflXJN5j9VVVVVVVXlP2R9O01SeOU/v2HtG9a+5T8DyYc4zSnmPzKNKrxGAOY/KZ0An9035T88G/WdjfriP0UG0vtzreI/BTG5gphc4z+zlb7Xv4njPwh3PQYYduM/CHPBSh1g4z9/4JYX+27jPxImnOgqMuM/w+4eQOpK4z/4k3JnDkbjP2cVdJwxauM/uBTNeOh64j9M2AdxQl/jPw==",
          "dtype": "f8"
         }
        },
        {
         "legendgroup": "('llama3.1_8b_chat', 'medals_9k', 'base', 'main', 'prompt_answer')",
         "marker": {
          "color": "#1f77b4",
          "opacity": 0.5,
          "size": 6
         },
         "mode": "markers",
         "name": "('llama3.1_8b_chat', 'medals_9k', 'base', 'main', 'prompt_answer') Fold ('direction_f1_score', 4)",
         "showlegend": false,
         "type": "scatter",
         "x": {
          "bdata": "AAECAwQFBgcICQoLDA0ODxAREhMUFRYXGBkaGxwdHh8=",
          "dtype": "i1"
         },
         "y": {
          "bdata": "IOLkBlXD4z/ZgZijNgzkPzbqOxv1neM/E+S6gqqD5D+yPjTWh8bkP7Xio31MYuQ/H9LE2Lpn5D+DDXdCEubiPzXLNMs0y+Q/lsqflcqf5T8ZY4wxxhjmPzIczA3sjuU//Y6hEz4e5j/SBcnqq/3lP0NzO5VHB+Y/a1qbiwRE5T8rYs2AtyLmPwqdoo7r8+U/nfpcXFg+5T//eBmMAg7lP8aSXyz5xeI/2C+GCKtG5T9hVSiLjEblP2gmJQa0H+U/MwIh7wIs5D8n4iUB4UTkP224xMDvMuQ/S4BCtQQo5D9LgEK1BCjkP15DeQ3lNeQ/E3N5E3N54z+tdlY7q53lPw==",
          "dtype": "f8"
         }
        },
        {
         "legendgroup": "('llama3.1_8b_chat', 'medals_9k', 'base', 'main', 'prompt_only')",
         "line": {
          "color": "#ff7f0e",
          "width": 2
         },
         "marker": {
          "size": 8
         },
         "mode": "lines+markers",
         "name": "('llama3.1_8b_chat', 'medals_9k', 'base', 'main', 'prompt_only')",
         "type": "scatter",
         "x": {
          "bdata": "AAECAwQFBgcICQoLDA0ODxAREhMUFRYXGBkaGxwdHh8=",
          "dtype": "i1"
         },
         "y": {
          "bdata": "+bLb5mOa4j/y0TIkrjfjP3hH1nzRUuE/soXQDw2W3z9iK3Rhe9HeP6Uxp1Qt69s/GTIFBpUm4j8TjkEIMMjiPy7Wfkdx+uM/dtgFoIrE4z/VMD7UUkvkP4Bas6w17+Q/O6dhvCxN5D9k7ujHt47kP7bie/iTSeQ/hVlSf8Lc5D8cbmuJ2tjjP9DXQMhjBeQ/y/zOqabJ4z+BQqqcAWzkP5n5pM2breM/c8iXgBVA5D+VLvC7ZwTkP2IckE9YzeM/jMlM1DNY5D+KcO577FrkP1hy9F61jOQ/CW56hbch5D+gljrXZyTkP9ufTLOmMeQ/0HJ6zTJZ5D/FSVuqDdjhPw==",
          "dtype": "f8"
         }
        },
        {
         "legendgroup": "('llama3.1_8b_chat', 'medals_9k', 'base', 'main', 'prompt_only')",
         "line": {
          "width": 0
         },
         "mode": "lines",
         "name": "('llama3.1_8b_chat', 'medals_9k', 'base', 'main', 'prompt_only') Max",
         "showlegend": false,
         "type": "scatter",
         "x": {
          "bdata": "AAECAwQFBgcICQoLDA0ODxAREhMUFRYXGBkaGxwdHh8=",
          "dtype": "i1"
         },
         "y": {
          "bdata": "lLc9rHFT4z/4sCpTacvjPwyZNthFleQ/BD/wAz/w4z9jsttJGkbgPyxlEuwqfOE/DjfccMMN4z9kpOsXdxrkP0REREREROQ/bgy88GYK5T9VVVVVVVXlP1xW+dW7ZeU/X2eBz7l45T8AVR0H7YflP7aNf6gBReU/6vor3QZr5T+3dgkZx1LlPzO/+LTeV+U/ciLLzt1q5T/q+ivdBmvlP9r738BQ9+Q/0E0lUaMe5T9wh6tWBv3kPwXgPGGBK+Q/cplozw065T8tXaURtCflP51IXXDkO+U/2sGsESFG5T8Fvrj6QUflP1atalWrWuU/XS6Xy+Vy5T8Whe2yLXPkPw==",
          "dtype": "f8"
         }
        },
        {
         "fill": "tonexty",
         "fillcolor": "rgba(255, 127, 14, 0.1)",
         "legendgroup": "('llama3.1_8b_chat', 'medals_9k', 'base', 'main', 'prompt_only')",
         "line": {
          "width": 0
         },
         "mode": "lines",
         "name": "('llama3.1_8b_chat', 'medals_9k', 'base', 'main', 'prompt_only') Min",
         "showlegend": false,
         "type": "scatter",
         "x": {
          "bdata": "AAECAwQFBgcICQoLDA0ODxAREhMUFRYXGBkaGxwdHh8=",
          "dtype": "i1"
         },
         "y": {
          "bdata": "i+YJtYAx4T/5uO+WQn/iP5T0hpY7Ed0/QAVoVdrr2z8CSvSJl6XZPwAAAAAAINM/xB1xR9wR4T8xR8/3zBDgP5htvKXCHuM/y0O4Y6IY4T8qCP2j25jiP5rA6jlFIuQ/rZWRvs8S4T/4Nwx209XhP41uqTsO1+E/mKbiKONh4z8VPy6zJqjhPx5xR9wRd+I/7joeJWsI4j/zEt29UWTiP6wtq+blC+M/noK4TCR14z82qcZPAHrjPyH3+Kodk+M/jErSoa2E4z8pvvNYpv/iP4lV/EFcg+M/Wuk11k044z9U8HIKXk7jPwJDRjjBWuM/GAQIhYTj4j/hfAzOx+DgPw==",
          "dtype": "f8"
         }
        },
        {
         "legendgroup": "('llama3.1_8b_chat', 'medals_9k', 'base', 'main', 'prompt_only')",
         "line": {
          "width": 0
         },
         "mode": "lines",
         "name": "('llama3.1_8b_chat', 'medals_9k', 'base', 'main', 'prompt_only') +1 STD",
         "showlegend": false,
         "type": "scatter",
         "x": {
          "bdata": "AAECAwQFBgcICQoLDA0ODxAREhMUFRYXGBkaGxwdHh8=",
          "dtype": "i1"
         },
         "y": {
          "bdata": "5Tg+BkeY4z+Xw2vNB87jPzdroA5V7uM/+zbBDMAq4j+ju00Qht7gP8vSlYOI2+E/9xs0jO3e4j8Tg1PeFGPkPzutqZP9deQ/wKu1zelY5T+C3ckANoDlP1hatWqVdOU/m9dmiX4g5j/Jh8VLWhjmP+T5tkYPreU/7V6gvRK05T84AGgTY27lP+Q7xTXCWOU/ydCSy55P5T/EbSX1Ur/lP7nQy50UcOQ/Ll0ai6kB5T9WdrIU2aLkP2tNh9lBCeQ/5TEI1m4d5T+HC5YoeW7lP/hKf/yNbuU/ZhkOxQsX5T9VeuYrnwzlP5b9BqT1P+U/DMNOhW1z5T/7Z7RXPVLjPw==",
          "dtype": "f8"
         }
        },
        {
         "fill": "tonexty",
         "fillcolor": "rgba(255, 127, 14, 0.3)",
         "legendgroup": "('llama3.1_8b_chat', 'medals_9k', 'base', 'main', 'prompt_only')",
         "line": {
          "width": 0
         },
         "mode": "lines",
         "name": "('llama3.1_8b_chat', 'medals_9k', 'base', 'main', 'prompt_only') -1 STD",
         "showlegend": false,
         "type": "scatter",
         "x": {
          "bdata": "AAECAwQFBgcICQoLDA0ODxAREhMUFRYXGBkaGxwdHh8=",
          "dtype": "i1"
         },
         "y": {
          "bdata": "DS15x4Cc4T9N4Pl6VKHiP3JHGNabbt0/b50eBprW2j9/30yi6uXbP7S9IqJJH9Q/O0jWfzxu4T8TmS8ySy3hPyH/U/vkfuM/LAVWcisw4j8ohLKnbxbjP6hase7VaeQ/23Zc79p54j//VAxEFQXjP4jLQKoY5uI/HVQEQXIF5D8A3G7/UUPiP7xzvFoFsuI/zSgLiK5D4j8+Fy9EsBjjP3kifv0i6+I/uDMVdoF+4z/U5i1j9mXjP1nrmMVukeM/M2GR0viS4z+N1UbPX0fjP7iZacHcquM/rMLmRWMs4z/rso6CMDzjPyBCksJXI+M/lCKmFfg+4z+PKwL93V3gPw==",
          "dtype": "f8"
         }
        },
        {
         "legendgroup": "('llama3.1_8b_chat', 'medals_9k', 'base', 'main', 'prompt_only')",
         "marker": {
          "color": "#ff7f0e",
          "opacity": 0.5,
          "size": 6
         },
         "mode": "markers",
         "name": "('llama3.1_8b_chat', 'medals_9k', 'base', 'main', 'prompt_only') Fold ('direction_f1_score', 0)",
         "showlegend": false,
         "type": "scatter",
         "x": {
          "bdata": "AAECAwQFBgcICQoLDA0ODxAREhMUFRYXGBkaGxwdHh8=",
          "dtype": "i1"
         },
         "y": {
          "bdata": "rTS5CNJK4z+x1f/EuKrjPwfVa9SY0t8/PcUPV01a3j+X/9kxHD7gPzV3XElg3tM/fWCZJwtE4j9kpOsXdxrkP0REREREROQ/5r4jtwQ75D/SQ1lpdT7lP1xW+dW7ZeU/X2eBz7l45T8AVR0H7YflP02op+wV1uQ/6vor3QZr5T/jdhIBK0vlPzO/+LTeV+U/ciLLzt1q5T/q+ivdBmvlP/pMKffuueM/tbICKzX14z/W62p7UjPkP4Z/A5HYy+M/cplozw065T+4EVhMTiPlP51IXXDkO+U/2sGsESFG5T8Fvrj6QUflPxXG8HxeWOU/XUV1FdVV5D/hfAzOx+DgPw==",
          "dtype": "f8"
         }
        },
        {
         "legendgroup": "('llama3.1_8b_chat', 'medals_9k', 'base', 'main', 'prompt_only')",
         "marker": {
          "color": "#ff7f0e",
          "opacity": 0.5,
          "size": 6
         },
         "mode": "markers",
         "name": "('llama3.1_8b_chat', 'medals_9k', 'base', 'main', 'prompt_only') Fold ('direction_f1_score', 1)",
         "showlegend": false,
         "type": "scatter",
         "x": {
          "bdata": "AAECAwQFBgcICQoLDA0ODxAREhMUFRYXGBkaGxwdHh8=",
          "dtype": "i1"
         },
         "y": {
          "bdata": "lLc9rHFT4z/4sCpTacvjP+rT685TA+A/5rEVQcNJ3T+/qUe3h5rfPyxlEuwqfOE/DjfccMMN4z8DPtYjzr/jP1JcKz5pNeQ/bgy88GYK5T9VVVVVVVXlP+cIadftXOU/rZWRvs8S4T/4Nwx209XhP41uqTsO1+E/mKbiKONh4z9XvVAZkxLkP0StnetlAuQ/jfymOuka4z+MXp3l67/jP/2vT6YjUeM/sN9qY2i64z8O+7sYVITjP5ZuOfavoOM/so3SoH2z4z/YYheBGl/jP/UMn8xuqOM/Wuk11k044z+3mFVatGLjPzuzZwOPduM/a0kUU9qu4z8Whe2yLXPkPw==",
          "dtype": "f8"
         }
        },
        {
         "legendgroup": "('llama3.1_8b_chat', 'medals_9k', 'base', 'main', 'prompt_only')",
         "marker": {
          "color": "#ff7f0e",
          "opacity": 0.5,
          "size": 6
         },
         "mode": "markers",
         "name": "('llama3.1_8b_chat', 'medals_9k', 'base', 'main', 'prompt_only') Fold ('direction_f1_score', 2)",
         "showlegend": false,
         "type": "scatter",
         "x": {
          "bdata": "AAECAwQFBgcICQoLDA0ODxAREhMUFRYXGBkaGxwdHh8=",
          "dtype": "i1"
         },
         "y": {
          "bdata": "0G84V7Xp4T81oOCh5bDiP5STk5OTk+M/DKKkWdh93j80gZ2u3M7fP8Q8Oaa4DeE/SWF04jNg4j91CthhHLjiP5ikXXu+LOQ/TkOopBvF5D8qCP2j25jiP6at8XfzCOU/u5/4geo85T9Xfeuqb13lP7aNf6gBReU/EVn3NgxY5T+FPH7ImOPiPykEERdH9OI/MSAdS5kE4z/Eilc5bjflP6wtq+blC+M/0E0lUaMe5T9d0RdxWefjPwXgPGGBK+Q//7jEwu075D/Qop8z2xzlPwsm8FuEM+U/IuZCq8DY4z9oZclEx8/jP5+1dXLnc+M/0nw7SuRi5T+dpN4YYh/hPw==",
          "dtype": "f8"
         }
        },
        {
         "legendgroup": "('llama3.1_8b_chat', 'medals_9k', 'base', 'main', 'prompt_only')",
         "marker": {
          "color": "#ff7f0e",
          "opacity": 0.5,
          "size": 6
         },
         "mode": "markers",
         "name": "('llama3.1_8b_chat', 'medals_9k', 'base', 'main', 'prompt_only') Fold ('direction_f1_score', 3)",
         "showlegend": false,
         "type": "scatter",
         "x": {
          "bdata": "AAECAwQFBgcICQoLDA0ODxAREhMUFRYXGBkaGxwdHh8=",
          "dtype": "i1"
         },
         "y": {
          "bdata": "PzwRwXlK4z/pOQNkHHDjPwyZNthFleQ/BD/wAz/w4z9jsttJGkbgPyI9UDm7hd8/4uO+Wwr94T8xR8/3zBDgPx988MEHH+Q/y0O4Y6IY4T+HN43MdXjjP5rA6jlFIuQ/sRM7sRO75D8TtStRuxLlP9WYQnT54eQ/mpmZmZkZ5T+3dgkZx1LlP1VVVVVVVeU/13Vd13Vd5T9VVVVVVVXlP9r738BQ9+Q/cIerVgb95D9wh6tWBv3kP6jIXfqR1+M/C8WtUNwK5T8tXaURtCflP5Zq3f9WJOU/g6TL/QcD5T+nRNqP6+3kP1atalWrWuU/XS6Xy+Vy5T/zpRR89TThPw==",
          "dtype": "f8"
         }
        },
        {
         "legendgroup": "('llama3.1_8b_chat', 'medals_9k', 'base', 'main', 'prompt_only')",
         "marker": {
          "color": "#ff7f0e",
          "opacity": 0.5,
          "size": 6
         },
         "mode": "markers",
         "name": "('llama3.1_8b_chat', 'medals_9k', 'base', 'main', 'prompt_only') Fold ('direction_f1_score', 4)",
         "showlegend": false,
         "type": "scatter",
         "x": {
          "bdata": "AAECAwQFBgcICQoLDA0ODxAREhMUFRYXGBkaGxwdHh8=",
          "dtype": "i1"
         },
         "y": {
          "bdata": "i+YJtYAx4T/5uO+WQn/iP5T0hpY7Ed0/QAVoVdrr2z8CSvSJl6XZPwAAAAAAINM/xB1xR9wR4T9Wkt6TwUXjP5htvKXCHuM/3+fcb4uz4z9RG/71gdPkP/v2QQAqvuQ/sJOh7Ff+5D+R6Etuq/vkPy0wWJXEm+Q/aSv8pTwR5T8VPy6zJqjhPx5xR9wRd+I/7joeJWsI4j/zEt29UWTiP325NL/BVeM/noK4TCR14z82qcZPAHrjPyH3+Kodk+M/jErSoa2E4z8pvvNYpv/iP4lV/EFcg+M/VPByCl5O4z9U8HIKXk7jPwJDRjjBWuM/GAQIhYTj4j9QJNs994/hPw==",
          "dtype": "f8"
         }
        }
       ],
       "layout": {
        "font": {
         "color": "white"
        },
        "height": 600,
        "legend": {
         "bgcolor": "rgba(32, 32, 32, 0.8)",
         "orientation": "h",
         "x": 0.5,
         "xanchor": "center",
         "y": 1.02,
         "yanchor": "bottom"
        },
        "margin": {
         "b": 50,
         "l": 50,
         "r": 30,
         "t": 100
        },
        "paper_bgcolor": "rgba(32, 32, 32, 1)",
        "plot_bgcolor": "rgba(32, 32, 32, 1)",
        "showlegend": true,
        "template": {
         "data": {
          "bar": [
           {
            "error_x": {
             "color": "#f2f5fa"
            },
            "error_y": {
             "color": "#f2f5fa"
            },
            "marker": {
             "line": {
              "color": "rgb(17,17,17)",
              "width": 0.5
             },
             "pattern": {
              "fillmode": "overlay",
              "size": 10,
              "solidity": 0.2
             }
            },
            "type": "bar"
           }
          ],
          "barpolar": [
           {
            "marker": {
             "line": {
              "color": "rgb(17,17,17)",
              "width": 0.5
             },
             "pattern": {
              "fillmode": "overlay",
              "size": 10,
              "solidity": 0.2
             }
            },
            "type": "barpolar"
           }
          ],
          "carpet": [
           {
            "aaxis": {
             "endlinecolor": "#A2B1C6",
             "gridcolor": "#506784",
             "linecolor": "#506784",
             "minorgridcolor": "#506784",
             "startlinecolor": "#A2B1C6"
            },
            "baxis": {
             "endlinecolor": "#A2B1C6",
             "gridcolor": "#506784",
             "linecolor": "#506784",
             "minorgridcolor": "#506784",
             "startlinecolor": "#A2B1C6"
            },
            "type": "carpet"
           }
          ],
          "choropleth": [
           {
            "colorbar": {
             "outlinewidth": 0,
             "ticks": ""
            },
            "type": "choropleth"
           }
          ],
          "contour": [
           {
            "colorbar": {
             "outlinewidth": 0,
             "ticks": ""
            },
            "colorscale": [
             [
              0,
              "#0d0887"
             ],
             [
              0.1111111111111111,
              "#46039f"
             ],
             [
              0.2222222222222222,
              "#7201a8"
             ],
             [
              0.3333333333333333,
              "#9c179e"
             ],
             [
              0.4444444444444444,
              "#bd3786"
             ],
             [
              0.5555555555555556,
              "#d8576b"
             ],
             [
              0.6666666666666666,
              "#ed7953"
             ],
             [
              0.7777777777777778,
              "#fb9f3a"
             ],
             [
              0.8888888888888888,
              "#fdca26"
             ],
             [
              1,
              "#f0f921"
             ]
            ],
            "type": "contour"
           }
          ],
          "contourcarpet": [
           {
            "colorbar": {
             "outlinewidth": 0,
             "ticks": ""
            },
            "type": "contourcarpet"
           }
          ],
          "heatmap": [
           {
            "colorbar": {
             "outlinewidth": 0,
             "ticks": ""
            },
            "colorscale": [
             [
              0,
              "#0d0887"
             ],
             [
              0.1111111111111111,
              "#46039f"
             ],
             [
              0.2222222222222222,
              "#7201a8"
             ],
             [
              0.3333333333333333,
              "#9c179e"
             ],
             [
              0.4444444444444444,
              "#bd3786"
             ],
             [
              0.5555555555555556,
              "#d8576b"
             ],
             [
              0.6666666666666666,
              "#ed7953"
             ],
             [
              0.7777777777777778,
              "#fb9f3a"
             ],
             [
              0.8888888888888888,
              "#fdca26"
             ],
             [
              1,
              "#f0f921"
             ]
            ],
            "type": "heatmap"
           }
          ],
          "histogram": [
           {
            "marker": {
             "pattern": {
              "fillmode": "overlay",
              "size": 10,
              "solidity": 0.2
             }
            },
            "type": "histogram"
           }
          ],
          "histogram2d": [
           {
            "colorbar": {
             "outlinewidth": 0,
             "ticks": ""
            },
            "colorscale": [
             [
              0,
              "#0d0887"
             ],
             [
              0.1111111111111111,
              "#46039f"
             ],
             [
              0.2222222222222222,
              "#7201a8"
             ],
             [
              0.3333333333333333,
              "#9c179e"
             ],
             [
              0.4444444444444444,
              "#bd3786"
             ],
             [
              0.5555555555555556,
              "#d8576b"
             ],
             [
              0.6666666666666666,
              "#ed7953"
             ],
             [
              0.7777777777777778,
              "#fb9f3a"
             ],
             [
              0.8888888888888888,
              "#fdca26"
             ],
             [
              1,
              "#f0f921"
             ]
            ],
            "type": "histogram2d"
           }
          ],
          "histogram2dcontour": [
           {
            "colorbar": {
             "outlinewidth": 0,
             "ticks": ""
            },
            "colorscale": [
             [
              0,
              "#0d0887"
             ],
             [
              0.1111111111111111,
              "#46039f"
             ],
             [
              0.2222222222222222,
              "#7201a8"
             ],
             [
              0.3333333333333333,
              "#9c179e"
             ],
             [
              0.4444444444444444,
              "#bd3786"
             ],
             [
              0.5555555555555556,
              "#d8576b"
             ],
             [
              0.6666666666666666,
              "#ed7953"
             ],
             [
              0.7777777777777778,
              "#fb9f3a"
             ],
             [
              0.8888888888888888,
              "#fdca26"
             ],
             [
              1,
              "#f0f921"
             ]
            ],
            "type": "histogram2dcontour"
           }
          ],
          "mesh3d": [
           {
            "colorbar": {
             "outlinewidth": 0,
             "ticks": ""
            },
            "type": "mesh3d"
           }
          ],
          "parcoords": [
           {
            "line": {
             "colorbar": {
              "outlinewidth": 0,
              "ticks": ""
             }
            },
            "type": "parcoords"
           }
          ],
          "pie": [
           {
            "automargin": true,
            "type": "pie"
           }
          ],
          "scatter": [
           {
            "marker": {
             "line": {
              "color": "#283442"
             }
            },
            "type": "scatter"
           }
          ],
          "scatter3d": [
           {
            "line": {
             "colorbar": {
              "outlinewidth": 0,
              "ticks": ""
             }
            },
            "marker": {
             "colorbar": {
              "outlinewidth": 0,
              "ticks": ""
             }
            },
            "type": "scatter3d"
           }
          ],
          "scattercarpet": [
           {
            "marker": {
             "colorbar": {
              "outlinewidth": 0,
              "ticks": ""
             }
            },
            "type": "scattercarpet"
           }
          ],
          "scattergeo": [
           {
            "marker": {
             "colorbar": {
              "outlinewidth": 0,
              "ticks": ""
             }
            },
            "type": "scattergeo"
           }
          ],
          "scattergl": [
           {
            "marker": {
             "line": {
              "color": "#283442"
             }
            },
            "type": "scattergl"
           }
          ],
          "scattermap": [
           {
            "marker": {
             "colorbar": {
              "outlinewidth": 0,
              "ticks": ""
             }
            },
            "type": "scattermap"
           }
          ],
          "scattermapbox": [
           {
            "marker": {
             "colorbar": {
              "outlinewidth": 0,
              "ticks": ""
             }
            },
            "type": "scattermapbox"
           }
          ],
          "scatterpolar": [
           {
            "marker": {
             "colorbar": {
              "outlinewidth": 0,
              "ticks": ""
             }
            },
            "type": "scatterpolar"
           }
          ],
          "scatterpolargl": [
           {
            "marker": {
             "colorbar": {
              "outlinewidth": 0,
              "ticks": ""
             }
            },
            "type": "scatterpolargl"
           }
          ],
          "scatterternary": [
           {
            "marker": {
             "colorbar": {
              "outlinewidth": 0,
              "ticks": ""
             }
            },
            "type": "scatterternary"
           }
          ],
          "surface": [
           {
            "colorbar": {
             "outlinewidth": 0,
             "ticks": ""
            },
            "colorscale": [
             [
              0,
              "#0d0887"
             ],
             [
              0.1111111111111111,
              "#46039f"
             ],
             [
              0.2222222222222222,
              "#7201a8"
             ],
             [
              0.3333333333333333,
              "#9c179e"
             ],
             [
              0.4444444444444444,
              "#bd3786"
             ],
             [
              0.5555555555555556,
              "#d8576b"
             ],
             [
              0.6666666666666666,
              "#ed7953"
             ],
             [
              0.7777777777777778,
              "#fb9f3a"
             ],
             [
              0.8888888888888888,
              "#fdca26"
             ],
             [
              1,
              "#f0f921"
             ]
            ],
            "type": "surface"
           }
          ],
          "table": [
           {
            "cells": {
             "fill": {
              "color": "#506784"
             },
             "line": {
              "color": "rgb(17,17,17)"
             }
            },
            "header": {
             "fill": {
              "color": "#2a3f5f"
             },
             "line": {
              "color": "rgb(17,17,17)"
             }
            },
            "type": "table"
           }
          ]
         },
         "layout": {
          "annotationdefaults": {
           "arrowcolor": "#f2f5fa",
           "arrowhead": 0,
           "arrowwidth": 1
          },
          "autotypenumbers": "strict",
          "coloraxis": {
           "colorbar": {
            "outlinewidth": 0,
            "ticks": ""
           }
          },
          "colorscale": {
           "diverging": [
            [
             0,
             "#8e0152"
            ],
            [
             0.1,
             "#c51b7d"
            ],
            [
             0.2,
             "#de77ae"
            ],
            [
             0.3,
             "#f1b6da"
            ],
            [
             0.4,
             "#fde0ef"
            ],
            [
             0.5,
             "#f7f7f7"
            ],
            [
             0.6,
             "#e6f5d0"
            ],
            [
             0.7,
             "#b8e186"
            ],
            [
             0.8,
             "#7fbc41"
            ],
            [
             0.9,
             "#4d9221"
            ],
            [
             1,
             "#276419"
            ]
           ],
           "sequential": [
            [
             0,
             "#0d0887"
            ],
            [
             0.1111111111111111,
             "#46039f"
            ],
            [
             0.2222222222222222,
             "#7201a8"
            ],
            [
             0.3333333333333333,
             "#9c179e"
            ],
            [
             0.4444444444444444,
             "#bd3786"
            ],
            [
             0.5555555555555556,
             "#d8576b"
            ],
            [
             0.6666666666666666,
             "#ed7953"
            ],
            [
             0.7777777777777778,
             "#fb9f3a"
            ],
            [
             0.8888888888888888,
             "#fdca26"
            ],
            [
             1,
             "#f0f921"
            ]
           ],
           "sequentialminus": [
            [
             0,
             "#0d0887"
            ],
            [
             0.1111111111111111,
             "#46039f"
            ],
            [
             0.2222222222222222,
             "#7201a8"
            ],
            [
             0.3333333333333333,
             "#9c179e"
            ],
            [
             0.4444444444444444,
             "#bd3786"
            ],
            [
             0.5555555555555556,
             "#d8576b"
            ],
            [
             0.6666666666666666,
             "#ed7953"
            ],
            [
             0.7777777777777778,
             "#fb9f3a"
            ],
            [
             0.8888888888888888,
             "#fdca26"
            ],
            [
             1,
             "#f0f921"
            ]
           ]
          },
          "colorway": [
           "#636efa",
           "#EF553B",
           "#00cc96",
           "#ab63fa",
           "#FFA15A",
           "#19d3f3",
           "#FF6692",
           "#B6E880",
           "#FF97FF",
           "#FECB52"
          ],
          "font": {
           "color": "#f2f5fa"
          },
          "geo": {
           "bgcolor": "rgb(17,17,17)",
           "lakecolor": "rgb(17,17,17)",
           "landcolor": "rgb(17,17,17)",
           "showlakes": true,
           "showland": true,
           "subunitcolor": "#506784"
          },
          "hoverlabel": {
           "align": "left"
          },
          "hovermode": "closest",
          "mapbox": {
           "style": "dark"
          },
          "paper_bgcolor": "rgb(17,17,17)",
          "plot_bgcolor": "rgb(17,17,17)",
          "polar": {
           "angularaxis": {
            "gridcolor": "#506784",
            "linecolor": "#506784",
            "ticks": ""
           },
           "bgcolor": "rgb(17,17,17)",
           "radialaxis": {
            "gridcolor": "#506784",
            "linecolor": "#506784",
            "ticks": ""
           }
          },
          "scene": {
           "xaxis": {
            "backgroundcolor": "rgb(17,17,17)",
            "gridcolor": "#506784",
            "gridwidth": 2,
            "linecolor": "#506784",
            "showbackground": true,
            "ticks": "",
            "zerolinecolor": "#C8D4E3"
           },
           "yaxis": {
            "backgroundcolor": "rgb(17,17,17)",
            "gridcolor": "#506784",
            "gridwidth": 2,
            "linecolor": "#506784",
            "showbackground": true,
            "ticks": "",
            "zerolinecolor": "#C8D4E3"
           },
           "zaxis": {
            "backgroundcolor": "rgb(17,17,17)",
            "gridcolor": "#506784",
            "gridwidth": 2,
            "linecolor": "#506784",
            "showbackground": true,
            "ticks": "",
            "zerolinecolor": "#C8D4E3"
           }
          },
          "shapedefaults": {
           "line": {
            "color": "#f2f5fa"
           }
          },
          "sliderdefaults": {
           "bgcolor": "#C8D4E3",
           "bordercolor": "rgb(17,17,17)",
           "borderwidth": 1,
           "tickwidth": 0
          },
          "ternary": {
           "aaxis": {
            "gridcolor": "#506784",
            "linecolor": "#506784",
            "ticks": ""
           },
           "baxis": {
            "gridcolor": "#506784",
            "linecolor": "#506784",
            "ticks": ""
           },
           "bgcolor": "rgb(17,17,17)",
           "caxis": {
            "gridcolor": "#506784",
            "linecolor": "#506784",
            "ticks": ""
           }
          },
          "title": {
           "x": 0.05
          },
          "updatemenudefaults": {
           "bgcolor": "#506784",
           "borderwidth": 0
          },
          "xaxis": {
           "automargin": true,
           "gridcolor": "#283442",
           "linecolor": "#506784",
           "ticks": "",
           "title": {
            "standoff": 15
           },
           "zerolinecolor": "#283442",
           "zerolinewidth": 2
          },
          "yaxis": {
           "automargin": true,
           "gridcolor": "#283442",
           "linecolor": "#506784",
           "ticks": "",
           "title": {
            "standoff": 15
           },
           "zerolinecolor": "#283442",
           "zerolinewidth": 2
          }
         }
        },
        "title": {},
        "width": 1000,
        "xaxis": {
         "gridcolor": "rgba(128, 128, 128, 0.2)",
         "title": {
          "text": "Layer"
         },
         "zeroline": false
        },
        "yaxis": {
         "gridcolor": "rgba(128, 128, 128, 0.2)",
         "title": {
          "text": "Direction F1 Score"
         },
         "zeroline": false
        }
       }
      }
     },
     "metadata": {},
     "output_type": "display_data"
    },
    {
     "name": "stdout",
     "output_type": "stream",
     "text": [
      "conf=('llama3.1_8b_chat', 'birth_years_4k', 'base', 'main', 'prompt_answer')\n",
      "conf=('llama3.1_8b_chat', 'birth_years_4k', 'base', 'main', 'prompt_only')\n",
      "conf=('llama3.1_8b_chat', 'cities_10k', 'base', 'main', 'prompt_answer')\n",
      "conf=('llama3.1_8b_chat', 'cities_10k', 'base', 'main', 'prompt_only')\n",
      "conf=('llama3.1_8b_chat', 'football_leagues_1k', 'base', 'main', 'prompt_answer')\n",
      "conf=('llama3.1_8b_chat', 'football_leagues_1k', 'base', 'main', 'prompt_only')\n",
      "conf=('llama3.1_8b_chat', 'medals_9k', 'base', 'main', 'prompt_answer')\n",
      "conf=('llama3.1_8b_chat', 'medals_9k', 'base', 'main', 'prompt_only')\n"
     ]
    },
    {
     "data": {
      "application/vnd.plotly.v1+json": {
       "config": {
        "plotlyServerURL": "https://plot.ly"
       },
       "data": [
        {
         "legendgroup": "('llama3.1_8b_chat', 'birth_years_4k', 'base', 'main', 'prompt_answer')",
         "line": {
          "color": "#1f77b4",
          "width": 2
         },
         "marker": {
          "size": 8
         },
         "mode": "lines+markers",
         "name": "('llama3.1_8b_chat', 'birth_years_4k', 'base', 'main', 'prompt_answer')",
         "type": "scatter",
         "x": {
          "bdata": "AAECAwQFBgcICQoLDA0ODxAREhMUFRYXGBkaGxwdHh8=",
          "dtype": "i1"
         },
         "y": {
          "bdata": "lNTKoNfV4j+y4KiJZmvjP4rM4NAG5+M/qrzEmn3F5D+BXJ0L1gXlPz20EAgONOY/9bleWB9D5j+m4GEnvLTmP1XfAIgPoeY/8vi8sRYJ5z+qt6ZMd9DmP+XrkBJs4eY/Sg21rSlj5z9K5ng8EMbmPztlglROe+Y/6I/jRXQi5z9660S9hx/nP1S6ojOtteY/9sj0yyzT5j/rOOzCxJfmPxrgV+SxIeY/pEF73wtf5j9+pdW/2Z3mP+dGXhTSjeY/jshkPb8/5j+SrNnWqC7mP/pH7SHb4OU/0hpQp9yj5j+uiQeSF2TmPzxg5jDI5uY/QLk46lns5j9U4uRQrYPmPw==",
          "dtype": "f8"
         }
        },
        {
         "legendgroup": "('llama3.1_8b_chat', 'birth_years_4k', 'base', 'main', 'prompt_answer')",
         "line": {
          "width": 0
         },
         "mode": "lines",
         "name": "('llama3.1_8b_chat', 'birth_years_4k', 'base', 'main', 'prompt_answer') Max",
         "showlegend": false,
         "type": "scatter",
         "x": {
          "bdata": "AAECAwQFBgcICQoLDA0ODxAREhMUFRYXGBkaGxwdHh8=",
          "dtype": "i1"
         },
         "y": {
          "bdata": "q1OxOhWr4z/7PbfEqd/jP+amhbfsnOQ/h+1meRKZ5j9KyKmAX7jlP2LG5/JLFOc/l2/5lm/55j+/UqDWrxToP2LG5/JLFOc/UgX4C+6a5z9cj8L1KFznP3z5Oa+bSec/vZ0hMW9n6D/h5RS8nILnP1Zbf3tgo+c/9qGxPjTW5z/7Z3oOYi/oP3UJNhA49+Y/d3d3d3d35z+/dRpIsfzmP2d5EpmG7eY/vRSgO2wr5z/4vFilrfDnP179Mz0Hsec/+SWKq7YP6D+GIrNFrcbnP/uArREzPuc/TI4qwF9w5z+9FKA7bCvnP0YXXXTRRec/9AV9QV/Q5z833lHN+jPoPw==",
          "dtype": "f8"
         }
        },
        {
         "fill": "tonexty",
         "fillcolor": "rgba(31, 119, 180, 0.1)",
         "legendgroup": "('llama3.1_8b_chat', 'birth_years_4k', 'base', 'main', 'prompt_answer')",
         "line": {
          "width": 0
         },
         "mode": "lines",
         "name": "('llama3.1_8b_chat', 'birth_years_4k', 'base', 'main', 'prompt_answer') Min",
         "showlegend": false,
         "type": "scatter",
         "x": {
          "bdata": "AAECAwQFBgcICQoLDA0ODxAREhMUFRYXGBkaGxwdHh8=",
          "dtype": "i1"
         },
         "y": {
          "bdata": "9fd5m3SX4T+7ErUrUbviP8F4K/scUuM/6nQ6nU6n4z+rqqqqqirkP6mbQcuO5+Q/iVO/55Y45T+T7jKmfB3mP1iAkfxQIuY/pmG7WZ5E5j8fLsWneznmPxO2QXAqE+Y/FmVRFmVR5j/iUny6l2PlP3Zd13Vd1+U/r8h8aeIw5j+qgF+4tTfmP4i9YMn2NeY/RIlYo4qe5T9qsDuT0eLlP1VVVVVVVeU/gQUWWGCB5T+/q8VNmN/lP9evFKj1K+U/jSlfhyUc5T9VVVVVVVXlP9pNNQSi3eQ/iuW3TgMp5j8q4Bdu7Y3lP2clXqZ2aOY/N0thAYro5T/Tm970pjflPw==",
          "dtype": "f8"
         }
        },
        {
         "legendgroup": "('llama3.1_8b_chat', 'birth_years_4k', 'base', 'main', 'prompt_answer')",
         "line": {
          "width": 0
         },
         "mode": "lines",
         "name": "('llama3.1_8b_chat', 'birth_years_4k', 'base', 'main', 'prompt_answer') +1 STD",
         "showlegend": false,
         "type": "scatter",
         "x": {
          "bdata": "AAECAwQFBgcICQoLDA0ODxAREhMUFRYXGBkaGxwdHh8=",
          "dtype": "i1"
         },
         "y": {
          "bdata": "NDy3whbZ4z+Z5jy0nd/jPzKu2i7mcOQ/fbIOYRDh5T/TRGDeIJnlPwMgx+oIAuc/CUD7q4sU5z9LUr9spIrnP/BnBLHuBec/Q7vt0Piz5z8oGMphMkrnP5ikNg0nZec/8smDjaVP6D9fjJEl7pXnP3KvtC0/L+c/uuUfWo7F5z8sQWKL+uXnPzKY+eriAOc/1IMAu+2T5z/UBXEfeQPnP5l1Gf6rw+Y/fdk+leQa5z8Tqf8H53TnPw0BffwRd+c/AJ2MsCtq5z/xfou8Wy3nP1DTHOkTzOY/rGxTMQkw5z/xPdpksBTnPzLxDWUQRuc/SVbpFRy45z+6rLW5M67nPw==",
          "dtype": "f8"
         }
        },
        {
         "fill": "tonexty",
         "fillcolor": "rgba(31, 119, 180, 0.3)",
         "legendgroup": "('llama3.1_8b_chat', 'birth_years_4k', 'base', 'main', 'prompt_answer')",
         "line": {
          "width": 0
         },
         "mode": "lines",
         "name": "('llama3.1_8b_chat', 'birth_years_4k', 'base', 'main', 'prompt_answer') -1 STD",
         "showlegend": false,
         "type": "scatter",
         "x": {
          "bdata": "AAECAwQFBgcICQoLDA0ODxAREhMUFRYXGBkaGxwdHh8=",
          "dtype": "i1"
         },
         "y": {
          "bdata": "9GzefpjS4T/L2hRfL/fiP+Lq5nInXeM/18Z61Oqp4z8vdNo4i3LkP3dIWiUTZuU/4TPCBLNx5T8BbwTi097lP7pW/V4wPOY/oTaMkjRe5j8sV4M3vFbmPzIz6xexXeY/olDmza125j81QGBTMvblPwQbUHtdx+U/FjqnMVp/5j/IlSfvFFnmP3bcS3x3auY/GA7p3GsS5j8CbGdmECzmP5tKlsq3f+U/y6m3KTOj5T/poat3zMblP8GMPyySpOU/HPQ8ylIV5T8z2ifx9S/lP6S8vVqi9eQ/+MhMHbAX5j9r1TS/frPlP0bPvvx/h+Y/NxyIvpcg5j/uFxToJlnlPw==",
          "dtype": "f8"
         }
        },
        {
         "legendgroup": "('llama3.1_8b_chat', 'birth_years_4k', 'base', 'main', 'prompt_answer')",
         "marker": {
          "color": "#1f77b4",
          "opacity": 0.5,
          "size": 6
         },
         "mode": "markers",
         "name": "('llama3.1_8b_chat', 'birth_years_4k', 'base', 'main', 'prompt_answer') Fold ('logistic_regression_f1_score', 0)",
         "showlegend": false,
         "type": "scatter",
         "x": {
          "bdata": "AAECAwQFBgcICQoLDA0ODxAREhMUFRYXGBkaGxwdHh8=",
          "dtype": "i1"
         },
         "y": {
          "bdata": "OR0mrOtf4z/7PbfEqd/jP8F4K/scUuM/CUf193mb5D+M5IcSsUblPxhpxwqEkeY/6GltdIKe5j9F6h8Z8+rmP5Z1ZV1ZV+Y/lmVZlmVZ5j8fLsWneznmPxO2QXAqE+Y/p37PLXHq5z/LiD6gOvbmP3Zd13Vd1+U/Z3kSmYbt5j+qgF+4tTfmP1VVVVVV1eY/AQKDxCY65z8JORXwC7fmP5Z1ZV1ZV+Y/gQUWWGCB5T97XxOCsvflP2ZmZmZmZuY/N0thAYro5T9EiVijip7lP9pNNQSi3eQ/fa2eHQI35j+21lprrbXmP4Vn+ht0u+Y/N0thAYro5T/Tm970pjflPw==",
          "dtype": "f8"
         }
        },
        {
         "legendgroup": "('llama3.1_8b_chat', 'birth_years_4k', 'base', 'main', 'prompt_answer')",
         "marker": {
          "color": "#1f77b4",
          "opacity": 0.5,
          "size": 6
         },
         "mode": "markers",
         "name": "('llama3.1_8b_chat', 'birth_years_4k', 'base', 'main', 'prompt_answer') Fold ('logistic_regression_f1_score', 1)",
         "showlegend": false,
         "type": "scatter",
         "x": {
          "bdata": "AAECAwQFBgcICQoLDA0ODxAREhMUFRYXGBkaGxwdHh8=",
          "dtype": "i1"
         },
         "y": {
          "bdata": "Mh7jMR7j4T+7ErUrUbviP1RcMgTraOM/6nQ6nU6n4z+rqqqqqirkP2Q5A6cxP+Y/iEvx6V6O5T8R27Ti3knmP/EmE8LQqeY/pmG7WZ5E5j9XaqVWaqXmP6rVv0oFqOY/FmVRFmVR5j/iUny6l2PlP4AVYAVYAeY/r8h8aeIw5j8lKKeaUbTmP4i9YMn2NeY/RIlYo4qe5T9qsDuT0eLlP1VVVVVVVeU/eDkFL6fg5T+/q8VNmN/lP5H50sRhrOY/jSlfhyUc5T9r9a9SAarlPwW+uPpBR+U/iuW3TgMp5j8q4Bdu7Y3lP2clXqZ2aOY/q6qqqqqq5j+fW+LU77nlPw==",
          "dtype": "f8"
         }
        },
        {
         "legendgroup": "('llama3.1_8b_chat', 'birth_years_4k', 'base', 'main', 'prompt_answer')",
         "marker": {
          "color": "#1f77b4",
          "opacity": 0.5,
          "size": 6
         },
         "mode": "markers",
         "name": "('llama3.1_8b_chat', 'birth_years_4k', 'base', 'main', 'prompt_answer') Fold ('logistic_regression_f1_score', 2)",
         "showlegend": false,
         "type": "scatter",
         "x": {
          "bdata": "AAECAwQFBgcICQoLDA0ODxAREhMUFRYXGBkaGxwdHh8=",
          "dtype": "i1"
         },
         "y": {
          "bdata": "q1OxOhWr4z8aOWnkpJHjP19CewntJeQ/rGa4HTzF5D9KyKmAX7jlP2LG5/JLFOc/OinC3LTw5j+/UqDWrxToP2LG5/JLFOc/eZnaoVmJ5z9cj8L1KFznP8GS7WusMuc/vZ0hMW9n6D83ciM3ciPnP7Zne7Zne+Y/9qGxPjTW5z/7Z3oOYi/oPyUop5pRtOY/+4CtETM+5z/KJptsssnmP2v1r1IBquU/Ysbn8ksU5z/4vFilrfDnP179Mz0Hsec/+SWKq7YP6D+GIrNFrcbnP/uArREzPuc/TI4qwF9w5z+9FKA7bCvnP0YXXXTRRec/9AV9QV/Q5z84bysmjgjnPw==",
          "dtype": "f8"
         }
        },
        {
         "legendgroup": "('llama3.1_8b_chat', 'birth_years_4k', 'base', 'main', 'prompt_answer')",
         "marker": {
          "color": "#1f77b4",
          "opacity": 0.5,
          "size": 6
         },
         "mode": "markers",
         "name": "('llama3.1_8b_chat', 'birth_years_4k', 'base', 'main', 'prompt_answer') Fold ('logistic_regression_f1_score', 3)",
         "showlegend": false,
         "type": "scatter",
         "x": {
          "bdata": "AAECAwQFBgcICQoLDA0ODxAREhMUFRYXGBkaGxwdHh8=",
          "dtype": "i1"
         },
         "y": {
          "bdata": "1p/Bb6Kn4z/DgdintjfjP1RABVRABeQ/LJ+I2Vw65D91Tdd0TdfkP6mbQcuO5+Q/iVO/55Y45T+ZXEFMriDmP2d5EpmG7eY/snbJ2iVr5z+H7WZ5EpnmP3z5Oa+bSec/98BG74rM5z/h5RS8nILnP1Zbf3tgo+c/N3IjN3Ij5z9SBfgL7prnPzJfmjiM1eY/GGnHCoSR5j+/dRpIsfzmP2d5EpmG7eY/Hy7Fp3s55j+WJ5Fp2G7mP1VVVVVV1eY/q6qqqqqq5j9MaC+hvYTmPx8uxad7OeY/y4g+oDr25j/hN9HTub3mP0YXXXTRRec/6rXPQgmm5z833lHN+jPoPw==",
          "dtype": "f8"
         }
        },
        {
         "legendgroup": "('llama3.1_8b_chat', 'birth_years_4k', 'base', 'main', 'prompt_answer')",
         "marker": {
          "color": "#1f77b4",
          "opacity": 0.5,
          "size": 6
         },
         "mode": "markers",
         "name": "('llama3.1_8b_chat', 'birth_years_4k', 'base', 'main', 'prompt_answer') Fold ('logistic_regression_f1_score', 4)",
         "showlegend": false,
         "type": "scatter",
         "x": {
          "bdata": "AAECAwQFBgcICQoLDA0ODxAREhMUFRYXGBkaGxwdHh8=",
          "dtype": "i1"
         },
         "y": {
          "bdata": "9fd5m3SX4T/kV54zqrTjP+amhbfsnOQ/h+1meRKZ5j+NKV+HJRzlP6qAX7i1N+Y/l2/5lm/55j+T7jKmfB3mP1iAkfxQIuY/UgX4C+6a5z/7gK0RMz7nP36Dq4akL+c/AAAAAACA5j+uS2ngb97mPyjEWfkJceY/Q3kN5TWU5z9Ag99ET+fmP3UJNhA49+Y/d3d3d3d35z+XlpaWlpbmP8UmOtdCZOY/vRSgO2wr5z+uS2ngb97mP9evFKj1K+U/YKUCVKt/5T9VVVVVVVXlP+esQfG0x+U//dvQd69s5j/nrEHxtMflP7UlbUlb0uY/guzCYiSU5j/FJjrXQmTmPw==",
          "dtype": "f8"
         }
        },
        {
         "legendgroup": "('llama3.1_8b_chat', 'birth_years_4k', 'base', 'main', 'prompt_only')",
         "line": {
          "color": "#ff7f0e",
          "width": 2
         },
         "marker": {
          "size": 8
         },
         "mode": "lines+markers",
         "name": "('llama3.1_8b_chat', 'birth_years_4k', 'base', 'main', 'prompt_only')",
         "type": "scatter",
         "x": {
          "bdata": "AAECAwQFBgcICQoLDA0ODxAREhMUFRYXGBkaGxwdHh8=",
          "dtype": "i1"
         },
         "y": {
          "bdata": "EEYdlWOn4D8XWEHsxOvhP1a4Wp4GkeI/6aGWNl9p4z9D6jKj3XfkP9/gRV2y3uQ/vu4WnRuA5T/lNCvPV2DlP9gahbfRbuU/s6H86Bqh5T8DXSKoAkjmP+Pb2RdE/OU/SnhvsG5d5j+W0DVvPznmP2fo0OWQ/uU/f25G2ELc5T9H9HKp40jmPyVtPzQD8OU/WPgWgqPT5T9Wu7KQ9w7mPyhPwWEz2uU/TvyhFJ+F5T+2WrRtDjnmPxovek3OOeY/iMDLmaih5T/KQlHe7hDmP07Lxs3GaeY/i/7R9YP75T/YL9bUHSLmP8dPGqQEZeY/NpJ8TqEj5j/TIlW5On/mPw==",
          "dtype": "f8"
         }
        },
        {
         "legendgroup": "('llama3.1_8b_chat', 'birth_years_4k', 'base', 'main', 'prompt_only')",
         "line": {
          "width": 0
         },
         "mode": "lines",
         "name": "('llama3.1_8b_chat', 'birth_years_4k', 'base', 'main', 'prompt_only') Max",
         "showlegend": false,
         "type": "scatter",
         "x": {
          "bdata": "AAECAwQFBgcICQoLDA0ODxAREhMUFRYXGBkaGxwdHh8=",
          "dtype": "i1"
         },
         "y": {
          "bdata": "kCGps+Pu4T/IU4I8JcjjPx+rJJrFheM/NAejgXYd5T/YUF5DeQ3lPxzWvmHtG+Y/2qjvbNR35j+K5bdOAynmP7vErIUCOuY/tNL5xD1O5j/3pX1pX9rnP1vKBiYIlOY/Ysbn8ksU5z9e85KjCvDnPwAAAAAAAOc/wZLta6wy5z8dlnBUf5/nP27pbqRF5OY/PuCyRIKF5j9qH68GCo/mP53H5L3xAec/guzCYiSU5j+9FKA7bCvnP8uIPqA69uY/92zP9mzP5j+3bdu2bdvmP6uqqqqqKuc/ao+rgGBI5j8xdKol9YDmP8QSjurv8+Y/h+1meRKZ5j+TWhAKkB3nPw==",
          "dtype": "f8"
         }
        },
        {
         "fill": "tonexty",
         "fillcolor": "rgba(255, 127, 14, 0.1)",
         "legendgroup": "('llama3.1_8b_chat', 'birth_years_4k', 'base', 'main', 'prompt_only')",
         "line": {
          "width": 0
         },
         "mode": "lines",
         "name": "('llama3.1_8b_chat', 'birth_years_4k', 'base', 'main', 'prompt_only') Min",
         "showlegend": false,
         "type": "scatter",
         "x": {
          "bdata": "AAECAwQFBgcICQoLDA0ODxAREhMUFRYXGBkaGxwdHh8=",
          "dtype": "i1"
         },
         "y": {
          "bdata": "m/o9t8Sp3z9Y+nO240PgP1HjB1HjB+E/HWhiGm0B4j+M74Q+bRLkP7buGVl6SOM/GutDY31o5D9URmVURmXkPwAAAAAAAOU/T+jTJkE55T8ppZRSSinlP7JKollcOOU/a7VarVar5T/oNvDanXLlPwU07tZ5BeQ/Eh/WWQGa5D9S39mo72zkP4YsZCELWeQ/zw6BG8ug5D93Uw2BaDflP3Eg9qntzeQ/5QJeb6M/5D+VURmVURnlPzKJg/etkeU/HEyRz7rB5D8LWCtgrYDlPxaykIUsZOU/qswj8WGd5T+rqqqqqqrlPzprUDztceU/Gy/dJAaB5T/WX/3VX/3lPw==",
          "dtype": "f8"
         }
        },
        {
         "legendgroup": "('llama3.1_8b_chat', 'birth_years_4k', 'base', 'main', 'prompt_only')",
         "line": {
          "width": 0
         },
         "mode": "lines",
         "name": "('llama3.1_8b_chat', 'birth_years_4k', 'base', 'main', 'prompt_only') +1 STD",
         "showlegend": false,
         "type": "scatter",
         "x": {
          "bdata": "AAECAwQFBgcICQoLDA0ODxAREhMUFRYXGBkaGxwdHh8=",
          "dtype": "i1"
         },
         "y": {
          "bdata": "nSUCOLN04T9VO7sclivjP2ryGxEfkOM/QPlEcKCG5D+iYmWoRNrkP6ztRa8c5OU/ACxYf25E5j+zTtS09gHmPwHd7Rop+uU/9EuKxxUb5j8HihcYtWbnP0IgxY75hOY/o5wczov85j/J/zUgpjfnP3FyxOMZI+c/qAqkLOHQ5j+76AzMlXLnP3WeJz4K5uY/nOxxWQiZ5j+968ow4aDmP4rFQhhBxuY/Cj0+DeGB5j+eoa7K+hHnP4LybKw8yuY/hDbvmnZh5j8ms0qot6DmP22fQu17Eec/wvzaN1FA5j8oWwrGjHnmP9ZvKhwb+eY/fCgeun2J5j+K7CYXxgjnPw==",
          "dtype": "f8"
         }
        },
        {
         "fill": "tonexty",
         "fillcolor": "rgba(255, 127, 14, 0.3)",
         "legendgroup": "('llama3.1_8b_chat', 'birth_years_4k', 'base', 'main', 'prompt_only')",
         "line": {
          "width": 0
         },
         "mode": "lines",
         "name": "('llama3.1_8b_chat', 'birth_years_4k', 'base', 'main', 'prompt_only') -1 STD",
         "showlegend": false,
         "type": "scatter",
         "x": {
          "bdata": "AAECAwQFBgcICQoLDA0ODxAREhMUFRYXGBkaGxwdHh8=",
          "dtype": "i1"
         },
         "y": {
          "bdata": "Bs1w5Ce03z/ZdMe786vgP0J+mSvukeE/kkro/B1M4j/kcQCedhXkPxLURQtI2eM/fLHVusi75D8XG4LpuL7kP69YHFR64+Q/cvduCiAn5T//Ly04UCnlP4SX7qCOc+U/8VPCklG+5T9joTW+2DrlP11e3ecH2uQ/VtLog6Tn5D/T/9iGMR/lP9U7Vyr8+eQ/FAS8qj4O5T/viprwDX3lP8bYP6sl7uQ/krsFHF2J5D/OE7oQImDlP7Jrh+5fqeU/jEqomNrh5D9u0lcUJoHlPy/3Sq4RwuU/VADJs7a25T+IBKLjrsrlP7gvCizu0OU/8Pva4sS95T8cWYNbr/XlPw==",
          "dtype": "f8"
         }
        },
        {
         "legendgroup": "('llama3.1_8b_chat', 'birth_years_4k', 'base', 'main', 'prompt_only')",
         "marker": {
          "color": "#ff7f0e",
          "opacity": 0.5,
          "size": 6
         },
         "mode": "markers",
         "name": "('llama3.1_8b_chat', 'birth_years_4k', 'base', 'main', 'prompt_only') Fold ('logistic_regression_f1_score', 0)",
         "showlegend": false,
         "type": "scatter",
         "x": {
          "bdata": "AAECAwQFBgcICQoLDA0ODxAREhMUFRYXGBkaGxwdHh8=",
          "dtype": "i1"
         },
         "y": {
          "bdata": "feIeJ8t44D8nH518dPLhPx+rJJrFheM/q6qqqqoq4z/CSDtWIIzkP6TkWUb0AeU/wFoBawWs5T9kNXuS72PlP9R3Nuo7G+U/jOSHErFG5T8fIfDMDWTlP7JKollcOOU/peLsw2fY5T9ffs7rZtLlPwU07tZ5BeQ/Eh/WWQGa5D9S39mo72zkP4YsZCELWeQ/zw6BG8ug5D93Uw2BaDflP3Eg9qntzeQ/5QJeb6M/5D+VURmVURnlPzKJg/etkeU/HEyRz7rB5D98hMAzN5DlPxaykIUsZOU/qswj8WGd5T94Nuo7G/XlPzprUDztceU/Gy/dJAaB5T+T7jKmfB3mPw==",
          "dtype": "f8"
         }
        },
        {
         "legendgroup": "('llama3.1_8b_chat', 'birth_years_4k', 'base', 'main', 'prompt_only')",
         "marker": {
          "color": "#ff7f0e",
          "opacity": 0.5,
          "size": 6
         },
         "mode": "markers",
         "name": "('llama3.1_8b_chat', 'birth_years_4k', 'base', 'main', 'prompt_only') Fold ('logistic_regression_f1_score', 1)",
         "showlegend": false,
         "type": "scatter",
         "x": {
          "bdata": "AAECAwQFBgcICQoLDA0ODxAREhMUFRYXGBkaGxwdHh8=",
          "dtype": "i1"
         },
         "y": {
          "bdata": "zzZS+3g14D9J7ePVQOHhP+PqBx0V+OI/AAAAAACA4z+M74Q+bRLkP+wdUwN7x+Q/GutDY31o5D8yrbajyX3lP7vErIUCOuY/tTJ5AqLz5T9IzNsZEvPmP3VFXVFX1OU/HuSuny1W5j+vDtnsPS/mP/pu+FFdYuY/V508qthw5T96FqZnYXrmP1DrVwrU+uU/U6DWrxSo5T+oc3stOcTlP2Z8Lr9EceU/pORZRvQB5T8e5K6fLVbmP3+rjaHpDuY/N+7zgBeZ5T9StiZla1LmPyOhtPGOauY/tlgZvhEF5j8xdKol9YDmP7bWWmutteY/u8SshQI65j+TWhAKkB3nPw==",
          "dtype": "f8"
         }
        },
        {
         "legendgroup": "('llama3.1_8b_chat', 'birth_years_4k', 'base', 'main', 'prompt_only')",
         "marker": {
          "color": "#ff7f0e",
          "opacity": 0.5,
          "size": 6
         },
         "mode": "markers",
         "name": "('llama3.1_8b_chat', 'birth_years_4k', 'base', 'main', 'prompt_only') Fold ('logistic_regression_f1_score', 2)",
         "showlegend": false,
         "type": "scatter",
         "x": {
          "bdata": "AAECAwQFBgcICQoLDA0ODxAREhMUFRYXGBkaGxwdHh8=",
          "dtype": "i1"
         },
         "y": {
          "bdata": "KCbZt+fS4D/kXc9XGrvhPzIN283yJOI/HWhiGm0B4j8LJZhe+yzkP7buGVl6SOM/q6qqqqoq5T9URmVURmXkPwAAAAAAAOU/O1YgjLRj5T8ppZRSSinlP4aK1D8y5uU/a7VarVar5T+fW+LU77nlP7mCmFxBTOY/dXbcPbrh5T9kIQtZyELmP9/4gMsSCeY/PuCyRIKF5j+bBOVUM4rmP53H5L3xAec/guzCYiSU5j+9FKA7bCvnP8uIPqA69uY/92zP9mzP5j8LWCtgrYDlP6uqqqqqKuc/i8VisVgs5j9r9iTfx2rmP8QSjurv8+Y/h+1meRKZ5j8fLsWneznmPw==",
          "dtype": "f8"
         }
        },
        {
         "legendgroup": "('llama3.1_8b_chat', 'birth_years_4k', 'base', 'main', 'prompt_only')",
         "marker": {
          "color": "#ff7f0e",
          "opacity": 0.5,
          "size": 6
         },
         "mode": "markers",
         "name": "('llama3.1_8b_chat', 'birth_years_4k', 'base', 'main', 'prompt_only') Fold ('logistic_regression_f1_score', 3)",
         "showlegend": false,
         "type": "scatter",
         "x": {
          "bdata": "AAECAwQFBgcICQoLDA0ODxAREhMUFRYXGBkaGxwdHh8=",
          "dtype": "i1"
         },
         "y": {
          "bdata": "m/o9t8Sp3z9Y+nO240PgP1HjB1HjB+E/jw9Byk1F4z/YUF5DeQ3lPxzWvmHtG+Y/VxCTK4jJ5T8E+ogytHHlP5ZhklsJDuU/T+jTJkE55T+KmM2lQw3mP1vKBiYIlOY/Ysbn8ksU5z9e85KjCvDnP0xklfe7ROY/4WKDiw0u5j8aGEOR2aLmP5YnkWnYbuY/peLsw2fY5T+IvWDJ9jXmPztWIIy0Y+U/VVVVVVVV5T9r9a9SAarlPxoYQ5HZouY/B8ZQZLao5T9hTain7BXmPx6T98YHXOY/X37O62bS5T+rqqqqqqrlP5U1ZU1ZU+Y/dqPKPBIf5j/WX/3VX/3lPw==",
          "dtype": "f8"
         }
        },
        {
         "legendgroup": "('llama3.1_8b_chat', 'birth_years_4k', 'base', 'main', 'prompt_only')",
         "marker": {
          "color": "#ff7f0e",
          "opacity": 0.5,
          "size": 6
         },
         "mode": "markers",
         "name": "('llama3.1_8b_chat', 'birth_years_4k', 'base', 'main', 'prompt_only') Fold ('logistic_regression_f1_score', 4)",
         "showlegend": false,
         "type": "scatter",
         "x": {
          "bdata": "AAECAwQFBgcICQoLDA0ODxAREhMUFRYXGBkaGxwdHh8=",
          "dtype": "i1"
         },
         "y": {
          "bdata": "kCGps+Pu4T/IU4I8JcjjPyoTtkFwKuM/NAejgXYd5T8g5Uf5UX7kP/2c182kK+U/2qjvbNR35j+K5bdOAynmPxDoI8rQxuU/tNL5xD1O5j/3pX1pX9rnP2ZmZmZmZuY/5RZPbvHk5j/oNvDanXLlPwAAAAAAAOc/wZLta6wy5z8dlnBUf5/nP27pbqRF5OY/tmd7tmd75j9qH68GCo/mPxfRnDUonuY/KMRZ+Qlx5j+2hW1hW9jmP+cV0Lhb5+U/VVVVVVVV5T+3bdu2bdvmP4Vn+ht0u+Y/ao+rgGBI5j92o8o8Eh/mP5sE5VQziuY/P1azJ/k+5j8K16NwPQrnPw==",
          "dtype": "f8"
         }
        },
        {
         "legendgroup": "('llama3.1_8b_chat', 'cities_10k', 'base', 'main', 'prompt_answer')",
         "line": {
          "color": "#2ca02c",
          "width": 2
         },
         "marker": {
          "size": 8
         },
         "mode": "lines+markers",
         "name": "('llama3.1_8b_chat', 'cities_10k', 'base', 'main', 'prompt_answer')",
         "type": "scatter",
         "x": {
          "bdata": "AAECAwQFBgcICQoLDA0ODxAREhMUFRYXGBkaGxwdHh8=",
          "dtype": "i1"
         },
         "y": {
          "bdata": "d+mhpfJQ5D+KmzvH8ffjP0BtgjN+FOQ/1wazRxdR5D/740slrb3kP+phrosxCOU/CxPf2drq5T/+/NH6ySDmP9Kvuaw4neY/YV4jzQAg5z+6WBvUJgfnP9yrZ2bMOOc/Eh9R6n1I5z/2u00dipznP/qE5Ux6K+c/LsJe9rwm5z86J3uEI0HnPx6cCt+kLOc/0PuIuTk55z/Glfd0H3/nP2SYqcKCZuc/yCKICvZA5z/V/ewGaCHnP3WuIkHqO+c/HnspB+cv5z/T1aRG+RjnP7Z4rPARIuc/Je7X1xpc5z/auJA4NSPnP2N9TC+hQOc/nR4LVyM75z8Sz2iLzzbnPw==",
          "dtype": "f8"
         }
        },
        {
         "legendgroup": "('llama3.1_8b_chat', 'cities_10k', 'base', 'main', 'prompt_answer')",
         "line": {
          "width": 0
         },
         "mode": "lines",
         "name": "('llama3.1_8b_chat', 'cities_10k', 'base', 'main', 'prompt_answer') Max",
         "showlegend": false,
         "type": "scatter",
         "x": {
          "bdata": "AAECAwQFBgcICQoLDA0ODxAREhMUFRYXGBkaGxwdHh8=",
          "dtype": "i1"
         },
         "y": {
          "bdata": "+wKP0BoH5T/rJJt5aGPkP4+SjKmsS+Q/m1CMXBy25D9sAcoDcF/lP6ZtzHikMuU/JOijIePI5j9fKmj1pYLmPz9QJ5JYW+c/eIh3iHeI5z+LhZIPltTnP/AH/AF/wOc/F8JsF8Js5z8b/jbFqOHnP7x37969e+c/pNa1VzOI5z+/jl/Hr+PnP8TQrTj8u+c/l12tOKai5z/G3U/weePnPxd7tt6W8uc/7RZ+NSbS5z/m6K7T4b/nPyI9UDm7hec/rBxaZDvf5z/8/X6/3+/nPyezH0Y2E+g/xgUZF2Rc6D/Jk1qS1UDoP3oOdPMjT+g//oMH8OE/6D/RHYBOrUjoPw==",
          "dtype": "f8"
         }
        },
        {
         "fill": "tonexty",
         "fillcolor": "rgba(44, 160, 44, 0.1)",
         "legendgroup": "('llama3.1_8b_chat', 'cities_10k', 'base', 'main', 'prompt_answer')",
         "line": {
          "width": 0
         },
         "mode": "lines",
         "name": "('llama3.1_8b_chat', 'cities_10k', 'base', 'main', 'prompt_answer') Min",
         "showlegend": false,
         "type": "scatter",
         "x": {
          "bdata": "AAECAwQFBgcICQoLDA0ODxAREhMUFRYXGBkaGxwdHh8=",
          "dtype": "i1"
         },
         "y": {
          "bdata": "iTcU13d84z8/ADsV0iHjPzkmtqz07+M/hp4D3fzI4z+whdPvPxfkPyVJkiRJkuQ/+F9Qk85p5T/WSBtbgLXlP05AKeplJOY/3e8N0T+95j8AAAAAAADmP28rH9cPveY/Vn0yyVcG5z93d3d3d3fnP3CBC1zgAuc/ZCELWchC5j/mlltuueXmP/pu+FFdYuY/torolOou5j8LaVMdFgTnP0KTbjpRquY/52LxV3Mu5j+CS3INeizmP0ut1Eqt1OY/JTZ/wkJX5j8E9e2GlBjmP6fffy4oPeY/11lLopjS5j/ek2Ls8qHmP739yggHbOY/vBOJ00xM5j9RXkN5DeXlPw==",
          "dtype": "f8"
         }
        },
        {
         "legendgroup": "('llama3.1_8b_chat', 'cities_10k', 'base', 'main', 'prompt_answer')",
         "line": {
          "width": 0
         },
         "mode": "lines",
         "name": "('llama3.1_8b_chat', 'cities_10k', 'base', 'main', 'prompt_answer') +1 STD",
         "showlegend": false,
         "type": "scatter",
         "x": {
          "bdata": "AAECAwQFBgcICQoLDA0ODxAREhMUFRYXGBkaGxwdHh8=",
          "dtype": "i1"
         },
         "y": {
          "bdata": "gABcGRLm5D+mZnG0m3bkP2iG7+nSO+Q/8vEkbF+55D93Q6V45UjlPzZZvMajTOU/8DPsLHJ65j+FUxIztoXmP5yuYI/0Huc/HXuVd9N25z9+PrzoNsrnP8HJvIufl+c/xP7M5xp05z8cfbk4TMbnPzPxTrR0XOc/47TIsBCr5z/4YH8TOqXnPzTSk8lftOc//dSt06/W5z9AiMjjduXnP5vp6c0Q6uc/MPHhk2Tk5z8jbxC8eLvnP5W1UWD/fec/GDBuKbnC5z91w5KTFtznPyiQxxJu1uc/TUYKQOYM6D+QLsoiR8nnPxZU7qAg8Oc/IiysstHw5z+eoAytohToPw==",
          "dtype": "f8"
         }
        },
        {
         "fill": "tonexty",
         "fillcolor": "rgba(44, 160, 44, 0.3)",
         "legendgroup": "('llama3.1_8b_chat', 'cities_10k', 'base', 'main', 'prompt_answer')",
         "line": {
          "width": 0
         },
         "mode": "lines",
         "name": "('llama3.1_8b_chat', 'cities_10k', 'base', 'main', 'prompt_answer') -1 STD",
         "showlegend": false,
         "type": "scatter",
         "x": {
          "bdata": "AAECAwQFBgcICQoLDA0ODxAREhMUFRYXGBkaGxwdHh8=",
          "dtype": "i1"
         },
         "y": {
          "bdata": "btLnMdO74z9u0AXaR3njPxhUFX0p7eM/vBtBI8/o4z9/hPLRdDLkP55qoFC/w+Q/JvLRhkNb5T93ppHC3bvlPwixEsp8G+Y/pUGxIi7J5j/2cnq/FkTmP/eNEkH52eY/YD/V7OAc5z/Q+uEByHLnP8EYfOV/+uY/ec/0O2mi5j987Xb1DN3mPwhmgfTppOY/oyJkn8Ob5j9MoyYGyBjnPy1Habf04uY/YFQugYed5j+HjMlRV4fmP1Wn8yHV+eY/JMbk5BSd5j8x6Lb521XmP0Rhkc61beY//ZWlb0+r5j8kQ1dOI33mP7Cmqr0hkeY/GBFq+3SF5j+G/cRp/FjmPw==",
          "dtype": "f8"
         }
        },
        {
         "legendgroup": "('llama3.1_8b_chat', 'cities_10k', 'base', 'main', 'prompt_answer')",
         "marker": {
          "color": "#2ca02c",
          "opacity": 0.5,
          "size": 6
         },
         "mode": "markers",
         "name": "('llama3.1_8b_chat', 'cities_10k', 'base', 'main', 'prompt_answer') Fold ('logistic_regression_f1_score', 0)",
         "showlegend": false,
         "type": "scatter",
         "x": {
          "bdata": "AAECAwQFBgcICQoLDA0ODxAREhMUFRYXGBkaGxwdHh8=",
          "dtype": "i1"
         },
         "y": {
          "bdata": "6ws8Qmsc5D8/ADsV0iHjP26QB6Bh+eM/x8+jMaqQ5D/Vudiz9bbkPx46K454MeU/Tg2WcZ1v5T9m7TEOibjlP05AKeplJOY/7VREKJNt5z8AAAAAAADmPy1YIok3FOc/Vn0yyVcG5z8pf8ocmJLnP3CBC1zgAuc/ZCELWchC5j/mlltuueXmP/pu+FFdYuY/torolOou5j8Dw3eJwR3nP0KTbjpRquY/52LxV3Mu5j+CS3INeizmP4GQdwEWSuc/JTZ/wkJX5j8E9e2GlBjmP6fffy4oPeY/JurnVs735j/ek2Ls8qHmP739yggHbOY/vBOJ00xM5j9RXkN5DeXlPw==",
          "dtype": "f8"
         }
        },
        {
         "legendgroup": "('llama3.1_8b_chat', 'cities_10k', 'base', 'main', 'prompt_answer')",
         "marker": {
          "color": "#2ca02c",
          "opacity": 0.5,
          "size": 6
         },
         "mode": "markers",
         "name": "('llama3.1_8b_chat', 'cities_10k', 'base', 'main', 'prompt_answer') Fold ('logistic_regression_f1_score', 1)",
         "showlegend": false,
         "type": "scatter",
         "x": {
          "bdata": "AAECAwQFBgcICQoLDA0ODxAREhMUFRYXGBkaGxwdHh8=",
          "dtype": "i1"
         },
         "y": {
          "bdata": "/iJnWHCp5D/+9OJLjBXkP2mZB9B+L+Q/hp4D3fzI4z/P/hQo2FbkP6ZtzHikMuU/+F9Qk85p5T/WSBtbgLXlP+YBtN8LJeY/3e8N0T+95j+efEeGDeLmP1CaqNRxVuc/XHgAfuhj5z9y2aOH/4HnPyUeVF6sN+c/pNa1VzOI5z+gcnYLvxrnP3d3d3d3d+c/9KN0tvGY5z8LaVMdFgTnPxfbJXDvPuc/79nHZuRQ5z/44IMPPvjmP0ut1Eqt1OY/pG+Ovjn65j95uyOF0MLmP0/sxE7sxOY/11lLopjS5j87+TNDDvfmP3qlofGrOuc/8mFjhf9J5z86p1VRh2TnPw==",
          "dtype": "f8"
         }
        },
        {
         "legendgroup": "('llama3.1_8b_chat', 'cities_10k', 'base', 'main', 'prompt_answer')",
         "marker": {
          "color": "#2ca02c",
          "opacity": 0.5,
          "size": 6
         },
         "mode": "markers",
         "name": "('llama3.1_8b_chat', 'cities_10k', 'base', 'main', 'prompt_answer') Fold ('logistic_regression_f1_score', 2)",
         "showlegend": false,
         "type": "scatter",
         "x": {
          "bdata": "AAECAwQFBgcICQoLDA0ODxAREhMUFRYXGBkaGxwdHh8=",
          "dtype": "i1"
         },
         "y": {
          "bdata": "iTcU13d84z/rJJt5aGPkP6I/Ojv1AeQ/+xOwPwH74z+whdPvPxfkPyVJkiRJkuQ/f6uNoekO5j+g2SPbijfmP7Msy7Isy+Y/eIh3iHeI5z+bZbYgnLrnP/AH/AF/wOc/zBlzxpwx5z93d3d3d3fnP7x37969e+c/8eGNv1Bv5z8IIYQQQgjnP6WmK564Xec/Cjg0n+uP5z983ete97rnP+ADL/aZ1Oc/TXpGJMuk5z8idtVpJWLnP8uyLMuyLOc/pi3wxlNH5z+28/3UeOnmP0gGBQTQDOc/n39t9fnX5j/yslernr/mP5q0x7Ay/eY/ZZ9DaoLx5j+4cOHChQvnPw==",
          "dtype": "f8"
         }
        },
        {
         "legendgroup": "('llama3.1_8b_chat', 'cities_10k', 'base', 'main', 'prompt_answer')",
         "marker": {
          "color": "#2ca02c",
          "opacity": 0.5,
          "size": 6
         },
         "mode": "markers",
         "name": "('llama3.1_8b_chat', 'cities_10k', 'base', 'main', 'prompt_answer') Fold ('logistic_regression_f1_score', 3)",
         "showlegend": false,
         "type": "scatter",
         "x": {
          "bdata": "AAECAwQFBgcICQoLDA0ODxAREhMUFRYXGBkaGxwdHh8=",
          "dtype": "i1"
         },
         "y": {
          "bdata": "5iXj+U5L5D9vbZjmLvjjP4+SjKmsS+Q/m1CMXBy25D8nNPDq4y/lP0Ff0Bf0BeU/UV5DeQ3l5T9fKmj1pYLmP/Sv0FAkouY/jFDR+Dn15j/iU/htgrLmP28rH9cPveY/wsmCbtZh5z+h3Wex+qDnP6n13tTsE+c/omkmyEhg5z/OCrJER1nnP7uu67qu6+Y/wiZufLIj5z+OBc9SVLvnP6MM1k0cUOc/2N8qHIVO5z+iaSbISGDnP5I65PRhWuc/rBxaZDvf5z/8/X6/3+/nPyPW9Os+iOc/Vd19McHN5z9wyIqtlBbnP6MM1k0cUOc/AAAAAABg5z9EdxHdRXTnPw==",
          "dtype": "f8"
         }
        },
        {
         "legendgroup": "('llama3.1_8b_chat', 'cities_10k', 'base', 'main', 'prompt_answer')",
         "marker": {
          "color": "#2ca02c",
          "opacity": 0.5,
          "size": 6
         },
         "mode": "markers",
         "name": "('llama3.1_8b_chat', 'cities_10k', 'base', 'main', 'prompt_answer') Fold ('logistic_regression_f1_score', 4)",
         "showlegend": false,
         "type": "scatter",
         "x": {
          "bdata": "AAECAwQFBgcICQoLDA0ODxAREhMUFRYXGBkaGxwdHh8=",
          "dtype": "i1"
         },
         "y": {
          "bdata": "+wKP0BoH5T8Xgtgiw0TkPzkmtqz07+M/UU+bu6+K5D9sAcoDcF/lP2mZDXedLOU/JOijIePI5j+5tkCst3vmPz9QJ5JYW+c/GboVh3/35j+LhZIPltTnP3E1IMnFM+c/F8JsF8Js5z8b/jbFqOHnP+yLTRIsD+c/UYdklxsn5z+/jl/Hr+PnP8TQrTj8u+c/l12tOKai5z/G3U/weePnPxd7tt6W8uc/7RZ+NSbS5z/m6K7T4b/nPyI9UDm7hec/d3d3d3d35z/1iqnAIMjnPyezH0Y2E+g/xgUZF2Rc6D/Jk1qS1UDoP3oOdPMjT+g//oMH8OE/6D/RHYBOrUjoPw==",
          "dtype": "f8"
         }
        },
        {
         "legendgroup": "('llama3.1_8b_chat', 'cities_10k', 'base', 'main', 'prompt_only')",
         "line": {
          "color": "#d62728",
          "width": 2
         },
         "marker": {
          "size": 8
         },
         "mode": "lines+markers",
         "name": "('llama3.1_8b_chat', 'cities_10k', 'base', 'main', 'prompt_only')",
         "type": "scatter",
         "x": {
          "bdata": "AAECAwQFBgcICQoLDA0ODxAREhMUFRYXGBkaGxwdHh8=",
          "dtype": "i1"
         },
         "y": {
          "bdata": "qAs/Kp0p4j94HElcCCLiP2Ytt+kuHeI/7h8cK8ZS4j+ZrMCjZP/iP7UGoU296+M/xs40kOyN5D/QvR0zzvbkP/BM6S3L6uU/mkAdsBMH5j9GPvgYLwnmPwMjSwpkPuY/5xuyjPhe5j8T8SkIF33mPz7U5LMQtuY/+BKHBra15j+g8Mf+YrjmPxbOBEpk0+Y/eq2fH9hv5j/q+npYSo/mPxI3ri5UiuY/8jTaIY+Y5j9eZMVpZpXmP+6DUnfHpuY/yssqsxD95j9yXRDmKqTmPyqiCp34z+Y/6ss2xfh75j+or7t2QF/mP/L6F01smuY/BnUl3SmZ5j/T1UtLjYPmPw==",
          "dtype": "f8"
         }
        },
        {
         "legendgroup": "('llama3.1_8b_chat', 'cities_10k', 'base', 'main', 'prompt_only')",
         "line": {
          "width": 0
         },
         "mode": "lines",
         "name": "('llama3.1_8b_chat', 'cities_10k', 'base', 'main', 'prompt_only') Max",
         "showlegend": false,
         "type": "scatter",
         "x": {
          "bdata": "AAECAwQFBgcICQoLDA0ODxAREhMUFRYXGBkaGxwdHh8=",
          "dtype": "i1"
         },
         "y": {
          "bdata": "RiDkXYCF4j9nt/CrMZHiP+HfljMdjuI/Gfwn5sj04j+Jklcg5kfjP6KQXMDrbeQ/Wxn8J+bI5D8hEl6AJH/lP25cMfpLM+Y/DeU1lNdQ5j9c2OKh7z/mP5kz5ow5Y+Y/KJNtF6Dw5j9ECWHdovrmPy2YnLaIQec/9tZbb7315j8AAAAAABDnP4ilkUkkPec/rSlrypqy5j8X/FWckJLnPwAAAAAAEOc/KlejcjUq5z8LPGNPDD3nP+pCXBosMec/GHXxQa2R5z/qV6B+BernP9gT9oQ9Yec/AAAAAAAQ5z8ayOV96fDmP8dxHMdxHOc/R3EdxXUU5z8WV1xxxRXnPw==",
          "dtype": "f8"
         }
        },
        {
         "fill": "tonexty",
         "fillcolor": "rgba(214, 39, 40, 0.1)",
         "legendgroup": "('llama3.1_8b_chat', 'cities_10k', 'base', 'main', 'prompt_only')",
         "line": {
          "width": 0
         },
         "mode": "lines",
         "name": "('llama3.1_8b_chat', 'cities_10k', 'base', 'main', 'prompt_only') Min",
         "showlegend": false,
         "type": "scatter",
         "x": {
          "bdata": "AAECAwQFBgcICQoLDA0ODxAREhMUFRYXGBkaGxwdHh8=",
          "dtype": "i1"
         },
         "y": {
          "bdata": "4Gwd+s3W4T8Mb671rKDhP2fMGXPGnOE/9c7S71L54T9RF/sb+ofiP3Nzc3Nzc+M/XdmISfMQ5D+jYFGwKFjkPxUHrTkTseU/U4UBJS975T+uMFeYK8zlP09hPYX1FOY/67oxoTbd5T9KvLRCb/blP6n3/FvEu+U/AAAAAADg5T+KQ5CtUxnmP/VNiVuSYeY/GQUBzfX95T8GBgYGBgbmP+r82kMuK+Y/AAAAAAAA5j8jVDR+Tr3lPwYGBgYGBuY/smTJkiVL5j9Wn0zylcHlP3hKY4SwQOY//WH7Enmc5T9p3DMMMO3lP7tUSBie5OU/r2NNXvA65j8cTZ1fe8jlPw==",
          "dtype": "f8"
         }
        },
        {
         "legendgroup": "('llama3.1_8b_chat', 'cities_10k', 'base', 'main', 'prompt_only')",
         "line": {
          "width": 0
         },
         "mode": "lines",
         "name": "('llama3.1_8b_chat', 'cities_10k', 'base', 'main', 'prompt_only') +1 STD",
         "showlegend": false,
         "type": "scatter",
         "x": {
          "bdata": "AAECAwQFBgcICQoLDA0ODxAREhMUFRYXGBkaGxwdHh8=",
          "dtype": "i1"
         },
         "y": {
          "bdata": "TwF01/B84j+Hr2XUqZPiPwVVU4RNhuI/abTDVla24j+F9BwSxFLjP2JOOrcPXuQ/S+u6v/3X5D8LGuasW3HlP8sj4svrHeY/OrdmLW1a5j+ZdFghokDmP/p3JpiDYeY/8a7nqJbV5j8T5b534eHmPxzVPZ0xXec/VEUc0Jst5z/Vl8swZh/nPzpOPFVjIec/BV89AN265j+TV2tyFzDnP4pglxkF+uY/gbj7LiQX5z9RMmm+ZDnnP2TRf8dOL+c/002543p65z/tj5F1YInnP3mtslNsS+c/7ja6gocn5z+xPBPMgc/mP0JQL4G/Eec/A7R3ttz15j9uSfu8nSHnPw==",
          "dtype": "f8"
         }
        },
        {
         "fill": "tonexty",
         "fillcolor": "rgba(214, 39, 40, 0.3)",
         "legendgroup": "('llama3.1_8b_chat', 'cities_10k', 'base', 'main', 'prompt_only')",
         "line": {
          "width": 0
         },
         "mode": "lines",
         "name": "('llama3.1_8b_chat', 'cities_10k', 'base', 'main', 'prompt_only') -1 STD",
         "showlegend": false,
         "type": "scatter",
         "x": {
          "bdata": "AAECAwQFBgcICQoLDA0ODxAREhMUFRYXGBkaGxwdHh8=",
          "dtype": "i1"
         },
         "y": {
          "bdata": "ARYKfUnW4T9piSzkZrDhP8cFG08QtOE/c4t0/zXv4T+tZGQ1BaziPwi/B+RqeeM/QbKuYNtD5D+VYVW5QHzkPxV28I+qt+U/+snTMrqz5T/zB5gQvNHlPwzOb3xEG+Y/3Yh8cFro5T8T/ZSYTBjmP2DTi8rvDuY/nODxPNA95j9rScTMX1HmP/JNzT5lheY/7/sBP9Mk5j9Bnoo+fe7lP5oNxUOjGuY/Y7G4FPoZ5j9rliEVaPHlP3g2JSdAHuY/wUmcgqZ/5j/3Ko9W9b7lP9uWYuaEVOY/5mCzB2rQ5T+fImQh/+7lP6KlABkZI+Y/CTbTA3c85j84YpzZfOXlPw==",
          "dtype": "f8"
         }
        },
        {
         "legendgroup": "('llama3.1_8b_chat', 'cities_10k', 'base', 'main', 'prompt_only')",
         "marker": {
          "color": "#d62728",
          "opacity": 0.5,
          "size": 6
         },
         "mode": "markers",
         "name": "('llama3.1_8b_chat', 'cities_10k', 'base', 'main', 'prompt_only') Fold ('logistic_regression_f1_score', 0)",
         "showlegend": false,
         "type": "scatter",
         "x": {
          "bdata": "AAECAwQFBgcICQoLDA0ODxAREhMUFRYXGBkaGxwdHh8=",
          "dtype": "i1"
         },
         "y": {
          "bdata": "RiDkXYCF4j98XsZaU23iP52B2vCa8OE/9c7S71L54T+mze3CpiHjP0hPOrwggOM/YYGskGuP5D+c0MCrj7/kPxUHrTkTseU/qWKp3Ykq5j9/Y2C19zfmP/THHKXbV+Y/swkOG0K35j+Z3UnD66PmP6NeO3YON+c/bfj8MUfp5j8AAAAAABDnP7fVfGFF2uY/lrOCLNFR5j8GBgYGBgbmP+r82kMuK+Y/iqIoiqIo5j8jVDR+Tr3lP7FixYoVK+Y/smTJkiVL5j9Wn0zylcHlP3hKY4SwQOY//WH7Enmc5T/8BKR6XC/mP739yggHbOY/2kmmmfQ95j9A5qPxOOnlPw==",
          "dtype": "f8"
         }
        },
        {
         "legendgroup": "('llama3.1_8b_chat', 'cities_10k', 'base', 'main', 'prompt_only')",
         "marker": {
          "color": "#d62728",
          "opacity": 0.5,
          "size": 6
         },
         "mode": "markers",
         "name": "('llama3.1_8b_chat', 'cities_10k', 'base', 'main', 'prompt_only') Fold ('logistic_regression_f1_score', 1)",
         "showlegend": false,
         "type": "scatter",
         "x": {
          "bdata": "AAECAwQFBgcICQoLDA0ODxAREhMUFRYXGBkaGxwdHh8=",
          "dtype": "i1"
         },
         "y": {
          "bdata": "uIh3K4QB4j8Mb671rKDhP2fMGXPGnOE/kiNHjhw54j9RF/sb+ofiP3Nzc3Nzc+M/XdmISfMQ5D9aHk6O9NXkP3Icx3Ecx+U/U4UBJS975T+wo4FyFtHlP09hPYX1FOY/7c2Zp9j45T9KvLRCb/blP6n3/FvEu+U/AAAAAADg5T+KQ5CtUxnmP/VNiVuSYeY/GQUBzfX95T+oyI6/ogzmP05kN5HdROY/AAAAAAAA5j8qVqdidSrmPwYGBgYGBuY/uhala1G65j+wo4FyFtHlP3Z2dnZ2duY/77333nvv5T8UrkfhehTmP7tUSBie5OU/r2NNXvA65j8cTZ1fe8jlPw==",
          "dtype": "f8"
         }
        },
        {
         "legendgroup": "('llama3.1_8b_chat', 'cities_10k', 'base', 'main', 'prompt_only')",
         "marker": {
          "color": "#d62728",
          "opacity": 0.5,
          "size": 6
         },
         "mode": "markers",
         "name": "('llama3.1_8b_chat', 'cities_10k', 'base', 'main', 'prompt_only') Fold ('logistic_regression_f1_score', 2)",
         "showlegend": false,
         "type": "scatter",
         "x": {
          "bdata": "AAECAwQFBgcICQoLDA0ODxAREhMUFRYXGBkaGxwdHh8=",
          "dtype": "i1"
         },
         "y": {
          "bdata": "4Gwd+s3W4T+NuEZcI67hP+HfljMdjuI/ZvIj6gJm4j+zpqwpa8riPyer5Y0RTOQ/qklF/56a5D+jYFGwKFjkP5fkp5uG5+U/DeU1lNdQ5j+uMFeYK8zlP17wV3FCSuY/z2UzROlc5j9ECWHdovrmP+vQb7YO/eY/vSFvyBvy5j+1JW1JW9LmP7Zs2bJly+Y/Xi1uwvyu5j9Y7mmE5Z7mPwAAAAAAEOc/Kjig1RzR5j9S6HS5CJ/mPxqXo3E5Guc/RnMZzWU05z9OIT8r473mP2qOYpDqOOc/AAAAAAAQ5z9p3DMMMO3lP3a3YNTkzuY/R3EdxXUU5z+JuPVeetLmPw==",
          "dtype": "f8"
         }
        },
        {
         "legendgroup": "('llama3.1_8b_chat', 'cities_10k', 'base', 'main', 'prompt_only')",
         "marker": {
          "color": "#d62728",
          "opacity": 0.5,
          "size": 6
         },
         "mode": "markers",
         "name": "('llama3.1_8b_chat', 'cities_10k', 'base', 'main', 'prompt_only') Fold ('logistic_regression_f1_score', 3)",
         "showlegend": false,
         "type": "scatter",
         "x": {
          "bdata": "AAECAwQFBgcICQoLDA0ODxAREhMUFRYXGBkaGxwdHh8=",
          "dtype": "i1"
         },
         "y": {
          "bdata": "A+cquy2B4j/eUMF01FziPy3zANrvheI/or4miaMQ4j/IQNYJBUHjPwMjNQYh7eM/HEyRz7rB5D8hEl6AJH/lP25cMfpLM+Y/H0D5eVEt5j8eJ70awhjmP9ph3wqnHeY/67oxoTbd5T/VY4knSD3mP89lM0TpXOY/t23btm3b5j/yszLeaw3nP4ilkUkkPec/rSlrypqy5j8X/FWckJLnPybq51bO9+Y/19bW1tbW5j8nJycnJyfnP/BQ0TdkxeY/Jpdccskl5z/6FqRvQfrmP6XHAgGMvuY/sSfsCXvC5j+6FqVrUbrmPwVr58QhyOY/xf0AHNe85j8m6udWzvfmPw==",
          "dtype": "f8"
         }
        },
        {
         "legendgroup": "('llama3.1_8b_chat', 'cities_10k', 'base', 'main', 'prompt_only')",
         "marker": {
          "color": "#d62728",
          "opacity": 0.5,
          "size": 6
         },
         "mode": "markers",
         "name": "('llama3.1_8b_chat', 'cities_10k', 'base', 'main', 'prompt_only') Fold ('logistic_regression_f1_score', 4)",
         "showlegend": false,
         "type": "scatter",
         "x": {
          "bdata": "AAECAwQFBgcICQoLDA0ODxAREhMUFRYXGBkaGxwdHh8=",
          "dtype": "i1"
         },
         "y": {
          "bdata": "aT2XlBHx4T9nt/CrMZHiP/DBBx988OE/Gfwn5sj04j+Jklcg5kfjP6KQXMDrbeQ/Wxn8J+bI5D9ZU9aUNWXlPx4cQaT1AuY/2DW4X4D/5T9c2OKh7z/mP5kz5ow5Y+Y/KJNtF6Dw5j9irugdLZ/mPy2YnLaIQec/9tZbb7315j/ulbck1JDmP4XQpriT3OY/plPBF9p95j9yLRLUVIjmP/rHbL3KO+Y/KlejcjUq5z8LPGNPDD3nP+pCXBosMec/GHXxQa2R5z/qV6B+BernP9gT9oQ9Yec/8rMy3msN5z8ayOV96fDmP8dxHMdxHOc/iCypeJ+z5j8WV1xxxRXnPw==",
          "dtype": "f8"
         }
        },
        {
         "legendgroup": "('llama3.1_8b_chat', 'football_leagues_1k', 'base', 'main', 'prompt_answer')",
         "line": {
          "color": "#9467bd",
          "width": 2
         },
         "marker": {
          "size": 8
         },
         "mode": "lines+markers",
         "name": "('llama3.1_8b_chat', 'football_leagues_1k', 'base', 'main', 'prompt_answer')",
         "type": "scatter",
         "x": {
          "bdata": "AAECAwQFBgcICQoLDA0ODxAREhMUFRYXGBkaGxwdHh8=",
          "dtype": "i1"
         },
         "y": {
          "bdata": "/XFvAJ7z3z9d4E5UC+reP+JWLPHQ9uE/XLkZXQ8l4D9ltvROMUbhP0j9rA4GrN4/A8c3HSIy2z+K80I+p0ngP0Of8r19Z94/rQo2CaQM3j9kLkxI/pvhPycXiGi1muA/t2Mcvwaq4T++LwNJzcThP6VSpjYF3co/v4xtGnZO1z9AXaou5HjcP77Xov7tXNc/2MIGaudP1D86mkb8aYTXP8KZ4we1I9o/bbeDM5b21D+7pEz4XZnWP0A5VguB/tc/VXeIMGj73D+1tXnlbi3fP0vJ0frvA94/S3G02bPv3T87lBPVIFrcP8hWPecWB90/eBB8g2lE2j9HCZQCUv/XPw==",
          "dtype": "f8"
         }
        },
        {
         "legendgroup": "('llama3.1_8b_chat', 'football_leagues_1k', 'base', 'main', 'prompt_answer')",
         "line": {
          "width": 0
         },
         "mode": "lines",
         "name": "('llama3.1_8b_chat', 'football_leagues_1k', 'base', 'main', 'prompt_answer') Max",
         "showlegend": false,
         "type": "scatter",
         "x": {
          "bdata": "AAECAwQFBgcICQoLDA0ODxAREhMUFRYXGBkaGxwdHh8=",
          "dtype": "i1"
         },
         "y": {
          "bdata": "jBgxYsSI4T9TK7VSK7XiP79d6sn47eI/Uyu1Uiu14j/l7BZ+NSbiPxl4ujU/LOI/RKUjewai4j8zMzMzMzPjP1Z+QpyVn+A/eQ3lNZTX4D8vkEnxApnkP1RUVFRUVOQ/+rWHXFYM5D8zMzMzMzPjP5Z7GmG5p+E/AAAAAAAA4T9yHMdxHMfhP5zUfXlsReA/GBkZGRkZ2T8WXXTRRRfdPy4ZgnW0ed8/2rZt27Zt2z96oHJ2C7/aP3qgcnYLv9o/LFG7ErUr4T/SIA3SIA3iP/Mt3/It3+I/4uHh4eHh4T9lk0022WTjP5IbuZEbueE/AAAAAAAA4j/RC73QC73gPw==",
          "dtype": "f8"
         }
        },
        {
         "fill": "tonexty",
         "fillcolor": "rgba(148, 103, 189, 0.1)",
         "legendgroup": "('llama3.1_8b_chat', 'football_leagues_1k', 'base', 'main', 'prompt_answer')",
         "line": {
          "width": 0
         },
         "mode": "lines",
         "name": "('llama3.1_8b_chat', 'football_leagues_1k', 'base', 'main', 'prompt_answer') Min",
         "showlegend": false,
         "type": "scatter",
         "x": {
          "bdata": "AAECAwQFBgcICQoLDA0ODxAREhMUFRYXGBkaGxwdHh8=",
          "dtype": "i1"
         },
         "y": {
          "bdata": "1AjLPY2w3D8vob2E9hLaPzmO4ziO4+A/7mmE5Z5G2D830GkDnTbgPzMzMzMzM9M/VxCTK4jJ1T85juM4juPYPxzHcRzHcdw/SJIkSZIk2T8c1EEd1EHdP1d8xVd8xdc/+AlxVn5C3D+FChUqVKjgP8i6wRT5rKs/h8b60Fgfyj8K16NwPQrXP9SHxvrQWM8/AAAAAAAA0D83H4PzMTjPP2IhC1nIQsY/8QV9QV/Qxz/sUbgehevRP6WUUkoppdQ/qCfjt0s92T8nr6G8hvLaP0UXXXTRRdc/F4ZhGIZh2D9eQ3kN5TXUP+5phOWeRtg/C1nIQhay0D/sUbgehevRPw==",
          "dtype": "f8"
         }
        },
        {
         "legendgroup": "('llama3.1_8b_chat', 'football_leagues_1k', 'base', 'main', 'prompt_answer')",
         "line": {
          "width": 0
         },
         "mode": "lines",
         "name": "('llama3.1_8b_chat', 'football_leagues_1k', 'base', 'main', 'prompt_answer') +1 STD",
         "showlegend": false,
         "type": "scatter",
         "x": {
          "bdata": "AAECAwQFBgcICQoLDA0ODxAREhMUFRYXGBkaGxwdHh8=",
          "dtype": "i1"
         },
         "y": {
          "bdata": "6X/uB2hE4T98m9Bez4DhP7A5CYtD6eI/jMmmldjy4j+z380vZyjiP5SJ8NvfyeI/lOkAi13V4D/j8IReBsjiP1SGINFwW+A/YJSiTOa94D+DBbDMrdvjP6XJ9cYXY+Q/S6sQHFLV4z97FaI4BuriP8S3IsoAedo/1p2yv00e3z+31mKbSu7gP46IMvtiUt4/ICerMEIj2D9b4rlDRLvcP1UsTEcJWOE/xVPB1bLM2j8eYrdaSuHaP/r9xm0Pzdo/u1ByHLiR4D/pEzvreFThPwfEIJdWxuE/EH4BBFih4T/0YAAqSrXhP6+wVGYlmeA/HqROVjOd4D/cHV+Jt8LdPw==",
          "dtype": "f8"
         }
        },
        {
         "fill": "tonexty",
         "fillcolor": "rgba(148, 103, 189, 0.3)",
         "legendgroup": "('llama3.1_8b_chat', 'football_leagues_1k', 'base', 'main', 'prompt_answer')",
         "line": {
          "width": 0
         },
         "mode": "lines",
         "name": "('llama3.1_8b_chat', 'football_leagues_1k', 'base', 'main', 'prompt_answer') -1 STD",
         "showlegend": false,
         "type": "scatter",
         "x": {
          "bdata": "AAECAwQFBgcICQoLDA0ODxAREhMUFRYXGBkaGxwdHh8=",
          "dtype": "i1"
         },
         "y": {
          "bdata": "J+QB8Wte3T/Cifzqd9LaPxR0T1deBOE/WVIZSYyu2j8XjRtu+2PgP2jneGVMxNc/3rptJIm51D9i7AE8kJbbP94xpNkZGNw/muwmeXud2j+KrtCHnbjeP1LJNBSmpNk/RzhQxHb93j8BSmRZlJ/gPyC45iAbAXk/UPdQ6jz9zj8TDY8mMxXXP+4mEwJ5Z9A/kF5io4x80D8ZUtO0j03SP9raLoFXl9E/KjaMIvNAzj9Y5+GVcVHSP4Z05ajyL9U/NE0sKGDT2D+YQ33067HbP4gKYscye9g/duZlq7ec2D+OZiZWrUnVPzJM0QHj29g/s9haWmxO0z+y9Mh77DvSPw==",
          "dtype": "f8"
         }
        },
        {
         "legendgroup": "('llama3.1_8b_chat', 'football_leagues_1k', 'base', 'main', 'prompt_answer')",
         "marker": {
          "color": "#9467bd",
          "opacity": 0.5,
          "size": 6
         },
         "mode": "markers",
         "name": "('llama3.1_8b_chat', 'football_leagues_1k', 'base', 'main', 'prompt_answer') Fold ('logistic_regression_f1_score', 0)",
         "showlegend": false,
         "type": "scatter",
         "x": {
          "bdata": "AAECAwQFBgcICQoLDA0ODxAREhMUFRYXGBkaGxwdHh8=",
          "dtype": "i1"
         },
         "y": {
          "bdata": "1AjLPY2w3D9TK7VSK7XiP5gin3WDKeI/Uyu1Uiu14j9QB3VQB3XgP2/hV2MiPeA/VxCTK4jJ1T8f+IEf+IHfP0qQpwR5SuA/FdNZTGcx3T8vkEnxApnkP1RUVFRUVOQ/+rWHXFYM5D+7ErUrUbviP5Z7GmG5p+E/AAAAAAAA4T+c1H15bEXgP5zUfXlsReA/q6qqqqqq0j9XEJMriMnVP1cEDSd1X94/wXgr+xxS0z+SJEmSJEnSP1VVVVVVVdU/n+KSIVhH2z8nr6G8hvLaP0UXXXTRRdc/mpmZmZmZ2T/mfYpLhmDdP7u7u7u7u9s/GBkZGRkZ2T8K16NwPQrXPw==",
          "dtype": "f8"
         }
        },
        {
         "legendgroup": "('llama3.1_8b_chat', 'football_leagues_1k', 'base', 'main', 'prompt_answer')",
         "marker": {
          "color": "#9467bd",
          "opacity": 0.5,
          "size": 6
         },
         "mode": "markers",
         "name": "('llama3.1_8b_chat', 'football_leagues_1k', 'base', 'main', 'prompt_answer') Fold ('logistic_regression_f1_score', 1)",
         "showlegend": false,
         "type": "scatter",
         "x": {
          "bdata": "AAECAwQFBgcICQoLDA0ODxAREhMUFRYXGBkaGxwdHh8=",
          "dtype": "i1"
         },
         "y": {
          "bdata": "AAAAAAAA4D/e3d3d3d3dPxEREREREeE/50CiFTYH4j/0MTgfg/PhPxl4ujU/LOI/RKUjewai4j+FChUqVKjgP+acc84559w/eQ3lNZTX4D900UUXXXThPyabbLLJJts/8xrKayiv4T8zMzMzMzPjP8+6wRT5rMs/N73pTW960z8K16NwPQrXP9SHxvrQWM8/AAAAAAAA0D83H4PzMTjPP2IhC1nIQsY/8QV9QV/Qxz/sUbgehevRPzbZZJNNNtk/LFG7ErUr4T9mt/CrMZHePwAAAAAAAOA/4uHh4eHh4T/bgbl2YK7dP9q2bdu2bds/HMdxHMdx3D/RC73QC73gPw==",
          "dtype": "f8"
         }
        },
        {
         "legendgroup": "('llama3.1_8b_chat', 'football_leagues_1k', 'base', 'main', 'prompt_answer')",
         "marker": {
          "color": "#9467bd",
          "opacity": 0.5,
          "size": 6
         },
         "mode": "markers",
         "name": "('llama3.1_8b_chat', 'football_leagues_1k', 'base', 'main', 'prompt_answer') Fold ('logistic_regression_f1_score', 2)",
         "showlegend": false,
         "type": "scatter",
         "x": {
          "bdata": "AAECAwQFBgcICQoLDA0ODxAREhMUFRYXGBkaGxwdHh8=",
          "dtype": "i1"
         },
         "y": {
          "bdata": "OY7jOI7j4D9mt/CrMZHeP79d6sn47eI/jBgxYsSI4T+amZmZmZnhPzMzMzMzM9M/fBphuacR1j85juM4juPYP1Z+QpyVn+A/SJIkSZIk2T/Gkl8s+cXiPwAAAAAAAOQ/GXi6NT8s4j900UUXXXThPxfUQR3UQa0/4eUUvJyC1z9yHMdxHMfhP6uqqqqqqto/GBkZGRkZ2T8nr6G8hvLaPy4ZgnW0ed8/TGcxncV01j96oHJ2C7/aP3qgcnYLv9o/NgcSrbA54D/SIA3SIA3iP/Mt3/It3+I/GiV+Romf4T9lk0022WTjP5IbuZEbueE/AAAAAAAA4j/Y55CaYLzVPw==",
          "dtype": "f8"
         }
        },
        {
         "legendgroup": "('llama3.1_8b_chat', 'football_leagues_1k', 'base', 'main', 'prompt_answer')",
         "marker": {
          "color": "#9467bd",
          "opacity": 0.5,
          "size": 6
         },
         "mode": "markers",
         "name": "('llama3.1_8b_chat', 'football_leagues_1k', 'base', 'main', 'prompt_answer') Fold ('logistic_regression_f1_score', 3)",
         "showlegend": false,
         "type": "scatter",
         "x": {
          "bdata": "AAECAwQFBgcICQoLDA0ODxAREhMUFRYXGBkaGxwdHh8=",
          "dtype": "i1"
         },
         "y": {
          "bdata": "juM4juM43j+71JPx26XePzmO4ziO4+A/G8prKK+h3D830GkDnTbgPyKXFQMlvOE/btu2bdu23T8zMzMzMzPjPxzHcRzHcdw/HNRBHdRB3T8c1EEd1EHdP7ETO7ETO+E/kiRJkiRJ4j+FChUqVKjgP8i6wRT5rKs/YLmnEZZ72j8nr6G8hvLaP7ETO7ETO9E/4eUUvJyC1z/xVvY5pCbYP2a38Ksxkd4/QXsJ7SW01z+apmmapmnaP5S6L4+tCNo/mpmZmZmZ2T/rBlPks27gP5qmaZqmado/1AjLPY2w3D9BewntJbTXP0GeEuQpQd4/GBkZGRkZ2T/zBX1BX9DXPw==",
          "dtype": "f8"
         }
        },
        {
         "legendgroup": "('llama3.1_8b_chat', 'football_leagues_1k', 'base', 'main', 'prompt_answer')",
         "marker": {
          "color": "#9467bd",
          "opacity": 0.5,
          "size": 6
         },
         "mode": "markers",
         "name": "('llama3.1_8b_chat', 'football_leagues_1k', 'base', 'main', 'prompt_answer') Fold ('logistic_regression_f1_score', 4)",
         "showlegend": false,
         "type": "scatter",
         "x": {
          "bdata": "AAECAwQFBgcICQoLDA0ODxAREhMUFRYXGBkaGxwdHh8=",
          "dtype": "i1"
         },
         "y": {
          "bdata": "jBgxYsSI4T8vob2E9hLaP8aSXyz5xeI/7mmE5Z5G2D/l7BZ+NSbiP97d3d3d3d0/SJIkSZIk2T/KwNOt+WHhPwubA4lW2Nw/fPDBBx984D97Ce0ltJfgP1d8xVd8xdc/+AlxVn5C3D/NzMzMzMzgP1cQkyuIycU/h8b60Fgfyj/uaYTlnkbYPzmL6Syms9g/kiRJkiRJ0j8WXXTRRRfdPyabbLLJJts/2rZt27Zt2z8XeqEXeqHXP6WUUkoppdQ/qCfjt0s92T991g2myGfdP7vUk/Hbpd4/F4ZhGIZh2D9eQ3kN5TXUP+5phOWeRtg/C1nIQhay0D/sUbgehevRPw==",
          "dtype": "f8"
         }
        },
        {
         "legendgroup": "('llama3.1_8b_chat', 'football_leagues_1k', 'base', 'main', 'prompt_only')",
         "line": {
          "color": "#8c564b",
          "width": 2
         },
         "marker": {
          "size": 8
         },
         "mode": "lines+markers",
         "name": "('llama3.1_8b_chat', 'football_leagues_1k', 'base', 'main', 'prompt_only')",
         "type": "scatter",
         "x": {
          "bdata": "AAECAwQFBgcICQoLDA0ODxAREhMUFRYXGBkaGxwdHh8=",
          "dtype": "i1"
         },
         "y": {
          "bdata": "gngazAo/5T+j9+daZcPhP8JufgsBo+Q/dtQi5K/Z4T8RERERERHhP2uD72p6auM/mkpDzn12wT+4HoXrUbi+P4Owo6R+buQ/3CnwW+Xq0z/rE9xLk97RP9uLSfO5f90/bnQh5BQ45D+28nvZqXDUP7oItzV7ZdM/ByAcJQvkxj++oJ89aCvcPxwIIJN9sME/yA5I6k+v3T8YHaeIqyHhPyrLIoNnieM/I7WC/WaF4j/uwgMRY7HiP6ZOsiTSweA/JbAxrk4p3T9Ax9kjOYjcP1XAIRqWp9o/Y09DAHtp2z+WEAxOUsjdP90m1KjzoNs/Pe2hyAB33T9GtVLeoijePw==",
          "dtype": "f8"
         }
        },
        {
         "legendgroup": "('llama3.1_8b_chat', 'football_leagues_1k', 'base', 'main', 'prompt_only')",
         "line": {
          "width": 0
         },
         "mode": "lines",
         "name": "('llama3.1_8b_chat', 'football_leagues_1k', 'base', 'main', 'prompt_only') Max",
         "showlegend": false,
         "type": "scatter",
         "x": {
          "bdata": "AAECAwQFBgcICQoLDA0ODxAREhMUFRYXGBkaGxwdHh8=",
          "dtype": "i1"
         },
         "y": {
          "bdata": "VVVVVVVV5T9VVVVVVVXlP1VVVVVVVeU/VVVVVVVV5T9VVVVVVVXlP1VVVVVVVeU/AAAAAAAA5D8zMzMzMzPjP2N9aKwPjeU/exSuR+F65D+7ErUrUbviPwaebs0Pi+Q/VVVVVVVV5T/PRn1no77jP0yuICZXEOM/qV2J2pWo3T+7ErUrUbviP6mqqqqqqso/eQ3lNZTX4D8mTv2eW+LkPzkFL6fg5eQ/7ViBMNKO5T8GFlhggQXmP8aSXyz5xeI/C1nIQhay4D9HWO5phOXePwtZyEIWsuA/xpJfLPnF4j+XejJ+u9TjP5ZaqZVaqeU/EARBEARB4D+SJEmSJEniPw==",
          "dtype": "f8"
         }
        },
        {
         "fill": "tonexty",
         "fillcolor": "rgba(140, 86, 75, 0.1)",
         "legendgroup": "('llama3.1_8b_chat', 'football_leagues_1k', 'base', 'main', 'prompt_only')",
         "line": {
          "width": 0
         },
         "mode": "lines",
         "name": "('llama3.1_8b_chat', 'football_leagues_1k', 'base', 'main', 'prompt_only') Min",
         "showlegend": false,
         "type": "scatter",
         "x": {
          "bdata": "AAECAwQFBgcICQoLDA0ODxAREhMUFRYXGBkaGxwdHh8=",
          "dtype": "i1"
         },
         "y": {
          "bdata": "OQUvp+Dl5D/Uh8b60Fi/P5IkSZIkSeI/1IfG+tBYvz8AAAAAAAAAAAubA4lW2Nw/AAAAAAAAAAAAAAAAAAAAANPS0tLS0uI/AAAAAAAAAAAAAAAAAAAAAAAAAAAAAAAAmjRp0qRJ4z/uBX1BX9CnPxaGYRiGYbg/AAAAAAAAAABt1Hc26jvLPx0eHh4eHq4/FV/xFV/x1T9wR9wRd8TdPxShCEUoQuE/AAAAAAAA4D8dHh4eHh7eP5S6L4+tCNo/XkN5DeU11D+HxvrQWB/aP5vneZ7nec4/lD7pkz7p0z84BS+n4OXUP5Q+6ZM+6dM/8wV9QV/Q1z9XEJMriMnVPw==",
          "dtype": "f8"
         }
        },
        {
         "legendgroup": "('llama3.1_8b_chat', 'football_leagues_1k', 'base', 'main', 'prompt_only')",
         "line": {
          "width": 0
         },
         "mode": "lines",
         "name": "('llama3.1_8b_chat', 'football_leagues_1k', 'base', 'main', 'prompt_only') +1 STD",
         "showlegend": false,
         "type": "scatter",
         "x": {
          "bdata": "AAECAwQFBgcICQoLDA0ODxAREhMUFRYXGBkaGxwdHh8=",
          "dtype": "i1"
         },
         "y": {
          "bdata": "0rjz/+Jw5T8IF4vbTYHpPzjddAbm9uU/8OAU/nej6T9aYKb9cpvqP82+zf/7TeY/1/4Lm11I2j+XCe5XXtrYP895pg7OxeU/B/VG11N54j+Qyc4JNpffP9m3aA91N+c/NfxBTPEQ5T8i5w9qoGjiP/Cw9JwMzeE/Zp3dOQwJ1z9w2EXFIevjPyLK6bgdtMk/bR6r7iA74T/JUXczx5TjPxMLHp/Q8OQ/gV7vmKf95D/yvwqdybDlP9Ij7/NSBeM/I9It4H804T93WbtsZFXePwCypOqtAuE/POL+1N9j4T+yAYOceKziPzD7gLePl+I/AEQYVaBs4D+2ufIeNMThPw==",
          "dtype": "f8"
         }
        },
        {
         "fill": "tonexty",
         "fillcolor": "rgba(140, 86, 75, 0.3)",
         "legendgroup": "('llama3.1_8b_chat', 'football_leagues_1k', 'base', 'main', 'prompt_only')",
         "line": {
          "width": 0
         },
         "mode": "lines",
         "name": "('llama3.1_8b_chat', 'football_leagues_1k', 'base', 'main', 'prompt_only') -1 STD",
         "showlegend": false,
         "type": "scatter",
         "x": {
          "bdata": "AAECAwQFBgcICQoLDA0ODxAREhMUFRYXGBkaGxwdHh8=",
          "dtype": "i1"
         },
         "y": {
          "bdata": "MjhBmDIN5T98sIm0+QrUP0wAiBAcT+M/+I9hlM8f1D8iB++RvBrOPwlIEdb4huA/emiRmb+jwb929FbEavzCvzfnoDovF+M/UE2TShgZpz8YeaU3wpewPwhQg48TIck/p+wAfDhf4z+kXGB7S0CwP6B8JYzphqk/QK++YIqAYr+ckLPwjIDQPy2MrNq6WbM/tuA5913o2D/N0K27H13dP0GLJ2f+IeI/xQsWYiYN4D/Ti/kJ+WPfP/Ty6qqi/Nw/BLwHnJ3p1z8JNfjaDbvaP6oc+l7QSdM/T9qIVjYL1D/HHRJjszfWP1pXpuLHEtI/elIT58AU2j8f979+3cjYPw==",
          "dtype": "f8"
         }
        },
        {
         "legendgroup": "('llama3.1_8b_chat', 'football_leagues_1k', 'base', 'main', 'prompt_only')",
         "marker": {
          "color": "#8c564b",
          "opacity": 0.5,
          "size": 6
         },
         "mode": "markers",
         "name": "('llama3.1_8b_chat', 'football_leagues_1k', 'base', 'main', 'prompt_only') Fold ('logistic_regression_f1_score', 0)",
         "showlegend": false,
         "type": "scatter",
         "x": {
          "bdata": "AAECAwQFBgcICQoLDA0ODxAREhMUFRYXGBkaGxwdHh8=",
          "dtype": "i1"
         },
         "y": {
          "bdata": "OQUvp+Dl5D85BS+n4OXkPzkFL6fg5eQ/VVVVVVVV5T9VVVVVVVXlP1Tgi6sfdOQ/F9RBHdRBrT8AAAAAAAAAAGN9aKwPjeU/uxK1K1G70j8AAAAAAADQP+pNb3rTm94/OL3pTW964z8SO7ETO7HDPxakQRqkQbo/AAAAAAAAAABt1Hc26jvLP1NVVVVVVcU/qV2J2pWo3T+fn5+fn5/fPxShCEUoQuE/AAAAAAAA4D9v4VdjIj3gP5S6L4+tCNo/XkN5DeU11D+HxvrQWB/aP5vneZ7nec4/kYUsZCEL2T+WexphuafhP3ViJ3ZiJ9Y/8wV9QV/Q1z9HWO5phOXePw==",
          "dtype": "f8"
         }
        },
        {
         "legendgroup": "('llama3.1_8b_chat', 'football_leagues_1k', 'base', 'main', 'prompt_only')",
         "marker": {
          "color": "#8c564b",
          "opacity": 0.5,
          "size": 6
         },
         "mode": "markers",
         "name": "('llama3.1_8b_chat', 'football_leagues_1k', 'base', 'main', 'prompt_only') Fold ('logistic_regression_f1_score', 1)",
         "showlegend": false,
         "type": "scatter",
         "x": {
          "bdata": "AAECAwQFBgcICQoLDA0ODxAREhMUFRYXGBkaGxwdHh8=",
          "dtype": "i1"
         },
         "y": {
          "bdata": "VVVVVVVV5T9VVVVVVVXlP1VVVVVVVeU/VVVVVVVV5T9VVVVVVVXlP1VVVVVVVeU/AAAAAAAA5D8zMzMzMzPjP1VVVVVVVeU/F9RBHdRBvT8ZpEEapEHKPwaebs0Pi+Q/q6qqqqqq5D/PRn1no77jPyD96Ec/+uE/qV2J2pWo3T+7ErUrUbviP6mqqqqqqso/eQ3lNZTX4D8mTv2eW+LkP5c49XtuieM/wzAMwzAM4z8dHh4eHh7ePwAAAAAAAOI/VwQNJ3Vf3j+bm5ubm5vbPy+hvYT2Eto/lD7pkz7p0z84BS+n4OXUP5Q+6ZM+6dM/5n2KS4Zg3T9XEJMriMnVPw==",
          "dtype": "f8"
         }
        },
        {
         "legendgroup": "('llama3.1_8b_chat', 'football_leagues_1k', 'base', 'main', 'prompt_only')",
         "marker": {
          "color": "#8c564b",
          "opacity": 0.5,
          "size": 6
         },
         "mode": "markers",
         "name": "('llama3.1_8b_chat', 'football_leagues_1k', 'base', 'main', 'prompt_only') Fold ('logistic_regression_f1_score', 2)",
         "showlegend": false,
         "type": "scatter",
         "x": {
          "bdata": "AAECAwQFBgcICQoLDA0ODxAREhMUFRYXGBkaGxwdHh8=",
          "dtype": "i1"
         },
         "y": {
          "bdata": "VVVVVVVV5T/Uh8b60Fi/P5IkSZIkSeI/1IfG+tBYvz8AAAAAAAAAAJc49XtuieM/AAAAAAAAAAAAAAAAAAAAANPS0tLS0uI/exSuR+F65D8AAAAAAAAAAMaSXyz5xeI/mjRp0qRJ4z/Ytm3btm3LP3sUrkfhesQ/uhK1K1G7wj+SJEmSJEniP1cQkyuIycU/FV/xFV/x1T9wR9wRd8TdP1Tgi6sfdOQ/AAAAAAAA4D+wd0wN7B3jPxj0BX1BX+A/fdYNpshn3T/wqzGRHqjcP5qZmZmZmdk/dWIndmIn1j8AAAAAAADaPxZswRZswdY/HR4eHh4e3j8AAAAAAADgPw==",
          "dtype": "f8"
         }
        },
        {
         "legendgroup": "('llama3.1_8b_chat', 'football_leagues_1k', 'base', 'main', 'prompt_only')",
         "marker": {
          "color": "#8c564b",
          "opacity": 0.5,
          "size": 6
         },
         "mode": "markers",
         "name": "('llama3.1_8b_chat', 'football_leagues_1k', 'base', 'main', 'prompt_only') Fold ('logistic_regression_f1_score', 3)",
         "showlegend": false,
         "type": "scatter",
         "x": {
          "bdata": "AAECAwQFBgcICQoLDA0ODxAREhMUFRYXGBkaGxwdHh8=",
          "dtype": "i1"
         },
         "y": {
          "bdata": "VVVVVVVV5T9VVVVVVVXlP1VVVVVVVeU/VVVVVVVV5T9VVVVVVVXlP1VVVVVVVeU/AAAAAAAAAAAAAAAAAAAAALB3TA3sHeM/AAAAAAAAAAAWbMEWbMHWPwAAAAAAAAAAVFRUVFRU5D/uBX1BX9CnPxaGYRiGYbg/F9RBHdRBrT/sUbgehevhP2IhC1nIQrY/zczMzMzM4D+SJEmSJEniPzkFL6fg5eQ/AAAAAAAA5D8GFlhggQXmP8aSXyz5xeI/N9BpA5024D/mfYpLhmDdPwtZyEIWsuA/aCAqHdkz4D9aYXMg0QrbPwAAAAAAAN4/EARBEARB4D+SJEmSJEniPw==",
          "dtype": "f8"
         }
        },
        {
         "legendgroup": "('llama3.1_8b_chat', 'football_leagues_1k', 'base', 'main', 'prompt_only')",
         "marker": {
          "color": "#8c564b",
          "opacity": 0.5,
          "size": 6
         },
         "mode": "markers",
         "name": "('llama3.1_8b_chat', 'football_leagues_1k', 'base', 'main', 'prompt_only') Fold ('logistic_regression_f1_score', 4)",
         "showlegend": false,
         "type": "scatter",
         "x": {
          "bdata": "AAECAwQFBgcICQoLDA0ODxAREhMUFRYXGBkaGxwdHh8=",
          "dtype": "i1"
         },
         "y": {
          "bdata": "VVVVVVVV5T9VVVVVVVXlP1VVVVVVVeU/VVVVVVVV5T9VVVVVVVXlPwubA4lW2Nw/AAAAAAAAAAAAAAAAAAAAAFVVVVVVVeU/SpCnBHlK4D+7ErUrUbviP+MFMileIOM/VVVVVVVV5T8hC1nIQhbiP0yuICZXEOM/FV100UUXzT8NJ3VfHlvRPx0eHh4eHq4/ndiJndiJ3T9xVn5CnJXfP5c49XtuieM/7ViBMNKO5T91UAd1UAflPxolfkaJn+E/C1nIQhay4D9HWO5phOXeP3zwwQcffOA/xpJfLPnF4j+XejJ+u9TjP5ZaqZVaqeU/H/iBH/iB3z+d2Imd2IndPw==",
          "dtype": "f8"
         }
        },
        {
         "legendgroup": "('llama3.1_8b_chat', 'medals_9k', 'base', 'main', 'prompt_answer')",
         "line": {
          "color": "#1f77b4",
          "width": 2
         },
         "marker": {
          "size": 8
         },
         "mode": "lines+markers",
         "name": "('llama3.1_8b_chat', 'medals_9k', 'base', 'main', 'prompt_answer')",
         "type": "scatter",
         "x": {
          "bdata": "AAECAwQFBgcICQoLDA0ODxAREhMUFRYXGBkaGxwdHh8=",
          "dtype": "i1"
         },
         "y": {
          "bdata": "qM8wNTj+5T99jKe4TD3mPwDX21nPAuY/AgUPEt0+5j+3l6/eEjPmP1c7pSojeeY/FH0twTZx5j+IgUOtbT3mPxK4ZhYDieY/4MScYyaH5j/0kCIHucLmPyv47WqV3OY/jfftDN7j5j+Svzb9juXmP/V1GRP92+Y/MRe5U8mr5j91Q8G8zLbmP8JYcJQAlOY/QIkazwqR5j8OzgWcMXzmPwIdTHRWceY/nYK8T4eB5j8tDGy4a7LmP4qgyGNbzOY/Orvw+4Cu5j/vilVRx5/mP66R5hk5feY/MnAUKsGO5j/WUcTxdX/mP8lVLsFWfuY/4rccI32D5j8sop0xWJHmPw==",
          "dtype": "f8"
         }
        },
        {
         "legendgroup": "('llama3.1_8b_chat', 'medals_9k', 'base', 'main', 'prompt_answer')",
         "line": {
          "width": 0
         },
         "mode": "lines",
         "name": "('llama3.1_8b_chat', 'medals_9k', 'base', 'main', 'prompt_answer') Max",
         "showlegend": false,
         "type": "scatter",
         "x": {
          "bdata": "AAECAwQFBgcICQoLDA0ODxAREhMUFRYXGBkaGxwdHh8=",
          "dtype": "i1"
         },
         "y": {
          "bdata": "kbrgyHfK5j/HN0Nr9+HmP8FkDgJufeY/qjCg5GWv5j+i32wd+s3mP6XldbFuquY/1AY6baDT5j8keMiqg7PmP5AUTOYg4OY/Oprney0X5z+0S/P2y5TnP4EeEEcucec/qP9Y9ca15z+Bewi2o5/nP2ICToqsVec/+Wikzhtg5z/TToLBr0HnP4j81B2lMuc/CQyagNRs5z+8c92TxDvnP86XTOvpX+c/iPzUHaUy5z8JDJqA1GznP+q/stQebec/srNI+PgE5z8w2uFuKx/nP+OElTjeMOc/D2Y04gET5z/o/ax4XSbnPySPPPLII+c/KwVn47QV5z+VRr1hz23nPw==",
          "dtype": "f8"
         }
        },
        {
         "fill": "tonexty",
         "fillcolor": "rgba(31, 119, 180, 0.1)",
         "legendgroup": "('llama3.1_8b_chat', 'medals_9k', 'base', 'main', 'prompt_answer')",
         "line": {
          "width": 0
         },
         "mode": "lines",
         "name": "('llama3.1_8b_chat', 'medals_9k', 'base', 'main', 'prompt_answer') Min",
         "showlegend": false,
         "type": "scatter",
         "x": {
          "bdata": "AAECAwQFBgcICQoLDA0ODxAREhMUFRYXGBkaGxwdHh8=",
          "dtype": "i1"
         },
         "y": {
          "bdata": "Tm9605ve5D9ulvGPpU3lP9iLEfSrJOU/QXXpCLWU5T9W+q9V+q/lP+dWsPM1OeY/PJ+bHdbj5T9GGlALprblPzz5fI8DKuY/h7p/Ugge5j8h/ce7zSvmPxC2DXspm+Y/1tN0GBt65j9VJxAiN5vmP1kA7h5HMeY/mLMtgP0i5j/1dH/g3ArmP8Jlb+hJ9eU/N7s4MFzO5T/ZrDm2drflPz0xhIEez+U/xTTaAqTW5T/u6TX63wbmP1koy+OKZ+Y/bgHsF7FQ5j/dRrAZg+zlP66e35LtsOU/3q/IHWbw5T9Ri4KIMqDlPyD8LUeczeU/T4qLiP0F5j+Kkl2bKNnlPw==",
          "dtype": "f8"
         }
        },
        {
         "legendgroup": "('llama3.1_8b_chat', 'medals_9k', 'base', 'main', 'prompt_answer')",
         "line": {
          "width": 0
         },
         "mode": "lines",
         "name": "('llama3.1_8b_chat', 'medals_9k', 'base', 'main', 'prompt_answer') +1 STD",
         "showlegend": false,
         "type": "scatter",
         "x": {
          "bdata": "AAECAwQFBgcICQoLDA0ODxAREhMUFRYXGBkaGxwdHh8=",
          "dtype": "i1"
         },
         "y": {
          "bdata": "HMZ0UXbS5j9B52jx1tbmP0p5UNJZjeY/hOmWKY2u5j9wLsXWwKPmP/HYyxkopuY/mym0s5nO5j/seKfWKJzmP03XnQBC1OY/7ZFsKYPm5j/0w2AaDkrnP+CnBHzHMec/a2n6hc9f5z8h/qVBY1DnPxkfvdw4Uec/M0vSuyAf5z9D1x+b1TnnP83aGkLQEec/0dNSga0m5z8ClTVZNgjnP4yyZZczBOc/cjTdZR0M5z8tpnqI6DTnP3hC+agkLuc/o5bZ9j7x5j/OhfLTYBPnP2JB2kM3B+c/HppX+Jn95j8fBA+jlSLnP8YNRNCaDOc/yVJnauTn5j+nyaij9ybnPw==",
          "dtype": "f8"
         }
        },
        {
         "fill": "tonexty",
         "fillcolor": "rgba(31, 119, 180, 0.3)",
         "legendgroup": "('llama3.1_8b_chat', 'medals_9k', 'base', 'main', 'prompt_answer')",
         "line": {
          "width": 0
         },
         "mode": "lines",
         "name": "('llama3.1_8b_chat', 'medals_9k', 'base', 'main', 'prompt_answer') -1 STD",
         "showlegend": false,
         "type": "scatter",
         "x": {
          "bdata": "AAECAwQFBgcICQoLDA0ODxAREhMUFRYXGBkaGxwdHh8=",
          "dtype": "i1"
         },
         "y": {
          "bdata": "NNnsGPop5T+5MeZ/wqPlP7Y0Z+FEeOU/gCCH+izP5T/+AJrmZMLlP72dfjseTOY/jdCmztMT5j8kit+Dst7lP9eYLyzEPeY/0/fMnckn5j/0XeTzYzvmP3ZI11ljh+Y/r4Xhk+xn5j8Dgce4unrmP9HMdUnBZuY/L+Of63E45j+nr2LewzPmP7fWxeYwFuY/rz7iHGj75T8aB9beLPDlP3iHMlF53uU/yNCbOfH25T8tcl3o7i/mP5z+lx6SauY/0d8HAcNr5j8QkLjOLSzmP/rh8u868+U/RkbRW+gf5j+Nn3lAVtzlP8ydGLIS8OU/+xzS2xUf5j+xepK/uPvlPw==",
          "dtype": "f8"
         }
        },
        {
         "legendgroup": "('llama3.1_8b_chat', 'medals_9k', 'base', 'main', 'prompt_answer')",
         "marker": {
          "color": "#1f77b4",
          "opacity": 0.5,
          "size": 6
         },
         "mode": "markers",
         "name": "('llama3.1_8b_chat', 'medals_9k', 'base', 'main', 'prompt_answer') Fold ('logistic_regression_f1_score', 0)",
         "showlegend": false,
         "type": "scatter",
         "x": {
          "bdata": "AAECAwQFBgcICQoLDA0ODxAREhMUFRYXGBkaGxwdHh8=",
          "dtype": "i1"
         },
         "y": {
          "bdata": "kbrgyHfK5j/HN0Nr9+HmP/aYcPaYcOY/cxLHg7KI5j/6pV/6pV/mP2ZmZmZmZuY/R4R+UTeZ5j8keMiqg7PmP5AUTOYg4OY/y6iMyqiM5j/f9KY3venmPxC2DXspm+Y/OeGZ/gbd5j9nc1XnO9zmP5c3MZc3Mec/q6qqqqqq5j/TToLBr0HnP2V+FsU45eY/YQu2YAu25j+2RBv4o5rmP77+FoBHUuY/sfYNa9+w5j99h25TPcbmP5AaqC4doeY/7mPRc9iv5j9s+7rb8MzmPx6/E6wkZOY/8z7FJUOw5j/o/ax4XSbnP45CdYUD+uY/RlTr7Iuo5j+xQkAnb8DmPw==",
          "dtype": "f8"
         }
        },
        {
         "legendgroup": "('llama3.1_8b_chat', 'medals_9k', 'base', 'main', 'prompt_answer')",
         "marker": {
          "color": "#1f77b4",
          "opacity": 0.5,
          "size": 6
         },
         "mode": "markers",
         "name": "('llama3.1_8b_chat', 'medals_9k', 'base', 'main', 'prompt_answer') Fold ('logistic_regression_f1_score', 1)",
         "showlegend": false,
         "type": "scatter",
         "x": {
          "bdata": "AAECAwQFBgcICQoLDA0ODxAREhMUFRYXGBkaGxwdHh8=",
          "dtype": "i1"
         },
         "y": {
          "bdata": "zC2ZjUMF5j8kD4emzSfmP7yVfQ6pCeY/qjCg5GWv5j+i32wd+s3mP6XldbFuquY/8aaKjymd5j/KivMcuRvmP8mpp9MCcOY/ELYNeymb5j+EA6w98ZPmP0HDSd2Xx+Y/1tN0GBt65j8XQKkWQKnmP8O4EXl6ouY/UzcHs9+t5j/yRZ9YTY3mP0REREREROY//NvNVVl35j8FW0txy1HmPyRikyLBQ+Y/vXginXIX5j98zh+XwXrmPySMlhe+zuY/vhCYOhTN5j+h7H1NCMrmPwXdmyc1ouY/n0NqgvFW5j+8aCozElLmP4J5rnDjMuY/pze96U1v5j/1pje96U3mPw==",
          "dtype": "f8"
         }
        },
        {
         "legendgroup": "('llama3.1_8b_chat', 'medals_9k', 'base', 'main', 'prompt_answer')",
         "marker": {
          "color": "#1f77b4",
          "opacity": 0.5,
          "size": 6
         },
         "mode": "markers",
         "name": "('llama3.1_8b_chat', 'medals_9k', 'base', 'main', 'prompt_answer') Fold ('logistic_regression_f1_score', 2)",
         "showlegend": false,
         "type": "scatter",
         "x": {
          "bdata": "AAECAwQFBgcICQoLDA0ODxAREhMUFRYXGBkaGxwdHh8=",
          "dtype": "i1"
         },
         "y": {
          "bdata": "Tm9605ve5D9ulvGPpU3lP9iLEfSrJOU/QXXpCLWU5T9W+q9V+q/lP+dWsPM1OeY/PJ+bHdbj5T9GGlALprblPzz5fI8DKuY/h7p/Ugge5j8h/ce7zSvmPz0aowpJseY/lZVL/5OY5j9VJxAiN5vmP1kA7h5HMeY/mLMtgP0i5j/1dH/g3ArmP8Jlb+hJ9eU/N7s4MFzO5T/ZrDm2drflPz0xhIEez+U/xTTaAqTW5T/u6TX63wbmP1koy+OKZ+Y/bgHsF7FQ5j/dRrAZg+zlP66e35LtsOU/3q/IHWbw5T9Ri4KIMqDlPyD8LUeczeU/T4qLiP0F5j+Kkl2bKNnlPw==",
          "dtype": "f8"
         }
        },
        {
         "legendgroup": "('llama3.1_8b_chat', 'medals_9k', 'base', 'main', 'prompt_answer')",
         "marker": {
          "color": "#1f77b4",
          "opacity": 0.5,
          "size": 6
         },
         "mode": "markers",
         "name": "('llama3.1_8b_chat', 'medals_9k', 'base', 'main', 'prompt_answer') Fold ('logistic_regression_f1_score', 3)",
         "showlegend": false,
         "type": "scatter",
         "x": {
          "bdata": "AAECAwQFBgcICQoLDA0ODxAREhMUFRYXGBkaGxwdHh8=",
          "dtype": "i1"
         },
         "y": {
          "bdata": "+g7LZ+qB5T9JFvtzaT3mP7gTPcaw8eU/vfB1tgkS5j9ERERERETmP/zbzVVZd+Y/HKAEWjpI5j9vSPRQXDzmP2Ax9A0eaOY/xiQO3rdG5j+Kk577VI/mP8omm2yyyeY/covyNNnN5j+FZ/obdLvmP7VaAKZL8eY/ZHUZ9kp/5j9lBly6h4TmP9eWktaWkuY/pf8tpKBs5j/yRZ9YTY3mPxpnATafceY/VuzOZQm25j/u8L00Z8fmP7qTLvRDueY/V34VLe6V5j+VreDkPHzmP7MYXOL3ieY/eJg5Kim/5j8fMJDHqErmP5ZlWZZlWeY/BHz0bOVd5j8XaIEWaIHmPw==",
          "dtype": "f8"
         }
        },
        {
         "legendgroup": "('llama3.1_8b_chat', 'medals_9k', 'base', 'main', 'prompt_answer')",
         "marker": {
          "color": "#1f77b4",
          "opacity": 0.5,
          "size": 6
         },
         "mode": "markers",
         "name": "('llama3.1_8b_chat', 'medals_9k', 'base', 'main', 'prompt_answer') Fold ('logistic_regression_f1_score', 4)",
         "showlegend": false,
         "type": "scatter",
         "x": {
          "bdata": "AAECAwQFBgcICQoLDA0ODxAREhMUFRYXGBkaGxwdHh8=",
          "dtype": "i1"
         },
         "y": {
          "bdata": "qqc0eNfG5j/Ryo6Fq53mP8FkDgJufeY/9W+EMnpb5j9fMq2nf93lP8Wp33NLnOY/1AY6baDT5j8CIlE+5XDmP2evnBjKyuY/Oprney0X5z+0S/P2y5TnP4EeEEcucec/qP9Y9ca15z+Bewi2o5/nP2ICToqsVec/+Wikzhtg5z8sQcn6nTPnP4j81B2lMuc/CQyagNRs5z+8c92TxDvnP86XTOvpX+c/iPzUHaUy5z8JDJqA1GznP+q/stQebec/srNI+PgE5z8w2uFuKx/nP+OElTjeMOc/D2Y04gET5z8ad+u8AhrnPySPPPLII+c/KwVn47QV5z+VRr1hz23nPw==",
          "dtype": "f8"
         }
        },
        {
         "legendgroup": "('llama3.1_8b_chat', 'medals_9k', 'base', 'main', 'prompt_only')",
         "line": {
          "color": "#ff7f0e",
          "width": 2
         },
         "marker": {
          "size": 8
         },
         "mode": "lines+markers",
         "name": "('llama3.1_8b_chat', 'medals_9k', 'base', 'main', 'prompt_only')",
         "type": "scatter",
         "x": {
          "bdata": "AAECAwQFBgcICQoLDA0ODxAREhMUFRYXGBkaGxwdHh8=",
          "dtype": "i1"
         },
         "y": {
          "bdata": "UXbRCy6g5T9mP4G5X5nlPzWU9Hlx6eU/Bjq/wArF5T8utyTHBo3lP/5raoZJuOU/O7slUcKq5T/reGA3QBvmP2JUTVZpFuY/vkfwGMjt5T9NoHJowAXmP1Pjtkwx/uU/4rlA+Hjj5T+igJHrkkXmPxUdtjE1CeY/NmKID/M15j8AbSgpKSLmP2Y/y9SUY+Y/JQYp1FNU5j+HC9+6MlzmP/J6EquUSOY/SvXgcNFd5j9IzwgxNWfmP0Kv1/T0X+Y/87+s1B5e5j814u0D2FPmP6BJ7I+BLOY/dvQw2A4e5j/KQ/tH6xbmP0oceL0iGuY/7y9c+IoH5j+SFICfACHmPw==",
          "dtype": "f8"
         }
        },
        {
         "legendgroup": "('llama3.1_8b_chat', 'medals_9k', 'base', 'main', 'prompt_only')",
         "line": {
          "width": 0
         },
         "mode": "lines",
         "name": "('llama3.1_8b_chat', 'medals_9k', 'base', 'main', 'prompt_only') Max",
         "showlegend": false,
         "type": "scatter",
         "x": {
          "bdata": "AAECAwQFBgcICQoLDA0ODxAREhMUFRYXGBkaGxwdHh8=",
          "dtype": "i1"
         },
         "y": {
          "bdata": "ReqcWkbH5T/lNt2/eeDlP6+HADW0ZOY/Evbdr8gd5j/y6rAoVj/mP0OpTiBEbuY/CHCPee065j8/xSVDsI7mP1Pks24wReY/PHE4JQNe5j+uaH3x4YrmP5Z2Aq7NQeY/EGrJRf6g5j+EA6w98ZPmP3IePks+ROY/nf4rS+3R5j/jwxc4N+TmP7N53VepIec/8rizhN385j+QuYn2HSHnP3roGF6ch+Y/DidXdZDl5j8D7vRHLODmP60SrjTJ8uY/QUQZ0CrE5j/XhAPUJafmP/eUZYo2oOY/HHS7Vk545j+0it25LMHmPwPGJA7et+Y/PaMoR11g5j8sQO41F5LmPw==",
          "dtype": "f8"
         }
        },
        {
         "fill": "tonexty",
         "fillcolor": "rgba(255, 127, 14, 0.1)",
         "legendgroup": "('llama3.1_8b_chat', 'medals_9k', 'base', 'main', 'prompt_only')",
         "line": {
          "width": 0
         },
         "mode": "lines",
         "name": "('llama3.1_8b_chat', 'medals_9k', 'base', 'main', 'prompt_only') Min",
         "showlegend": false,
         "type": "scatter",
         "x": {
          "bdata": "AAECAwQFBgcICQoLDA0ODxAREhMUFRYXGBkaGxwdHh8=",
          "dtype": "i1"
         },
         "y": {
          "bdata": "3BF3xB1x5T+q1tj1zWTlP9i97nWve+U//8LyRW8+5T+mnozfLvXkP+zmtxAwSuU/pp6M3y715D+SwAHe+XblP/xlvV/W++U/ESUnZXSQ5T9VyzrQdm/lP7nFk1s8ueU/v2V/JBSF5T81/S93L9DlP9ZczdVczeU/SSyECPLt5T80vL/dXJXlP27btm3btuU/dqHodaHo5T8kXXGLOtLlP7R+i5EGCuY/uFvJO4W75T8WbayUPf7lP91GsBmD7OU/YHzXkm7Z5T8s4E5/xALmPzZaozVao+U/VxCTK4jJ5T+YeD9ymq/lPzcNKVPIq+U/1l6rbuWY5T+ult1F7uXlPw==",
          "dtype": "f8"
         }
        },
        {
         "legendgroup": "('llama3.1_8b_chat', 'medals_9k', 'base', 'main', 'prompt_only')",
         "line": {
          "width": 0
         },
         "mode": "lines",
         "name": "('llama3.1_8b_chat', 'medals_9k', 'base', 'main', 'prompt_only') +1 STD",
         "showlegend": false,
         "type": "scatter",
         "x": {
          "bdata": "AAECAwQFBgcICQoLDA0ODxAREhMUFRYXGBkaGxwdHh8=",
          "dtype": "i1"
         },
         "y": {
          "bdata": "2XSw79DC5T+1znQYkNHlPwg8RcCJROY/0O7ooSAb5j+QkVtbywvmPypraeN7K+Y/4hFZ4ywm5j+eZ267k4fmP6KZzX2eNuY/0l3/1EpB5j/IoEZMDn3mP43HqTX/NuY/i+BWbGVV5j9ywHp2p5XmPy8ubBrsQOY/jsYptkuQ5j/SB7GDUp/mPzjsmdqA7eY/D+8Rk8e85j+nfLn73+DmP0YSMr8Kf+Y/dZRRzE3X5j8ORAxFq8vmP7ohgF9b4OY/mDrrFMbS5j9uj7OvCprmP5lNAFmAneY/Wfr0UIZj5j/2WtL624vmPygziFs4juY/yCtee1VW5j88/6pfFWPmPw==",
          "dtype": "f8"
         }
        },
        {
         "fill": "tonexty",
         "fillcolor": "rgba(255, 127, 14, 0.3)",
         "legendgroup": "('llama3.1_8b_chat', 'medals_9k', 'base', 'main', 'prompt_only')",
         "line": {
          "width": 0
         },
         "mode": "lines",
         "name": "('llama3.1_8b_chat', 'medals_9k', 'base', 'main', 'prompt_only') -1 STD",
         "showlegend": false,
         "type": "scatter",
         "x": {
          "bdata": "AAECAwQFBgcICQoLDA0ODxAREhMUFRYXGBkaGxwdHh8=",
          "dtype": "i1"
         },
         "y": {
          "bdata": "yXfyJ4t95T8XsI1aL2HlP2LsozNZjuU/PIWV3/Ru5T/M3O0yQg7lP9JsaykXReU/lGTyvlcv5T84ilKz7K7lPyIPzS409uU/qjHhXEWa5T/Sn56Eco7lPxn/w2NjxeU/OZMqhIxx5T/SQKhgfvXlP/sLAEl+0eU/3v3maJrb5T8u0p/O/6TlP5SS/M6o2eU/Ox1AFeDr5T9nmgR6hdflP57j8pYeEuY/H1ZwFVXk5T+CWgUdvwLmP8o8L4qO3+U/TkVulHfp5T/8NChYpQ3mP6dF2MaCu+U/k+5sX5fY5T+eLCSV+qHlP2wFaB8NpuU/FjRadcC45T/oKVXf697lPw==",
          "dtype": "f8"
         }
        },
        {
         "legendgroup": "('llama3.1_8b_chat', 'medals_9k', 'base', 'main', 'prompt_only')",
         "marker": {
          "color": "#ff7f0e",
          "opacity": 0.5,
          "size": 6
         },
         "mode": "markers",
         "name": "('llama3.1_8b_chat', 'medals_9k', 'base', 'main', 'prompt_only') Fold ('logistic_regression_f1_score', 0)",
         "showlegend": false,
         "type": "scatter",
         "x": {
          "bdata": "AAECAwQFBgcICQoLDA0ODxAREhMUFRYXGBkaGxwdHh8=",
          "dtype": "i1"
         },
         "y": {
          "bdata": "4o64I+6I5T+nSGMsT4/lP6+HADW0ZOY/Evbdr8gd5j9KBI/013PlP2nMgya20eU/CHCPee065j9Aq3UQw2nmPylsrJ3XKuY/ESUnZXSQ5T8VpQqZCUvmP6BHY1QhKeY/ZU1ZU9aU5T+EA6w98ZPmP/WbrxGlBOY/FaFN2KIv5j80vL/dXJXlPwR89GzlXeY/6MfIG+ka5j+Zr7G9wp/mP+9HTvO1euY/CykomzXH5j/XaPy5KsHmP60SrjTJ8uY/QUQZ0CrE5j/XhAPUJafmPwOXZ9Bvh+Y/HHS7Vk545j+0it25LMHmPwPGJA7et+Y/D2xpKDpF5j8uUSRG1QfmPw==",
          "dtype": "f8"
         }
        },
        {
         "legendgroup": "('llama3.1_8b_chat', 'medals_9k', 'base', 'main', 'prompt_only')",
         "marker": {
          "color": "#ff7f0e",
          "opacity": 0.5,
          "size": 6
         },
         "mode": "markers",
         "name": "('llama3.1_8b_chat', 'medals_9k', 'base', 'main', 'prompt_only') Fold ('logistic_regression_f1_score', 1)",
         "showlegend": false,
         "type": "scatter",
         "x": {
          "bdata": "AAECAwQFBgcICQoLDA0ODxAREhMUFRYXGBkaGxwdHh8=",
          "dtype": "i1"
         },
         "y": {
          "bdata": "6Ddbh36z5T8fEJTHecXlPyELWchCFuY/3ph8Qtm55T/rXHlAss7lP34TcIS5quU/n/PHZbCe5T/V/w7JGQnmP/xlvV/W++U/4jno8um/5T807tZ5BTTmP2mPEUZH/uU/v2V/JBSF5T8ER3GzPnnmP1gG71ZxP+Y/SSyECPLt5T+Iz7ArQO7lP05WOCHyFuY/7LymJq1F5j+P4cV56BjmPw7UMOaqJeY/SB4uyYQ75j/KivMcuRvmP5rUJhOD9uU/rfBT0Tnm5T87KkoVMhPmPzZaozVao+U/TP/rxQj65T9NgR3yb+nlPzcNKVPIq+U/rDrf4bb65T+ult1F7uXlPw==",
          "dtype": "f8"
         }
        },
        {
         "legendgroup": "('llama3.1_8b_chat', 'medals_9k', 'base', 'main', 'prompt_only')",
         "marker": {
          "color": "#ff7f0e",
          "opacity": 0.5,
          "size": 6
         },
         "mode": "markers",
         "name": "('llama3.1_8b_chat', 'medals_9k', 'base', 'main', 'prompt_only') Fold ('logistic_regression_f1_score', 2)",
         "showlegend": false,
         "type": "scatter",
         "x": {
          "bdata": "AAECAwQFBgcICQoLDA0ODxAREhMUFRYXGBkaGxwdHh8=",
          "dtype": "i1"
         },
         "y": {
          "bdata": "ReqcWkbH5T+q1tj1zWTlP9i97nWve+U/J95VNlsA5j/y6rAoVj/mP0OpTiBEbuY/PvMQF1z55T8/xSVDsI7mP3ePoxiLBOY/PHE4JQNe5j+uaH3x4YrmP5Z2Aq7NQeY/EGrJRf6g5j+HXLj82GXmP3IePks+ROY/nf4rS+3R5j/jwxc4N+TmP7N53VepIec/8rizhN385j+QuYn2HSHnP3roGF6ch+Y/DidXdZDl5j8D7vRHLODmP+KGG2644eY/l5aWlpaW5j88kIJK/njmP/eUZYo2oOY/JpqR7p4L5j+F5hyvAFzmP+8mGbFScOY/PaMoR11g5j8sQO41F5LmPw==",
          "dtype": "f8"
         }
        },
        {
         "legendgroup": "('llama3.1_8b_chat', 'medals_9k', 'base', 'main', 'prompt_only')",
         "marker": {
          "color": "#ff7f0e",
          "opacity": 0.5,
          "size": 6
         },
         "mode": "markers",
         "name": "('llama3.1_8b_chat', 'medals_9k', 'base', 'main', 'prompt_only') Fold ('logistic_regression_f1_score', 3)",
         "showlegend": false,
         "type": "scatter",
         "x": {
          "bdata": "AAECAwQFBgcICQoLDA0ODxAREhMUFRYXGBkaGxwdHh8=",
          "dtype": "i1"
         },
         "y": {
          "bdata": "3BF3xB1x5T/lNt2/eeDlP61aub3JquU//8LyRW8+5T+mnozfLvXkP9urGcSLZOU/pp6M3y715D+SwAHe+XblP/pfwSql/+U/JkTD+9vN5T9VyzrQdm/lP7nFk1s8ueU/zdA+/s3u5T81/S93L9DlP85z5G5Y2OU/mObs2MII5j9MZJX3u0TmP4oVN9SLpOY/dz/B541f5j/Kkejs+SDmP7R+i5EGCuY/WQDuHkcx5j8WbayUPf7lP91GsBmD7OU/YHzXkm7Z5T8s4E5/xALmP2ziy4vFyeU/VxCTK4jJ5T+YeD9ymq/lP1t7QFAe5+U/1l6rbuWY5T/ox8gb6RrmPw==",
          "dtype": "f8"
         }
        },
        {
         "legendgroup": "('llama3.1_8b_chat', 'medals_9k', 'base', 'main', 'prompt_only')",
         "marker": {
          "color": "#ff7f0e",
          "opacity": 0.5,
          "size": 6
         },
         "mode": "markers",
         "name": "('llama3.1_8b_chat', 'medals_9k', 'base', 'main', 'prompt_only') Fold ('logistic_regression_f1_score', 4)",
         "showlegend": false,
         "type": "scatter",
         "x": {
          "bdata": "AAECAwQFBgcICQoLDA0ODxAREhMUFRYXGBkaGxwdHh8=",
          "dtype": "i1"
         },
         "y": {
          "bdata": "qYzvcBWs5T+q1tj1zWTlP7Q5xTDH7eU/BvIYVcnC5T8VqXGmEkrlP+zmtxAwSuU/lrLHv6KN5T+wKzYaug/mP1Pks24wReY/YVKmA6so5j82WqM1WqPlP0hdh9uD1OU/bbNiHabH5T/m3tE0phjmP9ZczdVczeU/dzi/SHoV5j8WbayUPf7lP27btm3btuU/dqHodaHo5T8kXXGLOtLlP47jOI7jOOY/uFvJO4W75T+vvZpBvEjmP0O3lfhAKOY/2neEXDC85j+KS4ZgHW3mP4UHYbPBSeY/Y6goAsxO5j/Z55CaYLzlP+wXsVCWx+U/3UawGYPs5T/ndsc/PwrmPw==",
          "dtype": "f8"
         }
        }
       ],
       "layout": {
        "font": {
         "color": "white"
        },
        "height": 600,
        "legend": {
         "bgcolor": "rgba(32, 32, 32, 0.8)",
         "orientation": "h",
         "x": 0.5,
         "xanchor": "center",
         "y": 1.02,
         "yanchor": "bottom"
        },
        "margin": {
         "b": 50,
         "l": 50,
         "r": 30,
         "t": 100
        },
        "paper_bgcolor": "rgba(32, 32, 32, 1)",
        "plot_bgcolor": "rgba(32, 32, 32, 1)",
        "showlegend": true,
        "template": {
         "data": {
          "bar": [
           {
            "error_x": {
             "color": "#f2f5fa"
            },
            "error_y": {
             "color": "#f2f5fa"
            },
            "marker": {
             "line": {
              "color": "rgb(17,17,17)",
              "width": 0.5
             },
             "pattern": {
              "fillmode": "overlay",
              "size": 10,
              "solidity": 0.2
             }
            },
            "type": "bar"
           }
          ],
          "barpolar": [
           {
            "marker": {
             "line": {
              "color": "rgb(17,17,17)",
              "width": 0.5
             },
             "pattern": {
              "fillmode": "overlay",
              "size": 10,
              "solidity": 0.2
             }
            },
            "type": "barpolar"
           }
          ],
          "carpet": [
           {
            "aaxis": {
             "endlinecolor": "#A2B1C6",
             "gridcolor": "#506784",
             "linecolor": "#506784",
             "minorgridcolor": "#506784",
             "startlinecolor": "#A2B1C6"
            },
            "baxis": {
             "endlinecolor": "#A2B1C6",
             "gridcolor": "#506784",
             "linecolor": "#506784",
             "minorgridcolor": "#506784",
             "startlinecolor": "#A2B1C6"
            },
            "type": "carpet"
           }
          ],
          "choropleth": [
           {
            "colorbar": {
             "outlinewidth": 0,
             "ticks": ""
            },
            "type": "choropleth"
           }
          ],
          "contour": [
           {
            "colorbar": {
             "outlinewidth": 0,
             "ticks": ""
            },
            "colorscale": [
             [
              0,
              "#0d0887"
             ],
             [
              0.1111111111111111,
              "#46039f"
             ],
             [
              0.2222222222222222,
              "#7201a8"
             ],
             [
              0.3333333333333333,
              "#9c179e"
             ],
             [
              0.4444444444444444,
              "#bd3786"
             ],
             [
              0.5555555555555556,
              "#d8576b"
             ],
             [
              0.6666666666666666,
              "#ed7953"
             ],
             [
              0.7777777777777778,
              "#fb9f3a"
             ],
             [
              0.8888888888888888,
              "#fdca26"
             ],
             [
              1,
              "#f0f921"
             ]
            ],
            "type": "contour"
           }
          ],
          "contourcarpet": [
           {
            "colorbar": {
             "outlinewidth": 0,
             "ticks": ""
            },
            "type": "contourcarpet"
           }
          ],
          "heatmap": [
           {
            "colorbar": {
             "outlinewidth": 0,
             "ticks": ""
            },
            "colorscale": [
             [
              0,
              "#0d0887"
             ],
             [
              0.1111111111111111,
              "#46039f"
             ],
             [
              0.2222222222222222,
              "#7201a8"
             ],
             [
              0.3333333333333333,
              "#9c179e"
             ],
             [
              0.4444444444444444,
              "#bd3786"
             ],
             [
              0.5555555555555556,
              "#d8576b"
             ],
             [
              0.6666666666666666,
              "#ed7953"
             ],
             [
              0.7777777777777778,
              "#fb9f3a"
             ],
             [
              0.8888888888888888,
              "#fdca26"
             ],
             [
              1,
              "#f0f921"
             ]
            ],
            "type": "heatmap"
           }
          ],
          "histogram": [
           {
            "marker": {
             "pattern": {
              "fillmode": "overlay",
              "size": 10,
              "solidity": 0.2
             }
            },
            "type": "histogram"
           }
          ],
          "histogram2d": [
           {
            "colorbar": {
             "outlinewidth": 0,
             "ticks": ""
            },
            "colorscale": [
             [
              0,
              "#0d0887"
             ],
             [
              0.1111111111111111,
              "#46039f"
             ],
             [
              0.2222222222222222,
              "#7201a8"
             ],
             [
              0.3333333333333333,
              "#9c179e"
             ],
             [
              0.4444444444444444,
              "#bd3786"
             ],
             [
              0.5555555555555556,
              "#d8576b"
             ],
             [
              0.6666666666666666,
              "#ed7953"
             ],
             [
              0.7777777777777778,
              "#fb9f3a"
             ],
             [
              0.8888888888888888,
              "#fdca26"
             ],
             [
              1,
              "#f0f921"
             ]
            ],
            "type": "histogram2d"
           }
          ],
          "histogram2dcontour": [
           {
            "colorbar": {
             "outlinewidth": 0,
             "ticks": ""
            },
            "colorscale": [
             [
              0,
              "#0d0887"
             ],
             [
              0.1111111111111111,
              "#46039f"
             ],
             [
              0.2222222222222222,
              "#7201a8"
             ],
             [
              0.3333333333333333,
              "#9c179e"
             ],
             [
              0.4444444444444444,
              "#bd3786"
             ],
             [
              0.5555555555555556,
              "#d8576b"
             ],
             [
              0.6666666666666666,
              "#ed7953"
             ],
             [
              0.7777777777777778,
              "#fb9f3a"
             ],
             [
              0.8888888888888888,
              "#fdca26"
             ],
             [
              1,
              "#f0f921"
             ]
            ],
            "type": "histogram2dcontour"
           }
          ],
          "mesh3d": [
           {
            "colorbar": {
             "outlinewidth": 0,
             "ticks": ""
            },
            "type": "mesh3d"
           }
          ],
          "parcoords": [
           {
            "line": {
             "colorbar": {
              "outlinewidth": 0,
              "ticks": ""
             }
            },
            "type": "parcoords"
           }
          ],
          "pie": [
           {
            "automargin": true,
            "type": "pie"
           }
          ],
          "scatter": [
           {
            "marker": {
             "line": {
              "color": "#283442"
             }
            },
            "type": "scatter"
           }
          ],
          "scatter3d": [
           {
            "line": {
             "colorbar": {
              "outlinewidth": 0,
              "ticks": ""
             }
            },
            "marker": {
             "colorbar": {
              "outlinewidth": 0,
              "ticks": ""
             }
            },
            "type": "scatter3d"
           }
          ],
          "scattercarpet": [
           {
            "marker": {
             "colorbar": {
              "outlinewidth": 0,
              "ticks": ""
             }
            },
            "type": "scattercarpet"
           }
          ],
          "scattergeo": [
           {
            "marker": {
             "colorbar": {
              "outlinewidth": 0,
              "ticks": ""
             }
            },
            "type": "scattergeo"
           }
          ],
          "scattergl": [
           {
            "marker": {
             "line": {
              "color": "#283442"
             }
            },
            "type": "scattergl"
           }
          ],
          "scattermap": [
           {
            "marker": {
             "colorbar": {
              "outlinewidth": 0,
              "ticks": ""
             }
            },
            "type": "scattermap"
           }
          ],
          "scattermapbox": [
           {
            "marker": {
             "colorbar": {
              "outlinewidth": 0,
              "ticks": ""
             }
            },
            "type": "scattermapbox"
           }
          ],
          "scatterpolar": [
           {
            "marker": {
             "colorbar": {
              "outlinewidth": 0,
              "ticks": ""
             }
            },
            "type": "scatterpolar"
           }
          ],
          "scatterpolargl": [
           {
            "marker": {
             "colorbar": {
              "outlinewidth": 0,
              "ticks": ""
             }
            },
            "type": "scatterpolargl"
           }
          ],
          "scatterternary": [
           {
            "marker": {
             "colorbar": {
              "outlinewidth": 0,
              "ticks": ""
             }
            },
            "type": "scatterternary"
           }
          ],
          "surface": [
           {
            "colorbar": {
             "outlinewidth": 0,
             "ticks": ""
            },
            "colorscale": [
             [
              0,
              "#0d0887"
             ],
             [
              0.1111111111111111,
              "#46039f"
             ],
             [
              0.2222222222222222,
              "#7201a8"
             ],
             [
              0.3333333333333333,
              "#9c179e"
             ],
             [
              0.4444444444444444,
              "#bd3786"
             ],
             [
              0.5555555555555556,
              "#d8576b"
             ],
             [
              0.6666666666666666,
              "#ed7953"
             ],
             [
              0.7777777777777778,
              "#fb9f3a"
             ],
             [
              0.8888888888888888,
              "#fdca26"
             ],
             [
              1,
              "#f0f921"
             ]
            ],
            "type": "surface"
           }
          ],
          "table": [
           {
            "cells": {
             "fill": {
              "color": "#506784"
             },
             "line": {
              "color": "rgb(17,17,17)"
             }
            },
            "header": {
             "fill": {
              "color": "#2a3f5f"
             },
             "line": {
              "color": "rgb(17,17,17)"
             }
            },
            "type": "table"
           }
          ]
         },
         "layout": {
          "annotationdefaults": {
           "arrowcolor": "#f2f5fa",
           "arrowhead": 0,
           "arrowwidth": 1
          },
          "autotypenumbers": "strict",
          "coloraxis": {
           "colorbar": {
            "outlinewidth": 0,
            "ticks": ""
           }
          },
          "colorscale": {
           "diverging": [
            [
             0,
             "#8e0152"
            ],
            [
             0.1,
             "#c51b7d"
            ],
            [
             0.2,
             "#de77ae"
            ],
            [
             0.3,
             "#f1b6da"
            ],
            [
             0.4,
             "#fde0ef"
            ],
            [
             0.5,
             "#f7f7f7"
            ],
            [
             0.6,
             "#e6f5d0"
            ],
            [
             0.7,
             "#b8e186"
            ],
            [
             0.8,
             "#7fbc41"
            ],
            [
             0.9,
             "#4d9221"
            ],
            [
             1,
             "#276419"
            ]
           ],
           "sequential": [
            [
             0,
             "#0d0887"
            ],
            [
             0.1111111111111111,
             "#46039f"
            ],
            [
             0.2222222222222222,
             "#7201a8"
            ],
            [
             0.3333333333333333,
             "#9c179e"
            ],
            [
             0.4444444444444444,
             "#bd3786"
            ],
            [
             0.5555555555555556,
             "#d8576b"
            ],
            [
             0.6666666666666666,
             "#ed7953"
            ],
            [
             0.7777777777777778,
             "#fb9f3a"
            ],
            [
             0.8888888888888888,
             "#fdca26"
            ],
            [
             1,
             "#f0f921"
            ]
           ],
           "sequentialminus": [
            [
             0,
             "#0d0887"
            ],
            [
             0.1111111111111111,
             "#46039f"
            ],
            [
             0.2222222222222222,
             "#7201a8"
            ],
            [
             0.3333333333333333,
             "#9c179e"
            ],
            [
             0.4444444444444444,
             "#bd3786"
            ],
            [
             0.5555555555555556,
             "#d8576b"
            ],
            [
             0.6666666666666666,
             "#ed7953"
            ],
            [
             0.7777777777777778,
             "#fb9f3a"
            ],
            [
             0.8888888888888888,
             "#fdca26"
            ],
            [
             1,
             "#f0f921"
            ]
           ]
          },
          "colorway": [
           "#636efa",
           "#EF553B",
           "#00cc96",
           "#ab63fa",
           "#FFA15A",
           "#19d3f3",
           "#FF6692",
           "#B6E880",
           "#FF97FF",
           "#FECB52"
          ],
          "font": {
           "color": "#f2f5fa"
          },
          "geo": {
           "bgcolor": "rgb(17,17,17)",
           "lakecolor": "rgb(17,17,17)",
           "landcolor": "rgb(17,17,17)",
           "showlakes": true,
           "showland": true,
           "subunitcolor": "#506784"
          },
          "hoverlabel": {
           "align": "left"
          },
          "hovermode": "closest",
          "mapbox": {
           "style": "dark"
          },
          "paper_bgcolor": "rgb(17,17,17)",
          "plot_bgcolor": "rgb(17,17,17)",
          "polar": {
           "angularaxis": {
            "gridcolor": "#506784",
            "linecolor": "#506784",
            "ticks": ""
           },
           "bgcolor": "rgb(17,17,17)",
           "radialaxis": {
            "gridcolor": "#506784",
            "linecolor": "#506784",
            "ticks": ""
           }
          },
          "scene": {
           "xaxis": {
            "backgroundcolor": "rgb(17,17,17)",
            "gridcolor": "#506784",
            "gridwidth": 2,
            "linecolor": "#506784",
            "showbackground": true,
            "ticks": "",
            "zerolinecolor": "#C8D4E3"
           },
           "yaxis": {
            "backgroundcolor": "rgb(17,17,17)",
            "gridcolor": "#506784",
            "gridwidth": 2,
            "linecolor": "#506784",
            "showbackground": true,
            "ticks": "",
            "zerolinecolor": "#C8D4E3"
           },
           "zaxis": {
            "backgroundcolor": "rgb(17,17,17)",
            "gridcolor": "#506784",
            "gridwidth": 2,
            "linecolor": "#506784",
            "showbackground": true,
            "ticks": "",
            "zerolinecolor": "#C8D4E3"
           }
          },
          "shapedefaults": {
           "line": {
            "color": "#f2f5fa"
           }
          },
          "sliderdefaults": {
           "bgcolor": "#C8D4E3",
           "bordercolor": "rgb(17,17,17)",
           "borderwidth": 1,
           "tickwidth": 0
          },
          "ternary": {
           "aaxis": {
            "gridcolor": "#506784",
            "linecolor": "#506784",
            "ticks": ""
           },
           "baxis": {
            "gridcolor": "#506784",
            "linecolor": "#506784",
            "ticks": ""
           },
           "bgcolor": "rgb(17,17,17)",
           "caxis": {
            "gridcolor": "#506784",
            "linecolor": "#506784",
            "ticks": ""
           }
          },
          "title": {
           "x": 0.05
          },
          "updatemenudefaults": {
           "bgcolor": "#506784",
           "borderwidth": 0
          },
          "xaxis": {
           "automargin": true,
           "gridcolor": "#283442",
           "linecolor": "#506784",
           "ticks": "",
           "title": {
            "standoff": 15
           },
           "zerolinecolor": "#283442",
           "zerolinewidth": 2
          },
          "yaxis": {
           "automargin": true,
           "gridcolor": "#283442",
           "linecolor": "#506784",
           "ticks": "",
           "title": {
            "standoff": 15
           },
           "zerolinecolor": "#283442",
           "zerolinewidth": 2
          }
         }
        },
        "title": {},
        "width": 1000,
        "xaxis": {
         "gridcolor": "rgba(128, 128, 128, 0.2)",
         "title": {
          "text": "Layer"
         },
         "zeroline": false
        },
        "yaxis": {
         "gridcolor": "rgba(128, 128, 128, 0.2)",
         "title": {
          "text": "Logistic Regression F1 Score"
         },
         "zeroline": false
        }
       }
      }
     },
     "metadata": {},
     "output_type": "display_data"
    }
   ],
   "source": [
    "for classifier in [\"direction\", \"logistic_regression\"]:\n",
    "    # for metric in [\"f1_score\", \"accuracy_score\", \"precision_score\", \"recall_score\"]:\n",
    "    for metric in [\"f1_score\"]:\n",
    "        plot_dict = {}\n",
    "        for conf, res_df_ in res_df.groupby([\"model_id\", \"test_dataset_id\", \"prompt_id\", \"subset_id\", \"input_type\"]):\n",
    "            # if conf[4] != \"prompt_only\":\n",
    "            #     continue\n",
    "            \n",
    "            print(f\"{conf=}\")\n",
    "            res_df_pivot = pd.pivot(\n",
    "                res_df_.drop(columns=[\"model_id\", \"test_dataset_id\", \"prompt_id\", \"subset_id\", \"input_type\"]),\n",
    "                index='layer',\n",
    "                columns='fold',\n",
    "                # values=['direction_f1_score', 'logistic_regression_f1_score']  # add all metrics you want to keep\n",
    "            )\n",
    "            # for classifier in [\"direction\", \"logistic_regression\"]:\n",
    "            #     for metric in [\"f1_score\", \"accuracy_score\", \"precision_score\", \"recall_score\"]:\n",
    "            plot_dict[str(conf)] = res_df_pivot[[f\"{classifier}_{metric}\"]]\n",
    "\n",
    "        plot_interactive_lineplot(\n",
    "            plot_dict,\n",
    "            x_label=\"Layer\",\n",
    "            y_label=f\"{classifier}_{metric}\".replace(\"_\", \" \").title(),\n",
    "            save_path=f\"./classification_data/figures/res_df_llama31_8B_4_memory_datasets_combined_train_sets_{classifier}_{metric}.html\"\n",
    "        ).show()\n",
    "\n"
   ]
  },
  {
   "cell_type": "code",
   "execution_count": 12,
   "metadata": {},
   "outputs": [],
   "source": [
    "# def plot_interactive_box(df, x_label, y_label, title=None):\n",
    "#     fig = go.Figure()\n",
    "    \n",
    "#     # Create box plot\n",
    "#     fig.add_trace(go.Box(\n",
    "#         x=[idx for idx in df.index for _ in range(len(df.columns))],  # Repeat each index for each fold\n",
    "#         y=df.values.flatten(),  # Flatten all values\n",
    "#         boxpoints='all',  # Show all points\n",
    "#         jitter=0,        # No jitter for points\n",
    "#         pointpos=0,      # Position points at center\n",
    "#         marker=dict(\n",
    "#             color='#1f77b4',\n",
    "#             size=8,\n",
    "#             opacity=0.5\n",
    "#         ),\n",
    "#         line=dict(\n",
    "#             color='#1f77b4',\n",
    "#             width=2\n",
    "#         ),\n",
    "#         fillcolor='rgba(68, 138, 255, 0.5)',\n",
    "#         opacity=0.6,\n",
    "#         showlegend=False,\n",
    "#         boxmean=True,    # Show mean as a dashed line\n",
    "#         width=0.5        # Width of boxes\n",
    "#     ))\n",
    "\n",
    "#     fig.update_layout(\n",
    "#         title=title,\n",
    "#         yaxis_title=y_label,\n",
    "#         xaxis_title=x_label,\n",
    "#         template='plotly_dark',\n",
    "#         plot_bgcolor='rgba(32, 32, 32, 1)',\n",
    "#         paper_bgcolor='rgba(32, 32, 32, 1)',\n",
    "#         font=dict(color='white'),\n",
    "#         margin=dict(t=50, l=50, r=30),\n",
    "#         showlegend=False\n",
    "#     )\n",
    "    \n",
    "#     # Update axes for consistency with dark theme\n",
    "#     fig.update_xaxes(gridcolor='rgba(128, 128, 128, 0.2)', zeroline=False)\n",
    "#     fig.update_yaxes(gridcolor='rgba(128, 128, 128, 0.2)', zeroline=False)\n",
    "    \n",
    "#     return fig\n",
    "\n",
    "# plot_interactive_box(res_df, x_label=\"Layer\", y_label=\"F1 Score\").show()"
   ]
  },
  {
   "cell_type": "code",
   "execution_count": null,
   "metadata": {},
   "outputs": [],
   "source": []
  },
  {
   "cell_type": "code",
   "execution_count": null,
   "metadata": {},
   "outputs": [],
   "source": []
  }
 ],
 "metadata": {
  "kernelspec": {
   "display_name": "venv",
   "language": "python",
   "name": "python3"
  },
  "language_info": {
   "codemirror_mode": {
    "name": "ipython",
    "version": 3
   },
   "file_extension": ".py",
   "mimetype": "text/x-python",
   "name": "python",
   "nbconvert_exporter": "python",
   "pygments_lexer": "ipython3",
   "version": "3.11.3"
  }
 },
 "nbformat": 4,
 "nbformat_minor": 2
}
