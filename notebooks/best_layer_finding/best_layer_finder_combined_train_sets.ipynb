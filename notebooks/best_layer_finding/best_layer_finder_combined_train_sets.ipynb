{
 "cells": [
  {
   "cell_type": "code",
   "execution_count": 1,
   "metadata": {},
   "outputs": [
    {
     "data": {
      "text/plain": [
       "['/Library/Frameworks/Python.framework/Versions/3.11/lib/python311.zip',\n",
       " '/Library/Frameworks/Python.framework/Versions/3.11/lib/python3.11',\n",
       " '/Library/Frameworks/Python.framework/Versions/3.11/lib/python3.11/lib-dynload',\n",
       " '',\n",
       " '/Users/anton/dev/MARS/correctness-model-internals/venv/lib/python3.11/site-packages',\n",
       " '/Users/anton/dev/MARS/correctness-model-internals']"
      ]
     },
     "execution_count": 1,
     "metadata": {},
     "output_type": "execute_result"
    }
   ],
   "source": [
    "import sys\n",
    "from pathlib import Path\n",
    "\n",
    "# Add the src directory to Python path\n",
    "src_path = str(Path(\"./\").resolve().parent.parent)\n",
    "if src_path not in sys.path:\n",
    "    sys.path.append(src_path)\n",
    "\n",
    "sys.path"
   ]
  },
  {
   "cell_type": "code",
   "execution_count": 2,
   "metadata": {},
   "outputs": [],
   "source": [
    "from collections import defaultdict\n",
    "\n",
    "import pandas as pd\n",
    "\n",
    "from src.classifying import (\n",
    "    ActivationsHandler,\n",
    "    combine_activations_handlers,\n",
    "    get_correctness_direction_classifier,\n",
    "    get_logistic_regression_classifier,\n",
    "    get_between_class_variance_and_within_class_variance,\n",
    ")\n",
    "from src.visualisations.utils import plot_interactive_lineplot\n",
    "from src.utils.data import load_activations, load_labels, get_experiment_activations_configs_df_subset\n"
   ]
  },
  {
   "cell_type": "code",
   "execution_count": 3,
   "metadata": {},
   "outputs": [],
   "source": [
    "BASE_PATH = \"../../data_for_classification\""
   ]
  },
  {
   "cell_type": "code",
   "execution_count": 4,
   "metadata": {},
   "outputs": [
    {
     "data": {
      "text/html": [
       "<div>\n",
       "<style scoped>\n",
       "    .dataframe tbody tr th:only-of-type {\n",
       "        vertical-align: middle;\n",
       "    }\n",
       "\n",
       "    .dataframe tbody tr th {\n",
       "        vertical-align: top;\n",
       "    }\n",
       "\n",
       "    .dataframe thead th {\n",
       "        text-align: right;\n",
       "    }\n",
       "</style>\n",
       "<table border=\"1\" class=\"dataframe\">\n",
       "  <thead>\n",
       "    <tr style=\"text-align: right;\">\n",
       "      <th></th>\n",
       "      <th>model_id</th>\n",
       "      <th>dataset_id</th>\n",
       "      <th>prompt_id</th>\n",
       "      <th>subset_id</th>\n",
       "      <th>input_type</th>\n",
       "      <th>layer</th>\n",
       "      <th>path</th>\n",
       "    </tr>\n",
       "  </thead>\n",
       "  <tbody>\n",
       "    <tr>\n",
       "      <th>0</th>\n",
       "      <td>llama3.1_8b_chat</td>\n",
       "      <td>football_leagues_1k</td>\n",
       "      <td>base</td>\n",
       "      <td>main</td>\n",
       "      <td>prompt_only</td>\n",
       "      <td>0</td>\n",
       "      <td>../../data_for_classification/activations/llam...</td>\n",
       "    </tr>\n",
       "    <tr>\n",
       "      <th>1</th>\n",
       "      <td>llama3.1_8b_chat</td>\n",
       "      <td>football_leagues_1k</td>\n",
       "      <td>base</td>\n",
       "      <td>main</td>\n",
       "      <td>prompt_only</td>\n",
       "      <td>7</td>\n",
       "      <td>../../data_for_classification/activations/llam...</td>\n",
       "    </tr>\n",
       "    <tr>\n",
       "      <th>2</th>\n",
       "      <td>llama3.1_8b_chat</td>\n",
       "      <td>football_leagues_1k</td>\n",
       "      <td>base</td>\n",
       "      <td>main</td>\n",
       "      <td>prompt_only</td>\n",
       "      <td>9</td>\n",
       "      <td>../../data_for_classification/activations/llam...</td>\n",
       "    </tr>\n",
       "    <tr>\n",
       "      <th>3</th>\n",
       "      <td>llama3.1_8b_chat</td>\n",
       "      <td>football_leagues_1k</td>\n",
       "      <td>base</td>\n",
       "      <td>main</td>\n",
       "      <td>prompt_only</td>\n",
       "      <td>17</td>\n",
       "      <td>../../data_for_classification/activations/llam...</td>\n",
       "    </tr>\n",
       "    <tr>\n",
       "      <th>4</th>\n",
       "      <td>llama3.1_8b_chat</td>\n",
       "      <td>football_leagues_1k</td>\n",
       "      <td>base</td>\n",
       "      <td>main</td>\n",
       "      <td>prompt_only</td>\n",
       "      <td>28</td>\n",
       "      <td>../../data_for_classification/activations/llam...</td>\n",
       "    </tr>\n",
       "    <tr>\n",
       "      <th>...</th>\n",
       "      <td>...</td>\n",
       "      <td>...</td>\n",
       "      <td>...</td>\n",
       "      <td>...</td>\n",
       "      <td>...</td>\n",
       "      <td>...</td>\n",
       "      <td>...</td>\n",
       "    </tr>\n",
       "    <tr>\n",
       "      <th>379</th>\n",
       "      <td>llama3.1_8b_chat</td>\n",
       "      <td>birth_years_4k</td>\n",
       "      <td>base</td>\n",
       "      <td>main</td>\n",
       "      <td>prompt_answer</td>\n",
       "      <td>23</td>\n",
       "      <td>../../data_for_classification/activations/llam...</td>\n",
       "    </tr>\n",
       "    <tr>\n",
       "      <th>380</th>\n",
       "      <td>llama3.1_8b_chat</td>\n",
       "      <td>birth_years_4k</td>\n",
       "      <td>base</td>\n",
       "      <td>main</td>\n",
       "      <td>prompt_answer</td>\n",
       "      <td>15</td>\n",
       "      <td>../../data_for_classification/activations/llam...</td>\n",
       "    </tr>\n",
       "    <tr>\n",
       "      <th>381</th>\n",
       "      <td>llama3.1_8b_chat</td>\n",
       "      <td>birth_years_4k</td>\n",
       "      <td>base</td>\n",
       "      <td>main</td>\n",
       "      <td>prompt_answer</td>\n",
       "      <td>12</td>\n",
       "      <td>../../data_for_classification/activations/llam...</td>\n",
       "    </tr>\n",
       "    <tr>\n",
       "      <th>382</th>\n",
       "      <td>llama3.1_8b_chat</td>\n",
       "      <td>birth_years_4k</td>\n",
       "      <td>base</td>\n",
       "      <td>main</td>\n",
       "      <td>prompt_answer</td>\n",
       "      <td>2</td>\n",
       "      <td>../../data_for_classification/activations/llam...</td>\n",
       "    </tr>\n",
       "    <tr>\n",
       "      <th>383</th>\n",
       "      <td>llama3.1_8b_chat</td>\n",
       "      <td>birth_years_4k</td>\n",
       "      <td>base</td>\n",
       "      <td>main</td>\n",
       "      <td>prompt_answer</td>\n",
       "      <td>5</td>\n",
       "      <td>../../data_for_classification/activations/llam...</td>\n",
       "    </tr>\n",
       "  </tbody>\n",
       "</table>\n",
       "<p>384 rows × 7 columns</p>\n",
       "</div>"
      ],
      "text/plain": [
       "             model_id           dataset_id prompt_id subset_id     input_type  \\\n",
       "0    llama3.1_8b_chat  football_leagues_1k      base      main    prompt_only   \n",
       "1    llama3.1_8b_chat  football_leagues_1k      base      main    prompt_only   \n",
       "2    llama3.1_8b_chat  football_leagues_1k      base      main    prompt_only   \n",
       "3    llama3.1_8b_chat  football_leagues_1k      base      main    prompt_only   \n",
       "4    llama3.1_8b_chat  football_leagues_1k      base      main    prompt_only   \n",
       "..                ...                  ...       ...       ...            ...   \n",
       "379  llama3.1_8b_chat       birth_years_4k      base      main  prompt_answer   \n",
       "380  llama3.1_8b_chat       birth_years_4k      base      main  prompt_answer   \n",
       "381  llama3.1_8b_chat       birth_years_4k      base      main  prompt_answer   \n",
       "382  llama3.1_8b_chat       birth_years_4k      base      main  prompt_answer   \n",
       "383  llama3.1_8b_chat       birth_years_4k      base      main  prompt_answer   \n",
       "\n",
       "     layer                                               path  \n",
       "0        0  ../../data_for_classification/activations/llam...  \n",
       "1        7  ../../data_for_classification/activations/llam...  \n",
       "2        9  ../../data_for_classification/activations/llam...  \n",
       "3       17  ../../data_for_classification/activations/llam...  \n",
       "4       28  ../../data_for_classification/activations/llam...  \n",
       "..     ...                                                ...  \n",
       "379     23  ../../data_for_classification/activations/llam...  \n",
       "380     15  ../../data_for_classification/activations/llam...  \n",
       "381     12  ../../data_for_classification/activations/llam...  \n",
       "382      2  ../../data_for_classification/activations/llam...  \n",
       "383      5  ../../data_for_classification/activations/llam...  \n",
       "\n",
       "[384 rows x 7 columns]"
      ]
     },
     "execution_count": 4,
     "metadata": {},
     "output_type": "execute_result"
    }
   ],
   "source": [
    "# Set None to get all\n",
    "MODEL_ID = \"llama3.1_8b_chat\"\n",
    "# DATASET_ID = \"gsm8k\"\n",
    "# PROMPT_ID = \"cot_3_shot\"\n",
    "# SUBSET_ID = \"main\"\n",
    "# INPUT_TYPE = \"prompt_only\"\n",
    "DATASET_ID = None\n",
    "PROMPT_ID = None\n",
    "SUBSET_ID = None\n",
    "INPUT_TYPE = None\n",
    "\n",
    "activation_exp_configs_df = get_experiment_activations_configs_df_subset(\n",
    "    base_path=BASE_PATH,\n",
    "    model_id=MODEL_ID,\n",
    "    dataset_id=DATASET_ID,\n",
    "    prompt_id=PROMPT_ID,\n",
    "    subset_id=SUBSET_ID,\n",
    "    input_type=INPUT_TYPE,\n",
    ")\n",
    "activation_exp_configs_df"
   ]
  },
  {
   "cell_type": "code",
   "execution_count": 6,
   "metadata": {},
   "outputs": [
    {
     "name": "stdout",
     "output_type": "stream",
     "text": [
      "\n",
      "model_id='llama3.1_8b_chat', prompt_id='base', subset_id='main', input_type='prompt_answer'\n",
      "layer=0, "
     ]
    },
    {
     "name": "stderr",
     "output_type": "stream",
     "text": [
      "/Users/anton/dev/MARS/correctness-model-internals/venv/lib/python3.11/site-packages/sklearn/linear_model/_logistic.py:469: ConvergenceWarning: lbfgs failed to converge (status=1):\n",
      "STOP: TOTAL NO. OF ITERATIONS REACHED LIMIT.\n",
      "\n",
      "Increase the number of iterations (max_iter) or scale the data as shown in:\n",
      "    https://scikit-learn.org/stable/modules/preprocessing.html\n",
      "Please also refer to the documentation for alternative solver options:\n",
      "    https://scikit-learn.org/stable/modules/linear_model.html#logistic-regression\n",
      "  n_iter_i = _check_optimize_result(\n",
      "/Users/anton/dev/MARS/correctness-model-internals/venv/lib/python3.11/site-packages/sklearn/linear_model/_logistic.py:469: ConvergenceWarning: lbfgs failed to converge (status=1):\n",
      "STOP: TOTAL NO. OF ITERATIONS REACHED LIMIT.\n",
      "\n",
      "Increase the number of iterations (max_iter) or scale the data as shown in:\n",
      "    https://scikit-learn.org/stable/modules/preprocessing.html\n",
      "Please also refer to the documentation for alternative solver options:\n",
      "    https://scikit-learn.org/stable/modules/linear_model.html#logistic-regression\n",
      "  n_iter_i = _check_optimize_result(\n",
      "/Users/anton/dev/MARS/correctness-model-internals/venv/lib/python3.11/site-packages/sklearn/linear_model/_logistic.py:469: ConvergenceWarning: lbfgs failed to converge (status=1):\n",
      "STOP: TOTAL NO. OF ITERATIONS REACHED LIMIT.\n",
      "\n",
      "Increase the number of iterations (max_iter) or scale the data as shown in:\n",
      "    https://scikit-learn.org/stable/modules/preprocessing.html\n",
      "Please also refer to the documentation for alternative solver options:\n",
      "    https://scikit-learn.org/stable/modules/linear_model.html#logistic-regression\n",
      "  n_iter_i = _check_optimize_result(\n",
      "/Users/anton/dev/MARS/correctness-model-internals/venv/lib/python3.11/site-packages/sklearn/linear_model/_logistic.py:469: ConvergenceWarning: lbfgs failed to converge (status=1):\n",
      "STOP: TOTAL NO. OF ITERATIONS REACHED LIMIT.\n",
      "\n",
      "Increase the number of iterations (max_iter) or scale the data as shown in:\n",
      "    https://scikit-learn.org/stable/modules/preprocessing.html\n",
      "Please also refer to the documentation for alternative solver options:\n",
      "    https://scikit-learn.org/stable/modules/linear_model.html#logistic-regression\n",
      "  n_iter_i = _check_optimize_result(\n",
      "/Users/anton/dev/MARS/correctness-model-internals/venv/lib/python3.11/site-packages/sklearn/linear_model/_logistic.py:469: ConvergenceWarning: lbfgs failed to converge (status=1):\n",
      "STOP: TOTAL NO. OF ITERATIONS REACHED LIMIT.\n",
      "\n",
      "Increase the number of iterations (max_iter) or scale the data as shown in:\n",
      "    https://scikit-learn.org/stable/modules/preprocessing.html\n",
      "Please also refer to the documentation for alternative solver options:\n",
      "    https://scikit-learn.org/stable/modules/linear_model.html#logistic-regression\n",
      "  n_iter_i = _check_optimize_result(\n"
     ]
    },
    {
     "name": "stdout",
     "output_type": "stream",
     "text": [
      "layer=1, "
     ]
    },
    {
     "name": "stderr",
     "output_type": "stream",
     "text": [
      "/Users/anton/dev/MARS/correctness-model-internals/venv/lib/python3.11/site-packages/sklearn/linear_model/_logistic.py:469: ConvergenceWarning: lbfgs failed to converge (status=1):\n",
      "STOP: TOTAL NO. OF ITERATIONS REACHED LIMIT.\n",
      "\n",
      "Increase the number of iterations (max_iter) or scale the data as shown in:\n",
      "    https://scikit-learn.org/stable/modules/preprocessing.html\n",
      "Please also refer to the documentation for alternative solver options:\n",
      "    https://scikit-learn.org/stable/modules/linear_model.html#logistic-regression\n",
      "  n_iter_i = _check_optimize_result(\n",
      "/Users/anton/dev/MARS/correctness-model-internals/venv/lib/python3.11/site-packages/sklearn/linear_model/_logistic.py:469: ConvergenceWarning: lbfgs failed to converge (status=1):\n",
      "STOP: TOTAL NO. OF ITERATIONS REACHED LIMIT.\n",
      "\n",
      "Increase the number of iterations (max_iter) or scale the data as shown in:\n",
      "    https://scikit-learn.org/stable/modules/preprocessing.html\n",
      "Please also refer to the documentation for alternative solver options:\n",
      "    https://scikit-learn.org/stable/modules/linear_model.html#logistic-regression\n",
      "  n_iter_i = _check_optimize_result(\n",
      "/Users/anton/dev/MARS/correctness-model-internals/venv/lib/python3.11/site-packages/sklearn/linear_model/_logistic.py:469: ConvergenceWarning: lbfgs failed to converge (status=1):\n",
      "STOP: TOTAL NO. OF ITERATIONS REACHED LIMIT.\n",
      "\n",
      "Increase the number of iterations (max_iter) or scale the data as shown in:\n",
      "    https://scikit-learn.org/stable/modules/preprocessing.html\n",
      "Please also refer to the documentation for alternative solver options:\n",
      "    https://scikit-learn.org/stable/modules/linear_model.html#logistic-regression\n",
      "  n_iter_i = _check_optimize_result(\n",
      "/Users/anton/dev/MARS/correctness-model-internals/venv/lib/python3.11/site-packages/sklearn/linear_model/_logistic.py:469: ConvergenceWarning: lbfgs failed to converge (status=1):\n",
      "STOP: TOTAL NO. OF ITERATIONS REACHED LIMIT.\n",
      "\n",
      "Increase the number of iterations (max_iter) or scale the data as shown in:\n",
      "    https://scikit-learn.org/stable/modules/preprocessing.html\n",
      "Please also refer to the documentation for alternative solver options:\n",
      "    https://scikit-learn.org/stable/modules/linear_model.html#logistic-regression\n",
      "  n_iter_i = _check_optimize_result(\n",
      "/Users/anton/dev/MARS/correctness-model-internals/venv/lib/python3.11/site-packages/sklearn/linear_model/_logistic.py:469: ConvergenceWarning: lbfgs failed to converge (status=1):\n",
      "STOP: TOTAL NO. OF ITERATIONS REACHED LIMIT.\n",
      "\n",
      "Increase the number of iterations (max_iter) or scale the data as shown in:\n",
      "    https://scikit-learn.org/stable/modules/preprocessing.html\n",
      "Please also refer to the documentation for alternative solver options:\n",
      "    https://scikit-learn.org/stable/modules/linear_model.html#logistic-regression\n",
      "  n_iter_i = _check_optimize_result(\n"
     ]
    },
    {
     "name": "stdout",
     "output_type": "stream",
     "text": [
      "layer=2, "
     ]
    },
    {
     "name": "stderr",
     "output_type": "stream",
     "text": [
      "/Users/anton/dev/MARS/correctness-model-internals/venv/lib/python3.11/site-packages/sklearn/linear_model/_logistic.py:469: ConvergenceWarning: lbfgs failed to converge (status=1):\n",
      "STOP: TOTAL NO. OF ITERATIONS REACHED LIMIT.\n",
      "\n",
      "Increase the number of iterations (max_iter) or scale the data as shown in:\n",
      "    https://scikit-learn.org/stable/modules/preprocessing.html\n",
      "Please also refer to the documentation for alternative solver options:\n",
      "    https://scikit-learn.org/stable/modules/linear_model.html#logistic-regression\n",
      "  n_iter_i = _check_optimize_result(\n",
      "/Users/anton/dev/MARS/correctness-model-internals/venv/lib/python3.11/site-packages/sklearn/linear_model/_logistic.py:469: ConvergenceWarning: lbfgs failed to converge (status=1):\n",
      "STOP: TOTAL NO. OF ITERATIONS REACHED LIMIT.\n",
      "\n",
      "Increase the number of iterations (max_iter) or scale the data as shown in:\n",
      "    https://scikit-learn.org/stable/modules/preprocessing.html\n",
      "Please also refer to the documentation for alternative solver options:\n",
      "    https://scikit-learn.org/stable/modules/linear_model.html#logistic-regression\n",
      "  n_iter_i = _check_optimize_result(\n",
      "/Users/anton/dev/MARS/correctness-model-internals/venv/lib/python3.11/site-packages/sklearn/linear_model/_logistic.py:469: ConvergenceWarning: lbfgs failed to converge (status=1):\n",
      "STOP: TOTAL NO. OF ITERATIONS REACHED LIMIT.\n",
      "\n",
      "Increase the number of iterations (max_iter) or scale the data as shown in:\n",
      "    https://scikit-learn.org/stable/modules/preprocessing.html\n",
      "Please also refer to the documentation for alternative solver options:\n",
      "    https://scikit-learn.org/stable/modules/linear_model.html#logistic-regression\n",
      "  n_iter_i = _check_optimize_result(\n",
      "/Users/anton/dev/MARS/correctness-model-internals/venv/lib/python3.11/site-packages/sklearn/linear_model/_logistic.py:469: ConvergenceWarning: lbfgs failed to converge (status=1):\n",
      "STOP: TOTAL NO. OF ITERATIONS REACHED LIMIT.\n",
      "\n",
      "Increase the number of iterations (max_iter) or scale the data as shown in:\n",
      "    https://scikit-learn.org/stable/modules/preprocessing.html\n",
      "Please also refer to the documentation for alternative solver options:\n",
      "    https://scikit-learn.org/stable/modules/linear_model.html#logistic-regression\n",
      "  n_iter_i = _check_optimize_result(\n",
      "/Users/anton/dev/MARS/correctness-model-internals/venv/lib/python3.11/site-packages/sklearn/linear_model/_logistic.py:469: ConvergenceWarning: lbfgs failed to converge (status=1):\n",
      "STOP: TOTAL NO. OF ITERATIONS REACHED LIMIT.\n",
      "\n",
      "Increase the number of iterations (max_iter) or scale the data as shown in:\n",
      "    https://scikit-learn.org/stable/modules/preprocessing.html\n",
      "Please also refer to the documentation for alternative solver options:\n",
      "    https://scikit-learn.org/stable/modules/linear_model.html#logistic-regression\n",
      "  n_iter_i = _check_optimize_result(\n"
     ]
    },
    {
     "name": "stdout",
     "output_type": "stream",
     "text": [
      "layer=3, "
     ]
    },
    {
     "name": "stderr",
     "output_type": "stream",
     "text": [
      "/Users/anton/dev/MARS/correctness-model-internals/venv/lib/python3.11/site-packages/sklearn/linear_model/_logistic.py:469: ConvergenceWarning: lbfgs failed to converge (status=1):\n",
      "STOP: TOTAL NO. OF ITERATIONS REACHED LIMIT.\n",
      "\n",
      "Increase the number of iterations (max_iter) or scale the data as shown in:\n",
      "    https://scikit-learn.org/stable/modules/preprocessing.html\n",
      "Please also refer to the documentation for alternative solver options:\n",
      "    https://scikit-learn.org/stable/modules/linear_model.html#logistic-regression\n",
      "  n_iter_i = _check_optimize_result(\n",
      "/Users/anton/dev/MARS/correctness-model-internals/venv/lib/python3.11/site-packages/sklearn/linear_model/_logistic.py:469: ConvergenceWarning: lbfgs failed to converge (status=1):\n",
      "STOP: TOTAL NO. OF ITERATIONS REACHED LIMIT.\n",
      "\n",
      "Increase the number of iterations (max_iter) or scale the data as shown in:\n",
      "    https://scikit-learn.org/stable/modules/preprocessing.html\n",
      "Please also refer to the documentation for alternative solver options:\n",
      "    https://scikit-learn.org/stable/modules/linear_model.html#logistic-regression\n",
      "  n_iter_i = _check_optimize_result(\n"
     ]
    },
    {
     "name": "stdout",
     "output_type": "stream",
     "text": [
      "layer=4, layer=5, layer=6, layer=7, layer=8, layer=9, layer=10, layer=11, layer=12, layer=13, layer=14, layer=15, layer=16, layer=17, layer=18, layer=19, layer=20, layer=21, layer=22, layer=23, layer=24, layer=25, layer=26, layer=27, layer=28, layer=29, layer=30, layer=31, \n",
      "model_id='llama3.1_8b_chat', prompt_id='base', subset_id='main', input_type='prompt_only'\n",
      "layer=0, "
     ]
    },
    {
     "name": "stderr",
     "output_type": "stream",
     "text": [
      "/Users/anton/dev/MARS/correctness-model-internals/venv/lib/python3.11/site-packages/sklearn/linear_model/_logistic.py:469: ConvergenceWarning: lbfgs failed to converge (status=1):\n",
      "STOP: TOTAL NO. OF ITERATIONS REACHED LIMIT.\n",
      "\n",
      "Increase the number of iterations (max_iter) or scale the data as shown in:\n",
      "    https://scikit-learn.org/stable/modules/preprocessing.html\n",
      "Please also refer to the documentation for alternative solver options:\n",
      "    https://scikit-learn.org/stable/modules/linear_model.html#logistic-regression\n",
      "  n_iter_i = _check_optimize_result(\n",
      "/Users/anton/dev/MARS/correctness-model-internals/venv/lib/python3.11/site-packages/sklearn/linear_model/_logistic.py:469: ConvergenceWarning: lbfgs failed to converge (status=1):\n",
      "STOP: TOTAL NO. OF ITERATIONS REACHED LIMIT.\n",
      "\n",
      "Increase the number of iterations (max_iter) or scale the data as shown in:\n",
      "    https://scikit-learn.org/stable/modules/preprocessing.html\n",
      "Please also refer to the documentation for alternative solver options:\n",
      "    https://scikit-learn.org/stable/modules/linear_model.html#logistic-regression\n",
      "  n_iter_i = _check_optimize_result(\n",
      "/Users/anton/dev/MARS/correctness-model-internals/venv/lib/python3.11/site-packages/sklearn/linear_model/_logistic.py:469: ConvergenceWarning: lbfgs failed to converge (status=1):\n",
      "STOP: TOTAL NO. OF ITERATIONS REACHED LIMIT.\n",
      "\n",
      "Increase the number of iterations (max_iter) or scale the data as shown in:\n",
      "    https://scikit-learn.org/stable/modules/preprocessing.html\n",
      "Please also refer to the documentation for alternative solver options:\n",
      "    https://scikit-learn.org/stable/modules/linear_model.html#logistic-regression\n",
      "  n_iter_i = _check_optimize_result(\n",
      "/Users/anton/dev/MARS/correctness-model-internals/venv/lib/python3.11/site-packages/sklearn/linear_model/_logistic.py:469: ConvergenceWarning: lbfgs failed to converge (status=1):\n",
      "STOP: TOTAL NO. OF ITERATIONS REACHED LIMIT.\n",
      "\n",
      "Increase the number of iterations (max_iter) or scale the data as shown in:\n",
      "    https://scikit-learn.org/stable/modules/preprocessing.html\n",
      "Please also refer to the documentation for alternative solver options:\n",
      "    https://scikit-learn.org/stable/modules/linear_model.html#logistic-regression\n",
      "  n_iter_i = _check_optimize_result(\n",
      "/Users/anton/dev/MARS/correctness-model-internals/venv/lib/python3.11/site-packages/sklearn/linear_model/_logistic.py:469: ConvergenceWarning: lbfgs failed to converge (status=1):\n",
      "STOP: TOTAL NO. OF ITERATIONS REACHED LIMIT.\n",
      "\n",
      "Increase the number of iterations (max_iter) or scale the data as shown in:\n",
      "    https://scikit-learn.org/stable/modules/preprocessing.html\n",
      "Please also refer to the documentation for alternative solver options:\n",
      "    https://scikit-learn.org/stable/modules/linear_model.html#logistic-regression\n",
      "  n_iter_i = _check_optimize_result(\n"
     ]
    },
    {
     "name": "stdout",
     "output_type": "stream",
     "text": [
      "layer=1, "
     ]
    },
    {
     "name": "stderr",
     "output_type": "stream",
     "text": [
      "/Users/anton/dev/MARS/correctness-model-internals/venv/lib/python3.11/site-packages/sklearn/linear_model/_logistic.py:469: ConvergenceWarning: lbfgs failed to converge (status=1):\n",
      "STOP: TOTAL NO. OF ITERATIONS REACHED LIMIT.\n",
      "\n",
      "Increase the number of iterations (max_iter) or scale the data as shown in:\n",
      "    https://scikit-learn.org/stable/modules/preprocessing.html\n",
      "Please also refer to the documentation for alternative solver options:\n",
      "    https://scikit-learn.org/stable/modules/linear_model.html#logistic-regression\n",
      "  n_iter_i = _check_optimize_result(\n",
      "/Users/anton/dev/MARS/correctness-model-internals/venv/lib/python3.11/site-packages/sklearn/linear_model/_logistic.py:469: ConvergenceWarning: lbfgs failed to converge (status=1):\n",
      "STOP: TOTAL NO. OF ITERATIONS REACHED LIMIT.\n",
      "\n",
      "Increase the number of iterations (max_iter) or scale the data as shown in:\n",
      "    https://scikit-learn.org/stable/modules/preprocessing.html\n",
      "Please also refer to the documentation for alternative solver options:\n",
      "    https://scikit-learn.org/stable/modules/linear_model.html#logistic-regression\n",
      "  n_iter_i = _check_optimize_result(\n",
      "/Users/anton/dev/MARS/correctness-model-internals/venv/lib/python3.11/site-packages/sklearn/linear_model/_logistic.py:469: ConvergenceWarning: lbfgs failed to converge (status=1):\n",
      "STOP: TOTAL NO. OF ITERATIONS REACHED LIMIT.\n",
      "\n",
      "Increase the number of iterations (max_iter) or scale the data as shown in:\n",
      "    https://scikit-learn.org/stable/modules/preprocessing.html\n",
      "Please also refer to the documentation for alternative solver options:\n",
      "    https://scikit-learn.org/stable/modules/linear_model.html#logistic-regression\n",
      "  n_iter_i = _check_optimize_result(\n",
      "/Users/anton/dev/MARS/correctness-model-internals/venv/lib/python3.11/site-packages/sklearn/metrics/_classification.py:1509: UndefinedMetricWarning: Precision is ill-defined and being set to 0.0 due to no predicted samples. Use `zero_division` parameter to control this behavior.\n",
      "  _warn_prf(average, modifier, f\"{metric.capitalize()} is\", len(result))\n",
      "/Users/anton/dev/MARS/correctness-model-internals/venv/lib/python3.11/site-packages/sklearn/linear_model/_logistic.py:469: ConvergenceWarning: lbfgs failed to converge (status=1):\n",
      "STOP: TOTAL NO. OF ITERATIONS REACHED LIMIT.\n",
      "\n",
      "Increase the number of iterations (max_iter) or scale the data as shown in:\n",
      "    https://scikit-learn.org/stable/modules/preprocessing.html\n",
      "Please also refer to the documentation for alternative solver options:\n",
      "    https://scikit-learn.org/stable/modules/linear_model.html#logistic-regression\n",
      "  n_iter_i = _check_optimize_result(\n",
      "/Users/anton/dev/MARS/correctness-model-internals/venv/lib/python3.11/site-packages/sklearn/metrics/_classification.py:1509: UndefinedMetricWarning: Precision is ill-defined and being set to 0.0 due to no predicted samples. Use `zero_division` parameter to control this behavior.\n",
      "  _warn_prf(average, modifier, f\"{metric.capitalize()} is\", len(result))\n",
      "/Users/anton/dev/MARS/correctness-model-internals/venv/lib/python3.11/site-packages/sklearn/linear_model/_logistic.py:469: ConvergenceWarning: lbfgs failed to converge (status=1):\n",
      "STOP: TOTAL NO. OF ITERATIONS REACHED LIMIT.\n",
      "\n",
      "Increase the number of iterations (max_iter) or scale the data as shown in:\n",
      "    https://scikit-learn.org/stable/modules/preprocessing.html\n",
      "Please also refer to the documentation for alternative solver options:\n",
      "    https://scikit-learn.org/stable/modules/linear_model.html#logistic-regression\n",
      "  n_iter_i = _check_optimize_result(\n"
     ]
    },
    {
     "name": "stdout",
     "output_type": "stream",
     "text": [
      "layer=2, "
     ]
    },
    {
     "name": "stderr",
     "output_type": "stream",
     "text": [
      "/Users/anton/dev/MARS/correctness-model-internals/venv/lib/python3.11/site-packages/sklearn/linear_model/_logistic.py:469: ConvergenceWarning: lbfgs failed to converge (status=1):\n",
      "STOP: TOTAL NO. OF ITERATIONS REACHED LIMIT.\n",
      "\n",
      "Increase the number of iterations (max_iter) or scale the data as shown in:\n",
      "    https://scikit-learn.org/stable/modules/preprocessing.html\n",
      "Please also refer to the documentation for alternative solver options:\n",
      "    https://scikit-learn.org/stable/modules/linear_model.html#logistic-regression\n",
      "  n_iter_i = _check_optimize_result(\n",
      "/Users/anton/dev/MARS/correctness-model-internals/venv/lib/python3.11/site-packages/sklearn/linear_model/_logistic.py:469: ConvergenceWarning: lbfgs failed to converge (status=1):\n",
      "STOP: TOTAL NO. OF ITERATIONS REACHED LIMIT.\n",
      "\n",
      "Increase the number of iterations (max_iter) or scale the data as shown in:\n",
      "    https://scikit-learn.org/stable/modules/preprocessing.html\n",
      "Please also refer to the documentation for alternative solver options:\n",
      "    https://scikit-learn.org/stable/modules/linear_model.html#logistic-regression\n",
      "  n_iter_i = _check_optimize_result(\n",
      "/Users/anton/dev/MARS/correctness-model-internals/venv/lib/python3.11/site-packages/sklearn/linear_model/_logistic.py:469: ConvergenceWarning: lbfgs failed to converge (status=1):\n",
      "STOP: TOTAL NO. OF ITERATIONS REACHED LIMIT.\n",
      "\n",
      "Increase the number of iterations (max_iter) or scale the data as shown in:\n",
      "    https://scikit-learn.org/stable/modules/preprocessing.html\n",
      "Please also refer to the documentation for alternative solver options:\n",
      "    https://scikit-learn.org/stable/modules/linear_model.html#logistic-regression\n",
      "  n_iter_i = _check_optimize_result(\n",
      "/Users/anton/dev/MARS/correctness-model-internals/venv/lib/python3.11/site-packages/sklearn/linear_model/_logistic.py:469: ConvergenceWarning: lbfgs failed to converge (status=1):\n",
      "STOP: TOTAL NO. OF ITERATIONS REACHED LIMIT.\n",
      "\n",
      "Increase the number of iterations (max_iter) or scale the data as shown in:\n",
      "    https://scikit-learn.org/stable/modules/preprocessing.html\n",
      "Please also refer to the documentation for alternative solver options:\n",
      "    https://scikit-learn.org/stable/modules/linear_model.html#logistic-regression\n",
      "  n_iter_i = _check_optimize_result(\n",
      "/Users/anton/dev/MARS/correctness-model-internals/venv/lib/python3.11/site-packages/sklearn/linear_model/_logistic.py:469: ConvergenceWarning: lbfgs failed to converge (status=1):\n",
      "STOP: TOTAL NO. OF ITERATIONS REACHED LIMIT.\n",
      "\n",
      "Increase the number of iterations (max_iter) or scale the data as shown in:\n",
      "    https://scikit-learn.org/stable/modules/preprocessing.html\n",
      "Please also refer to the documentation for alternative solver options:\n",
      "    https://scikit-learn.org/stable/modules/linear_model.html#logistic-regression\n",
      "  n_iter_i = _check_optimize_result(\n"
     ]
    },
    {
     "name": "stdout",
     "output_type": "stream",
     "text": [
      "layer=3, "
     ]
    },
    {
     "name": "stderr",
     "output_type": "stream",
     "text": [
      "/Users/anton/dev/MARS/correctness-model-internals/venv/lib/python3.11/site-packages/sklearn/linear_model/_logistic.py:469: ConvergenceWarning: lbfgs failed to converge (status=1):\n",
      "STOP: TOTAL NO. OF ITERATIONS REACHED LIMIT.\n",
      "\n",
      "Increase the number of iterations (max_iter) or scale the data as shown in:\n",
      "    https://scikit-learn.org/stable/modules/preprocessing.html\n",
      "Please also refer to the documentation for alternative solver options:\n",
      "    https://scikit-learn.org/stable/modules/linear_model.html#logistic-regression\n",
      "  n_iter_i = _check_optimize_result(\n",
      "/Users/anton/dev/MARS/correctness-model-internals/venv/lib/python3.11/site-packages/sklearn/linear_model/_logistic.py:469: ConvergenceWarning: lbfgs failed to converge (status=1):\n",
      "STOP: TOTAL NO. OF ITERATIONS REACHED LIMIT.\n",
      "\n",
      "Increase the number of iterations (max_iter) or scale the data as shown in:\n",
      "    https://scikit-learn.org/stable/modules/preprocessing.html\n",
      "Please also refer to the documentation for alternative solver options:\n",
      "    https://scikit-learn.org/stable/modules/linear_model.html#logistic-regression\n",
      "  n_iter_i = _check_optimize_result(\n",
      "/Users/anton/dev/MARS/correctness-model-internals/venv/lib/python3.11/site-packages/sklearn/linear_model/_logistic.py:469: ConvergenceWarning: lbfgs failed to converge (status=1):\n",
      "STOP: TOTAL NO. OF ITERATIONS REACHED LIMIT.\n",
      "\n",
      "Increase the number of iterations (max_iter) or scale the data as shown in:\n",
      "    https://scikit-learn.org/stable/modules/preprocessing.html\n",
      "Please also refer to the documentation for alternative solver options:\n",
      "    https://scikit-learn.org/stable/modules/linear_model.html#logistic-regression\n",
      "  n_iter_i = _check_optimize_result(\n",
      "/Users/anton/dev/MARS/correctness-model-internals/venv/lib/python3.11/site-packages/sklearn/linear_model/_logistic.py:469: ConvergenceWarning: lbfgs failed to converge (status=1):\n",
      "STOP: TOTAL NO. OF ITERATIONS REACHED LIMIT.\n",
      "\n",
      "Increase the number of iterations (max_iter) or scale the data as shown in:\n",
      "    https://scikit-learn.org/stable/modules/preprocessing.html\n",
      "Please also refer to the documentation for alternative solver options:\n",
      "    https://scikit-learn.org/stable/modules/linear_model.html#logistic-regression\n",
      "  n_iter_i = _check_optimize_result(\n",
      "/Users/anton/dev/MARS/correctness-model-internals/venv/lib/python3.11/site-packages/sklearn/linear_model/_logistic.py:469: ConvergenceWarning: lbfgs failed to converge (status=1):\n",
      "STOP: TOTAL NO. OF ITERATIONS REACHED LIMIT.\n",
      "\n",
      "Increase the number of iterations (max_iter) or scale the data as shown in:\n",
      "    https://scikit-learn.org/stable/modules/preprocessing.html\n",
      "Please also refer to the documentation for alternative solver options:\n",
      "    https://scikit-learn.org/stable/modules/linear_model.html#logistic-regression\n",
      "  n_iter_i = _check_optimize_result(\n"
     ]
    },
    {
     "name": "stdout",
     "output_type": "stream",
     "text": [
      "layer=4, "
     ]
    },
    {
     "name": "stderr",
     "output_type": "stream",
     "text": [
      "/Users/anton/dev/MARS/correctness-model-internals/venv/lib/python3.11/site-packages/sklearn/linear_model/_logistic.py:469: ConvergenceWarning: lbfgs failed to converge (status=1):\n",
      "STOP: TOTAL NO. OF ITERATIONS REACHED LIMIT.\n",
      "\n",
      "Increase the number of iterations (max_iter) or scale the data as shown in:\n",
      "    https://scikit-learn.org/stable/modules/preprocessing.html\n",
      "Please also refer to the documentation for alternative solver options:\n",
      "    https://scikit-learn.org/stable/modules/linear_model.html#logistic-regression\n",
      "  n_iter_i = _check_optimize_result(\n"
     ]
    },
    {
     "name": "stdout",
     "output_type": "stream",
     "text": [
      "layer=5, layer=6, "
     ]
    },
    {
     "name": "stderr",
     "output_type": "stream",
     "text": [
      "/Users/anton/dev/MARS/correctness-model-internals/venv/lib/python3.11/site-packages/sklearn/metrics/_classification.py:1509: UndefinedMetricWarning: Precision is ill-defined and being set to 0.0 due to no predicted samples. Use `zero_division` parameter to control this behavior.\n",
      "  _warn_prf(average, modifier, f\"{metric.capitalize()} is\", len(result))\n",
      "/Users/anton/dev/MARS/correctness-model-internals/venv/lib/python3.11/site-packages/sklearn/metrics/_classification.py:1509: UndefinedMetricWarning: Precision is ill-defined and being set to 0.0 due to no predicted samples. Use `zero_division` parameter to control this behavior.\n",
      "  _warn_prf(average, modifier, f\"{metric.capitalize()} is\", len(result))\n",
      "/Users/anton/dev/MARS/correctness-model-internals/venv/lib/python3.11/site-packages/sklearn/metrics/_classification.py:1509: UndefinedMetricWarning: Precision is ill-defined and being set to 0.0 due to no predicted samples. Use `zero_division` parameter to control this behavior.\n",
      "  _warn_prf(average, modifier, f\"{metric.capitalize()} is\", len(result))\n"
     ]
    },
    {
     "name": "stdout",
     "output_type": "stream",
     "text": [
      "layer=7, layer=8, layer=9, layer=10, layer=11, layer=12, layer=13, layer=14, "
     ]
    },
    {
     "name": "stderr",
     "output_type": "stream",
     "text": [
      "/Users/anton/dev/MARS/correctness-model-internals/venv/lib/python3.11/site-packages/sklearn/metrics/_classification.py:1509: UndefinedMetricWarning: Precision is ill-defined and being set to 0.0 due to no predicted samples. Use `zero_division` parameter to control this behavior.\n",
      "  _warn_prf(average, modifier, f\"{metric.capitalize()} is\", len(result))\n",
      "/Users/anton/dev/MARS/correctness-model-internals/venv/lib/python3.11/site-packages/sklearn/metrics/_classification.py:1509: UndefinedMetricWarning: Precision is ill-defined and being set to 0.0 due to no predicted samples. Use `zero_division` parameter to control this behavior.\n",
      "  _warn_prf(average, modifier, f\"{metric.capitalize()} is\", len(result))\n"
     ]
    },
    {
     "name": "stdout",
     "output_type": "stream",
     "text": [
      "layer=15, "
     ]
    },
    {
     "name": "stderr",
     "output_type": "stream",
     "text": [
      "/Users/anton/dev/MARS/correctness-model-internals/venv/lib/python3.11/site-packages/sklearn/metrics/_classification.py:1509: UndefinedMetricWarning: Precision is ill-defined and being set to 0.0 due to no predicted samples. Use `zero_division` parameter to control this behavior.\n",
      "  _warn_prf(average, modifier, f\"{metric.capitalize()} is\", len(result))\n"
     ]
    },
    {
     "name": "stdout",
     "output_type": "stream",
     "text": [
      "layer=16, layer=17, layer=18, layer=19, layer=20, layer=21, layer=22, layer=23, layer=24, layer=25, layer=26, layer=27, layer=28, layer=29, layer=30, "
     ]
    },
    {
     "name": "stderr",
     "output_type": "stream",
     "text": [
      "/Users/anton/dev/MARS/correctness-model-internals/venv/lib/python3.11/site-packages/sklearn/metrics/_classification.py:1509: UndefinedMetricWarning: Precision is ill-defined and being set to 0.0 due to no predicted samples. Use `zero_division` parameter to control this behavior.\n",
      "  _warn_prf(average, modifier, f\"{metric.capitalize()} is\", len(result))\n"
     ]
    },
    {
     "name": "stdout",
     "output_type": "stream",
     "text": [
      "layer=31, "
     ]
    },
    {
     "name": "stderr",
     "output_type": "stream",
     "text": [
      "/Users/anton/dev/MARS/correctness-model-internals/venv/lib/python3.11/site-packages/sklearn/metrics/_classification.py:1509: UndefinedMetricWarning: Precision is ill-defined and being set to 0.0 due to no predicted samples. Use `zero_division` parameter to control this behavior.\n",
      "  _warn_prf(average, modifier, f\"{metric.capitalize()} is\", len(result))\n"
     ]
    },
    {
     "name": "stdout",
     "output_type": "stream",
     "text": [
      "\n",
      "model_id='llama3.1_8b_chat', prompt_id='base_3_shot', subset_id='main', input_type='prompt_answer'\n",
      "layer=0, layer=1, layer=2, layer=3, layer=4, layer=5, layer=6, layer=7, layer=8, layer=9, layer=10, layer=11, layer=12, layer=13, layer=14, layer=15, layer=16, layer=17, layer=18, layer=19, layer=20, layer=21, layer=22, layer=23, layer=24, layer=25, layer=26, layer=27, layer=28, layer=29, layer=30, layer=31, \n",
      "model_id='llama3.1_8b_chat', prompt_id='base_3_shot', subset_id='main', input_type='prompt_only'\n",
      "layer=0, layer=1, layer=2, layer=3, layer=4, layer=5, layer=6, layer=7, layer=8, layer=9, layer=10, layer=11, layer=12, layer=13, layer=14, layer=15, layer=16, layer=17, layer=18, layer=19, layer=20, layer=21, layer=22, layer=23, layer=24, layer=25, layer=26, layer=27, layer=28, layer=29, layer=30, layer=31, \n",
      "model_id='llama3.1_8b_chat', prompt_id='cot_3_shot', subset_id='main', input_type='prompt_answer'\n",
      "layer=0, layer=1, layer=2, layer=3, layer=4, layer=5, layer=6, layer=7, layer=8, layer=9, layer=10, layer=11, layer=12, layer=13, layer=14, layer=15, layer=16, layer=17, layer=18, layer=19, layer=20, layer=21, layer=22, layer=23, layer=24, layer=25, layer=26, layer=27, layer=28, layer=29, layer=30, layer=31, \n",
      "model_id='llama3.1_8b_chat', prompt_id='cot_3_shot', subset_id='main', input_type='prompt_only'\n",
      "layer=0, layer=1, layer=2, layer=3, layer=4, layer=5, layer=6, layer=7, layer=8, layer=9, layer=10, layer=11, layer=12, layer=13, layer=14, layer=15, layer=16, layer=17, layer=18, layer=19, layer=20, layer=21, layer=22, layer=23, layer=24, layer=25, layer=26, layer=27, layer=28, layer=29, layer=30, layer=31, "
     ]
    },
    {
     "data": {
      "text/html": [
       "<div>\n",
       "<style scoped>\n",
       "    .dataframe tbody tr th:only-of-type {\n",
       "        vertical-align: middle;\n",
       "    }\n",
       "\n",
       "    .dataframe tbody tr th {\n",
       "        vertical-align: top;\n",
       "    }\n",
       "\n",
       "    .dataframe thead th {\n",
       "        text-align: right;\n",
       "    }\n",
       "</style>\n",
       "<table border=\"1\" class=\"dataframe\">\n",
       "  <thead>\n",
       "    <tr style=\"text-align: right;\">\n",
       "      <th></th>\n",
       "      <th>model_id</th>\n",
       "      <th>train_dataset_ids</th>\n",
       "      <th>test_dataset_id</th>\n",
       "      <th>prompt_id</th>\n",
       "      <th>subset_id</th>\n",
       "      <th>input_type</th>\n",
       "      <th>layer</th>\n",
       "      <th>fold</th>\n",
       "      <th>direction_optimal_cut</th>\n",
       "      <th>direction_optimal_train_set_cut</th>\n",
       "      <th>...</th>\n",
       "      <th>direction_f1_score</th>\n",
       "      <th>direction_precision_score</th>\n",
       "      <th>direction_recall_score</th>\n",
       "      <th>logistic_regression_optimal_cut</th>\n",
       "      <th>logistic_regression_optimal_train_set_cut</th>\n",
       "      <th>logistic_regression_test_roc_auc</th>\n",
       "      <th>logistic_regression_accuracy_score</th>\n",
       "      <th>logistic_regression_f1_score</th>\n",
       "      <th>logistic_regression_precision_score</th>\n",
       "      <th>logistic_regression_recall_score</th>\n",
       "    </tr>\n",
       "  </thead>\n",
       "  <tbody>\n",
       "    <tr>\n",
       "      <th>0</th>\n",
       "      <td>llama3.1_8b_chat</td>\n",
       "      <td>[medals_9k, birth_years_4k, cities_10k]</td>\n",
       "      <td>football_leagues_1k</td>\n",
       "      <td>base</td>\n",
       "      <td>main</td>\n",
       "      <td>prompt_answer</td>\n",
       "      <td>0</td>\n",
       "      <td>0</td>\n",
       "      <td>-0.039674</td>\n",
       "      <td>-0.039674</td>\n",
       "      <td>...</td>\n",
       "      <td>0.619718</td>\n",
       "      <td>0.578947</td>\n",
       "      <td>0.666667</td>\n",
       "      <td>0.5</td>\n",
       "      <td>0.509670</td>\n",
       "      <td>0.461892</td>\n",
       "      <td>0.560606</td>\n",
       "      <td>0.579710</td>\n",
       "      <td>0.555556</td>\n",
       "      <td>0.606061</td>\n",
       "    </tr>\n",
       "    <tr>\n",
       "      <th>1</th>\n",
       "      <td>llama3.1_8b_chat</td>\n",
       "      <td>[medals_9k, birth_years_4k, cities_10k]</td>\n",
       "      <td>medals_9k</td>\n",
       "      <td>base</td>\n",
       "      <td>main</td>\n",
       "      <td>prompt_answer</td>\n",
       "      <td>0</td>\n",
       "      <td>0</td>\n",
       "      <td>-0.039674</td>\n",
       "      <td>-0.039674</td>\n",
       "      <td>...</td>\n",
       "      <td>0.639019</td>\n",
       "      <td>0.551411</td>\n",
       "      <td>0.759722</td>\n",
       "      <td>0.5</td>\n",
       "      <td>0.509670</td>\n",
       "      <td>0.749261</td>\n",
       "      <td>0.692361</td>\n",
       "      <td>0.681524</td>\n",
       "      <td>0.706408</td>\n",
       "      <td>0.658333</td>\n",
       "    </tr>\n",
       "    <tr>\n",
       "      <th>2</th>\n",
       "      <td>llama3.1_8b_chat</td>\n",
       "      <td>[medals_9k, birth_years_4k, cities_10k]</td>\n",
       "      <td>birth_years_4k</td>\n",
       "      <td>base</td>\n",
       "      <td>main</td>\n",
       "      <td>prompt_answer</td>\n",
       "      <td>0</td>\n",
       "      <td>0</td>\n",
       "      <td>-0.039674</td>\n",
       "      <td>-0.039674</td>\n",
       "      <td>...</td>\n",
       "      <td>0.618421</td>\n",
       "      <td>0.536122</td>\n",
       "      <td>0.730570</td>\n",
       "      <td>0.5</td>\n",
       "      <td>0.509670</td>\n",
       "      <td>0.639910</td>\n",
       "      <td>0.598446</td>\n",
       "      <td>0.613466</td>\n",
       "      <td>0.591346</td>\n",
       "      <td>0.637306</td>\n",
       "    </tr>\n",
       "    <tr>\n",
       "      <th>3</th>\n",
       "      <td>llama3.1_8b_chat</td>\n",
       "      <td>[medals_9k, birth_years_4k, cities_10k]</td>\n",
       "      <td>cities_10k</td>\n",
       "      <td>base</td>\n",
       "      <td>main</td>\n",
       "      <td>prompt_answer</td>\n",
       "      <td>0</td>\n",
       "      <td>0</td>\n",
       "      <td>-0.039674</td>\n",
       "      <td>-0.039674</td>\n",
       "      <td>...</td>\n",
       "      <td>0.662810</td>\n",
       "      <td>0.585401</td>\n",
       "      <td>0.763810</td>\n",
       "      <td>0.5</td>\n",
       "      <td>0.509670</td>\n",
       "      <td>0.674569</td>\n",
       "      <td>0.623810</td>\n",
       "      <td>0.642534</td>\n",
       "      <td>0.612069</td>\n",
       "      <td>0.676190</td>\n",
       "    </tr>\n",
       "    <tr>\n",
       "      <th>4</th>\n",
       "      <td>llama3.1_8b_chat</td>\n",
       "      <td>[medals_9k, birth_years_4k, cities_10k]</td>\n",
       "      <td>football_leagues_1k</td>\n",
       "      <td>base</td>\n",
       "      <td>main</td>\n",
       "      <td>prompt_answer</td>\n",
       "      <td>0</td>\n",
       "      <td>1</td>\n",
       "      <td>-0.072958</td>\n",
       "      <td>-0.072958</td>\n",
       "      <td>...</td>\n",
       "      <td>0.622222</td>\n",
       "      <td>0.491228</td>\n",
       "      <td>0.848485</td>\n",
       "      <td>0.5</td>\n",
       "      <td>0.523588</td>\n",
       "      <td>0.451791</td>\n",
       "      <td>0.469697</td>\n",
       "      <td>0.385965</td>\n",
       "      <td>0.458333</td>\n",
       "      <td>0.333333</td>\n",
       "    </tr>\n",
       "    <tr>\n",
       "      <th>...</th>\n",
       "      <td>...</td>\n",
       "      <td>...</td>\n",
       "      <td>...</td>\n",
       "      <td>...</td>\n",
       "      <td>...</td>\n",
       "      <td>...</td>\n",
       "      <td>...</td>\n",
       "      <td>...</td>\n",
       "      <td>...</td>\n",
       "      <td>...</td>\n",
       "      <td>...</td>\n",
       "      <td>...</td>\n",
       "      <td>...</td>\n",
       "      <td>...</td>\n",
       "      <td>...</td>\n",
       "      <td>...</td>\n",
       "      <td>...</td>\n",
       "      <td>...</td>\n",
       "      <td>...</td>\n",
       "      <td>...</td>\n",
       "      <td>...</td>\n",
       "    </tr>\n",
       "    <tr>\n",
       "      <th>1915</th>\n",
       "      <td>llama3.1_8b_chat</td>\n",
       "      <td>[gsm8k]</td>\n",
       "      <td>gsm8k</td>\n",
       "      <td>cot_3_shot</td>\n",
       "      <td>main</td>\n",
       "      <td>prompt_only</td>\n",
       "      <td>31</td>\n",
       "      <td>0</td>\n",
       "      <td>4.554289</td>\n",
       "      <td>4.554289</td>\n",
       "      <td>...</td>\n",
       "      <td>0.422346</td>\n",
       "      <td>0.535411</td>\n",
       "      <td>0.348708</td>\n",
       "      <td>0.5</td>\n",
       "      <td>0.459932</td>\n",
       "      <td>0.524077</td>\n",
       "      <td>0.535978</td>\n",
       "      <td>0.549687</td>\n",
       "      <td>0.533913</td>\n",
       "      <td>0.566421</td>\n",
       "    </tr>\n",
       "    <tr>\n",
       "      <th>1916</th>\n",
       "      <td>llama3.1_8b_chat</td>\n",
       "      <td>[gsm8k]</td>\n",
       "      <td>gsm8k</td>\n",
       "      <td>cot_3_shot</td>\n",
       "      <td>main</td>\n",
       "      <td>prompt_only</td>\n",
       "      <td>31</td>\n",
       "      <td>1</td>\n",
       "      <td>2.064851</td>\n",
       "      <td>2.064851</td>\n",
       "      <td>...</td>\n",
       "      <td>0.555357</td>\n",
       "      <td>0.538062</td>\n",
       "      <td>0.573801</td>\n",
       "      <td>0.5</td>\n",
       "      <td>0.488465</td>\n",
       "      <td>0.531844</td>\n",
       "      <td>0.536900</td>\n",
       "      <td>0.565744</td>\n",
       "      <td>0.532573</td>\n",
       "      <td>0.603321</td>\n",
       "    </tr>\n",
       "    <tr>\n",
       "      <th>1917</th>\n",
       "      <td>llama3.1_8b_chat</td>\n",
       "      <td>[gsm8k]</td>\n",
       "      <td>gsm8k</td>\n",
       "      <td>cot_3_shot</td>\n",
       "      <td>main</td>\n",
       "      <td>prompt_only</td>\n",
       "      <td>31</td>\n",
       "      <td>2</td>\n",
       "      <td>6.805744</td>\n",
       "      <td>6.805744</td>\n",
       "      <td>...</td>\n",
       "      <td>0.382353</td>\n",
       "      <td>0.569343</td>\n",
       "      <td>0.287823</td>\n",
       "      <td>0.5</td>\n",
       "      <td>0.441263</td>\n",
       "      <td>0.530897</td>\n",
       "      <td>0.540590</td>\n",
       "      <td>0.567708</td>\n",
       "      <td>0.536066</td>\n",
       "      <td>0.603321</td>\n",
       "    </tr>\n",
       "    <tr>\n",
       "      <th>1918</th>\n",
       "      <td>llama3.1_8b_chat</td>\n",
       "      <td>[gsm8k]</td>\n",
       "      <td>gsm8k</td>\n",
       "      <td>cot_3_shot</td>\n",
       "      <td>main</td>\n",
       "      <td>prompt_only</td>\n",
       "      <td>31</td>\n",
       "      <td>3</td>\n",
       "      <td>1.761393</td>\n",
       "      <td>1.761393</td>\n",
       "      <td>...</td>\n",
       "      <td>0.532374</td>\n",
       "      <td>0.519298</td>\n",
       "      <td>0.546125</td>\n",
       "      <td>0.5</td>\n",
       "      <td>0.484587</td>\n",
       "      <td>0.529377</td>\n",
       "      <td>0.537823</td>\n",
       "      <td>0.571429</td>\n",
       "      <td>0.532695</td>\n",
       "      <td>0.616236</td>\n",
       "    </tr>\n",
       "    <tr>\n",
       "      <th>1919</th>\n",
       "      <td>llama3.1_8b_chat</td>\n",
       "      <td>[gsm8k]</td>\n",
       "      <td>gsm8k</td>\n",
       "      <td>cot_3_shot</td>\n",
       "      <td>main</td>\n",
       "      <td>prompt_only</td>\n",
       "      <td>31</td>\n",
       "      <td>4</td>\n",
       "      <td>1.790149</td>\n",
       "      <td>1.790149</td>\n",
       "      <td>...</td>\n",
       "      <td>0.524496</td>\n",
       "      <td>0.547094</td>\n",
       "      <td>0.503690</td>\n",
       "      <td>0.5</td>\n",
       "      <td>0.512626</td>\n",
       "      <td>0.527776</td>\n",
       "      <td>0.547970</td>\n",
       "      <td>0.592346</td>\n",
       "      <td>0.539394</td>\n",
       "      <td>0.656827</td>\n",
       "    </tr>\n",
       "  </tbody>\n",
       "</table>\n",
       "<p>1920 rows × 22 columns</p>\n",
       "</div>"
      ],
      "text/plain": [
       "              model_id                        train_dataset_ids  \\\n",
       "0     llama3.1_8b_chat  [medals_9k, birth_years_4k, cities_10k]   \n",
       "1     llama3.1_8b_chat  [medals_9k, birth_years_4k, cities_10k]   \n",
       "2     llama3.1_8b_chat  [medals_9k, birth_years_4k, cities_10k]   \n",
       "3     llama3.1_8b_chat  [medals_9k, birth_years_4k, cities_10k]   \n",
       "4     llama3.1_8b_chat  [medals_9k, birth_years_4k, cities_10k]   \n",
       "...                ...                                      ...   \n",
       "1915  llama3.1_8b_chat                                  [gsm8k]   \n",
       "1916  llama3.1_8b_chat                                  [gsm8k]   \n",
       "1917  llama3.1_8b_chat                                  [gsm8k]   \n",
       "1918  llama3.1_8b_chat                                  [gsm8k]   \n",
       "1919  llama3.1_8b_chat                                  [gsm8k]   \n",
       "\n",
       "          test_dataset_id   prompt_id subset_id     input_type  layer  fold  \\\n",
       "0     football_leagues_1k        base      main  prompt_answer      0     0   \n",
       "1               medals_9k        base      main  prompt_answer      0     0   \n",
       "2          birth_years_4k        base      main  prompt_answer      0     0   \n",
       "3              cities_10k        base      main  prompt_answer      0     0   \n",
       "4     football_leagues_1k        base      main  prompt_answer      0     1   \n",
       "...                   ...         ...       ...            ...    ...   ...   \n",
       "1915                gsm8k  cot_3_shot      main    prompt_only     31     0   \n",
       "1916                gsm8k  cot_3_shot      main    prompt_only     31     1   \n",
       "1917                gsm8k  cot_3_shot      main    prompt_only     31     2   \n",
       "1918                gsm8k  cot_3_shot      main    prompt_only     31     3   \n",
       "1919                gsm8k  cot_3_shot      main    prompt_only     31     4   \n",
       "\n",
       "      direction_optimal_cut  direction_optimal_train_set_cut  ...  \\\n",
       "0                 -0.039674                        -0.039674  ...   \n",
       "1                 -0.039674                        -0.039674  ...   \n",
       "2                 -0.039674                        -0.039674  ...   \n",
       "3                 -0.039674                        -0.039674  ...   \n",
       "4                 -0.072958                        -0.072958  ...   \n",
       "...                     ...                              ...  ...   \n",
       "1915               4.554289                         4.554289  ...   \n",
       "1916               2.064851                         2.064851  ...   \n",
       "1917               6.805744                         6.805744  ...   \n",
       "1918               1.761393                         1.761393  ...   \n",
       "1919               1.790149                         1.790149  ...   \n",
       "\n",
       "      direction_f1_score  direction_precision_score  direction_recall_score  \\\n",
       "0               0.619718                   0.578947                0.666667   \n",
       "1               0.639019                   0.551411                0.759722   \n",
       "2               0.618421                   0.536122                0.730570   \n",
       "3               0.662810                   0.585401                0.763810   \n",
       "4               0.622222                   0.491228                0.848485   \n",
       "...                  ...                        ...                     ...   \n",
       "1915            0.422346                   0.535411                0.348708   \n",
       "1916            0.555357                   0.538062                0.573801   \n",
       "1917            0.382353                   0.569343                0.287823   \n",
       "1918            0.532374                   0.519298                0.546125   \n",
       "1919            0.524496                   0.547094                0.503690   \n",
       "\n",
       "      logistic_regression_optimal_cut  \\\n",
       "0                                 0.5   \n",
       "1                                 0.5   \n",
       "2                                 0.5   \n",
       "3                                 0.5   \n",
       "4                                 0.5   \n",
       "...                               ...   \n",
       "1915                              0.5   \n",
       "1916                              0.5   \n",
       "1917                              0.5   \n",
       "1918                              0.5   \n",
       "1919                              0.5   \n",
       "\n",
       "      logistic_regression_optimal_train_set_cut  \\\n",
       "0                                      0.509670   \n",
       "1                                      0.509670   \n",
       "2                                      0.509670   \n",
       "3                                      0.509670   \n",
       "4                                      0.523588   \n",
       "...                                         ...   \n",
       "1915                                   0.459932   \n",
       "1916                                   0.488465   \n",
       "1917                                   0.441263   \n",
       "1918                                   0.484587   \n",
       "1919                                   0.512626   \n",
       "\n",
       "      logistic_regression_test_roc_auc  logistic_regression_accuracy_score  \\\n",
       "0                             0.461892                            0.560606   \n",
       "1                             0.749261                            0.692361   \n",
       "2                             0.639910                            0.598446   \n",
       "3                             0.674569                            0.623810   \n",
       "4                             0.451791                            0.469697   \n",
       "...                                ...                                 ...   \n",
       "1915                          0.524077                            0.535978   \n",
       "1916                          0.531844                            0.536900   \n",
       "1917                          0.530897                            0.540590   \n",
       "1918                          0.529377                            0.537823   \n",
       "1919                          0.527776                            0.547970   \n",
       "\n",
       "      logistic_regression_f1_score  logistic_regression_precision_score  \\\n",
       "0                         0.579710                             0.555556   \n",
       "1                         0.681524                             0.706408   \n",
       "2                         0.613466                             0.591346   \n",
       "3                         0.642534                             0.612069   \n",
       "4                         0.385965                             0.458333   \n",
       "...                            ...                                  ...   \n",
       "1915                      0.549687                             0.533913   \n",
       "1916                      0.565744                             0.532573   \n",
       "1917                      0.567708                             0.536066   \n",
       "1918                      0.571429                             0.532695   \n",
       "1919                      0.592346                             0.539394   \n",
       "\n",
       "      logistic_regression_recall_score  \n",
       "0                             0.606061  \n",
       "1                             0.658333  \n",
       "2                             0.637306  \n",
       "3                             0.676190  \n",
       "4                             0.333333  \n",
       "...                                ...  \n",
       "1915                          0.566421  \n",
       "1916                          0.603321  \n",
       "1917                          0.603321  \n",
       "1918                          0.616236  \n",
       "1919                          0.656827  \n",
       "\n",
       "[1920 rows x 22 columns]"
      ]
     },
     "execution_count": 6,
     "metadata": {},
     "output_type": "execute_result"
    }
   ],
   "source": [
    "res_dict = defaultdict(list)\n",
    "\n",
    "for (model_id, prompt_id, subset_id, input_type), config_df in activation_exp_configs_df.groupby([\"model_id\", \"prompt_id\", \"subset_id\", \"input_type\"]):\n",
    "    print(f\"\\n{model_id=}, {prompt_id=}, {subset_id=}, {input_type=}\")\n",
    "    \n",
    "    config_df[\"layer\"] = config_df[\"layer\"].astype(int)\n",
    "    config_df = config_df.sort_values(by=\"layer\")\n",
    "\n",
    "    check_indices = {}\n",
    "    for layer, layer_config_df in config_df.groupby(\"layer\"):\n",
    "        print(f\"{layer=}\", end=\", \")\n",
    "\n",
    "        dataset_activation_handlers = {}\n",
    "        for _, row in layer_config_df.iterrows():\n",
    "            dataset_id = row[\"dataset_id\"]\n",
    "\n",
    "            labels_df = load_labels(\n",
    "                base_path=BASE_PATH,\n",
    "                model_id=model_id,\n",
    "                dataset_id=dataset_id,\n",
    "                prompt_id=prompt_id,\n",
    "                subset_id=subset_id,\n",
    "            )\n",
    "            activations, indices = load_activations(\n",
    "                base_path=BASE_PATH,\n",
    "                model_id=model_id,\n",
    "                dataset_id=dataset_id,\n",
    "                prompt_id=prompt_id,\n",
    "                subset_id=subset_id,\n",
    "                input_type=input_type,\n",
    "                layer=layer,\n",
    "            )\n",
    "\n",
    "            if dataset_id not in check_indices:\n",
    "                check_indices[dataset_id] = indices.sample(frac=1, replace=False)\n",
    "            \n",
    "            if set(indices) != set(check_indices[dataset_id]):\n",
    "                raise RuntimeError(f\"indices across layers are not the same\")\n",
    "\n",
    "            labels_df_subset = labels_df.iloc[check_indices[dataset_id]].reset_index(drop=True)\n",
    "            activations_subset = activations[check_indices[dataset_id]]\n",
    "\n",
    "            # print(f\"{dataset_id=}, {labels_df_subset['correct'].astype(bool).value_counts()=}\")\n",
    "\n",
    "            activations_handler = ActivationsHandler(\n",
    "                activations=activations_subset,\n",
    "                labels=labels_df_subset[\"correct\"].astype(bool),\n",
    "            ).sample_equally_across_groups(\n",
    "                group_labels=[False, True], interleave=True\n",
    "            )\n",
    "\n",
    "            # print(\"activations_handler\", activations_handler.labels.value_counts(), end=\"\\n\\n\")\n",
    "\n",
    "            activations_handler_folds = list(\n",
    "                activations_handler.split_dataset(split_sizes=[1/5] * 5)\n",
    "            )\n",
    "\n",
    "            # print(\"activations_handler_folds\", [ah.labels.value_counts() for ah in activations_handler_folds], end=\"\\n\\n\\n\\n\\n\")\n",
    "\n",
    "\n",
    "            dataset_activation_handlers[dataset_id] = activations_handler_folds\n",
    "            \n",
    "        # if check_indices is None:\n",
    "        #     check_indices = indices.sample(frac=1, replace=False)\n",
    "        \n",
    "        # if set(indices) != set(check_indices):\n",
    "        #     raise RuntimeError(f\"indices across layers are not the same\")\n",
    "\n",
    "        # labels_df_subset = labels_df.iloc[check_indices]\n",
    "        # activations = activations[check_indices]\n",
    "\n",
    "        # activations_handler = ActivationsHandler(\n",
    "        #     activations=activations,\n",
    "        #     labels=labels_df_subset[\"correct\"].astype(bool),\n",
    "        # )\n",
    "\n",
    "        # activations_handler_folds = list(\n",
    "        #     activations_handler.split_dataset(split_sizes=[1/5] * 5)\n",
    "        # )\n",
    "\n",
    "        fold_stats = {}\n",
    "        for fold_i in range(len(list(dataset_activation_handlers.values())[0])):\n",
    "            train_activations_handlers, test_activations_handlers = {}, {}\n",
    "            for dataset_id, ah_folds in dataset_activation_handlers.items():\n",
    "\n",
    "                test_activations_handlers[dataset_id] = ah_folds[fold_i].sample_equally_across_groups(\n",
    "                    group_labels=[False, True], interleave=True\n",
    "                )\n",
    "\n",
    "                if dataset_id == \"football_leagues_1k\":\n",
    "                    continue\n",
    "\n",
    "                train_activations_handlers[dataset_id] = [ah for j, ah in enumerate(ah_folds) if j != fold_i]\n",
    "            \n",
    "            activations_handler_train = combine_activations_handlers(\n",
    "                sum(list(train_activations_handlers.values()), []), # combine the lists\n",
    "                equal_counts=True\n",
    "            ).sample_equally_across_groups(\n",
    "                group_labels=[False, True], interleave=True\n",
    "            )\n",
    "\n",
    "            scaler_model_tuple = None\n",
    "            for test_dataset_id, activations_handler_test in test_activations_handlers.items():\n",
    "                res_dict[\"model_id\"].append(model_id)\n",
    "                res_dict[\"train_dataset_ids\"].append(list(train_activations_handlers.keys()))\n",
    "                res_dict[\"test_dataset_id\"].append(test_dataset_id)\n",
    "                res_dict[\"prompt_id\"].append(prompt_id)\n",
    "                res_dict[\"subset_id\"].append(subset_id)\n",
    "                res_dict[\"input_type\"].append(input_type)\n",
    "                res_dict[\"layer\"].append(layer)\n",
    "                res_dict[\"fold\"].append(fold_i)\n",
    "\n",
    "                direction_classifier, direction_calculator = get_correctness_direction_classifier(\n",
    "                    activations_handler_train=activations_handler_train,\n",
    "                    activations_handler_test=activations_handler_test,\n",
    "                )\n",
    "                # res_dict[\"classifying_direction\"].append(direction_calculator.classifying_direction.tolist())\n",
    "                for key, value in direction_classifier.classification_metrics.items():\n",
    "                    res_dict[f\"direction_{key}\"].append(value)\n",
    "                \n",
    "                logistic_regression_classifier, scaler_model_tuple = get_logistic_regression_classifier(\n",
    "                    activations_handler_train=activations_handler_train,\n",
    "                    activations_handler_test=activations_handler_test,\n",
    "                    scaler_model_tuple=scaler_model_tuple,\n",
    "                )\n",
    "                for key, value in logistic_regression_classifier.classification_metrics.items():\n",
    "                    res_dict[f\"logistic_regression_{key}\"].append(value)\n",
    "\n",
    "\n",
    "\n",
    "res_df = pd.DataFrame(res_dict)\n",
    "res_df"
   ]
  },
  {
   "cell_type": "code",
   "execution_count": 7,
   "metadata": {},
   "outputs": [],
   "source": [
    "res_file = \"./classification_data/res_df_llama31_8B_4_memory_datasets_combined_train_sets.csv\"\n"
   ]
  },
  {
   "cell_type": "code",
   "execution_count": 8,
   "metadata": {},
   "outputs": [],
   "source": [
    "res_df.to_csv(res_file, index=False)"
   ]
  },
  {
   "cell_type": "code",
   "execution_count": 9,
   "metadata": {},
   "outputs": [],
   "source": [
    "res_df = pd.read_csv(res_file)"
   ]
  },
  {
   "cell_type": "code",
   "execution_count": 10,
   "metadata": {},
   "outputs": [
    {
     "name": "stdout",
     "output_type": "stream",
     "text": [
      "conf=('llama3.1_8b_chat', 'birth_years_4k', 'base', 'main', 'prompt_answer')\n",
      "conf=('llama3.1_8b_chat', 'birth_years_4k', 'base', 'main', 'prompt_only')\n",
      "conf=('llama3.1_8b_chat', 'cities_10k', 'base', 'main', 'prompt_answer')\n",
      "conf=('llama3.1_8b_chat', 'cities_10k', 'base', 'main', 'prompt_only')\n",
      "conf=('llama3.1_8b_chat', 'football_leagues_1k', 'base', 'main', 'prompt_answer')\n",
      "conf=('llama3.1_8b_chat', 'football_leagues_1k', 'base', 'main', 'prompt_only')\n",
      "conf=('llama3.1_8b_chat', 'gsm8k', 'base_3_shot', 'main', 'prompt_answer')\n",
      "conf=('llama3.1_8b_chat', 'gsm8k', 'base_3_shot', 'main', 'prompt_only')\n",
      "conf=('llama3.1_8b_chat', 'gsm8k', 'cot_3_shot', 'main', 'prompt_answer')\n",
      "conf=('llama3.1_8b_chat', 'gsm8k', 'cot_3_shot', 'main', 'prompt_only')\n",
      "conf=('llama3.1_8b_chat', 'medals_9k', 'base', 'main', 'prompt_answer')\n",
      "conf=('llama3.1_8b_chat', 'medals_9k', 'base', 'main', 'prompt_only')\n"
     ]
    },
    {
     "data": {
      "application/vnd.plotly.v1+json": {
       "config": {
        "plotlyServerURL": "https://plot.ly"
       },
       "data": [
        {
         "legendgroup": "('llama3.1_8b_chat', 'birth_years_4k', 'base', 'main', 'prompt_answer')",
         "line": {
          "color": "#1f77b4",
          "width": 2
         },
         "marker": {
          "size": 8
         },
         "mode": "lines+markers",
         "name": "('llama3.1_8b_chat', 'birth_years_4k', 'base', 'main', 'prompt_answer')",
         "type": "scatter",
         "x": {
          "bdata": "AAECAwQFBgcICQoLDA0ODxAREhMUFRYXGBkaGxwdHh8=",
          "dtype": "i1"
         },
         "y": {
          "bdata": "kdjkAVOw4T/ike/eHSrhP8BPj65qceE/pWH4EcoU3T+NZrkRQbnfP/EOiLV0v+A/lp2Kl6NW4T+G4Z1rXp3fP6thfIHTaeA/PWyU0qZf3z9kn20iferhP9pyZheAK+M/8878SpIY4z/Xvyisy7PkPzKRCfjqLeQ/By2qqiCS5T+7uS+edAPnPwaUIq9Cf+Y/vnlXfNaM5T8r9F/6GPflP6INafgmuuU/9hYzTS5q5T9DOJWjWyvlP0fH4/OxdOU/aKHBWnoJ5T+e8tTp9AHlPybDD3FCsOQ/vWlT7DuO5D9fm7q8yZrkPxkR09f34eI/ls57ZlYG4j9c+50QBGThPw==",
          "dtype": "f8"
         }
        },
        {
         "legendgroup": "('llama3.1_8b_chat', 'birth_years_4k', 'base', 'main', 'prompt_answer')",
         "line": {
          "width": 0
         },
         "mode": "lines",
         "name": "('llama3.1_8b_chat', 'birth_years_4k', 'base', 'main', 'prompt_answer') Max",
         "showlegend": false,
         "type": "scatter",
         "x": {
          "bdata": "AAECAwQFBgcICQoLDA0ODxAREhMUFRYXGBkaGxwdHh8=",
          "dtype": "i1"
         },
         "y": {
          "bdata": "oryG8hrK4z/sxE7sxE7kP9x65RgiKeQ/5fdjhPTi4D9Lf852fAjiP/QxOB+D8+E/Fc0TagFj4j+xys1Ehf3jP47A4cpX6+M/6jsb9Z2N4j/UP+Sn7ijlP5qAwWN5r+Y/lnVlXVlX5j9zwSSjzzbnP1100UUXXeY/fcm0nv515z822WSTTTbpP/Up332deeg/rktp4G/e5j8K16NwPQrnPxqXo3E5Guc/XeWZ+Ljv5j+9MYKJ/k7mP3jDj+oSs+Y/TfFLIqRa5j+idiVqV6LmP9bV1dXV1eU/LEiVMpIN5j98GmG5pxHmPxFLRSwVseQ/lp8QZ+Un5D/z2Iqg4aTmPw==",
          "dtype": "f8"
         }
        },
        {
         "fill": "tonexty",
         "fillcolor": "rgba(31, 119, 180, 0.1)",
         "legendgroup": "('llama3.1_8b_chat', 'birth_years_4k', 'base', 'main', 'prompt_answer')",
         "line": {
          "width": 0
         },
         "mode": "lines",
         "name": "('llama3.1_8b_chat', 'birth_years_4k', 'base', 'main', 'prompt_answer') Min",
         "showlegend": false,
         "type": "scatter",
         "x": {
          "bdata": "AAECAwQFBgcICQoLDA0ODxAREhMUFRYXGBkaGxwdHh8=",
          "dtype": "i1"
         },
         "y": {
          "bdata": "AAAAAAAA4D/oMX+vjVjXP+gxf6+NWNc/6DF/r41Y1z8EknWuPCDZPxXTWUxnMd0/3Dqlf2xP4D/pdDqdTqfTP9BwUvflsdU/FwhYHV/K2D9+jevgVU/XP1G7ErUrUds/gb1jamDv2D8g6EoD5O3ZPyELWchCFuI/f5+3SXcZ4z+5pH8rRQnlPy+n4OUUvOQ/X0J7Ce0l5D9/i9Oa7RPlPzVN0zRN0+Q/1EM91EM95D8ObvYLsaLkP7pXlwNjheQ/4RNHeq3g4z9eQ3kN5TXkP0OzXMm48+M/bzBFPusG4z+kpx2ZRavjP6cQaAqBpuA/1MnlRfAp4D/RRRdddNHdPw==",
          "dtype": "f8"
         }
        },
        {
         "legendgroup": "('llama3.1_8b_chat', 'birth_years_4k', 'base', 'main', 'prompt_answer')",
         "line": {
          "width": 0
         },
         "mode": "lines",
         "name": "('llama3.1_8b_chat', 'birth_years_4k', 'base', 'main', 'prompt_answer') +1 STD",
         "showlegend": false,
         "type": "scatter",
         "x": {
          "bdata": "AAECAwQFBgcICQoLDA0ODxAREhMUFRYXGBkaGxwdHh8=",
          "dtype": "i1"
         },
         "y": {
          "bdata": "WS1Fyh5G4z8ByBR/Z8rkP/qoIw4D/uQ/tm0iQ1ag4D+bhl2hjx7iP78W9yUzBuI/36XUYlsz4j+r+lLBjrTjPxBPnOQJ6OM/DMNrDKEX4j9m6VsuS7zlP/AHVgo6geY/V5EMhSrz5j/atPtI3hTpP7xAAZ3ruuU/YiF2GJSf5z/ZfpYVsL3oP9KZT8tM9Oc/rQYmXUOG5j/a/36vp7zmPzLCLdnbkeY/1j94A7x95j9ogVHJ2+vlP6DjbYetSuY/wgyfdbYK5j/nJJB3ZP/lP8r0Tm6Ae+U/xXXGlz3F5T+dAZwSgKPlP9lzaOHTpeQ/iZyjVjK14z81F5NWmJbkPw==",
          "dtype": "f8"
         }
        },
        {
         "fill": "tonexty",
         "fillcolor": "rgba(31, 119, 180, 0.3)",
         "legendgroup": "('llama3.1_8b_chat', 'birth_years_4k', 'base', 'main', 'prompt_answer')",
         "line": {
          "width": 0
         },
         "mode": "lines",
         "name": "('llama3.1_8b_chat', 'birth_years_4k', 'base', 'main', 'prompt_answer') -1 STD",
         "showlegend": false,
         "type": "scatter",
         "x": {
          "bdata": "AAECAwQFBgcICQoLDA0ODxAREhMUFRYXGBkaGxwdHh8=",
          "dtype": "i1"
         },
         "y": {
          "bdata": "yYOEOYca4D+Ht5R9qBPbPwzt9Z2kyds/3eernefo2D/kv7fgYjXbP0YOMops8d4/TZVAzOt54D+2zZVUn9HXP4vouDw619k/YVJRjAuQ2j/Fqv4sXjHcP4i77UiMq98/HhnaIfR73j/UylUPuVLgP6jhEVPqoOI/rDjePK2E4z+d9MgmOUnlPzqO9ZI4CuU/z+yIm2mT5D986EBFijHlPxJZpBdy4uQ/Fu7tlqBW5D8e79h922rkP+6qWWC2nuQ/DjbkPz4I5D9VwBlchQTkP4KR0HME5eM/tV3gQDpX4z8hNdlmE5LjP1muPc4bHuE/owBUdnpX4D8Gv1GV32LcPw==",
          "dtype": "f8"
         }
        },
        {
         "legendgroup": "('llama3.1_8b_chat', 'birth_years_4k', 'base', 'main', 'prompt_answer')",
         "marker": {
          "color": "#1f77b4",
          "opacity": 0.5,
          "size": 6
         },
         "mode": "markers",
         "name": "('llama3.1_8b_chat', 'birth_years_4k', 'base', 'main', 'prompt_answer') Fold ('direction_f1_score', 0)",
         "showlegend": false,
         "type": "scatter",
         "x": {
          "bdata": "AAECAwQFBgcICQoLDA0ODxAREhMUFRYXGBkaGxwdHh8=",
          "dtype": "i1"
         },
         "y": {
          "bdata": "oryG8hrK4z8SMDFEh/vjP/XTTz/99OM/5fdjhPTi4D9LGtWWq6ThPx6yo38lxOA/Gs94xjOe4T9XpAw83ZrfPzfQaQOdNuA/98J74b3w3j94D0T43QPhP0epzOkf8uM/NWw3y5PI5D+O+DIZLA3nPyr9Y3uCCOQ/lEq4k0q44z+5pH8rRQnlP5lfZX6V+eU/i9WpWJ2K5T8jobTxjmrmP7SX0F5Ce+U/1EM91EM95D8xBQ7ZFqTkP7pXlwNjheQ/4RNHeq3g4z++hPYS2kvkP5jkSJUA+eM/bzBFPusG4z+kpx2ZRavjP8P1KFyPwuE/+9WFtFge4T8f7/Ee7/HePw==",
          "dtype": "f8"
         }
        },
        {
         "legendgroup": "('llama3.1_8b_chat', 'birth_years_4k', 'base', 'main', 'prompt_answer')",
         "marker": {
          "color": "#1f77b4",
          "opacity": 0.5,
          "size": 6
         },
         "mode": "markers",
         "name": "('llama3.1_8b_chat', 'birth_years_4k', 'base', 'main', 'prompt_answer') Fold ('direction_f1_score', 1)",
         "showlegend": false,
         "type": "scatter",
         "x": {
          "bdata": "AAECAwQFBgcICQoLDA0ODxAREhMUFRYXGBkaGxwdHh8=",
          "dtype": "i1"
         },
         "y": {
          "bdata": "Y5YjP1fM4j+clAB3S27iP5LrH+5bcOA/p/SP7Qki4D8Y9AV9QV/gP0YXXXTRReE/diC803OZ4D8jVJ9pa/zdP+tLBa2+VOA/00n5dFI+3T8DdIdt5ZrjPxkJpY13VOM/XKUpfkmE5D/3r1dp/3rlP7y7u7u7u+M/KdaLYr0o5j/hSUHy51XmPy+n4OUUvOQ/50Hu+tli5T/WDzoq8MXlP5nxufwSxeU/WkxnMZ3F5D8nnXm5eq/kP/zy2Iqg4eQ/hkJwreQx5D8oS2DTfrLkP81JIC7UnOQ/HESP78JB5D+GQnCt5DHkP7gehetRuOI/URRFURRF4T/RRRdddNHdPw==",
          "dtype": "f8"
         }
        },
        {
         "legendgroup": "('llama3.1_8b_chat', 'birth_years_4k', 'base', 'main', 'prompt_answer')",
         "marker": {
          "color": "#1f77b4",
          "opacity": 0.5,
          "size": 6
         },
         "mode": "markers",
         "name": "('llama3.1_8b_chat', 'birth_years_4k', 'base', 'main', 'prompt_answer') Fold ('direction_f1_score', 2)",
         "showlegend": false,
         "type": "scatter",
         "x": {
          "bdata": "AAECAwQFBgcICQoLDA0ODxAREhMUFRYXGBkaGxwdHh8=",
          "dtype": "i1"
         },
         "y": {
          "bdata": "twep63B74D+2bdu2bdveP9x65RgiKeQ/EC7RCeES3T9Lf852fAjiP89lQtIZJ+E/Fc0TagFj4j9tsskmm2ziP9BwUvflsdU/FwhYHV/K2D/mkv6tFCXkP5ytQ7/ZOuQ/2KT3mvRe4z8u4XY1Dc3mP5id5ZL+reQ/aleidiVq5z9Nd7DfamPoP/Up332deeg/N7s4MFzO5T9YsXm80oTlP5HWC9jmdOU/LEiVMpIN5j8u1+kJiZPlP5Z7GmG5p+U/hVd4hVd45T8zMzMzMzPlPzsYs9LoEeU/s6DaczJ95T9Ax+a74UflPxFLRSwVseQ/N7WpTW1q4z/z2Iqg4aTmPw==",
          "dtype": "f8"
         }
        },
        {
         "legendgroup": "('llama3.1_8b_chat', 'birth_years_4k', 'base', 'main', 'prompt_answer')",
         "marker": {
          "color": "#1f77b4",
          "opacity": 0.5,
          "size": 6
         },
         "mode": "markers",
         "name": "('llama3.1_8b_chat', 'birth_years_4k', 'base', 'main', 'prompt_answer') Fold ('direction_f1_score', 3)",
         "showlegend": false,
         "type": "scatter",
         "x": {
          "bdata": "AAECAwQFBgcICQoLDA0ODxAREhMUFRYXGBkaGxwdHh8=",
          "dtype": "i1"
         },
         "y": {
          "bdata": "AAAAAAAA4D/oMX+vjVjXP+gxf6+NWNc/6DF/r41Y1z9YU9aUNWXdPxXTWUxnMd0/3Dqlf2xP4D/pdDqdTqfTP0DTcxB7weI/6jsb9Z2N4j9+jevgVU/XP1G7ErUrUds/gb1jamDv2D8g6EoD5O3ZPyELWchCFuI/f5+3SXcZ4z+GYRiGYRjmP9M820jt4+U/rktp4G/e5j8K16NwPQrnPxqXo3E5Guc/XeWZ+Ljv5j+9MYKJ/k7mP3jDj+oSs+Y/TfFLIqRa5j+idiVqV6LmP9bV1dXV1eU/LEiVMpIN5j98GmG5pxHmP0nlw7hfl+Q/lp8QZ+Un5D/feX0GXTXiPw==",
          "dtype": "f8"
         }
        },
        {
         "legendgroup": "('llama3.1_8b_chat', 'birth_years_4k', 'base', 'main', 'prompt_answer')",
         "marker": {
          "color": "#1f77b4",
          "opacity": 0.5,
          "size": 6
         },
         "mode": "markers",
         "name": "('llama3.1_8b_chat', 'birth_years_4k', 'base', 'main', 'prompt_answer') Fold ('direction_f1_score', 4)",
         "showlegend": false,
         "type": "scatter",
         "x": {
          "bdata": "AAECAwQFBgcICQoLDA0ODxAREhMUFRYXGBkaGxwdHh8=",
          "dtype": "i1"
         },
         "y": {
          "bdata": "F+Ak7Ltf4T/sxE7sxE7kP2i7t0pT/OI/J6+hvIby2j8EknWuPCDZP/QxOB+D8+E/chzHcRzH4T+xys1Ehf3jP47A4cpX6+M/QEhxX8tk4T/UP+Sn7ijlP5qAwWN5r+Y/lnVlXVlX5j9zwSSjzzbnP1100UUXXeY/fcm0nv515z822WSTTTbpP5J2rEAYaec/X0J7Ce0l5D9/i9Oa7RPlPzVN0zRN0+Q/E7UrUbsS5T8ObvYLsaLkP59aWOmpheU/0YdM9tVJ5T9eQ3kN5TXkP0OzXMm48+M/Q7Ncybjz4z/0PM/zPM/jP6cQaAqBpuA/1MnlRfAp4D8D9xHcR3DfPw==",
          "dtype": "f8"
         }
        },
        {
         "legendgroup": "('llama3.1_8b_chat', 'birth_years_4k', 'base', 'main', 'prompt_only')",
         "line": {
          "color": "#ff7f0e",
          "width": 2
         },
         "marker": {
          "size": 8
         },
         "mode": "lines+markers",
         "name": "('llama3.1_8b_chat', 'birth_years_4k', 'base', 'main', 'prompt_only')",
         "type": "scatter",
         "x": {
          "bdata": "AAECAwQFBgcICQoLDA0ODxAREhMUFRYXGBkaGxwdHh8=",
          "dtype": "i1"
         },
         "y": {
          "bdata": "nLHbSxoi4D/DBOOhkkriP8K/9Z6tpuI/TOXZhksU4z/ztBzeVAvjP3jPqubIvuI/CLZ4jOfJ4j8lGbpRYn/jP1q1IQecp+I/PVNgdpqP4D+yxiaQNZXhP2tfIYU00OE/FkbHIBYa4j/kr7eFI33hPySJcts37eE/xeptHEyA4D9WbfyA1SnePyiXgWZy2d4/levXhg+J3z/WwvgSKJjeP3X20fphj94/axRZpD7h3D+wTVqqEnndP54xbSmOpts/IGyDDiac3D/aWjfEzhHeP2pbXn3znNw/awpOt2LB3j/zk5fs+GnfPwOA7U8klN4/GszsMHo83j9VGZW0wiLgPw==",
          "dtype": "f8"
         }
        },
        {
         "legendgroup": "('llama3.1_8b_chat', 'birth_years_4k', 'base', 'main', 'prompt_only')",
         "line": {
          "width": 0
         },
         "mode": "lines",
         "name": "('llama3.1_8b_chat', 'birth_years_4k', 'base', 'main', 'prompt_only') Max",
         "showlegend": false,
         "type": "scatter",
         "x": {
          "bdata": "AAECAwQFBgcICQoLDA0ODxAREhMUFRYXGBkaGxwdHh8=",
          "dtype": "i1"
         },
         "y": {
          "bdata": "ndtrySGu4j9DSp2BNaTkPxX44uoHHeU/PpWlOGTs5T/0Lh4BE0PkP0gfTMp0YOU/uAWNloF85D9pFz4qe+LlP5ZaqZVaqeU/b0qqQ2zg4z9JFXeF+JDkP3oWbUNHyuU/rPdKXbiE5T+R2JbnvqfkP61OUshD8OU/kpGRkZGR4T+ruJ3TZz/gP1YDFHjQ4uA/sRM7sRM74T+Q0AmUo/jgP8HbDwm8/eA/GTCNAdMY4D9GZLyIjBfhP077yRLYtN8/GIZhGIZh4D/iFlAY1WniP/pztuNDkOI/2aKcL5nW4z+fNgnKqWbkP582CcqpZuQ/zyLQgW0J4z/Rd69sVqTjPw==",
          "dtype": "f8"
         }
        },
        {
         "fill": "tonexty",
         "fillcolor": "rgba(255, 127, 14, 0.1)",
         "legendgroup": "('llama3.1_8b_chat', 'birth_years_4k', 'base', 'main', 'prompt_only')",
         "line": {
          "width": 0
         },
         "mode": "lines",
         "name": "('llama3.1_8b_chat', 'birth_years_4k', 'base', 'main', 'prompt_only') Min",
         "showlegend": false,
         "type": "scatter",
         "x": {
          "bdata": "AAECAwQFBgcICQoLDA0ODxAREhMUFRYXGBkaGxwdHh8=",
          "dtype": "i1"
         },
         "y": {
          "bdata": "2rZt27Zt2z8cZfcbZffbP/z48ePHj98/vRf1XtR74T+bEm1KtCnhPxzUQR3UQd0/dmIndmIn4j+O4ziO4zjeP0KK+1omi9w/mUTvmUTv2T/+ORKCN2ndPyNeReJVJN4//LvW6dJU3z9HWO5phOXeP7aLz+sMsN4/ux2q26G63T+86U1vetPbP0NQL7i6Tdw/u7u7u7u72z971S+K5D7ZP6K8hvIayts/Ntlkk0022T822WSTTTbZP/xVnJCSZ9k/oQp03Uaw2T+amZmZmZnZP4fsSz5A0tg/mpmZmZmZ2T/Bnwl/JvzZPzYoK8TYB9g/wZ8Jfyb82T+acIC65NTaPw==",
          "dtype": "f8"
         }
        },
        {
         "legendgroup": "('llama3.1_8b_chat', 'birth_years_4k', 'base', 'main', 'prompt_only')",
         "line": {
          "width": 0
         },
         "mode": "lines",
         "name": "('llama3.1_8b_chat', 'birth_years_4k', 'base', 'main', 'prompt_only') +1 STD",
         "showlegend": false,
         "type": "scatter",
         "x": {
          "bdata": "AAECAwQFBgcICQoLDA0ODxAREhMUFRYXGBkaGxwdHh8=",
          "dtype": "i1"
         },
         "y": {
          "bdata": "OnXIv25X4j8lxoesTP7kP6uBCvrIpuQ/9C73pPjU5D9dvpwlIDLkP06jMNqCTOU/UgKvQlLD4z/MUwRuOpDmP/GHZnC60OU/nr4HIBcv4z8mH98YPzjkP0+grsFLoeQ/sRdYVlmT5D9gpcIZqanjP7JD6lF6geQ/JAdq9f284T+Ittf4IAjgP0xSKwbli+A/iSz8W3Yp4T8wycPxLBjhP783gZ8EbuA/T2J6q5OC3z/sHVqmr2zgP4hpNA1fL94/v1NWrINU3z8AeZ1dACDhP6KA25COzuA/XA/+a/Eh4j+Ph3lh247iP6AVATQWnuI/v2h7hdB/4T8tYUTCxd7iPw==",
          "dtype": "f8"
         }
        },
        {
         "fill": "tonexty",
         "fillcolor": "rgba(255, 127, 14, 0.3)",
         "legendgroup": "('llama3.1_8b_chat', 'birth_years_4k', 'base', 'main', 'prompt_only')",
         "line": {
          "width": 0
         },
         "mode": "lines",
         "name": "('llama3.1_8b_chat', 'birth_years_4k', 'base', 'main', 'prompt_only') -1 STD",
         "showlegend": false,
         "type": "scatter",
         "x": {
          "bdata": "AAECAwQFBgcICQoLDA0ODxAREhMUFRYXGBkaGxwdHh8=",
          "dtype": "i1"
         },
         "y": {
          "bdata": "/Nvdr4vZ2z/ChnwusS3fP9n94EOSpuA/pJu8aJ5T4T+Jq5yWieThP6L7JPMOMeA/vmlC1nzQ4T9+3m81im7gP4bFuTv7/N4/uM9xmTvg2z993NwOWOTdPw49KJE6/t0/9uhs1qVB3z/PdFnjO6HePyud9cnqsd4/zJzjhjSH3j+cbUkQaUPcP7mJrMAam9w/GH63VTK/3D9N82lC9v/aP2x9oba6Qtw/h8Y3nek/2j+JXwAIxhjaP7T5pUW9Hdk/gYSwcMjj2T+0wzPNnOPZP5C1BdnJnNc/HvafluI+2T/HGDwWO7bZP8XU2Dcc7Nc/tsbiVlN52T/6ostNf83aPw==",
          "dtype": "f8"
         }
        },
        {
         "legendgroup": "('llama3.1_8b_chat', 'birth_years_4k', 'base', 'main', 'prompt_only')",
         "marker": {
          "color": "#ff7f0e",
          "opacity": 0.5,
          "size": 6
         },
         "mode": "markers",
         "name": "('llama3.1_8b_chat', 'birth_years_4k', 'base', 'main', 'prompt_only') Fold ('direction_f1_score', 0)",
         "showlegend": false,
         "type": "scatter",
         "x": {
          "bdata": "AAECAwQFBgcICQoLDA0ODxAREhMUFRYXGBkaGxwdHh8=",
          "dtype": "i1"
         },
         "y": {
          "bdata": "Pnxrcg7F4T/08/Pz8/PjP2zVBhVotuM/bDNqDeQk4z9ofLERIFrjP0gfTMp0YOU/NSeBuFBz4j9nOhxFP4nlP5ZaqZVaqeU/QD1Tue544T+D8zE4H4PjP341JtIDleM/4ybM72px4z+R2JbnvqfkP61OUshD8OU/kpGRkZGR4T+ruJ3TZz/gP9NpuHtZJeA/sRM7sRM74T89z/M8z/PgP8HbDwm8/eA/GTCNAdMY4D9GZLyIjBfhP077yRLYtN8/GIZhGIZh4D/iFlAY1WniP/pztuNDkOI/2aKcL5nW4z+fNgnKqWbkP582CcqpZuQ/zyLQgW0J4z/Rd69sVqTjPw==",
          "dtype": "f8"
         }
        },
        {
         "legendgroup": "('llama3.1_8b_chat', 'birth_years_4k', 'base', 'main', 'prompt_only')",
         "marker": {
          "color": "#ff7f0e",
          "opacity": 0.5,
          "size": 6
         },
         "mode": "markers",
         "name": "('llama3.1_8b_chat', 'birth_years_4k', 'base', 'main', 'prompt_only') Fold ('direction_f1_score', 1)",
         "showlegend": false,
         "type": "scatter",
         "x": {
          "bdata": "AAECAwQFBgcICQoLDA0ODxAREhMUFRYXGBkaGxwdHh8=",
          "dtype": "i1"
         },
         "y": {
          "bdata": "ndtrySGu4j8gnIiXBITjPxX44uoHHeU/PpWlOGTs5T+JNyPejHjjP8gXiVJjD+M/uAWNloF85D+dVbrCmGrhP3kN5TWU1+A/AuUoPlRh4T/xRlPn1x7iP+5Q3Q7V7eA/Fbdz+uwH4j+WexphuafhP/FGU+fXHuI/XVADjNv74D8e/4o2VsreP1YDFHjQ4uA/aZAGaZAG4T+Q0AmUo/jgP53neZ7ned4/Ntlkk0022T822WSTTTbZP/xVnJCSZ9k/0tLS0tLS2j+amZmZmZnZP4fsSz5A0tg/mpmZmZmZ2T/Bnwl/JvzZPzYoK8TYB9g/wZ8Jfyb82T92gynyWTfgPw==",
          "dtype": "f8"
         }
        },
        {
         "legendgroup": "('llama3.1_8b_chat', 'birth_years_4k', 'base', 'main', 'prompt_only')",
         "marker": {
          "color": "#ff7f0e",
          "opacity": 0.5,
          "size": 6
         },
         "mode": "markers",
         "name": "('llama3.1_8b_chat', 'birth_years_4k', 'base', 'main', 'prompt_only') Fold ('direction_f1_score', 2)",
         "showlegend": false,
         "type": "scatter",
         "x": {
          "bdata": "AAECAwQFBgcICQoLDA0ODxAREhMUFRYXGBkaGxwdHh8=",
          "dtype": "i1"
         },
         "y": {
          "bdata": "RsFp8WsU3D/oilmO/FzhP+QOms2n5eE/oI/erpsM4z9Cky8bNPniPx1XQ77kLOQ/q6qqqqoq4j+O4ziO4zjePxzTJqAU9eI/mUTvmUTv2T/+ORKCN2ndPyNeReJVJN4/mVXczumz3z/bOX32A+neP7aLz+sMsN4/ux2q26G63T+86U1vetPbP0NQL7i6Tdw/u7u7u7u72z971S+K5D7ZP6K8hvIayts/A8cujQIR3D/zsohPIJXcPxzHcRzHcdw/GLX8GxJm3D+amZmZmZndP+acc84559w/AAAAAAAA4D9OAnGh5iTgP6KT9kEyoN4/5pxzzjnn3D/sUbgehevhPw==",
          "dtype": "f8"
         }
        },
        {
         "legendgroup": "('llama3.1_8b_chat', 'birth_years_4k', 'base', 'main', 'prompt_only')",
         "marker": {
          "color": "#ff7f0e",
          "opacity": 0.5,
          "size": 6
         },
         "mode": "markers",
         "name": "('llama3.1_8b_chat', 'birth_years_4k', 'base', 'main', 'prompt_only') Fold ('direction_f1_score', 3)",
         "showlegend": false,
         "type": "scatter",
         "x": {
          "bdata": "AAECAwQFBgcICQoLDA0ODxAREhMUFRYXGBkaGxwdHh8=",
          "dtype": "i1"
         },
         "y": {
          "bdata": "HmQH2UF24D9DSp2BNaTkP+nlT1towOI/vRf1XtR74T+bEm1KtCnhPyCVnJdFfOI/FlR7Tqav4j+FZHGfJorlP3aKdYp1iuU/b0qqQ2zg4z9JFXeF+JDkP3oWbUNHyuU/rPdKXbiE5T87Uq8j9TriPztSryP1OuI/kMH5GJyP4T9ugLRQJaPcP+Tc+hFBHN0/4qz8hDgr3z/wXngvvBfeP+Ks/IQ4K98/LAk3Sr1v3j/irPyEOCvfP+c+WL8Bpto/5n2KS4Zg3T8Dxy6NAhHcP5qZmZmZmdk/A5020GkD3T8DnTbQaQPdP9AADdAADeA/+N5777333j+acIC65NTaPw==",
          "dtype": "f8"
         }
        },
        {
         "legendgroup": "('llama3.1_8b_chat', 'birth_years_4k', 'base', 'main', 'prompt_only')",
         "marker": {
          "color": "#ff7f0e",
          "opacity": 0.5,
          "size": 6
         },
         "mode": "markers",
         "name": "('llama3.1_8b_chat', 'birth_years_4k', 'base', 'main', 'prompt_only') Fold ('direction_f1_score', 4)",
         "showlegend": false,
         "type": "scatter",
         "x": {
          "bdata": "AAECAwQFBgcICQoLDA0ODxAREhMUFRYXGBkaGxwdHh8=",
          "dtype": "i1"
         },
         "y": {
          "bdata": "2rZt27Zt2z8cZfcbZffbP/z48ePHj98/cwpeTsHL4T/0Lh4BE0PkPxzUQR3UQd0/dmIndmIn4j9pFz4qe+LlP0KK+1omi9w/aiKHj2U33j976XjVAAXePz0iJwh3Y98//LvW6dJU3z9HWO5phOXePwAAAAAAAOA/7caD00QO3z8USCXnZRHfP0/sxE7sxN4/Gen7LBFD3j8pWjgDQsndP6bH/L02Yt0/fVzYx4V93D/cgmDanTfcP8mg8U+TDNo/oQp03Uaw2T9BnhLkKUHePxm+EQUmndo/yrd8y7d82z8iNcF4K/vcP1VVVVVVVdk/QJsGtGlA2z9N8i9YS/jaPw==",
          "dtype": "f8"
         }
        },
        {
         "legendgroup": "('llama3.1_8b_chat', 'cities_10k', 'base', 'main', 'prompt_answer')",
         "line": {
          "color": "#2ca02c",
          "width": 2
         },
         "marker": {
          "size": 8
         },
         "mode": "lines+markers",
         "name": "('llama3.1_8b_chat', 'cities_10k', 'base', 'main', 'prompt_answer')",
         "type": "scatter",
         "x": {
          "bdata": "AAECAwQFBgcICQoLDA0ODxAREhMUFRYXGBkaGxwdHh8=",
          "dtype": "i1"
         },
         "y": {
          "bdata": "LqpOJ6rh5T8erhlbWXnlP3Y6DmcoluU/kaR1iMKA5T8LZEruyajlP2OkI+pfEuY/HMdeBJw25j8cjg5DXRjmP9swkiXDEOY/sO2XC51O5j/jFmkrMtvmP7LrrrOQpeU/10aZVUWt5T+/wEDe2ljmPxQTqe2okeQ/RrupBOwZ5j+2a57PkL7mPzJARaDpJOY/ENTa27wy5D/7LyisbITkP5ELfbN0h+Q/cDfcTsVU5T+7TACSDQblPzZe/rKEe+Y/DvPODvrP5D8exIdgwb7jP5CTmefkvuQ/oFVVSoQW4z8czQPuhP3jPwafwEa/aOQ/ZCowqtE+4z/gjmZUWbblPw==",
          "dtype": "f8"
         }
        },
        {
         "legendgroup": "('llama3.1_8b_chat', 'cities_10k', 'base', 'main', 'prompt_answer')",
         "line": {
          "width": 0
         },
         "mode": "lines",
         "name": "('llama3.1_8b_chat', 'cities_10k', 'base', 'main', 'prompt_answer') Max",
         "showlegend": false,
         "type": "scatter",
         "x": {
          "bdata": "AAECAwQFBgcICQoLDA0ODxAREhMUFRYXGBkaGxwdHh8=",
          "dtype": "i1"
         },
         "y": {
          "bdata": "AT9x8tB65j9GysDTrfnlPyo2u0nu4eU/S7HCYaLM5T9Mlr9k+UvmPwbHLQEW8OY/wNARCs485z8L27yQPNXmPydKdm2iZOc/PHplbL+j5z+xSBl4ujXnP4qDo5Zy2uY/+KNySvq45j85GE5hy6XnP1WsZ3QABec/nLybSzh55z/Ll2Qx/srnP3UEXF/kK+c/c/bafLi45T9A62OLymLmP8tTQVEgpOU/T0ps7aTE5j/jzRo5/zXnPxW+0s3CGug/nH87rLz55z9e3OtjhtHnP1NQj5hosec/RShCEYpQ5D8IfI4oC+zkPyAqHdkzEOU/I+IjHaFl5j8oh8uATw7nPw==",
          "dtype": "f8"
         }
        },
        {
         "fill": "tonexty",
         "fillcolor": "rgba(44, 160, 44, 0.1)",
         "legendgroup": "('llama3.1_8b_chat', 'cities_10k', 'base', 'main', 'prompt_answer')",
         "line": {
          "width": 0
         },
         "mode": "lines",
         "name": "('llama3.1_8b_chat', 'cities_10k', 'base', 'main', 'prompt_answer') Min",
         "showlegend": false,
         "type": "scatter",
         "x": {
          "bdata": "AAECAwQFBgcICQoLDA0ODxAREhMUFRYXGBkaGxwdHh8=",
          "dtype": "i1"
         },
         "y": {
          "bdata": "ZC/QJL015T9GjBgxYsTkP5V6I5V6I+U/4GXaI7QY5T+rc7bMfg/lP7WytWPjWeU/FQ91FQ915T9tQDYgG5DlP2tEYjw7WuU/6reVZo2L5T9fKmj1pYLmP2keglLnIOQ/CoVCoVAo5D90Td4+f//kP7TzLh4BE+M/Ccs9jbDc4z8p/VQpoOzkP0UnO4Ooj+U/LFG7ErUr4T8x8X7kNF/jP2cOWQeBz+I/dLg/O+/i4T9ktHjlEzHbP32B29x1hOI/STilefEn4j9/ETk0subhP8SBzev3L+M/rJoUBYol4T+QMsE1+yjjP1NQSnBdmuM/TeAETuAE3j8UCac0L/7kPw==",
          "dtype": "f8"
         }
        },
        {
         "legendgroup": "('llama3.1_8b_chat', 'cities_10k', 'base', 'main', 'prompt_answer')",
         "line": {
          "width": 0
         },
         "mode": "lines",
         "name": "('llama3.1_8b_chat', 'cities_10k', 'base', 'main', 'prompt_answer') +1 STD",
         "showlegend": false,
         "type": "scatter",
         "x": {
          "bdata": "AAECAwQFBgcICQoLDA0ODxAREhMUFRYXGBkaGxwdHh8=",
          "dtype": "i1"
         },
         "y": {
          "bdata": "vQ/5O1NW5j9uaT0N+vHlP2l3NVul3uU/rU4p3v/T5T+ib7LraSbmP/LKYTpXruY/QhQQJxzj5j+3axEnoZDmP2Uzi8Js3OY/4eCICask5z9b+xbt8yHnP/L87XjQpeY/HDz3GofF5j/XYKV7H2PnPzTwPcFtF+Y/lkfRwaS45z8S9l/Rx+LnP/fyFgUB0OY/tZ8Q3V705T+Nb8rnAb3lPxHGOQXGseU//A1/h3dT5z+isJwCVTHpP9XgigEwveg/Wbx2BseE5z8Y0hRBbhfmPyHFT5bId+Y/Nu8yk9px5D90XkwmYLPkP/fVVmJF/uQ/IWX21JId5j+xf6mrwIzmPw==",
          "dtype": "f8"
         }
        },
        {
         "fill": "tonexty",
         "fillcolor": "rgba(44, 160, 44, 0.3)",
         "legendgroup": "('llama3.1_8b_chat', 'cities_10k', 'base', 'main', 'prompt_answer')",
         "line": {
          "width": 0
         },
         "mode": "lines",
         "name": "('llama3.1_8b_chat', 'cities_10k', 'base', 'main', 'prompt_answer') -1 STD",
         "showlegend": false,
         "type": "scatter",
         "x": {
          "bdata": "AAECAwQFBgcICQoLDA0ODxAREhMUFRYXGBkaGxwdHh8=",
          "dtype": "i1"
         },
         "y": {
          "bdata": "n0SkEgFt5T/O8vWouADlP4P95nKrTeU/dfrBMoUt5T90WOLwKSvlP9R95ZloduU/9nmt4RuK5T+BsAtfGaDlP1EumYgZReU/f/qmDY945T9rMrtpcJTmP3Lab+5QpeQ/klE7kAOV5D+nINxAlk7lP/Q1FBrkC+M/9i6CRzN75D9a4dzNWZrlP22NczvSeeU/awil2hpx4j9p8IVw10vjPxFRwGEjXeM/5GA5FhNW4z/U6GMhxtrgP5fbcWTZOeQ/wyknFy0b4j8ktvp/FGbhP/9h4zgBBuM/Crx3AS674T/EO7u1qUfjPxVoKis50+M/p+9pfxBg4D8PniP98d/kPw==",
          "dtype": "f8"
         }
        },
        {
         "legendgroup": "('llama3.1_8b_chat', 'cities_10k', 'base', 'main', 'prompt_answer')",
         "marker": {
          "color": "#2ca02c",
          "opacity": 0.5,
          "size": 6
         },
         "mode": "markers",
         "name": "('llama3.1_8b_chat', 'cities_10k', 'base', 'main', 'prompt_answer') Fold ('direction_f1_score', 0)",
         "showlegend": false,
         "type": "scatter",
         "x": {
          "bdata": "AAECAwQFBgcICQoLDA0ODxAREhMUFRYXGBkaGxwdHh8=",
          "dtype": "i1"
         },
         "y": {
          "bdata": "ZC/QJL015T/o/CZ7I3TlP5V6I5V6I+U/4GXaI7QY5T+rc7bMfg/lP7WytWPjWeU/FQ91FQ915T9tQDYgG5DlP5qZmZmZmeU/7UGZZxU15j9fKmj1pYLmPxofmUDv1OU/+KNySvq45j85GE5hy6XnP7TzLh4BE+M/Ccs9jbDc4z8p/VQpoOzkP0UnO4Ooj+U/WktpLaW15D8x8X7kNF/jP2wBygNwX+U/DMxTaA2g5j/jzRo5/zXnPxUD8MLMKec/STilefEn4j9/ETk0subhP8SBzev3L+M/rJoUBYol4T+hxInxyGjjPyZO/Z5b4uQ/fpHiCLDP4j+7Xo2Sr+vlPw==",
          "dtype": "f8"
         }
        },
        {
         "legendgroup": "('llama3.1_8b_chat', 'cities_10k', 'base', 'main', 'prompt_answer')",
         "marker": {
          "color": "#2ca02c",
          "opacity": 0.5,
          "size": 6
         },
         "mode": "markers",
         "name": "('llama3.1_8b_chat', 'cities_10k', 'base', 'main', 'prompt_answer') Fold ('direction_f1_score', 1)",
         "showlegend": false,
         "type": "scatter",
         "x": {
          "bdata": "AAECAwQFBgcICQoLDA0ODxAREhMUFRYXGBkaGxwdHh8=",
          "dtype": "i1"
         },
         "y": {
          "bdata": "yz6H1ATj5T9GysDTrfnlP7qHn1qbnOU/S7HCYaLM5T+yTbfQbpzlPwLBZaqx9OU/G7EuPebv5T/DfT9UTfrlPxiHkqzZ3OU/wFoBawWs5T+xSBl4ujXnP7YMHbDbY+U/xA/KMUiC5j/Xll2fy8nmP8PSfplX6+Q/nLybSzh55z95X6GPimTnP+ATTtfN8eU/61SsTsXq5D8Lo+hkZxDlP0Z2CeLe6OM/T0ps7aTE5j8kRH8t+yrnP1ikDDzdmuc/PIqoAtLO4j/MYyuChpPiPy16O5BqQuQ/8EJpKtmb4z+0S7RLtEvkPz8qHGhFLuQ/mC7Ji1uj4j8UCac0L/7kPw==",
          "dtype": "f8"
         }
        },
        {
         "legendgroup": "('llama3.1_8b_chat', 'cities_10k', 'base', 'main', 'prompt_answer')",
         "marker": {
          "color": "#2ca02c",
          "opacity": 0.5,
          "size": 6
         },
         "mode": "markers",
         "name": "('llama3.1_8b_chat', 'cities_10k', 'base', 'main', 'prompt_answer') Fold ('direction_f1_score', 2)",
         "showlegend": false,
         "type": "scatter",
         "x": {
          "bdata": "AAECAwQFBgcICQoLDA0ODxAREhMUFRYXGBkaGxwdHh8=",
          "dtype": "i1"
         },
         "y": {
          "bdata": "lgOWA5YD5j9GjBgxYsTkPyo2u0nu4eU/oryG8hrK5T/e6ZBBJ/rlP1afq63YX+Y/Yid2Yid25j+9rS7XJDDmP2tEYjw7WuU/6reVZo2L5T/UBjptoNPmP2keglLnIOQ/CoVCoVAo5D/LOLpWIqzmPxCTK4jJFeQ/yMkyHgTS5j/PdR5IsjznP3UEXF/kK+c/bDyaP9h45D8Nki73HwzkP2cOWQeBz+I/4Yp4ZUeE5T8ozWQ6ed7mPxW+0s3CGug/nH87rLz55z9e3OtjhtHnP1NQj5hosec/LCBktXY84j+QMsE1+yjjPyAqHdkzEOU/I+IjHaFl5j8oh8uATw7nPw==",
          "dtype": "f8"
         }
        },
        {
         "legendgroup": "('llama3.1_8b_chat', 'cities_10k', 'base', 'main', 'prompt_answer')",
         "marker": {
          "color": "#2ca02c",
          "opacity": 0.5,
          "size": 6
         },
         "mode": "markers",
         "name": "('llama3.1_8b_chat', 'cities_10k', 'base', 'main', 'prompt_answer') Fold ('direction_f1_score', 3)",
         "showlegend": false,
         "type": "scatter",
         "x": {
          "bdata": "AAECAwQFBgcICQoLDA0ODxAREhMUFRYXGBkaGxwdHh8=",
          "dtype": "i1"
         },
         "y": {
          "bdata": "AT9x8tB65j967wRB6VnlPwIyF6FJwuU/lIjR4dCa5T9Mlr9k+UvmPwbHLQEW8OY/wNARCs485z+Uf+dyCOrlPydKdm2iZOc/PHplbL+j5z+DIa6NvLHmP7bMjqiuB+Y/6YNz+hnv5D90Td4+f//kP1WsZ3QABec/aleidiVq5z/Ll2Qx/srnPxexGbxFbOY/c/bafLi45T9A62OLymLmP8tTQVEgpOU/dLg/O+/i4T9ktHjlEzHbP32B29x1hOI/1s6JQ5Ct4z+fh1IlX/3iP4ZUjnUShuQ/RShCEYpQ5D+hQoUKFSrkP1NQSnBdmuM/lcEeevte5T/mWKKh+ILlPw==",
          "dtype": "f8"
         }
        },
        {
         "legendgroup": "('llama3.1_8b_chat', 'cities_10k', 'base', 'main', 'prompt_answer')",
         "marker": {
          "color": "#2ca02c",
          "opacity": 0.5,
          "size": 6
         },
         "mode": "markers",
         "name": "('llama3.1_8b_chat', 'cities_10k', 'base', 'main', 'prompt_answer') Fold ('direction_f1_score', 4)",
         "showlegend": false,
         "type": "scatter",
         "x": {
          "bdata": "AAECAwQFBgcICQoLDA0ODxAREhMUFRYXGBkaGxwdHh8=",
          "dtype": "i1"
         },
         "y": {
          "bdata": "IKIq1SnR5T+lI3sGotLlP9O5sSh8iuU/cNpWUIo55T+1srVj41nlP9ZbvdVbveU/PSuuViH55T8L27yQPNXmPwRF1st+HuY/m9VhlKl45j8K16NwPQrnP4qDo5Zy2uY/hKULlK0P5j9rjv/ADaHlP4lZDPApv+M/hv+hqYnv5D9SsJ7b+F/mP0ZQW6vvnuU/LFG7ErUr4T9i3s6QmLfjP/FfA0NX6eQ/frvUk/Hb5T9GRkZGRkbmPxDwTNW0Bec/Uq733dFx5z9R+wOjqHDjPwpB2fuaEOQ/E4aGfTEi5D8IfI4oC+zkP0UoQhGKUOQ/TeAETuAE3j9+gl68lxTlPw==",
          "dtype": "f8"
         }
        },
        {
         "legendgroup": "('llama3.1_8b_chat', 'cities_10k', 'base', 'main', 'prompt_only')",
         "line": {
          "color": "#d62728",
          "width": 2
         },
         "marker": {
          "size": 8
         },
         "mode": "lines+markers",
         "name": "('llama3.1_8b_chat', 'cities_10k', 'base', 'main', 'prompt_only')",
         "type": "scatter",
         "x": {
          "bdata": "AAECAwQFBgcICQoLDA0ODxAREhMUFRYXGBkaGxwdHh8=",
          "dtype": "i1"
         },
         "y": {
          "bdata": "i56cbbPI4D9tNfW6DNrhPwav6b8H1+E/KGpcfsD84T+SFZhhT3vhP3Ne6W+bxeE/XnyCgM0P4T/usjj87iXhP21xjvSQgt4/PDk3lNUb1z+qnu8SyOfZPxBbNsLYHdk/wn0BdSBd2z+TXvx3ulLaP1tAV6RnRds/Aw9yOcl+2j828mHJzPbbP+7Q6mcv+dw/emL92YGO3T9m/3MYs33eP4Z2qQE80t4/s35TSGH03T+KsoVQSkrfP42CZbvXnd4/isIQmuFX4D8TrwhAqWPhPzYSn/bCzeA/iomW0/De4D/Ks0PGN+LgPwfkUZ3RHuA/y+H+UJSd4D/mjFBgKHDePw==",
          "dtype": "f8"
         }
        },
        {
         "legendgroup": "('llama3.1_8b_chat', 'cities_10k', 'base', 'main', 'prompt_only')",
         "line": {
          "width": 0
         },
         "mode": "lines",
         "name": "('llama3.1_8b_chat', 'cities_10k', 'base', 'main', 'prompt_only') Max",
         "showlegend": false,
         "type": "scatter",
         "x": {
          "bdata": "AAECAwQFBgcICQoLDA0ODxAREhMUFRYXGBkaGxwdHh8=",
          "dtype": "i1"
         },
         "y": {
          "bdata": "MCV1CQz44j/hdBd2vB7kP/mKr/iKr+I/Q9TNoGXH4z8lTg5T9W3jP9X31PfU9+Q/WlpaWlpa4j9AVw/Q1QPkP5czHY6in+Q/Ut/ZqO9s5D9TULW+KgXlPymTDkInGeU/uU992I775D84gwlqh/TiP6MdpQVEDeM/7mhyX4U54T/j7OnqP87eP4ICiOFukd8/C8erbe4h4D99rj9eBqPgP/Hw8PDw8OA/KpmSKZmS4T+DUmHi/cjhPz0jkmXSM+I/338PvNhn4j/Zuzo7yTTjP1VVVVVVVeM/MgWhf3Qb4z+/PxUHrTnjP8eubyarlOM/xituQFqB4j+/KXFLMsziPw==",
          "dtype": "f8"
         }
        },
        {
         "fill": "tonexty",
         "fillcolor": "rgba(214, 39, 40, 0.1)",
         "legendgroup": "('llama3.1_8b_chat', 'cities_10k', 'base', 'main', 'prompt_only')",
         "line": {
          "width": 0
         },
         "mode": "lines",
         "name": "('llama3.1_8b_chat', 'cities_10k', 'base', 'main', 'prompt_only') Min",
         "showlegend": false,
         "type": "scatter",
         "x": {
          "bdata": "AAECAwQFBgcICQoLDA0ODxAREhMUFRYXGBkaGxwdHh8=",
          "dtype": "i1"
         },
         "y": {
          "bdata": "VRBAz3yF3z8sUx8PeuveP1K4HoXrUeA/Wnf0RV184D/5KsYRmbPfP1UPP857hN4/HthHU0R/3j8E3+avMKvRPxuxh2h/lc0/lzyMbUJ3zz9vRXb2RvrQP9Z9QJR1H9A/Gnnnb3Fa0z9RuxK1K1HTP+CNps6vPdQ/S5MV7K+Y0D8WbsQxJGDXP6/2tnuMqdc/F4ZhGIZh2D+b83Cb83DbP6CzHR+ClNs/oXYlalei1j8P9G+mR2DZP0F7Ce0ltNc/ifEp087B2j//CXSn1zTcP7OH78nkY9s/wLOoeuX32T/12GOPPfbYP0X5mXToGtg/O6zH69ei2T+OthuQIHbZPw==",
          "dtype": "f8"
         }
        },
        {
         "legendgroup": "('llama3.1_8b_chat', 'cities_10k', 'base', 'main', 'prompt_only')",
         "line": {
          "width": 0
         },
         "mode": "lines",
         "name": "('llama3.1_8b_chat', 'cities_10k', 'base', 'main', 'prompt_only') +1 STD",
         "showlegend": false,
         "type": "scatter",
         "x": {
          "bdata": "AAECAwQFBgcICQoLDA0ODxAREhMUFRYXGBkaGxwdHh8=",
          "dtype": "i1"
         },
         "y": {
          "bdata": "Od2+HHoL4j9u1x9w/objP9xciO3Pv+I/l2gcp4g74z+5PDDr/fbiPz56JKWnHeQ/ulOGP92m4j9WDZDaveflPyNc+ylpw+U/09SkNCHG4D85LIPfe03iP07oGRj3N+I/3jNvl2DB4j82FqA5N8XgP//VJZET8uA/Wp31tD5z4D/h+DEZgeTeP1COFcCgJ+A/COGlrSlg4D8Y4Yq2a43gPxRJewcKh+A/KCnvaqNW4T8s5pVKpofhPzpgh9wF0OE/a/MJ/Z1N4j82/fYwMWHjP8k7fzIRJOM/ViETXmpi4z/79zhKs6LjP8bq2weMx+M/AGClVYPh4j/4QcCWS/vhPw==",
          "dtype": "f8"
         }
        },
        {
         "fill": "tonexty",
         "fillcolor": "rgba(214, 39, 40, 0.3)",
         "legendgroup": "('llama3.1_8b_chat', 'cities_10k', 'base', 'main', 'prompt_only')",
         "line": {
          "width": 0
         },
         "mode": "lines",
         "name": "('llama3.1_8b_chat', 'cities_10k', 'base', 'main', 'prompt_only') -1 STD",
         "showlegend": false,
         "type": "scatter",
         "x": {
          "bdata": "AAECAwQFBgcICQoLDA0ODxAREhMUFRYXGBkaGxwdHh8=",
          "dtype": "i1"
         },
         "y": {
          "bdata": "ub/0fNkL3z9sk8oFGy3gPzABS5I/7uA/uWucVfi94D/W3P+vQf/fP1CFXHUe294/BEr9gnvx3j8MscI7QMjYP5QqJpVPftE/pZFJftFWyT/EybHNMGnOPwbLcaiGl8s/x5Mku3830T+6kLh8BhvTP7fUYiaoptQ/UeP4CBUX1D+L65F5GAnZPzyFqk8do9k/5AKvWLBc2j+cPNLDjuDbP+VaXPRjltw/F6vIuns72T+8mN8LSIXbP6dEvL2jm9k/UiMvbkrE3D/gwTSeQszeP0fRfXXp7tw/fOMzku623D8y35yEeEPcP4+6j2Uu7Ng/LMewmEqz3D/clSCTuenYPw==",
          "dtype": "f8"
         }
        },
        {
         "legendgroup": "('llama3.1_8b_chat', 'cities_10k', 'base', 'main', 'prompt_only')",
         "marker": {
          "color": "#d62728",
          "opacity": 0.5,
          "size": 6
         },
         "mode": "markers",
         "name": "('llama3.1_8b_chat', 'cities_10k', 'base', 'main', 'prompt_only') Fold ('direction_f1_score', 0)",
         "showlegend": false,
         "type": "scatter",
         "x": {
          "bdata": "AAECAwQFBgcICQoLDA0ODxAREhMUFRYXGBkaGxwdHh8=",
          "dtype": "i1"
         },
         "y": {
          "bdata": "Cf7XMAOh4D+j9G6mebbhP/KvaGOl7OE/xTmqHA7A4T8R1iQR1iThP3l/HxGdO+I/HthHU0R/3j9eJGySYp7jP5t65wT/zOM/fCAUK26o1z8XkPVLnirfP14PxgENCt8/IFZBDpgA4T84gwlqh/TiP6MdpQVEDeM/7mhyX4U54T/j7OnqP87eP4ICiOFukd8/C8erbe4h4D/sInFIY5jgP/Hw8PDw8OA/KpmSKZmS4T+DUmHi/cjhPz0jkmXSM+I/338PvNhn4j/Zuzo7yTTjP1VVVVVVVeM/MgWhf3Qb4z8zMzMzMzPjP7ulCsFH3eI/xituQFqB4j+JlF8yY4DhPw==",
          "dtype": "f8"
         }
        },
        {
         "legendgroup": "('llama3.1_8b_chat', 'cities_10k', 'base', 'main', 'prompt_only')",
         "marker": {
          "color": "#d62728",
          "opacity": 0.5,
          "size": 6
         },
         "mode": "markers",
         "name": "('llama3.1_8b_chat', 'cities_10k', 'base', 'main', 'prompt_only') Fold ('direction_f1_score', 1)",
         "showlegend": false,
         "type": "scatter",
         "x": {
          "bdata": "AAECAwQFBgcICQoLDA0ODxAREhMUFRYXGBkaGxwdHh8=",
          "dtype": "i1"
         },
         "y": {
          "bdata": "MCV1CQz44j/m2oG5dmDiP/mKr/iKr+I/i4JFwaJg4T9kiQCLoW/gP3on8gK+X98/tEd/9ujP3j8E3+avMKvRP8mAeqZy3dE/k85/k85/0z/6URyM+CvWP33OEt1A9dM/0ihL5fnv1T9YZ0kDwzLZP4mAuVm84do/V0b/oGJ42j/oNtVjbFjcPx/KdB/KdN8/4ohwkYcK4D99rj9eBqPgP+vAQshYCt8/oXYlalei1j8P9G+mR2DZP38oJBfwets/vu/7vu/73j//CXSn1zTcP7OH78nkY9s/wLOoeuX32T/12GOPPfbYP5ZYYoklltg/O6zH69ei2T8+QCwdgzDcPw==",
          "dtype": "f8"
         }
        },
        {
         "legendgroup": "('llama3.1_8b_chat', 'cities_10k', 'base', 'main', 'prompt_only')",
         "marker": {
          "color": "#d62728",
          "opacity": 0.5,
          "size": 6
         },
         "mode": "markers",
         "name": "('llama3.1_8b_chat', 'cities_10k', 'base', 'main', 'prompt_only') Fold ('direction_f1_score', 2)",
         "showlegend": false,
         "type": "scatter",
         "x": {
          "bdata": "AAECAwQFBgcICQoLDA0ODxAREhMUFRYXGBkaGxwdHh8=",
          "dtype": "i1"
         },
         "y": {
          "bdata": "VRBAz3yF3z8hHTLJ1ZbhP3FsmsP3W+I/Q9TNoGXH4z/FqOFvU4ziP9X31PfU9+Q/WlpaWlpa4j+y4rryZ3zhP7JAAKOvheM/VqQMPN2azz8sUbsStSvRP9Z9QJR1H9A/KYdXJumO0z+TWzy5xZPbPyZx8L41sto//A26XSsn3D+O1D5eDRTeP7gHNnpXZN4/QFSvJyLt3T8VqPUrBWrdP+7u7u7u7t4//2h/tD/a3z8Y9AV9QV/gP4vUw+dAgeA/ATL8UI1k4T/dDFp2PKfiP6WUUkoppeI/oHJ2C78a4z+/PxUHrTnjP8eubyarlOM/+iNxtewu4j+/KXFLMsziPw==",
          "dtype": "f8"
         }
        },
        {
         "legendgroup": "('llama3.1_8b_chat', 'cities_10k', 'base', 'main', 'prompt_only')",
         "marker": {
          "color": "#d62728",
          "opacity": 0.5,
          "size": 6
         },
         "mode": "markers",
         "name": "('llama3.1_8b_chat', 'cities_10k', 'base', 'main', 'prompt_only') Fold ('direction_f1_score', 3)",
         "showlegend": false,
         "type": "scatter",
         "x": {
          "bdata": "AAECAwQFBgcICQoLDA0ODxAREhMUFRYXGBkaGxwdHh8=",
          "dtype": "i1"
         },
         "y": {
          "bdata": "QUyuICZX4D/hdBd2vB7kP3YLvxoT6eE/2wocs06L4j/5KsYRmbPfP4nFAT56tuI/R011Hn//4T9AVw/Q1QPkP5czHY6in+Q/Ut/ZqO9s5D9TULW+KgXlPymTDkInGeU/uU992I775D82VEIS4ZzVP+6GGUPcbtg/k5GGdaXO2j+iVCcQIjfbP6NJrBDQyds/LnKpA/Ug3T+GvntlsyLdP0QLHlCAq94/z59bO1Wo3z/5wwGPPxzgP7n8EAX9PeA/Lyo1rCIM4T92n+/aMj3hPxEREREREeE/ATVWqCKH4D9R5SIhN6TgP7L2ICyez+E/3V/4VJbi4D+OthuQIHbZPw==",
          "dtype": "f8"
         }
        },
        {
         "legendgroup": "('llama3.1_8b_chat', 'cities_10k', 'base', 'main', 'prompt_only')",
         "marker": {
          "color": "#d62728",
          "opacity": 0.5,
          "size": 6
         },
         "mode": "markers",
         "name": "('llama3.1_8b_chat', 'cities_10k', 'base', 'main', 'prompt_only') Fold ('direction_f1_score', 4)",
         "showlegend": false,
         "type": "scatter",
         "x": {
          "bdata": "AAECAwQFBgcICQoLDA0ODxAREhMUFRYXGBkaGxwdHh8=",
          "dtype": "i1"
         },
         "y": {
          "bdata": "E6FzYY044D8sUx8PeuveP1K4HoXrUeA/Wnf0RV184D8lTg5T9W3jP1UPP857hN4/TjbZZJNN4j/asPE/csnjPxuxh2h/lc0/lzyMbUJ3zz9vRXb2RvrQP1JF2dMpRNA/Gnnnb3Fa0z9RuxK1K1HTP+CNps6vPdQ/S5MV7K+Y0D8WbsQxJGDXP6/2tnuMqdc/F4ZhGIZh2D+b83Cb83DbP6CzHR+ClNs/u8d7vMd73D98c1oPLoreP0F7Ce0ltNc/ifEp087B2j84/uzfqb7hP1s41XaZjt4//KguMWuh4D84PjW84N7gP0X5mXToGtg/OuM+VJyv4D8kTak4+/DZPw==",
          "dtype": "f8"
         }
        },
        {
         "legendgroup": "('llama3.1_8b_chat', 'football_leagues_1k', 'base', 'main', 'prompt_answer')",
         "line": {
          "color": "#9467bd",
          "width": 2
         },
         "marker": {
          "size": 8
         },
         "mode": "lines+markers",
         "name": "('llama3.1_8b_chat', 'football_leagues_1k', 'base', 'main', 'prompt_answer')",
         "type": "scatter",
         "x": {
          "bdata": "AAECAwQFBgcICQoLDA0ODxAREhMUFRYXGBkaGxwdHh8=",
          "dtype": "i1"
         },
         "y": {
          "bdata": "hzVund9r4z/6D7m1j6jhPwkUFlvXneA/ejkRu96N3j8gVA5SxXTgP2WjSJ5m1OI/eKE2yxdK5D/P0yWvS5bjP+mV1sz8MeU/WOMk54ym5D/y+ifmvwLkP7UR1j25AeQ/MtxtgvCX5D/U95xDjsTkP2N1VwCKV+M/8kCUsdIw5D+9JQTZbvbkP9S0Ezap7+M/1x1bivY44j9CPOoTyH3iP3GxmlbIE+I/z9bpzMkH4j9VFwyAXsLiP0xAD9VoVOM/L+7dbUXx4j9Y8fg2NYrhPyK06zMIIeI/Zv1LH1hu4T9m/UsfWG7hP+jmB4xN5eA/WDngl4sx2z/ySZyjfObhPw==",
          "dtype": "f8"
         }
        },
        {
         "legendgroup": "('llama3.1_8b_chat', 'football_leagues_1k', 'base', 'main', 'prompt_answer')",
         "line": {
          "width": 0
         },
         "mode": "lines",
         "name": "('llama3.1_8b_chat', 'football_leagues_1k', 'base', 'main', 'prompt_answer') Max",
         "showlegend": false,
         "type": "scatter",
         "x": {
          "bdata": "AAECAwQFBgcICQoLDA0ODxAREhMUFRYXGBkaGxwdHh8=",
          "dtype": "i1"
         },
         "y": {
          "bdata": "+rWHXFYM5D9FPusGU+TjPwAAAAAAAOU/xMPDw8PD4z+gcnYLvxrjP1VVVVVVVeU/V2qlVmql5j/JZ91ginzmP8ln3WCKfOY/hmEYhmEY5j/KayivobzmP1VVVVVVVeU/BhZYYIEF5j/WDzoq8MXlP3waYbmnEeY/Y31orA+N5T/WDzoq8MXlP1VVVVVVVeU/FRUVFRUV5T+35odFysDjP5d6Mn671OM/sHdMDewd4z/0PM/zPM/jPy+QSfECmeQ/zczMzMzM5D8GfUFf0BfkPy+QSfECmeQ/sHdMDewd4z+wd0wN7B3jP2wor6G8huI/pSN7BqLS4T9VVVVVVVXlPw==",
          "dtype": "f8"
         }
        },
        {
         "fill": "tonexty",
         "fillcolor": "rgba(148, 103, 189, 0.1)",
         "legendgroup": "('llama3.1_8b_chat', 'football_leagues_1k', 'base', 'main', 'prompt_answer')",
         "line": {
          "width": 0
         },
         "mode": "lines",
         "name": "('llama3.1_8b_chat', 'football_leagues_1k', 'base', 'main', 'prompt_answer') Min",
         "showlegend": false,
         "type": "scatter",
         "x": {
          "bdata": "AAECAwQFBgcICQoLDA0ODxAREhMUFRYXGBkaGxwdHh8=",
          "dtype": "i1"
         },
         "y": {
          "bdata": "dNFFF1104T8nr6G8hvLaPwnGW9nnkNo/CtejcD0K1z8K16NwPQrXP0iSJEmSJNk/jBgxYsSI4T8AAAAAAADeP7B3TA3sHeM/sHdMDewd4z/mnHPOOefcP3TRRRdddOE/C1nIQhay4D+SJEmSJEniP+xRuB6F6+E/d8QdcUfc4T/Oyk+Is/LjP5IkSZIkSeI/mqZpmqZp2j/xFV/xFV/hP1AHdVAHdeA/3t3d3d3d3T/43nvvvffeP/EVX/EVX+E/8RVf8RVf4T9f8RVf8RXfP1AHdVAHdeA/HR4eHh4e3j8dHh4eHh7eP3VfHlsRNNw/4eUUvJyC1z8cuZEbuZHbPw==",
          "dtype": "f8"
         }
        },
        {
         "legendgroup": "('llama3.1_8b_chat', 'football_leagues_1k', 'base', 'main', 'prompt_answer')",
         "line": {
          "width": 0
         },
         "mode": "lines",
         "name": "('llama3.1_8b_chat', 'football_leagues_1k', 'base', 'main', 'prompt_answer') +1 STD",
         "showlegend": false,
         "type": "scatter",
         "x": {
          "bdata": "AAECAwQFBgcICQoLDA0ODxAREhMUFRYXGBkaGxwdHh8=",
          "dtype": "i1"
         },
         "y": {
          "bdata": "KawNbyWG5D98nXR6QVbkP/TsvuL08uM/DrFmOnyW4j+ecfnTH5DjPyvdzUo/g+Y/nMPcHHxS5j+KK+Mmx8bmP1wfw2SrnOY/SFq9tnLX5T+ysE9C6DrnPxhnFyNYmOU/ywztXvvP5j8e4rqrBS3mPyni+lSrFuU/FEb6Q2Wk5T+apNt5DanlPwPCY/9BCOU/fu467SNo5T9rYYtDk5fjPyXE6aQNjuM/M6YyqnHH4z/q93YiqZzkP5QbDrRAi+Q/zXcn8qVh5D+0M/42WWDjP4G6N7g83eM/SQmocd0I4z9JCahx3QjjP2+N7/vVCeM/z48xvHEF4D9B9mCAyLXkPw==",
          "dtype": "f8"
         }
        },
        {
         "fill": "tonexty",
         "fillcolor": "rgba(148, 103, 189, 0.3)",
         "legendgroup": "('llama3.1_8b_chat', 'football_leagues_1k', 'base', 'main', 'prompt_answer')",
         "line": {
          "width": 0
         },
         "mode": "lines",
         "name": "('llama3.1_8b_chat', 'football_leagues_1k', 'base', 'main', 'prompt_answer') -1 STD",
         "showlegend": false,
         "type": "scatter",
         "x": {
          "bdata": "AAECAwQFBgcICQoLDA0ODxAREhMUFRYXGBkaGxwdHh8=",
          "dtype": "i1"
         },
         "y": {
          "bdata": "5b7Oy5lR4j/wBPvhu/XdPzx22qZzkdo/2BBVAcXu1z9EbUag1bLaPz3ThuMbS94/VH+QebNB4j8UfGg30GXgP3YM6jROx+M/aGyMF6d14z8yRQCKl8rgP1K8lFgaa+I/mavupeVf4j+KDX/bFlzjP50ItKtomOE/0DsuH0C94j/gpiw40EPkP6Wnw2wQ1+I/YZr2TpIT3j8ZF0nk/GPhP72eSwiDmeA/aweh7yFI4D/ANqHdE+jgPwRlEPaQHeI/kWSU6eSA4T/4XedtImjfP8Otn6/TZOA/BuPfmaWn3z8G49+ZpaffP8OAQDiKgd0/EVNdtzNY1j9GO6+NYS7ePw==",
          "dtype": "f8"
         }
        },
        {
         "legendgroup": "('llama3.1_8b_chat', 'football_leagues_1k', 'base', 'main', 'prompt_answer')",
         "marker": {
          "color": "#9467bd",
          "opacity": 0.5,
          "size": 6
         },
         "mode": "markers",
         "name": "('llama3.1_8b_chat', 'football_leagues_1k', 'base', 'main', 'prompt_answer') Fold ('direction_f1_score', 0)",
         "showlegend": false,
         "type": "scatter",
         "x": {
          "bdata": "AAECAwQFBgcICQoLDA0ODxAREhMUFRYXGBkaGxwdHh8=",
          "dtype": "i1"
         },
         "y": {
          "bdata": "l3oyfrvU4z+XejJ+u9TjPwAAAAAAAOU/AAAAAAAA4D8AAAAAAADgP8JyTyMs9+Q/V2qlVmql5j/JZ91ginzmP8ln3WCKfOY/VVVVVVVV5T/KayivobzmP05vetOb3uQ/BhZYYIEF5j/WDzoq8MXlP1z41ZhID+Q/l3oyfrvU4z/Oyk+Is/LjP7fmh0XKwOM/kiRJkiRJ4j+SJEmSJEniP5IkSZIkSeI/RKUjewai4j/0PM/zPM/jP7fmh0XKwOM/mCKfdYMp4j9yHMdxHMfhP3Icx3Ecx+E/chzHcRzH4T9yHMdxHMfhP5IkSZIkSeI/h8b60Fgf2j/T0tLS0tLiPw==",
          "dtype": "f8"
         }
        },
        {
         "legendgroup": "('llama3.1_8b_chat', 'football_leagues_1k', 'base', 'main', 'prompt_answer')",
         "marker": {
          "color": "#9467bd",
          "opacity": 0.5,
          "size": 6
         },
         "mode": "markers",
         "name": "('llama3.1_8b_chat', 'football_leagues_1k', 'base', 'main', 'prompt_answer') Fold ('direction_f1_score', 1)",
         "showlegend": false,
         "type": "scatter",
         "x": {
          "bdata": "AAECAwQFBgcICQoLDA0ODxAREhMUFRYXGBkaGxwdHh8=",
          "dtype": "i1"
         },
         "y": {
          "bdata": "lD7pkz7p4z9mZmZmZmbiPwP3EdxHcN8/3dMIyz2N4D/d0wjLPY3gP22yySabbOI/bzBFPusG4z+MGDFixIjhP7B3TA3sHeM/sHdMDewd4z9S39mo72zkPzi96U1veuM/OQUvp+Dl5D8V+OLqBx3lP+dAohU2B+I/Ffji6gcd5T8V+OLqBx3lP0IRilCEIuQ/Tm1qU5va5D+35odFysDjP5d6Mn671OM/aC+hvYT24j/0PM/zPM/jP/Q8z/M8z+M/kiRJkiRJ4j+SJEmSJEniP7B3TA3sHeM/sHdMDewd4z+wd0wN7B3jP2wor6G8huI/2Imd2Imd2D/Gkl8s+cXiPw==",
          "dtype": "f8"
         }
        },
        {
         "legendgroup": "('llama3.1_8b_chat', 'football_leagues_1k', 'base', 'main', 'prompt_answer')",
         "marker": {
          "color": "#9467bd",
          "opacity": 0.5,
          "size": 6
         },
         "mode": "markers",
         "name": "('llama3.1_8b_chat', 'football_leagues_1k', 'base', 'main', 'prompt_answer') Fold ('direction_f1_score', 2)",
         "showlegend": false,
         "type": "scatter",
         "x": {
          "bdata": "AAECAwQFBgcICQoLDA0ODxAREhMUFRYXGBkaGxwdHh8=",
          "dtype": "i1"
         },
         "y": {
          "bdata": "Ccs9jbDc4z9FPusGU+TjP7B3TA3sHeM/xMPDw8PD4z+gcnYLvxrjP05talOb2uQ/WclKVrKS5T9lTVlT1pTlP9LU+bWHXOY/hmEYhmEY5j9VVVVVVVXlP1VVVVVVVeU/WchCFrKQ5T9VVVVVVVXlP3waYbmnEeY/Y31orA+N5T9VVVVVVVXlP1VVVVVVVeU/FRUVFRUV5T+D8zE4H4PjP7B3TA3sHeM/v/aQy4qB4j+Uk5OTk5PjPy+QSfECmeQ/Bn1BX9AX5D8GfUFf0BfkPy+QSfECmeQ/v/aQy4qB4j+/9pDLioHiP7/2kMuKgeI/pSN7BqLS4T9VVVVVVVXlPw==",
          "dtype": "f8"
         }
        },
        {
         "legendgroup": "('llama3.1_8b_chat', 'football_leagues_1k', 'base', 'main', 'prompt_answer')",
         "marker": {
          "color": "#9467bd",
          "opacity": 0.5,
          "size": 6
         },
         "mode": "markers",
         "name": "('llama3.1_8b_chat', 'football_leagues_1k', 'base', 'main', 'prompt_answer') Fold ('direction_f1_score', 3)",
         "showlegend": false,
         "type": "scatter",
         "x": {
          "bdata": "AAECAwQFBgcICQoLDA0ODxAREhMUFRYXGBkaGxwdHh8=",
          "dtype": "i1"
         },
         "y": {
          "bdata": "+rWHXFYM5D8nr6G8hvLaP+wb1r5h7ds/GBkZGRkZ2T+gcnYLvxrjP1VVVVVVVeU/q6qqqqqq5D8AAAAAAADeP1Tgi6sfdOQ/OQUvp+Dl5D/mnHPOOefcP3TRRRdddOE/C1nIQhay4D+SJEmSJEniP0SlI3sGouI/L5BJ8QKZ5D+llFJKKaXkP5IkSZIkSeI/8xrKayiv4T+MGDFixIjhPwtZyEIWsuA/3t3d3d3d3T/43nvvvffeP/EVX/EVX+E/8RVf8RVf4T8AAAAAAADgPwtZyEIWsuA/C1nIQhay4D8LWchCFrLgP3VfHlsRNNw/L6G9hPYS2j872rxPccngPw==",
          "dtype": "f8"
         }
        },
        {
         "legendgroup": "('llama3.1_8b_chat', 'football_leagues_1k', 'base', 'main', 'prompt_answer')",
         "marker": {
          "color": "#9467bd",
          "opacity": 0.5,
          "size": 6
         },
         "mode": "markers",
         "name": "('llama3.1_8b_chat', 'football_leagues_1k', 'base', 'main', 'prompt_answer') Fold ('direction_f1_score', 4)",
         "showlegend": false,
         "type": "scatter",
         "x": {
          "bdata": "AAECAwQFBgcICQoLDA0ODxAREhMUFRYXGBkaGxwdHh8=",
          "dtype": "i1"
         },
         "y": {
          "bdata": "dNFFF1104T8LWchCFrLgPwnGW9nnkNo/CtejcD0K1z8K16NwPQrXP0iSJEmSJNk/jBgxYsSI4T9VVVVVVVXlP+1YgTDSjuU/9DzP8zzP4z/UdzbqOxvlPzkFL6fg5eQ/VxCTK4jJ5T9VVVVVVVXlP+xRuB6F6+E/d8QdcUfc4T/WDzoq8MXlP0MWspCFLOQ/mqZpmqZp2j/xFV/xFV/hP1AHdVAHdeA/sHdMDewd4z+wd0wN7B3jP7B3TA3sHeM/zczMzMzM5D9f8RVf8RXfP1AHdVAHdeA/HR4eHh4e3j8dHh4eHh7ePx0eHh4eHt4/4eUUvJyC1z8cuZEbuZHbPw==",
          "dtype": "f8"
         }
        },
        {
         "legendgroup": "('llama3.1_8b_chat', 'football_leagues_1k', 'base', 'main', 'prompt_only')",
         "line": {
          "color": "#8c564b",
          "width": 2
         },
         "marker": {
          "size": 8
         },
         "mode": "lines+markers",
         "name": "('llama3.1_8b_chat', 'football_leagues_1k', 'base', 'main', 'prompt_only')",
         "type": "scatter",
         "x": {
          "bdata": "AAECAwQFBgcICQoLDA0ODxAREhMUFRYXGBkaGxwdHh8=",
          "dtype": "i1"
         },
         "y": {
          "bdata": "gngazAo/5T+CeBrMCj/lP4J4GswKP+U/gngazAo/5T+CeBrMCj/lP4J4GswKP+U/gngazAo/5T9VVVVVVVXlP4J4GswKP+U/VfM33j/75D9V8zfeP/vkP4J4GswKP+U/VVVVVVVV5T+CeBrMCj/lP1VVVVVVVeU/Y5cymS1Z5D8ew7in6VLkP5ac5rWw+eM/mcTVV/N+5D8r0uFGkp7kPxWBuIMX4OQ/O99PjZdu4j9YoaV68tLjP3qWmHdRPeI/yXvefgM75T9VVVVVVVXlP1WkxplKKOU/beYlSr2C5D9OgrXoG0/kP3ErFLdCceM/XVpPVb6b2j9tRMN+/tq/Pw==",
          "dtype": "f8"
         }
        },
        {
         "legendgroup": "('llama3.1_8b_chat', 'football_leagues_1k', 'base', 'main', 'prompt_only')",
         "line": {
          "width": 0
         },
         "mode": "lines",
         "name": "('llama3.1_8b_chat', 'football_leagues_1k', 'base', 'main', 'prompt_only') Max",
         "showlegend": false,
         "type": "scatter",
         "x": {
          "bdata": "AAECAwQFBgcICQoLDA0ODxAREhMUFRYXGBkaGxwdHh8=",
          "dtype": "i1"
         },
         "y": {
          "bdata": "VVVVVVVV5T9VVVVVVVXlP1VVVVVVVeU/VVVVVVVV5T9VVVVVVVXlP1VVVVVVVeU/VVVVVVVV5T9VVVVVVVXlP1VVVVVVVeU/VVVVVVVV5T9VVVVVVVXlP1VVVVVVVeU/VVVVVVVV5T9VVVVVVVXlP1VVVVVVVeU/VVVVVVVV5T8GFlhggQXmP9YPOirwxeU/WchCFrKQ5T9VVVVVVVXlP9YPOirwxeU/VVVVVVVV5T9VVVVVVVXlP7ZgC7ZgC+Y/VVVVVVVV5T9VVVVVVVXlP1VVVVVVVeU/Fl/xFV/x5T9VVVVVVVXlP1VVVVVVVeU/dVAHdVAH5T/6GJyPwfnYPw==",
          "dtype": "f8"
         }
        },
        {
         "fill": "tonexty",
         "fillcolor": "rgba(140, 86, 75, 0.1)",
         "legendgroup": "('llama3.1_8b_chat', 'football_leagues_1k', 'base', 'main', 'prompt_only')",
         "line": {
          "width": 0
         },
         "mode": "lines",
         "name": "('llama3.1_8b_chat', 'football_leagues_1k', 'base', 'main', 'prompt_only') Min",
         "showlegend": false,
         "type": "scatter",
         "x": {
          "bdata": "AAECAwQFBgcICQoLDA0ODxAREhMUFRYXGBkaGxwdHh8=",
          "dtype": "i1"
         },
         "y": {
          "bdata": "OQUvp+Dl5D85BS+n4OXkPzkFL6fg5eQ/OQUvp+Dl5D85BS+n4OXkPzkFL6fg5eQ/OQUvp+Dl5D9VVVVVVVXlPzkFL6fg5eQ/VOCLqx905D9U4IurH3TkPzkFL6fg5eQ/VVVVVVVV5T85BS+n4OXkP1VVVVVVVeU/kyZNmjRp4j9oL6G9hPbiPwai0pE9A+E/wzAMwzAM4z+XejJ+u9TjP9PS0tLS0uI/AAAAAAAA4D8UoQhFKELhP2ZmZmZmZtY/lxUDJbzR5D9VVVVVVVXlP1Tgi6sfdOQ/mCKfdYMp4j8AAAAAAADiPxZddNFFF90/AAAAAAAAAAAAAAAAAAAAAA==",
          "dtype": "f8"
         }
        },
        {
         "legendgroup": "('llama3.1_8b_chat', 'football_leagues_1k', 'base', 'main', 'prompt_only')",
         "line": {
          "width": 0
         },
         "mode": "lines",
         "name": "('llama3.1_8b_chat', 'football_leagues_1k', 'base', 'main', 'prompt_only') +1 STD",
         "showlegend": false,
         "type": "scatter",
         "x": {
          "bdata": "AAECAwQFBgcICQoLDA0ODxAREhMUFRYXGBkaGxwdHh8=",
          "dtype": "i1"
         },
         "y": {
          "bdata": "0rjz/+Jw5T/SuPP/4nDlP9K48//icOU/0rjz/+Jw5T/SuPP/4nDlP9K48//icOU/0rjz/+Jw5T9VVVVVVVXlP9K48//icOU/WFN1FJp25T9YU3UUmnblP9K48//icOU/VVVVVVVV5T/SuPP/4nDlP1VVVVVVVeU/11fAQ2qL5T+4hPvhNqPlPz09kHdQGuY/8vDOvM/A5T8e2BMi8E3lP2nl6DMRDOY/8nZtpI7K5D9Dl0US/p/lP//85UM5s+Y/IbJBwt115T9VVVVVVVXlP7x6SxoCjeU/eNDkgEAM5j8B0Opv2rLlP0wBg+vZaeY/ir8LBizy5T8S1AHLttHRPw==",
          "dtype": "f8"
         }
        },
        {
         "fill": "tonexty",
         "fillcolor": "rgba(140, 86, 75, 0.3)",
         "legendgroup": "('llama3.1_8b_chat', 'football_leagues_1k', 'base', 'main', 'prompt_only')",
         "line": {
          "width": 0
         },
         "mode": "lines",
         "name": "('llama3.1_8b_chat', 'football_leagues_1k', 'base', 'main', 'prompt_only') -1 STD",
         "showlegend": false,
         "type": "scatter",
         "x": {
          "bdata": "AAECAwQFBgcICQoLDA0ODxAREhMUFRYXGBkaGxwdHh8=",
          "dtype": "i1"
         },
         "y": {
          "bdata": "MjhBmDIN5T8yOEGYMg3lPzI4QZgyDeU/MjhBmDIN5T8yOEGYMg3lPzI4QZgyDeU/MjhBmDIN5T9VVVVVVVXlPzI4QZgyDeU/UpP6p+V/5D9Sk/qn5X/kPzI4QZgyDeU/VVVVVVVV5T8yOEGYMg3lP1VVVVVVVeU/79ak7vAm4z+EAXZtnALjP+/7PPQQ2eE/QJjc8hY94z84zK9rNO/jP8EciNMdtOM/hEcydqAS4D9tqwXj5gXiP+pfllbTjts/cUV7OykA5T9VVVVVVVXlP+7NQRmTw+Q/YvxmEzr54j+bNIBhXeviP5ZVpYKreOA/TmsOPUmmwj+0HQO6eEOevw==",
          "dtype": "f8"
         }
        },
        {
         "legendgroup": "('llama3.1_8b_chat', 'football_leagues_1k', 'base', 'main', 'prompt_only')",
         "marker": {
          "color": "#8c564b",
          "opacity": 0.5,
          "size": 6
         },
         "mode": "markers",
         "name": "('llama3.1_8b_chat', 'football_leagues_1k', 'base', 'main', 'prompt_only') Fold ('direction_f1_score', 0)",
         "showlegend": false,
         "type": "scatter",
         "x": {
          "bdata": "AAECAwQFBgcICQoLDA0ODxAREhMUFRYXGBkaGxwdHh8=",
          "dtype": "i1"
         },
         "y": {
          "bdata": "VVVVVVVV5T9VVVVVVVXlP1VVVVVVVeU/VVVVVVVV5T9VVVVVVVXlP1VVVVVVVeU/VVVVVVVV5T9VVVVVVVXlP1VVVVVVVeU/VVVVVVVV5T9VVVVVVVXlP1VVVVVVVeU/VVVVVVVV5T9VVVVVVVXlP1VVVVVVVeU/VVVVVVVV5T8GFlhggQXmP1VVVVVVVeU/VVVVVVVV5T9VVVVVVVXlP1VVVVVVVeU/VVVVVVVV5T9VVVVVVVXlP7ZgC7ZgC+Y/VVVVVVVV5T9VVVVVVVXlP1VVVVVVVeU/VVVVVVVV5T9VVVVVVVXlP1VVVVVVVeU/dVAHdVAH5T8dHh4eHh6uPw==",
          "dtype": "f8"
         }
        },
        {
         "legendgroup": "('llama3.1_8b_chat', 'football_leagues_1k', 'base', 'main', 'prompt_only')",
         "marker": {
          "color": "#8c564b",
          "opacity": 0.5,
          "size": 6
         },
         "mode": "markers",
         "name": "('llama3.1_8b_chat', 'football_leagues_1k', 'base', 'main', 'prompt_only') Fold ('direction_f1_score', 1)",
         "showlegend": false,
         "type": "scatter",
         "x": {
          "bdata": "AAECAwQFBgcICQoLDA0ODxAREhMUFRYXGBkaGxwdHh8=",
          "dtype": "i1"
         },
         "y": {
          "bdata": "VVVVVVVV5T9VVVVVVVXlP1VVVVVVVeU/VVVVVVVV5T9VVVVVVVXlP1VVVVVVVeU/VVVVVVVV5T9VVVVVVVXlP1VVVVVVVeU/VVVVVVVV5T9VVVVVVVXlP1VVVVVVVeU/VVVVVVVV5T9VVVVVVVXlP1VVVVVVVeU/VVVVVVVV5T9VVVVVVVXlP1VVVVVVVeU/VVVVVVVV5T9VVVVVVVXlP1VVVVVVVeU/AAAAAAAA4D9NMN7KPofkPxQ7sRM7seM/VVVVVVVV5T9VVVVVVVXlP1VVVVVVVeU/yFOCPCXI4z8UFBQUFBTkP6uqqqqqquI/AAAAAAAAAAAdHh4eHh6uPw==",
          "dtype": "f8"
         }
        },
        {
         "legendgroup": "('llama3.1_8b_chat', 'football_leagues_1k', 'base', 'main', 'prompt_only')",
         "marker": {
          "color": "#8c564b",
          "opacity": 0.5,
          "size": 6
         },
         "mode": "markers",
         "name": "('llama3.1_8b_chat', 'football_leagues_1k', 'base', 'main', 'prompt_only') Fold ('direction_f1_score', 2)",
         "showlegend": false,
         "type": "scatter",
         "x": {
          "bdata": "AAECAwQFBgcICQoLDA0ODxAREhMUFRYXGBkaGxwdHh8=",
          "dtype": "i1"
         },
         "y": {
          "bdata": "VVVVVVVV5T9VVVVVVVXlP1VVVVVVVeU/VVVVVVVV5T9VVVVVVVXlP1VVVVVVVeU/VVVVVVVV5T9VVVVVVVXlP1VVVVVVVeU/VOCLqx905D9U4IurH3TkPzkFL6fg5eQ/VVVVVVVV5T9VVVVVVVXlP1VVVVVVVeU/XkN5DeU15D8AAAAAAADkP9YPOirwxeU/WchCFrKQ5T+XejJ+u9TjP9YPOirwxeU/oNMGOm2g4z9VVVVVVVXlP1nIQhaykOU/VVVVVVVV5T9VVVVVVVXlP1VVVVVVVeU/VVVVVVVV5T9VVVVVVVXlP1VVVVVVVeU/TTDeyj6H5D/6GJyPwfnYPw==",
          "dtype": "f8"
         }
        },
        {
         "legendgroup": "('llama3.1_8b_chat', 'football_leagues_1k', 'base', 'main', 'prompt_only')",
         "marker": {
          "color": "#8c564b",
          "opacity": 0.5,
          "size": 6
         },
         "mode": "markers",
         "name": "('llama3.1_8b_chat', 'football_leagues_1k', 'base', 'main', 'prompt_only') Fold ('direction_f1_score', 3)",
         "showlegend": false,
         "type": "scatter",
         "x": {
          "bdata": "AAECAwQFBgcICQoLDA0ODxAREhMUFRYXGBkaGxwdHh8=",
          "dtype": "i1"
         },
         "y": {
          "bdata": "VVVVVVVV5T9VVVVVVVXlP1VVVVVVVeU/VVVVVVVV5T9VVVVVVVXlP1VVVVVVVeU/VVVVVVVV5T9VVVVVVVXlP1VVVVVVVeU/VVVVVVVV5T9VVVVVVVXlP1VVVVVVVeU/VVVVVVVV5T9VVVVVVVXlP1VVVVVVVeU/VOCLqx905D/TNE3TNE3jP22yySabbOI/MzMzMzMz4z9DFrKQhSzkPxX44uoHHeU/AAAAAAAA4D8UoQhFKELhPwtZyEIWsuA/VVVVVVVV5T9VVVVVVVXlP1VVVVVVVeU/mCKfdYMp4j8AAAAAAADiP1VVVVVVVeU/NWVNWVPW1D8AAAAAAAAAAA==",
          "dtype": "f8"
         }
        },
        {
         "legendgroup": "('llama3.1_8b_chat', 'football_leagues_1k', 'base', 'main', 'prompt_only')",
         "marker": {
          "color": "#8c564b",
          "opacity": 0.5,
          "size": 6
         },
         "mode": "markers",
         "name": "('llama3.1_8b_chat', 'football_leagues_1k', 'base', 'main', 'prompt_only') Fold ('direction_f1_score', 4)",
         "showlegend": false,
         "type": "scatter",
         "x": {
          "bdata": "AAECAwQFBgcICQoLDA0ODxAREhMUFRYXGBkaGxwdHh8=",
          "dtype": "i1"
         },
         "y": {
          "bdata": "OQUvp+Dl5D85BS+n4OXkPzkFL6fg5eQ/OQUvp+Dl5D85BS+n4OXkPzkFL6fg5eQ/OQUvp+Dl5D9VVVVVVVXlPzkFL6fg5eQ/VOCLqx905D9U4IurH3TkP1VVVVVVVeU/VVVVVVVV5T85BS+n4OXkP1VVVVVVVeU/kyZNmjRp4j9oL6G9hPbiPwai0pE9A+E/wzAMwzAM4z9S39mo72zkP9PS0tLS0uI/MzMzMzMz4z+rqqqqqqriP2ZmZmZmZtY/lxUDJbzR5D9VVVVVVVXlP1Tgi6sfdOQ/Fl/xFV/x5T/NzMzMzMzkPxZddNFFF90/Fl100UUX3T8X1EEd1EG9Pw==",
          "dtype": "f8"
         }
        },
        {
         "legendgroup": "('llama3.1_8b_chat', 'gsm8k', 'base_3_shot', 'main', 'prompt_answer')",
         "line": {
          "color": "#1f77b4",
          "width": 2
         },
         "marker": {
          "size": 8
         },
         "mode": "lines+markers",
         "name": "('llama3.1_8b_chat', 'gsm8k', 'base_3_shot', 'main', 'prompt_answer')",
         "type": "scatter",
         "x": {
          "bdata": "AAECAwQFBgcICQoLDA0ODxAREhMUFRYXGBkaGxwdHh8=",
          "dtype": "i1"
         },
         "y": {
          "bdata": "d+6Y6J2K4j9xFTzfpffhP5M5l1Vy/eE/LA26WaA54T/2/2hzYKziP0h5tDUP0uA//LEfeoOJ4D+mjNWKuxzhP0NifcIymuE/8EItcfCe4D8WIXOIoxfhPxgvEIc9DeE/z98MZJ754T8Ih+OJ4SHiP6YuTZ0h5eE/8NisQtVq4j87OfVHU3PiP7CT1eSjHeI/yOUUvc8R4j8AlxM54SniP3USBjTbGOI/aBU1uyzH4T/ZAR1Wd2bhP5as8/6OfeE/sKGNSRsK4T/KJmFlcNzgP0+F3EW3YeA/1eNnsm4X3j9nM08c8CzgP5Jodw82buA/aM89Bc4U3z8l4eJ2CXngPw==",
          "dtype": "f8"
         }
        },
        {
         "legendgroup": "('llama3.1_8b_chat', 'gsm8k', 'base_3_shot', 'main', 'prompt_answer')",
         "line": {
          "width": 0
         },
         "mode": "lines",
         "name": "('llama3.1_8b_chat', 'gsm8k', 'base_3_shot', 'main', 'prompt_answer') Max",
         "showlegend": false,
         "type": "scatter",
         "x": {
          "bdata": "AAECAwQFBgcICQoLDA0ODxAREhMUFRYXGBkaGxwdHh8=",
          "dtype": "i1"
         },
         "y": {
          "bdata": "0Bu/7CyX5D8UVPcQ9ZrjPwN/Cdiy5OI/L6l8GPfr4j+Vu8WiN4zjP4Mp8lk3mOI/izb9LAXR4T+Y3ZOHhVrjP76MPa+FF+Q/R31no76z4T8Opshn3WDiP1Pks24wReI/f9pCA5b04j9lV01U2VXjP1DCG02dX+M/IbfgbSB14z941OwviCvjP341JtIDleM/DpcBnxwu4z8kebfcQbjiPwIKPGhxqOI/d+cNZ5K14j86lb1dwbTiP/2III4OTeI/cE4drkb+4T+2RzOAQCHjP1cR+pwoV+E/Usl5WcQn4D9tsskmm2ziP8pUPNesDuM/YA0pdQbW4D9pNt3499bhPw==",
          "dtype": "f8"
         }
        },
        {
         "fill": "tonexty",
         "fillcolor": "rgba(31, 119, 180, 0.1)",
         "legendgroup": "('llama3.1_8b_chat', 'gsm8k', 'base_3_shot', 'main', 'prompt_answer')",
         "line": {
          "width": 0
         },
         "mode": "lines",
         "name": "('llama3.1_8b_chat', 'gsm8k', 'base_3_shot', 'main', 'prompt_answer') Min",
         "showlegend": false,
         "type": "scatter",
         "x": {
          "bdata": "AAECAwQFBgcICQoLDA0ODxAREhMUFRYXGBkaGxwdHh8=",
          "dtype": "i1"
         },
         "y": {
          "bdata": "kWnYbpYn4T9MomIsB9DgP3SHkugOJeE/G44pVb5/3T9cn68KbwfgPy2Xy+Vyudw/SnkE/QFU3T+d3OLJLZ7cP8kg1JiRJuA/RLV7MXrK3T96EScqTwvdP53neZ7ned4/RQ97o1L04D9FnB8HECThP7vQ1scn2eA/Qwfs9ljL4D8YJ4PIA1fhP1Uh+KhbquA/DVcCSUx/4D+GDtjtsZbhP86ESOmRJeE/winNiz+R4D9lSFOQ2/DfPwFdPUBXD+A/GuKPW5d34D/lAlVo9KveP6dUd7FWEd0/CT8fvV032T+mQrTh88fcPxzHcRzHcdw/idqVqF2J2j/NN2rVZNbePw==",
          "dtype": "f8"
         }
        },
        {
         "legendgroup": "('llama3.1_8b_chat', 'gsm8k', 'base_3_shot', 'main', 'prompt_answer')",
         "line": {
          "width": 0
         },
         "mode": "lines",
         "name": "('llama3.1_8b_chat', 'gsm8k', 'base_3_shot', 'main', 'prompt_answer') +1 STD",
         "showlegend": false,
         "type": "scatter",
         "x": {
          "bdata": "AAECAwQFBgcICQoLDA0ODxAREhMUFRYXGBkaGxwdHh8=",
          "dtype": "i1"
         },
         "y": {
          "bdata": "qaTET3fY4z+nHLv6s/7iPwbSLK4PqOI/uCBjr5u/4j/sEUBT0y3kP8yzyl+AxeI/FMX0Kd0L4j+karBTwfDiP0/TLFmNIeM/cg2E4+Co4T9B0IaU5Z3iP06Gmy3dLeI/UJ80fHev4j832qd9uwjjPyzK5Rf8COM/rMgLurd/4z8GEmeJPSTjP/K1rfgYeOM/wpJtemYh4z9e4fqcbJfiP+J8d1C/w+I/A38bSr+44j+Yq/pt4nPiP+jkM/MHZ+I/usLYvSOd4T93RlUq0ULiP7g4W4lZe+E/NupH9Ph14D8byxmq+6XhP65JqAsbNOI/GpcMMpXi4D8Q/9Mnt3LhPw==",
          "dtype": "f8"
         }
        },
        {
         "fill": "tonexty",
         "fillcolor": "rgba(31, 119, 180, 0.3)",
         "legendgroup": "('llama3.1_8b_chat', 'gsm8k', 'base_3_shot', 'main', 'prompt_answer')",
         "line": {
          "width": 0
         },
         "mode": "lines",
         "name": "('llama3.1_8b_chat', 'gsm8k', 'base_3_shot', 'main', 'prompt_answer') -1 STD",
         "showlegend": false,
         "type": "scatter",
         "x": {
          "bdata": "AAECAwQFBgcICQoLDA0ODxAREhMUFRYXGBkaGxwdHh8=",
          "dtype": "i1"
         },
         "y": {
          "bdata": "RThtgcQ84T87Dr3Dl/DgPyChAf3UUuE/QPMhCEpn3z8A7pGT7SrhP4h9PBc8vd0/yT2VlFMO3j9QXfWDa5HePzfxzSvYEuA/3PCs/f8p3z/V4774wiLfP8WvCcE72d8/TiDlS8VD4T/ZMx+WBzvhPyCTtCJHweA/NOlNy/JV4T9wYIMGacLhP25x/dAuw+A/zji8/zgC4T+iTCzVVbzhPwiolBf3beE/zatOLJrV4D8aWD8+DFngP0R0swoWlOA/poBC1RJ34D86DtpAH+zeP82juwQqkN4/PvM/fOtC2z9mNwkdyWfdP+wOjSaiUN0/nHBipnFk3D90huOLt/7ePw==",
          "dtype": "f8"
         }
        },
        {
         "legendgroup": "('llama3.1_8b_chat', 'gsm8k', 'base_3_shot', 'main', 'prompt_answer')",
         "marker": {
          "color": "#1f77b4",
          "opacity": 0.5,
          "size": 6
         },
         "mode": "markers",
         "name": "('llama3.1_8b_chat', 'gsm8k', 'base_3_shot', 'main', 'prompt_answer') Fold ('direction_f1_score', 0)",
         "showlegend": false,
         "type": "scatter",
         "x": {
          "bdata": "AAECAwQFBgcICQoLDA0ODxAREhMUFRYXGBkaGxwdHh8=",
          "dtype": "i1"
         },
         "y": {
          "bdata": "0Bu/7CyX5D8UVPcQ9ZrjP7Cu7Vzw3uE/wouFE9Si4T+4N+HehHvjP/jCZKpgVOI/tkwWOUBI4T9iGIZhGIbhPzr+wYVJDeE/R31no76z4T/scTeAqBXiPxIkvUMxmOE/f9pCA5b04j+SJEmSJEniP2B4Fhzj2+I/ZVdNVNlV4z941OwviCvjP341JtIDleM/DpcBnxwu4z/TMZcITwriPwIKPGhxqOI/d+cNZ5K14j86lb1dwbTiP/2III4OTeI/cE4drkb+4T+2RzOAQCHjP1cR+pwoV+E/Usl5WcQn4D9tsskmm2ziP8pUPNesDuM/0Z/ZwF3R3z9DWx+fZEPgPw==",
          "dtype": "f8"
         }
        },
        {
         "legendgroup": "('llama3.1_8b_chat', 'gsm8k', 'base_3_shot', 'main', 'prompt_answer')",
         "marker": {
          "color": "#1f77b4",
          "opacity": 0.5,
          "size": 6
         },
         "mode": "markers",
         "name": "('llama3.1_8b_chat', 'gsm8k', 'base_3_shot', 'main', 'prompt_answer') Fold ('direction_f1_score', 1)",
         "showlegend": false,
         "type": "scatter",
         "x": {
          "bdata": "AAECAwQFBgcICQoLDA0ODxAREhMUFRYXGBkaGxwdHh8=",
          "dtype": "i1"
         },
         "y": {
          "bdata": "wdETHD3B4T9fEQKx/BfiP8i/pVdtruE/jDHGGGOM4T+Vu8WiN4zjP2UZ4lgXt+E/izb9LAXR4T+04RIDv8vgP0U3wVknzeA/PzTWh8b64D8s+cWSXyzhP8DjDwc8/uA/9JL/6CX/4T9w4SgFF47iP7vQ1scn2eA/1RQ0gsVt4j+LjLVo08/iP0K5etqfqeI/GuzDAJbY4j8kebfcQbjiP913KtF9p+I/Uyu1Uiu14j+gV1mc0e7hP3FE/rtSb+E/lIRwOi4C4T/RCpsDiVbgP9+r5hNeSOA/yfPZMJg83z86uQ6zBRzfPyi5ribDu+A/XJ+vCm8H4D9pNt3499bhPw==",
          "dtype": "f8"
         }
        },
        {
         "legendgroup": "('llama3.1_8b_chat', 'gsm8k', 'base_3_shot', 'main', 'prompt_answer')",
         "marker": {
          "color": "#1f77b4",
          "opacity": 0.5,
          "size": 6
         },
         "mode": "markers",
         "name": "('llama3.1_8b_chat', 'gsm8k', 'base_3_shot', 'main', 'prompt_answer') Fold ('direction_f1_score', 2)",
         "showlegend": false,
         "type": "scatter",
         "x": {
          "bdata": "AAECAwQFBgcICQoLDA0ODxAREhMUFRYXGBkaGxwdHh8=",
          "dtype": "i1"
         },
         "y": {
          "bdata": "cD4G52Nw4j9MomIsB9DgP/GqxDYcXOI/URRFURRF4T9IUPwYc9fiP4Mp8lk3mOI/hMftM9/D4T+Y3ZOHhVrjP76MPa+FF+Q/O9q8T3HJ4D8Opshn3WDiP1Pks24wReI/RdBwUvfl4T9/qZK+QljhPx2RYqi/HOE/EhISEhIS4j+1oxjhgZXiP1Uh+KhbquA/aAhsXz0u4j+yGC54AmviP/GqxDYcXOI/winNiz+R4D9lSFOQ2/DfP26Bce5oReI/hTeaOr/24D/CKc2LP5HgP9op3rOUzuA/gw8++OCD3z+38KsxkR7gP4vQ50S5iuA/YA0pdQbW4D9fuyeYSQvhPw==",
          "dtype": "f8"
         }
        },
        {
         "legendgroup": "('llama3.1_8b_chat', 'gsm8k', 'base_3_shot', 'main', 'prompt_answer')",
         "marker": {
          "color": "#1f77b4",
          "opacity": 0.5,
          "size": 6
         },
         "mode": "markers",
         "name": "('llama3.1_8b_chat', 'gsm8k', 'base_3_shot', 'main', 'prompt_answer') Fold ('direction_f1_score', 3)",
         "showlegend": false,
         "type": "scatter",
         "x": {
          "bdata": "AAECAwQFBgcICQoLDA0ODxAREhMUFRYXGBkaGxwdHh8=",
          "dtype": "i1"
         },
         "y": {
          "bdata": "kWnYbpYn4T9lGeJYF7fhP3SHkugOJeE/G44pVb5/3T9cn68KbwfgPy2Xy+Vyudw/DOU1lNdQ3j9DeQ3lNZThP0kI3qR16uE/UOgpon694D+JC2aapE3hP4QLkxqiKeE/EhISEhIS4j9lV01U2VXjP1DCG02dX+M/IbfgbSB14z9Z8oslv1jiP4HgMtVY+uI/TZo0adKk4T+GDtjtsZbhP6uqqqqqquE/rRtMkc+64T9jq4Mfh5fhPwFdPUBXD+A/GuKPW5d34D80xB+3Lu/gPykJ1J/N8eA/Lp7c4skt3j/x37Rqh2PgP5SRkvgCMt8/NzkUsV9S3z/NN2rVZNbePw==",
          "dtype": "f8"
         }
        },
        {
         "legendgroup": "('llama3.1_8b_chat', 'gsm8k', 'base_3_shot', 'main', 'prompt_answer')",
         "marker": {
          "color": "#1f77b4",
          "opacity": 0.5,
          "size": 6
         },
         "mode": "markers",
         "name": "('llama3.1_8b_chat', 'gsm8k', 'base_3_shot', 'main', 'prompt_answer') Fold ('direction_f1_score', 4)",
         "showlegend": false,
         "type": "scatter",
         "x": {
          "bdata": "AAECAwQFBgcICQoLDA0ODxAREhMUFRYXGBkaGxwdHh8=",
          "dtype": "i1"
         },
         "y": {
          "bdata": "xRJLLLHE4j8QSu4ULZzhPwN/Cdiy5OI/L6l8GPfr4j/eHLqbQ3fjP+IZz3jGM94/SnkE/QFU3T+d3OLJLZ7cP8kg1JiRJuA/RLV7MXrK3T96EScqTwvdP53neZ7ned4/RQ97o1L04D9FnB8HECThP7ZMFjlASOE/Qwfs9ljL4D8YJ4PIA1fhP9rxX03bsOA/DVcCSUx/4D/SIA3SIA3iP86ESOmRJeE/0RIt0RIt4T/NzMzMzMzgPxKz9IGpYuE/zzsM8bzD4D/lAlVo9KveP6dUd7FWEd0/CT8fvV032T+mQrTh88fcPxzHcRzHcdw/idqVqF2J2j+L+SlvrZjfPw==",
          "dtype": "f8"
         }
        },
        {
         "legendgroup": "('llama3.1_8b_chat', 'gsm8k', 'base_3_shot', 'main', 'prompt_only')",
         "line": {
          "color": "#ff7f0e",
          "width": 2
         },
         "marker": {
          "size": 8
         },
         "mode": "lines+markers",
         "name": "('llama3.1_8b_chat', 'gsm8k', 'base_3_shot', 'main', 'prompt_only')",
         "type": "scatter",
         "x": {
          "bdata": "AAECAwQFBgcICQoLDA0ODxAREhMUFRYXGBkaGxwdHh8=",
          "dtype": "i1"
         },
         "y": {
          "bdata": "Lv7cfflP3j8B/+Z9I3rgPxkRFx+PNOA/kJ7IrMn83z+wP7nmGKLfP9IZI3L8Jt8/Xb3V2qra3j+7O+fCMPnfPx9N2FA7PuA/lr92ecYz4D+CboUahsngP7qH4RZrqOA/ZdLWvbsn4T8gkD8etlDhPzGkJqZtdOA/D8eq/uIR4T/OR7ZWKpLhPyhcas6wueE/7pY5M1De4T+4RpCVrGThP+1U//yQKeI/lU3prfBs4T/qEq/SBYThPwFxraSpxeE/TyqSUhMH4j82+IP9vqbhP55EBkb0nOE/y5iyDHqC4T/F5bzuWD/hP33VBSInUuE/DVCoZyfe4D8K18HNYBbfPw==",
          "dtype": "f8"
         }
        },
        {
         "legendgroup": "('llama3.1_8b_chat', 'gsm8k', 'base_3_shot', 'main', 'prompt_only')",
         "line": {
          "width": 0
         },
         "mode": "lines",
         "name": "('llama3.1_8b_chat', 'gsm8k', 'base_3_shot', 'main', 'prompt_only') Max",
         "showlegend": false,
         "type": "scatter",
         "x": {
          "bdata": "AAECAwQFBgcICQoLDA0ODxAREhMUFRYXGBkaGxwdHh8=",
          "dtype": "i1"
         },
         "y": {
          "bdata": "DiRaYXMg4T8QSu4ULZzhP41eqp8T1uA/Icx2Icx24T9eSBCqDPbgP6HaczJ9leA/iYHfZSg84T/x8PDw8PDgP3IVEAzJFuE/oryG8hrK4T83mCKfdYPhPxcmNURTYuE/mpmZmZmZ4j8T5ne1uAnjP0xido3T1+E/rbwoHcyU4T++XLEHwlbjPxK9ZxK9Z+I/7pFrhSDD4j96gqMnOHriP7qD/VYbQ+M/kiRJkiRJ4j/pZ1gv5b/iP9SuRO1K1OI/Y0vwbf4K4z9jMGF/ZGfiP9Rtbe4rkuI/DCbsj+xM4j9ZY+u5EQniPwAAAAAAAOI/fhxeRk094j+eA7Q7GtngPw==",
          "dtype": "f8"
         }
        },
        {
         "fill": "tonexty",
         "fillcolor": "rgba(255, 127, 14, 0.1)",
         "legendgroup": "('llama3.1_8b_chat', 'gsm8k', 'base_3_shot', 'main', 'prompt_only')",
         "line": {
          "width": 0
         },
         "mode": "lines",
         "name": "('llama3.1_8b_chat', 'gsm8k', 'base_3_shot', 'main', 'prompt_only') Min",
         "showlegend": false,
         "type": "scatter",
         "x": {
          "bdata": "AAECAwQFBgcICQoLDA0ODxAREhMUFRYXGBkaGxwdHh8=",
          "dtype": "i1"
         },
         "y": {
          "bdata": "iIiIiIiI2D+g6lZrOt/eP5nnRBDSn94/CKr0M6fB3T+fyhH6AarcP4jSuWyGKN0/LodjC5X33D/1AIaFwn/ePxM9uJqwQ90/jC666KKL3j8BXT1AVw/gP1+hXqFeod4/np6enp6e3j/60Y9+9KPfP9imQIwZrdw/9daGae6C3z/T+fZomQfgP54DtDsa2eA/0Qu90Au94D8UyX0y55vgP9Np+fhvd+A/H3r7XjWf4D+oy1INOg/gP+i15vgP3OA/YcPZaZmr4D/R8Fuart7gPyxRuxK1K+E/QRwdmuRf4D+myGfdYIrgP48Tn9qtMOA/HDuK8FWx3j/WMYpzHaPYPw==",
          "dtype": "f8"
         }
        },
        {
         "legendgroup": "('llama3.1_8b_chat', 'gsm8k', 'base_3_shot', 'main', 'prompt_only')",
         "line": {
          "width": 0
         },
         "mode": "lines",
         "name": "('llama3.1_8b_chat', 'gsm8k', 'base_3_shot', 'main', 'prompt_only') +1 STD",
         "showlegend": false,
         "type": "scatter",
         "x": {
          "bdata": "AAECAwQFBgcICQoLDA0ODxAREhMUFRYXGBkaGxwdHh8=",
          "dtype": "i1"
         },
         "y": {
          "bdata": "TDq+vGoW4T/P7nNv3n/hP5vJDPuWyuA/cjOiAq8R4T+AhhKKhvjgPwOxMoZ5jOA/RaKLQPmQ4D90KSHiOsrgP6mw7aC3POE/9p788lRU4T+EC2Z3fGjhP9v2P/5iieE/YbN5xyJ84j+5346Zo3XiP20jpmQYwOE/K93l4DTX4T+Ik3aTG8jiP2vIB/FtTeI/Ow/BXzO74j9mrJmXakDiP92sNrdjQuM/TEtRX7go4j+UJKPbHI3iPx9tEk3PmOI/MzfZ47oP4z9gHp+KV0PiP9Ql3w5RL+I/TpQTrWdC4j9JBJD9VtDhPxp/QGbbDuI/HpjgOoIR4j/HOCt8lF7hPw==",
          "dtype": "f8"
         }
        },
        {
         "fill": "tonexty",
         "fillcolor": "rgba(255, 127, 14, 0.3)",
         "legendgroup": "('llama3.1_8b_chat', 'gsm8k', 'base_3_shot', 'main', 'prompt_only')",
         "line": {
          "width": 0
         },
         "mode": "lines",
         "name": "('llama3.1_8b_chat', 'gsm8k', 'base_3_shot', 'main', 'prompt_only') -1 STD",
         "showlegend": false,
         "type": "scatter",
         "x": {
          "bdata": "AAECAwQFBgcICQoLDA0ODxAREhMUFRYXGBkaGxwdHh8=",
          "dtype": "i1"
         },
         "y": {
          "bdata": "w4c9gh1z2j9mHrQY0ejePy2xQoYOPd8/PdZMVDXW3T9hck25JFPdP53R4NcFNd0/MDaUNGOT3D+OJIzB613ePyrThQF+f94/a8Dh/28m3j+A0aS9jyrgPzExBl/mjt8/0uJnaKmm3z+HQPCiyCvgP+pJTs+FUd4/87BvHJFM4D8U/PUZOVzgP+XvzKvzJeE/oR6yBm0B4T8K4YaT7ojgP/38x0K+EOE/3k+B/Cix4D9AAbvJ7nrgP+N0SPyD8uA/ax1LwWv+4D8M0mhwJgrhP2hjLX2XCuE/SJ1RbIzC4D9Bx+nfWq7gP+Ary91yleA/+Q/gKJlV3z+GPC2jmG/bPw==",
          "dtype": "f8"
         }
        },
        {
         "legendgroup": "('llama3.1_8b_chat', 'gsm8k', 'base_3_shot', 'main', 'prompt_only')",
         "marker": {
          "color": "#ff7f0e",
          "opacity": 0.5,
          "size": 6
         },
         "mode": "markers",
         "name": "('llama3.1_8b_chat', 'gsm8k', 'base_3_shot', 'main', 'prompt_only') Fold ('direction_f1_score', 0)",
         "showlegend": false,
         "type": "scatter",
         "x": {
          "bdata": "AAECAwQFBgcICQoLDA0ODxAREhMUFRYXGBkaGxwdHh8=",
          "dtype": "i1"
         },
         "y": {
          "bdata": "ABEyhV2T3D8QSu4ULZzhP85o97D1beA/CKr0M6fB3T+fyhH6AarcP4jSuWyGKN0/59ChQ4cO3T/1AIaFwn/eP3lfPPV8B+A/DiyyPAwV3z9NXOnegDLhP1+hXqFeod4/JJWptV9+4D+rLxW0+lLhPxdaBcae8uA/7lUwS8oB4T/T+fZomQfgP54DtDsa2eA/0Qu90Au94D8UyX0y55vgP9Np+fhvd+A/H3r7XjWf4D+oy1INOg/gP3htmZ4IBuE/bR8HBXxI4T/R8Fuart7gP3O9EA2gqOE/QRwdmuRf4D+myGfdYIrgP48Tn9qtMOA/HDuK8FWx3j/H1MDeMTXgPw==",
          "dtype": "f8"
         }
        },
        {
         "legendgroup": "('llama3.1_8b_chat', 'gsm8k', 'base_3_shot', 'main', 'prompt_only')",
         "marker": {
          "color": "#ff7f0e",
          "opacity": 0.5,
          "size": 6
         },
         "mode": "markers",
         "name": "('llama3.1_8b_chat', 'gsm8k', 'base_3_shot', 'main', 'prompt_only') Fold ('direction_f1_score', 1)",
         "showlegend": false,
         "type": "scatter",
         "x": {
          "bdata": "AAECAwQFBgcICQoLDA0ODxAREhMUFRYXGBkaGxwdHh8=",
          "dtype": "i1"
         },
         "y": {
          "bdata": "DiRaYXMg4T9OAnGh5iTgP5nnRBDSn94/JJWptV9+4D8HkCYL2LngP6HaczJ9leA/270YPeWO3z+OVzSt8sXgP0/mQ7qT+eA/ANEWLov/4D/aA2YPmD3gPxcmNURTYuE/mpmZmZmZ4j8T5ne1uAnjP7W0tLS0tOA/pPMWQzpv4T9WKwvzYDPhPzu5vAg+BeI/7pFrhSDD4j/8dyYUbCzhP6HSCiqtoOI/edrjKiAY4j8yDdvN8iTiP09pXTyL9OE/YcPZaZmr4D+yexMhuzfhPyxRuxK1K+E/4Wx+H4o14T9JkiRJkiThP0/QuXtVUuE/aQ/KPKuo4T+eA7Q7GtngPw==",
          "dtype": "f8"
         }
        },
        {
         "legendgroup": "('llama3.1_8b_chat', 'gsm8k', 'base_3_shot', 'main', 'prompt_only')",
         "marker": {
          "color": "#ff7f0e",
          "opacity": 0.5,
          "size": 6
         },
         "mode": "markers",
         "name": "('llama3.1_8b_chat', 'gsm8k', 'base_3_shot', 'main', 'prompt_only') Fold ('direction_f1_score', 2)",
         "showlegend": false,
         "type": "scatter",
         "x": {
          "bdata": "AAECAwQFBgcICQoLDA0ODxAREhMUFRYXGBkaGxwdHh8=",
          "dtype": "i1"
         },
         "y": {
          "bdata": "N4CoFdJ14D9oPtcfL4PhP7EPx4zyeeA/grl2YK4d4D8t8MoCryzgP8YOCfWuOd8/zJlP7gM43j8PDw8PDw/fPxM9uJqwQ90/9wX8V8XR3j8BXT1AVw/gP2/hV2MiPeA/AWmhSkY54j+gNUnn0EDhP3BwcHBwcOA/knEiGSeS4T++XLEHwlbjP2sSoviLnOE/q6qqqqqq4j96iyGdtxjiP7qD/VYbQ+M/kiRJkiRJ4j/pZ1gv5b/iP4H5QHZhMeI/v13qyfjt4j96uGt7j8XhP1YrC/NgM+E/fpxouX734T8Epgdn8/vgP5AWqmSUI+E/fhxeRk094j+/rTRrXCzgPw==",
          "dtype": "f8"
         }
        },
        {
         "legendgroup": "('llama3.1_8b_chat', 'gsm8k', 'base_3_shot', 'main', 'prompt_only')",
         "marker": {
          "color": "#ff7f0e",
          "opacity": 0.5,
          "size": 6
         },
         "mode": "markers",
         "name": "('llama3.1_8b_chat', 'gsm8k', 'base_3_shot', 'main', 'prompt_only') Fold ('direction_f1_score', 3)",
         "showlegend": false,
         "type": "scatter",
         "x": {
          "bdata": "AAECAwQFBgcICQoLDA0ODxAREhMUFRYXGBkaGxwdHh8=",
          "dtype": "i1"
         },
         "y": {
          "bdata": "2RSReW5H3z/a9UHTol3fP41eqp8T1uA/Icx2Icx24T9eSBCqDPbgPySVqbVffuA/iYHfZSg84T/x8PDw8PDgP3IVEAzJFuE/oryG8hrK4T83mCKfdYPhP1WMpwczVOE/5zT+yxsm4T9FnB8HECThP0xido3T1+E/rbwoHcyU4T8U0LH5bvjhPxK9ZxK9Z+I/KoPXn5vR4T96gqMnOHriP8hzoROxuuI/DfcqmCXl4D+1W2GgS5rhP9SuRO1K1OI/nUcf9lM24j+ug1c9Xf7hP0uv2lzjduE/DCbsj+xM4j9ZY+u5EQniPwExGu8r9OE/kWnYbpYn4T/WMYpzHaPYPw==",
          "dtype": "f8"
         }
        },
        {
         "legendgroup": "('llama3.1_8b_chat', 'gsm8k', 'base_3_shot', 'main', 'prompt_only')",
         "marker": {
          "color": "#ff7f0e",
          "opacity": 0.5,
          "size": 6
         },
         "mode": "markers",
         "name": "('llama3.1_8b_chat', 'gsm8k', 'base_3_shot', 'main', 'prompt_only') Fold ('direction_f1_score', 4)",
         "showlegend": false,
         "type": "scatter",
         "x": {
          "bdata": "AAECAwQFBgcICQoLDA0ODxAREhMUFRYXGBkaGxwdHh8=",
          "dtype": "i1"
         },
         "y": {
          "bdata": "iIiIiIiI2D+g6lZrOt/eP0sV0GvN8d8/NTnIvJQI3j+04ogXU8fdPz3AsQj/ON0/LodjC5X33D+piaT9WuHeP9cHTYt2feA/jC666KKL3j8r0+u2uOzgPxrCg3K/BeE/np6enp6e3j/60Y9+9KPfP9imQIwZrdw/9daGae6C3z8LFSpUqFDhP29AmbjSveE/DSd1Xx5b4T+WEmjgG5zgP6p0WWPrueE/sRM7sRM74T8awoNyvwXhP+i15vgP3OA/Y0vwbf4K4z9jMGF/ZGfiP9Rtbe4rkuI/TrCMPIiy4T+MGDFixIjhPwAAAAAAAOI/croHOBbh3z+J+vXCuivgPw==",
          "dtype": "f8"
         }
        },
        {
         "legendgroup": "('llama3.1_8b_chat', 'gsm8k', 'cot_3_shot', 'main', 'prompt_answer')",
         "line": {
          "color": "#2ca02c",
          "width": 2
         },
         "marker": {
          "size": 8
         },
         "mode": "lines+markers",
         "name": "('llama3.1_8b_chat', 'gsm8k', 'cot_3_shot', 'main', 'prompt_answer')",
         "type": "scatter",
         "x": {
          "bdata": "AAECAwQFBgcICQoLDA0ODxAREhMUFRYXGBkaGxwdHh8=",
          "dtype": "i1"
         },
         "y": {
          "bdata": "zoMV2b6d4T/xR1mjCyDhP6oo05P0LuA/Sr7lpThI4T9CrkbW+HbgP8Zr81PiauA/oYYbf6UU4D/QhHZ/38DfP87KxF0+1uA/Vj+tG+hA3z/CVej5u2PgP8d0YVcAleA/+sCplKwn4D8adAjhzrPgPwMNjTV0ueE/5iBjmIKB4T81c0bFX5PhP7i6Xq0A3eE/u2Hz7WcS4j967waP3//hP55pxKHlFuE/4l96EL034j/TuSEYOpfhPxPVi4rHpeE/XJNjVNc24T86LXMn9BfhP3PeTzpDteA/MvXlyWvo3z96vkIJjw3hP6CCTtZuQt8/ixmSSZDf3j/1iPtYZHHhPw==",
          "dtype": "f8"
         }
        },
        {
         "legendgroup": "('llama3.1_8b_chat', 'gsm8k', 'cot_3_shot', 'main', 'prompt_answer')",
         "line": {
          "width": 0
         },
         "mode": "lines",
         "name": "('llama3.1_8b_chat', 'gsm8k', 'cot_3_shot', 'main', 'prompt_answer') Max",
         "showlegend": false,
         "type": "scatter",
         "x": {
          "bdata": "AAECAwQFBgcICQoLDA0ODxAREhMUFRYXGBkaGxwdHh8=",
          "dtype": "i1"
         },
         "y": {
          "bdata": "AAAAAAAA4z8irjIFzAfiPzmGzVyyxOE/hXSzAbYS4j9ALVyM23ziP4I4l3XCEuI/bTPGJVJL4T8hMcG0CBLjPxF1InxCVeI/C6o9J9NX4T/z7coT7W7iP0HJfG+DZeI/zaYb/9464j/dIXOHzB3iP52p5cJdfeM/edBb9yfn4j+MMDHCxAjjP419mhu+a+I/vGViTtYF4z/y48ePHz/iPyZ4ME/Uv+E/SSnKjpvH4j8Pg6JOLi/iPwlPCpI/r+I/0kH6lR9H4j8gLYG0BNLiP6uqqqqqquI/iMb60Fgf4j+pDe2uV2XiP7l6RJO4sOA/Mg/JPCTz4D/BeCv7HFLjPw==",
          "dtype": "f8"
         }
        },
        {
         "fill": "tonexty",
         "fillcolor": "rgba(44, 160, 44, 0.1)",
         "legendgroup": "('llama3.1_8b_chat', 'gsm8k', 'cot_3_shot', 'main', 'prompt_answer')",
         "line": {
          "width": 0
         },
         "mode": "lines",
         "name": "('llama3.1_8b_chat', 'gsm8k', 'cot_3_shot', 'main', 'prompt_answer') Min",
         "showlegend": false,
         "type": "scatter",
         "x": {
          "bdata": "AAECAwQFBgcICQoLDA0ODxAREhMUFRYXGBkaGxwdHh8=",
          "dtype": "i1"
         },
         "y": {
          "bdata": "Sw+//qg23j+3H4H7EbjfPxwCTLDKgNw/eB+C9yF43z/EFjM0KoTaP0O1zr6Iat0/R9uyA2Kl3j+jGhET/C3cP0O/+HL0At0/IvqA6thb2z9oblQEuIzcP4Po8V04iN4/0ZmXq/dK3T8jKsg2BBTfP5GI1mA2c+A/lGLRsgpu4D8RVHzX30TgP9E8oRYwJuE/0/aFwrR94T/3SdmX25HhP2BqDqGUR+A/qjtKZU7/4D8HdVAHdVDhP/UIc3TX6eA/FUaI7Es+4D/T7HqRtVXcPwah9UaG4t0/kfnSxGGs1j9Q3Q7V7VDdP2YCBo/lvdo/S5a/ZPlL1j+0qU1talPbPw==",
          "dtype": "f8"
         }
        },
        {
         "legendgroup": "('llama3.1_8b_chat', 'gsm8k', 'cot_3_shot', 'main', 'prompt_answer')",
         "line": {
          "width": 0
         },
         "mode": "lines",
         "name": "('llama3.1_8b_chat', 'gsm8k', 'cot_3_shot', 'main', 'prompt_answer') +1 STD",
         "showlegend": false,
         "type": "scatter",
         "x": {
          "bdata": "AAECAwQFBgcICQoLDA0ODxAREhMUFRYXGBkaGxwdHh8=",
          "dtype": "i1"
         },
         "y": {
          "bdata": "Wqhr3WUh4z8KCY5uJwTiP/i9rIj1jOE/7xtXfzou4j9lTbokkIPiPwN4u0gfquE/TdFZRW3V4D8WiXcMM8nhPzzo6hA2WuI/o/0bL1zx4D8FxMgTtwPiP3bEJwCjvuE/0Zy2JHWx4T/HJ1tE38/hP51lr5BG7uI/704O+qh84j+z7Diz4pDiP8IoVVxjaeI/dTVVMeG24j9ukokc4EPiP0vo4XwepOE/JvthICjr4j/BTkfANvDhP90PeuIgX+I/Z91AkbgU4j/shHoBEfDiP9vlSRrbKeI/q6BIhQy74j/xZ77hh4TiPzR6b2TL+eA/fruL7Xjd4T8eAqOV7bvjPw==",
          "dtype": "f8"
         }
        },
        {
         "fill": "tonexty",
         "fillcolor": "rgba(44, 160, 44, 0.3)",
         "legendgroup": "('llama3.1_8b_chat', 'gsm8k', 'cot_3_shot', 'main', 'prompt_answer')",
         "line": {
          "width": 0
         },
         "mode": "lines",
         "name": "('llama3.1_8b_chat', 'gsm8k', 'cot_3_shot', 'main', 'prompt_answer') -1 STD",
         "showlegend": false,
         "type": "scatter",
         "x": {
          "bdata": "AAECAwQFBgcICQoLDA0ODxAREhMUFRYXGBkaGxwdHh8=",
          "dtype": "i1"
         },
         "y": {
          "bdata": "Ql+/1Bca4D/YhiTY7zvgP7cm8z3nod0/pWB0zDZi4D8+HqYPw9TcPxG/Vr5KV94/6Xe6cbun3j909/3lWO/bP8BaPVWNpN4/ZoMi2Ref3D/+zg/AgYfdPy9KNl271t4/Rso5Ccg73T/agGv7fC/fP2m0atqhhOA/3fK3NlyG4D+3+VPX3JXgP65MaP6dUOE/AY6Rqu5t4T+GTIQB37vhP/HqpsasieA/nsSSAFKE4T/lJPxvPT7hP0manTJu7OA/UUmGF/ZY4D8Pq9earn/ePxauq7RWgd4/Dqk6ib5a2j8HKo5hLC3fP9gQvuNGkdw/G7wMuC4E2j+YH6g4tk3ePw==",
          "dtype": "f8"
         }
        },
        {
         "legendgroup": "('llama3.1_8b_chat', 'gsm8k', 'cot_3_shot', 'main', 'prompt_answer')",
         "marker": {
          "color": "#2ca02c",
          "opacity": 0.5,
          "size": 6
         },
         "mode": "markers",
         "name": "('llama3.1_8b_chat', 'gsm8k', 'cot_3_shot', 'main', 'prompt_answer') Fold ('direction_f1_score', 0)",
         "showlegend": false,
         "type": "scatter",
         "x": {
          "bdata": "AAECAwQFBgcICQoLDA0ODxAREhMUFRYXGBkaGxwdHh8=",
          "dtype": "i1"
         },
         "y": {
          "bdata": "Sw+//qg23j9orA+N9aHhP7AES7AES+A/hXSzAbYS4j/EFjM0KoTaP9MdauLuqd8/8N+dlXTw3z8PHygpVaPdP0O/+HL0At0/IvqA6thb2z8JLmzx0PffP0HJfG+DZeI/zaYb/9464j/dIXOHzB3iP52p5cJdfeM/edBb9yfn4j+MMDHCxAjjPzXkf8kgS+I/5eYnhRVw4j8cx3Ecx/HhPyZ4ME/Uv+E/qOPMHoJb4j+ScSIZJ5LhPybmLq3V5uE/0kH6lR9H4j8OMoztYIHiP6uqqqqqquI/iMb60Fgf4j/6KZcxfA3iPw0DkbLtmeA/lgck61x54D+4uFWwQfLgPw==",
          "dtype": "f8"
         }
        },
        {
         "legendgroup": "('llama3.1_8b_chat', 'gsm8k', 'cot_3_shot', 'main', 'prompt_answer')",
         "marker": {
          "color": "#2ca02c",
          "opacity": 0.5,
          "size": 6
         },
         "mode": "markers",
         "name": "('llama3.1_8b_chat', 'gsm8k', 'cot_3_shot', 'main', 'prompt_answer') Fold ('direction_f1_score', 1)",
         "showlegend": false,
         "type": "scatter",
         "x": {
          "bdata": "AAECAwQFBgcICQoLDA0ODxAREhMUFRYXGBkaGxwdHh8=",
          "dtype": "i1"
         },
         "y": {
          "bdata": "URZlURZl4T+Ojrr6Ao/gP6ULMIZJD98/eB+C9yF43z9ALVyM23ziP7vAdspQq+A/2qtkzORE3z+HH3744YffP2CBBRZYYOE/dQVju0fM3j/z7coT7W7iP3EDccpE1OA/eNAgGGxA4T9vGcIFuIPhP/ZSWjA5beE/2cBnDEcL4j/li9L+uprhP80JZ5RHAuI/nCmWrq3A4T/ipO7LYyviP6TVJETxF+E/qjtKZU7/4D/xFV/xFV/hP/UIc3TX6eA/uQRV+pnT4D8gLYG0BNLiPwah9UaG4t0/+p0zlxon3z9Q3Q7V7VDdPyRf/TKJzd8/OnOpcfLN3z/BeCv7HFLjPw==",
          "dtype": "f8"
         }
        },
        {
         "legendgroup": "('llama3.1_8b_chat', 'gsm8k', 'cot_3_shot', 'main', 'prompt_answer')",
         "marker": {
          "color": "#2ca02c",
          "opacity": 0.5,
          "size": 6
         },
         "mode": "markers",
         "name": "('llama3.1_8b_chat', 'gsm8k', 'cot_3_shot', 'main', 'prompt_answer') Fold ('direction_f1_score', 2)",
         "showlegend": false,
         "type": "scatter",
         "x": {
          "bdata": "AAECAwQFBgcICQoLDA0ODxAREhMUFRYXGBkaGxwdHh8=",
          "dtype": "i1"
         },
         "y": {
          "bdata": "AAAAAAAA4z+3H4H7EbjfPxwCTLDKgNw/sQ5hWot54T8EdSKJtXXhP0O1zr6Iat0/bTPGJVJL4T+U3BbfGEffP5wplq6twOE/ctrTjeH33z9oblQEuIzcP4Po8V04iN4//SHg/SHg3T8U+M+sh5bgP5GI1mA2c+A/lGLRsgpu4D8RVHzX30TgP419mhu+a+I/vGViTtYF4z/y48ePHz/iP9DmeIgKZ+E/q9w+9tBs4j8HdVAHdVDhPyntRkBKu+E/FUaI7Es+4D/QODE6uyLhPxyQvwH5G+A/9DE4H4Pz4T+oMSNNIO/gP7l6RJO4sOA/UKTLpHG14D/nDtg8cnjiPw==",
          "dtype": "f8"
         }
        },
        {
         "legendgroup": "('llama3.1_8b_chat', 'gsm8k', 'cot_3_shot', 'main', 'prompt_answer')",
         "marker": {
          "color": "#2ca02c",
          "opacity": 0.5,
          "size": 6
         },
         "mode": "markers",
         "name": "('llama3.1_8b_chat', 'gsm8k', 'cot_3_shot', 'main', 'prompt_answer') Fold ('direction_f1_score', 3)",
         "showlegend": false,
         "type": "scatter",
         "x": {
          "bdata": "AAECAwQFBgcICQoLDA0ODxAREhMUFRYXGBkaGxwdHh8=",
          "dtype": "i1"
         },
         "y": {
          "bdata": "IBHf3C9V4j8irjIFzAfiP4c5yboFE+E/NwrSTh184T/79u3bt2/fPxi4FpMczuA/R9uyA2Kl3j+jGhET/C3cP1h2nVp1N+A/lA4vCOB03z8mVxCTK4jhP/PF8E9cW+A/a9+w9g1r3z8jKsg2BBTfPzzijrgj7uA/07/QiDpH4T/CFPmsG0zhP9E8oRYwJuE/0/aFwrR94T/3SdmX25HhP2BqDqGUR+A/JbpDSXSH4j+DITQYQoPhPxT+x8CuAeE/MUh1nCvB4D/T7HqRtVXcPxCHCgsxLeA/kfnSxGGs1j+pDe2uV2XiP2YCBo/lvdo/S5a/ZPlL1j+0qU1talPbPw==",
          "dtype": "f8"
         }
        },
        {
         "legendgroup": "('llama3.1_8b_chat', 'gsm8k', 'cot_3_shot', 'main', 'prompt_answer')",
         "marker": {
          "color": "#2ca02c",
          "opacity": 0.5,
          "size": 6
         },
         "mode": "markers",
         "name": "('llama3.1_8b_chat', 'gsm8k', 'cot_3_shot', 'main', 'prompt_answer') Fold ('direction_f1_score', 4)",
         "showlegend": false,
         "type": "scatter",
         "x": {
          "bdata": "AAECAwQFBgcICQoLDA0ODxAREhMUFRYXGBkaGxwdHh8=",
          "dtype": "i1"
         },
         "y": {
          "bdata": "8uPHjx8/4j+/7gCmbIvhPzmGzVyyxOE/SxrVlquk4T8iPtIRWmbhP4I4l3XCEuI/L7rooosu4D8hMcG0CBLjPxF1InxCVeI/C6o9J9NX4T/wMpx/nXLfP/zAD/zAD+A/0ZmXq/dK3T8f+IEf+IHfP67ZG/9TU+I/yPCJutjf4D/GGueUY6zhPzr9ttKsceE/lnsaYbmn4T98EyG7NxHiPyFx+WsX7OA/SSnKjpvH4j8Pg6JOLi/iPwlPCpI/r+I/+wuljAP44T+500MgydbgP+fFn0g4peE/vaCIWnPI4D9v4B4WYDnhPwgw2uFuK98/Mg/JPCTz4D+Sl+mdb9DiPw==",
          "dtype": "f8"
         }
        },
        {
         "legendgroup": "('llama3.1_8b_chat', 'gsm8k', 'cot_3_shot', 'main', 'prompt_only')",
         "line": {
          "color": "#d62728",
          "width": 2
         },
         "marker": {
          "size": 8
         },
         "mode": "lines+markers",
         "name": "('llama3.1_8b_chat', 'gsm8k', 'cot_3_shot', 'main', 'prompt_only')",
         "type": "scatter",
         "x": {
          "bdata": "AAECAwQFBgcICQoLDA0ODxAREhMUFRYXGBkaGxwdHh8=",
          "dtype": "i1"
         },
         "y": {
          "bdata": "kt9Y4vcP4T+ABdKXToHhP76p6uKMCeI/SJ0Nzo7x4T8S7h0O1JviP3qpNVm/CuI/hQjZNRsN4j/M/Rltc8HhP9KI4cEqBeI/Q2oIO72T4T9aqOm0NrfhPwTt7poFH+E/dcjL5nNw4T+13u7MgZvhP3CgM5Cu7eE/Euo7emzI4T/1Gu2Ic9jhP7AOVpD5t+E/ExNMeyLE4T/iLU70nG7hPx1qCFCzXeE/ljwTmNpA4T9lHI3NWK/gP5NIvcuVFeE/cvWJQfKH4D9MCHVHkibhP0sDAZrekOA/pvpYNsnJ4D+OAx7UEV3hP6pnGt0zP+E/w5Pj48dq4j+iqOKryO/ePw==",
          "dtype": "f8"
         }
        },
        {
         "legendgroup": "('llama3.1_8b_chat', 'gsm8k', 'cot_3_shot', 'main', 'prompt_only')",
         "line": {
          "width": 0
         },
         "mode": "lines",
         "name": "('llama3.1_8b_chat', 'gsm8k', 'cot_3_shot', 'main', 'prompt_only') Max",
         "showlegend": false,
         "type": "scatter",
         "x": {
          "bdata": "AAECAwQFBgcICQoLDA0ODxAREhMUFRYXGBkaGxwdHh8=",
          "dtype": "i1"
         },
         "y": {
          "bdata": "ePMI1Wfa4j91KflvlmDiP9oAWwnpZuM/YMoTUfEm4z+IH6m5hnXjPwRLBIG5F+M/MA2RO48n4z8Sk/xuWvTiPxMOUJecWuM/PoXMdsaE4j9c8OMJ3VfiPy+wX0r40eI/Pq60xpI04z/wbbBM4oHiP3E69foNn+I/MzMzMzMz4z9jYOIAKkviP27AUE3HXOI/Gk7qvjy24j/i4eHh4eHhP1I+A1I+A+I/s/bHNBGO4T8JSuwBOD/hP5r6a5C3qOE/Pc/zPM/z4D9T9vhXtLHiPwfs9ljL0OE/mJeM5zst4T8meDBP1L/hP6BVp/sxQeI/bmJcCmhf4z9YfMVXfMXhPw==",
          "dtype": "f8"
         }
        },
        {
         "fill": "tonexty",
         "fillcolor": "rgba(214, 39, 40, 0.1)",
         "legendgroup": "('llama3.1_8b_chat', 'gsm8k', 'cot_3_shot', 'main', 'prompt_only')",
         "line": {
          "width": 0
         },
         "mode": "lines",
         "name": "('llama3.1_8b_chat', 'gsm8k', 'cot_3_shot', 'main', 'prompt_only') Min",
         "showlegend": false,
         "type": "scatter",
         "x": {
          "bdata": "AAECAwQFBgcICQoLDA0ODxAREhMUFRYXGBkaGxwdHh8=",
          "dtype": "i1"
         },
         "y": {
          "bdata": "GLAKrbQL3z+mF3Gi8rTgP0BFBrv2Zd4/xGI/R7fz4D8YakBwVivhP4QQQgghhOA/Tf4YR8XN4D9ZLp+Q1OzgPzw/poeBs+A/WS6fkNTs4D8wGAwGg8HgPyeUaOAWAd0/cVZ+QpyV3z+onN3Cr8bgPxX+RYV/UeE/tLnu13TL4D86y8+dskDhP8VXfMVXfOE/BHB+ovxd4T9FDdVJNvPgP+HQjoZl4eA/DqFbixrI4D+AqhwvwVPgP2xQvgbla+A/02m4e1kl4D/IAImnhgzgP7rOsUYiIN4/GAwGg8Fg4D/xKKvz3uTgP/7+/fv3798/UDU8kVRo4T93eHh4eHjYPw==",
          "dtype": "f8"
         }
        },
        {
         "legendgroup": "('llama3.1_8b_chat', 'gsm8k', 'cot_3_shot', 'main', 'prompt_only')",
         "line": {
          "width": 0
         },
         "mode": "lines",
         "name": "('llama3.1_8b_chat', 'gsm8k', 'cot_3_shot', 'main', 'prompt_only') +1 STD",
         "showlegend": false,
         "type": "scatter",
         "x": {
          "bdata": "AAECAwQFBgcICQoLDA0ODxAREhMUFRYXGBkaGxwdHh8=",
          "dtype": "i1"
         },
         "y": {
          "bdata": "ZwtR2yVs4j86nz3zdEfiP472HmoSyuM/FtamvvDh4j90gXu8mY/jP3JYhFuf/eI/WKD8CYfr4j+fLIScQYXiP817FRirBuM/j5MyM2Ar4j9CdBelC3ziP5EPcV7mtOI//J6vZdWw4j/Tidi5ezniPwujPI/EbuI/F62Zi8qp4j8sPPP+blDiPyZbHm1HFuI/8aLaZVZb4j8X7o04ocbhPzjYEjBKzuE/pJW+v56W4T9iNA8wrgjhP9kQtSpgpuE/Rnz7uGTq4D+hm9DvJDriP8H8fe5RtOE/BNAn8YsS4T80o6auf6vhP5OIPjf+POI/uKwCeUtN4z88HKKw0efhPw==",
          "dtype": "f8"
         }
        },
        {
         "fill": "tonexty",
         "fillcolor": "rgba(214, 39, 40, 0.3)",
         "legendgroup": "('llama3.1_8b_chat', 'gsm8k', 'cot_3_shot', 'main', 'prompt_only')",
         "line": {
          "width": 0
         },
         "mode": "lines",
         "name": "('llama3.1_8b_chat', 'gsm8k', 'cot_3_shot', 'main', 'prompt_only') -1 STD",
         "showlegend": false,
         "type": "scatter",
         "x": {
          "bdata": "AAECAwQFBgcICQoLDA0ODxAREhMUFRYXGBkaGxwdHh8=",
          "dtype": "i1"
         },
         "y": {
          "bdata": "eWfB0pNn3z/Ga2Y8KLvgP+5ctlsHSeA/emR03SwB4T+wWsBfDqjhP4L65lbfF+E/snC1Ya8u4T/5zq89pf3gP9eVrWuqA+E/90DeQhr84D9y3LvEYfLgP+6U2a5JEt8/7vHnZxIw4D+XMwXgh/3gP9WdKpGYbOE/DSfeaA7n4D+++eYSeGDhPzrCjbOrWeE/NYO9kO4s4T+tbQ6wmBbhPwL8/W8c7eA/iONncBbr4D9oBAtrA1bgP02AxWzLhOA/nm4Yyn8l4D/3dBmf/xLgP6kTCIvW2t4/SCWKewaB4D/oY5X5ow7hP8FG9oJpQeA/znrETkSI4T/LGIH27Q/aPw==",
          "dtype": "f8"
         }
        },
        {
         "legendgroup": "('llama3.1_8b_chat', 'gsm8k', 'cot_3_shot', 'main', 'prompt_only')",
         "marker": {
          "color": "#d62728",
          "opacity": 0.5,
          "size": 6
         },
         "mode": "markers",
         "name": "('llama3.1_8b_chat', 'gsm8k', 'cot_3_shot', 'main', 'prompt_only') Fold ('direction_f1_score', 0)",
         "showlegend": false,
         "type": "scatter",
         "x": {
          "bdata": "AAECAwQFBgcICQoLDA0ODxAREhMUFRYXGBkaGxwdHh8=",
          "dtype": "i1"
         },
         "y": {
          "bdata": "yy0MSnDJ3z91KflvlmDiP/6S5S9Z/uI/HMdxHMdx4T8xLI6Z8D7iPxm/XerJ+OE/amdARYS34T9HJMazo1XhP4YO2O2xluE/0651Ebuv4T/ipO7LYyviP1CjGB0sbOE//Iq+lfbu4T+BbszTR6vhPwK40YaN/+E/c+MVTat84T/y48ePHz/iP27AUE3HXOI/Gk7qvjy24j9LJjp+Ho3hP8724nsAD+E/s/bHNBGO4T+AqhwvwVPgP2xQvgbla+A/v7n9RNNM4D8ToXNhjTjgPwO1fqVArd8/GAwGg8Fg4D+ZSA9Uzm7hP6BVp/sxQeI/8NtuOcEy4j8WzU0QuQfbPw==",
          "dtype": "f8"
         }
        },
        {
         "legendgroup": "('llama3.1_8b_chat', 'gsm8k', 'cot_3_shot', 'main', 'prompt_only')",
         "marker": {
          "color": "#d62728",
          "opacity": 0.5,
          "size": 6
         },
         "mode": "markers",
         "name": "('llama3.1_8b_chat', 'gsm8k', 'cot_3_shot', 'main', 'prompt_only') Fold ('direction_f1_score', 1)",
         "showlegend": false,
         "type": "scatter",
         "x": {
          "bdata": "AAECAwQFBgcICQoLDA0ODxAREhMUFRYXGBkaGxwdHh8=",
          "dtype": "i1"
         },
         "y": {
          "bdata": "0axj0axj4T+mF3Gi8rTgP0BFBrv2Zd4/xGI/R7fz4D8VqmL7qLviP1bOAeSxOuI/Tf4YR8XN4D9rGnk2sabhPzw/poeBs+A/ntpaQNhj4T8wGAwGg8HgP6ZC22Ooi+E/44dziwId4T/lyCC/8pzhPxX+RYV/UeE/COcSN3Se4T9jYOIAKkviPzEBGQ0TkOE/BHB+ovxd4T98vjFtAkrhP6mVWqmVWuE/DqFbixrI4D80xpHWUcDgP9Eu0S7RLuE/Pc/zPM/z4D+8z1nrdjrhP+HaHkD5eeE/hw0bNmzY4D/xKKvz3uTgPwAAAAAAsOA/bXo6asdM4z9YfMVXfMXhPw==",
          "dtype": "f8"
         }
        },
        {
         "legendgroup": "('llama3.1_8b_chat', 'gsm8k', 'cot_3_shot', 'main', 'prompt_only')",
         "marker": {
          "color": "#d62728",
          "opacity": 0.5,
          "size": 6
         },
         "mode": "markers",
         "name": "('llama3.1_8b_chat', 'gsm8k', 'cot_3_shot', 'main', 'prompt_only') Fold ('direction_f1_score', 2)",
         "showlegend": false,
         "type": "scatter",
         "x": {
          "bdata": "AAECAwQFBgcICQoLDA0ODxAREhMUFRYXGBkaGxwdHh8=",
          "dtype": "i1"
         },
         "y": {
          "bdata": "n07ESTCn4T9tsyTTNkviP9oAWwnpZuM/tUw5Ov224j+IH6m5hnXjPwRLBIG5F+M/MA2RO48n4z8Sk/xuWvTiPxMOUJecWuM/PoXMdsaE4j9c8OMJ3VfiPy+wX0r40eI/9P3UeOkm4T+MFy9evHjhPygV6/fZH+I/MzMzMzMz4z86y8+dskDhP/Maymsor+E/aLn6Lr9l4T99EWSu13zhP+J2WpJGhuE/4U0+mEYF4T+2wuTzT5XgP92i+nY8lOA/02m4e1kl4D/IAImnhgzgPwfs9ljL0OE/U4wa/jbF4D/pIHSSUWXhP0T4X3FZGuE/t/QvNKLO4T93eHh4eHjYPw==",
          "dtype": "f8"
         }
        },
        {
         "legendgroup": "('llama3.1_8b_chat', 'gsm8k', 'cot_3_shot', 'main', 'prompt_only')",
         "marker": {
          "color": "#d62728",
          "opacity": 0.5,
          "size": 6
         },
         "mode": "markers",
         "name": "('llama3.1_8b_chat', 'gsm8k', 'cot_3_shot', 'main', 'prompt_only') Fold ('direction_f1_score', 3)",
         "showlegend": false,
         "type": "scatter",
         "x": {
          "bdata": "AAECAwQFBgcICQoLDA0ODxAREhMUFRYXGBkaGxwdHh8=",
          "dtype": "i1"
         },
         "y": {
          "bdata": "GLAKrbQL3z8ZCKry5wbhP8VXfMVXfOE/dNFFF1104T8YakBwVivhP4QQQgghhOA/y7Zk3c0w4j9ZLp+Q1OzgP+tXCtT6leI/WS6fkNTs4D8iEO2mGgLhPyeUaOAWAd0/cVZ+QpyV3z+onN3Cr8bgP38cCtJzlOE/tLnu13TL4D9ae+DSrnXhP8VXfMVXfOE/62b1knBe4T9FDdVJNvPgP+HQjoZl4eA/Ov220qxx4T+EEEIIIYTgP5r6a5C3qOE/FEVRFEVR4D+QwfkYnI/hP7rOsUYiIN4/taf0cE3F4D8meDBP1L/hP/7+/fv3798/UDU8kVRo4T+OefpoNQnhPw==",
          "dtype": "f8"
         }
        },
        {
         "legendgroup": "('llama3.1_8b_chat', 'gsm8k', 'cot_3_shot', 'main', 'prompt_only')",
         "marker": {
          "color": "#d62728",
          "opacity": 0.5,
          "size": 6
         },
         "mode": "markers",
         "name": "('llama3.1_8b_chat', 'gsm8k', 'cot_3_shot', 'main', 'prompt_only') Fold ('direction_f1_score', 4)",
         "showlegend": false,
         "type": "scatter",
         "x": {
          "bdata": "AAECAwQFBgcICQoLDA0ODxAREhMUFRYXGBkaGxwdHh8=",
          "dtype": "i1"
         },
         "y": {
          "bdata": "ePMI1Wfa4j/hHuEe4R7hP3xCVRIrG+M/YMoTUfEm4z9xRruHrW/jP2ZmZmZmZuI/5gDuZ+Fj4j/f9KY3venhP1f4jugK3+E/RtbtzYNd4T8zjMQFM03iP9vAIsvDUOE/Pq60xpI04z/wbbBM4oHiP3E69foNn+I/9drg01bQ4T/h+0arlvnhPxgV/kWFf+E/74AjRUP84T/i4eHh4eHhP1I+A1I+A+I/FUxHzSV34T8JSuwBOD/hPy9OvL1ClOE/V5O2NXrw4D9T9vhXtLHiP7MH1/LiouA/mJeM5zst4T8tBzf7hVjhP/G4feZ7OOI/bmJcCmhf4z/pjJMoq8jgPw==",
          "dtype": "f8"
         }
        },
        {
         "legendgroup": "('llama3.1_8b_chat', 'medals_9k', 'base', 'main', 'prompt_answer')",
         "line": {
          "color": "#9467bd",
          "width": 2
         },
         "marker": {
          "size": 8
         },
         "mode": "lines+markers",
         "name": "('llama3.1_8b_chat', 'medals_9k', 'base', 'main', 'prompt_answer')",
         "type": "scatter",
         "x": {
          "bdata": "AAECAwQFBgcICQoLDA0ODxAREhMUFRYXGBkaGxwdHh8=",
          "dtype": "i1"
         },
         "y": {
          "bdata": "uhKMpUfO5D81IFSV0jPlP0J4g9IwguQ/k6mIFROL5D9b85uw+bPkPz6lh4MHX+U/5lIK4jc/5T8t0Ts6fXHlP2/FdOzVgeU/H2vsaUsv5j+ZGyyMYSbmP2h5/7XJNuY/Stv9UmEm5j9N1IMSOgXmP54xCzMwKuY/DgWHplIV5j8OwxsUiCfmP9LMdNHMJ+Y/m7Twt5um5T8F2nRwr57lP0LgN+NuMeU/uJ5pI2Hb5D9xGhIxu9/kP8b5b6ZvJ+U/s7CaQvlx5D+6/ejaJhvkPzbjS4K9F+Q/mHdRL4DG4z8eG1DYdNbjP3dHZYi3B+Q/7uCK9Bwn5D8oF0k9EWjkPw==",
          "dtype": "f8"
         }
        },
        {
         "legendgroup": "('llama3.1_8b_chat', 'medals_9k', 'base', 'main', 'prompt_answer')",
         "line": {
          "width": 0
         },
         "mode": "lines",
         "name": "('llama3.1_8b_chat', 'medals_9k', 'base', 'main', 'prompt_answer') Max",
         "showlegend": false,
         "type": "scatter",
         "x": {
          "bdata": "AAECAwQFBgcICQoLDA0ODxAREhMUFRYXGBkaGxwdHh8=",
          "dtype": "i1"
         },
         "y": {
          "bdata": "/zGhYj9Y5T+aIqlKyJvlP9g838KqfOU/VeNCuU+b5T/uxX6N6+DlP167d9eRIeY/qT++fOP35T97RgdQcNPlP5C3ec6m9eU/AAAAAACA5j8E6l+K573mP/gu/pUMg+Y/CYSDUZF+5j+CpyB/VjfmP8lMm2rcZuY/G5QnmldH5j82XC4yx3rmP5t7/MnUQ+Y/aXFfyJbr5T/xzeqq2ejlP21tpK2NtOU/OvBMcv9p5T8wGhEgvGDlP9H4VK2ht+U/DiPPDSPP5T9y8s0fiavlP/PBkZADp+U/H++SxG7/4z/oSw9N8zPkPygnyesUZOQ/NnHg7uhy5D+ZW52RirnlPw==",
          "dtype": "f8"
         }
        },
        {
         "fill": "tonexty",
         "fillcolor": "rgba(148, 103, 189, 0.1)",
         "legendgroup": "('llama3.1_8b_chat', 'medals_9k', 'base', 'main', 'prompt_answer')",
         "line": {
          "width": 0
         },
         "mode": "lines",
         "name": "('llama3.1_8b_chat', 'medals_9k', 'base', 'main', 'prompt_answer') Min",
         "showlegend": false,
         "type": "scatter",
         "x": {
          "bdata": "AAECAwQFBgcICQoLDA0ODxAREhMUFRYXGBkaGxwdHh8=",
          "dtype": "i1"
         },
         "y": {
          "bdata": "ZAK9U9dy5D+rqqqqqqrkPzctV7zvReM/uSDjgowL4j/7O8PGWUfiPxfj5dcdwOQ/1Uqt1Eqt5D+LVz4Rs7nkP2QgtjNC6+Q/VEaiQhfK5T9c6d6AMnHlP31BX9AX9OU/a47/wA2h5T9TFPLbbK7lP5n1aTuBmOU/281JLqj85T/AkNCNpPnlPxUCTSHQFOY/RXRKdRdr5T8Qflv35jvlPyTAbzwWGeQ/pQRdhYFp4z+DRLEOjHHjP5bVu+TBgOM/OL3pTW964z8DJLuimHnjP/PIjKQPhOM/yagDmLWX4z8jtJSsq7jjP32y/yXfmuM/tUwiitHg4z+CaF4Pu/rjPw==",
          "dtype": "f8"
         }
        },
        {
         "legendgroup": "('llama3.1_8b_chat', 'medals_9k', 'base', 'main', 'prompt_answer')",
         "line": {
          "width": 0
         },
         "mode": "lines",
         "name": "('llama3.1_8b_chat', 'medals_9k', 'base', 'main', 'prompt_answer') +1 STD",
         "showlegend": false,
         "type": "scatter",
         "x": {
          "bdata": "AAECAwQFBgcICQoLDA0ODxAREhMUFRYXGBkaGxwdHh8=",
          "dtype": "i1"
         },
         "y": {
          "bdata": "/0PcJmQp5T+dVR3pto/lP9nnhulvbeU/8gs7bRL95T/O49RAfybmP+wSgnR49+U/muMRJkrK5T80gU0pMfXlPzi9MvX55uU/aTvRdON15j9t5Z5q0J/mPzAvm9DAd+Y/d16+hlZ/5j+UGpU9rTzmP5Qq+TcRfeY/GxRvlpA25j84JMFuplzmP+/QomYGOeY/Zt8BLMXh5T8I6Uk+4eblP36H0yBh0uU/yN8mrbev5T9AGTCTF6/lP5nPAiomFuY/fhYk6POM5T86YGkLKf7kP+ElTjjb+OQ/sn4fc47v4z+VIpqP8grkP1UzxSmCU+Q/vXv4o0Rd5D/pWHaXNiblPw==",
          "dtype": "f8"
         }
        },
        {
         "fill": "tonexty",
         "fillcolor": "rgba(148, 103, 189, 0.3)",
         "legendgroup": "('llama3.1_8b_chat', 'medals_9k', 'base', 'main', 'prompt_answer')",
         "line": {
          "width": 0
         },
         "mode": "lines",
         "name": "('llama3.1_8b_chat', 'medals_9k', 'base', 'main', 'prompt_answer') -1 STD",
         "showlegend": false,
         "type": "scatter",
         "x": {
          "bdata": "AAECAwQFBgcICQoLDA0ODxAREhMUFRYXGBkaGxwdHh8=",
          "dtype": "i1"
         },
         "y": {
          "bdata": "deE7JCtz5D/N6opB7tfkP6sIgLvxluM/NEfWvRMZ4z/oAmMgdEHjP5A3jZKWxuQ/MsICniW05D8mISpLye3kP6bNtuOxHOU/1ZoHX7Po5T/FUbmt8qzlP6DDY5vS9eU/HVg9H2zN5T8GjnLnxs3lP6g4HS5P1+U/AfaethT05T/kYXa5afLlP7XIRjyTFuY/0InfQ3Jr5T8Cy5+ifVblPwY5nKV8kOQ/qF2smQoH5D+iG/TOXhDkP/Mj3SK5OOQ/6EoRnf5W4z86m2iqJDjjP4ugScyfNuM/fnCD63Gd4z+nEwYh96HjP5lbBefsu+M/H0YdRfXw4z9n1Rvj66njPw==",
          "dtype": "f8"
         }
        },
        {
         "legendgroup": "('llama3.1_8b_chat', 'medals_9k', 'base', 'main', 'prompt_answer')",
         "marker": {
          "color": "#9467bd",
          "opacity": 0.5,
          "size": 6
         },
         "mode": "markers",
         "name": "('llama3.1_8b_chat', 'medals_9k', 'base', 'main', 'prompt_answer') Fold ('direction_f1_score', 0)",
         "showlegend": false,
         "type": "scatter",
         "x": {
          "bdata": "AAECAwQFBgcICQoLDA0ODxAREhMUFRYXGBkaGxwdHh8=",
          "dtype": "i1"
         },
         "y": {
          "bdata": "ZAK9U9dy5D/FGnDFGnDlP/rTTA59IuU/n5868ASX5D8fGutDY33kPxfj5dcdwOQ/1Uqt1Eqt5D+LVz4Rs7nkP7kViluhuOU/AAAAAACA5j8E6l+K573mP/gu/pUMg+Y/47PrTxVs5j+CpyB/VjfmPy3bONO3UOY//SXLX7L85T82XC4yx3rmP9qIVFfQIeY/RXRKdRdr5T8Qflv35jvlP1VVVVVVVeU/OvBMcv9p5T8wGhEgvGDlPxi82QQVW+U/2JJJTBPA4z/Ew8PDw8PjP7fmh0XKwOM/BWsQQTHD4z8jtJSsq7jjP6zhndFL9eM/tUwiitHg4z/PYjqL6SzkPw==",
          "dtype": "f8"
         }
        },
        {
         "legendgroup": "('llama3.1_8b_chat', 'medals_9k', 'base', 'main', 'prompt_answer')",
         "marker": {
          "color": "#9467bd",
          "opacity": 0.5,
          "size": 6
         },
         "mode": "markers",
         "name": "('llama3.1_8b_chat', 'medals_9k', 'base', 'main', 'prompt_answer') Fold ('direction_f1_score', 1)",
         "showlegend": false,
         "type": "scatter",
         "x": {
          "bdata": "AAECAwQFBgcICQoLDA0ODxAREhMUFRYXGBkaGxwdHh8=",
          "dtype": "i1"
         },
         "y": {
          "bdata": "veQrHb/J5D89Q4wjHy/lPzctV7zvReM/31b16Sgk5T99/TX3PGHlPy9DAEJXOeU/7Fqy1uNJ5T/r1P5HyxDlP2QgtjNC6+Q/MerumIE55j8Q9sZGqQTmP31BX9AX9OU/6euJ2WgE5j/6lSXn4PnlP4G+huevP+Y/nVpGxzUC5j/AkNCNpPnlPyYmJiYmJuY/ATW7XmRt5T9oETX5L93lPxzHcRzHceU/wc1LX5w55T8VmqQqNEnlP9H4VK2ht+U/zATod6i14z9YD1+s0b3jP/x2qSfjt+M/Vo2yFdCp4z/KLMnlSrzjP32y/yXfmuM/sH4s4L0L5D+CaF4Pu/rjPw==",
          "dtype": "f8"
         }
        },
        {
         "legendgroup": "('llama3.1_8b_chat', 'medals_9k', 'base', 'main', 'prompt_answer')",
         "marker": {
          "color": "#9467bd",
          "opacity": 0.5,
          "size": 6
         },
         "mode": "markers",
         "name": "('llama3.1_8b_chat', 'medals_9k', 'base', 'main', 'prompt_answer') Fold ('direction_f1_score', 2)",
         "showlegend": false,
         "type": "scatter",
         "x": {
          "bdata": "AAECAwQFBgcICQoLDA0ODxAREhMUFRYXGBkaGxwdHh8=",
          "dtype": "i1"
         },
         "y": {
          "bdata": "/zGhYj9Y5T+aIqlKyJvlP9g838KqfOU/VeNCuU+b5T9Cp6jj+nzlP0S19CNK1+U/K/scUhOM5T97RgdQcNPlP0ZZlEVZlOU/6553A05b5j+yZMmSJUvmPxzOXuQQdeY/CYSDUZF+5j/AGjg5RjPmP8lMm2rcZuY/G5QnmldH5j9W417gXzXmP5t7/MnUQ+Y/aXFfyJbr5T8E/bgyt6HlP00XPBRqYuU/wR4DkZDp5D881jbziAblP9GT6iuZn+U/kvsaLZB65T9y8s0fiavlP/PBkZADp+U/yagDmLWX4z/qN4mmV8LjPygnyesUZOQ/NnHg7uhy5D+ZW52RirnlPw==",
          "dtype": "f8"
         }
        },
        {
         "legendgroup": "('llama3.1_8b_chat', 'medals_9k', 'base', 'main', 'prompt_answer')",
         "marker": {
          "color": "#9467bd",
          "opacity": 0.5,
          "size": 6
         },
         "mode": "markers",
         "name": "('llama3.1_8b_chat', 'medals_9k', 'base', 'main', 'prompt_answer') Fold ('direction_f1_score', 3)",
         "showlegend": false,
         "type": "scatter",
         "x": {
          "bdata": "AAECAwQFBgcICQoLDA0ODxAREhMUFRYXGBkaGxwdHh8=",
          "dtype": "i1"
         },
         "y": {
          "bdata": "u03AF9Dq5D/AdVQMcB3lP8VzzeowyuQ/VVVVVVVV5T/uxX6N6+DlP167d9eRIeY/qT++fOP35T8uo6ycJ83lP5C3ec6m9eU/LEiVMpIN5j9c6d6AMnHlP4MWSznFG+Y/a47/wA2h5T9TFPLbbK7lP5n1aTuBmOU/281JLqj85T/oUEf+lvrlP27Tg65kJuY/gZR2IyCl5T+s5xNkxXXlPyTAbzwWGeQ/pQRdhYFp4z+DRLEOjHHjP5bVu+TBgOM/OL3pTW964z8DJLuimHnjP/PIjKQPhOM/H++SxG7/4z/ZIpqzBsXjP15DeQ3lNeQ/doMp8lk35D/TPxnMMf3jPw==",
          "dtype": "f8"
         }
        },
        {
         "legendgroup": "('llama3.1_8b_chat', 'medals_9k', 'base', 'main', 'prompt_answer')",
         "marker": {
          "color": "#9467bd",
          "opacity": 0.5,
          "size": 6
         },
         "mode": "markers",
         "name": "('llama3.1_8b_chat', 'medals_9k', 'base', 'main', 'prompt_answer') Fold ('direction_f1_score', 4)",
         "showlegend": false,
         "type": "scatter",
         "x": {
          "bdata": "AAECAwQFBgcICQoLDA0ODxAREhMUFRYXGBkaGxwdHh8=",
          "dtype": "i1"
         },
         "y": {
          "bdata": "yPZxUMCH5D+rqqqqqqrkP3ynQKSr2+M/uSDjgowL4j/7O8PGWUfiP1KjU3zU6OQ/7L347/HA5D++/zndW8zlPz2U+fpJW+U/VEaiQhfK5T/XWw3Y/kDmP/YJ9gn2CeY/MJb8Yskv5j/wuCLhNwfmPwMcc54rQ+Y/szYgUbUn5j8PruXFRSHmPxUCTSHQFOY/2NfX19fX5T/xzeqq2ejlP21tpK2NtOU/OTgXyTdS5T8vtbyoojzlP4vCWn0ckuU/DiPPDSPP5T8UC+ETC+HjP3WHK+ny0uM/tMU9OVvc4z/oSw9N8zPkP6NmGrlw/OM/mKRde74s5D8KDR469SnkPw==",
          "dtype": "f8"
         }
        },
        {
         "legendgroup": "('llama3.1_8b_chat', 'medals_9k', 'base', 'main', 'prompt_only')",
         "line": {
          "color": "#8c564b",
          "width": 2
         },
         "marker": {
          "size": 8
         },
         "mode": "lines+markers",
         "name": "('llama3.1_8b_chat', 'medals_9k', 'base', 'main', 'prompt_only')",
         "type": "scatter",
         "x": {
          "bdata": "AAECAwQFBgcICQoLDA0ODxAREhMUFRYXGBkaGxwdHh8=",
          "dtype": "i1"
         },
         "y": {
          "bdata": "BhpJYFlH4j/OYchPArTiP/Jom6ghIeM/4rKOayvt4j/+PxxvGVriP2YjrFXlwuI/kkyvcL/g4j/em4BS36XjP/seWpVubeM/eekrbnM94j8Dicfz8RXjPw6n71A/4eI/jedjSQyf4z/ahPBWcs7jP7YTCmUYauM/lod84K5/4z8Cv82+E+jjP20u847lu+M/kKJGxDaX4z+siwYdK3fjP2odI6iPgOM/RvvIrGIu4z+DwSmVPPHjP1fsX/eUteM/LpBYd+zz4z8DLYCK/hzkP05Z368W7uM/pG5LFdGK4z9P8sSbc7/jP1aUUqRFYuM/KyLDTHoK4z9SM9H59EriPw==",
          "dtype": "f8"
         }
        },
        {
         "legendgroup": "('llama3.1_8b_chat', 'medals_9k', 'base', 'main', 'prompt_only')",
         "line": {
          "width": 0
         },
         "mode": "lines",
         "name": "('llama3.1_8b_chat', 'medals_9k', 'base', 'main', 'prompt_only') Max",
         "showlegend": false,
         "type": "scatter",
         "x": {
          "bdata": "AAECAwQFBgcICQoLDA0ODxAREhMUFRYXGBkaGxwdHh8=",
          "dtype": "i1"
         },
         "y": {
          "bdata": "3szJUB324j946loObvbjPyy+4iu+4uM/TjUEot1U4z8y8ka6hmXjP+VUM4rW8uM/EKAeE7fW4z866ZZSFw/lP8yHWjwocOU/DYtZ8Vt45T+fRljuaYTlP8+KRgK+eeU/TY3itbpv5T9YJyQoY5nlP60tJa0tJeU/GYvzmRQV5D9QHVAfRGfkP7HyUSI6LuQ/lMbwk8bw4z8+2/4YuQ3kP2XPF2mA3uM/OQf8juTb4z/GI1t9e6XkPyyQ1DLl6OQ/FH+RMyy45D/g523SXcbkP0KpMPF+5OQ/23QOqEHb5D96HTVzYvLkP5JD/25q5+Q/2RgMdcZP5D8AAAAAAADkPw==",
          "dtype": "f8"
         }
        },
        {
         "fill": "tonexty",
         "fillcolor": "rgba(140, 86, 75, 0.1)",
         "legendgroup": "('llama3.1_8b_chat', 'medals_9k', 'base', 'main', 'prompt_only')",
         "line": {
          "width": 0
         },
         "mode": "lines",
         "name": "('llama3.1_8b_chat', 'medals_9k', 'base', 'main', 'prompt_only') Min",
         "showlegend": false,
         "type": "scatter",
         "x": {
          "bdata": "AAECAwQFBgcICQoLDA0ODxAREhMUFRYXGBkaGxwdHh8=",
          "dtype": "i1"
         },
         "y": {
          "bdata": "VkqUMyhy4T+wNlM2VavhP8ooKaOkjOI/SqVF3co34j93xB1xR9zhPyyG+R+CTeE/qhupbqS64T8Efnri5mTfPwrkn1XGmeA/TifnaTiz4D8jwje75NbgP/+LA+2wEOA/Iw6dtA+S4T+cf3xgZIfiPy8fh0np8uE/sfCZV53D4j8BWLpyrJjjP7kWCWoqROM/O4lvNmL84j/kow4o8ZriP78hwkZ+GOM/BHF0aJJ/4T/lcBnwyeHiP4RY1k+8AeI/2s1bxdgo4z9yqS5HHaDjP1QevItZaOM/qwmJ+iy14T+gEGflJ8ThP1W2dx3QjeE/+GspG5gg4D8RERERERHhPw==",
          "dtype": "f8"
         }
        },
        {
         "legendgroup": "('llama3.1_8b_chat', 'medals_9k', 'base', 'main', 'prompt_only')",
         "line": {
          "width": 0
         },
         "mode": "lines",
         "name": "('llama3.1_8b_chat', 'medals_9k', 'base', 'main', 'prompt_only') +1 STD",
         "showlegend": false,
         "type": "scatter",
         "x": {
          "bdata": "AAECAwQFBgcICQoLDA0ODxAREhMUFRYXGBkaGxwdHh8=",
          "dtype": "i1"
         },
         "y": {
          "bdata": "Bq7RmGT64j/H1fSWFbTjP7OjBFZfnOM/KHrg8XJw4z9+7wGR1vriP5ZnEeFu1OM/X2UQLcnJ4z8LCpN/5+flP3oSQdS65+U/tT+5mlsy5D/nmzjS2gPlP4SYHGlNUuU/GxXJFplB5T8c6e2X/PLkP7rrLH/nlOQ/N+hdmP8I5D/PKb2MpULkP1kQvPaTHOQ/SdIPfi774z9bXOj5UA/kP2pevxoX0OM/JCzS60In5D9P41kHQ5vkP1CTClBT1eQ/EMQY3/eL5D/wQ+ufIY3kP+e9msSFjOQ/F/uXx7u05D9KyFa8i/LkPwtoO4n/6uQ/pX1Kxt3L5D+zIS/l1pzjPw==",
          "dtype": "f8"
         }
        },
        {
         "fill": "tonexty",
         "fillcolor": "rgba(140, 86, 75, 0.3)",
         "legendgroup": "('llama3.1_8b_chat', 'medals_9k', 'base', 'main', 'prompt_only')",
         "line": {
          "width": 0
         },
         "mode": "lines",
         "name": "('llama3.1_8b_chat', 'medals_9k', 'base', 'main', 'prompt_only') -1 STD",
         "showlegend": false,
         "type": "scatter",
         "x": {
          "bdata": "AAECAwQFBgcICQoLDA0ODxAREhMUFRYXGBkaGxwdHh8=",
          "dtype": "i1"
         },
         "y": {
          "bdata": "BobAJ06U4T/V7ZsI77PhPzEuMvvjpeI/nOs85eNp4j9+kDZNXLnhPzbfRspbseE/xTNOtLX34T+xLW4l12PhP3wrc1Yi8+A/PZOeQYtI4D8fdlYVCSjhP5i1wjgxcOA//7n+e3/84T+YIPMV6KniP7I750pJP+I/9SabKF724j81VN7wgY3jP4FMKic3W+M/13J9Cj8z4z/9uiRABd/iP2rchjUIMeM/aMq/bYI14j+3n/kiNkfjP15FtZ7WleI/TFyYD+Fb4z8WFhV126zjP7X0I5unT+M/MeL+YuZg4j9UHDN7W4ziP6HAab+L2eE/scY70xZJ4T/xRHMOE/ngPw==",
          "dtype": "f8"
         }
        },
        {
         "legendgroup": "('llama3.1_8b_chat', 'medals_9k', 'base', 'main', 'prompt_only')",
         "marker": {
          "color": "#8c564b",
          "opacity": 0.5,
          "size": 6
         },
         "mode": "markers",
         "name": "('llama3.1_8b_chat', 'medals_9k', 'base', 'main', 'prompt_only') Fold ('direction_f1_score', 0)",
         "showlegend": false,
         "type": "scatter",
         "x": {
          "bdata": "AAECAwQFBgcICQoLDA0ODxAREhMUFRYXGBkaGxwdHh8=",
          "dtype": "i1"
         },
         "y": {
          "bdata": "3szJUB324j/3ysGKQIPjP3PIHXPIHeM/SqVF3co34j93xB1xR9zhP+lgCYWhD+M/qhupbqS64T/5pfmI8MfkP8yHWjwocOU/pQxRA1DK4D/ft5m8EYLkP8+KRgK+eeU/AnlGGxMm5T9YJyQoY5nlP60tJa0tJeU/GYvzmRQV5D/DfxQdOyTkP2ApUOtXCuQ/lMbwk8bw4z8+2/4YuQ3kP2XPF2mA3uM/Pjr56OSj4z+T+K4y20HkP/G4LrCdMuQ/ifuZv60V5D+yh1lAvkjkP4hEXsXwI+Q/QoKOb18c5D9d0No4h0jkPw7LjxbXV+Q/jDRA74kI5D8MjLx5iWTjPw==",
          "dtype": "f8"
         }
        },
        {
         "legendgroup": "('llama3.1_8b_chat', 'medals_9k', 'base', 'main', 'prompt_only')",
         "marker": {
          "color": "#8c564b",
          "opacity": 0.5,
          "size": 6
         },
         "mode": "markers",
         "name": "('llama3.1_8b_chat', 'medals_9k', 'base', 'main', 'prompt_only') Fold ('direction_f1_score', 1)",
         "showlegend": false,
         "type": "scatter",
         "x": {
          "bdata": "AAECAwQFBgcICQoLDA0ODxAREhMUFRYXGBkaGxwdHh8=",
          "dtype": "i1"
         },
         "y": {
          "bdata": "0hqt0Rqt4T9SCXdSCXfiP5MxGZMxGeM/TjUEot1U4z9ZFSLGUiriPyyG+R+CTeE/9kzrgoS14j8Efnri5mTfP4U0UwQx1uA/IzhKqgiO4j/L0AG7PdbiP+xRuB6F6+E/izR9UFjd4j8fWtmxcLXjPyLt9X5mv+M/y2ElcFDx4z9WJUvbEJ3jP5rdVmRJf+M/nz59+vTp4z8PWXODUAHkP78hwkZ+GOM/BHF0aJJ/4T/lcBnwyeHiP9SZxg2MOuM/LVzFP5Sb4z9yqS5HHaDjP1QevItZaOM/qwmJ+iy14T+gEGflJ8ThP3FkTsDz6eE/+GspG5gg4D+/O9Q9DrfhPw==",
          "dtype": "f8"
         }
        },
        {
         "legendgroup": "('llama3.1_8b_chat', 'medals_9k', 'base', 'main', 'prompt_only')",
         "marker": {
          "color": "#8c564b",
          "opacity": 0.5,
          "size": 6
         },
         "mode": "markers",
         "name": "('llama3.1_8b_chat', 'medals_9k', 'base', 'main', 'prompt_only') Fold ('direction_f1_score', 2)",
         "showlegend": false,
         "type": "scatter",
         "x": {
          "bdata": "AAECAwQFBgcICQoLDA0ODxAREhMUFRYXGBkaGxwdHh8=",
          "dtype": "i1"
         },
         "y": {
          "bdata": "VkqUMyhy4T+wNlM2VavhPyy+4iu+4uM/pSkVZx8+4z/3JqtWbm/iP+VUM4rW8uM/l7QlbUlb4j/g3FvoeNfjPx7oPVX7EeU/TifnaTiz4D8jwje75NbgP/+LA+2wEOA/Iw6dtA+S4T9695cU5vjjPy8fh0np8uE/z/DTGX464z9QHVAfRGfkP7HyUSI6LuQ/O4lvNmL84j/kow4o8ZriP31ABMiLT+M/sAJQTF614z/GI1t9e6XkPyyQ1DLl6OQ/FH+RMyy45D/g523SXcbkP0KpMPF+5OQ/23QOqEHb5D96HTVzYvLkP5JD/25q5+Q/GYvzmRQV5D8AAAAAAADkPw==",
          "dtype": "f8"
         }
        },
        {
         "legendgroup": "('llama3.1_8b_chat', 'medals_9k', 'base', 'main', 'prompt_only')",
         "marker": {
          "color": "#8c564b",
          "opacity": 0.5,
          "size": 6
         },
         "mode": "markers",
         "name": "('llama3.1_8b_chat', 'medals_9k', 'base', 'main', 'prompt_only') Fold ('direction_f1_score', 3)",
         "showlegend": false,
         "type": "scatter",
         "x": {
          "bdata": "AAECAwQFBgcICQoLDA0ODxAREhMUFRYXGBkaGxwdHh8=",
          "dtype": "i1"
         },
         "y": {
          "bdata": "v13qyfjt4j946loObvbjP7krxnVL/+I/ObjZL8SK4j/7TFvj7+bhP3B2r4i3buM/EKAeE7fW4z866ZZSFw/lP3ISN/8NMeU/DYtZ8Vt45T+fRljuaYTlPyvCJSUwauU/TY3itbpv5T+zn6BjHTnjPywORK9kNOM/jdfn5ul54z8BWLpyrJjjP7kWCWoqROM/4zASYFN44z8jqnX2RVTjPyTAx8R0ueM/OQf8juTb4z8C8VnkpRzkPz9iP5QdNOQ/RixuXFcx5D8NwngkHfvjP5t1KnGjaOM/RDiEQziE4z8awrU4ta3jP0S8R9JWNOQ/2RgMdcZP5D+9J3QYIErhPw==",
          "dtype": "f8"
         }
        },
        {
         "legendgroup": "('llama3.1_8b_chat', 'medals_9k', 'base', 'main', 'prompt_only')",
         "marker": {
          "color": "#8c564b",
          "opacity": 0.5,
          "size": 6
         },
         "mode": "markers",
         "name": "('llama3.1_8b_chat', 'medals_9k', 'base', 'main', 'prompt_only') Fold ('direction_f1_score', 4)",
         "showlegend": false,
         "type": "scatter",
         "x": {
          "bdata": "AAECAwQFBgcICQoLDA0ODxAREhMUFRYXGBkaGxwdHh8=",
          "dtype": "i1"
         },
         "y": {
          "bdata": "W/J3wWVh4j+a8wJt/ufhP8ooKaOkjOI/9sGQA01M4z8y8ka6hmXjP5X+dvTID+I/lMGTwZPB4z87YFlnaNzkPwrkn1XGmeA/OZj/HVSv4T+iG7qhG7rhP2IYhmEYhuE/xjywmAcW4z+cf3xgZIfiP18aTNSXBuM/sfCZV53D4j+foJovJsfjP7vXve51r+M/fW1xsKCk4z8JOCrWllXjP06hCQzPguM/MzMzMzMz4z9PSVNlaNDjP4RY1k+8AeI/2s1bxdgo4z8CBhI2oubjP9A857sEzeM/KPDOFA+F4z/8+qtAexDkP1W2dx3QjeE/ZmZmZmam4j8RERERERHhPw==",
          "dtype": "f8"
         }
        }
       ],
       "layout": {
        "font": {
         "color": "white"
        },
        "height": 600,
        "legend": {
         "bgcolor": "rgba(32, 32, 32, 0.8)",
         "orientation": "h",
         "x": 0.5,
         "xanchor": "center",
         "y": 1.02,
         "yanchor": "bottom"
        },
        "margin": {
         "b": 50,
         "l": 50,
         "r": 30,
         "t": 100
        },
        "paper_bgcolor": "rgba(32, 32, 32, 1)",
        "plot_bgcolor": "rgba(32, 32, 32, 1)",
        "showlegend": true,
        "template": {
         "data": {
          "bar": [
           {
            "error_x": {
             "color": "#f2f5fa"
            },
            "error_y": {
             "color": "#f2f5fa"
            },
            "marker": {
             "line": {
              "color": "rgb(17,17,17)",
              "width": 0.5
             },
             "pattern": {
              "fillmode": "overlay",
              "size": 10,
              "solidity": 0.2
             }
            },
            "type": "bar"
           }
          ],
          "barpolar": [
           {
            "marker": {
             "line": {
              "color": "rgb(17,17,17)",
              "width": 0.5
             },
             "pattern": {
              "fillmode": "overlay",
              "size": 10,
              "solidity": 0.2
             }
            },
            "type": "barpolar"
           }
          ],
          "carpet": [
           {
            "aaxis": {
             "endlinecolor": "#A2B1C6",
             "gridcolor": "#506784",
             "linecolor": "#506784",
             "minorgridcolor": "#506784",
             "startlinecolor": "#A2B1C6"
            },
            "baxis": {
             "endlinecolor": "#A2B1C6",
             "gridcolor": "#506784",
             "linecolor": "#506784",
             "minorgridcolor": "#506784",
             "startlinecolor": "#A2B1C6"
            },
            "type": "carpet"
           }
          ],
          "choropleth": [
           {
            "colorbar": {
             "outlinewidth": 0,
             "ticks": ""
            },
            "type": "choropleth"
           }
          ],
          "contour": [
           {
            "colorbar": {
             "outlinewidth": 0,
             "ticks": ""
            },
            "colorscale": [
             [
              0,
              "#0d0887"
             ],
             [
              0.1111111111111111,
              "#46039f"
             ],
             [
              0.2222222222222222,
              "#7201a8"
             ],
             [
              0.3333333333333333,
              "#9c179e"
             ],
             [
              0.4444444444444444,
              "#bd3786"
             ],
             [
              0.5555555555555556,
              "#d8576b"
             ],
             [
              0.6666666666666666,
              "#ed7953"
             ],
             [
              0.7777777777777778,
              "#fb9f3a"
             ],
             [
              0.8888888888888888,
              "#fdca26"
             ],
             [
              1,
              "#f0f921"
             ]
            ],
            "type": "contour"
           }
          ],
          "contourcarpet": [
           {
            "colorbar": {
             "outlinewidth": 0,
             "ticks": ""
            },
            "type": "contourcarpet"
           }
          ],
          "heatmap": [
           {
            "colorbar": {
             "outlinewidth": 0,
             "ticks": ""
            },
            "colorscale": [
             [
              0,
              "#0d0887"
             ],
             [
              0.1111111111111111,
              "#46039f"
             ],
             [
              0.2222222222222222,
              "#7201a8"
             ],
             [
              0.3333333333333333,
              "#9c179e"
             ],
             [
              0.4444444444444444,
              "#bd3786"
             ],
             [
              0.5555555555555556,
              "#d8576b"
             ],
             [
              0.6666666666666666,
              "#ed7953"
             ],
             [
              0.7777777777777778,
              "#fb9f3a"
             ],
             [
              0.8888888888888888,
              "#fdca26"
             ],
             [
              1,
              "#f0f921"
             ]
            ],
            "type": "heatmap"
           }
          ],
          "histogram": [
           {
            "marker": {
             "pattern": {
              "fillmode": "overlay",
              "size": 10,
              "solidity": 0.2
             }
            },
            "type": "histogram"
           }
          ],
          "histogram2d": [
           {
            "colorbar": {
             "outlinewidth": 0,
             "ticks": ""
            },
            "colorscale": [
             [
              0,
              "#0d0887"
             ],
             [
              0.1111111111111111,
              "#46039f"
             ],
             [
              0.2222222222222222,
              "#7201a8"
             ],
             [
              0.3333333333333333,
              "#9c179e"
             ],
             [
              0.4444444444444444,
              "#bd3786"
             ],
             [
              0.5555555555555556,
              "#d8576b"
             ],
             [
              0.6666666666666666,
              "#ed7953"
             ],
             [
              0.7777777777777778,
              "#fb9f3a"
             ],
             [
              0.8888888888888888,
              "#fdca26"
             ],
             [
              1,
              "#f0f921"
             ]
            ],
            "type": "histogram2d"
           }
          ],
          "histogram2dcontour": [
           {
            "colorbar": {
             "outlinewidth": 0,
             "ticks": ""
            },
            "colorscale": [
             [
              0,
              "#0d0887"
             ],
             [
              0.1111111111111111,
              "#46039f"
             ],
             [
              0.2222222222222222,
              "#7201a8"
             ],
             [
              0.3333333333333333,
              "#9c179e"
             ],
             [
              0.4444444444444444,
              "#bd3786"
             ],
             [
              0.5555555555555556,
              "#d8576b"
             ],
             [
              0.6666666666666666,
              "#ed7953"
             ],
             [
              0.7777777777777778,
              "#fb9f3a"
             ],
             [
              0.8888888888888888,
              "#fdca26"
             ],
             [
              1,
              "#f0f921"
             ]
            ],
            "type": "histogram2dcontour"
           }
          ],
          "mesh3d": [
           {
            "colorbar": {
             "outlinewidth": 0,
             "ticks": ""
            },
            "type": "mesh3d"
           }
          ],
          "parcoords": [
           {
            "line": {
             "colorbar": {
              "outlinewidth": 0,
              "ticks": ""
             }
            },
            "type": "parcoords"
           }
          ],
          "pie": [
           {
            "automargin": true,
            "type": "pie"
           }
          ],
          "scatter": [
           {
            "marker": {
             "line": {
              "color": "#283442"
             }
            },
            "type": "scatter"
           }
          ],
          "scatter3d": [
           {
            "line": {
             "colorbar": {
              "outlinewidth": 0,
              "ticks": ""
             }
            },
            "marker": {
             "colorbar": {
              "outlinewidth": 0,
              "ticks": ""
             }
            },
            "type": "scatter3d"
           }
          ],
          "scattercarpet": [
           {
            "marker": {
             "colorbar": {
              "outlinewidth": 0,
              "ticks": ""
             }
            },
            "type": "scattercarpet"
           }
          ],
          "scattergeo": [
           {
            "marker": {
             "colorbar": {
              "outlinewidth": 0,
              "ticks": ""
             }
            },
            "type": "scattergeo"
           }
          ],
          "scattergl": [
           {
            "marker": {
             "line": {
              "color": "#283442"
             }
            },
            "type": "scattergl"
           }
          ],
          "scattermap": [
           {
            "marker": {
             "colorbar": {
              "outlinewidth": 0,
              "ticks": ""
             }
            },
            "type": "scattermap"
           }
          ],
          "scattermapbox": [
           {
            "marker": {
             "colorbar": {
              "outlinewidth": 0,
              "ticks": ""
             }
            },
            "type": "scattermapbox"
           }
          ],
          "scatterpolar": [
           {
            "marker": {
             "colorbar": {
              "outlinewidth": 0,
              "ticks": ""
             }
            },
            "type": "scatterpolar"
           }
          ],
          "scatterpolargl": [
           {
            "marker": {
             "colorbar": {
              "outlinewidth": 0,
              "ticks": ""
             }
            },
            "type": "scatterpolargl"
           }
          ],
          "scatterternary": [
           {
            "marker": {
             "colorbar": {
              "outlinewidth": 0,
              "ticks": ""
             }
            },
            "type": "scatterternary"
           }
          ],
          "surface": [
           {
            "colorbar": {
             "outlinewidth": 0,
             "ticks": ""
            },
            "colorscale": [
             [
              0,
              "#0d0887"
             ],
             [
              0.1111111111111111,
              "#46039f"
             ],
             [
              0.2222222222222222,
              "#7201a8"
             ],
             [
              0.3333333333333333,
              "#9c179e"
             ],
             [
              0.4444444444444444,
              "#bd3786"
             ],
             [
              0.5555555555555556,
              "#d8576b"
             ],
             [
              0.6666666666666666,
              "#ed7953"
             ],
             [
              0.7777777777777778,
              "#fb9f3a"
             ],
             [
              0.8888888888888888,
              "#fdca26"
             ],
             [
              1,
              "#f0f921"
             ]
            ],
            "type": "surface"
           }
          ],
          "table": [
           {
            "cells": {
             "fill": {
              "color": "#506784"
             },
             "line": {
              "color": "rgb(17,17,17)"
             }
            },
            "header": {
             "fill": {
              "color": "#2a3f5f"
             },
             "line": {
              "color": "rgb(17,17,17)"
             }
            },
            "type": "table"
           }
          ]
         },
         "layout": {
          "annotationdefaults": {
           "arrowcolor": "#f2f5fa",
           "arrowhead": 0,
           "arrowwidth": 1
          },
          "autotypenumbers": "strict",
          "coloraxis": {
           "colorbar": {
            "outlinewidth": 0,
            "ticks": ""
           }
          },
          "colorscale": {
           "diverging": [
            [
             0,
             "#8e0152"
            ],
            [
             0.1,
             "#c51b7d"
            ],
            [
             0.2,
             "#de77ae"
            ],
            [
             0.3,
             "#f1b6da"
            ],
            [
             0.4,
             "#fde0ef"
            ],
            [
             0.5,
             "#f7f7f7"
            ],
            [
             0.6,
             "#e6f5d0"
            ],
            [
             0.7,
             "#b8e186"
            ],
            [
             0.8,
             "#7fbc41"
            ],
            [
             0.9,
             "#4d9221"
            ],
            [
             1,
             "#276419"
            ]
           ],
           "sequential": [
            [
             0,
             "#0d0887"
            ],
            [
             0.1111111111111111,
             "#46039f"
            ],
            [
             0.2222222222222222,
             "#7201a8"
            ],
            [
             0.3333333333333333,
             "#9c179e"
            ],
            [
             0.4444444444444444,
             "#bd3786"
            ],
            [
             0.5555555555555556,
             "#d8576b"
            ],
            [
             0.6666666666666666,
             "#ed7953"
            ],
            [
             0.7777777777777778,
             "#fb9f3a"
            ],
            [
             0.8888888888888888,
             "#fdca26"
            ],
            [
             1,
             "#f0f921"
            ]
           ],
           "sequentialminus": [
            [
             0,
             "#0d0887"
            ],
            [
             0.1111111111111111,
             "#46039f"
            ],
            [
             0.2222222222222222,
             "#7201a8"
            ],
            [
             0.3333333333333333,
             "#9c179e"
            ],
            [
             0.4444444444444444,
             "#bd3786"
            ],
            [
             0.5555555555555556,
             "#d8576b"
            ],
            [
             0.6666666666666666,
             "#ed7953"
            ],
            [
             0.7777777777777778,
             "#fb9f3a"
            ],
            [
             0.8888888888888888,
             "#fdca26"
            ],
            [
             1,
             "#f0f921"
            ]
           ]
          },
          "colorway": [
           "#636efa",
           "#EF553B",
           "#00cc96",
           "#ab63fa",
           "#FFA15A",
           "#19d3f3",
           "#FF6692",
           "#B6E880",
           "#FF97FF",
           "#FECB52"
          ],
          "font": {
           "color": "#f2f5fa"
          },
          "geo": {
           "bgcolor": "rgb(17,17,17)",
           "lakecolor": "rgb(17,17,17)",
           "landcolor": "rgb(17,17,17)",
           "showlakes": true,
           "showland": true,
           "subunitcolor": "#506784"
          },
          "hoverlabel": {
           "align": "left"
          },
          "hovermode": "closest",
          "mapbox": {
           "style": "dark"
          },
          "paper_bgcolor": "rgb(17,17,17)",
          "plot_bgcolor": "rgb(17,17,17)",
          "polar": {
           "angularaxis": {
            "gridcolor": "#506784",
            "linecolor": "#506784",
            "ticks": ""
           },
           "bgcolor": "rgb(17,17,17)",
           "radialaxis": {
            "gridcolor": "#506784",
            "linecolor": "#506784",
            "ticks": ""
           }
          },
          "scene": {
           "xaxis": {
            "backgroundcolor": "rgb(17,17,17)",
            "gridcolor": "#506784",
            "gridwidth": 2,
            "linecolor": "#506784",
            "showbackground": true,
            "ticks": "",
            "zerolinecolor": "#C8D4E3"
           },
           "yaxis": {
            "backgroundcolor": "rgb(17,17,17)",
            "gridcolor": "#506784",
            "gridwidth": 2,
            "linecolor": "#506784",
            "showbackground": true,
            "ticks": "",
            "zerolinecolor": "#C8D4E3"
           },
           "zaxis": {
            "backgroundcolor": "rgb(17,17,17)",
            "gridcolor": "#506784",
            "gridwidth": 2,
            "linecolor": "#506784",
            "showbackground": true,
            "ticks": "",
            "zerolinecolor": "#C8D4E3"
           }
          },
          "shapedefaults": {
           "line": {
            "color": "#f2f5fa"
           }
          },
          "sliderdefaults": {
           "bgcolor": "#C8D4E3",
           "bordercolor": "rgb(17,17,17)",
           "borderwidth": 1,
           "tickwidth": 0
          },
          "ternary": {
           "aaxis": {
            "gridcolor": "#506784",
            "linecolor": "#506784",
            "ticks": ""
           },
           "baxis": {
            "gridcolor": "#506784",
            "linecolor": "#506784",
            "ticks": ""
           },
           "bgcolor": "rgb(17,17,17)",
           "caxis": {
            "gridcolor": "#506784",
            "linecolor": "#506784",
            "ticks": ""
           }
          },
          "title": {
           "x": 0.05
          },
          "updatemenudefaults": {
           "bgcolor": "#506784",
           "borderwidth": 0
          },
          "xaxis": {
           "automargin": true,
           "gridcolor": "#283442",
           "linecolor": "#506784",
           "ticks": "",
           "title": {
            "standoff": 15
           },
           "zerolinecolor": "#283442",
           "zerolinewidth": 2
          },
          "yaxis": {
           "automargin": true,
           "gridcolor": "#283442",
           "linecolor": "#506784",
           "ticks": "",
           "title": {
            "standoff": 15
           },
           "zerolinecolor": "#283442",
           "zerolinewidth": 2
          }
         }
        },
        "title": {},
        "width": 1000,
        "xaxis": {
         "gridcolor": "rgba(128, 128, 128, 0.2)",
         "title": {
          "text": "Layer"
         },
         "zeroline": false
        },
        "yaxis": {
         "gridcolor": "rgba(128, 128, 128, 0.2)",
         "title": {
          "text": "Direction F1 Score"
         },
         "zeroline": false
        }
       }
      }
     },
     "metadata": {},
     "output_type": "display_data"
    },
    {
     "name": "stdout",
     "output_type": "stream",
     "text": [
      "conf=('llama3.1_8b_chat', 'birth_years_4k', 'base', 'main', 'prompt_answer')\n",
      "conf=('llama3.1_8b_chat', 'birth_years_4k', 'base', 'main', 'prompt_only')\n",
      "conf=('llama3.1_8b_chat', 'cities_10k', 'base', 'main', 'prompt_answer')\n",
      "conf=('llama3.1_8b_chat', 'cities_10k', 'base', 'main', 'prompt_only')\n",
      "conf=('llama3.1_8b_chat', 'football_leagues_1k', 'base', 'main', 'prompt_answer')\n",
      "conf=('llama3.1_8b_chat', 'football_leagues_1k', 'base', 'main', 'prompt_only')\n",
      "conf=('llama3.1_8b_chat', 'gsm8k', 'base_3_shot', 'main', 'prompt_answer')\n",
      "conf=('llama3.1_8b_chat', 'gsm8k', 'base_3_shot', 'main', 'prompt_only')\n",
      "conf=('llama3.1_8b_chat', 'gsm8k', 'cot_3_shot', 'main', 'prompt_answer')\n",
      "conf=('llama3.1_8b_chat', 'gsm8k', 'cot_3_shot', 'main', 'prompt_only')\n",
      "conf=('llama3.1_8b_chat', 'medals_9k', 'base', 'main', 'prompt_answer')\n",
      "conf=('llama3.1_8b_chat', 'medals_9k', 'base', 'main', 'prompt_only')\n"
     ]
    },
    {
     "data": {
      "application/vnd.plotly.v1+json": {
       "config": {
        "plotlyServerURL": "https://plot.ly"
       },
       "data": [
        {
         "legendgroup": "('llama3.1_8b_chat', 'birth_years_4k', 'base', 'main', 'prompt_answer')",
         "line": {
          "color": "#1f77b4",
          "width": 2
         },
         "marker": {
          "size": 8
         },
         "mode": "lines+markers",
         "name": "('llama3.1_8b_chat', 'birth_years_4k', 'base', 'main', 'prompt_answer')",
         "type": "scatter",
         "x": {
          "bdata": "AAECAwQFBgcICQoLDA0ODxAREhMUFRYXGBkaGxwdHh8=",
          "dtype": "i1"
         },
         "y": {
          "bdata": "koGuD4hH4j9i6gTbTK/jP/qAHNvyiuQ/Z8WBBj725D8ty6qPhNvkP/A5tfEHfeU/TUPs3/QR5j8eVLfmbSjmP3RLmT5iaOY/epctgGxO5j/ge2doxzfmP2xGf2YWcuY/cpR5/zMt5z/OPdRR9iTmPzNfHbK/xeY/oBJTksxd5j+T+nCzxw3mP1sxArAZH+Y/qDfc0ZsZ5j9y6v3prFrmP+YrDE6/GOY/MsywfIdE5j+G94nlp57lP+AfYiSqo+U/ZGHDMR6X5T8ShWqAu3LlPwKjvY50L+U/I6S1aZGG5T/m+OjaNd7lP5kTTfXXOuY/f1iVTZ1+5j86Q2s5uCTmPw==",
          "dtype": "f8"
         }
        },
        {
         "legendgroup": "('llama3.1_8b_chat', 'birth_years_4k', 'base', 'main', 'prompt_answer')",
         "line": {
          "width": 0
         },
         "mode": "lines",
         "name": "('llama3.1_8b_chat', 'birth_years_4k', 'base', 'main', 'prompt_answer') Max",
         "showlegend": false,
         "type": "scatter",
         "x": {
          "bdata": "AAECAwQFBgcICQoLDA0ODxAREhMUFRYXGBkaGxwdHh8=",
          "dtype": "i1"
         },
         "y": {
          "bdata": "ouJNJoSh4z8FBQUFBQXlP83BaKBdR+U/d1rdaXWn5T9jfWisD43lPykhpwJ+4eY/4eUUvJyC5z91CTYQOPfmP9aHxvrQWOc/qJj6l61N5z/XdE3XdE3nPy5qNb78nOc/vZ0hMW9n6D8aGEOR2aLmP/0Z/CZ6Ouc/fnopQHfY5j8BawWsFbDmP2mnR4J4T+Y/ncfkvfEB5z8BawWsFbDmPw433HDDDec/toVtYVvY5j9xqu0yHT3mP8jJMh4E0uY/V2qlVmql5j9QLkTdDFrmPzeGpjvYb+U/EBgkNtG55j9edtlll13mP7dt27Zt2+Y/1BV1RV1R5z/u1nkFNO7mPw==",
          "dtype": "f8"
         }
        },
        {
         "fill": "tonexty",
         "fillcolor": "rgba(31, 119, 180, 0.1)",
         "legendgroup": "('llama3.1_8b_chat', 'birth_years_4k', 'base', 'main', 'prompt_answer')",
         "line": {
          "width": 0
         },
         "mode": "lines",
         "name": "('llama3.1_8b_chat', 'birth_years_4k', 'base', 'main', 'prompt_answer') Min",
         "showlegend": false,
         "type": "scatter",
         "x": {
          "bdata": "AAECAwQFBgcICQoLDA0ODxAREhMUFRYXGBkaGxwdHh8=",
          "dtype": "i1"
         },
         "y": {
          "bdata": "ISZXEJMr4D9sKK+hvIbiP67zCmjcreM/rEAYaccK5D9EfuqOUpnjP2WTTTbZZOM/SBUbrjp55D8pWssPyJDkP/YoXI/C9eQ/N+7zgBeZ5T+WYZJbCQ7lP0RjfWisD+U/ZQqYD2QX5j9Ad9hWrjnlP/VvhDJ6W+Y/XHXyqGLD5T+amZmZmZnlP19+zutm0uU/YAVYAVaA5T9Q61cK1PrlP5tM3WKP8+Q/gBFPUqOM5T9O/5CfuqPkP/FoHSxC4+Q/rvMKaNyt4z9S39mo72zkP9FEE0000eQ/DLf2xuoP5D/ZC5ZsX2PlPzNQzUA1A+U/MxgFHJrP5T93Wt1pdaflPw==",
          "dtype": "f8"
         }
        },
        {
         "legendgroup": "('llama3.1_8b_chat', 'birth_years_4k', 'base', 'main', 'prompt_answer')",
         "line": {
          "width": 0
         },
         "mode": "lines",
         "name": "('llama3.1_8b_chat', 'birth_years_4k', 'base', 'main', 'prompt_answer') +1 STD",
         "showlegend": false,
         "type": "scatter",
         "x": {
          "bdata": "AAECAwQFBgcICQoLDA0ODxAREhMUFRYXGBkaGxwdHh8=",
          "dtype": "i1"
         },
         "y": {
          "bdata": "MPi+e2qQ4z/eNbEIspXkP6L9I4JSIOU/rWfjHbmZ5T9WIL/rRaXlPyYGPNIH4OY/mkCvEsE05z+dgE+VICDnP4zfz0rcTOc/7TjydFjx5j+3sZpAux3nPylG3l6yb+c/YHXntysW6D+lR4rimbbmPwUC7+eBI+c/ubi958nP5j9R360NYYbmP6oPbb3jT+Y/CtCzR5i+5j8V9l2Bhq3mP+oZ3UEz4eY/pGDmQDzC5j/pnZWgMTrmP8otDIohZuY/N1NXCJ2/5j9zKTOz8FHmPxOlXqCpbuU/3vqQ31uJ5j+nkqDSL0XmP47l8TAY/eY/p71yP4If5z+uxDsF3rTmPw==",
          "dtype": "f8"
         }
        },
        {
         "fill": "tonexty",
         "fillcolor": "rgba(31, 119, 180, 0.3)",
         "legendgroup": "('llama3.1_8b_chat', 'birth_years_4k', 'base', 'main', 'prompt_answer')",
         "line": {
          "width": 0
         },
         "mode": "lines",
         "name": "('llama3.1_8b_chat', 'birth_years_4k', 'base', 'main', 'prompt_answer') -1 STD",
         "showlegend": false,
         "type": "scatter",
         "x": {
          "bdata": "AAECAwQFBgcICQoLDA0ODxAREhMUFRYXGBkaGxwdHh8=",
          "dtype": "i1"
         },
         "y": {
          "bdata": "9Aqeo6X+4D/mnlit58jiP1IEFTST9eM/ISMg78JS5D8EdpYzwxHkP7ptLhEIGuQ/AEYprSjv5D+fJx84uzDlP1y3YjLog+U/B/Zoi4Cr5T8JRjSQ01HlP69GIG56dOU/hLMLRzxE5j/3Mx7BUpPlP2G8S3z9Z+Y/h2zoPM/r5T/VFTRZLpXlPwxTl6JP7uU/Rp8EXJ905T/P3p1S0wfmP+I9O1pLUOU/wDd7uNLG5T8jUX4qHgPlP/YRuL4y4eQ/kW8vW59u5D+x4KFNhpPkP/GgHH0/8OQ/aE3a88aD5D8lXzHjO3flP6RBqLmXeOU/V/O3W7jd5T/GwZptkpTlPw==",
          "dtype": "f8"
         }
        },
        {
         "legendgroup": "('llama3.1_8b_chat', 'birth_years_4k', 'base', 'main', 'prompt_answer')",
         "marker": {
          "color": "#1f77b4",
          "opacity": 0.5,
          "size": 6
         },
         "mode": "markers",
         "name": "('llama3.1_8b_chat', 'birth_years_4k', 'base', 'main', 'prompt_answer') Fold ('logistic_regression_f1_score', 0)",
         "showlegend": false,
         "type": "scatter",
         "x": {
          "bdata": "AAECAwQFBgcICQoLDA0ODxAREhMUFRYXGBkaGxwdHh8=",
          "dtype": "i1"
         },
         "y": {
          "bdata": "ouJNJoSh4z8FBQUFBQXlP26vJYe4yuQ/d1rdaXWn5T9jfWisD43lP25ubm5ubuY/xFWmgPlA5j9lCpgPZBfmP9aHxvrQWOc/qJj6l61N5z/XdE3XdE3nPy5qNb78nOc/vZ0hMW9n6D/WX/3VX/3lP/0Z/CZ6Ouc/UC5E3Qxa5j8AAAAAAADmP2mnR4J4T+Y/ncfkvfEB5z/f+IDLEgnmP5tM3WKP8+Q/mwTlVDOK5j91dtw9uuHlPzKsfxv67uU/V2qlVmql5j9QLkTdDFrmPzeGpjvYb+U/LDJfmjiM5T//RTxJjTLmP8omm2yyyeY/UOtXCtT65T+WWqmVWqnlPw==",
          "dtype": "f8"
         }
        },
        {
         "legendgroup": "('llama3.1_8b_chat', 'birth_years_4k', 'base', 'main', 'prompt_answer')",
         "marker": {
          "color": "#1f77b4",
          "opacity": 0.5,
          "size": 6
         },
         "mode": "markers",
         "name": "('llama3.1_8b_chat', 'birth_years_4k', 'base', 'main', 'prompt_answer') Fold ('logistic_regression_f1_score', 1)",
         "showlegend": false,
         "type": "scatter",
         "x": {
          "bdata": "AAECAwQFBgcICQoLDA0ODxAREhMUFRYXGBkaGxwdHh8=",
          "dtype": "i1"
         },
         "y": {
          "bdata": "DXZnMlq84j+a/gbdrpXjP3nX85XGbuQ/qpOuMWiz5D8BkhdEqMnkPzyhT5sE5eQ/SBUbrjp55D8pWssPyJDkP/YoXI/C9eQ/N+7zgBeZ5T+WYZJbCQ7lP0RjfWisD+U/ZQqYD2QX5j8+4LJEgoXmP2kRuaW7keY/XHXyqGLD5T+amZmZmZnlP19+zutm0uU/B8ZQZLao5T9Q61cK1PrlP3VFXVFX1OU/FquQ9khU5j/1V3/1V3/lP/FoHSxC4+Q/rvMKaNyt4z/g523SXcbkPyAqHdkzEOU/DLf2xuoP5D+fXgrQHbblPzNQzUA1A+U/MxgFHJrP5T93Wt1pdaflPw==",
          "dtype": "f8"
         }
        },
        {
         "legendgroup": "('llama3.1_8b_chat', 'birth_years_4k', 'base', 'main', 'prompt_answer')",
         "marker": {
          "color": "#1f77b4",
          "opacity": 0.5,
          "size": 6
         },
         "mode": "markers",
         "name": "('llama3.1_8b_chat', 'birth_years_4k', 'base', 'main', 'prompt_answer') Fold ('logistic_regression_f1_score', 2)",
         "showlegend": false,
         "type": "scatter",
         "x": {
          "bdata": "AAECAwQFBgcICQoLDA0ODxAREhMUFRYXGBkaGxwdHh8=",
          "dtype": "i1"
         },
         "y": {
          "bdata": "ISZXEJMr4D/hKab+ZWvjP67zCmjcreM/ufkGahhz5T9EfuqOUpnjP2WTTTbZZOM/KuAXbu2N5T8iTYyte0bmP/vORn1no+Y/iuW3TgMp5j98hMAzN5DlP0kJORXwC+c/WHzFV3zF5z9Ad9hWrjnlP2LG5/JLFOc/fnopQHfY5j/1b4QyelvmP4vFYrFYLOY/iiaaaKKJ5j9qH68GCo/mP7Zne7Zne+Y/gBFPUqOM5T92Xdd1XdflP3g9X2nsRuU/HNa+Ye0b5j8fIfDMDWTlP1VVVVVVVeU/EBgkNtG55j/ZC5ZsX2PlP4AVYAVYAeY/1BV1RV1R5z/u1nkFNO7mPw==",
          "dtype": "f8"
         }
        },
        {
         "legendgroup": "('llama3.1_8b_chat', 'birth_years_4k', 'base', 'main', 'prompt_answer')",
         "marker": {
          "color": "#1f77b4",
          "opacity": 0.5,
          "size": 6
         },
         "mode": "markers",
         "name": "('llama3.1_8b_chat', 'birth_years_4k', 'base', 'main', 'prompt_answer') Fold ('logistic_regression_f1_score', 3)",
         "showlegend": false,
         "type": "scatter",
         "x": {
          "bdata": "AAECAwQFBgcICQoLDA0ODxAREhMUFRYXGBkaGxwdHh8=",
          "dtype": "i1"
         },
         "y": {
          "bdata": "RWJbnvue4j9sKK+hvIbiP83BaKBdR+U/gLLdsXj25D/ZZJNNNtnkPykhpwJ+4eY/4eUUvJyC5z9u6W6kReTmP8omm2yyyeY/tlgZvhEF5j+PwvUoXI/mPwa/iZ7O7eU/toVtYVvY5j8aGEOR2aLmP/VvhDJ6W+Y/mVxBTK4g5j8BawWsFbDmPwNhpB0rEOY/YAVYAVaA5T8BawWsFbDmP6uqqqqqKuY/E7ZBcCoT5j9O/5CfuqPkP/6Cu+YlR+U/O1YgjLRj5T9S39mo72zkP9FEE0000eQ/D7OAfJEo5T+ttdZaa63lP8ln3WCKfOY/qTKPxId15j/dW+h41/PlPw==",
          "dtype": "f8"
         }
        },
        {
         "legendgroup": "('llama3.1_8b_chat', 'birth_years_4k', 'base', 'main', 'prompt_answer')",
         "marker": {
          "color": "#1f77b4",
          "opacity": 0.5,
          "size": 6
         },
         "mode": "markers",
         "name": "('llama3.1_8b_chat', 'birth_years_4k', 'base', 'main', 'prompt_answer') Fold ('logistic_regression_f1_score', 4)",
         "showlegend": false,
         "type": "scatter",
         "x": {
          "bdata": "AAECAwQFBgcICQoLDA0ODxAREhMUFRYXGBkaGxwdHh8=",
          "dtype": "i1"
         },
         "y": {
          "bdata": "wqYARzs94j/7PbfEqd/jP4BIASIFiOQ/rEAYaccK5D9gBVgBVoDlP3Zd13Vd1+U/ah+vBgqP5j91CTYQOPfmP7TS+cQ9TuY/QDAkW0Rz5j/qTW9605vmP1vKBiYIlOY/CDxzA1nF5j+WZVmWZVnmP0J6cYjCoOY/YeL9yGm+5j9OcBEJvZ/lP3Gq7TIdPeY/t1wljWrL5T+hJWgJWoLmPw433HDDDec/toVtYVvY5j9xqu0yHT3mP8jJMh4E0uY/mVxBTK4g5j+5gphcQUzmP4zkhxKxRuU/WICR/FAi5j9edtlll13mP7dt27Zt2+Y/fG6JU7/n5j9MaC+hvYTmPw==",
          "dtype": "f8"
         }
        },
        {
         "legendgroup": "('llama3.1_8b_chat', 'birth_years_4k', 'base', 'main', 'prompt_only')",
         "line": {
          "color": "#ff7f0e",
          "width": 2
         },
         "marker": {
          "size": 8
         },
         "mode": "lines+markers",
         "name": "('llama3.1_8b_chat', 'birth_years_4k', 'base', 'main', 'prompt_only')",
         "type": "scatter",
         "x": {
          "bdata": "AAECAwQFBgcICQoLDA0ODxAREhMUFRYXGBkaGxwdHh8=",
          "dtype": "i1"
         },
         "y": {
          "bdata": "TLCMeLgz4T82+vXsLRPiP9wMOGXjDeM/xtpEAx6s4z9myiQmyFjkP1vuzeXMEOU/7i21Xjf05T9uT73viSrmP6sZpPaKzuU/brZFgMg+5j92a/FiXjvmP/1/Fxmg2+U/H2O7Wnq95T818dCg7XLmP+j8vOnwOOY/IX/s17Jp5j9922IG56DmP1mMO+BQ1OU/w7T61UVG5j/rJwqhHO7lP+h8wGVARuY/ijZiylRX5j9cdGRC/HvmPyqq3Av8R+Y/8lSBsXM35j+FV9MK8lzmP3j3SPv/YeY/SszrqQoJ5j9SMUmZSizmP4ILJPruH+Y/FNrKExrU5T9L+N1lGd/lPw==",
          "dtype": "f8"
         }
        },
        {
         "legendgroup": "('llama3.1_8b_chat', 'birth_years_4k', 'base', 'main', 'prompt_only')",
         "line": {
          "width": 0
         },
         "mode": "lines",
         "name": "('llama3.1_8b_chat', 'birth_years_4k', 'base', 'main', 'prompt_only') Max",
         "showlegend": false,
         "type": "scatter",
         "x": {
          "bdata": "AAECAwQFBgcICQoLDA0ODxAREhMUFRYXGBkaGxwdHh8=",
          "dtype": "i1"
         },
         "y": {
          "bdata": "yFOCPCXI4z8HsootyvniP6uqqqqqquM/F341JtID5T+TK4jJFcTkP3k1UHi0DuY/wcspeDkF5z92rX+iFGDnP6wPjfWhseY/RwW+uPpB5z+VO3MwGmjnP9PEYay2/uY/cMFBiRlY5j8655xzzjnnP0f193mbdOc/GZruYL/V5j+Jy0ZQPWPnP6LApFPzIOc/sxYK6Nh85z9zjOT6h/vmP0L3InQvQuc/rXPlAck65z90bL4bflTnP/LAVbQzpec/sxYK6Nh85z8655xzzjnnP0YXXXTRRec/eMOP6hKz5j/KayivobzmP53H5L3xAec/ZyVepnZo5j8jobTxjmrmPw==",
          "dtype": "f8"
         }
        },
        {
         "fill": "tonexty",
         "fillcolor": "rgba(255, 127, 14, 0.1)",
         "legendgroup": "('llama3.1_8b_chat', 'birth_years_4k', 'base', 'main', 'prompt_only')",
         "line": {
          "width": 0
         },
         "mode": "lines",
         "name": "('llama3.1_8b_chat', 'birth_years_4k', 'base', 'main', 'prompt_only') Min",
         "showlegend": false,
         "type": "scatter",
         "x": {
          "bdata": "AAECAwQFBgcICQoLDA0ODxAREhMUFRYXGBkaGxwdHh8=",
          "dtype": "i1"
         },
         "y": {
          "bdata": "TYyte0aW3j8h0BQCTSHgP6pOusagzeI/+hcaUeco4j8AAAAAAADkPylayw/IkOQ/pU/6pE/65D/RRBNNNNHkP/WdjfrORuU/YAVYAVaA5T9VVVVVVVXlP6qTrjFos+Q/4lJ8updj5T98hMAzN5DlPzprUDztceU/arx0kxgE5j+LkVDaeEflPy+n4OUUvOQ/NAejgXYd5T/Tmvzs+7XkP5ZaqZVaqeU/YAVYAVaA5T9Q61cK1PrlPxAMyRbRnOU/gQUWWGCB5T/ZC5ZsX2PlP5B7zYWkKeU/lmGSWwkO5T/ZC5ZsX2PlP6BSf0r9KeU/VVVVVVVV5T+IS/HpXo7lPw==",
          "dtype": "f8"
         }
        },
        {
         "legendgroup": "('llama3.1_8b_chat', 'birth_years_4k', 'base', 'main', 'prompt_only')",
         "line": {
          "width": 0
         },
         "mode": "lines",
         "name": "('llama3.1_8b_chat', 'birth_years_4k', 'base', 'main', 'prompt_only') +1 STD",
         "showlegend": false,
         "type": "scatter",
         "x": {
          "bdata": "AAECAwQFBgcICQoLDA0ODxAREhMUFRYXGBkaGxwdHh8=",
          "dtype": "i1"
         },
         "y": {
          "bdata": "oNrVGaXo4j8jRmBJAzvjPxkmTrkza+M/8oKaQE+85D+GcD824bvkPy+ejSiuuuU/v7wm25PQ5j9xEe1vkR3nP/RJ63KRVuY/5gxC3mPm5j9LWI/oAAbnPxmYquHlxeY/LfwqyjMk5j+F1rde8QvnPw3jLo5sHec/ezRTUCu95j9W1xDM3YLnP2sv7Ek+s+Y/mxzMMFw/5z8S97aYesrmPzLVlqchAOc/3lspixIW5z/HfzN2yxXnP8dcirOhKec/G13cH3sG5z+x1PY5IBHnP1un2C26KOc/uPN7DNHA5j+Zta76rNHmPzYD0votzuY/pRs735dX5j/YDrSP8jrmPw==",
          "dtype": "f8"
         }
        },
        {
         "fill": "tonexty",
         "fillcolor": "rgba(255, 127, 14, 0.3)",
         "legendgroup": "('llama3.1_8b_chat', 'birth_years_4k', 'base', 'main', 'prompt_only')",
         "line": {
          "width": 0
         },
         "mode": "lines",
         "name": "('llama3.1_8b_chat', 'birth_years_4k', 'base', 'main', 'prompt_only') -1 STD",
         "showlegend": false,
         "type": "scatter",
         "x": {
          "bdata": "AAECAwQFBgcICQoLDA0ODxAREhMUFRYXGBkaGxwdHh8=",
          "dtype": "i1"
         },
         "y": {
          "bdata": "7wuHrpf93j9JrouQWOvgP5/zIRGTsOI/mjLvxeyb4j9GJAoWr/XjP4c+DqPrZuQ/HZ9D4toX5T9rjY1vgjflP2LpXHqERuU/9l9JIi2X5T+hflPdu3DlP+FnhFBa8eQ/EcpL68BW5T/lC+ri6dnlP8MWS0V1VOU/x8mFXzoW5j+k37RA8L7lP0fpinZj9eQ/60wpey9N5T/EWF2pvhHlP54k6iNfjOU/NhGbCZeY5T/xaJUOLeLlP433LmRWZuU/yUwmQ2xo5T9Z2q/bw6jlP5VHuchFm+U/3KRbR0RR5T8LreM36IblP84TdvmvceU/g5haSJxQ5T++4Qc8QIPlPw==",
          "dtype": "f8"
         }
        },
        {
         "legendgroup": "('llama3.1_8b_chat', 'birth_years_4k', 'base', 'main', 'prompt_only')",
         "marker": {
          "color": "#ff7f0e",
          "opacity": 0.5,
          "size": 6
         },
         "mode": "markers",
         "name": "('llama3.1_8b_chat', 'birth_years_4k', 'base', 'main', 'prompt_only') Fold ('logistic_regression_f1_score', 0)",
         "showlegend": false,
         "type": "scatter",
         "x": {
          "bdata": "AAECAwQFBgcICQoLDA0ODxAREhMUFRYXGBkaGxwdHh8=",
          "dtype": "i1"
         },
         "y": {
          "bdata": "twep63B74D8h0BQCTSHgP6pOusagzeI/F341JtID5T+sQBhpxwrkP/WDjgp8ceU/wcspeDkF5z+isT401ofmPzfu84AXmeU/RwxsUF1o5j+2m+VJZBrmP9PEYay2/uY/cMFBiRlY5j91B/utNobmPxma7mC/1eY/GZruYL/V5j+Jy0ZQPWPnP6LApFPzIOc/sxYK6Nh85z9zjOT6h/vmP0L3InQvQuc/rXPlAck65z90bL4bflTnP/LAVbQzpec/sxYK6Nh85z+y2XterNLmPyOhtPGOauY/eMOP6hKz5j9PstQRYpvmP4FknSsPSOY/ZyVepnZo5j8jobTxjmrmPw==",
          "dtype": "f8"
         }
        },
        {
         "legendgroup": "('llama3.1_8b_chat', 'birth_years_4k', 'base', 'main', 'prompt_only')",
         "marker": {
          "color": "#ff7f0e",
          "opacity": 0.5,
          "size": 6
         },
         "mode": "markers",
         "name": "('llama3.1_8b_chat', 'birth_years_4k', 'base', 'main', 'prompt_only') Fold ('logistic_regression_f1_score', 1)",
         "showlegend": false,
         "type": "scatter",
         "x": {
          "bdata": "AAECAwQFBgcICQoLDA0ODxAREhMUFRYXGBkaGxwdHh8=",
          "dtype": "i1"
         },
         "y": {
          "bdata": "TYyte0aW3j/4sZo9yffhP1FGb8taHeM/2SKaswbF4z8pXI/C9SjkPylayw/IkOQ/VVVVVVVV5T+oc3stOcTlP6DbwGt3yuU/RwW+uPpB5z8Q6CPK0MblPztWIIy0Y+U/p9ou09Fj5T9VVVVVVVXmP+g28NqdcuU/xFWmgPlA5j/18bUzP03nPy+n4OUUvOQ/Y31orA+N5T+uDdPcBX/lP2v1r1IBquU/FmVRFmVR5j9Q61cK1PrlPxAMyRbRnOU/qHN7LTnE5T/ZC5ZsX2PlP5B7zYWkKeU/lmGSWwkO5T/ZC5ZsX2PlP6BSf0r9KeU/p9ou09Fj5T+IS/HpXo7lPw==",
          "dtype": "f8"
         }
        },
        {
         "legendgroup": "('llama3.1_8b_chat', 'birth_years_4k', 'base', 'main', 'prompt_only')",
         "marker": {
          "color": "#ff7f0e",
          "opacity": 0.5,
          "size": 6
         },
         "mode": "markers",
         "name": "('llama3.1_8b_chat', 'birth_years_4k', 'base', 'main', 'prompt_only') Fold ('logistic_regression_f1_score', 2)",
         "showlegend": false,
         "type": "scatter",
         "x": {
          "bdata": "AAECAwQFBgcICQoLDA0ODxAREhMUFRYXGBkaGxwdHh8=",
          "dtype": "i1"
         },
         "y": {
          "bdata": "Z6O+s1Hf4T/vhxn5TXXiP9PS0tLS0uI/+hcaUeco4j+TK4jJFcTkPyVJkiRJkuQ/pU/6pE/65D/RRBNNNNHkP+AIZfS2rOU/dqPKPBIf5j9VVVVVVVXlP6qTrjFos+Q/N0thAYro5T98hMAzN5DlPzprUDztceU/arx0kxgE5j+LkVDaeEflP64N09wFf+U/Ik2MrXtG5j/xEQLP3EDmP3tfE4Ky9+U/n1vi1O+55T//mZ6D2AvmP2u1Wq1Wq+U/mwTlVDOK5j+2m+VJZBrmP5U1ZU1ZU+Y/AAAAAACA5T8q4Bdu7Y3lP3ZlXVlX1uU/4Ahl9Las5T+AFWAFWAHmPw==",
          "dtype": "f8"
         }
        },
        {
         "legendgroup": "('llama3.1_8b_chat', 'birth_years_4k', 'base', 'main', 'prompt_only')",
         "marker": {
          "color": "#ff7f0e",
          "opacity": 0.5,
          "size": 6
         },
         "mode": "markers",
         "name": "('llama3.1_8b_chat', 'birth_years_4k', 'base', 'main', 'prompt_only') Fold ('logistic_regression_f1_score', 3)",
         "showlegend": false,
         "type": "scatter",
         "x": {
          "bdata": "AAECAwQFBgcICQoLDA0ODxAREhMUFRYXGBkaGxwdHh8=",
          "dtype": "i1"
         },
         "y": {
          "bdata": "yFOCPCXI4z8HsootyvniP6uqqqqqquM/SOLDOitA4z8AAAAAAADkPwxLycW+sOQ/1lzN1VzN5T+WdWVdWVfmP/WdjfrORuU/xtUPOirw5T+bBOVUM4rmP6uqqqqqquU/4lJ8updj5T+H7WZ5EpnmPwa/iZ7O7eU/V2qlVmql5j9IzNsZEvPmPxDoI8rQxuU/NAejgXYd5T/Tmvzs+7XkP5ZaqZVaqeU/YAVYAVaA5T+K5bdOAynmP+esQfG0x+U/RBQGtZzI5T8iTYyte0bmP0YXXXTRRec/orE+NNaH5j+C7MJiJJTmP53H5L3xAec/HuSuny1W5j9ffs7rZtLlPw==",
          "dtype": "f8"
         }
        },
        {
         "legendgroup": "('llama3.1_8b_chat', 'birth_years_4k', 'base', 'main', 'prompt_only')",
         "marker": {
          "color": "#ff7f0e",
          "opacity": 0.5,
          "size": 6
         },
         "mode": "markers",
         "name": "('llama3.1_8b_chat', 'birth_years_4k', 'base', 'main', 'prompt_only') Fold ('logistic_regression_f1_score', 4)",
         "showlegend": false,
         "type": "scatter",
         "x": {
          "bdata": "AAECAwQFBgcICQoLDA0ODxAREhMUFRYXGBkaGxwdHh8=",
          "dtype": "i1"
         },
         "y": {
          "bdata": "b6z+QI+U4D/8Jno6t9fiP88tcer33OI/q6qqqqoq5D+TK4jJFcTkP3k1UHi0DuY/GhhDkdmi5j92rX+iFGDnP6wPjfWhseY/YAVYAVaA5T+VO3MwGmjnP4ommmiiieY/a7VarVar5T8655xzzjnnP0f193mbdOc/BGXva0JQ5j8fLsWneznmPytgrYC1AuY/ZZ9DaoLx5j+zgHyRKDXmP8jJMh4E0uY/7tZ5BTTu5j98bolTv+fmP4AjlNHbsuY/gQUWWGCB5T8655xzzjnnP8prKK+hvOY/xSY610Jk5j/KayivobzmP1VVVVVVVeY/VVVVVVVV5T/tWIEw0o7lPw==",
          "dtype": "f8"
         }
        },
        {
         "legendgroup": "('llama3.1_8b_chat', 'cities_10k', 'base', 'main', 'prompt_answer')",
         "line": {
          "color": "#2ca02c",
          "width": 2
         },
         "marker": {
          "size": 8
         },
         "mode": "lines+markers",
         "name": "('llama3.1_8b_chat', 'cities_10k', 'base', 'main', 'prompt_answer')",
         "type": "scatter",
         "x": {
          "bdata": "AAECAwQFBgcICQoLDA0ODxAREhMUFRYXGBkaGxwdHh8=",
          "dtype": "i1"
         },
         "y": {
          "bdata": "ikm38F+J5D9iGg39rmHkPwMsbF6TWeQ/8OCKnh865D/5dz+xl8fkP3vW/qP7QeU/FdIB6tXt5T/E5gbiEGnmP+M+YuX1xuY/ghlMl3nZ5j+bA4HnSSLnP+KkP+G4Oec/E0FdUIN15z+MywsA8SvnPz/SQkQmgec/ZENJxEp45z8rruCWvUvnP6gl26QlXOc/1j9pV+N95z/d0Ci/45vnPwY8AaMvgec/as4TgqGx5z8ikRVQ8bnnP1s1ipD+ouc/kqkud8qz5z+2PbpgFpvnP46/PpIZuuc/qJM9jV2s5z/e43PlZJXnP1donQ4Enuc/Vuud9cOz5z9iOd/ZYZ7nPw==",
          "dtype": "f8"
         }
        },
        {
         "legendgroup": "('llama3.1_8b_chat', 'cities_10k', 'base', 'main', 'prompt_answer')",
         "line": {
          "width": 0
         },
         "mode": "lines",
         "name": "('llama3.1_8b_chat', 'cities_10k', 'base', 'main', 'prompt_answer') Max",
         "showlegend": false,
         "type": "scatter",
         "x": {
          "bdata": "AAECAwQFBgcICQoLDA0ODxAREhMUFRYXGBkaGxwdHh8=",
          "dtype": "i1"
         },
         "y": {
          "bdata": "jFbJm51L5T/MT3lrxfzkP3dHIxvGv+Q/N0X67G7M5D8op92k6DzlPxoSrk5DwuU/0ZKcOdxq5j/Y1FpmR1TnPxhxhZ6liuc/EGHqjW+T5z8q6Id7KcfnP6h92qd92uc/rccj0Z4Q6D93Mh/SncznP0VU7+iE+uc/maYbuIcF6D9fUnCwTd7nP5y04RCNKug/+dn3aykb6D/Y6ybY6yboP/ZNzt3xKeg/WHCpbO866D8NzEQvKTjoP3HNQqQOQOg/Byh3gHIH6D8ogzmmfzLoPxkmoiU5c+g/KXITNeiX6D+QLMD8kQXoP3ttPlzcKug/Ywdg4GQf6D+4miHwIzboPw==",
          "dtype": "f8"
         }
        },
        {
         "fill": "tonexty",
         "fillcolor": "rgba(44, 160, 44, 0.1)",
         "legendgroup": "('llama3.1_8b_chat', 'cities_10k', 'base', 'main', 'prompt_answer')",
         "line": {
          "width": 0
         },
         "mode": "lines",
         "name": "('llama3.1_8b_chat', 'cities_10k', 'base', 'main', 'prompt_answer') Min",
         "showlegend": false,
         "type": "scatter",
         "x": {
          "bdata": "AAECAwQFBgcICQoLDA0ODxAREhMUFRYXGBkaGxwdHh8=",
          "dtype": "i1"
         },
         "y": {
          "bdata": "9kHTol0f5D9sOtIeCvTjP8EnAjO37+M/9DzP8zzP4z/LH1aThRvkP/U7hUSY4OQ/TnARCb2f5T8lmNNosLflP3RY1wrsnuU/4UlB8udV5j8tiWJK23XmP0Y5eD1jpuY/l2/5lm/55j8AAAAAAHDmPxknknEiGec/ZIfVptP+5j83YK+Q6ofmP+Z+koL/eeY/6fD1o8KB5j8y9C9tBA7nPxxJ8+t9C+c/usJcYa4w5z/+x8CuAVHnP7rCXGGuMOc/REMh95sJ5z//cVjs5+jmP927Cdrg3+Y/uUZcI64R5z/k+zqE/xXnPy/4qzghJec/E3BcNrEM5z/ib1OMGv7mPw==",
          "dtype": "f8"
         }
        },
        {
         "legendgroup": "('llama3.1_8b_chat', 'cities_10k', 'base', 'main', 'prompt_answer')",
         "line": {
          "width": 0
         },
         "mode": "lines",
         "name": "('llama3.1_8b_chat', 'cities_10k', 'base', 'main', 'prompt_answer') +1 STD",
         "showlegend": false,
         "type": "scatter",
         "x": {
          "bdata": "AAECAwQFBgcICQoLDA0ODxAREhMUFRYXGBkaGxwdHh8=",
          "dtype": "i1"
         },
         "y": {
          "bdata": "2+vGdxsB5T9G0UBIGOXkPx86pzjRsuQ/Q6Aa5Dyf5D/0K5+TFjjlP4x/YkCXmeU/JnIvd+o/5j+zAKuf+SHnP+zu76xAf+c/uUTFRxJN5z/gnCGzH6PnPzdv/rbgs+c/F+W5C/Xf5z8oXlHxd7XnP3/xqior4ec/FTPqqP/Z5z/Tu92QE9bnP3jHwQt3/uc/6ifft4EV6D8mfckBwg/oP13KRQtH/+c/fT22weAe6D/FH2H03SnoP1nAd4nECOg/3Sam1RAZ6D9UU1JMHCToP+YKD2ORVug/oXkivF476D/Cq0iUowDoPy4lVUEQFOg/4NWiCkEj6D9TZl14TTPoPw==",
          "dtype": "f8"
         }
        },
        {
         "fill": "tonexty",
         "fillcolor": "rgba(44, 160, 44, 0.3)",
         "legendgroup": "('llama3.1_8b_chat', 'cities_10k', 'base', 'main', 'prompt_answer')",
         "line": {
          "width": 0
         },
         "mode": "lines",
         "name": "('llama3.1_8b_chat', 'cities_10k', 'base', 'main', 'prompt_answer') -1 STD",
         "showlegend": false,
         "type": "scatter",
         "x": {
          "bdata": "AAECAwQFBgcICQoLDA0ODxAREhMUFRYXGBkaGxwdHh8=",
          "dtype": "i1"
         },
         "y": {
          "bdata": "OaenaaQR5D9+Y9mxRd7jP+cdMYRVAOQ/nSH7WALV4z/+w9/OGFfkP2otmwdg6uQ/BDLUXMGb5T/VzGIkKLDlP9qO1B2rDuY/S+7S5uBl5j9WauAbdKHmP43agAuRv+Y/D50AlREL5z/wOMYOaqLmP/+y2l0hIec/s1Oo35UW5z+DoOOcZ8HmP9iD9D3UueY/wlfz9kTm5j+UJIh8BSjnP6+tvDoYA+c/V19xQmJE5z9/AsqrBErnP12qnJc4Pec/Ryy3GIRO5z8YKCJ1EBLnPzZ0bsGhHec/r61YXlwd5z/6G582JirnP4Cr5dv3J+c/zACZ4EZE5z9xDGE7dgnnPw==",
          "dtype": "f8"
         }
        },
        {
         "legendgroup": "('llama3.1_8b_chat', 'cities_10k', 'base', 'main', 'prompt_answer')",
         "marker": {
          "color": "#2ca02c",
          "opacity": 0.5,
          "size": 6
         },
         "mode": "markers",
         "name": "('llama3.1_8b_chat', 'cities_10k', 'base', 'main', 'prompt_answer') Fold ('logistic_regression_f1_score', 0)",
         "showlegend": false,
         "type": "scatter",
         "x": {
          "bdata": "AAECAwQFBgcICQoLDA0ODxAREhMUFRYXGBkaGxwdHh8=",
          "dtype": "i1"
         },
         "y": {
          "bdata": "VaOPVKOP5D+MFzKLEeTkP3dHIxvGv+Q/N0X67G7M5D+lUW25ShrlPxoSrk5DwuU/0ZKcOdxq5j/Y1FpmR1TnPylXEfqcKOc/h3f1mO655j8q6Id7KcfnP4a2K1Tue+c/rccj0Z4Q6D93Mh/SncznPyZH143syuc/maYbuIcF6D9fUnCwTd7nP5y04RCNKug/+dn3aykb6D/Y6ybY6yboP/ZNzt3xKeg/WHCpbO866D8yI07RLCvoP3HNQqQOQOg/Byh3gHIH6D8ogzmmfzLoPxkmoiU5c+g/KXITNeiX6D9v18oJz/TnP1cOAzNnCeg/iVeReBWJ5z82C6o9J9PnPw==",
          "dtype": "f8"
         }
        },
        {
         "legendgroup": "('llama3.1_8b_chat', 'cities_10k', 'base', 'main', 'prompt_answer')",
         "marker": {
          "color": "#2ca02c",
          "opacity": 0.5,
          "size": 6
         },
         "mode": "markers",
         "name": "('llama3.1_8b_chat', 'cities_10k', 'base', 'main', 'prompt_answer') Fold ('logistic_regression_f1_score', 1)",
         "showlegend": false,
         "type": "scatter",
         "x": {
          "bdata": "AAECAwQFBgcICQoLDA0ODxAREhMUFRYXGBkaGxwdHh8=",
          "dtype": "i1"
         },
         "y": {
          "bdata": "jFbJm51L5T+DoKk3SPnjP8EnAjO37+M/9DzP8zzP4z+2VGdLdbbkP5ULbpULbuU/+iu58Dj95T/9KJ1tPOblPwAKqU16uuY/tDbhkVja5j+QerfjhgbnP0Y5eD1jpuY/K7bJDC855z9FvCQgnIjnP0VU7+iE+uc/ObXdL+105z9QmqjUcVbnP1mXqED6d+c/2Kaa16aa5z9+RomfUeLnP8IgZ8n+Wuc/YfswX3W95z8h1JiRJpDnP3h4eHh4eOc/iH/4h3/45z9ogRZogRboPy1+jYLT4uc/XaZPu+2Q5z+28OB/7zvnPwG1d16fQec/Flwq27sO6D/BXDsw1w7oPw==",
          "dtype": "f8"
         }
        },
        {
         "legendgroup": "('llama3.1_8b_chat', 'cities_10k', 'base', 'main', 'prompt_answer')",
         "marker": {
          "color": "#2ca02c",
          "opacity": 0.5,
          "size": 6
         },
         "mode": "markers",
         "name": "('llama3.1_8b_chat', 'cities_10k', 'base', 'main', 'prompt_answer') Fold ('logistic_regression_f1_score', 2)",
         "showlegend": false,
         "type": "scatter",
         "x": {
          "bdata": "AAECAwQFBgcICQoLDA0ODxAREhMUFRYXGBkaGxwdHh8=",
          "dtype": "i1"
         },
         "y": {
          "bdata": "+PCa1iCG5D/MT3lrxfzkP7S7tI0Zj+Q/5D71YTvu4z/LH1aThRvkPx+F61G4HuU/W1+Vgqr15T+HcAiHcAjnPxhxhZ6liuc/EGHqjW+T5z/89gnaX/TmP6h92qd92uc/2iyFBSii5z+7ZovvxTbnPxknknEiGec/9KN0tvGY5z/ml4vtErjnP/jOl4K1oec/71sjq8uw5z8X2yVw7z7nP3dxF3dxF+c/WlpaWlpa5z9LSn9POF3nP65CeN0qhOc/i+agLV3G5z8T02gLkFrnP9voMKOUYec/0VNq1E2H5z++gpxwqJ7nP7HgrSIQe+c/lG2dYey+5z/ib1OMGv7mPw==",
          "dtype": "f8"
         }
        },
        {
         "legendgroup": "('llama3.1_8b_chat', 'cities_10k', 'base', 'main', 'prompt_answer')",
         "marker": {
          "color": "#2ca02c",
          "opacity": 0.5,
          "size": 6
         },
         "mode": "markers",
         "name": "('llama3.1_8b_chat', 'cities_10k', 'base', 'main', 'prompt_answer') Fold ('logistic_regression_f1_score', 3)",
         "showlegend": false,
         "type": "scatter",
         "x": {
          "bdata": "AAECAwQFBgcICQoLDA0ODxAREhMUFRYXGBkaGxwdHh8=",
          "dtype": "i1"
         },
         "y": {
          "bdata": "9kHTol0f5D+kQRqkQRrkPxo4V9ltCeQ/yeSmPQBp5D+M6jQ5yLzkP/U7hUSY4OQ/8osM3LCn5T8lmNNosLflP3RY1wrsnuU/4UlB8udV5j8tiWJK23XmP558R4YN4uY/l2/5lm/55j8AAAAAAHDmP3rQOcQjNuc/yckqkDtH5z83YK+Q6ofmP+Z+koL/eeY/6fD1o8KB5j8y9C9tBA7nPxxJ8+t9C+c/usJcYa4w5z/+x8CuAVHnP7rCXGGuMOc/REMh95sJ5z//cVjs5+jmP927Cdrg3+Y/uUZcI64R5z/k+zqE/xXnPy/4qzghJec/E3BcNrEM5z9XrAFXrAHnPw==",
          "dtype": "f8"
         }
        },
        {
         "legendgroup": "('llama3.1_8b_chat', 'cities_10k', 'base', 'main', 'prompt_answer')",
         "marker": {
          "color": "#2ca02c",
          "opacity": 0.5,
          "size": 6
         },
         "mode": "markers",
         "name": "('llama3.1_8b_chat', 'cities_10k', 'base', 'main', 'prompt_answer') Fold ('logistic_regression_f1_score', 4)",
         "showlegend": false,
         "type": "scatter",
         "x": {
          "bdata": "AAECAwQFBgcICQoLDA0ODxAREhMUFRYXGBkaGxwdHh8=",
          "dtype": "i1"
         },
         "y": {
          "bdata": "4kLNSSAu5D9sOtIeCvTjPwp56yLcd+Q/2r5QmLYv5D8op92k6DzlP6VRbblKGuU/TnARCb2f5T9Ue06mrxLmP7oP1Ikk1uY/YCZ6ScHB5j8iL9kBhnPnP1dOeKa/Qec/FytmFytm5z9FpGsetd/mPz2Iu6gHcec/ZIfVptP+5j8Hgg/v9gXnP3cik+F/Duc/hHFiIhKN5z+wEsZmQbXnP9QCxiQO3uc/TH/RArr05z8NzEQvKTjoP3i/IneYwec/en63Jgmz5z/s6pHd9nrnP8h0z7X9Cug/OC8K2gGc5z+QLMD8kQXoP3ttPlzcKug/Ywdg4GQf6D+4miHwIzboPw==",
          "dtype": "f8"
         }
        },
        {
         "legendgroup": "('llama3.1_8b_chat', 'cities_10k', 'base', 'main', 'prompt_only')",
         "line": {
          "color": "#d62728",
          "width": 2
         },
         "marker": {
          "size": 8
         },
         "mode": "lines+markers",
         "name": "('llama3.1_8b_chat', 'cities_10k', 'base', 'main', 'prompt_only')",
         "type": "scatter",
         "x": {
          "bdata": "AAECAwQFBgcICQoLDA0ODxAREhMUFRYXGBkaGxwdHh8=",
          "dtype": "i1"
         },
         "y": {
          "bdata": "YuhM9Cyd4T9ngsJBYDrhP3rVgpEy6OE/2UhHR9uS4T/5Uio7AIziPxX2wchfDOM/s/tNxtZL5D9xGDI+pa7kP1qrlVwJ5uU/C7ktkGD15T/g9y3SvfzlP7obeoa6/+U/Yy6si9Fw5j9SoaL5AYjmP3KB55WifuY/8q6yx+hc5j+Tpafj+sTmP92TnLsYruY/PYmtCwjV5j89SLCQkMrmPxZgHTXs3+Y/Z6cvu7HA5j/DjXn8w7LmP/s7XmmKzeY/zQppgv+D5j+CFwxAmoHmP2bg30R1h+Y/e2vBqpeE5j8rgKVLND3mP8CX3nnIH+Y/9E+umiNp5j+Y3/xmSFHmPw==",
          "dtype": "f8"
         }
        },
        {
         "legendgroup": "('llama3.1_8b_chat', 'cities_10k', 'base', 'main', 'prompt_only')",
         "line": {
          "width": 0
         },
         "mode": "lines",
         "name": "('llama3.1_8b_chat', 'cities_10k', 'base', 'main', 'prompt_only') Max",
         "showlegend": false,
         "type": "scatter",
         "x": {
          "bdata": "AAECAwQFBgcICQoLDA0ODxAREhMUFRYXGBkaGxwdHh8=",
          "dtype": "i1"
         },
         "y": {
          "bdata": "6oaspxNx4j+z69Squ4HiP7EhB7OoMuI/92miWKki4j9yNe1URCjjP03XRZ5+mOM/WU1lNZXV5D+k3u24ocHlP5IkSZIkSeY/TfoeK0KN5j9nmWaZZpnmP4AzKVRDnOY/BhdccMEF5z+7fKjFgwLnP28rH9cPveY/2pakbUna5j8v7W06gmXnP/FpHS5tbuc/RhdddNFF5z9aZDvfT43nP4CSPtzvduc/13Vd13Vd5z8J9A9AVY7nP6LGdkJ1cOc/x3Ecx3Ec5z/I4/F4PB7nP6T15N6WH+c/wE6FdMgk5z+wHxUOtCLnP7bWWmutteY/pccCAYy+5j9dNsFhQ+jmPw==",
          "dtype": "f8"
         }
        },
        {
         "fill": "tonexty",
         "fillcolor": "rgba(214, 39, 40, 0.1)",
         "legendgroup": "('llama3.1_8b_chat', 'cities_10k', 'base', 'main', 'prompt_only')",
         "line": {
          "width": 0
         },
         "mode": "lines",
         "name": "('llama3.1_8b_chat', 'cities_10k', 'base', 'main', 'prompt_only') Min",
         "showlegend": false,
         "type": "scatter",
         "x": {
          "bdata": "AAECAwQFBgcICQoLDA0ODxAREhMUFRYXGBkaGxwdHh8=",
          "dtype": "i1"
         },
         "y": {
          "bdata": "E56Wm+224D+/plTtYD3gP8j+Xg6fieE/0BUdfKXc4D8FEkgggQTiP9geclkxUOI/kZJnGdEH5D/tY8RykCjkP6tsygONSuU/uwYe/Npa5T/Q1ix+quvkP1YTVXbVROU/u1RIGJ7k5T8AAAAAABDmP4k74o64I+Y/qA7uykns5T9GRkZGRkbmP6lUTdbwy+U/e/xSN3pR5j9M6yoROhfmP47jOI7jOOY/CeRxwKXM5T9ToNavFKjlPxr3DANMe+U/BBB+6ASz5T/D9Shcj8LlP5VTd1vev+U/xtjBQw7o5T+eBO2GY0rlP1+kdOU3L+U/Kx/XD72W5T+nIdM7sL/lPw==",
          "dtype": "f8"
         }
        },
        {
         "legendgroup": "('llama3.1_8b_chat', 'cities_10k', 'base', 'main', 'prompt_only')",
         "line": {
          "width": 0
         },
         "mode": "lines",
         "name": "('llama3.1_8b_chat', 'cities_10k', 'base', 'main', 'prompt_only') +1 STD",
         "showlegend": false,
         "type": "scatter",
         "x": {
          "bdata": "AAECAwQFBgcICQoLDA0ODxAREhMUFRYXGBkaGxwdHh8=",
          "dtype": "i1"
         },
         "y": {
          "bdata": "g6cA1LM84j9OSIK3FlHiP0jXTB4LMuI/3u5qNXEg4j8I97NncQrjPy8MxtlKhuM/Sl3Oerqg5D/W8zVxxVrlP37z0OTHU+Y/Z7VGKGxr5j/5C+sJhrfmP96gMha/i+Y/JG9Kierq5j+gpTHe/uXmP5vw8I2cvuY/+lK2B/S+5j+lvCh/yD3nP3lEfUoaaec/Kk1rfDY/5z9wi9DTsmvnPx/GCPYZYuc/Og5ckX105z+b2ATa9H7nP5iCFG5nnOc/VX1JmY8T5z/kZY6QCRXnP/KT61xcGuc/lAbo5RwC5z9nnsMtZuXmPyE2uCltsOY/cU+vcczk5j+A/VMVVdfmPw==",
          "dtype": "f8"
         }
        },
        {
         "fill": "tonexty",
         "fillcolor": "rgba(214, 39, 40, 0.3)",
         "legendgroup": "('llama3.1_8b_chat', 'cities_10k', 'base', 'main', 'prompt_only')",
         "line": {
          "width": 0
         },
         "mode": "lines",
         "name": "('llama3.1_8b_chat', 'cities_10k', 'base', 'main', 'prompt_only') -1 STD",
         "showlegend": false,
         "type": "scatter",
         "x": {
          "bdata": "AAECAwQFBgcICQoLDA0ODxAREhMUFRYXGBkaGxwdHh8=",
          "dtype": "i1"
         },
         "y": {
          "bdata": "QSmZFKb94D+AvALMqSPgP6zTuARanuE/1KIjWUUF4T/qrqAOjw3iP/vfvbd0kuI/HJrNEfP24z8MPS4LhQLkPzZjWtRKeOU/r7wU+FR/5T/H43Ca9UHlP5aWwfa1c+U/ou0Njrj25T8EnRMVBSrmP0kS3p2oPuY/6gqvh9365T+BjiZILUzmP0HjuywX8+U/UMXvmtlq5j8KBZBNbinmPw36MXS+XeY/lEAD5eUM5j/rQu4ek+blP171p2St/uU/RZiIa2/05T8gyYnvKu7lP9os1CyO9OU/YtCabxIH5j/vYYdpApXlP1/5BMojj+U/d1Ctw3rt5T+wwaW4O8vlPw==",
          "dtype": "f8"
         }
        },
        {
         "legendgroup": "('llama3.1_8b_chat', 'cities_10k', 'base', 'main', 'prompt_only')",
         "marker": {
          "color": "#d62728",
          "opacity": 0.5,
          "size": 6
         },
         "mode": "markers",
         "name": "('llama3.1_8b_chat', 'cities_10k', 'base', 'main', 'prompt_only') Fold ('logistic_regression_f1_score', 0)",
         "showlegend": false,
         "type": "scatter",
         "x": {
          "bdata": "AAECAwQFBgcICQoLDA0ODxAREhMUFRYXGBkaGxwdHh8=",
          "dtype": "i1"
         },
         "y": {
          "bdata": "6oaspxNx4j/2W20MTXfgP8j+Xg6fieE/0BUdfKXc4D8iIiIiIiLiP62RF8piLuM/dWN7W9sw5D+luou1iujkP5IkSZIkSeY/aMSPG6fp5T8eOdjEjU/mP9oZdSEuDeY/R5FAADlS5j+lZ0SyTHrmP28rH9cPveY/btkBsVIP5j8X4zDl1N3mP+YiFk3oHOc/RhdddNFF5z9aZDvfT43nP40/I13yBuc/13Vd13Vd5z8jX6yujWbnP6LGdkJ1cOc/8ZMLUTeD5j/F5deY7qLmP0e2/Ybjj+Y/EFg5tMh25j+o4qA1ZyLmP5IF7lxrSOY/l8vlcrlc5j/DlxtiQDrmPw==",
          "dtype": "f8"
         }
        },
        {
         "legendgroup": "('llama3.1_8b_chat', 'cities_10k', 'base', 'main', 'prompt_only')",
         "marker": {
          "color": "#d62728",
          "opacity": 0.5,
          "size": 6
         },
         "mode": "markers",
         "name": "('llama3.1_8b_chat', 'cities_10k', 'base', 'main', 'prompt_only') Fold ('logistic_regression_f1_score', 1)",
         "showlegend": false,
         "type": "scatter",
         "x": {
          "bdata": "AAECAwQFBgcICQoLDA0ODxAREhMUFRYXGBkaGxwdHh8=",
          "dtype": "i1"
         },
         "y": {
          "bdata": "E56Wm+224D++io+osZ3gPydvn79/quE/PNzJqNMg4j/3YvSUO37iP7uu67qu6+I/h9dHbSQM5D/pRZyoPC3kP6tsygONSuU/uwYe/Npa5T9jfWisD43lPyy9iBOVp+U/u1RIGJ7k5T9mSiDdWFjmP6b2cJ2tbeY/qA7uykns5T+VNWVNWVPmP6lUTdbwy+U/nKQOOX2Y5j9tNLuEkS/mP47jOI7jOOY/juM4juM45j+OtcGxNjjmP4RG3vlbnOY/pzzQqFRN5j/WFgZoxhLmP6/IfGniMOY/w5cbYkA65j8eOdjEjU/mP00le3PmKeY/pccCAYy+5j+NSe2HfeXlPw==",
          "dtype": "f8"
         }
        },
        {
         "legendgroup": "('llama3.1_8b_chat', 'cities_10k', 'base', 'main', 'prompt_only')",
         "marker": {
          "color": "#d62728",
          "opacity": 0.5,
          "size": 6
         },
         "mode": "markers",
         "name": "('llama3.1_8b_chat', 'cities_10k', 'base', 'main', 'prompt_only') Fold ('logistic_regression_f1_score', 2)",
         "showlegend": false,
         "type": "scatter",
         "x": {
          "bdata": "AAECAwQFBgcICQoLDA0ODxAREhMUFRYXGBkaGxwdHh8=",
          "dtype": "i1"
         },
         "y": {
          "bdata": "XamymRLO4T+z69Squ4HiPz+7gNhUGuI/XIWj0Oly4T9Q0of73e7iP03XRZ5+mOM/ms/1x8tg5D8WNyCtQGnkP0ZGRkZGRuY/TfoeK0KN5j9nmWaZZpnmP8Js5qDIaOY/lioiv+bW5j/R9x+L4MLmP7Zr165du+Y/2pakbUna5j8v7W06gmXnP/FpHS5tbuc/z/M8z/M85z95TLv5TBHnPzNbEE7dK+c/1Ol0Op1O5z8J9A9AVY7nP+td8mDAGec/neOW4vrz5j9ln0NqgvHmP82ZiC0PBec/wE6FdMgk5z+wHxUOtCLnP7bWWmutteY/AAAAAACw5j+lJFN7uM7mPw==",
          "dtype": "f8"
         }
        },
        {
         "legendgroup": "('llama3.1_8b_chat', 'cities_10k', 'base', 'main', 'prompt_only')",
         "marker": {
          "color": "#d62728",
          "opacity": 0.5,
          "size": 6
         },
         "mode": "markers",
         "name": "('llama3.1_8b_chat', 'cities_10k', 'base', 'main', 'prompt_only') Fold ('logistic_regression_f1_score', 3)",
         "showlegend": false,
         "type": "scatter",
         "x": {
          "bdata": "AAECAwQFBgcICQoLDA0ODxAREhMUFRYXGBkaGxwdHh8=",
          "dtype": "i1"
         },
         "y": {
          "bdata": "EdmXfICk4T/bEqb7xU/iP7EhB7OoMuI/92miWKki4j9yNe1URCjjP96XDm8dO+M/WU1lNZXV5D+k3u24ocHlP9g1uF+A/+U/2kmmmfQ95j+msBGSBo7mP4AzKVRDnOY/BhdccMEF5z+7fKjFgwLnP+e9OztZb+Y/hEbe+Vuc5j+/7/u+7/vmP6fLRfi0Duc/AwJohmu85j+kmJRkag/nP4CSPtzvduc/xB1xR9wR5z/FGwuepajmP8LJgm7WYec/x3Ecx3Ec5z/I4/F4PB7nP6T15N6WH+c/DAIrhxbZ5j/CQMDq+FLmP8pQIECzR+Y/W92nga+r5j9dNsFhQ+jmPw==",
          "dtype": "f8"
         }
        },
        {
         "legendgroup": "('llama3.1_8b_chat', 'cities_10k', 'base', 'main', 'prompt_only')",
         "marker": {
          "color": "#d62728",
          "opacity": 0.5,
          "size": 6
         },
         "mode": "markers",
         "name": "('llama3.1_8b_chat', 'cities_10k', 'base', 'main', 'prompt_only') Fold ('logistic_regression_f1_score', 4)",
         "showlegend": false,
         "type": "scatter",
         "x": {
          "bdata": "AAECAwQFBgcICQoLDA0ODxAREhMUFRYXGBkaGxwdHh8=",
          "dtype": "i1"
         },
         "y": {
          "bdata": "fuLya0x34T+/plTtYD3gP37gB37gB+I/24o3FjxL4T8FEkgggQTiP9geclkxUOI/kZJnGdEH5D/tY8RykCjkP2lL2pK2pOU/8Y1x9Cm75T/Q1ix+quvkP1YTVXbVROU/UMBVcpgg5j8AAAAAABDmP4k74o64I+Y/QqUKA0pe5j9GRkZGRkbmPyk2SGCAAOY/e/xSN3pR5j9M6yoROhfmP5/P5/P5fOY/CeRxwKXM5T9ToNavFKjlPxr3DANMe+U/BBB+6ASz5T/D9Shcj8LlP5VTd1vev+U/xtjBQw7o5T+eBO2GY0rlP1+kdOU3L+U/Kx/XD72W5T+nIdM7sL/lPw==",
          "dtype": "f8"
         }
        },
        {
         "legendgroup": "('llama3.1_8b_chat', 'football_leagues_1k', 'base', 'main', 'prompt_answer')",
         "line": {
          "color": "#9467bd",
          "width": 2
         },
         "marker": {
          "size": 8
         },
         "mode": "lines+markers",
         "name": "('llama3.1_8b_chat', 'football_leagues_1k', 'base', 'main', 'prompt_answer')",
         "type": "scatter",
         "x": {
          "bdata": "AAECAwQFBgcICQoLDA0ODxAREhMUFRYXGBkaGxwdHh8=",
          "dtype": "i1"
         },
         "y": {
          "bdata": "PTsWr0sW3j9ebqg3pYXYPyh03OL1iNU/Rn+iQNrk2T+QwNBeSIjgP0pjMOPm6Ng/AO0cUPER4D9Y4fJtTITfP4PwmYS4C9w/cqBytYhS4z/bL0yKeGngP06yrthd6uE/LXdCyC9D4T8gDD6ZkojjP5b/KWAjYd8/43dFVs2Q3T9kThZfCuLgPyBpZJw4F9c/bgzO1B5u4D9GAhefgqLcP1bGbPWId+E/kemDrj6T4T8GTAV+kqjjP873BbpAw+A/vP1fyX0l4j/2Tf9MAwHiP3ZcHGwAFt0/gMeQX8OP4D+t/UnLNMXhP6sU2dJgw+E/r/evNdBa4D+529c8ZqDhPw==",
          "dtype": "f8"
         }
        },
        {
         "legendgroup": "('llama3.1_8b_chat', 'football_leagues_1k', 'base', 'main', 'prompt_answer')",
         "line": {
          "width": 0
         },
         "mode": "lines",
         "name": "('llama3.1_8b_chat', 'football_leagues_1k', 'base', 'main', 'prompt_answer') Max",
         "showlegend": false,
         "type": "scatter",
         "x": {
          "bdata": "AAECAwQFBgcICQoLDA0ODxAREhMUFRYXGBkaGxwdHh8=",
          "dtype": "i1"
         },
         "y": {
          "bdata": "KfEzSvyM4j8AAAAAAADhPyI1wXgr+9w/EARBEARB4D9EpSN7BqLiPwAAAAAAAOA/TK4gJlcQ4z+g0wY6baDjP2IYhmEYhuE/lxUDJbzR5D9VVVVVVVXlP6hQoUKFCuU/NUiDNEiD5D/aqO9s1HfmP79d6sn47eI/KfEzSvyM4j+SJEmSJEniP5qZmZmZmdk/cB/BfQT34T+1tLS0tLTkP1VVVVVVVeU/9DzP8zzP4z8XXXTRRRflP6OLLrroouM/9DzP8zzP4z+D8zE4H4PjP2/hV2MiPeA/mpmZmZmZ4T9L1K5E7UrkPxdddNFFF+U/oNMGOm2g4z+XFQMlvNHkPw==",
          "dtype": "f8"
         }
        },
        {
         "fill": "tonexty",
         "fillcolor": "rgba(148, 103, 189, 0.1)",
         "legendgroup": "('llama3.1_8b_chat', 'football_leagues_1k', 'base', 'main', 'prompt_answer')",
         "line": {
          "width": 0
         },
         "mode": "lines",
         "name": "('llama3.1_8b_chat', 'football_leagues_1k', 'base', 'main', 'prompt_answer') Min",
         "showlegend": false,
         "type": "scatter",
         "x": {
          "bdata": "AAECAwQFBgcICQoLDA0ODxAREhMUFRYXGBkaGxwdHh8=",
          "dtype": "i1"
         },
         "y": {
          "bdata": "OYvpLKaz2D8LWchCFrLQPwAAAAAAANA/uulNb3rTyz9VVVVVVVXdP3TRRRdddNE/7ty5c+fO3T+llFJKKaXUP1VVVVVVVdU/59ceclkx4D/xVvY5pCbYP2a38Ksxkd4/mpmZmZmZ2T93xB1xR9zhPxQ7sRM7sdM/lmVZlmVZ1j9v4VdjIj3gP6WUUkoppdQ/dV8eWxE03D9FF1100UXXPx0eHh4eHt4/H/iBH/iB3z8ZeLo1PyziPzbZZJNNNtk/R9wRd8Qd4T97Ce0ltJfgPwAAAAAAANo/R1juaYTl3j9XBA0ndV/eP97d3d3d3d0/mpmZmZmZ2T+d2Imd2IndPw==",
          "dtype": "f8"
         }
        },
        {
         "legendgroup": "('llama3.1_8b_chat', 'football_leagues_1k', 'base', 'main', 'prompt_answer')",
         "line": {
          "width": 0
         },
         "mode": "lines",
         "name": "('llama3.1_8b_chat', 'football_leagues_1k', 'base', 'main', 'prompt_answer') +1 STD",
         "showlegend": false,
         "type": "scatter",
         "x": {
          "bdata": "AAECAwQFBgcICQoLDA0ODxAREhMUFRYXGBkaGxwdHh8=",
          "dtype": "i1"
         },
         "y": {
          "bdata": "dhnOBjqh4T8/cnCRkLjfP3thwHLpNNo/5WF506SG4D9lRLnb6jjiP5FRMZ9fnN4/JlOdSOPH4T9WBPXeHkfjPyw3hySU2eA/vYdxNvBF5T8tIjsGIsrjPwS0QcQoD+Q/T6ZQ4Lkn5D8CRzpRdlDlPwiBSYMQguM/kRY8Cy7a4T93xmER4rDhP7i5gOcIH9k/Kw5A/bjq4T+itap0sS/iP2o1A8eUDeQ/NhzrM9sj4z8bnVH5PvHkP4wOKIlmD+Q/nSWvTGph4z/0t7WgXzDjP+nUugEzwd8/wYhn87eF4T8IcLXZg9HjP740VSuPZOQ/yH9ngrJG4z8MlC8PJ07kPw==",
          "dtype": "f8"
         }
        },
        {
         "fill": "tonexty",
         "fillcolor": "rgba(148, 103, 189, 0.3)",
         "legendgroup": "('llama3.1_8b_chat', 'football_leagues_1k', 'base', 'main', 'prompt_answer')",
         "line": {
          "width": 0
         },
         "mode": "lines",
         "name": "('llama3.1_8b_chat', 'football_leagues_1k', 'base', 'main', 'prompt_answer') -1 STD",
         "showlegend": false,
         "type": "scatter",
         "x": {
          "bdata": "AAECAwQFBgcICQoLDA0ODxAREhMUFRYXGBkaGxwdHh8=",
          "dtype": "i1"
         },
         "y": {
          "bdata": "j0OQUCPq2D99auDduVLRP9WG+FIC3dA/wjpS2mq80j92edDDS6/dPwN1LyduNdM/tA05r/633D8EuvsdW3rYP65yJcBIZNY/J7lzNCFf4T8Se7ocnhHaPzBhN9oli98/FpBoYEu93D8+0UHhrsDhPxv9wLklvtc/pMISlj5t1z9R1sqsMhPgP4gYSFFoD9U/YRW4WAnj3T9HmdhUouXUP4SurEf6wt0/7LYcKaIC4D/x+rgC5l/iPx/Cx9U17to/29UQRpHp4D/440j5ptHgPwPkfdbNato/fQx0l50z3z+lFr15y3HfPy/pufRkRN4/LN/w0dvd2j/NRgDVSuXdPw==",
          "dtype": "f8"
         }
        },
        {
         "legendgroup": "('llama3.1_8b_chat', 'football_leagues_1k', 'base', 'main', 'prompt_answer')",
         "marker": {
          "color": "#9467bd",
          "opacity": 0.5,
          "size": 6
         },
         "mode": "markers",
         "name": "('llama3.1_8b_chat', 'football_leagues_1k', 'base', 'main', 'prompt_answer') Fold ('logistic_regression_f1_score', 0)",
         "showlegend": false,
         "type": "scatter",
         "x": {
          "bdata": "AAECAwQFBgcICQoLDA0ODxAREhMUFRYXGBkaGxwdHh8=",
          "dtype": "i1"
         },
         "y": {
          "bdata": "KfEzSvyM4j8AAAAAAADhPyI1wXgr+9w/EARBEARB4D9QB3VQB3XgP9jnkJpgvNU/7ty5c+fO3T+g0wY6baDjP1VVVVVVVdU/RKUjewai4j/xVvY5pCbYP3kN5TWU1+A/mpmZmZmZ2T83talNbWrjP79d6sn47eI/KfEzSvyM4j+SJEmSJEniP9iJndiJndg/cB/BfQT34T+1tLS0tLTkP1VVVVVVVeU/H/iBH/iB3z/jJszvanHjPxy5kRu5kds/whT5rBtM4T8aJX5GiZ/hP3VfHlsRNNw/R1juaYTl3j9XBA0ndV/eP97d3d3d3d0/mpmZmZmZ2T+d2Imd2IndPw==",
          "dtype": "f8"
         }
        },
        {
         "legendgroup": "('llama3.1_8b_chat', 'football_leagues_1k', 'base', 'main', 'prompt_answer')",
         "marker": {
          "color": "#9467bd",
          "opacity": 0.5,
          "size": 6
         },
         "mode": "markers",
         "name": "('llama3.1_8b_chat', 'football_leagues_1k', 'base', 'main', 'prompt_answer') Fold ('logistic_regression_f1_score', 1)",
         "showlegend": false,
         "type": "scatter",
         "x": {
          "bdata": "AAECAwQFBgcICQoLDA0ODxAREhMUFRYXGBkaGxwdHh8=",
          "dtype": "i1"
         },
         "y": {
          "bdata": "OYvpLKaz2D/sUbgehevRPzgFL6fg5dQ/uulNb3rTyz9EpSN7BqLiP3TRRRdddNE/X/EVX/EV3z+71JPx26XePwubA4lW2Nw/JUmSJEmS5D9VVVVVVVXlP0SlI3sGouI/URRFURRF4T+D8zE4H4PjPwAAAAAAANw/lmVZlmVZ1j9v4VdjIj3gP6WUUkoppdQ/whT5rBtM4T9XfMVXfMXXP7sStStRu+I/9DzP8zzP4z8XXXTRRRflP2gvob2E9uI/ysDTrflh4T97Ce0ltJfgPxy5kRu5kds/NgcSrbA54D9sKK+hvIbiP7/2kMuKgeI/oNMGOm2g4z+XFQMlvNHkPw==",
          "dtype": "f8"
         }
        },
        {
         "legendgroup": "('llama3.1_8b_chat', 'football_leagues_1k', 'base', 'main', 'prompt_answer')",
         "marker": {
          "color": "#9467bd",
          "opacity": 0.5,
          "size": 6
         },
         "mode": "markers",
         "name": "('llama3.1_8b_chat', 'football_leagues_1k', 'base', 'main', 'prompt_answer') Fold ('logistic_regression_f1_score', 2)",
         "showlegend": false,
         "type": "scatter",
         "x": {
          "bdata": "AAECAwQFBgcICQoLDA0ODxAREhMUFRYXGBkaGxwdHh8=",
          "dtype": "i1"
         },
         "y": {
          "bdata": "AAAAAAAA3j8LWchCFrLQPwAAAAAAANA/CcZb2eeQ2j9VVVVVVVXdPzmL6Syms9g/TK4gJlcQ4z/0MTgfg/PhP2IYhmEYhuE/lxUDJbzR5D8AAAAAAADeP3Icx3Ecx+E/NUiDNEiD5D+TJk2aNGniPxQ7sRM7sdM/SJIkSZIk2T/d0wjLPY3gP7Zt27Zt29Y/dV8eWxE03D9mt/CrMZHePx0eHh4eHt4/BqLSkT0D4T9ObWpTm9rkP9PS0tLS0uI/R9wRd8Qd4T/poosuuujiP97yLd/yLd8/mpmZmZmZ4T9EpSN7BqLiP8MwDMMwDOM/50CiFTYH4j8zMzMzMzPjPw==",
          "dtype": "f8"
         }
        },
        {
         "legendgroup": "('llama3.1_8b_chat', 'football_leagues_1k', 'base', 'main', 'prompt_answer')",
         "marker": {
          "color": "#9467bd",
          "opacity": 0.5,
          "size": 6
         },
         "mode": "markers",
         "name": "('llama3.1_8b_chat', 'football_leagues_1k', 'base', 'main', 'prompt_answer') Fold ('logistic_regression_f1_score', 3)",
         "showlegend": false,
         "type": "scatter",
         "x": {
          "bdata": "AAECAwQFBgcICQoLDA0ODxAREhMUFRYXGBkaGxwdHh8=",
          "dtype": "i1"
         },
         "y": {
          "bdata": "mpmZmZmZ2T/atm3btm3bPzgFL6fg5dQ/YLmnEZZ72j9yHMdxHMfhP/CrMZEeqNw//Pjx48eP3z8q8lk3mCLfP3Z3d3d3d9c/59ceclkx4D9QB3VQB3XgP2a38Ksxkd4/zczMzMzM4D93xB1xR9zhP/Hw8PDw8OA/IjXBeCv73D/d0wjLPY3gP9jnkJpgvNU/AAAAAAAA4D9FF1100UXXPwcffPDBB98/kyZNmjRp4j8ZeLo1PyziPzbZZJNNNtk/4wUyKV4g4z/KwNOt+WHhPwAAAAAAANo/AAAAAAAA4D830GkDnTbgP53neZ7ned4/HLmRG7mR2z/e3d3d3d3dPw==",
          "dtype": "f8"
         }
        },
        {
         "legendgroup": "('llama3.1_8b_chat', 'football_leagues_1k', 'base', 'main', 'prompt_answer')",
         "marker": {
          "color": "#9467bd",
          "opacity": 0.5,
          "size": 6
         },
         "mode": "markers",
         "name": "('llama3.1_8b_chat', 'football_leagues_1k', 'base', 'main', 'prompt_answer') Fold ('logistic_regression_f1_score', 4)",
         "showlegend": false,
         "type": "scatter",
         "x": {
          "bdata": "AAECAwQFBgcICQoLDA0ODxAREhMUFRYXGBkaGxwdHh8=",
          "dtype": "i1"
         },
         "y": {
          "bdata": "hBBCCCGE4D8JxlvZ55DaPzgFL6fg5dQ/AAAAAAAA3j9BnhLkKUHePwAAAAAAAOA/HR4eHh4e3j+llFJKKaXUP/kZJX5Gid8/VEZlVEZl5D8qZ7fwqzHhP6hQoUKFCuU/v13qyfjt4j/aqO9s1HfmP7sStStRu+I/DiRaYXMg4T872rxPccngP5qZmZmZmdk/O9q8T3HJ4D/xVvY5pCbYPwtZyEIWsuA/OY7jOI7j4D+7ErUrUbviP6OLLrroouM/9DzP8zzP4z+D8zE4H4PjP2/hV2MiPeA/jBgxYsSI4T9L1K5E7UrkPxdddNFFF+U/jBgxYsSI4T+TJk2aNGniPw==",
          "dtype": "f8"
         }
        },
        {
         "legendgroup": "('llama3.1_8b_chat', 'football_leagues_1k', 'base', 'main', 'prompt_only')",
         "line": {
          "color": "#8c564b",
          "width": 2
         },
         "marker": {
          "size": 8
         },
         "mode": "lines+markers",
         "name": "('llama3.1_8b_chat', 'football_leagues_1k', 'base', 'main', 'prompt_only')",
         "type": "scatter",
         "x": {
          "bdata": "AAECAwQFBgcICQoLDA0ODxAREhMUFRYXGBkaGxwdHh8=",
          "dtype": "i1"
         },
         "y": {
          "bdata": "Oy3+vgN23z+ZwQd8c9vUPz3p8w0yyeQ/t1Dqgx235D9/oBsO2aHiP31/Gqvgq9Y/AAAAAAAAAADaxYicDsTeP5mHMAMo3eM//himOvpl4j9tclzgmXnjP1SrltbR3uI/d9M61G2W5D9gj0qZc8bbP1uBtbUvTcw/DoEzsSZ/zj82Qee7JlLhP264J2/J6N0/Ukc8M6df4T9gRysXi6DiP1Cw9a93peM/Jef18BYG3D9+N1aVLbPgP53S1JR8RdY/NtECGAf12z+e7N4i3oLgP6brM2Aff+E/ydGw7RxM4j+x5t2iQuDhPyo6JsXxCeI/vQgMW7Tt4D/7lLT3rWbdPw==",
          "dtype": "f8"
         }
        },
        {
         "legendgroup": "('llama3.1_8b_chat', 'football_leagues_1k', 'base', 'main', 'prompt_only')",
         "line": {
          "width": 0
         },
         "mode": "lines",
         "name": "('llama3.1_8b_chat', 'football_leagues_1k', 'base', 'main', 'prompt_only') Max",
         "showlegend": false,
         "type": "scatter",
         "x": {
          "bdata": "AAECAwQFBgcICQoLDA0ODxAREhMUFRYXGBkaGxwdHh8=",
          "dtype": "i1"
         },
         "y": {
          "bdata": "VVVVVVVV5T+YIp91gyniP1nJSlaykuU/VVVVVVVV5T9VVVVVVVXlP9InfdInfeI/AAAAAAAAAABVVVVVVVXlPwYWWGCBBeY/VOCLqx905D/UdzbqOxvlP1VVVVVVVeU/AAAAAAAA5j8UoQhFKELhP5S6L4+tCNo/aCAqHdkz4D8Jyz2NsNzjP28wRT7rBuM/9DzP8zzP4z9VVVVVVVXlP2N9aKwPjeU/MzMzMzMz4z+CqHRkz0DkPwAAAAAAAOA/GiV+Romf4T8Gnm7ND4vkP/q1h1xWDOQ/VVVVVVVV5T/Ew8PDw8PjP28wRT7rBuM/ZZNNNtlk4z8iIiIiIiLiPw==",
          "dtype": "f8"
         }
        },
        {
         "fill": "tonexty",
         "fillcolor": "rgba(140, 86, 75, 0.1)",
         "legendgroup": "('llama3.1_8b_chat', 'football_leagues_1k', 'base', 'main', 'prompt_only')",
         "line": {
          "width": 0
         },
         "mode": "lines",
         "name": "('llama3.1_8b_chat', 'football_leagues_1k', 'base', 'main', 'prompt_only') Min",
         "showlegend": false,
         "type": "scatter",
         "x": {
          "bdata": "AAECAwQFBgcICQoLDA0ODxAREhMUFRYXGBkaGxwdHh8=",
          "dtype": "i1"
         },
         "y": {
          "bdata": "cEfcEXfEzT8AAAAAAAAAAAAAAAAAAOQ/lJOTk5OT4z+SJEmSJEnSP5qZmZmZmbk/AAAAAAAAAAAcx3Ecx3G8P5Z7GmG5p+E/s6asKWvK2j+MGDFixIjhPzmO4ziO4+A/cLYO/Wbr4D83H4PzMTjPPwAAAAAAAAAAAAAAAAAAAACgUeJnlPjZP6mqqqqqqso/vmNqYO+Y2j+dnJycnJzcP3Icx3Ecx+E/dNFFF1100T9PG+i0gU7bPxI7sRM7scM/OAUvp+Dl1D8YGRkZGRnZP2C5pxGWe9o/OYvpLKaz2D/wqzGRHqjcP4wxxhhjjOE/5pxzzjnn3D+WlpaWlpbWPw==",
          "dtype": "f8"
         }
        },
        {
         "legendgroup": "('llama3.1_8b_chat', 'football_leagues_1k', 'base', 'main', 'prompt_only')",
         "line": {
          "width": 0
         },
         "mode": "lines",
         "name": "('llama3.1_8b_chat', 'football_leagues_1k', 'base', 'main', 'prompt_only') +1 STD",
         "showlegend": false,
         "type": "scatter",
         "x": {
          "bdata": "AAECAwQFBgcICQoLDA0ODxAREhMUFRYXGBkaGxwdHh8=",
          "dtype": "i1"
         },
         "y": {
          "bdata": "TKU1HmVr5T84emJ2MfbjPwIm48AxcOU/+uiSJCGT5T8C0JH/DfPnP8wCp7H4SeE/AAAAAAAAAABQKn11uIbmP00ug1aNmOU/CXWicoFx5T8V4cSg6eLkP5/qXOUFvuQ/tTc7FIWu5j8UM86WYMPhPz+W8fYYR9s/aVZu2L1e3D+Pi5YWGRjkP1nn6WxGROQ/x0EEI+ZB5D8c/BUGb4/lPw2MEgUpWOU/aePf1E8s4j/JBhVDhqHjP2Ya3hbcdN4/Vtk6XHnH4D/OXshuzzTkP6Rg/TiHNOQ/E412Spfy5T+UseQcnxHkPzNMg0xQpOI/cwdt+NEI4z/J8aU/RC7hPw==",
          "dtype": "f8"
         }
        },
        {
         "fill": "tonexty",
         "fillcolor": "rgba(140, 86, 75, 0.3)",
         "legendgroup": "('llama3.1_8b_chat', 'football_leagues_1k', 'base', 'main', 'prompt_only')",
         "line": {
          "width": 0
         },
         "mode": "lines",
         "name": "('llama3.1_8b_chat', 'football_leagues_1k', 'base', 'main', 'prompt_only') -1 STD",
         "showlegend": false,
         "type": "scatter",
         "x": {
          "bdata": "AAECAwQFBgcICQoLDA0ODxAREhMUFRYXGBkaGxwdHh8=",
          "dtype": "i1"
         },
         "y": {
          "bdata": "3g+RQT0V1D8Q7Ki0QKicP3isBFsyIuQ/dLhB4xnb4z/34Uo5SKHaP8LyzeWfh8U/AAAAAAAAAAAUNxdOrHrQP+Xg3a/CIeI/5nlTBea03j/FA/QfShDiPwls0Med/+A/OW86lFZ+4j+XuPgEJgbUP8CxPuxrYZA/KFUpxkYDoT+67W/CaBjdPyqiewQGSdM/upnohtD63D9IJYFQTmPfP5PU2FrG8uE/eAcsOI6z0z9m0C7PqYnbP6gVlyU6LMw/we+Pdxtb1j/b9Oqt2aHZP0/t1A5vk90//izWIUVL3T+cN65RzF3fPyEoyT2Tb+E/DhRWey2l3T9kRh1w03DYPw==",
          "dtype": "f8"
         }
        },
        {
         "legendgroup": "('llama3.1_8b_chat', 'football_leagues_1k', 'base', 'main', 'prompt_only')",
         "marker": {
          "color": "#8c564b",
          "opacity": 0.5,
          "size": 6
         },
         "mode": "markers",
         "name": "('llama3.1_8b_chat', 'football_leagues_1k', 'base', 'main', 'prompt_only') Fold ('logistic_regression_f1_score', 0)",
         "showlegend": false,
         "type": "scatter",
         "x": {
          "bdata": "AAECAwQFBgcICQoLDA0ODxAREhMUFRYXGBkaGxwdHh8=",
          "dtype": "i1"
         },
         "y": {
          "bdata": "VVVVVVVV5T872rxPccngPwAAAAAAAOQ/VVVVVVVV5T9VVVVVVVXlP5qZmZmZmbk/AAAAAAAAAABVVVVVVVXlP/q1h1xWDOQ/XXTRRRdd5D9oL6G9hPbiP6Ujewai0uE/AAAAAAAA5j8UoQhFKELhP5Z6Mn671NM/2Imd2Imd2D+VUkoppZTiP6Ujewai0uE/MzMzMzMz4z9VVVVVVVXlP2N9aKwPjeU/MzMzMzMz4z9tsskmm2ziP1VVVVVVVdU/OAUvp+Dl1D+amZmZmZnZP4QQQgghhOA/OL3pTW964z/Ew8PDw8PjP4wxxhhjjOE/ZZNNNtlk4z/sG9a+Ye3bPw==",
          "dtype": "f8"
         }
        },
        {
         "legendgroup": "('llama3.1_8b_chat', 'football_leagues_1k', 'base', 'main', 'prompt_only')",
         "marker": {
          "color": "#8c564b",
          "opacity": 0.5,
          "size": 6
         },
         "mode": "markers",
         "name": "('llama3.1_8b_chat', 'football_leagues_1k', 'base', 'main', 'prompt_only') Fold ('logistic_regression_f1_score', 1)",
         "showlegend": false,
         "type": "scatter",
         "x": {
          "bdata": "AAECAwQFBgcICQoLDA0ODxAREhMUFRYXGBkaGxwdHh8=",
          "dtype": "i1"
         },
         "y": {
          "bdata": "xhhjjDHG2D+YIp91gyniP1nJSlaykuU/VVVVVVVV5T9U4IurH3TkPyryWTeYIt8/AAAAAAAAAAAAAAAAAADcPwYWWGCBBeY/kpGRkZGR4T+MGDFixIjhPyD96Ec/+uE/cLYO/Wbr4D8JRShCEYrgPzmO4ziO49g/aCAqHdkz4D9oL6G9hPbiP6uqqqqqquI/9DzP8zzP4z9SGZVRGZXhP3Icx3Ecx+E/dNFFF1100T+CqHRkz0DkPxI7sRM7scM/2rZt27Zt2z8Gnm7ND4vkP+MFMileIOM/VVVVVVVV5T+YIp91gyniP28wRT7rBuM/ZmZmZmZm4j8iIiIiIiLiPw==",
          "dtype": "f8"
         }
        },
        {
         "legendgroup": "('llama3.1_8b_chat', 'football_leagues_1k', 'base', 'main', 'prompt_only')",
         "marker": {
          "color": "#8c564b",
          "opacity": 0.5,
          "size": 6
         },
         "mode": "markers",
         "name": "('llama3.1_8b_chat', 'football_leagues_1k', 'base', 'main', 'prompt_only') Fold ('logistic_regression_f1_score', 2)",
         "showlegend": false,
         "type": "scatter",
         "x": {
          "bdata": "AAECAwQFBgcICQoLDA0ODxAREhMUFRYXGBkaGxwdHh8=",
          "dtype": "i1"
         },
         "y": {
          "bdata": "cEfcEXfEzT8AAAAAAAAAAFVVVVVVVeU/VVVVVVVV5T+SJEmSJEnSP8gQrKPN+9Q/AAAAAAAAAAAcx3Ecx3G8P5Z7GmG5p+E/VOCLqx905D8zMzMzMzPjPzmO4ziO4+A/VxCTK4jJ5T/GGGOMMcbYPwAAAAAAAAAAAAAAAAAAAAAJyz2NsNzjP28wRT7rBuM/MzMzMzMz4z9VVVVVVVXlP1VVVVVVVeU/BJWzW/jV2D9PG+i0gU7bP9BwUvflsdU/xhhjjDHG2D9lk0022WTjP/q1h1xWDOQ/Tm9605ve5D+Uk5OTk5PjP6Ujewai0uE/5pxzzjnn3D8HH3zwwQffPw==",
          "dtype": "f8"
         }
        },
        {
         "legendgroup": "('llama3.1_8b_chat', 'football_leagues_1k', 'base', 'main', 'prompt_only')",
         "marker": {
          "color": "#8c564b",
          "opacity": 0.5,
          "size": 6
         },
         "mode": "markers",
         "name": "('llama3.1_8b_chat', 'football_leagues_1k', 'base', 'main', 'prompt_only') Fold ('logistic_regression_f1_score', 3)",
         "showlegend": false,
         "type": "scatter",
         "x": {
          "bdata": "AAECAwQFBgcICQoLDA0ODxAREhMUFRYXGBkaGxwdHh8=",
          "dtype": "i1"
         },
         "y": {
          "bdata": "q6qqqqqq4j8AAAAAAAAAAC+QSfECmeQ/AAAAAAAA5D9VVVVVVVXlP9InfdInfeI/AAAAAAAAAADSJ33SJ33iPzkFL6fg5eQ/s6asKWvK2j8lSZIkSZLkP1RUVFRUVOQ/OQUvp+Dl5D83H4PzMTjPPwAAAAAAAAAA8QV9QV/Qxz830GkDnTbgP6mqqqqqqso/vmNqYO+Y2j+VUkoppZTiP9Mv/dIv/eI/SZIkSZIk4T900UUXXXThPwAAAAAAAOA/GiV+Romf4T9RFEVRFEXhPynxM0r8jOI/dNFFF1104T+MMcYYY4zhPxolfkaJn+E/URRFURRF4T+WlpaWlpbWPw==",
          "dtype": "f8"
         }
        },
        {
         "legendgroup": "('llama3.1_8b_chat', 'football_leagues_1k', 'base', 'main', 'prompt_only')",
         "marker": {
          "color": "#8c564b",
          "opacity": 0.5,
          "size": 6
         },
         "mode": "markers",
         "name": "('llama3.1_8b_chat', 'football_leagues_1k', 'base', 'main', 'prompt_only') Fold ('logistic_regression_f1_score', 4)",
         "showlegend": false,
         "type": "scatter",
         "x": {
          "bdata": "AAECAwQFBgcICQoLDA0ODxAREhMUFRYXGBkaGxwdHh8=",
          "dtype": "i1"
         },
         "y": {
          "bdata": "09LS0tLS4j8qZ7fwqzHhP1Lf2ajvbOQ/lJOTk5OT4z85BS+n4OXkP3bEHXFH3NE/AAAAAAAAAACXOPV7bonjPytZyUpWsuI/XkN5DeU15D/UdzbqOxvlP1VVVVVVVeU/VVVVVVVV5T9HWO5phOXeP5S6L4+tCNo/F9RBHdRBvT+gUeJnlPjZP1dHm/cpLtk/uB6F61G43j+dnJycnJzcP5VSSimllOI/SJIkSZIk2T/atm3btm3bP2C5pxGWe9o/A/cR3Edw3z8YGRkZGRnZP2C5pxGWe9o/OYvpLKaz2D/wqzGRHqjcPxl4ujU/LOI/QZ4S5ClB3j8V01lMZzHdPw==",
          "dtype": "f8"
         }
        },
        {
         "legendgroup": "('llama3.1_8b_chat', 'gsm8k', 'base_3_shot', 'main', 'prompt_answer')",
         "line": {
          "color": "#1f77b4",
          "width": 2
         },
         "marker": {
          "size": 8
         },
         "mode": "lines+markers",
         "name": "('llama3.1_8b_chat', 'gsm8k', 'base_3_shot', 'main', 'prompt_answer')",
         "type": "scatter",
         "x": {
          "bdata": "AAECAwQFBgcICQoLDA0ODxAREhMUFRYXGBkaGxwdHh8=",
          "dtype": "i1"
         },
         "y": {
          "bdata": "eIoMphWf4j+eAZzXFdviP05mn1gBvOI/WbG66sJZ4j9u9Lfvz7jiPxBVJFiIi+I/vUZfbmh74j9T9FBnH6biP7+oKaFYyuI/BGVPuAp/4z+rlEO+ZTbjP1aJ0xKiUeM/2x4vcfoK4z/NDxvTIu7iPxdXH0PbOuM/tqExTv0v4z+vyRgHZzTjP6mlfHuoMeM/ZorpovjS4j9m+RMTuyzjP242U3cSQ+M/t/dXLDr94j8Y0BG9zPviP1YIINZGIuM/LZqO2YVV4z+80nQdAQfjP/JbNfO66OI/iwfiRO4A4z8zE5wS7Q/jP61x96rPPOM/0E3o22Xq4j+ebgCVnsjiPw==",
          "dtype": "f8"
         }
        },
        {
         "legendgroup": "('llama3.1_8b_chat', 'gsm8k', 'base_3_shot', 'main', 'prompt_answer')",
         "line": {
          "width": 0
         },
         "mode": "lines",
         "name": "('llama3.1_8b_chat', 'gsm8k', 'base_3_shot', 'main', 'prompt_answer') Max",
         "showlegend": false,
         "type": "scatter",
         "x": {
          "bdata": "AAECAwQFBgcICQoLDA0ODxAREhMUFRYXGBkaGxwdHh8=",
          "dtype": "i1"
         },
         "y": {
          "bdata": "rWG035Tn4j+VNh1CUmnjP+7ZVTEbnuM/MzMzMzMz4z/TNE3TNE3jPyftg2RAPeM/UjG3OiMV4z+D8zE4H4PjPxQUFBQUFOQ/mNBeQnsJ5T9fNOad1CDkP91IdSPVjeQ/4YMPPvjg4z/wGcPRggTkPxTtdhTtduQ/fQzOx+B85D/4c4pZ9YLkPwaebs0Pi+Q/Ut/ZqO9s5D/CdBgyOTfkPw/WxZQ4R+Q/qdbZF1Gt4z/ND4uUgafjP/RCL/RCL+Q/8jC2Cd195D+hvYT2EtrjP8NLYQb4ieM/D9bFlDhH5D9ERERERETkP/q1h1xWDOQ/YePR/MHG4z9hqU8rWOrjPw==",
          "dtype": "f8"
         }
        },
        {
         "fill": "tonexty",
         "fillcolor": "rgba(31, 119, 180, 0.1)",
         "legendgroup": "('llama3.1_8b_chat', 'gsm8k', 'base_3_shot', 'main', 'prompt_answer')",
         "line": {
          "width": 0
         },
         "mode": "lines",
         "name": "('llama3.1_8b_chat', 'gsm8k', 'base_3_shot', 'main', 'prompt_answer') Min",
         "showlegend": false,
         "type": "scatter",
         "x": {
          "bdata": "AAECAwQFBgcICQoLDA0ODxAREhMUFRYXGBkaGxwdHh8=",
          "dtype": "i1"
         },
         "y": {
          "bdata": "dWTPQFQ64j/yIi/yIi/iPwTT7rzhTOI/pSN7BqLS4T9aO8ZdFWbiP/sekROEu+E/CAeNwYT94T+H8hrKayjhP/Maymsor+E/d+cNZ5K14j8g+rYGeEHiP66ZpHFftOI/aAhsXz0u4j+iyr9++NLhP2U0DcloGuI/Hlgp2Zgq4j+QDcgGZAPiP3kCovPVPeI/a3Ud0ci84T9vC4xzRyviP23fNRNq2uE/maFYLZpy4j8+cq0QZFjiP/NHnfJHneI/KfEzSvyM4j8ESyc5sHTiP9nPw/RxDuI/t5q+0blX4j91ZM9AVDriP3raHrlWCOI/2DumBvaO4T8i/fZ14JzhPw==",
          "dtype": "f8"
         }
        },
        {
         "legendgroup": "('llama3.1_8b_chat', 'gsm8k', 'base_3_shot', 'main', 'prompt_answer')",
         "line": {
          "width": 0
         },
         "mode": "lines",
         "name": "('llama3.1_8b_chat', 'gsm8k', 'base_3_shot', 'main', 'prompt_answer') +1 STD",
         "showlegend": false,
         "type": "scatter",
         "x": {
          "bdata": "AAECAwQFBgcICQoLDA0ODxAREhMUFRYXGBkaGxwdHh8=",
          "dtype": "i1"
         },
         "y": {
          "bdata": "chRL4M/d4j+Ds+i7JXPjP/7/u6CQQeM/NiTB8sz14j+5+5frfxXjP3tfdLAZKuM/ER1I58Hi4j9mJko3jpLjPxJKsUD30eM/x6WOu6d15D9oGtplkfTjP1ZVQiK3LOQ/oHgG7GLD4z/5/3/0m8HjP26gU+H/MuQ/CNEnmshS5D+eQ1kM3lfkPz77OnLsH+Q/OD6mecvt4z9rtIr/DwzkP+qL7VpENOQ/LZvLAb104z+0qWGSdYLjP8/r7tkzweM/PhwESFcl5D8IJn9dcZ7jP7deQRSReeM/hGJNun/P4z/vxCj+CdTjP4QQH3SAFeQ/O0hVaDHi4z8Sw2wqy8HjPw==",
          "dtype": "f8"
         }
        },
        {
         "fill": "tonexty",
         "fillcolor": "rgba(31, 119, 180, 0.3)",
         "legendgroup": "('llama3.1_8b_chat', 'gsm8k', 'base_3_shot', 'main', 'prompt_answer')",
         "line": {
          "width": 0
         },
         "mode": "lines",
         "name": "('llama3.1_8b_chat', 'gsm8k', 'base_3_shot', 'main', 'prompt_answer') -1 STD",
         "showlegend": false,
         "type": "scatter",
         "x": {
          "bdata": "AAECAwQFBgcICQoLDA0ODxAREhMUFRYXGBkaGxwdHh8=",
          "dtype": "i1"
         },
         "y": {
          "bdata": "fgDOa1tg4j+5T0/zBUPiP57MghByNuI/fD604ri94T8j7dfzH1ziP6VK1P/27OE/aXB29Q4U4j9AwleXsLnhP2wHogG6wuE/QSQQtW2I4j/uDq0WOnjiP1a9ZAONduI/FsVX9pFS4j+hH7axqRriP8AN66S2QuI/ZHI7AjIN4j/AT9gB8BDiPxRQvoRkQ+I/lNYszCW44T9hPp0mZk3iP/LguJPgUeI/QVTkVreF4j989sHnI3XiP90kUdJZg+I/HBgZa7SF4j9wf2rdkG/iPy1ZKdLkV+I/kqx2z1wy4j93YQ8n0EviP9bSz+EeZOI/ZVN7T5ry4T8qGpT/cc/hPw==",
          "dtype": "f8"
         }
        },
        {
         "legendgroup": "('llama3.1_8b_chat', 'gsm8k', 'base_3_shot', 'main', 'prompt_answer')",
         "marker": {
          "color": "#1f77b4",
          "opacity": 0.5,
          "size": 6
         },
         "mode": "markers",
         "name": "('llama3.1_8b_chat', 'gsm8k', 'base_3_shot', 'main', 'prompt_answer') Fold ('logistic_regression_f1_score', 0)",
         "showlegend": false,
         "type": "scatter",
         "x": {
          "bdata": "AAECAwQFBgcICQoLDA0ODxAREhMUFRYXGBkaGxwdHh8=",
          "dtype": "i1"
         },
         "y": {
          "bdata": "q6qqqqqq4j/yIi/yIi/iP7lTtHAGhOI/pSN7BqLS4T8AAAAAAIDiP5eAS8Al4OI/d4oWzoBQ4j+UDGeOp3XiP6jwjntzReI/d+cNZ5K14j8H7qzP+BHjP66ZpHFftOI/Sr0dbgaw4j9mZmZmZubiPy1kIQtZyOI/3IT5XS1u4j9GCgm2ixTiP3kCovPVPeI/a3Ud0ci84T9vC4xzRyviP9Mv/dIv/eI/EyuxEiux4j8jKy8xsvLiP7vSDqWcB+M/R/YMRKUj4z9IB97zjWnjP1IGnm7ND+M/EyuxEiux4j+xCQSXqcbiP6EBjAjf7OI/kiRJkiRJ4j/jCh8prvDhPw==",
          "dtype": "f8"
         }
        },
        {
         "legendgroup": "('llama3.1_8b_chat', 'gsm8k', 'base_3_shot', 'main', 'prompt_answer')",
         "marker": {
          "color": "#1f77b4",
          "opacity": 0.5,
          "size": 6
         },
         "mode": "markers",
         "name": "('llama3.1_8b_chat', 'gsm8k', 'base_3_shot', 'main', 'prompt_answer') Fold ('logistic_regression_f1_score', 1)",
         "showlegend": false,
         "type": "scatter",
         "x": {
          "bdata": "AAECAwQFBgcICQoLDA0ODxAREhMUFRYXGBkaGxwdHh8=",
          "dtype": "i1"
         },
         "y": {
          "bdata": "dWTPQFQ64j+DNEiDNEjjPyTENq24d+I/wmwXwmwX4j/TNE3TNE3jP8tPiLPyE+I/CAeNwYT94T+H8hrKayjhP/Maymsor+E/Od1QdfhF4z8g+rYGeEHiP1SPZ9eMvuI/ghVTpYjE4j8WggxLwo3iP4U4Kz8hzuI/Hlgp2Zgq4j+QDcgGZAPiPxK9ZxK9Z+I/i5XhG1Fg4j+FOCs/Ic7iP23fNRNq2uE/maFYLZpy4j8+cq0QZFjiP/NHnfJHneI/KfEzSvyM4j8HaZAGaZDiP5t2FCM8sOI/Er1nEr1n4j/y4DSRw8fiP3r0YT9lI+M/IJTcKVo44z+1IarUSVzjPw==",
          "dtype": "f8"
         }
        },
        {
         "legendgroup": "('llama3.1_8b_chat', 'gsm8k', 'base_3_shot', 'main', 'prompt_answer')",
         "marker": {
          "color": "#1f77b4",
          "opacity": 0.5,
          "size": 6
         },
         "mode": "markers",
         "name": "('llama3.1_8b_chat', 'gsm8k', 'base_3_shot', 'main', 'prompt_answer') Fold ('logistic_regression_f1_score', 2)",
         "showlegend": false,
         "type": "scatter",
         "x": {
          "bdata": "AAECAwQFBgcICQoLDA0ODxAREhMUFRYXGBkaGxwdHh8=",
          "dtype": "i1"
         },
         "y": {
          "bdata": "rWG035Tn4j+VNh1CUmnjP+7ZVTEbnuM/MzMzMzMz4z9aO8ZdFWbiPyftg2RAPeM/UjG3OiMV4z9q/jOZ5j/jPxH24vl3reM/mNBeQnsJ5T+eCk+Fp8LjP91IdSPVjeQ/Mjv/hB+z4z/wGcPRggTkP0n1yyd4/uM/fQzOx+B85D/Hp68tDhbkPwaebs0Pi+Q/Ut/ZqO9s5D/CdBgyOTfkPw/WxZQ4R+Q/qdbZF1Gt4z/ND4uUgafjP/RCL/RCL+Q/8jC2Cd195D+hvYT2EtrjP8NLYQb4ieM/D9bFlDhH5D9ERERERETkP/q1h1xWDOQ/JK3ri8a84z9hqU8rWOrjPw==",
          "dtype": "f8"
         }
        },
        {
         "legendgroup": "('llama3.1_8b_chat', 'gsm8k', 'base_3_shot', 'main', 'prompt_answer')",
         "marker": {
          "color": "#1f77b4",
          "opacity": 0.5,
          "size": 6
         },
         "mode": "markers",
         "name": "('llama3.1_8b_chat', 'gsm8k', 'base_3_shot', 'main', 'prompt_answer') Fold ('logistic_regression_f1_score', 3)",
         "showlegend": false,
         "type": "scatter",
         "x": {
          "bdata": "AAECAwQFBgcICQoLDA0ODxAREhMUFRYXGBkaGxwdHh8=",
          "dtype": "i1"
         },
         "y": {
          "bdata": "RKUjewai4j+Td9WK7SjjP7U67a5KxeI/sQkEl6nG4j8bI68ky9XiP83MzMzMzOI/zFk2/4xp4j+D8zE4H4PjPxQUFBQUFOQ/z0Z9Z6O+4z9fNOad1CDkP5Sn4pOn4uM/4YMPPvjg4z/ygZEdClvjPxTtdhTtduQ/v0X9FvVb5D/4c4pZ9YLkP2QdTvFYh+M/ljf/dlh54z/1008//fTjPz0pcwxw8OM/VzendMkC4z8Jvs1fYVbjPwaYs2z+GeM/zsfgfAzO4z+3pC1pS9riPzMzMzMzM+M/zczMzMxM4z+kzL+vm0LjP9CxQPkcC+Q/YePR/MHG4z8BVvJJ6BbjPw==",
          "dtype": "f8"
         }
        },
        {
         "legendgroup": "('llama3.1_8b_chat', 'gsm8k', 'base_3_shot', 'main', 'prompt_answer')",
         "marker": {
          "color": "#1f77b4",
          "opacity": 0.5,
          "size": 6
         },
         "mode": "markers",
         "name": "('llama3.1_8b_chat', 'gsm8k', 'base_3_shot', 'main', 'prompt_answer') Fold ('logistic_regression_f1_score', 4)",
         "showlegend": false,
         "type": "scatter",
         "x": {
          "bdata": "AAECAwQFBgcICQoLDA0ODxAREhMUFRYXGBkaGxwdHh8=",
          "dtype": "i1"
         },
         "y": {
          "bdata": "SZ7s99Gs4j95AqLz1T3iPwTT7rzhTOI/canbAuPc4T/hMtVY+pLiP/sekROEu+E/EUVLXlSc4j+X1Kzag93iP/w1gDCTPeI/+xxSE4y34j81wLi9D9niPzqVvV3BtOI/aAhsXz0u4j+iyr9++NLhP2U0DcloGuI/WvkJcVZ+4j/ZvHDfD1XjP1XBqKROQOM/G5K3IXkb4j9RUkQ7CLriP50BNM0ZQOM/6fssEUMe4z9EpSN7BqLiPwU0ETY8veI/ryLxKhKv4j8ESyc5sHTiP9nPw/RxDuI/t5q+0blX4j91ZM9AVDriP3raHrlWCOI/2DumBvaO4T8i/fZ14JzhPw==",
          "dtype": "f8"
         }
        },
        {
         "legendgroup": "('llama3.1_8b_chat', 'gsm8k', 'base_3_shot', 'main', 'prompt_only')",
         "line": {
          "color": "#ff7f0e",
          "width": 2
         },
         "marker": {
          "size": 8
         },
         "mode": "lines+markers",
         "name": "('llama3.1_8b_chat', 'gsm8k', 'base_3_shot', 'main', 'prompt_only')",
         "type": "scatter",
         "x": {
          "bdata": "AAECAwQFBgcICQoLDA0ODxAREhMUFRYXGBkaGxwdHh8=",
          "dtype": "i1"
         },
         "y": {
          "bdata": "Jb+oxANK4j/p9aMP9TniP1Z3SalycOI/KiCgIhRt4j+fKx4u633iP7ZDyd5KyuI/ZkTnPK+94j84yFirCsPiPxU9aoOmlOI/K4ky3Uiz4j8BRE4xi83iP03FrbbhIeM/y43F16MX4z8WjnX0E/viP10sd0qvEeM/HDLJpk8B4z8QjvzTpy3jP/0uEpW6FuM/PXAje3vA4j8as/XPTcXiP1F6tBpcDuM/PksR5gMB4z+sm0HqU/fiPy6lpS4OA+M/wyDoi4Dr4j/qf6SvagjjPydu1JDw8uI/MhnmFPn14j9fObqzuiXjP1YlH3GNCuM/qHZ0Rma84j8ATP1q6NfiPw==",
          "dtype": "f8"
         }
        },
        {
         "legendgroup": "('llama3.1_8b_chat', 'gsm8k', 'base_3_shot', 'main', 'prompt_only')",
         "line": {
          "width": 0
         },
         "mode": "lines",
         "name": "('llama3.1_8b_chat', 'gsm8k', 'base_3_shot', 'main', 'prompt_only') Max",
         "showlegend": false,
         "type": "scatter",
         "x": {
          "bdata": "AAECAwQFBgcICQoLDA0ODxAREhMUFRYXGBkaGxwdHh8=",
          "dtype": "i1"
         },
         "y": {
          "bdata": "6UtKdDAU4z9mr5UOLhjjP31AdeytDeM/K1oCYp4c4z8pcwxw8HPjP6S2nyHsxeM/fNTqjW7+4z+SAfVM5brjP8eGl8IM8OM/k85/k85/4z8rBkp4o6njP7JnICod2eM/ZEs/Obb04z9J9csneP7jP5GgpkK04eM/nfImYEWT4z/9B+wxA/jjP5d6Mn671OM/52NwPgbn4z/yZL+PZpXjP80Pi5SBp+M/8Ldmqhzo4z9MnVD5UifkP5GSZxnRB+Q/MzMzMzMz5D8cRI/vwkHkP0G4G/sekeM/AAAAAACA4z+yZyAqHdnjP+bvtRHr0uM/8y//8i//4j+lG8Xsz4fjPw==",
          "dtype": "f8"
         }
        },
        {
         "fill": "tonexty",
         "fillcolor": "rgba(255, 127, 14, 0.1)",
         "legendgroup": "('llama3.1_8b_chat', 'gsm8k', 'base_3_shot', 'main', 'prompt_only')",
         "line": {
          "width": 0
         },
         "mode": "lines",
         "name": "('llama3.1_8b_chat', 'gsm8k', 'base_3_shot', 'main', 'prompt_only') Min",
         "showlegend": false,
         "type": "scatter",
         "x": {
          "bdata": "AAECAwQFBgcICQoLDA0ODxAREhMUFRYXGBkaGxwdHh8=",
          "dtype": "i1"
         },
         "y": {
          "bdata": "PKYG9o6p4T8zMzMzM7PhP3CzX4gVpeE/jArK4veL4T9pNBqNRqPhP5OaVXuwW+I/uCXvqhXb4T/CFPmsG0zhP5f4vqjl3+A/kEOy4idm4T/ZMxCVjuzhP6uqqqqqquI/kiRJkiRJ4j8Se4j2V9nhPwdDMf8U3uE/DGqAcXsf4j/mEWMeMebhP1cxNspsy+E/kEOy4idm4T+ZNgGlqJfhP3SpBQITGeI/ZmZmZmbm4T9R8SAJFQ/iP5OaVXuwW+I/NX2jc68k4j/7eZg+zkHiPxl4ujU/LOI/qXRkz0BU4j8QXKYaS1/iP3Vkz0BUOuI/9guxojQ+4j++tuc+dh3iPw==",
          "dtype": "f8"
         }
        },
        {
         "legendgroup": "('llama3.1_8b_chat', 'gsm8k', 'base_3_shot', 'main', 'prompt_only')",
         "line": {
          "width": 0
         },
         "mode": "lines",
         "name": "('llama3.1_8b_chat', 'gsm8k', 'base_3_shot', 'main', 'prompt_only') +1 STD",
         "showlegend": false,
         "type": "scatter",
         "x": {
          "bdata": "AAECAwQFBgcICQoLDA0ODxAREhMUFRYXGBkaGxwdHh8=",
          "dtype": "i1"
         },
         "y": {
          "bdata": "6ld845vc4j/TwCVLVOLiP5bSNq1b/OI/O6awbsYE4z/wRHJm2yvjP1xUK/SvXOM/VwaCFleU4z99ckmR+8njP5Fk8rDrruM/rfmTRBeQ4z8ZdueDKHzjP+ctTOeYruM/tMS+7tWz4z+l0F6lm9DjP/KKWWg26eM/P2Ra17S44z8UO6gUpAHkP6kOSZhd7eM/doTv6v6+4z+aGAkHfovjPy+ByhL2s+M/hd5bvB7b4z88BXyHqcLjP7Q7X0K5qeM/mvkG/6nC4z/kzlFrdtPjP+23Kct1f+M/335ySCmG4z+m/m9H5dPjP0Nt6NpZy+M/ZyGLj0gN4z+RzqK0Wn/jPw==",
          "dtype": "f8"
         }
        },
        {
         "fill": "tonexty",
         "fillcolor": "rgba(255, 127, 14, 0.3)",
         "legendgroup": "('llama3.1_8b_chat', 'gsm8k', 'base_3_shot', 'main', 'prompt_only')",
         "line": {
          "width": 0
         },
         "mode": "lines",
         "name": "('llama3.1_8b_chat', 'gsm8k', 'base_3_shot', 'main', 'prompt_only') -1 STD",
         "showlegend": false,
         "type": "scatter",
         "x": {
          "bdata": "AAECAwQFBgcICQoLDA0ODxAREhMUFRYXGBkaGxwdHh8=",
          "dtype": "i1"
         },
         "y": {
          "bdata": "YCbVpWu34T//KiLUlZHhPxYcXKWJ5OE/GZqP1mHV4T9OEsr1+s/hPxAzZ8nlN+I/dYJMYwfn4T/zHWjFGbzhP5kV4lVheuE/qRjRdXrW4T/pEbXe7R7iP7NcD4YqleI/4lbMwHF74j+HS4xDjCXiP8jNlCwoOuI/+f83dupJ4j8M4VCTq1niP1FP25EXQOI/BFxXC/jB4T+aTeKYHf/hP3NzniLCaOI/97fGD+km4j8cMgdN/iviP6gO7BpjXOI/7EfJGFcU4j/wMPfzXj3iP2Ekf1ZrZuI/hbNZ4chl4j8YdAQgkHfiP2ndVQfBSeI/6ctd/YNr4j9vyVchdjDiPw==",
          "dtype": "f8"
         }
        },
        {
         "legendgroup": "('llama3.1_8b_chat', 'gsm8k', 'base_3_shot', 'main', 'prompt_only')",
         "marker": {
          "color": "#ff7f0e",
          "opacity": 0.5,
          "size": 6
         },
         "mode": "markers",
         "name": "('llama3.1_8b_chat', 'gsm8k', 'base_3_shot', 'main', 'prompt_only') Fold ('logistic_regression_f1_score', 0)",
         "showlegend": false,
         "type": "scatter",
         "x": {
          "bdata": "AAECAwQFBgcICQoLDA0ODxAREhMUFRYXGBkaGxwdHh8=",
          "dtype": "i1"
         },
         "y": {
          "bdata": "BzKAyJFF4j/nrzCrUcThP3CzX4gVpeE/wEo+Cd1i4j+SJEmSJEniP8z+fDgNoeI/uCXvqhXb4T8ypDon10ziP5f4vqjl3+A/kEOy4idm4T9CuXran6niP66ZpHFftOI/xOjF7lTU4j9PHApffZriPy1kIQtZyOI/fGGXKwNU4j/T0tLS0tLiP66ZpHFftOI/6iSuGSAo4j9jhy2OnHjiPzMzMzMzs+I/2p8PpyFU4j9R8SAJFQ/iP+UjPf0OiuI/kiRJkiRJ4j+RIdU5uWbiPxl4ujU/LOI/EFymGktf4j8QXKYaS1/iP/YLsaI0PuI/JpA1jPab4j8S1G1t7iviPw==",
          "dtype": "f8"
         }
        },
        {
         "legendgroup": "('llama3.1_8b_chat', 'gsm8k', 'base_3_shot', 'main', 'prompt_only')",
         "marker": {
          "color": "#ff7f0e",
          "opacity": 0.5,
          "size": 6
         },
         "mode": "markers",
         "name": "('llama3.1_8b_chat', 'gsm8k', 'base_3_shot', 'main', 'prompt_only') Fold ('logistic_regression_f1_score', 1)",
         "showlegend": false,
         "type": "scatter",
         "x": {
          "bdata": "AAECAwQFBgcICQoLDA0ODxAREhMUFRYXGBkaGxwdHh8=",
          "dtype": "i1"
         },
         "y": {
          "bdata": "6UtKdDAU4z+xCQSXqcbiP4th2UpsUOI/zczMzMzM4j9ugXHuaEXiP08jLPc0wuI/vgygekQc4z9FC2dAKLnjP8eGl8IM8OM/2/l+arx04z+6Inmy30fjP7JnICod2eM/ZEs/Obb04z8X2DhpgY3jP+hqK/aX3eM/nfImYEWT4z+0OZuzOZvjPxc3YX5Xi+M/czZnczZn4z/yZL+PZpXjP80Pi5SBp+M/8Ldmqhzo4z+6Inmy30fjP/6BHRteCuM/x6P5g41H4z+/ECtK4yPjP1K3YRMILuM/wXgr+xxS4z9iXXrM32vjP5sOBDpXX+M/8y//8i//4j97BqLSkT3jPw==",
          "dtype": "f8"
         }
        },
        {
         "legendgroup": "('llama3.1_8b_chat', 'gsm8k', 'base_3_shot', 'main', 'prompt_only')",
         "marker": {
          "color": "#ff7f0e",
          "opacity": 0.5,
          "size": 6
         },
         "mode": "markers",
         "name": "('llama3.1_8b_chat', 'gsm8k', 'base_3_shot', 'main', 'prompt_only') Fold ('logistic_regression_f1_score', 2)",
         "showlegend": false,
         "type": "scatter",
         "x": {
          "bdata": "AAECAwQFBgcICQoLDA0ODxAREhMUFRYXGBkaGxwdHh8=",
          "dtype": "i1"
         },
         "y": {
          "bdata": "PKYG9o6p4T9XMTbKbMvhP3xkAr1T1+I/kiRJkiRJ4j+LjLVo08/iP5OaVXuwW+I//7l7kIk24j9PIyz3NMLiPxyXKPdNluI/3IT5XS1u4j8DPjlcBnziP5+pXHe82OI/uczxA8Y64z+tYbTflOfiPyMrLzGy8uI/nNxN7iZ34z/9B+wxA/jjP5d6Mn671OM/52NwPgbn4z+Anzh5aD3jPwAAAAAAgOM/wXgr+xxS4z9MnVD5UifkP5GSZxnRB+Q/MzMzMzMz5D8cRI/vwkHkP0G4G/sekeM/gzRIgzRI4z+yZyAqHdnjP+bvtRHr0uM/geAy1Vj64j+lG8Xsz4fjPw==",
          "dtype": "f8"
         }
        },
        {
         "legendgroup": "('llama3.1_8b_chat', 'gsm8k', 'base_3_shot', 'main', 'prompt_only')",
         "marker": {
          "color": "#ff7f0e",
          "opacity": 0.5,
          "size": 6
         },
         "mode": "markers",
         "name": "('llama3.1_8b_chat', 'gsm8k', 'base_3_shot', 'main', 'prompt_only') Fold ('logistic_regression_f1_score', 3)",
         "showlegend": false,
         "type": "scatter",
         "x": {
          "bdata": "AAECAwQFBgcICQoLDA0ODxAREhMUFRYXGBkaGxwdHh8=",
          "dtype": "i1"
         },
         "y": {
          "bdata": "fildr+CX4j9mr5UOLhjjP31AdeytDeM/K1oCYp4c4z8pcwxw8HPjP6S2nyHsxeM/fNTqjW7+4z+SAfVM5brjP3vx/LvW6eI/k85/k85/4z8rBkp4o6njP9SEmNOEmOM/hJ+beD0p4z9J9csneP7jP5GgpkK04eM/zl9hVqOI4z/nnzFNBpjjPzpu7LDFkeM/Xi55ueTl4j8VvaXTcPfiPyB3wrsEVOM/R0FOy1GQ4z9KDiyd5MDiP+BmJDxYF+M/Dytv/u2w4j8qjw685xvjPzMzMzMzM+M/AAAAAACA4z9WdjTjwJ/jP8NLYQb4ieM/t6QtaUva4j8VzzWrwyjjPw==",
          "dtype": "f8"
         }
        },
        {
         "legendgroup": "('llama3.1_8b_chat', 'gsm8k', 'base_3_shot', 'main', 'prompt_only')",
         "marker": {
          "color": "#ff7f0e",
          "opacity": 0.5,
          "size": 6
         },
         "mode": "markers",
         "name": "('llama3.1_8b_chat', 'gsm8k', 'base_3_shot', 'main', 'prompt_only') Fold ('logistic_regression_f1_score', 4)",
         "showlegend": false,
         "type": "scatter",
         "x": {
          "bdata": "AAECAwQFBgcICQoLDA0ODxAREhMUFRYXGBkaGxwdHh8=",
          "dtype": "i1"
         },
         "y": {
          "bdata": "D24d9eDW4T8zMzMzM7PhP7eavtG5V+I/jArK4veL4T9pNBqNRqPhPzvfT42XbuI/EJWO7BmI4j/CFPmsG0zhP3Mpl3Ipl+I/+xxSE4y34j/ZMxCVjuzhP6uqqqqqquI/kiRJkiRJ4j8Se4j2V9nhPwdDMf8U3uE/DGqAcXsf4j/mEWMeMebhP1cxNspsy+E/kEOy4idm4T+ZNgGlqJfhP3SpBQITGeI/ZmZmZmbm4T+8SjFBd5XiP5OaVXuwW+I/NX2jc68k4j/7eZg+zkHiP+MLu1wZoOI/qXRkz0BU4j9jhy2OnHjiP3Vkz0BUOuI/9guxojQ+4j++tuc+dh3iPw==",
          "dtype": "f8"
         }
        },
        {
         "legendgroup": "('llama3.1_8b_chat', 'gsm8k', 'cot_3_shot', 'main', 'prompt_answer')",
         "line": {
          "color": "#2ca02c",
          "width": 2
         },
         "marker": {
          "size": 8
         },
         "mode": "lines+markers",
         "name": "('llama3.1_8b_chat', 'gsm8k', 'cot_3_shot', 'main', 'prompt_answer')",
         "type": "scatter",
         "x": {
          "bdata": "AAECAwQFBgcICQoLDA0ODxAREhMUFRYXGBkaGxwdHh8=",
          "dtype": "i1"
         },
         "y": {
          "bdata": "8SbsQh8C4j/MlKYxcrThP1fxV2ulC+I/dkDhaA814j/Gk4PSaVniPw06AfCdB+I/1sluDZvb4T8NSB/AeazhP0UDMgJIt+E/lPbvDy1I4j/P3DP40wfiP67zS0lPX+I/zgMS1IuI4j+uX7mJU4PiP8j6JEATfeI/0vtT8smX4j++dWq0IKXiP4GdjRurguI/Lgoxwmla4j/Ux/njT3LiP82J3qHLtuI/GoLVFF5a4j+iDa/3wVniP34HuvZJWeI/Wt1n/mJW4j/eUGElExviPxp8Dlwa/eE/3S+/tJ7K4T9SKkImahriP2heAb182+E/+hpDA7gc4j8lHEAlpCTiPw==",
          "dtype": "f8"
         }
        },
        {
         "legendgroup": "('llama3.1_8b_chat', 'gsm8k', 'cot_3_shot', 'main', 'prompt_answer')",
         "line": {
          "width": 0
         },
         "mode": "lines",
         "name": "('llama3.1_8b_chat', 'gsm8k', 'cot_3_shot', 'main', 'prompt_answer') Max",
         "showlegend": false,
         "type": "scatter",
         "x": {
          "bdata": "AAECAwQFBgcICQoLDA0ODxAREhMUFRYXGBkaGxwdHh8=",
          "dtype": "i1"
         },
         "y": {
          "bdata": "FvBQekHQ4j9KVIzlABriPxTuXKyxeeI/iqhfL6y74j+nYD+49rriP/h4BrlZ6uI/hifkal144j9T9vhXtLHiP1XbqcnZKuI/UzIlUzIl4z/r2F6Ys+HiPxIhq/Tq2OI/AtMYMI0B4z/bFOmzuzHjP5F/S6/aXOM/LWQhC1nI4j+VLHtE9z7jP08kFVqsTeM/kkDGhLTB4j/vIblmN9DiPxl3b6qFiuM/xpJfLPnF4j/H2zvHNrjiP7imscU/yuI/VkD5hnTl4j954I0BeV/iP8fUacnYb+I/G6U4CT1j4j9eqkyv2+LiP3vMNdz+duI/zSVLHEl34z+RgFir4RHjPw==",
          "dtype": "f8"
         }
        },
        {
         "fill": "tonexty",
         "fillcolor": "rgba(44, 160, 44, 0.1)",
         "legendgroup": "('llama3.1_8b_chat', 'gsm8k', 'cot_3_shot', 'main', 'prompt_answer')",
         "line": {
          "width": 0
         },
         "mode": "lines",
         "name": "('llama3.1_8b_chat', 'gsm8k', 'cot_3_shot', 'main', 'prompt_answer') Min",
         "showlegend": false,
         "type": "scatter",
         "x": {
          "bdata": "AAECAwQFBgcICQoLDA0ODxAREhMUFRYXGBkaGxwdHh8=",
          "dtype": "i1"
         },
         "y": {
          "bdata": "3CgT+aVt4T9u1AZdS0DhPzKk0aqUleE/9GagDxYQ4T+JtXWR6frhP0T2QOM8meE/83BnZcCK4T8dNb3WBjbhP2lpaWlpaeE/VbZ3HdCN4T/6qus9CZ7hP5fK9q4DuuE/+x29Mrbf4T+tJiGKv8jhPzkd5XSU0+E/gydxBCt44j/vVvzvefXhP78PxZro0+E/VacwF//14T/rFObivz7iP5IIa5IIa+I/KBXr99kf4j9dh9kCjs/hP/sdvTK23+E/0keq0Ueq4T8PoP1eKLHhP7PhrpOlauE/l6qpnQEV4T85bwb6YAHhPzDdifKlO+E/E0TLBNEy4T+bCTw3mf3gPw==",
          "dtype": "f8"
         }
        },
        {
         "legendgroup": "('llama3.1_8b_chat', 'gsm8k', 'cot_3_shot', 'main', 'prompt_answer')",
         "line": {
          "width": 0
         },
         "mode": "lines",
         "name": "('llama3.1_8b_chat', 'gsm8k', 'cot_3_shot', 'main', 'prompt_answer') +1 STD",
         "showlegend": false,
         "type": "scatter",
         "x": {
          "bdata": "AAECAwQFBgcICQoLDA0ODxAREhMUFRYXGBkaGxwdHh8=",
          "dtype": "i1"
         },
         "y": {
          "bdata": "3VRoa2CD4j/n/rNRFQjiP1pw7OxDX+I/nDOm/ifj4j9RTmgZuaviP8SkfS7Ji+I/dUP0u9U54j+S9Xe8+UXiPwHWwn8oBuI/NvMz6lYB4z8BqhH+UI3iP42/nySU6eI/wRnpK+vx4j/EWVnQORbjP6afzje9D+M/jf8sGCC44j/NXdNVvCDjP19uWSWxDuM/FGYUuui64j/u+DiCWKniPxZv8GmdLuM/7s8mxtae4j9MqntQfq7iP+p8iXBNuuI/3eEZQ9vQ4j9V2hGu7mLiP1cKwjVfXeI/IbXrz8pQ4j8PNCfZn8/iP9uKrmv6beI/v2BGlXoO4z+g8rSd2AvjPw==",
          "dtype": "f8"
         }
        },
        {
         "fill": "tonexty",
         "fillcolor": "rgba(44, 160, 44, 0.3)",
         "legendgroup": "('llama3.1_8b_chat', 'gsm8k', 'cot_3_shot', 'main', 'prompt_answer')",
         "line": {
          "width": 0
         },
         "mode": "lines",
         "name": "('llama3.1_8b_chat', 'gsm8k', 'cot_3_shot', 'main', 'prompt_answer') -1 STD",
         "showlegend": false,
         "type": "scatter",
         "x": {
          "bdata": "AAECAwQFBgcICQoLDA0ODxAREhMUFRYXGBkaGxwdHh8=",
          "dtype": "i1"
         },
         "y": {
          "bdata": "BflvGt6A4T+xKpkRz2DhP1Ryw+kGuOE/UE0c0/aG4T872Z6LGgfiP1bPhLFyg+E/N1DpXmB94T+ImsbD+RLhP4kwoYRnaOE/8vmrNQOP4T+dD1byVoLhP88n+G0K1eE/2+06fCwf4j+YZRlDbfDhP+pVe0hp6uE/F/h6zHN34j+vjQEThSniP6PMwRGl9uE/SK5Nyur54T+6lrpFRzviP4SkzNn5PuI/RjSEY+UV4j/4cOKeBQXiPxKS6nxG+OE/19i1uerb4T9nx7CcN9PhP93tWoLVnOE/maqSmXJE4T+VIF1zNGXhP/UxVA7/SOE/NdU/cfUq4T+qRcusbz3hPw==",
          "dtype": "f8"
         }
        },
        {
         "legendgroup": "('llama3.1_8b_chat', 'gsm8k', 'cot_3_shot', 'main', 'prompt_answer')",
         "marker": {
          "color": "#2ca02c",
          "opacity": 0.5,
          "size": 6
         },
         "mode": "markers",
         "name": "('llama3.1_8b_chat', 'gsm8k', 'cot_3_shot', 'main', 'prompt_answer') Fold ('logistic_regression_f1_score', 0)",
         "showlegend": false,
         "type": "scatter",
         "x": {
          "bdata": "AAECAwQFBgcICQoLDA0ODxAREhMUFRYXGBkaGxwdHh8=",
          "dtype": "i1"
         },
         "y": {
          "bdata": "d3TIx5zc4T9KVIzlABriP1x+CvAy7eE/p4aFUJU24j/kfxW1xSziP0T2QOM8meE/83BnZcCK4T8dNb3WBjbhPzkd5XSU0+E/zmrYFPuQ4T/6qus9CZ7hP5xbIxLj2eE/wdOt+WGR4j+89ix9bhPiP7v43+qaOuI/6jsb9Z2N4j/vVvzvefXhP78PxZro0+E/VacwF//14T/rFObivz7iP++HGflNdeI/fnlsRdBw4j81WpWyMmLiP7imscU/yuI/ELgaawuO4j++4iu+4iviP5aXW0g+COI/FRoy+wow4j9eqkyv2+LiP3vMNdz+duI/zSVLHEl34z+RgFir4RHjPw==",
          "dtype": "f8"
         }
        },
        {
         "legendgroup": "('llama3.1_8b_chat', 'gsm8k', 'cot_3_shot', 'main', 'prompt_answer')",
         "marker": {
          "color": "#2ca02c",
          "opacity": 0.5,
          "size": 6
         },
         "mode": "markers",
         "name": "('llama3.1_8b_chat', 'gsm8k', 'cot_3_shot', 'main', 'prompt_answer') Fold ('logistic_regression_f1_score', 1)",
         "showlegend": false,
         "type": "scatter",
         "x": {
          "bdata": "AAECAwQFBgcICQoLDA0ODxAREhMUFRYXGBkaGxwdHh8=",
          "dtype": "i1"
         },
         "y": {
          "bdata": "FvBQekHQ4j9BoC23q+zhPxTuXKyxeeI/4NJIoWO14j9yXhbxCaTiP/h4BrlZ6uI/91YHodS84T9T9vhXtLHiP1XbqcnZKuI/UzIlUzIl4z/r2F6Ys+HiP1Cu6evtouI/AtMYMI0B4z9V22U6eqziP5F/S6/aXOM/7kfLrRen4j9BW+V35HviP1XbZTp6rOI/hdXA4wAE4j8zkVfsm1/iP0C4MKkhmuI/gkQrbA4k4j/H2zvHNrjiPzOMxAUzTeI/8G2wTOKB4j954I0BeV/iP8fUacnYb+I/G6U4CT1j4j9VZCnErIDiP2XXJkp2beI/kBJFYNGr4j/iACpL8vTiPw==",
          "dtype": "f8"
         }
        },
        {
         "legendgroup": "('llama3.1_8b_chat', 'gsm8k', 'cot_3_shot', 'main', 'prompt_answer')",
         "marker": {
          "color": "#2ca02c",
          "opacity": 0.5,
          "size": 6
         },
         "mode": "markers",
         "name": "('llama3.1_8b_chat', 'gsm8k', 'cot_3_shot', 'main', 'prompt_answer') Fold ('logistic_regression_f1_score', 2)",
         "showlegend": false,
         "type": "scatter",
         "x": {
          "bdata": "AAECAwQFBgcICQoLDA0ODxAREhMUFRYXGBkaGxwdHh8=",
          "dtype": "i1"
         },
         "y": {
          "bdata": "0pbl0Zbl4T9u1AZdS0DhP556vgOoE+I/StmX25FR4j9a7rAsYTjiPw8dw4vz0OE/OHdDm/jn4T//pkbFv6nhP2lpaWlpaeE/eht832jV4j9rGnk2sabhPxIhq/Tq2OI/l6MrHWuN4j/bFOmzuzHjP3W9J8EzqOI/gydxBCt44j8vrLsChZ7iP9KkXs56POI/aHahrY9P4j+tfGAXYmTiPynxM0r8jOI/KBXr99kf4j9dh9kCjs/hPzKMMMvWHeI/m6SY50QQ4j8PoP1eKLHhP7PhrpOlauE/vHN+X9WA4T8rEq8i8SriP57aWkDYY+E/E0TLBNEy4T+bCTw3mf3gPw==",
          "dtype": "f8"
         }
        },
        {
         "legendgroup": "('llama3.1_8b_chat', 'gsm8k', 'cot_3_shot', 'main', 'prompt_answer')",
         "marker": {
          "color": "#2ca02c",
          "opacity": 0.5,
          "size": 6
         },
         "mode": "markers",
         "name": "('llama3.1_8b_chat', 'gsm8k', 'cot_3_shot', 'main', 'prompt_answer') Fold ('logistic_regression_f1_score', 3)",
         "showlegend": false,
         "type": "scatter",
         "x": {
          "bdata": "AAECAwQFBgcICQoLDA0ODxAREhMUFRYXGBkaGxwdHh8=",
          "dtype": "i1"
         },
         "y": {
          "bdata": "3CgT+aVt4T9/5Nd6CJfhPzKk0aqUleE/9GagDxYQ4T+JtXWR6frhP73AXZRkzuE/hoqTNhyi4T9lKp5rVofhP4afNa2MueE/92G+6npP4j/55zEiL9nhP83MzMzMzOI/q6qqqqqq4j/L0AG7PdbiPzkd5XSU0+E/LWQhC1nI4j/FwfvWyOriP01fJYzNguI/kkDGhLTB4j/vIblmN9DiPxl3b6qFiuM/xpJfLPnF4j+gJhk0/mniP1xIPghyqeI/VkD5hnTl4j/rOr4flVPiP0k4pXnxJ+I/zBEphvrL4T+DQx8vOPThP1h8xVd8xeE/pSN7BqLS4T8yMjIyMjLiPw==",
          "dtype": "f8"
         }
        },
        {
         "legendgroup": "('llama3.1_8b_chat', 'gsm8k', 'cot_3_shot', 'main', 'prompt_answer')",
         "marker": {
          "color": "#2ca02c",
          "opacity": 0.5,
          "size": 6
         },
         "mode": "markers",
         "name": "('llama3.1_8b_chat', 'gsm8k', 'cot_3_shot', 'main', 'prompt_answer') Fold ('logistic_regression_f1_score', 4)",
         "showlegend": false,
         "type": "scatter",
         "x": {
          "bdata": "AAECAwQFBgcICQoLDA0ODxAREhMUFRYXGBkaGxwdHh8=",
          "dtype": "i1"
         },
         "y": {
          "bdata": "fZ6KQYEK4j+EOqiDOqjhP3UrwM0ZKuI/iqhfL6y74j+nYD+49rriPznVnfMmA+I/hifkal144j9qawFhj0XhP9cOzLUDc+E/VbZ3HdCN4T/EyQ2qhifiP5fK9q4DuuE/+x29Mrbf4T+tJiGKv8jhP/GSgHAiXuI/j9sqCbiB4j+VLHtE9z7jP08kFVqsTeM/FP+bncy44j9pookmmmjiP5IIa5IIa+I/kiRJkiRJ4j8zYKcl1GziP/sdvTK23+E/0keq0Ueq4T8h9nB8RvfhPybmLq3V5uE/l6qpnQEV4T85bwb6YAHhPzDdifKlO+E/0OZ4iApn4T92z09alYDhPw==",
          "dtype": "f8"
         }
        },
        {
         "legendgroup": "('llama3.1_8b_chat', 'gsm8k', 'cot_3_shot', 'main', 'prompt_only')",
         "line": {
          "color": "#d62728",
          "width": 2
         },
         "marker": {
          "size": 8
         },
         "mode": "lines+markers",
         "name": "('llama3.1_8b_chat', 'gsm8k', 'cot_3_shot', 'main', 'prompt_only')",
         "type": "scatter",
         "x": {
          "bdata": "AAECAwQFBgcICQoLDA0ODxAREhMUFRYXGBkaGxwdHh8=",
          "dtype": "i1"
         },
         "y": {
          "bdata": "IvxIMlDe4T9rhyfOvzTiP3AF2p9pc+I/WyiC4Zbe4T97H1wm0w7iP6WnfqApAOI/KoyEKjgy4j/6a9V4qfLhP3EQch/tT+I/eJG6rkQO4j8v/am/lQLiPwVNFpUUWuI/oOasWWUK4j9o7Ca1FxriP25JKlw6NeI/tppHhnMU4j9OZucRpVPiP5BkpT614uE/RaJYtczR4T99NTUjCfnhP8LvQws+M+I/Pysuhd8q4j9qnGQCADPiP4JS/K/OP+I/fjCpk3Y84j8VPGaYEmTiP0qgGwa6HeI/cMZI1D4J4j+ge94kIO7hP+pBarPfDeI/cmlApkol4j83YygcYjjiPw==",
          "dtype": "f8"
         }
        },
        {
         "legendgroup": "('llama3.1_8b_chat', 'gsm8k', 'cot_3_shot', 'main', 'prompt_only')",
         "line": {
          "width": 0
         },
         "mode": "lines",
         "name": "('llama3.1_8b_chat', 'gsm8k', 'cot_3_shot', 'main', 'prompt_only') Max",
         "showlegend": false,
         "type": "scatter",
         "x": {
          "bdata": "AAECAwQFBgcICQoLDA0ODxAREhMUFRYXGBkaGxwdHh8=",
          "dtype": "i1"
         },
         "y": {
          "bdata": "LCPLdy4G4z+XxXbn4vHiP9PS0tLS0uI/ngKus6zc4j+06WO7H97iP8KdizU2T+I/8CIK+/yZ4j/6Q3joc/TiPzR0H6zfAOM/IjwpSP684j9k5y8+ucniP0IyCckkJOM/C2FFjmSN4j8y/Y6DyqfiP+U+mfNNqOI/IZ4iaQb34j/Xp+vT9eniP1VVVVVVVeI/yksgoqNo4j+69XQTHXniP1OPRsDYoeI/hD+advv04j+jMAYmDqDiPxWCzsFbDeM/hIGbl7444z+EP5p2+/TiP/msG0yRz+I/WdZPvAHS4j8IXkRhnz/jP2dh9/muLeM/udK9AWXi4j/lP3rJf/TiPw==",
          "dtype": "f8"
         }
        },
        {
         "fill": "tonexty",
         "fillcolor": "rgba(214, 39, 40, 0.1)",
         "legendgroup": "('llama3.1_8b_chat', 'gsm8k', 'cot_3_shot', 'main', 'prompt_only')",
         "line": {
          "width": 0
         },
         "mode": "lines",
         "name": "('llama3.1_8b_chat', 'gsm8k', 'cot_3_shot', 'main', 'prompt_only') Min",
         "showlegend": false,
         "type": "scatter",
         "x": {
          "bdata": "AAECAwQFBgcICQoLDA0ODxAREhMUFRYXGBkaGxwdHh8=",
          "dtype": "i1"
         },
         "y": {
          "bdata": "GQ6bqUkq4T9Vtncd0I3hP3MAin6/pOE/o5KdWh7o4D/tK8BIfijhP4nx7GhVZOE/Se3j1UDh4T9YA4VH62DhP4HHHw54/OE/LJcwNOyL4T9cuwpQ6ijhP7zvvHD+0uE/83BnZcCK4T8DveaPnk/hP0oW7ZPfj+E/pzMWczpj4T8utAqMPeXhP/NwZ2XAiuE/RStsDiRa4T+sWwFuzlDhP+FCOMMgy+E/0OZ4iApn4T8CmpavTcbhPw4CV2NtweE/RPZA4zyZ4T8NjfQ2+L7hP3VQB3VQB+E/X/EVX/EV4T91olV5Iw/hP2nQ3CMvQeE/0oIE1Ox64T9/5Nd6CJfhPw==",
          "dtype": "f8"
         }
        },
        {
         "legendgroup": "('llama3.1_8b_chat', 'gsm8k', 'cot_3_shot', 'main', 'prompt_only')",
         "line": {
          "width": 0
         },
         "mode": "lines",
         "name": "('llama3.1_8b_chat', 'gsm8k', 'cot_3_shot', 'main', 'prompt_only') +1 STD",
         "showlegend": false,
         "type": "scatter",
         "x": {
          "bdata": "AAECAwQFBgcICQoLDA0ODxAREhMUFRYXGBkaGxwdHh8=",
          "dtype": "i1"
         },
         "y": {
          "bdata": "1AGaVRWZ4j/ias7mE8TiP+thJ59d7eI/4ysOEnia4j9hjEWpbrjiPxvzVmNaXeI/DaBJXvx24j+Zryg+PJHiP8pBj1ciuOI/htIziWiP4j/KIx8bfrPiP8SkZaOi5eI/uPfE4Xxp4j97+l+m053iP46EiQbRoOI/Y2koDf3B4j9B41VBi8/iPxXBSW5hL+I/KbbO0vo24j95+4t1bm3iP8J/kPCzmeI/TKp36TrW4j/a1Tvif5biP/GQ9gyAu+I/8QvxuQHp4j8gSJRg1efiP+EoK31g1OI/Lkix6Aip4j8rVWtc3sDiPwbZxZucyOI/FM6RtAm44j9LcCx4qbXiPw==",
          "dtype": "f8"
         }
        },
        {
         "fill": "tonexty",
         "fillcolor": "rgba(214, 39, 40, 0.3)",
         "legendgroup": "('llama3.1_8b_chat', 'gsm8k', 'cot_3_shot', 'main', 'prompt_only')",
         "line": {
          "width": 0
         },
         "mode": "lines",
         "name": "('llama3.1_8b_chat', 'gsm8k', 'cot_3_shot', 'main', 'prompt_only') -1 STD",
         "showlegend": false,
         "type": "scatter",
         "x": {
          "bdata": "AAECAwQFBgcICQoLDA0ODxAREhMUFRYXGBkaGxwdHh8=",
          "dtype": "i1"
         },
         "y": {
          "bdata": "cPb3Dosj4T/0o4C1a6XhP/WojKB1+eE/0yT2sLUi4T+VsnKjN2XhPy9cpt34ouE/R3i/9nPt4T9bKIKzFlThPxjfVOe35+E/alBB1CCN4T+U1jRkrVHhP0b1xoaGzuE/iNWU0U2r4T9V3u3DW5bhP04Oy7GjyeE/Ccxm/+lm4T9b6XjivtfhPwsIAQ8JluE/YY7il55s4T+Bb97Qo4ThP8Jf9yXIzOE/MqzkIIR/4T/6Yo0igM/hPxMUAlMdxOE/C1VhbeuP4T8KMDjQT+DhP7MXDI8TZ+E/skTgv3Rp4T8VolHtYRvhP86qDssiU+E/0ATvl4uS4T8jViTAGrvhPw==",
          "dtype": "f8"
         }
        },
        {
         "legendgroup": "('llama3.1_8b_chat', 'gsm8k', 'cot_3_shot', 'main', 'prompt_only')",
         "marker": {
          "color": "#d62728",
          "opacity": 0.5,
          "size": 6
         },
         "mode": "markers",
         "name": "('llama3.1_8b_chat', 'gsm8k', 'cot_3_shot', 'main', 'prompt_only') Fold ('logistic_regression_f1_score', 0)",
         "showlegend": false,
         "type": "scatter",
         "x": {
          "bdata": "AAECAwQFBgcICQoLDA0ODxAREhMUFRYXGBkaGxwdHh8=",
          "dtype": "i1"
         },
         "y": {
          "bdata": "57it71DG4T9Vtncd0I3hP3MAin6/pOE/+AZbKZh54T/tK8BIfijhP4nx7GhVZOE/kiRJkiRJ4j9YA4VH62DhP4HHHw54/OE/LJcwNOyL4T9o9aWCVl/iP2HmRdNcUeI/83BnZcCK4T8DveaPnk/hP0oW7ZPfj+E/pzMWczpj4T8utAqMPeXhP/NwZ2XAiuE/RStsDiRa4T+sWwFuzlDhP+FCOMMgy+E/0OZ4iApn4T8CmpavTcbhPw4CV2NtweE/o1XL/Kih4T8NjfQ2+L7hP3VQB3VQB+E/X/EVX/EV4T91olV5Iw/hP2nQ3CMvQeE/0oIE1Ox64T9/5Nd6CJfhPw==",
          "dtype": "f8"
         }
        },
        {
         "legendgroup": "('llama3.1_8b_chat', 'gsm8k', 'cot_3_shot', 'main', 'prompt_only')",
         "marker": {
          "color": "#d62728",
          "opacity": 0.5,
          "size": 6
         },
         "mode": "markers",
         "name": "('llama3.1_8b_chat', 'gsm8k', 'cot_3_shot', 'main', 'prompt_only') Fold ('logistic_regression_f1_score', 1)",
         "showlegend": false,
         "type": "scatter",
         "x": {
          "bdata": "AAECAwQFBgcICQoLDA0ODxAREhMUFRYXGBkaGxwdHh8=",
          "dtype": "i1"
         },
         "y": {
          "bdata": "BpLAemMG4j9tzd74n5riP3JeFvEJpOI/9DE4H4Pz4T/u+bjT5s/hP+bI+n5QFeI/edrjKiAY4j/ogN0eaxniP5Bkea7zQOI/l4TQy55d4j9sEyW7NlHiPy6G6QtJmeI/C2FFjmSN4j9RJPfJnG/iP+U+mfNNqOI/Hv/jxirO4T9k5y8+ucniP1VVVVVVVeI/HYGirQbP4T/b2QQauhTiP1OPRsDYoeI/IPcTE5Ww4j+jMAYmDqDiPwgj7ViBMOI/8G2wTOKB4j/o6t4UoibiPwgp7muZLOI/8UZT59ce4j952uMqIBjiP9KkSZMmTeI/oCOT+wOW4j91/IMLkxriPw==",
          "dtype": "f8"
         }
        },
        {
         "legendgroup": "('llama3.1_8b_chat', 'gsm8k', 'cot_3_shot', 'main', 'prompt_only')",
         "marker": {
          "color": "#d62728",
          "opacity": 0.5,
          "size": 6
         },
         "mode": "markers",
         "name": "('llama3.1_8b_chat', 'gsm8k', 'cot_3_shot', 'main', 'prompt_only') Fold ('logistic_regression_f1_score', 2)",
         "showlegend": false,
         "type": "scatter",
         "x": {
          "bdata": "AAECAwQFBgcICQoLDA0ODxAREhMUFRYXGBkaGxwdHh8=",
          "dtype": "i1"
         },
         "y": {
          "bdata": "GQ6bqUkq4T96nud5nufhP2M/bOHKaeI/o5KdWh7o4D+E5Z5GWO7hP0JHBb64+uE/Se3j1UDh4T9ZuRuksqnhPyBwh542CuI/3KtglpQD4j9cuwpQ6ijhP43yedCd4OE/TgFx7GAl4j9DeFDutyDiP2Ng4gAqS+I/5lR72IGe4j9CRwW+uPrhP1q1BfWeuuE/ivkg3PSZ4T/YG5Wih73hP0CZxdLgAOI/UpstUpst4j9FBWym0/LhP9IgDdIgDeI/Hbf1Hco44j+UDtKv/DjiP8ZslbiYreI/T2ldPIv04T9ItMLmQKLhP5wplq6twOE/LrQKjD3l4T+rqqqqqiriPw==",
          "dtype": "f8"
         }
        },
        {
         "legendgroup": "('llama3.1_8b_chat', 'gsm8k', 'cot_3_shot', 'main', 'prompt_only')",
         "marker": {
          "color": "#d62728",
          "opacity": 0.5,
          "size": 6
         },
         "mode": "markers",
         "name": "('llama3.1_8b_chat', 'gsm8k', 'cot_3_shot', 'main', 'prompt_only') Fold ('logistic_regression_f1_score', 3)",
         "showlegend": false,
         "type": "scatter",
         "x": {
          "bdata": "AAECAwQFBgcICQoLDA0ODxAREhMUFRYXGBkaGxwdHh8=",
          "dtype": "i1"
         },
         "y": {
          "bdata": "fXCYb2Ra4T9EvRCPzQXiPxWqYvuou+I/nfurEAwn4j9UqFChQoXiP8KdizU2T+I/jK17RpYe4j9NmjRp0qThP9JB+pUfR+I/mdMZizmd4T9WRkzyu2nhP7zvvHD+0uE/9DcEbZXf4T9CRwW+uPrhPwgiGfE8EuI/x9/NI1Sf4T/YdFn9kw7iPz1beZe10+E/ojlrUDzt4T9XxPlxAEHiPxZf8RVf8eE/dR+SNSec4T/SIA3SIA3iP43UzR+eMuI/RPZA4zyZ4T+EP5p2+/TiPzmO4ziO4+E/N2hV5uMy4j/k2hfMfJ3hP1VJXyGsyOE/4uHh4eHh4T+SJEmSJEniPw==",
          "dtype": "f8"
         }
        },
        {
         "legendgroup": "('llama3.1_8b_chat', 'gsm8k', 'cot_3_shot', 'main', 'prompt_only')",
         "marker": {
          "color": "#d62728",
          "opacity": 0.5,
          "size": 6
         },
         "mode": "markers",
         "name": "('llama3.1_8b_chat', 'gsm8k', 'cot_3_shot', 'main', 'prompt_only') Fold ('logistic_regression_f1_score', 4)",
         "showlegend": false,
         "type": "scatter",
         "x": {
          "bdata": "AAECAwQFBgcICQoLDA0ODxAREhMUFRYXGBkaGxwdHh8=",
          "dtype": "i1"
         },
         "y": {
          "bdata": "LCPLdy4G4z+XxXbn4vHiP9PS0tLS0uI/ngKus6zc4j+06WO7H97iP8KmAEc7PeI/8CIK+/yZ4j/6Q3joc/TiPzR0H6zfAOM/IjwpSP684j9k5y8+ucniP0IyCckkJOM/4nU+c98W4j8y/Y6DyqfiP4eXUVOPdOI/IZ4iaQb34j/Xp+vT9eniP/If//Ef/+E/yksgoqNo4j+69XQTHXniPz7kHcz8oOI/hD+advv04j9dHeG9r5jiPxWCzsFbDeM/hIGbl7444z9bZr+HyuDiP/msG0yRz+I/WdZPvAHS4j8IXkRhnz/jP2dh9/muLeM/udK9AWXi4j/lP3rJf/TiPw==",
          "dtype": "f8"
         }
        },
        {
         "legendgroup": "('llama3.1_8b_chat', 'medals_9k', 'base', 'main', 'prompt_answer')",
         "line": {
          "color": "#9467bd",
          "width": 2
         },
         "marker": {
          "size": 8
         },
         "mode": "lines+markers",
         "name": "('llama3.1_8b_chat', 'medals_9k', 'base', 'main', 'prompt_answer')",
         "type": "scatter",
         "x": {
          "bdata": "AAECAwQFBgcICQoLDA0ODxAREhMUFRYXGBkaGxwdHh8=",
          "dtype": "i1"
         },
         "y": {
          "bdata": "Dow1CMb65T8ApkzaqBDmP0JqnnI9PuY/Y48z88kk5j8nvZUxnTzmPx5Yq4GRhOY/C8oDSWuU5j/gr/KiUZPmPx6VQohufeY/hiGr08au5j/awu1V1dLmP7A1z67f0eY/00eLFC++5j//QnxxjJPmP91AqmMp5eY/q5DDJA+o5j9G/KD7p4zmPxHYAhlSv+Y/LqHnz8PJ5j9QGuWWarLmP5Lk+moLn+Y/3oSWVtKa5j92cNzvOo3mP0gXfQl3iuY/XL5B8Khd5j+5VKlbxHfmP6A1z8A6ZeY/Ogrg0mKJ5j+3A+tCwJXmPxuh7lSXfeY/prxSh8fI5j+LjyPpwK/mPw==",
          "dtype": "f8"
         }
        },
        {
         "legendgroup": "('llama3.1_8b_chat', 'medals_9k', 'base', 'main', 'prompt_answer')",
         "line": {
          "width": 0
         },
         "mode": "lines",
         "name": "('llama3.1_8b_chat', 'medals_9k', 'base', 'main', 'prompt_answer') Max",
         "showlegend": false,
         "type": "scatter",
         "x": {
          "bdata": "AAECAwQFBgcICQoLDA0ODxAREhMUFRYXGBkaGxwdHh8=",
          "dtype": "i1"
         },
         "y": {
          "bdata": "94it9oit5j9JFvtzaT3mP5AaqC4doeY/6jsb9Z2N5j+D/MpzRpXmP5uAH2a+rOY/N22HQVEn5z94cR46hhfnP6uzfrxJ+uY/+XBF64sP5z9I30MGJA/nP7O+O9Q9Duc/7HB7kLoO5z/cM6pSG13nPxaykIUsZOc/OlaSYg/m5j875N/SqzbnP2l8ZAK9U+c/nf5Xl4iP5z+C4XKuelvnP/fiJffiJec/TFBn9OEa5z9y0IU/BvTmP0h1os/8Kec/PusGU+Sz5j+zvjvUPQ7nP3HH+mFz1+Y/vHPdk8Q75z9vetOb3vTmP7bWWmutteY/CWr1swwo5z/PZQm2luLmPw==",
          "dtype": "f8"
         }
        },
        {
         "fill": "tonexty",
         "fillcolor": "rgba(148, 103, 189, 0.1)",
         "legendgroup": "('llama3.1_8b_chat', 'medals_9k', 'base', 'main', 'prompt_answer')",
         "line": {
          "width": 0
         },
         "mode": "lines",
         "name": "('llama3.1_8b_chat', 'medals_9k', 'base', 'main', 'prompt_answer') Min",
         "showlegend": false,
         "type": "scatter",
         "x": {
          "bdata": "AAECAwQFBgcICQoLDA0ODxAREhMUFRYXGBkaGxwdHh8=",
          "dtype": "i1"
         },
         "y": {
          "bdata": "5xdn8e+H5T+9NP2nK9/lP2l3cCgdyOU/Y8rmlqeo5T9SpmVfesvlP5KcgCB2POY/emphpacW5j/ia1/Mnh7mP5KcgCB2POY/akp56JJZ5j9n8YZrjpDmP/Ok6H/ZiOY/sAVbsAVb5j/l8TvBSkLmP79J3l8HY+Y/tWMFwkg75j+ryPMDSiTmP0z/68UI+uU/4xnPeMYz5j+2YAu2YAvmP1wtAvyxOeY/8gfiNkjY5T+WiuusTA/mP46Lu4u4vuU/lgPflQPf5T9QqtyHZ8blP3CS99fBmOU/tYAxiYP35T/ok7dZxj/mP2fcoy9dHuY/ME4znLdb5j8cdLtWTnjmPw==",
          "dtype": "f8"
         }
        },
        {
         "legendgroup": "('llama3.1_8b_chat', 'medals_9k', 'base', 'main', 'prompt_answer')",
         "line": {
          "width": 0
         },
         "mode": "lines",
         "name": "('llama3.1_8b_chat', 'medals_9k', 'base', 'main', 'prompt_answer') +1 STD",
         "showlegend": false,
         "type": "scatter",
         "x": {
          "bdata": "AAECAwQFBgcICQoLDA0ODxAREhMUFRYXGBkaGxwdHh8=",
          "dtype": "i1"
         },
         "y": {
          "bdata": "UJcpL+9r5j9bcVtMbjTmP5Wst7SskuY/JPUQ3qh25j/BszdjrZHmP1S5cTZcs+Y/iqrAzRAA5z/hN3JGywHnP0krXwlTyuY/njIWVL785j+tlyaCgg3nPzoyCqJfCec/v6PFtmAQ5z+ZKVVe5QXnP8vb2W5AW+c/uiJpXwP65j+zRb5ELf3mP0o0o2vyVuc/HMF615JZ5z8FipZbaEnnP3n6iPTtA+c/9MU9nO4j5z+FsSnTzP/mPwYOihpILuc/ToifPp/D5j+cxELwovnmPxXSxeBw7eY/JlENvZUG5z8D4XejMuTmP7XCBt32u+Y/UlyFut0e5z9NBAhLM9bmPw==",
          "dtype": "f8"
         }
        },
        {
         "fill": "tonexty",
         "fillcolor": "rgba(148, 103, 189, 0.3)",
         "legendgroup": "('llama3.1_8b_chat', 'medals_9k', 'base', 'main', 'prompt_answer')",
         "line": {
          "width": 0
         },
         "mode": "lines",
         "name": "('llama3.1_8b_chat', 'medals_9k', 'base', 'main', 'prompt_answer') -1 STD",
         "showlegend": false,
         "type": "scatter",
         "x": {
          "bdata": "AAECAwQFBgcICQoLDA0ODxAREhMUFRYXGBkaGxwdHh8=",
          "dtype": "i1"
         },
         "y": {
          "bdata": "zIBB4ZyJ5T+l2j1o4+zlP+8nhTDO6eU/oilWCOvS5T+NxvP/jOflP+j25MzGVeY/jOlGxMUo5j/fJ3P/1yTmP/P+JQeKMOY/bhBAU89g5j8H7rQpKJjmPyY5lLtfmuY/5+tQcv1r5j9lXKOEMyHmP++lelgSb+Y/nP4d6hpW5j/ZsoOyIhzmP9h7YsaxJ+Y/QIFUyPQ55j+bqjPSbBvmP6vObOEoOuY/yEPvELYR5j9nL48MqRrmP4ogcPil5uU/avTjobL35T/W5A/H5fXlPyuZ2KAE3eU/TsOy6C8M5j9rJl7iTUfmP4F/1sw3P+Y/+hwgVLFy5j/JGj+HTonmPw==",
          "dtype": "f8"
         }
        },
        {
         "legendgroup": "('llama3.1_8b_chat', 'medals_9k', 'base', 'main', 'prompt_answer')",
         "marker": {
          "color": "#9467bd",
          "opacity": 0.5,
          "size": 6
         },
         "mode": "markers",
         "name": "('llama3.1_8b_chat', 'medals_9k', 'base', 'main', 'prompt_answer') Fold ('logistic_regression_f1_score', 0)",
         "showlegend": false,
         "type": "scatter",
         "x": {
          "bdata": "AAECAwQFBgcICQoLDA0ODxAREhMUFRYXGBkaGxwdHh8=",
          "dtype": "i1"
         },
         "y": {
          "bdata": "AYgzmAvP5T+7L4+tCBrmP8JJVk14EOY/lkghlkgh5j/mS3VvZvvlPyomui13o+Y/PRqjCkmx5j/ia1/Mnh7mPw9saSg6ReY/B9hlNod25j/xMaXTCtXmP5FZw4HYp+Y/TIngkf565j/l8TvBSkLmP5sdtQj5a+Y/Hr8TrCRk5j+ryPMDSiTmP0z/68UI+uU/4xnPeMYz5j92Yid2YifmP1wtAvyxOeY/8gfiNkjY5T98GmG5pxHmP2F/nbvZ9+U/lgPflQPf5T/3+UD5oiXmP7tSZ01GGuY/Vsoe/4o25j+SJEmSJEnmP2fcoy9dHuY/ME4znLdb5j8cdLtWTnjmPw==",
          "dtype": "f8"
         }
        },
        {
         "legendgroup": "('llama3.1_8b_chat', 'medals_9k', 'base', 'main', 'prompt_answer')",
         "marker": {
          "color": "#9467bd",
          "opacity": 0.5,
          "size": 6
         },
         "mode": "markers",
         "name": "('llama3.1_8b_chat', 'medals_9k', 'base', 'main', 'prompt_answer') Fold ('logistic_regression_f1_score', 1)",
         "showlegend": false,
         "type": "scatter",
         "x": {
          "bdata": "AAECAwQFBgcICQoLDA0ODxAREhMUFRYXGBkaGxwdHh8=",
          "dtype": "i1"
         },
         "y": {
          "bdata": "5xdn8e+H5T+9NP2nK9/lP2l3cCgdyOU/inn0FJQ45j+D/MpzRpXmP5KcgCB2POY/emphpacW5j8qYqmIpSLmP5KcgCB2POY/+XBF64sP5z8K16NwPQrnP0M6bzGk8+Y/IdT8ma7F5j/8281VWXfmP79J3l8HY+Y/tWMFwkg75j+gR2NUISnmP5MPkVWhyuY/CtejcD0K5z/bcpU0qi3nP+SQoC0jxeY/41YoboXi5j+3bdu2bdvmP74se7ZQ/OY/MyqjMiqj5j8LbNVPqsDmP8b+SoT5sOY/V93KMau95j+FZ/obdLvmP/m01/OCZ+Y/X95MUP/c5j9+yEmkY7bmPw==",
          "dtype": "f8"
         }
        },
        {
         "legendgroup": "('llama3.1_8b_chat', 'medals_9k', 'base', 'main', 'prompt_answer')",
         "marker": {
          "color": "#9467bd",
          "opacity": 0.5,
          "size": 6
         },
         "mode": "markers",
         "name": "('llama3.1_8b_chat', 'medals_9k', 'base', 'main', 'prompt_answer') Fold ('logistic_regression_f1_score', 2)",
         "showlegend": false,
         "type": "scatter",
         "x": {
          "bdata": "AAECAwQFBgcICQoLDA0ODxAREhMUFRYXGBkaGxwdHh8=",
          "dtype": "i1"
         },
         "y": {
          "bdata": "17h2YS8d5j+B6pfwff3lP22amt2/TeY/Y8rmlqeo5T9SpmVfesvlP6pNbWpTm+Y/8BO4Fc1A5j+PMFgthbfmP8N4ApXyjeY/XrGC9B/v5j9n8YZrjpDmP/Ok6H/ZiOY/sAVbsAVb5j//oUO9O2HmPwY3rJwLF+c/OlaSYg/m5j8TRm/cIqvmPyU2f8JCV+Y/yESoO6RI5j+2YAu2YAvmPxxuI9oMO+Y/8uqwKFY/5j+WiuusTA/mP46Lu4u4vuU/zlQgofD+5T9QqtyHZ8blP3CS99fBmOU/tYAxiYP35T/ok7dZxj/mP1eM65b+heY/F4BYx12F5j/CFWwI8LjmPw==",
          "dtype": "f8"
         }
        },
        {
         "legendgroup": "('llama3.1_8b_chat', 'medals_9k', 'base', 'main', 'prompt_answer')",
         "marker": {
          "color": "#9467bd",
          "opacity": 0.5,
          "size": 6
         },
         "mode": "markers",
         "name": "('llama3.1_8b_chat', 'medals_9k', 'base', 'main', 'prompt_answer') Fold ('logistic_regression_f1_score', 3)",
         "showlegend": false,
         "type": "scatter",
         "x": {
          "bdata": "AAECAwQFBgcICQoLDA0ODxAREhMUFRYXGBkaGxwdHh8=",
          "dtype": "i1"
         },
         "y": {
          "bdata": "94it9oit5j9JFvtzaT3mP5AaqC4doeY/gATqiM8n5j/5tNfzgmfmP5uAH2a+rOY/N22HQVEn5z9O/z1ySNDmP4e04Q48aeY/akp56JJZ5j+U9JD3L5/mP/MUtWLK5uY/7HB7kLoO5z9Aq3UQw2nmP9jzgmeWL+c/1neHusfh5j/Esn7iDZDmP2l8ZAK9U+c/k/ESU6La5j8DbD7jLMDmP4Vn+ht0u+Y/P/7N7hXx5j9y0IU/BvTmP3HH+mFz1+Y/PusGU+Sz5j+zvjvUPQ7nP3HH+mFz1+Y/vHPdk8Q75z9vetOb3vTmP7bWWmutteY/jZjPPMQF5z+KFTfUi6TmPw==",
          "dtype": "f8"
         }
        },
        {
         "legendgroup": "('llama3.1_8b_chat', 'medals_9k', 'base', 'main', 'prompt_answer')",
         "marker": {
          "color": "#9467bd",
          "opacity": 0.5,
          "size": 6
         },
         "mode": "markers",
         "name": "('llama3.1_8b_chat', 'medals_9k', 'base', 'main', 'prompt_answer') Fold ('logistic_regression_f1_score', 4)",
         "showlegend": false,
         "type": "scatter",
         "x": {
          "bdata": "AAECAwQFBgcICQoLDA0ODxAREhMUFRYXGBkaGxwdHh8=",
          "dtype": "i1"
         },
         "y": {
          "bdata": "j9pMRyrE5T/A2F+JMB/mPySdDrvAb+Y/6jsb9Z2N5j8UDm/BZ2vmP5YnkWnYbuY/VuzOZQm25j94cR46hhfnP6uzfrxJ+uY/1WKwIxyb5j9I30MGJA/nP7O+O9Q9Duc/F5ME+n0M5z/cM6pSG13nPxaykIUsZOc/buKeLAfh5j875N/SqzbnP+h2rZzwTOc/nf5Xl4iP5z+C4XKuelvnP/fiJffiJec/TFBn9OEa5z8YT6BSvtHmP0h1os/8Kec/9Umf9Emf5j+X2B8l45vmP75gZ7iwvuY/A5dn0G+H5j8keMiqg7PmPxcx54JosuY/CWr1swwo5z/PZQm2luLmPw==",
          "dtype": "f8"
         }
        },
        {
         "legendgroup": "('llama3.1_8b_chat', 'medals_9k', 'base', 'main', 'prompt_only')",
         "line": {
          "color": "#8c564b",
          "width": 2
         },
         "marker": {
          "size": 8
         },
         "mode": "lines+markers",
         "name": "('llama3.1_8b_chat', 'medals_9k', 'base', 'main', 'prompt_only')",
         "type": "scatter",
         "x": {
          "bdata": "AAECAwQFBgcICQoLDA0ODxAREhMUFRYXGBkaGxwdHh8=",
          "dtype": "i1"
         },
         "y": {
          "bdata": "6jlrOE3c5T8tqCHERZXlPxdjqM88oOU/rX92BW705T8Cp+z7mrjlP8357vvXt+U/OGGpMl2z5T9wZjcDP+rlP494w4Hg/OU/c6PbK+/V5T8sPmWwBOLlP3pQYcP8/uU/j2eVp/EA5j8rEsq5mi7mPwJMzoxL3uU/fv96pPlO5j/lg4nkoRjmP5075hz+KuY/mRB+Ir8s5j9rE0Js2SbmPxrsRgUiVuY//renVBVK5j8QfPsp8zvmP2JXwhroOuY/sLLxam4Q5j8KTTzaESfmP55g1v2YIeY/PYD8ldka5j92r5KuN/vlP53rMW7CL+Y/Ktuu9qf85T+QOHyF2QLmPw==",
          "dtype": "f8"
         }
        },
        {
         "legendgroup": "('llama3.1_8b_chat', 'medals_9k', 'base', 'main', 'prompt_only')",
         "line": {
          "width": 0
         },
         "mode": "lines",
         "name": "('llama3.1_8b_chat', 'medals_9k', 'base', 'main', 'prompt_only') Max",
         "showlegend": false,
         "type": "scatter",
         "x": {
          "bdata": "AAECAwQFBgcICQoLDA0ODxAREhMUFRYXGBkaGxwdHh8=",
          "dtype": "i1"
         },
         "y": {
          "bdata": "JCVXU6Qx5j9uRMV2XwDmPwhwj3ntOuY/2neEXDC85j+HYzdAC0nmP0vnE/c4WeY/ydfvREBl5j9JUyrOPnzmP/5B36yhu+Y/aDCuD06V5j9R/0u5OWrmP8T5RdKrsOY/55anqBVT5j96FqZnYXrmPxygBFo6SOY/oRYwJnHw5j9m6E7ye5DmP6qnNHjXxuY/4Jn9VBjr5j8qsTjAR8/mP21qU5va1OY/6Mnas5rp5j+j3cGhdCDnP55FwscnuOY/BiwaVRHs5j/MtLEX8srmP5oe7ufL/uY/joaPEHjm5j/RmIBmU4PmP61TiRtFm+Y/Pk6W8SCQ5j/LBLw6f4/mPw==",
          "dtype": "f8"
         }
        },
        {
         "fill": "tonexty",
         "fillcolor": "rgba(140, 86, 75, 0.1)",
         "legendgroup": "('llama3.1_8b_chat', 'medals_9k', 'base', 'main', 'prompt_only')",
         "line": {
          "width": 0
         },
         "mode": "lines",
         "name": "('llama3.1_8b_chat', 'medals_9k', 'base', 'main', 'prompt_only') Min",
         "showlegend": false,
         "type": "scatter",
         "x": {
          "bdata": "AAECAwQFBgcICQoLDA0ODxAREhMUFRYXGBkaGxwdHh8=",
          "dtype": "i1"
         },
         "y": {
          "bdata": "4o64I+6I5T81UR/WTBPlP+Rsw5u4AOU/GnTVSGk65T/YYBCOvzrlP7e4QhKsBuU/fy53/x765D97NIf4lSvlP37T8spaL+U/e5eHgERG5T9DuzOsJJ3lP9P/ejGCfuU/iYTez4rX5T93hMFqKbzlP8kgv/KcUeU/GFWhq3pR5T+tuQiKq2vlP9nwbdAFO+U/92bK43eC5T990id90iflPzeINekYu+U/rg3T3AV/5T8fc3gai1HlPwtBBUcYsuU/Q1f1oip05T+sTOU7nJrlP+ajiLWJd+U/yhyKUheA5T83hqY72G/lP0y5Zmsl0OU/8BIGji2p5T+G8Ejaq4blPw==",
          "dtype": "f8"
         }
        },
        {
         "legendgroup": "('llama3.1_8b_chat', 'medals_9k', 'base', 'main', 'prompt_only')",
         "line": {
          "width": 0
         },
         "mode": "lines",
         "name": "('llama3.1_8b_chat', 'medals_9k', 'base', 'main', 'prompt_only') +1 STD",
         "showlegend": false,
         "type": "scatter",
         "x": {
          "bdata": "AAECAwQFBgcICQoLDA0ODxAREhMUFRYXGBkaGxwdHh8=",
          "dtype": "i1"
         },
         "y": {
          "bdata": "GIRk+Lcm5j+o9U/hoO/lP6cWf6mRLuY/VLAn7JeQ5j+P3VQVWS3mP/Vla/R6SOY/ETz/BwI95j+EnlUm72TmPyfz+fL0jeY/Ygof+iRU5j+tpOQPmDLmPy4WAPYMfeY/q4+cMscx5j8bPKT+03XmP6aqhPmRSeY/bPoGGLoc5z/vTDEwipLmP1pATqvOzuY/zIcSt8PO5j8W1Hxo9MHmP6ahgqc+0uY/jdes5pr35j9AncEjAfTmP3XoTeuiquY/8s3YU+St5j/blh5drLDmP6M6UYTfvuY/a54bAGev5j+NRS7xmHjmP10l3KmwkuY/OVXTiZFf5j921eVGX3DmPw==",
          "dtype": "f8"
         }
        },
        {
         "fill": "tonexty",
         "fillcolor": "rgba(140, 86, 75, 0.3)",
         "legendgroup": "('llama3.1_8b_chat', 'medals_9k', 'base', 'main', 'prompt_only')",
         "line": {
          "width": 0
         },
         "mode": "lines",
         "name": "('llama3.1_8b_chat', 'medals_9k', 'base', 'main', 'prompt_only') -1 STD",
         "showlegend": false,
         "type": "scatter",
         "x": {
          "bdata": "AAECAwQFBgcICQoLDA0ODxAREhMUFRYXGBkaGxwdHh8=",
          "dtype": "i1"
         },
         "y": {
          "bdata": "vO9xeOKR5T+yWvOm6jrlP4ev0fXnEeU/Bk/FHkRY5T91cITi3EPlP6WNcgM1J+U/X4ZTXbgp5T9cLhngjm/lP/f9jBDMa+U/hDyYXblX5T+r1+VQcZHlP8aKwpDsgOU/cz+OHBzQ5T876O90YeflP17tFyAFc+U/kATvMDmB5T/buuGYuZ7lP+A2fo4th+U/ZpnpjbqK5T/AUgdwvovlP442C2MF2uU/b5iiwo+c5T/gWjUw5YPlP0/GNkoty+U/bpcKgvhy5T85A1pXd53lP5mGW3dShOU/D2LdK0yG5T9fGfdr1n3lP92xhzLUzOU/G2GKY76Z5T+qmxLEU5XlPw==",
          "dtype": "f8"
         }
        },
        {
         "legendgroup": "('llama3.1_8b_chat', 'medals_9k', 'base', 'main', 'prompt_only')",
         "marker": {
          "color": "#8c564b",
          "opacity": 0.5,
          "size": 6
         },
         "mode": "markers",
         "name": "('llama3.1_8b_chat', 'medals_9k', 'base', 'main', 'prompt_only') Fold ('logistic_regression_f1_score', 0)",
         "showlegend": false,
         "type": "scatter",
         "x": {
          "bdata": "AAECAwQFBgcICQoLDA0ODxAREhMUFRYXGBkaGxwdHh8=",
          "dtype": "i1"
         },
         "y": {
          "bdata": "4o64I+6I5T81UR/WTBPlP42F3kcLPuU/Q1f1oip05T/YYBCOvzrlP7UASrUASuU/hVytC0/I5T8hQaXE+vblPyt7+J5MPuY/vodBZvyl5T8JNB6mEeHlP13mNy2vrOU/lhTlNrjn5T/0mT/lijDmP5jDHOYwh+U/GFWhq3pR5T8LXdWLqtDlP31eDYbK5+U/LN/Mjgye5T9GF1100UXmPxplyNF/BuY/lCx1hNim5T9RpmeMRLvlPwtBBUcYsuU/Q1f1oip05T+sTOU7nJrlP+zqiChbnuU/yhyKUheA5T+v2dWE+KrlP0y5Zmsl0OU/pP/i0rnL5T8S5EJ4JO3lPw==",
          "dtype": "f8"
         }
        },
        {
         "legendgroup": "('llama3.1_8b_chat', 'medals_9k', 'base', 'main', 'prompt_only')",
         "marker": {
          "color": "#8c564b",
          "opacity": 0.5,
          "size": 6
         },
         "mode": "markers",
         "name": "('llama3.1_8b_chat', 'medals_9k', 'base', 'main', 'prompt_only') Fold ('logistic_regression_f1_score', 1)",
         "showlegend": false,
         "type": "scatter",
         "x": {
          "bdata": "AAECAwQFBgcICQoLDA0ODxAREhMUFRYXGBkaGxwdHh8=",
          "dtype": "i1"
         },
         "y": {
          "bdata": "JCVXU6Qx5j/xg3Dy4ZPlP4VXeIVXeOU/FIXMqLox5j/8BangTuDlP+2Jn7S8LuY/rmLZ+GZo5T8nPNPfoNvlP4zBtjHB5OU/x/MgTnuo5T/xjvX6gbHlP+AHxTZxT+Y/iYTez4rX5T//kJ+6o1TmP27BVCtOGeY/Ry5x1+HV5j85BvzeRjbmPxSFzKi6MeY/32j7WPQc5j+tyxxeFDbmP6vvzfy4R+Y/lu17lu175j/CSTqET1rmPxNnCbkvceY/z0d4qei45T+vcEDf6iPmP0v/Y7p5N+Y/VjgnT0cE5j83uzgwXM7lP61TiRtFm+Y/xqXRiQM05j9Hc1UD31PmPw==",
          "dtype": "f8"
         }
        },
        {
         "legendgroup": "('llama3.1_8b_chat', 'medals_9k', 'base', 'main', 'prompt_only')",
         "marker": {
          "color": "#8c564b",
          "opacity": 0.5,
          "size": 6
         },
         "mode": "markers",
         "name": "('llama3.1_8b_chat', 'medals_9k', 'base', 'main', 'prompt_only') Fold ('logistic_regression_f1_score', 2)",
         "showlegend": false,
         "type": "scatter",
         "x": {
          "bdata": "AAECAwQFBgcICQoLDA0ODxAREhMUFRYXGBkaGxwdHh8=",
          "dtype": "i1"
         },
         "y": {
          "bdata": "ca1LJXMW5j8zN/jzG87lPwhwj3ntOuY/2neEXDC85j+HYzdAC0nmP0vnE/c4WeY/myBhtLzw5T9JUyrOPnzmP/5B36yhu+Y/aDCuD06V5j9R/0u5OWrmP8T5RdKrsOY/6Y7PfNwF5j/vlKsuTC3mPx020mEjHeY/INx4+5Lm5j8ljoaPEHjmP6qnNHjXxuY/4Jn9VBjr5j99+m8NP0/mPxtVQ8d90OY/6Mnas5rp5j+j3cGhdCDnP55FwscnuOY/BiwaVRHs5j/MtLEX8srmP5oe7ufL/uY/joaPEHjm5j/RmIBmU4PmP2/EhVmImOY/Pk6W8SCQ5j/LBLw6f4/mPw==",
          "dtype": "f8"
         }
        },
        {
         "legendgroup": "('llama3.1_8b_chat', 'medals_9k', 'base', 'main', 'prompt_only')",
         "marker": {
          "color": "#8c564b",
          "opacity": 0.5,
          "size": 6
         },
         "mode": "markers",
         "name": "('llama3.1_8b_chat', 'medals_9k', 'base', 'main', 'prompt_only') Fold ('logistic_regression_f1_score', 3)",
         "showlegend": false,
         "type": "scatter",
         "x": {
          "bdata": "AAECAwQFBgcICQoLDA0ODxAREhMUFRYXGBkaGxwdHh8=",
          "dtype": "i1"
         },
         "y": {
          "bdata": "WjNl1kyZ5T8Z+FqhsnTlP+Rsw5u4AOU/GnTVSGk65T+Z6Ph5NEblP7e4QhKsBuU/fy53/x765D97NIf4lSvlP37T8spaL+U/e5eHgERG5T9DuzOsJJ3lP9P/ejGCfuU/3UawGYPs5T93hMFqKbzlP8kgv/KcUeU/VIerkX+M5T+tuQiKq2vlP9nwbdAFO+U/92bK43eC5T990id90iflPzeINekYu+U/rg3T3AV/5T8fc3gai1HlP4qSXZso2eU/d4TBaim85T+2paS1paTlP+ajiLWJd+U/TVoh7M+k5T83hqY72G/lP+g7LJ+pB+Y/8BIGji2p5T+G8Ejaq4blPw==",
          "dtype": "f8"
         }
        },
        {
         "legendgroup": "('llama3.1_8b_chat', 'medals_9k', 'base', 'main', 'prompt_only')",
         "marker": {
          "color": "#8c564b",
          "opacity": 0.5,
          "size": 6
         },
         "mode": "markers",
         "name": "('llama3.1_8b_chat', 'medals_9k', 'base', 'main', 'prompt_only') Fold ('logistic_regression_f1_score', 4)",
         "showlegend": false,
         "type": "scatter",
         "x": {
          "bdata": "AAECAwQFBgcICQoLDA0ODxAREhMUFRYXGBkaGxwdHh8=",
          "dtype": "i1"
         },
         "y": {
          "bdata": "v4xXpy/j5T9uRMV2XwDmP3c1oCsnL+Y/GLY0Kqcp5j8UkLXCuPDlP1y2aniVvuU/ydfvREBl5j8m++qkyhjmP5MIUEBY4uU/2O2xlqED5j9MuWZrJdDlP4yqKGmhz+U/55anqBVT5j96FqZnYXrmPxygBFo6SOY/oRYwJnHw5j9m6E7ye5DmPwCuAhmUu+Y/GQrmiyq35j8qsTjAR8/mP21qU5va1OY/M6an+wPn5j96Kw0FLKTmP6Q0nSLwceY/4C1vCtp85j9UabFaOpXmP1w2zHTSW+Y/NkuMT5l25j9huacRlnvmP7+MV6cv4+U/OkEZ9Tu25T8ozs8KEbflPw==",
          "dtype": "f8"
         }
        }
       ],
       "layout": {
        "font": {
         "color": "white"
        },
        "height": 600,
        "legend": {
         "bgcolor": "rgba(32, 32, 32, 0.8)",
         "orientation": "h",
         "x": 0.5,
         "xanchor": "center",
         "y": 1.02,
         "yanchor": "bottom"
        },
        "margin": {
         "b": 50,
         "l": 50,
         "r": 30,
         "t": 100
        },
        "paper_bgcolor": "rgba(32, 32, 32, 1)",
        "plot_bgcolor": "rgba(32, 32, 32, 1)",
        "showlegend": true,
        "template": {
         "data": {
          "bar": [
           {
            "error_x": {
             "color": "#f2f5fa"
            },
            "error_y": {
             "color": "#f2f5fa"
            },
            "marker": {
             "line": {
              "color": "rgb(17,17,17)",
              "width": 0.5
             },
             "pattern": {
              "fillmode": "overlay",
              "size": 10,
              "solidity": 0.2
             }
            },
            "type": "bar"
           }
          ],
          "barpolar": [
           {
            "marker": {
             "line": {
              "color": "rgb(17,17,17)",
              "width": 0.5
             },
             "pattern": {
              "fillmode": "overlay",
              "size": 10,
              "solidity": 0.2
             }
            },
            "type": "barpolar"
           }
          ],
          "carpet": [
           {
            "aaxis": {
             "endlinecolor": "#A2B1C6",
             "gridcolor": "#506784",
             "linecolor": "#506784",
             "minorgridcolor": "#506784",
             "startlinecolor": "#A2B1C6"
            },
            "baxis": {
             "endlinecolor": "#A2B1C6",
             "gridcolor": "#506784",
             "linecolor": "#506784",
             "minorgridcolor": "#506784",
             "startlinecolor": "#A2B1C6"
            },
            "type": "carpet"
           }
          ],
          "choropleth": [
           {
            "colorbar": {
             "outlinewidth": 0,
             "ticks": ""
            },
            "type": "choropleth"
           }
          ],
          "contour": [
           {
            "colorbar": {
             "outlinewidth": 0,
             "ticks": ""
            },
            "colorscale": [
             [
              0,
              "#0d0887"
             ],
             [
              0.1111111111111111,
              "#46039f"
             ],
             [
              0.2222222222222222,
              "#7201a8"
             ],
             [
              0.3333333333333333,
              "#9c179e"
             ],
             [
              0.4444444444444444,
              "#bd3786"
             ],
             [
              0.5555555555555556,
              "#d8576b"
             ],
             [
              0.6666666666666666,
              "#ed7953"
             ],
             [
              0.7777777777777778,
              "#fb9f3a"
             ],
             [
              0.8888888888888888,
              "#fdca26"
             ],
             [
              1,
              "#f0f921"
             ]
            ],
            "type": "contour"
           }
          ],
          "contourcarpet": [
           {
            "colorbar": {
             "outlinewidth": 0,
             "ticks": ""
            },
            "type": "contourcarpet"
           }
          ],
          "heatmap": [
           {
            "colorbar": {
             "outlinewidth": 0,
             "ticks": ""
            },
            "colorscale": [
             [
              0,
              "#0d0887"
             ],
             [
              0.1111111111111111,
              "#46039f"
             ],
             [
              0.2222222222222222,
              "#7201a8"
             ],
             [
              0.3333333333333333,
              "#9c179e"
             ],
             [
              0.4444444444444444,
              "#bd3786"
             ],
             [
              0.5555555555555556,
              "#d8576b"
             ],
             [
              0.6666666666666666,
              "#ed7953"
             ],
             [
              0.7777777777777778,
              "#fb9f3a"
             ],
             [
              0.8888888888888888,
              "#fdca26"
             ],
             [
              1,
              "#f0f921"
             ]
            ],
            "type": "heatmap"
           }
          ],
          "histogram": [
           {
            "marker": {
             "pattern": {
              "fillmode": "overlay",
              "size": 10,
              "solidity": 0.2
             }
            },
            "type": "histogram"
           }
          ],
          "histogram2d": [
           {
            "colorbar": {
             "outlinewidth": 0,
             "ticks": ""
            },
            "colorscale": [
             [
              0,
              "#0d0887"
             ],
             [
              0.1111111111111111,
              "#46039f"
             ],
             [
              0.2222222222222222,
              "#7201a8"
             ],
             [
              0.3333333333333333,
              "#9c179e"
             ],
             [
              0.4444444444444444,
              "#bd3786"
             ],
             [
              0.5555555555555556,
              "#d8576b"
             ],
             [
              0.6666666666666666,
              "#ed7953"
             ],
             [
              0.7777777777777778,
              "#fb9f3a"
             ],
             [
              0.8888888888888888,
              "#fdca26"
             ],
             [
              1,
              "#f0f921"
             ]
            ],
            "type": "histogram2d"
           }
          ],
          "histogram2dcontour": [
           {
            "colorbar": {
             "outlinewidth": 0,
             "ticks": ""
            },
            "colorscale": [
             [
              0,
              "#0d0887"
             ],
             [
              0.1111111111111111,
              "#46039f"
             ],
             [
              0.2222222222222222,
              "#7201a8"
             ],
             [
              0.3333333333333333,
              "#9c179e"
             ],
             [
              0.4444444444444444,
              "#bd3786"
             ],
             [
              0.5555555555555556,
              "#d8576b"
             ],
             [
              0.6666666666666666,
              "#ed7953"
             ],
             [
              0.7777777777777778,
              "#fb9f3a"
             ],
             [
              0.8888888888888888,
              "#fdca26"
             ],
             [
              1,
              "#f0f921"
             ]
            ],
            "type": "histogram2dcontour"
           }
          ],
          "mesh3d": [
           {
            "colorbar": {
             "outlinewidth": 0,
             "ticks": ""
            },
            "type": "mesh3d"
           }
          ],
          "parcoords": [
           {
            "line": {
             "colorbar": {
              "outlinewidth": 0,
              "ticks": ""
             }
            },
            "type": "parcoords"
           }
          ],
          "pie": [
           {
            "automargin": true,
            "type": "pie"
           }
          ],
          "scatter": [
           {
            "marker": {
             "line": {
              "color": "#283442"
             }
            },
            "type": "scatter"
           }
          ],
          "scatter3d": [
           {
            "line": {
             "colorbar": {
              "outlinewidth": 0,
              "ticks": ""
             }
            },
            "marker": {
             "colorbar": {
              "outlinewidth": 0,
              "ticks": ""
             }
            },
            "type": "scatter3d"
           }
          ],
          "scattercarpet": [
           {
            "marker": {
             "colorbar": {
              "outlinewidth": 0,
              "ticks": ""
             }
            },
            "type": "scattercarpet"
           }
          ],
          "scattergeo": [
           {
            "marker": {
             "colorbar": {
              "outlinewidth": 0,
              "ticks": ""
             }
            },
            "type": "scattergeo"
           }
          ],
          "scattergl": [
           {
            "marker": {
             "line": {
              "color": "#283442"
             }
            },
            "type": "scattergl"
           }
          ],
          "scattermap": [
           {
            "marker": {
             "colorbar": {
              "outlinewidth": 0,
              "ticks": ""
             }
            },
            "type": "scattermap"
           }
          ],
          "scattermapbox": [
           {
            "marker": {
             "colorbar": {
              "outlinewidth": 0,
              "ticks": ""
             }
            },
            "type": "scattermapbox"
           }
          ],
          "scatterpolar": [
           {
            "marker": {
             "colorbar": {
              "outlinewidth": 0,
              "ticks": ""
             }
            },
            "type": "scatterpolar"
           }
          ],
          "scatterpolargl": [
           {
            "marker": {
             "colorbar": {
              "outlinewidth": 0,
              "ticks": ""
             }
            },
            "type": "scatterpolargl"
           }
          ],
          "scatterternary": [
           {
            "marker": {
             "colorbar": {
              "outlinewidth": 0,
              "ticks": ""
             }
            },
            "type": "scatterternary"
           }
          ],
          "surface": [
           {
            "colorbar": {
             "outlinewidth": 0,
             "ticks": ""
            },
            "colorscale": [
             [
              0,
              "#0d0887"
             ],
             [
              0.1111111111111111,
              "#46039f"
             ],
             [
              0.2222222222222222,
              "#7201a8"
             ],
             [
              0.3333333333333333,
              "#9c179e"
             ],
             [
              0.4444444444444444,
              "#bd3786"
             ],
             [
              0.5555555555555556,
              "#d8576b"
             ],
             [
              0.6666666666666666,
              "#ed7953"
             ],
             [
              0.7777777777777778,
              "#fb9f3a"
             ],
             [
              0.8888888888888888,
              "#fdca26"
             ],
             [
              1,
              "#f0f921"
             ]
            ],
            "type": "surface"
           }
          ],
          "table": [
           {
            "cells": {
             "fill": {
              "color": "#506784"
             },
             "line": {
              "color": "rgb(17,17,17)"
             }
            },
            "header": {
             "fill": {
              "color": "#2a3f5f"
             },
             "line": {
              "color": "rgb(17,17,17)"
             }
            },
            "type": "table"
           }
          ]
         },
         "layout": {
          "annotationdefaults": {
           "arrowcolor": "#f2f5fa",
           "arrowhead": 0,
           "arrowwidth": 1
          },
          "autotypenumbers": "strict",
          "coloraxis": {
           "colorbar": {
            "outlinewidth": 0,
            "ticks": ""
           }
          },
          "colorscale": {
           "diverging": [
            [
             0,
             "#8e0152"
            ],
            [
             0.1,
             "#c51b7d"
            ],
            [
             0.2,
             "#de77ae"
            ],
            [
             0.3,
             "#f1b6da"
            ],
            [
             0.4,
             "#fde0ef"
            ],
            [
             0.5,
             "#f7f7f7"
            ],
            [
             0.6,
             "#e6f5d0"
            ],
            [
             0.7,
             "#b8e186"
            ],
            [
             0.8,
             "#7fbc41"
            ],
            [
             0.9,
             "#4d9221"
            ],
            [
             1,
             "#276419"
            ]
           ],
           "sequential": [
            [
             0,
             "#0d0887"
            ],
            [
             0.1111111111111111,
             "#46039f"
            ],
            [
             0.2222222222222222,
             "#7201a8"
            ],
            [
             0.3333333333333333,
             "#9c179e"
            ],
            [
             0.4444444444444444,
             "#bd3786"
            ],
            [
             0.5555555555555556,
             "#d8576b"
            ],
            [
             0.6666666666666666,
             "#ed7953"
            ],
            [
             0.7777777777777778,
             "#fb9f3a"
            ],
            [
             0.8888888888888888,
             "#fdca26"
            ],
            [
             1,
             "#f0f921"
            ]
           ],
           "sequentialminus": [
            [
             0,
             "#0d0887"
            ],
            [
             0.1111111111111111,
             "#46039f"
            ],
            [
             0.2222222222222222,
             "#7201a8"
            ],
            [
             0.3333333333333333,
             "#9c179e"
            ],
            [
             0.4444444444444444,
             "#bd3786"
            ],
            [
             0.5555555555555556,
             "#d8576b"
            ],
            [
             0.6666666666666666,
             "#ed7953"
            ],
            [
             0.7777777777777778,
             "#fb9f3a"
            ],
            [
             0.8888888888888888,
             "#fdca26"
            ],
            [
             1,
             "#f0f921"
            ]
           ]
          },
          "colorway": [
           "#636efa",
           "#EF553B",
           "#00cc96",
           "#ab63fa",
           "#FFA15A",
           "#19d3f3",
           "#FF6692",
           "#B6E880",
           "#FF97FF",
           "#FECB52"
          ],
          "font": {
           "color": "#f2f5fa"
          },
          "geo": {
           "bgcolor": "rgb(17,17,17)",
           "lakecolor": "rgb(17,17,17)",
           "landcolor": "rgb(17,17,17)",
           "showlakes": true,
           "showland": true,
           "subunitcolor": "#506784"
          },
          "hoverlabel": {
           "align": "left"
          },
          "hovermode": "closest",
          "mapbox": {
           "style": "dark"
          },
          "paper_bgcolor": "rgb(17,17,17)",
          "plot_bgcolor": "rgb(17,17,17)",
          "polar": {
           "angularaxis": {
            "gridcolor": "#506784",
            "linecolor": "#506784",
            "ticks": ""
           },
           "bgcolor": "rgb(17,17,17)",
           "radialaxis": {
            "gridcolor": "#506784",
            "linecolor": "#506784",
            "ticks": ""
           }
          },
          "scene": {
           "xaxis": {
            "backgroundcolor": "rgb(17,17,17)",
            "gridcolor": "#506784",
            "gridwidth": 2,
            "linecolor": "#506784",
            "showbackground": true,
            "ticks": "",
            "zerolinecolor": "#C8D4E3"
           },
           "yaxis": {
            "backgroundcolor": "rgb(17,17,17)",
            "gridcolor": "#506784",
            "gridwidth": 2,
            "linecolor": "#506784",
            "showbackground": true,
            "ticks": "",
            "zerolinecolor": "#C8D4E3"
           },
           "zaxis": {
            "backgroundcolor": "rgb(17,17,17)",
            "gridcolor": "#506784",
            "gridwidth": 2,
            "linecolor": "#506784",
            "showbackground": true,
            "ticks": "",
            "zerolinecolor": "#C8D4E3"
           }
          },
          "shapedefaults": {
           "line": {
            "color": "#f2f5fa"
           }
          },
          "sliderdefaults": {
           "bgcolor": "#C8D4E3",
           "bordercolor": "rgb(17,17,17)",
           "borderwidth": 1,
           "tickwidth": 0
          },
          "ternary": {
           "aaxis": {
            "gridcolor": "#506784",
            "linecolor": "#506784",
            "ticks": ""
           },
           "baxis": {
            "gridcolor": "#506784",
            "linecolor": "#506784",
            "ticks": ""
           },
           "bgcolor": "rgb(17,17,17)",
           "caxis": {
            "gridcolor": "#506784",
            "linecolor": "#506784",
            "ticks": ""
           }
          },
          "title": {
           "x": 0.05
          },
          "updatemenudefaults": {
           "bgcolor": "#506784",
           "borderwidth": 0
          },
          "xaxis": {
           "automargin": true,
           "gridcolor": "#283442",
           "linecolor": "#506784",
           "ticks": "",
           "title": {
            "standoff": 15
           },
           "zerolinecolor": "#283442",
           "zerolinewidth": 2
          },
          "yaxis": {
           "automargin": true,
           "gridcolor": "#283442",
           "linecolor": "#506784",
           "ticks": "",
           "title": {
            "standoff": 15
           },
           "zerolinecolor": "#283442",
           "zerolinewidth": 2
          }
         }
        },
        "title": {},
        "width": 1000,
        "xaxis": {
         "gridcolor": "rgba(128, 128, 128, 0.2)",
         "title": {
          "text": "Layer"
         },
         "zeroline": false
        },
        "yaxis": {
         "gridcolor": "rgba(128, 128, 128, 0.2)",
         "title": {
          "text": "Logistic Regression F1 Score"
         },
         "zeroline": false
        }
       }
      }
     },
     "metadata": {},
     "output_type": "display_data"
    }
   ],
   "source": [
    "for classifier in [\"direction\", \"logistic_regression\"]:\n",
    "    # for metric in [\"f1_score\", \"accuracy_score\", \"precision_score\", \"recall_score\"]:\n",
    "    for metric in [\"f1_score\"]:\n",
    "        plot_dict = {}\n",
    "        for conf, res_df_ in res_df.groupby([\"model_id\", \"test_dataset_id\", \"prompt_id\", \"subset_id\", \"input_type\"]):\n",
    "            # if conf[4] != \"prompt_only\":\n",
    "            #     continue\n",
    "            \n",
    "            print(f\"{conf=}\")\n",
    "            res_df_pivot = pd.pivot(\n",
    "                res_df_.drop(columns=[\"model_id\", \"test_dataset_id\", \"prompt_id\", \"subset_id\", \"input_type\"]),\n",
    "                index='layer',\n",
    "                columns='fold',\n",
    "                # values=['direction_f1_score', 'logistic_regression_f1_score']  # add all metrics you want to keep\n",
    "            )\n",
    "            # for classifier in [\"direction\", \"logistic_regression\"]:\n",
    "            #     for metric in [\"f1_score\", \"accuracy_score\", \"precision_score\", \"recall_score\"]:\n",
    "            plot_dict[str(conf)] = res_df_pivot[[f\"{classifier}_{metric}\"]]\n",
    "\n",
    "        plot_interactive_lineplot(\n",
    "            plot_dict,\n",
    "            x_label=\"Layer\",\n",
    "            y_label=f\"{classifier}_{metric}\".replace(\"_\", \" \").title(),\n",
    "            save_path=f\"./classification_data/figures/res_df_llama31_8B_4_memory_datasets_combined_train_sets_{classifier}_{metric}.html\"\n",
    "        ).show()\n",
    "\n"
   ]
  },
  {
   "cell_type": "code",
   "execution_count": null,
   "metadata": {},
   "outputs": [],
   "source": []
  },
  {
   "cell_type": "code",
   "execution_count": null,
   "metadata": {},
   "outputs": [],
   "source": []
  }
 ],
 "metadata": {
  "kernelspec": {
   "display_name": "venv",
   "language": "python",
   "name": "python3"
  },
  "language_info": {
   "codemirror_mode": {
    "name": "ipython",
    "version": 3
   },
   "file_extension": ".py",
   "mimetype": "text/x-python",
   "name": "python",
   "nbconvert_exporter": "python",
   "pygments_lexer": "ipython3",
   "version": "3.11.3"
  }
 },
 "nbformat": 4,
 "nbformat_minor": 2
}
