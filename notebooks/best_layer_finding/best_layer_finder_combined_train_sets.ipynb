{
 "cells": [
  {
   "cell_type": "code",
   "execution_count": 1,
   "metadata": {},
   "outputs": [
    {
     "data": {
      "text/plain": [
       "['/Library/Frameworks/Python.framework/Versions/3.11/lib/python311.zip',\n",
       " '/Library/Frameworks/Python.framework/Versions/3.11/lib/python3.11',\n",
       " '/Library/Frameworks/Python.framework/Versions/3.11/lib/python3.11/lib-dynload',\n",
       " '',\n",
       " '/Users/anton/dev/MARS/correctness-model-internals/venv/lib/python3.11/site-packages',\n",
       " '/Users/anton/dev/MARS/correctness-model-internals']"
      ]
     },
     "execution_count": 1,
     "metadata": {},
     "output_type": "execute_result"
    }
   ],
   "source": [
    "import sys\n",
    "from pathlib import Path\n",
    "\n",
    "# Add the src directory to Python path\n",
    "src_path = str(Path(\"./\").resolve().parent.parent)\n",
    "if src_path not in sys.path:\n",
    "    sys.path.append(src_path)\n",
    "\n",
    "sys.path"
   ]
  },
  {
   "cell_type": "code",
   "execution_count": 2,
   "metadata": {},
   "outputs": [],
   "source": [
    "from collections import defaultdict\n",
    "\n",
    "import pandas as pd\n",
    "\n",
    "from src.classifying import (\n",
    "    ActivationsHandler,\n",
    "    combine_activations_handlers,\n",
    "    get_correctness_direction_classifier,\n",
    "    get_logistic_regression_classifier,\n",
    "    get_between_class_variance_and_within_class_variance,\n",
    ")\n",
    "from src.visualisations.utils import plot_interactive_lineplot\n",
    "from src.utils.data import load_activations, load_labels, get_experiment_activations_configs_df_subset\n"
   ]
  },
  {
   "cell_type": "code",
   "execution_count": 3,
   "metadata": {},
   "outputs": [],
   "source": [
    "BASE_PATH = \"../../data_for_classification\""
   ]
  },
  {
   "cell_type": "code",
   "execution_count": 4,
   "metadata": {},
   "outputs": [
    {
     "data": {
      "text/html": [
       "<div>\n",
       "<style scoped>\n",
       "    .dataframe tbody tr th:only-of-type {\n",
       "        vertical-align: middle;\n",
       "    }\n",
       "\n",
       "    .dataframe tbody tr th {\n",
       "        vertical-align: top;\n",
       "    }\n",
       "\n",
       "    .dataframe thead th {\n",
       "        text-align: right;\n",
       "    }\n",
       "</style>\n",
       "<table border=\"1\" class=\"dataframe\">\n",
       "  <thead>\n",
       "    <tr style=\"text-align: right;\">\n",
       "      <th></th>\n",
       "      <th>model_id</th>\n",
       "      <th>dataset_id</th>\n",
       "      <th>prompt_id</th>\n",
       "      <th>subset_id</th>\n",
       "      <th>input_type</th>\n",
       "      <th>layer</th>\n",
       "      <th>path</th>\n",
       "    </tr>\n",
       "  </thead>\n",
       "  <tbody>\n",
       "    <tr>\n",
       "      <th>0</th>\n",
       "      <td>llama3.1_8b_chat</td>\n",
       "      <td>football_leagues_1k</td>\n",
       "      <td>base</td>\n",
       "      <td>main</td>\n",
       "      <td>prompt_only</td>\n",
       "      <td>0</td>\n",
       "      <td>../../data_for_classification/activations/llam...</td>\n",
       "    </tr>\n",
       "    <tr>\n",
       "      <th>1</th>\n",
       "      <td>llama3.1_8b_chat</td>\n",
       "      <td>football_leagues_1k</td>\n",
       "      <td>base</td>\n",
       "      <td>main</td>\n",
       "      <td>prompt_only</td>\n",
       "      <td>7</td>\n",
       "      <td>../../data_for_classification/activations/llam...</td>\n",
       "    </tr>\n",
       "    <tr>\n",
       "      <th>2</th>\n",
       "      <td>llama3.1_8b_chat</td>\n",
       "      <td>football_leagues_1k</td>\n",
       "      <td>base</td>\n",
       "      <td>main</td>\n",
       "      <td>prompt_only</td>\n",
       "      <td>9</td>\n",
       "      <td>../../data_for_classification/activations/llam...</td>\n",
       "    </tr>\n",
       "    <tr>\n",
       "      <th>3</th>\n",
       "      <td>llama3.1_8b_chat</td>\n",
       "      <td>football_leagues_1k</td>\n",
       "      <td>base</td>\n",
       "      <td>main</td>\n",
       "      <td>prompt_only</td>\n",
       "      <td>17</td>\n",
       "      <td>../../data_for_classification/activations/llam...</td>\n",
       "    </tr>\n",
       "    <tr>\n",
       "      <th>4</th>\n",
       "      <td>llama3.1_8b_chat</td>\n",
       "      <td>football_leagues_1k</td>\n",
       "      <td>base</td>\n",
       "      <td>main</td>\n",
       "      <td>prompt_only</td>\n",
       "      <td>28</td>\n",
       "      <td>../../data_for_classification/activations/llam...</td>\n",
       "    </tr>\n",
       "    <tr>\n",
       "      <th>...</th>\n",
       "      <td>...</td>\n",
       "      <td>...</td>\n",
       "      <td>...</td>\n",
       "      <td>...</td>\n",
       "      <td>...</td>\n",
       "      <td>...</td>\n",
       "      <td>...</td>\n",
       "    </tr>\n",
       "    <tr>\n",
       "      <th>379</th>\n",
       "      <td>llama3.1_8b_chat</td>\n",
       "      <td>birth_years_4k</td>\n",
       "      <td>base</td>\n",
       "      <td>main</td>\n",
       "      <td>prompt_answer</td>\n",
       "      <td>23</td>\n",
       "      <td>../../data_for_classification/activations/llam...</td>\n",
       "    </tr>\n",
       "    <tr>\n",
       "      <th>380</th>\n",
       "      <td>llama3.1_8b_chat</td>\n",
       "      <td>birth_years_4k</td>\n",
       "      <td>base</td>\n",
       "      <td>main</td>\n",
       "      <td>prompt_answer</td>\n",
       "      <td>15</td>\n",
       "      <td>../../data_for_classification/activations/llam...</td>\n",
       "    </tr>\n",
       "    <tr>\n",
       "      <th>381</th>\n",
       "      <td>llama3.1_8b_chat</td>\n",
       "      <td>birth_years_4k</td>\n",
       "      <td>base</td>\n",
       "      <td>main</td>\n",
       "      <td>prompt_answer</td>\n",
       "      <td>12</td>\n",
       "      <td>../../data_for_classification/activations/llam...</td>\n",
       "    </tr>\n",
       "    <tr>\n",
       "      <th>382</th>\n",
       "      <td>llama3.1_8b_chat</td>\n",
       "      <td>birth_years_4k</td>\n",
       "      <td>base</td>\n",
       "      <td>main</td>\n",
       "      <td>prompt_answer</td>\n",
       "      <td>2</td>\n",
       "      <td>../../data_for_classification/activations/llam...</td>\n",
       "    </tr>\n",
       "    <tr>\n",
       "      <th>383</th>\n",
       "      <td>llama3.1_8b_chat</td>\n",
       "      <td>birth_years_4k</td>\n",
       "      <td>base</td>\n",
       "      <td>main</td>\n",
       "      <td>prompt_answer</td>\n",
       "      <td>5</td>\n",
       "      <td>../../data_for_classification/activations/llam...</td>\n",
       "    </tr>\n",
       "  </tbody>\n",
       "</table>\n",
       "<p>384 rows × 7 columns</p>\n",
       "</div>"
      ],
      "text/plain": [
       "             model_id           dataset_id prompt_id subset_id     input_type  \\\n",
       "0    llama3.1_8b_chat  football_leagues_1k      base      main    prompt_only   \n",
       "1    llama3.1_8b_chat  football_leagues_1k      base      main    prompt_only   \n",
       "2    llama3.1_8b_chat  football_leagues_1k      base      main    prompt_only   \n",
       "3    llama3.1_8b_chat  football_leagues_1k      base      main    prompt_only   \n",
       "4    llama3.1_8b_chat  football_leagues_1k      base      main    prompt_only   \n",
       "..                ...                  ...       ...       ...            ...   \n",
       "379  llama3.1_8b_chat       birth_years_4k      base      main  prompt_answer   \n",
       "380  llama3.1_8b_chat       birth_years_4k      base      main  prompt_answer   \n",
       "381  llama3.1_8b_chat       birth_years_4k      base      main  prompt_answer   \n",
       "382  llama3.1_8b_chat       birth_years_4k      base      main  prompt_answer   \n",
       "383  llama3.1_8b_chat       birth_years_4k      base      main  prompt_answer   \n",
       "\n",
       "     layer                                               path  \n",
       "0        0  ../../data_for_classification/activations/llam...  \n",
       "1        7  ../../data_for_classification/activations/llam...  \n",
       "2        9  ../../data_for_classification/activations/llam...  \n",
       "3       17  ../../data_for_classification/activations/llam...  \n",
       "4       28  ../../data_for_classification/activations/llam...  \n",
       "..     ...                                                ...  \n",
       "379     23  ../../data_for_classification/activations/llam...  \n",
       "380     15  ../../data_for_classification/activations/llam...  \n",
       "381     12  ../../data_for_classification/activations/llam...  \n",
       "382      2  ../../data_for_classification/activations/llam...  \n",
       "383      5  ../../data_for_classification/activations/llam...  \n",
       "\n",
       "[384 rows x 7 columns]"
      ]
     },
     "execution_count": 4,
     "metadata": {},
     "output_type": "execute_result"
    }
   ],
   "source": [
    "# Set None to get all\n",
    "MODEL_ID = \"llama3.1_8b_chat\"\n",
    "# DATASET_ID = \"gsm8k\"\n",
    "# PROMPT_ID = \"cot_3_shot\"\n",
    "# SUBSET_ID = \"main\"\n",
    "# INPUT_TYPE = \"prompt_only\"\n",
    "DATASET_ID = None\n",
    "PROMPT_ID = None\n",
    "SUBSET_ID = None\n",
    "INPUT_TYPE = None\n",
    "\n",
    "activation_exp_configs_df = get_experiment_activations_configs_df_subset(\n",
    "    base_path=BASE_PATH,\n",
    "    model_id=MODEL_ID,\n",
    "    dataset_id=DATASET_ID,\n",
    "    prompt_id=PROMPT_ID,\n",
    "    subset_id=SUBSET_ID,\n",
    "    input_type=INPUT_TYPE,\n",
    ")\n",
    "activation_exp_configs_df"
   ]
  },
  {
   "cell_type": "code",
   "execution_count": 6,
   "metadata": {},
   "outputs": [
    {
     "name": "stdout",
     "output_type": "stream",
     "text": [
      "\n",
      "model_id='llama3.1_8b_chat', prompt_id='base', subset_id='main', input_type='prompt_answer'\n",
      "layer=0, "
     ]
    },
    {
     "name": "stderr",
     "output_type": "stream",
     "text": [
      "/Users/anton/dev/MARS/correctness-model-internals/venv/lib/python3.11/site-packages/sklearn/linear_model/_logistic.py:469: ConvergenceWarning: lbfgs failed to converge (status=1):\n",
      "STOP: TOTAL NO. OF ITERATIONS REACHED LIMIT.\n",
      "\n",
      "Increase the number of iterations (max_iter) or scale the data as shown in:\n",
      "    https://scikit-learn.org/stable/modules/preprocessing.html\n",
      "Please also refer to the documentation for alternative solver options:\n",
      "    https://scikit-learn.org/stable/modules/linear_model.html#logistic-regression\n",
      "  n_iter_i = _check_optimize_result(\n",
      "/Users/anton/dev/MARS/correctness-model-internals/venv/lib/python3.11/site-packages/sklearn/linear_model/_logistic.py:469: ConvergenceWarning: lbfgs failed to converge (status=1):\n",
      "STOP: TOTAL NO. OF ITERATIONS REACHED LIMIT.\n",
      "\n",
      "Increase the number of iterations (max_iter) or scale the data as shown in:\n",
      "    https://scikit-learn.org/stable/modules/preprocessing.html\n",
      "Please also refer to the documentation for alternative solver options:\n",
      "    https://scikit-learn.org/stable/modules/linear_model.html#logistic-regression\n",
      "  n_iter_i = _check_optimize_result(\n",
      "/Users/anton/dev/MARS/correctness-model-internals/venv/lib/python3.11/site-packages/sklearn/linear_model/_logistic.py:469: ConvergenceWarning: lbfgs failed to converge (status=1):\n",
      "STOP: TOTAL NO. OF ITERATIONS REACHED LIMIT.\n",
      "\n",
      "Increase the number of iterations (max_iter) or scale the data as shown in:\n",
      "    https://scikit-learn.org/stable/modules/preprocessing.html\n",
      "Please also refer to the documentation for alternative solver options:\n",
      "    https://scikit-learn.org/stable/modules/linear_model.html#logistic-regression\n",
      "  n_iter_i = _check_optimize_result(\n",
      "/Users/anton/dev/MARS/correctness-model-internals/venv/lib/python3.11/site-packages/sklearn/linear_model/_logistic.py:469: ConvergenceWarning: lbfgs failed to converge (status=1):\n",
      "STOP: TOTAL NO. OF ITERATIONS REACHED LIMIT.\n",
      "\n",
      "Increase the number of iterations (max_iter) or scale the data as shown in:\n",
      "    https://scikit-learn.org/stable/modules/preprocessing.html\n",
      "Please also refer to the documentation for alternative solver options:\n",
      "    https://scikit-learn.org/stable/modules/linear_model.html#logistic-regression\n",
      "  n_iter_i = _check_optimize_result(\n",
      "/Users/anton/dev/MARS/correctness-model-internals/venv/lib/python3.11/site-packages/sklearn/linear_model/_logistic.py:469: ConvergenceWarning: lbfgs failed to converge (status=1):\n",
      "STOP: TOTAL NO. OF ITERATIONS REACHED LIMIT.\n",
      "\n",
      "Increase the number of iterations (max_iter) or scale the data as shown in:\n",
      "    https://scikit-learn.org/stable/modules/preprocessing.html\n",
      "Please also refer to the documentation for alternative solver options:\n",
      "    https://scikit-learn.org/stable/modules/linear_model.html#logistic-regression\n",
      "  n_iter_i = _check_optimize_result(\n"
     ]
    },
    {
     "name": "stdout",
     "output_type": "stream",
     "text": [
      "layer=1, "
     ]
    },
    {
     "name": "stderr",
     "output_type": "stream",
     "text": [
      "/Users/anton/dev/MARS/correctness-model-internals/venv/lib/python3.11/site-packages/sklearn/linear_model/_logistic.py:469: ConvergenceWarning: lbfgs failed to converge (status=1):\n",
      "STOP: TOTAL NO. OF ITERATIONS REACHED LIMIT.\n",
      "\n",
      "Increase the number of iterations (max_iter) or scale the data as shown in:\n",
      "    https://scikit-learn.org/stable/modules/preprocessing.html\n",
      "Please also refer to the documentation for alternative solver options:\n",
      "    https://scikit-learn.org/stable/modules/linear_model.html#logistic-regression\n",
      "  n_iter_i = _check_optimize_result(\n",
      "/Users/anton/dev/MARS/correctness-model-internals/venv/lib/python3.11/site-packages/sklearn/linear_model/_logistic.py:469: ConvergenceWarning: lbfgs failed to converge (status=1):\n",
      "STOP: TOTAL NO. OF ITERATIONS REACHED LIMIT.\n",
      "\n",
      "Increase the number of iterations (max_iter) or scale the data as shown in:\n",
      "    https://scikit-learn.org/stable/modules/preprocessing.html\n",
      "Please also refer to the documentation for alternative solver options:\n",
      "    https://scikit-learn.org/stable/modules/linear_model.html#logistic-regression\n",
      "  n_iter_i = _check_optimize_result(\n",
      "/Users/anton/dev/MARS/correctness-model-internals/venv/lib/python3.11/site-packages/sklearn/linear_model/_logistic.py:469: ConvergenceWarning: lbfgs failed to converge (status=1):\n",
      "STOP: TOTAL NO. OF ITERATIONS REACHED LIMIT.\n",
      "\n",
      "Increase the number of iterations (max_iter) or scale the data as shown in:\n",
      "    https://scikit-learn.org/stable/modules/preprocessing.html\n",
      "Please also refer to the documentation for alternative solver options:\n",
      "    https://scikit-learn.org/stable/modules/linear_model.html#logistic-regression\n",
      "  n_iter_i = _check_optimize_result(\n",
      "/Users/anton/dev/MARS/correctness-model-internals/venv/lib/python3.11/site-packages/sklearn/linear_model/_logistic.py:469: ConvergenceWarning: lbfgs failed to converge (status=1):\n",
      "STOP: TOTAL NO. OF ITERATIONS REACHED LIMIT.\n",
      "\n",
      "Increase the number of iterations (max_iter) or scale the data as shown in:\n",
      "    https://scikit-learn.org/stable/modules/preprocessing.html\n",
      "Please also refer to the documentation for alternative solver options:\n",
      "    https://scikit-learn.org/stable/modules/linear_model.html#logistic-regression\n",
      "  n_iter_i = _check_optimize_result(\n",
      "/Users/anton/dev/MARS/correctness-model-internals/venv/lib/python3.11/site-packages/sklearn/linear_model/_logistic.py:469: ConvergenceWarning: lbfgs failed to converge (status=1):\n",
      "STOP: TOTAL NO. OF ITERATIONS REACHED LIMIT.\n",
      "\n",
      "Increase the number of iterations (max_iter) or scale the data as shown in:\n",
      "    https://scikit-learn.org/stable/modules/preprocessing.html\n",
      "Please also refer to the documentation for alternative solver options:\n",
      "    https://scikit-learn.org/stable/modules/linear_model.html#logistic-regression\n",
      "  n_iter_i = _check_optimize_result(\n"
     ]
    },
    {
     "name": "stdout",
     "output_type": "stream",
     "text": [
      "layer=2, "
     ]
    },
    {
     "name": "stderr",
     "output_type": "stream",
     "text": [
      "/Users/anton/dev/MARS/correctness-model-internals/venv/lib/python3.11/site-packages/sklearn/linear_model/_logistic.py:469: ConvergenceWarning: lbfgs failed to converge (status=1):\n",
      "STOP: TOTAL NO. OF ITERATIONS REACHED LIMIT.\n",
      "\n",
      "Increase the number of iterations (max_iter) or scale the data as shown in:\n",
      "    https://scikit-learn.org/stable/modules/preprocessing.html\n",
      "Please also refer to the documentation for alternative solver options:\n",
      "    https://scikit-learn.org/stable/modules/linear_model.html#logistic-regression\n",
      "  n_iter_i = _check_optimize_result(\n",
      "/Users/anton/dev/MARS/correctness-model-internals/venv/lib/python3.11/site-packages/sklearn/linear_model/_logistic.py:469: ConvergenceWarning: lbfgs failed to converge (status=1):\n",
      "STOP: TOTAL NO. OF ITERATIONS REACHED LIMIT.\n",
      "\n",
      "Increase the number of iterations (max_iter) or scale the data as shown in:\n",
      "    https://scikit-learn.org/stable/modules/preprocessing.html\n",
      "Please also refer to the documentation for alternative solver options:\n",
      "    https://scikit-learn.org/stable/modules/linear_model.html#logistic-regression\n",
      "  n_iter_i = _check_optimize_result(\n",
      "/Users/anton/dev/MARS/correctness-model-internals/venv/lib/python3.11/site-packages/sklearn/linear_model/_logistic.py:469: ConvergenceWarning: lbfgs failed to converge (status=1):\n",
      "STOP: TOTAL NO. OF ITERATIONS REACHED LIMIT.\n",
      "\n",
      "Increase the number of iterations (max_iter) or scale the data as shown in:\n",
      "    https://scikit-learn.org/stable/modules/preprocessing.html\n",
      "Please also refer to the documentation for alternative solver options:\n",
      "    https://scikit-learn.org/stable/modules/linear_model.html#logistic-regression\n",
      "  n_iter_i = _check_optimize_result(\n",
      "/Users/anton/dev/MARS/correctness-model-internals/venv/lib/python3.11/site-packages/sklearn/linear_model/_logistic.py:469: ConvergenceWarning: lbfgs failed to converge (status=1):\n",
      "STOP: TOTAL NO. OF ITERATIONS REACHED LIMIT.\n",
      "\n",
      "Increase the number of iterations (max_iter) or scale the data as shown in:\n",
      "    https://scikit-learn.org/stable/modules/preprocessing.html\n",
      "Please also refer to the documentation for alternative solver options:\n",
      "    https://scikit-learn.org/stable/modules/linear_model.html#logistic-regression\n",
      "  n_iter_i = _check_optimize_result(\n",
      "/Users/anton/dev/MARS/correctness-model-internals/venv/lib/python3.11/site-packages/sklearn/linear_model/_logistic.py:469: ConvergenceWarning: lbfgs failed to converge (status=1):\n",
      "STOP: TOTAL NO. OF ITERATIONS REACHED LIMIT.\n",
      "\n",
      "Increase the number of iterations (max_iter) or scale the data as shown in:\n",
      "    https://scikit-learn.org/stable/modules/preprocessing.html\n",
      "Please also refer to the documentation for alternative solver options:\n",
      "    https://scikit-learn.org/stable/modules/linear_model.html#logistic-regression\n",
      "  n_iter_i = _check_optimize_result(\n"
     ]
    },
    {
     "name": "stdout",
     "output_type": "stream",
     "text": [
      "layer=3, "
     ]
    },
    {
     "name": "stderr",
     "output_type": "stream",
     "text": [
      "/Users/anton/dev/MARS/correctness-model-internals/venv/lib/python3.11/site-packages/sklearn/linear_model/_logistic.py:469: ConvergenceWarning: lbfgs failed to converge (status=1):\n",
      "STOP: TOTAL NO. OF ITERATIONS REACHED LIMIT.\n",
      "\n",
      "Increase the number of iterations (max_iter) or scale the data as shown in:\n",
      "    https://scikit-learn.org/stable/modules/preprocessing.html\n",
      "Please also refer to the documentation for alternative solver options:\n",
      "    https://scikit-learn.org/stable/modules/linear_model.html#logistic-regression\n",
      "  n_iter_i = _check_optimize_result(\n",
      "/Users/anton/dev/MARS/correctness-model-internals/venv/lib/python3.11/site-packages/sklearn/linear_model/_logistic.py:469: ConvergenceWarning: lbfgs failed to converge (status=1):\n",
      "STOP: TOTAL NO. OF ITERATIONS REACHED LIMIT.\n",
      "\n",
      "Increase the number of iterations (max_iter) or scale the data as shown in:\n",
      "    https://scikit-learn.org/stable/modules/preprocessing.html\n",
      "Please also refer to the documentation for alternative solver options:\n",
      "    https://scikit-learn.org/stable/modules/linear_model.html#logistic-regression\n",
      "  n_iter_i = _check_optimize_result(\n"
     ]
    },
    {
     "name": "stdout",
     "output_type": "stream",
     "text": [
      "layer=4, layer=5, layer=6, layer=7, layer=8, layer=9, layer=10, layer=11, layer=12, layer=13, layer=14, layer=15, layer=16, layer=17, layer=18, layer=19, layer=20, layer=21, layer=22, layer=23, layer=24, layer=25, layer=26, layer=27, layer=28, layer=29, layer=30, layer=31, \n",
      "model_id='llama3.1_8b_chat', prompt_id='base', subset_id='main', input_type='prompt_only'\n",
      "layer=0, "
     ]
    },
    {
     "name": "stderr",
     "output_type": "stream",
     "text": [
      "/Users/anton/dev/MARS/correctness-model-internals/venv/lib/python3.11/site-packages/sklearn/linear_model/_logistic.py:469: ConvergenceWarning: lbfgs failed to converge (status=1):\n",
      "STOP: TOTAL NO. OF ITERATIONS REACHED LIMIT.\n",
      "\n",
      "Increase the number of iterations (max_iter) or scale the data as shown in:\n",
      "    https://scikit-learn.org/stable/modules/preprocessing.html\n",
      "Please also refer to the documentation for alternative solver options:\n",
      "    https://scikit-learn.org/stable/modules/linear_model.html#logistic-regression\n",
      "  n_iter_i = _check_optimize_result(\n",
      "/Users/anton/dev/MARS/correctness-model-internals/venv/lib/python3.11/site-packages/sklearn/linear_model/_logistic.py:469: ConvergenceWarning: lbfgs failed to converge (status=1):\n",
      "STOP: TOTAL NO. OF ITERATIONS REACHED LIMIT.\n",
      "\n",
      "Increase the number of iterations (max_iter) or scale the data as shown in:\n",
      "    https://scikit-learn.org/stable/modules/preprocessing.html\n",
      "Please also refer to the documentation for alternative solver options:\n",
      "    https://scikit-learn.org/stable/modules/linear_model.html#logistic-regression\n",
      "  n_iter_i = _check_optimize_result(\n",
      "/Users/anton/dev/MARS/correctness-model-internals/venv/lib/python3.11/site-packages/sklearn/linear_model/_logistic.py:469: ConvergenceWarning: lbfgs failed to converge (status=1):\n",
      "STOP: TOTAL NO. OF ITERATIONS REACHED LIMIT.\n",
      "\n",
      "Increase the number of iterations (max_iter) or scale the data as shown in:\n",
      "    https://scikit-learn.org/stable/modules/preprocessing.html\n",
      "Please also refer to the documentation for alternative solver options:\n",
      "    https://scikit-learn.org/stable/modules/linear_model.html#logistic-regression\n",
      "  n_iter_i = _check_optimize_result(\n",
      "/Users/anton/dev/MARS/correctness-model-internals/venv/lib/python3.11/site-packages/sklearn/linear_model/_logistic.py:469: ConvergenceWarning: lbfgs failed to converge (status=1):\n",
      "STOP: TOTAL NO. OF ITERATIONS REACHED LIMIT.\n",
      "\n",
      "Increase the number of iterations (max_iter) or scale the data as shown in:\n",
      "    https://scikit-learn.org/stable/modules/preprocessing.html\n",
      "Please also refer to the documentation for alternative solver options:\n",
      "    https://scikit-learn.org/stable/modules/linear_model.html#logistic-regression\n",
      "  n_iter_i = _check_optimize_result(\n",
      "/Users/anton/dev/MARS/correctness-model-internals/venv/lib/python3.11/site-packages/sklearn/linear_model/_logistic.py:469: ConvergenceWarning: lbfgs failed to converge (status=1):\n",
      "STOP: TOTAL NO. OF ITERATIONS REACHED LIMIT.\n",
      "\n",
      "Increase the number of iterations (max_iter) or scale the data as shown in:\n",
      "    https://scikit-learn.org/stable/modules/preprocessing.html\n",
      "Please also refer to the documentation for alternative solver options:\n",
      "    https://scikit-learn.org/stable/modules/linear_model.html#logistic-regression\n",
      "  n_iter_i = _check_optimize_result(\n"
     ]
    },
    {
     "name": "stdout",
     "output_type": "stream",
     "text": [
      "layer=1, "
     ]
    },
    {
     "name": "stderr",
     "output_type": "stream",
     "text": [
      "/Users/anton/dev/MARS/correctness-model-internals/venv/lib/python3.11/site-packages/sklearn/linear_model/_logistic.py:469: ConvergenceWarning: lbfgs failed to converge (status=1):\n",
      "STOP: TOTAL NO. OF ITERATIONS REACHED LIMIT.\n",
      "\n",
      "Increase the number of iterations (max_iter) or scale the data as shown in:\n",
      "    https://scikit-learn.org/stable/modules/preprocessing.html\n",
      "Please also refer to the documentation for alternative solver options:\n",
      "    https://scikit-learn.org/stable/modules/linear_model.html#logistic-regression\n",
      "  n_iter_i = _check_optimize_result(\n",
      "/Users/anton/dev/MARS/correctness-model-internals/venv/lib/python3.11/site-packages/sklearn/linear_model/_logistic.py:469: ConvergenceWarning: lbfgs failed to converge (status=1):\n",
      "STOP: TOTAL NO. OF ITERATIONS REACHED LIMIT.\n",
      "\n",
      "Increase the number of iterations (max_iter) or scale the data as shown in:\n",
      "    https://scikit-learn.org/stable/modules/preprocessing.html\n",
      "Please also refer to the documentation for alternative solver options:\n",
      "    https://scikit-learn.org/stable/modules/linear_model.html#logistic-regression\n",
      "  n_iter_i = _check_optimize_result(\n",
      "/Users/anton/dev/MARS/correctness-model-internals/venv/lib/python3.11/site-packages/sklearn/linear_model/_logistic.py:469: ConvergenceWarning: lbfgs failed to converge (status=1):\n",
      "STOP: TOTAL NO. OF ITERATIONS REACHED LIMIT.\n",
      "\n",
      "Increase the number of iterations (max_iter) or scale the data as shown in:\n",
      "    https://scikit-learn.org/stable/modules/preprocessing.html\n",
      "Please also refer to the documentation for alternative solver options:\n",
      "    https://scikit-learn.org/stable/modules/linear_model.html#logistic-regression\n",
      "  n_iter_i = _check_optimize_result(\n",
      "/Users/anton/dev/MARS/correctness-model-internals/venv/lib/python3.11/site-packages/sklearn/metrics/_classification.py:1509: UndefinedMetricWarning: Precision is ill-defined and being set to 0.0 due to no predicted samples. Use `zero_division` parameter to control this behavior.\n",
      "  _warn_prf(average, modifier, f\"{metric.capitalize()} is\", len(result))\n",
      "/Users/anton/dev/MARS/correctness-model-internals/venv/lib/python3.11/site-packages/sklearn/linear_model/_logistic.py:469: ConvergenceWarning: lbfgs failed to converge (status=1):\n",
      "STOP: TOTAL NO. OF ITERATIONS REACHED LIMIT.\n",
      "\n",
      "Increase the number of iterations (max_iter) or scale the data as shown in:\n",
      "    https://scikit-learn.org/stable/modules/preprocessing.html\n",
      "Please also refer to the documentation for alternative solver options:\n",
      "    https://scikit-learn.org/stable/modules/linear_model.html#logistic-regression\n",
      "  n_iter_i = _check_optimize_result(\n",
      "/Users/anton/dev/MARS/correctness-model-internals/venv/lib/python3.11/site-packages/sklearn/metrics/_classification.py:1509: UndefinedMetricWarning: Precision is ill-defined and being set to 0.0 due to no predicted samples. Use `zero_division` parameter to control this behavior.\n",
      "  _warn_prf(average, modifier, f\"{metric.capitalize()} is\", len(result))\n",
      "/Users/anton/dev/MARS/correctness-model-internals/venv/lib/python3.11/site-packages/sklearn/linear_model/_logistic.py:469: ConvergenceWarning: lbfgs failed to converge (status=1):\n",
      "STOP: TOTAL NO. OF ITERATIONS REACHED LIMIT.\n",
      "\n",
      "Increase the number of iterations (max_iter) or scale the data as shown in:\n",
      "    https://scikit-learn.org/stable/modules/preprocessing.html\n",
      "Please also refer to the documentation for alternative solver options:\n",
      "    https://scikit-learn.org/stable/modules/linear_model.html#logistic-regression\n",
      "  n_iter_i = _check_optimize_result(\n"
     ]
    },
    {
     "name": "stdout",
     "output_type": "stream",
     "text": [
      "layer=2, "
     ]
    },
    {
     "name": "stderr",
     "output_type": "stream",
     "text": [
      "/Users/anton/dev/MARS/correctness-model-internals/venv/lib/python3.11/site-packages/sklearn/linear_model/_logistic.py:469: ConvergenceWarning: lbfgs failed to converge (status=1):\n",
      "STOP: TOTAL NO. OF ITERATIONS REACHED LIMIT.\n",
      "\n",
      "Increase the number of iterations (max_iter) or scale the data as shown in:\n",
      "    https://scikit-learn.org/stable/modules/preprocessing.html\n",
      "Please also refer to the documentation for alternative solver options:\n",
      "    https://scikit-learn.org/stable/modules/linear_model.html#logistic-regression\n",
      "  n_iter_i = _check_optimize_result(\n",
      "/Users/anton/dev/MARS/correctness-model-internals/venv/lib/python3.11/site-packages/sklearn/linear_model/_logistic.py:469: ConvergenceWarning: lbfgs failed to converge (status=1):\n",
      "STOP: TOTAL NO. OF ITERATIONS REACHED LIMIT.\n",
      "\n",
      "Increase the number of iterations (max_iter) or scale the data as shown in:\n",
      "    https://scikit-learn.org/stable/modules/preprocessing.html\n",
      "Please also refer to the documentation for alternative solver options:\n",
      "    https://scikit-learn.org/stable/modules/linear_model.html#logistic-regression\n",
      "  n_iter_i = _check_optimize_result(\n",
      "/Users/anton/dev/MARS/correctness-model-internals/venv/lib/python3.11/site-packages/sklearn/linear_model/_logistic.py:469: ConvergenceWarning: lbfgs failed to converge (status=1):\n",
      "STOP: TOTAL NO. OF ITERATIONS REACHED LIMIT.\n",
      "\n",
      "Increase the number of iterations (max_iter) or scale the data as shown in:\n",
      "    https://scikit-learn.org/stable/modules/preprocessing.html\n",
      "Please also refer to the documentation for alternative solver options:\n",
      "    https://scikit-learn.org/stable/modules/linear_model.html#logistic-regression\n",
      "  n_iter_i = _check_optimize_result(\n",
      "/Users/anton/dev/MARS/correctness-model-internals/venv/lib/python3.11/site-packages/sklearn/linear_model/_logistic.py:469: ConvergenceWarning: lbfgs failed to converge (status=1):\n",
      "STOP: TOTAL NO. OF ITERATIONS REACHED LIMIT.\n",
      "\n",
      "Increase the number of iterations (max_iter) or scale the data as shown in:\n",
      "    https://scikit-learn.org/stable/modules/preprocessing.html\n",
      "Please also refer to the documentation for alternative solver options:\n",
      "    https://scikit-learn.org/stable/modules/linear_model.html#logistic-regression\n",
      "  n_iter_i = _check_optimize_result(\n",
      "/Users/anton/dev/MARS/correctness-model-internals/venv/lib/python3.11/site-packages/sklearn/linear_model/_logistic.py:469: ConvergenceWarning: lbfgs failed to converge (status=1):\n",
      "STOP: TOTAL NO. OF ITERATIONS REACHED LIMIT.\n",
      "\n",
      "Increase the number of iterations (max_iter) or scale the data as shown in:\n",
      "    https://scikit-learn.org/stable/modules/preprocessing.html\n",
      "Please also refer to the documentation for alternative solver options:\n",
      "    https://scikit-learn.org/stable/modules/linear_model.html#logistic-regression\n",
      "  n_iter_i = _check_optimize_result(\n"
     ]
    },
    {
     "name": "stdout",
     "output_type": "stream",
     "text": [
      "layer=3, "
     ]
    },
    {
     "name": "stderr",
     "output_type": "stream",
     "text": [
      "/Users/anton/dev/MARS/correctness-model-internals/venv/lib/python3.11/site-packages/sklearn/linear_model/_logistic.py:469: ConvergenceWarning: lbfgs failed to converge (status=1):\n",
      "STOP: TOTAL NO. OF ITERATIONS REACHED LIMIT.\n",
      "\n",
      "Increase the number of iterations (max_iter) or scale the data as shown in:\n",
      "    https://scikit-learn.org/stable/modules/preprocessing.html\n",
      "Please also refer to the documentation for alternative solver options:\n",
      "    https://scikit-learn.org/stable/modules/linear_model.html#logistic-regression\n",
      "  n_iter_i = _check_optimize_result(\n",
      "/Users/anton/dev/MARS/correctness-model-internals/venv/lib/python3.11/site-packages/sklearn/linear_model/_logistic.py:469: ConvergenceWarning: lbfgs failed to converge (status=1):\n",
      "STOP: TOTAL NO. OF ITERATIONS REACHED LIMIT.\n",
      "\n",
      "Increase the number of iterations (max_iter) or scale the data as shown in:\n",
      "    https://scikit-learn.org/stable/modules/preprocessing.html\n",
      "Please also refer to the documentation for alternative solver options:\n",
      "    https://scikit-learn.org/stable/modules/linear_model.html#logistic-regression\n",
      "  n_iter_i = _check_optimize_result(\n",
      "/Users/anton/dev/MARS/correctness-model-internals/venv/lib/python3.11/site-packages/sklearn/linear_model/_logistic.py:469: ConvergenceWarning: lbfgs failed to converge (status=1):\n",
      "STOP: TOTAL NO. OF ITERATIONS REACHED LIMIT.\n",
      "\n",
      "Increase the number of iterations (max_iter) or scale the data as shown in:\n",
      "    https://scikit-learn.org/stable/modules/preprocessing.html\n",
      "Please also refer to the documentation for alternative solver options:\n",
      "    https://scikit-learn.org/stable/modules/linear_model.html#logistic-regression\n",
      "  n_iter_i = _check_optimize_result(\n",
      "/Users/anton/dev/MARS/correctness-model-internals/venv/lib/python3.11/site-packages/sklearn/linear_model/_logistic.py:469: ConvergenceWarning: lbfgs failed to converge (status=1):\n",
      "STOP: TOTAL NO. OF ITERATIONS REACHED LIMIT.\n",
      "\n",
      "Increase the number of iterations (max_iter) or scale the data as shown in:\n",
      "    https://scikit-learn.org/stable/modules/preprocessing.html\n",
      "Please also refer to the documentation for alternative solver options:\n",
      "    https://scikit-learn.org/stable/modules/linear_model.html#logistic-regression\n",
      "  n_iter_i = _check_optimize_result(\n",
      "/Users/anton/dev/MARS/correctness-model-internals/venv/lib/python3.11/site-packages/sklearn/linear_model/_logistic.py:469: ConvergenceWarning: lbfgs failed to converge (status=1):\n",
      "STOP: TOTAL NO. OF ITERATIONS REACHED LIMIT.\n",
      "\n",
      "Increase the number of iterations (max_iter) or scale the data as shown in:\n",
      "    https://scikit-learn.org/stable/modules/preprocessing.html\n",
      "Please also refer to the documentation for alternative solver options:\n",
      "    https://scikit-learn.org/stable/modules/linear_model.html#logistic-regression\n",
      "  n_iter_i = _check_optimize_result(\n"
     ]
    },
    {
     "name": "stdout",
     "output_type": "stream",
     "text": [
      "layer=4, "
     ]
    },
    {
     "name": "stderr",
     "output_type": "stream",
     "text": [
      "/Users/anton/dev/MARS/correctness-model-internals/venv/lib/python3.11/site-packages/sklearn/linear_model/_logistic.py:469: ConvergenceWarning: lbfgs failed to converge (status=1):\n",
      "STOP: TOTAL NO. OF ITERATIONS REACHED LIMIT.\n",
      "\n",
      "Increase the number of iterations (max_iter) or scale the data as shown in:\n",
      "    https://scikit-learn.org/stable/modules/preprocessing.html\n",
      "Please also refer to the documentation for alternative solver options:\n",
      "    https://scikit-learn.org/stable/modules/linear_model.html#logistic-regression\n",
      "  n_iter_i = _check_optimize_result(\n"
     ]
    },
    {
     "name": "stdout",
     "output_type": "stream",
     "text": [
      "layer=5, layer=6, "
     ]
    },
    {
     "name": "stderr",
     "output_type": "stream",
     "text": [
      "/Users/anton/dev/MARS/correctness-model-internals/venv/lib/python3.11/site-packages/sklearn/metrics/_classification.py:1509: UndefinedMetricWarning: Precision is ill-defined and being set to 0.0 due to no predicted samples. Use `zero_division` parameter to control this behavior.\n",
      "  _warn_prf(average, modifier, f\"{metric.capitalize()} is\", len(result))\n",
      "/Users/anton/dev/MARS/correctness-model-internals/venv/lib/python3.11/site-packages/sklearn/metrics/_classification.py:1509: UndefinedMetricWarning: Precision is ill-defined and being set to 0.0 due to no predicted samples. Use `zero_division` parameter to control this behavior.\n",
      "  _warn_prf(average, modifier, f\"{metric.capitalize()} is\", len(result))\n",
      "/Users/anton/dev/MARS/correctness-model-internals/venv/lib/python3.11/site-packages/sklearn/metrics/_classification.py:1509: UndefinedMetricWarning: Precision is ill-defined and being set to 0.0 due to no predicted samples. Use `zero_division` parameter to control this behavior.\n",
      "  _warn_prf(average, modifier, f\"{metric.capitalize()} is\", len(result))\n"
     ]
    },
    {
     "name": "stdout",
     "output_type": "stream",
     "text": [
      "layer=7, layer=8, layer=9, layer=10, layer=11, layer=12, layer=13, layer=14, "
     ]
    },
    {
     "name": "stderr",
     "output_type": "stream",
     "text": [
      "/Users/anton/dev/MARS/correctness-model-internals/venv/lib/python3.11/site-packages/sklearn/metrics/_classification.py:1509: UndefinedMetricWarning: Precision is ill-defined and being set to 0.0 due to no predicted samples. Use `zero_division` parameter to control this behavior.\n",
      "  _warn_prf(average, modifier, f\"{metric.capitalize()} is\", len(result))\n",
      "/Users/anton/dev/MARS/correctness-model-internals/venv/lib/python3.11/site-packages/sklearn/metrics/_classification.py:1509: UndefinedMetricWarning: Precision is ill-defined and being set to 0.0 due to no predicted samples. Use `zero_division` parameter to control this behavior.\n",
      "  _warn_prf(average, modifier, f\"{metric.capitalize()} is\", len(result))\n"
     ]
    },
    {
     "name": "stdout",
     "output_type": "stream",
     "text": [
      "layer=15, "
     ]
    },
    {
     "name": "stderr",
     "output_type": "stream",
     "text": [
      "/Users/anton/dev/MARS/correctness-model-internals/venv/lib/python3.11/site-packages/sklearn/metrics/_classification.py:1509: UndefinedMetricWarning: Precision is ill-defined and being set to 0.0 due to no predicted samples. Use `zero_division` parameter to control this behavior.\n",
      "  _warn_prf(average, modifier, f\"{metric.capitalize()} is\", len(result))\n"
     ]
    },
    {
     "name": "stdout",
     "output_type": "stream",
     "text": [
      "layer=16, layer=17, layer=18, layer=19, layer=20, layer=21, layer=22, layer=23, layer=24, layer=25, layer=26, layer=27, layer=28, layer=29, layer=30, "
     ]
    },
    {
     "name": "stderr",
     "output_type": "stream",
     "text": [
      "/Users/anton/dev/MARS/correctness-model-internals/venv/lib/python3.11/site-packages/sklearn/metrics/_classification.py:1509: UndefinedMetricWarning: Precision is ill-defined and being set to 0.0 due to no predicted samples. Use `zero_division` parameter to control this behavior.\n",
      "  _warn_prf(average, modifier, f\"{metric.capitalize()} is\", len(result))\n"
     ]
    },
    {
     "name": "stdout",
     "output_type": "stream",
     "text": [
      "layer=31, "
     ]
    },
    {
     "name": "stderr",
     "output_type": "stream",
     "text": [
      "/Users/anton/dev/MARS/correctness-model-internals/venv/lib/python3.11/site-packages/sklearn/metrics/_classification.py:1509: UndefinedMetricWarning: Precision is ill-defined and being set to 0.0 due to no predicted samples. Use `zero_division` parameter to control this behavior.\n",
      "  _warn_prf(average, modifier, f\"{metric.capitalize()} is\", len(result))\n"
     ]
    },
    {
     "name": "stdout",
     "output_type": "stream",
     "text": [
      "\n",
      "model_id='llama3.1_8b_chat', prompt_id='base_3_shot', subset_id='main', input_type='prompt_answer'\n",
      "layer=0, layer=1, layer=2, layer=3, layer=4, layer=5, layer=6, layer=7, layer=8, layer=9, layer=10, layer=11, layer=12, layer=13, layer=14, layer=15, layer=16, layer=17, layer=18, layer=19, layer=20, layer=21, layer=22, layer=23, layer=24, layer=25, layer=26, layer=27, layer=28, layer=29, layer=30, layer=31, \n",
      "model_id='llama3.1_8b_chat', prompt_id='base_3_shot', subset_id='main', input_type='prompt_only'\n",
      "layer=0, layer=1, layer=2, layer=3, layer=4, layer=5, layer=6, layer=7, layer=8, layer=9, layer=10, layer=11, layer=12, layer=13, layer=14, layer=15, layer=16, layer=17, layer=18, layer=19, layer=20, layer=21, layer=22, layer=23, layer=24, layer=25, layer=26, layer=27, layer=28, layer=29, layer=30, layer=31, \n",
      "model_id='llama3.1_8b_chat', prompt_id='cot_3_shot', subset_id='main', input_type='prompt_answer'\n",
      "layer=0, layer=1, layer=2, layer=3, layer=4, layer=5, layer=6, layer=7, layer=8, layer=9, layer=10, layer=11, layer=12, layer=13, layer=14, layer=15, layer=16, layer=17, layer=18, layer=19, layer=20, layer=21, layer=22, layer=23, layer=24, layer=25, layer=26, layer=27, layer=28, layer=29, layer=30, layer=31, \n",
      "model_id='llama3.1_8b_chat', prompt_id='cot_3_shot', subset_id='main', input_type='prompt_only'\n",
      "layer=0, layer=1, layer=2, layer=3, layer=4, layer=5, layer=6, layer=7, layer=8, layer=9, layer=10, layer=11, layer=12, layer=13, layer=14, layer=15, layer=16, layer=17, layer=18, layer=19, layer=20, layer=21, layer=22, layer=23, layer=24, layer=25, layer=26, layer=27, layer=28, layer=29, layer=30, layer=31, "
     ]
    },
    {
     "data": {
      "text/html": [
       "<div>\n",
       "<style scoped>\n",
       "    .dataframe tbody tr th:only-of-type {\n",
       "        vertical-align: middle;\n",
       "    }\n",
       "\n",
       "    .dataframe tbody tr th {\n",
       "        vertical-align: top;\n",
       "    }\n",
       "\n",
       "    .dataframe thead th {\n",
       "        text-align: right;\n",
       "    }\n",
       "</style>\n",
       "<table border=\"1\" class=\"dataframe\">\n",
       "  <thead>\n",
       "    <tr style=\"text-align: right;\">\n",
       "      <th></th>\n",
       "      <th>model_id</th>\n",
       "      <th>train_dataset_ids</th>\n",
       "      <th>test_dataset_id</th>\n",
       "      <th>prompt_id</th>\n",
       "      <th>subset_id</th>\n",
       "      <th>input_type</th>\n",
       "      <th>layer</th>\n",
       "      <th>fold</th>\n",
       "      <th>direction_optimal_cut</th>\n",
       "      <th>direction_optimal_train_set_cut</th>\n",
       "      <th>...</th>\n",
       "      <th>direction_f1_score</th>\n",
       "      <th>direction_precision_score</th>\n",
       "      <th>direction_recall_score</th>\n",
       "      <th>logistic_regression_optimal_cut</th>\n",
       "      <th>logistic_regression_optimal_train_set_cut</th>\n",
       "      <th>logistic_regression_test_roc_auc</th>\n",
       "      <th>logistic_regression_accuracy_score</th>\n",
       "      <th>logistic_regression_f1_score</th>\n",
       "      <th>logistic_regression_precision_score</th>\n",
       "      <th>logistic_regression_recall_score</th>\n",
       "    </tr>\n",
       "  </thead>\n",
       "  <tbody>\n",
       "    <tr>\n",
       "      <th>0</th>\n",
       "      <td>llama3.1_8b_chat</td>\n",
       "      <td>[medals_9k, birth_years_4k, cities_10k]</td>\n",
       "      <td>football_leagues_1k</td>\n",
       "      <td>base</td>\n",
       "      <td>main</td>\n",
       "      <td>prompt_answer</td>\n",
       "      <td>0</td>\n",
       "      <td>0</td>\n",
       "      <td>-0.039674</td>\n",
       "      <td>-0.039674</td>\n",
       "      <td>...</td>\n",
       "      <td>0.619718</td>\n",
       "      <td>0.578947</td>\n",
       "      <td>0.666667</td>\n",
       "      <td>0.5</td>\n",
       "      <td>0.509670</td>\n",
       "      <td>0.461892</td>\n",
       "      <td>0.560606</td>\n",
       "      <td>0.579710</td>\n",
       "      <td>0.555556</td>\n",
       "      <td>0.606061</td>\n",
       "    </tr>\n",
       "    <tr>\n",
       "      <th>1</th>\n",
       "      <td>llama3.1_8b_chat</td>\n",
       "      <td>[medals_9k, birth_years_4k, cities_10k]</td>\n",
       "      <td>medals_9k</td>\n",
       "      <td>base</td>\n",
       "      <td>main</td>\n",
       "      <td>prompt_answer</td>\n",
       "      <td>0</td>\n",
       "      <td>0</td>\n",
       "      <td>-0.039674</td>\n",
       "      <td>-0.039674</td>\n",
       "      <td>...</td>\n",
       "      <td>0.639019</td>\n",
       "      <td>0.551411</td>\n",
       "      <td>0.759722</td>\n",
       "      <td>0.5</td>\n",
       "      <td>0.509670</td>\n",
       "      <td>0.749261</td>\n",
       "      <td>0.692361</td>\n",
       "      <td>0.681524</td>\n",
       "      <td>0.706408</td>\n",
       "      <td>0.658333</td>\n",
       "    </tr>\n",
       "    <tr>\n",
       "      <th>2</th>\n",
       "      <td>llama3.1_8b_chat</td>\n",
       "      <td>[medals_9k, birth_years_4k, cities_10k]</td>\n",
       "      <td>birth_years_4k</td>\n",
       "      <td>base</td>\n",
       "      <td>main</td>\n",
       "      <td>prompt_answer</td>\n",
       "      <td>0</td>\n",
       "      <td>0</td>\n",
       "      <td>-0.039674</td>\n",
       "      <td>-0.039674</td>\n",
       "      <td>...</td>\n",
       "      <td>0.618421</td>\n",
       "      <td>0.536122</td>\n",
       "      <td>0.730570</td>\n",
       "      <td>0.5</td>\n",
       "      <td>0.509670</td>\n",
       "      <td>0.639910</td>\n",
       "      <td>0.598446</td>\n",
       "      <td>0.613466</td>\n",
       "      <td>0.591346</td>\n",
       "      <td>0.637306</td>\n",
       "    </tr>\n",
       "    <tr>\n",
       "      <th>3</th>\n",
       "      <td>llama3.1_8b_chat</td>\n",
       "      <td>[medals_9k, birth_years_4k, cities_10k]</td>\n",
       "      <td>cities_10k</td>\n",
       "      <td>base</td>\n",
       "      <td>main</td>\n",
       "      <td>prompt_answer</td>\n",
       "      <td>0</td>\n",
       "      <td>0</td>\n",
       "      <td>-0.039674</td>\n",
       "      <td>-0.039674</td>\n",
       "      <td>...</td>\n",
       "      <td>0.662810</td>\n",
       "      <td>0.585401</td>\n",
       "      <td>0.763810</td>\n",
       "      <td>0.5</td>\n",
       "      <td>0.509670</td>\n",
       "      <td>0.674569</td>\n",
       "      <td>0.623810</td>\n",
       "      <td>0.642534</td>\n",
       "      <td>0.612069</td>\n",
       "      <td>0.676190</td>\n",
       "    </tr>\n",
       "    <tr>\n",
       "      <th>4</th>\n",
       "      <td>llama3.1_8b_chat</td>\n",
       "      <td>[medals_9k, birth_years_4k, cities_10k]</td>\n",
       "      <td>football_leagues_1k</td>\n",
       "      <td>base</td>\n",
       "      <td>main</td>\n",
       "      <td>prompt_answer</td>\n",
       "      <td>0</td>\n",
       "      <td>1</td>\n",
       "      <td>-0.072958</td>\n",
       "      <td>-0.072958</td>\n",
       "      <td>...</td>\n",
       "      <td>0.622222</td>\n",
       "      <td>0.491228</td>\n",
       "      <td>0.848485</td>\n",
       "      <td>0.5</td>\n",
       "      <td>0.523588</td>\n",
       "      <td>0.451791</td>\n",
       "      <td>0.469697</td>\n",
       "      <td>0.385965</td>\n",
       "      <td>0.458333</td>\n",
       "      <td>0.333333</td>\n",
       "    </tr>\n",
       "    <tr>\n",
       "      <th>...</th>\n",
       "      <td>...</td>\n",
       "      <td>...</td>\n",
       "      <td>...</td>\n",
       "      <td>...</td>\n",
       "      <td>...</td>\n",
       "      <td>...</td>\n",
       "      <td>...</td>\n",
       "      <td>...</td>\n",
       "      <td>...</td>\n",
       "      <td>...</td>\n",
       "      <td>...</td>\n",
       "      <td>...</td>\n",
       "      <td>...</td>\n",
       "      <td>...</td>\n",
       "      <td>...</td>\n",
       "      <td>...</td>\n",
       "      <td>...</td>\n",
       "      <td>...</td>\n",
       "      <td>...</td>\n",
       "      <td>...</td>\n",
       "      <td>...</td>\n",
       "    </tr>\n",
       "    <tr>\n",
       "      <th>1915</th>\n",
       "      <td>llama3.1_8b_chat</td>\n",
       "      <td>[gsm8k]</td>\n",
       "      <td>gsm8k</td>\n",
       "      <td>cot_3_shot</td>\n",
       "      <td>main</td>\n",
       "      <td>prompt_only</td>\n",
       "      <td>31</td>\n",
       "      <td>0</td>\n",
       "      <td>4.554289</td>\n",
       "      <td>4.554289</td>\n",
       "      <td>...</td>\n",
       "      <td>0.422346</td>\n",
       "      <td>0.535411</td>\n",
       "      <td>0.348708</td>\n",
       "      <td>0.5</td>\n",
       "      <td>0.459932</td>\n",
       "      <td>0.524077</td>\n",
       "      <td>0.535978</td>\n",
       "      <td>0.549687</td>\n",
       "      <td>0.533913</td>\n",
       "      <td>0.566421</td>\n",
       "    </tr>\n",
       "    <tr>\n",
       "      <th>1916</th>\n",
       "      <td>llama3.1_8b_chat</td>\n",
       "      <td>[gsm8k]</td>\n",
       "      <td>gsm8k</td>\n",
       "      <td>cot_3_shot</td>\n",
       "      <td>main</td>\n",
       "      <td>prompt_only</td>\n",
       "      <td>31</td>\n",
       "      <td>1</td>\n",
       "      <td>2.064851</td>\n",
       "      <td>2.064851</td>\n",
       "      <td>...</td>\n",
       "      <td>0.555357</td>\n",
       "      <td>0.538062</td>\n",
       "      <td>0.573801</td>\n",
       "      <td>0.5</td>\n",
       "      <td>0.488465</td>\n",
       "      <td>0.531844</td>\n",
       "      <td>0.536900</td>\n",
       "      <td>0.565744</td>\n",
       "      <td>0.532573</td>\n",
       "      <td>0.603321</td>\n",
       "    </tr>\n",
       "    <tr>\n",
       "      <th>1917</th>\n",
       "      <td>llama3.1_8b_chat</td>\n",
       "      <td>[gsm8k]</td>\n",
       "      <td>gsm8k</td>\n",
       "      <td>cot_3_shot</td>\n",
       "      <td>main</td>\n",
       "      <td>prompt_only</td>\n",
       "      <td>31</td>\n",
       "      <td>2</td>\n",
       "      <td>6.805744</td>\n",
       "      <td>6.805744</td>\n",
       "      <td>...</td>\n",
       "      <td>0.382353</td>\n",
       "      <td>0.569343</td>\n",
       "      <td>0.287823</td>\n",
       "      <td>0.5</td>\n",
       "      <td>0.441263</td>\n",
       "      <td>0.530897</td>\n",
       "      <td>0.540590</td>\n",
       "      <td>0.567708</td>\n",
       "      <td>0.536066</td>\n",
       "      <td>0.603321</td>\n",
       "    </tr>\n",
       "    <tr>\n",
       "      <th>1918</th>\n",
       "      <td>llama3.1_8b_chat</td>\n",
       "      <td>[gsm8k]</td>\n",
       "      <td>gsm8k</td>\n",
       "      <td>cot_3_shot</td>\n",
       "      <td>main</td>\n",
       "      <td>prompt_only</td>\n",
       "      <td>31</td>\n",
       "      <td>3</td>\n",
       "      <td>1.761393</td>\n",
       "      <td>1.761393</td>\n",
       "      <td>...</td>\n",
       "      <td>0.532374</td>\n",
       "      <td>0.519298</td>\n",
       "      <td>0.546125</td>\n",
       "      <td>0.5</td>\n",
       "      <td>0.484587</td>\n",
       "      <td>0.529377</td>\n",
       "      <td>0.537823</td>\n",
       "      <td>0.571429</td>\n",
       "      <td>0.532695</td>\n",
       "      <td>0.616236</td>\n",
       "    </tr>\n",
       "    <tr>\n",
       "      <th>1919</th>\n",
       "      <td>llama3.1_8b_chat</td>\n",
       "      <td>[gsm8k]</td>\n",
       "      <td>gsm8k</td>\n",
       "      <td>cot_3_shot</td>\n",
       "      <td>main</td>\n",
       "      <td>prompt_only</td>\n",
       "      <td>31</td>\n",
       "      <td>4</td>\n",
       "      <td>1.790149</td>\n",
       "      <td>1.790149</td>\n",
       "      <td>...</td>\n",
       "      <td>0.524496</td>\n",
       "      <td>0.547094</td>\n",
       "      <td>0.503690</td>\n",
       "      <td>0.5</td>\n",
       "      <td>0.512626</td>\n",
       "      <td>0.527776</td>\n",
       "      <td>0.547970</td>\n",
       "      <td>0.592346</td>\n",
       "      <td>0.539394</td>\n",
       "      <td>0.656827</td>\n",
       "    </tr>\n",
       "  </tbody>\n",
       "</table>\n",
       "<p>1920 rows × 22 columns</p>\n",
       "</div>"
      ],
      "text/plain": [
       "              model_id                        train_dataset_ids  \\\n",
       "0     llama3.1_8b_chat  [medals_9k, birth_years_4k, cities_10k]   \n",
       "1     llama3.1_8b_chat  [medals_9k, birth_years_4k, cities_10k]   \n",
       "2     llama3.1_8b_chat  [medals_9k, birth_years_4k, cities_10k]   \n",
       "3     llama3.1_8b_chat  [medals_9k, birth_years_4k, cities_10k]   \n",
       "4     llama3.1_8b_chat  [medals_9k, birth_years_4k, cities_10k]   \n",
       "...                ...                                      ...   \n",
       "1915  llama3.1_8b_chat                                  [gsm8k]   \n",
       "1916  llama3.1_8b_chat                                  [gsm8k]   \n",
       "1917  llama3.1_8b_chat                                  [gsm8k]   \n",
       "1918  llama3.1_8b_chat                                  [gsm8k]   \n",
       "1919  llama3.1_8b_chat                                  [gsm8k]   \n",
       "\n",
       "          test_dataset_id   prompt_id subset_id     input_type  layer  fold  \\\n",
       "0     football_leagues_1k        base      main  prompt_answer      0     0   \n",
       "1               medals_9k        base      main  prompt_answer      0     0   \n",
       "2          birth_years_4k        base      main  prompt_answer      0     0   \n",
       "3              cities_10k        base      main  prompt_answer      0     0   \n",
       "4     football_leagues_1k        base      main  prompt_answer      0     1   \n",
       "...                   ...         ...       ...            ...    ...   ...   \n",
       "1915                gsm8k  cot_3_shot      main    prompt_only     31     0   \n",
       "1916                gsm8k  cot_3_shot      main    prompt_only     31     1   \n",
       "1917                gsm8k  cot_3_shot      main    prompt_only     31     2   \n",
       "1918                gsm8k  cot_3_shot      main    prompt_only     31     3   \n",
       "1919                gsm8k  cot_3_shot      main    prompt_only     31     4   \n",
       "\n",
       "      direction_optimal_cut  direction_optimal_train_set_cut  ...  \\\n",
       "0                 -0.039674                        -0.039674  ...   \n",
       "1                 -0.039674                        -0.039674  ...   \n",
       "2                 -0.039674                        -0.039674  ...   \n",
       "3                 -0.039674                        -0.039674  ...   \n",
       "4                 -0.072958                        -0.072958  ...   \n",
       "...                     ...                              ...  ...   \n",
       "1915               4.554289                         4.554289  ...   \n",
       "1916               2.064851                         2.064851  ...   \n",
       "1917               6.805744                         6.805744  ...   \n",
       "1918               1.761393                         1.761393  ...   \n",
       "1919               1.790149                         1.790149  ...   \n",
       "\n",
       "      direction_f1_score  direction_precision_score  direction_recall_score  \\\n",
       "0               0.619718                   0.578947                0.666667   \n",
       "1               0.639019                   0.551411                0.759722   \n",
       "2               0.618421                   0.536122                0.730570   \n",
       "3               0.662810                   0.585401                0.763810   \n",
       "4               0.622222                   0.491228                0.848485   \n",
       "...                  ...                        ...                     ...   \n",
       "1915            0.422346                   0.535411                0.348708   \n",
       "1916            0.555357                   0.538062                0.573801   \n",
       "1917            0.382353                   0.569343                0.287823   \n",
       "1918            0.532374                   0.519298                0.546125   \n",
       "1919            0.524496                   0.547094                0.503690   \n",
       "\n",
       "      logistic_regression_optimal_cut  \\\n",
       "0                                 0.5   \n",
       "1                                 0.5   \n",
       "2                                 0.5   \n",
       "3                                 0.5   \n",
       "4                                 0.5   \n",
       "...                               ...   \n",
       "1915                              0.5   \n",
       "1916                              0.5   \n",
       "1917                              0.5   \n",
       "1918                              0.5   \n",
       "1919                              0.5   \n",
       "\n",
       "      logistic_regression_optimal_train_set_cut  \\\n",
       "0                                      0.509670   \n",
       "1                                      0.509670   \n",
       "2                                      0.509670   \n",
       "3                                      0.509670   \n",
       "4                                      0.523588   \n",
       "...                                         ...   \n",
       "1915                                   0.459932   \n",
       "1916                                   0.488465   \n",
       "1917                                   0.441263   \n",
       "1918                                   0.484587   \n",
       "1919                                   0.512626   \n",
       "\n",
       "      logistic_regression_test_roc_auc  logistic_regression_accuracy_score  \\\n",
       "0                             0.461892                            0.560606   \n",
       "1                             0.749261                            0.692361   \n",
       "2                             0.639910                            0.598446   \n",
       "3                             0.674569                            0.623810   \n",
       "4                             0.451791                            0.469697   \n",
       "...                                ...                                 ...   \n",
       "1915                          0.524077                            0.535978   \n",
       "1916                          0.531844                            0.536900   \n",
       "1917                          0.530897                            0.540590   \n",
       "1918                          0.529377                            0.537823   \n",
       "1919                          0.527776                            0.547970   \n",
       "\n",
       "      logistic_regression_f1_score  logistic_regression_precision_score  \\\n",
       "0                         0.579710                             0.555556   \n",
       "1                         0.681524                             0.706408   \n",
       "2                         0.613466                             0.591346   \n",
       "3                         0.642534                             0.612069   \n",
       "4                         0.385965                             0.458333   \n",
       "...                            ...                                  ...   \n",
       "1915                      0.549687                             0.533913   \n",
       "1916                      0.565744                             0.532573   \n",
       "1917                      0.567708                             0.536066   \n",
       "1918                      0.571429                             0.532695   \n",
       "1919                      0.592346                             0.539394   \n",
       "\n",
       "      logistic_regression_recall_score  \n",
       "0                             0.606061  \n",
       "1                             0.658333  \n",
       "2                             0.637306  \n",
       "3                             0.676190  \n",
       "4                             0.333333  \n",
       "...                                ...  \n",
       "1915                          0.566421  \n",
       "1916                          0.603321  \n",
       "1917                          0.603321  \n",
       "1918                          0.616236  \n",
       "1919                          0.656827  \n",
       "\n",
       "[1920 rows x 22 columns]"
      ]
     },
     "execution_count": 6,
     "metadata": {},
     "output_type": "execute_result"
    }
   ],
   "source": [
    "res_dict = defaultdict(list)\n",
    "\n",
    "for (model_id, prompt_id, subset_id, input_type), config_df in activation_exp_configs_df.groupby([\"model_id\", \"prompt_id\", \"subset_id\", \"input_type\"]):\n",
    "    print(f\"\\n{model_id=}, {prompt_id=}, {subset_id=}, {input_type=}\")\n",
    "    \n",
    "    config_df[\"layer\"] = config_df[\"layer\"].astype(int)\n",
    "    config_df = config_df.sort_values(by=\"layer\")\n",
    "\n",
    "    check_indices = {}\n",
    "    for layer, layer_config_df in config_df.groupby(\"layer\"):\n",
    "        print(f\"{layer=}\", end=\", \")\n",
    "\n",
    "        dataset_activation_handlers = {}\n",
    "        for _, row in layer_config_df.iterrows():\n",
    "            dataset_id = row[\"dataset_id\"]\n",
    "\n",
    "            labels_df = load_labels(\n",
    "                base_path=BASE_PATH,\n",
    "                model_id=model_id,\n",
    "                dataset_id=dataset_id,\n",
    "                prompt_id=prompt_id,\n",
    "                subset_id=subset_id,\n",
    "            )\n",
    "            activations, indices = load_activations(\n",
    "                base_path=BASE_PATH,\n",
    "                model_id=model_id,\n",
    "                dataset_id=dataset_id,\n",
    "                prompt_id=prompt_id,\n",
    "                subset_id=subset_id,\n",
    "                input_type=input_type,\n",
    "                layer=layer,\n",
    "            )\n",
    "\n",
    "            if dataset_id not in check_indices:\n",
    "                check_indices[dataset_id] = indices.sample(frac=1, replace=False)\n",
    "            \n",
    "            if set(indices) != set(check_indices[dataset_id]):\n",
    "                raise RuntimeError(f\"indices across layers are not the same\")\n",
    "\n",
    "            labels_df_subset = labels_df.iloc[check_indices[dataset_id]].reset_index(drop=True)\n",
    "            activations_subset = activations[check_indices[dataset_id]]\n",
    "\n",
    "            # print(f\"{dataset_id=}, {labels_df_subset['correct'].astype(bool).value_counts()=}\")\n",
    "\n",
    "            activations_handler = ActivationsHandler(\n",
    "                activations=activations_subset,\n",
    "                labels=labels_df_subset[\"correct\"].astype(bool),\n",
    "            ).sample_equally_across_groups(\n",
    "                group_labels=[False, True], interleave=True\n",
    "            )\n",
    "\n",
    "            # print(\"activations_handler\", activations_handler.labels.value_counts(), end=\"\\n\\n\")\n",
    "\n",
    "            activations_handler_folds = list(\n",
    "                activations_handler.split_dataset(split_sizes=[1/5] * 5)\n",
    "            )\n",
    "\n",
    "            # print(\"activations_handler_folds\", [ah.labels.value_counts() for ah in activations_handler_folds], end=\"\\n\\n\\n\\n\\n\")\n",
    "\n",
    "\n",
    "            dataset_activation_handlers[dataset_id] = activations_handler_folds\n",
    "            \n",
    "        # if check_indices is None:\n",
    "        #     check_indices = indices.sample(frac=1, replace=False)\n",
    "        \n",
    "        # if set(indices) != set(check_indices):\n",
    "        #     raise RuntimeError(f\"indices across layers are not the same\")\n",
    "\n",
    "        # labels_df_subset = labels_df.iloc[check_indices]\n",
    "        # activations = activations[check_indices]\n",
    "\n",
    "        # activations_handler = ActivationsHandler(\n",
    "        #     activations=activations,\n",
    "        #     labels=labels_df_subset[\"correct\"].astype(bool),\n",
    "        # )\n",
    "\n",
    "        # activations_handler_folds = list(\n",
    "        #     activations_handler.split_dataset(split_sizes=[1/5] * 5)\n",
    "        # )\n",
    "\n",
    "        fold_stats = {}\n",
    "        for fold_i in range(len(list(dataset_activation_handlers.values())[0])):\n",
    "            train_activations_handlers, test_activations_handlers = {}, {}\n",
    "            for dataset_id, ah_folds in dataset_activation_handlers.items():\n",
    "\n",
    "                test_activations_handlers[dataset_id] = ah_folds[fold_i].sample_equally_across_groups(\n",
    "                    group_labels=[False, True], interleave=True\n",
    "                )\n",
    "\n",
    "                if dataset_id == \"football_leagues_1k\":\n",
    "                    continue\n",
    "\n",
    "                train_activations_handlers[dataset_id] = [ah for j, ah in enumerate(ah_folds) if j != fold_i]\n",
    "            \n",
    "            activations_handler_train = combine_activations_handlers(\n",
    "                sum(list(train_activations_handlers.values()), []), # combine the lists\n",
    "                equal_counts=True\n",
    "            ).sample_equally_across_groups(\n",
    "                group_labels=[False, True], interleave=True\n",
    "            )\n",
    "\n",
    "            scaler_model_tuple = None\n",
    "            for test_dataset_id, activations_handler_test in test_activations_handlers.items():\n",
    "                res_dict[\"model_id\"].append(model_id)\n",
    "                res_dict[\"train_dataset_ids\"].append(list(train_activations_handlers.keys()))\n",
    "                res_dict[\"test_dataset_id\"].append(test_dataset_id)\n",
    "                res_dict[\"prompt_id\"].append(prompt_id)\n",
    "                res_dict[\"subset_id\"].append(subset_id)\n",
    "                res_dict[\"input_type\"].append(input_type)\n",
    "                res_dict[\"layer\"].append(layer)\n",
    "                res_dict[\"fold\"].append(fold_i)\n",
    "\n",
    "                direction_classifier, direction_calculator = get_correctness_direction_classifier(\n",
    "                    activations_handler_train=activations_handler_train,\n",
    "                    activations_handler_test=activations_handler_test,\n",
    "                )\n",
    "                # res_dict[\"classifying_direction\"].append(direction_calculator.classifying_direction.tolist())\n",
    "                for key, value in direction_classifier.classification_metrics.items():\n",
    "                    res_dict[f\"direction_{key}\"].append(value)\n",
    "                \n",
    "                logistic_regression_classifier, scaler_model_tuple = get_logistic_regression_classifier(\n",
    "                    activations_handler_train=activations_handler_train,\n",
    "                    activations_handler_test=activations_handler_test,\n",
    "                    scaler_model_tuple=scaler_model_tuple,\n",
    "                )\n",
    "                for key, value in logistic_regression_classifier.classification_metrics.items():\n",
    "                    res_dict[f\"logistic_regression_{key}\"].append(value)\n",
    "\n",
    "\n",
    "\n",
    "res_df = pd.DataFrame(res_dict)\n",
    "res_df"
   ]
  },
  {
   "cell_type": "code",
   "execution_count": 5,
   "metadata": {},
   "outputs": [],
   "source": [
    "res_file = \"./classification_data/res_df_llama31_8B_4_memory_datasets_combined_train_sets.csv\"\n"
   ]
  },
  {
   "cell_type": "code",
   "execution_count": 8,
   "metadata": {},
   "outputs": [],
   "source": [
    "res_df.to_csv(res_file, index=False)"
   ]
  },
  {
   "cell_type": "code",
   "execution_count": 8,
   "metadata": {},
   "outputs": [
    {
     "data": {
      "text/plain": [
       "array(['model_id', 'train_dataset_ids', 'test_dataset_id', 'prompt_id',\n",
       "       'subset_id', 'input_type', 'layer', 'fold',\n",
       "       'direction_optimal_cut', 'direction_optimal_train_set_cut',\n",
       "       'direction_test_roc_auc', 'direction_accuracy_score',\n",
       "       'direction_f1_score', 'direction_precision_score',\n",
       "       'direction_recall_score', 'logistic_regression_optimal_cut',\n",
       "       'logistic_regression_optimal_train_set_cut',\n",
       "       'logistic_regression_test_roc_auc',\n",
       "       'logistic_regression_accuracy_score',\n",
       "       'logistic_regression_f1_score',\n",
       "       'logistic_regression_precision_score',\n",
       "       'logistic_regression_recall_score'], dtype=object)"
      ]
     },
     "execution_count": 8,
     "metadata": {},
     "output_type": "execute_result"
    }
   ],
   "source": [
    "res_df = pd.read_csv(res_file)\n",
    "res_df.columns.values"
   ]
  },
  {
   "cell_type": "code",
   "execution_count": 10,
   "metadata": {},
   "outputs": [
    {
     "name": "stdout",
     "output_type": "stream",
     "text": [
      "conf=('llama3.1_8b_chat', 'birth_years_4k', 'base', 'main', 'prompt_answer')\n",
      "conf=('llama3.1_8b_chat', 'birth_years_4k', 'base', 'main', 'prompt_only')\n",
      "conf=('llama3.1_8b_chat', 'cities_10k', 'base', 'main', 'prompt_answer')\n",
      "conf=('llama3.1_8b_chat', 'cities_10k', 'base', 'main', 'prompt_only')\n",
      "conf=('llama3.1_8b_chat', 'football_leagues_1k', 'base', 'main', 'prompt_answer')\n",
      "conf=('llama3.1_8b_chat', 'football_leagues_1k', 'base', 'main', 'prompt_only')\n",
      "conf=('llama3.1_8b_chat', 'gsm8k', 'base_3_shot', 'main', 'prompt_answer')\n",
      "conf=('llama3.1_8b_chat', 'gsm8k', 'base_3_shot', 'main', 'prompt_only')\n",
      "conf=('llama3.1_8b_chat', 'gsm8k', 'cot_3_shot', 'main', 'prompt_answer')\n",
      "conf=('llama3.1_8b_chat', 'gsm8k', 'cot_3_shot', 'main', 'prompt_only')\n",
      "conf=('llama3.1_8b_chat', 'medals_9k', 'base', 'main', 'prompt_answer')\n",
      "conf=('llama3.1_8b_chat', 'medals_9k', 'base', 'main', 'prompt_only')\n"
     ]
    },
    {
     "data": {
      "application/vnd.plotly.v1+json": {
       "config": {
        "plotlyServerURL": "https://plot.ly"
       },
       "data": [
        {
         "legendgroup": "('llama3.1_8b_chat', 'birth_years_4k', 'base', 'main', 'prompt_answer')",
         "line": {
          "color": "#1f77b4",
          "width": 2
         },
         "marker": {
          "size": 8
         },
         "mode": "lines+markers",
         "name": "('llama3.1_8b_chat', 'birth_years_4k', 'base', 'main', 'prompt_answer')",
         "type": "scatter",
         "x": {
          "bdata": "AAECAwQFBgcICQoLDA0ODxAREhMUFRYXGBkaGxwdHh8=",
          "dtype": "i1"
         },
         "y": {
          "bdata": "KEgwwtRG4T/FRaVdE0vhP2aN7yW9y+A/rnwiZnPp4D9V2jWxFAriP5SqWdb4XuI/1Hp9+9yz4j8EV1gXiPPiPwbivNiDw+M/vPKJmM2l4z99ImZz6VDjP93aG6s/0OM/07sMkG0H5D8oVbOs8b3kPx42pJEf9eQ/NP8mib9W5T/qUIPdmYzmP7p0qMHuTOY/9rlnJdfR5T8sa3wv6V3mPwHZdkCpmuU/6YSPhw1p5D9p5Ec9Rb/jPykUJBhhauM/KRQkGGFq4z/m+SrGEZnjP7BIFrz/DOM/IPUU/Y6h4z9Z8P4zDKrjPz1SQk4F/OI/IoB5vopx5D/y16pMUw7iPw==",
          "dtype": "f8"
         }
        },
        {
         "legendgroup": "('llama3.1_8b_chat', 'birth_years_4k', 'base', 'main', 'prompt_answer')",
         "line": {
          "width": 0
         },
         "mode": "lines",
         "name": "('llama3.1_8b_chat', 'birth_years_4k', 'base', 'main', 'prompt_answer') Max",
         "showlegend": false,
         "type": "scatter",
         "x": {
          "bdata": "AAECAwQFBgcICQoLDA0ODxAREhMUFRYXGBkaGxwdHh8=",
          "dtype": "i1"
         },
         "y": {
          "bdata": "vrH6Az1S4j+NFq98ImbjP27tjdUf6OE/vrH6Az1S4j8tXvlEzObiPwy39sbqD+Q/DLf2xuoP5D9MhxrszmTkP9sbqz/QI+U/2xurP9Aj5T861GB3JqPlP0rIqYBfuOU/2lw61GB35j85FfALt/bmP2nxyidiNuc/2J3JaPHK5z/H6g/0SAnpP9idyWjxyuc/GS1e+UTM5j8JORXwC7fmP+lQg92ZjOY/6JEScirg5z9p8conYjbnP6qAX7i1N+Y/KuAXbu2N5T+KmM2lQw3mP5tLhxrszuQ/+wM9UkJO5T8q4Bdu7Y3lP1q88omYzeU/6VCD3ZmM5j9rb6z+QI/kPw==",
          "dtype": "f8"
         }
        },
        {
         "fill": "tonexty",
         "fillcolor": "rgba(31, 119, 180, 0.1)",
         "legendgroup": "('llama3.1_8b_chat', 'birth_years_4k', 'base', 'main', 'prompt_answer')",
         "line": {
          "width": 0
         },
         "mode": "lines",
         "name": "('llama3.1_8b_chat', 'birth_years_4k', 'base', 'main', 'prompt_answer') Min",
         "showlegend": false,
         "type": "scatter",
         "x": {
          "bdata": "AAECAwQFBgcICQoLDA0ODxAREhMUFRYXGBkaGxwdHh8=",
          "dtype": "i1"
         },
         "y": {
          "bdata": "UMRsLh1q4D/g1t5Y/YHeP+DW3lj9gd4/4NbeWP2B3j9vrP5Aj5TgP2+s/kCPlOA//0CPlJBT4T8PNdidyWjhP/2BHikhp+I/LV75RMzm4j9Bj5SQUwHfP1DEbC4dauA/UMRsLh1q4D9/oEdKyKngPw12ZzJavOI/bS4darA74z+bS4ca7M7kP2tvrP5Aj+Q/qz/QIyXk5D9KyKmAX7jlPyyfiNlcOuQ/TgX8wq294T8fKSGnAn7hP99Y/YEeKeE//YEeKSGn4j/tjdUf6JHiP669sfoDPeI/vrH6Az1S4j/emYwWr3ziP+9MRotXPuE/fSJmc+lQ4z9QxGwuHWrgPw==",
          "dtype": "f8"
         }
        },
        {
         "legendgroup": "('llama3.1_8b_chat', 'birth_years_4k', 'base', 'main', 'prompt_answer')",
         "line": {
          "width": 0
         },
         "mode": "lines",
         "name": "('llama3.1_8b_chat', 'birth_years_4k', 'base', 'main', 'prompt_answer') +1 STD",
         "showlegend": false,
         "type": "scatter",
         "x": {
          "bdata": "AAECAwQFBgcICQoLDA0ODxAREhMUFRYXGBkaGxwdHh8=",
          "dtype": "i1"
         },
         "y": {
          "bdata": "JRd+VwIF4j9qvUV4utXiP9fPCH0Z+OE/nWReeGQF4j8lcpmweeniP9LAiKEKoeM/bW6/vQm+4z8TGml5rxHkPzbDZXz/veQ/+ncGKYCU5D8uUtAV3LLlP664dLVD+eU/TC3w711M5j/01H1e+z/nP0l3TnI2k+Y/dUBynTpC5z+tfoDoQl/oP7hnxmIKqOc/W3az7CG15j/BSaUwUMbmPzyElIkKmuY/7dzni3HL5j8TlhZmoOzlP9JmF66wSuU/VifscVmh5D+GR2zLOf/kPyqslGmqFuQ/qipsLz335D9Slz7/WAzlP4vtsFes/OQ/j5MQ1a2u5T+4cLk5NeTjPw==",
          "dtype": "f8"
         }
        },
        {
         "fill": "tonexty",
         "fillcolor": "rgba(31, 119, 180, 0.3)",
         "legendgroup": "('llama3.1_8b_chat', 'birth_years_4k', 'base', 'main', 'prompt_answer')",
         "line": {
          "width": 0
         },
         "mode": "lines",
         "name": "('llama3.1_8b_chat', 'birth_years_4k', 'base', 'main', 'prompt_answer') -1 STD",
         "showlegend": false,
         "type": "scatter",
         "x": {
          "bdata": "AAECAwQFBgcICQoLDA0ODxAREhMUFRYXGBkaGxwdHh8=",
          "dtype": "i1"
         },
         "y": {
          "bdata": "K3niLKeI4D9AnAmG2IDfP+mVrJ3BPt8/fSnNpwSb3z+FQtKxryrhP1aUKgvnHOE/O4c7ObCp4T/1k0e1YNXhP9YAFDUIyeI/fm0NCBu34j/M8vvQ9u7gPwz9wqA7p+E/WkopMH3C4T9c1ej65zviP/P0+bAIV+M/873bdERr4z8nI4bS8LnkP7yBiiDT8eQ/kf0bXozu5D+XjFMugvXlP8YtWfdHm+Q/5Sw3g6kG4j+/MnkU6pHhP4DBMIIRiuE//ABcvmgz4j9GrOnA6TLiPzbllw5VA+I/lr+9yuBL4j9gSb9ov0fiP++200Re++A/tWzip2c04z8sP5xfcTjgPw==",
          "dtype": "f8"
         }
        },
        {
         "legendgroup": "('llama3.1_8b_chat', 'birth_years_4k', 'base', 'main', 'prompt_answer')",
         "marker": {
          "color": "#1f77b4",
          "opacity": 0.5,
          "size": 6
         },
         "mode": "markers",
         "name": "('llama3.1_8b_chat', 'birth_years_4k', 'base', 'main', 'prompt_answer') Fold ('direction_accuracy_score', 0)",
         "showlegend": false,
         "type": "scatter",
         "x": {
          "bdata": "AAECAwQFBgcICQoLDA0ODxAREhMUFRYXGBkaGxwdHh8=",
          "dtype": "i1"
         },
         "y": {
          "bdata": "Lh1qsDuT4T9OBfzCrb3hPx8pIacCfuE/31j9gR4p4T+uvbH6Az3iP37h1t5Y/eE/DXZnMlq84j/OpUMNdmfiP8zm0qEGu+M/TUaLVz4R4z9dOtRgdybjP1x7Y/UHeuQ/i1c+EbO55D861GB3JqPlP5tLhxrszuQ/e2P1B3qk5D9avPKJmM3lPzrUYHcmo+U/qz/QIyXk5D+qgF+4tTfmPyyfiNlcOuQ/TgX8wq294T8fKSGnAn7hP99Y/YEeKeE//YEeKSGn4j8tXvlEzObiP76x+gM9UuI/vrH6Az1S4j/emYwWr3ziP+9MRotXPuE/fSJmc+lQ4z9QxGwuHWrgPw==",
          "dtype": "f8"
         }
        },
        {
         "legendgroup": "('llama3.1_8b_chat', 'birth_years_4k', 'base', 'main', 'prompt_answer')",
         "marker": {
          "color": "#1f77b4",
          "opacity": 0.5,
          "size": 6
         },
         "mode": "markers",
         "name": "('llama3.1_8b_chat', 'birth_years_4k', 'base', 'main', 'prompt_answer') Fold ('direction_accuracy_score', 1)",
         "showlegend": false,
         "type": "scatter",
         "x": {
          "bdata": "AAECAwQFBgcICQoLDA0ODxAREhMUFRYXGBkaGxwdHh8=",
          "dtype": "i1"
         },
         "y": {
          "bdata": "j5SQUwG/4D9guLU3Vn/gP8Av3Nobq98/31j9gR4p4T+O1R/okRLiP+2N1R/okeI/nslo8con4j+NFq98ImbjPyyfiNlcOuQ//MKtvbH64z99ImZz6VDjP01Gi1c+EeM/rP5Aj5SQ4z8cqz/QIyXkP2tvrP5Aj+Q/HKs/0CMl5D+bS4ca7M7kP2tvrP5Aj+Q/qz/QIyXk5D9KyKmAX7jlPzrUYHcmo+U/DXZnMlq84j/emYwWr3ziP86lQw12Z+I/HWqwO5PR4j9tLh1qsDvjPy1e+UTM5uI/DXZnMlq84j8darA7k9HiP669sfoDPeI//MKtvbH64z9QxGwuHWrgPw==",
          "dtype": "f8"
         }
        },
        {
         "legendgroup": "('llama3.1_8b_chat', 'birth_years_4k', 'base', 'main', 'prompt_answer')",
         "marker": {
          "color": "#1f77b4",
          "opacity": 0.5,
          "size": 6
         },
         "mode": "markers",
         "name": "('llama3.1_8b_chat', 'birth_years_4k', 'base', 'main', 'prompt_answer') Fold ('direction_accuracy_score', 2)",
         "showlegend": false,
         "type": "scatter",
         "x": {
          "bdata": "AAECAwQFBgcICQoLDA0ODxAREhMUFRYXGBkaGxwdHh8=",
          "dtype": "i1"
         },
         "y": {
          "bdata": "/0CPlJBT4T8uHWqwO5PhPx8pIacCfuE/f6BHSsip4D8tXvlEzObiP/2BHikhp+I/bS4darA74z9MhxrszmTkP01Gi1c+EeM/XTrUYHcm4z+7MxktXvnkPwv4hVt7Y+U/uzMZLV755D+6dKjB7kzmPxvszmS0eOU/KSGnAn7h5j/okRJyKuDnP9idyWjxyuc/2lw61GB35j/5RMzm0qHmP+lQg92ZjOY/+wM9UkJO5T8cqz/QIyXkP6z+QI+UkOM/bS4darA74z/tjdUf6JHiP669sfoDPeI/m0uHGuzO5D+LVz4Rs7nkPzyT0eKVT+Q/TIca7M5k5D9rb6z+QI/kPw==",
          "dtype": "f8"
         }
        },
        {
         "legendgroup": "('llama3.1_8b_chat', 'birth_years_4k', 'base', 'main', 'prompt_answer')",
         "marker": {
          "color": "#1f77b4",
          "opacity": 0.5,
          "size": 6
         },
         "mode": "markers",
         "name": "('llama3.1_8b_chat', 'birth_years_4k', 'base', 'main', 'prompt_answer') Fold ('direction_accuracy_score', 3)",
         "showlegend": false,
         "type": "scatter",
         "x": {
          "bdata": "AAECAwQFBgcICQoLDA0ODxAREhMUFRYXGBkaGxwdHh8=",
          "dtype": "i1"
         },
         "y": {
          "bdata": "UMRsLh1q4D/g1t5Y/YHeP+DW3lj9gd4/4NbeWP2B3j9vrP5Aj5TgP2+s/kCPlOA//0CPlJBT4T8PNdidyWjhP/2BHikhp+I/LV75RMzm4j9Bj5SQUwHfP1DEbC4dauA/UMRsLh1q4D9/oEdKyKngPw12ZzJavOI/bS4darA74z/rD/RICTnlP3qkhJwK+OU/GS1e+UTM5j8JORXwC7fmP+lQg92ZjOY/6JEScirg5z9p8conYjbnP6qAX7i1N+Y/KuAXbu2N5T+KmM2lQw3mP5tLhxrszuQ/+wM9UkJO5T8q4Bdu7Y3lP1q88omYzeU/6VCD3ZmM5j99ImZz6VDjPw==",
          "dtype": "f8"
         }
        },
        {
         "legendgroup": "('llama3.1_8b_chat', 'birth_years_4k', 'base', 'main', 'prompt_answer')",
         "marker": {
          "color": "#1f77b4",
          "opacity": 0.5,
          "size": 6
         },
         "mode": "markers",
         "name": "('llama3.1_8b_chat', 'birth_years_4k', 'base', 'main', 'prompt_answer') Fold ('direction_accuracy_score', 4)",
         "showlegend": false,
         "type": "scatter",
         "x": {
          "bdata": "AAECAwQFBgcICQoLDA0ODxAREhMUFRYXGBkaGxwdHh8=",
          "dtype": "i1"
         },
         "y": {
          "bdata": "vrH6Az1S4j+NFq98ImbjP27tjdUf6OE/vrH6Az1S4j/OpUMNdmfiPwy39sbqD+Q/DLf2xuoP5D9dOtRgdybjP9sbqz/QI+U/2xurP9Aj5T861GB3JqPlP0rIqYBfuOU/2lw61GB35j85FfALt/bmP2nxyidiNuc/2J3JaPHK5z/H6g/0SAnpP6jB7kxGi+c/ipjNpUMN5j/pUIPdmYzmP8snYjaXDuU/TIca7M5k5D+NFq98ImbjP8zm0qEGu+M/HWqwO5PR4j9tLh1qsDvjPz1SQk4F/OI/PVJCTgX84j8NdmcyWrziP/9Aj5SQU+E//MKtvbH64z8uHWqwO5PhPw==",
          "dtype": "f8"
         }
        },
        {
         "legendgroup": "('llama3.1_8b_chat', 'birth_years_4k', 'base', 'main', 'prompt_only')",
         "line": {
          "color": "#ff7f0e",
          "width": 2
         },
         "marker": {
          "size": 8
         },
         "mode": "lines+markers",
         "name": "('llama3.1_8b_chat', 'birth_years_4k', 'base', 'main', 'prompt_only')",
         "type": "scatter",
         "x": {
          "bdata": "AAECAwQFBgcICQoLDA0ODxAREhMUFRYXGBkaGxwdHh8=",
          "dtype": "i1"
         },
         "y": {
          "bdata": "ecsNXGFd4D9TDkJbiObfPw2qc9zNmOA/giusC8R54T9oGFTnuJvhPzXyo56i3+E/bu2N1R/o4T9KuyaWQkHiP1GQYISpjeI/YYSpjeKi4j9WZZpyENriP1w61GB3JuM/sEgWvP8M4z9TG8VFpV3jP+b5KsYRmeM/Ij/qKfod4z9xePKWG7jiP9R6ffvcs+I/HWqwO5PR4j/tjdUf6JHiP92ZjBavfOI/IrSFaP5N4j8xqM5xN2PiP9jEUihIMOI/2MRSKEgw4j8itIVo/k3iPzvH3YwJLOI/J4m/VmWa4j/Ten373LPiP/2BHikhp+I/iotKuyaW4j+af5PEX6viPw==",
          "dtype": "f8"
         }
        },
        {
         "legendgroup": "('llama3.1_8b_chat', 'birth_years_4k', 'base', 'main', 'prompt_only')",
         "line": {
          "width": 0
         },
         "mode": "lines",
         "name": "('llama3.1_8b_chat', 'birth_years_4k', 'base', 'main', 'prompt_only') Max",
         "showlegend": false,
         "type": "scatter",
         "x": {
          "bdata": "AAECAwQFBgcICQoLDA0ODxAREhMUFRYXGBkaGxwdHh8=",
          "dtype": "i1"
         },
         "y": {
          "bdata": "zqVDDXZn4j8uHWqwO5PhP76x+gM9UuI/zObSoQa74z/M5tKhBrvjP8zm0qEGu+M//MKtvbH64z9ce2P1B3rkPwy39sbqD+Q/HKs/0CMl5D8Mt/bG6g/kP+zOZLR45eM/PJPR4pVP5D8sn4jZXDrkP7szGS1e+eQ//MKtvbH64z+dCviFW3vjP/zCrb2x+uM/7M5ktHjl4z/c2hurP9DjP20uHWqwO+M/DXZnMlq84j89UkJOBfziPy1e+UTM5uI/LV75RMzm4j+NFq98ImbjP40Wr3wiZuM/PJPR4pVP5D88k9HilU/kPzyT0eKVT+Q/HKs/0CMl5D/szmS0eOXjPw==",
          "dtype": "f8"
         }
        },
        {
         "fill": "tonexty",
         "fillcolor": "rgba(255, 127, 14, 0.1)",
         "legendgroup": "('llama3.1_8b_chat', 'birth_years_4k', 'base', 'main', 'prompt_only')",
         "line": {
          "width": 0
         },
         "mode": "lines",
         "name": "('llama3.1_8b_chat', 'birth_years_4k', 'base', 'main', 'prompt_only') Min",
         "showlegend": false,
         "type": "scatter",
         "x": {
          "bdata": "AAECAwQFBgcICQoLDA0ODxAREhMUFRYXGBkaGxwdHh8=",
          "dtype": "i1"
         },
         "y": {
          "bdata": "IKcCfuHW3j+hBrszGS3eP4FfuLU3Vt8/QNAjJeRU4D9/oEdKyKngPzDc2hurP+A/UMRsLh1q4D8w3Nobqz/gP04F/MKtveE/r3wiZnPp4D+eyWjxyifiP86lQw12Z+I/XvlEzObS4T+eyWjxyifiP76x+gM9UuI/rr2x+gM94j9+4dbeWP3hP37h1t5Y/eE/bu2N1R/o4T8fKSGnAn7hP04F/MKtveE/TgX8wq294T8fKSGnAn7hP175RMzm0uE/PhGzuXSo4T8uHWqwO5PhP/9Aj5SQU+E/70xGi1c+4T8uHWqwO5PhPy4darA7k+E/70xGi1c+4T8+EbO5dKjhPw==",
          "dtype": "f8"
         }
        },
        {
         "legendgroup": "('llama3.1_8b_chat', 'birth_years_4k', 'base', 'main', 'prompt_only')",
         "line": {
          "width": 0
         },
         "mode": "lines",
         "name": "('llama3.1_8b_chat', 'birth_years_4k', 'base', 'main', 'prompt_only') +1 STD",
         "showlegend": false,
         "type": "scatter",
         "x": {
          "bdata": "AAECAwQFBgcICQoLDA0ODxAREhMUFRYXGBkaGxwdHh8=",
          "dtype": "i1"
         },
         "y": {
          "bdata": "zwNfdM6Z4T80bduRpe7gPwKADCtCpuE/jD9I+W7Q4j+U0jvbfe3iP+xVuR26LuM/DmkcN5VC4z+VvkPRIc7jP8AqgpQTfOM/OprOxYT74z/N/RLzcZPjPzeTsn9IxeM/XPSrIBcA5D+Ud1lcjGbkP4Wz8gvtxuQ/mWNhpZHY4z9KsNslmUPjP7QzDS/Pc+M/6IVE1RWU4z9lYg7v53njP4V0WKqCL+M/iH06BKi74j97fOZ41hHjP/9zWK8uoeI/JDQ+m6u44j85zoLbvRTjP/+6WwQyBeM/PY6V6ie44z9/Z7NSDLjjP6EoNn3MueM/hZ2bGhCv4z9pCUc69qPjPw==",
          "dtype": "f8"
         }
        },
        {
         "fill": "tonexty",
         "fillcolor": "rgba(255, 127, 14, 0.3)",
         "legendgroup": "('llama3.1_8b_chat', 'birth_years_4k', 'base', 'main', 'prompt_only')",
         "line": {
          "width": 0
         },
         "mode": "lines",
         "name": "('llama3.1_8b_chat', 'birth_years_4k', 'base', 'main', 'prompt_only') -1 STD",
         "showlegend": false,
         "type": "scatter",
         "x": {
          "bdata": "AAECAwQFBgcICQoLDA0ODxAREhMUFRYXGBkaGxwdHh8=",
          "dtype": "i1"
         },
         "y": {
          "bdata": "RyZ5h+hB3j89Qs2Sxe/dPzCotRuzFt8/eBcQHhkj4D88Xmzz80ngP36Ojh+LkOA/znH/c6qN4D//twlbY7TgP+L1PnQ/n+E/iG6EVUBK4T/fzCHyriDiP4Hh9UGmh+I/BJ2AV+gZ4j8SvzAvvlTiP0dAY4A2a+I/qxpzrmJj4j+YQAkIniziP/TB7cfq8+E/Uk4cohAP4j91uZxQ6KnhPzW/wILbyeE/vOrQzFTg4T/n07ZqmLThP7EVTaFhv+E/jFVnteSn4T8Lmoj1PofhP3fTXxXhUuE/EYTpwqJ84T8njkekra/hP1nbBtV1lOE/j3n5Wz194T/L9d9OybLhPw==",
          "dtype": "f8"
         }
        },
        {
         "legendgroup": "('llama3.1_8b_chat', 'birth_years_4k', 'base', 'main', 'prompt_only')",
         "marker": {
          "color": "#ff7f0e",
          "opacity": 0.5,
          "size": 6
         },
         "mode": "markers",
         "name": "('llama3.1_8b_chat', 'birth_years_4k', 'base', 'main', 'prompt_only') Fold ('direction_accuracy_score', 0)",
         "showlegend": false,
         "type": "scatter",
         "x": {
          "bdata": "AAECAwQFBgcICQoLDA0ODxAREhMUFRYXGBkaGxwdHh8=",
          "dtype": "i1"
         },
         "y": {
          "bdata": "gV+4tTdW3z8Q9EgJORXgP2C4tTdWf+A/j5SQUwG/4D+fiNlcOtTgP96ZjBavfOI/UMRsLh1q4D9OBfzCrb3hP47VH+iREuI/zObSoQa74z8NdmcyWrziP01Gi1c+EeM/XTrUYHcm4z/8wq29sfrjP7szGS1e+eQ//YEeKSGn4j8darA7k9HiP96ZjBavfOI/TUaLVz4R4z8tXvlEzObiPx1qsDuT0eI/zqVDDXZn4j89UkJOBfziP76x+gM9UuI/zqVDDXZn4j+NFq98ImbjP40Wr3wiZuM/PJPR4pVP5D88k9HilU/kPzyT0eKVT+Q/HKs/0CMl5D+dCviFW3vjPw==",
          "dtype": "f8"
         }
        },
        {
         "legendgroup": "('llama3.1_8b_chat', 'birth_years_4k', 'base', 'main', 'prompt_only')",
         "marker": {
          "color": "#ff7f0e",
          "opacity": 0.5,
          "size": 6
         },
         "mode": "markers",
         "name": "('llama3.1_8b_chat', 'birth_years_4k', 'base', 'main', 'prompt_only') Fold ('direction_accuracy_score', 1)",
         "showlegend": false,
         "type": "scatter",
         "x": {
          "bdata": "AAECAwQFBgcICQoLDA0ODxAREhMUFRYXGBkaGxwdHh8=",
          "dtype": "i1"
         },
         "y": {
          "bdata": "zqVDDXZn4j8uHWqwO5PhP76x+gM9UuI/zObSoQa74z/M5tKhBrvjP8zm0qEGu+M//MKtvbH64z9ce2P1B3rkPwy39sbqD+Q/HKs/0CMl5D8Mt/bG6g/kP+zOZLR45eM/PJPR4pVP5D8cqz/QIyXkPwy39sbqD+Q//MKtvbH64z+dCviFW3vjP/zCrb2x+uM/7M5ktHjl4z/c2hurP9DjP20uHWqwO+M/DXZnMlq84j8NdmcyWrziPy1e+UTM5uI/LV75RMzm4j8darA7k9HiP/2BHikhp+I/HWqwO5PR4j8tXvlEzObiP96ZjBavfOI/LV75RMzm4j/szmS0eOXjPw==",
          "dtype": "f8"
         }
        },
        {
         "legendgroup": "('llama3.1_8b_chat', 'birth_years_4k', 'base', 'main', 'prompt_only')",
         "marker": {
          "color": "#ff7f0e",
          "opacity": 0.5,
          "size": 6
         },
         "mode": "markers",
         "name": "('llama3.1_8b_chat', 'birth_years_4k', 'base', 'main', 'prompt_only') Fold ('direction_accuracy_score', 2)",
         "showlegend": false,
         "type": "scatter",
         "x": {
          "bdata": "AAECAwQFBgcICQoLDA0ODxAREhMUFRYXGBkaGxwdHh8=",
          "dtype": "i1"
         },
         "y": {
          "bdata": "gV+4tTdW3z+hBrszGS3eP4FfuLU3Vt8/QNAjJeRU4D+PlJBTAb/gP/9Aj5SQU+E/rr2x+gM94j8w3Nobqz/gP04F/MKtveE/r3wiZnPp4D+eyWjxyifiP86lQw12Z+I/3pmMFq984j+eyWjxyifiP76x+gM9UuI/rr2x+gM94j9+4dbeWP3hP37h1t5Y/eE/bu2N1R/o4T8fKSGnAn7hP04F/MKtveE/fuHW3lj94T9e+UTM5tLhP27tjdUf6OE/PhGzuXSo4T9OBfzCrb3hP27tjdUf6OE/rr2x+gM94j++sfoDPVLiP27tjdUf6OE/bu2N1R/o4T++sfoDPVLiPw==",
          "dtype": "f8"
         }
        },
        {
         "legendgroup": "('llama3.1_8b_chat', 'birth_years_4k', 'base', 'main', 'prompt_only')",
         "marker": {
          "color": "#ff7f0e",
          "opacity": 0.5,
          "size": 6
         },
         "mode": "markers",
         "name": "('llama3.1_8b_chat', 'birth_years_4k', 'base', 'main', 'prompt_only') Fold ('direction_accuracy_score', 3)",
         "showlegend": false,
         "type": "scatter",
         "x": {
          "bdata": "AAECAwQFBgcICQoLDA0ODxAREhMUFRYXGBkaGxwdHh8=",
          "dtype": "i1"
         },
         "y": {
          "bdata": "f6BHSsip4D+BX7i1N1bfP8Av3Nobq98/v3Brb6z+4D9/oEdKyKngPy4darA7k+E/XvlEzObS4T9+4dbeWP3hP47VH+iREuI/TgX8wq294T8darA7k9HiP7zyiZjNpeM/nQr4hVt74z8sn4jZXDrkPyyfiNlcOuQ/zObSoQa74z/emYwWr3ziP96ZjBavfOI/LV75RMzm4j8NdmcyWrziPy1e+UTM5uI//YEeKSGn4j8tXvlEzObiP175RMzm0uE/vrH6Az1S4j9+4dbeWP3hPy4darA7k+E/zqVDDXZn4j/OpUMNdmfiPz1SQk4F/OI/DXZnMlq84j9+4dbeWP3hPw==",
          "dtype": "f8"
         }
        },
        {
         "legendgroup": "('llama3.1_8b_chat', 'birth_years_4k', 'base', 'main', 'prompt_only')",
         "marker": {
          "color": "#ff7f0e",
          "opacity": 0.5,
          "size": 6
         },
         "mode": "markers",
         "name": "('llama3.1_8b_chat', 'birth_years_4k', 'base', 'main', 'prompt_only') Fold ('direction_accuracy_score', 4)",
         "showlegend": false,
         "type": "scatter",
         "x": {
          "bdata": "AAECAwQFBgcICQoLDA0ODxAREhMUFRYXGBkaGxwdHh8=",
          "dtype": "i1"
         },
         "y": {
          "bdata": "IKcCfuHW3j8Bv3Brb6zeP3+gR0rIqeA/Lh1qsDuT4T+O1R/okRLiPzDc2hurP+A/z2S0eOUT4T8darA7k9HiPx1qsDuT0eI//YEeKSGn4j/emYwWr3ziPw12ZzJavOI/XvlEzObS4T++sfoDPVLiP86lQw12Z+I/PVJCTgX84j8darA7k9HiP+2N1R/okeI/vrH6Az1S4j9u7Y3VH+jhP04F/MKtveE/TgX8wq294T8fKSGnAn7hP37h1t5Y/eE/PhGzuXSo4T8uHWqwO5PhP/9Aj5SQU+E/70xGi1c+4T8uHWqwO5PhPy4darA7k+E/70xGi1c+4T8+EbO5dKjhPw==",
          "dtype": "f8"
         }
        },
        {
         "legendgroup": "('llama3.1_8b_chat', 'cities_10k', 'base', 'main', 'prompt_answer')",
         "line": {
          "color": "#2ca02c",
          "width": 2
         },
         "marker": {
          "size": 8
         },
         "mode": "lines+markers",
         "name": "('llama3.1_8b_chat', 'cities_10k', 'base', 'main', 'prompt_answer')",
         "type": "scatter",
         "x": {
          "bdata": "AAECAwQFBgcICQoLDA0ODxAREhMUFRYXGBkaGxwdHh8=",
          "dtype": "i1"
         },
         "y": {
          "bdata": "jlNWe23Q4z+5qAZWAavjP3pNjOUg4+M/WIHjcz4N5D8yX31UWhDkP+ag0zOdJOQ/MvtxZrBA5D+VHzCC8EbkPxg+83uKfeQ/BqZwDGzv5D8ieBSpO1PlPxoEsNSbGeU/aiKkWo8y5T+qyMWblFzlP5JjDWMCTeU/G+BiPfGa5T8iEaT0DuzlP2Y6AXAEt+U/hZwjRCzQ5D+HeAMQOQXlPxV4lCQY9OQ/Ydy/DmAW5T82kkktosPkPz7DiuS/FOU/shxtwxVb5D/bDxu0kfLjP2B6DqT4SeQ/2pVqNVS04z8NPnP3Zh7kP1qrfldCxeQ/3gy27Q5b5D91Z87iLjHkPw==",
          "dtype": "f8"
         }
        },
        {
         "legendgroup": "('llama3.1_8b_chat', 'cities_10k', 'base', 'main', 'prompt_answer')",
         "line": {
          "width": 0
         },
         "mode": "lines",
         "name": "('llama3.1_8b_chat', 'cities_10k', 'base', 'main', 'prompt_answer') Max",
         "showlegend": false,
         "type": "scatter",
         "x": {
          "bdata": "AAECAwQFBgcICQoLDA0ODxAREhMUFRYXGBkaGxwdHh8=",
          "dtype": "i1"
         },
         "y": {
          "bdata": "7ngoIaxb5D+ecbPQpObjP0REREREROQ/CxKH195T5D9B4vDae4rkP3iyWt4YweQ/r4LE4bX35D/UKowQ2ZfkP3LuswuITeU/HCOY6O9k5T9nOhxFP4nlPzZaozVao+U/hmEYhmEY5j/2Yz/2Yz/mP4P/xByZXuY/2crgPzFH5j/6Sax5pXrmP+8maIN/W+Y/XBfYThlq5T9S8wHsjJvlP/+2nOlwFOU/o/p2PJQQ5j/PvZugDf7lP+UDJI1ZPOY/ksYsHtcF5j/3boI2+LflP6Uxi8d1geU/mw9gZ9ws5D9B4vDae4rkPxT9JNa8UuU/ahVGiOxL5j+sIHF47T3lPw==",
          "dtype": "f8"
         }
        },
        {
         "fill": "tonexty",
         "fillcolor": "rgba(44, 160, 44, 0.1)",
         "legendgroup": "('llama3.1_8b_chat', 'cities_10k', 'base', 'main', 'prompt_answer')",
         "line": {
          "width": 0
         },
         "mode": "lines",
         "name": "('llama3.1_8b_chat', 'cities_10k', 'base', 'main', 'prompt_answer') Min",
         "showlegend": false,
         "type": "scatter",
         "x": {
          "bdata": "AAECAwQFBgcICQoLDA0ODxAREhMUFRYXGBkaGxwdHh8=",
          "dtype": "i1"
         },
         "y": {
          "bdata": "2gXEptKQ4z83+LflTIfjP/eeIl0FieM/16NwPQrX4z8R1i2qb8fjP2ehSc0HsOM/9DzP8zzP4z9HppetDP7jP0eml60M/uM/CLAzbhaa5D8fhetRuB7lP0T2JR8gaeQ/EiL7kg+Q5D8IsDNuFprkP9HfyWp5Y+Q/seQXS36x5D/FV3zFV3zlP5LpZSuD/+Q/+gB2xs1C4z/ueCghrFvkP1sZ/CfmyOQ/Z6FJzQew4z/mjRFM9HfiP9ejcD0K1+M//WLJL5b84j82lYac++ziP4ec++wCYuM/bWXwn5gj4z9qA5020GnjP9RBHdRBHeQ/H8DOuFlo4j8EJI1ZPK7jPw==",
          "dtype": "f8"
         }
        },
        {
         "legendgroup": "('llama3.1_8b_chat', 'cities_10k', 'base', 'main', 'prompt_answer')",
         "line": {
          "width": 0
         },
         "mode": "lines",
         "name": "('llama3.1_8b_chat', 'cities_10k', 'base', 'main', 'prompt_answer') +1 STD",
         "showlegend": false,
         "type": "scatter",
         "x": {
          "bdata": "AAECAwQFBgcICQoLDA0ODxAREhMUFRYXGBkaGxwdHh8=",
          "dtype": "i1"
         },
         "y": {
          "bdata": "LR6qlFci5D+Pf60NZNPjPxhySbW+K+Q/hhwF1slB5D/H0LB5gGjkPw9NRnubn+Q/cxUeoG/J5D8Es++y2YzkP58RDGVkBeU/vUGB5SI65T81cZXseoXlP4gissEGq+U/j0tZZ/PG5T+6yKZi/QDmPyxiWiQrFeY/B/5oVgBZ5j/uMBPBL1XmP0DHOkqAM+Y/vllX/wqy5T+cpaLMEJzlP6egb/yVG+U/blQL6nf55T//QhJJPijmP0VcZM4l/eU/qrI4JayF5T9EXqa17wflP060kHM/IOU//sHIKhc35D+3i263BZbkP7/0ItTfOuU/6a615Um95T9ip/u0odLkPw==",
          "dtype": "f8"
         }
        },
        {
         "fill": "tonexty",
         "fillcolor": "rgba(44, 160, 44, 0.3)",
         "legendgroup": "('llama3.1_8b_chat', 'cities_10k', 'base', 'main', 'prompt_answer')",
         "line": {
          "width": 0
         },
         "mode": "lines",
         "name": "('llama3.1_8b_chat', 'cities_10k', 'base', 'main', 'prompt_answer') -1 STD",
         "showlegend": false,
         "type": "scatter",
         "x": {
          "bdata": "AAECAwQFBgcICQoLDA0ODxAREhMUFRYXGBkaGxwdHh8=",
          "dtype": "i1"
         },
         "y": {
          "bdata": "74gCYoN+4z/j0V+enoLjP9wozxWDmuM/KubBEbPY4z+d7UkvNLjjP730YOyeqeM/8eDFLPG34z8mjHBRBwHkP5Fq2pKw9eM/TwpgM7Wk5D8Pf5Nl/CDlP6zlrecwiOQ/RfnuTSue5D+ayOTUK7jkP/hkwKHZhOQ/L8JcJOLc5D9W8TQo7oLlP4ytx5WIOuU/TN/viE3u4z9yS2RTYW7kP4NPuUyazOQ/VGR0M0gz5D9t4YARBl/jPzcqsfpZLOQ/uoahYX8w4z9ywY+yM93iP3JAjNSxc+M/tmkMQJEx4z9j8Hc3yKbjP/Vh2tqkT+Q/02q29dP44j+IJ6EQvI/jPw==",
          "dtype": "f8"
         }
        },
        {
         "legendgroup": "('llama3.1_8b_chat', 'cities_10k', 'base', 'main', 'prompt_answer')",
         "marker": {
          "color": "#2ca02c",
          "opacity": 0.5,
          "size": 6
         },
         "mode": "markers",
         "name": "('llama3.1_8b_chat', 'cities_10k', 'base', 'main', 'prompt_answer') Fold ('direction_accuracy_score', 0)",
         "showlegend": false,
         "type": "scatter",
         "x": {
          "bdata": "AAECAwQFBgcICQoLDA0ODxAREhMUFRYXGBkaGxwdHh8=",
          "dtype": "i1"
         },
         "y": {
          "bdata": "2gXEptKQ4z/3niJdBYnjP/eeIl0FieM/16NwPQrX4z8R1i2qb8fjP9ejcD0K1+M/nnGz0KTm4z9HppetDP7jP9RBHdRBHeQ/Iuc+u4DY5D+pvh0PJYTlPzZaozVao+U/hmEYhmEY5j/2Yz/2Yz/mP5VLuZRLueQ/yxsjmOjv5D+MJb9Y8ovlP8P1KFyPwuU/r4LE4bX35D/ueCghrFvkP1i3qL4dD+U/Ox5KCOsW5T+vgsThtffkPz6AnXGz0OQ//WLJL5b84j8WmtR8ADvjP6DTBjptoOM/UMyR6WUr4z+ecbPQpObjP8sbI5jo7+Q/tEZrtEZr5D+3qL4dDyXkPw==",
          "dtype": "f8"
         }
        },
        {
         "legendgroup": "('llama3.1_8b_chat', 'cities_10k', 'base', 'main', 'prompt_answer')",
         "marker": {
          "color": "#2ca02c",
          "opacity": 0.5,
          "size": 6
         },
         "mode": "markers",
         "name": "('llama3.1_8b_chat', 'cities_10k', 'base', 'main', 'prompt_answer') Fold ('direction_accuracy_score', 1)",
         "showlegend": false,
         "type": "scatter",
         "x": {
          "bdata": "AAECAwQFBgcICQoLDA0ODxAREhMUFRYXGBkaGxwdHh8=",
          "dtype": "i1"
         },
         "y": {
          "bdata": "LW+MYKK/4z+g0wY6baDjP7oKEofX3uM/R6aXrQz+4z/Xo3A9CtfjP7oKEofX3uM/9DzP8zzP4z9HppetDP7jPwsSh9feU+Q/Iuc+u4DY5D8C7IybhSblPwiwM24WmuQ/Iuc+u4DY5D/LGyOY6O/kPxnBRH8nq+U/T5GugsTh5T+j+nY8lBDmPzZaozVao+U/5VIu5VIu5T+PhxLCukXlP1sZ/CfmyOQ/o/p2PJQQ5j/fjocSwrrlPzZaozVao+U/nnGz0KTm4z+B2FQacu7jP5itDP4Tc+Q/mw9gZ9ws5D9B4vDae4rkP0Hi8Np7iuQ/1EEd1EEd5D+bD2Bn3CzkPw==",
          "dtype": "f8"
         }
        },
        {
         "legendgroup": "('llama3.1_8b_chat', 'cities_10k', 'base', 'main', 'prompt_answer')",
         "marker": {
          "color": "#2ca02c",
          "opacity": 0.5,
          "size": 6
         },
         "mode": "markers",
         "name": "('llama3.1_8b_chat', 'cities_10k', 'base', 'main', 'prompt_answer') Fold ('direction_accuracy_score', 2)",
         "showlegend": false,
         "type": "scatter",
         "x": {
          "bdata": "AAECAwQFBgcICQoLDA0ODxAREhMUFRYXGBkaGxwdHh8=",
          "dtype": "i1"
         },
         "y": {
          "bdata": "D0fRT2LN4z83+LflTIfjPySNWTyuC+Q/8bgusJ0y5D/823Kmw1HkPxIi+5IPkOQ/HEU/iTWv5D/UKowQ2ZfkP99N0Ab/tuQ/t5zpcBT95D9nOhxFP4nlP0T2JR8gaeQ/EiL7kg+Q5D81ZvG4LrDlP9cFtlOGWuU/5QMkjVk85j/6Sax5pXrmP+8maIN/W+Y/XBfYThlq5T8fIGnM4nHlP/+2nOlwFOU/KkOtwgiR5T/PvZugDf7lP+UDJI1ZPOY/ksYsHtcF5j/3boI2+LflP6Uxi8d1geU/GWoVRojs4z93ylCrMELkPxT9JNa8UuU/ahVGiOxL5j8EJI1ZPK7jPw==",
          "dtype": "f8"
         }
        },
        {
         "legendgroup": "('llama3.1_8b_chat', 'cities_10k', 'base', 'main', 'prompt_answer')",
         "marker": {
          "color": "#2ca02c",
          "opacity": 0.5,
          "size": 6
         },
         "mode": "markers",
         "name": "('llama3.1_8b_chat', 'cities_10k', 'base', 'main', 'prompt_answer') Fold ('direction_accuracy_score', 3)",
         "showlegend": false,
         "type": "scatter",
         "x": {
          "bdata": "AAECAwQFBgcICQoLDA0ODxAREhMUFRYXGBkaGxwdHh8=",
          "dtype": "i1"
         },
         "y": {
          "bdata": "7ngoIaxb5D+ecbPQpObjP0REREREROQ/CxKH195T5D9B4vDae4rkP3iyWt4YweQ/r4LE4bX35D/ueCghrFvkP3LuswuITeU/HCOY6O9k5T9y7rMLiE3lP6wgcXjtPeU/cu6zC4hN5T9VVVVVVVXlP4P/xByZXuY/2crgPzFH5j/Ak9XyxgjmP4nDa+8p0uU/rCBxeO095T9S8wHsjJvlP1i3qL4dD+U/Z6FJzQew4z/mjRFM9HfiP9ejcD0K1+M/nnGz0KTm4z+B2FQacu7jP3sUrkfheuQ/1EEd1EEd5D97FK5H4XrkP8sbI5jo7+Q/QeLw2nuK5D+sIHF47T3lPw==",
          "dtype": "f8"
         }
        },
        {
         "legendgroup": "('llama3.1_8b_chat', 'cities_10k', 'base', 'main', 'prompt_answer')",
         "marker": {
          "color": "#2ca02c",
          "opacity": 0.5,
          "size": 6
         },
         "mode": "markers",
         "name": "('llama3.1_8b_chat', 'cities_10k', 'base', 'main', 'prompt_answer') Fold ('direction_accuracy_score', 4)",
         "showlegend": false,
         "type": "scatter",
         "x": {
          "bdata": "AAECAwQFBgcICQoLDA0ODxAREhMUFRYXGBkaGxwdHh8=",
          "dtype": "i1"
         },
         "y": {
          "bdata": "vWxl8J+Y4z8tb4xgor/jP0oI6xbVt+M/nnGz0KTm4z/Xo3A9CtfjP2ehSc0HsOM/nnGz0KTm4z+YrQz+E3PkP0eml60M/uM/CLAzbhaa5D8fhetRuB7lP1LzAeyMm+U/5VIu5VIu5T8IsDNuFprkP9HfyWp5Y+Q/seQXS36x5D/FV3zFV3zlP5LpZSuD/+Q/+gB2xs1C4z+0Rmu0RmvkP1sZ/CfmyOQ/dVAHdVAH5T/OfXYBsankPwVO4ARO4OQ/r4LE4bX35D82lYac++ziP4ec++wCYuM/bWXwn5gj4z9qA5020GnjP9RBHdRBHeQ/H8DOuFlo4j9KCOsW1bfjPw==",
          "dtype": "f8"
         }
        },
        {
         "legendgroup": "('llama3.1_8b_chat', 'cities_10k', 'base', 'main', 'prompt_only')",
         "line": {
          "color": "#d62728",
          "width": 2
         },
         "marker": {
          "size": 8
         },
         "mode": "lines+markers",
         "name": "('llama3.1_8b_chat', 'cities_10k', 'base', 'main', 'prompt_only')",
         "type": "scatter",
         "x": {
          "bdata": "AAECAwQFBgcICQoLDA0ODxAREhMUFRYXGBkaGxwdHh8=",
          "dtype": "i1"
         },
         "y": {
          "bdata": "9pi+R//C4D/Y0uEE3lDhP6iYIGn5ReE/8qUy40424T+l9CnBmHHhP0l7ij5rruE/bYgprUQd4j9yByZ8WfHiP0IntrMy/OI/MEJS0XUg4j+PuIyNIEziPxd5jqo5QeI/7iy+RTnr4j/HZKn5EgTjP2YdJ2zQPeM/2aO4dfxc4z/OJvZIYXTjP1omh11AY+M/q7NvSwNd4z/WFGVirVPjP57LeT8MNuM/I8fJRlQj4z/SLvjeaxjjP6J5/Z6hEOM/yxLc2fdn4z/ZBhciBavjP6aMasxpm+M/YQCvpGuC4z/WNMQNLXzjP7oW8HqQ9+I/mCmMmz3u4j9241bHFp3iPw==",
          "dtype": "f8"
         }
        },
        {
         "legendgroup": "('llama3.1_8b_chat', 'cities_10k', 'base', 'main', 'prompt_only')",
         "line": {
          "width": 0
         },
         "mode": "lines",
         "name": "('llama3.1_8b_chat', 'cities_10k', 'base', 'main', 'prompt_only') Max",
         "showlegend": false,
         "type": "scatter",
         "x": {
          "bdata": "AAECAwQFBgcICQoLDA0ODxAREhMUFRYXGBkaGxwdHh8=",
          "dtype": "i1"
         },
         "y": {
          "bdata": "gRM4gRM44T/eBG3wb8vhP1+2MvhPzOE/O2WoVRgh4j/BdspQqzDiPx7XBbZThuI/AidwAidw4j/0PM/zPM/jPwiwM24WmuQ/CLAzbhaa5D8IsDNuFprkP7HkF0t+seQ/XntPka6C5D/rFtW346HkPz6AnXGz0OQ/CLAzbhaa5D/0PM/zPM/jP7eovh0PJeQ/mw9gZ9ws5D9h3aL6djzkP2Q/9mM/9uM/Z6FJzQew4z8R1i2qb8fjP2ehSc0HsOM/1EEd1EEd5D8nq+WNEUzkP0eml60M/uM/1EEd1EEd5D/x2nuKdBXkP3TvJmiDf+M/agOdNtBp4z+coA3+bTnjPw==",
          "dtype": "f8"
         }
        },
        {
         "fill": "tonexty",
         "fillcolor": "rgba(214, 39, 40, 0.1)",
         "legendgroup": "('llama3.1_8b_chat', 'cities_10k', 'base', 'main', 'prompt_only')",
         "line": {
          "width": 0
         },
         "mode": "lines",
         "name": "('llama3.1_8b_chat', 'cities_10k', 'base', 'main', 'prompt_only') Min",
         "showlegend": false,
         "type": "scatter",
         "x": {
          "bdata": "AAECAwQFBgcICQoLDA0ODxAREhMUFRYXGBkaGxwdHh8=",
          "dtype": "i1"
         },
         "y": {
          "bdata": "7pShVmGE4D+n0pBzn13gP4o5Mr1sZeA/GjcLTWo+4D+n0pBzn13gP42bhSY1H+A/Jh8gaczi4T8LTWo+gJ3hPxRzZHrZyuA/2kCnDXTa4D9n3Cw0qfngP2fcLDSp+eA/X7Yy+E/M4T947T1FugriPwWJw2vvKeI/XFTfjocS4j9wx0MJYd3iP6n5AHbGzeI/NpWGnPvs4j+GWoURIvviP/YlHyBpzOI/cRT9JNa84j+k6Cex5pXiP5nF47rAduI/AUljFo/r4j9pzOJxXWDjP/oAdsbNQuM/wzAMwzAM4z+ml60M/hPjPwWJw2vvKeI/5o0RTPR34j92i+rb8VDiPw==",
          "dtype": "f8"
         }
        },
        {
         "legendgroup": "('llama3.1_8b_chat', 'cities_10k', 'base', 'main', 'prompt_only')",
         "line": {
          "width": 0
         },
         "mode": "lines",
         "name": "('llama3.1_8b_chat', 'cities_10k', 'base', 'main', 'prompt_only') +1 STD",
         "showlegend": false,
         "type": "scatter",
         "x": {
          "bdata": "AAECAwQFBgcICQoLDA0ODxAREhMUFRYXGBkaGxwdHh8=",
          "dtype": "i1"
         },
         "y": {
          "bdata": "LjDslHwJ4T9fXAjNM+vhPz/+sXcr1eE/U8fA8xrp4T/Hfc+LQCfiPxzNctfZrOI/+GZH4jFW4j/kMQ3znMnjP65NCfYmo+Q/0k617Ima4z+Rhz14XLPjP2ImBksbveM/J4GFDXwR5D+DeT/cHBDkP2EB0eN7OeQ/c5V625hD5D9scjojH9rjPynAFi793uM/fRW2lUvW4z/lUN1V393jP5XS6SH3s+M/JxzBQ3d74z83tBYEE5PjP0R4RIq9f+M/qvPpyCPa4z/BEdrGzA3kP6L8eJkJ6eM/Io1xxtDq4z/2g+r4ruTjP7SDIUFsduM/nZy16jJQ4z+bvzWhF/viPw==",
          "dtype": "f8"
         }
        },
        {
         "fill": "tonexty",
         "fillcolor": "rgba(214, 39, 40, 0.3)",
         "legendgroup": "('llama3.1_8b_chat', 'cities_10k', 'base', 'main', 'prompt_only')",
         "line": {
          "width": 0
         },
         "mode": "lines",
         "name": "('llama3.1_8b_chat', 'cities_10k', 'base', 'main', 'prompt_only') -1 STD",
         "showlegend": false,
         "type": "scatter",
         "x": {
          "bdata": "AAECAwQFBgcICQoLDA0ODxAREhMUFRYXGBkaGxwdHh8=",
          "dtype": "i1"
         },
         "y": {
          "bdata": "vgGR+oF84D9RSbs8iLbgPxEzj1rHtuA/kYSk0oKD4D+Da4T28LvgP3YpoqX8r+A/4qkLeFfk4T8A3T4FFhniP9YAY3E+VeE/jjXvtWGm4D+N6dui5OTgP8zLFgpYxeA/tdj2ffbE4T8LUBMXCfjhP2s5ffQkQuI/P7L2D2B24j8w27Fuow7jP4uM94yD5+I/2VEpAbvj4j/H2Oxue8niP6fECV0huOI/H3LSSTHL4j9tqdm5xJ3iPwB7trOFoeI/7DHO6sv14j/x+1N9PUjjP6ocXP/JTeM/oHPsggYa4z+25Z0iqxPjP8CpvrS0eOI/k7ZiTEiM4j9RB3jtFT/iPw==",
          "dtype": "f8"
         }
        },
        {
         "legendgroup": "('llama3.1_8b_chat', 'cities_10k', 'base', 'main', 'prompt_only')",
         "marker": {
          "color": "#d62728",
          "opacity": 0.5,
          "size": 6
         },
         "mode": "markers",
         "name": "('llama3.1_8b_chat', 'cities_10k', 'base', 'main', 'prompt_only') Fold ('direction_accuracy_score', 0)",
         "showlegend": false,
         "type": "scatter",
         "x": {
          "bdata": "AAECAwQFBgcICQoLDA0ODxAREhMUFRYXGBkaGxwdHh8=",
          "dtype": "i1"
         },
         "y": {
          "bdata": "TqUh5z674D+n0pBzn13gP4o5Mr1sZeA/GjcLTWo+4D+n0pBzn13gP42bhSY1H+A/XFTfjocS4j+HnPvsAmLjP7oKEofX3uM/XFTfjocS4j/p72S1vDHiPx/AzrhZaOI/Z6FJzQew4z/rFtW346HkPz6AnXGz0OQ/CLAzbhaa5D9KCOsW1bfjP2oDnTbQaeM/FprUfAA74z/9YskvlvziP4xgor+T1eI/bWXwn5gj4z9TLuVSLuXiP+DJanljBOM/UMyR6WUr4z9qA5020GnjP/oAdsbNQuM/3WcXEJtK4z+ml60M/hPjPwWJw2vvKeI/VpA4vPae4j92i+rb8VDiPw==",
          "dtype": "f8"
         }
        },
        {
         "legendgroup": "('llama3.1_8b_chat', 'cities_10k', 'base', 'main', 'prompt_only')",
         "marker": {
          "color": "#d62728",
          "opacity": 0.5,
          "size": 6
         },
         "mode": "markers",
         "name": "('llama3.1_8b_chat', 'cities_10k', 'base', 'main', 'prompt_only') Fold ('direction_accuracy_score', 1)",
         "showlegend": false,
         "type": "scatter",
         "x": {
          "bdata": "AAECAwQFBgcICQoLDA0ODxAREhMUFRYXGBkaGxwdHh8=",
          "dtype": "i1"
         },
         "y": {
          "bdata": "gRM4gRM44T/SGq3RGq3hP1+2MvhPzOE/SOF6FK5H4T8lhHWL6tvhP8n0spXBf+I/z7hZaFLz4T8LTWo+gJ3hP9IardEareE/z7hZaFLz4T92i+rb8VDiP5WGnPvsAuI/j8L1KFyP4j/DMAzDMAzjP91nFxCbSuM/h5z77AJi4z/0PM/zPM/jP7eovh0PJeQ/mw9gZ9ws5D9h3aL6djzkP2Q/9mM/9uM/ppetDP4T4z+HnPvsAmLjP2ehSc0HsOM/1EEd1EEd5D8R1i2qb8fjP/eeIl0FieM/agOdNtBp4z/AzrhZaFLjPzMzMzMzM+M/wzAMwzAM4z8cXntPka7iPw==",
          "dtype": "f8"
         }
        },
        {
         "legendgroup": "('llama3.1_8b_chat', 'cities_10k', 'base', 'main', 'prompt_only')",
         "marker": {
          "color": "#d62728",
          "opacity": 0.5,
          "size": 6
         },
         "mode": "markers",
         "name": "('llama3.1_8b_chat', 'cities_10k', 'base', 'main', 'prompt_only') Fold ('direction_accuracy_score', 2)",
         "showlegend": false,
         "type": "scatter",
         "x": {
          "bdata": "AAECAwQFBgcICQoLDA0ODxAREhMUFRYXGBkaGxwdHh8=",
          "dtype": "i1"
         },
         "y": {
          "bdata": "7pShVmGE4D/eBG3wb8vhP0OtwgiRfeE/O2WoVRgh4j/BdspQqzDiPx7XBbZThuI/Jh8gaczi4T+coA3+bTnjP597N0Eb/OM/5kyHo+gn4T/7kg+QNGbhP6hVGCGyL+E/80r13LsJ4j+coA3+bTnjPxaP6wLbKeM/N/i35UyH4z9BG/zbcqbjPyGyL/kASeM/XqmeezdB4z+GWoURIvviP/YlHyBpzOI/cRT9JNa84j+k6Cex5pXiP5nF47rAduI/AUljFo/r4j9pzOJxXWDjPyzVc+8maOM/BCSNWTyu4z/HLB7XBbbjP3TvJmiDf+M/kX3JB0ga4z+coA3+bTnjPw==",
          "dtype": "f8"
         }
        },
        {
         "legendgroup": "('llama3.1_8b_chat', 'cities_10k', 'base', 'main', 'prompt_only')",
         "marker": {
          "color": "#d62728",
          "opacity": 0.5,
          "size": 6
         },
         "mode": "markers",
         "name": "('llama3.1_8b_chat', 'cities_10k', 'base', 'main', 'prompt_only') Fold ('direction_accuracy_score', 3)",
         "showlegend": false,
         "type": "scatter",
         "x": {
          "bdata": "AAECAwQFBgcICQoLDA0ODxAREhMUFRYXGBkaGxwdHh8=",
          "dtype": "i1"
         },
         "y": {
          "bdata": "3aL6djyU4D/SGq3RGq3hPwtNaj6AneE/frHkF0t+4T+7RfXteCjhP/EVX/EVX+E/AidwAidw4j/0PM/zPM/jPwiwM24WmuQ/CLAzbhaa5D8IsDNuFprkP7HkF0t+seQ/XntPka6C5D8iIiIiIiLiP8aSXyz5xeI/FprUfAA74z8WmtR8ADvjP91nFxCbSuM/FprUfAA74z/gyWp5YwTjP+DJanljBOM/wzAMwzAM4z+MYKK/k9XiP4r+TlbLG+M/h5z77AJi4z8w0d/JannjP9ejcD0K1+M/wzAMwzAM4z8WmtR8ADvjP/1iyS+W/OI/5o0RTPR34j8CJ3ACJ3DiPw==",
          "dtype": "f8"
         }
        },
        {
         "legendgroup": "('llama3.1_8b_chat', 'cities_10k', 'base', 'main', 'prompt_only')",
         "marker": {
          "color": "#d62728",
          "opacity": 0.5,
          "size": 6
         },
         "mode": "markers",
         "name": "('llama3.1_8b_chat', 'cities_10k', 'base', 'main', 'prompt_only') Fold ('direction_accuracy_score', 4)",
         "showlegend": false,
         "type": "scatter",
         "x": {
          "bdata": "AAECAwQFBgcICQoLDA0ODxAREhMUFRYXGBkaGxwdHh8=",
          "dtype": "i1"
         },
         "y": {
          "bdata": "MQzDMAzD4D8RERERERHhPxEREREREeE/oQ7qoA7q4D/uswuITaXhPwjrFtW34+E/zFYG/4k54j8cXntPka7iPxRzZHrZyuA/2kCnDXTa4D9n3Cw0qfngP2fcLDSp+eA/X7Yy+E/M4T947T1FugriPwWJw2vvKeI/XFTfjocS4j9wx0MJYd3iP6n5AHbGzeI/NpWGnPvs4j9qA5020GnjP01qPoCdceM/Z6FJzQew4z8R1i2qb8fjP8MwDMMwDOM/TWo+gJ1x4z8nq+WNEUzkP0eml60M/uM/1EEd1EEd5D/x2nuKdBXkP/1iyS+W/OI/agOdNtBp4z8fwM64WWjiPw==",
          "dtype": "f8"
         }
        },
        {
         "legendgroup": "('llama3.1_8b_chat', 'football_leagues_1k', 'base', 'main', 'prompt_answer')",
         "line": {
          "color": "#9467bd",
          "width": 2
         },
         "marker": {
          "size": 8
         },
         "mode": "lines+markers",
         "name": "('llama3.1_8b_chat', 'football_leagues_1k', 'base', 'main', 'prompt_answer')",
         "type": "scatter",
         "x": {
          "bdata": "AAECAwQFBgcICQoLDA0ODxAREhMUFRYXGBkaGxwdHh8=",
          "dtype": "i1"
         },
         "y": {
          "bdata": "fPDBBx984D/44IMPPvjgPwnylCBPCeI/VII8JchT4j+eEuQpQZ7iP/HBBx988OE/8MEHH3zw4T+NAdMYMI3hPwnylCBPCeI/dNFFF1104T8qQZ4S5CnhP2vfsPYNa98/37D2DWvf4D9KkKcEeUrgP40B0xgwjeE/Y8A0Bkxj4D+VIE8J8pTgPxkwjQHTGOA/GTCNAdMY4D9jwDQGTGPgP65Q3ArFreA/GTCNAdMY4D988MEHH3zgP8aAaQyYxuA/xoBpDJjG4D+dP8v5s5zfP2PANAZMY+A/nT/L+bOc3z+dP8v5s5zfP86f5fxZzt8/lSBPCfKU4D+uUNwKxa3gPw==",
          "dtype": "f8"
         }
        },
        {
         "legendgroup": "('llama3.1_8b_chat', 'football_leagues_1k', 'base', 'main', 'prompt_answer')",
         "line": {
          "width": 0
         },
         "mode": "lines",
         "name": "('llama3.1_8b_chat', 'football_leagues_1k', 'base', 'main', 'prompt_answer') Max",
         "showlegend": false,
         "type": "scatter",
         "x": {
          "bdata": "AAECAwQFBgcICQoLDA0ODxAREhMUFRYXGBkaGxwdHh8=",
          "dtype": "i1"
         },
         "y": {
          "bdata": "6aKLLrro4j/poosuuujiP1VVVVVVVeU/XXTRRRdd5D9ddNFFF13kP0422WSTTeY/yiabbLLJ5j9VVVVVVVXlP1VVVVVVVeU/ZZNNNtlk4z9VVVVVVVXlP/jggw8++OA/8MEHH3zw4T/44IMPPvjgP+GDDz744OM/6aKLLrro4j/wwQcffPDhP/jggw8++OA/8MEHH3zw4T/44IMPPvjgP+miiy666OI/+OCDDz744D/44IMPPvjgP/jggw8++OA/bbLJJpts4j988MEHH3zgP/jggw8++OA/+OCDDz744D/44IMPPvjgP3TRRRdddOE/8MEHH3zw4T9tsskmm2ziPw==",
          "dtype": "f8"
         }
        },
        {
         "fill": "tonexty",
         "fillcolor": "rgba(148, 103, 189, 0.1)",
         "legendgroup": "('llama3.1_8b_chat', 'football_leagues_1k', 'base', 'main', 'prompt_answer')",
         "line": {
          "width": 0
         },
         "mode": "lines",
         "name": "('llama3.1_8b_chat', 'football_leagues_1k', 'base', 'main', 'prompt_answer') Min",
         "showlegend": false,
         "type": "scatter",
         "x": {
          "bdata": "AAECAwQFBgcICQoLDA0ODxAREhMUFRYXGBkaGxwdHh8=",
          "dtype": "i1"
         },
         "y": {
          "bdata": "ED744IMP3j8HH3zwwQffP/jggw8++OA/fPDBBx984D988MEHH3zgPwcffPDBB98/Bx988MEH3z8HH3zwwQffPxA++OCDD94/Bx988MEH3z8HH3zwwQffPxZddNFFF90/Bx988MEH3z8AAAAAAADgPwAAAAAAAOA/Jptssskm2z8AAAAAAADgPwcffPDBB98/H3zwwQcf3D8AAAAAAADgPwcffPDBB98/ED744IMP3j8AAAAAAADgP3zwwQcffOA/AAAAAAAA4D8WXXTRRRfdPwcffPDBB98/Fl100UUX3T8WXXTRRRfdPxZddNFFF90/ED744IMP3j8ffPDBBx/cPw==",
          "dtype": "f8"
         }
        },
        {
         "legendgroup": "('llama3.1_8b_chat', 'football_leagues_1k', 'base', 'main', 'prompt_answer')",
         "line": {
          "width": 0
         },
         "mode": "lines",
         "name": "('llama3.1_8b_chat', 'football_leagues_1k', 'base', 'main', 'prompt_answer') +1 STD",
         "showlegend": false,
         "type": "scatter",
         "x": {
          "bdata": "AAECAwQFBgcICQoLDA0ODxAREhMUFRYXGBkaGxwdHh8=",
          "dtype": "i1"
         },
         "y": {
          "bdata": "kSSwf6AE4j9EnDjtcIriP+XOZAA57eM/mT96vCvz4z/GrVkj2APkP0jtPCFTmOQ/zm3StgXU5D9fVfiTyO/jP5iHE2mlkOQ/MVoWdkcZ4z9hCZFyApTjP7BOSRbptuA/L9W/rYHs4T/NtiJ4fbngP+t724MkUOM/vjuB8RpP4j+bbUXw+nLhP5EFy87KoOA/7eDicU2R4T+0LwTsJMvgP+9lXt9rCOI/onMN/uzQ4D891qRe49PgP4JrCPOTCuE/NG9R/Iy44T9xfoTIC57gP8dlVJghBeE/yX7WF7zP4D/JftYXvM/gP8kjytaCD+E/5UQYqQii4T+76sjY1mniPw==",
          "dtype": "f8"
         }
        },
        {
         "fill": "tonexty",
         "fillcolor": "rgba(148, 103, 189, 0.3)",
         "legendgroup": "('llama3.1_8b_chat', 'football_leagues_1k', 'base', 'main', 'prompt_answer')",
         "line": {
          "width": 0
         },
         "mode": "lines",
         "name": "('llama3.1_8b_chat', 'football_leagues_1k', 'base', 'main', 'prompt_answer') -1 STD",
         "showlegend": false,
         "type": "scatter",
         "x": {
          "bdata": "AAECAwQFBgcICQoLDA0ODxAREhMUFRYXGBkaGxwdHh8=",
          "dtype": "i1"
         },
         "y": {
          "bdata": "z3inHzvn3T9YS55jFszePy0VxUBlJeA/D8X+jWS04D92d24wqjjhPzMtpTlKkd4/Iyx6DuUZ3j92W1s7L1XeP/S4LLDxA98/b5HqcOWe3z/m8VZli3/dP3Yhz8BJaN0/HRlb3Kik3z+O01gi6bbfP18OlVt3lN8/EIrQNfru3D8dp7FE0m3fP0K1nmi2Id8/if5uIrFA3T8kospA5vbfP9l2tGw8pt4/INkZCnLB3j+7Ct+wWiTgPwqWyiWcguA/ryQDOUap3z9Xgo1iUP3dP/81Kujsgt8/qIHpw++Z3T+ogenD75ndPwr4Nkyufd0/ivgL07YP3z9Cbd95ZuPdPw==",
          "dtype": "f8"
         }
        },
        {
         "legendgroup": "('llama3.1_8b_chat', 'football_leagues_1k', 'base', 'main', 'prompt_answer')",
         "marker": {
          "color": "#9467bd",
          "opacity": 0.5,
          "size": 6
         },
         "mode": "markers",
         "name": "('llama3.1_8b_chat', 'football_leagues_1k', 'base', 'main', 'prompt_answer') Fold ('direction_accuracy_score', 0)",
         "showlegend": false,
         "type": "scatter",
         "x": {
          "bdata": "AAECAwQFBgcICQoLDA0ODxAREhMUFRYXGBkaGxwdHh8=",
          "dtype": "i1"
         },
         "y": {
          "bdata": "6aKLLrro4j/poosuuujiP1VVVVVVVeU/XXTRRRdd5D9ddNFFF13kP0422WSTTeY/yiabbLLJ5j9VVVVVVVXlP1VVVVVVVeU/6aKLLrro4j9VVVVVVVXlP3zwwQcffOA/8MEHH3zw4T/44IMPPvjgP+GDDz744OM/6aKLLrro4j/wwQcffPDhP/jggw8++OA/AAAAAAAA4D8AAAAAAADgPwAAAAAAAOA/AAAAAAAA4D988MEHH3zgP/jggw8++OA/fPDBBx984D988MEHH3zgP3zwwQcffOA/fPDBBx984D988MEHH3zgP3TRRRdddOE/8MEHH3zw4T9tsskmm2ziPw==",
          "dtype": "f8"
         }
        },
        {
         "legendgroup": "('llama3.1_8b_chat', 'football_leagues_1k', 'base', 'main', 'prompt_answer')",
         "marker": {
          "color": "#9467bd",
          "opacity": 0.5,
          "size": 6
         },
         "mode": "markers",
         "name": "('llama3.1_8b_chat', 'football_leagues_1k', 'base', 'main', 'prompt_answer') Fold ('direction_accuracy_score', 1)",
         "showlegend": false,
         "type": "scatter",
         "x": {
          "bdata": "AAECAwQFBgcICQoLDA0ODxAREhMUFRYXGBkaGxwdHh8=",
          "dtype": "i1"
         },
         "y": {
          "bdata": "Bx988MEH3z8HH3zwwQffP/DBBx988OE/bbLJJpts4j9tsskmm2ziP22yySabbOI/dNFFF1104T8AAAAAAADgP/jggw8++OA/+OCDDz744D8HH3zwwQffPxZddNFFF90/Bx988MEH3z8AAAAAAADgP/jggw8++OA/AAAAAAAA4D8AAAAAAADgPwAAAAAAAOA/+OCDDz744D/44IMPPvjgP+miiy666OI/AAAAAAAA4D988MEHH3zgP3zwwQcffOA/AAAAAAAA4D8AAAAAAADgP/jggw8++OA/+OCDDz744D/44IMPPvjgP3zwwQcffOA/fPDBBx984D/44IMPPvjgPw==",
          "dtype": "f8"
         }
        },
        {
         "legendgroup": "('llama3.1_8b_chat', 'football_leagues_1k', 'base', 'main', 'prompt_answer')",
         "marker": {
          "color": "#9467bd",
          "opacity": 0.5,
          "size": 6
         },
         "mode": "markers",
         "name": "('llama3.1_8b_chat', 'football_leagues_1k', 'base', 'main', 'prompt_answer') Fold ('direction_accuracy_score', 2)",
         "showlegend": false,
         "type": "scatter",
         "x": {
          "bdata": "AAECAwQFBgcICQoLDA0ODxAREhMUFRYXGBkaGxwdHh8=",
          "dtype": "i1"
         },
         "y": {
          "bdata": "AAAAAAAA4D9tsskmm2ziP/jggw8++OA/ZZNNNtlk4z/poosuuujiP/jggw8++OA/8MEHH3zw4T9tsskmm2ziP+GDDz744OM/ZZNNNtlk4z/44IMPPvjgP/jggw8++OA/dNFFF1104T8AAAAAAADgP+miiy666OI/fPDBBx984D8AAAAAAADgPwAAAAAAAOA/8MEHH3zw4T988MEHH3zgP/jggw8++OA/ED744IMP3j8AAAAAAADgP/jggw8++OA/fPDBBx984D988MEHH3zgP/jggw8++OA/ED744IMP3j8QPvjggw/ePxA++OCDD94/ED744IMP3j8AAAAAAADgPw==",
          "dtype": "f8"
         }
        },
        {
         "legendgroup": "('llama3.1_8b_chat', 'football_leagues_1k', 'base', 'main', 'prompt_answer')",
         "marker": {
          "color": "#9467bd",
          "opacity": 0.5,
          "size": 6
         },
         "mode": "markers",
         "name": "('llama3.1_8b_chat', 'football_leagues_1k', 'base', 'main', 'prompt_answer') Fold ('direction_accuracy_score', 3)",
         "showlegend": false,
         "type": "scatter",
         "x": {
          "bdata": "AAECAwQFBgcICQoLDA0ODxAREhMUFRYXGBkaGxwdHh8=",
          "dtype": "i1"
         },
         "y": {
          "bdata": "+OCDDz744D8AAAAAAADgP/jggw8++OA/+OCDDz744D/poosuuujiP3zwwQcffOA/Bx988MEH3z8HH3zwwQffPxA++OCDD94/Bx988MEH3z8HH3zwwQffPxA++OCDD94/AAAAAAAA4D8AAAAAAADgPwAAAAAAAOA/+OCDDz744D8AAAAAAADgPwAAAAAAAOA/Bx988MEH3z8AAAAAAADgPwAAAAAAAOA/fPDBBx984D988MEHH3zgP3zwwQcffOA/fPDBBx984D8HH3zwwQffPwAAAAAAAOA/AAAAAAAA4D8AAAAAAADgPwAAAAAAAOA/fPDBBx984D/wwQcffPDhPw==",
          "dtype": "f8"
         }
        },
        {
         "legendgroup": "('llama3.1_8b_chat', 'football_leagues_1k', 'base', 'main', 'prompt_answer')",
         "marker": {
          "color": "#9467bd",
          "opacity": 0.5,
          "size": 6
         },
         "mode": "markers",
         "name": "('llama3.1_8b_chat', 'football_leagues_1k', 'base', 'main', 'prompt_answer') Fold ('direction_accuracy_score', 4)",
         "showlegend": false,
         "type": "scatter",
         "x": {
          "bdata": "AAECAwQFBgcICQoLDA0ODxAREhMUFRYXGBkaGxwdHh8=",
          "dtype": "i1"
         },
         "y": {
          "bdata": "ED744IMP3j8AAAAAAADgP/jggw8++OA/fPDBBx984D988MEHH3zgPwcffPDBB98/AAAAAAAA4D988MEHH3zgP/jggw8++OA/fPDBBx984D988MEHH3zgPwcffPDBB98/dNFFF1104T988MEHH3zgPwAAAAAAAOA/Jptssskm2z/44IMPPvjgPwcffPDBB98/H3zwwQcf3D988MEHH3zgPwcffPDBB98/+OCDDz744D/44IMPPvjgP/jggw8++OA/bbLJJpts4j8WXXTRRRfdPwcffPDBB98/Fl100UUX3T8WXXTRRRfdPxZddNFFF90/+OCDDz744D8ffPDBBx/cPw==",
          "dtype": "f8"
         }
        },
        {
         "legendgroup": "('llama3.1_8b_chat', 'football_leagues_1k', 'base', 'main', 'prompt_only')",
         "line": {
          "color": "#8c564b",
          "width": 2
         },
         "marker": {
          "size": 8
         },
         "mode": "lines+markers",
         "name": "('llama3.1_8b_chat', 'football_leagues_1k', 'base', 'main', 'prompt_only')",
         "type": "scatter",
         "x": {
          "bdata": "AAECAwQFBgcICQoLDA0ODxAREhMUFRYXGBkaGxwdHh8=",
          "dtype": "i1"
         },
         "y": {
          "bdata": "zp/l/FnO3z/On+X8Wc7fP86f5fxZzt8/zp/l/FnO3z/On+X8Wc7fP86f5fxZzt8/zp/l/FnO3z8AAAAAAADgP86f5fxZzt8/On+W82c53z86f5bzZznfP86f5fxZzt8/AAAAAAAA4D/On+X8Wc7fPwAAAAAAAOA/nT/L+bOc3z900UUXXXThP0qQpwR5SuA/zp/l/FnO3z9jwDQGTGPgPwAAAAAAAOA/O1KvI/U64j/fsPYNa9/gP7dCcSsUt+I/Y8A0Bkxj4D8AAAAAAADgP50/y/mznN8/U4I8JchT4j9UgjwlyFPiPyIiIiIiIuI/fsPaN6x94z8qQZ4S5CnhPw==",
          "dtype": "f8"
         }
        },
        {
         "legendgroup": "('llama3.1_8b_chat', 'football_leagues_1k', 'base', 'main', 'prompt_only')",
         "line": {
          "width": 0
         },
         "mode": "lines",
         "name": "('llama3.1_8b_chat', 'football_leagues_1k', 'base', 'main', 'prompt_only') Max",
         "showlegend": false,
         "type": "scatter",
         "x": {
          "bdata": "AAECAwQFBgcICQoLDA0ODxAREhMUFRYXGBkaGxwdHh8=",
          "dtype": "i1"
         },
         "y": {
          "bdata": "AAAAAAAA4D8AAAAAAADgPwAAAAAAAOA/AAAAAAAA4D8AAAAAAADgPwAAAAAAAOA/AAAAAAAA4D8AAAAAAADgPwAAAAAAAOA/AAAAAAAA4D8AAAAAAADgPwAAAAAAAOA/AAAAAAAA4D8AAAAAAADgPwAAAAAAAOA/+OCDDz744D/hgw8++ODjP22yySabbOI/dNFFF1104T/poosuuujiP/jggw8++OA/TjbZZJNN5j/KJptsssnmP0422WSTTeY/8MEHH3zw4T8AAAAAAADgPwAAAAAAAOA/0UUXXXTR5T/KJptsssnmP0422WSTTeY/yiabbLLJ5j/hgw8++ODjPw==",
          "dtype": "f8"
         }
        },
        {
         "fill": "tonexty",
         "fillcolor": "rgba(140, 86, 75, 0.1)",
         "legendgroup": "('llama3.1_8b_chat', 'football_leagues_1k', 'base', 'main', 'prompt_only')",
         "line": {
          "width": 0
         },
         "mode": "lines",
         "name": "('llama3.1_8b_chat', 'football_leagues_1k', 'base', 'main', 'prompt_only') Min",
         "showlegend": false,
         "type": "scatter",
         "x": {
          "bdata": "AAECAwQFBgcICQoLDA0ODxAREhMUFRYXGBkaGxwdHh8=",
          "dtype": "i1"
         },
         "y": {
          "bdata": "Bx988MEH3z8HH3zwwQffPwcffPDBB98/Bx988MEH3z8HH3zwwQffPwcffPDBB98/Bx988MEH3z8AAAAAAADgPwcffPDBB98/ED744IMP3j8QPvjggw/ePwcffPDBB98/AAAAAAAA4D8HH3zwwQffPwAAAAAAAOA/ED744IMP3j8AAAAAAADgPx988MEHH9w/Fl100UUX3T8HH3zwwQffPxA++OCDD94/Ntlkk0022T8++OCDDz7YPwAAAAAAAOA/AAAAAAAA4D8AAAAAAADgPxA++OCDD94/AAAAAAAA4D8AAAAAAADgPwAAAAAAAOA/AAAAAAAA4D8AAAAAAADgPw==",
          "dtype": "f8"
         }
        },
        {
         "legendgroup": "('llama3.1_8b_chat', 'football_leagues_1k', 'base', 'main', 'prompt_only')",
         "line": {
          "width": 0
         },
         "mode": "lines",
         "name": "('llama3.1_8b_chat', 'football_leagues_1k', 'base', 'main', 'prompt_only') +1 STD",
         "showlegend": false,
         "type": "scatter",
         "x": {
          "bdata": "AAECAwQFBgcICQoLDA0ODxAREhMUFRYXGBkaGxwdHh8=",
          "dtype": "i1"
         },
         "y": {
          "bdata": "KWMwOK8e4D8pYzA4rx7gPyljMDivHuA/KWMwOK8e4D8pYzA4rx7gPyljMDivHuA/KWMwOK8e4D8AAAAAAADgPyljMDivHuA/FRUJx6sk4D8VFQnHqyTgPyljMDivHuA/AAAAAAAA4D8pYzA4rx7gPwAAAAAAAOA/cX6EyAue4D/MRLLxBhDjP7IQYWxg4uE/OPQ7nkP04D9AdQ/mZtHhP4LLxa2Ir+A/g/nvZnsW5j8Q+KCMKbrkP4Y85m2bFOU/aQ0r7VRB4T8AAAAAAADgP1LGYHBePeA/m+PU3eNN5T/n4XQ0jhnlP8doXj5IIuU/o//3np4W5j/p0yGgPbjiPw==",
          "dtype": "f8"
         }
        },
        {
         "fill": "tonexty",
         "fillcolor": "rgba(140, 86, 75, 0.3)",
         "legendgroup": "('llama3.1_8b_chat', 'football_leagues_1k', 'base', 'main', 'prompt_only')",
         "line": {
          "width": 0
         },
         "mode": "lines",
         "name": "('llama3.1_8b_chat', 'football_leagues_1k', 'base', 'main', 'prompt_only') -1 STD",
         "showlegend": false,
         "type": "scatter",
         "x": {
          "bdata": "AAECAwQFBgcICQoLDA0ODxAREhMUFRYXGBkaGxwdHh8=",
          "dtype": "i1"
         },
         "y": {
          "bdata": "SnlqiVVf3z9KeWqJVV/fP0p5aolVX98/SnlqiVVf3z9KeWqJVV/fP0p5aolVX98/SnlqiVVf3z8AAAAAAADgP0p5aolVX98/S9QaWXgp3j9L1BpZeCneP0p5aolVX98/AAAAAAAA4D9KeWqJVV/fPwAAAAAAAOA/WIKNYlD93T83vLJ5ZrHfP8Uf3DkjZd0/LVdTvSy03T8NF7RMYurdP/xodKTuoN4/5lXdwN2+3D9c05geWQnaP+hI/OiMWeA/ueZ8PoYK3z8AAAAAAADgP5fy1BKrvt4/FkJI2Viz3j+BRQgsBBzfP/m2ywv4Q94/WYe90Lnk4D/WXDUKFTffPw==",
          "dtype": "f8"
         }
        },
        {
         "legendgroup": "('llama3.1_8b_chat', 'football_leagues_1k', 'base', 'main', 'prompt_only')",
         "marker": {
          "color": "#8c564b",
          "opacity": 0.5,
          "size": 6
         },
         "mode": "markers",
         "name": "('llama3.1_8b_chat', 'football_leagues_1k', 'base', 'main', 'prompt_only') Fold ('direction_accuracy_score', 0)",
         "showlegend": false,
         "type": "scatter",
         "x": {
          "bdata": "AAECAwQFBgcICQoLDA0ODxAREhMUFRYXGBkaGxwdHh8=",
          "dtype": "i1"
         },
         "y": {
          "bdata": "AAAAAAAA4D8AAAAAAADgPwAAAAAAAOA/AAAAAAAA4D8AAAAAAADgPwAAAAAAAOA/AAAAAAAA4D8AAAAAAADgPwAAAAAAAOA/AAAAAAAA4D8AAAAAAADgPwAAAAAAAOA/AAAAAAAA4D8AAAAAAADgPwAAAAAAAOA/AAAAAAAA4D/wwQcffPDhPwAAAAAAAOA/AAAAAAAA4D8AAAAAAADgPwAAAAAAAOA/+OCDDz744D8AAAAAAADgP22yySabbOI/AAAAAAAA4D8AAAAAAADgPwAAAAAAAOA/AAAAAAAA4D8AAAAAAADgPwAAAAAAAOA/XXTRRRdd5D988MEHH3zgPw==",
          "dtype": "f8"
         }
        },
        {
         "legendgroup": "('llama3.1_8b_chat', 'football_leagues_1k', 'base', 'main', 'prompt_only')",
         "marker": {
          "color": "#8c564b",
          "opacity": 0.5,
          "size": 6
         },
         "mode": "markers",
         "name": "('llama3.1_8b_chat', 'football_leagues_1k', 'base', 'main', 'prompt_only') Fold ('direction_accuracy_score', 1)",
         "showlegend": false,
         "type": "scatter",
         "x": {
          "bdata": "AAECAwQFBgcICQoLDA0ODxAREhMUFRYXGBkaGxwdHh8=",
          "dtype": "i1"
         },
         "y": {
          "bdata": "AAAAAAAA4D8AAAAAAADgPwAAAAAAAOA/AAAAAAAA4D8AAAAAAADgPwAAAAAAAOA/AAAAAAAA4D8AAAAAAADgPwAAAAAAAOA/AAAAAAAA4D8AAAAAAADgPwAAAAAAAOA/AAAAAAAA4D8AAAAAAADgPwAAAAAAAOA/AAAAAAAA4D8AAAAAAADgPwAAAAAAAOA/AAAAAAAA4D8AAAAAAADgPwAAAAAAAOA/VVVVVVVV5T/KJptsssnmP0422WSTTeY/AAAAAAAA4D8AAAAAAADgPwAAAAAAAOA/0UUXXXTR5T/KJptsssnmP0422WSTTeY/AAAAAAAA4D988MEHH3zgPw==",
          "dtype": "f8"
         }
        },
        {
         "legendgroup": "('llama3.1_8b_chat', 'football_leagues_1k', 'base', 'main', 'prompt_only')",
         "marker": {
          "color": "#8c564b",
          "opacity": 0.5,
          "size": 6
         },
         "mode": "markers",
         "name": "('llama3.1_8b_chat', 'football_leagues_1k', 'base', 'main', 'prompt_only') Fold ('direction_accuracy_score', 2)",
         "showlegend": false,
         "type": "scatter",
         "x": {
          "bdata": "AAECAwQFBgcICQoLDA0ODxAREhMUFRYXGBkaGxwdHh8=",
          "dtype": "i1"
         },
         "y": {
          "bdata": "AAAAAAAA4D8AAAAAAADgPwAAAAAAAOA/AAAAAAAA4D8AAAAAAADgPwAAAAAAAOA/AAAAAAAA4D8AAAAAAADgPwAAAAAAAOA/ED744IMP3j8QPvjggw/ePwcffPDBB98/AAAAAAAA4D8AAAAAAADgPwAAAAAAAOA/ED744IMP3j900UUXXXThP/jggw8++OA/dNFFF1104T/poosuuujiP/jggw8++OA/8MEHH3zw4T8AAAAAAADgP3TRRRdddOE/AAAAAAAA4D8AAAAAAADgPwAAAAAAAOA/AAAAAAAA4D8AAAAAAADgPwAAAAAAAOA/yiabbLLJ5j/hgw8++ODjPw==",
          "dtype": "f8"
         }
        },
        {
         "legendgroup": "('llama3.1_8b_chat', 'football_leagues_1k', 'base', 'main', 'prompt_only')",
         "marker": {
          "color": "#8c564b",
          "opacity": 0.5,
          "size": 6
         },
         "mode": "markers",
         "name": "('llama3.1_8b_chat', 'football_leagues_1k', 'base', 'main', 'prompt_only') Fold ('direction_accuracy_score', 3)",
         "showlegend": false,
         "type": "scatter",
         "x": {
          "bdata": "AAECAwQFBgcICQoLDA0ODxAREhMUFRYXGBkaGxwdHh8=",
          "dtype": "i1"
         },
         "y": {
          "bdata": "AAAAAAAA4D8AAAAAAADgPwAAAAAAAOA/AAAAAAAA4D8AAAAAAADgPwAAAAAAAOA/AAAAAAAA4D8AAAAAAADgPwAAAAAAAOA/AAAAAAAA4D8AAAAAAADgPwAAAAAAAOA/AAAAAAAA4D8AAAAAAADgPwAAAAAAAOA/ED744IMP3j/hgw8++ODjP22yySabbOI/Fl100UUX3T8HH3zwwQffPwAAAAAAAOA/Ntlkk0022T8++OCDDz7YPwAAAAAAAOA/AAAAAAAA4D8AAAAAAADgPwAAAAAAAOA/fPDBBx984D9tsskmm2ziPwAAAAAAAOA/8MEHH3zw4T8AAAAAAADgPw==",
          "dtype": "f8"
         }
        },
        {
         "legendgroup": "('llama3.1_8b_chat', 'football_leagues_1k', 'base', 'main', 'prompt_only')",
         "marker": {
          "color": "#8c564b",
          "opacity": 0.5,
          "size": 6
         },
         "mode": "markers",
         "name": "('llama3.1_8b_chat', 'football_leagues_1k', 'base', 'main', 'prompt_only') Fold ('direction_accuracy_score', 4)",
         "showlegend": false,
         "type": "scatter",
         "x": {
          "bdata": "AAECAwQFBgcICQoLDA0ODxAREhMUFRYXGBkaGxwdHh8=",
          "dtype": "i1"
         },
         "y": {
          "bdata": "Bx988MEH3z8HH3zwwQffPwcffPDBB98/Bx988MEH3z8HH3zwwQffPwcffPDBB98/Bx988MEH3z8AAAAAAADgPwcffPDBB98/ED744IMP3j8QPvjggw/ePwAAAAAAAOA/AAAAAAAA4D8HH3zwwQffPwAAAAAAAOA/+OCDDz744D8AAAAAAADgPx988MEHH9w/Bx988MEH3z8HH3zwwQffPxA++OCDD94/TjbZZJNN5j900UUXXXThP2WTTTbZZOM/8MEHH3zw4T8AAAAAAADgPxA++OCDD94/VVVVVVVV5T9tsskmm2ziP1100UUXXeQ/XXTRRRdd5D/44IMPPvjgPw==",
          "dtype": "f8"
         }
        },
        {
         "legendgroup": "('llama3.1_8b_chat', 'gsm8k', 'base_3_shot', 'main', 'prompt_answer')",
         "line": {
          "color": "#1f77b4",
          "width": 2
         },
         "marker": {
          "size": 8
         },
         "mode": "lines+markers",
         "name": "('llama3.1_8b_chat', 'gsm8k', 'base_3_shot', 'main', 'prompt_answer')",
         "type": "scatter",
         "x": {
          "bdata": "AAECAwQFBgcICQoLDA0ODxAREhMUFRYXGBkaGxwdHh8=",
          "dtype": "i1"
         },
         "y": {
          "bdata": "Rrbz/dR44T+cxCCwcmjhP3tb1uqY4OE//RuhjN6W4T8kTak4+/DhP/Cnxks3ieE/t6zVMcGD4T8meDBP1L/hPxbZzvdT4+E/NheSplSc4T97W9bqmODhPzPsCpB7zeE/eDBP1L8R4j8KZfS2rNXhP0A1XrpJDOI/FtnO91Pj4T+WQ4ts5/vhP/vwGXYFyOE/FtnO91Pj4T9Q1L8RyujhPyNNqTj78OE/ivo3Qhm94T+Iz7ArQO7hP23n+6nx0uE/4Ahl9Las4T8ZBFYOLbLhP6cNdNpAp+E/pg102kCn4T/C9Shcj8LhP/0boYzeluE/76fGSzeJ4T+2gU4b6LThPw==",
          "dtype": "f8"
         }
        },
        {
         "legendgroup": "('llama3.1_8b_chat', 'gsm8k', 'base_3_shot', 'main', 'prompt_answer')",
         "line": {
          "width": 0
         },
         "mode": "lines",
         "name": "('llama3.1_8b_chat', 'gsm8k', 'base_3_shot', 'main', 'prompt_answer') Max",
         "showlegend": false,
         "type": "scatter",
         "x": {
          "bdata": "AAECAwQFBgcICQoLDA0ODxAREhMUFRYXGBkaGxwdHh8=",
          "dtype": "i1"
         },
         "y": {
          "bdata": "WfKLJb9Y4j/5xZJfLPnhP4JOG+i0geI/MJb8Yskv4j9LfrHkF0viP8aSXyz5xeI/q6qqqqqq4j/UBjptoNPiPwrXo3A9CuM/FK5H4XoU4j+PwvUoXI/iP3TaQKcNdOI/WfKLJb9Y4j8UrkfhehTiPzCW/GLJL+I/MJb8Yskv4j9Z8oslv1jiPz0K16NwPeI/PQrXo3A94j902kCnDXTiP1nyiyW/WOI/IiIiIiIi4j+CThvotIHiP1nyiyW/WOI/IiIiIiIi4j9LfrHkF0viP0t+seQXS+I/ZmZmZmZm4j+PwvUoXI/iP3TaQKcNdOI/+cWSXyz54T902kCnDXTiPw==",
          "dtype": "f8"
         }
        },
        {
         "fill": "tonexty",
         "fillcolor": "rgba(31, 119, 180, 0.1)",
         "legendgroup": "('llama3.1_8b_chat', 'gsm8k', 'base_3_shot', 'main', 'prompt_answer')",
         "line": {
          "width": 0
         },
         "mode": "lines",
         "name": "('llama3.1_8b_chat', 'gsm8k', 'base_3_shot', 'main', 'prompt_answer') Min",
         "showlegend": false,
         "type": "scatter",
         "x": {
          "bdata": "AAECAwQFBgcICQoLDA0ODxAREhMUFRYXGBkaGxwdHh8=",
          "dtype": "i1"
         },
         "y": {
          "bdata": "9ihcj8L14D+/WPKLJb/gPx+F61G4HuE/9ihcj8L14D9VVVVVVVXhP/YoXI/C9eA/zczMzMzM4D86baDTBjrhP1VVVVVVVeE/SOF6FK5H4T8s+cWSXyzhP1VVVVVVVeE/tYFOG+i04T+MJb9Y8ovhP+xRuB6F6+E/jCW/WPKL4T8fhetRuB7hPzptoNMGOuE/VVVVVVVV4T9+seQXS37hP36x5BdLfuE/frHkF0t+4T+MJb9Y8ovhP6cNdNpAp+E/VVVVVVVV4T8s+cWSXyzhPyz5xZJfLOE/6LSBThvo4D8fhetRuB7hPwOdNtBpA+E/pHA9Ctej4D8DnTbQaQPhPw==",
          "dtype": "f8"
         }
        },
        {
         "legendgroup": "('llama3.1_8b_chat', 'gsm8k', 'base_3_shot', 'main', 'prompt_answer')",
         "line": {
          "width": 0
         },
         "mode": "lines",
         "name": "('llama3.1_8b_chat', 'gsm8k', 'base_3_shot', 'main', 'prompt_answer') +1 STD",
         "showlegend": false,
         "type": "scatter",
         "x": {
          "bdata": "AAECAwQFBgcICQoLDA0ODxAREhMUFRYXGBkaGxwdHh8=",
          "dtype": "i1"
         },
         "y": {
          "bdata": "xpeKe0MD4j+mApwbLePhP44NUDtcX+I/X5GJQisn4j+K03iKDVbiPy8Z0S2aS+I/YuNzj1VI4j/eg8mif2PiP1yechvekuI/mpyQ4Gfq4T/2JcSdinHiP++RVLLgP+I/P4eQRd5P4j8Ebn39og3iP7NaxisXJeI/xS3glDsl4j8v6/bHHoHiP+mWxVIHOOI/6R0oogA64j+ahJXoDFDiPzxkFdPhTuI/EkGNvMcD4j8K9pPSjUviP1bUC+fQH+I/pz2BldX94T/Zlz+G2DriP0QV5l3jHeI//uAhA89K4j/qiPA/H1ziP/yRge/xL+I/wOQNIosY4j8ebpZ0rjriPw==",
          "dtype": "f8"
         }
        },
        {
         "fill": "tonexty",
         "fillcolor": "rgba(31, 119, 180, 0.3)",
         "legendgroup": "('llama3.1_8b_chat', 'gsm8k', 'base_3_shot', 'main', 'prompt_answer')",
         "line": {
          "width": 0
         },
         "mode": "lines",
         "name": "('llama3.1_8b_chat', 'gsm8k', 'base_3_shot', 'main', 'prompt_answer') -1 STD",
         "showlegend": false,
         "type": "scatter",
         "x": {
          "bdata": "AAECAwQFBgcICQoLDA0ODxAREhMUFRYXGBkaGxwdHh8=",
          "dtype": "i1"
         },
         "y": {
          "bdata": "xtRcgGbu4D+ShqVEuO3gP2ipXJrVYeE/m6a41pEG4T++xtnm6IvhP7E2vGnUxuA/DHY31Cy/4D9ubJf7KBzhP9ATK9TJM+E/0pGTbEFO4T8Akeg3p0/hP3dGwW0WW+E/sdkNY6HT4T8QXGtwtp3hP80P9kh88+E/Z4S9Wmyh4T/9mx8RsHbhPw1LbpkDWOE/Q5R1TaeM4T8GJOo6h4HhPwo2PZ4Uk+E/ArTix2p24T8Gqc2E8pDhP4T662wShuE/GdRIU5hb4T9ZcGyWgSnhPwoGAleeMOE/TjrGsbID4T+aYmF4/yjhP/6lwCnL/eA/Hmt/deP54D9OlQbCIS/hPw==",
          "dtype": "f8"
         }
        },
        {
         "legendgroup": "('llama3.1_8b_chat', 'gsm8k', 'base_3_shot', 'main', 'prompt_answer')",
         "marker": {
          "color": "#1f77b4",
          "opacity": 0.5,
          "size": 6
         },
         "mode": "markers",
         "name": "('llama3.1_8b_chat', 'gsm8k', 'base_3_shot', 'main', 'prompt_answer') Fold ('direction_accuracy_score', 0)",
         "showlegend": false,
         "type": "scatter",
         "x": {
          "bdata": "AAECAwQFBgcICQoLDA0ODxAREhMUFRYXGBkaGxwdHh8=",
          "dtype": "i1"
         },
         "y": {
          "bdata": "WfKLJb9Y4j/5xZJfLPnhP4JOG+i0geI/MJb8Yskv4j9LfrHkF0viP8P1KFyPwuE/7FG4HoXr4T/QaQOdNtDhP5qZmZmZmeE/cT0K16Nw4T9LfrHkF0viPwc6baDTBuI/WfKLJb9Y4j8UrkfhehTiPwc6baDTBuI/BzptoNMG4j9LfrHkF0viPyIiIiIiIuI/PQrXo3A94j8iIiIiIiLiP1nyiyW/WOI/IiIiIiIi4j+CThvotIHiP1nyiyW/WOI/IiIiIiIi4j9LfrHkF0viP0t+seQXS+I/ZmZmZmZm4j+PwvUoXI/iP3TaQKcNdOI/3t3d3d3d4T+nDXTaQKfhPw==",
          "dtype": "f8"
         }
        },
        {
         "legendgroup": "('llama3.1_8b_chat', 'gsm8k', 'base_3_shot', 'main', 'prompt_answer')",
         "marker": {
          "color": "#1f77b4",
          "opacity": 0.5,
          "size": 6
         },
         "mode": "markers",
         "name": "('llama3.1_8b_chat', 'gsm8k', 'base_3_shot', 'main', 'prompt_answer') Fold ('direction_accuracy_score', 1)",
         "showlegend": false,
         "type": "scatter",
         "x": {
          "bdata": "AAECAwQFBgcICQoLDA0ODxAREhMUFRYXGBkaGxwdHh8=",
          "dtype": "i1"
         },
         "y": {
          "bdata": "SOF6FK5H4T+nDXTaQKfhP+xRuB6F6+E/ERERERER4T/e3d3d3d3hPx+F61G4HuE/zczMzMzM4D86baDTBjrhP1VVVVVVVeE/SOF6FK5H4T8s+cWSXyzhP36x5BdLfuE/+cWSXyz54T+MJb9Y8ovhPzCW/GLJL+I/jCW/WPKL4T/e3d3d3d3hP3E9CtejcOE/VVVVVVVV4T+MJb9Y8ovhP6cNdNpAp+E/mpmZmZmZ4T8HOm2g0wbiP6cNdNpAp+E/VVVVVVVV4T8s+cWSXyzhPyz5xZJfLOE/H4XrUbge4T86baDTBjrhPwOdNtBpA+E/VVVVVVVV4T902kCnDXTiPw==",
          "dtype": "f8"
         }
        },
        {
         "legendgroup": "('llama3.1_8b_chat', 'gsm8k', 'base_3_shot', 'main', 'prompt_answer')",
         "marker": {
          "color": "#1f77b4",
          "opacity": 0.5,
          "size": 6
         },
         "mode": "markers",
         "name": "('llama3.1_8b_chat', 'gsm8k', 'base_3_shot', 'main', 'prompt_answer') Fold ('direction_accuracy_score', 2)",
         "showlegend": false,
         "type": "scatter",
         "x": {
          "bdata": "AAECAwQFBgcICQoLDA0ODxAREhMUFRYXGBkaGxwdHh8=",
          "dtype": "i1"
         },
         "y": {
          "bdata": "LPnFkl8s4T+MJb9Y8ovhP/nFkl8s+eE/FK5H4XoU4j9LfrHkF0viP8aSXyz5xeI/q6qqqqqq4j/UBjptoNPiPwrXo3A9CuM/FK5H4XoU4j+PwvUoXI/iP3TaQKcNdOI/IiIiIiIi4j/D9Shcj8LhPxSuR+F6FOI/MJb8Yskv4j9LfrHkF0viP97d3d3d3eE/+cWSXyz54T/sUbgehevhP/nFkl8s+eE/frHkF0t+4T+MJb9Y8ovhP6cNdNpAp+E/cT0K16Nw4T9+seQXS37hP3E9CtejcOE/tYFOG+i04T/QaQOdNtDhP4wlv1jyi+E/+cWSXyz54T/e3d3d3d3hPw==",
          "dtype": "f8"
         }
        },
        {
         "legendgroup": "('llama3.1_8b_chat', 'gsm8k', 'base_3_shot', 'main', 'prompt_answer')",
         "marker": {
          "color": "#1f77b4",
          "opacity": 0.5,
          "size": 6
         },
         "mode": "markers",
         "name": "('llama3.1_8b_chat', 'gsm8k', 'base_3_shot', 'main', 'prompt_answer') Fold ('direction_accuracy_score', 3)",
         "showlegend": false,
         "type": "scatter",
         "x": {
          "bdata": "AAECAwQFBgcICQoLDA0ODxAREhMUFRYXGBkaGxwdHh8=",
          "dtype": "i1"
         },
         "y": {
          "bdata": "mpmZmZmZ4T8fhetRuB7hPx+F61G4HuE/pw102kCn4T9VVVVVVVXhPxEREREREeE/ERERERER4T9jyS+W/GLhP36x5BdLfuE/tYFOG+i04T/e3d3d3d3hP7WBThvotOE/MJb8Yskv4j8HOm2g0wbiPwc6baDTBuI/+cWSXyz54T9Z8oslv1jiPz0K16NwPeI/BzptoNMG4j902kCnDXTiPz0K16NwPeI/7FG4HoXr4T/D9Shcj8LhP9BpA5020OE/0GkDnTbQ4T89CtejcD3iP/nFkl8s+eE/IiIiIiIi4j8UrkfhehTiP97d3d3d3eE/3t3d3d3d4T+MJb9Y8ovhPw==",
          "dtype": "f8"
         }
        },
        {
         "legendgroup": "('llama3.1_8b_chat', 'gsm8k', 'base_3_shot', 'main', 'prompt_answer')",
         "marker": {
          "color": "#1f77b4",
          "opacity": 0.5,
          "size": 6
         },
         "mode": "markers",
         "name": "('llama3.1_8b_chat', 'gsm8k', 'base_3_shot', 'main', 'prompt_answer') Fold ('direction_accuracy_score', 4)",
         "showlegend": false,
         "type": "scatter",
         "x": {
          "bdata": "AAECAwQFBgcICQoLDA0ODxAREhMUFRYXGBkaGxwdHh8=",
          "dtype": "i1"
         },
         "y": {
          "bdata": "9ihcj8L14D+/WPKLJb/gP97d3d3d3eE/9ihcj8L14D/sUbgehevhP/YoXI/C9eA/H4XrUbge4T9+seQXS37hP/nFkl8s+eE/jCW/WPKL4T9+seQXS37hP1VVVVVVVeE/tYFOG+i04T/D9Shcj8LhP+xRuB6F6+E/tYFOG+i04T8fhetRuB7hPzptoNMGOuE/3t3d3d3d4T9+seQXS37hP36x5BdLfuE/jCW/WPKL4T/QaQOdNtDhP6cNdNpAp+E/pw102kCn4T9I4XoUrkfhP2PJL5b8YuE/6LSBThvo4D8fhetRuB7hPxEREREREeE/pHA9Ctej4D8DnTbQaQPhPw==",
          "dtype": "f8"
         }
        },
        {
         "legendgroup": "('llama3.1_8b_chat', 'gsm8k', 'base_3_shot', 'main', 'prompt_only')",
         "line": {
          "color": "#ff7f0e",
          "width": 2
         },
         "marker": {
          "size": 8
         },
         "mode": "lines+markers",
         "name": "('llama3.1_8b_chat', 'gsm8k', 'base_3_shot', 'main', 'prompt_only')",
         "type": "scatter",
         "x": {
          "bdata": "AAECAwQFBgcICQoLDA0ODxAREhMUFRYXGBkaGxwdHh8=",
          "dtype": "i1"
         },
         "y": {
          "bdata": "RERERERE4D+CB/NE/RvhP8uhRbbz/eA/uwLkXnMh4T8qzj58hl3hP7rXXEiaUuE/qjj78Bl24T+cxCCwcmjhP0SLbOf7qeE/qA102kCn4T+K+jdCGb3hP+AIZfS2rOE/61G4HoXr4T/OPnyGXQHiP5ZDi2zn++E/+cWSXyz54T94ME/UvxHiP5MYBFYOLeI/s1bHBA/m4T9dSJpScfbhPwhl9Las1eE/3LJWxwQP4j+jt2WtjgniPzPsCpB7zeE/ivo3Qhm94T8KkHvNhaThPzYXkqZUnOE/GQRWDi2y4T/SlIqzD5/hP7es1THBg+E/YZ6ofyOU4T/YFSD3mgvhPw==",
          "dtype": "f8"
         }
        },
        {
         "legendgroup": "('llama3.1_8b_chat', 'gsm8k', 'base_3_shot', 'main', 'prompt_only')",
         "line": {
          "width": 0
         },
         "mode": "lines",
         "name": "('llama3.1_8b_chat', 'gsm8k', 'base_3_shot', 'main', 'prompt_only') Max",
         "showlegend": false,
         "type": "scatter",
         "x": {
          "bdata": "AAECAwQFBgcICQoLDA0ODxAREhMUFRYXGBkaGxwdHh8=",
          "dtype": "i1"
         },
         "y": {
          "bdata": "seQXS36x4D9xPQrXo3DhP36x5BdLfuE/w/UoXI/C4T/5xZJfLPnhP+xRuB6F6+E/S36x5BdL4j9Z8oslv1jiPwc6baDTBuI/+cWSXyz54T8HOm2g0wbiP+xRuB6F6+E/dNpApw104j+CThvotIHiP8aSXyz5xeI/xpJfLPnF4j9cj8L1KFzjP6uqqqqqquI/q6qqqqqq4j+PwvUoXI/iP+F6FK5H4eI/uB6F61G44j+PwvUoXI/iP2ZmZmZmZuI/FK5H4XoU4j8UrkfhehTiP97d3d3d3eE/S36x5BdL4j8iIiIiIiLiPxSuR+F6FOI/ZmZmZmZm4j+1gU4b6LThPw==",
          "dtype": "f8"
         }
        },
        {
         "fill": "tonexty",
         "fillcolor": "rgba(255, 127, 14, 0.1)",
         "legendgroup": "('llama3.1_8b_chat', 'gsm8k', 'base_3_shot', 'main', 'prompt_only')",
         "line": {
          "width": 0
         },
         "mode": "lines",
         "name": "('llama3.1_8b_chat', 'gsm8k', 'base_3_shot', 'main', 'prompt_only') Min",
         "showlegend": false,
         "type": "scatter",
         "x": {
          "bdata": "AAECAwQFBgcICQoLDA0ODxAREhMUFRYXGBkaGxwdHh8=",
          "dtype": "i1"
         },
         "y": {
          "bdata": "AAAAAAAA4D+/WPKLJb/gP4mIiIiIiOA/iYiIiIiI4D+/WPKLJb/gP6RwPQrXo+A/6LSBThvo4D8DnTbQaQPhP3E9CtejcOE/SOF6FK5H4T9+seQXS37hP0jhehSuR+E/tYFOG+i04T+amZmZmZnhP4wlv1jyi+E/pw102kCn4T+nDXTaQKfhP7WBThvotOE/H4XrUbge4T8s+cWSXyzhP+i0gU4b6OA/frHkF0t+4T+MJb9Y8ovhPyz5xZJfLOE/A5020GkD4T+x5BdLfrHgPwOdNtBpA+E/baDTBjpt4D+/WPKLJb/gP3sUrkfheuA/YCz5xZJf4D+SXyz5xZLfPw==",
          "dtype": "f8"
         }
        },
        {
         "legendgroup": "('llama3.1_8b_chat', 'gsm8k', 'base_3_shot', 'main', 'prompt_only')",
         "line": {
          "width": 0
         },
         "mode": "lines",
         "name": "('llama3.1_8b_chat', 'gsm8k', 'base_3_shot', 'main', 'prompt_only') +1 STD",
         "showlegend": false,
         "type": "scatter",
         "x": {
          "bdata": "AAECAwQFBgcICQoLDA0ODxAREhMUFRYXGBkaGxwdHh8=",
          "dtype": "i1"
         },
         "y": {
          "bdata": "Y+LGInSG4D/DIgqUxGXhP9DyH4/ZaOE/N0XnSNyc4T/133rT2u7hP9BTwO+c2+E/KhqSbogA4j/0SiZjMPfhP/kMSELZ6OE/ko6uSwTo4T96oWuM0e/hPylJxaMQ8uE/1vw4IVs54j8HH92d5WbiP4hwoN7De+I/n/zsrZ9u4j8eaOoajsviPxM/KkHZiOI/c1Ki9aKK4j/p0NLoL3niP+fjApF4oeI/riUMzW6d4j8PqCmYIYHiP662+EJtXuI/on+lvpQq4j8gRkD2HD/iP2hf029/9OE//5VDkrts4j9P1MufzCfiP+RYvBHmJOI/xneR1fZR4j/4mrIHM8jhPw==",
          "dtype": "f8"
         }
        },
        {
         "fill": "tonexty",
         "fillcolor": "rgba(255, 127, 14, 0.3)",
         "legendgroup": "('llama3.1_8b_chat', 'gsm8k', 'base_3_shot', 'main', 'prompt_only')",
         "line": {
          "width": 0
         },
         "mode": "lines",
         "name": "('llama3.1_8b_chat', 'gsm8k', 'base_3_shot', 'main', 'prompt_only') -1 STD",
         "showlegend": false,
         "type": "scatter",
         "x": {
          "bdata": "AAECAwQFBgcICQoLDA0ODxAREhMUFRYXGBkaGxwdHh8=",
          "dtype": "i1"
         },
         "y": {
          "bdata": "JabBZRQC4D9B7Nv1NdLgP8ZQa90Nk+A/P8DgdAqm4D9fvAIlMszgP6Rb+aCXyeA/Kldkc6vr4D9EPhv9tNngP48JkYwea+E/vow5aX1m4T+aUwT4YIrhP5fIBEVdZ+E/AKc3HK+d4T+VXhtv1ZvhP6QWdvoKfOE/U484EbmD4T/S+LON8VfhPxPy3WpD0eE/81rsE3tB4T/Rv2G8snPhPynm5dzgCeE/CkChwZqA4T83x6HC+5HhP7ghHd2JPOE/cnXKxZ1P4T/02bak7gnhPwTPUN0pROE/M3Joip734D9VVUnHUhbhP4oA71Gc4uA//MS/KVDW4D+4kI3mAk/gPw==",
          "dtype": "f8"
         }
        },
        {
         "legendgroup": "('llama3.1_8b_chat', 'gsm8k', 'base_3_shot', 'main', 'prompt_only')",
         "marker": {
          "color": "#ff7f0e",
          "opacity": 0.5,
          "size": 6
         },
         "mode": "markers",
         "name": "('llama3.1_8b_chat', 'gsm8k', 'base_3_shot', 'main', 'prompt_only') Fold ('direction_accuracy_score', 0)",
         "showlegend": false,
         "type": "scatter",
         "x": {
          "bdata": "AAECAwQFBgcICQoLDA0ODxAREhMUFRYXGBkaGxwdHh8=",
          "dtype": "i1"
         },
         "y": {
          "bdata": "AAAAAAAA4D+/WPKLJb/gP4mIiIiIiOA/iYiIiIiI4D+/WPKLJb/gP/YoXI/C9eA/H4XrUbge4T8fhetRuB7hP3E9CtejcOE/pw102kCn4T9+seQXS37hP7WBThvotOE/w/UoXI/C4T/QaQOdNtDhP5qZmZmZmeE/tYFOG+i04T+nDXTaQKfhP7WBThvotOE/H4XrUbge4T8s+cWSXyzhP+i0gU4b6OA/frHkF0t+4T+1gU4b6LThPyz5xZJfLOE/A5020GkD4T+x5BdLfrHgPwOdNtBpA+E/baDTBjpt4D+/WPKLJb/gP3sUrkfheuA/YCz5xZJf4D+SXyz5xZLfPw==",
          "dtype": "f8"
         }
        },
        {
         "legendgroup": "('llama3.1_8b_chat', 'gsm8k', 'base_3_shot', 'main', 'prompt_only')",
         "marker": {
          "color": "#ff7f0e",
          "opacity": 0.5,
          "size": 6
         },
         "mode": "markers",
         "name": "('llama3.1_8b_chat', 'gsm8k', 'base_3_shot', 'main', 'prompt_only') Fold ('direction_accuracy_score', 1)",
         "showlegend": false,
         "type": "scatter",
         "x": {
          "bdata": "AAECAwQFBgcICQoLDA0ODxAREhMUFRYXGBkaGxwdHh8=",
          "dtype": "i1"
         },
         "y": {
          "bdata": "KVyPwvUo4D9VVVVVVVXhPx+F61G4HuE/w/UoXI/C4T/5xZJfLPnhP+xRuB6F6+E/S36x5BdL4j9Z8oslv1jiPwc6baDTBuI/+cWSXyz54T8HOm2g0wbiP+xRuB6F6+E/tYFOG+i04T9Z8oslv1jiPyIiIiIiIuI/7FG4HoXr4T/e3d3d3d3hP1nyiyW/WOI/dNpApw104j8wlvxiyS/iP0t+seQXS+I/uB6F61G44j+PwvUoXI/iP2ZmZmZmZuI/+cWSXyz54T8UrkfhehTiP9BpA5020OE/+cWSXyz54T8iIiIiIiLiPxSuR+F6FOI/tYFOG+i04T+1gU4b6LThPw==",
          "dtype": "f8"
         }
        },
        {
         "legendgroup": "('llama3.1_8b_chat', 'gsm8k', 'base_3_shot', 'main', 'prompt_only')",
         "marker": {
          "color": "#ff7f0e",
          "opacity": 0.5,
          "size": 6
         },
         "mode": "markers",
         "name": "('llama3.1_8b_chat', 'gsm8k', 'base_3_shot', 'main', 'prompt_only') Fold ('direction_accuracy_score', 2)",
         "showlegend": false,
         "type": "scatter",
         "x": {
          "bdata": "AAECAwQFBgcICQoLDA0ODxAREhMUFRYXGBkaGxwdHh8=",
          "dtype": "i1"
         },
         "y": {
          "bdata": "seQXS36x4D9xPQrXo3DhPzptoNMGOuE/Y8kvlvxi4T9+seQXS37hP1VVVVVVVeE/VVVVVVVV4T8RERERERHhP3E9CtejcOE/w/UoXI/C4T/QaQOdNtDhP+xRuB6F6+E/dNpApw104j+CThvotIHiP8aSXyz5xeI/xpJfLPnF4j9cj8L1KFzjP6uqqqqqquI/q6qqqqqq4j+PwvUoXI/iP+F6FK5H4eI/j8L1KFyP4j+CThvotIHiP2ZmZmZmZuI/FK5H4XoU4j8UrkfhehTiP97d3d3d3eE/7FG4HoXr4T/D9Shcj8LhP2PJL5b8YuE/ZmZmZmZm4j9jyS+W/GLhPw==",
          "dtype": "f8"
         }
        },
        {
         "legendgroup": "('llama3.1_8b_chat', 'gsm8k', 'base_3_shot', 'main', 'prompt_only')",
         "marker": {
          "color": "#ff7f0e",
          "opacity": 0.5,
          "size": 6
         },
         "mode": "markers",
         "name": "('llama3.1_8b_chat', 'gsm8k', 'base_3_shot', 'main', 'prompt_only') Fold ('direction_accuracy_score', 3)",
         "showlegend": false,
         "type": "scatter",
         "x": {
          "bdata": "AAECAwQFBgcICQoLDA0ODxAREhMUFRYXGBkaGxwdHh8=",
          "dtype": "i1"
         },
         "y": {
          "bdata": "RERERERE4D/otIFOG+jgP36x5BdLfuE/LPnFkl8s4T/QaQOdNtDhP8P1KFyPwuE/pw102kCn4T9+seQXS37hP8P1KFyPwuE/mpmZmZmZ4T+1gU4b6LThP0jhehSuR+E/3t3d3d3d4T/D9Shcj8LhP97d3d3d3eE/pw102kCn4T/D9Shcj8LhPyIiIiIiIuI/pw102kCn4T8HOm2g0wbiP97d3d3d3eE/mpmZmZmZ4T/e3d3d3d3hP5qZmZmZmeE/tYFOG+i04T9jyS+W/GLhP7WBThvotOE/3t3d3d3d4T+MJb9Y8ovhP9BpA5020OE/mpmZmZmZ4T8s+cWSXyzhPw==",
          "dtype": "f8"
         }
        },
        {
         "legendgroup": "('llama3.1_8b_chat', 'gsm8k', 'base_3_shot', 'main', 'prompt_only')",
         "marker": {
          "color": "#ff7f0e",
          "opacity": 0.5,
          "size": 6
         },
         "mode": "markers",
         "name": "('llama3.1_8b_chat', 'gsm8k', 'base_3_shot', 'main', 'prompt_only') Fold ('direction_accuracy_score', 4)",
         "showlegend": false,
         "type": "scatter",
         "x": {
          "bdata": "AAECAwQFBgcICQoLDA0ODxAREhMUFRYXGBkaGxwdHh8=",
          "dtype": "i1"
         },
         "y": {
          "bdata": "N9BpA5024D8fhetRuB7hP5b8YskvluA/zczMzMzM4D/NzMzMzMzgP6RwPQrXo+A/6LSBThvo4D8DnTbQaQPhP6cNdNpAp+E/SOF6FK5H4T+nDXTaQKfhP4wlv1jyi+E/0GkDnTbQ4T+amZmZmZnhP4wlv1jyi+E/0GkDnTbQ4T+1gU4b6LThPwc6baDTBuI/mpmZmZmZ4T/e3d3d3d3hPzptoNMGOuE/7FG4HoXr4T+MJb9Y8ovhP3E9CtejcOE/7FG4HoXr4T/5xZJfLPnhP6cNdNpAp+E/S36x5BdL4j/sUbgehevhP9BpA5020OE/0GkDnTbQ4T8s+cWSXyzhPw==",
          "dtype": "f8"
         }
        },
        {
         "legendgroup": "('llama3.1_8b_chat', 'gsm8k', 'cot_3_shot', 'main', 'prompt_answer')",
         "line": {
          "color": "#2ca02c",
          "width": 2
         },
         "marker": {
          "size": 8
         },
         "mode": "lines+markers",
         "name": "('llama3.1_8b_chat', 'gsm8k', 'cot_3_shot', 'main', 'prompt_answer')",
         "type": "scatter",
         "x": {
          "bdata": "AAECAwQFBgcICQoLDA0ODxAREhMUFRYXGBkaGxwdHh8=",
          "dtype": "i1"
         },
         "y": {
          "bdata": "Vn9awyLY4D9jM9DWTazgPygEfg9KaOA/CCU0RGW44D/0+V+Mq9zgP5J0ZVU04eA/PKPgMei54D93mOvD+cLgP+LOi9TxAOE/auR1sM7u4D/oRep4gAjhP3jSMvnr/eA/4gjTCeQ74T+mTQ+txG3hP9sFA9A5quE/rcRtUVN14T/vMNeH84XhP7p442R+SeE/9m3u9o9S4T/VGhbBxizhP9TgzovU8eA/npxp00Mr4T/AtfrTGhbhPwIiZAq7JuE/7rxIHQ8Q4T/hzovU8QDhP2WnXkEyIuE/clvUVF324D8qslOvIBnhPymyU68gGeE/2lctMGP54D82ZsnCS+3gPw==",
          "dtype": "f8"
         }
        },
        {
         "legendgroup": "('llama3.1_8b_chat', 'gsm8k', 'cot_3_shot', 'main', 'prompt_answer')",
         "line": {
          "width": 0
         },
         "mode": "lines",
         "name": "('llama3.1_8b_chat', 'gsm8k', 'cot_3_shot', 'main', 'prompt_answer') Max",
         "showlegend": false,
         "type": "scatter",
         "x": {
          "bdata": "AAECAwQFBgcICQoLDA0ODxAREhMUFRYXGBkaGxwdHh8=",
          "dtype": "i1"
         },
         "y": {
          "bdata": "PVG20b5q4T8wY/mIoVvhPwIiZAq7JuE/I3U8QIRM4T95gAiZwq7hP2ySS1Cln+E/9TOnwZ0X4T8c/t2b9UThPzfaVy0wY+E/CZnCrkku4T8c/t2b9UThP1G20b5qgeE/XqSOB4iQ4T+GbsXh373hP7smuQRV+uE/eYAImcKu4T95gAiZwq7hP2Ub7asWmOE/gPdmPVG24T9LP3Ma3HnhPw8QIVPYNeE/XqSOB4iQ4T8wY/mIoVvhP0TIFHZNcuE/N9pXLTBj4T9EyBR2TXLhP0TIFHZNcuE/+6oFZiwf4T89UbbRvmrhP1gtMGP5iOE/PVG20b5q4T8c/t2b9UThPw==",
          "dtype": "f8"
         }
        },
        {
         "fill": "tonexty",
         "fillcolor": "rgba(44, 160, 44, 0.1)",
         "legendgroup": "('llama3.1_8b_chat', 'gsm8k', 'cot_3_shot', 'main', 'prompt_answer')",
         "line": {
          "width": 0
         },
         "mode": "lines",
         "name": "('llama3.1_8b_chat', 'gsm8k', 'cot_3_shot', 'main', 'prompt_answer') Min",
         "showlegend": false,
         "type": "scatter",
         "x": {
          "bdata": "AAECAwQFBgcICQoLDA0ODxAREhMUFRYXGBkaGxwdHh8=",
          "dtype": "i1"
         },
         "y": {
          "bdata": "FGUb7asW4D8UZRvtqxbgP/IRQ7fi8N8/d16kjgeI4D8N7rxIHQ/gP1YLzFg+YuA/XYIq/cxp4D9JHQ8QIVPgP4vDv3uznuA/cOdF6niA4D93XqSOB4jgP2pw50XqeOA/uQRV+pnT4D8Wh3/3Zj3hPw8QIVPYNeE/DxAhU9g14T8q7JrkElThP/Uzp8GdF+E/7rxIHQ8Q4T/U4M6L1PHgP58o22hfteA/mLF8xNCt4D+5BFX6mdPgP7ON9lULzOA/nyjbaF+14D+lnzkN7rzgP9TgzovU8eA/s432VQvM4D/Ae7OeKNvgP3DnRep4gOA/d16kjgeI4D9+1QIzlo/gPw==",
          "dtype": "f8"
         }
        },
        {
         "legendgroup": "('llama3.1_8b_chat', 'gsm8k', 'cot_3_shot', 'main', 'prompt_answer')",
         "line": {
          "width": 0
         },
         "mode": "lines",
         "name": "('llama3.1_8b_chat', 'gsm8k', 'cot_3_shot', 'main', 'prompt_answer') +1 STD",
         "showlegend": false,
         "type": "scatter",
         "x": {
          "bdata": "AAECAwQFBgcICQoLDA0ODxAREhMUFRYXGBkaGxwdHh8=",
          "dtype": "i1"
         },
         "y": {
          "bdata": "pkMOWnp54T9OHTf4JSXhP6QR1FF54+A/P8i9saAL4T/cHMszH3fhP0C0gzYLYOE/OmvHtpv64D8o4mjkaB3hP/roO17WSOE/YPxGYuQx4T9eX1VZOFfhP/wZGQJaceE/VCzdoXSE4T89o2lQEaDhPwD7b5T4/eE/apIccCuj4T87liN3PKnhP6dbEYl9h+E/4J6tafaU4T+qjSWJlV/hP5qMzwtdJeE/ZXWGeLB/4T+cAo5jIFPhPyBwsRlaceE/ua1a35Fc4T9z6Nd0o0jhP0/EGzjLV+E/x5U83jUe4T99LCQOxFfhP+ChwsuDheE/Fr5piWJO4T/u9U7XSjbhPw==",
          "dtype": "f8"
         }
        },
        {
         "fill": "tonexty",
         "fillcolor": "rgba(44, 160, 44, 0.3)",
         "legendgroup": "('llama3.1_8b_chat', 'gsm8k', 'cot_3_shot', 'main', 'prompt_answer')",
         "line": {
          "width": 0
         },
         "mode": "lines",
         "name": "('llama3.1_8b_chat', 'gsm8k', 'cot_3_shot', 'main', 'prompt_answer') -1 STD",
         "showlegend": false,
         "type": "scatter",
         "x": {
          "bdata": "AAECAwQFBgcICQoLDA0ODxAREhMUFRYXGBkaGxwdHh8=",
          "dtype": "i1"
         },
         "y": {
          "bdata": "BrumLMs24D94SWm1dTPgP1jtT5o12t8/0YGq1ill4D8M1/TkN0LgP+Q0R3RdYuA/Ptv5rDR54D/GTm6jimjgP8q020oNueA/dMyk/rir4D9yLH+YyLngP/SKTPB9iuA/cOXIcVPz4D8P+LQJeDvhP7YQlgt7VuE/8Pa+MntH4T+jy4qYqmLhP82VtUB/C+E/DD0vhCkQ4T8AqAb59/ngPw41zgtMvuA/18NMLtfW4D/kaGdEFdngP+TTFvsb3OA/I8w2W4zD4D9PtT80QLngP3uKoUqZ7OA/HSFsy4TO4D/XN4NQfdrgP3LC5JK9rOA/nvHw1mOk4D9+1kOuTKTgPw==",
          "dtype": "f8"
         }
        },
        {
         "legendgroup": "('llama3.1_8b_chat', 'gsm8k', 'cot_3_shot', 'main', 'prompt_answer')",
         "marker": {
          "color": "#2ca02c",
          "opacity": 0.5,
          "size": 6
         },
         "mode": "markers",
         "name": "('llama3.1_8b_chat', 'gsm8k', 'cot_3_shot', 'main', 'prompt_answer') Fold ('direction_accuracy_score', 0)",
         "showlegend": false,
         "type": "scatter",
         "x": {
          "bdata": "AAECAwQFBgcICQoLDA0ODxAREhMUFRYXGBkaGxwdHh8=",
          "dtype": "i1"
         },
         "y": {
          "bdata": "FGUb7asW4D9dgir9zGngPyjKNtpXLeA/d16kjgeI4D8N7rxIHQ/gP1YLzFg+YuA/XYIq/cxp4D9JHQ8QIVPgP4vDv3uznuA/cOdF6niA4D8PECFT2DXhP1G20b5qgeE/PVG20b5q4T9LP3Ma3HnhP7smuQRV+uE/eYAImcKu4T95gAiZwq7hP/Uzp8GdF+E/gPdmPVG24T/uvEgdDxDhPw8QIVPYNeE/XqSOB4iQ4T8wY/mIoVvhP0TIFHZNcuE/Kuya5BJU4T/aVy0wY/ngP9TgzovU8eA/1ODOi9Tx4D/Ae7OeKNvgP3DnRep4gOA/d16kjgeI4D+lnzkN7rzgPw==",
          "dtype": "f8"
         }
        },
        {
         "legendgroup": "('llama3.1_8b_chat', 'gsm8k', 'cot_3_shot', 'main', 'prompt_answer')",
         "marker": {
          "color": "#2ca02c",
          "opacity": 0.5,
          "size": 6
         },
         "mode": "markers",
         "name": "('llama3.1_8b_chat', 'gsm8k', 'cot_3_shot', 'main', 'prompt_answer') Fold ('direction_accuracy_score', 1)",
         "showlegend": false,
         "type": "scatter",
         "x": {
          "bdata": "AAECAwQFBgcICQoLDA0ODxAREhMUFRYXGBkaGxwdHh8=",
          "dtype": "i1"
         },
         "y": {
          "bdata": "NbjzInU84D8UZRvtqxbgP/IRQ7fi8N8/i8O/e7Oe4D+sFpixfMTgP/uqBWYsH+E/s432VQvM4D+YsXzE0K3gP9TgzovU8eA/zWlw50Xq4D8c/t2b9UThPz1RttG+auE/XqSOB4iQ4T+GbsXh373hP7smuQRV+uE/N9pXLTBj4T9epI4HiJDhP1G20b5qgeE/+6oFZiwf4T/U4M6L1PHgP58o22hfteA/mLF8xNCt4D/G8hFDt+LgP8byEUO34uA/uQRV+pnT4D9EyBR2TXLhPxaHf/dmPeE/+6oFZiwf4T/7qgVmLB/hP1gtMGP5iOE/PVG20b5q4T/7qgVmLB/hPw==",
          "dtype": "f8"
         }
        },
        {
         "legendgroup": "('llama3.1_8b_chat', 'gsm8k', 'cot_3_shot', 'main', 'prompt_answer')",
         "marker": {
          "color": "#2ca02c",
          "opacity": 0.5,
          "size": 6
         },
         "mode": "markers",
         "name": "('llama3.1_8b_chat', 'gsm8k', 'cot_3_shot', 'main', 'prompt_answer') Fold ('direction_accuracy_score', 2)",
         "showlegend": false,
         "type": "scatter",
         "x": {
          "bdata": "AAECAwQFBgcICQoLDA0ODxAREhMUFRYXGBkaGxwdHh8=",
          "dtype": "i1"
         },
         "y": {
          "bdata": "PVG20b5q4T+lnzkN7rzgPxrceZE6HuA/hExh1ySX4D8CImQKuybhP4RMYdckl+A/pZ85De684D+Lw797s57gP/uqBWYsH+E/9TOnwZ0X4T93XqSOB4jgP8B7s54o2+A/uQRV+pnT4D8jdTxAhEzhPw8QIVPYNeE/XqSOB4iQ4T8q7JrkElThP2Ub7asWmOE/I3U8QIRM4T8JmcKuSS7hP9TgzovU8eA/DxAhU9g14T+5BFX6mdPgP7ON9lULzOA/nyjbaF+14D+lnzkN7rzgP9pXLTBj+eA/+6oFZiwf4T8Wh3/3Zj3hPxz+3Zv1ROE/50XqeIAI4T9+1QIzlo/gPw==",
          "dtype": "f8"
         }
        },
        {
         "legendgroup": "('llama3.1_8b_chat', 'gsm8k', 'cot_3_shot', 'main', 'prompt_answer')",
         "marker": {
          "color": "#2ca02c",
          "opacity": 0.5,
          "size": 6
         },
         "mode": "markers",
         "name": "('llama3.1_8b_chat', 'gsm8k', 'cot_3_shot', 'main', 'prompt_answer') Fold ('direction_accuracy_score', 3)",
         "showlegend": false,
         "type": "scatter",
         "x": {
          "bdata": "AAECAwQFBgcICQoLDA0ODxAREhMUFRYXGBkaGxwdHh8=",
          "dtype": "i1"
         },
         "y": {
          "bdata": "I3U8QIRM4T+sFpixfMTgP4vDv3uznuA/ftUCM5aP4D+ROh4gQqbgP5ixfMTQreA/9TOnwZ0X4T/NaXDnRergP9TgzovU8eA/2lctMGP54D/U4M6L1PHgP2pw50XqeOA/+6oFZiwf4T8Wh3/3Zj3hP3IJqvQzp+E/DxAhU9g14T9EyBR2TXLhP/uqBWYsH+E/7rxIHQ8Q4T8PECFT2DXhP+68SB0PEOE/7rxIHQ8Q4T8jdTxAhEzhPxz+3Zv1ROE/N9pXLTBj4T/uvEgdDxDhP0TIFHZNcuE/uQRV+pnT4D89UbbRvmrhPzBj+YihW+E/9TOnwZ0X4T/U4M6L1PHgPw==",
          "dtype": "f8"
         }
        },
        {
         "legendgroup": "('llama3.1_8b_chat', 'gsm8k', 'cot_3_shot', 'main', 'prompt_answer')",
         "marker": {
          "color": "#2ca02c",
          "opacity": 0.5,
          "size": 6
         },
         "mode": "markers",
         "name": "('llama3.1_8b_chat', 'gsm8k', 'cot_3_shot', 'main', 'prompt_answer') Fold ('direction_accuracy_score', 4)",
         "showlegend": false,
         "type": "scatter",
         "x": {
          "bdata": "AAECAwQFBgcICQoLDA0ODxAREhMUFRYXGBkaGxwdHh8=",
          "dtype": "i1"
         },
         "y": {
          "bdata": "CZnCrkku4T8wY/mIoVvhPwIiZAq7JuE/I3U8QIRM4T95gAiZwq7hP2ySS1Cln+E/hExh1ySX4D8c/t2b9UThPzfaVy0wY+E/CZnCrkku4T8PECFT2DXhP58o22hfteA/Fod/92Y94T832lctMGPhP1G20b5qgeE/RMgUdk1y4T9lG+2rFpjhP/uqBWYsH+E/PVG20b5q4T9LP3Ma3HnhP7ON9lULzOA/Kuya5BJU4T/uvEgdDxDhPzBj+YihW+E/7rxIHQ8Q4T+zjfZVC8zgP+68SB0PEOE/s432VQvM4D/Ae7OeKNvgP7kEVfqZ0+A/s432VQvM4D8c/t2b9UThPw==",
          "dtype": "f8"
         }
        },
        {
         "legendgroup": "('llama3.1_8b_chat', 'gsm8k', 'cot_3_shot', 'main', 'prompt_only')",
         "line": {
          "color": "#d62728",
          "width": 2
         },
         "marker": {
          "size": 8
         },
         "mode": "lines+markers",
         "name": "('llama3.1_8b_chat', 'gsm8k', 'cot_3_shot', 'main', 'prompt_only')",
         "type": "scatter",
         "x": {
          "bdata": "AAECAwQFBgcICQoLDA0ODxAREhMUFRYXGBkaGxwdHh8=",
          "dtype": "i1"
         },
         "y": {
          "bdata": "ZeGldiRd4T8jr4N1dofhPyom4hkFj+E/zt3+USpg4T+a0+DOi9ThP6eHVuK2qOE/cgmq9DOn4T/7HpTQEJXhP9WOpCurouE/OBSfYiKe4T8CXKs/rWHhP/WnNSyCjeE/6PO/GFe54T+GNH6s7YLhPxCEr728q+E/ApbydJ+c4T8PSmiIynDhPxbBxixZeOE/s3UTK9S34T8+i/0GsaXhP2Ub7asWmOE/MJ1AvpOW4T9RttG+aoHhPzbaVy0wY+E/yKDn4o2T4T8PSmiIynDhP5Po878YV+E/n9awCDZm4T8PSmiIynDhPyrsmuQSVOE/zhdGhxyb4T8cxJZmAwrhPw==",
          "dtype": "f8"
         }
        },
        {
         "legendgroup": "('llama3.1_8b_chat', 'gsm8k', 'cot_3_shot', 'main', 'prompt_only')",
         "line": {
          "width": 0
         },
         "mode": "lines",
         "name": "('llama3.1_8b_chat', 'gsm8k', 'cot_3_shot', 'main', 'prompt_only') Max",
         "showlegend": false,
         "type": "scatter",
         "x": {
          "bdata": "AAECAwQFBgcICQoLDA0ODxAREhMUFRYXGBkaGxwdHh8=",
          "dtype": "i1"
         },
         "y": {
          "bdata": "3HmROh4g4j+0r1pgxvLhP/DerCfKNuI/HiBCprBr4j8/cxrceZHiPzKFXZNcguI/U9g1ySWo4j8yhV2TXILiPx4gQqawa+I/CrsmuQRV4j+7JrkEVfrhP/3MaXDnReI/BETIFHZN4j8ERMgUdk3iP/DerCfKNuI/6WdOgzsv4j/9zGlw50XiP7SvWmDG8uE//cxpcOdF4j+nwZ0XqePhP7SvWmDG8uE/rjj8uzfr4T+uOPy7N+vhP7SvWmDG8uE/wp0XqeMB4j+7JrkEVfrhP43lI4ZuxeE/gPdmPVG24T9lG+2rFpjhP4D3Zj1RtuE/6WdOgzsv4j832lctMGPhPw==",
          "dtype": "f8"
         }
        },
        {
         "fill": "tonexty",
         "fillcolor": "rgba(214, 39, 40, 0.1)",
         "legendgroup": "('llama3.1_8b_chat', 'gsm8k', 'cot_3_shot', 'main', 'prompt_only')",
         "line": {
          "width": 0
         },
         "mode": "lines",
         "name": "('llama3.1_8b_chat', 'gsm8k', 'cot_3_shot', 'main', 'prompt_only') Min",
         "showlegend": false,
         "type": "scatter",
         "x": {
          "bdata": "AAECAwQFBgcICQoLDA0ODxAREhMUFRYXGBkaGxwdHh8=",
          "dtype": "i1"
         },
         "y": {
          "bdata": "VgvMWD5i4D/U4M6L1PHgP+HOi9TxAOE/d16kjgeI4D8PECFT2DXhP9TgzovU8eA/DxAhU9g14T/NaXDnRergP+HOi9TxAOE/9TOnwZ0X4T/Ae7OeKNvgP7kEVfqZ0+A/50XqeIAI4T/U4M6L1PHgPwmZwq5JLuE/50XqeIAI4T/Ae7OeKNvgP+HOi9TxAOE/Kuya5BJU4T8c/t2b9UThPyN1PECETOE/+6oFZiwf4T8CImQKuybhP9TgzovU8eA/Kuya5BJU4T+fKNtoX7XgP+68SB0PEOE/uQRV+pnT4D8PECFT2DXhP8byEUO34uA/4c6L1PEA4T+ROh4gQqbgPw==",
          "dtype": "f8"
         }
        },
        {
         "legendgroup": "('llama3.1_8b_chat', 'gsm8k', 'cot_3_shot', 'main', 'prompt_only')",
         "line": {
          "width": 0
         },
         "mode": "lines",
         "name": "('llama3.1_8b_chat', 'gsm8k', 'cot_3_shot', 'main', 'prompt_only') +1 STD",
         "showlegend": false,
         "type": "scatter",
         "x": {
          "bdata": "AAECAwQFBgcICQoLDA0ODxAREhMUFRYXGBkaGxwdHh8=",
          "dtype": "i1"
         },
         "y": {
          "bdata": "mnicqAom4j9nsM6Vm/vhP0Kmm+7SF+I/2+hAajYq4j/UKF0yUmHiPzx6nHrjQuI/rxIahtE+4j9H2Iz7aSviP/4311zyLOI/en3ZtzQe4j+Cfgj5Ut3hPxKE1UhNGOI/XO3M6XJO4j9vzjR0OATiP70SjgSRL+I/cjQxYLEJ4j90cUFLIPjhP8SgLJh96OE/nJwcPawT4j+JPYquyOThP3Ju+uAv2uE/HudBFczx4T/jzx1fHMnhP2/A9Hn20OE/YMlYAm3W4T+bmWMF0e3hP7YcHk1ym+E/pUnjYnbB4T+hxJ7qqZrhPw9TCmfhq+E/otYFMkwN4j81K//VvV7hPw==",
          "dtype": "f8"
         }
        },
        {
         "fill": "tonexty",
         "fillcolor": "rgba(214, 39, 40, 0.3)",
         "legendgroup": "('llama3.1_8b_chat', 'gsm8k', 'cot_3_shot', 'main', 'prompt_only')",
         "line": {
          "width": 0
         },
         "mode": "lines",
         "name": "('llama3.1_8b_chat', 'gsm8k', 'cot_3_shot', 'main', 'prompt_only') -1 STD",
         "showlegend": false,
         "type": "scatter",
         "x": {
          "bdata": "AAECAwQFBgcICQoLDA0ODxAREhMUFRYXGBkaGxwdHh8=",
          "dtype": "i1"
         },
         "y": {
          "bdata": "MEqvRD6U4D/frThVURPhPxKmKEU3BuE/wdK8OR6W4D9gfmRrxUfhPxKVEEqKDuE/NQA6Y5YP4T+vZZult/7gP6zlcfpjGOE/9qpkDRAe4T+COU6GB+bgP9jLlQ+3AuE/dPqyRzsk4T+dmsfkogHhP2P10HboJ+E/kveziY0v4T+qIo/FdOngP2jhYME0COE/yk4KGfxb4T/z2HBfmWbhP1jI33b9VeE/QlM/Z1s74T+/nIUeuTnhP/3zuuBp9eA/MHh2w65Q4T+D+mwLxPPgP3C0yTK/EuE/mWN+rvUK4T99zzEm60bhP0WFK2JE/OA/+liG3Owo4T8DXS73SLXgPw==",
          "dtype": "f8"
         }
        },
        {
         "legendgroup": "('llama3.1_8b_chat', 'gsm8k', 'cot_3_shot', 'main', 'prompt_only')",
         "marker": {
          "color": "#d62728",
          "opacity": 0.5,
          "size": 6
         },
         "mode": "markers",
         "name": "('llama3.1_8b_chat', 'gsm8k', 'cot_3_shot', 'main', 'prompt_only') Fold ('direction_accuracy_score', 0)",
         "showlegend": false,
         "type": "scatter",
         "x": {
          "bdata": "AAECAwQFBgcICQoLDA0ODxAREhMUFRYXGBkaGxwdHh8=",
          "dtype": "i1"
         },
         "y": {
          "bdata": "VgvMWD5i4D/U4M6L1PHgP/uqBWYsH+E/d16kjgeI4D9EyBR2TXLhPyN1PECETOE/N9pXLTBj4T/NaXDnRergP+HOi9TxAOE/9TOnwZ0X4T/U4M6L1PHgPyrsmuQSVOE/CZnCrkku4T8jdTxAhEzhPw8QIVPYNeE/ZRvtqxaY4T8JmcKuSS7hP+HOi9TxAOE/WC0wY/mI4T9epI4HiJDhPz1RttG+auE/Kuya5BJU4T8CImQKuybhPxz+3Zv1ROE/Kuya5BJU4T8Wh3/3Zj3hPxaHf/dmPeE/MGP5iKFb4T9lG+2rFpjhP+68SB0PEOE/MGP5iKFb4T+lnzkN7rzgPw==",
          "dtype": "f8"
         }
        },
        {
         "legendgroup": "('llama3.1_8b_chat', 'gsm8k', 'cot_3_shot', 'main', 'prompt_only')",
         "marker": {
          "color": "#d62728",
          "opacity": 0.5,
          "size": 6
         },
         "mode": "markers",
         "name": "('llama3.1_8b_chat', 'gsm8k', 'cot_3_shot', 'main', 'prompt_only') Fold ('direction_accuracy_score', 1)",
         "showlegend": false,
         "type": "scatter",
         "x": {
          "bdata": "AAECAwQFBgcICQoLDA0ODxAREhMUFRYXGBkaGxwdHh8=",
          "dtype": "i1"
         },
         "y": {
          "bdata": "XqSOB4iQ4T+0r1pgxvLhP0TIFHZNcuE/WC0wY/mI4T+GbsXh373hP2Ub7asWmOE/DxAhU9g14T9RttG+aoHhP5rT4M6L1OE/PVG20b5q4T+A92Y9UbbhP1G20b5qgeE/6WdOgzsv4j832lctMGPhP1gtMGP5iOE/RMgUdk1y4T8wY/mIoVvhP3mACJnCruE/bJJLUKWf4T95gAiZwq7hP7SvWmDG8uE/rjj8uzfr4T+uOPy7N+vhP7SvWmDG8uE/wp0XqeMB4j+7JrkEVfrhP43lI4ZuxeE/gPdmPVG24T9YLTBj+YjhP1gtMGP5iOE/hm7F4d+94T8jdTxAhEzhPw==",
          "dtype": "f8"
         }
        },
        {
         "legendgroup": "('llama3.1_8b_chat', 'gsm8k', 'cot_3_shot', 'main', 'prompt_only')",
         "marker": {
          "color": "#d62728",
          "opacity": 0.5,
          "size": 6
         },
         "mode": "markers",
         "name": "('llama3.1_8b_chat', 'gsm8k', 'cot_3_shot', 'main', 'prompt_only') Fold ('direction_accuracy_score', 2)",
         "showlegend": false,
         "type": "scatter",
         "x": {
          "bdata": "AAECAwQFBgcICQoLDA0ODxAREhMUFRYXGBkaGxwdHh8=",
          "dtype": "i1"
         },
         "y": {
          "bdata": "yBR2TXIJ4j+A92Y9UbbhP8KdF6njAeI/HiBCprBr4j8/cxrceZHiPzKFXZNcguI/U9g1ySWo4j8yhV2TXILiPx4gQqawa+I/CrsmuQRV4j+7JrkEVfrhP/3MaXDnReI/BETIFHZN4j8ERMgUdk3iP/DerCfKNuI/6WdOgzsv4j/9zGlw50XiP7SvWmDG8uE//cxpcOdF4j+nwZ0XqePhP16kjgeIkOE/rjj8uzfr4T9epI4HiJDhP+68SB0PEOE/XqSOB4iQ4T9epI4HiJDhPxaHf/dmPeE/uQRV+pnT4D8q7JrkElThP0TIFHZNcuE/hm7F4d+94T/7qgVmLB/hPw==",
          "dtype": "f8"
         }
        },
        {
         "legendgroup": "('llama3.1_8b_chat', 'gsm8k', 'cot_3_shot', 'main', 'prompt_only')",
         "marker": {
          "color": "#d62728",
          "opacity": 0.5,
          "size": 6
         },
         "mode": "markers",
         "name": "('llama3.1_8b_chat', 'gsm8k', 'cot_3_shot', 'main', 'prompt_only') Fold ('direction_accuracy_score', 3)",
         "showlegend": false,
         "type": "scatter",
         "x": {
          "bdata": "AAECAwQFBgcICQoLDA0ODxAREhMUFRYXGBkaGxwdHh8=",
          "dtype": "i1"
         },
         "y": {
          "bdata": "nyjbaF+14D8CImQKuybhP+HOi9TxAOE/kToeIEKm4D8PECFT2DXhP9TgzovU8eA/I3U8QIRM4T8q7JrkElThPyN1PECETOE/Kuya5BJU4T/Ae7OeKNvgP7kEVfqZ0+A/50XqeIAI4T/U4M6L1PHgPwmZwq5JLuE/50XqeIAI4T/Ae7OeKNvgP+HOi9TxAOE/Kuya5BJU4T8c/t2b9UThPyN1PECETOE/+6oFZiwf4T832lctMGPhP9TgzovU8eA/PVG20b5q4T+fKNtoX7XgP+68SB0PEOE/PVG20b5q4T8PECFT2DXhP8byEUO34uA/4c6L1PEA4T+ROh4gQqbgPw==",
          "dtype": "f8"
         }
        },
        {
         "legendgroup": "('llama3.1_8b_chat', 'gsm8k', 'cot_3_shot', 'main', 'prompt_only')",
         "marker": {
          "color": "#d62728",
          "opacity": 0.5,
          "size": 6
         },
         "mode": "markers",
         "name": "('llama3.1_8b_chat', 'gsm8k', 'cot_3_shot', 'main', 'prompt_only') Fold ('direction_accuracy_score', 4)",
         "showlegend": false,
         "type": "scatter",
         "x": {
          "bdata": "AAECAwQFBgcICQoLDA0ODxAREhMUFRYXGBkaGxwdHh8=",
          "dtype": "i1"
         },
         "y": {
          "bdata": "3HmROh4g4j+nwZ0XqePhP/DerCfKNuI/hm7F4d+94T/pZ06DOy/iP7SvWmDG8uE/gPdmPVG24T9yCar0M6fhP2ySS1Cln+E/rjj8uzfr4T89UbbRvmrhP5rT4M6L1OE/rjj8uzfr4T9skktQpZ/hP/DerCfKNuI/k1yCKv3M4T9YLTBj+YjhP4D3Zj1RtuE/mtPgzovU4T+a0+DOi9ThP4ZuxeHfveE/cgmq9DOn4T9RttG+aoHhP4D3Zj1RtuE/XqSOB4iQ4T+A92Y9UbbhPzfaVy0wY+E/eYAImcKu4T9YLTBj+YjhP4D3Zj1RtuE/6WdOgzsv4j832lctMGPhPw==",
          "dtype": "f8"
         }
        },
        {
         "legendgroup": "('llama3.1_8b_chat', 'medals_9k', 'base', 'main', 'prompt_answer')",
         "line": {
          "color": "#9467bd",
          "width": 2
         },
         "marker": {
          "size": 8
         },
         "mode": "lines+markers",
         "name": "('llama3.1_8b_chat', 'medals_9k', 'base', 'main', 'prompt_answer')",
         "type": "scatter",
         "x": {
          "bdata": "AAECAwQFBgcICQoLDA0ODxAREhMUFRYXGBkaGxwdHh8=",
          "dtype": "i1"
         },
         "y": {
          "bdata": "/v3Vuyq44T+usY5I9bbiP4EyDeVEVuI/7i1dKVw+4z+y0f1Fbz/jP/iofCwxd+I/imaOIlaZ4j+nbB1KqknjP0q+eH7wAeM/5u3PXUg+4z/lHx1oyKziP4CuzIepeuI/8li2oI6S4j8Tw364/wDiP+26XbzaneM/3b9UZ7hZ4j/6JmYTa+PhP7kmV9VogOI/AvpkzB1N4z/zQ+rcqFHjPw5zI0D8x+I/zkP5a9qU4j8rSBxee0/iP0uGg84uE+I/tqV/N0+54T8GvIO5mZrhP0ZHMvsjn+E/ze6CdX544T/JCq7fUH/hP/jYTsP7jOE/vpbtgmgM4j+mqW6yoR7hPw==",
          "dtype": "f8"
         }
        },
        {
         "legendgroup": "('llama3.1_8b_chat', 'medals_9k', 'base', 'main', 'prompt_answer')",
         "line": {
          "width": 0
         },
         "mode": "lines",
         "name": "('llama3.1_8b_chat', 'medals_9k', 'base', 'main', 'prompt_answer') Max",
         "showlegend": false,
         "type": "scatter",
         "x": {
          "bdata": "AAECAwQFBgcICQoLDA0ODxAREhMUFRYXGBkaGxwdHh8=",
          "dtype": "i1"
         },
         "y": {
          "bdata": "RERERERE4j8cx3Ecx3HjPwDPafYq1+I/2IIt2IIt5D/cI6u+N/PjP2TV92Z+3OM/Egx+Dbq04z+RGTjCTRXkP3cSDH4NuuQ/2IIt2IIt5D9bsAVbsAXkPywTqlH6D+M/iYiIiIiI4z8ofdInfdLiP/qkT/qkT+Q/ERERERER4z9hC7ZgC7biP0qf9Emf9OI/0id90id95D8RERERERHkPxIMfg26tOM/AAAAAAAA4z9yHMdxHMfiPy7Ygi3YguI/sAVbsAVb4j+y6nszP+7hPwS09YwDFuI/YQu2YAu24T8OWIiAtp7hPwZbsAVbsOE/gy3Ygi3Y4j9mZmZmZmbhPw==",
          "dtype": "f8"
         }
        },
        {
         "fill": "tonexty",
         "fillcolor": "rgba(148, 103, 189, 0.1)",
         "legendgroup": "('llama3.1_8b_chat', 'medals_9k', 'base', 'main', 'prompt_answer')",
         "line": {
          "width": 0
         },
         "mode": "lines",
         "name": "('llama3.1_8b_chat', 'medals_9k', 'base', 'main', 'prompt_answer') Min",
         "showlegend": false,
         "type": "scatter",
         "x": {
          "bdata": "AAECAwQFBgcICQoLDA0ODxAREhMUFRYXGBkaGxwdHh8=",
          "dtype": "i1"
         },
         "y": {
          "bdata": "C7ZgC7Zg4T+2YAu2YAviP6VP+qRP+uE/mpmZmZmZ4j93d3d3d3fiP2ZmZmZmZuE/0id90id94T9bsAVbsAXiPy7Ygi3YguE/q6qqqqqq4T+JiIiIiIjhP5qZmZmZmeE/LtiCLdiC4T8cx3Ecx3HhP9InfdInfeI/iYiIiIiI4T/BFmzBFmzhP7ZgC7ZgC+I/q6qqqqqq4j8cx3Ecx3HiP33SJ33SJ+E/W7AFW7AF4j/e3d3d3d3hP1VVVVVVVeE/MzMzMzMz4T+O4ziO4zjhP+mTPumTPuE/Sp/0SZ/04D9mZmZmZmbhP4DnNHuVa+E/d3d3d3d34T9yHMdxHMfgPw==",
          "dtype": "f8"
         }
        },
        {
         "legendgroup": "('llama3.1_8b_chat', 'medals_9k', 'base', 'main', 'prompt_answer')",
         "line": {
          "width": 0
         },
         "mode": "lines",
         "name": "('llama3.1_8b_chat', 'medals_9k', 'base', 'main', 'prompt_answer') +1 STD",
         "showlegend": false,
         "type": "scatter",
         "x": {
          "bdata": "AAECAwQFBgcICQoLDA0ODxAREhMUFRYXGBkaGxwdHh8=",
          "dtype": "i1"
         },
         "y": {
          "bdata": "OcMRKzcr4j+bZtULI0njPzW5gSA8seI/yLk9CmnS4z/H9d1qYdnjP99bKI9yeOM/CUmXpF2J4z/DUVvP7C3kP8DgUmlRZuQ/ptuogthN5D8sxOJ+y5vjPy6gytZLNOM/wlvSrydZ4z9EGsoDEoTiP2frtrYOVuQ/Hk2F/5zt4j9zQ2Bm4GXiP0zkiFai4uI/IvXM9ukN5D85M7T44uzjP32llab5zeM/nFd6xLz14j8JIP9LNLHiP9SiwmoeieI/SPSQD1g04j8lW5Co7ODhP2kr3jOC8eE/u4vp7zjH4T+DlD+sFZbhP4kkdQI/quE/A0XGhF6f4j+XilsT3FrhPw==",
          "dtype": "f8"
         }
        },
        {
         "fill": "tonexty",
         "fillcolor": "rgba(148, 103, 189, 0.3)",
         "legendgroup": "('llama3.1_8b_chat', 'medals_9k', 'base', 'main', 'prompt_answer')",
         "line": {
          "width": 0
         },
         "mode": "lines",
         "name": "('llama3.1_8b_chat', 'medals_9k', 'base', 'main', 'prompt_answer') -1 STD",
         "showlegend": false,
         "type": "scatter",
         "x": {
          "bdata": "AAECAwQFBgcICQoLDA0ODxAREhMUFRYXGBkaGxwdHh8=",
          "dtype": "i1"
         },
         "y": {
          "bdata": "wziaTB5F4T/B/EeFxyTiP82rmKlN++E/FKJ8SE+q4j+drR0hfaXiPxH20MnvdeE/C4SFoE6p4T+Lh9/EZ2XiP9SbnpOPneE/JgD3OLgu4j+ee1dRxb3hP9K8zjgHweE/IlaakfXL4T/iazNt7X3hP3OKBMKm5eI/nDIkz9PF4T+BCmzA9WDhPyZpJVQvHuI/4v78oVGM4j+tVCDBbrbiP59Asdn+weE/ADB4E/gz4j9NcDlwwu3hP8JpRDI/neE/JFduX0Y+4T/nHHfKRlThPyNjhsLFTOE/31Ec+8Mp4T8PgRwTjGjhP2eNKIS4b+E/eegUgXJ54T+1yIFRZ+LgPw==",
          "dtype": "f8"
         }
        },
        {
         "legendgroup": "('llama3.1_8b_chat', 'medals_9k', 'base', 'main', 'prompt_answer')",
         "marker": {
          "color": "#9467bd",
          "opacity": 0.5,
          "size": 6
         },
         "mode": "markers",
         "name": "('llama3.1_8b_chat', 'medals_9k', 'base', 'main', 'prompt_answer') Fold ('direction_accuracy_score', 0)",
         "showlegend": false,
         "type": "scatter",
         "x": {
          "bdata": "AAECAwQFBgcICQoLDA0ODxAREhMUFRYXGBkaGxwdHh8=",
          "dtype": "i1"
         },
         "y": {
          "bdata": "RERERERE4j+JiIiIiIjiP47jOI7jOOI/RERERERE4z93d3d3d3fjPyIiIiIiIuM/juM4juM44z+UPumTPunjP47jOI7jOOQ/2IIt2IIt5D9bsAVbsAXkPwAAAAAAAOM/P+mTPumT4j+2YAu2YAviP/qkT/qkT+Q/ERERERER4z9hC7ZgC7biPyh90id90uI/bMEWbMEW4z990id90ifjP8EWbMEWbOI/ZmZmZmZm4j/e3d3d3d3hP0qf9Emf9OE/5DiO4ziO4T/kOI7jOI7hP4mIiIiIiOE/BluwBVuw4T/kOI7jOI7hP5qZmZmZmeE/2IIt2IIt4j9bsAVbsAXhPw==",
          "dtype": "f8"
         }
        },
        {
         "legendgroup": "('llama3.1_8b_chat', 'medals_9k', 'base', 'main', 'prompt_answer')",
         "marker": {
          "color": "#9467bd",
          "opacity": 0.5,
          "size": 6
         },
         "mode": "markers",
         "name": "('llama3.1_8b_chat', 'medals_9k', 'base', 'main', 'prompt_answer') Fold ('direction_accuracy_score', 1)",
         "showlegend": false,
         "type": "scatter",
         "x": {
          "bdata": "AAECAwQFBgcICQoLDA0ODxAREhMUFRYXGBkaGxwdHh8=",
          "dtype": "i1"
         },
         "y": {
          "bdata": "C7ZgC7Zg4T+2YAu2YAviP2zBFmzBFuI/mpmZmZmZ4j93d3d3d3fiP2ZmZmZmZuE/zczMzMzM4T8GW7AFW7DiPyIiIiIiIuI/0id90id94z+JiIiIiIjhP5qZmZmZmeE/LtiCLdiC4T8cx3Ecx3HhP4mIiIiIiOM/iYiIiIiI4T/BFmzBFmzhP7ZgC7ZgC+I/q6qqqqqq4j9ERERERETjP1VVVVVVVeM/vLu7u7u74j+amZmZmZniPy7Ygi3YguI/wRZswRZs4T8u2IIt2ILhP3d3d3d3d+E/HMdxHMdx4T8cx3Ecx3HhPxzHcRzHceE/6ZM+6ZM+4j9mZmZmZmbhPw==",
          "dtype": "f8"
         }
        },
        {
         "legendgroup": "('llama3.1_8b_chat', 'medals_9k', 'base', 'main', 'prompt_answer')",
         "marker": {
          "color": "#9467bd",
          "opacity": 0.5,
          "size": 6
         },
         "mode": "markers",
         "name": "('llama3.1_8b_chat', 'medals_9k', 'base', 'main', 'prompt_answer') Fold ('direction_accuracy_score', 2)",
         "showlegend": false,
         "type": "scatter",
         "x": {
          "bdata": "AAECAwQFBgcICQoLDA0ODxAREhMUFRYXGBkaGxwdHh8=",
          "dtype": "i1"
         },
         "y": {
          "bdata": "3i68jg4n4j+kYV2psybjPwDPafYq1+I/LBOqUfoP4z/cI6u+N/PjP2TV92Z+3OM/Egx+Dbq04z+RGTjCTRXkP3cSDH4NuuQ/a5T+w1gm5D9WfW/mxz3iPywTqlH6D+M/jj+9+0sK4z9QvmiJ7fPhPwlo6xkHLOQ/MPg16NJO4j+y6nszP+7hP1Z9b+bHPeI/wEIEtPWM4z/WZKRhXanjPxIMfg26tOM/iIC2nnHA4j+SJEmSJEniP1Z9b+bHPeI/BLT1jAMW4j+y6nszP+7hPwS09YwDFuI/NN3BfquN4T8OWIiAtp7hP4DnNHuVa+E/+DXo0k6C4T+QSs7LIj7hPw==",
          "dtype": "f8"
         }
        },
        {
         "legendgroup": "('llama3.1_8b_chat', 'medals_9k', 'base', 'main', 'prompt_answer')",
         "marker": {
          "color": "#9467bd",
          "opacity": 0.5,
          "size": 6
         },
         "mode": "markers",
         "name": "('llama3.1_8b_chat', 'medals_9k', 'base', 'main', 'prompt_answer') Fold ('direction_accuracy_score', 3)",
         "showlegend": false,
         "type": "scatter",
         "x": {
          "bdata": "AAECAwQFBgcICQoLDA0ODxAREhMUFRYXGBkaGxwdHh8=",
          "dtype": "i1"
         },
         "y": {
          "bdata": "ZmZmZmZm4T8cx3Ecx3HjP+Q4juM4juI/2IIt2IIt5D/NzMzMzMziPzmO4ziO4+E/0id90id94T+8u7u7u7vjPy7Ygi3YguE/q6qqqqqq4T8RERERERHjP0qf9Emf9OI/iYiIiIiI4z8ofdInfdLiP9InfdInfeI/fdInfdIn4j8u2IIt2ILhP0qf9Emf9OI/YQu2YAu24j8cx3Ecx3HiP33SJ33SJ+E/W7AFW7AF4j9bsAVbsAXiP1VVVVVVVeE/MzMzMzMz4T+O4ziO4zjhP+mTPumTPuE/Sp/0SZ/04D9mZmZmZmbhPwZbsAVbsOE/d3d3d3d34T9yHMdxHMfgPw==",
          "dtype": "f8"
         }
        },
        {
         "legendgroup": "('llama3.1_8b_chat', 'medals_9k', 'base', 'main', 'prompt_answer')",
         "marker": {
          "color": "#9467bd",
          "opacity": 0.5,
          "size": 6
         },
         "mode": "markers",
         "name": "('llama3.1_8b_chat', 'medals_9k', 'base', 'main', 'prompt_answer') Fold ('direction_accuracy_score', 4)",
         "showlegend": false,
         "type": "scatter",
         "x": {
          "bdata": "AAECAwQFBgcICQoLDA0ODxAREhMUFRYXGBkaGxwdHh8=",
          "dtype": "i1"
         },
         "y": {
          "bdata": "ZmZmZmZm4T9mZmZmZmbiP6VP+qRP+uE/x3Ecx3Ec4z/kOI7jOI7jP7ZgC7ZgC+I/chzHcRzH4j9bsAVbsAXiPxzHcRzHceI/vLu7u7u74j8u2IIt2ILiP3Icx3Ecx+E/MzMzMzMz4j8XbMEWbMHhPz/pkz7pk+M/BluwBVuw4j/e3d3d3d3hPxzHcRzHceI/0id90id95D8RERERERHkP5/0SZ/0SeM/AAAAAAAA4z9yHMdxHMfiP1VVVVVVVeI/sAVbsAVb4j/NzMzMzMzhP3Icx3Ecx+E/YQu2YAu24T93d3d3d3fhP5qZmZmZmeE/gy3Ygi3Y4j990id90ifhPw==",
          "dtype": "f8"
         }
        },
        {
         "legendgroup": "('llama3.1_8b_chat', 'medals_9k', 'base', 'main', 'prompt_only')",
         "line": {
          "color": "#8c564b",
          "width": 2
         },
         "marker": {
          "size": 8
         },
         "mode": "lines+markers",
         "name": "('llama3.1_8b_chat', 'medals_9k', 'base', 'main', 'prompt_only')",
         "type": "scatter",
         "x": {
          "bdata": "AAECAwQFBgcICQoLDA0ODxAREhMUFRYXGBkaGxwdHh8=",
          "dtype": "i1"
         },
         "y": {
          "bdata": "Cw+zBL6T4j/SQbLAonHiP4VHJ1VnZ+I/obcSG7wP4z+Sq/8goQbjPz2xJgkpLOM/3R/Pu4vc4j9XNt6SYxXiP5bFF6i5H+I/qFlh5tq14j9a/NiCi3niPzbiHTfhc+I/EnHclMSk4j/FM6lKMFbjP5eHbeBW4+I/LqQL34LM4z8N/EfQzhDjP8D+OcFSV+M/VTg/IlrT4z9o/0iuJdrjP/MlEDejvOM/gIiLCyzJ4z8MQWsi3a3jP7veysPYzuM/WXOaDvqV4z8x3etXbTbjPwCBDuk6PeM/TZL6b9B74z83mBaym2njPyJpERfGKOM/6EzxUrBZ4z/vg4ogY6DhPw==",
          "dtype": "f8"
         }
        },
        {
         "legendgroup": "('llama3.1_8b_chat', 'medals_9k', 'base', 'main', 'prompt_only')",
         "line": {
          "width": 0
         },
         "mode": "lines",
         "name": "('llama3.1_8b_chat', 'medals_9k', 'base', 'main', 'prompt_only') Max",
         "showlegend": false,
         "type": "scatter",
         "x": {
          "bdata": "AAECAwQFBgcICQoLDA0ODxAREhMUFRYXGBkaGxwdHh8=",
          "dtype": "i1"
         },
         "y": {
          "bdata": "juM4juM44z9ERERERETjP7ZgC7ZgC+M/VVVVVVVV4z9mZmZmZmbjPxdswRZsweM/juM4juM44z9+3COrvjfjP3d3d3d3d+M/HMdxHMdx4z8u2IIt2ILjP1VVVVVVVeM/lD7pkz7p4z9695cU5vjjP83MzMzMzOM/7+7u7u7u5D84kbcLr6PjP7ZgC7ZgC+Q/gy3Ygi3Y5D+rqqqqqqrkP+/u7u7u7uQ/OY7jOI7j5D9hC7ZgC7bkP4mIiIiIiOQ/YQu2YAu25D+lT/qkT/rjP2zBFmzBFuQ/C7ZgC7Zg5D990id90ifkP4Mt2IIt2OQ/IiIiIiIi5D/6pE/6pE/iPw==",
          "dtype": "f8"
         }
        },
        {
         "fill": "tonexty",
         "fillcolor": "rgba(140, 86, 75, 0.1)",
         "legendgroup": "('llama3.1_8b_chat', 'medals_9k', 'base', 'main', 'prompt_only')",
         "line": {
          "width": 0
         },
         "mode": "lines",
         "name": "('llama3.1_8b_chat', 'medals_9k', 'base', 'main', 'prompt_only') Min",
         "showlegend": false,
         "type": "scatter",
         "x": {
          "bdata": "AAECAwQFBgcICQoLDA0ODxAREhMUFRYXGBkaGxwdHh8=",
          "dtype": "i1"
         },
         "y": {
          "bdata": "CnP86d1f4j8GW7AFW7DhP3ZDoofi4uE/6qzJSMO64j8mVKP0H8biPxdswRZsweI/mONP7/6S4j+lT/qkT/rgPxEREREREeE/2IIt2IIt4T/NzMzMzMzgP5qZmZmZmeA/KH3SJ33S4D9swRZswRbiP3d3d3d3d+E/vLu7u7u74j9bsAVbsAXiP6VP+qRP+uE/tmALtmAL4z8AAAAAAADjP97d3d3d3eI/8GvQpZ0E4z+OP737SwrjPxEREREREeM/YQu2YAu24j+amZmZmZniP33SJ33SJ+I/nqJWTNnc4j8cx3Ecx3HiP47jOI7jOOI/iIC2nnHA4j9uqiBkBo7gPw==",
          "dtype": "f8"
         }
        },
        {
         "legendgroup": "('llama3.1_8b_chat', 'medals_9k', 'base', 'main', 'prompt_only')",
         "line": {
          "width": 0
         },
         "mode": "lines",
         "name": "('llama3.1_8b_chat', 'medals_9k', 'base', 'main', 'prompt_only') +1 STD",
         "showlegend": false,
         "type": "scatter",
         "x": {
          "bdata": "AAECAwQFBgcICQoLDA0ODxAREhMUFRYXGBkaGxwdHh8=",
          "dtype": "i1"
         },
         "y": {
          "bdata": "v+/m0Xfw4j8wEZjprA/jP4Ebr2rg8uI/pQYWWZ1I4z8OJV3JhkjjP52ToEMFjOM/yG9Ph40f4z/WCDmQoALjP2ocV0YuKOM/spURq8Oe4z8mhNbU6IfjPywQEXe5ieM/B4sspw/f4z8znOpIsBXkP/pmAY273+M/bM954E2q5D8SKL0WK8HjPxMCtQ5rP+Q/3gR0eaaV5D80fOIjuKLkP3ewglKxkuQ/BU9HjfOS5D+TjuznM3HkPypfMmUzceQ/wLnUyt9j5D+gvtbYR9njP0mz1UtD+OM/nOTL+U0k5D+X9bP4BCHkP/NhwOWRReQ/GIZ4thLg4z8ypVc24lDiPw==",
          "dtype": "f8"
         }
        },
        {
         "fill": "tonexty",
         "fillcolor": "rgba(140, 86, 75, 0.3)",
         "legendgroup": "('llama3.1_8b_chat', 'medals_9k', 'base', 'main', 'prompt_only')",
         "line": {
          "width": 0
         },
         "mode": "lines",
         "name": "('llama3.1_8b_chat', 'medals_9k', 'base', 'main', 'prompt_only') -1 STD",
         "showlegend": false,
         "type": "scatter",
         "x": {
          "bdata": "AAECAwQFBgcICQoLDA0ODxAREhMUFRYXGBkaGxwdHh8=",
          "dtype": "i1"
         },
         "y": {
          "bdata": "Vy5/NwQ34j90csyXmNPhP4lznz/u2+E/nWgP3drW4j8WMqJ4u8TiP93OrM5MzOI/8s9O8ImZ4j/YY4OVJijhP8Ju2AlFF+E/nh2xIfLM4T+OdNswLmvhP0C0KvcIXuE/HVeMgnlq4T9Xy2dMsJbiPzSo2TPy5uE/8Hid3bfu4j8I0NKJcmDiP237vnM6b+I/zGsKyw0R4z+cgq84kxHjP2+bnRuV5uI/+8HPiWT/4j+F8+lchuriP0xeYyJ+LOM/8ixgUhTI4j/C+wDXkpPiP7dOR4YyguI//j8p5lLT4j/XOnlrMrLiP1FwYkj6C+I/uBNq703T4j+sYr0K5O/gPw==",
          "dtype": "f8"
         }
        },
        {
         "legendgroup": "('llama3.1_8b_chat', 'medals_9k', 'base', 'main', 'prompt_only')",
         "marker": {
          "color": "#8c564b",
          "opacity": 0.5,
          "size": 6
         },
         "mode": "markers",
         "name": "('llama3.1_8b_chat', 'medals_9k', 'base', 'main', 'prompt_only') Fold ('direction_accuracy_score', 0)",
         "showlegend": false,
         "type": "scatter",
         "x": {
          "bdata": "AAECAwQFBgcICQoLDA0ODxAREhMUFRYXGBkaGxwdHh8=",
          "dtype": "i1"
         },
         "y": {
          "bdata": "ZmZmZmZm4j8GW7AFW7DiP/qkT/qkT+I/bMEWbMEW4z+UPumTPuniPxdswRZsweI/pU/6pE/64j/kOI7jOI7hPxEREREREeE/Sp/0SZ/04j/Ygi3Ygi3iP4Mt2IIt2OI/ERERERER4j9swRZswRbiP3d3d3d3d+E/vLu7u7u74j+8u7u7u7viP4Mt2IIt2OI/tmALtmAL4z8AAAAAAADjP97d3d3d3eI/W7AFW7AF4z8RERERERHjPxEREREREeM/YQu2YAu24j+amZmZmZniP33SJ33SJ+I/OY7jOI7j4j8cx3Ecx3HiP47jOI7jOOI/tmALtmAL4z+2YAu2YAviPw==",
          "dtype": "f8"
         }
        },
        {
         "legendgroup": "('llama3.1_8b_chat', 'medals_9k', 'base', 'main', 'prompt_only')",
         "marker": {
          "color": "#8c564b",
          "opacity": 0.5,
          "size": 6
         },
         "mode": "markers",
         "name": "('llama3.1_8b_chat', 'medals_9k', 'base', 'main', 'prompt_only') Fold ('direction_accuracy_score', 1)",
         "showlegend": false,
         "type": "scatter",
         "x": {
          "bdata": "AAECAwQFBgcICQoLDA0ODxAREhMUFRYXGBkaGxwdHh8=",
          "dtype": "i1"
         },
         "y": {
          "bdata": "wRZswRZs4j8/6ZM+6ZPiPzmO4ziO4+E/fdInfdIn4z/e3d3d3d3iP2zBFmzBFuM/UPqkT/qk4j+DLdiCLdjiP5Q+6ZM+6eI/+qRP+qRP4z/HcRzHcRzjP7ZgC7ZgC+M/d3d3d3d34z+O4ziO4zjjPwu2YAu2YOI/fdInfdIn4z9bsAVbsAXiP6VP+qRP+uE/IiIiIiIi4z9bsAVbsAXjP7AFW7AFW+M/Sp/0SZ/04z9ERERERETkPyIiIiIiIuQ/pU/6pE/64z+lT/qkT/rjP5qZmZmZmeM/lD7pkz7p4z8ofdInfdLjP7y7u7u7u+M/iYiIiIiI4z8LtmALtmDhPw==",
          "dtype": "f8"
         }
        },
        {
         "legendgroup": "('llama3.1_8b_chat', 'medals_9k', 'base', 'main', 'prompt_only')",
         "marker": {
          "color": "#8c564b",
          "opacity": 0.5,
          "size": 6
         },
         "mode": "markers",
         "name": "('llama3.1_8b_chat', 'medals_9k', 'base', 'main', 'prompt_only') Fold ('direction_accuracy_score', 2)",
         "showlegend": false,
         "type": "scatter",
         "x": {
          "bdata": "AAECAwQFBgcICQoLDA0ODxAREhMUFRYXGBkaGxwdHh8=",
          "dtype": "i1"
         },
         "y": {
          "bdata": "CnP86d1f4j+MZUI1Sv/hP3ZDoofi4uE/6qzJSMO64j8mVKP0H8biP1KY40/v/uI/mONP7/6S4j9+3COrvjfjP9hvtTE03eE/EDIDR7ip4j8mVKP0H8biP+TtwuvocOI/FvEJpJLz4j9695cU5vjjP44/vftLCuM/80VLbJ8P5D84kbcLr6PjP7eeccBCBOQ/ZNX3Zn7c4z+9XXgdHU7kP1hX6qzJSOM/8GvQpZ0E4z+OP737SwrjP37cI6u+N+M/FvEJpJLz4j/UiimbW57iPxbxCaSS8+I/nqJWTNnc4j88dkOih+LiP9SKKZtbnuI/iIC2nnHA4j9uqiBkBo7gPw==",
          "dtype": "f8"
         }
        },
        {
         "legendgroup": "('llama3.1_8b_chat', 'medals_9k', 'base', 'main', 'prompt_only')",
         "marker": {
          "color": "#8c564b",
          "opacity": 0.5,
          "size": 6
         },
         "mode": "markers",
         "name": "('llama3.1_8b_chat', 'medals_9k', 'base', 'main', 'prompt_only') Fold ('direction_accuracy_score', 3)",
         "showlegend": false,
         "type": "scatter",
         "x": {
          "bdata": "AAECAwQFBgcICQoLDA0ODxAREhMUFRYXGBkaGxwdHh8=",
          "dtype": "i1"
         },
         "y": {
          "bdata": "d3d3d3d34j8GW7AFW7DhPzmO4ziO4+I/AAAAAAAA4z9mZmZmZmbjP0REREREROM/juM4juM44z8ofdInfdLhP/qkT/qkT+E/2IIt2IIt4T/NzMzMzMzgP5qZmZmZmeA/KH3SJ33S4D9hC7ZgC7bjP83MzMzMzOM/x3Ecx3Ec5D/1SZ/0SZ/jP7ZgC7ZgC+Q/6ZM+6ZM+5D+rqqqqqqrkP+mTPumTPuQ/tmALtmAL5D/6pE/6pE/jP2zBFmzBFuQ/P+mTPumT4z8XbMEWbMHjP2ZmZmZmZuM/C7ZgC7Zg4z8XbMEWbMHjPwu2YAu2YOI/n/RJn/RJ4z/6pE/6pE/iPw==",
          "dtype": "f8"
         }
        },
        {
         "legendgroup": "('llama3.1_8b_chat', 'medals_9k', 'base', 'main', 'prompt_only')",
         "marker": {
          "color": "#8c564b",
          "opacity": 0.5,
          "size": 6
         },
         "mode": "markers",
         "name": "('llama3.1_8b_chat', 'medals_9k', 'base', 'main', 'prompt_only') Fold ('direction_accuracy_score', 4)",
         "showlegend": false,
         "type": "scatter",
         "x": {
          "bdata": "AAECAwQFBgcICQoLDA0ODxAREhMUFRYXGBkaGxwdHh8=",
          "dtype": "i1"
         },
         "y": {
          "bdata": "juM4juM44z9ERERERETjP7ZgC7ZgC+M/VVVVVVVV4z/Ygi3Ygi3jPxdswRZsweM/OY7jOI7j4j+lT/qkT/rgP3d3d3d3d+M/HMdxHMdx4z8u2IIt2ILjP1VVVVVVVeM/lD7pkz7p4z8GW7AFW7DjPxdswRZsweM/7+7u7u7u5D/6pE/6pE/jPyh90id90uM/gy3Ygi3Y5D9ERERERETkP+/u7u7u7uQ/OY7jOI7j5D9hC7ZgC7bkP4mIiIiIiOQ/YQu2YAu25D/HcRzHcRzjP2zBFmzBFuQ/C7ZgC7Zg5D990id90ifkP4Mt2IIt2OQ/IiIiIiIi5D+DLdiCLdjhPw==",
          "dtype": "f8"
         }
        }
       ],
       "layout": {
        "font": {
         "color": "white"
        },
        "height": 600,
        "legend": {
         "bgcolor": "rgba(32, 32, 32, 0.8)",
         "orientation": "h",
         "x": 0.5,
         "xanchor": "center",
         "y": 1.02,
         "yanchor": "bottom"
        },
        "margin": {
         "b": 50,
         "l": 50,
         "r": 30,
         "t": 100
        },
        "paper_bgcolor": "rgba(32, 32, 32, 1)",
        "plot_bgcolor": "rgba(32, 32, 32, 1)",
        "showlegend": true,
        "template": {
         "data": {
          "bar": [
           {
            "error_x": {
             "color": "#f2f5fa"
            },
            "error_y": {
             "color": "#f2f5fa"
            },
            "marker": {
             "line": {
              "color": "rgb(17,17,17)",
              "width": 0.5
             },
             "pattern": {
              "fillmode": "overlay",
              "size": 10,
              "solidity": 0.2
             }
            },
            "type": "bar"
           }
          ],
          "barpolar": [
           {
            "marker": {
             "line": {
              "color": "rgb(17,17,17)",
              "width": 0.5
             },
             "pattern": {
              "fillmode": "overlay",
              "size": 10,
              "solidity": 0.2
             }
            },
            "type": "barpolar"
           }
          ],
          "carpet": [
           {
            "aaxis": {
             "endlinecolor": "#A2B1C6",
             "gridcolor": "#506784",
             "linecolor": "#506784",
             "minorgridcolor": "#506784",
             "startlinecolor": "#A2B1C6"
            },
            "baxis": {
             "endlinecolor": "#A2B1C6",
             "gridcolor": "#506784",
             "linecolor": "#506784",
             "minorgridcolor": "#506784",
             "startlinecolor": "#A2B1C6"
            },
            "type": "carpet"
           }
          ],
          "choropleth": [
           {
            "colorbar": {
             "outlinewidth": 0,
             "ticks": ""
            },
            "type": "choropleth"
           }
          ],
          "contour": [
           {
            "colorbar": {
             "outlinewidth": 0,
             "ticks": ""
            },
            "colorscale": [
             [
              0,
              "#0d0887"
             ],
             [
              0.1111111111111111,
              "#46039f"
             ],
             [
              0.2222222222222222,
              "#7201a8"
             ],
             [
              0.3333333333333333,
              "#9c179e"
             ],
             [
              0.4444444444444444,
              "#bd3786"
             ],
             [
              0.5555555555555556,
              "#d8576b"
             ],
             [
              0.6666666666666666,
              "#ed7953"
             ],
             [
              0.7777777777777778,
              "#fb9f3a"
             ],
             [
              0.8888888888888888,
              "#fdca26"
             ],
             [
              1,
              "#f0f921"
             ]
            ],
            "type": "contour"
           }
          ],
          "contourcarpet": [
           {
            "colorbar": {
             "outlinewidth": 0,
             "ticks": ""
            },
            "type": "contourcarpet"
           }
          ],
          "heatmap": [
           {
            "colorbar": {
             "outlinewidth": 0,
             "ticks": ""
            },
            "colorscale": [
             [
              0,
              "#0d0887"
             ],
             [
              0.1111111111111111,
              "#46039f"
             ],
             [
              0.2222222222222222,
              "#7201a8"
             ],
             [
              0.3333333333333333,
              "#9c179e"
             ],
             [
              0.4444444444444444,
              "#bd3786"
             ],
             [
              0.5555555555555556,
              "#d8576b"
             ],
             [
              0.6666666666666666,
              "#ed7953"
             ],
             [
              0.7777777777777778,
              "#fb9f3a"
             ],
             [
              0.8888888888888888,
              "#fdca26"
             ],
             [
              1,
              "#f0f921"
             ]
            ],
            "type": "heatmap"
           }
          ],
          "histogram": [
           {
            "marker": {
             "pattern": {
              "fillmode": "overlay",
              "size": 10,
              "solidity": 0.2
             }
            },
            "type": "histogram"
           }
          ],
          "histogram2d": [
           {
            "colorbar": {
             "outlinewidth": 0,
             "ticks": ""
            },
            "colorscale": [
             [
              0,
              "#0d0887"
             ],
             [
              0.1111111111111111,
              "#46039f"
             ],
             [
              0.2222222222222222,
              "#7201a8"
             ],
             [
              0.3333333333333333,
              "#9c179e"
             ],
             [
              0.4444444444444444,
              "#bd3786"
             ],
             [
              0.5555555555555556,
              "#d8576b"
             ],
             [
              0.6666666666666666,
              "#ed7953"
             ],
             [
              0.7777777777777778,
              "#fb9f3a"
             ],
             [
              0.8888888888888888,
              "#fdca26"
             ],
             [
              1,
              "#f0f921"
             ]
            ],
            "type": "histogram2d"
           }
          ],
          "histogram2dcontour": [
           {
            "colorbar": {
             "outlinewidth": 0,
             "ticks": ""
            },
            "colorscale": [
             [
              0,
              "#0d0887"
             ],
             [
              0.1111111111111111,
              "#46039f"
             ],
             [
              0.2222222222222222,
              "#7201a8"
             ],
             [
              0.3333333333333333,
              "#9c179e"
             ],
             [
              0.4444444444444444,
              "#bd3786"
             ],
             [
              0.5555555555555556,
              "#d8576b"
             ],
             [
              0.6666666666666666,
              "#ed7953"
             ],
             [
              0.7777777777777778,
              "#fb9f3a"
             ],
             [
              0.8888888888888888,
              "#fdca26"
             ],
             [
              1,
              "#f0f921"
             ]
            ],
            "type": "histogram2dcontour"
           }
          ],
          "mesh3d": [
           {
            "colorbar": {
             "outlinewidth": 0,
             "ticks": ""
            },
            "type": "mesh3d"
           }
          ],
          "parcoords": [
           {
            "line": {
             "colorbar": {
              "outlinewidth": 0,
              "ticks": ""
             }
            },
            "type": "parcoords"
           }
          ],
          "pie": [
           {
            "automargin": true,
            "type": "pie"
           }
          ],
          "scatter": [
           {
            "marker": {
             "line": {
              "color": "#283442"
             }
            },
            "type": "scatter"
           }
          ],
          "scatter3d": [
           {
            "line": {
             "colorbar": {
              "outlinewidth": 0,
              "ticks": ""
             }
            },
            "marker": {
             "colorbar": {
              "outlinewidth": 0,
              "ticks": ""
             }
            },
            "type": "scatter3d"
           }
          ],
          "scattercarpet": [
           {
            "marker": {
             "colorbar": {
              "outlinewidth": 0,
              "ticks": ""
             }
            },
            "type": "scattercarpet"
           }
          ],
          "scattergeo": [
           {
            "marker": {
             "colorbar": {
              "outlinewidth": 0,
              "ticks": ""
             }
            },
            "type": "scattergeo"
           }
          ],
          "scattergl": [
           {
            "marker": {
             "line": {
              "color": "#283442"
             }
            },
            "type": "scattergl"
           }
          ],
          "scattermap": [
           {
            "marker": {
             "colorbar": {
              "outlinewidth": 0,
              "ticks": ""
             }
            },
            "type": "scattermap"
           }
          ],
          "scattermapbox": [
           {
            "marker": {
             "colorbar": {
              "outlinewidth": 0,
              "ticks": ""
             }
            },
            "type": "scattermapbox"
           }
          ],
          "scatterpolar": [
           {
            "marker": {
             "colorbar": {
              "outlinewidth": 0,
              "ticks": ""
             }
            },
            "type": "scatterpolar"
           }
          ],
          "scatterpolargl": [
           {
            "marker": {
             "colorbar": {
              "outlinewidth": 0,
              "ticks": ""
             }
            },
            "type": "scatterpolargl"
           }
          ],
          "scatterternary": [
           {
            "marker": {
             "colorbar": {
              "outlinewidth": 0,
              "ticks": ""
             }
            },
            "type": "scatterternary"
           }
          ],
          "surface": [
           {
            "colorbar": {
             "outlinewidth": 0,
             "ticks": ""
            },
            "colorscale": [
             [
              0,
              "#0d0887"
             ],
             [
              0.1111111111111111,
              "#46039f"
             ],
             [
              0.2222222222222222,
              "#7201a8"
             ],
             [
              0.3333333333333333,
              "#9c179e"
             ],
             [
              0.4444444444444444,
              "#bd3786"
             ],
             [
              0.5555555555555556,
              "#d8576b"
             ],
             [
              0.6666666666666666,
              "#ed7953"
             ],
             [
              0.7777777777777778,
              "#fb9f3a"
             ],
             [
              0.8888888888888888,
              "#fdca26"
             ],
             [
              1,
              "#f0f921"
             ]
            ],
            "type": "surface"
           }
          ],
          "table": [
           {
            "cells": {
             "fill": {
              "color": "#506784"
             },
             "line": {
              "color": "rgb(17,17,17)"
             }
            },
            "header": {
             "fill": {
              "color": "#2a3f5f"
             },
             "line": {
              "color": "rgb(17,17,17)"
             }
            },
            "type": "table"
           }
          ]
         },
         "layout": {
          "annotationdefaults": {
           "arrowcolor": "#f2f5fa",
           "arrowhead": 0,
           "arrowwidth": 1
          },
          "autotypenumbers": "strict",
          "coloraxis": {
           "colorbar": {
            "outlinewidth": 0,
            "ticks": ""
           }
          },
          "colorscale": {
           "diverging": [
            [
             0,
             "#8e0152"
            ],
            [
             0.1,
             "#c51b7d"
            ],
            [
             0.2,
             "#de77ae"
            ],
            [
             0.3,
             "#f1b6da"
            ],
            [
             0.4,
             "#fde0ef"
            ],
            [
             0.5,
             "#f7f7f7"
            ],
            [
             0.6,
             "#e6f5d0"
            ],
            [
             0.7,
             "#b8e186"
            ],
            [
             0.8,
             "#7fbc41"
            ],
            [
             0.9,
             "#4d9221"
            ],
            [
             1,
             "#276419"
            ]
           ],
           "sequential": [
            [
             0,
             "#0d0887"
            ],
            [
             0.1111111111111111,
             "#46039f"
            ],
            [
             0.2222222222222222,
             "#7201a8"
            ],
            [
             0.3333333333333333,
             "#9c179e"
            ],
            [
             0.4444444444444444,
             "#bd3786"
            ],
            [
             0.5555555555555556,
             "#d8576b"
            ],
            [
             0.6666666666666666,
             "#ed7953"
            ],
            [
             0.7777777777777778,
             "#fb9f3a"
            ],
            [
             0.8888888888888888,
             "#fdca26"
            ],
            [
             1,
             "#f0f921"
            ]
           ],
           "sequentialminus": [
            [
             0,
             "#0d0887"
            ],
            [
             0.1111111111111111,
             "#46039f"
            ],
            [
             0.2222222222222222,
             "#7201a8"
            ],
            [
             0.3333333333333333,
             "#9c179e"
            ],
            [
             0.4444444444444444,
             "#bd3786"
            ],
            [
             0.5555555555555556,
             "#d8576b"
            ],
            [
             0.6666666666666666,
             "#ed7953"
            ],
            [
             0.7777777777777778,
             "#fb9f3a"
            ],
            [
             0.8888888888888888,
             "#fdca26"
            ],
            [
             1,
             "#f0f921"
            ]
           ]
          },
          "colorway": [
           "#636efa",
           "#EF553B",
           "#00cc96",
           "#ab63fa",
           "#FFA15A",
           "#19d3f3",
           "#FF6692",
           "#B6E880",
           "#FF97FF",
           "#FECB52"
          ],
          "font": {
           "color": "#f2f5fa"
          },
          "geo": {
           "bgcolor": "rgb(17,17,17)",
           "lakecolor": "rgb(17,17,17)",
           "landcolor": "rgb(17,17,17)",
           "showlakes": true,
           "showland": true,
           "subunitcolor": "#506784"
          },
          "hoverlabel": {
           "align": "left"
          },
          "hovermode": "closest",
          "mapbox": {
           "style": "dark"
          },
          "paper_bgcolor": "rgb(17,17,17)",
          "plot_bgcolor": "rgb(17,17,17)",
          "polar": {
           "angularaxis": {
            "gridcolor": "#506784",
            "linecolor": "#506784",
            "ticks": ""
           },
           "bgcolor": "rgb(17,17,17)",
           "radialaxis": {
            "gridcolor": "#506784",
            "linecolor": "#506784",
            "ticks": ""
           }
          },
          "scene": {
           "xaxis": {
            "backgroundcolor": "rgb(17,17,17)",
            "gridcolor": "#506784",
            "gridwidth": 2,
            "linecolor": "#506784",
            "showbackground": true,
            "ticks": "",
            "zerolinecolor": "#C8D4E3"
           },
           "yaxis": {
            "backgroundcolor": "rgb(17,17,17)",
            "gridcolor": "#506784",
            "gridwidth": 2,
            "linecolor": "#506784",
            "showbackground": true,
            "ticks": "",
            "zerolinecolor": "#C8D4E3"
           },
           "zaxis": {
            "backgroundcolor": "rgb(17,17,17)",
            "gridcolor": "#506784",
            "gridwidth": 2,
            "linecolor": "#506784",
            "showbackground": true,
            "ticks": "",
            "zerolinecolor": "#C8D4E3"
           }
          },
          "shapedefaults": {
           "line": {
            "color": "#f2f5fa"
           }
          },
          "sliderdefaults": {
           "bgcolor": "#C8D4E3",
           "bordercolor": "rgb(17,17,17)",
           "borderwidth": 1,
           "tickwidth": 0
          },
          "ternary": {
           "aaxis": {
            "gridcolor": "#506784",
            "linecolor": "#506784",
            "ticks": ""
           },
           "baxis": {
            "gridcolor": "#506784",
            "linecolor": "#506784",
            "ticks": ""
           },
           "bgcolor": "rgb(17,17,17)",
           "caxis": {
            "gridcolor": "#506784",
            "linecolor": "#506784",
            "ticks": ""
           }
          },
          "title": {
           "x": 0.05
          },
          "updatemenudefaults": {
           "bgcolor": "#506784",
           "borderwidth": 0
          },
          "xaxis": {
           "automargin": true,
           "gridcolor": "#283442",
           "linecolor": "#506784",
           "ticks": "",
           "title": {
            "standoff": 15
           },
           "zerolinecolor": "#283442",
           "zerolinewidth": 2
          },
          "yaxis": {
           "automargin": true,
           "gridcolor": "#283442",
           "linecolor": "#506784",
           "ticks": "",
           "title": {
            "standoff": 15
           },
           "zerolinecolor": "#283442",
           "zerolinewidth": 2
          }
         }
        },
        "title": {},
        "width": 1000,
        "xaxis": {
         "gridcolor": "rgba(128, 128, 128, 0.2)",
         "title": {
          "text": "Layer"
         },
         "zeroline": false
        },
        "yaxis": {
         "gridcolor": "rgba(128, 128, 128, 0.2)",
         "title": {
          "text": "Direction Accuracy Score"
         },
         "zeroline": false
        }
       }
      }
     },
     "metadata": {},
     "output_type": "display_data"
    },
    {
     "name": "stdout",
     "output_type": "stream",
     "text": [
      "conf=('llama3.1_8b_chat', 'birth_years_4k', 'base', 'main', 'prompt_answer')\n",
      "conf=('llama3.1_8b_chat', 'birth_years_4k', 'base', 'main', 'prompt_only')\n",
      "conf=('llama3.1_8b_chat', 'cities_10k', 'base', 'main', 'prompt_answer')\n",
      "conf=('llama3.1_8b_chat', 'cities_10k', 'base', 'main', 'prompt_only')\n",
      "conf=('llama3.1_8b_chat', 'football_leagues_1k', 'base', 'main', 'prompt_answer')\n",
      "conf=('llama3.1_8b_chat', 'football_leagues_1k', 'base', 'main', 'prompt_only')\n",
      "conf=('llama3.1_8b_chat', 'gsm8k', 'base_3_shot', 'main', 'prompt_answer')\n",
      "conf=('llama3.1_8b_chat', 'gsm8k', 'base_3_shot', 'main', 'prompt_only')\n",
      "conf=('llama3.1_8b_chat', 'gsm8k', 'cot_3_shot', 'main', 'prompt_answer')\n",
      "conf=('llama3.1_8b_chat', 'gsm8k', 'cot_3_shot', 'main', 'prompt_only')\n",
      "conf=('llama3.1_8b_chat', 'medals_9k', 'base', 'main', 'prompt_answer')\n",
      "conf=('llama3.1_8b_chat', 'medals_9k', 'base', 'main', 'prompt_only')\n"
     ]
    },
    {
     "data": {
      "application/vnd.plotly.v1+json": {
       "config": {
        "plotlyServerURL": "https://plot.ly"
       },
       "data": [
        {
         "legendgroup": "('llama3.1_8b_chat', 'birth_years_4k', 'base', 'main', 'prompt_answer')",
         "line": {
          "color": "#1f77b4",
          "width": 2
         },
         "marker": {
          "size": 8
         },
         "mode": "lines+markers",
         "name": "('llama3.1_8b_chat', 'birth_years_4k', 'base', 'main', 'prompt_answer')",
         "type": "scatter",
         "x": {
          "bdata": "AAECAwQFBgcICQoLDA0ODxAREhMUFRYXGBkaGxwdHh8=",
          "dtype": "i1"
         },
         "y": {
          "bdata": "8teqTFMO4j/c2hurP9DjP5V2TSyFguQ/kix4/xkG5T8OQluI5t/kPyrgF27tjeU/3aYPAczz5T/Dk7fcwBXmPyxrfC/pXeY/04cA5vkq5j9Wch1dLVHmP8po8conYuY/y/NVjCMy5z/tmlgKBQnmP0I0/yaJv+Y/LWt8L+ld5j9whXWBOC/mPzaKi0q7JuY/DYPqHHcz5j/yb5L4a1XmP/2OoRM+HuY/cIV1gTgv5j8iwQhTG8XlP+fFHhyevOU/5sUeHJ685T8B2XZAqZrlP3gZINsOKOU/1tHVEmWn5T8GrrAuEOflP+N7Se8yQOY/AmTbAaVq5j9whXWBOC/mPw==",
          "dtype": "f8"
         }
        },
        {
         "legendgroup": "('llama3.1_8b_chat', 'birth_years_4k', 'base', 'main', 'prompt_answer')",
         "line": {
          "width": 0
         },
         "mode": "lines",
         "name": "('llama3.1_8b_chat', 'birth_years_4k', 'base', 'main', 'prompt_answer') Max",
         "showlegend": false,
         "type": "scatter",
         "x": {
          "bdata": "AAECAwQFBgcICQoLDA0ODxAREhMUFRYXGBkaGxwdHh8=",
          "dtype": "i1"
         },
         "y": {
          "bdata": "XTrUYHcm4z9MhxrszmTkP9sbqz/QI+U/eqSEnAr45T861GB3JqPlPykhpwJ+4eY/idlcOtRg5z9Z/YEeKSHnP2nxyidiNuc/mc2lQw125z9p8conYjbnP5nNpUMNduc/KGI2lw416D/pUIPdmYzmP0kJORXwC+c/eeUTMZtL5z8pIacCfuHmP9pcOtRgd+Y/KSGnAn7h5j8pIacCfuHmP4nZXDrUYOc/ORXwC7f25j/aXDrUYHfmP1n9gR4pIec/6VCD3ZmM5j/pUIPdmYzmPzrUYHcmo+U/GS1e+UTM5j8JORXwC7fmP0kJORXwC+c/eeUTMZtL5z9p8conYjbnPw==",
          "dtype": "f8"
         }
        },
        {
         "fill": "tonexty",
         "fillcolor": "rgba(31, 119, 180, 0.1)",
         "legendgroup": "('llama3.1_8b_chat', 'birth_years_4k', 'base', 'main', 'prompt_answer')",
         "line": {
          "width": 0
         },
         "mode": "lines",
         "name": "('llama3.1_8b_chat', 'birth_years_4k', 'base', 'main', 'prompt_answer') Min",
         "showlegend": false,
         "type": "scatter",
         "x": {
          "bdata": "AAECAwQFBgcICQoLDA0ODxAREhMUFRYXGBkaGxwdHh8=",
          "dtype": "i1"
         },
         "y": {
          "bdata": "b6z+QI+U4D8NdmcyWrziPwy39sbqD+Q/LJ+I2Vw65D8cqz/QIyXkPxyrP9AjJeQ/HKs/0CMl5D9ce2P1B3rkP2tvrP5Aj+Q/2xurP9Aj5T/bG6s/0CPlP6s/0CMl5OQ/arA7k9Hi5T+7MxktXvnkP7p0qMHuTOY/G+zOZLR45T/rD/RICTnlPzrUYHcmo+U/G+zOZLR45T9KyKmAX7jlP5tLhxrszuQ/+wM9UkJO5T/bG6s/0CPlP7szGS1e+eQ/DLf2xuoP5D+LVz4Rs7nkP4tXPhGzueQ/DLf2xuoP5D/7Az1SQk7lP3tj9Qd6pOQ/C/iFW3tj5T/7Az1SQk7lPw==",
          "dtype": "f8"
         }
        },
        {
         "legendgroup": "('llama3.1_8b_chat', 'birth_years_4k', 'base', 'main', 'prompt_answer')",
         "line": {
          "width": 0
         },
         "mode": "lines",
         "name": "('llama3.1_8b_chat', 'birth_years_4k', 'base', 'main', 'prompt_answer') +1 STD",
         "showlegend": false,
         "type": "scatter",
         "x": {
          "bdata": "AAECAwQFBgcICQoLDA0ODxAREhMUFRYXGBkaGxwdHh8=",
          "dtype": "i1"
         },
         "y": {
          "bdata": "a0cR+fQK4z9ce2P1B3rkP9VMbnZo8eQ/kmKVDmm35T/fO56aSn7lP9iUTE47ouY/jJyriH0r5z/ETjvtwxfnP119CJrYaOc/XKwCwc4R5z8DUH+1SynnPz9170Hcb+c/MLChU24V6D/tau3vXa7mPwt5S/l2C+c/F1hi1DwL5z/YW6tpptLmP1DFYoq0duY/DVN/AtDY5j8+331rz93mPyGRdu0gDec/nafIbFbT5j8cLFV61UvmPzUvi3sdkuY/t2Ixfvq+5j8x2kyzhWHmP+RYnLXriuU/O5en5Ky85j9/CXpo9HTmP9+WhDYPN+c/FzrxzTA/5z9JWo+6AfrmPw==",
          "dtype": "f8"
         }
        },
        {
         "fill": "tonexty",
         "fillcolor": "rgba(31, 119, 180, 0.3)",
         "legendgroup": "('llama3.1_8b_chat', 'birth_years_4k', 'base', 'main', 'prompt_answer')",
         "line": {
          "width": 0
         },
         "mode": "lines",
         "name": "('llama3.1_8b_chat', 'birth_years_4k', 'base', 'main', 'prompt_answer') -1 STD",
         "showlegend": false,
         "type": "scatter",
         "x": {
          "bdata": "AAECAwQFBgcICQoLDA0ODxAREhMUFRYXGBkaGxwdHh8=",
          "dtype": "i1"
         },
         "y": {
          "bdata": "eWhEoLER4T9cOtRgdybjP1WgLOKhE+Q/kvZa8MpU5D89SBh2gkHkP3wr442feeQ/LrFzeRq85D/C2DPMvRPlP/tY8MT5UuU/SmP+CiVE5T+plLsED3nlP1Vc81NzVOU/ZjcKxdhO5j/tysMkrGPlP3nvslSbc+Y/Q36WipWw5T8Irz+ZyovlPxxPtArC1uU/DbNVNx6O5T+mAKeFCM3lP9mMzDlbL+U/Q2MilhqL5T8oVrwrYT7lP5lcsrwe5+Q/FSkMukG65D/R16DNzNPkPwzaowAyxeQ/cQwEQR2S5D+NUuf0K1nlP+dgDqhWSeU/7Y3FNRmW5T+XsFtIb2TlPw==",
          "dtype": "f8"
         }
        },
        {
         "legendgroup": "('llama3.1_8b_chat', 'birth_years_4k', 'base', 'main', 'prompt_answer')",
         "marker": {
          "color": "#1f77b4",
          "opacity": 0.5,
          "size": 6
         },
         "mode": "markers",
         "name": "('llama3.1_8b_chat', 'birth_years_4k', 'base', 'main', 'prompt_answer') Fold ('logistic_regression_accuracy_score', 0)",
         "showlegend": false,
         "type": "scatter",
         "x": {
          "bdata": "AAECAwQFBgcICQoLDA0ODxAREhMUFRYXGBkaGxwdHh8=",
          "dtype": "i1"
         },
         "y": {
          "bdata": "XTrUYHcm4z9MhxrszmTkP2tvrP5Aj+Q/+wM9UkJO5T8L+IVbe2PlP2qwO5PR4uU/ipjNpUMN5j9qsDuT0eLlP2nxyidiNuc/mc2lQw125z9p8conYjbnP5nNpUMNduc/KGI2lw416D9qsDuT0eLlP0kJORXwC+c/ipjNpUMN5j+KmM2lQw3mP5qMFq98IuY/GS1e+UTM5j9avPKJmM3lP5tLhxrszuQ/2lw61GB35j9avPKJmM3lP1q88omYzeU/6VCD3ZmM5j+KmM2lQw3mP4tXPhGzueQ/6w/0SAk55T96pIScCvjlP+lQg92ZjOY/SsipgF+45T8q4Bdu7Y3lPw==",
          "dtype": "f8"
         }
        },
        {
         "legendgroup": "('llama3.1_8b_chat', 'birth_years_4k', 'base', 'main', 'prompt_answer')",
         "marker": {
          "color": "#1f77b4",
          "opacity": 0.5,
          "size": 6
         },
         "mode": "markers",
         "name": "('llama3.1_8b_chat', 'birth_years_4k', 'base', 'main', 'prompt_answer') Fold ('logistic_regression_accuracy_score', 1)",
         "showlegend": false,
         "type": "scatter",
         "x": {
          "bdata": "AAECAwQFBgcICQoLDA0ODxAREhMUFRYXGBkaGxwdHh8=",
          "dtype": "i1"
         },
         "y": {
          "bdata": "DXZnMlq84j8sn4jZXDrkP3tj9Qd6pOQ/2xurP9Aj5T97Y/UHeqTkP5tLhxrszuQ/HKs/0CMl5D9ce2P1B3rkP2tvrP5Aj+Q/2xurP9Aj5T/bG6s/0CPlP6s/0CMl5OQ/arA7k9Hi5T+6dKjB7kzmP7p0qMHuTOY/G+zOZLR45T/rD/RICTnlPzrUYHcmo+U/G+zOZLR45T9KyKmAX7jlP1q88omYzeU/WrzyiZjN5T8L+IVbe2PlP7szGS1e+eQ/DLf2xuoP5D+rP9AjJeTkP5tLhxrszuQ/DLf2xuoP5D8b7M5ktHjlP3tj9Qd6pOQ/C/iFW3tj5T/7Az1SQk7lPw==",
          "dtype": "f8"
         }
        },
        {
         "legendgroup": "('llama3.1_8b_chat', 'birth_years_4k', 'base', 'main', 'prompt_answer')",
         "marker": {
          "color": "#1f77b4",
          "opacity": 0.5,
          "size": 6
         },
         "mode": "markers",
         "name": "('llama3.1_8b_chat', 'birth_years_4k', 'base', 'main', 'prompt_answer') Fold ('logistic_regression_accuracy_score', 2)",
         "showlegend": false,
         "type": "scatter",
         "x": {
          "bdata": "AAECAwQFBgcICQoLDA0ODxAREhMUFRYXGBkaGxwdHh8=",
          "dtype": "i1"
         },
         "y": {
          "bdata": "b6z+QI+U4D+88omYzaXjPwy39sbqD+Q/eqSEnAr45T8cqz/QIyXkPxyrP9AjJeQ/KuAXbu2N5T+6dKjB7kzmPykhpwJ+4eY/mowWr3wi5j96pIScCvjlP0kJORXwC+c/2J3JaPHK5z+7MxktXvnkPzkV8Au39uY/+UTM5tKh5j/5RMzm0qHmP7p0qMHuTOY/KSGnAn7h5j/5RMzm0qHmP8po8conYuY/+wM9UkJO5T+KmM2lQw3mPxvszmS0eOU/mowWr3wi5j9avPKJmM3lPwv4hVt7Y+U/GS1e+UTM5j/7Az1SQk7lP5qMFq98IuY/eeUTMZtL5z9p8conYjbnPw==",
          "dtype": "f8"
         }
        },
        {
         "legendgroup": "('llama3.1_8b_chat', 'birth_years_4k', 'base', 'main', 'prompt_answer')",
         "marker": {
          "color": "#1f77b4",
          "opacity": 0.5,
          "size": 6
         },
         "mode": "markers",
         "name": "('llama3.1_8b_chat', 'birth_years_4k', 'base', 'main', 'prompt_answer') Fold ('logistic_regression_accuracy_score', 3)",
         "showlegend": false,
         "type": "scatter",
         "x": {
          "bdata": "AAECAwQFBgcICQoLDA0ODxAREhMUFRYXGBkaGxwdHh8=",
          "dtype": "i1"
         },
         "y": {
          "bdata": "XvlEzObS4T8NdmcyWrziP9sbqz/QI+U/XHtj9Qd65D9rb6z+QI/kPykhpwJ+4eY/idlcOtRg5z/5RMzm0qHmP+lQg92ZjOY/KuAXbu2N5T+qgF+4tTfmP0rIqYBfuOU/ORXwC7f25j/aXDrUYHfmP/lEzObSoeY/ymjxyidi5j8pIacCfuHmP6qAX7i1N+Y/OtRgdyaj5T8pIacCfuHmP6qAX7i1N+Y/ymjxyidi5j/bG6s/0CPlP/sDPVJCTuU/KuAXbu2N5T+LVz4Rs7nkP+sP9EgJOeU/SsipgF+45T+KmM2lQw3mPykhpwJ+4eY/+UTM5tKh5j+ajBavfCLmPw==",
          "dtype": "f8"
         }
        },
        {
         "legendgroup": "('llama3.1_8b_chat', 'birth_years_4k', 'base', 'main', 'prompt_answer')",
         "marker": {
          "color": "#1f77b4",
          "opacity": 0.5,
          "size": 6
         },
         "mode": "markers",
         "name": "('llama3.1_8b_chat', 'birth_years_4k', 'base', 'main', 'prompt_answer') Fold ('logistic_regression_accuracy_score', 4)",
         "showlegend": false,
         "type": "scatter",
         "x": {
          "bdata": "AAECAwQFBgcICQoLDA0ODxAREhMUFRYXGBkaGxwdHh8=",
          "dtype": "i1"
         },
         "y": {
          "bdata": "fuHW3lj94T8Mt/bG6g/kPxyrP9AjJeQ/LJ+I2Vw65D861GB3JqPlP4qYzaVDDeY/+UTM5tKh5j9Z/YEeKSHnP/lEzObSoeY/6VCD3ZmM5j9JCTkV8AvnPxktXvlEzOY/Wf2BHikh5z/pUIPdmYzmPxktXvlEzOY/eeUTMZtL5z+ajBavfCLmP9pcOtRgd+Y/qoBfuLU35j/5RMzm0qHmP4nZXDrUYOc/ORXwC7f25j/aXDrUYHfmP1n9gR4pIec/ymjxyidi5j/pUIPdmYzmPzrUYHcmo+U/2lw61GB35j8JORXwC7fmP0kJORXwC+c/SQk5FfAL5z8JORXwC7fmPw==",
          "dtype": "f8"
         }
        },
        {
         "legendgroup": "('llama3.1_8b_chat', 'birth_years_4k', 'base', 'main', 'prompt_only')",
         "line": {
          "color": "#ff7f0e",
          "width": 2
         },
         "marker": {
          "size": 8
         },
         "mode": "lines+markers",
         "name": "('llama3.1_8b_chat', 'birth_years_4k', 'base', 'main', 'prompt_only')",
         "type": "scatter",
         "x": {
          "bdata": "AAECAwQFBgcICQoLDA0ODxAREhMUFRYXGBkaGxwdHh8=",
          "dtype": "i1"
         },
         "y": {
          "bdata": "5S03cIV14T+jnqLfMXTiP5wK+IVbe+M/ediQRn7U4z+GggQjTG3kP/sDPVJCTuU/JpZCQYIR5j82iotKuybmP82yxveS3uU/mowWr3wi5j/je0nvMkDmP7OfbtOHAOY/lbfcwBXW5T/aXDrUYHfmP9OHAOb5KuY/LWt8L+ld5j9mZmZmZmbmP0rIqYBfuOU/DoPqHHcz5j+KmM2lQw3mPx13MyawSOY/kG0HlKpZ5j+QbQeUqlnmP1ZyHV0tUeY/cIV1gTgv5j/zb5L4a1XmP8po8conYuY/3aYPAczz5T8mlkJBghHmPyaWQkGCEeY/WrzyiZjN5T/Nssb3kt7lPw==",
          "dtype": "f8"
         }
        },
        {
         "legendgroup": "('llama3.1_8b_chat', 'birth_years_4k', 'base', 'main', 'prompt_only')",
         "line": {
          "width": 0
         },
         "mode": "lines",
         "name": "('llama3.1_8b_chat', 'birth_years_4k', 'base', 'main', 'prompt_only') Max",
         "showlegend": false,
         "type": "scatter",
         "x": {
          "bdata": "AAECAwQFBgcICQoLDA0ODxAREhMUFRYXGBkaGxwdHh8=",
          "dtype": "i1"
         },
         "y": {
          "bdata": "3Nobqz/Q4z+dCviFW3vjP9zaG6s/0OM/a2+s/kCP5D/LJ2I2lw7lP5qMFq98IuY/KSGnAn7h5j9Z/YEeKSHnP+lQg92ZjOY/afHKJ2I25z955RMxm0vnPykhpwJ+4eY/unSowe5M5j+owe5MRovnP6jB7kxGi+c/CTkV8Au35j85FfALt/bmPwk5FfALt+Y/eeUTMZtL5z8JORXwC7fmP1n9gR4pIec/afHKJ2I25z9JCTkV8AvnP2nxyidiNuc/SQk5FfAL5z+owe5MRovnP0kJORXwC+c/2lw61GB35j8pIacCfuHmPxktXvlEzOY/mowWr3wi5j+qgF+4tTfmPw==",
          "dtype": "f8"
         }
        },
        {
         "fill": "tonexty",
         "fillcolor": "rgba(255, 127, 14, 0.1)",
         "legendgroup": "('llama3.1_8b_chat', 'birth_years_4k', 'base', 'main', 'prompt_only')",
         "line": {
          "width": 0
         },
         "mode": "lines",
         "name": "('llama3.1_8b_chat', 'birth_years_4k', 'base', 'main', 'prompt_only') Min",
         "showlegend": false,
         "type": "scatter",
         "x": {
          "bdata": "AAECAwQFBgcICQoLDA0ODxAREhMUFRYXGBkaGxwdHh8=",
          "dtype": "i1"
         },
         "y": {
          "bdata": "Ab9wa2+s3j+fiNlcOtTgP01Gi1c+EeM/PVJCTgX84j/M5tKhBrvjP1x7Y/UHeuQ/qz/QIyXk5D/rD/RICTnlP9sbqz/QI+U/OtRgdyaj5T861GB3JqPlP9sbqz/QI+U/G+zOZLR45T9qsDuT0eLlPyrgF27tjeU/ipjNpUMN5j/LJ2I2lw7lP2tvrP5Aj+Q/uzMZLV755D+7MxktXvnkPyrgF27tjeU/OtRgdyaj5T9KyKmAX7jlP0rIqYBfuOU/KuAXbu2N5T/7Az1SQk7lPxvszmS0eOU/2xurP9Aj5T/7Az1SQk7lPwv4hVt7Y+U/C/iFW3tj5T861GB3JqPlPw==",
          "dtype": "f8"
         }
        },
        {
         "legendgroup": "('llama3.1_8b_chat', 'birth_years_4k', 'base', 'main', 'prompt_only')",
         "line": {
          "width": 0
         },
         "mode": "lines",
         "name": "('llama3.1_8b_chat', 'birth_years_4k', 'base', 'main', 'prompt_only') +1 STD",
         "showlegend": false,
         "type": "scatter",
         "x": {
          "bdata": "AAECAwQFBgcICQoLDA0ODxAREhMUFRYXGBkaGxwdHh8=",
          "dtype": "i1"
         },
         "y": {
          "bdata": "Tyr6BIom4z+sHOPvA3TjP67g8sVVyeM/StLTWOJy5D8f3PCJggflPzu9UkwT5eU/tspKidLY5j805CrwDOrmP0Ruq0VBaeY/fnHa25rL5j9LNj9Ct+nmP7JBeBzPwuY/wCasD7sn5j9Z/YEeKSHnPzg3gtCc+eY/3iRv6bCh5j+QBhAhvDLnP+jPloUhjeY/wCqW+UI25z/hIZLxpuTmP2dLSy1P9+Y/wnoUKtT/5j/FDqETru7mPzo6q0ZfB+c/pSYPATzE5j9fMXY0miTnP83k1QOuAec/2mw2qOaH5j98dOHezLTmP51RJ48wnOY/TZsJOaEY5j/JI6rPKifmPw==",
          "dtype": "f8"
         }
        },
        {
         "fill": "tonexty",
         "fillcolor": "rgba(255, 127, 14, 0.3)",
         "legendgroup": "('llama3.1_8b_chat', 'birth_years_4k', 'base', 'main', 'prompt_only')",
         "line": {
          "width": 0
         },
         "mode": "lines",
         "name": "('llama3.1_8b_chat', 'birth_years_4k', 'base', 'main', 'prompt_only') -1 STD",
         "showlegend": false,
         "type": "scatter",
         "x": {
          "bdata": "AAECAwQFBgcICQoLDA0ODxAREhMUFRYXGBkaGxwdHh8=",
          "dtype": "i1"
         },
         "y": {
          "bdata": "9mLotgGJ3z+aIGLPX3ThP4o0/UVhLeM/qN5NNBo24z/tKBi8FdPjP7tKJ1hxt+Q/lmE6+TFK5T84MOykaWPlP1b34ankU+U/tqdSgl555T97wVOcrpblP7T9ZIpAPuU/akgNcnCE5T9bvPKJmM3lP27YfvtWXOU/fLGJdSEa5j88xryrEJrlP6zAvHud4+Q/XNs+QKsw5T8zDwla4DXlP9OiGx8RmuU/XmD6/YCz5T9bzG0Up8TlP3Kqj3P7muU/O+TbATWa5T+Hrq68PYblP8fsDJKhwuU/4ODoWbFf5T/Qt6OjN27lP6/aXfPThuU/Z93b2o+C5T/RQeMf+5XlPw==",
          "dtype": "f8"
         }
        },
        {
         "legendgroup": "('llama3.1_8b_chat', 'birth_years_4k', 'base', 'main', 'prompt_only')",
         "marker": {
          "color": "#ff7f0e",
          "opacity": 0.5,
          "size": 6
         },
         "mode": "markers",
         "name": "('llama3.1_8b_chat', 'birth_years_4k', 'base', 'main', 'prompt_only') Fold ('logistic_regression_accuracy_score', 0)",
         "showlegend": false,
         "type": "scatter",
         "x": {
          "bdata": "AAECAwQFBgcICQoLDA0ODxAREhMUFRYXGBkaGxwdHh8=",
          "dtype": "i1"
         },
         "y": {
          "bdata": "/0CPlJBT4T+fiNlcOtTgP30iZnPpUOM/a2+s/kCP5D8sn4jZXDrkPwv4hVt7Y+U/KSGnAn7h5j/KaPHKJ2LmP9sbqz/QI+U/OtRgdyaj5T+KmM2lQw3mPwk5FfALt+Y/eqSEnAr45T9qsDuT0eLlP6qAX7i1N+Y/qoBfuLU35j85FfALt/bmPwk5FfALt+Y/SQk5FfAL5z/5RMzm0qHmPwk5FfALt+Y/GS1e+UTM5j8pIacCfuHmP2nxyidiNuc/SQk5FfAL5z/aXDrUYHfmP6qAX7i1N+Y/qoBfuLU35j+qgF+4tTfmP1q88omYzeU/mowWr3wi5j+qgF+4tTfmPw==",
          "dtype": "f8"
         }
        },
        {
         "legendgroup": "('llama3.1_8b_chat', 'birth_years_4k', 'base', 'main', 'prompt_only')",
         "marker": {
          "color": "#ff7f0e",
          "opacity": 0.5,
          "size": 6
         },
         "mode": "markers",
         "name": "('llama3.1_8b_chat', 'birth_years_4k', 'base', 'main', 'prompt_only') Fold ('logistic_regression_accuracy_score', 1)",
         "showlegend": false,
         "type": "scatter",
         "x": {
          "bdata": "AAECAwQFBgcICQoLDA0ODxAREhMUFRYXGBkaGxwdHh8=",
          "dtype": "i1"
         },
         "y": {
          "bdata": "Ab9wa2+s3j/OpUMNdmfiP50K+IVbe+M/7M5ktHjl4z/M5tKhBrvjP1x7Y/UHeuQ/qz/QIyXk5D8q4Bdu7Y3lP5qMFq98IuY/afHKJ2I25z9avPKJmM3lPyrgF27tjeU/OtRgdyaj5T/KaPHKJ2LmP1q88omYzeU/ipjNpUMN5j85FfALt/bmP2tvrP5Aj+Q/C/iFW3tj5T/7Az1SQk7lPzrUYHcmo+U/qoBfuLU35j9KyKmAX7jlP0rIqYBfuOU/KuAXbu2N5T/7Az1SQk7lPxvszmS0eOU/2xurP9Aj5T/7Az1SQk7lPwv4hVt7Y+U/OtRgdyaj5T861GB3JqPlPw==",
          "dtype": "f8"
         }
        },
        {
         "legendgroup": "('llama3.1_8b_chat', 'birth_years_4k', 'base', 'main', 'prompt_only')",
         "marker": {
          "color": "#ff7f0e",
          "opacity": 0.5,
          "size": 6
         },
         "mode": "markers",
         "name": "('llama3.1_8b_chat', 'birth_years_4k', 'base', 'main', 'prompt_only') Fold ('logistic_regression_accuracy_score', 2)",
         "showlegend": false,
         "type": "scatter",
         "x": {
          "bdata": "AAECAwQFBgcICQoLDA0ODxAREhMUFRYXGBkaGxwdHh8=",
          "dtype": "i1"
         },
         "y": {
          "bdata": "rr2x+gM94j89UkJOBfziP9zaG6s/0OM/PVJCTgX84j/LJ2I2lw7lP+sP9EgJOeU/SsipgF+45T/rD/RICTnlP3qkhJwK+OU/unSowe5M5j861GB3JqPlP9sbqz/QI+U/unSowe5M5j96pIScCvjlPyrgF27tjeU/unSowe5M5j/LJ2I2lw7lP/sDPVJCTuU/unSowe5M5j/5RMzm0qHmP8po8conYuY/arA7k9Hi5T96pIScCvjlP1q88omYzeU/2lw61GB35j+KmM2lQw3mP7p0qMHuTOY/KuAXbu2N5T8q4Bdu7Y3lP3qkhJwK+OU/eqSEnAr45T+ajBavfCLmPw==",
          "dtype": "f8"
         }
        },
        {
         "legendgroup": "('llama3.1_8b_chat', 'birth_years_4k', 'base', 'main', 'prompt_only')",
         "marker": {
          "color": "#ff7f0e",
          "opacity": 0.5,
          "size": 6
         },
         "mode": "markers",
         "name": "('llama3.1_8b_chat', 'birth_years_4k', 'base', 'main', 'prompt_only') Fold ('logistic_regression_accuracy_score', 3)",
         "showlegend": false,
         "type": "scatter",
         "x": {
          "bdata": "AAECAwQFBgcICQoLDA0ODxAREhMUFRYXGBkaGxwdHh8=",
          "dtype": "i1"
         },
         "y": {
          "bdata": "3Nobqz/Q4z+dCviFW3vjP8zm0qEGu+M/nQr4hVt74z8Mt/bG6g/kP/sDPVJCTuU/ymjxyidi5j/aXDrUYHfmPyrgF27tjeU/arA7k9Hi5T/aXDrUYHfmP0rIqYBfuOU/G+zOZLR45T/pUIPdmYzmP0rIqYBfuOU/6VCD3ZmM5j8JORXwC7fmP1q88omYzeU/uzMZLV755D+7MxktXvnkPyrgF27tjeU/OtRgdyaj5T+ajBavfCLmP2qwO5PR4uU/eqSEnAr45T+6dKjB7kzmP0kJORXwC+c/ymjxyidi5j/KaPHKJ2LmPxktXvlEzOY/arA7k9Hi5T861GB3JqPlPw==",
          "dtype": "f8"
         }
        },
        {
         "legendgroup": "('llama3.1_8b_chat', 'birth_years_4k', 'base', 'main', 'prompt_only')",
         "marker": {
          "color": "#ff7f0e",
          "opacity": 0.5,
          "size": 6
         },
         "mode": "markers",
         "name": "('llama3.1_8b_chat', 'birth_years_4k', 'base', 'main', 'prompt_only') Fold ('logistic_regression_accuracy_score', 4)",
         "showlegend": false,
         "type": "scatter",
         "x": {
          "bdata": "AAECAwQFBgcICQoLDA0ODxAREhMUFRYXGBkaGxwdHh8=",
          "dtype": "i1"
         },
         "y": {
          "bdata": "b6z+QI+U4D/tjdUf6JHiP01Gi1c+EeM/LJ+I2Vw65D/LJ2I2lw7lP5qMFq98IuY/2lw61GB35j9Z/YEeKSHnP+lQg92ZjOY/OtRgdyaj5T955RMxm0vnPykhpwJ+4eY/WrzyiZjN5T+owe5MRovnP6jB7kxGi+c/CTkV8Au35j+6dKjB7kzmP6qAX7i1N+Y/eeUTMZtL5z8JORXwC7fmP1n9gR4pIec/afHKJ2I25z9JCTkV8AvnPzkV8Au39uY/arA7k9Hi5T+owe5MRovnPykhpwJ+4eY/2lw61GB35j8pIacCfuHmP8po8conYuY/C/iFW3tj5T9KyKmAX7jlPw==",
          "dtype": "f8"
         }
        },
        {
         "legendgroup": "('llama3.1_8b_chat', 'cities_10k', 'base', 'main', 'prompt_answer')",
         "line": {
          "color": "#2ca02c",
          "width": 2
         },
         "marker": {
          "size": 8
         },
         "mode": "lines+markers",
         "name": "('llama3.1_8b_chat', 'cities_10k', 'base', 'main', 'prompt_answer')",
         "type": "scatter",
         "x": {
          "bdata": "AAECAwQFBgcICQoLDA0ODxAREhMUFRYXGBkaGxwdHh8=",
          "dtype": "i1"
         },
         "y": {
          "bdata": "n2/yBAXg4z/ofWBBS9vjP8radNPj3OM/4SAqI+fO4z/6eUygskvkP1zh3FnEw+Q/tqeKskeI5T9gHuVqkAbmP722NleccOY/DMudJVuD5j+yk6HhxdrmP6Vmo9CzAec/nSooIMAo5z96YIiyb9/mPxvetzr+IOc/kydD1Rky5z8p9FoyHRnnP9wrJForJ+c/Vrb2cO5H5z9KquAwBFbnPyP4yjvgROc/4kfv3+5g5z9a0sH2sYHnP0bwF5VYX+c/JSMTYYV+5z+aQrKY7GDnPxXNhK+vgec/wvTHjRBy5z+TPnGLVV/nP8H0x40Qcuc/VUcCCR9n5z+V7qxvzE/nPw==",
          "dtype": "f8"
         }
        },
        {
         "legendgroup": "('llama3.1_8b_chat', 'cities_10k', 'base', 'main', 'prompt_answer')",
         "line": {
          "width": 0
         },
         "mode": "lines",
         "name": "('llama3.1_8b_chat', 'cities_10k', 'base', 'main', 'prompt_answer') Max",
         "showlegend": false,
         "type": "scatter",
         "x": {
          "bdata": "AAECAwQFBgcICQoLDA0ODxAREhMUFRYXGBkaGxwdHh8=",
          "dtype": "i1"
         },
         "y": {
          "bdata": "QeLw2nuK5D+B7ZShVmHkP/Hae4p0FeQ/RERERERE5D9B4vDae4rkP6wgcXjtPeU/Fl/xFV/x5T9Nh6PoJ7HmP4I2+LflTOc/MPkASWMW5z9Bpw102kDnP5h8gKQxi+c/6Hme53me5z8kDq+9p0jnP5QQ1i2qb+c/IaxbVN+O5z8+RboKEofnP3UVJA6vvec/W94YwUR/5z91FSQOr73nP+h5nud5nuc/WHzFV3zF5z/lF0t+seTnP3UVJA6vvec/o5/Emleq5z8Bsak05NznPziBEziBE+g/G+i0gU4b6D/oeZ7neZ7nPzvjZqFJzec/rkfhehSu5z8Bsak05NznPw==",
          "dtype": "f8"
         }
        },
        {
         "fill": "tonexty",
         "fillcolor": "rgba(44, 160, 44, 0.1)",
         "legendgroup": "('llama3.1_8b_chat', 'cities_10k', 'base', 'main', 'prompt_answer')",
         "line": {
          "width": 0
         },
         "mode": "lines",
         "name": "('llama3.1_8b_chat', 'cities_10k', 'base', 'main', 'prompt_answer') Min",
         "showlegend": false,
         "type": "scatter",
         "x": {
          "bdata": "AAECAwQFBgcICQoLDA0ODxAREhMUFRYXGBkaGxwdHh8=",
          "dtype": "i1"
         },
         "y": {
          "bdata": "TWo+gJ1x4z8WmtR8ADvjP6DTBjptoOM/7t0EbfBv4z8PR9FPYs3jP3sUrkfheuQ/H4XrUbge5T/FV3zFV3zlP9+OhxLCuuU/aci5zy4g5j+D/8QcmV7mPw0599kFxOY/YaK/k9Xy5j8Qm0pDzn3mP02Ho+gnseY/gJ1xs9Ck5j/zAeyMm4XmP/MB7IybheY/8J+YI9PL5j/o3k3QBv/mP9KYxeO6wOY/bfBvy5kO5z/yAZLGLB7nP7QLiE2lIec/tAuITaUh5z9ECWHdovrmP7dt27Zt2+Y/J3ACJ3AC5z8ncAIncALnP7QLiE2lIec/mtR8ADvj5j/SmMXjusDmPw==",
          "dtype": "f8"
         }
        },
        {
         "legendgroup": "('llama3.1_8b_chat', 'cities_10k', 'base', 'main', 'prompt_answer')",
         "line": {
          "width": 0
         },
         "mode": "lines",
         "name": "('llama3.1_8b_chat', 'cities_10k', 'base', 'main', 'prompt_answer') +1 STD",
         "showlegend": false,
         "type": "scatter",
         "x": {
          "bdata": "AAECAwQFBgcICQoLDA0ODxAREhMUFRYXGBkaGxwdHh8=",
          "dtype": "i1"
         },
         "y": {
          "bdata": "cpX33s5Q5D/EwWMERVTkP4OgoEVFDuQ/OqLxWmQu5D+8wnh3OpvkP6Nuj1ZgEeU/hv4HTeLT5T/T0Y9DxJ3mP7LbUTg4Auc/MrkhBIDf5j/MjRmATC/nPy195INhVOc/U9apJPxu5z+j3wfyqS3nP8hxqaiUauc/I1JfH8iH5z9ELCOtLIfnP4/ikWjuoec/i6GbPBKR5z9WPWaCe6DnPwSq2pVIouc/+JQALQKy5z/0wW2Vst7nP69eFsELoOc/eL+LTQK75z8wHTvLHcnnP5vjLGY8/+c/m3w2ROve5z/iXNel1KLnP7dU0mSkwuc/aH9aMQK85z/55p6pH8/nPw==",
          "dtype": "f8"
         }
        },
        {
         "fill": "tonexty",
         "fillcolor": "rgba(44, 160, 44, 0.3)",
         "legendgroup": "('llama3.1_8b_chat', 'cities_10k', 'base', 'main', 'prompt_answer')",
         "line": {
          "width": 0
         },
         "mode": "lines",
         "name": "('llama3.1_8b_chat', 'cities_10k', 'base', 'main', 'prompt_answer') -1 STD",
         "showlegend": false,
         "type": "scatter",
         "x": {
          "bdata": "AAECAwQFBgcICQoLDA0ODxAREhMUFRYXGBkaGxwdHh8=",
          "dtype": "i1"
         },
         "y": {
          "bdata": "zEntKjtv4z8MOl1+UWLjPxEVSWGCq+M/iJ9i62lv4z84MSDJKvzjPxVUKl0oduQ/5lANGK085T/tajqSXG/lP8iRG3YA3+U/5twZRzYn5j+YmSlDP4bmPx1QYh0Gr+Y/536mG4Ti5j9R4QhzNZHmP25Kxsxn1+Y/A/0mi2vc5j8OvJK3DavmPyl1tktorOY/IctRpcr+5j8+F1vfjAvnP0JGu+F35+Y/zPrdktsP5z/A4hVYsSTnP92BGWmlHuc/0oaadAhC5z8EaClmu/jmP4+23PgiBOc/6WxZ1zUF5z9EIAtx1hvnP8uUvbZ8Iec/Qg+q4DsS5z8x9ro1edDmPw==",
          "dtype": "f8"
         }
        },
        {
         "legendgroup": "('llama3.1_8b_chat', 'cities_10k', 'base', 'main', 'prompt_answer')",
         "marker": {
          "color": "#2ca02c",
          "opacity": 0.5,
          "size": 6
         },
         "mode": "markers",
         "name": "('llama3.1_8b_chat', 'cities_10k', 'base', 'main', 'prompt_answer') Fold ('logistic_regression_accuracy_score', 0)",
         "showlegend": false,
         "type": "scatter",
         "x": {
          "bdata": "AAECAwQFBgcICQoLDA0ODxAREhMUFRYXGBkaGxwdHh8=",
          "dtype": "i1"
         },
         "y": {
          "bdata": "ZD/2Yz/24z9ERERERETkP7oKEofX3uM/8dp7inQV5D97FK5H4XrkP6wgcXjtPeU/Fl/xFV/x5T+AnXGz0KTmP9dojdZojeY/aci5zy4g5j9Bpw102kDnP+09RboKEuc/6Hme53me5z8kDq+9p0jnP0GnDXTaQOc/IaxbVN+O5z8+RboKEofnP3UVJA6vvec/W94YwUR/5z91FSQOr73nP+h5nud5nuc/WHzFV3zF5z8Bsak05NznP3UVJA6vvec/y+A/MUem5z8Bsak05NznPziBEziBE+g/G+i0gU4b6D8EE/2drJbnP3UVJA6vvec/QacNdNpA5z93d3d3d3fnPw==",
          "dtype": "f8"
         }
        },
        {
         "legendgroup": "('llama3.1_8b_chat', 'cities_10k', 'base', 'main', 'prompt_answer')",
         "marker": {
          "color": "#2ca02c",
          "opacity": 0.5,
          "size": 6
         },
         "mode": "markers",
         "name": "('llama3.1_8b_chat', 'cities_10k', 'base', 'main', 'prompt_answer') Fold ('logistic_regression_accuracy_score', 1)",
         "showlegend": false,
         "type": "scatter",
         "x": {
          "bdata": "AAECAwQFBgcICQoLDA0ODxAREhMUFRYXGBkaGxwdHh8=",
          "dtype": "i1"
         },
         "y": {
          "bdata": "QeLw2nuK5D8R1i2qb8fjP0oI6xbVt+M/9DzP8zzP4z+bD2Bn3CzkPwVO4ARO4OQ/4vDae4p05T/FV3zFV3zlP9nK4D8xR+Y/us8uIDaV5j9hor+T1fLmPw0599kFxOY/tAuITaUh5z8ncAIncALnP5QQ1i2qb+c/QacNdNpA5z+0C4hNpSHnPwd1UAd1UOc/lBDWLapv5z93d3d3d3fnPwd1UAd1UOc/JA6vvadI5z93d3d3d3fnP5dyKZdyKec/y+A/MUem5z9YfMVXfMXnPwGxqTTk3Oc/IaxbVN+O5z962crgPzHnP7QLiE2lIec/BBP9nayW5z/L4D8xR6bnPw==",
          "dtype": "f8"
         }
        },
        {
         "legendgroup": "('llama3.1_8b_chat', 'cities_10k', 'base', 'main', 'prompt_answer')",
         "marker": {
          "color": "#2ca02c",
          "opacity": 0.5,
          "size": 6
         },
         "mode": "markers",
         "name": "('llama3.1_8b_chat', 'cities_10k', 'base', 'main', 'prompt_answer') Fold ('logistic_regression_accuracy_score', 2)",
         "showlegend": false,
         "type": "scatter",
         "x": {
          "bdata": "AAECAwQFBgcICQoLDA0ODxAREhMUFRYXGBkaGxwdHh8=",
          "dtype": "i1"
         },
         "y": {
          "bdata": "GWoVRojs4z+B7ZShVmHkP2GEyL7kA+Q/7t0EbfBv4z8PR9FPYs3jP5czHY6in+Q/7Us+QNKY5T9Nh6PoJ7HmP4I2+LflTOc/MPkASWMW5z8QkDRm8bjmP5h8gKQxi+c/tQojRPYl5z+gxJpXqufmP02Ho+gnseY/wC1nOhxF5z8Sa16pnnvnPwhIGrN4XOc/jVk8rgts5z/o3k3QBv/mP9KYxeO6wOY/bfBvy5kO5z/yAZLGLB7nP0U/iTWvVOc/o5/Emleq5z+1CiNE9iXnPzocRT+JNec/ylCrMEJk5z9QYs0r1XPnP8pQqzBCZOc/HY6in8Sa5z/SmMXjusDmPw==",
          "dtype": "f8"
         }
        },
        {
         "legendgroup": "('llama3.1_8b_chat', 'cities_10k', 'base', 'main', 'prompt_answer')",
         "marker": {
          "color": "#2ca02c",
          "opacity": 0.5,
          "size": 6
         },
         "mode": "markers",
         "name": "('llama3.1_8b_chat', 'cities_10k', 'base', 'main', 'prompt_answer') Fold ('logistic_regression_accuracy_score', 3)",
         "showlegend": false,
         "type": "scatter",
         "x": {
          "bdata": "AAECAwQFBgcICQoLDA0ODxAREhMUFRYXGBkaGxwdHh8=",
          "dtype": "i1"
         },
         "y": {
          "bdata": "TWo+gJ1x4z+g0wY6baDjP6DTBjptoOM/RERERERE5D97FK5H4XrkPwiwM24WmuQ/jCW/WPKL5T8ZwUR/J6vlP9+OhxLCuuU/ZmZmZmZm5j+D/8QcmV7mP/CfmCPTy+Y/YaK/k9Xy5j9jBBP9nazmP0GnDXTaQOc/QacNdNpA5z/zAeyMm4XmP/MB7IybheY/8J+YI9PL5j+0C4hNpSHnP+09RboKEuc/tAuITaUh5z962crgPzHnP7QLiE2lIec/tAuITaUh5z9ECWHdovrmP7dt27Zt2+Y/J3ACJ3AC5z8ncAIncALnP5dyKZdyKec/mtR8ADvj5j/UBjptoNPmPw==",
          "dtype": "f8"
         }
        },
        {
         "legendgroup": "('llama3.1_8b_chat', 'cities_10k', 'base', 'main', 'prompt_answer')",
         "marker": {
          "color": "#2ca02c",
          "opacity": 0.5,
          "size": 6
         },
         "mode": "markers",
         "name": "('llama3.1_8b_chat', 'cities_10k', 'base', 'main', 'prompt_answer') Fold ('logistic_regression_accuracy_score', 4)",
         "showlegend": false,
         "type": "scatter",
         "x": {
          "bdata": "AAECAwQFBgcICQoLDA0ODxAREhMUFRYXGBkaGxwdHh8=",
          "dtype": "i1"
         },
         "y": {
          "bdata": "FDiBEziB4z8WmtR8ADvjP/Hae4p0FeQ/TWo+gJ1x4z9B4vDae4rkP3sUrkfheuQ/H4XrUbge5T82WqM1WqPlP6CYI9PLVuY/g//EHJle5j9ECWHdovrmP7dt27Zt2+Y/YaK/k9Xy5j8Qm0pDzn3mPydwAidwAuc/gJ1xs9Ck5j/UBjptoNPmP9QGOm2g0+Y/QacNdNpA5z/r2/FQQljnPwQT/Z2sluc/y+A/MUem5z/lF0t+seTnP1veGMFEf+c/zkKTmg9g5z+0C4hNpSHnPz5FugoSh+c/l3Ipl3Ip5z/oeZ7neZ7nPzvjZqFJzec/rkfhehSu5z8Bsak05NznPw==",
          "dtype": "f8"
         }
        },
        {
         "legendgroup": "('llama3.1_8b_chat', 'cities_10k', 'base', 'main', 'prompt_only')",
         "line": {
          "color": "#d62728",
          "width": 2
         },
         "marker": {
          "size": 8
         },
         "mode": "lines+markers",
         "name": "('llama3.1_8b_chat', 'cities_10k', 'base', 'main', 'prompt_only')",
         "type": "scatter",
         "x": {
          "bdata": "AAECAwQFBgcICQoLDA0ODxAREhMUFRYXGBkaGxwdHh8=",
          "dtype": "i1"
         },
         "y": {
          "bdata": "G435mFPE4T+JcEE8wJDhP3cPeZEUDOI/KOabkfvh4T9uN4vsYtjiPz3d7MKWeuM/w/edtAyY5D8vCMLlBvHkPxJi8860MOY/8okFIbw+5j+onFJS5nbmP072siUyZOY/pb/FRDjA5j+NAeuXIfLmP2yNCNjSz+Y/0LBqMSLL5j+JU2c4jBfnP5cZRhQiAOc/AlgXMUQq5z+CkG2nnCXnP56v7nvaK+c/WSMzVNwS5z84xSKI2BLnP5Bikb9IKuc/jYax8zv15j9LOuGF9ODmP96ZvP8J/eY/emoVaqTl5j8ktnh8+KDmPzHtA0U/gOY/DajZs1jD5j9pQjSk9rnmPw==",
          "dtype": "f8"
         }
        },
        {
         "legendgroup": "('llama3.1_8b_chat', 'cities_10k', 'base', 'main', 'prompt_only')",
         "line": {
          "width": 0
         },
         "mode": "lines",
         "name": "('llama3.1_8b_chat', 'cities_10k', 'base', 'main', 'prompt_only') Max",
         "showlegend": false,
         "type": "scatter",
         "x": {
          "bdata": "AAECAwQFBgcICQoLDA0ODxAREhMUFRYXGBkaGxwdHh8=",
          "dtype": "i1"
         },
         "y": {
          "bdata": "PFktb4xg4j9xFP0k1rziP3aL6tvxUOI/WfKLJb9Y4j/Zl3yApDHjP597N0Eb/OM/Ox5KCOsW5T8ZwUR/J6vlP2MEE/2drOY/EJA0ZvG45j+a1HwAO+PmP5rUfAA74+Y/QacNdNpA5z8kDq+9p0jnP5dyKZdyKec/MPkASWMW5z+YfICkMYvnP65H4XoUruc/rkfhehSu5z+r5Y0RTPTnP+h5nud5nuc/ka6CxOG15z8742ahSc3nP3UVJA6vvec/d3d3d3d35z+xqTTk3GfnP5QQ1i2qb+c/JA6vvadI5z+NWTyuC2znPyXWvFI99+Y/7T1FugoS5z8HdVAHdVDnPw==",
          "dtype": "f8"
         }
        },
        {
         "fill": "tonexty",
         "fillcolor": "rgba(214, 39, 40, 0.1)",
         "legendgroup": "('llama3.1_8b_chat', 'cities_10k', 'base', 'main', 'prompt_only')",
         "line": {
          "width": 0
         },
         "mode": "lines",
         "name": "('llama3.1_8b_chat', 'cities_10k', 'base', 'main', 'prompt_only') Min",
         "showlegend": false,
         "type": "scatter",
         "x": {
          "bdata": "AAECAwQFBgcICQoLDA0ODxAREhMUFRYXGBkaGxwdHh8=",
          "dtype": "i1"
         },
         "y": {
          "bdata": "S0POfXYB4T8xDMMwDMPgP2IYhmEYhuE/SOF6FK5H4T88WS1vjGDiP+DJanljBOM/DnTaQKcN5D8LEofX3lPkPxnBRH8nq+U/+cWSXyz55T82WqM1WqPlP2wqDTn32eU/ZmZmZmZm5j+9MYKJ/k7mP70xgon+TuY/2crgPzFH5j8Qm0pDzn3mP00vWxn8J+Y/nTbQaQOd5j9KzQewM27mP5020GkDneY/E/2drJY35j/2Yz/2Yz/mPzP4T8yR6eU/2crgPzFH5j/2Yz/2Yz/mPxCbSkPOfeY/oJgj08tW5j+Jw2vvKdLlPxnBRH8nq+U/o/p2PJQQ5j/5xZJfLPnlPw==",
          "dtype": "f8"
         }
        },
        {
         "legendgroup": "('llama3.1_8b_chat', 'cities_10k', 'base', 'main', 'prompt_only')",
         "line": {
          "width": 0
         },
         "mode": "lines",
         "name": "('llama3.1_8b_chat', 'cities_10k', 'base', 'main', 'prompt_only') +1 STD",
         "showlegend": false,
         "type": "scatter",
         "x": {
          "bdata": "AAECAwQFBgcICQoLDA0ODxAREhMUFRYXGBkaGxwdHh8=",
          "dtype": "i1"
         },
         "y": {
          "bdata": "LXJj8cRF4j/+ireu1GviP/6HsyzpWeI/e8dsp1hM4j/NB/7X/DfjPy7Eni8S0+M/5Ov/B1UA5T8CRZ/5G4PlP6qdCv9UouY/eP2v0++O5j/g0zDqZ/3mP/yi+x5lyeY/rvD4f4Qd5z8Gufjvb1XnP6UGucr/Iec/CTzIFtId5z/SYZn6YJ7nP9Saa8BhvOc/Wh5HpyGg5z/3Hy0hmcLnP5SoN9Mynec/ORKJiYm35z/4HtWKn8TnP33vhZKP6+c/bb0FQ+Z15z8dBKT8uWTnP15rrT6yZec/7n38cNhM5z+hEwdbtDPnP6N/SJ5O/eY/wZ53BYUv5z/N4RU6WELnPw==",
          "dtype": "f8"
         }
        },
        {
         "fill": "tonexty",
         "fillcolor": "rgba(214, 39, 40, 0.3)",
         "legendgroup": "('llama3.1_8b_chat', 'cities_10k', 'base', 'main', 'prompt_only')",
         "line": {
          "width": 0
         },
         "mode": "lines",
         "name": "('llama3.1_8b_chat', 'cities_10k', 'base', 'main', 'prompt_only') -1 STD",
         "showlegend": false,
         "type": "scatter",
         "x": {
          "bdata": "AAECAwQFBgcICQoLDA0ODxAREhMUFRYXGBkaGxwdHh8=",
          "dtype": "i1"
         },
         "y": {
          "bdata": "CaiPQOJC4T8UVsvJq7XgP/CWPvY/vuE/1QTLe5534T8PZxgByXjiP0z2OlYbIuM/ogM8YcQv5D9cy+TR8V7kP3om3J4Uv+U/bBZbboju5T9wZXS6ZPDlP6BJaiz//uU/nI6SCexi5j8USt0/047mPzMUWOWlfeY/lyUNTHJ45j9ARTV2t5DmP1qYIGjiQ+Y/qpHnuma05j8NAa4toIjmP6i2pSSCuuY/eTTdHi9u5j94a3CFEWHmP6PVnOwBaeY/rU9dpJF05j95cB4PL13mP17Iy8BhlOY/BlcuY3B+5j+nWOqdPA7mP79av+svA+Y/WbE7YixX5j8Fo1IOlTHmPw==",
          "dtype": "f8"
         }
        },
        {
         "legendgroup": "('llama3.1_8b_chat', 'cities_10k', 'base', 'main', 'prompt_only')",
         "marker": {
          "color": "#d62728",
          "opacity": 0.5,
          "size": 6
         },
         "mode": "markers",
         "name": "('llama3.1_8b_chat', 'cities_10k', 'base', 'main', 'prompt_only') Fold ('logistic_regression_accuracy_score', 0)",
         "showlegend": false,
         "type": "scatter",
         "x": {
          "bdata": "AAECAwQFBgcICQoLDA0ODxAREhMUFRYXGBkaGxwdHh8=",
          "dtype": "i1"
         },
         "y": {
          "bdata": "PFktb4xg4j8xDMMwDMPgP2IYhmEYhuE/SOF6FK5H4T+sW1TfjofiP/eeIl0FieM/mK0M/hNz5D8cI5jo72TlP2MEE/2drOY/hmEYhmEY5j8q0lWQOLzmP0rNB7AzbuY/gJ1xs9Ck5j8K16NwPQrnP5dyKZdyKec/1AY6baDT5j8+RboKEofnP65H4XoUruc/rkfhehSu5z+r5Y0RTPTnP1veGMFEf+c/ka6CxOG15z8742ahSc3nP3UVJA6vvec/J3ACJ3AC5z9hor+T1fLmP2Giv5PV8uY/fTseSgjr5j8Qm0pDzn3mP4CdcbPQpOY/YwQT/Z2s5j9jBBP9nazmPw==",
          "dtype": "f8"
         }
        },
        {
         "legendgroup": "('llama3.1_8b_chat', 'cities_10k', 'base', 'main', 'prompt_only')",
         "marker": {
          "color": "#d62728",
          "opacity": 0.5,
          "size": 6
         },
         "mode": "markers",
         "name": "('llama3.1_8b_chat', 'cities_10k', 'base', 'main', 'prompt_only') Fold ('logistic_regression_accuracy_score', 1)",
         "showlegend": false,
         "type": "scatter",
         "x": {
          "bdata": "AAECAwQFBgcICQoLDA0ODxAREhMUFRYXGBkaGxwdHh8=",
          "dtype": "i1"
         },
         "y": {
          "bdata": "S0POfXYB4T+7RfXteCjhPz+7gNhUGuI/6e9ktbwx4j8Z/CfmyPTiP01qPoCdceM/exSuR+F65D9bGfwn5sjkPxnBRH8nq+U/+cWSXyz55T/2Yz/2Yz/mPzCW/GLJL+Y/LTSp+QB25j+a1HwAO+PmPw0599kFxOY/2crgPzFH5j8Qm0pDzn3mP00vWxn8J+Y/fTseSgjr5j+AnXGz0KTmP5020GkDneY/nTbQaQOd5j+6zy4gNpXmPwrXo3A9Cuc/gJ1xs9Ck5j8tNKn5AHbmP0drtEZrtOY/YwQT/Z2s5j8q0lWQOLzmP5020GkDneY/7T1FugoS5z/zAeyMm4XmPw==",
          "dtype": "f8"
         }
        },
        {
         "legendgroup": "('llama3.1_8b_chat', 'cities_10k', 'base', 'main', 'prompt_only')",
         "marker": {
          "color": "#d62728",
          "opacity": 0.5,
          "size": 6
         },
         "mode": "markers",
         "name": "('llama3.1_8b_chat', 'cities_10k', 'base', 'main', 'prompt_only') Fold ('logistic_regression_accuracy_score', 2)",
         "showlegend": false,
         "type": "scatter",
         "x": {
          "bdata": "AAECAwQFBgcICQoLDA0ODxAREhMUFRYXGBkaGxwdHh8=",
          "dtype": "i1"
         },
         "y": {
          "bdata": "Jh8gaczi4T9xFP0k1rziPztlqFUYIeI/3gRt8G/L4T/Zl3yApDHjP597N0Eb/OM/b4I2+Lfl5D9PGWoVRojkP0JkX/IBkuY/EJA0ZvG45j9YqufeTdDmPwVt8G/LmeY/6N5N0Ab/5j86HEU/iTXnP+jeTdAG/+Y/MPkASWMW5z+YfICkMYvnP+CWMx2Oouc/HY6in8Sa5z9FP4k1r1TnP0U/iTWvVOc/HY6in8Sa5z/ruXcTtMHnP41ZPK4LbOc/ylCrMEJk5z9FP4k1r1TnPwhIGrN4XOc/wC1nOhxF5z+NWTyuC2znPyXWvFI99+Y/Ys0r1XPv5j+1CiNE9iXnPw==",
          "dtype": "f8"
         }
        },
        {
         "legendgroup": "('llama3.1_8b_chat', 'cities_10k', 'base', 'main', 'prompt_only')",
         "marker": {
          "color": "#d62728",
          "opacity": 0.5,
          "size": 6
         },
         "mode": "markers",
         "name": "('llama3.1_8b_chat', 'cities_10k', 'base', 'main', 'prompt_only') Fold ('logistic_regression_accuracy_score', 3)",
         "showlegend": false,
         "type": "scatter",
         "x": {
          "bdata": "AAECAwQFBgcICQoLDA0ODxAREhMUFRYXGBkaGxwdHh8=",
          "dtype": "i1"
         },
         "y": {
          "bdata": "C01qPoCd4T/p72S1vDHiP3aL6tvxUOI/WfKLJb9Y4j9QzJHpZSvjP2oDnTbQaeM/Ox5KCOsW5T8ZwUR/J6vlPxP9nayWN+Y/ZmZmZmZm5j+a1HwAO+PmP5rUfAA74+Y/QacNdNpA5z8kDq+9p0jnP9QGOm2g0+Y/CtejcD0K5z/r2/FQQljnP0GnDXTaQOc/J3ACJ3AC5z/OQpOaD2DnP+h5nud5nuc/XkBsKg055z9ECWHdovrmP5GugsThtec/d3d3d3d35z+xqTTk3GfnP5QQ1i2qb+c/JA6vvadI5z9jBBP9nazmP5020GkDneY/7T1FugoS5z8HdVAHdVDnPw==",
          "dtype": "f8"
         }
        },
        {
         "legendgroup": "('llama3.1_8b_chat', 'cities_10k', 'base', 'main', 'prompt_only')",
         "marker": {
          "color": "#d62728",
          "opacity": 0.5,
          "size": 6
         },
         "mode": "markers",
         "name": "('llama3.1_8b_chat', 'cities_10k', 'base', 'main', 'prompt_only') Fold ('logistic_regression_accuracy_score', 4)",
         "showlegend": false,
         "type": "scatter",
         "x": {
          "bdata": "AAECAwQFBgcICQoLDA0ODxAREhMUFRYXGBkaGxwdHh8=",
          "dtype": "i1"
         },
         "y": {
          "bdata": "z7hZaFLz4T9n3Cw0qfngPwWJw2vvKeI/X7Yy+E/M4T88WS1vjGDiP+DJanljBOM/DnTaQKcN5D8LEofX3lPkP4nDa+8p0uU/wJPV8sYI5j82WqM1WqPlP2wqDTn32eU/ZmZmZmZm5j+9MYKJ/k7mP70xgon+TuY/KtJVkDi85j/XaI3WaI3mP9nK4D8xR+Y/nTbQaQOd5j9KzQewM27mP/CfmCPTy+Y/E/2drJY35j/2Yz/2Yz/mPzP4T8yR6eU/2crgPzFH5j/2Yz/2Yz/mPxCbSkPOfeY/oJgj08tW5j+Jw2vvKdLlPxnBRH8nq+U/o/p2PJQQ5j/5xZJfLPnlPw==",
          "dtype": "f8"
         }
        },
        {
         "legendgroup": "('llama3.1_8b_chat', 'football_leagues_1k', 'base', 'main', 'prompt_answer')",
         "line": {
          "color": "#9467bd",
          "width": 2
         },
         "marker": {
          "size": 8
         },
         "mode": "lines+markers",
         "name": "('llama3.1_8b_chat', 'football_leagues_1k', 'base', 'main', 'prompt_answer')",
         "type": "scatter",
         "x": {
          "bdata": "AAECAwQFBgcICQoLDA0ODxAREhMUFRYXGBkaGxwdHh8=",
          "dtype": "i1"
         },
         "y": {
          "bdata": "GTCNAdMY4D8yYBoDpjHgP65Q3ArFreA/zp/l/FnO3z8RERERERHhPwAAAAAAAOA/7RvWvmHt2z+1nD/L+bPcPyabbLLJJts/zp/l/FnO3z988MEHH3zgP0JxKxS3QuE/fPDBBx984D8ZMI0B0xjgP50/y/mznN8/zZ/l/FnO3z86Uq8j9TriPw4++OCDD94/W6G4FYpb4T/WvmHtG9beP2PANAZMY+A/nT/L+bOc3z9jwDQGTGPgP0q9jtTrSN0/eh2p15F63T8QPvjggw/eP+b8Wc6f5dw/CB988MEH3z8yYBoDpjHgPxA++OCDD94/zp/l/FnO3z+VIE8J8pTgPw==",
          "dtype": "f8"
         }
        },
        {
         "legendgroup": "('llama3.1_8b_chat', 'football_leagues_1k', 'base', 'main', 'prompt_answer')",
         "line": {
          "width": 0
         },
         "mode": "lines",
         "name": "('llama3.1_8b_chat', 'football_leagues_1k', 'base', 'main', 'prompt_answer') Max",
         "showlegend": false,
         "type": "scatter",
         "x": {
          "bdata": "AAECAwQFBgcICQoLDA0ODxAREhMUFRYXGBkaGxwdHh8=",
          "dtype": "i1"
         },
         "y": {
          "bdata": "8MEHH3zw4T900UUXXXThP/DBBx988OE/+OCDDz744D9lk0022WTjP2WTTTbZZOM/Fl100UUX3T/wwQcffPDhPxA++OCDD94/8MEHH3zw4T9tsskmm2ziP+GDDz744OM/bbLJJpts4j9tsskmm2ziP/DBBx988OE/8MEHH3zw4T9ddNFFF13kP3TRRRdddOE/4YMPPvjg4z9ddNFFF13kP1100UUXXeQ/+OCDDz744D900UUXXXThPwAAAAAAAOA/fPDBBx984D/44IMPPvjgPwAAAAAAAOA/dNFFF1104T900UUXXXThP3TRRRdddOE/8MEHH3zw4T/wwQcffPDhPw==",
          "dtype": "f8"
         }
        },
        {
         "fill": "tonexty",
         "fillcolor": "rgba(148, 103, 189, 0.1)",
         "legendgroup": "('llama3.1_8b_chat', 'football_leagues_1k', 'base', 'main', 'prompt_answer')",
         "line": {
          "width": 0
         },
         "mode": "lines",
         "name": "('llama3.1_8b_chat', 'football_leagues_1k', 'base', 'main', 'prompt_answer') Min",
         "showlegend": false,
         "type": "scatter",
         "x": {
          "bdata": "AAECAwQFBgcICQoLDA0ODxAREhMUFRYXGBkaGxwdHh8=",
          "dtype": "i1"
         },
         "y": {
          "bdata": "Fl100UUX3T8WXXTRRRfdPwAAAAAAAOA/Fl100UUX3T8HH3zwwQffPx988MEHH9w/L7rooosu2j9FF1100UXXPzbZZJNNNtk/Pvjggw8+2D8HH3zwwQffPxA++OCDD94/Jptssskm2z8mm2yyySbbPxZddNFFF90/Pvjggw8+2D8AAAAAAADgP0UXXXTRRdc/Bx988MEH3z9VVVVVVVXVPxZddNFFF90/H3zwwQcf3D8QPvjggw/ePzbZZJNNNtk/Ntlkk0022T8vuuiiiy7aPzbZZJNNNtk/Fl100UUX3T8ffPDBBx/cP1VVVVVVVdU/H3zwwQcf3D8QPvjggw/ePw==",
          "dtype": "f8"
         }
        },
        {
         "legendgroup": "('llama3.1_8b_chat', 'football_leagues_1k', 'base', 'main', 'prompt_answer')",
         "line": {
          "width": 0
         },
         "mode": "lines",
         "name": "('llama3.1_8b_chat', 'football_leagues_1k', 'base', 'main', 'prompt_answer') +1 STD",
         "showlegend": false,
         "type": "scatter",
         "x": {
          "bdata": "AAECAwQFBgcICQoLDA0ODxAREhMUFRYXGBkaGxwdHh8=",
          "dtype": "i1"
         },
         "y": {
          "bdata": "8ZCJxmWb4T9RkSxrklzhPxw/xPq5n+E/OPQ7nkP04D+7hebnE6fiP35VsZLdFeI/tGYV4wwx3T/3z1u6H6TgP90iTPk099w/DSSUAv8v4j/JhrPHkbjhP9l/GBRiTuM/a3PfyKW74j89m+VPtvThP+Em5vWNPuE/uCOYecVJ4j/55DKxTsnjP9F/xGuNQOE/30fv8t4V4z/2ysKs2N7iP4kUVgoerOI/kqfimRns4D+z5P2lYnDhP9dJgBfE+d8/8EN+vc034D/Ep0xPrKzgP5e+UljF6t8/0aUvuFPA4D+JrZpqAYHhP+8p3rYrpOE/LI2wlZCG4T/lRBipCKLhPw==",
          "dtype": "f8"
         }
        },
        {
         "fill": "tonexty",
         "fillcolor": "rgba(148, 103, 189, 0.3)",
         "legendgroup": "('llama3.1_8b_chat', 'football_leagues_1k', 'base', 'main', 'prompt_answer')",
         "line": {
          "width": 0
         },
         "mode": "lines",
         "name": "('llama3.1_8b_chat', 'football_leagues_1k', 'base', 'main', 'prompt_answer') -1 STD",
         "showlegend": false,
         "type": "scatter",
         "x": {
          "bdata": "AAECAwQFBgcICQoLDA0ODxAREhMUFRYXGBkaGxwdHh8=",
          "dtype": "i1"
         },
         "y": {
          "bdata": "gp4heYAs3T8lXhA2cw3eP4DE6DWgd98/LVdTvSy03T/OOHd0HPbePwRVndpE1Ns/JtGWmrap2j99mcchtB/YP28TjWteVtk/gvei9LU82z9etKCPWH/eP1bFfCgYbt4/GttIjTB53D/riWlm33ncP3gxygdMvNw/KfiaBikJ2z97vyuWm6zgP3l8Z+rsndk/rvUDcWpC3z/A5z2Bhu7XP3rYJgT0NNw/FjDRvzRh3T8mONfMaqzeP70wnZETmNo/FbNVNIiF2j+YLFcjr8XaPzU7YUR64Nk/bvKYcNyO3D+2JTQ3lcTdP0IoNFSw1tg/RCVqzpKP3D+K+AvTtg/fPw==",
          "dtype": "f8"
         }
        },
        {
         "legendgroup": "('llama3.1_8b_chat', 'football_leagues_1k', 'base', 'main', 'prompt_answer')",
         "marker": {
          "color": "#9467bd",
          "opacity": 0.5,
          "size": 6
         },
         "mode": "markers",
         "name": "('llama3.1_8b_chat', 'football_leagues_1k', 'base', 'main', 'prompt_answer') Fold ('logistic_regression_accuracy_score', 0)",
         "showlegend": false,
         "type": "scatter",
         "x": {
          "bdata": "AAECAwQFBgcICQoLDA0ODxAREhMUFRYXGBkaGxwdHh8=",
          "dtype": "i1"
         },
         "y": {
          "bdata": "8MEHH3zw4T900UUXXXThP/DBBx988OE/+OCDDz744D8HH3zwwQffPxA++OCDD94/L7rooosu2j/wwQcffPDhPzbZZJNNNtk/AAAAAAAA4D8AAAAAAADgP+miiy666OI/Fl100UUX3T8QPvjggw/eP/DBBx988OE/8MEHH3zw4T9ddNFFF13kP3zwwQcffOA/4YMPPvjg4z9ddNFFF13kP1100UUXXeQ/AAAAAAAA4D/44IMPPvjgPx988MEHH9w/Bx988MEH3z/44IMPPvjgPwAAAAAAAOA/dNFFF1104T/44IMPPvjgP3zwwQcffOA/Fl100UUX3T8QPvjggw/ePw==",
          "dtype": "f8"
         }
        },
        {
         "legendgroup": "('llama3.1_8b_chat', 'football_leagues_1k', 'base', 'main', 'prompt_answer')",
         "marker": {
          "color": "#9467bd",
          "opacity": 0.5,
          "size": 6
         },
         "mode": "markers",
         "name": "('llama3.1_8b_chat', 'football_leagues_1k', 'base', 'main', 'prompt_answer') Fold ('logistic_regression_accuracy_score', 1)",
         "showlegend": false,
         "type": "scatter",
         "x": {
          "bdata": "AAECAwQFBgcICQoLDA0ODxAREhMUFRYXGBkaGxwdHh8=",
          "dtype": "i1"
         },
         "y": {
          "bdata": "ED744IMP3j8WXXTRRRfdPwAAAAAAAOA/Fl100UUX3T8AAAAAAADgP3zwwQcffOA/Fl100UUX3T8ffPDBBx/cPy+66KKLLto/dNFFF1104T9tsskmm2ziPwAAAAAAAOA/8MEHH3zw4T988MEHH3zgPxZddNFFF90/Pvjggw8+2D8AAAAAAADgP0UXXXTRRdc/Bx988MEH3z9VVVVVVVXVPwcffPDBB98/fPDBBx984D900UUXXXThPwAAAAAAAOA/H3zwwQcf3D8vuuiiiy7aPx988MEHH9w/ED744IMP3j988MEHH3zgPxA++OCDD94/8MEHH3zw4T/wwQcffPDhPw==",
          "dtype": "f8"
         }
        },
        {
         "legendgroup": "('llama3.1_8b_chat', 'football_leagues_1k', 'base', 'main', 'prompt_answer')",
         "marker": {
          "color": "#9467bd",
          "opacity": 0.5,
          "size": 6
         },
         "mode": "markers",
         "name": "('llama3.1_8b_chat', 'football_leagues_1k', 'base', 'main', 'prompt_answer') Fold ('logistic_regression_accuracy_score', 2)",
         "showlegend": false,
         "type": "scatter",
         "x": {
          "bdata": "AAECAwQFBgcICQoLDA0ODxAREhMUFRYXGBkaGxwdHh8=",
          "dtype": "i1"
         },
         "y": {
          "bdata": "Bx988MEH3z8HH3zwwQffP3TRRRdddOE/+OCDDz744D9lk0022WTjPxA++OCDD94/Jptssskm2z8WXXTRRRfdPyabbLLJJts/8MEHH3zw4T8HH3zwwQffP3zwwQcffOA/bbLJJpts4j/44IMPPvjgPxZddNFFF90/Bx988MEH3z9tsskmm2ziPxZddNFFF90/AAAAAAAA4D8QPvjggw/ePxZddNFFF90/H3zwwQcf3D/44IMPPvjgPxA++OCDD94/Ntlkk0022T8WXXTRRRfdPzbZZJNNNtk/Fl100UUX3T8AAAAAAADgPwcffPDBB98/+OCDDz744D988MEHH3zgPw==",
          "dtype": "f8"
         }
        },
        {
         "legendgroup": "('llama3.1_8b_chat', 'football_leagues_1k', 'base', 'main', 'prompt_answer')",
         "marker": {
          "color": "#9467bd",
          "opacity": 0.5,
          "size": 6
         },
         "mode": "markers",
         "name": "('llama3.1_8b_chat', 'football_leagues_1k', 'base', 'main', 'prompt_answer') Fold ('logistic_regression_accuracy_score', 3)",
         "showlegend": false,
         "type": "scatter",
         "x": {
          "bdata": "AAECAwQFBgcICQoLDA0ODxAREhMUFRYXGBkaGxwdHh8=",
          "dtype": "i1"
         },
         "y": {
          "bdata": "Fl100UUX3T988MEHH3zgPwAAAAAAAOA/Bx988MEH3z988MEHH3zgPx988MEHH9w/H3zwwQcf3D8mm2yyySbbPyabbLLJJts/Pvjggw8+2D8HH3zwwQffPxA++OCDD94/Jptssskm2z8mm2yyySbbP3zwwQcffOA/8MEHH3zw4T9tsskmm2ziPxA++OCDD94/dNFFF1104T8QPvjggw/ePwcffPDBB98/+OCDDz744D8QPvjggw/ePzbZZJNNNtk/ED744IMP3j8ffPDBBx/cPyabbLLJJts/Fl100UUX3T8ffPDBBx/cP1VVVVVVVdU/H3zwwQcf3D988MEHH3zgPw==",
          "dtype": "f8"
         }
        },
        {
         "legendgroup": "('llama3.1_8b_chat', 'football_leagues_1k', 'base', 'main', 'prompt_answer')",
         "marker": {
          "color": "#9467bd",
          "opacity": 0.5,
          "size": 6
         },
         "mode": "markers",
         "name": "('llama3.1_8b_chat', 'football_leagues_1k', 'base', 'main', 'prompt_answer') Fold ('logistic_regression_accuracy_score', 4)",
         "showlegend": false,
         "type": "scatter",
         "x": {
          "bdata": "AAECAwQFBgcICQoLDA0ODxAREhMUFRYXGBkaGxwdHh8=",
          "dtype": "i1"
         },
         "y": {
          "bdata": "dNFFF1104T/44IMPPvjgPwAAAAAAAOA/Bx988MEH3z/wwQcffPDhP2WTTTbZZOM/Fl100UUX3T9FF1100UXXPxA++OCDD94/AAAAAAAA4D/44IMPPvjgP+GDDz744OM/8MEHH3zw4T9tsskmm2ziPwcffPDBB98/AAAAAAAA4D/wwQcffPDhP3TRRRdddOE/8MEHH3zw4T8AAAAAAADgPwAAAAAAAOA/Bx988MEH3z8HH3zwwQffPwcffPDBB98/fPDBBx984D988MEHH3zgPwAAAAAAAOA/AAAAAAAA4D900UUXXXThP3TRRRdddOE/AAAAAAAA4D/44IMPPvjgPw==",
          "dtype": "f8"
         }
        },
        {
         "legendgroup": "('llama3.1_8b_chat', 'football_leagues_1k', 'base', 'main', 'prompt_only')",
         "line": {
          "color": "#8c564b",
          "width": 2
         },
         "marker": {
          "size": 8
         },
         "mode": "lines+markers",
         "name": "('llama3.1_8b_chat', 'football_leagues_1k', 'base', 'main', 'prompt_only')",
         "type": "scatter",
         "x": {
          "bdata": "AAECAwQFBgcICQoLDA0ODxAREhMUFRYXGBkaGxwdHh8=",
          "dtype": "i1"
         },
         "y": {
          "bdata": "SpCnBHlK4D+uUNwKxa3gPzJgGgOmMeA/a9+w9g1r3z8IH3zwwQffP1DcCsWtUNw/a9+w9g1r3z/e3d3d3d3dP8aAaQyYxuA/6aKLLrro4j9TgjwlyFPiP6VeR+p1pN4/a9+w9g1r3z+ZmZmZmZnZP2AaA6YxYNo/CB988MEH3z+VIE8J8pTgPwgffPDBB98/iluhuBWK2z+Teh2p15HaP+b8Wc6f5dw/xoBpDJjG4D8IH3zwwQffP86f5fxZzt8/1r5h7RvW3j/wwQcffPDhP5UgTwnylOA/W6G4FYpb4T/fsPYNa9/gP5UgTwnylOA/QnErFLdC4T/44IMPPvjgPw==",
          "dtype": "f8"
         }
        },
        {
         "legendgroup": "('llama3.1_8b_chat', 'football_leagues_1k', 'base', 'main', 'prompt_only')",
         "line": {
          "width": 0
         },
         "mode": "lines",
         "name": "('llama3.1_8b_chat', 'football_leagues_1k', 'base', 'main', 'prompt_only') Max",
         "showlegend": false,
         "type": "scatter",
         "x": {
          "bdata": "AAECAwQFBgcICQoLDA0ODxAREhMUFRYXGBkaGxwdHh8=",
          "dtype": "i1"
         },
         "y": {
          "bdata": "bbLJJpts4j/wwQcffPDhP/DBBx988OE/AAAAAAAA4D8AAAAAAADgP/jggw8++OA/AAAAAAAA4D988MEHH3zgP2WTTTbZZOM/2WSTTTbZ5D9VVVVVVVXlP/jggw8++OA/dNFFF1104T/44IMPPvjgPwAAAAAAAOA/+OCDDz744D9VVVVVVVXlP3TRRRdddOE/fPDBBx984D8AAAAAAADgP3zwwQcffOA/XXTRRRdd5D9tsskmm2ziP22yySabbOI/8MEHH3zw4T9lk0022WTjP/DBBx988OE/6aKLLrro4j9lk0022WTjP22yySabbOI/ZZNNNtlk4z9lk0022WTjPw==",
          "dtype": "f8"
         }
        },
        {
         "fill": "tonexty",
         "fillcolor": "rgba(140, 86, 75, 0.1)",
         "legendgroup": "('llama3.1_8b_chat', 'football_leagues_1k', 'base', 'main', 'prompt_only')",
         "line": {
          "width": 0
         },
         "mode": "lines",
         "name": "('llama3.1_8b_chat', 'football_leagues_1k', 'base', 'main', 'prompt_only') Min",
         "showlegend": false,
         "type": "scatter",
         "x": {
          "bdata": "AAECAwQFBgcICQoLDA0ODxAREhMUFRYXGBkaGxwdHh8=",
          "dtype": "i1"
         },
         "y": {
          "bdata": "Jptssskm2z8AAAAAAADgPxZddNFFF90/Fl100UUX3T8QPvjggw/ePz744IMPPtg/ED744IMP3j8mm2yyySbbPx988MEHH9w/ED744IMP3j8AAAAAAADgPy+66KKLLto/Pvjggw8+2D9ddNFFF13UP3vwwQcffNA/L7rooosu2j8++OCDDz7YPyabbLLJJts/XXTRRRdd1D9tsskmm2zSPzbZZJNNNtk/Pvjggw8+2D9ONtlkk03WPy+66KKLLto/Ntlkk0022T/44IMPPvjgPxA++OCDD94/ED744IMP3j8ffPDBBx/cPxA++OCDD94/Bx988MEH3z8HH3zwwQffPw==",
          "dtype": "f8"
         }
        },
        {
         "legendgroup": "('llama3.1_8b_chat', 'football_leagues_1k', 'base', 'main', 'prompt_only')",
         "line": {
          "width": 0
         },
         "mode": "lines",
         "name": "('llama3.1_8b_chat', 'football_leagues_1k', 'base', 'main', 'prompt_only') +1 STD",
         "showlegend": false,
         "type": "scatter",
         "x": {
          "bdata": "AAECAwQFBgcICQoLDA0ODxAREhMUFRYXGBkaGxwdHh8=",
          "dtype": "i1"
         },
         "y": {
          "bdata": "avfPYNcf4j9QL3vWdn3hP4mtmmoBgeE/eymRqA1c4D8AAAAAAADgP8MtUtuC598/OZbTbosk4D/MRluPNjDgP+rHC9yQ2eI/0hEvW21C5T8l1mGgYLbkP2U2JO5uwuA/MCCMCcPk4T8bRL1qveTePx1k1pZqueA/mEMscGIM4T+Esq3y+VvkP4uXKK6EXOE/VphiKi0c4D8CJ0SUISXgP/ekY8QkLeA/uO0XyJcO5D8fkxFzSOTiP0JLv+n70uE/+d3caECt4T/MhXfCsdjiP3J4u6k51uE/u6IwaRkE4z/KwWZlKfjiP22BS86EF+I/RNYQawb24j+g+A5Iz3biPw==",
          "dtype": "f8"
         }
        },
        {
         "fill": "tonexty",
         "fillcolor": "rgba(140, 86, 75, 0.3)",
         "legendgroup": "('llama3.1_8b_chat', 'football_leagues_1k', 'base', 'main', 'prompt_only')",
         "line": {
          "width": 0
         },
         "mode": "lines",
         "name": "('llama3.1_8b_chat', 'football_leagues_1k', 'base', 'main', 'prompt_only') -1 STD",
         "showlegend": false,
         "type": "scatter",
         "x": {
          "bdata": "AAECAwQFBgcICQoLDA0ODxAREhMUFRYXGBkaGxwdHh8=",
          "dtype": "i1"
         },
         "y": {
          "bdata": "VVL+UDXq3D8X5Hp+JrzfP7YlNDeVxN0/4Ws/nAAe3j8QPvjggw/eP92Kw67Yudg/ZZK6DwWN3j8kLgWdTlvbP0Nzjnk+Z90/ADToAQeP4D8CXS5UX+LfP4FQRvgNxNs/dX5J2pUM2z8X73XIdU7UP4ZsWR6OTdM/37afAL/22z9MHeE/1JvZP/sOp4R6Vts/aIZ9HNHb1j8ip7IpbNnUP96v7BP2cNk/qCd2oTD92j/TF9X68kbYPxipTCa89ts/ucEJCbdR2j8U/pd7RgjhP3GRxdFUp94/9j+BhPVl3z/nPw1tWY3dP3p/pYi+JN4/fxiMes8e3z+fkvGtWfPePw==",
          "dtype": "f8"
         }
        },
        {
         "legendgroup": "('llama3.1_8b_chat', 'football_leagues_1k', 'base', 'main', 'prompt_only')",
         "marker": {
          "color": "#8c564b",
          "opacity": 0.5,
          "size": 6
         },
         "mode": "markers",
         "name": "('llama3.1_8b_chat', 'football_leagues_1k', 'base', 'main', 'prompt_only') Fold ('logistic_regression_accuracy_score', 0)",
         "showlegend": false,
         "type": "scatter",
         "x": {
          "bdata": "AAECAwQFBgcICQoLDA0ODxAREhMUFRYXGBkaGxwdHh8=",
          "dtype": "i1"
         },
         "y": {
          "bdata": "AAAAAAAA4D/wwQcffPDhPxZddNFFF90/AAAAAAAA4D8AAAAAAADgPxZddNFFF90/Bx988MEH3z8AAAAAAADgP/jggw8++OA/XXTRRRdd5D9VVVVVVVXlPxA++OCDD94/dNFFF1104T8++OCDDz7YP3vwwQcffNA/fPDBBx984D9lk0022WTjPxA++OCDD94/Fl100UUX3T8AAAAAAADgP3zwwQcffOA/XXTRRRdd5D9tsskmm2ziP3zwwQcffOA/AAAAAAAA4D900UUXXXThP3TRRRdddOE/6aKLLrro4j9lk0022WTjP22yySabbOI/ZZNNNtlk4z/44IMPPvjgPw==",
          "dtype": "f8"
         }
        },
        {
         "legendgroup": "('llama3.1_8b_chat', 'football_leagues_1k', 'base', 'main', 'prompt_only')",
         "marker": {
          "color": "#8c564b",
          "opacity": 0.5,
          "size": 6
         },
         "mode": "markers",
         "name": "('llama3.1_8b_chat', 'football_leagues_1k', 'base', 'main', 'prompt_only') Fold ('logistic_regression_accuracy_score', 1)",
         "showlegend": false,
         "type": "scatter",
         "x": {
          "bdata": "AAECAwQFBgcICQoLDA0ODxAREhMUFRYXGBkaGxwdHh8=",
          "dtype": "i1"
         },
         "y": {
          "bdata": "Jptssskm2z988MEHH3zgP/DBBx988OE/AAAAAAAA4D8QPvjggw/ePyabbLLJJts/ED744IMP3j8WXXTRRRfdP/DBBx988OE/2WSTTTbZ5D8AAAAAAADgPy+66KKLLto/Pvjggw8+2D9ONtlkk03WP1VVVVVVVdU/L7rooosu2j8AAAAAAADgP3TRRRdddOE/fPDBBx984D8++OCDDz7YPzbZZJNNNtk/fPDBBx984D/wwQcffPDhPwAAAAAAAOA/Ntlkk0022T/wwQcffPDhPxA++OCDD94/6aKLLrro4j988MEHH3zgP3TRRRdddOE/Bx988MEH3z9lk0022WTjPw==",
          "dtype": "f8"
         }
        },
        {
         "legendgroup": "('llama3.1_8b_chat', 'football_leagues_1k', 'base', 'main', 'prompt_only')",
         "marker": {
          "color": "#8c564b",
          "opacity": 0.5,
          "size": 6
         },
         "mode": "markers",
         "name": "('llama3.1_8b_chat', 'football_leagues_1k', 'base', 'main', 'prompt_only') Fold ('logistic_regression_accuracy_score', 2)",
         "showlegend": false,
         "type": "scatter",
         "x": {
          "bdata": "AAECAwQFBgcICQoLDA0ODxAREhMUFRYXGBkaGxwdHh8=",
          "dtype": "i1"
         },
         "y": {
          "bdata": "AAAAAAAA4D8AAAAAAADgPwAAAAAAAOA/AAAAAAAA4D8QPvjggw/ePz744IMPPtg/AAAAAAAA4D988MEHH3zgP2WTTTbZZOM/ED744IMP3j9ddNFFF13kPwcffPDBB98/dNFFF1104T8mm2yyySbbPwAAAAAAAOA/AAAAAAAA4D9VVVVVVVXlP3TRRRdddOE/Fl100UUX3T8AAAAAAADgPwAAAAAAAOA/Pvjggw8+2D9ONtlkk03WPy+66KKLLto/Jptssskm2z9lk0022WTjP/jggw8++OA/fPDBBx984D8AAAAAAADgPxA++OCDD94/Bx988MEH3z8HH3zwwQffPw==",
          "dtype": "f8"
         }
        },
        {
         "legendgroup": "('llama3.1_8b_chat', 'football_leagues_1k', 'base', 'main', 'prompt_only')",
         "marker": {
          "color": "#8c564b",
          "opacity": 0.5,
          "size": 6
         },
         "mode": "markers",
         "name": "('llama3.1_8b_chat', 'football_leagues_1k', 'base', 'main', 'prompt_only') Fold ('logistic_regression_accuracy_score', 3)",
         "showlegend": false,
         "type": "scatter",
         "x": {
          "bdata": "AAECAwQFBgcICQoLDA0ODxAREhMUFRYXGBkaGxwdHh8=",
          "dtype": "i1"
         },
         "y": {
          "bdata": "dNFFF1104T8AAAAAAADgP/jggw8++OA/Fl100UUX3T8AAAAAAADgPyabbLLJJts/AAAAAAAA4D8mm2yyySbbPwcffPDBB98/4YMPPvjg4z900UUXXXThP/jggw8++OA/Bx988MEH3z/44IMPPvjgPwAAAAAAAOA/ED744IMP3j8ffPDBBx/cPyabbLLJJts/XXTRRRdd1D8vuuiiiy7aPx988MEHH9w/ZZNNNtlk4z900UUXXXThP22yySabbOI/+OCDDz744D/wwQcffPDhP/DBBx988OE/dNFFF1104T9tsskmm2ziP/jggw8++OA/8MEHH3zw4T8AAAAAAADgPw==",
          "dtype": "f8"
         }
        },
        {
         "legendgroup": "('llama3.1_8b_chat', 'football_leagues_1k', 'base', 'main', 'prompt_only')",
         "marker": {
          "color": "#8c564b",
          "opacity": 0.5,
          "size": 6
         },
         "mode": "markers",
         "name": "('llama3.1_8b_chat', 'football_leagues_1k', 'base', 'main', 'prompt_only') Fold ('logistic_regression_accuracy_score', 4)",
         "showlegend": false,
         "type": "scatter",
         "x": {
          "bdata": "AAECAwQFBgcICQoLDA0ODxAREhMUFRYXGBkaGxwdHh8=",
          "dtype": "i1"
         },
         "y": {
          "bdata": "bbLJJpts4j/44IMPPvjgPwcffPDBB98/AAAAAAAA4D8HH3zwwQffP/jggw8++OA/AAAAAAAA4D8ffPDBBx/cPx988MEHH9w/bbLJJpts4j988MEHH3zgPwAAAAAAAOA/AAAAAAAA4D9ddNFFF13UPxA++OCDD94/+OCDDz744D8++OCDDz7YPx988MEHH9w/L7rooosu2j9tsskmm2zSPy+66KKLLto/Bx988MEH3z822WSTTTbZPwcffPDBB98/8MEHH3zw4T/44IMPPvjgPwcffPDBB98/ED744IMP3j8ffPDBBx/cPxA++OCDD94/8MEHH3zw4T/44IMPPvjgPw==",
          "dtype": "f8"
         }
        },
        {
         "legendgroup": "('llama3.1_8b_chat', 'gsm8k', 'base_3_shot', 'main', 'prompt_answer')",
         "line": {
          "color": "#1f77b4",
          "width": 2
         },
         "marker": {
          "size": 8
         },
         "mode": "lines+markers",
         "name": "('llama3.1_8b_chat', 'gsm8k', 'base_3_shot', 'main', 'prompt_answer')",
         "type": "scatter",
         "x": {
          "bdata": "AAECAwQFBgcICQoLDA0ODxAREhMUFRYXGBkaGxwdHh8=",
          "dtype": "i1"
         },
         "y": {
          "bdata": "QmDl0CLb4T8VrkfhehTiP2q8dJMYBOI/pg102kCn4T8JZfS2rNXhP1L/Riijt+E/fYZdAXKv4T9P1L8RyujhPwY6baDTBuI/KhVnHz7D4j9JUyrOPnziP8i95kLSlOI/S36x5BdL4j/bslbHBA/iP9dcSJpSceI/rdUxwYN54j8sQO41F5LiP+XQItv5fuI/zBP1b4Qy4j9JUyrOPnziP63VMcGDeeI/rgC511xI4j9pke18PzXiP8robVmrY+I/j8L1KFyP4j8wlvxiyS/iPxSuR+F6FOI/EoPAyqFF4j8g95oLSVPiPx7ME/VvhOI/vp8aL90k4j+Iz7ArQO7hPw==",
          "dtype": "f8"
         }
        },
        {
         "legendgroup": "('llama3.1_8b_chat', 'gsm8k', 'base_3_shot', 'main', 'prompt_answer')",
         "line": {
          "width": 0
         },
         "mode": "lines",
         "name": "('llama3.1_8b_chat', 'gsm8k', 'base_3_shot', 'main', 'prompt_answer') Max",
         "showlegend": false,
         "type": "scatter",
         "x": {
          "bdata": "AAECAwQFBgcICQoLDA0ODxAREhMUFRYXGBkaGxwdHh8=",
          "dtype": "i1"
         },
         "y": {
          "bdata": "IiIiIiIi4j/Gkl8s+cXiP2ZmZmZmZuI/IiIiIiIi4j+rqqqqqqriPyIiIiIiIuI/MJb8Yskv4j9Z8oslv1jiP9QGOm2g0+I/KVyPwvUo5D8K16NwPQrjP3d3d3d3d+M/q6qqqqqq4j9mZmZmZmbiP0GnDXTaQOM/agOdNtBp4z+TXyz5xZLjP6DTBjptoOM/TxvotIFO4z9Bpw102kDjP1yPwvUoXOM/xpJfLPnF4j+rqqqqqqriPzMzMzMzM+M/XI/C9Shc4z/hehSuR+HiP6uqqqqqquI/XI/C9Shc4z8YS36x5BfjPya/WPKLJeM/4XoUrkfh4j+rqqqqqqriPw==",
          "dtype": "f8"
         }
        },
        {
         "fill": "tonexty",
         "fillcolor": "rgba(31, 119, 180, 0.1)",
         "legendgroup": "('llama3.1_8b_chat', 'gsm8k', 'base_3_shot', 'main', 'prompt_answer')",
         "line": {
          "width": 0
         },
         "mode": "lines",
         "name": "('llama3.1_8b_chat', 'gsm8k', 'base_3_shot', 'main', 'prompt_answer') Min",
         "showlegend": false,
         "type": "scatter",
         "x": {
          "bdata": "AAECAwQFBgcICQoLDA0ODxAREhMUFRYXGBkaGxwdHh8=",
          "dtype": "i1"
         },
         "y": {
          "bdata": "frHkF0t+4T9+seQXS37hP7WBThvotOE/ERERERER4T9VVVVVVVXhPxEREREREeE/SOF6FK5H4T/2KFyPwvXgP36x5BdLfuE/7FG4HoXr4T8HOm2g0wbiP/nFkl8s+eE/3t3d3d3d4T9+seQXS37hP9BpA5020OE/tYFOG+i04T+MJb9Y8ovhP8P1KFyPwuE/VVVVVVVV4T+MJb9Y8ovhP4wlv1jyi+E/+cWSXyz54T/sUbgehevhPwc6baDTBuI/FK5H4XoU4j9xPQrXo3DhPyz5xZJfLOE/Y8kvlvxi4T9+seQXS37hP7WBThvotOE/LPnFkl8s4T8DnTbQaQPhPw==",
          "dtype": "f8"
         }
        },
        {
         "legendgroup": "('llama3.1_8b_chat', 'gsm8k', 'base_3_shot', 'main', 'prompt_answer')",
         "line": {
          "width": 0
         },
         "mode": "lines",
         "name": "('llama3.1_8b_chat', 'gsm8k', 'base_3_shot', 'main', 'prompt_answer') +1 STD",
         "showlegend": false,
         "type": "scatter",
         "x": {
          "bdata": "AAECAwQFBgcICQoLDA0ODxAREhMUFRYXGBkaGxwdHh8=",
          "dtype": "i1"
         },
         "y": {
          "bdata": "tKmuP/YW4j+URjxDj5TiP8iiRSlhX+I/ISIiIiIi4j/UC2Xw+FXiPxXnZef9HeI/UCKrJFkM4j/TYpfx6XziP6wzjl9ZluI/DEEJSWGn4z+u7IGdfuTiP/D6IqPrIeM/1eflVzKo4j/P4qWcSmfiP063WRBb/uI/bdHcfnNG4z9zkRk9O2fjPzvmyIUEN+M/QEJ0Swzw4j+AddqvvSTjP29csvUbJuM/ZKoqYKmk4j+Cclj8hH7iPzbZMUQ+2+I/e6HZQhMP4z+GWoBa9MniP31HEyr5pOI/fdaj2zr+4j/y0LqFB+3iP024vHEkEOM/K0cI3ire4j+yJpd2XrviPw==",
          "dtype": "f8"
         }
        },
        {
         "fill": "tonexty",
         "fillcolor": "rgba(31, 119, 180, 0.3)",
         "legendgroup": "('llama3.1_8b_chat', 'gsm8k', 'base_3_shot', 'main', 'prompt_answer')",
         "line": {
          "width": 0
         },
         "mode": "lines",
         "name": "('llama3.1_8b_chat', 'gsm8k', 'base_3_shot', 'main', 'prompt_answer') -1 STD",
         "showlegend": false,
         "type": "scatter",
         "x": {
          "bdata": "AAECAwQFBgcICQoLDA0ODxAREhMUFRYXGBkaGxwdHh8=",
          "dtype": "i1"
         },
         "y": {
          "bdata": "0BYcYk+f4T+WFVN/ZpThPwzWo/3PqOE/K/nFkl8s4T8+voN9YFXhP48XKGlIUeE/quoP3opS4T/LRegxqlThP2BATOFNd+E/SOnE9Rrf4T/kudL+/hPiP6CAquK4B+I/wRR9cf3t4T/nggfyvrbhP2ACNyRK5OE/7dmGA5Ss4T/l7sIu87zhP4+7fDDvxuE/WOV1lPx04T8SMXrsv9PhP+tOsYzrzOE/+FZHTxDs4T9QsIL9+evhP174qW4Y7OE/o+MRD6UP4j/a0XhrnpXhP6sUfJj8g+E/py/duQiN4T9OHXuRirnhP+/fani7+OE/UfgsgI9r4T9eeMrgISHhPw==",
          "dtype": "f8"
         }
        },
        {
         "legendgroup": "('llama3.1_8b_chat', 'gsm8k', 'base_3_shot', 'main', 'prompt_answer')",
         "marker": {
          "color": "#1f77b4",
          "opacity": 0.5,
          "size": 6
         },
         "mode": "markers",
         "name": "('llama3.1_8b_chat', 'gsm8k', 'base_3_shot', 'main', 'prompt_answer') Fold ('logistic_regression_accuracy_score', 0)",
         "showlegend": false,
         "type": "scatter",
         "x": {
          "bdata": "AAECAwQFBgcICQoLDA0ODxAREhMUFRYXGBkaGxwdHh8=",
          "dtype": "i1"
         },
         "y": {
          "bdata": "IiIiIiIi4j9+seQXS37hP7WBThvotOE/ERERERER4T+amZmZmZnhP8P1KFyPwuE/frHkF0t+4T/D9Shcj8LhP36x5BdLfuE/IiIiIiIi4j8wlvxiyS/iP/nFkl8s+eE/3t3d3d3d4T8HOm2g0wbiP9BpA5020OE/tYFOG+i04T+MJb9Y8ovhP8P1KFyPwuE/VVVVVVVV4T+MJb9Y8ovhPzCW/GLJL+I/BzptoNMG4j8wlvxiyS/iPzCW/GLJL+I/dNpApw104j+4HoXrUbjiPwc6baDTBuI/BzptoNMG4j8HOm2g0wbiP0t+seQXS+I/mpmZmZmZ4T8fhetRuB7hPw==",
          "dtype": "f8"
         }
        },
        {
         "legendgroup": "('llama3.1_8b_chat', 'gsm8k', 'base_3_shot', 'main', 'prompt_answer')",
         "marker": {
          "color": "#1f77b4",
          "opacity": 0.5,
          "size": 6
         },
         "mode": "markers",
         "name": "('llama3.1_8b_chat', 'gsm8k', 'base_3_shot', 'main', 'prompt_answer') Fold ('logistic_regression_accuracy_score', 1)",
         "showlegend": false,
         "type": "scatter",
         "x": {
          "bdata": "AAECAwQFBgcICQoLDA0ODxAREhMUFRYXGBkaGxwdHh8=",
          "dtype": "i1"
         },
         "y": {
          "bdata": "frHkF0t+4T/Gkl8s+cXiP2ZmZmZmZuI/0GkDnTbQ4T+rqqqqqqriP7WBThvotOE/jCW/WPKL4T/2KFyPwvXgP36x5BdLfuE/CtejcD0K4z8HOm2g0wbiP1nyiyW/WOI/nTbQaQOd4j89CtejcD3iP3TaQKcNdOI/3t3d3d3d4T/sUbgehevhPyIiIiIiIuI/PQrXo3A94j902kCnDXTiP4wlv1jyi+E/+cWSXyz54T8HOm2g0wbiP1nyiyW/WOI/FK5H4XoU4j8HOm2g0wbiP2ZmZmZmZuI/IiIiIiIi4j+PwvUoXI/iP6uqqqqqquI/dNpApw104j+PwvUoXI/iPw==",
          "dtype": "f8"
         }
        },
        {
         "legendgroup": "('llama3.1_8b_chat', 'gsm8k', 'base_3_shot', 'main', 'prompt_answer')",
         "marker": {
          "color": "#1f77b4",
          "opacity": 0.5,
          "size": 6
         },
         "mode": "markers",
         "name": "('llama3.1_8b_chat', 'gsm8k', 'base_3_shot', 'main', 'prompt_answer') Fold ('logistic_regression_accuracy_score', 2)",
         "showlegend": false,
         "type": "scatter",
         "x": {
          "bdata": "AAECAwQFBgcICQoLDA0ODxAREhMUFRYXGBkaGxwdHh8=",
          "dtype": "i1"
         },
         "y": {
          "bdata": "0GkDnTbQ4T8HOm2g0wbiP2ZmZmZmZuI/IiIiIiIi4j9VVVVVVVXhPyIiIiIiIuI/7FG4HoXr4T9LfrHkF0viPz0K16NwPeI/KVyPwvUo5D+4HoXrUbjiP3d3d3d3d+M/WfKLJb9Y4j9mZmZmZmbiP5020GkDneI/agOdNtBp4z8YS36x5BfjP6DTBjptoOM/TxvotIFO4z9Bpw102kDjP1yPwvUoXOM/xpJfLPnF4j+rqqqqqqriPzMzMzMzM+M/XI/C9Shc4z/hehSuR+HiP6uqqqqqquI/XI/C9Shc4z8YS36x5BfjP8aSXyz5xeI/nTbQaQOd4j+rqqqqqqriPw==",
          "dtype": "f8"
         }
        },
        {
         "legendgroup": "('llama3.1_8b_chat', 'gsm8k', 'base_3_shot', 'main', 'prompt_answer')",
         "marker": {
          "color": "#1f77b4",
          "opacity": 0.5,
          "size": 6
         },
         "mode": "markers",
         "name": "('llama3.1_8b_chat', 'gsm8k', 'base_3_shot', 'main', 'prompt_answer') Fold ('logistic_regression_accuracy_score', 3)",
         "showlegend": false,
         "type": "scatter",
         "x": {
          "bdata": "AAECAwQFBgcICQoLDA0ODxAREhMUFRYXGBkaGxwdHh8=",
          "dtype": "i1"
         },
         "y": {
          "bdata": "7FG4HoXr4T9Z8oslv1jiP97d3d3d3eE/BzptoNMG4j/D9Shcj8LhP+xRuB6F6+E/SOF6FK5H4T9Z8oslv1jiP9QGOm2g0+I/j8L1KFyP4j8K16NwPQrjP5020GkDneI/q6qqqqqq4j8iIiIiIiLiP0GnDXTaQOM/QacNdNpA4z+TXyz5xZLjPz0K16NwPeI/WfKLJb9Y4j/v7u7u7u7iP8aSXyz5xeI/FK5H4XoU4j89CtejcD3iPwc6baDTBuI/q6qqqqqq4j/e3d3d3d3hPyIiIiIiIuI/dNpApw104j902kCnDXTiPya/WPKLJeM/4XoUrkfh4j9LfrHkF0viPw==",
          "dtype": "f8"
         }
        },
        {
         "legendgroup": "('llama3.1_8b_chat', 'gsm8k', 'base_3_shot', 'main', 'prompt_answer')",
         "marker": {
          "color": "#1f77b4",
          "opacity": 0.5,
          "size": 6
         },
         "mode": "markers",
         "name": "('llama3.1_8b_chat', 'gsm8k', 'base_3_shot', 'main', 'prompt_answer') Fold ('logistic_regression_accuracy_score', 4)",
         "showlegend": false,
         "type": "scatter",
         "x": {
          "bdata": "AAECAwQFBgcICQoLDA0ODxAREhMUFRYXGBkaGxwdHh8=",
          "dtype": "i1"
         },
         "y": {
          "bdata": "7FG4HoXr4T/D9Shcj8LhP7WBThvotOE/Om2g0wY64T/QaQOdNtDhPxEREREREeE/MJb8Yskv4j8wlvxiyS/iPxSuR+F6FOI/7FG4HoXr4T902kCnDXTiP4JOG+i0geI/+cWSXyz54T9+seQXS37hPxSuR+F6FOI/IiIiIiIi4j+4HoXrUbjiP7gehetRuOI/w/UoXI/C4T89CtejcD3iP4JOG+i0geI/j8L1KFyP4j/sUbgehevhPzCW/GLJL+I/PQrXo3A94j9xPQrXo3DhPyz5xZJfLOE/Y8kvlvxi4T9+seQXS37hP7WBThvotOE/LPnFkl8s4T8DnTbQaQPhPw==",
          "dtype": "f8"
         }
        },
        {
         "legendgroup": "('llama3.1_8b_chat', 'gsm8k', 'base_3_shot', 'main', 'prompt_only')",
         "line": {
          "color": "#ff7f0e",
          "width": 2
         },
         "marker": {
          "size": 8
         },
         "mode": "lines+markers",
         "name": "('llama3.1_8b_chat', 'gsm8k', 'base_3_shot', 'main', 'prompt_only')",
         "type": "scatter",
         "x": {
          "bdata": "AAECAwQFBgcICQoLDA0ODxAREhMUFRYXGBkaGxwdHh8=",
          "dtype": "i1"
         },
         "y": {
          "bdata": "nMQgsHJo4T9m9Las1THhP9S/EcrobeE/76fGSzeJ4T/vp8ZLN4nhP1DUvxHK6OE/FtnO91Pj4T8lTak4+/DhPxkEVg4tsuE/FtnO91Pj4T807AqQe83hP3YFyL3mQuI/MJb8Yskv4j9dSJpScfbhP1odEzyYJ+I/Wh0TPJgn4j9JUyrOPnziPyD3mgtJU+I/CWX0tqzV4T9BYOXQItvhP1sdEzyYJ+I/Tqk4+/AZ4j9rvHSTGATiP0A1XrpJDOI/zj58hl0B4j+UGARWDi3iP7ArQO41F+I/PQrXo3A94j8g95oLSVPiP9qHz7ArQOI/peLsw2fY4T+jt2WtjgniPw==",
          "dtype": "f8"
         }
        },
        {
         "legendgroup": "('llama3.1_8b_chat', 'gsm8k', 'base_3_shot', 'main', 'prompt_only')",
         "line": {
          "width": 0
         },
         "mode": "lines",
         "name": "('llama3.1_8b_chat', 'gsm8k', 'base_3_shot', 'main', 'prompt_only') Max",
         "showlegend": false,
         "type": "scatter",
         "x": {
          "bdata": "AAECAwQFBgcICQoLDA0ODxAREhMUFRYXGBkaGxwdHh8=",
          "dtype": "i1"
         },
         "y": {
          "bdata": "WfKLJb9Y4j8HOm2g0wbiP+xRuB6F6+E/+cWSXyz54T89CtejcD3iP1nyiyW/WOI/7+7u7u7u4j/9YskvlvziPxhLfrHkF+M/7+7u7u7u4j+PwvUoXI/iPzMzMzMzM+M/QacNdNpA4z/UBjptoNPiP1yPwvUoXOM/7+7u7u7u4j8mv1jyiyXjPwrXo3A9CuM/xpJfLPnF4j/hehSuR+HiP6uqqqqqquI/CtejcD0K4z8mv1jyiyXjP+/u7u7u7uI/agOdNtBp4z8zMzMzMzPjP/1iyS+W/OI/xpJfLPnF4j8zMzMzMzPjPxhLfrHkF+M/WfKLJb9Y4j+4HoXrUbjiPw==",
          "dtype": "f8"
         }
        },
        {
         "fill": "tonexty",
         "fillcolor": "rgba(255, 127, 14, 0.1)",
         "legendgroup": "('llama3.1_8b_chat', 'gsm8k', 'base_3_shot', 'main', 'prompt_only')",
         "line": {
          "width": 0
         },
         "mode": "lines",
         "name": "('llama3.1_8b_chat', 'gsm8k', 'base_3_shot', 'main', 'prompt_only') Min",
         "showlegend": false,
         "type": "scatter",
         "x": {
          "bdata": "AAECAwQFBgcICQoLDA0ODxAREhMUFRYXGBkaGxwdHh8=",
          "dtype": "i1"
         },
         "y": {
          "bdata": "A5020GkD4T+JiIiIiIjgP6RwPQrXo+A/zczMzMzM4D/NzMzMzMzgP6cNdNpAp+E/9ihcj8L14D+W/GLJL5bgP1K4HoXrUeA/seQXS36x4D8s+cWSXyzhP7WBThvotOE/mpmZmZmZ4T+x5BdLfrHgPxEREREREeE/SOF6FK5H4T+MJb9Y8ovhPwOdNtBpA+E/seQXS36x4D/NzMzMzMzgP1VVVVVVVeE/9ihcj8L14D8DnTbQaQPhP3E9CtejcOE/LPnFkl8s4T9jyS+W/GLhPxEREREREeE/mpmZmZmZ4T+MJb9Y8ovhP0jhehSuR+E/SOF6FK5H4T8fhetRuB7hPw==",
          "dtype": "f8"
         }
        },
        {
         "legendgroup": "('llama3.1_8b_chat', 'gsm8k', 'base_3_shot', 'main', 'prompt_only')",
         "line": {
          "width": 0
         },
         "mode": "lines",
         "name": "('llama3.1_8b_chat', 'gsm8k', 'base_3_shot', 'main', 'prompt_only') +1 STD",
         "showlegend": false,
         "type": "scatter",
         "x": {
          "bdata": "AAECAwQFBgcICQoLDA0ODxAREhMUFRYXGBkaGxwdHh8=",
          "dtype": "i1"
         },
         "y": {
          "bdata": "PHYzaTf14T9M4OQ1ZtLhPxJwhmgS8uE/l6uVFvQB4j+TVIqKBh3iP+LycymlLOI/z48vu6yf4j9PGq/gL+TiP+GshEILsuI/6TyhfWyz4j+2K5QX32niP0EXBBU71OI/GEwUkZ/R4j8i06XGG83iP5DDmxZv/eI/+5J/RYnP4j8ZLex6YyHjP7D9hyY2KuM/5wSGm+HB4j+gY8u3babiPyRZkp53u+I/KdHhyHz34j8NDQGU+triP/YpuEo2n+I/GVK2Afjm4j/8YiqTCOLiP062u1jg2OI/O+mT+T7U4j8aHYSaowzjP87Sv99SD+M/XuYUKX1O4j8dewMTZNTiPw==",
          "dtype": "f8"
         }
        },
        {
         "fill": "tonexty",
         "fillcolor": "rgba(255, 127, 14, 0.3)",
         "legendgroup": "('llama3.1_8b_chat', 'gsm8k', 'base_3_shot', 'main', 'prompt_only')",
         "line": {
          "width": 0
         },
         "mode": "lines",
         "name": "('llama3.1_8b_chat', 'gsm8k', 'base_3_shot', 'main', 'prompt_only') -1 STD",
         "showlegend": false,
         "type": "scatter",
         "x": {
          "bdata": "AAECAwQFBgcICQoLDA0ODxAREhMUFRYXGBkaGxwdHh8=",
          "dtype": "i1"
         },
         "y": {
          "bdata": "/BIO963b4D+ACIkjRZHgP5YPnSu/6eA/R6T3gHoQ4T9L+wINaPXgP761C/rupOE/XSJuNPsm4T/7f6OQxv3gP1FbJ9pOsuA/Q3X8cTsT4T+yrIEIGDHhP6vzi2aSseE/SODkNPON4T+YvY7exh/hPyR3imHBUeE/uaemMqd/4T95eWghGtfhP5DwrfBbfOE/K8Vi0nfp4D/iXP/p1w/hP5Lhk9m4k+E/c4GPLWU84T/Ja+iSNi3hP4pABCpdeeE/gytCC8Mb4T8szt0YFHjhPxKhxIOLVeE/PysaTqKm4T8m0bF87pnhP+Y834EEceE/7N7EXlJi4T8p9MdHuT7hPw==",
          "dtype": "f8"
         }
        },
        {
         "legendgroup": "('llama3.1_8b_chat', 'gsm8k', 'base_3_shot', 'main', 'prompt_only')",
         "marker": {
          "color": "#ff7f0e",
          "opacity": 0.5,
          "size": 6
         },
         "mode": "markers",
         "name": "('llama3.1_8b_chat', 'gsm8k', 'base_3_shot', 'main', 'prompt_only') Fold ('logistic_regression_accuracy_score', 0)",
         "showlegend": false,
         "type": "scatter",
         "x": {
          "bdata": "AAECAwQFBgcICQoLDA0ODxAREhMUFRYXGBkaGxwdHh8=",
          "dtype": "i1"
         },
         "y": {
          "bdata": "A5020GkD4T+JiIiIiIjgP6RwPQrXo+A/jCW/WPKL4T8fhetRuB7hP8P1KFyPwuE/9ihcj8L14D+MJb9Y8ovhP1K4HoXrUeA/seQXS36x4D9xPQrXo3DhP/nFkl8s+eE/+cWSXyz54T/e3d3d3d3hP9BpA5020OE/SOF6FK5H4T8wlvxiyS/iP/nFkl8s+eE/SOF6FK5H4T+MJb9Y8ovhP9BpA5020OE/cT0K16Nw4T8DnTbQaQPhP3E9CtejcOE/mpmZmZmZ4T+nDXTaQKfhPxEREREREeE/mpmZmZmZ4T+amZmZmZnhP0jhehSuR+E/frHkF0t+4T86baDTBjrhPw==",
          "dtype": "f8"
         }
        },
        {
         "legendgroup": "('llama3.1_8b_chat', 'gsm8k', 'base_3_shot', 'main', 'prompt_only')",
         "marker": {
          "color": "#ff7f0e",
          "opacity": 0.5,
          "size": 6
         },
         "mode": "markers",
         "name": "('llama3.1_8b_chat', 'gsm8k', 'base_3_shot', 'main', 'prompt_only') Fold ('logistic_regression_accuracy_score', 1)",
         "showlegend": false,
         "type": "scatter",
         "x": {
          "bdata": "AAECAwQFBgcICQoLDA0ODxAREhMUFRYXGBkaGxwdHh8=",
          "dtype": "i1"
         },
         "y": {
          "bdata": "WfKLJb9Y4j8HOm2g0wbiP1VVVVVVVeE/7FG4HoXr4T+nDXTaQKfhP+xRuB6F6+E/MJb8Yskv4j/9YskvlvziPxhLfrHkF+M/7+7u7u7u4j+PwvUoXI/iPzMzMzMzM+M/QacNdNpA4z/UBjptoNPiP1yPwvUoXOM/7+7u7u7u4j/9YskvlvziP+F6FK5H4eI/xpJfLPnF4j/hehSuR+HiP6uqqqqqquI/CtejcD0K4z+PwvUoXI/iPyIiIiIiIuI/WfKLJb9Y4j89CtejcD3iP3TaQKcNdOI/j8L1KFyP4j+rqqqqqqriP7gehetRuOI/WfKLJb9Y4j+PwvUoXI/iPw==",
          "dtype": "f8"
         }
        },
        {
         "legendgroup": "('llama3.1_8b_chat', 'gsm8k', 'base_3_shot', 'main', 'prompt_only')",
         "marker": {
          "color": "#ff7f0e",
          "opacity": 0.5,
          "size": 6
         },
         "mode": "markers",
         "name": "('llama3.1_8b_chat', 'gsm8k', 'base_3_shot', 'main', 'prompt_only') Fold ('logistic_regression_accuracy_score', 2)",
         "showlegend": false,
         "type": "scatter",
         "x": {
          "bdata": "AAECAwQFBgcICQoLDA0ODxAREhMUFRYXGBkaGxwdHh8=",
          "dtype": "i1"
         },
         "y": {
          "bdata": "SOF6FK5H4T8DnTbQaQPhP+xRuB6F6+E/cT0K16Nw4T/e3d3d3d3hP6cNdNpAp+E/jCW/WPKL4T/sUbgehevhP8P1KFyPwuE/tYFOG+i04T9+seQXS37hP7WBThvotOE/MJb8Yskv4j/QaQOdNtDhPzCW/GLJL+I/ZmZmZmZm4j8mv1jyiyXjPwrXo3A9CuM/xpJfLPnF4j9Z8oslv1jiP6uqqqqqquI/j8L1KFyP4j8mv1jyiyXjP+/u7u7u7uI/agOdNtBp4z8zMzMzMzPjP/1iyS+W/OI/xpJfLPnF4j8zMzMzMzPjPxhLfrHkF+M/PQrXo3A94j+4HoXrUbjiPw==",
          "dtype": "f8"
         }
        },
        {
         "legendgroup": "('llama3.1_8b_chat', 'gsm8k', 'base_3_shot', 'main', 'prompt_only')",
         "marker": {
          "color": "#ff7f0e",
          "opacity": 0.5,
          "size": 6
         },
         "mode": "markers",
         "name": "('llama3.1_8b_chat', 'gsm8k', 'base_3_shot', 'main', 'prompt_only') Fold ('logistic_regression_accuracy_score', 3)",
         "showlegend": false,
         "type": "scatter",
         "x": {
          "bdata": "AAECAwQFBgcICQoLDA0ODxAREhMUFRYXGBkaGxwdHh8=",
          "dtype": "i1"
         },
         "y": {
          "bdata": "Y8kvlvxi4T+nDXTaQKfhP97d3d3d3eE/+cWSXyz54T89CtejcD3iP1nyiyW/WOI/7+7u7u7u4j+rqqqqqqriP2PJL5b8YuE/MJb8Yskv4j9Z8oslv1jiP0t+seQXS+I/7FG4HoXr4T+dNtBpA53iP1nyiyW/WOI/dNpApw104j+PwvUoXI/iP7gehetRuOI/pw102kCn4T+1gU4b6LThP0t+seQXS+I/gk4b6LSB4j/D9Shcj8LhPxSuR+F6FOI/frHkF0t+4T9mZmZmZmbiP1nyiyW/WOI/q6qqqqqq4j+dNtBpA53iP6uqqqqqquI/3t3d3d3d4T+PwvUoXI/iPw==",
          "dtype": "f8"
         }
        },
        {
         "legendgroup": "('llama3.1_8b_chat', 'gsm8k', 'base_3_shot', 'main', 'prompt_only')",
         "marker": {
          "color": "#ff7f0e",
          "opacity": 0.5,
          "size": 6
         },
         "mode": "markers",
         "name": "('llama3.1_8b_chat', 'gsm8k', 'base_3_shot', 'main', 'prompt_only') Fold ('logistic_regression_accuracy_score', 4)",
         "showlegend": false,
         "type": "scatter",
         "x": {
          "bdata": "AAECAwQFBgcICQoLDA0ODxAREhMUFRYXGBkaGxwdHh8=",
          "dtype": "i1"
         },
         "y": {
          "bdata": "A5020GkD4T+/WPKLJb/gP2PJL5b8YuE/zczMzMzM4D/NzMzMzMzgP97d3d3d3eE/0GkDnTbQ4T+W/GLJL5bgP+xRuB6F6+E/7FG4HoXr4T8s+cWSXyzhPyIiIiIiIuI/mpmZmZmZ4T+x5BdLfrHgPxEREREREeE/tYFOG+i04T+MJb9Y8ovhPwOdNtBpA+E/seQXS36x4D/NzMzMzMzgP1VVVVVVVeE/9ihcj8L14D+amZmZmZnhP6cNdNpAp+E/LPnFkl8s4T9jyS+W/GLhP5qZmZmZmeE/mpmZmZmZ4T+MJb9Y8ovhP36x5BdLfuE/SOF6FK5H4T8fhetRuB7hPw==",
          "dtype": "f8"
         }
        },
        {
         "legendgroup": "('llama3.1_8b_chat', 'gsm8k', 'cot_3_shot', 'main', 'prompt_answer')",
         "line": {
          "color": "#2ca02c",
          "width": 2
         },
         "marker": {
          "size": 8
         },
         "mode": "lines+markers",
         "name": "('llama3.1_8b_chat', 'gsm8k', 'cot_3_shot', 'main', 'prompt_answer')",
         "type": "scatter",
         "x": {
          "bdata": "AAECAwQFBgcICQoLDA0ODxAREhMUFRYXGBkaGxwdHh8=",
          "dtype": "i1"
         },
         "y": {
          "bdata": "WC0wY/mI4T94DHou3jjhP2tYBBuzZOE/RAJcqz+t4T8qYClP98nhPxBKaIjKcOE/7vaPUgFL4T9/g9jSbEDhP4X6Nnf7R+E/zlGNvA7W4T+amZmZmZnhP644/Ls36+E/lJbJX+8H4j/2G8SWZgPiPyQjEuBa/eE/gGv1pzUs4j+7YAA6RzXiP6GEhqgMF+I/PsVEPKPg4T8drLM7zPXhPznCdAL5TuI/S7MBhcDv4T8KR5hOIN/hPxc1VZc97uE/rjj8uzfr4T94gAiZwq7hP16kjgeIkOE/++RMmx5a4T9skktQpZ/hP6ZND63EbeE/Pov9BrGl4T+N5SOGbsXhPw==",
          "dtype": "f8"
         }
        },
        {
         "legendgroup": "('llama3.1_8b_chat', 'gsm8k', 'cot_3_shot', 'main', 'prompt_answer')",
         "line": {
          "width": 0
         },
         "mode": "lines",
         "name": "('llama3.1_8b_chat', 'gsm8k', 'cot_3_shot', 'main', 'prompt_answer') Max",
         "showlegend": false,
         "type": "scatter",
         "x": {
          "bdata": "AAECAwQFBgcICQoLDA0ODxAREhMUFRYXGBkaGxwdHh8=",
          "dtype": "i1"
         },
         "y": {
          "bdata": "BETIFHZN4j8wY/mIoVvhP7SvWmDG8uE/91ULzFg+4j/j8O/erCfiP+Pw796sJ+I/jeUjhm7F4T+A92Y9UbbhP3mACJnCruE/HiBCprBr4j+nwZ0XqePhPz9zGtx5keI/GKnjASJk4j90Kw7/7s3iPxEyhV2TXOI/Ofy7N+uJ4j+IkCnsmuTiP5V+5jS48+I/GKnjASJk4j8yhV2TXILiP96b9UTZRuM//cxpcOdF4j/IFHZNcgniPwREyBR2TeI/91ULzFg+4j+hSj9zGtzhP2ySS1Cln+E/hm7F4d+94T/pZ06DOy/iP7smuQRV+uE/jweIkCns4j8yhV2TXILiPw==",
          "dtype": "f8"
         }
        },
        {
         "fill": "tonexty",
         "fillcolor": "rgba(44, 160, 44, 0.1)",
         "legendgroup": "('llama3.1_8b_chat', 'gsm8k', 'cot_3_shot', 'main', 'prompt_answer')",
         "line": {
          "width": 0
         },
         "mode": "lines",
         "name": "('llama3.1_8b_chat', 'gsm8k', 'cot_3_shot', 'main', 'prompt_answer') Min",
         "showlegend": false,
         "type": "scatter",
         "x": {
          "bdata": "AAECAwQFBgcICQoLDA0ODxAREhMUFRYXGBkaGxwdHh8=",
          "dtype": "i1"
         },
         "y": {
          "bdata": "9TOnwZ0X4T8CImQKuybhP7ON9lULzOA/kToeIEKm4D8c/t2b9UThP9pXLTBj+eA/wHuznijb4D+YsXzE0K3gP9pXLTBj+eA/CZnCrkku4T8jdTxAhEzhPzBj+YihW+E/WC0wY/mI4T89UbbRvmrhP3mACJnCruE/p8GdF6nj4T9RttG+aoHhP/uqBWYsH+E/AiJkCrsm4T9lG+2rFpjhP4D3Zj1RtuE/Sz9zGtx54T+A92Y9UbbhPz1RttG+auE/N9pXLTBj4T9RttG+aoHhP0TIFHZNcuE/pZ85De684D+ETGHXJJfgP9pXLTBj+eA/1ODOi9Tx4D8Wh3/3Zj3hPw==",
          "dtype": "f8"
         }
        },
        {
         "legendgroup": "('llama3.1_8b_chat', 'gsm8k', 'cot_3_shot', 'main', 'prompt_answer')",
         "line": {
          "width": 0
         },
         "mode": "lines",
         "name": "('llama3.1_8b_chat', 'gsm8k', 'cot_3_shot', 'main', 'prompt_answer') +1 STD",
         "showlegend": false,
         "type": "scatter",
         "x": {
          "bdata": "AAECAwQFBgcICQoLDA0ODxAREhMUFRYXGBkaGxwdHh8=",
          "dtype": "i1"
         },
         "y": {
          "bdata": "szUZjlQI4j8uIuxLSU3hP6wLe84a2OE/EkMcE8tM4j9LLuMtWyLiP93AzxAw4eE/9134n4qy4T9Ajeb3NJ/hPxxlJ49Hi+E/1Lls+lZY4j+xzXyJM9XhPwsK7x8FdeI/98S94ZJZ4j+wxu/qfJriP+pl5JpwTeI/GJRmxxRv4j8kjq+RD+DiP+Rfwsj/weI/QcJWTa9u4j8WXzRxQ1DiPydnvGZZ5OI/F1uKp9lE4j+5E6Edj/7hP3oBb2rcWeI/E06vLVVP4j+YiWOWKtThPyO/1ipBouE/Wq5rR7i94T/eNtCuT0riP7jkUo+5yuE/2sk6FDRl4j8sI8Vng0ziPw==",
          "dtype": "f8"
         }
        },
        {
         "fill": "tonexty",
         "fillcolor": "rgba(44, 160, 44, 0.3)",
         "legendgroup": "('llama3.1_8b_chat', 'gsm8k', 'cot_3_shot', 'main', 'prompt_answer')",
         "line": {
          "width": 0
         },
         "mode": "lines",
         "name": "('llama3.1_8b_chat', 'gsm8k', 'cot_3_shot', 'main', 'prompt_answer') -1 STD",
         "showlegend": false,
         "type": "scatter",
         "x": {
          "bdata": "AAECAwQFBgcICQoLDA0ODxAREhMUFRYXGBkaGxwdHh8=",
          "dtype": "i1"
         },
         "y": {
          "bdata": "/SRHOJ4J4T/C9gcRcyThPyqljWdL8eA/dsGbQ7QN4T8Jkm9wk3HhP0PTAABlAOE/5Y8nBXjj4D++ecqtpOHgP+6PRl+vBOE/yOmtfsZT4T+DZbap/13hP1FnCVhqYeE/MWjV3Uu24T88cZhCUGzhP17gPyVFreE/6EKEiFbp4T9SM1HiforhP16pSogZbOE/O8gyK5dS4T8k+TIGVZvhP0sdLZ6YueE/fwt5Yqea4T9beo9/sb/hP7RoO8SeguE/SSNJShqH4T9Yd62bWonhP5mJRuTOfuE/nBsu74T24D/67cbx+vTgP5S2y8rPEOE/okzA+S3m4D/up4KkWT7hPw==",
          "dtype": "f8"
         }
        },
        {
         "legendgroup": "('llama3.1_8b_chat', 'gsm8k', 'cot_3_shot', 'main', 'prompt_answer')",
         "marker": {
          "color": "#2ca02c",
          "opacity": 0.5,
          "size": 6
         },
         "mode": "markers",
         "name": "('llama3.1_8b_chat', 'gsm8k', 'cot_3_shot', 'main', 'prompt_answer') Fold ('logistic_regression_accuracy_score', 0)",
         "showlegend": false,
         "type": "scatter",
         "x": {
          "bdata": "AAECAwQFBgcICQoLDA0ODxAREhMUFRYXGBkaGxwdHh8=",
          "dtype": "i1"
         },
         "y": {
          "bdata": "9TOnwZ0X4T8wY/mIoVvhP7ON9lULzOA/XqSOB4iQ4T8c/t2b9UThP9pXLTBj+eA/zWlw50Xq4D+YsXzE0K3gP3mACJnCruE/RMgUdk1y4T8jdTxAhEzhP0TIFHZNcuE/tK9aYMby4T9EyBR2TXLhP3mACJnCruE/wp0XqeMB4j9RttG+aoHhP/uqBWYsH+E/PVG20b5q4T+A92Y9UbbhP9UCM5aPGOI/uya5BFX64T+uOPy7N+vhPwREyBR2TeI/1QIzlo8Y4j+A92Y9UbbhP2Ub7asWmOE/hm7F4d+94T/pZ06DOy/iP7smuQRV+uE/jweIkCns4j8yhV2TXILiPw==",
          "dtype": "f8"
         }
        },
        {
         "legendgroup": "('llama3.1_8b_chat', 'gsm8k', 'cot_3_shot', 'main', 'prompt_answer')",
         "marker": {
          "color": "#2ca02c",
          "opacity": 0.5,
          "size": 6
         },
         "mode": "markers",
         "name": "('llama3.1_8b_chat', 'gsm8k', 'cot_3_shot', 'main', 'prompt_answer') Fold ('logistic_regression_accuracy_score', 1)",
         "showlegend": false,
         "type": "scatter",
         "x": {
          "bdata": "AAECAwQFBgcICQoLDA0ODxAREhMUFRYXGBkaGxwdHh8=",
          "dtype": "i1"
         },
         "y": {
          "bdata": "BETIFHZN4j8PECFT2DXhP16kjgeIkOE/tK9aYMby4T/IFHZNcgniP+Pw796sJ+I/wHuznijb4D+A92Y9UbbhPw8QIVPYNeE/3HmROh4g4j+nwZ0XqePhP6FKP3Ma3OE/4/Dv3qwn4j/VAjOWjxjiP/dVC8xYPuI/p8GdF6nj4T9skktQpZ/hP9UCM5aPGOI/AiJkCrsm4T9lG+2rFpjhP4D3Zj1RtuE/Sz9zGtx54T+TXIIq/czhPz1RttG+auE/bJJLUKWf4T9RttG+aoHhP2ySS1Cln+E/MGP5iKFb4T+a0+DOi9ThP0s/cxrceeE/PVG20b5q4T/Pi9TxABHiPw==",
          "dtype": "f8"
         }
        },
        {
         "legendgroup": "('llama3.1_8b_chat', 'gsm8k', 'cot_3_shot', 'main', 'prompt_answer')",
         "marker": {
          "color": "#2ca02c",
          "opacity": 0.5,
          "size": 6
         },
         "mode": "markers",
         "name": "('llama3.1_8b_chat', 'gsm8k', 'cot_3_shot', 'main', 'prompt_answer') Fold ('logistic_regression_accuracy_score', 2)",
         "showlegend": false,
         "type": "scatter",
         "x": {
          "bdata": "AAECAwQFBgcICQoLDA0ODxAREhMUFRYXGBkaGxwdHh8=",
          "dtype": "i1"
         },
         "y": {
          "bdata": "bJJLUKWf4T8PECFT2DXhP7SvWmDG8uE/uya5BFX64T+TXIIq/czhP0s/cxrceeE/ZRvtqxaY4T8Wh3/3Zj3hPzBj+YihW+E/HiBCprBr4j9RttG+aoHhPz9zGtx5keI/GKnjASJk4j90Kw7/7s3iPxEyhV2TXOI/CrsmuQRV4j/ceZE6HiDiP644/Ls36+E/6WdOgzsv4j+7JrkEVfrhPwREyBR2TeI/8N6sJ8o24j+nwZ0XqePhP+Pw796sJ+I/91ULzFg+4j+N5SOGbsXhP16kjgeIkOE/bJJLUKWf4T/j8O/erCfiPz1RttG+auE/PVG20b5q4T8Wh3/3Zj3hPw==",
          "dtype": "f8"
         }
        },
        {
         "legendgroup": "('llama3.1_8b_chat', 'gsm8k', 'cot_3_shot', 'main', 'prompt_answer')",
         "marker": {
          "color": "#2ca02c",
          "opacity": 0.5,
          "size": 6
         },
         "mode": "markers",
         "name": "('llama3.1_8b_chat', 'gsm8k', 'cot_3_shot', 'main', 'prompt_answer') Fold ('logistic_regression_accuracy_score', 3)",
         "showlegend": false,
         "type": "scatter",
         "x": {
          "bdata": "AAECAwQFBgcICQoLDA0ODxAREhMUFRYXGBkaGxwdHh8=",
          "dtype": "i1"
         },
         "y": {
          "bdata": "9TOnwZ0X4T8CImQKuybhP/Uzp8GdF+E/kToeIEKm4D95gAiZwq7hPxz+3Zv1ROE/Kuya5BJU4T8q7JrkElThP9pXLTBj+eA/wp0XqeMB4j9YLTBj+YjhPxEyhV2TXOI/3HmROh4g4j8ERMgUdk3iP3mACJnCruE/Ofy7N+uJ4j+IkCnsmuTiPxEyhV2TXOI/91ULzFg+4j8yhV2TXILiP96b9UTZRuM//cxpcOdF4j+A92Y9UbbhP/dVC8xYPuI/91ULzFg+4j+hSj9zGtzhP2Ub7asWmOE/I3U8QIRM4T8wY/mIoVvhPyN1PECETOE/WC0wY/mI4T+A92Y9UbbhPw==",
          "dtype": "f8"
         }
        },
        {
         "legendgroup": "('llama3.1_8b_chat', 'gsm8k', 'cot_3_shot', 'main', 'prompt_answer')",
         "marker": {
          "color": "#2ca02c",
          "opacity": 0.5,
          "size": 6
         },
         "mode": "markers",
         "name": "('llama3.1_8b_chat', 'gsm8k', 'cot_3_shot', 'main', 'prompt_answer') Fold ('logistic_regression_accuracy_score', 4)",
         "showlegend": false,
         "type": "scatter",
         "x": {
          "bdata": "AAECAwQFBgcICQoLDA0ODxAREhMUFRYXGBkaGxwdHh8=",
          "dtype": "i1"
         },
         "y": {
          "bdata": "XqSOB4iQ4T8JmcKuSS7hP16kjgeIkOE/91ULzFg+4j/j8O/erCfiPyrsmuQSVOE/jeUjhm7F4T8jdTxAhEzhPwmZwq5JLuE/CZnCrkku4T+N5SOGbsXhPzBj+YihW+E/WC0wY/mI4T89UbbRvmrhP7smuQRV+uE/1QIzlo8Y4j+IkCnsmuTiP5V+5jS48+I/GKnjASJk4j/CnRep4wHiP+Pw796sJ+I/hm7F4d+94T/IFHZNcgniP1gtMGP5iOE/N9pXLTBj4T9epI4HiJDhP0TIFHZNcuE/pZ85De684D+ETGHXJJfgP9pXLTBj+eA/1ODOi9Tx4D8q7JrkElThPw==",
          "dtype": "f8"
         }
        },
        {
         "legendgroup": "('llama3.1_8b_chat', 'gsm8k', 'cot_3_shot', 'main', 'prompt_only')",
         "line": {
          "color": "#d62728",
          "width": 2
         },
         "marker": {
          "size": 8
         },
         "mode": "lines+markers",
         "name": "('llama3.1_8b_chat', 'gsm8k', 'cot_3_shot', 'main', 'prompt_only')",
         "type": "scatter",
         "x": {
          "bdata": "AAECAwQFBgcICQoLDA0ODxAREhMUFRYXGBkaGxwdHh8=",
          "dtype": "i1"
         },
         "y": {
          "bdata": "UUJDVIYL4T+T6PO/GFfhPwOW8nSfnOE/CF97eVfz4D/Oo7ccOCXhP6CcadNDK+E/Hf7dm/VE4T+6PpwvjA7hPzfaVy0wY+E/eAx6Lt444T9qHr3lwCnhP7Q7zPXhfOE/wLX60xoW4T9lp15BMiLhP1F8iol4RuE/wLX60xoW4T/nfzGuckPhP3Jb1FRd9uA/mOvD+cLo4D/GLFl4qR3hP+/2j1IBS+E/unjjZH5J4T+S6PO/GFfhP9vLu5pHb+E/rcRtUVN14T9KP3Ma3HnhP+EI0wnkO+E/xixZeKkd4T+6PpwvjA7hP8csWXipHeE/f4PY0mxA4T9SfIqJeEbhPw==",
          "dtype": "f8"
         }
        },
        {
         "legendgroup": "('llama3.1_8b_chat', 'gsm8k', 'cot_3_shot', 'main', 'prompt_only')",
         "line": {
          "width": 0
         },
         "mode": "lines",
         "name": "('llama3.1_8b_chat', 'gsm8k', 'cot_3_shot', 'main', 'prompt_only') Max",
         "showlegend": false,
         "type": "scatter",
         "x": {
          "bdata": "AAECAwQFBgcICQoLDA0ODxAREhMUFRYXGBkaGxwdHh8=",
          "dtype": "i1"
         },
         "y": {
          "bdata": "bJJLUKWf4T+TXIIq/czhP8gUdk1yCeI/jeUjhm7F4T9YLTBj+YjhP1G20b5qgeE/Sz9zGtx54T+hSj9zGtzhP7SvWmDG8uE/bJJLUKWf4T+TXIIq/czhP644/Ls36+E/WC0wY/mI4T9YLTBj+YjhP43lI4ZuxeE/ZRvtqxaY4T+TXIIq/czhP0s/cxrceeE/+6oFZiwf4T89UbbRvmrhP3mACJnCruE/mtPgzovU4T+A92Y9UbbhP8gUdk1yCeI/z4vU8QAR4j+TXIIq/czhP3mACJnCruE/cgmq9DOn4T/IFHZNcgniP7SvWmDG8uE/jeUjhm7F4T9YLTBj+YjhPw==",
          "dtype": "f8"
         }
        },
        {
         "fill": "tonexty",
         "fillcolor": "rgba(214, 39, 40, 0.1)",
         "legendgroup": "('llama3.1_8b_chat', 'gsm8k', 'cot_3_shot', 'main', 'prompt_only')",
         "line": {
          "width": 0
         },
         "mode": "lines",
         "name": "('llama3.1_8b_chat', 'gsm8k', 'cot_3_shot', 'main', 'prompt_only') Min",
         "showlegend": false,
         "type": "scatter",
         "x": {
          "bdata": "AAECAwQFBgcICQoLDA0ODxAREhMUFRYXGBkaGxwdHh8=",
          "dtype": "i1"
         },
         "y": {
          "bdata": "cOdF6niA4D+fKNtoX7XgP81pcOdF6uA/B3depI4H4D+YsXzE0K3gP9TgzovU8eA/50XqeIAI4T9w50XqeIDgP+HOi9TxAOE/uQRV+pnT4D9JHQ8QIVPgP9pXLTBj+eA/zWlw50Xq4D+Lw797s57gP8B7s54o2+A/rBaYsXzE4D/U4M6L1PHgP5E6HiBCpuA/kToeIEKm4D+YsXzE0K3gP9TgzovU8eA/uQRV+pnT4D/G8hFDt+LgP9TgzovU8eA/2lctMGP54D8c/t2b9UThP3depI4HiOA/hExh1ySX4D9WC8xYPmLgP37VAjOWj+A/s432VQvM4D8CImQKuybhPw==",
          "dtype": "f8"
         }
        },
        {
         "legendgroup": "('llama3.1_8b_chat', 'gsm8k', 'cot_3_shot', 'main', 'prompt_only')",
         "line": {
          "width": 0
         },
         "mode": "lines",
         "name": "('llama3.1_8b_chat', 'gsm8k', 'cot_3_shot', 'main', 'prompt_only') +1 STD",
         "showlegend": false,
         "type": "scatter",
         "x": {
          "bdata": "AAECAwQFBgcICQoLDA0ODxAREhMUFRYXGBkaGxwdHh8=",
          "dtype": "i1"
         },
         "y": {
          "bdata": "fKQdsqWQ4T+xmAnyLc7hP2h7txe2B+I/Ucc/dxOW4T99QdvVroHhPz+k7y1+beE/QM7VBLJu4T+OBuHHM6vhP9agl3LRwOE/Mo+f8TCK4T/hrl9eMbrhPxkhkZj45+E/mtFqU9tX4T93PqIjJ3/hP+a7ghSJm+E/ti4DMIh84T/j7oYlc5zhP30exRjUROE/ytFQY5Ie4T/72HmfW2vhP+88kjnvlOE/XF536tDA4T9Gb+cYd6bhP4hp1hwJ1eE/zae3FRTh4T9x3gdkH7/hPzwnjWbatOE/9NcNv0KC4T8bgxH3PLThPxFbooPYqOE/waRpZlyy4T8zHhG2Pm7hPw==",
          "dtype": "f8"
         }
        },
        {
         "fill": "tonexty",
         "fillcolor": "rgba(214, 39, 40, 0.3)",
         "legendgroup": "('llama3.1_8b_chat', 'gsm8k', 'cot_3_shot', 'main', 'prompt_only')",
         "line": {
          "width": 0
         },
         "mode": "lines",
         "name": "('llama3.1_8b_chat', 'gsm8k', 'cot_3_shot', 'main', 'prompt_only') -1 STD",
         "showlegend": false,
         "type": "scatter",
         "x": {
          "bdata": "AAECAwQFBgcICQoLDA0ODxAREhMUFRYXGBkaGxwdHh8=",
          "dtype": "i1"
         },
         "y": {
          "bdata": "JuBo9maG4D91ON6NA+DgP56wLdKIMeE/v/a2e5tQ4D8fBpRjwcjgPwGV43gJ6eA/+i3mMjkb4T/mdleX5HHgP5gTGOiOBeE/volUa4vn4D/zjRptUJngP09WB1PLEeE/5pmKVFrU4D9TEBtfPcXgP7w8kv5n8eA/yjzyd62v4D/rENw2curgP2eY45Dmp+A/ZgU3kPOy4D+RgDhR98/gP++wjWsTAeE/GJNP3yvS4D/eYQBnugfhPy4uoRiGCeE/jeEjjZIJ4T8joN7QmDThP4bqGK3twuA/mIGkMRC54D9Z+iZo22jgP33+D216kuA/PWJHP33O4D9x2gNdsh7hPw==",
          "dtype": "f8"
         }
        },
        {
         "legendgroup": "('llama3.1_8b_chat', 'gsm8k', 'cot_3_shot', 'main', 'prompt_only')",
         "marker": {
          "color": "#d62728",
          "opacity": 0.5,
          "size": 6
         },
         "mode": "markers",
         "name": "('llama3.1_8b_chat', 'gsm8k', 'cot_3_shot', 'main', 'prompt_only') Fold ('logistic_regression_accuracy_score', 0)",
         "showlegend": false,
         "type": "scatter",
         "x": {
          "bdata": "AAECAwQFBgcICQoLDA0ODxAREhMUFRYXGBkaGxwdHh8=",
          "dtype": "i1"
         },
         "y": {
          "bdata": "2lctMGP54D8JmcKuSS7hP81pcOdF6uA/pZ85De684D+YsXzE0K3gP9pXLTBj+eA/Sz9zGtx54T9w50XqeIDgP+HOi9TxAOE/uQRV+pnT4D89UbbRvmrhP2ySS1Cln+E/zWlw50Xq4D+Lw797s57gP8B7s54o2+A/rBaYsXzE4D/uvEgdDxDhP81pcOdF6uA/kToeIEKm4D+YsXzE0K3gPwIiZAq7JuE/1ODOi9Tx4D8PECFT2DXhPxz+3Zv1ROE/CZnCrkku4T8jdTxAhEzhP3depI4HiOA/hExh1ySX4D9WC8xYPmLgP37VAjOWj+A/s432VQvM4D8CImQKuybhPw==",
          "dtype": "f8"
         }
        },
        {
         "legendgroup": "('llama3.1_8b_chat', 'gsm8k', 'cot_3_shot', 'main', 'prompt_only')",
         "marker": {
          "color": "#d62728",
          "opacity": 0.5,
          "size": 6
         },
         "mode": "markers",
         "name": "('llama3.1_8b_chat', 'gsm8k', 'cot_3_shot', 'main', 'prompt_only') Fold ('logistic_regression_accuracy_score', 1)",
         "showlegend": false,
         "type": "scatter",
         "x": {
          "bdata": "AAECAwQFBgcICQoLDA0ODxAREhMUFRYXGBkaGxwdHh8=",
          "dtype": "i1"
         },
         "y": {
          "bdata": "WC0wY/mI4T+TXIIq/czhP8gUdk1yCeI/+6oFZiwf4T/1M6fBnRfhP1G20b5qgeE/I3U8QIRM4T9YLTBj+YjhP1G20b5qgeE/bJJLUKWf4T8wY/mIoVvhP644/Ls36+E/WC0wY/mI4T9YLTBj+YjhP43lI4ZuxeE/s432VQvM4D+TXIIq/czhP0s/cxrceeE/1ODOi9Tx4D/1M6fBnRfhP3mACJnCruE/mtPgzovU4T+A92Y9UbbhP0s/cxrceeE/bJJLUKWf4T8c/t2b9UThPzBj+YihW+E/+6oFZiwf4T8jdTxAhEzhPxaHf/dmPeE/eYAImcKu4T8JmcKuSS7hPw==",
          "dtype": "f8"
         }
        },
        {
         "legendgroup": "('llama3.1_8b_chat', 'gsm8k', 'cot_3_shot', 'main', 'prompt_only')",
         "marker": {
          "color": "#d62728",
          "opacity": 0.5,
          "size": 6
         },
         "mode": "markers",
         "name": "('llama3.1_8b_chat', 'gsm8k', 'cot_3_shot', 'main', 'prompt_only') Fold ('logistic_regression_accuracy_score', 2)",
         "showlegend": false,
         "type": "scatter",
         "x": {
          "bdata": "AAECAwQFBgcICQoLDA0ODxAREhMUFRYXGBkaGxwdHh8=",
          "dtype": "i1"
         },
         "y": {
          "bdata": "hExh1ySX4D+fKNtoX7XgP2ySS1Cln+E/B3depI4H4D/U4M6L1PHgP9TgzovU8eA/50XqeIAI4T/Ae7OeKNvgPwIiZAq7JuE/Fod/92Y94T9JHQ8QIVPgP/uqBWYsH+E/1ODOi9Tx4D8JmcKuSS7hPzBj+YihW+E/RMgUdk1y4T/U4M6L1PHgP5E6HiBCpuA/pZ85De684D/hzovU8QDhP9TgzovU8eA/uQRV+pnT4D/G8hFDt+LgP9TgzovU8eA/RMgUdk1y4T8c/t2b9UThP3mACJnCruE/1ODOi9Tx4D/U4M6L1PHgP/uqBWYsH+E/7rxIHQ8Q4T8jdTxAhEzhPw==",
          "dtype": "f8"
         }
        },
        {
         "legendgroup": "('llama3.1_8b_chat', 'gsm8k', 'cot_3_shot', 'main', 'prompt_only')",
         "marker": {
          "color": "#d62728",
          "opacity": 0.5,
          "size": 6
         },
         "mode": "markers",
         "name": "('llama3.1_8b_chat', 'gsm8k', 'cot_3_shot', 'main', 'prompt_only') Fold ('logistic_regression_accuracy_score', 3)",
         "showlegend": false,
         "type": "scatter",
         "x": {
          "bdata": "AAECAwQFBgcICQoLDA0ODxAREhMUFRYXGBkaGxwdHh8=",
          "dtype": "i1"
         },
         "y": {
          "bdata": "cOdF6niA4D8PECFT2DXhP4ZuxeHfveE/9TOnwZ0X4T9LP3Ma3HnhPzfaVy0wY+E/DxAhU9g14T93XqSOB4jgPyrsmuQSVOE/4c6L1PEA4T/NaXDnRergP9pXLTBj+eA/2lctMGP54D/U4M6L1PHgPw8QIVPYNeE/uQRV+pnT4D/1M6fBnRfhP8byEUO34uA/+6oFZiwf4T89UbbRvmrhP0s/cxrceeE/9TOnwZ0X4T9EyBR2TXLhP0TIFHZNcuE/2lctMGP54D+GbsXh373hP+HOi9TxAOE/HP7dm/VE4T+Lw797s57gP58o22hfteA/1ODOi9Tx4D8PECFT2DXhPw==",
          "dtype": "f8"
         }
        },
        {
         "legendgroup": "('llama3.1_8b_chat', 'gsm8k', 'cot_3_shot', 'main', 'prompt_only')",
         "marker": {
          "color": "#d62728",
          "opacity": 0.5,
          "size": 6
         },
         "mode": "markers",
         "name": "('llama3.1_8b_chat', 'gsm8k', 'cot_3_shot', 'main', 'prompt_only') Fold ('logistic_regression_accuracy_score', 4)",
         "showlegend": false,
         "type": "scatter",
         "x": {
          "bdata": "AAECAwQFBgcICQoLDA0ODxAREhMUFRYXGBkaGxwdHh8=",
          "dtype": "i1"
         },
         "y": {
          "bdata": "bJJLUKWf4T+TXIIq/czhP4ZuxeHfveE/jeUjhm7F4T9YLTBj+YjhP+dF6niACOE/Kuya5BJU4T+hSj9zGtzhP7SvWmDG8uE/PVG20b5q4T+TXIIq/czhP5Ncgir9zOE/7rxIHQ8Q4T832lctMGPhPwmZwq5JLuE/ZRvtqxaY4T89UbbRvmrhP8byEUO34uA/9TOnwZ0X4T832lctMGPhPw8QIVPYNeE/hm7F4d+94T9EyBR2TXLhP8gUdk1yCeI/z4vU8QAR4j+TXIIq/czhP2Ub7asWmOE/cgmq9DOn4T/IFHZNcgniP7SvWmDG8uE/jeUjhm7F4T9YLTBj+YjhPw==",
          "dtype": "f8"
         }
        },
        {
         "legendgroup": "('llama3.1_8b_chat', 'medals_9k', 'base', 'main', 'prompt_answer')",
         "line": {
          "color": "#9467bd",
          "width": 2
         },
         "marker": {
          "size": 8
         },
         "mode": "lines+markers",
         "name": "('llama3.1_8b_chat', 'medals_9k', 'base', 'main', 'prompt_answer')",
         "type": "scatter",
         "x": {
          "bdata": "AAECAwQFBgcICQoLDA0ODxAREhMUFRYXGBkaGxwdHh8=",
          "dtype": "i1"
         },
         "y": {
          "bdata": "yt2vG6cp5j/ELIHvZAbmP1ZU74OKIOY/+rjP0H725T+qp8llKh3mP3MT+snZdeY/wJksaSh45j8aaPKFH3jmP9aBrSL5XeY/n7O+khGA5j9wRoZPBrHmP2rUdC5RzOY/lokfny2y5j9RAzusG4DmP3uRgowww+Y/GjBOBT6a5j+KT3423HXmP46MVJYxkeY/WJapFhep5j8OOVV7RaLmP6msrZhhiuY/hLWwJfSG5j81aovGCHfmP3OB4Tumc+Y/dsAYK/JM5j9dO2Ght2PmPxHPEsEDReY/6gc5FEFo5j+y47F5s3zmP4WjTSGQWuY/JuQznT6i5j+Wd7yayYXmPw==",
          "dtype": "f8"
         }
        },
        {
         "legendgroup": "('llama3.1_8b_chat', 'medals_9k', 'base', 'main', 'prompt_answer')",
         "line": {
          "width": 0
         },
         "mode": "lines",
         "name": "('llama3.1_8b_chat', 'medals_9k', 'base', 'main', 'prompt_answer') Max",
         "showlegend": false,
         "type": "scatter",
         "x": {
          "bdata": "AAECAwQFBgcICQoLDA0ODxAREhMUFRYXGBkaGxwdHh8=",
          "dtype": "i1"
         },
         "y": {
          "bdata": "F2zBFmzB5j9ERERERETmP3d3d3d3d+Y/IiIiIiIi5j9mZmZmZmbmPxdswRZsweY/AAAAAAAA5z+DLdiCLdjmP7y7u7u7u+Y/pwpCZuAI5z/e3d3d3d3mPzmO4ziO4+Y/Sp/0SZ/05j/Ygi3Ygi3nPzMzMzMzM+c/zY97ZNX35j8AAAAAAADnP33SJ33SJ+c/sAVbsAVb5z9VVVVVVVXnP8dxHMdxHOc/AAAAAAAA5z8XbMEWbMHmPyIiIiIiIuc/9Umf9Emf5j+DLdiCLdjmP1D6pE/6pOY/pU/6pE/65j8XbMEWbMHmP5qZmZmZmeY/bMEWbMEW5z8GW7AFW7DmPw==",
          "dtype": "f8"
         }
        },
        {
         "fill": "tonexty",
         "fillcolor": "rgba(148, 103, 189, 0.1)",
         "legendgroup": "('llama3.1_8b_chat', 'medals_9k', 'base', 'main', 'prompt_answer')",
         "line": {
          "width": 0
         },
         "mode": "lines",
         "name": "('llama3.1_8b_chat', 'medals_9k', 'base', 'main', 'prompt_answer') Min",
         "showlegend": false,
         "type": "scatter",
         "x": {
          "bdata": "AAECAwQFBgcICQoLDA0ODxAREhMUFRYXGBkaGxwdHh8=",
          "dtype": "i1"
         },
         "y": {
          "bdata": "zczMzMzM5T8GW7AFW7DlP4mIiIiIiOU/Y8rmlqeo5T/xOjqcyNvlPxEREREREeY/OY7jOI7j5T+lT/qkT/rlPxEREREREeY/fdInfdIn5j8u2IIt2ILmPz/pkz7pk+Y/Iz6BVHJe5j/Ygi3Ygi3mP47jOI7jOOY/+qRP+qRP5j8iIiIiIiLmP4Mt2IIt2OU/lc0tT1Er5j9/q42h6Q7mP0MEtPWMA+Y/AAAAAAAA5j8AAAAAAADmPwGe0+xVruU/aYnt84Hy5T89Ra2YsrnlP3MtgOc0e+U/y7UAntPs5T/Ygi3Ygi3mP+/u7u7u7uU/6ZM+6ZM+5j/6pE/6pE/mPw==",
          "dtype": "f8"
         }
        },
        {
         "legendgroup": "('llama3.1_8b_chat', 'medals_9k', 'base', 'main', 'prompt_answer')",
         "line": {
          "width": 0
         },
         "mode": "lines",
         "name": "('llama3.1_8b_chat', 'medals_9k', 'base', 'main', 'prompt_answer') +1 STD",
         "showlegend": false,
         "type": "scatter",
         "x": {
          "bdata": "AAECAwQFBgcICQoLDA0ODxAREhMUFRYXGBkaGxwdHh8=",
          "dtype": "i1"
         },
         "y": {
          "bdata": "V6BFCkKM5j8miCVgUD3mP9jhhGFqfuY/8ihif/0n5j/l+4xcIVXmP2v8PoxLv+Y/dfND293i5j+mDcPc7tvmP6ESPiiaouY/MOmxo2Pk5j/4FJZqptfmP0QUSZ6B7eY/+e5wQBfz5j/RoLJYjOXmPyWkbp4dPuc/wgzYvcTh5j/bHBHGWc7mP54tIRGJG+c/RSN5364g5z+c1L6oSCfnPxD4LAQl7+Y/bIN9AnLx5j8KsZRgl9rmP/raehVSEuc/MMyGNx2g5j+Mr6fRftnmP4H3Visrw+Y/7Ly/bY/T5j9ny4qgGbTmP90aylwtpeY/h7k+hEf55j+bOtnm9qzmPw==",
          "dtype": "f8"
         }
        },
        {
         "fill": "tonexty",
         "fillcolor": "rgba(148, 103, 189, 0.3)",
         "legendgroup": "('llama3.1_8b_chat', 'medals_9k', 'base', 'main', 'prompt_answer')",
         "line": {
          "width": 0
         },
         "mode": "lines",
         "name": "('llama3.1_8b_chat', 'medals_9k', 'base', 'main', 'prompt_answer') -1 STD",
         "showlegend": false,
         "type": "scatter",
         "x": {
          "bdata": "AAECAwQFBgcICQoLDA0ODxAREhMUFRYXGBkaGxwdHh8=",
          "dtype": "i1"
         },
         "y": {
          "bdata": "PRsaLQzH5T9i0dx+ec/lP9TGWaaqwuU/Akk9IgDF5T9vUwZvM+XlP3sqtQdoLOY/C0AV93IN5j+OwiEvUBTmPwvxHB1YGeY/Dn7Lgb8b5j/od3Y0ZormP5CUoL4gq+Y/MyTO/UNx5j/RZcP/qhrmP9F+lnpDSOY/clPETLdS5j85guumXh3mP37rhxvaBuY/awnaTX8x5j+AnetNQh3mP0JhLi2eJeY/nOfjSHYc5j9gI4IsehPmP+wnSGL61OU/vLSqHsf55T8uxxpx8O3lP6GmzlbcxuU/6FKyuvL85T/9+9hSTUXmPy0s0eXyD+Y/xQ4ptjVL5j+RtJ9OnF7mPw==",
          "dtype": "f8"
         }
        },
        {
         "legendgroup": "('llama3.1_8b_chat', 'medals_9k', 'base', 'main', 'prompt_answer')",
         "marker": {
          "color": "#9467bd",
          "opacity": 0.5,
          "size": 6
         },
         "mode": "markers",
         "name": "('llama3.1_8b_chat', 'medals_9k', 'base', 'main', 'prompt_answer') Fold ('logistic_regression_accuracy_score', 0)",
         "showlegend": false,
         "type": "scatter",
         "x": {
          "bdata": "AAECAwQFBgcICQoLDA0ODxAREhMUFRYXGBkaGxwdHh8=",
          "dtype": "i1"
         },
         "y": {
          "bdata": "fdInfdIn5j9ERERERETmPyIiIiIiIuY/bMEWbMEW5j/v7u7u7u7lPxdswRZsweY/q6qqqqqq5j8iIiIiIiLmP33SJ33SJ+Y/6ZM+6ZM+5j+rqqqqqqrmPz/pkz7pk+Y/iYiIiIiI5j/Ygi3Ygi3mP47jOI7jOOY/+qRP+qRP5j/pkz7pkz7mP4Mt2IIt2OU/+qRP+qRP5j+O4ziO4zjmP8EWbMEWbOY/AAAAAAAA5j8AAAAAAADmP+/u7u7u7uU/Sp/0SZ/05T8iIiIiIiLmP2zBFmzBFuY/x3Ecx3Ec5j/Ygi3Ygi3mP+/u7u7u7uU/6ZM+6ZM+5j/6pE/6pE/mPw==",
          "dtype": "f8"
         }
        },
        {
         "legendgroup": "('llama3.1_8b_chat', 'medals_9k', 'base', 'main', 'prompt_answer')",
         "marker": {
          "color": "#9467bd",
          "opacity": 0.5,
          "size": 6
         },
         "mode": "markers",
         "name": "('llama3.1_8b_chat', 'medals_9k', 'base', 'main', 'prompt_answer') Fold ('logistic_regression_accuracy_score', 1)",
         "showlegend": false,
         "type": "scatter",
         "x": {
          "bdata": "AAECAwQFBgcICQoLDA0ODxAREhMUFRYXGBkaGxwdHh8=",
          "dtype": "i1"
         },
         "y": {
          "bdata": "zczMzMzM5T8GW7AFW7DlP4mIiIiIiOU/tmALtmAL5j9mZmZmZmbmPxEREREREeY/OY7jOI7j5T+lT/qkT/rlPxEREREREeY/zczMzMzM5j8ofdInfdLmPzmO4ziO4+Y/BluwBVuw5j9mZmZmZmbmP0REREREROY/VVVVVVVV5j8iIiIiIiLmP1D6pE/6pOY/KH3SJ33S5j/v7u7u7u7mPz/pkz7pk+Y/mpmZmZmZ5j8XbMEWbMHmP97d3d3d3eY/iYiIiIiI5j+8u7u7u7vmP+Q4juM4juY/UPqkT/qk5j8/6ZM+6ZPmP9iCLdiCLeY/iYiIiIiI5j/BFmzBFmzmPw==",
          "dtype": "f8"
         }
        },
        {
         "legendgroup": "('llama3.1_8b_chat', 'medals_9k', 'base', 'main', 'prompt_answer')",
         "marker": {
          "color": "#9467bd",
          "opacity": 0.5,
          "size": 6
         },
         "mode": "markers",
         "name": "('llama3.1_8b_chat', 'medals_9k', 'base', 'main', 'prompt_answer') Fold ('logistic_regression_accuracy_score', 2)",
         "showlegend": false,
         "type": "scatter",
         "x": {
          "bdata": "AAECAwQFBgcICQoLDA0ODxAREhMUFRYXGBkaGxwdHh8=",
          "dtype": "i1"
         },
         "y": {
          "bdata": "DRzhpgpC5j8df3r3lxTmP8ERbqogZOY/Y8rmlqeo5T/xOjqcyNvlPwN4TrNXueY/q+/N/LhH5j8/HyhftMTmP9czDliIgOY/pwpCZuAI5z9PgsGvQZfmP93yFLViyuY/Iz6BVHJe5j85YCEC2nrmP70s4hNIJec/zY97ZNX35j9PgsGvQZfmP9F0B/utNuY/lc0tT1Er5j9/q42h6Q7mP0MEtPWMA+Y/0XQH+6025j8df3r3lxTmPwGe0+xVruU/aYnt84Hy5T89Ra2YsrnlP3MtgOc0e+U/y7UAntPs5T/BEW6qIGTmP5uMNKwrdeY//bhHVn1v5j/tVa4F8JzmPw==",
          "dtype": "f8"
         }
        },
        {
         "legendgroup": "('llama3.1_8b_chat', 'medals_9k', 'base', 'main', 'prompt_answer')",
         "marker": {
          "color": "#9467bd",
          "opacity": 0.5,
          "size": 6
         },
         "mode": "markers",
         "name": "('llama3.1_8b_chat', 'medals_9k', 'base', 'main', 'prompt_answer') Fold ('logistic_regression_accuracy_score', 3)",
         "showlegend": false,
         "type": "scatter",
         "x": {
          "bdata": "AAECAwQFBgcICQoLDA0ODxAREhMUFRYXGBkaGxwdHh8=",
          "dtype": "i1"
         },
         "y": {
          "bdata": "F2zBFmzB5j/HcRzHcRzmP3d3d3d3d+Y/OY7jOI7j5T/Ygi3Ygi3mP8EWbMEWbOY/AAAAAAAA5z/1SZ/0SZ/mPwu2YAu2YOY/fdInfdIn5j8u2IIt2ILmPzmO4ziO4+Y/7+7u7u7u5j9ERERERETmP6VP+qRP+uY/q6qqqqqq5j9VVVVVVVXmP6VP+qRP+uY/UPqkT/qk5j/1SZ/0SZ/mPz/pkz7pk+Y/KH3SJ33S5j+8u7u7u7vmP1D6pE/6pOY/HMdxHMdx5j+DLdiCLdjmP1D6pE/6pOY/pU/6pE/65j8XbMEWbMHmP5qZmZmZmeY/3t3d3d3d5j8/6ZM+6ZPmPw==",
          "dtype": "f8"
         }
        },
        {
         "legendgroup": "('llama3.1_8b_chat', 'medals_9k', 'base', 'main', 'prompt_answer')",
         "marker": {
          "color": "#9467bd",
          "opacity": 0.5,
          "size": 6
         },
         "mode": "markers",
         "name": "('llama3.1_8b_chat', 'medals_9k', 'base', 'main', 'prompt_answer') Fold ('logistic_regression_accuracy_score', 4)",
         "showlegend": false,
         "type": "scatter",
         "x": {
          "bdata": "AAECAwQFBgcICQoLDA0ODxAREhMUFRYXGBkaGxwdHh8=",
          "dtype": "i1"
         },
         "y": {
          "bdata": "gy3Ygi3Y5T+lT/qkT/rlP8dxHMdxHOY/IiIiIiIi5j8zMzMzMzPmP1VVVVVVVeY/LtiCLdiC5j+DLdiCLdjmP7y7u7u7u+Y/RERERERE5j/e3d3d3d3mP4Mt2IIt2OY/Sp/0SZ/05j/Ygi3Ygi3nPzMzMzMzM+c/vLu7u7u75j8AAAAAAADnP33SJ33SJ+c/sAVbsAVb5z9VVVVVVVXnP8dxHMdxHOc/AAAAAAAA5z8XbMEWbMHmPyIiIiIiIuc/9Umf9Emf5j8u2IIt2ILmPz/pkz7pk+Y/C7ZgC7Zg5j+JiIiIiIjmP5qZmZmZmeY/bMEWbMEW5z8GW7AFW7DmPw==",
          "dtype": "f8"
         }
        },
        {
         "legendgroup": "('llama3.1_8b_chat', 'medals_9k', 'base', 'main', 'prompt_only')",
         "line": {
          "color": "#8c564b",
          "width": 2
         },
         "marker": {
          "size": 8
         },
         "mode": "lines+markers",
         "name": "('llama3.1_8b_chat', 'medals_9k', 'base', 'main', 'prompt_only')",
         "type": "scatter",
         "x": {
          "bdata": "AAECAwQFBgcICQoLDA0ODxAREhMUFRYXGBkaGxwdHh8=",
          "dtype": "i1"
         },
         "y": {
          "bdata": "0mi3ryo25j92apoEC9rlP9gFCGRT1OU/w08/yKEI5j9qNfeyr6XlP8OUYhqwpeU/BlPrjaO15T/qXbc6KNvlPy6LmmMS6+U/emwvXH/N5T8AU53hZuXlP2jc2wTJ6OU/gtl2Lrzf5T/6L5Fc7RLmP/a4mwgBweU/2Lvm+k4v5j+tn2KPsgDmP+Mbyd8dHeY/iXDBm2Mf5j/j+AoH4RrmP3cvc+DoTOY/Wr5/6ghO5j+AcHPvJk/mPxaMnqooNuY/G20KgdQa5j9GTdqgZR/mP35XfXxYJ+Y/2k4hncwi5j8O0XNQ+gLmP3LP3qdWL+Y/nzCGZQH75T/4j/HMAfvlPw==",
          "dtype": "f8"
         }
        },
        {
         "legendgroup": "('llama3.1_8b_chat', 'medals_9k', 'base', 'main', 'prompt_only')",
         "line": {
          "width": 0
         },
         "mode": "lines",
         "name": "('llama3.1_8b_chat', 'medals_9k', 'base', 'main', 'prompt_only') Max",
         "showlegend": false,
         "type": "scatter",
         "x": {
          "bdata": "AAECAwQFBgcICQoLDA0ODxAREhMUFRYXGBkaGxwdHh8=",
          "dtype": "i1"
         },
         "y": {
          "bdata": "C7ZgC7Zg5j93d3d3d3fmP5qZmZmZmeY/7VWuBfCc5j/h16BLOwnmPxEREREREeY/0id90id95j8zMzMzMzPmP/qkT/qkT+Y/juM4juM45j/HcRzHcRzmP5uMNKwrdeY/+qRP+qRP5j8u2IIt2ILmP5/0SZ/0SeY/OY7jOI7j5j8GW7AFW7DmP3Icx3Ecx+Y/gy3Ygi3Y5j9yHMdxHMfmP+/u7u7u7uY/ERERERER5z+R6KG4eOzmPz/pkz7pk+Y/ZaRhXamz5j+8u7u7u7vmP2WkYV2ps+Y/iymbW56i5j/NzMzMzMzmP5qZmZmZmeY/b0j0UFw85j/RdAf7rTbmPw==",
          "dtype": "f8"
         }
        },
        {
         "fill": "tonexty",
         "fillcolor": "rgba(140, 86, 75, 0.1)",
         "legendgroup": "('llama3.1_8b_chat', 'medals_9k', 'base', 'main', 'prompt_only')",
         "line": {
          "width": 0
         },
         "mode": "lines",
         "name": "('llama3.1_8b_chat', 'medals_9k', 'base', 'main', 'prompt_only') Min",
         "showlegend": false,
         "type": "scatter",
         "x": {
          "bdata": "AAECAwQFBgcICQoLDA0ODxAREhMUFRYXGBkaGxwdHh8=",
          "dtype": "i1"
         },
         "y": {
          "bdata": "AAAAAAAA5j9VVVVVVVXlP33SJ33SJ+U/C7ZgC7Zg5T/pkz7pkz7lPzmO4ziO4+Q/AAAAAAAA5T/Ygi3Ygi3lPzMzMzMzM+U/MzMzMzMz5T8/6ZM+6ZPlP7AFW7AFW+U/UPqkT/qk5T9yHMdxHMflP8dxHMdxHOU/juM4juM45T+O4ziO4zjlPyIiIiIiIuU/wRZswRZs5T990id90iflP6uqqqqqquU/0id90id95T/6pE/6pE/lP3Icx3Ecx+U/9Umf9Emf5T+amZmZmZnlP9InfdInfeU/9Umf9Emf5T/BFmzBFmzlPyh90id90uU/YQu2YAu25T+JiIiIiIjlPw==",
          "dtype": "f8"
         }
        },
        {
         "legendgroup": "('llama3.1_8b_chat', 'medals_9k', 'base', 'main', 'prompt_only')",
         "line": {
          "width": 0
         },
         "mode": "lines",
         "name": "('llama3.1_8b_chat', 'medals_9k', 'base', 'main', 'prompt_only') +1 STD",
         "showlegend": false,
         "type": "scatter",
         "x": {
          "bdata": "AAECAwQFBgcICQoLDA0ODxAREhMUFRYXGBkaGxwdHh8=",
          "dtype": "i1"
         },
         "y": {
          "bdata": "nhfoDMJb5j9AVZ+U2EHmP9UV2JWfZeY/M25j5a6S5j9dxqjAtQbmP6Y70Q04MeY/aMirYflB5j/jz+WSrkjmPxmZ7y85X+Y/D0wn91865j/xEoUwyxrmPyPMYdcrVeY/KPXEpG8i5j+xLuYXzV3mP/EyVDjKLuY/kaSsmVn05j+zF88SOYjmPyuyEPbXvuY/cmOxAi635j9fjS4mK7jmP/+Zi09xwuY/XCJFBEjt5j+fxLcg6fTmPzgnFwfxkOY/o0aE0S+c5j/fxb4Qz5nmPx8GTTpyseY/XKrLK2qc5j9XC/pXrIXmP0KAwH4Hf+Y/tfvOw9gx5j+qoBAQ3UHmPw==",
          "dtype": "f8"
         }
        },
        {
         "fill": "tonexty",
         "fillcolor": "rgba(140, 86, 75, 0.3)",
         "legendgroup": "('llama3.1_8b_chat', 'medals_9k', 'base', 'main', 'prompt_only')",
         "line": {
          "width": 0
         },
         "mode": "lines",
         "name": "('llama3.1_8b_chat', 'medals_9k', 'base', 'main', 'prompt_only') -1 STD",
         "showlegend": false,
         "type": "scatter",
         "x": {
          "bdata": "AAECAwQFBgcICQoLDA0ODxAREhMUFRYXGBkaGxwdHh8=",
          "dtype": "i1"
         },
         "y": {
          "bdata": "BrqGUpMQ5j+sf5V0PXLlP9v1NzIHQ+U/UzEbq5R+5T93pEWlqUTlP+Dt8yYoGuU/pN0quk0p5T/x64jioW3lP0N9RZfrduU/5Yw3wZ5g5T8Pk7WSArDlP63sVTJmfOU/3L0ouAid5T9DMTyhDcjlP/s+49g3U+U/H9MgXERq5T+nJ/YLLHnlP5uFgclje+U/oH3RNJmH5T9nZOfnln3lP+/EWnFg1+U/WFq60Mmu5T9hHC++ZKnlP/TwJU5g2+U/k5OQMHmZ5T+t1PUw/KTlP92orb4+neU/WPN2Di+p5T/Flu1ISIDlP6Ie/dCl3+U/iWU9ByrE5T9Gf9KJJrTlPw==",
          "dtype": "f8"
         }
        },
        {
         "legendgroup": "('llama3.1_8b_chat', 'medals_9k', 'base', 'main', 'prompt_only')",
         "marker": {
          "color": "#8c564b",
          "opacity": 0.5,
          "size": 6
         },
         "mode": "markers",
         "name": "('llama3.1_8b_chat', 'medals_9k', 'base', 'main', 'prompt_only') Fold ('logistic_regression_accuracy_score', 0)",
         "showlegend": false,
         "type": "scatter",
         "x": {
          "bdata": "AAECAwQFBgcICQoLDA0ODxAREhMUFRYXGBkaGxwdHh8=",
          "dtype": "i1"
         },
         "y": {
          "bdata": "AAAAAAAA5j9VVVVVVVXlP9InfdInfeU/9Umf9Emf5T/pkz7pkz7lP+mTPumTPuU/OY7jOI7j5T/HcRzHcRzmP/qkT/qkT+Y/chzHcRzH5T/HcRzHcRzmPwZbsAVbsOU/zczMzMzM5T990id90ifmP1D6pE/6pOU/0id90id95T+lT/qkT/rlPxEREREREeY/YQu2YAu25T/SJ33SJ33mP9iCLdiCLeY/OY7jOI7j5T8RERERERHmPzmO4ziO4+U/9Umf9Emf5T8XbMEWbMHlPxdswRZsweU/F2zBFmzB5T/v7u7u7u7lP+/u7u7u7uU/3t3d3d3d5T/v7u7u7u7lPw==",
          "dtype": "f8"
         }
        },
        {
         "legendgroup": "('llama3.1_8b_chat', 'medals_9k', 'base', 'main', 'prompt_only')",
         "marker": {
          "color": "#8c564b",
          "opacity": 0.5,
          "size": 6
         },
         "mode": "markers",
         "name": "('llama3.1_8b_chat', 'medals_9k', 'base', 'main', 'prompt_only') Fold ('logistic_regression_accuracy_score', 1)",
         "showlegend": false,
         "type": "scatter",
         "x": {
          "bdata": "AAECAwQFBgcICQoLDA0ODxAREhMUFRYXGBkaGxwdHh8=",
          "dtype": "i1"
         },
         "y": {
          "bdata": "C7ZgC7Zg5j85juM4juPlP7y7u7u7u+U/tmALtmAL5j9yHMdxHMflPxEREREREeY/d3d3d3d35T8GW7AFW7DlP4Mt2IIt2OU/9Umf9Emf5T8ofdInfdLlP33SJ33SJ+Y/UPqkT/qk5T9swRZswRbmP4Mt2IIt2OU/mpmZmZmZ5j/v7u7u7u7lP7ZgC7ZgC+Y/tmALtmAL5j9swRZswRbmP0REREREROY/HMdxHMdx5j93d3d3d3fmP8EWbMEWbOY/KH3SJ33S5T+2YAu2YAvmP33SJ33SJ+Y/tmALtmAL5j9yHMdxHMflP5qZmZmZmeY/fdInfdIn5j8zMzMzMzPmPw==",
          "dtype": "f8"
         }
        },
        {
         "legendgroup": "('llama3.1_8b_chat', 'medals_9k', 'base', 'main', 'prompt_only')",
         "marker": {
          "color": "#8c564b",
          "opacity": 0.5,
          "size": 6
         },
         "mode": "markers",
         "name": "('llama3.1_8b_chat', 'medals_9k', 'base', 'main', 'prompt_only') Fold ('logistic_regression_accuracy_score', 2)",
         "showlegend": false,
         "type": "scatter",
         "x": {
          "bdata": "AAECAwQFBgcICQoLDA0ODxAREhMUFRYXGBkaGxwdHh8=",
          "dtype": "i1"
         },
         "y": {
          "bdata": "q+/N/LhH5j957IZED8XlP5XNLU9RK+Y/7VWuBfCc5j/h16BLOwnmP0MEtPWMA+Y/n3HAQgS05T+7UmdNRhrmP0nDulJnTeY/M6Eapf8w5j/h16BLOwnmP5uMNKwrdeY/PUWtmLK55T9TZ01GGtblP48OJ/J24eU/A3hOs1e55j8zoRql/zDmPxPb5wPli+Y/T4LBr0GX5j9DBLT1jAPmP5uMNKwrdeY/iymbW56i5j+R6KG4eOzmP8ERbqogZOY/ZaRhXamz5j85YCEC2nrmP2WkYV2ps+Y/iymbW56i5j9ZJlSj9B/mP0nDulJnTeY/b0j0UFw85j/RdAf7rTbmPw==",
          "dtype": "f8"
         }
        },
        {
         "legendgroup": "('llama3.1_8b_chat', 'medals_9k', 'base', 'main', 'prompt_only')",
         "marker": {
          "color": "#8c564b",
          "opacity": 0.5,
          "size": 6
         },
         "mode": "markers",
         "name": "('llama3.1_8b_chat', 'medals_9k', 'base', 'main', 'prompt_only') Fold ('logistic_regression_accuracy_score', 3)",
         "showlegend": false,
         "type": "scatter",
         "x": {
          "bdata": "AAECAwQFBgcICQoLDA0ODxAREhMUFRYXGBkaGxwdHh8=",
          "dtype": "i1"
         },
         "y": {
          "bdata": "IiIiIiIi5j/NzMzMzMzlP33SJ33SJ+U/C7ZgC7Zg5T/pkz7pkz7lPzmO4ziO4+Q/AAAAAAAA5T/Ygi3Ygi3lPzMzMzMzM+U/MzMzMzMz5T8/6ZM+6ZPlP7AFW7AFW+U/OY7jOI7j5T9yHMdxHMflP8dxHMdxHOU/juM4juM45T+O4ziO4zjlPyIiIiIiIuU/wRZswRZs5T990id90iflP6uqqqqqquU/0id90id95T/6pE/6pE/lP3Icx3Ecx+U/chzHcRzH5T+amZmZmZnlP9InfdInfeU/9Umf9Emf5T/BFmzBFmzlPyh90id90uU/YQu2YAu25T+JiIiIiIjlPw==",
          "dtype": "f8"
         }
        },
        {
         "legendgroup": "('llama3.1_8b_chat', 'medals_9k', 'base', 'main', 'prompt_only')",
         "marker": {
          "color": "#8c564b",
          "opacity": 0.5,
          "size": 6
         },
         "mode": "markers",
         "name": "('llama3.1_8b_chat', 'medals_9k', 'base', 'main', 'prompt_only') Fold ('logistic_regression_accuracy_score', 4)",
         "showlegend": false,
         "type": "scatter",
         "x": {
          "bdata": "AAECAwQFBgcICQoLDA0ODxAREhMUFRYXGBkaGxwdHh8=",
          "dtype": "i1"
         },
         "y": {
          "bdata": "RERERERE5j93d3d3d3fmP5qZmZmZmeY/LtiCLdiC5j/v7u7u7u7lP1uwBVuwBeY/0id90id95j8zMzMzMzPmP+/u7u7u7uU/juM4juM45j/v7u7u7u7lPzmO4ziO4+U/+qRP+qRP5j8u2IIt2ILmP5/0SZ/0SeY/OY7jOI7j5j8GW7AFW7DmP3Icx3Ecx+Y/gy3Ygi3Y5j9yHMdxHMfmP+/u7u7u7uY/ERERERER5z9yHMdxHMfmPz/pkz7pk+Y/mpmZmZmZ5j+8u7u7u7vmP6uqqqqqquY/9Umf9Emf5j/NzMzMzMzmP0REREREROY/7+7u7u7u5T9bsAVbsAXmPw==",
          "dtype": "f8"
         }
        }
       ],
       "layout": {
        "font": {
         "color": "white"
        },
        "height": 600,
        "legend": {
         "bgcolor": "rgba(32, 32, 32, 0.8)",
         "orientation": "h",
         "x": 0.5,
         "xanchor": "center",
         "y": 1.02,
         "yanchor": "bottom"
        },
        "margin": {
         "b": 50,
         "l": 50,
         "r": 30,
         "t": 100
        },
        "paper_bgcolor": "rgba(32, 32, 32, 1)",
        "plot_bgcolor": "rgba(32, 32, 32, 1)",
        "showlegend": true,
        "template": {
         "data": {
          "bar": [
           {
            "error_x": {
             "color": "#f2f5fa"
            },
            "error_y": {
             "color": "#f2f5fa"
            },
            "marker": {
             "line": {
              "color": "rgb(17,17,17)",
              "width": 0.5
             },
             "pattern": {
              "fillmode": "overlay",
              "size": 10,
              "solidity": 0.2
             }
            },
            "type": "bar"
           }
          ],
          "barpolar": [
           {
            "marker": {
             "line": {
              "color": "rgb(17,17,17)",
              "width": 0.5
             },
             "pattern": {
              "fillmode": "overlay",
              "size": 10,
              "solidity": 0.2
             }
            },
            "type": "barpolar"
           }
          ],
          "carpet": [
           {
            "aaxis": {
             "endlinecolor": "#A2B1C6",
             "gridcolor": "#506784",
             "linecolor": "#506784",
             "minorgridcolor": "#506784",
             "startlinecolor": "#A2B1C6"
            },
            "baxis": {
             "endlinecolor": "#A2B1C6",
             "gridcolor": "#506784",
             "linecolor": "#506784",
             "minorgridcolor": "#506784",
             "startlinecolor": "#A2B1C6"
            },
            "type": "carpet"
           }
          ],
          "choropleth": [
           {
            "colorbar": {
             "outlinewidth": 0,
             "ticks": ""
            },
            "type": "choropleth"
           }
          ],
          "contour": [
           {
            "colorbar": {
             "outlinewidth": 0,
             "ticks": ""
            },
            "colorscale": [
             [
              0,
              "#0d0887"
             ],
             [
              0.1111111111111111,
              "#46039f"
             ],
             [
              0.2222222222222222,
              "#7201a8"
             ],
             [
              0.3333333333333333,
              "#9c179e"
             ],
             [
              0.4444444444444444,
              "#bd3786"
             ],
             [
              0.5555555555555556,
              "#d8576b"
             ],
             [
              0.6666666666666666,
              "#ed7953"
             ],
             [
              0.7777777777777778,
              "#fb9f3a"
             ],
             [
              0.8888888888888888,
              "#fdca26"
             ],
             [
              1,
              "#f0f921"
             ]
            ],
            "type": "contour"
           }
          ],
          "contourcarpet": [
           {
            "colorbar": {
             "outlinewidth": 0,
             "ticks": ""
            },
            "type": "contourcarpet"
           }
          ],
          "heatmap": [
           {
            "colorbar": {
             "outlinewidth": 0,
             "ticks": ""
            },
            "colorscale": [
             [
              0,
              "#0d0887"
             ],
             [
              0.1111111111111111,
              "#46039f"
             ],
             [
              0.2222222222222222,
              "#7201a8"
             ],
             [
              0.3333333333333333,
              "#9c179e"
             ],
             [
              0.4444444444444444,
              "#bd3786"
             ],
             [
              0.5555555555555556,
              "#d8576b"
             ],
             [
              0.6666666666666666,
              "#ed7953"
             ],
             [
              0.7777777777777778,
              "#fb9f3a"
             ],
             [
              0.8888888888888888,
              "#fdca26"
             ],
             [
              1,
              "#f0f921"
             ]
            ],
            "type": "heatmap"
           }
          ],
          "histogram": [
           {
            "marker": {
             "pattern": {
              "fillmode": "overlay",
              "size": 10,
              "solidity": 0.2
             }
            },
            "type": "histogram"
           }
          ],
          "histogram2d": [
           {
            "colorbar": {
             "outlinewidth": 0,
             "ticks": ""
            },
            "colorscale": [
             [
              0,
              "#0d0887"
             ],
             [
              0.1111111111111111,
              "#46039f"
             ],
             [
              0.2222222222222222,
              "#7201a8"
             ],
             [
              0.3333333333333333,
              "#9c179e"
             ],
             [
              0.4444444444444444,
              "#bd3786"
             ],
             [
              0.5555555555555556,
              "#d8576b"
             ],
             [
              0.6666666666666666,
              "#ed7953"
             ],
             [
              0.7777777777777778,
              "#fb9f3a"
             ],
             [
              0.8888888888888888,
              "#fdca26"
             ],
             [
              1,
              "#f0f921"
             ]
            ],
            "type": "histogram2d"
           }
          ],
          "histogram2dcontour": [
           {
            "colorbar": {
             "outlinewidth": 0,
             "ticks": ""
            },
            "colorscale": [
             [
              0,
              "#0d0887"
             ],
             [
              0.1111111111111111,
              "#46039f"
             ],
             [
              0.2222222222222222,
              "#7201a8"
             ],
             [
              0.3333333333333333,
              "#9c179e"
             ],
             [
              0.4444444444444444,
              "#bd3786"
             ],
             [
              0.5555555555555556,
              "#d8576b"
             ],
             [
              0.6666666666666666,
              "#ed7953"
             ],
             [
              0.7777777777777778,
              "#fb9f3a"
             ],
             [
              0.8888888888888888,
              "#fdca26"
             ],
             [
              1,
              "#f0f921"
             ]
            ],
            "type": "histogram2dcontour"
           }
          ],
          "mesh3d": [
           {
            "colorbar": {
             "outlinewidth": 0,
             "ticks": ""
            },
            "type": "mesh3d"
           }
          ],
          "parcoords": [
           {
            "line": {
             "colorbar": {
              "outlinewidth": 0,
              "ticks": ""
             }
            },
            "type": "parcoords"
           }
          ],
          "pie": [
           {
            "automargin": true,
            "type": "pie"
           }
          ],
          "scatter": [
           {
            "marker": {
             "line": {
              "color": "#283442"
             }
            },
            "type": "scatter"
           }
          ],
          "scatter3d": [
           {
            "line": {
             "colorbar": {
              "outlinewidth": 0,
              "ticks": ""
             }
            },
            "marker": {
             "colorbar": {
              "outlinewidth": 0,
              "ticks": ""
             }
            },
            "type": "scatter3d"
           }
          ],
          "scattercarpet": [
           {
            "marker": {
             "colorbar": {
              "outlinewidth": 0,
              "ticks": ""
             }
            },
            "type": "scattercarpet"
           }
          ],
          "scattergeo": [
           {
            "marker": {
             "colorbar": {
              "outlinewidth": 0,
              "ticks": ""
             }
            },
            "type": "scattergeo"
           }
          ],
          "scattergl": [
           {
            "marker": {
             "line": {
              "color": "#283442"
             }
            },
            "type": "scattergl"
           }
          ],
          "scattermap": [
           {
            "marker": {
             "colorbar": {
              "outlinewidth": 0,
              "ticks": ""
             }
            },
            "type": "scattermap"
           }
          ],
          "scattermapbox": [
           {
            "marker": {
             "colorbar": {
              "outlinewidth": 0,
              "ticks": ""
             }
            },
            "type": "scattermapbox"
           }
          ],
          "scatterpolar": [
           {
            "marker": {
             "colorbar": {
              "outlinewidth": 0,
              "ticks": ""
             }
            },
            "type": "scatterpolar"
           }
          ],
          "scatterpolargl": [
           {
            "marker": {
             "colorbar": {
              "outlinewidth": 0,
              "ticks": ""
             }
            },
            "type": "scatterpolargl"
           }
          ],
          "scatterternary": [
           {
            "marker": {
             "colorbar": {
              "outlinewidth": 0,
              "ticks": ""
             }
            },
            "type": "scatterternary"
           }
          ],
          "surface": [
           {
            "colorbar": {
             "outlinewidth": 0,
             "ticks": ""
            },
            "colorscale": [
             [
              0,
              "#0d0887"
             ],
             [
              0.1111111111111111,
              "#46039f"
             ],
             [
              0.2222222222222222,
              "#7201a8"
             ],
             [
              0.3333333333333333,
              "#9c179e"
             ],
             [
              0.4444444444444444,
              "#bd3786"
             ],
             [
              0.5555555555555556,
              "#d8576b"
             ],
             [
              0.6666666666666666,
              "#ed7953"
             ],
             [
              0.7777777777777778,
              "#fb9f3a"
             ],
             [
              0.8888888888888888,
              "#fdca26"
             ],
             [
              1,
              "#f0f921"
             ]
            ],
            "type": "surface"
           }
          ],
          "table": [
           {
            "cells": {
             "fill": {
              "color": "#506784"
             },
             "line": {
              "color": "rgb(17,17,17)"
             }
            },
            "header": {
             "fill": {
              "color": "#2a3f5f"
             },
             "line": {
              "color": "rgb(17,17,17)"
             }
            },
            "type": "table"
           }
          ]
         },
         "layout": {
          "annotationdefaults": {
           "arrowcolor": "#f2f5fa",
           "arrowhead": 0,
           "arrowwidth": 1
          },
          "autotypenumbers": "strict",
          "coloraxis": {
           "colorbar": {
            "outlinewidth": 0,
            "ticks": ""
           }
          },
          "colorscale": {
           "diverging": [
            [
             0,
             "#8e0152"
            ],
            [
             0.1,
             "#c51b7d"
            ],
            [
             0.2,
             "#de77ae"
            ],
            [
             0.3,
             "#f1b6da"
            ],
            [
             0.4,
             "#fde0ef"
            ],
            [
             0.5,
             "#f7f7f7"
            ],
            [
             0.6,
             "#e6f5d0"
            ],
            [
             0.7,
             "#b8e186"
            ],
            [
             0.8,
             "#7fbc41"
            ],
            [
             0.9,
             "#4d9221"
            ],
            [
             1,
             "#276419"
            ]
           ],
           "sequential": [
            [
             0,
             "#0d0887"
            ],
            [
             0.1111111111111111,
             "#46039f"
            ],
            [
             0.2222222222222222,
             "#7201a8"
            ],
            [
             0.3333333333333333,
             "#9c179e"
            ],
            [
             0.4444444444444444,
             "#bd3786"
            ],
            [
             0.5555555555555556,
             "#d8576b"
            ],
            [
             0.6666666666666666,
             "#ed7953"
            ],
            [
             0.7777777777777778,
             "#fb9f3a"
            ],
            [
             0.8888888888888888,
             "#fdca26"
            ],
            [
             1,
             "#f0f921"
            ]
           ],
           "sequentialminus": [
            [
             0,
             "#0d0887"
            ],
            [
             0.1111111111111111,
             "#46039f"
            ],
            [
             0.2222222222222222,
             "#7201a8"
            ],
            [
             0.3333333333333333,
             "#9c179e"
            ],
            [
             0.4444444444444444,
             "#bd3786"
            ],
            [
             0.5555555555555556,
             "#d8576b"
            ],
            [
             0.6666666666666666,
             "#ed7953"
            ],
            [
             0.7777777777777778,
             "#fb9f3a"
            ],
            [
             0.8888888888888888,
             "#fdca26"
            ],
            [
             1,
             "#f0f921"
            ]
           ]
          },
          "colorway": [
           "#636efa",
           "#EF553B",
           "#00cc96",
           "#ab63fa",
           "#FFA15A",
           "#19d3f3",
           "#FF6692",
           "#B6E880",
           "#FF97FF",
           "#FECB52"
          ],
          "font": {
           "color": "#f2f5fa"
          },
          "geo": {
           "bgcolor": "rgb(17,17,17)",
           "lakecolor": "rgb(17,17,17)",
           "landcolor": "rgb(17,17,17)",
           "showlakes": true,
           "showland": true,
           "subunitcolor": "#506784"
          },
          "hoverlabel": {
           "align": "left"
          },
          "hovermode": "closest",
          "mapbox": {
           "style": "dark"
          },
          "paper_bgcolor": "rgb(17,17,17)",
          "plot_bgcolor": "rgb(17,17,17)",
          "polar": {
           "angularaxis": {
            "gridcolor": "#506784",
            "linecolor": "#506784",
            "ticks": ""
           },
           "bgcolor": "rgb(17,17,17)",
           "radialaxis": {
            "gridcolor": "#506784",
            "linecolor": "#506784",
            "ticks": ""
           }
          },
          "scene": {
           "xaxis": {
            "backgroundcolor": "rgb(17,17,17)",
            "gridcolor": "#506784",
            "gridwidth": 2,
            "linecolor": "#506784",
            "showbackground": true,
            "ticks": "",
            "zerolinecolor": "#C8D4E3"
           },
           "yaxis": {
            "backgroundcolor": "rgb(17,17,17)",
            "gridcolor": "#506784",
            "gridwidth": 2,
            "linecolor": "#506784",
            "showbackground": true,
            "ticks": "",
            "zerolinecolor": "#C8D4E3"
           },
           "zaxis": {
            "backgroundcolor": "rgb(17,17,17)",
            "gridcolor": "#506784",
            "gridwidth": 2,
            "linecolor": "#506784",
            "showbackground": true,
            "ticks": "",
            "zerolinecolor": "#C8D4E3"
           }
          },
          "shapedefaults": {
           "line": {
            "color": "#f2f5fa"
           }
          },
          "sliderdefaults": {
           "bgcolor": "#C8D4E3",
           "bordercolor": "rgb(17,17,17)",
           "borderwidth": 1,
           "tickwidth": 0
          },
          "ternary": {
           "aaxis": {
            "gridcolor": "#506784",
            "linecolor": "#506784",
            "ticks": ""
           },
           "baxis": {
            "gridcolor": "#506784",
            "linecolor": "#506784",
            "ticks": ""
           },
           "bgcolor": "rgb(17,17,17)",
           "caxis": {
            "gridcolor": "#506784",
            "linecolor": "#506784",
            "ticks": ""
           }
          },
          "title": {
           "x": 0.05
          },
          "updatemenudefaults": {
           "bgcolor": "#506784",
           "borderwidth": 0
          },
          "xaxis": {
           "automargin": true,
           "gridcolor": "#283442",
           "linecolor": "#506784",
           "ticks": "",
           "title": {
            "standoff": 15
           },
           "zerolinecolor": "#283442",
           "zerolinewidth": 2
          },
          "yaxis": {
           "automargin": true,
           "gridcolor": "#283442",
           "linecolor": "#506784",
           "ticks": "",
           "title": {
            "standoff": 15
           },
           "zerolinecolor": "#283442",
           "zerolinewidth": 2
          }
         }
        },
        "title": {},
        "width": 1000,
        "xaxis": {
         "gridcolor": "rgba(128, 128, 128, 0.2)",
         "title": {
          "text": "Layer"
         },
         "zeroline": false
        },
        "yaxis": {
         "gridcolor": "rgba(128, 128, 128, 0.2)",
         "title": {
          "text": "Logistic Regression Accuracy Score"
         },
         "zeroline": false
        }
       }
      }
     },
     "metadata": {},
     "output_type": "display_data"
    }
   ],
   "source": [
    "for classifier in [\"direction\", \"logistic_regression\"]:\n",
    "    # for metric in [\"f1_score\", \"accuracy_score\", \"precision_score\", \"recall_score\"]:\n",
    "    for metric in [\"accuracy_score\"]:\n",
    "        plot_dict = {}\n",
    "        for conf, res_df_ in res_df.groupby([\"model_id\", \"test_dataset_id\", \"prompt_id\", \"subset_id\", \"input_type\"]):\n",
    "            # if conf[4] != \"prompt_only\":\n",
    "            #     continue\n",
    "            \n",
    "            print(f\"{conf=}\")\n",
    "            res_df_pivot = pd.pivot(\n",
    "                res_df_.drop(columns=[\"model_id\", \"test_dataset_id\", \"prompt_id\", \"subset_id\", \"input_type\"]),\n",
    "                index='layer',\n",
    "                columns='fold',\n",
    "                # values=['direction_f1_score', 'logistic_regression_f1_score']  # add all metrics you want to keep\n",
    "            )\n",
    "            # for classifier in [\"direction\", \"logistic_regression\"]:\n",
    "            #     for metric in [\"f1_score\", \"accuracy_score\", \"precision_score\", \"recall_score\"]:\n",
    "            plot_dict[str(conf)] = res_df_pivot[[f\"{classifier}_{metric}\"]]\n",
    "\n",
    "        plot_interactive_lineplot(\n",
    "            plot_dict,\n",
    "            x_label=\"Layer\",\n",
    "            y_label=f\"{classifier}_{metric}\".replace(\"_\", \" \").title(),\n",
    "            save_path=f\"./classification_data/figures/res_df_llama31_8B_4_memory_datasets_combined_train_sets_{classifier}_{metric}.html\"\n",
    "        ).show()\n",
    "\n"
   ]
  },
  {
   "cell_type": "code",
   "execution_count": null,
   "metadata": {},
   "outputs": [],
   "source": []
  },
  {
   "cell_type": "code",
   "execution_count": null,
   "metadata": {},
   "outputs": [],
   "source": []
  }
 ],
 "metadata": {
  "kernelspec": {
   "display_name": "venv",
   "language": "python",
   "name": "python3"
  },
  "language_info": {
   "codemirror_mode": {
    "name": "ipython",
    "version": 3
   },
   "file_extension": ".py",
   "mimetype": "text/x-python",
   "name": "python",
   "nbconvert_exporter": "python",
   "pygments_lexer": "ipython3",
   "version": "3.11.3"
  }
 },
 "nbformat": 4,
 "nbformat_minor": 2
}
