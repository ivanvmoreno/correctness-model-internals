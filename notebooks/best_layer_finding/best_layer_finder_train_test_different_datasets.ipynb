{
 "cells": [
  {
   "cell_type": "code",
   "execution_count": 1,
   "metadata": {},
   "outputs": [
    {
     "data": {
      "text/plain": [
       "['/Library/Frameworks/Python.framework/Versions/3.11/lib/python311.zip',\n",
       " '/Library/Frameworks/Python.framework/Versions/3.11/lib/python3.11',\n",
       " '/Library/Frameworks/Python.framework/Versions/3.11/lib/python3.11/lib-dynload',\n",
       " '',\n",
       " '/Users/anton/dev/MARS/correctness-model-internals/venv/lib/python3.11/site-packages',\n",
       " '/Users/anton/dev/MARS/correctness-model-internals']"
      ]
     },
     "execution_count": 1,
     "metadata": {},
     "output_type": "execute_result"
    }
   ],
   "source": [
    "import sys\n",
    "from pathlib import Path\n",
    "\n",
    "# Add the src directory to Python path\n",
    "src_path = str(Path(\"./\").resolve().parent.parent)\n",
    "if src_path not in sys.path:\n",
    "    sys.path.append(src_path)\n",
    "\n",
    "sys.path"
   ]
  },
  {
   "cell_type": "code",
   "execution_count": 2,
   "metadata": {},
   "outputs": [],
   "source": [
    "from collections import defaultdict\n",
    "\n",
    "import pandas as pd\n",
    "\n",
    "from src.classifying import (\n",
    "    ActivationsHandler,\n",
    "    combine_activations_handlers,\n",
    "    get_correctness_direction_classifier,\n",
    "    get_logistic_regression_classifier,\n",
    "    get_between_class_variance_and_within_class_variance,\n",
    ")\n",
    "from src.visualisations.utils import plot_interactive_lineplot\n",
    "from src.utils.data import load_activations, load_labels, get_experiment_activations_configs_df_subset\n"
   ]
  },
  {
   "cell_type": "code",
   "execution_count": 3,
   "metadata": {},
   "outputs": [],
   "source": [
    "BASE_PATH = \"../../data_for_classification\"\n",
    "PCA_COMPONENTS = None\n",
    "\n",
    "PCA_COMONENTS_LABEL = f\"_pca_{PCA_COMPONENTS}\" if PCA_COMPONENTS else \"\""
   ]
  },
  {
   "cell_type": "code",
   "execution_count": 4,
   "metadata": {},
   "outputs": [
    {
     "data": {
      "text/html": [
       "<div>\n",
       "<style scoped>\n",
       "    .dataframe tbody tr th:only-of-type {\n",
       "        vertical-align: middle;\n",
       "    }\n",
       "\n",
       "    .dataframe tbody tr th {\n",
       "        vertical-align: top;\n",
       "    }\n",
       "\n",
       "    .dataframe thead th {\n",
       "        text-align: right;\n",
       "    }\n",
       "</style>\n",
       "<table border=\"1\" class=\"dataframe\">\n",
       "  <thead>\n",
       "    <tr style=\"text-align: right;\">\n",
       "      <th></th>\n",
       "      <th>model_id</th>\n",
       "      <th>dataset_id</th>\n",
       "      <th>prompt_id</th>\n",
       "      <th>subset_id</th>\n",
       "      <th>input_type</th>\n",
       "      <th>layer</th>\n",
       "      <th>path</th>\n",
       "    </tr>\n",
       "  </thead>\n",
       "  <tbody>\n",
       "    <tr>\n",
       "      <th>0</th>\n",
       "      <td>llama3.1_8b_chat</td>\n",
       "      <td>football_leagues_1k</td>\n",
       "      <td>base</td>\n",
       "      <td>main</td>\n",
       "      <td>prompt_only</td>\n",
       "      <td>0</td>\n",
       "      <td>../../data_for_classification/activations/llam...</td>\n",
       "    </tr>\n",
       "    <tr>\n",
       "      <th>1</th>\n",
       "      <td>llama3.1_8b_chat</td>\n",
       "      <td>football_leagues_1k</td>\n",
       "      <td>base</td>\n",
       "      <td>main</td>\n",
       "      <td>prompt_only</td>\n",
       "      <td>7</td>\n",
       "      <td>../../data_for_classification/activations/llam...</td>\n",
       "    </tr>\n",
       "    <tr>\n",
       "      <th>2</th>\n",
       "      <td>llama3.1_8b_chat</td>\n",
       "      <td>football_leagues_1k</td>\n",
       "      <td>base</td>\n",
       "      <td>main</td>\n",
       "      <td>prompt_only</td>\n",
       "      <td>9</td>\n",
       "      <td>../../data_for_classification/activations/llam...</td>\n",
       "    </tr>\n",
       "    <tr>\n",
       "      <th>3</th>\n",
       "      <td>llama3.1_8b_chat</td>\n",
       "      <td>football_leagues_1k</td>\n",
       "      <td>base</td>\n",
       "      <td>main</td>\n",
       "      <td>prompt_only</td>\n",
       "      <td>17</td>\n",
       "      <td>../../data_for_classification/activations/llam...</td>\n",
       "    </tr>\n",
       "    <tr>\n",
       "      <th>4</th>\n",
       "      <td>llama3.1_8b_chat</td>\n",
       "      <td>football_leagues_1k</td>\n",
       "      <td>base</td>\n",
       "      <td>main</td>\n",
       "      <td>prompt_only</td>\n",
       "      <td>28</td>\n",
       "      <td>../../data_for_classification/activations/llam...</td>\n",
       "    </tr>\n",
       "    <tr>\n",
       "      <th>...</th>\n",
       "      <td>...</td>\n",
       "      <td>...</td>\n",
       "      <td>...</td>\n",
       "      <td>...</td>\n",
       "      <td>...</td>\n",
       "      <td>...</td>\n",
       "      <td>...</td>\n",
       "    </tr>\n",
       "    <tr>\n",
       "      <th>379</th>\n",
       "      <td>llama3.1_8b_chat</td>\n",
       "      <td>birth_years_4k</td>\n",
       "      <td>base</td>\n",
       "      <td>main</td>\n",
       "      <td>prompt_answer</td>\n",
       "      <td>23</td>\n",
       "      <td>../../data_for_classification/activations/llam...</td>\n",
       "    </tr>\n",
       "    <tr>\n",
       "      <th>380</th>\n",
       "      <td>llama3.1_8b_chat</td>\n",
       "      <td>birth_years_4k</td>\n",
       "      <td>base</td>\n",
       "      <td>main</td>\n",
       "      <td>prompt_answer</td>\n",
       "      <td>15</td>\n",
       "      <td>../../data_for_classification/activations/llam...</td>\n",
       "    </tr>\n",
       "    <tr>\n",
       "      <th>381</th>\n",
       "      <td>llama3.1_8b_chat</td>\n",
       "      <td>birth_years_4k</td>\n",
       "      <td>base</td>\n",
       "      <td>main</td>\n",
       "      <td>prompt_answer</td>\n",
       "      <td>12</td>\n",
       "      <td>../../data_for_classification/activations/llam...</td>\n",
       "    </tr>\n",
       "    <tr>\n",
       "      <th>382</th>\n",
       "      <td>llama3.1_8b_chat</td>\n",
       "      <td>birth_years_4k</td>\n",
       "      <td>base</td>\n",
       "      <td>main</td>\n",
       "      <td>prompt_answer</td>\n",
       "      <td>2</td>\n",
       "      <td>../../data_for_classification/activations/llam...</td>\n",
       "    </tr>\n",
       "    <tr>\n",
       "      <th>383</th>\n",
       "      <td>llama3.1_8b_chat</td>\n",
       "      <td>birth_years_4k</td>\n",
       "      <td>base</td>\n",
       "      <td>main</td>\n",
       "      <td>prompt_answer</td>\n",
       "      <td>5</td>\n",
       "      <td>../../data_for_classification/activations/llam...</td>\n",
       "    </tr>\n",
       "  </tbody>\n",
       "</table>\n",
       "<p>384 rows × 7 columns</p>\n",
       "</div>"
      ],
      "text/plain": [
       "             model_id           dataset_id prompt_id subset_id     input_type  \\\n",
       "0    llama3.1_8b_chat  football_leagues_1k      base      main    prompt_only   \n",
       "1    llama3.1_8b_chat  football_leagues_1k      base      main    prompt_only   \n",
       "2    llama3.1_8b_chat  football_leagues_1k      base      main    prompt_only   \n",
       "3    llama3.1_8b_chat  football_leagues_1k      base      main    prompt_only   \n",
       "4    llama3.1_8b_chat  football_leagues_1k      base      main    prompt_only   \n",
       "..                ...                  ...       ...       ...            ...   \n",
       "379  llama3.1_8b_chat       birth_years_4k      base      main  prompt_answer   \n",
       "380  llama3.1_8b_chat       birth_years_4k      base      main  prompt_answer   \n",
       "381  llama3.1_8b_chat       birth_years_4k      base      main  prompt_answer   \n",
       "382  llama3.1_8b_chat       birth_years_4k      base      main  prompt_answer   \n",
       "383  llama3.1_8b_chat       birth_years_4k      base      main  prompt_answer   \n",
       "\n",
       "     layer                                               path  \n",
       "0        0  ../../data_for_classification/activations/llam...  \n",
       "1        7  ../../data_for_classification/activations/llam...  \n",
       "2        9  ../../data_for_classification/activations/llam...  \n",
       "3       17  ../../data_for_classification/activations/llam...  \n",
       "4       28  ../../data_for_classification/activations/llam...  \n",
       "..     ...                                                ...  \n",
       "379     23  ../../data_for_classification/activations/llam...  \n",
       "380     15  ../../data_for_classification/activations/llam...  \n",
       "381     12  ../../data_for_classification/activations/llam...  \n",
       "382      2  ../../data_for_classification/activations/llam...  \n",
       "383      5  ../../data_for_classification/activations/llam...  \n",
       "\n",
       "[384 rows x 7 columns]"
      ]
     },
     "execution_count": 4,
     "metadata": {},
     "output_type": "execute_result"
    }
   ],
   "source": [
    "# Set None to get all\n",
    "MODEL_ID = \"llama3.1_8b_chat\"\n",
    "# DATASET_ID = \"gsm8k\"\n",
    "# PROMPT_ID = \"cot_3_shot\"\n",
    "# SUBSET_ID = \"main\"\n",
    "# INPUT_TYPE = \"prompt_only\"\n",
    "DATASET_ID = None\n",
    "PROMPT_ID = None\n",
    "SUBSET_ID = None\n",
    "INPUT_TYPE = None\n",
    "\n",
    "activation_exp_configs_df = get_experiment_activations_configs_df_subset(\n",
    "    base_path=BASE_PATH,\n",
    "    model_id=MODEL_ID,\n",
    "    dataset_id=DATASET_ID,\n",
    "    prompt_id=PROMPT_ID,\n",
    "    subset_id=SUBSET_ID,\n",
    "    input_type=INPUT_TYPE,\n",
    ")\n",
    "activation_exp_configs_df"
   ]
  },
  {
   "cell_type": "code",
   "execution_count": 5,
   "metadata": {},
   "outputs": [
    {
     "data": {
      "text/plain": [
       "array(['football_leagues_1k', 'medals_9k', 'gsm8k', 'cities_10k',\n",
       "       'birth_years_4k'], dtype=object)"
      ]
     },
     "execution_count": 5,
     "metadata": {},
     "output_type": "execute_result"
    }
   ],
   "source": [
    "activation_exp_configs_df[\"dataset_id\"].unique()"
   ]
  },
  {
   "cell_type": "code",
   "execution_count": 6,
   "metadata": {},
   "outputs": [
    {
     "data": {
      "text/html": [
       "<div>\n",
       "<style scoped>\n",
       "    .dataframe tbody tr th:only-of-type {\n",
       "        vertical-align: middle;\n",
       "    }\n",
       "\n",
       "    .dataframe tbody tr th {\n",
       "        vertical-align: top;\n",
       "    }\n",
       "\n",
       "    .dataframe thead th {\n",
       "        text-align: right;\n",
       "    }\n",
       "</style>\n",
       "<table border=\"1\" class=\"dataframe\">\n",
       "  <thead>\n",
       "    <tr style=\"text-align: right;\">\n",
       "      <th></th>\n",
       "      <th>model_id</th>\n",
       "      <th>dataset_id</th>\n",
       "      <th>prompt_id</th>\n",
       "      <th>subset_id</th>\n",
       "      <th>input_type</th>\n",
       "      <th>layer</th>\n",
       "      <th>path</th>\n",
       "    </tr>\n",
       "  </thead>\n",
       "  <tbody>\n",
       "    <tr>\n",
       "      <th>256</th>\n",
       "      <td>llama3.1_8b_chat</td>\n",
       "      <td>cities_10k</td>\n",
       "      <td>base</td>\n",
       "      <td>main</td>\n",
       "      <td>prompt_only</td>\n",
       "      <td>0</td>\n",
       "      <td>../../data_for_classification/activations/llam...</td>\n",
       "    </tr>\n",
       "    <tr>\n",
       "      <th>257</th>\n",
       "      <td>llama3.1_8b_chat</td>\n",
       "      <td>cities_10k</td>\n",
       "      <td>base</td>\n",
       "      <td>main</td>\n",
       "      <td>prompt_only</td>\n",
       "      <td>7</td>\n",
       "      <td>../../data_for_classification/activations/llam...</td>\n",
       "    </tr>\n",
       "    <tr>\n",
       "      <th>258</th>\n",
       "      <td>llama3.1_8b_chat</td>\n",
       "      <td>cities_10k</td>\n",
       "      <td>base</td>\n",
       "      <td>main</td>\n",
       "      <td>prompt_only</td>\n",
       "      <td>9</td>\n",
       "      <td>../../data_for_classification/activations/llam...</td>\n",
       "    </tr>\n",
       "    <tr>\n",
       "      <th>259</th>\n",
       "      <td>llama3.1_8b_chat</td>\n",
       "      <td>cities_10k</td>\n",
       "      <td>base</td>\n",
       "      <td>main</td>\n",
       "      <td>prompt_only</td>\n",
       "      <td>17</td>\n",
       "      <td>../../data_for_classification/activations/llam...</td>\n",
       "    </tr>\n",
       "    <tr>\n",
       "      <th>260</th>\n",
       "      <td>llama3.1_8b_chat</td>\n",
       "      <td>cities_10k</td>\n",
       "      <td>base</td>\n",
       "      <td>main</td>\n",
       "      <td>prompt_only</td>\n",
       "      <td>28</td>\n",
       "      <td>../../data_for_classification/activations/llam...</td>\n",
       "    </tr>\n",
       "    <tr>\n",
       "      <th>...</th>\n",
       "      <td>...</td>\n",
       "      <td>...</td>\n",
       "      <td>...</td>\n",
       "      <td>...</td>\n",
       "      <td>...</td>\n",
       "      <td>...</td>\n",
       "      <td>...</td>\n",
       "    </tr>\n",
       "    <tr>\n",
       "      <th>379</th>\n",
       "      <td>llama3.1_8b_chat</td>\n",
       "      <td>birth_years_4k</td>\n",
       "      <td>base</td>\n",
       "      <td>main</td>\n",
       "      <td>prompt_answer</td>\n",
       "      <td>23</td>\n",
       "      <td>../../data_for_classification/activations/llam...</td>\n",
       "    </tr>\n",
       "    <tr>\n",
       "      <th>380</th>\n",
       "      <td>llama3.1_8b_chat</td>\n",
       "      <td>birth_years_4k</td>\n",
       "      <td>base</td>\n",
       "      <td>main</td>\n",
       "      <td>prompt_answer</td>\n",
       "      <td>15</td>\n",
       "      <td>../../data_for_classification/activations/llam...</td>\n",
       "    </tr>\n",
       "    <tr>\n",
       "      <th>381</th>\n",
       "      <td>llama3.1_8b_chat</td>\n",
       "      <td>birth_years_4k</td>\n",
       "      <td>base</td>\n",
       "      <td>main</td>\n",
       "      <td>prompt_answer</td>\n",
       "      <td>12</td>\n",
       "      <td>../../data_for_classification/activations/llam...</td>\n",
       "    </tr>\n",
       "    <tr>\n",
       "      <th>382</th>\n",
       "      <td>llama3.1_8b_chat</td>\n",
       "      <td>birth_years_4k</td>\n",
       "      <td>base</td>\n",
       "      <td>main</td>\n",
       "      <td>prompt_answer</td>\n",
       "      <td>2</td>\n",
       "      <td>../../data_for_classification/activations/llam...</td>\n",
       "    </tr>\n",
       "    <tr>\n",
       "      <th>383</th>\n",
       "      <td>llama3.1_8b_chat</td>\n",
       "      <td>birth_years_4k</td>\n",
       "      <td>base</td>\n",
       "      <td>main</td>\n",
       "      <td>prompt_answer</td>\n",
       "      <td>5</td>\n",
       "      <td>../../data_for_classification/activations/llam...</td>\n",
       "    </tr>\n",
       "  </tbody>\n",
       "</table>\n",
       "<p>128 rows × 7 columns</p>\n",
       "</div>"
      ],
      "text/plain": [
       "             model_id      dataset_id prompt_id subset_id     input_type  \\\n",
       "256  llama3.1_8b_chat      cities_10k      base      main    prompt_only   \n",
       "257  llama3.1_8b_chat      cities_10k      base      main    prompt_only   \n",
       "258  llama3.1_8b_chat      cities_10k      base      main    prompt_only   \n",
       "259  llama3.1_8b_chat      cities_10k      base      main    prompt_only   \n",
       "260  llama3.1_8b_chat      cities_10k      base      main    prompt_only   \n",
       "..                ...             ...       ...       ...            ...   \n",
       "379  llama3.1_8b_chat  birth_years_4k      base      main  prompt_answer   \n",
       "380  llama3.1_8b_chat  birth_years_4k      base      main  prompt_answer   \n",
       "381  llama3.1_8b_chat  birth_years_4k      base      main  prompt_answer   \n",
       "382  llama3.1_8b_chat  birth_years_4k      base      main  prompt_answer   \n",
       "383  llama3.1_8b_chat  birth_years_4k      base      main  prompt_answer   \n",
       "\n",
       "     layer                                               path  \n",
       "256      0  ../../data_for_classification/activations/llam...  \n",
       "257      7  ../../data_for_classification/activations/llam...  \n",
       "258      9  ../../data_for_classification/activations/llam...  \n",
       "259     17  ../../data_for_classification/activations/llam...  \n",
       "260     28  ../../data_for_classification/activations/llam...  \n",
       "..     ...                                                ...  \n",
       "379     23  ../../data_for_classification/activations/llam...  \n",
       "380     15  ../../data_for_classification/activations/llam...  \n",
       "381     12  ../../data_for_classification/activations/llam...  \n",
       "382      2  ../../data_for_classification/activations/llam...  \n",
       "383      5  ../../data_for_classification/activations/llam...  \n",
       "\n",
       "[128 rows x 7 columns]"
      ]
     },
     "execution_count": 6,
     "metadata": {},
     "output_type": "execute_result"
    }
   ],
   "source": [
    "activation_exp_configs_df = activation_exp_configs_df[activation_exp_configs_df[\"dataset_id\"].isin([\"cities_10k\", \"birth_years_4k\"])]\n",
    "activation_exp_configs_df"
   ]
  },
  {
   "cell_type": "code",
   "execution_count": 7,
   "metadata": {},
   "outputs": [
    {
     "name": "stdout",
     "output_type": "stream",
     "text": [
      "\n",
      "model_id_train='llama3.1_8b_chat', dataset_id_train='birth_years_4k', prompt_id_train='base', subset_id_train='main', input_type_train='prompt_only'\n",
      "\n",
      "model_id_test='llama3.1_8b_chat', dataset_id_test='birth_years_4k', prompt_id_test='base', subset_id_test='main', input_type_test='prompt_only'\n",
      "layer=0, "
     ]
    },
    {
     "name": "stderr",
     "output_type": "stream",
     "text": [
      "/Users/anton/dev/MARS/correctness-model-internals/venv/lib/python3.11/site-packages/sklearn/linear_model/_logistic.py:469: ConvergenceWarning: lbfgs failed to converge (status=1):\n",
      "STOP: TOTAL NO. OF ITERATIONS REACHED LIMIT.\n",
      "\n",
      "Increase the number of iterations (max_iter) or scale the data as shown in:\n",
      "    https://scikit-learn.org/stable/modules/preprocessing.html\n",
      "Please also refer to the documentation for alternative solver options:\n",
      "    https://scikit-learn.org/stable/modules/linear_model.html#logistic-regression\n",
      "  n_iter_i = _check_optimize_result(\n",
      "/Users/anton/dev/MARS/correctness-model-internals/venv/lib/python3.11/site-packages/sklearn/linear_model/_logistic.py:469: ConvergenceWarning: lbfgs failed to converge (status=1):\n",
      "STOP: TOTAL NO. OF ITERATIONS REACHED LIMIT.\n",
      "\n",
      "Increase the number of iterations (max_iter) or scale the data as shown in:\n",
      "    https://scikit-learn.org/stable/modules/preprocessing.html\n",
      "Please also refer to the documentation for alternative solver options:\n",
      "    https://scikit-learn.org/stable/modules/linear_model.html#logistic-regression\n",
      "  n_iter_i = _check_optimize_result(\n",
      "/Users/anton/dev/MARS/correctness-model-internals/venv/lib/python3.11/site-packages/sklearn/linear_model/_logistic.py:469: ConvergenceWarning: lbfgs failed to converge (status=1):\n",
      "STOP: TOTAL NO. OF ITERATIONS REACHED LIMIT.\n",
      "\n",
      "Increase the number of iterations (max_iter) or scale the data as shown in:\n",
      "    https://scikit-learn.org/stable/modules/preprocessing.html\n",
      "Please also refer to the documentation for alternative solver options:\n",
      "    https://scikit-learn.org/stable/modules/linear_model.html#logistic-regression\n",
      "  n_iter_i = _check_optimize_result(\n"
     ]
    },
    {
     "name": "stdout",
     "output_type": "stream",
     "text": [
      "layer=1, layer=2, layer=3, layer=4, layer=5, layer=6, layer=7, layer=8, layer=9, layer=10, layer=11, layer=12, layer=13, layer=14, layer=15, layer=16, layer=17, layer=18, layer=19, layer=20, layer=21, layer=22, layer=23, layer=24, layer=25, layer=26, layer=27, layer=28, layer=29, layer=30, layer=31, \n",
      "model_id_train='llama3.1_8b_chat', dataset_id_train='birth_years_4k', prompt_id_train='base', subset_id_train='main', input_type_train='prompt_only'\n",
      "\n",
      "model_id_test='llama3.1_8b_chat', dataset_id_test='cities_10k', prompt_id_test='base', subset_id_test='main', input_type_test='prompt_only'\n",
      "layer=0, "
     ]
    },
    {
     "name": "stderr",
     "output_type": "stream",
     "text": [
      "/Users/anton/dev/MARS/correctness-model-internals/venv/lib/python3.11/site-packages/sklearn/linear_model/_logistic.py:469: ConvergenceWarning: lbfgs failed to converge (status=1):\n",
      "STOP: TOTAL NO. OF ITERATIONS REACHED LIMIT.\n",
      "\n",
      "Increase the number of iterations (max_iter) or scale the data as shown in:\n",
      "    https://scikit-learn.org/stable/modules/preprocessing.html\n",
      "Please also refer to the documentation for alternative solver options:\n",
      "    https://scikit-learn.org/stable/modules/linear_model.html#logistic-regression\n",
      "  n_iter_i = _check_optimize_result(\n"
     ]
    },
    {
     "name": "stdout",
     "output_type": "stream",
     "text": [
      "layer=1, layer=2, layer=3, layer=4, layer=5, layer=6, layer=7, layer=8, layer=9, layer=10, layer=11, layer=12, layer=13, layer=14, layer=15, layer=16, layer=17, layer=18, layer=19, layer=20, layer=21, layer=22, layer=23, layer=24, layer=25, layer=26, layer=27, layer=28, layer=29, layer=30, layer=31, \n",
      "model_id_train='llama3.1_8b_chat', dataset_id_train='cities_10k', prompt_id_train='base', subset_id_train='main', input_type_train='prompt_only'\n",
      "\n",
      "model_id_test='llama3.1_8b_chat', dataset_id_test='birth_years_4k', prompt_id_test='base', subset_id_test='main', input_type_test='prompt_only'\n",
      "layer=0, "
     ]
    },
    {
     "name": "stderr",
     "output_type": "stream",
     "text": [
      "/Users/anton/dev/MARS/correctness-model-internals/venv/lib/python3.11/site-packages/sklearn/linear_model/_logistic.py:469: ConvergenceWarning: lbfgs failed to converge (status=1):\n",
      "STOP: TOTAL NO. OF ITERATIONS REACHED LIMIT.\n",
      "\n",
      "Increase the number of iterations (max_iter) or scale the data as shown in:\n",
      "    https://scikit-learn.org/stable/modules/preprocessing.html\n",
      "Please also refer to the documentation for alternative solver options:\n",
      "    https://scikit-learn.org/stable/modules/linear_model.html#logistic-regression\n",
      "  n_iter_i = _check_optimize_result(\n",
      "/Users/anton/dev/MARS/correctness-model-internals/venv/lib/python3.11/site-packages/sklearn/linear_model/_logistic.py:469: ConvergenceWarning: lbfgs failed to converge (status=1):\n",
      "STOP: TOTAL NO. OF ITERATIONS REACHED LIMIT.\n",
      "\n",
      "Increase the number of iterations (max_iter) or scale the data as shown in:\n",
      "    https://scikit-learn.org/stable/modules/preprocessing.html\n",
      "Please also refer to the documentation for alternative solver options:\n",
      "    https://scikit-learn.org/stable/modules/linear_model.html#logistic-regression\n",
      "  n_iter_i = _check_optimize_result(\n",
      "/Users/anton/dev/MARS/correctness-model-internals/venv/lib/python3.11/site-packages/sklearn/linear_model/_logistic.py:469: ConvergenceWarning: lbfgs failed to converge (status=1):\n",
      "STOP: TOTAL NO. OF ITERATIONS REACHED LIMIT.\n",
      "\n",
      "Increase the number of iterations (max_iter) or scale the data as shown in:\n",
      "    https://scikit-learn.org/stable/modules/preprocessing.html\n",
      "Please also refer to the documentation for alternative solver options:\n",
      "    https://scikit-learn.org/stable/modules/linear_model.html#logistic-regression\n",
      "  n_iter_i = _check_optimize_result(\n",
      "/Users/anton/dev/MARS/correctness-model-internals/venv/lib/python3.11/site-packages/sklearn/linear_model/_logistic.py:469: ConvergenceWarning: lbfgs failed to converge (status=1):\n",
      "STOP: TOTAL NO. OF ITERATIONS REACHED LIMIT.\n",
      "\n",
      "Increase the number of iterations (max_iter) or scale the data as shown in:\n",
      "    https://scikit-learn.org/stable/modules/preprocessing.html\n",
      "Please also refer to the documentation for alternative solver options:\n",
      "    https://scikit-learn.org/stable/modules/linear_model.html#logistic-regression\n",
      "  n_iter_i = _check_optimize_result(\n",
      "/Users/anton/dev/MARS/correctness-model-internals/venv/lib/python3.11/site-packages/sklearn/linear_model/_logistic.py:469: ConvergenceWarning: lbfgs failed to converge (status=1):\n",
      "STOP: TOTAL NO. OF ITERATIONS REACHED LIMIT.\n",
      "\n",
      "Increase the number of iterations (max_iter) or scale the data as shown in:\n",
      "    https://scikit-learn.org/stable/modules/preprocessing.html\n",
      "Please also refer to the documentation for alternative solver options:\n",
      "    https://scikit-learn.org/stable/modules/linear_model.html#logistic-regression\n",
      "  n_iter_i = _check_optimize_result(\n"
     ]
    },
    {
     "name": "stdout",
     "output_type": "stream",
     "text": [
      "layer=1, "
     ]
    },
    {
     "name": "stderr",
     "output_type": "stream",
     "text": [
      "/Users/anton/dev/MARS/correctness-model-internals/venv/lib/python3.11/site-packages/sklearn/linear_model/_logistic.py:469: ConvergenceWarning: lbfgs failed to converge (status=1):\n",
      "STOP: TOTAL NO. OF ITERATIONS REACHED LIMIT.\n",
      "\n",
      "Increase the number of iterations (max_iter) or scale the data as shown in:\n",
      "    https://scikit-learn.org/stable/modules/preprocessing.html\n",
      "Please also refer to the documentation for alternative solver options:\n",
      "    https://scikit-learn.org/stable/modules/linear_model.html#logistic-regression\n",
      "  n_iter_i = _check_optimize_result(\n",
      "/Users/anton/dev/MARS/correctness-model-internals/venv/lib/python3.11/site-packages/sklearn/linear_model/_logistic.py:469: ConvergenceWarning: lbfgs failed to converge (status=1):\n",
      "STOP: TOTAL NO. OF ITERATIONS REACHED LIMIT.\n",
      "\n",
      "Increase the number of iterations (max_iter) or scale the data as shown in:\n",
      "    https://scikit-learn.org/stable/modules/preprocessing.html\n",
      "Please also refer to the documentation for alternative solver options:\n",
      "    https://scikit-learn.org/stable/modules/linear_model.html#logistic-regression\n",
      "  n_iter_i = _check_optimize_result(\n",
      "/Users/anton/dev/MARS/correctness-model-internals/venv/lib/python3.11/site-packages/sklearn/linear_model/_logistic.py:469: ConvergenceWarning: lbfgs failed to converge (status=1):\n",
      "STOP: TOTAL NO. OF ITERATIONS REACHED LIMIT.\n",
      "\n",
      "Increase the number of iterations (max_iter) or scale the data as shown in:\n",
      "    https://scikit-learn.org/stable/modules/preprocessing.html\n",
      "Please also refer to the documentation for alternative solver options:\n",
      "    https://scikit-learn.org/stable/modules/linear_model.html#logistic-regression\n",
      "  n_iter_i = _check_optimize_result(\n",
      "/Users/anton/dev/MARS/correctness-model-internals/venv/lib/python3.11/site-packages/sklearn/linear_model/_logistic.py:469: ConvergenceWarning: lbfgs failed to converge (status=1):\n",
      "STOP: TOTAL NO. OF ITERATIONS REACHED LIMIT.\n",
      "\n",
      "Increase the number of iterations (max_iter) or scale the data as shown in:\n",
      "    https://scikit-learn.org/stable/modules/preprocessing.html\n",
      "Please also refer to the documentation for alternative solver options:\n",
      "    https://scikit-learn.org/stable/modules/linear_model.html#logistic-regression\n",
      "  n_iter_i = _check_optimize_result(\n",
      "/Users/anton/dev/MARS/correctness-model-internals/venv/lib/python3.11/site-packages/sklearn/linear_model/_logistic.py:469: ConvergenceWarning: lbfgs failed to converge (status=1):\n",
      "STOP: TOTAL NO. OF ITERATIONS REACHED LIMIT.\n",
      "\n",
      "Increase the number of iterations (max_iter) or scale the data as shown in:\n",
      "    https://scikit-learn.org/stable/modules/preprocessing.html\n",
      "Please also refer to the documentation for alternative solver options:\n",
      "    https://scikit-learn.org/stable/modules/linear_model.html#logistic-regression\n",
      "  n_iter_i = _check_optimize_result(\n"
     ]
    },
    {
     "name": "stdout",
     "output_type": "stream",
     "text": [
      "layer=2, "
     ]
    },
    {
     "name": "stderr",
     "output_type": "stream",
     "text": [
      "/Users/anton/dev/MARS/correctness-model-internals/venv/lib/python3.11/site-packages/sklearn/linear_model/_logistic.py:469: ConvergenceWarning: lbfgs failed to converge (status=1):\n",
      "STOP: TOTAL NO. OF ITERATIONS REACHED LIMIT.\n",
      "\n",
      "Increase the number of iterations (max_iter) or scale the data as shown in:\n",
      "    https://scikit-learn.org/stable/modules/preprocessing.html\n",
      "Please also refer to the documentation for alternative solver options:\n",
      "    https://scikit-learn.org/stable/modules/linear_model.html#logistic-regression\n",
      "  n_iter_i = _check_optimize_result(\n",
      "/Users/anton/dev/MARS/correctness-model-internals/venv/lib/python3.11/site-packages/sklearn/linear_model/_logistic.py:469: ConvergenceWarning: lbfgs failed to converge (status=1):\n",
      "STOP: TOTAL NO. OF ITERATIONS REACHED LIMIT.\n",
      "\n",
      "Increase the number of iterations (max_iter) or scale the data as shown in:\n",
      "    https://scikit-learn.org/stable/modules/preprocessing.html\n",
      "Please also refer to the documentation for alternative solver options:\n",
      "    https://scikit-learn.org/stable/modules/linear_model.html#logistic-regression\n",
      "  n_iter_i = _check_optimize_result(\n",
      "/Users/anton/dev/MARS/correctness-model-internals/venv/lib/python3.11/site-packages/sklearn/linear_model/_logistic.py:469: ConvergenceWarning: lbfgs failed to converge (status=1):\n",
      "STOP: TOTAL NO. OF ITERATIONS REACHED LIMIT.\n",
      "\n",
      "Increase the number of iterations (max_iter) or scale the data as shown in:\n",
      "    https://scikit-learn.org/stable/modules/preprocessing.html\n",
      "Please also refer to the documentation for alternative solver options:\n",
      "    https://scikit-learn.org/stable/modules/linear_model.html#logistic-regression\n",
      "  n_iter_i = _check_optimize_result(\n",
      "/Users/anton/dev/MARS/correctness-model-internals/venv/lib/python3.11/site-packages/sklearn/linear_model/_logistic.py:469: ConvergenceWarning: lbfgs failed to converge (status=1):\n",
      "STOP: TOTAL NO. OF ITERATIONS REACHED LIMIT.\n",
      "\n",
      "Increase the number of iterations (max_iter) or scale the data as shown in:\n",
      "    https://scikit-learn.org/stable/modules/preprocessing.html\n",
      "Please also refer to the documentation for alternative solver options:\n",
      "    https://scikit-learn.org/stable/modules/linear_model.html#logistic-regression\n",
      "  n_iter_i = _check_optimize_result(\n",
      "/Users/anton/dev/MARS/correctness-model-internals/venv/lib/python3.11/site-packages/sklearn/linear_model/_logistic.py:469: ConvergenceWarning: lbfgs failed to converge (status=1):\n",
      "STOP: TOTAL NO. OF ITERATIONS REACHED LIMIT.\n",
      "\n",
      "Increase the number of iterations (max_iter) or scale the data as shown in:\n",
      "    https://scikit-learn.org/stable/modules/preprocessing.html\n",
      "Please also refer to the documentation for alternative solver options:\n",
      "    https://scikit-learn.org/stable/modules/linear_model.html#logistic-regression\n",
      "  n_iter_i = _check_optimize_result(\n"
     ]
    },
    {
     "name": "stdout",
     "output_type": "stream",
     "text": [
      "layer=3, "
     ]
    },
    {
     "name": "stderr",
     "output_type": "stream",
     "text": [
      "/Users/anton/dev/MARS/correctness-model-internals/venv/lib/python3.11/site-packages/sklearn/linear_model/_logistic.py:469: ConvergenceWarning: lbfgs failed to converge (status=1):\n",
      "STOP: TOTAL NO. OF ITERATIONS REACHED LIMIT.\n",
      "\n",
      "Increase the number of iterations (max_iter) or scale the data as shown in:\n",
      "    https://scikit-learn.org/stable/modules/preprocessing.html\n",
      "Please also refer to the documentation for alternative solver options:\n",
      "    https://scikit-learn.org/stable/modules/linear_model.html#logistic-regression\n",
      "  n_iter_i = _check_optimize_result(\n",
      "/Users/anton/dev/MARS/correctness-model-internals/venv/lib/python3.11/site-packages/sklearn/linear_model/_logistic.py:469: ConvergenceWarning: lbfgs failed to converge (status=1):\n",
      "STOP: TOTAL NO. OF ITERATIONS REACHED LIMIT.\n",
      "\n",
      "Increase the number of iterations (max_iter) or scale the data as shown in:\n",
      "    https://scikit-learn.org/stable/modules/preprocessing.html\n",
      "Please also refer to the documentation for alternative solver options:\n",
      "    https://scikit-learn.org/stable/modules/linear_model.html#logistic-regression\n",
      "  n_iter_i = _check_optimize_result(\n",
      "/Users/anton/dev/MARS/correctness-model-internals/venv/lib/python3.11/site-packages/sklearn/linear_model/_logistic.py:469: ConvergenceWarning: lbfgs failed to converge (status=1):\n",
      "STOP: TOTAL NO. OF ITERATIONS REACHED LIMIT.\n",
      "\n",
      "Increase the number of iterations (max_iter) or scale the data as shown in:\n",
      "    https://scikit-learn.org/stable/modules/preprocessing.html\n",
      "Please also refer to the documentation for alternative solver options:\n",
      "    https://scikit-learn.org/stable/modules/linear_model.html#logistic-regression\n",
      "  n_iter_i = _check_optimize_result(\n",
      "/Users/anton/dev/MARS/correctness-model-internals/venv/lib/python3.11/site-packages/sklearn/linear_model/_logistic.py:469: ConvergenceWarning: lbfgs failed to converge (status=1):\n",
      "STOP: TOTAL NO. OF ITERATIONS REACHED LIMIT.\n",
      "\n",
      "Increase the number of iterations (max_iter) or scale the data as shown in:\n",
      "    https://scikit-learn.org/stable/modules/preprocessing.html\n",
      "Please also refer to the documentation for alternative solver options:\n",
      "    https://scikit-learn.org/stable/modules/linear_model.html#logistic-regression\n",
      "  n_iter_i = _check_optimize_result(\n",
      "/Users/anton/dev/MARS/correctness-model-internals/venv/lib/python3.11/site-packages/sklearn/linear_model/_logistic.py:469: ConvergenceWarning: lbfgs failed to converge (status=1):\n",
      "STOP: TOTAL NO. OF ITERATIONS REACHED LIMIT.\n",
      "\n",
      "Increase the number of iterations (max_iter) or scale the data as shown in:\n",
      "    https://scikit-learn.org/stable/modules/preprocessing.html\n",
      "Please also refer to the documentation for alternative solver options:\n",
      "    https://scikit-learn.org/stable/modules/linear_model.html#logistic-regression\n",
      "  n_iter_i = _check_optimize_result(\n"
     ]
    },
    {
     "name": "stdout",
     "output_type": "stream",
     "text": [
      "layer=4, layer=5, layer=6, layer=7, layer=8, layer=9, layer=10, layer=11, layer=12, layer=13, layer=14, layer=15, layer=16, layer=17, layer=18, layer=19, layer=20, layer=21, layer=22, layer=23, layer=24, layer=25, layer=26, layer=27, layer=28, layer=29, layer=30, layer=31, \n",
      "model_id_train='llama3.1_8b_chat', dataset_id_train='cities_10k', prompt_id_train='base', subset_id_train='main', input_type_train='prompt_only'\n",
      "\n",
      "model_id_test='llama3.1_8b_chat', dataset_id_test='cities_10k', prompt_id_test='base', subset_id_test='main', input_type_test='prompt_only'\n",
      "layer=0, "
     ]
    },
    {
     "name": "stderr",
     "output_type": "stream",
     "text": [
      "/Users/anton/dev/MARS/correctness-model-internals/venv/lib/python3.11/site-packages/sklearn/linear_model/_logistic.py:469: ConvergenceWarning: lbfgs failed to converge (status=1):\n",
      "STOP: TOTAL NO. OF ITERATIONS REACHED LIMIT.\n",
      "\n",
      "Increase the number of iterations (max_iter) or scale the data as shown in:\n",
      "    https://scikit-learn.org/stable/modules/preprocessing.html\n",
      "Please also refer to the documentation for alternative solver options:\n",
      "    https://scikit-learn.org/stable/modules/linear_model.html#logistic-regression\n",
      "  n_iter_i = _check_optimize_result(\n",
      "/Users/anton/dev/MARS/correctness-model-internals/venv/lib/python3.11/site-packages/sklearn/linear_model/_logistic.py:469: ConvergenceWarning: lbfgs failed to converge (status=1):\n",
      "STOP: TOTAL NO. OF ITERATIONS REACHED LIMIT.\n",
      "\n",
      "Increase the number of iterations (max_iter) or scale the data as shown in:\n",
      "    https://scikit-learn.org/stable/modules/preprocessing.html\n",
      "Please also refer to the documentation for alternative solver options:\n",
      "    https://scikit-learn.org/stable/modules/linear_model.html#logistic-regression\n",
      "  n_iter_i = _check_optimize_result(\n",
      "/Users/anton/dev/MARS/correctness-model-internals/venv/lib/python3.11/site-packages/sklearn/linear_model/_logistic.py:469: ConvergenceWarning: lbfgs failed to converge (status=1):\n",
      "STOP: TOTAL NO. OF ITERATIONS REACHED LIMIT.\n",
      "\n",
      "Increase the number of iterations (max_iter) or scale the data as shown in:\n",
      "    https://scikit-learn.org/stable/modules/preprocessing.html\n",
      "Please also refer to the documentation for alternative solver options:\n",
      "    https://scikit-learn.org/stable/modules/linear_model.html#logistic-regression\n",
      "  n_iter_i = _check_optimize_result(\n",
      "/Users/anton/dev/MARS/correctness-model-internals/venv/lib/python3.11/site-packages/sklearn/linear_model/_logistic.py:469: ConvergenceWarning: lbfgs failed to converge (status=1):\n",
      "STOP: TOTAL NO. OF ITERATIONS REACHED LIMIT.\n",
      "\n",
      "Increase the number of iterations (max_iter) or scale the data as shown in:\n",
      "    https://scikit-learn.org/stable/modules/preprocessing.html\n",
      "Please also refer to the documentation for alternative solver options:\n",
      "    https://scikit-learn.org/stable/modules/linear_model.html#logistic-regression\n",
      "  n_iter_i = _check_optimize_result(\n",
      "/Users/anton/dev/MARS/correctness-model-internals/venv/lib/python3.11/site-packages/sklearn/linear_model/_logistic.py:469: ConvergenceWarning: lbfgs failed to converge (status=1):\n",
      "STOP: TOTAL NO. OF ITERATIONS REACHED LIMIT.\n",
      "\n",
      "Increase the number of iterations (max_iter) or scale the data as shown in:\n",
      "    https://scikit-learn.org/stable/modules/preprocessing.html\n",
      "Please also refer to the documentation for alternative solver options:\n",
      "    https://scikit-learn.org/stable/modules/linear_model.html#logistic-regression\n",
      "  n_iter_i = _check_optimize_result(\n"
     ]
    },
    {
     "name": "stdout",
     "output_type": "stream",
     "text": [
      "layer=1, "
     ]
    },
    {
     "name": "stderr",
     "output_type": "stream",
     "text": [
      "/Users/anton/dev/MARS/correctness-model-internals/venv/lib/python3.11/site-packages/sklearn/linear_model/_logistic.py:469: ConvergenceWarning: lbfgs failed to converge (status=1):\n",
      "STOP: TOTAL NO. OF ITERATIONS REACHED LIMIT.\n",
      "\n",
      "Increase the number of iterations (max_iter) or scale the data as shown in:\n",
      "    https://scikit-learn.org/stable/modules/preprocessing.html\n",
      "Please also refer to the documentation for alternative solver options:\n",
      "    https://scikit-learn.org/stable/modules/linear_model.html#logistic-regression\n",
      "  n_iter_i = _check_optimize_result(\n",
      "/Users/anton/dev/MARS/correctness-model-internals/venv/lib/python3.11/site-packages/sklearn/linear_model/_logistic.py:469: ConvergenceWarning: lbfgs failed to converge (status=1):\n",
      "STOP: TOTAL NO. OF ITERATIONS REACHED LIMIT.\n",
      "\n",
      "Increase the number of iterations (max_iter) or scale the data as shown in:\n",
      "    https://scikit-learn.org/stable/modules/preprocessing.html\n",
      "Please also refer to the documentation for alternative solver options:\n",
      "    https://scikit-learn.org/stable/modules/linear_model.html#logistic-regression\n",
      "  n_iter_i = _check_optimize_result(\n",
      "/Users/anton/dev/MARS/correctness-model-internals/venv/lib/python3.11/site-packages/sklearn/linear_model/_logistic.py:469: ConvergenceWarning: lbfgs failed to converge (status=1):\n",
      "STOP: TOTAL NO. OF ITERATIONS REACHED LIMIT.\n",
      "\n",
      "Increase the number of iterations (max_iter) or scale the data as shown in:\n",
      "    https://scikit-learn.org/stable/modules/preprocessing.html\n",
      "Please also refer to the documentation for alternative solver options:\n",
      "    https://scikit-learn.org/stable/modules/linear_model.html#logistic-regression\n",
      "  n_iter_i = _check_optimize_result(\n",
      "/Users/anton/dev/MARS/correctness-model-internals/venv/lib/python3.11/site-packages/sklearn/linear_model/_logistic.py:469: ConvergenceWarning: lbfgs failed to converge (status=1):\n",
      "STOP: TOTAL NO. OF ITERATIONS REACHED LIMIT.\n",
      "\n",
      "Increase the number of iterations (max_iter) or scale the data as shown in:\n",
      "    https://scikit-learn.org/stable/modules/preprocessing.html\n",
      "Please also refer to the documentation for alternative solver options:\n",
      "    https://scikit-learn.org/stable/modules/linear_model.html#logistic-regression\n",
      "  n_iter_i = _check_optimize_result(\n",
      "/Users/anton/dev/MARS/correctness-model-internals/venv/lib/python3.11/site-packages/sklearn/linear_model/_logistic.py:469: ConvergenceWarning: lbfgs failed to converge (status=1):\n",
      "STOP: TOTAL NO. OF ITERATIONS REACHED LIMIT.\n",
      "\n",
      "Increase the number of iterations (max_iter) or scale the data as shown in:\n",
      "    https://scikit-learn.org/stable/modules/preprocessing.html\n",
      "Please also refer to the documentation for alternative solver options:\n",
      "    https://scikit-learn.org/stable/modules/linear_model.html#logistic-regression\n",
      "  n_iter_i = _check_optimize_result(\n"
     ]
    },
    {
     "name": "stdout",
     "output_type": "stream",
     "text": [
      "layer=2, "
     ]
    },
    {
     "name": "stderr",
     "output_type": "stream",
     "text": [
      "/Users/anton/dev/MARS/correctness-model-internals/venv/lib/python3.11/site-packages/sklearn/linear_model/_logistic.py:469: ConvergenceWarning: lbfgs failed to converge (status=1):\n",
      "STOP: TOTAL NO. OF ITERATIONS REACHED LIMIT.\n",
      "\n",
      "Increase the number of iterations (max_iter) or scale the data as shown in:\n",
      "    https://scikit-learn.org/stable/modules/preprocessing.html\n",
      "Please also refer to the documentation for alternative solver options:\n",
      "    https://scikit-learn.org/stable/modules/linear_model.html#logistic-regression\n",
      "  n_iter_i = _check_optimize_result(\n",
      "/Users/anton/dev/MARS/correctness-model-internals/venv/lib/python3.11/site-packages/sklearn/linear_model/_logistic.py:469: ConvergenceWarning: lbfgs failed to converge (status=1):\n",
      "STOP: TOTAL NO. OF ITERATIONS REACHED LIMIT.\n",
      "\n",
      "Increase the number of iterations (max_iter) or scale the data as shown in:\n",
      "    https://scikit-learn.org/stable/modules/preprocessing.html\n",
      "Please also refer to the documentation for alternative solver options:\n",
      "    https://scikit-learn.org/stable/modules/linear_model.html#logistic-regression\n",
      "  n_iter_i = _check_optimize_result(\n",
      "/Users/anton/dev/MARS/correctness-model-internals/venv/lib/python3.11/site-packages/sklearn/linear_model/_logistic.py:469: ConvergenceWarning: lbfgs failed to converge (status=1):\n",
      "STOP: TOTAL NO. OF ITERATIONS REACHED LIMIT.\n",
      "\n",
      "Increase the number of iterations (max_iter) or scale the data as shown in:\n",
      "    https://scikit-learn.org/stable/modules/preprocessing.html\n",
      "Please also refer to the documentation for alternative solver options:\n",
      "    https://scikit-learn.org/stable/modules/linear_model.html#logistic-regression\n",
      "  n_iter_i = _check_optimize_result(\n",
      "/Users/anton/dev/MARS/correctness-model-internals/venv/lib/python3.11/site-packages/sklearn/linear_model/_logistic.py:469: ConvergenceWarning: lbfgs failed to converge (status=1):\n",
      "STOP: TOTAL NO. OF ITERATIONS REACHED LIMIT.\n",
      "\n",
      "Increase the number of iterations (max_iter) or scale the data as shown in:\n",
      "    https://scikit-learn.org/stable/modules/preprocessing.html\n",
      "Please also refer to the documentation for alternative solver options:\n",
      "    https://scikit-learn.org/stable/modules/linear_model.html#logistic-regression\n",
      "  n_iter_i = _check_optimize_result(\n",
      "/Users/anton/dev/MARS/correctness-model-internals/venv/lib/python3.11/site-packages/sklearn/linear_model/_logistic.py:469: ConvergenceWarning: lbfgs failed to converge (status=1):\n",
      "STOP: TOTAL NO. OF ITERATIONS REACHED LIMIT.\n",
      "\n",
      "Increase the number of iterations (max_iter) or scale the data as shown in:\n",
      "    https://scikit-learn.org/stable/modules/preprocessing.html\n",
      "Please also refer to the documentation for alternative solver options:\n",
      "    https://scikit-learn.org/stable/modules/linear_model.html#logistic-regression\n",
      "  n_iter_i = _check_optimize_result(\n"
     ]
    },
    {
     "name": "stdout",
     "output_type": "stream",
     "text": [
      "layer=3, "
     ]
    },
    {
     "name": "stderr",
     "output_type": "stream",
     "text": [
      "/Users/anton/dev/MARS/correctness-model-internals/venv/lib/python3.11/site-packages/sklearn/linear_model/_logistic.py:469: ConvergenceWarning: lbfgs failed to converge (status=1):\n",
      "STOP: TOTAL NO. OF ITERATIONS REACHED LIMIT.\n",
      "\n",
      "Increase the number of iterations (max_iter) or scale the data as shown in:\n",
      "    https://scikit-learn.org/stable/modules/preprocessing.html\n",
      "Please also refer to the documentation for alternative solver options:\n",
      "    https://scikit-learn.org/stable/modules/linear_model.html#logistic-regression\n",
      "  n_iter_i = _check_optimize_result(\n",
      "/Users/anton/dev/MARS/correctness-model-internals/venv/lib/python3.11/site-packages/sklearn/linear_model/_logistic.py:469: ConvergenceWarning: lbfgs failed to converge (status=1):\n",
      "STOP: TOTAL NO. OF ITERATIONS REACHED LIMIT.\n",
      "\n",
      "Increase the number of iterations (max_iter) or scale the data as shown in:\n",
      "    https://scikit-learn.org/stable/modules/preprocessing.html\n",
      "Please also refer to the documentation for alternative solver options:\n",
      "    https://scikit-learn.org/stable/modules/linear_model.html#logistic-regression\n",
      "  n_iter_i = _check_optimize_result(\n",
      "/Users/anton/dev/MARS/correctness-model-internals/venv/lib/python3.11/site-packages/sklearn/linear_model/_logistic.py:469: ConvergenceWarning: lbfgs failed to converge (status=1):\n",
      "STOP: TOTAL NO. OF ITERATIONS REACHED LIMIT.\n",
      "\n",
      "Increase the number of iterations (max_iter) or scale the data as shown in:\n",
      "    https://scikit-learn.org/stable/modules/preprocessing.html\n",
      "Please also refer to the documentation for alternative solver options:\n",
      "    https://scikit-learn.org/stable/modules/linear_model.html#logistic-regression\n",
      "  n_iter_i = _check_optimize_result(\n",
      "/Users/anton/dev/MARS/correctness-model-internals/venv/lib/python3.11/site-packages/sklearn/linear_model/_logistic.py:469: ConvergenceWarning: lbfgs failed to converge (status=1):\n",
      "STOP: TOTAL NO. OF ITERATIONS REACHED LIMIT.\n",
      "\n",
      "Increase the number of iterations (max_iter) or scale the data as shown in:\n",
      "    https://scikit-learn.org/stable/modules/preprocessing.html\n",
      "Please also refer to the documentation for alternative solver options:\n",
      "    https://scikit-learn.org/stable/modules/linear_model.html#logistic-regression\n",
      "  n_iter_i = _check_optimize_result(\n",
      "/Users/anton/dev/MARS/correctness-model-internals/venv/lib/python3.11/site-packages/sklearn/linear_model/_logistic.py:469: ConvergenceWarning: lbfgs failed to converge (status=1):\n",
      "STOP: TOTAL NO. OF ITERATIONS REACHED LIMIT.\n",
      "\n",
      "Increase the number of iterations (max_iter) or scale the data as shown in:\n",
      "    https://scikit-learn.org/stable/modules/preprocessing.html\n",
      "Please also refer to the documentation for alternative solver options:\n",
      "    https://scikit-learn.org/stable/modules/linear_model.html#logistic-regression\n",
      "  n_iter_i = _check_optimize_result(\n"
     ]
    },
    {
     "name": "stdout",
     "output_type": "stream",
     "text": [
      "layer=4, layer=5, layer=6, layer=7, layer=8, layer=9, layer=10, layer=11, layer=12, layer=13, layer=14, layer=15, layer=16, layer=17, layer=18, layer=19, layer=20, layer=21, layer=22, layer=23, layer=24, layer=25, layer=26, layer=27, layer=28, layer=29, layer=30, layer=31, \n",
      "model_id_train='llama3.1_8b_chat', dataset_id_train='birth_years_4k', prompt_id_train='base', subset_id_train='main', input_type_train='prompt_answer'\n",
      "\n",
      "model_id_test='llama3.1_8b_chat', dataset_id_test='birth_years_4k', prompt_id_test='base', subset_id_test='main', input_type_test='prompt_answer'\n",
      "layer=0, "
     ]
    },
    {
     "name": "stderr",
     "output_type": "stream",
     "text": [
      "/Users/anton/dev/MARS/correctness-model-internals/venv/lib/python3.11/site-packages/sklearn/linear_model/_logistic.py:469: ConvergenceWarning: lbfgs failed to converge (status=1):\n",
      "STOP: TOTAL NO. OF ITERATIONS REACHED LIMIT.\n",
      "\n",
      "Increase the number of iterations (max_iter) or scale the data as shown in:\n",
      "    https://scikit-learn.org/stable/modules/preprocessing.html\n",
      "Please also refer to the documentation for alternative solver options:\n",
      "    https://scikit-learn.org/stable/modules/linear_model.html#logistic-regression\n",
      "  n_iter_i = _check_optimize_result(\n",
      "/Users/anton/dev/MARS/correctness-model-internals/venv/lib/python3.11/site-packages/sklearn/linear_model/_logistic.py:469: ConvergenceWarning: lbfgs failed to converge (status=1):\n",
      "STOP: TOTAL NO. OF ITERATIONS REACHED LIMIT.\n",
      "\n",
      "Increase the number of iterations (max_iter) or scale the data as shown in:\n",
      "    https://scikit-learn.org/stable/modules/preprocessing.html\n",
      "Please also refer to the documentation for alternative solver options:\n",
      "    https://scikit-learn.org/stable/modules/linear_model.html#logistic-regression\n",
      "  n_iter_i = _check_optimize_result(\n",
      "/Users/anton/dev/MARS/correctness-model-internals/venv/lib/python3.11/site-packages/sklearn/linear_model/_logistic.py:469: ConvergenceWarning: lbfgs failed to converge (status=1):\n",
      "STOP: TOTAL NO. OF ITERATIONS REACHED LIMIT.\n",
      "\n",
      "Increase the number of iterations (max_iter) or scale the data as shown in:\n",
      "    https://scikit-learn.org/stable/modules/preprocessing.html\n",
      "Please also refer to the documentation for alternative solver options:\n",
      "    https://scikit-learn.org/stable/modules/linear_model.html#logistic-regression\n",
      "  n_iter_i = _check_optimize_result(\n",
      "/Users/anton/dev/MARS/correctness-model-internals/venv/lib/python3.11/site-packages/sklearn/linear_model/_logistic.py:469: ConvergenceWarning: lbfgs failed to converge (status=1):\n",
      "STOP: TOTAL NO. OF ITERATIONS REACHED LIMIT.\n",
      "\n",
      "Increase the number of iterations (max_iter) or scale the data as shown in:\n",
      "    https://scikit-learn.org/stable/modules/preprocessing.html\n",
      "Please also refer to the documentation for alternative solver options:\n",
      "    https://scikit-learn.org/stable/modules/linear_model.html#logistic-regression\n",
      "  n_iter_i = _check_optimize_result(\n",
      "/Users/anton/dev/MARS/correctness-model-internals/venv/lib/python3.11/site-packages/sklearn/linear_model/_logistic.py:469: ConvergenceWarning: lbfgs failed to converge (status=1):\n",
      "STOP: TOTAL NO. OF ITERATIONS REACHED LIMIT.\n",
      "\n",
      "Increase the number of iterations (max_iter) or scale the data as shown in:\n",
      "    https://scikit-learn.org/stable/modules/preprocessing.html\n",
      "Please also refer to the documentation for alternative solver options:\n",
      "    https://scikit-learn.org/stable/modules/linear_model.html#logistic-regression\n",
      "  n_iter_i = _check_optimize_result(\n"
     ]
    },
    {
     "name": "stdout",
     "output_type": "stream",
     "text": [
      "layer=1, "
     ]
    },
    {
     "name": "stderr",
     "output_type": "stream",
     "text": [
      "/Users/anton/dev/MARS/correctness-model-internals/venv/lib/python3.11/site-packages/sklearn/linear_model/_logistic.py:469: ConvergenceWarning: lbfgs failed to converge (status=1):\n",
      "STOP: TOTAL NO. OF ITERATIONS REACHED LIMIT.\n",
      "\n",
      "Increase the number of iterations (max_iter) or scale the data as shown in:\n",
      "    https://scikit-learn.org/stable/modules/preprocessing.html\n",
      "Please also refer to the documentation for alternative solver options:\n",
      "    https://scikit-learn.org/stable/modules/linear_model.html#logistic-regression\n",
      "  n_iter_i = _check_optimize_result(\n",
      "/Users/anton/dev/MARS/correctness-model-internals/venv/lib/python3.11/site-packages/sklearn/linear_model/_logistic.py:469: ConvergenceWarning: lbfgs failed to converge (status=1):\n",
      "STOP: TOTAL NO. OF ITERATIONS REACHED LIMIT.\n",
      "\n",
      "Increase the number of iterations (max_iter) or scale the data as shown in:\n",
      "    https://scikit-learn.org/stable/modules/preprocessing.html\n",
      "Please also refer to the documentation for alternative solver options:\n",
      "    https://scikit-learn.org/stable/modules/linear_model.html#logistic-regression\n",
      "  n_iter_i = _check_optimize_result(\n",
      "/Users/anton/dev/MARS/correctness-model-internals/venv/lib/python3.11/site-packages/sklearn/linear_model/_logistic.py:469: ConvergenceWarning: lbfgs failed to converge (status=1):\n",
      "STOP: TOTAL NO. OF ITERATIONS REACHED LIMIT.\n",
      "\n",
      "Increase the number of iterations (max_iter) or scale the data as shown in:\n",
      "    https://scikit-learn.org/stable/modules/preprocessing.html\n",
      "Please also refer to the documentation for alternative solver options:\n",
      "    https://scikit-learn.org/stable/modules/linear_model.html#logistic-regression\n",
      "  n_iter_i = _check_optimize_result(\n",
      "/Users/anton/dev/MARS/correctness-model-internals/venv/lib/python3.11/site-packages/sklearn/linear_model/_logistic.py:469: ConvergenceWarning: lbfgs failed to converge (status=1):\n",
      "STOP: TOTAL NO. OF ITERATIONS REACHED LIMIT.\n",
      "\n",
      "Increase the number of iterations (max_iter) or scale the data as shown in:\n",
      "    https://scikit-learn.org/stable/modules/preprocessing.html\n",
      "Please also refer to the documentation for alternative solver options:\n",
      "    https://scikit-learn.org/stable/modules/linear_model.html#logistic-regression\n",
      "  n_iter_i = _check_optimize_result(\n",
      "/Users/anton/dev/MARS/correctness-model-internals/venv/lib/python3.11/site-packages/sklearn/linear_model/_logistic.py:469: ConvergenceWarning: lbfgs failed to converge (status=1):\n",
      "STOP: TOTAL NO. OF ITERATIONS REACHED LIMIT.\n",
      "\n",
      "Increase the number of iterations (max_iter) or scale the data as shown in:\n",
      "    https://scikit-learn.org/stable/modules/preprocessing.html\n",
      "Please also refer to the documentation for alternative solver options:\n",
      "    https://scikit-learn.org/stable/modules/linear_model.html#logistic-regression\n",
      "  n_iter_i = _check_optimize_result(\n"
     ]
    },
    {
     "name": "stdout",
     "output_type": "stream",
     "text": [
      "layer=2, "
     ]
    },
    {
     "name": "stderr",
     "output_type": "stream",
     "text": [
      "/Users/anton/dev/MARS/correctness-model-internals/venv/lib/python3.11/site-packages/sklearn/linear_model/_logistic.py:469: ConvergenceWarning: lbfgs failed to converge (status=1):\n",
      "STOP: TOTAL NO. OF ITERATIONS REACHED LIMIT.\n",
      "\n",
      "Increase the number of iterations (max_iter) or scale the data as shown in:\n",
      "    https://scikit-learn.org/stable/modules/preprocessing.html\n",
      "Please also refer to the documentation for alternative solver options:\n",
      "    https://scikit-learn.org/stable/modules/linear_model.html#logistic-regression\n",
      "  n_iter_i = _check_optimize_result(\n",
      "/Users/anton/dev/MARS/correctness-model-internals/venv/lib/python3.11/site-packages/sklearn/linear_model/_logistic.py:469: ConvergenceWarning: lbfgs failed to converge (status=1):\n",
      "STOP: TOTAL NO. OF ITERATIONS REACHED LIMIT.\n",
      "\n",
      "Increase the number of iterations (max_iter) or scale the data as shown in:\n",
      "    https://scikit-learn.org/stable/modules/preprocessing.html\n",
      "Please also refer to the documentation for alternative solver options:\n",
      "    https://scikit-learn.org/stable/modules/linear_model.html#logistic-regression\n",
      "  n_iter_i = _check_optimize_result(\n",
      "/Users/anton/dev/MARS/correctness-model-internals/venv/lib/python3.11/site-packages/sklearn/linear_model/_logistic.py:469: ConvergenceWarning: lbfgs failed to converge (status=1):\n",
      "STOP: TOTAL NO. OF ITERATIONS REACHED LIMIT.\n",
      "\n",
      "Increase the number of iterations (max_iter) or scale the data as shown in:\n",
      "    https://scikit-learn.org/stable/modules/preprocessing.html\n",
      "Please also refer to the documentation for alternative solver options:\n",
      "    https://scikit-learn.org/stable/modules/linear_model.html#logistic-regression\n",
      "  n_iter_i = _check_optimize_result(\n"
     ]
    },
    {
     "name": "stdout",
     "output_type": "stream",
     "text": [
      "layer=3, layer=4, layer=5, layer=6, layer=7, layer=8, layer=9, layer=10, layer=11, layer=12, layer=13, layer=14, layer=15, layer=16, layer=17, layer=18, layer=19, layer=20, layer=21, layer=22, layer=23, layer=24, layer=25, layer=26, layer=27, layer=28, layer=29, layer=30, layer=31, \n",
      "model_id_train='llama3.1_8b_chat', dataset_id_train='birth_years_4k', prompt_id_train='base', subset_id_train='main', input_type_train='prompt_answer'\n",
      "\n",
      "model_id_test='llama3.1_8b_chat', dataset_id_test='cities_10k', prompt_id_test='base', subset_id_test='main', input_type_test='prompt_answer'\n",
      "layer=0, "
     ]
    },
    {
     "name": "stderr",
     "output_type": "stream",
     "text": [
      "/Users/anton/dev/MARS/correctness-model-internals/venv/lib/python3.11/site-packages/sklearn/linear_model/_logistic.py:469: ConvergenceWarning: lbfgs failed to converge (status=1):\n",
      "STOP: TOTAL NO. OF ITERATIONS REACHED LIMIT.\n",
      "\n",
      "Increase the number of iterations (max_iter) or scale the data as shown in:\n",
      "    https://scikit-learn.org/stable/modules/preprocessing.html\n",
      "Please also refer to the documentation for alternative solver options:\n",
      "    https://scikit-learn.org/stable/modules/linear_model.html#logistic-regression\n",
      "  n_iter_i = _check_optimize_result(\n",
      "/Users/anton/dev/MARS/correctness-model-internals/venv/lib/python3.11/site-packages/sklearn/linear_model/_logistic.py:469: ConvergenceWarning: lbfgs failed to converge (status=1):\n",
      "STOP: TOTAL NO. OF ITERATIONS REACHED LIMIT.\n",
      "\n",
      "Increase the number of iterations (max_iter) or scale the data as shown in:\n",
      "    https://scikit-learn.org/stable/modules/preprocessing.html\n",
      "Please also refer to the documentation for alternative solver options:\n",
      "    https://scikit-learn.org/stable/modules/linear_model.html#logistic-regression\n",
      "  n_iter_i = _check_optimize_result(\n",
      "/Users/anton/dev/MARS/correctness-model-internals/venv/lib/python3.11/site-packages/sklearn/linear_model/_logistic.py:469: ConvergenceWarning: lbfgs failed to converge (status=1):\n",
      "STOP: TOTAL NO. OF ITERATIONS REACHED LIMIT.\n",
      "\n",
      "Increase the number of iterations (max_iter) or scale the data as shown in:\n",
      "    https://scikit-learn.org/stable/modules/preprocessing.html\n",
      "Please also refer to the documentation for alternative solver options:\n",
      "    https://scikit-learn.org/stable/modules/linear_model.html#logistic-regression\n",
      "  n_iter_i = _check_optimize_result(\n",
      "/Users/anton/dev/MARS/correctness-model-internals/venv/lib/python3.11/site-packages/sklearn/linear_model/_logistic.py:469: ConvergenceWarning: lbfgs failed to converge (status=1):\n",
      "STOP: TOTAL NO. OF ITERATIONS REACHED LIMIT.\n",
      "\n",
      "Increase the number of iterations (max_iter) or scale the data as shown in:\n",
      "    https://scikit-learn.org/stable/modules/preprocessing.html\n",
      "Please also refer to the documentation for alternative solver options:\n",
      "    https://scikit-learn.org/stable/modules/linear_model.html#logistic-regression\n",
      "  n_iter_i = _check_optimize_result(\n",
      "/Users/anton/dev/MARS/correctness-model-internals/venv/lib/python3.11/site-packages/sklearn/linear_model/_logistic.py:469: ConvergenceWarning: lbfgs failed to converge (status=1):\n",
      "STOP: TOTAL NO. OF ITERATIONS REACHED LIMIT.\n",
      "\n",
      "Increase the number of iterations (max_iter) or scale the data as shown in:\n",
      "    https://scikit-learn.org/stable/modules/preprocessing.html\n",
      "Please also refer to the documentation for alternative solver options:\n",
      "    https://scikit-learn.org/stable/modules/linear_model.html#logistic-regression\n",
      "  n_iter_i = _check_optimize_result(\n"
     ]
    },
    {
     "name": "stdout",
     "output_type": "stream",
     "text": [
      "layer=1, "
     ]
    },
    {
     "name": "stderr",
     "output_type": "stream",
     "text": [
      "/Users/anton/dev/MARS/correctness-model-internals/venv/lib/python3.11/site-packages/sklearn/linear_model/_logistic.py:469: ConvergenceWarning: lbfgs failed to converge (status=1):\n",
      "STOP: TOTAL NO. OF ITERATIONS REACHED LIMIT.\n",
      "\n",
      "Increase the number of iterations (max_iter) or scale the data as shown in:\n",
      "    https://scikit-learn.org/stable/modules/preprocessing.html\n",
      "Please also refer to the documentation for alternative solver options:\n",
      "    https://scikit-learn.org/stable/modules/linear_model.html#logistic-regression\n",
      "  n_iter_i = _check_optimize_result(\n",
      "/Users/anton/dev/MARS/correctness-model-internals/venv/lib/python3.11/site-packages/sklearn/linear_model/_logistic.py:469: ConvergenceWarning: lbfgs failed to converge (status=1):\n",
      "STOP: TOTAL NO. OF ITERATIONS REACHED LIMIT.\n",
      "\n",
      "Increase the number of iterations (max_iter) or scale the data as shown in:\n",
      "    https://scikit-learn.org/stable/modules/preprocessing.html\n",
      "Please also refer to the documentation for alternative solver options:\n",
      "    https://scikit-learn.org/stable/modules/linear_model.html#logistic-regression\n",
      "  n_iter_i = _check_optimize_result(\n",
      "/Users/anton/dev/MARS/correctness-model-internals/venv/lib/python3.11/site-packages/sklearn/linear_model/_logistic.py:469: ConvergenceWarning: lbfgs failed to converge (status=1):\n",
      "STOP: TOTAL NO. OF ITERATIONS REACHED LIMIT.\n",
      "\n",
      "Increase the number of iterations (max_iter) or scale the data as shown in:\n",
      "    https://scikit-learn.org/stable/modules/preprocessing.html\n",
      "Please also refer to the documentation for alternative solver options:\n",
      "    https://scikit-learn.org/stable/modules/linear_model.html#logistic-regression\n",
      "  n_iter_i = _check_optimize_result(\n",
      "/Users/anton/dev/MARS/correctness-model-internals/venv/lib/python3.11/site-packages/sklearn/linear_model/_logistic.py:469: ConvergenceWarning: lbfgs failed to converge (status=1):\n",
      "STOP: TOTAL NO. OF ITERATIONS REACHED LIMIT.\n",
      "\n",
      "Increase the number of iterations (max_iter) or scale the data as shown in:\n",
      "    https://scikit-learn.org/stable/modules/preprocessing.html\n",
      "Please also refer to the documentation for alternative solver options:\n",
      "    https://scikit-learn.org/stable/modules/linear_model.html#logistic-regression\n",
      "  n_iter_i = _check_optimize_result(\n",
      "/Users/anton/dev/MARS/correctness-model-internals/venv/lib/python3.11/site-packages/sklearn/linear_model/_logistic.py:469: ConvergenceWarning: lbfgs failed to converge (status=1):\n",
      "STOP: TOTAL NO. OF ITERATIONS REACHED LIMIT.\n",
      "\n",
      "Increase the number of iterations (max_iter) or scale the data as shown in:\n",
      "    https://scikit-learn.org/stable/modules/preprocessing.html\n",
      "Please also refer to the documentation for alternative solver options:\n",
      "    https://scikit-learn.org/stable/modules/linear_model.html#logistic-regression\n",
      "  n_iter_i = _check_optimize_result(\n"
     ]
    },
    {
     "name": "stdout",
     "output_type": "stream",
     "text": [
      "layer=2, "
     ]
    },
    {
     "name": "stderr",
     "output_type": "stream",
     "text": [
      "/Users/anton/dev/MARS/correctness-model-internals/venv/lib/python3.11/site-packages/sklearn/linear_model/_logistic.py:469: ConvergenceWarning: lbfgs failed to converge (status=1):\n",
      "STOP: TOTAL NO. OF ITERATIONS REACHED LIMIT.\n",
      "\n",
      "Increase the number of iterations (max_iter) or scale the data as shown in:\n",
      "    https://scikit-learn.org/stable/modules/preprocessing.html\n",
      "Please also refer to the documentation for alternative solver options:\n",
      "    https://scikit-learn.org/stable/modules/linear_model.html#logistic-regression\n",
      "  n_iter_i = _check_optimize_result(\n"
     ]
    },
    {
     "name": "stdout",
     "output_type": "stream",
     "text": [
      "layer=3, layer=4, layer=5, layer=6, layer=7, layer=8, layer=9, layer=10, layer=11, layer=12, layer=13, layer=14, layer=15, layer=16, layer=17, layer=18, "
     ]
    },
    {
     "name": "stderr",
     "output_type": "stream",
     "text": [
      "/Users/anton/dev/MARS/correctness-model-internals/venv/lib/python3.11/site-packages/sklearn/metrics/_classification.py:1509: UndefinedMetricWarning: Precision is ill-defined and being set to 0.0 due to no predicted samples. Use `zero_division` parameter to control this behavior.\n",
      "  _warn_prf(average, modifier, f\"{metric.capitalize()} is\", len(result))\n"
     ]
    },
    {
     "name": "stdout",
     "output_type": "stream",
     "text": [
      "layer=19, layer=20, layer=21, layer=22, layer=23, "
     ]
    },
    {
     "name": "stderr",
     "output_type": "stream",
     "text": [
      "/Users/anton/dev/MARS/correctness-model-internals/venv/lib/python3.11/site-packages/sklearn/metrics/_classification.py:1509: UndefinedMetricWarning: Precision is ill-defined and being set to 0.0 due to no predicted samples. Use `zero_division` parameter to control this behavior.\n",
      "  _warn_prf(average, modifier, f\"{metric.capitalize()} is\", len(result))\n"
     ]
    },
    {
     "name": "stdout",
     "output_type": "stream",
     "text": [
      "layer=24, "
     ]
    },
    {
     "name": "stderr",
     "output_type": "stream",
     "text": [
      "/Users/anton/dev/MARS/correctness-model-internals/venv/lib/python3.11/site-packages/sklearn/metrics/_classification.py:1509: UndefinedMetricWarning: Precision is ill-defined and being set to 0.0 due to no predicted samples. Use `zero_division` parameter to control this behavior.\n",
      "  _warn_prf(average, modifier, f\"{metric.capitalize()} is\", len(result))\n"
     ]
    },
    {
     "name": "stdout",
     "output_type": "stream",
     "text": [
      "layer=25, "
     ]
    },
    {
     "name": "stderr",
     "output_type": "stream",
     "text": [
      "/Users/anton/dev/MARS/correctness-model-internals/venv/lib/python3.11/site-packages/sklearn/metrics/_classification.py:1509: UndefinedMetricWarning: Precision is ill-defined and being set to 0.0 due to no predicted samples. Use `zero_division` parameter to control this behavior.\n",
      "  _warn_prf(average, modifier, f\"{metric.capitalize()} is\", len(result))\n"
     ]
    },
    {
     "name": "stdout",
     "output_type": "stream",
     "text": [
      "layer=26, "
     ]
    },
    {
     "name": "stderr",
     "output_type": "stream",
     "text": [
      "/Users/anton/dev/MARS/correctness-model-internals/venv/lib/python3.11/site-packages/sklearn/metrics/_classification.py:1509: UndefinedMetricWarning: Precision is ill-defined and being set to 0.0 due to no predicted samples. Use `zero_division` parameter to control this behavior.\n",
      "  _warn_prf(average, modifier, f\"{metric.capitalize()} is\", len(result))\n",
      "/Users/anton/dev/MARS/correctness-model-internals/venv/lib/python3.11/site-packages/sklearn/metrics/_classification.py:1509: UndefinedMetricWarning: Precision is ill-defined and being set to 0.0 due to no predicted samples. Use `zero_division` parameter to control this behavior.\n",
      "  _warn_prf(average, modifier, f\"{metric.capitalize()} is\", len(result))\n"
     ]
    },
    {
     "name": "stdout",
     "output_type": "stream",
     "text": [
      "layer=27, "
     ]
    },
    {
     "name": "stderr",
     "output_type": "stream",
     "text": [
      "/Users/anton/dev/MARS/correctness-model-internals/venv/lib/python3.11/site-packages/sklearn/metrics/_classification.py:1509: UndefinedMetricWarning: Precision is ill-defined and being set to 0.0 due to no predicted samples. Use `zero_division` parameter to control this behavior.\n",
      "  _warn_prf(average, modifier, f\"{metric.capitalize()} is\", len(result))\n"
     ]
    },
    {
     "name": "stdout",
     "output_type": "stream",
     "text": [
      "layer=28, "
     ]
    },
    {
     "name": "stderr",
     "output_type": "stream",
     "text": [
      "/Users/anton/dev/MARS/correctness-model-internals/venv/lib/python3.11/site-packages/sklearn/metrics/_classification.py:1509: UndefinedMetricWarning: Precision is ill-defined and being set to 0.0 due to no predicted samples. Use `zero_division` parameter to control this behavior.\n",
      "  _warn_prf(average, modifier, f\"{metric.capitalize()} is\", len(result))\n",
      "/Users/anton/dev/MARS/correctness-model-internals/venv/lib/python3.11/site-packages/sklearn/metrics/_classification.py:1509: UndefinedMetricWarning: Precision is ill-defined and being set to 0.0 due to no predicted samples. Use `zero_division` parameter to control this behavior.\n",
      "  _warn_prf(average, modifier, f\"{metric.capitalize()} is\", len(result))\n"
     ]
    },
    {
     "name": "stdout",
     "output_type": "stream",
     "text": [
      "layer=29, "
     ]
    },
    {
     "name": "stderr",
     "output_type": "stream",
     "text": [
      "/Users/anton/dev/MARS/correctness-model-internals/venv/lib/python3.11/site-packages/sklearn/metrics/_classification.py:1509: UndefinedMetricWarning: Precision is ill-defined and being set to 0.0 due to no predicted samples. Use `zero_division` parameter to control this behavior.\n",
      "  _warn_prf(average, modifier, f\"{metric.capitalize()} is\", len(result))\n",
      "/Users/anton/dev/MARS/correctness-model-internals/venv/lib/python3.11/site-packages/sklearn/metrics/_classification.py:1509: UndefinedMetricWarning: Precision is ill-defined and being set to 0.0 due to no predicted samples. Use `zero_division` parameter to control this behavior.\n",
      "  _warn_prf(average, modifier, f\"{metric.capitalize()} is\", len(result))\n"
     ]
    },
    {
     "name": "stdout",
     "output_type": "stream",
     "text": [
      "layer=30, "
     ]
    },
    {
     "name": "stderr",
     "output_type": "stream",
     "text": [
      "/Users/anton/dev/MARS/correctness-model-internals/venv/lib/python3.11/site-packages/sklearn/metrics/_classification.py:1509: UndefinedMetricWarning: Precision is ill-defined and being set to 0.0 due to no predicted samples. Use `zero_division` parameter to control this behavior.\n",
      "  _warn_prf(average, modifier, f\"{metric.capitalize()} is\", len(result))\n"
     ]
    },
    {
     "name": "stdout",
     "output_type": "stream",
     "text": [
      "layer=31, \n",
      "model_id_train='llama3.1_8b_chat', dataset_id_train='cities_10k', prompt_id_train='base', subset_id_train='main', input_type_train='prompt_answer'\n",
      "\n",
      "model_id_test='llama3.1_8b_chat', dataset_id_test='birth_years_4k', prompt_id_test='base', subset_id_test='main', input_type_test='prompt_answer'\n",
      "layer=0, "
     ]
    },
    {
     "name": "stderr",
     "output_type": "stream",
     "text": [
      "/Users/anton/dev/MARS/correctness-model-internals/venv/lib/python3.11/site-packages/sklearn/linear_model/_logistic.py:469: ConvergenceWarning: lbfgs failed to converge (status=1):\n",
      "STOP: TOTAL NO. OF ITERATIONS REACHED LIMIT.\n",
      "\n",
      "Increase the number of iterations (max_iter) or scale the data as shown in:\n",
      "    https://scikit-learn.org/stable/modules/preprocessing.html\n",
      "Please also refer to the documentation for alternative solver options:\n",
      "    https://scikit-learn.org/stable/modules/linear_model.html#logistic-regression\n",
      "  n_iter_i = _check_optimize_result(\n",
      "/Users/anton/dev/MARS/correctness-model-internals/venv/lib/python3.11/site-packages/sklearn/linear_model/_logistic.py:469: ConvergenceWarning: lbfgs failed to converge (status=1):\n",
      "STOP: TOTAL NO. OF ITERATIONS REACHED LIMIT.\n",
      "\n",
      "Increase the number of iterations (max_iter) or scale the data as shown in:\n",
      "    https://scikit-learn.org/stable/modules/preprocessing.html\n",
      "Please also refer to the documentation for alternative solver options:\n",
      "    https://scikit-learn.org/stable/modules/linear_model.html#logistic-regression\n",
      "  n_iter_i = _check_optimize_result(\n",
      "/Users/anton/dev/MARS/correctness-model-internals/venv/lib/python3.11/site-packages/sklearn/linear_model/_logistic.py:469: ConvergenceWarning: lbfgs failed to converge (status=1):\n",
      "STOP: TOTAL NO. OF ITERATIONS REACHED LIMIT.\n",
      "\n",
      "Increase the number of iterations (max_iter) or scale the data as shown in:\n",
      "    https://scikit-learn.org/stable/modules/preprocessing.html\n",
      "Please also refer to the documentation for alternative solver options:\n",
      "    https://scikit-learn.org/stable/modules/linear_model.html#logistic-regression\n",
      "  n_iter_i = _check_optimize_result(\n",
      "/Users/anton/dev/MARS/correctness-model-internals/venv/lib/python3.11/site-packages/sklearn/linear_model/_logistic.py:469: ConvergenceWarning: lbfgs failed to converge (status=1):\n",
      "STOP: TOTAL NO. OF ITERATIONS REACHED LIMIT.\n",
      "\n",
      "Increase the number of iterations (max_iter) or scale the data as shown in:\n",
      "    https://scikit-learn.org/stable/modules/preprocessing.html\n",
      "Please also refer to the documentation for alternative solver options:\n",
      "    https://scikit-learn.org/stable/modules/linear_model.html#logistic-regression\n",
      "  n_iter_i = _check_optimize_result(\n",
      "/Users/anton/dev/MARS/correctness-model-internals/venv/lib/python3.11/site-packages/sklearn/linear_model/_logistic.py:469: ConvergenceWarning: lbfgs failed to converge (status=1):\n",
      "STOP: TOTAL NO. OF ITERATIONS REACHED LIMIT.\n",
      "\n",
      "Increase the number of iterations (max_iter) or scale the data as shown in:\n",
      "    https://scikit-learn.org/stable/modules/preprocessing.html\n",
      "Please also refer to the documentation for alternative solver options:\n",
      "    https://scikit-learn.org/stable/modules/linear_model.html#logistic-regression\n",
      "  n_iter_i = _check_optimize_result(\n"
     ]
    },
    {
     "name": "stdout",
     "output_type": "stream",
     "text": [
      "layer=1, "
     ]
    },
    {
     "name": "stderr",
     "output_type": "stream",
     "text": [
      "/Users/anton/dev/MARS/correctness-model-internals/venv/lib/python3.11/site-packages/sklearn/linear_model/_logistic.py:469: ConvergenceWarning: lbfgs failed to converge (status=1):\n",
      "STOP: TOTAL NO. OF ITERATIONS REACHED LIMIT.\n",
      "\n",
      "Increase the number of iterations (max_iter) or scale the data as shown in:\n",
      "    https://scikit-learn.org/stable/modules/preprocessing.html\n",
      "Please also refer to the documentation for alternative solver options:\n",
      "    https://scikit-learn.org/stable/modules/linear_model.html#logistic-regression\n",
      "  n_iter_i = _check_optimize_result(\n",
      "/Users/anton/dev/MARS/correctness-model-internals/venv/lib/python3.11/site-packages/sklearn/linear_model/_logistic.py:469: ConvergenceWarning: lbfgs failed to converge (status=1):\n",
      "STOP: TOTAL NO. OF ITERATIONS REACHED LIMIT.\n",
      "\n",
      "Increase the number of iterations (max_iter) or scale the data as shown in:\n",
      "    https://scikit-learn.org/stable/modules/preprocessing.html\n",
      "Please also refer to the documentation for alternative solver options:\n",
      "    https://scikit-learn.org/stable/modules/linear_model.html#logistic-regression\n",
      "  n_iter_i = _check_optimize_result(\n",
      "/Users/anton/dev/MARS/correctness-model-internals/venv/lib/python3.11/site-packages/sklearn/linear_model/_logistic.py:469: ConvergenceWarning: lbfgs failed to converge (status=1):\n",
      "STOP: TOTAL NO. OF ITERATIONS REACHED LIMIT.\n",
      "\n",
      "Increase the number of iterations (max_iter) or scale the data as shown in:\n",
      "    https://scikit-learn.org/stable/modules/preprocessing.html\n",
      "Please also refer to the documentation for alternative solver options:\n",
      "    https://scikit-learn.org/stable/modules/linear_model.html#logistic-regression\n",
      "  n_iter_i = _check_optimize_result(\n",
      "/Users/anton/dev/MARS/correctness-model-internals/venv/lib/python3.11/site-packages/sklearn/linear_model/_logistic.py:469: ConvergenceWarning: lbfgs failed to converge (status=1):\n",
      "STOP: TOTAL NO. OF ITERATIONS REACHED LIMIT.\n",
      "\n",
      "Increase the number of iterations (max_iter) or scale the data as shown in:\n",
      "    https://scikit-learn.org/stable/modules/preprocessing.html\n",
      "Please also refer to the documentation for alternative solver options:\n",
      "    https://scikit-learn.org/stable/modules/linear_model.html#logistic-regression\n",
      "  n_iter_i = _check_optimize_result(\n",
      "/Users/anton/dev/MARS/correctness-model-internals/venv/lib/python3.11/site-packages/sklearn/linear_model/_logistic.py:469: ConvergenceWarning: lbfgs failed to converge (status=1):\n",
      "STOP: TOTAL NO. OF ITERATIONS REACHED LIMIT.\n",
      "\n",
      "Increase the number of iterations (max_iter) or scale the data as shown in:\n",
      "    https://scikit-learn.org/stable/modules/preprocessing.html\n",
      "Please also refer to the documentation for alternative solver options:\n",
      "    https://scikit-learn.org/stable/modules/linear_model.html#logistic-regression\n",
      "  n_iter_i = _check_optimize_result(\n"
     ]
    },
    {
     "name": "stdout",
     "output_type": "stream",
     "text": [
      "layer=2, "
     ]
    },
    {
     "name": "stderr",
     "output_type": "stream",
     "text": [
      "/Users/anton/dev/MARS/correctness-model-internals/venv/lib/python3.11/site-packages/sklearn/linear_model/_logistic.py:469: ConvergenceWarning: lbfgs failed to converge (status=1):\n",
      "STOP: TOTAL NO. OF ITERATIONS REACHED LIMIT.\n",
      "\n",
      "Increase the number of iterations (max_iter) or scale the data as shown in:\n",
      "    https://scikit-learn.org/stable/modules/preprocessing.html\n",
      "Please also refer to the documentation for alternative solver options:\n",
      "    https://scikit-learn.org/stable/modules/linear_model.html#logistic-regression\n",
      "  n_iter_i = _check_optimize_result(\n",
      "/Users/anton/dev/MARS/correctness-model-internals/venv/lib/python3.11/site-packages/sklearn/linear_model/_logistic.py:469: ConvergenceWarning: lbfgs failed to converge (status=1):\n",
      "STOP: TOTAL NO. OF ITERATIONS REACHED LIMIT.\n",
      "\n",
      "Increase the number of iterations (max_iter) or scale the data as shown in:\n",
      "    https://scikit-learn.org/stable/modules/preprocessing.html\n",
      "Please also refer to the documentation for alternative solver options:\n",
      "    https://scikit-learn.org/stable/modules/linear_model.html#logistic-regression\n",
      "  n_iter_i = _check_optimize_result(\n",
      "/Users/anton/dev/MARS/correctness-model-internals/venv/lib/python3.11/site-packages/sklearn/linear_model/_logistic.py:469: ConvergenceWarning: lbfgs failed to converge (status=1):\n",
      "STOP: TOTAL NO. OF ITERATIONS REACHED LIMIT.\n",
      "\n",
      "Increase the number of iterations (max_iter) or scale the data as shown in:\n",
      "    https://scikit-learn.org/stable/modules/preprocessing.html\n",
      "Please also refer to the documentation for alternative solver options:\n",
      "    https://scikit-learn.org/stable/modules/linear_model.html#logistic-regression\n",
      "  n_iter_i = _check_optimize_result(\n",
      "/Users/anton/dev/MARS/correctness-model-internals/venv/lib/python3.11/site-packages/sklearn/linear_model/_logistic.py:469: ConvergenceWarning: lbfgs failed to converge (status=1):\n",
      "STOP: TOTAL NO. OF ITERATIONS REACHED LIMIT.\n",
      "\n",
      "Increase the number of iterations (max_iter) or scale the data as shown in:\n",
      "    https://scikit-learn.org/stable/modules/preprocessing.html\n",
      "Please also refer to the documentation for alternative solver options:\n",
      "    https://scikit-learn.org/stable/modules/linear_model.html#logistic-regression\n",
      "  n_iter_i = _check_optimize_result(\n",
      "/Users/anton/dev/MARS/correctness-model-internals/venv/lib/python3.11/site-packages/sklearn/linear_model/_logistic.py:469: ConvergenceWarning: lbfgs failed to converge (status=1):\n",
      "STOP: TOTAL NO. OF ITERATIONS REACHED LIMIT.\n",
      "\n",
      "Increase the number of iterations (max_iter) or scale the data as shown in:\n",
      "    https://scikit-learn.org/stable/modules/preprocessing.html\n",
      "Please also refer to the documentation for alternative solver options:\n",
      "    https://scikit-learn.org/stable/modules/linear_model.html#logistic-regression\n",
      "  n_iter_i = _check_optimize_result(\n"
     ]
    },
    {
     "name": "stdout",
     "output_type": "stream",
     "text": [
      "layer=3, "
     ]
    },
    {
     "name": "stderr",
     "output_type": "stream",
     "text": [
      "/Users/anton/dev/MARS/correctness-model-internals/venv/lib/python3.11/site-packages/sklearn/linear_model/_logistic.py:469: ConvergenceWarning: lbfgs failed to converge (status=1):\n",
      "STOP: TOTAL NO. OF ITERATIONS REACHED LIMIT.\n",
      "\n",
      "Increase the number of iterations (max_iter) or scale the data as shown in:\n",
      "    https://scikit-learn.org/stable/modules/preprocessing.html\n",
      "Please also refer to the documentation for alternative solver options:\n",
      "    https://scikit-learn.org/stable/modules/linear_model.html#logistic-regression\n",
      "  n_iter_i = _check_optimize_result(\n",
      "/Users/anton/dev/MARS/correctness-model-internals/venv/lib/python3.11/site-packages/sklearn/linear_model/_logistic.py:469: ConvergenceWarning: lbfgs failed to converge (status=1):\n",
      "STOP: TOTAL NO. OF ITERATIONS REACHED LIMIT.\n",
      "\n",
      "Increase the number of iterations (max_iter) or scale the data as shown in:\n",
      "    https://scikit-learn.org/stable/modules/preprocessing.html\n",
      "Please also refer to the documentation for alternative solver options:\n",
      "    https://scikit-learn.org/stable/modules/linear_model.html#logistic-regression\n",
      "  n_iter_i = _check_optimize_result(\n",
      "/Users/anton/dev/MARS/correctness-model-internals/venv/lib/python3.11/site-packages/sklearn/linear_model/_logistic.py:469: ConvergenceWarning: lbfgs failed to converge (status=1):\n",
      "STOP: TOTAL NO. OF ITERATIONS REACHED LIMIT.\n",
      "\n",
      "Increase the number of iterations (max_iter) or scale the data as shown in:\n",
      "    https://scikit-learn.org/stable/modules/preprocessing.html\n",
      "Please also refer to the documentation for alternative solver options:\n",
      "    https://scikit-learn.org/stable/modules/linear_model.html#logistic-regression\n",
      "  n_iter_i = _check_optimize_result(\n",
      "/Users/anton/dev/MARS/correctness-model-internals/venv/lib/python3.11/site-packages/sklearn/linear_model/_logistic.py:469: ConvergenceWarning: lbfgs failed to converge (status=1):\n",
      "STOP: TOTAL NO. OF ITERATIONS REACHED LIMIT.\n",
      "\n",
      "Increase the number of iterations (max_iter) or scale the data as shown in:\n",
      "    https://scikit-learn.org/stable/modules/preprocessing.html\n",
      "Please also refer to the documentation for alternative solver options:\n",
      "    https://scikit-learn.org/stable/modules/linear_model.html#logistic-regression\n",
      "  n_iter_i = _check_optimize_result(\n"
     ]
    },
    {
     "name": "stdout",
     "output_type": "stream",
     "text": [
      "layer=4, layer=5, layer=6, layer=7, layer=8, layer=9, "
     ]
    },
    {
     "name": "stderr",
     "output_type": "stream",
     "text": [
      "/Users/anton/dev/MARS/correctness-model-internals/venv/lib/python3.11/site-packages/sklearn/metrics/_classification.py:1509: UndefinedMetricWarning: Precision is ill-defined and being set to 0.0 due to no predicted samples. Use `zero_division` parameter to control this behavior.\n",
      "  _warn_prf(average, modifier, f\"{metric.capitalize()} is\", len(result))\n",
      "/Users/anton/dev/MARS/correctness-model-internals/venv/lib/python3.11/site-packages/sklearn/metrics/_classification.py:1509: UndefinedMetricWarning: Precision is ill-defined and being set to 0.0 due to no predicted samples. Use `zero_division` parameter to control this behavior.\n",
      "  _warn_prf(average, modifier, f\"{metric.capitalize()} is\", len(result))\n"
     ]
    },
    {
     "name": "stdout",
     "output_type": "stream",
     "text": [
      "layer=10, layer=11, layer=12, layer=13, layer=14, layer=15, layer=16, layer=17, layer=18, layer=19, layer=20, layer=21, layer=22, layer=23, layer=24, layer=25, layer=26, layer=27, layer=28, layer=29, layer=30, layer=31, \n",
      "model_id_train='llama3.1_8b_chat', dataset_id_train='cities_10k', prompt_id_train='base', subset_id_train='main', input_type_train='prompt_answer'\n",
      "\n",
      "model_id_test='llama3.1_8b_chat', dataset_id_test='cities_10k', prompt_id_test='base', subset_id_test='main', input_type_test='prompt_answer'\n",
      "layer=0, "
     ]
    },
    {
     "name": "stderr",
     "output_type": "stream",
     "text": [
      "/Users/anton/dev/MARS/correctness-model-internals/venv/lib/python3.11/site-packages/sklearn/linear_model/_logistic.py:469: ConvergenceWarning: lbfgs failed to converge (status=1):\n",
      "STOP: TOTAL NO. OF ITERATIONS REACHED LIMIT.\n",
      "\n",
      "Increase the number of iterations (max_iter) or scale the data as shown in:\n",
      "    https://scikit-learn.org/stable/modules/preprocessing.html\n",
      "Please also refer to the documentation for alternative solver options:\n",
      "    https://scikit-learn.org/stable/modules/linear_model.html#logistic-regression\n",
      "  n_iter_i = _check_optimize_result(\n",
      "/Users/anton/dev/MARS/correctness-model-internals/venv/lib/python3.11/site-packages/sklearn/linear_model/_logistic.py:469: ConvergenceWarning: lbfgs failed to converge (status=1):\n",
      "STOP: TOTAL NO. OF ITERATIONS REACHED LIMIT.\n",
      "\n",
      "Increase the number of iterations (max_iter) or scale the data as shown in:\n",
      "    https://scikit-learn.org/stable/modules/preprocessing.html\n",
      "Please also refer to the documentation for alternative solver options:\n",
      "    https://scikit-learn.org/stable/modules/linear_model.html#logistic-regression\n",
      "  n_iter_i = _check_optimize_result(\n",
      "/Users/anton/dev/MARS/correctness-model-internals/venv/lib/python3.11/site-packages/sklearn/linear_model/_logistic.py:469: ConvergenceWarning: lbfgs failed to converge (status=1):\n",
      "STOP: TOTAL NO. OF ITERATIONS REACHED LIMIT.\n",
      "\n",
      "Increase the number of iterations (max_iter) or scale the data as shown in:\n",
      "    https://scikit-learn.org/stable/modules/preprocessing.html\n",
      "Please also refer to the documentation for alternative solver options:\n",
      "    https://scikit-learn.org/stable/modules/linear_model.html#logistic-regression\n",
      "  n_iter_i = _check_optimize_result(\n",
      "/Users/anton/dev/MARS/correctness-model-internals/venv/lib/python3.11/site-packages/sklearn/linear_model/_logistic.py:469: ConvergenceWarning: lbfgs failed to converge (status=1):\n",
      "STOP: TOTAL NO. OF ITERATIONS REACHED LIMIT.\n",
      "\n",
      "Increase the number of iterations (max_iter) or scale the data as shown in:\n",
      "    https://scikit-learn.org/stable/modules/preprocessing.html\n",
      "Please also refer to the documentation for alternative solver options:\n",
      "    https://scikit-learn.org/stable/modules/linear_model.html#logistic-regression\n",
      "  n_iter_i = _check_optimize_result(\n",
      "/Users/anton/dev/MARS/correctness-model-internals/venv/lib/python3.11/site-packages/sklearn/linear_model/_logistic.py:469: ConvergenceWarning: lbfgs failed to converge (status=1):\n",
      "STOP: TOTAL NO. OF ITERATIONS REACHED LIMIT.\n",
      "\n",
      "Increase the number of iterations (max_iter) or scale the data as shown in:\n",
      "    https://scikit-learn.org/stable/modules/preprocessing.html\n",
      "Please also refer to the documentation for alternative solver options:\n",
      "    https://scikit-learn.org/stable/modules/linear_model.html#logistic-regression\n",
      "  n_iter_i = _check_optimize_result(\n"
     ]
    },
    {
     "name": "stdout",
     "output_type": "stream",
     "text": [
      "layer=1, "
     ]
    },
    {
     "name": "stderr",
     "output_type": "stream",
     "text": [
      "/Users/anton/dev/MARS/correctness-model-internals/venv/lib/python3.11/site-packages/sklearn/linear_model/_logistic.py:469: ConvergenceWarning: lbfgs failed to converge (status=1):\n",
      "STOP: TOTAL NO. OF ITERATIONS REACHED LIMIT.\n",
      "\n",
      "Increase the number of iterations (max_iter) or scale the data as shown in:\n",
      "    https://scikit-learn.org/stable/modules/preprocessing.html\n",
      "Please also refer to the documentation for alternative solver options:\n",
      "    https://scikit-learn.org/stable/modules/linear_model.html#logistic-regression\n",
      "  n_iter_i = _check_optimize_result(\n",
      "/Users/anton/dev/MARS/correctness-model-internals/venv/lib/python3.11/site-packages/sklearn/linear_model/_logistic.py:469: ConvergenceWarning: lbfgs failed to converge (status=1):\n",
      "STOP: TOTAL NO. OF ITERATIONS REACHED LIMIT.\n",
      "\n",
      "Increase the number of iterations (max_iter) or scale the data as shown in:\n",
      "    https://scikit-learn.org/stable/modules/preprocessing.html\n",
      "Please also refer to the documentation for alternative solver options:\n",
      "    https://scikit-learn.org/stable/modules/linear_model.html#logistic-regression\n",
      "  n_iter_i = _check_optimize_result(\n",
      "/Users/anton/dev/MARS/correctness-model-internals/venv/lib/python3.11/site-packages/sklearn/linear_model/_logistic.py:469: ConvergenceWarning: lbfgs failed to converge (status=1):\n",
      "STOP: TOTAL NO. OF ITERATIONS REACHED LIMIT.\n",
      "\n",
      "Increase the number of iterations (max_iter) or scale the data as shown in:\n",
      "    https://scikit-learn.org/stable/modules/preprocessing.html\n",
      "Please also refer to the documentation for alternative solver options:\n",
      "    https://scikit-learn.org/stable/modules/linear_model.html#logistic-regression\n",
      "  n_iter_i = _check_optimize_result(\n",
      "/Users/anton/dev/MARS/correctness-model-internals/venv/lib/python3.11/site-packages/sklearn/linear_model/_logistic.py:469: ConvergenceWarning: lbfgs failed to converge (status=1):\n",
      "STOP: TOTAL NO. OF ITERATIONS REACHED LIMIT.\n",
      "\n",
      "Increase the number of iterations (max_iter) or scale the data as shown in:\n",
      "    https://scikit-learn.org/stable/modules/preprocessing.html\n",
      "Please also refer to the documentation for alternative solver options:\n",
      "    https://scikit-learn.org/stable/modules/linear_model.html#logistic-regression\n",
      "  n_iter_i = _check_optimize_result(\n",
      "/Users/anton/dev/MARS/correctness-model-internals/venv/lib/python3.11/site-packages/sklearn/linear_model/_logistic.py:469: ConvergenceWarning: lbfgs failed to converge (status=1):\n",
      "STOP: TOTAL NO. OF ITERATIONS REACHED LIMIT.\n",
      "\n",
      "Increase the number of iterations (max_iter) or scale the data as shown in:\n",
      "    https://scikit-learn.org/stable/modules/preprocessing.html\n",
      "Please also refer to the documentation for alternative solver options:\n",
      "    https://scikit-learn.org/stable/modules/linear_model.html#logistic-regression\n",
      "  n_iter_i = _check_optimize_result(\n"
     ]
    },
    {
     "name": "stdout",
     "output_type": "stream",
     "text": [
      "layer=2, "
     ]
    },
    {
     "name": "stderr",
     "output_type": "stream",
     "text": [
      "/Users/anton/dev/MARS/correctness-model-internals/venv/lib/python3.11/site-packages/sklearn/linear_model/_logistic.py:469: ConvergenceWarning: lbfgs failed to converge (status=1):\n",
      "STOP: TOTAL NO. OF ITERATIONS REACHED LIMIT.\n",
      "\n",
      "Increase the number of iterations (max_iter) or scale the data as shown in:\n",
      "    https://scikit-learn.org/stable/modules/preprocessing.html\n",
      "Please also refer to the documentation for alternative solver options:\n",
      "    https://scikit-learn.org/stable/modules/linear_model.html#logistic-regression\n",
      "  n_iter_i = _check_optimize_result(\n",
      "/Users/anton/dev/MARS/correctness-model-internals/venv/lib/python3.11/site-packages/sklearn/linear_model/_logistic.py:469: ConvergenceWarning: lbfgs failed to converge (status=1):\n",
      "STOP: TOTAL NO. OF ITERATIONS REACHED LIMIT.\n",
      "\n",
      "Increase the number of iterations (max_iter) or scale the data as shown in:\n",
      "    https://scikit-learn.org/stable/modules/preprocessing.html\n",
      "Please also refer to the documentation for alternative solver options:\n",
      "    https://scikit-learn.org/stable/modules/linear_model.html#logistic-regression\n",
      "  n_iter_i = _check_optimize_result(\n",
      "/Users/anton/dev/MARS/correctness-model-internals/venv/lib/python3.11/site-packages/sklearn/linear_model/_logistic.py:469: ConvergenceWarning: lbfgs failed to converge (status=1):\n",
      "STOP: TOTAL NO. OF ITERATIONS REACHED LIMIT.\n",
      "\n",
      "Increase the number of iterations (max_iter) or scale the data as shown in:\n",
      "    https://scikit-learn.org/stable/modules/preprocessing.html\n",
      "Please also refer to the documentation for alternative solver options:\n",
      "    https://scikit-learn.org/stable/modules/linear_model.html#logistic-regression\n",
      "  n_iter_i = _check_optimize_result(\n",
      "/Users/anton/dev/MARS/correctness-model-internals/venv/lib/python3.11/site-packages/sklearn/linear_model/_logistic.py:469: ConvergenceWarning: lbfgs failed to converge (status=1):\n",
      "STOP: TOTAL NO. OF ITERATIONS REACHED LIMIT.\n",
      "\n",
      "Increase the number of iterations (max_iter) or scale the data as shown in:\n",
      "    https://scikit-learn.org/stable/modules/preprocessing.html\n",
      "Please also refer to the documentation for alternative solver options:\n",
      "    https://scikit-learn.org/stable/modules/linear_model.html#logistic-regression\n",
      "  n_iter_i = _check_optimize_result(\n",
      "/Users/anton/dev/MARS/correctness-model-internals/venv/lib/python3.11/site-packages/sklearn/linear_model/_logistic.py:469: ConvergenceWarning: lbfgs failed to converge (status=1):\n",
      "STOP: TOTAL NO. OF ITERATIONS REACHED LIMIT.\n",
      "\n",
      "Increase the number of iterations (max_iter) or scale the data as shown in:\n",
      "    https://scikit-learn.org/stable/modules/preprocessing.html\n",
      "Please also refer to the documentation for alternative solver options:\n",
      "    https://scikit-learn.org/stable/modules/linear_model.html#logistic-regression\n",
      "  n_iter_i = _check_optimize_result(\n"
     ]
    },
    {
     "name": "stdout",
     "output_type": "stream",
     "text": [
      "layer=3, "
     ]
    },
    {
     "name": "stderr",
     "output_type": "stream",
     "text": [
      "/Users/anton/dev/MARS/correctness-model-internals/venv/lib/python3.11/site-packages/sklearn/linear_model/_logistic.py:469: ConvergenceWarning: lbfgs failed to converge (status=1):\n",
      "STOP: TOTAL NO. OF ITERATIONS REACHED LIMIT.\n",
      "\n",
      "Increase the number of iterations (max_iter) or scale the data as shown in:\n",
      "    https://scikit-learn.org/stable/modules/preprocessing.html\n",
      "Please also refer to the documentation for alternative solver options:\n",
      "    https://scikit-learn.org/stable/modules/linear_model.html#logistic-regression\n",
      "  n_iter_i = _check_optimize_result(\n",
      "/Users/anton/dev/MARS/correctness-model-internals/venv/lib/python3.11/site-packages/sklearn/linear_model/_logistic.py:469: ConvergenceWarning: lbfgs failed to converge (status=1):\n",
      "STOP: TOTAL NO. OF ITERATIONS REACHED LIMIT.\n",
      "\n",
      "Increase the number of iterations (max_iter) or scale the data as shown in:\n",
      "    https://scikit-learn.org/stable/modules/preprocessing.html\n",
      "Please also refer to the documentation for alternative solver options:\n",
      "    https://scikit-learn.org/stable/modules/linear_model.html#logistic-regression\n",
      "  n_iter_i = _check_optimize_result(\n",
      "/Users/anton/dev/MARS/correctness-model-internals/venv/lib/python3.11/site-packages/sklearn/linear_model/_logistic.py:469: ConvergenceWarning: lbfgs failed to converge (status=1):\n",
      "STOP: TOTAL NO. OF ITERATIONS REACHED LIMIT.\n",
      "\n",
      "Increase the number of iterations (max_iter) or scale the data as shown in:\n",
      "    https://scikit-learn.org/stable/modules/preprocessing.html\n",
      "Please also refer to the documentation for alternative solver options:\n",
      "    https://scikit-learn.org/stable/modules/linear_model.html#logistic-regression\n",
      "  n_iter_i = _check_optimize_result(\n",
      "/Users/anton/dev/MARS/correctness-model-internals/venv/lib/python3.11/site-packages/sklearn/linear_model/_logistic.py:469: ConvergenceWarning: lbfgs failed to converge (status=1):\n",
      "STOP: TOTAL NO. OF ITERATIONS REACHED LIMIT.\n",
      "\n",
      "Increase the number of iterations (max_iter) or scale the data as shown in:\n",
      "    https://scikit-learn.org/stable/modules/preprocessing.html\n",
      "Please also refer to the documentation for alternative solver options:\n",
      "    https://scikit-learn.org/stable/modules/linear_model.html#logistic-regression\n",
      "  n_iter_i = _check_optimize_result(\n"
     ]
    },
    {
     "name": "stdout",
     "output_type": "stream",
     "text": [
      "layer=4, layer=5, layer=6, layer=7, layer=8, layer=9, layer=10, layer=11, layer=12, layer=13, layer=14, layer=15, layer=16, layer=17, layer=18, layer=19, layer=20, layer=21, layer=22, layer=23, layer=24, layer=25, layer=26, layer=27, layer=28, layer=29, layer=30, layer=31, "
     ]
    },
    {
     "data": {
      "text/html": [
       "<div>\n",
       "<style scoped>\n",
       "    .dataframe tbody tr th:only-of-type {\n",
       "        vertical-align: middle;\n",
       "    }\n",
       "\n",
       "    .dataframe tbody tr th {\n",
       "        vertical-align: top;\n",
       "    }\n",
       "\n",
       "    .dataframe thead th {\n",
       "        text-align: right;\n",
       "    }\n",
       "</style>\n",
       "<table border=\"1\" class=\"dataframe\">\n",
       "  <thead>\n",
       "    <tr style=\"text-align: right;\">\n",
       "      <th></th>\n",
       "      <th>model_id_train</th>\n",
       "      <th>dataset_id_train</th>\n",
       "      <th>prompt_id_train</th>\n",
       "      <th>subset_id_train</th>\n",
       "      <th>input_type_train</th>\n",
       "      <th>model_id_test</th>\n",
       "      <th>dataset_id_test</th>\n",
       "      <th>prompt_id_test</th>\n",
       "      <th>subset_id_test</th>\n",
       "      <th>input_type_test</th>\n",
       "      <th>...</th>\n",
       "      <th>direction_f1_score</th>\n",
       "      <th>direction_precision_score</th>\n",
       "      <th>direction_recall_score</th>\n",
       "      <th>logistic_regression_optimal_cut</th>\n",
       "      <th>logistic_regression_optimal_train_set_cut</th>\n",
       "      <th>logistic_regression_test_roc_auc</th>\n",
       "      <th>logistic_regression_accuracy_score</th>\n",
       "      <th>logistic_regression_f1_score</th>\n",
       "      <th>logistic_regression_precision_score</th>\n",
       "      <th>logistic_regression_recall_score</th>\n",
       "    </tr>\n",
       "  </thead>\n",
       "  <tbody>\n",
       "    <tr>\n",
       "      <th>0</th>\n",
       "      <td>llama3.1_8b_chat</td>\n",
       "      <td>birth_years_4k</td>\n",
       "      <td>base</td>\n",
       "      <td>main</td>\n",
       "      <td>prompt_only</td>\n",
       "      <td>llama3.1_8b_chat</td>\n",
       "      <td>birth_years_4k</td>\n",
       "      <td>base</td>\n",
       "      <td>main</td>\n",
       "      <td>prompt_only</td>\n",
       "      <td>...</td>\n",
       "      <td>0.356589</td>\n",
       "      <td>0.766667</td>\n",
       "      <td>0.232323</td>\n",
       "      <td>0.5</td>\n",
       "      <td>0.557746</td>\n",
       "      <td>0.755408</td>\n",
       "      <td>0.717172</td>\n",
       "      <td>0.683616</td>\n",
       "      <td>0.775641</td>\n",
       "      <td>0.611111</td>\n",
       "    </tr>\n",
       "    <tr>\n",
       "      <th>1</th>\n",
       "      <td>llama3.1_8b_chat</td>\n",
       "      <td>birth_years_4k</td>\n",
       "      <td>base</td>\n",
       "      <td>main</td>\n",
       "      <td>prompt_only</td>\n",
       "      <td>llama3.1_8b_chat</td>\n",
       "      <td>birth_years_4k</td>\n",
       "      <td>base</td>\n",
       "      <td>main</td>\n",
       "      <td>prompt_only</td>\n",
       "      <td>...</td>\n",
       "      <td>0.378947</td>\n",
       "      <td>0.593407</td>\n",
       "      <td>0.278351</td>\n",
       "      <td>0.5</td>\n",
       "      <td>0.458819</td>\n",
       "      <td>0.764786</td>\n",
       "      <td>0.706186</td>\n",
       "      <td>0.670520</td>\n",
       "      <td>0.763158</td>\n",
       "      <td>0.597938</td>\n",
       "    </tr>\n",
       "    <tr>\n",
       "      <th>2</th>\n",
       "      <td>llama3.1_8b_chat</td>\n",
       "      <td>birth_years_4k</td>\n",
       "      <td>base</td>\n",
       "      <td>main</td>\n",
       "      <td>prompt_only</td>\n",
       "      <td>llama3.1_8b_chat</td>\n",
       "      <td>birth_years_4k</td>\n",
       "      <td>base</td>\n",
       "      <td>main</td>\n",
       "      <td>prompt_only</td>\n",
       "      <td>...</td>\n",
       "      <td>0.356643</td>\n",
       "      <td>0.554348</td>\n",
       "      <td>0.262887</td>\n",
       "      <td>0.5</td>\n",
       "      <td>0.476146</td>\n",
       "      <td>0.733075</td>\n",
       "      <td>0.698454</td>\n",
       "      <td>0.672269</td>\n",
       "      <td>0.736196</td>\n",
       "      <td>0.618557</td>\n",
       "    </tr>\n",
       "    <tr>\n",
       "      <th>3</th>\n",
       "      <td>llama3.1_8b_chat</td>\n",
       "      <td>birth_years_4k</td>\n",
       "      <td>base</td>\n",
       "      <td>main</td>\n",
       "      <td>prompt_only</td>\n",
       "      <td>llama3.1_8b_chat</td>\n",
       "      <td>birth_years_4k</td>\n",
       "      <td>base</td>\n",
       "      <td>main</td>\n",
       "      <td>prompt_only</td>\n",
       "      <td>...</td>\n",
       "      <td>0.416357</td>\n",
       "      <td>0.674699</td>\n",
       "      <td>0.301075</td>\n",
       "      <td>0.5</td>\n",
       "      <td>0.455187</td>\n",
       "      <td>0.769193</td>\n",
       "      <td>0.720430</td>\n",
       "      <td>0.695906</td>\n",
       "      <td>0.762821</td>\n",
       "      <td>0.639785</td>\n",
       "    </tr>\n",
       "    <tr>\n",
       "      <th>4</th>\n",
       "      <td>llama3.1_8b_chat</td>\n",
       "      <td>birth_years_4k</td>\n",
       "      <td>base</td>\n",
       "      <td>main</td>\n",
       "      <td>prompt_only</td>\n",
       "      <td>llama3.1_8b_chat</td>\n",
       "      <td>birth_years_4k</td>\n",
       "      <td>base</td>\n",
       "      <td>main</td>\n",
       "      <td>prompt_only</td>\n",
       "      <td>...</td>\n",
       "      <td>0.350877</td>\n",
       "      <td>0.549451</td>\n",
       "      <td>0.257732</td>\n",
       "      <td>0.5</td>\n",
       "      <td>0.467110</td>\n",
       "      <td>0.742002</td>\n",
       "      <td>0.695876</td>\n",
       "      <td>0.654971</td>\n",
       "      <td>0.756757</td>\n",
       "      <td>0.577320</td>\n",
       "    </tr>\n",
       "    <tr>\n",
       "      <th>...</th>\n",
       "      <td>...</td>\n",
       "      <td>...</td>\n",
       "      <td>...</td>\n",
       "      <td>...</td>\n",
       "      <td>...</td>\n",
       "      <td>...</td>\n",
       "      <td>...</td>\n",
       "      <td>...</td>\n",
       "      <td>...</td>\n",
       "      <td>...</td>\n",
       "      <td>...</td>\n",
       "      <td>...</td>\n",
       "      <td>...</td>\n",
       "      <td>...</td>\n",
       "      <td>...</td>\n",
       "      <td>...</td>\n",
       "      <td>...</td>\n",
       "      <td>...</td>\n",
       "      <td>...</td>\n",
       "      <td>...</td>\n",
       "      <td>...</td>\n",
       "    </tr>\n",
       "    <tr>\n",
       "      <th>1275</th>\n",
       "      <td>llama3.1_8b_chat</td>\n",
       "      <td>cities_10k</td>\n",
       "      <td>base</td>\n",
       "      <td>main</td>\n",
       "      <td>prompt_answer</td>\n",
       "      <td>llama3.1_8b_chat</td>\n",
       "      <td>cities_10k</td>\n",
       "      <td>base</td>\n",
       "      <td>main</td>\n",
       "      <td>prompt_answer</td>\n",
       "      <td>...</td>\n",
       "      <td>0.658296</td>\n",
       "      <td>0.627350</td>\n",
       "      <td>0.692453</td>\n",
       "      <td>0.5</td>\n",
       "      <td>0.520977</td>\n",
       "      <td>0.925979</td>\n",
       "      <td>0.872642</td>\n",
       "      <td>0.869817</td>\n",
       "      <td>0.889546</td>\n",
       "      <td>0.850943</td>\n",
       "    </tr>\n",
       "    <tr>\n",
       "      <th>1276</th>\n",
       "      <td>llama3.1_8b_chat</td>\n",
       "      <td>cities_10k</td>\n",
       "      <td>base</td>\n",
       "      <td>main</td>\n",
       "      <td>prompt_answer</td>\n",
       "      <td>llama3.1_8b_chat</td>\n",
       "      <td>cities_10k</td>\n",
       "      <td>base</td>\n",
       "      <td>main</td>\n",
       "      <td>prompt_answer</td>\n",
       "      <td>...</td>\n",
       "      <td>0.638596</td>\n",
       "      <td>0.610738</td>\n",
       "      <td>0.669118</td>\n",
       "      <td>0.5</td>\n",
       "      <td>0.556960</td>\n",
       "      <td>0.935221</td>\n",
       "      <td>0.877757</td>\n",
       "      <td>0.874647</td>\n",
       "      <td>0.897485</td>\n",
       "      <td>0.852941</td>\n",
       "    </tr>\n",
       "    <tr>\n",
       "      <th>1277</th>\n",
       "      <td>llama3.1_8b_chat</td>\n",
       "      <td>cities_10k</td>\n",
       "      <td>base</td>\n",
       "      <td>main</td>\n",
       "      <td>prompt_answer</td>\n",
       "      <td>llama3.1_8b_chat</td>\n",
       "      <td>cities_10k</td>\n",
       "      <td>base</td>\n",
       "      <td>main</td>\n",
       "      <td>prompt_answer</td>\n",
       "      <td>...</td>\n",
       "      <td>0.654832</td>\n",
       "      <td>0.640927</td>\n",
       "      <td>0.669355</td>\n",
       "      <td>0.5</td>\n",
       "      <td>0.481759</td>\n",
       "      <td>0.934039</td>\n",
       "      <td>0.868952</td>\n",
       "      <td>0.865424</td>\n",
       "      <td>0.889362</td>\n",
       "      <td>0.842742</td>\n",
       "    </tr>\n",
       "    <tr>\n",
       "      <th>1278</th>\n",
       "      <td>llama3.1_8b_chat</td>\n",
       "      <td>cities_10k</td>\n",
       "      <td>base</td>\n",
       "      <td>main</td>\n",
       "      <td>prompt_answer</td>\n",
       "      <td>llama3.1_8b_chat</td>\n",
       "      <td>cities_10k</td>\n",
       "      <td>base</td>\n",
       "      <td>main</td>\n",
       "      <td>prompt_answer</td>\n",
       "      <td>...</td>\n",
       "      <td>0.616935</td>\n",
       "      <td>0.642857</td>\n",
       "      <td>0.593023</td>\n",
       "      <td>0.5</td>\n",
       "      <td>0.531292</td>\n",
       "      <td>0.921076</td>\n",
       "      <td>0.866279</td>\n",
       "      <td>0.857143</td>\n",
       "      <td>0.920000</td>\n",
       "      <td>0.802326</td>\n",
       "    </tr>\n",
       "    <tr>\n",
       "      <th>1279</th>\n",
       "      <td>llama3.1_8b_chat</td>\n",
       "      <td>cities_10k</td>\n",
       "      <td>base</td>\n",
       "      <td>main</td>\n",
       "      <td>prompt_answer</td>\n",
       "      <td>llama3.1_8b_chat</td>\n",
       "      <td>cities_10k</td>\n",
       "      <td>base</td>\n",
       "      <td>main</td>\n",
       "      <td>prompt_answer</td>\n",
       "      <td>...</td>\n",
       "      <td>0.661247</td>\n",
       "      <td>0.647788</td>\n",
       "      <td>0.675277</td>\n",
       "      <td>0.5</td>\n",
       "      <td>0.520643</td>\n",
       "      <td>0.927530</td>\n",
       "      <td>0.866236</td>\n",
       "      <td>0.856293</td>\n",
       "      <td>0.925054</td>\n",
       "      <td>0.797048</td>\n",
       "    </tr>\n",
       "  </tbody>\n",
       "</table>\n",
       "<p>1280 rows × 26 columns</p>\n",
       "</div>"
      ],
      "text/plain": [
       "        model_id_train dataset_id_train prompt_id_train subset_id_train  \\\n",
       "0     llama3.1_8b_chat   birth_years_4k            base            main   \n",
       "1     llama3.1_8b_chat   birth_years_4k            base            main   \n",
       "2     llama3.1_8b_chat   birth_years_4k            base            main   \n",
       "3     llama3.1_8b_chat   birth_years_4k            base            main   \n",
       "4     llama3.1_8b_chat   birth_years_4k            base            main   \n",
       "...                ...              ...             ...             ...   \n",
       "1275  llama3.1_8b_chat       cities_10k            base            main   \n",
       "1276  llama3.1_8b_chat       cities_10k            base            main   \n",
       "1277  llama3.1_8b_chat       cities_10k            base            main   \n",
       "1278  llama3.1_8b_chat       cities_10k            base            main   \n",
       "1279  llama3.1_8b_chat       cities_10k            base            main   \n",
       "\n",
       "     input_type_train     model_id_test dataset_id_test prompt_id_test  \\\n",
       "0         prompt_only  llama3.1_8b_chat  birth_years_4k           base   \n",
       "1         prompt_only  llama3.1_8b_chat  birth_years_4k           base   \n",
       "2         prompt_only  llama3.1_8b_chat  birth_years_4k           base   \n",
       "3         prompt_only  llama3.1_8b_chat  birth_years_4k           base   \n",
       "4         prompt_only  llama3.1_8b_chat  birth_years_4k           base   \n",
       "...               ...               ...             ...            ...   \n",
       "1275    prompt_answer  llama3.1_8b_chat      cities_10k           base   \n",
       "1276    prompt_answer  llama3.1_8b_chat      cities_10k           base   \n",
       "1277    prompt_answer  llama3.1_8b_chat      cities_10k           base   \n",
       "1278    prompt_answer  llama3.1_8b_chat      cities_10k           base   \n",
       "1279    prompt_answer  llama3.1_8b_chat      cities_10k           base   \n",
       "\n",
       "     subset_id_test input_type_test  ...  direction_f1_score  \\\n",
       "0              main     prompt_only  ...            0.356589   \n",
       "1              main     prompt_only  ...            0.378947   \n",
       "2              main     prompt_only  ...            0.356643   \n",
       "3              main     prompt_only  ...            0.416357   \n",
       "4              main     prompt_only  ...            0.350877   \n",
       "...             ...             ...  ...                 ...   \n",
       "1275           main   prompt_answer  ...            0.658296   \n",
       "1276           main   prompt_answer  ...            0.638596   \n",
       "1277           main   prompt_answer  ...            0.654832   \n",
       "1278           main   prompt_answer  ...            0.616935   \n",
       "1279           main   prompt_answer  ...            0.661247   \n",
       "\n",
       "      direction_precision_score  direction_recall_score  \\\n",
       "0                      0.766667                0.232323   \n",
       "1                      0.593407                0.278351   \n",
       "2                      0.554348                0.262887   \n",
       "3                      0.674699                0.301075   \n",
       "4                      0.549451                0.257732   \n",
       "...                         ...                     ...   \n",
       "1275                   0.627350                0.692453   \n",
       "1276                   0.610738                0.669118   \n",
       "1277                   0.640927                0.669355   \n",
       "1278                   0.642857                0.593023   \n",
       "1279                   0.647788                0.675277   \n",
       "\n",
       "      logistic_regression_optimal_cut  \\\n",
       "0                                 0.5   \n",
       "1                                 0.5   \n",
       "2                                 0.5   \n",
       "3                                 0.5   \n",
       "4                                 0.5   \n",
       "...                               ...   \n",
       "1275                              0.5   \n",
       "1276                              0.5   \n",
       "1277                              0.5   \n",
       "1278                              0.5   \n",
       "1279                              0.5   \n",
       "\n",
       "      logistic_regression_optimal_train_set_cut  \\\n",
       "0                                      0.557746   \n",
       "1                                      0.458819   \n",
       "2                                      0.476146   \n",
       "3                                      0.455187   \n",
       "4                                      0.467110   \n",
       "...                                         ...   \n",
       "1275                                   0.520977   \n",
       "1276                                   0.556960   \n",
       "1277                                   0.481759   \n",
       "1278                                   0.531292   \n",
       "1279                                   0.520643   \n",
       "\n",
       "      logistic_regression_test_roc_auc  logistic_regression_accuracy_score  \\\n",
       "0                             0.755408                            0.717172   \n",
       "1                             0.764786                            0.706186   \n",
       "2                             0.733075                            0.698454   \n",
       "3                             0.769193                            0.720430   \n",
       "4                             0.742002                            0.695876   \n",
       "...                                ...                                 ...   \n",
       "1275                          0.925979                            0.872642   \n",
       "1276                          0.935221                            0.877757   \n",
       "1277                          0.934039                            0.868952   \n",
       "1278                          0.921076                            0.866279   \n",
       "1279                          0.927530                            0.866236   \n",
       "\n",
       "      logistic_regression_f1_score  logistic_regression_precision_score  \\\n",
       "0                         0.683616                             0.775641   \n",
       "1                         0.670520                             0.763158   \n",
       "2                         0.672269                             0.736196   \n",
       "3                         0.695906                             0.762821   \n",
       "4                         0.654971                             0.756757   \n",
       "...                            ...                                  ...   \n",
       "1275                      0.869817                             0.889546   \n",
       "1276                      0.874647                             0.897485   \n",
       "1277                      0.865424                             0.889362   \n",
       "1278                      0.857143                             0.920000   \n",
       "1279                      0.856293                             0.925054   \n",
       "\n",
       "      logistic_regression_recall_score  \n",
       "0                             0.611111  \n",
       "1                             0.597938  \n",
       "2                             0.618557  \n",
       "3                             0.639785  \n",
       "4                             0.577320  \n",
       "...                                ...  \n",
       "1275                          0.850943  \n",
       "1276                          0.852941  \n",
       "1277                          0.842742  \n",
       "1278                          0.802326  \n",
       "1279                          0.797048  \n",
       "\n",
       "[1280 rows x 26 columns]"
      ]
     },
     "execution_count": 7,
     "metadata": {},
     "output_type": "execute_result"
    }
   ],
   "source": [
    "\n",
    "res_dict = defaultdict(list)\n",
    "\n",
    "for input_type in [\"prompt_only\", \"prompt_answer\"]:\n",
    "    activation_exp_configs_df_ = activation_exp_configs_df[activation_exp_configs_df[\"input_type\"] == input_type]\n",
    "    for (model_id_train, dataset_id_train, prompt_id_train, subset_id_train, input_type_train), _ in activation_exp_configs_df_.groupby([\"model_id\", \"dataset_id\", \"prompt_id\", \"subset_id\", \"input_type\"]):\n",
    "        for (model_id_test, dataset_id_test, prompt_id_test, subset_id_test, input_type_test), config_df in activation_exp_configs_df_.groupby([\"model_id\", \"dataset_id\", \"prompt_id\", \"subset_id\", \"input_type\"]):\n",
    "            print(f\"\\n{model_id_train=}, {dataset_id_train=}, {prompt_id_train=}, {subset_id_train=}, {input_type_train=}\")\n",
    "            print(f\"\\n{model_id_test=}, {dataset_id_test=}, {prompt_id_test=}, {subset_id_test=}, {input_type_test=}\")\n",
    "            labels_df_train = load_labels(\n",
    "                base_path=BASE_PATH,\n",
    "                model_id=model_id_train,\n",
    "                dataset_id=dataset_id_train,\n",
    "                prompt_id=prompt_id_train,\n",
    "                subset_id=subset_id_train,\n",
    "            )\n",
    "\n",
    "            labels_df_test = load_labels(\n",
    "                base_path=BASE_PATH,\n",
    "                model_id=model_id_test,\n",
    "                dataset_id=dataset_id_test,\n",
    "                prompt_id=prompt_id_test,\n",
    "                subset_id=subset_id_test,\n",
    "            )\n",
    "\n",
    "            check_indices_train, check_indices_test = None, None\n",
    "            for layer in config_df[\"layer\"].astype(int).sort_values():\n",
    "                print(f\"{layer=}\", end=\", \")\n",
    "                activations_train, indices_train = load_activations(\n",
    "                    base_path=BASE_PATH,\n",
    "                    model_id=model_id_train,\n",
    "                    dataset_id=dataset_id_train,\n",
    "                    prompt_id=prompt_id_train,\n",
    "                    subset_id=subset_id_train,\n",
    "                    input_type=input_type_train,\n",
    "                    layer=layer,\n",
    "                )\n",
    "                activations_test, indices_test = load_activations(\n",
    "                    base_path=BASE_PATH,\n",
    "                    model_id=model_id_test,\n",
    "                    dataset_id=dataset_id_test,\n",
    "                    prompt_id=prompt_id_test,\n",
    "                    subset_id=subset_id_test,\n",
    "                    input_type=input_type_test,\n",
    "                    layer=layer,\n",
    "                )\n",
    "                \n",
    "                if check_indices_train is None:\n",
    "                    check_indices_train = indices_train.sample(frac=1, replace=False)\n",
    "                \n",
    "                if set(indices_train) != set(check_indices_train):\n",
    "                    raise RuntimeError(f\"indices across layers are not the same\")\n",
    "\n",
    "                labels_df_subset_train = labels_df_train.iloc[check_indices_train]\n",
    "                activations_train = activations_train[check_indices_train]\n",
    "                \n",
    "                activations_handler_train = ActivationsHandler(\n",
    "                    activations=activations_train,\n",
    "                    labels=labels_df_subset_train[\"correct\"].astype(bool),\n",
    "                )\n",
    "\n",
    "                activations_handler_folds_train = list(\n",
    "                    activations_handler_train.split_dataset(split_sizes=[1/5] * 5)\n",
    "                )\n",
    "\n",
    "                if check_indices_test is None:\n",
    "                    check_indices_test = indices_test.sample(frac=1, replace=False)\n",
    "                \n",
    "                if set(indices_test) != set(check_indices_test):\n",
    "                    raise RuntimeError(f\"indices across layers are not the same\")\n",
    "\n",
    "\n",
    "                labels_df_subset_test = labels_df_test.iloc[check_indices_test]\n",
    "                activations_test = activations_test[check_indices_test]\n",
    "\n",
    "                activations_handler_test = ActivationsHandler(\n",
    "                    activations=activations_test,\n",
    "                    labels=labels_df_subset_test[\"correct\"].astype(bool),\n",
    "                )\n",
    "\n",
    "                activations_handler_folds_test = list(\n",
    "                    activations_handler_test.split_dataset(split_sizes=[1/5] * 5)\n",
    "                )\n",
    "\n",
    "                fold_stats = {}\n",
    "                for fold_i in range(5):\n",
    "                    train_folds = [ah for j, ah in enumerate(activations_handler_folds_train) if j != fold_i]\n",
    "                    activations_handler_test = activations_handler_folds_test[fold_i]\n",
    "                # for fold_i, activations_handler_test in enumerate(activations_handler_folds_train):\n",
    "                    activations_handler_train = combine_activations_handlers(\n",
    "                        [ah for j, ah in enumerate(activations_handler_folds_train) if j != fold_i]\n",
    "                    )\n",
    "                    \n",
    "                    activations_handler_train, pca_info = activations_handler_train.reduce_dims(pca_components=PCA_COMPONENTS)\n",
    "                    \n",
    "                    activations_handler_train = activations_handler_train.sample_equally_across_groups(\n",
    "                        group_labels=[False, True]\n",
    "                    )\n",
    "                    activations_handler_test, _ = activations_handler_test.reduce_dims(pca_components=PCA_COMPONENTS, pca_info=pca_info)\n",
    "                    activations_handler_test = activations_handler_test.sample_equally_across_groups(\n",
    "                        group_labels=[False, True]\n",
    "                    )\n",
    "\n",
    "                    res_dict[\"model_id_train\"].append(model_id_train)\n",
    "                    res_dict[\"dataset_id_train\"].append(dataset_id_train)\n",
    "                    res_dict[\"prompt_id_train\"].append(prompt_id_train)\n",
    "                    res_dict[\"subset_id_train\"].append(subset_id_train)\n",
    "                    res_dict[\"input_type_train\"].append(input_type_train)\n",
    "                    res_dict[\"model_id_test\"].append(model_id_test)\n",
    "                    res_dict[\"dataset_id_test\"].append(dataset_id_test)\n",
    "                    res_dict[\"prompt_id_test\"].append(prompt_id_test)\n",
    "                    res_dict[\"subset_id_test\"].append(subset_id_test)\n",
    "                    res_dict[\"input_type_test\"].append(input_type_test)\n",
    "                    res_dict[\"layer\"].append(layer)\n",
    "                    res_dict[\"fold\"].append(fold_i)\n",
    "\n",
    "                    direction_classifier, direction_calculator = get_correctness_direction_classifier(\n",
    "                        activations_handler_train=activations_handler_train,\n",
    "                        activations_handler_test=activations_handler_test,\n",
    "                    )\n",
    "                    # res_dict[\"classifying_direction\"].append(direction_calculator.classifying_direction.tolist())\n",
    "                    for key, value in direction_classifier.classification_metrics.items():\n",
    "                        res_dict[f\"direction_{key}\"].append(value)\n",
    "                    \n",
    "                    for key, value in get_logistic_regression_classifier(\n",
    "                            activations_handler_train=activations_handler_train,\n",
    "                            activations_handler_test=activations_handler_test,\n",
    "                        )[0].classification_metrics.items():\n",
    "                        res_dict[f\"logistic_regression_{key}\"].append(value)\n",
    "\n",
    "\n",
    "\n",
    "res_df = pd.DataFrame(res_dict)\n",
    "res_df"
   ]
  },
  {
   "cell_type": "code",
   "execution_count": 8,
   "metadata": {},
   "outputs": [],
   "source": [
    "res_file = f\"./classification_data/res_df_llama31_8B_train_test_different_datasets{PCA_COMONENTS_LABEL}.csv\""
   ]
  },
  {
   "cell_type": "code",
   "execution_count": 9,
   "metadata": {},
   "outputs": [],
   "source": [
    "res_df.to_csv(res_file, index=False)"
   ]
  },
  {
   "cell_type": "code",
   "execution_count": 10,
   "metadata": {},
   "outputs": [],
   "source": [
    "res_df = pd.read_csv(res_file)"
   ]
  },
  {
   "cell_type": "code",
   "execution_count": null,
   "metadata": {},
   "outputs": [],
   "source": []
  },
  {
   "cell_type": "code",
   "execution_count": 13,
   "metadata": {},
   "outputs": [
    {
     "name": "stdout",
     "output_type": "stream",
     "text": [
      "conf=('llama3.1_8b_chat', 'birth_years_4k', 'base', 'main', 'prompt_answer', 'llama3.1_8b_chat', 'birth_years_4k', 'base', 'main', 'prompt_answer')\n",
      "conf=('llama3.1_8b_chat', 'birth_years_4k', 'base', 'main', 'prompt_answer', 'llama3.1_8b_chat', 'cities_10k', 'base', 'main', 'prompt_answer')\n",
      "conf=('llama3.1_8b_chat', 'birth_years_4k', 'base', 'main', 'prompt_only', 'llama3.1_8b_chat', 'birth_years_4k', 'base', 'main', 'prompt_only')\n",
      "conf=('llama3.1_8b_chat', 'birth_years_4k', 'base', 'main', 'prompt_only', 'llama3.1_8b_chat', 'cities_10k', 'base', 'main', 'prompt_only')\n",
      "conf=('llama3.1_8b_chat', 'cities_10k', 'base', 'main', 'prompt_answer', 'llama3.1_8b_chat', 'birth_years_4k', 'base', 'main', 'prompt_answer')\n",
      "conf=('llama3.1_8b_chat', 'cities_10k', 'base', 'main', 'prompt_answer', 'llama3.1_8b_chat', 'cities_10k', 'base', 'main', 'prompt_answer')\n",
      "conf=('llama3.1_8b_chat', 'cities_10k', 'base', 'main', 'prompt_only', 'llama3.1_8b_chat', 'birth_years_4k', 'base', 'main', 'prompt_only')\n",
      "conf=('llama3.1_8b_chat', 'cities_10k', 'base', 'main', 'prompt_only', 'llama3.1_8b_chat', 'cities_10k', 'base', 'main', 'prompt_only')\n"
     ]
    },
    {
     "data": {
      "application/vnd.plotly.v1+json": {
       "config": {
        "plotlyServerURL": "https://plot.ly"
       },
       "data": [
        {
         "legendgroup": "('llama3.1_8b_chat', 'birth_years_4k', 'base', 'main', 'prompt_answer', 'llama3.1_8b_chat', 'birth_years_4k', 'base', 'main', 'prompt_answer')",
         "line": {
          "color": "#1f77b4",
          "width": 2
         },
         "marker": {
          "size": 8
         },
         "mode": "lines+markers",
         "name": "('llama3.1_8b_chat', 'birth_years_4k', 'base', 'main', 'prompt_answer', 'llama3.1_8b_chat', 'birth_years_4k', 'base', 'main', 'prompt_answer')",
         "type": "scatter",
         "x": {
          "bdata": "AAECAwQFBgcICQoLDA0ODxAREhMUFRYXGBkaGxwdHh8=",
          "dtype": "i1"
         },
         "y": {
          "bdata": "sr3bw7dU4j9Grr/CiIriP/e04nc0z+I/0xkSMF4+4z9GPsca6pnjP21iNWvzm+M/d0HQAIgT5D+x3ghuqb/kP6PsJqk9U+U/vhhUQaHM5T/aOI4SDpDlP16AOPGoIuY/booe2OzE5j8Jjv5/ejjnP85wgHyY7Og/XaWZWoCv6D+6wCEVZ4rpP+oxKBQ2Duo/teUd55Ev6j8dJ3k3ZffpP+JZKkPLzOk/FHNgprLO6D+k+PGCJoTnPwoBmD6YvuY/4hYKMlqS5j8Ke3lHOcPmP3/alsZx8OY/ZtnPQ09i5z/YsOD0FpPnP77EUfRACug/NoWCyN936D/4rx1kuZviPw==",
          "dtype": "f8"
         }
        },
        {
         "legendgroup": "('llama3.1_8b_chat', 'birth_years_4k', 'base', 'main', 'prompt_answer', 'llama3.1_8b_chat', 'birth_years_4k', 'base', 'main', 'prompt_answer')",
         "line": {
          "width": 0
         },
         "mode": "lines",
         "name": "('llama3.1_8b_chat', 'birth_years_4k', 'base', 'main', 'prompt_answer', 'llama3.1_8b_chat', 'birth_years_4k', 'base', 'main', 'prompt_answer') Max",
         "showlegend": false,
         "type": "scatter",
         "x": {
          "bdata": "AAECAwQFBgcICQoLDA0ODxAREhMUFRYXGBkaGxwdHh8=",
          "dtype": "i1"
         },
         "y": {
          "bdata": "vjA30+CN4z9192dt7vPjP2LnUlB4DOQ/utzpSLJ75D8YnWDfhynlP9LWYUzu9eQ/cdUhV/Jh5T/Yo6IKlBfmP9F4dsWnnuY/PODPorIS5z8sE+UEbfTmP4LFUX52muc/h6+0ZDwt6D/rudqIKKjoP4Wg8nlIx+k/xDlkp+ue6T+5aWAbdD/qPx3HcRzHu+o/OI7jOI4X6z/jOI7jOLzqP6nvbNR3Nuo/4SrO7XyK6T+RgWLul0HoP0Wwr5TdiOc/AnS3MXNe5z9sseUCh5PnP7O6lXTS6Oc/QFxk3uGD6D+yhCfLx8ToPwaSlD5kP+k/DPm7agfA6T/Jb4mk7CfjPw==",
          "dtype": "f8"
         }
        },
        {
         "fill": "tonexty",
         "fillcolor": "rgba(31, 119, 180, 0.1)",
         "legendgroup": "('llama3.1_8b_chat', 'birth_years_4k', 'base', 'main', 'prompt_answer', 'llama3.1_8b_chat', 'birth_years_4k', 'base', 'main', 'prompt_answer')",
         "line": {
          "width": 0
         },
         "mode": "lines",
         "name": "('llama3.1_8b_chat', 'birth_years_4k', 'base', 'main', 'prompt_answer', 'llama3.1_8b_chat', 'birth_years_4k', 'base', 'main', 'prompt_answer') Min",
         "showlegend": false,
         "type": "scatter",
         "x": {
          "bdata": "AAECAwQFBgcICQoLDA0ODxAREhMUFRYXGBkaGxwdHh8=",
          "dtype": "i1"
         },
         "y": {
          "bdata": "AAAAAAAm4T/HcRzHcTThP+M4juM4wOE/x3Ecx3EM4j85juM4joHiP26YSjxbj+I/FjlTe6Af4z8DbAoR1LnjPzmO4ziOleQ/xnEcx3EK5T/HcRzHcdTkP1VVVVVVU+U/5DiO4zja5T+P4ziO417mPxooJX/TRug/no5taF0G6D9WYlUEAOXoPyK6Tbl41eg/fKuRaHzg6D/uJzNGn6XoP89T01R/qug/WtDkYRM96D+wKH0zM/7mP6PCUl2NO+Y/UuKEgvzu5T/M8MCmPCnmP4fY87ltWuY/0yil+lyy5j+H9T+BtujmP0+AlYnJU+c/3Hj00qab5z/ISAzWKTfiPw==",
          "dtype": "f8"
         }
        },
        {
         "legendgroup": "('llama3.1_8b_chat', 'birth_years_4k', 'base', 'main', 'prompt_answer', 'llama3.1_8b_chat', 'birth_years_4k', 'base', 'main', 'prompt_answer')",
         "line": {
          "width": 0
         },
         "mode": "lines",
         "name": "('llama3.1_8b_chat', 'birth_years_4k', 'base', 'main', 'prompt_answer', 'llama3.1_8b_chat', 'birth_years_4k', 'base', 'main', 'prompt_answer') +1 STD",
         "showlegend": false,
         "type": "scatter",
         "x": {
          "bdata": "AAECAwQFBgcICQoLDA0ODxAREhMUFRYXGBkaGxwdHh8=",
          "dtype": "i1"
         },
         "y": {
          "bdata": "IgFRqHpC4z8n1aSnnprjP75DwDMQtOM/V0zpJms65D+DEB3/j7nkP6T4DYs3lOQ/1n1oDOoE5T/tHAyxkLjlPxvH0mMoF+Y/f8x5y7yS5j+Bt+uGqWfmP7ZfwAEs/+Y/rBVTQ1Og5z+k62OAIBPoP9X92Bl1euk/ED+YB05I6T/Q09JkohHqPxQfvcudyOo/pYXFQUME6z8GBNC2/sPqP9u+GmzpdOo/Wq/jD4tY6T/H9l+e5P7nPxydpr9ASec/2p3v+QEr5z9CP4g5SV/nPy5cg5Q8mOc/7aqSEI0a6D+Y6fItj1LoP4DEaIO3yOg/6KnElmxG6T8IkyXtA/niPw==",
          "dtype": "f8"
         }
        },
        {
         "fill": "tonexty",
         "fillcolor": "rgba(31, 119, 180, 0.3)",
         "legendgroup": "('llama3.1_8b_chat', 'birth_years_4k', 'base', 'main', 'prompt_answer', 'llama3.1_8b_chat', 'birth_years_4k', 'base', 'main', 'prompt_answer')",
         "line": {
          "width": 0
         },
         "mode": "lines",
         "name": "('llama3.1_8b_chat', 'birth_years_4k', 'base', 'main', 'prompt_answer', 'llama3.1_8b_chat', 'birth_years_4k', 'base', 'main', 'prompt_answer') -1 STD",
         "showlegend": false,
         "type": "scatter",
         "x": {
          "bdata": "AAECAwQFBgcICQoLDA0ODxAREhMUFRYXGBkaGxwdHh8=",
          "dtype": "i1"
         },
         "y": {
          "bdata": "Qnpm3/Rm4T9lh9rdcnrhPzAmBbxY6uE/T+c6OVFC4j8JbHE2RHriPzbMXEuvo+I/GAU49SUi4z91oAUrwsbjPysSe+5Sj+Q//WQut4UG5T8zujCecrjkPwahsOAlRuU/MP/pbIbp5T9uMJl/1F3mP8fjJ9+7Xug/qgubrbIW6D+krXDFKwPpP8BEk1zOU+k/xUV2jOBa6T80SiK4yyrpP+n0ORqtJOk/zjbdPNpE6D+B+oNnaAnnP/hkib3vM+Y/6o8karL55T/StmpVKSfmP9BYqvimSOY/3wcNdxGq5j8YeM67ntPmP/zEOmXKS+c/hGBA+lKp5z/ozBXbbj7iPw==",
          "dtype": "f8"
         }
        },
        {
         "legendgroup": "('llama3.1_8b_chat', 'birth_years_4k', 'base', 'main', 'prompt_answer', 'llama3.1_8b_chat', 'birth_years_4k', 'base', 'main', 'prompt_answer')",
         "marker": {
          "color": "#1f77b4",
          "opacity": 0.5,
          "size": 6
         },
         "mode": "markers",
         "name": "('llama3.1_8b_chat', 'birth_years_4k', 'base', 'main', 'prompt_answer', 'llama3.1_8b_chat', 'birth_years_4k', 'base', 'main', 'prompt_answer') Fold ('direction_test_roc_auc', 0)",
         "showlegend": false,
         "type": "scatter",
         "x": {
          "bdata": "AAECAwQFBgcICQoLDA0ODxAREhMUFRYXGBkaGxwdHh8=",
          "dtype": "i1"
         },
         "y": {
          "bdata": "AAAAAAAm4T/HcRzHcTThP+M4juM4wOE/x3Ecx3EM4j85juM4joHiP6qqqqqq4OI/cRzHcRxH4z+P4ziO4/LjPzmO4ziOleQ/xnEcx3EK5T/HcRzHcdTkP1VVVVVVU+U/5DiO4zja5T+P4ziO417mP3Icx3Ecr+g/VlVVVVVt6D/GcRzHcVTpPx3HcRzHu+o/OI7jOI4X6z/jOI7jOLzqP1VVVVVVJeo/Oo7jOI5R6D8dx3Ecx0XnPziO4ziOteY///////+l5j+O4ziO47DmPzmO4ziOu+Y/VlVVVVUn5z/kOI7jODznPzqO4ziOm+c/q6qqqqoA6D9WVVVVVWniPw==",
          "dtype": "f8"
         }
        },
        {
         "legendgroup": "('llama3.1_8b_chat', 'birth_years_4k', 'base', 'main', 'prompt_answer', 'llama3.1_8b_chat', 'birth_years_4k', 'base', 'main', 'prompt_answer')",
         "marker": {
          "color": "#1f77b4",
          "opacity": 0.5,
          "size": 6
         },
         "mode": "markers",
         "name": "('llama3.1_8b_chat', 'birth_years_4k', 'base', 'main', 'prompt_answer', 'llama3.1_8b_chat', 'birth_years_4k', 'base', 'main', 'prompt_answer') Fold ('direction_test_roc_auc', 1)",
         "showlegend": false,
         "type": "scatter",
         "x": {
          "bdata": "AAECAwQFBgcICQoLDA0ODxAREhMUFRYXGBkaGxwdHh8=",
          "dtype": "i1"
         },
         "y": {
          "bdata": "/FYR96a64T/CmECIFdjhPyO9mSJsROI/YiOSfaKb4j8WBhrcqbHiP26YSjxbj+I/FjlTe6Af4z8DbAoR1LnjP34pf7h/PeU/LrRkkSHb5T9liDSysqPlP/aAgSE+5eU/V3kADDmS5j8ieURh+gPnPxooJX/TRug/no5taF0G6D9WYlUEAOXoPyK6Tbl41eg/fKuRaHzg6D/uJzNGn6XoP89T01R/qug/WtDkYRM96D+wKH0zM/7mP6PCUl2NO+Y/yKx7crcJ5j/gaiQaHzjmP4fY87ltWuY/0yil+lyy5j+H9T+BtujmP0+AlYnJU+c/3Hj00qab5z+CVgW+FMTiPw==",
          "dtype": "f8"
         }
        },
        {
         "legendgroup": "('llama3.1_8b_chat', 'birth_years_4k', 'base', 'main', 'prompt_answer', 'llama3.1_8b_chat', 'birth_years_4k', 'base', 'main', 'prompt_answer')",
         "marker": {
          "color": "#1f77b4",
          "opacity": 0.5,
          "size": 6
         },
         "mode": "markers",
         "name": "('llama3.1_8b_chat', 'birth_years_4k', 'base', 'main', 'prompt_answer', 'llama3.1_8b_chat', 'birth_years_4k', 'base', 'main', 'prompt_answer') Fold ('direction_test_roc_auc', 2)",
         "showlegend": false,
         "type": "scatter",
         "x": {
          "bdata": "AAECAwQFBgcICQoLDA0ODxAREhMUFRYXGBkaGxwdHh8=",
          "dtype": "i1"
         },
         "y": {
          "bdata": "vjA30+CN4z9192dt7vPjP2LnUlB4DOQ/utzpSLJ75D8YnWDfhynlP9LWYUzu9eQ/cdUhV/Jh5T/Yo6IKlBfmP9F4dsWnnuY/PODPorIS5z8sE+UEbfTmP4LFUX52muc/h6+0ZDwt6D/rudqIKKjoP4Wg8nlIx+k/xDlkp+ue6T+5aWAbdD/qPzsk+ZQlZOo/W6tKpah06j9tWbL6wz7qP+TyvCuhL+o/Iiggcd8G6T8MvppoHGTnP54RtuvWQ+Y/UuKEgvzu5T/M8MCmPCnmP8ZX6HzTauY/M3AYvovt5j+ZDJL9+iLnP1dPeZlR1uc/bQbHHV2H6D9wC6RmHn7iPw==",
          "dtype": "f8"
         }
        },
        {
         "legendgroup": "('llama3.1_8b_chat', 'birth_years_4k', 'base', 'main', 'prompt_answer', 'llama3.1_8b_chat', 'birth_years_4k', 'base', 'main', 'prompt_answer')",
         "marker": {
          "color": "#1f77b4",
          "opacity": 0.5,
          "size": 6
         },
         "mode": "markers",
         "name": "('llama3.1_8b_chat', 'birth_years_4k', 'base', 'main', 'prompt_answer', 'llama3.1_8b_chat', 'birth_years_4k', 'base', 'main', 'prompt_answer') Fold ('direction_test_roc_auc', 3)",
         "showlegend": false,
         "type": "scatter",
         "x": {
          "bdata": "AAECAwQFBgcICQoLDA0ODxAREhMUFRYXGBkaGxwdHh8=",
          "dtype": "i1"
         },
         "y": {
          "bdata": "lXytxyV64j/Rslm6uAbjP+wjiliESuM/jX48Nqzy4z9Ng7MTllHkPw8EvQFRJeQ/JV/rcYme5D9QqWv/5EjlP6i5/iptEuU/Nqzykoxj5T/37rL43vzkP7RJBPtK2eU/jQKqJdt95j9Uif+Dbe/mP2rJdp+g1ug/+i8iOTOG6D9uc5x6HlnpP70/mq1mSuo/3NaCN4GF6j8Fmm8dwlXqP6nvbNR3Nuo/4SrO7XyK6T+RgWLul0HoP0Wwr5TdiOc/AnS3MXNe5z9sseUCh5PnP7O6lXTS6Oc/QFxk3uGD6D+yhCfLx8ToPwaSlD5kP+k/DPm7agfA6T/ISAzWKTfiPw==",
          "dtype": "f8"
         }
        },
        {
         "legendgroup": "('llama3.1_8b_chat', 'birth_years_4k', 'base', 'main', 'prompt_answer', 'llama3.1_8b_chat', 'birth_years_4k', 'base', 'main', 'prompt_answer')",
         "marker": {
          "color": "#1f77b4",
          "opacity": 0.5,
          "size": 6
         },
         "mode": "markers",
         "name": "('llama3.1_8b_chat', 'birth_years_4k', 'base', 'main', 'prompt_answer', 'llama3.1_8b_chat', 'birth_years_4k', 'base', 'main', 'prompt_answer') Fold ('direction_test_roc_auc', 4)",
         "showlegend": false,
         "type": "scatter",
         "x": {
          "bdata": "AAECAwQFBgcICQoLDA0ODxAREhMUFRYXGBkaGxwdHh8=",
          "dtype": "i1"
         },
         "y": {
          "bdata": "J7BUQem+4j+Ssp9Wfa3iP4CHaKhksOI/spCFLGQh4z+pgtJ9PFPjPyjO9uJ7gOM/OL3pTW/64z+7vNp8HrHkP/606msRHOU/UclguFOj5T/wH97l1WblP0+c7cX3AOY/2k+rvhbB5j87JqGD8B/nP5GFLGQhC+k/Ie22JrDU6D9lEjoI/+HpP1QUdkxCB+o/nMBSBaX76T9Ob3rTm97pP7c1gaUKyuk/y40rRn/p6D/Lq83nEavnP3PyWyIp++Y/Tm9605ve5j+QdlsTWCrnP0DLnPyWSOc/YvSXZmyg5z+CtNuawNLnP8znESs3Lug/DHdq5Khz6D/Jb4mk7CfjPw==",
          "dtype": "f8"
         }
        },
        {
         "legendgroup": "('llama3.1_8b_chat', 'birth_years_4k', 'base', 'main', 'prompt_answer', 'llama3.1_8b_chat', 'cities_10k', 'base', 'main', 'prompt_answer')",
         "line": {
          "color": "#ff7f0e",
          "width": 2
         },
         "marker": {
          "size": 8
         },
         "mode": "lines+markers",
         "name": "('llama3.1_8b_chat', 'birth_years_4k', 'base', 'main', 'prompt_answer', 'llama3.1_8b_chat', 'cities_10k', 'base', 'main', 'prompt_answer')",
         "type": "scatter",
         "x": {
          "bdata": "AAECAwQFBgcICQoLDA0ODxAREhMUFRYXGBkaGxwdHh8=",
          "dtype": "i1"
         },
         "y": {
          "bdata": "v9bDGPmo4D/GnRSXWnPhP7v0iAggx94/JkMFanpG4D+wca0r7TbgP5BpY+kQS94/7saqOBd13z/eFLcbhxDfP4b3JpAwU90/CuB5ohKI3D8AFl7umTHfP2jZQwVDSuE/vR3wi11Y4T8lys22oUTiPwVueSDsEeM/LgaUz2oS5T8I1JwHNk/lP+O3GYJpwOQ/HdAo9f9H5D/c1Jq1NP/jP4IL5BufCeQ/UvHq+VN94z+sZ4b/tx3jP6mFnFQ0beI/TmI8jrPo4j+RLsWb44zjP94KP2Ksp+M/6AjFIqat4z/x4j4NaSvkP028h5Zt+eM/pJeM7Ku04z8uPbo9forgPw==",
          "dtype": "f8"
         }
        },
        {
         "legendgroup": "('llama3.1_8b_chat', 'birth_years_4k', 'base', 'main', 'prompt_answer', 'llama3.1_8b_chat', 'cities_10k', 'base', 'main', 'prompt_answer')",
         "line": {
          "width": 0
         },
         "mode": "lines",
         "name": "('llama3.1_8b_chat', 'birth_years_4k', 'base', 'main', 'prompt_answer', 'llama3.1_8b_chat', 'cities_10k', 'base', 'main', 'prompt_answer') Max",
         "showlegend": false,
         "type": "scatter",
         "x": {
          "bdata": "AAECAwQFBgcICQoLDA0ODxAREhMUFRYXGBkaGxwdHh8=",
          "dtype": "i1"
         },
         "y": {
          "bdata": "ygcqb66Q4T8oHKy42RniPyT0xm2jSuA/QhuiVNX24D+kSpo508zgP+cmR8SMYd8/YexgwCnI4D9Oc+nkupDgP6kyWWs0gt8/LuOqgNB53j/5g3tW1q/gP/qiHgvKVuI/kQQiARtd4j8UhsBhFUrjP8xji0xZruM/4P0QXCja5T9yma02+vvlP2p4MZCqfeU/QnS4zFYb5T9XT/dcEuzkP+JF0fyw6uQ/kj4B+7hV5D9Xue3a6vHjP30HJnO6IOM/tzzWKH+T4z9UOyUnYkLkP5qX0Ay8peQ/IEdObEb55D/MDMPlLA/lP+472tQA+eQ/jPUTNFUi5D9/8aCUya/hPw==",
          "dtype": "f8"
         }
        },
        {
         "fill": "tonexty",
         "fillcolor": "rgba(255, 127, 14, 0.1)",
         "legendgroup": "('llama3.1_8b_chat', 'birth_years_4k', 'base', 'main', 'prompt_answer', 'llama3.1_8b_chat', 'cities_10k', 'base', 'main', 'prompt_answer')",
         "line": {
          "width": 0
         },
         "mode": "lines",
         "name": "('llama3.1_8b_chat', 'birth_years_4k', 'base', 'main', 'prompt_answer', 'llama3.1_8b_chat', 'cities_10k', 'base', 'main', 'prompt_answer') Min",
         "showlegend": false,
         "type": "scatter",
         "x": {
          "bdata": "AAECAwQFBgcICQoLDA0ODxAREhMUFRYXGBkaGxwdHh8=",
          "dtype": "i1"
         },
         "y": {
          "bdata": "iuAShw6H3j+Kcu0TXazgP12Ik/5/kt0/gNfbmgZU3z/RytaKp/veP98NoKt3C90/Q/dYQmaZ3T9+5nTJ74fcP9+q/P6fz9s/Oro33nh+2z988OQrUSjePxvji6YnseA/o1GP0zxz4D92uIs2oabhP9hGAkMJf+I/qgngBM4o5D9uZ2z7PG3kP+i/u8mx7OM/9n71zMds4z+HY0MtEfTiP2iqh7y58uI/DviOJN9q4j+I5AsUqgfiP+RgCyVnZuE/OWGnyabd4T9DvSFG12/iP9a+aazOn+I/lvaQ7UlQ4j9Cacg3B/riPwhb2CjbV+I/Bf+3VIYU4z8jmxSM1MrfPw==",
          "dtype": "f8"
         }
        },
        {
         "legendgroup": "('llama3.1_8b_chat', 'birth_years_4k', 'base', 'main', 'prompt_answer', 'llama3.1_8b_chat', 'cities_10k', 'base', 'main', 'prompt_answer')",
         "line": {
          "width": 0
         },
         "mode": "lines",
         "name": "('llama3.1_8b_chat', 'birth_years_4k', 'base', 'main', 'prompt_answer', 'llama3.1_8b_chat', 'cities_10k', 'base', 'main', 'prompt_answer') +1 STD",
         "showlegend": false,
         "type": "scatter",
         "x": {
          "bdata": "AAECAwQFBgcICQoLDA0ODxAREhMUFRYXGBkaGxwdHh8=",
          "dtype": "i1"
         },
         "y": {
          "bdata": "xXr5/t+54T9XIWaVLhriPzcfHVhv5N8/MeXenc7U4D97dD3qE77gPy7PiQsaWd8/l+JEZL+d4D+7sEuam4vgP8iwVMBt1t4/VYzKE1iq3T+mfDnrUTrgP1oLHfUg8eE/oFYuDhoP4j/Vd8umHvniP2af005SmOM/sQo4hHnP5T/DmJbArADmP/Cz2P5+VOU/+pJx5UDi5D9gO1CJa7TkP0R/u9ALxuQ/2FcRajtI5D8KzpgOVO/jPwhjRjRXJeM/RQca0pmQ4z/M9JXHt0HkP3Aohyn5hOQ/kus+m9K55D/i7mDJjRXlP2RbP9iXCuU/CxOJEag15D8tHt8CqkDhPw==",
          "dtype": "f8"
         }
        },
        {
         "fill": "tonexty",
         "fillcolor": "rgba(255, 127, 14, 0.3)",
         "legendgroup": "('llama3.1_8b_chat', 'birth_years_4k', 'base', 'main', 'prompt_answer', 'llama3.1_8b_chat', 'cities_10k', 'base', 'main', 'prompt_answer')",
         "line": {
          "width": 0
         },
         "mode": "lines",
         "name": "('llama3.1_8b_chat', 'birth_years_4k', 'base', 'main', 'prompt_answer', 'llama3.1_8b_chat', 'cities_10k', 'base', 'main', 'prompt_answer') -1 STD",
         "showlegend": false,
         "type": "scatter",
         "x": {
          "bdata": "AAECAwQFBgcICQoLDA0ODxAREhMUFRYXGBkaGxwdHh8=",
          "dtype": "i1"
         },
         "y": {
          "bdata": "cmUcZSQw3z81GsOYhszgPz/K9LjQqd0/NUJXbExw3z/K3TrajF/fP/IDPccHPd0/r8jLqK+u3T9GyNYC1wndP0Q++V/zz9s/vzMpMc1l2z+0MkkGkO7dP3anahVlo+A/2uSxCaGh4D91HNDGJJDhP6Q8H/KFi+I/qwHwGlxV5D9ND6NOv53kP9a7WgVULOQ/QA3gBL+t4z9YbuXh/UnjP8CXDGcyTeM/zIrEiWyy4j9OAXTwG0ziP0qo8nQRteE/V71eSs1A4j9WaPRvD9jiP0zt9ppfyuI/PiZLqnmh4j8A1xxRREHjPzYd0FRD6OI/PRyQx68z4z9euCrxpKjfPw==",
          "dtype": "f8"
         }
        },
        {
         "legendgroup": "('llama3.1_8b_chat', 'birth_years_4k', 'base', 'main', 'prompt_answer', 'llama3.1_8b_chat', 'cities_10k', 'base', 'main', 'prompt_answer')",
         "marker": {
          "color": "#ff7f0e",
          "opacity": 0.5,
          "size": 6
         },
         "mode": "markers",
         "name": "('llama3.1_8b_chat', 'birth_years_4k', 'base', 'main', 'prompt_answer', 'llama3.1_8b_chat', 'cities_10k', 'base', 'main', 'prompt_answer') Fold ('direction_test_roc_auc', 0)",
         "showlegend": false,
         "type": "scatter",
         "x": {
          "bdata": "AAECAwQFBgcICQoLDA0ODxAREhMUFRYXGBkaGxwdHh8=",
          "dtype": "i1"
         },
         "y": {
          "bdata": "oZzjBrtk4T8SNO3S+u/hP+M37zbOT94/L7bJfJCD4D9TJW9LiSHgP4z1vf4Ta90/kOVXU3io3T9+5nTJ74fcPzY3g0v6Etw/Oro33nh+2z9hgIAvxo3eP0fw8Jkw4uA/Vi2vst474T/B/yrzn8ThP4K3tguB8+I/fvFoxkw55T+WNnKf63zlP1pJSNYOp+Q/SzTQr+Ak5D+aoD4tV+rjP3g0mWm35+M//2DaPOaU4z+aiJgaZg3jP7fBiJ5/GuI/VXQBQuDg4j/E7+jJwJrjP2/xQ0qi9+M/SupyvOoU5D9VG6QXLcjkP6vLqabanuQ/TXl62OHu4z+6l5pF/2fgPw==",
          "dtype": "f8"
         }
        },
        {
         "legendgroup": "('llama3.1_8b_chat', 'birth_years_4k', 'base', 'main', 'prompt_answer', 'llama3.1_8b_chat', 'cities_10k', 'base', 'main', 'prompt_answer')",
         "marker": {
          "color": "#ff7f0e",
          "opacity": 0.5,
          "size": 6
         },
         "mode": "markers",
         "name": "('llama3.1_8b_chat', 'birth_years_4k', 'base', 'main', 'prompt_answer', 'llama3.1_8b_chat', 'cities_10k', 'base', 'main', 'prompt_answer') Fold ('direction_test_roc_auc', 1)",
         "showlegend": false,
         "type": "scatter",
         "x": {
          "bdata": "AAECAwQFBgcICQoLDA0ODxAREhMUFRYXGBkaGxwdHh8=",
          "dtype": "i1"
         },
         "y": {
          "bdata": "/W+AUgxR4T9X9TGEXLPhP9Q2LfVA1d4/YDtXHwF+4D+kSpo508zgP+cmR8SMYd8/8iTa6xNN4D9Oc+nkupDgP6kyWWs0gt8/LuOqgNB53j/5g3tW1q/gP/qiHgvKVuI/kQQiARtd4j8UhsBhFUrjP8xji0xZruM/nuCKPyup5T9yma02+vvlP2p4MZCqfeU/QnS4zFYb5T9XT/dcEuzkP+JF0fyw6uQ/kj4B+7hV5D9Xue3a6vHjP7D/mQ0CE+M/uK2zZglX4z9UOyUnYkLkP2TbxScuJ+Q/hEFWN50S5D96F9GwO5zkPxY8C4kNdeQ/8reeg6Eh5D82zioI+a7gPw==",
          "dtype": "f8"
         }
        },
        {
         "legendgroup": "('llama3.1_8b_chat', 'birth_years_4k', 'base', 'main', 'prompt_answer', 'llama3.1_8b_chat', 'cities_10k', 'base', 'main', 'prompt_answer')",
         "marker": {
          "color": "#ff7f0e",
          "opacity": 0.5,
          "size": 6
         },
         "mode": "markers",
         "name": "('llama3.1_8b_chat', 'birth_years_4k', 'base', 'main', 'prompt_answer', 'llama3.1_8b_chat', 'cities_10k', 'base', 'main', 'prompt_answer') Fold ('direction_test_roc_auc', 2)",
         "showlegend": false,
         "type": "scatter",
         "x": {
          "bdata": "AAECAwQFBgcICQoLDA0ODxAREhMUFRYXGBkaGxwdHh8=",
          "dtype": "i1"
         },
         "y": {
          "bdata": "Jlp338CF3z+Kcu0TXazgP12Ik/5/kt0/Xq7Sp/N73z/RytaKp/veP98NoKt3C90/Q/dYQmaZ3T8ANfKwBG3dP9+q/P6fz9s/hh+Cmm1R3D988OQrUSjePxvji6YnseA/o1GP0zxz4D8+DioOLezhP9hGAkMJf+I/qgngBM4o5D9uZ2z7PG3kP+i/u8mx7OM/9n71zMds4z+HY0MtEfTiP2iqh7y58uI/DviOJN9q4j+I5AsUqgfiP+RgCyVnZuE/OWGnyabd4T9DvSFG12/iPxIT978C4uI/AcMwYCbz4j/XxTlccGvjP8oOP8NfeuM/Bf+3VIYU4z8jmxSM1MrfPw==",
          "dtype": "f8"
         }
        },
        {
         "legendgroup": "('llama3.1_8b_chat', 'birth_years_4k', 'base', 'main', 'prompt_answer', 'llama3.1_8b_chat', 'cities_10k', 'base', 'main', 'prompt_answer')",
         "marker": {
          "color": "#ff7f0e",
          "opacity": 0.5,
          "size": 6
         },
         "mode": "markers",
         "name": "('llama3.1_8b_chat', 'birth_years_4k', 'base', 'main', 'prompt_answer', 'llama3.1_8b_chat', 'cities_10k', 'base', 'main', 'prompt_answer') Fold ('direction_test_roc_auc', 3)",
         "showlegend": false,
         "type": "scatter",
         "x": {
          "bdata": "AAECAwQFBgcICQoLDA0ODxAREhMUFRYXGBkaGxwdHh8=",
          "dtype": "i1"
         },
         "y": {
          "bdata": "ygcqb66Q4T8oHKy42RniPyT0xm2jSuA/QhuiVNX24D/UFmdss6fgP+9r6V8YQ98/YexgwCnI4D9oCamofmHgP2jdOG7+Cd4/1Z/oScQu3D9F6ONo8v/eP81RG/BBduE/yce46SCl4T8upmP4pLXiP1jxCBdPjOM/4P0QXCja5T8mSuFAfuXlP3DgTW29C+U/WiU0/7Bp5D8jJRTxCvjjPz0CqR3/8+M/C4uzC73+4j97GjTLEqniP4VyumJibeI/iCv7K3Li4j/6NIM5B2vjP9a+aazOn+I/lvaQ7UlQ4j9Cacg3B/riPwhb2CjbV+I/ZNDZufw/4z/ojDIMSwjgPw==",
          "dtype": "f8"
         }
        },
        {
         "legendgroup": "('llama3.1_8b_chat', 'birth_years_4k', 'base', 'main', 'prompt_answer', 'llama3.1_8b_chat', 'cities_10k', 'base', 'main', 'prompt_answer')",
         "marker": {
          "color": "#ff7f0e",
          "opacity": 0.5,
          "size": 6
         },
         "mode": "markers",
         "name": "('llama3.1_8b_chat', 'birth_years_4k', 'base', 'main', 'prompt_answer', 'llama3.1_8b_chat', 'cities_10k', 'base', 'main', 'prompt_answer') Fold ('direction_test_roc_auc', 4)",
         "showlegend": false,
         "type": "scatter",
         "x": {
          "bdata": "AAECAwQFBgcICQoLDA0ODxAREhMUFRYXGBkaGxwdHh8=",
          "dtype": "i1"
         },
         "y": {
          "bdata": "iuAShw6H3j/FXK7PNtfgP0robiTKlt4/gNfbmgZU3z94mA5HfP3fP5B5YsAjXN4/MeMuLRrd3z9xUwf1O3nfP3rjsKwlMd0/aQMU6eEv3D/wDJY2S+LeP952nN7qEuE/XUmXSnwI4T92uIs2oabhP5rSEfBprOI/PkX/pqd25D+LoqITbcDkP1Q1/ezmpOQ/tcMZgU9R5D+wr3jjgTnkP4kS2Ur6duQ/9ZN4eWge5D9oxdkoiuTjP30HJnO6IOM/tzzWKH+T4z98yyaacAjkP5qX0Ay8peQ/IEdObEb55D/MDMPlLA/lP+472tQA+eQ/jPUTNFUi5D9/8aCUya/hPw==",
          "dtype": "f8"
         }
        },
        {
         "legendgroup": "('llama3.1_8b_chat', 'birth_years_4k', 'base', 'main', 'prompt_only', 'llama3.1_8b_chat', 'birth_years_4k', 'base', 'main', 'prompt_only')",
         "line": {
          "color": "#2ca02c",
          "width": 2
         },
         "marker": {
          "size": 8
         },
         "mode": "lines+markers",
         "name": "('llama3.1_8b_chat', 'birth_years_4k', 'base', 'main', 'prompt_only', 'llama3.1_8b_chat', 'birth_years_4k', 'base', 'main', 'prompt_only')",
         "type": "scatter",
         "x": {
          "bdata": "AAECAwQFBgcICQoLDA0ODxAREhMUFRYXGBkaGxwdHh8=",
          "dtype": "i1"
         },
         "y": {
          "bdata": "NvitQj2c4T+cCMgGN23iP90kBY50JOI/JWfIxn2z4j+aJBIeTGXjP62zFelcgOM/G1C1Ky2f4z+cRlGIOF3kPwbMV+VLXeQ/e8QUKSag5D8GNCpCKsLkP6YUrJE67eQ/EgOrzDg55T/mmlYpW2DlP4RVt8vemeU/UxC6wPB95T/qhqT+5InlP0Th1VIvW+U/+ME9QyGo5T9K3uSvZZflP0dE4R3Lk+U/2ECuXR6Y5T/TMcKYtJHlP/If2MUwoeU/U7QTM2Cg5T8i9ozJ8qrlPxjzm519yOU/AICKdCni5T/nHv33Ru3lPyeH1n/L1+U/7fycHlV/5T8KeucRMTvmPw==",
          "dtype": "f8"
         }
        },
        {
         "legendgroup": "('llama3.1_8b_chat', 'birth_years_4k', 'base', 'main', 'prompt_only', 'llama3.1_8b_chat', 'birth_years_4k', 'base', 'main', 'prompt_only')",
         "line": {
          "width": 0
         },
         "mode": "lines",
         "name": "('llama3.1_8b_chat', 'birth_years_4k', 'base', 'main', 'prompt_only', 'llama3.1_8b_chat', 'birth_years_4k', 'base', 'main', 'prompt_only') Max",
         "showlegend": false,
         "type": "scatter",
         "x": {
          "bdata": "AAECAwQFBgcICQoLDA0ODxAREhMUFRYXGBkaGxwdHh8=",
          "dtype": "i1"
         },
         "y": {
          "bdata": "zZoCaBYz4j/2ArywxSHjP0GFGoBYwuI/eQnAaEWf4z/PwB7pXFXkP7ly/Lf4ReQ/KRAuI7NI5D/+/mSA0ezkP854dxJVD+U/KwmZNRyI5T+qN0V20DvmP8qdL9ldP+Y/Hkh/P3nu5j+Qw7l4YhbnP4/DuXhiFuc/8xTuPdU85z+En/2CIRXnP1f8Kwy+9OY/IaXeFNlB5z9UCcMt6A/nP+WyRw//A+c/IW0+WnkK5z9HrWZ9R9fmP0KbiAKn1uY/MGXukcXU5j+XnoIrMtnmP5u8PBwW7eY/WBpWC/kS5z/TousvxSrnP4e1M0XuHuc/IAYp5qCk5j9SubMICsXnPw==",
          "dtype": "f8"
         }
        },
        {
         "fill": "tonexty",
         "fillcolor": "rgba(44, 160, 44, 0.1)",
         "legendgroup": "('llama3.1_8b_chat', 'birth_years_4k', 'base', 'main', 'prompt_only', 'llama3.1_8b_chat', 'birth_years_4k', 'base', 'main', 'prompt_only')",
         "line": {
          "width": 0
         },
         "mode": "lines",
         "name": "('llama3.1_8b_chat', 'birth_years_4k', 'base', 'main', 'prompt_only', 'llama3.1_8b_chat', 'birth_years_4k', 'base', 'main', 'prompt_only') Min",
         "showlegend": false,
         "type": "scatter",
         "x": {
          "bdata": "AAECAwQFBgcICQoLDA0ODxAREhMUFRYXGBkaGxwdHh8=",
          "dtype": "i1"
         },
         "y": {
          "bdata": "Ei++Mnej4D+VLlC9Ut/gP7UEE4Ul3eA/vrRN2HJD4T8MrsPo1crhP+0IuJQm9uE/wB+xEpEs4j8kl42suvPiP3yaUiQJsOI/633sDGX+4j9Q9mMmvdjiP6cgUD8pFOM/7N9a9KtQ4z+obl0WSp3jP/0iejdJveM/Hvk8/xu74z+Z7xqiOtXjP9yRz/O/seM/HqDDaqz/4z9gBzF2CAnkP5nbuZEUDOQ/Vy80Am8Q5D+ZlqENyxnkP6Aphv0aIOQ/HGV8JIMs5D/z53NcOl/kP8pqa5TxkeQ/3y3qoQHE5D8xADkRR8zkPyUBVmeqyeQ/vvW48udz5D9iLXws3f/kPw==",
          "dtype": "f8"
         }
        },
        {
         "legendgroup": "('llama3.1_8b_chat', 'birth_years_4k', 'base', 'main', 'prompt_only', 'llama3.1_8b_chat', 'birth_years_4k', 'base', 'main', 'prompt_only')",
         "line": {
          "width": 0
         },
         "mode": "lines",
         "name": "('llama3.1_8b_chat', 'birth_years_4k', 'base', 'main', 'prompt_only', 'llama3.1_8b_chat', 'birth_years_4k', 'base', 'main', 'prompt_only') +1 STD",
         "showlegend": false,
         "type": "scatter",
         "x": {
          "bdata": "AAECAwQFBgcICQoLDA0ODxAREhMUFRYXGBkaGxwdHh8=",
          "dtype": "i1"
         },
         "y": {
          "bdata": "wieooKpN4j+ToLQ3IF/jP3zogh6R6uI/GK86iDyd4z9ZkHg4gl7kPx0st2LcZ+Q/sPswoGh85D+v4izqES7lPwIJMfHWUuU/M5A8trSd5T+ygaLcnQ/mPxLgKv2FKOY/HhdB8G+U5j/KthyYWa/mPx5geiKa5OY/woWwXJvW5j+kSO3QQMfmP3Usg/3UpuY/joGL9DL85j9H7rAyOtbmP2eS0UaryeY/AJLqWk7V5j/2oTA8WsHmP1ccG8c8zuY/4TA2JuLH5j9k5vjv3rrmP1eRDvYD0+Y/VDPIM4zg5j+yspBfI/TmP6p+0WWv3OY/PqFHqthy5j9OtAH86VPnPw==",
          "dtype": "f8"
         }
        },
        {
         "fill": "tonexty",
         "fillcolor": "rgba(44, 160, 44, 0.3)",
         "legendgroup": "('llama3.1_8b_chat', 'birth_years_4k', 'base', 'main', 'prompt_only', 'llama3.1_8b_chat', 'birth_years_4k', 'base', 'main', 'prompt_only')",
         "line": {
          "width": 0
         },
         "mode": "lines",
         "name": "('llama3.1_8b_chat', 'birth_years_4k', 'base', 'main', 'prompt_only', 'llama3.1_8b_chat', 'birth_years_4k', 'base', 'main', 'prompt_only') -1 STD",
         "showlegend": false,
         "type": "scatter",
         "x": {
          "bdata": "AAECAwQFBgcICQoLDA0ODxAREhMUFRYXGBkaGxwdHh8=",
          "dtype": "i1"
         },
         "y": {
          "bdata": "qsiz5M/q4D+lcNvVTXvhPz5hh/1XXuE/Mh9WBb/J4T/buKsDFmziPz07dG/dmOI/hqQ5t/HB4j+JqnUmX4zjPwqPftnAZ+M/w/jsm5ei4z9a5rGntnTjPzpJLSbvseM/Bu8UqQHe4z8Cf5C6XBHkP+pK9HQjT+Q/5JrDJEYl5D8wxVssiUzkPxOWKKiJD+Q/YgLwkQ9U5D9NzhgtkVjkPyf28PTqXeQ/sO9xYO5a5D+wwVP1DmLkP40jlcQkdOQ/xTfxP9545D/gBSGjBpvkP9lUKUX3veQ/rMxMtcbj5D8ci2mQaubkP6SP25nn0uQ/nFjyktGL5D/GP80neCLlPw==",
          "dtype": "f8"
         }
        },
        {
         "legendgroup": "('llama3.1_8b_chat', 'birth_years_4k', 'base', 'main', 'prompt_only', 'llama3.1_8b_chat', 'birth_years_4k', 'base', 'main', 'prompt_only')",
         "marker": {
          "color": "#2ca02c",
          "opacity": 0.5,
          "size": 6
         },
         "mode": "markers",
         "name": "('llama3.1_8b_chat', 'birth_years_4k', 'base', 'main', 'prompt_only', 'llama3.1_8b_chat', 'birth_years_4k', 'base', 'main', 'prompt_only') Fold ('direction_test_roc_auc', 0)",
         "showlegend": false,
         "type": "scatter",
         "x": {
          "bdata": "AAECAwQFBgcICQoLDA0ODxAREhMUFRYXGBkaGxwdHh8=",
          "dtype": "i1"
         },
         "y": {
          "bdata": "tg1bUjfq4T9eES9GefXiP2BWbXb6M+I/ajXrO7r24j/sULbcDo/jPykqIsRTseM/CgIimlvl4z9JwVjqVOXkP854dxJVD+U/KwmZNRyI5T+qN0V20DvmP8qdL9ldP+Y/Hkh/P3nu5j+Qw7l4YhbnP4/DuXhiFuc/8xTuPdU85z+En/2CIRXnP1f8Kwy+9OY/IaXeFNlB5z9UCcMt6A/nP+WyRw//A+c/IW0+WnkK5z9HrWZ9R9fmP0KbiAKn1uY/MGXukcXU5j8uJwRZMJ3mP0WIp2JHu+Y/xfuR03yt5j9WvkHTKL3mP2jbsCV1o+Y/bJZ5SetQ5j/E9UdVR63mPw==",
          "dtype": "f8"
         }
        },
        {
         "legendgroup": "('llama3.1_8b_chat', 'birth_years_4k', 'base', 'main', 'prompt_only', 'llama3.1_8b_chat', 'birth_years_4k', 'base', 'main', 'prompt_only')",
         "marker": {
          "color": "#2ca02c",
          "opacity": 0.5,
          "size": 6
         },
         "mode": "markers",
         "name": "('llama3.1_8b_chat', 'birth_years_4k', 'base', 'main', 'prompt_only', 'llama3.1_8b_chat', 'birth_years_4k', 'base', 'main', 'prompt_only') Fold ('direction_test_roc_auc', 1)",
         "showlegend": false,
         "type": "scatter",
         "x": {
          "bdata": "AAECAwQFBgcICQoLDA0ODxAREhMUFRYXGBkaGxwdHh8=",
          "dtype": "i1"
         },
         "y": {
          "bdata": "LGvdtn8q4j8aiZHb+vziP8RepcKOweI/IwgVuyQ64z+yma9KB/TjP/2TAUazA+Q/KRAuI7NI5D/+/mSA0ezkP8wWOumEq+Q/Ow414gbD5D9LSF/SzJjkPxbMc2DnyOQ/I4Y+hjrZ5D+6XLAuTBDlP1Gp8c7KYuU/684Lzis25T9AyEBzdEjlP3Cndrfp8uQ/ck79Ino35T9NDDyhWj3lP1B4OlunOeU/RHlXsQo35T8MG56Na0/lPwclb8uLbuU/CCVvy4tu5T8Bw0FPX5HlP251JMSXtuU/BdbGdDzS5T/5kctGVt3lP7+Mi7cmseU/bJ3m5ONI5T/hJitOh1PmPw==",
          "dtype": "f8"
         }
        },
        {
         "legendgroup": "('llama3.1_8b_chat', 'birth_years_4k', 'base', 'main', 'prompt_only', 'llama3.1_8b_chat', 'birth_years_4k', 'base', 'main', 'prompt_only')",
         "marker": {
          "color": "#2ca02c",
          "opacity": 0.5,
          "size": 6
         },
         "mode": "markers",
         "name": "('llama3.1_8b_chat', 'birth_years_4k', 'base', 'main', 'prompt_only', 'llama3.1_8b_chat', 'birth_years_4k', 'base', 'main', 'prompt_only') Fold ('direction_test_roc_auc', 2)",
         "showlegend": false,
         "type": "scatter",
         "x": {
          "bdata": "AAECAwQFBgcICQoLDA0ODxAREhMUFRYXGBkaGxwdHh8=",
          "dtype": "i1"
         },
         "y": {
          "bdata": "TJZsqe0h4T8KXxuShi7iPzZ52Yc/IeI/8gfcqd1t4j+LXRKdM1fjP5dIlDaqkOM/kyGuAKeG4z/LJVMQqJ/kP6rZwFBohuQ/npXFIoKR5D92tk5z8nHkPxUgpQtUr+Q/9KtQK8gD5T+SbiBYmfzkP1NpITSEReU/RgjQoqDw5D/c3kFLsiflP+h7tg0I2OQ/FT37blEP5T8txfHKHfnkP4qWI+T/A+U/l9oeEub45D+R+FBgLOHkPz4w0y4H+OQ/Np3uPrfx5D/sXYS/we/kP1qalzyN+eQ/AGYbURsU5T8xp7981xDlP/CEavXE+eQ/58DOkVHK5D/ZXuKAP2LlPw==",
          "dtype": "f8"
         }
        },
        {
         "legendgroup": "('llama3.1_8b_chat', 'birth_years_4k', 'base', 'main', 'prompt_only', 'llama3.1_8b_chat', 'birth_years_4k', 'base', 'main', 'prompt_only')",
         "marker": {
          "color": "#2ca02c",
          "opacity": 0.5,
          "size": 6
         },
         "mode": "markers",
         "name": "('llama3.1_8b_chat', 'birth_years_4k', 'base', 'main', 'prompt_only', 'llama3.1_8b_chat', 'birth_years_4k', 'base', 'main', 'prompt_only') Fold ('direction_test_roc_auc', 3)",
         "showlegend": false,
         "type": "scatter",
         "x": {
          "bdata": "AAECAwQFBgcICQoLDA0ODxAREhMUFRYXGBkaGxwdHh8=",
          "dtype": "i1"
         },
         "y": {
          "bdata": "zZoCaBYz4j/2ArywxSHjP0GFGoBYwuI/eQnAaEWf4z/PwB7pXFXkP7ly/Lf4ReQ/AD3bCZs65D/S4/eBkWzkP1748Qkw4eQ/eKvnhbRF5T9l13tohqvlP6G8w1Ni1uU/O7XtGfQB5j/3CMm4NSHmP2SyTUdfheY/XGybFfZW5j9dbJsV9lbmP8q0BNl8VuY/EvmZPlXA5j9FdVZfk6XmPwy4BrU8leY/4lN+tL6t5j+kodOC3LbmP5SF5+KeyOY/E/mZPlXA5j+XnoIrMtnmP5u8PBwW7eY/WBpWC/kS5z/TousvxSrnP4e1M0XuHuc/IAYp5qCk5j9SubMICsXnPw==",
          "dtype": "f8"
         }
        },
        {
         "legendgroup": "('llama3.1_8b_chat', 'birth_years_4k', 'base', 'main', 'prompt_only', 'llama3.1_8b_chat', 'birth_years_4k', 'base', 'main', 'prompt_only')",
         "marker": {
          "color": "#2ca02c",
          "opacity": 0.5,
          "size": 6
         },
         "mode": "markers",
         "name": "('llama3.1_8b_chat', 'birth_years_4k', 'base', 'main', 'prompt_only', 'llama3.1_8b_chat', 'birth_years_4k', 'base', 'main', 'prompt_only') Fold ('direction_test_roc_auc', 4)",
         "showlegend": false,
         "type": "scatter",
         "x": {
          "bdata": "AAECAwQFBgcICQoLDA0ODxAREhMUFRYXGBkaGxwdHh8=",
          "dtype": "i1"
         },
         "y": {
          "bdata": "Ei++Mnej4D+VLlC9Ut/gP7UEE4Ul3eA/vrRN2HJD4T8MrsPo1crhP+0IuJQm9uE/wB+xEpEs4j8kl42suvPiP3yaUiQJsOI/633sDGX+4j9Q9mMmvdjiP6cgUD8pFOM/7N9a9KtQ4z+obl0WSp3jP/0iejdJveM/Hvk8/xu74z+Z7xqiOtXjP9yRz/O/seM/HqDDaqz/4z9gBzF2CAnkP5nbuZEUDOQ/Vy80Am8Q5D+ZlqENyxnkP6Aphv0aIOQ/HGV8JIMs5D/z53NcOl/kP8pqa5TxkeQ/3y3qoQHE5D8xADkRR8zkPyUBVmeqyeQ/vvW48udz5D9iLXws3f/kPw==",
          "dtype": "f8"
         }
        },
        {
         "legendgroup": "('llama3.1_8b_chat', 'birth_years_4k', 'base', 'main', 'prompt_only', 'llama3.1_8b_chat', 'cities_10k', 'base', 'main', 'prompt_only')",
         "line": {
          "color": "#d62728",
          "width": 2
         },
         "marker": {
          "size": 8
         },
         "mode": "lines+markers",
         "name": "('llama3.1_8b_chat', 'birth_years_4k', 'base', 'main', 'prompt_only', 'llama3.1_8b_chat', 'cities_10k', 'base', 'main', 'prompt_only')",
         "type": "scatter",
         "x": {
          "bdata": "AAECAwQFBgcICQoLDA0ODxAREhMUFRYXGBkaGxwdHh8=",
          "dtype": "i1"
         },
         "y": {
          "bdata": "BvM/k9y+3D970z8llP7bPzYWKoDK4ts/01O+ZwTU2z9N8gvoo5PcPyvPImVB7tw/SmstI6uV3T/YlhmaiirfP5ziuSnIZeA/+vT5UhjG3z8aWHPAe4PgPyW0JspGGOE/9xT7XTuF4T8ErE87xlLhPxin9t1SDuI/i/daLJkK4j8JWpKl/3/hP4rf7nouP+E/tYMd9mCN4T/CZDoKWzXhP+9KPdSPAuE/TfGH4VoL4T/UnoFt7+jgP4qq9ezq1uA/XcxTvcng4D8Qqv9XcK7gP20D37WWeeA/4HwbUmnG4D9wbrWyCqjgPw7oLweVbuA//aSV9r2W4D92D18KvGDhPw==",
          "dtype": "f8"
         }
        },
        {
         "legendgroup": "('llama3.1_8b_chat', 'birth_years_4k', 'base', 'main', 'prompt_only', 'llama3.1_8b_chat', 'cities_10k', 'base', 'main', 'prompt_only')",
         "line": {
          "width": 0
         },
         "mode": "lines",
         "name": "('llama3.1_8b_chat', 'birth_years_4k', 'base', 'main', 'prompt_only', 'llama3.1_8b_chat', 'cities_10k', 'base', 'main', 'prompt_only') Max",
         "showlegend": false,
         "type": "scatter",
         "x": {
          "bdata": "AAECAwQFBgcICQoLDA0ODxAREhMUFRYXGBkaGxwdHh8=",
          "dtype": "i1"
         },
         "y": {
          "bdata": "O7qqF/rw3T8KJoaeQVjcP8EpzYs/kdw/VTmjHNCu3D/kdtdrocjdPydiESp17d0/Ssh9rghl3j+z3HWSmjDgP7dzeImQeeE/QmFv7aDe4D/Kkkit1zzhPzxd9k4e4eE//Ix11lxE4j8Y7MPdwx3iP8WKMghEzOI/oLCD33xb4j9IZ8exrLnhP42fqYbbbuE/Aceg7QnC4T87iw9YLmLhP3gnXTlRQeE/QCh1NWgk4T+y7xup9RfhP+uKbGol9OA/iuukScYP4T+Uo3IeT97gPwwS/2ocjuA/Uzg4lbT94D+mJ6recf7gPzLjPNDi8uA/P4uihBXg4D/CJ49fDrzhPw==",
          "dtype": "f8"
         }
        },
        {
         "fill": "tonexty",
         "fillcolor": "rgba(214, 39, 40, 0.1)",
         "legendgroup": "('llama3.1_8b_chat', 'birth_years_4k', 'base', 'main', 'prompt_only', 'llama3.1_8b_chat', 'cities_10k', 'base', 'main', 'prompt_only')",
         "line": {
          "width": 0
         },
         "mode": "lines",
         "name": "('llama3.1_8b_chat', 'birth_years_4k', 'base', 'main', 'prompt_only', 'llama3.1_8b_chat', 'cities_10k', 'base', 'main', 'prompt_only') Min",
         "showlegend": false,
         "type": "scatter",
         "x": {
          "bdata": "AAECAwQFBgcICQoLDA0ODxAREhMUFRYXGBkaGxwdHh8=",
          "dtype": "i1"
         },
         "y": {
          "bdata": "Wngx+vz02z8x92xObJnbP1TwFJWNG9s/QbqiJEsa2z8OUkEIErjbP/NST86ZPNw/U6pM3GLh3D9uRxr2HYfeP1op9oi/w94/dnMVsAvb3T+xwct9bzPfP1woaPFWBOA/jqNYz25l4D+9VR0IIULgP50pn27Q8eA/gR28omFu4T9jHSbwthnhP0WeNVwv0uA/xRp5C30p4T+AeCIT4vPgP6DBC1fYx+A/ylmLKljZ4D81Mr2jNMjgP+I3LKY/yeA/zsylvJ3K4D9F6HpfYYbgP5hh8ljcZeA/DD82sC6q4D/18aXTDXPgP8mBMhHvDuA/u9k7GDY/4D8OrnuDVffgPw==",
          "dtype": "f8"
         }
        },
        {
         "legendgroup": "('llama3.1_8b_chat', 'birth_years_4k', 'base', 'main', 'prompt_only', 'llama3.1_8b_chat', 'cities_10k', 'base', 'main', 'prompt_only')",
         "line": {
          "width": 0
         },
         "mode": "lines",
         "name": "('llama3.1_8b_chat', 'birth_years_4k', 'base', 'main', 'prompt_only', 'llama3.1_8b_chat', 'cities_10k', 'base', 'main', 'prompt_only') +1 STD",
         "showlegend": false,
         "type": "scatter",
         "x": {
          "bdata": "AAECAwQFBgcICQoLDA0ODxAREhMUFRYXGBkaGxwdHh8=",
          "dtype": "i1"
         },
         "y": {
          "bdata": "qSwoTReK3T+8I3UWB0/cP0K0m5QJedw/rlGcK/V73D8mfOD+MGHdPyPNLaaZjd0/DwRhvw473j/Pmfk/+urfP9TUuhThVuE/qc15rzHK4D9wp45NfizhPzAPqRAm2eE/QTaT1AdG4j9JgjZsuB3iP+KBoC6Dx+I/k87GMd1y4j9Ez7LBFcHhP5nS5ePtfeE/eg5/4QXK4T8mDlbBAWPhPyFWeewWNuE/hVqQGNEo4T/+w+d7VAbhP4Kblxl66OA/v0Ny//z94D+s86sr3dHgP7RESafYieA/tWWLipno4D+eYveuAuLgP7N6k66EweA/PUMBHe3b4D8uQrQpb77hPw==",
          "dtype": "f8"
         }
        },
        {
         "fill": "tonexty",
         "fillcolor": "rgba(214, 39, 40, 0.3)",
         "legendgroup": "('llama3.1_8b_chat', 'birth_years_4k', 'base', 'main', 'prompt_only', 'llama3.1_8b_chat', 'cities_10k', 'base', 'main', 'prompt_only')",
         "line": {
          "width": 0
         },
         "mode": "lines",
         "name": "('llama3.1_8b_chat', 'birth_years_4k', 'base', 'main', 'prompt_only', 'llama3.1_8b_chat', 'cities_10k', 'base', 'main', 'prompt_only') -1 STD",
         "showlegend": false,
         "type": "scatter",
         "x": {
          "bdata": "AAECAwQFBgcICQoLDA0ODxAREhMUFRYXGBkaGxwdHh8=",
          "dtype": "i1"
         },
         "y": {
          "bdata": "Y7lX2aHz2z86gwo0Ia7bPyp4uGuLTNs/+FXgoxMs2z90aDfRFsbbPzPRFyTpTtw/hdL5hkfw3D/hkzn0GmreP8jgcX1e6d4/oU4AR8333T+IEbBm8rTfPxpZpINnV+A/rfNi527E4D+/1WgK1IfgP07MTI0iVeE/gyDvJlWi4T/O5HGJ6T7hP3vs9xFvAOE/8Pi7CrxQ4T9eux5TtAfhP70/AbwIz+A/FYh/quTt4D+qeRtfisvgP5K5U8BbxeA/+1Q1e5bD4D90YFOEA4vgPybCdMRUaeA/C5SrGTmk4D9CenO2Em7gP2lVzF+lG+A/vQYq0I5R4D++3AnrCAPhPw==",
          "dtype": "f8"
         }
        },
        {
         "legendgroup": "('llama3.1_8b_chat', 'birth_years_4k', 'base', 'main', 'prompt_only', 'llama3.1_8b_chat', 'cities_10k', 'base', 'main', 'prompt_only')",
         "marker": {
          "color": "#d62728",
          "opacity": 0.5,
          "size": 6
         },
         "mode": "markers",
         "name": "('llama3.1_8b_chat', 'birth_years_4k', 'base', 'main', 'prompt_only', 'llama3.1_8b_chat', 'cities_10k', 'base', 'main', 'prompt_only') Fold ('direction_test_roc_auc', 0)",
         "showlegend": false,
         "type": "scatter",
         "x": {
          "bdata": "AAECAwQFBgcICQoLDA0ODxAREhMUFRYXGBkaGxwdHh8=",
          "dtype": "i1"
         },
         "y": {
          "bdata": "pzkwbXUW3D+gNzYtjxDcP2b43KMYCNw/gUqc1WSM2z9yQq2JwhTcP73b2yMZstw/U6pM3GLh3D9uRxr2HYfeP1op9oi/w94/dnMVsAvb3T+xwct9bzPfP1woaPFWBOA/jqNYz25l4D+9VR0IIULgP50pn27Q8eA/gR28omFu4T9yMBv/LYrhP07zXzDqXOE/Aceg7QnC4T87iw9YLmLhP3gnXTlRQeE/QCh1NWgk4T+y7xup9RfhP+uKbGol9OA/iuukScYP4T+Uo3IeT97gPwwS/2ocjuA/zZWHQaXN4D/18aXTDXPgP8mBMhHvDuA/VGT/Rfhc4D/C9ickhQXhPw==",
          "dtype": "f8"
         }
        },
        {
         "legendgroup": "('llama3.1_8b_chat', 'birth_years_4k', 'base', 'main', 'prompt_only', 'llama3.1_8b_chat', 'cities_10k', 'base', 'main', 'prompt_only')",
         "marker": {
          "color": "#d62728",
          "opacity": 0.5,
          "size": 6
         },
         "mode": "markers",
         "name": "('llama3.1_8b_chat', 'birth_years_4k', 'base', 'main', 'prompt_only', 'llama3.1_8b_chat', 'cities_10k', 'base', 'main', 'prompt_only') Fold ('direction_test_roc_auc', 1)",
         "showlegend": false,
         "type": "scatter",
         "x": {
          "bdata": "AAECAwQFBgcICQoLDA0ODxAREhMUFRYXGBkaGxwdHh8=",
          "dtype": "i1"
         },
         "y": {
          "bdata": "zZjtr9Dr3D+IwTAyCr/bP1TwFJWNG9s/QbqiJEsa2z8OUkEIErjbP/NST86ZPNw/s38bqZbo3T+z3HWSmjDgP7dzeImQeeE/QmFv7aDe4D8izvD7GAzhPwGdNMjEvuE//Ix11lxE4j8Y7MPdwx3iP8WKMghEzOI/bH3g8DlV4j9IZ8exrLnhP+gPVO1KWeE/JdvQMpe54T960Y6+KkPhP4OUuY2Q/uA/o2girXoS4T8izIoL1OTgP9leKA1V2uA/1mcWcAzU4D9sRSp4kZ/gP+3G0f3UeuA/yaLyNsO+4D8Wkt8zpsfgPwQDLOKFbeA/WdrnHirE4D9XtjDUbrPhPw==",
          "dtype": "f8"
         }
        },
        {
         "legendgroup": "('llama3.1_8b_chat', 'birth_years_4k', 'base', 'main', 'prompt_only', 'llama3.1_8b_chat', 'cities_10k', 'base', 'main', 'prompt_only')",
         "marker": {
          "color": "#d62728",
          "opacity": 0.5,
          "size": 6
         },
         "mode": "markers",
         "name": "('llama3.1_8b_chat', 'birth_years_4k', 'base', 'main', 'prompt_only', 'llama3.1_8b_chat', 'cities_10k', 'base', 'main', 'prompt_only') Fold ('direction_test_roc_auc', 2)",
         "showlegend": false,
         "type": "scatter",
         "x": {
          "bdata": "AAECAwQFBgcICQoLDA0ODxAREhMUFRYXGBkaGxwdHh8=",
          "dtype": "i1"
         },
         "y": {
          "bdata": "Wngx+vz02z8x92xObJnbPzySn9TYe9s/uQMFy2942z/Z4CUNG2XcPxXGfRASztw/63zJRzv43D94mevOx6zeP6g0GXp5HOA/wgLfsuTT3j//0oU4pDLgPwTEMxgi+eA/w5pPKnF54T+eRkRWEv3gP6UnbnEw6+E/oLCD33xb4j+rmabHI27hP6ocF2aoROE/ftDS9mGP4T9UG4GijhrhPwRU1+Rs2uA/FM8B4hkM4T/c2WQqmdzgP2CS6VTuzeA/bF4Z3S3q4D9856UJ6sbgP0X6SjSZg+A/Uzg4lbT94D+mJ6recf7gPzLjPNDi8uA/P4uihBXg4D9oyndYVHfhPw==",
          "dtype": "f8"
         }
        },
        {
         "legendgroup": "('llama3.1_8b_chat', 'birth_years_4k', 'base', 'main', 'prompt_only', 'llama3.1_8b_chat', 'cities_10k', 'base', 'main', 'prompt_only')",
         "marker": {
          "color": "#d62728",
          "opacity": 0.5,
          "size": 6
         },
         "mode": "markers",
         "name": "('llama3.1_8b_chat', 'birth_years_4k', 'base', 'main', 'prompt_only', 'llama3.1_8b_chat', 'cities_10k', 'base', 'main', 'prompt_only') Fold ('direction_test_roc_auc', 3)",
         "showlegend": false,
         "type": "scatter",
         "x": {
          "bdata": "AAECAwQFBgcICQoLDA0ODxAREhMUFRYXGBkaGxwdHh8=",
          "dtype": "i1"
         },
         "y": {
          "bdata": "O7qqF/rw3T8IC+VtnTfcP1XKc+c1Pdw/UWHQJCZW3D9Hz099oufcP+u088wM/dw/Ssh9rghl3j/Y+8sdW2LfP6CPr7nVTOE/tgC9RB7W4D/Kkkit1zzhPzxd9k4e4eE/j2ESq2gn4j/UfZcEghriP64A3Zaql+I/i6+nOfpF4j9kcyzTSLThP42fqYbbbuE/HwXWq2SO4T9AB+Jm/VbhPwulOCKoKuE/vPyCeHEc4T9CUr+gFevgP6qgIS7uzOA/zsylvJ3K4D+RmUC4BZ3gP5hh8ljcZeA/DD82sC6q4D/Y1jPGyYzgPxHs0kFqZ+A/SJUmz0ex4D/CJ49fDrzhPw==",
          "dtype": "f8"
         }
        },
        {
         "legendgroup": "('llama3.1_8b_chat', 'birth_years_4k', 'base', 'main', 'prompt_only', 'llama3.1_8b_chat', 'cities_10k', 'base', 'main', 'prompt_only')",
         "marker": {
          "color": "#d62728",
          "opacity": 0.5,
          "size": 6
         },
         "mode": "markers",
         "name": "('llama3.1_8b_chat', 'birth_years_4k', 'base', 'main', 'prompt_only', 'llama3.1_8b_chat', 'cities_10k', 'base', 'main', 'prompt_only') Fold ('direction_test_roc_auc', 4)",
         "showlegend": false,
         "type": "scatter",
         "x": {
          "bdata": "AAECAwQFBgcICQoLDA0ODxAREhMUFRYXGBkaGxwdHh8=",
          "dtype": "i1"
         },
         "y": {
          "bdata": "FLpFsRHS3D8KJoaeQVjcP8EpzYs/kdw/VTmjHNCu3D/kdtdrocjdPydiESp17d0/NakzNBrF3T8RXML6Pt3eP8NAyp1ScN8/uI6U1wrG3j/Ao5shHnzgPxqe+tEF3OA/9zu3WoNP4T/MVdHnZSbhP8FmtNauBuI/ntr+MOvP4T9jHSbwthnhP0WeNVwv0uA/xRp5C30p4T+AeCIT4vPgP6DBC1fYx+A/ylmLKljZ4D81Mr2jNMjgP+I3LKY/yeA/OX8oX1LL4D9F6HpfYYbgP0vcTJeKbeA/bcCg3MKr4D+opSfRRYLgPzc0gR4nUuA/u9k7GDY/4D8OrnuDVffgPw==",
          "dtype": "f8"
         }
        },
        {
         "legendgroup": "('llama3.1_8b_chat', 'cities_10k', 'base', 'main', 'prompt_answer', 'llama3.1_8b_chat', 'birth_years_4k', 'base', 'main', 'prompt_answer')",
         "line": {
          "color": "#9467bd",
          "width": 2
         },
         "marker": {
          "size": 8
         },
         "mode": "lines+markers",
         "name": "('llama3.1_8b_chat', 'cities_10k', 'base', 'main', 'prompt_answer', 'llama3.1_8b_chat', 'birth_years_4k', 'base', 'main', 'prompt_answer')",
         "type": "scatter",
         "x": {
          "bdata": "AAECAwQFBgcICQoLDA0ODxAREhMUFRYXGBkaGxwdHh8=",
          "dtype": "i1"
         },
         "y": {
          "bdata": "s4CvmjZc4T9ywRrpR3DhPyMIMnP04uA/BisgOlcZ4T9en6aKh5LhP5uyTKEeNOE/kHPrO0Fw4T+FciaoBFjgPx1iqcJhSt4/syatNduH3D82aP4wZajfPyYio/iKmeE/Chf9H6Gr4T9EdzvRmi3iP6qSPWq3GOM/4ftspxHf4z9VjgVU07vjP40W9LN7/OM/wENsxuLS5D+fxzGUTfXkPwUI5t0A7OU/NrXf9yfK5T+NCLkaCaXmP/Gu10A1kOY/gmcZ6Fhg5T++BPXsoSnkP2bw7o0DDeM/ryrVF2vO4z+tuffBu1bjPxTXqEjnXuM/yHa47QVH4j/W+d2WgQbgPw==",
          "dtype": "f8"
         }
        },
        {
         "legendgroup": "('llama3.1_8b_chat', 'cities_10k', 'base', 'main', 'prompt_answer', 'llama3.1_8b_chat', 'birth_years_4k', 'base', 'main', 'prompt_answer')",
         "line": {
          "width": 0
         },
         "mode": "lines",
         "name": "('llama3.1_8b_chat', 'cities_10k', 'base', 'main', 'prompt_answer', 'llama3.1_8b_chat', 'birth_years_4k', 'base', 'main', 'prompt_answer') Max",
         "showlegend": false,
         "type": "scatter",
         "x": {
          "bdata": "AAECAwQFBgcICQoLDA0ODxAREhMUFRYXGBkaGxwdHh8=",
          "dtype": "i1"
         },
         "y": {
          "bdata": "FjSGfnT04T/ktnZH0AriP3rKtbdlBuI/7g70b6ZH4j9sECZ7nRvjPz9m4X6at+I/LGC6rCx94j8P8x0FBvjgP6FZgWPZSd8/BEDhvqEI3j+A1Jdw4CfiPyBUy63i8uI/QJpFkDXe4j94ajhAR1rjP8ZhS121O+Q/0LBZ9d2d5D/2sQDnnxjkPw77oYYuhOQ/DsD033v/5D8ATZygI0zlP8padoGkR+Y/TLn6ebLX5j+E+VIbK43nP8Stkawxv+c/SI89+qE55z/vypWmURzmP1m2pvBDFeU/23W0YrSM5T8aC3RGxRrlPxxiBJYoLuU/py6TE/d45D+0UEsbbxriPw==",
          "dtype": "f8"
         }
        },
        {
         "fill": "tonexty",
         "fillcolor": "rgba(148, 103, 189, 0.1)",
         "legendgroup": "('llama3.1_8b_chat', 'cities_10k', 'base', 'main', 'prompt_answer', 'llama3.1_8b_chat', 'birth_years_4k', 'base', 'main', 'prompt_answer')",
         "line": {
          "width": 0
         },
         "mode": "lines",
         "name": "('llama3.1_8b_chat', 'cities_10k', 'base', 'main', 'prompt_answer', 'llama3.1_8b_chat', 'birth_years_4k', 'base', 'main', 'prompt_answer') Min",
         "showlegend": false,
         "type": "scatter",
         "x": {
          "bdata": "AAECAwQFBgcICQoLDA0ODxAREhMUFRYXGBkaGxwdHh8=",
          "dtype": "i1"
         },
         "y": {
          "bdata": "N/CdFZZP4D9kvP540HHgPxDqDMZlj98/qs7DlnvL3z8eqyNXOQfgP/uUbAm1+94/KS5fZ2hY4D9UhqEYyYXePxqbXgrbTt0/11PGn0PL2j+Cb7s4ZOvcPxwHavH9AuA/KB5AxHP73z81E3i76fDgP7jxBNtPDOI/WAdKhylQ4z8e/dCci0fjP65Ie/46geM/MygVJt6P5D9JM3+3p7vkP0WdXdIrheU/Uc2fNurf5D91F6QdKpXlP/Z0F6QdKuU/JhI8sopv5D+T651SfTLjPxnH49GRHeI/RsNs3MHy4j+5g+VFLFniPwB7w6R8fOI/6KDsVueo4D+lMSks/kbePw==",
          "dtype": "f8"
         }
        },
        {
         "legendgroup": "('llama3.1_8b_chat', 'cities_10k', 'base', 'main', 'prompt_answer', 'llama3.1_8b_chat', 'birth_years_4k', 'base', 'main', 'prompt_answer')",
         "line": {
          "width": 0
         },
         "mode": "lines",
         "name": "('llama3.1_8b_chat', 'cities_10k', 'base', 'main', 'prompt_answer', 'llama3.1_8b_chat', 'birth_years_4k', 'base', 'main', 'prompt_answer') +1 STD",
         "showlegend": false,
         "type": "scatter",
         "x": {
          "bdata": "AAECAwQFBgcICQoLDA0ODxAREhMUFRYXGBkaGxwdHh8=",
          "dtype": "i1"
         },
         "y": {
          "bdata": "mJ1Jo9II4j/iArQG4SniPxuuTZC1wuE/H0nuO1Ye4j9SpGi1YbDiP5pBhVFIbuI/oC9wuMs/4j/t3MTwZx/hP1Tw1nfoK98/bMNol/G83T+kYcP+/lLhP1inY7TZ0+I/N+vYc9vd4j8emt+sckzjPyacy1A79uM/CExBE5Fm5D8lbyOpOg/kPxxxRPnwXeQ/w5uzEYwF5T+b5od3/y7lPw8R0IitQeY/SJeqqi6P5j+ZVnG8JH3nPy7CsPenq+c/rrKqfMeI5j/JfJaDXWrlP5bWUJ/ITeQ/a3Z+42Ph5D9JpSCCMIDkP9xF2R2bceQ/31FBt0Cq4z/RMifRETnhPw==",
          "dtype": "f8"
         }
        },
        {
         "fill": "tonexty",
         "fillcolor": "rgba(148, 103, 189, 0.3)",
         "legendgroup": "('llama3.1_8b_chat', 'cities_10k', 'base', 'main', 'prompt_answer', 'llama3.1_8b_chat', 'birth_years_4k', 'base', 'main', 'prompt_answer')",
         "line": {
          "width": 0
         },
         "mode": "lines",
         "name": "('llama3.1_8b_chat', 'cities_10k', 'base', 'main', 'prompt_answer', 'llama3.1_8b_chat', 'birth_years_4k', 'base', 'main', 'prompt_answer') -1 STD",
         "showlegend": false,
         "type": "scatter",
         "x": {
          "bdata": "AAECAwQFBgcICQoLDA0ODxAREhMUFRYXGBkaGxwdHh8=",
          "dtype": "i1"
         },
         "y": {
          "bdata": "zmMVkpqv4D8CgIHLrrbgPytiFlYzA+A/7QxSOFgU4D9qmuRfrXTgPzlHKOLp898/gLdmv7ag4D86EBC/QiHfP+bTew3baN0/+onx08RS2z8kDXZkzKrcP/Sc4jw8X+A/3UIhzGZ54D9qVJf1wg7hPy6Jr4MzO+I/uquYO5JX4z+Fref+a2jjP/67o24Gm+M/veskezmg5D+jqNuwm7vkP/v++zJUluU/JNMURSEF5T+BugB57czlP7Sb/onCdOU/VhyIU+o35D+zjFNW5ujiPzYKjXw+zOE/894rTHK74j8Rzs4BRy3iP0xoeHMzTOI/sZsvJMvj4D+3gSm54qfdPw==",
          "dtype": "f8"
         }
        },
        {
         "legendgroup": "('llama3.1_8b_chat', 'cities_10k', 'base', 'main', 'prompt_answer', 'llama3.1_8b_chat', 'birth_years_4k', 'base', 'main', 'prompt_answer')",
         "marker": {
          "color": "#9467bd",
          "opacity": 0.5,
          "size": 6
         },
         "mode": "markers",
         "name": "('llama3.1_8b_chat', 'cities_10k', 'base', 'main', 'prompt_answer', 'llama3.1_8b_chat', 'birth_years_4k', 'base', 'main', 'prompt_answer') Fold ('direction_test_roc_auc', 0)",
         "showlegend": false,
         "type": "scatter",
         "x": {
          "bdata": "AAECAwQFBgcICQoLDA0ODxAREhMUFRYXGBkaGxwdHh8=",
          "dtype": "i1"
         },
         "y": {
          "bdata": "lt8vnwtz4T9d0iuFf9ThP3rKtbdlBuI/7g70b6ZH4j9sECZ7nRvjPz9m4X6at+I/LGC6rCx94j8Xhy111e7gP0SAbR1sSt4/k73OjY4n3T+A1Jdw4CfiPyBUy63i8uI/edKKKhG/4j9/Fk1NC1bjP8ZhS121O+Q/C15Owcsp5D9YyEnMBLPjPxRd9/Cs6uM/DHNpA+Cr5D9JM3+3p7vkP0WdXdIrheU/kdVN5pBR5T91F6QdKpXlP/Z0F6QdKuU/2jrYlAzK5T//B9Vyq7jkP57Rkv+DauM/oVKZouse5D8DnvZXJ+/jP3jaX528d+M/Ag1Gz2jJ4T9Ww9hvR6LePw==",
          "dtype": "f8"
         }
        },
        {
         "legendgroup": "('llama3.1_8b_chat', 'cities_10k', 'base', 'main', 'prompt_answer', 'llama3.1_8b_chat', 'birth_years_4k', 'base', 'main', 'prompt_answer')",
         "marker": {
          "color": "#9467bd",
          "opacity": 0.5,
          "size": 6
         },
         "mode": "markers",
         "name": "('llama3.1_8b_chat', 'cities_10k', 'base', 'main', 'prompt_answer', 'llama3.1_8b_chat', 'birth_years_4k', 'base', 'main', 'prompt_answer') Fold ('direction_test_roc_auc', 1)",
         "showlegend": false,
         "type": "scatter",
         "x": {
          "bdata": "AAECAwQFBgcICQoLDA0ODxAREhMUFRYXGBkaGxwdHh8=",
          "dtype": "i1"
         },
         "y": {
          "bdata": "0jXakKwp4T82dfUGTeTgPxDqDMZlj98/qs7DlnvL3z8eqyNXOQfgP/uUbAm1+94/KS5fZ2hY4D8P8x0FBvjgP3OQJALtCd8/6+dmYWGM3D/rdWrxmizgP6Jf4BTnrOI/QJpFkDXe4j94ajhAR1rjP9MEp38MsOM/0LBZ9d2d5D/2sQDnnxjkPw77oYYuhOQ/NmBXYFX/5D/+EJXAyPTkPzax4Ryy0+U/Uc2fNurf5D/YVHluQSbmP6pW62qx7OU/JhI8sopv5D9WMhDMFjvjPxnH49GRHeI/9ArIfwpP4z9tZswfk5fiPzfu6DrE8+I/6KDsVueo4D+lMSks/kbePw==",
          "dtype": "f8"
         }
        },
        {
         "legendgroup": "('llama3.1_8b_chat', 'cities_10k', 'base', 'main', 'prompt_answer', 'llama3.1_8b_chat', 'birth_years_4k', 'base', 'main', 'prompt_answer')",
         "marker": {
          "color": "#9467bd",
          "opacity": 0.5,
          "size": 6
         },
         "mode": "markers",
         "name": "('llama3.1_8b_chat', 'cities_10k', 'base', 'main', 'prompt_answer', 'llama3.1_8b_chat', 'birth_years_4k', 'base', 'main', 'prompt_answer') Fold ('direction_test_roc_auc', 2)",
         "showlegend": false,
         "type": "scatter",
         "x": {
          "bdata": "AAECAwQFBgcICQoLDA0ODxAREhMUFRYXGBkaGxwdHh8=",
          "dtype": "i1"
         },
         "y": {
          "bdata": "ykk/QU7s4T/ktnZH0AriP4TiIG0+WuE//cyY9ifW4T94LqXsvMfhPw4DM2cJ2OE/OKcOVyP/4D/S/86zPIzfPx/l3D/bht0/IoiEvnIf3D+eY0rgzYbfP7adGt13e+E/HPWYICCi4T/KST9BTuzhP4Fe7opx3eI/HB+R7KfL4z/y0tTMbv7jP5n2J9YxLOQ/PJdSdt7j5D8ATZygI0zlP93ZE8h0QeY/TLn6ebLX5j/U7O0T3XDnP2rapqy+nOc/wuR6p1Sf5D/eJrBomI3jPzovcHHBguI/tj6nFasa4z8cDbrF/rbiP5mNO1hexOI/sTMdkvYg4j9zxsLnn2bfPw==",
          "dtype": "f8"
         }
        },
        {
         "legendgroup": "('llama3.1_8b_chat', 'cities_10k', 'base', 'main', 'prompt_answer', 'llama3.1_8b_chat', 'birth_years_4k', 'base', 'main', 'prompt_answer')",
         "marker": {
          "color": "#9467bd",
          "opacity": 0.5,
          "size": 6
         },
         "mode": "markers",
         "name": "('llama3.1_8b_chat', 'cities_10k', 'base', 'main', 'prompt_answer', 'llama3.1_8b_chat', 'birth_years_4k', 'base', 'main', 'prompt_answer') Fold ('direction_test_roc_auc', 3)",
         "showlegend": false,
         "type": "scatter",
         "x": {
          "bdata": "AAECAwQFBgcICQoLDA0ODxAREhMUFRYXGBkaGxwdHh8=",
          "dtype": "i1"
         },
         "y": {
          "bdata": "FjSGfnT04T9bDO9A+vvhP8hKSboE8+A/kO2xROo/4T9qBJ94RsbhP6RIC9DLXeE/bArp9nvG4T9UhqEYyYXePxqbXgrbTt0/11PGn0PL2j+Cb7s4ZOvcPyZS/0l34eA/TAJo4gQd4T9gduyLe1bhP4AmTtARpuI/FbadGt134z9MfSuHgZnjP1jZhzci0uM/MygVJt6P5D8wWmtiCMfkP/mktBwNuuU/mHg/cpqv5T8d2D7KuX/mP+kW+9tKXuY/fESyny7P5D+T651SfTLjP7EzHZL2IOI/RsNs3MHy4j+5g+VFLFniPwB7w6R8fOI/o0G32N9W4j+NZVAqTLzfPw==",
          "dtype": "f8"
         }
        },
        {
         "legendgroup": "('llama3.1_8b_chat', 'cities_10k', 'base', 'main', 'prompt_answer', 'llama3.1_8b_chat', 'birth_years_4k', 'base', 'main', 'prompt_answer')",
         "marker": {
          "color": "#9467bd",
          "opacity": 0.5,
          "size": 6
         },
         "mode": "markers",
         "name": "('llama3.1_8b_chat', 'cities_10k', 'base', 'main', 'prompt_answer', 'llama3.1_8b_chat', 'birth_years_4k', 'base', 'main', 'prompt_answer') Fold ('direction_test_roc_auc', 4)",
         "showlegend": false,
         "type": "scatter",
         "x": {
          "bdata": "AAECAwQFBgcICQoLDA0ODxAREhMUFRYXGBkaGxwdHh8=",
          "dtype": "i1"
         },
         "y": {
          "bdata": "N/CdFZZP4D9kvP540HHgP9+7031qU+A/TCYArD074D9pLrN9yyvhP5aAqetOmeA/2gGIyRGW4T9efzzoOMjgP6FZgWPZSd8/BEDhvqEI3j8coe0X0S7dPxwHavH9AuA/KB5AxHP73z81E3i76fDgP7jxBNtPDOI/WAdKhylQ4z8e/dCci0fjP65Ie/46geM/DsD033v/5D+j+txp5wblP8padoGkR+Y/RbU2zv855j+E+VIbK43nP8Stkawxv+c/SI89+qE55z/vypWmURzmP1m2pvBDFeU/23W0YrSM5T8aC3RGxRrlPxxiBJYoLuU/py6TE/d45D+0UEsbbxriPw==",
          "dtype": "f8"
         }
        },
        {
         "legendgroup": "('llama3.1_8b_chat', 'cities_10k', 'base', 'main', 'prompt_answer', 'llama3.1_8b_chat', 'cities_10k', 'base', 'main', 'prompt_answer')",
         "line": {
          "color": "#8c564b",
          "width": 2
         },
         "marker": {
          "size": 8
         },
         "mode": "lines+markers",
         "name": "('llama3.1_8b_chat', 'cities_10k', 'base', 'main', 'prompt_answer', 'llama3.1_8b_chat', 'cities_10k', 'base', 'main', 'prompt_answer')",
         "type": "scatter",
         "x": {
          "bdata": "AAECAwQFBgcICQoLDA0ODxAREhMUFRYXGBkaGxwdHh8=",
          "dtype": "i1"
         },
         "y": {
          "bdata": "mIO6hCJk5T9DS4YpmJHlPwZwE8Zyb+U/NB+h1osz5T/woIV3MzzlP3YxF/mNQOU/vjG1lcMR5j/ppdxNhlnmP4sVSj+b6+Y/Ywcu4Re95z8cJWqi0cznP3VPFXs62+c/EI47b6kD6D/fzR46xvjnPyaB6GoLZeg/9x3YSDVI6D+F8zAeeVLoP1/wKEQ7F+g/W2AsCZof6D/tiuqpLifoP+BY26VDKug/Gr0NKVUg6D+reLclhh7oPxh4ac3EJug/ha3OUmXr5z9gVIpRnornP6FFECoVCec/V8UOpFJ95j+ya+XKO5TmP3XejzlzjeY/RUSV/CJS5j9/aI54cwPmPw==",
          "dtype": "f8"
         }
        },
        {
         "legendgroup": "('llama3.1_8b_chat', 'cities_10k', 'base', 'main', 'prompt_answer', 'llama3.1_8b_chat', 'cities_10k', 'base', 'main', 'prompt_answer')",
         "line": {
          "width": 0
         },
         "mode": "lines",
         "name": "('llama3.1_8b_chat', 'cities_10k', 'base', 'main', 'prompt_answer', 'llama3.1_8b_chat', 'cities_10k', 'base', 'main', 'prompt_answer') Max",
         "showlegend": false,
         "type": "scatter",
         "x": {
          "bdata": "AAECAwQFBgcICQoLDA0ODxAREhMUFRYXGBkaGxwdHh8=",
          "dtype": "i1"
         },
         "y": {
          "bdata": "NkRTYnHk5T/ON6EKdDHmP6cbr00i3uU/uAYMDXWj5T8QRt1VnnblP5L7ZM43ieU/Kd0Th6JY5j+MIrlP5uTmP2qIpsTiYOc/LA7w0bNp6D87Hf/gwlDoP6h2upLmjug/Fq6Wavmt6D9+cOWVEajoP6pQQRP+D+k/GM18tVfE6D+ox1/+XcjoP6+5iB7IkOg/OIDc6eis6D/IZn4uzsHoP3imPn7pveg/wijF/JXI6D/cAj8LA63oP25TybWlv+g/2lYsUCgz6D/O7+XU7NrnPzxbI4FpZec/ZPFf/A/W5j/3lDFwBunmP+JDU5cJ6eY/XDN4Q3T75j9QRrRbvGzmPw==",
          "dtype": "f8"
         }
        },
        {
         "fill": "tonexty",
         "fillcolor": "rgba(140, 86, 75, 0.1)",
         "legendgroup": "('llama3.1_8b_chat', 'cities_10k', 'base', 'main', 'prompt_answer', 'llama3.1_8b_chat', 'cities_10k', 'base', 'main', 'prompt_answer')",
         "line": {
          "width": 0
         },
         "mode": "lines",
         "name": "('llama3.1_8b_chat', 'cities_10k', 'base', 'main', 'prompt_answer', 'llama3.1_8b_chat', 'cities_10k', 'base', 'main', 'prompt_answer') Min",
         "showlegend": false,
         "type": "scatter",
         "x": {
          "bdata": "AAECAwQFBgcICQoLDA0ODxAREhMUFRYXGBkaGxwdHh8=",
          "dtype": "i1"
         },
         "y": {
          "bdata": "aPYjuYnr5D9CU9wOOkLlP6uNBxWpEeU/010te7nn5D9NHRK8vgTlP8IAz3BbyOQ/0LOdsKnD5T/dwCxY9cflP8uTeSGAd+Y/UgJpVg8b5z+5ibtATT7nP5bMAD3bKec/3EZ2RL9y5z+aAXq2E2bnP+SoBqfN7Oc/anDazL/Q5z9wnfG1ld7nP0+XyM/0mec/87FkBuh55z+HRbuBWYDnPzT/wiT2hOc/Sm7iLlCT5z8k+pUNDZ/nP6hL5Gf6pOc/p08VsCuc5z9HAa0SQjnnP7BzoEIVmuY/GCGZHjv95T87FxpgmQ7mP3+16medCOY/pYZoSizm5T+xGYPsVXvlPw==",
          "dtype": "f8"
         }
        },
        {
         "legendgroup": "('llama3.1_8b_chat', 'cities_10k', 'base', 'main', 'prompt_answer', 'llama3.1_8b_chat', 'cities_10k', 'base', 'main', 'prompt_answer')",
         "line": {
          "width": 0
         },
         "mode": "lines",
         "name": "('llama3.1_8b_chat', 'cities_10k', 'base', 'main', 'prompt_answer', 'llama3.1_8b_chat', 'cities_10k', 'base', 'main', 'prompt_answer') +1 STD",
         "showlegend": false,
         "type": "scatter",
         "x": {
          "bdata": "AAECAwQFBgcICQoLDA0ODxAREhMUFRYXGBkaGxwdHh8=",
          "dtype": "i1"
         },
         "y": {
          "bdata": "XX0XaoTO5T8zy4TtpPblPx/AjwZNwOU/yG45xq955T+KRChphHDlP5Jo/JVGkuU/BbOCBeRV5j/HDFtT/9XmPxMBmSVhV+c/1EdOHItP6D8szIzy6kToPyC1EIsmbOg/LaRXIsZ/6D+KtuSj/3HoP56NSGSxzug/CEByY7Gh6D+lBd6A2rToP0kwcDvgdOg/NnTlZFeO6D+7LD6OoJroP1ClIvpDm+g/kAduANqQ6D8tNuC2UYLoP+f+k1T7jeg/mMJma9ku6D8jZDzwDdLnP64F4X7tX+c/ZgQyzEPa5j/of81z4vHmPx0SEbbZ4+Y/xrT7huDB5j+Kne9TVV7mPw==",
          "dtype": "f8"
         }
        },
        {
         "fill": "tonexty",
         "fillcolor": "rgba(140, 86, 75, 0.3)",
         "legendgroup": "('llama3.1_8b_chat', 'cities_10k', 'base', 'main', 'prompt_answer', 'llama3.1_8b_chat', 'cities_10k', 'base', 'main', 'prompt_answer')",
         "line": {
          "width": 0
         },
         "mode": "lines",
         "name": "('llama3.1_8b_chat', 'cities_10k', 'base', 'main', 'prompt_answer', 'llama3.1_8b_chat', 'cities_10k', 'base', 'main', 'prompt_answer') -1 STD",
         "showlegend": false,
         "type": "scatter",
         "x": {
          "bdata": "AAECAwQFBgcICQoLDA0ODxAREhMUFRYXGBkaGxwdHh8=",
          "dtype": "i1"
         },
         "y": {
          "bdata": "04ldn8D55D9Ty4dliyzlP+0fl4WYHuU/oM8I52ft5D9W/eKF4gflP1r6MVzV7uQ/d7DnJaPN5T8LP15IDd3lPwMq+1jVf+Y/8sYNpqQq5z8MfkdSuFTnP8rpGWtOSuc/83cfvIyH5z805VjQjH/nP650iHFl++c/5vs9Lrnu5z9l4YO7F/DnP3Ww4UyWuec/gExzrdyw5z8f6ZbFvLPnP3AMlFFDuec/pHKtUdCv5z8pu46UurrnP0nxPkaOv+c/cpg2OvGn5z+dRNiyLkPnP5SFP9U8suY/SIbre2Eg5j98V/0hlTbmP82qDr0MN+Y/xNMucmXi5T90My2dkajlPw==",
          "dtype": "f8"
         }
        },
        {
         "legendgroup": "('llama3.1_8b_chat', 'cities_10k', 'base', 'main', 'prompt_answer', 'llama3.1_8b_chat', 'cities_10k', 'base', 'main', 'prompt_answer')",
         "marker": {
          "color": "#8c564b",
          "opacity": 0.5,
          "size": 6
         },
         "mode": "markers",
         "name": "('llama3.1_8b_chat', 'cities_10k', 'base', 'main', 'prompt_answer', 'llama3.1_8b_chat', 'cities_10k', 'base', 'main', 'prompt_answer') Fold ('direction_test_roc_auc', 0)",
         "showlegend": false,
         "type": "scatter",
         "x": {
          "bdata": "AAECAwQFBgcICQoLDA0ODxAREhMUFRYXGBkaGxwdHh8=",
          "dtype": "i1"
         },
         "y": {
          "bdata": "ukhyavDC5T+M63p5lLflP6cbr00i3uU/uAYMDXWj5T8QRt1VnnblP1jDTnqheOU/Kd0Th6JY5j//J+T1RKvmPz5FvTDmJ+c/suqTgGkD6D9ttRimdT/oP6h2upLmjug/Fq6Wavmt6D9+cOWVEajoP6pQQRP+D+k/GM18tVfE6D+ox1/+XcjoP6+5iB7IkOg/OIDc6eis6D/IZn4uzsHoP3imPn7pveg/wijF/JXI6D/cAj8LA63oP25TybWlv+g/UzXNXN8o6D/87srMLrrnP3lfElBDL+c/nv4KuKrB5j8cwgAwkM/mP+JDU5cJ6eY/XDN4Q3T75j/nqwysZCDmPw==",
          "dtype": "f8"
         }
        },
        {
         "legendgroup": "('llama3.1_8b_chat', 'cities_10k', 'base', 'main', 'prompt_answer', 'llama3.1_8b_chat', 'cities_10k', 'base', 'main', 'prompt_answer')",
         "marker": {
          "color": "#8c564b",
          "opacity": 0.5,
          "size": 6
         },
         "mode": "markers",
         "name": "('llama3.1_8b_chat', 'cities_10k', 'base', 'main', 'prompt_answer', 'llama3.1_8b_chat', 'cities_10k', 'base', 'main', 'prompt_answer') Fold ('direction_test_roc_auc', 1)",
         "showlegend": false,
         "type": "scatter",
         "x": {
          "bdata": "AAECAwQFBgcICQoLDA0ODxAREhMUFRYXGBkaGxwdHh8=",
          "dtype": "i1"
         },
         "y": {
          "bdata": "NkRTYnHk5T/ON6EKdDHmPzVjkL3qm+U/BbpuI9gs5T+w+kWR3FPlP5L7ZM43ieU/IrlP5nwD5j+MIrlP5uTmP2qIpsTiYOc/LA7w0bNp6D87Hf/gwlDoP4CPnq28R+g/53wTqkBL6D9/UST3ySToP7fyLmunS+g/T8c/uDBZ6D8RTYnFAXLoPxzgo2crI+g/dN1GsBk76D9vI9iMQTboP3l4eHh4POg/Fui6jWAj6D+CzRhkrzboP0RTYnGAN+g/6zaCzRjs5z/KnG9CFaDnPxlkr/pFPec/TqgCXbeh5j9KLA7w0cfmP96EKtB1f+Y/pYZoSizm5T+xGYPsVXvlPw==",
          "dtype": "f8"
         }
        },
        {
         "legendgroup": "('llama3.1_8b_chat', 'cities_10k', 'base', 'main', 'prompt_answer', 'llama3.1_8b_chat', 'cities_10k', 'base', 'main', 'prompt_answer')",
         "marker": {
          "color": "#8c564b",
          "opacity": 0.5,
          "size": 6
         },
         "mode": "markers",
         "name": "('llama3.1_8b_chat', 'cities_10k', 'base', 'main', 'prompt_answer', 'llama3.1_8b_chat', 'cities_10k', 'base', 'main', 'prompt_answer') Fold ('direction_test_roc_auc', 2)",
         "showlegend": false,
         "type": "scatter",
         "x": {
          "bdata": "AAECAwQFBgcICQoLDA0ODxAREhMUFRYXGBkaGxwdHh8=",
          "dtype": "i1"
         },
         "y": {
          "bdata": "aPYjuYnr5D8NTpv5F0blPyX2ZMXbN+U/8nSJ/EwP5T9NHRK8vgTlPybyM32qEOU/0LOdsKnD5T/dwCxY9cflP2VH9CsbeuY/nnPOOecs5z+5ibtATT7nP5bMAD3bKec/3EZ2RL9y5z+aAXq2E2bnP+SoBqfN7Oc/anDazL/Q5z9wnfG1ld7nP0+XyM/0mec/87FkBuh55z+HRbuBWYDnPzT/wiT2hOc/Sm7iLlCT5z8k+pUNDZ/nP6hL5Gf6pOc/p08VsCuc5z8GKeagpEbnP6jJy8NhweY/TCFDBPA75j/efyAGKVbmPwSzYNWfiOY/15dGt1BB5j/C60ujWyjmPw==",
          "dtype": "f8"
         }
        },
        {
         "legendgroup": "('llama3.1_8b_chat', 'cities_10k', 'base', 'main', 'prompt_answer', 'llama3.1_8b_chat', 'cities_10k', 'base', 'main', 'prompt_answer')",
         "marker": {
          "color": "#8c564b",
          "opacity": 0.5,
          "size": 6
         },
         "mode": "markers",
         "name": "('llama3.1_8b_chat', 'cities_10k', 'base', 'main', 'prompt_answer', 'llama3.1_8b_chat', 'cities_10k', 'base', 'main', 'prompt_answer') Fold ('direction_test_roc_auc', 3)",
         "showlegend": false,
         "type": "scatter",
         "x": {
          "bdata": "AAECAwQFBgcICQoLDA0ODxAREhMUFRYXGBkaGxwdHh8=",
          "dtype": "i1"
         },
         "y": {
          "bdata": "ueGvV7wt5T9CU9wOOkLlP6uNBxWpEeU/010te7nn5D8kAbbJyATlP8IAz3BbyOQ/p1r7LVPh5T96GMnw3OblP8uTeSGAd+Y/UgJpVg8b5z8DLNNhKX7nPzDN5mUgxuc/ksgSOwDx5z98p3kcxfPnP5VFVVlRWOg/vEvF5yYf6D/Sne2qmfvnP9q10z4M5Oc/jeT3DjMJ6D9GPXE/5AvoP4rAHLOFDeg/BAT7Q73x5z+3qejs2OvnP+xYbH0n+ec/3FB4c6605z9HAa0SQjnnP7BzoEIVmuY/GCGZHjv95T87FxpgmQ7mP3+16medCOY/0AMI90b75T/UEjjDbuDlPw==",
          "dtype": "f8"
         }
        },
        {
         "legendgroup": "('llama3.1_8b_chat', 'cities_10k', 'base', 'main', 'prompt_answer', 'llama3.1_8b_chat', 'cities_10k', 'base', 'main', 'prompt_answer')",
         "marker": {
          "color": "#8c564b",
          "opacity": 0.5,
          "size": 6
         },
         "mode": "markers",
         "name": "('llama3.1_8b_chat', 'cities_10k', 'base', 'main', 'prompt_answer', 'llama3.1_8b_chat', 'cities_10k', 'base', 'main', 'prompt_answer') Fold ('direction_test_roc_auc', 4)",
         "showlegend": false,
         "type": "scatter",
         "x": {
          "bdata": "AAECAwQFBgcICQoLDA0ODxAREhMUFRYXGBkaGxwdHh8=",
          "dtype": "i1"
         },
         "y": {
          "bdata": "6iwLugQ05T+qswtDnmblP3AttfiraeU/hQj0iGc65T9+xbDo/ljlP4FFvabmZ+U/81ONoLVX5j+rGbz2oYDmP97CoPmjH+c/HrYqg2P85z8nMWwCabPnP1btKYSFgec/6ov2l1W15z9JmpzCKrXnP+NTvpd0WOg/SUXcSZtb6D+gcSxyzofoP+TKA8AzQug/mu1dfuQy6D+ZqRHVmz/oP7HdsW50Rug/YS7nz6Uw6D8h575SBiroPzYNk/aPLOg/2lYsUCgz6D/O7+XU7NrnPzxbI4FpZec/ZPFf/A/W5j/3lDFwBunmPwUnBnuDyeY/r/+6snZ85j9QRrRbvGzmPw==",
          "dtype": "f8"
         }
        },
        {
         "legendgroup": "('llama3.1_8b_chat', 'cities_10k', 'base', 'main', 'prompt_only', 'llama3.1_8b_chat', 'birth_years_4k', 'base', 'main', 'prompt_only')",
         "line": {
          "color": "#1f77b4",
          "width": 2
         },
         "marker": {
          "size": 8
         },
         "mode": "lines+markers",
         "name": "('llama3.1_8b_chat', 'cities_10k', 'base', 'main', 'prompt_only', 'llama3.1_8b_chat', 'birth_years_4k', 'base', 'main', 'prompt_only')",
         "type": "scatter",
         "x": {
          "bdata": "AAECAwQFBgcICQoLDA0ODxAREhMUFRYXGBkaGxwdHh8=",
          "dtype": "i1"
         },
         "y": {
          "bdata": "5rZ/jAcK3z+dmOqfQiveP8a4DRuQYt4/WqjN03Vg3j8e9Q5/KNneP12Zw8811d8/TdsDkdpG4D9rGFbN+w3hP1WOjcvs5uA/GMYgqKsh3z8YhaTsjHLgP6XSoFH28+A/8h4mvdG34T+7cX++nebhP1yT+OhHoOI/s8l/uZxv4z/AWPC0jo7jP8OjgdkWqeM/BbnABrsH5T+4D+wSauPkP1MWCNlsjeQ/qpOI6iAH5T8Ijl/nv8fkP8LBpUM2EeU/2SSJZonU5D/y8LQhRMvkP8dty+jbZOQ/1t+iqxAK5T/oPevhkFTkPwdhAbJyjOM/zzLSdP5q4z/GJq4T2rnhPw==",
          "dtype": "f8"
         }
        },
        {
         "legendgroup": "('llama3.1_8b_chat', 'cities_10k', 'base', 'main', 'prompt_only', 'llama3.1_8b_chat', 'birth_years_4k', 'base', 'main', 'prompt_only')",
         "line": {
          "width": 0
         },
         "mode": "lines",
         "name": "('llama3.1_8b_chat', 'cities_10k', 'base', 'main', 'prompt_only', 'llama3.1_8b_chat', 'birth_years_4k', 'base', 'main', 'prompt_only') Max",
         "showlegend": false,
         "type": "scatter",
         "x": {
          "bdata": "AAECAwQFBgcICQoLDA0ODxAREhMUFRYXGBkaGxwdHh8=",
          "dtype": "i1"
         },
         "y": {
          "bdata": "iMPnVU/z4D9hFIJx3aTgP2jGhxgG1uA/eX0llO7T4D/B7VidyLngP8i9p9DhLeE/zWhH/Wym4T+NKO0NvjDiPwu1pnnHKeI/+abuKrqh4D9PKJtUTk7hP4jRlkcn2eE/t2J/2T154j9ApN++DpziP8IezOztI+M/vBAA+LKy4z+uDTbJ0NHjP2jCscaE5+M/d08eFmrN5T/+MUfp9nXlP2recYqO5OQ/Xw+LSbGM5T+eI6OU6TflP8oQV4BTw+U/YgByIo6Y5T9m9qDkbXnlP93yolvY8OQ/OWdEaW/w5T/w+jntMRXlP0JTDPs1QOQ/BSwuHwbf4z9R2ht8YTLiPw==",
          "dtype": "f8"
         }
        },
        {
         "fill": "tonexty",
         "fillcolor": "rgba(31, 119, 180, 0.1)",
         "legendgroup": "('llama3.1_8b_chat', 'cities_10k', 'base', 'main', 'prompt_only', 'llama3.1_8b_chat', 'birth_years_4k', 'base', 'main', 'prompt_only')",
         "line": {
          "width": 0
         },
         "mode": "lines",
         "name": "('llama3.1_8b_chat', 'cities_10k', 'base', 'main', 'prompt_only', 'llama3.1_8b_chat', 'birth_years_4k', 'base', 'main', 'prompt_only') Min",
         "showlegend": false,
         "type": "scatter",
         "x": {
          "bdata": "AAECAwQFBgcICQoLDA0ODxAREhMUFRYXGBkaGxwdHh8=",
          "dtype": "i1"
         },
         "y": {
          "bdata": "7V4fP/AC3D/bGwD8UpbbP1aTGVQt/to/R2x0iURp2z9YB3LhIn7cP9it7u1Dad0/Pdzcv6BK3j/u/dKjBj3gPwJ4DxeCBt8/krrr+F7L3D+1SFBTIRrfP3GUbl9Z/d8/5MGAM64l4T+6eiRxSVDhP+n2ldW7JOI/Idrw+WNO4z8W3w/IQEfjP0RBtTGKO+M/pgie9BAF5D9B5Wi7CfnjP+ziRj3VEOQ/2SRDR09a5D/YlR4B1zjkPzDbOBKKX+Q/PSov9GUj5D+ckipmyVnkP1skqKkQ/eM/MS7LPyH74z+07R6XAqPjP/0xR+n2JeM/c9cS8kHP4j+g+8W8NgPhPw==",
          "dtype": "f8"
         }
        },
        {
         "legendgroup": "('llama3.1_8b_chat', 'cities_10k', 'base', 'main', 'prompt_only', 'llama3.1_8b_chat', 'birth_years_4k', 'base', 'main', 'prompt_only')",
         "line": {
          "width": 0
         },
         "mode": "lines",
         "name": "('llama3.1_8b_chat', 'cities_10k', 'base', 'main', 'prompt_only', 'llama3.1_8b_chat', 'birth_years_4k', 'base', 'main', 'prompt_only') +1 STD",
         "showlegend": false,
         "type": "scatter",
         "x": {
          "bdata": "AAECAwQFBgcICQoLDA0ODxAREhMUFRYXGBkaGxwdHh8=",
          "dtype": "i1"
         },
         "y": {
          "bdata": "MpzSZKjL4D89KO75e1PgP6bvBs/ch+A/CFAwGz5s4D/EH7/ifYjgP3QWGd9hF+E/Coaj33Bq4T8zyVS4ufThP+aFBdx6BeI/yCQyQGyR4D9S8v8fpTvhP6cAMMUzxuE/jIg3BYpe4j+SI9iea4biPxuJtq4tFOM/LEaII2mc4z+Q26scasPjP0mPYusj8OM/yGm9KEvH5T/6gb3YHo/lP+qDgzQv/OQ/NpDiJwuT5T/+GyhvqS/lP9PhFjhTruU/eneLbZRz5T86UCprZzzlP75cGEAWyuQ/RN2Qn1PZ5T971Lr8rvHkP4/QempyAOQ/WBAEKd/b4z+vl1MzszTiPw==",
          "dtype": "f8"
         }
        },
        {
         "fill": "tonexty",
         "fillcolor": "rgba(31, 119, 180, 0.3)",
         "legendgroup": "('llama3.1_8b_chat', 'cities_10k', 'base', 'main', 'prompt_only', 'llama3.1_8b_chat', 'birth_years_4k', 'base', 'main', 'prompt_only')",
         "line": {
          "width": 0
         },
         "mode": "lines",
         "name": "('llama3.1_8b_chat', 'cities_10k', 'base', 'main', 'prompt_only', 'llama3.1_8b_chat', 'birth_years_4k', 'base', 'main', 'prompt_only') -1 STD",
         "showlegend": false,
         "type": "scatter",
         "x": {
          "bdata": "AAECAwQFBgcICQoLDA0ODxAREhMUFRYXGBkaGxwdHh8=",
          "dtype": "i1"
         },
         "y": {
          "bdata": "aTVaT7583D/A4PhLja/bP0CSDZhmtds/pbA6cW/o2z+0qp84VaHcP9IFVeGne90/IGHIhIhG3j+jZ1fiPSfgP4gtK3a9kN8/oELdz34g3T+7L5Jy6VLfP6OkEd64IeA/WLUUdRkR4T/kvybez0bhP52dOiNiLOI/Ok13T9BC4z/w1TRNs1njPz24oMcJYuM/QgjE5CpI5D92nRpNtTfkP7yojH2qHuQ/HpcurTZ75D8SAJdf1l/kP7GhNE8ZdOQ/ONKGX3415D+qkT/YIFrkP9B+fpGh/+M/aOK0t8065D9VpxvHcrfjP3/xh/lyGOM/RlWgwB364j/dtQj0AD/hPw==",
          "dtype": "f8"
         }
        },
        {
         "legendgroup": "('llama3.1_8b_chat', 'cities_10k', 'base', 'main', 'prompt_only', 'llama3.1_8b_chat', 'birth_years_4k', 'base', 'main', 'prompt_only')",
         "marker": {
          "color": "#1f77b4",
          "opacity": 0.5,
          "size": 6
         },
         "mode": "markers",
         "name": "('llama3.1_8b_chat', 'cities_10k', 'base', 'main', 'prompt_only', 'llama3.1_8b_chat', 'birth_years_4k', 'base', 'main', 'prompt_only') Fold ('direction_test_roc_auc', 0)",
         "showlegend": false,
         "type": "scatter",
         "x": {
          "bdata": "AAECAwQFBgcICQoLDA0ODxAREhMUFRYXGBkaGxwdHh8=",
          "dtype": "i1"
         },
         "y": {
          "bdata": "yXa+nxqv4D/LoUW28/3fP3zysFBrGuA/J6CJsOHp3z/uycNCrWngP1pkO99PDeE/noAmwoYn4T+NKO0NvjDiPwu1pnnHKeI/Db4wmSqY4D+hZ7PqczXhP6s+V1uxv+E/t2J/2T154j9ApN++DpziP1CNl24SA+M/M1UwKqlT4z+O5PIf0m/jP/fkYaHWtOM/d08eFmrN5T9oAG+BBEXlP2recYqO5OQ/C5OpglFJ5T8qhxbZzvfkPzY8vVKWIeU/YAfOGVFa5T/0bFZ9rvbkP0Ck374OnOQ/OWdEaW/w5T+9dJMYBNbkPxUdyeU/pOM/c9cS8kHP4j9R2ht8YTLiPw==",
          "dtype": "f8"
         }
        },
        {
         "legendgroup": "('llama3.1_8b_chat', 'cities_10k', 'base', 'main', 'prompt_only', 'llama3.1_8b_chat', 'birth_years_4k', 'base', 'main', 'prompt_only')",
         "marker": {
          "color": "#1f77b4",
          "opacity": 0.5,
          "size": 6
         },
         "mode": "markers",
         "name": "('llama3.1_8b_chat', 'cities_10k', 'base', 'main', 'prompt_only', 'llama3.1_8b_chat', 'birth_years_4k', 'base', 'main', 'prompt_only') Fold ('direction_test_roc_auc', 1)",
         "showlegend": false,
         "type": "scatter",
         "x": {
          "bdata": "AAECAwQFBgcICQoLDA0ODxAREhMUFRYXGBkaGxwdHh8=",
          "dtype": "i1"
         },
         "y": {
          "bdata": "7Surd8mj3j93Yid2YgfeP3ItEtRUaN4/3iUPBpwR3j+Fzx9zlG7eP3jJgwFnnN8/RoKaCtFG4D+bCtGGz5/gPwaccS0S9OA/pdtXVu9y3j+1SFBTIRrfP3GUbl9Z/d8/5MGAM64l4T+zepc8GGDhP+n2ldW7JOI/Idrw+WNO4z+l21dW76LjP5bVu+TBkOM/5485Srdf5T/+MUfp9nXlP1DsxE7s1OQ/yoMBZ1xr5T/CGdciQf3kPw6fP+YojeU/e5c8GHCm5D/rXfJgwKnkP1skqKkQ/eM/3iUPBpyh5D9iJ3ZiJ+bjP/0xR+n2JeM/ltW75MHQ4z8kqKkQbZjhPw==",
          "dtype": "f8"
         }
        },
        {
         "legendgroup": "('llama3.1_8b_chat', 'cities_10k', 'base', 'main', 'prompt_only', 'llama3.1_8b_chat', 'birth_years_4k', 'base', 'main', 'prompt_only')",
         "marker": {
          "color": "#1f77b4",
          "opacity": 0.5,
          "size": 6
         },
         "mode": "markers",
         "name": "('llama3.1_8b_chat', 'cities_10k', 'base', 'main', 'prompt_only', 'llama3.1_8b_chat', 'birth_years_4k', 'base', 'main', 'prompt_only') Fold ('direction_test_roc_auc', 2)",
         "showlegend": false,
         "type": "scatter",
         "x": {
          "bdata": "AAECAwQFBgcICQoLDA0ODxAREhMUFRYXGBkaGxwdHh8=",
          "dtype": "i1"
         },
         "y": {
          "bdata": "iMPnVU/z4D9hFIJx3aTgP2jGhxgG1uA/eX0llO7T4D/B7VidyLngP8i9p9DhLeE/zWhH/Wym4T//9ccJM9rhP0L37f5izeE/+abuKrqh4D9PKJtUTk7hP4jRlkcn2eE/LDKEjj9e4j/8m89h/oXiP8IezOztI+M/vBAA+LKy4z+uDTbJ0NHjP2jCscaE5+M/pgie9BAF5D9B5Wi7CfnjP+ziRj3VEOQ/2SRDR09a5D/YlR4B1zjkPzDbOBKKX+Q/PSov9GUj5D+ckipmyVnkP6G+P+f0DeQ/MS7LPyH74z+07R6XAqPjP8+wumFIJuM/19Obwvg14z8KgVAE8CPiPw==",
          "dtype": "f8"
         }
        },
        {
         "legendgroup": "('llama3.1_8b_chat', 'cities_10k', 'base', 'main', 'prompt_only', 'llama3.1_8b_chat', 'birth_years_4k', 'base', 'main', 'prompt_only')",
         "marker": {
          "color": "#1f77b4",
          "opacity": 0.5,
          "size": 6
         },
         "mode": "markers",
         "name": "('llama3.1_8b_chat', 'cities_10k', 'base', 'main', 'prompt_only', 'llama3.1_8b_chat', 'birth_years_4k', 'base', 'main', 'prompt_only') Fold ('direction_test_roc_auc', 3)",
         "showlegend": false,
         "type": "scatter",
         "x": {
          "bdata": "AAECAwQFBgcICQoLDA0ODxAREhMUFRYXGBkaGxwdHh8=",
          "dtype": "i1"
         },
         "y": {
          "bdata": "7V4fP/AC3D/bGwD8UpbbP1aTGVQt/to/R2x0iURp2z9YB3LhIn7cPztDmb/+rd0/XN04Vl9Q3j8DU1XAI17gP1TDNUgiFOA/OH4hcUL23T/qmafwM0vgPwiXkVkkyOA/GsZPjJtr4T/+AhLqpa7hP1JAxJMJoOI/VKsnzieJ4z/HDiGB9pzjP5d0A8HK5OM/KLYZDxV65T9167JQ6lzlP0aD54MQ4eQ/Xw+LSbGM5T+eI6OU6TflP8oQV4BTw+U/YgByIo6Y5T9m9qDkbXnlP93yolvY8OQ/r9yRz/O/5T/w+jntMRXlP0JTDPs1QOQ/BSwuHwbf4z/BwooUTa/hPw==",
          "dtype": "f8"
         }
        },
        {
         "legendgroup": "('llama3.1_8b_chat', 'cities_10k', 'base', 'main', 'prompt_only', 'llama3.1_8b_chat', 'birth_years_4k', 'base', 'main', 'prompt_only')",
         "marker": {
          "color": "#1f77b4",
          "opacity": 0.5,
          "size": 6
         },
         "mode": "markers",
         "name": "('llama3.1_8b_chat', 'cities_10k', 'base', 'main', 'prompt_only', 'llama3.1_8b_chat', 'birth_years_4k', 'base', 'main', 'prompt_only') Fold ('direction_test_roc_auc', 4)",
         "showlegend": false,
         "type": "scatter",
         "x": {
          "bdata": "AAECAwQFBgcICQoLDA0ODxAREhMUFRYXGBkaGxwdHh8=",
          "dtype": "i1"
         },
         "y": {
          "bdata": "AZNnHJhG3T8ysiMU6fLbP09pp4xrpdw/fBysuq3V3D9fg39mJwrdP9it7u1Dad0/Pdzcv6BK3j/u/dKjBj3gPwJ4DxeCBt8/krrr+F7L3D+EljCLc8HfP8Yr7eslZOA/2H3qiVEu4T+6eiRxSVDhP4H9HMihNeI/HAU2tSdQ4z8W3w/IQEfjP0RBtTGKO+M/6/6zvV965D96S8rnImDkP7Q+w6K/F+Q/RpcxGvaH5D/Iay7z7oDkP4YBsIZyhOQ/xO4BuPlp5D/XYHR/roTkP8uqjuBeYOQ/Ncd92zLl5D/GsDVqdDLkPwSSL06IjeM/KFGCj/Vh4z+g+8W8NgPhPw==",
          "dtype": "f8"
         }
        },
        {
         "legendgroup": "('llama3.1_8b_chat', 'cities_10k', 'base', 'main', 'prompt_only', 'llama3.1_8b_chat', 'cities_10k', 'base', 'main', 'prompt_only')",
         "line": {
          "color": "#ff7f0e",
          "width": 2
         },
         "marker": {
          "size": 8
         },
         "mode": "lines+markers",
         "name": "('llama3.1_8b_chat', 'cities_10k', 'base', 'main', 'prompt_only', 'llama3.1_8b_chat', 'cities_10k', 'base', 'main', 'prompt_only')",
         "type": "scatter",
         "x": {
          "bdata": "AAECAwQFBgcICQoLDA0ODxAREhMUFRYXGBkaGxwdHh8=",
          "dtype": "i1"
         },
         "y": {
          "bdata": "KtHXN+7Q4j+2qhBeTRvjP3YavFwXGuM/dlOIe6UV4z9iw2hL45PjPypHjAcSveM/u0cAFedh5D8HyM3wi7DkP3dZKydtvuU/xUO/eXX85T+lukIQhobmP0Qw7UbIueY/eMxx+3X55j/2f1Bq/6jmP9W3V0x1/OY/eVk9qt395j9oQsrBmNLmP21ZhbbM0OY/zQ8Mwg3A5j+ZwWFJvajmP3QDMVh/lOY/vrj1aQJL5j8lrys3dzjmPzmnw5LtL+Y/snWkzwJ75j/zxL7WPV/mPxH6GtyLeeY/pa/WsX5h5j+i9re5dk/mP3SWdC2QIeY/Xl1BpsPl5T819SKvgvnkPw==",
          "dtype": "f8"
         }
        },
        {
         "legendgroup": "('llama3.1_8b_chat', 'cities_10k', 'base', 'main', 'prompt_only', 'llama3.1_8b_chat', 'cities_10k', 'base', 'main', 'prompt_only')",
         "line": {
          "width": 0
         },
         "mode": "lines",
         "name": "('llama3.1_8b_chat', 'cities_10k', 'base', 'main', 'prompt_only', 'llama3.1_8b_chat', 'cities_10k', 'base', 'main', 'prompt_only') Max",
         "showlegend": false,
         "type": "scatter",
         "x": {
          "bdata": "AAECAwQFBgcICQoLDA0ODxAREhMUFRYXGBkaGxwdHh8=",
          "dtype": "i1"
         },
         "y": {
          "bdata": "BXNfiq+a4z9y94IeU5LjPwEZp5XkueM/WnvsZqbY4z/eJCHiLRzkP1ncVZk2TeQ/pFNM5D7t5D8kvL5g22zlP4rT+5HhhuY/kkRNLzSu5j9KPPzTKvzmP5k9nPFuGuc/Bq/7HVZK5z892fV4EATnP22nfnMAc+c/YX1KHaWJ5z8V0wGYWmPnPz0zSFClgec/jcSGqNdy5z/ySRRMgWXnP3x9/ssyO+c/2UJryHr25j+drp4uxt7mP7B/DgnozOY/bRLpQJlc5z84+67zVknnPyoa4o9bl+c/8K+NrAVg5z/kz5YftErnP5miv76vO+c/2DyjQG3W5j9m3SXcdtXlPw==",
          "dtype": "f8"
         }
        },
        {
         "fill": "tonexty",
         "fillcolor": "rgba(255, 127, 14, 0.1)",
         "legendgroup": "('llama3.1_8b_chat', 'cities_10k', 'base', 'main', 'prompt_only', 'llama3.1_8b_chat', 'cities_10k', 'base', 'main', 'prompt_only')",
         "line": {
          "width": 0
         },
         "mode": "lines",
         "name": "('llama3.1_8b_chat', 'cities_10k', 'base', 'main', 'prompt_only', 'llama3.1_8b_chat', 'cities_10k', 'base', 'main', 'prompt_only') Min",
         "showlegend": false,
         "type": "scatter",
         "x": {
          "bdata": "AAECAwQFBgcICQoLDA0ODxAREhMUFRYXGBkaGxwdHh8=",
          "dtype": "i1"
         },
         "y": {
          "bdata": "dIAuRDUa4j9in/2L2WniP/Z+L0YpQuI/ch3DffwW4j+mmQGTrf3iPxIfO5e2yOI/AqJxsXNr4z8fp+bIQdXjP+ib7tXt8OQ/vhO40NxJ5T+oOnc4QRnmP7eJ/t6JXOY/NcpWWkip5j9HMRBFl1rmPx7XFxG5guY/ih4V0v925j+nZVT1i07mP2maVO+PTOY/KgRIz6I35j+5mIV59RXmP7Oh1e3X4+U/YnSlmAd/5T+qaLd/I3PlP1mDj7TvbuU/8MUpQVSq5T+xwy42bHblP38Tt9XMdeU/w9mNYUJw5T9BEL3K4FHlP+1hw2pHN+U/0SYe7Nbz5D8L/d+LUI7kPw==",
          "dtype": "f8"
         }
        },
        {
         "legendgroup": "('llama3.1_8b_chat', 'cities_10k', 'base', 'main', 'prompt_only', 'llama3.1_8b_chat', 'cities_10k', 'base', 'main', 'prompt_only')",
         "line": {
          "width": 0
         },
         "mode": "lines",
         "name": "('llama3.1_8b_chat', 'cities_10k', 'base', 'main', 'prompt_only', 'llama3.1_8b_chat', 'cities_10k', 'base', 'main', 'prompt_only') +1 STD",
         "showlegend": false,
         "type": "scatter",
         "x": {
          "bdata": "AAECAwQFBgcICQoLDA0ODxAREhMUFRYXGBkaGxwdHh8=",
          "dtype": "i1"
         },
         "y": {
          "bdata": "LQsFLjpm4z/lNnE21pjjP/HT7hpcu+M/vad256nE4z9IuUOQdf/jP7fQieHVTuQ/Gc2ylF705D8QS8mlbUblP//9xuxhVeY/dRSAI0qG5j/M7wBwWe3mP4+avewUEuc/YaUwg4I85z90aJMLRv3mPy4295HwZOc/bBn53chs5z9vT4c1mkfnP6PwTfvYVuc/x1lluDxE5z/KS27CIjjnPwsTVLQBO+c/gGQO7ybz5j9a3XUIgdLmPzr1icBMweY/NgjxbFw05z93eQjlnybnP328dK0KXOc/YzISKzc45z9kFUiBvyjnP2O2BPZA9eY/lNQh4++w5j+y7L+Q3HvlPw==",
          "dtype": "f8"
         }
        },
        {
         "fill": "tonexty",
         "fillcolor": "rgba(255, 127, 14, 0.3)",
         "legendgroup": "('llama3.1_8b_chat', 'cities_10k', 'base', 'main', 'prompt_only', 'llama3.1_8b_chat', 'cities_10k', 'base', 'main', 'prompt_only')",
         "line": {
          "width": 0
         },
         "mode": "lines",
         "name": "('llama3.1_8b_chat', 'cities_10k', 'base', 'main', 'prompt_only', 'llama3.1_8b_chat', 'cities_10k', 'base', 'main', 'prompt_only') -1 STD",
         "showlegend": false,
         "type": "scatter",
         "x": {
          "bdata": "AAECAwQFBgcICQoLDA0ODxAREhMUFRYXGBkaGxwdHh8=",
          "dtype": "i1"
         },
         "y": {
          "bdata": "J5eqQaI74j+HHrCFxJ3iP/tgiZ7SeOI/L/+ZD6Fm4j98zY0GUSjjP529ji1OK+M/XcJNlW/P4z/+RNI7qhrkP++0j2F4J+U/FXP+z6By5T9+hYSwsh/mP/nFHKF7YeY/j/Oyc2m25j94lw3JuFTmP3w5uAb6k+Y/hpmBdvKO5j9hNQ1Ol13mPzfCvHHASuY/08Wyy9475j9oN1XQVxnmP93zDfz87eU//Azd5N2i5T/wgOFlbZ7lPzhZ/WSOnuU/LuNXMqnB5T9vEHXI25flP6U3wQoNl+U/5yybOMaK5T/g1yfyLXblP4V25GTfTeU/KOZgaZca5T+4/YXNKHfkPw==",
          "dtype": "f8"
         }
        },
        {
         "legendgroup": "('llama3.1_8b_chat', 'cities_10k', 'base', 'main', 'prompt_only', 'llama3.1_8b_chat', 'cities_10k', 'base', 'main', 'prompt_only')",
         "marker": {
          "color": "#ff7f0e",
          "opacity": 0.5,
          "size": 6
         },
         "mode": "markers",
         "name": "('llama3.1_8b_chat', 'cities_10k', 'base', 'main', 'prompt_only', 'llama3.1_8b_chat', 'cities_10k', 'base', 'main', 'prompt_only') Fold ('direction_test_roc_auc', 0)",
         "showlegend": false,
         "type": "scatter",
         "x": {
          "bdata": "AAECAwQFBgcICQoLDA0ODxAREhMUFRYXGBkaGxwdHh8=",
          "dtype": "i1"
         },
         "y": {
          "bdata": "BXNfiq+a4z9y94IeU5LjPwEZp5XkueM/WnvsZqbY4z/eJCHiLRzkP1ncVZk2TeQ/pFNM5D7t5D8kvL5g22zlP4rT+5HhhuY/kkRNLzSu5j9KPPzTKvzmP5k9nPFuGuc/ehaQ/Dsy5z933aNyuwHnPx7VxzXJYOc/78m7uJhT5z9KA1+qpS7nPznj3TQcLOc/9oltUU7y5j+6Os7wOejmP4y3v5jxH+c/2UJryHr25j+drp4uxt7mP7B/DgnozOY/bRLpQJlc5z84+67zVknnPyoa4o9bl+c/8K+NrAVg5z/kz5YftErnP5miv76vO+c/2DyjQG3W5j9se3dIj8fkPw==",
          "dtype": "f8"
         }
        },
        {
         "legendgroup": "('llama3.1_8b_chat', 'cities_10k', 'base', 'main', 'prompt_only', 'llama3.1_8b_chat', 'cities_10k', 'base', 'main', 'prompt_only')",
         "marker": {
          "color": "#ff7f0e",
          "opacity": 0.5,
          "size": 6
         },
         "mode": "markers",
         "name": "('llama3.1_8b_chat', 'cities_10k', 'base', 'main', 'prompt_only', 'llama3.1_8b_chat', 'cities_10k', 'base', 'main', 'prompt_only') Fold ('direction_test_roc_auc', 1)",
         "showlegend": false,
         "type": "scatter",
         "x": {
          "bdata": "AAECAwQFBgcICQoLDA0ODxAREhMUFRYXGBkaGxwdHh8=",
          "dtype": "i1"
         },
         "y": {
          "bdata": "dIAuRDUa4j9in/2L2WniP/Z+L0YpQuI/ch3DffwW4j+mmQGTrf3iPxIfO5e2yOI/AqJxsXNr4z8fp+bIQdXjP+ib7tXt8OQ/vhO40NxJ5T+oOnc4QRnmP7eJ/t6JXOY/PIME4WnU5j+esr82JozmP0WnTigkzuY/4Ehca+HM5j9oB0HegnvmP1y0vjM2WOY/KgRIz6I35j+F14tyBhzmP5/g/30I5uU/YnSlmAd/5T+qaLd/I3PlP1mDj7TvbuU/8MUpQVSq5T+xwy42bHblP38Tt9XMdeU/w9mNYUJw5T9BEL3K4FHlP+1hw2pHN+U/0SYe7Nbz5D8L/d+LUI7kPw==",
          "dtype": "f8"
         }
        },
        {
         "legendgroup": "('llama3.1_8b_chat', 'cities_10k', 'base', 'main', 'prompt_only', 'llama3.1_8b_chat', 'cities_10k', 'base', 'main', 'prompt_only')",
         "marker": {
          "color": "#ff7f0e",
          "opacity": 0.5,
          "size": 6
         },
         "mode": "markers",
         "name": "('llama3.1_8b_chat', 'cities_10k', 'base', 'main', 'prompt_only', 'llama3.1_8b_chat', 'cities_10k', 'base', 'main', 'prompt_only') Fold ('direction_test_roc_auc', 2)",
         "showlegend": false,
         "type": "scatter",
         "x": {
          "bdata": "AAECAwQFBgcICQoLDA0ODxAREhMUFRYXGBkaGxwdHh8=",
          "dtype": "i1"
         },
         "y": {
          "bdata": "5o0yeeKw4j/u6Z5fIDXjP2B1wzeMKuM/NodKv1sf4z/EckgYPX/jP60Al/AV8+M/oD5vknVo5D990bv5mX3kP/dx0S50dOU/3nywCleo5T/rLqre5jDmP0iMYa+cZ+Y/NcpWWkip5j9HMRBFl1rmPx7XFxG5guY/ih4V0v925j+nZVT1i07mP2maVO+PTOY/6aSUiq9C5j+5mIV59RXmP7Oh1e3X4+U/qNckeqq55T9FN34XVMXlP2zPaaIyzOU/sjniKVnc5T8+98XuEb3lPyezoCuYzuU/NVTefgS25T8Hgf5Hl6/lP1ZIjQsFpuU/39o43rpq5T9iZwW4hK/kPw==",
          "dtype": "f8"
         }
        },
        {
         "legendgroup": "('llama3.1_8b_chat', 'cities_10k', 'base', 'main', 'prompt_only', 'llama3.1_8b_chat', 'cities_10k', 'base', 'main', 'prompt_only')",
         "marker": {
          "color": "#ff7f0e",
          "opacity": 0.5,
          "size": 6
         },
         "mode": "markers",
         "name": "('llama3.1_8b_chat', 'cities_10k', 'base', 'main', 'prompt_only', 'llama3.1_8b_chat', 'cities_10k', 'base', 'main', 'prompt_only') Fold ('direction_test_roc_auc', 3)",
         "showlegend": false,
         "type": "scatter",
         "x": {
          "bdata": "AAECAwQFBgcICQoLDA0ODxAREhMUFRYXGBkaGxwdHh8=",
          "dtype": "i1"
         },
         "y": {
          "bdata": "KBSZBvcq4z8OaRTCjYXjP2tc0lELquM/Pi2+NEmO4z8fbPUEldLjP6TOJPJA5OM/kk07Vt+k5D/fLADQ4+bkP3UBLFZ77uU/MTTaFg5F5j/OJ+D+0OTmP7jGOdvECec/Bq/7HVZK5z892fV4EATnP22nfnMAc+c/YX1KHaWJ5z8V0wGYWmPnPz0zSFClgec/jcSGqNdy5z/ySRRMgWXnP3x9/ssyO+c/dUpmWp7W5j8noB3VU7DmP3wJJ1uKneY/yJ+IIC0A5z97tdmvDfnmPyqGCDlVHOc/1eeCvmQT5z8yz3SYHwvnPxshuhTUuuY/KsWMZYKV5j9m3SXcdtXlPw==",
          "dtype": "f8"
         }
        },
        {
         "legendgroup": "('llama3.1_8b_chat', 'cities_10k', 'base', 'main', 'prompt_only', 'llama3.1_8b_chat', 'cities_10k', 'base', 'main', 'prompt_only')",
         "marker": {
          "color": "#ff7f0e",
          "opacity": 0.5,
          "size": 6
         },
         "mode": "markers",
         "name": "('llama3.1_8b_chat', 'cities_10k', 'base', 'main', 'prompt_only', 'llama3.1_8b_chat', 'cities_10k', 'base', 'main', 'prompt_only') Fold ('direction_test_roc_auc', 4)",
         "showlegend": false,
         "type": "scatter",
         "x": {
          "bdata": "AAECAwQFBgcICQoLDA0ODxAREhMUFRYXGBkaGxwdHh8=",
          "dtype": "i1"
         },
         "y": {
          "bdata": "SoDdyOiD4j/Cax8KqNHiP4waQGrPseI/DFTxkPPO4j9/M6vmwnfjPxmZcBIWxOM/z+SY6nuD5D+EhqPAIMzkP3jc8NZi3eU/eEksP9UI5j+Q109nenXmPwXXawePuOY/autRkwnl5j8z5Sisc2DmPz6cCZujyeY/oxC7PzXU5j+aCP2y7MDmP+dZYeh3weY/aldrdszg5j8V0/RF+8vmP+dZYeh3weY/X8Iw3EBx5j8Efeh4wlLmPyxooyIPSuY/opq4QZqD5j8bbTxpUmbmP1t7RIKlZ+Y/e6i0LchN5j/MoNDVBTbmP0yCfJkA1OU/Jc+/zlCy5T/JDCwDsgTlPw==",
          "dtype": "f8"
         }
        }
       ],
       "layout": {
        "font": {
         "color": "white"
        },
        "height": 600,
        "legend": {
         "bgcolor": "rgba(32, 32, 32, 0.8)",
         "orientation": "h",
         "x": 0.5,
         "xanchor": "center",
         "y": 1.02,
         "yanchor": "bottom"
        },
        "margin": {
         "b": 50,
         "l": 50,
         "r": 30,
         "t": 100
        },
        "paper_bgcolor": "rgba(32, 32, 32, 1)",
        "plot_bgcolor": "rgba(32, 32, 32, 1)",
        "showlegend": true,
        "template": {
         "data": {
          "bar": [
           {
            "error_x": {
             "color": "#f2f5fa"
            },
            "error_y": {
             "color": "#f2f5fa"
            },
            "marker": {
             "line": {
              "color": "rgb(17,17,17)",
              "width": 0.5
             },
             "pattern": {
              "fillmode": "overlay",
              "size": 10,
              "solidity": 0.2
             }
            },
            "type": "bar"
           }
          ],
          "barpolar": [
           {
            "marker": {
             "line": {
              "color": "rgb(17,17,17)",
              "width": 0.5
             },
             "pattern": {
              "fillmode": "overlay",
              "size": 10,
              "solidity": 0.2
             }
            },
            "type": "barpolar"
           }
          ],
          "carpet": [
           {
            "aaxis": {
             "endlinecolor": "#A2B1C6",
             "gridcolor": "#506784",
             "linecolor": "#506784",
             "minorgridcolor": "#506784",
             "startlinecolor": "#A2B1C6"
            },
            "baxis": {
             "endlinecolor": "#A2B1C6",
             "gridcolor": "#506784",
             "linecolor": "#506784",
             "minorgridcolor": "#506784",
             "startlinecolor": "#A2B1C6"
            },
            "type": "carpet"
           }
          ],
          "choropleth": [
           {
            "colorbar": {
             "outlinewidth": 0,
             "ticks": ""
            },
            "type": "choropleth"
           }
          ],
          "contour": [
           {
            "colorbar": {
             "outlinewidth": 0,
             "ticks": ""
            },
            "colorscale": [
             [
              0,
              "#0d0887"
             ],
             [
              0.1111111111111111,
              "#46039f"
             ],
             [
              0.2222222222222222,
              "#7201a8"
             ],
             [
              0.3333333333333333,
              "#9c179e"
             ],
             [
              0.4444444444444444,
              "#bd3786"
             ],
             [
              0.5555555555555556,
              "#d8576b"
             ],
             [
              0.6666666666666666,
              "#ed7953"
             ],
             [
              0.7777777777777778,
              "#fb9f3a"
             ],
             [
              0.8888888888888888,
              "#fdca26"
             ],
             [
              1,
              "#f0f921"
             ]
            ],
            "type": "contour"
           }
          ],
          "contourcarpet": [
           {
            "colorbar": {
             "outlinewidth": 0,
             "ticks": ""
            },
            "type": "contourcarpet"
           }
          ],
          "heatmap": [
           {
            "colorbar": {
             "outlinewidth": 0,
             "ticks": ""
            },
            "colorscale": [
             [
              0,
              "#0d0887"
             ],
             [
              0.1111111111111111,
              "#46039f"
             ],
             [
              0.2222222222222222,
              "#7201a8"
             ],
             [
              0.3333333333333333,
              "#9c179e"
             ],
             [
              0.4444444444444444,
              "#bd3786"
             ],
             [
              0.5555555555555556,
              "#d8576b"
             ],
             [
              0.6666666666666666,
              "#ed7953"
             ],
             [
              0.7777777777777778,
              "#fb9f3a"
             ],
             [
              0.8888888888888888,
              "#fdca26"
             ],
             [
              1,
              "#f0f921"
             ]
            ],
            "type": "heatmap"
           }
          ],
          "histogram": [
           {
            "marker": {
             "pattern": {
              "fillmode": "overlay",
              "size": 10,
              "solidity": 0.2
             }
            },
            "type": "histogram"
           }
          ],
          "histogram2d": [
           {
            "colorbar": {
             "outlinewidth": 0,
             "ticks": ""
            },
            "colorscale": [
             [
              0,
              "#0d0887"
             ],
             [
              0.1111111111111111,
              "#46039f"
             ],
             [
              0.2222222222222222,
              "#7201a8"
             ],
             [
              0.3333333333333333,
              "#9c179e"
             ],
             [
              0.4444444444444444,
              "#bd3786"
             ],
             [
              0.5555555555555556,
              "#d8576b"
             ],
             [
              0.6666666666666666,
              "#ed7953"
             ],
             [
              0.7777777777777778,
              "#fb9f3a"
             ],
             [
              0.8888888888888888,
              "#fdca26"
             ],
             [
              1,
              "#f0f921"
             ]
            ],
            "type": "histogram2d"
           }
          ],
          "histogram2dcontour": [
           {
            "colorbar": {
             "outlinewidth": 0,
             "ticks": ""
            },
            "colorscale": [
             [
              0,
              "#0d0887"
             ],
             [
              0.1111111111111111,
              "#46039f"
             ],
             [
              0.2222222222222222,
              "#7201a8"
             ],
             [
              0.3333333333333333,
              "#9c179e"
             ],
             [
              0.4444444444444444,
              "#bd3786"
             ],
             [
              0.5555555555555556,
              "#d8576b"
             ],
             [
              0.6666666666666666,
              "#ed7953"
             ],
             [
              0.7777777777777778,
              "#fb9f3a"
             ],
             [
              0.8888888888888888,
              "#fdca26"
             ],
             [
              1,
              "#f0f921"
             ]
            ],
            "type": "histogram2dcontour"
           }
          ],
          "mesh3d": [
           {
            "colorbar": {
             "outlinewidth": 0,
             "ticks": ""
            },
            "type": "mesh3d"
           }
          ],
          "parcoords": [
           {
            "line": {
             "colorbar": {
              "outlinewidth": 0,
              "ticks": ""
             }
            },
            "type": "parcoords"
           }
          ],
          "pie": [
           {
            "automargin": true,
            "type": "pie"
           }
          ],
          "scatter": [
           {
            "marker": {
             "line": {
              "color": "#283442"
             }
            },
            "type": "scatter"
           }
          ],
          "scatter3d": [
           {
            "line": {
             "colorbar": {
              "outlinewidth": 0,
              "ticks": ""
             }
            },
            "marker": {
             "colorbar": {
              "outlinewidth": 0,
              "ticks": ""
             }
            },
            "type": "scatter3d"
           }
          ],
          "scattercarpet": [
           {
            "marker": {
             "colorbar": {
              "outlinewidth": 0,
              "ticks": ""
             }
            },
            "type": "scattercarpet"
           }
          ],
          "scattergeo": [
           {
            "marker": {
             "colorbar": {
              "outlinewidth": 0,
              "ticks": ""
             }
            },
            "type": "scattergeo"
           }
          ],
          "scattergl": [
           {
            "marker": {
             "line": {
              "color": "#283442"
             }
            },
            "type": "scattergl"
           }
          ],
          "scattermap": [
           {
            "marker": {
             "colorbar": {
              "outlinewidth": 0,
              "ticks": ""
             }
            },
            "type": "scattermap"
           }
          ],
          "scattermapbox": [
           {
            "marker": {
             "colorbar": {
              "outlinewidth": 0,
              "ticks": ""
             }
            },
            "type": "scattermapbox"
           }
          ],
          "scatterpolar": [
           {
            "marker": {
             "colorbar": {
              "outlinewidth": 0,
              "ticks": ""
             }
            },
            "type": "scatterpolar"
           }
          ],
          "scatterpolargl": [
           {
            "marker": {
             "colorbar": {
              "outlinewidth": 0,
              "ticks": ""
             }
            },
            "type": "scatterpolargl"
           }
          ],
          "scatterternary": [
           {
            "marker": {
             "colorbar": {
              "outlinewidth": 0,
              "ticks": ""
             }
            },
            "type": "scatterternary"
           }
          ],
          "surface": [
           {
            "colorbar": {
             "outlinewidth": 0,
             "ticks": ""
            },
            "colorscale": [
             [
              0,
              "#0d0887"
             ],
             [
              0.1111111111111111,
              "#46039f"
             ],
             [
              0.2222222222222222,
              "#7201a8"
             ],
             [
              0.3333333333333333,
              "#9c179e"
             ],
             [
              0.4444444444444444,
              "#bd3786"
             ],
             [
              0.5555555555555556,
              "#d8576b"
             ],
             [
              0.6666666666666666,
              "#ed7953"
             ],
             [
              0.7777777777777778,
              "#fb9f3a"
             ],
             [
              0.8888888888888888,
              "#fdca26"
             ],
             [
              1,
              "#f0f921"
             ]
            ],
            "type": "surface"
           }
          ],
          "table": [
           {
            "cells": {
             "fill": {
              "color": "#506784"
             },
             "line": {
              "color": "rgb(17,17,17)"
             }
            },
            "header": {
             "fill": {
              "color": "#2a3f5f"
             },
             "line": {
              "color": "rgb(17,17,17)"
             }
            },
            "type": "table"
           }
          ]
         },
         "layout": {
          "annotationdefaults": {
           "arrowcolor": "#f2f5fa",
           "arrowhead": 0,
           "arrowwidth": 1
          },
          "autotypenumbers": "strict",
          "coloraxis": {
           "colorbar": {
            "outlinewidth": 0,
            "ticks": ""
           }
          },
          "colorscale": {
           "diverging": [
            [
             0,
             "#8e0152"
            ],
            [
             0.1,
             "#c51b7d"
            ],
            [
             0.2,
             "#de77ae"
            ],
            [
             0.3,
             "#f1b6da"
            ],
            [
             0.4,
             "#fde0ef"
            ],
            [
             0.5,
             "#f7f7f7"
            ],
            [
             0.6,
             "#e6f5d0"
            ],
            [
             0.7,
             "#b8e186"
            ],
            [
             0.8,
             "#7fbc41"
            ],
            [
             0.9,
             "#4d9221"
            ],
            [
             1,
             "#276419"
            ]
           ],
           "sequential": [
            [
             0,
             "#0d0887"
            ],
            [
             0.1111111111111111,
             "#46039f"
            ],
            [
             0.2222222222222222,
             "#7201a8"
            ],
            [
             0.3333333333333333,
             "#9c179e"
            ],
            [
             0.4444444444444444,
             "#bd3786"
            ],
            [
             0.5555555555555556,
             "#d8576b"
            ],
            [
             0.6666666666666666,
             "#ed7953"
            ],
            [
             0.7777777777777778,
             "#fb9f3a"
            ],
            [
             0.8888888888888888,
             "#fdca26"
            ],
            [
             1,
             "#f0f921"
            ]
           ],
           "sequentialminus": [
            [
             0,
             "#0d0887"
            ],
            [
             0.1111111111111111,
             "#46039f"
            ],
            [
             0.2222222222222222,
             "#7201a8"
            ],
            [
             0.3333333333333333,
             "#9c179e"
            ],
            [
             0.4444444444444444,
             "#bd3786"
            ],
            [
             0.5555555555555556,
             "#d8576b"
            ],
            [
             0.6666666666666666,
             "#ed7953"
            ],
            [
             0.7777777777777778,
             "#fb9f3a"
            ],
            [
             0.8888888888888888,
             "#fdca26"
            ],
            [
             1,
             "#f0f921"
            ]
           ]
          },
          "colorway": [
           "#636efa",
           "#EF553B",
           "#00cc96",
           "#ab63fa",
           "#FFA15A",
           "#19d3f3",
           "#FF6692",
           "#B6E880",
           "#FF97FF",
           "#FECB52"
          ],
          "font": {
           "color": "#f2f5fa"
          },
          "geo": {
           "bgcolor": "rgb(17,17,17)",
           "lakecolor": "rgb(17,17,17)",
           "landcolor": "rgb(17,17,17)",
           "showlakes": true,
           "showland": true,
           "subunitcolor": "#506784"
          },
          "hoverlabel": {
           "align": "left"
          },
          "hovermode": "closest",
          "mapbox": {
           "style": "dark"
          },
          "paper_bgcolor": "rgb(17,17,17)",
          "plot_bgcolor": "rgb(17,17,17)",
          "polar": {
           "angularaxis": {
            "gridcolor": "#506784",
            "linecolor": "#506784",
            "ticks": ""
           },
           "bgcolor": "rgb(17,17,17)",
           "radialaxis": {
            "gridcolor": "#506784",
            "linecolor": "#506784",
            "ticks": ""
           }
          },
          "scene": {
           "xaxis": {
            "backgroundcolor": "rgb(17,17,17)",
            "gridcolor": "#506784",
            "gridwidth": 2,
            "linecolor": "#506784",
            "showbackground": true,
            "ticks": "",
            "zerolinecolor": "#C8D4E3"
           },
           "yaxis": {
            "backgroundcolor": "rgb(17,17,17)",
            "gridcolor": "#506784",
            "gridwidth": 2,
            "linecolor": "#506784",
            "showbackground": true,
            "ticks": "",
            "zerolinecolor": "#C8D4E3"
           },
           "zaxis": {
            "backgroundcolor": "rgb(17,17,17)",
            "gridcolor": "#506784",
            "gridwidth": 2,
            "linecolor": "#506784",
            "showbackground": true,
            "ticks": "",
            "zerolinecolor": "#C8D4E3"
           }
          },
          "shapedefaults": {
           "line": {
            "color": "#f2f5fa"
           }
          },
          "sliderdefaults": {
           "bgcolor": "#C8D4E3",
           "bordercolor": "rgb(17,17,17)",
           "borderwidth": 1,
           "tickwidth": 0
          },
          "ternary": {
           "aaxis": {
            "gridcolor": "#506784",
            "linecolor": "#506784",
            "ticks": ""
           },
           "baxis": {
            "gridcolor": "#506784",
            "linecolor": "#506784",
            "ticks": ""
           },
           "bgcolor": "rgb(17,17,17)",
           "caxis": {
            "gridcolor": "#506784",
            "linecolor": "#506784",
            "ticks": ""
           }
          },
          "title": {
           "x": 0.05
          },
          "updatemenudefaults": {
           "bgcolor": "#506784",
           "borderwidth": 0
          },
          "xaxis": {
           "automargin": true,
           "gridcolor": "#283442",
           "linecolor": "#506784",
           "ticks": "",
           "title": {
            "standoff": 15
           },
           "zerolinecolor": "#283442",
           "zerolinewidth": 2
          },
          "yaxis": {
           "automargin": true,
           "gridcolor": "#283442",
           "linecolor": "#506784",
           "ticks": "",
           "title": {
            "standoff": 15
           },
           "zerolinecolor": "#283442",
           "zerolinewidth": 2
          }
         }
        },
        "title": {},
        "width": 1000,
        "xaxis": {
         "gridcolor": "rgba(128, 128, 128, 0.2)",
         "title": {
          "text": "Layer"
         },
         "zeroline": false
        },
        "yaxis": {
         "gridcolor": "rgba(128, 128, 128, 0.2)",
         "title": {
          "text": "Direction Test Roc Auc"
         },
         "zeroline": false
        }
       }
      }
     },
     "metadata": {},
     "output_type": "display_data"
    },
    {
     "name": "stdout",
     "output_type": "stream",
     "text": [
      "conf=('llama3.1_8b_chat', 'birth_years_4k', 'base', 'main', 'prompt_answer', 'llama3.1_8b_chat', 'birth_years_4k', 'base', 'main', 'prompt_answer')\n",
      "conf=('llama3.1_8b_chat', 'birth_years_4k', 'base', 'main', 'prompt_answer', 'llama3.1_8b_chat', 'cities_10k', 'base', 'main', 'prompt_answer')\n",
      "conf=('llama3.1_8b_chat', 'birth_years_4k', 'base', 'main', 'prompt_only', 'llama3.1_8b_chat', 'birth_years_4k', 'base', 'main', 'prompt_only')\n",
      "conf=('llama3.1_8b_chat', 'birth_years_4k', 'base', 'main', 'prompt_only', 'llama3.1_8b_chat', 'cities_10k', 'base', 'main', 'prompt_only')\n",
      "conf=('llama3.1_8b_chat', 'cities_10k', 'base', 'main', 'prompt_answer', 'llama3.1_8b_chat', 'birth_years_4k', 'base', 'main', 'prompt_answer')\n",
      "conf=('llama3.1_8b_chat', 'cities_10k', 'base', 'main', 'prompt_answer', 'llama3.1_8b_chat', 'cities_10k', 'base', 'main', 'prompt_answer')\n",
      "conf=('llama3.1_8b_chat', 'cities_10k', 'base', 'main', 'prompt_only', 'llama3.1_8b_chat', 'birth_years_4k', 'base', 'main', 'prompt_only')\n",
      "conf=('llama3.1_8b_chat', 'cities_10k', 'base', 'main', 'prompt_only', 'llama3.1_8b_chat', 'cities_10k', 'base', 'main', 'prompt_only')\n"
     ]
    },
    {
     "data": {
      "application/vnd.plotly.v1+json": {
       "config": {
        "plotlyServerURL": "https://plot.ly"
       },
       "data": [
        {
         "legendgroup": "('llama3.1_8b_chat', 'birth_years_4k', 'base', 'main', 'prompt_answer', 'llama3.1_8b_chat', 'birth_years_4k', 'base', 'main', 'prompt_answer')",
         "line": {
          "color": "#1f77b4",
          "width": 2
         },
         "marker": {
          "size": 8
         },
         "mode": "lines+markers",
         "name": "('llama3.1_8b_chat', 'birth_years_4k', 'base', 'main', 'prompt_answer', 'llama3.1_8b_chat', 'birth_years_4k', 'base', 'main', 'prompt_answer')",
         "type": "scatter",
         "x": {
          "bdata": "AAECAwQFBgcICQoLDA0ODxAREhMUFRYXGBkaGxwdHh8=",
          "dtype": "i1"
         },
         "y": {
          "bdata": "3H0fo9Lj5z9unlseDa7pP179aRj1Pes/SgN0DaGj6z/DbhH49PLrP3K73DA7SOw/626qOWDH7D9KXxaKEC/tP4Jem+11q+w/kEqfUv3F7D8NaSUK6czsPwrUYDx0A+0/wvCnHecw7T+9PMNzOkPtP7Aix8dKBO0/u3OXzwCl7D/O7DGEwODsPw3cZ2CeD+0/zfzzPfzT7D9G+tKwCrXsPx6zQjJJw+w/FqEY1dfh7D9tQaHHI7PsPxaS5zd60Ow/00CYDKGt7D9OAIQSS7rsP0NloxWnluw/QyB2b3SV7D9zZN2kycrsP2r5FJmWP+0/E+1PnIJ67T+7bTk07lrtPw==",
          "dtype": "f8"
         }
        },
        {
         "legendgroup": "('llama3.1_8b_chat', 'birth_years_4k', 'base', 'main', 'prompt_answer', 'llama3.1_8b_chat', 'birth_years_4k', 'base', 'main', 'prompt_answer')",
         "line": {
          "width": 0
         },
         "mode": "lines",
         "name": "('llama3.1_8b_chat', 'birth_years_4k', 'base', 'main', 'prompt_answer', 'llama3.1_8b_chat', 'birth_years_4k', 'base', 'main', 'prompt_answer') Max",
         "showlegend": false,
         "type": "scatter",
         "x": {
          "bdata": "AAECAwQFBgcICQoLDA0ODxAREhMUFRYXGBkaGxwdHh8=",
          "dtype": "i1"
         },
         "y": {
          "bdata": "nRfZTPXs6D8e1jMHu9fqPxtlxFRsVOw/kFi5ccVo7D8TicGr0szsP+HUOFa5Y+0/DH0YrxCo7T/MUVNm6hXuP5TjDX4zt+0/i2dXfOpp7T9+D57RB5XtP8xidnHoXu0/Fn8jr7qH7T+UI63qt63tP1/XdV3Xde0/xFRsVBxX7T/9Bdy7A3/tPwAAAAAAuO0/OY7jOI5r7T/kOI7jOKztP+E4juM4Ku0/Vn0tgsMs7T+doI3eoursPx/PFIUdE+0/RTRUMhhu7T+FDsJ/eJftPxDCf3iXV+0/A2m3NYGl7T/0iJUbV4ztP/W1CA6zLu4/YP19tOfN7T/N5xErNy7uPw==",
          "dtype": "f8"
         }
        },
        {
         "fill": "tonexty",
         "fillcolor": "rgba(31, 119, 180, 0.1)",
         "legendgroup": "('llama3.1_8b_chat', 'birth_years_4k', 'base', 'main', 'prompt_answer', 'llama3.1_8b_chat', 'birth_years_4k', 'base', 'main', 'prompt_answer')",
         "line": {
          "width": 0
         },
         "mode": "lines",
         "name": "('llama3.1_8b_chat', 'birth_years_4k', 'base', 'main', 'prompt_answer', 'llama3.1_8b_chat', 'birth_years_4k', 'base', 'main', 'prompt_answer') Min",
         "showlegend": false,
         "type": "scatter",
         "x": {
          "bdata": "AAECAwQFBgcICQoLDA0ODxAREhMUFRYXGBkaGxwdHh8=",
          "dtype": "i1"
         },
         "y": {
          "bdata": "bJbO3ET05j8cpISVbgLpP1VVVVVVOeo/rKqqqqqe6j8cx3Ecx+vqPzmO4ziOm+s/OY7jOI5l7D+qqqqqqqLsP3/Ao5shHuw/3KmRo86F7D8yCR2E/3DsP60Y/aUZm+w/z9xE9Bb87D+Fv7p4zAvtP9/0pje9aew/6k1vetMb7D9Kb50b8o3sP/vORn1no+w/rxhLeLJ87D8FbwILAZfrP8jnMBpeVOw/8hb6UrRs7D8VLZuli2vsPyqN16smjOw/ZeT7lxFi7D+PlZyvCCTsPxvHcRzH9es/egOiSvwf7D9Yym7EwXjsP9Gp+XrOh+w/rHYAfJIQ7T/kOI7jOLzsPw==",
          "dtype": "f8"
         }
        },
        {
         "legendgroup": "('llama3.1_8b_chat', 'birth_years_4k', 'base', 'main', 'prompt_answer', 'llama3.1_8b_chat', 'birth_years_4k', 'base', 'main', 'prompt_answer')",
         "line": {
          "width": 0
         },
         "mode": "lines",
         "name": "('llama3.1_8b_chat', 'birth_years_4k', 'base', 'main', 'prompt_answer', 'llama3.1_8b_chat', 'birth_years_4k', 'base', 'main', 'prompt_answer') +1 STD",
         "showlegend": false,
         "type": "scatter",
         "x": {
          "bdata": "AAECAwQFBgcICQoLDA0ODxAREhMUFRYXGBkaGxwdHh8=",
          "dtype": "i1"
         },
         "y": {
          "bdata": "auIxPqa56D+q8dIK923qPxKikd/fA+w/7uGZ/tRd7D8I67iMQ6/sP0/+wM1fBe0/kh2FQCtJ7T/TR0VkMMjtP/qgu1dgUe0/iIOGasQj7T8VAwtomEHtP1OnPAE4Su0/P5PehvJo7T+YmCNHg4XtPx79RxFtge0/lhYmzD437T9I01A30kXtPzew1sf+fu0/IepvG9Q77T87pV3gZYDtP4zEWTiRGu0/QxW1EAMs7T/xkRdXK+rsP0ZirEZCCe0/olKXh4wa7T/1RunkiEPtP9p4nKxPKu0/sfrhZQo17T/+zmUbrzrtP1rPyraW2+0/mmXBMNzL7T9LYqxEa/PtPw==",
          "dtype": "f8"
         }
        },
        {
         "fill": "tonexty",
         "fillcolor": "rgba(31, 119, 180, 0.3)",
         "legendgroup": "('llama3.1_8b_chat', 'birth_years_4k', 'base', 'main', 'prompt_answer', 'llama3.1_8b_chat', 'birth_years_4k', 'base', 'main', 'prompt_answer')",
         "line": {
          "width": 0
         },
         "mode": "lines",
         "name": "('llama3.1_8b_chat', 'birth_years_4k', 'base', 'main', 'prompt_answer', 'llama3.1_8b_chat', 'birth_years_4k', 'base', 'main', 'prompt_answer') -1 STD",
         "showlegend": false,
         "type": "scatter",
         "x": {
          "bdata": "AAECAwQFBgcICQoLDA0ODxAREhMUFRYXGBkaGxwdHh8=",
          "dtype": "i1"
         },
         "y": {
          "bdata": "ThkNCP8N5z8yS+QxI+7oP6pYQlEKeOo/piROHG3p6j9+8mljpjbrP5V4+JMWi+s/RMDPMpVF7D/Bduev8JXsPwoce4OLBew/mBG4OjZo7D8Fzz+sOVjsP8EAhXewvOw/RU5xtNv47D/i4GKg8QDtP0JIRn4oh+w/4NAI08IS7D9UBhPRrnvsP+MH+fg9oOw/eQ94YCRs7D9RT0iBr+nrP7ChKywBbOw/6Sx8mayX7D/p8Co4HHzsP+bBIimyl+w/BC+ZkbVA7D+nuR5ADTHsP6xRqn7+Auw/1UUKed716z/o+VQu5FrsP3ojX3uWo+w/jHTeBykp7T8recYjccLsPw==",
          "dtype": "f8"
         }
        },
        {
         "legendgroup": "('llama3.1_8b_chat', 'birth_years_4k', 'base', 'main', 'prompt_answer', 'llama3.1_8b_chat', 'birth_years_4k', 'base', 'main', 'prompt_answer')",
         "marker": {
          "color": "#1f77b4",
          "opacity": 0.5,
          "size": 6
         },
         "mode": "markers",
         "name": "('llama3.1_8b_chat', 'birth_years_4k', 'base', 'main', 'prompt_answer', 'llama3.1_8b_chat', 'birth_years_4k', 'base', 'main', 'prompt_answer') Fold ('logistic_regression_test_roc_auc', 0)",
         "showlegend": false,
         "type": "scatter",
         "x": {
          "bdata": "AAECAwQFBgcICQoLDA0ODxAREhMUFRYXGBkaGxwdHh8=",
          "dtype": "i1"
         },
         "y": {
          "bdata": "5DiO4zgk5z+qqqqqqoTpP1VVVVVVOeo/rKqqqqqe6j8cx3Ecx+vqPzmO4ziOm+s/OY7jOI5l7D+qqqqqqqLsP8hxHMdxUOw/AAAAAACw7D9WVVVVVYXsPzuO4ziOG+0/VVVVVVVF7T/kOI7jOE7tP47jOI7jYO0/juM4juMu7T8AAAAAAAbtPwAAAAAAuO0/OY7jOI5r7T/kOI7jOKztP+E4juM4Ku0/AAAAAAAQ7T/lOI7jOLzsP6mqqqqq+Ow/juM4juN+7D+O4ziO437sPxvHcRzH9es/VVVVVVVd7D8cx3Ecx6XsPzmO4ziOQe0/4ziO4zhs7T/kOI7jOLzsPw==",
          "dtype": "f8"
         }
        },
        {
         "legendgroup": "('llama3.1_8b_chat', 'birth_years_4k', 'base', 'main', 'prompt_answer', 'llama3.1_8b_chat', 'birth_years_4k', 'base', 'main', 'prompt_answer')",
         "marker": {
          "color": "#1f77b4",
          "opacity": 0.5,
          "size": 6
         },
         "mode": "markers",
         "name": "('llama3.1_8b_chat', 'birth_years_4k', 'base', 'main', 'prompt_answer', 'llama3.1_8b_chat', 'birth_years_4k', 'base', 'main', 'prompt_answer') Fold ('logistic_regression_test_roc_auc', 1)",
         "showlegend": false,
         "type": "scatter",
         "x": {
          "bdata": "AAECAwQFBgcICQoLDA0ODxAREhMUFRYXGBkaGxwdHh8=",
          "dtype": "i1"
         },
         "y": {
          "bdata": "bJbO3ET05j8cpISVbgLpPzkuAOBe4uo/8OSbtLgy6z/9F43rZ4frPyLA7niItus/oWDzpEef7D/GCFUyaM7sP4vVg5zW3uw/sdWZia6M7D8IPAIUVrHsPxRv80oFBu0/z9xE9Bb87D+Fv7p4zAvtP4uMXSUykew/ztXlBHxN7D9Kb50b8o3sP7eTrk0B4ew/OS1CsNMU7T+tdpgUrmXsP2MBWjms9uw/48bZJSzw7D8Sx7mEDovsPwMmJxb61+w/ZeT7lxFi7D9pLRA1ZKnsP5nOymqiEOw/z+vS3Ckt7D9T5Ge0/IfsP9Gp+XrOh+w/zSV9RQ1Q7T/X3A5mIensPw==",
          "dtype": "f8"
         }
        },
        {
         "legendgroup": "('llama3.1_8b_chat', 'birth_years_4k', 'base', 'main', 'prompt_answer', 'llama3.1_8b_chat', 'birth_years_4k', 'base', 'main', 'prompt_answer')",
         "marker": {
          "color": "#1f77b4",
          "opacity": 0.5,
          "size": 6
         },
         "mode": "markers",
         "name": "('llama3.1_8b_chat', 'birth_years_4k', 'base', 'main', 'prompt_answer', 'llama3.1_8b_chat', 'birth_years_4k', 'base', 'main', 'prompt_answer') Fold ('logistic_regression_test_roc_auc', 2)",
         "showlegend": false,
         "type": "scatter",
         "x": {
          "bdata": "AAECAwQFBgcICQoLDA0ODxAREhMUFRYXGBkaGxwdHh8=",
          "dtype": "i1"
         },
         "y": {
          "bdata": "nRfZTPXs6D8e1jMHu9fqPxtlxFRsVOw/ngDahfMk7D8TicGr0szsP+HUOFa5Y+0/DH0YrxCo7T/MUVNm6hXuP5TjDX4zt+0/i2dXfOpp7T9+D57RB5XtP8xidnHoXu0/Fn8jr7qH7T+nI8nu0TvtP1/XdV3Xde0/xFRsVBxX7T/9Bdy7A3/tPwutvgI5Re0/qeXCXX2T7D+fFb/RBTTtP6UtZ+vpgOw/Q8p5LpPP7D+doI3eoursPyqN16smjOw/aTnNBNKP7D+PlZyvCCTsPxhBHR5m3+w/svPMekmb7D+K93SHE8PsP0gDBrGrU+0/YP19tOfN7T+If1W2LrrtPw==",
          "dtype": "f8"
         }
        },
        {
         "legendgroup": "('llama3.1_8b_chat', 'birth_years_4k', 'base', 'main', 'prompt_answer', 'llama3.1_8b_chat', 'birth_years_4k', 'base', 'main', 'prompt_answer')",
         "marker": {
          "color": "#1f77b4",
          "opacity": 0.5,
          "size": 6
         },
         "mode": "markers",
         "name": "('llama3.1_8b_chat', 'birth_years_4k', 'base', 'main', 'prompt_answer', 'llama3.1_8b_chat', 'birth_years_4k', 'base', 'main', 'prompt_answer') Fold ('logistic_regression_test_roc_auc', 3)",
         "showlegend": false,
         "type": "scatter",
         "x": {
          "bdata": "AAECAwQFBgcICQoLDA0ODxAREhMUFRYXGBkaGxwdHh8=",
          "dtype": "i1"
         },
         "y": {
          "bdata": "Xhbfm19n6D8h6A2IKvHpPylHWtVvW+s/oydq7AjT6z8U/wfb3l3sPxko5n4ZpOw/sBhLeLJ87D9cHrp6vX3tP3/Ao5shHuw/vI2Z84qx7D8zY6hz2sPsP2ermZKv9ew/xYMvpqYi7T+UI63qt63tPxtxMJ7LQ+0/oOb6q7RJ7D+6/iptEsHsP/vORn1no+w/rxhLeLJ87D8FbwILAZfrP8jnMBpeVOw/8hb6UrRs7D8VLZuli2vsP32txyV6ouw/fQ6j4UWF7D99TOxprr/sP3ZhV07cs+w/egOiSvwf7D9Yym7EwXjsP83tfIo18uw/rHYAfJIQ7T+Upxra5jjtPw==",
          "dtype": "f8"
         }
        },
        {
         "legendgroup": "('llama3.1_8b_chat', 'birth_years_4k', 'base', 'main', 'prompt_answer', 'llama3.1_8b_chat', 'birth_years_4k', 'base', 'main', 'prompt_answer')",
         "marker": {
          "color": "#1f77b4",
          "opacity": 0.5,
          "size": 6
         },
         "mode": "markers",
         "name": "('llama3.1_8b_chat', 'birth_years_4k', 'base', 'main', 'prompt_answer', 'llama3.1_8b_chat', 'birth_years_4k', 'base', 'main', 'prompt_answer') Fold ('logistic_regression_test_roc_auc', 4)",
         "showlegend": false,
         "type": "scatter",
         "x": {
          "bdata": "AAECAwQFBgcICQoLDA0ODxAREhMUFRYXGBkaGxwdHh8=",
          "dtype": "i1"
         },
         "y": {
          "bdata": "A3iIhkoG6D8hC1nIQhbpPwbDnRo5aus/kFi5ccVo7D+Mwo5J6CDsP+JdXm0+D+w//aUZG0i77D/cuGL0l+bsPyHttiawVOw/3KmRo86F7D8yCR2E/3DsP60Y/aUZm+w/yX5a9bUI7T8I8BANlQztP9/0pje9aew/6k1vetMb7D8JLFVQuo/sP308UxR2zOw/MzaQdluT7D8vrzafR6zsP+kvzdhA2uw/Vn0tgsMs7T94ebX5POLsPx/PFIUdE+0/RTRUMhhu7T+FDsJ/eJftPxDCf3iXV+0/A2m3NYGl7T/0iJUbV4ztP/W1CA6zLu4/pM4FtMzJ7T/N5xErNy7uPw==",
          "dtype": "f8"
         }
        },
        {
         "legendgroup": "('llama3.1_8b_chat', 'birth_years_4k', 'base', 'main', 'prompt_answer', 'llama3.1_8b_chat', 'cities_10k', 'base', 'main', 'prompt_answer')",
         "line": {
          "color": "#ff7f0e",
          "width": 2
         },
         "marker": {
          "size": 8
         },
         "mode": "lines+markers",
         "name": "('llama3.1_8b_chat', 'birth_years_4k', 'base', 'main', 'prompt_answer', 'llama3.1_8b_chat', 'cities_10k', 'base', 'main', 'prompt_answer')",
         "type": "scatter",
         "x": {
          "bdata": "AAECAwQFBgcICQoLDA0ODxAREhMUFRYXGBkaGxwdHh8=",
          "dtype": "i1"
         },
         "y": {
          "bdata": "TjgFASQL4j+Gy9/eSP/hP6NewiMEa+I/vRjBYLTn4T/bFDe0XKjiP5687QAtrOE//vLK3w4l4T+W//00KvDfP2rxcLZYht4/0DiwTMwM3j9AFNeTiUfYP45gEovKhd0/aAyrRwNp3T8ub4wS+NLgP7sFm/btXeI/hZcaMcKc4D+R2K1b+G/gP2GSLpJKeeE/ZzXHcTag4T+qaVTNgqLhP/9xOBRbLOI/CChZ5Qc54z/HY30pBGXiP01UwRTL0uE/xWK/7VZl4T8KDTYlrergP6bulC1MMOA/3nWBvIm64D9jPnONtxvgPxNnqspGfuA/Edz9oY/N4D/7tUzykGLgPw==",
          "dtype": "f8"
         }
        },
        {
         "legendgroup": "('llama3.1_8b_chat', 'birth_years_4k', 'base', 'main', 'prompt_answer', 'llama3.1_8b_chat', 'cities_10k', 'base', 'main', 'prompt_answer')",
         "line": {
          "width": 0
         },
         "mode": "lines",
         "name": "('llama3.1_8b_chat', 'birth_years_4k', 'base', 'main', 'prompt_answer', 'llama3.1_8b_chat', 'cities_10k', 'base', 'main', 'prompt_answer') Max",
         "showlegend": false,
         "type": "scatter",
         "x": {
          "bdata": "AAECAwQFBgcICQoLDA0ODxAREhMUFRYXGBkaGxwdHh8=",
          "dtype": "i1"
         },
         "y": {
          "bdata": "L9lpzkOF4j91luS3jTDjPx4Jbpsc7uI/8MELM0wc4j8WvXsWjobjP+locAjrXuI/5Wz4HKkd4z+yfSDhUzPhP2IgsiHntOA/RSe+CbUg4T9qMJ+o3fPaPxtvvjjbIt8/3kDplG9R3j9+tIGtiYniP9h3gPx5XeM/mSSdxy8V4j9wuNq6O//hP4WHQbH9VeM/t5D6TwoT4j8390neIHDiPzT2N7ptoeM/1GxrXlHx4z8MTqkGqVbjP3UCH0DFleI/XVCIJlcl4j+z/ZxuYUbhP0oMLC/BKuE/AG8w/Y4A4j+rhvN6ZiThP7kDM7wnSeI/Ct2G+4Pg4j/eg7Hu+eHhPw==",
          "dtype": "f8"
         }
        },
        {
         "fill": "tonexty",
         "fillcolor": "rgba(255, 127, 14, 0.1)",
         "legendgroup": "('llama3.1_8b_chat', 'birth_years_4k', 'base', 'main', 'prompt_answer', 'llama3.1_8b_chat', 'cities_10k', 'base', 'main', 'prompt_answer')",
         "line": {
          "width": 0
         },
         "mode": "lines",
         "name": "('llama3.1_8b_chat', 'birth_years_4k', 'base', 'main', 'prompt_answer', 'llama3.1_8b_chat', 'cities_10k', 'base', 'main', 'prompt_answer') Min",
         "showlegend": false,
         "type": "scatter",
         "x": {
          "bdata": "AAECAwQFBgcICQoLDA0ODxAREhMUFRYXGBkaGxwdHh8=",
          "dtype": "i1"
         },
         "y": {
          "bdata": "EY0D2U5v4T+b+RjFmBXhPzeOqlj9WuE/yk0h5Zel4T+heVs4y6LgPy3aQ5YcD+E/Xf+/eJkB2T/2gbLCJNbYP25cU0vob9w/X416SdPq2T8CvlZUvtzWPy58lYlY1Ns/8x1w3Bml3D8SFcPDoNjeP5sBuc+YguE/ptmSVfUb3j/BYUA65X3bP02m/LWFcuA/1/X0MvxJ4T+d0aIC7YngP6CHy9A5HeE/Kv/t+/Dc4T/MzAUPlN7hP14E+7+AN+E/3HPIQtFD4D/crzx+aH7gP3VxivivGN8/w3Jl8HXb3z8SfDaA53XfP/bFitI35t4/TSsy/3h73j+om4pF+ffcPw==",
          "dtype": "f8"
         }
        },
        {
         "legendgroup": "('llama3.1_8b_chat', 'birth_years_4k', 'base', 'main', 'prompt_answer', 'llama3.1_8b_chat', 'cities_10k', 'base', 'main', 'prompt_answer')",
         "line": {
          "width": 0
         },
         "mode": "lines",
         "name": "('llama3.1_8b_chat', 'birth_years_4k', 'base', 'main', 'prompt_answer', 'llama3.1_8b_chat', 'cities_10k', 'base', 'main', 'prompt_answer') +1 STD",
         "showlegend": false,
         "type": "scatter",
         "x": {
          "bdata": "AAECAwQFBgcICQoLDA0ODxAREhMUFRYXGBkaGxwdHh8=",
          "dtype": "i1"
         },
         "y": {
          "bdata": "cERJQxZ84j8Aq0Rem+PiP3Tfm+YnCuM/MYDSMKAV4j+vH/TPhM/jP2cjPgvxM+I/EuahtHDS4z883K7iAvfhP5zx7X9rMuA/W4Ik9W2X4D8F1jFnzAraP11USZlICd8/pwvJ2K8Z3j91eR+q+PbhPwv+He6yFeM/I28fm5W14T+CucSG+jjiP/WUSwQsr+I/vF1s89324T9vYnSBwX/iP0m40ju1RuM/HZ8WFYwL5D+1v/6LaxTjP0WAZc9FWuI/qEoU+X4l4j/yHu2jFzThP0tdVgthyeA/BVdTQR6B4T+evYR1vLXgP3UpQ042v+E/Y2dNU85s4j+KIR9Ewd7hPw==",
          "dtype": "f8"
         }
        },
        {
         "fill": "tonexty",
         "fillcolor": "rgba(255, 127, 14, 0.3)",
         "legendgroup": "('llama3.1_8b_chat', 'birth_years_4k', 'base', 'main', 'prompt_answer', 'llama3.1_8b_chat', 'cities_10k', 'base', 'main', 'prompt_answer')",
         "line": {
          "width": 0
         },
         "mode": "lines",
         "name": "('llama3.1_8b_chat', 'birth_years_4k', 'base', 'main', 'prompt_answer', 'llama3.1_8b_chat', 'cities_10k', 'base', 'main', 'prompt_answer') -1 STD",
         "showlegend": false,
         "type": "scatter",
         "x": {
          "bdata": "AAECAwQFBgcICQoLDA0ODxAREhMUFRYXGBkaGxwdHh8=",
          "dtype": "i1"
         },
         "y": {
          "bdata": "LCzBvjGa4T8M7Hpf9hrhP9Ld6GDgy+E/SbGvkMi54T8HCnqYNIHhP9VVnfZoJOE/1P/nFVrv3D+0Rp6kTvLbP53/BW3ap9w/62wXr7zq2j97UnzARoTWP79s23xMAtw/KQ2Ntla43D/OyfL17l3fP2sNGP8opuE/zn8rjt0H3z8/7y1h7E3dP82PESBpQ+A/Eg0i8I5J4T/lcDQZRMXgP7UrnuwAEuE/87CbtYNm4j/ZB/zGnLXhP1UoHVpQS+E/4npq4i6l4D8i+36mQqHgPwEAp59uLt8/bilfb+rn3z9QfsNKZQPfP2NJI46uet4/fqFc4aFc3j/YlPRAwczdPw==",
          "dtype": "f8"
         }
        },
        {
         "legendgroup": "('llama3.1_8b_chat', 'birth_years_4k', 'base', 'main', 'prompt_answer', 'llama3.1_8b_chat', 'cities_10k', 'base', 'main', 'prompt_answer')",
         "marker": {
          "color": "#ff7f0e",
          "opacity": 0.5,
          "size": 6
         },
         "mode": "markers",
         "name": "('llama3.1_8b_chat', 'birth_years_4k', 'base', 'main', 'prompt_answer', 'llama3.1_8b_chat', 'cities_10k', 'base', 'main', 'prompt_answer') Fold ('logistic_regression_test_roc_auc', 0)",
         "showlegend": false,
         "type": "scatter",
         "x": {
          "bdata": "AAECAwQFBgcICQoLDA0ODxAREhMUFRYXGBkaGxwdHh8=",
          "dtype": "i1"
         },
         "y": {
          "bdata": "yvBvSXHD4T+kuAVLGjbhPx4Jbpsc7uI/CjRV6Ffn4T+heVs4y6LgPy2vTUDJ8+E/Xf+/eJkB2T/2gbLCJNbYP2IgsiHntOA/X416SdPq2T/CJF+ZaDTZPy58lYlY1Ns/mtoNghzM3T/2sgoXDkzgP9h3gPx5XeM/ptmSVfUb3j/BYUA65X3bP02m/LWFcuA/1/X0MvxJ4T/rg9/Ye0TiPzT2N7ptoeM/1F5ew3Mn4z+e0gBn9+zhP3i5rV69/OE/weGEyvyw4T8A4QyMn/vgP9EhH2xHDeA/O/98aAd74D9+b2Yd/ovfP7kDM7wnSeI/Ct2G+4Pg4j9YEHpXtbHhPw==",
          "dtype": "f8"
         }
        },
        {
         "legendgroup": "('llama3.1_8b_chat', 'birth_years_4k', 'base', 'main', 'prompt_answer', 'llama3.1_8b_chat', 'cities_10k', 'base', 'main', 'prompt_answer')",
         "marker": {
          "color": "#ff7f0e",
          "opacity": 0.5,
          "size": 6
         },
         "mode": "markers",
         "name": "('llama3.1_8b_chat', 'birth_years_4k', 'base', 'main', 'prompt_answer', 'llama3.1_8b_chat', 'cities_10k', 'base', 'main', 'prompt_answer') Fold ('logistic_regression_test_roc_auc', 1)",
         "showlegend": false,
         "type": "scatter",
         "x": {
          "bdata": "AAECAwQFBgcICQoLDA0ODxAREhMUFRYXGBkaGxwdHh8=",
          "dtype": "i1"
         },
         "y": {
          "bdata": "wdEyrQko4j91luS3jTDjP/Kvdd5VhuI/8MELM0wc4j8WvXsWjobjP+locAjrXuI/5Wz4HKkd4z8UYPXnEM7gPwXjudE61t4/RSe+CbUg4T9pxKbePgzXP5nzxq2jFN8/8x1w3Bml3D8SFcPDoNjeP/Ai+dASKuI/mSSdxy8V4j8b6skbXMjhP4WHQbH9VeM/cWu5F6rk4T/IAyMjoAziP6jiIeedreE/1GxrXlHx4z8MTqkGqVbjP3UCH0DFleI/1ww9VtzW4T+/VAjqXQLhP40FyBqdMuA/ILsOPhVy4D9EKCLZTSPgP68Am+082d8/8mwJcNPv3z9AHzqesJTgPw==",
          "dtype": "f8"
         }
        },
        {
         "legendgroup": "('llama3.1_8b_chat', 'birth_years_4k', 'base', 'main', 'prompt_answer', 'llama3.1_8b_chat', 'cities_10k', 'base', 'main', 'prompt_answer')",
         "marker": {
          "color": "#ff7f0e",
          "opacity": 0.5,
          "size": 6
         },
         "mode": "markers",
         "name": "('llama3.1_8b_chat', 'birth_years_4k', 'base', 'main', 'prompt_answer', 'llama3.1_8b_chat', 'cities_10k', 'base', 'main', 'prompt_answer') Fold ('logistic_regression_test_roc_auc', 2)",
         "showlegend": false,
         "type": "scatter",
         "x": {
          "bdata": "AAECAwQFBgcICQoLDA0ODxAREhMUFRYXGBkaGxwdHh8=",
          "dtype": "i1"
         },
         "y": {
          "bdata": "L9lpzkOF4j/waxteEY3iPzpqa18DyuI/8d97aSgH4j+QzCWFwx/jPwypovXBP+E/9zvjLJCy4j+yfSDhUzPhP1+RV5Tcft4/+IIXaCu73z+sjTdubFTXP5ScfesKfdw/DIp/Bi133T+AkIE/F/zgP2Vp11bdxuI/WuRps+C14D++rxnqGx7hP/4qBp+/BOI/t5D6TwoT4j8390neIHDiP0X2kkGuDOM/KA9QnJjH4z99BVS9vOzhP14E+7+AN+E/3HPIQtFD4D/crzx+aH7gP8B5IGP+9N8/mGqYEkrJ4D9xJrhA3YPfP75XGmM6/t4/LHPMAvF23z+om4pF+ffcPw==",
          "dtype": "f8"
         }
        },
        {
         "legendgroup": "('llama3.1_8b_chat', 'birth_years_4k', 'base', 'main', 'prompt_answer', 'llama3.1_8b_chat', 'cities_10k', 'base', 'main', 'prompt_answer')",
         "marker": {
          "color": "#ff7f0e",
          "opacity": 0.5,
          "size": 6
         },
         "mode": "markers",
         "name": "('llama3.1_8b_chat', 'birth_years_4k', 'base', 'main', 'prompt_answer', 'llama3.1_8b_chat', 'cities_10k', 'base', 'main', 'prompt_answer') Fold ('logistic_regression_test_roc_auc', 3)",
         "showlegend": false,
         "type": "scatter",
         "x": {
          "bdata": "AAECAwQFBgcICQoLDA0ODxAREhMUFRYXGBkaGxwdHh8=",
          "dtype": "i1"
         },
         "y": {
          "bdata": "EY0D2U5v4T+b+RjFmBXhP7An0oChfeI/+FfHeSHW4T968RUiHuXiP8UTADBOu+E/zONY6ywG4j+1zg3njKTgP25cU0vob9w/DvscvxDq3D8CvlZUvtzWP1Fnw1sSFN0/knpwbD3T3D9+tIGtiYniP5sBuc+YguE/c4ICGG1H4D9Vbw3ZZhbfP1f/hDIskuA/+3MSQoNs4T+d0aIC7YngP6CHy9A5HeE/Kv/t+/Dc4T/MzAUPlN7hP5BWvtui4eE/XVCIJlcl4j/gXR9XmtLgP3VxivivGN8/w3Jl8HXb3z8SfDaA53XfP/bFitI35t4/TSsy/3h73j83Galo8JDePw==",
          "dtype": "f8"
         }
        },
        {
         "legendgroup": "('llama3.1_8b_chat', 'birth_years_4k', 'base', 'main', 'prompt_answer', 'llama3.1_8b_chat', 'cities_10k', 'base', 'main', 'prompt_answer')",
         "marker": {
          "color": "#ff7f0e",
          "opacity": 0.5,
          "size": 6
         },
         "mode": "markers",
         "name": "('llama3.1_8b_chat', 'birth_years_4k', 'base', 'main', 'prompt_answer', 'llama3.1_8b_chat', 'cities_10k', 'base', 'main', 'prompt_answer') Fold ('logistic_regression_test_roc_auc', 4)",
         "showlegend": false,
         "type": "scatter",
         "x": {
          "bdata": "AAECAwQFBgcICQoLDA0ODxAREhMUFRYXGBkaGxwdHh8=",
          "dtype": "i1"
         },
         "y": {
          "bdata": "t/AJZ6ZX4j/7REA0GvPhPzeOqlj9WuE/yk0h5Zel4T+IcwCPlBvjPy3aQ5YcD+E/nDJibRdi4T+FEf5yZcfgP3ala5vtcN0/IcJF+4Nu3T9qMJ+o3fPaPxtvvjjbIt8/3kDplG9R3j9lqc722ODgP+IW/dyiBOI/Yv2xt1Lv4D9wuNq6O//hP7yDH6IF/+A/CKUoXNxy4T/Hv7YlZOHgPzzjYbHTZOE/MO61wNhf4z/x/26VI+riP6aOQC1RcuE/CDuqGrEJ4T+z/ZxuYUbhP0oMLC/BKuE/AG8w/Y4A4j+rhvN6ZiThP3LwgKdiT+E/lWlqdSsy4j/eg7Hu+eHhPw==",
          "dtype": "f8"
         }
        },
        {
         "legendgroup": "('llama3.1_8b_chat', 'birth_years_4k', 'base', 'main', 'prompt_only', 'llama3.1_8b_chat', 'birth_years_4k', 'base', 'main', 'prompt_only')",
         "line": {
          "color": "#2ca02c",
          "width": 2
         },
         "marker": {
          "size": 8
         },
         "mode": "lines+markers",
         "name": "('llama3.1_8b_chat', 'birth_years_4k', 'base', 'main', 'prompt_only', 'llama3.1_8b_chat', 'birth_years_4k', 'base', 'main', 'prompt_only')",
         "type": "scatter",
         "x": {
          "bdata": "AAECAwQFBgcICQoLDA0ODxAREhMUFRYXGBkaGxwdHh8=",
          "dtype": "i1"
         },
         "y": {
          "bdata": "RRdKpbIX6D+YTib2FzTqPyXWxzf0tuo/CGqZokWv6j+IYGoHuV3rP6KPIAFF9es/usyv/jn+6z/e9e1/MnvsP7V/WyMJFuw/VbiYD5aZ7D+gptJ0ZmnsP8PhnxrELuw/AjlQa1Zy7D8j8HysynjsPz3u8kskfOw/KknA5GGT7D91oZDDnnXsPxYYgWG7ZOw/uNB+kBIf7D+dXOiO1VrsP1YbGjULN+w/474gZF0x7D+CPoZtsHnsPxqJ+chsdOw/UtZqY8tx7D9iJdGCkubsPyhgOKfOoOw/uNPdRq/i7D8o1yekzMLsP0DLD3JKGe0/nnpKEmb17D8WdUwtq27sPw==",
          "dtype": "f8"
         }
        },
        {
         "legendgroup": "('llama3.1_8b_chat', 'birth_years_4k', 'base', 'main', 'prompt_only', 'llama3.1_8b_chat', 'birth_years_4k', 'base', 'main', 'prompt_only')",
         "line": {
          "width": 0
         },
         "mode": "lines",
         "name": "('llama3.1_8b_chat', 'birth_years_4k', 'base', 'main', 'prompt_only', 'llama3.1_8b_chat', 'birth_years_4k', 'base', 'main', 'prompt_only') Max",
         "showlegend": false,
         "type": "scatter",
         "x": {
          "bdata": "AAECAwQFBgcICQoLDA0ODxAREhMUFRYXGBkaGxwdHh8=",
          "dtype": "i1"
         },
         "y": {
          "bdata": "0hF2kzqd6D8Nz8a1p+zqPwsnpcrolOs/YYJIV3j56z+e98KdvhjsP1TbnkEf4Ow/muSu5Oui7D8qEO5tjpTtPxVXciHmGe0/jxfEp/xo7T/OjJPPQyXtP7AO5MJF/Ow/9RRckck27T/Ln89x6XztP/IIdykMge0/XNCWmbP37D8YX5m7UUTtP+Ns3lH/WO0/CU8CIus47T8I+f9AaxrtP751xtdWOu0/s3BSqoxO7T+3OVL2jhLtP1SzgaHQDO0/SyCdsYAG7T9KVyOm+3rtPwlUIco7PO0/6yWH2mFm7T/AfwQo+EDtPw/77sZHz+0/twXH3HXi7T8FNmfZVyjtPw==",
          "dtype": "f8"
         }
        },
        {
         "fill": "tonexty",
         "fillcolor": "rgba(44, 160, 44, 0.1)",
         "legendgroup": "('llama3.1_8b_chat', 'birth_years_4k', 'base', 'main', 'prompt_only', 'llama3.1_8b_chat', 'birth_years_4k', 'base', 'main', 'prompt_only')",
         "line": {
          "width": 0
         },
         "mode": "lines",
         "name": "('llama3.1_8b_chat', 'birth_years_4k', 'base', 'main', 'prompt_only', 'llama3.1_8b_chat', 'birth_years_4k', 'base', 'main', 'prompt_only') Min",
         "showlegend": false,
         "type": "scatter",
         "x": {
          "bdata": "AAECAwQFBgcICQoLDA0ODxAREhMUFRYXGBkaGxwdHh8=",
          "dtype": "i1"
         },
         "y": {
          "bdata": "4kcuG1l15z+IuAKcGq7pPw4cXoWe8+k/C24z10lN6T8ryAO1w6fqP9+vwNbrJOs/fvzAC1AC6z9ldMqvgxjrPzasRwirDOs/REaO8eB86z9X/nyOS+frPynAK83JQus/6waClcnP6z9QcJRlV37rPxQ/Ca4xAuw/qLxq7Wom7D+093DIeYTrPxV+/V99QOs/szlnECwh6j/SInOI2K7qP/ExSJQ7X+o/GwdwR8m26j/lVwOAA6rrPzqYXO+U6us/WhdycLcJ7D+2YtQCmG3sP/oY6mRDE+w/eSJNLT9u7D8kbjAMQE7sP5HvWw1VSuw/RWT5FPWR7D98QD4Qa+HrPw==",
          "dtype": "f8"
         }
        },
        {
         "legendgroup": "('llama3.1_8b_chat', 'birth_years_4k', 'base', 'main', 'prompt_only', 'llama3.1_8b_chat', 'birth_years_4k', 'base', 'main', 'prompt_only')",
         "line": {
          "width": 0
         },
         "mode": "lines",
         "name": "('llama3.1_8b_chat', 'birth_years_4k', 'base', 'main', 'prompt_only', 'llama3.1_8b_chat', 'birth_years_4k', 'base', 'main', 'prompt_only') +1 STD",
         "showlegend": false,
         "type": "scatter",
         "x": {
          "bdata": "AAECAwQFBgcICQoLDA0ODxAREhMUFRYXGBkaGxwdHh8=",
          "dtype": "i1"
         },
         "y": {
          "bdata": "4PtLAUOU6D/itup+iajqP6hraCdqfus/1EXrFWOi6z9riq7B8ALsPzb4f7uSuOw/3KSuyhKt7D/Gl5E60XTtP7FRuQYwAe0/VCxbe8Rq7T8MtDMoZATtPxfi6mqn2+w/7Zj+CNQZ7T+eMR1CakbtP7a5PTLgE+0/ODR1Mpjh7D/Ahs7THT7tP11GOdChSu0/USn9JPxk7T8L2rslkF7tP+MCUmvnWu0/tOisuCYk7T/eSQw+kQPtP9spgNW+7Ow/J8vNefru7D9HNGT5FWXtP/Aya/1BMO0/hx8nCdpX7T/aQ6TmZi/tP2DLxZpqrO0/oOGXgaZ97T/F2yaOav3sPw==",
          "dtype": "f8"
         }
        },
        {
         "fill": "tonexty",
         "fillcolor": "rgba(44, 160, 44, 0.3)",
         "legendgroup": "('llama3.1_8b_chat', 'birth_years_4k', 'base', 'main', 'prompt_only', 'llama3.1_8b_chat', 'birth_years_4k', 'base', 'main', 'prompt_only')",
         "line": {
          "width": 0
         },
         "mode": "lines",
         "name": "('llama3.1_8b_chat', 'birth_years_4k', 'base', 'main', 'prompt_only', 'llama3.1_8b_chat', 'birth_years_4k', 'base', 'main', 'prompt_only') -1 STD",
         "showlegend": false,
         "type": "scatter",
         "x": {
          "bdata": "AAECAwQFBgcICQoLDA0ODxAREhMUFRYXGBkaGxwdHh8=",
          "dtype": "i1"
         },
         "y": {
          "bdata": "qjJISSKb5z9O5mFtpr/pP6JAJ0h+7+k/PI5HLyi86T+lNiZNgbjqPw4nwUb3Mes/mPSwMmFP6z/2U0rFk4HrP7mt/T/iKus/VkTWo2fI6z80mXHBaM7rP2/hVMrgges/F9mhzdjK6z+ortwWK6vrP8QiqGVo5Os/HF4LlytF7D8qvFKzH63rP8/pyPLUfus/H3gA/CjZ6j8v3xT4GlfrP8kz4v4uE+s/EpWUD5Q+6z8mMwCdz+/rP1nocrwa/Os/feEHTZz06z99Fj4MD2jsP2CNBVFbEew/6YeUhIRt7D92aqthMlbsPyDLWUkqhuw/nBP9oiVt7D9nDnLM69/rPw==",
          "dtype": "f8"
         }
        },
        {
         "legendgroup": "('llama3.1_8b_chat', 'birth_years_4k', 'base', 'main', 'prompt_only', 'llama3.1_8b_chat', 'birth_years_4k', 'base', 'main', 'prompt_only')",
         "marker": {
          "color": "#2ca02c",
          "opacity": 0.5,
          "size": 6
         },
         "mode": "markers",
         "name": "('llama3.1_8b_chat', 'birth_years_4k', 'base', 'main', 'prompt_only', 'llama3.1_8b_chat', 'birth_years_4k', 'base', 'main', 'prompt_only') Fold ('logistic_regression_test_roc_auc', 0)",
         "showlegend": false,
         "type": "scatter",
         "x": {
          "bdata": "AAECAwQFBgcICQoLDA0ODxAREhMUFRYXGBkaGxwdHh8=",
          "dtype": "i1"
         },
         "y": {
          "bdata": "mflMlUws6D8JKfWmyA7qPw4cXoWe8+k/C24z10lN6T/Pom/e3DjrPxsAHFDdr+s/H/Bfb5iU6z9GvBjl1evrPzasRwirDOs/REaO8eB86z++NlD5//jrPynAK83JQus/RqPtxkDQ6z9QcJRlV37rPxQ/Ca4xAuw/9EhfwGNt7D8zgDT2vunrPxV+/V99QOs/szlnECwh6j/SInOI2K7qP/ExSJQ7X+o/GwdwR8m26j/lVwOAA6rrPzqYXO+U6us/WhdycLcJ7D90277NY3vsP+kLeKyNUOw/wf2lxem67D+bqpwCvNLsPy1tTAJo4uw/RWT5FPWR7D/FSC50oPnrPw==",
          "dtype": "f8"
         }
        },
        {
         "legendgroup": "('llama3.1_8b_chat', 'birth_years_4k', 'base', 'main', 'prompt_only', 'llama3.1_8b_chat', 'birth_years_4k', 'base', 'main', 'prompt_only')",
         "marker": {
          "color": "#2ca02c",
          "opacity": 0.5,
          "size": 6
         },
         "mode": "markers",
         "name": "('llama3.1_8b_chat', 'birth_years_4k', 'base', 'main', 'prompt_only', 'llama3.1_8b_chat', 'birth_years_4k', 'base', 'main', 'prompt_only') Fold ('logistic_regression_test_roc_auc', 1)",
         "showlegend": false,
         "type": "scatter",
         "x": {
          "bdata": "AAECAwQFBgcICQoLDA0ODxAREhMUFRYXGBkaGxwdHh8=",
          "dtype": "i1"
         },
         "y": {
          "bdata": "1/N+RiF56D8Nz8a1p+zqPwsnpcrolOs/YYJIV3j56z/4bBsQsPnrPx8uodwTpuw/muSu5Oui7D/avKP+sfLsP4WSt+VFt+w/v281VClR7T8nI/Szqv7sP7AO5MJF/Ow/jswiQSYC7T/Ln89x6XztP/IIdykMge0/XNCWmbP37D8YX5m7UUTtP+Ns3lH/WO0/MOePFx4u7T/iT4juAfnsP7nm4Dbf9Ow/s3BSqoxO7T+fckvrONTsP1SzgaHQDO0/SyCdsYAG7T+x9TrJHF7tPwPN0SFlO+0/iMKSbiBY7T+Zhu1meRLtP7p5BpJJcO0/N6I2KLrG7D9cWsehRtzsPw==",
          "dtype": "f8"
         }
        },
        {
         "legendgroup": "('llama3.1_8b_chat', 'birth_years_4k', 'base', 'main', 'prompt_only', 'llama3.1_8b_chat', 'birth_years_4k', 'base', 'main', 'prompt_only')",
         "marker": {
          "color": "#2ca02c",
          "opacity": 0.5,
          "size": 6
         },
         "mode": "markers",
         "name": "('llama3.1_8b_chat', 'birth_years_4k', 'base', 'main', 'prompt_only', 'llama3.1_8b_chat', 'birth_years_4k', 'base', 'main', 'prompt_only') Fold ('logistic_regression_test_roc_auc', 2)",
         "showlegend": false,
         "type": "scatter",
         "x": {
          "bdata": "AAECAwQFBgcICQoLDA0ODxAREhMUFRYXGBkaGxwdHh8=",
          "dtype": "i1"
         },
         "y": {
          "bdata": "4kcuG1l15z8U4+Zas0DqP2A0O4BXcOs/Btpz3hCU6j8ZE8LjjeHqP70UhsBcb+s/fvzAC1AC6z9ldMqvgxjrPxyrLyj7Mes/fCzd/0QY7D8TXMg8xgrsPyPk/wOtaew/WJGi6bVi7D/ZEXApTezrPwbTtIqWI+w/qLxq7Wom7D+093DIeYTrP1eIrZbey+s/RmLktj6/6z9swfubWxnsP5zR6FP07Os/JMepoK8J7D/0XUNUp3rsP+StSWx0iew/gYnCkm4g7D+2YtQCmG3sP96axEaXSOw/5xlIJsGF7D8kbjAMQE7sP5HvWw1VSuw/q/YWtGXm7D98QD4Qa+HrPw==",
          "dtype": "f8"
         }
        },
        {
         "legendgroup": "('llama3.1_8b_chat', 'birth_years_4k', 'base', 'main', 'prompt_only', 'llama3.1_8b_chat', 'birth_years_4k', 'base', 'main', 'prompt_only')",
         "marker": {
          "color": "#2ca02c",
          "opacity": 0.5,
          "size": 6
         },
         "mode": "markers",
         "name": "('llama3.1_8b_chat', 'birth_years_4k', 'base', 'main', 'prompt_only', 'llama3.1_8b_chat', 'birth_years_4k', 'base', 'main', 'prompt_only') Fold ('logistic_regression_test_roc_auc', 3)",
         "showlegend": false,
         "type": "scatter",
         "x": {
          "bdata": "AAECAwQFBgcICQoLDA0ODxAREhMUFRYXGBkaGxwdHh8=",
          "dtype": "i1"
         },
         "y": {
          "bdata": "0hF2kzqd6D9I9Rl7ORrqP2gt8rq09uk/MV/wj3nN6j+e98KdvhjsP1TbnkEf4Ow/MhB1pdp97D8qEO5tjpTtPxVXciHmGe0/jxfEp/xo7T/OjJPPQyXtP1Z/oh7Nfuw/9RRckck27T9H2E3qdALtP3S8mQaZXuw/SouuvxSr7D9iZwOl8TztP4fH0yXyM+0/CU8CIus47T/noZJ2iursP751xtdWOu0/RVRZhp2G7D+3OVL2jhLtP4RD38EauOw/sAL9vBfu7D9KVyOm+3rtPwlUIco7PO0/6yWH2mFm7T/AfwQo+EDtPw/77sZHz+0/twXH3HXi7T8FNmfZVyjtPw==",
          "dtype": "f8"
         }
        },
        {
         "legendgroup": "('llama3.1_8b_chat', 'birth_years_4k', 'base', 'main', 'prompt_only', 'llama3.1_8b_chat', 'birth_years_4k', 'base', 'main', 'prompt_only')",
         "marker": {
          "color": "#2ca02c",
          "opacity": 0.5,
          "size": 6
         },
         "mode": "markers",
         "name": "('llama3.1_8b_chat', 'birth_years_4k', 'base', 'main', 'prompt_only', 'llama3.1_8b_chat', 'birth_years_4k', 'base', 'main', 'prompt_only') Fold ('logistic_regression_test_roc_auc', 4)",
         "showlegend": false,
         "type": "scatter",
         "x": {
          "bdata": "AAECAwQFBgcICQoLDA0ODxAREhMUFRYXGBkaGxwdHh8=",
          "dtype": "i1"
         },
         "y": {
          "bdata": "OC0CsHu+5z+IuAKcGq7pP9aJtosxo+o/hegekA/E6j8ryAO1w6fqP9+vwNbrJOs/NB4q9HI/7D+mzzB+YtzsP5k9KHlbXuw/mp+WYKKw7D9X/nyOS+frP382bdJKwus/6waClcnP6z91tk5z8nHsP67P7xJIZ+w/kQyycFKq7D/n6JCynVzsP5k9KHlbXuw/aUGc0ehT7D8I+f9AaxrtP6UoqhLSl+w/PCfe2y9h7D9Z1rpt/1TsP4hw2C0rDew/xmtHfzoa7D/GLyROyL7sP/oY6mRDE+w/eSJNLT9u7D+uFAiXkVnsP7kmsdElEu0/OmJmjXOp7D/PL+PirUnsPw==",
          "dtype": "f8"
         }
        },
        {
         "legendgroup": "('llama3.1_8b_chat', 'birth_years_4k', 'base', 'main', 'prompt_only', 'llama3.1_8b_chat', 'cities_10k', 'base', 'main', 'prompt_only')",
         "line": {
          "color": "#d62728",
          "width": 2
         },
         "marker": {
          "size": 8
         },
         "mode": "lines+markers",
         "name": "('llama3.1_8b_chat', 'birth_years_4k', 'base', 'main', 'prompt_only', 'llama3.1_8b_chat', 'cities_10k', 'base', 'main', 'prompt_only')",
         "type": "scatter",
         "x": {
          "bdata": "AAECAwQFBgcICQoLDA0ODxAREhMUFRYXGBkaGxwdHh8=",
          "dtype": "i1"
         },
         "y": {
          "bdata": "DRFmorrJ3z+hfznDxwDgP1OW3yLbVd8/of3QiLsv4D9g/Hv5fejgPz2H0lke098/pjjQF8yt3z/t6uyu7afcP/vVvN4f5t0/4FpXAfnY3z85GfO+JYDgP/Uvbp8ULt4/8JRrPf9s4D/7piarUaHeP/ZQkekiMeE/HyFMt/dk4D+eK0UnYofgP4wmGGY9wuI/ewQv0JnJ4j9fz4KsfA7hP2oyBVILouA/lSlsDMiV4T9jkUNH/6ThPyCgJl67FeI/YQsvyxHh4T+uYa4VtEXhP6An7IZKXOA/bUjYpdAM4D9VG5ui3o/fP1sE/OeDheE/UgbxlD3E4T8uIzzUX0PjPw==",
          "dtype": "f8"
         }
        },
        {
         "legendgroup": "('llama3.1_8b_chat', 'birth_years_4k', 'base', 'main', 'prompt_only', 'llama3.1_8b_chat', 'cities_10k', 'base', 'main', 'prompt_only')",
         "line": {
          "width": 0
         },
         "mode": "lines",
         "name": "('llama3.1_8b_chat', 'birth_years_4k', 'base', 'main', 'prompt_only', 'llama3.1_8b_chat', 'cities_10k', 'base', 'main', 'prompt_only') Max",
         "showlegend": false,
         "type": "scatter",
         "x": {
          "bdata": "AAECAwQFBgcICQoLDA0ODxAREhMUFRYXGBkaGxwdHh8=",
          "dtype": "i1"
         },
         "y": {
          "bdata": "Om163TtM4D8owDoTecfgPzruyOZv9d8/HiFKaYhz4T9oj9fOKhLhP4ViiWFmXuA/IPmoM4gv4T+sBiecLefeP+e7V7eb9N8/M27y8yu04T8SrxIXTfjhP1x+ZDVrZeA/oFl6UbKY4T9dgGRdOmzgP+L1n/6ZheI/Rb4yUqgB4T8n+3VKxunhPw4bsF3Y+OM/MAAlKbqd4z9sVSbHpijiP2NTlJnBPeE/Id1Y7igK4j8yPqzbZgTiPwnXP3gUrOI/S1xvb1rJ4j8L9SULUjjiPzdB86nnC+E/uqbSk63B4D8Ius+god/gP840F0JTqOI/3yNdGm544j8udn+rUSTlPw==",
          "dtype": "f8"
         }
        },
        {
         "fill": "tonexty",
         "fillcolor": "rgba(214, 39, 40, 0.1)",
         "legendgroup": "('llama3.1_8b_chat', 'birth_years_4k', 'base', 'main', 'prompt_only', 'llama3.1_8b_chat', 'cities_10k', 'base', 'main', 'prompt_only')",
         "line": {
          "width": 0
         },
         "mode": "lines",
         "name": "('llama3.1_8b_chat', 'birth_years_4k', 'base', 'main', 'prompt_only', 'llama3.1_8b_chat', 'cities_10k', 'base', 'main', 'prompt_only') Min",
         "showlegend": false,
         "type": "scatter",
         "x": {
          "bdata": "AAECAwQFBgcICQoLDA0ODxAREhMUFRYXGBkaGxwdHh8=",
          "dtype": "i1"
         },
         "y": {
          "bdata": "CqLNpY4U3j9nb8Zsf4XePzKKH/0QGd4/R8t7ObUt3T/KYshGr7TgPwfefkkQ5t4/vFiLkI+O3j/ZZ00V+uHYP/jaNFiPUtk/CTARKaXY3D8u05hkUp7dP8cuFslZw9s/b7kb26Fi3z99oxg/f/HcP91NgAUHe+A/2cDnYmdr3z9sQer/l8PeP2jAtEfefuA/oojI8Cwg4T+roSQXlW3gP42e2/5KEeA/eK8aqRgc4T+PKr8yo07hP3c7BrwGbeE/G8XcpSSt4D+AI0PS34rgP2yxdowiDd8/Posq+w973z+Zerf/JVHeP+j7DfJCyeA/3lOfW5TY4D/ows0IJ4/hPw==",
          "dtype": "f8"
         }
        },
        {
         "legendgroup": "('llama3.1_8b_chat', 'birth_years_4k', 'base', 'main', 'prompt_only', 'llama3.1_8b_chat', 'cities_10k', 'base', 'main', 'prompt_only')",
         "line": {
          "width": 0
         },
         "mode": "lines",
         "name": "('llama3.1_8b_chat', 'birth_years_4k', 'base', 'main', 'prompt_only', 'llama3.1_8b_chat', 'cities_10k', 'base', 'main', 'prompt_only') +1 STD",
         "showlegend": false,
         "type": "scatter",
         "x": {
          "bdata": "AAECAwQFBgcICQoLDA0ODxAREhMUFRYXGBkaGxwdHh8=",
          "dtype": "i1"
         },
         "y": {
          "bdata": "UjgZf7pj4D9Zqw++1q7gP+62avJIEOA/BHX2nYdO4T8hnUBHDBDhP4KRYfjfTOA/PbBQ4cOc4D/PZgex7ezeP5VXo0nKReA/UCbsHpk34T8mRlTN2s7hP4JQc3qMKOA/VhljWiki4T+5fO2cth/gP2PzTlbO+eE/htLcCln64D8UFtaPq3XhP3uiLpqpKuQ/Mn13W8DT4z/0FCBlmLzhP7zjr4bNDOE/o1/rjHfq4T+WOibKCOnhP/VDCJw1j+I/CkNGP0my4j+IsRecN/vhP6PYYPCf9eA/hHXBpst24D/gr5cLB3DgPym1CgdkO+I/orC+bRR94j9Y0e8YwdzkPw==",
          "dtype": "f8"
         }
        },
        {
         "fill": "tonexty",
         "fillcolor": "rgba(214, 39, 40, 0.3)",
         "legendgroup": "('llama3.1_8b_chat', 'birth_years_4k', 'base', 'main', 'prompt_only', 'llama3.1_8b_chat', 'cities_10k', 'base', 'main', 'prompt_only')",
         "line": {
          "width": 0
         },
         "mode": "lines",
         "name": "('llama3.1_8b_chat', 'birth_years_4k', 'base', 'main', 'prompt_only', 'llama3.1_8b_chat', 'cities_10k', 'base', 'main', 'prompt_only') -1 STD",
         "showlegend": false,
         "type": "scatter",
         "x": {
          "bdata": "AAECAwQFBgcICQoLDA0ODxAREhMUFRYXGBkaGxwdHh8=",
          "dtype": "i1"
         },
         "y": {
          "bdata": "d7GZRgDM3j/Sp8aQcaXeP8m+6WAki94/fAxX594h3j+fW7er78DgP3Xr4cJ8DN8/0hD/bBAi3j8Lb9Ks7WLaP8z8MiqrQNs/IGnWxL9C3T+X2CNh4WLeP+a+9UkQC9w/FSHoQKpv3z+DVHIcNgPdP4mu03x3aOA/b992xyyf3z9Rgmh9MTLfP52qATLRWeE/xIvmRHO/4T/KieXzYGDgPxiBWh1JN+A/h/PsixhB4T8w6GDE9WDhP0v8RCBBnOE/uNMXV9oP4T/UEUWPMJDgPzvt7jrqhd8/rDbeSatF3z/r1gYurz/eP41T7cijz+A/AlwjvGYL4T8EdYiP/qnhPw==",
          "dtype": "f8"
         }
        },
        {
         "legendgroup": "('llama3.1_8b_chat', 'birth_years_4k', 'base', 'main', 'prompt_only', 'llama3.1_8b_chat', 'cities_10k', 'base', 'main', 'prompt_only')",
         "marker": {
          "color": "#d62728",
          "opacity": 0.5,
          "size": 6
         },
         "mode": "markers",
         "name": "('llama3.1_8b_chat', 'birth_years_4k', 'base', 'main', 'prompt_only', 'llama3.1_8b_chat', 'cities_10k', 'base', 'main', 'prompt_only') Fold ('logistic_regression_test_roc_auc', 0)",
         "showlegend": false,
         "type": "scatter",
         "x": {
          "bdata": "AAECAwQFBgcICQoLDA0ODxAREhMUFRYXGBkaGxwdHh8=",
          "dtype": "i1"
         },
         "y": {
          "bdata": "CqLNpY4U3j/rpboSlIfgP4P0uJxOw98/R8t7ObUt3T8CvsjYTADhPwfefkkQ5t4/vFiLkI+O3j/ZZ00V+uHYP/jaNFiPUtk/CTARKaXY3D8u05hkUp7dP9veyuPnut8/oFl6UbKY4T9dgGRdOmzgPxIZgbo/H+E/3jxMf/uw4D9sQer/l8PeP2jAtEfefuA/oojI8Cwg4T+GWaI4pdHgP1ynohUpo+A/Id1Y7igK4j9iTxUy0H7hPz8D/MqdYeI/9IjAF+BY4j8L9SULUjjiP9OgBF2eyuA/Posq+w973z9jRHjP7kjfP6Nad3Glm+E/3lOfW5TY4D/ows0IJ4/hPw==",
          "dtype": "f8"
         }
        },
        {
         "legendgroup": "('llama3.1_8b_chat', 'birth_years_4k', 'base', 'main', 'prompt_only', 'llama3.1_8b_chat', 'cities_10k', 'base', 'main', 'prompt_only')",
         "marker": {
          "color": "#d62728",
          "opacity": 0.5,
          "size": 6
         },
         "mode": "markers",
         "name": "('llama3.1_8b_chat', 'birth_years_4k', 'base', 'main', 'prompt_only', 'llama3.1_8b_chat', 'cities_10k', 'base', 'main', 'prompt_only') Fold ('logistic_regression_test_roc_auc', 1)",
         "showlegend": false,
         "type": "scatter",
         "x": {
          "bdata": "AAECAwQFBgcICQoLDA0ODxAREhMUFRYXGBkaGxwdHh8=",
          "dtype": "i1"
         },
         "y": {
          "bdata": "dnpDffQn4D9nb8Zsf4XePzKKH/0QGd4/HiFKaYhz4T8ySm8c6/ngP1tXA3TEdt8/9S7lqnrM3j/cTQiaUQLdP+e7V7eb9N8/rwoIZq284D8SrxIXTfjhPzFCYDWgZNw/uHeKvBxa4D99oxg/f/HcP05e/Hf2COE/Rb4yUqgB4T8n+3VKxunhPw4bsF3Y+OM/4De4+uxh4z9GZfFwyqjgP+0GibOUqOA/HjmhHASL4T88ByLIf63hP5Yh5MVq6OE/G8XcpSSt4D/v9UzsKZbgP2yxdowiDd8/0CDUfZ633z8d0CzuwtveP7fc5eI3GuE/hI5Bar/24T8udn+rUSTlPw==",
          "dtype": "f8"
         }
        },
        {
         "legendgroup": "('llama3.1_8b_chat', 'birth_years_4k', 'base', 'main', 'prompt_only', 'llama3.1_8b_chat', 'cities_10k', 'base', 'main', 'prompt_only')",
         "marker": {
          "color": "#d62728",
          "opacity": 0.5,
          "size": 6
         },
         "mode": "markers",
         "name": "('llama3.1_8b_chat', 'birth_years_4k', 'base', 'main', 'prompt_only', 'llama3.1_8b_chat', 'cities_10k', 'base', 'main', 'prompt_only') Fold ('logistic_regression_test_roc_auc', 2)",
         "showlegend": false,
         "type": "scatter",
         "x": {
          "bdata": "AAECAwQFBgcICQoLDA0ODxAREhMUFRYXGBkaGxwdHh8=",
          "dtype": "i1"
         },
         "y": {
          "bdata": "Om163TtM4D+BzxvQmxXgPzruyOZv9d8/h2dDMoHz4D9oj9fOKhLhP0Rr1miXQuA/IPmoM4gv4T+sBiecLefeP7cgCxlmIN8/M27y8yu04T81frXIYZ7hP1x+ZDVrZeA/4no53Tha4D+nlk/rYKPfP91NgAUHe+A/MZNjowSq3z+wRU0DY7fgP/c4EB8nx+M/sH+CHgJp4j+roSQXlW3gP42e2/5KEeA/eK8aqRgc4T+SF69bornhP0vpmhGFCeI/Hpv1/BcV4j8ozKyM2IXhPzdB86nnC+E/uqbSk63B4D8Ius+god/gP840F0JTqOI/3yNdGm544j8bGQAYGKXkPw==",
          "dtype": "f8"
         }
        },
        {
         "legendgroup": "('llama3.1_8b_chat', 'birth_years_4k', 'base', 'main', 'prompt_only', 'llama3.1_8b_chat', 'cities_10k', 'base', 'main', 'prompt_only')",
         "marker": {
          "color": "#d62728",
          "opacity": 0.5,
          "size": 6
         },
         "mode": "markers",
         "name": "('llama3.1_8b_chat', 'birth_years_4k', 'base', 'main', 'prompt_only', 'llama3.1_8b_chat', 'cities_10k', 'base', 'main', 'prompt_only') Fold ('logistic_regression_test_roc_auc', 3)",
         "showlegend": false,
         "type": "scatter",
         "x": {
          "bdata": "AAECAwQFBgcICQoLDA0ODxAREhMUFRYXGBkaGxwdHh8=",
          "dtype": "i1"
         },
         "y": {
          "bdata": "eenuxlTj3z8owDoTecfgP5Bz+9V+3t8/gNkCsIhH4D9585PUY8ngP4ViiWFmXuA/EUxjl2R43z8UEVIijL7dPxnjsR4bC98/wJfyVGXq3j9wEMTWSFfgP8cuFslZw9s/b7kb26Fi3z+O949vhFrdP+L1n/6ZheI/dQDYv3y74D8+9k+gWBXgP8D7Ep2QKOM/MAAlKbqd4z/5Vq/WwzfhP9hbfjhuj+A/Ydkl9xiX4T8yPqzbZgTiPwnXP3gUrOI/S1xvb1rJ4j/CDQUWUH3hP5Z4yyg+XeA/psyky4ij3z+BhQsuPprfP7ataf8fdOE/1qG2Mole4j9ZKfFi8BDjPw==",
          "dtype": "f8"
         }
        },
        {
         "legendgroup": "('llama3.1_8b_chat', 'birth_years_4k', 'base', 'main', 'prompt_only', 'llama3.1_8b_chat', 'cities_10k', 'base', 'main', 'prompt_only')",
         "marker": {
          "color": "#d62728",
          "opacity": 0.5,
          "size": 6
         },
         "mode": "markers",
         "name": "('llama3.1_8b_chat', 'birth_years_4k', 'base', 'main', 'prompt_only', 'llama3.1_8b_chat', 'cities_10k', 'base', 'main', 'prompt_only') Fold ('logistic_regression_test_roc_auc', 4)",
         "showlegend": false,
         "type": "scatter",
         "x": {
          "bdata": "AAECAwQFBgcICQoLDA0ODxAREhMUFRYXGBkaGxwdHh8=",
          "dtype": "i1"
         },
         "y": {
          "bdata": "Lv3ihDAI4D+1IVZH/LjePyEPwVf5/N4/u1iNh3lS3z/KYshGr7TgPz/T2m7HgN8/QlXrPH0y3z8rydH8nr3cPzqTZhLzC94/1Ay81B+Y3j+drc2jN4ffPzqjHNCuON4/v79NWqMi4D97EAADv17eP6vZOFnXzOA/2cDnYmdr3z9MglHWnIzgP5Gw8JzEY+I/CdbC3Spn4z9sVSbHpijiP2NTlJnBPeE/zjDikomk4T+PKr8yo07hP3c7BrwGbeE/a/PozeGA4T+AI0PS34rgP8YSniwfE+A/CwcVB0oT4D+Zerf/JVHeP+j7DfJCyeA/f3fA1egu4T9bNO71XefhPw==",
          "dtype": "f8"
         }
        },
        {
         "legendgroup": "('llama3.1_8b_chat', 'cities_10k', 'base', 'main', 'prompt_answer', 'llama3.1_8b_chat', 'birth_years_4k', 'base', 'main', 'prompt_answer')",
         "line": {
          "color": "#9467bd",
          "width": 2
         },
         "marker": {
          "size": 8
         },
         "mode": "lines+markers",
         "name": "('llama3.1_8b_chat', 'cities_10k', 'base', 'main', 'prompt_answer', 'llama3.1_8b_chat', 'birth_years_4k', 'base', 'main', 'prompt_answer')",
         "type": "scatter",
         "x": {
          "bdata": "AAECAwQFBgcICQoLDA0ODxAREhMUFRYXGBkaGxwdHh8=",
          "dtype": "i1"
         },
         "y": {
          "bdata": "WDWjP38j4D/cYm+1sBniP66zU54+cuA/sGOMkRNm3z9TZAwnujDhPxvDdmXkbt8/1pCKlvCx3j8a5tYWzJThP2KvTI2T/uA/HfVFmYp13j9U8RhXzOjgP5WyCaA+H94/Uz4Q5qpQ3j8TgstAgf3eP+6FcBcW9+I/wlhcQhFp4T/D6GFF22HgPy6coRCtkOA/kwVV1XB/4T+kk0Gb+KrgP0hLhl0wzeA/w1Wfzbo94D8QX2KJEFXgP9p9TLHMvuA/4l32OxCe4T9Wym9b9NjgPwjNEcRUO+E/sC4drLik4T97UM/7PQDiP+4vFTuYdOI/+uvzHp/C4j+4tFoDUHXhPw==",
          "dtype": "f8"
         }
        },
        {
         "legendgroup": "('llama3.1_8b_chat', 'cities_10k', 'base', 'main', 'prompt_answer', 'llama3.1_8b_chat', 'birth_years_4k', 'base', 'main', 'prompt_answer')",
         "line": {
          "width": 0
         },
         "mode": "lines",
         "name": "('llama3.1_8b_chat', 'cities_10k', 'base', 'main', 'prompt_answer', 'llama3.1_8b_chat', 'birth_years_4k', 'base', 'main', 'prompt_answer') Max",
         "showlegend": false,
         "type": "scatter",
         "x": {
          "bdata": "AAECAwQFBgcICQoLDA0ODxAREhMUFRYXGBkaGxwdHh8=",
          "dtype": "i1"
         },
         "y": {
          "bdata": "MzZSYT2S4T8GNYJPPCPjP2Dmfu3lBeE/Vwr/qC/h4D+dSAR81HHiPwz3nmqe1+E/EaxkfcRT4T+28UVwwzfjP2ld5vCisOE/qBLxC5BZ4D/a4wd2zRniPyhjHsMaJeE/WmQYM6Eh4D/5gV1zhvPiP/qrMCXUFuQ//kb9Kzcw4j+UOWTUOMviP+ouSDtUKuM/QVvY8yit4j9u5ZsPDibiPx8Rk1+o6uE/FtGBzqli4T+epm3K6svhP9h2anTf7eE/Y78diTq74j/uiom2UOvhP16SkICc1eI/+hJHgie+4j/aIUNBW9jjP9QqQhKnwOQ/Ke6ghWfw5D+BDxeFL9/iPw==",
          "dtype": "f8"
         }
        },
        {
         "fill": "tonexty",
         "fillcolor": "rgba(148, 103, 189, 0.1)",
         "legendgroup": "('llama3.1_8b_chat', 'cities_10k', 'base', 'main', 'prompt_answer', 'llama3.1_8b_chat', 'birth_years_4k', 'base', 'main', 'prompt_answer')",
         "line": {
          "width": 0
         },
         "mode": "lines",
         "name": "('llama3.1_8b_chat', 'cities_10k', 'base', 'main', 'prompt_answer', 'llama3.1_8b_chat', 'birth_years_4k', 'base', 'main', 'prompt_answer') Min",
         "showlegend": false,
         "type": "scatter",
         "x": {
          "bdata": "AAECAwQFBgcICQoLDA0ODxAREhMUFRYXGBkaGxwdHh8=",
          "dtype": "i1"
         },
         "y": {
          "bdata": "Hgz9uwEe3T/3qXxld4zgP5fUjXpMEOA/8LJVt+3b3D+iXKCR46jdPxzVGQuff9o/2NXdO6xO3D9B9s/2cVLgP+y90ZKz/d8/Ixc60Pyp3D/7MmCzQzXfP0xTkfrFn9o/RgtDjbm12z9Q6DJLufrZP+o4lTcweuI/yqQ+Q1HN3z9X73OXG8bdPyqSBMlwEt4/bzHDV+Db3j8OrjhWQ37eP7zjadqmrN4/uPMlu+vH2j9Ayrl/tg3bP5SSdAnm0dw/EXWOIi1A3z9TgFeak4XeP5UMyjkiH+A/E6eBQIPR3z/uHVYnLlHgP0o48BNlzN8/LhIIc2yI4T+J6Xu4IU3fPw==",
          "dtype": "f8"
         }
        },
        {
         "legendgroup": "('llama3.1_8b_chat', 'cities_10k', 'base', 'main', 'prompt_answer', 'llama3.1_8b_chat', 'birth_years_4k', 'base', 'main', 'prompt_answer')",
         "line": {
          "width": 0
         },
         "mode": "lines",
         "name": "('llama3.1_8b_chat', 'cities_10k', 'base', 'main', 'prompt_answer', 'llama3.1_8b_chat', 'birth_years_4k', 'base', 'main', 'prompt_answer') +1 STD",
         "showlegend": false,
         "type": "scatter",
         "x": {
          "bdata": "AAECAwQFBgcICQoLDA0ODxAREhMUFRYXGBkaGxwdHh8=",
          "dtype": "i1"
         },
         "y": {
          "bdata": "If/YBlBX4T9i8YvipxrjPxRyjX6b0eA/JFpFsy2f4D+z0XyjPZbiP6+qsAz4Y+E/6llW7Dyr4D+TUH8XjqDiPzXTGoTmsOE/dER+23j13z85DJOdgOzhP9TrhKmWheA/dKrwO30O4D8Mrd6djqvhP5h7vmHhn+M/NlqfAoNK4j9iwaJXwODhP6fxRTcTG+I/ra9YJcbB4j81aR7WvdThP4KgTdGW5eE/38+Mv4jn4T9HuVnW2QjiP0878rzwGOI/WExcYMTK4j+BdddeqN7hP9N2C20IW+I/9Ge0b2mx4j+1jg+/NnPjP8/Fh7KPWeQ/AnjMpgYi5D/zo0IGv8riPw==",
          "dtype": "f8"
         }
        },
        {
         "fill": "tonexty",
         "fillcolor": "rgba(148, 103, 189, 0.3)",
         "legendgroup": "('llama3.1_8b_chat', 'cities_10k', 'base', 'main', 'prompt_answer', 'llama3.1_8b_chat', 'birth_years_4k', 'base', 'main', 'prompt_answer')",
         "line": {
          "width": 0
         },
         "mode": "lines",
         "name": "('llama3.1_8b_chat', 'cities_10k', 'base', 'main', 'prompt_answer', 'llama3.1_8b_chat', 'birth_years_4k', 'base', 'main', 'prompt_answer') -1 STD",
         "showlegend": false,
         "type": "scatter",
         "x": {
          "bdata": "AAECAwQFBgcICQoLDA0ODxAREhMUFRYXGBkaGxwdHh8=",
          "dtype": "i1"
         },
         "y": {
          "bdata": "Htfa8Fzf3T9W1FKIuRjhP0j1Gb7hEuA/GROOvMuN3T/m7TdVbZbfP9kwjLHYFdw/2G1oVGcN3D+hey4WCongP4+LfpZATOA/xqUNV5z13D/erD0hMMrfP4KNCe1PM9s/vic/VFuE3D8OqtlF5aPaP0SQIs1KTuI/TlcZgp+H4D9IIEJm7MXdP2qN+tONDN4/eVtRhRs94D8mfMnAZgLfPx3sfdOTad8/T7djt9kn3T+zCdZ4jkLdP8mATUtRyd4/bG+QF1xx4D9WPhCwgKbfPz0jGBuhG+A/bPWF6AeY4D9BEo84RY3gPw2aosOgj+A/8l8blzdj4T99xXIA4R/gPw==",
          "dtype": "f8"
         }
        },
        {
         "legendgroup": "('llama3.1_8b_chat', 'cities_10k', 'base', 'main', 'prompt_answer', 'llama3.1_8b_chat', 'birth_years_4k', 'base', 'main', 'prompt_answer')",
         "marker": {
          "color": "#9467bd",
          "opacity": 0.5,
          "size": 6
         },
         "mode": "markers",
         "name": "('llama3.1_8b_chat', 'cities_10k', 'base', 'main', 'prompt_answer', 'llama3.1_8b_chat', 'birth_years_4k', 'base', 'main', 'prompt_answer') Fold ('logistic_regression_test_roc_auc', 0)",
         "showlegend": false,
         "type": "scatter",
         "x": {
          "bdata": "AAECAwQFBgcICQoLDA0ODxAREhMUFRYXGBkaGxwdHh8=",
          "dtype": "i1"
         },
         "y": {
          "bdata": "QveRB1nd4D93Zp/JvYziP5Vrb8sMiOA/Vwr/qC/h4D9sodYDXEHhPw9LQMWGEN8/FIqRi8OW3j+28UVwwzfjPzj46Nd3HOE/qBLxC5BZ4D/a4wd2zRniPyhjHsMaJeE/+AXILNxP3z/5gV1zhvPiPyjniHxwgeI/YqIt1HqA4T+UOWTUOMviP+ouSDtUKuM/9tuRqLNL4j9Be/zArjnhP8KmZFDOEeE/TLxazboo4D9ZD3AF7fHfPxg9oyX/B+E/Y78diTq74j/uiom2UOvhP5UMyjkiH+A/E6eBQIPR3z8Avkoj1dHgP0o48BNlzN8/ahj77UjU4T+SqLNLeqXgPw==",
          "dtype": "f8"
         }
        },
        {
         "legendgroup": "('llama3.1_8b_chat', 'cities_10k', 'base', 'main', 'prompt_answer', 'llama3.1_8b_chat', 'birth_years_4k', 'base', 'main', 'prompt_answer')",
         "marker": {
          "color": "#9467bd",
          "opacity": 0.5,
          "size": 6
         },
         "mode": "markers",
         "name": "('llama3.1_8b_chat', 'cities_10k', 'base', 'main', 'prompt_answer', 'llama3.1_8b_chat', 'birth_years_4k', 'base', 'main', 'prompt_answer') Fold ('logistic_regression_test_roc_auc', 1)",
         "showlegend": false,
         "type": "scatter",
         "x": {
          "bdata": "AAECAwQFBgcICQoLDA0ODxAREhMUFRYXGBkaGxwdHh8=",
          "dtype": "i1"
         },
         "y": {
          "bdata": "Hgz9uwEe3T/3qXxld4zgP2Dmfu3lBeE/hm4yqzBx3j+gaX4R//HhP57TaLVnceA/TEBUdNid3z9B9s/2cVLgP2ld5vCisOE/Qdo6jMm93j+8NhOP5AzhP0xTkfrFn9o/RgtDjbm12z9NbDiH7HTdP7E4ys9O8+I/yqQ+Q1HN3z9X73OXG8bdP7Eyp24wSuA/3aBCd0es4T9u5ZsPDibiPx8Rk1+o6uE/FtGBzqli4T+LLLF+4izhP1Gyl4m5J+E/ol1/9NzJ4T9sAF0XJLTgPwseoGpSdOE/Qio4i6614T+oeelO1dziP6VVQhjPZ+M/dlVT9DRL4j88wQW1bZThPw==",
          "dtype": "f8"
         }
        },
        {
         "legendgroup": "('llama3.1_8b_chat', 'cities_10k', 'base', 'main', 'prompt_answer', 'llama3.1_8b_chat', 'birth_years_4k', 'base', 'main', 'prompt_answer')",
         "marker": {
          "color": "#9467bd",
          "opacity": 0.5,
          "size": 6
         },
         "mode": "markers",
         "name": "('llama3.1_8b_chat', 'cities_10k', 'base', 'main', 'prompt_answer', 'llama3.1_8b_chat', 'birth_years_4k', 'base', 'main', 'prompt_answer') Fold ('logistic_regression_test_roc_auc', 2)",
         "showlegend": false,
         "type": "scatter",
         "x": {
          "bdata": "AAECAwQFBgcICQoLDA0ODxAREhMUFRYXGBkaGxwdHh8=",
          "dtype": "i1"
         },
         "y": {
          "bdata": "aZuy+nJe4D+PNykm84viP5fUjXpMEOA/8LJVt+3b3D+ocxRpAXrhPxzVGQuff9o/2NXdO6xO3D+P7bFE6j/hP+y90ZKz/d8/MjrsTIek3T+9zm304pfhP0ZP/S4xfd8/T965lLLz3j9Q6DJLufrZP+o4lTcweuI/hz+AQp6t4T/CLegPp+TePyqSBMlwEt4/bzHDV+Db3j8OrjhWQ37eP7zjadqmrN4/uPMlu+vH2j9Ayrl/tg3bP5SSdAnm0dw/EXWOIi1A3z9TgFeak4XeP7pcEjm/L+A/0ELynVnR4T/8Gj8QAiniP0O9Il6M8uI/qS3Mv8k04z+FGbeu54riPw==",
          "dtype": "f8"
         }
        },
        {
         "legendgroup": "('llama3.1_8b_chat', 'cities_10k', 'base', 'main', 'prompt_answer', 'llama3.1_8b_chat', 'birth_years_4k', 'base', 'main', 'prompt_answer')",
         "marker": {
          "color": "#9467bd",
          "opacity": 0.5,
          "size": 6
         },
         "mode": "markers",
         "name": "('llama3.1_8b_chat', 'cities_10k', 'base', 'main', 'prompt_answer', 'llama3.1_8b_chat', 'birth_years_4k', 'base', 'main', 'prompt_answer') Fold ('logistic_regression_test_roc_auc', 3)",
         "showlegend": false,
         "type": "scatter",
         "x": {
          "bdata": "AAECAwQFBgcICQoLDA0ODxAREhMUFRYXGBkaGxwdHh8=",
          "dtype": "i1"
         },
         "y": {
          "bdata": "mXc1+eOo3j8GNYJPPCPjP/dRzv2zbeA/blZ7HukL4D+dSAR81HHiPwz3nmqe1+E/2tsnuuFO3D83MHrqd4nhP1eTP47qjOE/Ixc60Pyp3D/Vs0PgxjLgPyoQ7SwIj9w/Yn9byctW3T8BRT4wgT7fP++YGcyqzeI/fUCDZ13I4T+uVKYgLkrgPzvTIWkPIuA/Fqsa6x9q4T/KUJM4OvPgP1q12enPqOE/iNWJSxQ/4T+epm3K6svhP9h2anTf7eE/Fx6AH/rY4T9xIxtpCM7gP3LnS3bXj+E/2pXfEKoJ4j/uHVYnLlHgP8WVyhTEReE/LhIIc2yI4T+J6Xu4IU3fPw==",
          "dtype": "f8"
         }
        },
        {
         "legendgroup": "('llama3.1_8b_chat', 'cities_10k', 'base', 'main', 'prompt_answer', 'llama3.1_8b_chat', 'birth_years_4k', 'base', 'main', 'prompt_answer')",
         "marker": {
          "color": "#9467bd",
          "opacity": 0.5,
          "size": 6
         },
         "mode": "markers",
         "name": "('llama3.1_8b_chat', 'cities_10k', 'base', 'main', 'prompt_answer', 'llama3.1_8b_chat', 'birth_years_4k', 'base', 'main', 'prompt_answer') Fold ('logistic_regression_test_roc_auc', 4)",
         "showlegend": false,
         "type": "scatter",
         "x": {
          "bdata": "AAECAwQFBgcICQoLDA0ODxAREhMUFRYXGBkaGxwdHh8=",
          "dtype": "i1"
         },
         "y": {
          "bdata": "MzZSYT2S4T9McWXmDrjhP98JWOZFL+A/bg9B5hHX3z+iXKCR46jdPwca6OpDCN8/EaxkfcRT4T/CePDbZJThP/ykB6ICoOA/rngaPUeM3j/7MmCzQzXfP+MDeEMEpt0/WmQYM6Eh4D/Q7JRaUl7eP/qrMCXUFuQ//kb9Kzcw4j8A7zASgH7gP/2OlNuUM+A/QVvY8yit4j9os/+nhInfP04ZmcxXBuA/ClAjPzcG4T9ZGzijszDhP7rFHk50M+E/yF9r/SgY4j+3hAHFfozhP16SkICc1eI/+hJHgie+4j/aIUNBW9jjP9QqQhKnwOQ/Ke6ghWfw5D+BDxeFL9/iPw==",
          "dtype": "f8"
         }
        },
        {
         "legendgroup": "('llama3.1_8b_chat', 'cities_10k', 'base', 'main', 'prompt_answer', 'llama3.1_8b_chat', 'cities_10k', 'base', 'main', 'prompt_answer')",
         "line": {
          "color": "#8c564b",
          "width": 2
         },
         "marker": {
          "size": 8
         },
         "mode": "lines+markers",
         "name": "('llama3.1_8b_chat', 'cities_10k', 'base', 'main', 'prompt_answer', 'llama3.1_8b_chat', 'cities_10k', 'base', 'main', 'prompt_answer')",
         "type": "scatter",
         "x": {
          "bdata": "AAECAwQFBgcICQoLDA0ODxAREhMUFRYXGBkaGxwdHh8=",
          "dtype": "i1"
         },
         "y": {
          "bdata": "gF5Qp2+K6j++qFBPAwrrPwqRZIEEXes/9pogcUTU6z/1+ZgrwkfsP4VktRSAROw/BRmD6tuG7D8rUxwKGRDtPyYSfJtNbu0/4tADWMeB7T9rT7thZYTtP/ioS5Lrpu0/je/PhFu37T9rgp6O+bLtP8hzXe4Sye0/BiNgjfLE7T/1himpzd7tP4D2i3U51+0/sLysMZXj7T/2JclJ5dTtP6au17Kpz+0/xmwY3Ky07T8D2BfLTZjtP/Ly1H8Fk+0/NqvnHzig7T/Q9htTSa/tP/Yw3vdar+0/EBr+I/fI7T+F5oV9Fr3tP/ImNFWE2+0/FqgedALe7T9aYOazebjtPw==",
          "dtype": "f8"
         }
        },
        {
         "legendgroup": "('llama3.1_8b_chat', 'cities_10k', 'base', 'main', 'prompt_answer', 'llama3.1_8b_chat', 'cities_10k', 'base', 'main', 'prompt_answer')",
         "line": {
          "width": 0
         },
         "mode": "lines",
         "name": "('llama3.1_8b_chat', 'cities_10k', 'base', 'main', 'prompt_answer', 'llama3.1_8b_chat', 'cities_10k', 'base', 'main', 'prompt_answer') Max",
         "showlegend": false,
         "type": "scatter",
         "x": {
          "bdata": "AAECAwQFBgcICQoLDA0ODxAREhMUFRYXGBkaGxwdHh8=",
          "dtype": "i1"
         },
         "y": {
          "bdata": "GKkQxfZX6z/v30ygy27rP+g7yqamr+s/ibONWepC7D/wG8EjsKLsP5U7esY1Xew/JWJFd5Ku7D/ayrusnULtP3flvAmHtu0/55tQBbr67T9IsBmD7OXtPylzvglV9O0/3kawGYMI7j9ENCUWB/TtP3z0bOVdGu4/byPYjEEq7j9vI9iMQRLuPz3nSTyx/+0/eOz0zzIZ7j/idtARegHuP9E+DaOZ/e0/7nT8gwvX7T8LdN1GsK3tP1pv3v0H0u0/IHvVL4ro7T8KVaDrNu7tPxO4jeyI7u0/0ZRYHOAX7j8Se7Li7fPtP4Uq0HUbFe4/WlpaWloe7j+gzPkmVO3tPw==",
          "dtype": "f8"
         }
        },
        {
         "fill": "tonexty",
         "fillcolor": "rgba(140, 86, 75, 0.1)",
         "legendgroup": "('llama3.1_8b_chat', 'cities_10k', 'base', 'main', 'prompt_answer', 'llama3.1_8b_chat', 'cities_10k', 'base', 'main', 'prompt_answer')",
         "line": {
          "width": 0
         },
         "mode": "lines",
         "name": "('llama3.1_8b_chat', 'cities_10k', 'base', 'main', 'prompt_answer', 'llama3.1_8b_chat', 'cities_10k', 'base', 'main', 'prompt_answer') Min",
         "showlegend": false,
         "type": "scatter",
         "x": {
          "bdata": "AAECAwQFBgcICQoLDA0ODxAREhMUFRYXGBkaGxwdHh8=",
          "dtype": "i1"
         },
         "y": {
          "bdata": "sTjAR8/S6T/M2un4BwvqPzZjkL3qy+o/EmzGIHtl6z+wGYPsVQPsP4sDfPRsAew/L5XQMYVc7D8FkXqKjcXsPwEikC6r8uw/7hI4ylAO7T/G9IcBnEXtPyGGZuSiNO0/oxMW2DRg7T+gx5gq62LtP/5ADFLMke0/93sKhJOO7T+i4vcRD7rtP9/1pdEtpO0/ODALVv257T8xykmrvYjtP+iVY0cAsO0/QQxSzEF57T9cRiieRHvtPy2bmf8ZZu0/GlihCM9u7T+nJ+6HfGHtP3C17mOgRu0/WkihDMtx7T/ehsHc8lXtP4BWn1PVme0/su2l3neQ7T8RsQpJdHntPw==",
          "dtype": "f8"
         }
        },
        {
         "legendgroup": "('llama3.1_8b_chat', 'cities_10k', 'base', 'main', 'prompt_answer', 'llama3.1_8b_chat', 'cities_10k', 'base', 'main', 'prompt_answer')",
         "line": {
          "width": 0
         },
         "mode": "lines",
         "name": "('llama3.1_8b_chat', 'cities_10k', 'base', 'main', 'prompt_answer', 'llama3.1_8b_chat', 'cities_10k', 'base', 'main', 'prompt_answer') +1 STD",
         "showlegend": false,
         "type": "scatter",
         "x": {
          "bdata": "AAECAwQFBgcICQoLDA0ODxAREhMUFRYXGBkaGxwdHh8=",
          "dtype": "i1"
         },
         "y": {
          "bdata": "1VzUGUUY6z9YwzM02ZvrP2ReQDogves/13oLSX0z7D9hLJsTeIzsPyXkyXPDauw/Sr2polyl7D9nEGZuGkbtP3vWi9G/t+0/w+kj+CHX7T+CT8P6mcftP2kjQon98+0/J72stn/87T8OWFPDbvDtP7S1+4hMA+4/WipxcqwG7j/KjJEl9QzuP55ImiFy/O0/xYJVRxwJ7j8knxupzATuP1tvTB1/7+0/6seG8NTX7T8ZvO332a3tPy9RBR9Mu+0/8LUalYLN7T+k5xYxfuLtP3WdEusm8O0/pX0hZsgG7j8AduBPcAXuPyE8ZxfCFO4/u/WDuu8b7j+Mj/ckk+jtPw==",
          "dtype": "f8"
         }
        },
        {
         "fill": "tonexty",
         "fillcolor": "rgba(140, 86, 75, 0.3)",
         "legendgroup": "('llama3.1_8b_chat', 'cities_10k', 'base', 'main', 'prompt_answer', 'llama3.1_8b_chat', 'cities_10k', 'base', 'main', 'prompt_answer')",
         "line": {
          "width": 0
         },
         "mode": "lines",
         "name": "('llama3.1_8b_chat', 'cities_10k', 'base', 'main', 'prompt_answer', 'llama3.1_8b_chat', 'cities_10k', 'base', 'main', 'prompt_answer') -1 STD",
         "showlegend": false,
         "type": "scatter",
         "x": {
          "bdata": "AAECAwQFBgcICQoLDA0ODxAREhMUFRYXGBkaGxwdHh8=",
          "dtype": "i1"
         },
         "y": {
          "bdata": "K2DMNJr86T8kjm1qLXjqP7DDiMjo/Oo/Fbs1mQt16z+Jx5ZDDAPsP+XkoLU8Huw/wHRcMlto7D/vldKlF9rsP9FNbGXbJO0/Abjjt2ws7T9UT7PIMEHtP4cuVZvZWe0/8yHzUjdy7T/IrOlZhHXtP9wxv1PZju0/shtPqDiD7T8ggcEsprDtP2KkfckAsu0/m/YDHA6+7T/IrHbq/aTtP/HtYkjUr+0/ohGqx4SR7T/t80GewYLtP7WUpOC+au0/fKC0qu1y7T/8BSF1FHztP3fEqQSPbu0/e7ba4SWL7T8KVyurvHTtP8MRAZNGou0/cVq5LRWg7T8oMdVCYIjtPw==",
          "dtype": "f8"
         }
        },
        {
         "legendgroup": "('llama3.1_8b_chat', 'cities_10k', 'base', 'main', 'prompt_answer', 'llama3.1_8b_chat', 'cities_10k', 'base', 'main', 'prompt_answer')",
         "marker": {
          "color": "#8c564b",
          "opacity": 0.5,
          "size": 6
         },
         "mode": "markers",
         "name": "('llama3.1_8b_chat', 'cities_10k', 'base', 'main', 'prompt_answer', 'llama3.1_8b_chat', 'cities_10k', 'base', 'main', 'prompt_answer') Fold ('logistic_regression_test_roc_auc', 0)",
         "showlegend": false,
         "type": "scatter",
         "x": {
          "bdata": "AAECAwQFBgcICQoLDA0ODxAREhMUFRYXGBkaGxwdHh8=",
          "dtype": "i1"
         },
         "y": {
          "bdata": "h5N7BSCw6j/v30ygy27rP6So26ACf+s/ibONWepC7D/wG8EjsKLsPynk9USrWuw/JWJFd5Ku7D8FkXqKjcXsPwEikC6r8uw/7hI4ylAO7T/G9IcBnEXtPyGGZuSiNO0/oxMW2DRg7T+gx5gq62LtPzC0yltklu0/93sKhJOO7T+i4vcRD7rtPxAbT3wM7+0/tkiFznT27T8PmBC4hPntPw+J0amI3+0/xudk4H2+7T+yVEDBLJvtP5HiuPOniO0/M86bTBmk7T/azjo8lsTtP2mCos13oO0/v2xaq3Ou7T+fLH+ag4vtP4BWn1PVme0/C8Ox9Zq07T8d1x60nqHtPw==",
          "dtype": "f8"
         }
        },
        {
         "legendgroup": "('llama3.1_8b_chat', 'cities_10k', 'base', 'main', 'prompt_answer', 'llama3.1_8b_chat', 'cities_10k', 'base', 'main', 'prompt_answer')",
         "marker": {
          "color": "#8c564b",
          "opacity": 0.5,
          "size": 6
         },
         "mode": "markers",
         "name": "('llama3.1_8b_chat', 'cities_10k', 'base', 'main', 'prompt_answer', 'llama3.1_8b_chat', 'cities_10k', 'base', 'main', 'prompt_answer') Fold ('logistic_regression_test_roc_auc', 1)",
         "showlegend": false,
         "type": "scatter",
         "x": {
          "bdata": "AAECAwQFBgcICQoLDA0ODxAREhMUFRYXGBkaGxwdHh8=",
          "dtype": "i1"
         },
         "y": {
          "bdata": "sTjAR8/S6T/M2un4BwvqPzZjkL3qy+o/EmzGIHtl6z+wGYPsVQPsP4sDfPRsAew/9GzlXdaK7D/ayrusnULtP9YviuQ+ie0/55tQBbr67T9IsBmD7OXtPylzvglV9O0/3kawGYMI7j9ENCUWB/TtP3z0bOVdGu4/byPYjEEq7j9vI9iMQRLuPxAuTGqI4u0/byPYjEHK7T8QTYnFAc7tP3q28i5ry+0/7nT8gwvX7T8LdN1GsK3tPwyyV/2inO0/IHvVL4ro7T8KVaDrNu7tP45B9qpfyO0/0ZRYHOAX7j/zbOVd1vLtP4Uq0HUbFe4/WlpaWloe7j+gzPkmVO3tPw==",
          "dtype": "f8"
         }
        },
        {
         "legendgroup": "('llama3.1_8b_chat', 'cities_10k', 'base', 'main', 'prompt_answer', 'llama3.1_8b_chat', 'cities_10k', 'base', 'main', 'prompt_answer')",
         "marker": {
          "color": "#8c564b",
          "opacity": 0.5,
          "size": 6
         },
         "mode": "markers",
         "name": "('llama3.1_8b_chat', 'cities_10k', 'base', 'main', 'prompt_answer', 'llama3.1_8b_chat', 'cities_10k', 'base', 'main', 'prompt_answer') Fold ('logistic_regression_test_roc_auc', 2)",
         "showlegend": false,
         "type": "scatter",
         "x": {
          "bdata": "AAECAwQFBgcICQoLDA0ODxAREhMUFRYXGBkaGxwdHh8=",
          "dtype": "i1"
         },
         "y": {
          "bdata": "Iv7GVT6G6j/TKSN8rkHrP9abd/+BqOs/OSzaDcyS6z84MAtW/SnsP9GznbCpU+w/L5XQMYVc7D/sS6NbqBjtP8DvfOuMf+0/azP/wiRm7T+6hYr4G0ftP+G4yseSie0/Wu3FWW+O7T89VcCucIntP/5ADFLMke0/ePtQ0HKh7T8ejHLSar/tP9/1pdEtpO0/ODALVv257T8xykmrvYjtP/tUAbvCte0/QQxSzEF57T/X3INRTortP1pv3v0H0u0/T9jUIcGb7T+02ouz3qztPxO4jeyI7u0/dkS/sqHR7T8Se7Li7fPtP1JOWu3FCe4/jK+tdMoY7j9cZ3xtpePtPw==",
          "dtype": "f8"
         }
        },
        {
         "legendgroup": "('llama3.1_8b_chat', 'cities_10k', 'base', 'main', 'prompt_answer', 'llama3.1_8b_chat', 'cities_10k', 'base', 'main', 'prompt_answer')",
         "marker": {
          "color": "#8c564b",
          "opacity": 0.5,
          "size": 6
         },
         "mode": "markers",
         "name": "('llama3.1_8b_chat', 'cities_10k', 'base', 'main', 'prompt_answer', 'llama3.1_8b_chat', 'cities_10k', 'base', 'main', 'prompt_answer') Fold ('logistic_regression_test_roc_auc', 3)",
         "showlegend": false,
         "type": "scatter",
         "x": {
          "bdata": "AAECAwQFBgcICQoLDA0ODxAREhMUFRYXGBkaGxwdHh8=",
          "dtype": "i1"
         },
         "y": {
          "bdata": "GKkQxfZX6z/08k+zeFrrP+g7yqamr+s/6tpq3obB6z/EdtgJgH3sP30fAbeISew/8EPALiGT7D+4GLkA0e7sP3flvAmHtu0/bLXvIiGW7T9PTKBMi6HtPw5wjFfF5O0/+C/Soemt7T/cJWPTU7ftP5K4Ii8I7O0/TQGrlECa7T+mJXFFXhDuPz3nSTyx/+0/eOz0zzIZ7j/idtARegHuP9E+DaOZ/e0/fDIuRW+/7T8bTK3/FKvtPy2bmf8ZZu0/GlihCM9u7T+nJ+6HfGHtP3C17mOgRu0/WkihDMtx7T/ehsHc8lXtP3OsNh5UpO0/su2l3neQ7T8RsQpJdHntPw==",
          "dtype": "f8"
         }
        },
        {
         "legendgroup": "('llama3.1_8b_chat', 'cities_10k', 'base', 'main', 'prompt_answer', 'llama3.1_8b_chat', 'cities_10k', 'base', 'main', 'prompt_answer')",
         "marker": {
          "color": "#8c564b",
          "opacity": 0.5,
          "size": 6
         },
         "mode": "markers",
         "name": "('llama3.1_8b_chat', 'cities_10k', 'base', 'main', 'prompt_answer', 'llama3.1_8b_chat', 'cities_10k', 'base', 'main', 'prompt_answer') Fold ('logistic_regression_test_roc_auc', 4)",
         "showlegend": false,
         "type": "scatter",
         "x": {
          "bdata": "AAECAwQFBgcICQoLDA0ODxAREhMUFRYXGBkaGxwdHh8=",
          "dtype": "i1"
         },
         "y": {
          "bdata": "EWV+3AlT6j8ydOnDFRzrP5TxSIIALus/EOAJz50o7D8sBdVpRxnsP5U7esY1Xew/39TTXjx57D9W3/qe2EDtP6wzGAGGde0/u3ybApSD7T/+Fdwey4HtP50q/s1Jq+0/7jWxqrjv7T8dFTcGKeftP7OgbOXHvu0/9RICTTTk7T/u6huX6r3tP0iqMFervu0/mCYCdwPe7T+clzk2vNbtP+iVY0cAsO0/cYSY1iW57T9cRiieRHvtP5EfoJCuge0/Ud6e+OSJ7T/PqzY8RqvtP1HDQQ7Gzu0/8vPiLBPj7T8a5cS7NentP+5GBNWK7O0/zI05odTZ7T+YJeDxU67tPw==",
          "dtype": "f8"
         }
        },
        {
         "legendgroup": "('llama3.1_8b_chat', 'cities_10k', 'base', 'main', 'prompt_only', 'llama3.1_8b_chat', 'birth_years_4k', 'base', 'main', 'prompt_only')",
         "line": {
          "color": "#1f77b4",
          "width": 2
         },
         "marker": {
          "size": 8
         },
         "mode": "lines+markers",
         "name": "('llama3.1_8b_chat', 'cities_10k', 'base', 'main', 'prompt_only', 'llama3.1_8b_chat', 'birth_years_4k', 'base', 'main', 'prompt_only')",
         "type": "scatter",
         "x": {
          "bdata": "AAECAwQFBgcICQoLDA0ODxAREhMUFRYXGBkaGxwdHh8=",
          "dtype": "i1"
         },
         "y": {
          "bdata": "AthzvyEj4D+5OaVpmhnhPxs6voM9/+E/OzHBaxcY3z+/H1rO1ubgPy4q9TS96uA/srXv+oKI4D+ODi1SKVLhP7JssmHuO+E/g3z2TkX+3z/iW3TngNfdPwXOr+tYPuA/wBFg+zF33T/OjNVd763gP5lzHEzVguA/ljJ6kEYK3z/SrZ/uL6jfPwNvzBuVYOA/xSURxq4h4D+GHYZQDxfgPyrsM4CnaOA/ciBLyvYj4T+oIJ4kE2ThPyM0mdzeuuE/wkoopsFw4T8iJxU/eajhPwo4zD2K7uE/p3QqG8cD4j9qo/xqnhLiPzXFmIeBW+I/KHAwn/JK4z8a2KDYfYjjPw==",
          "dtype": "f8"
         }
        },
        {
         "legendgroup": "('llama3.1_8b_chat', 'cities_10k', 'base', 'main', 'prompt_only', 'llama3.1_8b_chat', 'birth_years_4k', 'base', 'main', 'prompt_only')",
         "line": {
          "width": 0
         },
         "mode": "lines",
         "name": "('llama3.1_8b_chat', 'cities_10k', 'base', 'main', 'prompt_only', 'llama3.1_8b_chat', 'birth_years_4k', 'base', 'main', 'prompt_only') Max",
         "showlegend": false,
         "type": "scatter",
         "x": {
          "bdata": "AAECAwQFBgcICQoLDA0ODxAREhMUFRYXGBkaGxwdHh8=",
          "dtype": "i1"
         },
         "y": {
          "bdata": "A864Fgna4D+CqSrgES/iPx8mRwlrIuM/bAn5oGez4D/K5T+k3z7iP+pd8mDAyeE/WoY41sXt4T90tRX7y+7iPxriWBe3keM/PSzUmuYd4j/YEvJBz2bhPzQRNjy9EuI/nu+nxks33z/aiv1l92TkPwRWDi2y3eI/fFao54Ls4D/hxCIBleXgP8AZ1yJB/eI/cMa1SFBz4T/a8PljjiLhP377OnDOiOE/6bevA+eM4z/2Bl+YTJXkP2fK/hMRluM/HoXrUbhe5D9Iv30dOKfmP3ZPHhZqjeU/Jw8LtaY55j/G3LWEfFDlPxQ/xty1xOQ/MvBNfv/95D/B0j67nrbkPw==",
          "dtype": "f8"
         }
        },
        {
         "fill": "tonexty",
         "fillcolor": "rgba(31, 119, 180, 0.1)",
         "legendgroup": "('llama3.1_8b_chat', 'cities_10k', 'base', 'main', 'prompt_only', 'llama3.1_8b_chat', 'birth_years_4k', 'base', 'main', 'prompt_only')",
         "line": {
          "width": 0
         },
         "mode": "lines",
         "name": "('llama3.1_8b_chat', 'cities_10k', 'base', 'main', 'prompt_only', 'llama3.1_8b_chat', 'birth_years_4k', 'base', 'main', 'prompt_only') Min",
         "showlegend": false,
         "type": "scatter",
         "x": {
          "bdata": "AAECAwQFBgcICQoLDA0ODxAREhMUFRYXGBkaGxwdHh8=",
          "dtype": "i1"
         },
         "y": {
          "bdata": "f8j3rYYq3T+O0u0rq5ffP+NaJKipgOA/SlBTIdoQ3D+5irOrsjreP/TugFTRft0/d5/beCb63j9cEQK0KCjgP0KZv/6tRd8/iO4B+UCs3T9+uEMHNSPaP7ThufnASN4/5/2MQvI42z/vTMLL3wbdPwCzjagNit4/cF8HzhlR3T91nuvfzRbdP3K8QgTK/d0/mcW54C+U3j9cIlHaqELeP4hk0fCtx90/PJGmlh833j+ypbaHhDneP0CT3JV8XeA/XTUfwRR13z8m5gKU9p7eP8FEYUk3EOA/eX3sUKIE3z/Caki8cdDfP37A2t++v+A/zOyWOP5q4T+X04HKwpDiPw==",
          "dtype": "f8"
         }
        },
        {
         "legendgroup": "('llama3.1_8b_chat', 'cities_10k', 'base', 'main', 'prompt_only', 'llama3.1_8b_chat', 'birth_years_4k', 'base', 'main', 'prompt_only')",
         "line": {
          "width": 0
         },
         "mode": "lines",
         "name": "('llama3.1_8b_chat', 'cities_10k', 'base', 'main', 'prompt_only', 'llama3.1_8b_chat', 'birth_years_4k', 'base', 'main', 'prompt_only') +1 STD",
         "showlegend": false,
         "type": "scatter",
         "x": {
          "bdata": "AAECAwQFBgcICQoLDA0ODxAREhMUFRYXGBkaGxwdHh8=",
          "dtype": "i1"
         },
         "y": {
          "bdata": "o4KpKiIO4T826BgAbv/hP5wAEXtMDuM/rHEcp7mc4D/9Ab3e3h7iP/LPYRFBKOI/dImjBR+l4T/VerT2umjiP9gLJ5uRuOI/dUNyoEZA4T8cQwynXXvgP2U31wS8Y+E/xGr5yuTq3j/7RreQZPXiP0W9CgXj9OE/Oi9tdGqB4D+G0kwucvrgPyYGyVee8eE/DZ53xL4D4T8583/fWf7gPzJ7HvTcnuE/H0rzlSS54j/LsrM3w3jjPzYMab8mE+M/NNkkHYmi4z8lzxy01rjkP+gllMJVH+Q/4TvEgXWu5D8YNYyzeEnkP3zACvbI/uM/EpUT9TzD5D86gNbNMU/kPw==",
          "dtype": "f8"
         }
        },
        {
         "fill": "tonexty",
         "fillcolor": "rgba(31, 119, 180, 0.3)",
         "legendgroup": "('llama3.1_8b_chat', 'cities_10k', 'base', 'main', 'prompt_only', 'llama3.1_8b_chat', 'birth_years_4k', 'base', 'main', 'prompt_only')",
         "line": {
          "width": 0
         },
         "mode": "lines",
         "name": "('llama3.1_8b_chat', 'cities_10k', 'base', 'main', 'prompt_only', 'llama3.1_8b_chat', 'birth_years_4k', 'base', 'main', 'prompt_only') -1 STD",
         "showlegend": false,
         "type": "scatter",
         "x": {
          "bdata": "AAECAwQFBgcICQoLDA0ODxAREhMUFRYXGBkaGxwdHh8=",
          "dtype": "i1"
         },
         "y": {
          "bdata": "w1p8qEJw3j88izHTxjPgP5pza4wu8OA/H39Jibv23D8Ce+57nV3fP9QIEbFyWt8/4cN34M3X3j9HoqWtlzvgPxibe1CWft8/HHIIXf173T+MMdCARrjaP0rJEKXrMd4/vLjGK38D3D9CpedV9MzcP9pTXCaPId4/twYaOLgR3T+YtqWAe1vdP8Cvn78Xn90/+1pVjz1/3j+mjxiDiV/eP0O6khjkZN4/i+1F/ZEd3z8LHREjxp7ePxBcyfmWYuA/oHhXXvR93j8+/hqUNzDdP1iUCHJ9e98/2lohaTGy3j94I9pEiLffP+7JJhk6uOA/PktNSajS4T/6L2vjycHiPw==",
          "dtype": "f8"
         }
        },
        {
         "legendgroup": "('llama3.1_8b_chat', 'cities_10k', 'base', 'main', 'prompt_only', 'llama3.1_8b_chat', 'birth_years_4k', 'base', 'main', 'prompt_only')",
         "marker": {
          "color": "#1f77b4",
          "opacity": 0.5,
          "size": 6
         },
         "mode": "markers",
         "name": "('llama3.1_8b_chat', 'cities_10k', 'base', 'main', 'prompt_only', 'llama3.1_8b_chat', 'birth_years_4k', 'base', 'main', 'prompt_only') Fold ('logistic_regression_test_roc_auc', 0)",
         "showlegend": false,
         "type": "scatter",
         "x": {
          "bdata": "AAECAwQFBgcICQoLDA0ODxAREhMUFRYXGBkaGxwdHh8=",
          "dtype": "i1"
         },
         "y": {
          "bdata": "MLsnDwu14D/Kw0KtaR7hPwpoImx4euE/bAn5oGez4D/K5T+k3z7iPz0K16NwfeE/WoY41sXt4T90tRX7y+7iPxriWBe3keM/PSzUmuYd4j/YEvJBz2bhPzQRNjy9EuI/nu+nxks33z/aiv1l92TkPwRWDi2y3eI/cF8HzhlR3T+M22gAb4HgPxcEVg4tst4/idLe4AuT4D9iMlUwKqngP377OnDOiOE/6bevA+eM4z/2Bl+YTJXkP5ayDHGsi+I/HoXrUbhe5D9Iv30dOKfmP3ZPHhZqjeU/Jw8LtaY55j/G3LWEfFDlPxQ/xty1xOQ/UkmdgCaC5D91kxgEVo7jPw==",
          "dtype": "f8"
         }
        },
        {
         "legendgroup": "('llama3.1_8b_chat', 'cities_10k', 'base', 'main', 'prompt_only', 'llama3.1_8b_chat', 'birth_years_4k', 'base', 'main', 'prompt_only')",
         "marker": {
          "color": "#1f77b4",
          "opacity": 0.5,
          "size": 6
         },
         "mode": "markers",
         "name": "('llama3.1_8b_chat', 'cities_10k', 'base', 'main', 'prompt_only', 'llama3.1_8b_chat', 'birth_years_4k', 'base', 'main', 'prompt_only') Fold ('logistic_regression_test_roc_auc', 1)",
         "showlegend": false,
         "type": "scatter",
         "x": {
          "bdata": "AAECAwQFBgcICQoLDA0ODxAREhMUFRYXGBkaGxwdHh8=",
          "dtype": "i1"
         },
         "y": {
          "bdata": "A864Fgna4D+O0u0rq5ffP+NaJKipgOA/SlBTIdoQ3D+FaMPnj0ngP+pd8mDAyeE/TB4MOONq4T+Ubl9ZvdvhP864FglqmuE/4VokqKlQ3z8Vog2fP6bdP+NaJKipYOA/0lSINnye3T+YPBhwxuXgPxWiDZ8/JuA/QU2FaMMn4D/p9pXVu5TgP8AZ1yJB/eI/cMa1SFBz4T/a8PljjiLhPyNBTYVog+E/y+pd8mDw4D+uRYKaCmHhP6x3yYMBh+E/Kd2+snoH4D8zrkWCmurfP9xXVu+S9+A/pkK04fP34D8YcMa1SGDhP/0xR+n2xeE/mKN0+8oa4z/uK6t3yZPjPw==",
          "dtype": "f8"
         }
        },
        {
         "legendgroup": "('llama3.1_8b_chat', 'cities_10k', 'base', 'main', 'prompt_only', 'llama3.1_8b_chat', 'birth_years_4k', 'base', 'main', 'prompt_only')",
         "marker": {
          "color": "#1f77b4",
          "opacity": 0.5,
          "size": 6
         },
         "mode": "markers",
         "name": "('llama3.1_8b_chat', 'cities_10k', 'base', 'main', 'prompt_only', 'llama3.1_8b_chat', 'birth_years_4k', 'base', 'main', 'prompt_only') Fold ('logistic_regression_test_roc_auc', 2)",
         "showlegend": false,
         "type": "scatter",
         "x": {
          "bdata": "AAECAwQFBgcICQoLDA0ODxAREhMUFRYXGBkaGxwdHh8=",
          "dtype": "i1"
         },
         "y": {
          "bdata": "Kj2jV/t54D+5WZyCkMvgPweozbBbC+I/UBrsYnZo4D8oS1JJ01/hP/QJ/u8GD+E/BRx75hJX4D/Ee5YQUuXgP0tXZU5G5OA/EYul/R/V3j/mIvH6SijdP6VoOpSkM+A/v8Qymy/+3T/MiHsynmDgPyLs3s9ByuA/fFao54Ls4D/hxCIBleXgP1b61DCoOeA/kFFCzDuq3z8hQFjQx1vgP1qldF0zsuA/WAedT5Ep4T+qZIFFhtDhP2fK/hMRluM/MIqRjTM74z/wCPoZtY3iP1kyrvpqXOI/Uv8y/6Hv4j9Q0jarh0XjPyDT8xFLPeM/MvBNfv/95D/E0p859EDjPw==",
          "dtype": "f8"
         }
        },
        {
         "legendgroup": "('llama3.1_8b_chat', 'cities_10k', 'base', 'main', 'prompt_only', 'llama3.1_8b_chat', 'birth_years_4k', 'base', 'main', 'prompt_only')",
         "marker": {
          "color": "#1f77b4",
          "opacity": 0.5,
          "size": 6
         },
         "mode": "markers",
         "name": "('llama3.1_8b_chat', 'cities_10k', 'base', 'main', 'prompt_only', 'llama3.1_8b_chat', 'birth_years_4k', 'base', 'main', 'prompt_only') Fold ('logistic_regression_test_roc_auc', 3)",
         "showlegend": false,
         "type": "scatter",
         "x": {
          "bdata": "AAECAwQFBgcICQoLDA0ODxAREhMUFRYXGBkaGxwdHh8=",
          "dtype": "i1"
         },
         "y": {
          "bdata": "f8j3rYYq3T+CqSrgES/iPx8mRwlrIuM/zspiEcFI3j/pP5PclXzhP0/pwWkRgOE/d5/beCb63j9cEQK0KCjgP0KZv/6tRd8/iO4B+UCs3T9+uEMHNSPaPwWB+kmh2N4/5/2MQvI42z+mknLNwW3ePwCzjagNit4/uTibd9Q/3j/0l+8aojrdP7S2Ba4EVOA/mDCGvK8F3z9cIlHaqELeP4hk0fCtx90/PJGmlh833j+ypbaHhDneP0CT3JV8XeA/SN37l66v3z+EYpvxUKHfP8FEYUk3EOA/aLdryVVv4D+F3BdTkn7gP1bVH+7QQeE/32b76M1w4j/B0j67nrbkPw==",
          "dtype": "f8"
         }
        },
        {
         "legendgroup": "('llama3.1_8b_chat', 'cities_10k', 'base', 'main', 'prompt_only', 'llama3.1_8b_chat', 'birth_years_4k', 'base', 'main', 'prompt_only')",
         "marker": {
          "color": "#1f77b4",
          "opacity": 0.5,
          "size": 6
         },
         "mode": "markers",
         "name": "('llama3.1_8b_chat', 'cities_10k', 'base', 'main', 'prompt_only', 'llama3.1_8b_chat', 'birth_years_4k', 'base', 'main', 'prompt_only') Fold ('logistic_regression_test_roc_auc', 4)",
         "showlegend": false,
         "type": "scatter",
         "x": {
          "bdata": "AAECAwQFBgcICQoLDA0ODxAREhMUFRYXGBkaGxwdHh8=",
          "dtype": "i1"
         },
         "y": {
          "bdata": "ao3D6FUR4D9TcDlqIpvhP3WRW8RK0+I/m5NF4B3n3j+5irOrsjreP/TugFTRft0/I/gBa3/73j+bl9OBysLgP6RgR3ppeOA/oEFctoLp3z89KB9gJnbdP7ThufnASN4/pFHwDRBH3T/vTMLL3wbdP4sImRjg9d4/TR1l7OV53T91nuvfzRbdP3K8QgTK/d0/mcW54C+U3j8pPp2B71TePyARPGsI0t4/k6954mjx4D8gn9j6vxDgP8Z8TLAeoOA/XTUfwRR13z8m5gKU9p7eP8n5eOsTt+A/eX3sUKIE3z/Caki8cdDfP37A2t++v+A/zOyWOP5q4T+X04HKwpDiPw==",
          "dtype": "f8"
         }
        },
        {
         "legendgroup": "('llama3.1_8b_chat', 'cities_10k', 'base', 'main', 'prompt_only', 'llama3.1_8b_chat', 'cities_10k', 'base', 'main', 'prompt_only')",
         "line": {
          "color": "#ff7f0e",
          "width": 2
         },
         "marker": {
          "size": 8
         },
         "mode": "lines+markers",
         "name": "('llama3.1_8b_chat', 'cities_10k', 'base', 'main', 'prompt_only', 'llama3.1_8b_chat', 'cities_10k', 'base', 'main', 'prompt_only')",
         "type": "scatter",
         "x": {
          "bdata": "AAECAwQFBgcICQoLDA0ODxAREhMUFRYXGBkaGxwdHh8=",
          "dtype": "i1"
         },
         "y": {
          "bdata": "XHHtqJ8J6T+uLK48W2/pPzDe/pZwnek/4u0NInYV6j+Q1GK/r7XqP+ZLLBcuBOs/xaD8ICat6z+9GgdxzvjrP5PASdJR0Ow/OnJz2MDv7D94gKeD7QPtP32vc9msA+0/TThOVkol7T+uDCz47TLtP/NDCKqWOe0/DSWEb04r7T8SOTnLEVDtP+YYHCf5PO0/HTOjvpcp7T8dJdGv6RztP7pVthwYGe0/ysR0jWbr7D8NlF5abRftP90Q5iFrA+0/YKGAzGE37T+W3mlIQCvtP95hm3xEHO0/PfqWWfEa7T8K2MYDHi/tP8qixTLXPe0/JcGPifwi7T92ughBxf3sPw==",
          "dtype": "f8"
         }
        },
        {
         "legendgroup": "('llama3.1_8b_chat', 'cities_10k', 'base', 'main', 'prompt_only', 'llama3.1_8b_chat', 'cities_10k', 'base', 'main', 'prompt_only')",
         "line": {
          "width": 0
         },
         "mode": "lines",
         "name": "('llama3.1_8b_chat', 'cities_10k', 'base', 'main', 'prompt_only', 'llama3.1_8b_chat', 'cities_10k', 'base', 'main', 'prompt_only') Max",
         "showlegend": false,
         "type": "scatter",
         "x": {
          "bdata": "AAECAwQFBgcICQoLDA0ODxAREhMUFRYXGBkaGxwdHh8=",
          "dtype": "i1"
         },
         "y": {
          "bdata": "mUVrW0Vy6T+dsVs9IlTqPz1mCkOZIOo/zv42P0lL6j88th97rQHrP/rrRigWQus/0g5tJ70L7D+3fiVnDF7sP33TqdZxV+0/7jALU4hV7T8taxu9NlXtP6PZBArUdO0/T01ukQR77T8GKGrJAW3tP6VLghIeeO0/EL7UzrNU7T8a+vrAfpXtP4la7eUvce0/4OlnS4m47T9261UeG87tP2wkvwoAje0/gNKBrpmi7T8f9Of0Qn/tP/A+u1+rZu0/UmMmTciq7T/qUstSeYntPxH8xyW0g+0/E1uIfpyJ7T8Cl/AV83ftP1js5hIvie0/db+5a2GE7T/oo/dZIHztPw==",
          "dtype": "f8"
         }
        },
        {
         "fill": "tonexty",
         "fillcolor": "rgba(255, 127, 14, 0.1)",
         "legendgroup": "('llama3.1_8b_chat', 'cities_10k', 'base', 'main', 'prompt_only', 'llama3.1_8b_chat', 'cities_10k', 'base', 'main', 'prompt_only')",
         "line": {
          "width": 0
         },
         "mode": "lines",
         "name": "('llama3.1_8b_chat', 'cities_10k', 'base', 'main', 'prompt_only', 'llama3.1_8b_chat', 'cities_10k', 'base', 'main', 'prompt_only') Min",
         "showlegend": false,
         "type": "scatter",
         "x": {
          "bdata": "AAECAwQFBgcICQoLDA0ODxAREhMUFRYXGBkaGxwdHh8=",
          "dtype": "i1"
         },
         "y": {
          "bdata": "5BQdOKty6D+reKfU8gHpPx27npgiE+k/E2Ya/p2P6T/jyCKlMh/qPzaPA5qj0Oo/xn7nZsZK6z/UA554pYfrPxJP69xLZuw/c9fXQpWf7D8jVxhClp7sP1z8n45Fr+w/WDjFCcTI7D+t3XdNML/sP54t1fTXzOw/es3jOoX/7D+Tsi+jmS3tP9I+oIo2C+0/Z8JjDpHl7D+CwUjyq93sP8Oep5Wkvew//l+LUoiU7D9CqyysMNjsP1plAmFysuw/dizNlEDB7D+z19VJgdPsP1DYmLiD5Ow/HTH4v+Ck7D8wdG1Y6MHsPzknjBEW5ew/vvgkiUe97D/Uq5EC/5vsPw==",
          "dtype": "f8"
         }
        },
        {
         "legendgroup": "('llama3.1_8b_chat', 'cities_10k', 'base', 'main', 'prompt_only', 'llama3.1_8b_chat', 'cities_10k', 'base', 'main', 'prompt_only')",
         "line": {
          "width": 0
         },
         "mode": "lines",
         "name": "('llama3.1_8b_chat', 'cities_10k', 'base', 'main', 'prompt_only', 'llama3.1_8b_chat', 'cities_10k', 'base', 'main', 'prompt_only') +1 STD",
         "showlegend": false,
         "type": "scatter",
         "x": {
          "bdata": "AAECAwQFBgcICQoLDA0ODxAREhMUFRYXGBkaGxwdHh8=",
          "dtype": "i1"
         },
         "y": {
          "bdata": "2ZVuYWx46T8xkKr/H/XpP9Bwd5PMCeo/UrCCzjZj6j+bfjMsZRLrP/3JKuhvM+s/fBLjrmkC7D9aEfK7iUzsP5DZSsLKKe0/H8zSLlgz7T+tqQCJ3FTtP+MNyLsQUO0/NtrpJtVy7T+f0juC/oDtP0+KSCoDgO0/wnvDXB9P7T9DSi79m3jtPwKYWMhPae0/3BYFaBd97T+lror9xYPtP4e7NIgfbe0/uHKxVfZV7T9QDYTnelXtP7JWsGzhSe0/ZdC/9sKK7T+e+NgCTnvtPwrIqmWDXu0/4Knb++h37T/YuU4+u4PtP/dj2jtiie0/e9SLl0x+7T97WvMEBmLtPw==",
          "dtype": "f8"
         }
        },
        {
         "fill": "tonexty",
         "fillcolor": "rgba(255, 127, 14, 0.3)",
         "legendgroup": "('llama3.1_8b_chat', 'cities_10k', 'base', 'main', 'prompt_only', 'llama3.1_8b_chat', 'cities_10k', 'base', 'main', 'prompt_only')",
         "line": {
          "width": 0
         },
         "mode": "lines",
         "name": "('llama3.1_8b_chat', 'cities_10k', 'base', 'main', 'prompt_only', 'llama3.1_8b_chat', 'cities_10k', 'base', 'main', 'prompt_only') -1 STD",
         "showlegend": false,
         "type": "scatter",
         "x": {
          "bdata": "AAECAwQFBgcICQoLDA0ODxAREhMUFRYXGBkaGxwdHh8=",
          "dtype": "i1"
         },
         "y": {
          "bdata": "30xs8NKa6D8rybF5lunoP5BLhpoUMek/ciuZdbXH6T+FKpJS+ljqP8/NLUbs1Oo/Di8Wk+JX6z8gJBwmE6XrP5anSOLYduw/VRgUgims7D9DV05+/rLsPxdRH/dIt+w/ZJayhb/X7D+9Rhxu3eTsP5f9xykq8+w/WM5Egn0H7T/hJ0SZhyftP8qZ34WiEO0/Xk9BFRjW7D+VmxdiDbbsP+3vN7EQxew/3BY4xdaA7D/KGjnNX9nsPwjLG9f0vOw/W3JBogDk7D+OxPqNMtvsP7L7i5MF2uw/mkpSt/m97D889j7JgNrsP53hsClM8uw/z62Te6zH7D9xGh59hJnsPw==",
          "dtype": "f8"
         }
        },
        {
         "legendgroup": "('llama3.1_8b_chat', 'cities_10k', 'base', 'main', 'prompt_only', 'llama3.1_8b_chat', 'cities_10k', 'base', 'main', 'prompt_only')",
         "marker": {
          "color": "#ff7f0e",
          "opacity": 0.5,
          "size": 6
         },
         "mode": "markers",
         "name": "('llama3.1_8b_chat', 'cities_10k', 'base', 'main', 'prompt_only', 'llama3.1_8b_chat', 'cities_10k', 'base', 'main', 'prompt_only') Fold ('logistic_regression_test_roc_auc', 0)",
         "showlegend": false,
         "type": "scatter",
         "x": {
          "bdata": "AAECAwQFBgcICQoLDA0ODxAREhMUFRYXGBkaGxwdHh8=",
          "dtype": "i1"
         },
         "y": {
          "bdata": "+covUDm26D+7B/lOwjrpP/qMoHVQZek/i+7/dB4X6j88th97rQHrPz49linnDOs/tkyIx2uC6z/3DoeyLyfsPxJP69xLZuw/mBT6EbrW7D9rWqvdRBftP0sq85z9/uw/b5X0tB0e7T8GKGrJAW3tP6EQLZj7Uu0/dTe+po8c7T8h9DZTuzrtP+lLovV3Fe0/Z8JjDpHl7D8uPITRT+TsP2JoqxnGBO0/SjNQiBbM7D+DJBsapg7tP0qeO91kDe0/SQNfqqUu7T9lfr1LnxHtP4Z2rjkL+ew/zCGyPD4d7T+HRr1bmlvtP4GH4ZmOWe0/r72d49Ad7T+1S7LwweXsPw==",
          "dtype": "f8"
         }
        },
        {
         "legendgroup": "('llama3.1_8b_chat', 'cities_10k', 'base', 'main', 'prompt_only', 'llama3.1_8b_chat', 'cities_10k', 'base', 'main', 'prompt_only')",
         "marker": {
          "color": "#ff7f0e",
          "opacity": 0.5,
          "size": 6
         },
         "mode": "markers",
         "name": "('llama3.1_8b_chat', 'cities_10k', 'base', 'main', 'prompt_only', 'llama3.1_8b_chat', 'cities_10k', 'base', 'main', 'prompt_only') Fold ('logistic_regression_test_roc_auc', 1)",
         "showlegend": false,
         "type": "scatter",
         "x": {
          "bdata": "AAECAwQFBgcICQoLDA0ODxAREhMUFRYXGBkaGxwdHh8=",
          "dtype": "i1"
         },
         "y": {
          "bdata": "5BQdOKty6D/7JH9vRSzpPx27npgiE+k/E2Ya/p2P6T+AuxHLjKDqP1ot5bWT2eo/xn7nZsZK6z/UA554pYfrPwa3BwXNt+w/c9fXQpWf7D8jVxhClp7sP1z8n45Fr+w/WDjFCcTI7D8aNcgKtATtP54t1fTXzOw/es3jOoX/7D+fXwZoRkbtPwL2JJQbQe0/4fSnjC0X7T+dkzvDBODsP6aDU6Mk4Ow//l+LUoiU7D+d/pmdIQPtP1plAmFysuw/J+2xgylL7T+z19VJgdPsP5/5oZEx8+w/nC7T+M/c7D+pUR5AhubsP3aipOPe9ew/vvgkiUe97D/y2dNIjafsPw==",
          "dtype": "f8"
         }
        },
        {
         "legendgroup": "('llama3.1_8b_chat', 'cities_10k', 'base', 'main', 'prompt_only', 'llama3.1_8b_chat', 'cities_10k', 'base', 'main', 'prompt_only')",
         "marker": {
          "color": "#ff7f0e",
          "opacity": 0.5,
          "size": 6
         },
         "mode": "markers",
         "name": "('llama3.1_8b_chat', 'cities_10k', 'base', 'main', 'prompt_only', 'llama3.1_8b_chat', 'cities_10k', 'base', 'main', 'prompt_only') Fold ('logistic_regression_test_roc_auc', 2)",
         "showlegend": false,
         "type": "scatter",
         "x": {
          "bdata": "AAECAwQFBgcICQoLDA0ODxAREhMUFRYXGBkaGxwdHh8=",
          "dtype": "i1"
         },
         "y": {
          "bdata": "mUVrW0Vy6T+dsVs9IlTqPz1mCkOZIOo/w2f6adZI6j9fy20uKvvqP/rrRigWQus/0g5tJ70L7D+3fiVnDF7sP0KoFhfu7Ow/Sy1L5SUG7T8hRc5uLUftPwxJXLoHH+0/T01ukQR77T9pjM/XymDtP6VLghIeeO0/EL7UzrNU7T/tHLbYPkztP4la7eUvce0/4OlnS4m47T9261UeG87tP2wkvwoAje0/gNKBrpmi7T8f9Of0Qn/tP/A+u1+rZu0/UmMmTciq7T/qUstSeYntPxH8xyW0g+0/E1uIfpyJ7T8Cl/AV83ftP1js5hIvie0/IAGKTrx57T/rLhyva0/tPw==",
          "dtype": "f8"
         }
        },
        {
         "legendgroup": "('llama3.1_8b_chat', 'cities_10k', 'base', 'main', 'prompt_only', 'llama3.1_8b_chat', 'cities_10k', 'base', 'main', 'prompt_only')",
         "marker": {
          "color": "#ff7f0e",
          "opacity": 0.5,
          "size": 6
         },
         "mode": "markers",
         "name": "('llama3.1_8b_chat', 'cities_10k', 'base', 'main', 'prompt_only', 'llama3.1_8b_chat', 'cities_10k', 'base', 'main', 'prompt_only') Fold ('logistic_regression_test_roc_auc', 3)",
         "showlegend": false,
         "type": "scatter",
         "x": {
          "bdata": "AAECAwQFBgcICQoLDA0ODxAREhMUFRYXGBkaGxwdHh8=",
          "dtype": "i1"
         },
         "y": {
          "bdata": "d8nVYeRK6T9piOteq2/pP4nkThBx8ek/Our5jXIw6j/QICyj18/qPzaPA5qj0Oo/YrA1I9YB7D9NhvghEgnsP33TqdZxV+0/7jALU4hV7T8taxu9NlXtP6PZBArUdO0/GoQTlH1r7T8yeGLf9GztP1L4UmJBbO0/qzsURAoc7T+Tsi+jmS3tP9I+oIo2C+0/AM7NCDj47D+CwUjyq93sP8Oep5Wkvew/oMmHqDOy7D9CqyysMNjsP+t1JK64G+0/q6Z+7hAv7T8qyMyD7HTtP9WkV8XhOO0/lQbtSyte7T/MlKgImm/tP2Xw4luBd+0/db+5a2GE7T/oo/dZIHztPw==",
          "dtype": "f8"
         }
        },
        {
         "legendgroup": "('llama3.1_8b_chat', 'cities_10k', 'base', 'main', 'prompt_only', 'llama3.1_8b_chat', 'cities_10k', 'base', 'main', 'prompt_only')",
         "marker": {
          "color": "#ff7f0e",
          "opacity": 0.5,
          "size": 6
         },
         "mode": "markers",
         "name": "('llama3.1_8b_chat', 'cities_10k', 'base', 'main', 'prompt_only', 'llama3.1_8b_chat', 'cities_10k', 'base', 'main', 'prompt_only') Fold ('logistic_regression_test_roc_auc', 4)",
         "showlegend": false,
         "type": "scatter",
         "x": {
          "bdata": "AAECAwQFBgcICQoLDA0ODxAREhMUFRYXGBkaGxwdHh8=",
          "dtype": "i1"
         },
         "y": {
          "bdata": "4EcVBxBK6T+reKfU8gHpPxjEYZG1iOk/zv42P0lL6j/jyCKlMh/qP7qVF9KxG+s/KZncK/mG6z/gbeCAFMbrPwtBvUsgr+w/2vAYrcbc7D99IJhGZMHsPxgkTk9B0Ow/U3pLyw/t7D+t3XdNML/sP4nRUVC+G+0/lroJObVL7T8a+vrAfpXtPzehN8njXe0/ZZDuyXYi7T/UPLfJdCDtP2f9KTLpTe0/iahikZTj7D+/IQ9r5wvtP9ObYF3czuw/dizNlEDB7D/G5+X9uvTsP1DYmLiD5Ow/HTH4v+Ck7D8wdG1Y6MHsPzknjBEW5ew/t07IiLjV7D/Uq5EC/5vsPw==",
          "dtype": "f8"
         }
        }
       ],
       "layout": {
        "font": {
         "color": "white"
        },
        "height": 600,
        "legend": {
         "bgcolor": "rgba(32, 32, 32, 0.8)",
         "orientation": "h",
         "x": 0.5,
         "xanchor": "center",
         "y": 1.02,
         "yanchor": "bottom"
        },
        "margin": {
         "b": 50,
         "l": 50,
         "r": 30,
         "t": 100
        },
        "paper_bgcolor": "rgba(32, 32, 32, 1)",
        "plot_bgcolor": "rgba(32, 32, 32, 1)",
        "showlegend": true,
        "template": {
         "data": {
          "bar": [
           {
            "error_x": {
             "color": "#f2f5fa"
            },
            "error_y": {
             "color": "#f2f5fa"
            },
            "marker": {
             "line": {
              "color": "rgb(17,17,17)",
              "width": 0.5
             },
             "pattern": {
              "fillmode": "overlay",
              "size": 10,
              "solidity": 0.2
             }
            },
            "type": "bar"
           }
          ],
          "barpolar": [
           {
            "marker": {
             "line": {
              "color": "rgb(17,17,17)",
              "width": 0.5
             },
             "pattern": {
              "fillmode": "overlay",
              "size": 10,
              "solidity": 0.2
             }
            },
            "type": "barpolar"
           }
          ],
          "carpet": [
           {
            "aaxis": {
             "endlinecolor": "#A2B1C6",
             "gridcolor": "#506784",
             "linecolor": "#506784",
             "minorgridcolor": "#506784",
             "startlinecolor": "#A2B1C6"
            },
            "baxis": {
             "endlinecolor": "#A2B1C6",
             "gridcolor": "#506784",
             "linecolor": "#506784",
             "minorgridcolor": "#506784",
             "startlinecolor": "#A2B1C6"
            },
            "type": "carpet"
           }
          ],
          "choropleth": [
           {
            "colorbar": {
             "outlinewidth": 0,
             "ticks": ""
            },
            "type": "choropleth"
           }
          ],
          "contour": [
           {
            "colorbar": {
             "outlinewidth": 0,
             "ticks": ""
            },
            "colorscale": [
             [
              0,
              "#0d0887"
             ],
             [
              0.1111111111111111,
              "#46039f"
             ],
             [
              0.2222222222222222,
              "#7201a8"
             ],
             [
              0.3333333333333333,
              "#9c179e"
             ],
             [
              0.4444444444444444,
              "#bd3786"
             ],
             [
              0.5555555555555556,
              "#d8576b"
             ],
             [
              0.6666666666666666,
              "#ed7953"
             ],
             [
              0.7777777777777778,
              "#fb9f3a"
             ],
             [
              0.8888888888888888,
              "#fdca26"
             ],
             [
              1,
              "#f0f921"
             ]
            ],
            "type": "contour"
           }
          ],
          "contourcarpet": [
           {
            "colorbar": {
             "outlinewidth": 0,
             "ticks": ""
            },
            "type": "contourcarpet"
           }
          ],
          "heatmap": [
           {
            "colorbar": {
             "outlinewidth": 0,
             "ticks": ""
            },
            "colorscale": [
             [
              0,
              "#0d0887"
             ],
             [
              0.1111111111111111,
              "#46039f"
             ],
             [
              0.2222222222222222,
              "#7201a8"
             ],
             [
              0.3333333333333333,
              "#9c179e"
             ],
             [
              0.4444444444444444,
              "#bd3786"
             ],
             [
              0.5555555555555556,
              "#d8576b"
             ],
             [
              0.6666666666666666,
              "#ed7953"
             ],
             [
              0.7777777777777778,
              "#fb9f3a"
             ],
             [
              0.8888888888888888,
              "#fdca26"
             ],
             [
              1,
              "#f0f921"
             ]
            ],
            "type": "heatmap"
           }
          ],
          "histogram": [
           {
            "marker": {
             "pattern": {
              "fillmode": "overlay",
              "size": 10,
              "solidity": 0.2
             }
            },
            "type": "histogram"
           }
          ],
          "histogram2d": [
           {
            "colorbar": {
             "outlinewidth": 0,
             "ticks": ""
            },
            "colorscale": [
             [
              0,
              "#0d0887"
             ],
             [
              0.1111111111111111,
              "#46039f"
             ],
             [
              0.2222222222222222,
              "#7201a8"
             ],
             [
              0.3333333333333333,
              "#9c179e"
             ],
             [
              0.4444444444444444,
              "#bd3786"
             ],
             [
              0.5555555555555556,
              "#d8576b"
             ],
             [
              0.6666666666666666,
              "#ed7953"
             ],
             [
              0.7777777777777778,
              "#fb9f3a"
             ],
             [
              0.8888888888888888,
              "#fdca26"
             ],
             [
              1,
              "#f0f921"
             ]
            ],
            "type": "histogram2d"
           }
          ],
          "histogram2dcontour": [
           {
            "colorbar": {
             "outlinewidth": 0,
             "ticks": ""
            },
            "colorscale": [
             [
              0,
              "#0d0887"
             ],
             [
              0.1111111111111111,
              "#46039f"
             ],
             [
              0.2222222222222222,
              "#7201a8"
             ],
             [
              0.3333333333333333,
              "#9c179e"
             ],
             [
              0.4444444444444444,
              "#bd3786"
             ],
             [
              0.5555555555555556,
              "#d8576b"
             ],
             [
              0.6666666666666666,
              "#ed7953"
             ],
             [
              0.7777777777777778,
              "#fb9f3a"
             ],
             [
              0.8888888888888888,
              "#fdca26"
             ],
             [
              1,
              "#f0f921"
             ]
            ],
            "type": "histogram2dcontour"
           }
          ],
          "mesh3d": [
           {
            "colorbar": {
             "outlinewidth": 0,
             "ticks": ""
            },
            "type": "mesh3d"
           }
          ],
          "parcoords": [
           {
            "line": {
             "colorbar": {
              "outlinewidth": 0,
              "ticks": ""
             }
            },
            "type": "parcoords"
           }
          ],
          "pie": [
           {
            "automargin": true,
            "type": "pie"
           }
          ],
          "scatter": [
           {
            "marker": {
             "line": {
              "color": "#283442"
             }
            },
            "type": "scatter"
           }
          ],
          "scatter3d": [
           {
            "line": {
             "colorbar": {
              "outlinewidth": 0,
              "ticks": ""
             }
            },
            "marker": {
             "colorbar": {
              "outlinewidth": 0,
              "ticks": ""
             }
            },
            "type": "scatter3d"
           }
          ],
          "scattercarpet": [
           {
            "marker": {
             "colorbar": {
              "outlinewidth": 0,
              "ticks": ""
             }
            },
            "type": "scattercarpet"
           }
          ],
          "scattergeo": [
           {
            "marker": {
             "colorbar": {
              "outlinewidth": 0,
              "ticks": ""
             }
            },
            "type": "scattergeo"
           }
          ],
          "scattergl": [
           {
            "marker": {
             "line": {
              "color": "#283442"
             }
            },
            "type": "scattergl"
           }
          ],
          "scattermap": [
           {
            "marker": {
             "colorbar": {
              "outlinewidth": 0,
              "ticks": ""
             }
            },
            "type": "scattermap"
           }
          ],
          "scattermapbox": [
           {
            "marker": {
             "colorbar": {
              "outlinewidth": 0,
              "ticks": ""
             }
            },
            "type": "scattermapbox"
           }
          ],
          "scatterpolar": [
           {
            "marker": {
             "colorbar": {
              "outlinewidth": 0,
              "ticks": ""
             }
            },
            "type": "scatterpolar"
           }
          ],
          "scatterpolargl": [
           {
            "marker": {
             "colorbar": {
              "outlinewidth": 0,
              "ticks": ""
             }
            },
            "type": "scatterpolargl"
           }
          ],
          "scatterternary": [
           {
            "marker": {
             "colorbar": {
              "outlinewidth": 0,
              "ticks": ""
             }
            },
            "type": "scatterternary"
           }
          ],
          "surface": [
           {
            "colorbar": {
             "outlinewidth": 0,
             "ticks": ""
            },
            "colorscale": [
             [
              0,
              "#0d0887"
             ],
             [
              0.1111111111111111,
              "#46039f"
             ],
             [
              0.2222222222222222,
              "#7201a8"
             ],
             [
              0.3333333333333333,
              "#9c179e"
             ],
             [
              0.4444444444444444,
              "#bd3786"
             ],
             [
              0.5555555555555556,
              "#d8576b"
             ],
             [
              0.6666666666666666,
              "#ed7953"
             ],
             [
              0.7777777777777778,
              "#fb9f3a"
             ],
             [
              0.8888888888888888,
              "#fdca26"
             ],
             [
              1,
              "#f0f921"
             ]
            ],
            "type": "surface"
           }
          ],
          "table": [
           {
            "cells": {
             "fill": {
              "color": "#506784"
             },
             "line": {
              "color": "rgb(17,17,17)"
             }
            },
            "header": {
             "fill": {
              "color": "#2a3f5f"
             },
             "line": {
              "color": "rgb(17,17,17)"
             }
            },
            "type": "table"
           }
          ]
         },
         "layout": {
          "annotationdefaults": {
           "arrowcolor": "#f2f5fa",
           "arrowhead": 0,
           "arrowwidth": 1
          },
          "autotypenumbers": "strict",
          "coloraxis": {
           "colorbar": {
            "outlinewidth": 0,
            "ticks": ""
           }
          },
          "colorscale": {
           "diverging": [
            [
             0,
             "#8e0152"
            ],
            [
             0.1,
             "#c51b7d"
            ],
            [
             0.2,
             "#de77ae"
            ],
            [
             0.3,
             "#f1b6da"
            ],
            [
             0.4,
             "#fde0ef"
            ],
            [
             0.5,
             "#f7f7f7"
            ],
            [
             0.6,
             "#e6f5d0"
            ],
            [
             0.7,
             "#b8e186"
            ],
            [
             0.8,
             "#7fbc41"
            ],
            [
             0.9,
             "#4d9221"
            ],
            [
             1,
             "#276419"
            ]
           ],
           "sequential": [
            [
             0,
             "#0d0887"
            ],
            [
             0.1111111111111111,
             "#46039f"
            ],
            [
             0.2222222222222222,
             "#7201a8"
            ],
            [
             0.3333333333333333,
             "#9c179e"
            ],
            [
             0.4444444444444444,
             "#bd3786"
            ],
            [
             0.5555555555555556,
             "#d8576b"
            ],
            [
             0.6666666666666666,
             "#ed7953"
            ],
            [
             0.7777777777777778,
             "#fb9f3a"
            ],
            [
             0.8888888888888888,
             "#fdca26"
            ],
            [
             1,
             "#f0f921"
            ]
           ],
           "sequentialminus": [
            [
             0,
             "#0d0887"
            ],
            [
             0.1111111111111111,
             "#46039f"
            ],
            [
             0.2222222222222222,
             "#7201a8"
            ],
            [
             0.3333333333333333,
             "#9c179e"
            ],
            [
             0.4444444444444444,
             "#bd3786"
            ],
            [
             0.5555555555555556,
             "#d8576b"
            ],
            [
             0.6666666666666666,
             "#ed7953"
            ],
            [
             0.7777777777777778,
             "#fb9f3a"
            ],
            [
             0.8888888888888888,
             "#fdca26"
            ],
            [
             1,
             "#f0f921"
            ]
           ]
          },
          "colorway": [
           "#636efa",
           "#EF553B",
           "#00cc96",
           "#ab63fa",
           "#FFA15A",
           "#19d3f3",
           "#FF6692",
           "#B6E880",
           "#FF97FF",
           "#FECB52"
          ],
          "font": {
           "color": "#f2f5fa"
          },
          "geo": {
           "bgcolor": "rgb(17,17,17)",
           "lakecolor": "rgb(17,17,17)",
           "landcolor": "rgb(17,17,17)",
           "showlakes": true,
           "showland": true,
           "subunitcolor": "#506784"
          },
          "hoverlabel": {
           "align": "left"
          },
          "hovermode": "closest",
          "mapbox": {
           "style": "dark"
          },
          "paper_bgcolor": "rgb(17,17,17)",
          "plot_bgcolor": "rgb(17,17,17)",
          "polar": {
           "angularaxis": {
            "gridcolor": "#506784",
            "linecolor": "#506784",
            "ticks": ""
           },
           "bgcolor": "rgb(17,17,17)",
           "radialaxis": {
            "gridcolor": "#506784",
            "linecolor": "#506784",
            "ticks": ""
           }
          },
          "scene": {
           "xaxis": {
            "backgroundcolor": "rgb(17,17,17)",
            "gridcolor": "#506784",
            "gridwidth": 2,
            "linecolor": "#506784",
            "showbackground": true,
            "ticks": "",
            "zerolinecolor": "#C8D4E3"
           },
           "yaxis": {
            "backgroundcolor": "rgb(17,17,17)",
            "gridcolor": "#506784",
            "gridwidth": 2,
            "linecolor": "#506784",
            "showbackground": true,
            "ticks": "",
            "zerolinecolor": "#C8D4E3"
           },
           "zaxis": {
            "backgroundcolor": "rgb(17,17,17)",
            "gridcolor": "#506784",
            "gridwidth": 2,
            "linecolor": "#506784",
            "showbackground": true,
            "ticks": "",
            "zerolinecolor": "#C8D4E3"
           }
          },
          "shapedefaults": {
           "line": {
            "color": "#f2f5fa"
           }
          },
          "sliderdefaults": {
           "bgcolor": "#C8D4E3",
           "bordercolor": "rgb(17,17,17)",
           "borderwidth": 1,
           "tickwidth": 0
          },
          "ternary": {
           "aaxis": {
            "gridcolor": "#506784",
            "linecolor": "#506784",
            "ticks": ""
           },
           "baxis": {
            "gridcolor": "#506784",
            "linecolor": "#506784",
            "ticks": ""
           },
           "bgcolor": "rgb(17,17,17)",
           "caxis": {
            "gridcolor": "#506784",
            "linecolor": "#506784",
            "ticks": ""
           }
          },
          "title": {
           "x": 0.05
          },
          "updatemenudefaults": {
           "bgcolor": "#506784",
           "borderwidth": 0
          },
          "xaxis": {
           "automargin": true,
           "gridcolor": "#283442",
           "linecolor": "#506784",
           "ticks": "",
           "title": {
            "standoff": 15
           },
           "zerolinecolor": "#283442",
           "zerolinewidth": 2
          },
          "yaxis": {
           "automargin": true,
           "gridcolor": "#283442",
           "linecolor": "#506784",
           "ticks": "",
           "title": {
            "standoff": 15
           },
           "zerolinecolor": "#283442",
           "zerolinewidth": 2
          }
         }
        },
        "title": {},
        "width": 1000,
        "xaxis": {
         "gridcolor": "rgba(128, 128, 128, 0.2)",
         "title": {
          "text": "Layer"
         },
         "zeroline": false
        },
        "yaxis": {
         "gridcolor": "rgba(128, 128, 128, 0.2)",
         "title": {
          "text": "Logistic Regression Test Roc Auc"
         },
         "zeroline": false
        }
       }
      }
     },
     "metadata": {},
     "output_type": "display_data"
    }
   ],
   "source": [
    "for classifier in [\"direction\", \"logistic_regression\"]:\n",
    "    # for metric in [\"f1_score\", \"accuracy_score\", \"precision_score\", \"recall_score\", \"test_roc_auc\"]:\n",
    "    for metric in [\"test_roc_auc\"]:\n",
    "        plot_dict = {}\n",
    "        for conf, res_df_ in res_df.groupby([\n",
    "            \"model_id_train\", \n",
    "            \"dataset_id_train\", \n",
    "            \"prompt_id_train\", \n",
    "            \"subset_id_train\", \n",
    "            \"input_type_train\",\n",
    "            \"model_id_test\",\n",
    "            \"dataset_id_test\",\n",
    "            \"prompt_id_test\",\n",
    "            \"subset_id_test\",\n",
    "            \"input_type_test\"\n",
    "        ]):\n",
    "            # if conf[4] != \"prompt_only\":\n",
    "            #     continue\n",
    "            \n",
    "            print(f\"{conf=}\")\n",
    "            res_df_pivot = pd.pivot(\n",
    "                res_df_.drop(columns=[\n",
    "                    \"model_id_train\",\n",
    "                    \"dataset_id_train\",\n",
    "                    \"prompt_id_train\",\n",
    "                    \"subset_id_train\",\n",
    "                    \"input_type_train\",\n",
    "                    \"model_id_test\",\n",
    "                    \"dataset_id_test\",\n",
    "                    \"prompt_id_test\",\n",
    "                    \"subset_id_test\",\n",
    "                    \"input_type_test\"\n",
    "                ]),\n",
    "                index='layer',\n",
    "                columns='fold',\n",
    "                # values=['direction_f1_score', 'logistic_regression_f1_score']  # add all metrics you want to keep\n",
    "            )\n",
    "            # for classifier in [\"direction\", \"logistic_regression\"]:\n",
    "            #     for metric in [\"f1_score\", \"accuracy_score\", \"precision_score\", \"recall_score\"]:\n",
    "            plot_dict[str(conf)] = res_df_pivot[[f\"{classifier}_{metric}\"]]\n",
    "\n",
    "        plot_interactive_lineplot(\n",
    "            plot_dict,\n",
    "            x_label=\"Layer\",\n",
    "            y_label=f\"{classifier}_{metric}\".replace(\"_\", \" \").title(),\n",
    "            save_path=f\"./classification_data/figures/llama31_8B_train_test_different_datasets{classifier}_{metric}{PCA_COMONENTS_LABEL}.html\"\n",
    "        ).show()\n",
    "\n"
   ]
  },
  {
   "cell_type": "code",
   "execution_count": 18,
   "metadata": {},
   "outputs": [
    {
     "data": {
      "text/plain": [
       "'prompt_answer'"
      ]
     },
     "execution_count": 18,
     "metadata": {},
     "output_type": "execute_result"
    }
   ],
   "source": [
    "input_type_train"
   ]
  },
  {
   "cell_type": "code",
   "execution_count": 37,
   "metadata": {},
   "outputs": [
    {
     "data": {
      "text/plain": [
       "<matplotlib.legend.Legend at 0x14cd0f0d0>"
      ]
     },
     "execution_count": 37,
     "metadata": {},
     "output_type": "execute_result"
    },
    {
     "data": {
      "image/png": "[encoded data removed]",
      "text/plain": [
       "<Figure size 640x480 with 1 Axes>"
      ]
     },
     "metadata": {},
     "output_type": "display_data"
    }
   ],
   "source": [
    "from src.visualisations.utils import visualise_clusters_dimenstionality_reduction\n",
    "\n",
    "labels_df_cities = load_labels(\n",
    "    base_path=BASE_PATH,\n",
    "    model_id='llama3.1_8b_chat',\n",
    "    dataset_id='cities_10k',\n",
    "    prompt_id='base',\n",
    "    subset_id='main',\n",
    ")\n",
    "\n",
    "activations_cities, _ = load_activations(\n",
    "    base_path=BASE_PATH,\n",
    "    model_id='llama3.1_8b_chat',\n",
    "    dataset_id='cities_10k',\n",
    "    prompt_id='base',\n",
    "    subset_id='main',\n",
    "    input_type='prompt_only',\n",
    "    # input_type='prompt_answer',\n",
    "    layer=18,\n",
    ")\n",
    "\n",
    "labels_df_birth_years = load_labels(\n",
    "    base_path=BASE_PATH,\n",
    "    model_id='llama3.1_8b_chat',\n",
    "    dataset_id='birth_years_4k',\n",
    "    prompt_id='base',\n",
    "    subset_id='main',\n",
    ")\n",
    "\n",
    "activations_birth_years, _ = load_activations(\n",
    "    base_path=BASE_PATH,\n",
    "    model_id='llama3.1_8b_chat',\n",
    "    dataset_id='birth_years_4k',\n",
    "    prompt_id='base',\n",
    "    subset_id='main',\n",
    "    input_type='prompt_only',\n",
    "    # input_type='prompt_answer',\n",
    "    layer=18,\n",
    ")\n",
    "\n",
    "ah_cities = ActivationsHandler(\n",
    "    activations=activations_cities,\n",
    "    labels=labels_df_cities[\"correct\"].astype(bool).astype(str) + \"_cities\",\n",
    ")\n",
    "\n",
    "ah_birth_years = ActivationsHandler(\n",
    "    activations=activations_birth_years,\n",
    "    labels=labels_df_birth_years[\"correct\"].astype(bool).astype(str) + \"_birth_years\",\n",
    ")\n",
    "\n",
    "ah, _ = combine_activations_handlers([ah_cities, ah_birth_years]).reduce_dims(pca_components=2)\n",
    "\n",
    "import seaborn as sns\n",
    "ax = sns.scatterplot(\n",
    "    x=ah.activations[:, 0],\n",
    "    y=ah.activations[:, 1],\n",
    "    hue=ah.labels,\n",
    ")\n",
    "ax.set_title(\"PCA of activations. Prompt Only\")\n",
    "# ax.set_title(\"PCA of activations. Prompt and answer\")\n",
    "ax.set_xlabel(\"PCA 1\")\n",
    "ax.set_ylabel(\"PCA 2\")\n",
    "ax.legend(title=\"Label\")"
   ]
  },
  {
   "cell_type": "code",
   "execution_count": null,
   "metadata": {},
   "outputs": [],
   "source": []
  }
 ],
 "metadata": {
  "kernelspec": {
   "display_name": "venv",
   "language": "python",
   "name": "python3"
  },
  "language_info": {
   "codemirror_mode": {
    "name": "ipython",
    "version": 3
   },
   "file_extension": ".py",
   "mimetype": "text/x-python",
   "name": "python",
   "nbconvert_exporter": "python",
   "pygments_lexer": "ipython3",
   "version": "3.11.3"
  }
 },
 "nbformat": 4,
 "nbformat_minor": 2
}
