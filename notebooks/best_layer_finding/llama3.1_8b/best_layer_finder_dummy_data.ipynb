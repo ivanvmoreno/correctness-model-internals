{
 "cells": [
  {
   "cell_type": "code",
   "execution_count": 1,
   "metadata": {},
   "outputs": [
    {
     "data": {
      "text/plain": [
       "['/Library/Frameworks/Python.framework/Versions/3.11/lib/python311.zip',\n",
       " '/Library/Frameworks/Python.framework/Versions/3.11/lib/python3.11',\n",
       " '/Library/Frameworks/Python.framework/Versions/3.11/lib/python3.11/lib-dynload',\n",
       " '',\n",
       " '/Users/anton/dev/MARS/correctness-model-internals/venv/lib/python3.11/site-packages',\n",
       " '/Users/anton/dev/MARS/correctness-model-internals']"
      ]
     },
     "execution_count": 1,
     "metadata": {},
     "output_type": "execute_result"
    }
   ],
   "source": [
    "import sys\n",
    "from pathlib import Path\n",
    "\n",
    "# Add the src directory to Python path\n",
    "src_path = str(Path(\"./\").resolve().parent.parent)\n",
    "if src_path not in sys.path:\n",
    "    sys.path.append(src_path)\n",
    "\n",
    "sys.path"
   ]
  },
  {
   "cell_type": "code",
   "execution_count": 2,
   "metadata": {},
   "outputs": [],
   "source": [
    "from collections import defaultdict\n",
    "\n",
    "import pandas as pd\n",
    "\n",
    "from src.classifying import (\n",
    "    ActivationsHandler,\n",
    "    combine_activations_handlers,\n",
    "    get_correctness_direction_classifier,\n",
    "    get_logistic_regression_classifier,\n",
    "    get_between_class_variance_and_within_class_variance,\n",
    ")\n",
    "from src.visualisations.utils import plot_interactive_lineplot\n",
    "from src.utils.data import load_activations, load_labels, get_experiment_activations_configs_df_subset\n"
   ]
  },
  {
   "cell_type": "code",
   "execution_count": 49,
   "metadata": {},
   "outputs": [],
   "source": [
    "BASE_PATH = \"../../data_for_classification\"\n",
    "PCA_COMPONENTS = 100\n",
    "\n",
    "N_DIMS = 500\n",
    "\n",
    "PCA_COMONENTS_LABEL = f\"_pca_{PCA_COMPONENTS}\" if PCA_COMPONENTS else \"\"\n",
    "N_DIMS_LABEL = f\"_{N_DIMS}_dims\""
   ]
  },
  {
   "cell_type": "code",
   "execution_count": 22,
   "metadata": {},
   "outputs": [],
   "source": [
    "import numpy as np\n",
    "import torch as pt\n",
    "from pathlib import Path\n",
    "import os\n",
    "\n",
    "def generate_dummy_data(base_path: str, n_layers: int = 32, n_files: int = 4, \n",
    "                       points_per_file: int = 25, n_dims: int = N_DIMS):\n",
    "    \"\"\"\n",
    "    Generate dummy activation data with specific separation patterns across layers.\n",
    "    \n",
    "    Parameters:\n",
    "    -----------\n",
    "    base_path : str\n",
    "        Base path for saving the data\n",
    "    n_layers : int\n",
    "        Number of layers to generate\n",
    "    n_files : int\n",
    "        Number of files per layer\n",
    "    points_per_file : int\n",
    "        Number of points per file\n",
    "    n_dims : int\n",
    "        Number of dimensions for each point\n",
    "    \"\"\"\n",
    "    \n",
    "    # Create base directories\n",
    "    base_path = Path(base_path)\n",
    "    activations_path = base_path / \"activations\" / \"dummy_model\" / \"test_dataset\" / \"base\" / \"main\" / \"prompt_only\"\n",
    "    labels_path = base_path / \"evaluations\" / \"dummy_model\" / \"test_dataset\" / \"base\"\n",
    "    \n",
    "    os.makedirs(activations_path, exist_ok=True)\n",
    "    os.makedirs(labels_path, exist_ok=True)\n",
    "    \n",
    "    # Generate indices and labels\n",
    "    total_points = n_files * points_per_file\n",
    "    indices = np.arange(total_points)\n",
    "    labels = np.zeros(total_points, dtype=bool)\n",
    "    labels[total_points//2:] = True  # Half True, Half False\n",
    "    \n",
    "    # Save labels\n",
    "    labels_df = pd.DataFrame({\n",
    "        'index': indices,\n",
    "        'correct': labels\n",
    "    })\n",
    "    labels_df.to_csv(labels_path / \"main_generations_evaluated.csv\", index=False)\n",
    "    \n",
    "    # Function to calculate separation factor for each layer\n",
    "    def get_separation_factor(layer):\n",
    "        # Max separation at layer 15\n",
    "        if layer <= 15:\n",
    "            return (layer / 15) ** 2  # Quadratic increase to layer 15\n",
    "        else:\n",
    "            return max(0.1, 1 - ((layer - 15) / 16) ** 2)  # Quadratic decrease after\n",
    "    \n",
    "    # Generate data for each layer\n",
    "    for layer in range(n_layers):\n",
    "        layer_path = activations_path / f\"layer_{layer}\"\n",
    "        os.makedirs(layer_path, exist_ok=True)\n",
    "        \n",
    "        separation = get_separation_factor(layer)\n",
    "        \n",
    "        # Base distributions\n",
    "        false_base = np.random.normal(0, 1, (total_points//2, n_dims))\n",
    "        true_base = np.random.normal(0, 1, (total_points//2, n_dims))\n",
    "        \n",
    "        # Add separation\n",
    "        separation_vector = np.random.normal(0, 1, n_dims)\n",
    "        separation_vector = separation_vector / np.linalg.norm(separation_vector)\n",
    "        true_base += separation * 5 * separation_vector\n",
    "        \n",
    "        # Combine and shuffle consistently\n",
    "        all_data = np.vstack([false_base, true_base])\n",
    "        \n",
    "        # Split into files\n",
    "        for file_idx in range(n_files):\n",
    "            start_idx = file_idx * points_per_file\n",
    "            end_idx = start_idx + points_per_file\n",
    "            \n",
    "            file_data = pt.tensor(all_data[start_idx:end_idx]).float()\n",
    "            pt.save(file_data, layer_path / f\"batch_{file_idx*points_per_file}.pt\")\n",
    "\n",
    "\n",
    "generate_dummy_data(\"../../data_for_classification\")"
   ]
  },
  {
   "cell_type": "code",
   "execution_count": 50,
   "metadata": {},
   "outputs": [
    {
     "data": {
      "text/html": [
       "<div>\n",
       "<style scoped>\n",
       "    .dataframe tbody tr th:only-of-type {\n",
       "        vertical-align: middle;\n",
       "    }\n",
       "\n",
       "    .dataframe tbody tr th {\n",
       "        vertical-align: top;\n",
       "    }\n",
       "\n",
       "    .dataframe thead th {\n",
       "        text-align: right;\n",
       "    }\n",
       "</style>\n",
       "<table border=\"1\" class=\"dataframe\">\n",
       "  <thead>\n",
       "    <tr style=\"text-align: right;\">\n",
       "      <th></th>\n",
       "      <th>model_id</th>\n",
       "      <th>dataset_id</th>\n",
       "      <th>prompt_id</th>\n",
       "      <th>subset_id</th>\n",
       "      <th>input_type</th>\n",
       "      <th>layer</th>\n",
       "      <th>path</th>\n",
       "    </tr>\n",
       "  </thead>\n",
       "  <tbody>\n",
       "    <tr>\n",
       "      <th>384</th>\n",
       "      <td>dummy_model</td>\n",
       "      <td>test_dataset</td>\n",
       "      <td>base</td>\n",
       "      <td>main</td>\n",
       "      <td>prompt_only</td>\n",
       "      <td>0</td>\n",
       "      <td>../../data_for_classification/activations/dumm...</td>\n",
       "    </tr>\n",
       "    <tr>\n",
       "      <th>385</th>\n",
       "      <td>dummy_model</td>\n",
       "      <td>test_dataset</td>\n",
       "      <td>base</td>\n",
       "      <td>main</td>\n",
       "      <td>prompt_only</td>\n",
       "      <td>7</td>\n",
       "      <td>../../data_for_classification/activations/dumm...</td>\n",
       "    </tr>\n",
       "    <tr>\n",
       "      <th>386</th>\n",
       "      <td>dummy_model</td>\n",
       "      <td>test_dataset</td>\n",
       "      <td>base</td>\n",
       "      <td>main</td>\n",
       "      <td>prompt_only</td>\n",
       "      <td>9</td>\n",
       "      <td>../../data_for_classification/activations/dumm...</td>\n",
       "    </tr>\n",
       "    <tr>\n",
       "      <th>387</th>\n",
       "      <td>dummy_model</td>\n",
       "      <td>test_dataset</td>\n",
       "      <td>base</td>\n",
       "      <td>main</td>\n",
       "      <td>prompt_only</td>\n",
       "      <td>17</td>\n",
       "      <td>../../data_for_classification/activations/dumm...</td>\n",
       "    </tr>\n",
       "    <tr>\n",
       "      <th>388</th>\n",
       "      <td>dummy_model</td>\n",
       "      <td>test_dataset</td>\n",
       "      <td>base</td>\n",
       "      <td>main</td>\n",
       "      <td>prompt_only</td>\n",
       "      <td>28</td>\n",
       "      <td>../../data_for_classification/activations/dumm...</td>\n",
       "    </tr>\n",
       "    <tr>\n",
       "      <th>389</th>\n",
       "      <td>dummy_model</td>\n",
       "      <td>test_dataset</td>\n",
       "      <td>base</td>\n",
       "      <td>main</td>\n",
       "      <td>prompt_only</td>\n",
       "      <td>10</td>\n",
       "      <td>../../data_for_classification/activations/dumm...</td>\n",
       "    </tr>\n",
       "    <tr>\n",
       "      <th>390</th>\n",
       "      <td>dummy_model</td>\n",
       "      <td>test_dataset</td>\n",
       "      <td>base</td>\n",
       "      <td>main</td>\n",
       "      <td>prompt_only</td>\n",
       "      <td>26</td>\n",
       "      <td>../../data_for_classification/activations/dumm...</td>\n",
       "    </tr>\n",
       "    <tr>\n",
       "      <th>391</th>\n",
       "      <td>dummy_model</td>\n",
       "      <td>test_dataset</td>\n",
       "      <td>base</td>\n",
       "      <td>main</td>\n",
       "      <td>prompt_only</td>\n",
       "      <td>19</td>\n",
       "      <td>../../data_for_classification/activations/dumm...</td>\n",
       "    </tr>\n",
       "    <tr>\n",
       "      <th>392</th>\n",
       "      <td>dummy_model</td>\n",
       "      <td>test_dataset</td>\n",
       "      <td>base</td>\n",
       "      <td>main</td>\n",
       "      <td>prompt_only</td>\n",
       "      <td>21</td>\n",
       "      <td>../../data_for_classification/activations/dumm...</td>\n",
       "    </tr>\n",
       "    <tr>\n",
       "      <th>393</th>\n",
       "      <td>dummy_model</td>\n",
       "      <td>test_dataset</td>\n",
       "      <td>base</td>\n",
       "      <td>main</td>\n",
       "      <td>prompt_only</td>\n",
       "      <td>8</td>\n",
       "      <td>../../data_for_classification/activations/dumm...</td>\n",
       "    </tr>\n",
       "    <tr>\n",
       "      <th>394</th>\n",
       "      <td>dummy_model</td>\n",
       "      <td>test_dataset</td>\n",
       "      <td>base</td>\n",
       "      <td>main</td>\n",
       "      <td>prompt_only</td>\n",
       "      <td>6</td>\n",
       "      <td>../../data_for_classification/activations/dumm...</td>\n",
       "    </tr>\n",
       "    <tr>\n",
       "      <th>395</th>\n",
       "      <td>dummy_model</td>\n",
       "      <td>test_dataset</td>\n",
       "      <td>base</td>\n",
       "      <td>main</td>\n",
       "      <td>prompt_only</td>\n",
       "      <td>1</td>\n",
       "      <td>../../data_for_classification/activations/dumm...</td>\n",
       "    </tr>\n",
       "    <tr>\n",
       "      <th>396</th>\n",
       "      <td>dummy_model</td>\n",
       "      <td>test_dataset</td>\n",
       "      <td>base</td>\n",
       "      <td>main</td>\n",
       "      <td>prompt_only</td>\n",
       "      <td>20</td>\n",
       "      <td>../../data_for_classification/activations/dumm...</td>\n",
       "    </tr>\n",
       "    <tr>\n",
       "      <th>397</th>\n",
       "      <td>dummy_model</td>\n",
       "      <td>test_dataset</td>\n",
       "      <td>base</td>\n",
       "      <td>main</td>\n",
       "      <td>prompt_only</td>\n",
       "      <td>27</td>\n",
       "      <td>../../data_for_classification/activations/dumm...</td>\n",
       "    </tr>\n",
       "    <tr>\n",
       "      <th>398</th>\n",
       "      <td>dummy_model</td>\n",
       "      <td>test_dataset</td>\n",
       "      <td>base</td>\n",
       "      <td>main</td>\n",
       "      <td>prompt_only</td>\n",
       "      <td>18</td>\n",
       "      <td>../../data_for_classification/activations/dumm...</td>\n",
       "    </tr>\n",
       "    <tr>\n",
       "      <th>399</th>\n",
       "      <td>dummy_model</td>\n",
       "      <td>test_dataset</td>\n",
       "      <td>base</td>\n",
       "      <td>main</td>\n",
       "      <td>prompt_only</td>\n",
       "      <td>11</td>\n",
       "      <td>../../data_for_classification/activations/dumm...</td>\n",
       "    </tr>\n",
       "    <tr>\n",
       "      <th>400</th>\n",
       "      <td>dummy_model</td>\n",
       "      <td>test_dataset</td>\n",
       "      <td>base</td>\n",
       "      <td>main</td>\n",
       "      <td>prompt_only</td>\n",
       "      <td>16</td>\n",
       "      <td>../../data_for_classification/activations/dumm...</td>\n",
       "    </tr>\n",
       "    <tr>\n",
       "      <th>401</th>\n",
       "      <td>dummy_model</td>\n",
       "      <td>test_dataset</td>\n",
       "      <td>base</td>\n",
       "      <td>main</td>\n",
       "      <td>prompt_only</td>\n",
       "      <td>29</td>\n",
       "      <td>../../data_for_classification/activations/dumm...</td>\n",
       "    </tr>\n",
       "    <tr>\n",
       "      <th>402</th>\n",
       "      <td>dummy_model</td>\n",
       "      <td>test_dataset</td>\n",
       "      <td>base</td>\n",
       "      <td>main</td>\n",
       "      <td>prompt_only</td>\n",
       "      <td>30</td>\n",
       "      <td>../../data_for_classification/activations/dumm...</td>\n",
       "    </tr>\n",
       "    <tr>\n",
       "      <th>403</th>\n",
       "      <td>dummy_model</td>\n",
       "      <td>test_dataset</td>\n",
       "      <td>base</td>\n",
       "      <td>main</td>\n",
       "      <td>prompt_only</td>\n",
       "      <td>31</td>\n",
       "      <td>../../data_for_classification/activations/dumm...</td>\n",
       "    </tr>\n",
       "    <tr>\n",
       "      <th>404</th>\n",
       "      <td>dummy_model</td>\n",
       "      <td>test_dataset</td>\n",
       "      <td>base</td>\n",
       "      <td>main</td>\n",
       "      <td>prompt_only</td>\n",
       "      <td>13</td>\n",
       "      <td>../../data_for_classification/activations/dumm...</td>\n",
       "    </tr>\n",
       "    <tr>\n",
       "      <th>405</th>\n",
       "      <td>dummy_model</td>\n",
       "      <td>test_dataset</td>\n",
       "      <td>base</td>\n",
       "      <td>main</td>\n",
       "      <td>prompt_only</td>\n",
       "      <td>14</td>\n",
       "      <td>../../data_for_classification/activations/dumm...</td>\n",
       "    </tr>\n",
       "    <tr>\n",
       "      <th>406</th>\n",
       "      <td>dummy_model</td>\n",
       "      <td>test_dataset</td>\n",
       "      <td>base</td>\n",
       "      <td>main</td>\n",
       "      <td>prompt_only</td>\n",
       "      <td>22</td>\n",
       "      <td>../../data_for_classification/activations/dumm...</td>\n",
       "    </tr>\n",
       "    <tr>\n",
       "      <th>407</th>\n",
       "      <td>dummy_model</td>\n",
       "      <td>test_dataset</td>\n",
       "      <td>base</td>\n",
       "      <td>main</td>\n",
       "      <td>prompt_only</td>\n",
       "      <td>25</td>\n",
       "      <td>../../data_for_classification/activations/dumm...</td>\n",
       "    </tr>\n",
       "    <tr>\n",
       "      <th>408</th>\n",
       "      <td>dummy_model</td>\n",
       "      <td>test_dataset</td>\n",
       "      <td>base</td>\n",
       "      <td>main</td>\n",
       "      <td>prompt_only</td>\n",
       "      <td>4</td>\n",
       "      <td>../../data_for_classification/activations/dumm...</td>\n",
       "    </tr>\n",
       "    <tr>\n",
       "      <th>409</th>\n",
       "      <td>dummy_model</td>\n",
       "      <td>test_dataset</td>\n",
       "      <td>base</td>\n",
       "      <td>main</td>\n",
       "      <td>prompt_only</td>\n",
       "      <td>3</td>\n",
       "      <td>../../data_for_classification/activations/dumm...</td>\n",
       "    </tr>\n",
       "    <tr>\n",
       "      <th>410</th>\n",
       "      <td>dummy_model</td>\n",
       "      <td>test_dataset</td>\n",
       "      <td>base</td>\n",
       "      <td>main</td>\n",
       "      <td>prompt_only</td>\n",
       "      <td>24</td>\n",
       "      <td>../../data_for_classification/activations/dumm...</td>\n",
       "    </tr>\n",
       "    <tr>\n",
       "      <th>411</th>\n",
       "      <td>dummy_model</td>\n",
       "      <td>test_dataset</td>\n",
       "      <td>base</td>\n",
       "      <td>main</td>\n",
       "      <td>prompt_only</td>\n",
       "      <td>23</td>\n",
       "      <td>../../data_for_classification/activations/dumm...</td>\n",
       "    </tr>\n",
       "    <tr>\n",
       "      <th>412</th>\n",
       "      <td>dummy_model</td>\n",
       "      <td>test_dataset</td>\n",
       "      <td>base</td>\n",
       "      <td>main</td>\n",
       "      <td>prompt_only</td>\n",
       "      <td>15</td>\n",
       "      <td>../../data_for_classification/activations/dumm...</td>\n",
       "    </tr>\n",
       "    <tr>\n",
       "      <th>413</th>\n",
       "      <td>dummy_model</td>\n",
       "      <td>test_dataset</td>\n",
       "      <td>base</td>\n",
       "      <td>main</td>\n",
       "      <td>prompt_only</td>\n",
       "      <td>12</td>\n",
       "      <td>../../data_for_classification/activations/dumm...</td>\n",
       "    </tr>\n",
       "    <tr>\n",
       "      <th>414</th>\n",
       "      <td>dummy_model</td>\n",
       "      <td>test_dataset</td>\n",
       "      <td>base</td>\n",
       "      <td>main</td>\n",
       "      <td>prompt_only</td>\n",
       "      <td>2</td>\n",
       "      <td>../../data_for_classification/activations/dumm...</td>\n",
       "    </tr>\n",
       "    <tr>\n",
       "      <th>415</th>\n",
       "      <td>dummy_model</td>\n",
       "      <td>test_dataset</td>\n",
       "      <td>base</td>\n",
       "      <td>main</td>\n",
       "      <td>prompt_only</td>\n",
       "      <td>5</td>\n",
       "      <td>../../data_for_classification/activations/dumm...</td>\n",
       "    </tr>\n",
       "  </tbody>\n",
       "</table>\n",
       "</div>"
      ],
      "text/plain": [
       "        model_id    dataset_id prompt_id subset_id   input_type  layer  \\\n",
       "384  dummy_model  test_dataset      base      main  prompt_only      0   \n",
       "385  dummy_model  test_dataset      base      main  prompt_only      7   \n",
       "386  dummy_model  test_dataset      base      main  prompt_only      9   \n",
       "387  dummy_model  test_dataset      base      main  prompt_only     17   \n",
       "388  dummy_model  test_dataset      base      main  prompt_only     28   \n",
       "389  dummy_model  test_dataset      base      main  prompt_only     10   \n",
       "390  dummy_model  test_dataset      base      main  prompt_only     26   \n",
       "391  dummy_model  test_dataset      base      main  prompt_only     19   \n",
       "392  dummy_model  test_dataset      base      main  prompt_only     21   \n",
       "393  dummy_model  test_dataset      base      main  prompt_only      8   \n",
       "394  dummy_model  test_dataset      base      main  prompt_only      6   \n",
       "395  dummy_model  test_dataset      base      main  prompt_only      1   \n",
       "396  dummy_model  test_dataset      base      main  prompt_only     20   \n",
       "397  dummy_model  test_dataset      base      main  prompt_only     27   \n",
       "398  dummy_model  test_dataset      base      main  prompt_only     18   \n",
       "399  dummy_model  test_dataset      base      main  prompt_only     11   \n",
       "400  dummy_model  test_dataset      base      main  prompt_only     16   \n",
       "401  dummy_model  test_dataset      base      main  prompt_only     29   \n",
       "402  dummy_model  test_dataset      base      main  prompt_only     30   \n",
       "403  dummy_model  test_dataset      base      main  prompt_only     31   \n",
       "404  dummy_model  test_dataset      base      main  prompt_only     13   \n",
       "405  dummy_model  test_dataset      base      main  prompt_only     14   \n",
       "406  dummy_model  test_dataset      base      main  prompt_only     22   \n",
       "407  dummy_model  test_dataset      base      main  prompt_only     25   \n",
       "408  dummy_model  test_dataset      base      main  prompt_only      4   \n",
       "409  dummy_model  test_dataset      base      main  prompt_only      3   \n",
       "410  dummy_model  test_dataset      base      main  prompt_only     24   \n",
       "411  dummy_model  test_dataset      base      main  prompt_only     23   \n",
       "412  dummy_model  test_dataset      base      main  prompt_only     15   \n",
       "413  dummy_model  test_dataset      base      main  prompt_only     12   \n",
       "414  dummy_model  test_dataset      base      main  prompt_only      2   \n",
       "415  dummy_model  test_dataset      base      main  prompt_only      5   \n",
       "\n",
       "                                                  path  \n",
       "384  ../../data_for_classification/activations/dumm...  \n",
       "385  ../../data_for_classification/activations/dumm...  \n",
       "386  ../../data_for_classification/activations/dumm...  \n",
       "387  ../../data_for_classification/activations/dumm...  \n",
       "388  ../../data_for_classification/activations/dumm...  \n",
       "389  ../../data_for_classification/activations/dumm...  \n",
       "390  ../../data_for_classification/activations/dumm...  \n",
       "391  ../../data_for_classification/activations/dumm...  \n",
       "392  ../../data_for_classification/activations/dumm...  \n",
       "393  ../../data_for_classification/activations/dumm...  \n",
       "394  ../../data_for_classification/activations/dumm...  \n",
       "395  ../../data_for_classification/activations/dumm...  \n",
       "396  ../../data_for_classification/activations/dumm...  \n",
       "397  ../../data_for_classification/activations/dumm...  \n",
       "398  ../../data_for_classification/activations/dumm...  \n",
       "399  ../../data_for_classification/activations/dumm...  \n",
       "400  ../../data_for_classification/activations/dumm...  \n",
       "401  ../../data_for_classification/activations/dumm...  \n",
       "402  ../../data_for_classification/activations/dumm...  \n",
       "403  ../../data_for_classification/activations/dumm...  \n",
       "404  ../../data_for_classification/activations/dumm...  \n",
       "405  ../../data_for_classification/activations/dumm...  \n",
       "406  ../../data_for_classification/activations/dumm...  \n",
       "407  ../../data_for_classification/activations/dumm...  \n",
       "408  ../../data_for_classification/activations/dumm...  \n",
       "409  ../../data_for_classification/activations/dumm...  \n",
       "410  ../../data_for_classification/activations/dumm...  \n",
       "411  ../../data_for_classification/activations/dumm...  \n",
       "412  ../../data_for_classification/activations/dumm...  \n",
       "413  ../../data_for_classification/activations/dumm...  \n",
       "414  ../../data_for_classification/activations/dumm...  \n",
       "415  ../../data_for_classification/activations/dumm...  "
      ]
     },
     "execution_count": 50,
     "metadata": {},
     "output_type": "execute_result"
    }
   ],
   "source": [
    "# Set None to get all\n",
    "# MODEL_ID = \"llama3.1_8b_chat\"\n",
    "MODEL_ID = \"dummy_model\"\n",
    "# DATASET_ID = \"gsm8k\"\n",
    "# PROMPT_ID = \"cot_3_shot\"\n",
    "# SUBSET_ID = \"main\"\n",
    "# INPUT_TYPE = \"prompt_only\"\n",
    "DATASET_ID = None\n",
    "PROMPT_ID = None\n",
    "SUBSET_ID = None\n",
    "INPUT_TYPE = None\n",
    "\n",
    "activation_exp_configs_df = get_experiment_activations_configs_df_subset(\n",
    "    base_path=BASE_PATH,\n",
    "    model_id=MODEL_ID,\n",
    "    dataset_id=DATASET_ID,\n",
    "    prompt_id=PROMPT_ID,\n",
    "    subset_id=SUBSET_ID,\n",
    "    input_type=INPUT_TYPE,\n",
    ")\n",
    "activation_exp_configs_df"
   ]
  },
  {
   "cell_type": "code",
   "execution_count": 51,
   "metadata": {},
   "outputs": [
    {
     "name": "stdout",
     "output_type": "stream",
     "text": [
      "\n",
      "model_id='dummy_model', dataset_id='test_dataset', prompt_id='base', subset_id='main', input_type='prompt_only'\n",
      "layer=0, layer=1, layer=2, layer=3, layer=4, layer=5, layer=6, layer=7, layer=8, layer=9, layer=10, layer=11, layer=12, layer=13, layer=14, layer=15, layer=16, layer=17, layer=18, layer=19, layer=20, layer=21, layer=22, layer=23, layer=24, layer=25, layer=26, layer=27, layer=28, layer=29, layer=30, layer=31, "
     ]
    }
   ],
   "source": [
    "between_over_within_class_variance_dict = defaultdict(list)\n",
    "\n",
    "for (model_id, dataset_id, prompt_id, subset_id, input_type), config_df in activation_exp_configs_df.groupby([\"model_id\", \"dataset_id\", \"prompt_id\", \"subset_id\", \"input_type\"]):\n",
    "    print(f\"\\n{model_id=}, {dataset_id=}, {prompt_id=}, {subset_id=}, {input_type=}\")\n",
    "    labels_df = load_labels(\n",
    "        base_path=BASE_PATH,\n",
    "        model_id=model_id,\n",
    "        dataset_id=dataset_id,\n",
    "        prompt_id=prompt_id,\n",
    "        subset_id=subset_id,\n",
    "    )\n",
    "\n",
    "    check_indices = None\n",
    "    for layer in config_df[\"layer\"].astype(int).sort_values():\n",
    "        print(f\"{layer=}\", end=\", \")\n",
    "        activations, indices = load_activations(\n",
    "            base_path=BASE_PATH,\n",
    "            model_id=model_id,\n",
    "            dataset_id=dataset_id,\n",
    "            prompt_id=prompt_id,\n",
    "            subset_id=subset_id,\n",
    "            input_type=input_type,\n",
    "            layer=layer,\n",
    "        )\n",
    "        \n",
    "        if check_indices is None:\n",
    "            check_indices = indices.sample(frac=1, replace=False)\n",
    "        \n",
    "        if set(indices) != set(check_indices):\n",
    "            raise RuntimeError(f\"indices across layers are not the same\")\n",
    "\n",
    "        labels_df_subset = labels_df.iloc[check_indices]\n",
    "        activations = activations[check_indices]\n",
    "\n",
    "        activations_handler = ActivationsHandler(\n",
    "            activations=activations,\n",
    "            labels=labels_df_subset[\"correct\"].astype(bool),\n",
    "        )\n",
    "\n",
    "        activations_handler, _ = activations_handler.reduce_dims(pca_components=PCA_COMPONENTS)\n",
    "\n",
    "        between_class_variance, within_class_variance = get_between_class_variance_and_within_class_variance(\n",
    "            activations_handler.sample_equally_across_groups(group_labels=(False, True)),\n",
    "            group_labels=(False, True),\n",
    "        )\n",
    "        between_over_within_class_variance_dict[\"model_id\"].append(model_id)\n",
    "        between_over_within_class_variance_dict[\"dataset_id\"].append(dataset_id)\n",
    "        between_over_within_class_variance_dict[\"prompt_id\"].append(prompt_id)\n",
    "        between_over_within_class_variance_dict[\"subset_id\"].append(subset_id)\n",
    "        between_over_within_class_variance_dict[\"input_type\"].append(input_type)\n",
    "        between_over_within_class_variance_dict[\"layer\"].append(layer)\n",
    "        between_over_within_class_variance_dict[\"between_class_variance\"].append(between_class_variance)\n",
    "        between_over_within_class_variance_dict[\"within_class_variance\"].append(within_class_variance)\n",
    "        between_over_within_class_variance_dict[\"between_over_within_class_variance\"].append(between_class_variance/within_class_variance)\n",
    "\n",
    "between_over_within_class_variance_df = pd.DataFrame(between_over_within_class_variance_dict)\n"
   ]
  },
  {
   "cell_type": "code",
   "execution_count": 52,
   "metadata": {},
   "outputs": [
    {
     "data": {
      "application/vnd.plotly.v1+json": {
       "config": {
        "plotlyServerURL": "https://plot.ly"
       },
       "data": [
        {
         "legendgroup": "('dummy_model', 'test_dataset', 'base', 'main', 'prompt_only')",
         "line": {
          "color": "#1f77b4",
          "width": 2
         },
         "marker": {
          "size": 8
         },
         "mode": "lines+markers",
         "name": "('dummy_model', 'test_dataset', 'base', 'main', 'prompt_only')",
         "type": "scatter",
         "x": {
          "bdata": "AAECAwQFBgcICQoLDA0ODxAREhMUFRYXGBkaGxwdHh8=",
          "dtype": "i1"
         },
         "y": {
          "bdata": "IBrPLbCChT+tX9EvkoOIP2xevCwfZ4Q/9h2hkrOqgz/DcBnes/qEPyHeiXzydYQ/fY3bfACYhj/IympB1eqGP/8TQhCfJ4c/2J3JbHtOiD951uxjTMCJPwUoABibKIs/oO2izZlWjj8jsl7lqauRP4KXfaTuYZM/C1LxfOHMlT/Om6mQF4uWP+WW4ygrSpk/nghKTNsnlz/iYJDeAIeVP1zZwKFgWJM/XrKLQeemlD/IAAX/XayTP9raqnwO05I/+bRCAkqikT/eA2N1PiOMP2+vSAI/qI4/VDK61p/Uiz8pQfamzhiJP2ZPpzdVGIc/kwSx8DQphT9CUMmuMxmDPw==",
          "dtype": "f8"
         }
        }
       ],
       "layout": {
        "font": {
         "color": "white"
        },
        "height": 600,
        "legend": {
         "bgcolor": "rgba(32, 32, 32, 0.8)",
         "orientation": "h",
         "x": 0.5,
         "xanchor": "center",
         "y": 1.02,
         "yanchor": "bottom"
        },
        "margin": {
         "b": 50,
         "l": 50,
         "r": 30,
         "t": 100
        },
        "paper_bgcolor": "rgba(32, 32, 32, 1)",
        "plot_bgcolor": "rgba(32, 32, 32, 1)",
        "showlegend": true,
        "template": {
         "data": {
          "bar": [
           {
            "error_x": {
             "color": "#f2f5fa"
            },
            "error_y": {
             "color": "#f2f5fa"
            },
            "marker": {
             "line": {
              "color": "rgb(17,17,17)",
              "width": 0.5
             },
             "pattern": {
              "fillmode": "overlay",
              "size": 10,
              "solidity": 0.2
             }
            },
            "type": "bar"
           }
          ],
          "barpolar": [
           {
            "marker": {
             "line": {
              "color": "rgb(17,17,17)",
              "width": 0.5
             },
             "pattern": {
              "fillmode": "overlay",
              "size": 10,
              "solidity": 0.2
             }
            },
            "type": "barpolar"
           }
          ],
          "carpet": [
           {
            "aaxis": {
             "endlinecolor": "#A2B1C6",
             "gridcolor": "#506784",
             "linecolor": "#506784",
             "minorgridcolor": "#506784",
             "startlinecolor": "#A2B1C6"
            },
            "baxis": {
             "endlinecolor": "#A2B1C6",
             "gridcolor": "#506784",
             "linecolor": "#506784",
             "minorgridcolor": "#506784",
             "startlinecolor": "#A2B1C6"
            },
            "type": "carpet"
           }
          ],
          "choropleth": [
           {
            "colorbar": {
             "outlinewidth": 0,
             "ticks": ""
            },
            "type": "choropleth"
           }
          ],
          "contour": [
           {
            "colorbar": {
             "outlinewidth": 0,
             "ticks": ""
            },
            "colorscale": [
             [
              0,
              "#0d0887"
             ],
             [
              0.1111111111111111,
              "#46039f"
             ],
             [
              0.2222222222222222,
              "#7201a8"
             ],
             [
              0.3333333333333333,
              "#9c179e"
             ],
             [
              0.4444444444444444,
              "#bd3786"
             ],
             [
              0.5555555555555556,
              "#d8576b"
             ],
             [
              0.6666666666666666,
              "#ed7953"
             ],
             [
              0.7777777777777778,
              "#fb9f3a"
             ],
             [
              0.8888888888888888,
              "#fdca26"
             ],
             [
              1,
              "#f0f921"
             ]
            ],
            "type": "contour"
           }
          ],
          "contourcarpet": [
           {
            "colorbar": {
             "outlinewidth": 0,
             "ticks": ""
            },
            "type": "contourcarpet"
           }
          ],
          "heatmap": [
           {
            "colorbar": {
             "outlinewidth": 0,
             "ticks": ""
            },
            "colorscale": [
             [
              0,
              "#0d0887"
             ],
             [
              0.1111111111111111,
              "#46039f"
             ],
             [
              0.2222222222222222,
              "#7201a8"
             ],
             [
              0.3333333333333333,
              "#9c179e"
             ],
             [
              0.4444444444444444,
              "#bd3786"
             ],
             [
              0.5555555555555556,
              "#d8576b"
             ],
             [
              0.6666666666666666,
              "#ed7953"
             ],
             [
              0.7777777777777778,
              "#fb9f3a"
             ],
             [
              0.8888888888888888,
              "#fdca26"
             ],
             [
              1,
              "#f0f921"
             ]
            ],
            "type": "heatmap"
           }
          ],
          "histogram": [
           {
            "marker": {
             "pattern": {
              "fillmode": "overlay",
              "size": 10,
              "solidity": 0.2
             }
            },
            "type": "histogram"
           }
          ],
          "histogram2d": [
           {
            "colorbar": {
             "outlinewidth": 0,
             "ticks": ""
            },
            "colorscale": [
             [
              0,
              "#0d0887"
             ],
             [
              0.1111111111111111,
              "#46039f"
             ],
             [
              0.2222222222222222,
              "#7201a8"
             ],
             [
              0.3333333333333333,
              "#9c179e"
             ],
             [
              0.4444444444444444,
              "#bd3786"
             ],
             [
              0.5555555555555556,
              "#d8576b"
             ],
             [
              0.6666666666666666,
              "#ed7953"
             ],
             [
              0.7777777777777778,
              "#fb9f3a"
             ],
             [
              0.8888888888888888,
              "#fdca26"
             ],
             [
              1,
              "#f0f921"
             ]
            ],
            "type": "histogram2d"
           }
          ],
          "histogram2dcontour": [
           {
            "colorbar": {
             "outlinewidth": 0,
             "ticks": ""
            },
            "colorscale": [
             [
              0,
              "#0d0887"
             ],
             [
              0.1111111111111111,
              "#46039f"
             ],
             [
              0.2222222222222222,
              "#7201a8"
             ],
             [
              0.3333333333333333,
              "#9c179e"
             ],
             [
              0.4444444444444444,
              "#bd3786"
             ],
             [
              0.5555555555555556,
              "#d8576b"
             ],
             [
              0.6666666666666666,
              "#ed7953"
             ],
             [
              0.7777777777777778,
              "#fb9f3a"
             ],
             [
              0.8888888888888888,
              "#fdca26"
             ],
             [
              1,
              "#f0f921"
             ]
            ],
            "type": "histogram2dcontour"
           }
          ],
          "mesh3d": [
           {
            "colorbar": {
             "outlinewidth": 0,
             "ticks": ""
            },
            "type": "mesh3d"
           }
          ],
          "parcoords": [
           {
            "line": {
             "colorbar": {
              "outlinewidth": 0,
              "ticks": ""
             }
            },
            "type": "parcoords"
           }
          ],
          "pie": [
           {
            "automargin": true,
            "type": "pie"
           }
          ],
          "scatter": [
           {
            "marker": {
             "line": {
              "color": "#283442"
             }
            },
            "type": "scatter"
           }
          ],
          "scatter3d": [
           {
            "line": {
             "colorbar": {
              "outlinewidth": 0,
              "ticks": ""
             }
            },
            "marker": {
             "colorbar": {
              "outlinewidth": 0,
              "ticks": ""
             }
            },
            "type": "scatter3d"
           }
          ],
          "scattercarpet": [
           {
            "marker": {
             "colorbar": {
              "outlinewidth": 0,
              "ticks": ""
             }
            },
            "type": "scattercarpet"
           }
          ],
          "scattergeo": [
           {
            "marker": {
             "colorbar": {
              "outlinewidth": 0,
              "ticks": ""
             }
            },
            "type": "scattergeo"
           }
          ],
          "scattergl": [
           {
            "marker": {
             "line": {
              "color": "#283442"
             }
            },
            "type": "scattergl"
           }
          ],
          "scattermap": [
           {
            "marker": {
             "colorbar": {
              "outlinewidth": 0,
              "ticks": ""
             }
            },
            "type": "scattermap"
           }
          ],
          "scattermapbox": [
           {
            "marker": {
             "colorbar": {
              "outlinewidth": 0,
              "ticks": ""
             }
            },
            "type": "scattermapbox"
           }
          ],
          "scatterpolar": [
           {
            "marker": {
             "colorbar": {
              "outlinewidth": 0,
              "ticks": ""
             }
            },
            "type": "scatterpolar"
           }
          ],
          "scatterpolargl": [
           {
            "marker": {
             "colorbar": {
              "outlinewidth": 0,
              "ticks": ""
             }
            },
            "type": "scatterpolargl"
           }
          ],
          "scatterternary": [
           {
            "marker": {
             "colorbar": {
              "outlinewidth": 0,
              "ticks": ""
             }
            },
            "type": "scatterternary"
           }
          ],
          "surface": [
           {
            "colorbar": {
             "outlinewidth": 0,
             "ticks": ""
            },
            "colorscale": [
             [
              0,
              "#0d0887"
             ],
             [
              0.1111111111111111,
              "#46039f"
             ],
             [
              0.2222222222222222,
              "#7201a8"
             ],
             [
              0.3333333333333333,
              "#9c179e"
             ],
             [
              0.4444444444444444,
              "#bd3786"
             ],
             [
              0.5555555555555556,
              "#d8576b"
             ],
             [
              0.6666666666666666,
              "#ed7953"
             ],
             [
              0.7777777777777778,
              "#fb9f3a"
             ],
             [
              0.8888888888888888,
              "#fdca26"
             ],
             [
              1,
              "#f0f921"
             ]
            ],
            "type": "surface"
           }
          ],
          "table": [
           {
            "cells": {
             "fill": {
              "color": "#506784"
             },
             "line": {
              "color": "rgb(17,17,17)"
             }
            },
            "header": {
             "fill": {
              "color": "#2a3f5f"
             },
             "line": {
              "color": "rgb(17,17,17)"
             }
            },
            "type": "table"
           }
          ]
         },
         "layout": {
          "annotationdefaults": {
           "arrowcolor": "#f2f5fa",
           "arrowhead": 0,
           "arrowwidth": 1
          },
          "autotypenumbers": "strict",
          "coloraxis": {
           "colorbar": {
            "outlinewidth": 0,
            "ticks": ""
           }
          },
          "colorscale": {
           "diverging": [
            [
             0,
             "#8e0152"
            ],
            [
             0.1,
             "#c51b7d"
            ],
            [
             0.2,
             "#de77ae"
            ],
            [
             0.3,
             "#f1b6da"
            ],
            [
             0.4,
             "#fde0ef"
            ],
            [
             0.5,
             "#f7f7f7"
            ],
            [
             0.6,
             "#e6f5d0"
            ],
            [
             0.7,
             "#b8e186"
            ],
            [
             0.8,
             "#7fbc41"
            ],
            [
             0.9,
             "#4d9221"
            ],
            [
             1,
             "#276419"
            ]
           ],
           "sequential": [
            [
             0,
             "#0d0887"
            ],
            [
             0.1111111111111111,
             "#46039f"
            ],
            [
             0.2222222222222222,
             "#7201a8"
            ],
            [
             0.3333333333333333,
             "#9c179e"
            ],
            [
             0.4444444444444444,
             "#bd3786"
            ],
            [
             0.5555555555555556,
             "#d8576b"
            ],
            [
             0.6666666666666666,
             "#ed7953"
            ],
            [
             0.7777777777777778,
             "#fb9f3a"
            ],
            [
             0.8888888888888888,
             "#fdca26"
            ],
            [
             1,
             "#f0f921"
            ]
           ],
           "sequentialminus": [
            [
             0,
             "#0d0887"
            ],
            [
             0.1111111111111111,
             "#46039f"
            ],
            [
             0.2222222222222222,
             "#7201a8"
            ],
            [
             0.3333333333333333,
             "#9c179e"
            ],
            [
             0.4444444444444444,
             "#bd3786"
            ],
            [
             0.5555555555555556,
             "#d8576b"
            ],
            [
             0.6666666666666666,
             "#ed7953"
            ],
            [
             0.7777777777777778,
             "#fb9f3a"
            ],
            [
             0.8888888888888888,
             "#fdca26"
            ],
            [
             1,
             "#f0f921"
            ]
           ]
          },
          "colorway": [
           "#636efa",
           "#EF553B",
           "#00cc96",
           "#ab63fa",
           "#FFA15A",
           "#19d3f3",
           "#FF6692",
           "#B6E880",
           "#FF97FF",
           "#FECB52"
          ],
          "font": {
           "color": "#f2f5fa"
          },
          "geo": {
           "bgcolor": "rgb(17,17,17)",
           "lakecolor": "rgb(17,17,17)",
           "landcolor": "rgb(17,17,17)",
           "showlakes": true,
           "showland": true,
           "subunitcolor": "#506784"
          },
          "hoverlabel": {
           "align": "left"
          },
          "hovermode": "closest",
          "mapbox": {
           "style": "dark"
          },
          "paper_bgcolor": "rgb(17,17,17)",
          "plot_bgcolor": "rgb(17,17,17)",
          "polar": {
           "angularaxis": {
            "gridcolor": "#506784",
            "linecolor": "#506784",
            "ticks": ""
           },
           "bgcolor": "rgb(17,17,17)",
           "radialaxis": {
            "gridcolor": "#506784",
            "linecolor": "#506784",
            "ticks": ""
           }
          },
          "scene": {
           "xaxis": {
            "backgroundcolor": "rgb(17,17,17)",
            "gridcolor": "#506784",
            "gridwidth": 2,
            "linecolor": "#506784",
            "showbackground": true,
            "ticks": "",
            "zerolinecolor": "#C8D4E3"
           },
           "yaxis": {
            "backgroundcolor": "rgb(17,17,17)",
            "gridcolor": "#506784",
            "gridwidth": 2,
            "linecolor": "#506784",
            "showbackground": true,
            "ticks": "",
            "zerolinecolor": "#C8D4E3"
           },
           "zaxis": {
            "backgroundcolor": "rgb(17,17,17)",
            "gridcolor": "#506784",
            "gridwidth": 2,
            "linecolor": "#506784",
            "showbackground": true,
            "ticks": "",
            "zerolinecolor": "#C8D4E3"
           }
          },
          "shapedefaults": {
           "line": {
            "color": "#f2f5fa"
           }
          },
          "sliderdefaults": {
           "bgcolor": "#C8D4E3",
           "bordercolor": "rgb(17,17,17)",
           "borderwidth": 1,
           "tickwidth": 0
          },
          "ternary": {
           "aaxis": {
            "gridcolor": "#506784",
            "linecolor": "#506784",
            "ticks": ""
           },
           "baxis": {
            "gridcolor": "#506784",
            "linecolor": "#506784",
            "ticks": ""
           },
           "bgcolor": "rgb(17,17,17)",
           "caxis": {
            "gridcolor": "#506784",
            "linecolor": "#506784",
            "ticks": ""
           }
          },
          "title": {
           "x": 0.05
          },
          "updatemenudefaults": {
           "bgcolor": "#506784",
           "borderwidth": 0
          },
          "xaxis": {
           "automargin": true,
           "gridcolor": "#283442",
           "linecolor": "#506784",
           "ticks": "",
           "title": {
            "standoff": 15
           },
           "zerolinecolor": "#283442",
           "zerolinewidth": 2
          },
          "yaxis": {
           "automargin": true,
           "gridcolor": "#283442",
           "linecolor": "#506784",
           "ticks": "",
           "title": {
            "standoff": 15
           },
           "zerolinecolor": "#283442",
           "zerolinewidth": 2
          }
         }
        },
        "title": {},
        "width": 1000,
        "xaxis": {
         "gridcolor": "rgba(128, 128, 128, 0.2)",
         "title": {
          "text": "Layer"
         },
         "zeroline": false
        },
        "yaxis": {
         "gridcolor": "rgba(128, 128, 128, 0.2)",
         "title": {
          "text": "Between Class Variance / Within Class Variance"
         },
         "zeroline": false
        }
       }
      }
     },
     "metadata": {},
     "output_type": "display_data"
    }
   ],
   "source": [
    "plot_interactive_lineplot(\n",
    "    df_dict={str(k): v.set_index(\"layer\")[[\"between_over_within_class_variance\"]] for k, v in between_over_within_class_variance_df.groupby([\"model_id\", \"dataset_id\", \"prompt_id\", \"subset_id\", \"input_type\"])},\n",
    "    x_label=\"Layer\",\n",
    "    y_label=\"Between Class Variance / Within Class Variance\",\n",
    "    save_path=f\"./classification_data/figures/dummy_data_between_over_within_class_variance{N_DIMS_LABEL}{PCA_COMONENTS_LABEL}.html\"\n",
    ")"
   ]
  },
  {
   "cell_type": "code",
   "execution_count": 53,
   "metadata": {},
   "outputs": [
    {
     "name": "stdout",
     "output_type": "stream",
     "text": [
      "\n",
      "model_id='dummy_model', dataset_id='test_dataset', prompt_id='base', subset_id='main', input_type='prompt_only'\n",
      "layer=0, layer=1, layer=2, layer=3, layer=4, layer=5, layer=6, layer=7, layer=8, layer=9, layer=10, "
     ]
    },
    {
     "name": "stderr",
     "output_type": "stream",
     "text": [
      "/Users/anton/dev/MARS/correctness-model-internals/venv/lib/python3.11/site-packages/sklearn/metrics/_classification.py:1509: UndefinedMetricWarning:\n",
      "\n",
      "Precision is ill-defined and being set to 0.0 due to no predicted samples. Use `zero_division` parameter to control this behavior.\n",
      "\n"
     ]
    },
    {
     "name": "stdout",
     "output_type": "stream",
     "text": [
      "layer=11, layer=12, layer=13, layer=14, layer=15, layer=16, layer=17, layer=18, layer=19, layer=20, layer=21, layer=22, layer=23, layer=24, layer=25, layer=26, layer=27, layer=28, layer=29, layer=30, layer=31, "
     ]
    },
    {
     "data": {
      "text/html": [
       "<div>\n",
       "<style scoped>\n",
       "    .dataframe tbody tr th:only-of-type {\n",
       "        vertical-align: middle;\n",
       "    }\n",
       "\n",
       "    .dataframe tbody tr th {\n",
       "        vertical-align: top;\n",
       "    }\n",
       "\n",
       "    .dataframe thead th {\n",
       "        text-align: right;\n",
       "    }\n",
       "</style>\n",
       "<table border=\"1\" class=\"dataframe\">\n",
       "  <thead>\n",
       "    <tr style=\"text-align: right;\">\n",
       "      <th></th>\n",
       "      <th>model_id</th>\n",
       "      <th>dataset_id</th>\n",
       "      <th>prompt_id</th>\n",
       "      <th>subset_id</th>\n",
       "      <th>input_type</th>\n",
       "      <th>layer</th>\n",
       "      <th>fold</th>\n",
       "      <th>direction_optimal_cut</th>\n",
       "      <th>direction_optimal_train_set_cut</th>\n",
       "      <th>direction_test_roc_auc</th>\n",
       "      <th>...</th>\n",
       "      <th>direction_f1_score</th>\n",
       "      <th>direction_precision_score</th>\n",
       "      <th>direction_recall_score</th>\n",
       "      <th>logistic_regression_optimal_cut</th>\n",
       "      <th>logistic_regression_optimal_train_set_cut</th>\n",
       "      <th>logistic_regression_test_roc_auc</th>\n",
       "      <th>logistic_regression_accuracy_score</th>\n",
       "      <th>logistic_regression_f1_score</th>\n",
       "      <th>logistic_regression_precision_score</th>\n",
       "      <th>logistic_regression_recall_score</th>\n",
       "    </tr>\n",
       "  </thead>\n",
       "  <tbody>\n",
       "    <tr>\n",
       "      <th>0</th>\n",
       "      <td>dummy_model</td>\n",
       "      <td>test_dataset</td>\n",
       "      <td>base</td>\n",
       "      <td>main</td>\n",
       "      <td>prompt_only</td>\n",
       "      <td>0</td>\n",
       "      <td>0</td>\n",
       "      <td>-0.627963</td>\n",
       "      <td>-0.627963</td>\n",
       "      <td>0.570000</td>\n",
       "      <td>...</td>\n",
       "      <td>0.714286</td>\n",
       "      <td>0.555556</td>\n",
       "      <td>1.000000</td>\n",
       "      <td>0.5</td>\n",
       "      <td>0.953964</td>\n",
       "      <td>0.600000</td>\n",
       "      <td>0.600000</td>\n",
       "      <td>0.666667</td>\n",
       "      <td>0.571429</td>\n",
       "      <td>0.800000</td>\n",
       "    </tr>\n",
       "    <tr>\n",
       "      <th>1</th>\n",
       "      <td>dummy_model</td>\n",
       "      <td>test_dataset</td>\n",
       "      <td>base</td>\n",
       "      <td>main</td>\n",
       "      <td>prompt_only</td>\n",
       "      <td>0</td>\n",
       "      <td>1</td>\n",
       "      <td>-0.003010</td>\n",
       "      <td>-0.003010</td>\n",
       "      <td>0.580247</td>\n",
       "      <td>...</td>\n",
       "      <td>0.600000</td>\n",
       "      <td>0.545455</td>\n",
       "      <td>0.666667</td>\n",
       "      <td>0.5</td>\n",
       "      <td>0.955916</td>\n",
       "      <td>0.388889</td>\n",
       "      <td>0.388889</td>\n",
       "      <td>0.521739</td>\n",
       "      <td>0.428571</td>\n",
       "      <td>0.666667</td>\n",
       "    </tr>\n",
       "    <tr>\n",
       "      <th>2</th>\n",
       "      <td>dummy_model</td>\n",
       "      <td>test_dataset</td>\n",
       "      <td>base</td>\n",
       "      <td>main</td>\n",
       "      <td>prompt_only</td>\n",
       "      <td>0</td>\n",
       "      <td>2</td>\n",
       "      <td>1.212223</td>\n",
       "      <td>1.212223</td>\n",
       "      <td>0.472222</td>\n",
       "      <td>...</td>\n",
       "      <td>0.000000</td>\n",
       "      <td>0.000000</td>\n",
       "      <td>0.000000</td>\n",
       "      <td>0.5</td>\n",
       "      <td>0.955552</td>\n",
       "      <td>0.583333</td>\n",
       "      <td>0.583333</td>\n",
       "      <td>0.545455</td>\n",
       "      <td>0.600000</td>\n",
       "      <td>0.500000</td>\n",
       "    </tr>\n",
       "    <tr>\n",
       "      <th>3</th>\n",
       "      <td>dummy_model</td>\n",
       "      <td>test_dataset</td>\n",
       "      <td>base</td>\n",
       "      <td>main</td>\n",
       "      <td>prompt_only</td>\n",
       "      <td>0</td>\n",
       "      <td>3</td>\n",
       "      <td>0.931577</td>\n",
       "      <td>0.931577</td>\n",
       "      <td>0.551020</td>\n",
       "      <td>...</td>\n",
       "      <td>0.200000</td>\n",
       "      <td>0.333333</td>\n",
       "      <td>0.142857</td>\n",
       "      <td>0.5</td>\n",
       "      <td>0.956117</td>\n",
       "      <td>0.714286</td>\n",
       "      <td>0.714286</td>\n",
       "      <td>0.714286</td>\n",
       "      <td>0.714286</td>\n",
       "      <td>0.714286</td>\n",
       "    </tr>\n",
       "    <tr>\n",
       "      <th>4</th>\n",
       "      <td>dummy_model</td>\n",
       "      <td>test_dataset</td>\n",
       "      <td>base</td>\n",
       "      <td>main</td>\n",
       "      <td>prompt_only</td>\n",
       "      <td>0</td>\n",
       "      <td>4</td>\n",
       "      <td>0.049378</td>\n",
       "      <td>0.049378</td>\n",
       "      <td>0.470000</td>\n",
       "      <td>...</td>\n",
       "      <td>0.500000</td>\n",
       "      <td>0.500000</td>\n",
       "      <td>0.500000</td>\n",
       "      <td>0.5</td>\n",
       "      <td>0.956098</td>\n",
       "      <td>0.400000</td>\n",
       "      <td>0.400000</td>\n",
       "      <td>0.400000</td>\n",
       "      <td>0.400000</td>\n",
       "      <td>0.400000</td>\n",
       "    </tr>\n",
       "    <tr>\n",
       "      <th>...</th>\n",
       "      <td>...</td>\n",
       "      <td>...</td>\n",
       "      <td>...</td>\n",
       "      <td>...</td>\n",
       "      <td>...</td>\n",
       "      <td>...</td>\n",
       "      <td>...</td>\n",
       "      <td>...</td>\n",
       "      <td>...</td>\n",
       "      <td>...</td>\n",
       "      <td>...</td>\n",
       "      <td>...</td>\n",
       "      <td>...</td>\n",
       "      <td>...</td>\n",
       "      <td>...</td>\n",
       "      <td>...</td>\n",
       "      <td>...</td>\n",
       "      <td>...</td>\n",
       "      <td>...</td>\n",
       "      <td>...</td>\n",
       "      <td>...</td>\n",
       "    </tr>\n",
       "    <tr>\n",
       "      <th>155</th>\n",
       "      <td>dummy_model</td>\n",
       "      <td>test_dataset</td>\n",
       "      <td>base</td>\n",
       "      <td>main</td>\n",
       "      <td>prompt_only</td>\n",
       "      <td>31</td>\n",
       "      <td>0</td>\n",
       "      <td>0.941114</td>\n",
       "      <td>0.941114</td>\n",
       "      <td>0.340000</td>\n",
       "      <td>...</td>\n",
       "      <td>0.000000</td>\n",
       "      <td>0.000000</td>\n",
       "      <td>0.000000</td>\n",
       "      <td>0.5</td>\n",
       "      <td>0.958071</td>\n",
       "      <td>0.450000</td>\n",
       "      <td>0.450000</td>\n",
       "      <td>0.476190</td>\n",
       "      <td>0.454545</td>\n",
       "      <td>0.500000</td>\n",
       "    </tr>\n",
       "    <tr>\n",
       "      <th>156</th>\n",
       "      <td>dummy_model</td>\n",
       "      <td>test_dataset</td>\n",
       "      <td>base</td>\n",
       "      <td>main</td>\n",
       "      <td>prompt_only</td>\n",
       "      <td>31</td>\n",
       "      <td>1</td>\n",
       "      <td>0.486672</td>\n",
       "      <td>0.486672</td>\n",
       "      <td>0.407407</td>\n",
       "      <td>...</td>\n",
       "      <td>0.000000</td>\n",
       "      <td>0.000000</td>\n",
       "      <td>0.000000</td>\n",
       "      <td>0.5</td>\n",
       "      <td>0.956543</td>\n",
       "      <td>0.666667</td>\n",
       "      <td>0.666667</td>\n",
       "      <td>0.666667</td>\n",
       "      <td>0.666667</td>\n",
       "      <td>0.666667</td>\n",
       "    </tr>\n",
       "    <tr>\n",
       "      <th>157</th>\n",
       "      <td>dummy_model</td>\n",
       "      <td>test_dataset</td>\n",
       "      <td>base</td>\n",
       "      <td>main</td>\n",
       "      <td>prompt_only</td>\n",
       "      <td>31</td>\n",
       "      <td>2</td>\n",
       "      <td>0.741965</td>\n",
       "      <td>0.741965</td>\n",
       "      <td>0.361111</td>\n",
       "      <td>...</td>\n",
       "      <td>0.000000</td>\n",
       "      <td>0.000000</td>\n",
       "      <td>0.000000</td>\n",
       "      <td>0.5</td>\n",
       "      <td>0.952206</td>\n",
       "      <td>0.333333</td>\n",
       "      <td>0.333333</td>\n",
       "      <td>0.200000</td>\n",
       "      <td>0.250000</td>\n",
       "      <td>0.166667</td>\n",
       "    </tr>\n",
       "    <tr>\n",
       "      <th>158</th>\n",
       "      <td>dummy_model</td>\n",
       "      <td>test_dataset</td>\n",
       "      <td>base</td>\n",
       "      <td>main</td>\n",
       "      <td>prompt_only</td>\n",
       "      <td>31</td>\n",
       "      <td>3</td>\n",
       "      <td>1.041441</td>\n",
       "      <td>1.041441</td>\n",
       "      <td>0.224490</td>\n",
       "      <td>...</td>\n",
       "      <td>0.000000</td>\n",
       "      <td>0.000000</td>\n",
       "      <td>0.000000</td>\n",
       "      <td>0.5</td>\n",
       "      <td>0.958171</td>\n",
       "      <td>0.571429</td>\n",
       "      <td>0.571429</td>\n",
       "      <td>0.625000</td>\n",
       "      <td>0.555556</td>\n",
       "      <td>0.714286</td>\n",
       "    </tr>\n",
       "    <tr>\n",
       "      <th>159</th>\n",
       "      <td>dummy_model</td>\n",
       "      <td>test_dataset</td>\n",
       "      <td>base</td>\n",
       "      <td>main</td>\n",
       "      <td>prompt_only</td>\n",
       "      <td>31</td>\n",
       "      <td>4</td>\n",
       "      <td>0.471190</td>\n",
       "      <td>0.471190</td>\n",
       "      <td>0.370000</td>\n",
       "      <td>...</td>\n",
       "      <td>0.444444</td>\n",
       "      <td>0.500000</td>\n",
       "      <td>0.400000</td>\n",
       "      <td>0.5</td>\n",
       "      <td>0.950129</td>\n",
       "      <td>0.450000</td>\n",
       "      <td>0.450000</td>\n",
       "      <td>0.476190</td>\n",
       "      <td>0.454545</td>\n",
       "      <td>0.500000</td>\n",
       "    </tr>\n",
       "  </tbody>\n",
       "</table>\n",
       "<p>160 rows × 21 columns</p>\n",
       "</div>"
      ],
      "text/plain": [
       "        model_id    dataset_id prompt_id subset_id   input_type  layer  fold  \\\n",
       "0    dummy_model  test_dataset      base      main  prompt_only      0     0   \n",
       "1    dummy_model  test_dataset      base      main  prompt_only      0     1   \n",
       "2    dummy_model  test_dataset      base      main  prompt_only      0     2   \n",
       "3    dummy_model  test_dataset      base      main  prompt_only      0     3   \n",
       "4    dummy_model  test_dataset      base      main  prompt_only      0     4   \n",
       "..           ...           ...       ...       ...          ...    ...   ...   \n",
       "155  dummy_model  test_dataset      base      main  prompt_only     31     0   \n",
       "156  dummy_model  test_dataset      base      main  prompt_only     31     1   \n",
       "157  dummy_model  test_dataset      base      main  prompt_only     31     2   \n",
       "158  dummy_model  test_dataset      base      main  prompt_only     31     3   \n",
       "159  dummy_model  test_dataset      base      main  prompt_only     31     4   \n",
       "\n",
       "     direction_optimal_cut  direction_optimal_train_set_cut  \\\n",
       "0                -0.627963                        -0.627963   \n",
       "1                -0.003010                        -0.003010   \n",
       "2                 1.212223                         1.212223   \n",
       "3                 0.931577                         0.931577   \n",
       "4                 0.049378                         0.049378   \n",
       "..                     ...                              ...   \n",
       "155               0.941114                         0.941114   \n",
       "156               0.486672                         0.486672   \n",
       "157               0.741965                         0.741965   \n",
       "158               1.041441                         1.041441   \n",
       "159               0.471190                         0.471190   \n",
       "\n",
       "     direction_test_roc_auc  ...  direction_f1_score  \\\n",
       "0                  0.570000  ...            0.714286   \n",
       "1                  0.580247  ...            0.600000   \n",
       "2                  0.472222  ...            0.000000   \n",
       "3                  0.551020  ...            0.200000   \n",
       "4                  0.470000  ...            0.500000   \n",
       "..                      ...  ...                 ...   \n",
       "155                0.340000  ...            0.000000   \n",
       "156                0.407407  ...            0.000000   \n",
       "157                0.361111  ...            0.000000   \n",
       "158                0.224490  ...            0.000000   \n",
       "159                0.370000  ...            0.444444   \n",
       "\n",
       "     direction_precision_score  direction_recall_score  \\\n",
       "0                     0.555556                1.000000   \n",
       "1                     0.545455                0.666667   \n",
       "2                     0.000000                0.000000   \n",
       "3                     0.333333                0.142857   \n",
       "4                     0.500000                0.500000   \n",
       "..                         ...                     ...   \n",
       "155                   0.000000                0.000000   \n",
       "156                   0.000000                0.000000   \n",
       "157                   0.000000                0.000000   \n",
       "158                   0.000000                0.000000   \n",
       "159                   0.500000                0.400000   \n",
       "\n",
       "     logistic_regression_optimal_cut  \\\n",
       "0                                0.5   \n",
       "1                                0.5   \n",
       "2                                0.5   \n",
       "3                                0.5   \n",
       "4                                0.5   \n",
       "..                               ...   \n",
       "155                              0.5   \n",
       "156                              0.5   \n",
       "157                              0.5   \n",
       "158                              0.5   \n",
       "159                              0.5   \n",
       "\n",
       "     logistic_regression_optimal_train_set_cut  \\\n",
       "0                                     0.953964   \n",
       "1                                     0.955916   \n",
       "2                                     0.955552   \n",
       "3                                     0.956117   \n",
       "4                                     0.956098   \n",
       "..                                         ...   \n",
       "155                                   0.958071   \n",
       "156                                   0.956543   \n",
       "157                                   0.952206   \n",
       "158                                   0.958171   \n",
       "159                                   0.950129   \n",
       "\n",
       "     logistic_regression_test_roc_auc  logistic_regression_accuracy_score  \\\n",
       "0                            0.600000                            0.600000   \n",
       "1                            0.388889                            0.388889   \n",
       "2                            0.583333                            0.583333   \n",
       "3                            0.714286                            0.714286   \n",
       "4                            0.400000                            0.400000   \n",
       "..                                ...                                 ...   \n",
       "155                          0.450000                            0.450000   \n",
       "156                          0.666667                            0.666667   \n",
       "157                          0.333333                            0.333333   \n",
       "158                          0.571429                            0.571429   \n",
       "159                          0.450000                            0.450000   \n",
       "\n",
       "     logistic_regression_f1_score  logistic_regression_precision_score  \\\n",
       "0                        0.666667                             0.571429   \n",
       "1                        0.521739                             0.428571   \n",
       "2                        0.545455                             0.600000   \n",
       "3                        0.714286                             0.714286   \n",
       "4                        0.400000                             0.400000   \n",
       "..                            ...                                  ...   \n",
       "155                      0.476190                             0.454545   \n",
       "156                      0.666667                             0.666667   \n",
       "157                      0.200000                             0.250000   \n",
       "158                      0.625000                             0.555556   \n",
       "159                      0.476190                             0.454545   \n",
       "\n",
       "     logistic_regression_recall_score  \n",
       "0                            0.800000  \n",
       "1                            0.666667  \n",
       "2                            0.500000  \n",
       "3                            0.714286  \n",
       "4                            0.400000  \n",
       "..                                ...  \n",
       "155                          0.500000  \n",
       "156                          0.666667  \n",
       "157                          0.166667  \n",
       "158                          0.714286  \n",
       "159                          0.500000  \n",
       "\n",
       "[160 rows x 21 columns]"
      ]
     },
     "execution_count": 53,
     "metadata": {},
     "output_type": "execute_result"
    }
   ],
   "source": [
    "\n",
    "res_dict = defaultdict(list)\n",
    "\n",
    "for (model_id, dataset_id, prompt_id, subset_id, input_type), config_df in activation_exp_configs_df.groupby([\"model_id\", \"dataset_id\", \"prompt_id\", \"subset_id\", \"input_type\"]):\n",
    "    print(f\"\\n{model_id=}, {dataset_id=}, {prompt_id=}, {subset_id=}, {input_type=}\")\n",
    "    labels_df = load_labels(\n",
    "        base_path=BASE_PATH,\n",
    "        model_id=model_id,\n",
    "        dataset_id=dataset_id,\n",
    "        prompt_id=prompt_id,\n",
    "        subset_id=subset_id,\n",
    "    )\n",
    "\n",
    "    check_indices = None\n",
    "    for layer in config_df[\"layer\"].astype(int).sort_values():\n",
    "        print(f\"{layer=}\", end=\", \")\n",
    "        activations, indices = load_activations(\n",
    "            base_path=BASE_PATH,\n",
    "            model_id=model_id,\n",
    "            dataset_id=dataset_id,\n",
    "            prompt_id=prompt_id,\n",
    "            subset_id=subset_id,\n",
    "            input_type=input_type,\n",
    "            layer=layer,\n",
    "        )\n",
    "        \n",
    "        if check_indices is None:\n",
    "            check_indices = indices.sample(frac=1, replace=False)\n",
    "        \n",
    "        if set(indices) != set(check_indices):\n",
    "            raise RuntimeError(f\"indices across layers are not the same\")\n",
    "\n",
    "        labels_df_subset = labels_df.iloc[check_indices]\n",
    "        activations = activations[check_indices]\n",
    "\n",
    "        activations_handler = ActivationsHandler(\n",
    "            activations=activations,\n",
    "            labels=labels_df_subset[\"correct\"].astype(bool),\n",
    "        )\n",
    "        # activations_handler, _ = activations_handler.reduce_dims(pca_components=PCA_COMPONENTS)\n",
    "\n",
    "\n",
    "        activations_handler_folds = list(\n",
    "            activations_handler.split_dataset(split_sizes=[1/5] * 5)\n",
    "        )\n",
    "\n",
    "        fold_stats = {}\n",
    "        for fold_i, activations_handler_test in enumerate(activations_handler_folds):\n",
    "            activations_handler_train = combine_activations_handlers(\n",
    "                [ah for j, ah in enumerate(activations_handler_folds) if j != fold_i]\n",
    "            )\n",
    "            \n",
    "            activations_handler_train, pca_info = activations_handler_train.reduce_dims(pca_components=PCA_COMPONENTS)\n",
    "            \n",
    "            activations_handler_train = activations_handler_train.sample_equally_across_groups(\n",
    "                group_labels=[False, True]\n",
    "            )\n",
    "            activations_handler_test, _ = activations_handler_test.reduce_dims(pca_components=PCA_COMPONENTS, pca_info=pca_info)\n",
    "            activations_handler_test = activations_handler_test.sample_equally_across_groups(\n",
    "                group_labels=[False, True]\n",
    "            )\n",
    "\n",
    "            res_dict[\"model_id\"].append(model_id)\n",
    "            res_dict[\"dataset_id\"].append(dataset_id)\n",
    "            res_dict[\"prompt_id\"].append(prompt_id)\n",
    "            res_dict[\"subset_id\"].append(subset_id)\n",
    "            res_dict[\"input_type\"].append(input_type)\n",
    "            res_dict[\"layer\"].append(layer)\n",
    "            res_dict[\"fold\"].append(fold_i)\n",
    "\n",
    "            direction_classifier, direction_calculator = get_correctness_direction_classifier(\n",
    "                activations_handler_train=activations_handler_train,\n",
    "                activations_handler_test=activations_handler_test,\n",
    "            )\n",
    "            # res_dict[\"classifying_direction\"].append(direction_calculator.classifying_direction.tolist())\n",
    "            for key, value in direction_classifier.classification_metrics.items():\n",
    "                res_dict[f\"direction_{key}\"].append(value)\n",
    "            \n",
    "            for key, value in get_logistic_regression_classifier(\n",
    "                    activations_handler_train=activations_handler_train,\n",
    "                    activations_handler_test=activations_handler_test,\n",
    "                )[0].classification_metrics.items():\n",
    "                res_dict[f\"logistic_regression_{key}\"].append(value)\n",
    "\n",
    "\n",
    "\n",
    "res_df = pd.DataFrame(res_dict)\n",
    "res_df"
   ]
  },
  {
   "cell_type": "code",
   "execution_count": 54,
   "metadata": {},
   "outputs": [],
   "source": [
    "# res_file = \"./classification_data/res_df_llama31_8B_4_memory_datasets.csv\""
   ]
  },
  {
   "cell_type": "code",
   "execution_count": 55,
   "metadata": {},
   "outputs": [],
   "source": [
    "# res_df.to_csv(res_file, index=False)"
   ]
  },
  {
   "cell_type": "code",
   "execution_count": 56,
   "metadata": {},
   "outputs": [],
   "source": [
    "# res_df = pd.read_csv(res_file)"
   ]
  },
  {
   "cell_type": "code",
   "execution_count": 11,
   "metadata": {},
   "outputs": [],
   "source": []
  },
  {
   "cell_type": "code",
   "execution_count": 57,
   "metadata": {},
   "outputs": [
    {
     "name": "stdout",
     "output_type": "stream",
     "text": [
      "conf=('dummy_model', 'test_dataset', 'base', 'main', 'prompt_only')\n"
     ]
    },
    {
     "data": {
      "application/vnd.plotly.v1+json": {
       "config": {
        "plotlyServerURL": "https://plot.ly"
       },
       "data": [
        {
         "legendgroup": "('dummy_model', 'test_dataset', 'base', 'main', 'prompt_only')",
         "line": {
          "color": "#1f77b4",
          "width": 2
         },
         "marker": {
          "size": 8
         },
         "mode": "lines+markers",
         "name": "('dummy_model', 'test_dataset', 'base', 'main', 'prompt_only')",
         "type": "scatter",
         "x": {
          "bdata": "AAECAwQFBgcICQoLDA0ODxAREhMUFRYXGBkaGxwdHh8=",
          "dtype": "i1"
         },
         "y": {
          "bdata": "7QJiU2nI2T/d3d3d3d3dP1VVVVVVVdU/VeWMkQpV1T9mQwMB3ZzKP36x5BdLftE/7cqu7Mqu4D+SSFFoB7PVPxM2YRM2YdM/Um3sI7MD4T/qpQSSJNTfP9ZojdZojeI/EtXc+3do4j+xArLVygXoP0BNMDDW/eU/6R14G1Gr5j/YhV3YhV3gPxoqO0xdbus/dUQ4dUQ45T8VUAEVUAHlP1FCWLeovuU/yNwylKn/4D9CEQVCEQXiPyJ5fxMOoOo/rzJDnIvE6D/jWdFIwDffPzgNT2xAgt8/cjQPR/Nw5D8lGE++sejXP9gGwalM2NY/WlDS8elr2z8WbMEWbMG2Pw==",
          "dtype": "f8"
         }
        },
        {
         "legendgroup": "('dummy_model', 'test_dataset', 'base', 'main', 'prompt_only')",
         "line": {
          "width": 0
         },
         "mode": "lines",
         "name": "('dummy_model', 'test_dataset', 'base', 'main', 'prompt_only') Max",
         "showlegend": false,
         "type": "scatter",
         "x": {
          "bdata": "AAECAwQFBgcICQoLDA0ODxAREhMUFRYXGBkaGxwdHh8=",
          "dtype": "i1"
         },
         "y": {
          "bdata": "t23btm3b5j+SJEmSJEniPwAAAAAAAOA/AAAAAAAA4D+amZmZmZnZP5qZmZmZmdk/FDuxEzux4z8zMzMzMzPjPxzHcRzHcdw/VVVVVVVV5T9DeQ3lNZTnPwAAAAAAAOg/OY7jOI7j6D8XXXTRRRftPw3lNZTXUO4/HMdxHMdx7D8AAAAAAADoPxzHcRzHcew/WlpaWlpa6j/NzMzMzMzsPwAAAAAAAOg/ntiJndiJ7T9aWlpaWlrqP57neZ7nee4/HMdxHMdx7D+amZmZmZnpP1paWlpaWuo/mpmZmZmZ6T8RERERERHhP5IkSZIkSeI/2Ymd2Imd6D8cx3Ecx3HcPw==",
          "dtype": "f8"
         }
        },
        {
         "fill": "tonexty",
         "fillcolor": "rgba(31, 119, 180, 0.1)",
         "legendgroup": "('dummy_model', 'test_dataset', 'base', 'main', 'prompt_only')",
         "line": {
          "width": 0
         },
         "mode": "lines",
         "name": "('dummy_model', 'test_dataset', 'base', 'main', 'prompt_only') Min",
         "showlegend": false,
         "type": "scatter",
         "x": {
          "bdata": "AAECAwQFBgcICQoLDA0ODxAREhMUFRYXGBkaGxwdHh8=",
          "dtype": "i1"
         },
         "y": {
          "bdata": "AAAAAAAAAACSJEmSJEnSPwAAAAAAAAAAmpmZmZmZyT8AAAAAAAAAAAAAAAAAAAAAAAAAAAAA2D8RERERERHBPwAAAAAAAAAARhdddNFF1z8AAAAAAAAAAJIkSZIkSdI/RhdddNFFxz9VVVVVVVXVP57YiZ3Yid0/AAAAAAAA0D+SJEmSJEnSP5qZmZmZmek/HMdxHMdx3D8AAAAAAADgPzMzMzMzM+M/mpmZmZmZyT9VVVVVVVXVPxQ7sRM7seM/MzMzMzMz4z8AAAAAAADQPwAAAAAAAAAAAAAAAAAA4D8AAAAAAAAAAEYXXXTRRcc/mpmZmZmZyT8AAAAAAAAAAA==",
          "dtype": "f8"
         }
        },
        {
         "legendgroup": "('dummy_model', 'test_dataset', 'base', 'main', 'prompt_only')",
         "line": {
          "width": 0
         },
         "mode": "lines",
         "name": "('dummy_model', 'test_dataset', 'base', 'main', 'prompt_only') +1 STD",
         "showlegend": false,
         "type": "scatter",
         "x": {
          "bdata": "AAECAwQFBgcICQoLDA0ODxAREhMUFRYXGBkaGxwdHh8=",
          "dtype": "i1"
         },
         "y": {
          "bdata": "wNACQAxX5j/UKEAFu13iP3uOtDLdXuE/witWuzXB3D+2fC2kl9zWP757MBCLN90/gRSGgOrj4z+Z3+q2hC3hP6RWYQoV2t4/6D2gahJE5T8+pITMp3PpP4q4z4c4Nug/saRhy5tA6j+728g7d67vP/BohEmejOw/LgbDcwUx7z8PT08zagnmPy7lswEEsOw/t1L6OuSi6T8kx9HdsMXpP5+9wSycjuc/upxTAMlS6T9ywZWYTXPoP2tNd2OnRe8//HUDENeF7D9MrtPrP3LmP7uaf8LD1uk/E109PorE6D+wPh11TsLiP8JZMzf7TuA/EUxCPX/o5D9mb3eW3WjSPw==",
          "dtype": "f8"
         }
        },
        {
         "fill": "tonexty",
         "fillcolor": "rgba(31, 119, 180, 0.3)",
         "legendgroup": "('dummy_model', 'test_dataset', 'base', 'main', 'prompt_only')",
         "line": {
          "width": 0
         },
         "mode": "lines",
         "name": "('dummy_model', 'test_dataset', 'base', 'main', 'prompt_only') -1 STD",
         "showlegend": false,
         "type": "scatter",
         "x": {
          "bdata": "AAECAwQFBgcICQoLDA0ODxAREhMUFRYXGBkaGxwdHh8=",
          "dtype": "i1"
         },
         "y": {
          "bdata": "bJH5muiKuz8RajuxRQDXP9I2BhXBs78/0T2Hz77Ryz+ANa7mKgKuP/acY34sFLc/swKvsVbz2j/lo5nFChbCPwpWhHFcob8/eDlxuqeG2T+wBgAW84HJP0Qylkoyydk/5gqwWKgg1T+nKZtvHl3gPyFjuC0c3t4/R2tahjlL3D9Cedf6QmPVPwZvwpa2LOo/MzZ2r6TN4D8G2TBM7zzgPwPH7kG17uM/qzkkUBRZ0T8kwujWqS3XP9mkh8N0+uU/Yu+CKEAD5T8uV/u5AIvRP/TJPafyrcY/0QvhT1wd4D/VZcckjZnEP1e0NspFJco/JRFA0qoNyj9q5VosniC8vw==",
          "dtype": "f8"
         }
        },
        {
         "legendgroup": "('dummy_model', 'test_dataset', 'base', 'main', 'prompt_only')",
         "marker": {
          "color": "#1f77b4",
          "opacity": 0.5,
          "size": 6
         },
         "mode": "markers",
         "name": "('dummy_model', 'test_dataset', 'base', 'main', 'prompt_only') Fold ('direction_f1_score', 0)",
         "showlegend": false,
         "type": "scatter",
         "x": {
          "bdata": "AAECAwQFBgcICQoLDA0ODxAREhMUFRYXGBkaGxwdHh8=",
          "dtype": "i1"
         },
         "y": {
          "bdata": "t23btm3b5j+SJEmSJEniPxEREREREdE/AAAAAAAA0D+SJEmSJEnSP5qZmZmZmdk/kiRJkiRJ4j8RERERERHBP1VVVVVVVdU/VVVVVVVV5T9DeQ3lNZTnPwAAAAAAAOg/OY7jOI7j6D/NzMzMzMzsPw3lNZTXUO4/HMdxHMdx7D8AAAAAAADoPxzHcRzHcew/VVVVVVVV5T/NzMzMzMzsPwAAAAAAAOg/kiRJkiRJ4j9aWlpaWlrqP57neZ7nee4/Q3kN5TWU5z9VVVVVVVXVP5IkSZIkSeI/VVVVVVVV5T+e2Imd2IndP5eWlpaWltY/AAAAAAAA0D8AAAAAAAAAAA==",
          "dtype": "f8"
         }
        },
        {
         "legendgroup": "('dummy_model', 'test_dataset', 'base', 'main', 'prompt_only')",
         "marker": {
          "color": "#1f77b4",
          "opacity": 0.5,
          "size": 6
         },
         "mode": "markers",
         "name": "('dummy_model', 'test_dataset', 'base', 'main', 'prompt_only') Fold ('direction_f1_score', 1)",
         "showlegend": false,
         "type": "scatter",
         "x": {
          "bdata": "AAECAwQFBgcICQoLDA0ODxAREhMUFRYXGBkaGxwdHh8=",
          "dtype": "i1"
         },
         "y": {
          "bdata": "MzMzMzMz4z+e53me53nePwAAAAAAAOA/AAAAAAAA4D+amZmZmZnZP1VVVVVVVcU/AAAAAAAA2D9GF1100UXXPxQ7sRM7sdM/ntiJndiJ3T+e2Imd2IndP5IkSZIkSeI/AAAAAAAA6D9VVVVVVVXVP5qZmZmZmek/t23btm3b5j8UO7ETO7HjPwAAAAAAAOw/t23btm3b5j8UO7ETO7HjP7dt27Zt2+Y/mpmZmZmZyT+3bdu2bdvmPxQ7sRM7seM/AAAAAAAA7D8AAAAAAADgP1paWlpaWuo/mpmZmZmZ6T8RERERERHhP9u2bdu2bds/ntiJndiJ3T8AAAAAAAAAAA==",
          "dtype": "f8"
         }
        },
        {
         "legendgroup": "('dummy_model', 'test_dataset', 'base', 'main', 'prompt_only')",
         "marker": {
          "color": "#1f77b4",
          "opacity": 0.5,
          "size": 6
         },
         "mode": "markers",
         "name": "('dummy_model', 'test_dataset', 'base', 'main', 'prompt_only') Fold ('direction_f1_score', 2)",
         "showlegend": false,
         "type": "scatter",
         "x": {
          "bdata": "AAECAwQFBgcICQoLDA0ODxAREhMUFRYXGBkaGxwdHh8=",
          "dtype": "i1"
         },
         "y": {
          "bdata": "AAAAAAAAAACSJEmSJEnSPwAAAAAAAAAAmpmZmZmZyT+amZmZmZnJP5qZmZmZmdk/ntiJndiJ3T8zMzMzMzPjPxzHcRzHcdw/AAAAAAAA4D8AAAAAAAAAAJIkSZIkSdI/AAAAAAAA4D8XXXTRRRftPwAAAAAAAOA/mpmZmZmZ6T+SJEmSJEnSP5qZmZmZmek/VVVVVVVV5T8AAAAAAADgP1VVVVVVVeU/AAAAAAAA4D8AAAAAAADgPxdddNFFF+0/MzMzMzMz4z+amZmZmZnpP1VVVVVVVeU/AAAAAAAA4D8cx3Ecx3HcPwAAAAAAANA/ntiJndiJ3T8AAAAAAAAAAA==",
          "dtype": "f8"
         }
        },
        {
         "legendgroup": "('dummy_model', 'test_dataset', 'base', 'main', 'prompt_only')",
         "marker": {
          "color": "#1f77b4",
          "opacity": 0.5,
          "size": 6
         },
         "mode": "markers",
         "name": "('dummy_model', 'test_dataset', 'base', 'main', 'prompt_only') Fold ('direction_f1_score', 3)",
         "showlegend": false,
         "type": "scatter",
         "x": {
          "bdata": "AAECAwQFBgcICQoLDA0ODxAREhMUFRYXGBkaGxwdHh8=",
          "dtype": "i1"
         },
         "y": {
          "bdata": "mpmZmZmZyT8AAAAAAADgPwAAAAAAAOA/RhdddNFF1z8AAAAAAAAAAJqZmZmZmdk/FDuxEzux4z8cx3Ecx3HcPwAAAAAAAAAARhdddNFF1z/T0tLS0tLiP1VVVVVVVeU/VVVVVVVV5T+rqqqqqqrqP0YXXXTRRec/AAAAAAAA0D8cx3Ecx3HcP6uqqqqqquo/HMdxHMdx3D8zMzMzMzPjPzMzMzMzM+M/ntiJndiJ7T8cx3Ecx3HcP97d3d3d3e0/2Ymd2Imd6D8AAAAAAADQPwAAAAAAAAAARhdddNFF5z8AAAAAAAAAAEYXXXTRRcc/2Ymd2Imd6D8AAAAAAAAAAA==",
          "dtype": "f8"
         }
        },
        {
         "legendgroup": "('dummy_model', 'test_dataset', 'base', 'main', 'prompt_only')",
         "marker": {
          "color": "#1f77b4",
          "opacity": 0.5,
          "size": 6
         },
         "mode": "markers",
         "name": "('dummy_model', 'test_dataset', 'base', 'main', 'prompt_only') Fold ('direction_f1_score', 4)",
         "showlegend": false,
         "type": "scatter",
         "x": {
          "bdata": "AAECAwQFBgcICQoLDA0ODxAREhMUFRYXGBkaGxwdHh8=",
          "dtype": "i1"
         },
         "y": {
          "bdata": "AAAAAAAA4D8AAAAAAADgP5qZmZmZmdk/l5aWlpaW1j8UO7ETO7HDPwAAAAAAAAAAq6qqqqqq4j8UO7ETO7HDP9u2bdu2bds/VVVVVVVV5T9mZmZmZmbmPwAAAAAAAOQ/RhdddNFFxz85juM4juPoP57YiZ3Yid0/HMdxHMdx7D+e2Imd2IndPxzHcRzHcew/WlpaWlpa6j9VVVVVVVXlP1VVVVVVVeU/ntiJndiJ3T9VVVVVVVXVPwAAAAAAAOg/HMdxHMdx7D9yHMdxHMfhP5qZmZmZmdk/AAAAAAAA4D/btm3btm3bP5IkSZIkSeI/mpmZmZmZyT8cx3Ecx3HcPw==",
          "dtype": "f8"
         }
        }
       ],
       "layout": {
        "font": {
         "color": "white"
        },
        "height": 600,
        "legend": {
         "bgcolor": "rgba(32, 32, 32, 0.8)",
         "orientation": "h",
         "x": 0.5,
         "xanchor": "center",
         "y": 1.02,
         "yanchor": "bottom"
        },
        "margin": {
         "b": 50,
         "l": 50,
         "r": 30,
         "t": 100
        },
        "paper_bgcolor": "rgba(32, 32, 32, 1)",
        "plot_bgcolor": "rgba(32, 32, 32, 1)",
        "showlegend": true,
        "template": {
         "data": {
          "bar": [
           {
            "error_x": {
             "color": "#f2f5fa"
            },
            "error_y": {
             "color": "#f2f5fa"
            },
            "marker": {
             "line": {
              "color": "rgb(17,17,17)",
              "width": 0.5
             },
             "pattern": {
              "fillmode": "overlay",
              "size": 10,
              "solidity": 0.2
             }
            },
            "type": "bar"
           }
          ],
          "barpolar": [
           {
            "marker": {
             "line": {
              "color": "rgb(17,17,17)",
              "width": 0.5
             },
             "pattern": {
              "fillmode": "overlay",
              "size": 10,
              "solidity": 0.2
             }
            },
            "type": "barpolar"
           }
          ],
          "carpet": [
           {
            "aaxis": {
             "endlinecolor": "#A2B1C6",
             "gridcolor": "#506784",
             "linecolor": "#506784",
             "minorgridcolor": "#506784",
             "startlinecolor": "#A2B1C6"
            },
            "baxis": {
             "endlinecolor": "#A2B1C6",
             "gridcolor": "#506784",
             "linecolor": "#506784",
             "minorgridcolor": "#506784",
             "startlinecolor": "#A2B1C6"
            },
            "type": "carpet"
           }
          ],
          "choropleth": [
           {
            "colorbar": {
             "outlinewidth": 0,
             "ticks": ""
            },
            "type": "choropleth"
           }
          ],
          "contour": [
           {
            "colorbar": {
             "outlinewidth": 0,
             "ticks": ""
            },
            "colorscale": [
             [
              0,
              "#0d0887"
             ],
             [
              0.1111111111111111,
              "#46039f"
             ],
             [
              0.2222222222222222,
              "#7201a8"
             ],
             [
              0.3333333333333333,
              "#9c179e"
             ],
             [
              0.4444444444444444,
              "#bd3786"
             ],
             [
              0.5555555555555556,
              "#d8576b"
             ],
             [
              0.6666666666666666,
              "#ed7953"
             ],
             [
              0.7777777777777778,
              "#fb9f3a"
             ],
             [
              0.8888888888888888,
              "#fdca26"
             ],
             [
              1,
              "#f0f921"
             ]
            ],
            "type": "contour"
           }
          ],
          "contourcarpet": [
           {
            "colorbar": {
             "outlinewidth": 0,
             "ticks": ""
            },
            "type": "contourcarpet"
           }
          ],
          "heatmap": [
           {
            "colorbar": {
             "outlinewidth": 0,
             "ticks": ""
            },
            "colorscale": [
             [
              0,
              "#0d0887"
             ],
             [
              0.1111111111111111,
              "#46039f"
             ],
             [
              0.2222222222222222,
              "#7201a8"
             ],
             [
              0.3333333333333333,
              "#9c179e"
             ],
             [
              0.4444444444444444,
              "#bd3786"
             ],
             [
              0.5555555555555556,
              "#d8576b"
             ],
             [
              0.6666666666666666,
              "#ed7953"
             ],
             [
              0.7777777777777778,
              "#fb9f3a"
             ],
             [
              0.8888888888888888,
              "#fdca26"
             ],
             [
              1,
              "#f0f921"
             ]
            ],
            "type": "heatmap"
           }
          ],
          "histogram": [
           {
            "marker": {
             "pattern": {
              "fillmode": "overlay",
              "size": 10,
              "solidity": 0.2
             }
            },
            "type": "histogram"
           }
          ],
          "histogram2d": [
           {
            "colorbar": {
             "outlinewidth": 0,
             "ticks": ""
            },
            "colorscale": [
             [
              0,
              "#0d0887"
             ],
             [
              0.1111111111111111,
              "#46039f"
             ],
             [
              0.2222222222222222,
              "#7201a8"
             ],
             [
              0.3333333333333333,
              "#9c179e"
             ],
             [
              0.4444444444444444,
              "#bd3786"
             ],
             [
              0.5555555555555556,
              "#d8576b"
             ],
             [
              0.6666666666666666,
              "#ed7953"
             ],
             [
              0.7777777777777778,
              "#fb9f3a"
             ],
             [
              0.8888888888888888,
              "#fdca26"
             ],
             [
              1,
              "#f0f921"
             ]
            ],
            "type": "histogram2d"
           }
          ],
          "histogram2dcontour": [
           {
            "colorbar": {
             "outlinewidth": 0,
             "ticks": ""
            },
            "colorscale": [
             [
              0,
              "#0d0887"
             ],
             [
              0.1111111111111111,
              "#46039f"
             ],
             [
              0.2222222222222222,
              "#7201a8"
             ],
             [
              0.3333333333333333,
              "#9c179e"
             ],
             [
              0.4444444444444444,
              "#bd3786"
             ],
             [
              0.5555555555555556,
              "#d8576b"
             ],
             [
              0.6666666666666666,
              "#ed7953"
             ],
             [
              0.7777777777777778,
              "#fb9f3a"
             ],
             [
              0.8888888888888888,
              "#fdca26"
             ],
             [
              1,
              "#f0f921"
             ]
            ],
            "type": "histogram2dcontour"
           }
          ],
          "mesh3d": [
           {
            "colorbar": {
             "outlinewidth": 0,
             "ticks": ""
            },
            "type": "mesh3d"
           }
          ],
          "parcoords": [
           {
            "line": {
             "colorbar": {
              "outlinewidth": 0,
              "ticks": ""
             }
            },
            "type": "parcoords"
           }
          ],
          "pie": [
           {
            "automargin": true,
            "type": "pie"
           }
          ],
          "scatter": [
           {
            "marker": {
             "line": {
              "color": "#283442"
             }
            },
            "type": "scatter"
           }
          ],
          "scatter3d": [
           {
            "line": {
             "colorbar": {
              "outlinewidth": 0,
              "ticks": ""
             }
            },
            "marker": {
             "colorbar": {
              "outlinewidth": 0,
              "ticks": ""
             }
            },
            "type": "scatter3d"
           }
          ],
          "scattercarpet": [
           {
            "marker": {
             "colorbar": {
              "outlinewidth": 0,
              "ticks": ""
             }
            },
            "type": "scattercarpet"
           }
          ],
          "scattergeo": [
           {
            "marker": {
             "colorbar": {
              "outlinewidth": 0,
              "ticks": ""
             }
            },
            "type": "scattergeo"
           }
          ],
          "scattergl": [
           {
            "marker": {
             "line": {
              "color": "#283442"
             }
            },
            "type": "scattergl"
           }
          ],
          "scattermap": [
           {
            "marker": {
             "colorbar": {
              "outlinewidth": 0,
              "ticks": ""
             }
            },
            "type": "scattermap"
           }
          ],
          "scattermapbox": [
           {
            "marker": {
             "colorbar": {
              "outlinewidth": 0,
              "ticks": ""
             }
            },
            "type": "scattermapbox"
           }
          ],
          "scatterpolar": [
           {
            "marker": {
             "colorbar": {
              "outlinewidth": 0,
              "ticks": ""
             }
            },
            "type": "scatterpolar"
           }
          ],
          "scatterpolargl": [
           {
            "marker": {
             "colorbar": {
              "outlinewidth": 0,
              "ticks": ""
             }
            },
            "type": "scatterpolargl"
           }
          ],
          "scatterternary": [
           {
            "marker": {
             "colorbar": {
              "outlinewidth": 0,
              "ticks": ""
             }
            },
            "type": "scatterternary"
           }
          ],
          "surface": [
           {
            "colorbar": {
             "outlinewidth": 0,
             "ticks": ""
            },
            "colorscale": [
             [
              0,
              "#0d0887"
             ],
             [
              0.1111111111111111,
              "#46039f"
             ],
             [
              0.2222222222222222,
              "#7201a8"
             ],
             [
              0.3333333333333333,
              "#9c179e"
             ],
             [
              0.4444444444444444,
              "#bd3786"
             ],
             [
              0.5555555555555556,
              "#d8576b"
             ],
             [
              0.6666666666666666,
              "#ed7953"
             ],
             [
              0.7777777777777778,
              "#fb9f3a"
             ],
             [
              0.8888888888888888,
              "#fdca26"
             ],
             [
              1,
              "#f0f921"
             ]
            ],
            "type": "surface"
           }
          ],
          "table": [
           {
            "cells": {
             "fill": {
              "color": "#506784"
             },
             "line": {
              "color": "rgb(17,17,17)"
             }
            },
            "header": {
             "fill": {
              "color": "#2a3f5f"
             },
             "line": {
              "color": "rgb(17,17,17)"
             }
            },
            "type": "table"
           }
          ]
         },
         "layout": {
          "annotationdefaults": {
           "arrowcolor": "#f2f5fa",
           "arrowhead": 0,
           "arrowwidth": 1
          },
          "autotypenumbers": "strict",
          "coloraxis": {
           "colorbar": {
            "outlinewidth": 0,
            "ticks": ""
           }
          },
          "colorscale": {
           "diverging": [
            [
             0,
             "#8e0152"
            ],
            [
             0.1,
             "#c51b7d"
            ],
            [
             0.2,
             "#de77ae"
            ],
            [
             0.3,
             "#f1b6da"
            ],
            [
             0.4,
             "#fde0ef"
            ],
            [
             0.5,
             "#f7f7f7"
            ],
            [
             0.6,
             "#e6f5d0"
            ],
            [
             0.7,
             "#b8e186"
            ],
            [
             0.8,
             "#7fbc41"
            ],
            [
             0.9,
             "#4d9221"
            ],
            [
             1,
             "#276419"
            ]
           ],
           "sequential": [
            [
             0,
             "#0d0887"
            ],
            [
             0.1111111111111111,
             "#46039f"
            ],
            [
             0.2222222222222222,
             "#7201a8"
            ],
            [
             0.3333333333333333,
             "#9c179e"
            ],
            [
             0.4444444444444444,
             "#bd3786"
            ],
            [
             0.5555555555555556,
             "#d8576b"
            ],
            [
             0.6666666666666666,
             "#ed7953"
            ],
            [
             0.7777777777777778,
             "#fb9f3a"
            ],
            [
             0.8888888888888888,
             "#fdca26"
            ],
            [
             1,
             "#f0f921"
            ]
           ],
           "sequentialminus": [
            [
             0,
             "#0d0887"
            ],
            [
             0.1111111111111111,
             "#46039f"
            ],
            [
             0.2222222222222222,
             "#7201a8"
            ],
            [
             0.3333333333333333,
             "#9c179e"
            ],
            [
             0.4444444444444444,
             "#bd3786"
            ],
            [
             0.5555555555555556,
             "#d8576b"
            ],
            [
             0.6666666666666666,
             "#ed7953"
            ],
            [
             0.7777777777777778,
             "#fb9f3a"
            ],
            [
             0.8888888888888888,
             "#fdca26"
            ],
            [
             1,
             "#f0f921"
            ]
           ]
          },
          "colorway": [
           "#636efa",
           "#EF553B",
           "#00cc96",
           "#ab63fa",
           "#FFA15A",
           "#19d3f3",
           "#FF6692",
           "#B6E880",
           "#FF97FF",
           "#FECB52"
          ],
          "font": {
           "color": "#f2f5fa"
          },
          "geo": {
           "bgcolor": "rgb(17,17,17)",
           "lakecolor": "rgb(17,17,17)",
           "landcolor": "rgb(17,17,17)",
           "showlakes": true,
           "showland": true,
           "subunitcolor": "#506784"
          },
          "hoverlabel": {
           "align": "left"
          },
          "hovermode": "closest",
          "mapbox": {
           "style": "dark"
          },
          "paper_bgcolor": "rgb(17,17,17)",
          "plot_bgcolor": "rgb(17,17,17)",
          "polar": {
           "angularaxis": {
            "gridcolor": "#506784",
            "linecolor": "#506784",
            "ticks": ""
           },
           "bgcolor": "rgb(17,17,17)",
           "radialaxis": {
            "gridcolor": "#506784",
            "linecolor": "#506784",
            "ticks": ""
           }
          },
          "scene": {
           "xaxis": {
            "backgroundcolor": "rgb(17,17,17)",
            "gridcolor": "#506784",
            "gridwidth": 2,
            "linecolor": "#506784",
            "showbackground": true,
            "ticks": "",
            "zerolinecolor": "#C8D4E3"
           },
           "yaxis": {
            "backgroundcolor": "rgb(17,17,17)",
            "gridcolor": "#506784",
            "gridwidth": 2,
            "linecolor": "#506784",
            "showbackground": true,
            "ticks": "",
            "zerolinecolor": "#C8D4E3"
           },
           "zaxis": {
            "backgroundcolor": "rgb(17,17,17)",
            "gridcolor": "#506784",
            "gridwidth": 2,
            "linecolor": "#506784",
            "showbackground": true,
            "ticks": "",
            "zerolinecolor": "#C8D4E3"
           }
          },
          "shapedefaults": {
           "line": {
            "color": "#f2f5fa"
           }
          },
          "sliderdefaults": {
           "bgcolor": "#C8D4E3",
           "bordercolor": "rgb(17,17,17)",
           "borderwidth": 1,
           "tickwidth": 0
          },
          "ternary": {
           "aaxis": {
            "gridcolor": "#506784",
            "linecolor": "#506784",
            "ticks": ""
           },
           "baxis": {
            "gridcolor": "#506784",
            "linecolor": "#506784",
            "ticks": ""
           },
           "bgcolor": "rgb(17,17,17)",
           "caxis": {
            "gridcolor": "#506784",
            "linecolor": "#506784",
            "ticks": ""
           }
          },
          "title": {
           "x": 0.05
          },
          "updatemenudefaults": {
           "bgcolor": "#506784",
           "borderwidth": 0
          },
          "xaxis": {
           "automargin": true,
           "gridcolor": "#283442",
           "linecolor": "#506784",
           "ticks": "",
           "title": {
            "standoff": 15
           },
           "zerolinecolor": "#283442",
           "zerolinewidth": 2
          },
          "yaxis": {
           "automargin": true,
           "gridcolor": "#283442",
           "linecolor": "#506784",
           "ticks": "",
           "title": {
            "standoff": 15
           },
           "zerolinecolor": "#283442",
           "zerolinewidth": 2
          }
         }
        },
        "title": {},
        "width": 1000,
        "xaxis": {
         "gridcolor": "rgba(128, 128, 128, 0.2)",
         "title": {
          "text": "Layer"
         },
         "zeroline": false
        },
        "yaxis": {
         "gridcolor": "rgba(128, 128, 128, 0.2)",
         "title": {
          "text": "Direction F1 Score"
         },
         "zeroline": false
        }
       }
      }
     },
     "metadata": {},
     "output_type": "display_data"
    },
    {
     "name": "stdout",
     "output_type": "stream",
     "text": [
      "conf=('dummy_model', 'test_dataset', 'base', 'main', 'prompt_only')\n"
     ]
    },
    {
     "data": {
      "application/vnd.plotly.v1+json": {
       "config": {
        "plotlyServerURL": "https://plot.ly"
       },
       "data": [
        {
         "legendgroup": "('dummy_model', 'test_dataset', 'base', 'main', 'prompt_only')",
         "line": {
          "color": "#1f77b4",
          "width": 2
         },
         "marker": {
          "size": 8
         },
         "mode": "lines+markers",
         "name": "('dummy_model', 'test_dataset', 'base', 'main', 'prompt_only')",
         "type": "scatter",
         "x": {
          "bdata": "AAECAwQFBgcICQoLDA0ODxAREhMUFRYXGBkaGxwdHh8=",
          "dtype": "i1"
         },
         "y": {
          "bdata": "q4s1Cmc64j+uxWNQc2rfP9yaghlSR+M/6rcRNuyX4j96UF+n/vTgPxK6PH0TRN8/puK+iDEF4j/yqofXKRraP0iP/eEol9s/KEQYWndL3T/M6EZXFwHgP76+vr6+vt4/LetA271V2j8qTJkl007hP8K/GuOUzeE/VU1XyB6d3z82iuKuWhzjP864WWhS8+E/Qyglf03t2j8f3rnD0BvgP72bB+vhKOM/xatsOxsC4j+SkzJPfYDeP63utLrT6t4/DbGElgRE3j8uSPXG4Y7YPzXPPW17u+A/0EwvIaty2j/DX2SDOHvYP/1kAVZs29w/FZxRwRkV3D8jDq+9p0jfPw==",
          "dtype": "f8"
         }
        },
        {
         "legendgroup": "('dummy_model', 'test_dataset', 'base', 'main', 'prompt_only')",
         "line": {
          "width": 0
         },
         "mode": "lines",
         "name": "('dummy_model', 'test_dataset', 'base', 'main', 'prompt_only') Max",
         "showlegend": false,
         "type": "scatter",
         "x": {
          "bdata": "AAECAwQFBgcICQoLDA0ODxAREhMUFRYXGBkaGxwdHh8=",
          "dtype": "i1"
         },
         "y": {
          "bdata": "t23btm3b5j84velNb3rjP6uqqqqqquo/Q3kN5TWU5z+3bdu2bdvmP0N5DeU1lOc/F1100UUX7T9ddNFFF13kP2ZmZmZmZuY/t23btm3b5j8UO7ETO7HjP1VVVVVVVeU/AAAAAAAA4D9ddNFFF13kP1100UUXXeQ/MzMzMzMz4z+amZmZmZnpP1VVVVVVVeU/ZmZmZmZm5j8YhmEYhmHoP15DeQ3lNeQ/dmIndmIn5j8YhmEYhmHoP0N5DeU1lOc/VVVVVVVV5T8eHh4eHh7eP1VVVVVVVeU/VVVVVVVV5T84velNb3rjP3TRRRdddOE/RhdddNFF5z9VVVVVVVXlPw==",
          "dtype": "f8"
         }
        },
        {
         "fill": "tonexty",
         "fillcolor": "rgba(31, 119, 180, 0.1)",
         "legendgroup": "('dummy_model', 'test_dataset', 'base', 'main', 'prompt_only')",
         "line": {
          "width": 0
         },
         "mode": "lines",
         "name": "('dummy_model', 'test_dataset', 'base', 'main', 'prompt_only') Min",
         "showlegend": false,
         "type": "scatter",
         "x": {
          "bdata": "AAECAwQFBgcICQoLDA0ODxAREhMUFRYXGBkaGxwdHh8=",
          "dtype": "i1"
         },
         "y": {
          "bdata": "mpmZmZmZ2T+amZmZmZnZPyivobyG8to/nud5nud53j8or6G8hvLaP0YXXXTRRcc/AAAAAAAA2D9GF1100UXHPxQ7sRM7sdM/AAAAAAAA0D9GF1100UXXPx4eHh4eHs4/RhdddNFFxz8AAAAAAADYP57neZ7ned4/l5aWlpaW1j+amZmZmZnZP5qZmZmZmdk/AAAAAAAAwD9VVVVVVVXVPwtZyEIWsuA/HMdxHMdx3D9VVVVVVVXVPwAAAAAAANA/ERERERER0T+amZmZmZnJP0YXXXTRRdc/HMdxHMdxzD8cx3Ecx3HMPxQ7sRM7sdM/HMdxHMdxzD+amZmZmZnJPw==",
          "dtype": "f8"
         }
        },
        {
         "legendgroup": "('dummy_model', 'test_dataset', 'base', 'main', 'prompt_only')",
         "line": {
          "width": 0
         },
         "mode": "lines",
         "name": "('dummy_model', 'test_dataset', 'base', 'main', 'prompt_only') +1 STD",
         "showlegend": false,
         "type": "scatter",
         "x": {
          "bdata": "AAECAwQFBgcICQoLDA0ODxAREhMUFRYXGBkaGxwdHh8=",
          "dtype": "i1"
         },
         "y": {
          "bdata": "Qp70Hz825j+UqNCuKofiPzetbT6DJ+g/m4yVJi/f5T9eQr4X95bkP4UCpud8X+Y/sn5vtE4A6T9x1E2aMOjjP7KRistT9eI/foQ3q3KN5D8r58b+WPriPwj2h3j30eQ/8qYmRl9p4T+wr+HApoDkP1MBoPloteM/JHXjlqdV4z+hS9jh1DToP2C1LyMWmuU/zHBOtSwY5D9o7R4XUVblP5WOJSWvluQ/UOLNjswy5T900wSOQMjkP1N9UdOlNOY/2Sfz7sbO5D/DFkmbRIDfPxOqr4HntuQ/NkYSTSfG4j+Gh1qVc+bgPyjQDUYdwuE/jOVJMUHh4z9/uGpnNX/lPw==",
          "dtype": "f8"
         }
        },
        {
         "fill": "tonexty",
         "fillcolor": "rgba(31, 119, 180, 0.3)",
         "legendgroup": "('dummy_model', 'test_dataset', 'base', 'main', 'prompt_only')",
         "line": {
          "width": 0
         },
         "mode": "lines",
         "name": "('dummy_model', 'test_dataset', 'base', 'main', 'prompt_only') -1 STD",
         "showlegend": false,
         "type": "scatter",
         "x": {
          "bdata": "AAECAwQFBgcICQoLDA0ODxAREhMUFRYXGBkaGxwdHh8=",
          "dtype": "i1"
         },
         "y": {
          "bdata": "KfLs6B193D80OiZDkcbZPwIRL+lBztw/csYbi1Kh3j8tvQBuDKbaPxpvLSstydE/NY0cuigU1j8DWuf05MfIPy375SyqQ9E/VH/BXQl80T/a1I1fqw/aP2uRbYyO2dM/dog0Kr3Y0T9H0aEU/zncP2L8KpmBy98/YrDnYu6O2D+Wkdn3wAfcP3d4B1sdmdw/3d1aJ4NUyz+tnangoMLVP+Wo6bAUu+E/dOoW0NOi3T88gFuCeXDTP7Tixs5bbNE/aBIjT3vq0j+ZeaHyfp3RP67ol7EegNk/ahp0UA+yzj/2YCe4E1POP6op5x+eMtY/EW0PILFn0D9Iq4is5JLTPw==",
          "dtype": "f8"
         }
        },
        {
         "legendgroup": "('dummy_model', 'test_dataset', 'base', 'main', 'prompt_only')",
         "marker": {
          "color": "#1f77b4",
          "opacity": 0.5,
          "size": 6
         },
         "mode": "markers",
         "name": "('dummy_model', 'test_dataset', 'base', 'main', 'prompt_only') Fold ('logistic_regression_f1_score', 0)",
         "showlegend": false,
         "type": "scatter",
         "x": {
          "bdata": "AAECAwQFBgcICQoLDA0ODxAREhMUFRYXGBkaGxwdHh8=",
          "dtype": "i1"
         },
         "y": {
          "bdata": "VVVVVVVV5T+amZmZmZnZP3kN5TWU1+A/C1nIQhay4D8XXXTRRRfdPxzHcRzHcdw/AAAAAAAA4D8or6G8hvLaP2ZmZmZmZuY/kiRJkiRJ4j+e53me53nePzMzMzMzM+M/AAAAAAAA4D/T0tLS0tLiP3kN5TWU1+A/MzMzMzMz4z95DeU1lNfgPwAAAAAAAOA/Hh4eHh4e3j8LWchCFrLgPwtZyEIWsuA/dmIndmIn5j+96U1vetPbP1VVVVVVVeU/XkN5DeU11D8AAAAAAADYP3Icx3Ecx+E/KK+hvIby2j8or6G8hvLaPwAAAAAAANg/mpmZmZmZ2T+e53me53nePw==",
          "dtype": "f8"
         }
        },
        {
         "legendgroup": "('dummy_model', 'test_dataset', 'base', 'main', 'prompt_only')",
         "marker": {
          "color": "#1f77b4",
          "opacity": 0.5,
          "size": 6
         },
         "mode": "markers",
         "name": "('dummy_model', 'test_dataset', 'base', 'main', 'prompt_only') Fold ('logistic_regression_f1_score', 1)",
         "showlegend": false,
         "type": "scatter",
         "x": {
          "bdata": "AAECAwQFBgcICQoLDA0ODxAREhMUFRYXGBkaGxwdHh8=",
          "dtype": "i1"
         },
         "y": {
          "bdata": "C1nIQhay4D9yHMdxHMfhPyivobyG8to/Q3kN5TWU5z8or6G8hvLaP0N5DeU1lOc/XkN5DeU15D9ddNFFF13kP5eWlpaWltY/l5aWlpaW1j8AAAAAAADgP5qZmZmZmdk/KK+hvIby2j8AAAAAAADYP1100UUXXeQ/dNFFF1104T+amZmZmZnZP5qZmZmZmdk/AAAAAAAAwD8YhmEYhmHoP15DeQ3lNeQ/XkN5DeU15D8YhmEYhmHoPwAAAAAAANA/AAAAAAAA4D8eHh4eHh7ePzMzMzMzM+M/Hh4eHh4e3j+XlpaWlpbWPxQ7sRM7sdM/HMdxHMdx3D9VVVVVVVXlPw==",
          "dtype": "f8"
         }
        },
        {
         "legendgroup": "('dummy_model', 'test_dataset', 'base', 'main', 'prompt_only')",
         "marker": {
          "color": "#1f77b4",
          "opacity": 0.5,
          "size": 6
         },
         "mode": "markers",
         "name": "('dummy_model', 'test_dataset', 'base', 'main', 'prompt_only') Fold ('logistic_regression_f1_score', 2)",
         "showlegend": false,
         "type": "scatter",
         "x": {
          "bdata": "AAECAwQFBgcICQoLDA0ODxAREhMUFRYXGBkaGxwdHh8=",
          "dtype": "i1"
         },
         "y": {
          "bdata": "dNFFF1104T/btm3btm3bP6uqqqqqquo/dNFFF1104T8RERERERHhPwAAAAAAAOQ/F1100UUX7T+amZmZmZnJP57YiZ3Yid0/mpmZmZmZ2T8UO7ETO7HjPwAAAAAAAOA/RhdddNFFxz+SJEmSJEniP5IkSZIkSeI/mpmZmZmZ2T+amZmZmZnpP1VVVVVVVeU/RhdddNFF1z9VVVVVVVXVPwAAAAAAAOQ/dNFFF1104T9VVVVVVVXVP9u2bdu2bds/FDuxEzux4z+amZmZmZnJP1VVVVVVVeU/kiRJkiRJ0j8cx3Ecx3HMP3TRRRdddOE/HMdxHMdxzD+amZmZmZnJPw==",
          "dtype": "f8"
         }
        },
        {
         "legendgroup": "('dummy_model', 'test_dataset', 'base', 'main', 'prompt_only')",
         "marker": {
          "color": "#1f77b4",
          "opacity": 0.5,
          "size": 6
         },
         "mode": "markers",
         "name": "('dummy_model', 'test_dataset', 'base', 'main', 'prompt_only') Fold ('logistic_regression_f1_score', 3)",
         "showlegend": false,
         "type": "scatter",
         "x": {
          "bdata": "AAECAwQFBgcICQoLDA0ODxAREhMUFRYXGBkaGxwdHh8=",
          "dtype": "i1"
         },
         "y": {
          "bdata": "t23btm3b5j+e2Imd2IndP15DeQ3lNeQ/AAAAAAAA5D+3bdu2bdvmP0YXXXTRRcc/AAAAAAAA2D9GF1100UXHPxQ7sRM7sdM/t23btm3b5j9GF1100UXXP1VVVVVVVeU/AAAAAAAA4D8RERERERHhP5IkSZIkSeI/kiRJkiRJ4j+3bdu2bdvmP1VVVVVVVeU/HMdxHMdx3D+amZmZmZnZPxQ7sRM7seM/AAAAAAAA4D8AAAAAAADgP1VVVVVVVdU/VVVVVVVV5T/btm3btm3bP9u2bdu2bds/VVVVVVVV5T8UO7ETO7HTPwAAAAAAAOA/RhdddNFF5z8AAAAAAADkPw==",
          "dtype": "f8"
         }
        },
        {
         "legendgroup": "('dummy_model', 'test_dataset', 'base', 'main', 'prompt_only')",
         "marker": {
          "color": "#1f77b4",
          "opacity": 0.5,
          "size": 6
         },
         "mode": "markers",
         "name": "('dummy_model', 'test_dataset', 'base', 'main', 'prompt_only') Fold ('logistic_regression_f1_score', 4)",
         "showlegend": false,
         "type": "scatter",
         "x": {
          "bdata": "AAECAwQFBgcICQoLDA0ODxAREhMUFRYXGBkaGxwdHh8=",
          "dtype": "i1"
         },
         "y": {
          "bdata": "mpmZmZmZ2T84velNb3rjPzMzMzMzM+M/nud5nud53j95DeU1lNfgPxdddNFFF90/mpmZmZmZ2T8zMzMzMzPjP1VVVVVVVdU/AAAAAAAA0D900UUXXXThPx4eHh4eHs4/F1100UUX3T9ddNFFF13kP57neZ7ned4/l5aWlpaW1j900UUXXXThP5IkSZIkSeI/ZmZmZmZm5j8AAAAAAADgPzMzMzMzM+M/HMdxHMdx3D+XlpaWlpbWP0N5DeU1lOc/ERERERER0T8cx3Ecx3HcP0YXXXTRRdc/HMdxHMdxzD84velNb3rjP3kN5TWU1+A/mpmZmZmZ2T+e53me53nePw==",
          "dtype": "f8"
         }
        }
       ],
       "layout": {
        "font": {
         "color": "white"
        },
        "height": 600,
        "legend": {
         "bgcolor": "rgba(32, 32, 32, 0.8)",
         "orientation": "h",
         "x": 0.5,
         "xanchor": "center",
         "y": 1.02,
         "yanchor": "bottom"
        },
        "margin": {
         "b": 50,
         "l": 50,
         "r": 30,
         "t": 100
        },
        "paper_bgcolor": "rgba(32, 32, 32, 1)",
        "plot_bgcolor": "rgba(32, 32, 32, 1)",
        "showlegend": true,
        "template": {
         "data": {
          "bar": [
           {
            "error_x": {
             "color": "#f2f5fa"
            },
            "error_y": {
             "color": "#f2f5fa"
            },
            "marker": {
             "line": {
              "color": "rgb(17,17,17)",
              "width": 0.5
             },
             "pattern": {
              "fillmode": "overlay",
              "size": 10,
              "solidity": 0.2
             }
            },
            "type": "bar"
           }
          ],
          "barpolar": [
           {
            "marker": {
             "line": {
              "color": "rgb(17,17,17)",
              "width": 0.5
             },
             "pattern": {
              "fillmode": "overlay",
              "size": 10,
              "solidity": 0.2
             }
            },
            "type": "barpolar"
           }
          ],
          "carpet": [
           {
            "aaxis": {
             "endlinecolor": "#A2B1C6",
             "gridcolor": "#506784",
             "linecolor": "#506784",
             "minorgridcolor": "#506784",
             "startlinecolor": "#A2B1C6"
            },
            "baxis": {
             "endlinecolor": "#A2B1C6",
             "gridcolor": "#506784",
             "linecolor": "#506784",
             "minorgridcolor": "#506784",
             "startlinecolor": "#A2B1C6"
            },
            "type": "carpet"
           }
          ],
          "choropleth": [
           {
            "colorbar": {
             "outlinewidth": 0,
             "ticks": ""
            },
            "type": "choropleth"
           }
          ],
          "contour": [
           {
            "colorbar": {
             "outlinewidth": 0,
             "ticks": ""
            },
            "colorscale": [
             [
              0,
              "#0d0887"
             ],
             [
              0.1111111111111111,
              "#46039f"
             ],
             [
              0.2222222222222222,
              "#7201a8"
             ],
             [
              0.3333333333333333,
              "#9c179e"
             ],
             [
              0.4444444444444444,
              "#bd3786"
             ],
             [
              0.5555555555555556,
              "#d8576b"
             ],
             [
              0.6666666666666666,
              "#ed7953"
             ],
             [
              0.7777777777777778,
              "#fb9f3a"
             ],
             [
              0.8888888888888888,
              "#fdca26"
             ],
             [
              1,
              "#f0f921"
             ]
            ],
            "type": "contour"
           }
          ],
          "contourcarpet": [
           {
            "colorbar": {
             "outlinewidth": 0,
             "ticks": ""
            },
            "type": "contourcarpet"
           }
          ],
          "heatmap": [
           {
            "colorbar": {
             "outlinewidth": 0,
             "ticks": ""
            },
            "colorscale": [
             [
              0,
              "#0d0887"
             ],
             [
              0.1111111111111111,
              "#46039f"
             ],
             [
              0.2222222222222222,
              "#7201a8"
             ],
             [
              0.3333333333333333,
              "#9c179e"
             ],
             [
              0.4444444444444444,
              "#bd3786"
             ],
             [
              0.5555555555555556,
              "#d8576b"
             ],
             [
              0.6666666666666666,
              "#ed7953"
             ],
             [
              0.7777777777777778,
              "#fb9f3a"
             ],
             [
              0.8888888888888888,
              "#fdca26"
             ],
             [
              1,
              "#f0f921"
             ]
            ],
            "type": "heatmap"
           }
          ],
          "histogram": [
           {
            "marker": {
             "pattern": {
              "fillmode": "overlay",
              "size": 10,
              "solidity": 0.2
             }
            },
            "type": "histogram"
           }
          ],
          "histogram2d": [
           {
            "colorbar": {
             "outlinewidth": 0,
             "ticks": ""
            },
            "colorscale": [
             [
              0,
              "#0d0887"
             ],
             [
              0.1111111111111111,
              "#46039f"
             ],
             [
              0.2222222222222222,
              "#7201a8"
             ],
             [
              0.3333333333333333,
              "#9c179e"
             ],
             [
              0.4444444444444444,
              "#bd3786"
             ],
             [
              0.5555555555555556,
              "#d8576b"
             ],
             [
              0.6666666666666666,
              "#ed7953"
             ],
             [
              0.7777777777777778,
              "#fb9f3a"
             ],
             [
              0.8888888888888888,
              "#fdca26"
             ],
             [
              1,
              "#f0f921"
             ]
            ],
            "type": "histogram2d"
           }
          ],
          "histogram2dcontour": [
           {
            "colorbar": {
             "outlinewidth": 0,
             "ticks": ""
            },
            "colorscale": [
             [
              0,
              "#0d0887"
             ],
             [
              0.1111111111111111,
              "#46039f"
             ],
             [
              0.2222222222222222,
              "#7201a8"
             ],
             [
              0.3333333333333333,
              "#9c179e"
             ],
             [
              0.4444444444444444,
              "#bd3786"
             ],
             [
              0.5555555555555556,
              "#d8576b"
             ],
             [
              0.6666666666666666,
              "#ed7953"
             ],
             [
              0.7777777777777778,
              "#fb9f3a"
             ],
             [
              0.8888888888888888,
              "#fdca26"
             ],
             [
              1,
              "#f0f921"
             ]
            ],
            "type": "histogram2dcontour"
           }
          ],
          "mesh3d": [
           {
            "colorbar": {
             "outlinewidth": 0,
             "ticks": ""
            },
            "type": "mesh3d"
           }
          ],
          "parcoords": [
           {
            "line": {
             "colorbar": {
              "outlinewidth": 0,
              "ticks": ""
             }
            },
            "type": "parcoords"
           }
          ],
          "pie": [
           {
            "automargin": true,
            "type": "pie"
           }
          ],
          "scatter": [
           {
            "marker": {
             "line": {
              "color": "#283442"
             }
            },
            "type": "scatter"
           }
          ],
          "scatter3d": [
           {
            "line": {
             "colorbar": {
              "outlinewidth": 0,
              "ticks": ""
             }
            },
            "marker": {
             "colorbar": {
              "outlinewidth": 0,
              "ticks": ""
             }
            },
            "type": "scatter3d"
           }
          ],
          "scattercarpet": [
           {
            "marker": {
             "colorbar": {
              "outlinewidth": 0,
              "ticks": ""
             }
            },
            "type": "scattercarpet"
           }
          ],
          "scattergeo": [
           {
            "marker": {
             "colorbar": {
              "outlinewidth": 0,
              "ticks": ""
             }
            },
            "type": "scattergeo"
           }
          ],
          "scattergl": [
           {
            "marker": {
             "line": {
              "color": "#283442"
             }
            },
            "type": "scattergl"
           }
          ],
          "scattermap": [
           {
            "marker": {
             "colorbar": {
              "outlinewidth": 0,
              "ticks": ""
             }
            },
            "type": "scattermap"
           }
          ],
          "scattermapbox": [
           {
            "marker": {
             "colorbar": {
              "outlinewidth": 0,
              "ticks": ""
             }
            },
            "type": "scattermapbox"
           }
          ],
          "scatterpolar": [
           {
            "marker": {
             "colorbar": {
              "outlinewidth": 0,
              "ticks": ""
             }
            },
            "type": "scatterpolar"
           }
          ],
          "scatterpolargl": [
           {
            "marker": {
             "colorbar": {
              "outlinewidth": 0,
              "ticks": ""
             }
            },
            "type": "scatterpolargl"
           }
          ],
          "scatterternary": [
           {
            "marker": {
             "colorbar": {
              "outlinewidth": 0,
              "ticks": ""
             }
            },
            "type": "scatterternary"
           }
          ],
          "surface": [
           {
            "colorbar": {
             "outlinewidth": 0,
             "ticks": ""
            },
            "colorscale": [
             [
              0,
              "#0d0887"
             ],
             [
              0.1111111111111111,
              "#46039f"
             ],
             [
              0.2222222222222222,
              "#7201a8"
             ],
             [
              0.3333333333333333,
              "#9c179e"
             ],
             [
              0.4444444444444444,
              "#bd3786"
             ],
             [
              0.5555555555555556,
              "#d8576b"
             ],
             [
              0.6666666666666666,
              "#ed7953"
             ],
             [
              0.7777777777777778,
              "#fb9f3a"
             ],
             [
              0.8888888888888888,
              "#fdca26"
             ],
             [
              1,
              "#f0f921"
             ]
            ],
            "type": "surface"
           }
          ],
          "table": [
           {
            "cells": {
             "fill": {
              "color": "#506784"
             },
             "line": {
              "color": "rgb(17,17,17)"
             }
            },
            "header": {
             "fill": {
              "color": "#2a3f5f"
             },
             "line": {
              "color": "rgb(17,17,17)"
             }
            },
            "type": "table"
           }
          ]
         },
         "layout": {
          "annotationdefaults": {
           "arrowcolor": "#f2f5fa",
           "arrowhead": 0,
           "arrowwidth": 1
          },
          "autotypenumbers": "strict",
          "coloraxis": {
           "colorbar": {
            "outlinewidth": 0,
            "ticks": ""
           }
          },
          "colorscale": {
           "diverging": [
            [
             0,
             "#8e0152"
            ],
            [
             0.1,
             "#c51b7d"
            ],
            [
             0.2,
             "#de77ae"
            ],
            [
             0.3,
             "#f1b6da"
            ],
            [
             0.4,
             "#fde0ef"
            ],
            [
             0.5,
             "#f7f7f7"
            ],
            [
             0.6,
             "#e6f5d0"
            ],
            [
             0.7,
             "#b8e186"
            ],
            [
             0.8,
             "#7fbc41"
            ],
            [
             0.9,
             "#4d9221"
            ],
            [
             1,
             "#276419"
            ]
           ],
           "sequential": [
            [
             0,
             "#0d0887"
            ],
            [
             0.1111111111111111,
             "#46039f"
            ],
            [
             0.2222222222222222,
             "#7201a8"
            ],
            [
             0.3333333333333333,
             "#9c179e"
            ],
            [
             0.4444444444444444,
             "#bd3786"
            ],
            [
             0.5555555555555556,
             "#d8576b"
            ],
            [
             0.6666666666666666,
             "#ed7953"
            ],
            [
             0.7777777777777778,
             "#fb9f3a"
            ],
            [
             0.8888888888888888,
             "#fdca26"
            ],
            [
             1,
             "#f0f921"
            ]
           ],
           "sequentialminus": [
            [
             0,
             "#0d0887"
            ],
            [
             0.1111111111111111,
             "#46039f"
            ],
            [
             0.2222222222222222,
             "#7201a8"
            ],
            [
             0.3333333333333333,
             "#9c179e"
            ],
            [
             0.4444444444444444,
             "#bd3786"
            ],
            [
             0.5555555555555556,
             "#d8576b"
            ],
            [
             0.6666666666666666,
             "#ed7953"
            ],
            [
             0.7777777777777778,
             "#fb9f3a"
            ],
            [
             0.8888888888888888,
             "#fdca26"
            ],
            [
             1,
             "#f0f921"
            ]
           ]
          },
          "colorway": [
           "#636efa",
           "#EF553B",
           "#00cc96",
           "#ab63fa",
           "#FFA15A",
           "#19d3f3",
           "#FF6692",
           "#B6E880",
           "#FF97FF",
           "#FECB52"
          ],
          "font": {
           "color": "#f2f5fa"
          },
          "geo": {
           "bgcolor": "rgb(17,17,17)",
           "lakecolor": "rgb(17,17,17)",
           "landcolor": "rgb(17,17,17)",
           "showlakes": true,
           "showland": true,
           "subunitcolor": "#506784"
          },
          "hoverlabel": {
           "align": "left"
          },
          "hovermode": "closest",
          "mapbox": {
           "style": "dark"
          },
          "paper_bgcolor": "rgb(17,17,17)",
          "plot_bgcolor": "rgb(17,17,17)",
          "polar": {
           "angularaxis": {
            "gridcolor": "#506784",
            "linecolor": "#506784",
            "ticks": ""
           },
           "bgcolor": "rgb(17,17,17)",
           "radialaxis": {
            "gridcolor": "#506784",
            "linecolor": "#506784",
            "ticks": ""
           }
          },
          "scene": {
           "xaxis": {
            "backgroundcolor": "rgb(17,17,17)",
            "gridcolor": "#506784",
            "gridwidth": 2,
            "linecolor": "#506784",
            "showbackground": true,
            "ticks": "",
            "zerolinecolor": "#C8D4E3"
           },
           "yaxis": {
            "backgroundcolor": "rgb(17,17,17)",
            "gridcolor": "#506784",
            "gridwidth": 2,
            "linecolor": "#506784",
            "showbackground": true,
            "ticks": "",
            "zerolinecolor": "#C8D4E3"
           },
           "zaxis": {
            "backgroundcolor": "rgb(17,17,17)",
            "gridcolor": "#506784",
            "gridwidth": 2,
            "linecolor": "#506784",
            "showbackground": true,
            "ticks": "",
            "zerolinecolor": "#C8D4E3"
           }
          },
          "shapedefaults": {
           "line": {
            "color": "#f2f5fa"
           }
          },
          "sliderdefaults": {
           "bgcolor": "#C8D4E3",
           "bordercolor": "rgb(17,17,17)",
           "borderwidth": 1,
           "tickwidth": 0
          },
          "ternary": {
           "aaxis": {
            "gridcolor": "#506784",
            "linecolor": "#506784",
            "ticks": ""
           },
           "baxis": {
            "gridcolor": "#506784",
            "linecolor": "#506784",
            "ticks": ""
           },
           "bgcolor": "rgb(17,17,17)",
           "caxis": {
            "gridcolor": "#506784",
            "linecolor": "#506784",
            "ticks": ""
           }
          },
          "title": {
           "x": 0.05
          },
          "updatemenudefaults": {
           "bgcolor": "#506784",
           "borderwidth": 0
          },
          "xaxis": {
           "automargin": true,
           "gridcolor": "#283442",
           "linecolor": "#506784",
           "ticks": "",
           "title": {
            "standoff": 15
           },
           "zerolinecolor": "#283442",
           "zerolinewidth": 2
          },
          "yaxis": {
           "automargin": true,
           "gridcolor": "#283442",
           "linecolor": "#506784",
           "ticks": "",
           "title": {
            "standoff": 15
           },
           "zerolinecolor": "#283442",
           "zerolinewidth": 2
          }
         }
        },
        "title": {},
        "width": 1000,
        "xaxis": {
         "gridcolor": "rgba(128, 128, 128, 0.2)",
         "title": {
          "text": "Layer"
         },
         "zeroline": false
        },
        "yaxis": {
         "gridcolor": "rgba(128, 128, 128, 0.2)",
         "title": {
          "text": "Logistic Regression F1 Score"
         },
         "zeroline": false
        }
       }
      }
     },
     "metadata": {},
     "output_type": "display_data"
    }
   ],
   "source": [
    "for classifier in [\"direction\", \"logistic_regression\"]:\n",
    "    # for metric in [\"f1_score\", \"accuracy_score\", \"precision_score\", \"recall_score\"]:\n",
    "    for metric in [\"f1_score\"]:\n",
    "        plot_dict = {}\n",
    "        for conf, res_df_ in res_df.groupby([\"model_id\", \"dataset_id\", \"prompt_id\", \"subset_id\", \"input_type\"]):\n",
    "            # if conf[4] != \"prompt_only\":\n",
    "            #     continue\n",
    "            \n",
    "            print(f\"{conf=}\")\n",
    "            res_df_pivot = pd.pivot(\n",
    "                res_df_.drop(columns=[\"model_id\", \"dataset_id\", \"prompt_id\", \"subset_id\", \"input_type\"]),\n",
    "                index='layer',\n",
    "                columns='fold',\n",
    "                # values=['direction_f1_score', 'logistic_regression_f1_score']  # add all metrics you want to keep\n",
    "            )\n",
    "            # for classifier in [\"direction\", \"logistic_regression\"]:\n",
    "            #     for metric in [\"f1_score\", \"accuracy_score\", \"precision_score\", \"recall_score\"]:\n",
    "            plot_dict[str(conf)] = res_df_pivot[[f\"{classifier}_{metric}\"]]\n",
    "\n",
    "        plot_interactive_lineplot(\n",
    "            plot_dict,\n",
    "            x_label=\"Layer\",\n",
    "            y_label=f\"{classifier}_{metric}\".replace(\"_\", \" \").title(),\n",
    "            save_path=f\"./classification_data/figures/dummy_data_{classifier}_{metric}{N_DIMS_LABEL}{PCA_COMONENTS_LABEL}.html\"\n",
    "        ).show()\n",
    "\n"
   ]
  },
  {
   "cell_type": "code",
   "execution_count": null,
   "metadata": {},
   "outputs": [],
   "source": []
  },
  {
   "cell_type": "code",
   "execution_count": null,
   "metadata": {},
   "outputs": [],
   "source": []
  },
  {
   "cell_type": "code",
   "execution_count": null,
   "metadata": {},
   "outputs": [],
   "source": []
  },
  {
   "cell_type": "code",
   "execution_count": null,
   "metadata": {},
   "outputs": [],
   "source": []
  },
  {
   "cell_type": "code",
   "execution_count": null,
   "metadata": {},
   "outputs": [],
   "source": []
  },
  {
   "cell_type": "code",
   "execution_count": null,
   "metadata": {},
   "outputs": [],
   "source": []
  },
  {
   "cell_type": "code",
   "execution_count": null,
   "metadata": {},
   "outputs": [],
   "source": []
  }
 ],
 "metadata": {
  "kernelspec": {
   "display_name": "venv",
   "language": "python",
   "name": "python3"
  },
  "language_info": {
   "codemirror_mode": {
    "name": "ipython",
    "version": 3
   },
   "file_extension": ".py",
   "mimetype": "text/x-python",
   "name": "python",
   "nbconvert_exporter": "python",
   "pygments_lexer": "ipython3",
   "version": "3.11.3"
  }
 },
 "nbformat": 4,
 "nbformat_minor": 2
}
