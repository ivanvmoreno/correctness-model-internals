{
 "cells": [
  {
   "cell_type": "code",
   "execution_count": 1,
   "metadata": {},
   "outputs": [
    {
     "data": {
      "text/plain": [
       "['/Library/Frameworks/Python.framework/Versions/3.11/lib/python311.zip',\n",
       " '/Library/Frameworks/Python.framework/Versions/3.11/lib/python3.11',\n",
       " '/Library/Frameworks/Python.framework/Versions/3.11/lib/python3.11/lib-dynload',\n",
       " '',\n",
       " '/Users/anton/dev/MARS/correctness-model-internals/venv/lib/python3.11/site-packages',\n",
       " '/Users/anton/dev/MARS/correctness-model-internals']"
      ]
     },
     "execution_count": 1,
     "metadata": {},
     "output_type": "execute_result"
    }
   ],
   "source": [
    "import sys\n",
    "from pathlib import Path\n",
    "\n",
    "# Add the src directory to Python path\n",
    "src_path = str(Path(\"./\").resolve().parent.parent)\n",
    "if src_path not in sys.path:\n",
    "    sys.path.append(src_path)\n",
    "\n",
    "sys.path"
   ]
  },
  {
   "cell_type": "code",
   "execution_count": 2,
   "metadata": {},
   "outputs": [],
   "source": [
    "from collections import defaultdict\n",
    "\n",
    "import pandas as pd\n",
    "\n",
    "from src.classifying import (\n",
    "    ActivationsHandler,\n",
    "    combine_activations_handlers,\n",
    "    get_correctness_direction_classifier,\n",
    "    get_logistic_regression_classifier,\n",
    "    get_between_class_variance_and_within_class_variance,\n",
    ")\n",
    "from src.visualisations.utils import plot_interactive_lineplot\n",
    "from src.utils.data import load_activations, load_labels, get_experiment_activations_configs_df_subset\n"
   ]
  },
  {
   "cell_type": "code",
   "execution_count": 3,
   "metadata": {},
   "outputs": [],
   "source": [
    "BASE_PATH = \"../../data_for_classification\"\n",
    "PCA_COMPONENTS = 10\n",
    "\n",
    "PCA_COMONENTS_LABEL = f\"_pca_{PCA_COMPONENTS}\" if PCA_COMPONENTS else \"\""
   ]
  },
  {
   "cell_type": "code",
   "execution_count": 4,
   "metadata": {},
   "outputs": [
    {
     "data": {
      "text/html": [
       "<div>\n",
       "<style scoped>\n",
       "    .dataframe tbody tr th:only-of-type {\n",
       "        vertical-align: middle;\n",
       "    }\n",
       "\n",
       "    .dataframe tbody tr th {\n",
       "        vertical-align: top;\n",
       "    }\n",
       "\n",
       "    .dataframe thead th {\n",
       "        text-align: right;\n",
       "    }\n",
       "</style>\n",
       "<table border=\"1\" class=\"dataframe\">\n",
       "  <thead>\n",
       "    <tr style=\"text-align: right;\">\n",
       "      <th></th>\n",
       "      <th>model_id</th>\n",
       "      <th>dataset_id</th>\n",
       "      <th>prompt_id</th>\n",
       "      <th>subset_id</th>\n",
       "      <th>input_type</th>\n",
       "      <th>layer</th>\n",
       "      <th>path</th>\n",
       "    </tr>\n",
       "  </thead>\n",
       "  <tbody>\n",
       "    <tr>\n",
       "      <th>0</th>\n",
       "      <td>llama3.1_8b_chat</td>\n",
       "      <td>football_leagues_1k</td>\n",
       "      <td>base</td>\n",
       "      <td>main</td>\n",
       "      <td>prompt_only</td>\n",
       "      <td>0</td>\n",
       "      <td>../../data_for_classification/activations/llam...</td>\n",
       "    </tr>\n",
       "    <tr>\n",
       "      <th>1</th>\n",
       "      <td>llama3.1_8b_chat</td>\n",
       "      <td>football_leagues_1k</td>\n",
       "      <td>base</td>\n",
       "      <td>main</td>\n",
       "      <td>prompt_only</td>\n",
       "      <td>7</td>\n",
       "      <td>../../data_for_classification/activations/llam...</td>\n",
       "    </tr>\n",
       "    <tr>\n",
       "      <th>2</th>\n",
       "      <td>llama3.1_8b_chat</td>\n",
       "      <td>football_leagues_1k</td>\n",
       "      <td>base</td>\n",
       "      <td>main</td>\n",
       "      <td>prompt_only</td>\n",
       "      <td>9</td>\n",
       "      <td>../../data_for_classification/activations/llam...</td>\n",
       "    </tr>\n",
       "    <tr>\n",
       "      <th>3</th>\n",
       "      <td>llama3.1_8b_chat</td>\n",
       "      <td>football_leagues_1k</td>\n",
       "      <td>base</td>\n",
       "      <td>main</td>\n",
       "      <td>prompt_only</td>\n",
       "      <td>17</td>\n",
       "      <td>../../data_for_classification/activations/llam...</td>\n",
       "    </tr>\n",
       "    <tr>\n",
       "      <th>4</th>\n",
       "      <td>llama3.1_8b_chat</td>\n",
       "      <td>football_leagues_1k</td>\n",
       "      <td>base</td>\n",
       "      <td>main</td>\n",
       "      <td>prompt_only</td>\n",
       "      <td>28</td>\n",
       "      <td>../../data_for_classification/activations/llam...</td>\n",
       "    </tr>\n",
       "    <tr>\n",
       "      <th>...</th>\n",
       "      <td>...</td>\n",
       "      <td>...</td>\n",
       "      <td>...</td>\n",
       "      <td>...</td>\n",
       "      <td>...</td>\n",
       "      <td>...</td>\n",
       "      <td>...</td>\n",
       "    </tr>\n",
       "    <tr>\n",
       "      <th>379</th>\n",
       "      <td>llama3.1_8b_chat</td>\n",
       "      <td>birth_years_4k</td>\n",
       "      <td>base</td>\n",
       "      <td>main</td>\n",
       "      <td>prompt_answer</td>\n",
       "      <td>23</td>\n",
       "      <td>../../data_for_classification/activations/llam...</td>\n",
       "    </tr>\n",
       "    <tr>\n",
       "      <th>380</th>\n",
       "      <td>llama3.1_8b_chat</td>\n",
       "      <td>birth_years_4k</td>\n",
       "      <td>base</td>\n",
       "      <td>main</td>\n",
       "      <td>prompt_answer</td>\n",
       "      <td>15</td>\n",
       "      <td>../../data_for_classification/activations/llam...</td>\n",
       "    </tr>\n",
       "    <tr>\n",
       "      <th>381</th>\n",
       "      <td>llama3.1_8b_chat</td>\n",
       "      <td>birth_years_4k</td>\n",
       "      <td>base</td>\n",
       "      <td>main</td>\n",
       "      <td>prompt_answer</td>\n",
       "      <td>12</td>\n",
       "      <td>../../data_for_classification/activations/llam...</td>\n",
       "    </tr>\n",
       "    <tr>\n",
       "      <th>382</th>\n",
       "      <td>llama3.1_8b_chat</td>\n",
       "      <td>birth_years_4k</td>\n",
       "      <td>base</td>\n",
       "      <td>main</td>\n",
       "      <td>prompt_answer</td>\n",
       "      <td>2</td>\n",
       "      <td>../../data_for_classification/activations/llam...</td>\n",
       "    </tr>\n",
       "    <tr>\n",
       "      <th>383</th>\n",
       "      <td>llama3.1_8b_chat</td>\n",
       "      <td>birth_years_4k</td>\n",
       "      <td>base</td>\n",
       "      <td>main</td>\n",
       "      <td>prompt_answer</td>\n",
       "      <td>5</td>\n",
       "      <td>../../data_for_classification/activations/llam...</td>\n",
       "    </tr>\n",
       "  </tbody>\n",
       "</table>\n",
       "<p>384 rows × 7 columns</p>\n",
       "</div>"
      ],
      "text/plain": [
       "             model_id           dataset_id prompt_id subset_id     input_type  \\\n",
       "0    llama3.1_8b_chat  football_leagues_1k      base      main    prompt_only   \n",
       "1    llama3.1_8b_chat  football_leagues_1k      base      main    prompt_only   \n",
       "2    llama3.1_8b_chat  football_leagues_1k      base      main    prompt_only   \n",
       "3    llama3.1_8b_chat  football_leagues_1k      base      main    prompt_only   \n",
       "4    llama3.1_8b_chat  football_leagues_1k      base      main    prompt_only   \n",
       "..                ...                  ...       ...       ...            ...   \n",
       "379  llama3.1_8b_chat       birth_years_4k      base      main  prompt_answer   \n",
       "380  llama3.1_8b_chat       birth_years_4k      base      main  prompt_answer   \n",
       "381  llama3.1_8b_chat       birth_years_4k      base      main  prompt_answer   \n",
       "382  llama3.1_8b_chat       birth_years_4k      base      main  prompt_answer   \n",
       "383  llama3.1_8b_chat       birth_years_4k      base      main  prompt_answer   \n",
       "\n",
       "     layer                                               path  \n",
       "0        0  ../../data_for_classification/activations/llam...  \n",
       "1        7  ../../data_for_classification/activations/llam...  \n",
       "2        9  ../../data_for_classification/activations/llam...  \n",
       "3       17  ../../data_for_classification/activations/llam...  \n",
       "4       28  ../../data_for_classification/activations/llam...  \n",
       "..     ...                                                ...  \n",
       "379     23  ../../data_for_classification/activations/llam...  \n",
       "380     15  ../../data_for_classification/activations/llam...  \n",
       "381     12  ../../data_for_classification/activations/llam...  \n",
       "382      2  ../../data_for_classification/activations/llam...  \n",
       "383      5  ../../data_for_classification/activations/llam...  \n",
       "\n",
       "[384 rows x 7 columns]"
      ]
     },
     "execution_count": 4,
     "metadata": {},
     "output_type": "execute_result"
    }
   ],
   "source": [
    "# Set None to get all\n",
    "MODEL_ID = \"llama3.1_8b_chat\"\n",
    "# DATASET_ID = \"gsm8k\"\n",
    "# PROMPT_ID = \"cot_3_shot\"\n",
    "# SUBSET_ID = \"main\"\n",
    "# INPUT_TYPE = \"prompt_only\"\n",
    "DATASET_ID = None\n",
    "PROMPT_ID = None\n",
    "SUBSET_ID = None\n",
    "INPUT_TYPE = None\n",
    "\n",
    "activation_exp_configs_df = get_experiment_activations_configs_df_subset(\n",
    "    base_path=BASE_PATH,\n",
    "    model_id=MODEL_ID,\n",
    "    dataset_id=DATASET_ID,\n",
    "    prompt_id=PROMPT_ID,\n",
    "    subset_id=SUBSET_ID,\n",
    "    input_type=INPUT_TYPE,\n",
    ")\n",
    "activation_exp_configs_df"
   ]
  },
  {
   "cell_type": "code",
   "execution_count": 5,
   "metadata": {},
   "outputs": [
    {
     "name": "stdout",
     "output_type": "stream",
     "text": [
      "\n",
      "model_id='llama3.1_8b_chat', dataset_id='birth_years_4k', prompt_id='base', subset_id='main', input_type='prompt_answer'\n",
      "layer=0, layer=1, layer=2, layer=3, layer=4, layer=5, layer=6, layer=7, layer=8, layer=9, layer=10, layer=11, layer=12, layer=13, layer=14, layer=15, layer=16, layer=17, layer=18, layer=19, layer=20, layer=21, layer=22, layer=23, layer=24, layer=25, layer=26, layer=27, layer=28, layer=29, layer=30, layer=31, \n",
      "model_id='llama3.1_8b_chat', dataset_id='birth_years_4k', prompt_id='base', subset_id='main', input_type='prompt_only'\n",
      "layer=0, layer=1, layer=2, layer=3, layer=4, layer=5, layer=6, layer=7, layer=8, layer=9, layer=10, layer=11, layer=12, layer=13, layer=14, layer=15, layer=16, layer=17, layer=18, layer=19, layer=20, layer=21, layer=22, layer=23, layer=24, layer=25, layer=26, layer=27, layer=28, layer=29, layer=30, layer=31, \n",
      "model_id='llama3.1_8b_chat', dataset_id='cities_10k', prompt_id='base', subset_id='main', input_type='prompt_answer'\n",
      "layer=0, layer=1, layer=2, layer=3, layer=4, layer=5, layer=6, layer=7, layer=8, layer=9, layer=10, layer=11, layer=12, layer=13, layer=14, layer=15, layer=16, layer=17, layer=18, layer=19, layer=20, layer=21, layer=22, layer=23, layer=24, layer=25, layer=26, layer=27, layer=28, layer=29, layer=30, layer=31, \n",
      "model_id='llama3.1_8b_chat', dataset_id='cities_10k', prompt_id='base', subset_id='main', input_type='prompt_only'\n",
      "layer=0, layer=1, layer=2, layer=3, layer=4, layer=5, layer=6, layer=7, layer=8, layer=9, layer=10, layer=11, layer=12, layer=13, layer=14, layer=15, layer=16, layer=17, layer=18, layer=19, layer=20, layer=21, layer=22, layer=23, layer=24, layer=25, layer=26, layer=27, layer=28, layer=29, layer=30, layer=31, \n",
      "model_id='llama3.1_8b_chat', dataset_id='football_leagues_1k', prompt_id='base', subset_id='main', input_type='prompt_answer'\n",
      "layer=0, layer=1, layer=2, layer=3, layer=4, layer=5, layer=6, layer=7, layer=8, layer=9, layer=10, layer=11, layer=12, layer=13, layer=14, layer=15, layer=16, layer=17, layer=18, layer=19, layer=20, layer=21, layer=22, layer=23, layer=24, layer=25, layer=26, layer=27, layer=28, layer=29, layer=30, layer=31, \n",
      "model_id='llama3.1_8b_chat', dataset_id='football_leagues_1k', prompt_id='base', subset_id='main', input_type='prompt_only'\n",
      "layer=0, layer=1, layer=2, layer=3, layer=4, layer=5, layer=6, layer=7, layer=8, layer=9, layer=10, layer=11, layer=12, layer=13, layer=14, layer=15, layer=16, layer=17, layer=18, layer=19, layer=20, layer=21, layer=22, layer=23, layer=24, layer=25, layer=26, layer=27, layer=28, layer=29, layer=30, layer=31, \n",
      "model_id='llama3.1_8b_chat', dataset_id='gsm8k', prompt_id='base_3_shot', subset_id='main', input_type='prompt_answer'\n",
      "layer=0, layer=1, layer=2, layer=3, layer=4, layer=5, layer=6, layer=7, layer=8, layer=9, layer=10, layer=11, layer=12, layer=13, layer=14, layer=15, layer=16, layer=17, layer=18, layer=19, layer=20, layer=21, layer=22, layer=23, layer=24, layer=25, layer=26, layer=27, layer=28, layer=29, layer=30, layer=31, \n",
      "model_id='llama3.1_8b_chat', dataset_id='gsm8k', prompt_id='base_3_shot', subset_id='main', input_type='prompt_only'\n",
      "layer=0, layer=1, layer=2, layer=3, layer=4, layer=5, layer=6, layer=7, layer=8, layer=9, layer=10, layer=11, layer=12, layer=13, layer=14, layer=15, layer=16, layer=17, layer=18, layer=19, layer=20, layer=21, layer=22, layer=23, layer=24, layer=25, layer=26, layer=27, layer=28, layer=29, layer=30, layer=31, \n",
      "model_id='llama3.1_8b_chat', dataset_id='gsm8k', prompt_id='cot_3_shot', subset_id='main', input_type='prompt_answer'\n",
      "layer=0, layer=1, layer=2, layer=3, layer=4, layer=5, layer=6, layer=7, layer=8, layer=9, layer=10, layer=11, layer=12, layer=13, layer=14, layer=15, layer=16, layer=17, layer=18, layer=19, layer=20, layer=21, layer=22, layer=23, layer=24, layer=25, layer=26, layer=27, layer=28, layer=29, layer=30, layer=31, \n",
      "model_id='llama3.1_8b_chat', dataset_id='gsm8k', prompt_id='cot_3_shot', subset_id='main', input_type='prompt_only'\n",
      "layer=0, layer=1, layer=2, layer=3, layer=4, layer=5, layer=6, layer=7, layer=8, layer=9, layer=10, layer=11, layer=12, layer=13, layer=14, layer=15, layer=16, layer=17, layer=18, layer=19, layer=20, layer=21, layer=22, layer=23, layer=24, layer=25, layer=26, layer=27, layer=28, layer=29, layer=30, layer=31, \n",
      "model_id='llama3.1_8b_chat', dataset_id='medals_9k', prompt_id='base', subset_id='main', input_type='prompt_answer'\n",
      "layer=0, layer=1, layer=2, layer=3, layer=4, layer=5, layer=6, layer=7, layer=8, layer=9, layer=10, layer=11, layer=12, layer=13, layer=14, layer=15, layer=16, layer=17, layer=18, layer=19, layer=20, layer=21, layer=22, layer=23, layer=24, layer=25, layer=26, layer=27, layer=28, layer=29, layer=30, layer=31, \n",
      "model_id='llama3.1_8b_chat', dataset_id='medals_9k', prompt_id='base', subset_id='main', input_type='prompt_only'\n",
      "layer=0, layer=1, layer=2, layer=3, layer=4, layer=5, layer=6, layer=7, layer=8, layer=9, layer=10, layer=11, layer=12, layer=13, layer=14, layer=15, layer=16, layer=17, layer=18, layer=19, layer=20, layer=21, layer=22, layer=23, layer=24, layer=25, layer=26, layer=27, layer=28, layer=29, layer=30, layer=31, "
     ]
    }
   ],
   "source": [
    "between_over_within_class_variance_dict = defaultdict(list)\n",
    "\n",
    "for (model_id, dataset_id, prompt_id, subset_id, input_type), config_df in activation_exp_configs_df.groupby([\"model_id\", \"dataset_id\", \"prompt_id\", \"subset_id\", \"input_type\"]):\n",
    "    print(f\"\\n{model_id=}, {dataset_id=}, {prompt_id=}, {subset_id=}, {input_type=}\")\n",
    "    labels_df = load_labels(\n",
    "        base_path=BASE_PATH,\n",
    "        model_id=model_id,\n",
    "        dataset_id=dataset_id,\n",
    "        prompt_id=prompt_id,\n",
    "        subset_id=subset_id,\n",
    "    )\n",
    "\n",
    "    check_indices = None\n",
    "    for layer in config_df[\"layer\"].astype(int).sort_values():\n",
    "        print(f\"{layer=}\", end=\", \")\n",
    "        activations, indices = load_activations(\n",
    "            base_path=BASE_PATH,\n",
    "            model_id=model_id,\n",
    "            dataset_id=dataset_id,\n",
    "            prompt_id=prompt_id,\n",
    "            subset_id=subset_id,\n",
    "            input_type=input_type,\n",
    "            layer=layer,\n",
    "        )\n",
    "        \n",
    "        if check_indices is None:\n",
    "            check_indices = indices.sample(frac=1, replace=False)\n",
    "        \n",
    "        if set(indices) != set(check_indices):\n",
    "            raise RuntimeError(f\"indices across layers are not the same\")\n",
    "\n",
    "        labels_df_subset = labels_df.iloc[check_indices]\n",
    "        activations = activations[check_indices]\n",
    "\n",
    "        activations_handler = ActivationsHandler(\n",
    "            activations=activations,\n",
    "            labels=labels_df_subset[\"correct\"].astype(bool),\n",
    "        )\n",
    "\n",
    "        activations_handler, _ = activations_handler.reduce_dims(pca_components=PCA_COMPONENTS)\n",
    "\n",
    "        between_class_variance, within_class_variance = get_between_class_variance_and_within_class_variance(\n",
    "            activations_handler.sample_equally_across_groups(group_labels=(False, True)),\n",
    "            group_labels=(False, True),\n",
    "        )\n",
    "        between_over_within_class_variance_dict[\"model_id\"].append(model_id)\n",
    "        between_over_within_class_variance_dict[\"dataset_id\"].append(dataset_id)\n",
    "        between_over_within_class_variance_dict[\"prompt_id\"].append(prompt_id)\n",
    "        between_over_within_class_variance_dict[\"subset_id\"].append(subset_id)\n",
    "        between_over_within_class_variance_dict[\"input_type\"].append(input_type)\n",
    "        between_over_within_class_variance_dict[\"layer\"].append(layer)\n",
    "        between_over_within_class_variance_dict[\"between_class_variance\"].append(between_class_variance)\n",
    "        between_over_within_class_variance_dict[\"within_class_variance\"].append(within_class_variance)\n",
    "        between_over_within_class_variance_dict[\"between_over_within_class_variance\"].append(between_class_variance/within_class_variance)\n",
    "\n",
    "between_over_within_class_variance_df = pd.DataFrame(between_over_within_class_variance_dict)\n"
   ]
  },
  {
   "cell_type": "code",
   "execution_count": 6,
   "metadata": {},
   "outputs": [
    {
     "data": {
      "application/vnd.plotly.v1+json": {
       "config": {
        "plotlyServerURL": "https://plot.ly"
       },
       "data": [
        {
         "legendgroup": "('llama3.1_8b_chat', 'birth_years_4k', 'base', 'main', 'prompt_answer')",
         "line": {
          "color": "#1f77b4",
          "width": 2
         },
         "marker": {
          "size": 8
         },
         "mode": "lines+markers",
         "name": "('llama3.1_8b_chat', 'birth_years_4k', 'base', 'main', 'prompt_answer')",
         "type": "scatter",
         "x": {
          "bdata": "AAECAwQFBgcICQoLDA0ODxAREhMUFRYXGBkaGxwdHh8=",
          "dtype": "i1"
         },
         "y": {
          "bdata": "CuJJdJ4RZz8IyOc90mFpP0J50wl6HGs/Lm2emryLbT8sKd5I/U5xP6xCkL2q9nQ/WxEULZ7dcj+PfSJxWpxwP2wICNmpbnw/DAgw4LN5fT9tCsBkdt58P+HFCe8yY4I/XmAgXQoIgz/3fv3fwrWDP6ZNcit0toQ/vxEahtHhgT9CLCldv6uCP9aFSp5vH4U/4weyM09Ogz/JQAanXSWBP2NHiYueqoA/g5dbue3Nfj/hJ4ythid+P/HTQm+kQHw/jJKJVv4Mez8iMiN2Mot6P20JDrok/Hg/s44UYa68ej/Oj3qb/Nh8P/HvYz1ChXw/uq6bVWCQfj/3tJ3KfV6APw==",
          "dtype": "f8"
         }
        },
        {
         "legendgroup": "('llama3.1_8b_chat', 'birth_years_4k', 'base', 'main', 'prompt_only')",
         "line": {
          "color": "#ff7f0e",
          "width": 2
         },
         "marker": {
          "size": 8
         },
         "mode": "lines+markers",
         "name": "('llama3.1_8b_chat', 'birth_years_4k', 'base', 'main', 'prompt_only')",
         "type": "scatter",
         "x": {
          "bdata": "AAECAwQFBgcICQoLDA0ODxAREhMUFRYXGBkaGxwdHh8=",
          "dtype": "i1"
         },
         "y": {
          "bdata": "U8WapI5gWj/IpZqGnpZaP2Gg0wK3Dl8/tZQInCHCYT9MvaoGDVBnP8ALjoJUM2g/CuK6ezZ8az9SQ0GtjrFyP23hLjimBnQ/lJC6mNaXdj+Ol0BS+IF4PxBaXwbZIXk/o462TTvrfj+0zRsO0/aAP+OWIVwYAn8/8ZP/nX26fz9WLh7THIOCP5CU/HKfHYQ/sO1dEP5jhD/Cy2YrMbGDP7V9GKgxU4M/RsIXztVWgz/up6jAPjmDP3pEkZAv7YM/TYw2dqhagj+0Oaa0UpSCP5LyI3OFBoM/b/9grSzbgj/ZgyXWWdyCP7DD4aj2h4E/K+FeEKtAgT8pgtDxuTp+Pw==",
          "dtype": "f8"
         }
        },
        {
         "legendgroup": "('llama3.1_8b_chat', 'cities_10k', 'base', 'main', 'prompt_answer')",
         "line": {
          "color": "#2ca02c",
          "width": 2
         },
         "marker": {
          "size": 8
         },
         "mode": "lines+markers",
         "name": "('llama3.1_8b_chat', 'cities_10k', 'base', 'main', 'prompt_answer')",
         "type": "scatter",
         "x": {
          "bdata": "AAECAwQFBgcICQoLDA0ODxAREhMUFRYXGBkaGxwdHh8=",
          "dtype": "i1"
         },
         "y": {
          "bdata": "89C5kWmIgj/BQm/oiDKGP/bc5D3YXIg/f5edKP/Iiz8AHVvRLzyPP5EhzWFl1JA/es3Yhyz8kz+tKtEkHh6TP/IoHKmKbZQ/3YetdGiUlT/LqRBt3c2TP68jOTtIe5M/tePeMC7Bkz9p1cvTpVqUP082gTl/FJU/2aRStZuZlD8gNrxlNAaVP9N90PXHWJQ/lrHk8n8hkz/fZ0N8ai6RPyZYBMIt1Y8/e5bmPOUWjD8MmopZezaKP9Rwt0P6h4c/RMHBeLIIhz/ak92Pm8qFP+rI+4yGs4Q/UMedhQgEhD+Y2KgjjjGFP37O2zbU0oM/kmbtkqTsgz8ZAPVCkVSAPw==",
          "dtype": "f8"
         }
        },
        {
         "legendgroup": "('llama3.1_8b_chat', 'cities_10k', 'base', 'main', 'prompt_only')",
         "line": {
          "color": "#d62728",
          "width": 2
         },
         "marker": {
          "size": 8
         },
         "mode": "lines+markers",
         "name": "('llama3.1_8b_chat', 'cities_10k', 'base', 'main', 'prompt_only')",
         "type": "scatter",
         "x": {
          "bdata": "AAECAwQFBgcICQoLDA0ODxAREhMUFRYXGBkaGxwdHh8=",
          "dtype": "i1"
         },
         "y": {
          "bdata": "L0QVmCNncz9mZwZxcu15P1a0fn5sNnw/Xg9yDYRZej+lhAX+BNB3P5w7YpYpb3o/KoO+4PFAfT+HMFTGKI2CP6g6BGEDC4g/JC6gV1zliT8knrzHl4aIP5v2BlX2i4k/AoUjCZILiT8yqgVuakKIP4vE9AE0tIc/P2sWk/G9hz+L/nxBBnmHP19un2LUpoY/TtkT5vtShj+3pJil1w2EPzaxkKKve4E/6+219vxogz+/lqQioxeDP7gffC8zjYA/cDjx30nqgD//11leTZp/P+I0t8wK0n8/bXg0n+ALfj/4V1RKLXV+Pz/e9FhuvH4/9TU08h69fT+xwRjjgAaEPw==",
          "dtype": "f8"
         }
        },
        {
         "legendgroup": "('llama3.1_8b_chat', 'football_leagues_1k', 'base', 'main', 'prompt_answer')",
         "line": {
          "color": "#9467bd",
          "width": 2
         },
         "marker": {
          "size": 8
         },
         "mode": "lines+markers",
         "name": "('llama3.1_8b_chat', 'football_leagues_1k', 'base', 'main', 'prompt_answer')",
         "type": "scatter",
         "x": {
          "bdata": "AAECAwQFBgcICQoLDA0ODxAREhMUFRYXGBkaGxwdHh8=",
          "dtype": "i1"
         },
         "y": {
          "bdata": "Mpmueqp1dj/aUcYNVHVyPyGFqreiKnM//XqgrUIOcj+itf8RnA5xP8+GQBSob3I/tQLC9E8pdD8/XamH3V93P1WEhwPNEXk/XVlIQmXSfz/rd/zLhM59P9GzZBwMgns/SwBfql1hgz95DToybieHP5BeLbg7IIU/mvxs34vsgz8YRGIXfiF6P3TZP8uVMoU/NHm8TdtAhj/kOkYWpp+DPxtKRSNv0YA/f8eQotsFgD8laZd1ndtzP5agsOEBLn0/fPzAMPA4dT/9WIDkPbdzP/zavbrOKXM/PEgqxXVpcT8JWa+F5wNsPwb5N8lM3Gk/CHxH7fiNaz8lK2kX+/NpPw==",
          "dtype": "f8"
         }
        },
        {
         "legendgroup": "('llama3.1_8b_chat', 'football_leagues_1k', 'base', 'main', 'prompt_only')",
         "line": {
          "color": "#8c564b",
          "width": 2
         },
         "marker": {
          "size": 8
         },
         "mode": "lines+markers",
         "name": "('llama3.1_8b_chat', 'football_leagues_1k', 'base', 'main', 'prompt_only')",
         "type": "scatter",
         "x": {
          "bdata": "AAECAwQFBgcICQoLDA0ODxAREhMUFRYXGBkaGxwdHh8=",
          "dtype": "i1"
         },
         "y": {
          "bdata": "r64jOA7RIT/S3v51kIVCP9JBVUSZFlA/uzsHeM5eWD8UxQXf0VNjPxwjoVdII3Y/2q9oD3HbhT/fzBLbUWSTP1cLo7uou60/88yP/ZGZsD8be+6yIxazP6e3Mt/Zk7M/TqlH3QTDsj84ewC0Yem2P4HMC2jN9bo/kl5jlM6wtj8AmaOeuXSxP402EHHEjLU/WF6JyNnTtz+PUEGnokq1P8UOpSj+YrM/q9CVZ5FUsT+sc7+YMNKvP0VueXGf+KU/TmJoPPbBoT/ZPYSCWNegP63caXE8QaE/1B/IsUe7oT+x9gxUraGhP8sjAcpuEqI/rIaD6U4soj9U7M/WjQuhPw==",
          "dtype": "f8"
         }
        },
        {
         "legendgroup": "('llama3.1_8b_chat', 'gsm8k', 'base_3_shot', 'main', 'prompt_answer')",
         "line": {
          "color": "#1f77b4",
          "width": 2
         },
         "marker": {
          "size": 8
         },
         "mode": "lines+markers",
         "name": "('llama3.1_8b_chat', 'gsm8k', 'base_3_shot', 'main', 'prompt_answer')",
         "type": "scatter",
         "x": {
          "bdata": "AAECAwQFBgcICQoLDA0ODxAREhMUFRYXGBkaGxwdHh8=",
          "dtype": "i1"
         },
         "y": {
          "bdata": "OsgwEQQCdD/T+XAdF0BzP0f2v98uoHE/wzEOEfG/cj/aVpNuVCl0P1nO9kl/4XQ/bLW0SRd3cz+6FZPlaIR1P+lV7yWFbnY/D0OKe1yoeD9Xi3As69R2P22M9pjCcHQ/vEVieZJhej+3U+6BqNF6Pyl5uqCZFXw/6Ju6KLhmfD/s6Ynxjxh8PySzc8VrMn0/73YQ2OtDfT8nbN8JUwx8P7ghzPNlkHs/FhQm+WqDez+RhOEWj797P5pWcannrXs/RgSh3BMgfD8EUl63WyN9P01B8l1R1n4/N6Nikvh3gT/TGS4cXf6AP0iP3hEXb4E/tZ12tyw2gT++oAjq4BB5Pw==",
          "dtype": "f8"
         }
        },
        {
         "legendgroup": "('llama3.1_8b_chat', 'gsm8k', 'base_3_shot', 'main', 'prompt_only')",
         "line": {
          "color": "#ff7f0e",
          "width": 2
         },
         "marker": {
          "size": 8
         },
         "mode": "lines+markers",
         "name": "('llama3.1_8b_chat', 'gsm8k', 'base_3_shot', 'main', 'prompt_only')",
         "type": "scatter",
         "x": {
          "bdata": "AAECAwQFBgcICQoLDA0ODxAREhMUFRYXGBkaGxwdHh8=",
          "dtype": "i1"
         },
         "y": {
          "bdata": "vvRbUd2QXz+PNmtQKi1sP2lAb2bhp2o/J2V/iJ3EaT+jV0wCGlJrPw5RWxwThWY/HjxCCO8oaD+TsATXzd9oP/Ooyew+C20/uQ19i2vRbT99CPY1ypdsPw5Cpu+a0Wc/hYOrBWHecT9GGzfHh9xyP7keqC7Ot3Q/n/GVZN4Fdz9Xt/zjmqR1P4JQF3cl0HY/hrz684mCdT8tPu42pWt0P6WPYzDoMnU/ueGgH2jgdT9CnMGxaMR1P+VtTH7L1HU/NCz+OY6jdD/FYXER8Ip0P0Ddm5QT0XQ/rKC05r0bdT8GO10ol9N0PzU6cV9vBHU/33DEVDHicz/+AW5Pi5FjPw==",
          "dtype": "f8"
         }
        },
        {
         "legendgroup": "('llama3.1_8b_chat', 'gsm8k', 'cot_3_shot', 'main', 'prompt_answer')",
         "line": {
          "color": "#2ca02c",
          "width": 2
         },
         "marker": {
          "size": 8
         },
         "mode": "lines+markers",
         "name": "('llama3.1_8b_chat', 'gsm8k', 'cot_3_shot', 'main', 'prompt_answer')",
         "type": "scatter",
         "x": {
          "bdata": "AAECAwQFBgcICQoLDA0ODxAREhMUFRYXGBkaGxwdHh8=",
          "dtype": "i1"
         },
         "y": {
          "bdata": "FO1clZeocD/D7Nq7CL1tPw+GH9AuJ2g/Je6BlFzMZz/0nm70q2pnPxlR4NyiG2g/O1WJMT8+aT8yBvchTmlsPz6SAorfImw/qslvD1uxaz8RLic1wXlrP+fn/+70AWw/dwDT2aW5bj/qUgBtAbJuPzGK0H4Em28/mwlDpG69bT+V/hxa7yhsP9z7o7vhn2w/o05TQbfGaT+CfS/e2VFpPyf/dV13Q2k/ZqBVqy4oaD+6NAxdbC1pPzvVhDJrV2g/DAtiuH2Saj/w7CSzpOxrP53ZmHoE1m4/GwOpFuQbcj+UEZu94K1xPyIglQpNRXE/SaA5fybEcT+6oHSDhzJpPw==",
          "dtype": "f8"
         }
        },
        {
         "legendgroup": "('llama3.1_8b_chat', 'gsm8k', 'cot_3_shot', 'main', 'prompt_only')",
         "line": {
          "color": "#d62728",
          "width": 2
         },
         "marker": {
          "size": 8
         },
         "mode": "lines+markers",
         "name": "('llama3.1_8b_chat', 'gsm8k', 'cot_3_shot', 'main', 'prompt_only')",
         "type": "scatter",
         "x": {
          "bdata": "AAECAwQFBgcICQoLDA0ODxAREhMUFRYXGBkaGxwdHh8=",
          "dtype": "i1"
         },
         "y": {
          "bdata": "TO02RL1KXz9G1IoOQVZnP56Q15R3dWY/CSx+2jf1aT9t150n1s5sP2Ql0EwpIms/gZzemnA0aj8Nvq85Q49qP0fcTt7jzWo/QytYO0XIaD/gmdGChsFpP5TUjnot+mg/APsZYbsbbD+/hRCalmRtP30v+RxyvG0/vTLvtDdvbD/7eKun5M1rP+8+BiE1wGs/NCphAzimbD/ejoL828hsP+bZR5ouhGs/w/aBUQjgaz/LMOWYtTxtP2mfcTCfY2w/PpWOgBDfaz+jpGqb91NsP4nCcEOd1Gw/rwjonoPSaz8txPgZ6HJsP7oyXnz5im0/nsDgG7pebD8ZQPB0vohkPw==",
          "dtype": "f8"
         }
        },
        {
         "legendgroup": "('llama3.1_8b_chat', 'medals_9k', 'base', 'main', 'prompt_answer')",
         "line": {
          "color": "#9467bd",
          "width": 2
         },
         "marker": {
          "size": 8
         },
         "mode": "lines+markers",
         "name": "('llama3.1_8b_chat', 'medals_9k', 'base', 'main', 'prompt_answer')",
         "type": "scatter",
         "x": {
          "bdata": "AAECAwQFBgcICQoLDA0ODxAREhMUFRYXGBkaGxwdHh8=",
          "dtype": "i1"
         },
         "y": {
          "bdata": "o41nSOyPaz/XrcMLQllwPwviHUwnP3I/1gz1F6rfcz8Ibi71mdxxP1vO2NT1jm8/p903kIescD/dmNJ+OK1yP3e8a0iiSXM/+9lBmSZPeD+6k9uGYkBzP86eUwZSSXQ/7INyketZej+TEYNIanJ5P3L6Wf+Qj3s/6cl9uFOFeD845Dc1yaF8P7aehHyEjX4/GvGUN7dsfD86mQz3RvN7P2lr777q0ns/dXijeHcmej92RZiTL8F5P7CAkk25e3k/5UKaiZEDeD+n2k6dted0Pyh+sekr/HI/la9zmeb5cD9cgC+UHD1vP2wInEiq9m0/uolN9ZlAcD+5rZ4rGGdzPw==",
          "dtype": "f8"
         }
        },
        {
         "legendgroup": "('llama3.1_8b_chat', 'medals_9k', 'base', 'main', 'prompt_only')",
         "line": {
          "color": "#8c564b",
          "width": 2
         },
         "marker": {
          "size": 8
         },
         "mode": "lines+markers",
         "name": "('llama3.1_8b_chat', 'medals_9k', 'base', 'main', 'prompt_only')",
         "type": "scatter",
         "x": {
          "bdata": "AAECAwQFBgcICQoLDA0ODxAREhMUFRYXGBkaGxwdHh8=",
          "dtype": "i1"
         },
         "y": {
          "bdata": "H9WzG3U6cD9C7/+GSPZvPxS64qaf5Ww/QZDJ7oBhcj9itLH4pP11PyAIdu6xlXY/g+palF/fdT9Hubhm5Sl1P83LbbeTO3Y/2uLHi0nPdj+7vcP7pKR0P4ZA1fpvwXM/D+0bPVMWdz9HylDiqw94P21zr0dZ5Xg/IDpFGqfJej96w96uLbd6P6k5voHIcnk/28FPLpBKeT8N1YUBKYB5PwUkP6EDdng/Ckl6dCwweT9DZN7pKc15P3MptAQVEns/sgc3G0nreT9Reh2WfwZ5PwquhhxH9Xg/9topzgYmdz+ZPHz+4CxzP2Eva36ep3I/khvdQ9ibcT9w7iQfxXBiPw==",
          "dtype": "f8"
         }
        }
       ],
       "layout": {
        "font": {
         "color": "white"
        },
        "height": 600,
        "legend": {
         "bgcolor": "rgba(32, 32, 32, 0.8)",
         "orientation": "h",
         "x": 0.5,
         "xanchor": "center",
         "y": 1.02,
         "yanchor": "bottom"
        },
        "margin": {
         "b": 50,
         "l": 50,
         "r": 30,
         "t": 100
        },
        "paper_bgcolor": "rgba(32, 32, 32, 1)",
        "plot_bgcolor": "rgba(32, 32, 32, 1)",
        "showlegend": true,
        "template": {
         "data": {
          "bar": [
           {
            "error_x": {
             "color": "#f2f5fa"
            },
            "error_y": {
             "color": "#f2f5fa"
            },
            "marker": {
             "line": {
              "color": "rgb(17,17,17)",
              "width": 0.5
             },
             "pattern": {
              "fillmode": "overlay",
              "size": 10,
              "solidity": 0.2
             }
            },
            "type": "bar"
           }
          ],
          "barpolar": [
           {
            "marker": {
             "line": {
              "color": "rgb(17,17,17)",
              "width": 0.5
             },
             "pattern": {
              "fillmode": "overlay",
              "size": 10,
              "solidity": 0.2
             }
            },
            "type": "barpolar"
           }
          ],
          "carpet": [
           {
            "aaxis": {
             "endlinecolor": "#A2B1C6",
             "gridcolor": "#506784",
             "linecolor": "#506784",
             "minorgridcolor": "#506784",
             "startlinecolor": "#A2B1C6"
            },
            "baxis": {
             "endlinecolor": "#A2B1C6",
             "gridcolor": "#506784",
             "linecolor": "#506784",
             "minorgridcolor": "#506784",
             "startlinecolor": "#A2B1C6"
            },
            "type": "carpet"
           }
          ],
          "choropleth": [
           {
            "colorbar": {
             "outlinewidth": 0,
             "ticks": ""
            },
            "type": "choropleth"
           }
          ],
          "contour": [
           {
            "colorbar": {
             "outlinewidth": 0,
             "ticks": ""
            },
            "colorscale": [
             [
              0,
              "#0d0887"
             ],
             [
              0.1111111111111111,
              "#46039f"
             ],
             [
              0.2222222222222222,
              "#7201a8"
             ],
             [
              0.3333333333333333,
              "#9c179e"
             ],
             [
              0.4444444444444444,
              "#bd3786"
             ],
             [
              0.5555555555555556,
              "#d8576b"
             ],
             [
              0.6666666666666666,
              "#ed7953"
             ],
             [
              0.7777777777777778,
              "#fb9f3a"
             ],
             [
              0.8888888888888888,
              "#fdca26"
             ],
             [
              1,
              "#f0f921"
             ]
            ],
            "type": "contour"
           }
          ],
          "contourcarpet": [
           {
            "colorbar": {
             "outlinewidth": 0,
             "ticks": ""
            },
            "type": "contourcarpet"
           }
          ],
          "heatmap": [
           {
            "colorbar": {
             "outlinewidth": 0,
             "ticks": ""
            },
            "colorscale": [
             [
              0,
              "#0d0887"
             ],
             [
              0.1111111111111111,
              "#46039f"
             ],
             [
              0.2222222222222222,
              "#7201a8"
             ],
             [
              0.3333333333333333,
              "#9c179e"
             ],
             [
              0.4444444444444444,
              "#bd3786"
             ],
             [
              0.5555555555555556,
              "#d8576b"
             ],
             [
              0.6666666666666666,
              "#ed7953"
             ],
             [
              0.7777777777777778,
              "#fb9f3a"
             ],
             [
              0.8888888888888888,
              "#fdca26"
             ],
             [
              1,
              "#f0f921"
             ]
            ],
            "type": "heatmap"
           }
          ],
          "histogram": [
           {
            "marker": {
             "pattern": {
              "fillmode": "overlay",
              "size": 10,
              "solidity": 0.2
             }
            },
            "type": "histogram"
           }
          ],
          "histogram2d": [
           {
            "colorbar": {
             "outlinewidth": 0,
             "ticks": ""
            },
            "colorscale": [
             [
              0,
              "#0d0887"
             ],
             [
              0.1111111111111111,
              "#46039f"
             ],
             [
              0.2222222222222222,
              "#7201a8"
             ],
             [
              0.3333333333333333,
              "#9c179e"
             ],
             [
              0.4444444444444444,
              "#bd3786"
             ],
             [
              0.5555555555555556,
              "#d8576b"
             ],
             [
              0.6666666666666666,
              "#ed7953"
             ],
             [
              0.7777777777777778,
              "#fb9f3a"
             ],
             [
              0.8888888888888888,
              "#fdca26"
             ],
             [
              1,
              "#f0f921"
             ]
            ],
            "type": "histogram2d"
           }
          ],
          "histogram2dcontour": [
           {
            "colorbar": {
             "outlinewidth": 0,
             "ticks": ""
            },
            "colorscale": [
             [
              0,
              "#0d0887"
             ],
             [
              0.1111111111111111,
              "#46039f"
             ],
             [
              0.2222222222222222,
              "#7201a8"
             ],
             [
              0.3333333333333333,
              "#9c179e"
             ],
             [
              0.4444444444444444,
              "#bd3786"
             ],
             [
              0.5555555555555556,
              "#d8576b"
             ],
             [
              0.6666666666666666,
              "#ed7953"
             ],
             [
              0.7777777777777778,
              "#fb9f3a"
             ],
             [
              0.8888888888888888,
              "#fdca26"
             ],
             [
              1,
              "#f0f921"
             ]
            ],
            "type": "histogram2dcontour"
           }
          ],
          "mesh3d": [
           {
            "colorbar": {
             "outlinewidth": 0,
             "ticks": ""
            },
            "type": "mesh3d"
           }
          ],
          "parcoords": [
           {
            "line": {
             "colorbar": {
              "outlinewidth": 0,
              "ticks": ""
             }
            },
            "type": "parcoords"
           }
          ],
          "pie": [
           {
            "automargin": true,
            "type": "pie"
           }
          ],
          "scatter": [
           {
            "marker": {
             "line": {
              "color": "#283442"
             }
            },
            "type": "scatter"
           }
          ],
          "scatter3d": [
           {
            "line": {
             "colorbar": {
              "outlinewidth": 0,
              "ticks": ""
             }
            },
            "marker": {
             "colorbar": {
              "outlinewidth": 0,
              "ticks": ""
             }
            },
            "type": "scatter3d"
           }
          ],
          "scattercarpet": [
           {
            "marker": {
             "colorbar": {
              "outlinewidth": 0,
              "ticks": ""
             }
            },
            "type": "scattercarpet"
           }
          ],
          "scattergeo": [
           {
            "marker": {
             "colorbar": {
              "outlinewidth": 0,
              "ticks": ""
             }
            },
            "type": "scattergeo"
           }
          ],
          "scattergl": [
           {
            "marker": {
             "line": {
              "color": "#283442"
             }
            },
            "type": "scattergl"
           }
          ],
          "scattermap": [
           {
            "marker": {
             "colorbar": {
              "outlinewidth": 0,
              "ticks": ""
             }
            },
            "type": "scattermap"
           }
          ],
          "scattermapbox": [
           {
            "marker": {
             "colorbar": {
              "outlinewidth": 0,
              "ticks": ""
             }
            },
            "type": "scattermapbox"
           }
          ],
          "scatterpolar": [
           {
            "marker": {
             "colorbar": {
              "outlinewidth": 0,
              "ticks": ""
             }
            },
            "type": "scatterpolar"
           }
          ],
          "scatterpolargl": [
           {
            "marker": {
             "colorbar": {
              "outlinewidth": 0,
              "ticks": ""
             }
            },
            "type": "scatterpolargl"
           }
          ],
          "scatterternary": [
           {
            "marker": {
             "colorbar": {
              "outlinewidth": 0,
              "ticks": ""
             }
            },
            "type": "scatterternary"
           }
          ],
          "surface": [
           {
            "colorbar": {
             "outlinewidth": 0,
             "ticks": ""
            },
            "colorscale": [
             [
              0,
              "#0d0887"
             ],
             [
              0.1111111111111111,
              "#46039f"
             ],
             [
              0.2222222222222222,
              "#7201a8"
             ],
             [
              0.3333333333333333,
              "#9c179e"
             ],
             [
              0.4444444444444444,
              "#bd3786"
             ],
             [
              0.5555555555555556,
              "#d8576b"
             ],
             [
              0.6666666666666666,
              "#ed7953"
             ],
             [
              0.7777777777777778,
              "#fb9f3a"
             ],
             [
              0.8888888888888888,
              "#fdca26"
             ],
             [
              1,
              "#f0f921"
             ]
            ],
            "type": "surface"
           }
          ],
          "table": [
           {
            "cells": {
             "fill": {
              "color": "#506784"
             },
             "line": {
              "color": "rgb(17,17,17)"
             }
            },
            "header": {
             "fill": {
              "color": "#2a3f5f"
             },
             "line": {
              "color": "rgb(17,17,17)"
             }
            },
            "type": "table"
           }
          ]
         },
         "layout": {
          "annotationdefaults": {
           "arrowcolor": "#f2f5fa",
           "arrowhead": 0,
           "arrowwidth": 1
          },
          "autotypenumbers": "strict",
          "coloraxis": {
           "colorbar": {
            "outlinewidth": 0,
            "ticks": ""
           }
          },
          "colorscale": {
           "diverging": [
            [
             0,
             "#8e0152"
            ],
            [
             0.1,
             "#c51b7d"
            ],
            [
             0.2,
             "#de77ae"
            ],
            [
             0.3,
             "#f1b6da"
            ],
            [
             0.4,
             "#fde0ef"
            ],
            [
             0.5,
             "#f7f7f7"
            ],
            [
             0.6,
             "#e6f5d0"
            ],
            [
             0.7,
             "#b8e186"
            ],
            [
             0.8,
             "#7fbc41"
            ],
            [
             0.9,
             "#4d9221"
            ],
            [
             1,
             "#276419"
            ]
           ],
           "sequential": [
            [
             0,
             "#0d0887"
            ],
            [
             0.1111111111111111,
             "#46039f"
            ],
            [
             0.2222222222222222,
             "#7201a8"
            ],
            [
             0.3333333333333333,
             "#9c179e"
            ],
            [
             0.4444444444444444,
             "#bd3786"
            ],
            [
             0.5555555555555556,
             "#d8576b"
            ],
            [
             0.6666666666666666,
             "#ed7953"
            ],
            [
             0.7777777777777778,
             "#fb9f3a"
            ],
            [
             0.8888888888888888,
             "#fdca26"
            ],
            [
             1,
             "#f0f921"
            ]
           ],
           "sequentialminus": [
            [
             0,
             "#0d0887"
            ],
            [
             0.1111111111111111,
             "#46039f"
            ],
            [
             0.2222222222222222,
             "#7201a8"
            ],
            [
             0.3333333333333333,
             "#9c179e"
            ],
            [
             0.4444444444444444,
             "#bd3786"
            ],
            [
             0.5555555555555556,
             "#d8576b"
            ],
            [
             0.6666666666666666,
             "#ed7953"
            ],
            [
             0.7777777777777778,
             "#fb9f3a"
            ],
            [
             0.8888888888888888,
             "#fdca26"
            ],
            [
             1,
             "#f0f921"
            ]
           ]
          },
          "colorway": [
           "#636efa",
           "#EF553B",
           "#00cc96",
           "#ab63fa",
           "#FFA15A",
           "#19d3f3",
           "#FF6692",
           "#B6E880",
           "#FF97FF",
           "#FECB52"
          ],
          "font": {
           "color": "#f2f5fa"
          },
          "geo": {
           "bgcolor": "rgb(17,17,17)",
           "lakecolor": "rgb(17,17,17)",
           "landcolor": "rgb(17,17,17)",
           "showlakes": true,
           "showland": true,
           "subunitcolor": "#506784"
          },
          "hoverlabel": {
           "align": "left"
          },
          "hovermode": "closest",
          "mapbox": {
           "style": "dark"
          },
          "paper_bgcolor": "rgb(17,17,17)",
          "plot_bgcolor": "rgb(17,17,17)",
          "polar": {
           "angularaxis": {
            "gridcolor": "#506784",
            "linecolor": "#506784",
            "ticks": ""
           },
           "bgcolor": "rgb(17,17,17)",
           "radialaxis": {
            "gridcolor": "#506784",
            "linecolor": "#506784",
            "ticks": ""
           }
          },
          "scene": {
           "xaxis": {
            "backgroundcolor": "rgb(17,17,17)",
            "gridcolor": "#506784",
            "gridwidth": 2,
            "linecolor": "#506784",
            "showbackground": true,
            "ticks": "",
            "zerolinecolor": "#C8D4E3"
           },
           "yaxis": {
            "backgroundcolor": "rgb(17,17,17)",
            "gridcolor": "#506784",
            "gridwidth": 2,
            "linecolor": "#506784",
            "showbackground": true,
            "ticks": "",
            "zerolinecolor": "#C8D4E3"
           },
           "zaxis": {
            "backgroundcolor": "rgb(17,17,17)",
            "gridcolor": "#506784",
            "gridwidth": 2,
            "linecolor": "#506784",
            "showbackground": true,
            "ticks": "",
            "zerolinecolor": "#C8D4E3"
           }
          },
          "shapedefaults": {
           "line": {
            "color": "#f2f5fa"
           }
          },
          "sliderdefaults": {
           "bgcolor": "#C8D4E3",
           "bordercolor": "rgb(17,17,17)",
           "borderwidth": 1,
           "tickwidth": 0
          },
          "ternary": {
           "aaxis": {
            "gridcolor": "#506784",
            "linecolor": "#506784",
            "ticks": ""
           },
           "baxis": {
            "gridcolor": "#506784",
            "linecolor": "#506784",
            "ticks": ""
           },
           "bgcolor": "rgb(17,17,17)",
           "caxis": {
            "gridcolor": "#506784",
            "linecolor": "#506784",
            "ticks": ""
           }
          },
          "title": {
           "x": 0.05
          },
          "updatemenudefaults": {
           "bgcolor": "#506784",
           "borderwidth": 0
          },
          "xaxis": {
           "automargin": true,
           "gridcolor": "#283442",
           "linecolor": "#506784",
           "ticks": "",
           "title": {
            "standoff": 15
           },
           "zerolinecolor": "#283442",
           "zerolinewidth": 2
          },
          "yaxis": {
           "automargin": true,
           "gridcolor": "#283442",
           "linecolor": "#506784",
           "ticks": "",
           "title": {
            "standoff": 15
           },
           "zerolinecolor": "#283442",
           "zerolinewidth": 2
          }
         }
        },
        "title": {},
        "width": 1000,
        "xaxis": {
         "gridcolor": "rgba(128, 128, 128, 0.2)",
         "title": {
          "text": "Layer"
         },
         "zeroline": false
        },
        "yaxis": {
         "gridcolor": "rgba(128, 128, 128, 0.2)",
         "title": {
          "text": "Between Class Variance / Within Class Variance"
         },
         "zeroline": false
        }
       }
      }
     },
     "metadata": {},
     "output_type": "display_data"
    }
   ],
   "source": [
    "plot_interactive_lineplot(\n",
    "    df_dict={str(k): v.set_index(\"layer\")[[\"between_over_within_class_variance\"]] for k, v in between_over_within_class_variance_df.groupby([\"model_id\", \"dataset_id\", \"prompt_id\", \"subset_id\", \"input_type\"])},\n",
    "    x_label=\"Layer\",\n",
    "    y_label=\"Between Class Variance / Within Class Variance\",\n",
    "    save_path=f\"./classification_data/figures/res_df_llama31_8B_4_memory_datasets_between_over_within_class_variance{PCA_COMONENTS_LABEL}.html\"\n",
    ")"
   ]
  },
  {
   "cell_type": "code",
   "execution_count": null,
   "metadata": {},
   "outputs": [
    {
     "name": "stdout",
     "output_type": "stream",
     "text": [
      "\n",
      "model_id='llama3.1_8b_chat', dataset_id='birth_years_4k', prompt_id='base', subset_id='main', input_type='prompt_answer'\n",
      "layer=0, layer=1, layer=2, layer=3, layer=4, layer=5, layer=6, layer=7, layer=8, layer=9, layer=10, layer=11, layer=12, layer=13, layer=14, layer=15, layer=16, layer=17, layer=18, layer=19, layer=20, layer=21, layer=22, layer=23, layer=24, layer=25, layer=26, layer=27, layer=28, layer=29, layer=30, layer=31, \n",
      "model_id='llama3.1_8b_chat', dataset_id='birth_years_4k', prompt_id='base', subset_id='main', input_type='prompt_only'\n",
      "layer=0, layer=1, layer=2, layer=3, layer=4, layer=5, layer=6, layer=7, layer=8, layer=9, layer=10, layer=11, layer=12, layer=13, layer=14, layer=15, layer=16, layer=17, layer=18, layer=19, layer=20, layer=21, layer=22, layer=23, layer=24, layer=25, layer=26, layer=27, layer=28, layer=29, layer=30, layer=31, \n",
      "model_id='llama3.1_8b_chat', dataset_id='cities_10k', prompt_id='base', subset_id='main', input_type='prompt_answer'\n",
      "layer=0, layer=1, layer=2, layer=3, layer=4, layer=5, layer=6, layer=7, layer=8, layer=9, layer=10, layer=11, layer=12, layer=13, layer=14, layer=15, layer=16, layer=17, layer=18, layer=19, layer=20, layer=21, layer=22, layer=23, layer=24, layer=25, layer=26, layer=27, layer=28, layer=29, layer=30, layer=31, \n",
      "model_id='llama3.1_8b_chat', dataset_id='cities_10k', prompt_id='base', subset_id='main', input_type='prompt_only'\n",
      "layer=0, layer=1, layer=2, layer=3, layer=4, layer=5, layer=6, layer=7, layer=8, layer=9, layer=10, layer=11, layer=12, layer=13, layer=14, layer=15, layer=16, layer=17, layer=18, layer=19, layer=20, layer=21, layer=22, layer=23, layer=24, layer=25, layer=26, layer=27, layer=28, layer=29, layer=30, layer=31, \n",
      "model_id='llama3.1_8b_chat', dataset_id='football_leagues_1k', prompt_id='base', subset_id='main', input_type='prompt_answer'\n",
      "layer=0, layer=1, layer=2, layer=3, layer=4, layer=5, layer=6, layer=7, layer=8, layer=9, layer=10, layer=11, layer=12, layer=13, layer=14, layer=15, layer=16, layer=17, layer=18, layer=19, layer=20, layer=21, layer=22, layer=23, layer=24, layer=25, layer=26, layer=27, layer=28, layer=29, layer=30, layer=31, \n",
      "model_id='llama3.1_8b_chat', dataset_id='football_leagues_1k', prompt_id='base', subset_id='main', input_type='prompt_only'\n",
      "layer=0, layer=1, layer=2, layer=3, layer=4, layer=5, layer=6, layer=7, layer=8, layer=9, layer=10, layer=11, layer=12, layer=13, layer=14, layer=15, layer=16, layer=17, layer=18, layer=19, layer=20, layer=21, layer=22, layer=23, layer=24, layer=25, layer=26, layer=27, layer=28, layer=29, layer=30, layer=31, \n",
      "model_id='llama3.1_8b_chat', dataset_id='gsm8k', prompt_id='base_3_shot', subset_id='main', input_type='prompt_answer'\n",
      "layer=0, layer=1, layer=2, layer=3, layer=4, layer=5, layer=6, layer=7, layer=8, layer=9, layer=10, layer=11, layer=12, layer=13, layer=14, layer=15, layer=16, layer=17, layer=18, layer=19, layer=20, "
     ]
    }
   ],
   "source": [
    "\n",
    "res_dict = defaultdict(list)\n",
    "\n",
    "for (model_id, dataset_id, prompt_id, subset_id, input_type), config_df in activation_exp_configs_df.groupby([\"model_id\", \"dataset_id\", \"prompt_id\", \"subset_id\", \"input_type\"]):\n",
    "    print(f\"\\n{model_id=}, {dataset_id=}, {prompt_id=}, {subset_id=}, {input_type=}\")\n",
    "    labels_df = load_labels(\n",
    "        base_path=BASE_PATH,\n",
    "        model_id=model_id,\n",
    "        dataset_id=dataset_id,\n",
    "        prompt_id=prompt_id,\n",
    "        subset_id=subset_id,\n",
    "    )\n",
    "\n",
    "    check_indices = None\n",
    "    for layer in config_df[\"layer\"].astype(int).sort_values():\n",
    "        print(f\"{layer=}\", end=\", \")\n",
    "        activations, indices = load_activations(\n",
    "            base_path=BASE_PATH,\n",
    "            model_id=model_id,\n",
    "            dataset_id=dataset_id,\n",
    "            prompt_id=prompt_id,\n",
    "            subset_id=subset_id,\n",
    "            input_type=input_type,\n",
    "            layer=layer,\n",
    "        )\n",
    "        \n",
    "        if check_indices is None:\n",
    "            check_indices = indices.sample(frac=1, replace=False)\n",
    "        \n",
    "        if set(indices) != set(check_indices):\n",
    "            raise RuntimeError(f\"indices across layers are not the same\")\n",
    "\n",
    "        labels_df_subset = labels_df.iloc[check_indices]\n",
    "        activations = activations[check_indices]\n",
    "\n",
    "        activations_handler = ActivationsHandler(\n",
    "            activations=activations,\n",
    "            labels=labels_df_subset[\"correct\"].astype(bool),\n",
    "        )\n",
    "\n",
    "        activations_handler_folds = list(\n",
    "            activations_handler.split_dataset(split_sizes=[1/5] * 5)\n",
    "        )\n",
    "\n",
    "        fold_stats = {}\n",
    "        for fold_i, activations_handler_test in enumerate(activations_handler_folds):\n",
    "            activations_handler_train = combine_activations_handlers(\n",
    "                [ah for j, ah in enumerate(activations_handler_folds) if j != fold_i]\n",
    "            )\n",
    "            \n",
    "            activations_handler_train, pca_info = activations_handler_train.reduce_dims(pca_components=PCA_COMPONENTS)\n",
    "            \n",
    "            activations_handler_train = activations_handler_train.sample_equally_across_groups(\n",
    "                group_labels=[False, True]\n",
    "            )\n",
    "            activations_handler_test, _ = activations_handler_test.reduce_dims(pca_components=PCA_COMPONENTS, pca_info=pca_info)\n",
    "            activations_handler_test = activations_handler_test.sample_equally_across_groups(\n",
    "                group_labels=[False, True]\n",
    "            )\n",
    "\n",
    "            res_dict[\"model_id\"].append(model_id)\n",
    "            res_dict[\"dataset_id\"].append(dataset_id)\n",
    "            res_dict[\"prompt_id\"].append(prompt_id)\n",
    "            res_dict[\"subset_id\"].append(subset_id)\n",
    "            res_dict[\"input_type\"].append(input_type)\n",
    "            res_dict[\"layer\"].append(layer)\n",
    "            res_dict[\"fold\"].append(fold_i)\n",
    "\n",
    "            direction_classifier, direction_calculator = get_correctness_direction_classifier(\n",
    "                activations_handler_train=activations_handler_train,\n",
    "                activations_handler_test=activations_handler_test,\n",
    "            )\n",
    "            # res_dict[\"classifying_direction\"].append(direction_calculator.classifying_direction.tolist())\n",
    "            for key, value in direction_classifier.classification_metrics.items():\n",
    "                res_dict[f\"direction_{key}\"].append(value)\n",
    "            \n",
    "            for key, value in get_logistic_regression_classifier(\n",
    "                    activations_handler_train=activations_handler_train,\n",
    "                    activations_handler_test=activations_handler_test,\n",
    "                )[0].classification_metrics.items():\n",
    "                res_dict[f\"logistic_regression_{key}\"].append(value)\n",
    "\n",
    "\n",
    "\n",
    "res_df = pd.DataFrame(res_dict)\n",
    "res_df"
   ]
  },
  {
   "cell_type": "code",
   "execution_count": 8,
   "metadata": {},
   "outputs": [],
   "source": [
    "res_file = \"./classification_data/res_df_llama31_8B_4_memory_datasets.csv\""
   ]
  },
  {
   "cell_type": "code",
   "execution_count": 9,
   "metadata": {},
   "outputs": [],
   "source": [
    "res_df.to_csv(res_file, index=False)"
   ]
  },
  {
   "cell_type": "code",
   "execution_count": 10,
   "metadata": {},
   "outputs": [],
   "source": [
    "res_df = pd.read_csv(res_file)"
   ]
  },
  {
   "cell_type": "code",
   "execution_count": 11,
   "metadata": {},
   "outputs": [],
   "source": []
  },
  {
   "cell_type": "code",
   "execution_count": 11,
   "metadata": {},
   "outputs": [
    {
     "name": "stdout",
     "output_type": "stream",
     "text": [
      "conf=('llama3.1_8b_chat', 'birth_years_4k', 'base', 'main', 'prompt_answer')\n",
      "conf=('llama3.1_8b_chat', 'birth_years_4k', 'base', 'main', 'prompt_only')\n",
      "conf=('llama3.1_8b_chat', 'cities_10k', 'base', 'main', 'prompt_answer')\n",
      "conf=('llama3.1_8b_chat', 'cities_10k', 'base', 'main', 'prompt_only')\n",
      "conf=('llama3.1_8b_chat', 'football_leagues_1k', 'base', 'main', 'prompt_answer')\n",
      "conf=('llama3.1_8b_chat', 'football_leagues_1k', 'base', 'main', 'prompt_only')\n",
      "conf=('llama3.1_8b_chat', 'gsm8k', 'base_3_shot', 'main', 'prompt_answer')\n",
      "conf=('llama3.1_8b_chat', 'gsm8k', 'base_3_shot', 'main', 'prompt_only')\n",
      "conf=('llama3.1_8b_chat', 'gsm8k', 'cot_3_shot', 'main', 'prompt_answer')\n",
      "conf=('llama3.1_8b_chat', 'gsm8k', 'cot_3_shot', 'main', 'prompt_only')\n",
      "conf=('llama3.1_8b_chat', 'medals_9k', 'base', 'main', 'prompt_answer')\n",
      "conf=('llama3.1_8b_chat', 'medals_9k', 'base', 'main', 'prompt_only')\n"
     ]
    },
    {
     "data": {
      "application/vnd.plotly.v1+json": {
       "config": {
        "plotlyServerURL": "https://plot.ly"
       },
       "data": [
        {
         "legendgroup": "('llama3.1_8b_chat', 'birth_years_4k', 'base', 'main', 'prompt_answer')",
         "line": {
          "color": "#1f77b4",
          "width": 2
         },
         "marker": {
          "size": 8
         },
         "mode": "lines+markers",
         "name": "('llama3.1_8b_chat', 'birth_years_4k', 'base', 'main', 'prompt_answer')",
         "type": "scatter",
         "x": {
          "bdata": "AAECAwQFBgcICQoLDA0ODxAREhMUFRYXGBkaGxwdHh8=",
          "dtype": "i1"
         },
         "y": {
          "bdata": "UEbTsNkE4T9TXBvhsPfhP07MEDKUVeE/YvhI5TEx4T/zN2kWTZzhPw1YHYWbTuE/mNBI8mSM4j+g5PD/42XjP7aTzkwAHOU/eaXHVazn5D9FzUjPSkXlP5rFh6HVGOY/KrgfE+1G5j+G+CIRCO7lP1JtDD16weY/asy7jldo5j+YlXQiB9DmPzWJ0rOJ2eY/Htq9nAQF5z8og8tK+S7mP87ww4rdJuY/HnQouFZx5T/vl2GSy5bkPw282ZPTH+Q/MheQBJXh4z8JETqF88vjP9nJ8LBOpOM/xpECtJep5D+OddYifPnkP3NFueNhCuU/vPCClRE45T/QxinIPWrlPw==",
          "dtype": "f8"
         }
        },
        {
         "legendgroup": "('llama3.1_8b_chat', 'birth_years_4k', 'base', 'main', 'prompt_answer')",
         "line": {
          "width": 0
         },
         "mode": "lines",
         "name": "('llama3.1_8b_chat', 'birth_years_4k', 'base', 'main', 'prompt_answer') Max",
         "showlegend": false,
         "type": "scatter",
         "x": {
          "bdata": "AAECAwQFBgcICQoLDA0ODxAREhMUFRYXGBkaGxwdHh8=",
          "dtype": "i1"
         },
         "y": {
          "bdata": "MzMzMzMz4z9j9JQ7fjLkP/y+7/u+7+M/Ccs9jbDc4z/ezpCYtzPkP2WTTTbZZOM/RomfUeJn5D9uQaNlIB/lP8RGOmykw+Y/JL5MBkvD5T/qQlwaLDHnP4rY8lBwJec/83L1XqkL5z/2/WUUBDTnP9d3fdd3fec/Bo/lvdoi5z+3fyCH083nP1hb5DoTMOg/lSlgPpBd6D/2gNkDZg/oP3aDKfJZN+g/+Oy+KTze5j/G1Q86KvDlP8i02o4m9+U/s6QcEBnu5T8q4Bdu7Y3lP1VVVVVVVeU/S4Fav1Kg5j/FJjrXQmTmPzBfVLm1LOY/e+3yI91f6D9sB+bagbnmPw==",
          "dtype": "f8"
         }
        },
        {
         "fill": "tonexty",
         "fillcolor": "rgba(31, 119, 180, 0.1)",
         "legendgroup": "('llama3.1_8b_chat', 'birth_years_4k', 'base', 'main', 'prompt_answer')",
         "line": {
          "width": 0
         },
         "mode": "lines",
         "name": "('llama3.1_8b_chat', 'birth_years_4k', 'base', 'main', 'prompt_answer') Min",
         "showlegend": false,
         "type": "scatter",
         "x": {
          "bdata": "AAECAwQFBgcICQoLDA0ODxAREhMUFRYXGBkaGxwdHh8=",
          "dtype": "i1"
         },
         "y": {
          "bdata": "PrW9mfL43T8N0iAN0iDdPy+66KKLLt4/a35YpAw83T9RRYi3q+7dPzMzMzMzM90/IZQthLKF4D+SsaiG2cHhP1jkDjP4UuM/mjRp0qRJ4z931gx1Z83gPzOmfB2WcOQ/TIca7M5k5D9acj8eNajkPyZa7EWlhuU/B1Pks24w5T83hqY72G/lPwAAAAAAgOQ/KVrLD8iQ5D+u8wpo3K3jP8FwOVe9reM/vzdE//Ra5D8nCHdj3yPiP6+hvIbyGuI/CxUqVKhQ4T9Xzq0fEcThPyiwJjerUOI/giLrZT8P4z8R9uL5d63jPyQkJCQkJOQ/FDuxEzux4z+SJEmSJEniPw==",
          "dtype": "f8"
         }
        },
        {
         "legendgroup": "('llama3.1_8b_chat', 'birth_years_4k', 'base', 'main', 'prompt_answer')",
         "line": {
          "width": 0
         },
         "mode": "lines",
         "name": "('llama3.1_8b_chat', 'birth_years_4k', 'base', 'main', 'prompt_answer') +1 STD",
         "showlegend": false,
         "type": "scatter",
         "x": {
          "bdata": "AAECAwQFBgcICQoLDA0ODxAREhMUFRYXGBkaGxwdHh8=",
          "dtype": "i1"
         },
         "y": {
          "bdata": "t8r4VQbd4j84N5WAOzTkP/BafkjVX+M/dA1Nf4k54z+ljedJ5Z/jP41Tjuc/HeM/MGKL7rz84z9iRodG97LkPwm9lpmcW+Y/qrs9A5jd5T/YBNG+QNHnP1lxAIZ4MOc/0Mx56/Nf5z9zP9KbhQPnP/yPfKpojuc/1MxJBMoj5z8GvUcSe8DnP71gvIlzYOg/UHwHlFGM6D+m6FQbHjvoP+jGW45RH+g/J8/nqWh65j8boWJVQx3mP1UP34R9weU/VH28dbMF5j/AxT8j/3TlP8t1UhKgyuQ/LpNDU/f95T8zItJuPArmP9EWstLU5eU/udSEgewf5z9TohZyvzTnPw==",
          "dtype": "f8"
         }
        },
        {
         "fill": "tonexty",
         "fillcolor": "rgba(31, 119, 180, 0.3)",
         "legendgroup": "('llama3.1_8b_chat', 'birth_years_4k', 'base', 'main', 'prompt_answer')",
         "line": {
          "width": 0
         },
         "mode": "lines",
         "name": "('llama3.1_8b_chat', 'birth_years_4k', 'base', 'main', 'prompt_answer') -1 STD",
         "showlegend": false,
         "type": "scatter",
         "x": {
          "bdata": "AAECAwQFBgcICQoLDA0ODxAREhMUFRYXGBkaGxwdHh8=",
          "dtype": "i1"
         },
         "y": {
          "bdata": "04NbF1pZ3j/dAkODTHbfP1h7Rjemlt4/n8aJlrRR3j+CxNXFaTHfPxq5WEXu/94/AD8G9gwc4T/eglq50BjiP2NqBgBk3OM/SI9RqMDx4z+ylcDfVLniP9sZD70yAeU/hKPFOuYt5T+ZsXOGitjkP6hKnM+L9OU/AMwtGeWs5T8qbqEyk9/lP62x6N2fUuU/7Dd0pbd95T+qHUJ61CLkP7QaLIdpLuQ/FRlpxkRo5D/DjmDPUxDjP8Vo1KIpfuI/ELFjk3a94T9SXDTn5yLiP+cdj0/9feI/XpDBFDhV4z/pyNrWu+jjPxV0wPTuLuQ/vwyBqTZQ4z9N6zwevJ/jPw==",
          "dtype": "f8"
         }
        },
        {
         "legendgroup": "('llama3.1_8b_chat', 'birth_years_4k', 'base', 'main', 'prompt_answer')",
         "marker": {
          "color": "#1f77b4",
          "opacity": 0.5,
          "size": 6
         },
         "mode": "markers",
         "name": "('llama3.1_8b_chat', 'birth_years_4k', 'base', 'main', 'prompt_answer') Fold ('direction_f1_score', 0)",
         "showlegend": false,
         "type": "scatter",
         "x": {
          "bdata": "AAECAwQFBgcICQoLDA0ODxAREhMUFRYXGBkaGxwdHh8=",
          "dtype": "i1"
         },
         "y": {
          "bdata": "559//vnn3z8N0iAN0iDdPwr1gdaiUN8/pnLd8WJL4D+KRs2/2qTgP2dAKLlTtOA/CfKUIE8J4j/CJTohXKLjP1VVVVVVVeU/Ra6a4Xbw5D/W1dXV1dXlP9nnkJpgvOU/1nNM1nNM5j9acj8eNajkP3FUf5+3Sec/pze96U1v5j+3bdu2bdvmPwmm1z4LJeg/lSlgPpBd6D/2gNkDZg/oP9/aMM1d8Oc/J8zvanET5j9ItMLmQKLlPyLnPruA2OQ/tEPgxjIo5T/bJ6oHjbzjP0g8NWSAxOM/x6evLQ4W5D+q1tj1zWTlP1VVVVVVVeU/Ek8NGSDx5D82Ecg1EcjlPw==",
          "dtype": "f8"
         }
        },
        {
         "legendgroup": "('llama3.1_8b_chat', 'birth_years_4k', 'base', 'main', 'prompt_answer')",
         "marker": {
          "color": "#1f77b4",
          "opacity": 0.5,
          "size": 6
         },
         "mode": "markers",
         "name": "('llama3.1_8b_chat', 'birth_years_4k', 'base', 'main', 'prompt_answer') Fold ('direction_f1_score', 1)",
         "showlegend": false,
         "type": "scatter",
         "x": {
          "bdata": "AAECAwQFBgcICQoLDA0ODxAREhMUFRYXGBkaGxwdHh8=",
          "dtype": "i1"
         },
         "y": {
          "bdata": "PrW9mfL43T93b5Wm+CXhP7ETO7ETO+E/WJwinrN/4j+XLVu2bNniP5IkSZIkSeI/qzNSMbc64z+SnytmOfLjP2uttdZaa+U/ReVpoTt25T+yZMmSJUvmP2oe5K6fLeY/QICq4xKe5j8jPoFUcl7mPyZa7EWlhuU/B1Pks24w5T83hqY72G/lP1f2OaQmGOc/Q3kN5TWU5z++9957773nP3aDKfJZN+g/+Oy+KTze5j/G1Q86KvDlP8i02o4m9+U/s6QcEBnu5T8q4Bdu7Y3lP1VVVVVVVeU/S4Fav1Kg5j/FJjrXQmTmPzBfVLm1LOY/e+3yI91f6D92PnPfFuLlPw==",
          "dtype": "f8"
         }
        },
        {
         "legendgroup": "('llama3.1_8b_chat', 'birth_years_4k', 'base', 'main', 'prompt_answer')",
         "marker": {
          "color": "#1f77b4",
          "opacity": 0.5,
          "size": 6
         },
         "mode": "markers",
         "name": "('llama3.1_8b_chat', 'birth_years_4k', 'base', 'main', 'prompt_answer') Fold ('direction_f1_score', 2)",
         "showlegend": false,
         "type": "scatter",
         "x": {
          "bdata": "AAECAwQFBgcICQoLDA0ODxAREhMUFRYXGBkaGxwdHh8=",
          "dtype": "i1"
         },
         "y": {
          "bdata": "wyu8wiu84j9j9JQ7fjLkP/y+7/u+7+M/sMACCyyw4D8WspCFLGThP0smOn4ejeE/4M+3k12M4j/NvgKM5IfiP7W0tLS0tOQ/E7UrUbsS5T9xrmMU5zrmP/xWwm8l/OY/83L1XqkL5z84l2d/c3nmP8WV7g0oE+c/PhMZ0xq+5j/koWePAIfnPwAAAAAAgOQ/KVrLD8iQ5D+u8wpo3K3jP8FwOVe9reM/Tv+Qn7qj5D8zAiHvAizkP7sStStRu+I/pSN7BqLS4T9+KV2v4JfiP+VwGfDJ4eI/5zpGca5j5D8MwzAMwzDkPyQkJCQkJOQ/t+aHRcrA4z9sB+bagbnmPw==",
          "dtype": "f8"
         }
        },
        {
         "legendgroup": "('llama3.1_8b_chat', 'birth_years_4k', 'base', 'main', 'prompt_answer')",
         "marker": {
          "color": "#1f77b4",
          "opacity": 0.5,
          "size": 6
         },
         "mode": "markers",
         "name": "('llama3.1_8b_chat', 'birth_years_4k', 'base', 'main', 'prompt_answer') Fold ('direction_f1_score', 3)",
         "showlegend": false,
         "type": "scatter",
         "x": {
          "bdata": "AAECAwQFBgcICQoLDA0ODxAREhMUFRYXGBkaGxwdHh8=",
          "dtype": "i1"
         },
         "y": {
          "bdata": "MzMzMzMz4z9rq3gnP5jjPy+66KKLLt4/a35YpAw83T9RRYi3q+7dPzMzMzMzM90/IZQthLKF4D+SsaiG2cHhP1jkDjP4UuM/mjRp0qRJ4z931gx1Z83gPzOmfB2WcOQ/TIca7M5k5D/ylCBPCfLkP2ZmZmZmZuY/INEKmwOJ5j9w1jyjCXDmP1K2JmVrUuY/FBCdr+6R5j+yh1lAvkjkP2Qf3e2FwOQ/vzdE//Ra5D8nCHdj3yPiP6+hvIbyGuI/CxUqVKhQ4T9Xzq0fEcThPyiwJjerUOI/giLrZT8P4z8R9uL5d63jP0Qte+pkOOQ/FDuxEzux4z+SJEmSJEniPw==",
          "dtype": "f8"
         }
        },
        {
         "legendgroup": "('llama3.1_8b_chat', 'birth_years_4k', 'base', 'main', 'prompt_answer')",
         "marker": {
          "color": "#1f77b4",
          "opacity": 0.5,
          "size": 6
         },
         "mode": "markers",
         "name": "('llama3.1_8b_chat', 'birth_years_4k', 'base', 'main', 'prompt_answer') Fold ('direction_f1_score', 4)",
         "showlegend": false,
         "type": "scatter",
         "x": {
          "bdata": "AAECAwQFBgcICQoLDA0ODxAREhMUFRYXGBkaGxwdHh8=",
          "dtype": "i1"
         },
         "y": {
          "bdata": "ClYSMms44D9VVVVVVVXiP0DTcxB7weI/Ccs9jbDc4z/ezpCYtzPkP2WTTTbZZOM/RomfUeJn5D9uQaNlIB/lP8RGOmykw+Y/JL5MBkvD5T/qQlwaLDHnP4rY8lBwJec/f6qXWqIH5z/2/WUUBDTnP9d3fdd3fec/Bo/lvdoi5z+3fyCH083nP1hb5DoTMOg/gDXfLJoE6D+5m9xN7ibnP4vFYrFYLOY/ZVRGZVRG5T9EY31orA/lP+pbteY2+eQ/5VIu5VIu5T9VVVVVVVXlP5Q+6ZM+6eM/alLRv6cm5T84lQnbIDjlP1VVVVVVVeU/VVVVVVVV5T9mZmZmZmbmPw==",
          "dtype": "f8"
         }
        },
        {
         "legendgroup": "('llama3.1_8b_chat', 'birth_years_4k', 'base', 'main', 'prompt_only')",
         "line": {
          "color": "#ff7f0e",
          "width": 2
         },
         "marker": {
          "size": 8
         },
         "mode": "lines+markers",
         "name": "('llama3.1_8b_chat', 'birth_years_4k', 'base', 'main', 'prompt_only')",
         "type": "scatter",
         "x": {
          "bdata": "AAECAwQFBgcICQoLDA0ODxAREhMUFRYXGBkaGxwdHh8=",
          "dtype": "i1"
         },
         "y": {
          "bdata": "U7PQSnml1T8yDr5dNhXcPwIRLurlkNs//sj8lJKM3j9XBsuU+Y3hP2d6ShHds+E/szdWHf1t4j9ScN/QaZzjP/URHPJb1eM/kmcNpDUH5D/+KwcvGnLkP9RcEsXT3eM/9hDBqy1i5D8n9IocvJvkP59DA6/tS+Q/QnjqmOjC5D9S1mcunmTkP4KfgSbh/uQ/M8P8BIMM5T+K+UFU4n7kPwZ28kjXueQ/GoVRBG+u5D/+hfJ3XGHlP2/0TUN9deU/xfMeSbxi5T9e5ciChKflPwZnoDHwnOU/Y3BvVTrn5T/Z7llV+BfmPwzACP9dSOY/upOW0FjW5T8KhAyEMfTmPw==",
          "dtype": "f8"
         }
        },
        {
         "legendgroup": "('llama3.1_8b_chat', 'birth_years_4k', 'base', 'main', 'prompt_only')",
         "line": {
          "width": 0
         },
         "mode": "lines",
         "name": "('llama3.1_8b_chat', 'birth_years_4k', 'base', 'main', 'prompt_only') Max",
         "showlegend": false,
         "type": "scatter",
         "x": {
          "bdata": "AAECAwQFBgcICQoLDA0ODxAREhMUFRYXGBkaGxwdHh8=",
          "dtype": "i1"
         },
         "y": {
          "bdata": "L2un4x9c2D+BEziBEzjhPxxLmQS7Ct8/nBegJffj4T+TaT396y7kP7fmh0XKwOM/n0Ls30tb5D+dl0V8AqnkP5uUrUnZmuQ/5lu+5Vu+5T92Yid2YifmP1kH2u6t0uQ/rSch9Qsm5j98KFK9hyLlP6RwPQrXo+Q/SOF6FK5H5T9ilcj7LmLlP5RJu9wxluU/lmVZlmVZ5j9VVVVVVVXlP8kQrKPN++Q/qFChQoUK5T/V18gTne7mP9zSc9Mk3uY/aC+hvYT25j+Xb/mWb/nmP3OIFjygAOc/uZvcTe4m5z9dQUyuICbnP1yO/SvorOc/KCoJW5k35z+amZmZmZnnPw==",
          "dtype": "f8"
         }
        },
        {
         "fill": "tonexty",
         "fillcolor": "rgba(255, 127, 14, 0.1)",
         "legendgroup": "('llama3.1_8b_chat', 'birth_years_4k', 'base', 'main', 'prompt_only')",
         "line": {
          "width": 0
         },
         "mode": "lines",
         "name": "('llama3.1_8b_chat', 'birth_years_4k', 'base', 'main', 'prompt_only') Min",
         "showlegend": false,
         "type": "scatter",
         "x": {
          "bdata": "AAECAwQFBgcICQoLDA0ODxAREhMUFRYXGBkaGxwdHh8=",
          "dtype": "i1"
         },
         "y": {
          "bdata": "eqxl6IDdzj8BR4qG+OPWP65STNBdpdg/K7tqosqu2j82BxKtsDngP5gHFvPAYt4/WPpztuND4D+n5kHu+tniP4OCgoKCguI/2N/FoCLc4j9wRIFJp+bhP0rz4k8knOI/vJyCl1Pw4j+GQnCt5DHkP5NOzYPc9eM/Q7Ncybjz4z+JNiXalGjjP3sUrkfheuQ/AqnkvCzi4z/nq3uklcnjP0z8OR7RM+Q/TPw5HtEz5D8UFBQUFBTkP+MEqC+mUOQ/JqzrX5OI4z9FpmG7WZ7kP7gFjZaBfOQ/qdjWG94H5T8VFRUVFRXlP3SrPna4SOU/2WSTTTbZ5D+02lntrHbmPw==",
          "dtype": "f8"
         }
        },
        {
         "legendgroup": "('llama3.1_8b_chat', 'birth_years_4k', 'base', 'main', 'prompt_only')",
         "line": {
          "width": 0
         },
         "mode": "lines",
         "name": "('llama3.1_8b_chat', 'birth_years_4k', 'base', 'main', 'prompt_only') +1 STD",
         "showlegend": false,
         "type": "scatter",
         "x": {
          "bdata": "AAECAwQFBgcICQoLDA0ODxAREhMUFRYXGBkaGxwdHh8=",
          "dtype": "i1"
         },
         "y": {
          "bdata": "avt4Th1A2T+xC9VwBtrgP7Cu2AiPp94/7GGaOfEA4T/BzT8WcS7jP4ogL+HXWuM/HCMBFeI05D/DB80542HkPyxaxYM6s+Q/fPZKo4gW5T8Hep8+yUvmPxYbzE8mseQ/um8jm/SM5T8aLM1Gu/PkP+mN0b8YnuQ/EgbaF5VL5T/ajLNi9yHlP5VTgeJRhuU/lwwnFMkg5j95FOhG+Q7lP0dfTjSsCuU/W7ASQGkE5T+C1UQ/VZrmP7KPj4acmeY/HrvHrqPH5j9J35YAebDmP7KM91aRsuY/262Wrm3e5j9tN7zi1+3mP2VXr4iqXec/WZpbla/S5j8w7yjHOn7nPw==",
          "dtype": "f8"
         }
        },
        {
         "fill": "tonexty",
         "fillcolor": "rgba(255, 127, 14, 0.3)",
         "legendgroup": "('llama3.1_8b_chat', 'birth_years_4k', 'base', 'main', 'prompt_only')",
         "line": {
          "width": 0
         },
         "mode": "lines",
         "name": "('llama3.1_8b_chat', 'birth_years_4k', 'base', 'main', 'prompt_only') -1 STD",
         "showlegend": false,
         "type": "scatter",
         "x": {
          "bdata": "AAECAwQFBgcICQoLDA0ODxAREhMUFRYXGBkaGxwdHh8=",
          "dtype": "i1"
         },
         "y": {
          "bdata": "PGsoR9UK0j8CBdLZX3bWP1Rzg8s8etg/Jc7EtkIX2z/afawmBNvfP0TUZUHiDOA/SkyrJRin4D/h2PFn8NbiP77JcmB99+I/qNjPpOL34j/13W4fa5jiP5KeWDqBCuM/MrJevGY34z80vEjyvEPkP1X5NJ7C+eM/cur6GTw65D/KHxz6RKfjP2/rgWpwd+Q/z3nS9Tz44z+b3pthy+7jP8WMll0CaeQ/2VmQyHRY5D96NqCwYyjkPyxZDABeUeQ/bCx249T94z9z6/oEkJ7kP1pBSQxPh+Q/6zJI/Abw5D9FpvfHGELlP7MoYnURM+U/G43RCwLa5D/kGPBAKGrmPw==",
          "dtype": "f8"
         }
        },
        {
         "legendgroup": "('llama3.1_8b_chat', 'birth_years_4k', 'base', 'main', 'prompt_only')",
         "marker": {
          "color": "#ff7f0e",
          "opacity": 0.5,
          "size": 6
         },
         "mode": "markers",
         "name": "('llama3.1_8b_chat', 'birth_years_4k', 'base', 'main', 'prompt_only') Fold ('direction_f1_score', 0)",
         "showlegend": false,
         "type": "scatter",
         "x": {
          "bdata": "AAECAwQFBgcICQoLDA0ODxAREhMUFRYXGBkaGxwdHh8=",
          "dtype": "i1"
         },
         "y": {
          "bdata": "wV/FCSl51j9BewntJbTXP7h1eQccKdo/nBegJffj4T+TaT396y7kP7fmh0XKwOM/n0Ls30tb5D+dl0V8AqnkP5uUrUnZmuQ/5lu+5Vu+5T92Yid2YifmP1kH2u6t0uQ/rSch9Qsm5j8Gnm7ND4vkP7RAC7RAC+Q/SOF6FK5H5T8KQdn7mhDkP5RJu9wxluU/lmVZlmVZ5j/CSDtWIIzkP6xmuB08xeQ/cgUxuYKY5D/V18gTne7mP9zSc9Mk3uY/aC+hvYT25j+Xb/mWb/nmP3OIFjygAOc/uZvcTe4m5z9dQUyuICbnP7Rkf60rNOc/KCoJW5k35z/1xRSKSsLmPw==",
          "dtype": "f8"
         }
        },
        {
         "legendgroup": "('llama3.1_8b_chat', 'birth_years_4k', 'base', 'main', 'prompt_only')",
         "marker": {
          "color": "#ff7f0e",
          "opacity": 0.5,
          "size": 6
         },
         "mode": "markers",
         "name": "('llama3.1_8b_chat', 'birth_years_4k', 'base', 'main', 'prompt_only') Fold ('direction_f1_score', 1)",
         "showlegend": false,
         "type": "scatter",
         "x": {
          "bdata": "AAECAwQFBgcICQoLDA0ODxAREhMUFRYXGBkaGxwdHh8=",
          "dtype": "i1"
         },
         "y": {
          "bdata": "l37pl37p1z8BR4qG+OPWP5HuZD6kO9k/9BB6CD2E3j8JbzR1fu3hP6ipEG34/OE/9EIv9EIv5D9IdYlZCwXkPwnLPY2w3OM/71g8e4oC5D+I5LAHkRzmP0PUzaBlx+M/lDbeUc364z/KRycfnXzkP88OgRvLoOQ/2FBeQ3kN5T9kH93thcDkP6xDNnvPi+U/vJV9DqkJ5j9VVVVVVVXlP8kQrKPN++Q/qFChQoUK5T8jPoFUcl7mP3oWpmdheuY/ehamZ2F65j/xkwtRN4PmP/GTC1E3g+Y/uB6F61G45j/daXWn1Z3mP1yO/SvorOc/MXSqJfWA5j9hv9XG0HTnPw==",
          "dtype": "f8"
         }
        },
        {
         "legendgroup": "('llama3.1_8b_chat', 'birth_years_4k', 'base', 'main', 'prompt_only')",
         "marker": {
          "color": "#ff7f0e",
          "opacity": 0.5,
          "size": 6
         },
         "mode": "markers",
         "name": "('llama3.1_8b_chat', 'birth_years_4k', 'base', 'main', 'prompt_only') Fold ('direction_f1_score', 2)",
         "showlegend": false,
         "type": "scatter",
         "x": {
          "bdata": "AAECAwQFBgcICQoLDA0ODxAREhMUFRYXGBkaGxwdHh8=",
          "dtype": "i1"
         },
         "y": {
          "bdata": "eqxl6IDdzj+YwxzmMIfZP65STNBdpdg/K7tqosqu2j82BxKtsDngP5gHFvPAYt4/WPpztuND4D+n5kHu+tniP4OCgoKCguI/2N/FoCLc4j9wRIFJp+bhP0rz4k8knOI/vJyCl1Pw4j+GQnCt5DHkP15DeQ3lNeQ/Q7Ncybjz4z+JNiXalGjjP3sUrkfheuQ/AqnkvCzi4z/nq3uklcnjP0z8OR7RM+Q/TPw5HtEz5D8UFBQUFBTkP+MEqC+mUOQ/JqzrX5OI4z/pRjH78+HkP+9UuyGI7uQ/foGjZiQv5T9JkiRJkiTmP1lcY3GNxeU/VVVVVVVV5T+amZmZmZnnPw==",
          "dtype": "f8"
         }
        },
        {
         "legendgroup": "('llama3.1_8b_chat', 'birth_years_4k', 'base', 'main', 'prompt_only')",
         "marker": {
          "color": "#ff7f0e",
          "opacity": 0.5,
          "size": 6
         },
         "mode": "markers",
         "name": "('llama3.1_8b_chat', 'birth_years_4k', 'base', 'main', 'prompt_only') Fold ('direction_f1_score', 3)",
         "showlegend": false,
         "type": "scatter",
         "x": {
          "bdata": "AAECAwQFBgcICQoLDA0ODxAREhMUFRYXGBkaGxwdHh8=",
          "dtype": "i1"
         },
         "y": {
          "bdata": "L2un4x9c2D8PzUq8TO3gPxxLmQS7Ct8/rbMvolpn3z8RA9KxlEngP9GsY9GsY+E//BoFp8Wv4T/hehSuR+HiP5uUrUnZmuQ/nXPOOeec4z/NzMzMzMzkP1VVVVVVVeQ/aNdRJcGf5D/zc143k67kP6RwPQrXo+Q/nKWSuGwE5T9CA2MoMlvkPy+n4OUUvOQ/AAAAAACA5D8xuYKYXEHkP4Cy3bF49uQ/gLLdsXj25D+cpZK4bATlP5HYlue+p+Q/JUmSJEmS5D9FpmG7WZ7kP7gFjZaBfOQ/Vx1R7+Bt5T+kV8b2O3rlP1/FDDp8euU/2WSTTTbZ5D+RmmC8lX3mPw==",
          "dtype": "f8"
         }
        },
        {
         "legendgroup": "('llama3.1_8b_chat', 'birth_years_4k', 'base', 'main', 'prompt_only')",
         "marker": {
          "color": "#ff7f0e",
          "opacity": 0.5,
          "size": 6
         },
         "mode": "markers",
         "name": "('llama3.1_8b_chat', 'birth_years_4k', 'base', 'main', 'prompt_only') Fold ('direction_f1_score', 4)",
         "showlegend": false,
         "type": "scatter",
         "x": {
          "bdata": "AAECAwQFBgcICQoLDA0ODxAREhMUFRYXGBkaGxwdHh8=",
          "dtype": "i1"
         },
         "y": {
          "bdata": "3GCKfNYN1j+BEziBEzjhP/JSInikv94/8j2bUIxc3D/RPKEWMCbhPwgj7ViBMOI/lnsaYbmn4T8rwzeiwKTjPwLjcBfmleM/kf2z+Bvq4z+6g/1WG0PjP+ere6SVyeM/aoLxVvY55D98KFK9hyLlP5NOzYPc9eM/S87LIj6B5D9ilcj7LmLlP6HUBztuoeQ/rSs0t1N55D9/3Lq8A47kP90nQNvgteQ/m5StSdma5D9LzssiPoHkP2T/LP6G+uQ/q4fVw+ph5T8filTvoUjlPxOMt7LPIeU/qdjWG94H5T8VFRUVFRXlP3SrPna4SOU/H4pU76FI5T+02lntrHbmPw==",
          "dtype": "f8"
         }
        },
        {
         "legendgroup": "('llama3.1_8b_chat', 'cities_10k', 'base', 'main', 'prompt_answer')",
         "line": {
          "color": "#2ca02c",
          "width": 2
         },
         "marker": {
          "size": 8
         },
         "mode": "lines+markers",
         "name": "('llama3.1_8b_chat', 'cities_10k', 'base', 'main', 'prompt_answer')",
         "type": "scatter",
         "x": {
          "bdata": "AAECAwQFBgcICQoLDA0ODxAREhMUFRYXGBkaGxwdHh8=",
          "dtype": "i1"
         },
         "y": {
          "bdata": "V7suho975T8dhYlJFP/lP6CvcxqaxuY/v/pDuazZ5j8JO7l9rTXmP9zuH3uT3eY/CKi4C44M5z99m6EJ7tHmP7GhktYyRuc/Y+yqMucC5z/oqJIXD0rnP22tmphQrOc/Wbiohs2C5z9ejck7KITnP/p0Fz6jOuc/dhBs2CJv5z8qcQD7TWTmPzGdLubp5OY/Kuv0lUIT5z9y9GiP3CLnPxKCTDUR3OY/M/jVcrWx5j9zKtOMsKHmPwZHvn6Cp+Y/jo2PZTwg5j+ZlSQmp/PmPwJEU4IcFOY/oNcKI8fE5D//S9q85lXkP3BpZP+5IOM/Fece3Q/I4z9/du9Bx9PkPw==",
          "dtype": "f8"
         }
        },
        {
         "legendgroup": "('llama3.1_8b_chat', 'cities_10k', 'base', 'main', 'prompt_answer')",
         "line": {
          "width": 0
         },
         "mode": "lines",
         "name": "('llama3.1_8b_chat', 'cities_10k', 'base', 'main', 'prompt_answer') Max",
         "showlegend": false,
         "type": "scatter",
         "x": {
          "bdata": "AAECAwQFBgcICQoLDA0ODxAREhMUFRYXGBkaGxwdHh8=",
          "dtype": "i1"
         },
         "y": {
          "bdata": "VkSnVHex5j/uN7REFp3mP3fMIXfMIec/sQ5v68oc5z/oydqzmunmP47T8TZqZ+c/0UUXXXRR5z8gpd0ISGnnPxc3YX5Xi+c/5DMA8VUo5z+8l0a+7XrnP3LqBLfs9uc/io/7bin05z8SlnsaYbnnP3MtKdJxmec/t5POvFy95z/xlaFZ39LmP84/Y5oMMOc/Rbx3VcR75z+vsMifwGHnP6Dex1uag+c/MFUsAmff5j+I4i9yhgXnP7fiN1Nj0eY/haWGrsVn5j+AEaqiH0fnPyqNGuh7kOc/RhdddNFF5z+Q/HmVxRnlPzSJ3jOJ3uM/k4mOn0dj5D+MA8PlXPXmPw==",
          "dtype": "f8"
         }
        },
        {
         "fill": "tonexty",
         "fillcolor": "rgba(44, 160, 44, 0.1)",
         "legendgroup": "('llama3.1_8b_chat', 'cities_10k', 'base', 'main', 'prompt_answer')",
         "line": {
          "width": 0
         },
         "mode": "lines",
         "name": "('llama3.1_8b_chat', 'cities_10k', 'base', 'main', 'prompt_answer') Min",
         "showlegend": false,
         "type": "scatter",
         "x": {
          "bdata": "AAECAwQFBgcICQoLDA0ODxAREhMUFRYXGBkaGxwdHh8=",
          "dtype": "i1"
         },
         "y": {
          "bdata": "i2IirE+05D9Q0Vk7xl3lP/5NCNUKeuY/nUm1ozOp5j/B8Cw4xrflP/j6TcfuiuY/7gRxMkm15j8yw+hLTI/mP51XURy55uY/ymsor6G85j8HPbPXSgfnP2bAJ4fLgOc/hU48NjTe5j9HsbC3Y1PnP2j3TeHxtuY/90Z2Giz05j9ZGpRsjuvlP9Jk3rUYTeY/DMxTaA2g5j+QFEzmIODmPx1ItMLmQOY/b4pbyBd+5j8JCi1HVzrmP605/gM3hOY/crIK5M7R5T8sjpnwPtLmPxf+h6YmvuM/cVffJO+v4z/TEaWfKgXkPz5yrRBkWOI/InBjGZQK4z9FE0000UTjPw==",
          "dtype": "f8"
         }
        },
        {
         "legendgroup": "('llama3.1_8b_chat', 'cities_10k', 'base', 'main', 'prompt_answer')",
         "line": {
          "width": 0
         },
         "mode": "lines",
         "name": "('llama3.1_8b_chat', 'cities_10k', 'base', 'main', 'prompt_answer') +1 STD",
         "showlegend": false,
         "type": "scatter",
         "x": {
          "bdata": "AAECAwQFBgcICQoLDA0ODxAREhMUFRYXGBkaGxwdHh8=",
          "dtype": "i1"
         },
         "y": {
          "bdata": "HyuyMyg45j+H7SmfoH/mP934vy8sCec/WiZRlPYH5z9wdjYRWbjmP7Vadf0SN+c/owMoin5E5z/6OQpOayznP1SdG2/Tjuc/2m3I3F0u5z8xsjI9ZHXnP1fOKX6L2uc/5RQq+brs5z/YCmnIZrHnP8Ymr9CLjOc/0O4p1UK95z+rCz58acHmP+d2GzYQQ+c/tB3oqHRt5z/ppmurfF7nP4M2pxOHUOc/zaG/UHPd5j+iqfxMmPDmPyZRqR5HyeY/0MMN/q5e5j/cRFXBwSbnPwqOfSUjyec/ArHtDAQ45j8+eawOBMbkP1mT4BUW3eM/8wwPv0JQ5D8IgB4h1DfmPw==",
          "dtype": "f8"
         }
        },
        {
         "fill": "tonexty",
         "fillcolor": "rgba(44, 160, 44, 0.3)",
         "legendgroup": "('llama3.1_8b_chat', 'cities_10k', 'base', 'main', 'prompt_answer')",
         "line": {
          "width": 0
         },
         "mode": "lines",
         "name": "('llama3.1_8b_chat', 'cities_10k', 'base', 'main', 'prompt_answer') -1 STD",
         "showlegend": false,
         "type": "scatter",
         "x": {
          "bdata": "AAECAwQFBgcICQoLDA0ODxAREhMUFRYXGBkaGxwdHh8=",
          "dtype": "i1"
         },
         "y": {
          "bdata": "j0ur2Pa+5D+zHOnzh37lP2NmJwUIhOY/JM823mKr5j+i/zvqAbPlPwODyvgThOY/bUxJjZ3U5j8A/TjFcHfmPw6mCT6S/eY/7GqNiHDX5j+fn/LxuR7nP4OMC7MVfuc/zVsnFOAY5z/kDyqv6VbnPy7Df6u66OY/HDKu2wIh5z+p1sJ5MgfmP3vDQZbDhuY/oLgBgxC55j/7QWZzPOfmP6HN8VabZ+Y/mU7slPeF5j9Eq6nMyFLmP+Y80969heY/TFcRzcnh5T9W5vOKjMDmP/r5KN8VX+Q/Pv4nOYpR4z/AHghryeXjP4c/6OhdZOI/N8Eu+9w/4z/2bMBium/jPw==",
          "dtype": "f8"
         }
        },
        {
         "legendgroup": "('llama3.1_8b_chat', 'cities_10k', 'base', 'main', 'prompt_answer')",
         "marker": {
          "color": "#2ca02c",
          "opacity": 0.5,
          "size": 6
         },
         "mode": "markers",
         "name": "('llama3.1_8b_chat', 'cities_10k', 'base', 'main', 'prompt_answer') Fold ('direction_f1_score', 0)",
         "showlegend": false,
         "type": "scatter",
         "x": {
          "bdata": "AAECAwQFBgcICQoLDA0ODxAREhMUFRYXGBkaGxwdHh8=",
          "dtype": "i1"
         },
         "y": {
          "bdata": "VkSnVHex5j/uN7REFp3mP3fMIXfMIec/1P9oKkjq5j/oydqzmunmP47T8TZqZ+c/DB39L6IX5z87SIB2aqrmP4wuuuiiC+c/d2fwiJgP5z8HPbPXSgfnP0FG0IE4uOc/io/7bin05z8SlnsaYbnnPw/iJJK9TOc/t5POvFy95z+3fkQQR4fmP84/Y5oMMOc/xcmKfhEu5z+vsMifwGHnP6Dex1uag+c/5g1Am2/a5j8JCi1HVzrmP9Vfg7xFjeY/haWGrsVn5j9wgQtc4ALnPxf+h6YmvuM/LiX2M6i35D+Q/HmVxRnlP1paWlpaWuI/efv8/VON4z8VUiEVUiHlPw==",
          "dtype": "f8"
         }
        },
        {
         "legendgroup": "('llama3.1_8b_chat', 'cities_10k', 'base', 'main', 'prompt_answer')",
         "marker": {
          "color": "#2ca02c",
          "opacity": 0.5,
          "size": 6
         },
         "mode": "markers",
         "name": "('llama3.1_8b_chat', 'cities_10k', 'base', 'main', 'prompt_answer') Fold ('direction_f1_score', 1)",
         "showlegend": false,
         "type": "scatter",
         "x": {
          "bdata": "AAECAwQFBgcICQoLDA0ODxAREhMUFRYXGBkaGxwdHh8=",
          "dtype": "i1"
         },
         "y": {
          "bdata": "daIQ089+5T+yTbfQbpzlPzinV86HzuY/LEsejkjc5j+uOh/Fl5PmPyrXHS+2BOc/yDqc4rEO5z8Feqeu5eDmPxrJrK9wZ+c/5DMA8VUo5z8f33MW0FrnPyO3m/8lmuc/hU48NjTe5j/Ydl/bfW3nP2j3TeHxtuY/90Z2Giz05j/xlaFZ39LmP0HDSd2Xx+Y/DMxTaA2g5j+QFEzmIODmP85nT8BNzOY/M7ljSXaO5j+I4i9yhgXnP434k+HGw+Y/crIK5M7R5T8sjpnwPtLmP+9gv9XG0OQ/X8U4InP24z/iQs1JIC7kP4kk2vgMueM/k4mOn0dj5D89mwqu7QHkPw==",
          "dtype": "f8"
         }
        },
        {
         "legendgroup": "('llama3.1_8b_chat', 'cities_10k', 'base', 'main', 'prompt_answer')",
         "marker": {
          "color": "#2ca02c",
          "opacity": 0.5,
          "size": 6
         },
         "mode": "markers",
         "name": "('llama3.1_8b_chat', 'cities_10k', 'base', 'main', 'prompt_answer') Fold ('direction_f1_score', 2)",
         "showlegend": false,
         "type": "scatter",
         "x": {
          "bdata": "AAECAwQFBgcICQoLDA0ODxAREhMUFRYXGBkaGxwdHh8=",
          "dtype": "i1"
         },
         "y": {
          "bdata": "nlLnunE+5T8ZUM9UrjvmPwYyKV4gk+Y/nUm1ozOp5j/B8Cw4xrflP/j6TcfuiuY/0UUXXXRR5z8gpd0ISGnnPxmiw/3Zeec/ymsor6G85j+8l0a+7XrnP2bAJ4fLgOc/twKiXFJ/5z9HsbC3Y1PnP5M9ramDQ+c/BqRjKZNg5z9ZGpRsjuvlPwMYEb7ZJec/ot9sHfrN5j8qlTsBUyrnP7cR6ks0/OY/MFUsAmff5j/iYrZKXMzmP1juaYTlnuY/WA9Tsfg55j+AEaqiH0fnP9+WvKtWbOc/cVffJO+v4z/TEaWfKgXkP9aUNWVNWeM/9EIv9EIv5D9FE0000UTjPw==",
          "dtype": "f8"
         }
        },
        {
         "legendgroup": "('llama3.1_8b_chat', 'cities_10k', 'base', 'main', 'prompt_answer')",
         "marker": {
          "color": "#2ca02c",
          "opacity": 0.5,
          "size": 6
         },
         "mode": "markers",
         "name": "('llama3.1_8b_chat', 'cities_10k', 'base', 'main', 'prompt_answer') Fold ('direction_f1_score', 3)",
         "showlegend": false,
         "type": "scatter",
         "x": {
          "bdata": "AAECAwQFBgcICQoLDA0ODxAREhMUFRYXGBkaGxwdHh8=",
          "dtype": "i1"
         },
         "y": {
          "bdata": "vgwoEMVG5T+H8hrKayjmP2d6lwuD4+Y/sQ5v68oc5z9R0izsPt/lP/W+edoeueY/maV5mLQR5z/e3jm2wZXmPxc3YX5Xi+c/MBpqE1P45j/TJG2KyDznP+O6bDt8k+c/oEXU5L905z/zGsprKK/nP2EELEeLROc/JN6++T505z8x+kszNpDmP9Jk3rUYTeY/IWYFlG9I5z8b/dCOq1bnPx3qyN9Sv+Y/RjICjyay5j/3rJ7E/qrmP7fiN1Nj0eY/o/2mPJdA5j/Am0eoPtPmPyqNGuh7kOc/2tzKvwc05D8Ywgb9SEbkPzSJ3jOJ3uM/Q0t8pty94z9XTHFsdsXkPw==",
          "dtype": "f8"
         }
        },
        {
         "legendgroup": "('llama3.1_8b_chat', 'cities_10k', 'base', 'main', 'prompt_answer')",
         "marker": {
          "color": "#2ca02c",
          "opacity": 0.5,
          "size": 6
         },
         "mode": "markers",
         "name": "('llama3.1_8b_chat', 'cities_10k', 'base', 'main', 'prompt_answer') Fold ('direction_f1_score', 4)",
         "showlegend": false,
         "type": "scatter",
         "x": {
          "bdata": "AAECAwQFBgcICQoLDA0ODxAREhMUFRYXGBkaGxwdHh8=",
          "dtype": "i1"
         },
         "y": {
          "bdata": "i2IirE+05D9Q0Vk7xl3lP/5NCNUKeuY/cEKoVtCz5j+DX0rXK/jlP6lFyF+zo+Y/7gRxMkm15j8yw+hLTI/mP51XURy55uY/mXzTwKAh5z/VcwI/eljnP3LqBLfs9uc/U3OdupPH5z+16ZkRXmvnP3MtKdJxmec/c/W0P1Ol5z+kDDzdmh/mPwySTJP6Dec/Rbx3VcR75z+3buu2buvmPx1ItMLmQOY/b4pbyBd+5j/a1233OXHmP605/gM3hOY/0V5Cewnt5T8fLyAnxtLmP/jQgXvO2OY/RhdddNFF5z+haFA0KBrkPz5yrRBkWOI/InBjGZQK4z+MA8PlXPXmPw==",
          "dtype": "f8"
         }
        },
        {
         "legendgroup": "('llama3.1_8b_chat', 'cities_10k', 'base', 'main', 'prompt_only')",
         "line": {
          "color": "#d62728",
          "width": 2
         },
         "marker": {
          "size": 8
         },
         "mode": "lines+markers",
         "name": "('llama3.1_8b_chat', 'cities_10k', 'base', 'main', 'prompt_only')",
         "type": "scatter",
         "x": {
          "bdata": "AAECAwQFBgcICQoLDA0ODxAREhMUFRYXGBkaGxwdHh8=",
          "dtype": "i1"
         },
         "y": {
          "bdata": "wnLa7Aao4D/cTQBPTMvhP06r59WEweE/kOHxalQv4j8NK5hHcsThP4sdU31zR+I/CnoUoHAD4z9MVz+AF6niP/a5uFYgJeM/khDpnopg4z8tXQEnRCnlP6tmZzXZfeU/zpWzg0rv5T+AZRMCpwTmP2l6cNYjAuY/LqzZm4bS5T/563hp44flP6sUehpRU+U/ByN2vq+Y5D8sbgIP0H/kPz4EBM6KfOQ/QYgZgFU+5D+rFkn790rkP/iobYwIt+M/GPCNCD264z+Q5bEAmqbjP9hvPAqeIOM/2/ODaOdr4z82g90bgwDkPzpFhgOfVOU/uF9I7iDk5D8bxAPjP37jPw==",
          "dtype": "f8"
         }
        },
        {
         "legendgroup": "('llama3.1_8b_chat', 'cities_10k', 'base', 'main', 'prompt_only')",
         "line": {
          "width": 0
         },
         "mode": "lines",
         "name": "('llama3.1_8b_chat', 'cities_10k', 'base', 'main', 'prompt_only') Max",
         "showlegend": false,
         "type": "scatter",
         "x": {
          "bdata": "AAECAwQFBgcICQoLDA0ODxAREhMUFRYXGBkaGxwdHh8=",
          "dtype": "i1"
         },
         "y": {
          "bdata": "1I3h9x+i4T+czI1XNK3iPwRLBIG5F+M/nhLkKUGe4j/h2F9I6EbiP1Uc7WFpZOI/++NlMAo45D+evZE+JL/lP7ZYGb4RBeY/1QfQZZAr5T9na88DUJDmP7NeWa+sV+Y/r0kuQZV+5j/PXF7XNonmP2SK4iBwNeY/zrd2QnYs5j+T5wDtjkbmP5p2rzTT7uU/E9pLaC+h5T+CF5xog5HlP/VXf/VXf+U/GMGnQP5Z5T9VVVVVVVXlPx8h8MwNZOU/8Bj7RqOi5T8BVNBg0cnlP90LGcPUa+U/PCUPuNUI5j8B8dGEvLDlP1bOuK0hAuY/T+5CpjTZ5T+YrAinb/bkPw==",
          "dtype": "f8"
         }
        },
        {
         "fill": "tonexty",
         "fillcolor": "rgba(214, 39, 40, 0.1)",
         "legendgroup": "('llama3.1_8b_chat', 'cities_10k', 'base', 'main', 'prompt_only')",
         "line": {
          "width": 0
         },
         "mode": "lines",
         "name": "('llama3.1_8b_chat', 'cities_10k', 'base', 'main', 'prompt_only') Min",
         "showlegend": false,
         "type": "scatter",
         "x": {
          "bdata": "AAECAwQFBgcICQoLDA0ODxAREhMUFRYXGBkaGxwdHh8=",
          "dtype": "i1"
         },
         "y": {
          "bdata": "r36tzQOZ3z/qfvGTtGfhP4v7NFGsVOE/wzR3wV/F4T86a91OJ3rhPxWjhr9NMeI/jyWeIPVY4j9QUFBQUFDgP/jQp/o1xeE/ZQjW0eZ94j8ujKKTnUHkP1tNQJKB+OQ/HUaZiuea5T9rmB0cQaTlPwpxVn5CnOU/MomD962R5T/cR3AfwX3kPy7IuCDjguQ/rTLOhEjp4T93bOoC3aPhPzDVeiDGa+E/VXLNcxpq4T+xroOtN4fhP7ZCkGFJuOE/4Lhz8o9G4j86Gcg+yerhPypnt/CrMeE/gtC8gdC84T/mVUiAeRXiP3A1W55O3eM/ZBmjDmf/4T8JpY13VLPePw==",
          "dtype": "f8"
         }
        },
        {
         "legendgroup": "('llama3.1_8b_chat', 'cities_10k', 'base', 'main', 'prompt_only')",
         "line": {
          "width": 0
         },
         "mode": "lines",
         "name": "('llama3.1_8b_chat', 'cities_10k', 'base', 'main', 'prompt_only') +1 STD",
         "showlegend": false,
         "type": "scatter",
         "x": {
          "bdata": "AAECAwQFBgcICQoLDA0ODxAREhMUFRYXGBkaGxwdHh8=",
          "dtype": "i1"
         },
         "y": {
          "bdata": "qFb1u/FU4T/4WbFVkU7iP2f6y7KkgeI/pIeqEcSI4j8nipz8nBPiPzWKP9AJXeI/nv4m4bm+4z+w4DwWK1XlP9sFZ0AUzuQ/gZvvrb6E5D+aqoEOKQjmP1cmLSGxBuY/cq1eikJN5j8H9jFw22bmP65F65InPeY/rt66bcwY5j/GnJKRPT/mP+BaCMLj8+U/UzNPBEkf5j+4A2a+VB/mPws5tGhXNeY/GUcLdYfa5T//L7qMD97lP8Ien5s7geU/va2iynY/5T89GIWJ8FHlPyKxYxLUEuU/mtxLN3hG5T9lVGrLdbvlP5lacPXjNuY/6JLuZx+F5j9C0fZsMtblPw==",
          "dtype": "f8"
         }
        },
        {
         "fill": "tonexty",
         "fillcolor": "rgba(214, 39, 40, 0.3)",
         "legendgroup": "('llama3.1_8b_chat', 'cities_10k', 'base', 'main', 'prompt_only')",
         "line": {
          "width": 0
         },
         "mode": "lines",
         "name": "('llama3.1_8b_chat', 'cities_10k', 'base', 'main', 'prompt_only') -1 STD",
         "showlegend": false,
         "type": "scatter",
         "x": {
          "bdata": "AAECAwQFBgcICQoLDA0ODxAREhMUFRYXGBkaGxwdHh8=",
          "dtype": "i1"
         },
         "y": {
          "bdata": "uB1/Ozj23z/AQU9IB0jhPzVcA/lkAeE/fDs5xOTV4T/zy5OSR3XhP+GwZirdMeI/dvUBXydI4j/Qm4PUB/rfPxFuCm0sfOE/o4Xij1Y84j/AD4E/X0rkP/+moUkB9eQ/Kn4IfVKR5T/51PSTcqLlPySv9Rkgx+U/rnn4yUCM5T8sO19BidDkP3bO63K+suQ/uxKdeBYS4z+g2J5fS+DiP3HPUzO+w+I/ackniyOi4j9X/ddp4LfiPy4zPH3V7OE/czJ5RgM14j/jst53Q/vhP44uFQJoLuE/HAu8mVaR4T8HslBskEXiP9svnBFacuQ/iCyidCJD4z/0thBZTSbhPw==",
          "dtype": "f8"
         }
        },
        {
         "legendgroup": "('llama3.1_8b_chat', 'cities_10k', 'base', 'main', 'prompt_only')",
         "marker": {
          "color": "#d62728",
          "opacity": 0.5,
          "size": 6
         },
         "mode": "markers",
         "name": "('llama3.1_8b_chat', 'cities_10k', 'base', 'main', 'prompt_only') Fold ('direction_f1_score', 0)",
         "showlegend": false,
         "type": "scatter",
         "x": {
          "bdata": "AAECAwQFBgcICQoLDA0ODxAREhMUFRYXGBkaGxwdHh8=",
          "dtype": "i1"
         },
         "y": {
          "bdata": "r36tzQOZ3z+czI1XNK3iPwRLBIG5F+M/nhLkKUGe4j/h2F9I6EbiP7ox/P5DNOI/EMDM9dSI4j9VVVVVVVXlP7ZYGb4RBeY/1QfQZZAr5T9na88DUJDmP7NeWa+sV+Y/r0kuQZV+5j9rmB0cQaTlP1LHA0TIFOY/Z7PZbDab5T/cR3AfwX3kP7uQHNPYz+Q/XgbItgNK5T/5pfmI8MfkP2E1rePNCeU/LnzBtDmU5D83AlLajYDkPzFbJS5mq+Q/++qkyhgW5T9K3ZfHVgTlP90LGcPUa+U/HxC9bCKy5D+5CfO7WtzkP3A1W55O3eM/ZBmjDmf/4T8JpY13VLPePw==",
          "dtype": "f8"
         }
        },
        {
         "legendgroup": "('llama3.1_8b_chat', 'cities_10k', 'base', 'main', 'prompt_only')",
         "marker": {
          "color": "#d62728",
          "opacity": 0.5,
          "size": 6
         },
         "mode": "markers",
         "name": "('llama3.1_8b_chat', 'cities_10k', 'base', 'main', 'prompt_only') Fold ('direction_f1_score', 1)",
         "showlegend": false,
         "type": "scatter",
         "x": {
          "bdata": "AAECAwQFBgcICQoLDA0ODxAREhMUFRYXGBkaGxwdHh8=",
          "dtype": "i1"
         },
         "y": {
          "bdata": "1I3h9x+i4T8pq8jQv7ThP7qg9FgggOE/wzR3wV/F4T/NmcUn8q7hP1Uc7WFpZOI/jyWeIPVY4j+y4rryZ3zhP+MrvuIrvuI/1VNPPfXU4z9O9RsxLqrkP1tNQJKB+OQ/HUaZiuea5T9p1rhYIKnlPwpxVn5CnOU/zrd2QnYs5j+rBox8N43lP/VvupRByOU/BNBXthhL5T+QzcihLkvlP3Jbqj5uS+U/3ENFpGse5T9VVVVVVVXlPx8h8MwNZOU/vT5cd9Xf4j+vvkneXwfjP30jjSfON+I/gtC8gdC84T8HU+SzbjDlP2nSpEmTJuU/wJq2YaFx5T+XNhj2Js3kPw==",
          "dtype": "f8"
         }
        },
        {
         "legendgroup": "('llama3.1_8b_chat', 'cities_10k', 'base', 'main', 'prompt_only')",
         "marker": {
          "color": "#d62728",
          "opacity": 0.5,
          "size": 6
         },
         "mode": "markers",
         "name": "('llama3.1_8b_chat', 'cities_10k', 'base', 'main', 'prompt_only') Fold ('direction_f1_score', 2)",
         "showlegend": false,
         "type": "scatter",
         "x": {
          "bdata": "AAECAwQFBgcICQoLDA0ODxAREhMUFRYXGBkaGxwdHh8=",
          "dtype": "i1"
         },
         "y": {
          "bdata": "lVJKKaWU4D+IQnIBr7fhPwJVGUgIeuE/62S2hpV14j8yzjHOMc7hP0eyXxXsRuI/TK4gJlcQ4z9QUFBQUFDgP/jQp/o1xeE/ZQjW0eZ94j/UP+Sn7ijlP/9GX4y7N+U/oWO1sjAP5j/H3imoWT7mP0RksHiIDOY/MomD962R5T98USPLUBrmP5p2rzTT7uU/AswUXtrb5D+CF5xog5HlPz1Xws1bLuU/zLUDc+3A5D99Me7eVAvlP0b8L1bq9uQ/4Lhz8o9G4j+bcv+9sIDiP1qO/Fwxy+E/cv8lVbdx4j9q7GEWkC/iP1bOuK0hAuY/IAq27x1o5T9227GIGSTkPw==",
          "dtype": "f8"
         }
        },
        {
         "legendgroup": "('llama3.1_8b_chat', 'cities_10k', 'base', 'main', 'prompt_only')",
         "marker": {
          "color": "#d62728",
          "opacity": 0.5,
          "size": 6
         },
         "mode": "markers",
         "name": "('llama3.1_8b_chat', 'cities_10k', 'base', 'main', 'prompt_only') Fold ('direction_f1_score', 3)",
         "showlegend": false,
         "type": "scatter",
         "x": {
          "bdata": "AAECAwQFBgcICQoLDA0ODxAREhMUFRYXGBkaGxwdHh8=",
          "dtype": "i1"
         },
         "y": {
          "bdata": "GIZhGIZh4D/qfvGTtGfhP4v7NFGsVOE/cB/BfQT34T8oK8TYB5jhPxWjhr9NMeI/++NlMAo45D+evZE+JL/lP215SUNbXuI/QmWRiL1/4j8ujKKTnUHkP+nJY2JpRuU//0PyjG7l5T8WUQIWUQLmPwo9RdSvF+Y/eTWbGDy15T9FFDy7mDvlPy7IuCDjguQ/rTLOhEjp4T93bOoC3aPhP/VXf/VXf+U/GMGnQP5Z5T+hOVQsaA7lP7ZCkGFJuOE/8Bj7RqOi5T8BVNBg0cnlP1gK1PqVAuU/PCUPuNUI5j8B8dGEvLDlP5ZMupVMuuU/AjIXoUnC5T9eQ3kN5TXkPw==",
          "dtype": "f8"
         }
        },
        {
         "legendgroup": "('llama3.1_8b_chat', 'cities_10k', 'base', 'main', 'prompt_only')",
         "marker": {
          "color": "#d62728",
          "opacity": 0.5,
          "size": 6
         },
         "mode": "markers",
         "name": "('llama3.1_8b_chat', 'cities_10k', 'base', 'main', 'prompt_only') Fold ('direction_f1_score', 4)",
         "showlegend": false,
         "type": "scatter",
         "x": {
          "bdata": "AAECAwQFBgcICQoLDA0ODxAREhMUFRYXGBkaGxwdHh8=",
          "dtype": "i1"
         },
         "y": {
          "bdata": "7hfgf1Xj4D8VTEfNJXfhPzwcP7oJYeE/EpzmJmsc4j86a91OJ3rhP07wzzxaVOI/TOp0swfn4j+FbkqqQ2zgP9PS0tLS0uI/i4kGHYvk4j8ppZRSSinlP2NEqNrqpuU/nrUSh1ie5T/PXF7XNonmP2SK4iBwNeY/AzPRSwoO5j+T5wDtjkbmP+AnI8fEluU/E9pLaC+h5T9bL8O0kDblPzDVeiDGa+E/VXLNcxpq4T+xroOtN4fhP4qRTguD1OE/8LRVrw/E4j86Gcg+yerhPypnt/CrMeE/9r3kDgUy4j/mVUiAeRXiP2A3LObK5uU/T+5CpjTZ5T+YrAinb/bkPw==",
          "dtype": "f8"
         }
        },
        {
         "legendgroup": "('llama3.1_8b_chat', 'football_leagues_1k', 'base', 'main', 'prompt_answer')",
         "line": {
          "color": "#9467bd",
          "width": 2
         },
         "marker": {
          "size": 8
         },
         "mode": "lines+markers",
         "name": "('llama3.1_8b_chat', 'football_leagues_1k', 'base', 'main', 'prompt_answer')",
         "type": "scatter",
         "x": {
          "bdata": "AAECAwQFBgcICQoLDA0ODxAREhMUFRYXGBkaGxwdHh8=",
          "dtype": "i1"
         },
         "y": {
          "bdata": "ZeYhYwNw4T8ARYIXFQbiP52zrs/dB+M/j2ZRxe1U5D8MtkWJx6XjP748E/9mJOM/IgxfF0Aw4z/ixpU0cDrjPwvnUqhrjeI/e8YdUF1a4j8HA4cZ8XrgP7SXQmJLDuM/Q+mWtkkK4T+olTdelJHjPwKOZL+UF+M/iyxcCypm4z9DJ2jV7gnhP8KJ2zl4ouE/K5Di13Ow4T+SwBmquxziP8qoMLaBoOE/yl1cK7J64T+dxSsyu9ngPxJS3QXkaN8/ok6q8icb3j/CdN7dDYzhP0o07/ilquE/Jsy9Wncn4T+IWItTAGffP8Bd6VTA1Nw/NthbcF+i2j8Gb32SnTfbPw==",
          "dtype": "f8"
         }
        },
        {
         "legendgroup": "('llama3.1_8b_chat', 'football_leagues_1k', 'base', 'main', 'prompt_answer')",
         "line": {
          "width": 0
         },
         "mode": "lines",
         "name": "('llama3.1_8b_chat', 'football_leagues_1k', 'base', 'main', 'prompt_answer') Max",
         "showlegend": false,
         "type": "scatter",
         "x": {
          "bdata": "AAECAwQFBgcICQoLDA0ODxAREhMUFRYXGBkaGxwdHh8=",
          "dtype": "i1"
         },
         "y": {
          "bdata": "RKUjewai4j/lNZTXUF7jP0vUrkTtSuQ/ZmZmZmZm5j9Q61cK1PrlP2ZmZmZmZuY/VVVVVVVV5T9kIQtZyELmPzZlTVlT1uQ/UV5DeQ3l5T9RXkN5DeXlPzCW/GLJL+Y/Q3kN5TWU5z+q82sPuazoP+h5nud5nuc/GBgYGBgY6D9605ve9KbnP3d3d3d3d+c/V3M1V3M15z9RXkN5DeXlPwpxVn5CnOU/VVVVVVVV5T8gKh3ZMxDlP2UlK1nJSuY/jDHGGGOM4T9GF1100UXnP7dt27Zt2+Y/Nzc3Nzc35z8aJX5GiZ/hP7dt27Zt2+Y/UAd1UAd14D/Oyk+Is/LjPw==",
          "dtype": "f8"
         }
        },
        {
         "fill": "tonexty",
         "fillcolor": "rgba(148, 103, 189, 0.1)",
         "legendgroup": "('llama3.1_8b_chat', 'football_leagues_1k', 'base', 'main', 'prompt_answer')",
         "line": {
          "width": 0
         },
         "mode": "lines",
         "name": "('llama3.1_8b_chat', 'football_leagues_1k', 'base', 'main', 'prompt_answer') Min",
         "showlegend": false,
         "type": "scatter",
         "x": {
          "bdata": "AAECAwQFBgcICQoLDA0ODxAREhMUFRYXGBkaGxwdHh8=",
          "dtype": "i1"
         },
         "y": {
          "bdata": "ned5nud53j8M5TWU11DeP3kN5TWU1+A/kiRJkiRJ4j/zGsprKK/hPwcffPDBB98/H/iBH/iB3z9QB3VQB3XgPypnt/CrMeE/R1juaYTl3j8zMzMzMzPTP0dY7mmE5d4/MzMzMzMz0z9guacRlnvaP+wb1r5h7ds/2rZt27Zt2z/zBX1BX9DXPxzHcRzHcdw/dzbqOxv13T8iNcF4K/vcPyI1wXgr+9w/Fl100UUX3T8AAAAAAADcP7gehetRuM4/OYvpLKaz2D9t1Hc26jvbP5ubm5ubm9s/ndiJndiJ3T+Uui+PrQjaP7gehetRuM4/m9iJndiJzT8cx3Ecx3HMPw==",
          "dtype": "f8"
         }
        },
        {
         "legendgroup": "('llama3.1_8b_chat', 'football_leagues_1k', 'base', 'main', 'prompt_answer')",
         "line": {
          "width": 0
         },
         "mode": "lines",
         "name": "('llama3.1_8b_chat', 'football_leagues_1k', 'base', 'main', 'prompt_answer') +1 STD",
         "showlegend": false,
         "type": "scatter",
         "x": {
          "bdata": "AAECAwQFBgcICQoLDA0ODxAREhMUFRYXGBkaGxwdHh8=",
          "dtype": "i1"
         },
         "y": {
          "bdata": "q0XO+k7U4j9YrGbLLeHjPzcYrYHdhOQ/ya2aAmUo5j8jttF5I3/lP+TiknwrvOU/1LAoC5Zu5T9Dy3qSU5TlP7IxsCns9uM/b9eQYur95D+KjPoTTOHlP8Ts3ldk3OU/UcNgoi0E5z939x1UzbvnPxqoqjla8+Y/x9HCFHFe5z+AdD2Fu6rlP+Shchjij+U/VG7OEFk45T/0Ml3nKj3lP+4LAnK2YuQ/1vAHfIpi5D/PSGsprrnjP9NOgJvJeuU/dZCYd/5X4T8VsAyqUhvlP/pWkP2lK+U/x5ce4Kee5D8rN7p5H3bhPw2oX32yduQ/Jb3Bx/d44T9nktSVooXjPw==",
          "dtype": "f8"
         }
        },
        {
         "fill": "tonexty",
         "fillcolor": "rgba(148, 103, 189, 0.3)",
         "legendgroup": "('llama3.1_8b_chat', 'football_leagues_1k', 'base', 'main', 'prompt_answer')",
         "line": {
          "width": 0
         },
         "mode": "lines",
         "name": "('llama3.1_8b_chat', 'football_leagues_1k', 'base', 'main', 'prompt_answer') -1 STD",
         "showlegend": false,
         "type": "scatter",
         "x": {
          "bdata": "AAECAwQFBgcICQoLDA0ODxAREhMUFRYXGBkaGxwdHh8=",
          "dtype": "i1"
         },
         "y": {
          "bdata": "H4d1y7cL4D+o3Z1j/CrgPwNPsB3eiuE/VR8IiHaB4j/1tbmYa8zhP5iWk4GijOA/cGeVI+rx4D+BwrDWjODgP2Sc9SbrI+E/DmtVe6Bt3z8I8yY+LCnWP6RCpmwyQOA/ah6alcsg1j+yZ6LQts7eP9TnPIqed94/ng7rA8bb3j8MtCVLRNLYPz/jiLYcats/BGTtPR1R3D9gnKzZmPjdP02LvvSZvN0/fJVhtbMl3T/WhNh1kPPbP34GutQ03NM/Wnwj9lKG2T/ecmAjkvnbPzQjnOhLU9w/CwG6qo1g2z+6QqKzweHbP2ZrE68bvNA/IjY0Uc9S0j97cqPy68fOPw==",
          "dtype": "f8"
         }
        },
        {
         "legendgroup": "('llama3.1_8b_chat', 'football_leagues_1k', 'base', 'main', 'prompt_answer')",
         "marker": {
          "color": "#9467bd",
          "opacity": 0.5,
          "size": 6
         },
         "mode": "markers",
         "name": "('llama3.1_8b_chat', 'football_leagues_1k', 'base', 'main', 'prompt_answer') Fold ('direction_f1_score', 0)",
         "showlegend": false,
         "type": "scatter",
         "x": {
          "bdata": "AAECAwQFBgcICQoLDA0ODxAREhMUFRYXGBkaGxwdHh8=",
          "dtype": "i1"
         },
         "y": {
          "bdata": "chzHcRzH4T8OJFphcyDhP5gin3WDKeI/kiRJkiRJ4j/0MTgfg/PhP+xRuB6F6+E/mCKfdYMp4j8aJX5GiZ/hPxolfkaJn+E/R1juaYTl3j8zMzMzMzPTP0dY7mmE5d4/MzMzMzMz0z9lk0022WTjP1z41ZhID+Q/2rZt27Zt2z9wR9wRd8TdP0FMriAmV+A/AAAAAAAA4D8UO7ETO7HjP4wxxhhjjOE/jDHGGGOM4T8RERERERHhPwAAAAAAAOQ/jDHGGGOM4T+MMcYYY4zhP1MrtVIrteI/O9q8T3HJ4D8aJX5GiZ/hP/kZJX5Gid8/UAd1UAd14D900UUXXXThPw==",
          "dtype": "f8"
         }
        },
        {
         "legendgroup": "('llama3.1_8b_chat', 'football_leagues_1k', 'base', 'main', 'prompt_answer')",
         "marker": {
          "color": "#9467bd",
          "opacity": 0.5,
          "size": 6
         },
         "mode": "markers",
         "name": "('llama3.1_8b_chat', 'football_leagues_1k', 'base', 'main', 'prompt_answer') Fold ('direction_f1_score', 1)",
         "showlegend": false,
         "type": "scatter",
         "x": {
          "bdata": "AAECAwQFBgcICQoLDA0ODxAREhMUFRYXGBkaGxwdHh8=",
          "dtype": "i1"
         },
         "y": {
          "bdata": "bCivobyG4j/lNZTXUF7jPxQ7sRM7seM/bCivobyG4j+35odFysDjPwcffPDBB98/H/iBH/iB3z9QB3VQB3XgPypnt/CrMeE/fPDBBx984D988MEHH3zgPypnt/CrMeE/KfEzSvyM4j8zMzMzMzPjP3zwwQcffOA/5DiO4ziO4z/zBX1BX9DXPxzHcRzHcdw/dzbqOxv13T8iNcF4K/vcPyI1wXgr+9w/ndiJndiJ3T/UCMs9jbDcPy+hvYT2Eto/bdR3Nuo72z9t1Hc26jvbP5ubm5ubm9s/ndiJndiJ3T9BnhLkKUHeP0qQpwR5SuA/nNR9eWxF4D8AAAAAAADgPw==",
          "dtype": "f8"
         }
        },
        {
         "legendgroup": "('llama3.1_8b_chat', 'football_leagues_1k', 'base', 'main', 'prompt_answer')",
         "marker": {
          "color": "#9467bd",
          "opacity": 0.5,
          "size": 6
         },
         "mode": "markers",
         "name": "('llama3.1_8b_chat', 'football_leagues_1k', 'base', 'main', 'prompt_answer') Fold ('direction_f1_score', 2)",
         "showlegend": false,
         "type": "scatter",
         "x": {
          "bdata": "AAECAwQFBgcICQoLDA0ODxAREhMUFRYXGBkaGxwdHh8=",
          "dtype": "i1"
         },
         "y": {
          "bdata": "RKUjewai4j+wd0wN7B3jP6FChQoVKuQ/ZmZmZmZm5j9Q61cK1PrlP2ZmZmZmZuY/VVVVVVVV5T9kIQtZyELmP1MrtVIrteI/1EEd1EEd5D/yWTeYIp/lPzCW/GLJL+Y/Q3kN5TWU5z+q82sPuazoP+h5nud5nuc/GBgYGBgY6D9605ve9KbnP3d3d3d3d+c/V3M1V3M15z9RXkN5DeXlPwpxVn5CnOU/VVVVVVVV5T8gKh3ZMxDlP2UlK1nJSuY/OYvpLKaz2D9GF1100UXnP7dt27Zt2+Y/Nzc3Nzc35z+Uui+PrQjaP7dt27Zt2+Y/8ZQgTwny1D/Oyk+Is/LjPw==",
          "dtype": "f8"
         }
        },
        {
         "legendgroup": "('llama3.1_8b_chat', 'football_leagues_1k', 'base', 'main', 'prompt_answer')",
         "marker": {
          "color": "#9467bd",
          "opacity": 0.5,
          "size": 6
         },
         "mode": "markers",
         "name": "('llama3.1_8b_chat', 'football_leagues_1k', 'base', 'main', 'prompt_answer') Fold ('direction_f1_score', 3)",
         "showlegend": false,
         "type": "scatter",
         "x": {
          "bdata": "AAECAwQFBgcICQoLDA0ODxAREhMUFRYXGBkaGxwdHh8=",
          "dtype": "i1"
         },
         "y": {
          "bdata": "ned5nud53j8M5TWU11DeP0vUrkTtSuQ/VVVVVVVV5T9Ob3rTm97kP1100UUXXeQ/XXTRRRdd5D82ZU1ZU9bkPzZlTVlT1uQ/UV5DeQ3l5T9RXkN5DeXlP1VVVVVVVeU/VVVVVVVV5T9VVVVVVVXlP1VVVVVVVeU/25WoXYna5T8UO7ETO7HjPxQ7sRM7seM/MzMzMzMz4z8zMzMzMzPjP7sStStRu+I/MzMzMzMz4z9yHMdxHMfhP7gehetRuM4/whT5rBtM4T/CFPmsG0zhP3Icx3Ecx+E/Bx988MEH3z8AAAAAAADgP7gehetRuM4/m9iJndiJzT8cx3Ecx3HMPw==",
          "dtype": "f8"
         }
        },
        {
         "legendgroup": "('llama3.1_8b_chat', 'football_leagues_1k', 'base', 'main', 'prompt_answer')",
         "marker": {
          "color": "#9467bd",
          "opacity": 0.5,
          "size": 6
         },
         "mode": "markers",
         "name": "('llama3.1_8b_chat', 'football_leagues_1k', 'base', 'main', 'prompt_answer') Fold ('direction_f1_score', 4)",
         "showlegend": false,
         "type": "scatter",
         "x": {
          "bdata": "AAECAwQFBgcICQoLDA0ODxAREhMUFRYXGBkaGxwdHh8=",
          "dtype": "i1"
         },
         "y": {
          "bdata": "BqLSkT0D4T/WlDVlTVnjP3kN5TWU1+A/Ffji6gcd5T/zGsprKK/hP4PzMTgfg+M/VFRUVFRU5D9oL6G9hPbiP2ZmZmZmZuI/pSN7BqLS4T+amZmZmZnZP7B3TA3sHeM/7mmE5Z5G2D9guacRlnvaP+wb1r5h7ds/chzHcRzH4T8dHh4eHh7eP+acc84559w/HR4eHh4e3j9mt/CrMZHePx/4gR/4gd8/Fl100UUX3T8AAAAAAADcPwcffPDBB98/5pxzzjnn3D8AAAAAAADgP1cEDSd1X94/+N5777333j/RC73QC73gP2gvob2E9tI/AAAAAAAA4D8dHh4eHh7OPw==",
          "dtype": "f8"
         }
        },
        {
         "legendgroup": "('llama3.1_8b_chat', 'football_leagues_1k', 'base', 'main', 'prompt_only')",
         "line": {
          "color": "#8c564b",
          "width": 2
         },
         "marker": {
          "size": 8
         },
         "mode": "lines+markers",
         "name": "('llama3.1_8b_chat', 'football_leagues_1k', 'base', 'main', 'prompt_only')",
         "type": "scatter",
         "x": {
          "bdata": "AAECAwQFBgcICQoLDA0ODxAREhMUFRYXGBkaGxwdHh8=",
          "dtype": "i1"
         },
         "y": {
          "bdata": "UEUwoGdx4D9vGNJgyvziP1odwgoMyuE/laX9f3su4T9G9ucOcD7kP1IaVWM0YeQ/7RneKpVC4z+FxI106ljkP2Jpxym3+OI/lv8RXt/M4z8eQRJzdTLjP3PyVSJs1eM/si08Zgeq4z9+vCX/LmnmP+0zANPagOY/Ch5uTZth5j9iAH1sZaHlP0RX4GRtEOY/utHtb7gh5j+GpVeMXdnlP/DMXdxyP+Y/azFRjlb/5T8DpBwKZdjlP8pPsN6YA+Y/jtepJIQO5j8Zjsy1qoDlP+jr41ZRGuY/yIfiWNpx5T9ctKXUkWjlP8toEo/jmeU/ph1E1Hd85T+/F2jOFETlPw==",
          "dtype": "f8"
         }
        },
        {
         "legendgroup": "('llama3.1_8b_chat', 'football_leagues_1k', 'base', 'main', 'prompt_only')",
         "line": {
          "width": 0
         },
         "mode": "lines",
         "name": "('llama3.1_8b_chat', 'football_leagues_1k', 'base', 'main', 'prompt_only') Max",
         "showlegend": false,
         "type": "scatter",
         "x": {
          "bdata": "AAECAwQFBgcICQoLDA0ODxAREhMUFRYXGBkaGxwdHh8=",
          "dtype": "i1"
         },
         "y": {
          "bdata": "v13qyfjt4j+ttdZaa63lP8hTgjwlyOM/lTVlTVlT5j9u27Zt27blPxiGYRiGYeg/0gOVs1v45T+9evXq1avnPwAAAAAAAOg/AAAAAAAA6D92gynyWTfoP0YXXXTRRec/GBgYGBgY6D+/WPKLJb/oPzaU11BeQ+k/oBBn5SfE6T9HU+fXHnLpP6AQZ+UnxOk/NpTXUF5D6T+gEGflJ8TpP6AQZ+UnxOk/R1Pn1x5y6T9HU+fXHnLpP9iCLdiCLeg/AAAAAAAA6D+VNWVNWVPmP9iCLdiCLeg/RhdddNFF5z/IpHiBTIrnP0YXXXTRRec/RhdddNFF5z8XaIEWaIHmPw==",
          "dtype": "f8"
         }
        },
        {
         "fill": "tonexty",
         "fillcolor": "rgba(140, 86, 75, 0.1)",
         "legendgroup": "('llama3.1_8b_chat', 'football_leagues_1k', 'base', 'main', 'prompt_only')",
         "line": {
          "width": 0
         },
         "mode": "lines",
         "name": "('llama3.1_8b_chat', 'football_leagues_1k', 'base', 'main', 'prompt_only') Min",
         "showlegend": false,
         "type": "scatter",
         "x": {
          "bdata": "AAECAwQFBgcICQoLDA0ODxAREhMUFRYXGBkaGxwdHh8=",
          "dtype": "i1"
         },
         "y": {
          "bdata": "ndiJndiJ3T/43nvvvffeP3FWfkKcld8/xhhjjDHG2D9MriAmVxDjPy+66KKLLto/VVVVVVVV4T81wXgr+xziP5/0SZ/0Sd8/C1nIQhay4D8WXXTRRRfdPz801ofG+uA/PzTWh8b64D9eQ3kN5TXkP15DeQ3lNeQ/XkN5DeU15D9BTK4gJlfgP15DeQ3lNeQ/XkN5DeU15D9vMEU+6wbjP28wRT7rBuM/bzBFPusG4z9eQ3kN5TXkP8TDw8PDw+M/AAAAAAAA5D8AAAAAAADkPwAAAAAAAOQ/XkN5DeU15D9vMEU+6wbjP28wRT7rBuM/bzBFPusG4z9sKK+hvIbiPw==",
          "dtype": "f8"
         }
        },
        {
         "legendgroup": "('llama3.1_8b_chat', 'football_leagues_1k', 'base', 'main', 'prompt_only')",
         "line": {
          "width": 0
         },
         "mode": "lines",
         "name": "('llama3.1_8b_chat', 'football_leagues_1k', 'base', 'main', 'prompt_only') +1 STD",
         "showlegend": false,
         "type": "scatter",
         "x": {
          "bdata": "AAECAwQFBgcICQoLDA0ODxAREhMUFRYXGBkaGxwdHh8=",
          "dtype": "i1"
         },
         "y": {
          "bdata": "vyQuXgcR4j/KTVNO5DblPx7OtjFVq+M/vO7mkKVH5T94cfwH4XDlP656OMbKpeg/yfzsnNom5T+EofBFnovmP+SvugkrFeY/LhjrouWG5j/EVyU0GqvmP7SG1u/7H+Y/Y4cE1dNd5j9CX4e/Ly3oP9hR1DDMaOg/OM+zDNqp6D9Tb22iUP/oP1Q50R3gNOg/ipU/p3I56D+GqdbQLWHoPyOr0aQW5ug/r/qPBmZc6D9kC+kJiv3nPxQdWbHs1ec/Dl3qYxSp5z/hW7TjUoPmP8l2x8yV4+c/njTWiwHQ5j+kDpbGg1PnP3FTiOn7dOc/s8rG9shk5z8vOrYEdN7mPw==",
          "dtype": "f8"
         }
        },
        {
         "fill": "tonexty",
         "fillcolor": "rgba(140, 86, 75, 0.3)",
         "legendgroup": "('llama3.1_8b_chat', 'football_leagues_1k', 'base', 'main', 'prompt_only')",
         "line": {
          "width": 0
         },
         "mode": "lines",
         "name": "('llama3.1_8b_chat', 'football_leagues_1k', 'base', 'main', 'prompt_only') -1 STD",
         "showlegend": false,
         "type": "scatter",
         "x": {
          "bdata": "AAECAwQFBgcICQoLDA0ODxAREhMUFRYXGBkaGxwdHh8=",
          "dtype": "i1"
         },
         "y": {
          "bdata": "wctkxI+j3T8U41BzsMLgPyvZmseF0d8/3Lgo3qIq2j8Ue9MV/wvjP/a5cQCeHOA/ETfPuE9e4T+G5yqjNibiP8BFqJOGuN8//uY4GdkS4T/wVP5joXPfPzJe1VTciuE/AdRz9zr24D+6GcQ+LqXkPwIWLHXpmOQ/3GwojlwZ5D9xkYw2ekPiPzR176v66+M/6g2cOP4J5D+GodhHjVHjP73u6RPPmOM/J2gSFkei4z+iPFAKQLPjP4CCBwxFMeQ/DlJp5fNz5D9RwOSHAn7kPwdhAOEMUeQ/8truJbMT5D8UWrXin33jPyV+nDTLvuM/mXDBsSaU4z9P9RmYtanjPw==",
          "dtype": "f8"
         }
        },
        {
         "legendgroup": "('llama3.1_8b_chat', 'football_leagues_1k', 'base', 'main', 'prompt_only')",
         "marker": {
          "color": "#8c564b",
          "opacity": 0.5,
          "size": 6
         },
         "mode": "markers",
         "name": "('llama3.1_8b_chat', 'football_leagues_1k', 'base', 'main', 'prompt_only') Fold ('direction_f1_score', 0)",
         "showlegend": false,
         "type": "scatter",
         "x": {
          "bdata": "AAECAwQFBgcICQoLDA0ODxAREhMUFRYXGBkaGxwdHh8=",
          "dtype": "i1"
         },
         "y": {
          "bdata": "ndiJndiJ3T+ttdZaa63lP8hTgjwlyOM/xhhjjDHG2D9u27Zt27blPxiGYRiGYeg/kiRJkiRJ4j9vMEU+6wbjP28wRT7rBuM/XkN5DeU15D9vMEU+6wbjP28wRT7rBuM/bzBFPusG4z9qV6J2JWrnP15DeQ3lNeQ/XkN5DeU15D9VVVVVVVXlP15DeQ3lNeQ/XkN5DeU15D9vMEU+6wbjP28wRT7rBuM/bzBFPusG4z9eQ3kN5TXkP9iCLdiCLeg/AAAAAAAA6D+VNWVNWVPmP9iCLdiCLeg/XkN5DeU15D9vMEU+6wbjP28wRT7rBuM/bzBFPusG4z9sKK+hvIbiPw==",
          "dtype": "f8"
         }
        },
        {
         "legendgroup": "('llama3.1_8b_chat', 'football_leagues_1k', 'base', 'main', 'prompt_only')",
         "marker": {
          "color": "#8c564b",
          "opacity": 0.5,
          "size": 6
         },
         "mode": "markers",
         "name": "('llama3.1_8b_chat', 'football_leagues_1k', 'base', 'main', 'prompt_only') Fold ('direction_f1_score', 1)",
         "showlegend": false,
         "type": "scatter",
         "x": {
          "bdata": "AAECAwQFBgcICQoLDA0ODxAREhMUFRYXGBkaGxwdHh8=",
          "dtype": "i1"
         },
         "y": {
          "bdata": "v13qyfjt4j8zMzMzMzPjPxQ7sRM7seM/IQtZyEIW4j9MriAmVxDjP8P1KFyPwuU/Ut/ZqO9s5D/mFLycgpfjP7sStStRu+I/9DzP8zzP4z+UPumTPunjP1100UUXXeQ/JkOwjjbv4z9VVVVVVVXlP1VVVVVVVeU/VVVVVVVV5T/D9Shcj8LlP1VVVVVVVeU/Ut/ZqO9s5D9S39mo72zkP1Lf2ajvbOQ/OQUvp+Dl5D9VVVVVVVXlP00w3so+h+Q/xU7sxE7s5D/FTuzETuzkP00w3so+h+Q/TTDeyj6H5D/FTuzETuzkP3ZiJ3ZiJ+Y/AAAAAAAA5D9VVVVVVVXlPw==",
          "dtype": "f8"
         }
        },
        {
         "legendgroup": "('llama3.1_8b_chat', 'football_leagues_1k', 'base', 'main', 'prompt_only')",
         "marker": {
          "color": "#8c564b",
          "opacity": 0.5,
          "size": 6
         },
         "mode": "markers",
         "name": "('llama3.1_8b_chat', 'football_leagues_1k', 'base', 'main', 'prompt_only') Fold ('direction_f1_score', 2)",
         "showlegend": false,
         "type": "scatter",
         "x": {
          "bdata": "AAECAwQFBgcICQoLDA0ODxAREhMUFRYXGBkaGxwdHh8=",
          "dtype": "i1"
         },
         "y": {
          "bdata": "ned5nud53j/43nvvvffePzYHEq2wOeA/lTVlTVlT5j9VVVVVVVXlP1VVVVVVVeU/kiRJkiRJ4j9VVVVVVVXlP3TRRRdddOE/kiRJkiRJ4j+SJEmSJEniP+/LYyuChuM/kiRJkiRJ4j+WZVmWZVnmPwAAAAAAAOc/GHqhF3qh5z9GF1100UXnP6211lprreU/rbXWWmut5T+ttdZaa63lP7169erVq+c/0gOVs1v45T/SA5WzW/jlP8TDw8PDw+M/AAAAAAAA5D8AAAAAAADkPwAAAAAAAOQ/1Uqt1Eqt5D9ddNFFF13kP1100UUXXeQ/Fl/xFV/x5T+WWqmVWqnlPw==",
          "dtype": "f8"
         }
        },
        {
         "legendgroup": "('llama3.1_8b_chat', 'football_leagues_1k', 'base', 'main', 'prompt_only')",
         "marker": {
          "color": "#8c564b",
          "opacity": 0.5,
          "size": 6
         },
         "mode": "markers",
         "name": "('llama3.1_8b_chat', 'football_leagues_1k', 'base', 'main', 'prompt_only') Fold ('direction_f1_score', 3)",
         "showlegend": false,
         "type": "scatter",
         "x": {
          "bdata": "AAECAwQFBgcICQoLDA0ODxAREhMUFRYXGBkaGxwdHh8=",
          "dtype": "i1"
         },
         "y": {
          "bdata": "hBBCCCGE4D+D8zE4H4PjP3TRRRdddOE/ZZNNNtlk4z8UO7ETO7HjPy+66KKLLto/VVVVVVVV4T81wXgr+xziP5/0SZ/0Sd8/C1nIQhay4D8WXXTRRRfdPz801ofG+uA/PzTWh8b64D9eQ3kN5TXkP7bWWmutteY/wnJPIyz35D9BTK4gJlfgP1VVVVVVVeU/EayjzfsU5z+WZVmWZVnmP5ZlWZZlWeY/V2qlVmql5j9ERERERETkP5eWlpaWluY/lmVZlmVZ5j9t3qe4ZAjmPyDRCpsDieY/INEKmwOJ5j9z7cBcOzDnP3PtwFw7MOc/c+3AXDsw5z9ONtlkk03mPw==",
          "dtype": "f8"
         }
        },
        {
         "legendgroup": "('llama3.1_8b_chat', 'football_leagues_1k', 'base', 'main', 'prompt_only')",
         "marker": {
          "color": "#8c564b",
          "opacity": 0.5,
          "size": 6
         },
         "mode": "markers",
         "name": "('llama3.1_8b_chat', 'football_leagues_1k', 'base', 'main', 'prompt_only') Fold ('direction_f1_score', 4)",
         "showlegend": false,
         "type": "scatter",
         "x": {
          "bdata": "AAECAwQFBgcICQoLDA0ODxAREhMUFRYXGBkaGxwdHh8=",
          "dtype": "i1"
         },
         "y": {
          "bdata": "MQzDMAzD4D9MriAmVxDjP3FWfkKcld8/2rZt27Zt2z83talNbWrjP1VVVVVVVeU/0gOVs1v45T+9evXq1avnPwAAAAAAAOg/AAAAAAAA6D92gynyWTfoP0YXXXTRRec/GBgYGBgY6D+/WPKLJb/oPzaU11BeQ+k/oBBn5SfE6T9HU+fXHnLpP6AQZ+UnxOk/NpTXUF5D6T+gEGflJ8TpP6AQZ+UnxOk/R1Pn1x5y6T9HU+fXHnLpP3CBC1zgAuc/cIELXOAC5z+1YwXCSDvmP0YXXXTRRec/RhdddNFF5z/IpHiBTIrnP0YXXXTRRec/RhdddNFF5z8XaIEWaIHmPw==",
          "dtype": "f8"
         }
        },
        {
         "legendgroup": "('llama3.1_8b_chat', 'gsm8k', 'base_3_shot', 'main', 'prompt_answer')",
         "line": {
          "color": "#1f77b4",
          "width": 2
         },
         "marker": {
          "size": 8
         },
         "mode": "lines+markers",
         "name": "('llama3.1_8b_chat', 'gsm8k', 'base_3_shot', 'main', 'prompt_answer')",
         "type": "scatter",
         "x": {
          "bdata": "AAECAwQFBgcICQoLDA0ODxAREhMUFRYXGBkaGxwdHh8=",
          "dtype": "i1"
         },
         "y": {
          "bdata": "fqpD7cGb4T+Ay32qz03gP+RhfDPNp+A/ECuUutoV4T8RyigMwlXhP0/RKy4hZeE/gX9NkBAp4T/6JX+9RlfhP11RXi8f0OA/UNZFULMd4D8ad0jlJv/eP9pXf14did8/s9sgr0QM4T9r5A77KknhP+pNc1cqQuE/MjlggJMb4T+yd32iFPreP2LS/AsX6N8/79uw8ktl4T+aXWPk3BLhP2H/FcWYruA/a7t1vPQT4T8THyofdNjhP1KH64Ub7+E/E8IF9jL34T9rnOEFmS7hP0ZlHjnrC+E/9nOYgxwy4T/6lwNChhngP5IsArCxr+A/OI5eu0vi3z/WC/qFjGTgPw==",
          "dtype": "f8"
         }
        },
        {
         "legendgroup": "('llama3.1_8b_chat', 'gsm8k', 'base_3_shot', 'main', 'prompt_answer')",
         "line": {
          "width": 0
         },
         "mode": "lines",
         "name": "('llama3.1_8b_chat', 'gsm8k', 'base_3_shot', 'main', 'prompt_answer') Max",
         "showlegend": false,
         "type": "scatter",
         "x": {
          "bdata": "AAECAwQFBgcICQoLDA0ODxAREhMUFRYXGBkaGxwdHh8=",
          "dtype": "i1"
         },
         "y": {
          "bdata": "rd2HW0Bh5D9WKwvzYDPhP986gtJsuuE/boBz6nA14j8rfLkhBqTjP2r9SoFav+I/ujrWbtyB4j+EWNZPvAHiPz0K16NwPeI/sd0sTyLT4D8bQKZ9tjPhP7ESK7ESK+E/UpbK898r4z+udG9AmbjiP+xRuB6F6+E/g4KCgoKC4j/Xnvw7l0PgP1+7J5hJC+E/Y1wJJXEC4j9P8vhoizDjP1oihjxmm+I/0HL+LOfP4j8bGxsbGxvjP4HIcK+CWeI/DGDbKdB/4j85uUHV8ETiP4CCm66Ah+I/YNhmp3jP4j8s+cWSXyzhP0sD5O2ZY+E/SSQSiUQi4T+amZmZmZnhPw==",
          "dtype": "f8"
         }
        },
        {
         "fill": "tonexty",
         "fillcolor": "rgba(31, 119, 180, 0.1)",
         "legendgroup": "('llama3.1_8b_chat', 'gsm8k', 'base_3_shot', 'main', 'prompt_answer')",
         "line": {
          "width": 0
         },
         "mode": "lines",
         "name": "('llama3.1_8b_chat', 'gsm8k', 'base_3_shot', 'main', 'prompt_answer') Min",
         "showlegend": false,
         "type": "scatter",
         "x": {
          "bdata": "AAECAwQFBgcICQoLDA0ODxAREhMUFRYXGBkaGxwdHh8=",
          "dtype": "i1"
         },
         "y": {
          "bdata": "19VkeBfy3z8R9HqWBL3eP6C08Y5q1t8/miE8KPdb4D9oke18PzXeP2fgysstJN8/GxPpgcrZ3T/wxdUPOirgP1tRGAMTB+A/uB6F61G43j9LstE2uSTbP8ldJGySYt4/xTJ/Lnf/3j8dHh4eHh7eP9cHTYt2feA/qeFvU4wa3j9xBTG5gpjcP5qZmZmZmd0/RzlmOIC53z+3bPoTo/fdP17cxV3cxd0/wh56+1413z/iEMuzVuLgP1Mncc0AQeE/yKa17O9H4T9nE4OnthbgP0sV0GvN8d8/reuJs7343j9LS0tLS0vfP6WY50QQ0t8/GxPpgcrZ3T+u1+v1er3ePw==",
          "dtype": "f8"
         }
        },
        {
         "legendgroup": "('llama3.1_8b_chat', 'gsm8k', 'base_3_shot', 'main', 'prompt_answer')",
         "line": {
          "width": 0
         },
         "mode": "lines",
         "name": "('llama3.1_8b_chat', 'gsm8k', 'base_3_shot', 'main', 'prompt_answer') +1 STD",
         "showlegend": false,
         "type": "scatter",
         "x": {
          "bdata": "AAECAwQFBgcICQoLDA0ODxAREhMUFRYXGBkaGxwdHh8=",
          "dtype": "i1"
         },
         "y": {
          "bdata": "NikHOwZK4z/r7HTXrSnhPzBEqBGHV+E/5e9WyITc4T/U4bsTlg3jP8SW4fGT3OI/a3LuRJOg4j/kB62XjCDiP54Ju2Anq+E/zPKE85yk4D+LZohK8MzgP139qD4ykOA/F8D/iZ6h4j89k7T5oqniP7N2SYHyyuE/V/7mkQ1i4j88GkHxDWXgP6EYIKKr6OA/qCRIGwpH4j+/CFJsv73iPw/cEUtOL+I/8EJOdqZV4j+8gs0PJvriP20Lr5HiYOI/BNnBGp2W4j/H9dZHMh7iP54P9fD9EuI/zCTlmnNi4j/npEkUp7rgPwmyP7OiUuE/zM6JRhTS4D/J3yrXOEXhPw==",
          "dtype": "f8"
         }
        },
        {
         "fill": "tonexty",
         "fillcolor": "rgba(31, 119, 180, 0.3)",
         "legendgroup": "('llama3.1_8b_chat', 'gsm8k', 'base_3_shot', 'main', 'prompt_answer')",
         "line": {
          "width": 0
         },
         "mode": "lines",
         "name": "('llama3.1_8b_chat', 'gsm8k', 'base_3_shot', 'main', 'prompt_answer') -1 STD",
         "showlegend": false,
         "type": "scatter",
         "x": {
          "bdata": "AAECAwQFBgcICQoLDA0ODxAREhMUFRYXGBkaGxwdHh8=",
          "dtype": "i1"
         },
         "y": {
          "bdata": "jVcAP/va3z8rVA374uPePzD/oKom8N8/O2bRrDBP4D+cZCsJ3DvfP7QX7NRc298/LhlZtxtj3z8QRFHjAI7gPzgyA/wt6t8/qHMNWpMt3z8fIYA1bWTcP/u0rD/W8d0/nu6DqNXt3j8za9L4ZdHfPyElnS1iueA/Guiy3TKq3z/runhiDSrdP4NzudPW/t0/NpMZyo2D4D/qZOm49M/eP2dFNH7GW94/zGc6BYak3z9qu4YuwrbgPzcDKHpUfeE/IqtJ0chX4T8PQ+zD/z7gP+66R4HYBOA/IMNLbMUB4D8bFnvfyvDePxunxKzADOA/2H6p6W4g3j/Gb5JpwAffPw==",
          "dtype": "f8"
         }
        },
        {
         "legendgroup": "('llama3.1_8b_chat', 'gsm8k', 'base_3_shot', 'main', 'prompt_answer')",
         "marker": {
          "color": "#1f77b4",
          "opacity": 0.5,
          "size": 6
         },
         "mode": "markers",
         "name": "('llama3.1_8b_chat', 'gsm8k', 'base_3_shot', 'main', 'prompt_answer') Fold ('direction_f1_score', 0)",
         "showlegend": false,
         "type": "scatter",
         "x": {
          "bdata": "AAECAwQFBgcICQoLDA0ODxAREhMUFRYXGBkaGxwdHh8=",
          "dtype": "i1"
         },
         "y": {
          "bdata": "19VkeBfy3z8OLumeWejgP6C08Y5q1t8/En5yIepm4D+fvrY4WFDiP6WGaEosDuA/pshn3WCK4D+URHcoie7gP1tRGAMTB+A/sd0sTyLT4D8bQKZ9tjPhP7ESK7ESK+E/GO035bkE4j9c88MiZeDhP2UqnmtWh+E/EEruFC2c4T/Xnvw7l0PgP4fsT1021uA/Iw6dtA+S4T8gdFTgi6vfPztfV2w0dN8/jLeyzyE14T/6qW9WTQ/hP5LzX3MtKeI/DGDbKdB/4j/bi3S2QuLhP0sV0GvN8d8/reuJs7343j9LS0tLS0vfP0sD5O2ZY+E/UQiFUAiF4D+amZmZmZnhPw==",
          "dtype": "f8"
         }
        },
        {
         "legendgroup": "('llama3.1_8b_chat', 'gsm8k', 'base_3_shot', 'main', 'prompt_answer')",
         "marker": {
          "color": "#1f77b4",
          "opacity": 0.5,
          "size": 6
         },
         "mode": "markers",
         "name": "('llama3.1_8b_chat', 'gsm8k', 'base_3_shot', 'main', 'prompt_answer') Fold ('direction_f1_score', 1)",
         "showlegend": false,
         "type": "scatter",
         "x": {
          "bdata": "AAECAwQFBgcICQoLDA0ODxAREhMUFRYXGBkaGxwdHh8=",
          "dtype": "i1"
         },
         "y": {
          "bdata": "hAflfgsi4T9WKwvzYDPhP1WagSsvt+A/4C71ZPx24T9oke18PzXeP2r9SoFav+I/BcwHsguL4T+EWNZPvAHiPz0K16NwPeI/CAQCgUAg4D9eF4peF4reP5TwRlPn194/xTJ/Lnf/3j+udG9AmbjiP0tLS0tLS+E/N0++I8MG4T8AAAAAAADgP/HA7l9KQt8/VacwF//14T9P8vhoizDjP5Pb8/tTceA/ry4Hxgop4D8whMRaig7jP4HIcK+CWeI/HUi0wuZA4j85uUHV8ETiP4CCm66Ah+I/YNhmp3jP4j8hhBBCCCHgP0IIIYQQQuA/SSQSiUQi4T/sF3calMvgPw==",
          "dtype": "f8"
         }
        },
        {
         "legendgroup": "('llama3.1_8b_chat', 'gsm8k', 'base_3_shot', 'main', 'prompt_answer')",
         "marker": {
          "color": "#1f77b4",
          "opacity": 0.5,
          "size": 6
         },
         "mode": "markers",
         "name": "('llama3.1_8b_chat', 'gsm8k', 'base_3_shot', 'main', 'prompt_answer') Fold ('direction_f1_score', 2)",
         "showlegend": false,
         "type": "scatter",
         "x": {
          "bdata": "AAECAwQFBgcICQoLDA0ODxAREhMUFRYXGBkaGxwdHh8=",
          "dtype": "i1"
         },
         "y": {
          "bdata": "rd2HW0Bh5D8X8Hob/aHgP986gtJsuuE/boBz6nA14j8rfLkhBqTjP233VmmKX+I/ujrWbtyB4j9orA+N9aHhP5tXqufeTeA/uB6F61G43j/I9DBwFp7fP63tKn43Jt8/FFLyLCP64D8Xwg3EKRPhP+xRuB6F6+E/VxH6nChX4T9xBTG5gpjcP5qZmZmZmd0/Lh1qsDuT4T9vQJm40r3hPyph5Ts5v+E/qkDXbQSb4T/iEMuzVuLgP4tM/kntLeI/iQtmmqRN4T9nE4OnthbgP+QPBzz+cOA/lIRwOi4C4T+fYJ9gn2DfP6WY50QQ0t8/wuVwbKHy3j+u1+v1er3ePw==",
          "dtype": "f8"
         }
        },
        {
         "legendgroup": "('llama3.1_8b_chat', 'gsm8k', 'base_3_shot', 'main', 'prompt_answer')",
         "marker": {
          "color": "#1f77b4",
          "opacity": 0.5,
          "size": 6
         },
         "mode": "markers",
         "name": "('llama3.1_8b_chat', 'gsm8k', 'base_3_shot', 'main', 'prompt_answer') Fold ('direction_f1_score', 3)",
         "showlegend": false,
         "type": "scatter",
         "x": {
          "bdata": "AAECAwQFBgcICQoLDA0ODxAREhMUFRYXGBkaGxwdHh8=",
          "dtype": "i1"
         },
         "y": {
          "bdata": "chzHcRzH4T/6a5C3qNHeP8O9CmZJOeA/miE8KPdb4D+04RIDv8vgP94q68t9OuI/kiRJkiRJ4j9vrkie7PfhP9op3rOUzuA/AAAAAAAA4D9LstE2uSTbP9JVkDi89t4/UpbK898r4z/qPPqwn7LhP9cHTYt2feA/g4KCgoKC4j9q4FxltyXgP1+7J5hJC+E/Y1wJJXEC4j/TMDfaWp7hP1oihjxmm+I/0HL+LOfP4j8bGxsbGxvjP6p0WWPrueE/529xWrN94j/AXr5y2EbhP2k0Go1Go+E/NjLVa+su4T8s+cWSXyzhPxTJfTLnm+A/GxPpgcrZ3T+qv1DKOIDfPw==",
          "dtype": "f8"
         }
        },
        {
         "legendgroup": "('llama3.1_8b_chat', 'gsm8k', 'base_3_shot', 'main', 'prompt_answer')",
         "marker": {
          "color": "#1f77b4",
          "opacity": 0.5,
          "size": 6
         },
         "mode": "markers",
         "name": "('llama3.1_8b_chat', 'gsm8k', 'base_3_shot', 'main', 'prompt_answer') Fold ('direction_f1_score', 4)",
         "showlegend": false,
         "type": "scatter",
         "x": {
          "bdata": "AAECAwQFBgcICQoLDA0ODxAREhMUFRYXGBkaGxwdHh8=",
          "dtype": "i1"
         },
         "y": {
          "bdata": "4+frmVXH4D8R9HqWBL3ePyx85lXnsOA/WIjNC/f94D8hDdIgDdLgP2fgysstJN8/GxPpgcrZ3T/wxdUPOirgP765X6qkr+A/fr5ry/RE4D/ZFJF5bkffP8ldJGySYt4/P7ffnL0l3z8dHh4eHh7ePx22UVQ2D+E/qeFvU4wa3j+BUo8wR3fdP5JxeFeP6d4/RzlmOIC53z+3bPoTo/fdP17cxV3cxd0/wh56+1413z85Qbgb+x7hP1Mncc0AQeE/yKa17O9H4T/dVnB3OmTgP+4o8+/rpuA/z76Iap194T9FSYw+hLjfP+s9FKneQ+E/BnVQB3VQ3z//PbMJt3LgPw==",
          "dtype": "f8"
         }
        },
        {
         "legendgroup": "('llama3.1_8b_chat', 'gsm8k', 'base_3_shot', 'main', 'prompt_only')",
         "line": {
          "color": "#ff7f0e",
          "width": 2
         },
         "marker": {
          "size": 8
         },
         "mode": "lines+markers",
         "name": "('llama3.1_8b_chat', 'gsm8k', 'base_3_shot', 'main', 'prompt_only')",
         "type": "scatter",
         "x": {
          "bdata": "AAECAwQFBgcICQoLDA0ODxAREhMUFRYXGBkaGxwdHh8=",
          "dtype": "i1"
         },
         "y": {
          "bdata": "LQqI49mN3D9tYm0HkefgP1UuMlWS8N8/on81t9Lt4D9rr+CROy/gPxJ4zfFVNeA/xu0QTwaX4D8tZalSzljgP1JOhBjouOA/jAyDXqDN4D/YKobJ7WngP16usNrmOuA/oOrM+06N4j8ERsuq0gTiP6rA/+YDCeI/QJfbAS3R4T/2XdgVfQ3iP9HF08rnleE/di6ErwSl4T8uBMypiUvhP3OwIyRImuE/lAY/u1Ok4T8ymy3avgLhPyInQbf1XuE/OUAtIEem4T+6kyH+NaLhPy05xSeTsOA/B/76FG8B4T+JDb4AMALhP2/REJbakOA/8wuo88yC4T8oiysKnfLePw==",
          "dtype": "f8"
         }
        },
        {
         "legendgroup": "('llama3.1_8b_chat', 'gsm8k', 'base_3_shot', 'main', 'prompt_only')",
         "line": {
          "width": 0
         },
         "mode": "lines",
         "name": "('llama3.1_8b_chat', 'gsm8k', 'base_3_shot', 'main', 'prompt_only') Max",
         "showlegend": false,
         "type": "scatter",
         "x": {
          "bdata": "AAECAwQFBgcICQoLDA0ODxAREhMUFRYXGBkaGxwdHh8=",
          "dtype": "i1"
         },
         "y": {
          "bdata": "dgB9U2EH4D8M/VjzoYDhP5EN2ZAN2eA/e/q2wwkL4j+SIimSIiniPwfs9ljL0OE/O0EG2vhP4T/Smrcx6lXhP8BevnLYRuE/r6G8hvIa4j91uBr5x1jhP0JbuowvaeE/AyyUrjpw4z90NNvYPUfjPxPmd7W4CeM/MzMzMzMz4z+PzXfDj+riPzHCAyslG+M/dKkFAhMZ4j9ff/DWtdriP2i7t0pT/OI/ZSNTvbbu4j8EqCzJ08vhPzXAuL0P2eI/QkmcgDSj4z+D8zE4H4PjP6vDL5owBOI/eoKjJzh64j+KDKnOyTXjP3w7pXXxLOI/UI4t/eTY4j9xCIdwCIfgPw==",
          "dtype": "f8"
         }
        },
        {
         "fill": "tonexty",
         "fillcolor": "rgba(255, 127, 14, 0.1)",
         "legendgroup": "('llama3.1_8b_chat', 'gsm8k', 'base_3_shot', 'main', 'prompt_only')",
         "line": {
          "width": 0
         },
         "mode": "lines",
         "name": "('llama3.1_8b_chat', 'gsm8k', 'base_3_shot', 'main', 'prompt_only') Min",
         "showlegend": false,
         "type": "scatter",
         "x": {
          "bdata": "AAECAwQFBgcICQoLDA0ODxAREhMUFRYXGBkaGxwdHh8=",
          "dtype": "i1"
         },
         "y": {
          "bdata": "B1cTdqiz2T8eHh4eHh7gP0YONnHjk90/GBeJ4c213j9c43YxYfDdPw4Qo/G+Qt8/bR36zdah3z/bvRg95Y7fP8ijv+0NF+A/GLAKrbQL3z93Nuo7G/XdP0of8a5pht4/zczMzMzM4D+wCUHZ+5rgP25x2aFVs+A/+Yqv+Iqv4D+vfCJmc+ngP2Mzgecms98/3aBqeCKp4D8AAAAAAADfP84KydTbrOA/CZukmOdE4D8S+gGqHKHfP/ktBIxSTd4/ttZaa6213j+Cl1PwcgreP4a7+iZ5f90/GBeJ4c213j9mZmZmZmbePzFQwhtNnd8/9euFdVeg4D+A44dziwLdPw==",
          "dtype": "f8"
         }
        },
        {
         "legendgroup": "('llama3.1_8b_chat', 'gsm8k', 'base_3_shot', 'main', 'prompt_only')",
         "line": {
          "width": 0
         },
         "mode": "lines",
         "name": "('llama3.1_8b_chat', 'gsm8k', 'base_3_shot', 'main', 'prompt_only') +1 STD",
         "showlegend": false,
         "type": "scatter",
         "x": {
          "bdata": "AAECAwQFBgcICQoLDA0ODxAREhMUFRYXGBkaGxwdHh8=",
          "dtype": "i1"
         },
         "y": {
          "bdata": "RrwO4mBU3z/Jxec2zX3hP8lVGVx/wuA/qfLMRWcC4j8DOxY+BoLhP5TG+eWyI+E/UKLnm/tR4T9aoWTKL+/gP68LRjTNKuE/dbaq8nXU4T8iwuTL21/hP3kPszrjE+E/G6mnBvah4z9TRCj/twbjP7VJrNN5EuM/53I8mIzV4j+CtFjE+NPiP67Fm7941eI/Dvb2e+454j+nDURJVYLiP5ZeTplTi+I/Tu8ujtKV4j/t8J7fS+DhP+ikYBb1zOI/N4XNL8tt4z+0htSxUE7jP+rvA42cAuI/hmLi+ktD4j8cHlo4P3/iP1s+JVhog+E/ykUV5VRh4j8Yp8YOr2/gPw==",
          "dtype": "f8"
         }
        },
        {
         "fill": "tonexty",
         "fillcolor": "rgba(255, 127, 14, 0.3)",
         "legendgroup": "('llama3.1_8b_chat', 'gsm8k', 'base_3_shot', 'main', 'prompt_only')",
         "line": {
          "width": 0
         },
         "mode": "lines",
         "name": "('llama3.1_8b_chat', 'gsm8k', 'base_3_shot', 'main', 'prompt_only') -1 STD",
         "showlegend": false,
         "type": "scatter",
         "x": {
          "bdata": "AAECAwQFBgcICQoLDA0ODxAREhMUFRYXGBkaGxwdHh8=",
          "dtype": "i1"
         },
         "y": {
          "bdata": "FFgB5VLH2T8R//LXVFHgPxixMfIlXN4/Nhk8UXyy3z+lR1bL4bjdPyFTQvvxjd4/eXJ0BCK43z8AUty12YTfP/WQwvwCR+A/RsW2lJWN3z8bJ0+O/+feP4aaXPXUw94/JSzy8Kd44T+1R25W7QLhP583U/qN/+A/mbt6a83M4D9qB1hnAUfhP/TFC9ZWVuA/3mYR4xoQ4T+1+lMKvhTgP1AC+a48qeA/2h1P6NSy4D93RbzUMSXgP7lSQ7Ds4d8/dvYZIYa93z+AQd2UNuzfP98EDYUTvd4/DzMnXiR/3z/s+UOSQQrfPwXJ+KeZPN8/HNI6AkWk4D8hyMn22wXdPw==",
          "dtype": "f8"
         }
        },
        {
         "legendgroup": "('llama3.1_8b_chat', 'gsm8k', 'base_3_shot', 'main', 'prompt_only')",
         "marker": {
          "color": "#ff7f0e",
          "opacity": 0.5,
          "size": 6
         },
         "mode": "markers",
         "name": "('llama3.1_8b_chat', 'gsm8k', 'base_3_shot', 'main', 'prompt_only') Fold ('direction_f1_score', 0)",
         "showlegend": false,
         "type": "scatter",
         "x": {
          "bdata": "AAECAwQFBgcICQoLDA0ODxAREhMUFRYXGBkaGxwdHh8=",
          "dtype": "i1"
         },
         "y": {
          "bdata": "dgB9U2EH4D/Gn0g4pXnhP6OgHcB5UeA/e/q2wwkL4j+SIimSIiniPwfs9ljL0OE/O0EG2vhP4T/bvRg95Y7fP2ELtmALtuA/xp9IOKV54T9dCGKLDBPhP0JbuowvaeE/0jsUgxlB4j/EyQ2qhifiP8jJLD9GNeE/dRbTWUxn4T8cs06LkvrhP4wbsissGeE/bu2N1R/o4T8jHMnkMMLhP4R1i+rb8eA/nN70pje94T/8qfHSTWLgPxEREREREeE/QkmcgDSj4z+D8zE4H4PjP93TCMs9jeA/XJd3wJGi4T+KDKnOyTXjP3w7pXXxLOI/UI4t/eTY4j8a4o9bl3fgPw==",
          "dtype": "f8"
         }
        },
        {
         "legendgroup": "('llama3.1_8b_chat', 'gsm8k', 'base_3_shot', 'main', 'prompt_only')",
         "marker": {
          "color": "#ff7f0e",
          "opacity": 0.5,
          "size": 6
         },
         "mode": "markers",
         "name": "('llama3.1_8b_chat', 'gsm8k', 'base_3_shot', 'main', 'prompt_only') Fold ('direction_f1_score', 1)",
         "showlegend": false,
         "type": "scatter",
         "x": {
          "bdata": "AAECAwQFBgcICQoLDA0ODxAREhMUFRYXGBkaGxwdHh8=",
          "dtype": "i1"
         },
         "y": {
          "bdata": "B1cTdqiz2T8M/VjzoYDhP5EN2ZAN2eA/dOpwNfKP4T85juM4juPgP4HdHmsZOuA/wDHrtCip3z8CRVsNniPgP8BevnLYRuE/r6G8hvIa4j91uBr5x1jhP96bCNm9ieA/QuVLnVD54j90NNvYPUfjPxPmd7W4CeM/2QboU9qD4j+PzXfDj+riPzHCAyslG+M/kB8/fvz44T9ff/DWtdriP2i7t0pT/OI/ZSNTvbbu4j8EqCzJ08vhPzXAuL0P2eI/oM7ez1PG4j+vobyG8hriP6vDL5owBOI/eoKjJzh64j9Lr9pc43bhPwAAAAAAAOA/lkLMCijf4D9e8FdxQkrePw==",
          "dtype": "f8"
         }
        },
        {
         "legendgroup": "('llama3.1_8b_chat', 'gsm8k', 'base_3_shot', 'main', 'prompt_only')",
         "marker": {
          "color": "#ff7f0e",
          "opacity": 0.5,
          "size": 6
         },
         "mode": "markers",
         "name": "('llama3.1_8b_chat', 'gsm8k', 'base_3_shot', 'main', 'prompt_only') Fold ('direction_f1_score', 2)",
         "showlegend": false,
         "type": "scatter",
         "x": {
          "bdata": "AAECAwQFBgcICQoLDA0ODxAREhMUFRYXGBkaGxwdHh8=",
          "dtype": "i1"
         },
         "y": {
          "bdata": "unZgrh2Y2z+uUNwKxa3gP36+a8v0ROA/2hvpQ/Jb4T9c43YxYfDdPw4Qo/G+Qt8/oSiREKbD4D9SyXlZxCfgP6R6D0Wq9+A/HcQxtrDD4D93Nuo7G/XdP7pbJuZkXeA/AyyUrjpw4z9sXz0u0ozhP7lMK5dp5eI/MzMzMzMz4z8mkDWM9pviP1wmORHGZeI/dKkFAhMZ4j98LLvx4DThP6ohAySeGuI/gOzW6jqi4T/Wk0YLgW/hPzSV644XW+I/fVOr+W8z4j/+bVQOr0ziP6Ujewai0uE/YbtIIcF24T8DL771p+HgP65QdfnMPuA/khu5kRu54T/XDsy1A3PdPw==",
          "dtype": "f8"
         }
        },
        {
         "legendgroup": "('llama3.1_8b_chat', 'gsm8k', 'base_3_shot', 'main', 'prompt_only')",
         "marker": {
          "color": "#ff7f0e",
          "opacity": 0.5,
          "size": 6
         },
         "mode": "markers",
         "name": "('llama3.1_8b_chat', 'gsm8k', 'base_3_shot', 'main', 'prompt_only') Fold ('direction_f1_score', 3)",
         "showlegend": false,
         "type": "scatter",
         "x": {
          "bdata": "AAECAwQFBgcICQoLDA0ODxAREhMUFRYXGBkaGxwdHh8=",
          "dtype": "i1"
         },
         "y": {
          "bdata": "qYmk/Vrh3j8eHh4eHh7gPwAAAAAAQN8/GBeJ4c213j8z6RmRLJPeP2LUI0dzat8/bR36zdah3z/Smrcx6lXhP8ijv+0NF+A/IeHSDP8l4D+tC0/I1brgP7UKI0T2Jd8/zczMzMzM4D+wCUHZ+5rgP25x2aFVs+A/+Yqv+Iqv4D+vfCJmc+ngP2Mzgecms98/3aBqeCKp4D8AAAAAAADfP84KydTbrOA/CZukmOdE4D8S+gGqHKHfP/ktBIxSTd4/ttZaa6213j+Cl1PwcgreP4a7+iZ5f90/GBeJ4c213j+fJUGvZ0ngP+tiWPHfmeA/9euFdVeg4D+A44dziwLdPw==",
          "dtype": "f8"
         }
        },
        {
         "legendgroup": "('llama3.1_8b_chat', 'gsm8k', 'base_3_shot', 'main', 'prompt_only')",
         "marker": {
          "color": "#ff7f0e",
          "opacity": 0.5,
          "size": 6
         },
         "mode": "markers",
         "name": "('llama3.1_8b_chat', 'gsm8k', 'base_3_shot', 'main', 'prompt_only') Fold ('direction_f1_score', 4)",
         "showlegend": false,
         "type": "scatter",
         "x": {
          "bdata": "AAECAwQFBgcICQoLDA0ODxAREhMUFRYXGBkaGxwdHh8=",
          "dtype": "i1"
         },
         "y": {
          "bdata": "idqVqF2J2j+A4IbQqr/gP0YONnHjk90/zvE1ZkhT4D8IrBxaZDvfPzc5FLFfUt8/aJNK3wA64T/O8TVmSFPgPwz/UXTskOA/GLAKrbQL3z/03LsJ2uDfP0of8a5pht4/O3s/TxlL4z+/9pDLioHiP1VVVVVVVeI/yhisL/xH4T9MSBss5djhP0s/cxrceeE//ZBXn8WV4T/mTIej6CfhP9wUo4a/TeE/XJd3wJGi4T8aJX5GiZ/hPzNGjvDqbuE/YGoOoZRH4D+xEzuxEzvhP/EEqccST+A/YJW+brkY4D9mZmZmZmbePzFQwhtNnd8/U2MPs4B84T9xCIdwCIfgPw==",
          "dtype": "f8"
         }
        },
        {
         "legendgroup": "('llama3.1_8b_chat', 'gsm8k', 'cot_3_shot', 'main', 'prompt_answer')",
         "line": {
          "color": "#2ca02c",
          "width": 2
         },
         "marker": {
          "size": 8
         },
         "mode": "lines+markers",
         "name": "('llama3.1_8b_chat', 'gsm8k', 'cot_3_shot', 'main', 'prompt_answer')",
         "type": "scatter",
         "x": {
          "bdata": "AAECAwQFBgcICQoLDA0ODxAREhMUFRYXGBkaGxwdHh8=",
          "dtype": "i1"
         },
         "y": {
          "bdata": "YKmtoUxv4j+t4buRYNThP3pDazHdv+E/KxPa5iYF4j+Od+Ptgb7hP133jI2nReE/tKhKH20p4T+y0gnIU83gP+NYA1I/ceE/VzYghRee4T9KgYpZmvLhPyNuplCIjeE/NrKZ2rM14T+ra/NKHbzhP1b9llkU5OE/YLYZZLk+4T8xzPo++efiP6KSQxO+IeI/T8BF2AbV4j+rE4f37GbiP9IKNE4YuuI/Jf9JYEup4T98qQhHdUXiP1o8Ci+g7+E/YmDKl4yx4T8u5oBfgonhP15E5Vk9VOE/jma6ZZCj4T8eAcKFX0/hP3vasyqymOA/rqz9+Wpx4D8iu6dCqnPhPw==",
          "dtype": "f8"
         }
        },
        {
         "legendgroup": "('llama3.1_8b_chat', 'gsm8k', 'cot_3_shot', 'main', 'prompt_answer')",
         "line": {
          "width": 0
         },
         "mode": "lines",
         "name": "('llama3.1_8b_chat', 'gsm8k', 'cot_3_shot', 'main', 'prompt_answer') Max",
         "showlegend": false,
         "type": "scatter",
         "x": {
          "bdata": "AAECAwQFBgcICQoLDA0ODxAREhMUFRYXGBkaGxwdHh8=",
          "dtype": "i1"
         },
         "y": {
          "bdata": "lTYdQlJp4z9VwaikTkDjP6toMBP8euI/1K5E7UrU4j/c33QohHziPxy4uK1ziOI/MyqjMiqj4j8tbsL8rhbjPytZyUpWsuI/9erVq1ev4j9sG4D+FNriPxCoid8gUOM/g2xDQPE54z+TJk2aNGniP7RuMEU+6+I/OsA1jS3+4T/Ltlc14zLkP/Mt3/It3+I/pTbWAWih4z+w+hGIbifjP+Cfdjd3ZOM/vhqstpv64j9jkHBphv/iP2EyVTAqqeM/rSA1np8Z4z8q8lk3mCLjP4o1jTybWOM/UE/iXoc04z8stgaLrcHiPy6G6QtJmeI/VVVVVVXV4j/m8Cx3D9XjPw==",
          "dtype": "f8"
         }
        },
        {
         "fill": "tonexty",
         "fillcolor": "rgba(44, 160, 44, 0.1)",
         "legendgroup": "('llama3.1_8b_chat', 'gsm8k', 'cot_3_shot', 'main', 'prompt_answer')",
         "line": {
          "width": 0
         },
         "mode": "lines",
         "name": "('llama3.1_8b_chat', 'gsm8k', 'cot_3_shot', 'main', 'prompt_answer') Min",
         "showlegend": false,
         "type": "scatter",
         "x": {
          "bdata": "AAECAwQFBgcICQoLDA0ODxAREhMUFRYXGBkaGxwdHh8=",
          "dtype": "i1"
         },
         "y": {
          "bdata": "6YT6F/eG4T9wcHBwcHDgP/pYk+pVDeE/v47A/zjK4D+WQswKKN/gP3sMK9NvTeA/AAAAAADg3T8i4Xl7GBLeP2hBYWdyud8/f39/f39/3z8SDtis8CbfP1E1/WHdi98/7z8QgxRz4D9JxNOvnk/gPxZHwaDqIeE/KWgajDUj4D+dhQ2JsnnhP13pcQF2+uA/STtNdABS4T/3A/6AP+DfP1GsiT4dt+E/St2Xx1YE3T/PvohqnX3hPwAAAAAAAOA/EzrHtSoE4D874X8M7BrgP5nqCXKfqd4/lgck61x54D+t7Sp+NybfP1S2OCdSF9w/HRX44uoH3T9l8Ym8a/TdPw==",
          "dtype": "f8"
         }
        },
        {
         "legendgroup": "('llama3.1_8b_chat', 'gsm8k', 'cot_3_shot', 'main', 'prompt_answer')",
         "line": {
          "width": 0
         },
         "mode": "lines",
         "name": "('llama3.1_8b_chat', 'gsm8k', 'cot_3_shot', 'main', 'prompt_answer') +1 STD",
         "showlegend": false,
         "type": "scatter",
         "x": {
          "bdata": "AAECAwQFBgcICQoLDA0ODxAREhMUFRYXGBkaGxwdHh8=",
          "dtype": "i1"
         },
         "y": {
          "bdata": "029FFaAi4z80TQ8xd/PiP40UTjD1a+I/qR276kga4z85fInJaXviP+03TqiEJuI/lD0Ost0D4z8Hf20w7WXiP6WpF08ZnuI/+FXstOrX4j9rBTohM0zjP32eOQup8uI/g7wF7ZZg4j+uEgslgJDiPy9SIeVHjOI/T/UxyBv24T+q2Ur9igDkP8ZUflu/2uI/X2F/gzvA4z/RhkD1a8jjP81FpWdLY+M/42MOjj2F4z/DCsORpe3iP9uVtnxMh+M/85lNu0fp4j+EJnGLOOXiP7EW9Zd/8+I/GBj7QsOi4j++Ih795o7iPzr7y5547+I/Pfeu8rs14j+0uqhDIJXjPw==",
          "dtype": "f8"
         }
        },
        {
         "fill": "tonexty",
         "fillcolor": "rgba(44, 160, 44, 0.3)",
         "legendgroup": "('llama3.1_8b_chat', 'gsm8k', 'cot_3_shot', 'main', 'prompt_answer')",
         "line": {
          "width": 0
         },
         "mode": "lines",
         "name": "('llama3.1_8b_chat', 'gsm8k', 'cot_3_shot', 'main', 'prompt_answer') -1 STD",
         "showlegend": false,
         "type": "scatter",
         "x": {
          "bdata": "AAECAwQFBgcICQoLDA0ODxAREhMUFRYXGBkaGxwdHh8=",
          "dtype": "i1"
         },
         "y": {
          "bdata": "7eIVLvm74T8mdmjySbXgP2dyiDLFE+E/rQj54gTw4D/jcj0SmgHhP822y3LKZOA/pycOGfmd3j+7TEy/dGnePyEI71RlROA/thZUVURk4D8p/dqRAZngP8k9E5ZnKOA/6actyNAK4D+oxNtwuufgP32oDM7gO+E/cXcBAFeH4D+4vqqAZ8/hP37QCMu8aOE/Px8MLdLp4T+FoM35bQXhP9fPwjTlEOI/zjQLZbKa3z81SE78RJ3hP9niXeHzV+A/0SZHdNF54D/YpZAzzC3gPxbkqjf2ad8/BLV5iF2k4D9+32UO2A/gP3hzN23Xg9w/PcSYAjRa3T8gd02DaKTePw==",
          "dtype": "f8"
         }
        },
        {
         "legendgroup": "('llama3.1_8b_chat', 'gsm8k', 'cot_3_shot', 'main', 'prompt_answer')",
         "marker": {
          "color": "#2ca02c",
          "opacity": 0.5,
          "size": 6
         },
         "mode": "markers",
         "name": "('llama3.1_8b_chat', 'gsm8k', 'cot_3_shot', 'main', 'prompt_answer') Fold ('direction_f1_score', 0)",
         "showlegend": false,
         "type": "scatter",
         "x": {
          "bdata": "AAECAwQFBgcICQoLDA0ODxAREhMUFRYXGBkaGxwdHh8=",
          "dtype": "i1"
         },
         "y": {
          "bdata": "N4CnvNsT4j9VwaikTkDjP4wbsissGeE/v47A/zjK4D8IH3zwwQfhPyi8hTxImOA/fw2Xi8yx3j8i4Xl7GBLePy4MSnDJn+A/FFFEEUUU4T+Br+qt2UDiP+UI/QBVjuA/QNKYxeO64D/SIA3SIA3iP7RuMEU+6+I/OsA1jS3+4T9f/I+9XE/iP13pcQF2+uA/vnzlsI2i4j9nGrrcfOHiPxjKWuAMceI/St2Xx1YE3T/LQl/9S9XiPwAAAAAAAOA/M/lws1KJ4j/0A1Q5Qj/gP5nqCXKfqd4/UE/iXoc04z+t7Sp+NybfP2ePAIcXJtw/58WfSDil4T/HcRzHcZzhPw==",
          "dtype": "f8"
         }
        },
        {
         "legendgroup": "('llama3.1_8b_chat', 'gsm8k', 'cot_3_shot', 'main', 'prompt_answer')",
         "marker": {
          "color": "#2ca02c",
          "opacity": 0.5,
          "size": 6
         },
         "mode": "markers",
         "name": "('llama3.1_8b_chat', 'gsm8k', 'cot_3_shot', 'main', 'prompt_answer') Fold ('direction_f1_score', 1)",
         "showlegend": false,
         "type": "scatter",
         "x": {
          "bdata": "AAECAwQFBgcICQoLDA0ODxAREhMUFRYXGBkaGxwdHh8=",
          "dtype": "i1"
         },
         "y": {
          "bdata": "WOsnPzKr4j//fYdWXtXhP/pYk+pVDeE/AXXJqTXh4D+WQswKKN/gP1dkwMOaW+E/AAAAAADg3T8LWchCFrLgP2hBYWdyud8/f39/f39/3z8SDtis8CbfP9Cl7vK2/uE/mgTMsXMx4T/Fpv5hhMHhP18Z2+/oleE/KWgajDUj4D+dhQ2JsnnhP0P+ExrUeOI/STtNdABS4T/3A/6AP+DfP1GsiT4dt+E/Mw1O9QJ34T/PvohqnX3hP3Wc1YX6jOA/pv2JdQwL4T874X8M7BrgP1MT36m4GuA/lgck61x54D+h2nMyfZXgP1S2OCdSF9w/O0tR7V6M3j/m8Cx3D9XjPw==",
          "dtype": "f8"
         }
        },
        {
         "legendgroup": "('llama3.1_8b_chat', 'gsm8k', 'cot_3_shot', 'main', 'prompt_answer')",
         "marker": {
          "color": "#2ca02c",
          "opacity": 0.5,
          "size": 6
         },
         "mode": "markers",
         "name": "('llama3.1_8b_chat', 'gsm8k', 'cot_3_shot', 'main', 'prompt_answer') Fold ('direction_f1_score', 2)",
         "showlegend": false,
         "type": "scatter",
         "x": {
          "bdata": "AAECAwQFBgcICQoLDA0ODxAREhMUFRYXGBkaGxwdHh8=",
          "dtype": "i1"
         },
         "y": {
          "bdata": "6YT6F/eG4T9wcHBwcHDgP8TDw8PDw+E/WSMT2+PM4j9tLSDssSjiP7nvlkJ/kuE/MyqjMiqj4j8wwKq9cIfhPytZyUpWsuI/kymZkimZ4j/XnegfR1TiP1E1/WHdi98/7z8QgxRz4D9JxNOvnk/gPw2tjjMi7uE/nx0CN5ZB4T/Ltlc14zLkPxORPlc2YuI/pTbWAWih4z8M23fvEwbjP1ffM0QqCOM/l1JLqaXU4j9jkHBphv/iP7cow5VAEuM/rSA1np8Z4z9rKa2ltJbiP4o1jTybWOM/pjFgGgOm4T8stgaLrcHiP5jh0tVug+I/+Se1t8jk3z8mMgr70UbfPw==",
          "dtype": "f8"
         }
        },
        {
         "legendgroup": "('llama3.1_8b_chat', 'gsm8k', 'cot_3_shot', 'main', 'prompt_answer')",
         "marker": {
          "color": "#2ca02c",
          "opacity": 0.5,
          "size": 6
         },
         "mode": "markers",
         "name": "('llama3.1_8b_chat', 'gsm8k', 'cot_3_shot', 'main', 'prompt_answer') Fold ('direction_f1_score', 3)",
         "showlegend": false,
         "type": "scatter",
         "x": {
          "bdata": "AAECAwQFBgcICQoLDA0ODxAREhMUFRYXGBkaGxwdHh8=",
          "dtype": "i1"
         },
         "y": {
          "bdata": "lTYdQlJp4z+MLrroooviP22w3gkQWuI/1K5E7UrU4j/c5pOVaSziPxy4uK1ziOI//qXh5seT4j8tbsL8rhbjP8yY8nVYwuE/V+otiu/54T+qFvWcVbriP0Y1zA6OIOI/g2xDQPE54z+TJk2aNGniPxZHwaDqIeE/jBuyKywZ4T+ASRBl9sriP4Y2rvoH9OE/ijoMv5NL4z+w+hGIbifjP+Cfdjd3ZOM/hpJgKAmG4j+SJEmSJEniPzQ2RZ+7ZeI/UpD8eZXF4T8hfqm6EJzhP4DfdssJluE/4UdLlKI74T/HcRzHcZzhP8U5qhwOwOE/HRX44uoH3T9l8Ym8a/TdPw==",
          "dtype": "f8"
         }
        },
        {
         "legendgroup": "('llama3.1_8b_chat', 'gsm8k', 'cot_3_shot', 'main', 'prompt_answer')",
         "marker": {
          "color": "#2ca02c",
          "opacity": 0.5,
          "size": 6
         },
         "mode": "markers",
         "name": "('llama3.1_8b_chat', 'gsm8k', 'cot_3_shot', 'main', 'prompt_answer') Fold ('direction_f1_score', 4)",
         "showlegend": false,
         "type": "scatter",
         "x": {
          "bdata": "AAECAwQFBgcICQoLDA0ODxAREhMUFRYXGBkaGxwdHh8=",
          "dtype": "i1"
         },
         "y": {
          "bdata": "0id90id94j8RilCEIhThP6toMBP8euI/6olgECXN4j/c33QohHziP3sMK9NvTeA/lPQkPUlP4j8ES31awVLfP5cdWjULReI/9erVq1ev4j9sG4D+FNriPxCoid8gUOM/xvdHCiZz4D/iZ5T4GSXiP3p2l7Yx4+E/Ui58eHm94T+teuBZ9cDjP/Mt3/It3+I/U5hHU5hH4z84cODAgQPjP31AdeytDeM/vhqstpv64j/cmIn/tb/hP2EyVTAqqeM/EzrHtSoE4D8q8lk3mCLjPys4klYFR+I/VzDyA0ii4T8sjB1ZJQbiPy6G6QtJmeI/VVVVVVXV4j8zMzMzMzPjPw==",
          "dtype": "f8"
         }
        },
        {
         "legendgroup": "('llama3.1_8b_chat', 'gsm8k', 'cot_3_shot', 'main', 'prompt_only')",
         "line": {
          "color": "#d62728",
          "width": 2
         },
         "marker": {
          "size": 8
         },
         "mode": "lines+markers",
         "name": "('llama3.1_8b_chat', 'gsm8k', 'cot_3_shot', 'main', 'prompt_only')",
         "type": "scatter",
         "x": {
          "bdata": "AAECAwQFBgcICQoLDA0ODxAREhMUFRYXGBkaGxwdHh8=",
          "dtype": "i1"
         },
         "y": {
          "bdata": "nBdS/lHV4D+k497m7TzhP4MQx8bOmt8/m3UPuDGg4D/tBPpKBrDhP+1iKo2sLOE/mColP3Id4T/r5iDjZbDhP7EH2cA7wOA/fTH9/8PJ4D90SdtClWzhPwjIozdAr+A/5kPE45iE4T9M7RtgotHgP4TU5XBfqOA/3lHZbVgG4T91WVAePyzhPynIeE1SEOE/V0NaiJC34T82klcZAJfhP9f3+rQUHuE/yRNJomSC4D81xfY6fz3gPwKk0tadiuA/4v3QA1Jw4D+6EX6492PgP/NHv3i17d8/Gr0NSaGs4D+SXWKbZqbgPwjBt560A+E/WLgiRl3F4T/WdBYrkVjhPw==",
          "dtype": "f8"
         }
        },
        {
         "legendgroup": "('llama3.1_8b_chat', 'gsm8k', 'cot_3_shot', 'main', 'prompt_only')",
         "line": {
          "width": 0
         },
         "mode": "lines",
         "name": "('llama3.1_8b_chat', 'gsm8k', 'cot_3_shot', 'main', 'prompt_only') Max",
         "showlegend": false,
         "type": "scatter",
         "x": {
          "bdata": "AAECAwQFBgcICQoLDA0ODxAREhMUFRYXGBkaGxwdHh8=",
          "dtype": "i1"
         },
         "y": {
          "bdata": "ik/tVhjo4j+rpuKah5XiPwAAAAAAgOE/86zfPNaE4T8nxqWA9jXjPzEXWgXGnuI/gIKbroCH4j8BaaFKRjniPwDPhIKNJeI/u4etbwOG4j+KchWhz4niP8dxHMdxnOE/O1KvI/U64j9B9KVNUyniP/pEMSMZW+M/8UZT59ce4j/5OJ+A/5nhP2saeTaxpuE/qghUYtNo4j9nTCgZPDriP5jUEE2JxeE/RPuwvgFT4T86HqLCWYThPwj52It1xeE/nLY6BGNK4T9xA9IKlEbhP/RQzUcaMOE/WJF4FYlX4T8AEjV7ByDhPzmO4ziO4+E/rWuvZhAv4j9LS0tLS0viPw==",
          "dtype": "f8"
         }
        },
        {
         "fill": "tonexty",
         "fillcolor": "rgba(214, 39, 40, 0.1)",
         "legendgroup": "('llama3.1_8b_chat', 'gsm8k', 'cot_3_shot', 'main', 'prompt_only')",
         "line": {
          "width": 0
         },
         "mode": "lines",
         "name": "('llama3.1_8b_chat', 'gsm8k', 'cot_3_shot', 'main', 'prompt_only') Min",
         "showlegend": false,
         "type": "scatter",
         "x": {
          "bdata": "AAECAwQFBgcICQoLDA0ODxAREhMUFRYXGBkaGxwdHh8=",
          "dtype": "i1"
         },
         "y": {
          "bdata": "UZh9i2X+3D+naZqmaZreP0c7dHDNjdg/Ekk4jOga3z/xTPrjYNzgP/v27du3b98/y3ivNdwX4D93EttJbCfhPyZMf5VUfd4/rtfr9Xq93j8kjBHfYKXgP2QrgoaTut8/Qwfs9ljL4D/aKYXtrUDfP2qwruA2c90/Yb+kPjfw3z+DZEGyIFngP4bW7sMtoOA/nGjfEXLB4D/xTPrjYNzgPxvEzZPvyOA/P/mgskjE3j+Gu/omeX/dPzFmWCcH6t4/H+/xHu/x3j/8NkFZqxLfP8AijlROFt4/Ez4eNqSR3z9IvsmIo7bfP0Qo5RH0B+A/dzgGhab84D90ZSMmzUPgPw==",
          "dtype": "f8"
         }
        },
        {
         "legendgroup": "('llama3.1_8b_chat', 'gsm8k', 'cot_3_shot', 'main', 'prompt_only')",
         "line": {
          "width": 0
         },
         "mode": "lines",
         "name": "('llama3.1_8b_chat', 'gsm8k', 'cot_3_shot', 'main', 'prompt_only') +1 STD",
         "showlegend": false,
         "type": "scatter",
         "x": {
          "bdata": "AAECAwQFBgcICQoLDA0ODxAREhMUFRYXGBkaGxwdHh8=",
          "dtype": "i1"
         },
         "y": {
          "bdata": "VYMueyfO4j+cO+bKIqHiP2t7/VFy4eE/Z8z9DbWM4T8c7rTKs7DiP0I0hASPeeI/rEGW6SUS4j+sYvhGPi3iP8jv/pybBeI/d2GOLnLy4T/hwsV7fyTiPzffKIrGTuE/5tEFQ7Mh4j/qPrQsKcPhP2fr+KApceI/lymFzojY4T//SBBVDb3hPxdcPLm+eeE/hVcF1qhi4j9HMpeb/xziPyB4guzfg+E/fWbF3KFd4T+Jrk5t7VbhPxSd/MIoh+E/226S41RU4T+QG2uPSjHhP1gOEHCe2eA/CPAx11hk4T/ch2UT3iXhP5Yw9iGI5+E/Voeio1tD4j/Qp8OVe0TiPw==",
          "dtype": "f8"
         }
        },
        {
         "fill": "tonexty",
         "fillcolor": "rgba(214, 39, 40, 0.3)",
         "legendgroup": "('llama3.1_8b_chat', 'gsm8k', 'cot_3_shot', 'main', 'prompt_only')",
         "line": {
          "width": 0
         },
         "mode": "lines",
         "name": "('llama3.1_8b_chat', 'gsm8k', 'cot_3_shot', 'main', 'prompt_only') -1 STD",
         "showlegend": false,
         "type": "scatter",
         "x": {
          "bdata": "AAECAwQFBgcICQoLDA0ODxAREhMUFRYXGBkaGxwdHh8=",
          "dtype": "i1"
         },
         "y": {
          "bdata": "xlfrAvm43T9XF68FcrHfPzAqk+m4cts/nT1CxFxn3z++Gz/LWK/gPzEjoSuUv98/hBO0lL4o4D8qa0l/jTPhPzQ/Zsm39d4/BgPYoitC3z8H0PAJq7TgP9mwHuW5D+A/5rWChH7n4D9bNwcnN8DfP0J7pYEqv90/JXotDSg04D/raZDncJvgPzs0teHlpuA/KS+vOngM4T8l8heXABHhP453c31JuOA/K4KZz05O3z/Ctz0RIkjeP99VUdUlHN8/0hkfSJ4Y3z/IDyLDSS3fPzZzXhEuKN4/WRTTddPp3z9IM18j7ybgP3pReRvhH+A/Wumi6F5H4T/cQWnApmzgPw==",
          "dtype": "f8"
         }
        },
        {
         "legendgroup": "('llama3.1_8b_chat', 'gsm8k', 'cot_3_shot', 'main', 'prompt_only')",
         "marker": {
          "color": "#d62728",
          "opacity": 0.5,
          "size": 6
         },
         "mode": "markers",
         "name": "('llama3.1_8b_chat', 'gsm8k', 'cot_3_shot', 'main', 'prompt_only') Fold ('direction_f1_score', 0)",
         "showlegend": false,
         "type": "scatter",
         "x": {
          "bdata": "AAECAwQFBgcICQoLDA0ODxAREhMUFRYXGBkaGxwdHh8=",
          "dtype": "i1"
         },
         "y": {
          "bdata": "ik/tVhjo4j9D/hMa1HjiP6socvZKFuE/86zfPNaE4T8nxqWA9jXjPzEXWgXGnuI/gIKbroCH4j9vPlPEBV3hPyZMf5VUfd4/HHA38QMQ4T+KchWhz4niP2QrgoaTut8/Qwfs9ljL4D8eAjeWQangP40eUUG2IeA/Wb5G826K4D8vTry9QpThP2saeTaxpuE/GEKDITQY4j9nTCgZPDriP6AIvkNF3+A/4eDg4ODg4D93Ed1FdBfhPzgcDofD4eA/SREEEE/H4D9xA9IKlEbhP9W6bILDhuA/Ez4eNqSR3z8hCIIgCILgP0xHlH6qFOA/iB7fhYPo4T90ZSMmzUPgPw==",
          "dtype": "f8"
         }
        },
        {
         "legendgroup": "('llama3.1_8b_chat', 'gsm8k', 'cot_3_shot', 'main', 'prompt_only')",
         "marker": {
          "color": "#d62728",
          "opacity": 0.5,
          "size": 6
         },
         "mode": "markers",
         "name": "('llama3.1_8b_chat', 'gsm8k', 'cot_3_shot', 'main', 'prompt_only') Fold ('direction_f1_score', 1)",
         "showlegend": false,
         "type": "scatter",
         "x": {
          "bdata": "AAECAwQFBgcICQoLDA0ODxAREhMUFRYXGBkaGxwdHh8=",
          "dtype": "i1"
         },
         "y": {
          "bdata": "Z0KlCgNK3j8MB9Hju3DgP1ATxUoVkd8//v5TxbGX3z9/NM+AgfDgP+GDDz744N8/kNwDObPd4D+vg3a3PoXhP4T/8C6vNt8/rtfr9Xq93j8GXBisy5fhP4UKFSpUqOA/oHSQfuXH4T9UFF42rm3gPzmdyErRZN8/Yb+kPjfw3z+DZEGyIFngP20zxiVSS+E/STtNdABS4T+nMxZzOmPhP7uFX42J9OA/Ji2zfjgj4T86HqLCWYThPwj52It1xeE/kWnYbpYn4T8zD6D9XijhP/RQzUcaMOE/WJF4FYlX4T8AEjV7ByDhPzmO4ziO4+E/oHG3ziug4T/RvIHQvIHgPw==",
          "dtype": "f8"
         }
        },
        {
         "legendgroup": "('llama3.1_8b_chat', 'gsm8k', 'cot_3_shot', 'main', 'prompt_only')",
         "marker": {
          "color": "#d62728",
          "opacity": 0.5,
          "size": 6
         },
         "mode": "markers",
         "name": "('llama3.1_8b_chat', 'gsm8k', 'cot_3_shot', 'main', 'prompt_only') Fold ('direction_f1_score', 2)",
         "showlegend": false,
         "type": "scatter",
         "x": {
          "bdata": "AAECAwQFBgcICQoLDA0ODxAREhMUFRYXGBkaGxwdHh8=",
          "dtype": "i1"
         },
         "y": {
          "bdata": "UZh9i2X+3D+naZqmaZreP0c7dHDNjdg/Ekk4jOga3z/xTPrjYNzgP/v27du3b98/y3ivNdwX4D8ARV5fBi/iP2NCVYC+puE/CZukmOdE4D8kjBHfYKXgP0nwSq6FveA/iwun2i7T4T9B9KVNUyniPzwcP7oJYeE/kS8XkS8X4T/VfXlsRdDgP+mMkyiryOA/DGK/n1gB4j/xTPrjYNzgPxvEzZPvyOA/BLqvZ2+l3z9Q+DE7/4TfP+NlMAo4NN8/xJgJAbT+3j/8NkFZqxLfP+pNb3rTm94/ZO6OcBUE4D9IvsmIo7bfP0Qo5RH0B+A/dzgGhab84D/lGGucU47hPw==",
          "dtype": "f8"
         }
        },
        {
         "legendgroup": "('llama3.1_8b_chat', 'gsm8k', 'cot_3_shot', 'main', 'prompt_only')",
         "marker": {
          "color": "#d62728",
          "opacity": 0.5,
          "size": 6
         },
         "mode": "markers",
         "name": "('llama3.1_8b_chat', 'gsm8k', 'cot_3_shot', 'main', 'prompt_only') Fold ('direction_f1_score', 3)",
         "showlegend": false,
         "type": "scatter",
         "x": {
          "bdata": "AAECAwQFBgcICQoLDA0ODxAREhMUFRYXGBkaGxwdHh8=",
          "dtype": "i1"
         },
         "y": {
          "bdata": "2gj409qH4j+rpuKah5XiPwAAAAAAgOE/ym6eY/l+4T+MZHhu8zDiP3ZtomTXJuI/Shbtk9+P4T8BaaFKRjniPz3vKt/cGuE/u4etbwOG4j+PFQgj7VjhP8dxHMdxnOE/O1KvI/U64j/aAo7PkTfhP/pEMSMZW+M/8UZT59ce4j/KVXs6k4XhP4bW7sMtoOA/qghUYtNo4j9Y9S8oy+3hP5jUEE2JxeE/P/mgskjE3j+Gu/omeX/dPzFmWCcH6t4/H+/xHu/x3j94a4wDAW7fP8AijlROFt4/JWUB4gQX4T8b0e3Jts7gP/iSH8MTb+E/a2VhHmwm4j+7wRT5rBviPw==",
          "dtype": "f8"
         }
        },
        {
         "legendgroup": "('llama3.1_8b_chat', 'gsm8k', 'cot_3_shot', 'main', 'prompt_only')",
         "marker": {
          "color": "#d62728",
          "opacity": 0.5,
          "size": 6
         },
         "mode": "markers",
         "name": "('llama3.1_8b_chat', 'gsm8k', 'cot_3_shot', 'main', 'prompt_only') Fold ('direction_f1_score', 4)",
         "showlegend": false,
         "type": "scatter",
         "x": {
          "bdata": "AAECAwQFBgcICQoLDA0ODxAREhMUFRYXGBkaGxwdHh8=",
          "dtype": "i1"
         },
         "y": {
          "bdata": "TbCjgXIW4T9kkUUWWWThP0/Z4pxIXeA/PgwJz9vD4D98bPoiUzzhP4es2EppceE/0uZ9ikuG4D93EttJbCfhPwDPhIKNJeI/t3hyiye34D8B/wD/AP/gP+JldbOrjOA/z3kC/5n14D/aKYXtrUDfP2qwruA2c90/ywQ7Gihn4T/5OJ+A/5nhP4U3mjq/9uA/nGjfEXLB4D+2GE3mXYvhPyWw6tYfNOE/RPuwvgFT4T9rUDztcRXgP7y4cYa8/uA/nLY6BGNK4T/BdJ1jjUTgP4XfSvithN8/lK0s6rAj4T92CeLe6PPgP2k0Go1Go+E/rWuvZhAv4j9LS0tLS0viPw==",
          "dtype": "f8"
         }
        },
        {
         "legendgroup": "('llama3.1_8b_chat', 'medals_9k', 'base', 'main', 'prompt_answer')",
         "line": {
          "color": "#9467bd",
          "width": 2
         },
         "marker": {
          "size": 8
         },
         "mode": "lines+markers",
         "name": "('llama3.1_8b_chat', 'medals_9k', 'base', 'main', 'prompt_answer')",
         "type": "scatter",
         "x": {
          "bdata": "AAECAwQFBgcICQoLDA0ODxAREhMUFRYXGBkaGxwdHh8=",
          "dtype": "i1"
         },
         "y": {
          "bdata": "INXSMM5F4j9fDe39jqbiP5rml2QL6eI/Dju12mYG4z/nTvQUSuriP5Q7TzUdSuM/wdE+I6z+4j9Sdoo1VQbjP8pCR71MeuM/KLcQGSjf4j81BhXIDHXjP3mObrDVLeQ/NDIwSPPd5D8L9p18Y+jkPwYmrtHe6OQ/zYCd2jh95D9WRqHWXPHkPwYOBXyUb+Q/LuWSmFQP4z8olRZaeUDjP6irtp9DZeI/ToOeqZnr4D+3OT7dhizhP7Z43Ss6TuE/B0hCHWQV4T/e+QfSejjhPyVGh7ClQ+E/Btsuk7Q64T+S+5vNnGfhPx5WsI10COE/xc7n8N3/4D+A/dalBMLhPw==",
          "dtype": "f8"
         }
        },
        {
         "legendgroup": "('llama3.1_8b_chat', 'medals_9k', 'base', 'main', 'prompt_answer')",
         "line": {
          "width": 0
         },
         "mode": "lines",
         "name": "('llama3.1_8b_chat', 'medals_9k', 'base', 'main', 'prompt_answer') Max",
         "showlegend": false,
         "type": "scatter",
         "x": {
          "bdata": "AAECAwQFBgcICQoLDA0ODxAREhMUFRYXGBkaGxwdHh8=",
          "dtype": "i1"
         },
         "y": {
          "bdata": "pXOH+hA+4z9MriAmVxDjP2lG6NXFd+M/mzjJTQdc5D9i3s6QmLfjP5QqUuNMJeQ/fqGWIGI75D/VcJtIhRflPwN4zQdbe+Q/h0swO50P5T/qOl65Sd/kP+FUJmyD4OQ/XfAoR9sg5T9OKHxLsoTlP1VVVVVVVeU/+koZ1Jqv5D9UU1FNRTXlPw3bzfIkMuU/IgLuKcMA5T/Asf9FYhflP1hPYT2F9eQ/jXzb9e6l4T/yVHzyVHziP+6Cv4oTUuI/OyMVc6sz4j8J8pQgTwniPwy/k0vTCuI/ChIDaGNH4j/q/NpDLiviPyON4HtWK+I/ssUAssUA4j9SCXdSCXfiPw==",
          "dtype": "f8"
         }
        },
        {
         "fill": "tonexty",
         "fillcolor": "rgba(148, 103, 189, 0.1)",
         "legendgroup": "('llama3.1_8b_chat', 'medals_9k', 'base', 'main', 'prompt_answer')",
         "line": {
          "width": 0
         },
         "mode": "lines",
         "name": "('llama3.1_8b_chat', 'medals_9k', 'base', 'main', 'prompt_answer') Min",
         "showlegend": false,
         "type": "scatter",
         "x": {
          "bdata": "AAECAwQFBgcICQoLDA0ODxAREhMUFRYXGBkaGxwdHh8=",
          "dtype": "i1"
         },
         "y": {
          "bdata": "qekZPpnd4D+KlryoOCXiP5ILA5VqX+I/WQqW//ko4j8jn3WDKfLhP4Nl7R3mP+I/RgGH5nP94T9aJwR/OcPhP1PgUuBS4OI/r+okuCJq4T8Sfn88bkXiP7lMK5dp5eI/+czlDn925D9AjMb7Cn3kP7a9TmthguQ/mzjJTQdc5D8l6c9qW8DkP0GrDQb/WuI/whT5rBtM4T/xFV/xFV/hP9rAllCGiuE/cbk/J15t4D9LZOtiWPHfP9e/sidvauA/mZQs2ie/3z9NFjlASHHfP6Zuscd5CuA/+2XzhbLr3j8YqPmVgZrfP0lO4lGa8d8/mZQs2ie/3z+YBFFmryzhPw==",
          "dtype": "f8"
         }
        },
        {
         "legendgroup": "('llama3.1_8b_chat', 'medals_9k', 'base', 'main', 'prompt_answer')",
         "line": {
          "width": 0
         },
         "mode": "lines",
         "name": "('llama3.1_8b_chat', 'medals_9k', 'base', 'main', 'prompt_answer') +1 STD",
         "showlegend": false,
         "type": "scatter",
         "x": {
          "bdata": "AAECAwQFBgcICQoLDA0ODxAREhMUFRYXGBkaGxwdHh8=",
          "dtype": "i1"
         },
         "y": {
          "bdata": "YnkRhHM/4z/wSiyROg/jP85KmTniaeM/9XL59ePp4z/HlbhzxKPjP+zyhRbmB+Q/5TMVpwDk4z8PSMkZOkzkP3mxffHgE+Q/TdJAS8Q35D9WLgoaZb/kP/KsjZWv9+Q/vQXi7nUj5T/wC2guBlflP1d6KsH4R+U/u1GxSaWh5D+Mx/6HDSLlP9Klg8kqneU/nnhxg9Kx5D/ZJgP3T9LkPzg+SmhH1+M/YN0XC+ln4T8BhfBFrBPiP7wG6wfSIuI/uVYF4vgS4j/vj9lmpijiP0DEvKzSEeI/cZOGQ2VQ4j9/RQf2g1niP88XZev01+E/l29Oz5nd4T8dxIbVS0XiPw==",
          "dtype": "f8"
         }
        },
        {
         "fill": "tonexty",
         "fillcolor": "rgba(148, 103, 189, 0.3)",
         "legendgroup": "('llama3.1_8b_chat', 'medals_9k', 'base', 'main', 'prompt_answer')",
         "line": {
          "width": 0
         },
         "mode": "lines",
         "name": "('llama3.1_8b_chat', 'medals_9k', 'base', 'main', 'prompt_answer') -1 STD",
         "showlegend": false,
         "type": "scatter",
         "x": {
          "bdata": "AAECAwQFBgcICQoLDA0ODxAREhMUFRYXGBkaGxwdHh8=",
          "dtype": "i1"
         },
         "y": {
          "bdata": "3jCU3ShM4T/Oz61q4z3iP2aClo80aOI/JwNxv+ki4j8HCDC2zzDiPzyEGFRUjOI/nW9on1cZ4j+VpEtRcMDhPxvUEIm44OI/A5zg5ouG4T8U3h92tCriPwBwT8v7Y+M/q15+oXCY5D8m4NPKwHnkP7XRMeLEieQ/36+Ja8xY5D8gxUMlrMDkPzp2hi7+QeM/vlG0rdZs4T93Ayq9oq7hPxgZI9c/8+A/PCklSEpv4D9t7ot0YUXgP7Dqz0+ieeA/VTl/WM8X4D/NYzY9T0jgPwrIUbR4deA/myLX4gMl4D+lsTCltXXgP22U+y/0OOA/8y2BEiIi4D/jNid2vT7hPw==",
          "dtype": "f8"
         }
        },
        {
         "legendgroup": "('llama3.1_8b_chat', 'medals_9k', 'base', 'main', 'prompt_answer')",
         "marker": {
          "color": "#9467bd",
          "opacity": 0.5,
          "size": 6
         },
         "mode": "markers",
         "name": "('llama3.1_8b_chat', 'medals_9k', 'base', 'main', 'prompt_answer') Fold ('direction_f1_score', 0)",
         "showlegend": false,
         "type": "scatter",
         "x": {
          "bdata": "AAECAwQFBgcICQoLDA0ODxAREhMUFRYXGBkaGxwdHh8=",
          "dtype": "i1"
         },
         "y": {
          "bdata": "qekZPpnd4D+KlryoOCXiP5ILA5VqX+I/ZlFYq49D4j8jn3WDKfLhP4Nl7R3mP+I/RgGH5nP94T9aJwR/OcPhPwN4zQdbe+Q/h0swO50P5T//4huqjcbkP8vZLfxqTOQ/3k53LJvQ5D/R+oOxF4DkP7a9TmthguQ/+koZ1Jqv5D/Byyl4OQXlP0GrDQb/WuI/vSQ+Dxdr4j9rx7irwkziP+YoyGk5CuI/jXzb9e6l4T/yVHzyVHziP1kGpcLE++E/1B+xgDv94T8J8pQgTwniP2SIU+GQv+E/ChIDaGNH4j/q/NpDLiviPyON4HtWK+I/ssUAssUA4j+YBFFmryzhPw==",
          "dtype": "f8"
         }
        },
        {
         "legendgroup": "('llama3.1_8b_chat', 'medals_9k', 'base', 'main', 'prompt_answer')",
         "marker": {
          "color": "#9467bd",
          "opacity": 0.5,
          "size": 6
         },
         "mode": "markers",
         "name": "('llama3.1_8b_chat', 'medals_9k', 'base', 'main', 'prompt_answer') Fold ('direction_f1_score', 1)",
         "showlegend": false,
         "type": "scatter",
         "x": {
          "bdata": "AAECAwQFBgcICQoLDA0ODxAREhMUFRYXGBkaGxwdHh8=",
          "dtype": "i1"
         },
         "y": {
          "bdata": "6bLG1nMj4j87Kc4GIqriP5Zim8eMw+I/mzjJTQdc5D8dgnrB1W3iP5QqUuNMJeQ/fqGWIGI75D/VcJtIhRflP+MmzO9qceM/zDo+rrTG4j+SJEmSJEniP8CUQ4h1wOQ/XfAoR9sg5T9OKHxLsoTlP1VVVVVVVeU/mzjJTQdc5D9UU1FNRTXlPw3bzfIkMuU/yoxw3gsC4j/zLd/yLd/iP7u05iMwzOE/iytxZlkX4T+w/M9HkTrhP+6Cv4oTUuI/OyMVc6sz4j8G4J/gnO/hPwy/k0vTCuI/ic+48T6/4T8SSHHafN3hP/T3/gwpYeE/ErsRuxG74T9nSQUynmLhPw==",
          "dtype": "f8"
         }
        },
        {
         "legendgroup": "('llama3.1_8b_chat', 'medals_9k', 'base', 'main', 'prompt_answer')",
         "marker": {
          "color": "#9467bd",
          "opacity": 0.5,
          "size": 6
         },
         "mode": "markers",
         "name": "('llama3.1_8b_chat', 'medals_9k', 'base', 'main', 'prompt_answer') Fold ('direction_f1_score', 2)",
         "showlegend": false,
         "type": "scatter",
         "x": {
          "bdata": "AAECAwQFBgcICQoLDA0ODxAREhMUFRYXGBkaGxwdHh8=",
          "dtype": "i1"
         },
         "y": {
          "bdata": "pXOH+hA+4z9MriAmVxDjP2lG6NXFd+M/RibjEdE74z9i3s6QmLfjP3hxrZGLwuM/Jc19akmA4z+kzL+vm0LjP4YGLOnlT+M/FvqoSHbM4j97Xia21RTjP+FUJmyD4OQ/YLjmyc4b5T9VVVVVVRXlP9NQLVK57OQ/i/3ejUyW5D+vgsThtffkPz9Tyr177uQ/whT5rBtM4T/xFV/xFV/hP9rAllCGiuE/xKCok8uL4D9RXkN5DeXgP9e/sidvauA/1L5AqH2B4D+08hPirPzgP1YDFHjQ4uA/AHtK1isG4T/4Ohq9mlXhP9tkGn2RyuA/lHlWUWOk4D8cifNG4rzhPw==",
          "dtype": "f8"
         }
        },
        {
         "legendgroup": "('llama3.1_8b_chat', 'medals_9k', 'base', 'main', 'prompt_answer')",
         "marker": {
          "color": "#9467bd",
          "opacity": 0.5,
          "size": 6
         },
         "mode": "markers",
         "name": "('llama3.1_8b_chat', 'medals_9k', 'base', 'main', 'prompt_answer') Fold ('direction_f1_score', 3)",
         "showlegend": false,
         "type": "scatter",
         "x": {
          "bdata": "AAECAwQFBgcICQoLDA0ODxAREhMUFRYXGBkaGxwdHh8=",
          "dtype": "i1"
         },
         "y": {
          "bdata": "8XFRXUD34T9BE2/k91fiP/YwC8gXieI/WQqW//ko4j97UMGy9g7jP6ZY4TBR5uI/SDJN6jdc4j9PHApffZriP1PgUuBS4OI/rygXk91O4j8Sfn88bkXiP7lMK5dp5eI/+czlDn925D9AjMb7Cn3kP9QeVwHBkOQ/q1zVd5df5D/E1BYfQMTkP0u8TO3QrOQ/fLFINqWS5D+3LHrs9Z/kP3ds6gLdo+E/cbk/J15t4D9LZOtiWPHfP8UC4wdLoOA/mZQs2ie/3z9NFjlASHHfP6Zuscd5CuA/+2XzhbLr3j8YqPmVgZrfP0lO4lGa8d8/mZQs2ie/3z8TE3IL3gbiPw==",
          "dtype": "f8"
         }
        },
        {
         "legendgroup": "('llama3.1_8b_chat', 'medals_9k', 'base', 'main', 'prompt_answer')",
         "marker": {
          "color": "#9467bd",
          "opacity": 0.5,
          "size": 6
         },
         "mode": "markers",
         "name": "('llama3.1_8b_chat', 'medals_9k', 'base', 'main', 'prompt_answer') Fold ('direction_f1_score', 4)",
         "showlegend": false,
         "type": "scatter",
         "x": {
          "bdata": "AAECAwQFBgcICQoLDA0ODxAREhMUFRYXGBkaGxwdHh8=",
          "dtype": "i1"
         },
         "y": {
          "bdata": "dqdkh6gm4z+NwYY7IQnjP3mbZfxjaeM/qWzvOqAb4z9pOkXg42zjP6zPvUaCZOM/lHZRVAXk4j91zko10mfiPzPIS/GARuM/r+okuCJq4T/qOl65Sd/kPzi4ZepeEuQ/cTaEHPzR5D+Fyfkgx/LkP2c7PgQpN+U/M6Z8HZZw5D8l6c9qW8DkP0iwJsh1BeU/IgLuKcMA5T/Asf9FYhflP1hPYT2F9eQ/OY7jOI7j4D98vjFtAkrhP6gPWV6QLuE/9RsuCfzY4D9skcIWKWzhP0yl9wWOmuE/jjfqbN+i4T/blahdidrhP4KdhpVo2uA/M8UHCYe/4D9SCXdSCXfiPw==",
          "dtype": "f8"
         }
        },
        {
         "legendgroup": "('llama3.1_8b_chat', 'medals_9k', 'base', 'main', 'prompt_only')",
         "line": {
          "color": "#8c564b",
          "width": 2
         },
         "marker": {
          "size": 8
         },
         "mode": "lines+markers",
         "name": "('llama3.1_8b_chat', 'medals_9k', 'base', 'main', 'prompt_only')",
         "type": "scatter",
         "x": {
          "bdata": "AAECAwQFBgcICQoLDA0ODxAREhMUFRYXGBkaGxwdHh8=",
          "dtype": "i1"
         },
         "y": {
          "bdata": "JZ9o6h/x4D/BQrAaWj3iP+BEVadEA+I/xm3q+2w24z8TyNa67IHiPzo5vzZCoeI/ZeH0z+7V4j+asQvvK3/iP7Ybjclo9+A/LsA93Ttk4T++J+5tuJjhP3njKijP6uE/XswsdYAE4T9eoEau0ILhPw7O50p6lOE/SksArLPr4T8i+kspRc3hP4llQqa14uE/iEQgjlmQ4T86vCbo1VjhP2a4SmEOpuE/Hglk+2/H4T9avxe9hnLhP9SxF93DMOE/bcAeZjJJ4T9y9bB+UmfhP7bFkioXLOE/S/7IjXNI4T89b6wwZ5fhP1UZL5f6ueE/cy1YBbGl4T/+sf2y+EXgPw==",
          "dtype": "f8"
         }
        },
        {
         "legendgroup": "('llama3.1_8b_chat', 'medals_9k', 'base', 'main', 'prompt_only')",
         "line": {
          "width": 0
         },
         "mode": "lines",
         "name": "('llama3.1_8b_chat', 'medals_9k', 'base', 'main', 'prompt_only') Max",
         "showlegend": false,
         "type": "scatter",
         "x": {
          "bdata": "AAECAwQFBgcICQoLDA0ODxAREhMUFRYXGBkaGxwdHh8=",
          "dtype": "i1"
         },
         "y": {
          "bdata": "VuXacnjC4T/syBRsmBjjPxJ3xB1xR+I/bscZKLC84z/UnTVD3VnjPxhwxrVIUOM/Gnnnb3Fa4z/UTXlZFR7jP90MWnY8p+I/7/Ee7/Ee4z9e+p4VCc7iP2FSESYVYeI/HCaly8dh4j9TZhOtmeziPyvvsnY6/uE/lVJKKaWU4j9d8N4RuDTiP/BJm4rNbuI/xAYdz1/l4T+XosN0C67hP4+4I+6IO+I/JNGVYTZF4j81wXgr+xziP1U/J6zhneE/+UVPi/f34T+2yPoqVsnhP3syfrvUk+E/i5swv6vF4T9wfRwVuZniP+R/FbXFLOI//6VqCQXZ4T8I6sutj3HjPw==",
          "dtype": "f8"
         }
        },
        {
         "fill": "tonexty",
         "fillcolor": "rgba(140, 86, 75, 0.1)",
         "legendgroup": "('llama3.1_8b_chat', 'medals_9k', 'base', 'main', 'prompt_only')",
         "line": {
          "width": 0
         },
         "mode": "lines",
         "name": "('llama3.1_8b_chat', 'medals_9k', 'base', 'main', 'prompt_only') Min",
         "showlegend": false,
         "type": "scatter",
         "x": {
          "bdata": "AAECAwQFBgcICQoLDA0ODxAREhMUFRYXGBkaGxwdHh8=",
          "dtype": "i1"
         },
         "y": {
          "bdata": "hmSXGyeX3j+/ACwkVtrhPwa2U4ZaheE/i94wTrCz4j/TMZcITwriP2di81bAd+E/4M8pZtUL4j8YxghzchXiP4FtfQCGqdw/1AjLPY2w3D+PYNl1atXdPyEVUiEVUuE/zTdq1WTW3j85pCYYb2XfP24KiGMHK+E/MNUcs3dr4T991g2myGfhP5KRkZGRkeE/QbXnZPoq4T8rcYjlWSvhP40SP6PEz+A/O9q8T3HJ4D9wAidwAifgP3YuPj3piuA/5xI3dJ6R4D/PZLR45RPhPwr5gTAhP+A/a7436jgp4D8Q0wMQ0wPgP3TqcDXyj+E/4C71ZPx24T+Jhvjj1uXdPw==",
          "dtype": "f8"
         }
        },
        {
         "legendgroup": "('llama3.1_8b_chat', 'medals_9k', 'base', 'main', 'prompt_only')",
         "line": {
          "width": 0
         },
         "mode": "lines",
         "name": "('llama3.1_8b_chat', 'medals_9k', 'base', 'main', 'prompt_only') +1 STD",
         "showlegend": false,
         "type": "scatter",
         "x": {
          "bdata": "AAECAwQFBgcICQoLDA0ODxAREhMUFRYXGBkaGxwdHh8=",
          "dtype": "i1"
         },
         "y": {
          "bdata": "I6l1W/n44T/6KPE4073iPwmHr9o7VOI/iEQGRFum4z9qDc8oDwHjP8WTQ1ezXuM/QDWqRNhe4z8C1FejcfHiP6gGNevA5+I/XXtowrxk4z8QDoXpSiLjPxY52NqYWOI/xftu4rNy4j+x+1u8ofLiPysYsuSR4OE/9dsBk/Jb4j/CPq/olBjiP5xyIOfbOuI/BqlrjuvU4T/5eKfQCJThP/kqZrhmNOI/Qv1celVi4j/ybwZiqzLiP+qTxtKkveE/377w/37V4T9FRkYRK7PhP1uRqu35uOE/Bp5OxIjt4T8VPfIvjJXiP7nxMCaj++E/pzoFwI/R4T8F8xcezB/iPw==",
          "dtype": "f8"
         }
        },
        {
         "fill": "tonexty",
         "fillcolor": "rgba(140, 86, 75, 0.3)",
         "legendgroup": "('llama3.1_8b_chat', 'medals_9k', 'base', 'main', 'prompt_only')",
         "line": {
          "width": 0
         },
         "mode": "lines",
         "name": "('llama3.1_8b_chat', 'medals_9k', 'base', 'main', 'prompt_only') -1 STD",
         "showlegend": false,
         "type": "scatter",
         "x": {
          "bdata": "AAECAwQFBgcICQoLDA0ODxAREhMUFRYXGBkaGxwdHh8=",
          "dtype": "i1"
         },
         "y": {
          "bdata": "TSq38ozS3z+IXG/84LzhP7cC+3NNsuE/BJfOs37G4j+8gt5MygLiP6/eOhbR4+E/io0/WwVN4j8yj7865gziP4lhyk8hDt4//gkm8HXH3j9sQVfyJQ/gP9yNfXUFfeE/7TnVD5os3z8LRTGg/xLgP/GDHbFiSOE/n7r+xHR74T+Ctehp9YHhP3ZYZGWPiuE/CuDUjcdL4T97/6X/oh3hP9NFLwq2F+E/+hRrfIos4T/CDikYYrLgP77PaOfio+A/+8FMzOW84D+fpBvseRvhPxH6emc0n+A/kF5DV16j4D9loWYxQpngP/FALQhSeOE/PyCrStJ54T/u4caPStjcPw==",
          "dtype": "f8"
         }
        },
        {
         "legendgroup": "('llama3.1_8b_chat', 'medals_9k', 'base', 'main', 'prompt_only')",
         "marker": {
          "color": "#8c564b",
          "opacity": 0.5,
          "size": 6
         },
         "mode": "markers",
         "name": "('llama3.1_8b_chat', 'medals_9k', 'base', 'main', 'prompt_only') Fold ('direction_f1_score', 0)",
         "showlegend": false,
         "type": "scatter",
         "x": {
          "bdata": "AAECAwQFBgcICQoLDA0ODxAREhMUFRYXGBkaGxwdHh8=",
          "dtype": "i1"
         },
         "y": {
          "bdata": "hmSXGyeX3j8J8XbVvUPiP/0iweHWL+I/bscZKLC84z/UnTVD3VnjPxhwxrVIUOM/Gnnnb3Fa4z/UTXlZFR7jPwSnkJ+V8d4//wVZPfFf4D+PYNl1atXdP2FSESYVYeI/zTdq1WTW3j85pCYYb2XfPyvvsnY6/uE/4nU+c98W4j9d8N4RuDTiP5KRkZGRkeE/QbXnZPoq4T8rcYjlWSvhPwDdq7rAceE/9WHQATih4T9wAidwAifgP3YuPj3piuA/5xI3dJ6R4D/YZ7b0LijhPwr5gTAhP+A/a7436jgp4D8Q0wMQ0wPgP/dJ2ZfbkeE/hhfnoWN44T9fMHaN6l7gPw==",
          "dtype": "f8"
         }
        },
        {
         "legendgroup": "('llama3.1_8b_chat', 'medals_9k', 'base', 'main', 'prompt_only')",
         "marker": {
          "color": "#8c564b",
          "opacity": 0.5,
          "size": 6
         },
         "mode": "markers",
         "name": "('llama3.1_8b_chat', 'medals_9k', 'base', 'main', 'prompt_only') Fold ('direction_f1_score', 1)",
         "showlegend": false,
         "type": "scatter",
         "x": {
          "bdata": "AAECAwQFBgcICQoLDA0ODxAREhMUFRYXGBkaGxwdHh8=",
          "dtype": "i1"
         },
         "y": {
          "bdata": "vBnxZsSb4T/QhT5IO/fhPxk2iJsn3+E/i94wTrCz4j8QXvwIY07iP/KW4Ri9NuM/29GZVDs64z8WVFkVIsbiP4FtfQCGqdw/1AjLPY2w3D+Vgq+eJkLiP5gin3WDKeI/nj5aTUIU3z9rgYK/F2XgPwJmY08LrOE/MNUcs3dr4T991g2myGfhP9YZqZhbneE/bHRwcvGx4T8AAAAAAIDhP40SP6PEz+A/O9q8T3HJ4D/Ci4UT1KLhP+pWGT3uouA/cfvbSRTt4D/PZLR45RPhP4I0SdBcGuE/i5swv6vF4T8YfMQh4OLhP06wjDyIsuE/juM4juO44T8I6sutj3HjPw==",
          "dtype": "f8"
         }
        },
        {
         "legendgroup": "('llama3.1_8b_chat', 'medals_9k', 'base', 'main', 'prompt_only')",
         "marker": {
          "color": "#8c564b",
          "opacity": 0.5,
          "size": 6
         },
         "mode": "markers",
         "name": "('llama3.1_8b_chat', 'medals_9k', 'base', 'main', 'prompt_only') Fold ('direction_f1_score', 2)",
         "showlegend": false,
         "type": "scatter",
         "x": {
          "bdata": "AAECAwQFBgcICQoLDA0ODxAREhMUFRYXGBkaGxwdHh8=",
          "dtype": "i1"
         },
         "y": {
          "bdata": "iN20Of954T9CDXvX2gTiPwa2U4ZaheE/JlcQkyuI4z9+eWxF0HDiP+X+FHGbduI/CQ8YwJmP4j9mgyZfNmjiP90MWnY8p+I/7/Ee7/Ee4z/+Fqc12yfiP9BWIhL+FeI/HCaly8dh4j9TZhOtmeziPw/vz3qcheE/lVJKKaWU4j+OUu+bp+3hP/BJm4rNbuI/AV6mPUKL4T9AZLhXwSzhP6or59aPCOI/e2g2iXMn4j90Cq+TmK7hP8dxHMdxnOE/ej3s6k9m4T96PezqT2bhPwFepj1Ci+E/ErP0gali4T/piFn6wFThP3TqcDXyj+E/ThM5fCy74T9mt/CrMZHePw==",
          "dtype": "f8"
         }
        },
        {
         "legendgroup": "('llama3.1_8b_chat', 'medals_9k', 'base', 'main', 'prompt_only')",
         "marker": {
          "color": "#8c564b",
          "opacity": 0.5,
          "size": 6
         },
         "mode": "markers",
         "name": "('llama3.1_8b_chat', 'medals_9k', 'base', 'main', 'prompt_only') Fold ('direction_f1_score', 3)",
         "showlegend": false,
         "type": "scatter",
         "x": {
          "bdata": "AAECAwQFBgcICQoLDA0ODxAREhMUFRYXGBkaGxwdHh8=",
          "dtype": "i1"
         },
         "y": {
          "bdata": "14y+8s+R4D+/ACwkVtrhPzXSSCONNOI/t23btm3b4j/TMZcITwriP2di81bAd+E/4M8pZtUL4j8YxghzchXiPx8he4TsEeI/ixKuKOGK4j9e+p4VCc7iPyEVUiEVUuE/aKwPjfWh4T8SuxG7EbvhP523GNJ5i+E/TiLwkPa94T+qRzqp+MDhPxE2BTja6eE/OMiF4jGE4T8dNb3WBjbhPzXGf8OpuOE/ybearNwN4j/nYqJuN6fhP6ZC22Ooi+E/VjBLygGR4T9h+CL24ZjhP3syfrvUk+E/JTu1PNCh4T+y1h+y1h/iPw0a/zTJoOE/4C71ZPx24T8vgXv3uaPePw==",
          "dtype": "f8"
         }
        },
        {
         "legendgroup": "('llama3.1_8b_chat', 'medals_9k', 'base', 'main', 'prompt_only')",
         "marker": {
          "color": "#8c564b",
          "opacity": 0.5,
          "size": 6
         },
         "mode": "markers",
         "name": "('llama3.1_8b_chat', 'medals_9k', 'base', 'main', 'prompt_only') Fold ('direction_f1_score', 4)",
         "showlegend": false,
         "type": "scatter",
         "x": {
          "bdata": "AAECAwQFBgcICQoLDA0ODxAREhMUFRYXGBkaGxwdHh8=",
          "dtype": "i1"
         },
         "y": {
          "bdata": "VuXacnjC4T/syBRsmBjjPxJ3xB1xR+I/DrpdKyc84z8sQfwLQGbiP8e1C3vpsOI/Hj0FJY794j+cjDhq+xniP05S5SRVTuI/BjIpXiCT4j9/gsQA2tjhP3WQsflfo+E/IvDIX3Ed4j/qLKazmM7iP24KiGMHK+E/erhre4/F4T+ZgWXROLfhP0XQcFL35eE/xAYdz1/l4T+XosN0C67hP4+4I+6IO+I/JNGVYTZF4j81wXgr+xziP1U/J6zhneE/+UVPi/f34T+2yPoqVsnhP4ce7treY+E/S6/aXON24T9wfRwVuZniP+R/FbXFLOI//6VqCQXZ4T+Jhvjj1uXdPw==",
          "dtype": "f8"
         }
        }
       ],
       "layout": {
        "font": {
         "color": "white"
        },
        "height": 600,
        "legend": {
         "bgcolor": "rgba(32, 32, 32, 0.8)",
         "orientation": "h",
         "x": 0.5,
         "xanchor": "center",
         "y": 1.02,
         "yanchor": "bottom"
        },
        "margin": {
         "b": 50,
         "l": 50,
         "r": 30,
         "t": 100
        },
        "paper_bgcolor": "rgba(32, 32, 32, 1)",
        "plot_bgcolor": "rgba(32, 32, 32, 1)",
        "showlegend": true,
        "template": {
         "data": {
          "bar": [
           {
            "error_x": {
             "color": "#f2f5fa"
            },
            "error_y": {
             "color": "#f2f5fa"
            },
            "marker": {
             "line": {
              "color": "rgb(17,17,17)",
              "width": 0.5
             },
             "pattern": {
              "fillmode": "overlay",
              "size": 10,
              "solidity": 0.2
             }
            },
            "type": "bar"
           }
          ],
          "barpolar": [
           {
            "marker": {
             "line": {
              "color": "rgb(17,17,17)",
              "width": 0.5
             },
             "pattern": {
              "fillmode": "overlay",
              "size": 10,
              "solidity": 0.2
             }
            },
            "type": "barpolar"
           }
          ],
          "carpet": [
           {
            "aaxis": {
             "endlinecolor": "#A2B1C6",
             "gridcolor": "#506784",
             "linecolor": "#506784",
             "minorgridcolor": "#506784",
             "startlinecolor": "#A2B1C6"
            },
            "baxis": {
             "endlinecolor": "#A2B1C6",
             "gridcolor": "#506784",
             "linecolor": "#506784",
             "minorgridcolor": "#506784",
             "startlinecolor": "#A2B1C6"
            },
            "type": "carpet"
           }
          ],
          "choropleth": [
           {
            "colorbar": {
             "outlinewidth": 0,
             "ticks": ""
            },
            "type": "choropleth"
           }
          ],
          "contour": [
           {
            "colorbar": {
             "outlinewidth": 0,
             "ticks": ""
            },
            "colorscale": [
             [
              0,
              "#0d0887"
             ],
             [
              0.1111111111111111,
              "#46039f"
             ],
             [
              0.2222222222222222,
              "#7201a8"
             ],
             [
              0.3333333333333333,
              "#9c179e"
             ],
             [
              0.4444444444444444,
              "#bd3786"
             ],
             [
              0.5555555555555556,
              "#d8576b"
             ],
             [
              0.6666666666666666,
              "#ed7953"
             ],
             [
              0.7777777777777778,
              "#fb9f3a"
             ],
             [
              0.8888888888888888,
              "#fdca26"
             ],
             [
              1,
              "#f0f921"
             ]
            ],
            "type": "contour"
           }
          ],
          "contourcarpet": [
           {
            "colorbar": {
             "outlinewidth": 0,
             "ticks": ""
            },
            "type": "contourcarpet"
           }
          ],
          "heatmap": [
           {
            "colorbar": {
             "outlinewidth": 0,
             "ticks": ""
            },
            "colorscale": [
             [
              0,
              "#0d0887"
             ],
             [
              0.1111111111111111,
              "#46039f"
             ],
             [
              0.2222222222222222,
              "#7201a8"
             ],
             [
              0.3333333333333333,
              "#9c179e"
             ],
             [
              0.4444444444444444,
              "#bd3786"
             ],
             [
              0.5555555555555556,
              "#d8576b"
             ],
             [
              0.6666666666666666,
              "#ed7953"
             ],
             [
              0.7777777777777778,
              "#fb9f3a"
             ],
             [
              0.8888888888888888,
              "#fdca26"
             ],
             [
              1,
              "#f0f921"
             ]
            ],
            "type": "heatmap"
           }
          ],
          "histogram": [
           {
            "marker": {
             "pattern": {
              "fillmode": "overlay",
              "size": 10,
              "solidity": 0.2
             }
            },
            "type": "histogram"
           }
          ],
          "histogram2d": [
           {
            "colorbar": {
             "outlinewidth": 0,
             "ticks": ""
            },
            "colorscale": [
             [
              0,
              "#0d0887"
             ],
             [
              0.1111111111111111,
              "#46039f"
             ],
             [
              0.2222222222222222,
              "#7201a8"
             ],
             [
              0.3333333333333333,
              "#9c179e"
             ],
             [
              0.4444444444444444,
              "#bd3786"
             ],
             [
              0.5555555555555556,
              "#d8576b"
             ],
             [
              0.6666666666666666,
              "#ed7953"
             ],
             [
              0.7777777777777778,
              "#fb9f3a"
             ],
             [
              0.8888888888888888,
              "#fdca26"
             ],
             [
              1,
              "#f0f921"
             ]
            ],
            "type": "histogram2d"
           }
          ],
          "histogram2dcontour": [
           {
            "colorbar": {
             "outlinewidth": 0,
             "ticks": ""
            },
            "colorscale": [
             [
              0,
              "#0d0887"
             ],
             [
              0.1111111111111111,
              "#46039f"
             ],
             [
              0.2222222222222222,
              "#7201a8"
             ],
             [
              0.3333333333333333,
              "#9c179e"
             ],
             [
              0.4444444444444444,
              "#bd3786"
             ],
             [
              0.5555555555555556,
              "#d8576b"
             ],
             [
              0.6666666666666666,
              "#ed7953"
             ],
             [
              0.7777777777777778,
              "#fb9f3a"
             ],
             [
              0.8888888888888888,
              "#fdca26"
             ],
             [
              1,
              "#f0f921"
             ]
            ],
            "type": "histogram2dcontour"
           }
          ],
          "mesh3d": [
           {
            "colorbar": {
             "outlinewidth": 0,
             "ticks": ""
            },
            "type": "mesh3d"
           }
          ],
          "parcoords": [
           {
            "line": {
             "colorbar": {
              "outlinewidth": 0,
              "ticks": ""
             }
            },
            "type": "parcoords"
           }
          ],
          "pie": [
           {
            "automargin": true,
            "type": "pie"
           }
          ],
          "scatter": [
           {
            "marker": {
             "line": {
              "color": "#283442"
             }
            },
            "type": "scatter"
           }
          ],
          "scatter3d": [
           {
            "line": {
             "colorbar": {
              "outlinewidth": 0,
              "ticks": ""
             }
            },
            "marker": {
             "colorbar": {
              "outlinewidth": 0,
              "ticks": ""
             }
            },
            "type": "scatter3d"
           }
          ],
          "scattercarpet": [
           {
            "marker": {
             "colorbar": {
              "outlinewidth": 0,
              "ticks": ""
             }
            },
            "type": "scattercarpet"
           }
          ],
          "scattergeo": [
           {
            "marker": {
             "colorbar": {
              "outlinewidth": 0,
              "ticks": ""
             }
            },
            "type": "scattergeo"
           }
          ],
          "scattergl": [
           {
            "marker": {
             "line": {
              "color": "#283442"
             }
            },
            "type": "scattergl"
           }
          ],
          "scattermap": [
           {
            "marker": {
             "colorbar": {
              "outlinewidth": 0,
              "ticks": ""
             }
            },
            "type": "scattermap"
           }
          ],
          "scattermapbox": [
           {
            "marker": {
             "colorbar": {
              "outlinewidth": 0,
              "ticks": ""
             }
            },
            "type": "scattermapbox"
           }
          ],
          "scatterpolar": [
           {
            "marker": {
             "colorbar": {
              "outlinewidth": 0,
              "ticks": ""
             }
            },
            "type": "scatterpolar"
           }
          ],
          "scatterpolargl": [
           {
            "marker": {
             "colorbar": {
              "outlinewidth": 0,
              "ticks": ""
             }
            },
            "type": "scatterpolargl"
           }
          ],
          "scatterternary": [
           {
            "marker": {
             "colorbar": {
              "outlinewidth": 0,
              "ticks": ""
             }
            },
            "type": "scatterternary"
           }
          ],
          "surface": [
           {
            "colorbar": {
             "outlinewidth": 0,
             "ticks": ""
            },
            "colorscale": [
             [
              0,
              "#0d0887"
             ],
             [
              0.1111111111111111,
              "#46039f"
             ],
             [
              0.2222222222222222,
              "#7201a8"
             ],
             [
              0.3333333333333333,
              "#9c179e"
             ],
             [
              0.4444444444444444,
              "#bd3786"
             ],
             [
              0.5555555555555556,
              "#d8576b"
             ],
             [
              0.6666666666666666,
              "#ed7953"
             ],
             [
              0.7777777777777778,
              "#fb9f3a"
             ],
             [
              0.8888888888888888,
              "#fdca26"
             ],
             [
              1,
              "#f0f921"
             ]
            ],
            "type": "surface"
           }
          ],
          "table": [
           {
            "cells": {
             "fill": {
              "color": "#506784"
             },
             "line": {
              "color": "rgb(17,17,17)"
             }
            },
            "header": {
             "fill": {
              "color": "#2a3f5f"
             },
             "line": {
              "color": "rgb(17,17,17)"
             }
            },
            "type": "table"
           }
          ]
         },
         "layout": {
          "annotationdefaults": {
           "arrowcolor": "#f2f5fa",
           "arrowhead": 0,
           "arrowwidth": 1
          },
          "autotypenumbers": "strict",
          "coloraxis": {
           "colorbar": {
            "outlinewidth": 0,
            "ticks": ""
           }
          },
          "colorscale": {
           "diverging": [
            [
             0,
             "#8e0152"
            ],
            [
             0.1,
             "#c51b7d"
            ],
            [
             0.2,
             "#de77ae"
            ],
            [
             0.3,
             "#f1b6da"
            ],
            [
             0.4,
             "#fde0ef"
            ],
            [
             0.5,
             "#f7f7f7"
            ],
            [
             0.6,
             "#e6f5d0"
            ],
            [
             0.7,
             "#b8e186"
            ],
            [
             0.8,
             "#7fbc41"
            ],
            [
             0.9,
             "#4d9221"
            ],
            [
             1,
             "#276419"
            ]
           ],
           "sequential": [
            [
             0,
             "#0d0887"
            ],
            [
             0.1111111111111111,
             "#46039f"
            ],
            [
             0.2222222222222222,
             "#7201a8"
            ],
            [
             0.3333333333333333,
             "#9c179e"
            ],
            [
             0.4444444444444444,
             "#bd3786"
            ],
            [
             0.5555555555555556,
             "#d8576b"
            ],
            [
             0.6666666666666666,
             "#ed7953"
            ],
            [
             0.7777777777777778,
             "#fb9f3a"
            ],
            [
             0.8888888888888888,
             "#fdca26"
            ],
            [
             1,
             "#f0f921"
            ]
           ],
           "sequentialminus": [
            [
             0,
             "#0d0887"
            ],
            [
             0.1111111111111111,
             "#46039f"
            ],
            [
             0.2222222222222222,
             "#7201a8"
            ],
            [
             0.3333333333333333,
             "#9c179e"
            ],
            [
             0.4444444444444444,
             "#bd3786"
            ],
            [
             0.5555555555555556,
             "#d8576b"
            ],
            [
             0.6666666666666666,
             "#ed7953"
            ],
            [
             0.7777777777777778,
             "#fb9f3a"
            ],
            [
             0.8888888888888888,
             "#fdca26"
            ],
            [
             1,
             "#f0f921"
            ]
           ]
          },
          "colorway": [
           "#636efa",
           "#EF553B",
           "#00cc96",
           "#ab63fa",
           "#FFA15A",
           "#19d3f3",
           "#FF6692",
           "#B6E880",
           "#FF97FF",
           "#FECB52"
          ],
          "font": {
           "color": "#f2f5fa"
          },
          "geo": {
           "bgcolor": "rgb(17,17,17)",
           "lakecolor": "rgb(17,17,17)",
           "landcolor": "rgb(17,17,17)",
           "showlakes": true,
           "showland": true,
           "subunitcolor": "#506784"
          },
          "hoverlabel": {
           "align": "left"
          },
          "hovermode": "closest",
          "mapbox": {
           "style": "dark"
          },
          "paper_bgcolor": "rgb(17,17,17)",
          "plot_bgcolor": "rgb(17,17,17)",
          "polar": {
           "angularaxis": {
            "gridcolor": "#506784",
            "linecolor": "#506784",
            "ticks": ""
           },
           "bgcolor": "rgb(17,17,17)",
           "radialaxis": {
            "gridcolor": "#506784",
            "linecolor": "#506784",
            "ticks": ""
           }
          },
          "scene": {
           "xaxis": {
            "backgroundcolor": "rgb(17,17,17)",
            "gridcolor": "#506784",
            "gridwidth": 2,
            "linecolor": "#506784",
            "showbackground": true,
            "ticks": "",
            "zerolinecolor": "#C8D4E3"
           },
           "yaxis": {
            "backgroundcolor": "rgb(17,17,17)",
            "gridcolor": "#506784",
            "gridwidth": 2,
            "linecolor": "#506784",
            "showbackground": true,
            "ticks": "",
            "zerolinecolor": "#C8D4E3"
           },
           "zaxis": {
            "backgroundcolor": "rgb(17,17,17)",
            "gridcolor": "#506784",
            "gridwidth": 2,
            "linecolor": "#506784",
            "showbackground": true,
            "ticks": "",
            "zerolinecolor": "#C8D4E3"
           }
          },
          "shapedefaults": {
           "line": {
            "color": "#f2f5fa"
           }
          },
          "sliderdefaults": {
           "bgcolor": "#C8D4E3",
           "bordercolor": "rgb(17,17,17)",
           "borderwidth": 1,
           "tickwidth": 0
          },
          "ternary": {
           "aaxis": {
            "gridcolor": "#506784",
            "linecolor": "#506784",
            "ticks": ""
           },
           "baxis": {
            "gridcolor": "#506784",
            "linecolor": "#506784",
            "ticks": ""
           },
           "bgcolor": "rgb(17,17,17)",
           "caxis": {
            "gridcolor": "#506784",
            "linecolor": "#506784",
            "ticks": ""
           }
          },
          "title": {
           "x": 0.05
          },
          "updatemenudefaults": {
           "bgcolor": "#506784",
           "borderwidth": 0
          },
          "xaxis": {
           "automargin": true,
           "gridcolor": "#283442",
           "linecolor": "#506784",
           "ticks": "",
           "title": {
            "standoff": 15
           },
           "zerolinecolor": "#283442",
           "zerolinewidth": 2
          },
          "yaxis": {
           "automargin": true,
           "gridcolor": "#283442",
           "linecolor": "#506784",
           "ticks": "",
           "title": {
            "standoff": 15
           },
           "zerolinecolor": "#283442",
           "zerolinewidth": 2
          }
         }
        },
        "title": {},
        "width": 1000,
        "xaxis": {
         "gridcolor": "rgba(128, 128, 128, 0.2)",
         "title": {
          "text": "Layer"
         },
         "zeroline": false
        },
        "yaxis": {
         "gridcolor": "rgba(128, 128, 128, 0.2)",
         "title": {
          "text": "Direction F1 Score"
         },
         "zeroline": false
        }
       }
      }
     },
     "metadata": {},
     "output_type": "display_data"
    },
    {
     "name": "stdout",
     "output_type": "stream",
     "text": [
      "conf=('llama3.1_8b_chat', 'birth_years_4k', 'base', 'main', 'prompt_answer')\n",
      "conf=('llama3.1_8b_chat', 'birth_years_4k', 'base', 'main', 'prompt_only')\n",
      "conf=('llama3.1_8b_chat', 'cities_10k', 'base', 'main', 'prompt_answer')\n",
      "conf=('llama3.1_8b_chat', 'cities_10k', 'base', 'main', 'prompt_only')\n",
      "conf=('llama3.1_8b_chat', 'football_leagues_1k', 'base', 'main', 'prompt_answer')\n",
      "conf=('llama3.1_8b_chat', 'football_leagues_1k', 'base', 'main', 'prompt_only')\n",
      "conf=('llama3.1_8b_chat', 'gsm8k', 'base_3_shot', 'main', 'prompt_answer')\n",
      "conf=('llama3.1_8b_chat', 'gsm8k', 'base_3_shot', 'main', 'prompt_only')\n",
      "conf=('llama3.1_8b_chat', 'gsm8k', 'cot_3_shot', 'main', 'prompt_answer')\n",
      "conf=('llama3.1_8b_chat', 'gsm8k', 'cot_3_shot', 'main', 'prompt_only')\n",
      "conf=('llama3.1_8b_chat', 'medals_9k', 'base', 'main', 'prompt_answer')\n",
      "conf=('llama3.1_8b_chat', 'medals_9k', 'base', 'main', 'prompt_only')\n"
     ]
    },
    {
     "data": {
      "application/vnd.plotly.v1+json": {
       "config": {
        "plotlyServerURL": "https://plot.ly"
       },
       "data": [
        {
         "legendgroup": "('llama3.1_8b_chat', 'birth_years_4k', 'base', 'main', 'prompt_answer')",
         "line": {
          "color": "#1f77b4",
          "width": 2
         },
         "marker": {
          "size": 8
         },
         "mode": "lines+markers",
         "name": "('llama3.1_8b_chat', 'birth_years_4k', 'base', 'main', 'prompt_answer')",
         "type": "scatter",
         "x": {
          "bdata": "AAECAwQFBgcICQoLDA0ODxAREhMUFRYXGBkaGxwdHh8=",
          "dtype": "i1"
         },
         "y": {
          "bdata": "WqAB5Uu04T/iRfjefZ7jP7L/+Pf8WOQ/SnXz211H5D8ZqAjVpxnlPw1JHuA4huU/9WMWY6ku5j9o8fZFHYPmPx4fkQ8JeeY/m87Erf9z5j+zbIsUBZHmP8vuMHTTaOY/JbiU/Ci85j/tlRA/PszmPz3YRBXPu+Y/A+1m8p/U5j+9B/+hWLzmP3zjHwf/eeY/6BElpaEH5z/G6zH1EYbmPzcu2fk9ROY/WO5l9lSe5j9Fbhy2A3HmP7IPUIm0OOY/n3Yz30R/5j86eY1DeoTmP1Aey5KyX+Y/G5XFajST5j+23JiGl3nmP7o60oOl7uY/yu9gJ5nj5j8PpfpRv6rmPw==",
          "dtype": "f8"
         }
        },
        {
         "legendgroup": "('llama3.1_8b_chat', 'birth_years_4k', 'base', 'main', 'prompt_answer')",
         "line": {
          "width": 0
         },
         "mode": "lines",
         "name": "('llama3.1_8b_chat', 'birth_years_4k', 'base', 'main', 'prompt_answer') Max",
         "showlegend": false,
         "type": "scatter",
         "x": {
          "bdata": "AAECAwQFBgcICQoLDA0ODxAREhMUFRYXGBkaGxwdHh8=",
          "dtype": "i1"
         },
         "y": {
          "bdata": "CtejcD0K4z9L1K5E7UrkP4HFKqQ9EuU/VLHhqpNH5T9kOQOnMT/mP5eWlpaWluY/RhdddNFF5z92SeXDuF/nP3mlCSs2j+c/pWAHwjs95z9wkZz1vQDnP0YXXXTRRec/aXxkAr1T5z/IqYBfuLXnPxr8Jno6t+c/1HtR70W95z9gkg+l1QvnP3OYwxzmMOc/KH3SJ33S5z9/9KMf/ejnP8ikeIFMiuc/XUFMriAm5z9VVVVVVdXnP1JtuUoa1eY/izm2a6qb5z+HBleIxJHnP9dEINdEIOc/V054pr9B5z8WcKc/YgHnP99lIkSze+c/rCiNj0yg5z+L0vjIBHrnPw==",
          "dtype": "f8"
         }
        },
        {
         "fill": "tonexty",
         "fillcolor": "rgba(31, 119, 180, 0.1)",
         "legendgroup": "('llama3.1_8b_chat', 'birth_years_4k', 'base', 'main', 'prompt_answer')",
         "line": {
          "width": 0
         },
         "mode": "lines",
         "name": "('llama3.1_8b_chat', 'birth_years_4k', 'base', 'main', 'prompt_answer') Min",
         "showlegend": false,
         "type": "scatter",
         "x": {
          "bdata": "AAECAwQFBgcICQoLDA0ODxAREhMUFRYXGBkaGxwdHh8=",
          "dtype": "i1"
         },
         "y": {
          "bdata": "pZ3CJykL4D9VVVVVVdXiP3moALMwvuM/wmh54ets4z+2Img4qfviP7RR39mo7+Q/B5qYRluA5D+oUKFChQrlP9R3Nuo7G+U/v6vFTZjf5T//RTxJjTLmPw+zgHyRKOU/ZmZmZmZm5j92Yid2YifmPyELWchCFuY/TsDz6XEz5j9AMCRbRHPmP9Ob3vSmN+U/6k1vetOb5j/nrEHxtMflP+IuzCunb+U/Ik2MrXtG5j/Cck8jLPfkPzZaozVao+U/BeOt7HNI5T8iNcF4K/vkP2IvWLJ9jeU/9Vd/9Vd/5T9VVVVVVdXlP7ab5UlkGuY/XmnCis3j5T9gpQJUq3/lPw==",
          "dtype": "f8"
         }
        },
        {
         "legendgroup": "('llama3.1_8b_chat', 'birth_years_4k', 'base', 'main', 'prompt_answer')",
         "line": {
          "width": 0
         },
         "mode": "lines",
         "name": "('llama3.1_8b_chat', 'birth_years_4k', 'base', 'main', 'prompt_answer') +1 STD",
         "showlegend": false,
         "type": "scatter",
         "x": {
          "bdata": "AAECAwQFBgcICQoLDA0ODxAREhMUFRYXGBkaGxwdHh8=",
          "dtype": "i1"
         },
         "y": {
          "bdata": "oYlnPf7q4j9sZl2dYi3kP/Ph6wBD1eQ/7YoQCswC5T9DVOt3lIrmP6keBzsKLOY/QBwBrX1J5z+PRmAiQ3bnP8FlDpdyZOc/uwEL+hsX5z8ulpvqNujmPxO6IZf+Muc/+adrEEol5z+yFGYHCG/nP/vkEodMWec//rG/kKtr5z9VVGt3oAHnPxlM3AvtW+c/7Pe0Q52E5z8iYgiHt2fnP5UCdTQ8IOc/EQmkLeH75j+RLe92gKrnP4Y8TopfwuY/1VyZ+aZ45z/IAYL+uH3nPxmkGntKCec/Ris1UwBF5z9nc0Gj+ufmPy6ezlt1e+c/P1IvLQaT5z88Ona6xHznPw==",
          "dtype": "f8"
         }
        },
        {
         "fill": "tonexty",
         "fillcolor": "rgba(31, 119, 180, 0.3)",
         "legendgroup": "('llama3.1_8b_chat', 'birth_years_4k', 'base', 'main', 'prompt_answer')",
         "line": {
          "width": 0
         },
         "mode": "lines",
         "name": "('llama3.1_8b_chat', 'birth_years_4k', 'base', 'main', 'prompt_answer') -1 STD",
         "showlegend": false,
         "type": "scatter",
         "x": {
          "bdata": "AAECAwQFBgcICQoLDA0ODxAREhMUFRYXGBkaGxwdHh8=",
          "dtype": "i1"
         },
         "y": {
          "bdata": "E7ebjJl94D9YJZMgmQ/jP3EdBu+23OM/p1/Wre+L4z/v+yUyu6jjP3FzNYVn4OQ/qqsrGdUT5T9BnI1p94/lP3vYE4ifjeU/e5t+YePQ5T84Q3s+0znmP4MjQFGonuU/Uci96AdT5j8oF7t2dCnmP3/LdqNRHuY/CCgOVJQ95j8lu5LMEHfmP996YwIRmOU/5CuVBqaK5j9qdVtjbKTlP9lZPb8/aOU/n9Mnv8hA5j/5rkn1hjflP97iUYgJr+U/aZDNxOKF5T+s8JiIO4vlP4eYe6oatuU/8P5Vgmjh5T8FRvBpNAvmP0bX1avVYeY/VY2SISw05j/iD3/pudjlPw==",
          "dtype": "f8"
         }
        },
        {
         "legendgroup": "('llama3.1_8b_chat', 'birth_years_4k', 'base', 'main', 'prompt_answer')",
         "marker": {
          "color": "#1f77b4",
          "opacity": 0.5,
          "size": 6
         },
         "mode": "markers",
         "name": "('llama3.1_8b_chat', 'birth_years_4k', 'base', 'main', 'prompt_answer') Fold ('logistic_regression_f1_score', 0)",
         "showlegend": false,
         "type": "scatter",
         "x": {
          "bdata": "AAECAwQFBgcICQoLDA0ODxAREhMUFRYXGBkaGxwdHh8=",
          "dtype": "i1"
         },
         "y": {
          "bdata": "ZJBfec6o4j/Fx323FPrjP541Q91ZM+Q/tcaubyar5D8vuuiiiy7mP5eWlpaWluY/RhdddNFF5z92SeXDuF/nP3mlCSs2j+c/pWAHwjs95z9wkZz1vQDnP0YXXXTRRec/cJGc9b0A5z9pJTHhMezmP2pTm9rUpuY/pqbNLg4M5z8RQ8F8UeXmP3OYwxzmMOc/KH3SJ33S5z9/9KMf/ejnP8ikeIFMiuc/SW0ltZXU5j8EE/2drJbnPxdswRZsweY/izm2a6qb5z+HBleIxJHnP9dEINdEIOc/vTGCif5O5j9qU5va1KbmP9dEINdEIOc/XmnCis3j5T+hL+gL+oLmPw==",
          "dtype": "f8"
         }
        },
        {
         "legendgroup": "('llama3.1_8b_chat', 'birth_years_4k', 'base', 'main', 'prompt_answer')",
         "marker": {
          "color": "#1f77b4",
          "opacity": 0.5,
          "size": 6
         },
         "mode": "markers",
         "name": "('llama3.1_8b_chat', 'birth_years_4k', 'base', 'main', 'prompt_answer') Fold ('logistic_regression_f1_score', 1)",
         "showlegend": false,
         "type": "scatter",
         "x": {
          "bdata": "AAECAwQFBgcICQoLDA0ODxAREhMUFRYXGBkaGxwdHh8=",
          "dtype": "i1"
         },
         "y": {
          "bdata": "IpcVAyW84T9L1K5E7UrkP4HFKqQ9EuU/VLHhqpNH5T8Dk07Ng9zlPzSCdw5/OuU/rxV84kiv5T8hWzjmgHvmP4gwyFmyv+Y/G/Z3MagI5z95dOA935jmP3RITTDeyuY/aXxkAr1T5z9iTIDtejrmP9u4zwNeZOY/TsDz6XEz5j9gkg+l1QvnP2tjaLqD/eY/d2FeOX2r5j9vN+Ww7MzlP+IuzCunb+U/TybtcsdY5j/Cck8jLPfkPzZaozVao+U/BeOt7HNI5T8iNcF4K/vkP5NvvBDpKOY/wJtHqD7T5j8g0QqbA4nmP+jHlbkNreY/rCiNj0yg5z+L0vjIBHrnPw==",
          "dtype": "f8"
         }
        },
        {
         "legendgroup": "('llama3.1_8b_chat', 'birth_years_4k', 'base', 'main', 'prompt_answer')",
         "marker": {
          "color": "#1f77b4",
          "opacity": 0.5,
          "size": 6
         },
         "mode": "markers",
         "name": "('llama3.1_8b_chat', 'birth_years_4k', 'base', 'main', 'prompt_answer') Fold ('logistic_regression_f1_score', 2)",
         "showlegend": false,
         "type": "scatter",
         "x": {
          "bdata": "AAECAwQFBgcICQoLDA0ODxAREhMUFRYXGBkaGxwdHh8=",
          "dtype": "i1"
         },
         "y": {
          "bdata": "CtejcD0K4z96cYjCoJbjPxYTR4SLPOQ/IsFC61/E4z9kOQOnMT/mP7RR39mo7+Q/fnopQHfY5j9VVVVVVVXmP5PuMqZ8HeY/q6qqqqoq5j80svSQJsbmP+lQg92ZjOY/ZmZmZmZm5j/IqYBfuLXnP7UlbUlb0uY/1HtR70W95z9AMCRbRHPmP0CgjyhDG+c/Z3kSmYbt5j9VVVVVVVXmP5hT8HIKXuY/n4USTK995j91dtw9uuHlPwa/iZ7O7eU/YU2op+wV5j9GRkZGRkbmP2IvWLJ9jeU/9Vd/9Vd/5T9VVVVVVdXlP7ab5UlkGuY/orE+NNaH5j9gpQJUq3/lPw==",
          "dtype": "f8"
         }
        },
        {
         "legendgroup": "('llama3.1_8b_chat', 'birth_years_4k', 'base', 'main', 'prompt_answer')",
         "marker": {
          "color": "#1f77b4",
          "opacity": 0.5,
          "size": 6
         },
         "mode": "markers",
         "name": "('llama3.1_8b_chat', 'birth_years_4k', 'base', 'main', 'prompt_answer') Fold ('logistic_regression_f1_score', 3)",
         "showlegend": false,
         "type": "scatter",
         "x": {
          "bdata": "AAECAwQFBgcICQoLDA0ODxAREhMUFRYXGBkaGxwdHh8=",
          "dtype": "i1"
         },
         "y": {
          "bdata": "kYUsZCEL4T+O+s5GfWfjP8pHJx+dfOQ/wmh54ets4z+2Img4qfviP0qozHfoNuU/B5qYRluA5D+oUKFChQrlP9R3Nuo7G+U/3VvoeNfz5T9kIQtZyELmPw+zgHyRKOU/F2iBFmiB5j92Yid2YifmPyELWchCFuY/wNCIOkeR5j+ry7BX+nPmP9Ob3vSmN+U/6k1vetOb5j+2bNmyZcvmP8ln3WCKfOY/XUFMriAm5z9VVVVVVdXnP1JtuUoa1eY/lYqzD59h5z+3bdu2bdvmPzwb9Z2N+uY/V054pr9B5z8WcKc/YgHnP0YXXXTRRec/x3Ecx3Ec5z+d8Ex/g27nPw==",
          "dtype": "f8"
         }
        },
        {
         "legendgroup": "('llama3.1_8b_chat', 'birth_years_4k', 'base', 'main', 'prompt_answer')",
         "marker": {
          "color": "#1f77b4",
          "opacity": 0.5,
          "size": 6
         },
         "mode": "markers",
         "name": "('llama3.1_8b_chat', 'birth_years_4k', 'base', 'main', 'prompt_answer') Fold ('logistic_regression_f1_score', 4)",
         "showlegend": false,
         "type": "scatter",
         "x": {
          "bdata": "AAECAwQFBgcICQoLDA0ODxAREhMUFRYXGBkaGxwdHh8=",
          "dtype": "i1"
         },
         "y": {
          "bdata": "pZ3CJykL4D9VVVVVVdXiP3moALMwvuM/gqh0ZM9A5D8sn4jZXDrkP3da3Wl1p+U/T7LUEWKb5j90bL4bflTnPzJfmjiM1eY/v6vFTZjf5T//RTxJjTLmP0ZGRkZGRuY/Xrz+eYNw5j+Xb/mWb/nmPxr8Jno6t+c/h+1meRKZ5j9VVVVVVdXmP3g5BS+n4OU/mrMGxdMe5z/nrEHxtMflPwtYK2CtgOU/Ik2MrXtG5j/G1Q86KvDlP91b6HjX8+U/mVxBTK4g5j98bolTv+fmP4qYzaVDDeY/v3UaSLH85j+WZVmWZVnmP99lIkSze+c/fPk5r5tJ5z8jobTxjmrmPw==",
          "dtype": "f8"
         }
        },
        {
         "legendgroup": "('llama3.1_8b_chat', 'birth_years_4k', 'base', 'main', 'prompt_only')",
         "line": {
          "color": "#ff7f0e",
          "width": 2
         },
         "marker": {
          "size": 8
         },
         "mode": "lines+markers",
         "name": "('llama3.1_8b_chat', 'birth_years_4k', 'base', 'main', 'prompt_only')",
         "type": "scatter",
         "x": {
          "bdata": "AAECAwQFBgcICQoLDA0ODxAREhMUFRYXGBkaGxwdHh8=",
          "dtype": "i1"
         },
         "y": {
          "bdata": "c5idyN4a4T9Wua/xj/HiP3oV4ZVcVuM/KFfKszdZ5D+dX9l4Cw/lPydgKM4K5OU/Jh7hvKH85T+11tY5phjmP13CtkbVD+Y/TutRiUPb5T8zU5Fa/nbmP8gV7kW/keY/yJ8n+SBr5j+iK64rfFvmP1cAK5WejOY/HgTSJV475j+FNrAQI2PmP62D7i4hHOY/QKTWDggH5j/7qulBcK7mPz1HDwKsv+Y/MptZ48W05j/3ZLycMX3mP7LBHPDFqeY/WNcR+Nqk5j+e3lRm6ITmP1jeBZHdp+Y/6jDR+fcg5j/OsE8/okvmP/oHBb4GH+Y/aCR3me0K5j9hVBKJhBLmPw==",
          "dtype": "f8"
         }
        },
        {
         "legendgroup": "('llama3.1_8b_chat', 'birth_years_4k', 'base', 'main', 'prompt_only')",
         "line": {
          "width": 0
         },
         "mode": "lines",
         "name": "('llama3.1_8b_chat', 'birth_years_4k', 'base', 'main', 'prompt_only') Max",
         "showlegend": false,
         "type": "scatter",
         "x": {
          "bdata": "AAECAwQFBgcICQoLDA0ODxAREhMUFRYXGBkaGxwdHh8=",
          "dtype": "i1"
         },
         "y": {
          "bdata": "ElvtEVvt4T/PHIwG2nXkP3nX85XGbuQ/RBQGtZzI5T9SLetA273lP+UWT27x5OY/Um25ShrV5j/IR5W3BY3mP1JtuUoa1eY/ujJdma5M5z/JmNbwtXjnP+539MrYfuc/BqbyTjgX6D96fBcOosfnP+OSIVhHm+c/zJJyQGS45z9605ve9KbnPzgT1D+3gec/x3Ecx3Ec5z/nKNIC9HLnP2X8dqkn4+c/rCiNj0yg5z80NeNd+vDnPxwpGuKPW+c/rkJ43SqE5z+zfwtL3EznP/ntUk/Gb+c/BGXva0JQ5j8Zmu5gv9XmP8fQdAf7reY/SYRUyzrQ5j97JCrLy6TmPw==",
          "dtype": "f8"
         }
        },
        {
         "fill": "tonexty",
         "fillcolor": "rgba(255, 127, 14, 0.1)",
         "legendgroup": "('llama3.1_8b_chat', 'birth_years_4k', 'base', 'main', 'prompt_only')",
         "line": {
          "width": 0
         },
         "mode": "lines",
         "name": "('llama3.1_8b_chat', 'birth_years_4k', 'base', 'main', 'prompt_only') Min",
         "showlegend": false,
         "type": "scatter",
         "x": {
          "bdata": "AAECAwQFBgcICQoLDA0ODxAREhMUFRYXGBkaGxwdHh8=",
          "dtype": "i1"
         },
         "y": {
          "bdata": "JnnIjv6V4D+5mOx2kobhP89ySf9WiuI/2zXVzQvQ4j8ifgEyC/fjPxZ1RV1RV+Q/MJIfSsQa5T+3FPqTjEXlPxsv3SQGgeU/5eTk5OTk5D+PXhnb7+jlPwLpWMok2OU/ZDV7ku9j5T+IS/HpXo7lP1EFKaogReU/VVVVVVVV5T/hjabOrz3kP8TDw8PDw+M/S9SuRO1K5D8FFVRQQQXlP2rlMq1cpuU/Df1LG4HD5T+ZkHTGSZTlP1boDFboDOY/K1tdgLCy5T8WX/EVX/HlP1sNniNQtOU/MWVeEVPm5T+WWqmVWqnlP1VVVVVVVeU/CHkXYKF05T+R1gvY5nTlPw==",
          "dtype": "f8"
         }
        },
        {
         "legendgroup": "('llama3.1_8b_chat', 'birth_years_4k', 'base', 'main', 'prompt_only')",
         "line": {
          "width": 0
         },
         "mode": "lines",
         "name": "('llama3.1_8b_chat', 'birth_years_4k', 'base', 'main', 'prompt_only') +1 STD",
         "showlegend": false,
         "type": "scatter",
         "x": {
          "bdata": "AAECAwQFBgcICQoLDA0ODxAREhMUFRYXGBkaGxwdHh8=",
          "dtype": "i1"
         },
         "y": {
          "bdata": "0XNybHmz4T8X8K5swAPkP5YqJ/dODeQ/LXnvH2Gh5T8oinSNbMHlP1jp0WSw8+Y/180H66nA5j/SysV2y57mP9Q6t0xym+Y/nNtl20nk5j8D3hbtZBznPz2gMVqEQ+c/J2Tw8BeC5z9H73FK+DXnP4R76KsAo+c/kZGebC4o5z/kBbEeNMTnP0S+79Renec/PtRiGiQt5z/dtRh9JK3nP+mh/srituc/QyYdJSeP5z/k6wPJbWvnP031TzBnPOc/hvU1G5d95z/eSUFdQAznP8rLkbtPR+c/rsdIEfRN5j9pe1Taj9DmP3ygRz9DouY/UmNwGlKZ5j9mFntkaYrmPw==",
          "dtype": "f8"
         }
        },
        {
         "fill": "tonexty",
         "fillcolor": "rgba(255, 127, 14, 0.3)",
         "legendgroup": "('llama3.1_8b_chat', 'birth_years_4k', 'base', 'main', 'prompt_only')",
         "line": {
          "width": 0
         },
         "mode": "lines",
         "name": "('llama3.1_8b_chat', 'birth_years_4k', 'base', 'main', 'prompt_only') -1 STD",
         "showlegend": false,
         "type": "scatter",
         "x": {
          "bdata": "AAECAwQFBgcICQoLDA0ODxAREhMUFRYXGBkaGxwdHh8=",
          "dtype": "i1"
         },
         "y": {
          "bdata": "Fb3IJESC4D+VgrB2X9/hP14AmzRqn+I/IzWlRw4R4z8SNT5kqlzkP/bWfjdl1OQ/dW66jpk45T+Y4uf8gJLlP+ZJtkA4hOU/APs9Nz3S5D9jyAvIl9HlP1OLqjH63+U/adteASpU5T/9Z+oMAIHlPyqFbX48duU/q3YF341O5T8mZ68CEgLlPxZJ7YjjmuQ/QnRKA+zg5D8ZoLoGvK/lP5HsHzl1yOU/IRCWoWTa5T8K3nRw9Y7lPxeO6a8kF+Y/Krnt1B7M5T9ec2hvkP3lP+bweWZrCOY/JppZ4vvz5T8z5kqktMblP3hvwjzKm+U/fuV9GIl85T9ckqmtn5rlPw==",
          "dtype": "f8"
         }
        },
        {
         "legendgroup": "('llama3.1_8b_chat', 'birth_years_4k', 'base', 'main', 'prompt_only')",
         "marker": {
          "color": "#ff7f0e",
          "opacity": 0.5,
          "size": 6
         },
         "mode": "markers",
         "name": "('llama3.1_8b_chat', 'birth_years_4k', 'base', 'main', 'prompt_only') Fold ('logistic_regression_f1_score', 0)",
         "showlegend": false,
         "type": "scatter",
         "x": {
          "bdata": "AAECAwQFBgcICQoLDA0ODxAREhMUFRYXGBkaGxwdHh8=",
          "dtype": "i1"
         },
         "y": {
          "bdata": "ElvtEVvt4T8k9H5WvC7jP89ySf9WiuI/2zXVzQvQ4j8ifgEyC/fjP0YXXXTRReU/4OK0ZvtE5T+3FPqTjEXlP4BpI3C48uU/5eTk5OTk5D+PXhnb7+jlPwLpWMok2OU/VFhPYT2F5T+JO+KOuCPmP1EFKaogReU/VVVVVVVV5T/hjabOrz3kP8TDw8PDw+M/S9SuRO1K5D8FFVRQQQXlP2rlMq1cpuU/Df1LG4HD5T+ZkHTGSZTlP1boDFboDOY/K1tdgLCy5T8WX/EVX/HlP1sNniNQtOU/MWVeEVPm5T8g5F2AhdLlP1VVVVVVVeU/CHkXYKF05T+R1gvY5nTlPw==",
          "dtype": "f8"
         }
        },
        {
         "legendgroup": "('llama3.1_8b_chat', 'birth_years_4k', 'base', 'main', 'prompt_only')",
         "marker": {
          "color": "#ff7f0e",
          "opacity": 0.5,
          "size": 6
         },
         "mode": "markers",
         "name": "('llama3.1_8b_chat', 'birth_years_4k', 'base', 'main', 'prompt_only') Fold ('logistic_regression_f1_score', 1)",
         "showlegend": false,
         "type": "scatter",
         "x": {
          "bdata": "AAECAwQFBgcICQoLDA0ODxAREhMUFRYXGBkaGxwdHh8=",
          "dtype": "i1"
         },
         "y": {
          "bdata": "JnnIjv6V4D/SJ33SJ33iP7pqifVgW+M/J3VfHlsR5D+Z6Ph5NEblP+UWT27x5OY/Um25ShrV5j/aqO9s1HfmP1JtuUoa1eY/P+mTPumT5j9h4v3Iab7mP+hpbXSCnuY/GQrmiyq35j9mZmZmZmbmP+OSIVhHm+c/RmVURmVU5j9605ve9KbnPzgT1D+3gec/W8CYxMH75j/nKNIC9HLnP6QF6OWuGOc/ZHhxHjqG5z97XxOCsvflP/LLznJJ/+Y/J3ZiJ3Zi5z9jAd7AirjmP2HIgSam0eY/BGXva0JQ5j+r2KKcL5nmPzLGGGOMMeY/uopl45uh5T8EZe9rQlDmPw==",
          "dtype": "f8"
         }
        },
        {
         "legendgroup": "('llama3.1_8b_chat', 'birth_years_4k', 'base', 'main', 'prompt_only')",
         "marker": {
          "color": "#ff7f0e",
          "opacity": 0.5,
          "size": 6
         },
         "mode": "markers",
         "name": "('llama3.1_8b_chat', 'birth_years_4k', 'base', 'main', 'prompt_only') Fold ('logistic_regression_f1_score', 2)",
         "showlegend": false,
         "type": "scatter",
         "x": {
          "bdata": "AAECAwQFBgcICQoLDA0ODxAREhMUFRYXGBkaGxwdHh8=",
          "dtype": "i1"
         },
         "y": {
          "bdata": "Wq+r7UnN4D+5mOx2kobhP+5FydFbdeM/5RsvRDqK5T/PBAwey3vlP59DaoLxVuY/EfTjytyG5j9JFuOvfEnmPzkgMtyrYOY/ujJdma5M5z/JmNbwtXjnP+539MrYfuc/BqbyTjgX6D96fBcOosfnPwvhdasQXuc/zJJyQGS45z8mtJfQXkLnP02AfodaO+c/x3Ecx3Ec5z+6Ml2ZrkznP2X8dqkn4+c/rCiNj0yg5z8TMHgs79XmP0mEVMs60OY/rkJ43SqE5z+zfwtL3EznP/ntUk/Gb+c/TsDz6XEz5j8Zmu5gv9XmP8fQdAf7reY/SYRUyzrQ5j8kfbk0v8HlPw==",
          "dtype": "f8"
         }
        },
        {
         "legendgroup": "('llama3.1_8b_chat', 'birth_years_4k', 'base', 'main', 'prompt_only')",
         "marker": {
          "color": "#ff7f0e",
          "opacity": 0.5,
          "size": 6
         },
         "mode": "markers",
         "name": "('llama3.1_8b_chat', 'birth_years_4k', 'base', 'main', 'prompt_only') Fold ('logistic_regression_f1_score', 3)",
         "showlegend": false,
         "type": "scatter",
         "x": {
          "bdata": "AAECAwQFBgcICQoLDA0ODxAREhMUFRYXGBkaGxwdHh8=",
          "dtype": "i1"
         },
         "y": {
          "bdata": "q6qqqqqq4D/PHIwG2nXkP3nX85XGbuQ/RBQGtZzI5T81RU1RU9TkPxZ1RV1RV+Q/MJIfSsQa5T/nFdC4W+flPxsv3SQGgeU/O1YgjLRj5T95NVB4tA7mP8bVDzoq8OU/ZDV7ku9j5T+IS/HpXo7lPwAAAAAAgOU/CnFWfkKc5T82XdM1XdPlP6rMI/FhneU/qswj8WGd5T+hJWgJWoLmP3ZlXVlX1uU/AAAAAAAA5j92o8o8Eh/mP8tmRTrhGOY/dl3XdV3X5T92Yid2YifmP2z9E6UAu+Y/1l/91V/95T+WWqmVWqnlP/3b0HevbOY/Br+Jns7t5T+vyHxp4jDmPw==",
          "dtype": "f8"
         }
        },
        {
         "legendgroup": "('llama3.1_8b_chat', 'birth_years_4k', 'base', 'main', 'prompt_only')",
         "marker": {
          "color": "#ff7f0e",
          "opacity": 0.5,
          "size": 6
         },
         "mode": "markers",
         "name": "('llama3.1_8b_chat', 'birth_years_4k', 'base', 'main', 'prompt_only') Fold ('logistic_regression_f1_score', 4)",
         "showlegend": false,
         "type": "scatter",
         "x": {
          "bdata": "AAECAwQFBgcICQoLDA0ODxAREhMUFRYXGBkaGxwdHh8=",
          "dtype": "i1"
         },
         "y": {
          "bdata": "BcwHsguL4T8szfkRfw/jP3Bw1ZD05eI/ntiJndiJ4z9SLetA273lP+T5bUQwm+Y/TsDz6XEz5j/IR5W3BY3mP6alpaWlpeU/bkGjZSAf5T/PkJi3MyTmP0jM2xkS8+Y/EuEiDxVg5j89cBXtTOnlP3OIFjygAOc/KlanYnUq5j/hncOfTvXmP25ubm5ubuY/KmKpiKUi5j+iwKRT8yDnP0YXXXTRRec/3Wl1p9Wd5j80NeNd+vDnPxwpGuKPW+c/QcNJ3ZfH5j96FqZnYXrmP5eWlpaWluY/PQrXo3A95j+PwvUoXI/mP5lfZX6V+eU/+m74UV1i5j97JCrLy6TmPw==",
          "dtype": "f8"
         }
        },
        {
         "legendgroup": "('llama3.1_8b_chat', 'cities_10k', 'base', 'main', 'prompt_answer')",
         "line": {
          "color": "#2ca02c",
          "width": 2
         },
         "marker": {
          "size": 8
         },
         "mode": "lines+markers",
         "name": "('llama3.1_8b_chat', 'cities_10k', 'base', 'main', 'prompt_answer')",
         "type": "scatter",
         "x": {
          "bdata": "AAECAwQFBgcICQoLDA0ODxAREhMUFRYXGBkaGxwdHh8=",
          "dtype": "i1"
         },
         "y": {
          "bdata": "+DmbKhTW5D8lTMxEY5TkP4Climfb4OQ/Ii+2Pn8m5T8SelJMaoblP9tloHs8AOY/zkK3+dhK5j+91ii+dvbmPwpxAFMZPOc/E2GChrq65z8Pv70uUrfnPx5ayw3k0ec/u095SEm55z/DTkPAw/HnP+ZRXYGaKOg/45kLQfs66D9qHaTMtGboP+6TcGbdkug/SlU12xyt6D+CkSDZnYDoPw7xZVeDb+g/+ZSdJyoq6D/QvY+ZWVHoP5ONUm69Xeg/Nau+OrV26D+Km7CxcyDoP8rXbM6tU+g/+oaIu3UY6D+cKlpfdk3oPw5jgQ5MNug/ICrUZYIu6D+Hp2z2Ly7oPw==",
          "dtype": "f8"
         }
        },
        {
         "legendgroup": "('llama3.1_8b_chat', 'cities_10k', 'base', 'main', 'prompt_answer')",
         "line": {
          "width": 0
         },
         "mode": "lines",
         "name": "('llama3.1_8b_chat', 'cities_10k', 'base', 'main', 'prompt_answer') Max",
         "showlegend": false,
         "type": "scatter",
         "x": {
          "bdata": "AAECAwQFBgcICQoLDA0ODxAREhMUFRYXGBkaGxwdHh8=",
          "dtype": "i1"
         },
         "y": {
          "bdata": "UOG3Ccpa5T+i1dvzsA3lPw5n8TT7WeU/hWRxnyaK5T9YD1Ox+DnmP4Mp8lk3mOY/Xy+lBZPT5j/MGXPGnDHnPy6yRIDF0Oc/QnWOuxkT6D9+a93yAg/oPwT56eHvG+g/GIZhGIZh6D+14cJraqnoP10XefphTug/LINSYeL96D8qUgGjX+boP43vJb3LAOk/xbmOUZzr6D9tp1nB4QvpP2tSvaohwug//ViJ82XN6D+uCBpO6r7oP48hRExsCuk/8+6TGs4S6T/SiioRvwDpPzwej8fj8eg/Qa6JQK6J6D88JjNyD/HoPxE0nNR9eeg/O3tiws6e6D+kdRQwpM7oPw==",
          "dtype": "f8"
         }
        },
        {
         "fill": "tonexty",
         "fillcolor": "rgba(44, 160, 44, 0.1)",
         "legendgroup": "('llama3.1_8b_chat', 'cities_10k', 'base', 'main', 'prompt_answer')",
         "line": {
          "width": 0
         },
         "mode": "lines",
         "name": "('llama3.1_8b_chat', 'cities_10k', 'base', 'main', 'prompt_answer') Min",
         "showlegend": false,
         "type": "scatter",
         "x": {
          "bdata": "AAECAwQFBgcICQoLDA0ODxAREhMUFRYXGBkaGxwdHh8=",
          "dtype": "i1"
         },
         "y": {
          "bdata": "XoDjrrZW5D9bXHZo1SzkP6GmUFOoKeQ/qJzdwq/G5D96VihVlwblP8ZcJjNEsOU/VMfe2jDN5T9Bw0ndl8fmP+64EPwPz+Y/2N8qHIVO5z/MEpw7jW/nP89uwKIKn+c/d3d3d3d35z+U5sziE3nnP7yAi4kV/Oc/tiTlwoeX5z/OZeowLebnP1BP3JzsO+g/GYiBGIiB6D8AAAAAAMDnP+Lzxxyl2+c/vHjx4sWL5z/ywFW0M6XnP0i4R7hHuOc/P+OdYg+V5z/cJd0miWHnPwpMOjUPcuc/QUcsX6N55z+jTa5hb9nnPxR2Xhitvec/jQhb50SD5z8YdfFBrZHnPw==",
          "dtype": "f8"
         }
        },
        {
         "legendgroup": "('llama3.1_8b_chat', 'cities_10k', 'base', 'main', 'prompt_answer')",
         "line": {
          "width": 0
         },
         "mode": "lines",
         "name": "('llama3.1_8b_chat', 'cities_10k', 'base', 'main', 'prompt_answer') +1 STD",
         "showlegend": false,
         "type": "scatter",
         "x": {
          "bdata": "AAECAwQFBgcICQoLDA0ODxAREhMUFRYXGBkaGxwdHh8=",
          "dtype": "i1"
         },
         "y": {
          "bdata": "Z0Qhu1w55T/B40hO8/TkP0zaxf1nUeU/dKIavyl35T8CM7HBdQHmP0g2q9hLYOY/HkxtXKiv5j8sb5qd6iHnP3I/eo/hrOc/c5fZvKgG6D+xz3/0wfvnPxLEbZ2PAug/MG88lXQa6D+x4UrRMGboP5jzZzPGTeg/HN2FglDQ6D8Z6V5kz8voP9OH7FSS3Og/bV1g32Dd6D9+MgNDsvjoP6VmxsVGyeg/L30/QUax6D8zfGb3x8joP8yYceKn7+g/Ltih9MAf6T+dEXfBaMXoP67fgd/q4+g/7jlvsYmM6D9+GYY3nbnoP16lCbIhheg/6mjUhC6X6D9GhclcuaPoPw==",
          "dtype": "f8"
         }
        },
        {
         "fill": "tonexty",
         "fillcolor": "rgba(44, 160, 44, 0.3)",
         "legendgroup": "('llama3.1_8b_chat', 'cities_10k', 'base', 'main', 'prompt_answer')",
         "line": {
          "width": 0
         },
         "mode": "lines",
         "name": "('llama3.1_8b_chat', 'cities_10k', 'base', 'main', 'prompt_answer') -1 STD",
         "showlegend": false,
         "type": "scatter",
         "x": {
          "bdata": "AAECAwQFBgcICQoLDA0ODxAREhMUFRYXGBkaGxwdHh8=",
          "dtype": "i1"
         },
         "y": {
          "bdata": "iS8Vmsty5D+JtE870zPkP7RwT9FOcOQ/0LtRvtTV5D8iwfPWXgvlP26VlR4toOU/fjkBlwnm5T9OPrfeAsvmP6KihhZRy+Y/syorUMxu5z9trvto4nLnPyrwKH44oec/RjC2+x1Y5z/VuzuvVn3nPzSwUs9uA+g/qlaR/6Wl5z+7Uek0mgHoPwmg9HcoSeg/J00K19h86D+G8D1viQjoP3d7Bem/Feg/w6z7DQ6j5z9t/7g769nnP1qCM/rSy+c/PH7bgKnN5z93JeqhfnvnP+bPV71ww+c/BtShxWGk5z+6Oy6HT+HnP74g+Wp25+c/VuvTRtbF5z/IyQ+QprjnPw==",
          "dtype": "f8"
         }
        },
        {
         "legendgroup": "('llama3.1_8b_chat', 'cities_10k', 'base', 'main', 'prompt_answer')",
         "marker": {
          "color": "#2ca02c",
          "opacity": 0.5,
          "size": 6
         },
         "mode": "markers",
         "name": "('llama3.1_8b_chat', 'cities_10k', 'base', 'main', 'prompt_answer') Fold ('logistic_regression_f1_score', 0)",
         "showlegend": false,
         "type": "scatter",
         "x": {
          "bdata": "AAECAwQFBgcICQoLDA0ODxAREhMUFRYXGBkaGxwdHh8=",
          "dtype": "i1"
         },
         "y": {
          "bdata": "jd0f/Cm55D9bXHZo1SzkPw5n8TT7WeU/69WrV69e5T/Rq9KYPr/lP4Mp8lk3mOY/E9VZ4k0g5j8RrKPN+xTnP6bq7aStlec/a9c2mi/p5z+W26MeduznP/QFfUFf0Oc/FEmc7sy35z8y2k6zgsPnP1ad7scESeg/hlyRCuVe6D826frqkkjoP1BP3JzsO+g/GYiBGIiB6D/d0wjLPY3oP2tSvaohwug/Ji1EX7sn6D8j5K/ZUYvoP6UcEBnuVeg/2Ymd2Imd6D/ECIMjlgzoP6w217hdTOg/fh67JWw96D8dDq1Z2TXoP/fJnG9CFeg/Md/ItKJF6D+o8STX1WToPw==",
          "dtype": "f8"
         }
        },
        {
         "legendgroup": "('llama3.1_8b_chat', 'cities_10k', 'base', 'main', 'prompt_answer')",
         "marker": {
          "color": "#2ca02c",
          "opacity": 0.5,
          "size": 6
         },
         "mode": "markers",
         "name": "('llama3.1_8b_chat', 'cities_10k', 'base', 'main', 'prompt_answer') Fold ('logistic_regression_f1_score', 1)",
         "showlegend": false,
         "type": "scatter",
         "x": {
          "bdata": "AAECAwQFBgcICQoLDA0ODxAREhMUFRYXGBkaGxwdHh8=",
          "dtype": "i1"
         },
         "y": {
          "bdata": "IdxAnDIR5T90GeRKlc3kP6x5pXru3eQ/y/CNKDDp5D9uq/s08HXlPwAAAAAAwOU/h4aGhoaG5j/MGXPGnDHnP7hw4cKFC+c/QnwH8R3E5z9SzvH7R4LnP6wcWmQ73+c/4eUUvJyC5z/Z5UMtHhToP3m1a472Lug/IPb8w55/6D8AAAAAALDoPyXDLHP3pOg/xbmOUZzr6D+jGxZ4xp7oP55QHdyVk+g//ViJ82XN6D8oFAqFQqHoP48hRExsCuk/8+6TGs4S6T/SiioRvwDpPzwej8fj8eg/HMdxHMdx6D88JjNyD/HoP6d87kGAd+g/O3tiws6e6D+kdRQwpM7oPw==",
          "dtype": "f8"
         }
        },
        {
         "legendgroup": "('llama3.1_8b_chat', 'cities_10k', 'base', 'main', 'prompt_answer')",
         "marker": {
          "color": "#2ca02c",
          "opacity": 0.5,
          "size": 6
         },
         "mode": "markers",
         "name": "('llama3.1_8b_chat', 'cities_10k', 'base', 'main', 'prompt_answer') Fold ('logistic_regression_f1_score', 2)",
         "showlegend": false,
         "type": "scatter",
         "x": {
          "bdata": "AAECAwQFBgcICQoLDA0ODxAREhMUFRYXGBkaGxwdHh8=",
          "dtype": "i1"
         },
         "y": {
          "bdata": "egYMhIey5D+oTHY+rKTkPx6AgrTO9OQ/qJzdwq/G5D9YD1Ox+DnmPwigCxP50+U/VMfe2jDN5T8PrBFoSOPmP+64EPwPz+Y/2N8qHIVO5z8Yk6WgTKfnP89uwKIKn+c/I2LULweL5z98AS6Ss77nP7yAi4kV/Oc/tiTlwoeX5z/OZeowLebnP2lYFg7taOg/nCYzMHyX6D+fQCo5L4voPwAAAAAAYOg/U8QFXdHB5z8j86SeDQboP+jn5+fn5+c//3Waavn95z8///5TxbHnP0rYnoTtSeg/yMfHx8fH5z/AgAEDBgzoP4L+AKqOS+g/2IIt2IIt6D/KaYsYdB3oPw==",
          "dtype": "f8"
         }
        },
        {
         "legendgroup": "('llama3.1_8b_chat', 'cities_10k', 'base', 'main', 'prompt_answer')",
         "marker": {
          "color": "#2ca02c",
          "opacity": 0.5,
          "size": 6
         },
         "mode": "markers",
         "name": "('llama3.1_8b_chat', 'cities_10k', 'base', 'main', 'prompt_answer') Fold ('logistic_regression_f1_score', 3)",
         "showlegend": false,
         "type": "scatter",
         "x": {
          "bdata": "AAECAwQFBgcICQoLDA0ODxAREhMUFRYXGBkaGxwdHh8=",
          "dtype": "i1"
         },
         "y": {
          "bdata": "UOG3Ccpa5T+i1dvzsA3lPwY0S07oDeU/xSMGV8Yn5T96VihVlwblP/TW/cm5JOY/tvsvl6Qu5j9Bw0ndl8fmPy6yRIDF0Oc/QnWOuxkT6D9+a93yAg/oPwT56eHvG+g/GIZhGIZh6D+14cJraqnoP5iuc6yRCOg/LINSYeL96D8qUgGjX+boP43vJb3LAOk/hbpOJnfV6D9tp1nB4QvpP18eWxE0nOg/qiVPMxqQ6D+uCBpO6r7oP3vlGCIp1Og//oVPZSkO6T8DUenInoHoP7a94M0mqOg/Qa6JQK6J6D9R0jKs8XboPxE0nNR9eeg/0OxwxlJT6D91/2huVAToPw==",
          "dtype": "f8"
         }
        },
        {
         "legendgroup": "('llama3.1_8b_chat', 'cities_10k', 'base', 'main', 'prompt_answer')",
         "marker": {
          "color": "#2ca02c",
          "opacity": 0.5,
          "size": 6
         },
         "mode": "markers",
         "name": "('llama3.1_8b_chat', 'cities_10k', 'base', 'main', 'prompt_answer') Fold ('logistic_regression_f1_score', 4)",
         "showlegend": false,
         "type": "scatter",
         "x": {
          "bdata": "AAECAwQFBgcICQoLDA0ODxAREhMUFRYXGBkaGxwdHh8=",
          "dtype": "i1"
         },
         "y": {
          "bdata": "XoDjrrZW5D+i5FByKDnkP6GmUFOoKeQ/hWRxnyaK5T9LpVKpVCrlP8ZcJjNEsOU/Xy+lBZPT5j+D/Fnd2N7mP7du3bp16+Y/ljyUPbiW5z/MEpw7jW/nPyY4dxrfruc/d3d3d3d35z+U5sziE3nnP10XefphTug/6gZ0Uvqy5z/f8U1AaDzoPzuJ7SS2k+g/eYd4h3iH6D8AAAAAAMDnP+Lzxxyl2+c/vHjx4sWL5z/ywFW0M6XnP0i4R7hHuOc/P+OdYg+V5z/cJd0miWHnPwpMOjUPcuc/QUcsX6N55z+jTa5hb9nnPxR2Xhitvec/jQhb50SD5z8YdfFBrZHnPw==",
          "dtype": "f8"
         }
        },
        {
         "legendgroup": "('llama3.1_8b_chat', 'cities_10k', 'base', 'main', 'prompt_only')",
         "line": {
          "color": "#d62728",
          "width": 2
         },
         "marker": {
          "size": 8
         },
         "mode": "lines+markers",
         "name": "('llama3.1_8b_chat', 'cities_10k', 'base', 'main', 'prompt_only')",
         "type": "scatter",
         "x": {
          "bdata": "AAECAwQFBgcICQoLDA0ODxAREhMUFRYXGBkaGxwdHh8=",
          "dtype": "i1"
         },
         "y": {
          "bdata": "CExdcB4s4j9aTH2a3ofiP05YUr/NlOI/gh3lA8kB4z/qyjFhPOLjP4HO9mqIK+Q/aUCLbQY/5T+NMhZvNO3lP3JFhGuFpOY/atzrt7oM5z9Q5ftwwN7mP6thycVAMOc/4OR4Lb5d5z/5da6/imnnP4Rq38vcX+c/jfgyDo1+5z9uXIJ6sHHnP3U7Vu6Fjec/gzDRcLzQ5z9x8I+dcJTnP8qaakGYp+c/NQImCxiE5z9dbzZ3to3nP8OE7Lieluc/BtZkhfVl5z+aaXrneVPnPwGAMS6dWec/3pI0dcFi5z8mLxhluoLnP2Z7Q2ngXuc/DvOoef0+5z/brRzoYFXnPw==",
          "dtype": "f8"
         }
        },
        {
         "legendgroup": "('llama3.1_8b_chat', 'cities_10k', 'base', 'main', 'prompt_only')",
         "line": {
          "width": 0
         },
         "mode": "lines",
         "name": "('llama3.1_8b_chat', 'cities_10k', 'base', 'main', 'prompt_only') Max",
         "showlegend": false,
         "type": "scatter",
         "x": {
          "bdata": "AAECAwQFBgcICQoLDA0ODxAREhMUFRYXGBkaGxwdHh8=",
          "dtype": "i1"
         },
         "y": {
          "bdata": "Bi7bg5aH4z9brAzfiALjPyLBgACrHOM/2hab1HTF4z/xuC6wnTLkPxxMkc+6weQ/hl7ohV7o5T+7Z0GA0Q7nPy4JNaTtlec/k93IWD2v5z8HBwcHBwfnPzjIN8g3yOc/Hg9r0L+q5z8pY2Td3jzoP6joLZ2Gu+c/75f1flnv5z8jx1D9wgnoP/01O2oR8uc/CnoP82Ia6D8j86SeDQboP9k6lWER9uc/vXr16tWr5z/qV6B+BernP1hFsQQl6+c/QiFfb1DI5z9EDf1VCcXnP5GugsThtec/vtHnoVTJ5z+d5mv17BDoP4iA94eA9+c/R7osrhKd5z/BKeRnZbznPw==",
          "dtype": "f8"
         }
        },
        {
         "fill": "tonexty",
         "fillcolor": "rgba(214, 39, 40, 0.1)",
         "legendgroup": "('llama3.1_8b_chat', 'cities_10k', 'base', 'main', 'prompt_only')",
         "line": {
          "width": 0
         },
         "mode": "lines",
         "name": "('llama3.1_8b_chat', 'cities_10k', 'base', 'main', 'prompt_only') Min",
         "showlegend": false,
         "type": "scatter",
         "x": {
          "bdata": "AAECAwQFBgcICQoLDA0ODxAREhMUFRYXGBkaGxwdHh8=",
          "dtype": "i1"
         },
         "y": {
          "bdata": "D7zYZ1Jf4T8/NV66SQziPxacaYglu+E/bXlJQ1te4j+5FUhMN6DjPxs4BTyygeM/1enhxK+35D+Q+Wg8TnrlP+KwaDcwC+Y/e8ZMrco35j+wLyovjJnmP7hmH2WCa+Y/5pZbbrnl5j8COMyj9FLmP8Fq728MrOY/xxUuDhgb5z+21lprrbXmP1M+kxlfN+c/V1dXV1dX5z9hN5L9qmDnPwtzt2m2MOc/RhdddNFF5z+Coa/E2jznPxIEyIHHSOc/Y251Rirm5j8HBwcHBwfnP5/O7bXkEOc/ihuf7MjB5j+7JakMeurmP/xv/WW+/+Y/6cLb+0/H5j/X1tbW1tbmPw==",
          "dtype": "f8"
         }
        },
        {
         "legendgroup": "('llama3.1_8b_chat', 'cities_10k', 'base', 'main', 'prompt_only')",
         "line": {
          "width": 0
         },
         "mode": "lines",
         "name": "('llama3.1_8b_chat', 'cities_10k', 'base', 'main', 'prompt_only') +1 STD",
         "showlegend": false,
         "type": "scatter",
         "x": {
          "bdata": "AAECAwQFBgcICQoLDA0ODxAREhMUFRYXGBkaGxwdHh8=",
          "dtype": "i1"
         },
         "y": {
          "bdata": "YqaTuTz74j8gcP61tvTiP0+QGhxKJOM/mNqz5u2M4z8OmCvrWCzkPzXm159ft+Q/DO6cJbmv5T+U/83es5LmPx5gcnlFOec/rmhYHeaY5z+9ufoacwrnP3yHBNP9u+c/phpS4n245z8SvNt7zizoP1JjbtpY0Oc/0OLlsC7U5z+E5RHWBAboP7Pre0g85+c/PAUTos8l6D86mpw5Y9XnP4WokjF19Oc//Emi1BWs5z+bR2l7udPnP3che7ig2ec/U6PF1h645z9WP8IFqLLnP1gkdkjZoec/l27OluHL5z/VvIH/ZwXoP7qsn/kT1+c/U08fEJqc5z+Yw0iykLznPw==",
          "dtype": "f8"
         }
        },
        {
         "fill": "tonexty",
         "fillcolor": "rgba(214, 39, 40, 0.3)",
         "legendgroup": "('llama3.1_8b_chat', 'cities_10k', 'base', 'main', 'prompt_only')",
         "line": {
          "width": 0
         },
         "mode": "lines",
         "name": "('llama3.1_8b_chat', 'cities_10k', 'base', 'main', 'prompt_only') -1 STD",
         "showlegend": false,
         "type": "scatter",
         "x": {
          "bdata": "AAECAwQFBgcICQoLDA0ODxAREhMUFRYXGBkaGxwdHh8=",
          "dtype": "i1"
         },
         "y": {
          "bdata": "rvEmJwBd4T+UKPx+BhviP00gimJRBeI/bGAWIaR24j/G/TfXH5jjP822FTaxn+M/xpJ5tVPO5D+GZV7/tEflP8Yqll3FD+Y/JlB/Uo+A5j/jEP3GDbPmP9o7jriDpOY/Gq+feP4C5z/gL4EDR6bmP7ZxUL1g7+Y/Sg6Aa+so5z9Y0/IeXN3mPzeLMJTPM+c/yluPP6l75z+oRoMBflPnPw+NQlG7Wuc/brqpQRpc5z8flwNzs0fnPw/oXbmcU+c/uQgENMwT5z/ekzLJS/TmP6rb7BNhEec/JbeaU6H55j93oa7KDADnPxJK59is5uY/yZYy42Dh5j8emPAdMe7mPw==",
          "dtype": "f8"
         }
        },
        {
         "legendgroup": "('llama3.1_8b_chat', 'cities_10k', 'base', 'main', 'prompt_only')",
         "marker": {
          "color": "#d62728",
          "opacity": 0.5,
          "size": 6
         },
         "mode": "markers",
         "name": "('llama3.1_8b_chat', 'cities_10k', 'base', 'main', 'prompt_only') Fold ('logistic_regression_f1_score', 0)",
         "showlegend": false,
         "type": "scatter",
         "x": {
          "bdata": "AAECAwQFBgcICQoLDA0ODxAREhMUFRYXGBkaGxwdHh8=",
          "dtype": "i1"
         },
         "y": {
          "bdata": "Bi7bg5aH4z9brAzfiALjPyLBgACrHOM/2hab1HTF4z/Gk1s8ucXjP/oNUh+zvOM/VVVVVVVV5T+7Z0GA0Q7nPy4JNaTtlec/k93IWD2v5z/1blnlV+/mP3N17gp7pOc/qdeReh2p5z9vipA8f6rnP6joLZ2Gu+c/75f1flnv5z/xfuQ0X6vnPxlwOypNROc/uVp2F7mX5z8Bobp7in3nP0nfWnXWj+c/YsluZKye5z/kpnzuQYDnP1hFsQQl6+c/QiFfb1DI5z9QPqgsErHnP0NbXtLQluc/vtHnoVTJ5z+d5mv17BDoP4iA94eA9+c/R7osrhKd5z9YUpTb4J7nPw==",
          "dtype": "f8"
         }
        },
        {
         "legendgroup": "('llama3.1_8b_chat', 'cities_10k', 'base', 'main', 'prompt_only')",
         "marker": {
          "color": "#d62728",
          "opacity": 0.5,
          "size": 6
         },
         "mode": "markers",
         "name": "('llama3.1_8b_chat', 'cities_10k', 'base', 'main', 'prompt_only') Fold ('logistic_regression_f1_score', 1)",
         "showlegend": false,
         "type": "scatter",
         "x": {
          "bdata": "AAECAwQFBgcICQoLDA0ODxAREhMUFRYXGBkaGxwdHh8=",
          "dtype": "i1"
         },
         "y": {
          "bdata": "D7zYZ1Jf4T8/NV66SQziPxacaYglu+E/bXlJQ1te4j+wMKtRxKHjPxs4BTyygeM/1enhxK+35D9jfWisD43lP+KwaDcwC+Y/41YoboXi5j+wLyovjJnmP7hmH2WCa+Y/EayjzfsU5z8COMyj9FLmP8Fq728MrOY/ru37N3445z+21lprrbXmP4O9JkZqbec/dcY40joK6D+v5t3774HnPwtzt2m2MOc/RhdddNFF5z+Coa/E2jznPxrEiamTX+c/Y251Rirm5j8IIYQQQgjnP5/O7bXkEOc/EgLEy+pm5z+RuSbjhiHnP/xv/WW+/+Y/6cLb+0/H5j+57nixJfjmPw==",
          "dtype": "f8"
         }
        },
        {
         "legendgroup": "('llama3.1_8b_chat', 'cities_10k', 'base', 'main', 'prompt_only')",
         "marker": {
          "color": "#d62728",
          "opacity": 0.5,
          "size": 6
         },
         "mode": "markers",
         "name": "('llama3.1_8b_chat', 'cities_10k', 'base', 'main', 'prompt_only') Fold ('logistic_regression_f1_score', 2)",
         "showlegend": false,
         "type": "scatter",
         "x": {
          "bdata": "AAECAwQFBgcICQoLDA0ODxAREhMUFRYXGBkaGxwdHh8=",
          "dtype": "i1"
         },
         "y": {
          "bdata": "baaEc7zd4T9xsZRoCqbiPzv21oZp7uI/R7fzkFEK4z+5FUhMN6DjP15DeQ3lNeQ/BFQ5Qj9A5T/pXDZDlM7lP4mu8aEwZ+Y/SGno6Hon5z8AAAAAANDmPz2UPbiWF+c/5pZbbrnl5j+pob8qofjmP8c4xzjHOOc/xxUuDhgb5z9vetOb3vTmP1M+kxlfN+c/V1dXV1dX5z8AAAAAAIDnP/YDmCm8tOc/d3d3d3d35z8AAAAAAGDnPxIEyIHHSOc/11Xfuupb5z8HBwcHBwfnP7ly5cqVK+c/RhdddNFF5z8B/zOjsHLnP2aHtPBAAec/QzpvMaTz5j/X1tbW1tbmPw==",
          "dtype": "f8"
         }
        },
        {
         "legendgroup": "('llama3.1_8b_chat', 'cities_10k', 'base', 'main', 'prompt_only')",
         "marker": {
          "color": "#d62728",
          "opacity": 0.5,
          "size": 6
         },
         "mode": "markers",
         "name": "('llama3.1_8b_chat', 'cities_10k', 'base', 'main', 'prompt_only') Fold ('logistic_regression_f1_score', 3)",
         "showlegend": false,
         "type": "scatter",
         "x": {
          "bdata": "AAECAwQFBgcICQoLDA0ODxAREhMUFRYXGBkaGxwdHh8=",
          "dtype": "i1"
         },
         "y": {
          "bdata": "r9kk0b8e4j9GNcwOjiDiP6GwM7ncT+I/nMHlcGyh4j/xuC6wnTLkP/QycN6ko+Q/hl7ohV7o5T8owSV/Qr3lPwnBns8yu+Y/e8ZMrco35j/i1GAZ1/nmP7qva+x3Aec/nk5gXCSG5z+chufVwdznPx4Pa9C/quc/XaZPu+2Q5z/tNigrxNjnP1uHfrN16Oc/AAAAAAAA6D9hN5L9qmDnP9B01dye2uc/LDiF/KyM5z97jEMibr3nP1uSn24anuc/l/wJ9VaB5z9EDf1VCcXnP5GugsThtec/ttdee+215z/VJglxBf7nPxm8AXF4yuc/n3WDKfJZ5z/BKeRnZbznPw==",
          "dtype": "f8"
         }
        },
        {
         "legendgroup": "('llama3.1_8b_chat', 'cities_10k', 'base', 'main', 'prompt_only')",
         "marker": {
          "color": "#d62728",
          "opacity": 0.5,
          "size": 6
         },
         "mode": "markers",
         "name": "('llama3.1_8b_chat', 'cities_10k', 'base', 'main', 'prompt_only') Fold ('logistic_regression_f1_score', 4)",
         "showlegend": false,
         "type": "scatter",
         "x": {
          "bdata": "AAECAwQFBgcICQoLDA0ODxAREhMUFRYXGBkaGxwdHh8=",
          "dtype": "i1"
         },
         "y": {
          "bdata": "+RF1ATP54T9vtabz7dHiP2+1pvPt0eI/Xoq7+V454z91Y3tb2zDkPxxMkc+6weQ/WFBfQX0F5T+Q+Wg8TnrlP50xZ8wZc+Y/1Ol0Op1O5z8HBwcHBwfnPzjIN8g3yOc/Hg9r0L+q5z8pY2Td3jzoP0N5DeU1lOc/AZmPxuOk5z8jx1D9wgnoP/01O2oR8uc/CnoP82Ia6D8j86SeDQboP9k6lWER9uc/vXr16tWr5z/qV6B+BernP/D3+/1+v+c/Ckw6NQ9y5z9gnDPr/BvnP9c0Q8/kNuc/ihuf7MjB5j+7JakMeurmPwA1pr5pF+c/NpJRW/qI5z+iI8e8oYDnPw==",
          "dtype": "f8"
         }
        },
        {
         "legendgroup": "('llama3.1_8b_chat', 'football_leagues_1k', 'base', 'main', 'prompt_answer')",
         "line": {
          "color": "#9467bd",
          "width": 2
         },
         "marker": {
          "size": 8
         },
         "mode": "lines+markers",
         "name": "('llama3.1_8b_chat', 'football_leagues_1k', 'base', 'main', 'prompt_answer')",
         "type": "scatter",
         "x": {
          "bdata": "AAECAwQFBgcICQoLDA0ODxAREhMUFRYXGBkaGxwdHh8=",
          "dtype": "i1"
         },
         "y": {
          "bdata": "dpxKnQai3z+CTUTZ5b7fP3wVY3ny3+A/Bhbw2weW4T8x+tgjFaPgPzIoT7AyaOA/5UEodKGH4T8+v3XE2TPjPyqofCvg1uM/V/9aMz+24z+e5bzViJ3jP34Dvb4gAeM/OpD6Vqg35D81cpD1Hk3kP6JfDKODOOQ/mwKtO6wC5D8IdVJwP1HkPw9RJ2bExOQ/acbgzeOm5D858CErEXnkP8MY5gYnc+Q/Wf94089n5D8+8gC3gg7kPw6gs7BM2uM/g7yAVUSh4z/ipl6m3eziPyFKoYa3veI/NuJw1jvP4j9jwEXdwMjjP+/YFRL0TOM/NlQ2R35n4z/mYbC094njPw==",
          "dtype": "f8"
         }
        },
        {
         "legendgroup": "('llama3.1_8b_chat', 'football_leagues_1k', 'base', 'main', 'prompt_answer')",
         "line": {
          "width": 0
         },
         "mode": "lines",
         "name": "('llama3.1_8b_chat', 'football_leagues_1k', 'base', 'main', 'prompt_answer') Max",
         "showlegend": false,
         "type": "scatter",
         "x": {
          "bdata": "AAECAwQFBgcICQoLDA0ODxAREhMUFRYXGBkaGxwdHh8=",
          "dtype": "i1"
         },
         "y": {
          "bdata": "8y3f8i3f4j8ZeLo1PyziPynxM0r8jOI/NUiDNEiD5D8UO7ETO7HjP2ZmZmZmZuI/g/MxOB+D4z9dQUyuICbnP0YXXXTRRec/jC666KKL5j+VNWVNWVPmP2QhC1nIQuY/RhdddNFF5z/0BX1BX9DnP7rooosuuug/RhdddNFF5z/6GJyPwfnoP7rooosuuug/mpmZmZmZ6T8vuuiiiy7qP5qZmZmZmek/kYUsZCEL6T+amZmZmZnpP3rTm970puc/F2zBFmzB5j9kIQtZyELmP2QhC1nIQuY/ZCELWchC5j9605ve9KbnP11BTK4gJuc/VxCTK4jJ5T9kIQtZyELmPw==",
          "dtype": "f8"
         }
        },
        {
         "fill": "tonexty",
         "fillcolor": "rgba(148, 103, 189, 0.1)",
         "legendgroup": "('llama3.1_8b_chat', 'football_leagues_1k', 'base', 'main', 'prompt_answer')",
         "line": {
          "width": 0
         },
         "mode": "lines",
         "name": "('llama3.1_8b_chat', 'football_leagues_1k', 'base', 'main', 'prompt_answer') Min",
         "showlegend": false,
         "type": "scatter",
         "x": {
          "bdata": "AAECAwQFBgcICQoLDA0ODxAREhMUFRYXGBkaGxwdHh8=",
          "dtype": "i1"
         },
         "y": {
          "bdata": "dnd3d3d31z91Xx5bETTcP0GeEuQpQd4/AAAAAAAA2j8AAAAAAADaP3qgcnYLv9o/Jptssskm2z96oHJ2C7/aPxAEQRAEQeA/+N5777333j+MGDFixIjhPwAAAAAAAOA/whT5rBtM4T9yHMdxHMfhPw4kWmFzIOE/chzHcRzH4T9wH8F9BPfhP4wYMWLEiOE/jBgxYsSI4T900UUXXXThPypnt/CrMeE/4uHh4eHh4T9f8RVf8RXfP+sGU+SzbuA/Vn5CnJWf4D830GkDnTbgPyryWTeYIt8/cVZ+QpyV3z900UUXXXThPyryWTeYIt8/dNFFF1104T900UUXXXThPw==",
          "dtype": "f8"
         }
        },
        {
         "legendgroup": "('llama3.1_8b_chat', 'football_leagues_1k', 'base', 'main', 'prompt_answer')",
         "line": {
          "width": 0
         },
         "mode": "lines",
         "name": "('llama3.1_8b_chat', 'football_leagues_1k', 'base', 'main', 'prompt_answer') +1 STD",
         "showlegend": false,
         "type": "scatter",
         "x": {
          "bdata": "AAECAwQFBgcICQoLDA0ODxAREhMUFRYXGBkaGxwdHh8=",
          "dtype": "i1"
         },
         "y": {
          "bdata": "qB2Ngs9n4j9aXlDxZarhP1v/6H1lXOI/LtwrqLPK5D9JvgnytgTjP57IsdE1R+I/W7uKSHfQ4z+oPqRYDDrnP/CBKBWF7uY/8lViw+Ga5j+O0WN+MADmP8hOApizleU/D6oNoPmT5j9lsfwacIDmP69RF8FgNec/NmSVNgBD5j++3n5mnxbnP+BlzUmDkOc/GAaRNe/J5z/pLoAgrvLnP5q5ahmzuOc/yKSG/qNG5z87PiC4ctLnP1BzrSOImOY/MDE2bHUX5j8JVSEPCFnlP9YXs5rIt+U/uQX018E55T98DkkDAUrmP+Fxu+gQBeY/YYHMzZpS5T/N99Qo9GjlPw==",
          "dtype": "f8"
         }
        },
        {
         "fill": "tonexty",
         "fillcolor": "rgba(148, 103, 189, 0.3)",
         "legendgroup": "('llama3.1_8b_chat', 'football_leagues_1k', 'base', 'main', 'prompt_answer')",
         "line": {
          "width": 0
         },
         "mode": "lines",
         "name": "('llama3.1_8b_chat', 'football_leagues_1k', 'base', 'main', 'prompt_answer') -1 STD",
         "showlegend": false,
         "type": "scatter",
         "x": {
          "bdata": "AAECAwQFBgcICQoLDA0ODxAREhMUFRYXGBkaGxwdHh8=",
          "dtype": "i1"
         },
         "y": {
          "bdata": "nf16NW502j9R3ufP/yjcPzpXuun+xt4/u59oH7jC3D8ybFCr5oLcP4wP2R1fEt0/3pCLP5d93j+pf45gTlveP2TO0EE7v+A/vKhTo5zR4D+u+RUt4TrhPzS4d+WNbOA/ZXbnDVfb4T8FMyTQzRniP5VtAYWmO+E/AKHEQFjC4T9SCyZ634vhPz48gYIF+eE/uoYwZtiD4T+JscM1dP/gP+x3YfSaLeE/6llrqPuI4T9BpuG1kkrgP8zMuT0RHOE/1kfLPhMr4T+7+Js9s4DgP9j4HuVMh98/s77t1LVk4D9KckK3gEfhP/0/cDvXlOA/CyegwGF84T//y4tA+6rhPw==",
          "dtype": "f8"
         }
        },
        {
         "legendgroup": "('llama3.1_8b_chat', 'football_leagues_1k', 'base', 'main', 'prompt_answer')",
         "marker": {
          "color": "#9467bd",
          "opacity": 0.5,
          "size": 6
         },
         "mode": "markers",
         "name": "('llama3.1_8b_chat', 'football_leagues_1k', 'base', 'main', 'prompt_answer') Fold ('logistic_regression_f1_score', 0)",
         "showlegend": false,
         "type": "scatter",
         "x": {
          "bdata": "AAECAwQFBgcICQoLDA0ODxAREhMUFRYXGBkaGxwdHh8=",
          "dtype": "i1"
         },
         "y": {
          "bdata": "dnd3d3d31z91Xx5bETTcP0GeEuQpQd4/kiRJkiRJ4j95DeU1lNfgP3sJ7SW0l+A/NcF4K/sc4j9oL6G9hPbiP2cxncV0FuM/ZzGdxXQW4z+SJEmSJEniP3AfwX0E9+E/nhLkKUGe4j/vy2MrgobjP2cxncV0FuM/ZzGdxXQW4z9wH8F9BPfhPwnLPY2w3OM/Xx5bETSc5D9eQ3kN5TXkP15DeQ3lNeQ/Xx5bETSc5D/Cck8jLPfkP15DeQ3lNeQ/XkN5DeU15D8Jyz2NsNzjP+/LYyuChuM/nhLkKUGe4j9oL6G9hPbiP2gvob2E9uI/yFOCPCXI4z/IU4I8JcjjPw==",
          "dtype": "f8"
         }
        },
        {
         "legendgroup": "('llama3.1_8b_chat', 'football_leagues_1k', 'base', 'main', 'prompt_answer')",
         "marker": {
          "color": "#9467bd",
          "opacity": 0.5,
          "size": 6
         },
         "mode": "markers",
         "name": "('llama3.1_8b_chat', 'football_leagues_1k', 'base', 'main', 'prompt_answer') Fold ('logistic_regression_f1_score', 1)",
         "showlegend": false,
         "type": "scatter",
         "x": {
          "bdata": "AAECAwQFBgcICQoLDA0ODxAREhMUFRYXGBkaGxwdHh8=",
          "dtype": "i1"
         },
         "y": {
          "bdata": "UAd1UAd14D/CFPmsG0zhPynxM0r8jOI/AAAAAAAA2j8AAAAAAADaP3qgcnYLv9o/Jptssskm2z+SG7mRG7nhPxAEQRAEQeA/+N5777333j/ep7hkCNbhP5IbuZEbueE/FEVRFEVR5D9c+NWYSA/kP5VSSimllOI/lVJKKaWU4j/TNE3TNE3jP2WTTTbZZOM/bbLJJpts4j900UUXXXThPypnt/CrMeE/4uHh4eHh4T/i4eHh4eHhP+XsFn41JuI/khu5kRu54T/x8PDw8PDgPx/4gR/4gd8/GiV+Romf4T900UUXXXThP9PS0tLS0uI/dNFFF1104T/l7BZ+NSbiPw==",
          "dtype": "f8"
         }
        },
        {
         "legendgroup": "('llama3.1_8b_chat', 'football_leagues_1k', 'base', 'main', 'prompt_answer')",
         "marker": {
          "color": "#9467bd",
          "opacity": 0.5,
          "size": 6
         },
         "mode": "markers",
         "name": "('llama3.1_8b_chat', 'football_leagues_1k', 'base', 'main', 'prompt_answer') Fold ('logistic_regression_f1_score', 2)",
         "showlegend": false,
         "type": "scatter",
         "x": {
          "bdata": "AAECAwQFBgcICQoLDA0ODxAREhMUFRYXGBkaGxwdHh8=",
          "dtype": "i1"
         },
         "y": {
          "bdata": "8y3f8i3f4j8ZeLo1PyziP5IkSZIkSeI/NUiDNEiD5D8UO7ETO7HjP2ZmZmZmZuI/g/MxOB+D4z+i32wd+s3mP6LfbB36zeY/jC666KKL5j+GYRiGYRjmPxO1K1G7EuU/ZU1ZU9aU5T9UVFRUVFTkP2VNWVPWlOU/VVVVVVVV5T8lSZIkSZLkP5U1ZU1ZU+Y/F1100UUX5T8vkEnxApnkPxUVFRUVFeU/VFRUVFRU5D9L1K5E7UrkP5cVAyW80eQ/NmVNWVPW5D/WlDVlTVnjPy+QSfECmeQ/t+aHRcrA4z/NzMzMzMzkPwAAAAAAAOQ/Bp5uzQ+L5D/6tYdcVgzkPw==",
          "dtype": "f8"
         }
        },
        {
         "legendgroup": "('llama3.1_8b_chat', 'football_leagues_1k', 'base', 'main', 'prompt_answer')",
         "marker": {
          "color": "#9467bd",
          "opacity": 0.5,
          "size": 6
         },
         "mode": "markers",
         "name": "('llama3.1_8b_chat', 'football_leagues_1k', 'base', 'main', 'prompt_answer') Fold ('logistic_regression_f1_score', 3)",
         "showlegend": false,
         "type": "scatter",
         "x": {
          "bdata": "AAECAwQFBgcICQoLDA0ODxAREhMUFRYXGBkaGxwdHh8=",
          "dtype": "i1"
         },
         "y": {
          "bdata": "OB+D8zE43z/NzMzMzMzcP5AGaZAGaeA/XXTRRRdd5D8xDMMwDMPgPxj0BX1BX+A/kiRJkiRJ4j9dQUyuICbnP0YXXXTRRec/lTVlTVlT5j+VNWVNWVPmP2QhC1nIQuY/RhdddNFF5z/0BX1BX9DnP7rooosuuug/RhdddNFF5z/6GJyPwfnoP7rooosuuug/mpmZmZmZ6T8vuuiiiy7qP5qZmZmZmek/kYUsZCEL6T+amZmZmZnpP3rTm970puc/F2zBFmzB5j9kIQtZyELmP2QhC1nIQuY/ZCELWchC5j9605ve9KbnP11BTK4gJuc/VxCTK4jJ5T9kIQtZyELmPw==",
          "dtype": "f8"
         }
        },
        {
         "legendgroup": "('llama3.1_8b_chat', 'football_leagues_1k', 'base', 'main', 'prompt_answer')",
         "marker": {
          "color": "#9467bd",
          "opacity": 0.5,
          "size": 6
         },
         "mode": "markers",
         "name": "('llama3.1_8b_chat', 'football_leagues_1k', 'base', 'main', 'prompt_answer') Fold ('logistic_regression_f1_score', 4)",
         "showlegend": false,
         "type": "scatter",
         "x": {
          "bdata": "AAECAwQFBgcICQoLDA0ODxAREhMUFRYXGBkaGxwdHh8=",
          "dtype": "i1"
         },
         "y": {
          "bdata": "kAZpkAZp4D+SPQNR6cjePwAAAAAAAOA/+RklfkaJ3z85juM4juPgP8IU+awbTOE/mCKfdYMp4j96oHJ2C7/aP3Icx3Ecx+E/sHdMDewd4z+MGDFixIjhPwAAAAAAAOA/whT5rBtM4T9yHMdxHMfhPw4kWmFzIOE/chzHcRzH4T/Gkl8s+cXiP4wYMWLEiOE/jBgxYsSI4T/sUbgehevhP5gin3WDKeI/mCKfdYMp4j9f8RVf8RXfP+sGU+SzbuA/Vn5CnJWf4D830GkDnTbgPyryWTeYIt8/cVZ+QpyV3z/SIA3SIA3iPyryWTeYIt8/dNFFF1104T900UUXXXThPw==",
          "dtype": "f8"
         }
        },
        {
         "legendgroup": "('llama3.1_8b_chat', 'football_leagues_1k', 'base', 'main', 'prompt_only')",
         "line": {
          "color": "#8c564b",
          "width": 2
         },
         "marker": {
          "size": 8
         },
         "mode": "lines+markers",
         "name": "('llama3.1_8b_chat', 'football_leagues_1k', 'base', 'main', 'prompt_only')",
         "type": "scatter",
         "x": {
          "bdata": "AAECAwQFBgcICQoLDA0ODxAREhMUFRYXGBkaGxwdHh8=",
          "dtype": "i1"
         },
         "y": {
          "bdata": "ZjFQ3mtj5T8eQYiVMR7lP7FlfrV+weQ/lhh1GAyc5T+6419SJcTkP0062HklGeU/u4w5gTiR5D8z04xC6vbkP70oy4f6g+Q/ti7aJJ664z+URrZ3hr/jP+2Lm1F7Q+Q/ngFYP0RG5D89IaTpnmfkPxIdrVNCSuQ/PZC2NgM35D8tKEnXLRLkP76zX2ztxuM/ttBBkiDa4z9G6SLVNMbjPzOIEpZVMuQ/iGRv+H6A4z/+9pPc5PvjP8rmAVAsL+Q/sF6+rMO34z/hdIr2nNfiP1OL45Le/eE/zh7ihIy94j9azy4mnPviP7XVoubVDeM/s3Ok7JAs4j/4hVRuFmDiPw==",
          "dtype": "f8"
         }
        },
        {
         "legendgroup": "('llama3.1_8b_chat', 'football_leagues_1k', 'base', 'main', 'prompt_only')",
         "line": {
          "width": 0
         },
         "mode": "lines",
         "name": "('llama3.1_8b_chat', 'football_leagues_1k', 'base', 'main', 'prompt_only') Max",
         "showlegend": false,
         "type": "scatter",
         "x": {
          "bdata": "AAECAwQFBgcICQoLDA0ODxAREhMUFRYXGBkaGxwdHh8=",
          "dtype": "i1"
         },
         "y": {
          "bdata": "jYn0QOXs5j9kIQtZyELmP1VVVVVVVeU/RhdddNFF5z+kDDzdmh/mP3ZiJ3ZiJ+Y/yWfdYIp85j+Xb/mWb/nmP2ZmZmZmZuY/ZU1ZU9aU5T9lTVlT1pTlP6J2JWpXouY/hmEYhmEY5j9mZmZmZmbmP/PDImXg6eY/t23btm3b5j/zwyJl4OnmP2ZmZmZmZuY/mpmZmZmZ5T+kDDzdmh/mP6J2JWpXouY/mpmZmZmZ5T80dX7tIZflP3ZiJ3ZiJ+Y/KMRZ+Qlx5j+/q8VNmN/lPyAqHdkzEOU/VVVVVVVV5T92Yid2YifmP9uVqF2J2uU/Bp5uzQ+L5D8Gnm7ND4vkPw==",
          "dtype": "f8"
         }
        },
        {
         "fill": "tonexty",
         "fillcolor": "rgba(140, 86, 75, 0.1)",
         "legendgroup": "('llama3.1_8b_chat', 'football_leagues_1k', 'base', 'main', 'prompt_only')",
         "line": {
          "width": 0
         },
         "mode": "lines",
         "name": "('llama3.1_8b_chat', 'football_leagues_1k', 'base', 'main', 'prompt_only') Min",
         "showlegend": false,
         "type": "scatter",
         "x": {
          "bdata": "AAECAwQFBgcICQoLDA0ODxAREhMUFRYXGBkaGxwdHh8=",
          "dtype": "i1"
         },
         "y": {
          "bdata": "FDuxEzux4z8UO7ETO7HjP19CewntJeQ/yFOCPCXI4z/BeCv7HFLjP87KT4iz8uM/v/aQy4qB4j8AAAAAAADkPxQ7sRM7seM/kiRJkiRJ4j9oL6G9hPbiP5IkSZIkSeI/xpJfLPnF4j/zLd/yLd/iP3TRRRdddOE/bCivobyG4j+MGDFixIjhP5MmTZo0aeI/NcF4K/sc4j+SkZGRkZHhP2IndmInduI/kpGRkZGR4T+SkZGRkZHhP+xRuB6F6+E/kpGRkZGR4T8AAAAAAADgP23UdzbqO9s/1ofG+tBY3z9QUFBQUFDgP7ETO7ETO+E/uB6F61G43j8RERERERHhPw==",
          "dtype": "f8"
         }
        },
        {
         "legendgroup": "('llama3.1_8b_chat', 'football_leagues_1k', 'base', 'main', 'prompt_only')",
         "line": {
          "width": 0
         },
         "mode": "lines",
         "name": "('llama3.1_8b_chat', 'football_leagues_1k', 'base', 'main', 'prompt_only') +1 STD",
         "showlegend": false,
         "type": "scatter",
         "x": {
          "bdata": "AAECAwQFBgcICQoLDA0ODxAREhMUFRYXGBkaGxwdHh8=",
          "dtype": "i1"
         },
         "y": {
          "bdata": "INv5pW/V5j/T76s0PyLmP8Qq0JpMWOU/Mb3DDWME5z+Sy5qj3w/mPxvgpW53BOY/8ulye4Iz5j/kyHAKAEbmPydAZLJrl+U/XSM07Mbr5D/jmO8ZZtXkPz1dwZvp0+U/ME78AG6Z5T9bnSLtcb/lP+VyAnk4OuY/+qPm3xnV5T+A9fsdFxfmP1g674xKZeU/rvyH689L5T+6D7fp82vlP5PROE9h0+U//Vz7F1YE5T+a2gkpuKflPw+92HruDuY/Z4WO2j245T+aJbX0nh3lPxyXjDiUweQ/RH6hXBLB5D+fHQGIEVblPwFgMQ9+3eQ/VSlmBU885D+x1WxqfNnjPw==",
          "dtype": "f8"
         }
        },
        {
         "fill": "tonexty",
         "fillcolor": "rgba(140, 86, 75, 0.3)",
         "legendgroup": "('llama3.1_8b_chat', 'football_leagues_1k', 'base', 'main', 'prompt_only')",
         "line": {
          "width": 0
         },
         "mode": "lines",
         "name": "('llama3.1_8b_chat', 'football_leagues_1k', 'base', 'main', 'prompt_only') -1 STD",
         "showlegend": false,
         "type": "scatter",
         "x": {
          "bdata": "AAECAwQFBgcICQoLDA0ODxAREhMUFRYXGBkaGxwdHh8=",
          "dtype": "i1"
         },
         "y": {
          "bdata": "rIemFmjx4z9pkmT2IxrkP56gLNCwKuQ/+3MmI7Uz5D/i+yQBa3jjP3+UCoXTLeQ/hC8Ah+7u4j+C3ah61KfjP1MRMl2JcOM/DzqAXXWJ4j9F9HzVpqniP526dQcNs+I/DLWzfRrz4j8fpSXmyw/jPz/HVy5MWuI/gHyGjeyY4j/aWpaQRA3iPyQt0EuQKOI/vqT7OHFo4j/Swo7AdSDiP9M+7NxJkeI/E2zj2Kf84T9iEx6QEVDiP4UQKyVqT+I/+Tfufkm34T8oxF/4mpHgPxX/dNpRdN4/WL8irQa64D8VgVzEJqHgP2lLFL4tPuE/Eb7i09Ic4D8/NjxysObgPw==",
          "dtype": "f8"
         }
        },
        {
         "legendgroup": "('llama3.1_8b_chat', 'football_leagues_1k', 'base', 'main', 'prompt_only')",
         "marker": {
          "color": "#8c564b",
          "opacity": 0.5,
          "size": 6
         },
         "mode": "markers",
         "name": "('llama3.1_8b_chat', 'football_leagues_1k', 'base', 'main', 'prompt_only') Fold ('logistic_regression_f1_score', 0)",
         "showlegend": false,
         "type": "scatter",
         "x": {
          "bdata": "AAECAwQFBgcICQoLDA0ODxAREhMUFRYXGBkaGxwdHh8=",
          "dtype": "i1"
         },
         "y": {
          "bdata": "l5aWlpaW5j/D9Shcj8LlP1VVVVVVVeU/xU7sxE7s5D9VVVVVVVXlP8VO7MRO7OQ/xU7sxE7s5D8UFBQUFBTkPxQUFBQUFOQ/kiRJkiRJ4j8zMzMzMzPjP5IkSZIkSeI/MzMzMzMz4z8UO7ETO7HjP00w3so+h+Q/X0J7Ce0l5D8UO7ETO7HjP2IndmInduI/NcF4K/sc4j+SkZGRkZHhP2IndmInduI/kpGRkZGR4T+SkZGRkZHhP2IndmInduI/kpGRkZGR4T/T0tLS0tLiP9PS0tLS0uI/09LS0tLS4j8UFBQUFBTkPzMzMzMzM+M/09LS0tLS4j8zMzMzMzPjPw==",
          "dtype": "f8"
         }
        },
        {
         "legendgroup": "('llama3.1_8b_chat', 'football_leagues_1k', 'base', 'main', 'prompt_only')",
         "marker": {
          "color": "#8c564b",
          "opacity": 0.5,
          "size": 6
         },
         "mode": "markers",
         "name": "('llama3.1_8b_chat', 'football_leagues_1k', 'base', 'main', 'prompt_only') Fold ('logistic_regression_f1_score', 1)",
         "showlegend": false,
         "type": "scatter",
         "x": {
          "bdata": "AAECAwQFBgcICQoLDA0ODxAREhMUFRYXGBkaGxwdHh8=",
          "dtype": "i1"
         },
         "y": {
          "bdata": "FDuxEzux4z8UO7ETO7HjP19CewntJeQ/yFOCPCXI4z/BeCv7HFLjPyVJkiRJkuQ/wXgr+xxS4z9fQnsJ7SXkPxQ7sRM7seM/wXgr+xxS4z9oL6G9hPbiP8hTgjwlyOM/JUmSJEmS5D/ylCBPCfLkP19CewntJeQ/27Zt27Zt4z8zMzMzMzPjP8hTgjwlyOM/aC+hvYT24j9fQnsJ7SXkP2gvob2E9uI/nhLkKUGe4j9oL6G9hPbiP+xRuB6F6+E/7FG4HoXr4T8AAAAAAADgP23UdzbqO9s/1ofG+tBY3z9QUFBQUFDgP7ETO7ETO+E/uB6F61G43j+xEzuxEzvhPw==",
          "dtype": "f8"
         }
        },
        {
         "legendgroup": "('llama3.1_8b_chat', 'football_leagues_1k', 'base', 'main', 'prompt_only')",
         "marker": {
          "color": "#8c564b",
          "opacity": 0.5,
          "size": 6
         },
         "mode": "markers",
         "name": "('llama3.1_8b_chat', 'football_leagues_1k', 'base', 'main', 'prompt_only') Fold ('logistic_regression_f1_score', 2)",
         "showlegend": false,
         "type": "scatter",
         "x": {
          "bdata": "AAECAwQFBgcICQoLDA0ODxAREhMUFRYXGBkaGxwdHh8=",
          "dtype": "i1"
         },
         "y": {
          "bdata": "1EEd1EEd5D9VVVVVVVXlP6FChQoVKuQ/VVVVVVVV5T/jJszvanHjP87KT4iz8uM/v/aQy4qB4j8AAAAAAADkP0vUrkTtSuQ/FDuxEzux4z9FPusGU+TjP15DeQ3lNeQ/xpJfLPnF4j/zLd/yLd/iP3TRRRdddOE/bCivobyG4j+MGDFixIjhP5MmTZo0aeI/5DiO4ziO4z+XejJ+u9TjP3sUrkfheuQ/RT7rBlPk4z8cTJHPusHkP9hQXkN5DeU/gqh0ZM9A5D900UUXXXThP3TRRRdddOE/8y3f8i3f4j8RERERERHhP/Maymsor+E/eQ3lNZTX4D8RERERERHhPw==",
          "dtype": "f8"
         }
        },
        {
         "legendgroup": "('llama3.1_8b_chat', 'football_leagues_1k', 'base', 'main', 'prompt_only')",
         "marker": {
          "color": "#8c564b",
          "opacity": 0.5,
          "size": 6
         },
         "mode": "markers",
         "name": "('llama3.1_8b_chat', 'football_leagues_1k', 'base', 'main', 'prompt_only') Fold ('logistic_regression_f1_score', 3)",
         "showlegend": false,
         "type": "scatter",
         "x": {
          "bdata": "AAECAwQFBgcICQoLDA0ODxAREhMUFRYXGBkaGxwdHh8=",
          "dtype": "i1"
         },
         "y": {
          "bdata": "jYn0QOXs5j9kIQtZyELmP1VVVVVVVeU/ymsor6G85j8KcVZ+QpzlP1FeQ3kN5eU/yWfdYIp85j/yWTeYIp/lP9RBHdRBHeQ/xMPDw8PD4z+gcnYLvxrjP0aJn1HiZ+Q/cJd6Mn675D/UQR3UQR3kP0aJn1HiZ+Q/1EEd1EEd5D8XfjUm0gPlP5d6Mn671OM/dVAHdVAH5T8zMzMzMzPjPxzHcRzHceQ/l3oyfrvU4z+oUKFChQrlP1VVVVVVVeU/RomfUeJn5D9c+NWYSA/kPwAAAAAAAOM/AAAAAAAA4z/TNE3TNE3jP9M0TdM0TeM/0zRN0zRN4z/ep7hkCNbhPw==",
          "dtype": "f8"
         }
        },
        {
         "legendgroup": "('llama3.1_8b_chat', 'football_leagues_1k', 'base', 'main', 'prompt_only')",
         "marker": {
          "color": "#8c564b",
          "opacity": 0.5,
          "size": 6
         },
         "mode": "markers",
         "name": "('llama3.1_8b_chat', 'football_leagues_1k', 'base', 'main', 'prompt_only') Fold ('logistic_regression_f1_score', 4)",
         "showlegend": false,
         "type": "scatter",
         "x": {
          "bdata": "AAECAwQFBgcICQoLDA0ODxAREhMUFRYXGBkaGxwdHh8=",
          "dtype": "i1"
         },
         "y": {
          "bdata": "8lk3mCKf5T8Gnm7ND4vkP83MzMzMzOQ/RhdddNFF5z+kDDzdmh/mP3ZiJ3ZiJ+Y/mpmZmZmZ5T+Xb/mWb/nmP2ZmZmZmZuY/ZU1ZU9aU5T9lTVlT1pTlP6J2JWpXouY/hmEYhmEY5j9mZmZmZmbmP/PDImXg6eY/t23btm3b5j/zwyJl4OnmP2ZmZmZmZuY/mpmZmZmZ5T+kDDzdmh/mP6J2JWpXouY/mpmZmZmZ5T80dX7tIZflP3ZiJ3ZiJ+Y/KMRZ+Qlx5j+/q8VNmN/lPyAqHdkzEOU/VVVVVVVV5T92Yid2YifmP9uVqF2J2uU/Bp5uzQ+L5D8Gnm7ND4vkPw==",
          "dtype": "f8"
         }
        },
        {
         "legendgroup": "('llama3.1_8b_chat', 'gsm8k', 'base_3_shot', 'main', 'prompt_answer')",
         "line": {
          "color": "#1f77b4",
          "width": 2
         },
         "marker": {
          "size": 8
         },
         "mode": "lines+markers",
         "name": "('llama3.1_8b_chat', 'gsm8k', 'base_3_shot', 'main', 'prompt_answer')",
         "type": "scatter",
         "x": {
          "bdata": "AAECAwQFBgcICQoLDA0ODxAREhMUFRYXGBkaGxwdHh8=",
          "dtype": "i1"
         },
         "y": {
          "bdata": "mnLJvsi34j84/ZmFIEviP55QU7HgheI/DhTKxOnq4j/oZYS1GfviP5VPkJokweI/4O/0CjO/4j9Q+Ow3iO3iP/Li5s/8KOM/F3e78rHq4j+r6YCENOLiP3BB/5+EweI/euVRBub94j/q7Kzi7qniP25an0kww+I/tQrmboCq4j/0nw0k0aniP4LBefoW5OI/MEP94pAK4z8Kp28y78ziP1FyRhJ3AeM/ZUXz4kPP4j8NSk3bJu7iP56mT0lL1uI/6T81mNXe4j+qJ904GbHiPxlzjrnI++I/VsxRr7e74j8w8mqBGdviP7+8L1Y96OI/gs8AYaS14j8m8oc2FNjiPw==",
          "dtype": "f8"
         }
        },
        {
         "legendgroup": "('llama3.1_8b_chat', 'gsm8k', 'base_3_shot', 'main', 'prompt_answer')",
         "line": {
          "width": 0
         },
         "mode": "lines",
         "name": "('llama3.1_8b_chat', 'gsm8k', 'base_3_shot', 'main', 'prompt_answer') Max",
         "showlegend": false,
         "type": "scatter",
         "x": {
          "bdata": "AAECAwQFBgcICQoLDA0ODxAREhMUFRYXGBkaGxwdHh8=",
          "dtype": "i1"
         },
         "y": {
          "bdata": "27Zt27Zt4z+XejJ+u9TjP+lLSnQwFOM/E2JOE2JO4z/IDMVq0ZTjP9aUNWVNWeM/OL3pTW964z9BuBv7HpHjP5o2WgSjfOM/7tlVMRue4z9xjX7qm1XjP1Q7tVM7teM/BRqxvX654z9LR/YMRKXjP9lSrHCYKOM/+CFbihUO4z9lV01U2VXjP1Z2NOPAn+M//XfjpttS5D/nIGlDVKnjP1y+5Vu+5eM/yAzFatGU4z9i9f2mPbPjP8Gw5rRs6uM/9DzP8zzP4z9oLszomQvjPz8hzspPiOM//oEdG14K4z8zMzMzMzPjP68WN2F+V+M/ZqeCQJYw4z8/S8SQx2zjPw==",
          "dtype": "f8"
         }
        },
        {
         "fill": "tonexty",
         "fillcolor": "rgba(31, 119, 180, 0.1)",
         "legendgroup": "('llama3.1_8b_chat', 'gsm8k', 'base_3_shot', 'main', 'prompt_answer')",
         "line": {
          "width": 0
         },
         "mode": "lines",
         "name": "('llama3.1_8b_chat', 'gsm8k', 'base_3_shot', 'main', 'prompt_answer') Min",
         "showlegend": false,
         "type": "scatter",
         "x": {
          "bdata": "AAECAwQFBgcICQoLDA0ODxAREhMUFRYXGBkaGxwdHh8=",
          "dtype": "i1"
         },
         "y": {
          "bdata": "DUSlI3sG4j9JtXaN+brhPyKXFQMlvOE/xRJLLLHE4j/S9WwJwQDiP5IkSZIkSeI/fiGRH94X4j/Sd6UtiFriPwX9Xgn6veI/UiEVUiEV4j+uWxzNUBDiPxLXJRLXJeI/vuVbvuVb4j/zhZlQavHhP/Og7S0NX+I/grqtzX1F4j+1X11Ii+XhPxbPm42RV+I/DmwFquUz4j/0MTgfg/PhP3DtRwlc++E/Cn/vsEnA4T8J8pQgTwniP4plMQr+WOE/kiRJkiRJ4j+SJEmSJEniP87oKMGKqeI/eoKjJzh64j/MioES3mjiP+SyYqCEN+I/yB4he4Ts4T8ZIPHUkAHiPw==",
          "dtype": "f8"
         }
        },
        {
         "legendgroup": "('llama3.1_8b_chat', 'gsm8k', 'base_3_shot', 'main', 'prompt_answer')",
         "line": {
          "width": 0
         },
         "mode": "lines",
         "name": "('llama3.1_8b_chat', 'gsm8k', 'base_3_shot', 'main', 'prompt_answer') +1 STD",
         "showlegend": false,
         "type": "scatter",
         "x": {
          "bdata": "AAECAwQFBgcICQoLDA0ODxAREhMUFRYXGBkaGxwdHh8=",
          "dtype": "i1"
         },
         "y": {
          "bdata": "dCvgExli4z+pBtu2cCnjP8Lqt56rBuM/PwTkNDck4z9vfNJ7+KTjP9ugcG+0RuM/wcYgBtBG4z9dXX7GVGXjP8xr0JR4h+M/c/+4phN84z/79ykEe1/jP1m13ymAXOM/VYHK6lZ+4z/0Xc2LQUvjP7ZvO/ViE+M/tmX2czsJ4z+wLWZ+D03jP6AL35DfbOM/DpVMlwjh4z9p7qRmyWvjP/LXpc8Pv+M/JFtxVE574z/BaJS3u67jP99yCeYWyuM/nNO+KcRz4z9DWh4hwfjiP0uR+PlEYeM/I7YVr3/84j/bPNyeejvjP8IHcUqkVeM/QmJLezs84z8O5g90b2DjPw==",
          "dtype": "f8"
         }
        },
        {
         "fill": "tonexty",
         "fillcolor": "rgba(31, 119, 180, 0.3)",
         "legendgroup": "('llama3.1_8b_chat', 'gsm8k', 'base_3_shot', 'main', 'prompt_answer')",
         "line": {
          "width": 0
         },
         "mode": "lines",
         "name": "('llama3.1_8b_chat', 'gsm8k', 'base_3_shot', 'main', 'prompt_answer') -1 STD",
         "showlegend": false,
         "type": "scatter",
         "x": {
          "bdata": "AAECAwQFBgcICQoLDA0ODxAREhMUFRYXGBkaGxwdHh8=",
          "dtype": "i1"
         },
         "y": {
          "bdata": "wLmyaXgN4j/H81hU0GzhP3q27sMVBeI/3SOwVJyx4j9hTzbvOlHiP0/+r8WUO+I//xjJD5Y34j9Dk1upu3XiPxha/QqByuI/u+69PlBZ4j9b29cE7mTiP4fNHhaJJuI/n0nZIXV94j/ge4w5nAjiPyZFA579cuI/tK/VacVL4j84ErXJkgbiP2R3FGROW+I/UvGtLhk04j+rXzr+FC7iP7AM51TeQ+I/pi91cTkj4j9ZKwb/kS3iP13alax/4uE/NqyrBudJ4j8R9ZtQcWniP+dUJHlMluI/ieKNr+964j+Fp/ljuHriP7xx7mHWeuI/wjy2Rg0v4j8+/v/4uE/iPw==",
          "dtype": "f8"
         }
        },
        {
         "legendgroup": "('llama3.1_8b_chat', 'gsm8k', 'base_3_shot', 'main', 'prompt_answer')",
         "marker": {
          "color": "#1f77b4",
          "opacity": 0.5,
          "size": 6
         },
         "mode": "markers",
         "name": "('llama3.1_8b_chat', 'gsm8k', 'base_3_shot', 'main', 'prompt_answer') Fold ('logistic_regression_f1_score', 0)",
         "showlegend": false,
         "type": "scatter",
         "x": {
          "bdata": "AAECAwQFBgcICQoLDA0ODxAREhMUFRYXGBkaGxwdHh8=",
          "dtype": "i1"
         },
         "y": {
          "bdata": "DUSlI3sG4j8HQzH/FN7hP7Msy7Isy+I/6aKLLrro4j+5QA9nXqfiP6l0ZM9AVOI/0YlYXWmH4j/M/nw4DaHiP5o2WgSjfOM/7tlVMRue4z9slNmWI+jiP66ZpHFftOI/vuVbvuVb4j+xCQSXqcbiP/Og7S0NX+I/aC+hvYT24j8pRA56olHjP1Z2NOPAn+M//XfjpttS5D+lCQhcd+PiP4rI0a4RZOM/vgygekQc4z9cotw3WUrjP+5JTHp7EuM/TyMs9zTC4j8clyj3TZbiP7vV9I3OveI/8WGubk7p4j8zMzMzMzPjP8Toxe5U1OI/AAAAAACA4j8FNBE2PL3iPw==",
          "dtype": "f8"
         }
        },
        {
         "legendgroup": "('llama3.1_8b_chat', 'gsm8k', 'base_3_shot', 'main', 'prompt_answer')",
         "marker": {
          "color": "#1f77b4",
          "opacity": 0.5,
          "size": 6
         },
         "mode": "markers",
         "name": "('llama3.1_8b_chat', 'gsm8k', 'base_3_shot', 'main', 'prompt_answer') Fold ('logistic_regression_f1_score', 1)",
         "showlegend": false,
         "type": "scatter",
         "x": {
          "bdata": "AAECAwQFBgcICQoLDA0ODxAREhMUFRYXGBkaGxwdHh8=",
          "dtype": "i1"
         },
         "y": {
          "bdata": "8uA0kcPH4j84hS2X3g/iPwcwUDFZcOI/yfKXLH/J4j/IDMVq0ZTjP9aUNWVNWeM/C9OzMD0L4z8mE14y4SXjPwX9Xgn6veI/F5X/bN814z9xjX7qm1XjP4xXJbbh4OI/BRqxvX654z+1oxjhgZXiP/6S5S9Z/uI/FgWLgkXB4j+LleEbUWDiP/ghW4oVDuM/VMj7NYAw4z/RtzXAC5LiP9FHRbJjluI/lZUuJf/N4j9UXDIE62jjPxTirPyEOOM/1paIfob14j9I+94YrsLiP87oKMGKqeI/SZDqg8DB4j8SCjRie/3iP36FPiqSHeM/w8W4zScr4z9DmO1CmO3iPw==",
          "dtype": "f8"
         }
        },
        {
         "legendgroup": "('llama3.1_8b_chat', 'gsm8k', 'base_3_shot', 'main', 'prompt_answer')",
         "marker": {
          "color": "#1f77b4",
          "opacity": 0.5,
          "size": 6
         },
         "mode": "markers",
         "name": "('llama3.1_8b_chat', 'gsm8k', 'base_3_shot', 'main', 'prompt_answer') Fold ('logistic_regression_f1_score', 2)",
         "showlegend": false,
         "type": "scatter",
         "x": {
          "bdata": "AAECAwQFBgcICQoLDA0ODxAREhMUFRYXGBkaGxwdHh8=",
          "dtype": "i1"
         },
         "y": {
          "bdata": "0zRN0zRN4z+XejJ+u9TjP+lLSnQwFOM/v1k1PUTR4j8XN2F+V4vjP4aSYCgJhuI/OL3pTW964z9BuBv7HpHjP6DO3s9TxuI/gEkQZfbK4j8W8QmkkvPiP1Q7tVM7teM/ZLGakKjP4j9LR/YMRKXjP9lSrHCYKOM/+CFbihUO4z/2jqmBvWPiP7kxaQBxY+I/xI1JA4gb4z/nIGlDVKnjP1y+5Vu+5eM/yAzFatGU4z9i9f2mPbPjP8Gw5rRs6uM/9DzP8zzP4z/y4DSRw8fiPz8hzspPiOM/eoKjJzh64j/f8i3f8i3jP68WN2F+V+M/ZqeCQJYw4z8/S8SQx2zjPw==",
          "dtype": "f8"
         }
        },
        {
         "legendgroup": "('llama3.1_8b_chat', 'gsm8k', 'base_3_shot', 'main', 'prompt_answer')",
         "marker": {
          "color": "#1f77b4",
          "opacity": 0.5,
          "size": 6
         },
         "mode": "markers",
         "name": "('llama3.1_8b_chat', 'gsm8k', 'base_3_shot', 'main', 'prompt_answer') Fold ('logistic_regression_f1_score', 3)",
         "showlegend": false,
         "type": "scatter",
         "x": {
          "bdata": "AAECAwQFBgcICQoLDA0ODxAREhMUFRYXGBkaGxwdHh8=",
          "dtype": "i1"
         },
         "y": {
          "bdata": "27Zt27Zt4z/6+fn5+fnhP1NTJRuIkeI/E2JOE2JO4z8fg/MxOB/jP1TNjRX7SOM/zXNBOwuX4j+JlwSEE/HiPyaqzuRhbOM/UiEVUiEV4j+5IQakYynjP5JDV5JDV+I/fqjrbg3n4j/tJbSX0F7iP54S5ClBnuI/grqtzX1F4j9lV01U2VXjPxbPm42RV+I/yhXE5Api4j/lLk99Ue7iP2t/G5XDK+M/zyw9s/TM4j8ljOBE8TbiP8z+fDgNoeI/kiRJkiRJ4j9oLszomQvjP3Q029g9R+M//oEdG14K4z8AAAAAAIDiP+p3UJRICOM/lYGnW/PD4j8fg/MxOB/jPw==",
          "dtype": "f8"
         }
        },
        {
         "legendgroup": "('llama3.1_8b_chat', 'gsm8k', 'base_3_shot', 'main', 'prompt_answer')",
         "marker": {
          "color": "#1f77b4",
          "opacity": 0.5,
          "size": 6
         },
         "mode": "markers",
         "name": "('llama3.1_8b_chat', 'gsm8k', 'base_3_shot', 'main', 'prompt_answer') Fold ('logistic_regression_f1_score', 4)",
         "showlegend": false,
         "type": "scatter",
         "x": {
          "bdata": "AAECAwQFBgcICQoLDA0ODxAREhMUFRYXGBkaGxwdHh8=",
          "dtype": "i1"
         },
         "y": {
          "bdata": "UyxaVsEN4j9JtXaN+brhPyKXFQMlvOE/xRJLLLHE4j/S9WwJwQDiP5IkSZIkSeI/fiGRH94X4j/Sd6UtiFriP1DCG02dX+M/nHkuaGfh4j+uWxzNUBDiPxLXJRLXJeI/uSEGpGMp4z/zhZlQavHhP7squXexq+I/kiRJkiRJ4j+1X11Ii+XhP2guzOiZC+M/DmwFquUz4j/0MTgfg/PhP3DtRwlc++E/Cn/vsEnA4T8J8pQgTwniP4plMQr+WOE/5SM9/Q6K4j+SJEmSJEniP0ArAa0EtOI/AQc/N/F64j/MioES3mjiP+SyYqCEN+I/yB4he4Ts4T8ZIPHUkAHiPw==",
          "dtype": "f8"
         }
        },
        {
         "legendgroup": "('llama3.1_8b_chat', 'gsm8k', 'base_3_shot', 'main', 'prompt_only')",
         "line": {
          "color": "#ff7f0e",
          "width": 2
         },
         "marker": {
          "size": 8
         },
         "mode": "lines+markers",
         "name": "('llama3.1_8b_chat', 'gsm8k', 'base_3_shot', 'main', 'prompt_only')",
         "type": "scatter",
         "x": {
          "bdata": "AAECAwQFBgcICQoLDA0ODxAREhMUFRYXGBkaGxwdHh8=",
          "dtype": "i1"
         },
         "y": {
          "bdata": "K8Sk5Cry4T+WDxheiV3iP3t+2SCFD+I/5r5O3GZW4j+uaalvPfDhP5rtKYPFf+I/5BYv6l7t4j9tm5Rd7tziP1ICivrhqOI/srqMEEE54z/c5VpqW+HiPyqANkrc8+I/uyWtfsjX4j/7N+ROKrHiP8MeR2tl6uI/zwWGUCKc4j/UemcIXyriP25rWZsgiOI/HXsLiQba4j+O9sqL7hPjP25sNfna4uI/SCOm4Fic4j8Ylm4bGIviP7Kus926ceI/xcbA8bGw4j+rWLife6jiP5UzaauEyeI/svtvhliL4j8lji8rt6HiP+Ykk1h/yeI/I/t6i3KF4j9jOTLTDpniPw==",
          "dtype": "f8"
         }
        },
        {
         "legendgroup": "('llama3.1_8b_chat', 'gsm8k', 'base_3_shot', 'main', 'prompt_only')",
         "line": {
          "width": 0
         },
         "mode": "lines",
         "name": "('llama3.1_8b_chat', 'gsm8k', 'base_3_shot', 'main', 'prompt_only') Max",
         "showlegend": false,
         "type": "scatter",
         "x": {
          "bdata": "AAECAwQFBgcICQoLDA0ODxAREhMUFRYXGBkaGxwdHh8=",
          "dtype": "i1"
         },
         "y": {
          "bdata": "VnY048Cf4z/Dr8ZEeqDiP+p3UJRICOM/S7bejS/s4j/TL/3SL/3iP4CfOHloPeM/1pQ1ZU1Z4z+Hae6Cv4rjPya0l9BeQuM/fNTqjW7+4z8ijpBRt2HjP7juxiXKfeM/mjZaBKN84z9qYO+YGtjjP/h1U2gCw+M/3hy6m0N34z9PIyz3NMLiP6UbxezPh+M/17cBQzUd4z8rdRLXDBDkP71iWLYSG+Q/xXaU+fd14z9zNmdzNmfjP7juxiXKfeM/wXgr+xxS4z8GAhMZUp3jP3CeNQHnWeM/sHdMDewd4z9vMEU+6wbjP2r+M5nmP+M/geAy1Vj64j9cotw3WUrjPw==",
          "dtype": "f8"
         }
        },
        {
         "fill": "tonexty",
         "fillcolor": "rgba(255, 127, 14, 0.1)",
         "legendgroup": "('llama3.1_8b_chat', 'gsm8k', 'base_3_shot', 'main', 'prompt_only')",
         "line": {
          "width": 0
         },
         "mode": "lines",
         "name": "('llama3.1_8b_chat', 'gsm8k', 'base_3_shot', 'main', 'prompt_only') Min",
         "showlegend": false,
         "type": "scatter",
         "x": {
          "bdata": "AAECAwQFBgcICQoLDA0ODxAREhMUFRYXGBkaGxwdHh8=",
          "dtype": "i1"
         },
         "y": {
          "bdata": "2kCnDXTa4D/blahdidrhP0Mm54bapuE/GyXXRsm14T8OJFphcyDhPw6MOtO4geE/U+SzbjBF4j8qKioqKiriP/YLsaI0PuI/NcC4vQ/Z4j9FdyiJ7lDiPxISEhISEuI/XOEjxRU+4j9vIruJ7CbiP2WSSSaZZOI/SbV2jfm64T/2FNZTWE/hPyVhBCeKt+E/NyPhwbqY4j8yJmMyJmPiP29ln0NqguE/1dUaqas14j8dcsghhxziP40B0xgwjeE/JsGuwpcb4j/NzMzMzEziP1IkRVIkReI/8gv2MoDq4T8AAAAAAADiP0CFd9ybK+I/MIAzH2U74j+SJEmSJEniPw==",
          "dtype": "f8"
         }
        },
        {
         "legendgroup": "('llama3.1_8b_chat', 'gsm8k', 'base_3_shot', 'main', 'prompt_only')",
         "line": {
          "width": 0
         },
         "mode": "lines",
         "name": "('llama3.1_8b_chat', 'gsm8k', 'base_3_shot', 'main', 'prompt_only') +1 STD",
         "showlegend": false,
         "type": "scatter",
         "x": {
          "bdata": "AAECAwQFBgcICQoLDA0ODxAREhMUFRYXGBkaGxwdHh8=",
          "dtype": "i1"
         },
         "y": {
          "bdata": "OKYHi+Qr4z9kH4wnvK7iP1+rpSkeoeI/+JY3mL3E4j/zuZTHTcjiP/iknvpKI+M/gc3B+pVl4z8kl3YYl33jPz9VfPEaGOM/tP1NWFG94z+vBEzOfVDjPyQD8YyzfuM/Zg/z2xNX4z9tlPfpaVrjPx5Zh3CLcOM/Ey7fTmJM4z+kTGfAE7niP6TGJvfoOuM/5XN4cWAJ4z+cE8gh1LrjP0VFwUnX4+M/lXAxpTIe4z/Y8V/BFxTjP9xPoeIIJOM/aUggnjI74z+bC9JGHTbjP4Kt1Y2cP+M/YHs+WgAJ4z+SAVu1cwrjP1Fi57dUP+M/ALZZ00HW4j8M/gPjtgDjPw==",
          "dtype": "f8"
         }
        },
        {
         "fill": "tonexty",
         "fillcolor": "rgba(255, 127, 14, 0.3)",
         "legendgroup": "('llama3.1_8b_chat', 'gsm8k', 'base_3_shot', 'main', 'prompt_only')",
         "line": {
          "width": 0
         },
         "mode": "lines",
         "name": "('llama3.1_8b_chat', 'gsm8k', 'base_3_shot', 'main', 'prompt_only') -1 STD",
         "showlegend": false,
         "type": "scatter",
         "x": {
          "bdata": "AAECAwQFBgcICQoLDA0ODxAREhMUFRYXGBkaGxwdHh8=",
          "dtype": "i1"
         },
         "y": {
          "bdata": "HuJBPnG44D/I/6OUVgziP5dRDRjsfeE/1OZlIBDo4T9pGb4XLRjhPzw2tQtA3OE/R2Cc2Sd14j+2n7KiRTziP2WvlwOpOeI/sHfLyDC14j8Jx2kGOXLiPzD9ewcFaeI/EDxnIX1Y4j+J29Cz6gfiP2jkBmY/ZOI/i90sUuLr4T8EqWdQqpvhPzgQjD9Y1eE/VYKeoKyq4j+A2c31CG3iP5eTqaje4eE/+9UaHH8a4j9YOn11GALiP4gNxthsv+E/IUVhRTEm4j+7pZ742RriP6i5/MhsU+I/BHyhsrAN4j+4GgSh+jjiP3vnPvmpU+I/RkCcQ6M04j+6dGDDZjHiPw==",
          "dtype": "f8"
         }
        },
        {
         "legendgroup": "('llama3.1_8b_chat', 'gsm8k', 'base_3_shot', 'main', 'prompt_only')",
         "marker": {
          "color": "#ff7f0e",
          "opacity": 0.5,
          "size": 6
         },
         "mode": "markers",
         "name": "('llama3.1_8b_chat', 'gsm8k', 'base_3_shot', 'main', 'prompt_only') Fold ('logistic_regression_f1_score', 0)",
         "showlegend": false,
         "type": "scatter",
         "x": {
          "bdata": "AAECAwQFBgcICQoLDA0ODxAREhMUFRYXGBkaGxwdHh8=",
          "dtype": "i1"
         },
         "y": {
          "bdata": "nm7ND4uU4T/blahdidrhPyELWchCFuI/SzFBd5Vi4j9KvR1uBrDiP0/sxE7sxOI/nQE0zRlA4z/sG0vj+sbiP/YLsaI0PuI/YHgWHOPb4j/4Nn+FWY3iP31AdeytDeM/XOEjxRU+4j8DPjlcBnziPxyXKPdNluI/WzPOPz4w4j+h7S0NXxLiPyVhBCeKt+E/NyPhwbqY4j8yJmMyJmPiP29ln0NqguE/a8e4q8JM4j/ASj4J3WLiP1gMy1Zig+I/Uyu1Uiu14j/NzMzMzEziP+5JTHp7EuM/Qrl62p+p4j+unvZnqvTiP2r+M5nmP+M/JHm33EG44j8mkDWM9pviPw==",
          "dtype": "f8"
         }
        },
        {
         "legendgroup": "('llama3.1_8b_chat', 'gsm8k', 'base_3_shot', 'main', 'prompt_only')",
         "marker": {
          "color": "#ff7f0e",
          "opacity": 0.5,
          "size": 6
         },
         "mode": "markers",
         "name": "('llama3.1_8b_chat', 'gsm8k', 'base_3_shot', 'main', 'prompt_only') Fold ('logistic_regression_f1_score', 1)",
         "showlegend": false,
         "type": "scatter",
         "x": {
          "bdata": "AAECAwQFBgcICQoLDA0ODxAREhMUFRYXGBkaGxwdHh8=",
          "dtype": "i1"
         },
         "y": {
          "bdata": "mjq/9pDL4j/Dr8ZEeqDiP0Mm54bapuE/PolJb09i4j8OJFphcyDhP7NioIQ3muI/NyPhwbqY4j+Hae6Cv4rjPxW9pdNw9+I/fNTqjW7+4z8H7qzP+BHjPya0l9BeQuM/mjZaBKN84z94KcwAP3HiP4ts5/up8eI/3hy6m0N34z/4Nn+FWY3iP0iv0w9of+I/0HL+LOfP4j8mtJfQXkLjPwpCEos+heM/kSHVOblm4j9BVDqyZyDiP15Qv3j8bOI/H4PzMTgf4z/ddyrRfafiP5eAS8Al4OI/8gv2MoDq4T8AAAAAAADiP0CFd9ybK+I/vfxpCw1Y4j/zoO0tDV/iPw==",
          "dtype": "f8"
         }
        },
        {
         "legendgroup": "('llama3.1_8b_chat', 'gsm8k', 'base_3_shot', 'main', 'prompt_only')",
         "marker": {
          "color": "#ff7f0e",
          "opacity": 0.5,
          "size": 6
         },
         "mode": "markers",
         "name": "('llama3.1_8b_chat', 'gsm8k', 'base_3_shot', 'main', 'prompt_only') Fold ('logistic_regression_f1_score', 2)",
         "showlegend": false,
         "type": "scatter",
         "x": {
          "bdata": "AAECAwQFBgcICQoLDA0ODxAREhMUFRYXGBkaGxwdHh8=",
          "dtype": "i1"
         },
         "y": {
          "bdata": "b3TPf4Xg4D8HZosX5WfiP9RRRx111OE/GyXXRsm14T+RQrFuvU7hPw6MOtO4geE/1pQ1ZU1Z4z8qKioqKiriP+0LIHYtWuI/FWogmLWF4z/mUuHj0BTjP1+LKn5k4+I/rSlrypqy4j9vIruJ7CbiP2WSSSaZZOI/SbV2jfm64T/2FNZTWE/hPy176mQ41OI/X4sqfmTj4j/rwE2OVhLjP7xAJsULZOI/0noB25yu4j8dcsghhxziP40B0xgwjeE/JsGuwpcb4j8BbDsF+k/iP6R0+8rqXeI/Jg8GnHEt4j8uE5LOOIniP0XVYtZvw+I/MIAzH2U74j/tJrKbyG7iPw==",
          "dtype": "f8"
         }
        },
        {
         "legendgroup": "('llama3.1_8b_chat', 'gsm8k', 'base_3_shot', 'main', 'prompt_only')",
         "marker": {
          "color": "#ff7f0e",
          "opacity": 0.5,
          "size": 6
         },
         "mode": "markers",
         "name": "('llama3.1_8b_chat', 'gsm8k', 'base_3_shot', 'main', 'prompt_only') Fold ('logistic_regression_f1_score', 3)",
         "showlegend": false,
         "type": "scatter",
         "x": {
          "bdata": "AAECAwQFBgcICQoLDA0ODxAREhMUFRYXGBkaGxwdHh8=",
          "dtype": "i1"
         },
         "y": {
          "bdata": "VnY048Cf4z93ihbOgFDiP+p3UJRICOM/S7bejS/s4j/TL/3SL/3iP4CfOHloPeM/eNTsL4gr4z/Kh6xQNnjjPya0l9BeQuM/Uy7lUi7l4j8ijpBRt2HjP7juxiXKfeM/MzMzMzMz4z9qYO+YGtjjP/h1U2gCw+M/B+6sz/gR4z9PIyz3NMLiP6UbxezPh+M/UI4t/eTY4j8rdRLXDBDkP71iWLYSG+Q/xXaU+fd14z9zNmdzNmfjP7juxiXKfeM/wXgr+xxS4z8GAhMZUp3jP3CeNQHnWeM/sHdMDewd4z9vMEU+6wbjPyCU3ClaOOM/geAy1Vj64j9cotw3WUrjPw==",
          "dtype": "f8"
         }
        },
        {
         "legendgroup": "('llama3.1_8b_chat', 'gsm8k', 'base_3_shot', 'main', 'prompt_only')",
         "marker": {
          "color": "#ff7f0e",
          "opacity": 0.5,
          "size": 6
         },
         "mode": "markers",
         "name": "('llama3.1_8b_chat', 'gsm8k', 'base_3_shot', 'main', 'prompt_only') Fold ('logistic_regression_f1_score', 4)",
         "showlegend": false,
         "type": "scatter",
         "x": {
          "bdata": "AAECAwQFBgcICQoLDA0ODxAREhMUFRYXGBkaGxwdHh8=",
          "dtype": "i1"
         },
         "y": {
          "bdata": "2kCnDXTa4D/TF2dORaDiP0d9Z6O+s+E/kiRJkiRJ4j+tvCgdzJThP3Up+W+WYOI/U+SzbjBF4j+60dbyjFziP3qCoyc4euI/NcC4vQ/Z4j9FdyiJ7lDiPxISEhISEuI/0UdFsmOW4j+RLcUKh4niP8yNtpZn5OI/gynyWTeY4j9HCVZMlSLiP+xxN4CoFeI/17cBQzUd4z9TwJtSwJviPznT2pN/5+I/1dUaqas14j/mpoA4drDiP34cXkZNPeI/gflAdmEx4j+qCFRi02jiP1IkRVIkReI/dZ5s6TzZ4j9r5B9jxaPiP2zL9EQwiOI/IBHf3C9V4j+SJEmSJEniPw==",
          "dtype": "f8"
         }
        },
        {
         "legendgroup": "('llama3.1_8b_chat', 'gsm8k', 'cot_3_shot', 'main', 'prompt_answer')",
         "line": {
          "color": "#2ca02c",
          "width": 2
         },
         "marker": {
          "size": 8
         },
         "mode": "lines+markers",
         "name": "('llama3.1_8b_chat', 'gsm8k', 'cot_3_shot', 'main', 'prompt_answer')",
         "type": "scatter",
         "x": {
          "bdata": "AAECAwQFBgcICQoLDA0ODxAREhMUFRYXGBkaGxwdHh8=",
          "dtype": "i1"
         },
         "y": {
          "bdata": "TNHvCL6c4T+IxX3PKtnhP9F3u+5Sv+E/l2jjpPfz4T/a405/5CriP+8OXKilcOI/QLo8oh9y4j91GEYyS/PhP9YY0oJmEeI/DikQeZ4y4j+luXMjE17iP5volAecOeI/Jey4OVtw4j+VkcFKWbLiP/YF1vRUb+I/qVSHxIJx4j9FGgTKkY7iP1d3ZUDJW+I/wmfbcSte4j8Vzu2RDxbiPwbyzjXRVOI/HvK1pNRU4j866HX6yiDiP8Ipn2PSWeI/tZ3/zHjG4T+FzhvRehriPyuMzlYJEuI/HaMs4NMB4j/HXwi33+PhP2h8hQJM4eE/MIEwCyer4T+2BTqODDTiPw==",
          "dtype": "f8"
         }
        },
        {
         "legendgroup": "('llama3.1_8b_chat', 'gsm8k', 'cot_3_shot', 'main', 'prompt_answer')",
         "line": {
          "width": 0
         },
         "mode": "lines",
         "name": "('llama3.1_8b_chat', 'gsm8k', 'cot_3_shot', 'main', 'prompt_answer') Max",
         "showlegend": false,
         "type": "scatter",
         "x": {
          "bdata": "AAECAwQFBgcICQoLDA0ODxAREhMUFRYXGBkaGxwdHh8=",
          "dtype": "i1"
         },
         "y": {
          "bdata": "ibV1ken64T8mvH6BlWbiP5IkSZIkSeI/+HgGuVnq4j8ou+75SaviP1m05nujjuM/EpP8blr04j85ZvLhZqXiP2O8/LoDmOI//bL4IIwT4z9SU5dMauriPz+WkU053uI/vRyoitEJ4z/Jm51LtSHjP8alZA+30+I/EyzBEizB4j9/ecuRWhXjPy34WXW6H+M/NjV3toHI4j+wjjbvU1ziPxT/m53MuOI/tUw5Ov224j+nRo46F9DiP+8huWY30OI/+gZqGHPV4j8Oul0rJzzjP7PGxQJJLeM/59BAEf9Z4z/9QJiQHwjjP+9X5A4z+OI//zia7DSP4j/WmEgPVM7iPw==",
          "dtype": "f8"
         }
        },
        {
         "fill": "tonexty",
         "fillcolor": "rgba(44, 160, 44, 0.1)",
         "legendgroup": "('llama3.1_8b_chat', 'gsm8k', 'cot_3_shot', 'main', 'prompt_answer')",
         "line": {
          "width": 0
         },
         "mode": "lines",
         "name": "('llama3.1_8b_chat', 'gsm8k', 'cot_3_shot', 'main', 'prompt_answer') Min",
         "showlegend": false,
         "type": "scatter",
         "x": {
          "bdata": "AAECAwQFBgcICQoLDA0ODxAREhMUFRYXGBkaGxwdHh8=",
          "dtype": "i1"
         },
         "y": {
          "bdata": "QGS4V8Es4T+eikGBChLhP1Vrau5sA+E/cp/M+SZU4T8F3+avMKvhP2k0Go1Go+E/vMaTgdb04T8IIYQQQgjhP3PSAa5pbOE/qSfjt0s94T/3Vgeh1LzhP18hrMiRrOE/wXXFQ4PJ4T8Y0YAY3yTiP3Z2tacGseE/54L3jsCl4T/kOI7jOI7hP1BWSjNxV+E/oNBTRP164T/c6qVTsuzhP32lsRtV5uE/+AZbKZh54T9pVdyH/9XgP5zEILByaOE/SvyMEj+j4D+aBMyxczHhP/OSqFcjCOE/ERERERER4T+9ZAcYzt3gP3VQB3VQB+E/esjjy4AC4T+fTsRJMKfhPw==",
          "dtype": "f8"
         }
        },
        {
         "legendgroup": "('llama3.1_8b_chat', 'gsm8k', 'cot_3_shot', 'main', 'prompt_answer')",
         "line": {
          "width": 0
         },
         "mode": "lines",
         "name": "('llama3.1_8b_chat', 'gsm8k', 'cot_3_shot', 'main', 'prompt_answer') +1 STD",
         "showlegend": false,
         "type": "scatter",
         "x": {
          "bdata": "AAECAwQFBgcICQoLDA0ODxAREhMUFRYXGBkaGxwdHh8=",
          "dtype": "i1"
         },
         "y": {
          "bdata": "Q+7Oj5vx4T9g5wupCmTiPzlvOV8HSuI/G+m06Iqh4j84+MncRojiP9FkLKOYKeM/lMaG4GbX4j+qXVTxLJziP30FFzzhjOI/FE2IFxTe4j+0tnhnRuriP6KR01G7wuI/afUE5iX74j9UXB9QDxTjPyzF0q0T5OI/xUKNEl3r4j8hQGy5mCvjPySJavXZ/+I/J+X2+jjw4j+QbrhMkUDiP/NdWekCquI/4vjMps/W4j+qvMMq2uHiP+1jSS+v7uI/Imsl7dyf4j8c2H/k6ubiP8RHl4oG2eI/wnyQGNzd4j+OS2bJN7XiP5an0uYPruI/zd+D6G094j9+ZFgnIZ7iPw==",
          "dtype": "f8"
         }
        },
        {
         "fill": "tonexty",
         "fillcolor": "rgba(44, 160, 44, 0.3)",
         "legendgroup": "('llama3.1_8b_chat', 'gsm8k', 'cot_3_shot', 'main', 'prompt_answer')",
         "line": {
          "width": 0
         },
         "mode": "lines",
         "name": "('llama3.1_8b_chat', 'gsm8k', 'cot_3_shot', 'main', 'prompt_answer') -1 STD",
         "showlegend": false,
         "type": "scatter",
         "x": {
          "bdata": "AAECAwQFBgcICQoLDA0ODxAREhMUFRYXGBkaGxwdHh8=",
          "dtype": "i1"
         },
         "y": {
          "bdata": "VbQQguBH4T+wo+/1Sk7hP2mAPX6eNOE/E+gRYWRG4T98z9Mhgs3hPw25i62yt+E/7K3yY9gM4j9A0zdzaUrhPy8sjcnrleE/CAWY2iiH4T+WvG7f39HhP5Q/Vr18sOE/4eJsjZDl4T/WxmNFo1DiP8BG2TuW+uE/jWaBdqj34T9p9JvaivHhP4plYIu4t+E/Xeq/6B3M4T+aLSPXjevhPxmGRIKf/+E/WuueotnS4T/KEyjKu1/hP5fv9Jf1xOE/SNDZrBTt4D/uxLe9Ck7hP5LQBSMMS+E/eMnIp8sl4T8AdKqkhxLhPzpROB6IFOE/kyLdLeAY4T/uphv198nhPw==",
          "dtype": "f8"
         }
        },
        {
         "legendgroup": "('llama3.1_8b_chat', 'gsm8k', 'cot_3_shot', 'main', 'prompt_answer')",
         "marker": {
          "color": "#2ca02c",
          "opacity": 0.5,
          "size": 6
         },
         "mode": "markers",
         "name": "('llama3.1_8b_chat', 'gsm8k', 'cot_3_shot', 'main', 'prompt_answer') Fold ('logistic_regression_f1_score', 0)",
         "showlegend": false,
         "type": "scatter",
         "x": {
          "bdata": "AAECAwQFBgcICQoLDA0ODxAREhMUFRYXGBkaGxwdHh8=",
          "dtype": "i1"
         },
         "y": {
          "bdata": "ibV1ken64T++CmZJOSDiP5IkSZIkSeI/+HgGuVnq4j9WIIy0YwXiP8b/VtfUkeI/Kh/G/bqk4j8JpzQv/kTiP2ZmZmZmZuI/hifkal144j+WlAMiw73iP0rz4k8knOI/iOSa3UBL4j8Y0YAY3yTiPwG511xImuI/apslmbZZ4j8qzYs/kXDiPxiohIjBdOI/NjV3toHI4j/c6qVTsuzhP2pwqhe4i+I/r2dJ0OtZ4j8qaB8pMmriP1qU1I8zxeI/+141n/BC4j9mZVvtMjDiPzIyMjIyMuI/iMkVxOQK4j/ImJA2WMrhP38NW87GReE/JngwT9S/4T9LqWS4ZiHiPw==",
          "dtype": "f8"
         }
        },
        {
         "legendgroup": "('llama3.1_8b_chat', 'gsm8k', 'cot_3_shot', 'main', 'prompt_answer')",
         "marker": {
          "color": "#2ca02c",
          "opacity": 0.5,
          "size": 6
         },
         "mode": "markers",
         "name": "('llama3.1_8b_chat', 'gsm8k', 'cot_3_shot', 'main', 'prompt_answer') Fold ('logistic_regression_f1_score', 1)",
         "showlegend": false,
         "type": "scatter",
         "x": {
          "bdata": "AAECAwQFBgcICQoLDA0ODxAREhMUFRYXGBkaGxwdHh8=",
          "dtype": "i1"
         },
         "y": {
          "bdata": "QGS4V8Es4T+eikGBChLhP1Vrau5sA+E/aTQajUaj4T8F3+avMKvhP2k0Go1Go+E/DZp75CUo4j8IIYQQQgjhP3PSAa5pbOE/qSfjt0s94T8eWjULRdLhPz0HaHc0suE/wXXFQ4PJ4T9TtT1MQ6viP9xfmSh0U+I/54L3jsCl4T/kOI7jOI7hP1BWSjNxV+E/oNBTRP164T981XzCCwniP32lsRtV5uE/+AZbKZh54T9pVdyH/9XgP5zEILByaOE/SvyMEj+j4D+aBMyxczHhP/OSqFcjCOE/ERERERER4T+9ZAcYzt3gP3VQB3VQB+E/esjjy4AC4T++CmZJOSDiPw==",
          "dtype": "f8"
         }
        },
        {
         "legendgroup": "('llama3.1_8b_chat', 'gsm8k', 'cot_3_shot', 'main', 'prompt_answer')",
         "marker": {
          "color": "#2ca02c",
          "opacity": 0.5,
          "size": 6
         },
         "mode": "markers",
         "name": "('llama3.1_8b_chat', 'gsm8k', 'cot_3_shot', 'main', 'prompt_answer') Fold ('logistic_regression_f1_score', 2)",
         "showlegend": false,
         "type": "scatter",
         "x": {
          "bdata": "AAECAwQFBgcICQoLDA0ODxAREhMUFRYXGBkaGxwdHh8=",
          "dtype": "i1"
         },
         "y": {
          "bdata": "GvwvYWO44T87ZahVGCHiP4tQo0VvB+I/bSazmcxm4j/OlHCOtzviP8LeViZeBOI/vMaTgdb04T95Zxj8j4LhP2MiPVA5u+E/LEZ/acYG4j87B2uWGJ/iP+HYX0joRuI/vRyoitEJ4z9yL/CvGvfiP7rooosuuuI/fiucdti34j9/ecuRWhXjP/IdIlePaOI/P7uA2FQa4j+DrgNrBBriPwhgp0I6ZOI/AMUcmV624j+nRo46F9DiP9AyJ78lkuI/ip3YiZ3Y4T+8QCbFC2TiPxl4ujU/LOI/D4R3ei4T4j/h2F9I6EbiP9eyWPeDY+I/6n7xk7Rn4T+fTsRJMKfhPw==",
          "dtype": "f8"
         }
        },
        {
         "legendgroup": "('llama3.1_8b_chat', 'gsm8k', 'cot_3_shot', 'main', 'prompt_answer')",
         "marker": {
          "color": "#2ca02c",
          "opacity": 0.5,
          "size": 6
         },
         "mode": "markers",
         "name": "('llama3.1_8b_chat', 'gsm8k', 'cot_3_shot', 'main', 'prompt_answer') Fold ('logistic_regression_f1_score', 3)",
         "showlegend": false,
         "type": "scatter",
         "x": {
          "bdata": "AAECAwQFBgcICQoLDA0ODxAREhMUFRYXGBkaGxwdHh8=",
          "dtype": "i1"
         },
         "y": {
          "bdata": "sJlbTzfR4T/sJKZr5IPhP0jl2c0UEeI/cp/M+SZU4T/uI7iP4D7iP2ODHUMfa+I/PpBdWIyE4j85ZvLhZqXiP4xkeG7zMOI/7YQRsBwt4j/3Vgeh1LzhP18hrMiRrOE/Q6vA2FMe4j9EhnsVzJLiP3Z2tacGseE/aDEqJRK/4j9sjZjxufziPy34WXW6H+M/BRq6FBK+4j/eCEhpNwLiPxpFa/kBGeI/OzqTakdn4j/aYNibNFPiPxIjRowYMeI/whT5rBtM4T/Mo9+FjILhP+e4re9QxuE/AAAAAACA4T+Cx5lrMHzhP04F/MKtveE/ZY1SnISe4T8VgUpsGk3iPw==",
          "dtype": "f8"
         }
        },
        {
         "legendgroup": "('llama3.1_8b_chat', 'gsm8k', 'cot_3_shot', 'main', 'prompt_answer')",
         "marker": {
          "color": "#2ca02c",
          "opacity": 0.5,
          "size": 6
         },
         "mode": "markers",
         "name": "('llama3.1_8b_chat', 'gsm8k', 'cot_3_shot', 'main', 'prompt_answer') Fold ('logistic_regression_f1_score', 4)",
         "showlegend": false,
         "type": "scatter",
         "x": {
          "bdata": "AAECAwQFBgcICQoLDA0ODxAREhMUFRYXGBkaGxwdHh8=",
          "dtype": "i1"
         },
         "y": {
          "bdata": "62b1knBe4T8mvH6BlWbiP1iReBWJV+E/tJfQXkJ74T8ou+75SaviP1m05nujjuM/EpP8blr04j+I5JrdQEviP2O8/LoDmOI//bL4IIwT4z9SU5dMauriPz+WkU053uI/b3rTm9704j/Jm51LtSHjP8alZA+30+I/EyzBEizB4j9gdpZL+rfiPy1AsLlxduI/rytDUfO64j+wjjbvU1ziPxT/m53MuOI/tUw5Ov224j8IJOtceUDiP+8huWY30OI/+gZqGHPV4j8Oul0rJzzjP7PGxQJJLeM/59BAEf9Z4z/9QJiQHwjjP+9X5A4z+OI//zia7DSP4j/WmEgPVM7iPw==",
          "dtype": "f8"
         }
        },
        {
         "legendgroup": "('llama3.1_8b_chat', 'gsm8k', 'cot_3_shot', 'main', 'prompt_only')",
         "line": {
          "color": "#d62728",
          "width": 2
         },
         "marker": {
          "size": 8
         },
         "mode": "lines+markers",
         "name": "('llama3.1_8b_chat', 'gsm8k', 'cot_3_shot', 'main', 'prompt_only')",
         "type": "scatter",
         "x": {
          "bdata": "AAECAwQFBgcICQoLDA0ODxAREhMUFRYXGBkaGxwdHh8=",
          "dtype": "i1"
         },
         "y": {
          "bdata": "gnAVH3iH4T9YPPBf/qHhPzTHUtYGtuE/JZbRIJBR4T90dUZ1q3PhP7N+xRuqqOE/QruaWFCj4T9SZa+gHN3hPwI+42SFBOI/PUEnSxT04T8tDKvnDwTiPy3nj06EA+I/yBOhribw4T+4AjheAyviPzg+XQUkTuI/o54IHokP4j/weEsrJEjiPz0KBU+Jz+E/QxaPmjN+4T92aSmlfIDhPx7ENv8Il+E/GvID6DSh4T8Kq4g1l6jhP9NQX9y90uE/SmBiwq/h4T8koBa6697hP4XtM4tD6uE/4EDEXivR4T/bozht69nhPyPx647StOE/8q0yfUmT4T+FfxCgpnPhPw==",
          "dtype": "f8"
         }
        },
        {
         "legendgroup": "('llama3.1_8b_chat', 'gsm8k', 'cot_3_shot', 'main', 'prompt_only')",
         "line": {
          "width": 0
         },
         "mode": "lines",
         "name": "('llama3.1_8b_chat', 'gsm8k', 'cot_3_shot', 'main', 'prompt_only') Max",
         "showlegend": false,
         "type": "scatter",
         "x": {
          "bdata": "AAECAwQFBgcICQoLDA0ODxAREhMUFRYXGBkaGxwdHh8=",
          "dtype": "i1"
         },
         "y": {
          "bdata": "8jrN8TrN4T9jYOIAKkviP34tk0UOEOI/0zGXCE8K4j8Opshn3WDiP1wYEeiHDuI/EhISEhIS4j8cx3Ecx3HiP9IcaY40R+I/+dafhkNu4j+bMche9YviP7uHrW8DhuI/gflAdmEx4j86GA2066jiP/WqzTVuF+M/Ey3REi3R4j84+7ZHR8ziP2G4T6oxR+I//Kw63Y8J4j+h+Al68V7iP7r1dBMdeeI/DRHGciFd4j9RJPfJnG/iP+U+mfNNqOI/1eYat4sJ4z/XrvvpQtXiP3Tnzp07d+I/KvrcLRNz4j/p/SBdDWDiP5IkSZIkSeI/rr2x+gM94j+QZTcenCbiPw==",
          "dtype": "f8"
         }
        },
        {
         "fill": "tonexty",
         "fillcolor": "rgba(214, 39, 40, 0.1)",
         "legendgroup": "('llama3.1_8b_chat', 'gsm8k', 'cot_3_shot', 'main', 'prompt_only')",
         "line": {
          "width": 0
         },
         "mode": "lines",
         "name": "('llama3.1_8b_chat', 'gsm8k', 'cot_3_shot', 'main', 'prompt_only') Min",
         "showlegend": false,
         "type": "scatter",
         "x": {
          "bdata": "AAECAwQFBgcICQoLDA0ODxAREhMUFRYXGBkaGxwdHh8=",
          "dtype": "i1"
         },
         "y": {
          "bdata": "2gKOz5E34T+oMSNNIO/gP/EVX/EVX+E/5JNsCDqs4D8pZn8+nIbgPzaU11BeQ+E/bo962LFf4T9/qZK+QljhP1qO/Fwxy+E/iWxENiIb4T+GF+ehY3jhP3PjFU2rfOE/O4rwVbGe4T+iuGr7gK3hP5+Nuy/s1+E/vhXFI+Fb4T8I5xI3dJ7hP4MhNBhCg+E/XJ2GhKvT4D/gujjx9grhP5eWlpaWluA/rBaYsXzE4D89oRYwJnHgP3ULOZRKt+A/nVmACjvr4D8R1iQR1iThP5Ch60v8x+A/VSH4qFuq4D9/DVvOxkXhP3zNJon+9eA/KCbZt+fS4D8NWNLLn7bgPw==",
          "dtype": "f8"
         }
        },
        {
         "legendgroup": "('llama3.1_8b_chat', 'gsm8k', 'cot_3_shot', 'main', 'prompt_only')",
         "line": {
          "width": 0
         },
         "mode": "lines",
         "name": "('llama3.1_8b_chat', 'gsm8k', 'cot_3_shot', 'main', 'prompt_only') +1 STD",
         "showlegend": false,
         "type": "scatter",
         "x": {
          "bdata": "AAECAwQFBgcICQoLDA0ODxAREhMUFRYXGBkaGxwdHh8=",
          "dtype": "i1"
         },
         "y": {
          "bdata": "5rdvVw/I4T+ITuR+mjLiPzv98eU1+OE/yCk4Wvbf4T9fZf6OZibiP1Y+eDlVA+I/XK0Z6jH64T/nT/klBEjiP0PGqckDQuI/YV2rdtJ64j97cvlTN4DiP5ggRYaReeI/b/SaP2Ex4j8NhjpDpJriP+epA8DF1eI/TG1bRqyX4j/eMEZgMMfiP40BXpaxG+I/XAVFvuQG4j8A0b7PjwziP9IQgPjSRuI/hC/jz6VH4j9whseA0X/iP31i+RMrtOI/P8RKdZjC4j/7trMEHoviP9SYsupGpOI/zjvJTQqB4j/CQUufI0DiPzojrfwKXuI/v9loxiQf4j+v3V0c0CXiPw==",
          "dtype": "f8"
         }
        },
        {
         "fill": "tonexty",
         "fillcolor": "rgba(214, 39, 40, 0.3)",
         "legendgroup": "('llama3.1_8b_chat', 'gsm8k', 'cot_3_shot', 'main', 'prompt_only')",
         "line": {
          "width": 0
         },
         "mode": "lines",
         "name": "('llama3.1_8b_chat', 'gsm8k', 'cot_3_shot', 'main', 'prompt_only') -1 STD",
         "showlegend": false,
         "type": "scatter",
         "x": {
          "bdata": "AAECAwQFBgcICQoLDA0ODxAREhMUFRYXGBkaGxwdHh8=",
          "dtype": "i1"
         },
         "y": {
          "bdata": "Him75uBG4T8oKvxAYhHhPy2Rs8bXc+E/ggJr5ynD4D+JhY5b8MDgPxC/Ev7+TeE/KMkbx25M4T+9emUbNXLhP8G1HAAHx+E/GSWjH1Zt4T/fpVx76IfhP8Kt2hZ3jeE/ITOnHeyu4T9jfzV5YrvhP4nStkqCxuE/+s+19WWH4T8CwVD2F8nhP+0SrAdhg+E/KifZdoL14D/sAZR6afTgP2p37QU/5+A/sLQkAMT64D+kz0nqXNHgPyk/xaRQ8eA/Vfx5D8cA4T9NiXlvuTLhPzZCtStAMOE/8kW/b0wh4T/0BSY7s3PhPwy/KiGaC+E/JYL8M24H4T9bIcMjfcHgPw==",
          "dtype": "f8"
         }
        },
        {
         "legendgroup": "('llama3.1_8b_chat', 'gsm8k', 'cot_3_shot', 'main', 'prompt_only')",
         "marker": {
          "color": "#d62728",
          "opacity": 0.5,
          "size": 6
         },
         "mode": "markers",
         "name": "('llama3.1_8b_chat', 'gsm8k', 'cot_3_shot', 'main', 'prompt_only') Fold ('logistic_regression_f1_score', 0)",
         "showlegend": false,
         "type": "scatter",
         "x": {
          "bdata": "AAECAwQFBgcICQoLDA0ODxAREhMUFRYXGBkaGxwdHh8=",
          "dtype": "i1"
         },
         "y": {
          "bdata": "XoQX4UV44T9jYOIAKkviP34tk0UOEOI/d8sJlpEH4T+IINOnRNbhP3qjX64Qy+E/bo962LFf4T8cx3Ecx3HiP38PlcElR+I/KBJOaV784T+bMche9YviP7+shKo/T+I/yD+rjDMh4j86GA2066jiP/WqzTVuF+M/Ey3REi3R4j84+7ZHR8ziP60yzoRI6eE//Kw63Y8J4j+h+Al68V7iP7r1dBMdeeI/DRHGciFd4j9RJPfJnG/iP+U+mfNNqOI/1eYat4sJ4z/XrvvpQtXiP3Tnzp07d+I/C7q/ASgz4j9AmcXS4ADiP5IkSZIkSeI/rr2x+gM94j8yDdvN8iTiPw==",
          "dtype": "f8"
         }
        },
        {
         "legendgroup": "('llama3.1_8b_chat', 'gsm8k', 'cot_3_shot', 'main', 'prompt_only')",
         "marker": {
          "color": "#d62728",
          "opacity": 0.5,
          "size": 6
         },
         "mode": "markers",
         "name": "('llama3.1_8b_chat', 'gsm8k', 'cot_3_shot', 'main', 'prompt_only') Fold ('logistic_regression_f1_score', 1)",
         "showlegend": false,
         "type": "scatter",
         "x": {
          "bdata": "AAECAwQFBgcICQoLDA0ODxAREhMUFRYXGBkaGxwdHh8=",
          "dtype": "i1"
         },
         "y": {
          "bdata": "8jrN8TrN4T9orA+N9aHhP04i8JD2veE/0zGXCE8K4j8Opshn3WDiP0WNkQJ33+E/ej3s6k9m4T9/qZK+QljhP9IcaY40R+I/+dafhkNu4j8OMoztYIHiP1/a9Y8VLuI/OaPdw9a34T+iuGr7gK3hP1XYYpj17+E/xAYdz1/l4T9on3BE/rviP2G4T6oxR+I/pEWi6wz14T+p+/LYiqDhP1sC3829nuE/iODYpVEg4j+cTAhDp1riPx0FFDkKKOI/UgxuUgxu4j+wY52BLgjiP+/KBtAiauI/KvrcLRNz4j/p/SBdDWDiP/KAxSqkPeI/kq3zka3z4T+QZTcenCbiPw==",
          "dtype": "f8"
         }
        },
        {
         "legendgroup": "('llama3.1_8b_chat', 'gsm8k', 'cot_3_shot', 'main', 'prompt_only')",
         "marker": {
          "color": "#d62728",
          "opacity": 0.5,
          "size": 6
         },
         "mode": "markers",
         "name": "('llama3.1_8b_chat', 'gsm8k', 'cot_3_shot', 'main', 'prompt_only') Fold ('logistic_regression_f1_score', 2)",
         "showlegend": false,
         "type": "scatter",
         "x": {
          "bdata": "AAECAwQFBgcICQoLDA0ODxAREhMUFRYXGBkaGxwdHh8=",
          "dtype": "i1"
         },
         "y": {
          "bdata": "5LeMfbZi4T8w3YnypTvhP/EVX/EVX+E/5JNsCDqs4D8xye+mRS/hPy2cAaHkTuE/5ov1UGxn4T93xB1xR9zhP1qO/Fwxy+E/apslmbZZ4j+GF+ehY3jhP5KRkZGRkeE/O4rwVbGe4T8et898D0fiP5+Nuy/s1+E/3or/Pa8+4j8I5xI3dJ7hP3rCbBhar+E/XJ2GhKvT4D+RhSxkIQvhP1ZGTPK7aeE/rBaYsXzE4D89oRYwJnHgP3ULOZRKt+A/nVmACjvr4D8R1iQR1iThP5Ch60v8x+A/VSH4qFuq4D9/DVvOxkXhPzyh+0pKBeE/KCbZt+fS4D8NWNLLn7bgPw==",
          "dtype": "f8"
         }
        },
        {
         "legendgroup": "('llama3.1_8b_chat', 'gsm8k', 'cot_3_shot', 'main', 'prompt_only')",
         "marker": {
          "color": "#d62728",
          "opacity": 0.5,
          "size": 6
         },
         "mode": "markers",
         "name": "('llama3.1_8b_chat', 'gsm8k', 'cot_3_shot', 'main', 'prompt_only') Fold ('logistic_regression_f1_score', 3)",
         "showlegend": false,
         "type": "scatter",
         "x": {
          "bdata": "AAECAwQFBgcICQoLDA0ODxAREhMUFRYXGBkaGxwdHh8=",
          "dtype": "i1"
         },
         "y": {
          "bdata": "erhre4/F4T8SEhISEhLiP98cfXP0zeE/RAcpYHm84T9VVVVVVVXhP1wYEeiHDuI/EhISEhIS4j9ooMyQtAviP1QzxoO/2OE/HlVsuOrk4T8HsJevHLbhP7uHrW8DhuI/gflAdmEx4j+69XQTHXniPym9p9NsDOI/ukR4UpD84T/jkLHXLj/iPyVkWiuYquE/ijdAWqiS4T+R2myR2mzhP5L/2pH/2uE/A0btR5qp4T/e3d3d3d3hP7uHrW8DhuI/eYVCujzd4T8HOm2g0wbiPzBFPusGU+I/8MEHH3zw4T+wmVtPN9HhP3WhajkLBuI/UD5u6hRg4T8pQZ8ZFHPhPw==",
          "dtype": "f8"
         }
        },
        {
         "legendgroup": "('llama3.1_8b_chat', 'gsm8k', 'cot_3_shot', 'main', 'prompt_only')",
         "marker": {
          "color": "#d62728",
          "opacity": 0.5,
          "size": 6
         },
         "mode": "markers",
         "name": "('llama3.1_8b_chat', 'gsm8k', 'cot_3_shot', 'main', 'prompt_only') Fold ('logistic_regression_f1_score', 4)",
         "showlegend": false,
         "type": "scatter",
         "x": {
          "bdata": "AAECAwQFBgcICQoLDA0ODxAREhMUFRYXGBkaGxwdHh8=",
          "dtype": "i1"
         },
         "y": {
          "bdata": "2gKOz5E34T+oMSNNIO/gP2lhPvQSk+E/SVbhnDwd4T8pZn8+nIbgPzaU11BeQ+E/aT2XlBHx4T8aJX5GiZ/hPwlIr8dP5OE/iWxENiIb4T+sEYToeNjhP3PjFU2rfOE/LvxqTKQH4j/ij1uXd8DhPwppPkn3muI/vhXFI+Fb4T8kSo09zALiP4MhNBhCg+E/xqcnXRES4T/gujjx9grhP5eWlpaWluA/OmzvdX464T8qZ7fwqzHhP+68SB0PEOE/Mw+g/V4o4T8V/kWFf1HhP3UKBBPwluE/6Kw44sXU4T/x9H3UrMnhP3zNJon+9eA//5UQQ8F84T+ecc5O/szgPw==",
          "dtype": "f8"
         }
        },
        {
         "legendgroup": "('llama3.1_8b_chat', 'medals_9k', 'base', 'main', 'prompt_answer')",
         "line": {
          "color": "#9467bd",
          "width": 2
         },
         "marker": {
          "size": 8
         },
         "mode": "lines+markers",
         "name": "('llama3.1_8b_chat', 'medals_9k', 'base', 'main', 'prompt_answer')",
         "type": "scatter",
         "x": {
          "bdata": "AAECAwQFBgcICQoLDA0ODxAREhMUFRYXGBkaGxwdHh8=",
          "dtype": "i1"
         },
         "y": {
          "bdata": "KR4l9+KZ5z8iP+8E6tDnP/UAmVsF/Oc/rFj1s74c6D8l6ip4ZUroP4Ur96ONROg/GK3VtJyV6D8qrIt1aJXoP4pkW0K+hOg/GjADskGp6D/eLLhoU67oP0JdcWlw3eg/UiyHeV0B6T/fGeNU+tnoPwAH/f3KF+k/QlYXfrc16T/7l3+rANfoPxhBKdWbsOg/I0ZtWT/D6D/ecutYJrDoP0mV7jTIxug/XWYdjazB6D/VChKPVt3oP2utf3Y46Og/Uqcuvw7X6D9QffiAsKXoP47HlOG9weg/XnR4KIK06D+1qQXIebvoPzJTaUI9xOg//Y9ZXe/S6D99JrKVl7boPw==",
          "dtype": "f8"
         }
        },
        {
         "legendgroup": "('llama3.1_8b_chat', 'medals_9k', 'base', 'main', 'prompt_answer')",
         "line": {
          "width": 0
         },
         "mode": "lines",
         "name": "('llama3.1_8b_chat', 'medals_9k', 'base', 'main', 'prompt_answer') Max",
         "showlegend": false,
         "type": "scatter",
         "x": {
          "bdata": "AAECAwQFBgcICQoLDA0ODxAREhMUFRYXGBkaGxwdHh8=",
          "dtype": "i1"
         },
         "y": {
          "bdata": "vTY8Qi/n5z8K2J+A/QnoP1W7PTttJug/8jCT0maE6D+9hvIaymvoP9V9IuXesug/Cd32cyzz6D9D9ZQG79roP1xHpmDDxOg/57cQMEo16T/SJfyQxivpP/b2MxUGHek/s5blqiZg6T8QbsFUK07pP+eU/XpsTuk/TZYKAX6O6T8QY0YrxwbpP56dSn1L0Og/NwVizGjl6D872rxPccnoP4F8kSg19ug/SZIkSZIk6T/BOM1w3m7pP1mLmHNBNOk/EpNhXiQx6T/+jYHV3t/oP3hjhcXS/+g/i57DfrUG6T8aAqT4wRnpP3oZauBO9Og/4VdjIj1Q6T9C/podtQjpPw==",
          "dtype": "f8"
         }
        },
        {
         "fill": "tonexty",
         "fillcolor": "rgba(148, 103, 189, 0.1)",
         "legendgroup": "('llama3.1_8b_chat', 'medals_9k', 'base', 'main', 'prompt_answer')",
         "line": {
          "width": 0
         },
         "mode": "lines",
         "name": "('llama3.1_8b_chat', 'medals_9k', 'base', 'main', 'prompt_answer') Min",
         "showlegend": false,
         "type": "scatter",
         "x": {
          "bdata": "AAECAwQFBgcICQoLDA0ODxAREhMUFRYXGBkaGxwdHh8=",
          "dtype": "i1"
         },
         "y": {
          "bdata": "AhraRYRc5z+dxg4NypTnP5JHHnnkkec/aJJ/wVrC5z/IvJQIHunnPzPxi2Ap7ec/OsmBpZMc6D8mxzCnR0PoP1VmyP3wN+g/+PzCYVRl6D8nDa+P2kjoPwlTJnS/f+g/uQoIhmSL6D/tFD5JWYDoP3LVDLeDp+g/JiDygQD16D9y1Qy3g6foP5rx0PXklOg/ewntJbSX6D8olyGy7m3oP9XCvZf6X+g/6JmSqxqB6D+mDpZR/3voP17Ufwe2tug/v5W6ArBY6D/m5vGx5UjoP4za5Ha2Zeg/rPP3aN1F6D+VPfGKySzoPwr75M0siug/9hVgJD+U6D8yAc2mBi3oPw==",
          "dtype": "f8"
         }
        },
        {
         "legendgroup": "('llama3.1_8b_chat', 'medals_9k', 'base', 'main', 'prompt_answer')",
         "line": {
          "width": 0
         },
         "mode": "lines",
         "name": "('llama3.1_8b_chat', 'medals_9k', 'base', 'main', 'prompt_answer') +1 STD",
         "showlegend": false,
         "type": "scatter",
         "x": {
          "bdata": "AAECAwQFBgcICQoLDA0ODxAREhMUFRYXGBkaGxwdHh8=",
          "dtype": "i1"
         },
         "y": {
          "bdata": "rdDYL3HR5z9zk7SWGgToP87COnW9OOg/rPcwGAxl6D+gCTs9fIHoP2nKgKUSm+g/0s0wirD66D+LqGspFdnoPw1kadQLueg/VN6Zp/YD6T9+s4S1OwHpP1ty9N5yKuk/4HsgretQ6T9L5psSMDzpP/CWVT8TW+k/SfYybBtv6T8dguyp3vjoP/31DRLuzOg/dZhNGOzk6D8GiOwS59boPxll2KzHAuk/R6nACOz96D9FTFuePEHpP0mKQfpOFuk/q8XNCoQr6T/RvGJVYd/oP+lxuU4HAek/DnxDYk/+6D912lZhVxLpP5CmPtr27ug//JBSR5Uh6T939WafEA7pPw==",
          "dtype": "f8"
         }
        },
        {
         "fill": "tonexty",
         "fillcolor": "rgba(148, 103, 189, 0.3)",
         "legendgroup": "('llama3.1_8b_chat', 'medals_9k', 'base', 'main', 'prompt_answer')",
         "line": {
          "width": 0
         },
         "mode": "lines",
         "name": "('llama3.1_8b_chat', 'medals_9k', 'base', 'main', 'prompt_answer') -1 STD",
         "showlegend": false,
         "type": "scatter",
         "x": {
          "bdata": "AAECAwQFBgcICQoLDA0ODxAREhMUFRYXGBkaGxwdHh8=",
          "dtype": "i1"
         },
         "y": {
          "bdata": "pWtxvlRi5z/R6ilzuZ3nPxw/90FNv+c/rLm5T3HU5z+qyhqzThPoP6GMbaII7uc/Xox634gw6D/Jr6vBu1HoPwdlTbBwUOg/4IFsvIxO6D8+pusba1voPylI7vNtkOg/xNztRc+x6D9zTSqXxHfoPxB3pLyC1Og/O7b7j1P86D/ZrRKtIrXoPzOMRJhJlOg/0fOMmpKh6D+2XeqeZYnoP3nFBL3Iiug/cyN6EW2F6D9lych/cHnoP43QvfIhuug/+YiPc5mC6D/PPY6s/2voPzMdcHR0gug/rmyt7rRq6D/1eLQunGToP9T/k6qDmeg//o5gc0mE6D+DV/2LHl/oPw==",
          "dtype": "f8"
         }
        },
        {
         "legendgroup": "('llama3.1_8b_chat', 'medals_9k', 'base', 'main', 'prompt_answer')",
         "marker": {
          "color": "#9467bd",
          "opacity": 0.5,
          "size": 6
         },
         "mode": "markers",
         "name": "('llama3.1_8b_chat', 'medals_9k', 'base', 'main', 'prompt_answer') Fold ('logistic_regression_f1_score', 0)",
         "showlegend": false,
         "type": "scatter",
         "x": {
          "bdata": "AAECAwQFBgcICQoLDA0ODxAREhMUFRYXGBkaGxwdHh8=",
          "dtype": "i1"
         },
         "y": {
          "bdata": "FtpUEZC95z8K2J+A/QnoP1WBrfpJFeg/RXQjNNT75z+i4+fRGFXoPwAAAAAAAOg/d/VN8v466D9BkDu9O2zoPxnXLf0Ljeg/+PzCYVRl6D+Zc0E0WYvoPzuVlUv/k+g/s9kCsHTl6D9aVN4VVrDoP6TN+xSXDOk/qqfTAnAW6T+hK0vneNboP56dSn1L0Og/jcqojMqo6D8jLUAvd8XoPzDPArgUzeg/byvxgVCs6D/RZ/6UK8LoP/O1enYI3Og/JkLdIUWy6D85IKc4IKfoP9nY2NjY2Og/r1JM0F2l6D8Bs4Y+8tToP7DCS9rt4ug/NRx1mKm56D/XOd1+etvoPw==",
          "dtype": "f8"
         }
        },
        {
         "legendgroup": "('llama3.1_8b_chat', 'medals_9k', 'base', 'main', 'prompt_answer')",
         "marker": {
          "color": "#9467bd",
          "opacity": 0.5,
          "size": 6
         },
         "mode": "markers",
         "name": "('llama3.1_8b_chat', 'medals_9k', 'base', 'main', 'prompt_answer') Fold ('logistic_regression_f1_score', 1)",
         "showlegend": false,
         "type": "scatter",
         "x": {
          "bdata": "AAECAwQFBgcICQoLDA0ODxAREhMUFRYXGBkaGxwdHh8=",
          "dtype": "i1"
         },
         "y": {
          "bdata": "vTY8Qi/n5z/TZa554wLoP1W7PTttJug/9mauipwT6D/IvJQIHunnP7S3AJR9LOg/Cd32cyzz6D/iPJv034XoP5nLm5jLm+g/zALyRaLU6D8nW7cPb6roP/bwokGrCOk/4RAO4RAO6T94TXx5sTjpP6hghHL7Nuk/2Cr2ezcy6T8lT7qEH9LoP5rx0PXklOg/MM8CuBTN6D+Ci0jo/azoP8VO7MRO7Og/SZIkSZIk6T/BOM1w3m7pP1mLmHNBNOk/EpNhXiQx6T9GU3gC1snoP3hjhcXS/+g/i57DfrUG6T8aAqT4wRnpP6uqqqqqqug/IsA95rXr6D9PZxDGI+noPw==",
          "dtype": "f8"
         }
        },
        {
         "legendgroup": "('llama3.1_8b_chat', 'medals_9k', 'base', 'main', 'prompt_answer')",
         "marker": {
          "color": "#9467bd",
          "opacity": 0.5,
          "size": 6
         },
         "mode": "markers",
         "name": "('llama3.1_8b_chat', 'medals_9k', 'base', 'main', 'prompt_answer') Fold ('logistic_regression_f1_score', 2)",
         "showlegend": false,
         "type": "scatter",
         "x": {
          "bdata": "AAECAwQFBgcICQoLDA0ODxAREhMUFRYXGBkaGxwdHh8=",
          "dtype": "i1"
         },
         "y": {
          "bdata": "y4nzbNJ/5z+8u7u7u7vnP89p9irXAug/8jCT0maE6D9hzBBg/WjoP9V9IuXesug/cCFglGry6D9D9ZQG79roP1xHpmDDxOg/57cQMEo16T/SJfyQxivpP/b2MxUGHek/s5blqiZg6T8QbsFUK07pP+eU/XpsTuk/TZYKAX6O6T+dRCULINzoP2oj84xgzOg/QLYniEDd6D9QFDKj6sboP4F8kSg19ug/Xy7B0GG36D/bOcSiYpLoPzW/ByaM3ug/0I5pbwTt6D8rikfCt6LoP9mJndiJneg/34rikfCt6D//jEyHPMroPxkeyRgeyeg/woVJDdGU6D/ZHyXjm5boPw==",
          "dtype": "f8"
         }
        },
        {
         "legendgroup": "('llama3.1_8b_chat', 'medals_9k', 'base', 'main', 'prompt_answer')",
         "marker": {
          "color": "#9467bd",
          "opacity": 0.5,
          "size": 6
         },
         "mode": "markers",
         "name": "('llama3.1_8b_chat', 'medals_9k', 'base', 'main', 'prompt_answer') Fold ('logistic_regression_f1_score', 3)",
         "showlegend": false,
         "type": "scatter",
         "x": {
          "bdata": "AAECAwQFBgcICQoLDA0ODxAREhMUFRYXGBkaGxwdHh8=",
          "dtype": "i1"
         },
         "y": {
          "bdata": "AhraRYRc5z9ze5NVK7fnP74W/e+nG+g/xBzmMIc56D8wn1YD/WDoP92yJFo+iug/UqQF6OWu6D9D0x3st9roP1KmkFcrcug/62KcodB36D+c3vSmN73oPxoCpPjBGek/nVGlncIn6T/tFD5JWYDoP1yKZjx0Pek/UCaudG9A6T8QY0YrxwbpP9vxIUi5qeg/NwVizGjl6D872rxPccnoPyWNastV0ug/0Hkpev++6D8TTTTRRBPpPzmO4ziO4+g/0UqGySsK6T/+jYHV3t/oPxBFB3rJ7Og/ENZvgKnm6D/Z0LOepsPoP3oZauBO9Og/4VdjIj1Q6T9C/podtQjpPw==",
          "dtype": "f8"
         }
        },
        {
         "legendgroup": "('llama3.1_8b_chat', 'medals_9k', 'base', 'main', 'prompt_answer')",
         "marker": {
          "color": "#9467bd",
          "opacity": 0.5,
          "size": 6
         },
         "mode": "markers",
         "name": "('llama3.1_8b_chat', 'medals_9k', 'base', 'main', 'prompt_answer') Fold ('logistic_regression_f1_score', 4)",
         "showlegend": false,
         "type": "scatter",
         "x": {
          "bdata": "AAECAwQFBgcICQoLDA0ODxAREhMUFRYXGBkaGxwdHh8=",
          "dtype": "i1"
         },
         "y": {
          "bdata": "K+JazViA5z+dxg4NypTnP5JHHnnkkec/aJJ/wVrC5z+9hvIaymvoPzPxi2Ap7ec/OsmBpZMc6D8mxzCnR0PoP1VmyP3wN+g/5tWtADdn6D8nDa+P2kjoPwlTJnS/f+g/uQoIhmSL6D+RXBV7V4roP3LVDLeDp+g/JiDygQD16D9y1Qy3g6foP/ygneHAl+g/ewntJbSX6D8olyGy7m3oP9XCvZf6X+g/6JmSqxqB6D+mDpZR/3voP17Ufwe2tug/v5W6ArBY6D/m5vGx5UjoP4za5Ha2Zeg/rPP3aN1F6D+VPfGKySzoPwr75M0siug/9hVgJD+U6D8yAc2mBi3oPw==",
          "dtype": "f8"
         }
        },
        {
         "legendgroup": "('llama3.1_8b_chat', 'medals_9k', 'base', 'main', 'prompt_only')",
         "line": {
          "color": "#8c564b",
          "width": 2
         },
         "marker": {
          "size": 8
         },
         "mode": "lines+markers",
         "name": "('llama3.1_8b_chat', 'medals_9k', 'base', 'main', 'prompt_only')",
         "type": "scatter",
         "x": {
          "bdata": "AAECAwQFBgcICQoLDA0ODxAREhMUFRYXGBkaGxwdHh8=",
          "dtype": "i1"
         },
         "y": {
          "bdata": "YyFuCW0c5z9ys0re4BnnP9ra6NaVR+c//oOD+wOT5z91KfJ6wJjnP+LhjTRixOc//xFn0VvY5z9dwBTTrALoPygx0sNACOg/cJZOuYcV6D9pG3loAlLoP+SaqMdsWeg/lj01L1dz6D95MsuSuYboP3v1tMVQdeg/GL9lStep6D8tRyEH0LDoP3+vLFx5gOg/aCIwxIWP6D+DelOinJvoPwwKQGVslug/7YgfD6WJ6D9Fa51yE17oP7IwgkGAeOg/VsLp2pZ/6D9ujuaSRZPoPx1vhfzGlOg/iKYR/Pd26D/KQkjweJXoP+AsO9Fqiug/MEY8xFNZ6D8gTlMGu2/oPw==",
          "dtype": "f8"
         }
        },
        {
         "legendgroup": "('llama3.1_8b_chat', 'medals_9k', 'base', 'main', 'prompt_only')",
         "line": {
          "width": 0
         },
         "mode": "lines",
         "name": "('llama3.1_8b_chat', 'medals_9k', 'base', 'main', 'prompt_only') Max",
         "showlegend": false,
         "type": "scatter",
         "x": {
          "bdata": "AAECAwQFBgcICQoLDA0ODxAREhMUFRYXGBkaGxwdHh8=",
          "dtype": "i1"
         },
         "y": {
          "bdata": "5sNaUsLf5z+Dd21szcXnP9wmUuFF/ec/AAAAAAAA6D/6epLcL/nnPyaQ2LPfTug/81BwJbfn5z/uaYTlnkboP+hVFme0e+g/EUafJuuQ6D982BcMZ73oP03EloeCK+k/nWshMssw6T/Kgm7WYffoP0SP78JB9Og/Ntlkk0026T9BbxstNGrpP/oYnI/B+eg/WEeb9yku6T8kPqyzAjTpP1vDFr6rT+k/t/PYZwcU6T/JRmQjshHpPzaU11BeQ+k/o+/PQoRE6T8FMbmCmFzpP9AY9DAEkek/CQMBq+NL6T/vEH0aLjvpPwbezFeTGuk/SNeFkbQd6T+BPPcL1zzpPw==",
          "dtype": "f8"
         }
        },
        {
         "fill": "tonexty",
         "fillcolor": "rgba(140, 86, 75, 0.1)",
         "legendgroup": "('llama3.1_8b_chat', 'medals_9k', 'base', 'main', 'prompt_only')",
         "line": {
          "width": 0
         },
         "mode": "lines",
         "name": "('llama3.1_8b_chat', 'medals_9k', 'base', 'main', 'prompt_only') Min",
         "showlegend": false,
         "type": "scatter",
         "x": {
          "bdata": "AAECAwQFBgcICQoLDA0ODxAREhMUFRYXGBkaGxwdHh8=",
          "dtype": "i1"
         },
         "y": {
          "bdata": "tnWhJZGd5j+I2JeJx5zmPzx8HDVP4eY/rjlC2nU75z8zMzMzMzPnPw/2W20MTec/XXzhY8/F5z8r1wJ4TrPnPx7L9F8qxec/5DiO4ziO5z9sc3ukkv7nP6Oh+2D9Bug/m3hX2WwB6D+0/cSdSzToPxIuaNHwFOg/KivOc+Ru6D+H+QKJl1LoP1+as2MLI+g/8lb2OaQm6D/4z+uLJFLoP93p3WHDKOg/grl2YK4d6D8Figh7FuvnP/15lByMDOg//TKdj3Yg6D9Vbi2LdT/oPxFoCoGmEOg/joHV3t8Y6D/W8nX3zzHoP/GJho3COug/tD5JViUH6D+oPMRcaBXoPw==",
          "dtype": "f8"
         }
        },
        {
         "legendgroup": "('llama3.1_8b_chat', 'medals_9k', 'base', 'main', 'prompt_only')",
         "line": {
          "width": 0
         },
         "mode": "lines",
         "name": "('llama3.1_8b_chat', 'medals_9k', 'base', 'main', 'prompt_only') +1 STD",
         "showlegend": false,
         "type": "scatter",
         "x": {
          "bdata": "AAECAwQFBgcICQoLDA0ODxAREhMUFRYXGBkaGxwdHh8=",
          "dtype": "i1"
         },
         "y": {
          "bdata": "wICKl2Ka5z8e8rHPrJrnP53rb3zQvec/WPtNakTk5z9j+ZcJNuHnP1uH52VBKug/FiIhnvjm5z9xpdyp4EHoP7EAXhWuTug/Zr22GOF16D+eMIxMYp/oP7QJibtQ0eg/xklkacjm6D+WV/maSs/oP2DwUODfx+g/MqwSw9b56D+cbxUlHyDpP/Y7Fz1e4Og/07+bIgT46D/ZTg0eQ/foP3i66ffsEOk/87YRl7Hr6D+qwdewRM/oP05/Ev6e8eg/GcBzdHLx6D8sFKybvQbpPyAKPwVcLuk/xCIotRX06D9n8sDkLPzoP6nJglUQ6Og/6owdTu/J6D+5AEH1HuvoPw==",
          "dtype": "f8"
         }
        },
        {
         "fill": "tonexty",
         "fillcolor": "rgba(140, 86, 75, 0.3)",
         "legendgroup": "('llama3.1_8b_chat', 'medals_9k', 'base', 'main', 'prompt_only')",
         "line": {
          "width": 0
         },
         "mode": "lines",
         "name": "('llama3.1_8b_chat', 'medals_9k', 'base', 'main', 'prompt_only') -1 STD",
         "showlegend": false,
         "type": "scatter",
         "x": {
          "bdata": "AAECAwQFBgcICQoLDA0ODxAREhMUFRYXGBkaGxwdHh8=",
          "dtype": "i1"
         },
         "y": {
          "bdata": "BsJRe3ee5j/GdOPsFJnmPxfKYTFb0eY/pAy5jMNB5z+HWUzsSlDnP2k8NAODXuc/6AGtBL/J5z9J20z8eMPnP59hRnLTwec/em/mWS615z80BmaEogToPxQsyNOI4ec/ZjEG9eX/5z9cDZ2KKD7oP5b6GKvBIug//tG40ddZ6D++Hi3pgEHoPwgjQnuUIOg//YTEZQcn6D8tppkm9j/oP6BZltLrG+g/51oth5gn6D/gFGM04uznPxbi8YRh/+c/k8RfQbsN6D+wCCGKzR/oPxrUy/Mx++c/TCr7Qtr55z8tk8/7xC7oPxeQ80zFLOg/dv9aOrjo5z+Hm2UXV/TnPw==",
          "dtype": "f8"
         }
        },
        {
         "legendgroup": "('llama3.1_8b_chat', 'medals_9k', 'base', 'main', 'prompt_only')",
         "marker": {
          "color": "#8c564b",
          "opacity": 0.5,
          "size": 6
         },
         "mode": "markers",
         "name": "('llama3.1_8b_chat', 'medals_9k', 'base', 'main', 'prompt_only') Fold ('logistic_regression_f1_score', 0)",
         "showlegend": false,
         "type": "scatter",
         "x": {
          "bdata": "AAECAwQFBgcICQoLDA0ODxAREhMUFRYXGBkaGxwdHh8=",
          "dtype": "i1"
         },
         "y": {
          "bdata": "VK8gGZEA5z+lC5kkKrzmPzx8HDVP4eY/A73SvjuJ5z8XXXTRRZfnP3+kLvObluc/UqvphNjk5z9n0gYFYvfnP5iB5peB5uc/5DiO4ziO5z9sc3ukkv7nPwAiDVlfMug/+8KUFBsx6D+0/cSdSzToP1gWz8kLU+g/YuZvlUiY6D9+/TTEFJLoP8xElgugQug/yQW83kZ/6D8EY6u8bJ7oPzip+/LYiug/2TdyHnPF6D900UUXXXToP0VaTvuoPOg/NkbbaVZw6D9Vbi2LdT/oP07qvjy2Iug/V5sxPd0f6D/W8nX3zzHoP/GJho3COug/tD5JViUH6D8+n0rrISXoPw==",
          "dtype": "f8"
         }
        },
        {
         "legendgroup": "('llama3.1_8b_chat', 'medals_9k', 'base', 'main', 'prompt_only')",
         "marker": {
          "color": "#8c564b",
          "opacity": 0.5,
          "size": 6
         },
         "mode": "markers",
         "name": "('llama3.1_8b_chat', 'medals_9k', 'base', 'main', 'prompt_only') Fold ('logistic_regression_f1_score', 1)",
         "showlegend": false,
         "type": "scatter",
         "x": {
          "bdata": "AAECAwQFBgcICQoLDA0ODxAREhMUFRYXGBkaGxwdHh8=",
          "dtype": "i1"
         },
         "y": {
          "bdata": "s6asKWvK5j+I2JeJx5zmP/K6VvQ/9eY/rjlC2nU75z8dasMW7YHnP7OITyCVnOc/XXzhY8/F5z8r1wJ4TrPnPx7L9F8qxec/836XyCrv5z8YW4Jv81foP6Oh+2D9Bug/gvT+XKts6D/n+V7LxWXoPx1t3qe4ZOg/KivOc+Ru6D8ZVVPEhGjoP6RtlC+cTug/C8ocvZND6D/4z+uLJFLoPxi+zjZBwug/Vm7630dd6D/1pje96U3oPylHorPng+g/7FmsX3dP6D912EiHjXToP/U36HatnOg/2YZ+7iBa6D/ew9nbz1ToPwKFk7EmUOg/AZ28AVs66D+DNkthAYroPw==",
          "dtype": "f8"
         }
        },
        {
         "legendgroup": "('llama3.1_8b_chat', 'medals_9k', 'base', 'main', 'prompt_only')",
         "marker": {
          "color": "#8c564b",
          "opacity": 0.5,
          "size": 6
         },
         "mode": "markers",
         "name": "('llama3.1_8b_chat', 'medals_9k', 'base', 'main', 'prompt_only') Fold ('logistic_regression_f1_score', 2)",
         "showlegend": false,
         "type": "scatter",
         "x": {
          "bdata": "AAECAwQFBgcICQoLDA0ODxAREhMUFRYXGBkaGxwdHh8=",
          "dtype": "i1"
         },
         "y": {
          "bdata": "5sNaUsLf5z+Dd21szcXnP9wmUuFF/ec/AAAAAAAA6D/6epLcL/nnPyaQ2LPfTug/81BwJbfn5z8ok/qvYz7oP+hVFme0e+g/EUafJuuQ6D982BcMZ73oP03EloeCK+k/nWshMssw6T/Kgm7WYffoP0SP78JB9Og/Ntlkk0026T9BbxstNGrpP/oYnI/B+eg/WEeb9yku6T8kPqyzAjTpP1vDFr6rT+k/t/PYZwcU6T/JRmQjshHpPzaU11BeQ+k/o+/PQoRE6T8FMbmCmFzpP9AY9DAEkek/CQMBq+NL6T/vEH0aLjvpPwbezFeTGuk/SNeFkbQd6T+BPPcL1zzpPw==",
          "dtype": "f8"
         }
        },
        {
         "legendgroup": "('llama3.1_8b_chat', 'medals_9k', 'base', 'main', 'prompt_only')",
         "marker": {
          "color": "#8c564b",
          "opacity": 0.5,
          "size": 6
         },
         "mode": "markers",
         "name": "('llama3.1_8b_chat', 'medals_9k', 'base', 'main', 'prompt_only') Fold ('logistic_regression_f1_score', 3)",
         "showlegend": false,
         "type": "scatter",
         "x": {
          "bdata": "AAECAwQFBgcICQoLDA0ODxAREhMUFRYXGBkaGxwdHh8=",
          "dtype": "i1"
         },
         "y": {
          "bdata": "tnWhJZGd5j+yqbqzRebmP+d6V4HbE+c/L45Zvk9T5z8zMzMzMzPnPw/2W20MTec/6+yLqNbZ5z8sG98Mrd3nPxrpfxNl7ec/Y5LwEXRD6D/INRHINRHoPwTdEBaHFeg/m3hX2WwB6D94eHh4eHjoPxIuaNHwFOg/KYgoA1qF6D+H+QKJl1LoP1+as2MLI+g/8lb2OaQm6D//Y7p5N1boP93p3WHDKOg/grl2YK4d6D8Figh7FuvnP/15lByMDOg//TKdj3Yg6D+rMrpByVDoP22I9YjUhug/45nRNhZ06D85XaY4XaboPxQfozSrV+g/R7ipgpAZ6D+oPMRcaBXoPw==",
          "dtype": "f8"
         }
        },
        {
         "legendgroup": "('llama3.1_8b_chat', 'medals_9k', 'base', 'main', 'prompt_only')",
         "marker": {
          "color": "#8c564b",
          "opacity": 0.5,
          "size": 6
         },
         "mode": "markers",
         "name": "('llama3.1_8b_chat', 'medals_9k', 'base', 'main', 'prompt_only') Fold ('logistic_regression_f1_score', 4)",
         "showlegend": false,
         "type": "scatter",
         "x": {
          "bdata": "AAECAwQFBgcICQoLDA0ODxAREhMUFRYXGBkaGxwdHh8=",
          "dtype": "i1"
         },
         "y": {
          "bdata": "RhdddNFF5z/YexyJX3znP1Btb6Y8fuc/Gg8jkhLH5z/kWb1uLLbnPwK2EtLNBug/a/Q7YJXN5z/uaYTlnkboPw5qqWB+FOg/5V/TueMZ6D9FrDYi6XToP4Ghmo65ROg/Opj9brVw6D97Ce0ltJfoP6CKg9acieg/jkgx1F+O6D+BqP/kqrzoP7UHZZ5V1Og/6D2GB/S16D9vj6O1Q4/oP7QdgbCUKug/N1nhhMhb6D8izyjKURfoP9tDLisGSug/6wicqilZ6D+sHZcH937oPxFoCoGmEOg/joHV3t8Y6D8WKfaKMYPoP1XUnUrutug/rPP3aN1F6D+6N09qRC3oPw==",
          "dtype": "f8"
         }
        }
       ],
       "layout": {
        "font": {
         "color": "white"
        },
        "height": 600,
        "legend": {
         "bgcolor": "rgba(32, 32, 32, 0.8)",
         "orientation": "h",
         "x": 0.5,
         "xanchor": "center",
         "y": 1.02,
         "yanchor": "bottom"
        },
        "margin": {
         "b": 50,
         "l": 50,
         "r": 30,
         "t": 100
        },
        "paper_bgcolor": "rgba(32, 32, 32, 1)",
        "plot_bgcolor": "rgba(32, 32, 32, 1)",
        "showlegend": true,
        "template": {
         "data": {
          "bar": [
           {
            "error_x": {
             "color": "#f2f5fa"
            },
            "error_y": {
             "color": "#f2f5fa"
            },
            "marker": {
             "line": {
              "color": "rgb(17,17,17)",
              "width": 0.5
             },
             "pattern": {
              "fillmode": "overlay",
              "size": 10,
              "solidity": 0.2
             }
            },
            "type": "bar"
           }
          ],
          "barpolar": [
           {
            "marker": {
             "line": {
              "color": "rgb(17,17,17)",
              "width": 0.5
             },
             "pattern": {
              "fillmode": "overlay",
              "size": 10,
              "solidity": 0.2
             }
            },
            "type": "barpolar"
           }
          ],
          "carpet": [
           {
            "aaxis": {
             "endlinecolor": "#A2B1C6",
             "gridcolor": "#506784",
             "linecolor": "#506784",
             "minorgridcolor": "#506784",
             "startlinecolor": "#A2B1C6"
            },
            "baxis": {
             "endlinecolor": "#A2B1C6",
             "gridcolor": "#506784",
             "linecolor": "#506784",
             "minorgridcolor": "#506784",
             "startlinecolor": "#A2B1C6"
            },
            "type": "carpet"
           }
          ],
          "choropleth": [
           {
            "colorbar": {
             "outlinewidth": 0,
             "ticks": ""
            },
            "type": "choropleth"
           }
          ],
          "contour": [
           {
            "colorbar": {
             "outlinewidth": 0,
             "ticks": ""
            },
            "colorscale": [
             [
              0,
              "#0d0887"
             ],
             [
              0.1111111111111111,
              "#46039f"
             ],
             [
              0.2222222222222222,
              "#7201a8"
             ],
             [
              0.3333333333333333,
              "#9c179e"
             ],
             [
              0.4444444444444444,
              "#bd3786"
             ],
             [
              0.5555555555555556,
              "#d8576b"
             ],
             [
              0.6666666666666666,
              "#ed7953"
             ],
             [
              0.7777777777777778,
              "#fb9f3a"
             ],
             [
              0.8888888888888888,
              "#fdca26"
             ],
             [
              1,
              "#f0f921"
             ]
            ],
            "type": "contour"
           }
          ],
          "contourcarpet": [
           {
            "colorbar": {
             "outlinewidth": 0,
             "ticks": ""
            },
            "type": "contourcarpet"
           }
          ],
          "heatmap": [
           {
            "colorbar": {
             "outlinewidth": 0,
             "ticks": ""
            },
            "colorscale": [
             [
              0,
              "#0d0887"
             ],
             [
              0.1111111111111111,
              "#46039f"
             ],
             [
              0.2222222222222222,
              "#7201a8"
             ],
             [
              0.3333333333333333,
              "#9c179e"
             ],
             [
              0.4444444444444444,
              "#bd3786"
             ],
             [
              0.5555555555555556,
              "#d8576b"
             ],
             [
              0.6666666666666666,
              "#ed7953"
             ],
             [
              0.7777777777777778,
              "#fb9f3a"
             ],
             [
              0.8888888888888888,
              "#fdca26"
             ],
             [
              1,
              "#f0f921"
             ]
            ],
            "type": "heatmap"
           }
          ],
          "histogram": [
           {
            "marker": {
             "pattern": {
              "fillmode": "overlay",
              "size": 10,
              "solidity": 0.2
             }
            },
            "type": "histogram"
           }
          ],
          "histogram2d": [
           {
            "colorbar": {
             "outlinewidth": 0,
             "ticks": ""
            },
            "colorscale": [
             [
              0,
              "#0d0887"
             ],
             [
              0.1111111111111111,
              "#46039f"
             ],
             [
              0.2222222222222222,
              "#7201a8"
             ],
             [
              0.3333333333333333,
              "#9c179e"
             ],
             [
              0.4444444444444444,
              "#bd3786"
             ],
             [
              0.5555555555555556,
              "#d8576b"
             ],
             [
              0.6666666666666666,
              "#ed7953"
             ],
             [
              0.7777777777777778,
              "#fb9f3a"
             ],
             [
              0.8888888888888888,
              "#fdca26"
             ],
             [
              1,
              "#f0f921"
             ]
            ],
            "type": "histogram2d"
           }
          ],
          "histogram2dcontour": [
           {
            "colorbar": {
             "outlinewidth": 0,
             "ticks": ""
            },
            "colorscale": [
             [
              0,
              "#0d0887"
             ],
             [
              0.1111111111111111,
              "#46039f"
             ],
             [
              0.2222222222222222,
              "#7201a8"
             ],
             [
              0.3333333333333333,
              "#9c179e"
             ],
             [
              0.4444444444444444,
              "#bd3786"
             ],
             [
              0.5555555555555556,
              "#d8576b"
             ],
             [
              0.6666666666666666,
              "#ed7953"
             ],
             [
              0.7777777777777778,
              "#fb9f3a"
             ],
             [
              0.8888888888888888,
              "#fdca26"
             ],
             [
              1,
              "#f0f921"
             ]
            ],
            "type": "histogram2dcontour"
           }
          ],
          "mesh3d": [
           {
            "colorbar": {
             "outlinewidth": 0,
             "ticks": ""
            },
            "type": "mesh3d"
           }
          ],
          "parcoords": [
           {
            "line": {
             "colorbar": {
              "outlinewidth": 0,
              "ticks": ""
             }
            },
            "type": "parcoords"
           }
          ],
          "pie": [
           {
            "automargin": true,
            "type": "pie"
           }
          ],
          "scatter": [
           {
            "marker": {
             "line": {
              "color": "#283442"
             }
            },
            "type": "scatter"
           }
          ],
          "scatter3d": [
           {
            "line": {
             "colorbar": {
              "outlinewidth": 0,
              "ticks": ""
             }
            },
            "marker": {
             "colorbar": {
              "outlinewidth": 0,
              "ticks": ""
             }
            },
            "type": "scatter3d"
           }
          ],
          "scattercarpet": [
           {
            "marker": {
             "colorbar": {
              "outlinewidth": 0,
              "ticks": ""
             }
            },
            "type": "scattercarpet"
           }
          ],
          "scattergeo": [
           {
            "marker": {
             "colorbar": {
              "outlinewidth": 0,
              "ticks": ""
             }
            },
            "type": "scattergeo"
           }
          ],
          "scattergl": [
           {
            "marker": {
             "line": {
              "color": "#283442"
             }
            },
            "type": "scattergl"
           }
          ],
          "scattermap": [
           {
            "marker": {
             "colorbar": {
              "outlinewidth": 0,
              "ticks": ""
             }
            },
            "type": "scattermap"
           }
          ],
          "scattermapbox": [
           {
            "marker": {
             "colorbar": {
              "outlinewidth": 0,
              "ticks": ""
             }
            },
            "type": "scattermapbox"
           }
          ],
          "scatterpolar": [
           {
            "marker": {
             "colorbar": {
              "outlinewidth": 0,
              "ticks": ""
             }
            },
            "type": "scatterpolar"
           }
          ],
          "scatterpolargl": [
           {
            "marker": {
             "colorbar": {
              "outlinewidth": 0,
              "ticks": ""
             }
            },
            "type": "scatterpolargl"
           }
          ],
          "scatterternary": [
           {
            "marker": {
             "colorbar": {
              "outlinewidth": 0,
              "ticks": ""
             }
            },
            "type": "scatterternary"
           }
          ],
          "surface": [
           {
            "colorbar": {
             "outlinewidth": 0,
             "ticks": ""
            },
            "colorscale": [
             [
              0,
              "#0d0887"
             ],
             [
              0.1111111111111111,
              "#46039f"
             ],
             [
              0.2222222222222222,
              "#7201a8"
             ],
             [
              0.3333333333333333,
              "#9c179e"
             ],
             [
              0.4444444444444444,
              "#bd3786"
             ],
             [
              0.5555555555555556,
              "#d8576b"
             ],
             [
              0.6666666666666666,
              "#ed7953"
             ],
             [
              0.7777777777777778,
              "#fb9f3a"
             ],
             [
              0.8888888888888888,
              "#fdca26"
             ],
             [
              1,
              "#f0f921"
             ]
            ],
            "type": "surface"
           }
          ],
          "table": [
           {
            "cells": {
             "fill": {
              "color": "#506784"
             },
             "line": {
              "color": "rgb(17,17,17)"
             }
            },
            "header": {
             "fill": {
              "color": "#2a3f5f"
             },
             "line": {
              "color": "rgb(17,17,17)"
             }
            },
            "type": "table"
           }
          ]
         },
         "layout": {
          "annotationdefaults": {
           "arrowcolor": "#f2f5fa",
           "arrowhead": 0,
           "arrowwidth": 1
          },
          "autotypenumbers": "strict",
          "coloraxis": {
           "colorbar": {
            "outlinewidth": 0,
            "ticks": ""
           }
          },
          "colorscale": {
           "diverging": [
            [
             0,
             "#8e0152"
            ],
            [
             0.1,
             "#c51b7d"
            ],
            [
             0.2,
             "#de77ae"
            ],
            [
             0.3,
             "#f1b6da"
            ],
            [
             0.4,
             "#fde0ef"
            ],
            [
             0.5,
             "#f7f7f7"
            ],
            [
             0.6,
             "#e6f5d0"
            ],
            [
             0.7,
             "#b8e186"
            ],
            [
             0.8,
             "#7fbc41"
            ],
            [
             0.9,
             "#4d9221"
            ],
            [
             1,
             "#276419"
            ]
           ],
           "sequential": [
            [
             0,
             "#0d0887"
            ],
            [
             0.1111111111111111,
             "#46039f"
            ],
            [
             0.2222222222222222,
             "#7201a8"
            ],
            [
             0.3333333333333333,
             "#9c179e"
            ],
            [
             0.4444444444444444,
             "#bd3786"
            ],
            [
             0.5555555555555556,
             "#d8576b"
            ],
            [
             0.6666666666666666,
             "#ed7953"
            ],
            [
             0.7777777777777778,
             "#fb9f3a"
            ],
            [
             0.8888888888888888,
             "#fdca26"
            ],
            [
             1,
             "#f0f921"
            ]
           ],
           "sequentialminus": [
            [
             0,
             "#0d0887"
            ],
            [
             0.1111111111111111,
             "#46039f"
            ],
            [
             0.2222222222222222,
             "#7201a8"
            ],
            [
             0.3333333333333333,
             "#9c179e"
            ],
            [
             0.4444444444444444,
             "#bd3786"
            ],
            [
             0.5555555555555556,
             "#d8576b"
            ],
            [
             0.6666666666666666,
             "#ed7953"
            ],
            [
             0.7777777777777778,
             "#fb9f3a"
            ],
            [
             0.8888888888888888,
             "#fdca26"
            ],
            [
             1,
             "#f0f921"
            ]
           ]
          },
          "colorway": [
           "#636efa",
           "#EF553B",
           "#00cc96",
           "#ab63fa",
           "#FFA15A",
           "#19d3f3",
           "#FF6692",
           "#B6E880",
           "#FF97FF",
           "#FECB52"
          ],
          "font": {
           "color": "#f2f5fa"
          },
          "geo": {
           "bgcolor": "rgb(17,17,17)",
           "lakecolor": "rgb(17,17,17)",
           "landcolor": "rgb(17,17,17)",
           "showlakes": true,
           "showland": true,
           "subunitcolor": "#506784"
          },
          "hoverlabel": {
           "align": "left"
          },
          "hovermode": "closest",
          "mapbox": {
           "style": "dark"
          },
          "paper_bgcolor": "rgb(17,17,17)",
          "plot_bgcolor": "rgb(17,17,17)",
          "polar": {
           "angularaxis": {
            "gridcolor": "#506784",
            "linecolor": "#506784",
            "ticks": ""
           },
           "bgcolor": "rgb(17,17,17)",
           "radialaxis": {
            "gridcolor": "#506784",
            "linecolor": "#506784",
            "ticks": ""
           }
          },
          "scene": {
           "xaxis": {
            "backgroundcolor": "rgb(17,17,17)",
            "gridcolor": "#506784",
            "gridwidth": 2,
            "linecolor": "#506784",
            "showbackground": true,
            "ticks": "",
            "zerolinecolor": "#C8D4E3"
           },
           "yaxis": {
            "backgroundcolor": "rgb(17,17,17)",
            "gridcolor": "#506784",
            "gridwidth": 2,
            "linecolor": "#506784",
            "showbackground": true,
            "ticks": "",
            "zerolinecolor": "#C8D4E3"
           },
           "zaxis": {
            "backgroundcolor": "rgb(17,17,17)",
            "gridcolor": "#506784",
            "gridwidth": 2,
            "linecolor": "#506784",
            "showbackground": true,
            "ticks": "",
            "zerolinecolor": "#C8D4E3"
           }
          },
          "shapedefaults": {
           "line": {
            "color": "#f2f5fa"
           }
          },
          "sliderdefaults": {
           "bgcolor": "#C8D4E3",
           "bordercolor": "rgb(17,17,17)",
           "borderwidth": 1,
           "tickwidth": 0
          },
          "ternary": {
           "aaxis": {
            "gridcolor": "#506784",
            "linecolor": "#506784",
            "ticks": ""
           },
           "baxis": {
            "gridcolor": "#506784",
            "linecolor": "#506784",
            "ticks": ""
           },
           "bgcolor": "rgb(17,17,17)",
           "caxis": {
            "gridcolor": "#506784",
            "linecolor": "#506784",
            "ticks": ""
           }
          },
          "title": {
           "x": 0.05
          },
          "updatemenudefaults": {
           "bgcolor": "#506784",
           "borderwidth": 0
          },
          "xaxis": {
           "automargin": true,
           "gridcolor": "#283442",
           "linecolor": "#506784",
           "ticks": "",
           "title": {
            "standoff": 15
           },
           "zerolinecolor": "#283442",
           "zerolinewidth": 2
          },
          "yaxis": {
           "automargin": true,
           "gridcolor": "#283442",
           "linecolor": "#506784",
           "ticks": "",
           "title": {
            "standoff": 15
           },
           "zerolinecolor": "#283442",
           "zerolinewidth": 2
          }
         }
        },
        "title": {},
        "width": 1000,
        "xaxis": {
         "gridcolor": "rgba(128, 128, 128, 0.2)",
         "title": {
          "text": "Layer"
         },
         "zeroline": false
        },
        "yaxis": {
         "gridcolor": "rgba(128, 128, 128, 0.2)",
         "title": {
          "text": "Logistic Regression F1 Score"
         },
         "zeroline": false
        }
       }
      }
     },
     "metadata": {},
     "output_type": "display_data"
    }
   ],
   "source": [
    "for classifier in [\"direction\", \"logistic_regression\"]:\n",
    "    # for metric in [\"f1_score\", \"accuracy_score\", \"precision_score\", \"recall_score\"]:\n",
    "    for metric in [\"f1_score\"]:\n",
    "        plot_dict = {}\n",
    "        for conf, res_df_ in res_df.groupby([\"model_id\", \"dataset_id\", \"prompt_id\", \"subset_id\", \"input_type\"]):\n",
    "            # if conf[4] != \"prompt_only\":\n",
    "            #     continue\n",
    "            \n",
    "            print(f\"{conf=}\")\n",
    "            res_df_pivot = pd.pivot(\n",
    "                res_df_.drop(columns=[\"model_id\", \"dataset_id\", \"prompt_id\", \"subset_id\", \"input_type\"]),\n",
    "                index='layer',\n",
    "                columns='fold',\n",
    "                # values=['direction_f1_score', 'logistic_regression_f1_score']  # add all metrics you want to keep\n",
    "            )\n",
    "            # for classifier in [\"direction\", \"logistic_regression\"]:\n",
    "            #     for metric in [\"f1_score\", \"accuracy_score\", \"precision_score\", \"recall_score\"]:\n",
    "            plot_dict[str(conf)] = res_df_pivot[[f\"{classifier}_{metric}\"]]\n",
    "\n",
    "        plot_interactive_lineplot(\n",
    "            plot_dict,\n",
    "            x_label=\"Layer\",\n",
    "            y_label=f\"{classifier}_{metric}\".replace(\"_\", \" \").title(),\n",
    "            save_path=f\"./classification_data/figures/res_df_llama31_8B_4_memory_datasets_{classifier}_{metric}{PCA_COMONENTS_LABEL}.html\"\n",
    "        ).show()\n",
    "\n"
   ]
  },
  {
   "cell_type": "code",
   "execution_count": null,
   "metadata": {},
   "outputs": [],
   "source": []
  },
  {
   "cell_type": "code",
   "execution_count": null,
   "metadata": {},
   "outputs": [],
   "source": []
  }
 ],
 "metadata": {
  "kernelspec": {
   "display_name": "venv",
   "language": "python",
   "name": "python3"
  },
  "language_info": {
   "codemirror_mode": {
    "name": "ipython",
    "version": 3
   },
   "file_extension": ".py",
   "mimetype": "text/x-python",
   "name": "python",
   "nbconvert_exporter": "python",
   "pygments_lexer": "ipython3",
   "version": "3.11.3"
  }
 },
 "nbformat": 4,
 "nbformat_minor": 2
}
