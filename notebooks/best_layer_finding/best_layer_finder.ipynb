{
 "cells": [
  {
   "cell_type": "code",
   "execution_count": 1,
   "metadata": {},
   "outputs": [
    {
     "data": {
      "text/plain": [
       "['/Library/Frameworks/Python.framework/Versions/3.11/lib/python311.zip',\n",
       " '/Library/Frameworks/Python.framework/Versions/3.11/lib/python3.11',\n",
       " '/Library/Frameworks/Python.framework/Versions/3.11/lib/python3.11/lib-dynload',\n",
       " '',\n",
       " '/Users/anton/dev/MARS/correctness-model-internals/venv/lib/python3.11/site-packages',\n",
       " '/Users/anton/dev/MARS/correctness-model-internals']"
      ]
     },
     "execution_count": 1,
     "metadata": {},
     "output_type": "execute_result"
    }
   ],
   "source": [
    "import sys\n",
    "from pathlib import Path\n",
    "\n",
    "# Add the src directory to Python path\n",
    "src_path = str(Path(\"./\").resolve().parent)\n",
    "if src_path not in sys.path:\n",
    "    sys.path.append(src_path)\n",
    "\n",
    "sys.path"
   ]
  },
  {
   "cell_type": "code",
   "execution_count": 2,
   "metadata": {},
   "outputs": [],
   "source": [
    "from pathlib import Path\n",
    "from collections import defaultdict\n",
    "\n",
    "import torch as pt\n",
    "import pandas as pd\n",
    "# import seaborn as sns\n",
    "import plotly.graph_objects as go\n",
    "\n",
    "from src.classifying import (\n",
    "    ActivationsHandler,\n",
    "    combine_activations_handlers,\n",
    "    get_correctness_direction_classifier,\n",
    "    get_logistic_regression_classifier,\n",
    ")\n",
    "\n",
    "# sns.set_theme(style=\"whitegrid\")\n"
   ]
  },
  {
   "cell_type": "code",
   "execution_count": 3,
   "metadata": {},
   "outputs": [],
   "source": [
    "def load_activations(\n",
    "    model_id,\n",
    "    dataset_id,\n",
    "    prompt_id,\n",
    "    subset_id,\n",
    "    input_type,\n",
    "    layer,\n",
    "    batch_ids=None,\n",
    "):\n",
    "    if batch_ids:\n",
    "        batch_ids = [int(batch_id) for batch_id in batch_ids]\n",
    "\n",
    "    paths = sorted(\n",
    "        list(\n",
    "            Path(\n",
    "                f\"../activations/{model_id}/{dataset_id}/{prompt_id}/{subset_id}/{input_type}/layer_{layer}\"\n",
    "            ).iterdir()\n",
    "        ),\n",
    "        key=lambda p: int(p.stem.split(\"_\")[-1]),\n",
    "    )\n",
    "\n",
    "    activations_list, indices = [], []\n",
    "    batch_size = None\n",
    "    for batch_file in paths:\n",
    "        batch_id = int(batch_file.stem.split(\"_\")[-1])\n",
    "        if batch_ids and batch_id not in batch_ids:\n",
    "            continue\n",
    "\n",
    "        activations = pt.load(batch_file, map_location=pt.device(\"cpu\"))\n",
    "        activations_list.append(activations)\n",
    "\n",
    "        batch_size = activations.shape[0]\n",
    "\n",
    "        if batch_size is None:\n",
    "            batch_size = activations.shape[0]\n",
    "        else:\n",
    "            assert batch_size == activations.shape[0]\n",
    "\n",
    "        indices.append(\n",
    "            pd.Series(range(batch_size), name=\"index\") + batch_id\n",
    "        )\n",
    "\n",
    "\n",
    "    return (\n",
    "        pt.cat(activations_list, dim=0),\n",
    "        pd.concat(indices, axis=0).reset_index(drop=True),\n",
    "    )\n",
    "\n",
    "\n",
    "def load_labels(model_id, dataset_id, prompt_id, subset_id, indices=None):\n",
    "    paths = list(\n",
    "        Path(f\"../../evaluations/{model_id}/{dataset_id}/{prompt_id}/\").iterdir()\n",
    "    )\n",
    "    for path in paths:\n",
    "        filename = path.stem\n",
    "        if subset_id != filename.split(\"_generations_evaluated\")[0]:\n",
    "            continue\n",
    "        df = pd.read_csv(path)\n",
    "        if indices is not None:\n",
    "            df = df.iloc[indices].reset_index(drop=True)\n",
    "        return df\n",
    "    raise ValueError(\n",
    "        f\"No labels found for {model_id} {dataset_id} {prompt_id} {subset_id}\"\n",
    "    )\n"
   ]
  },
  {
   "cell_type": "code",
   "execution_count": 4,
   "metadata": {},
   "outputs": [
    {
     "data": {
      "text/html": [
       "<div>\n",
       "<style scoped>\n",
       "    .dataframe tbody tr th:only-of-type {\n",
       "        vertical-align: middle;\n",
       "    }\n",
       "\n",
       "    .dataframe tbody tr th {\n",
       "        vertical-align: top;\n",
       "    }\n",
       "\n",
       "    .dataframe thead th {\n",
       "        text-align: right;\n",
       "    }\n",
       "</style>\n",
       "<table border=\"1\" class=\"dataframe\">\n",
       "  <thead>\n",
       "    <tr style=\"text-align: right;\">\n",
       "      <th></th>\n",
       "      <th>model_id</th>\n",
       "      <th>dataset_id</th>\n",
       "      <th>prompt_id</th>\n",
       "      <th>subset_id</th>\n",
       "      <th>input_type</th>\n",
       "      <th>layer</th>\n",
       "      <th>path</th>\n",
       "    </tr>\n",
       "  </thead>\n",
       "  <tbody>\n",
       "    <tr>\n",
       "      <th>0</th>\n",
       "      <td>llama3.1_8b_chat</td>\n",
       "      <td>football_leagues_1k</td>\n",
       "      <td>base</td>\n",
       "      <td>main</td>\n",
       "      <td>prompt_only</td>\n",
       "      <td>0</td>\n",
       "      <td>../activations/llama3.1_8b_chat/football_leagu...</td>\n",
       "    </tr>\n",
       "    <tr>\n",
       "      <th>1</th>\n",
       "      <td>llama3.1_8b_chat</td>\n",
       "      <td>football_leagues_1k</td>\n",
       "      <td>base</td>\n",
       "      <td>main</td>\n",
       "      <td>prompt_only</td>\n",
       "      <td>7</td>\n",
       "      <td>../activations/llama3.1_8b_chat/football_leagu...</td>\n",
       "    </tr>\n",
       "    <tr>\n",
       "      <th>2</th>\n",
       "      <td>llama3.1_8b_chat</td>\n",
       "      <td>football_leagues_1k</td>\n",
       "      <td>base</td>\n",
       "      <td>main</td>\n",
       "      <td>prompt_only</td>\n",
       "      <td>9</td>\n",
       "      <td>../activations/llama3.1_8b_chat/football_leagu...</td>\n",
       "    </tr>\n",
       "    <tr>\n",
       "      <th>3</th>\n",
       "      <td>llama3.1_8b_chat</td>\n",
       "      <td>football_leagues_1k</td>\n",
       "      <td>base</td>\n",
       "      <td>main</td>\n",
       "      <td>prompt_only</td>\n",
       "      <td>17</td>\n",
       "      <td>../activations/llama3.1_8b_chat/football_leagu...</td>\n",
       "    </tr>\n",
       "    <tr>\n",
       "      <th>4</th>\n",
       "      <td>llama3.1_8b_chat</td>\n",
       "      <td>football_leagues_1k</td>\n",
       "      <td>base</td>\n",
       "      <td>main</td>\n",
       "      <td>prompt_only</td>\n",
       "      <td>28</td>\n",
       "      <td>../activations/llama3.1_8b_chat/football_leagu...</td>\n",
       "    </tr>\n",
       "    <tr>\n",
       "      <th>...</th>\n",
       "      <td>...</td>\n",
       "      <td>...</td>\n",
       "      <td>...</td>\n",
       "      <td>...</td>\n",
       "      <td>...</td>\n",
       "      <td>...</td>\n",
       "      <td>...</td>\n",
       "    </tr>\n",
       "    <tr>\n",
       "      <th>251</th>\n",
       "      <td>llama3.1_8b_chat</td>\n",
       "      <td>birth_years_4k</td>\n",
       "      <td>base</td>\n",
       "      <td>main</td>\n",
       "      <td>prompt_answer</td>\n",
       "      <td>23</td>\n",
       "      <td>../activations/llama3.1_8b_chat/birth_years_4k...</td>\n",
       "    </tr>\n",
       "    <tr>\n",
       "      <th>252</th>\n",
       "      <td>llama3.1_8b_chat</td>\n",
       "      <td>birth_years_4k</td>\n",
       "      <td>base</td>\n",
       "      <td>main</td>\n",
       "      <td>prompt_answer</td>\n",
       "      <td>15</td>\n",
       "      <td>../activations/llama3.1_8b_chat/birth_years_4k...</td>\n",
       "    </tr>\n",
       "    <tr>\n",
       "      <th>253</th>\n",
       "      <td>llama3.1_8b_chat</td>\n",
       "      <td>birth_years_4k</td>\n",
       "      <td>base</td>\n",
       "      <td>main</td>\n",
       "      <td>prompt_answer</td>\n",
       "      <td>12</td>\n",
       "      <td>../activations/llama3.1_8b_chat/birth_years_4k...</td>\n",
       "    </tr>\n",
       "    <tr>\n",
       "      <th>254</th>\n",
       "      <td>llama3.1_8b_chat</td>\n",
       "      <td>birth_years_4k</td>\n",
       "      <td>base</td>\n",
       "      <td>main</td>\n",
       "      <td>prompt_answer</td>\n",
       "      <td>2</td>\n",
       "      <td>../activations/llama3.1_8b_chat/birth_years_4k...</td>\n",
       "    </tr>\n",
       "    <tr>\n",
       "      <th>255</th>\n",
       "      <td>llama3.1_8b_chat</td>\n",
       "      <td>birth_years_4k</td>\n",
       "      <td>base</td>\n",
       "      <td>main</td>\n",
       "      <td>prompt_answer</td>\n",
       "      <td>5</td>\n",
       "      <td>../activations/llama3.1_8b_chat/birth_years_4k...</td>\n",
       "    </tr>\n",
       "  </tbody>\n",
       "</table>\n",
       "<p>256 rows × 7 columns</p>\n",
       "</div>"
      ],
      "text/plain": [
       "             model_id           dataset_id prompt_id subset_id     input_type  \\\n",
       "0    llama3.1_8b_chat  football_leagues_1k      base      main    prompt_only   \n",
       "1    llama3.1_8b_chat  football_leagues_1k      base      main    prompt_only   \n",
       "2    llama3.1_8b_chat  football_leagues_1k      base      main    prompt_only   \n",
       "3    llama3.1_8b_chat  football_leagues_1k      base      main    prompt_only   \n",
       "4    llama3.1_8b_chat  football_leagues_1k      base      main    prompt_only   \n",
       "..                ...                  ...       ...       ...            ...   \n",
       "251  llama3.1_8b_chat       birth_years_4k      base      main  prompt_answer   \n",
       "252  llama3.1_8b_chat       birth_years_4k      base      main  prompt_answer   \n",
       "253  llama3.1_8b_chat       birth_years_4k      base      main  prompt_answer   \n",
       "254  llama3.1_8b_chat       birth_years_4k      base      main  prompt_answer   \n",
       "255  llama3.1_8b_chat       birth_years_4k      base      main  prompt_answer   \n",
       "\n",
       "     layer                                               path  \n",
       "0        0  ../activations/llama3.1_8b_chat/football_leagu...  \n",
       "1        7  ../activations/llama3.1_8b_chat/football_leagu...  \n",
       "2        9  ../activations/llama3.1_8b_chat/football_leagu...  \n",
       "3       17  ../activations/llama3.1_8b_chat/football_leagu...  \n",
       "4       28  ../activations/llama3.1_8b_chat/football_leagu...  \n",
       "..     ...                                                ...  \n",
       "251     23  ../activations/llama3.1_8b_chat/birth_years_4k...  \n",
       "252     15  ../activations/llama3.1_8b_chat/birth_years_4k...  \n",
       "253     12  ../activations/llama3.1_8b_chat/birth_years_4k...  \n",
       "254      2  ../activations/llama3.1_8b_chat/birth_years_4k...  \n",
       "255      5  ../activations/llama3.1_8b_chat/birth_years_4k...  \n",
       "\n",
       "[256 rows x 7 columns]"
      ]
     },
     "execution_count": 4,
     "metadata": {},
     "output_type": "execute_result"
    }
   ],
   "source": [
    "all_activation_exp_configs = defaultdict(list)\n",
    "for model_path in Path(\"../../activations\").iterdir():\n",
    "    for dataset_path in model_path.iterdir():\n",
    "        for prompt_path in dataset_path.iterdir():\n",
    "            for subset_path in prompt_path.iterdir():\n",
    "                for input_type_path in subset_path.iterdir():\n",
    "                    for layer_path in input_type_path.iterdir():\n",
    "                        all_activation_exp_configs[\"model_id\"].append(model_path.name)\n",
    "                        all_activation_exp_configs[\"dataset_id\"].append(dataset_path.name)\n",
    "                        all_activation_exp_configs[\"prompt_id\"].append(prompt_path.name)\n",
    "                        all_activation_exp_configs[\"subset_id\"].append(subset_path.name)\n",
    "                        all_activation_exp_configs[\"input_type\"].append(input_type_path.name)\n",
    "                        all_activation_exp_configs[\"layer\"].append(int(layer_path.name.split(\"_\")[-1]))\n",
    "                        all_activation_exp_configs[\"path\"].append(layer_path)\n",
    "all_activation_exp_configs_df = pd.DataFrame(all_activation_exp_configs)\n",
    "all_activation_exp_configs_df\n"
   ]
  },
  {
   "cell_type": "code",
   "execution_count": 5,
   "metadata": {},
   "outputs": [
    {
     "data": {
      "text/html": [
       "<div>\n",
       "<style scoped>\n",
       "    .dataframe tbody tr th:only-of-type {\n",
       "        vertical-align: middle;\n",
       "    }\n",
       "\n",
       "    .dataframe tbody tr th {\n",
       "        vertical-align: top;\n",
       "    }\n",
       "\n",
       "    .dataframe thead th {\n",
       "        text-align: right;\n",
       "    }\n",
       "</style>\n",
       "<table border=\"1\" class=\"dataframe\">\n",
       "  <thead>\n",
       "    <tr style=\"text-align: right;\">\n",
       "      <th></th>\n",
       "      <th>model_id</th>\n",
       "      <th>dataset_id</th>\n",
       "      <th>prompt_id</th>\n",
       "      <th>subset_id</th>\n",
       "      <th>input_type</th>\n",
       "      <th>layer</th>\n",
       "      <th>path</th>\n",
       "    </tr>\n",
       "  </thead>\n",
       "  <tbody>\n",
       "    <tr>\n",
       "      <th>0</th>\n",
       "      <td>llama3.1_8b_chat</td>\n",
       "      <td>football_leagues_1k</td>\n",
       "      <td>base</td>\n",
       "      <td>main</td>\n",
       "      <td>prompt_only</td>\n",
       "      <td>0</td>\n",
       "      <td>../activations/llama3.1_8b_chat/football_leagu...</td>\n",
       "    </tr>\n",
       "    <tr>\n",
       "      <th>1</th>\n",
       "      <td>llama3.1_8b_chat</td>\n",
       "      <td>football_leagues_1k</td>\n",
       "      <td>base</td>\n",
       "      <td>main</td>\n",
       "      <td>prompt_only</td>\n",
       "      <td>7</td>\n",
       "      <td>../activations/llama3.1_8b_chat/football_leagu...</td>\n",
       "    </tr>\n",
       "    <tr>\n",
       "      <th>2</th>\n",
       "      <td>llama3.1_8b_chat</td>\n",
       "      <td>football_leagues_1k</td>\n",
       "      <td>base</td>\n",
       "      <td>main</td>\n",
       "      <td>prompt_only</td>\n",
       "      <td>9</td>\n",
       "      <td>../activations/llama3.1_8b_chat/football_leagu...</td>\n",
       "    </tr>\n",
       "    <tr>\n",
       "      <th>3</th>\n",
       "      <td>llama3.1_8b_chat</td>\n",
       "      <td>football_leagues_1k</td>\n",
       "      <td>base</td>\n",
       "      <td>main</td>\n",
       "      <td>prompt_only</td>\n",
       "      <td>17</td>\n",
       "      <td>../activations/llama3.1_8b_chat/football_leagu...</td>\n",
       "    </tr>\n",
       "    <tr>\n",
       "      <th>4</th>\n",
       "      <td>llama3.1_8b_chat</td>\n",
       "      <td>football_leagues_1k</td>\n",
       "      <td>base</td>\n",
       "      <td>main</td>\n",
       "      <td>prompt_only</td>\n",
       "      <td>28</td>\n",
       "      <td>../activations/llama3.1_8b_chat/football_leagu...</td>\n",
       "    </tr>\n",
       "    <tr>\n",
       "      <th>...</th>\n",
       "      <td>...</td>\n",
       "      <td>...</td>\n",
       "      <td>...</td>\n",
       "      <td>...</td>\n",
       "      <td>...</td>\n",
       "      <td>...</td>\n",
       "      <td>...</td>\n",
       "    </tr>\n",
       "    <tr>\n",
       "      <th>251</th>\n",
       "      <td>llama3.1_8b_chat</td>\n",
       "      <td>birth_years_4k</td>\n",
       "      <td>base</td>\n",
       "      <td>main</td>\n",
       "      <td>prompt_answer</td>\n",
       "      <td>23</td>\n",
       "      <td>../activations/llama3.1_8b_chat/birth_years_4k...</td>\n",
       "    </tr>\n",
       "    <tr>\n",
       "      <th>252</th>\n",
       "      <td>llama3.1_8b_chat</td>\n",
       "      <td>birth_years_4k</td>\n",
       "      <td>base</td>\n",
       "      <td>main</td>\n",
       "      <td>prompt_answer</td>\n",
       "      <td>15</td>\n",
       "      <td>../activations/llama3.1_8b_chat/birth_years_4k...</td>\n",
       "    </tr>\n",
       "    <tr>\n",
       "      <th>253</th>\n",
       "      <td>llama3.1_8b_chat</td>\n",
       "      <td>birth_years_4k</td>\n",
       "      <td>base</td>\n",
       "      <td>main</td>\n",
       "      <td>prompt_answer</td>\n",
       "      <td>12</td>\n",
       "      <td>../activations/llama3.1_8b_chat/birth_years_4k...</td>\n",
       "    </tr>\n",
       "    <tr>\n",
       "      <th>254</th>\n",
       "      <td>llama3.1_8b_chat</td>\n",
       "      <td>birth_years_4k</td>\n",
       "      <td>base</td>\n",
       "      <td>main</td>\n",
       "      <td>prompt_answer</td>\n",
       "      <td>2</td>\n",
       "      <td>../activations/llama3.1_8b_chat/birth_years_4k...</td>\n",
       "    </tr>\n",
       "    <tr>\n",
       "      <th>255</th>\n",
       "      <td>llama3.1_8b_chat</td>\n",
       "      <td>birth_years_4k</td>\n",
       "      <td>base</td>\n",
       "      <td>main</td>\n",
       "      <td>prompt_answer</td>\n",
       "      <td>5</td>\n",
       "      <td>../activations/llama3.1_8b_chat/birth_years_4k...</td>\n",
       "    </tr>\n",
       "  </tbody>\n",
       "</table>\n",
       "<p>256 rows × 7 columns</p>\n",
       "</div>"
      ],
      "text/plain": [
       "             model_id           dataset_id prompt_id subset_id     input_type  \\\n",
       "0    llama3.1_8b_chat  football_leagues_1k      base      main    prompt_only   \n",
       "1    llama3.1_8b_chat  football_leagues_1k      base      main    prompt_only   \n",
       "2    llama3.1_8b_chat  football_leagues_1k      base      main    prompt_only   \n",
       "3    llama3.1_8b_chat  football_leagues_1k      base      main    prompt_only   \n",
       "4    llama3.1_8b_chat  football_leagues_1k      base      main    prompt_only   \n",
       "..                ...                  ...       ...       ...            ...   \n",
       "251  llama3.1_8b_chat       birth_years_4k      base      main  prompt_answer   \n",
       "252  llama3.1_8b_chat       birth_years_4k      base      main  prompt_answer   \n",
       "253  llama3.1_8b_chat       birth_years_4k      base      main  prompt_answer   \n",
       "254  llama3.1_8b_chat       birth_years_4k      base      main  prompt_answer   \n",
       "255  llama3.1_8b_chat       birth_years_4k      base      main  prompt_answer   \n",
       "\n",
       "     layer                                               path  \n",
       "0        0  ../activations/llama3.1_8b_chat/football_leagu...  \n",
       "1        7  ../activations/llama3.1_8b_chat/football_leagu...  \n",
       "2        9  ../activations/llama3.1_8b_chat/football_leagu...  \n",
       "3       17  ../activations/llama3.1_8b_chat/football_leagu...  \n",
       "4       28  ../activations/llama3.1_8b_chat/football_leagu...  \n",
       "..     ...                                                ...  \n",
       "251     23  ../activations/llama3.1_8b_chat/birth_years_4k...  \n",
       "252     15  ../activations/llama3.1_8b_chat/birth_years_4k...  \n",
       "253     12  ../activations/llama3.1_8b_chat/birth_years_4k...  \n",
       "254      2  ../activations/llama3.1_8b_chat/birth_years_4k...  \n",
       "255      5  ../activations/llama3.1_8b_chat/birth_years_4k...  \n",
       "\n",
       "[256 rows x 7 columns]"
      ]
     },
     "execution_count": 5,
     "metadata": {},
     "output_type": "execute_result"
    }
   ],
   "source": [
    "# Set None to get all\n",
    "MODEL_ID = \"llama3.1_8b_chat\"\n",
    "# DATASET_ID = \"gsm8k\"\n",
    "# PROMPT_ID = \"cot_3_shot\"\n",
    "# SUBSET_ID = \"main\"\n",
    "# INPUT_TYPE = \"prompt_only\"\n",
    "DATASET_ID = None\n",
    "PROMPT_ID = None\n",
    "SUBSET_ID = None\n",
    "INPUT_TYPE = None\n",
    "\n",
    "\n",
    "activation_exp_configs_df = all_activation_exp_configs_df.copy()\n",
    "\n",
    "if MODEL_ID != None:\n",
    "    activation_exp_configs_df = activation_exp_configs_df[activation_exp_configs_df[\"model_id\"] == MODEL_ID]\n",
    "if DATASET_ID != None:\n",
    "    activation_exp_configs_df = activation_exp_configs_df[activation_exp_configs_df[\"dataset_id\"] == DATASET_ID]\n",
    "if PROMPT_ID != None:\n",
    "    activation_exp_configs_df = activation_exp_configs_df[activation_exp_configs_df[\"prompt_id\"] == PROMPT_ID]\n",
    "if SUBSET_ID != None:\n",
    "    activation_exp_configs_df = activation_exp_configs_df[activation_exp_configs_df[\"subset_id\"] == SUBSET_ID]\n",
    "if INPUT_TYPE != None:\n",
    "    activation_exp_configs_df = activation_exp_configs_df[activation_exp_configs_df[\"input_type\"] == INPUT_TYPE]\n",
    "\n",
    "\n",
    "activation_exp_configs_df"
   ]
  },
  {
   "cell_type": "code",
   "execution_count": 8,
   "metadata": {},
   "outputs": [
    {
     "name": "stdout",
     "output_type": "stream",
     "text": [
      "\n",
      "model_id='llama3.1_8b_chat', dataset_id='birth_years_4k', prompt_id='base', subset_id='main', input_type='prompt_answer'\n",
      "layer=0, "
     ]
    },
    {
     "name": "stderr",
     "output_type": "stream",
     "text": [
      "/Users/anton/dev/MARS/correctness-model-internals/venv/lib/python3.11/site-packages/sklearn/linear_model/_logistic.py:469: ConvergenceWarning: lbfgs failed to converge (status=1):\n",
      "STOP: TOTAL NO. OF ITERATIONS REACHED LIMIT.\n",
      "\n",
      "Increase the number of iterations (max_iter) or scale the data as shown in:\n",
      "    https://scikit-learn.org/stable/modules/preprocessing.html\n",
      "Please also refer to the documentation for alternative solver options:\n",
      "    https://scikit-learn.org/stable/modules/linear_model.html#logistic-regression\n",
      "  n_iter_i = _check_optimize_result(\n",
      "/Users/anton/dev/MARS/correctness-model-internals/venv/lib/python3.11/site-packages/sklearn/linear_model/_logistic.py:469: ConvergenceWarning: lbfgs failed to converge (status=1):\n",
      "STOP: TOTAL NO. OF ITERATIONS REACHED LIMIT.\n",
      "\n",
      "Increase the number of iterations (max_iter) or scale the data as shown in:\n",
      "    https://scikit-learn.org/stable/modules/preprocessing.html\n",
      "Please also refer to the documentation for alternative solver options:\n",
      "    https://scikit-learn.org/stable/modules/linear_model.html#logistic-regression\n",
      "  n_iter_i = _check_optimize_result(\n",
      "/Users/anton/dev/MARS/correctness-model-internals/venv/lib/python3.11/site-packages/sklearn/linear_model/_logistic.py:469: ConvergenceWarning: lbfgs failed to converge (status=1):\n",
      "STOP: TOTAL NO. OF ITERATIONS REACHED LIMIT.\n",
      "\n",
      "Increase the number of iterations (max_iter) or scale the data as shown in:\n",
      "    https://scikit-learn.org/stable/modules/preprocessing.html\n",
      "Please also refer to the documentation for alternative solver options:\n",
      "    https://scikit-learn.org/stable/modules/linear_model.html#logistic-regression\n",
      "  n_iter_i = _check_optimize_result(\n",
      "/Users/anton/dev/MARS/correctness-model-internals/venv/lib/python3.11/site-packages/sklearn/linear_model/_logistic.py:469: ConvergenceWarning: lbfgs failed to converge (status=1):\n",
      "STOP: TOTAL NO. OF ITERATIONS REACHED LIMIT.\n",
      "\n",
      "Increase the number of iterations (max_iter) or scale the data as shown in:\n",
      "    https://scikit-learn.org/stable/modules/preprocessing.html\n",
      "Please also refer to the documentation for alternative solver options:\n",
      "    https://scikit-learn.org/stable/modules/linear_model.html#logistic-regression\n",
      "  n_iter_i = _check_optimize_result(\n",
      "/Users/anton/dev/MARS/correctness-model-internals/venv/lib/python3.11/site-packages/sklearn/linear_model/_logistic.py:469: ConvergenceWarning: lbfgs failed to converge (status=1):\n",
      "STOP: TOTAL NO. OF ITERATIONS REACHED LIMIT.\n",
      "\n",
      "Increase the number of iterations (max_iter) or scale the data as shown in:\n",
      "    https://scikit-learn.org/stable/modules/preprocessing.html\n",
      "Please also refer to the documentation for alternative solver options:\n",
      "    https://scikit-learn.org/stable/modules/linear_model.html#logistic-regression\n",
      "  n_iter_i = _check_optimize_result(\n"
     ]
    },
    {
     "name": "stdout",
     "output_type": "stream",
     "text": [
      "layer=1, "
     ]
    },
    {
     "name": "stderr",
     "output_type": "stream",
     "text": [
      "/Users/anton/dev/MARS/correctness-model-internals/venv/lib/python3.11/site-packages/sklearn/linear_model/_logistic.py:469: ConvergenceWarning: lbfgs failed to converge (status=1):\n",
      "STOP: TOTAL NO. OF ITERATIONS REACHED LIMIT.\n",
      "\n",
      "Increase the number of iterations (max_iter) or scale the data as shown in:\n",
      "    https://scikit-learn.org/stable/modules/preprocessing.html\n",
      "Please also refer to the documentation for alternative solver options:\n",
      "    https://scikit-learn.org/stable/modules/linear_model.html#logistic-regression\n",
      "  n_iter_i = _check_optimize_result(\n",
      "/Users/anton/dev/MARS/correctness-model-internals/venv/lib/python3.11/site-packages/sklearn/linear_model/_logistic.py:469: ConvergenceWarning: lbfgs failed to converge (status=1):\n",
      "STOP: TOTAL NO. OF ITERATIONS REACHED LIMIT.\n",
      "\n",
      "Increase the number of iterations (max_iter) or scale the data as shown in:\n",
      "    https://scikit-learn.org/stable/modules/preprocessing.html\n",
      "Please also refer to the documentation for alternative solver options:\n",
      "    https://scikit-learn.org/stable/modules/linear_model.html#logistic-regression\n",
      "  n_iter_i = _check_optimize_result(\n",
      "/Users/anton/dev/MARS/correctness-model-internals/venv/lib/python3.11/site-packages/sklearn/linear_model/_logistic.py:469: ConvergenceWarning: lbfgs failed to converge (status=1):\n",
      "STOP: TOTAL NO. OF ITERATIONS REACHED LIMIT.\n",
      "\n",
      "Increase the number of iterations (max_iter) or scale the data as shown in:\n",
      "    https://scikit-learn.org/stable/modules/preprocessing.html\n",
      "Please also refer to the documentation for alternative solver options:\n",
      "    https://scikit-learn.org/stable/modules/linear_model.html#logistic-regression\n",
      "  n_iter_i = _check_optimize_result(\n",
      "/Users/anton/dev/MARS/correctness-model-internals/venv/lib/python3.11/site-packages/sklearn/linear_model/_logistic.py:469: ConvergenceWarning: lbfgs failed to converge (status=1):\n",
      "STOP: TOTAL NO. OF ITERATIONS REACHED LIMIT.\n",
      "\n",
      "Increase the number of iterations (max_iter) or scale the data as shown in:\n",
      "    https://scikit-learn.org/stable/modules/preprocessing.html\n",
      "Please also refer to the documentation for alternative solver options:\n",
      "    https://scikit-learn.org/stable/modules/linear_model.html#logistic-regression\n",
      "  n_iter_i = _check_optimize_result(\n",
      "/Users/anton/dev/MARS/correctness-model-internals/venv/lib/python3.11/site-packages/sklearn/linear_model/_logistic.py:469: ConvergenceWarning: lbfgs failed to converge (status=1):\n",
      "STOP: TOTAL NO. OF ITERATIONS REACHED LIMIT.\n",
      "\n",
      "Increase the number of iterations (max_iter) or scale the data as shown in:\n",
      "    https://scikit-learn.org/stable/modules/preprocessing.html\n",
      "Please also refer to the documentation for alternative solver options:\n",
      "    https://scikit-learn.org/stable/modules/linear_model.html#logistic-regression\n",
      "  n_iter_i = _check_optimize_result(\n"
     ]
    },
    {
     "name": "stdout",
     "output_type": "stream",
     "text": [
      "layer=2, "
     ]
    },
    {
     "name": "stderr",
     "output_type": "stream",
     "text": [
      "/Users/anton/dev/MARS/correctness-model-internals/venv/lib/python3.11/site-packages/sklearn/linear_model/_logistic.py:469: ConvergenceWarning: lbfgs failed to converge (status=1):\n",
      "STOP: TOTAL NO. OF ITERATIONS REACHED LIMIT.\n",
      "\n",
      "Increase the number of iterations (max_iter) or scale the data as shown in:\n",
      "    https://scikit-learn.org/stable/modules/preprocessing.html\n",
      "Please also refer to the documentation for alternative solver options:\n",
      "    https://scikit-learn.org/stable/modules/linear_model.html#logistic-regression\n",
      "  n_iter_i = _check_optimize_result(\n"
     ]
    },
    {
     "name": "stdout",
     "output_type": "stream",
     "text": [
      "layer=3, layer=4, layer=5, layer=6, layer=7, layer=8, layer=9, layer=10, layer=11, layer=12, layer=13, layer=14, layer=15, layer=16, layer=17, layer=18, layer=19, layer=20, layer=21, layer=22, layer=23, layer=24, layer=25, layer=26, layer=27, layer=28, layer=29, layer=30, layer=31, \n",
      "model_id='llama3.1_8b_chat', dataset_id='birth_years_4k', prompt_id='base', subset_id='main', input_type='prompt_only'\n",
      "layer=0, "
     ]
    },
    {
     "name": "stderr",
     "output_type": "stream",
     "text": [
      "/Users/anton/dev/MARS/correctness-model-internals/venv/lib/python3.11/site-packages/sklearn/linear_model/_logistic.py:469: ConvergenceWarning: lbfgs failed to converge (status=1):\n",
      "STOP: TOTAL NO. OF ITERATIONS REACHED LIMIT.\n",
      "\n",
      "Increase the number of iterations (max_iter) or scale the data as shown in:\n",
      "    https://scikit-learn.org/stable/modules/preprocessing.html\n",
      "Please also refer to the documentation for alternative solver options:\n",
      "    https://scikit-learn.org/stable/modules/linear_model.html#logistic-regression\n",
      "  n_iter_i = _check_optimize_result(\n",
      "/Users/anton/dev/MARS/correctness-model-internals/venv/lib/python3.11/site-packages/sklearn/linear_model/_logistic.py:469: ConvergenceWarning: lbfgs failed to converge (status=1):\n",
      "STOP: TOTAL NO. OF ITERATIONS REACHED LIMIT.\n",
      "\n",
      "Increase the number of iterations (max_iter) or scale the data as shown in:\n",
      "    https://scikit-learn.org/stable/modules/preprocessing.html\n",
      "Please also refer to the documentation for alternative solver options:\n",
      "    https://scikit-learn.org/stable/modules/linear_model.html#logistic-regression\n",
      "  n_iter_i = _check_optimize_result(\n",
      "/Users/anton/dev/MARS/correctness-model-internals/venv/lib/python3.11/site-packages/sklearn/linear_model/_logistic.py:469: ConvergenceWarning: lbfgs failed to converge (status=1):\n",
      "STOP: TOTAL NO. OF ITERATIONS REACHED LIMIT.\n",
      "\n",
      "Increase the number of iterations (max_iter) or scale the data as shown in:\n",
      "    https://scikit-learn.org/stable/modules/preprocessing.html\n",
      "Please also refer to the documentation for alternative solver options:\n",
      "    https://scikit-learn.org/stable/modules/linear_model.html#logistic-regression\n",
      "  n_iter_i = _check_optimize_result(\n"
     ]
    },
    {
     "name": "stdout",
     "output_type": "stream",
     "text": [
      "layer=1, layer=2, layer=3, layer=4, layer=5, layer=6, layer=7, layer=8, layer=9, layer=10, layer=11, layer=12, layer=13, layer=14, layer=15, layer=16, layer=17, layer=18, layer=19, layer=20, layer=21, layer=22, layer=23, layer=24, layer=25, layer=26, layer=27, layer=28, layer=29, layer=30, layer=31, \n",
      "model_id='llama3.1_8b_chat', dataset_id='cities_10k', prompt_id='base', subset_id='main', input_type='prompt_answer'\n",
      "layer=0, "
     ]
    },
    {
     "name": "stderr",
     "output_type": "stream",
     "text": [
      "/Users/anton/dev/MARS/correctness-model-internals/venv/lib/python3.11/site-packages/sklearn/linear_model/_logistic.py:469: ConvergenceWarning: lbfgs failed to converge (status=1):\n",
      "STOP: TOTAL NO. OF ITERATIONS REACHED LIMIT.\n",
      "\n",
      "Increase the number of iterations (max_iter) or scale the data as shown in:\n",
      "    https://scikit-learn.org/stable/modules/preprocessing.html\n",
      "Please also refer to the documentation for alternative solver options:\n",
      "    https://scikit-learn.org/stable/modules/linear_model.html#logistic-regression\n",
      "  n_iter_i = _check_optimize_result(\n",
      "/Users/anton/dev/MARS/correctness-model-internals/venv/lib/python3.11/site-packages/sklearn/linear_model/_logistic.py:469: ConvergenceWarning: lbfgs failed to converge (status=1):\n",
      "STOP: TOTAL NO. OF ITERATIONS REACHED LIMIT.\n",
      "\n",
      "Increase the number of iterations (max_iter) or scale the data as shown in:\n",
      "    https://scikit-learn.org/stable/modules/preprocessing.html\n",
      "Please also refer to the documentation for alternative solver options:\n",
      "    https://scikit-learn.org/stable/modules/linear_model.html#logistic-regression\n",
      "  n_iter_i = _check_optimize_result(\n",
      "/Users/anton/dev/MARS/correctness-model-internals/venv/lib/python3.11/site-packages/sklearn/linear_model/_logistic.py:469: ConvergenceWarning: lbfgs failed to converge (status=1):\n",
      "STOP: TOTAL NO. OF ITERATIONS REACHED LIMIT.\n",
      "\n",
      "Increase the number of iterations (max_iter) or scale the data as shown in:\n",
      "    https://scikit-learn.org/stable/modules/preprocessing.html\n",
      "Please also refer to the documentation for alternative solver options:\n",
      "    https://scikit-learn.org/stable/modules/linear_model.html#logistic-regression\n",
      "  n_iter_i = _check_optimize_result(\n",
      "/Users/anton/dev/MARS/correctness-model-internals/venv/lib/python3.11/site-packages/sklearn/linear_model/_logistic.py:469: ConvergenceWarning: lbfgs failed to converge (status=1):\n",
      "STOP: TOTAL NO. OF ITERATIONS REACHED LIMIT.\n",
      "\n",
      "Increase the number of iterations (max_iter) or scale the data as shown in:\n",
      "    https://scikit-learn.org/stable/modules/preprocessing.html\n",
      "Please also refer to the documentation for alternative solver options:\n",
      "    https://scikit-learn.org/stable/modules/linear_model.html#logistic-regression\n",
      "  n_iter_i = _check_optimize_result(\n",
      "/Users/anton/dev/MARS/correctness-model-internals/venv/lib/python3.11/site-packages/sklearn/linear_model/_logistic.py:469: ConvergenceWarning: lbfgs failed to converge (status=1):\n",
      "STOP: TOTAL NO. OF ITERATIONS REACHED LIMIT.\n",
      "\n",
      "Increase the number of iterations (max_iter) or scale the data as shown in:\n",
      "    https://scikit-learn.org/stable/modules/preprocessing.html\n",
      "Please also refer to the documentation for alternative solver options:\n",
      "    https://scikit-learn.org/stable/modules/linear_model.html#logistic-regression\n",
      "  n_iter_i = _check_optimize_result(\n"
     ]
    },
    {
     "name": "stdout",
     "output_type": "stream",
     "text": [
      "layer=1, "
     ]
    },
    {
     "name": "stderr",
     "output_type": "stream",
     "text": [
      "/Users/anton/dev/MARS/correctness-model-internals/venv/lib/python3.11/site-packages/sklearn/linear_model/_logistic.py:469: ConvergenceWarning: lbfgs failed to converge (status=1):\n",
      "STOP: TOTAL NO. OF ITERATIONS REACHED LIMIT.\n",
      "\n",
      "Increase the number of iterations (max_iter) or scale the data as shown in:\n",
      "    https://scikit-learn.org/stable/modules/preprocessing.html\n",
      "Please also refer to the documentation for alternative solver options:\n",
      "    https://scikit-learn.org/stable/modules/linear_model.html#logistic-regression\n",
      "  n_iter_i = _check_optimize_result(\n",
      "/Users/anton/dev/MARS/correctness-model-internals/venv/lib/python3.11/site-packages/sklearn/linear_model/_logistic.py:469: ConvergenceWarning: lbfgs failed to converge (status=1):\n",
      "STOP: TOTAL NO. OF ITERATIONS REACHED LIMIT.\n",
      "\n",
      "Increase the number of iterations (max_iter) or scale the data as shown in:\n",
      "    https://scikit-learn.org/stable/modules/preprocessing.html\n",
      "Please also refer to the documentation for alternative solver options:\n",
      "    https://scikit-learn.org/stable/modules/linear_model.html#logistic-regression\n",
      "  n_iter_i = _check_optimize_result(\n",
      "/Users/anton/dev/MARS/correctness-model-internals/venv/lib/python3.11/site-packages/sklearn/linear_model/_logistic.py:469: ConvergenceWarning: lbfgs failed to converge (status=1):\n",
      "STOP: TOTAL NO. OF ITERATIONS REACHED LIMIT.\n",
      "\n",
      "Increase the number of iterations (max_iter) or scale the data as shown in:\n",
      "    https://scikit-learn.org/stable/modules/preprocessing.html\n",
      "Please also refer to the documentation for alternative solver options:\n",
      "    https://scikit-learn.org/stable/modules/linear_model.html#logistic-regression\n",
      "  n_iter_i = _check_optimize_result(\n",
      "/Users/anton/dev/MARS/correctness-model-internals/venv/lib/python3.11/site-packages/sklearn/linear_model/_logistic.py:469: ConvergenceWarning: lbfgs failed to converge (status=1):\n",
      "STOP: TOTAL NO. OF ITERATIONS REACHED LIMIT.\n",
      "\n",
      "Increase the number of iterations (max_iter) or scale the data as shown in:\n",
      "    https://scikit-learn.org/stable/modules/preprocessing.html\n",
      "Please also refer to the documentation for alternative solver options:\n",
      "    https://scikit-learn.org/stable/modules/linear_model.html#logistic-regression\n",
      "  n_iter_i = _check_optimize_result(\n",
      "/Users/anton/dev/MARS/correctness-model-internals/venv/lib/python3.11/site-packages/sklearn/linear_model/_logistic.py:469: ConvergenceWarning: lbfgs failed to converge (status=1):\n",
      "STOP: TOTAL NO. OF ITERATIONS REACHED LIMIT.\n",
      "\n",
      "Increase the number of iterations (max_iter) or scale the data as shown in:\n",
      "    https://scikit-learn.org/stable/modules/preprocessing.html\n",
      "Please also refer to the documentation for alternative solver options:\n",
      "    https://scikit-learn.org/stable/modules/linear_model.html#logistic-regression\n",
      "  n_iter_i = _check_optimize_result(\n"
     ]
    },
    {
     "name": "stdout",
     "output_type": "stream",
     "text": [
      "layer=2, "
     ]
    },
    {
     "name": "stderr",
     "output_type": "stream",
     "text": [
      "/Users/anton/dev/MARS/correctness-model-internals/venv/lib/python3.11/site-packages/sklearn/linear_model/_logistic.py:469: ConvergenceWarning: lbfgs failed to converge (status=1):\n",
      "STOP: TOTAL NO. OF ITERATIONS REACHED LIMIT.\n",
      "\n",
      "Increase the number of iterations (max_iter) or scale the data as shown in:\n",
      "    https://scikit-learn.org/stable/modules/preprocessing.html\n",
      "Please also refer to the documentation for alternative solver options:\n",
      "    https://scikit-learn.org/stable/modules/linear_model.html#logistic-regression\n",
      "  n_iter_i = _check_optimize_result(\n",
      "/Users/anton/dev/MARS/correctness-model-internals/venv/lib/python3.11/site-packages/sklearn/linear_model/_logistic.py:469: ConvergenceWarning: lbfgs failed to converge (status=1):\n",
      "STOP: TOTAL NO. OF ITERATIONS REACHED LIMIT.\n",
      "\n",
      "Increase the number of iterations (max_iter) or scale the data as shown in:\n",
      "    https://scikit-learn.org/stable/modules/preprocessing.html\n",
      "Please also refer to the documentation for alternative solver options:\n",
      "    https://scikit-learn.org/stable/modules/linear_model.html#logistic-regression\n",
      "  n_iter_i = _check_optimize_result(\n",
      "/Users/anton/dev/MARS/correctness-model-internals/venv/lib/python3.11/site-packages/sklearn/linear_model/_logistic.py:469: ConvergenceWarning: lbfgs failed to converge (status=1):\n",
      "STOP: TOTAL NO. OF ITERATIONS REACHED LIMIT.\n",
      "\n",
      "Increase the number of iterations (max_iter) or scale the data as shown in:\n",
      "    https://scikit-learn.org/stable/modules/preprocessing.html\n",
      "Please also refer to the documentation for alternative solver options:\n",
      "    https://scikit-learn.org/stable/modules/linear_model.html#logistic-regression\n",
      "  n_iter_i = _check_optimize_result(\n",
      "/Users/anton/dev/MARS/correctness-model-internals/venv/lib/python3.11/site-packages/sklearn/linear_model/_logistic.py:469: ConvergenceWarning: lbfgs failed to converge (status=1):\n",
      "STOP: TOTAL NO. OF ITERATIONS REACHED LIMIT.\n",
      "\n",
      "Increase the number of iterations (max_iter) or scale the data as shown in:\n",
      "    https://scikit-learn.org/stable/modules/preprocessing.html\n",
      "Please also refer to the documentation for alternative solver options:\n",
      "    https://scikit-learn.org/stable/modules/linear_model.html#logistic-regression\n",
      "  n_iter_i = _check_optimize_result(\n",
      "/Users/anton/dev/MARS/correctness-model-internals/venv/lib/python3.11/site-packages/sklearn/linear_model/_logistic.py:469: ConvergenceWarning: lbfgs failed to converge (status=1):\n",
      "STOP: TOTAL NO. OF ITERATIONS REACHED LIMIT.\n",
      "\n",
      "Increase the number of iterations (max_iter) or scale the data as shown in:\n",
      "    https://scikit-learn.org/stable/modules/preprocessing.html\n",
      "Please also refer to the documentation for alternative solver options:\n",
      "    https://scikit-learn.org/stable/modules/linear_model.html#logistic-regression\n",
      "  n_iter_i = _check_optimize_result(\n"
     ]
    },
    {
     "name": "stdout",
     "output_type": "stream",
     "text": [
      "layer=3, "
     ]
    },
    {
     "name": "stderr",
     "output_type": "stream",
     "text": [
      "/Users/anton/dev/MARS/correctness-model-internals/venv/lib/python3.11/site-packages/sklearn/linear_model/_logistic.py:469: ConvergenceWarning: lbfgs failed to converge (status=1):\n",
      "STOP: TOTAL NO. OF ITERATIONS REACHED LIMIT.\n",
      "\n",
      "Increase the number of iterations (max_iter) or scale the data as shown in:\n",
      "    https://scikit-learn.org/stable/modules/preprocessing.html\n",
      "Please also refer to the documentation for alternative solver options:\n",
      "    https://scikit-learn.org/stable/modules/linear_model.html#logistic-regression\n",
      "  n_iter_i = _check_optimize_result(\n",
      "/Users/anton/dev/MARS/correctness-model-internals/venv/lib/python3.11/site-packages/sklearn/linear_model/_logistic.py:469: ConvergenceWarning: lbfgs failed to converge (status=1):\n",
      "STOP: TOTAL NO. OF ITERATIONS REACHED LIMIT.\n",
      "\n",
      "Increase the number of iterations (max_iter) or scale the data as shown in:\n",
      "    https://scikit-learn.org/stable/modules/preprocessing.html\n",
      "Please also refer to the documentation for alternative solver options:\n",
      "    https://scikit-learn.org/stable/modules/linear_model.html#logistic-regression\n",
      "  n_iter_i = _check_optimize_result(\n",
      "/Users/anton/dev/MARS/correctness-model-internals/venv/lib/python3.11/site-packages/sklearn/linear_model/_logistic.py:469: ConvergenceWarning: lbfgs failed to converge (status=1):\n",
      "STOP: TOTAL NO. OF ITERATIONS REACHED LIMIT.\n",
      "\n",
      "Increase the number of iterations (max_iter) or scale the data as shown in:\n",
      "    https://scikit-learn.org/stable/modules/preprocessing.html\n",
      "Please also refer to the documentation for alternative solver options:\n",
      "    https://scikit-learn.org/stable/modules/linear_model.html#logistic-regression\n",
      "  n_iter_i = _check_optimize_result(\n",
      "/Users/anton/dev/MARS/correctness-model-internals/venv/lib/python3.11/site-packages/sklearn/linear_model/_logistic.py:469: ConvergenceWarning: lbfgs failed to converge (status=1):\n",
      "STOP: TOTAL NO. OF ITERATIONS REACHED LIMIT.\n",
      "\n",
      "Increase the number of iterations (max_iter) or scale the data as shown in:\n",
      "    https://scikit-learn.org/stable/modules/preprocessing.html\n",
      "Please also refer to the documentation for alternative solver options:\n",
      "    https://scikit-learn.org/stable/modules/linear_model.html#logistic-regression\n",
      "  n_iter_i = _check_optimize_result(\n"
     ]
    },
    {
     "name": "stdout",
     "output_type": "stream",
     "text": [
      "layer=4, layer=5, layer=6, layer=7, layer=8, layer=9, layer=10, layer=11, layer=12, layer=13, layer=14, layer=15, layer=16, layer=17, layer=18, layer=19, layer=20, layer=21, layer=22, layer=23, layer=24, layer=25, layer=26, layer=27, layer=28, layer=29, layer=30, layer=31, \n",
      "model_id='llama3.1_8b_chat', dataset_id='cities_10k', prompt_id='base', subset_id='main', input_type='prompt_only'\n",
      "layer=0, "
     ]
    },
    {
     "name": "stderr",
     "output_type": "stream",
     "text": [
      "/Users/anton/dev/MARS/correctness-model-internals/venv/lib/python3.11/site-packages/sklearn/linear_model/_logistic.py:469: ConvergenceWarning: lbfgs failed to converge (status=1):\n",
      "STOP: TOTAL NO. OF ITERATIONS REACHED LIMIT.\n",
      "\n",
      "Increase the number of iterations (max_iter) or scale the data as shown in:\n",
      "    https://scikit-learn.org/stable/modules/preprocessing.html\n",
      "Please also refer to the documentation for alternative solver options:\n",
      "    https://scikit-learn.org/stable/modules/linear_model.html#logistic-regression\n",
      "  n_iter_i = _check_optimize_result(\n",
      "/Users/anton/dev/MARS/correctness-model-internals/venv/lib/python3.11/site-packages/sklearn/linear_model/_logistic.py:469: ConvergenceWarning: lbfgs failed to converge (status=1):\n",
      "STOP: TOTAL NO. OF ITERATIONS REACHED LIMIT.\n",
      "\n",
      "Increase the number of iterations (max_iter) or scale the data as shown in:\n",
      "    https://scikit-learn.org/stable/modules/preprocessing.html\n",
      "Please also refer to the documentation for alternative solver options:\n",
      "    https://scikit-learn.org/stable/modules/linear_model.html#logistic-regression\n",
      "  n_iter_i = _check_optimize_result(\n",
      "/Users/anton/dev/MARS/correctness-model-internals/venv/lib/python3.11/site-packages/sklearn/linear_model/_logistic.py:469: ConvergenceWarning: lbfgs failed to converge (status=1):\n",
      "STOP: TOTAL NO. OF ITERATIONS REACHED LIMIT.\n",
      "\n",
      "Increase the number of iterations (max_iter) or scale the data as shown in:\n",
      "    https://scikit-learn.org/stable/modules/preprocessing.html\n",
      "Please also refer to the documentation for alternative solver options:\n",
      "    https://scikit-learn.org/stable/modules/linear_model.html#logistic-regression\n",
      "  n_iter_i = _check_optimize_result(\n",
      "/Users/anton/dev/MARS/correctness-model-internals/venv/lib/python3.11/site-packages/sklearn/linear_model/_logistic.py:469: ConvergenceWarning: lbfgs failed to converge (status=1):\n",
      "STOP: TOTAL NO. OF ITERATIONS REACHED LIMIT.\n",
      "\n",
      "Increase the number of iterations (max_iter) or scale the data as shown in:\n",
      "    https://scikit-learn.org/stable/modules/preprocessing.html\n",
      "Please also refer to the documentation for alternative solver options:\n",
      "    https://scikit-learn.org/stable/modules/linear_model.html#logistic-regression\n",
      "  n_iter_i = _check_optimize_result(\n",
      "/Users/anton/dev/MARS/correctness-model-internals/venv/lib/python3.11/site-packages/sklearn/linear_model/_logistic.py:469: ConvergenceWarning: lbfgs failed to converge (status=1):\n",
      "STOP: TOTAL NO. OF ITERATIONS REACHED LIMIT.\n",
      "\n",
      "Increase the number of iterations (max_iter) or scale the data as shown in:\n",
      "    https://scikit-learn.org/stable/modules/preprocessing.html\n",
      "Please also refer to the documentation for alternative solver options:\n",
      "    https://scikit-learn.org/stable/modules/linear_model.html#logistic-regression\n",
      "  n_iter_i = _check_optimize_result(\n"
     ]
    },
    {
     "name": "stdout",
     "output_type": "stream",
     "text": [
      "layer=1, "
     ]
    },
    {
     "name": "stderr",
     "output_type": "stream",
     "text": [
      "/Users/anton/dev/MARS/correctness-model-internals/venv/lib/python3.11/site-packages/sklearn/linear_model/_logistic.py:469: ConvergenceWarning: lbfgs failed to converge (status=1):\n",
      "STOP: TOTAL NO. OF ITERATIONS REACHED LIMIT.\n",
      "\n",
      "Increase the number of iterations (max_iter) or scale the data as shown in:\n",
      "    https://scikit-learn.org/stable/modules/preprocessing.html\n",
      "Please also refer to the documentation for alternative solver options:\n",
      "    https://scikit-learn.org/stable/modules/linear_model.html#logistic-regression\n",
      "  n_iter_i = _check_optimize_result(\n",
      "/Users/anton/dev/MARS/correctness-model-internals/venv/lib/python3.11/site-packages/sklearn/linear_model/_logistic.py:469: ConvergenceWarning: lbfgs failed to converge (status=1):\n",
      "STOP: TOTAL NO. OF ITERATIONS REACHED LIMIT.\n",
      "\n",
      "Increase the number of iterations (max_iter) or scale the data as shown in:\n",
      "    https://scikit-learn.org/stable/modules/preprocessing.html\n",
      "Please also refer to the documentation for alternative solver options:\n",
      "    https://scikit-learn.org/stable/modules/linear_model.html#logistic-regression\n",
      "  n_iter_i = _check_optimize_result(\n",
      "/Users/anton/dev/MARS/correctness-model-internals/venv/lib/python3.11/site-packages/sklearn/linear_model/_logistic.py:469: ConvergenceWarning: lbfgs failed to converge (status=1):\n",
      "STOP: TOTAL NO. OF ITERATIONS REACHED LIMIT.\n",
      "\n",
      "Increase the number of iterations (max_iter) or scale the data as shown in:\n",
      "    https://scikit-learn.org/stable/modules/preprocessing.html\n",
      "Please also refer to the documentation for alternative solver options:\n",
      "    https://scikit-learn.org/stable/modules/linear_model.html#logistic-regression\n",
      "  n_iter_i = _check_optimize_result(\n",
      "/Users/anton/dev/MARS/correctness-model-internals/venv/lib/python3.11/site-packages/sklearn/linear_model/_logistic.py:469: ConvergenceWarning: lbfgs failed to converge (status=1):\n",
      "STOP: TOTAL NO. OF ITERATIONS REACHED LIMIT.\n",
      "\n",
      "Increase the number of iterations (max_iter) or scale the data as shown in:\n",
      "    https://scikit-learn.org/stable/modules/preprocessing.html\n",
      "Please also refer to the documentation for alternative solver options:\n",
      "    https://scikit-learn.org/stable/modules/linear_model.html#logistic-regression\n",
      "  n_iter_i = _check_optimize_result(\n",
      "/Users/anton/dev/MARS/correctness-model-internals/venv/lib/python3.11/site-packages/sklearn/linear_model/_logistic.py:469: ConvergenceWarning: lbfgs failed to converge (status=1):\n",
      "STOP: TOTAL NO. OF ITERATIONS REACHED LIMIT.\n",
      "\n",
      "Increase the number of iterations (max_iter) or scale the data as shown in:\n",
      "    https://scikit-learn.org/stable/modules/preprocessing.html\n",
      "Please also refer to the documentation for alternative solver options:\n",
      "    https://scikit-learn.org/stable/modules/linear_model.html#logistic-regression\n",
      "  n_iter_i = _check_optimize_result(\n"
     ]
    },
    {
     "name": "stdout",
     "output_type": "stream",
     "text": [
      "layer=2, "
     ]
    },
    {
     "name": "stderr",
     "output_type": "stream",
     "text": [
      "/Users/anton/dev/MARS/correctness-model-internals/venv/lib/python3.11/site-packages/sklearn/linear_model/_logistic.py:469: ConvergenceWarning: lbfgs failed to converge (status=1):\n",
      "STOP: TOTAL NO. OF ITERATIONS REACHED LIMIT.\n",
      "\n",
      "Increase the number of iterations (max_iter) or scale the data as shown in:\n",
      "    https://scikit-learn.org/stable/modules/preprocessing.html\n",
      "Please also refer to the documentation for alternative solver options:\n",
      "    https://scikit-learn.org/stable/modules/linear_model.html#logistic-regression\n",
      "  n_iter_i = _check_optimize_result(\n",
      "/Users/anton/dev/MARS/correctness-model-internals/venv/lib/python3.11/site-packages/sklearn/linear_model/_logistic.py:469: ConvergenceWarning: lbfgs failed to converge (status=1):\n",
      "STOP: TOTAL NO. OF ITERATIONS REACHED LIMIT.\n",
      "\n",
      "Increase the number of iterations (max_iter) or scale the data as shown in:\n",
      "    https://scikit-learn.org/stable/modules/preprocessing.html\n",
      "Please also refer to the documentation for alternative solver options:\n",
      "    https://scikit-learn.org/stable/modules/linear_model.html#logistic-regression\n",
      "  n_iter_i = _check_optimize_result(\n",
      "/Users/anton/dev/MARS/correctness-model-internals/venv/lib/python3.11/site-packages/sklearn/linear_model/_logistic.py:469: ConvergenceWarning: lbfgs failed to converge (status=1):\n",
      "STOP: TOTAL NO. OF ITERATIONS REACHED LIMIT.\n",
      "\n",
      "Increase the number of iterations (max_iter) or scale the data as shown in:\n",
      "    https://scikit-learn.org/stable/modules/preprocessing.html\n",
      "Please also refer to the documentation for alternative solver options:\n",
      "    https://scikit-learn.org/stable/modules/linear_model.html#logistic-regression\n",
      "  n_iter_i = _check_optimize_result(\n",
      "/Users/anton/dev/MARS/correctness-model-internals/venv/lib/python3.11/site-packages/sklearn/linear_model/_logistic.py:469: ConvergenceWarning: lbfgs failed to converge (status=1):\n",
      "STOP: TOTAL NO. OF ITERATIONS REACHED LIMIT.\n",
      "\n",
      "Increase the number of iterations (max_iter) or scale the data as shown in:\n",
      "    https://scikit-learn.org/stable/modules/preprocessing.html\n",
      "Please also refer to the documentation for alternative solver options:\n",
      "    https://scikit-learn.org/stable/modules/linear_model.html#logistic-regression\n",
      "  n_iter_i = _check_optimize_result(\n",
      "/Users/anton/dev/MARS/correctness-model-internals/venv/lib/python3.11/site-packages/sklearn/linear_model/_logistic.py:469: ConvergenceWarning: lbfgs failed to converge (status=1):\n",
      "STOP: TOTAL NO. OF ITERATIONS REACHED LIMIT.\n",
      "\n",
      "Increase the number of iterations (max_iter) or scale the data as shown in:\n",
      "    https://scikit-learn.org/stable/modules/preprocessing.html\n",
      "Please also refer to the documentation for alternative solver options:\n",
      "    https://scikit-learn.org/stable/modules/linear_model.html#logistic-regression\n",
      "  n_iter_i = _check_optimize_result(\n"
     ]
    },
    {
     "name": "stdout",
     "output_type": "stream",
     "text": [
      "layer=3, "
     ]
    },
    {
     "name": "stderr",
     "output_type": "stream",
     "text": [
      "/Users/anton/dev/MARS/correctness-model-internals/venv/lib/python3.11/site-packages/sklearn/linear_model/_logistic.py:469: ConvergenceWarning: lbfgs failed to converge (status=1):\n",
      "STOP: TOTAL NO. OF ITERATIONS REACHED LIMIT.\n",
      "\n",
      "Increase the number of iterations (max_iter) or scale the data as shown in:\n",
      "    https://scikit-learn.org/stable/modules/preprocessing.html\n",
      "Please also refer to the documentation for alternative solver options:\n",
      "    https://scikit-learn.org/stable/modules/linear_model.html#logistic-regression\n",
      "  n_iter_i = _check_optimize_result(\n",
      "/Users/anton/dev/MARS/correctness-model-internals/venv/lib/python3.11/site-packages/sklearn/linear_model/_logistic.py:469: ConvergenceWarning: lbfgs failed to converge (status=1):\n",
      "STOP: TOTAL NO. OF ITERATIONS REACHED LIMIT.\n",
      "\n",
      "Increase the number of iterations (max_iter) or scale the data as shown in:\n",
      "    https://scikit-learn.org/stable/modules/preprocessing.html\n",
      "Please also refer to the documentation for alternative solver options:\n",
      "    https://scikit-learn.org/stable/modules/linear_model.html#logistic-regression\n",
      "  n_iter_i = _check_optimize_result(\n",
      "/Users/anton/dev/MARS/correctness-model-internals/venv/lib/python3.11/site-packages/sklearn/linear_model/_logistic.py:469: ConvergenceWarning: lbfgs failed to converge (status=1):\n",
      "STOP: TOTAL NO. OF ITERATIONS REACHED LIMIT.\n",
      "\n",
      "Increase the number of iterations (max_iter) or scale the data as shown in:\n",
      "    https://scikit-learn.org/stable/modules/preprocessing.html\n",
      "Please also refer to the documentation for alternative solver options:\n",
      "    https://scikit-learn.org/stable/modules/linear_model.html#logistic-regression\n",
      "  n_iter_i = _check_optimize_result(\n",
      "/Users/anton/dev/MARS/correctness-model-internals/venv/lib/python3.11/site-packages/sklearn/linear_model/_logistic.py:469: ConvergenceWarning: lbfgs failed to converge (status=1):\n",
      "STOP: TOTAL NO. OF ITERATIONS REACHED LIMIT.\n",
      "\n",
      "Increase the number of iterations (max_iter) or scale the data as shown in:\n",
      "    https://scikit-learn.org/stable/modules/preprocessing.html\n",
      "Please also refer to the documentation for alternative solver options:\n",
      "    https://scikit-learn.org/stable/modules/linear_model.html#logistic-regression\n",
      "  n_iter_i = _check_optimize_result(\n",
      "/Users/anton/dev/MARS/correctness-model-internals/venv/lib/python3.11/site-packages/sklearn/linear_model/_logistic.py:469: ConvergenceWarning: lbfgs failed to converge (status=1):\n",
      "STOP: TOTAL NO. OF ITERATIONS REACHED LIMIT.\n",
      "\n",
      "Increase the number of iterations (max_iter) or scale the data as shown in:\n",
      "    https://scikit-learn.org/stable/modules/preprocessing.html\n",
      "Please also refer to the documentation for alternative solver options:\n",
      "    https://scikit-learn.org/stable/modules/linear_model.html#logistic-regression\n",
      "  n_iter_i = _check_optimize_result(\n"
     ]
    },
    {
     "name": "stdout",
     "output_type": "stream",
     "text": [
      "layer=4, layer=5, layer=6, layer=7, layer=8, layer=9, layer=10, layer=11, layer=12, layer=13, layer=14, layer=15, layer=16, layer=17, layer=18, layer=19, layer=20, layer=21, layer=22, layer=23, layer=24, layer=25, layer=26, layer=27, layer=28, layer=29, layer=30, layer=31, \n",
      "model_id='llama3.1_8b_chat', dataset_id='football_leagues_1k', prompt_id='base', subset_id='main', input_type='prompt_answer'\n",
      "layer=0, layer=1, layer=2, layer=3, layer=4, layer=5, layer=6, layer=7, layer=8, layer=9, layer=10, layer=11, layer=12, layer=13, layer=14, layer=15, layer=16, layer=17, layer=18, layer=19, layer=20, layer=21, layer=22, layer=23, layer=24, layer=25, layer=26, layer=27, layer=28, layer=29, layer=30, layer=31, \n",
      "model_id='llama3.1_8b_chat', dataset_id='football_leagues_1k', prompt_id='base', subset_id='main', input_type='prompt_only'\n",
      "layer=0, layer=1, layer=2, layer=3, layer=4, layer=5, layer=6, layer=7, layer=8, layer=9, layer=10, layer=11, layer=12, layer=13, layer=14, layer=15, layer=16, layer=17, layer=18, layer=19, layer=20, layer=21, layer=22, layer=23, layer=24, layer=25, layer=26, layer=27, layer=28, layer=29, layer=30, layer=31, \n",
      "model_id='llama3.1_8b_chat', dataset_id='medals_9k', prompt_id='base', subset_id='main', input_type='prompt_answer'\n",
      "layer=0, "
     ]
    },
    {
     "name": "stderr",
     "output_type": "stream",
     "text": [
      "/Users/anton/dev/MARS/correctness-model-internals/venv/lib/python3.11/site-packages/sklearn/linear_model/_logistic.py:469: ConvergenceWarning: lbfgs failed to converge (status=1):\n",
      "STOP: TOTAL NO. OF ITERATIONS REACHED LIMIT.\n",
      "\n",
      "Increase the number of iterations (max_iter) or scale the data as shown in:\n",
      "    https://scikit-learn.org/stable/modules/preprocessing.html\n",
      "Please also refer to the documentation for alternative solver options:\n",
      "    https://scikit-learn.org/stable/modules/linear_model.html#logistic-regression\n",
      "  n_iter_i = _check_optimize_result(\n",
      "/Users/anton/dev/MARS/correctness-model-internals/venv/lib/python3.11/site-packages/sklearn/linear_model/_logistic.py:469: ConvergenceWarning: lbfgs failed to converge (status=1):\n",
      "STOP: TOTAL NO. OF ITERATIONS REACHED LIMIT.\n",
      "\n",
      "Increase the number of iterations (max_iter) or scale the data as shown in:\n",
      "    https://scikit-learn.org/stable/modules/preprocessing.html\n",
      "Please also refer to the documentation for alternative solver options:\n",
      "    https://scikit-learn.org/stable/modules/linear_model.html#logistic-regression\n",
      "  n_iter_i = _check_optimize_result(\n",
      "/Users/anton/dev/MARS/correctness-model-internals/venv/lib/python3.11/site-packages/sklearn/linear_model/_logistic.py:469: ConvergenceWarning: lbfgs failed to converge (status=1):\n",
      "STOP: TOTAL NO. OF ITERATIONS REACHED LIMIT.\n",
      "\n",
      "Increase the number of iterations (max_iter) or scale the data as shown in:\n",
      "    https://scikit-learn.org/stable/modules/preprocessing.html\n",
      "Please also refer to the documentation for alternative solver options:\n",
      "    https://scikit-learn.org/stable/modules/linear_model.html#logistic-regression\n",
      "  n_iter_i = _check_optimize_result(\n",
      "/Users/anton/dev/MARS/correctness-model-internals/venv/lib/python3.11/site-packages/sklearn/linear_model/_logistic.py:469: ConvergenceWarning: lbfgs failed to converge (status=1):\n",
      "STOP: TOTAL NO. OF ITERATIONS REACHED LIMIT.\n",
      "\n",
      "Increase the number of iterations (max_iter) or scale the data as shown in:\n",
      "    https://scikit-learn.org/stable/modules/preprocessing.html\n",
      "Please also refer to the documentation for alternative solver options:\n",
      "    https://scikit-learn.org/stable/modules/linear_model.html#logistic-regression\n",
      "  n_iter_i = _check_optimize_result(\n",
      "/Users/anton/dev/MARS/correctness-model-internals/venv/lib/python3.11/site-packages/sklearn/linear_model/_logistic.py:469: ConvergenceWarning: lbfgs failed to converge (status=1):\n",
      "STOP: TOTAL NO. OF ITERATIONS REACHED LIMIT.\n",
      "\n",
      "Increase the number of iterations (max_iter) or scale the data as shown in:\n",
      "    https://scikit-learn.org/stable/modules/preprocessing.html\n",
      "Please also refer to the documentation for alternative solver options:\n",
      "    https://scikit-learn.org/stable/modules/linear_model.html#logistic-regression\n",
      "  n_iter_i = _check_optimize_result(\n"
     ]
    },
    {
     "name": "stdout",
     "output_type": "stream",
     "text": [
      "layer=1, "
     ]
    },
    {
     "name": "stderr",
     "output_type": "stream",
     "text": [
      "/Users/anton/dev/MARS/correctness-model-internals/venv/lib/python3.11/site-packages/sklearn/linear_model/_logistic.py:469: ConvergenceWarning: lbfgs failed to converge (status=1):\n",
      "STOP: TOTAL NO. OF ITERATIONS REACHED LIMIT.\n",
      "\n",
      "Increase the number of iterations (max_iter) or scale the data as shown in:\n",
      "    https://scikit-learn.org/stable/modules/preprocessing.html\n",
      "Please also refer to the documentation for alternative solver options:\n",
      "    https://scikit-learn.org/stable/modules/linear_model.html#logistic-regression\n",
      "  n_iter_i = _check_optimize_result(\n",
      "/Users/anton/dev/MARS/correctness-model-internals/venv/lib/python3.11/site-packages/sklearn/linear_model/_logistic.py:469: ConvergenceWarning: lbfgs failed to converge (status=1):\n",
      "STOP: TOTAL NO. OF ITERATIONS REACHED LIMIT.\n",
      "\n",
      "Increase the number of iterations (max_iter) or scale the data as shown in:\n",
      "    https://scikit-learn.org/stable/modules/preprocessing.html\n",
      "Please also refer to the documentation for alternative solver options:\n",
      "    https://scikit-learn.org/stable/modules/linear_model.html#logistic-regression\n",
      "  n_iter_i = _check_optimize_result(\n",
      "/Users/anton/dev/MARS/correctness-model-internals/venv/lib/python3.11/site-packages/sklearn/linear_model/_logistic.py:469: ConvergenceWarning: lbfgs failed to converge (status=1):\n",
      "STOP: TOTAL NO. OF ITERATIONS REACHED LIMIT.\n",
      "\n",
      "Increase the number of iterations (max_iter) or scale the data as shown in:\n",
      "    https://scikit-learn.org/stable/modules/preprocessing.html\n",
      "Please also refer to the documentation for alternative solver options:\n",
      "    https://scikit-learn.org/stable/modules/linear_model.html#logistic-regression\n",
      "  n_iter_i = _check_optimize_result(\n",
      "/Users/anton/dev/MARS/correctness-model-internals/venv/lib/python3.11/site-packages/sklearn/linear_model/_logistic.py:469: ConvergenceWarning: lbfgs failed to converge (status=1):\n",
      "STOP: TOTAL NO. OF ITERATIONS REACHED LIMIT.\n",
      "\n",
      "Increase the number of iterations (max_iter) or scale the data as shown in:\n",
      "    https://scikit-learn.org/stable/modules/preprocessing.html\n",
      "Please also refer to the documentation for alternative solver options:\n",
      "    https://scikit-learn.org/stable/modules/linear_model.html#logistic-regression\n",
      "  n_iter_i = _check_optimize_result(\n",
      "/Users/anton/dev/MARS/correctness-model-internals/venv/lib/python3.11/site-packages/sklearn/linear_model/_logistic.py:469: ConvergenceWarning: lbfgs failed to converge (status=1):\n",
      "STOP: TOTAL NO. OF ITERATIONS REACHED LIMIT.\n",
      "\n",
      "Increase the number of iterations (max_iter) or scale the data as shown in:\n",
      "    https://scikit-learn.org/stable/modules/preprocessing.html\n",
      "Please also refer to the documentation for alternative solver options:\n",
      "    https://scikit-learn.org/stable/modules/linear_model.html#logistic-regression\n",
      "  n_iter_i = _check_optimize_result(\n"
     ]
    },
    {
     "name": "stdout",
     "output_type": "stream",
     "text": [
      "layer=2, "
     ]
    },
    {
     "name": "stderr",
     "output_type": "stream",
     "text": [
      "/Users/anton/dev/MARS/correctness-model-internals/venv/lib/python3.11/site-packages/sklearn/linear_model/_logistic.py:469: ConvergenceWarning: lbfgs failed to converge (status=1):\n",
      "STOP: TOTAL NO. OF ITERATIONS REACHED LIMIT.\n",
      "\n",
      "Increase the number of iterations (max_iter) or scale the data as shown in:\n",
      "    https://scikit-learn.org/stable/modules/preprocessing.html\n",
      "Please also refer to the documentation for alternative solver options:\n",
      "    https://scikit-learn.org/stable/modules/linear_model.html#logistic-regression\n",
      "  n_iter_i = _check_optimize_result(\n",
      "/Users/anton/dev/MARS/correctness-model-internals/venv/lib/python3.11/site-packages/sklearn/linear_model/_logistic.py:469: ConvergenceWarning: lbfgs failed to converge (status=1):\n",
      "STOP: TOTAL NO. OF ITERATIONS REACHED LIMIT.\n",
      "\n",
      "Increase the number of iterations (max_iter) or scale the data as shown in:\n",
      "    https://scikit-learn.org/stable/modules/preprocessing.html\n",
      "Please also refer to the documentation for alternative solver options:\n",
      "    https://scikit-learn.org/stable/modules/linear_model.html#logistic-regression\n",
      "  n_iter_i = _check_optimize_result(\n",
      "/Users/anton/dev/MARS/correctness-model-internals/venv/lib/python3.11/site-packages/sklearn/linear_model/_logistic.py:469: ConvergenceWarning: lbfgs failed to converge (status=1):\n",
      "STOP: TOTAL NO. OF ITERATIONS REACHED LIMIT.\n",
      "\n",
      "Increase the number of iterations (max_iter) or scale the data as shown in:\n",
      "    https://scikit-learn.org/stable/modules/preprocessing.html\n",
      "Please also refer to the documentation for alternative solver options:\n",
      "    https://scikit-learn.org/stable/modules/linear_model.html#logistic-regression\n",
      "  n_iter_i = _check_optimize_result(\n",
      "/Users/anton/dev/MARS/correctness-model-internals/venv/lib/python3.11/site-packages/sklearn/linear_model/_logistic.py:469: ConvergenceWarning: lbfgs failed to converge (status=1):\n",
      "STOP: TOTAL NO. OF ITERATIONS REACHED LIMIT.\n",
      "\n",
      "Increase the number of iterations (max_iter) or scale the data as shown in:\n",
      "    https://scikit-learn.org/stable/modules/preprocessing.html\n",
      "Please also refer to the documentation for alternative solver options:\n",
      "    https://scikit-learn.org/stable/modules/linear_model.html#logistic-regression\n",
      "  n_iter_i = _check_optimize_result(\n",
      "/Users/anton/dev/MARS/correctness-model-internals/venv/lib/python3.11/site-packages/sklearn/linear_model/_logistic.py:469: ConvergenceWarning: lbfgs failed to converge (status=1):\n",
      "STOP: TOTAL NO. OF ITERATIONS REACHED LIMIT.\n",
      "\n",
      "Increase the number of iterations (max_iter) or scale the data as shown in:\n",
      "    https://scikit-learn.org/stable/modules/preprocessing.html\n",
      "Please also refer to the documentation for alternative solver options:\n",
      "    https://scikit-learn.org/stable/modules/linear_model.html#logistic-regression\n",
      "  n_iter_i = _check_optimize_result(\n"
     ]
    },
    {
     "name": "stdout",
     "output_type": "stream",
     "text": [
      "layer=3, "
     ]
    },
    {
     "name": "stderr",
     "output_type": "stream",
     "text": [
      "/Users/anton/dev/MARS/correctness-model-internals/venv/lib/python3.11/site-packages/sklearn/linear_model/_logistic.py:469: ConvergenceWarning: lbfgs failed to converge (status=1):\n",
      "STOP: TOTAL NO. OF ITERATIONS REACHED LIMIT.\n",
      "\n",
      "Increase the number of iterations (max_iter) or scale the data as shown in:\n",
      "    https://scikit-learn.org/stable/modules/preprocessing.html\n",
      "Please also refer to the documentation for alternative solver options:\n",
      "    https://scikit-learn.org/stable/modules/linear_model.html#logistic-regression\n",
      "  n_iter_i = _check_optimize_result(\n",
      "/Users/anton/dev/MARS/correctness-model-internals/venv/lib/python3.11/site-packages/sklearn/linear_model/_logistic.py:469: ConvergenceWarning: lbfgs failed to converge (status=1):\n",
      "STOP: TOTAL NO. OF ITERATIONS REACHED LIMIT.\n",
      "\n",
      "Increase the number of iterations (max_iter) or scale the data as shown in:\n",
      "    https://scikit-learn.org/stable/modules/preprocessing.html\n",
      "Please also refer to the documentation for alternative solver options:\n",
      "    https://scikit-learn.org/stable/modules/linear_model.html#logistic-regression\n",
      "  n_iter_i = _check_optimize_result(\n",
      "/Users/anton/dev/MARS/correctness-model-internals/venv/lib/python3.11/site-packages/sklearn/linear_model/_logistic.py:469: ConvergenceWarning: lbfgs failed to converge (status=1):\n",
      "STOP: TOTAL NO. OF ITERATIONS REACHED LIMIT.\n",
      "\n",
      "Increase the number of iterations (max_iter) or scale the data as shown in:\n",
      "    https://scikit-learn.org/stable/modules/preprocessing.html\n",
      "Please also refer to the documentation for alternative solver options:\n",
      "    https://scikit-learn.org/stable/modules/linear_model.html#logistic-regression\n",
      "  n_iter_i = _check_optimize_result(\n",
      "/Users/anton/dev/MARS/correctness-model-internals/venv/lib/python3.11/site-packages/sklearn/linear_model/_logistic.py:469: ConvergenceWarning: lbfgs failed to converge (status=1):\n",
      "STOP: TOTAL NO. OF ITERATIONS REACHED LIMIT.\n",
      "\n",
      "Increase the number of iterations (max_iter) or scale the data as shown in:\n",
      "    https://scikit-learn.org/stable/modules/preprocessing.html\n",
      "Please also refer to the documentation for alternative solver options:\n",
      "    https://scikit-learn.org/stable/modules/linear_model.html#logistic-regression\n",
      "  n_iter_i = _check_optimize_result(\n",
      "/Users/anton/dev/MARS/correctness-model-internals/venv/lib/python3.11/site-packages/sklearn/linear_model/_logistic.py:469: ConvergenceWarning: lbfgs failed to converge (status=1):\n",
      "STOP: TOTAL NO. OF ITERATIONS REACHED LIMIT.\n",
      "\n",
      "Increase the number of iterations (max_iter) or scale the data as shown in:\n",
      "    https://scikit-learn.org/stable/modules/preprocessing.html\n",
      "Please also refer to the documentation for alternative solver options:\n",
      "    https://scikit-learn.org/stable/modules/linear_model.html#logistic-regression\n",
      "  n_iter_i = _check_optimize_result(\n"
     ]
    },
    {
     "name": "stdout",
     "output_type": "stream",
     "text": [
      "layer=4, "
     ]
    },
    {
     "name": "stderr",
     "output_type": "stream",
     "text": [
      "/Users/anton/dev/MARS/correctness-model-internals/venv/lib/python3.11/site-packages/sklearn/linear_model/_logistic.py:469: ConvergenceWarning: lbfgs failed to converge (status=1):\n",
      "STOP: TOTAL NO. OF ITERATIONS REACHED LIMIT.\n",
      "\n",
      "Increase the number of iterations (max_iter) or scale the data as shown in:\n",
      "    https://scikit-learn.org/stable/modules/preprocessing.html\n",
      "Please also refer to the documentation for alternative solver options:\n",
      "    https://scikit-learn.org/stable/modules/linear_model.html#logistic-regression\n",
      "  n_iter_i = _check_optimize_result(\n",
      "/Users/anton/dev/MARS/correctness-model-internals/venv/lib/python3.11/site-packages/sklearn/linear_model/_logistic.py:469: ConvergenceWarning: lbfgs failed to converge (status=1):\n",
      "STOP: TOTAL NO. OF ITERATIONS REACHED LIMIT.\n",
      "\n",
      "Increase the number of iterations (max_iter) or scale the data as shown in:\n",
      "    https://scikit-learn.org/stable/modules/preprocessing.html\n",
      "Please also refer to the documentation for alternative solver options:\n",
      "    https://scikit-learn.org/stable/modules/linear_model.html#logistic-regression\n",
      "  n_iter_i = _check_optimize_result(\n",
      "/Users/anton/dev/MARS/correctness-model-internals/venv/lib/python3.11/site-packages/sklearn/linear_model/_logistic.py:469: ConvergenceWarning: lbfgs failed to converge (status=1):\n",
      "STOP: TOTAL NO. OF ITERATIONS REACHED LIMIT.\n",
      "\n",
      "Increase the number of iterations (max_iter) or scale the data as shown in:\n",
      "    https://scikit-learn.org/stable/modules/preprocessing.html\n",
      "Please also refer to the documentation for alternative solver options:\n",
      "    https://scikit-learn.org/stable/modules/linear_model.html#logistic-regression\n",
      "  n_iter_i = _check_optimize_result(\n",
      "/Users/anton/dev/MARS/correctness-model-internals/venv/lib/python3.11/site-packages/sklearn/linear_model/_logistic.py:469: ConvergenceWarning: lbfgs failed to converge (status=1):\n",
      "STOP: TOTAL NO. OF ITERATIONS REACHED LIMIT.\n",
      "\n",
      "Increase the number of iterations (max_iter) or scale the data as shown in:\n",
      "    https://scikit-learn.org/stable/modules/preprocessing.html\n",
      "Please also refer to the documentation for alternative solver options:\n",
      "    https://scikit-learn.org/stable/modules/linear_model.html#logistic-regression\n",
      "  n_iter_i = _check_optimize_result(\n",
      "/Users/anton/dev/MARS/correctness-model-internals/venv/lib/python3.11/site-packages/sklearn/linear_model/_logistic.py:469: ConvergenceWarning: lbfgs failed to converge (status=1):\n",
      "STOP: TOTAL NO. OF ITERATIONS REACHED LIMIT.\n",
      "\n",
      "Increase the number of iterations (max_iter) or scale the data as shown in:\n",
      "    https://scikit-learn.org/stable/modules/preprocessing.html\n",
      "Please also refer to the documentation for alternative solver options:\n",
      "    https://scikit-learn.org/stable/modules/linear_model.html#logistic-regression\n",
      "  n_iter_i = _check_optimize_result(\n"
     ]
    },
    {
     "name": "stdout",
     "output_type": "stream",
     "text": [
      "layer=5, "
     ]
    },
    {
     "name": "stderr",
     "output_type": "stream",
     "text": [
      "/Users/anton/dev/MARS/correctness-model-internals/venv/lib/python3.11/site-packages/sklearn/linear_model/_logistic.py:469: ConvergenceWarning: lbfgs failed to converge (status=1):\n",
      "STOP: TOTAL NO. OF ITERATIONS REACHED LIMIT.\n",
      "\n",
      "Increase the number of iterations (max_iter) or scale the data as shown in:\n",
      "    https://scikit-learn.org/stable/modules/preprocessing.html\n",
      "Please also refer to the documentation for alternative solver options:\n",
      "    https://scikit-learn.org/stable/modules/linear_model.html#logistic-regression\n",
      "  n_iter_i = _check_optimize_result(\n",
      "/Users/anton/dev/MARS/correctness-model-internals/venv/lib/python3.11/site-packages/sklearn/linear_model/_logistic.py:469: ConvergenceWarning: lbfgs failed to converge (status=1):\n",
      "STOP: TOTAL NO. OF ITERATIONS REACHED LIMIT.\n",
      "\n",
      "Increase the number of iterations (max_iter) or scale the data as shown in:\n",
      "    https://scikit-learn.org/stable/modules/preprocessing.html\n",
      "Please also refer to the documentation for alternative solver options:\n",
      "    https://scikit-learn.org/stable/modules/linear_model.html#logistic-regression\n",
      "  n_iter_i = _check_optimize_result(\n",
      "/Users/anton/dev/MARS/correctness-model-internals/venv/lib/python3.11/site-packages/sklearn/linear_model/_logistic.py:469: ConvergenceWarning: lbfgs failed to converge (status=1):\n",
      "STOP: TOTAL NO. OF ITERATIONS REACHED LIMIT.\n",
      "\n",
      "Increase the number of iterations (max_iter) or scale the data as shown in:\n",
      "    https://scikit-learn.org/stable/modules/preprocessing.html\n",
      "Please also refer to the documentation for alternative solver options:\n",
      "    https://scikit-learn.org/stable/modules/linear_model.html#logistic-regression\n",
      "  n_iter_i = _check_optimize_result(\n",
      "/Users/anton/dev/MARS/correctness-model-internals/venv/lib/python3.11/site-packages/sklearn/linear_model/_logistic.py:469: ConvergenceWarning: lbfgs failed to converge (status=1):\n",
      "STOP: TOTAL NO. OF ITERATIONS REACHED LIMIT.\n",
      "\n",
      "Increase the number of iterations (max_iter) or scale the data as shown in:\n",
      "    https://scikit-learn.org/stable/modules/preprocessing.html\n",
      "Please also refer to the documentation for alternative solver options:\n",
      "    https://scikit-learn.org/stable/modules/linear_model.html#logistic-regression\n",
      "  n_iter_i = _check_optimize_result(\n",
      "/Users/anton/dev/MARS/correctness-model-internals/venv/lib/python3.11/site-packages/sklearn/linear_model/_logistic.py:469: ConvergenceWarning: lbfgs failed to converge (status=1):\n",
      "STOP: TOTAL NO. OF ITERATIONS REACHED LIMIT.\n",
      "\n",
      "Increase the number of iterations (max_iter) or scale the data as shown in:\n",
      "    https://scikit-learn.org/stable/modules/preprocessing.html\n",
      "Please also refer to the documentation for alternative solver options:\n",
      "    https://scikit-learn.org/stable/modules/linear_model.html#logistic-regression\n",
      "  n_iter_i = _check_optimize_result(\n"
     ]
    },
    {
     "name": "stdout",
     "output_type": "stream",
     "text": [
      "layer=6, "
     ]
    },
    {
     "name": "stderr",
     "output_type": "stream",
     "text": [
      "/Users/anton/dev/MARS/correctness-model-internals/venv/lib/python3.11/site-packages/sklearn/linear_model/_logistic.py:469: ConvergenceWarning: lbfgs failed to converge (status=1):\n",
      "STOP: TOTAL NO. OF ITERATIONS REACHED LIMIT.\n",
      "\n",
      "Increase the number of iterations (max_iter) or scale the data as shown in:\n",
      "    https://scikit-learn.org/stable/modules/preprocessing.html\n",
      "Please also refer to the documentation for alternative solver options:\n",
      "    https://scikit-learn.org/stable/modules/linear_model.html#logistic-regression\n",
      "  n_iter_i = _check_optimize_result(\n",
      "/Users/anton/dev/MARS/correctness-model-internals/venv/lib/python3.11/site-packages/sklearn/linear_model/_logistic.py:469: ConvergenceWarning: lbfgs failed to converge (status=1):\n",
      "STOP: TOTAL NO. OF ITERATIONS REACHED LIMIT.\n",
      "\n",
      "Increase the number of iterations (max_iter) or scale the data as shown in:\n",
      "    https://scikit-learn.org/stable/modules/preprocessing.html\n",
      "Please also refer to the documentation for alternative solver options:\n",
      "    https://scikit-learn.org/stable/modules/linear_model.html#logistic-regression\n",
      "  n_iter_i = _check_optimize_result(\n",
      "/Users/anton/dev/MARS/correctness-model-internals/venv/lib/python3.11/site-packages/sklearn/linear_model/_logistic.py:469: ConvergenceWarning: lbfgs failed to converge (status=1):\n",
      "STOP: TOTAL NO. OF ITERATIONS REACHED LIMIT.\n",
      "\n",
      "Increase the number of iterations (max_iter) or scale the data as shown in:\n",
      "    https://scikit-learn.org/stable/modules/preprocessing.html\n",
      "Please also refer to the documentation for alternative solver options:\n",
      "    https://scikit-learn.org/stable/modules/linear_model.html#logistic-regression\n",
      "  n_iter_i = _check_optimize_result(\n",
      "/Users/anton/dev/MARS/correctness-model-internals/venv/lib/python3.11/site-packages/sklearn/linear_model/_logistic.py:469: ConvergenceWarning: lbfgs failed to converge (status=1):\n",
      "STOP: TOTAL NO. OF ITERATIONS REACHED LIMIT.\n",
      "\n",
      "Increase the number of iterations (max_iter) or scale the data as shown in:\n",
      "    https://scikit-learn.org/stable/modules/preprocessing.html\n",
      "Please also refer to the documentation for alternative solver options:\n",
      "    https://scikit-learn.org/stable/modules/linear_model.html#logistic-regression\n",
      "  n_iter_i = _check_optimize_result(\n",
      "/Users/anton/dev/MARS/correctness-model-internals/venv/lib/python3.11/site-packages/sklearn/linear_model/_logistic.py:469: ConvergenceWarning: lbfgs failed to converge (status=1):\n",
      "STOP: TOTAL NO. OF ITERATIONS REACHED LIMIT.\n",
      "\n",
      "Increase the number of iterations (max_iter) or scale the data as shown in:\n",
      "    https://scikit-learn.org/stable/modules/preprocessing.html\n",
      "Please also refer to the documentation for alternative solver options:\n",
      "    https://scikit-learn.org/stable/modules/linear_model.html#logistic-regression\n",
      "  n_iter_i = _check_optimize_result(\n"
     ]
    },
    {
     "name": "stdout",
     "output_type": "stream",
     "text": [
      "layer=7, "
     ]
    },
    {
     "name": "stderr",
     "output_type": "stream",
     "text": [
      "/Users/anton/dev/MARS/correctness-model-internals/venv/lib/python3.11/site-packages/sklearn/linear_model/_logistic.py:469: ConvergenceWarning: lbfgs failed to converge (status=1):\n",
      "STOP: TOTAL NO. OF ITERATIONS REACHED LIMIT.\n",
      "\n",
      "Increase the number of iterations (max_iter) or scale the data as shown in:\n",
      "    https://scikit-learn.org/stable/modules/preprocessing.html\n",
      "Please also refer to the documentation for alternative solver options:\n",
      "    https://scikit-learn.org/stable/modules/linear_model.html#logistic-regression\n",
      "  n_iter_i = _check_optimize_result(\n",
      "/Users/anton/dev/MARS/correctness-model-internals/venv/lib/python3.11/site-packages/sklearn/linear_model/_logistic.py:469: ConvergenceWarning: lbfgs failed to converge (status=1):\n",
      "STOP: TOTAL NO. OF ITERATIONS REACHED LIMIT.\n",
      "\n",
      "Increase the number of iterations (max_iter) or scale the data as shown in:\n",
      "    https://scikit-learn.org/stable/modules/preprocessing.html\n",
      "Please also refer to the documentation for alternative solver options:\n",
      "    https://scikit-learn.org/stable/modules/linear_model.html#logistic-regression\n",
      "  n_iter_i = _check_optimize_result(\n",
      "/Users/anton/dev/MARS/correctness-model-internals/venv/lib/python3.11/site-packages/sklearn/linear_model/_logistic.py:469: ConvergenceWarning: lbfgs failed to converge (status=1):\n",
      "STOP: TOTAL NO. OF ITERATIONS REACHED LIMIT.\n",
      "\n",
      "Increase the number of iterations (max_iter) or scale the data as shown in:\n",
      "    https://scikit-learn.org/stable/modules/preprocessing.html\n",
      "Please also refer to the documentation for alternative solver options:\n",
      "    https://scikit-learn.org/stable/modules/linear_model.html#logistic-regression\n",
      "  n_iter_i = _check_optimize_result(\n",
      "/Users/anton/dev/MARS/correctness-model-internals/venv/lib/python3.11/site-packages/sklearn/linear_model/_logistic.py:469: ConvergenceWarning: lbfgs failed to converge (status=1):\n",
      "STOP: TOTAL NO. OF ITERATIONS REACHED LIMIT.\n",
      "\n",
      "Increase the number of iterations (max_iter) or scale the data as shown in:\n",
      "    https://scikit-learn.org/stable/modules/preprocessing.html\n",
      "Please also refer to the documentation for alternative solver options:\n",
      "    https://scikit-learn.org/stable/modules/linear_model.html#logistic-regression\n",
      "  n_iter_i = _check_optimize_result(\n",
      "/Users/anton/dev/MARS/correctness-model-internals/venv/lib/python3.11/site-packages/sklearn/linear_model/_logistic.py:469: ConvergenceWarning: lbfgs failed to converge (status=1):\n",
      "STOP: TOTAL NO. OF ITERATIONS REACHED LIMIT.\n",
      "\n",
      "Increase the number of iterations (max_iter) or scale the data as shown in:\n",
      "    https://scikit-learn.org/stable/modules/preprocessing.html\n",
      "Please also refer to the documentation for alternative solver options:\n",
      "    https://scikit-learn.org/stable/modules/linear_model.html#logistic-regression\n",
      "  n_iter_i = _check_optimize_result(\n"
     ]
    },
    {
     "name": "stdout",
     "output_type": "stream",
     "text": [
      "layer=8, "
     ]
    },
    {
     "name": "stderr",
     "output_type": "stream",
     "text": [
      "/Users/anton/dev/MARS/correctness-model-internals/venv/lib/python3.11/site-packages/sklearn/linear_model/_logistic.py:469: ConvergenceWarning: lbfgs failed to converge (status=1):\n",
      "STOP: TOTAL NO. OF ITERATIONS REACHED LIMIT.\n",
      "\n",
      "Increase the number of iterations (max_iter) or scale the data as shown in:\n",
      "    https://scikit-learn.org/stable/modules/preprocessing.html\n",
      "Please also refer to the documentation for alternative solver options:\n",
      "    https://scikit-learn.org/stable/modules/linear_model.html#logistic-regression\n",
      "  n_iter_i = _check_optimize_result(\n",
      "/Users/anton/dev/MARS/correctness-model-internals/venv/lib/python3.11/site-packages/sklearn/linear_model/_logistic.py:469: ConvergenceWarning: lbfgs failed to converge (status=1):\n",
      "STOP: TOTAL NO. OF ITERATIONS REACHED LIMIT.\n",
      "\n",
      "Increase the number of iterations (max_iter) or scale the data as shown in:\n",
      "    https://scikit-learn.org/stable/modules/preprocessing.html\n",
      "Please also refer to the documentation for alternative solver options:\n",
      "    https://scikit-learn.org/stable/modules/linear_model.html#logistic-regression\n",
      "  n_iter_i = _check_optimize_result(\n",
      "/Users/anton/dev/MARS/correctness-model-internals/venv/lib/python3.11/site-packages/sklearn/linear_model/_logistic.py:469: ConvergenceWarning: lbfgs failed to converge (status=1):\n",
      "STOP: TOTAL NO. OF ITERATIONS REACHED LIMIT.\n",
      "\n",
      "Increase the number of iterations (max_iter) or scale the data as shown in:\n",
      "    https://scikit-learn.org/stable/modules/preprocessing.html\n",
      "Please also refer to the documentation for alternative solver options:\n",
      "    https://scikit-learn.org/stable/modules/linear_model.html#logistic-regression\n",
      "  n_iter_i = _check_optimize_result(\n",
      "/Users/anton/dev/MARS/correctness-model-internals/venv/lib/python3.11/site-packages/sklearn/linear_model/_logistic.py:469: ConvergenceWarning: lbfgs failed to converge (status=1):\n",
      "STOP: TOTAL NO. OF ITERATIONS REACHED LIMIT.\n",
      "\n",
      "Increase the number of iterations (max_iter) or scale the data as shown in:\n",
      "    https://scikit-learn.org/stable/modules/preprocessing.html\n",
      "Please also refer to the documentation for alternative solver options:\n",
      "    https://scikit-learn.org/stable/modules/linear_model.html#logistic-regression\n",
      "  n_iter_i = _check_optimize_result(\n",
      "/Users/anton/dev/MARS/correctness-model-internals/venv/lib/python3.11/site-packages/sklearn/linear_model/_logistic.py:469: ConvergenceWarning: lbfgs failed to converge (status=1):\n",
      "STOP: TOTAL NO. OF ITERATIONS REACHED LIMIT.\n",
      "\n",
      "Increase the number of iterations (max_iter) or scale the data as shown in:\n",
      "    https://scikit-learn.org/stable/modules/preprocessing.html\n",
      "Please also refer to the documentation for alternative solver options:\n",
      "    https://scikit-learn.org/stable/modules/linear_model.html#logistic-regression\n",
      "  n_iter_i = _check_optimize_result(\n"
     ]
    },
    {
     "name": "stdout",
     "output_type": "stream",
     "text": [
      "layer=9, "
     ]
    },
    {
     "name": "stderr",
     "output_type": "stream",
     "text": [
      "/Users/anton/dev/MARS/correctness-model-internals/venv/lib/python3.11/site-packages/sklearn/linear_model/_logistic.py:469: ConvergenceWarning: lbfgs failed to converge (status=1):\n",
      "STOP: TOTAL NO. OF ITERATIONS REACHED LIMIT.\n",
      "\n",
      "Increase the number of iterations (max_iter) or scale the data as shown in:\n",
      "    https://scikit-learn.org/stable/modules/preprocessing.html\n",
      "Please also refer to the documentation for alternative solver options:\n",
      "    https://scikit-learn.org/stable/modules/linear_model.html#logistic-regression\n",
      "  n_iter_i = _check_optimize_result(\n",
      "/Users/anton/dev/MARS/correctness-model-internals/venv/lib/python3.11/site-packages/sklearn/linear_model/_logistic.py:469: ConvergenceWarning: lbfgs failed to converge (status=1):\n",
      "STOP: TOTAL NO. OF ITERATIONS REACHED LIMIT.\n",
      "\n",
      "Increase the number of iterations (max_iter) or scale the data as shown in:\n",
      "    https://scikit-learn.org/stable/modules/preprocessing.html\n",
      "Please also refer to the documentation for alternative solver options:\n",
      "    https://scikit-learn.org/stable/modules/linear_model.html#logistic-regression\n",
      "  n_iter_i = _check_optimize_result(\n"
     ]
    },
    {
     "name": "stdout",
     "output_type": "stream",
     "text": [
      "layer=10, "
     ]
    },
    {
     "name": "stderr",
     "output_type": "stream",
     "text": [
      "/Users/anton/dev/MARS/correctness-model-internals/venv/lib/python3.11/site-packages/sklearn/linear_model/_logistic.py:469: ConvergenceWarning: lbfgs failed to converge (status=1):\n",
      "STOP: TOTAL NO. OF ITERATIONS REACHED LIMIT.\n",
      "\n",
      "Increase the number of iterations (max_iter) or scale the data as shown in:\n",
      "    https://scikit-learn.org/stable/modules/preprocessing.html\n",
      "Please also refer to the documentation for alternative solver options:\n",
      "    https://scikit-learn.org/stable/modules/linear_model.html#logistic-regression\n",
      "  n_iter_i = _check_optimize_result(\n",
      "/Users/anton/dev/MARS/correctness-model-internals/venv/lib/python3.11/site-packages/sklearn/linear_model/_logistic.py:469: ConvergenceWarning: lbfgs failed to converge (status=1):\n",
      "STOP: TOTAL NO. OF ITERATIONS REACHED LIMIT.\n",
      "\n",
      "Increase the number of iterations (max_iter) or scale the data as shown in:\n",
      "    https://scikit-learn.org/stable/modules/preprocessing.html\n",
      "Please also refer to the documentation for alternative solver options:\n",
      "    https://scikit-learn.org/stable/modules/linear_model.html#logistic-regression\n",
      "  n_iter_i = _check_optimize_result(\n",
      "/Users/anton/dev/MARS/correctness-model-internals/venv/lib/python3.11/site-packages/sklearn/linear_model/_logistic.py:469: ConvergenceWarning: lbfgs failed to converge (status=1):\n",
      "STOP: TOTAL NO. OF ITERATIONS REACHED LIMIT.\n",
      "\n",
      "Increase the number of iterations (max_iter) or scale the data as shown in:\n",
      "    https://scikit-learn.org/stable/modules/preprocessing.html\n",
      "Please also refer to the documentation for alternative solver options:\n",
      "    https://scikit-learn.org/stable/modules/linear_model.html#logistic-regression\n",
      "  n_iter_i = _check_optimize_result(\n",
      "/Users/anton/dev/MARS/correctness-model-internals/venv/lib/python3.11/site-packages/sklearn/linear_model/_logistic.py:469: ConvergenceWarning: lbfgs failed to converge (status=1):\n",
      "STOP: TOTAL NO. OF ITERATIONS REACHED LIMIT.\n",
      "\n",
      "Increase the number of iterations (max_iter) or scale the data as shown in:\n",
      "    https://scikit-learn.org/stable/modules/preprocessing.html\n",
      "Please also refer to the documentation for alternative solver options:\n",
      "    https://scikit-learn.org/stable/modules/linear_model.html#logistic-regression\n",
      "  n_iter_i = _check_optimize_result(\n",
      "/Users/anton/dev/MARS/correctness-model-internals/venv/lib/python3.11/site-packages/sklearn/linear_model/_logistic.py:469: ConvergenceWarning: lbfgs failed to converge (status=1):\n",
      "STOP: TOTAL NO. OF ITERATIONS REACHED LIMIT.\n",
      "\n",
      "Increase the number of iterations (max_iter) or scale the data as shown in:\n",
      "    https://scikit-learn.org/stable/modules/preprocessing.html\n",
      "Please also refer to the documentation for alternative solver options:\n",
      "    https://scikit-learn.org/stable/modules/linear_model.html#logistic-regression\n",
      "  n_iter_i = _check_optimize_result(\n"
     ]
    },
    {
     "name": "stdout",
     "output_type": "stream",
     "text": [
      "layer=11, "
     ]
    },
    {
     "name": "stderr",
     "output_type": "stream",
     "text": [
      "/Users/anton/dev/MARS/correctness-model-internals/venv/lib/python3.11/site-packages/sklearn/linear_model/_logistic.py:469: ConvergenceWarning: lbfgs failed to converge (status=1):\n",
      "STOP: TOTAL NO. OF ITERATIONS REACHED LIMIT.\n",
      "\n",
      "Increase the number of iterations (max_iter) or scale the data as shown in:\n",
      "    https://scikit-learn.org/stable/modules/preprocessing.html\n",
      "Please also refer to the documentation for alternative solver options:\n",
      "    https://scikit-learn.org/stable/modules/linear_model.html#logistic-regression\n",
      "  n_iter_i = _check_optimize_result(\n",
      "/Users/anton/dev/MARS/correctness-model-internals/venv/lib/python3.11/site-packages/sklearn/linear_model/_logistic.py:469: ConvergenceWarning: lbfgs failed to converge (status=1):\n",
      "STOP: TOTAL NO. OF ITERATIONS REACHED LIMIT.\n",
      "\n",
      "Increase the number of iterations (max_iter) or scale the data as shown in:\n",
      "    https://scikit-learn.org/stable/modules/preprocessing.html\n",
      "Please also refer to the documentation for alternative solver options:\n",
      "    https://scikit-learn.org/stable/modules/linear_model.html#logistic-regression\n",
      "  n_iter_i = _check_optimize_result(\n",
      "/Users/anton/dev/MARS/correctness-model-internals/venv/lib/python3.11/site-packages/sklearn/linear_model/_logistic.py:469: ConvergenceWarning: lbfgs failed to converge (status=1):\n",
      "STOP: TOTAL NO. OF ITERATIONS REACHED LIMIT.\n",
      "\n",
      "Increase the number of iterations (max_iter) or scale the data as shown in:\n",
      "    https://scikit-learn.org/stable/modules/preprocessing.html\n",
      "Please also refer to the documentation for alternative solver options:\n",
      "    https://scikit-learn.org/stable/modules/linear_model.html#logistic-regression\n",
      "  n_iter_i = _check_optimize_result(\n",
      "/Users/anton/dev/MARS/correctness-model-internals/venv/lib/python3.11/site-packages/sklearn/linear_model/_logistic.py:469: ConvergenceWarning: lbfgs failed to converge (status=1):\n",
      "STOP: TOTAL NO. OF ITERATIONS REACHED LIMIT.\n",
      "\n",
      "Increase the number of iterations (max_iter) or scale the data as shown in:\n",
      "    https://scikit-learn.org/stable/modules/preprocessing.html\n",
      "Please also refer to the documentation for alternative solver options:\n",
      "    https://scikit-learn.org/stable/modules/linear_model.html#logistic-regression\n",
      "  n_iter_i = _check_optimize_result(\n",
      "/Users/anton/dev/MARS/correctness-model-internals/venv/lib/python3.11/site-packages/sklearn/linear_model/_logistic.py:469: ConvergenceWarning: lbfgs failed to converge (status=1):\n",
      "STOP: TOTAL NO. OF ITERATIONS REACHED LIMIT.\n",
      "\n",
      "Increase the number of iterations (max_iter) or scale the data as shown in:\n",
      "    https://scikit-learn.org/stable/modules/preprocessing.html\n",
      "Please also refer to the documentation for alternative solver options:\n",
      "    https://scikit-learn.org/stable/modules/linear_model.html#logistic-regression\n",
      "  n_iter_i = _check_optimize_result(\n"
     ]
    },
    {
     "name": "stdout",
     "output_type": "stream",
     "text": [
      "layer=12, layer=13, layer=14, layer=15, layer=16, layer=17, "
     ]
    },
    {
     "name": "stderr",
     "output_type": "stream",
     "text": [
      "/Users/anton/dev/MARS/correctness-model-internals/venv/lib/python3.11/site-packages/sklearn/linear_model/_logistic.py:469: ConvergenceWarning: lbfgs failed to converge (status=1):\n",
      "STOP: TOTAL NO. OF ITERATIONS REACHED LIMIT.\n",
      "\n",
      "Increase the number of iterations (max_iter) or scale the data as shown in:\n",
      "    https://scikit-learn.org/stable/modules/preprocessing.html\n",
      "Please also refer to the documentation for alternative solver options:\n",
      "    https://scikit-learn.org/stable/modules/linear_model.html#logistic-regression\n",
      "  n_iter_i = _check_optimize_result(\n",
      "/Users/anton/dev/MARS/correctness-model-internals/venv/lib/python3.11/site-packages/sklearn/linear_model/_logistic.py:469: ConvergenceWarning: lbfgs failed to converge (status=1):\n",
      "STOP: TOTAL NO. OF ITERATIONS REACHED LIMIT.\n",
      "\n",
      "Increase the number of iterations (max_iter) or scale the data as shown in:\n",
      "    https://scikit-learn.org/stable/modules/preprocessing.html\n",
      "Please also refer to the documentation for alternative solver options:\n",
      "    https://scikit-learn.org/stable/modules/linear_model.html#logistic-regression\n",
      "  n_iter_i = _check_optimize_result(\n"
     ]
    },
    {
     "name": "stdout",
     "output_type": "stream",
     "text": [
      "layer=18, layer=19, layer=20, "
     ]
    },
    {
     "name": "stderr",
     "output_type": "stream",
     "text": [
      "/Users/anton/dev/MARS/correctness-model-internals/venv/lib/python3.11/site-packages/sklearn/linear_model/_logistic.py:469: ConvergenceWarning: lbfgs failed to converge (status=1):\n",
      "STOP: TOTAL NO. OF ITERATIONS REACHED LIMIT.\n",
      "\n",
      "Increase the number of iterations (max_iter) or scale the data as shown in:\n",
      "    https://scikit-learn.org/stable/modules/preprocessing.html\n",
      "Please also refer to the documentation for alternative solver options:\n",
      "    https://scikit-learn.org/stable/modules/linear_model.html#logistic-regression\n",
      "  n_iter_i = _check_optimize_result(\n"
     ]
    },
    {
     "name": "stdout",
     "output_type": "stream",
     "text": [
      "layer=21, "
     ]
    },
    {
     "name": "stderr",
     "output_type": "stream",
     "text": [
      "/Users/anton/dev/MARS/correctness-model-internals/venv/lib/python3.11/site-packages/sklearn/linear_model/_logistic.py:469: ConvergenceWarning: lbfgs failed to converge (status=1):\n",
      "STOP: TOTAL NO. OF ITERATIONS REACHED LIMIT.\n",
      "\n",
      "Increase the number of iterations (max_iter) or scale the data as shown in:\n",
      "    https://scikit-learn.org/stable/modules/preprocessing.html\n",
      "Please also refer to the documentation for alternative solver options:\n",
      "    https://scikit-learn.org/stable/modules/linear_model.html#logistic-regression\n",
      "  n_iter_i = _check_optimize_result(\n",
      "/Users/anton/dev/MARS/correctness-model-internals/venv/lib/python3.11/site-packages/sklearn/linear_model/_logistic.py:469: ConvergenceWarning: lbfgs failed to converge (status=1):\n",
      "STOP: TOTAL NO. OF ITERATIONS REACHED LIMIT.\n",
      "\n",
      "Increase the number of iterations (max_iter) or scale the data as shown in:\n",
      "    https://scikit-learn.org/stable/modules/preprocessing.html\n",
      "Please also refer to the documentation for alternative solver options:\n",
      "    https://scikit-learn.org/stable/modules/linear_model.html#logistic-regression\n",
      "  n_iter_i = _check_optimize_result(\n",
      "/Users/anton/dev/MARS/correctness-model-internals/venv/lib/python3.11/site-packages/sklearn/linear_model/_logistic.py:469: ConvergenceWarning: lbfgs failed to converge (status=1):\n",
      "STOP: TOTAL NO. OF ITERATIONS REACHED LIMIT.\n",
      "\n",
      "Increase the number of iterations (max_iter) or scale the data as shown in:\n",
      "    https://scikit-learn.org/stable/modules/preprocessing.html\n",
      "Please also refer to the documentation for alternative solver options:\n",
      "    https://scikit-learn.org/stable/modules/linear_model.html#logistic-regression\n",
      "  n_iter_i = _check_optimize_result(\n",
      "/Users/anton/dev/MARS/correctness-model-internals/venv/lib/python3.11/site-packages/sklearn/linear_model/_logistic.py:469: ConvergenceWarning: lbfgs failed to converge (status=1):\n",
      "STOP: TOTAL NO. OF ITERATIONS REACHED LIMIT.\n",
      "\n",
      "Increase the number of iterations (max_iter) or scale the data as shown in:\n",
      "    https://scikit-learn.org/stable/modules/preprocessing.html\n",
      "Please also refer to the documentation for alternative solver options:\n",
      "    https://scikit-learn.org/stable/modules/linear_model.html#logistic-regression\n",
      "  n_iter_i = _check_optimize_result(\n"
     ]
    },
    {
     "name": "stdout",
     "output_type": "stream",
     "text": [
      "layer=22, "
     ]
    },
    {
     "name": "stderr",
     "output_type": "stream",
     "text": [
      "/Users/anton/dev/MARS/correctness-model-internals/venv/lib/python3.11/site-packages/sklearn/linear_model/_logistic.py:469: ConvergenceWarning: lbfgs failed to converge (status=1):\n",
      "STOP: TOTAL NO. OF ITERATIONS REACHED LIMIT.\n",
      "\n",
      "Increase the number of iterations (max_iter) or scale the data as shown in:\n",
      "    https://scikit-learn.org/stable/modules/preprocessing.html\n",
      "Please also refer to the documentation for alternative solver options:\n",
      "    https://scikit-learn.org/stable/modules/linear_model.html#logistic-regression\n",
      "  n_iter_i = _check_optimize_result(\n",
      "/Users/anton/dev/MARS/correctness-model-internals/venv/lib/python3.11/site-packages/sklearn/linear_model/_logistic.py:469: ConvergenceWarning: lbfgs failed to converge (status=1):\n",
      "STOP: TOTAL NO. OF ITERATIONS REACHED LIMIT.\n",
      "\n",
      "Increase the number of iterations (max_iter) or scale the data as shown in:\n",
      "    https://scikit-learn.org/stable/modules/preprocessing.html\n",
      "Please also refer to the documentation for alternative solver options:\n",
      "    https://scikit-learn.org/stable/modules/linear_model.html#logistic-regression\n",
      "  n_iter_i = _check_optimize_result(\n",
      "/Users/anton/dev/MARS/correctness-model-internals/venv/lib/python3.11/site-packages/sklearn/linear_model/_logistic.py:469: ConvergenceWarning: lbfgs failed to converge (status=1):\n",
      "STOP: TOTAL NO. OF ITERATIONS REACHED LIMIT.\n",
      "\n",
      "Increase the number of iterations (max_iter) or scale the data as shown in:\n",
      "    https://scikit-learn.org/stable/modules/preprocessing.html\n",
      "Please also refer to the documentation for alternative solver options:\n",
      "    https://scikit-learn.org/stable/modules/linear_model.html#logistic-regression\n",
      "  n_iter_i = _check_optimize_result(\n",
      "/Users/anton/dev/MARS/correctness-model-internals/venv/lib/python3.11/site-packages/sklearn/linear_model/_logistic.py:469: ConvergenceWarning: lbfgs failed to converge (status=1):\n",
      "STOP: TOTAL NO. OF ITERATIONS REACHED LIMIT.\n",
      "\n",
      "Increase the number of iterations (max_iter) or scale the data as shown in:\n",
      "    https://scikit-learn.org/stable/modules/preprocessing.html\n",
      "Please also refer to the documentation for alternative solver options:\n",
      "    https://scikit-learn.org/stable/modules/linear_model.html#logistic-regression\n",
      "  n_iter_i = _check_optimize_result(\n"
     ]
    },
    {
     "name": "stdout",
     "output_type": "stream",
     "text": [
      "layer=23, "
     ]
    },
    {
     "name": "stderr",
     "output_type": "stream",
     "text": [
      "/Users/anton/dev/MARS/correctness-model-internals/venv/lib/python3.11/site-packages/sklearn/linear_model/_logistic.py:469: ConvergenceWarning: lbfgs failed to converge (status=1):\n",
      "STOP: TOTAL NO. OF ITERATIONS REACHED LIMIT.\n",
      "\n",
      "Increase the number of iterations (max_iter) or scale the data as shown in:\n",
      "    https://scikit-learn.org/stable/modules/preprocessing.html\n",
      "Please also refer to the documentation for alternative solver options:\n",
      "    https://scikit-learn.org/stable/modules/linear_model.html#logistic-regression\n",
      "  n_iter_i = _check_optimize_result(\n",
      "/Users/anton/dev/MARS/correctness-model-internals/venv/lib/python3.11/site-packages/sklearn/linear_model/_logistic.py:469: ConvergenceWarning: lbfgs failed to converge (status=1):\n",
      "STOP: TOTAL NO. OF ITERATIONS REACHED LIMIT.\n",
      "\n",
      "Increase the number of iterations (max_iter) or scale the data as shown in:\n",
      "    https://scikit-learn.org/stable/modules/preprocessing.html\n",
      "Please also refer to the documentation for alternative solver options:\n",
      "    https://scikit-learn.org/stable/modules/linear_model.html#logistic-regression\n",
      "  n_iter_i = _check_optimize_result(\n"
     ]
    },
    {
     "name": "stdout",
     "output_type": "stream",
     "text": [
      "layer=24, "
     ]
    },
    {
     "name": "stderr",
     "output_type": "stream",
     "text": [
      "/Users/anton/dev/MARS/correctness-model-internals/venv/lib/python3.11/site-packages/sklearn/linear_model/_logistic.py:469: ConvergenceWarning: lbfgs failed to converge (status=1):\n",
      "STOP: TOTAL NO. OF ITERATIONS REACHED LIMIT.\n",
      "\n",
      "Increase the number of iterations (max_iter) or scale the data as shown in:\n",
      "    https://scikit-learn.org/stable/modules/preprocessing.html\n",
      "Please also refer to the documentation for alternative solver options:\n",
      "    https://scikit-learn.org/stable/modules/linear_model.html#logistic-regression\n",
      "  n_iter_i = _check_optimize_result(\n",
      "/Users/anton/dev/MARS/correctness-model-internals/venv/lib/python3.11/site-packages/sklearn/linear_model/_logistic.py:469: ConvergenceWarning: lbfgs failed to converge (status=1):\n",
      "STOP: TOTAL NO. OF ITERATIONS REACHED LIMIT.\n",
      "\n",
      "Increase the number of iterations (max_iter) or scale the data as shown in:\n",
      "    https://scikit-learn.org/stable/modules/preprocessing.html\n",
      "Please also refer to the documentation for alternative solver options:\n",
      "    https://scikit-learn.org/stable/modules/linear_model.html#logistic-regression\n",
      "  n_iter_i = _check_optimize_result(\n",
      "/Users/anton/dev/MARS/correctness-model-internals/venv/lib/python3.11/site-packages/sklearn/linear_model/_logistic.py:469: ConvergenceWarning: lbfgs failed to converge (status=1):\n",
      "STOP: TOTAL NO. OF ITERATIONS REACHED LIMIT.\n",
      "\n",
      "Increase the number of iterations (max_iter) or scale the data as shown in:\n",
      "    https://scikit-learn.org/stable/modules/preprocessing.html\n",
      "Please also refer to the documentation for alternative solver options:\n",
      "    https://scikit-learn.org/stable/modules/linear_model.html#logistic-regression\n",
      "  n_iter_i = _check_optimize_result(\n",
      "/Users/anton/dev/MARS/correctness-model-internals/venv/lib/python3.11/site-packages/sklearn/linear_model/_logistic.py:469: ConvergenceWarning: lbfgs failed to converge (status=1):\n",
      "STOP: TOTAL NO. OF ITERATIONS REACHED LIMIT.\n",
      "\n",
      "Increase the number of iterations (max_iter) or scale the data as shown in:\n",
      "    https://scikit-learn.org/stable/modules/preprocessing.html\n",
      "Please also refer to the documentation for alternative solver options:\n",
      "    https://scikit-learn.org/stable/modules/linear_model.html#logistic-regression\n",
      "  n_iter_i = _check_optimize_result(\n"
     ]
    },
    {
     "name": "stdout",
     "output_type": "stream",
     "text": [
      "layer=25, "
     ]
    },
    {
     "name": "stderr",
     "output_type": "stream",
     "text": [
      "/Users/anton/dev/MARS/correctness-model-internals/venv/lib/python3.11/site-packages/sklearn/linear_model/_logistic.py:469: ConvergenceWarning: lbfgs failed to converge (status=1):\n",
      "STOP: TOTAL NO. OF ITERATIONS REACHED LIMIT.\n",
      "\n",
      "Increase the number of iterations (max_iter) or scale the data as shown in:\n",
      "    https://scikit-learn.org/stable/modules/preprocessing.html\n",
      "Please also refer to the documentation for alternative solver options:\n",
      "    https://scikit-learn.org/stable/modules/linear_model.html#logistic-regression\n",
      "  n_iter_i = _check_optimize_result(\n",
      "/Users/anton/dev/MARS/correctness-model-internals/venv/lib/python3.11/site-packages/sklearn/linear_model/_logistic.py:469: ConvergenceWarning: lbfgs failed to converge (status=1):\n",
      "STOP: TOTAL NO. OF ITERATIONS REACHED LIMIT.\n",
      "\n",
      "Increase the number of iterations (max_iter) or scale the data as shown in:\n",
      "    https://scikit-learn.org/stable/modules/preprocessing.html\n",
      "Please also refer to the documentation for alternative solver options:\n",
      "    https://scikit-learn.org/stable/modules/linear_model.html#logistic-regression\n",
      "  n_iter_i = _check_optimize_result(\n",
      "/Users/anton/dev/MARS/correctness-model-internals/venv/lib/python3.11/site-packages/sklearn/linear_model/_logistic.py:469: ConvergenceWarning: lbfgs failed to converge (status=1):\n",
      "STOP: TOTAL NO. OF ITERATIONS REACHED LIMIT.\n",
      "\n",
      "Increase the number of iterations (max_iter) or scale the data as shown in:\n",
      "    https://scikit-learn.org/stable/modules/preprocessing.html\n",
      "Please also refer to the documentation for alternative solver options:\n",
      "    https://scikit-learn.org/stable/modules/linear_model.html#logistic-regression\n",
      "  n_iter_i = _check_optimize_result(\n"
     ]
    },
    {
     "name": "stdout",
     "output_type": "stream",
     "text": [
      "layer=26, "
     ]
    },
    {
     "name": "stderr",
     "output_type": "stream",
     "text": [
      "/Users/anton/dev/MARS/correctness-model-internals/venv/lib/python3.11/site-packages/sklearn/linear_model/_logistic.py:469: ConvergenceWarning: lbfgs failed to converge (status=1):\n",
      "STOP: TOTAL NO. OF ITERATIONS REACHED LIMIT.\n",
      "\n",
      "Increase the number of iterations (max_iter) or scale the data as shown in:\n",
      "    https://scikit-learn.org/stable/modules/preprocessing.html\n",
      "Please also refer to the documentation for alternative solver options:\n",
      "    https://scikit-learn.org/stable/modules/linear_model.html#logistic-regression\n",
      "  n_iter_i = _check_optimize_result(\n",
      "/Users/anton/dev/MARS/correctness-model-internals/venv/lib/python3.11/site-packages/sklearn/linear_model/_logistic.py:469: ConvergenceWarning: lbfgs failed to converge (status=1):\n",
      "STOP: TOTAL NO. OF ITERATIONS REACHED LIMIT.\n",
      "\n",
      "Increase the number of iterations (max_iter) or scale the data as shown in:\n",
      "    https://scikit-learn.org/stable/modules/preprocessing.html\n",
      "Please also refer to the documentation for alternative solver options:\n",
      "    https://scikit-learn.org/stable/modules/linear_model.html#logistic-regression\n",
      "  n_iter_i = _check_optimize_result(\n",
      "/Users/anton/dev/MARS/correctness-model-internals/venv/lib/python3.11/site-packages/sklearn/linear_model/_logistic.py:469: ConvergenceWarning: lbfgs failed to converge (status=1):\n",
      "STOP: TOTAL NO. OF ITERATIONS REACHED LIMIT.\n",
      "\n",
      "Increase the number of iterations (max_iter) or scale the data as shown in:\n",
      "    https://scikit-learn.org/stable/modules/preprocessing.html\n",
      "Please also refer to the documentation for alternative solver options:\n",
      "    https://scikit-learn.org/stable/modules/linear_model.html#logistic-regression\n",
      "  n_iter_i = _check_optimize_result(\n",
      "/Users/anton/dev/MARS/correctness-model-internals/venv/lib/python3.11/site-packages/sklearn/linear_model/_logistic.py:469: ConvergenceWarning: lbfgs failed to converge (status=1):\n",
      "STOP: TOTAL NO. OF ITERATIONS REACHED LIMIT.\n",
      "\n",
      "Increase the number of iterations (max_iter) or scale the data as shown in:\n",
      "    https://scikit-learn.org/stable/modules/preprocessing.html\n",
      "Please also refer to the documentation for alternative solver options:\n",
      "    https://scikit-learn.org/stable/modules/linear_model.html#logistic-regression\n",
      "  n_iter_i = _check_optimize_result(\n",
      "/Users/anton/dev/MARS/correctness-model-internals/venv/lib/python3.11/site-packages/sklearn/linear_model/_logistic.py:469: ConvergenceWarning: lbfgs failed to converge (status=1):\n",
      "STOP: TOTAL NO. OF ITERATIONS REACHED LIMIT.\n",
      "\n",
      "Increase the number of iterations (max_iter) or scale the data as shown in:\n",
      "    https://scikit-learn.org/stable/modules/preprocessing.html\n",
      "Please also refer to the documentation for alternative solver options:\n",
      "    https://scikit-learn.org/stable/modules/linear_model.html#logistic-regression\n",
      "  n_iter_i = _check_optimize_result(\n"
     ]
    },
    {
     "name": "stdout",
     "output_type": "stream",
     "text": [
      "layer=27, "
     ]
    },
    {
     "name": "stderr",
     "output_type": "stream",
     "text": [
      "/Users/anton/dev/MARS/correctness-model-internals/venv/lib/python3.11/site-packages/sklearn/linear_model/_logistic.py:469: ConvergenceWarning: lbfgs failed to converge (status=1):\n",
      "STOP: TOTAL NO. OF ITERATIONS REACHED LIMIT.\n",
      "\n",
      "Increase the number of iterations (max_iter) or scale the data as shown in:\n",
      "    https://scikit-learn.org/stable/modules/preprocessing.html\n",
      "Please also refer to the documentation for alternative solver options:\n",
      "    https://scikit-learn.org/stable/modules/linear_model.html#logistic-regression\n",
      "  n_iter_i = _check_optimize_result(\n",
      "/Users/anton/dev/MARS/correctness-model-internals/venv/lib/python3.11/site-packages/sklearn/linear_model/_logistic.py:469: ConvergenceWarning: lbfgs failed to converge (status=1):\n",
      "STOP: TOTAL NO. OF ITERATIONS REACHED LIMIT.\n",
      "\n",
      "Increase the number of iterations (max_iter) or scale the data as shown in:\n",
      "    https://scikit-learn.org/stable/modules/preprocessing.html\n",
      "Please also refer to the documentation for alternative solver options:\n",
      "    https://scikit-learn.org/stable/modules/linear_model.html#logistic-regression\n",
      "  n_iter_i = _check_optimize_result(\n",
      "/Users/anton/dev/MARS/correctness-model-internals/venv/lib/python3.11/site-packages/sklearn/linear_model/_logistic.py:469: ConvergenceWarning: lbfgs failed to converge (status=1):\n",
      "STOP: TOTAL NO. OF ITERATIONS REACHED LIMIT.\n",
      "\n",
      "Increase the number of iterations (max_iter) or scale the data as shown in:\n",
      "    https://scikit-learn.org/stable/modules/preprocessing.html\n",
      "Please also refer to the documentation for alternative solver options:\n",
      "    https://scikit-learn.org/stable/modules/linear_model.html#logistic-regression\n",
      "  n_iter_i = _check_optimize_result(\n",
      "/Users/anton/dev/MARS/correctness-model-internals/venv/lib/python3.11/site-packages/sklearn/linear_model/_logistic.py:469: ConvergenceWarning: lbfgs failed to converge (status=1):\n",
      "STOP: TOTAL NO. OF ITERATIONS REACHED LIMIT.\n",
      "\n",
      "Increase the number of iterations (max_iter) or scale the data as shown in:\n",
      "    https://scikit-learn.org/stable/modules/preprocessing.html\n",
      "Please also refer to the documentation for alternative solver options:\n",
      "    https://scikit-learn.org/stable/modules/linear_model.html#logistic-regression\n",
      "  n_iter_i = _check_optimize_result(\n",
      "/Users/anton/dev/MARS/correctness-model-internals/venv/lib/python3.11/site-packages/sklearn/linear_model/_logistic.py:469: ConvergenceWarning: lbfgs failed to converge (status=1):\n",
      "STOP: TOTAL NO. OF ITERATIONS REACHED LIMIT.\n",
      "\n",
      "Increase the number of iterations (max_iter) or scale the data as shown in:\n",
      "    https://scikit-learn.org/stable/modules/preprocessing.html\n",
      "Please also refer to the documentation for alternative solver options:\n",
      "    https://scikit-learn.org/stable/modules/linear_model.html#logistic-regression\n",
      "  n_iter_i = _check_optimize_result(\n"
     ]
    },
    {
     "name": "stdout",
     "output_type": "stream",
     "text": [
      "layer=28, "
     ]
    },
    {
     "name": "stderr",
     "output_type": "stream",
     "text": [
      "/Users/anton/dev/MARS/correctness-model-internals/venv/lib/python3.11/site-packages/sklearn/linear_model/_logistic.py:469: ConvergenceWarning: lbfgs failed to converge (status=1):\n",
      "STOP: TOTAL NO. OF ITERATIONS REACHED LIMIT.\n",
      "\n",
      "Increase the number of iterations (max_iter) or scale the data as shown in:\n",
      "    https://scikit-learn.org/stable/modules/preprocessing.html\n",
      "Please also refer to the documentation for alternative solver options:\n",
      "    https://scikit-learn.org/stable/modules/linear_model.html#logistic-regression\n",
      "  n_iter_i = _check_optimize_result(\n",
      "/Users/anton/dev/MARS/correctness-model-internals/venv/lib/python3.11/site-packages/sklearn/linear_model/_logistic.py:469: ConvergenceWarning: lbfgs failed to converge (status=1):\n",
      "STOP: TOTAL NO. OF ITERATIONS REACHED LIMIT.\n",
      "\n",
      "Increase the number of iterations (max_iter) or scale the data as shown in:\n",
      "    https://scikit-learn.org/stable/modules/preprocessing.html\n",
      "Please also refer to the documentation for alternative solver options:\n",
      "    https://scikit-learn.org/stable/modules/linear_model.html#logistic-regression\n",
      "  n_iter_i = _check_optimize_result(\n",
      "/Users/anton/dev/MARS/correctness-model-internals/venv/lib/python3.11/site-packages/sklearn/linear_model/_logistic.py:469: ConvergenceWarning: lbfgs failed to converge (status=1):\n",
      "STOP: TOTAL NO. OF ITERATIONS REACHED LIMIT.\n",
      "\n",
      "Increase the number of iterations (max_iter) or scale the data as shown in:\n",
      "    https://scikit-learn.org/stable/modules/preprocessing.html\n",
      "Please also refer to the documentation for alternative solver options:\n",
      "    https://scikit-learn.org/stable/modules/linear_model.html#logistic-regression\n",
      "  n_iter_i = _check_optimize_result(\n",
      "/Users/anton/dev/MARS/correctness-model-internals/venv/lib/python3.11/site-packages/sklearn/linear_model/_logistic.py:469: ConvergenceWarning: lbfgs failed to converge (status=1):\n",
      "STOP: TOTAL NO. OF ITERATIONS REACHED LIMIT.\n",
      "\n",
      "Increase the number of iterations (max_iter) or scale the data as shown in:\n",
      "    https://scikit-learn.org/stable/modules/preprocessing.html\n",
      "Please also refer to the documentation for alternative solver options:\n",
      "    https://scikit-learn.org/stable/modules/linear_model.html#logistic-regression\n",
      "  n_iter_i = _check_optimize_result(\n"
     ]
    },
    {
     "name": "stdout",
     "output_type": "stream",
     "text": [
      "layer=29, "
     ]
    },
    {
     "name": "stderr",
     "output_type": "stream",
     "text": [
      "/Users/anton/dev/MARS/correctness-model-internals/venv/lib/python3.11/site-packages/sklearn/linear_model/_logistic.py:469: ConvergenceWarning: lbfgs failed to converge (status=1):\n",
      "STOP: TOTAL NO. OF ITERATIONS REACHED LIMIT.\n",
      "\n",
      "Increase the number of iterations (max_iter) or scale the data as shown in:\n",
      "    https://scikit-learn.org/stable/modules/preprocessing.html\n",
      "Please also refer to the documentation for alternative solver options:\n",
      "    https://scikit-learn.org/stable/modules/linear_model.html#logistic-regression\n",
      "  n_iter_i = _check_optimize_result(\n",
      "/Users/anton/dev/MARS/correctness-model-internals/venv/lib/python3.11/site-packages/sklearn/linear_model/_logistic.py:469: ConvergenceWarning: lbfgs failed to converge (status=1):\n",
      "STOP: TOTAL NO. OF ITERATIONS REACHED LIMIT.\n",
      "\n",
      "Increase the number of iterations (max_iter) or scale the data as shown in:\n",
      "    https://scikit-learn.org/stable/modules/preprocessing.html\n",
      "Please also refer to the documentation for alternative solver options:\n",
      "    https://scikit-learn.org/stable/modules/linear_model.html#logistic-regression\n",
      "  n_iter_i = _check_optimize_result(\n",
      "/Users/anton/dev/MARS/correctness-model-internals/venv/lib/python3.11/site-packages/sklearn/linear_model/_logistic.py:469: ConvergenceWarning: lbfgs failed to converge (status=1):\n",
      "STOP: TOTAL NO. OF ITERATIONS REACHED LIMIT.\n",
      "\n",
      "Increase the number of iterations (max_iter) or scale the data as shown in:\n",
      "    https://scikit-learn.org/stable/modules/preprocessing.html\n",
      "Please also refer to the documentation for alternative solver options:\n",
      "    https://scikit-learn.org/stable/modules/linear_model.html#logistic-regression\n",
      "  n_iter_i = _check_optimize_result(\n",
      "/Users/anton/dev/MARS/correctness-model-internals/venv/lib/python3.11/site-packages/sklearn/linear_model/_logistic.py:469: ConvergenceWarning: lbfgs failed to converge (status=1):\n",
      "STOP: TOTAL NO. OF ITERATIONS REACHED LIMIT.\n",
      "\n",
      "Increase the number of iterations (max_iter) or scale the data as shown in:\n",
      "    https://scikit-learn.org/stable/modules/preprocessing.html\n",
      "Please also refer to the documentation for alternative solver options:\n",
      "    https://scikit-learn.org/stable/modules/linear_model.html#logistic-regression\n",
      "  n_iter_i = _check_optimize_result(\n",
      "/Users/anton/dev/MARS/correctness-model-internals/venv/lib/python3.11/site-packages/sklearn/linear_model/_logistic.py:469: ConvergenceWarning: lbfgs failed to converge (status=1):\n",
      "STOP: TOTAL NO. OF ITERATIONS REACHED LIMIT.\n",
      "\n",
      "Increase the number of iterations (max_iter) or scale the data as shown in:\n",
      "    https://scikit-learn.org/stable/modules/preprocessing.html\n",
      "Please also refer to the documentation for alternative solver options:\n",
      "    https://scikit-learn.org/stable/modules/linear_model.html#logistic-regression\n",
      "  n_iter_i = _check_optimize_result(\n"
     ]
    },
    {
     "name": "stdout",
     "output_type": "stream",
     "text": [
      "layer=30, "
     ]
    },
    {
     "name": "stderr",
     "output_type": "stream",
     "text": [
      "/Users/anton/dev/MARS/correctness-model-internals/venv/lib/python3.11/site-packages/sklearn/linear_model/_logistic.py:469: ConvergenceWarning: lbfgs failed to converge (status=1):\n",
      "STOP: TOTAL NO. OF ITERATIONS REACHED LIMIT.\n",
      "\n",
      "Increase the number of iterations (max_iter) or scale the data as shown in:\n",
      "    https://scikit-learn.org/stable/modules/preprocessing.html\n",
      "Please also refer to the documentation for alternative solver options:\n",
      "    https://scikit-learn.org/stable/modules/linear_model.html#logistic-regression\n",
      "  n_iter_i = _check_optimize_result(\n",
      "/Users/anton/dev/MARS/correctness-model-internals/venv/lib/python3.11/site-packages/sklearn/linear_model/_logistic.py:469: ConvergenceWarning: lbfgs failed to converge (status=1):\n",
      "STOP: TOTAL NO. OF ITERATIONS REACHED LIMIT.\n",
      "\n",
      "Increase the number of iterations (max_iter) or scale the data as shown in:\n",
      "    https://scikit-learn.org/stable/modules/preprocessing.html\n",
      "Please also refer to the documentation for alternative solver options:\n",
      "    https://scikit-learn.org/stable/modules/linear_model.html#logistic-regression\n",
      "  n_iter_i = _check_optimize_result(\n",
      "/Users/anton/dev/MARS/correctness-model-internals/venv/lib/python3.11/site-packages/sklearn/linear_model/_logistic.py:469: ConvergenceWarning: lbfgs failed to converge (status=1):\n",
      "STOP: TOTAL NO. OF ITERATIONS REACHED LIMIT.\n",
      "\n",
      "Increase the number of iterations (max_iter) or scale the data as shown in:\n",
      "    https://scikit-learn.org/stable/modules/preprocessing.html\n",
      "Please also refer to the documentation for alternative solver options:\n",
      "    https://scikit-learn.org/stable/modules/linear_model.html#logistic-regression\n",
      "  n_iter_i = _check_optimize_result(\n",
      "/Users/anton/dev/MARS/correctness-model-internals/venv/lib/python3.11/site-packages/sklearn/linear_model/_logistic.py:469: ConvergenceWarning: lbfgs failed to converge (status=1):\n",
      "STOP: TOTAL NO. OF ITERATIONS REACHED LIMIT.\n",
      "\n",
      "Increase the number of iterations (max_iter) or scale the data as shown in:\n",
      "    https://scikit-learn.org/stable/modules/preprocessing.html\n",
      "Please also refer to the documentation for alternative solver options:\n",
      "    https://scikit-learn.org/stable/modules/linear_model.html#logistic-regression\n",
      "  n_iter_i = _check_optimize_result(\n",
      "/Users/anton/dev/MARS/correctness-model-internals/venv/lib/python3.11/site-packages/sklearn/linear_model/_logistic.py:469: ConvergenceWarning: lbfgs failed to converge (status=1):\n",
      "STOP: TOTAL NO. OF ITERATIONS REACHED LIMIT.\n",
      "\n",
      "Increase the number of iterations (max_iter) or scale the data as shown in:\n",
      "    https://scikit-learn.org/stable/modules/preprocessing.html\n",
      "Please also refer to the documentation for alternative solver options:\n",
      "    https://scikit-learn.org/stable/modules/linear_model.html#logistic-regression\n",
      "  n_iter_i = _check_optimize_result(\n"
     ]
    },
    {
     "name": "stdout",
     "output_type": "stream",
     "text": [
      "layer=31, "
     ]
    },
    {
     "name": "stderr",
     "output_type": "stream",
     "text": [
      "/Users/anton/dev/MARS/correctness-model-internals/venv/lib/python3.11/site-packages/sklearn/linear_model/_logistic.py:469: ConvergenceWarning: lbfgs failed to converge (status=1):\n",
      "STOP: TOTAL NO. OF ITERATIONS REACHED LIMIT.\n",
      "\n",
      "Increase the number of iterations (max_iter) or scale the data as shown in:\n",
      "    https://scikit-learn.org/stable/modules/preprocessing.html\n",
      "Please also refer to the documentation for alternative solver options:\n",
      "    https://scikit-learn.org/stable/modules/linear_model.html#logistic-regression\n",
      "  n_iter_i = _check_optimize_result(\n",
      "/Users/anton/dev/MARS/correctness-model-internals/venv/lib/python3.11/site-packages/sklearn/linear_model/_logistic.py:469: ConvergenceWarning: lbfgs failed to converge (status=1):\n",
      "STOP: TOTAL NO. OF ITERATIONS REACHED LIMIT.\n",
      "\n",
      "Increase the number of iterations (max_iter) or scale the data as shown in:\n",
      "    https://scikit-learn.org/stable/modules/preprocessing.html\n",
      "Please also refer to the documentation for alternative solver options:\n",
      "    https://scikit-learn.org/stable/modules/linear_model.html#logistic-regression\n",
      "  n_iter_i = _check_optimize_result(\n",
      "/Users/anton/dev/MARS/correctness-model-internals/venv/lib/python3.11/site-packages/sklearn/linear_model/_logistic.py:469: ConvergenceWarning: lbfgs failed to converge (status=1):\n",
      "STOP: TOTAL NO. OF ITERATIONS REACHED LIMIT.\n",
      "\n",
      "Increase the number of iterations (max_iter) or scale the data as shown in:\n",
      "    https://scikit-learn.org/stable/modules/preprocessing.html\n",
      "Please also refer to the documentation for alternative solver options:\n",
      "    https://scikit-learn.org/stable/modules/linear_model.html#logistic-regression\n",
      "  n_iter_i = _check_optimize_result(\n",
      "/Users/anton/dev/MARS/correctness-model-internals/venv/lib/python3.11/site-packages/sklearn/linear_model/_logistic.py:469: ConvergenceWarning: lbfgs failed to converge (status=1):\n",
      "STOP: TOTAL NO. OF ITERATIONS REACHED LIMIT.\n",
      "\n",
      "Increase the number of iterations (max_iter) or scale the data as shown in:\n",
      "    https://scikit-learn.org/stable/modules/preprocessing.html\n",
      "Please also refer to the documentation for alternative solver options:\n",
      "    https://scikit-learn.org/stable/modules/linear_model.html#logistic-regression\n",
      "  n_iter_i = _check_optimize_result(\n",
      "/Users/anton/dev/MARS/correctness-model-internals/venv/lib/python3.11/site-packages/sklearn/linear_model/_logistic.py:469: ConvergenceWarning: lbfgs failed to converge (status=1):\n",
      "STOP: TOTAL NO. OF ITERATIONS REACHED LIMIT.\n",
      "\n",
      "Increase the number of iterations (max_iter) or scale the data as shown in:\n",
      "    https://scikit-learn.org/stable/modules/preprocessing.html\n",
      "Please also refer to the documentation for alternative solver options:\n",
      "    https://scikit-learn.org/stable/modules/linear_model.html#logistic-regression\n",
      "  n_iter_i = _check_optimize_result(\n"
     ]
    },
    {
     "name": "stdout",
     "output_type": "stream",
     "text": [
      "\n",
      "model_id='llama3.1_8b_chat', dataset_id='medals_9k', prompt_id='base', subset_id='main', input_type='prompt_only'\n",
      "layer=0, "
     ]
    },
    {
     "name": "stderr",
     "output_type": "stream",
     "text": [
      "/Users/anton/dev/MARS/correctness-model-internals/venv/lib/python3.11/site-packages/sklearn/linear_model/_logistic.py:469: ConvergenceWarning: lbfgs failed to converge (status=1):\n",
      "STOP: TOTAL NO. OF ITERATIONS REACHED LIMIT.\n",
      "\n",
      "Increase the number of iterations (max_iter) or scale the data as shown in:\n",
      "    https://scikit-learn.org/stable/modules/preprocessing.html\n",
      "Please also refer to the documentation for alternative solver options:\n",
      "    https://scikit-learn.org/stable/modules/linear_model.html#logistic-regression\n",
      "  n_iter_i = _check_optimize_result(\n",
      "/Users/anton/dev/MARS/correctness-model-internals/venv/lib/python3.11/site-packages/sklearn/linear_model/_logistic.py:469: ConvergenceWarning: lbfgs failed to converge (status=1):\n",
      "STOP: TOTAL NO. OF ITERATIONS REACHED LIMIT.\n",
      "\n",
      "Increase the number of iterations (max_iter) or scale the data as shown in:\n",
      "    https://scikit-learn.org/stable/modules/preprocessing.html\n",
      "Please also refer to the documentation for alternative solver options:\n",
      "    https://scikit-learn.org/stable/modules/linear_model.html#logistic-regression\n",
      "  n_iter_i = _check_optimize_result(\n",
      "/Users/anton/dev/MARS/correctness-model-internals/venv/lib/python3.11/site-packages/sklearn/linear_model/_logistic.py:469: ConvergenceWarning: lbfgs failed to converge (status=1):\n",
      "STOP: TOTAL NO. OF ITERATIONS REACHED LIMIT.\n",
      "\n",
      "Increase the number of iterations (max_iter) or scale the data as shown in:\n",
      "    https://scikit-learn.org/stable/modules/preprocessing.html\n",
      "Please also refer to the documentation for alternative solver options:\n",
      "    https://scikit-learn.org/stable/modules/linear_model.html#logistic-regression\n",
      "  n_iter_i = _check_optimize_result(\n",
      "/Users/anton/dev/MARS/correctness-model-internals/venv/lib/python3.11/site-packages/sklearn/linear_model/_logistic.py:469: ConvergenceWarning: lbfgs failed to converge (status=1):\n",
      "STOP: TOTAL NO. OF ITERATIONS REACHED LIMIT.\n",
      "\n",
      "Increase the number of iterations (max_iter) or scale the data as shown in:\n",
      "    https://scikit-learn.org/stable/modules/preprocessing.html\n",
      "Please also refer to the documentation for alternative solver options:\n",
      "    https://scikit-learn.org/stable/modules/linear_model.html#logistic-regression\n",
      "  n_iter_i = _check_optimize_result(\n",
      "/Users/anton/dev/MARS/correctness-model-internals/venv/lib/python3.11/site-packages/sklearn/linear_model/_logistic.py:469: ConvergenceWarning: lbfgs failed to converge (status=1):\n",
      "STOP: TOTAL NO. OF ITERATIONS REACHED LIMIT.\n",
      "\n",
      "Increase the number of iterations (max_iter) or scale the data as shown in:\n",
      "    https://scikit-learn.org/stable/modules/preprocessing.html\n",
      "Please also refer to the documentation for alternative solver options:\n",
      "    https://scikit-learn.org/stable/modules/linear_model.html#logistic-regression\n",
      "  n_iter_i = _check_optimize_result(\n"
     ]
    },
    {
     "name": "stdout",
     "output_type": "stream",
     "text": [
      "layer=1, "
     ]
    },
    {
     "name": "stderr",
     "output_type": "stream",
     "text": [
      "/Users/anton/dev/MARS/correctness-model-internals/venv/lib/python3.11/site-packages/sklearn/linear_model/_logistic.py:469: ConvergenceWarning: lbfgs failed to converge (status=1):\n",
      "STOP: TOTAL NO. OF ITERATIONS REACHED LIMIT.\n",
      "\n",
      "Increase the number of iterations (max_iter) or scale the data as shown in:\n",
      "    https://scikit-learn.org/stable/modules/preprocessing.html\n",
      "Please also refer to the documentation for alternative solver options:\n",
      "    https://scikit-learn.org/stable/modules/linear_model.html#logistic-regression\n",
      "  n_iter_i = _check_optimize_result(\n",
      "/Users/anton/dev/MARS/correctness-model-internals/venv/lib/python3.11/site-packages/sklearn/linear_model/_logistic.py:469: ConvergenceWarning: lbfgs failed to converge (status=1):\n",
      "STOP: TOTAL NO. OF ITERATIONS REACHED LIMIT.\n",
      "\n",
      "Increase the number of iterations (max_iter) or scale the data as shown in:\n",
      "    https://scikit-learn.org/stable/modules/preprocessing.html\n",
      "Please also refer to the documentation for alternative solver options:\n",
      "    https://scikit-learn.org/stable/modules/linear_model.html#logistic-regression\n",
      "  n_iter_i = _check_optimize_result(\n",
      "/Users/anton/dev/MARS/correctness-model-internals/venv/lib/python3.11/site-packages/sklearn/linear_model/_logistic.py:469: ConvergenceWarning: lbfgs failed to converge (status=1):\n",
      "STOP: TOTAL NO. OF ITERATIONS REACHED LIMIT.\n",
      "\n",
      "Increase the number of iterations (max_iter) or scale the data as shown in:\n",
      "    https://scikit-learn.org/stable/modules/preprocessing.html\n",
      "Please also refer to the documentation for alternative solver options:\n",
      "    https://scikit-learn.org/stable/modules/linear_model.html#logistic-regression\n",
      "  n_iter_i = _check_optimize_result(\n",
      "/Users/anton/dev/MARS/correctness-model-internals/venv/lib/python3.11/site-packages/sklearn/linear_model/_logistic.py:469: ConvergenceWarning: lbfgs failed to converge (status=1):\n",
      "STOP: TOTAL NO. OF ITERATIONS REACHED LIMIT.\n",
      "\n",
      "Increase the number of iterations (max_iter) or scale the data as shown in:\n",
      "    https://scikit-learn.org/stable/modules/preprocessing.html\n",
      "Please also refer to the documentation for alternative solver options:\n",
      "    https://scikit-learn.org/stable/modules/linear_model.html#logistic-regression\n",
      "  n_iter_i = _check_optimize_result(\n",
      "/Users/anton/dev/MARS/correctness-model-internals/venv/lib/python3.11/site-packages/sklearn/linear_model/_logistic.py:469: ConvergenceWarning: lbfgs failed to converge (status=1):\n",
      "STOP: TOTAL NO. OF ITERATIONS REACHED LIMIT.\n",
      "\n",
      "Increase the number of iterations (max_iter) or scale the data as shown in:\n",
      "    https://scikit-learn.org/stable/modules/preprocessing.html\n",
      "Please also refer to the documentation for alternative solver options:\n",
      "    https://scikit-learn.org/stable/modules/linear_model.html#logistic-regression\n",
      "  n_iter_i = _check_optimize_result(\n"
     ]
    },
    {
     "name": "stdout",
     "output_type": "stream",
     "text": [
      "layer=2, "
     ]
    },
    {
     "name": "stderr",
     "output_type": "stream",
     "text": [
      "/Users/anton/dev/MARS/correctness-model-internals/venv/lib/python3.11/site-packages/sklearn/linear_model/_logistic.py:469: ConvergenceWarning: lbfgs failed to converge (status=1):\n",
      "STOP: TOTAL NO. OF ITERATIONS REACHED LIMIT.\n",
      "\n",
      "Increase the number of iterations (max_iter) or scale the data as shown in:\n",
      "    https://scikit-learn.org/stable/modules/preprocessing.html\n",
      "Please also refer to the documentation for alternative solver options:\n",
      "    https://scikit-learn.org/stable/modules/linear_model.html#logistic-regression\n",
      "  n_iter_i = _check_optimize_result(\n",
      "/Users/anton/dev/MARS/correctness-model-internals/venv/lib/python3.11/site-packages/sklearn/linear_model/_logistic.py:469: ConvergenceWarning: lbfgs failed to converge (status=1):\n",
      "STOP: TOTAL NO. OF ITERATIONS REACHED LIMIT.\n",
      "\n",
      "Increase the number of iterations (max_iter) or scale the data as shown in:\n",
      "    https://scikit-learn.org/stable/modules/preprocessing.html\n",
      "Please also refer to the documentation for alternative solver options:\n",
      "    https://scikit-learn.org/stable/modules/linear_model.html#logistic-regression\n",
      "  n_iter_i = _check_optimize_result(\n",
      "/Users/anton/dev/MARS/correctness-model-internals/venv/lib/python3.11/site-packages/sklearn/linear_model/_logistic.py:469: ConvergenceWarning: lbfgs failed to converge (status=1):\n",
      "STOP: TOTAL NO. OF ITERATIONS REACHED LIMIT.\n",
      "\n",
      "Increase the number of iterations (max_iter) or scale the data as shown in:\n",
      "    https://scikit-learn.org/stable/modules/preprocessing.html\n",
      "Please also refer to the documentation for alternative solver options:\n",
      "    https://scikit-learn.org/stable/modules/linear_model.html#logistic-regression\n",
      "  n_iter_i = _check_optimize_result(\n",
      "/Users/anton/dev/MARS/correctness-model-internals/venv/lib/python3.11/site-packages/sklearn/linear_model/_logistic.py:469: ConvergenceWarning: lbfgs failed to converge (status=1):\n",
      "STOP: TOTAL NO. OF ITERATIONS REACHED LIMIT.\n",
      "\n",
      "Increase the number of iterations (max_iter) or scale the data as shown in:\n",
      "    https://scikit-learn.org/stable/modules/preprocessing.html\n",
      "Please also refer to the documentation for alternative solver options:\n",
      "    https://scikit-learn.org/stable/modules/linear_model.html#logistic-regression\n",
      "  n_iter_i = _check_optimize_result(\n",
      "/Users/anton/dev/MARS/correctness-model-internals/venv/lib/python3.11/site-packages/sklearn/linear_model/_logistic.py:469: ConvergenceWarning: lbfgs failed to converge (status=1):\n",
      "STOP: TOTAL NO. OF ITERATIONS REACHED LIMIT.\n",
      "\n",
      "Increase the number of iterations (max_iter) or scale the data as shown in:\n",
      "    https://scikit-learn.org/stable/modules/preprocessing.html\n",
      "Please also refer to the documentation for alternative solver options:\n",
      "    https://scikit-learn.org/stable/modules/linear_model.html#logistic-regression\n",
      "  n_iter_i = _check_optimize_result(\n"
     ]
    },
    {
     "name": "stdout",
     "output_type": "stream",
     "text": [
      "layer=3, "
     ]
    },
    {
     "name": "stderr",
     "output_type": "stream",
     "text": [
      "/Users/anton/dev/MARS/correctness-model-internals/venv/lib/python3.11/site-packages/sklearn/linear_model/_logistic.py:469: ConvergenceWarning: lbfgs failed to converge (status=1):\n",
      "STOP: TOTAL NO. OF ITERATIONS REACHED LIMIT.\n",
      "\n",
      "Increase the number of iterations (max_iter) or scale the data as shown in:\n",
      "    https://scikit-learn.org/stable/modules/preprocessing.html\n",
      "Please also refer to the documentation for alternative solver options:\n",
      "    https://scikit-learn.org/stable/modules/linear_model.html#logistic-regression\n",
      "  n_iter_i = _check_optimize_result(\n",
      "/Users/anton/dev/MARS/correctness-model-internals/venv/lib/python3.11/site-packages/sklearn/linear_model/_logistic.py:469: ConvergenceWarning: lbfgs failed to converge (status=1):\n",
      "STOP: TOTAL NO. OF ITERATIONS REACHED LIMIT.\n",
      "\n",
      "Increase the number of iterations (max_iter) or scale the data as shown in:\n",
      "    https://scikit-learn.org/stable/modules/preprocessing.html\n",
      "Please also refer to the documentation for alternative solver options:\n",
      "    https://scikit-learn.org/stable/modules/linear_model.html#logistic-regression\n",
      "  n_iter_i = _check_optimize_result(\n",
      "/Users/anton/dev/MARS/correctness-model-internals/venv/lib/python3.11/site-packages/sklearn/linear_model/_logistic.py:469: ConvergenceWarning: lbfgs failed to converge (status=1):\n",
      "STOP: TOTAL NO. OF ITERATIONS REACHED LIMIT.\n",
      "\n",
      "Increase the number of iterations (max_iter) or scale the data as shown in:\n",
      "    https://scikit-learn.org/stable/modules/preprocessing.html\n",
      "Please also refer to the documentation for alternative solver options:\n",
      "    https://scikit-learn.org/stable/modules/linear_model.html#logistic-regression\n",
      "  n_iter_i = _check_optimize_result(\n",
      "/Users/anton/dev/MARS/correctness-model-internals/venv/lib/python3.11/site-packages/sklearn/linear_model/_logistic.py:469: ConvergenceWarning: lbfgs failed to converge (status=1):\n",
      "STOP: TOTAL NO. OF ITERATIONS REACHED LIMIT.\n",
      "\n",
      "Increase the number of iterations (max_iter) or scale the data as shown in:\n",
      "    https://scikit-learn.org/stable/modules/preprocessing.html\n",
      "Please also refer to the documentation for alternative solver options:\n",
      "    https://scikit-learn.org/stable/modules/linear_model.html#logistic-regression\n",
      "  n_iter_i = _check_optimize_result(\n",
      "/Users/anton/dev/MARS/correctness-model-internals/venv/lib/python3.11/site-packages/sklearn/linear_model/_logistic.py:469: ConvergenceWarning: lbfgs failed to converge (status=1):\n",
      "STOP: TOTAL NO. OF ITERATIONS REACHED LIMIT.\n",
      "\n",
      "Increase the number of iterations (max_iter) or scale the data as shown in:\n",
      "    https://scikit-learn.org/stable/modules/preprocessing.html\n",
      "Please also refer to the documentation for alternative solver options:\n",
      "    https://scikit-learn.org/stable/modules/linear_model.html#logistic-regression\n",
      "  n_iter_i = _check_optimize_result(\n"
     ]
    },
    {
     "name": "stdout",
     "output_type": "stream",
     "text": [
      "layer=4, "
     ]
    },
    {
     "name": "stderr",
     "output_type": "stream",
     "text": [
      "/Users/anton/dev/MARS/correctness-model-internals/venv/lib/python3.11/site-packages/sklearn/linear_model/_logistic.py:469: ConvergenceWarning: lbfgs failed to converge (status=1):\n",
      "STOP: TOTAL NO. OF ITERATIONS REACHED LIMIT.\n",
      "\n",
      "Increase the number of iterations (max_iter) or scale the data as shown in:\n",
      "    https://scikit-learn.org/stable/modules/preprocessing.html\n",
      "Please also refer to the documentation for alternative solver options:\n",
      "    https://scikit-learn.org/stable/modules/linear_model.html#logistic-regression\n",
      "  n_iter_i = _check_optimize_result(\n",
      "/Users/anton/dev/MARS/correctness-model-internals/venv/lib/python3.11/site-packages/sklearn/linear_model/_logistic.py:469: ConvergenceWarning: lbfgs failed to converge (status=1):\n",
      "STOP: TOTAL NO. OF ITERATIONS REACHED LIMIT.\n",
      "\n",
      "Increase the number of iterations (max_iter) or scale the data as shown in:\n",
      "    https://scikit-learn.org/stable/modules/preprocessing.html\n",
      "Please also refer to the documentation for alternative solver options:\n",
      "    https://scikit-learn.org/stable/modules/linear_model.html#logistic-regression\n",
      "  n_iter_i = _check_optimize_result(\n",
      "/Users/anton/dev/MARS/correctness-model-internals/venv/lib/python3.11/site-packages/sklearn/linear_model/_logistic.py:469: ConvergenceWarning: lbfgs failed to converge (status=1):\n",
      "STOP: TOTAL NO. OF ITERATIONS REACHED LIMIT.\n",
      "\n",
      "Increase the number of iterations (max_iter) or scale the data as shown in:\n",
      "    https://scikit-learn.org/stable/modules/preprocessing.html\n",
      "Please also refer to the documentation for alternative solver options:\n",
      "    https://scikit-learn.org/stable/modules/linear_model.html#logistic-regression\n",
      "  n_iter_i = _check_optimize_result(\n",
      "/Users/anton/dev/MARS/correctness-model-internals/venv/lib/python3.11/site-packages/sklearn/linear_model/_logistic.py:469: ConvergenceWarning: lbfgs failed to converge (status=1):\n",
      "STOP: TOTAL NO. OF ITERATIONS REACHED LIMIT.\n",
      "\n",
      "Increase the number of iterations (max_iter) or scale the data as shown in:\n",
      "    https://scikit-learn.org/stable/modules/preprocessing.html\n",
      "Please also refer to the documentation for alternative solver options:\n",
      "    https://scikit-learn.org/stable/modules/linear_model.html#logistic-regression\n",
      "  n_iter_i = _check_optimize_result(\n",
      "/Users/anton/dev/MARS/correctness-model-internals/venv/lib/python3.11/site-packages/sklearn/linear_model/_logistic.py:469: ConvergenceWarning: lbfgs failed to converge (status=1):\n",
      "STOP: TOTAL NO. OF ITERATIONS REACHED LIMIT.\n",
      "\n",
      "Increase the number of iterations (max_iter) or scale the data as shown in:\n",
      "    https://scikit-learn.org/stable/modules/preprocessing.html\n",
      "Please also refer to the documentation for alternative solver options:\n",
      "    https://scikit-learn.org/stable/modules/linear_model.html#logistic-regression\n",
      "  n_iter_i = _check_optimize_result(\n"
     ]
    },
    {
     "name": "stdout",
     "output_type": "stream",
     "text": [
      "layer=5, "
     ]
    },
    {
     "name": "stderr",
     "output_type": "stream",
     "text": [
      "/Users/anton/dev/MARS/correctness-model-internals/venv/lib/python3.11/site-packages/sklearn/linear_model/_logistic.py:469: ConvergenceWarning: lbfgs failed to converge (status=1):\n",
      "STOP: TOTAL NO. OF ITERATIONS REACHED LIMIT.\n",
      "\n",
      "Increase the number of iterations (max_iter) or scale the data as shown in:\n",
      "    https://scikit-learn.org/stable/modules/preprocessing.html\n",
      "Please also refer to the documentation for alternative solver options:\n",
      "    https://scikit-learn.org/stable/modules/linear_model.html#logistic-regression\n",
      "  n_iter_i = _check_optimize_result(\n",
      "/Users/anton/dev/MARS/correctness-model-internals/venv/lib/python3.11/site-packages/sklearn/linear_model/_logistic.py:469: ConvergenceWarning: lbfgs failed to converge (status=1):\n",
      "STOP: TOTAL NO. OF ITERATIONS REACHED LIMIT.\n",
      "\n",
      "Increase the number of iterations (max_iter) or scale the data as shown in:\n",
      "    https://scikit-learn.org/stable/modules/preprocessing.html\n",
      "Please also refer to the documentation for alternative solver options:\n",
      "    https://scikit-learn.org/stable/modules/linear_model.html#logistic-regression\n",
      "  n_iter_i = _check_optimize_result(\n",
      "/Users/anton/dev/MARS/correctness-model-internals/venv/lib/python3.11/site-packages/sklearn/linear_model/_logistic.py:469: ConvergenceWarning: lbfgs failed to converge (status=1):\n",
      "STOP: TOTAL NO. OF ITERATIONS REACHED LIMIT.\n",
      "\n",
      "Increase the number of iterations (max_iter) or scale the data as shown in:\n",
      "    https://scikit-learn.org/stable/modules/preprocessing.html\n",
      "Please also refer to the documentation for alternative solver options:\n",
      "    https://scikit-learn.org/stable/modules/linear_model.html#logistic-regression\n",
      "  n_iter_i = _check_optimize_result(\n",
      "/Users/anton/dev/MARS/correctness-model-internals/venv/lib/python3.11/site-packages/sklearn/linear_model/_logistic.py:469: ConvergenceWarning: lbfgs failed to converge (status=1):\n",
      "STOP: TOTAL NO. OF ITERATIONS REACHED LIMIT.\n",
      "\n",
      "Increase the number of iterations (max_iter) or scale the data as shown in:\n",
      "    https://scikit-learn.org/stable/modules/preprocessing.html\n",
      "Please also refer to the documentation for alternative solver options:\n",
      "    https://scikit-learn.org/stable/modules/linear_model.html#logistic-regression\n",
      "  n_iter_i = _check_optimize_result(\n",
      "/Users/anton/dev/MARS/correctness-model-internals/venv/lib/python3.11/site-packages/sklearn/linear_model/_logistic.py:469: ConvergenceWarning: lbfgs failed to converge (status=1):\n",
      "STOP: TOTAL NO. OF ITERATIONS REACHED LIMIT.\n",
      "\n",
      "Increase the number of iterations (max_iter) or scale the data as shown in:\n",
      "    https://scikit-learn.org/stable/modules/preprocessing.html\n",
      "Please also refer to the documentation for alternative solver options:\n",
      "    https://scikit-learn.org/stable/modules/linear_model.html#logistic-regression\n",
      "  n_iter_i = _check_optimize_result(\n"
     ]
    },
    {
     "name": "stdout",
     "output_type": "stream",
     "text": [
      "layer=6, "
     ]
    },
    {
     "name": "stderr",
     "output_type": "stream",
     "text": [
      "/Users/anton/dev/MARS/correctness-model-internals/venv/lib/python3.11/site-packages/sklearn/linear_model/_logistic.py:469: ConvergenceWarning: lbfgs failed to converge (status=1):\n",
      "STOP: TOTAL NO. OF ITERATIONS REACHED LIMIT.\n",
      "\n",
      "Increase the number of iterations (max_iter) or scale the data as shown in:\n",
      "    https://scikit-learn.org/stable/modules/preprocessing.html\n",
      "Please also refer to the documentation for alternative solver options:\n",
      "    https://scikit-learn.org/stable/modules/linear_model.html#logistic-regression\n",
      "  n_iter_i = _check_optimize_result(\n",
      "/Users/anton/dev/MARS/correctness-model-internals/venv/lib/python3.11/site-packages/sklearn/linear_model/_logistic.py:469: ConvergenceWarning: lbfgs failed to converge (status=1):\n",
      "STOP: TOTAL NO. OF ITERATIONS REACHED LIMIT.\n",
      "\n",
      "Increase the number of iterations (max_iter) or scale the data as shown in:\n",
      "    https://scikit-learn.org/stable/modules/preprocessing.html\n",
      "Please also refer to the documentation for alternative solver options:\n",
      "    https://scikit-learn.org/stable/modules/linear_model.html#logistic-regression\n",
      "  n_iter_i = _check_optimize_result(\n",
      "/Users/anton/dev/MARS/correctness-model-internals/venv/lib/python3.11/site-packages/sklearn/linear_model/_logistic.py:469: ConvergenceWarning: lbfgs failed to converge (status=1):\n",
      "STOP: TOTAL NO. OF ITERATIONS REACHED LIMIT.\n",
      "\n",
      "Increase the number of iterations (max_iter) or scale the data as shown in:\n",
      "    https://scikit-learn.org/stable/modules/preprocessing.html\n",
      "Please also refer to the documentation for alternative solver options:\n",
      "    https://scikit-learn.org/stable/modules/linear_model.html#logistic-regression\n",
      "  n_iter_i = _check_optimize_result(\n",
      "/Users/anton/dev/MARS/correctness-model-internals/venv/lib/python3.11/site-packages/sklearn/linear_model/_logistic.py:469: ConvergenceWarning: lbfgs failed to converge (status=1):\n",
      "STOP: TOTAL NO. OF ITERATIONS REACHED LIMIT.\n",
      "\n",
      "Increase the number of iterations (max_iter) or scale the data as shown in:\n",
      "    https://scikit-learn.org/stable/modules/preprocessing.html\n",
      "Please also refer to the documentation for alternative solver options:\n",
      "    https://scikit-learn.org/stable/modules/linear_model.html#logistic-regression\n",
      "  n_iter_i = _check_optimize_result(\n",
      "/Users/anton/dev/MARS/correctness-model-internals/venv/lib/python3.11/site-packages/sklearn/linear_model/_logistic.py:469: ConvergenceWarning: lbfgs failed to converge (status=1):\n",
      "STOP: TOTAL NO. OF ITERATIONS REACHED LIMIT.\n",
      "\n",
      "Increase the number of iterations (max_iter) or scale the data as shown in:\n",
      "    https://scikit-learn.org/stable/modules/preprocessing.html\n",
      "Please also refer to the documentation for alternative solver options:\n",
      "    https://scikit-learn.org/stable/modules/linear_model.html#logistic-regression\n",
      "  n_iter_i = _check_optimize_result(\n"
     ]
    },
    {
     "name": "stdout",
     "output_type": "stream",
     "text": [
      "layer=7, "
     ]
    },
    {
     "name": "stderr",
     "output_type": "stream",
     "text": [
      "/Users/anton/dev/MARS/correctness-model-internals/venv/lib/python3.11/site-packages/sklearn/linear_model/_logistic.py:469: ConvergenceWarning: lbfgs failed to converge (status=1):\n",
      "STOP: TOTAL NO. OF ITERATIONS REACHED LIMIT.\n",
      "\n",
      "Increase the number of iterations (max_iter) or scale the data as shown in:\n",
      "    https://scikit-learn.org/stable/modules/preprocessing.html\n",
      "Please also refer to the documentation for alternative solver options:\n",
      "    https://scikit-learn.org/stable/modules/linear_model.html#logistic-regression\n",
      "  n_iter_i = _check_optimize_result(\n",
      "/Users/anton/dev/MARS/correctness-model-internals/venv/lib/python3.11/site-packages/sklearn/linear_model/_logistic.py:469: ConvergenceWarning: lbfgs failed to converge (status=1):\n",
      "STOP: TOTAL NO. OF ITERATIONS REACHED LIMIT.\n",
      "\n",
      "Increase the number of iterations (max_iter) or scale the data as shown in:\n",
      "    https://scikit-learn.org/stable/modules/preprocessing.html\n",
      "Please also refer to the documentation for alternative solver options:\n",
      "    https://scikit-learn.org/stable/modules/linear_model.html#logistic-regression\n",
      "  n_iter_i = _check_optimize_result(\n",
      "/Users/anton/dev/MARS/correctness-model-internals/venv/lib/python3.11/site-packages/sklearn/linear_model/_logistic.py:469: ConvergenceWarning: lbfgs failed to converge (status=1):\n",
      "STOP: TOTAL NO. OF ITERATIONS REACHED LIMIT.\n",
      "\n",
      "Increase the number of iterations (max_iter) or scale the data as shown in:\n",
      "    https://scikit-learn.org/stable/modules/preprocessing.html\n",
      "Please also refer to the documentation for alternative solver options:\n",
      "    https://scikit-learn.org/stable/modules/linear_model.html#logistic-regression\n",
      "  n_iter_i = _check_optimize_result(\n",
      "/Users/anton/dev/MARS/correctness-model-internals/venv/lib/python3.11/site-packages/sklearn/linear_model/_logistic.py:469: ConvergenceWarning: lbfgs failed to converge (status=1):\n",
      "STOP: TOTAL NO. OF ITERATIONS REACHED LIMIT.\n",
      "\n",
      "Increase the number of iterations (max_iter) or scale the data as shown in:\n",
      "    https://scikit-learn.org/stable/modules/preprocessing.html\n",
      "Please also refer to the documentation for alternative solver options:\n",
      "    https://scikit-learn.org/stable/modules/linear_model.html#logistic-regression\n",
      "  n_iter_i = _check_optimize_result(\n",
      "/Users/anton/dev/MARS/correctness-model-internals/venv/lib/python3.11/site-packages/sklearn/linear_model/_logistic.py:469: ConvergenceWarning: lbfgs failed to converge (status=1):\n",
      "STOP: TOTAL NO. OF ITERATIONS REACHED LIMIT.\n",
      "\n",
      "Increase the number of iterations (max_iter) or scale the data as shown in:\n",
      "    https://scikit-learn.org/stable/modules/preprocessing.html\n",
      "Please also refer to the documentation for alternative solver options:\n",
      "    https://scikit-learn.org/stable/modules/linear_model.html#logistic-regression\n",
      "  n_iter_i = _check_optimize_result(\n"
     ]
    },
    {
     "name": "stdout",
     "output_type": "stream",
     "text": [
      "layer=8, "
     ]
    },
    {
     "name": "stderr",
     "output_type": "stream",
     "text": [
      "/Users/anton/dev/MARS/correctness-model-internals/venv/lib/python3.11/site-packages/sklearn/linear_model/_logistic.py:469: ConvergenceWarning: lbfgs failed to converge (status=1):\n",
      "STOP: TOTAL NO. OF ITERATIONS REACHED LIMIT.\n",
      "\n",
      "Increase the number of iterations (max_iter) or scale the data as shown in:\n",
      "    https://scikit-learn.org/stable/modules/preprocessing.html\n",
      "Please also refer to the documentation for alternative solver options:\n",
      "    https://scikit-learn.org/stable/modules/linear_model.html#logistic-regression\n",
      "  n_iter_i = _check_optimize_result(\n",
      "/Users/anton/dev/MARS/correctness-model-internals/venv/lib/python3.11/site-packages/sklearn/linear_model/_logistic.py:469: ConvergenceWarning: lbfgs failed to converge (status=1):\n",
      "STOP: TOTAL NO. OF ITERATIONS REACHED LIMIT.\n",
      "\n",
      "Increase the number of iterations (max_iter) or scale the data as shown in:\n",
      "    https://scikit-learn.org/stable/modules/preprocessing.html\n",
      "Please also refer to the documentation for alternative solver options:\n",
      "    https://scikit-learn.org/stable/modules/linear_model.html#logistic-regression\n",
      "  n_iter_i = _check_optimize_result(\n",
      "/Users/anton/dev/MARS/correctness-model-internals/venv/lib/python3.11/site-packages/sklearn/linear_model/_logistic.py:469: ConvergenceWarning: lbfgs failed to converge (status=1):\n",
      "STOP: TOTAL NO. OF ITERATIONS REACHED LIMIT.\n",
      "\n",
      "Increase the number of iterations (max_iter) or scale the data as shown in:\n",
      "    https://scikit-learn.org/stable/modules/preprocessing.html\n",
      "Please also refer to the documentation for alternative solver options:\n",
      "    https://scikit-learn.org/stable/modules/linear_model.html#logistic-regression\n",
      "  n_iter_i = _check_optimize_result(\n",
      "/Users/anton/dev/MARS/correctness-model-internals/venv/lib/python3.11/site-packages/sklearn/linear_model/_logistic.py:469: ConvergenceWarning: lbfgs failed to converge (status=1):\n",
      "STOP: TOTAL NO. OF ITERATIONS REACHED LIMIT.\n",
      "\n",
      "Increase the number of iterations (max_iter) or scale the data as shown in:\n",
      "    https://scikit-learn.org/stable/modules/preprocessing.html\n",
      "Please also refer to the documentation for alternative solver options:\n",
      "    https://scikit-learn.org/stable/modules/linear_model.html#logistic-regression\n",
      "  n_iter_i = _check_optimize_result(\n",
      "/Users/anton/dev/MARS/correctness-model-internals/venv/lib/python3.11/site-packages/sklearn/linear_model/_logistic.py:469: ConvergenceWarning: lbfgs failed to converge (status=1):\n",
      "STOP: TOTAL NO. OF ITERATIONS REACHED LIMIT.\n",
      "\n",
      "Increase the number of iterations (max_iter) or scale the data as shown in:\n",
      "    https://scikit-learn.org/stable/modules/preprocessing.html\n",
      "Please also refer to the documentation for alternative solver options:\n",
      "    https://scikit-learn.org/stable/modules/linear_model.html#logistic-regression\n",
      "  n_iter_i = _check_optimize_result(\n"
     ]
    },
    {
     "name": "stdout",
     "output_type": "stream",
     "text": [
      "layer=9, "
     ]
    },
    {
     "name": "stderr",
     "output_type": "stream",
     "text": [
      "/Users/anton/dev/MARS/correctness-model-internals/venv/lib/python3.11/site-packages/sklearn/linear_model/_logistic.py:469: ConvergenceWarning: lbfgs failed to converge (status=1):\n",
      "STOP: TOTAL NO. OF ITERATIONS REACHED LIMIT.\n",
      "\n",
      "Increase the number of iterations (max_iter) or scale the data as shown in:\n",
      "    https://scikit-learn.org/stable/modules/preprocessing.html\n",
      "Please also refer to the documentation for alternative solver options:\n",
      "    https://scikit-learn.org/stable/modules/linear_model.html#logistic-regression\n",
      "  n_iter_i = _check_optimize_result(\n",
      "/Users/anton/dev/MARS/correctness-model-internals/venv/lib/python3.11/site-packages/sklearn/linear_model/_logistic.py:469: ConvergenceWarning: lbfgs failed to converge (status=1):\n",
      "STOP: TOTAL NO. OF ITERATIONS REACHED LIMIT.\n",
      "\n",
      "Increase the number of iterations (max_iter) or scale the data as shown in:\n",
      "    https://scikit-learn.org/stable/modules/preprocessing.html\n",
      "Please also refer to the documentation for alternative solver options:\n",
      "    https://scikit-learn.org/stable/modules/linear_model.html#logistic-regression\n",
      "  n_iter_i = _check_optimize_result(\n",
      "/Users/anton/dev/MARS/correctness-model-internals/venv/lib/python3.11/site-packages/sklearn/linear_model/_logistic.py:469: ConvergenceWarning: lbfgs failed to converge (status=1):\n",
      "STOP: TOTAL NO. OF ITERATIONS REACHED LIMIT.\n",
      "\n",
      "Increase the number of iterations (max_iter) or scale the data as shown in:\n",
      "    https://scikit-learn.org/stable/modules/preprocessing.html\n",
      "Please also refer to the documentation for alternative solver options:\n",
      "    https://scikit-learn.org/stable/modules/linear_model.html#logistic-regression\n",
      "  n_iter_i = _check_optimize_result(\n",
      "/Users/anton/dev/MARS/correctness-model-internals/venv/lib/python3.11/site-packages/sklearn/linear_model/_logistic.py:469: ConvergenceWarning: lbfgs failed to converge (status=1):\n",
      "STOP: TOTAL NO. OF ITERATIONS REACHED LIMIT.\n",
      "\n",
      "Increase the number of iterations (max_iter) or scale the data as shown in:\n",
      "    https://scikit-learn.org/stable/modules/preprocessing.html\n",
      "Please also refer to the documentation for alternative solver options:\n",
      "    https://scikit-learn.org/stable/modules/linear_model.html#logistic-regression\n",
      "  n_iter_i = _check_optimize_result(\n",
      "/Users/anton/dev/MARS/correctness-model-internals/venv/lib/python3.11/site-packages/sklearn/linear_model/_logistic.py:469: ConvergenceWarning: lbfgs failed to converge (status=1):\n",
      "STOP: TOTAL NO. OF ITERATIONS REACHED LIMIT.\n",
      "\n",
      "Increase the number of iterations (max_iter) or scale the data as shown in:\n",
      "    https://scikit-learn.org/stable/modules/preprocessing.html\n",
      "Please also refer to the documentation for alternative solver options:\n",
      "    https://scikit-learn.org/stable/modules/linear_model.html#logistic-regression\n",
      "  n_iter_i = _check_optimize_result(\n"
     ]
    },
    {
     "name": "stdout",
     "output_type": "stream",
     "text": [
      "layer=10, "
     ]
    },
    {
     "name": "stderr",
     "output_type": "stream",
     "text": [
      "/Users/anton/dev/MARS/correctness-model-internals/venv/lib/python3.11/site-packages/sklearn/linear_model/_logistic.py:469: ConvergenceWarning: lbfgs failed to converge (status=1):\n",
      "STOP: TOTAL NO. OF ITERATIONS REACHED LIMIT.\n",
      "\n",
      "Increase the number of iterations (max_iter) or scale the data as shown in:\n",
      "    https://scikit-learn.org/stable/modules/preprocessing.html\n",
      "Please also refer to the documentation for alternative solver options:\n",
      "    https://scikit-learn.org/stable/modules/linear_model.html#logistic-regression\n",
      "  n_iter_i = _check_optimize_result(\n",
      "/Users/anton/dev/MARS/correctness-model-internals/venv/lib/python3.11/site-packages/sklearn/linear_model/_logistic.py:469: ConvergenceWarning: lbfgs failed to converge (status=1):\n",
      "STOP: TOTAL NO. OF ITERATIONS REACHED LIMIT.\n",
      "\n",
      "Increase the number of iterations (max_iter) or scale the data as shown in:\n",
      "    https://scikit-learn.org/stable/modules/preprocessing.html\n",
      "Please also refer to the documentation for alternative solver options:\n",
      "    https://scikit-learn.org/stable/modules/linear_model.html#logistic-regression\n",
      "  n_iter_i = _check_optimize_result(\n",
      "/Users/anton/dev/MARS/correctness-model-internals/venv/lib/python3.11/site-packages/sklearn/linear_model/_logistic.py:469: ConvergenceWarning: lbfgs failed to converge (status=1):\n",
      "STOP: TOTAL NO. OF ITERATIONS REACHED LIMIT.\n",
      "\n",
      "Increase the number of iterations (max_iter) or scale the data as shown in:\n",
      "    https://scikit-learn.org/stable/modules/preprocessing.html\n",
      "Please also refer to the documentation for alternative solver options:\n",
      "    https://scikit-learn.org/stable/modules/linear_model.html#logistic-regression\n",
      "  n_iter_i = _check_optimize_result(\n",
      "/Users/anton/dev/MARS/correctness-model-internals/venv/lib/python3.11/site-packages/sklearn/linear_model/_logistic.py:469: ConvergenceWarning: lbfgs failed to converge (status=1):\n",
      "STOP: TOTAL NO. OF ITERATIONS REACHED LIMIT.\n",
      "\n",
      "Increase the number of iterations (max_iter) or scale the data as shown in:\n",
      "    https://scikit-learn.org/stable/modules/preprocessing.html\n",
      "Please also refer to the documentation for alternative solver options:\n",
      "    https://scikit-learn.org/stable/modules/linear_model.html#logistic-regression\n",
      "  n_iter_i = _check_optimize_result(\n",
      "/Users/anton/dev/MARS/correctness-model-internals/venv/lib/python3.11/site-packages/sklearn/linear_model/_logistic.py:469: ConvergenceWarning: lbfgs failed to converge (status=1):\n",
      "STOP: TOTAL NO. OF ITERATIONS REACHED LIMIT.\n",
      "\n",
      "Increase the number of iterations (max_iter) or scale the data as shown in:\n",
      "    https://scikit-learn.org/stable/modules/preprocessing.html\n",
      "Please also refer to the documentation for alternative solver options:\n",
      "    https://scikit-learn.org/stable/modules/linear_model.html#logistic-regression\n",
      "  n_iter_i = _check_optimize_result(\n"
     ]
    },
    {
     "name": "stdout",
     "output_type": "stream",
     "text": [
      "layer=11, "
     ]
    },
    {
     "name": "stderr",
     "output_type": "stream",
     "text": [
      "/Users/anton/dev/MARS/correctness-model-internals/venv/lib/python3.11/site-packages/sklearn/linear_model/_logistic.py:469: ConvergenceWarning: lbfgs failed to converge (status=1):\n",
      "STOP: TOTAL NO. OF ITERATIONS REACHED LIMIT.\n",
      "\n",
      "Increase the number of iterations (max_iter) or scale the data as shown in:\n",
      "    https://scikit-learn.org/stable/modules/preprocessing.html\n",
      "Please also refer to the documentation for alternative solver options:\n",
      "    https://scikit-learn.org/stable/modules/linear_model.html#logistic-regression\n",
      "  n_iter_i = _check_optimize_result(\n",
      "/Users/anton/dev/MARS/correctness-model-internals/venv/lib/python3.11/site-packages/sklearn/linear_model/_logistic.py:469: ConvergenceWarning: lbfgs failed to converge (status=1):\n",
      "STOP: TOTAL NO. OF ITERATIONS REACHED LIMIT.\n",
      "\n",
      "Increase the number of iterations (max_iter) or scale the data as shown in:\n",
      "    https://scikit-learn.org/stable/modules/preprocessing.html\n",
      "Please also refer to the documentation for alternative solver options:\n",
      "    https://scikit-learn.org/stable/modules/linear_model.html#logistic-regression\n",
      "  n_iter_i = _check_optimize_result(\n",
      "/Users/anton/dev/MARS/correctness-model-internals/venv/lib/python3.11/site-packages/sklearn/linear_model/_logistic.py:469: ConvergenceWarning: lbfgs failed to converge (status=1):\n",
      "STOP: TOTAL NO. OF ITERATIONS REACHED LIMIT.\n",
      "\n",
      "Increase the number of iterations (max_iter) or scale the data as shown in:\n",
      "    https://scikit-learn.org/stable/modules/preprocessing.html\n",
      "Please also refer to the documentation for alternative solver options:\n",
      "    https://scikit-learn.org/stable/modules/linear_model.html#logistic-regression\n",
      "  n_iter_i = _check_optimize_result(\n",
      "/Users/anton/dev/MARS/correctness-model-internals/venv/lib/python3.11/site-packages/sklearn/linear_model/_logistic.py:469: ConvergenceWarning: lbfgs failed to converge (status=1):\n",
      "STOP: TOTAL NO. OF ITERATIONS REACHED LIMIT.\n",
      "\n",
      "Increase the number of iterations (max_iter) or scale the data as shown in:\n",
      "    https://scikit-learn.org/stable/modules/preprocessing.html\n",
      "Please also refer to the documentation for alternative solver options:\n",
      "    https://scikit-learn.org/stable/modules/linear_model.html#logistic-regression\n",
      "  n_iter_i = _check_optimize_result(\n",
      "/Users/anton/dev/MARS/correctness-model-internals/venv/lib/python3.11/site-packages/sklearn/linear_model/_logistic.py:469: ConvergenceWarning: lbfgs failed to converge (status=1):\n",
      "STOP: TOTAL NO. OF ITERATIONS REACHED LIMIT.\n",
      "\n",
      "Increase the number of iterations (max_iter) or scale the data as shown in:\n",
      "    https://scikit-learn.org/stable/modules/preprocessing.html\n",
      "Please also refer to the documentation for alternative solver options:\n",
      "    https://scikit-learn.org/stable/modules/linear_model.html#logistic-regression\n",
      "  n_iter_i = _check_optimize_result(\n"
     ]
    },
    {
     "name": "stdout",
     "output_type": "stream",
     "text": [
      "layer=12, "
     ]
    },
    {
     "name": "stderr",
     "output_type": "stream",
     "text": [
      "/Users/anton/dev/MARS/correctness-model-internals/venv/lib/python3.11/site-packages/sklearn/linear_model/_logistic.py:469: ConvergenceWarning: lbfgs failed to converge (status=1):\n",
      "STOP: TOTAL NO. OF ITERATIONS REACHED LIMIT.\n",
      "\n",
      "Increase the number of iterations (max_iter) or scale the data as shown in:\n",
      "    https://scikit-learn.org/stable/modules/preprocessing.html\n",
      "Please also refer to the documentation for alternative solver options:\n",
      "    https://scikit-learn.org/stable/modules/linear_model.html#logistic-regression\n",
      "  n_iter_i = _check_optimize_result(\n",
      "/Users/anton/dev/MARS/correctness-model-internals/venv/lib/python3.11/site-packages/sklearn/linear_model/_logistic.py:469: ConvergenceWarning: lbfgs failed to converge (status=1):\n",
      "STOP: TOTAL NO. OF ITERATIONS REACHED LIMIT.\n",
      "\n",
      "Increase the number of iterations (max_iter) or scale the data as shown in:\n",
      "    https://scikit-learn.org/stable/modules/preprocessing.html\n",
      "Please also refer to the documentation for alternative solver options:\n",
      "    https://scikit-learn.org/stable/modules/linear_model.html#logistic-regression\n",
      "  n_iter_i = _check_optimize_result(\n",
      "/Users/anton/dev/MARS/correctness-model-internals/venv/lib/python3.11/site-packages/sklearn/linear_model/_logistic.py:469: ConvergenceWarning: lbfgs failed to converge (status=1):\n",
      "STOP: TOTAL NO. OF ITERATIONS REACHED LIMIT.\n",
      "\n",
      "Increase the number of iterations (max_iter) or scale the data as shown in:\n",
      "    https://scikit-learn.org/stable/modules/preprocessing.html\n",
      "Please also refer to the documentation for alternative solver options:\n",
      "    https://scikit-learn.org/stable/modules/linear_model.html#logistic-regression\n",
      "  n_iter_i = _check_optimize_result(\n",
      "/Users/anton/dev/MARS/correctness-model-internals/venv/lib/python3.11/site-packages/sklearn/linear_model/_logistic.py:469: ConvergenceWarning: lbfgs failed to converge (status=1):\n",
      "STOP: TOTAL NO. OF ITERATIONS REACHED LIMIT.\n",
      "\n",
      "Increase the number of iterations (max_iter) or scale the data as shown in:\n",
      "    https://scikit-learn.org/stable/modules/preprocessing.html\n",
      "Please also refer to the documentation for alternative solver options:\n",
      "    https://scikit-learn.org/stable/modules/linear_model.html#logistic-regression\n",
      "  n_iter_i = _check_optimize_result(\n",
      "/Users/anton/dev/MARS/correctness-model-internals/venv/lib/python3.11/site-packages/sklearn/linear_model/_logistic.py:469: ConvergenceWarning: lbfgs failed to converge (status=1):\n",
      "STOP: TOTAL NO. OF ITERATIONS REACHED LIMIT.\n",
      "\n",
      "Increase the number of iterations (max_iter) or scale the data as shown in:\n",
      "    https://scikit-learn.org/stable/modules/preprocessing.html\n",
      "Please also refer to the documentation for alternative solver options:\n",
      "    https://scikit-learn.org/stable/modules/linear_model.html#logistic-regression\n",
      "  n_iter_i = _check_optimize_result(\n"
     ]
    },
    {
     "name": "stdout",
     "output_type": "stream",
     "text": [
      "layer=13, "
     ]
    },
    {
     "name": "stderr",
     "output_type": "stream",
     "text": [
      "/Users/anton/dev/MARS/correctness-model-internals/venv/lib/python3.11/site-packages/sklearn/linear_model/_logistic.py:469: ConvergenceWarning: lbfgs failed to converge (status=1):\n",
      "STOP: TOTAL NO. OF ITERATIONS REACHED LIMIT.\n",
      "\n",
      "Increase the number of iterations (max_iter) or scale the data as shown in:\n",
      "    https://scikit-learn.org/stable/modules/preprocessing.html\n",
      "Please also refer to the documentation for alternative solver options:\n",
      "    https://scikit-learn.org/stable/modules/linear_model.html#logistic-regression\n",
      "  n_iter_i = _check_optimize_result(\n",
      "/Users/anton/dev/MARS/correctness-model-internals/venv/lib/python3.11/site-packages/sklearn/linear_model/_logistic.py:469: ConvergenceWarning: lbfgs failed to converge (status=1):\n",
      "STOP: TOTAL NO. OF ITERATIONS REACHED LIMIT.\n",
      "\n",
      "Increase the number of iterations (max_iter) or scale the data as shown in:\n",
      "    https://scikit-learn.org/stable/modules/preprocessing.html\n",
      "Please also refer to the documentation for alternative solver options:\n",
      "    https://scikit-learn.org/stable/modules/linear_model.html#logistic-regression\n",
      "  n_iter_i = _check_optimize_result(\n",
      "/Users/anton/dev/MARS/correctness-model-internals/venv/lib/python3.11/site-packages/sklearn/linear_model/_logistic.py:469: ConvergenceWarning: lbfgs failed to converge (status=1):\n",
      "STOP: TOTAL NO. OF ITERATIONS REACHED LIMIT.\n",
      "\n",
      "Increase the number of iterations (max_iter) or scale the data as shown in:\n",
      "    https://scikit-learn.org/stable/modules/preprocessing.html\n",
      "Please also refer to the documentation for alternative solver options:\n",
      "    https://scikit-learn.org/stable/modules/linear_model.html#logistic-regression\n",
      "  n_iter_i = _check_optimize_result(\n",
      "/Users/anton/dev/MARS/correctness-model-internals/venv/lib/python3.11/site-packages/sklearn/linear_model/_logistic.py:469: ConvergenceWarning: lbfgs failed to converge (status=1):\n",
      "STOP: TOTAL NO. OF ITERATIONS REACHED LIMIT.\n",
      "\n",
      "Increase the number of iterations (max_iter) or scale the data as shown in:\n",
      "    https://scikit-learn.org/stable/modules/preprocessing.html\n",
      "Please also refer to the documentation for alternative solver options:\n",
      "    https://scikit-learn.org/stable/modules/linear_model.html#logistic-regression\n",
      "  n_iter_i = _check_optimize_result(\n",
      "/Users/anton/dev/MARS/correctness-model-internals/venv/lib/python3.11/site-packages/sklearn/linear_model/_logistic.py:469: ConvergenceWarning: lbfgs failed to converge (status=1):\n",
      "STOP: TOTAL NO. OF ITERATIONS REACHED LIMIT.\n",
      "\n",
      "Increase the number of iterations (max_iter) or scale the data as shown in:\n",
      "    https://scikit-learn.org/stable/modules/preprocessing.html\n",
      "Please also refer to the documentation for alternative solver options:\n",
      "    https://scikit-learn.org/stable/modules/linear_model.html#logistic-regression\n",
      "  n_iter_i = _check_optimize_result(\n"
     ]
    },
    {
     "name": "stdout",
     "output_type": "stream",
     "text": [
      "layer=14, "
     ]
    },
    {
     "name": "stderr",
     "output_type": "stream",
     "text": [
      "/Users/anton/dev/MARS/correctness-model-internals/venv/lib/python3.11/site-packages/sklearn/linear_model/_logistic.py:469: ConvergenceWarning: lbfgs failed to converge (status=1):\n",
      "STOP: TOTAL NO. OF ITERATIONS REACHED LIMIT.\n",
      "\n",
      "Increase the number of iterations (max_iter) or scale the data as shown in:\n",
      "    https://scikit-learn.org/stable/modules/preprocessing.html\n",
      "Please also refer to the documentation for alternative solver options:\n",
      "    https://scikit-learn.org/stable/modules/linear_model.html#logistic-regression\n",
      "  n_iter_i = _check_optimize_result(\n",
      "/Users/anton/dev/MARS/correctness-model-internals/venv/lib/python3.11/site-packages/sklearn/linear_model/_logistic.py:469: ConvergenceWarning: lbfgs failed to converge (status=1):\n",
      "STOP: TOTAL NO. OF ITERATIONS REACHED LIMIT.\n",
      "\n",
      "Increase the number of iterations (max_iter) or scale the data as shown in:\n",
      "    https://scikit-learn.org/stable/modules/preprocessing.html\n",
      "Please also refer to the documentation for alternative solver options:\n",
      "    https://scikit-learn.org/stable/modules/linear_model.html#logistic-regression\n",
      "  n_iter_i = _check_optimize_result(\n",
      "/Users/anton/dev/MARS/correctness-model-internals/venv/lib/python3.11/site-packages/sklearn/linear_model/_logistic.py:469: ConvergenceWarning: lbfgs failed to converge (status=1):\n",
      "STOP: TOTAL NO. OF ITERATIONS REACHED LIMIT.\n",
      "\n",
      "Increase the number of iterations (max_iter) or scale the data as shown in:\n",
      "    https://scikit-learn.org/stable/modules/preprocessing.html\n",
      "Please also refer to the documentation for alternative solver options:\n",
      "    https://scikit-learn.org/stable/modules/linear_model.html#logistic-regression\n",
      "  n_iter_i = _check_optimize_result(\n",
      "/Users/anton/dev/MARS/correctness-model-internals/venv/lib/python3.11/site-packages/sklearn/linear_model/_logistic.py:469: ConvergenceWarning: lbfgs failed to converge (status=1):\n",
      "STOP: TOTAL NO. OF ITERATIONS REACHED LIMIT.\n",
      "\n",
      "Increase the number of iterations (max_iter) or scale the data as shown in:\n",
      "    https://scikit-learn.org/stable/modules/preprocessing.html\n",
      "Please also refer to the documentation for alternative solver options:\n",
      "    https://scikit-learn.org/stable/modules/linear_model.html#logistic-regression\n",
      "  n_iter_i = _check_optimize_result(\n",
      "/Users/anton/dev/MARS/correctness-model-internals/venv/lib/python3.11/site-packages/sklearn/linear_model/_logistic.py:469: ConvergenceWarning: lbfgs failed to converge (status=1):\n",
      "STOP: TOTAL NO. OF ITERATIONS REACHED LIMIT.\n",
      "\n",
      "Increase the number of iterations (max_iter) or scale the data as shown in:\n",
      "    https://scikit-learn.org/stable/modules/preprocessing.html\n",
      "Please also refer to the documentation for alternative solver options:\n",
      "    https://scikit-learn.org/stable/modules/linear_model.html#logistic-regression\n",
      "  n_iter_i = _check_optimize_result(\n"
     ]
    },
    {
     "name": "stdout",
     "output_type": "stream",
     "text": [
      "layer=15, "
     ]
    },
    {
     "name": "stderr",
     "output_type": "stream",
     "text": [
      "/Users/anton/dev/MARS/correctness-model-internals/venv/lib/python3.11/site-packages/sklearn/linear_model/_logistic.py:469: ConvergenceWarning: lbfgs failed to converge (status=1):\n",
      "STOP: TOTAL NO. OF ITERATIONS REACHED LIMIT.\n",
      "\n",
      "Increase the number of iterations (max_iter) or scale the data as shown in:\n",
      "    https://scikit-learn.org/stable/modules/preprocessing.html\n",
      "Please also refer to the documentation for alternative solver options:\n",
      "    https://scikit-learn.org/stable/modules/linear_model.html#logistic-regression\n",
      "  n_iter_i = _check_optimize_result(\n",
      "/Users/anton/dev/MARS/correctness-model-internals/venv/lib/python3.11/site-packages/sklearn/linear_model/_logistic.py:469: ConvergenceWarning: lbfgs failed to converge (status=1):\n",
      "STOP: TOTAL NO. OF ITERATIONS REACHED LIMIT.\n",
      "\n",
      "Increase the number of iterations (max_iter) or scale the data as shown in:\n",
      "    https://scikit-learn.org/stable/modules/preprocessing.html\n",
      "Please also refer to the documentation for alternative solver options:\n",
      "    https://scikit-learn.org/stable/modules/linear_model.html#logistic-regression\n",
      "  n_iter_i = _check_optimize_result(\n",
      "/Users/anton/dev/MARS/correctness-model-internals/venv/lib/python3.11/site-packages/sklearn/linear_model/_logistic.py:469: ConvergenceWarning: lbfgs failed to converge (status=1):\n",
      "STOP: TOTAL NO. OF ITERATIONS REACHED LIMIT.\n",
      "\n",
      "Increase the number of iterations (max_iter) or scale the data as shown in:\n",
      "    https://scikit-learn.org/stable/modules/preprocessing.html\n",
      "Please also refer to the documentation for alternative solver options:\n",
      "    https://scikit-learn.org/stable/modules/linear_model.html#logistic-regression\n",
      "  n_iter_i = _check_optimize_result(\n",
      "/Users/anton/dev/MARS/correctness-model-internals/venv/lib/python3.11/site-packages/sklearn/linear_model/_logistic.py:469: ConvergenceWarning: lbfgs failed to converge (status=1):\n",
      "STOP: TOTAL NO. OF ITERATIONS REACHED LIMIT.\n",
      "\n",
      "Increase the number of iterations (max_iter) or scale the data as shown in:\n",
      "    https://scikit-learn.org/stable/modules/preprocessing.html\n",
      "Please also refer to the documentation for alternative solver options:\n",
      "    https://scikit-learn.org/stable/modules/linear_model.html#logistic-regression\n",
      "  n_iter_i = _check_optimize_result(\n",
      "/Users/anton/dev/MARS/correctness-model-internals/venv/lib/python3.11/site-packages/sklearn/linear_model/_logistic.py:469: ConvergenceWarning: lbfgs failed to converge (status=1):\n",
      "STOP: TOTAL NO. OF ITERATIONS REACHED LIMIT.\n",
      "\n",
      "Increase the number of iterations (max_iter) or scale the data as shown in:\n",
      "    https://scikit-learn.org/stable/modules/preprocessing.html\n",
      "Please also refer to the documentation for alternative solver options:\n",
      "    https://scikit-learn.org/stable/modules/linear_model.html#logistic-regression\n",
      "  n_iter_i = _check_optimize_result(\n"
     ]
    },
    {
     "name": "stdout",
     "output_type": "stream",
     "text": [
      "layer=16, "
     ]
    },
    {
     "name": "stderr",
     "output_type": "stream",
     "text": [
      "/Users/anton/dev/MARS/correctness-model-internals/venv/lib/python3.11/site-packages/sklearn/linear_model/_logistic.py:469: ConvergenceWarning: lbfgs failed to converge (status=1):\n",
      "STOP: TOTAL NO. OF ITERATIONS REACHED LIMIT.\n",
      "\n",
      "Increase the number of iterations (max_iter) or scale the data as shown in:\n",
      "    https://scikit-learn.org/stable/modules/preprocessing.html\n",
      "Please also refer to the documentation for alternative solver options:\n",
      "    https://scikit-learn.org/stable/modules/linear_model.html#logistic-regression\n",
      "  n_iter_i = _check_optimize_result(\n",
      "/Users/anton/dev/MARS/correctness-model-internals/venv/lib/python3.11/site-packages/sklearn/linear_model/_logistic.py:469: ConvergenceWarning: lbfgs failed to converge (status=1):\n",
      "STOP: TOTAL NO. OF ITERATIONS REACHED LIMIT.\n",
      "\n",
      "Increase the number of iterations (max_iter) or scale the data as shown in:\n",
      "    https://scikit-learn.org/stable/modules/preprocessing.html\n",
      "Please also refer to the documentation for alternative solver options:\n",
      "    https://scikit-learn.org/stable/modules/linear_model.html#logistic-regression\n",
      "  n_iter_i = _check_optimize_result(\n",
      "/Users/anton/dev/MARS/correctness-model-internals/venv/lib/python3.11/site-packages/sklearn/linear_model/_logistic.py:469: ConvergenceWarning: lbfgs failed to converge (status=1):\n",
      "STOP: TOTAL NO. OF ITERATIONS REACHED LIMIT.\n",
      "\n",
      "Increase the number of iterations (max_iter) or scale the data as shown in:\n",
      "    https://scikit-learn.org/stable/modules/preprocessing.html\n",
      "Please also refer to the documentation for alternative solver options:\n",
      "    https://scikit-learn.org/stable/modules/linear_model.html#logistic-regression\n",
      "  n_iter_i = _check_optimize_result(\n",
      "/Users/anton/dev/MARS/correctness-model-internals/venv/lib/python3.11/site-packages/sklearn/linear_model/_logistic.py:469: ConvergenceWarning: lbfgs failed to converge (status=1):\n",
      "STOP: TOTAL NO. OF ITERATIONS REACHED LIMIT.\n",
      "\n",
      "Increase the number of iterations (max_iter) or scale the data as shown in:\n",
      "    https://scikit-learn.org/stable/modules/preprocessing.html\n",
      "Please also refer to the documentation for alternative solver options:\n",
      "    https://scikit-learn.org/stable/modules/linear_model.html#logistic-regression\n",
      "  n_iter_i = _check_optimize_result(\n",
      "/Users/anton/dev/MARS/correctness-model-internals/venv/lib/python3.11/site-packages/sklearn/linear_model/_logistic.py:469: ConvergenceWarning: lbfgs failed to converge (status=1):\n",
      "STOP: TOTAL NO. OF ITERATIONS REACHED LIMIT.\n",
      "\n",
      "Increase the number of iterations (max_iter) or scale the data as shown in:\n",
      "    https://scikit-learn.org/stable/modules/preprocessing.html\n",
      "Please also refer to the documentation for alternative solver options:\n",
      "    https://scikit-learn.org/stable/modules/linear_model.html#logistic-regression\n",
      "  n_iter_i = _check_optimize_result(\n"
     ]
    },
    {
     "name": "stdout",
     "output_type": "stream",
     "text": [
      "layer=17, "
     ]
    },
    {
     "name": "stderr",
     "output_type": "stream",
     "text": [
      "/Users/anton/dev/MARS/correctness-model-internals/venv/lib/python3.11/site-packages/sklearn/linear_model/_logistic.py:469: ConvergenceWarning: lbfgs failed to converge (status=1):\n",
      "STOP: TOTAL NO. OF ITERATIONS REACHED LIMIT.\n",
      "\n",
      "Increase the number of iterations (max_iter) or scale the data as shown in:\n",
      "    https://scikit-learn.org/stable/modules/preprocessing.html\n",
      "Please also refer to the documentation for alternative solver options:\n",
      "    https://scikit-learn.org/stable/modules/linear_model.html#logistic-regression\n",
      "  n_iter_i = _check_optimize_result(\n",
      "/Users/anton/dev/MARS/correctness-model-internals/venv/lib/python3.11/site-packages/sklearn/linear_model/_logistic.py:469: ConvergenceWarning: lbfgs failed to converge (status=1):\n",
      "STOP: TOTAL NO. OF ITERATIONS REACHED LIMIT.\n",
      "\n",
      "Increase the number of iterations (max_iter) or scale the data as shown in:\n",
      "    https://scikit-learn.org/stable/modules/preprocessing.html\n",
      "Please also refer to the documentation for alternative solver options:\n",
      "    https://scikit-learn.org/stable/modules/linear_model.html#logistic-regression\n",
      "  n_iter_i = _check_optimize_result(\n",
      "/Users/anton/dev/MARS/correctness-model-internals/venv/lib/python3.11/site-packages/sklearn/linear_model/_logistic.py:469: ConvergenceWarning: lbfgs failed to converge (status=1):\n",
      "STOP: TOTAL NO. OF ITERATIONS REACHED LIMIT.\n",
      "\n",
      "Increase the number of iterations (max_iter) or scale the data as shown in:\n",
      "    https://scikit-learn.org/stable/modules/preprocessing.html\n",
      "Please also refer to the documentation for alternative solver options:\n",
      "    https://scikit-learn.org/stable/modules/linear_model.html#logistic-regression\n",
      "  n_iter_i = _check_optimize_result(\n",
      "/Users/anton/dev/MARS/correctness-model-internals/venv/lib/python3.11/site-packages/sklearn/linear_model/_logistic.py:469: ConvergenceWarning: lbfgs failed to converge (status=1):\n",
      "STOP: TOTAL NO. OF ITERATIONS REACHED LIMIT.\n",
      "\n",
      "Increase the number of iterations (max_iter) or scale the data as shown in:\n",
      "    https://scikit-learn.org/stable/modules/preprocessing.html\n",
      "Please also refer to the documentation for alternative solver options:\n",
      "    https://scikit-learn.org/stable/modules/linear_model.html#logistic-regression\n",
      "  n_iter_i = _check_optimize_result(\n",
      "/Users/anton/dev/MARS/correctness-model-internals/venv/lib/python3.11/site-packages/sklearn/linear_model/_logistic.py:469: ConvergenceWarning: lbfgs failed to converge (status=1):\n",
      "STOP: TOTAL NO. OF ITERATIONS REACHED LIMIT.\n",
      "\n",
      "Increase the number of iterations (max_iter) or scale the data as shown in:\n",
      "    https://scikit-learn.org/stable/modules/preprocessing.html\n",
      "Please also refer to the documentation for alternative solver options:\n",
      "    https://scikit-learn.org/stable/modules/linear_model.html#logistic-regression\n",
      "  n_iter_i = _check_optimize_result(\n"
     ]
    },
    {
     "name": "stdout",
     "output_type": "stream",
     "text": [
      "layer=18, "
     ]
    },
    {
     "name": "stderr",
     "output_type": "stream",
     "text": [
      "/Users/anton/dev/MARS/correctness-model-internals/venv/lib/python3.11/site-packages/sklearn/linear_model/_logistic.py:469: ConvergenceWarning: lbfgs failed to converge (status=1):\n",
      "STOP: TOTAL NO. OF ITERATIONS REACHED LIMIT.\n",
      "\n",
      "Increase the number of iterations (max_iter) or scale the data as shown in:\n",
      "    https://scikit-learn.org/stable/modules/preprocessing.html\n",
      "Please also refer to the documentation for alternative solver options:\n",
      "    https://scikit-learn.org/stable/modules/linear_model.html#logistic-regression\n",
      "  n_iter_i = _check_optimize_result(\n",
      "/Users/anton/dev/MARS/correctness-model-internals/venv/lib/python3.11/site-packages/sklearn/linear_model/_logistic.py:469: ConvergenceWarning: lbfgs failed to converge (status=1):\n",
      "STOP: TOTAL NO. OF ITERATIONS REACHED LIMIT.\n",
      "\n",
      "Increase the number of iterations (max_iter) or scale the data as shown in:\n",
      "    https://scikit-learn.org/stable/modules/preprocessing.html\n",
      "Please also refer to the documentation for alternative solver options:\n",
      "    https://scikit-learn.org/stable/modules/linear_model.html#logistic-regression\n",
      "  n_iter_i = _check_optimize_result(\n",
      "/Users/anton/dev/MARS/correctness-model-internals/venv/lib/python3.11/site-packages/sklearn/linear_model/_logistic.py:469: ConvergenceWarning: lbfgs failed to converge (status=1):\n",
      "STOP: TOTAL NO. OF ITERATIONS REACHED LIMIT.\n",
      "\n",
      "Increase the number of iterations (max_iter) or scale the data as shown in:\n",
      "    https://scikit-learn.org/stable/modules/preprocessing.html\n",
      "Please also refer to the documentation for alternative solver options:\n",
      "    https://scikit-learn.org/stable/modules/linear_model.html#logistic-regression\n",
      "  n_iter_i = _check_optimize_result(\n",
      "/Users/anton/dev/MARS/correctness-model-internals/venv/lib/python3.11/site-packages/sklearn/linear_model/_logistic.py:469: ConvergenceWarning: lbfgs failed to converge (status=1):\n",
      "STOP: TOTAL NO. OF ITERATIONS REACHED LIMIT.\n",
      "\n",
      "Increase the number of iterations (max_iter) or scale the data as shown in:\n",
      "    https://scikit-learn.org/stable/modules/preprocessing.html\n",
      "Please also refer to the documentation for alternative solver options:\n",
      "    https://scikit-learn.org/stable/modules/linear_model.html#logistic-regression\n",
      "  n_iter_i = _check_optimize_result(\n",
      "/Users/anton/dev/MARS/correctness-model-internals/venv/lib/python3.11/site-packages/sklearn/linear_model/_logistic.py:469: ConvergenceWarning: lbfgs failed to converge (status=1):\n",
      "STOP: TOTAL NO. OF ITERATIONS REACHED LIMIT.\n",
      "\n",
      "Increase the number of iterations (max_iter) or scale the data as shown in:\n",
      "    https://scikit-learn.org/stable/modules/preprocessing.html\n",
      "Please also refer to the documentation for alternative solver options:\n",
      "    https://scikit-learn.org/stable/modules/linear_model.html#logistic-regression\n",
      "  n_iter_i = _check_optimize_result(\n"
     ]
    },
    {
     "name": "stdout",
     "output_type": "stream",
     "text": [
      "layer=19, "
     ]
    },
    {
     "name": "stderr",
     "output_type": "stream",
     "text": [
      "/Users/anton/dev/MARS/correctness-model-internals/venv/lib/python3.11/site-packages/sklearn/linear_model/_logistic.py:469: ConvergenceWarning: lbfgs failed to converge (status=1):\n",
      "STOP: TOTAL NO. OF ITERATIONS REACHED LIMIT.\n",
      "\n",
      "Increase the number of iterations (max_iter) or scale the data as shown in:\n",
      "    https://scikit-learn.org/stable/modules/preprocessing.html\n",
      "Please also refer to the documentation for alternative solver options:\n",
      "    https://scikit-learn.org/stable/modules/linear_model.html#logistic-regression\n",
      "  n_iter_i = _check_optimize_result(\n",
      "/Users/anton/dev/MARS/correctness-model-internals/venv/lib/python3.11/site-packages/sklearn/linear_model/_logistic.py:469: ConvergenceWarning: lbfgs failed to converge (status=1):\n",
      "STOP: TOTAL NO. OF ITERATIONS REACHED LIMIT.\n",
      "\n",
      "Increase the number of iterations (max_iter) or scale the data as shown in:\n",
      "    https://scikit-learn.org/stable/modules/preprocessing.html\n",
      "Please also refer to the documentation for alternative solver options:\n",
      "    https://scikit-learn.org/stable/modules/linear_model.html#logistic-regression\n",
      "  n_iter_i = _check_optimize_result(\n",
      "/Users/anton/dev/MARS/correctness-model-internals/venv/lib/python3.11/site-packages/sklearn/linear_model/_logistic.py:469: ConvergenceWarning: lbfgs failed to converge (status=1):\n",
      "STOP: TOTAL NO. OF ITERATIONS REACHED LIMIT.\n",
      "\n",
      "Increase the number of iterations (max_iter) or scale the data as shown in:\n",
      "    https://scikit-learn.org/stable/modules/preprocessing.html\n",
      "Please also refer to the documentation for alternative solver options:\n",
      "    https://scikit-learn.org/stable/modules/linear_model.html#logistic-regression\n",
      "  n_iter_i = _check_optimize_result(\n",
      "/Users/anton/dev/MARS/correctness-model-internals/venv/lib/python3.11/site-packages/sklearn/linear_model/_logistic.py:469: ConvergenceWarning: lbfgs failed to converge (status=1):\n",
      "STOP: TOTAL NO. OF ITERATIONS REACHED LIMIT.\n",
      "\n",
      "Increase the number of iterations (max_iter) or scale the data as shown in:\n",
      "    https://scikit-learn.org/stable/modules/preprocessing.html\n",
      "Please also refer to the documentation for alternative solver options:\n",
      "    https://scikit-learn.org/stable/modules/linear_model.html#logistic-regression\n",
      "  n_iter_i = _check_optimize_result(\n",
      "/Users/anton/dev/MARS/correctness-model-internals/venv/lib/python3.11/site-packages/sklearn/linear_model/_logistic.py:469: ConvergenceWarning: lbfgs failed to converge (status=1):\n",
      "STOP: TOTAL NO. OF ITERATIONS REACHED LIMIT.\n",
      "\n",
      "Increase the number of iterations (max_iter) or scale the data as shown in:\n",
      "    https://scikit-learn.org/stable/modules/preprocessing.html\n",
      "Please also refer to the documentation for alternative solver options:\n",
      "    https://scikit-learn.org/stable/modules/linear_model.html#logistic-regression\n",
      "  n_iter_i = _check_optimize_result(\n"
     ]
    },
    {
     "name": "stdout",
     "output_type": "stream",
     "text": [
      "layer=20, "
     ]
    },
    {
     "name": "stderr",
     "output_type": "stream",
     "text": [
      "/Users/anton/dev/MARS/correctness-model-internals/venv/lib/python3.11/site-packages/sklearn/linear_model/_logistic.py:469: ConvergenceWarning: lbfgs failed to converge (status=1):\n",
      "STOP: TOTAL NO. OF ITERATIONS REACHED LIMIT.\n",
      "\n",
      "Increase the number of iterations (max_iter) or scale the data as shown in:\n",
      "    https://scikit-learn.org/stable/modules/preprocessing.html\n",
      "Please also refer to the documentation for alternative solver options:\n",
      "    https://scikit-learn.org/stable/modules/linear_model.html#logistic-regression\n",
      "  n_iter_i = _check_optimize_result(\n",
      "/Users/anton/dev/MARS/correctness-model-internals/venv/lib/python3.11/site-packages/sklearn/linear_model/_logistic.py:469: ConvergenceWarning: lbfgs failed to converge (status=1):\n",
      "STOP: TOTAL NO. OF ITERATIONS REACHED LIMIT.\n",
      "\n",
      "Increase the number of iterations (max_iter) or scale the data as shown in:\n",
      "    https://scikit-learn.org/stable/modules/preprocessing.html\n",
      "Please also refer to the documentation for alternative solver options:\n",
      "    https://scikit-learn.org/stable/modules/linear_model.html#logistic-regression\n",
      "  n_iter_i = _check_optimize_result(\n",
      "/Users/anton/dev/MARS/correctness-model-internals/venv/lib/python3.11/site-packages/sklearn/linear_model/_logistic.py:469: ConvergenceWarning: lbfgs failed to converge (status=1):\n",
      "STOP: TOTAL NO. OF ITERATIONS REACHED LIMIT.\n",
      "\n",
      "Increase the number of iterations (max_iter) or scale the data as shown in:\n",
      "    https://scikit-learn.org/stable/modules/preprocessing.html\n",
      "Please also refer to the documentation for alternative solver options:\n",
      "    https://scikit-learn.org/stable/modules/linear_model.html#logistic-regression\n",
      "  n_iter_i = _check_optimize_result(\n",
      "/Users/anton/dev/MARS/correctness-model-internals/venv/lib/python3.11/site-packages/sklearn/linear_model/_logistic.py:469: ConvergenceWarning: lbfgs failed to converge (status=1):\n",
      "STOP: TOTAL NO. OF ITERATIONS REACHED LIMIT.\n",
      "\n",
      "Increase the number of iterations (max_iter) or scale the data as shown in:\n",
      "    https://scikit-learn.org/stable/modules/preprocessing.html\n",
      "Please also refer to the documentation for alternative solver options:\n",
      "    https://scikit-learn.org/stable/modules/linear_model.html#logistic-regression\n",
      "  n_iter_i = _check_optimize_result(\n",
      "/Users/anton/dev/MARS/correctness-model-internals/venv/lib/python3.11/site-packages/sklearn/linear_model/_logistic.py:469: ConvergenceWarning: lbfgs failed to converge (status=1):\n",
      "STOP: TOTAL NO. OF ITERATIONS REACHED LIMIT.\n",
      "\n",
      "Increase the number of iterations (max_iter) or scale the data as shown in:\n",
      "    https://scikit-learn.org/stable/modules/preprocessing.html\n",
      "Please also refer to the documentation for alternative solver options:\n",
      "    https://scikit-learn.org/stable/modules/linear_model.html#logistic-regression\n",
      "  n_iter_i = _check_optimize_result(\n"
     ]
    },
    {
     "name": "stdout",
     "output_type": "stream",
     "text": [
      "layer=21, "
     ]
    },
    {
     "name": "stderr",
     "output_type": "stream",
     "text": [
      "/Users/anton/dev/MARS/correctness-model-internals/venv/lib/python3.11/site-packages/sklearn/linear_model/_logistic.py:469: ConvergenceWarning: lbfgs failed to converge (status=1):\n",
      "STOP: TOTAL NO. OF ITERATIONS REACHED LIMIT.\n",
      "\n",
      "Increase the number of iterations (max_iter) or scale the data as shown in:\n",
      "    https://scikit-learn.org/stable/modules/preprocessing.html\n",
      "Please also refer to the documentation for alternative solver options:\n",
      "    https://scikit-learn.org/stable/modules/linear_model.html#logistic-regression\n",
      "  n_iter_i = _check_optimize_result(\n",
      "/Users/anton/dev/MARS/correctness-model-internals/venv/lib/python3.11/site-packages/sklearn/linear_model/_logistic.py:469: ConvergenceWarning: lbfgs failed to converge (status=1):\n",
      "STOP: TOTAL NO. OF ITERATIONS REACHED LIMIT.\n",
      "\n",
      "Increase the number of iterations (max_iter) or scale the data as shown in:\n",
      "    https://scikit-learn.org/stable/modules/preprocessing.html\n",
      "Please also refer to the documentation for alternative solver options:\n",
      "    https://scikit-learn.org/stable/modules/linear_model.html#logistic-regression\n",
      "  n_iter_i = _check_optimize_result(\n",
      "/Users/anton/dev/MARS/correctness-model-internals/venv/lib/python3.11/site-packages/sklearn/linear_model/_logistic.py:469: ConvergenceWarning: lbfgs failed to converge (status=1):\n",
      "STOP: TOTAL NO. OF ITERATIONS REACHED LIMIT.\n",
      "\n",
      "Increase the number of iterations (max_iter) or scale the data as shown in:\n",
      "    https://scikit-learn.org/stable/modules/preprocessing.html\n",
      "Please also refer to the documentation for alternative solver options:\n",
      "    https://scikit-learn.org/stable/modules/linear_model.html#logistic-regression\n",
      "  n_iter_i = _check_optimize_result(\n",
      "/Users/anton/dev/MARS/correctness-model-internals/venv/lib/python3.11/site-packages/sklearn/linear_model/_logistic.py:469: ConvergenceWarning: lbfgs failed to converge (status=1):\n",
      "STOP: TOTAL NO. OF ITERATIONS REACHED LIMIT.\n",
      "\n",
      "Increase the number of iterations (max_iter) or scale the data as shown in:\n",
      "    https://scikit-learn.org/stable/modules/preprocessing.html\n",
      "Please also refer to the documentation for alternative solver options:\n",
      "    https://scikit-learn.org/stable/modules/linear_model.html#logistic-regression\n",
      "  n_iter_i = _check_optimize_result(\n",
      "/Users/anton/dev/MARS/correctness-model-internals/venv/lib/python3.11/site-packages/sklearn/linear_model/_logistic.py:469: ConvergenceWarning: lbfgs failed to converge (status=1):\n",
      "STOP: TOTAL NO. OF ITERATIONS REACHED LIMIT.\n",
      "\n",
      "Increase the number of iterations (max_iter) or scale the data as shown in:\n",
      "    https://scikit-learn.org/stable/modules/preprocessing.html\n",
      "Please also refer to the documentation for alternative solver options:\n",
      "    https://scikit-learn.org/stable/modules/linear_model.html#logistic-regression\n",
      "  n_iter_i = _check_optimize_result(\n"
     ]
    },
    {
     "name": "stdout",
     "output_type": "stream",
     "text": [
      "layer=22, "
     ]
    },
    {
     "name": "stderr",
     "output_type": "stream",
     "text": [
      "/Users/anton/dev/MARS/correctness-model-internals/venv/lib/python3.11/site-packages/sklearn/linear_model/_logistic.py:469: ConvergenceWarning: lbfgs failed to converge (status=1):\n",
      "STOP: TOTAL NO. OF ITERATIONS REACHED LIMIT.\n",
      "\n",
      "Increase the number of iterations (max_iter) or scale the data as shown in:\n",
      "    https://scikit-learn.org/stable/modules/preprocessing.html\n",
      "Please also refer to the documentation for alternative solver options:\n",
      "    https://scikit-learn.org/stable/modules/linear_model.html#logistic-regression\n",
      "  n_iter_i = _check_optimize_result(\n",
      "/Users/anton/dev/MARS/correctness-model-internals/venv/lib/python3.11/site-packages/sklearn/linear_model/_logistic.py:469: ConvergenceWarning: lbfgs failed to converge (status=1):\n",
      "STOP: TOTAL NO. OF ITERATIONS REACHED LIMIT.\n",
      "\n",
      "Increase the number of iterations (max_iter) or scale the data as shown in:\n",
      "    https://scikit-learn.org/stable/modules/preprocessing.html\n",
      "Please also refer to the documentation for alternative solver options:\n",
      "    https://scikit-learn.org/stable/modules/linear_model.html#logistic-regression\n",
      "  n_iter_i = _check_optimize_result(\n",
      "/Users/anton/dev/MARS/correctness-model-internals/venv/lib/python3.11/site-packages/sklearn/linear_model/_logistic.py:469: ConvergenceWarning: lbfgs failed to converge (status=1):\n",
      "STOP: TOTAL NO. OF ITERATIONS REACHED LIMIT.\n",
      "\n",
      "Increase the number of iterations (max_iter) or scale the data as shown in:\n",
      "    https://scikit-learn.org/stable/modules/preprocessing.html\n",
      "Please also refer to the documentation for alternative solver options:\n",
      "    https://scikit-learn.org/stable/modules/linear_model.html#logistic-regression\n",
      "  n_iter_i = _check_optimize_result(\n",
      "/Users/anton/dev/MARS/correctness-model-internals/venv/lib/python3.11/site-packages/sklearn/linear_model/_logistic.py:469: ConvergenceWarning: lbfgs failed to converge (status=1):\n",
      "STOP: TOTAL NO. OF ITERATIONS REACHED LIMIT.\n",
      "\n",
      "Increase the number of iterations (max_iter) or scale the data as shown in:\n",
      "    https://scikit-learn.org/stable/modules/preprocessing.html\n",
      "Please also refer to the documentation for alternative solver options:\n",
      "    https://scikit-learn.org/stable/modules/linear_model.html#logistic-regression\n",
      "  n_iter_i = _check_optimize_result(\n",
      "/Users/anton/dev/MARS/correctness-model-internals/venv/lib/python3.11/site-packages/sklearn/linear_model/_logistic.py:469: ConvergenceWarning: lbfgs failed to converge (status=1):\n",
      "STOP: TOTAL NO. OF ITERATIONS REACHED LIMIT.\n",
      "\n",
      "Increase the number of iterations (max_iter) or scale the data as shown in:\n",
      "    https://scikit-learn.org/stable/modules/preprocessing.html\n",
      "Please also refer to the documentation for alternative solver options:\n",
      "    https://scikit-learn.org/stable/modules/linear_model.html#logistic-regression\n",
      "  n_iter_i = _check_optimize_result(\n"
     ]
    },
    {
     "name": "stdout",
     "output_type": "stream",
     "text": [
      "layer=23, "
     ]
    },
    {
     "name": "stderr",
     "output_type": "stream",
     "text": [
      "/Users/anton/dev/MARS/correctness-model-internals/venv/lib/python3.11/site-packages/sklearn/linear_model/_logistic.py:469: ConvergenceWarning: lbfgs failed to converge (status=1):\n",
      "STOP: TOTAL NO. OF ITERATIONS REACHED LIMIT.\n",
      "\n",
      "Increase the number of iterations (max_iter) or scale the data as shown in:\n",
      "    https://scikit-learn.org/stable/modules/preprocessing.html\n",
      "Please also refer to the documentation for alternative solver options:\n",
      "    https://scikit-learn.org/stable/modules/linear_model.html#logistic-regression\n",
      "  n_iter_i = _check_optimize_result(\n",
      "/Users/anton/dev/MARS/correctness-model-internals/venv/lib/python3.11/site-packages/sklearn/linear_model/_logistic.py:469: ConvergenceWarning: lbfgs failed to converge (status=1):\n",
      "STOP: TOTAL NO. OF ITERATIONS REACHED LIMIT.\n",
      "\n",
      "Increase the number of iterations (max_iter) or scale the data as shown in:\n",
      "    https://scikit-learn.org/stable/modules/preprocessing.html\n",
      "Please also refer to the documentation for alternative solver options:\n",
      "    https://scikit-learn.org/stable/modules/linear_model.html#logistic-regression\n",
      "  n_iter_i = _check_optimize_result(\n",
      "/Users/anton/dev/MARS/correctness-model-internals/venv/lib/python3.11/site-packages/sklearn/linear_model/_logistic.py:469: ConvergenceWarning: lbfgs failed to converge (status=1):\n",
      "STOP: TOTAL NO. OF ITERATIONS REACHED LIMIT.\n",
      "\n",
      "Increase the number of iterations (max_iter) or scale the data as shown in:\n",
      "    https://scikit-learn.org/stable/modules/preprocessing.html\n",
      "Please also refer to the documentation for alternative solver options:\n",
      "    https://scikit-learn.org/stable/modules/linear_model.html#logistic-regression\n",
      "  n_iter_i = _check_optimize_result(\n",
      "/Users/anton/dev/MARS/correctness-model-internals/venv/lib/python3.11/site-packages/sklearn/linear_model/_logistic.py:469: ConvergenceWarning: lbfgs failed to converge (status=1):\n",
      "STOP: TOTAL NO. OF ITERATIONS REACHED LIMIT.\n",
      "\n",
      "Increase the number of iterations (max_iter) or scale the data as shown in:\n",
      "    https://scikit-learn.org/stable/modules/preprocessing.html\n",
      "Please also refer to the documentation for alternative solver options:\n",
      "    https://scikit-learn.org/stable/modules/linear_model.html#logistic-regression\n",
      "  n_iter_i = _check_optimize_result(\n",
      "/Users/anton/dev/MARS/correctness-model-internals/venv/lib/python3.11/site-packages/sklearn/linear_model/_logistic.py:469: ConvergenceWarning: lbfgs failed to converge (status=1):\n",
      "STOP: TOTAL NO. OF ITERATIONS REACHED LIMIT.\n",
      "\n",
      "Increase the number of iterations (max_iter) or scale the data as shown in:\n",
      "    https://scikit-learn.org/stable/modules/preprocessing.html\n",
      "Please also refer to the documentation for alternative solver options:\n",
      "    https://scikit-learn.org/stable/modules/linear_model.html#logistic-regression\n",
      "  n_iter_i = _check_optimize_result(\n"
     ]
    },
    {
     "name": "stdout",
     "output_type": "stream",
     "text": [
      "layer=24, "
     ]
    },
    {
     "name": "stderr",
     "output_type": "stream",
     "text": [
      "/Users/anton/dev/MARS/correctness-model-internals/venv/lib/python3.11/site-packages/sklearn/linear_model/_logistic.py:469: ConvergenceWarning: lbfgs failed to converge (status=1):\n",
      "STOP: TOTAL NO. OF ITERATIONS REACHED LIMIT.\n",
      "\n",
      "Increase the number of iterations (max_iter) or scale the data as shown in:\n",
      "    https://scikit-learn.org/stable/modules/preprocessing.html\n",
      "Please also refer to the documentation for alternative solver options:\n",
      "    https://scikit-learn.org/stable/modules/linear_model.html#logistic-regression\n",
      "  n_iter_i = _check_optimize_result(\n",
      "/Users/anton/dev/MARS/correctness-model-internals/venv/lib/python3.11/site-packages/sklearn/linear_model/_logistic.py:469: ConvergenceWarning: lbfgs failed to converge (status=1):\n",
      "STOP: TOTAL NO. OF ITERATIONS REACHED LIMIT.\n",
      "\n",
      "Increase the number of iterations (max_iter) or scale the data as shown in:\n",
      "    https://scikit-learn.org/stable/modules/preprocessing.html\n",
      "Please also refer to the documentation for alternative solver options:\n",
      "    https://scikit-learn.org/stable/modules/linear_model.html#logistic-regression\n",
      "  n_iter_i = _check_optimize_result(\n",
      "/Users/anton/dev/MARS/correctness-model-internals/venv/lib/python3.11/site-packages/sklearn/linear_model/_logistic.py:469: ConvergenceWarning: lbfgs failed to converge (status=1):\n",
      "STOP: TOTAL NO. OF ITERATIONS REACHED LIMIT.\n",
      "\n",
      "Increase the number of iterations (max_iter) or scale the data as shown in:\n",
      "    https://scikit-learn.org/stable/modules/preprocessing.html\n",
      "Please also refer to the documentation for alternative solver options:\n",
      "    https://scikit-learn.org/stable/modules/linear_model.html#logistic-regression\n",
      "  n_iter_i = _check_optimize_result(\n",
      "/Users/anton/dev/MARS/correctness-model-internals/venv/lib/python3.11/site-packages/sklearn/linear_model/_logistic.py:469: ConvergenceWarning: lbfgs failed to converge (status=1):\n",
      "STOP: TOTAL NO. OF ITERATIONS REACHED LIMIT.\n",
      "\n",
      "Increase the number of iterations (max_iter) or scale the data as shown in:\n",
      "    https://scikit-learn.org/stable/modules/preprocessing.html\n",
      "Please also refer to the documentation for alternative solver options:\n",
      "    https://scikit-learn.org/stable/modules/linear_model.html#logistic-regression\n",
      "  n_iter_i = _check_optimize_result(\n"
     ]
    },
    {
     "name": "stdout",
     "output_type": "stream",
     "text": [
      "layer=25, "
     ]
    },
    {
     "name": "stderr",
     "output_type": "stream",
     "text": [
      "/Users/anton/dev/MARS/correctness-model-internals/venv/lib/python3.11/site-packages/sklearn/linear_model/_logistic.py:469: ConvergenceWarning: lbfgs failed to converge (status=1):\n",
      "STOP: TOTAL NO. OF ITERATIONS REACHED LIMIT.\n",
      "\n",
      "Increase the number of iterations (max_iter) or scale the data as shown in:\n",
      "    https://scikit-learn.org/stable/modules/preprocessing.html\n",
      "Please also refer to the documentation for alternative solver options:\n",
      "    https://scikit-learn.org/stable/modules/linear_model.html#logistic-regression\n",
      "  n_iter_i = _check_optimize_result(\n",
      "/Users/anton/dev/MARS/correctness-model-internals/venv/lib/python3.11/site-packages/sklearn/linear_model/_logistic.py:469: ConvergenceWarning: lbfgs failed to converge (status=1):\n",
      "STOP: TOTAL NO. OF ITERATIONS REACHED LIMIT.\n",
      "\n",
      "Increase the number of iterations (max_iter) or scale the data as shown in:\n",
      "    https://scikit-learn.org/stable/modules/preprocessing.html\n",
      "Please also refer to the documentation for alternative solver options:\n",
      "    https://scikit-learn.org/stable/modules/linear_model.html#logistic-regression\n",
      "  n_iter_i = _check_optimize_result(\n",
      "/Users/anton/dev/MARS/correctness-model-internals/venv/lib/python3.11/site-packages/sklearn/linear_model/_logistic.py:469: ConvergenceWarning: lbfgs failed to converge (status=1):\n",
      "STOP: TOTAL NO. OF ITERATIONS REACHED LIMIT.\n",
      "\n",
      "Increase the number of iterations (max_iter) or scale the data as shown in:\n",
      "    https://scikit-learn.org/stable/modules/preprocessing.html\n",
      "Please also refer to the documentation for alternative solver options:\n",
      "    https://scikit-learn.org/stable/modules/linear_model.html#logistic-regression\n",
      "  n_iter_i = _check_optimize_result(\n",
      "/Users/anton/dev/MARS/correctness-model-internals/venv/lib/python3.11/site-packages/sklearn/linear_model/_logistic.py:469: ConvergenceWarning: lbfgs failed to converge (status=1):\n",
      "STOP: TOTAL NO. OF ITERATIONS REACHED LIMIT.\n",
      "\n",
      "Increase the number of iterations (max_iter) or scale the data as shown in:\n",
      "    https://scikit-learn.org/stable/modules/preprocessing.html\n",
      "Please also refer to the documentation for alternative solver options:\n",
      "    https://scikit-learn.org/stable/modules/linear_model.html#logistic-regression\n",
      "  n_iter_i = _check_optimize_result(\n",
      "/Users/anton/dev/MARS/correctness-model-internals/venv/lib/python3.11/site-packages/sklearn/linear_model/_logistic.py:469: ConvergenceWarning: lbfgs failed to converge (status=1):\n",
      "STOP: TOTAL NO. OF ITERATIONS REACHED LIMIT.\n",
      "\n",
      "Increase the number of iterations (max_iter) or scale the data as shown in:\n",
      "    https://scikit-learn.org/stable/modules/preprocessing.html\n",
      "Please also refer to the documentation for alternative solver options:\n",
      "    https://scikit-learn.org/stable/modules/linear_model.html#logistic-regression\n",
      "  n_iter_i = _check_optimize_result(\n"
     ]
    },
    {
     "name": "stdout",
     "output_type": "stream",
     "text": [
      "layer=26, "
     ]
    },
    {
     "name": "stderr",
     "output_type": "stream",
     "text": [
      "/Users/anton/dev/MARS/correctness-model-internals/venv/lib/python3.11/site-packages/sklearn/linear_model/_logistic.py:469: ConvergenceWarning: lbfgs failed to converge (status=1):\n",
      "STOP: TOTAL NO. OF ITERATIONS REACHED LIMIT.\n",
      "\n",
      "Increase the number of iterations (max_iter) or scale the data as shown in:\n",
      "    https://scikit-learn.org/stable/modules/preprocessing.html\n",
      "Please also refer to the documentation for alternative solver options:\n",
      "    https://scikit-learn.org/stable/modules/linear_model.html#logistic-regression\n",
      "  n_iter_i = _check_optimize_result(\n",
      "/Users/anton/dev/MARS/correctness-model-internals/venv/lib/python3.11/site-packages/sklearn/linear_model/_logistic.py:469: ConvergenceWarning: lbfgs failed to converge (status=1):\n",
      "STOP: TOTAL NO. OF ITERATIONS REACHED LIMIT.\n",
      "\n",
      "Increase the number of iterations (max_iter) or scale the data as shown in:\n",
      "    https://scikit-learn.org/stable/modules/preprocessing.html\n",
      "Please also refer to the documentation for alternative solver options:\n",
      "    https://scikit-learn.org/stable/modules/linear_model.html#logistic-regression\n",
      "  n_iter_i = _check_optimize_result(\n",
      "/Users/anton/dev/MARS/correctness-model-internals/venv/lib/python3.11/site-packages/sklearn/linear_model/_logistic.py:469: ConvergenceWarning: lbfgs failed to converge (status=1):\n",
      "STOP: TOTAL NO. OF ITERATIONS REACHED LIMIT.\n",
      "\n",
      "Increase the number of iterations (max_iter) or scale the data as shown in:\n",
      "    https://scikit-learn.org/stable/modules/preprocessing.html\n",
      "Please also refer to the documentation for alternative solver options:\n",
      "    https://scikit-learn.org/stable/modules/linear_model.html#logistic-regression\n",
      "  n_iter_i = _check_optimize_result(\n",
      "/Users/anton/dev/MARS/correctness-model-internals/venv/lib/python3.11/site-packages/sklearn/linear_model/_logistic.py:469: ConvergenceWarning: lbfgs failed to converge (status=1):\n",
      "STOP: TOTAL NO. OF ITERATIONS REACHED LIMIT.\n",
      "\n",
      "Increase the number of iterations (max_iter) or scale the data as shown in:\n",
      "    https://scikit-learn.org/stable/modules/preprocessing.html\n",
      "Please also refer to the documentation for alternative solver options:\n",
      "    https://scikit-learn.org/stable/modules/linear_model.html#logistic-regression\n",
      "  n_iter_i = _check_optimize_result(\n",
      "/Users/anton/dev/MARS/correctness-model-internals/venv/lib/python3.11/site-packages/sklearn/linear_model/_logistic.py:469: ConvergenceWarning: lbfgs failed to converge (status=1):\n",
      "STOP: TOTAL NO. OF ITERATIONS REACHED LIMIT.\n",
      "\n",
      "Increase the number of iterations (max_iter) or scale the data as shown in:\n",
      "    https://scikit-learn.org/stable/modules/preprocessing.html\n",
      "Please also refer to the documentation for alternative solver options:\n",
      "    https://scikit-learn.org/stable/modules/linear_model.html#logistic-regression\n",
      "  n_iter_i = _check_optimize_result(\n"
     ]
    },
    {
     "name": "stdout",
     "output_type": "stream",
     "text": [
      "layer=27, "
     ]
    },
    {
     "name": "stderr",
     "output_type": "stream",
     "text": [
      "/Users/anton/dev/MARS/correctness-model-internals/venv/lib/python3.11/site-packages/sklearn/linear_model/_logistic.py:469: ConvergenceWarning: lbfgs failed to converge (status=1):\n",
      "STOP: TOTAL NO. OF ITERATIONS REACHED LIMIT.\n",
      "\n",
      "Increase the number of iterations (max_iter) or scale the data as shown in:\n",
      "    https://scikit-learn.org/stable/modules/preprocessing.html\n",
      "Please also refer to the documentation for alternative solver options:\n",
      "    https://scikit-learn.org/stable/modules/linear_model.html#logistic-regression\n",
      "  n_iter_i = _check_optimize_result(\n",
      "/Users/anton/dev/MARS/correctness-model-internals/venv/lib/python3.11/site-packages/sklearn/linear_model/_logistic.py:469: ConvergenceWarning: lbfgs failed to converge (status=1):\n",
      "STOP: TOTAL NO. OF ITERATIONS REACHED LIMIT.\n",
      "\n",
      "Increase the number of iterations (max_iter) or scale the data as shown in:\n",
      "    https://scikit-learn.org/stable/modules/preprocessing.html\n",
      "Please also refer to the documentation for alternative solver options:\n",
      "    https://scikit-learn.org/stable/modules/linear_model.html#logistic-regression\n",
      "  n_iter_i = _check_optimize_result(\n",
      "/Users/anton/dev/MARS/correctness-model-internals/venv/lib/python3.11/site-packages/sklearn/linear_model/_logistic.py:469: ConvergenceWarning: lbfgs failed to converge (status=1):\n",
      "STOP: TOTAL NO. OF ITERATIONS REACHED LIMIT.\n",
      "\n",
      "Increase the number of iterations (max_iter) or scale the data as shown in:\n",
      "    https://scikit-learn.org/stable/modules/preprocessing.html\n",
      "Please also refer to the documentation for alternative solver options:\n",
      "    https://scikit-learn.org/stable/modules/linear_model.html#logistic-regression\n",
      "  n_iter_i = _check_optimize_result(\n",
      "/Users/anton/dev/MARS/correctness-model-internals/venv/lib/python3.11/site-packages/sklearn/linear_model/_logistic.py:469: ConvergenceWarning: lbfgs failed to converge (status=1):\n",
      "STOP: TOTAL NO. OF ITERATIONS REACHED LIMIT.\n",
      "\n",
      "Increase the number of iterations (max_iter) or scale the data as shown in:\n",
      "    https://scikit-learn.org/stable/modules/preprocessing.html\n",
      "Please also refer to the documentation for alternative solver options:\n",
      "    https://scikit-learn.org/stable/modules/linear_model.html#logistic-regression\n",
      "  n_iter_i = _check_optimize_result(\n",
      "/Users/anton/dev/MARS/correctness-model-internals/venv/lib/python3.11/site-packages/sklearn/linear_model/_logistic.py:469: ConvergenceWarning: lbfgs failed to converge (status=1):\n",
      "STOP: TOTAL NO. OF ITERATIONS REACHED LIMIT.\n",
      "\n",
      "Increase the number of iterations (max_iter) or scale the data as shown in:\n",
      "    https://scikit-learn.org/stable/modules/preprocessing.html\n",
      "Please also refer to the documentation for alternative solver options:\n",
      "    https://scikit-learn.org/stable/modules/linear_model.html#logistic-regression\n",
      "  n_iter_i = _check_optimize_result(\n"
     ]
    },
    {
     "name": "stdout",
     "output_type": "stream",
     "text": [
      "layer=28, "
     ]
    },
    {
     "name": "stderr",
     "output_type": "stream",
     "text": [
      "/Users/anton/dev/MARS/correctness-model-internals/venv/lib/python3.11/site-packages/sklearn/linear_model/_logistic.py:469: ConvergenceWarning: lbfgs failed to converge (status=1):\n",
      "STOP: TOTAL NO. OF ITERATIONS REACHED LIMIT.\n",
      "\n",
      "Increase the number of iterations (max_iter) or scale the data as shown in:\n",
      "    https://scikit-learn.org/stable/modules/preprocessing.html\n",
      "Please also refer to the documentation for alternative solver options:\n",
      "    https://scikit-learn.org/stable/modules/linear_model.html#logistic-regression\n",
      "  n_iter_i = _check_optimize_result(\n",
      "/Users/anton/dev/MARS/correctness-model-internals/venv/lib/python3.11/site-packages/sklearn/linear_model/_logistic.py:469: ConvergenceWarning: lbfgs failed to converge (status=1):\n",
      "STOP: TOTAL NO. OF ITERATIONS REACHED LIMIT.\n",
      "\n",
      "Increase the number of iterations (max_iter) or scale the data as shown in:\n",
      "    https://scikit-learn.org/stable/modules/preprocessing.html\n",
      "Please also refer to the documentation for alternative solver options:\n",
      "    https://scikit-learn.org/stable/modules/linear_model.html#logistic-regression\n",
      "  n_iter_i = _check_optimize_result(\n",
      "/Users/anton/dev/MARS/correctness-model-internals/venv/lib/python3.11/site-packages/sklearn/linear_model/_logistic.py:469: ConvergenceWarning: lbfgs failed to converge (status=1):\n",
      "STOP: TOTAL NO. OF ITERATIONS REACHED LIMIT.\n",
      "\n",
      "Increase the number of iterations (max_iter) or scale the data as shown in:\n",
      "    https://scikit-learn.org/stable/modules/preprocessing.html\n",
      "Please also refer to the documentation for alternative solver options:\n",
      "    https://scikit-learn.org/stable/modules/linear_model.html#logistic-regression\n",
      "  n_iter_i = _check_optimize_result(\n",
      "/Users/anton/dev/MARS/correctness-model-internals/venv/lib/python3.11/site-packages/sklearn/linear_model/_logistic.py:469: ConvergenceWarning: lbfgs failed to converge (status=1):\n",
      "STOP: TOTAL NO. OF ITERATIONS REACHED LIMIT.\n",
      "\n",
      "Increase the number of iterations (max_iter) or scale the data as shown in:\n",
      "    https://scikit-learn.org/stable/modules/preprocessing.html\n",
      "Please also refer to the documentation for alternative solver options:\n",
      "    https://scikit-learn.org/stable/modules/linear_model.html#logistic-regression\n",
      "  n_iter_i = _check_optimize_result(\n",
      "/Users/anton/dev/MARS/correctness-model-internals/venv/lib/python3.11/site-packages/sklearn/linear_model/_logistic.py:469: ConvergenceWarning: lbfgs failed to converge (status=1):\n",
      "STOP: TOTAL NO. OF ITERATIONS REACHED LIMIT.\n",
      "\n",
      "Increase the number of iterations (max_iter) or scale the data as shown in:\n",
      "    https://scikit-learn.org/stable/modules/preprocessing.html\n",
      "Please also refer to the documentation for alternative solver options:\n",
      "    https://scikit-learn.org/stable/modules/linear_model.html#logistic-regression\n",
      "  n_iter_i = _check_optimize_result(\n"
     ]
    },
    {
     "name": "stdout",
     "output_type": "stream",
     "text": [
      "layer=29, "
     ]
    },
    {
     "name": "stderr",
     "output_type": "stream",
     "text": [
      "/Users/anton/dev/MARS/correctness-model-internals/venv/lib/python3.11/site-packages/sklearn/linear_model/_logistic.py:469: ConvergenceWarning: lbfgs failed to converge (status=1):\n",
      "STOP: TOTAL NO. OF ITERATIONS REACHED LIMIT.\n",
      "\n",
      "Increase the number of iterations (max_iter) or scale the data as shown in:\n",
      "    https://scikit-learn.org/stable/modules/preprocessing.html\n",
      "Please also refer to the documentation for alternative solver options:\n",
      "    https://scikit-learn.org/stable/modules/linear_model.html#logistic-regression\n",
      "  n_iter_i = _check_optimize_result(\n",
      "/Users/anton/dev/MARS/correctness-model-internals/venv/lib/python3.11/site-packages/sklearn/linear_model/_logistic.py:469: ConvergenceWarning: lbfgs failed to converge (status=1):\n",
      "STOP: TOTAL NO. OF ITERATIONS REACHED LIMIT.\n",
      "\n",
      "Increase the number of iterations (max_iter) or scale the data as shown in:\n",
      "    https://scikit-learn.org/stable/modules/preprocessing.html\n",
      "Please also refer to the documentation for alternative solver options:\n",
      "    https://scikit-learn.org/stable/modules/linear_model.html#logistic-regression\n",
      "  n_iter_i = _check_optimize_result(\n",
      "/Users/anton/dev/MARS/correctness-model-internals/venv/lib/python3.11/site-packages/sklearn/linear_model/_logistic.py:469: ConvergenceWarning: lbfgs failed to converge (status=1):\n",
      "STOP: TOTAL NO. OF ITERATIONS REACHED LIMIT.\n",
      "\n",
      "Increase the number of iterations (max_iter) or scale the data as shown in:\n",
      "    https://scikit-learn.org/stable/modules/preprocessing.html\n",
      "Please also refer to the documentation for alternative solver options:\n",
      "    https://scikit-learn.org/stable/modules/linear_model.html#logistic-regression\n",
      "  n_iter_i = _check_optimize_result(\n",
      "/Users/anton/dev/MARS/correctness-model-internals/venv/lib/python3.11/site-packages/sklearn/linear_model/_logistic.py:469: ConvergenceWarning: lbfgs failed to converge (status=1):\n",
      "STOP: TOTAL NO. OF ITERATIONS REACHED LIMIT.\n",
      "\n",
      "Increase the number of iterations (max_iter) or scale the data as shown in:\n",
      "    https://scikit-learn.org/stable/modules/preprocessing.html\n",
      "Please also refer to the documentation for alternative solver options:\n",
      "    https://scikit-learn.org/stable/modules/linear_model.html#logistic-regression\n",
      "  n_iter_i = _check_optimize_result(\n",
      "/Users/anton/dev/MARS/correctness-model-internals/venv/lib/python3.11/site-packages/sklearn/linear_model/_logistic.py:469: ConvergenceWarning: lbfgs failed to converge (status=1):\n",
      "STOP: TOTAL NO. OF ITERATIONS REACHED LIMIT.\n",
      "\n",
      "Increase the number of iterations (max_iter) or scale the data as shown in:\n",
      "    https://scikit-learn.org/stable/modules/preprocessing.html\n",
      "Please also refer to the documentation for alternative solver options:\n",
      "    https://scikit-learn.org/stable/modules/linear_model.html#logistic-regression\n",
      "  n_iter_i = _check_optimize_result(\n"
     ]
    },
    {
     "name": "stdout",
     "output_type": "stream",
     "text": [
      "layer=30, "
     ]
    },
    {
     "name": "stderr",
     "output_type": "stream",
     "text": [
      "/Users/anton/dev/MARS/correctness-model-internals/venv/lib/python3.11/site-packages/sklearn/linear_model/_logistic.py:469: ConvergenceWarning: lbfgs failed to converge (status=1):\n",
      "STOP: TOTAL NO. OF ITERATIONS REACHED LIMIT.\n",
      "\n",
      "Increase the number of iterations (max_iter) or scale the data as shown in:\n",
      "    https://scikit-learn.org/stable/modules/preprocessing.html\n",
      "Please also refer to the documentation for alternative solver options:\n",
      "    https://scikit-learn.org/stable/modules/linear_model.html#logistic-regression\n",
      "  n_iter_i = _check_optimize_result(\n",
      "/Users/anton/dev/MARS/correctness-model-internals/venv/lib/python3.11/site-packages/sklearn/linear_model/_logistic.py:469: ConvergenceWarning: lbfgs failed to converge (status=1):\n",
      "STOP: TOTAL NO. OF ITERATIONS REACHED LIMIT.\n",
      "\n",
      "Increase the number of iterations (max_iter) or scale the data as shown in:\n",
      "    https://scikit-learn.org/stable/modules/preprocessing.html\n",
      "Please also refer to the documentation for alternative solver options:\n",
      "    https://scikit-learn.org/stable/modules/linear_model.html#logistic-regression\n",
      "  n_iter_i = _check_optimize_result(\n",
      "/Users/anton/dev/MARS/correctness-model-internals/venv/lib/python3.11/site-packages/sklearn/linear_model/_logistic.py:469: ConvergenceWarning: lbfgs failed to converge (status=1):\n",
      "STOP: TOTAL NO. OF ITERATIONS REACHED LIMIT.\n",
      "\n",
      "Increase the number of iterations (max_iter) or scale the data as shown in:\n",
      "    https://scikit-learn.org/stable/modules/preprocessing.html\n",
      "Please also refer to the documentation for alternative solver options:\n",
      "    https://scikit-learn.org/stable/modules/linear_model.html#logistic-regression\n",
      "  n_iter_i = _check_optimize_result(\n",
      "/Users/anton/dev/MARS/correctness-model-internals/venv/lib/python3.11/site-packages/sklearn/linear_model/_logistic.py:469: ConvergenceWarning: lbfgs failed to converge (status=1):\n",
      "STOP: TOTAL NO. OF ITERATIONS REACHED LIMIT.\n",
      "\n",
      "Increase the number of iterations (max_iter) or scale the data as shown in:\n",
      "    https://scikit-learn.org/stable/modules/preprocessing.html\n",
      "Please also refer to the documentation for alternative solver options:\n",
      "    https://scikit-learn.org/stable/modules/linear_model.html#logistic-regression\n",
      "  n_iter_i = _check_optimize_result(\n",
      "/Users/anton/dev/MARS/correctness-model-internals/venv/lib/python3.11/site-packages/sklearn/linear_model/_logistic.py:469: ConvergenceWarning: lbfgs failed to converge (status=1):\n",
      "STOP: TOTAL NO. OF ITERATIONS REACHED LIMIT.\n",
      "\n",
      "Increase the number of iterations (max_iter) or scale the data as shown in:\n",
      "    https://scikit-learn.org/stable/modules/preprocessing.html\n",
      "Please also refer to the documentation for alternative solver options:\n",
      "    https://scikit-learn.org/stable/modules/linear_model.html#logistic-regression\n",
      "  n_iter_i = _check_optimize_result(\n"
     ]
    },
    {
     "name": "stdout",
     "output_type": "stream",
     "text": [
      "layer=31, "
     ]
    },
    {
     "name": "stderr",
     "output_type": "stream",
     "text": [
      "/Users/anton/dev/MARS/correctness-model-internals/venv/lib/python3.11/site-packages/sklearn/linear_model/_logistic.py:469: ConvergenceWarning: lbfgs failed to converge (status=1):\n",
      "STOP: TOTAL NO. OF ITERATIONS REACHED LIMIT.\n",
      "\n",
      "Increase the number of iterations (max_iter) or scale the data as shown in:\n",
      "    https://scikit-learn.org/stable/modules/preprocessing.html\n",
      "Please also refer to the documentation for alternative solver options:\n",
      "    https://scikit-learn.org/stable/modules/linear_model.html#logistic-regression\n",
      "  n_iter_i = _check_optimize_result(\n",
      "/Users/anton/dev/MARS/correctness-model-internals/venv/lib/python3.11/site-packages/sklearn/linear_model/_logistic.py:469: ConvergenceWarning: lbfgs failed to converge (status=1):\n",
      "STOP: TOTAL NO. OF ITERATIONS REACHED LIMIT.\n",
      "\n",
      "Increase the number of iterations (max_iter) or scale the data as shown in:\n",
      "    https://scikit-learn.org/stable/modules/preprocessing.html\n",
      "Please also refer to the documentation for alternative solver options:\n",
      "    https://scikit-learn.org/stable/modules/linear_model.html#logistic-regression\n",
      "  n_iter_i = _check_optimize_result(\n",
      "/Users/anton/dev/MARS/correctness-model-internals/venv/lib/python3.11/site-packages/sklearn/linear_model/_logistic.py:469: ConvergenceWarning: lbfgs failed to converge (status=1):\n",
      "STOP: TOTAL NO. OF ITERATIONS REACHED LIMIT.\n",
      "\n",
      "Increase the number of iterations (max_iter) or scale the data as shown in:\n",
      "    https://scikit-learn.org/stable/modules/preprocessing.html\n",
      "Please also refer to the documentation for alternative solver options:\n",
      "    https://scikit-learn.org/stable/modules/linear_model.html#logistic-regression\n",
      "  n_iter_i = _check_optimize_result(\n",
      "/Users/anton/dev/MARS/correctness-model-internals/venv/lib/python3.11/site-packages/sklearn/linear_model/_logistic.py:469: ConvergenceWarning: lbfgs failed to converge (status=1):\n",
      "STOP: TOTAL NO. OF ITERATIONS REACHED LIMIT.\n",
      "\n",
      "Increase the number of iterations (max_iter) or scale the data as shown in:\n",
      "    https://scikit-learn.org/stable/modules/preprocessing.html\n",
      "Please also refer to the documentation for alternative solver options:\n",
      "    https://scikit-learn.org/stable/modules/linear_model.html#logistic-regression\n",
      "  n_iter_i = _check_optimize_result(\n",
      "/Users/anton/dev/MARS/correctness-model-internals/venv/lib/python3.11/site-packages/sklearn/linear_model/_logistic.py:469: ConvergenceWarning: lbfgs failed to converge (status=1):\n",
      "STOP: TOTAL NO. OF ITERATIONS REACHED LIMIT.\n",
      "\n",
      "Increase the number of iterations (max_iter) or scale the data as shown in:\n",
      "    https://scikit-learn.org/stable/modules/preprocessing.html\n",
      "Please also refer to the documentation for alternative solver options:\n",
      "    https://scikit-learn.org/stable/modules/linear_model.html#logistic-regression\n",
      "  n_iter_i = _check_optimize_result(\n"
     ]
    },
    {
     "data": {
      "text/html": [
       "<div>\n",
       "<style scoped>\n",
       "    .dataframe tbody tr th:only-of-type {\n",
       "        vertical-align: middle;\n",
       "    }\n",
       "\n",
       "    .dataframe tbody tr th {\n",
       "        vertical-align: top;\n",
       "    }\n",
       "\n",
       "    .dataframe thead th {\n",
       "        text-align: right;\n",
       "    }\n",
       "</style>\n",
       "<table border=\"1\" class=\"dataframe\">\n",
       "  <thead>\n",
       "    <tr style=\"text-align: right;\">\n",
       "      <th></th>\n",
       "      <th>model_id</th>\n",
       "      <th>dataset_id</th>\n",
       "      <th>prompt_id</th>\n",
       "      <th>subset_id</th>\n",
       "      <th>input_type</th>\n",
       "      <th>layer</th>\n",
       "      <th>fold</th>\n",
       "      <th>direction_optimal_cut</th>\n",
       "      <th>direction_optimal_train_set_cut</th>\n",
       "      <th>direction_test_roc_auc</th>\n",
       "      <th>...</th>\n",
       "      <th>direction_f1_score</th>\n",
       "      <th>direction_precision_score</th>\n",
       "      <th>direction_recall_score</th>\n",
       "      <th>logistic_regression_optimal_cut</th>\n",
       "      <th>logistic_regression_optimal_train_set_cut</th>\n",
       "      <th>logistic_regression_test_roc_auc</th>\n",
       "      <th>logistic_regression_accuracy_score</th>\n",
       "      <th>logistic_regression_f1_score</th>\n",
       "      <th>logistic_regression_precision_score</th>\n",
       "      <th>logistic_regression_recall_score</th>\n",
       "    </tr>\n",
       "  </thead>\n",
       "  <tbody>\n",
       "    <tr>\n",
       "      <th>0</th>\n",
       "      <td>llama3.1_8b_chat</td>\n",
       "      <td>birth_years_4k</td>\n",
       "      <td>base</td>\n",
       "      <td>main</td>\n",
       "      <td>prompt_answer</td>\n",
       "      <td>0</td>\n",
       "      <td>0</td>\n",
       "      <td>-0.188253</td>\n",
       "      <td>-0.188253</td>\n",
       "      <td>0.607367</td>\n",
       "      <td>...</td>\n",
       "      <td>0.626804</td>\n",
       "      <td>0.537102</td>\n",
       "      <td>0.752475</td>\n",
       "      <td>0.5</td>\n",
       "      <td>0.528788</td>\n",
       "      <td>0.554357</td>\n",
       "      <td>0.549505</td>\n",
       "      <td>0.562500</td>\n",
       "      <td>0.546729</td>\n",
       "      <td>0.579208</td>\n",
       "    </tr>\n",
       "    <tr>\n",
       "      <th>1</th>\n",
       "      <td>llama3.1_8b_chat</td>\n",
       "      <td>birth_years_4k</td>\n",
       "      <td>base</td>\n",
       "      <td>main</td>\n",
       "      <td>prompt_answer</td>\n",
       "      <td>0</td>\n",
       "      <td>1</td>\n",
       "      <td>0.084373</td>\n",
       "      <td>0.084373</td>\n",
       "      <td>0.578144</td>\n",
       "      <td>...</td>\n",
       "      <td>0.509915</td>\n",
       "      <td>0.552147</td>\n",
       "      <td>0.473684</td>\n",
       "      <td>0.5</td>\n",
       "      <td>0.515389</td>\n",
       "      <td>0.586676</td>\n",
       "      <td>0.560526</td>\n",
       "      <td>0.572890</td>\n",
       "      <td>0.557214</td>\n",
       "      <td>0.589474</td>\n",
       "    </tr>\n",
       "    <tr>\n",
       "      <th>2</th>\n",
       "      <td>llama3.1_8b_chat</td>\n",
       "      <td>birth_years_4k</td>\n",
       "      <td>base</td>\n",
       "      <td>main</td>\n",
       "      <td>prompt_answer</td>\n",
       "      <td>0</td>\n",
       "      <td>2</td>\n",
       "      <td>0.064732</td>\n",
       "      <td>0.064732</td>\n",
       "      <td>0.545049</td>\n",
       "      <td>...</td>\n",
       "      <td>0.518519</td>\n",
       "      <td>0.532995</td>\n",
       "      <td>0.504808</td>\n",
       "      <td>0.5</td>\n",
       "      <td>0.510736</td>\n",
       "      <td>0.572231</td>\n",
       "      <td>0.560096</td>\n",
       "      <td>0.575406</td>\n",
       "      <td>0.556054</td>\n",
       "      <td>0.596154</td>\n",
       "    </tr>\n",
       "    <tr>\n",
       "      <th>3</th>\n",
       "      <td>llama3.1_8b_chat</td>\n",
       "      <td>birth_years_4k</td>\n",
       "      <td>base</td>\n",
       "      <td>main</td>\n",
       "      <td>prompt_answer</td>\n",
       "      <td>0</td>\n",
       "      <td>3</td>\n",
       "      <td>0.060345</td>\n",
       "      <td>0.060345</td>\n",
       "      <td>0.529195</td>\n",
       "      <td>...</td>\n",
       "      <td>0.509485</td>\n",
       "      <td>0.534091</td>\n",
       "      <td>0.487047</td>\n",
       "      <td>0.5</td>\n",
       "      <td>0.541316</td>\n",
       "      <td>0.599855</td>\n",
       "      <td>0.577720</td>\n",
       "      <td>0.578811</td>\n",
       "      <td>0.577320</td>\n",
       "      <td>0.580311</td>\n",
       "    </tr>\n",
       "    <tr>\n",
       "      <th>4</th>\n",
       "      <td>llama3.1_8b_chat</td>\n",
       "      <td>birth_years_4k</td>\n",
       "      <td>base</td>\n",
       "      <td>main</td>\n",
       "      <td>prompt_answer</td>\n",
       "      <td>0</td>\n",
       "      <td>4</td>\n",
       "      <td>0.078410</td>\n",
       "      <td>0.078410</td>\n",
       "      <td>0.541298</td>\n",
       "      <td>...</td>\n",
       "      <td>0.545455</td>\n",
       "      <td>0.536313</td>\n",
       "      <td>0.554913</td>\n",
       "      <td>0.5</td>\n",
       "      <td>0.538939</td>\n",
       "      <td>0.564336</td>\n",
       "      <td>0.552023</td>\n",
       "      <td>0.570637</td>\n",
       "      <td>0.547872</td>\n",
       "      <td>0.595376</td>\n",
       "    </tr>\n",
       "    <tr>\n",
       "      <th>...</th>\n",
       "      <td>...</td>\n",
       "      <td>...</td>\n",
       "      <td>...</td>\n",
       "      <td>...</td>\n",
       "      <td>...</td>\n",
       "      <td>...</td>\n",
       "      <td>...</td>\n",
       "      <td>...</td>\n",
       "      <td>...</td>\n",
       "      <td>...</td>\n",
       "      <td>...</td>\n",
       "      <td>...</td>\n",
       "      <td>...</td>\n",
       "      <td>...</td>\n",
       "      <td>...</td>\n",
       "      <td>...</td>\n",
       "      <td>...</td>\n",
       "      <td>...</td>\n",
       "      <td>...</td>\n",
       "      <td>...</td>\n",
       "      <td>...</td>\n",
       "    </tr>\n",
       "    <tr>\n",
       "      <th>1275</th>\n",
       "      <td>llama3.1_8b_chat</td>\n",
       "      <td>medals_9k</td>\n",
       "      <td>base</td>\n",
       "      <td>main</td>\n",
       "      <td>prompt_only</td>\n",
       "      <td>31</td>\n",
       "      <td>0</td>\n",
       "      <td>-0.602204</td>\n",
       "      <td>-0.602204</td>\n",
       "      <td>0.633091</td>\n",
       "      <td>...</td>\n",
       "      <td>0.596364</td>\n",
       "      <td>0.639626</td>\n",
       "      <td>0.558583</td>\n",
       "      <td>0.5</td>\n",
       "      <td>0.485272</td>\n",
       "      <td>0.821632</td>\n",
       "      <td>0.771798</td>\n",
       "      <td>0.772881</td>\n",
       "      <td>0.769231</td>\n",
       "      <td>0.776567</td>\n",
       "    </tr>\n",
       "    <tr>\n",
       "      <th>1276</th>\n",
       "      <td>llama3.1_8b_chat</td>\n",
       "      <td>medals_9k</td>\n",
       "      <td>base</td>\n",
       "      <td>main</td>\n",
       "      <td>prompt_only</td>\n",
       "      <td>31</td>\n",
       "      <td>1</td>\n",
       "      <td>12.907405</td>\n",
       "      <td>12.907405</td>\n",
       "      <td>0.616214</td>\n",
       "      <td>...</td>\n",
       "      <td>0.416996</td>\n",
       "      <td>0.732639</td>\n",
       "      <td>0.291436</td>\n",
       "      <td>0.5</td>\n",
       "      <td>0.483651</td>\n",
       "      <td>0.821523</td>\n",
       "      <td>0.772790</td>\n",
       "      <td>0.774503</td>\n",
       "      <td>0.768707</td>\n",
       "      <td>0.780387</td>\n",
       "    </tr>\n",
       "    <tr>\n",
       "      <th>1277</th>\n",
       "      <td>llama3.1_8b_chat</td>\n",
       "      <td>medals_9k</td>\n",
       "      <td>base</td>\n",
       "      <td>main</td>\n",
       "      <td>prompt_only</td>\n",
       "      <td>31</td>\n",
       "      <td>2</td>\n",
       "      <td>7.063498</td>\n",
       "      <td>7.063498</td>\n",
       "      <td>0.620428</td>\n",
       "      <td>...</td>\n",
       "      <td>0.498208</td>\n",
       "      <td>0.703797</td>\n",
       "      <td>0.385576</td>\n",
       "      <td>0.5</td>\n",
       "      <td>0.450687</td>\n",
       "      <td>0.816423</td>\n",
       "      <td>0.762829</td>\n",
       "      <td>0.765432</td>\n",
       "      <td>0.757123</td>\n",
       "      <td>0.773925</td>\n",
       "    </tr>\n",
       "    <tr>\n",
       "      <th>1278</th>\n",
       "      <td>llama3.1_8b_chat</td>\n",
       "      <td>medals_9k</td>\n",
       "      <td>base</td>\n",
       "      <td>main</td>\n",
       "      <td>prompt_only</td>\n",
       "      <td>31</td>\n",
       "      <td>3</td>\n",
       "      <td>9.811630</td>\n",
       "      <td>9.811630</td>\n",
       "      <td>0.625418</td>\n",
       "      <td>...</td>\n",
       "      <td>0.502203</td>\n",
       "      <td>0.686747</td>\n",
       "      <td>0.395833</td>\n",
       "      <td>0.5</td>\n",
       "      <td>0.434572</td>\n",
       "      <td>0.811460</td>\n",
       "      <td>0.763889</td>\n",
       "      <td>0.766804</td>\n",
       "      <td>0.757453</td>\n",
       "      <td>0.776389</td>\n",
       "    </tr>\n",
       "    <tr>\n",
       "      <th>1279</th>\n",
       "      <td>llama3.1_8b_chat</td>\n",
       "      <td>medals_9k</td>\n",
       "      <td>base</td>\n",
       "      <td>main</td>\n",
       "      <td>prompt_only</td>\n",
       "      <td>31</td>\n",
       "      <td>4</td>\n",
       "      <td>12.599736</td>\n",
       "      <td>12.599736</td>\n",
       "      <td>0.645187</td>\n",
       "      <td>...</td>\n",
       "      <td>0.440644</td>\n",
       "      <td>0.755172</td>\n",
       "      <td>0.311080</td>\n",
       "      <td>0.5</td>\n",
       "      <td>0.439979</td>\n",
       "      <td>0.815515</td>\n",
       "      <td>0.763494</td>\n",
       "      <td>0.763997</td>\n",
       "      <td>0.762376</td>\n",
       "      <td>0.765625</td>\n",
       "    </tr>\n",
       "  </tbody>\n",
       "</table>\n",
       "<p>1280 rows × 21 columns</p>\n",
       "</div>"
      ],
      "text/plain": [
       "              model_id      dataset_id prompt_id subset_id     input_type  \\\n",
       "0     llama3.1_8b_chat  birth_years_4k      base      main  prompt_answer   \n",
       "1     llama3.1_8b_chat  birth_years_4k      base      main  prompt_answer   \n",
       "2     llama3.1_8b_chat  birth_years_4k      base      main  prompt_answer   \n",
       "3     llama3.1_8b_chat  birth_years_4k      base      main  prompt_answer   \n",
       "4     llama3.1_8b_chat  birth_years_4k      base      main  prompt_answer   \n",
       "...                ...             ...       ...       ...            ...   \n",
       "1275  llama3.1_8b_chat       medals_9k      base      main    prompt_only   \n",
       "1276  llama3.1_8b_chat       medals_9k      base      main    prompt_only   \n",
       "1277  llama3.1_8b_chat       medals_9k      base      main    prompt_only   \n",
       "1278  llama3.1_8b_chat       medals_9k      base      main    prompt_only   \n",
       "1279  llama3.1_8b_chat       medals_9k      base      main    prompt_only   \n",
       "\n",
       "      layer  fold  direction_optimal_cut  direction_optimal_train_set_cut  \\\n",
       "0         0     0              -0.188253                        -0.188253   \n",
       "1         0     1               0.084373                         0.084373   \n",
       "2         0     2               0.064732                         0.064732   \n",
       "3         0     3               0.060345                         0.060345   \n",
       "4         0     4               0.078410                         0.078410   \n",
       "...     ...   ...                    ...                              ...   \n",
       "1275     31     0              -0.602204                        -0.602204   \n",
       "1276     31     1              12.907405                        12.907405   \n",
       "1277     31     2               7.063498                         7.063498   \n",
       "1278     31     3               9.811630                         9.811630   \n",
       "1279     31     4              12.599736                        12.599736   \n",
       "\n",
       "      direction_test_roc_auc  ...  direction_f1_score  \\\n",
       "0                   0.607367  ...            0.626804   \n",
       "1                   0.578144  ...            0.509915   \n",
       "2                   0.545049  ...            0.518519   \n",
       "3                   0.529195  ...            0.509485   \n",
       "4                   0.541298  ...            0.545455   \n",
       "...                      ...  ...                 ...   \n",
       "1275                0.633091  ...            0.596364   \n",
       "1276                0.616214  ...            0.416996   \n",
       "1277                0.620428  ...            0.498208   \n",
       "1278                0.625418  ...            0.502203   \n",
       "1279                0.645187  ...            0.440644   \n",
       "\n",
       "      direction_precision_score  direction_recall_score  \\\n",
       "0                      0.537102                0.752475   \n",
       "1                      0.552147                0.473684   \n",
       "2                      0.532995                0.504808   \n",
       "3                      0.534091                0.487047   \n",
       "4                      0.536313                0.554913   \n",
       "...                         ...                     ...   \n",
       "1275                   0.639626                0.558583   \n",
       "1276                   0.732639                0.291436   \n",
       "1277                   0.703797                0.385576   \n",
       "1278                   0.686747                0.395833   \n",
       "1279                   0.755172                0.311080   \n",
       "\n",
       "      logistic_regression_optimal_cut  \\\n",
       "0                                 0.5   \n",
       "1                                 0.5   \n",
       "2                                 0.5   \n",
       "3                                 0.5   \n",
       "4                                 0.5   \n",
       "...                               ...   \n",
       "1275                              0.5   \n",
       "1276                              0.5   \n",
       "1277                              0.5   \n",
       "1278                              0.5   \n",
       "1279                              0.5   \n",
       "\n",
       "      logistic_regression_optimal_train_set_cut  \\\n",
       "0                                      0.528788   \n",
       "1                                      0.515389   \n",
       "2                                      0.510736   \n",
       "3                                      0.541316   \n",
       "4                                      0.538939   \n",
       "...                                         ...   \n",
       "1275                                   0.485272   \n",
       "1276                                   0.483651   \n",
       "1277                                   0.450687   \n",
       "1278                                   0.434572   \n",
       "1279                                   0.439979   \n",
       "\n",
       "      logistic_regression_test_roc_auc  logistic_regression_accuracy_score  \\\n",
       "0                             0.554357                            0.549505   \n",
       "1                             0.586676                            0.560526   \n",
       "2                             0.572231                            0.560096   \n",
       "3                             0.599855                            0.577720   \n",
       "4                             0.564336                            0.552023   \n",
       "...                                ...                                 ...   \n",
       "1275                          0.821632                            0.771798   \n",
       "1276                          0.821523                            0.772790   \n",
       "1277                          0.816423                            0.762829   \n",
       "1278                          0.811460                            0.763889   \n",
       "1279                          0.815515                            0.763494   \n",
       "\n",
       "      logistic_regression_f1_score  logistic_regression_precision_score  \\\n",
       "0                         0.562500                             0.546729   \n",
       "1                         0.572890                             0.557214   \n",
       "2                         0.575406                             0.556054   \n",
       "3                         0.578811                             0.577320   \n",
       "4                         0.570637                             0.547872   \n",
       "...                            ...                                  ...   \n",
       "1275                      0.772881                             0.769231   \n",
       "1276                      0.774503                             0.768707   \n",
       "1277                      0.765432                             0.757123   \n",
       "1278                      0.766804                             0.757453   \n",
       "1279                      0.763997                             0.762376   \n",
       "\n",
       "      logistic_regression_recall_score  \n",
       "0                             0.579208  \n",
       "1                             0.589474  \n",
       "2                             0.596154  \n",
       "3                             0.580311  \n",
       "4                             0.595376  \n",
       "...                                ...  \n",
       "1275                          0.776567  \n",
       "1276                          0.780387  \n",
       "1277                          0.773925  \n",
       "1278                          0.776389  \n",
       "1279                          0.765625  \n",
       "\n",
       "[1280 rows x 21 columns]"
      ]
     },
     "execution_count": 8,
     "metadata": {},
     "output_type": "execute_result"
    }
   ],
   "source": [
    "\n",
    "res_dict = defaultdict(list)\n",
    "\n",
    "for (model_id, dataset_id, prompt_id, subset_id, input_type), config_df in activation_exp_configs_df.groupby([\"model_id\", \"dataset_id\", \"prompt_id\", \"subset_id\", \"input_type\"]):\n",
    "    print(f\"\\n{model_id=}, {dataset_id=}, {prompt_id=}, {subset_id=}, {input_type=}\")\n",
    "    labels_df = load_labels(\n",
    "        model_id=model_id,\n",
    "        dataset_id=dataset_id,\n",
    "        prompt_id=prompt_id,\n",
    "        subset_id=subset_id,\n",
    "    )\n",
    "\n",
    "    check_indices = None\n",
    "    for layer in config_df[\"layer\"].astype(int).sort_values():\n",
    "        print(f\"{layer=}\", end=\", \")\n",
    "        activations, indices = load_activations(\n",
    "            model_id=model_id,\n",
    "            dataset_id=dataset_id,\n",
    "            prompt_id=prompt_id,\n",
    "            subset_id=subset_id,\n",
    "            input_type=input_type,\n",
    "            layer=layer,\n",
    "        )\n",
    "        \n",
    "        if check_indices is None:\n",
    "            check_indices = indices.sample(frac=1, replace=False)\n",
    "        \n",
    "        if set(indices) != set(check_indices):\n",
    "            raise RuntimeError(f\"indices across layers are not the same\")\n",
    "\n",
    "        labels_df_subset = labels_df.iloc[check_indices]\n",
    "        activations = activations[check_indices]\n",
    "\n",
    "        activations_handler = ActivationsHandler(\n",
    "            activations=activations,\n",
    "            labels=labels_df_subset[\"correct\"].astype(bool),\n",
    "        )\n",
    "\n",
    "        activations_handler_folds = list(\n",
    "            activations_handler.split_dataset(split_sizes=[1/5] * 5)\n",
    "        )\n",
    "\n",
    "        fold_stats = {}\n",
    "        for fold_i, activations_handler_test in enumerate(activations_handler_folds):\n",
    "            activations_handler_train = combine_activations_handlers(\n",
    "                [ah for j, ah in enumerate(activations_handler_folds) if j != fold_i]\n",
    "            ).sample_equally_across_groups(\n",
    "                group_labels=[False, True]\n",
    "            )\n",
    "            activations_handler_test = activations_handler_test.sample_equally_across_groups(\n",
    "                group_labels=[False, True]\n",
    "            )\n",
    "\n",
    "            res_dict[\"model_id\"].append(model_id)\n",
    "            res_dict[\"dataset_id\"].append(dataset_id)\n",
    "            res_dict[\"prompt_id\"].append(prompt_id)\n",
    "            res_dict[\"subset_id\"].append(subset_id)\n",
    "            res_dict[\"input_type\"].append(input_type)\n",
    "            res_dict[\"layer\"].append(layer)\n",
    "            res_dict[\"fold\"].append(fold_i)\n",
    "\n",
    "            direction_classifier, direction_calculator = get_correctness_direction_classifier(\n",
    "                activations_handler_train=activations_handler_train,\n",
    "                activations_handler_test=activations_handler_test,\n",
    "            )\n",
    "            # res_dict[\"classifying_direction\"].append(direction_calculator.classifying_direction.tolist())\n",
    "            for key, value in direction_classifier.classification_metrics.items():\n",
    "                res_dict[f\"direction_{key}\"].append(value)\n",
    "            \n",
    "            for key, value in get_logistic_regression_classifier(\n",
    "                    activations_handler_train=activations_handler_train,\n",
    "                    activations_handler_test=activations_handler_test,\n",
    "                )[0].classification_metrics.items():\n",
    "                res_dict[f\"logistic_regression_{key}\"].append(value)\n",
    "\n",
    "\n",
    "\n",
    "res_df = pd.DataFrame(res_dict)\n",
    "res_df"
   ]
  },
  {
   "cell_type": "code",
   "execution_count": null,
   "metadata": {},
   "outputs": [],
   "source": [
    "res_file = \"./classification_data/res_df_llama31_8B_4_memory_datasets.csv\""
   ]
  },
  {
   "cell_type": "code",
   "execution_count": 11,
   "metadata": {},
   "outputs": [],
   "source": [
    "res_df.to_csv(res_file, index=False)"
   ]
  },
  {
   "cell_type": "code",
   "execution_count": null,
   "metadata": {},
   "outputs": [],
   "source": [
    "res_df = res_file.read_csv(res_file)"
   ]
  },
  {
   "cell_type": "code",
   "execution_count": 49,
   "metadata": {},
   "outputs": [],
   "source": [
    "def plot_interactive_lineplot(df_dict, x_label, y_label, title=None, save_path=None):\n",
    "    \"\"\"\n",
    "    df_dict: Dictionary mapping labels to dataframes, where each dataframe contains multiple columns\n",
    "            for the same measurement (e.g., {'Metric 1': df1, 'Metric 2': df2})\n",
    "    \"\"\"\n",
    "    fig = go.Figure()\n",
    "    \n",
    "    # Define a color palette for different metrics\n",
    "    colors = ['#1f77b4', '#ff7f0e', '#2ca02c', '#d62728', '#9467bd', '#8c564b']\n",
    "    \n",
    "    for metric_idx, (metric_name, df) in enumerate(df_dict.items()):\n",
    "        color = colors[metric_idx % len(colors)]\n",
    "        \n",
    "        # Calculate statistics for each column\n",
    "        means = df.mean(axis=1)\n",
    "\n",
    "        # Add mean line\n",
    "        fig.add_trace(go.Scatter(\n",
    "            x=df.index,\n",
    "            y=means,\n",
    "            mode='lines+markers',\n",
    "            line=dict(color=color, width=2),\n",
    "            marker=dict(size=8),\n",
    "            name=f'{metric_name}',\n",
    "            legendgroup=metric_name,\n",
    "        ))\n",
    "\n",
    "        if df.shape[1] > 1:\n",
    "            stds = df.std(axis=1)\n",
    "            mins = df.min(axis=1)\n",
    "            maxs = df.max(axis=1)\n",
    "\n",
    "            # Add min/max range (very faint)\n",
    "            fig.add_trace(go.Scatter(\n",
    "                x=df.index,\n",
    "                y=maxs,\n",
    "                mode='lines',\n",
    "                line=dict(width=0),\n",
    "                showlegend=False,\n",
    "                name=f'{metric_name} Max',\n",
    "                legendgroup=metric_name,\n",
    "            ))\n",
    "            fig.add_trace(go.Scatter(\n",
    "                x=df.index,\n",
    "                y=mins,\n",
    "                mode='lines',\n",
    "                line=dict(width=0),\n",
    "                fillcolor=f'rgba{tuple(list(int(color.lstrip(\"#\")[i:i+2], 16) for i in (0, 2, 4)) + [0.1])}',\n",
    "                fill='tonexty',\n",
    "                showlegend=False,\n",
    "                name=f'{metric_name} Min',\n",
    "                legendgroup=metric_name,\n",
    "            ))\n",
    "\n",
    "            # Add ±1 std range (moderately faint)\n",
    "            fig.add_trace(go.Scatter(\n",
    "                x=df.index,\n",
    "                y=means + stds,\n",
    "                mode='lines',\n",
    "                line=dict(width=0),\n",
    "                showlegend=False,\n",
    "                name=f'{metric_name} +1 STD',\n",
    "                legendgroup=metric_name,\n",
    "            ))\n",
    "            fig.add_trace(go.Scatter(\n",
    "                x=df.index,\n",
    "                y=means - stds,\n",
    "                mode='lines',\n",
    "                line=dict(width=0),\n",
    "                fillcolor=f'rgba{tuple(list(int(color.lstrip(\"#\")[i:i+2], 16) for i in (0, 2, 4)) + [0.3])}',\n",
    "                fill='tonexty',\n",
    "                showlegend=False,\n",
    "                name=f'{metric_name} -1 STD',\n",
    "                legendgroup=metric_name,\n",
    "            ))\n",
    "\n",
    "            # Add individual points for each fold\n",
    "            for col in df.columns:\n",
    "                fig.add_trace(go.Scatter(\n",
    "                    x=df.index,\n",
    "                    y=df[col],\n",
    "                    mode='markers',\n",
    "                    marker=dict(\n",
    "                        color=color,\n",
    "                        size=6,\n",
    "                        opacity=0.5\n",
    "                    ),\n",
    "                    showlegend=False,\n",
    "                    name=f'{metric_name} Fold {col}',\n",
    "                    legendgroup=metric_name,\n",
    "                ))\n",
    "\n",
    "    fig.update_layout(\n",
    "        title=title,\n",
    "        yaxis_title=y_label,\n",
    "        xaxis_title=x_label,\n",
    "        template='plotly_dark',\n",
    "        plot_bgcolor='rgba(32, 32, 32, 1)',\n",
    "        paper_bgcolor='rgba(32, 32, 32, 1)',\n",
    "        font=dict(color='white'),\n",
    "        margin=dict(t=100, l=50, r=30, b=50),  # Increased top margin to accommodate legend\n",
    "        showlegend=True,\n",
    "        legend=dict(\n",
    "            orientation=\"h\",    # Horizontal legend\n",
    "            yanchor=\"bottom\",  \n",
    "            y=1.02,           # Position above the plot\n",
    "            xanchor=\"center\",  # Center horizontally\n",
    "            x=0.5,\n",
    "            bgcolor='rgba(32, 32, 32, 0.8)'  # Semi-transparent background\n",
    "        ),\n",
    "        width=1000,   # Set explicit width in pixels\n",
    "        height=600    # Set explicit height in pixels\n",
    "    )\n",
    "    \n",
    "    # Update axes for consistency with dark theme\n",
    "    fig.update_xaxes(gridcolor='rgba(128, 128, 128, 0.2)', zeroline=False)\n",
    "    fig.update_yaxes(gridcolor='rgba(128, 128, 128, 0.2)', zeroline=False)\n",
    "    \n",
    "    return fig"
   ]
  },
  {
   "cell_type": "code",
   "execution_count": null,
   "metadata": {},
   "outputs": [
    {
     "name": "stdout",
     "output_type": "stream",
     "text": [
      "conf=('llama3.1_8b_chat', 'birth_years_4k', 'base', 'main', 'prompt_answer')\n",
      "conf=('llama3.1_8b_chat', 'birth_years_4k', 'base', 'main', 'prompt_only')\n",
      "conf=('llama3.1_8b_chat', 'cities_10k', 'base', 'main', 'prompt_answer')\n",
      "conf=('llama3.1_8b_chat', 'cities_10k', 'base', 'main', 'prompt_only')\n",
      "conf=('llama3.1_8b_chat', 'football_leagues_1k', 'base', 'main', 'prompt_answer')\n",
      "conf=('llama3.1_8b_chat', 'football_leagues_1k', 'base', 'main', 'prompt_only')\n",
      "conf=('llama3.1_8b_chat', 'medals_9k', 'base', 'main', 'prompt_answer')\n",
      "conf=('llama3.1_8b_chat', 'medals_9k', 'base', 'main', 'prompt_only')\n"
     ]
    },
    {
     "data": {
      "application/vnd.plotly.v1+json": {
       "config": {
        "plotlyServerURL": "https://plot.ly"
       },
       "data": [
        {
         "legendgroup": "('llama3.1_8b_chat', 'birth_years_4k', 'base', 'main', 'prompt_answer')",
         "line": {
          "color": "#1f77b4",
          "width": 2
         },
         "marker": {
          "size": 8
         },
         "mode": "lines+markers",
         "name": "('llama3.1_8b_chat', 'birth_years_4k', 'base', 'main', 'prompt_answer')",
         "type": "scatter",
         "x": {
          "bdata": "AAECAwQFBgcICQoLDA0ODxAREhMUFRYXGBkaGxwdHh8=",
          "dtype": "i1"
         },
         "y": {
          "bdata": "IWVkv1pY4T+yPN8wenfgP8fVKBoYtOE/4wsKZ4ar4T+IOpSGpODhP1/ZbvrtxOE/JGXsHb3Y4j+VM4lZOLTjP25xmLUdzuQ/dDRxfagx5T87ZiNv6a7lP1PlyD7VhOU/I7i7lrTx5T8Eiz+hMnTmPwpjLApTAuc/alSO5L2Q5j+/P5u39PbmP4KliBEBj+c/ignd4rrh5z9WASBgp5DnP9LNSh+uq+Y/cI39A9LI5D8Wr6RdjC7lPxYzk9ZcNOQ/75/f3TLr4z9mCe3vEmXjP5idW3bf/eM/4cNhuWMX4z/WrK0T2+3jP7BtPnC7BOU/BCIFXu/D5T8m6Mo+XE3kPw==",
          "dtype": "f8"
         }
        },
        {
         "legendgroup": "('llama3.1_8b_chat', 'birth_years_4k', 'base', 'main', 'prompt_answer')",
         "line": {
          "width": 0
         },
         "mode": "lines",
         "name": "('llama3.1_8b_chat', 'birth_years_4k', 'base', 'main', 'prompt_answer') Max",
         "showlegend": false,
         "type": "scatter",
         "x": {
          "bdata": "AAECAwQFBgcICQoLDA0ODxAREhMUFRYXGBkaGxwdHh8=",
          "dtype": "i1"
         },
         "y": {
          "bdata": "FNKKhccO5D+WSc+IZJnkP22vvCWhhuQ/bS4darA74z/7PbfEqd/jP19CewntJeQ/pXczzbON5D+LVz4Rs7nkP4qd2Imd2OU/kZpgvJV95j+2bNmyZcvmP3ZiJ3ZiJ+Y/emVsv6NX5j+8cBA9vgvnP8zvanET5uc/tm9Y+4a15z8GpvJOOBfoP1HjvNt65eg/LJmfRTFO6T+gnEtimfroP+h5nud5nuc/QKWRHOWv5j839j0iJwjnPw0LLpXtXec/YH6Qj71Y5z+jELYP81XnP0J7Ce0ltOc/ICeZK+U35j/zwyJl4OnmP9N+sgQ27ec/X0J7Ce0l6D+KJ8LJgm7mPw==",
          "dtype": "f8"
         }
        },
        {
         "fill": "tonexty",
         "fillcolor": "rgba(31, 119, 180, 0.1)",
         "legendgroup": "('llama3.1_8b_chat', 'birth_years_4k', 'base', 'main', 'prompt_answer')",
         "line": {
          "width": 0
         },
         "mode": "lines",
         "name": "('llama3.1_8b_chat', 'birth_years_4k', 'base', 'main', 'prompt_answer') Min",
         "showlegend": false,
         "type": "scatter",
         "x": {
          "bdata": "AAECAwQFBgcICQoLDA0ODxAREhMUFRYXGBkaGxwdHh8=",
          "dtype": "i1"
         },
         "y": {
          "bdata": "o+WFr7NN4D+oeWsQJnvdP7xvjawuw94/JUmSJEmS4D8nT0cE9sHgPx3bNdXNC+A/Z6O+s1Hf4T/T0tLS0tLiP/sTsD8B++M/XkN5DeU15D8SH9ZZAZrkP1Wjj1Sjj+Q/S6pQ8Dtt5T+9TbrLmPLlPxZf8RVf8eU/9te6QnM75T/1S7/0S7/kPxAlYo0qeuY/o2UgH1Xe5j/CNghOZcLmP40pX4clHOU/jDHGGGOM4T+oqRBt+PzhP5oQKT2yJN4/kx1gOHdD2z+uHZhrB+baP5MdYDh3Q9s/b4+1DB2w2z+O4ziO4zjeP47jOI7jON4/wGudLk314T+TLdmSLdniPw==",
          "dtype": "f8"
         }
        },
        {
         "legendgroup": "('llama3.1_8b_chat', 'birth_years_4k', 'base', 'main', 'prompt_answer')",
         "line": {
          "width": 0
         },
         "mode": "lines",
         "name": "('llama3.1_8b_chat', 'birth_years_4k', 'base', 'main', 'prompt_answer') +1 STD",
         "showlegend": false,
         "type": "scatter",
         "x": {
          "bdata": "AAECAwQFBgcICQoLDA0ODxAREhMUFRYXGBkaGxwdHh8=",
          "dtype": "i1"
         },
         "y": {
          "bdata": "BJh3J7Pu4j+37a4krOHiP63MMQcQr+M/MXNvSaaz4j9CN8SohCXjP9B/rzzoWeM/wp7WpmT/4z+8QqFZfWjkP+VfkeS7iuU/z533nJ005j9i98L7wpvmP6HXgdUdK+Y/JO7s8XBK5j90UzPgLunmP1CzTLzHwOc/PU4dQBp75z8hbPxpxkfoPxM9qsUef+g/BGbBXDPV6D/rLh4J54DoP6lINgf3zuc/0q7LX3nW5j8kZZ/J4lDnPz9tfkVx2Oc/50VuQRMS6D+06a0HAsLnPyJYrVVODOg/KF5GH2Nq5j9ZByVR3SvnP3n7/8Qcdeg/ARHQEW4T6D+UuA06DRDmPw==",
          "dtype": "f8"
         }
        },
        {
         "fill": "tonexty",
         "fillcolor": "rgba(31, 119, 180, 0.3)",
         "legendgroup": "('llama3.1_8b_chat', 'birth_years_4k', 'base', 'main', 'prompt_answer')",
         "line": {
          "width": 0
         },
         "mode": "lines",
         "name": "('llama3.1_8b_chat', 'birth_years_4k', 'base', 'main', 'prompt_answer') -1 STD",
         "showlegend": false,
         "type": "scatter",
         "x": {
          "bdata": "AAECAwQFBgcICQoLDA0ODxAREhMUFRYXGBkaGxwdHh8=",
          "dtype": "i1"
         },
         "y": {
          "bdata": "fGSirgSE3z9bFx96kBrcP8K9P1pAct8/laSkhGaj4D/OPWRkxJvgP+4yLrjzL+A/hisClRWy4T9uJHFZ8//iP/eCn4Z/EeQ/GcvqXbMu5D8U1YPiD8LkPwXzD6iM3uQ/IoKKO/iY5T+UwktiNv/lP8QSDFjeQ+Y/l1r/iGGm5T9dEzoFI6blP/ENZ13jnuY/EK34aELu5j/B0yG3Z6DmP/tSXzdliOU/DmwvqCq74j8I+anxNQzjP+34p2dIkOA/7vOh9KSI3z8wUliwRxDePxzGEy7h3t8/NFP6psiI3z9TUjbW2K/gP+fffBtalOE/BzM6qnB04z+4F4hDq4riPw==",
          "dtype": "f8"
         }
        },
        {
         "legendgroup": "('llama3.1_8b_chat', 'birth_years_4k', 'base', 'main', 'prompt_answer')",
         "marker": {
          "color": "#1f77b4",
          "opacity": 0.5,
          "size": 6
         },
         "mode": "markers",
         "name": "('llama3.1_8b_chat', 'birth_years_4k', 'base', 'main', 'prompt_answer') Fold ('direction_f1_score', 0)",
         "showlegend": false,
         "type": "scatter",
         "x": {
          "bdata": "AAECAwQFBgcICQoLDA0ODxAREhMUFRYXGBkaGxwdHh8=",
          "dtype": "i1"
         },
         "y": {
          "bdata": "FNKKhccO5D+WSc+IZJnkP22vvCWhhuQ/bS4darA74z/7PbfEqd/jP19CewntJeQ/pXczzbON5D+LVz4Rs7nkP4qd2Imd2OU/kZpgvJV95j+2bNmyZcvmP6camV09AeY/emVsv6NX5j+8cBA9vgvnP3skKsvLpOY/tm9Y+4a15z+0OkkhD8HnPxAlYo0qeuY/RhdddNFF5z/CNghOZcLmPze7ODBczuU/jDHGGGOM4T84x9sdKYTmP5oQKT2yJN4/kx1gOHdD2z+uHZhrB+baP5MdYDh3Q9s/b4+1DB2w2z+O4ziO4zjeP47jOI7jON4/wGudLk314T+KJ8LJgm7mPw==",
          "dtype": "f8"
         }
        },
        {
         "legendgroup": "('llama3.1_8b_chat', 'birth_years_4k', 'base', 'main', 'prompt_answer')",
         "marker": {
          "color": "#1f77b4",
          "opacity": 0.5,
          "size": 6
         },
         "mode": "markers",
         "name": "('llama3.1_8b_chat', 'birth_years_4k', 'base', 'main', 'prompt_answer') Fold ('direction_f1_score', 1)",
         "showlegend": false,
         "type": "scatter",
         "x": {
          "bdata": "AAECAwQFBgcICQoLDA0ODxAREhMUFRYXGBkaGxwdHh8=",
          "dtype": "i1"
         },
         "y": {
          "bdata": "+2aySjlR4D+JiIiIiIjgP5IkSZIkSeI/JUmSJEmS4D8DCqM6TQ7iP355bEXQcOI/Htz7YUZ+4z+pP6X+lPrjPyxGQmnjHeU/v6JycQ/65T/zI91f+FTmP7aSx1AIruU/n8nSLcf+5T9h4v3Iab7mP91hW7nmVOc/o0o7hU9S5j+omPqXrU3nPwrYn4D9Ceg/7mmE5Z5G6D8K2J+A/QnoP+/yyRQzduc/QKWRHOWv5j9XBA0ndV/mP/PDImXg6eY/Vz/oqMAX5z/aqO9s1HfmP36nrXp9IOY/ICeZK+U35j9PIyz3NMLmP5ZlWZZlWeY/LPNkgUi65j+EYDQ9CEbjPw==",
          "dtype": "f8"
         }
        },
        {
         "legendgroup": "('llama3.1_8b_chat', 'birth_years_4k', 'base', 'main', 'prompt_answer')",
         "marker": {
          "color": "#1f77b4",
          "opacity": 0.5,
          "size": 6
         },
         "mode": "markers",
         "name": "('llama3.1_8b_chat', 'birth_years_4k', 'base', 'main', 'prompt_answer') Fold ('direction_f1_score', 2)",
         "showlegend": false,
         "type": "scatter",
         "x": {
          "bdata": "AAECAwQFBgcICQoLDA0ODxAREhMUFRYXGBkaGxwdHh8=",
          "dtype": "i1"
         },
         "y": {
          "bdata": "ewntJbSX4D/RRRdddNHdP7xvjawuw94/BqLSkT0D4T8H71sjq8vgP7rbC4GpQ+E/fpQf5Uf54T/T0tLS0tLiP4080elu1eQ/2cZPi2385D/WDzoq8MXlP1Wjj1Sjj+Q/S6pQ8Dtt5T+u3it14RLmP8zvanET5uc/BUhPOzKL5j8GpvJOOBfoP1HjvNt65eg/LJmfRTFO6T+gnEtimfroP40pX4clHOU/qz/QIyXk5D8AAAAAAADkPw0LLpXtXec/YH6Qj71Y5z+jELYP81XnP0J7Ce0ltOc/HaXbV1bv4j+M65b+hUbkP07Byyl4OeU/LURmGSa55T+TLdmSLdniPw==",
          "dtype": "f8"
         }
        },
        {
         "legendgroup": "('llama3.1_8b_chat', 'birth_years_4k', 'base', 'main', 'prompt_answer')",
         "marker": {
          "color": "#1f77b4",
          "opacity": 0.5,
          "size": 6
         },
         "mode": "markers",
         "name": "('llama3.1_8b_chat', 'birth_years_4k', 'base', 'main', 'prompt_answer') Fold ('direction_f1_score', 3)",
         "showlegend": false,
         "type": "scatter",
         "x": {
          "bdata": "AAECAwQFBgcICQoLDA0ODxAREhMUFRYXGBkaGxwdHh8=",
          "dtype": "i1"
         },
         "y": {
          "bdata": "o+WFr7NN4D+oeWsQJnvdPwWhf3QbU+A/U2MPs4B84T8nT0cE9sHgPx3bNdXNC+A/Z6O+s1Hf4T8BCT+5EHXjP/sTsD8B++M/XkN5DeU15D+VP+qUP+rkP3vH1MDeMeU/JF1xizrS5T+QN0nfWnXmPxZf8RVf8eU/9te6QnM75T/1S7/0S7/kP8HLKXg5Bec/o2UgH1Xe5j+0ZH+tKzTnP+h5nud5nuc/VEZlVEZl5D+oqRBt+PzhPymryNC/tOE/0UUXXXTR4T+4DPjkcBngP7xAJsULZOI/xRJLLLHE4j+YG2JAOpbiP9N+sgQ27ec/X0J7Ce0l6D8c0yagFPXiPw==",
          "dtype": "f8"
         }
        },
        {
         "legendgroup": "('llama3.1_8b_chat', 'birth_years_4k', 'base', 'main', 'prompt_answer')",
         "marker": {
          "color": "#1f77b4",
          "opacity": 0.5,
          "size": 6
         },
         "mode": "markers",
         "name": "('llama3.1_8b_chat', 'birth_years_4k', 'base', 'main', 'prompt_answer') Fold ('direction_f1_score', 4)",
         "showlegend": false,
         "type": "scatter",
         "x": {
          "bdata": "AAECAwQFBgcICQoLDA0ODxAREhMUFRYXGBkaGxwdHh8=",
          "dtype": "i1"
         },
         "y": {
          "bdata": "dNFFF1104T83+4VYURrfPwAAAAAAAOI/g76gL+gL4j96nud5nufhPynMAD9x8uA/C26QzR1X4j/ijrgj7ojjP+UCXm+jP+Q/u76ZrFJO5D8SH9ZZAZrkP3ZiJ3ZiJ+Y/KmKpiKUi5j+9TbrLmPLlP/0Z/CZ6Ouc/wcspeDkF5z9neRKZhu3mP1yPwvUoXOc/sK+vr6+v5z+S9iwCHdjmP3+zdeg3W+c/ZmZmZmZm5j839j0iJwjnP/j8MUfp9uU/Ww2eI1C05T/yWTeYIp/lP6+hvIbyGuY/rCzOaPew5T/zwyJl4OnmP/YMRKUje+Y/ncQ1AwRF5j8AAAAAAADmPw==",
          "dtype": "f8"
         }
        },
        {
         "legendgroup": "('llama3.1_8b_chat', 'birth_years_4k', 'base', 'main', 'prompt_only')",
         "line": {
          "color": "#ff7f0e",
          "width": 2
         },
         "marker": {
          "size": 8
         },
         "mode": "lines+markers",
         "name": "('llama3.1_8b_chat', 'birth_years_4k', 'base', 'main', 'prompt_only')",
         "type": "scatter",
         "x": {
          "bdata": "AAECAwQFBgcICQoLDA0ODxAREhMUFRYXGBkaGxwdHh8=",
          "dtype": "i1"
         },
         "y": {
          "bdata": "DlE5ROUQ1T8nq9D56T7YP5JEqKKtPNk/aBJoRLSy3T/mUCl/hNjhPy6ZrZc0AOI/3Ya52wSp4j+chgjikfnjP3uRUJwhsOM/Gc9RWTwe5D9vQFqHfw3lP7m1G4+Q0+Q/FQbJscXS5D/H18b0PZDlP8f4mlKffeU/sigVRqXa5T/Yuj5h6bjlP05fTDKvDuY/Fk1XopaB5j8CfN7gQUDmP+8igOV+GOY/srCD5Vie5j+xxB1hCpHmPxpocKMew+Y/rS/78bzY5j+9aMLW1tnmPxaMxujZKec/gsnt3Bcn5z9fWF6l5E/nP0hMSnQRWuc/3v4Rb5fs5j8fE3jxyX7mPw==",
          "dtype": "f8"
         }
        },
        {
         "legendgroup": "('llama3.1_8b_chat', 'birth_years_4k', 'base', 'main', 'prompt_only')",
         "line": {
          "width": 0
         },
         "mode": "lines",
         "name": "('llama3.1_8b_chat', 'birth_years_4k', 'base', 'main', 'prompt_only') Max",
         "showlegend": false,
         "type": "scatter",
         "x": {
          "bdata": "AAECAwQFBgcICQoLDA0ODxAREhMUFRYXGBkaGxwdHh8=",
          "dtype": "i1"
         },
         "y": {
          "bdata": "9oDZA2YP2D+e53me53nePy+66KKLLuA/rFsBbs5Q4T+mcQZB7Z/jP5KfK2Y58uM/os/QZ+gz5D9sMUOjQqjlPwAAAAAAAOY/9U2JW5Jh5j+3bdu2bdvmP5eWlpaWluY/OjUPctfP5j89CalfMLHmP4GmEGgKgeY/+EKKgI3R5j/4QoqAjdHmP3xuiVO/5+Y/J0p2baJk5z8ot3hyiyfnP7Ss7aQzL+c/Iyz3NMJy5z/uVB4deM/nP+h5nud5nuc/WHzFV3zF5z8Jyz2NsNznPwvN7VQeHeg/X9qiCM4O6D/yobR64SLoP9UE463sc+g/qIM6qIM66D+uQnjdKoTnPw==",
          "dtype": "f8"
         }
        },
        {
         "fill": "tonexty",
         "fillcolor": "rgba(255, 127, 14, 0.1)",
         "legendgroup": "('llama3.1_8b_chat', 'birth_years_4k', 'base', 'main', 'prompt_only')",
         "line": {
          "width": 0
         },
         "mode": "lines",
         "name": "('llama3.1_8b_chat', 'birth_years_4k', 'base', 'main', 'prompt_only') Min",
         "showlegend": false,
         "type": "scatter",
         "x": {
          "bdata": "AAECAwQFBgcICQoLDA0ODxAREhMUFRYXGBkaGxwdHh8=",
          "dtype": "i1"
         },
         "y": {
          "bdata": "kiRJkiRJ0j/UKX/UKX/UPxvKayivodQ/C2OqRT1n1T/vMqZ8HZbgP8XTHlcBweA/blp4y85J4T8ZIPHUkAHiP8mAeqZy3eE/Guc2CvAI4j8yMjIyMjLiP9PS0tLS0uI/ZmZmZmZm4j+mK9OV6crkPzkFL6fg5eQ/V0mj2nKV5D8RS0UsFbHkPzW1nh/cXuQ/cSD2qe3N5D+1xq5vJqvkP4AlxFAwX+Q/VVVVVVVV5T8fIfDMDWTlP2PK12EJR+U/4lJ8updj5T/e9XylsRvlPzWsIgyRP+Y/oNUQe4x+5j+1FkhrgbTmP6uqqqqqquY/NIJ3Dn865T8usXD7DmHjPw==",
          "dtype": "f8"
         }
        },
        {
         "legendgroup": "('llama3.1_8b_chat', 'birth_years_4k', 'base', 'main', 'prompt_only')",
         "line": {
          "width": 0
         },
         "mode": "lines",
         "name": "('llama3.1_8b_chat', 'birth_years_4k', 'base', 'main', 'prompt_only') +1 STD",
         "showlegend": false,
         "type": "scatter",
         "x": {
          "bdata": "AAECAwQFBgcICQoLDA0ODxAREhMUFRYXGBkaGxwdHh8=",
          "dtype": "i1"
         },
         "y": {
          "bdata": "eH1hP8wm1z+QrBoLXvzbP4dmPfDO/t0/EfFboQag4T85flzPofPiP65H/PqSMeM/HbzsN6H14z+sNJ3yhUblPwhmpULmheU/nDdFijjB5T+7WkwhYeHmP7OGLS0qOeY/yXp287aC5j+1sbe0NGjmPxcukX8pHuY/zuEy4tLR5j9zSAGrubDmP3kHFrHENec/aieicHuf5z+kol7JNEjnP5YQzc5+Suc/UJOWlPGC5z/hgtH5LXjnPz8QVveIsuc/iCtDQePR5z84oRBdnvLnP72/l7Ov8Oc/NTCAyGzU5z/mMzTAkvXnP08S6L0HGeg/ZGs7qzYX6D97Ebeo8ELoPw==",
          "dtype": "f8"
         }
        },
        {
         "fill": "tonexty",
         "fillcolor": "rgba(255, 127, 14, 0.3)",
         "legendgroup": "('llama3.1_8b_chat', 'birth_years_4k', 'base', 'main', 'prompt_only')",
         "line": {
          "width": 0
         },
         "mode": "lines",
         "name": "('llama3.1_8b_chat', 'birth_years_4k', 'base', 'main', 'prompt_only') -1 STD",
         "showlegend": false,
         "type": "scatter",
         "x": {
          "bdata": "AAECAwQFBgcICQoLDA0ODxAREhMUFRYXGBkaGxwdHh8=",
          "dtype": "i1"
         },
         "y": {
          "bdata": "pCQRSf760j++qYbodYHUP50iE1WMetQ/rUIYRlsl2D+TI/YuZ73gP67qXjTWzuA/nVGGf2hc4T+M2HPRnaziP+68+/Vc2uE/lmZeKEB74j8jJmjtnTnjP7/kCfH2beM/YZEbcNQi4z/Z/dU0R7jkP3fDpCUV3eQ/lm/3qXfj5D89LXwXGcHkPyO3grOZ5+Q/wnIM1LFj5T9gVV74TjjlP0g1M/x+5uQ/FM5wNsC55T+BBmrI5qnlP/W/ik+00+U/0jOzopbf5T9CMHRQD8HlP29Y9R0EY+Y/z2Jb8cJ55j/YfIiKNqrmP0GGrCobm+Y/WJLoMvjB5T/DFDk6o7rkPw==",
          "dtype": "f8"
         }
        },
        {
         "legendgroup": "('llama3.1_8b_chat', 'birth_years_4k', 'base', 'main', 'prompt_only')",
         "marker": {
          "color": "#ff7f0e",
          "opacity": 0.5,
          "size": 6
         },
         "mode": "markers",
         "name": "('llama3.1_8b_chat', 'birth_years_4k', 'base', 'main', 'prompt_only') Fold ('direction_f1_score', 0)",
         "showlegend": false,
         "type": "scatter",
         "x": {
          "bdata": "AAECAwQFBgcICQoLDA0ODxAREhMUFRYXGBkaGxwdHh8=",
          "dtype": "i1"
         },
         "y": {
          "bdata": "VVVVVVVV1T+0bjBFPuvWPyHoSgPk7dk/rFsBbs5Q4T+mcQZB7Z/jP5KfK2Y58uM/os/QZ+gz5D9sMUOjQqjlP1U+jPt1SeU/tEsndLXy5D/Q6ksFrb7kP9u2bdu2beU/wmVv6En15T8Mn8pSHDLmP4GmEGgKgeY/+EKKgI3R5j/4QoqAjdHmP3xuiVO/5+Y/KIfLgE8O5z8ot3hyiyfnP+TDL1Mpz+Y/kLmJ9h0h5z9ieTHy9yXmP3L/LmVnq+Y/AlLajYCU5j8s82SBSLrmP/HagJ5qheY/oNUQe4x+5j+1FkhrgbTmPyzzZIFIuuY/F2zBFmzB5j8usXD7DmHjPw==",
          "dtype": "f8"
         }
        },
        {
         "legendgroup": "('llama3.1_8b_chat', 'birth_years_4k', 'base', 'main', 'prompt_only')",
         "marker": {
          "color": "#ff7f0e",
          "opacity": 0.5,
          "size": 6
         },
         "mode": "markers",
         "name": "('llama3.1_8b_chat', 'birth_years_4k', 'base', 'main', 'prompt_only') Fold ('direction_f1_score', 1)",
         "showlegend": false,
         "type": "scatter",
         "x": {
          "bdata": "AAECAwQFBgcICQoLDA0ODxAREhMUFRYXGBkaGxwdHh8=",
          "dtype": "i1"
         },
         "y": {
          "bdata": "9oDZA2YP2D+e53me53nePy+66KKLLuA/3seJlut33z91+UfoBMrhPzFCbbeavuE/b7NIptss4j8ZIPHUkAHiP8mAeqZy3eE/Q9TNoGXH4z/YUF5DeQ3lP6TkWUb0AeU/SeXDuF+X5D8poTLfodvkP5VRGZVRGeU/V0mj2nKV5D8RS0UsFbHkP1VVVVVVVeU/cSD2qe3N5D+1xq5vJqvkP4AlxFAwX+Q/VVVVVVVV5T8fIfDMDWTlP2PK12EJR+U/4lJ8updj5T/e9XylsRvlPzWsIgyRP+Y/AYVqCVCo5j/Ok+aaGsPmP6uqqqqqquY/NIJ3Dn865T+uQnjdKoTnPw==",
          "dtype": "f8"
         }
        },
        {
         "legendgroup": "('llama3.1_8b_chat', 'birth_years_4k', 'base', 'main', 'prompt_only')",
         "marker": {
          "color": "#ff7f0e",
          "opacity": 0.5,
          "size": 6
         },
         "mode": "markers",
         "name": "('llama3.1_8b_chat', 'birth_years_4k', 'base', 'main', 'prompt_only') Fold ('direction_f1_score', 2)",
         "showlegend": false,
         "type": "scatter",
         "x": {
          "bdata": "AAECAwQFBgcICQoLDA0ODxAREhMUFRYXGBkaGxwdHh8=",
          "dtype": "i1"
         },
         "y": {
          "bdata": "FEVRFEVR1D+QcUHGBRnXP54T/DOPFtU/NK5FgpoK4T/VF+UuT33hP0A9U7nueOE/muoj32TE4T8mQ7CONu/jP9PS0tLS0uI/dLbjQ5By4z+3bdu2bdvmP7KHWUC+SOQ/vzdE//Ra5D/NwWigXUflP0SJWKOKnuU/u2TtkrVL5j9ffs7rZtLlP8rWpGxNyuY/J0p2baJk5z/zwyJl4OnmP0HDSd2Xx+Y/bzR1fu0h5z/uVB4deM/nP+h5nud5nuc/WHzFV3zF5z/GwB0QnrXnPwvN7VQeHeg/X9qiCM4O6D/yobR64SLoP9UE463sc+g/qIM6qIM66D/FvJ0hMW/nPw==",
          "dtype": "f8"
         }
        },
        {
         "legendgroup": "('llama3.1_8b_chat', 'birth_years_4k', 'base', 'main', 'prompt_only')",
         "marker": {
          "color": "#ff7f0e",
          "opacity": 0.5,
          "size": 6
         },
         "mode": "markers",
         "name": "('llama3.1_8b_chat', 'birth_years_4k', 'base', 'main', 'prompt_only') Fold ('direction_f1_score', 3)",
         "showlegend": false,
         "type": "scatter",
         "x": {
          "bdata": "AAECAwQFBgcICQoLDA0ODxAREhMUFRYXGBkaGxwdHh8=",
          "dtype": "i1"
         },
         "y": {
          "bdata": "kiRJkiRJ0j/UKX/UKX/UPxvKayivodQ/C2OqRT1n1T/vMqZ8HZbgP8XTHlcBweA/blp4y85J4T+qazm42S/kP3pFuZjsduI/Guc2CvAI4j8yMjIyMjLiP9PS0tLS0uI/ZmZmZmZm4j+mK9OV6crkP1VVVVVVVeU/o3JxD/oV5T8wxIrS+MjkPzW1nh/cXuQ/Fl/xFV/x5T8kvkwGS8PlP1VVVVVVVeU/AgRHfJkM5j9YMLT8CobmP6iyFIeMveY/4FHCLPbJ5j/Zlo5t6djmP0YXXXTRRec/NxmmS/Li5j/HcRzHcRznP+f4WGnDMuc/WO5phOWe5j8Xil4Xil7nPw==",
          "dtype": "f8"
         }
        },
        {
         "legendgroup": "('llama3.1_8b_chat', 'birth_years_4k', 'base', 'main', 'prompt_only')",
         "marker": {
          "color": "#ff7f0e",
          "opacity": 0.5,
          "size": 6
         },
         "mode": "markers",
         "name": "('llama3.1_8b_chat', 'birth_years_4k', 'base', 'main', 'prompt_only') Fold ('direction_f1_score', 4)",
         "showlegend": false,
         "type": "scatter",
         "x": {
          "bdata": "AAECAwQFBgcICQoLDA0ODxAREhMUFRYXGBkaGxwdHh8=",
          "dtype": "i1"
         },
         "y": {
          "bdata": "VVVVVVVV1T8PZqhiPD3YP6AcxYcqLNo/Wh1GmYrn2j+c3vSmN73hPyELWchCFuI/ONrpkSDe4z+4oAyr9RbkPwAAAAAAAOY/9U2JW5Jh5j+bZgtzt2nmP5eWlpaWluY/OjUPctfP5j89CalfMLHmPzkFL6fg5eQ/yWfdYIp85j+g1RB7jH7mP7eMW8Yt4+Y/lDCLfbJV5z8XbMEWbMHmP7Ss7aQzL+c/Iyz3NMJy5z+tt6AMq/XmPyASePshgec/QnsJ7SW05z8Jyz2NsNznP/ZQ8hdWqec/VaHgd9qq5z+d+9fyh9jnP9LhJwK0tuc/Dpp82aDJ5z/kJHOl/MbmPw==",
          "dtype": "f8"
         }
        },
        {
         "legendgroup": "('llama3.1_8b_chat', 'cities_10k', 'base', 'main', 'prompt_answer')",
         "line": {
          "color": "#2ca02c",
          "width": 2
         },
         "marker": {
          "size": 8
         },
         "mode": "lines+markers",
         "name": "('llama3.1_8b_chat', 'cities_10k', 'base', 'main', 'prompt_answer')",
         "type": "scatter",
         "x": {
          "bdata": "AAECAwQFBgcICQoLDA0ODxAREhMUFRYXGBkaGxwdHh8=",
          "dtype": "i1"
         },
         "y": {
          "bdata": "qg6BIdC55T/MYhHXfSPmP+tmC3kE3OY/nCY27/zH5j8ZkdMIYJrmP2EozdVrC+c/QvxqrJPo5j994580wvzmP9Kyie/aluY/upVF/R8c5z9u/MuetFLnP4V18gQufOc/ioBJ81A95z9O64sno2znP17E+Ji2yeY/RsGrabiL5j91msnnEmfmPyhPFejOm+Y/qPX5mlvA5j9l9FLTTgLnP5hM9TvT6OY/0mNf1bmz5j9xKyaI8LDmPyKMipBQyeY/guj+OlAa5j+20NgzOu3mP+J30OAL4uY/EGA7Rhu75T8q8YPLa4LkP4PnNyCoDOQ/S8Nbvy/s4z9zI10fRBfkPw==",
          "dtype": "f8"
         }
        },
        {
         "legendgroup": "('llama3.1_8b_chat', 'cities_10k', 'base', 'main', 'prompt_answer')",
         "line": {
          "width": 0
         },
         "mode": "lines",
         "name": "('llama3.1_8b_chat', 'cities_10k', 'base', 'main', 'prompt_answer') Max",
         "showlegend": false,
         "type": "scatter",
         "x": {
          "bdata": "AAECAwQFBgcICQoLDA0ODxAREhMUFRYXGBkaGxwdHh8=",
          "dtype": "i1"
         },
         "y": {
          "bdata": "ZSKnnbCK5j91MEoX7K3mP0YEzM3iDec/d5y3P9Ej5z8yinMdozjnP0YXXXTRRec/JrSX0F5C5z8mYpQAEUjnPyFh3XuUFOc/F27EMSRg5z9aoTbu84DnP0kPVM5u4ec/etOb3vSm5z+4Ws+Qb9rnP0gm0Dt1Lec/3JbFbVnc5j/yuaEoy/fmPyOEDamS5eY/MaTzFkM65z8y1aKes0rnP55V1BgpcOc/CYMjlgwY5z9XjhpXjhrnP9Pnt3bdT+c/ehJECPZ85j/hRXgRXoTnP/gCdTU6wuc/XXTRRRdd5z8WAscVAsflP10eMsFxk+U/x5LufFH85D/Vb61ASv3mPw==",
          "dtype": "f8"
         }
        },
        {
         "fill": "tonexty",
         "fillcolor": "rgba(44, 160, 44, 0.1)",
         "legendgroup": "('llama3.1_8b_chat', 'cities_10k', 'base', 'main', 'prompt_answer')",
         "line": {
          "width": 0
         },
         "mode": "lines",
         "name": "('llama3.1_8b_chat', 'cities_10k', 'base', 'main', 'prompt_answer') Min",
         "showlegend": false,
         "type": "scatter",
         "x": {
          "bdata": "AAECAwQFBgcICQoLDA0ODxAREhMUFRYXGBkaGxwdHh8=",
          "dtype": "i1"
         },
         "y": {
          "bdata": "8lwJN2+55D+HqlCOH6HlPygVJt6PnOY/0Gw+LY965j+rqqqqqqrlP6EBS3r50+Y/TybtcsdY5j9AYgF3+iPmP2L/XCX2z+U/6Ec+NTex5j/YTZvznxfnPw2yUhlAMuc/jVXCE7+w5j91JMaCCfzmPyxiT3fCIuY/TJa/ZPlL5j/2OaQmGG/lP2QhC1nIQuY/YXjp6Xt55j/mCrEcAYXmP4XNgUQrbOY/YXjp6Xt55j9sCb7NX2HmP8Ivx7CZS+Y/CnFWfkKc5T/z86JaLEzmP/ayBt5QweQ/U8G1PYDy4z/kkNU3WLTiP93iyS2e3OI/lc89CPAO4z+SI0eOHDniPw==",
          "dtype": "f8"
         }
        },
        {
         "legendgroup": "('llama3.1_8b_chat', 'cities_10k', 'base', 'main', 'prompt_answer')",
         "line": {
          "width": 0
         },
         "mode": "lines",
         "name": "('llama3.1_8b_chat', 'cities_10k', 'base', 'main', 'prompt_answer') +1 STD",
         "showlegend": false,
         "type": "scatter",
         "x": {
          "bdata": "AAECAwQFBgcICQoLDA0ODxAREhMUFRYXGBkaGxwdHh8=",
          "dtype": "i1"
         },
         "y": {
          "bdata": "X35JPtZ+5j86pQDjUZTmPw0AiA1DB+c/HLBNEHYQ5z+mT8/DXTfnP6bRZvD2Puc/sJ2TgxlD5z8V6gtH6XfnP+HaAenbHec/F+PR9x1t5z84M0s9JX/nP4E2Jm+1xuc/ZioYroef5z+yBWsJGcXnP4g2QbLwL+c/3neRSOPF5j9BD9anywLnP15v79Mt2+Y/HtLnBOUN5z+OfnzxMVHnP2M1kSRtS+c/CUUl3xcD5z86YR6UXQ/nP2j2tYjOLec/krGqaNiM5j+00iEwA3vnP2M8X9HAHeg/VVDWj9FN5z/ye7VZiMDlP+wfoXdyG+U/4Zps2+mo5D/gDV94iO3lPw==",
          "dtype": "f8"
         }
        },
        {
         "fill": "tonexty",
         "fillcolor": "rgba(44, 160, 44, 0.3)",
         "legendgroup": "('llama3.1_8b_chat', 'cities_10k', 'base', 'main', 'prompt_answer')",
         "line": {
          "width": 0
         },
         "mode": "lines",
         "name": "('llama3.1_8b_chat', 'cities_10k', 'base', 'main', 'prompt_answer') -1 STD",
         "showlegend": false,
         "type": "scatter",
         "x": {
          "bdata": "AAECAwQFBgcICQoLDA0ODxAREhMUFRYXGBkaGxwdHh8=",
          "dtype": "i1"
         },
         "y": {
          "bdata": "9Z64BMr05D9eICLLqbLlP8nNjuTFsOY/HJ0ezoN/5j+M0tdNYv3lPxx/M7vg1+Y/1FpC1Q2O5j/l3DMim4HmP8OKEfbZD+Y/XUi5AiLL5j+kxUwARCbnP4m0vpqmMec/rtZ6OBrb5j/q0KxFLRTnPzRSsH98Y+Y/rgrGio1R5j+pJb0nWsvlP/IuO/xvXOY/MhkMMdJy5j88aim1a7PmP81jWVM5huY/m4KZy1tk5j+o9S18g1LmP9whX5jSZOY/ch9TDcin5T+4zo83cV/mP2GzQfBWpuU/y2+g/GQo5D9iZlI9T0TjPxqvzsjd/eI/tetKo3Uv4z8GOVvG/0DiPw==",
          "dtype": "f8"
         }
        },
        {
         "legendgroup": "('llama3.1_8b_chat', 'cities_10k', 'base', 'main', 'prompt_answer')",
         "marker": {
          "color": "#2ca02c",
          "opacity": 0.5,
          "size": 6
         },
         "mode": "markers",
         "name": "('llama3.1_8b_chat', 'cities_10k', 'base', 'main', 'prompt_answer') Fold ('direction_f1_score', 0)",
         "showlegend": false,
         "type": "scatter",
         "x": {
          "bdata": "AAECAwQFBgcICQoLDA0ODxAREhMUFRYXGBkaGxwdHh8=",
          "dtype": "i1"
         },
         "y": {
          "bdata": "SkByNR5q5j91MEoX7K3mP3gBKMIqzeY/3CgjrTvC5j8LwZQ7NHHmP75E5jIrPuc/TybtcsdY5j8yJQzAnA7nPyFh3XuUFOc/F27EMSRg5z8rDZq9EHfnP9gpUijWrec/1hDknB5w5z8cLUhAza7nPxMYngXH+OY/moDBY3mv5j/yuaEoy/fmPyOEDamS5eY/HYvhgiew5j+pxzmTxBTnP6rhE38UHOc/YXjp6Xt55j9NicUBPnrmP+E30dO5veY/dNpApw105j9H9fd5m3TnP/ayBt5QweQ/U8G1PYDy4z8YtH2ojdLjP93iyS2e3OI/Fk2rfDH84z+SI0eOHDniPw==",
          "dtype": "f8"
         }
        },
        {
         "legendgroup": "('llama3.1_8b_chat', 'cities_10k', 'base', 'main', 'prompt_answer')",
         "marker": {
          "color": "#2ca02c",
          "opacity": 0.5,
          "size": 6
         },
         "mode": "markers",
         "name": "('llama3.1_8b_chat', 'cities_10k', 'base', 'main', 'prompt_answer') Fold ('direction_f1_score', 1)",
         "showlegend": false,
         "type": "scatter",
         "x": {
          "bdata": "AAECAwQFBgcICQoLDA0ODxAREhMUFRYXGBkaGxwdHh8=",
          "dtype": "i1"
         },
         "y": {
          "bdata": "BFQ5Qj9A5T/z+c9SgeLlPygVJt6PnOY/Hh+ClJuK5j+rqqqqqqrlP6EBS3r50+Y/GDe6rd8X5z9AYgF3+iPmP2L/XCX2z+U/6Ec+NTex5j/YTZvznxfnP0kPVM5u4ec/etOb3vSm5z+4Ws+Qb9rnP13lmfi47+Y/TJa/ZPlL5j9Wyh7/ijbmP2QhC1nIQuY/YXjp6Xt55j/mCrEcAYXmP4XNgUQrbOY/RPAhs9F55j968ScSTmnmP2Rie5xZkuY/CnFWfkKc5T96FqZnYXrmP+pgxZha5eY/4x9lOekA5z9VVVVVVVXlP10eMsFxk+U/lc89CPAO4z/37hEI6oLkPw==",
          "dtype": "f8"
         }
        },
        {
         "legendgroup": "('llama3.1_8b_chat', 'cities_10k', 'base', 'main', 'prompt_answer')",
         "marker": {
          "color": "#2ca02c",
          "opacity": 0.5,
          "size": 6
         },
         "mode": "markers",
         "name": "('llama3.1_8b_chat', 'cities_10k', 'base', 'main', 'prompt_answer') Fold ('direction_f1_score', 2)",
         "showlegend": false,
         "type": "scatter",
         "x": {
          "bdata": "AAECAwQFBgcICQoLDA0ODxAREhMUFRYXGBkaGxwdHh8=",
          "dtype": "i1"
         },
         "y": {
          "bdata": "szUpW5Oy5T8fDpL8LP3lP6RI3whQ9+Y/0Gw+LY965j9tbt1jGJ3mP/ZtGjmo6OY/nHBvwr0J5z/jzRo5/zXnPz0w8bWNxOY/0vIcOhNH5z9aoTbu84DnP5FmZ2yKPuc/jVXCE7+w5j/PrbDibkPnPyxiT3fCIuY/IUv/PMN95j/Dr8ZEeqDmPycL2LkQxOY/MaTzFkM65z//0CzhXjrnP55V1BgpcOc/CYMjlgwY5z+pxvhvOBXnP9Pnt3bdT+c/ehJECPZ85j/hRXgRXoTnP/gCdTU6wuc/6WFvVIoe5j8WAscVAsflP0IIIYQQQuQ/Ow9aB9wm5D/NzMzMzMzjPw==",
          "dtype": "f8"
         }
        },
        {
         "legendgroup": "('llama3.1_8b_chat', 'cities_10k', 'base', 'main', 'prompt_answer')",
         "marker": {
          "color": "#2ca02c",
          "opacity": 0.5,
          "size": 6
         },
         "mode": "markers",
         "name": "('llama3.1_8b_chat', 'cities_10k', 'base', 'main', 'prompt_answer') Fold ('direction_f1_score', 3)",
         "showlegend": false,
         "type": "scatter",
         "x": {
          "bdata": "AAECAwQFBgcICQoLDA0ODxAREhMUFRYXGBkaGxwdHh8=",
          "dtype": "i1"
         },
         "y": {
          "bdata": "8lwJN2+55D+HqlCOH6HlPw6fP+Yo3eY/d5y3P9Ej5z8yinMdozjnP0YXXXTRRec/JrSX0F5C5z8mYpQAEUjnP3N5yATHTeY/fpaIIY/Z5j8QZd0HRFnnPw2yUhlAMuc/aPyIKZgD5z91JMaCCfzmP+9PhEvZt+Y/3JbFbVnc5j/2OaQmGG/lPxoYQ5HZouY/OmC3x1qG5j8y1aKes0rnP2PAgso4uuY/R7l8OF575j9sCb7NX2HmP8Ivx7CZS+Y/9Oi0dlmf5T/z86JaLEzmP3OyLhiRZuc/1CjNTX045D/kkNU3WLTiP4sFzaFiQeM/xhGZs59u4z8XYv74Nu7iPw==",
          "dtype": "f8"
         }
        },
        {
         "legendgroup": "('llama3.1_8b_chat', 'cities_10k', 'base', 'main', 'prompt_answer')",
         "marker": {
          "color": "#2ca02c",
          "opacity": 0.5,
          "size": 6
         },
         "mode": "markers",
         "name": "('llama3.1_8b_chat', 'cities_10k', 'base', 'main', 'prompt_answer') Fold ('direction_f1_score', 4)",
         "showlegend": false,
         "type": "scatter",
         "x": {
          "bdata": "AAECAwQFBgcICQoLDA0ODxAREhMUFRYXGBkaGxwdHh8=",
          "dtype": "i1"
         },
         "y": {
          "bdata": "ZSKnnbCK5j/tClo+u4LmP0YEzM3iDec/zG9z/bj85j8kcZHERRLnP0T+WNJ8+OY/I2toqh7O5j/5uWKWIz/nP+lzvFFn++Y/Ua2zL6Ja5z+2jLJynjTnP975W5zWbOc/a0ykBypn5z9tPi2PelbnP0gm0Dt1Lec/e80UnQpl5j9IlsTzdcXmPwHDNjvFe+Y/XsRru4jX5j84TeTwsezmP8K53YR+2eY/KE4xv+j75j9XjhpXjhrnP9QK6ToIA+c/n0NqgvFW5j/3zYK1m+LmPx2Oop/Emuc/XXTRRRdd5z9sGSSu3ejkP4d2LYzFS+Q/x5LufFH85D/Vb61ASv3mPw==",
          "dtype": "f8"
         }
        },
        {
         "legendgroup": "('llama3.1_8b_chat', 'cities_10k', 'base', 'main', 'prompt_only')",
         "line": {
          "color": "#d62728",
          "width": 2
         },
         "marker": {
          "size": 8
         },
         "mode": "lines+markers",
         "name": "('llama3.1_8b_chat', 'cities_10k', 'base', 'main', 'prompt_only')",
         "type": "scatter",
         "x": {
          "bdata": "AAECAwQFBgcICQoLDA0ODxAREhMUFRYXGBkaGxwdHh8=",
          "dtype": "i1"
         },
         "y": {
          "bdata": "iqgHfkqo3z9ywYKpoSbiP/fGxGmoy+E/voK/IxG64T+KGUdgf2riP+IXWjIIHuM//+DZKivY5D+fsfTF95jlP/OD8D2mk+Q/vBAV+bKD5D/geQqbTJflP4IVBdSIp+U/+k94MYfz5T/nURTj7SnmP6KHTYzJBuY/kr2yIRek5T86KXSvdH3lP8aAAwGtU+U/jXuSenFv5T8tcwopYUHlPydWrGBdduU/q1zn3Apv5T/RLSJb80PlP90jJBdgZOU/6EZDErJb5T/y4JNATUzlPwppWIjxNuU/yE1xpWgl5T+6u42eYiTlP5Cmeb9MqeQ/Kltm9ho05D8mPcYKKq7gPw==",
          "dtype": "f8"
         }
        },
        {
         "legendgroup": "('llama3.1_8b_chat', 'cities_10k', 'base', 'main', 'prompt_only')",
         "line": {
          "width": 0
         },
         "mode": "lines",
         "name": "('llama3.1_8b_chat', 'cities_10k', 'base', 'main', 'prompt_only') Max",
         "showlegend": false,
         "type": "scatter",
         "x": {
          "bdata": "AAECAwQFBgcICQoLDA0ODxAREhMUFRYXGBkaGxwdHh8=",
          "dtype": "i1"
         },
         "y": {
          "bdata": "j3JHuaPc4T8WI8gpH5XiP8IhHMIhHOI/R7JfFexG4j9gKVDrVwrkPzlTLF1bgeM/HMKQQH5i5T+8gdwhluDlP9YPOirwxeU/9wDHIvzj5D/mZEacolnmP9ppmatQF+Y/jLixdwpq5j+K0ftOunnmP/iYDASvU+Y/kzc7l2pD5j/qYSyCmT/mP+nQm+ncN+Y/ZTnpANc05j81WcDOhSDmP0tg036yBOY/6qAO6qAO5j9JL3/aQgPmP3tfE4Ky9+U/dqPKPBIf5j9tSVvSlrTlP9FFF1100eU/BGsEGtK45T+FZHGfJorlP6L3ThCUnuU/qng1mxg85T98+Km1yVnlPw==",
          "dtype": "f8"
         }
        },
        {
         "fill": "tonexty",
         "fillcolor": "rgba(214, 39, 40, 0.1)",
         "legendgroup": "('llama3.1_8b_chat', 'cities_10k', 'base', 'main', 'prompt_only')",
         "line": {
          "width": 0
         },
         "mode": "lines",
         "name": "('llama3.1_8b_chat', 'cities_10k', 'base', 'main', 'prompt_only') Min",
         "showlegend": false,
         "type": "scatter",
         "x": {
          "bdata": "AAECAwQFBgcICQoLDA0ODxAREhMUFRYXGBkaGxwdHh8=",
          "dtype": "i1"
         },
         "y": {
          "bdata": "p0K04fPH3D+fTsRJMKfhP39tOZ3ISuE/ihMnTpw44T9xFfMNdqngP+Lh4eHh4eI/UuszQ5dl5D9IsDQJg1nlP+G6d8c4AuM/iwhlsu0C5D8l2yTbJNvkP/wvenYDFuU/PjKk0aqU5T9uq/s08HXlP2VNWVPWlOU/z6wCLuSH5D9mlE432mXkP99lgGw7oOQ/8pQgTwny5D/p/blW2XDkP8QTrSMyCOU/EnUBM/kR5T/gB37gB37kP7BKQdX6quQ/uQnzu1rc5D/e3d3d3d3kP8pOWW6Y7OQ/TvYUsGBf5D/u15bTiazkPxczWSOA0OM/SbrWnQ8s4z/Tbp9eCtDdPw==",
          "dtype": "f8"
         }
        },
        {
         "legendgroup": "('llama3.1_8b_chat', 'cities_10k', 'base', 'main', 'prompt_only')",
         "line": {
          "width": 0
         },
         "mode": "lines",
         "name": "('llama3.1_8b_chat', 'cities_10k', 'base', 'main', 'prompt_only') +1 STD",
         "showlegend": false,
         "type": "scatter",
         "x": {
          "bdata": "AAECAwQFBgcICQoLDA0ODxAREhMUFRYXGBkaGxwdHh8=",
          "dtype": "i1"
         },
         "y": {
          "bdata": "daJO6Tsb4T/MPOhxFIviP7VMB8JLMOI/ZwCyJSk04j/7aHcqi83jP8VyFkIWXOM/pxeH8HBE5T+mtMRcLdvlP0RiiZm+ouU/h9TLk6zU5D92uuXa+B7mP1b2u6CoF+Y/KuxdODJW5j+zcdrrVJLmP3b540m6YOY/tTil04lY5j+XToHSJj/mPzEojqOP+uU/SsHAQj/p5T+HcYfc/OHlP+3HWwhK2+U/NkRCRhzR5T+hh4RlldblP2nWQgGI6+U/TV7mMm/g5T9TWxkxrqXlP0CeEFRBlOU/DlwkMI215T/kbRuj34TlP+ps4wfBW+U/7jLO0t0d5T+dcMd501fjPw==",
          "dtype": "f8"
         }
        },
        {
         "fill": "tonexty",
         "fillcolor": "rgba(214, 39, 40, 0.3)",
         "legendgroup": "('llama3.1_8b_chat', 'cities_10k', 'base', 'main', 'prompt_only')",
         "line": {
          "width": 0
         },
         "mode": "lines",
         "name": "('llama3.1_8b_chat', 'cities_10k', 'base', 'main', 'prompt_only') -1 STD",
         "showlegend": false,
         "type": "scatter",
         "x": {
          "bdata": "AAECAwQFBgcICQoLDA0ODxAREhMUFRYXGBkaGxwdHh8=",
          "dtype": "i1"
         },
         "y": {
          "bdata": "KwxyKR0a3T8YRh3hLsLhPzlBghEFZ+E/FQXNIfk/4T8ZyhaWcwfhP/+8nSL63+I/V6osZeVr5D+YriQvwlblP6KlV+KNhOM/8UxeXrky5D9KOS9boA/lP640TgdpN+U/yrOSKtyQ5T8bMk7ahsHlP84Vt87YrOU/b0LAb6Tv5D/dA2eMwrvkP1vZeF7KrOQ/0DVksqP15D/TdI11xaDkP2Hk/LhwEeU/IHWMc/kM5T8B1L9QUbHkP1FxBS043eQ/gy+g8fTW5D+RZg5Q7PLkP9QzoLyh2eQ/gj++GkSV5D+QCQCa5cPkPzbgD3fY9uM/ZoP+GVhK4z9eE4o3AQncPw==",
          "dtype": "f8"
         }
        },
        {
         "legendgroup": "('llama3.1_8b_chat', 'cities_10k', 'base', 'main', 'prompt_only')",
         "marker": {
          "color": "#d62728",
          "opacity": 0.5,
          "size": 6
         },
         "mode": "markers",
         "name": "('llama3.1_8b_chat', 'cities_10k', 'base', 'main', 'prompt_only') Fold ('direction_f1_score', 0)",
         "showlegend": false,
         "type": "scatter",
         "x": {
          "bdata": "AAECAwQFBgcICQoLDA0ODxAREhMUFRYXGBkaGxwdHh8=",
          "dtype": "i1"
         },
         "y": {
          "bdata": "j3JHuaPc4T+fTsRJMKfhPwrSc5TRGOI/z5JUTwwu4j9EpSN7BqLiP4+SfqeQCOM/taTvSlsQ5T9IsDQJg1nlP+G6d8c4AuM/iwhlsu0C5D+cWXFmxZnlP2sAkyDK7OU/PjKk0aqU5T85juM4jmPmP/iYDASvU+Y/kzc7l2pD5j/qYSyCmT/mP+nQm+ncN+Y/ZTnpANc05j81WcDOhSDmP0tg036yBOY/6qAO6qAO5j9JL3/aQgPmP3tfE4Ky9+U/dqPKPBIf5j/OeqJso33lP8pOWW6Y7OQ/s6DaczJ95T/C4EZIQWTlP6L3ThCUnuU/qng1mxg85T98+Km1yVnlPw==",
          "dtype": "f8"
         }
        },
        {
         "legendgroup": "('llama3.1_8b_chat', 'cities_10k', 'base', 'main', 'prompt_only')",
         "marker": {
          "color": "#d62728",
          "opacity": 0.5,
          "size": 6
         },
         "mode": "markers",
         "name": "('llama3.1_8b_chat', 'cities_10k', 'base', 'main', 'prompt_only') Fold ('direction_f1_score', 1)",
         "showlegend": false,
         "type": "scatter",
         "x": {
          "bdata": "AAECAwQFBgcICQoLDA0ODxAREhMUFRYXGBkaGxwdHh8=",
          "dtype": "i1"
         },
         "y": {
          "bdata": "8Af8AX/A3z8WI8gpH5XiP8IhHMIhHOI/ihMnTpw44T8Tbt5yqVrjP+Lh4eHh4eI/lN1vlN1v5D/HFJWJPmLlP9YPOirwxeU/d9Lw+qiN5D/mZEacolnmP03h9PmS4OU/hiO6XvBR5j+K0ftOunnmP2VNWVPWlOU/z6wCLuSH5D9Tg4aCRxHlPz0tdMeuhuU/TsHLKXg55T/48SKkzC3lP7RD4MYyKOU/40GBq8cv5T8/p976TfjkP5CGR459COU/VhNVdtVE5T/e3d3d3d3kP8deyCtbP+U/TZ1fe8hl5T+K8sMHSkrlPxFG/R22LOQ/SbrWnQ8s4z+ElnTdx8TfPw==",
          "dtype": "f8"
         }
        },
        {
         "legendgroup": "('llama3.1_8b_chat', 'cities_10k', 'base', 'main', 'prompt_only')",
         "marker": {
          "color": "#d62728",
          "opacity": 0.5,
          "size": 6
         },
         "mode": "markers",
         "name": "('llama3.1_8b_chat', 'cities_10k', 'base', 'main', 'prompt_only') Fold ('direction_f1_score', 2)",
         "showlegend": false,
         "type": "scatter",
         "x": {
          "bdata": "AAECAwQFBgcICQoLDA0ODxAREhMUFRYXGBkaGxwdHh8=",
          "dtype": "i1"
         },
         "y": {
          "bdata": "p0K04fPH3D8ODnWcz33iPy78akykB+I/R7JfFexG4j9gKVDrVwrkPzlTLF1bgeM/HMKQQH5i5T+8gdwhluDlP06RPrsbM+U/JUmSJEmS5D/xBSt/ZaHlP/zvfef6SuU/K18M/8S15T9sCmW9plDmP2R+wae/O+Y/VrKSlaxk5T+ILF1olwnmP99lgGw7oOQ/XlxTFFtK5T/p/blW2XDkP8QTrSMyCOU/EnUBM/kR5T/gB37gB37kP7BKQdX6quQ/nQfYUdLv5D/gy+EzMQLlP1dSW0ltJeU/TvYUsGBf5D/u15bTiazkP0B17K0N0+Q/1Rsl3HpO4z/ktDc/UzPePw==",
          "dtype": "f8"
         }
        },
        {
         "legendgroup": "('llama3.1_8b_chat', 'cities_10k', 'base', 'main', 'prompt_only')",
         "marker": {
          "color": "#d62728",
          "opacity": 0.5,
          "size": 6
         },
         "mode": "markers",
         "name": "('llama3.1_8b_chat', 'cities_10k', 'base', 'main', 'prompt_only') Fold ('direction_f1_score', 3)",
         "showlegend": false,
         "type": "scatter",
         "x": {
          "bdata": "AAECAwQFBgcICQoLDA0ODxAREhMUFRYXGBkaGxwdHh8=",
          "dtype": "i1"
         },
         "y": {
          "bdata": "qOy/68yG3j8cmJpDKOXhP39tOZ3ISuE/D7zYZ1Jf4T+GLR76/mPhP7YiaDip++I/UuszQ5dl5D/UtKMY4YHlP7LlU15gv+Q/jC666KKL5D8l2yTbJNvkP/wvenYDFuU/YyI9UDm75T9uq/s08HXlP1EgQLNHtuU/AAAAAADg5T9mlE432mXkP64IGk7qvuQ/8pQgTwny5D9THw966/7kP6alpaWlpeU/532KS4Zg5T9VVVVVVVXlP/kUfpugrOU/uQnzu1rc5D/E9iXyOGvlP3fHJWni7+Q/l+Xigd2/5D/mmrFVsdDkPxczWSOA0OM/FqE351mh5D8pXI/C9SjgPw==",
          "dtype": "f8"
         }
        },
        {
         "legendgroup": "('llama3.1_8b_chat', 'cities_10k', 'base', 'main', 'prompt_only')",
         "marker": {
          "color": "#d62728",
          "opacity": 0.5,
          "size": 6
         },
         "mode": "markers",
         "name": "('llama3.1_8b_chat', 'cities_10k', 'base', 'main', 'prompt_only') Fold ('direction_f1_score', 4)",
         "showlegend": false,
         "type": "scatter",
         "x": {
          "bdata": "AAECAwQFBgcICQoLDA0ODxAREhMUFRYXGBkaGxwdHh8=",
          "dtype": "i1"
         },
         "y": {
          "bdata": "VC4nNO2A3z9cr/H74CHiP1yFo9DpcuE/BHkJmG6V4T9xFfMNdqngPwaNzdyxLuM/QzUdc4nw5D97fH0Qnt7lPwhSbiqaJ+Q/9wDHIvzj5D/IwSyqjITlP9ppmatQF+Y/jLixdwpq5j/lgyX1xS3mPxghHAtjR+Y/IR2tTXgk5j/8J+bI9LLlPy8XZ5mvhOU/wH2z1oOC5T9314eJzojlP11RV9QVdeU/kPloPE565T9YsXm80oTlP5xtmvIUnuU/ZpplmmWa5T9tSVvSlrTlP9FFF1100eU/BGsEGtK45T+FZHGfJorlP8Razr2n3+Q/7teW04ms5D/Tbp9eCtDdPw==",
          "dtype": "f8"
         }
        },
        {
         "legendgroup": "('llama3.1_8b_chat', 'football_leagues_1k', 'base', 'main', 'prompt_answer')",
         "line": {
          "color": "#9467bd",
          "width": 2
         },
         "marker": {
          "size": 8
         },
         "mode": "lines+markers",
         "name": "('llama3.1_8b_chat', 'football_leagues_1k', 'base', 'main', 'prompt_answer')",
         "type": "scatter",
         "x": {
          "bdata": "AAECAwQFBgcICQoLDA0ODxAREhMUFRYXGBkaGxwdHh8=",
          "dtype": "i1"
         },
         "y": {
          "bdata": "cZPV9W6r4j+vZC93V+ziP7ZpoZeIhOI/W+7MhmVv4z96TZwbLfniP0o/zCDnPuM/5kq3T3RO4z8dPaJ5vXzfP7B4jDEIQN8/RkkFGotP4T87A4Fr6g7iP8EovgOja+E/Qlg9o08K4j9uCjdPonfiPy47od1psuM/mYUP1rbK4j+oKZb6O5DiP8An2FtPTeI/vDPcFP9S4j+UKGfaEEniP/P97NqqKeI/bby4QpyU4T82VXXIpY7hP7S/nZ4A5+E/ns7ywrmh4T++twAfPhriPyZjnUKukuE/Puk5yOeI3j8r0hzIYozePwYhL8C4R94/+KA/IG/J2z+qo5DdExzePw==",
          "dtype": "f8"
         }
        },
        {
         "legendgroup": "('llama3.1_8b_chat', 'football_leagues_1k', 'base', 'main', 'prompt_answer')",
         "line": {
          "width": 0
         },
         "mode": "lines",
         "name": "('llama3.1_8b_chat', 'football_leagues_1k', 'base', 'main', 'prompt_answer') Max",
         "showlegend": false,
         "type": "scatter",
         "x": {
          "bdata": "AAECAwQFBgcICQoLDA0ODxAREhMUFRYXGBkaGxwdHh8=",
          "dtype": "i1"
         },
         "y": {
          "bdata": "zspPiLPy4z8Gnm7ND4vkP87KT4iz8uM/gqh0ZM9A5D8GfUFf0BfkP+wdUwN7x+Q/UV5DeQ3l5T9VVVVVVVXlP3CXejJ+u+Q/8lk3mCKf5T9ItMLmQKLlP0i0wuZAouU/8lk3mCKf5T9VVVVVVVXlP1VVVVVVVeU/v6vFTZjf5T/YUF5DeQ3lP69evXr16uU/VVVVVVVV5T9VVVVVVVXlP/JZN5gin+U/XkN5DeU15D+g0wY6baDjPyVJkiRJkuQ/+rWHXFYM5D8lSZIkSZLkPyVJkiRJkuQ/JUmSJEmS5D/6tYdcVgzkP2WTTTbZZOM/ZZNNNtlk4z/PRn1no77jPw==",
          "dtype": "f8"
         }
        },
        {
         "fill": "tonexty",
         "fillcolor": "rgba(148, 103, 189, 0.1)",
         "legendgroup": "('llama3.1_8b_chat', 'football_leagues_1k', 'base', 'main', 'prompt_answer')",
         "line": {
          "width": 0
         },
         "mode": "lines",
         "name": "('llama3.1_8b_chat', 'football_leagues_1k', 'base', 'main', 'prompt_answer') Min",
         "showlegend": false,
         "type": "scatter",
         "x": {
          "bdata": "AAECAwQFBgcICQoLDA0ODxAREhMUFRYXGBkaGxwdHh8=",
          "dtype": "i1"
         },
         "y": {
          "bdata": "dNFFF1104T/RC73QC73gP/Hw8PDw8OA/mCKfdYMp4j85juM4juPgPw4kWmFzIOE/8RVf8RVf4T8zMzMzMzPDPxzHcRzHcbw/25WoXYna1T8YhmEYhmHYP5AGaZAGadA/F1100UUX3T8XXXTRRRfdP+xRuB6F6+E/C1nIQhay4D8RERERERHhP5zUfXlsReA/nNR9eWxF4D/Wh8b60FjfP5zUfXlsReA/nud5nud53j/e3d3d3d3dPwgffPDBB98/nud5nud53j/nnHPOOefcP1cEDSd1X94/VVVVVVVV1T8zMzMzMzPDPwAAAAAAANg/QUyuICZX0D/ylCBPCfLUPw==",
          "dtype": "f8"
         }
        },
        {
         "legendgroup": "('llama3.1_8b_chat', 'football_leagues_1k', 'base', 'main', 'prompt_answer')",
         "line": {
          "width": 0
         },
         "mode": "lines",
         "name": "('llama3.1_8b_chat', 'football_leagues_1k', 'base', 'main', 'prompt_answer') +1 STD",
         "showlegend": false,
         "type": "scatter",
         "x": {
          "bdata": "AAECAwQFBgcICQoLDA0ODxAREhMUFRYXGBkaGxwdHh8=",
          "dtype": "i1"
         },
         "y": {
          "bdata": "sYLbDjqd4z/reg+wX6TkP9aAEvtE4uM/fW4nZ8JC5D9KAsyAnDXkP/IAquvsw+Q/9/+G7ToC5T/tZOSuzz/mP4fiTSsWouY/FfN+/D+M5T9CJmwzCuLlP1k2bzKf7eY/5XZ8Y6vG5D9STBOtokXlP6+GJ/rdDeU/z7RfCVK45D9LYNiSBx7kP8Y6EwCSbeQ/d4ic/asv5D9DgMzYm1PkPxejKVsmO+Q/xDeblJdl4z/a1WRAiWXjP2NNg+y9t+M/I4s4mmth4z/dv81wCovkP1RveYHe/OM/8FP6Q5U44z828APlkMrlP9JCmXNZ9uE/ubTqp28l4j8nV5BAR4HjPw==",
          "dtype": "f8"
         }
        },
        {
         "fill": "tonexty",
         "fillcolor": "rgba(148, 103, 189, 0.3)",
         "legendgroup": "('llama3.1_8b_chat', 'football_leagues_1k', 'base', 'main', 'prompt_answer')",
         "line": {
          "width": 0
         },
         "mode": "lines",
         "name": "('llama3.1_8b_chat', 'football_leagues_1k', 'base', 'main', 'prompt_answer') -1 STD",
         "showlegend": false,
         "type": "scatter",
         "x": {
          "bdata": "AAECAwQFBgcICQoLDA0ODxAREhMUFRYXGBkaGxwdHh8=",
          "dtype": "i1"
         },
         "y": {
          "bdata": "MaTP3KO54T9zTk8+TzThP5ZSMDTMJuE/OW5ypgic4j+qmGy2vbzhP6J97lXhueE/1ZXnsa2a4T9gsHuV23nSP1IsfQzkO9E/7j4Xb6wl2j9pwCtHlXfcP1I2GqpN09c/PnP8xeeb3j8TkbXiQ1PfP63vGsH1VuI/Y1a/ohvd4D8F81NicALhP7oUnbcMLeA/Ad8bLFJ24D/l0AHchT7gP89YsFovGOA/LYKs4UGH3z8jqQuhhG/fPwUyuFBDFuA/MiRa1w/E3z8+X2ea41LfP++tggf8UN4/nCp/CKWg1j/qwzHGo4PRP2i8K5m+otg/ftip8P5H0z8GmQA6mTXVPw==",
          "dtype": "f8"
         }
        },
        {
         "legendgroup": "('llama3.1_8b_chat', 'football_leagues_1k', 'base', 'main', 'prompt_answer')",
         "marker": {
          "color": "#9467bd",
          "opacity": 0.5,
          "size": 6
         },
         "mode": "markers",
         "name": "('llama3.1_8b_chat', 'football_leagues_1k', 'base', 'main', 'prompt_answer') Fold ('direction_f1_score', 0)",
         "showlegend": false,
         "type": "scatter",
         "x": {
          "bdata": "AAECAwQFBgcICQoLDA0ODxAREhMUFRYXGBkaGxwdHh8=",
          "dtype": "i1"
         },
         "y": {
          "bdata": "mCKfdYMp4j/RC73QC73gP/Hw8PDw8OA/g/MxOB+D4z85juM4juPgPw4kWmFzIOE/8RVf8RVf4T8zMzMzMzPDPxzHcRzHcbw/25WoXYna1T8YhmEYhmHYP5AGaZAGadA/F1100UUX3T8XXXTRRRfdP+/LYyuChuM/C1nIQhay4D9yHMdxHMfhP5zUfXlsReA/nNR9eWxF4D/Wh8b60FjfP5zUfXlsReA/nud5nud53j/e3d3d3d3dPwgffPDBB98/nud5nud53j/nnHPOOefcPwgffPDBB98/PDw8PDw83D8zMzMzMzPDP3qgcnYLv9o/EayjzfsU1z/ylCBPCfLUPw==",
          "dtype": "f8"
         }
        },
        {
         "legendgroup": "('llama3.1_8b_chat', 'football_leagues_1k', 'base', 'main', 'prompt_answer')",
         "marker": {
          "color": "#9467bd",
          "opacity": 0.5,
          "size": 6
         },
         "mode": "markers",
         "name": "('llama3.1_8b_chat', 'football_leagues_1k', 'base', 'main', 'prompt_answer') Fold ('direction_f1_score', 1)",
         "showlegend": false,
         "type": "scatter",
         "x": {
          "bdata": "AAECAwQFBgcICQoLDA0ODxAREhMUFRYXGBkaGxwdHh8=",
          "dtype": "i1"
         },
         "y": {
          "bdata": "dNFFF1104T900UUXXXThPypnt/CrMeE/MzMzMzMz4z+/XerJ+O3iP5MmTZo0aeI/09LS0tLS4j8AAAAAAADhP5IbuZEbueE/eQ3lNZTX4D8NJ3VfHlvhP7ETO7ETO+E/Yid2Yid24j8hC1nIQhbiP+xRuB6F6+E/kiRJkiRJ4j/sUbgehevhP+xRuB6F6+E/kpGRkZGR4T+SkZGRkZHhP5KRkZGRkeE/R31no76z4T+SJEmSJEniP+xRuB6F6+E/sRM7sRM74T/IU4I8JcjjP+YUvJyCl+M/VVVVVVVV1T8AAAAAAADkP2WTTTbZZOM/ZZNNNtlk4z9lk0022WTjPw==",
          "dtype": "f8"
         }
        },
        {
         "legendgroup": "('llama3.1_8b_chat', 'football_leagues_1k', 'base', 'main', 'prompt_answer')",
         "marker": {
          "color": "#9467bd",
          "opacity": 0.5,
          "size": 6
         },
         "mode": "markers",
         "name": "('llama3.1_8b_chat', 'football_leagues_1k', 'base', 'main', 'prompt_answer') Fold ('direction_f1_score', 2)",
         "showlegend": false,
         "type": "scatter",
         "x": {
          "bdata": "AAECAwQFBgcICQoLDA0ODxAREhMUFRYXGBkaGxwdHh8=",
          "dtype": "i1"
         },
         "y": {
          "bdata": "sHdMDewd4z+CqHRkz0DkP87KT4iz8uM/gqh0ZM9A5D+D8zE4H4PjP+wdUwN7x+Q/RT7rBlPk4z+XejJ+u9TjP3CXejJ+u+Q/tbS0tLS05D9VVVVVVVXlP0i0wuZAouU/0zRN0zRN4z8XfjUm0gPlP7W0tLS0tOQ/oHJ2C78a4z8AAAAAAADjPxolfkaJn+E/kiRJkiRJ4j9+eWxF0HDiP5IkSZIkSeI/cB/BfQT34T9tsskmm2ziP+XsFn41JuI/kiRJkiRJ4j9TK7VSK7XiP1cEDSd1X94/iMb60Fgf2j+IxvrQWB/aPwAAAAAAANg/QUyuICZX0D/PRn1no77jPw==",
          "dtype": "f8"
         }
        },
        {
         "legendgroup": "('llama3.1_8b_chat', 'football_leagues_1k', 'base', 'main', 'prompt_answer')",
         "marker": {
          "color": "#9467bd",
          "opacity": 0.5,
          "size": 6
         },
         "mode": "markers",
         "name": "('llama3.1_8b_chat', 'football_leagues_1k', 'base', 'main', 'prompt_answer') Fold ('direction_f1_score', 3)",
         "showlegend": false,
         "type": "scatter",
         "x": {
          "bdata": "AAECAwQFBgcICQoLDA0ODxAREhMUFRYXGBkaGxwdHh8=",
          "dtype": "i1"
         },
         "y": {
          "bdata": "zspPiLPy4z8Gnm7ND4vkPzi96U1veuM/+rWHXFYM5D8GfUFf0BfkPwaebs0Pi+Q/UV5DeQ3l5T9VVVVVVVXlP9RBHdRBHeQ/8lk3mCKf5T9ItMLmQKLlP/JZN5gin+U/8lk3mCKf5T9VVVVVVVXlP1VVVVVVVeU/v6vFTZjf5T/YUF5DeQ3lP69evXr16uU/VVVVVVVV5T9VVVVVVVXlP/JZN5gin+U/XkN5DeU15D+g0wY6baDjPyVJkiRJkuQ/+rWHXFYM5D8lSZIkSZLkPyVJkiRJkuQ/JUmSJEmS5D/6tYdcVgzkP97d3d3d3d0/532KS4Zg3T+e2Imd2IndPw==",
          "dtype": "f8"
         }
        },
        {
         "legendgroup": "('llama3.1_8b_chat', 'football_leagues_1k', 'base', 'main', 'prompt_answer')",
         "marker": {
          "color": "#9467bd",
          "opacity": 0.5,
          "size": 6
         },
         "mode": "markers",
         "name": "('llama3.1_8b_chat', 'football_leagues_1k', 'base', 'main', 'prompt_answer') Fold ('direction_f1_score', 4)",
         "showlegend": false,
         "type": "scatter",
         "x": {
          "bdata": "AAECAwQFBgcICQoLDA0ODxAREhMUFRYXGBkaGxwdHh8=",
          "dtype": "i1"
         },
         "y": {
          "bdata": "q6qqqqqq4j+g0wY6baDjP28wRT7rBuM/mCKfdYMp4j/jJszvanHjP+U1lNdQXuM/KfEzSvyM4j8g+IEf+IHfPwAAAAAAAOA/UAd1UAd14D9yHMdxHMfhP5MmTZo0aeI/nNR9eWxF4D8NJ3VfHlvhPwAAAAAAAOM/AAAAAAAA4j8RERERERHhP3Icx3Ecx+E/mCKfdYMp4j+TJk2aNGniPxEREREREeE/O9q8T3HJ4D+EEEIIIYTgPw0ndV8eW+E/DSd1Xx5b4T8AAAAAAADhPwAAAAAAAOE/7FG4HoXr4T9iJ3ZiJ3biPwAAAAAAAOA/1ofG+tBY3z9XEJMriMnVPw==",
          "dtype": "f8"
         }
        },
        {
         "legendgroup": "('llama3.1_8b_chat', 'football_leagues_1k', 'base', 'main', 'prompt_only')",
         "line": {
          "color": "#8c564b",
          "width": 2
         },
         "marker": {
          "size": 8
         },
         "mode": "lines+markers",
         "name": "('llama3.1_8b_chat', 'football_leagues_1k', 'base', 'main', 'prompt_only')",
         "type": "scatter",
         "x": {
          "bdata": "AAECAwQFBgcICQoLDA0ODxAREhMUFRYXGBkaGxwdHh8=",
          "dtype": "i1"
         },
         "y": {
          "bdata": "1v63e64b4z9LV6HUvLnjP/Ma3MP22eE/OTGfIdQq4D+duSCFuEDfP8vMVbTW4+I/haG+DYn54z+v8GR0OsvkP/mFq06qCeQ/0bT7aU6V4z8JjGgMjfniP3JaqA1YmOI/Mr0KKGas4z+jnUem10zlP7Q0DCY0oeY/8mPNbC0W5j84pGFc5dTlP0PNPqc05OU/q9FAPOJs5z/a0ewclf7mP9oGrl/8wuU/SPwI4ywN5D8x2SEfQ6bkPxKF1ojO6+U/WUGWmfUP5j+jhs+QbQbmP6sHZbBATuU/4d8L5lPk5T9zYrnDyLLlP2qFkD6ZvuU/kFzkYC5B5T/AaX15R33lPw==",
          "dtype": "f8"
         }
        },
        {
         "legendgroup": "('llama3.1_8b_chat', 'football_leagues_1k', 'base', 'main', 'prompt_only')",
         "line": {
          "width": 0
         },
         "mode": "lines",
         "name": "('llama3.1_8b_chat', 'football_leagues_1k', 'base', 'main', 'prompt_only') Max",
         "showlegend": false,
         "type": "scatter",
         "x": {
          "bdata": "AAECAwQFBgcICQoLDA0ODxAREhMUFRYXGBkaGxwdHh8=",
          "dtype": "i1"
         },
         "y": {
          "bdata": "1Uqt1Eqt5D9ZyUpWspLlP8F4K/scUuM/MzMzMzMz4z+SJEmSJEniP7ZgC7ZgC+Y/jYn0QOXs5j9XaqVWaqXmP6211lprreU/tbS0tLS05D8UFBQUFBTkPxQ7sRM7seM/pZRSSiml5D92gynyWTfoPwAAAAAAAOg/v1jyiyW/6D9dQUyuICbnP0N5DeU1lOc/WEeb9yku6T8AAAAAAADoPwrXo3A9Cuc/CtejcD0K5z8ndmIndmLnP7Zs2bJly+Y/UrgehetR6D/h5RS8nILnP23ep7hkCOY/eHh4eHh46D8ElbNb+NXoPwSVs1v41eg/AAAAAAAA6D9YfMVXfMXnPw==",
          "dtype": "f8"
         }
        },
        {
         "fill": "tonexty",
         "fillcolor": "rgba(140, 86, 75, 0.1)",
         "legendgroup": "('llama3.1_8b_chat', 'football_leagues_1k', 'base', 'main', 'prompt_only')",
         "line": {
          "width": 0
         },
         "mode": "lines",
         "name": "('llama3.1_8b_chat', 'football_leagues_1k', 'base', 'main', 'prompt_only') Min",
         "showlegend": false,
         "type": "scatter",
         "x": {
          "bdata": "AAECAwQFBgcICQoLDA0ODxAREhMUFRYXGBkaGxwdHh8=",
          "dtype": "i1"
         },
         "y": {
          "bdata": "BqLSkT0D4T/QF/QFfUHfPwtZyEIWsuA/HdRBHdRB3T8AAAAAAADUPxzHcRzHcdw/0id90id94j/SJ33SJ33iP5IkSZIkSeI/0iAN0iAN4j/SIA3SIA3iP5Z7GmG5p+E/bCivobyG4j9HfWejvrPhP8VO7MRO7OQ/MzMzMzMz4z+SJEmSJEniP5IkSZIkSeI/w/UoXI/C5T/D9Shcj8LlPzMzMzMzM+M/bCivobyG4j9PIyz3NMLiPzMzMzMzM+M/XXTRRRdd5D9ddNFFF13kP5Q+6ZM+6eM/XXTRRRdd5D9ddNFFF13kP9aUNWVNWeM/TK4gJlcQ4z+UPumTPunjPw==",
          "dtype": "f8"
         }
        },
        {
         "legendgroup": "('llama3.1_8b_chat', 'football_leagues_1k', 'base', 'main', 'prompt_only')",
         "line": {
          "width": 0
         },
         "mode": "lines",
         "name": "('llama3.1_8b_chat', 'football_leagues_1k', 'base', 'main', 'prompt_only') +1 STD",
         "showlegend": false,
         "type": "scatter",
         "x": {
          "bdata": "AAECAwQFBgcICQoLDA0ODxAREhMUFRYXGBkaGxwdHh8=",
          "dtype": "i1"
         },
         "y": {
          "bdata": "miUuoszh5D+5W/wcMyjmP8U/GrhNz+I/HR/Fni0G4j86zTly+R3jP3NijJIdCuY/qERSNR245T/qLsk5k2jmP2PZPOl9eeU/1qJcoKic5D8SfB0vDfbjP61cUStSieM/mVXKrNx05D+C1v2StKjnP0PUZZTd4ec/35X0ia0d6D8OORHKbdvnP9Pgc5tkBOg/nPhDlm+y6D97QA9ovdjnP2goij5bTuc/9ljWDx3u5T8PdDLNmm/mP83AIYSpdOc/rSmMl42I5z92rX66S3TnP7hboONUJuY/RSKHLdmM5z+9Jv44QI/nP6lsEUBe9+c/8474tRdg5z9oXudsn/DmPw==",
          "dtype": "f8"
         }
        },
        {
         "fill": "tonexty",
         "fillcolor": "rgba(140, 86, 75, 0.3)",
         "legendgroup": "('llama3.1_8b_chat', 'football_leagues_1k', 'base', 'main', 'prompt_only')",
         "line": {
          "width": 0
         },
         "mode": "lines",
         "name": "('llama3.1_8b_chat', 'football_leagues_1k', 'base', 'main', 'prompt_only') -1 STD",
         "showlegend": false,
         "type": "scatter",
         "x": {
          "bdata": "AAECAwQFBgcICQoLDA0ODxAREhMUFRYXGBkaGxwdHh8=",
          "dtype": "i1"
         },
         "y": {
          "bdata": "EthBVZBV4T/dUkaMRkvhPyH2nc+f5OA/qYbySPWe3D/F2M0lfkXYP0ZuPqwfe98/Yv4q5vQ64j90sgCv4S3jP48yGrTWmeI/zMaaM/SN4j8AnLPpDP3hPzdY/+9dp+E/yyRLo+/j4j/EZJG5+vDiPyWVsreKYOU/BTKmT60O5D9iD7LuXM7jP7O5CbMExOM/uqo94lQn5j85Y8rRbCTmP0zl0YCdN+Q/mp87tjws4j9TPhFx69ziP1dJi43zYuQ/BVmgm12X5D/QXyBnj5jkP56zKX0sduQ/fZ2Qns475D8pnnROUdbjPyueDz3UheM/LSrQC0Ui4z8YdROG7wnkPw==",
          "dtype": "f8"
         }
        },
        {
         "legendgroup": "('llama3.1_8b_chat', 'football_leagues_1k', 'base', 'main', 'prompt_only')",
         "marker": {
          "color": "#8c564b",
          "opacity": 0.5,
          "size": 6
         },
         "mode": "markers",
         "name": "('llama3.1_8b_chat', 'football_leagues_1k', 'base', 'main', 'prompt_only') Fold ('direction_f1_score', 0)",
         "showlegend": false,
         "type": "scatter",
         "x": {
          "bdata": "AAECAwQFBgcICQoLDA0ODxAREhMUFRYXGBkaGxwdHh8=",
          "dtype": "i1"
         },
         "y": {
          "bdata": "Ccs9jbDc4z8mQ7CONu/jP8F4K/scUuM/ntiJndiJ3T8AAAAAAADUPxzHcRzHcdw/0id90id94j/SJ33SJ33iP5IkSZIkSeI/0iAN0iAN4j/SIA3SIA3iP9IgDdIgDeI/5hS8nIKX4z9Ob3rTm97kP8VO7MRO7OQ/VVVVVVVV5T8K16NwPQrnP8P1KFyPwuU/w/UoXI/C5T/D9Shcj8LlP8P1KFyPwuU/CtejcD0K5z8ndmIndmLnP6uqqqqqquY/XXTRRRdd5D9ddNFFF13kP5Q+6ZM+6eM/XXTRRRdd5D9ddNFFF13kP9aUNWVNWeM/TK4gJlcQ4z+UPumTPunjPw==",
          "dtype": "f8"
         }
        },
        {
         "legendgroup": "('llama3.1_8b_chat', 'football_leagues_1k', 'base', 'main', 'prompt_only')",
         "marker": {
          "color": "#8c564b",
          "opacity": 0.5,
          "size": 6
         },
         "mode": "markers",
         "name": "('llama3.1_8b_chat', 'football_leagues_1k', 'base', 'main', 'prompt_only') Fold ('direction_f1_score', 1)",
         "showlegend": false,
         "type": "scatter",
         "x": {
          "bdata": "AAECAwQFBgcICQoLDA0ODxAREhMUFRYXGBkaGxwdHh8=",
          "dtype": "i1"
         },
         "y": {
          "bdata": "FrKQhSxk4T/QF/QFfUHfP5Z7GmG5p+E/HdRBHdRB3T+MGDFixIjhP7ZgC7ZgC+Y/xMPDw8PD4z/SA5WzW/jlP1VVVVVVVeU/tbS0tLS05D8mQ7CONu/jP5Z7GmG5p+E/pZRSSiml5D9RXkN5DeXlP/PDImXg6eY/yWfdYIp85j+XlpaWlpbmP14tbsL8ruY/AAAAAAAA6D9GF1100UXnP1FeQ3kN5eU/cJd6Mn675D9VVVVVVVXlP14tbsL8ruY/ZmZmZmZm5j8cTJHPusHkP1VVVVVVVeU/HEyRz7rB5D97FK5H4XrkP3sUrkfheuQ/mjRp0qRJ4z/blahdidrlPw==",
          "dtype": "f8"
         }
        },
        {
         "legendgroup": "('llama3.1_8b_chat', 'football_leagues_1k', 'base', 'main', 'prompt_only')",
         "marker": {
          "color": "#8c564b",
          "opacity": 0.5,
          "size": 6
         },
         "mode": "markers",
         "name": "('llama3.1_8b_chat', 'football_leagues_1k', 'base', 'main', 'prompt_only') Fold ('direction_f1_score', 2)",
         "showlegend": false,
         "type": "scatter",
         "x": {
          "bdata": "AAECAwQFBgcICQoLDA0ODxAREhMUFRYXGBkaGxwdHh8=",
          "dtype": "i1"
         },
         "y": {
          "bdata": "BqLSkT0D4T/tWIEw0o7lP9IgDdIgDeI/IPiBH/iB3z+SJEmSJEniP9M0TdM0TeM/jYn0QOXs5j9XaqVWaqXmP6211lprreU/RERERERE5D9PIyz3NMLiP+/LYyuChuM/78tjK4KG4z92gynyWTfoP/2uFjdhfuc/v1jyiyW/6D+GYRiGYRjmP0N5DeU1lOc/88MiZeDp5j+fdYMp8lnnP/PDImXg6eY/TyMs9zTC4j9PIyz3NMLiP7Zs2bJly+Y/UV5DeQ3l5T+O4ziO4zjmP69evXr16uU/INEKmwOJ5j8WX/EVX/HlP3PtwFw7MOc/l5aWlpaW5j+oUKFChQrlPw==",
          "dtype": "f8"
         }
        },
        {
         "legendgroup": "('llama3.1_8b_chat', 'football_leagues_1k', 'base', 'main', 'prompt_only')",
         "marker": {
          "color": "#8c564b",
          "opacity": 0.5,
          "size": 6
         },
         "mode": "markers",
         "name": "('llama3.1_8b_chat', 'football_leagues_1k', 'base', 'main', 'prompt_only') Fold ('direction_f1_score', 3)",
         "showlegend": false,
         "type": "scatter",
         "x": {
          "bdata": "AAECAwQFBgcICQoLDA0ODxAREhMUFRYXGBkaGxwdHh8=",
          "dtype": "i1"
         },
         "y": {
          "bdata": "1Uqt1Eqt5D8mQ7CONu/jPwtZyEIWsuA/MzMzMzMz4z93xB1xR9zhP1VVVVVVVeU/9DzP8zzP4z9L1K5E7UrkPzMzMzMzM+M/MzMzMzMz4z/SIA3SIA3iP9IgDdIgDeI/bCivobyG4j/RRRdddNHlP9FFF1100eU/q6qqqqqq5j9dQUyuICbnP11BTK4gJuc/RhdddNFF5z+XlpaWlpbmPwrXo3A9Cuc/bCivobyG4j8UO7ETO7HjP2QhC1nIQuY/UrgehetR6D/h5RS8nILnP1VVVVVVVeU/VVVVVVVV5T9Ob3rTm97kP05vetOb3uQ/VVVVVVVV5T9Ob3rTm97kPw==",
          "dtype": "f8"
         }
        },
        {
         "legendgroup": "('llama3.1_8b_chat', 'football_leagues_1k', 'base', 'main', 'prompt_only')",
         "marker": {
          "color": "#8c564b",
          "opacity": 0.5,
          "size": 6
         },
         "mode": "markers",
         "name": "('llama3.1_8b_chat', 'football_leagues_1k', 'base', 'main', 'prompt_only') Fold ('direction_f1_score', 4)",
         "showlegend": false,
         "type": "scatter",
         "x": {
          "bdata": "AAECAwQFBgcICQoLDA0ODxAREhMUFRYXGBkaGxwdHh8=",
          "dtype": "i1"
         },
         "y": {
          "bdata": "L5BJ8QKZ5D9ZyUpWspLlP4wYMWLEiOE/fPDBBx984D/nnHPOOefcP4wxxhhjjOE/gnW0eZ/i4j8lSZIkSZLkPxQ7sRM7seM/FDuxEzux4z8UFBQUFBTkPxQ7sRM7seM/FBQUFBQU5D9HfWejvrPhPwAAAAAAAOg/MzMzMzMz4z+SJEmSJEniP5IkSZIkSeI/WEeb9yku6T8AAAAAAADoPzMzMzMzM+M/MzMzMzMz4z8UFBQUFBTkPzMzMzMzM+M/VVVVVVVV5T9GF1100UXnP23ep7hkCOY/eHh4eHh46D8ElbNb+NXoPwSVs1v41eg/AAAAAAAA6D9YfMVXfMXnPw==",
          "dtype": "f8"
         }
        },
        {
         "legendgroup": "('llama3.1_8b_chat', 'medals_9k', 'base', 'main', 'prompt_answer')",
         "line": {
          "color": "#1f77b4",
          "width": 2
         },
         "marker": {
          "size": 8
         },
         "mode": "lines+markers",
         "name": "('llama3.1_8b_chat', 'medals_9k', 'base', 'main', 'prompt_answer')",
         "type": "scatter",
         "x": {
          "bdata": "AAECAwQFBgcICQoLDA0ODxAREhMUFRYXGBkaGxwdHh8=",
          "dtype": "i1"
         },
         "y": {
          "bdata": "uOMIde9I4T9WvotYPi/iP4toOJ9qqeI/tiL1FTg34z8q+kTCiCHjP0eHVVhAvuI/KD/4pVKz4z+DchT/jwvkPwYdy3gsw+M/uk4hWZxZ4z/A1nj9C5PjP/gMn2c7k+Q/8Mn3eDBK5D9pMuLPfoLkP8aVpVKCdOQ/G4L4Tqt85D/G+lJDqAflPwp30TiKQuQ/8jfBspeE4j/NXVsP51jiP2onojSWC+I/4+p2H9WN4T/muvSxBRjiPzxNxQC0p+I/9mun9qGE4j86F7uCW4jiP4aKZwMNgOI/gnAfKLPm4T8CvD6QMgbiP41GNldS1OE/QO2oBCLi4T8mXoJqaX3hPw==",
          "dtype": "f8"
         }
        },
        {
         "legendgroup": "('llama3.1_8b_chat', 'medals_9k', 'base', 'main', 'prompt_answer')",
         "line": {
          "width": 0
         },
         "mode": "lines",
         "name": "('llama3.1_8b_chat', 'medals_9k', 'base', 'main', 'prompt_answer') Max",
         "showlegend": false,
         "type": "scatter",
         "x": {
          "bdata": "AAECAwQFBgcICQoLDA0ODxAREhMUFRYXGBkaGxwdHh8=",
          "dtype": "i1"
         },
         "y": {
          "bdata": "LJL4XsUr4j8Wu2Zhzu3iP8IRRFovYOM/ySOPPPLI4z+YjHWecSTkP62HlpAs7uM/wqcc1Xlm5D/Z8G3QBTvlP+/DU4dMH+U/x+w6ONcy5T8KTotfo+DkP7cs+Hoq0uQ/nQfYUdLv5D947U656sLkP9xwww033OQ/ExvMeBiR5D+VUKpIjTPlPxisJXzNMOU/PDMwPmEx5T/zGsprKK/iP3vIZcVACeM/JYzgRPE24j+y9qiG+vniP9bedo8x9eI/vxArSuMj4z/yluEYvTbjPz3zzDPPPOM/Vk8y9Das4j9FLBWxVMTiPzoWKJ9jgeI/hzIAD3R04j9NMskkk0ziPw==",
          "dtype": "f8"
         }
        },
        {
         "fill": "tonexty",
         "fillcolor": "rgba(31, 119, 180, 0.1)",
         "legendgroup": "('llama3.1_8b_chat', 'medals_9k', 'base', 'main', 'prompt_answer')",
         "line": {
          "width": 0
         },
         "mode": "lines",
         "name": "('llama3.1_8b_chat', 'medals_9k', 'base', 'main', 'prompt_answer') Min",
         "showlegend": false,
         "type": "scatter",
         "x": {
          "bdata": "AAECAwQFBgcICQoLDA0ODxAREhMUFRYXGBkaGxwdHh8=",
          "dtype": "i1"
         },
         "y": {
          "bdata": "ZtS1DXGT4D8IwoT8QJjgPx+s3wBTzeE/DlU5ZYoP4j8AAAAAAADiP9Z6VSfBFeE/o926+/7O4j+Kadbz7bviPzmsQjXWSuM/RdBwUvfl4T+SG7mRG7nhP5s4yU0HXOQ/0YlYXWmH4j9MnVD5UifkP8F4K/scUuM/Vykm6K5S5D+RFtTffOPkP8SyRRKxbOE/Kme38Ksx4T/xHcR3EN/hP/0TfszOP+E/hh2Gfqz54D8ZpAajFdHgP3C8CkoQGOI/hXSzAbYS4j91ZJLQWY3hPz+ycant7OE/0ZrJLmU24T9sD7msGCjhP/HG1Q45KuE/dNFFF1104T8gXVbl8QzhPw==",
          "dtype": "f8"
         }
        },
        {
         "legendgroup": "('llama3.1_8b_chat', 'medals_9k', 'base', 'main', 'prompt_answer')",
         "line": {
          "width": 0
         },
         "mode": "lines",
         "name": "('llama3.1_8b_chat', 'medals_9k', 'base', 'main', 'prompt_answer') +1 STD",
         "showlegend": false,
         "type": "scatter",
         "x": {
          "bdata": "AAECAwQFBgcICQoLDA0ODxAREhMUFRYXGBkaGxwdHh8=",
          "dtype": "i1"
         },
         "y": {
          "bdata": "z+1i92/y4T8phBOuox/jP3Eh/mowZOM/X26Godfh4z8a+8BQ2hvkPzDILru77+M/lKxGq61G5D/zrILI0RzlP8o4ZXk2h+Q/O0XymxyR5D/Gr9bv9+vkP64sguKBx+Q/nyRwWZ1N5T9q6+ruKcHkP7lJ/cbsGeU/VtloSHqV5D8sMn4rQi3lPyLUjxsx2uU//1tTO/AT5D+aOY0aj6/iP0GOoxYdtOI/3XgSSjof4j9XDajhA+biPx5i6opxB+M/vtKlcMzo4j8O5GCU5C7jP+DRE0VuEOM/vDZzbL+D4j9xkAKCN5riP/LBmO+pVuI/zYJETvpB4j/rAgkt0vnhPw==",
          "dtype": "f8"
         }
        },
        {
         "fill": "tonexty",
         "fillcolor": "rgba(31, 119, 180, 0.3)",
         "legendgroup": "('llama3.1_8b_chat', 'medals_9k', 'base', 'main', 'prompt_answer')",
         "line": {
          "width": 0
         },
         "mode": "lines",
         "name": "('llama3.1_8b_chat', 'medals_9k', 'base', 'main', 'prompt_answer') -1 STD",
         "showlegend": false,
         "type": "scatter",
         "x": {
          "bdata": "AAECAwQFBgcICQoLDA0ODxAREhMUFRYXGBkaGxwdHh8=",
          "dtype": "i1"
         },
         "y": {
          "bdata": "odmu8m6f4D+D+AMD2T7hP6WvctOk7uE/DddjipiM4j86+cgzNyfiP15GfPXEjOE/vNGpoPcf4z8TOKY1TvriP0IBMXgi/+I/OVhQFhwi4j+6/RoLIDriP0Ltu+z0XuQ/QW9/mMNG4z9oedmw00PkP9PhTd4Xz+M/4CqIVdxj5D9gwydbDuLkP/IZE1bjquI/5RMvKj/14D8AgikEPwLiP5PAoFIPY+E/6Vzb9G/84D91aEGCB0rhP1o4oHb2R+I/LgWpfHcg4j9mShVx0uHhPyxDu8Gr7+E/SKrL46ZJ4T+T53qeLXLhPyjL0776UeE/s1cNu0mC4T9hufunAAHhPw==",
          "dtype": "f8"
         }
        },
        {
         "legendgroup": "('llama3.1_8b_chat', 'medals_9k', 'base', 'main', 'prompt_answer')",
         "marker": {
          "color": "#1f77b4",
          "opacity": 0.5,
          "size": 6
         },
         "mode": "markers",
         "name": "('llama3.1_8b_chat', 'medals_9k', 'base', 'main', 'prompt_answer') Fold ('direction_f1_score', 0)",
         "showlegend": false,
         "type": "scatter",
         "x": {
          "bdata": "AAECAwQFBgcICQoLDA0ODxAREhMUFRYXGBkaGxwdHh8=",
          "dtype": "i1"
         },
         "y": {
          "bdata": "LJL4XsUr4j8Wu2Zhzu3iP7sStStRu+I/ySOPPPLI4z+BO/0RC7jjP62HlpAs7uM/YPqlX/ql4z8wOEEf+4LjPxQ2UdhEYeM/QIjuFVlD4z/WQOHROljkPy1BS9AStOQ/qLQHZZ5V5D+avrTOgX/kP11CEPILiOQ/ksghAut/5D+RFtTffOPkP8SyRRKxbOE/Kme38Ksx4T/xHcR3EN/hP/0TfszOP+E/o+CPFS0B4T8SEhISEhLiP3C8CkoQGOI/OEdWZXSD4j91ZJLQWY3hPz+ycant7OE/0ZrJLmU24T9sD7msGCjhP/HG1Q45KuE/dNFFF1104T8gXVbl8QzhPw==",
          "dtype": "f8"
         }
        },
        {
         "legendgroup": "('llama3.1_8b_chat', 'medals_9k', 'base', 'main', 'prompt_answer')",
         "marker": {
          "color": "#1f77b4",
          "opacity": 0.5,
          "size": 6
         },
         "mode": "markers",
         "name": "('llama3.1_8b_chat', 'medals_9k', 'base', 'main', 'prompt_answer') Fold ('direction_f1_score', 1)",
         "showlegend": false,
         "type": "scatter",
         "x": {
          "bdata": "AAECAwQFBgcICQoLDA0ODxAREhMUFRYXGBkaGxwdHh8=",
          "dtype": "i1"
         },
         "y": {
          "bdata": "/bkZHSVY4T8KLcNNptDiP8IRRFovYOM/f+YFoTJ24z+VwrxBlqDjP9Z6VSfBFeE/ghXGfuDC4z8UO7ETO7HjPzmsQjXWSuM/RdBwUvfl4T+SG7mRG7nhP5s4yU0HXOQ/0boQIOi85D/8SgWm+WvkP8F4K/scUuM/5272fQWN5D94CJsCHO3kP8+4kudXxeQ/hqY72G+14T8fUoW46x7iP5/4o+C4uuE/hh2Gfqz54D8ZpAajFdHgP/aDycGJc+I/WlpaWlpa4j+rJYv3tlriP0h6+h0UJeI/dIy41G2B4T9jsITN/gHiP5iTlt2q8+E/qhyhH6DK4T9NMskkk0ziPw==",
          "dtype": "f8"
         }
        },
        {
         "legendgroup": "('llama3.1_8b_chat', 'medals_9k', 'base', 'main', 'prompt_answer')",
         "marker": {
          "color": "#1f77b4",
          "opacity": 0.5,
          "size": 6
         },
         "mode": "markers",
         "name": "('llama3.1_8b_chat', 'medals_9k', 'base', 'main', 'prompt_answer') Fold ('direction_f1_score', 2)",
         "showlegend": false,
         "type": "scatter",
         "x": {
          "bdata": "AAECAwQFBgcICQoLDA0ODxAREhMUFRYXGBkaGxwdHh8=",
          "dtype": "i1"
         },
         "y": {
          "bdata": "aKwPjfWh4T8e3aqPHS7iPxEwN4s3XOM/5TWU11Be4z+YjHWecSTkPyQ00Cvtu+M/gKaVjkni4z+Kadbz7bviP0OxcfAsfuM/as/sVBDI4j9SnSYHmZfiP5fYPh8oX+Q/0YlYXWmH4j947U656sLkP9xwww033OQ/ExvMeBiR5D/uIDDQzSzlP+NWv1/o5+Q/MyJ9CTAj4j+Cj8c0ToriP0mMBRP4LeI/pQPOZkSO4T+y9qiG+vniP9bedo8x9eI/vxArSuMj4z/yluEYvTbjP9teTOXc8+I/uRgLDZ9l4j8//VXfjTPiPzXa0ddlAOI/AAAAAAAA4j+MMcYYY4zhPw==",
          "dtype": "f8"
         }
        },
        {
         "legendgroup": "('llama3.1_8b_chat', 'medals_9k', 'base', 'main', 'prompt_answer')",
         "marker": {
          "color": "#1f77b4",
          "opacity": 0.5,
          "size": 6
         },
         "mode": "markers",
         "name": "('llama3.1_8b_chat', 'medals_9k', 'base', 'main', 'prompt_answer') Fold ('direction_f1_score', 3)",
         "showlegend": false,
         "type": "scatter",
         "x": {
          "bdata": "AAECAwQFBgcICQoLDA0ODxAREhMUFRYXGBkaGxwdHh8=",
          "dtype": "i1"
         },
         "y": {
          "bdata": "oqVUMlyz4D8IwoT8QJjgPx+s3wBTzeE/UxhnUxhn4z8AAAAAAADiP8TwbgNwBuI/wqcc1Xlm5D/Z8G3QBTvlP5w5ntZJhuM/7nQfyNWb4z//6Q8pqVXkP8DBz028nuQ/nQfYUdLv5D9MnVD5UifkPzHzmKCoyuQ/Vykm6K5S5D+VUKpIjTPlPxisJXzNMOU/PDMwPmEx5T/zGsprKK/iP7BjnYEuCOI/gQiOXRoF4j+wIq+TjhbiP2kARY1C7+I/hXSzAbYS4j/dMothYobiP/w1gDCTPeI/OaPdw9a34T+5wpDGAv3hP8gVqVDuheE/mYFl0Ti34T9fYOfNQT/hPw==",
          "dtype": "f8"
         }
        },
        {
         "legendgroup": "('llama3.1_8b_chat', 'medals_9k', 'base', 'main', 'prompt_answer')",
         "marker": {
          "color": "#1f77b4",
          "opacity": 0.5,
          "size": 6
         },
         "mode": "markers",
         "name": "('llama3.1_8b_chat', 'medals_9k', 'base', 'main', 'prompt_answer') Fold ('direction_f1_score', 4)",
         "showlegend": false,
         "type": "scatter",
         "x": {
          "bdata": "AAECAwQFBgcICQoLDA0ODxAREhMUFRYXGBkaGxwdHh8=",
          "dtype": "i1"
         },
         "y": {
          "bdata": "ZtS1DXGT4D9jMGF/ZGfiPwoKCgoKCuI/DlU5ZYoP4j8eWCnZmCriP/l8gNL28OI/o926+/7O4j/pbi8Epg7lP+/DU4dMH+U/x+w6ONcy5T8KTotfo+DkP7cs+Hoq0uQ/y/CNKDDp5D+1ZxHowLbkP7bNowGDxeQ/pA7QqaB+5D9VVVVVVfXkP6TkWUb0AeU/l7QlbUlb4j99uu17EIXiP3vIZcVACeM/JYzgRPE24j/w1laqa4TiP4liStt11uI/+fS1xcGC4j8xIB1LmQTjPz3zzDPPPOM/Vk8y9Das4j9FLBWxVMTiPzoWKJ9jgeI/hzIAD3R04j9ptb4j5U3hPw==",
          "dtype": "f8"
         }
        },
        {
         "legendgroup": "('llama3.1_8b_chat', 'medals_9k', 'base', 'main', 'prompt_only')",
         "line": {
          "color": "#ff7f0e",
          "width": 2
         },
         "marker": {
          "size": 8
         },
         "mode": "lines+markers",
         "name": "('llama3.1_8b_chat', 'medals_9k', 'base', 'main', 'prompt_only')",
         "type": "scatter",
         "x": {
          "bdata": "AAECAwQFBgcICQoLDA0ODxAREhMUFRYXGBkaGxwdHh8=",
          "dtype": "i1"
         },
         "y": {
          "bdata": "nmcfQDpW4D90rhwjTdbgP0AOeH27oeE/1e/CNIc84z/a9iHjANvhPyqrN6mPAOI/dlMh/POg4T8lUZjeX2HiP6LaUdPZ9OA/aF5jAM6Z4T+ZfuzYaKXgP94rwZW86OE/IvNa+LA84T8qrdAgeEDhPzZ+iNL2VeE/2oZQgrYF4j/6+zllOq3hP/4r2LjX2uE/RSKeeyR84T/+eaJyVyXhP57MJpIoluE/k521GD2P4T+KbsnxCCDhP/4KwHWry+A/2pudnP/24D+4qrUgFk3hP/ETHviZNOE/ivx0rowi4T8g5rykeHDhP+qPz+UOpOE/gMz0kVXC4T/Ytz7Bn2rfPw==",
          "dtype": "f8"
         }
        },
        {
         "legendgroup": "('llama3.1_8b_chat', 'medals_9k', 'base', 'main', 'prompt_only')",
         "line": {
          "width": 0
         },
         "mode": "lines",
         "name": "('llama3.1_8b_chat', 'medals_9k', 'base', 'main', 'prompt_only') Max",
         "showlegend": false,
         "type": "scatter",
         "x": {
          "bdata": "AAECAwQFBgcICQoLDA0ODxAREhMUFRYXGBkaGxwdHh8=",
          "dtype": "i1"
         },
         "y": {
          "bdata": "qNkWcWxI4T+59tv94ybiP36IVVRaPOI/PiCG8Hfe4z8SJZUZ033jP0pehA3OPuM/gv7N9Ags4z+hXuPZ7MbiP59FM23PEeM/gnW0eZ/i4j8q4jbtZILiP9QfsYA7/eE/r+bRWw6c4j91xL5js63iP4EycaV7A+I/UJ+XBurz4j9rUrYmZWviP2zL9EQwiOI/3MWEwXea4j9VVVVVVVXiP50QgTkhAuM/16776ULV4j/TBsPepJniP1fE+XEAQeI/sGKqFJFY4j8SQkUSQkXiPzLE6DHE6OE/Gpk3agAn4j/cI4GLxT3iPxImYRImYeI/T992OGFB4j8Vk1YxaRXjPw==",
          "dtype": "f8"
         }
        },
        {
         "fill": "tonexty",
         "fillcolor": "rgba(255, 127, 14, 0.1)",
         "legendgroup": "('llama3.1_8b_chat', 'medals_9k', 'base', 'main', 'prompt_only')",
         "line": {
          "width": 0
         },
         "mode": "lines",
         "name": "('llama3.1_8b_chat', 'medals_9k', 'base', 'main', 'prompt_only') Min",
         "showlegend": false,
         "type": "scatter",
         "x": {
          "bdata": "AAECAwQFBgcICQoLDA0ODxAREhMUFRYXGBkaGxwdHh8=",
          "dtype": "i1"
         },
         "y": {
          "bdata": "NSbSA5Wz2z9rECZ7nRvdP8r8+7opNOE/WiPnv+Za4j+9Sx4MOOPaPwQIMWh9St4/eRuStyF52z93bOoC3aPhP6VSqVQqldo/aSjw3q+m3j9L1fMG/G/bP8WRXiv4xOE/yHo6ESfB3D/pQHQgOhDdPyVPL0e1ouA/cVqzfaJ64D/BILGJzrXgP9Z6VSfBFeE/bWATGcZp4D/M+Tmd/SngP1hggQUWWOA/vlHHSYH43z/EIR82VvjfPyB1yh91yt8/fsea3ZUX4D8LWchCFrLgPx3BA1B56d8/+tGPfvSj3z//vZ/zrZ3gP1CZdg7WLOE/XwWzpBwQ4T8ftZEwELDaPw==",
          "dtype": "f8"
         }
        },
        {
         "legendgroup": "('llama3.1_8b_chat', 'medals_9k', 'base', 'main', 'prompt_only')",
         "line": {
          "width": 0
         },
         "mode": "lines",
         "name": "('llama3.1_8b_chat', 'medals_9k', 'base', 'main', 'prompt_only') +1 STD",
         "showlegend": false,
         "type": "scatter",
         "x": {
          "bdata": "AAECAwQFBgcICQoLDA0ODxAREhMUFRYXGBkaGxwdHh8=",
          "dtype": "i1"
         },
         "y": {
          "bdata": "MRePRRvE4T9jCJ7sDTniP8uzCBqNBuI/s7Hmn5LX4z9vot4RBFjkPwheMqw8o+M/xkhLElbV4z+YRu5X9tTiPx+XzenhdeM/LMpFACUz4z+ACJJqpNHiP2a4yS7VAOI//OiK3nkb4z8ib1/3rzTjP1zKddUS8uE/vob/gkf44j9h9o7H1HbiP1sB1AgfguI/9SPahxtY4j8LbB5YFAfiP0N6YcB2jeI/LvVrk3Sk4j91lEwEvDfiPycCYknxreE/vobpVNjN4T9a2ZgtwOnhP+/7OJkZ/+E/W7Go9q0i4j+wBKbqPSniP8ppM7I7NuI/VdsaPGkz4j9DvYWEN+7hPw==",
          "dtype": "f8"
         }
        },
        {
         "fill": "tonexty",
         "fillcolor": "rgba(255, 127, 14, 0.3)",
         "legendgroup": "('llama3.1_8b_chat', 'medals_9k', 'base', 'main', 'prompt_only')",
         "line": {
          "width": 0
         },
         "mode": "lines",
         "name": "('llama3.1_8b_chat', 'medals_9k', 'base', 'main', 'prompt_only') -1 STD",
         "showlegend": false,
         "type": "scatter",
         "x": {
          "bdata": "AAECAwQFBgcICQoLDA0ODxAREhMUFRYXGBkaGxwdHh8=",
          "dtype": "i1"
         },
         "y": {
          "bdata": "FXBfdbLQ3T8LqTazGOfeP7Vo5+DpPOE/9y2fyXuh4j+Llspo+7veP0z4PKbiXeA/TbzuyyPZ3j+yW0Jlye3hP0o8rHmj59w/pPKAAHcA4D9l6Y2OWvLcP1afuPyj0OE/kPpVJNC73j9j1oOUgJjePxAym8/aueA/9oahgSUT4T+TAeUCoOPgP6FW3GiQM+E/lSBiby2g4D/xhyaNmkPgP/ke7GPanuA/+EX/nQV64D+fSEbfVQjgP6knPETL0t8/9rBR5CYg4D8WfNITbLDgP/MrA1caauA/uUdBZmsi4D+Qx9Nes7fgPwq2axniEeE/q73O50FR4T8p9XF50PjaPw==",
          "dtype": "f8"
         }
        },
        {
         "legendgroup": "('llama3.1_8b_chat', 'medals_9k', 'base', 'main', 'prompt_only')",
         "marker": {
          "color": "#ff7f0e",
          "opacity": 0.5,
          "size": 6
         },
         "mode": "markers",
         "name": "('llama3.1_8b_chat', 'medals_9k', 'base', 'main', 'prompt_only') Fold ('direction_f1_score', 0)",
         "showlegend": false,
         "type": "scatter",
         "x": {
          "bdata": "AAECAwQFBgcICQoLDA0ODxAREhMUFRYXGBkaGxwdHh8=",
          "dtype": "i1"
         },
         "y": {
          "bdata": "NSbSA5Wz2z9S4FyI31DhP8r8+7opNOE/0IjQL+om4z++K/mu5LviP0BZD1mGbeI/guc/7aRF4j9Mq1+HEmPiP6VSqVQqldo/aSjw3q+m3j9L1fMG/G/bP9QfsYA7/eE/yHo6ESfB3D/pQHQgOhDdPwAjQ00D8+A/cVqzfaJ64D/BILGJzrXgP9Z6VSfBFeE/bWATGcZp4D87AAsQAmPgP1hggQUWWOA/vlHHSYH43z/EIR82VvjfPyB1yh91yt8//72f862d4D8LWchCFrLgPx3BA1B56d8/+tGPfvSj3z//vZ/zrZ3gP9tZlBt8LuE/XwWzpBwQ4T8Vk1YxaRXjPw==",
          "dtype": "f8"
         }
        },
        {
         "legendgroup": "('llama3.1_8b_chat', 'medals_9k', 'base', 'main', 'prompt_only')",
         "marker": {
          "color": "#ff7f0e",
          "opacity": 0.5,
          "size": 6
         },
         "mode": "markers",
         "name": "('llama3.1_8b_chat', 'medals_9k', 'base', 'main', 'prompt_only') Fold ('direction_f1_score', 1)",
         "showlegend": false,
         "type": "scatter",
         "x": {
          "bdata": "AAECAwQFBgcICQoLDA0ODxAREhMUFRYXGBkaGxwdHh8=",
          "dtype": "i1"
         },
         "y": {
          "bdata": "HGJAOpYy4T+59tv94ybiP4eshZP7jOE/PiCG8Hfe4z+9Sx4MOOPaP0pehA3OPuM/eRuStyF52z93bOoC3aPhP1tgF5e3PuI/+l9aFCms4j8q4jbtZILiP3h6z3X38+E/ZZ0ejyKY4j9atFS7G6HiPyVPL0e1ouA/+gwuvJso4j+pz6rcPvbgP2iTSt8AOuE/rHprNpDk4D/M+Tmd/SngP6gRlnsaYeE/j9tnvocj4T8t8qSWZDXgPzvavE9xyeA/BuFx+8z34D+h1ZcKWn3hPzmj3cPWt+E/Gpk3agAn4j/Tgp9Vp/vhP/2EOCs/IeI/93N6kW+94T8ftZEwELDaPw==",
          "dtype": "f8"
         }
        },
        {
         "legendgroup": "('llama3.1_8b_chat', 'medals_9k', 'base', 'main', 'prompt_only')",
         "marker": {
          "color": "#ff7f0e",
          "opacity": 0.5,
          "size": 6
         },
         "mode": "markers",
         "name": "('llama3.1_8b_chat', 'medals_9k', 'base', 'main', 'prompt_only') Fold ('direction_f1_score', 2)",
         "showlegend": false,
         "type": "scatter",
         "x": {
          "bdata": "AAECAwQFBgcICQoLDA0ODxAREhMUFRYXGBkaGxwdHh8=",
          "dtype": "i1"
         },
         "y": {
          "bdata": "fbvNh77s4D+kcD0K16PgP0wstiXBaOE/WiPnv+Za4j+mSflzuvjiPx5L8+mG0+I/gv7N9Ags4z+bwpvmSbbiP2hxZbQR3d4/AAAAAACA4D/MBMTt497dP8WRXiv4xOE/36vmE15I4D+czQMwHp3fP4EycaV7A+I/mUMPd23v4T/XxI+jkP/hP0u9RfE9P+I/BlwYrMuX4T+g0FNE/XrhPwV882riWeE/SxrVlquk4T8DjU6i/QjhP/GrMZEeqOA/C0K9LVzN4D/H09Uyq/vgP3C2Dv1m6+A/7lUwS8oB4T+76fwduJXhP1cxaRWTVuE/avPnKA774T+Nin9To+LfPw==",
          "dtype": "f8"
         }
        },
        {
         "legendgroup": "('llama3.1_8b_chat', 'medals_9k', 'base', 'main', 'prompt_only')",
         "marker": {
          "color": "#ff7f0e",
          "opacity": 0.5,
          "size": 6
         },
         "mode": "markers",
         "name": "('llama3.1_8b_chat', 'medals_9k', 'base', 'main', 'prompt_only') Fold ('direction_f1_score', 3)",
         "showlegend": false,
         "type": "scatter",
         "x": {
          "bdata": "AAECAwQFBgcICQoLDA0ODxAREhMUFRYXGBkaGxwdHh8=",
          "dtype": "i1"
         },
         "y": {
          "bdata": "qNkWcWxI4T9iGIZhGIbhPyTpyqpowuE/SxA6/c8Q4z8SJZUZ033jPybRdkm0XeI/oYIKKqig4j+hXuPZ7MbiP59FM23PEeM/WO5phOWe4j+kHSsQRtrhP9uo1qIf2+E/r+bRWw6c4j91xL5js63iP6gatWQ67uE/61cK1PqV4j9rUrYmZWviP2zL9EQwiOI/3MWEwXea4j9VVVVVVVXiP50QgTkhAuM/16776ULV4j/TBsPepJniP1fE+XEAQeI/sGKqFJFY4j8SQkUSQkXiPzLE6DHE6OE/pFQUd7kZ4j/cI4GLxT3iPxImYRImYeI/T992OGFB4j/BZwxHCxLgPw==",
          "dtype": "f8"
         }
        },
        {
         "legendgroup": "('llama3.1_8b_chat', 'medals_9k', 'base', 'main', 'prompt_only')",
         "marker": {
          "color": "#ff7f0e",
          "opacity": 0.5,
          "size": 6
         },
         "mode": "markers",
         "name": "('llama3.1_8b_chat', 'medals_9k', 'base', 'main', 'prompt_only') Fold ('direction_f1_score', 4)",
         "showlegend": false,
         "type": "scatter",
         "x": {
          "bdata": "AAECAwQFBgcICQoLDA0ODxAREhMUFRYXGBkaGxwdHh8=",
          "dtype": "i1"
         },
         "y": {
          "bdata": "uPuOi5dt4D9rECZ7nRvdP36IVVRaPOI/ctJWKou94z/qERMt9qLiPwQIMWh9St4/7yrFBN1V4j+6XDAOuWLiPyw9xxecvuI/gnW0eZ/i4j8ljOBE8TbiP2kGEChk+uE/UlJSUlJS4j++4cNc3ZziP8S3EX5jJuE/UJ+XBurz4j815H/JIEviPwBFXl8GL+I/Xq76rBzs4T/5QT72Yl3hP3QANrWW2eE/T8Zvl3oy4j/MESmG+svhP+Wx8mmOYuA/fsea3ZUX4D8RERERERHhP01lvz1DhuE/CMKE/ECY4D84MPNEiMXgP1CZdg7WLOE/cLI7QrDB4T/eYWJRgjPcPw==",
          "dtype": "f8"
         }
        }
       ],
       "layout": {
        "font": {
         "color": "white"
        },
        "height": 600,
        "legend": {
         "bgcolor": "rgba(32, 32, 32, 0.8)",
         "orientation": "h",
         "x": 0.5,
         "xanchor": "center",
         "y": 1.02,
         "yanchor": "bottom"
        },
        "margin": {
         "b": 50,
         "l": 50,
         "r": 30,
         "t": 100
        },
        "paper_bgcolor": "rgba(32, 32, 32, 1)",
        "plot_bgcolor": "rgba(32, 32, 32, 1)",
        "showlegend": true,
        "template": {
         "data": {
          "bar": [
           {
            "error_x": {
             "color": "#f2f5fa"
            },
            "error_y": {
             "color": "#f2f5fa"
            },
            "marker": {
             "line": {
              "color": "rgb(17,17,17)",
              "width": 0.5
             },
             "pattern": {
              "fillmode": "overlay",
              "size": 10,
              "solidity": 0.2
             }
            },
            "type": "bar"
           }
          ],
          "barpolar": [
           {
            "marker": {
             "line": {
              "color": "rgb(17,17,17)",
              "width": 0.5
             },
             "pattern": {
              "fillmode": "overlay",
              "size": 10,
              "solidity": 0.2
             }
            },
            "type": "barpolar"
           }
          ],
          "carpet": [
           {
            "aaxis": {
             "endlinecolor": "#A2B1C6",
             "gridcolor": "#506784",
             "linecolor": "#506784",
             "minorgridcolor": "#506784",
             "startlinecolor": "#A2B1C6"
            },
            "baxis": {
             "endlinecolor": "#A2B1C6",
             "gridcolor": "#506784",
             "linecolor": "#506784",
             "minorgridcolor": "#506784",
             "startlinecolor": "#A2B1C6"
            },
            "type": "carpet"
           }
          ],
          "choropleth": [
           {
            "colorbar": {
             "outlinewidth": 0,
             "ticks": ""
            },
            "type": "choropleth"
           }
          ],
          "contour": [
           {
            "colorbar": {
             "outlinewidth": 0,
             "ticks": ""
            },
            "colorscale": [
             [
              0,
              "#0d0887"
             ],
             [
              0.1111111111111111,
              "#46039f"
             ],
             [
              0.2222222222222222,
              "#7201a8"
             ],
             [
              0.3333333333333333,
              "#9c179e"
             ],
             [
              0.4444444444444444,
              "#bd3786"
             ],
             [
              0.5555555555555556,
              "#d8576b"
             ],
             [
              0.6666666666666666,
              "#ed7953"
             ],
             [
              0.7777777777777778,
              "#fb9f3a"
             ],
             [
              0.8888888888888888,
              "#fdca26"
             ],
             [
              1,
              "#f0f921"
             ]
            ],
            "type": "contour"
           }
          ],
          "contourcarpet": [
           {
            "colorbar": {
             "outlinewidth": 0,
             "ticks": ""
            },
            "type": "contourcarpet"
           }
          ],
          "heatmap": [
           {
            "colorbar": {
             "outlinewidth": 0,
             "ticks": ""
            },
            "colorscale": [
             [
              0,
              "#0d0887"
             ],
             [
              0.1111111111111111,
              "#46039f"
             ],
             [
              0.2222222222222222,
              "#7201a8"
             ],
             [
              0.3333333333333333,
              "#9c179e"
             ],
             [
              0.4444444444444444,
              "#bd3786"
             ],
             [
              0.5555555555555556,
              "#d8576b"
             ],
             [
              0.6666666666666666,
              "#ed7953"
             ],
             [
              0.7777777777777778,
              "#fb9f3a"
             ],
             [
              0.8888888888888888,
              "#fdca26"
             ],
             [
              1,
              "#f0f921"
             ]
            ],
            "type": "heatmap"
           }
          ],
          "histogram": [
           {
            "marker": {
             "pattern": {
              "fillmode": "overlay",
              "size": 10,
              "solidity": 0.2
             }
            },
            "type": "histogram"
           }
          ],
          "histogram2d": [
           {
            "colorbar": {
             "outlinewidth": 0,
             "ticks": ""
            },
            "colorscale": [
             [
              0,
              "#0d0887"
             ],
             [
              0.1111111111111111,
              "#46039f"
             ],
             [
              0.2222222222222222,
              "#7201a8"
             ],
             [
              0.3333333333333333,
              "#9c179e"
             ],
             [
              0.4444444444444444,
              "#bd3786"
             ],
             [
              0.5555555555555556,
              "#d8576b"
             ],
             [
              0.6666666666666666,
              "#ed7953"
             ],
             [
              0.7777777777777778,
              "#fb9f3a"
             ],
             [
              0.8888888888888888,
              "#fdca26"
             ],
             [
              1,
              "#f0f921"
             ]
            ],
            "type": "histogram2d"
           }
          ],
          "histogram2dcontour": [
           {
            "colorbar": {
             "outlinewidth": 0,
             "ticks": ""
            },
            "colorscale": [
             [
              0,
              "#0d0887"
             ],
             [
              0.1111111111111111,
              "#46039f"
             ],
             [
              0.2222222222222222,
              "#7201a8"
             ],
             [
              0.3333333333333333,
              "#9c179e"
             ],
             [
              0.4444444444444444,
              "#bd3786"
             ],
             [
              0.5555555555555556,
              "#d8576b"
             ],
             [
              0.6666666666666666,
              "#ed7953"
             ],
             [
              0.7777777777777778,
              "#fb9f3a"
             ],
             [
              0.8888888888888888,
              "#fdca26"
             ],
             [
              1,
              "#f0f921"
             ]
            ],
            "type": "histogram2dcontour"
           }
          ],
          "mesh3d": [
           {
            "colorbar": {
             "outlinewidth": 0,
             "ticks": ""
            },
            "type": "mesh3d"
           }
          ],
          "parcoords": [
           {
            "line": {
             "colorbar": {
              "outlinewidth": 0,
              "ticks": ""
             }
            },
            "type": "parcoords"
           }
          ],
          "pie": [
           {
            "automargin": true,
            "type": "pie"
           }
          ],
          "scatter": [
           {
            "marker": {
             "line": {
              "color": "#283442"
             }
            },
            "type": "scatter"
           }
          ],
          "scatter3d": [
           {
            "line": {
             "colorbar": {
              "outlinewidth": 0,
              "ticks": ""
             }
            },
            "marker": {
             "colorbar": {
              "outlinewidth": 0,
              "ticks": ""
             }
            },
            "type": "scatter3d"
           }
          ],
          "scattercarpet": [
           {
            "marker": {
             "colorbar": {
              "outlinewidth": 0,
              "ticks": ""
             }
            },
            "type": "scattercarpet"
           }
          ],
          "scattergeo": [
           {
            "marker": {
             "colorbar": {
              "outlinewidth": 0,
              "ticks": ""
             }
            },
            "type": "scattergeo"
           }
          ],
          "scattergl": [
           {
            "marker": {
             "line": {
              "color": "#283442"
             }
            },
            "type": "scattergl"
           }
          ],
          "scattermap": [
           {
            "marker": {
             "colorbar": {
              "outlinewidth": 0,
              "ticks": ""
             }
            },
            "type": "scattermap"
           }
          ],
          "scattermapbox": [
           {
            "marker": {
             "colorbar": {
              "outlinewidth": 0,
              "ticks": ""
             }
            },
            "type": "scattermapbox"
           }
          ],
          "scatterpolar": [
           {
            "marker": {
             "colorbar": {
              "outlinewidth": 0,
              "ticks": ""
             }
            },
            "type": "scatterpolar"
           }
          ],
          "scatterpolargl": [
           {
            "marker": {
             "colorbar": {
              "outlinewidth": 0,
              "ticks": ""
             }
            },
            "type": "scatterpolargl"
           }
          ],
          "scatterternary": [
           {
            "marker": {
             "colorbar": {
              "outlinewidth": 0,
              "ticks": ""
             }
            },
            "type": "scatterternary"
           }
          ],
          "surface": [
           {
            "colorbar": {
             "outlinewidth": 0,
             "ticks": ""
            },
            "colorscale": [
             [
              0,
              "#0d0887"
             ],
             [
              0.1111111111111111,
              "#46039f"
             ],
             [
              0.2222222222222222,
              "#7201a8"
             ],
             [
              0.3333333333333333,
              "#9c179e"
             ],
             [
              0.4444444444444444,
              "#bd3786"
             ],
             [
              0.5555555555555556,
              "#d8576b"
             ],
             [
              0.6666666666666666,
              "#ed7953"
             ],
             [
              0.7777777777777778,
              "#fb9f3a"
             ],
             [
              0.8888888888888888,
              "#fdca26"
             ],
             [
              1,
              "#f0f921"
             ]
            ],
            "type": "surface"
           }
          ],
          "table": [
           {
            "cells": {
             "fill": {
              "color": "#506784"
             },
             "line": {
              "color": "rgb(17,17,17)"
             }
            },
            "header": {
             "fill": {
              "color": "#2a3f5f"
             },
             "line": {
              "color": "rgb(17,17,17)"
             }
            },
            "type": "table"
           }
          ]
         },
         "layout": {
          "annotationdefaults": {
           "arrowcolor": "#f2f5fa",
           "arrowhead": 0,
           "arrowwidth": 1
          },
          "autotypenumbers": "strict",
          "coloraxis": {
           "colorbar": {
            "outlinewidth": 0,
            "ticks": ""
           }
          },
          "colorscale": {
           "diverging": [
            [
             0,
             "#8e0152"
            ],
            [
             0.1,
             "#c51b7d"
            ],
            [
             0.2,
             "#de77ae"
            ],
            [
             0.3,
             "#f1b6da"
            ],
            [
             0.4,
             "#fde0ef"
            ],
            [
             0.5,
             "#f7f7f7"
            ],
            [
             0.6,
             "#e6f5d0"
            ],
            [
             0.7,
             "#b8e186"
            ],
            [
             0.8,
             "#7fbc41"
            ],
            [
             0.9,
             "#4d9221"
            ],
            [
             1,
             "#276419"
            ]
           ],
           "sequential": [
            [
             0,
             "#0d0887"
            ],
            [
             0.1111111111111111,
             "#46039f"
            ],
            [
             0.2222222222222222,
             "#7201a8"
            ],
            [
             0.3333333333333333,
             "#9c179e"
            ],
            [
             0.4444444444444444,
             "#bd3786"
            ],
            [
             0.5555555555555556,
             "#d8576b"
            ],
            [
             0.6666666666666666,
             "#ed7953"
            ],
            [
             0.7777777777777778,
             "#fb9f3a"
            ],
            [
             0.8888888888888888,
             "#fdca26"
            ],
            [
             1,
             "#f0f921"
            ]
           ],
           "sequentialminus": [
            [
             0,
             "#0d0887"
            ],
            [
             0.1111111111111111,
             "#46039f"
            ],
            [
             0.2222222222222222,
             "#7201a8"
            ],
            [
             0.3333333333333333,
             "#9c179e"
            ],
            [
             0.4444444444444444,
             "#bd3786"
            ],
            [
             0.5555555555555556,
             "#d8576b"
            ],
            [
             0.6666666666666666,
             "#ed7953"
            ],
            [
             0.7777777777777778,
             "#fb9f3a"
            ],
            [
             0.8888888888888888,
             "#fdca26"
            ],
            [
             1,
             "#f0f921"
            ]
           ]
          },
          "colorway": [
           "#636efa",
           "#EF553B",
           "#00cc96",
           "#ab63fa",
           "#FFA15A",
           "#19d3f3",
           "#FF6692",
           "#B6E880",
           "#FF97FF",
           "#FECB52"
          ],
          "font": {
           "color": "#f2f5fa"
          },
          "geo": {
           "bgcolor": "rgb(17,17,17)",
           "lakecolor": "rgb(17,17,17)",
           "landcolor": "rgb(17,17,17)",
           "showlakes": true,
           "showland": true,
           "subunitcolor": "#506784"
          },
          "hoverlabel": {
           "align": "left"
          },
          "hovermode": "closest",
          "mapbox": {
           "style": "dark"
          },
          "paper_bgcolor": "rgb(17,17,17)",
          "plot_bgcolor": "rgb(17,17,17)",
          "polar": {
           "angularaxis": {
            "gridcolor": "#506784",
            "linecolor": "#506784",
            "ticks": ""
           },
           "bgcolor": "rgb(17,17,17)",
           "radialaxis": {
            "gridcolor": "#506784",
            "linecolor": "#506784",
            "ticks": ""
           }
          },
          "scene": {
           "xaxis": {
            "backgroundcolor": "rgb(17,17,17)",
            "gridcolor": "#506784",
            "gridwidth": 2,
            "linecolor": "#506784",
            "showbackground": true,
            "ticks": "",
            "zerolinecolor": "#C8D4E3"
           },
           "yaxis": {
            "backgroundcolor": "rgb(17,17,17)",
            "gridcolor": "#506784",
            "gridwidth": 2,
            "linecolor": "#506784",
            "showbackground": true,
            "ticks": "",
            "zerolinecolor": "#C8D4E3"
           },
           "zaxis": {
            "backgroundcolor": "rgb(17,17,17)",
            "gridcolor": "#506784",
            "gridwidth": 2,
            "linecolor": "#506784",
            "showbackground": true,
            "ticks": "",
            "zerolinecolor": "#C8D4E3"
           }
          },
          "shapedefaults": {
           "line": {
            "color": "#f2f5fa"
           }
          },
          "sliderdefaults": {
           "bgcolor": "#C8D4E3",
           "bordercolor": "rgb(17,17,17)",
           "borderwidth": 1,
           "tickwidth": 0
          },
          "ternary": {
           "aaxis": {
            "gridcolor": "#506784",
            "linecolor": "#506784",
            "ticks": ""
           },
           "baxis": {
            "gridcolor": "#506784",
            "linecolor": "#506784",
            "ticks": ""
           },
           "bgcolor": "rgb(17,17,17)",
           "caxis": {
            "gridcolor": "#506784",
            "linecolor": "#506784",
            "ticks": ""
           }
          },
          "title": {
           "x": 0.05
          },
          "updatemenudefaults": {
           "bgcolor": "#506784",
           "borderwidth": 0
          },
          "xaxis": {
           "automargin": true,
           "gridcolor": "#283442",
           "linecolor": "#506784",
           "ticks": "",
           "title": {
            "standoff": 15
           },
           "zerolinecolor": "#283442",
           "zerolinewidth": 2
          },
          "yaxis": {
           "automargin": true,
           "gridcolor": "#283442",
           "linecolor": "#506784",
           "ticks": "",
           "title": {
            "standoff": 15
           },
           "zerolinecolor": "#283442",
           "zerolinewidth": 2
          }
         }
        },
        "title": {},
        "width": 1000,
        "xaxis": {
         "gridcolor": "rgba(128, 128, 128, 0.2)",
         "title": {
          "text": "Layer"
         },
         "zeroline": false
        },
        "yaxis": {
         "gridcolor": "rgba(128, 128, 128, 0.2)",
         "title": {
          "text": "Direction F1 Score"
         },
         "zeroline": false
        }
       }
      }
     },
     "metadata": {},
     "output_type": "display_data"
    },
    {
     "name": "stdout",
     "output_type": "stream",
     "text": [
      "conf=('llama3.1_8b_chat', 'birth_years_4k', 'base', 'main', 'prompt_answer')\n",
      "conf=('llama3.1_8b_chat', 'birth_years_4k', 'base', 'main', 'prompt_only')\n",
      "conf=('llama3.1_8b_chat', 'cities_10k', 'base', 'main', 'prompt_answer')\n",
      "conf=('llama3.1_8b_chat', 'cities_10k', 'base', 'main', 'prompt_only')\n",
      "conf=('llama3.1_8b_chat', 'football_leagues_1k', 'base', 'main', 'prompt_answer')\n",
      "conf=('llama3.1_8b_chat', 'football_leagues_1k', 'base', 'main', 'prompt_only')\n",
      "conf=('llama3.1_8b_chat', 'medals_9k', 'base', 'main', 'prompt_answer')\n",
      "conf=('llama3.1_8b_chat', 'medals_9k', 'base', 'main', 'prompt_only')\n"
     ]
    },
    {
     "data": {
      "application/vnd.plotly.v1+json": {
       "config": {
        "plotlyServerURL": "https://plot.ly"
       },
       "data": [
        {
         "legendgroup": "('llama3.1_8b_chat', 'birth_years_4k', 'base', 'main', 'prompt_answer')",
         "line": {
          "color": "#1f77b4",
          "width": 2
         },
         "marker": {
          "size": 8
         },
         "mode": "lines+markers",
         "name": "('llama3.1_8b_chat', 'birth_years_4k', 'base', 'main', 'prompt_answer')",
         "type": "scatter",
         "x": {
          "bdata": "AAECAwQFBgcICQoLDA0ODxAREhMUFRYXGBkaGxwdHh8=",
          "dtype": "i1"
         },
         "y": {
          "bdata": "A/WpgzlO4j9p6bL94D/iP/hN5RpC8eM/toPtQJEW5D+9fe3QPdbkPwJxwMb6muU/jrJ3qpXm5T+WYiOsA4/mP5WoDD+jjuY/wiFs2oKi5j8eDzRUQXPmPxAxU34gTeY//v8uh9j85j9pKRvx2eTmP7SnevTUAOc/dHG9m5C15j8Vq3gsTAjnPyJvY1cNDec/1Fu9KrgH5z+uGE8nFNnmP4DFiWdYY+Y/xpcemfV35j+aONnOeV/mPzDuoKb5AOY/Q5QhSRwU5j8wP9eZf9HlPzLFBTpym+U/rQ+Kq4T55T9SI+hiiVHmP77QfIte2uY/2/Agov0c5z9kytVgb8jmPw==",
          "dtype": "f8"
         }
        },
        {
         "legendgroup": "('llama3.1_8b_chat', 'birth_years_4k', 'base', 'main', 'prompt_answer')",
         "line": {
          "width": 0
         },
         "mode": "lines",
         "name": "('llama3.1_8b_chat', 'birth_years_4k', 'base', 'main', 'prompt_answer') Max",
         "showlegend": false,
         "type": "scatter",
         "x": {
          "bdata": "AAECAwQFBgcICQoLDA0ODxAREhMUFRYXGBkaGxwdHh8=",
          "dtype": "i1"
         },
         "y": {
          "bdata": "oQTTa5+F4j/UFDVFTVHjP7LXudHxpOU/jv5QSC7g5T9VVVVVVVXlP6uqqqqqKuY/4Z3Dn0715j9H5gQ8nx7nPzXCck8jLOc/7MRO7MRO6D83p6s8Ex/nP0hNMN7KPuc/s38LS9xM5z8tfo2C0+LnPxjzqRfzqec/69Bvtg795j8j3FKzYX/nP1pkO99Pjec/ZweMw12Y5z9z7cBcOzDnP5gmDmO19ec/ZiOonrGL5z+66KKLLrrmP7rooosuuuY/d7M8iUzD5j+ZA+5ZPsjmP2ZmZmZmZuY/a7j4IQxy5j93szyJTMPmP0uA/CkInuc/44AGhc/x5z9FdhPZTWTnPw==",
          "dtype": "f8"
         }
        },
        {
         "fill": "tonexty",
         "fillcolor": "rgba(31, 119, 180, 0.1)",
         "legendgroup": "('llama3.1_8b_chat', 'birth_years_4k', 'base', 'main', 'prompt_answer')",
         "line": {
          "width": 0
         },
         "mode": "lines",
         "name": "('llama3.1_8b_chat', 'birth_years_4k', 'base', 'main', 'prompt_answer') Min",
         "showlegend": false,
         "type": "scatter",
         "x": {
          "bdata": "AAECAwQFBgcICQoLDA0ODxAREhMUFRYXGBkaGxwdHh8=",
          "dtype": "i1"
         },
         "y": {
          "bdata": "AAAAAAAA4j8xrlv6FxrhPwMt0AIt0OI/bHAYSO4+4z+fb0ybgFLkP4080elu1eQ/Bci95kLS5D8sMl+aOIzlP0ulUqlUKuU//36+nexi5D8bL90kBoHlP6xDNnvPi+U/hCOItF7A5j9Q61cK1PrlPwNhpB0rEOY/ECVijSp65j9mOnqskmjmP7gehetRuOY/orE+NNaH5j94Nuo7G/XlP6BSf0r9KeU/YKUCVKt/5T8CdSOe+aDlP6xDNnvPi+U/4E5/xALu5D8ppZRSSinlP9Q/t4HX7uQ/WLF5vNKE5T/oNvDanXLlP+xSGvibt+U/rEM2e8+L5T9mfC6/RHHlPw==",
          "dtype": "f8"
         }
        },
        {
         "legendgroup": "('llama3.1_8b_chat', 'birth_years_4k', 'base', 'main', 'prompt_answer')",
         "line": {
          "width": 0
         },
         "mode": "lines",
         "name": "('llama3.1_8b_chat', 'birth_years_4k', 'base', 'main', 'prompt_answer') +1 STD",
         "showlegend": false,
         "type": "scatter",
         "x": {
          "bdata": "AAECAwQFBgcICQoLDA0ODxAREhMUFRYXGBkaGxwdHh8=",
          "dtype": "i1"
         },
         "y": {
          "bdata": "ob9pqImA4j+GqPO13A3jP/YfMNmr+uQ/+IDE974m5T99K7XDm0TlP5IdYmwpNOY/YRl4ZuG25j+JLJWyqS/nPzSYs+aTXec/Q/rOtgUV6D+kS98cEh3nP8v2UndA+eY/DLF7q3c05z+TtCzjc7LnP8Qw0wwxs+c/lXZ/uGPv5j9gDVuASXznP9KXAWhQZec/YNT0LEVw5z/oV09yQFrnP0lU+NLCZec/zos3pE885z9djfgw69DmPzzPUad9deY/UG9Tc33J5j+XKH96+m3mPw0cqk4MQ+Y/sDfneQFQ5j89fzAotNPmP03dq+Knlec/Nd15cxcS6D/SRNSfkqLnPw==",
          "dtype": "f8"
         }
        },
        {
         "fill": "tonexty",
         "fillcolor": "rgba(31, 119, 180, 0.3)",
         "legendgroup": "('llama3.1_8b_chat', 'birth_years_4k', 'base', 'main', 'prompt_answer')",
         "line": {
          "width": 0
         },
         "mode": "lines",
         "name": "('llama3.1_8b_chat', 'birth_years_4k', 'base', 'main', 'prompt_answer') -1 STD",
         "showlegend": false,
         "type": "scatter",
         "x": {
          "bdata": "AAECAwQFBgcICQoLDA0ODxAREhMUFRYXGBkaGxwdHh8=",
          "dtype": "i1"
         },
         "y": {
          "bdata": "ZSrqXukb4j9MKnJF5XHhP/p7mlzY5+I/dIYWimMG4z/9zyXe32fkP3LEHiHMAeU/u0t37kkW5T+jmLGlXe7lP/a4ZZeyv+U/QUkJ/v8v5T+Y0oiLcMnlP1VrU4UAoeU/8E7iYjnF5j8/ngn/PxfmP6QeItx4TuY/U2z7fr175j/KSJbYTpTmP3JGxUbKtOY/SOOFKCuf5j902U7c51fmP7c2G/ztYOU/vqMFjpuz5T/X47lsCO7lPyQN8KV1jOU/NrnvHrte5T/JVS+5BDXlP1duYSXY8+Q/qucs3Qej5T9nx5+dXs/lPy/ETTQVH+Y/gQTI0OMn5j/2T9chTO7lPw==",
          "dtype": "f8"
         }
        },
        {
         "legendgroup": "('llama3.1_8b_chat', 'birth_years_4k', 'base', 'main', 'prompt_answer')",
         "marker": {
          "color": "#1f77b4",
          "opacity": 0.5,
          "size": 6
         },
         "mode": "markers",
         "name": "('llama3.1_8b_chat', 'birth_years_4k', 'base', 'main', 'prompt_answer') Fold ('logistic_regression_f1_score', 0)",
         "showlegend": false,
         "type": "scatter",
         "x": {
          "bdata": "AAECAwQFBgcICQoLDA0ODxAREhMUFRYXGBkaGxwdHh8=",
          "dtype": "i1"
         },
         "y": {
          "bdata": "AAAAAAAA4j8tjO+EPm3iP6ljICSyxuM/MYKw1pEv5D9VVVVVVVXlP/50qreE2+U/4Z3Dn0715j8K16NwPQrnP+QWSn2w4+Y/FquQ9khU5j92Yid2YifmP03xSyKkWuY/s38LS9xM5z9Q61cK1PrlP3oWpmdheuY/yWfdYIp85j9ubLmx5cbmP7gehetRuOY/orE+NNaH5j9zjOT6h/vmP5gmDmO19ec/ZiOonrGL5z/eTtIwgrDmPwwqwi01G+Y/7FG4HoXr5T/ItNqOJvflP1LFhqtOHuU/Egx/6Gbq5T9QLkTdDFrmP+xSGvibt+U/rEM2e8+L5T9mfC6/RHHlPw==",
          "dtype": "f8"
         }
        },
        {
         "legendgroup": "('llama3.1_8b_chat', 'birth_years_4k', 'base', 'main', 'prompt_answer')",
         "marker": {
          "color": "#1f77b4",
          "opacity": 0.5,
          "size": 6
         },
         "mode": "markers",
         "name": "('llama3.1_8b_chat', 'birth_years_4k', 'base', 'main', 'prompt_answer') Fold ('logistic_regression_f1_score', 1)",
         "showlegend": false,
         "type": "scatter",
         "x": {
          "bdata": "AAECAwQFBgcICQoLDA0ODxAREhMUFRYXGBkaGxwdHh8=",
          "dtype": "i1"
         },
         "y": {
          "bdata": "B6OBdh1V4j/UFDVFTVHjPwMt0AIt0OI/mFoMdoRj4z+TK4jJFcTkP9R3Nuo7G+U/Bci95kLS5D/JZ91ginzmPxhpxwqEkeY/Z3kSmYbt5j9AMCRbRHPmP0QUBrWcyOU/t23btm3b5j8fLsWneznmPwNhpB0rEOY/ECVijSp65j9mOnqskmjmP1pkO99Pjec/LnHq99wS5z8WcKc/YgHnPxAlYo0qeuY/Um25ShrV5j8CdSOe+aDlP9/0pje96eU/4E5/xALu5D8ppZRSSinlP9Q/t4HX7uQ/tpvlSWQa5j93szyJTMPmP8E1cA1cA+c/fG6JU7/n5j9r9iTfx2rmPw==",
          "dtype": "f8"
         }
        },
        {
         "legendgroup": "('llama3.1_8b_chat', 'birth_years_4k', 'base', 'main', 'prompt_answer')",
         "marker": {
          "color": "#1f77b4",
          "opacity": 0.5,
          "size": 6
         },
         "mode": "markers",
         "name": "('llama3.1_8b_chat', 'birth_years_4k', 'base', 'main', 'prompt_answer') Fold ('logistic_regression_f1_score', 2)",
         "showlegend": false,
         "type": "scatter",
         "x": {
          "bdata": "AAECAwQFBgcICQoLDA0ODxAREhMUFRYXGBkaGxwdHh8=",
          "dtype": "i1"
         },
         "y": {
          "bdata": "TeJt6blp4j9rUrYmZWviPyLIejgkpeM/bHAYSO4+4z+fb0ybgFLkP4080elu1eQ/uqbGsGWU5T9H5gQ8nx7nP2tjaLqD/eY/7MRO7MRO6D+I4i9yhgXnP0hNMN7KPuc/xU7sxE7s5j8Ivsrnl3PnPw/2W20MTec/t23btm3b5j8j3FKzYX/nP77dlMOyM+c/ZweMw12Y5z9z7cBcOzDnP9F0B/utNuY/KlanYnUq5j8jPoFUcl7mP6xDNnvPi+U/RwxsUF1o5j+ZA+5ZPsjmP8OTSbvcMeY/a7j4IQxy5j9MaC+hvYTmP0uA/CkInuc/44AGhc/x5z8HdVAHdVDnPw==",
          "dtype": "f8"
         }
        },
        {
         "legendgroup": "('llama3.1_8b_chat', 'birth_years_4k', 'base', 'main', 'prompt_answer')",
         "marker": {
          "color": "#1f77b4",
          "opacity": 0.5,
          "size": 6
         },
         "mode": "markers",
         "name": "('llama3.1_8b_chat', 'birth_years_4k', 'base', 'main', 'prompt_answer') Fold ('logistic_regression_f1_score', 3)",
         "showlegend": false,
         "type": "scatter",
         "x": {
          "bdata": "AAECAwQFBgcICQoLDA0ODxAREhMUFRYXGBkaGxwdHh8=",
          "dtype": "i1"
         },
         "y": {
          "bdata": "oQTTa5+F4j8xrlv6FxrhP1VVVVVV1eM/z0Z9Z6O+4z/CSDtWIIzkP6uqqqqqKuY//cXJIPLA5T8sMl+aOIzlP0ulUqlUKuU//36+nexi5D8bL90kBoHlP6xDNnvPi+U/QKCPKEMb5z9neRKZhu3mP+HlFLycguc/ymsor6G85j9cCQ6VXw/nP1Bak599v+Y/d7M8iUzD5j94Nuo7G/XlP6BSf0r9KeU/YKUCVKt/5T9AMCRbRHPmP59b4tTvueU/d7M8iUzD5j8HxlBktqjlP6faLtPRY+U/0zzbSO3j5T/oNvDanXLlP0J6cYjCoOY/yKmAX7i15z/WlXVlXVnnPw==",
          "dtype": "f8"
         }
        },
        {
         "legendgroup": "('llama3.1_8b_chat', 'birth_years_4k', 'base', 'main', 'prompt_answer')",
         "marker": {
          "color": "#1f77b4",
          "opacity": 0.5,
          "size": 6
         },
         "mode": "markers",
         "name": "('llama3.1_8b_chat', 'birth_years_4k', 'base', 'main', 'prompt_answer') Fold ('logistic_regression_f1_score', 4)",
         "showlegend": false,
         "type": "scatter",
         "x": {
          "bdata": "AAECAwQFBgcICQoLDA0ODxAREhMUFRYXGBkaGxwdHh8=",
          "dtype": "i1"
         },
         "y": {
          "bdata": "HT+PxqhC4j9w7UcJXPvhP7LXudHxpOU/jv5QSC7g5T9nOz4EKTflPwFhZasLEOY/K6pE/AJk5j+mlcu0cpnmPzXCck8jLOc/XkBsKg055z83p6s8Ex/nP8pe50bHk+Y/hCOItF7A5j8tfo2C0+LnPxjzqRfzqec/69Bvtg795j8Vy8Y3Q2vnP4dwCIdwCOc/c+3AXDsw5z/1WlTxIxvnP2nIuc8uIOY/m2qNXd9M5j+66KKLLrrmP7rooosuuuY/xYTHsFtf5j9iGIZhGIblP2ZmZmZmZuY/WLF5vNKE5T+hL+gL+oLmP4GQdwEWSuc/dtddd9115z9FdhPZTWTnPw==",
          "dtype": "f8"
         }
        },
        {
         "legendgroup": "('llama3.1_8b_chat', 'birth_years_4k', 'base', 'main', 'prompt_only')",
         "line": {
          "color": "#ff7f0e",
          "width": 2
         },
         "marker": {
          "size": 8
         },
         "mode": "lines+markers",
         "name": "('llama3.1_8b_chat', 'birth_years_4k', 'base', 'main', 'prompt_only')",
         "type": "scatter",
         "x": {
          "bdata": "AAECAwQFBgcICQoLDA0ODxAREhMUFRYXGBkaGxwdHh8=",
          "dtype": "i1"
         },
         "y": {
          "bdata": "rG06FnF94D/TEAddE4fiP3gWoDNKJ+M/aR0ekE5b4z+jj1ZErrfkP0422sgUo+U/iI3Kb2/k5T+7TdzeagjmP04/8SsFMuY/yp+Mj5wz5j+8BbNqdxXmPxThVhJFoOY/vj22DofE5j+j84Dc7bLmP2C6L2q/geY/ZprPt/+C5j/Vi87meM3mPzNQOH+19eY/PE2A3CWB5j/V6HPSNKDmP+hRNgq33uY/TrqkkXv15j9aEV23bgjnP5jgDcZVyuY/b9l/JAvy5j8Qwm/VcNrmP09CPtFhzuY/SreZWDnA5j8FJNJH5cbmP/QFKYaBHOc/axi6pFQO5z/5UZScT9zmPw==",
          "dtype": "f8"
         }
        },
        {
         "legendgroup": "('llama3.1_8b_chat', 'birth_years_4k', 'base', 'main', 'prompt_only')",
         "line": {
          "width": 0
         },
         "mode": "lines",
         "name": "('llama3.1_8b_chat', 'birth_years_4k', 'base', 'main', 'prompt_only') Max",
         "showlegend": false,
         "type": "scatter",
         "x": {
          "bdata": "AAECAwQFBgcICQoLDA0ODxAREhMUFRYXGBkaGxwdHh8=",
          "dtype": "i1"
         },
         "y": {
          "bdata": "vRf1XtR74T/70FgfGuvjPwPMwvhO6OM/a2+s/kCP5D9KBI/013PlP8YkDt63RuY/YeL9yGm+5j/klHFFThnnPwrXo3A9Cuc/vVbwiSO95j/XRCDXRCDnP4k6R5EWoOc/8SYuQO2d5z9XDnxXDnznPzXaAqTWtec/fN3rXve65z8YVz/oqMDnP/2uFjdhfuc/Vz/oqMAX5z95RzXrz+DnP4Bd658oBeg/1dlx9+iG5z9DeQ3lNZTnPxPTaAuQWuc/6V8JMRTM5z94vyJ3mMHnPzAKOQzeQec/p/r38+1k5z9VVVVVVdXnP7wi86WJw+g/PzTWh8b66D8AAAAAAADoPw==",
          "dtype": "f8"
         }
        },
        {
         "fill": "tonexty",
         "fillcolor": "rgba(255, 127, 14, 0.1)",
         "legendgroup": "('llama3.1_8b_chat', 'birth_years_4k', 'base', 'main', 'prompt_only')",
         "line": {
          "width": 0
         },
         "mode": "lines",
         "name": "('llama3.1_8b_chat', 'birth_years_4k', 'base', 'main', 'prompt_only') Min",
         "showlegend": false,
         "type": "scatter",
         "x": {
          "bdata": "AAECAwQFBgcICQoLDA0ODxAREhMUFRYXGBkaGxwdHh8=",
          "dtype": "i1"
         },
         "y": {
          "bdata": "OmXu94bo3z+39C80os7hP57neZ7neeI/Iq4yBcwH4j9HFJh0ah7kP1Tgi6sfdOQ/eD1faexG5T/N+jP4TfTkP39K/Sn1p+Q/aVRbrpJG5T+2HNzsF2LlP5h4P3Kar+U/FK5H4XoU5j8O1DDmqiXmP1boDFboDOY/5klkGrab5T8kfbk0v8HlP+pNb3rTm+Y/N0thAYro5T82WqM1WqPlPwVE56t7pOU/cMFBiRlY5j8xdKol9YDmP0kobbyjmuU/k+4ypnwd5j9kNXuS72PlPyFbOOaAe+Y/25WoXYna5T/oN1uHfrPlP2DW+2W9X+Y/pN7tuKHB5T/EVaaA+UDmPw==",
          "dtype": "f8"
         }
        },
        {
         "legendgroup": "('llama3.1_8b_chat', 'birth_years_4k', 'base', 'main', 'prompt_only')",
         "line": {
          "width": 0
         },
         "mode": "lines",
         "name": "('llama3.1_8b_chat', 'birth_years_4k', 'base', 'main', 'prompt_only') +1 STD",
         "showlegend": false,
         "type": "scatter",
         "x": {
          "bdata": "AAECAwQFBgcICQoLDA0ODxAREhMUFRYXGBkaGxwdHh8=",
          "dtype": "i1"
         },
         "y": {
          "bdata": "HvAuqwId4T8OOiSKR1/jPxQrPWp2zuM/N3VVEuZQ5D+0PNvryk3lP+zGy/s3V+Y/uMk6u9175j9I3Cgt5NvmP0fm4fG4KOc/jGyHUafB5j81I6DG7NfmP65kujQfUuc/s3v6gOFc5z/aD7hR8ELnP9zxc7B7N+c/NYeGlF5l5z9wL51s1onnP2jHx/kZaOc/uxX2W2v95j9KLgoYPqDnPxNeS05fuec/hFKsEpt85z8RqJqjx3fnP48OYGYmh+c/vv8rStix5z/rk04gAsPnP6jarTv4Kec/nH0IuHxY5z+D3Rali5DnPw82AG2AD+g/jjkgZz476D+QNrKWVJTnPw==",
          "dtype": "f8"
         }
        },
        {
         "fill": "tonexty",
         "fillcolor": "rgba(255, 127, 14, 0.3)",
         "legendgroup": "('llama3.1_8b_chat', 'birth_years_4k', 'base', 'main', 'prompt_only')",
         "line": {
          "width": 0
         },
         "mode": "lines",
         "name": "('llama3.1_8b_chat', 'birth_years_4k', 'base', 'main', 'prompt_only') -1 STD",
         "showlegend": false,
         "type": "scatter",
         "x": {
          "bdata": "AAECAwQFBgcICQoLDA0ODxAREhMUFRYXGBkaGxwdHh8=",
          "dtype": "i1"
         },
         "y": {
          "bdata": "dNaLAr+73z+Y5+kv367hP9wBA/0dgOI/m8XmDbdl4j+S4tGckSHkP7Cl6JXx7uQ/WFFaJAFN5T8uv4+Q8TTlP1WYAGZRO+U/CNORzZGl5T9D6MUOAlPlP3pd8+9q7uU/yf9xnCws5j9s10ln6yLmP+SC6yMDzOU/l60Y26Cg5T866P9gGxHmP/7YqARRg+Y/vYQKXeAE5j9go92MK6DlP71FIcYOBOY/GCKdEFxu5j+jeh/LFZnmP6GyuyWFDeY/ILPT/j0y5j818JCK3/HlP/apzmbLcuY/+PAq+fUn5j+Hao3qPv3lP9nVUZ+CKeY/SPdT4mrh5T9ibXaiSiTmPw==",
          "dtype": "f8"
         }
        },
        {
         "legendgroup": "('llama3.1_8b_chat', 'birth_years_4k', 'base', 'main', 'prompt_only')",
         "marker": {
          "color": "#ff7f0e",
          "opacity": 0.5,
          "size": 6
         },
         "mode": "markers",
         "name": "('llama3.1_8b_chat', 'birth_years_4k', 'base', 'main', 'prompt_only') Fold ('logistic_regression_f1_score', 0)",
         "showlegend": false,
         "type": "scatter",
         "x": {
          "bdata": "AAECAwQFBgcICQoLDA0ODxAREhMUFRYXGBkaGxwdHh8=",
          "dtype": "i1"
         },
         "y": {
          "bdata": "YgF3+iMW4D9vZ0jM2xniPwPMwvhO6OM/Iq4yBcwH4j80B6OBdh3lP1Tgi6sfdOQ/eD1faexG5T9kIQtZyELmP2qwO5PR4uU/tWMFwkg75j8RhUEtJ3LlPyjEWfkJceY/l2/5lm/55j+XlpaWlpbmP2UKmA9kF+Y/5klkGrab5T8YVz/oqMDnP/2uFjdhfuc/Vz/oqMAX5z95RzXrz+DnP4Bd658oBeg/1dlx9+iG5z/XdE3XdE3nP8wpeDkFL+c/NLL0kCbG5j+2EJllmOTmPzAKOQzeQec/p/r38+1k5z9VVVVVVdXnP7wi86WJw+g/PzTWh8b66D8AAAAAAADoPw==",
          "dtype": "f8"
         }
        },
        {
         "legendgroup": "('llama3.1_8b_chat', 'birth_years_4k', 'base', 'main', 'prompt_only')",
         "marker": {
          "color": "#ff7f0e",
          "opacity": 0.5,
          "size": 6
         },
         "mode": "markers",
         "name": "('llama3.1_8b_chat', 'birth_years_4k', 'base', 'main', 'prompt_only') Fold ('logistic_regression_f1_score', 1)",
         "showlegend": false,
         "type": "scatter",
         "x": {
          "bdata": "AAECAwQFBgcICQoLDA0ODxAREhMUFRYXGBkaGxwdHh8=",
          "dtype": "i1"
         },
         "y": {
          "bdata": "dURgHww54D+39C80os7hPzAsJRf7wuI/xcH71sjq4j/1S7/0S7/kP+FbUTwSvuU/XKsZC/AG5j8bL90kBoHlP39K/Sn1p+Q/aVRbrpJG5T8nPNPfoNvlP5h4P3Kar+U/yMkyHgTS5j8O1DDmqiXmP1boDFboDOY/nN70pje95T+AbgOv3SnnP+pNb3rTm+Y/N0thAYro5T/blahdidrlP5qzBsXTHuc/zOVyuVwu5z+21lprrbXmP4ommmiiieY/k+4ypnwd5j9kNXuS72PlP4AjlNHbsuY/25WoXYna5T8ad+u8AhrnP2DW+2W9X+Y/ReofGfPq5j8OURjUciLnPw==",
          "dtype": "f8"
         }
        },
        {
         "legendgroup": "('llama3.1_8b_chat', 'birth_years_4k', 'base', 'main', 'prompt_only')",
         "marker": {
          "color": "#ff7f0e",
          "opacity": 0.5,
          "size": 6
         },
         "mode": "markers",
         "name": "('llama3.1_8b_chat', 'birth_years_4k', 'base', 'main', 'prompt_only') Fold ('logistic_regression_f1_score', 2)",
         "showlegend": false,
         "type": "scatter",
         "x": {
          "bdata": "AAECAwQFBgcICQoLDA0ODxAREhMUFRYXGBkaGxwdHh8=",
          "dtype": "i1"
         },
         "y": {
          "bdata": "OmXu94bo3z/0b6ZHYBniP57neZ7neeI/audgzRLj4z9KBI/013PlP8YkDt63RuY/YeL9yGm+5j94pL+eq1jmPwrXo3A9Cuc/mO4XP0l75j/XRCDXRCDnP4k6R5EWoOc/8SYuQO2d5z9XDnxXDnznPzXaAqTWtec/fN3rXve65z8ZCuaLKrfmPw8z+FLTZuc/GQrmiyq35j9XDnxXDnznP7dt27Zt2+Y/n/RJn/RJ5z9DeQ3lNZTnPxPTaAuQWuc/6V8JMRTM5z94vyJ3mMHnP/VaVPEjG+c/kHq344YG5z/oN1uHfrPlP2MEE/2drOY/pN7tuKHB5T+ry7BX+nPmPw==",
          "dtype": "f8"
         }
        },
        {
         "legendgroup": "('llama3.1_8b_chat', 'birth_years_4k', 'base', 'main', 'prompt_only')",
         "marker": {
          "color": "#ff7f0e",
          "opacity": 0.5,
          "size": 6
         },
         "mode": "markers",
         "name": "('llama3.1_8b_chat', 'birth_years_4k', 'base', 'main', 'prompt_only') Fold ('logistic_regression_f1_score', 3)",
         "showlegend": false,
         "type": "scatter",
         "x": {
          "bdata": "AAECAwQFBgcICQoLDA0ODxAREhMUFRYXGBkaGxwdHh8=",
          "dtype": "i1"
         },
         "y": {
          "bdata": "vRf1XtR74T8Jt6tpaLbiP7O964BuzOM/TMxaKKBj4z92Yid2YifkP6211lprreU/YpXI+y5i5T/klHFFThnnP9LCyLIdkuY/fyFWlMZH5j+2HNzsF2LlP10vE6DfoeY/TybtcsdY5j8ucp0JGDzmP7TC5kCiFeY/kZpgvJV95j8kfbk0v8HlP4LxVvY5pOY/DCrCLTUb5j82WqM1WqPlPwVE56t7pOU/0y3H/hV05j/EHXFH3BHnP0YXXXTRRec/noV+SiKm5z/57VJPxm/nPyFbOOaAe+Y/jd8u9WT85j90SE0w3srmP86T5poaw+Y/wJtHqD7T5j9iJ3ZiJ3bmPw==",
          "dtype": "f8"
         }
        },
        {
         "legendgroup": "('llama3.1_8b_chat', 'birth_years_4k', 'base', 'main', 'prompt_only')",
         "marker": {
          "color": "#ff7f0e",
          "opacity": 0.5,
          "size": 6
         },
         "mode": "markers",
         "name": "('llama3.1_8b_chat', 'birth_years_4k', 'base', 'main', 'prompt_only') Fold ('logistic_regression_f1_score', 4)",
         "showlegend": false,
         "type": "scatter",
         "x": {
          "bdata": "AAECAwQFBgcICQoLDA0ODxAREhMUFRYXGBkaGxwdHh8=",
          "dtype": "i1"
         },
         "y": {
          "bdata": "LZRgeu2z4D/70FgfGuvjP9PS0tLS0uI/a2+s/kCP5D9HFJh0ah7kP9/4gMsSCeY/DmO19bcH5j/N+jP4TfTkP8qnEPv30uY/vVbwiSO95j/k+W1EMJvmP7++vr6+vuY/FK5H4XoU5j8K16NwPQrnPzoUYMj3mOY/a2NouoP95j9WbiYq7J/mP4ZvRIFJp+Y/eMOP6hKz5j9GRkZGRkbmP7bWWmutteY/cMFBiRlY5j8xdKol9YDmP0kobbyjmuU/27jPA15k5j/K1qRsTcrmP8ln3WCKfOY/0ql5kLt+5j9MZzGdxXTmP3OM5PqH++Y/LuF2NQ3N5j/EVaaA+UDmPw==",
          "dtype": "f8"
         }
        },
        {
         "legendgroup": "('llama3.1_8b_chat', 'cities_10k', 'base', 'main', 'prompt_answer')",
         "line": {
          "color": "#2ca02c",
          "width": 2
         },
         "marker": {
          "size": 8
         },
         "mode": "lines+markers",
         "name": "('llama3.1_8b_chat', 'cities_10k', 'base', 'main', 'prompt_answer')",
         "type": "scatter",
         "x": {
          "bdata": "AAECAwQFBgcICQoLDA0ODxAREhMUFRYXGBkaGxwdHh8=",
          "dtype": "i1"
         },
         "y": {
          "bdata": "dsHMCHm15D/mDAMTzVjkPw4EidLd5+Q/jBMsPsTi5D/Q87hNHVnlPyZ+G4iFxuU/f9RY0f575j/J0N/HCpDmPxzwHwEeTec/BvRBnqiR5z8/My0vYMTnPzZu6Mfwkuc/JuVARViE5z9w5cU3HbDnP5okHz9lGug/wHcEpF7Y5z87zRFUnyzoPwaMZ36YNOg/yNtzVA8b6D82q/w5Fi/oP6rkUA+ySeg/G5N033Ii6D+BrFgHtP/nP1WHjgqY9+c/nsYnvnYF6D8r9w6LdhfoP93tyPiYB+g/vhC3/ucN6D82fu793R/oP6rf4ng24ec/Fe9Lp58R6D97Rrc3qtjnPw==",
          "dtype": "f8"
         }
        },
        {
         "legendgroup": "('llama3.1_8b_chat', 'cities_10k', 'base', 'main', 'prompt_answer')",
         "line": {
          "width": 0
         },
         "mode": "lines",
         "name": "('llama3.1_8b_chat', 'cities_10k', 'base', 'main', 'prompt_answer') Max",
         "showlegend": false,
         "type": "scatter",
         "x": {
          "bdata": "AAECAwQFBgcICQoLDA0ODxAREhMUFRYXGBkaGxwdHh8=",
          "dtype": "i1"
         },
         "y": {
          "bdata": "Cojbx7075T8F+wT7BPvkPwFVjtAPUOU/S9WqVK1K5T9JqFu0nDzmPwVr58QhyOY/4ULzY8gW5z/Ukb+lfi3nP9UmCXEF/uc/w5A/AEnW5z8mmGCCCSboP3tOE2/p4ec/vZgGRqzp5z81KyXQwDfoP/hsQjFyceg/FoOESzP85z8olyGy7m3oPxzHcRzHceg/Qu762WJl6D8g9vzDnn/oPzqyZyAqHek/5phjjjnm6D/hlpoN+7voP93IjdzIjeg/I+Ie1fdf6D8s6oq6oq7oP42t7fs3fug/+602hqY76D8YhmEYhmHoPynNTX04VOg/8pFyZi1d6D+Cytkt/GroPw==",
          "dtype": "f8"
         }
        },
        {
         "fill": "tonexty",
         "fillcolor": "rgba(44, 160, 44, 0.1)",
         "legendgroup": "('llama3.1_8b_chat', 'cities_10k', 'base', 'main', 'prompt_answer')",
         "line": {
          "width": 0
         },
         "mode": "lines",
         "name": "('llama3.1_8b_chat', 'cities_10k', 'base', 'main', 'prompt_answer') Min",
         "showlegend": false,
         "type": "scatter",
         "x": {
          "bdata": "AAECAwQFBgcICQoLDA0ODxAREhMUFRYXGBkaGxwdHh8=",
          "dtype": "i1"
         },
         "y": {
          "bdata": "pLu9EJg65D+yPAwVnxHkP1mqQecBduQ/wT/zaFGJ5D+YnGuagM/kP1GEIhShCOU/bzimVPn+5T+s+lX9qn7lP3qgcnYLv+Y/5AEiZAq75j+6Ml2ZrkznPwOx3u7Zx+Y/A+nfXVgr5z+1m88UcUHnP/YDmCm8tOc/mlCpwoCS5z9egZgfTcLnPxwuIAl59Oc/eiNx3kic5z8eD8P5TbHnPyAcjZjATOc/WHiFV3iF5z8rtskMLznnPwq1gDGJg+c/94LoNGeb5z+1tLS0tLTnP92ebOsMY+c/JKw3k5iz5z+QomOHhHrnP3CLe2mma+c/9Pl8Pp/P5z/1pje96U3nPw==",
          "dtype": "f8"
         }
        },
        {
         "legendgroup": "('llama3.1_8b_chat', 'cities_10k', 'base', 'main', 'prompt_answer')",
         "line": {
          "width": 0
         },
         "mode": "lines",
         "name": "('llama3.1_8b_chat', 'cities_10k', 'base', 'main', 'prompt_answer') +1 STD",
         "showlegend": false,
         "type": "scatter",
         "x": {
          "bdata": "AAECAwQFBgcICQoLDA0ODxAREhMUFRYXGBkaGxwdHh8=",
          "dtype": "i1"
         },
         "y": {
          "bdata": "tZAYHy4S5T9g0wgBS7vkP+32YHjAQeU/20OPoIQu5T9mxMJob+nlP32IhxcpaOY/EonSg6X75j9V1Is0JULnP8u2jQ9wy+c/OCQQtAMK6D9Sy/fCFBboP2VRJ3+dB+g/WV2jgR/O5z/lqSumSQvoP1FunM9gYug/EUDpZZEG6D9HtJ7fUnboPyYNkMw0beg/mH8IeM5r6D8Rz8kZ84ToP6q1gF/Q8Og/LNDTVaWp6D+Ex87jbJboP7ot0KdYY+g/vJv80VZN6D+th1Y69IzoP8SPPKafb+g/4HZFsKFC6D+mFfLqToPoP9dd4EoHOOg/7FailcVJ6D9e6jfIC1ToPw==",
          "dtype": "f8"
         }
        },
        {
         "fill": "tonexty",
         "fillcolor": "rgba(44, 160, 44, 0.3)",
         "legendgroup": "('llama3.1_8b_chat', 'cities_10k', 'base', 'main', 'prompt_answer')",
         "line": {
          "width": 0
         },
         "mode": "lines",
         "name": "('llama3.1_8b_chat', 'cities_10k', 'base', 'main', 'prompt_answer') -1 STD",
         "showlegend": false,
         "type": "scatter",
         "x": {
          "bdata": "AAECAwQFBgcICQoLDA0ODxAREhMUFRYXGBkaGxwdHh8=",
          "dtype": "i1"
         },
         "y": {
          "bdata": "N/KA8sNY5D9sRv0kT/bjPy8RsSz7jeQ/PePI2wOX5D86I68yy8jkP89zr/jhJOU/7B/fHlj85T89zTNb8N3lP20psvLLzuY/1MNziE0Z5z8sm2Kbq3LnPweLqRBEHuc/82zeCJE65z/7IGDJ8FTnP+Paoa5p0uc/b68f4iuq5z8v5oTI6+LnP+YKPzD8++c/+DffMFDK5z9bhy9aOdnnP6oTIb+Touc/ClYVaUCb5z9+keIq+2jnP/DgTG3Xi+c/gPFSqpa95z+pZsfb+KHnP/ZLVUuSn+c/nKooTS7Z5z/G5uoQbbznP31h5aZliuc/Pof1uHnZ5z+YojanSF3nPw==",
          "dtype": "f8"
         }
        },
        {
         "legendgroup": "('llama3.1_8b_chat', 'cities_10k', 'base', 'main', 'prompt_answer')",
         "marker": {
          "color": "#2ca02c",
          "opacity": 0.5,
          "size": 6
         },
         "mode": "markers",
         "name": "('llama3.1_8b_chat', 'cities_10k', 'base', 'main', 'prompt_answer') Fold ('logistic_regression_f1_score', 0)",
         "showlegend": false,
         "type": "scatter",
         "x": {
          "bdata": "AAECAwQFBgcICQoLDA0ODxAREhMUFRYXGBkaGxwdHh8=",
          "dtype": "i1"
         },
         "y": {
          "bdata": "pLu9EJg65D9IqHfN+RTkP1mqQecBduQ/uEZWl2Gv5D+YnGuagM/kP1GEIhShCOU/ZmZmZmZm5j/WOJCXgOnmP6ZqTl8RWOc/xNCtOPy75z/pXwkxFMznP7IVQcNJ3ec/MAleybWw5z84BoWm/JDnP1kNhKMRE+g/FoOESzP85z9Da/fhFlDoPxwuIAl59Oc/eiNx3kic5z8AAAAAAADoP0iDNEiDNOg/6V8JMRTM5z8rtskMLznnPyPHRgvzoec/94LoNGeb5z+AeOKTIcHnP4BR4V9U+Oc/B/Q5Bj4R6D9ZOLSjYVnoP/aA2QNmD+g/8pFyZi1d6D+Cytkt/GroPw==",
          "dtype": "f8"
         }
        },
        {
         "legendgroup": "('llama3.1_8b_chat', 'cities_10k', 'base', 'main', 'prompt_answer')",
         "marker": {
          "color": "#2ca02c",
          "opacity": 0.5,
          "size": 6
         },
         "mode": "markers",
         "name": "('llama3.1_8b_chat', 'cities_10k', 'base', 'main', 'prompt_answer') Fold ('logistic_regression_f1_score', 1)",
         "showlegend": false,
         "type": "scatter",
         "x": {
          "bdata": "AAECAwQFBgcICQoLDA0ODxAREhMUFRYXGBkaGxwdHh8=",
          "dtype": "i1"
         },
         "y": {
          "bdata": "N024ixDM5D94Yc/keSnkP/sbfTHu3uQ/nRDrK9Pg5D94eHh4eHjlP27btm3btuU/qi9/0ecH5j+s+lX9qn7lP3qgcnYLv+Y/5AEiZAq75j+6Ml2ZrkznPwOx3u7Zx+Y/A+nfXVgr5z81KyXQwDfoP5Erjq3fAeg/e7TMA2i/5z9hCA2G0GDoP8i7XPVZOeg/ofCfp9cD6D8eD8P5TbHnPyAcjZjATOc/WHiFV3iF5z84LwraAZznPwq1gDGJg+c/AAAAAAAA6D+1tLS0tLTnP92ebOsMY+c/JKw3k5iz5z+QomOHhHrnP3CLe2mma+c/2Osm2Osm6D/1pje96U3nPw==",
          "dtype": "f8"
         }
        },
        {
         "legendgroup": "('llama3.1_8b_chat', 'cities_10k', 'base', 'main', 'prompt_answer')",
         "marker": {
          "color": "#2ca02c",
          "opacity": 0.5,
          "size": 6
         },
         "mode": "markers",
         "name": "('llama3.1_8b_chat', 'cities_10k', 'base', 'main', 'prompt_answer') Fold ('logistic_regression_f1_score', 2)",
         "showlegend": false,
         "type": "scatter",
         "x": {
          "bdata": "AAECAwQFBgcICQoLDA0ODxAREhMUFRYXGBkaGxwdHh8=",
          "dtype": "i1"
         },
         "y": {
          "bdata": "EhOY6Yat5D8F+wT7BPvkPwFVjtAPUOU/S9WqVK1K5T9JqFu0nDzmPwVr58QhyOY/GxU9Jurn5j+bhkzvwP7mP+AP+AP+gOc/dk40eKXD5z8mmGCCCSboP3tOE2/p4ec/vZgGRqzp5z8ctOZMxJbnP/hsQjFyceg/Sl72atXz5z8olyGy7m3oPxzHcRzHceg/Qu762WJl6D/RUi9kgkroP6hXqFeoV+g/VlhhhRVW6D+5+9gyZjroPyiqB4288+c/1uNeKun55z89xcavCNPnP6CkggFKKug/CAQCgUAg6D8AAAAAAGDoPzoI9WMlzuc/9Pl8Pp/P5z8/gvsI7iPoPw==",
          "dtype": "f8"
         }
        },
        {
         "legendgroup": "('llama3.1_8b_chat', 'cities_10k', 'base', 'main', 'prompt_answer')",
         "marker": {
          "color": "#2ca02c",
          "opacity": 0.5,
          "size": 6
         },
         "mode": "markers",
         "name": "('llama3.1_8b_chat', 'cities_10k', 'base', 'main', 'prompt_answer') Fold ('logistic_regression_f1_score', 3)",
         "showlegend": false,
         "type": "scatter",
         "x": {
          "bdata": "AAECAwQFBgcICQoLDA0ODxAREhMUFRYXGBkaGxwdHh8=",
          "dtype": "i1"
         },
         "y": {
          "bdata": "Cojbx7075T8H/7ac6XDkP+C/Ko72sOQ/W/X8taEJ5T+Cx0jXL+7kP51zzjnnnOU/bzimVPn+5T/6x2y9yjvmP7du3bp16+Y/NxIGAlbH5z9605ve9KbnPyw6+Eq5oec/Zpdddtll5z/0+Xw+n8/nPycNr4/aSOg/UXAlt+f35z//dZpq+f3nP0Lu+tliZeg/goVx8yZY6D8g9vzDnn/oPwbOwvNjeug/CBbzwGIe6D+H5nP98TLoP3m1a472Lug/I+Ie1fdf6D8892EEz33oP42t7fs3fug/iAHpWMok6D8YhmEYhmHoPynNTX04VOg/6/svzKAe6D+HIhG13PnnPw==",
          "dtype": "f8"
         }
        },
        {
         "legendgroup": "('llama3.1_8b_chat', 'cities_10k', 'base', 'main', 'prompt_answer')",
         "marker": {
          "color": "#2ca02c",
          "opacity": 0.5,
          "size": 6
         },
         "mode": "markers",
         "name": "('llama3.1_8b_chat', 'cities_10k', 'base', 'main', 'prompt_answer') Fold ('logistic_regression_f1_score', 4)",
         "showlegend": false,
         "type": "scatter",
         "x": {
          "bdata": "AAECAwQFBgcICQoLDA0ODxAREhMUFRYXGBkaGxwdHh8=",
          "dtype": "i1"
         },
         "y": {
          "bdata": "VCMW3m+b5D+yPAwVnxHkPxQ5NaVeMeU/wT/zaFGJ5D82PhTmzErlP1s4+icWvOU/4ULzY8gW5z/Ukb+lfi3nP9UmCXEF/uc/w5A/AEnW5z/8AX/AH/DnP7bXXnvttec/aleidiVq5z+1m88UcUHnP/YDmCm8tOc/mlCpwoCS5z9egZgfTcLnP9wcHIP9Aeg/CcPFUqIp6D8AAAAAAHDoPzqyZyAqHek/5phjjjnm6D/hlpoN+7voP93IjdzIjeg/Jphgggkm6D8s6oq6oq7oP8piLpMZIug/+602hqY76D8OFi+y6QnoP4p81g2myOc/vTc1+8Tl5z8nSnZtomTnPw==",
          "dtype": "f8"
         }
        },
        {
         "legendgroup": "('llama3.1_8b_chat', 'cities_10k', 'base', 'main', 'prompt_only')",
         "line": {
          "color": "#d62728",
          "width": 2
         },
         "marker": {
          "size": 8
         },
         "mode": "lines+markers",
         "name": "('llama3.1_8b_chat', 'cities_10k', 'base', 'main', 'prompt_only')",
         "type": "scatter",
         "x": {
          "bdata": "AAECAwQFBgcICQoLDA0ODxAREhMUFRYXGBkaGxwdHh8=",
          "dtype": "i1"
         },
         "y": {
          "bdata": "drCNCRSr4j8wFe7BwOHiP2/UvVjG4OI/ApHUKDk04z/rm0+aIqPjP1OcvJAoXOQ/t0X8GbGG5T+1CaGKgdDlP41zDEenJec/Gqf9CuZM5z9tXEYUm4jnP/lbda8HLOc/NFvfr4wv5z9eab4DdkjnP1o1o2xhQ+c/9hFlBg245z+6IlKao8znP5CKZWk0zec/+9rlCPnE5z/i5Egl0rTnPxo499yx5ec/pTtFowpu5z8g/Zov3WbnPx0H4dZqXOc/CTzoAthQ5z9eGrcYHGznP1qtI72Ijuc/uMCd/Ndc5z9GMDKHVWfnP1U3PaYLYuc/ToEUnV1y5z+V0ue9o3znPw==",
          "dtype": "f8"
         }
        },
        {
         "legendgroup": "('llama3.1_8b_chat', 'cities_10k', 'base', 'main', 'prompt_only')",
         "line": {
          "width": 0
         },
         "mode": "lines",
         "name": "('llama3.1_8b_chat', 'cities_10k', 'base', 'main', 'prompt_only') Max",
         "showlegend": false,
         "type": "scatter",
         "x": {
          "bdata": "AAECAwQFBgcICQoLDA0ODxAREhMUFRYXGBkaGxwdHh8=",
          "dtype": "i1"
         },
         "y": {
          "bdata": "mTJlypQp4z8BO31Idb/jP3+QGNahoOM/2u+FEhvF4z9yhDHiG6zkP9VUU0011eQ/SChmRd4U5j8mN+0BSKPmP8Ep5GdlvOc/P97mOZvW5z8+nCdS0DToPxU5CUlJnuc/D9ngs1x95z+TeddiNJnnP5tltiCcuuc/+Af4B/gH6D+y6YtM8UToP1+UDQkGBOg/GBPcfP395z8EQRAEQRDoPxC2SxfMPug/2TqVYRH25z/vNem9Jr3nP4vBsARhk+c/pZ4NBli15z+qV6F6FarnP8YXX3zxxec/QnwH8R3E5z+4fMu3fMvnPxZYYIEFFug/OZ+A/5lR6D/Z5UMtHhToPw==",
          "dtype": "f8"
         }
        },
        {
         "fill": "tonexty",
         "fillcolor": "rgba(214, 39, 40, 0.1)",
         "legendgroup": "('llama3.1_8b_chat', 'cities_10k', 'base', 'main', 'prompt_only')",
         "line": {
          "width": 0
         },
         "mode": "lines",
         "name": "('llama3.1_8b_chat', 'cities_10k', 'base', 'main', 'prompt_only') Min",
         "showlegend": false,
         "type": "scatter",
         "x": {
          "bdata": "AAECAwQFBgcICQoLDA0ODxAREhMUFRYXGBkaGxwdHh8=",
          "dtype": "i1"
         },
         "y": {
          "bdata": "3JG4HYnb4T+1RQy6DqzhP7ScPFY+zeE/UQLd17O34j+gD9yFMvLiP4cW2c73U+M/je502Ytx5D/NES5o0fDkPzq7fHG6jeY/GSFAvKxu5j/UIgoBXM7mP9Lk/HsVEeY/T/BT5UFs5j9TTt1tef/mP1LCrec08eY/R/6W+rVc5z9vZKye10vnP0N6C+ktpOc/uHEZK8E85z9nfH+kYDLnP93sKiMEiOc/b3rTm9705j8CcaHmJBDnP0lDW17S0OY/J3JzKgyF5j9JQ1te0tDmP7WbzxRxQec/uG/fvn375j8G52NwPgbnP4oYf2wk7eY/zvsUlwzB5j/UrkTtStTmPw==",
          "dtype": "f8"
         }
        },
        {
         "legendgroup": "('llama3.1_8b_chat', 'cities_10k', 'base', 'main', 'prompt_only')",
         "line": {
          "width": 0
         },
         "mode": "lines",
         "name": "('llama3.1_8b_chat', 'cities_10k', 'base', 'main', 'prompt_only') +1 STD",
         "showlegend": false,
         "type": "scatter",
         "x": {
          "bdata": "AAECAwQFBgcICQoLDA0ODxAREhMUFRYXGBkaGxwdHh8=",
          "dtype": "i1"
         },
         "y": {
          "bdata": "0B3w5wEr4z82ooLghKPjP6ir/4XjjeM/6tIDlPWz4z9hBMKAaFbkPyoLR0nQ/uQ/b1P69zEy5j+KYCh0F2zmPzdGrpC/oec/gzyNaCvT5z83H/70EA7oPwQ7H03Vzec/TZnk0V+f5z97UMM7+H/nP9ajG8IOkOc/7AV1mJ/95z/h+YsppjHoPx89GlSC9+c/abM+P3cU6D+j+2xOwA3oP6fjxCYtK+g/7pdrC7vN5z8k4PZFT7HnPzyX3JblrOc/hNIZ+LTJ5z+45VUQNsjnP0U0sffUv+c/qpS0yFy25z9JMoEu4a7nP732P1wz2uc/edgLcMYE6D/Q2Q86GgvoPw==",
          "dtype": "f8"
         }
        },
        {
         "fill": "tonexty",
         "fillcolor": "rgba(214, 39, 40, 0.3)",
         "legendgroup": "('llama3.1_8b_chat', 'cities_10k', 'base', 'main', 'prompt_only')",
         "line": {
          "width": 0
         },
         "mode": "lines",
         "name": "('llama3.1_8b_chat', 'cities_10k', 'base', 'main', 'prompt_only') -1 STD",
         "showlegend": false,
         "type": "scatter",
         "x": {
          "bdata": "AAECAwQFBgcICQoLDA0ODxAREhMUFRYXGBkaGxwdHh8=",
          "dtype": "i1"
         },
         "y": {
          "bdata": "HEMrKyYr4j8qiFmj/B/iPzb9eyupM+I/Gk+lvXy04j91M92z3O/iP3wtMtiAueM//zf+OzDb5D/gshmh6zTlP+Ogav2OqeY/sRFuraDG5j+jmY4zJQPnP+58yxE6iuY/Gx3ajbm/5j9BgrnL8xDnP97GKhe09uY/AB5VdHpy5z+TSxgLoWfnPwHYsH7mouc/jQKN0np15z8hziT841vnP42MKZM2oOc/XN8eO1oO5z8cGj8ZaxznP/525RbwC+c/jqW2DfvX5j8ETxghAhDnP28mloI8Xec/xuyGMFMD5z9DLuPfyR/nP+13OvDj6eY/IyodyvTf5j9ay79BLe7mPw==",
          "dtype": "f8"
         }
        },
        {
         "legendgroup": "('llama3.1_8b_chat', 'cities_10k', 'base', 'main', 'prompt_only')",
         "marker": {
          "color": "#d62728",
          "opacity": 0.5,
          "size": 6
         },
         "mode": "markers",
         "name": "('llama3.1_8b_chat', 'cities_10k', 'base', 'main', 'prompt_only') Fold ('logistic_regression_f1_score', 0)",
         "showlegend": false,
         "type": "scatter",
         "x": {
          "bdata": "AAECAwQFBgcICQoLDA0ODxAREhMUFRYXGBkaGxwdHh8=",
          "dtype": "i1"
         },
         "y": {
          "bdata": "6aKLLrro4j+1RQy6DqzhP7ScPFY+zeE/UQLd17O34j8ZY4wxxhjjP56Jj/tuKeQ/SChmRd4U5j9AaDyYnfvlPyUeVF6sN+c/O5j7usZ+5z+211577bXnP7V8Kcb0Xec/p1inWKdY5z+TeddiNJnnP5tltiCcuuc/jxMaePXx5z9EeA/hPYTnP1PEBV3Rwec/GBPcfP395z9Xn39t9fnnP8B///79++c/AAAAAABw5z9GF1100UXnP4vBsARhk+c/LDr4Srmh5z+uqRhCNl7nP+HlFLycguc/8OrjL5Vx5z/OccGaSG3nP5qXoXkZmuc/zBKcO41v5z8plJuBXN7nPw==",
          "dtype": "f8"
         }
        },
        {
         "legendgroup": "('llama3.1_8b_chat', 'cities_10k', 'base', 'main', 'prompt_only')",
         "marker": {
          "color": "#d62728",
          "opacity": 0.5,
          "size": 6
         },
         "mode": "markers",
         "name": "('llama3.1_8b_chat', 'cities_10k', 'base', 'main', 'prompt_only') Fold ('logistic_regression_f1_score', 1)",
         "showlegend": false,
         "type": "scatter",
         "x": {
          "bdata": "AAECAwQFBgcICQoLDA0ODxAREhMUFRYXGBkaGxwdHh8=",
          "dtype": "i1"
         },
         "y": {
          "bdata": "0DInvyWS4j8BO31Idb/jP3+QGNahoOM/2u+FEhvF4z9yhDHiG6zkPwpIMhCfuuQ/jQ2k3dYE5j8mN+0BSKPmP8Ep5GdlvOc/P97mOZvW5z8+nCdS0DToP4iHh4eHh+c/CzxjTww95z9GcxnNZTTnPx4UuHr8Uuc/R/6W+rVc5z/QynivNdznP39dUvkw7uc/QH8B/QX05z/k8Xg8Ho/nPxR2Xhitvec/CzxjTww95z/vNem9Jr3nP9onLr/GdOc/paYrnrhd5z+Rpx/mhJ3nP7WbzxRxQec/uG/fvn375j9Mo4JoIE3nP7hw4cKFC+c/KnFLMswy5z8m6udWzvfmPw==",
          "dtype": "f8"
         }
        },
        {
         "legendgroup": "('llama3.1_8b_chat', 'cities_10k', 'base', 'main', 'prompt_only')",
         "marker": {
          "color": "#d62728",
          "opacity": 0.5,
          "size": 6
         },
         "mode": "markers",
         "name": "('llama3.1_8b_chat', 'cities_10k', 'base', 'main', 'prompt_only') Fold ('logistic_regression_f1_score', 2)",
         "showlegend": false,
         "type": "scatter",
         "x": {
          "bdata": "AAECAwQFBgcICQoLDA0ODxAREhMUFRYXGBkaGxwdHh8=",
          "dtype": "i1"
         },
         "y": {
          "bdata": "IdjzWWbX4j/uVCByW+HiP8aSXyz5xeI/9zshmoAG4z/XxSbmu4LjP5zQwKuPv+Q/w4CSl71a5T/Z55CaYLzlP8YWW2yxxeY/PA7i3ahw5z+op6enp6fnPxU5CUlJnuc/8WkdLm1u5z/U6XQ6nU7nP1LCrec08eY/Hg9r0L+q5z9rHNqH9Q3oP0N6C+ktpOc/hH6AKkfo5z/BKeRnZbznP8B///79++c/2TqVYRH25z9jSpFY7ELnP0V2E9lNZOc/kjrk9GFa5z+qV6F6FarnPwAAAAAAoOc/mpeheRma5z+HeId4h3jnP7WbzxRxQec/i2fpDNSG5z/sCXvCnrDnPw==",
          "dtype": "f8"
         }
        },
        {
         "legendgroup": "('llama3.1_8b_chat', 'cities_10k', 'base', 'main', 'prompt_only')",
         "marker": {
          "color": "#d62728",
          "opacity": 0.5,
          "size": 6
         },
         "mode": "markers",
         "name": "('llama3.1_8b_chat', 'cities_10k', 'base', 'main', 'prompt_only') Fold ('logistic_regression_f1_score', 3)",
         "showlegend": false,
         "type": "scatter",
         "x": {
          "bdata": "AAECAwQFBgcICQoLDA0ODxAREhMUFRYXGBkaGxwdHh8=",
          "dtype": "i1"
         },
         "y": {
          "bdata": "mTJlypQp4z9pMu9ajCbjPyWTTDLJJOM/NvPukxrO4j+gD9yFMvLiP4cW2c73U+M/je502Ytx5D/NES5o0fDkPzq7fHG6jeY/GSFAvKxu5j/UIgoBXM7mP9Lk/HsVEeY/T/BT5UFs5j9TTt1tef/mP+bmH6KcE+c/4zDl1N2W5z9vZKye10vnP1yEisbPqec/uHEZK8E85z9nfH+kYDLnP93sKiMEiOc/b3rTm9705j8CcaHmJBDnP0lDW17S0OY/J3JzKgyF5j9JQ1te0tDmP2LJbmSsnuc/E1Wole0E5z8G52NwPgbnP4oYf2wk7eY/zvsUlwzB5j/UrkTtStTmPw==",
          "dtype": "f8"
         }
        },
        {
         "legendgroup": "('llama3.1_8b_chat', 'cities_10k', 'base', 'main', 'prompt_only')",
         "marker": {
          "color": "#d62728",
          "opacity": 0.5,
          "size": 6
         },
         "mode": "markers",
         "name": "('llama3.1_8b_chat', 'cities_10k', 'base', 'main', 'prompt_only') Fold ('logistic_regression_f1_score', 4)",
         "showlegend": false,
         "type": "scatter",
         "x": {
          "bdata": "AAECAwQFBgcICQoLDA0ODxAREhMUFRYXGBkaGxwdHh8=",
          "dtype": "i1"
         },
         "y": {
          "bdata": "3JG4HYnb4T/kYQ36V/XiPwvTszA9C+M/tLOzs7Oz4z+TTs2D3PXjP9VUU0011eQ/b7fb7Xa75T97lzwYcMblP9onLr/GdOc/sp3vp8ZL5z+yjyfvRUrnP72pk1pLR+c/D9ngs1x95z/U6XQ6nU7nP9Dn8/l8Puc/+Af4B/gH6D+y6YtM8UToP1+UDQkGBOg/U8QFXdHB5z8EQRAEQRDoPxC2SxfMPug/5DiO4ziO5z8H6Y18SKznP6KAFzfOkOc/pZ4NBli15z+ml1566aXnP8YXX3zxxec/QnwH8R3E5z+4fMu3fMvnPxZYYIEFFug/OZ+A/5lR6D/Z5UMtHhToPw==",
          "dtype": "f8"
         }
        },
        {
         "legendgroup": "('llama3.1_8b_chat', 'football_leagues_1k', 'base', 'main', 'prompt_answer')",
         "line": {
          "color": "#9467bd",
          "width": 2
         },
         "marker": {
          "size": 8
         },
         "mode": "lines+markers",
         "name": "('llama3.1_8b_chat', 'football_leagues_1k', 'base', 'main', 'prompt_answer')",
         "type": "scatter",
         "x": {
          "bdata": "AAECAwQFBgcICQoLDA0ODxAREhMUFRYXGBkaGxwdHh8=",
          "dtype": "i1"
         },
         "y": {
          "bdata": "LeCgZzjj4D/S92jlT8bhPxrvfzqgruE/8xi5Fj674T8NoWpX1pzhPw4xu08J0uE/nTS+dnm64T88PHbGaxjiP0lYHs2xwuI/mqaFoEZW4z9tCXQDXBPkP63N6rWkGOQ/QxLa0MYz5D9fVI9n1t/jPzby9PLN5OM/LjGlmPXu4z+y97NPqhzkPzgq+IxyWeM/njE20F0f5D+Ol6Nnqp7jP+6p3/LvhOM/M5b28UUq4z8AP72JG0bjP5pZByf/ZOM/Wo2DAkTj4j83vcCQj3viP+w07ytb6uI/foIQGgfZ4j82GCE7jPjiP37lQtMnY+I/nc3CQjpW4z+VibLAnm3jPw==",
          "dtype": "f8"
         }
        },
        {
         "legendgroup": "('llama3.1_8b_chat', 'football_leagues_1k', 'base', 'main', 'prompt_answer')",
         "line": {
          "width": 0
         },
         "mode": "lines",
         "name": "('llama3.1_8b_chat', 'football_leagues_1k', 'base', 'main', 'prompt_answer') Max",
         "showlegend": false,
         "type": "scatter",
         "x": {
          "bdata": "AAECAwQFBgcICQoLDA0ODxAREhMUFRYXGBkaGxwdHh8=",
          "dtype": "i1"
         },
         "y": {
          "bdata": "sHdMDewd4z+XejJ+u9TjP6DTBjptoOM/cJd6Mn675D84velNb3rjPzMzMzMzM+M/1EEd1EEd5D8zMzMzMzPjPzi96U1veuM/cJd6Mn675D+oUKFChQrlPwAAAAAAAOU/yWfdYIp85j/yWTeYIp/lP18eWxE0nOQ/cJd6Mn675D9wl3oyfrvkPxd+NSbSA+U/llqplVqp5T+oUKFChQrlP1VVVVVVVeU/cJd6Mn675D9VVVVVVVXlP1100UUXXeQ/XXTRRRdd5D8URVEURVHkP8kQrKPN++Q/pZRSSiml5D/VSq3USq3kP8TDw8PDw+M/FEVRFEVR5D/IU4I8JcjjPw==",
          "dtype": "f8"
         }
        },
        {
         "fill": "tonexty",
         "fillcolor": "rgba(148, 103, 189, 0.1)",
         "legendgroup": "('llama3.1_8b_chat', 'football_leagues_1k', 'base', 'main', 'prompt_answer')",
         "line": {
          "width": 0
         },
         "mode": "lines",
         "name": "('llama3.1_8b_chat', 'football_leagues_1k', 'base', 'main', 'prompt_answer') Min",
         "showlegend": false,
         "type": "scatter",
         "x": {
          "bdata": "AAECAwQFBgcICQoLDA0ODxAREhMUFRYXGBkaGxwdHh8=",
          "dtype": "i1"
         },
         "y": {
          "bdata": "juM4juM43j/5GSV+RonfP/kZJX5Gid8/HMdxHMdx3D988MEHH3zgP+d9ikuGYN0/ntiJndiJ3T/d0wjLPY3gP3TRRRdddOE/kiRJkiRJ4j8AAAAAAADjP6Bydgu/GuM/KfEzSvyM4j+VUkoppZTiP79d6sn47eI/oHJ2C78a4z/Ew8PDw8PjP3TRRRdddOE/DSd1Xx5b4T95DeU1lNfgP5IbuZEbueE/AAAAAAAA4T+SG7mRG7nhP+XsFn41JuI/GiV+Romf4T95DeU1lNfgP3TRRRdddOE/dNFFF1104T9JkiRJkiThPwAAAAAAAOA/dNFFF1104T+VUkoppZTiPw==",
          "dtype": "f8"
         }
        },
        {
         "legendgroup": "('llama3.1_8b_chat', 'football_leagues_1k', 'base', 'main', 'prompt_answer')",
         "line": {
          "width": 0
         },
         "mode": "lines",
         "name": "('llama3.1_8b_chat', 'football_leagues_1k', 'base', 'main', 'prompt_answer') +1 STD",
         "showlegend": false,
         "type": "scatter",
         "x": {
          "bdata": "AAECAwQFBgcICQoLDA0ODxAREhMUFRYXGBkaGxwdHh8=",
          "dtype": "i1"
         },
         "y": {
          "bdata": "++2XMqmZ4j8LGFxQ707jP2ltlmSyKOM/JY0eSHgg5D9YTwOdGMniP0IpUvBCpuM/qDjKSiHM4z/xbzlmqTTjP3zF9FIvjeM/tgEqmD9c5D9hK83VJOLkP5KwYyQV++Q/nhket4ev5T/maOvryz3lP03Qr+8cjuQ/PdKJgQ+r5D/oQzaVWYnkP2cCDSHo3OQ/p23oR6vn5T+C2lOyiGrlP5XQdOp6/OQ/pQNGpKzG5D8FvHaOOqLkP+qmXxHmeeQ/E7Q/648c5D9uzs6bHBnkP8VLdYnsdeQ/lmrxIIFI5D9Q+3WHnWDkP7sq2+qVAeQ/ujDkhiJ85D9t0XnImOzjPw==",
          "dtype": "f8"
         }
        },
        {
         "fill": "tonexty",
         "fillcolor": "rgba(148, 103, 189, 0.3)",
         "legendgroup": "('llama3.1_8b_chat', 'football_leagues_1k', 'base', 'main', 'prompt_answer')",
         "line": {
          "width": 0
         },
         "mode": "lines",
         "name": "('llama3.1_8b_chat', 'football_leagues_1k', 'base', 'main', 'prompt_answer') -1 STD",
         "showlegend": false,
         "type": "scatter",
         "x": {
          "bdata": "AAECAwQFBgcICQoLDA0ODxAREhMUFRYXGBkaGxwdHh8=",
          "dtype": "i1"
         },
         "y": {
          "bdata": "vqRTOY9Z3j+Z13V6sD3gP8twaRCONOA/gkmnyges3j/C8tERlHDgP7NxSF6f+98/JGFkRaNR3z+HCLMmLvzgPxbrR0c0+OE/fkvhqE1Q4j955xoxk0TjP8jqcUc0NuM/6AqW6gW44j/YPzPj4IHiPx8UOvZ+O+M/H5DAr9sy4z98qzEK+6/jPwlS4/j81eE/lfWDWBBX4j+aVPMczNLhP0eDSvtkDeI/wSinP9+N4T/7wQOF/OnhP0oMrzwYUOI/oWbHGfip4T8ArLKFAt7gPxMeac7JXuE/ZpovE41p4T8cNczuepDhP0Ggqru5xOA/gGqh/lEw4j+9Qeu4pO7iPw==",
          "dtype": "f8"
         }
        },
        {
         "legendgroup": "('llama3.1_8b_chat', 'football_leagues_1k', 'base', 'main', 'prompt_answer')",
         "marker": {
          "color": "#9467bd",
          "opacity": 0.5,
          "size": 6
         },
         "mode": "markers",
         "name": "('llama3.1_8b_chat', 'football_leagues_1k', 'base', 'main', 'prompt_answer') Fold ('logistic_regression_f1_score', 0)",
         "showlegend": false,
         "type": "scatter",
         "x": {
          "bdata": "AAECAwQFBgcICQoLDA0ODxAREhMUFRYXGBkaGxwdHh8=",
          "dtype": "i1"
         },
         "y": {
          "bdata": "juM4juM43j/5GSV+RonfP/kZJX5Gid8/HMdxHMdx3D988MEHH3zgP+d9ikuGYN0/ntiJndiJ3T9tsskmm2ziP3TRRRdddOE/ZZNNNtlk4z9GiZ9R4mfkP6Bydgu/GuM/RomfUeJn5D9TK7VSK7XiP0aJn1HiZ+Q/oHJ2C78a4z/Ew8PDw8PjP3TRRRdddOE/5DiO4ziO4z/T0tLS0tLiP5IbuZEbueE/AAAAAAAA4T+SG7mRG7nhP+XsFn41JuI/GiV+Romf4T8qZ7fwqzHhP3TRRRdddOE/dNFFF1104T8p8TNK/IziPwAAAAAAAOA/dNFFF1104T8UO7ETO7HjPw==",
          "dtype": "f8"
         }
        },
        {
         "legendgroup": "('llama3.1_8b_chat', 'football_leagues_1k', 'base', 'main', 'prompt_answer')",
         "marker": {
          "color": "#9467bd",
          "opacity": 0.5,
          "size": 6
         },
         "mode": "markers",
         "name": "('llama3.1_8b_chat', 'football_leagues_1k', 'base', 'main', 'prompt_answer') Fold ('logistic_regression_f1_score', 1)",
         "showlegend": false,
         "type": "scatter",
         "x": {
          "bdata": "AAECAwQFBgcICQoLDA0ODxAREhMUFRYXGBkaGxwdHh8=",
          "dtype": "i1"
         },
         "y": {
          "bdata": "nud5nud53j9RFEVRFEXhP4wxxhhjjOE/gnW0eZ/i4j9wH8F9BPfhP4J1tHmf4uI/IiIiIiIi4j/d0wjLPY3gP08jLPc0wuI/Ccs9jbDc4z/vy2MrgobjPzMzMzMzM+M/RERERERE5D/JEKyjzfvkP18eWxE0nOQ/RERERERE5D8mQ7CONu/jP355bEXQcOI/DSd1Xx5b4T95DeU1lNfgP08jLPc0wuI/cB/BfQT34T9+eWxF0HDiP5IkSZIkSeI/lnsaYbmn4T95DeU1lNfgP5Z7GmG5p+E/lnsaYbmn4T9JkiRJkiThP3TRRRdddOE/ZzGdxXQW4z/IU4I8JcjjPw==",
          "dtype": "f8"
         }
        },
        {
         "legendgroup": "('llama3.1_8b_chat', 'football_leagues_1k', 'base', 'main', 'prompt_answer')",
         "marker": {
          "color": "#9467bd",
          "opacity": 0.5,
          "size": 6
         },
         "mode": "markers",
         "name": "('llama3.1_8b_chat', 'football_leagues_1k', 'base', 'main', 'prompt_answer') Fold ('logistic_regression_f1_score', 2)",
         "showlegend": false,
         "type": "scatter",
         "x": {
          "bdata": "AAECAwQFBgcICQoLDA0ODxAREhMUFRYXGBkaGxwdHh8=",
          "dtype": "i1"
         },
         "y": {
          "bdata": "chzHcRzH4T/xFV/xFV/hP/Hw8PDw8OA/Kme38Ksx4T8qZ7fwqzHhPynxM0r8jOI/v13qyfjt4j+/XerJ+O3iP5o0adKkSeM/kyZNmjRp4j9GiZ9R4mfkPxzHcRzHceQ/yWfdYIp85j/yWTeYIp/lP5d6Mn671OM/cJd6Mn675D9wl3oyfrvkP3CXejJ+u+Q/SLTC5kCi5T+oUKFChQrlP1VVVVVVVeU/cJd6Mn675D84velNb3rjP9RBHdRBHeQ/oHJ2C78a4z8AAAAAAADiP22yySabbOI/bbLJJpts4j9tsskmm2ziP6Bydgu/GuM/XPjVmEgP5D9lk0022WTjPw==",
          "dtype": "f8"
         }
        },
        {
         "legendgroup": "('llama3.1_8b_chat', 'football_leagues_1k', 'base', 'main', 'prompt_answer')",
         "marker": {
          "color": "#9467bd",
          "opacity": 0.5,
          "size": 6
         },
         "mode": "markers",
         "name": "('llama3.1_8b_chat', 'football_leagues_1k', 'base', 'main', 'prompt_answer') Fold ('logistic_regression_f1_score', 3)",
         "showlegend": false,
         "type": "scatter",
         "x": {
          "bdata": "AAECAwQFBgcICQoLDA0ODxAREhMUFRYXGBkaGxwdHh8=",
          "dtype": "i1"
         },
         "y": {
          "bdata": "sHdMDewd4z9EpSN7BqLiP2wor6G8huI/cJd6Mn675D84velNb3rjPzMzMzMzM+M/1EEd1EEd5D8zMzMzMzPjPzi96U1veuM/cJd6Mn675D+oUKFChQrlP3CXejJ+u+Q/KfEzSvyM4j84velNb3rjP79d6sn47eI/MzMzMzMz4z/Ew8PDw8PjP6Bydgu/GuM/RomfUeJn5D91UAd1UAflP6Bydgu/GuM/xMPDw8PD4z9lk0022WTjP1100UUXXeQ/XXTRRRdd5D9c+NWYSA/kP1z41ZhID+Q/XPjVmEgP5D9c+NWYSA/kP8TDw8PDw+M/xMPDw8PD4z8UO7ETO7HjPw==",
          "dtype": "f8"
         }
        },
        {
         "legendgroup": "('llama3.1_8b_chat', 'football_leagues_1k', 'base', 'main', 'prompt_answer')",
         "marker": {
          "color": "#9467bd",
          "opacity": 0.5,
          "size": 6
         },
         "mode": "markers",
         "name": "('llama3.1_8b_chat', 'football_leagues_1k', 'base', 'main', 'prompt_answer') Fold ('logistic_regression_f1_score', 4)",
         "showlegend": false,
         "type": "scatter",
         "x": {
          "bdata": "AAECAwQFBgcICQoLDA0ODxAREhMUFRYXGBkaGxwdHh8=",
          "dtype": "i1"
         },
         "y": {
          "bdata": "Kme38Ksx4T+XejJ+u9TjP6DTBjptoOM/GiV+Romf4T/x8PDw8PDgP3Icx3Ecx+E/C1nIQhay4D/xFV/xFV/hP9PS0tLS0uI/kiRJkiRJ4j8AAAAAAADjPwAAAAAAAOU/0zRN0zRN4z+VUkoppZTiPxQ7sRM7seM/XXTRRRdd5D9ddNFFF13kPxd+NSbSA+U/llqplVqp5T9ddNFFF13kP9VKrdRKreQ/XXTRRRdd5D9VVVVVVVXlP1z41ZhID+Q/FDuxEzux4z8URVEURVHkP8kQrKPN++Q/pZRSSiml5D/VSq3USq3kP51zzjnnnOM/FEVRFEVR5D+VUkoppZTiPw==",
          "dtype": "f8"
         }
        },
        {
         "legendgroup": "('llama3.1_8b_chat', 'football_leagues_1k', 'base', 'main', 'prompt_only')",
         "line": {
          "color": "#8c564b",
          "width": 2
         },
         "marker": {
          "size": 8
         },
         "mode": "lines+markers",
         "name": "('llama3.1_8b_chat', 'football_leagues_1k', 'base', 'main', 'prompt_only')",
         "type": "scatter",
         "x": {
          "bdata": "AAECAwQFBgcICQoLDA0ODxAREhMUFRYXGBkaGxwdHh8=",
          "dtype": "i1"
         },
         "y": {
          "bdata": "M/5dpoQl5z/FA1Q5ysXmP0bVIM0F5eY/UAxT0MhQ5z/hyvZFGy/nP/Zi8JdURuc/hrVyGlcA5j8VXY7YIqXlPxbIXIOjE+U/Lszewuwt5D9deUmyglHkPzkUw77kI+Q/F7lREbcJ5D9yjrjOAorkP7EP4qgXJ+Q/vSI70Yef4z+97kfPgLnjPxIiAzlWFuQ/X44r4du84z/7347Bel/kP3LJUzI6MOQ/CDpBM4rO4z/u1tWYQPPjP9Y4YYZxsuQ/pMYlwOm95D8WLe48PwPkP5DwlLLd7eM/S73zx+St4z8ABFClrY7jPzbDZVCxYOM/nJwRbyg84z8y/8094l3jPw==",
          "dtype": "f8"
         }
        },
        {
         "legendgroup": "('llama3.1_8b_chat', 'football_leagues_1k', 'base', 'main', 'prompt_only')",
         "line": {
          "width": 0
         },
         "mode": "lines",
         "name": "('llama3.1_8b_chat', 'football_leagues_1k', 'base', 'main', 'prompt_only') Max",
         "showlegend": false,
         "type": "scatter",
         "x": {
          "bdata": "AAECAwQFBgcICQoLDA0ODxAREhMUFRYXGBkaGxwdHh8=",
          "dtype": "i1"
         },
         "y": {
          "bdata": "GRkZGRkZ6T/yVvY5pCboP/JW9jmkJug/L6G9hPYS6j8vob2E9hLqP5IkSZIkSeo/RhdddNFF5z+idiVqV6LmPwAAAAAAAOg/MzMzMzMz5z+cML+rxU3oP6uqqqqqquY/l2/5lm/55j8oxFn5CXHmP7+rxU2Y3+U/pAw83Zof5j9mZmZmZmbmP3ZiJ3ZiJ+Y/CnFWfkKc5T9GF1100UXnP0422WSTTeY/TjbZZJNN5j+amZmZmZnlP6QMPN2aH+Y/l5aWlpaW5j9vNHV+7SHnP5eWlpaWluY/NHV+7SGX5T+amZmZmZnlP83MzMzMzOQ/zczMzMzM5D8Gnm7ND4vkPw==",
          "dtype": "f8"
         }
        },
        {
         "fill": "tonexty",
         "fillcolor": "rgba(140, 86, 75, 0.1)",
         "legendgroup": "('llama3.1_8b_chat', 'football_leagues_1k', 'base', 'main', 'prompt_only')",
         "line": {
          "width": 0
         },
         "mode": "lines",
         "name": "('llama3.1_8b_chat', 'football_leagues_1k', 'base', 'main', 'prompt_only') Min",
         "showlegend": false,
         "type": "scatter",
         "x": {
          "bdata": "AAECAwQFBgcICQoLDA0ODxAREhMUFRYXGBkaGxwdHh8=",
          "dtype": "i1"
         },
         "y": {
          "bdata": "2FBeQ3kN5T/sHVMDe8fkP1VVVVVVVeU/ZCELWchC5j/blahdidrlPzkFL6fg5eQ/5hS8nIKX4z8UO7ETO7HjP1VVVVVVVeE/VVVVVVVV3T9VVVVVVVXdPylcj8L1KNw/uB6F61G43j/Wh8b60FjfPzqkJhhvZd8/nJubm5ub2z+e2Imd2IndP5ybm5ubm9s/VVVVVVVV3T+4HoXrUbjeP9aHxvrQWN8/1ofG+tBY3z8eHh4eHh7eP6RwPQrXo+A/pHA9Ctej4D8eHh4eHh7ePwAAAAAAAOA/pHA9Ctej4D8/NNaHxvrgP6RwPQrXo+A/UFBQUFBQ4D+kcD0K16PgPw==",
          "dtype": "f8"
         }
        },
        {
         "legendgroup": "('llama3.1_8b_chat', 'football_leagues_1k', 'base', 'main', 'prompt_only')",
         "line": {
          "width": 0
         },
         "mode": "lines",
         "name": "('llama3.1_8b_chat', 'football_leagues_1k', 'base', 'main', 'prompt_only') +1 STD",
         "showlegend": false,
         "type": "scatter",
         "x": {
          "bdata": "AAECAwQFBgcICQoLDA0ODxAREhMUFRYXGBkaGxwdHh8=",
          "dtype": "i1"
         },
         "y": {
          "bdata": "/VjFrK7R6D+Sya1xFgvoP1aNamktCug/Uo6DjQ7w6D9PAPHk/9/oP7sFerwuVuk/xB/Ivjdp5z+Omd9FHtfmPx/sdQF9iec/REGH/xKl5z8myhud2eTnP997rSF7puc/fU11FksI5z+bP3Usd1bnPzlb/Fd9s+Y/d4pRPkbw5j8uDw6JAcLmP31rOO/noec/seRBrWW15j/BllINAX/nP3OZ23CH8+Y/LdlDOxNT5j+CxXKPdrjmP1psZGTcA+c/BfjZXUkl5z/qZYrnLQ7nP3bICFdue+Y/SBbRyMKG5T8ijQQGkjjlP0Kn0Ocf++Q/kecJR0MP5T+28Qluz/XkPw==",
          "dtype": "f8"
         }
        },
        {
         "fill": "tonexty",
         "fillcolor": "rgba(140, 86, 75, 0.3)",
         "legendgroup": "('llama3.1_8b_chat', 'football_leagues_1k', 'base', 'main', 'prompt_only')",
         "line": {
          "width": 0
         },
         "mode": "lines",
         "name": "('llama3.1_8b_chat', 'football_leagues_1k', 'base', 'main', 'prompt_only') -1 STD",
         "showlegend": false,
         "type": "scatter",
         "x": {
          "bdata": "AAECAwQFBgcICQoLDA0ODxAREhMUFRYXGBkaGxwdHh8=",
          "dtype": "i1"
         },
         "y": {
          "bdata": "aaP2n1p55T/4PfoAfoDlPzYd1zDev+U/TooiE4Ox5T9zlfymNn7lPzHAZnN6NuU/SEsddnaX5D+cID1rJ3PkPw2kQwXKneI/GFc2hsa24D+UKHfHK77gP5Os2FtOoeA/sSQuDCML4T9J3ftwjr3hPynEx/mxmuE/A7skZMlO4D9MzoEVALHgP6fYzYLEiuA/DTgVFVLE4D81Kct19D/hP3H5y/PsbOE/45o+KwFK4T9a6DiiCi7hP1IFXqgGYeI/Q5VxIopW4j9C9FGSUPjgP6oYIQ5NYOE/TmQWxwbV4T/eeptEyeThPyrf+rhCxuE/p1EZlw1p4T+uDJIN9cXhPw==",
          "dtype": "f8"
         }
        },
        {
         "legendgroup": "('llama3.1_8b_chat', 'football_leagues_1k', 'base', 'main', 'prompt_only')",
         "marker": {
          "color": "#8c564b",
          "opacity": 0.5,
          "size": 6
         },
         "mode": "markers",
         "name": "('llama3.1_8b_chat', 'football_leagues_1k', 'base', 'main', 'prompt_only') Fold ('logistic_regression_f1_score', 0)",
         "showlegend": false,
         "type": "scatter",
         "x": {
          "bdata": "AAECAwQFBgcICQoLDA0ODxAREhMUFRYXGBkaGxwdHh8=",
          "dtype": "i1"
         },
         "y": {
          "bdata": "VxCTK4jJ5T+rqqqqqqrmP6uqqqqqquY/ZCELWchC5j+N9aGxPjTmPzkFL6fg5eQ/5hS8nIKX4z8UO7ETO7HjP1VVVVVVVeE/VVVVVVVV3T9VVVVVVVXdPylcj8L1KNw/uB6F61G43j/Wh8b60FjfPzqkJhhvZd8/nJubm5ub2z+e2Imd2IndP5ybm5ubm9s/VVVVVVVV3T+4HoXrUbjeP9aHxvrQWN8/1ofG+tBY3z8eHh4eHh7eP6RwPQrXo+A/pHA9Ctej4D8eHh4eHh7ePwAAAAAAAOA/pHA9Ctej4D8/NNaHxvrgP6RwPQrXo+A/UFBQUFBQ4D+kcD0K16PgPw==",
          "dtype": "f8"
         }
        },
        {
         "legendgroup": "('llama3.1_8b_chat', 'football_leagues_1k', 'base', 'main', 'prompt_only')",
         "marker": {
          "color": "#8c564b",
          "opacity": 0.5,
          "size": 6
         },
         "mode": "markers",
         "name": "('llama3.1_8b_chat', 'football_leagues_1k', 'base', 'main', 'prompt_only') Fold ('logistic_regression_f1_score', 1)",
         "showlegend": false,
         "type": "scatter",
         "x": {
          "bdata": "AAECAwQFBgcICQoLDA0ODxAREhMUFRYXGBkaGxwdHh8=",
          "dtype": "i1"
         },
         "y": {
          "bdata": "uHzLt3zL5z/KayivobzmPyjEWfkJceY/ZmZmZmZm5j8zMzMzMzPnP2pXonYlauc/l5aWlpaW5j/S1Pm1h1zmPzVIgzRIg+Q/oNMGOm2g4z+g0wY6baDjPzVIgzRIg+Q/mjRp0qRJ4z9VVVVVVVXlP+wdUwN7x+Q/ICod2TMQ5T9FPusGU+TjP3ZiJ3ZiJ+Y/CnFWfkKc5T92Yid2YifmP3ZiJ3ZiJ+Y/7B1TA3vH5D+amZmZmZnlP6QMPN2aH+Y/mpmZmZmZ5T9eQ3kN5TXkP15DeQ3lNeQ/XkN5DeU15D/kOI7jOI7jP6FChQoVKuQ/HEyRz7rB5D+XejJ+u9TjPw==",
          "dtype": "f8"
         }
        },
        {
         "legendgroup": "('llama3.1_8b_chat', 'football_leagues_1k', 'base', 'main', 'prompt_only')",
         "marker": {
          "color": "#8c564b",
          "opacity": 0.5,
          "size": 6
         },
         "mode": "markers",
         "name": "('llama3.1_8b_chat', 'football_leagues_1k', 'base', 'main', 'prompt_only') Fold ('logistic_regression_f1_score', 2)",
         "showlegend": false,
         "type": "scatter",
         "x": {
          "bdata": "AAECAwQFBgcICQoLDA0ODxAREhMUFRYXGBkaGxwdHh8=",
          "dtype": "i1"
         },
         "y": {
          "bdata": "2FBeQ3kN5T/sHVMDe8fkP1VVVVVVVeU//a4WN2F+5z/blahdidrlP1FeQ3kN5eU/ZmZmZmZm5j+idiVqV6LmPwAAAAAAAOg/MzMzMzMz5z+cML+rxU3oPyjEWfkJceY/l2/5lm/55j8oxFn5CXHmP7+rxU2Y3+U/pAw83Zof5j9mZmZmZmbmPwpxVn5CnOU/mpmZmZmZ5T+amZmZmZnlP1VVVVVVVeU/zczMzMzM5D9VVVVVVVXlP9uVqF2J2uU/l5aWlpaW5j9vNHV+7SHnP5eWlpaWluY/NHV+7SGX5T+amZmZmZnlP83MzMzMzOQ/zczMzMzM5D8Gnm7ND4vkPw==",
          "dtype": "f8"
         }
        },
        {
         "legendgroup": "('llama3.1_8b_chat', 'football_leagues_1k', 'base', 'main', 'prompt_only')",
         "marker": {
          "color": "#8c564b",
          "opacity": 0.5,
          "size": 6
         },
         "mode": "markers",
         "name": "('llama3.1_8b_chat', 'football_leagues_1k', 'base', 'main', 'prompt_only') Fold ('logistic_regression_f1_score', 3)",
         "showlegend": false,
         "type": "scatter",
         "x": {
          "bdata": "AAECAwQFBgcICQoLDA0ODxAREhMUFRYXGBkaGxwdHh8=",
          "dtype": "i1"
         },
         "y": {
          "bdata": "GRkZGRkZ6T/yVvY5pCboP/JW9jmkJug/L6G9hPYS6j8vob2E9hLqP5IkSZIkSeo/dmIndmIn5j+N9aGxPjTmP431obE+NOY/CtejcD0K5z9VVVVVVVXlP6uqqqqqquY/jfWhsT405j85BS+n4OXkP9nnkJpgvOU/exSuR+F65D/mFLycgpfjPzkFL6fg5eQ/OL3pTW964z84velNb3rjPzi96U1veuM/OL3pTW964z9S39mo72zkPzkFL6fg5eQ/jfWhsT405j8AAAAAAADkPzMzMzMzM+M/5hS8nIKX4z/mFLycgpfjP+YUvJyCl+M/MzMzMzMz4z9S39mo72zkPw==",
          "dtype": "f8"
         }
        },
        {
         "legendgroup": "('llama3.1_8b_chat', 'football_leagues_1k', 'base', 'main', 'prompt_only')",
         "marker": {
          "color": "#8c564b",
          "opacity": 0.5,
          "size": 6
         },
         "mode": "markers",
         "name": "('llama3.1_8b_chat', 'football_leagues_1k', 'base', 'main', 'prompt_only') Fold ('logistic_regression_f1_score', 4)",
         "showlegend": false,
         "type": "scatter",
         "x": {
          "bdata": "AAECAwQFBgcICQoLDA0ODxAREhMUFRYXGBkaGxwdHh8=",
          "dtype": "i1"
         },
         "y": {
          "bdata": "AAAAAAAA6D+Ih4eHh4fnP0kPVM5u4ec/lmVZlmVZ5j+XlpaWlpbmP0kPVM5u4ec/RhdddNFF5z9VVVVVVVXlP1VVVVVVVeU/XXTRRRdd5D+WWqmVWqnlPwAAAAAAAOU/XXTRRRdd5D+WZVmWZVnmP9VKrdRKreQ/pZRSSiml5D/SA5WzW/jlP9IDlbNb+OU/VVVVVVVV5T9GF1100UXnP0422WSTTeY/TjbZZJNN5j9VVVVVVVXlP9IDlbNb+OU/1Uqt1Eqt5D+WWqmVWqnlP6alpaWlpeU/XXTRRRdd5D9c+NWYSA/kPxQ7sRM7seM/oHJ2C78a4z9lk0022WTjPw==",
          "dtype": "f8"
         }
        },
        {
         "legendgroup": "('llama3.1_8b_chat', 'medals_9k', 'base', 'main', 'prompt_answer')",
         "line": {
          "color": "#1f77b4",
          "width": 2
         },
         "marker": {
          "size": 8
         },
         "mode": "lines+markers",
         "name": "('llama3.1_8b_chat', 'medals_9k', 'base', 'main', 'prompt_answer')",
         "type": "scatter",
         "x": {
          "bdata": "AAECAwQFBgcICQoLDA0ODxAREhMUFRYXGBkaGxwdHh8=",
          "dtype": "i1"
         },
         "y": {
          "bdata": "KnaaZ/lh5z8SJvBf767nP06No4w5r+c/ln1HskfW5z8cxIT63B3oP5YC84+oEeg/yToJRu5H6D+a16l11lLoPwbeW+x3Teg/URdYSOh+6D+S10FAr4roP1bYoCWxqug/o08h7AHA6D/DIqitCrfoPw4rprPW2ug/AoS/4DXD6D9Wd11RJZPoPyNoXC6ao+g/hY0X/rps6D9+HQWzco3oP7iziiy1z+g/CFX9bGuR6D9/fJ/GU5joPz7IvnRKoug/j8GL5hKS6D87n6cg34HoPynPi6/ziOg/mlWoBUWG6D80ByjhGnroP/sQ8Mkmjeg/iObfXzak6D+bc/KG/qXoPw==",
          "dtype": "f8"
         }
        },
        {
         "legendgroup": "('llama3.1_8b_chat', 'medals_9k', 'base', 'main', 'prompt_answer')",
         "line": {
          "width": 0
         },
         "mode": "lines",
         "name": "('llama3.1_8b_chat', 'medals_9k', 'base', 'main', 'prompt_answer') Max",
         "showlegend": false,
         "type": "scatter",
         "x": {
          "bdata": "AAECAwQFBgcICQoLDA0ODxAREhMUFRYXGBkaGxwdHh8=",
          "dtype": "i1"
         },
         "y": {
          "bdata": "6kcBD0Lh5z+UPumTPunnPxMf991S6Oc/YgF3+iMW6D9nDvw6CJDoP+1RwY/Mkeg/4JkbyCq26D+cZMRKwdnoP8RpCJV0o+g/nTXtIEUr6T8bMVaOUSfpP9ky0RW8Hek/Rbb1S7Ee6T/CWYulXiXpP6kFIL31Nek/lpKLfWEp6T+my8P6ef/oP1KimcbO/ug/XtR/B7a26D+kzeR49dPoP+pv0O1aOek/NfYwC8gX6T9XBsLPngvpPxkuJgn0++g/u6NU5vQP6T/mC60z6KXoP7tuVtoyCek/Kcr67lD36D8QUXJSRgfpP38Xx3g2+eg/76bqVZP66D/FTuzETuzoPw==",
          "dtype": "f8"
         }
        },
        {
         "fill": "tonexty",
         "fillcolor": "rgba(31, 119, 180, 0.1)",
         "legendgroup": "('llama3.1_8b_chat', 'medals_9k', 'base', 'main', 'prompt_answer')",
         "line": {
          "width": 0
         },
         "mode": "lines",
         "name": "('llama3.1_8b_chat', 'medals_9k', 'base', 'main', 'prompt_answer') Min",
         "showlegend": false,
         "type": "scatter",
         "x": {
          "bdata": "AAECAwQFBgcICQoLDA0ODxAREhMUFRYXGBkaGxwdHh8=",
          "dtype": "i1"
         },
         "y": {
          "bdata": "WChddeAm5z92F2R3QXbnPwrqn9vAa+c/OzqcyNuF5z+I/um1qOLnP6cL4wlUyuc/rL4C1x++5z+UUKAR2+vnP+pHAQ9C4ec/TTzmtLIe6D9o+jzKvSzoP+uELT2oTug/IWMpfHRd6D9rDDbcCUnoP3/+yibIieg/pzFpf7sG6D9Bvr0a/Q7oP9GSwptZAeg/XI0mlrQC6D8mxzCnR0PoP5pjXUkleOg/EzC5hyY26D+MRKmxh1noP6zvX0wfSOg/nyv0P7Y26D8mWJCvMiboPyVWCOjkDeg/ZGpg75ga6D9vlULxEAToP9xduixIOug//OwCYlNp6D84XiKlUW/oPw==",
          "dtype": "f8"
         }
        },
        {
         "legendgroup": "('llama3.1_8b_chat', 'medals_9k', 'base', 'main', 'prompt_answer')",
         "line": {
          "width": 0
         },
         "mode": "lines",
         "name": "('llama3.1_8b_chat', 'medals_9k', 'base', 'main', 'prompt_answer') +1 STD",
         "showlegend": false,
         "type": "scatter",
         "x": {
          "bdata": "AAECAwQFBgcICQoLDA0ODxAREhMUFRYXGBkaGxwdHh8=",
          "dtype": "i1"
         },
         "y": {
          "bdata": "UQimbcyu5z8VFiYf4uPnP78AzmpL5uc/GG2DADEP6D9d/9ZguGToP6RGA4y5X+g/kc38Fvmh6D++xy1sP7roP2t7VGZPk+g/ZShBLrjn6D/HMPom8QDpP6NU300MAuk/Q3FIwOwE6T9xJa5BEg7pP+f4aKL9Huk/xoG6wfQ36T/tt4Vs+OvoP+o7FCllC+k/POE8j0ux6D/ZtkkOzMroP6gHw51/Guk/t/1Xtur06D8Woi3PCeXoP5zZctEI7+g/yMYf2Tvs6D9sewp3uLXoPz3TqFXj8eg/3c8On/LZ6D8dTQsccuLoP2W8cXNT2eg/zjsLoqPe6D/p+0BO19roPw==",
          "dtype": "f8"
         }
        },
        {
         "fill": "tonexty",
         "fillcolor": "rgba(31, 119, 180, 0.3)",
         "legendgroup": "('llama3.1_8b_chat', 'medals_9k', 'base', 'main', 'prompt_answer')",
         "line": {
          "width": 0
         },
         "mode": "lines",
         "name": "('llama3.1_8b_chat', 'medals_9k', 'base', 'main', 'prompt_answer') -1 STD",
         "showlegend": false,
         "type": "scatter",
         "x": {
          "bdata": "AAECAwQFBgcICQoLDA0ODxAREhMUFRYXGBkaGxwdHh8=",
          "dtype": "i1"
         },
         "y": {
          "bdata": "A+SOYSYV5z8PNrqg/HnnP90Zea4neOc/FI4LZF6d5z/biDKUAdfnP4i+4pOXw+c/AagVdePt5z925yV/bevnP6FAY3KgB+g/PQZvYhgW6D9dfolZbRToPwlcYv1VU+g/Ay76Fxd76D8VIKIZA2DoPzVd48Svlug/PobE/3ZO6D+/NjU2UjroP1yUpDPPO+g/zjnybCoo6D8jhMBXGVDoP8hfUrvqhOg/WayiI+wt6D/oVhG+nUvoP+C2ChiMVeg/Vrz38+k36D8Kw0TKBU7oPxXLbgkEIOg/V9tBbJcy6D9LwUSmwxHoP5FlbiD6QOg/QpG0Hclp6D9N66O/JXHoPw==",
          "dtype": "f8"
         }
        },
        {
         "legendgroup": "('llama3.1_8b_chat', 'medals_9k', 'base', 'main', 'prompt_answer')",
         "marker": {
          "color": "#1f77b4",
          "opacity": 0.5,
          "size": 6
         },
         "mode": "markers",
         "name": "('llama3.1_8b_chat', 'medals_9k', 'base', 'main', 'prompt_answer') Fold ('logistic_regression_f1_score', 0)",
         "showlegend": false,
         "type": "scatter",
         "x": {
          "bdata": "AAECAwQFBgcICQoLDA0ODxAREhMUFRYXGBkaGxwdHh8=",
          "dtype": "i1"
         },
         "y": {
          "bdata": "JBqyKmdw5z8txS1HWcHnPwrqn9vAa+c/e+Mk+OnS5z89Mu/ZZfbnP4EH5PNy9uc/3b6yepc86D+UUKAR2+vnPxiGYRiGYeg/SFx5mjM/6D8so/73sC/oP9WinrNKV+g/IWMpfHRd6D99dmMqf33oP3/+yibIieg/pzFpf7sG6D9Bvr0a/Q7oP9GSwptZAeg/XI0mlrQC6D8mxzCnR0PoPz2LU2XWs+g/QUyuICZX6D9fy2oTMmboP6zvX0wfSOg/wF0DrCJS6D/mC60z6KXoP8e040BXe+g/1cK9l/pf6D9vlULxEAToP9xduixIOug/inCyoJt16D84XiKlUW/oPw==",
          "dtype": "f8"
         }
        },
        {
         "legendgroup": "('llama3.1_8b_chat', 'medals_9k', 'base', 'main', 'prompt_answer')",
         "marker": {
          "color": "#1f77b4",
          "opacity": 0.5,
          "size": 6
         },
         "mode": "markers",
         "name": "('llama3.1_8b_chat', 'medals_9k', 'base', 'main', 'prompt_answer') Fold ('logistic_regression_f1_score', 1)",
         "showlegend": false,
         "type": "scatter",
         "x": {
          "bdata": "AAECAwQFBgcICQoLDA0ODxAREhMUFRYXGBkaGxwdHh8=",
          "dtype": "i1"
         },
         "y": {
          "bdata": "6kcBD0Lh5z/96Ec/+tHnP72UCB7pr+c/9InV1GgB6D8D3RaqpzToP3spm1bvH+g/rJ/GHDRN6D+DVHAn8JroP6yfxhw0Teg/FrKQhSxk6D9yuI1oM+zoP9ky0RW8Hek/+oyzAJvP6D/CWYulXiXpP6kFIL31Nek/lpKLfWEp6T+my8P6ef/oP8qrw6JY/eg/mXNBNFmL6D+kzeR49dPoP+pv0O1aOek/NfYwC8gX6T9XBsLPngvpPxkuJgn0++g/aiPzjGDM6D9jD7OAfJHoP0PcJcZg2+g/X7X0v0Cz6D+sb5L318HoP5OLfWEpueg/76bqVZP66D/FTuzETuzoPw==",
          "dtype": "f8"
         }
        },
        {
         "legendgroup": "('llama3.1_8b_chat', 'medals_9k', 'base', 'main', 'prompt_answer')",
         "marker": {
          "color": "#1f77b4",
          "opacity": 0.5,
          "size": 6
         },
         "mode": "markers",
         "name": "('llama3.1_8b_chat', 'medals_9k', 'base', 'main', 'prompt_answer') Fold ('logistic_regression_f1_score', 2)",
         "showlegend": false,
         "type": "scatter",
         "x": {
          "bdata": "AAECAwQFBgcICQoLDA0ODxAREhMUFRYXGBkaGxwdHh8=",
          "dtype": "i1"
         },
         "y": {
          "bdata": "ifuAXsdE5z+UPumTPunnP2vq9R5H4uc/YgF3+iMW6D9nDvw6CJDoP+1RwY/Mkeg/4JkbyCq26D+cZMRKwdnoP8RpCJV0o+g/nTXtIEUr6T8bMVaOUSfpP5rbW9NrxOg/Rbb1S7Ee6T+EMnpb1uroP0iUg2IRA+k/X23AYSoU6T9j2UJX37/oP1KimcbO/ug/XtR/B7a26D982BcMZ73oP9mYRhZ9+eg/CAH1H6ve6D9J/s7sp8LoP/6NgdXe3+g/u6NU5vQP6T+3C3IDmpfoP7tuVtoyCek/Kcr67lD36D8QUXJSRgfpP38Xx3g2+eg/pldtrnG76D9q3Yb46rjoPw==",
          "dtype": "f8"
         }
        },
        {
         "legendgroup": "('llama3.1_8b_chat', 'medals_9k', 'base', 'main', 'prompt_answer')",
         "marker": {
          "color": "#1f77b4",
          "opacity": 0.5,
          "size": 6
         },
         "mode": "markers",
         "name": "('llama3.1_8b_chat', 'medals_9k', 'base', 'main', 'prompt_answer') Fold ('logistic_regression_f1_score', 3)",
         "showlegend": false,
         "type": "scatter",
         "x": {
          "bdata": "AAECAwQFBgcICQoLDA0ODxAREhMUFRYXGBkaGxwdHh8=",
          "dtype": "i1"
         },
         "y": {
          "bdata": "4Mhy+I0s5z92F2R3QXbnPxMf991S6Oc/4spX6xO/5z+I/um1qOLnP1x+m+vH5ec/rL4C1x++5z84wpCt2vXnP+pHAQ9C4ec/TTzmtLIe6D9o+jzKvSzoP+uELT2oTug/DFzgAhe46D9rDDbcCUnoP9WpHOBpreg/OV2mOF2m6D933NDgCpHoP9BRa++2pOg/eDtuaHCF6D87Q2LezpDoP/uK7Su2r+g/lTVlTVlT6D/xWXhfomvoP53Mpactoeg/nyv0P7Y26D8mWJCvMiboP+S1UqTyPug/RP875jN66D/ceMJ3G0/oP6fSkHOfXeg//OwCYlNp6D+qeZC7frboPw==",
          "dtype": "f8"
         }
        },
        {
         "legendgroup": "('llama3.1_8b_chat', 'medals_9k', 'base', 'main', 'prompt_answer')",
         "marker": {
          "color": "#1f77b4",
          "opacity": 0.5,
          "size": 6
         },
         "mode": "markers",
         "name": "('llama3.1_8b_chat', 'medals_9k', 'base', 'main', 'prompt_answer') Fold ('logistic_regression_f1_score', 4)",
         "showlegend": false,
         "type": "scatter",
         "x": {
          "bdata": "AAECAwQFBgcICQoLDA0ODxAREhMUFRYXGBkaGxwdHh8=",
          "dtype": "i1"
         },
         "y": {
          "bdata": "WChddeAm5z8iuu1N2XfnPzs6nMjbhec/OzqcyNuF5z9duKtvkvfnP6cL4wlUyuc/2G6WJ5Fp6D8YausayUfoP7B+mcTmT+g/S/TaczGN6D+4rimIeEXoP3gDK+Jazeg/w4vz0DG86D+gnqlcd7zoPwSVs1v41eg/NwVizGjl6D/tFD5JWYDoP/LVQvPKj+g/0rIfvHJV6D/04ol0yl3oP5pjXUkleOg/EzC5hyY26D+MRKmxh1noP9hwDHVUZug/SHd7ITB16D/+nOM7KpToPyVWCOjkDeg/ZGpg75ga6D/7VL6yO0boP1GBIHd6d+g/jCRS2Bug6D/3PZaE7nLoPw==",
          "dtype": "f8"
         }
        },
        {
         "legendgroup": "('llama3.1_8b_chat', 'medals_9k', 'base', 'main', 'prompt_only')",
         "line": {
          "color": "#ff7f0e",
          "width": 2
         },
         "marker": {
          "size": 8
         },
         "mode": "lines+markers",
         "name": "('llama3.1_8b_chat', 'medals_9k', 'base', 'main', 'prompt_only')",
         "type": "scatter",
         "x": {
          "bdata": "AAECAwQFBgcICQoLDA0ODxAREhMUFRYXGBkaGxwdHh8=",
          "dtype": "i1"
         },
         "y": {
          "bdata": "wSPm61sP5z8CyIT/w1nnPzxb1wA7aec/c86iaD175z9HW+BahKXnP1Cz4hRXpOc/o5v8ulSt5z/4VDpyrNrnP6D8ejYfJOg/LLI29LMi6D/5Mcym/zLoPwilouZcQ+g/nIVhdTVa6D/i4xFGgmXoPwwwCp2qTug/7ra0C1uc6D9+2zwbnYToP7MkMZJBmeg/RsCSAhyT6D9CniLjRZfoPwMM1gLDpOg/u0JkH+qj6D95jr7sjpzoP8PNP4dmeug/NdB3uDR26D/boFBlf4DoPyBq1PPjuOg/u3GNfsSv6D/NThHR3qboPz9eXztjpeg/9coGgmqk6D/elVoLYpnoPw==",
          "dtype": "f8"
         }
        },
        {
         "legendgroup": "('llama3.1_8b_chat', 'medals_9k', 'base', 'main', 'prompt_only')",
         "line": {
          "width": 0
         },
         "mode": "lines",
         "name": "('llama3.1_8b_chat', 'medals_9k', 'base', 'main', 'prompt_only') Max",
         "showlegend": false,
         "type": "scatter",
         "x": {
          "bdata": "AAECAwQFBgcICQoLDA0ODxAREhMUFRYXGBkaGxwdHh8=",
          "dtype": "i1"
         },
         "y": {
          "bdata": "/XtqUtG/5z/fzI97ZNXnP46EKuI+oOc/a+r1Hkfi5z/77lfkDjPoP+zETuzETug/BA8zRyXl5z9zE+07Qi7oP0MN3IkeY+g//Q/mUVNL6D9ke4II1I3oP/koER0Xmug/qYilIpaK6D+YwZeaNrvoP43n/b1gZ+g/cmSQX3nO6D+gnqlcd7zoPz7ZkYNN3Og/pM3kePXT6D8iwD3mtevoP5s3LoD56eg/mdVeq27l6D9aWTLR8fPoP9nY2NjY2Og/bS2Ze0fT6D87sKWh6BTpP6gRlnsaYek/PAH9dAgQ6T+fQU62yy3pP4K9Y2pg7+g/0n0dFaUK6T8lnzexusjoPw==",
          "dtype": "f8"
         }
        },
        {
         "fill": "tonexty",
         "fillcolor": "rgba(255, 127, 14, 0.1)",
         "legendgroup": "('llama3.1_8b_chat', 'medals_9k', 'base', 'main', 'prompt_only')",
         "line": {
          "width": 0
         },
         "mode": "lines",
         "name": "('llama3.1_8b_chat', 'medals_9k', 'base', 'main', 'prompt_only') Min",
         "showlegend": false,
         "type": "scatter",
         "x": {
          "bdata": "AAECAwQFBgcICQoLDA0ODxAREhMUFRYXGBkaGxwdHh8=",
          "dtype": "i1"
         },
         "y": {
          "bdata": "pTiaVHmo5j92vDmhRAPnPyHMcXF3Eec/if7nFhc65z/yR9pbzUTnP4wweWn6T+c/zHQ+2oFg5z8g9qntzZTnP2ak2K42/ec/sCKu1YwF6D+viLdu0wnoP+Z7DrfFCeg//XmUHIwM6D97KZtW7x/oPw+tLo7UMOg/zpl2mVtE6D9623wrADXoPxXMknJAZOg/S8qvVSN46D/04ol0yl3oP1ieM6q0U+g/qT3abkCC6D+H+QKJl1LoPw+BG8ugVOg/cxPtO0Iu6D8NgWg31RDoP6wm9bExPOg/+M/riyRS6D/pSGuZ0EnoP2HMEGD9aOg/aCkLF0BC6D/lMc8uqnLoPw==",
          "dtype": "f8"
         }
        },
        {
         "legendgroup": "('llama3.1_8b_chat', 'medals_9k', 'base', 'main', 'prompt_only')",
         "line": {
          "width": 0
         },
         "mode": "lines",
         "name": "('llama3.1_8b_chat', 'medals_9k', 'base', 'main', 'prompt_only') +1 STD",
         "showlegend": false,
         "type": "scatter",
         "x": {
          "bdata": "AAECAwQFBgcICQoLDA0ODxAREhMUFRYXGBkaGxwdHh8=",
          "dtype": "i1"
         },
         "y": {
          "bdata": "RExZNSKB5z9byqihx7HnP9Fj25u8rOc/+98vD4C75z+zEltZWfznPxXebgUqDOg/48lMY4Le5z+xyofCQRPoP3SdXlzxTOg/V+KFlppD6D9UCWMQL2roP5mzuxGFgOg/2J8c1YGL6D+kstCmba/oP76pT1UxYug/9/ZXFM3U6D+5AdUmUrjoP8FRw/wfyOg/vW6+bwG46D+WCVM1SsvoP/ZvwJiU5ug/GNQ0RiPL6D/Xg8n8kNfoP341jvCrsOg/+OoRSQW06D+1QC8D2OLoPwuJ0SnXLek/9fuZcQz56D+P13c8MAbpP55kcrLB1+g/zdToEnv66D/cufhDtb/oPw==",
          "dtype": "f8"
         }
        },
        {
         "fill": "tonexty",
         "fillcolor": "rgba(255, 127, 14, 0.3)",
         "legendgroup": "('llama3.1_8b_chat', 'medals_9k', 'base', 'main', 'prompt_only')",
         "line": {
          "width": 0
         },
         "mode": "lines",
         "name": "('llama3.1_8b_chat', 'medals_9k', 'base', 'main', 'prompt_only') -1 STD",
         "showlegend": false,
         "type": "scatter",
         "x": {
          "bdata": "AAECAwQFBgcICQoLDA0ODxAREhMUFRYXGBkaGxwdHh8=",
          "dtype": "i1"
         },
         "y": {
          "bdata": "PvtyopWd5j+pxWBdwAHnP6dS02W5Jec/67wVwvo65z/bo2Vcr07nP4uIViSEPOc/Y22sEid85z8/3+whF6LnP8xblxBN++c/AYLnUc0B6D+eWjU90PvnP3eWibs0Bug/YGumFeko6D8gFVPllhvoP1q2xOQjO+g/5XYRA+lj6D9DtaQP6FDoP6X3nidjaug/zxFnlTZu6D/uMvKQQWPoPxCo62zxYug/XrGT+LB86D8bmbPcjGHoPwhm8R0hROg/crXdJ2Q46D8BAXLHJh7oPzVL173wQ+g/geeAi3xm6D8LxqpljUfoP+BXTMQEc+g/HcEk8VlO6D/gcbzSDnPoPw==",
          "dtype": "f8"
         }
        },
        {
         "legendgroup": "('llama3.1_8b_chat', 'medals_9k', 'base', 'main', 'prompt_only')",
         "marker": {
          "color": "#ff7f0e",
          "opacity": 0.5,
          "size": 6
         },
         "mode": "markers",
         "name": "('llama3.1_8b_chat', 'medals_9k', 'base', 'main', 'prompt_only') Fold ('logistic_regression_f1_score', 0)",
         "showlegend": false,
         "type": "scatter",
         "x": {
          "bdata": "AAECAwQFBgcICQoLDA0ODxAREhMUFRYXGBkaGxwdHh8=",
          "dtype": "i1"
         },
         "y": {
          "bdata": "pTiaVHmo5j92vDmhRAPnPyHMcXF3Eec/yEIWspCF5z/yR9pbzUTnP4wweWn6T+c/810P5I+05z+Tx50l7ObnP2ak2K42/ec/L7dkNg4V6D+viLdu0wnoPxOCsvc1Ieg/cFj7hrVv6D8CP1mRYq/oP2/Alg6WUOg/zpl2mVtE6D9623wrADXoPz7ZkYNN3Og/g+BUJmyD6D8uhkOE+JToP00Iyt7XhOg/qT3abkCC6D+H+QKJl1LoPxhbgm/zV+g/cxPtO0Iu6D+acY++dHnoP38Xx3g2+eg/Tm9605ve6D8+XovfqNHoP7cLcgOal+g/Xad9bQrE6D+mV22ucbvoPw==",
          "dtype": "f8"
         }
        },
        {
         "legendgroup": "('llama3.1_8b_chat', 'medals_9k', 'base', 'main', 'prompt_only')",
         "marker": {
          "color": "#ff7f0e",
          "opacity": 0.5,
          "size": 6
         },
         "mode": "markers",
         "name": "('llama3.1_8b_chat', 'medals_9k', 'base', 'main', 'prompt_only') Fold ('logistic_regression_f1_score', 1)",
         "showlegend": false,
         "type": "scatter",
         "x": {
          "bdata": "AAECAwQFBgcICQoLDA0ODxAREhMUFRYXGBkaGxwdHh8=",
          "dtype": "i1"
         },
         "y": {
          "bdata": "CtejcD0K5z+AEb24AHTnP46EKuI+oOc/qzY96gxx5z8QyAHuaI/nP/pTrghjvec/zHQ+2oFg5z8g9qntzZTnP1WBrfpJFeg//Q/mUVNL6D9ke4II1I3oP0GQO707bOg/N9yBJ81y6D+YwZeaNrvoP1gWz8kLU+g/kMeoShau6D+gnqlcd7zoPwBjfyXCfOg/pM3kePXT6D8iwD3mtevoP1z6FxpR5+g/mdVeq27l6D9aWTLR8fPoP9nY2NjY2Og/bS2Ze0fT6D87sKWh6BTpP6gRlnsaYek/PAH9dAgQ6T+fQU62yy3pP4K9Y2pg7+g/0n0dFaUK6T8lnzexusjoPw==",
          "dtype": "f8"
         }
        },
        {
         "legendgroup": "('llama3.1_8b_chat', 'medals_9k', 'base', 'main', 'prompt_only')",
         "marker": {
          "color": "#ff7f0e",
          "opacity": 0.5,
          "size": 6
         },
         "mode": "markers",
         "name": "('llama3.1_8b_chat', 'medals_9k', 'base', 'main', 'prompt_only') Fold ('logistic_regression_f1_score', 2)",
         "showlegend": false,
         "type": "scatter",
         "x": {
          "bdata": "AAECAwQFBgcICQoLDA0ODxAREhMUFRYXGBkaGxwdHh8=",
          "dtype": "i1"
         },
         "y": {
          "bdata": "/XtqUtG/5z+vauG1o27nP4VRnSYHmec/2KX8ODdV5z86vChsrJ3nPwi8xlKQdec/BA8zRyXl5z9zE+07Qi7oP0MN3IkeY+g/sCKu1YwF6D84gRM4gRPoP+Z7DrfFCeg//XmUHIwM6D97KZtW7x/oP9iEoOx9Teg/cQiHcAiH6D/EiBEjRozoP7vCAX2rj+g/S8qvVSN46D/GI+nYn4ToP3Nj6ur3jeg/qYilIpaK6D9605ve9KboP6+VE57pb+g/ZOxW9HGD6D93F3F9q5zoP4Eby6BUmOg/KFXy1S+T6D9RR2WGnanoPy1lJXrtueg/1wlIRnDR6D+RMvB0a37oPw==",
          "dtype": "f8"
         }
        },
        {
         "legendgroup": "('llama3.1_8b_chat', 'medals_9k', 'base', 'main', 'prompt_only')",
         "marker": {
          "color": "#ff7f0e",
          "opacity": 0.5,
          "size": 6
         },
         "mode": "markers",
         "name": "('llama3.1_8b_chat', 'medals_9k', 'base', 'main', 'prompt_only') Fold ('logistic_regression_f1_score', 3)",
         "showlegend": false,
         "type": "scatter",
         "x": {
          "bdata": "AAECAwQFBgcICQoLDA0ODxAREhMUFRYXGBkaGxwdHh8=",
          "dtype": "i1"
         },
         "y": {
          "bdata": "gKxcHSAr5z/fzI97ZNXnP0N5DeU1lOc/a+r1Hkfi5z/77lfkDjPoP+zETuzETug/g07JoUGk5z9GWRLIttznP3TM6wXxNOg/TFLPEHBA6D+YJkGYJkHoP/koER0Xmug/qYilIpaK6D+NXON5fy/oP43n/b1gZ+g/cmSQX3nO6D+8LAB3j6PoP3XsT0JMseg/TQjK3teE6D/04ol0yl3oP1ieM6q0U+g/g1RwJ/Ca6D8SWEhyAoLoPw+BG8ugVOg/h/kCiZdS6D8NgWg31RDoP6wm9bExPOg/+M/riyRS6D/sWaxfd0/oP2HMEGD9aOg/WJ4zqrRT6D8WkmA1qInoPw==",
          "dtype": "f8"
         }
        },
        {
         "legendgroup": "('llama3.1_8b_chat', 'medals_9k', 'base', 'main', 'prompt_only')",
         "marker": {
          "color": "#ff7f0e",
          "opacity": 0.5,
          "size": 6
         },
         "mode": "markers",
         "name": "('llama3.1_8b_chat', 'medals_9k', 'base', 'main', 'prompt_only') Fold ('logistic_regression_f1_score', 4)",
         "showlegend": false,
         "type": "scatter",
         "x": {
          "bdata": "AAECAwQFBgcICQoLDA0ODxAREhMUFRYXGBkaGxwdHh8=",
          "dtype": "i1"
         },
         "y": {
          "bdata": "mXp5ZiOv5j+I4i9yhgXnP7Ss7aQzL+c/if7nFhc65z8rDQUspJbnPxV7MLcAZOc/59mk/y7E5z9nftwjq77nP63vGNcLCug/tD5JViUH6D/4TW76rhLoP/iBH/iBH+g/v2QwXWZJ6D/G7Olhg0HoPw+tLo7UMOg/Z8RQhtPF6D/aGfhlxHXoPxXMknJAZOg/n0AqOS+L6D89yri3RJHoP5s3LoD56eg/OV2mOF2m6D/1SZ/0SZ/oPx66tPKpbug/O+p2ZXR36D/uaYTlnkboP02nCHycbeg/AqNtzt2a6D/pSGuZ0EnoP3fc0OAKkeg/aCkLF0BC6D/lMc8uqnLoPw==",
          "dtype": "f8"
         }
        }
       ],
       "layout": {
        "font": {
         "color": "white"
        },
        "height": 600,
        "legend": {
         "bgcolor": "rgba(32, 32, 32, 0.8)",
         "orientation": "h",
         "x": 0.5,
         "xanchor": "center",
         "y": 1.02,
         "yanchor": "bottom"
        },
        "margin": {
         "b": 50,
         "l": 50,
         "r": 30,
         "t": 100
        },
        "paper_bgcolor": "rgba(32, 32, 32, 1)",
        "plot_bgcolor": "rgba(32, 32, 32, 1)",
        "showlegend": true,
        "template": {
         "data": {
          "bar": [
           {
            "error_x": {
             "color": "#f2f5fa"
            },
            "error_y": {
             "color": "#f2f5fa"
            },
            "marker": {
             "line": {
              "color": "rgb(17,17,17)",
              "width": 0.5
             },
             "pattern": {
              "fillmode": "overlay",
              "size": 10,
              "solidity": 0.2
             }
            },
            "type": "bar"
           }
          ],
          "barpolar": [
           {
            "marker": {
             "line": {
              "color": "rgb(17,17,17)",
              "width": 0.5
             },
             "pattern": {
              "fillmode": "overlay",
              "size": 10,
              "solidity": 0.2
             }
            },
            "type": "barpolar"
           }
          ],
          "carpet": [
           {
            "aaxis": {
             "endlinecolor": "#A2B1C6",
             "gridcolor": "#506784",
             "linecolor": "#506784",
             "minorgridcolor": "#506784",
             "startlinecolor": "#A2B1C6"
            },
            "baxis": {
             "endlinecolor": "#A2B1C6",
             "gridcolor": "#506784",
             "linecolor": "#506784",
             "minorgridcolor": "#506784",
             "startlinecolor": "#A2B1C6"
            },
            "type": "carpet"
           }
          ],
          "choropleth": [
           {
            "colorbar": {
             "outlinewidth": 0,
             "ticks": ""
            },
            "type": "choropleth"
           }
          ],
          "contour": [
           {
            "colorbar": {
             "outlinewidth": 0,
             "ticks": ""
            },
            "colorscale": [
             [
              0,
              "#0d0887"
             ],
             [
              0.1111111111111111,
              "#46039f"
             ],
             [
              0.2222222222222222,
              "#7201a8"
             ],
             [
              0.3333333333333333,
              "#9c179e"
             ],
             [
              0.4444444444444444,
              "#bd3786"
             ],
             [
              0.5555555555555556,
              "#d8576b"
             ],
             [
              0.6666666666666666,
              "#ed7953"
             ],
             [
              0.7777777777777778,
              "#fb9f3a"
             ],
             [
              0.8888888888888888,
              "#fdca26"
             ],
             [
              1,
              "#f0f921"
             ]
            ],
            "type": "contour"
           }
          ],
          "contourcarpet": [
           {
            "colorbar": {
             "outlinewidth": 0,
             "ticks": ""
            },
            "type": "contourcarpet"
           }
          ],
          "heatmap": [
           {
            "colorbar": {
             "outlinewidth": 0,
             "ticks": ""
            },
            "colorscale": [
             [
              0,
              "#0d0887"
             ],
             [
              0.1111111111111111,
              "#46039f"
             ],
             [
              0.2222222222222222,
              "#7201a8"
             ],
             [
              0.3333333333333333,
              "#9c179e"
             ],
             [
              0.4444444444444444,
              "#bd3786"
             ],
             [
              0.5555555555555556,
              "#d8576b"
             ],
             [
              0.6666666666666666,
              "#ed7953"
             ],
             [
              0.7777777777777778,
              "#fb9f3a"
             ],
             [
              0.8888888888888888,
              "#fdca26"
             ],
             [
              1,
              "#f0f921"
             ]
            ],
            "type": "heatmap"
           }
          ],
          "histogram": [
           {
            "marker": {
             "pattern": {
              "fillmode": "overlay",
              "size": 10,
              "solidity": 0.2
             }
            },
            "type": "histogram"
           }
          ],
          "histogram2d": [
           {
            "colorbar": {
             "outlinewidth": 0,
             "ticks": ""
            },
            "colorscale": [
             [
              0,
              "#0d0887"
             ],
             [
              0.1111111111111111,
              "#46039f"
             ],
             [
              0.2222222222222222,
              "#7201a8"
             ],
             [
              0.3333333333333333,
              "#9c179e"
             ],
             [
              0.4444444444444444,
              "#bd3786"
             ],
             [
              0.5555555555555556,
              "#d8576b"
             ],
             [
              0.6666666666666666,
              "#ed7953"
             ],
             [
              0.7777777777777778,
              "#fb9f3a"
             ],
             [
              0.8888888888888888,
              "#fdca26"
             ],
             [
              1,
              "#f0f921"
             ]
            ],
            "type": "histogram2d"
           }
          ],
          "histogram2dcontour": [
           {
            "colorbar": {
             "outlinewidth": 0,
             "ticks": ""
            },
            "colorscale": [
             [
              0,
              "#0d0887"
             ],
             [
              0.1111111111111111,
              "#46039f"
             ],
             [
              0.2222222222222222,
              "#7201a8"
             ],
             [
              0.3333333333333333,
              "#9c179e"
             ],
             [
              0.4444444444444444,
              "#bd3786"
             ],
             [
              0.5555555555555556,
              "#d8576b"
             ],
             [
              0.6666666666666666,
              "#ed7953"
             ],
             [
              0.7777777777777778,
              "#fb9f3a"
             ],
             [
              0.8888888888888888,
              "#fdca26"
             ],
             [
              1,
              "#f0f921"
             ]
            ],
            "type": "histogram2dcontour"
           }
          ],
          "mesh3d": [
           {
            "colorbar": {
             "outlinewidth": 0,
             "ticks": ""
            },
            "type": "mesh3d"
           }
          ],
          "parcoords": [
           {
            "line": {
             "colorbar": {
              "outlinewidth": 0,
              "ticks": ""
             }
            },
            "type": "parcoords"
           }
          ],
          "pie": [
           {
            "automargin": true,
            "type": "pie"
           }
          ],
          "scatter": [
           {
            "marker": {
             "line": {
              "color": "#283442"
             }
            },
            "type": "scatter"
           }
          ],
          "scatter3d": [
           {
            "line": {
             "colorbar": {
              "outlinewidth": 0,
              "ticks": ""
             }
            },
            "marker": {
             "colorbar": {
              "outlinewidth": 0,
              "ticks": ""
             }
            },
            "type": "scatter3d"
           }
          ],
          "scattercarpet": [
           {
            "marker": {
             "colorbar": {
              "outlinewidth": 0,
              "ticks": ""
             }
            },
            "type": "scattercarpet"
           }
          ],
          "scattergeo": [
           {
            "marker": {
             "colorbar": {
              "outlinewidth": 0,
              "ticks": ""
             }
            },
            "type": "scattergeo"
           }
          ],
          "scattergl": [
           {
            "marker": {
             "line": {
              "color": "#283442"
             }
            },
            "type": "scattergl"
           }
          ],
          "scattermap": [
           {
            "marker": {
             "colorbar": {
              "outlinewidth": 0,
              "ticks": ""
             }
            },
            "type": "scattermap"
           }
          ],
          "scattermapbox": [
           {
            "marker": {
             "colorbar": {
              "outlinewidth": 0,
              "ticks": ""
             }
            },
            "type": "scattermapbox"
           }
          ],
          "scatterpolar": [
           {
            "marker": {
             "colorbar": {
              "outlinewidth": 0,
              "ticks": ""
             }
            },
            "type": "scatterpolar"
           }
          ],
          "scatterpolargl": [
           {
            "marker": {
             "colorbar": {
              "outlinewidth": 0,
              "ticks": ""
             }
            },
            "type": "scatterpolargl"
           }
          ],
          "scatterternary": [
           {
            "marker": {
             "colorbar": {
              "outlinewidth": 0,
              "ticks": ""
             }
            },
            "type": "scatterternary"
           }
          ],
          "surface": [
           {
            "colorbar": {
             "outlinewidth": 0,
             "ticks": ""
            },
            "colorscale": [
             [
              0,
              "#0d0887"
             ],
             [
              0.1111111111111111,
              "#46039f"
             ],
             [
              0.2222222222222222,
              "#7201a8"
             ],
             [
              0.3333333333333333,
              "#9c179e"
             ],
             [
              0.4444444444444444,
              "#bd3786"
             ],
             [
              0.5555555555555556,
              "#d8576b"
             ],
             [
              0.6666666666666666,
              "#ed7953"
             ],
             [
              0.7777777777777778,
              "#fb9f3a"
             ],
             [
              0.8888888888888888,
              "#fdca26"
             ],
             [
              1,
              "#f0f921"
             ]
            ],
            "type": "surface"
           }
          ],
          "table": [
           {
            "cells": {
             "fill": {
              "color": "#506784"
             },
             "line": {
              "color": "rgb(17,17,17)"
             }
            },
            "header": {
             "fill": {
              "color": "#2a3f5f"
             },
             "line": {
              "color": "rgb(17,17,17)"
             }
            },
            "type": "table"
           }
          ]
         },
         "layout": {
          "annotationdefaults": {
           "arrowcolor": "#f2f5fa",
           "arrowhead": 0,
           "arrowwidth": 1
          },
          "autotypenumbers": "strict",
          "coloraxis": {
           "colorbar": {
            "outlinewidth": 0,
            "ticks": ""
           }
          },
          "colorscale": {
           "diverging": [
            [
             0,
             "#8e0152"
            ],
            [
             0.1,
             "#c51b7d"
            ],
            [
             0.2,
             "#de77ae"
            ],
            [
             0.3,
             "#f1b6da"
            ],
            [
             0.4,
             "#fde0ef"
            ],
            [
             0.5,
             "#f7f7f7"
            ],
            [
             0.6,
             "#e6f5d0"
            ],
            [
             0.7,
             "#b8e186"
            ],
            [
             0.8,
             "#7fbc41"
            ],
            [
             0.9,
             "#4d9221"
            ],
            [
             1,
             "#276419"
            ]
           ],
           "sequential": [
            [
             0,
             "#0d0887"
            ],
            [
             0.1111111111111111,
             "#46039f"
            ],
            [
             0.2222222222222222,
             "#7201a8"
            ],
            [
             0.3333333333333333,
             "#9c179e"
            ],
            [
             0.4444444444444444,
             "#bd3786"
            ],
            [
             0.5555555555555556,
             "#d8576b"
            ],
            [
             0.6666666666666666,
             "#ed7953"
            ],
            [
             0.7777777777777778,
             "#fb9f3a"
            ],
            [
             0.8888888888888888,
             "#fdca26"
            ],
            [
             1,
             "#f0f921"
            ]
           ],
           "sequentialminus": [
            [
             0,
             "#0d0887"
            ],
            [
             0.1111111111111111,
             "#46039f"
            ],
            [
             0.2222222222222222,
             "#7201a8"
            ],
            [
             0.3333333333333333,
             "#9c179e"
            ],
            [
             0.4444444444444444,
             "#bd3786"
            ],
            [
             0.5555555555555556,
             "#d8576b"
            ],
            [
             0.6666666666666666,
             "#ed7953"
            ],
            [
             0.7777777777777778,
             "#fb9f3a"
            ],
            [
             0.8888888888888888,
             "#fdca26"
            ],
            [
             1,
             "#f0f921"
            ]
           ]
          },
          "colorway": [
           "#636efa",
           "#EF553B",
           "#00cc96",
           "#ab63fa",
           "#FFA15A",
           "#19d3f3",
           "#FF6692",
           "#B6E880",
           "#FF97FF",
           "#FECB52"
          ],
          "font": {
           "color": "#f2f5fa"
          },
          "geo": {
           "bgcolor": "rgb(17,17,17)",
           "lakecolor": "rgb(17,17,17)",
           "landcolor": "rgb(17,17,17)",
           "showlakes": true,
           "showland": true,
           "subunitcolor": "#506784"
          },
          "hoverlabel": {
           "align": "left"
          },
          "hovermode": "closest",
          "mapbox": {
           "style": "dark"
          },
          "paper_bgcolor": "rgb(17,17,17)",
          "plot_bgcolor": "rgb(17,17,17)",
          "polar": {
           "angularaxis": {
            "gridcolor": "#506784",
            "linecolor": "#506784",
            "ticks": ""
           },
           "bgcolor": "rgb(17,17,17)",
           "radialaxis": {
            "gridcolor": "#506784",
            "linecolor": "#506784",
            "ticks": ""
           }
          },
          "scene": {
           "xaxis": {
            "backgroundcolor": "rgb(17,17,17)",
            "gridcolor": "#506784",
            "gridwidth": 2,
            "linecolor": "#506784",
            "showbackground": true,
            "ticks": "",
            "zerolinecolor": "#C8D4E3"
           },
           "yaxis": {
            "backgroundcolor": "rgb(17,17,17)",
            "gridcolor": "#506784",
            "gridwidth": 2,
            "linecolor": "#506784",
            "showbackground": true,
            "ticks": "",
            "zerolinecolor": "#C8D4E3"
           },
           "zaxis": {
            "backgroundcolor": "rgb(17,17,17)",
            "gridcolor": "#506784",
            "gridwidth": 2,
            "linecolor": "#506784",
            "showbackground": true,
            "ticks": "",
            "zerolinecolor": "#C8D4E3"
           }
          },
          "shapedefaults": {
           "line": {
            "color": "#f2f5fa"
           }
          },
          "sliderdefaults": {
           "bgcolor": "#C8D4E3",
           "bordercolor": "rgb(17,17,17)",
           "borderwidth": 1,
           "tickwidth": 0
          },
          "ternary": {
           "aaxis": {
            "gridcolor": "#506784",
            "linecolor": "#506784",
            "ticks": ""
           },
           "baxis": {
            "gridcolor": "#506784",
            "linecolor": "#506784",
            "ticks": ""
           },
           "bgcolor": "rgb(17,17,17)",
           "caxis": {
            "gridcolor": "#506784",
            "linecolor": "#506784",
            "ticks": ""
           }
          },
          "title": {
           "x": 0.05
          },
          "updatemenudefaults": {
           "bgcolor": "#506784",
           "borderwidth": 0
          },
          "xaxis": {
           "automargin": true,
           "gridcolor": "#283442",
           "linecolor": "#506784",
           "ticks": "",
           "title": {
            "standoff": 15
           },
           "zerolinecolor": "#283442",
           "zerolinewidth": 2
          },
          "yaxis": {
           "automargin": true,
           "gridcolor": "#283442",
           "linecolor": "#506784",
           "ticks": "",
           "title": {
            "standoff": 15
           },
           "zerolinecolor": "#283442",
           "zerolinewidth": 2
          }
         }
        },
        "title": {},
        "width": 1000,
        "xaxis": {
         "gridcolor": "rgba(128, 128, 128, 0.2)",
         "title": {
          "text": "Layer"
         },
         "zeroline": false
        },
        "yaxis": {
         "gridcolor": "rgba(128, 128, 128, 0.2)",
         "title": {
          "text": "Logistic Regression F1 Score"
         },
         "zeroline": false
        }
       }
      }
     },
     "metadata": {},
     "output_type": "display_data"
    }
   ],
   "source": [
    "for classifier in [\"direction\", \"logistic_regression\"]:\n",
    "    # for metric in [\"f1_score\", \"accuracy_score\", \"precision_score\", \"recall_score\"]:\n",
    "    for metric in [\"f1_score\"]:\n",
    "        plot_dict = {}\n",
    "        for conf, res_df_ in res_df.groupby([\"model_id\", \"dataset_id\", \"prompt_id\", \"subset_id\", \"input_type\"]):\n",
    "            # if conf[4] != \"prompt_only\":\n",
    "            #     continue\n",
    "            \n",
    "            print(f\"{conf=}\")\n",
    "            res_df_pivot = pd.pivot(\n",
    "                res_df_.drop(columns=[\"model_id\", \"dataset_id\", \"prompt_id\", \"subset_id\", \"input_type\"]),\n",
    "                index='layer',\n",
    "                columns='fold',\n",
    "                # values=['direction_f1_score', 'logistic_regression_f1_score']  # add all metrics you want to keep\n",
    "            )\n",
    "            # for classifier in [\"direction\", \"logistic_regression\"]:\n",
    "            #     for metric in [\"f1_score\", \"accuracy_score\", \"precision_score\", \"recall_score\"]:\n",
    "            plot_dict[str(conf)] = res_df_pivot[[f\"{classifier}_{metric}\"]]\n",
    "\n",
    "        plot_interactive_lineplot(\n",
    "            plot_dict,\n",
    "            x_label=\"Layer\",\n",
    "            y_label=f\"{classifier}_{metric}\".replace(\"_\", \" \").title(),\n",
    "            save_path=f\"./figures/{classifier}_{metric}_test.html\"\n",
    "        ).show()\n",
    "\n"
   ]
  },
  {
   "cell_type": "code",
   "execution_count": 22,
   "metadata": {},
   "outputs": [],
   "source": [
    "# def plot_interactive_box(df, x_label, y_label, title=None):\n",
    "#     fig = go.Figure()\n",
    "    \n",
    "#     # Create box plot\n",
    "#     fig.add_trace(go.Box(\n",
    "#         x=[idx for idx in df.index for _ in range(len(df.columns))],  # Repeat each index for each fold\n",
    "#         y=df.values.flatten(),  # Flatten all values\n",
    "#         boxpoints='all',  # Show all points\n",
    "#         jitter=0,        # No jitter for points\n",
    "#         pointpos=0,      # Position points at center\n",
    "#         marker=dict(\n",
    "#             color='#1f77b4',\n",
    "#             size=8,\n",
    "#             opacity=0.5\n",
    "#         ),\n",
    "#         line=dict(\n",
    "#             color='#1f77b4',\n",
    "#             width=2\n",
    "#         ),\n",
    "#         fillcolor='rgba(68, 138, 255, 0.5)',\n",
    "#         opacity=0.6,\n",
    "#         showlegend=False,\n",
    "#         boxmean=True,    # Show mean as a dashed line\n",
    "#         width=0.5        # Width of boxes\n",
    "#     ))\n",
    "\n",
    "#     fig.update_layout(\n",
    "#         title=title,\n",
    "#         yaxis_title=y_label,\n",
    "#         xaxis_title=x_label,\n",
    "#         template='plotly_dark',\n",
    "#         plot_bgcolor='rgba(32, 32, 32, 1)',\n",
    "#         paper_bgcolor='rgba(32, 32, 32, 1)',\n",
    "#         font=dict(color='white'),\n",
    "#         margin=dict(t=50, l=50, r=30),\n",
    "#         showlegend=False\n",
    "#     )\n",
    "    \n",
    "#     # Update axes for consistency with dark theme\n",
    "#     fig.update_xaxes(gridcolor='rgba(128, 128, 128, 0.2)', zeroline=False)\n",
    "#     fig.update_yaxes(gridcolor='rgba(128, 128, 128, 0.2)', zeroline=False)\n",
    "    \n",
    "#     return fig\n",
    "\n",
    "# plot_interactive_box(res_df, x_label=\"Layer\", y_label=\"F1 Score\").show()"
   ]
  },
  {
   "cell_type": "code",
   "execution_count": null,
   "metadata": {},
   "outputs": [],
   "source": []
  },
  {
   "cell_type": "code",
   "execution_count": null,
   "metadata": {},
   "outputs": [],
   "source": []
  }
 ],
 "metadata": {
  "kernelspec": {
   "display_name": "venv",
   "language": "python",
   "name": "python3"
  },
  "language_info": {
   "codemirror_mode": {
    "name": "ipython",
    "version": 3
   },
   "file_extension": ".py",
   "mimetype": "text/x-python",
   "name": "python",
   "nbconvert_exporter": "python",
   "pygments_lexer": "ipython3",
   "version": "3.11.3"
  }
 },
 "nbformat": 4,
 "nbformat_minor": 2
}
