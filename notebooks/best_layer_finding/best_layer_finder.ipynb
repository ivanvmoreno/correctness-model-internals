{
 "cells": [
  {
   "cell_type": "code",
   "execution_count": 2,
   "metadata": {},
   "outputs": [
    {
     "data": {
      "text/plain": [
       "['/Library/Frameworks/Python.framework/Versions/3.11/lib/python311.zip',\n",
       " '/Library/Frameworks/Python.framework/Versions/3.11/lib/python3.11',\n",
       " '/Library/Frameworks/Python.framework/Versions/3.11/lib/python3.11/lib-dynload',\n",
       " '',\n",
       " '/Users/anton/dev/MARS/correctness-model-internals/venv/lib/python3.11/site-packages',\n",
       " '/Users/anton/dev/MARS/correctness-model-internals']"
      ]
     },
     "execution_count": 2,
     "metadata": {},
     "output_type": "execute_result"
    }
   ],
   "source": [
    "import sys\n",
    "from pathlib import Path\n",
    "\n",
    "# Add the src directory to Python path\n",
    "src_path = str(Path(\"./\").resolve().parent.parent)\n",
    "if src_path not in sys.path:\n",
    "    sys.path.append(src_path)\n",
    "\n",
    "sys.path"
   ]
  },
  {
   "cell_type": "code",
   "execution_count": 3,
   "metadata": {},
   "outputs": [],
   "source": [
    "from collections import defaultdict\n",
    "\n",
    "import pandas as pd\n",
    "\n",
    "from src.classifying import (\n",
    "    ActivationsHandler,\n",
    "    combine_activations_handlers,\n",
    "    get_correctness_direction_classifier,\n",
    "    get_logistic_regression_classifier,\n",
    "    get_between_class_variance_and_within_class_variance,\n",
    ")\n",
    "from src.visualisations.utils import plot_interactive_lineplot\n",
    "from src.utils.data import load_activations, load_labels, get_experiment_activations_configs_df_subset\n"
   ]
  },
  {
   "cell_type": "code",
   "execution_count": 4,
   "metadata": {},
   "outputs": [],
   "source": [
    "BASE_PATH = \"../../data_for_classification\"\n",
    "PCA_COMPONENTS = None\n",
    "\n",
    "PCA_COMONENTS_LABEL = f\"_pca_{PCA_COMPONENTS}\" if PCA_COMPONENTS else \"\""
   ]
  },
  {
   "cell_type": "code",
   "execution_count": 5,
   "metadata": {},
   "outputs": [
    {
     "data": {
      "text/html": [
       "<div>\n",
       "<style scoped>\n",
       "    .dataframe tbody tr th:only-of-type {\n",
       "        vertical-align: middle;\n",
       "    }\n",
       "\n",
       "    .dataframe tbody tr th {\n",
       "        vertical-align: top;\n",
       "    }\n",
       "\n",
       "    .dataframe thead th {\n",
       "        text-align: right;\n",
       "    }\n",
       "</style>\n",
       "<table border=\"1\" class=\"dataframe\">\n",
       "  <thead>\n",
       "    <tr style=\"text-align: right;\">\n",
       "      <th></th>\n",
       "      <th>model_id</th>\n",
       "      <th>dataset_id</th>\n",
       "      <th>prompt_id</th>\n",
       "      <th>subset_id</th>\n",
       "      <th>input_type</th>\n",
       "      <th>layer</th>\n",
       "      <th>path</th>\n",
       "    </tr>\n",
       "  </thead>\n",
       "  <tbody>\n",
       "    <tr>\n",
       "      <th>0</th>\n",
       "      <td>llama3.1_8b_chat</td>\n",
       "      <td>football_leagues_1k</td>\n",
       "      <td>base</td>\n",
       "      <td>main</td>\n",
       "      <td>prompt_only</td>\n",
       "      <td>0</td>\n",
       "      <td>../../data_for_classification/activations/llam...</td>\n",
       "    </tr>\n",
       "    <tr>\n",
       "      <th>1</th>\n",
       "      <td>llama3.1_8b_chat</td>\n",
       "      <td>football_leagues_1k</td>\n",
       "      <td>base</td>\n",
       "      <td>main</td>\n",
       "      <td>prompt_only</td>\n",
       "      <td>7</td>\n",
       "      <td>../../data_for_classification/activations/llam...</td>\n",
       "    </tr>\n",
       "    <tr>\n",
       "      <th>2</th>\n",
       "      <td>llama3.1_8b_chat</td>\n",
       "      <td>football_leagues_1k</td>\n",
       "      <td>base</td>\n",
       "      <td>main</td>\n",
       "      <td>prompt_only</td>\n",
       "      <td>9</td>\n",
       "      <td>../../data_for_classification/activations/llam...</td>\n",
       "    </tr>\n",
       "    <tr>\n",
       "      <th>3</th>\n",
       "      <td>llama3.1_8b_chat</td>\n",
       "      <td>football_leagues_1k</td>\n",
       "      <td>base</td>\n",
       "      <td>main</td>\n",
       "      <td>prompt_only</td>\n",
       "      <td>17</td>\n",
       "      <td>../../data_for_classification/activations/llam...</td>\n",
       "    </tr>\n",
       "    <tr>\n",
       "      <th>4</th>\n",
       "      <td>llama3.1_8b_chat</td>\n",
       "      <td>football_leagues_1k</td>\n",
       "      <td>base</td>\n",
       "      <td>main</td>\n",
       "      <td>prompt_only</td>\n",
       "      <td>28</td>\n",
       "      <td>../../data_for_classification/activations/llam...</td>\n",
       "    </tr>\n",
       "    <tr>\n",
       "      <th>...</th>\n",
       "      <td>...</td>\n",
       "      <td>...</td>\n",
       "      <td>...</td>\n",
       "      <td>...</td>\n",
       "      <td>...</td>\n",
       "      <td>...</td>\n",
       "      <td>...</td>\n",
       "    </tr>\n",
       "    <tr>\n",
       "      <th>379</th>\n",
       "      <td>llama3.1_8b_chat</td>\n",
       "      <td>birth_years_4k</td>\n",
       "      <td>base</td>\n",
       "      <td>main</td>\n",
       "      <td>prompt_answer</td>\n",
       "      <td>23</td>\n",
       "      <td>../../data_for_classification/activations/llam...</td>\n",
       "    </tr>\n",
       "    <tr>\n",
       "      <th>380</th>\n",
       "      <td>llama3.1_8b_chat</td>\n",
       "      <td>birth_years_4k</td>\n",
       "      <td>base</td>\n",
       "      <td>main</td>\n",
       "      <td>prompt_answer</td>\n",
       "      <td>15</td>\n",
       "      <td>../../data_for_classification/activations/llam...</td>\n",
       "    </tr>\n",
       "    <tr>\n",
       "      <th>381</th>\n",
       "      <td>llama3.1_8b_chat</td>\n",
       "      <td>birth_years_4k</td>\n",
       "      <td>base</td>\n",
       "      <td>main</td>\n",
       "      <td>prompt_answer</td>\n",
       "      <td>12</td>\n",
       "      <td>../../data_for_classification/activations/llam...</td>\n",
       "    </tr>\n",
       "    <tr>\n",
       "      <th>382</th>\n",
       "      <td>llama3.1_8b_chat</td>\n",
       "      <td>birth_years_4k</td>\n",
       "      <td>base</td>\n",
       "      <td>main</td>\n",
       "      <td>prompt_answer</td>\n",
       "      <td>2</td>\n",
       "      <td>../../data_for_classification/activations/llam...</td>\n",
       "    </tr>\n",
       "    <tr>\n",
       "      <th>383</th>\n",
       "      <td>llama3.1_8b_chat</td>\n",
       "      <td>birth_years_4k</td>\n",
       "      <td>base</td>\n",
       "      <td>main</td>\n",
       "      <td>prompt_answer</td>\n",
       "      <td>5</td>\n",
       "      <td>../../data_for_classification/activations/llam...</td>\n",
       "    </tr>\n",
       "  </tbody>\n",
       "</table>\n",
       "<p>384 rows × 7 columns</p>\n",
       "</div>"
      ],
      "text/plain": [
       "             model_id           dataset_id prompt_id subset_id     input_type  \\\n",
       "0    llama3.1_8b_chat  football_leagues_1k      base      main    prompt_only   \n",
       "1    llama3.1_8b_chat  football_leagues_1k      base      main    prompt_only   \n",
       "2    llama3.1_8b_chat  football_leagues_1k      base      main    prompt_only   \n",
       "3    llama3.1_8b_chat  football_leagues_1k      base      main    prompt_only   \n",
       "4    llama3.1_8b_chat  football_leagues_1k      base      main    prompt_only   \n",
       "..                ...                  ...       ...       ...            ...   \n",
       "379  llama3.1_8b_chat       birth_years_4k      base      main  prompt_answer   \n",
       "380  llama3.1_8b_chat       birth_years_4k      base      main  prompt_answer   \n",
       "381  llama3.1_8b_chat       birth_years_4k      base      main  prompt_answer   \n",
       "382  llama3.1_8b_chat       birth_years_4k      base      main  prompt_answer   \n",
       "383  llama3.1_8b_chat       birth_years_4k      base      main  prompt_answer   \n",
       "\n",
       "     layer                                               path  \n",
       "0        0  ../../data_for_classification/activations/llam...  \n",
       "1        7  ../../data_for_classification/activations/llam...  \n",
       "2        9  ../../data_for_classification/activations/llam...  \n",
       "3       17  ../../data_for_classification/activations/llam...  \n",
       "4       28  ../../data_for_classification/activations/llam...  \n",
       "..     ...                                                ...  \n",
       "379     23  ../../data_for_classification/activations/llam...  \n",
       "380     15  ../../data_for_classification/activations/llam...  \n",
       "381     12  ../../data_for_classification/activations/llam...  \n",
       "382      2  ../../data_for_classification/activations/llam...  \n",
       "383      5  ../../data_for_classification/activations/llam...  \n",
       "\n",
       "[384 rows x 7 columns]"
      ]
     },
     "execution_count": 5,
     "metadata": {},
     "output_type": "execute_result"
    }
   ],
   "source": [
    "# Set None to get all\n",
    "MODEL_ID = \"llama3.1_8b_chat\"\n",
    "# DATASET_ID = \"gsm8k\"\n",
    "# PROMPT_ID = \"cot_3_shot\"\n",
    "# SUBSET_ID = \"main\"\n",
    "# INPUT_TYPE = \"prompt_only\"\n",
    "DATASET_ID = None\n",
    "PROMPT_ID = None\n",
    "SUBSET_ID = None\n",
    "INPUT_TYPE = None\n",
    "\n",
    "activation_exp_configs_df = get_experiment_activations_configs_df_subset(\n",
    "    base_path=BASE_PATH,\n",
    "    model_id=MODEL_ID,\n",
    "    dataset_id=DATASET_ID,\n",
    "    prompt_id=PROMPT_ID,\n",
    "    subset_id=SUBSET_ID,\n",
    "    input_type=INPUT_TYPE,\n",
    ")\n",
    "activation_exp_configs_df"
   ]
  },
  {
   "cell_type": "code",
   "execution_count": 6,
   "metadata": {},
   "outputs": [
    {
     "name": "stdout",
     "output_type": "stream",
     "text": [
      "\n",
      "model_id='llama3.1_8b_chat', dataset_id='birth_years_4k', prompt_id='base', subset_id='main', input_type='prompt_answer'\n",
      "layer=0, layer=1, layer=2, layer=3, layer=4, layer=5, layer=6, layer=7, layer=8, layer=9, layer=10, layer=11, layer=12, layer=13, layer=14, layer=15, layer=16, layer=17, layer=18, layer=19, layer=20, layer=21, layer=22, layer=23, layer=24, layer=25, layer=26, layer=27, layer=28, layer=29, layer=30, layer=31, \n",
      "model_id='llama3.1_8b_chat', dataset_id='birth_years_4k', prompt_id='base', subset_id='main', input_type='prompt_only'\n",
      "layer=0, layer=1, layer=2, layer=3, layer=4, layer=5, layer=6, layer=7, layer=8, layer=9, layer=10, layer=11, layer=12, layer=13, layer=14, layer=15, layer=16, layer=17, layer=18, layer=19, layer=20, layer=21, layer=22, layer=23, layer=24, layer=25, layer=26, layer=27, layer=28, layer=29, layer=30, layer=31, \n",
      "model_id='llama3.1_8b_chat', dataset_id='cities_10k', prompt_id='base', subset_id='main', input_type='prompt_answer'\n",
      "layer=0, layer=1, layer=2, layer=3, layer=4, layer=5, layer=6, layer=7, layer=8, layer=9, layer=10, layer=11, layer=12, layer=13, layer=14, layer=15, layer=16, layer=17, layer=18, layer=19, layer=20, layer=21, layer=22, layer=23, layer=24, layer=25, layer=26, layer=27, layer=28, layer=29, layer=30, layer=31, \n",
      "model_id='llama3.1_8b_chat', dataset_id='cities_10k', prompt_id='base', subset_id='main', input_type='prompt_only'\n",
      "layer=0, layer=1, layer=2, layer=3, layer=4, layer=5, layer=6, layer=7, layer=8, layer=9, layer=10, layer=11, layer=12, layer=13, layer=14, layer=15, layer=16, layer=17, layer=18, layer=19, layer=20, layer=21, layer=22, layer=23, layer=24, layer=25, layer=26, layer=27, layer=28, layer=29, layer=30, layer=31, \n",
      "model_id='llama3.1_8b_chat', dataset_id='football_leagues_1k', prompt_id='base', subset_id='main', input_type='prompt_answer'\n",
      "layer=0, layer=1, layer=2, layer=3, layer=4, layer=5, layer=6, layer=7, layer=8, layer=9, layer=10, layer=11, layer=12, layer=13, layer=14, layer=15, layer=16, layer=17, layer=18, layer=19, layer=20, layer=21, layer=22, layer=23, layer=24, layer=25, layer=26, layer=27, layer=28, layer=29, layer=30, layer=31, \n",
      "model_id='llama3.1_8b_chat', dataset_id='football_leagues_1k', prompt_id='base', subset_id='main', input_type='prompt_only'\n",
      "layer=0, layer=1, layer=2, layer=3, layer=4, layer=5, layer=6, layer=7, layer=8, layer=9, layer=10, layer=11, layer=12, layer=13, layer=14, layer=15, layer=16, layer=17, layer=18, layer=19, layer=20, layer=21, layer=22, layer=23, layer=24, layer=25, layer=26, layer=27, layer=28, layer=29, layer=30, layer=31, \n",
      "model_id='llama3.1_8b_chat', dataset_id='gsm8k', prompt_id='base_3_shot', subset_id='main', input_type='prompt_answer'\n",
      "layer=0, layer=1, layer=2, layer=3, layer=4, layer=5, layer=6, layer=7, layer=8, layer=9, layer=10, layer=11, layer=12, layer=13, layer=14, layer=15, layer=16, layer=17, layer=18, layer=19, layer=20, layer=21, layer=22, layer=23, layer=24, layer=25, layer=26, layer=27, layer=28, layer=29, layer=30, layer=31, \n",
      "model_id='llama3.1_8b_chat', dataset_id='gsm8k', prompt_id='base_3_shot', subset_id='main', input_type='prompt_only'\n",
      "layer=0, layer=1, layer=2, layer=3, layer=4, layer=5, layer=6, layer=7, layer=8, layer=9, layer=10, layer=11, layer=12, layer=13, layer=14, layer=15, layer=16, layer=17, layer=18, layer=19, layer=20, layer=21, layer=22, layer=23, layer=24, layer=25, layer=26, layer=27, layer=28, layer=29, layer=30, layer=31, \n",
      "model_id='llama3.1_8b_chat', dataset_id='gsm8k', prompt_id='cot_3_shot', subset_id='main', input_type='prompt_answer'\n",
      "layer=0, layer=1, layer=2, layer=3, layer=4, layer=5, layer=6, layer=7, layer=8, layer=9, layer=10, layer=11, layer=12, layer=13, layer=14, layer=15, layer=16, layer=17, layer=18, layer=19, layer=20, layer=21, layer=22, layer=23, layer=24, layer=25, layer=26, layer=27, layer=28, layer=29, layer=30, layer=31, \n",
      "model_id='llama3.1_8b_chat', dataset_id='gsm8k', prompt_id='cot_3_shot', subset_id='main', input_type='prompt_only'\n",
      "layer=0, layer=1, layer=2, layer=3, layer=4, layer=5, layer=6, layer=7, layer=8, layer=9, layer=10, layer=11, layer=12, layer=13, layer=14, layer=15, layer=16, layer=17, layer=18, layer=19, layer=20, layer=21, layer=22, layer=23, layer=24, layer=25, layer=26, layer=27, layer=28, layer=29, layer=30, layer=31, \n",
      "model_id='llama3.1_8b_chat', dataset_id='medals_9k', prompt_id='base', subset_id='main', input_type='prompt_answer'\n",
      "layer=0, layer=1, layer=2, layer=3, layer=4, layer=5, layer=6, layer=7, layer=8, layer=9, layer=10, layer=11, layer=12, layer=13, layer=14, layer=15, layer=16, layer=17, layer=18, layer=19, layer=20, layer=21, layer=22, layer=23, layer=24, layer=25, layer=26, layer=27, layer=28, layer=29, layer=30, layer=31, \n",
      "model_id='llama3.1_8b_chat', dataset_id='medals_9k', prompt_id='base', subset_id='main', input_type='prompt_only'\n",
      "layer=0, layer=1, layer=2, layer=3, layer=4, layer=5, layer=6, layer=7, layer=8, layer=9, layer=10, layer=11, layer=12, layer=13, layer=14, layer=15, layer=16, layer=17, layer=18, layer=19, layer=20, layer=21, layer=22, layer=23, layer=24, layer=25, layer=26, layer=27, layer=28, layer=29, layer=30, layer=31, "
     ]
    }
   ],
   "source": [
    "between_over_within_class_variance_dict = defaultdict(list)\n",
    "\n",
    "for (model_id, dataset_id, prompt_id, subset_id, input_type), config_df in activation_exp_configs_df.groupby([\"model_id\", \"dataset_id\", \"prompt_id\", \"subset_id\", \"input_type\"]):\n",
    "    print(f\"\\n{model_id=}, {dataset_id=}, {prompt_id=}, {subset_id=}, {input_type=}\")\n",
    "    labels_df = load_labels(\n",
    "        base_path=BASE_PATH,\n",
    "        model_id=model_id,\n",
    "        dataset_id=dataset_id,\n",
    "        prompt_id=prompt_id,\n",
    "        subset_id=subset_id,\n",
    "    )\n",
    "\n",
    "    check_indices = None\n",
    "    for layer in config_df[\"layer\"].astype(int).sort_values():\n",
    "        print(f\"{layer=}\", end=\", \")\n",
    "        activations, indices = load_activations(\n",
    "            base_path=BASE_PATH,\n",
    "            model_id=model_id,\n",
    "            dataset_id=dataset_id,\n",
    "            prompt_id=prompt_id,\n",
    "            subset_id=subset_id,\n",
    "            input_type=input_type,\n",
    "            layer=layer,\n",
    "        )\n",
    "        \n",
    "        if check_indices is None:\n",
    "            check_indices = indices.sample(frac=1, replace=False)\n",
    "        \n",
    "        if set(indices) != set(check_indices):\n",
    "            raise RuntimeError(f\"indices across layers are not the same\")\n",
    "\n",
    "        labels_df_subset = labels_df.iloc[check_indices]\n",
    "        activations = activations[check_indices]\n",
    "\n",
    "        activations_handler = ActivationsHandler(\n",
    "            activations=activations,\n",
    "            labels=labels_df_subset[\"correct\"].astype(bool),\n",
    "        )\n",
    "\n",
    "        activations_handler, _ = activations_handler.reduce_dims(pca_components=PCA_COMPONENTS)\n",
    "\n",
    "        between_class_variance, within_class_variance = get_between_class_variance_and_within_class_variance(\n",
    "            activations_handler.sample_equally_across_groups(group_labels=(False, True)),\n",
    "            group_labels=(False, True),\n",
    "        )\n",
    "        between_over_within_class_variance_dict[\"model_id\"].append(model_id)\n",
    "        between_over_within_class_variance_dict[\"dataset_id\"].append(dataset_id)\n",
    "        between_over_within_class_variance_dict[\"prompt_id\"].append(prompt_id)\n",
    "        between_over_within_class_variance_dict[\"subset_id\"].append(subset_id)\n",
    "        between_over_within_class_variance_dict[\"input_type\"].append(input_type)\n",
    "        between_over_within_class_variance_dict[\"layer\"].append(layer)\n",
    "        between_over_within_class_variance_dict[\"between_class_variance\"].append(between_class_variance)\n",
    "        between_over_within_class_variance_dict[\"within_class_variance\"].append(within_class_variance)\n",
    "        between_over_within_class_variance_dict[\"between_over_within_class_variance\"].append(between_class_variance/within_class_variance)\n",
    "\n",
    "between_over_within_class_variance_df = pd.DataFrame(between_over_within_class_variance_dict)\n"
   ]
  },
  {
   "cell_type": "code",
   "execution_count": 7,
   "metadata": {},
   "outputs": [
    {
     "data": {
      "application/vnd.plotly.v1+json": {
       "config": {
        "plotlyServerURL": "https://plot.ly"
       },
       "data": [
        {
         "legendgroup": "('llama3.1_8b_chat', 'birth_years_4k', 'base', 'main', 'prompt_answer')",
         "line": {
          "color": "#1f77b4",
          "width": 2
         },
         "marker": {
          "size": 8
         },
         "mode": "lines+markers",
         "name": "('llama3.1_8b_chat', 'birth_years_4k', 'base', 'main', 'prompt_answer')",
         "type": "scatter",
         "x": {
          "bdata": "AAECAwQFBgcICQoLDA0ODxAREhMUFRYXGBkaGxwdHh8=",
          "dtype": "i1"
         },
         "y": {
          "bdata": "EHtbt7OOVz9cwA6g3q9aP6O10wY6j14/xVh+uuHOYD8qsKwrQAJlP+7rLzyBUmg/ZEM4+REnaT9T2N3Uq1puPzkr0EF6UnU/kQ9d+zUJdz8Qa+QzuW14P6vV0YVIYX0/3m8K1Bt+fz8280s5Uy6AP8lc7cG0A4A/XRUqmcXgfD9B5a2uDXB9PweeA27KOoA/58pCUbvhdz9iBZiD6pJ1P+BuObogn3Q/Uu2f3vGlcz9cfJ3kC5ByP16hy5bcg3E/9L4H7WmdcD9hTpaQHcVvP7DIsrmWjm0/kQzgts3Kbz+ddd9wz4JxP0Ik5H/SHnI/I2OVxJLgcz+lsoqIqKl7Pw==",
          "dtype": "f8"
         }
        },
        {
         "legendgroup": "('llama3.1_8b_chat', 'birth_years_4k', 'base', 'main', 'prompt_only')",
         "line": {
          "color": "#ff7f0e",
          "width": 2
         },
         "marker": {
          "size": 8
         },
         "mode": "lines+markers",
         "name": "('llama3.1_8b_chat', 'birth_years_4k', 'base', 'main', 'prompt_only')",
         "type": "scatter",
         "x": {
          "bdata": "AAECAwQFBgcICQoLDA0ODxAREhMUFRYXGBkaGxwdHh8=",
          "dtype": "i1"
         },
         "y": {
          "bdata": "EppDP7JIVz+RtQHyE79WP2UZD3c+HFw/L+JU9fk8Xz9oVfzD/M9jPzmj9YxtrWQ/AdMlPZIpZz8ukG6KC4dtP+bjZNId524/VuZ+TUBwcT8wWdqzTWhzP4Ti0YoQq3Q/IPXLyqzOeD//7tJusOJ6P33gwkJBJ3k/SPBTX2PzeD+o07rFa8N7PzJON2L/6Hw/49m8K+0ZfT+rEKgR2zV8PwOXS0Z8hHs/35C0mSeKez8pJvmyrgZ7PxIH66sxHHw/vySzLkoUej/uaQQ23Kx6P6JGRFI8T3s/WFV1Vp+7ez8PWRrrHrh7PxUubEQ8yHk/F4ILKknyeT8RVflDqZp2Pw==",
          "dtype": "f8"
         }
        },
        {
         "legendgroup": "('llama3.1_8b_chat', 'cities_10k', 'base', 'main', 'prompt_answer')",
         "line": {
          "color": "#2ca02c",
          "width": 2
         },
         "marker": {
          "size": 8
         },
         "mode": "lines+markers",
         "name": "('llama3.1_8b_chat', 'cities_10k', 'base', 'main', 'prompt_answer')",
         "type": "scatter",
         "x": {
          "bdata": "AAECAwQFBgcICQoLDA0ODxAREhMUFRYXGBkaGxwdHh8=",
          "dtype": "i1"
         },
         "y": {
          "bdata": "A3z9+Ck+ej/AXK0N8mV8Px9jgZ8tlYA/IC+Pe4kQgz9uwo5NHQyEPyUj0lDSVoU/nl0leNqkiT/1ij4iDHOIP6sghBCRJYo/Bd2d3ntmiz/7ypxvj4GKP6nYB40W64o/b4uLPTYviz+QWXc//ZmLPzkpOwmCLow/xUf9DPNbiz8dq6DEQPuJP23WUFZ1n4g/zCIF+vyfhj9NhffuoJqEP55jhcxIOYM/bU36b2tdgj/AN6GkAGKBP27txM5TroA/iGCkne5LgD8ilDXOR0SAP8RsHZAkPYA/qHdUa+c0gD/PmQpTZoCAP3mPnLR3S4A/0GoGpRzMgD96jhVMUeJ9Pw==",
          "dtype": "f8"
         }
        },
        {
         "legendgroup": "('llama3.1_8b_chat', 'cities_10k', 'base', 'main', 'prompt_only')",
         "line": {
          "color": "#d62728",
          "width": 2
         },
         "marker": {
          "size": 8
         },
         "mode": "lines+markers",
         "name": "('llama3.1_8b_chat', 'cities_10k', 'base', 'main', 'prompt_only')",
         "type": "scatter",
         "x": {
          "bdata": "AAECAwQFBgcICQoLDA0ODxAREhMUFRYXGBkaGxwdHh8=",
          "dtype": "i1"
         },
         "y": {
          "bdata": "8ZNYI7RQZz99MLO7QXVrPw4Gu7Kh03A/ziYedCcQcD9IRbyRe4FtP8LpHb+g1XA/dUq31Q25cz9RbT95W0Z5P6CnFWyyxn4/xyWbl93kgD/73bs9NYqAP1dm1A76xoE/y3GdRGd8gT/KRpvTnCiBPzXQEI61joA/JsrIeOHXgD9qYPsOnuJ+P5bCmY+26Hw/uymZPj4dez/lx8xCpfF3P3mGKzQ02XU/6NWIACBDdz/gWsLz8aJ2P+62Fm4rvHU/CD7op+CjdD/x7ZxBqRt1P757L5HkZnQ/Za5zWDPecz8QQN5BCPJzPxO2z1uxP3Q/HHMx6ssqdD9nPZPbsxZ+Pw==",
          "dtype": "f8"
         }
        },
        {
         "legendgroup": "('llama3.1_8b_chat', 'football_leagues_1k', 'base', 'main', 'prompt_answer')",
         "line": {
          "color": "#9467bd",
          "width": 2
         },
         "marker": {
          "size": 8
         },
         "mode": "lines+markers",
         "name": "('llama3.1_8b_chat', 'football_leagues_1k', 'base', 'main', 'prompt_answer')",
         "type": "scatter",
         "x": {
          "bdata": "AAECAwQFBgcICQoLDA0ODxAREhMUFRYXGBkaGxwdHh8=",
          "dtype": "i1"
         },
         "y": {
          "bdata": "liees6oUbT9cBrtKn5NwPx6af5JbgnM/GKtrdLbMdz9YxVB8/Et5P9Jz/UvQiXw/2sI1HcUnfj+Cnr1W6cd/P8YnBYFjvoA/Oca4y2T8gj+6Gk0iG86BPwl1D57E+YA/PG55jcxTgj+Dg931ybKEP4r/c9R0J4U/57TTbYDRgz9X5PXiBQGBP30YsVbsY4I/YGtbfR2ygT+yPK+5vGuAP6YZp3ibhX4/e0EDmWZwfT9UQBrGgoR8P0ukhXg3enw/YnNrWYhlez/YK0CiT0F6Pzkkqvm8ZXk/6Emn1UGOdz96WBibeFl2P9AG7BDVcXU/YcUfojcIdD/4X3nNuIdyPw==",
          "dtype": "f8"
         }
        },
        {
         "legendgroup": "('llama3.1_8b_chat', 'football_leagues_1k', 'base', 'main', 'prompt_only')",
         "line": {
          "color": "#8c564b",
          "width": 2
         },
         "marker": {
          "size": 8
         },
         "mode": "lines+markers",
         "name": "('llama3.1_8b_chat', 'football_leagues_1k', 'base', 'main', 'prompt_only')",
         "type": "scatter",
         "x": {
          "bdata": "AAECAwQFBgcICQoLDA0ODxAREhMUFRYXGBkaGxwdHh8=",
          "dtype": "i1"
         },
         "y": {
          "bdata": "Rrhmu4+4bT8OO1A0zehuP+mJCZacPXA/kmpjaLmQdj9JBqVAFZN+P3x1UjtjlI0/4xrsvPbolD+LMkF09OScP/Cnlsf7gbE/ECLBY7Besz/R/g3f4/m1P5p9Q/Ps67U/neX3Os2psz+ZaneqV3K3PwVPS1aVkLo/riUWWCzutj8wM4DU+s2xP8Dp/jRSo7Y/zKQZ0/IIuD+5qIrtIfK1P67ZD/Udo7M/qI80297ssT8spR7R6YGwP2ha+05N3ac/wMTwz6luoT/crHG8avSdP3hO9J1Eu5w/JtpeMNKDmz/M78vL+0SaPw87CHwstZk/xWraOHkmmT9efC2CNWCXPw==",
          "dtype": "f8"
         }
        },
        {
         "legendgroup": "('llama3.1_8b_chat', 'gsm8k', 'base_3_shot', 'main', 'prompt_answer')",
         "line": {
          "color": "#1f77b4",
          "width": 2
         },
         "marker": {
          "size": 8
         },
         "mode": "lines+markers",
         "name": "('llama3.1_8b_chat', 'gsm8k', 'base_3_shot', 'main', 'prompt_answer')",
         "type": "scatter",
         "x": {
          "bdata": "AAECAwQFBgcICQoLDA0ODxAREhMUFRYXGBkaGxwdHh8=",
          "dtype": "i1"
         },
         "y": {
          "bdata": "cqdSb/5GUz/ZKOsvnOdRPxDAkTGzpVA/Pb5cm2r/UT8YEKLsou1TP88UbNM9TVU/6FbSrzQlVT8nzhPQM3VWPye8BrzjgFY/6NcvkYt5WD/qBqTErC1XP1O0v/AYi1U/+j/ucLsuWj+o1U3XwKZaPwHOuiwYVFo/DC7kPrAfWz+pawWJjMVbP6ePi6PKIV0/2HekplZvXD80Xi4TG8FaP5kjjCij9Fk/jVWOzzeYWT8eH5DeEtxZP9dxbaGbZVk/taCpHw5xWj8aOqi+eZVbPz2un3S+eF0/xxNDlornYD9urKEHztVgP2sbMZB8XGE/y1yRR2YYYj+3zorYDaRhPw==",
          "dtype": "f8"
         }
        },
        {
         "legendgroup": "('llama3.1_8b_chat', 'gsm8k', 'base_3_shot', 'main', 'prompt_only')",
         "line": {
          "color": "#ff7f0e",
          "width": 2
         },
         "marker": {
          "size": 8
         },
         "mode": "lines+markers",
         "name": "('llama3.1_8b_chat', 'gsm8k', 'base_3_shot', 'main', 'prompt_only')",
         "type": "scatter",
         "x": {
          "bdata": "AAECAwQFBgcICQoLDA0ODxAREhMUFRYXGBkaGxwdHh8=",
          "dtype": "i1"
         },
         "y": {
          "bdata": "y2fqK/HuTj/WOJ9zU3xUPwdz9JV8plM/zgsDxRDAUj+JBg0KlH1SP7od+Gqzw1A/UanNMKXiUD+SvguwO0NSP6lTjeH2kFM/YhXqNxLpUz+VS4x/L7JTPwynCBdvpFI/N9KyvPsJVz+bEl0ZFIZYP3AlbusUy1k/gJcgpzqoXD/pNiUVdm9bP494Uc2jvV0/Iatq0FUlXD8vEXuATIlaPzD9lmYRs1o/PwfQm4WPXD859saZGY1cP1TzEIWjS1w/eD2I9eFhWz9u/Bp7MGdbPzrpXIQVilw/NZPOwhqJXT9NlLVJGPhdP9S6Q6/i5l4/jqD1phZaXz8LXx3L0x1YPw==",
          "dtype": "f8"
         }
        },
        {
         "legendgroup": "('llama3.1_8b_chat', 'gsm8k', 'cot_3_shot', 'main', 'prompt_answer')",
         "line": {
          "color": "#2ca02c",
          "width": 2
         },
         "marker": {
          "size": 8
         },
         "mode": "lines+markers",
         "name": "('llama3.1_8b_chat', 'gsm8k', 'cot_3_shot', 'main', 'prompt_answer')",
         "type": "scatter",
         "x": {
          "bdata": "AAECAwQFBgcICQoLDA0ODxAREhMUFRYXGBkaGxwdHh8=",
          "dtype": "i1"
         },
         "y": {
          "bdata": "CXXk+r7kVT/aKoJ7pHJSP6B69lDbs1A/qjTNkbdGUT/8zHqsb0xSPxXBfB8kylM/i3g7DPk2VD9bl/3LapdWPx0ml3jDTlY/0VY8+XQwVj/4vVSLLbtVPwz9E86CCVY/uiwSE2JdWD/DFxTk7q1YPxlKjSof+lc/t2u6PLTsVj+smPubGpBXP64mEHNz61c/m8Y34u/CVT89e7VDYUxVP193x1xWB1U/0UeOuwlMVD+8i728vRVUP58IxNejnVM/zb1fsVc5VT/FsvISc8tWP2o3UuuGd1k/cpWR17AUXj9YbDoRsulcPz90HnFctFw/5DKKs8UmXT/CL0Q4I9hcPw==",
          "dtype": "f8"
         }
        },
        {
         "legendgroup": "('llama3.1_8b_chat', 'gsm8k', 'cot_3_shot', 'main', 'prompt_only')",
         "line": {
          "color": "#d62728",
          "width": 2
         },
         "marker": {
          "size": 8
         },
         "mode": "lines+markers",
         "name": "('llama3.1_8b_chat', 'gsm8k', 'cot_3_shot', 'main', 'prompt_only')",
         "type": "scatter",
         "x": {
          "bdata": "AAECAwQFBgcICQoLDA0ODxAREhMUFRYXGBkaGxwdHh8=",
          "dtype": "i1"
         },
         "y": {
          "bdata": "+kS6dBZfQz9X9Jsh9+VJP5YDmC6cAUg/uZizmrdqSz8d+OIj0F1QP/c7E2P1ak8/JcnvebvjTj9r8Y5xJQdPPz8HCGD9bE8/ORoMQWTATj89O26zBZNPP30DqR2agk8/niY4x+zIUT+8oeUqittSPwVcVPGVmVI/pfuz4Q/fUT/F147TvrJRP7I5ZgkuilE/jKyEPmmeUT/akjJC6nJRP+QhAMc8lFA/xll2h2q3UD8t2kziGkFRPzsAjLvPiFA/GmfTadEdUD8F0EvNBlhQP5ML4xpTp1A/lyhhXr/WTz9ElEZrTYtQP9YGCfgBfFE/imNBjeQgUT94jK3r5WFRPw==",
          "dtype": "f8"
         }
        },
        {
         "legendgroup": "('llama3.1_8b_chat', 'medals_9k', 'base', 'main', 'prompt_answer')",
         "line": {
          "color": "#9467bd",
          "width": 2
         },
         "marker": {
          "size": 8
         },
         "mode": "lines+markers",
         "name": "('llama3.1_8b_chat', 'medals_9k', 'base', 'main', 'prompt_answer')",
         "type": "scatter",
         "x": {
          "bdata": "AAECAwQFBgcICQoLDA0ODxAREhMUFRYXGBkaGxwdHh8=",
          "dtype": "i1"
         },
         "y": {
          "bdata": "Ybb+jlGvaT/Y5su8iKNvP9Hur6lLFXE/n8KHVHBWcj/UVTMsV2FyP3aakipJHHE/BycbBoLUcT8c0KYJqbpyP/LLE+aHFnU/7F+VItgveD8IWPli2zB2P44DKAWXl3U/RH2MRjg5eD8RzJyBcYJ5P8hwz56B6nk/ORDsf86Nez97oA1SbrF7P1S6XD2oH3s/sYTJ+7k0eT+OhdzCKfx3P6bxSRFcz3Y/n6H3gTHJeD8xVC+jxuZ3P6XK8h8Bx3Y/93OOfT31dT/X61nNOmR0Pw6EsDPTLXM//K7AJ9X0cT+5rF+8pC1xP+/TI1pqs3A/4LzqB7LEcD+Ave8eoBp0Pw==",
          "dtype": "f8"
         }
        },
        {
         "legendgroup": "('llama3.1_8b_chat', 'medals_9k', 'base', 'main', 'prompt_only')",
         "line": {
          "color": "#8c564b",
          "width": 2
         },
         "marker": {
          "size": 8
         },
         "mode": "lines+markers",
         "name": "('llama3.1_8b_chat', 'medals_9k', 'base', 'main', 'prompt_only')",
         "type": "scatter",
         "x": {
          "bdata": "AAECAwQFBgcICQoLDA0ODxAREhMUFRYXGBkaGxwdHh8=",
          "dtype": "i1"
         },
         "y": {
          "bdata": "p0Jq+p83az9l1iC1WvlrPw0LMsie8Gk/Lb3SwNkzcD/+90xpzFtzP2d/l4C0lHM/6w1cg5lHcz/9MJCzCOJyP4mkva6ZtXM/O1APIuSvdD+A82DuVxVzP7ECC8teD3I/x1YzKtQ9dD+NvhKhu0F1P81tGeY/U3U/CsdQ0SkAdz/F32wag253P1aDCeP2DHY/xpiuNwTFdT+p8OV+8nt1P3EbiljTJ3Q/77I6PFEMdT8EYm0use10P96kzJCB93Q/zWSNOL64cz/sBFV/AwpzP+DuJw5DgXI/HmlX2N6AcT+oRNosFVBwP4bLe/Kf+28/bhrLErRibz+3e3eycFlmPw==",
          "dtype": "f8"
         }
        }
       ],
       "layout": {
        "font": {
         "color": "white"
        },
        "height": 600,
        "legend": {
         "bgcolor": "rgba(32, 32, 32, 0.8)",
         "orientation": "h",
         "x": 0.5,
         "xanchor": "center",
         "y": 1.02,
         "yanchor": "bottom"
        },
        "margin": {
         "b": 50,
         "l": 50,
         "r": 30,
         "t": 100
        },
        "paper_bgcolor": "rgba(32, 32, 32, 1)",
        "plot_bgcolor": "rgba(32, 32, 32, 1)",
        "showlegend": true,
        "template": {
         "data": {
          "bar": [
           {
            "error_x": {
             "color": "#f2f5fa"
            },
            "error_y": {
             "color": "#f2f5fa"
            },
            "marker": {
             "line": {
              "color": "rgb(17,17,17)",
              "width": 0.5
             },
             "pattern": {
              "fillmode": "overlay",
              "size": 10,
              "solidity": 0.2
             }
            },
            "type": "bar"
           }
          ],
          "barpolar": [
           {
            "marker": {
             "line": {
              "color": "rgb(17,17,17)",
              "width": 0.5
             },
             "pattern": {
              "fillmode": "overlay",
              "size": 10,
              "solidity": 0.2
             }
            },
            "type": "barpolar"
           }
          ],
          "carpet": [
           {
            "aaxis": {
             "endlinecolor": "#A2B1C6",
             "gridcolor": "#506784",
             "linecolor": "#506784",
             "minorgridcolor": "#506784",
             "startlinecolor": "#A2B1C6"
            },
            "baxis": {
             "endlinecolor": "#A2B1C6",
             "gridcolor": "#506784",
             "linecolor": "#506784",
             "minorgridcolor": "#506784",
             "startlinecolor": "#A2B1C6"
            },
            "type": "carpet"
           }
          ],
          "choropleth": [
           {
            "colorbar": {
             "outlinewidth": 0,
             "ticks": ""
            },
            "type": "choropleth"
           }
          ],
          "contour": [
           {
            "colorbar": {
             "outlinewidth": 0,
             "ticks": ""
            },
            "colorscale": [
             [
              0,
              "#0d0887"
             ],
             [
              0.1111111111111111,
              "#46039f"
             ],
             [
              0.2222222222222222,
              "#7201a8"
             ],
             [
              0.3333333333333333,
              "#9c179e"
             ],
             [
              0.4444444444444444,
              "#bd3786"
             ],
             [
              0.5555555555555556,
              "#d8576b"
             ],
             [
              0.6666666666666666,
              "#ed7953"
             ],
             [
              0.7777777777777778,
              "#fb9f3a"
             ],
             [
              0.8888888888888888,
              "#fdca26"
             ],
             [
              1,
              "#f0f921"
             ]
            ],
            "type": "contour"
           }
          ],
          "contourcarpet": [
           {
            "colorbar": {
             "outlinewidth": 0,
             "ticks": ""
            },
            "type": "contourcarpet"
           }
          ],
          "heatmap": [
           {
            "colorbar": {
             "outlinewidth": 0,
             "ticks": ""
            },
            "colorscale": [
             [
              0,
              "#0d0887"
             ],
             [
              0.1111111111111111,
              "#46039f"
             ],
             [
              0.2222222222222222,
              "#7201a8"
             ],
             [
              0.3333333333333333,
              "#9c179e"
             ],
             [
              0.4444444444444444,
              "#bd3786"
             ],
             [
              0.5555555555555556,
              "#d8576b"
             ],
             [
              0.6666666666666666,
              "#ed7953"
             ],
             [
              0.7777777777777778,
              "#fb9f3a"
             ],
             [
              0.8888888888888888,
              "#fdca26"
             ],
             [
              1,
              "#f0f921"
             ]
            ],
            "type": "heatmap"
           }
          ],
          "histogram": [
           {
            "marker": {
             "pattern": {
              "fillmode": "overlay",
              "size": 10,
              "solidity": 0.2
             }
            },
            "type": "histogram"
           }
          ],
          "histogram2d": [
           {
            "colorbar": {
             "outlinewidth": 0,
             "ticks": ""
            },
            "colorscale": [
             [
              0,
              "#0d0887"
             ],
             [
              0.1111111111111111,
              "#46039f"
             ],
             [
              0.2222222222222222,
              "#7201a8"
             ],
             [
              0.3333333333333333,
              "#9c179e"
             ],
             [
              0.4444444444444444,
              "#bd3786"
             ],
             [
              0.5555555555555556,
              "#d8576b"
             ],
             [
              0.6666666666666666,
              "#ed7953"
             ],
             [
              0.7777777777777778,
              "#fb9f3a"
             ],
             [
              0.8888888888888888,
              "#fdca26"
             ],
             [
              1,
              "#f0f921"
             ]
            ],
            "type": "histogram2d"
           }
          ],
          "histogram2dcontour": [
           {
            "colorbar": {
             "outlinewidth": 0,
             "ticks": ""
            },
            "colorscale": [
             [
              0,
              "#0d0887"
             ],
             [
              0.1111111111111111,
              "#46039f"
             ],
             [
              0.2222222222222222,
              "#7201a8"
             ],
             [
              0.3333333333333333,
              "#9c179e"
             ],
             [
              0.4444444444444444,
              "#bd3786"
             ],
             [
              0.5555555555555556,
              "#d8576b"
             ],
             [
              0.6666666666666666,
              "#ed7953"
             ],
             [
              0.7777777777777778,
              "#fb9f3a"
             ],
             [
              0.8888888888888888,
              "#fdca26"
             ],
             [
              1,
              "#f0f921"
             ]
            ],
            "type": "histogram2dcontour"
           }
          ],
          "mesh3d": [
           {
            "colorbar": {
             "outlinewidth": 0,
             "ticks": ""
            },
            "type": "mesh3d"
           }
          ],
          "parcoords": [
           {
            "line": {
             "colorbar": {
              "outlinewidth": 0,
              "ticks": ""
             }
            },
            "type": "parcoords"
           }
          ],
          "pie": [
           {
            "automargin": true,
            "type": "pie"
           }
          ],
          "scatter": [
           {
            "marker": {
             "line": {
              "color": "#283442"
             }
            },
            "type": "scatter"
           }
          ],
          "scatter3d": [
           {
            "line": {
             "colorbar": {
              "outlinewidth": 0,
              "ticks": ""
             }
            },
            "marker": {
             "colorbar": {
              "outlinewidth": 0,
              "ticks": ""
             }
            },
            "type": "scatter3d"
           }
          ],
          "scattercarpet": [
           {
            "marker": {
             "colorbar": {
              "outlinewidth": 0,
              "ticks": ""
             }
            },
            "type": "scattercarpet"
           }
          ],
          "scattergeo": [
           {
            "marker": {
             "colorbar": {
              "outlinewidth": 0,
              "ticks": ""
             }
            },
            "type": "scattergeo"
           }
          ],
          "scattergl": [
           {
            "marker": {
             "line": {
              "color": "#283442"
             }
            },
            "type": "scattergl"
           }
          ],
          "scattermap": [
           {
            "marker": {
             "colorbar": {
              "outlinewidth": 0,
              "ticks": ""
             }
            },
            "type": "scattermap"
           }
          ],
          "scattermapbox": [
           {
            "marker": {
             "colorbar": {
              "outlinewidth": 0,
              "ticks": ""
             }
            },
            "type": "scattermapbox"
           }
          ],
          "scatterpolar": [
           {
            "marker": {
             "colorbar": {
              "outlinewidth": 0,
              "ticks": ""
             }
            },
            "type": "scatterpolar"
           }
          ],
          "scatterpolargl": [
           {
            "marker": {
             "colorbar": {
              "outlinewidth": 0,
              "ticks": ""
             }
            },
            "type": "scatterpolargl"
           }
          ],
          "scatterternary": [
           {
            "marker": {
             "colorbar": {
              "outlinewidth": 0,
              "ticks": ""
             }
            },
            "type": "scatterternary"
           }
          ],
          "surface": [
           {
            "colorbar": {
             "outlinewidth": 0,
             "ticks": ""
            },
            "colorscale": [
             [
              0,
              "#0d0887"
             ],
             [
              0.1111111111111111,
              "#46039f"
             ],
             [
              0.2222222222222222,
              "#7201a8"
             ],
             [
              0.3333333333333333,
              "#9c179e"
             ],
             [
              0.4444444444444444,
              "#bd3786"
             ],
             [
              0.5555555555555556,
              "#d8576b"
             ],
             [
              0.6666666666666666,
              "#ed7953"
             ],
             [
              0.7777777777777778,
              "#fb9f3a"
             ],
             [
              0.8888888888888888,
              "#fdca26"
             ],
             [
              1,
              "#f0f921"
             ]
            ],
            "type": "surface"
           }
          ],
          "table": [
           {
            "cells": {
             "fill": {
              "color": "#506784"
             },
             "line": {
              "color": "rgb(17,17,17)"
             }
            },
            "header": {
             "fill": {
              "color": "#2a3f5f"
             },
             "line": {
              "color": "rgb(17,17,17)"
             }
            },
            "type": "table"
           }
          ]
         },
         "layout": {
          "annotationdefaults": {
           "arrowcolor": "#f2f5fa",
           "arrowhead": 0,
           "arrowwidth": 1
          },
          "autotypenumbers": "strict",
          "coloraxis": {
           "colorbar": {
            "outlinewidth": 0,
            "ticks": ""
           }
          },
          "colorscale": {
           "diverging": [
            [
             0,
             "#8e0152"
            ],
            [
             0.1,
             "#c51b7d"
            ],
            [
             0.2,
             "#de77ae"
            ],
            [
             0.3,
             "#f1b6da"
            ],
            [
             0.4,
             "#fde0ef"
            ],
            [
             0.5,
             "#f7f7f7"
            ],
            [
             0.6,
             "#e6f5d0"
            ],
            [
             0.7,
             "#b8e186"
            ],
            [
             0.8,
             "#7fbc41"
            ],
            [
             0.9,
             "#4d9221"
            ],
            [
             1,
             "#276419"
            ]
           ],
           "sequential": [
            [
             0,
             "#0d0887"
            ],
            [
             0.1111111111111111,
             "#46039f"
            ],
            [
             0.2222222222222222,
             "#7201a8"
            ],
            [
             0.3333333333333333,
             "#9c179e"
            ],
            [
             0.4444444444444444,
             "#bd3786"
            ],
            [
             0.5555555555555556,
             "#d8576b"
            ],
            [
             0.6666666666666666,
             "#ed7953"
            ],
            [
             0.7777777777777778,
             "#fb9f3a"
            ],
            [
             0.8888888888888888,
             "#fdca26"
            ],
            [
             1,
             "#f0f921"
            ]
           ],
           "sequentialminus": [
            [
             0,
             "#0d0887"
            ],
            [
             0.1111111111111111,
             "#46039f"
            ],
            [
             0.2222222222222222,
             "#7201a8"
            ],
            [
             0.3333333333333333,
             "#9c179e"
            ],
            [
             0.4444444444444444,
             "#bd3786"
            ],
            [
             0.5555555555555556,
             "#d8576b"
            ],
            [
             0.6666666666666666,
             "#ed7953"
            ],
            [
             0.7777777777777778,
             "#fb9f3a"
            ],
            [
             0.8888888888888888,
             "#fdca26"
            ],
            [
             1,
             "#f0f921"
            ]
           ]
          },
          "colorway": [
           "#636efa",
           "#EF553B",
           "#00cc96",
           "#ab63fa",
           "#FFA15A",
           "#19d3f3",
           "#FF6692",
           "#B6E880",
           "#FF97FF",
           "#FECB52"
          ],
          "font": {
           "color": "#f2f5fa"
          },
          "geo": {
           "bgcolor": "rgb(17,17,17)",
           "lakecolor": "rgb(17,17,17)",
           "landcolor": "rgb(17,17,17)",
           "showlakes": true,
           "showland": true,
           "subunitcolor": "#506784"
          },
          "hoverlabel": {
           "align": "left"
          },
          "hovermode": "closest",
          "mapbox": {
           "style": "dark"
          },
          "paper_bgcolor": "rgb(17,17,17)",
          "plot_bgcolor": "rgb(17,17,17)",
          "polar": {
           "angularaxis": {
            "gridcolor": "#506784",
            "linecolor": "#506784",
            "ticks": ""
           },
           "bgcolor": "rgb(17,17,17)",
           "radialaxis": {
            "gridcolor": "#506784",
            "linecolor": "#506784",
            "ticks": ""
           }
          },
          "scene": {
           "xaxis": {
            "backgroundcolor": "rgb(17,17,17)",
            "gridcolor": "#506784",
            "gridwidth": 2,
            "linecolor": "#506784",
            "showbackground": true,
            "ticks": "",
            "zerolinecolor": "#C8D4E3"
           },
           "yaxis": {
            "backgroundcolor": "rgb(17,17,17)",
            "gridcolor": "#506784",
            "gridwidth": 2,
            "linecolor": "#506784",
            "showbackground": true,
            "ticks": "",
            "zerolinecolor": "#C8D4E3"
           },
           "zaxis": {
            "backgroundcolor": "rgb(17,17,17)",
            "gridcolor": "#506784",
            "gridwidth": 2,
            "linecolor": "#506784",
            "showbackground": true,
            "ticks": "",
            "zerolinecolor": "#C8D4E3"
           }
          },
          "shapedefaults": {
           "line": {
            "color": "#f2f5fa"
           }
          },
          "sliderdefaults": {
           "bgcolor": "#C8D4E3",
           "bordercolor": "rgb(17,17,17)",
           "borderwidth": 1,
           "tickwidth": 0
          },
          "ternary": {
           "aaxis": {
            "gridcolor": "#506784",
            "linecolor": "#506784",
            "ticks": ""
           },
           "baxis": {
            "gridcolor": "#506784",
            "linecolor": "#506784",
            "ticks": ""
           },
           "bgcolor": "rgb(17,17,17)",
           "caxis": {
            "gridcolor": "#506784",
            "linecolor": "#506784",
            "ticks": ""
           }
          },
          "title": {
           "x": 0.05
          },
          "updatemenudefaults": {
           "bgcolor": "#506784",
           "borderwidth": 0
          },
          "xaxis": {
           "automargin": true,
           "gridcolor": "#283442",
           "linecolor": "#506784",
           "ticks": "",
           "title": {
            "standoff": 15
           },
           "zerolinecolor": "#283442",
           "zerolinewidth": 2
          },
          "yaxis": {
           "automargin": true,
           "gridcolor": "#283442",
           "linecolor": "#506784",
           "ticks": "",
           "title": {
            "standoff": 15
           },
           "zerolinecolor": "#283442",
           "zerolinewidth": 2
          }
         }
        },
        "title": {},
        "width": 1000,
        "xaxis": {
         "gridcolor": "rgba(128, 128, 128, 0.2)",
         "title": {
          "text": "Layer"
         },
         "zeroline": false
        },
        "yaxis": {
         "gridcolor": "rgba(128, 128, 128, 0.2)",
         "title": {
          "text": "Between Class Variance / Within Class Variance"
         },
         "zeroline": false
        }
       }
      }
     },
     "metadata": {},
     "output_type": "display_data"
    }
   ],
   "source": [
    "plot_interactive_lineplot(\n",
    "    df_dict={str(k): v.set_index(\"layer\")[[\"between_over_within_class_variance\"]] for k, v in between_over_within_class_variance_df.groupby([\"model_id\", \"dataset_id\", \"prompt_id\", \"subset_id\", \"input_type\"])},\n",
    "    x_label=\"Layer\",\n",
    "    y_label=\"Between Class Variance / Within Class Variance\",\n",
    "    save_path=f\"./classification_data/figures/res_df_llama31_8B_4_memory_datasets_between_over_within_class_variance{PCA_COMONENTS_LABEL}.html\"\n",
    ")"
   ]
  },
  {
   "cell_type": "code",
   "execution_count": 8,
   "metadata": {},
   "outputs": [
    {
     "name": "stdout",
     "output_type": "stream",
     "text": [
      "\n",
      "model_id='llama3.1_8b_chat', dataset_id='birth_years_4k', prompt_id='base', subset_id='main', input_type='prompt_answer'\n",
      "layer=0, "
     ]
    },
    {
     "name": "stderr",
     "output_type": "stream",
     "text": [
      "/Users/anton/dev/MARS/correctness-model-internals/venv/lib/python3.11/site-packages/sklearn/linear_model/_logistic.py:469: ConvergenceWarning:\n",
      "\n",
      "lbfgs failed to converge (status=1):\n",
      "STOP: TOTAL NO. OF ITERATIONS REACHED LIMIT.\n",
      "\n",
      "Increase the number of iterations (max_iter) or scale the data as shown in:\n",
      "    https://scikit-learn.org/stable/modules/preprocessing.html\n",
      "Please also refer to the documentation for alternative solver options:\n",
      "    https://scikit-learn.org/stable/modules/linear_model.html#logistic-regression\n",
      "\n",
      "/Users/anton/dev/MARS/correctness-model-internals/venv/lib/python3.11/site-packages/sklearn/linear_model/_logistic.py:469: ConvergenceWarning:\n",
      "\n",
      "lbfgs failed to converge (status=1):\n",
      "STOP: TOTAL NO. OF ITERATIONS REACHED LIMIT.\n",
      "\n",
      "Increase the number of iterations (max_iter) or scale the data as shown in:\n",
      "    https://scikit-learn.org/stable/modules/preprocessing.html\n",
      "Please also refer to the documentation for alternative solver options:\n",
      "    https://scikit-learn.org/stable/modules/linear_model.html#logistic-regression\n",
      "\n",
      "/Users/anton/dev/MARS/correctness-model-internals/venv/lib/python3.11/site-packages/sklearn/linear_model/_logistic.py:469: ConvergenceWarning:\n",
      "\n",
      "lbfgs failed to converge (status=1):\n",
      "STOP: TOTAL NO. OF ITERATIONS REACHED LIMIT.\n",
      "\n",
      "Increase the number of iterations (max_iter) or scale the data as shown in:\n",
      "    https://scikit-learn.org/stable/modules/preprocessing.html\n",
      "Please also refer to the documentation for alternative solver options:\n",
      "    https://scikit-learn.org/stable/modules/linear_model.html#logistic-regression\n",
      "\n",
      "/Users/anton/dev/MARS/correctness-model-internals/venv/lib/python3.11/site-packages/sklearn/linear_model/_logistic.py:469: ConvergenceWarning:\n",
      "\n",
      "lbfgs failed to converge (status=1):\n",
      "STOP: TOTAL NO. OF ITERATIONS REACHED LIMIT.\n",
      "\n",
      "Increase the number of iterations (max_iter) or scale the data as shown in:\n",
      "    https://scikit-learn.org/stable/modules/preprocessing.html\n",
      "Please also refer to the documentation for alternative solver options:\n",
      "    https://scikit-learn.org/stable/modules/linear_model.html#logistic-regression\n",
      "\n",
      "/Users/anton/dev/MARS/correctness-model-internals/venv/lib/python3.11/site-packages/sklearn/linear_model/_logistic.py:469: ConvergenceWarning:\n",
      "\n",
      "lbfgs failed to converge (status=1):\n",
      "STOP: TOTAL NO. OF ITERATIONS REACHED LIMIT.\n",
      "\n",
      "Increase the number of iterations (max_iter) or scale the data as shown in:\n",
      "    https://scikit-learn.org/stable/modules/preprocessing.html\n",
      "Please also refer to the documentation for alternative solver options:\n",
      "    https://scikit-learn.org/stable/modules/linear_model.html#logistic-regression\n",
      "\n"
     ]
    },
    {
     "name": "stdout",
     "output_type": "stream",
     "text": [
      "layer=1, "
     ]
    },
    {
     "name": "stderr",
     "output_type": "stream",
     "text": [
      "/Users/anton/dev/MARS/correctness-model-internals/venv/lib/python3.11/site-packages/sklearn/linear_model/_logistic.py:469: ConvergenceWarning:\n",
      "\n",
      "lbfgs failed to converge (status=1):\n",
      "STOP: TOTAL NO. OF ITERATIONS REACHED LIMIT.\n",
      "\n",
      "Increase the number of iterations (max_iter) or scale the data as shown in:\n",
      "    https://scikit-learn.org/stable/modules/preprocessing.html\n",
      "Please also refer to the documentation for alternative solver options:\n",
      "    https://scikit-learn.org/stable/modules/linear_model.html#logistic-regression\n",
      "\n",
      "/Users/anton/dev/MARS/correctness-model-internals/venv/lib/python3.11/site-packages/sklearn/linear_model/_logistic.py:469: ConvergenceWarning:\n",
      "\n",
      "lbfgs failed to converge (status=1):\n",
      "STOP: TOTAL NO. OF ITERATIONS REACHED LIMIT.\n",
      "\n",
      "Increase the number of iterations (max_iter) or scale the data as shown in:\n",
      "    https://scikit-learn.org/stable/modules/preprocessing.html\n",
      "Please also refer to the documentation for alternative solver options:\n",
      "    https://scikit-learn.org/stable/modules/linear_model.html#logistic-regression\n",
      "\n",
      "/Users/anton/dev/MARS/correctness-model-internals/venv/lib/python3.11/site-packages/sklearn/linear_model/_logistic.py:469: ConvergenceWarning:\n",
      "\n",
      "lbfgs failed to converge (status=1):\n",
      "STOP: TOTAL NO. OF ITERATIONS REACHED LIMIT.\n",
      "\n",
      "Increase the number of iterations (max_iter) or scale the data as shown in:\n",
      "    https://scikit-learn.org/stable/modules/preprocessing.html\n",
      "Please also refer to the documentation for alternative solver options:\n",
      "    https://scikit-learn.org/stable/modules/linear_model.html#logistic-regression\n",
      "\n",
      "/Users/anton/dev/MARS/correctness-model-internals/venv/lib/python3.11/site-packages/sklearn/linear_model/_logistic.py:469: ConvergenceWarning:\n",
      "\n",
      "lbfgs failed to converge (status=1):\n",
      "STOP: TOTAL NO. OF ITERATIONS REACHED LIMIT.\n",
      "\n",
      "Increase the number of iterations (max_iter) or scale the data as shown in:\n",
      "    https://scikit-learn.org/stable/modules/preprocessing.html\n",
      "Please also refer to the documentation for alternative solver options:\n",
      "    https://scikit-learn.org/stable/modules/linear_model.html#logistic-regression\n",
      "\n",
      "/Users/anton/dev/MARS/correctness-model-internals/venv/lib/python3.11/site-packages/sklearn/linear_model/_logistic.py:469: ConvergenceWarning:\n",
      "\n",
      "lbfgs failed to converge (status=1):\n",
      "STOP: TOTAL NO. OF ITERATIONS REACHED LIMIT.\n",
      "\n",
      "Increase the number of iterations (max_iter) or scale the data as shown in:\n",
      "    https://scikit-learn.org/stable/modules/preprocessing.html\n",
      "Please also refer to the documentation for alternative solver options:\n",
      "    https://scikit-learn.org/stable/modules/linear_model.html#logistic-regression\n",
      "\n"
     ]
    },
    {
     "name": "stdout",
     "output_type": "stream",
     "text": [
      "layer=2, "
     ]
    },
    {
     "name": "stderr",
     "output_type": "stream",
     "text": [
      "/Users/anton/dev/MARS/correctness-model-internals/venv/lib/python3.11/site-packages/sklearn/linear_model/_logistic.py:469: ConvergenceWarning:\n",
      "\n",
      "lbfgs failed to converge (status=1):\n",
      "STOP: TOTAL NO. OF ITERATIONS REACHED LIMIT.\n",
      "\n",
      "Increase the number of iterations (max_iter) or scale the data as shown in:\n",
      "    https://scikit-learn.org/stable/modules/preprocessing.html\n",
      "Please also refer to the documentation for alternative solver options:\n",
      "    https://scikit-learn.org/stable/modules/linear_model.html#logistic-regression\n",
      "\n",
      "/Users/anton/dev/MARS/correctness-model-internals/venv/lib/python3.11/site-packages/sklearn/linear_model/_logistic.py:469: ConvergenceWarning:\n",
      "\n",
      "lbfgs failed to converge (status=1):\n",
      "STOP: TOTAL NO. OF ITERATIONS REACHED LIMIT.\n",
      "\n",
      "Increase the number of iterations (max_iter) or scale the data as shown in:\n",
      "    https://scikit-learn.org/stable/modules/preprocessing.html\n",
      "Please also refer to the documentation for alternative solver options:\n",
      "    https://scikit-learn.org/stable/modules/linear_model.html#logistic-regression\n",
      "\n"
     ]
    },
    {
     "name": "stdout",
     "output_type": "stream",
     "text": [
      "layer=3, layer=4, layer=5, layer=6, layer=7, layer=8, layer=9, layer=10, layer=11, layer=12, layer=13, layer=14, layer=15, layer=16, layer=17, layer=18, layer=19, layer=20, layer=21, layer=22, layer=23, layer=24, layer=25, layer=26, layer=27, layer=28, layer=29, layer=30, layer=31, \n",
      "model_id='llama3.1_8b_chat', dataset_id='birth_years_4k', prompt_id='base', subset_id='main', input_type='prompt_only'\n",
      "layer=0, "
     ]
    },
    {
     "name": "stderr",
     "output_type": "stream",
     "text": [
      "/Users/anton/dev/MARS/correctness-model-internals/venv/lib/python3.11/site-packages/sklearn/linear_model/_logistic.py:469: ConvergenceWarning:\n",
      "\n",
      "lbfgs failed to converge (status=1):\n",
      "STOP: TOTAL NO. OF ITERATIONS REACHED LIMIT.\n",
      "\n",
      "Increase the number of iterations (max_iter) or scale the data as shown in:\n",
      "    https://scikit-learn.org/stable/modules/preprocessing.html\n",
      "Please also refer to the documentation for alternative solver options:\n",
      "    https://scikit-learn.org/stable/modules/linear_model.html#logistic-regression\n",
      "\n"
     ]
    },
    {
     "name": "stdout",
     "output_type": "stream",
     "text": [
      "layer=1, layer=2, layer=3, layer=4, layer=5, layer=6, layer=7, layer=8, layer=9, layer=10, layer=11, layer=12, layer=13, layer=14, layer=15, layer=16, layer=17, layer=18, layer=19, layer=20, layer=21, layer=22, layer=23, layer=24, layer=25, layer=26, layer=27, layer=28, layer=29, layer=30, layer=31, \n",
      "model_id='llama3.1_8b_chat', dataset_id='cities_10k', prompt_id='base', subset_id='main', input_type='prompt_answer'\n",
      "layer=0, "
     ]
    },
    {
     "name": "stderr",
     "output_type": "stream",
     "text": [
      "/Users/anton/dev/MARS/correctness-model-internals/venv/lib/python3.11/site-packages/sklearn/linear_model/_logistic.py:469: ConvergenceWarning:\n",
      "\n",
      "lbfgs failed to converge (status=1):\n",
      "STOP: TOTAL NO. OF ITERATIONS REACHED LIMIT.\n",
      "\n",
      "Increase the number of iterations (max_iter) or scale the data as shown in:\n",
      "    https://scikit-learn.org/stable/modules/preprocessing.html\n",
      "Please also refer to the documentation for alternative solver options:\n",
      "    https://scikit-learn.org/stable/modules/linear_model.html#logistic-regression\n",
      "\n",
      "/Users/anton/dev/MARS/correctness-model-internals/venv/lib/python3.11/site-packages/sklearn/linear_model/_logistic.py:469: ConvergenceWarning:\n",
      "\n",
      "lbfgs failed to converge (status=1):\n",
      "STOP: TOTAL NO. OF ITERATIONS REACHED LIMIT.\n",
      "\n",
      "Increase the number of iterations (max_iter) or scale the data as shown in:\n",
      "    https://scikit-learn.org/stable/modules/preprocessing.html\n",
      "Please also refer to the documentation for alternative solver options:\n",
      "    https://scikit-learn.org/stable/modules/linear_model.html#logistic-regression\n",
      "\n",
      "/Users/anton/dev/MARS/correctness-model-internals/venv/lib/python3.11/site-packages/sklearn/linear_model/_logistic.py:469: ConvergenceWarning:\n",
      "\n",
      "lbfgs failed to converge (status=1):\n",
      "STOP: TOTAL NO. OF ITERATIONS REACHED LIMIT.\n",
      "\n",
      "Increase the number of iterations (max_iter) or scale the data as shown in:\n",
      "    https://scikit-learn.org/stable/modules/preprocessing.html\n",
      "Please also refer to the documentation for alternative solver options:\n",
      "    https://scikit-learn.org/stable/modules/linear_model.html#logistic-regression\n",
      "\n",
      "/Users/anton/dev/MARS/correctness-model-internals/venv/lib/python3.11/site-packages/sklearn/linear_model/_logistic.py:469: ConvergenceWarning:\n",
      "\n",
      "lbfgs failed to converge (status=1):\n",
      "STOP: TOTAL NO. OF ITERATIONS REACHED LIMIT.\n",
      "\n",
      "Increase the number of iterations (max_iter) or scale the data as shown in:\n",
      "    https://scikit-learn.org/stable/modules/preprocessing.html\n",
      "Please also refer to the documentation for alternative solver options:\n",
      "    https://scikit-learn.org/stable/modules/linear_model.html#logistic-regression\n",
      "\n",
      "/Users/anton/dev/MARS/correctness-model-internals/venv/lib/python3.11/site-packages/sklearn/linear_model/_logistic.py:469: ConvergenceWarning:\n",
      "\n",
      "lbfgs failed to converge (status=1):\n",
      "STOP: TOTAL NO. OF ITERATIONS REACHED LIMIT.\n",
      "\n",
      "Increase the number of iterations (max_iter) or scale the data as shown in:\n",
      "    https://scikit-learn.org/stable/modules/preprocessing.html\n",
      "Please also refer to the documentation for alternative solver options:\n",
      "    https://scikit-learn.org/stable/modules/linear_model.html#logistic-regression\n",
      "\n"
     ]
    },
    {
     "name": "stdout",
     "output_type": "stream",
     "text": [
      "layer=1, "
     ]
    },
    {
     "name": "stderr",
     "output_type": "stream",
     "text": [
      "/Users/anton/dev/MARS/correctness-model-internals/venv/lib/python3.11/site-packages/sklearn/linear_model/_logistic.py:469: ConvergenceWarning:\n",
      "\n",
      "lbfgs failed to converge (status=1):\n",
      "STOP: TOTAL NO. OF ITERATIONS REACHED LIMIT.\n",
      "\n",
      "Increase the number of iterations (max_iter) or scale the data as shown in:\n",
      "    https://scikit-learn.org/stable/modules/preprocessing.html\n",
      "Please also refer to the documentation for alternative solver options:\n",
      "    https://scikit-learn.org/stable/modules/linear_model.html#logistic-regression\n",
      "\n",
      "/Users/anton/dev/MARS/correctness-model-internals/venv/lib/python3.11/site-packages/sklearn/linear_model/_logistic.py:469: ConvergenceWarning:\n",
      "\n",
      "lbfgs failed to converge (status=1):\n",
      "STOP: TOTAL NO. OF ITERATIONS REACHED LIMIT.\n",
      "\n",
      "Increase the number of iterations (max_iter) or scale the data as shown in:\n",
      "    https://scikit-learn.org/stable/modules/preprocessing.html\n",
      "Please also refer to the documentation for alternative solver options:\n",
      "    https://scikit-learn.org/stable/modules/linear_model.html#logistic-regression\n",
      "\n",
      "/Users/anton/dev/MARS/correctness-model-internals/venv/lib/python3.11/site-packages/sklearn/linear_model/_logistic.py:469: ConvergenceWarning:\n",
      "\n",
      "lbfgs failed to converge (status=1):\n",
      "STOP: TOTAL NO. OF ITERATIONS REACHED LIMIT.\n",
      "\n",
      "Increase the number of iterations (max_iter) or scale the data as shown in:\n",
      "    https://scikit-learn.org/stable/modules/preprocessing.html\n",
      "Please also refer to the documentation for alternative solver options:\n",
      "    https://scikit-learn.org/stable/modules/linear_model.html#logistic-regression\n",
      "\n",
      "/Users/anton/dev/MARS/correctness-model-internals/venv/lib/python3.11/site-packages/sklearn/linear_model/_logistic.py:469: ConvergenceWarning:\n",
      "\n",
      "lbfgs failed to converge (status=1):\n",
      "STOP: TOTAL NO. OF ITERATIONS REACHED LIMIT.\n",
      "\n",
      "Increase the number of iterations (max_iter) or scale the data as shown in:\n",
      "    https://scikit-learn.org/stable/modules/preprocessing.html\n",
      "Please also refer to the documentation for alternative solver options:\n",
      "    https://scikit-learn.org/stable/modules/linear_model.html#logistic-regression\n",
      "\n",
      "/Users/anton/dev/MARS/correctness-model-internals/venv/lib/python3.11/site-packages/sklearn/linear_model/_logistic.py:469: ConvergenceWarning:\n",
      "\n",
      "lbfgs failed to converge (status=1):\n",
      "STOP: TOTAL NO. OF ITERATIONS REACHED LIMIT.\n",
      "\n",
      "Increase the number of iterations (max_iter) or scale the data as shown in:\n",
      "    https://scikit-learn.org/stable/modules/preprocessing.html\n",
      "Please also refer to the documentation for alternative solver options:\n",
      "    https://scikit-learn.org/stable/modules/linear_model.html#logistic-regression\n",
      "\n"
     ]
    },
    {
     "name": "stdout",
     "output_type": "stream",
     "text": [
      "layer=2, "
     ]
    },
    {
     "name": "stderr",
     "output_type": "stream",
     "text": [
      "/Users/anton/dev/MARS/correctness-model-internals/venv/lib/python3.11/site-packages/sklearn/linear_model/_logistic.py:469: ConvergenceWarning:\n",
      "\n",
      "lbfgs failed to converge (status=1):\n",
      "STOP: TOTAL NO. OF ITERATIONS REACHED LIMIT.\n",
      "\n",
      "Increase the number of iterations (max_iter) or scale the data as shown in:\n",
      "    https://scikit-learn.org/stable/modules/preprocessing.html\n",
      "Please also refer to the documentation for alternative solver options:\n",
      "    https://scikit-learn.org/stable/modules/linear_model.html#logistic-regression\n",
      "\n",
      "/Users/anton/dev/MARS/correctness-model-internals/venv/lib/python3.11/site-packages/sklearn/linear_model/_logistic.py:469: ConvergenceWarning:\n",
      "\n",
      "lbfgs failed to converge (status=1):\n",
      "STOP: TOTAL NO. OF ITERATIONS REACHED LIMIT.\n",
      "\n",
      "Increase the number of iterations (max_iter) or scale the data as shown in:\n",
      "    https://scikit-learn.org/stable/modules/preprocessing.html\n",
      "Please also refer to the documentation for alternative solver options:\n",
      "    https://scikit-learn.org/stable/modules/linear_model.html#logistic-regression\n",
      "\n",
      "/Users/anton/dev/MARS/correctness-model-internals/venv/lib/python3.11/site-packages/sklearn/linear_model/_logistic.py:469: ConvergenceWarning:\n",
      "\n",
      "lbfgs failed to converge (status=1):\n",
      "STOP: TOTAL NO. OF ITERATIONS REACHED LIMIT.\n",
      "\n",
      "Increase the number of iterations (max_iter) or scale the data as shown in:\n",
      "    https://scikit-learn.org/stable/modules/preprocessing.html\n",
      "Please also refer to the documentation for alternative solver options:\n",
      "    https://scikit-learn.org/stable/modules/linear_model.html#logistic-regression\n",
      "\n",
      "/Users/anton/dev/MARS/correctness-model-internals/venv/lib/python3.11/site-packages/sklearn/linear_model/_logistic.py:469: ConvergenceWarning:\n",
      "\n",
      "lbfgs failed to converge (status=1):\n",
      "STOP: TOTAL NO. OF ITERATIONS REACHED LIMIT.\n",
      "\n",
      "Increase the number of iterations (max_iter) or scale the data as shown in:\n",
      "    https://scikit-learn.org/stable/modules/preprocessing.html\n",
      "Please also refer to the documentation for alternative solver options:\n",
      "    https://scikit-learn.org/stable/modules/linear_model.html#logistic-regression\n",
      "\n",
      "/Users/anton/dev/MARS/correctness-model-internals/venv/lib/python3.11/site-packages/sklearn/linear_model/_logistic.py:469: ConvergenceWarning:\n",
      "\n",
      "lbfgs failed to converge (status=1):\n",
      "STOP: TOTAL NO. OF ITERATIONS REACHED LIMIT.\n",
      "\n",
      "Increase the number of iterations (max_iter) or scale the data as shown in:\n",
      "    https://scikit-learn.org/stable/modules/preprocessing.html\n",
      "Please also refer to the documentation for alternative solver options:\n",
      "    https://scikit-learn.org/stable/modules/linear_model.html#logistic-regression\n",
      "\n"
     ]
    },
    {
     "name": "stdout",
     "output_type": "stream",
     "text": [
      "layer=3, "
     ]
    },
    {
     "name": "stderr",
     "output_type": "stream",
     "text": [
      "/Users/anton/dev/MARS/correctness-model-internals/venv/lib/python3.11/site-packages/sklearn/linear_model/_logistic.py:469: ConvergenceWarning:\n",
      "\n",
      "lbfgs failed to converge (status=1):\n",
      "STOP: TOTAL NO. OF ITERATIONS REACHED LIMIT.\n",
      "\n",
      "Increase the number of iterations (max_iter) or scale the data as shown in:\n",
      "    https://scikit-learn.org/stable/modules/preprocessing.html\n",
      "Please also refer to the documentation for alternative solver options:\n",
      "    https://scikit-learn.org/stable/modules/linear_model.html#logistic-regression\n",
      "\n",
      "/Users/anton/dev/MARS/correctness-model-internals/venv/lib/python3.11/site-packages/sklearn/linear_model/_logistic.py:469: ConvergenceWarning:\n",
      "\n",
      "lbfgs failed to converge (status=1):\n",
      "STOP: TOTAL NO. OF ITERATIONS REACHED LIMIT.\n",
      "\n",
      "Increase the number of iterations (max_iter) or scale the data as shown in:\n",
      "    https://scikit-learn.org/stable/modules/preprocessing.html\n",
      "Please also refer to the documentation for alternative solver options:\n",
      "    https://scikit-learn.org/stable/modules/linear_model.html#logistic-regression\n",
      "\n"
     ]
    },
    {
     "name": "stdout",
     "output_type": "stream",
     "text": [
      "layer=4, layer=5, layer=6, layer=7, layer=8, layer=9, layer=10, layer=11, layer=12, layer=13, layer=14, layer=15, layer=16, layer=17, layer=18, layer=19, layer=20, layer=21, layer=22, layer=23, layer=24, layer=25, layer=26, layer=27, layer=28, layer=29, layer=30, layer=31, \n",
      "model_id='llama3.1_8b_chat', dataset_id='cities_10k', prompt_id='base', subset_id='main', input_type='prompt_only'\n",
      "layer=0, "
     ]
    },
    {
     "name": "stderr",
     "output_type": "stream",
     "text": [
      "/Users/anton/dev/MARS/correctness-model-internals/venv/lib/python3.11/site-packages/sklearn/linear_model/_logistic.py:469: ConvergenceWarning:\n",
      "\n",
      "lbfgs failed to converge (status=1):\n",
      "STOP: TOTAL NO. OF ITERATIONS REACHED LIMIT.\n",
      "\n",
      "Increase the number of iterations (max_iter) or scale the data as shown in:\n",
      "    https://scikit-learn.org/stable/modules/preprocessing.html\n",
      "Please also refer to the documentation for alternative solver options:\n",
      "    https://scikit-learn.org/stable/modules/linear_model.html#logistic-regression\n",
      "\n",
      "/Users/anton/dev/MARS/correctness-model-internals/venv/lib/python3.11/site-packages/sklearn/linear_model/_logistic.py:469: ConvergenceWarning:\n",
      "\n",
      "lbfgs failed to converge (status=1):\n",
      "STOP: TOTAL NO. OF ITERATIONS REACHED LIMIT.\n",
      "\n",
      "Increase the number of iterations (max_iter) or scale the data as shown in:\n",
      "    https://scikit-learn.org/stable/modules/preprocessing.html\n",
      "Please also refer to the documentation for alternative solver options:\n",
      "    https://scikit-learn.org/stable/modules/linear_model.html#logistic-regression\n",
      "\n",
      "/Users/anton/dev/MARS/correctness-model-internals/venv/lib/python3.11/site-packages/sklearn/linear_model/_logistic.py:469: ConvergenceWarning:\n",
      "\n",
      "lbfgs failed to converge (status=1):\n",
      "STOP: TOTAL NO. OF ITERATIONS REACHED LIMIT.\n",
      "\n",
      "Increase the number of iterations (max_iter) or scale the data as shown in:\n",
      "    https://scikit-learn.org/stable/modules/preprocessing.html\n",
      "Please also refer to the documentation for alternative solver options:\n",
      "    https://scikit-learn.org/stable/modules/linear_model.html#logistic-regression\n",
      "\n",
      "/Users/anton/dev/MARS/correctness-model-internals/venv/lib/python3.11/site-packages/sklearn/linear_model/_logistic.py:469: ConvergenceWarning:\n",
      "\n",
      "lbfgs failed to converge (status=1):\n",
      "STOP: TOTAL NO. OF ITERATIONS REACHED LIMIT.\n",
      "\n",
      "Increase the number of iterations (max_iter) or scale the data as shown in:\n",
      "    https://scikit-learn.org/stable/modules/preprocessing.html\n",
      "Please also refer to the documentation for alternative solver options:\n",
      "    https://scikit-learn.org/stable/modules/linear_model.html#logistic-regression\n",
      "\n",
      "/Users/anton/dev/MARS/correctness-model-internals/venv/lib/python3.11/site-packages/sklearn/linear_model/_logistic.py:469: ConvergenceWarning:\n",
      "\n",
      "lbfgs failed to converge (status=1):\n",
      "STOP: TOTAL NO. OF ITERATIONS REACHED LIMIT.\n",
      "\n",
      "Increase the number of iterations (max_iter) or scale the data as shown in:\n",
      "    https://scikit-learn.org/stable/modules/preprocessing.html\n",
      "Please also refer to the documentation for alternative solver options:\n",
      "    https://scikit-learn.org/stable/modules/linear_model.html#logistic-regression\n",
      "\n"
     ]
    },
    {
     "name": "stdout",
     "output_type": "stream",
     "text": [
      "layer=1, "
     ]
    },
    {
     "name": "stderr",
     "output_type": "stream",
     "text": [
      "/Users/anton/dev/MARS/correctness-model-internals/venv/lib/python3.11/site-packages/sklearn/linear_model/_logistic.py:469: ConvergenceWarning:\n",
      "\n",
      "lbfgs failed to converge (status=1):\n",
      "STOP: TOTAL NO. OF ITERATIONS REACHED LIMIT.\n",
      "\n",
      "Increase the number of iterations (max_iter) or scale the data as shown in:\n",
      "    https://scikit-learn.org/stable/modules/preprocessing.html\n",
      "Please also refer to the documentation for alternative solver options:\n",
      "    https://scikit-learn.org/stable/modules/linear_model.html#logistic-regression\n",
      "\n",
      "/Users/anton/dev/MARS/correctness-model-internals/venv/lib/python3.11/site-packages/sklearn/linear_model/_logistic.py:469: ConvergenceWarning:\n",
      "\n",
      "lbfgs failed to converge (status=1):\n",
      "STOP: TOTAL NO. OF ITERATIONS REACHED LIMIT.\n",
      "\n",
      "Increase the number of iterations (max_iter) or scale the data as shown in:\n",
      "    https://scikit-learn.org/stable/modules/preprocessing.html\n",
      "Please also refer to the documentation for alternative solver options:\n",
      "    https://scikit-learn.org/stable/modules/linear_model.html#logistic-regression\n",
      "\n",
      "/Users/anton/dev/MARS/correctness-model-internals/venv/lib/python3.11/site-packages/sklearn/linear_model/_logistic.py:469: ConvergenceWarning:\n",
      "\n",
      "lbfgs failed to converge (status=1):\n",
      "STOP: TOTAL NO. OF ITERATIONS REACHED LIMIT.\n",
      "\n",
      "Increase the number of iterations (max_iter) or scale the data as shown in:\n",
      "    https://scikit-learn.org/stable/modules/preprocessing.html\n",
      "Please also refer to the documentation for alternative solver options:\n",
      "    https://scikit-learn.org/stable/modules/linear_model.html#logistic-regression\n",
      "\n",
      "/Users/anton/dev/MARS/correctness-model-internals/venv/lib/python3.11/site-packages/sklearn/linear_model/_logistic.py:469: ConvergenceWarning:\n",
      "\n",
      "lbfgs failed to converge (status=1):\n",
      "STOP: TOTAL NO. OF ITERATIONS REACHED LIMIT.\n",
      "\n",
      "Increase the number of iterations (max_iter) or scale the data as shown in:\n",
      "    https://scikit-learn.org/stable/modules/preprocessing.html\n",
      "Please also refer to the documentation for alternative solver options:\n",
      "    https://scikit-learn.org/stable/modules/linear_model.html#logistic-regression\n",
      "\n",
      "/Users/anton/dev/MARS/correctness-model-internals/venv/lib/python3.11/site-packages/sklearn/linear_model/_logistic.py:469: ConvergenceWarning:\n",
      "\n",
      "lbfgs failed to converge (status=1):\n",
      "STOP: TOTAL NO. OF ITERATIONS REACHED LIMIT.\n",
      "\n",
      "Increase the number of iterations (max_iter) or scale the data as shown in:\n",
      "    https://scikit-learn.org/stable/modules/preprocessing.html\n",
      "Please also refer to the documentation for alternative solver options:\n",
      "    https://scikit-learn.org/stable/modules/linear_model.html#logistic-regression\n",
      "\n"
     ]
    },
    {
     "name": "stdout",
     "output_type": "stream",
     "text": [
      "layer=2, "
     ]
    },
    {
     "name": "stderr",
     "output_type": "stream",
     "text": [
      "/Users/anton/dev/MARS/correctness-model-internals/venv/lib/python3.11/site-packages/sklearn/linear_model/_logistic.py:469: ConvergenceWarning:\n",
      "\n",
      "lbfgs failed to converge (status=1):\n",
      "STOP: TOTAL NO. OF ITERATIONS REACHED LIMIT.\n",
      "\n",
      "Increase the number of iterations (max_iter) or scale the data as shown in:\n",
      "    https://scikit-learn.org/stable/modules/preprocessing.html\n",
      "Please also refer to the documentation for alternative solver options:\n",
      "    https://scikit-learn.org/stable/modules/linear_model.html#logistic-regression\n",
      "\n",
      "/Users/anton/dev/MARS/correctness-model-internals/venv/lib/python3.11/site-packages/sklearn/linear_model/_logistic.py:469: ConvergenceWarning:\n",
      "\n",
      "lbfgs failed to converge (status=1):\n",
      "STOP: TOTAL NO. OF ITERATIONS REACHED LIMIT.\n",
      "\n",
      "Increase the number of iterations (max_iter) or scale the data as shown in:\n",
      "    https://scikit-learn.org/stable/modules/preprocessing.html\n",
      "Please also refer to the documentation for alternative solver options:\n",
      "    https://scikit-learn.org/stable/modules/linear_model.html#logistic-regression\n",
      "\n",
      "/Users/anton/dev/MARS/correctness-model-internals/venv/lib/python3.11/site-packages/sklearn/linear_model/_logistic.py:469: ConvergenceWarning:\n",
      "\n",
      "lbfgs failed to converge (status=1):\n",
      "STOP: TOTAL NO. OF ITERATIONS REACHED LIMIT.\n",
      "\n",
      "Increase the number of iterations (max_iter) or scale the data as shown in:\n",
      "    https://scikit-learn.org/stable/modules/preprocessing.html\n",
      "Please also refer to the documentation for alternative solver options:\n",
      "    https://scikit-learn.org/stable/modules/linear_model.html#logistic-regression\n",
      "\n",
      "/Users/anton/dev/MARS/correctness-model-internals/venv/lib/python3.11/site-packages/sklearn/linear_model/_logistic.py:469: ConvergenceWarning:\n",
      "\n",
      "lbfgs failed to converge (status=1):\n",
      "STOP: TOTAL NO. OF ITERATIONS REACHED LIMIT.\n",
      "\n",
      "Increase the number of iterations (max_iter) or scale the data as shown in:\n",
      "    https://scikit-learn.org/stable/modules/preprocessing.html\n",
      "Please also refer to the documentation for alternative solver options:\n",
      "    https://scikit-learn.org/stable/modules/linear_model.html#logistic-regression\n",
      "\n",
      "/Users/anton/dev/MARS/correctness-model-internals/venv/lib/python3.11/site-packages/sklearn/linear_model/_logistic.py:469: ConvergenceWarning:\n",
      "\n",
      "lbfgs failed to converge (status=1):\n",
      "STOP: TOTAL NO. OF ITERATIONS REACHED LIMIT.\n",
      "\n",
      "Increase the number of iterations (max_iter) or scale the data as shown in:\n",
      "    https://scikit-learn.org/stable/modules/preprocessing.html\n",
      "Please also refer to the documentation for alternative solver options:\n",
      "    https://scikit-learn.org/stable/modules/linear_model.html#logistic-regression\n",
      "\n"
     ]
    },
    {
     "name": "stdout",
     "output_type": "stream",
     "text": [
      "layer=3, "
     ]
    },
    {
     "name": "stderr",
     "output_type": "stream",
     "text": [
      "/Users/anton/dev/MARS/correctness-model-internals/venv/lib/python3.11/site-packages/sklearn/linear_model/_logistic.py:469: ConvergenceWarning:\n",
      "\n",
      "lbfgs failed to converge (status=1):\n",
      "STOP: TOTAL NO. OF ITERATIONS REACHED LIMIT.\n",
      "\n",
      "Increase the number of iterations (max_iter) or scale the data as shown in:\n",
      "    https://scikit-learn.org/stable/modules/preprocessing.html\n",
      "Please also refer to the documentation for alternative solver options:\n",
      "    https://scikit-learn.org/stable/modules/linear_model.html#logistic-regression\n",
      "\n",
      "/Users/anton/dev/MARS/correctness-model-internals/venv/lib/python3.11/site-packages/sklearn/linear_model/_logistic.py:469: ConvergenceWarning:\n",
      "\n",
      "lbfgs failed to converge (status=1):\n",
      "STOP: TOTAL NO. OF ITERATIONS REACHED LIMIT.\n",
      "\n",
      "Increase the number of iterations (max_iter) or scale the data as shown in:\n",
      "    https://scikit-learn.org/stable/modules/preprocessing.html\n",
      "Please also refer to the documentation for alternative solver options:\n",
      "    https://scikit-learn.org/stable/modules/linear_model.html#logistic-regression\n",
      "\n",
      "/Users/anton/dev/MARS/correctness-model-internals/venv/lib/python3.11/site-packages/sklearn/linear_model/_logistic.py:469: ConvergenceWarning:\n",
      "\n",
      "lbfgs failed to converge (status=1):\n",
      "STOP: TOTAL NO. OF ITERATIONS REACHED LIMIT.\n",
      "\n",
      "Increase the number of iterations (max_iter) or scale the data as shown in:\n",
      "    https://scikit-learn.org/stable/modules/preprocessing.html\n",
      "Please also refer to the documentation for alternative solver options:\n",
      "    https://scikit-learn.org/stable/modules/linear_model.html#logistic-regression\n",
      "\n",
      "/Users/anton/dev/MARS/correctness-model-internals/venv/lib/python3.11/site-packages/sklearn/linear_model/_logistic.py:469: ConvergenceWarning:\n",
      "\n",
      "lbfgs failed to converge (status=1):\n",
      "STOP: TOTAL NO. OF ITERATIONS REACHED LIMIT.\n",
      "\n",
      "Increase the number of iterations (max_iter) or scale the data as shown in:\n",
      "    https://scikit-learn.org/stable/modules/preprocessing.html\n",
      "Please also refer to the documentation for alternative solver options:\n",
      "    https://scikit-learn.org/stable/modules/linear_model.html#logistic-regression\n",
      "\n",
      "/Users/anton/dev/MARS/correctness-model-internals/venv/lib/python3.11/site-packages/sklearn/linear_model/_logistic.py:469: ConvergenceWarning:\n",
      "\n",
      "lbfgs failed to converge (status=1):\n",
      "STOP: TOTAL NO. OF ITERATIONS REACHED LIMIT.\n",
      "\n",
      "Increase the number of iterations (max_iter) or scale the data as shown in:\n",
      "    https://scikit-learn.org/stable/modules/preprocessing.html\n",
      "Please also refer to the documentation for alternative solver options:\n",
      "    https://scikit-learn.org/stable/modules/linear_model.html#logistic-regression\n",
      "\n"
     ]
    },
    {
     "name": "stdout",
     "output_type": "stream",
     "text": [
      "layer=4, layer=5, "
     ]
    },
    {
     "name": "stderr",
     "output_type": "stream",
     "text": [
      "/Users/anton/dev/MARS/correctness-model-internals/venv/lib/python3.11/site-packages/sklearn/linear_model/_logistic.py:469: ConvergenceWarning:\n",
      "\n",
      "lbfgs failed to converge (status=1):\n",
      "STOP: TOTAL NO. OF ITERATIONS REACHED LIMIT.\n",
      "\n",
      "Increase the number of iterations (max_iter) or scale the data as shown in:\n",
      "    https://scikit-learn.org/stable/modules/preprocessing.html\n",
      "Please also refer to the documentation for alternative solver options:\n",
      "    https://scikit-learn.org/stable/modules/linear_model.html#logistic-regression\n",
      "\n"
     ]
    },
    {
     "name": "stdout",
     "output_type": "stream",
     "text": [
      "layer=6, layer=7, layer=8, layer=9, layer=10, layer=11, layer=12, layer=13, layer=14, layer=15, layer=16, layer=17, layer=18, layer=19, layer=20, layer=21, layer=22, layer=23, layer=24, layer=25, layer=26, layer=27, layer=28, layer=29, layer=30, layer=31, \n",
      "model_id='llama3.1_8b_chat', dataset_id='football_leagues_1k', prompt_id='base', subset_id='main', input_type='prompt_answer'\n",
      "layer=0, layer=1, layer=2, layer=3, layer=4, layer=5, layer=6, layer=7, layer=8, layer=9, layer=10, layer=11, layer=12, layer=13, layer=14, layer=15, layer=16, layer=17, layer=18, layer=19, layer=20, layer=21, layer=22, layer=23, layer=24, layer=25, layer=26, layer=27, layer=28, layer=29, layer=30, layer=31, \n",
      "model_id='llama3.1_8b_chat', dataset_id='football_leagues_1k', prompt_id='base', subset_id='main', input_type='prompt_only'\n",
      "layer=0, layer=1, layer=2, layer=3, layer=4, layer=5, layer=6, layer=7, layer=8, layer=9, layer=10, layer=11, layer=12, layer=13, layer=14, layer=15, layer=16, layer=17, layer=18, layer=19, layer=20, layer=21, layer=22, layer=23, layer=24, layer=25, layer=26, layer=27, layer=28, layer=29, layer=30, layer=31, \n",
      "model_id='llama3.1_8b_chat', dataset_id='gsm8k', prompt_id='base_3_shot', subset_id='main', input_type='prompt_answer'\n",
      "layer=0, layer=1, layer=2, layer=3, layer=4, layer=5, layer=6, layer=7, layer=8, layer=9, layer=10, layer=11, layer=12, layer=13, layer=14, layer=15, layer=16, layer=17, layer=18, layer=19, layer=20, layer=21, layer=22, layer=23, layer=24, layer=25, layer=26, layer=27, layer=28, layer=29, layer=30, layer=31, \n",
      "model_id='llama3.1_8b_chat', dataset_id='gsm8k', prompt_id='base_3_shot', subset_id='main', input_type='prompt_only'\n",
      "layer=0, layer=1, layer=2, layer=3, layer=4, layer=5, layer=6, layer=7, layer=8, layer=9, layer=10, layer=11, layer=12, layer=13, layer=14, layer=15, layer=16, layer=17, layer=18, layer=19, layer=20, layer=21, layer=22, layer=23, layer=24, layer=25, layer=26, layer=27, layer=28, layer=29, layer=30, layer=31, \n",
      "model_id='llama3.1_8b_chat', dataset_id='gsm8k', prompt_id='cot_3_shot', subset_id='main', input_type='prompt_answer'\n",
      "layer=0, layer=1, layer=2, layer=3, layer=4, layer=5, layer=6, layer=7, layer=8, layer=9, layer=10, layer=11, layer=12, layer=13, layer=14, layer=15, layer=16, layer=17, layer=18, layer=19, layer=20, layer=21, layer=22, layer=23, layer=24, layer=25, layer=26, layer=27, layer=28, layer=29, layer=30, layer=31, \n",
      "model_id='llama3.1_8b_chat', dataset_id='gsm8k', prompt_id='cot_3_shot', subset_id='main', input_type='prompt_only'\n",
      "layer=0, layer=1, layer=2, layer=3, layer=4, layer=5, layer=6, layer=7, layer=8, layer=9, layer=10, layer=11, layer=12, layer=13, layer=14, layer=15, layer=16, layer=17, layer=18, layer=19, layer=20, layer=21, layer=22, layer=23, layer=24, layer=25, layer=26, layer=27, layer=28, layer=29, layer=30, layer=31, \n",
      "model_id='llama3.1_8b_chat', dataset_id='medals_9k', prompt_id='base', subset_id='main', input_type='prompt_answer'\n",
      "layer=0, "
     ]
    },
    {
     "name": "stderr",
     "output_type": "stream",
     "text": [
      "/Users/anton/dev/MARS/correctness-model-internals/venv/lib/python3.11/site-packages/sklearn/linear_model/_logistic.py:469: ConvergenceWarning:\n",
      "\n",
      "lbfgs failed to converge (status=1):\n",
      "STOP: TOTAL NO. OF ITERATIONS REACHED LIMIT.\n",
      "\n",
      "Increase the number of iterations (max_iter) or scale the data as shown in:\n",
      "    https://scikit-learn.org/stable/modules/preprocessing.html\n",
      "Please also refer to the documentation for alternative solver options:\n",
      "    https://scikit-learn.org/stable/modules/linear_model.html#logistic-regression\n",
      "\n",
      "/Users/anton/dev/MARS/correctness-model-internals/venv/lib/python3.11/site-packages/sklearn/linear_model/_logistic.py:469: ConvergenceWarning:\n",
      "\n",
      "lbfgs failed to converge (status=1):\n",
      "STOP: TOTAL NO. OF ITERATIONS REACHED LIMIT.\n",
      "\n",
      "Increase the number of iterations (max_iter) or scale the data as shown in:\n",
      "    https://scikit-learn.org/stable/modules/preprocessing.html\n",
      "Please also refer to the documentation for alternative solver options:\n",
      "    https://scikit-learn.org/stable/modules/linear_model.html#logistic-regression\n",
      "\n",
      "/Users/anton/dev/MARS/correctness-model-internals/venv/lib/python3.11/site-packages/sklearn/linear_model/_logistic.py:469: ConvergenceWarning:\n",
      "\n",
      "lbfgs failed to converge (status=1):\n",
      "STOP: TOTAL NO. OF ITERATIONS REACHED LIMIT.\n",
      "\n",
      "Increase the number of iterations (max_iter) or scale the data as shown in:\n",
      "    https://scikit-learn.org/stable/modules/preprocessing.html\n",
      "Please also refer to the documentation for alternative solver options:\n",
      "    https://scikit-learn.org/stable/modules/linear_model.html#logistic-regression\n",
      "\n",
      "/Users/anton/dev/MARS/correctness-model-internals/venv/lib/python3.11/site-packages/sklearn/linear_model/_logistic.py:469: ConvergenceWarning:\n",
      "\n",
      "lbfgs failed to converge (status=1):\n",
      "STOP: TOTAL NO. OF ITERATIONS REACHED LIMIT.\n",
      "\n",
      "Increase the number of iterations (max_iter) or scale the data as shown in:\n",
      "    https://scikit-learn.org/stable/modules/preprocessing.html\n",
      "Please also refer to the documentation for alternative solver options:\n",
      "    https://scikit-learn.org/stable/modules/linear_model.html#logistic-regression\n",
      "\n",
      "/Users/anton/dev/MARS/correctness-model-internals/venv/lib/python3.11/site-packages/sklearn/linear_model/_logistic.py:469: ConvergenceWarning:\n",
      "\n",
      "lbfgs failed to converge (status=1):\n",
      "STOP: TOTAL NO. OF ITERATIONS REACHED LIMIT.\n",
      "\n",
      "Increase the number of iterations (max_iter) or scale the data as shown in:\n",
      "    https://scikit-learn.org/stable/modules/preprocessing.html\n",
      "Please also refer to the documentation for alternative solver options:\n",
      "    https://scikit-learn.org/stable/modules/linear_model.html#logistic-regression\n",
      "\n"
     ]
    },
    {
     "name": "stdout",
     "output_type": "stream",
     "text": [
      "layer=1, "
     ]
    },
    {
     "name": "stderr",
     "output_type": "stream",
     "text": [
      "/Users/anton/dev/MARS/correctness-model-internals/venv/lib/python3.11/site-packages/sklearn/linear_model/_logistic.py:469: ConvergenceWarning:\n",
      "\n",
      "lbfgs failed to converge (status=1):\n",
      "STOP: TOTAL NO. OF ITERATIONS REACHED LIMIT.\n",
      "\n",
      "Increase the number of iterations (max_iter) or scale the data as shown in:\n",
      "    https://scikit-learn.org/stable/modules/preprocessing.html\n",
      "Please also refer to the documentation for alternative solver options:\n",
      "    https://scikit-learn.org/stable/modules/linear_model.html#logistic-regression\n",
      "\n",
      "/Users/anton/dev/MARS/correctness-model-internals/venv/lib/python3.11/site-packages/sklearn/linear_model/_logistic.py:469: ConvergenceWarning:\n",
      "\n",
      "lbfgs failed to converge (status=1):\n",
      "STOP: TOTAL NO. OF ITERATIONS REACHED LIMIT.\n",
      "\n",
      "Increase the number of iterations (max_iter) or scale the data as shown in:\n",
      "    https://scikit-learn.org/stable/modules/preprocessing.html\n",
      "Please also refer to the documentation for alternative solver options:\n",
      "    https://scikit-learn.org/stable/modules/linear_model.html#logistic-regression\n",
      "\n",
      "/Users/anton/dev/MARS/correctness-model-internals/venv/lib/python3.11/site-packages/sklearn/linear_model/_logistic.py:469: ConvergenceWarning:\n",
      "\n",
      "lbfgs failed to converge (status=1):\n",
      "STOP: TOTAL NO. OF ITERATIONS REACHED LIMIT.\n",
      "\n",
      "Increase the number of iterations (max_iter) or scale the data as shown in:\n",
      "    https://scikit-learn.org/stable/modules/preprocessing.html\n",
      "Please also refer to the documentation for alternative solver options:\n",
      "    https://scikit-learn.org/stable/modules/linear_model.html#logistic-regression\n",
      "\n",
      "/Users/anton/dev/MARS/correctness-model-internals/venv/lib/python3.11/site-packages/sklearn/linear_model/_logistic.py:469: ConvergenceWarning:\n",
      "\n",
      "lbfgs failed to converge (status=1):\n",
      "STOP: TOTAL NO. OF ITERATIONS REACHED LIMIT.\n",
      "\n",
      "Increase the number of iterations (max_iter) or scale the data as shown in:\n",
      "    https://scikit-learn.org/stable/modules/preprocessing.html\n",
      "Please also refer to the documentation for alternative solver options:\n",
      "    https://scikit-learn.org/stable/modules/linear_model.html#logistic-regression\n",
      "\n",
      "/Users/anton/dev/MARS/correctness-model-internals/venv/lib/python3.11/site-packages/sklearn/linear_model/_logistic.py:469: ConvergenceWarning:\n",
      "\n",
      "lbfgs failed to converge (status=1):\n",
      "STOP: TOTAL NO. OF ITERATIONS REACHED LIMIT.\n",
      "\n",
      "Increase the number of iterations (max_iter) or scale the data as shown in:\n",
      "    https://scikit-learn.org/stable/modules/preprocessing.html\n",
      "Please also refer to the documentation for alternative solver options:\n",
      "    https://scikit-learn.org/stable/modules/linear_model.html#logistic-regression\n",
      "\n"
     ]
    },
    {
     "name": "stdout",
     "output_type": "stream",
     "text": [
      "layer=2, "
     ]
    },
    {
     "name": "stderr",
     "output_type": "stream",
     "text": [
      "/Users/anton/dev/MARS/correctness-model-internals/venv/lib/python3.11/site-packages/sklearn/linear_model/_logistic.py:469: ConvergenceWarning:\n",
      "\n",
      "lbfgs failed to converge (status=1):\n",
      "STOP: TOTAL NO. OF ITERATIONS REACHED LIMIT.\n",
      "\n",
      "Increase the number of iterations (max_iter) or scale the data as shown in:\n",
      "    https://scikit-learn.org/stable/modules/preprocessing.html\n",
      "Please also refer to the documentation for alternative solver options:\n",
      "    https://scikit-learn.org/stable/modules/linear_model.html#logistic-regression\n",
      "\n",
      "/Users/anton/dev/MARS/correctness-model-internals/venv/lib/python3.11/site-packages/sklearn/linear_model/_logistic.py:469: ConvergenceWarning:\n",
      "\n",
      "lbfgs failed to converge (status=1):\n",
      "STOP: TOTAL NO. OF ITERATIONS REACHED LIMIT.\n",
      "\n",
      "Increase the number of iterations (max_iter) or scale the data as shown in:\n",
      "    https://scikit-learn.org/stable/modules/preprocessing.html\n",
      "Please also refer to the documentation for alternative solver options:\n",
      "    https://scikit-learn.org/stable/modules/linear_model.html#logistic-regression\n",
      "\n",
      "/Users/anton/dev/MARS/correctness-model-internals/venv/lib/python3.11/site-packages/sklearn/linear_model/_logistic.py:469: ConvergenceWarning:\n",
      "\n",
      "lbfgs failed to converge (status=1):\n",
      "STOP: TOTAL NO. OF ITERATIONS REACHED LIMIT.\n",
      "\n",
      "Increase the number of iterations (max_iter) or scale the data as shown in:\n",
      "    https://scikit-learn.org/stable/modules/preprocessing.html\n",
      "Please also refer to the documentation for alternative solver options:\n",
      "    https://scikit-learn.org/stable/modules/linear_model.html#logistic-regression\n",
      "\n",
      "/Users/anton/dev/MARS/correctness-model-internals/venv/lib/python3.11/site-packages/sklearn/linear_model/_logistic.py:469: ConvergenceWarning:\n",
      "\n",
      "lbfgs failed to converge (status=1):\n",
      "STOP: TOTAL NO. OF ITERATIONS REACHED LIMIT.\n",
      "\n",
      "Increase the number of iterations (max_iter) or scale the data as shown in:\n",
      "    https://scikit-learn.org/stable/modules/preprocessing.html\n",
      "Please also refer to the documentation for alternative solver options:\n",
      "    https://scikit-learn.org/stable/modules/linear_model.html#logistic-regression\n",
      "\n",
      "/Users/anton/dev/MARS/correctness-model-internals/venv/lib/python3.11/site-packages/sklearn/linear_model/_logistic.py:469: ConvergenceWarning:\n",
      "\n",
      "lbfgs failed to converge (status=1):\n",
      "STOP: TOTAL NO. OF ITERATIONS REACHED LIMIT.\n",
      "\n",
      "Increase the number of iterations (max_iter) or scale the data as shown in:\n",
      "    https://scikit-learn.org/stable/modules/preprocessing.html\n",
      "Please also refer to the documentation for alternative solver options:\n",
      "    https://scikit-learn.org/stable/modules/linear_model.html#logistic-regression\n",
      "\n"
     ]
    },
    {
     "name": "stdout",
     "output_type": "stream",
     "text": [
      "layer=3, "
     ]
    },
    {
     "name": "stderr",
     "output_type": "stream",
     "text": [
      "/Users/anton/dev/MARS/correctness-model-internals/venv/lib/python3.11/site-packages/sklearn/linear_model/_logistic.py:469: ConvergenceWarning:\n",
      "\n",
      "lbfgs failed to converge (status=1):\n",
      "STOP: TOTAL NO. OF ITERATIONS REACHED LIMIT.\n",
      "\n",
      "Increase the number of iterations (max_iter) or scale the data as shown in:\n",
      "    https://scikit-learn.org/stable/modules/preprocessing.html\n",
      "Please also refer to the documentation for alternative solver options:\n",
      "    https://scikit-learn.org/stable/modules/linear_model.html#logistic-regression\n",
      "\n",
      "/Users/anton/dev/MARS/correctness-model-internals/venv/lib/python3.11/site-packages/sklearn/linear_model/_logistic.py:469: ConvergenceWarning:\n",
      "\n",
      "lbfgs failed to converge (status=1):\n",
      "STOP: TOTAL NO. OF ITERATIONS REACHED LIMIT.\n",
      "\n",
      "Increase the number of iterations (max_iter) or scale the data as shown in:\n",
      "    https://scikit-learn.org/stable/modules/preprocessing.html\n",
      "Please also refer to the documentation for alternative solver options:\n",
      "    https://scikit-learn.org/stable/modules/linear_model.html#logistic-regression\n",
      "\n",
      "/Users/anton/dev/MARS/correctness-model-internals/venv/lib/python3.11/site-packages/sklearn/linear_model/_logistic.py:469: ConvergenceWarning:\n",
      "\n",
      "lbfgs failed to converge (status=1):\n",
      "STOP: TOTAL NO. OF ITERATIONS REACHED LIMIT.\n",
      "\n",
      "Increase the number of iterations (max_iter) or scale the data as shown in:\n",
      "    https://scikit-learn.org/stable/modules/preprocessing.html\n",
      "Please also refer to the documentation for alternative solver options:\n",
      "    https://scikit-learn.org/stable/modules/linear_model.html#logistic-regression\n",
      "\n",
      "/Users/anton/dev/MARS/correctness-model-internals/venv/lib/python3.11/site-packages/sklearn/linear_model/_logistic.py:469: ConvergenceWarning:\n",
      "\n",
      "lbfgs failed to converge (status=1):\n",
      "STOP: TOTAL NO. OF ITERATIONS REACHED LIMIT.\n",
      "\n",
      "Increase the number of iterations (max_iter) or scale the data as shown in:\n",
      "    https://scikit-learn.org/stable/modules/preprocessing.html\n",
      "Please also refer to the documentation for alternative solver options:\n",
      "    https://scikit-learn.org/stable/modules/linear_model.html#logistic-regression\n",
      "\n",
      "/Users/anton/dev/MARS/correctness-model-internals/venv/lib/python3.11/site-packages/sklearn/linear_model/_logistic.py:469: ConvergenceWarning:\n",
      "\n",
      "lbfgs failed to converge (status=1):\n",
      "STOP: TOTAL NO. OF ITERATIONS REACHED LIMIT.\n",
      "\n",
      "Increase the number of iterations (max_iter) or scale the data as shown in:\n",
      "    https://scikit-learn.org/stable/modules/preprocessing.html\n",
      "Please also refer to the documentation for alternative solver options:\n",
      "    https://scikit-learn.org/stable/modules/linear_model.html#logistic-regression\n",
      "\n"
     ]
    },
    {
     "name": "stdout",
     "output_type": "stream",
     "text": [
      "layer=4, "
     ]
    },
    {
     "name": "stderr",
     "output_type": "stream",
     "text": [
      "/Users/anton/dev/MARS/correctness-model-internals/venv/lib/python3.11/site-packages/sklearn/linear_model/_logistic.py:469: ConvergenceWarning:\n",
      "\n",
      "lbfgs failed to converge (status=1):\n",
      "STOP: TOTAL NO. OF ITERATIONS REACHED LIMIT.\n",
      "\n",
      "Increase the number of iterations (max_iter) or scale the data as shown in:\n",
      "    https://scikit-learn.org/stable/modules/preprocessing.html\n",
      "Please also refer to the documentation for alternative solver options:\n",
      "    https://scikit-learn.org/stable/modules/linear_model.html#logistic-regression\n",
      "\n",
      "/Users/anton/dev/MARS/correctness-model-internals/venv/lib/python3.11/site-packages/sklearn/linear_model/_logistic.py:469: ConvergenceWarning:\n",
      "\n",
      "lbfgs failed to converge (status=1):\n",
      "STOP: TOTAL NO. OF ITERATIONS REACHED LIMIT.\n",
      "\n",
      "Increase the number of iterations (max_iter) or scale the data as shown in:\n",
      "    https://scikit-learn.org/stable/modules/preprocessing.html\n",
      "Please also refer to the documentation for alternative solver options:\n",
      "    https://scikit-learn.org/stable/modules/linear_model.html#logistic-regression\n",
      "\n",
      "/Users/anton/dev/MARS/correctness-model-internals/venv/lib/python3.11/site-packages/sklearn/linear_model/_logistic.py:469: ConvergenceWarning:\n",
      "\n",
      "lbfgs failed to converge (status=1):\n",
      "STOP: TOTAL NO. OF ITERATIONS REACHED LIMIT.\n",
      "\n",
      "Increase the number of iterations (max_iter) or scale the data as shown in:\n",
      "    https://scikit-learn.org/stable/modules/preprocessing.html\n",
      "Please also refer to the documentation for alternative solver options:\n",
      "    https://scikit-learn.org/stable/modules/linear_model.html#logistic-regression\n",
      "\n",
      "/Users/anton/dev/MARS/correctness-model-internals/venv/lib/python3.11/site-packages/sklearn/linear_model/_logistic.py:469: ConvergenceWarning:\n",
      "\n",
      "lbfgs failed to converge (status=1):\n",
      "STOP: TOTAL NO. OF ITERATIONS REACHED LIMIT.\n",
      "\n",
      "Increase the number of iterations (max_iter) or scale the data as shown in:\n",
      "    https://scikit-learn.org/stable/modules/preprocessing.html\n",
      "Please also refer to the documentation for alternative solver options:\n",
      "    https://scikit-learn.org/stable/modules/linear_model.html#logistic-regression\n",
      "\n",
      "/Users/anton/dev/MARS/correctness-model-internals/venv/lib/python3.11/site-packages/sklearn/linear_model/_logistic.py:469: ConvergenceWarning:\n",
      "\n",
      "lbfgs failed to converge (status=1):\n",
      "STOP: TOTAL NO. OF ITERATIONS REACHED LIMIT.\n",
      "\n",
      "Increase the number of iterations (max_iter) or scale the data as shown in:\n",
      "    https://scikit-learn.org/stable/modules/preprocessing.html\n",
      "Please also refer to the documentation for alternative solver options:\n",
      "    https://scikit-learn.org/stable/modules/linear_model.html#logistic-regression\n",
      "\n"
     ]
    },
    {
     "name": "stdout",
     "output_type": "stream",
     "text": [
      "layer=5, "
     ]
    },
    {
     "name": "stderr",
     "output_type": "stream",
     "text": [
      "/Users/anton/dev/MARS/correctness-model-internals/venv/lib/python3.11/site-packages/sklearn/linear_model/_logistic.py:469: ConvergenceWarning:\n",
      "\n",
      "lbfgs failed to converge (status=1):\n",
      "STOP: TOTAL NO. OF ITERATIONS REACHED LIMIT.\n",
      "\n",
      "Increase the number of iterations (max_iter) or scale the data as shown in:\n",
      "    https://scikit-learn.org/stable/modules/preprocessing.html\n",
      "Please also refer to the documentation for alternative solver options:\n",
      "    https://scikit-learn.org/stable/modules/linear_model.html#logistic-regression\n",
      "\n",
      "/Users/anton/dev/MARS/correctness-model-internals/venv/lib/python3.11/site-packages/sklearn/linear_model/_logistic.py:469: ConvergenceWarning:\n",
      "\n",
      "lbfgs failed to converge (status=1):\n",
      "STOP: TOTAL NO. OF ITERATIONS REACHED LIMIT.\n",
      "\n",
      "Increase the number of iterations (max_iter) or scale the data as shown in:\n",
      "    https://scikit-learn.org/stable/modules/preprocessing.html\n",
      "Please also refer to the documentation for alternative solver options:\n",
      "    https://scikit-learn.org/stable/modules/linear_model.html#logistic-regression\n",
      "\n",
      "/Users/anton/dev/MARS/correctness-model-internals/venv/lib/python3.11/site-packages/sklearn/linear_model/_logistic.py:469: ConvergenceWarning:\n",
      "\n",
      "lbfgs failed to converge (status=1):\n",
      "STOP: TOTAL NO. OF ITERATIONS REACHED LIMIT.\n",
      "\n",
      "Increase the number of iterations (max_iter) or scale the data as shown in:\n",
      "    https://scikit-learn.org/stable/modules/preprocessing.html\n",
      "Please also refer to the documentation for alternative solver options:\n",
      "    https://scikit-learn.org/stable/modules/linear_model.html#logistic-regression\n",
      "\n",
      "/Users/anton/dev/MARS/correctness-model-internals/venv/lib/python3.11/site-packages/sklearn/linear_model/_logistic.py:469: ConvergenceWarning:\n",
      "\n",
      "lbfgs failed to converge (status=1):\n",
      "STOP: TOTAL NO. OF ITERATIONS REACHED LIMIT.\n",
      "\n",
      "Increase the number of iterations (max_iter) or scale the data as shown in:\n",
      "    https://scikit-learn.org/stable/modules/preprocessing.html\n",
      "Please also refer to the documentation for alternative solver options:\n",
      "    https://scikit-learn.org/stable/modules/linear_model.html#logistic-regression\n",
      "\n",
      "/Users/anton/dev/MARS/correctness-model-internals/venv/lib/python3.11/site-packages/sklearn/linear_model/_logistic.py:469: ConvergenceWarning:\n",
      "\n",
      "lbfgs failed to converge (status=1):\n",
      "STOP: TOTAL NO. OF ITERATIONS REACHED LIMIT.\n",
      "\n",
      "Increase the number of iterations (max_iter) or scale the data as shown in:\n",
      "    https://scikit-learn.org/stable/modules/preprocessing.html\n",
      "Please also refer to the documentation for alternative solver options:\n",
      "    https://scikit-learn.org/stable/modules/linear_model.html#logistic-regression\n",
      "\n"
     ]
    },
    {
     "name": "stdout",
     "output_type": "stream",
     "text": [
      "layer=6, "
     ]
    },
    {
     "name": "stderr",
     "output_type": "stream",
     "text": [
      "/Users/anton/dev/MARS/correctness-model-internals/venv/lib/python3.11/site-packages/sklearn/linear_model/_logistic.py:469: ConvergenceWarning:\n",
      "\n",
      "lbfgs failed to converge (status=1):\n",
      "STOP: TOTAL NO. OF ITERATIONS REACHED LIMIT.\n",
      "\n",
      "Increase the number of iterations (max_iter) or scale the data as shown in:\n",
      "    https://scikit-learn.org/stable/modules/preprocessing.html\n",
      "Please also refer to the documentation for alternative solver options:\n",
      "    https://scikit-learn.org/stable/modules/linear_model.html#logistic-regression\n",
      "\n",
      "/Users/anton/dev/MARS/correctness-model-internals/venv/lib/python3.11/site-packages/sklearn/linear_model/_logistic.py:469: ConvergenceWarning:\n",
      "\n",
      "lbfgs failed to converge (status=1):\n",
      "STOP: TOTAL NO. OF ITERATIONS REACHED LIMIT.\n",
      "\n",
      "Increase the number of iterations (max_iter) or scale the data as shown in:\n",
      "    https://scikit-learn.org/stable/modules/preprocessing.html\n",
      "Please also refer to the documentation for alternative solver options:\n",
      "    https://scikit-learn.org/stable/modules/linear_model.html#logistic-regression\n",
      "\n",
      "/Users/anton/dev/MARS/correctness-model-internals/venv/lib/python3.11/site-packages/sklearn/linear_model/_logistic.py:469: ConvergenceWarning:\n",
      "\n",
      "lbfgs failed to converge (status=1):\n",
      "STOP: TOTAL NO. OF ITERATIONS REACHED LIMIT.\n",
      "\n",
      "Increase the number of iterations (max_iter) or scale the data as shown in:\n",
      "    https://scikit-learn.org/stable/modules/preprocessing.html\n",
      "Please also refer to the documentation for alternative solver options:\n",
      "    https://scikit-learn.org/stable/modules/linear_model.html#logistic-regression\n",
      "\n",
      "/Users/anton/dev/MARS/correctness-model-internals/venv/lib/python3.11/site-packages/sklearn/linear_model/_logistic.py:469: ConvergenceWarning:\n",
      "\n",
      "lbfgs failed to converge (status=1):\n",
      "STOP: TOTAL NO. OF ITERATIONS REACHED LIMIT.\n",
      "\n",
      "Increase the number of iterations (max_iter) or scale the data as shown in:\n",
      "    https://scikit-learn.org/stable/modules/preprocessing.html\n",
      "Please also refer to the documentation for alternative solver options:\n",
      "    https://scikit-learn.org/stable/modules/linear_model.html#logistic-regression\n",
      "\n",
      "/Users/anton/dev/MARS/correctness-model-internals/venv/lib/python3.11/site-packages/sklearn/linear_model/_logistic.py:469: ConvergenceWarning:\n",
      "\n",
      "lbfgs failed to converge (status=1):\n",
      "STOP: TOTAL NO. OF ITERATIONS REACHED LIMIT.\n",
      "\n",
      "Increase the number of iterations (max_iter) or scale the data as shown in:\n",
      "    https://scikit-learn.org/stable/modules/preprocessing.html\n",
      "Please also refer to the documentation for alternative solver options:\n",
      "    https://scikit-learn.org/stable/modules/linear_model.html#logistic-regression\n",
      "\n"
     ]
    },
    {
     "name": "stdout",
     "output_type": "stream",
     "text": [
      "layer=7, "
     ]
    },
    {
     "name": "stderr",
     "output_type": "stream",
     "text": [
      "/Users/anton/dev/MARS/correctness-model-internals/venv/lib/python3.11/site-packages/sklearn/linear_model/_logistic.py:469: ConvergenceWarning:\n",
      "\n",
      "lbfgs failed to converge (status=1):\n",
      "STOP: TOTAL NO. OF ITERATIONS REACHED LIMIT.\n",
      "\n",
      "Increase the number of iterations (max_iter) or scale the data as shown in:\n",
      "    https://scikit-learn.org/stable/modules/preprocessing.html\n",
      "Please also refer to the documentation for alternative solver options:\n",
      "    https://scikit-learn.org/stable/modules/linear_model.html#logistic-regression\n",
      "\n",
      "/Users/anton/dev/MARS/correctness-model-internals/venv/lib/python3.11/site-packages/sklearn/linear_model/_logistic.py:469: ConvergenceWarning:\n",
      "\n",
      "lbfgs failed to converge (status=1):\n",
      "STOP: TOTAL NO. OF ITERATIONS REACHED LIMIT.\n",
      "\n",
      "Increase the number of iterations (max_iter) or scale the data as shown in:\n",
      "    https://scikit-learn.org/stable/modules/preprocessing.html\n",
      "Please also refer to the documentation for alternative solver options:\n",
      "    https://scikit-learn.org/stable/modules/linear_model.html#logistic-regression\n",
      "\n",
      "/Users/anton/dev/MARS/correctness-model-internals/venv/lib/python3.11/site-packages/sklearn/linear_model/_logistic.py:469: ConvergenceWarning:\n",
      "\n",
      "lbfgs failed to converge (status=1):\n",
      "STOP: TOTAL NO. OF ITERATIONS REACHED LIMIT.\n",
      "\n",
      "Increase the number of iterations (max_iter) or scale the data as shown in:\n",
      "    https://scikit-learn.org/stable/modules/preprocessing.html\n",
      "Please also refer to the documentation for alternative solver options:\n",
      "    https://scikit-learn.org/stable/modules/linear_model.html#logistic-regression\n",
      "\n",
      "/Users/anton/dev/MARS/correctness-model-internals/venv/lib/python3.11/site-packages/sklearn/linear_model/_logistic.py:469: ConvergenceWarning:\n",
      "\n",
      "lbfgs failed to converge (status=1):\n",
      "STOP: TOTAL NO. OF ITERATIONS REACHED LIMIT.\n",
      "\n",
      "Increase the number of iterations (max_iter) or scale the data as shown in:\n",
      "    https://scikit-learn.org/stable/modules/preprocessing.html\n",
      "Please also refer to the documentation for alternative solver options:\n",
      "    https://scikit-learn.org/stable/modules/linear_model.html#logistic-regression\n",
      "\n"
     ]
    },
    {
     "name": "stdout",
     "output_type": "stream",
     "text": [
      "layer=8, "
     ]
    },
    {
     "name": "stderr",
     "output_type": "stream",
     "text": [
      "/Users/anton/dev/MARS/correctness-model-internals/venv/lib/python3.11/site-packages/sklearn/linear_model/_logistic.py:469: ConvergenceWarning:\n",
      "\n",
      "lbfgs failed to converge (status=1):\n",
      "STOP: TOTAL NO. OF ITERATIONS REACHED LIMIT.\n",
      "\n",
      "Increase the number of iterations (max_iter) or scale the data as shown in:\n",
      "    https://scikit-learn.org/stable/modules/preprocessing.html\n",
      "Please also refer to the documentation for alternative solver options:\n",
      "    https://scikit-learn.org/stable/modules/linear_model.html#logistic-regression\n",
      "\n",
      "/Users/anton/dev/MARS/correctness-model-internals/venv/lib/python3.11/site-packages/sklearn/linear_model/_logistic.py:469: ConvergenceWarning:\n",
      "\n",
      "lbfgs failed to converge (status=1):\n",
      "STOP: TOTAL NO. OF ITERATIONS REACHED LIMIT.\n",
      "\n",
      "Increase the number of iterations (max_iter) or scale the data as shown in:\n",
      "    https://scikit-learn.org/stable/modules/preprocessing.html\n",
      "Please also refer to the documentation for alternative solver options:\n",
      "    https://scikit-learn.org/stable/modules/linear_model.html#logistic-regression\n",
      "\n",
      "/Users/anton/dev/MARS/correctness-model-internals/venv/lib/python3.11/site-packages/sklearn/linear_model/_logistic.py:469: ConvergenceWarning:\n",
      "\n",
      "lbfgs failed to converge (status=1):\n",
      "STOP: TOTAL NO. OF ITERATIONS REACHED LIMIT.\n",
      "\n",
      "Increase the number of iterations (max_iter) or scale the data as shown in:\n",
      "    https://scikit-learn.org/stable/modules/preprocessing.html\n",
      "Please also refer to the documentation for alternative solver options:\n",
      "    https://scikit-learn.org/stable/modules/linear_model.html#logistic-regression\n",
      "\n",
      "/Users/anton/dev/MARS/correctness-model-internals/venv/lib/python3.11/site-packages/sklearn/linear_model/_logistic.py:469: ConvergenceWarning:\n",
      "\n",
      "lbfgs failed to converge (status=1):\n",
      "STOP: TOTAL NO. OF ITERATIONS REACHED LIMIT.\n",
      "\n",
      "Increase the number of iterations (max_iter) or scale the data as shown in:\n",
      "    https://scikit-learn.org/stable/modules/preprocessing.html\n",
      "Please also refer to the documentation for alternative solver options:\n",
      "    https://scikit-learn.org/stable/modules/linear_model.html#logistic-regression\n",
      "\n"
     ]
    },
    {
     "name": "stdout",
     "output_type": "stream",
     "text": [
      "layer=9, "
     ]
    },
    {
     "name": "stderr",
     "output_type": "stream",
     "text": [
      "/Users/anton/dev/MARS/correctness-model-internals/venv/lib/python3.11/site-packages/sklearn/linear_model/_logistic.py:469: ConvergenceWarning:\n",
      "\n",
      "lbfgs failed to converge (status=1):\n",
      "STOP: TOTAL NO. OF ITERATIONS REACHED LIMIT.\n",
      "\n",
      "Increase the number of iterations (max_iter) or scale the data as shown in:\n",
      "    https://scikit-learn.org/stable/modules/preprocessing.html\n",
      "Please also refer to the documentation for alternative solver options:\n",
      "    https://scikit-learn.org/stable/modules/linear_model.html#logistic-regression\n",
      "\n",
      "/Users/anton/dev/MARS/correctness-model-internals/venv/lib/python3.11/site-packages/sklearn/linear_model/_logistic.py:469: ConvergenceWarning:\n",
      "\n",
      "lbfgs failed to converge (status=1):\n",
      "STOP: TOTAL NO. OF ITERATIONS REACHED LIMIT.\n",
      "\n",
      "Increase the number of iterations (max_iter) or scale the data as shown in:\n",
      "    https://scikit-learn.org/stable/modules/preprocessing.html\n",
      "Please also refer to the documentation for alternative solver options:\n",
      "    https://scikit-learn.org/stable/modules/linear_model.html#logistic-regression\n",
      "\n"
     ]
    },
    {
     "name": "stdout",
     "output_type": "stream",
     "text": [
      "layer=10, "
     ]
    },
    {
     "name": "stderr",
     "output_type": "stream",
     "text": [
      "/Users/anton/dev/MARS/correctness-model-internals/venv/lib/python3.11/site-packages/sklearn/linear_model/_logistic.py:469: ConvergenceWarning:\n",
      "\n",
      "lbfgs failed to converge (status=1):\n",
      "STOP: TOTAL NO. OF ITERATIONS REACHED LIMIT.\n",
      "\n",
      "Increase the number of iterations (max_iter) or scale the data as shown in:\n",
      "    https://scikit-learn.org/stable/modules/preprocessing.html\n",
      "Please also refer to the documentation for alternative solver options:\n",
      "    https://scikit-learn.org/stable/modules/linear_model.html#logistic-regression\n",
      "\n",
      "/Users/anton/dev/MARS/correctness-model-internals/venv/lib/python3.11/site-packages/sklearn/linear_model/_logistic.py:469: ConvergenceWarning:\n",
      "\n",
      "lbfgs failed to converge (status=1):\n",
      "STOP: TOTAL NO. OF ITERATIONS REACHED LIMIT.\n",
      "\n",
      "Increase the number of iterations (max_iter) or scale the data as shown in:\n",
      "    https://scikit-learn.org/stable/modules/preprocessing.html\n",
      "Please also refer to the documentation for alternative solver options:\n",
      "    https://scikit-learn.org/stable/modules/linear_model.html#logistic-regression\n",
      "\n",
      "/Users/anton/dev/MARS/correctness-model-internals/venv/lib/python3.11/site-packages/sklearn/linear_model/_logistic.py:469: ConvergenceWarning:\n",
      "\n",
      "lbfgs failed to converge (status=1):\n",
      "STOP: TOTAL NO. OF ITERATIONS REACHED LIMIT.\n",
      "\n",
      "Increase the number of iterations (max_iter) or scale the data as shown in:\n",
      "    https://scikit-learn.org/stable/modules/preprocessing.html\n",
      "Please also refer to the documentation for alternative solver options:\n",
      "    https://scikit-learn.org/stable/modules/linear_model.html#logistic-regression\n",
      "\n",
      "/Users/anton/dev/MARS/correctness-model-internals/venv/lib/python3.11/site-packages/sklearn/linear_model/_logistic.py:469: ConvergenceWarning:\n",
      "\n",
      "lbfgs failed to converge (status=1):\n",
      "STOP: TOTAL NO. OF ITERATIONS REACHED LIMIT.\n",
      "\n",
      "Increase the number of iterations (max_iter) or scale the data as shown in:\n",
      "    https://scikit-learn.org/stable/modules/preprocessing.html\n",
      "Please also refer to the documentation for alternative solver options:\n",
      "    https://scikit-learn.org/stable/modules/linear_model.html#logistic-regression\n",
      "\n"
     ]
    },
    {
     "name": "stdout",
     "output_type": "stream",
     "text": [
      "layer=11, "
     ]
    },
    {
     "name": "stderr",
     "output_type": "stream",
     "text": [
      "/Users/anton/dev/MARS/correctness-model-internals/venv/lib/python3.11/site-packages/sklearn/linear_model/_logistic.py:469: ConvergenceWarning:\n",
      "\n",
      "lbfgs failed to converge (status=1):\n",
      "STOP: TOTAL NO. OF ITERATIONS REACHED LIMIT.\n",
      "\n",
      "Increase the number of iterations (max_iter) or scale the data as shown in:\n",
      "    https://scikit-learn.org/stable/modules/preprocessing.html\n",
      "Please also refer to the documentation for alternative solver options:\n",
      "    https://scikit-learn.org/stable/modules/linear_model.html#logistic-regression\n",
      "\n",
      "/Users/anton/dev/MARS/correctness-model-internals/venv/lib/python3.11/site-packages/sklearn/linear_model/_logistic.py:469: ConvergenceWarning:\n",
      "\n",
      "lbfgs failed to converge (status=1):\n",
      "STOP: TOTAL NO. OF ITERATIONS REACHED LIMIT.\n",
      "\n",
      "Increase the number of iterations (max_iter) or scale the data as shown in:\n",
      "    https://scikit-learn.org/stable/modules/preprocessing.html\n",
      "Please also refer to the documentation for alternative solver options:\n",
      "    https://scikit-learn.org/stable/modules/linear_model.html#logistic-regression\n",
      "\n",
      "/Users/anton/dev/MARS/correctness-model-internals/venv/lib/python3.11/site-packages/sklearn/linear_model/_logistic.py:469: ConvergenceWarning:\n",
      "\n",
      "lbfgs failed to converge (status=1):\n",
      "STOP: TOTAL NO. OF ITERATIONS REACHED LIMIT.\n",
      "\n",
      "Increase the number of iterations (max_iter) or scale the data as shown in:\n",
      "    https://scikit-learn.org/stable/modules/preprocessing.html\n",
      "Please also refer to the documentation for alternative solver options:\n",
      "    https://scikit-learn.org/stable/modules/linear_model.html#logistic-regression\n",
      "\n",
      "/Users/anton/dev/MARS/correctness-model-internals/venv/lib/python3.11/site-packages/sklearn/linear_model/_logistic.py:469: ConvergenceWarning:\n",
      "\n",
      "lbfgs failed to converge (status=1):\n",
      "STOP: TOTAL NO. OF ITERATIONS REACHED LIMIT.\n",
      "\n",
      "Increase the number of iterations (max_iter) or scale the data as shown in:\n",
      "    https://scikit-learn.org/stable/modules/preprocessing.html\n",
      "Please also refer to the documentation for alternative solver options:\n",
      "    https://scikit-learn.org/stable/modules/linear_model.html#logistic-regression\n",
      "\n",
      "/Users/anton/dev/MARS/correctness-model-internals/venv/lib/python3.11/site-packages/sklearn/linear_model/_logistic.py:469: ConvergenceWarning:\n",
      "\n",
      "lbfgs failed to converge (status=1):\n",
      "STOP: TOTAL NO. OF ITERATIONS REACHED LIMIT.\n",
      "\n",
      "Increase the number of iterations (max_iter) or scale the data as shown in:\n",
      "    https://scikit-learn.org/stable/modules/preprocessing.html\n",
      "Please also refer to the documentation for alternative solver options:\n",
      "    https://scikit-learn.org/stable/modules/linear_model.html#logistic-regression\n",
      "\n"
     ]
    },
    {
     "name": "stdout",
     "output_type": "stream",
     "text": [
      "layer=12, layer=13, "
     ]
    },
    {
     "name": "stderr",
     "output_type": "stream",
     "text": [
      "/Users/anton/dev/MARS/correctness-model-internals/venv/lib/python3.11/site-packages/sklearn/linear_model/_logistic.py:469: ConvergenceWarning:\n",
      "\n",
      "lbfgs failed to converge (status=1):\n",
      "STOP: TOTAL NO. OF ITERATIONS REACHED LIMIT.\n",
      "\n",
      "Increase the number of iterations (max_iter) or scale the data as shown in:\n",
      "    https://scikit-learn.org/stable/modules/preprocessing.html\n",
      "Please also refer to the documentation for alternative solver options:\n",
      "    https://scikit-learn.org/stable/modules/linear_model.html#logistic-regression\n",
      "\n"
     ]
    },
    {
     "name": "stdout",
     "output_type": "stream",
     "text": [
      "layer=14, layer=15, layer=16, "
     ]
    },
    {
     "name": "stderr",
     "output_type": "stream",
     "text": [
      "/Users/anton/dev/MARS/correctness-model-internals/venv/lib/python3.11/site-packages/sklearn/linear_model/_logistic.py:469: ConvergenceWarning:\n",
      "\n",
      "lbfgs failed to converge (status=1):\n",
      "STOP: TOTAL NO. OF ITERATIONS REACHED LIMIT.\n",
      "\n",
      "Increase the number of iterations (max_iter) or scale the data as shown in:\n",
      "    https://scikit-learn.org/stable/modules/preprocessing.html\n",
      "Please also refer to the documentation for alternative solver options:\n",
      "    https://scikit-learn.org/stable/modules/linear_model.html#logistic-regression\n",
      "\n",
      "/Users/anton/dev/MARS/correctness-model-internals/venv/lib/python3.11/site-packages/sklearn/linear_model/_logistic.py:469: ConvergenceWarning:\n",
      "\n",
      "lbfgs failed to converge (status=1):\n",
      "STOP: TOTAL NO. OF ITERATIONS REACHED LIMIT.\n",
      "\n",
      "Increase the number of iterations (max_iter) or scale the data as shown in:\n",
      "    https://scikit-learn.org/stable/modules/preprocessing.html\n",
      "Please also refer to the documentation for alternative solver options:\n",
      "    https://scikit-learn.org/stable/modules/linear_model.html#logistic-regression\n",
      "\n"
     ]
    },
    {
     "name": "stdout",
     "output_type": "stream",
     "text": [
      "layer=17, "
     ]
    },
    {
     "name": "stderr",
     "output_type": "stream",
     "text": [
      "/Users/anton/dev/MARS/correctness-model-internals/venv/lib/python3.11/site-packages/sklearn/linear_model/_logistic.py:469: ConvergenceWarning:\n",
      "\n",
      "lbfgs failed to converge (status=1):\n",
      "STOP: TOTAL NO. OF ITERATIONS REACHED LIMIT.\n",
      "\n",
      "Increase the number of iterations (max_iter) or scale the data as shown in:\n",
      "    https://scikit-learn.org/stable/modules/preprocessing.html\n",
      "Please also refer to the documentation for alternative solver options:\n",
      "    https://scikit-learn.org/stable/modules/linear_model.html#logistic-regression\n",
      "\n"
     ]
    },
    {
     "name": "stdout",
     "output_type": "stream",
     "text": [
      "layer=18, "
     ]
    },
    {
     "name": "stderr",
     "output_type": "stream",
     "text": [
      "/Users/anton/dev/MARS/correctness-model-internals/venv/lib/python3.11/site-packages/sklearn/linear_model/_logistic.py:469: ConvergenceWarning:\n",
      "\n",
      "lbfgs failed to converge (status=1):\n",
      "STOP: TOTAL NO. OF ITERATIONS REACHED LIMIT.\n",
      "\n",
      "Increase the number of iterations (max_iter) or scale the data as shown in:\n",
      "    https://scikit-learn.org/stable/modules/preprocessing.html\n",
      "Please also refer to the documentation for alternative solver options:\n",
      "    https://scikit-learn.org/stable/modules/linear_model.html#logistic-regression\n",
      "\n"
     ]
    },
    {
     "name": "stdout",
     "output_type": "stream",
     "text": [
      "layer=19, "
     ]
    },
    {
     "name": "stderr",
     "output_type": "stream",
     "text": [
      "/Users/anton/dev/MARS/correctness-model-internals/venv/lib/python3.11/site-packages/sklearn/linear_model/_logistic.py:469: ConvergenceWarning:\n",
      "\n",
      "lbfgs failed to converge (status=1):\n",
      "STOP: TOTAL NO. OF ITERATIONS REACHED LIMIT.\n",
      "\n",
      "Increase the number of iterations (max_iter) or scale the data as shown in:\n",
      "    https://scikit-learn.org/stable/modules/preprocessing.html\n",
      "Please also refer to the documentation for alternative solver options:\n",
      "    https://scikit-learn.org/stable/modules/linear_model.html#logistic-regression\n",
      "\n",
      "/Users/anton/dev/MARS/correctness-model-internals/venv/lib/python3.11/site-packages/sklearn/linear_model/_logistic.py:469: ConvergenceWarning:\n",
      "\n",
      "lbfgs failed to converge (status=1):\n",
      "STOP: TOTAL NO. OF ITERATIONS REACHED LIMIT.\n",
      "\n",
      "Increase the number of iterations (max_iter) or scale the data as shown in:\n",
      "    https://scikit-learn.org/stable/modules/preprocessing.html\n",
      "Please also refer to the documentation for alternative solver options:\n",
      "    https://scikit-learn.org/stable/modules/linear_model.html#logistic-regression\n",
      "\n"
     ]
    },
    {
     "name": "stdout",
     "output_type": "stream",
     "text": [
      "layer=20, "
     ]
    },
    {
     "name": "stderr",
     "output_type": "stream",
     "text": [
      "/Users/anton/dev/MARS/correctness-model-internals/venv/lib/python3.11/site-packages/sklearn/linear_model/_logistic.py:469: ConvergenceWarning:\n",
      "\n",
      "lbfgs failed to converge (status=1):\n",
      "STOP: TOTAL NO. OF ITERATIONS REACHED LIMIT.\n",
      "\n",
      "Increase the number of iterations (max_iter) or scale the data as shown in:\n",
      "    https://scikit-learn.org/stable/modules/preprocessing.html\n",
      "Please also refer to the documentation for alternative solver options:\n",
      "    https://scikit-learn.org/stable/modules/linear_model.html#logistic-regression\n",
      "\n",
      "/Users/anton/dev/MARS/correctness-model-internals/venv/lib/python3.11/site-packages/sklearn/linear_model/_logistic.py:469: ConvergenceWarning:\n",
      "\n",
      "lbfgs failed to converge (status=1):\n",
      "STOP: TOTAL NO. OF ITERATIONS REACHED LIMIT.\n",
      "\n",
      "Increase the number of iterations (max_iter) or scale the data as shown in:\n",
      "    https://scikit-learn.org/stable/modules/preprocessing.html\n",
      "Please also refer to the documentation for alternative solver options:\n",
      "    https://scikit-learn.org/stable/modules/linear_model.html#logistic-regression\n",
      "\n"
     ]
    },
    {
     "name": "stdout",
     "output_type": "stream",
     "text": [
      "layer=21, "
     ]
    },
    {
     "name": "stderr",
     "output_type": "stream",
     "text": [
      "/Users/anton/dev/MARS/correctness-model-internals/venv/lib/python3.11/site-packages/sklearn/linear_model/_logistic.py:469: ConvergenceWarning:\n",
      "\n",
      "lbfgs failed to converge (status=1):\n",
      "STOP: TOTAL NO. OF ITERATIONS REACHED LIMIT.\n",
      "\n",
      "Increase the number of iterations (max_iter) or scale the data as shown in:\n",
      "    https://scikit-learn.org/stable/modules/preprocessing.html\n",
      "Please also refer to the documentation for alternative solver options:\n",
      "    https://scikit-learn.org/stable/modules/linear_model.html#logistic-regression\n",
      "\n"
     ]
    },
    {
     "name": "stdout",
     "output_type": "stream",
     "text": [
      "layer=22, "
     ]
    },
    {
     "name": "stderr",
     "output_type": "stream",
     "text": [
      "/Users/anton/dev/MARS/correctness-model-internals/venv/lib/python3.11/site-packages/sklearn/linear_model/_logistic.py:469: ConvergenceWarning:\n",
      "\n",
      "lbfgs failed to converge (status=1):\n",
      "STOP: TOTAL NO. OF ITERATIONS REACHED LIMIT.\n",
      "\n",
      "Increase the number of iterations (max_iter) or scale the data as shown in:\n",
      "    https://scikit-learn.org/stable/modules/preprocessing.html\n",
      "Please also refer to the documentation for alternative solver options:\n",
      "    https://scikit-learn.org/stable/modules/linear_model.html#logistic-regression\n",
      "\n",
      "/Users/anton/dev/MARS/correctness-model-internals/venv/lib/python3.11/site-packages/sklearn/linear_model/_logistic.py:469: ConvergenceWarning:\n",
      "\n",
      "lbfgs failed to converge (status=1):\n",
      "STOP: TOTAL NO. OF ITERATIONS REACHED LIMIT.\n",
      "\n",
      "Increase the number of iterations (max_iter) or scale the data as shown in:\n",
      "    https://scikit-learn.org/stable/modules/preprocessing.html\n",
      "Please also refer to the documentation for alternative solver options:\n",
      "    https://scikit-learn.org/stable/modules/linear_model.html#logistic-regression\n",
      "\n"
     ]
    },
    {
     "name": "stdout",
     "output_type": "stream",
     "text": [
      "layer=23, "
     ]
    },
    {
     "name": "stderr",
     "output_type": "stream",
     "text": [
      "/Users/anton/dev/MARS/correctness-model-internals/venv/lib/python3.11/site-packages/sklearn/linear_model/_logistic.py:469: ConvergenceWarning:\n",
      "\n",
      "lbfgs failed to converge (status=1):\n",
      "STOP: TOTAL NO. OF ITERATIONS REACHED LIMIT.\n",
      "\n",
      "Increase the number of iterations (max_iter) or scale the data as shown in:\n",
      "    https://scikit-learn.org/stable/modules/preprocessing.html\n",
      "Please also refer to the documentation for alternative solver options:\n",
      "    https://scikit-learn.org/stable/modules/linear_model.html#logistic-regression\n",
      "\n",
      "/Users/anton/dev/MARS/correctness-model-internals/venv/lib/python3.11/site-packages/sklearn/linear_model/_logistic.py:469: ConvergenceWarning:\n",
      "\n",
      "lbfgs failed to converge (status=1):\n",
      "STOP: TOTAL NO. OF ITERATIONS REACHED LIMIT.\n",
      "\n",
      "Increase the number of iterations (max_iter) or scale the data as shown in:\n",
      "    https://scikit-learn.org/stable/modules/preprocessing.html\n",
      "Please also refer to the documentation for alternative solver options:\n",
      "    https://scikit-learn.org/stable/modules/linear_model.html#logistic-regression\n",
      "\n"
     ]
    },
    {
     "name": "stdout",
     "output_type": "stream",
     "text": [
      "layer=24, "
     ]
    },
    {
     "name": "stderr",
     "output_type": "stream",
     "text": [
      "/Users/anton/dev/MARS/correctness-model-internals/venv/lib/python3.11/site-packages/sklearn/linear_model/_logistic.py:469: ConvergenceWarning:\n",
      "\n",
      "lbfgs failed to converge (status=1):\n",
      "STOP: TOTAL NO. OF ITERATIONS REACHED LIMIT.\n",
      "\n",
      "Increase the number of iterations (max_iter) or scale the data as shown in:\n",
      "    https://scikit-learn.org/stable/modules/preprocessing.html\n",
      "Please also refer to the documentation for alternative solver options:\n",
      "    https://scikit-learn.org/stable/modules/linear_model.html#logistic-regression\n",
      "\n",
      "/Users/anton/dev/MARS/correctness-model-internals/venv/lib/python3.11/site-packages/sklearn/linear_model/_logistic.py:469: ConvergenceWarning:\n",
      "\n",
      "lbfgs failed to converge (status=1):\n",
      "STOP: TOTAL NO. OF ITERATIONS REACHED LIMIT.\n",
      "\n",
      "Increase the number of iterations (max_iter) or scale the data as shown in:\n",
      "    https://scikit-learn.org/stable/modules/preprocessing.html\n",
      "Please also refer to the documentation for alternative solver options:\n",
      "    https://scikit-learn.org/stable/modules/linear_model.html#logistic-regression\n",
      "\n",
      "/Users/anton/dev/MARS/correctness-model-internals/venv/lib/python3.11/site-packages/sklearn/linear_model/_logistic.py:469: ConvergenceWarning:\n",
      "\n",
      "lbfgs failed to converge (status=1):\n",
      "STOP: TOTAL NO. OF ITERATIONS REACHED LIMIT.\n",
      "\n",
      "Increase the number of iterations (max_iter) or scale the data as shown in:\n",
      "    https://scikit-learn.org/stable/modules/preprocessing.html\n",
      "Please also refer to the documentation for alternative solver options:\n",
      "    https://scikit-learn.org/stable/modules/linear_model.html#logistic-regression\n",
      "\n"
     ]
    },
    {
     "name": "stdout",
     "output_type": "stream",
     "text": [
      "layer=25, "
     ]
    },
    {
     "name": "stderr",
     "output_type": "stream",
     "text": [
      "/Users/anton/dev/MARS/correctness-model-internals/venv/lib/python3.11/site-packages/sklearn/linear_model/_logistic.py:469: ConvergenceWarning:\n",
      "\n",
      "lbfgs failed to converge (status=1):\n",
      "STOP: TOTAL NO. OF ITERATIONS REACHED LIMIT.\n",
      "\n",
      "Increase the number of iterations (max_iter) or scale the data as shown in:\n",
      "    https://scikit-learn.org/stable/modules/preprocessing.html\n",
      "Please also refer to the documentation for alternative solver options:\n",
      "    https://scikit-learn.org/stable/modules/linear_model.html#logistic-regression\n",
      "\n"
     ]
    },
    {
     "name": "stdout",
     "output_type": "stream",
     "text": [
      "layer=26, "
     ]
    },
    {
     "name": "stderr",
     "output_type": "stream",
     "text": [
      "/Users/anton/dev/MARS/correctness-model-internals/venv/lib/python3.11/site-packages/sklearn/linear_model/_logistic.py:469: ConvergenceWarning:\n",
      "\n",
      "lbfgs failed to converge (status=1):\n",
      "STOP: TOTAL NO. OF ITERATIONS REACHED LIMIT.\n",
      "\n",
      "Increase the number of iterations (max_iter) or scale the data as shown in:\n",
      "    https://scikit-learn.org/stable/modules/preprocessing.html\n",
      "Please also refer to the documentation for alternative solver options:\n",
      "    https://scikit-learn.org/stable/modules/linear_model.html#logistic-regression\n",
      "\n",
      "/Users/anton/dev/MARS/correctness-model-internals/venv/lib/python3.11/site-packages/sklearn/linear_model/_logistic.py:469: ConvergenceWarning:\n",
      "\n",
      "lbfgs failed to converge (status=1):\n",
      "STOP: TOTAL NO. OF ITERATIONS REACHED LIMIT.\n",
      "\n",
      "Increase the number of iterations (max_iter) or scale the data as shown in:\n",
      "    https://scikit-learn.org/stable/modules/preprocessing.html\n",
      "Please also refer to the documentation for alternative solver options:\n",
      "    https://scikit-learn.org/stable/modules/linear_model.html#logistic-regression\n",
      "\n",
      "/Users/anton/dev/MARS/correctness-model-internals/venv/lib/python3.11/site-packages/sklearn/linear_model/_logistic.py:469: ConvergenceWarning:\n",
      "\n",
      "lbfgs failed to converge (status=1):\n",
      "STOP: TOTAL NO. OF ITERATIONS REACHED LIMIT.\n",
      "\n",
      "Increase the number of iterations (max_iter) or scale the data as shown in:\n",
      "    https://scikit-learn.org/stable/modules/preprocessing.html\n",
      "Please also refer to the documentation for alternative solver options:\n",
      "    https://scikit-learn.org/stable/modules/linear_model.html#logistic-regression\n",
      "\n",
      "/Users/anton/dev/MARS/correctness-model-internals/venv/lib/python3.11/site-packages/sklearn/linear_model/_logistic.py:469: ConvergenceWarning:\n",
      "\n",
      "lbfgs failed to converge (status=1):\n",
      "STOP: TOTAL NO. OF ITERATIONS REACHED LIMIT.\n",
      "\n",
      "Increase the number of iterations (max_iter) or scale the data as shown in:\n",
      "    https://scikit-learn.org/stable/modules/preprocessing.html\n",
      "Please also refer to the documentation for alternative solver options:\n",
      "    https://scikit-learn.org/stable/modules/linear_model.html#logistic-regression\n",
      "\n"
     ]
    },
    {
     "name": "stdout",
     "output_type": "stream",
     "text": [
      "layer=27, "
     ]
    },
    {
     "name": "stderr",
     "output_type": "stream",
     "text": [
      "/Users/anton/dev/MARS/correctness-model-internals/venv/lib/python3.11/site-packages/sklearn/linear_model/_logistic.py:469: ConvergenceWarning:\n",
      "\n",
      "lbfgs failed to converge (status=1):\n",
      "STOP: TOTAL NO. OF ITERATIONS REACHED LIMIT.\n",
      "\n",
      "Increase the number of iterations (max_iter) or scale the data as shown in:\n",
      "    https://scikit-learn.org/stable/modules/preprocessing.html\n",
      "Please also refer to the documentation for alternative solver options:\n",
      "    https://scikit-learn.org/stable/modules/linear_model.html#logistic-regression\n",
      "\n",
      "/Users/anton/dev/MARS/correctness-model-internals/venv/lib/python3.11/site-packages/sklearn/linear_model/_logistic.py:469: ConvergenceWarning:\n",
      "\n",
      "lbfgs failed to converge (status=1):\n",
      "STOP: TOTAL NO. OF ITERATIONS REACHED LIMIT.\n",
      "\n",
      "Increase the number of iterations (max_iter) or scale the data as shown in:\n",
      "    https://scikit-learn.org/stable/modules/preprocessing.html\n",
      "Please also refer to the documentation for alternative solver options:\n",
      "    https://scikit-learn.org/stable/modules/linear_model.html#logistic-regression\n",
      "\n",
      "/Users/anton/dev/MARS/correctness-model-internals/venv/lib/python3.11/site-packages/sklearn/linear_model/_logistic.py:469: ConvergenceWarning:\n",
      "\n",
      "lbfgs failed to converge (status=1):\n",
      "STOP: TOTAL NO. OF ITERATIONS REACHED LIMIT.\n",
      "\n",
      "Increase the number of iterations (max_iter) or scale the data as shown in:\n",
      "    https://scikit-learn.org/stable/modules/preprocessing.html\n",
      "Please also refer to the documentation for alternative solver options:\n",
      "    https://scikit-learn.org/stable/modules/linear_model.html#logistic-regression\n",
      "\n",
      "/Users/anton/dev/MARS/correctness-model-internals/venv/lib/python3.11/site-packages/sklearn/linear_model/_logistic.py:469: ConvergenceWarning:\n",
      "\n",
      "lbfgs failed to converge (status=1):\n",
      "STOP: TOTAL NO. OF ITERATIONS REACHED LIMIT.\n",
      "\n",
      "Increase the number of iterations (max_iter) or scale the data as shown in:\n",
      "    https://scikit-learn.org/stable/modules/preprocessing.html\n",
      "Please also refer to the documentation for alternative solver options:\n",
      "    https://scikit-learn.org/stable/modules/linear_model.html#logistic-regression\n",
      "\n",
      "/Users/anton/dev/MARS/correctness-model-internals/venv/lib/python3.11/site-packages/sklearn/linear_model/_logistic.py:469: ConvergenceWarning:\n",
      "\n",
      "lbfgs failed to converge (status=1):\n",
      "STOP: TOTAL NO. OF ITERATIONS REACHED LIMIT.\n",
      "\n",
      "Increase the number of iterations (max_iter) or scale the data as shown in:\n",
      "    https://scikit-learn.org/stable/modules/preprocessing.html\n",
      "Please also refer to the documentation for alternative solver options:\n",
      "    https://scikit-learn.org/stable/modules/linear_model.html#logistic-regression\n",
      "\n"
     ]
    },
    {
     "name": "stdout",
     "output_type": "stream",
     "text": [
      "layer=28, "
     ]
    },
    {
     "name": "stderr",
     "output_type": "stream",
     "text": [
      "/Users/anton/dev/MARS/correctness-model-internals/venv/lib/python3.11/site-packages/sklearn/linear_model/_logistic.py:469: ConvergenceWarning:\n",
      "\n",
      "lbfgs failed to converge (status=1):\n",
      "STOP: TOTAL NO. OF ITERATIONS REACHED LIMIT.\n",
      "\n",
      "Increase the number of iterations (max_iter) or scale the data as shown in:\n",
      "    https://scikit-learn.org/stable/modules/preprocessing.html\n",
      "Please also refer to the documentation for alternative solver options:\n",
      "    https://scikit-learn.org/stable/modules/linear_model.html#logistic-regression\n",
      "\n",
      "/Users/anton/dev/MARS/correctness-model-internals/venv/lib/python3.11/site-packages/sklearn/linear_model/_logistic.py:469: ConvergenceWarning:\n",
      "\n",
      "lbfgs failed to converge (status=1):\n",
      "STOP: TOTAL NO. OF ITERATIONS REACHED LIMIT.\n",
      "\n",
      "Increase the number of iterations (max_iter) or scale the data as shown in:\n",
      "    https://scikit-learn.org/stable/modules/preprocessing.html\n",
      "Please also refer to the documentation for alternative solver options:\n",
      "    https://scikit-learn.org/stable/modules/linear_model.html#logistic-regression\n",
      "\n",
      "/Users/anton/dev/MARS/correctness-model-internals/venv/lib/python3.11/site-packages/sklearn/linear_model/_logistic.py:469: ConvergenceWarning:\n",
      "\n",
      "lbfgs failed to converge (status=1):\n",
      "STOP: TOTAL NO. OF ITERATIONS REACHED LIMIT.\n",
      "\n",
      "Increase the number of iterations (max_iter) or scale the data as shown in:\n",
      "    https://scikit-learn.org/stable/modules/preprocessing.html\n",
      "Please also refer to the documentation for alternative solver options:\n",
      "    https://scikit-learn.org/stable/modules/linear_model.html#logistic-regression\n",
      "\n",
      "/Users/anton/dev/MARS/correctness-model-internals/venv/lib/python3.11/site-packages/sklearn/linear_model/_logistic.py:469: ConvergenceWarning:\n",
      "\n",
      "lbfgs failed to converge (status=1):\n",
      "STOP: TOTAL NO. OF ITERATIONS REACHED LIMIT.\n",
      "\n",
      "Increase the number of iterations (max_iter) or scale the data as shown in:\n",
      "    https://scikit-learn.org/stable/modules/preprocessing.html\n",
      "Please also refer to the documentation for alternative solver options:\n",
      "    https://scikit-learn.org/stable/modules/linear_model.html#logistic-regression\n",
      "\n"
     ]
    },
    {
     "name": "stdout",
     "output_type": "stream",
     "text": [
      "layer=29, "
     ]
    },
    {
     "name": "stderr",
     "output_type": "stream",
     "text": [
      "/Users/anton/dev/MARS/correctness-model-internals/venv/lib/python3.11/site-packages/sklearn/linear_model/_logistic.py:469: ConvergenceWarning:\n",
      "\n",
      "lbfgs failed to converge (status=1):\n",
      "STOP: TOTAL NO. OF ITERATIONS REACHED LIMIT.\n",
      "\n",
      "Increase the number of iterations (max_iter) or scale the data as shown in:\n",
      "    https://scikit-learn.org/stable/modules/preprocessing.html\n",
      "Please also refer to the documentation for alternative solver options:\n",
      "    https://scikit-learn.org/stable/modules/linear_model.html#logistic-regression\n",
      "\n",
      "/Users/anton/dev/MARS/correctness-model-internals/venv/lib/python3.11/site-packages/sklearn/linear_model/_logistic.py:469: ConvergenceWarning:\n",
      "\n",
      "lbfgs failed to converge (status=1):\n",
      "STOP: TOTAL NO. OF ITERATIONS REACHED LIMIT.\n",
      "\n",
      "Increase the number of iterations (max_iter) or scale the data as shown in:\n",
      "    https://scikit-learn.org/stable/modules/preprocessing.html\n",
      "Please also refer to the documentation for alternative solver options:\n",
      "    https://scikit-learn.org/stable/modules/linear_model.html#logistic-regression\n",
      "\n",
      "/Users/anton/dev/MARS/correctness-model-internals/venv/lib/python3.11/site-packages/sklearn/linear_model/_logistic.py:469: ConvergenceWarning:\n",
      "\n",
      "lbfgs failed to converge (status=1):\n",
      "STOP: TOTAL NO. OF ITERATIONS REACHED LIMIT.\n",
      "\n",
      "Increase the number of iterations (max_iter) or scale the data as shown in:\n",
      "    https://scikit-learn.org/stable/modules/preprocessing.html\n",
      "Please also refer to the documentation for alternative solver options:\n",
      "    https://scikit-learn.org/stable/modules/linear_model.html#logistic-regression\n",
      "\n",
      "/Users/anton/dev/MARS/correctness-model-internals/venv/lib/python3.11/site-packages/sklearn/linear_model/_logistic.py:469: ConvergenceWarning:\n",
      "\n",
      "lbfgs failed to converge (status=1):\n",
      "STOP: TOTAL NO. OF ITERATIONS REACHED LIMIT.\n",
      "\n",
      "Increase the number of iterations (max_iter) or scale the data as shown in:\n",
      "    https://scikit-learn.org/stable/modules/preprocessing.html\n",
      "Please also refer to the documentation for alternative solver options:\n",
      "    https://scikit-learn.org/stable/modules/linear_model.html#logistic-regression\n",
      "\n",
      "/Users/anton/dev/MARS/correctness-model-internals/venv/lib/python3.11/site-packages/sklearn/linear_model/_logistic.py:469: ConvergenceWarning:\n",
      "\n",
      "lbfgs failed to converge (status=1):\n",
      "STOP: TOTAL NO. OF ITERATIONS REACHED LIMIT.\n",
      "\n",
      "Increase the number of iterations (max_iter) or scale the data as shown in:\n",
      "    https://scikit-learn.org/stable/modules/preprocessing.html\n",
      "Please also refer to the documentation for alternative solver options:\n",
      "    https://scikit-learn.org/stable/modules/linear_model.html#logistic-regression\n",
      "\n"
     ]
    },
    {
     "name": "stdout",
     "output_type": "stream",
     "text": [
      "layer=30, "
     ]
    },
    {
     "name": "stderr",
     "output_type": "stream",
     "text": [
      "/Users/anton/dev/MARS/correctness-model-internals/venv/lib/python3.11/site-packages/sklearn/linear_model/_logistic.py:469: ConvergenceWarning:\n",
      "\n",
      "lbfgs failed to converge (status=1):\n",
      "STOP: TOTAL NO. OF ITERATIONS REACHED LIMIT.\n",
      "\n",
      "Increase the number of iterations (max_iter) or scale the data as shown in:\n",
      "    https://scikit-learn.org/stable/modules/preprocessing.html\n",
      "Please also refer to the documentation for alternative solver options:\n",
      "    https://scikit-learn.org/stable/modules/linear_model.html#logistic-regression\n",
      "\n",
      "/Users/anton/dev/MARS/correctness-model-internals/venv/lib/python3.11/site-packages/sklearn/linear_model/_logistic.py:469: ConvergenceWarning:\n",
      "\n",
      "lbfgs failed to converge (status=1):\n",
      "STOP: TOTAL NO. OF ITERATIONS REACHED LIMIT.\n",
      "\n",
      "Increase the number of iterations (max_iter) or scale the data as shown in:\n",
      "    https://scikit-learn.org/stable/modules/preprocessing.html\n",
      "Please also refer to the documentation for alternative solver options:\n",
      "    https://scikit-learn.org/stable/modules/linear_model.html#logistic-regression\n",
      "\n",
      "/Users/anton/dev/MARS/correctness-model-internals/venv/lib/python3.11/site-packages/sklearn/linear_model/_logistic.py:469: ConvergenceWarning:\n",
      "\n",
      "lbfgs failed to converge (status=1):\n",
      "STOP: TOTAL NO. OF ITERATIONS REACHED LIMIT.\n",
      "\n",
      "Increase the number of iterations (max_iter) or scale the data as shown in:\n",
      "    https://scikit-learn.org/stable/modules/preprocessing.html\n",
      "Please also refer to the documentation for alternative solver options:\n",
      "    https://scikit-learn.org/stable/modules/linear_model.html#logistic-regression\n",
      "\n",
      "/Users/anton/dev/MARS/correctness-model-internals/venv/lib/python3.11/site-packages/sklearn/linear_model/_logistic.py:469: ConvergenceWarning:\n",
      "\n",
      "lbfgs failed to converge (status=1):\n",
      "STOP: TOTAL NO. OF ITERATIONS REACHED LIMIT.\n",
      "\n",
      "Increase the number of iterations (max_iter) or scale the data as shown in:\n",
      "    https://scikit-learn.org/stable/modules/preprocessing.html\n",
      "Please also refer to the documentation for alternative solver options:\n",
      "    https://scikit-learn.org/stable/modules/linear_model.html#logistic-regression\n",
      "\n",
      "/Users/anton/dev/MARS/correctness-model-internals/venv/lib/python3.11/site-packages/sklearn/linear_model/_logistic.py:469: ConvergenceWarning:\n",
      "\n",
      "lbfgs failed to converge (status=1):\n",
      "STOP: TOTAL NO. OF ITERATIONS REACHED LIMIT.\n",
      "\n",
      "Increase the number of iterations (max_iter) or scale the data as shown in:\n",
      "    https://scikit-learn.org/stable/modules/preprocessing.html\n",
      "Please also refer to the documentation for alternative solver options:\n",
      "    https://scikit-learn.org/stable/modules/linear_model.html#logistic-regression\n",
      "\n"
     ]
    },
    {
     "name": "stdout",
     "output_type": "stream",
     "text": [
      "layer=31, "
     ]
    },
    {
     "name": "stderr",
     "output_type": "stream",
     "text": [
      "/Users/anton/dev/MARS/correctness-model-internals/venv/lib/python3.11/site-packages/sklearn/linear_model/_logistic.py:469: ConvergenceWarning:\n",
      "\n",
      "lbfgs failed to converge (status=1):\n",
      "STOP: TOTAL NO. OF ITERATIONS REACHED LIMIT.\n",
      "\n",
      "Increase the number of iterations (max_iter) or scale the data as shown in:\n",
      "    https://scikit-learn.org/stable/modules/preprocessing.html\n",
      "Please also refer to the documentation for alternative solver options:\n",
      "    https://scikit-learn.org/stable/modules/linear_model.html#logistic-regression\n",
      "\n",
      "/Users/anton/dev/MARS/correctness-model-internals/venv/lib/python3.11/site-packages/sklearn/linear_model/_logistic.py:469: ConvergenceWarning:\n",
      "\n",
      "lbfgs failed to converge (status=1):\n",
      "STOP: TOTAL NO. OF ITERATIONS REACHED LIMIT.\n",
      "\n",
      "Increase the number of iterations (max_iter) or scale the data as shown in:\n",
      "    https://scikit-learn.org/stable/modules/preprocessing.html\n",
      "Please also refer to the documentation for alternative solver options:\n",
      "    https://scikit-learn.org/stable/modules/linear_model.html#logistic-regression\n",
      "\n",
      "/Users/anton/dev/MARS/correctness-model-internals/venv/lib/python3.11/site-packages/sklearn/linear_model/_logistic.py:469: ConvergenceWarning:\n",
      "\n",
      "lbfgs failed to converge (status=1):\n",
      "STOP: TOTAL NO. OF ITERATIONS REACHED LIMIT.\n",
      "\n",
      "Increase the number of iterations (max_iter) or scale the data as shown in:\n",
      "    https://scikit-learn.org/stable/modules/preprocessing.html\n",
      "Please also refer to the documentation for alternative solver options:\n",
      "    https://scikit-learn.org/stable/modules/linear_model.html#logistic-regression\n",
      "\n",
      "/Users/anton/dev/MARS/correctness-model-internals/venv/lib/python3.11/site-packages/sklearn/linear_model/_logistic.py:469: ConvergenceWarning:\n",
      "\n",
      "lbfgs failed to converge (status=1):\n",
      "STOP: TOTAL NO. OF ITERATIONS REACHED LIMIT.\n",
      "\n",
      "Increase the number of iterations (max_iter) or scale the data as shown in:\n",
      "    https://scikit-learn.org/stable/modules/preprocessing.html\n",
      "Please also refer to the documentation for alternative solver options:\n",
      "    https://scikit-learn.org/stable/modules/linear_model.html#logistic-regression\n",
      "\n",
      "/Users/anton/dev/MARS/correctness-model-internals/venv/lib/python3.11/site-packages/sklearn/linear_model/_logistic.py:469: ConvergenceWarning:\n",
      "\n",
      "lbfgs failed to converge (status=1):\n",
      "STOP: TOTAL NO. OF ITERATIONS REACHED LIMIT.\n",
      "\n",
      "Increase the number of iterations (max_iter) or scale the data as shown in:\n",
      "    https://scikit-learn.org/stable/modules/preprocessing.html\n",
      "Please also refer to the documentation for alternative solver options:\n",
      "    https://scikit-learn.org/stable/modules/linear_model.html#logistic-regression\n",
      "\n"
     ]
    },
    {
     "name": "stdout",
     "output_type": "stream",
     "text": [
      "\n",
      "model_id='llama3.1_8b_chat', dataset_id='medals_9k', prompt_id='base', subset_id='main', input_type='prompt_only'\n",
      "layer=0, "
     ]
    },
    {
     "name": "stderr",
     "output_type": "stream",
     "text": [
      "/Users/anton/dev/MARS/correctness-model-internals/venv/lib/python3.11/site-packages/sklearn/linear_model/_logistic.py:469: ConvergenceWarning:\n",
      "\n",
      "lbfgs failed to converge (status=1):\n",
      "STOP: TOTAL NO. OF ITERATIONS REACHED LIMIT.\n",
      "\n",
      "Increase the number of iterations (max_iter) or scale the data as shown in:\n",
      "    https://scikit-learn.org/stable/modules/preprocessing.html\n",
      "Please also refer to the documentation for alternative solver options:\n",
      "    https://scikit-learn.org/stable/modules/linear_model.html#logistic-regression\n",
      "\n",
      "/Users/anton/dev/MARS/correctness-model-internals/venv/lib/python3.11/site-packages/sklearn/linear_model/_logistic.py:469: ConvergenceWarning:\n",
      "\n",
      "lbfgs failed to converge (status=1):\n",
      "STOP: TOTAL NO. OF ITERATIONS REACHED LIMIT.\n",
      "\n",
      "Increase the number of iterations (max_iter) or scale the data as shown in:\n",
      "    https://scikit-learn.org/stable/modules/preprocessing.html\n",
      "Please also refer to the documentation for alternative solver options:\n",
      "    https://scikit-learn.org/stable/modules/linear_model.html#logistic-regression\n",
      "\n",
      "/Users/anton/dev/MARS/correctness-model-internals/venv/lib/python3.11/site-packages/sklearn/linear_model/_logistic.py:469: ConvergenceWarning:\n",
      "\n",
      "lbfgs failed to converge (status=1):\n",
      "STOP: TOTAL NO. OF ITERATIONS REACHED LIMIT.\n",
      "\n",
      "Increase the number of iterations (max_iter) or scale the data as shown in:\n",
      "    https://scikit-learn.org/stable/modules/preprocessing.html\n",
      "Please also refer to the documentation for alternative solver options:\n",
      "    https://scikit-learn.org/stable/modules/linear_model.html#logistic-regression\n",
      "\n",
      "/Users/anton/dev/MARS/correctness-model-internals/venv/lib/python3.11/site-packages/sklearn/linear_model/_logistic.py:469: ConvergenceWarning:\n",
      "\n",
      "lbfgs failed to converge (status=1):\n",
      "STOP: TOTAL NO. OF ITERATIONS REACHED LIMIT.\n",
      "\n",
      "Increase the number of iterations (max_iter) or scale the data as shown in:\n",
      "    https://scikit-learn.org/stable/modules/preprocessing.html\n",
      "Please also refer to the documentation for alternative solver options:\n",
      "    https://scikit-learn.org/stable/modules/linear_model.html#logistic-regression\n",
      "\n",
      "/Users/anton/dev/MARS/correctness-model-internals/venv/lib/python3.11/site-packages/sklearn/linear_model/_logistic.py:469: ConvergenceWarning:\n",
      "\n",
      "lbfgs failed to converge (status=1):\n",
      "STOP: TOTAL NO. OF ITERATIONS REACHED LIMIT.\n",
      "\n",
      "Increase the number of iterations (max_iter) or scale the data as shown in:\n",
      "    https://scikit-learn.org/stable/modules/preprocessing.html\n",
      "Please also refer to the documentation for alternative solver options:\n",
      "    https://scikit-learn.org/stable/modules/linear_model.html#logistic-regression\n",
      "\n"
     ]
    },
    {
     "name": "stdout",
     "output_type": "stream",
     "text": [
      "layer=1, "
     ]
    },
    {
     "name": "stderr",
     "output_type": "stream",
     "text": [
      "/Users/anton/dev/MARS/correctness-model-internals/venv/lib/python3.11/site-packages/sklearn/linear_model/_logistic.py:469: ConvergenceWarning:\n",
      "\n",
      "lbfgs failed to converge (status=1):\n",
      "STOP: TOTAL NO. OF ITERATIONS REACHED LIMIT.\n",
      "\n",
      "Increase the number of iterations (max_iter) or scale the data as shown in:\n",
      "    https://scikit-learn.org/stable/modules/preprocessing.html\n",
      "Please also refer to the documentation for alternative solver options:\n",
      "    https://scikit-learn.org/stable/modules/linear_model.html#logistic-regression\n",
      "\n",
      "/Users/anton/dev/MARS/correctness-model-internals/venv/lib/python3.11/site-packages/sklearn/linear_model/_logistic.py:469: ConvergenceWarning:\n",
      "\n",
      "lbfgs failed to converge (status=1):\n",
      "STOP: TOTAL NO. OF ITERATIONS REACHED LIMIT.\n",
      "\n",
      "Increase the number of iterations (max_iter) or scale the data as shown in:\n",
      "    https://scikit-learn.org/stable/modules/preprocessing.html\n",
      "Please also refer to the documentation for alternative solver options:\n",
      "    https://scikit-learn.org/stable/modules/linear_model.html#logistic-regression\n",
      "\n",
      "/Users/anton/dev/MARS/correctness-model-internals/venv/lib/python3.11/site-packages/sklearn/linear_model/_logistic.py:469: ConvergenceWarning:\n",
      "\n",
      "lbfgs failed to converge (status=1):\n",
      "STOP: TOTAL NO. OF ITERATIONS REACHED LIMIT.\n",
      "\n",
      "Increase the number of iterations (max_iter) or scale the data as shown in:\n",
      "    https://scikit-learn.org/stable/modules/preprocessing.html\n",
      "Please also refer to the documentation for alternative solver options:\n",
      "    https://scikit-learn.org/stable/modules/linear_model.html#logistic-regression\n",
      "\n",
      "/Users/anton/dev/MARS/correctness-model-internals/venv/lib/python3.11/site-packages/sklearn/linear_model/_logistic.py:469: ConvergenceWarning:\n",
      "\n",
      "lbfgs failed to converge (status=1):\n",
      "STOP: TOTAL NO. OF ITERATIONS REACHED LIMIT.\n",
      "\n",
      "Increase the number of iterations (max_iter) or scale the data as shown in:\n",
      "    https://scikit-learn.org/stable/modules/preprocessing.html\n",
      "Please also refer to the documentation for alternative solver options:\n",
      "    https://scikit-learn.org/stable/modules/linear_model.html#logistic-regression\n",
      "\n",
      "/Users/anton/dev/MARS/correctness-model-internals/venv/lib/python3.11/site-packages/sklearn/linear_model/_logistic.py:469: ConvergenceWarning:\n",
      "\n",
      "lbfgs failed to converge (status=1):\n",
      "STOP: TOTAL NO. OF ITERATIONS REACHED LIMIT.\n",
      "\n",
      "Increase the number of iterations (max_iter) or scale the data as shown in:\n",
      "    https://scikit-learn.org/stable/modules/preprocessing.html\n",
      "Please also refer to the documentation for alternative solver options:\n",
      "    https://scikit-learn.org/stable/modules/linear_model.html#logistic-regression\n",
      "\n"
     ]
    },
    {
     "name": "stdout",
     "output_type": "stream",
     "text": [
      "layer=2, "
     ]
    },
    {
     "name": "stderr",
     "output_type": "stream",
     "text": [
      "/Users/anton/dev/MARS/correctness-model-internals/venv/lib/python3.11/site-packages/sklearn/linear_model/_logistic.py:469: ConvergenceWarning:\n",
      "\n",
      "lbfgs failed to converge (status=1):\n",
      "STOP: TOTAL NO. OF ITERATIONS REACHED LIMIT.\n",
      "\n",
      "Increase the number of iterations (max_iter) or scale the data as shown in:\n",
      "    https://scikit-learn.org/stable/modules/preprocessing.html\n",
      "Please also refer to the documentation for alternative solver options:\n",
      "    https://scikit-learn.org/stable/modules/linear_model.html#logistic-regression\n",
      "\n",
      "/Users/anton/dev/MARS/correctness-model-internals/venv/lib/python3.11/site-packages/sklearn/linear_model/_logistic.py:469: ConvergenceWarning:\n",
      "\n",
      "lbfgs failed to converge (status=1):\n",
      "STOP: TOTAL NO. OF ITERATIONS REACHED LIMIT.\n",
      "\n",
      "Increase the number of iterations (max_iter) or scale the data as shown in:\n",
      "    https://scikit-learn.org/stable/modules/preprocessing.html\n",
      "Please also refer to the documentation for alternative solver options:\n",
      "    https://scikit-learn.org/stable/modules/linear_model.html#logistic-regression\n",
      "\n",
      "/Users/anton/dev/MARS/correctness-model-internals/venv/lib/python3.11/site-packages/sklearn/linear_model/_logistic.py:469: ConvergenceWarning:\n",
      "\n",
      "lbfgs failed to converge (status=1):\n",
      "STOP: TOTAL NO. OF ITERATIONS REACHED LIMIT.\n",
      "\n",
      "Increase the number of iterations (max_iter) or scale the data as shown in:\n",
      "    https://scikit-learn.org/stable/modules/preprocessing.html\n",
      "Please also refer to the documentation for alternative solver options:\n",
      "    https://scikit-learn.org/stable/modules/linear_model.html#logistic-regression\n",
      "\n",
      "/Users/anton/dev/MARS/correctness-model-internals/venv/lib/python3.11/site-packages/sklearn/linear_model/_logistic.py:469: ConvergenceWarning:\n",
      "\n",
      "lbfgs failed to converge (status=1):\n",
      "STOP: TOTAL NO. OF ITERATIONS REACHED LIMIT.\n",
      "\n",
      "Increase the number of iterations (max_iter) or scale the data as shown in:\n",
      "    https://scikit-learn.org/stable/modules/preprocessing.html\n",
      "Please also refer to the documentation for alternative solver options:\n",
      "    https://scikit-learn.org/stable/modules/linear_model.html#logistic-regression\n",
      "\n",
      "/Users/anton/dev/MARS/correctness-model-internals/venv/lib/python3.11/site-packages/sklearn/linear_model/_logistic.py:469: ConvergenceWarning:\n",
      "\n",
      "lbfgs failed to converge (status=1):\n",
      "STOP: TOTAL NO. OF ITERATIONS REACHED LIMIT.\n",
      "\n",
      "Increase the number of iterations (max_iter) or scale the data as shown in:\n",
      "    https://scikit-learn.org/stable/modules/preprocessing.html\n",
      "Please also refer to the documentation for alternative solver options:\n",
      "    https://scikit-learn.org/stable/modules/linear_model.html#logistic-regression\n",
      "\n"
     ]
    },
    {
     "name": "stdout",
     "output_type": "stream",
     "text": [
      "layer=3, "
     ]
    },
    {
     "name": "stderr",
     "output_type": "stream",
     "text": [
      "/Users/anton/dev/MARS/correctness-model-internals/venv/lib/python3.11/site-packages/sklearn/linear_model/_logistic.py:469: ConvergenceWarning:\n",
      "\n",
      "lbfgs failed to converge (status=1):\n",
      "STOP: TOTAL NO. OF ITERATIONS REACHED LIMIT.\n",
      "\n",
      "Increase the number of iterations (max_iter) or scale the data as shown in:\n",
      "    https://scikit-learn.org/stable/modules/preprocessing.html\n",
      "Please also refer to the documentation for alternative solver options:\n",
      "    https://scikit-learn.org/stable/modules/linear_model.html#logistic-regression\n",
      "\n",
      "/Users/anton/dev/MARS/correctness-model-internals/venv/lib/python3.11/site-packages/sklearn/linear_model/_logistic.py:469: ConvergenceWarning:\n",
      "\n",
      "lbfgs failed to converge (status=1):\n",
      "STOP: TOTAL NO. OF ITERATIONS REACHED LIMIT.\n",
      "\n",
      "Increase the number of iterations (max_iter) or scale the data as shown in:\n",
      "    https://scikit-learn.org/stable/modules/preprocessing.html\n",
      "Please also refer to the documentation for alternative solver options:\n",
      "    https://scikit-learn.org/stable/modules/linear_model.html#logistic-regression\n",
      "\n",
      "/Users/anton/dev/MARS/correctness-model-internals/venv/lib/python3.11/site-packages/sklearn/linear_model/_logistic.py:469: ConvergenceWarning:\n",
      "\n",
      "lbfgs failed to converge (status=1):\n",
      "STOP: TOTAL NO. OF ITERATIONS REACHED LIMIT.\n",
      "\n",
      "Increase the number of iterations (max_iter) or scale the data as shown in:\n",
      "    https://scikit-learn.org/stable/modules/preprocessing.html\n",
      "Please also refer to the documentation for alternative solver options:\n",
      "    https://scikit-learn.org/stable/modules/linear_model.html#logistic-regression\n",
      "\n",
      "/Users/anton/dev/MARS/correctness-model-internals/venv/lib/python3.11/site-packages/sklearn/linear_model/_logistic.py:469: ConvergenceWarning:\n",
      "\n",
      "lbfgs failed to converge (status=1):\n",
      "STOP: TOTAL NO. OF ITERATIONS REACHED LIMIT.\n",
      "\n",
      "Increase the number of iterations (max_iter) or scale the data as shown in:\n",
      "    https://scikit-learn.org/stable/modules/preprocessing.html\n",
      "Please also refer to the documentation for alternative solver options:\n",
      "    https://scikit-learn.org/stable/modules/linear_model.html#logistic-regression\n",
      "\n",
      "/Users/anton/dev/MARS/correctness-model-internals/venv/lib/python3.11/site-packages/sklearn/linear_model/_logistic.py:469: ConvergenceWarning:\n",
      "\n",
      "lbfgs failed to converge (status=1):\n",
      "STOP: TOTAL NO. OF ITERATIONS REACHED LIMIT.\n",
      "\n",
      "Increase the number of iterations (max_iter) or scale the data as shown in:\n",
      "    https://scikit-learn.org/stable/modules/preprocessing.html\n",
      "Please also refer to the documentation for alternative solver options:\n",
      "    https://scikit-learn.org/stable/modules/linear_model.html#logistic-regression\n",
      "\n"
     ]
    },
    {
     "name": "stdout",
     "output_type": "stream",
     "text": [
      "layer=4, "
     ]
    },
    {
     "name": "stderr",
     "output_type": "stream",
     "text": [
      "/Users/anton/dev/MARS/correctness-model-internals/venv/lib/python3.11/site-packages/sklearn/linear_model/_logistic.py:469: ConvergenceWarning:\n",
      "\n",
      "lbfgs failed to converge (status=1):\n",
      "STOP: TOTAL NO. OF ITERATIONS REACHED LIMIT.\n",
      "\n",
      "Increase the number of iterations (max_iter) or scale the data as shown in:\n",
      "    https://scikit-learn.org/stable/modules/preprocessing.html\n",
      "Please also refer to the documentation for alternative solver options:\n",
      "    https://scikit-learn.org/stable/modules/linear_model.html#logistic-regression\n",
      "\n",
      "/Users/anton/dev/MARS/correctness-model-internals/venv/lib/python3.11/site-packages/sklearn/linear_model/_logistic.py:469: ConvergenceWarning:\n",
      "\n",
      "lbfgs failed to converge (status=1):\n",
      "STOP: TOTAL NO. OF ITERATIONS REACHED LIMIT.\n",
      "\n",
      "Increase the number of iterations (max_iter) or scale the data as shown in:\n",
      "    https://scikit-learn.org/stable/modules/preprocessing.html\n",
      "Please also refer to the documentation for alternative solver options:\n",
      "    https://scikit-learn.org/stable/modules/linear_model.html#logistic-regression\n",
      "\n",
      "/Users/anton/dev/MARS/correctness-model-internals/venv/lib/python3.11/site-packages/sklearn/linear_model/_logistic.py:469: ConvergenceWarning:\n",
      "\n",
      "lbfgs failed to converge (status=1):\n",
      "STOP: TOTAL NO. OF ITERATIONS REACHED LIMIT.\n",
      "\n",
      "Increase the number of iterations (max_iter) or scale the data as shown in:\n",
      "    https://scikit-learn.org/stable/modules/preprocessing.html\n",
      "Please also refer to the documentation for alternative solver options:\n",
      "    https://scikit-learn.org/stable/modules/linear_model.html#logistic-regression\n",
      "\n",
      "/Users/anton/dev/MARS/correctness-model-internals/venv/lib/python3.11/site-packages/sklearn/linear_model/_logistic.py:469: ConvergenceWarning:\n",
      "\n",
      "lbfgs failed to converge (status=1):\n",
      "STOP: TOTAL NO. OF ITERATIONS REACHED LIMIT.\n",
      "\n",
      "Increase the number of iterations (max_iter) or scale the data as shown in:\n",
      "    https://scikit-learn.org/stable/modules/preprocessing.html\n",
      "Please also refer to the documentation for alternative solver options:\n",
      "    https://scikit-learn.org/stable/modules/linear_model.html#logistic-regression\n",
      "\n",
      "/Users/anton/dev/MARS/correctness-model-internals/venv/lib/python3.11/site-packages/sklearn/linear_model/_logistic.py:469: ConvergenceWarning:\n",
      "\n",
      "lbfgs failed to converge (status=1):\n",
      "STOP: TOTAL NO. OF ITERATIONS REACHED LIMIT.\n",
      "\n",
      "Increase the number of iterations (max_iter) or scale the data as shown in:\n",
      "    https://scikit-learn.org/stable/modules/preprocessing.html\n",
      "Please also refer to the documentation for alternative solver options:\n",
      "    https://scikit-learn.org/stable/modules/linear_model.html#logistic-regression\n",
      "\n"
     ]
    },
    {
     "name": "stdout",
     "output_type": "stream",
     "text": [
      "layer=5, "
     ]
    },
    {
     "name": "stderr",
     "output_type": "stream",
     "text": [
      "/Users/anton/dev/MARS/correctness-model-internals/venv/lib/python3.11/site-packages/sklearn/linear_model/_logistic.py:469: ConvergenceWarning:\n",
      "\n",
      "lbfgs failed to converge (status=1):\n",
      "STOP: TOTAL NO. OF ITERATIONS REACHED LIMIT.\n",
      "\n",
      "Increase the number of iterations (max_iter) or scale the data as shown in:\n",
      "    https://scikit-learn.org/stable/modules/preprocessing.html\n",
      "Please also refer to the documentation for alternative solver options:\n",
      "    https://scikit-learn.org/stable/modules/linear_model.html#logistic-regression\n",
      "\n",
      "/Users/anton/dev/MARS/correctness-model-internals/venv/lib/python3.11/site-packages/sklearn/linear_model/_logistic.py:469: ConvergenceWarning:\n",
      "\n",
      "lbfgs failed to converge (status=1):\n",
      "STOP: TOTAL NO. OF ITERATIONS REACHED LIMIT.\n",
      "\n",
      "Increase the number of iterations (max_iter) or scale the data as shown in:\n",
      "    https://scikit-learn.org/stable/modules/preprocessing.html\n",
      "Please also refer to the documentation for alternative solver options:\n",
      "    https://scikit-learn.org/stable/modules/linear_model.html#logistic-regression\n",
      "\n",
      "/Users/anton/dev/MARS/correctness-model-internals/venv/lib/python3.11/site-packages/sklearn/linear_model/_logistic.py:469: ConvergenceWarning:\n",
      "\n",
      "lbfgs failed to converge (status=1):\n",
      "STOP: TOTAL NO. OF ITERATIONS REACHED LIMIT.\n",
      "\n",
      "Increase the number of iterations (max_iter) or scale the data as shown in:\n",
      "    https://scikit-learn.org/stable/modules/preprocessing.html\n",
      "Please also refer to the documentation for alternative solver options:\n",
      "    https://scikit-learn.org/stable/modules/linear_model.html#logistic-regression\n",
      "\n",
      "/Users/anton/dev/MARS/correctness-model-internals/venv/lib/python3.11/site-packages/sklearn/linear_model/_logistic.py:469: ConvergenceWarning:\n",
      "\n",
      "lbfgs failed to converge (status=1):\n",
      "STOP: TOTAL NO. OF ITERATIONS REACHED LIMIT.\n",
      "\n",
      "Increase the number of iterations (max_iter) or scale the data as shown in:\n",
      "    https://scikit-learn.org/stable/modules/preprocessing.html\n",
      "Please also refer to the documentation for alternative solver options:\n",
      "    https://scikit-learn.org/stable/modules/linear_model.html#logistic-regression\n",
      "\n",
      "/Users/anton/dev/MARS/correctness-model-internals/venv/lib/python3.11/site-packages/sklearn/linear_model/_logistic.py:469: ConvergenceWarning:\n",
      "\n",
      "lbfgs failed to converge (status=1):\n",
      "STOP: TOTAL NO. OF ITERATIONS REACHED LIMIT.\n",
      "\n",
      "Increase the number of iterations (max_iter) or scale the data as shown in:\n",
      "    https://scikit-learn.org/stable/modules/preprocessing.html\n",
      "Please also refer to the documentation for alternative solver options:\n",
      "    https://scikit-learn.org/stable/modules/linear_model.html#logistic-regression\n",
      "\n"
     ]
    },
    {
     "name": "stdout",
     "output_type": "stream",
     "text": [
      "layer=6, "
     ]
    },
    {
     "name": "stderr",
     "output_type": "stream",
     "text": [
      "/Users/anton/dev/MARS/correctness-model-internals/venv/lib/python3.11/site-packages/sklearn/linear_model/_logistic.py:469: ConvergenceWarning:\n",
      "\n",
      "lbfgs failed to converge (status=1):\n",
      "STOP: TOTAL NO. OF ITERATIONS REACHED LIMIT.\n",
      "\n",
      "Increase the number of iterations (max_iter) or scale the data as shown in:\n",
      "    https://scikit-learn.org/stable/modules/preprocessing.html\n",
      "Please also refer to the documentation for alternative solver options:\n",
      "    https://scikit-learn.org/stable/modules/linear_model.html#logistic-regression\n",
      "\n",
      "/Users/anton/dev/MARS/correctness-model-internals/venv/lib/python3.11/site-packages/sklearn/linear_model/_logistic.py:469: ConvergenceWarning:\n",
      "\n",
      "lbfgs failed to converge (status=1):\n",
      "STOP: TOTAL NO. OF ITERATIONS REACHED LIMIT.\n",
      "\n",
      "Increase the number of iterations (max_iter) or scale the data as shown in:\n",
      "    https://scikit-learn.org/stable/modules/preprocessing.html\n",
      "Please also refer to the documentation for alternative solver options:\n",
      "    https://scikit-learn.org/stable/modules/linear_model.html#logistic-regression\n",
      "\n",
      "/Users/anton/dev/MARS/correctness-model-internals/venv/lib/python3.11/site-packages/sklearn/linear_model/_logistic.py:469: ConvergenceWarning:\n",
      "\n",
      "lbfgs failed to converge (status=1):\n",
      "STOP: TOTAL NO. OF ITERATIONS REACHED LIMIT.\n",
      "\n",
      "Increase the number of iterations (max_iter) or scale the data as shown in:\n",
      "    https://scikit-learn.org/stable/modules/preprocessing.html\n",
      "Please also refer to the documentation for alternative solver options:\n",
      "    https://scikit-learn.org/stable/modules/linear_model.html#logistic-regression\n",
      "\n",
      "/Users/anton/dev/MARS/correctness-model-internals/venv/lib/python3.11/site-packages/sklearn/linear_model/_logistic.py:469: ConvergenceWarning:\n",
      "\n",
      "lbfgs failed to converge (status=1):\n",
      "STOP: TOTAL NO. OF ITERATIONS REACHED LIMIT.\n",
      "\n",
      "Increase the number of iterations (max_iter) or scale the data as shown in:\n",
      "    https://scikit-learn.org/stable/modules/preprocessing.html\n",
      "Please also refer to the documentation for alternative solver options:\n",
      "    https://scikit-learn.org/stable/modules/linear_model.html#logistic-regression\n",
      "\n",
      "/Users/anton/dev/MARS/correctness-model-internals/venv/lib/python3.11/site-packages/sklearn/linear_model/_logistic.py:469: ConvergenceWarning:\n",
      "\n",
      "lbfgs failed to converge (status=1):\n",
      "STOP: TOTAL NO. OF ITERATIONS REACHED LIMIT.\n",
      "\n",
      "Increase the number of iterations (max_iter) or scale the data as shown in:\n",
      "    https://scikit-learn.org/stable/modules/preprocessing.html\n",
      "Please also refer to the documentation for alternative solver options:\n",
      "    https://scikit-learn.org/stable/modules/linear_model.html#logistic-regression\n",
      "\n"
     ]
    },
    {
     "name": "stdout",
     "output_type": "stream",
     "text": [
      "layer=7, "
     ]
    },
    {
     "name": "stderr",
     "output_type": "stream",
     "text": [
      "/Users/anton/dev/MARS/correctness-model-internals/venv/lib/python3.11/site-packages/sklearn/linear_model/_logistic.py:469: ConvergenceWarning:\n",
      "\n",
      "lbfgs failed to converge (status=1):\n",
      "STOP: TOTAL NO. OF ITERATIONS REACHED LIMIT.\n",
      "\n",
      "Increase the number of iterations (max_iter) or scale the data as shown in:\n",
      "    https://scikit-learn.org/stable/modules/preprocessing.html\n",
      "Please also refer to the documentation for alternative solver options:\n",
      "    https://scikit-learn.org/stable/modules/linear_model.html#logistic-regression\n",
      "\n",
      "/Users/anton/dev/MARS/correctness-model-internals/venv/lib/python3.11/site-packages/sklearn/linear_model/_logistic.py:469: ConvergenceWarning:\n",
      "\n",
      "lbfgs failed to converge (status=1):\n",
      "STOP: TOTAL NO. OF ITERATIONS REACHED LIMIT.\n",
      "\n",
      "Increase the number of iterations (max_iter) or scale the data as shown in:\n",
      "    https://scikit-learn.org/stable/modules/preprocessing.html\n",
      "Please also refer to the documentation for alternative solver options:\n",
      "    https://scikit-learn.org/stable/modules/linear_model.html#logistic-regression\n",
      "\n",
      "/Users/anton/dev/MARS/correctness-model-internals/venv/lib/python3.11/site-packages/sklearn/linear_model/_logistic.py:469: ConvergenceWarning:\n",
      "\n",
      "lbfgs failed to converge (status=1):\n",
      "STOP: TOTAL NO. OF ITERATIONS REACHED LIMIT.\n",
      "\n",
      "Increase the number of iterations (max_iter) or scale the data as shown in:\n",
      "    https://scikit-learn.org/stable/modules/preprocessing.html\n",
      "Please also refer to the documentation for alternative solver options:\n",
      "    https://scikit-learn.org/stable/modules/linear_model.html#logistic-regression\n",
      "\n",
      "/Users/anton/dev/MARS/correctness-model-internals/venv/lib/python3.11/site-packages/sklearn/linear_model/_logistic.py:469: ConvergenceWarning:\n",
      "\n",
      "lbfgs failed to converge (status=1):\n",
      "STOP: TOTAL NO. OF ITERATIONS REACHED LIMIT.\n",
      "\n",
      "Increase the number of iterations (max_iter) or scale the data as shown in:\n",
      "    https://scikit-learn.org/stable/modules/preprocessing.html\n",
      "Please also refer to the documentation for alternative solver options:\n",
      "    https://scikit-learn.org/stable/modules/linear_model.html#logistic-regression\n",
      "\n",
      "/Users/anton/dev/MARS/correctness-model-internals/venv/lib/python3.11/site-packages/sklearn/linear_model/_logistic.py:469: ConvergenceWarning:\n",
      "\n",
      "lbfgs failed to converge (status=1):\n",
      "STOP: TOTAL NO. OF ITERATIONS REACHED LIMIT.\n",
      "\n",
      "Increase the number of iterations (max_iter) or scale the data as shown in:\n",
      "    https://scikit-learn.org/stable/modules/preprocessing.html\n",
      "Please also refer to the documentation for alternative solver options:\n",
      "    https://scikit-learn.org/stable/modules/linear_model.html#logistic-regression\n",
      "\n"
     ]
    },
    {
     "name": "stdout",
     "output_type": "stream",
     "text": [
      "layer=8, "
     ]
    },
    {
     "name": "stderr",
     "output_type": "stream",
     "text": [
      "/Users/anton/dev/MARS/correctness-model-internals/venv/lib/python3.11/site-packages/sklearn/linear_model/_logistic.py:469: ConvergenceWarning:\n",
      "\n",
      "lbfgs failed to converge (status=1):\n",
      "STOP: TOTAL NO. OF ITERATIONS REACHED LIMIT.\n",
      "\n",
      "Increase the number of iterations (max_iter) or scale the data as shown in:\n",
      "    https://scikit-learn.org/stable/modules/preprocessing.html\n",
      "Please also refer to the documentation for alternative solver options:\n",
      "    https://scikit-learn.org/stable/modules/linear_model.html#logistic-regression\n",
      "\n",
      "/Users/anton/dev/MARS/correctness-model-internals/venv/lib/python3.11/site-packages/sklearn/linear_model/_logistic.py:469: ConvergenceWarning:\n",
      "\n",
      "lbfgs failed to converge (status=1):\n",
      "STOP: TOTAL NO. OF ITERATIONS REACHED LIMIT.\n",
      "\n",
      "Increase the number of iterations (max_iter) or scale the data as shown in:\n",
      "    https://scikit-learn.org/stable/modules/preprocessing.html\n",
      "Please also refer to the documentation for alternative solver options:\n",
      "    https://scikit-learn.org/stable/modules/linear_model.html#logistic-regression\n",
      "\n",
      "/Users/anton/dev/MARS/correctness-model-internals/venv/lib/python3.11/site-packages/sklearn/linear_model/_logistic.py:469: ConvergenceWarning:\n",
      "\n",
      "lbfgs failed to converge (status=1):\n",
      "STOP: TOTAL NO. OF ITERATIONS REACHED LIMIT.\n",
      "\n",
      "Increase the number of iterations (max_iter) or scale the data as shown in:\n",
      "    https://scikit-learn.org/stable/modules/preprocessing.html\n",
      "Please also refer to the documentation for alternative solver options:\n",
      "    https://scikit-learn.org/stable/modules/linear_model.html#logistic-regression\n",
      "\n",
      "/Users/anton/dev/MARS/correctness-model-internals/venv/lib/python3.11/site-packages/sklearn/linear_model/_logistic.py:469: ConvergenceWarning:\n",
      "\n",
      "lbfgs failed to converge (status=1):\n",
      "STOP: TOTAL NO. OF ITERATIONS REACHED LIMIT.\n",
      "\n",
      "Increase the number of iterations (max_iter) or scale the data as shown in:\n",
      "    https://scikit-learn.org/stable/modules/preprocessing.html\n",
      "Please also refer to the documentation for alternative solver options:\n",
      "    https://scikit-learn.org/stable/modules/linear_model.html#logistic-regression\n",
      "\n",
      "/Users/anton/dev/MARS/correctness-model-internals/venv/lib/python3.11/site-packages/sklearn/linear_model/_logistic.py:469: ConvergenceWarning:\n",
      "\n",
      "lbfgs failed to converge (status=1):\n",
      "STOP: TOTAL NO. OF ITERATIONS REACHED LIMIT.\n",
      "\n",
      "Increase the number of iterations (max_iter) or scale the data as shown in:\n",
      "    https://scikit-learn.org/stable/modules/preprocessing.html\n",
      "Please also refer to the documentation for alternative solver options:\n",
      "    https://scikit-learn.org/stable/modules/linear_model.html#logistic-regression\n",
      "\n"
     ]
    },
    {
     "name": "stdout",
     "output_type": "stream",
     "text": [
      "layer=9, "
     ]
    },
    {
     "name": "stderr",
     "output_type": "stream",
     "text": [
      "/Users/anton/dev/MARS/correctness-model-internals/venv/lib/python3.11/site-packages/sklearn/linear_model/_logistic.py:469: ConvergenceWarning:\n",
      "\n",
      "lbfgs failed to converge (status=1):\n",
      "STOP: TOTAL NO. OF ITERATIONS REACHED LIMIT.\n",
      "\n",
      "Increase the number of iterations (max_iter) or scale the data as shown in:\n",
      "    https://scikit-learn.org/stable/modules/preprocessing.html\n",
      "Please also refer to the documentation for alternative solver options:\n",
      "    https://scikit-learn.org/stable/modules/linear_model.html#logistic-regression\n",
      "\n",
      "/Users/anton/dev/MARS/correctness-model-internals/venv/lib/python3.11/site-packages/sklearn/linear_model/_logistic.py:469: ConvergenceWarning:\n",
      "\n",
      "lbfgs failed to converge (status=1):\n",
      "STOP: TOTAL NO. OF ITERATIONS REACHED LIMIT.\n",
      "\n",
      "Increase the number of iterations (max_iter) or scale the data as shown in:\n",
      "    https://scikit-learn.org/stable/modules/preprocessing.html\n",
      "Please also refer to the documentation for alternative solver options:\n",
      "    https://scikit-learn.org/stable/modules/linear_model.html#logistic-regression\n",
      "\n",
      "/Users/anton/dev/MARS/correctness-model-internals/venv/lib/python3.11/site-packages/sklearn/linear_model/_logistic.py:469: ConvergenceWarning:\n",
      "\n",
      "lbfgs failed to converge (status=1):\n",
      "STOP: TOTAL NO. OF ITERATIONS REACHED LIMIT.\n",
      "\n",
      "Increase the number of iterations (max_iter) or scale the data as shown in:\n",
      "    https://scikit-learn.org/stable/modules/preprocessing.html\n",
      "Please also refer to the documentation for alternative solver options:\n",
      "    https://scikit-learn.org/stable/modules/linear_model.html#logistic-regression\n",
      "\n",
      "/Users/anton/dev/MARS/correctness-model-internals/venv/lib/python3.11/site-packages/sklearn/linear_model/_logistic.py:469: ConvergenceWarning:\n",
      "\n",
      "lbfgs failed to converge (status=1):\n",
      "STOP: TOTAL NO. OF ITERATIONS REACHED LIMIT.\n",
      "\n",
      "Increase the number of iterations (max_iter) or scale the data as shown in:\n",
      "    https://scikit-learn.org/stable/modules/preprocessing.html\n",
      "Please also refer to the documentation for alternative solver options:\n",
      "    https://scikit-learn.org/stable/modules/linear_model.html#logistic-regression\n",
      "\n",
      "/Users/anton/dev/MARS/correctness-model-internals/venv/lib/python3.11/site-packages/sklearn/linear_model/_logistic.py:469: ConvergenceWarning:\n",
      "\n",
      "lbfgs failed to converge (status=1):\n",
      "STOP: TOTAL NO. OF ITERATIONS REACHED LIMIT.\n",
      "\n",
      "Increase the number of iterations (max_iter) or scale the data as shown in:\n",
      "    https://scikit-learn.org/stable/modules/preprocessing.html\n",
      "Please also refer to the documentation for alternative solver options:\n",
      "    https://scikit-learn.org/stable/modules/linear_model.html#logistic-regression\n",
      "\n"
     ]
    },
    {
     "name": "stdout",
     "output_type": "stream",
     "text": [
      "layer=10, "
     ]
    },
    {
     "name": "stderr",
     "output_type": "stream",
     "text": [
      "/Users/anton/dev/MARS/correctness-model-internals/venv/lib/python3.11/site-packages/sklearn/linear_model/_logistic.py:469: ConvergenceWarning:\n",
      "\n",
      "lbfgs failed to converge (status=1):\n",
      "STOP: TOTAL NO. OF ITERATIONS REACHED LIMIT.\n",
      "\n",
      "Increase the number of iterations (max_iter) or scale the data as shown in:\n",
      "    https://scikit-learn.org/stable/modules/preprocessing.html\n",
      "Please also refer to the documentation for alternative solver options:\n",
      "    https://scikit-learn.org/stable/modules/linear_model.html#logistic-regression\n",
      "\n",
      "/Users/anton/dev/MARS/correctness-model-internals/venv/lib/python3.11/site-packages/sklearn/linear_model/_logistic.py:469: ConvergenceWarning:\n",
      "\n",
      "lbfgs failed to converge (status=1):\n",
      "STOP: TOTAL NO. OF ITERATIONS REACHED LIMIT.\n",
      "\n",
      "Increase the number of iterations (max_iter) or scale the data as shown in:\n",
      "    https://scikit-learn.org/stable/modules/preprocessing.html\n",
      "Please also refer to the documentation for alternative solver options:\n",
      "    https://scikit-learn.org/stable/modules/linear_model.html#logistic-regression\n",
      "\n",
      "/Users/anton/dev/MARS/correctness-model-internals/venv/lib/python3.11/site-packages/sklearn/linear_model/_logistic.py:469: ConvergenceWarning:\n",
      "\n",
      "lbfgs failed to converge (status=1):\n",
      "STOP: TOTAL NO. OF ITERATIONS REACHED LIMIT.\n",
      "\n",
      "Increase the number of iterations (max_iter) or scale the data as shown in:\n",
      "    https://scikit-learn.org/stable/modules/preprocessing.html\n",
      "Please also refer to the documentation for alternative solver options:\n",
      "    https://scikit-learn.org/stable/modules/linear_model.html#logistic-regression\n",
      "\n",
      "/Users/anton/dev/MARS/correctness-model-internals/venv/lib/python3.11/site-packages/sklearn/linear_model/_logistic.py:469: ConvergenceWarning:\n",
      "\n",
      "lbfgs failed to converge (status=1):\n",
      "STOP: TOTAL NO. OF ITERATIONS REACHED LIMIT.\n",
      "\n",
      "Increase the number of iterations (max_iter) or scale the data as shown in:\n",
      "    https://scikit-learn.org/stable/modules/preprocessing.html\n",
      "Please also refer to the documentation for alternative solver options:\n",
      "    https://scikit-learn.org/stable/modules/linear_model.html#logistic-regression\n",
      "\n",
      "/Users/anton/dev/MARS/correctness-model-internals/venv/lib/python3.11/site-packages/sklearn/linear_model/_logistic.py:469: ConvergenceWarning:\n",
      "\n",
      "lbfgs failed to converge (status=1):\n",
      "STOP: TOTAL NO. OF ITERATIONS REACHED LIMIT.\n",
      "\n",
      "Increase the number of iterations (max_iter) or scale the data as shown in:\n",
      "    https://scikit-learn.org/stable/modules/preprocessing.html\n",
      "Please also refer to the documentation for alternative solver options:\n",
      "    https://scikit-learn.org/stable/modules/linear_model.html#logistic-regression\n",
      "\n"
     ]
    },
    {
     "name": "stdout",
     "output_type": "stream",
     "text": [
      "layer=11, "
     ]
    },
    {
     "name": "stderr",
     "output_type": "stream",
     "text": [
      "/Users/anton/dev/MARS/correctness-model-internals/venv/lib/python3.11/site-packages/sklearn/linear_model/_logistic.py:469: ConvergenceWarning:\n",
      "\n",
      "lbfgs failed to converge (status=1):\n",
      "STOP: TOTAL NO. OF ITERATIONS REACHED LIMIT.\n",
      "\n",
      "Increase the number of iterations (max_iter) or scale the data as shown in:\n",
      "    https://scikit-learn.org/stable/modules/preprocessing.html\n",
      "Please also refer to the documentation for alternative solver options:\n",
      "    https://scikit-learn.org/stable/modules/linear_model.html#logistic-regression\n",
      "\n",
      "/Users/anton/dev/MARS/correctness-model-internals/venv/lib/python3.11/site-packages/sklearn/linear_model/_logistic.py:469: ConvergenceWarning:\n",
      "\n",
      "lbfgs failed to converge (status=1):\n",
      "STOP: TOTAL NO. OF ITERATIONS REACHED LIMIT.\n",
      "\n",
      "Increase the number of iterations (max_iter) or scale the data as shown in:\n",
      "    https://scikit-learn.org/stable/modules/preprocessing.html\n",
      "Please also refer to the documentation for alternative solver options:\n",
      "    https://scikit-learn.org/stable/modules/linear_model.html#logistic-regression\n",
      "\n",
      "/Users/anton/dev/MARS/correctness-model-internals/venv/lib/python3.11/site-packages/sklearn/linear_model/_logistic.py:469: ConvergenceWarning:\n",
      "\n",
      "lbfgs failed to converge (status=1):\n",
      "STOP: TOTAL NO. OF ITERATIONS REACHED LIMIT.\n",
      "\n",
      "Increase the number of iterations (max_iter) or scale the data as shown in:\n",
      "    https://scikit-learn.org/stable/modules/preprocessing.html\n",
      "Please also refer to the documentation for alternative solver options:\n",
      "    https://scikit-learn.org/stable/modules/linear_model.html#logistic-regression\n",
      "\n",
      "/Users/anton/dev/MARS/correctness-model-internals/venv/lib/python3.11/site-packages/sklearn/linear_model/_logistic.py:469: ConvergenceWarning:\n",
      "\n",
      "lbfgs failed to converge (status=1):\n",
      "STOP: TOTAL NO. OF ITERATIONS REACHED LIMIT.\n",
      "\n",
      "Increase the number of iterations (max_iter) or scale the data as shown in:\n",
      "    https://scikit-learn.org/stable/modules/preprocessing.html\n",
      "Please also refer to the documentation for alternative solver options:\n",
      "    https://scikit-learn.org/stable/modules/linear_model.html#logistic-regression\n",
      "\n",
      "/Users/anton/dev/MARS/correctness-model-internals/venv/lib/python3.11/site-packages/sklearn/linear_model/_logistic.py:469: ConvergenceWarning:\n",
      "\n",
      "lbfgs failed to converge (status=1):\n",
      "STOP: TOTAL NO. OF ITERATIONS REACHED LIMIT.\n",
      "\n",
      "Increase the number of iterations (max_iter) or scale the data as shown in:\n",
      "    https://scikit-learn.org/stable/modules/preprocessing.html\n",
      "Please also refer to the documentation for alternative solver options:\n",
      "    https://scikit-learn.org/stable/modules/linear_model.html#logistic-regression\n",
      "\n"
     ]
    },
    {
     "name": "stdout",
     "output_type": "stream",
     "text": [
      "layer=12, "
     ]
    },
    {
     "name": "stderr",
     "output_type": "stream",
     "text": [
      "/Users/anton/dev/MARS/correctness-model-internals/venv/lib/python3.11/site-packages/sklearn/linear_model/_logistic.py:469: ConvergenceWarning:\n",
      "\n",
      "lbfgs failed to converge (status=1):\n",
      "STOP: TOTAL NO. OF ITERATIONS REACHED LIMIT.\n",
      "\n",
      "Increase the number of iterations (max_iter) or scale the data as shown in:\n",
      "    https://scikit-learn.org/stable/modules/preprocessing.html\n",
      "Please also refer to the documentation for alternative solver options:\n",
      "    https://scikit-learn.org/stable/modules/linear_model.html#logistic-regression\n",
      "\n",
      "/Users/anton/dev/MARS/correctness-model-internals/venv/lib/python3.11/site-packages/sklearn/linear_model/_logistic.py:469: ConvergenceWarning:\n",
      "\n",
      "lbfgs failed to converge (status=1):\n",
      "STOP: TOTAL NO. OF ITERATIONS REACHED LIMIT.\n",
      "\n",
      "Increase the number of iterations (max_iter) or scale the data as shown in:\n",
      "    https://scikit-learn.org/stable/modules/preprocessing.html\n",
      "Please also refer to the documentation for alternative solver options:\n",
      "    https://scikit-learn.org/stable/modules/linear_model.html#logistic-regression\n",
      "\n",
      "/Users/anton/dev/MARS/correctness-model-internals/venv/lib/python3.11/site-packages/sklearn/linear_model/_logistic.py:469: ConvergenceWarning:\n",
      "\n",
      "lbfgs failed to converge (status=1):\n",
      "STOP: TOTAL NO. OF ITERATIONS REACHED LIMIT.\n",
      "\n",
      "Increase the number of iterations (max_iter) or scale the data as shown in:\n",
      "    https://scikit-learn.org/stable/modules/preprocessing.html\n",
      "Please also refer to the documentation for alternative solver options:\n",
      "    https://scikit-learn.org/stable/modules/linear_model.html#logistic-regression\n",
      "\n",
      "/Users/anton/dev/MARS/correctness-model-internals/venv/lib/python3.11/site-packages/sklearn/linear_model/_logistic.py:469: ConvergenceWarning:\n",
      "\n",
      "lbfgs failed to converge (status=1):\n",
      "STOP: TOTAL NO. OF ITERATIONS REACHED LIMIT.\n",
      "\n",
      "Increase the number of iterations (max_iter) or scale the data as shown in:\n",
      "    https://scikit-learn.org/stable/modules/preprocessing.html\n",
      "Please also refer to the documentation for alternative solver options:\n",
      "    https://scikit-learn.org/stable/modules/linear_model.html#logistic-regression\n",
      "\n",
      "/Users/anton/dev/MARS/correctness-model-internals/venv/lib/python3.11/site-packages/sklearn/linear_model/_logistic.py:469: ConvergenceWarning:\n",
      "\n",
      "lbfgs failed to converge (status=1):\n",
      "STOP: TOTAL NO. OF ITERATIONS REACHED LIMIT.\n",
      "\n",
      "Increase the number of iterations (max_iter) or scale the data as shown in:\n",
      "    https://scikit-learn.org/stable/modules/preprocessing.html\n",
      "Please also refer to the documentation for alternative solver options:\n",
      "    https://scikit-learn.org/stable/modules/linear_model.html#logistic-regression\n",
      "\n"
     ]
    },
    {
     "name": "stdout",
     "output_type": "stream",
     "text": [
      "layer=13, "
     ]
    },
    {
     "name": "stderr",
     "output_type": "stream",
     "text": [
      "/Users/anton/dev/MARS/correctness-model-internals/venv/lib/python3.11/site-packages/sklearn/linear_model/_logistic.py:469: ConvergenceWarning:\n",
      "\n",
      "lbfgs failed to converge (status=1):\n",
      "STOP: TOTAL NO. OF ITERATIONS REACHED LIMIT.\n",
      "\n",
      "Increase the number of iterations (max_iter) or scale the data as shown in:\n",
      "    https://scikit-learn.org/stable/modules/preprocessing.html\n",
      "Please also refer to the documentation for alternative solver options:\n",
      "    https://scikit-learn.org/stable/modules/linear_model.html#logistic-regression\n",
      "\n",
      "/Users/anton/dev/MARS/correctness-model-internals/venv/lib/python3.11/site-packages/sklearn/linear_model/_logistic.py:469: ConvergenceWarning:\n",
      "\n",
      "lbfgs failed to converge (status=1):\n",
      "STOP: TOTAL NO. OF ITERATIONS REACHED LIMIT.\n",
      "\n",
      "Increase the number of iterations (max_iter) or scale the data as shown in:\n",
      "    https://scikit-learn.org/stable/modules/preprocessing.html\n",
      "Please also refer to the documentation for alternative solver options:\n",
      "    https://scikit-learn.org/stable/modules/linear_model.html#logistic-regression\n",
      "\n",
      "/Users/anton/dev/MARS/correctness-model-internals/venv/lib/python3.11/site-packages/sklearn/linear_model/_logistic.py:469: ConvergenceWarning:\n",
      "\n",
      "lbfgs failed to converge (status=1):\n",
      "STOP: TOTAL NO. OF ITERATIONS REACHED LIMIT.\n",
      "\n",
      "Increase the number of iterations (max_iter) or scale the data as shown in:\n",
      "    https://scikit-learn.org/stable/modules/preprocessing.html\n",
      "Please also refer to the documentation for alternative solver options:\n",
      "    https://scikit-learn.org/stable/modules/linear_model.html#logistic-regression\n",
      "\n",
      "/Users/anton/dev/MARS/correctness-model-internals/venv/lib/python3.11/site-packages/sklearn/linear_model/_logistic.py:469: ConvergenceWarning:\n",
      "\n",
      "lbfgs failed to converge (status=1):\n",
      "STOP: TOTAL NO. OF ITERATIONS REACHED LIMIT.\n",
      "\n",
      "Increase the number of iterations (max_iter) or scale the data as shown in:\n",
      "    https://scikit-learn.org/stable/modules/preprocessing.html\n",
      "Please also refer to the documentation for alternative solver options:\n",
      "    https://scikit-learn.org/stable/modules/linear_model.html#logistic-regression\n",
      "\n",
      "/Users/anton/dev/MARS/correctness-model-internals/venv/lib/python3.11/site-packages/sklearn/linear_model/_logistic.py:469: ConvergenceWarning:\n",
      "\n",
      "lbfgs failed to converge (status=1):\n",
      "STOP: TOTAL NO. OF ITERATIONS REACHED LIMIT.\n",
      "\n",
      "Increase the number of iterations (max_iter) or scale the data as shown in:\n",
      "    https://scikit-learn.org/stable/modules/preprocessing.html\n",
      "Please also refer to the documentation for alternative solver options:\n",
      "    https://scikit-learn.org/stable/modules/linear_model.html#logistic-regression\n",
      "\n"
     ]
    },
    {
     "name": "stdout",
     "output_type": "stream",
     "text": [
      "layer=14, "
     ]
    },
    {
     "name": "stderr",
     "output_type": "stream",
     "text": [
      "/Users/anton/dev/MARS/correctness-model-internals/venv/lib/python3.11/site-packages/sklearn/linear_model/_logistic.py:469: ConvergenceWarning:\n",
      "\n",
      "lbfgs failed to converge (status=1):\n",
      "STOP: TOTAL NO. OF ITERATIONS REACHED LIMIT.\n",
      "\n",
      "Increase the number of iterations (max_iter) or scale the data as shown in:\n",
      "    https://scikit-learn.org/stable/modules/preprocessing.html\n",
      "Please also refer to the documentation for alternative solver options:\n",
      "    https://scikit-learn.org/stable/modules/linear_model.html#logistic-regression\n",
      "\n",
      "/Users/anton/dev/MARS/correctness-model-internals/venv/lib/python3.11/site-packages/sklearn/linear_model/_logistic.py:469: ConvergenceWarning:\n",
      "\n",
      "lbfgs failed to converge (status=1):\n",
      "STOP: TOTAL NO. OF ITERATIONS REACHED LIMIT.\n",
      "\n",
      "Increase the number of iterations (max_iter) or scale the data as shown in:\n",
      "    https://scikit-learn.org/stable/modules/preprocessing.html\n",
      "Please also refer to the documentation for alternative solver options:\n",
      "    https://scikit-learn.org/stable/modules/linear_model.html#logistic-regression\n",
      "\n",
      "/Users/anton/dev/MARS/correctness-model-internals/venv/lib/python3.11/site-packages/sklearn/linear_model/_logistic.py:469: ConvergenceWarning:\n",
      "\n",
      "lbfgs failed to converge (status=1):\n",
      "STOP: TOTAL NO. OF ITERATIONS REACHED LIMIT.\n",
      "\n",
      "Increase the number of iterations (max_iter) or scale the data as shown in:\n",
      "    https://scikit-learn.org/stable/modules/preprocessing.html\n",
      "Please also refer to the documentation for alternative solver options:\n",
      "    https://scikit-learn.org/stable/modules/linear_model.html#logistic-regression\n",
      "\n",
      "/Users/anton/dev/MARS/correctness-model-internals/venv/lib/python3.11/site-packages/sklearn/linear_model/_logistic.py:469: ConvergenceWarning:\n",
      "\n",
      "lbfgs failed to converge (status=1):\n",
      "STOP: TOTAL NO. OF ITERATIONS REACHED LIMIT.\n",
      "\n",
      "Increase the number of iterations (max_iter) or scale the data as shown in:\n",
      "    https://scikit-learn.org/stable/modules/preprocessing.html\n",
      "Please also refer to the documentation for alternative solver options:\n",
      "    https://scikit-learn.org/stable/modules/linear_model.html#logistic-regression\n",
      "\n",
      "/Users/anton/dev/MARS/correctness-model-internals/venv/lib/python3.11/site-packages/sklearn/linear_model/_logistic.py:469: ConvergenceWarning:\n",
      "\n",
      "lbfgs failed to converge (status=1):\n",
      "STOP: TOTAL NO. OF ITERATIONS REACHED LIMIT.\n",
      "\n",
      "Increase the number of iterations (max_iter) or scale the data as shown in:\n",
      "    https://scikit-learn.org/stable/modules/preprocessing.html\n",
      "Please also refer to the documentation for alternative solver options:\n",
      "    https://scikit-learn.org/stable/modules/linear_model.html#logistic-regression\n",
      "\n"
     ]
    },
    {
     "name": "stdout",
     "output_type": "stream",
     "text": [
      "layer=15, "
     ]
    },
    {
     "name": "stderr",
     "output_type": "stream",
     "text": [
      "/Users/anton/dev/MARS/correctness-model-internals/venv/lib/python3.11/site-packages/sklearn/linear_model/_logistic.py:469: ConvergenceWarning:\n",
      "\n",
      "lbfgs failed to converge (status=1):\n",
      "STOP: TOTAL NO. OF ITERATIONS REACHED LIMIT.\n",
      "\n",
      "Increase the number of iterations (max_iter) or scale the data as shown in:\n",
      "    https://scikit-learn.org/stable/modules/preprocessing.html\n",
      "Please also refer to the documentation for alternative solver options:\n",
      "    https://scikit-learn.org/stable/modules/linear_model.html#logistic-regression\n",
      "\n",
      "/Users/anton/dev/MARS/correctness-model-internals/venv/lib/python3.11/site-packages/sklearn/linear_model/_logistic.py:469: ConvergenceWarning:\n",
      "\n",
      "lbfgs failed to converge (status=1):\n",
      "STOP: TOTAL NO. OF ITERATIONS REACHED LIMIT.\n",
      "\n",
      "Increase the number of iterations (max_iter) or scale the data as shown in:\n",
      "    https://scikit-learn.org/stable/modules/preprocessing.html\n",
      "Please also refer to the documentation for alternative solver options:\n",
      "    https://scikit-learn.org/stable/modules/linear_model.html#logistic-regression\n",
      "\n",
      "/Users/anton/dev/MARS/correctness-model-internals/venv/lib/python3.11/site-packages/sklearn/linear_model/_logistic.py:469: ConvergenceWarning:\n",
      "\n",
      "lbfgs failed to converge (status=1):\n",
      "STOP: TOTAL NO. OF ITERATIONS REACHED LIMIT.\n",
      "\n",
      "Increase the number of iterations (max_iter) or scale the data as shown in:\n",
      "    https://scikit-learn.org/stable/modules/preprocessing.html\n",
      "Please also refer to the documentation for alternative solver options:\n",
      "    https://scikit-learn.org/stable/modules/linear_model.html#logistic-regression\n",
      "\n",
      "/Users/anton/dev/MARS/correctness-model-internals/venv/lib/python3.11/site-packages/sklearn/linear_model/_logistic.py:469: ConvergenceWarning:\n",
      "\n",
      "lbfgs failed to converge (status=1):\n",
      "STOP: TOTAL NO. OF ITERATIONS REACHED LIMIT.\n",
      "\n",
      "Increase the number of iterations (max_iter) or scale the data as shown in:\n",
      "    https://scikit-learn.org/stable/modules/preprocessing.html\n",
      "Please also refer to the documentation for alternative solver options:\n",
      "    https://scikit-learn.org/stable/modules/linear_model.html#logistic-regression\n",
      "\n",
      "/Users/anton/dev/MARS/correctness-model-internals/venv/lib/python3.11/site-packages/sklearn/linear_model/_logistic.py:469: ConvergenceWarning:\n",
      "\n",
      "lbfgs failed to converge (status=1):\n",
      "STOP: TOTAL NO. OF ITERATIONS REACHED LIMIT.\n",
      "\n",
      "Increase the number of iterations (max_iter) or scale the data as shown in:\n",
      "    https://scikit-learn.org/stable/modules/preprocessing.html\n",
      "Please also refer to the documentation for alternative solver options:\n",
      "    https://scikit-learn.org/stable/modules/linear_model.html#logistic-regression\n",
      "\n"
     ]
    },
    {
     "name": "stdout",
     "output_type": "stream",
     "text": [
      "layer=16, "
     ]
    },
    {
     "name": "stderr",
     "output_type": "stream",
     "text": [
      "/Users/anton/dev/MARS/correctness-model-internals/venv/lib/python3.11/site-packages/sklearn/linear_model/_logistic.py:469: ConvergenceWarning:\n",
      "\n",
      "lbfgs failed to converge (status=1):\n",
      "STOP: TOTAL NO. OF ITERATIONS REACHED LIMIT.\n",
      "\n",
      "Increase the number of iterations (max_iter) or scale the data as shown in:\n",
      "    https://scikit-learn.org/stable/modules/preprocessing.html\n",
      "Please also refer to the documentation for alternative solver options:\n",
      "    https://scikit-learn.org/stable/modules/linear_model.html#logistic-regression\n",
      "\n",
      "/Users/anton/dev/MARS/correctness-model-internals/venv/lib/python3.11/site-packages/sklearn/linear_model/_logistic.py:469: ConvergenceWarning:\n",
      "\n",
      "lbfgs failed to converge (status=1):\n",
      "STOP: TOTAL NO. OF ITERATIONS REACHED LIMIT.\n",
      "\n",
      "Increase the number of iterations (max_iter) or scale the data as shown in:\n",
      "    https://scikit-learn.org/stable/modules/preprocessing.html\n",
      "Please also refer to the documentation for alternative solver options:\n",
      "    https://scikit-learn.org/stable/modules/linear_model.html#logistic-regression\n",
      "\n",
      "/Users/anton/dev/MARS/correctness-model-internals/venv/lib/python3.11/site-packages/sklearn/linear_model/_logistic.py:469: ConvergenceWarning:\n",
      "\n",
      "lbfgs failed to converge (status=1):\n",
      "STOP: TOTAL NO. OF ITERATIONS REACHED LIMIT.\n",
      "\n",
      "Increase the number of iterations (max_iter) or scale the data as shown in:\n",
      "    https://scikit-learn.org/stable/modules/preprocessing.html\n",
      "Please also refer to the documentation for alternative solver options:\n",
      "    https://scikit-learn.org/stable/modules/linear_model.html#logistic-regression\n",
      "\n",
      "/Users/anton/dev/MARS/correctness-model-internals/venv/lib/python3.11/site-packages/sklearn/linear_model/_logistic.py:469: ConvergenceWarning:\n",
      "\n",
      "lbfgs failed to converge (status=1):\n",
      "STOP: TOTAL NO. OF ITERATIONS REACHED LIMIT.\n",
      "\n",
      "Increase the number of iterations (max_iter) or scale the data as shown in:\n",
      "    https://scikit-learn.org/stable/modules/preprocessing.html\n",
      "Please also refer to the documentation for alternative solver options:\n",
      "    https://scikit-learn.org/stable/modules/linear_model.html#logistic-regression\n",
      "\n",
      "/Users/anton/dev/MARS/correctness-model-internals/venv/lib/python3.11/site-packages/sklearn/linear_model/_logistic.py:469: ConvergenceWarning:\n",
      "\n",
      "lbfgs failed to converge (status=1):\n",
      "STOP: TOTAL NO. OF ITERATIONS REACHED LIMIT.\n",
      "\n",
      "Increase the number of iterations (max_iter) or scale the data as shown in:\n",
      "    https://scikit-learn.org/stable/modules/preprocessing.html\n",
      "Please also refer to the documentation for alternative solver options:\n",
      "    https://scikit-learn.org/stable/modules/linear_model.html#logistic-regression\n",
      "\n"
     ]
    },
    {
     "name": "stdout",
     "output_type": "stream",
     "text": [
      "layer=17, "
     ]
    },
    {
     "name": "stderr",
     "output_type": "stream",
     "text": [
      "/Users/anton/dev/MARS/correctness-model-internals/venv/lib/python3.11/site-packages/sklearn/linear_model/_logistic.py:469: ConvergenceWarning:\n",
      "\n",
      "lbfgs failed to converge (status=1):\n",
      "STOP: TOTAL NO. OF ITERATIONS REACHED LIMIT.\n",
      "\n",
      "Increase the number of iterations (max_iter) or scale the data as shown in:\n",
      "    https://scikit-learn.org/stable/modules/preprocessing.html\n",
      "Please also refer to the documentation for alternative solver options:\n",
      "    https://scikit-learn.org/stable/modules/linear_model.html#logistic-regression\n",
      "\n",
      "/Users/anton/dev/MARS/correctness-model-internals/venv/lib/python3.11/site-packages/sklearn/linear_model/_logistic.py:469: ConvergenceWarning:\n",
      "\n",
      "lbfgs failed to converge (status=1):\n",
      "STOP: TOTAL NO. OF ITERATIONS REACHED LIMIT.\n",
      "\n",
      "Increase the number of iterations (max_iter) or scale the data as shown in:\n",
      "    https://scikit-learn.org/stable/modules/preprocessing.html\n",
      "Please also refer to the documentation for alternative solver options:\n",
      "    https://scikit-learn.org/stable/modules/linear_model.html#logistic-regression\n",
      "\n",
      "/Users/anton/dev/MARS/correctness-model-internals/venv/lib/python3.11/site-packages/sklearn/linear_model/_logistic.py:469: ConvergenceWarning:\n",
      "\n",
      "lbfgs failed to converge (status=1):\n",
      "STOP: TOTAL NO. OF ITERATIONS REACHED LIMIT.\n",
      "\n",
      "Increase the number of iterations (max_iter) or scale the data as shown in:\n",
      "    https://scikit-learn.org/stable/modules/preprocessing.html\n",
      "Please also refer to the documentation for alternative solver options:\n",
      "    https://scikit-learn.org/stable/modules/linear_model.html#logistic-regression\n",
      "\n",
      "/Users/anton/dev/MARS/correctness-model-internals/venv/lib/python3.11/site-packages/sklearn/linear_model/_logistic.py:469: ConvergenceWarning:\n",
      "\n",
      "lbfgs failed to converge (status=1):\n",
      "STOP: TOTAL NO. OF ITERATIONS REACHED LIMIT.\n",
      "\n",
      "Increase the number of iterations (max_iter) or scale the data as shown in:\n",
      "    https://scikit-learn.org/stable/modules/preprocessing.html\n",
      "Please also refer to the documentation for alternative solver options:\n",
      "    https://scikit-learn.org/stable/modules/linear_model.html#logistic-regression\n",
      "\n",
      "/Users/anton/dev/MARS/correctness-model-internals/venv/lib/python3.11/site-packages/sklearn/linear_model/_logistic.py:469: ConvergenceWarning:\n",
      "\n",
      "lbfgs failed to converge (status=1):\n",
      "STOP: TOTAL NO. OF ITERATIONS REACHED LIMIT.\n",
      "\n",
      "Increase the number of iterations (max_iter) or scale the data as shown in:\n",
      "    https://scikit-learn.org/stable/modules/preprocessing.html\n",
      "Please also refer to the documentation for alternative solver options:\n",
      "    https://scikit-learn.org/stable/modules/linear_model.html#logistic-regression\n",
      "\n"
     ]
    },
    {
     "name": "stdout",
     "output_type": "stream",
     "text": [
      "layer=18, "
     ]
    },
    {
     "name": "stderr",
     "output_type": "stream",
     "text": [
      "/Users/anton/dev/MARS/correctness-model-internals/venv/lib/python3.11/site-packages/sklearn/linear_model/_logistic.py:469: ConvergenceWarning:\n",
      "\n",
      "lbfgs failed to converge (status=1):\n",
      "STOP: TOTAL NO. OF ITERATIONS REACHED LIMIT.\n",
      "\n",
      "Increase the number of iterations (max_iter) or scale the data as shown in:\n",
      "    https://scikit-learn.org/stable/modules/preprocessing.html\n",
      "Please also refer to the documentation for alternative solver options:\n",
      "    https://scikit-learn.org/stable/modules/linear_model.html#logistic-regression\n",
      "\n",
      "/Users/anton/dev/MARS/correctness-model-internals/venv/lib/python3.11/site-packages/sklearn/linear_model/_logistic.py:469: ConvergenceWarning:\n",
      "\n",
      "lbfgs failed to converge (status=1):\n",
      "STOP: TOTAL NO. OF ITERATIONS REACHED LIMIT.\n",
      "\n",
      "Increase the number of iterations (max_iter) or scale the data as shown in:\n",
      "    https://scikit-learn.org/stable/modules/preprocessing.html\n",
      "Please also refer to the documentation for alternative solver options:\n",
      "    https://scikit-learn.org/stable/modules/linear_model.html#logistic-regression\n",
      "\n",
      "/Users/anton/dev/MARS/correctness-model-internals/venv/lib/python3.11/site-packages/sklearn/linear_model/_logistic.py:469: ConvergenceWarning:\n",
      "\n",
      "lbfgs failed to converge (status=1):\n",
      "STOP: TOTAL NO. OF ITERATIONS REACHED LIMIT.\n",
      "\n",
      "Increase the number of iterations (max_iter) or scale the data as shown in:\n",
      "    https://scikit-learn.org/stable/modules/preprocessing.html\n",
      "Please also refer to the documentation for alternative solver options:\n",
      "    https://scikit-learn.org/stable/modules/linear_model.html#logistic-regression\n",
      "\n",
      "/Users/anton/dev/MARS/correctness-model-internals/venv/lib/python3.11/site-packages/sklearn/linear_model/_logistic.py:469: ConvergenceWarning:\n",
      "\n",
      "lbfgs failed to converge (status=1):\n",
      "STOP: TOTAL NO. OF ITERATIONS REACHED LIMIT.\n",
      "\n",
      "Increase the number of iterations (max_iter) or scale the data as shown in:\n",
      "    https://scikit-learn.org/stable/modules/preprocessing.html\n",
      "Please also refer to the documentation for alternative solver options:\n",
      "    https://scikit-learn.org/stable/modules/linear_model.html#logistic-regression\n",
      "\n",
      "/Users/anton/dev/MARS/correctness-model-internals/venv/lib/python3.11/site-packages/sklearn/linear_model/_logistic.py:469: ConvergenceWarning:\n",
      "\n",
      "lbfgs failed to converge (status=1):\n",
      "STOP: TOTAL NO. OF ITERATIONS REACHED LIMIT.\n",
      "\n",
      "Increase the number of iterations (max_iter) or scale the data as shown in:\n",
      "    https://scikit-learn.org/stable/modules/preprocessing.html\n",
      "Please also refer to the documentation for alternative solver options:\n",
      "    https://scikit-learn.org/stable/modules/linear_model.html#logistic-regression\n",
      "\n"
     ]
    },
    {
     "name": "stdout",
     "output_type": "stream",
     "text": [
      "layer=19, "
     ]
    },
    {
     "name": "stderr",
     "output_type": "stream",
     "text": [
      "/Users/anton/dev/MARS/correctness-model-internals/venv/lib/python3.11/site-packages/sklearn/linear_model/_logistic.py:469: ConvergenceWarning:\n",
      "\n",
      "lbfgs failed to converge (status=1):\n",
      "STOP: TOTAL NO. OF ITERATIONS REACHED LIMIT.\n",
      "\n",
      "Increase the number of iterations (max_iter) or scale the data as shown in:\n",
      "    https://scikit-learn.org/stable/modules/preprocessing.html\n",
      "Please also refer to the documentation for alternative solver options:\n",
      "    https://scikit-learn.org/stable/modules/linear_model.html#logistic-regression\n",
      "\n",
      "/Users/anton/dev/MARS/correctness-model-internals/venv/lib/python3.11/site-packages/sklearn/linear_model/_logistic.py:469: ConvergenceWarning:\n",
      "\n",
      "lbfgs failed to converge (status=1):\n",
      "STOP: TOTAL NO. OF ITERATIONS REACHED LIMIT.\n",
      "\n",
      "Increase the number of iterations (max_iter) or scale the data as shown in:\n",
      "    https://scikit-learn.org/stable/modules/preprocessing.html\n",
      "Please also refer to the documentation for alternative solver options:\n",
      "    https://scikit-learn.org/stable/modules/linear_model.html#logistic-regression\n",
      "\n",
      "/Users/anton/dev/MARS/correctness-model-internals/venv/lib/python3.11/site-packages/sklearn/linear_model/_logistic.py:469: ConvergenceWarning:\n",
      "\n",
      "lbfgs failed to converge (status=1):\n",
      "STOP: TOTAL NO. OF ITERATIONS REACHED LIMIT.\n",
      "\n",
      "Increase the number of iterations (max_iter) or scale the data as shown in:\n",
      "    https://scikit-learn.org/stable/modules/preprocessing.html\n",
      "Please also refer to the documentation for alternative solver options:\n",
      "    https://scikit-learn.org/stable/modules/linear_model.html#logistic-regression\n",
      "\n",
      "/Users/anton/dev/MARS/correctness-model-internals/venv/lib/python3.11/site-packages/sklearn/linear_model/_logistic.py:469: ConvergenceWarning:\n",
      "\n",
      "lbfgs failed to converge (status=1):\n",
      "STOP: TOTAL NO. OF ITERATIONS REACHED LIMIT.\n",
      "\n",
      "Increase the number of iterations (max_iter) or scale the data as shown in:\n",
      "    https://scikit-learn.org/stable/modules/preprocessing.html\n",
      "Please also refer to the documentation for alternative solver options:\n",
      "    https://scikit-learn.org/stable/modules/linear_model.html#logistic-regression\n",
      "\n",
      "/Users/anton/dev/MARS/correctness-model-internals/venv/lib/python3.11/site-packages/sklearn/linear_model/_logistic.py:469: ConvergenceWarning:\n",
      "\n",
      "lbfgs failed to converge (status=1):\n",
      "STOP: TOTAL NO. OF ITERATIONS REACHED LIMIT.\n",
      "\n",
      "Increase the number of iterations (max_iter) or scale the data as shown in:\n",
      "    https://scikit-learn.org/stable/modules/preprocessing.html\n",
      "Please also refer to the documentation for alternative solver options:\n",
      "    https://scikit-learn.org/stable/modules/linear_model.html#logistic-regression\n",
      "\n"
     ]
    },
    {
     "name": "stdout",
     "output_type": "stream",
     "text": [
      "layer=20, "
     ]
    },
    {
     "name": "stderr",
     "output_type": "stream",
     "text": [
      "/Users/anton/dev/MARS/correctness-model-internals/venv/lib/python3.11/site-packages/sklearn/linear_model/_logistic.py:469: ConvergenceWarning:\n",
      "\n",
      "lbfgs failed to converge (status=1):\n",
      "STOP: TOTAL NO. OF ITERATIONS REACHED LIMIT.\n",
      "\n",
      "Increase the number of iterations (max_iter) or scale the data as shown in:\n",
      "    https://scikit-learn.org/stable/modules/preprocessing.html\n",
      "Please also refer to the documentation for alternative solver options:\n",
      "    https://scikit-learn.org/stable/modules/linear_model.html#logistic-regression\n",
      "\n",
      "/Users/anton/dev/MARS/correctness-model-internals/venv/lib/python3.11/site-packages/sklearn/linear_model/_logistic.py:469: ConvergenceWarning:\n",
      "\n",
      "lbfgs failed to converge (status=1):\n",
      "STOP: TOTAL NO. OF ITERATIONS REACHED LIMIT.\n",
      "\n",
      "Increase the number of iterations (max_iter) or scale the data as shown in:\n",
      "    https://scikit-learn.org/stable/modules/preprocessing.html\n",
      "Please also refer to the documentation for alternative solver options:\n",
      "    https://scikit-learn.org/stable/modules/linear_model.html#logistic-regression\n",
      "\n",
      "/Users/anton/dev/MARS/correctness-model-internals/venv/lib/python3.11/site-packages/sklearn/linear_model/_logistic.py:469: ConvergenceWarning:\n",
      "\n",
      "lbfgs failed to converge (status=1):\n",
      "STOP: TOTAL NO. OF ITERATIONS REACHED LIMIT.\n",
      "\n",
      "Increase the number of iterations (max_iter) or scale the data as shown in:\n",
      "    https://scikit-learn.org/stable/modules/preprocessing.html\n",
      "Please also refer to the documentation for alternative solver options:\n",
      "    https://scikit-learn.org/stable/modules/linear_model.html#logistic-regression\n",
      "\n",
      "/Users/anton/dev/MARS/correctness-model-internals/venv/lib/python3.11/site-packages/sklearn/linear_model/_logistic.py:469: ConvergenceWarning:\n",
      "\n",
      "lbfgs failed to converge (status=1):\n",
      "STOP: TOTAL NO. OF ITERATIONS REACHED LIMIT.\n",
      "\n",
      "Increase the number of iterations (max_iter) or scale the data as shown in:\n",
      "    https://scikit-learn.org/stable/modules/preprocessing.html\n",
      "Please also refer to the documentation for alternative solver options:\n",
      "    https://scikit-learn.org/stable/modules/linear_model.html#logistic-regression\n",
      "\n",
      "/Users/anton/dev/MARS/correctness-model-internals/venv/lib/python3.11/site-packages/sklearn/linear_model/_logistic.py:469: ConvergenceWarning:\n",
      "\n",
      "lbfgs failed to converge (status=1):\n",
      "STOP: TOTAL NO. OF ITERATIONS REACHED LIMIT.\n",
      "\n",
      "Increase the number of iterations (max_iter) or scale the data as shown in:\n",
      "    https://scikit-learn.org/stable/modules/preprocessing.html\n",
      "Please also refer to the documentation for alternative solver options:\n",
      "    https://scikit-learn.org/stable/modules/linear_model.html#logistic-regression\n",
      "\n"
     ]
    },
    {
     "name": "stdout",
     "output_type": "stream",
     "text": [
      "layer=21, "
     ]
    },
    {
     "name": "stderr",
     "output_type": "stream",
     "text": [
      "/Users/anton/dev/MARS/correctness-model-internals/venv/lib/python3.11/site-packages/sklearn/linear_model/_logistic.py:469: ConvergenceWarning:\n",
      "\n",
      "lbfgs failed to converge (status=1):\n",
      "STOP: TOTAL NO. OF ITERATIONS REACHED LIMIT.\n",
      "\n",
      "Increase the number of iterations (max_iter) or scale the data as shown in:\n",
      "    https://scikit-learn.org/stable/modules/preprocessing.html\n",
      "Please also refer to the documentation for alternative solver options:\n",
      "    https://scikit-learn.org/stable/modules/linear_model.html#logistic-regression\n",
      "\n",
      "/Users/anton/dev/MARS/correctness-model-internals/venv/lib/python3.11/site-packages/sklearn/linear_model/_logistic.py:469: ConvergenceWarning:\n",
      "\n",
      "lbfgs failed to converge (status=1):\n",
      "STOP: TOTAL NO. OF ITERATIONS REACHED LIMIT.\n",
      "\n",
      "Increase the number of iterations (max_iter) or scale the data as shown in:\n",
      "    https://scikit-learn.org/stable/modules/preprocessing.html\n",
      "Please also refer to the documentation for alternative solver options:\n",
      "    https://scikit-learn.org/stable/modules/linear_model.html#logistic-regression\n",
      "\n",
      "/Users/anton/dev/MARS/correctness-model-internals/venv/lib/python3.11/site-packages/sklearn/linear_model/_logistic.py:469: ConvergenceWarning:\n",
      "\n",
      "lbfgs failed to converge (status=1):\n",
      "STOP: TOTAL NO. OF ITERATIONS REACHED LIMIT.\n",
      "\n",
      "Increase the number of iterations (max_iter) or scale the data as shown in:\n",
      "    https://scikit-learn.org/stable/modules/preprocessing.html\n",
      "Please also refer to the documentation for alternative solver options:\n",
      "    https://scikit-learn.org/stable/modules/linear_model.html#logistic-regression\n",
      "\n",
      "/Users/anton/dev/MARS/correctness-model-internals/venv/lib/python3.11/site-packages/sklearn/linear_model/_logistic.py:469: ConvergenceWarning:\n",
      "\n",
      "lbfgs failed to converge (status=1):\n",
      "STOP: TOTAL NO. OF ITERATIONS REACHED LIMIT.\n",
      "\n",
      "Increase the number of iterations (max_iter) or scale the data as shown in:\n",
      "    https://scikit-learn.org/stable/modules/preprocessing.html\n",
      "Please also refer to the documentation for alternative solver options:\n",
      "    https://scikit-learn.org/stable/modules/linear_model.html#logistic-regression\n",
      "\n",
      "/Users/anton/dev/MARS/correctness-model-internals/venv/lib/python3.11/site-packages/sklearn/linear_model/_logistic.py:469: ConvergenceWarning:\n",
      "\n",
      "lbfgs failed to converge (status=1):\n",
      "STOP: TOTAL NO. OF ITERATIONS REACHED LIMIT.\n",
      "\n",
      "Increase the number of iterations (max_iter) or scale the data as shown in:\n",
      "    https://scikit-learn.org/stable/modules/preprocessing.html\n",
      "Please also refer to the documentation for alternative solver options:\n",
      "    https://scikit-learn.org/stable/modules/linear_model.html#logistic-regression\n",
      "\n"
     ]
    },
    {
     "name": "stdout",
     "output_type": "stream",
     "text": [
      "layer=22, "
     ]
    },
    {
     "name": "stderr",
     "output_type": "stream",
     "text": [
      "/Users/anton/dev/MARS/correctness-model-internals/venv/lib/python3.11/site-packages/sklearn/linear_model/_logistic.py:469: ConvergenceWarning:\n",
      "\n",
      "lbfgs failed to converge (status=1):\n",
      "STOP: TOTAL NO. OF ITERATIONS REACHED LIMIT.\n",
      "\n",
      "Increase the number of iterations (max_iter) or scale the data as shown in:\n",
      "    https://scikit-learn.org/stable/modules/preprocessing.html\n",
      "Please also refer to the documentation for alternative solver options:\n",
      "    https://scikit-learn.org/stable/modules/linear_model.html#logistic-regression\n",
      "\n",
      "/Users/anton/dev/MARS/correctness-model-internals/venv/lib/python3.11/site-packages/sklearn/linear_model/_logistic.py:469: ConvergenceWarning:\n",
      "\n",
      "lbfgs failed to converge (status=1):\n",
      "STOP: TOTAL NO. OF ITERATIONS REACHED LIMIT.\n",
      "\n",
      "Increase the number of iterations (max_iter) or scale the data as shown in:\n",
      "    https://scikit-learn.org/stable/modules/preprocessing.html\n",
      "Please also refer to the documentation for alternative solver options:\n",
      "    https://scikit-learn.org/stable/modules/linear_model.html#logistic-regression\n",
      "\n",
      "/Users/anton/dev/MARS/correctness-model-internals/venv/lib/python3.11/site-packages/sklearn/linear_model/_logistic.py:469: ConvergenceWarning:\n",
      "\n",
      "lbfgs failed to converge (status=1):\n",
      "STOP: TOTAL NO. OF ITERATIONS REACHED LIMIT.\n",
      "\n",
      "Increase the number of iterations (max_iter) or scale the data as shown in:\n",
      "    https://scikit-learn.org/stable/modules/preprocessing.html\n",
      "Please also refer to the documentation for alternative solver options:\n",
      "    https://scikit-learn.org/stable/modules/linear_model.html#logistic-regression\n",
      "\n",
      "/Users/anton/dev/MARS/correctness-model-internals/venv/lib/python3.11/site-packages/sklearn/linear_model/_logistic.py:469: ConvergenceWarning:\n",
      "\n",
      "lbfgs failed to converge (status=1):\n",
      "STOP: TOTAL NO. OF ITERATIONS REACHED LIMIT.\n",
      "\n",
      "Increase the number of iterations (max_iter) or scale the data as shown in:\n",
      "    https://scikit-learn.org/stable/modules/preprocessing.html\n",
      "Please also refer to the documentation for alternative solver options:\n",
      "    https://scikit-learn.org/stable/modules/linear_model.html#logistic-regression\n",
      "\n",
      "/Users/anton/dev/MARS/correctness-model-internals/venv/lib/python3.11/site-packages/sklearn/linear_model/_logistic.py:469: ConvergenceWarning:\n",
      "\n",
      "lbfgs failed to converge (status=1):\n",
      "STOP: TOTAL NO. OF ITERATIONS REACHED LIMIT.\n",
      "\n",
      "Increase the number of iterations (max_iter) or scale the data as shown in:\n",
      "    https://scikit-learn.org/stable/modules/preprocessing.html\n",
      "Please also refer to the documentation for alternative solver options:\n",
      "    https://scikit-learn.org/stable/modules/linear_model.html#logistic-regression\n",
      "\n"
     ]
    },
    {
     "name": "stdout",
     "output_type": "stream",
     "text": [
      "layer=23, "
     ]
    },
    {
     "name": "stderr",
     "output_type": "stream",
     "text": [
      "/Users/anton/dev/MARS/correctness-model-internals/venv/lib/python3.11/site-packages/sklearn/linear_model/_logistic.py:469: ConvergenceWarning:\n",
      "\n",
      "lbfgs failed to converge (status=1):\n",
      "STOP: TOTAL NO. OF ITERATIONS REACHED LIMIT.\n",
      "\n",
      "Increase the number of iterations (max_iter) or scale the data as shown in:\n",
      "    https://scikit-learn.org/stable/modules/preprocessing.html\n",
      "Please also refer to the documentation for alternative solver options:\n",
      "    https://scikit-learn.org/stable/modules/linear_model.html#logistic-regression\n",
      "\n",
      "/Users/anton/dev/MARS/correctness-model-internals/venv/lib/python3.11/site-packages/sklearn/linear_model/_logistic.py:469: ConvergenceWarning:\n",
      "\n",
      "lbfgs failed to converge (status=1):\n",
      "STOP: TOTAL NO. OF ITERATIONS REACHED LIMIT.\n",
      "\n",
      "Increase the number of iterations (max_iter) or scale the data as shown in:\n",
      "    https://scikit-learn.org/stable/modules/preprocessing.html\n",
      "Please also refer to the documentation for alternative solver options:\n",
      "    https://scikit-learn.org/stable/modules/linear_model.html#logistic-regression\n",
      "\n",
      "/Users/anton/dev/MARS/correctness-model-internals/venv/lib/python3.11/site-packages/sklearn/linear_model/_logistic.py:469: ConvergenceWarning:\n",
      "\n",
      "lbfgs failed to converge (status=1):\n",
      "STOP: TOTAL NO. OF ITERATIONS REACHED LIMIT.\n",
      "\n",
      "Increase the number of iterations (max_iter) or scale the data as shown in:\n",
      "    https://scikit-learn.org/stable/modules/preprocessing.html\n",
      "Please also refer to the documentation for alternative solver options:\n",
      "    https://scikit-learn.org/stable/modules/linear_model.html#logistic-regression\n",
      "\n",
      "/Users/anton/dev/MARS/correctness-model-internals/venv/lib/python3.11/site-packages/sklearn/linear_model/_logistic.py:469: ConvergenceWarning:\n",
      "\n",
      "lbfgs failed to converge (status=1):\n",
      "STOP: TOTAL NO. OF ITERATIONS REACHED LIMIT.\n",
      "\n",
      "Increase the number of iterations (max_iter) or scale the data as shown in:\n",
      "    https://scikit-learn.org/stable/modules/preprocessing.html\n",
      "Please also refer to the documentation for alternative solver options:\n",
      "    https://scikit-learn.org/stable/modules/linear_model.html#logistic-regression\n",
      "\n",
      "/Users/anton/dev/MARS/correctness-model-internals/venv/lib/python3.11/site-packages/sklearn/linear_model/_logistic.py:469: ConvergenceWarning:\n",
      "\n",
      "lbfgs failed to converge (status=1):\n",
      "STOP: TOTAL NO. OF ITERATIONS REACHED LIMIT.\n",
      "\n",
      "Increase the number of iterations (max_iter) or scale the data as shown in:\n",
      "    https://scikit-learn.org/stable/modules/preprocessing.html\n",
      "Please also refer to the documentation for alternative solver options:\n",
      "    https://scikit-learn.org/stable/modules/linear_model.html#logistic-regression\n",
      "\n"
     ]
    },
    {
     "name": "stdout",
     "output_type": "stream",
     "text": [
      "layer=24, "
     ]
    },
    {
     "name": "stderr",
     "output_type": "stream",
     "text": [
      "/Users/anton/dev/MARS/correctness-model-internals/venv/lib/python3.11/site-packages/sklearn/linear_model/_logistic.py:469: ConvergenceWarning:\n",
      "\n",
      "lbfgs failed to converge (status=1):\n",
      "STOP: TOTAL NO. OF ITERATIONS REACHED LIMIT.\n",
      "\n",
      "Increase the number of iterations (max_iter) or scale the data as shown in:\n",
      "    https://scikit-learn.org/stable/modules/preprocessing.html\n",
      "Please also refer to the documentation for alternative solver options:\n",
      "    https://scikit-learn.org/stable/modules/linear_model.html#logistic-regression\n",
      "\n",
      "/Users/anton/dev/MARS/correctness-model-internals/venv/lib/python3.11/site-packages/sklearn/linear_model/_logistic.py:469: ConvergenceWarning:\n",
      "\n",
      "lbfgs failed to converge (status=1):\n",
      "STOP: TOTAL NO. OF ITERATIONS REACHED LIMIT.\n",
      "\n",
      "Increase the number of iterations (max_iter) or scale the data as shown in:\n",
      "    https://scikit-learn.org/stable/modules/preprocessing.html\n",
      "Please also refer to the documentation for alternative solver options:\n",
      "    https://scikit-learn.org/stable/modules/linear_model.html#logistic-regression\n",
      "\n",
      "/Users/anton/dev/MARS/correctness-model-internals/venv/lib/python3.11/site-packages/sklearn/linear_model/_logistic.py:469: ConvergenceWarning:\n",
      "\n",
      "lbfgs failed to converge (status=1):\n",
      "STOP: TOTAL NO. OF ITERATIONS REACHED LIMIT.\n",
      "\n",
      "Increase the number of iterations (max_iter) or scale the data as shown in:\n",
      "    https://scikit-learn.org/stable/modules/preprocessing.html\n",
      "Please also refer to the documentation for alternative solver options:\n",
      "    https://scikit-learn.org/stable/modules/linear_model.html#logistic-regression\n",
      "\n",
      "/Users/anton/dev/MARS/correctness-model-internals/venv/lib/python3.11/site-packages/sklearn/linear_model/_logistic.py:469: ConvergenceWarning:\n",
      "\n",
      "lbfgs failed to converge (status=1):\n",
      "STOP: TOTAL NO. OF ITERATIONS REACHED LIMIT.\n",
      "\n",
      "Increase the number of iterations (max_iter) or scale the data as shown in:\n",
      "    https://scikit-learn.org/stable/modules/preprocessing.html\n",
      "Please also refer to the documentation for alternative solver options:\n",
      "    https://scikit-learn.org/stable/modules/linear_model.html#logistic-regression\n",
      "\n",
      "/Users/anton/dev/MARS/correctness-model-internals/venv/lib/python3.11/site-packages/sklearn/linear_model/_logistic.py:469: ConvergenceWarning:\n",
      "\n",
      "lbfgs failed to converge (status=1):\n",
      "STOP: TOTAL NO. OF ITERATIONS REACHED LIMIT.\n",
      "\n",
      "Increase the number of iterations (max_iter) or scale the data as shown in:\n",
      "    https://scikit-learn.org/stable/modules/preprocessing.html\n",
      "Please also refer to the documentation for alternative solver options:\n",
      "    https://scikit-learn.org/stable/modules/linear_model.html#logistic-regression\n",
      "\n"
     ]
    },
    {
     "name": "stdout",
     "output_type": "stream",
     "text": [
      "layer=25, "
     ]
    },
    {
     "name": "stderr",
     "output_type": "stream",
     "text": [
      "/Users/anton/dev/MARS/correctness-model-internals/venv/lib/python3.11/site-packages/sklearn/linear_model/_logistic.py:469: ConvergenceWarning:\n",
      "\n",
      "lbfgs failed to converge (status=1):\n",
      "STOP: TOTAL NO. OF ITERATIONS REACHED LIMIT.\n",
      "\n",
      "Increase the number of iterations (max_iter) or scale the data as shown in:\n",
      "    https://scikit-learn.org/stable/modules/preprocessing.html\n",
      "Please also refer to the documentation for alternative solver options:\n",
      "    https://scikit-learn.org/stable/modules/linear_model.html#logistic-regression\n",
      "\n",
      "/Users/anton/dev/MARS/correctness-model-internals/venv/lib/python3.11/site-packages/sklearn/linear_model/_logistic.py:469: ConvergenceWarning:\n",
      "\n",
      "lbfgs failed to converge (status=1):\n",
      "STOP: TOTAL NO. OF ITERATIONS REACHED LIMIT.\n",
      "\n",
      "Increase the number of iterations (max_iter) or scale the data as shown in:\n",
      "    https://scikit-learn.org/stable/modules/preprocessing.html\n",
      "Please also refer to the documentation for alternative solver options:\n",
      "    https://scikit-learn.org/stable/modules/linear_model.html#logistic-regression\n",
      "\n",
      "/Users/anton/dev/MARS/correctness-model-internals/venv/lib/python3.11/site-packages/sklearn/linear_model/_logistic.py:469: ConvergenceWarning:\n",
      "\n",
      "lbfgs failed to converge (status=1):\n",
      "STOP: TOTAL NO. OF ITERATIONS REACHED LIMIT.\n",
      "\n",
      "Increase the number of iterations (max_iter) or scale the data as shown in:\n",
      "    https://scikit-learn.org/stable/modules/preprocessing.html\n",
      "Please also refer to the documentation for alternative solver options:\n",
      "    https://scikit-learn.org/stable/modules/linear_model.html#logistic-regression\n",
      "\n",
      "/Users/anton/dev/MARS/correctness-model-internals/venv/lib/python3.11/site-packages/sklearn/linear_model/_logistic.py:469: ConvergenceWarning:\n",
      "\n",
      "lbfgs failed to converge (status=1):\n",
      "STOP: TOTAL NO. OF ITERATIONS REACHED LIMIT.\n",
      "\n",
      "Increase the number of iterations (max_iter) or scale the data as shown in:\n",
      "    https://scikit-learn.org/stable/modules/preprocessing.html\n",
      "Please also refer to the documentation for alternative solver options:\n",
      "    https://scikit-learn.org/stable/modules/linear_model.html#logistic-regression\n",
      "\n",
      "/Users/anton/dev/MARS/correctness-model-internals/venv/lib/python3.11/site-packages/sklearn/linear_model/_logistic.py:469: ConvergenceWarning:\n",
      "\n",
      "lbfgs failed to converge (status=1):\n",
      "STOP: TOTAL NO. OF ITERATIONS REACHED LIMIT.\n",
      "\n",
      "Increase the number of iterations (max_iter) or scale the data as shown in:\n",
      "    https://scikit-learn.org/stable/modules/preprocessing.html\n",
      "Please also refer to the documentation for alternative solver options:\n",
      "    https://scikit-learn.org/stable/modules/linear_model.html#logistic-regression\n",
      "\n"
     ]
    },
    {
     "name": "stdout",
     "output_type": "stream",
     "text": [
      "layer=26, "
     ]
    },
    {
     "name": "stderr",
     "output_type": "stream",
     "text": [
      "/Users/anton/dev/MARS/correctness-model-internals/venv/lib/python3.11/site-packages/sklearn/linear_model/_logistic.py:469: ConvergenceWarning:\n",
      "\n",
      "lbfgs failed to converge (status=1):\n",
      "STOP: TOTAL NO. OF ITERATIONS REACHED LIMIT.\n",
      "\n",
      "Increase the number of iterations (max_iter) or scale the data as shown in:\n",
      "    https://scikit-learn.org/stable/modules/preprocessing.html\n",
      "Please also refer to the documentation for alternative solver options:\n",
      "    https://scikit-learn.org/stable/modules/linear_model.html#logistic-regression\n",
      "\n",
      "/Users/anton/dev/MARS/correctness-model-internals/venv/lib/python3.11/site-packages/sklearn/linear_model/_logistic.py:469: ConvergenceWarning:\n",
      "\n",
      "lbfgs failed to converge (status=1):\n",
      "STOP: TOTAL NO. OF ITERATIONS REACHED LIMIT.\n",
      "\n",
      "Increase the number of iterations (max_iter) or scale the data as shown in:\n",
      "    https://scikit-learn.org/stable/modules/preprocessing.html\n",
      "Please also refer to the documentation for alternative solver options:\n",
      "    https://scikit-learn.org/stable/modules/linear_model.html#logistic-regression\n",
      "\n",
      "/Users/anton/dev/MARS/correctness-model-internals/venv/lib/python3.11/site-packages/sklearn/linear_model/_logistic.py:469: ConvergenceWarning:\n",
      "\n",
      "lbfgs failed to converge (status=1):\n",
      "STOP: TOTAL NO. OF ITERATIONS REACHED LIMIT.\n",
      "\n",
      "Increase the number of iterations (max_iter) or scale the data as shown in:\n",
      "    https://scikit-learn.org/stable/modules/preprocessing.html\n",
      "Please also refer to the documentation for alternative solver options:\n",
      "    https://scikit-learn.org/stable/modules/linear_model.html#logistic-regression\n",
      "\n",
      "/Users/anton/dev/MARS/correctness-model-internals/venv/lib/python3.11/site-packages/sklearn/linear_model/_logistic.py:469: ConvergenceWarning:\n",
      "\n",
      "lbfgs failed to converge (status=1):\n",
      "STOP: TOTAL NO. OF ITERATIONS REACHED LIMIT.\n",
      "\n",
      "Increase the number of iterations (max_iter) or scale the data as shown in:\n",
      "    https://scikit-learn.org/stable/modules/preprocessing.html\n",
      "Please also refer to the documentation for alternative solver options:\n",
      "    https://scikit-learn.org/stable/modules/linear_model.html#logistic-regression\n",
      "\n"
     ]
    },
    {
     "name": "stdout",
     "output_type": "stream",
     "text": [
      "layer=27, "
     ]
    },
    {
     "name": "stderr",
     "output_type": "stream",
     "text": [
      "/Users/anton/dev/MARS/correctness-model-internals/venv/lib/python3.11/site-packages/sklearn/linear_model/_logistic.py:469: ConvergenceWarning:\n",
      "\n",
      "lbfgs failed to converge (status=1):\n",
      "STOP: TOTAL NO. OF ITERATIONS REACHED LIMIT.\n",
      "\n",
      "Increase the number of iterations (max_iter) or scale the data as shown in:\n",
      "    https://scikit-learn.org/stable/modules/preprocessing.html\n",
      "Please also refer to the documentation for alternative solver options:\n",
      "    https://scikit-learn.org/stable/modules/linear_model.html#logistic-regression\n",
      "\n",
      "/Users/anton/dev/MARS/correctness-model-internals/venv/lib/python3.11/site-packages/sklearn/linear_model/_logistic.py:469: ConvergenceWarning:\n",
      "\n",
      "lbfgs failed to converge (status=1):\n",
      "STOP: TOTAL NO. OF ITERATIONS REACHED LIMIT.\n",
      "\n",
      "Increase the number of iterations (max_iter) or scale the data as shown in:\n",
      "    https://scikit-learn.org/stable/modules/preprocessing.html\n",
      "Please also refer to the documentation for alternative solver options:\n",
      "    https://scikit-learn.org/stable/modules/linear_model.html#logistic-regression\n",
      "\n",
      "/Users/anton/dev/MARS/correctness-model-internals/venv/lib/python3.11/site-packages/sklearn/linear_model/_logistic.py:469: ConvergenceWarning:\n",
      "\n",
      "lbfgs failed to converge (status=1):\n",
      "STOP: TOTAL NO. OF ITERATIONS REACHED LIMIT.\n",
      "\n",
      "Increase the number of iterations (max_iter) or scale the data as shown in:\n",
      "    https://scikit-learn.org/stable/modules/preprocessing.html\n",
      "Please also refer to the documentation for alternative solver options:\n",
      "    https://scikit-learn.org/stable/modules/linear_model.html#logistic-regression\n",
      "\n",
      "/Users/anton/dev/MARS/correctness-model-internals/venv/lib/python3.11/site-packages/sklearn/linear_model/_logistic.py:469: ConvergenceWarning:\n",
      "\n",
      "lbfgs failed to converge (status=1):\n",
      "STOP: TOTAL NO. OF ITERATIONS REACHED LIMIT.\n",
      "\n",
      "Increase the number of iterations (max_iter) or scale the data as shown in:\n",
      "    https://scikit-learn.org/stable/modules/preprocessing.html\n",
      "Please also refer to the documentation for alternative solver options:\n",
      "    https://scikit-learn.org/stable/modules/linear_model.html#logistic-regression\n",
      "\n",
      "/Users/anton/dev/MARS/correctness-model-internals/venv/lib/python3.11/site-packages/sklearn/linear_model/_logistic.py:469: ConvergenceWarning:\n",
      "\n",
      "lbfgs failed to converge (status=1):\n",
      "STOP: TOTAL NO. OF ITERATIONS REACHED LIMIT.\n",
      "\n",
      "Increase the number of iterations (max_iter) or scale the data as shown in:\n",
      "    https://scikit-learn.org/stable/modules/preprocessing.html\n",
      "Please also refer to the documentation for alternative solver options:\n",
      "    https://scikit-learn.org/stable/modules/linear_model.html#logistic-regression\n",
      "\n"
     ]
    },
    {
     "name": "stdout",
     "output_type": "stream",
     "text": [
      "layer=28, "
     ]
    },
    {
     "name": "stderr",
     "output_type": "stream",
     "text": [
      "/Users/anton/dev/MARS/correctness-model-internals/venv/lib/python3.11/site-packages/sklearn/linear_model/_logistic.py:469: ConvergenceWarning:\n",
      "\n",
      "lbfgs failed to converge (status=1):\n",
      "STOP: TOTAL NO. OF ITERATIONS REACHED LIMIT.\n",
      "\n",
      "Increase the number of iterations (max_iter) or scale the data as shown in:\n",
      "    https://scikit-learn.org/stable/modules/preprocessing.html\n",
      "Please also refer to the documentation for alternative solver options:\n",
      "    https://scikit-learn.org/stable/modules/linear_model.html#logistic-regression\n",
      "\n",
      "/Users/anton/dev/MARS/correctness-model-internals/venv/lib/python3.11/site-packages/sklearn/linear_model/_logistic.py:469: ConvergenceWarning:\n",
      "\n",
      "lbfgs failed to converge (status=1):\n",
      "STOP: TOTAL NO. OF ITERATIONS REACHED LIMIT.\n",
      "\n",
      "Increase the number of iterations (max_iter) or scale the data as shown in:\n",
      "    https://scikit-learn.org/stable/modules/preprocessing.html\n",
      "Please also refer to the documentation for alternative solver options:\n",
      "    https://scikit-learn.org/stable/modules/linear_model.html#logistic-regression\n",
      "\n",
      "/Users/anton/dev/MARS/correctness-model-internals/venv/lib/python3.11/site-packages/sklearn/linear_model/_logistic.py:469: ConvergenceWarning:\n",
      "\n",
      "lbfgs failed to converge (status=1):\n",
      "STOP: TOTAL NO. OF ITERATIONS REACHED LIMIT.\n",
      "\n",
      "Increase the number of iterations (max_iter) or scale the data as shown in:\n",
      "    https://scikit-learn.org/stable/modules/preprocessing.html\n",
      "Please also refer to the documentation for alternative solver options:\n",
      "    https://scikit-learn.org/stable/modules/linear_model.html#logistic-regression\n",
      "\n",
      "/Users/anton/dev/MARS/correctness-model-internals/venv/lib/python3.11/site-packages/sklearn/linear_model/_logistic.py:469: ConvergenceWarning:\n",
      "\n",
      "lbfgs failed to converge (status=1):\n",
      "STOP: TOTAL NO. OF ITERATIONS REACHED LIMIT.\n",
      "\n",
      "Increase the number of iterations (max_iter) or scale the data as shown in:\n",
      "    https://scikit-learn.org/stable/modules/preprocessing.html\n",
      "Please also refer to the documentation for alternative solver options:\n",
      "    https://scikit-learn.org/stable/modules/linear_model.html#logistic-regression\n",
      "\n",
      "/Users/anton/dev/MARS/correctness-model-internals/venv/lib/python3.11/site-packages/sklearn/linear_model/_logistic.py:469: ConvergenceWarning:\n",
      "\n",
      "lbfgs failed to converge (status=1):\n",
      "STOP: TOTAL NO. OF ITERATIONS REACHED LIMIT.\n",
      "\n",
      "Increase the number of iterations (max_iter) or scale the data as shown in:\n",
      "    https://scikit-learn.org/stable/modules/preprocessing.html\n",
      "Please also refer to the documentation for alternative solver options:\n",
      "    https://scikit-learn.org/stable/modules/linear_model.html#logistic-regression\n",
      "\n"
     ]
    },
    {
     "name": "stdout",
     "output_type": "stream",
     "text": [
      "layer=29, "
     ]
    },
    {
     "name": "stderr",
     "output_type": "stream",
     "text": [
      "/Users/anton/dev/MARS/correctness-model-internals/venv/lib/python3.11/site-packages/sklearn/linear_model/_logistic.py:469: ConvergenceWarning:\n",
      "\n",
      "lbfgs failed to converge (status=1):\n",
      "STOP: TOTAL NO. OF ITERATIONS REACHED LIMIT.\n",
      "\n",
      "Increase the number of iterations (max_iter) or scale the data as shown in:\n",
      "    https://scikit-learn.org/stable/modules/preprocessing.html\n",
      "Please also refer to the documentation for alternative solver options:\n",
      "    https://scikit-learn.org/stable/modules/linear_model.html#logistic-regression\n",
      "\n",
      "/Users/anton/dev/MARS/correctness-model-internals/venv/lib/python3.11/site-packages/sklearn/linear_model/_logistic.py:469: ConvergenceWarning:\n",
      "\n",
      "lbfgs failed to converge (status=1):\n",
      "STOP: TOTAL NO. OF ITERATIONS REACHED LIMIT.\n",
      "\n",
      "Increase the number of iterations (max_iter) or scale the data as shown in:\n",
      "    https://scikit-learn.org/stable/modules/preprocessing.html\n",
      "Please also refer to the documentation for alternative solver options:\n",
      "    https://scikit-learn.org/stable/modules/linear_model.html#logistic-regression\n",
      "\n",
      "/Users/anton/dev/MARS/correctness-model-internals/venv/lib/python3.11/site-packages/sklearn/linear_model/_logistic.py:469: ConvergenceWarning:\n",
      "\n",
      "lbfgs failed to converge (status=1):\n",
      "STOP: TOTAL NO. OF ITERATIONS REACHED LIMIT.\n",
      "\n",
      "Increase the number of iterations (max_iter) or scale the data as shown in:\n",
      "    https://scikit-learn.org/stable/modules/preprocessing.html\n",
      "Please also refer to the documentation for alternative solver options:\n",
      "    https://scikit-learn.org/stable/modules/linear_model.html#logistic-regression\n",
      "\n",
      "/Users/anton/dev/MARS/correctness-model-internals/venv/lib/python3.11/site-packages/sklearn/linear_model/_logistic.py:469: ConvergenceWarning:\n",
      "\n",
      "lbfgs failed to converge (status=1):\n",
      "STOP: TOTAL NO. OF ITERATIONS REACHED LIMIT.\n",
      "\n",
      "Increase the number of iterations (max_iter) or scale the data as shown in:\n",
      "    https://scikit-learn.org/stable/modules/preprocessing.html\n",
      "Please also refer to the documentation for alternative solver options:\n",
      "    https://scikit-learn.org/stable/modules/linear_model.html#logistic-regression\n",
      "\n",
      "/Users/anton/dev/MARS/correctness-model-internals/venv/lib/python3.11/site-packages/sklearn/linear_model/_logistic.py:469: ConvergenceWarning:\n",
      "\n",
      "lbfgs failed to converge (status=1):\n",
      "STOP: TOTAL NO. OF ITERATIONS REACHED LIMIT.\n",
      "\n",
      "Increase the number of iterations (max_iter) or scale the data as shown in:\n",
      "    https://scikit-learn.org/stable/modules/preprocessing.html\n",
      "Please also refer to the documentation for alternative solver options:\n",
      "    https://scikit-learn.org/stable/modules/linear_model.html#logistic-regression\n",
      "\n"
     ]
    },
    {
     "name": "stdout",
     "output_type": "stream",
     "text": [
      "layer=30, "
     ]
    },
    {
     "name": "stderr",
     "output_type": "stream",
     "text": [
      "/Users/anton/dev/MARS/correctness-model-internals/venv/lib/python3.11/site-packages/sklearn/linear_model/_logistic.py:469: ConvergenceWarning:\n",
      "\n",
      "lbfgs failed to converge (status=1):\n",
      "STOP: TOTAL NO. OF ITERATIONS REACHED LIMIT.\n",
      "\n",
      "Increase the number of iterations (max_iter) or scale the data as shown in:\n",
      "    https://scikit-learn.org/stable/modules/preprocessing.html\n",
      "Please also refer to the documentation for alternative solver options:\n",
      "    https://scikit-learn.org/stable/modules/linear_model.html#logistic-regression\n",
      "\n",
      "/Users/anton/dev/MARS/correctness-model-internals/venv/lib/python3.11/site-packages/sklearn/linear_model/_logistic.py:469: ConvergenceWarning:\n",
      "\n",
      "lbfgs failed to converge (status=1):\n",
      "STOP: TOTAL NO. OF ITERATIONS REACHED LIMIT.\n",
      "\n",
      "Increase the number of iterations (max_iter) or scale the data as shown in:\n",
      "    https://scikit-learn.org/stable/modules/preprocessing.html\n",
      "Please also refer to the documentation for alternative solver options:\n",
      "    https://scikit-learn.org/stable/modules/linear_model.html#logistic-regression\n",
      "\n",
      "/Users/anton/dev/MARS/correctness-model-internals/venv/lib/python3.11/site-packages/sklearn/linear_model/_logistic.py:469: ConvergenceWarning:\n",
      "\n",
      "lbfgs failed to converge (status=1):\n",
      "STOP: TOTAL NO. OF ITERATIONS REACHED LIMIT.\n",
      "\n",
      "Increase the number of iterations (max_iter) or scale the data as shown in:\n",
      "    https://scikit-learn.org/stable/modules/preprocessing.html\n",
      "Please also refer to the documentation for alternative solver options:\n",
      "    https://scikit-learn.org/stable/modules/linear_model.html#logistic-regression\n",
      "\n",
      "/Users/anton/dev/MARS/correctness-model-internals/venv/lib/python3.11/site-packages/sklearn/linear_model/_logistic.py:469: ConvergenceWarning:\n",
      "\n",
      "lbfgs failed to converge (status=1):\n",
      "STOP: TOTAL NO. OF ITERATIONS REACHED LIMIT.\n",
      "\n",
      "Increase the number of iterations (max_iter) or scale the data as shown in:\n",
      "    https://scikit-learn.org/stable/modules/preprocessing.html\n",
      "Please also refer to the documentation for alternative solver options:\n",
      "    https://scikit-learn.org/stable/modules/linear_model.html#logistic-regression\n",
      "\n",
      "/Users/anton/dev/MARS/correctness-model-internals/venv/lib/python3.11/site-packages/sklearn/linear_model/_logistic.py:469: ConvergenceWarning:\n",
      "\n",
      "lbfgs failed to converge (status=1):\n",
      "STOP: TOTAL NO. OF ITERATIONS REACHED LIMIT.\n",
      "\n",
      "Increase the number of iterations (max_iter) or scale the data as shown in:\n",
      "    https://scikit-learn.org/stable/modules/preprocessing.html\n",
      "Please also refer to the documentation for alternative solver options:\n",
      "    https://scikit-learn.org/stable/modules/linear_model.html#logistic-regression\n",
      "\n"
     ]
    },
    {
     "name": "stdout",
     "output_type": "stream",
     "text": [
      "layer=31, "
     ]
    },
    {
     "name": "stderr",
     "output_type": "stream",
     "text": [
      "/Users/anton/dev/MARS/correctness-model-internals/venv/lib/python3.11/site-packages/sklearn/linear_model/_logistic.py:469: ConvergenceWarning:\n",
      "\n",
      "lbfgs failed to converge (status=1):\n",
      "STOP: TOTAL NO. OF ITERATIONS REACHED LIMIT.\n",
      "\n",
      "Increase the number of iterations (max_iter) or scale the data as shown in:\n",
      "    https://scikit-learn.org/stable/modules/preprocessing.html\n",
      "Please also refer to the documentation for alternative solver options:\n",
      "    https://scikit-learn.org/stable/modules/linear_model.html#logistic-regression\n",
      "\n",
      "/Users/anton/dev/MARS/correctness-model-internals/venv/lib/python3.11/site-packages/sklearn/linear_model/_logistic.py:469: ConvergenceWarning:\n",
      "\n",
      "lbfgs failed to converge (status=1):\n",
      "STOP: TOTAL NO. OF ITERATIONS REACHED LIMIT.\n",
      "\n",
      "Increase the number of iterations (max_iter) or scale the data as shown in:\n",
      "    https://scikit-learn.org/stable/modules/preprocessing.html\n",
      "Please also refer to the documentation for alternative solver options:\n",
      "    https://scikit-learn.org/stable/modules/linear_model.html#logistic-regression\n",
      "\n",
      "/Users/anton/dev/MARS/correctness-model-internals/venv/lib/python3.11/site-packages/sklearn/linear_model/_logistic.py:469: ConvergenceWarning:\n",
      "\n",
      "lbfgs failed to converge (status=1):\n",
      "STOP: TOTAL NO. OF ITERATIONS REACHED LIMIT.\n",
      "\n",
      "Increase the number of iterations (max_iter) or scale the data as shown in:\n",
      "    https://scikit-learn.org/stable/modules/preprocessing.html\n",
      "Please also refer to the documentation for alternative solver options:\n",
      "    https://scikit-learn.org/stable/modules/linear_model.html#logistic-regression\n",
      "\n",
      "/Users/anton/dev/MARS/correctness-model-internals/venv/lib/python3.11/site-packages/sklearn/linear_model/_logistic.py:469: ConvergenceWarning:\n",
      "\n",
      "lbfgs failed to converge (status=1):\n",
      "STOP: TOTAL NO. OF ITERATIONS REACHED LIMIT.\n",
      "\n",
      "Increase the number of iterations (max_iter) or scale the data as shown in:\n",
      "    https://scikit-learn.org/stable/modules/preprocessing.html\n",
      "Please also refer to the documentation for alternative solver options:\n",
      "    https://scikit-learn.org/stable/modules/linear_model.html#logistic-regression\n",
      "\n",
      "/Users/anton/dev/MARS/correctness-model-internals/venv/lib/python3.11/site-packages/sklearn/linear_model/_logistic.py:469: ConvergenceWarning:\n",
      "\n",
      "lbfgs failed to converge (status=1):\n",
      "STOP: TOTAL NO. OF ITERATIONS REACHED LIMIT.\n",
      "\n",
      "Increase the number of iterations (max_iter) or scale the data as shown in:\n",
      "    https://scikit-learn.org/stable/modules/preprocessing.html\n",
      "Please also refer to the documentation for alternative solver options:\n",
      "    https://scikit-learn.org/stable/modules/linear_model.html#logistic-regression\n",
      "\n"
     ]
    },
    {
     "data": {
      "text/html": [
       "<div>\n",
       "<style scoped>\n",
       "    .dataframe tbody tr th:only-of-type {\n",
       "        vertical-align: middle;\n",
       "    }\n",
       "\n",
       "    .dataframe tbody tr th {\n",
       "        vertical-align: top;\n",
       "    }\n",
       "\n",
       "    .dataframe thead th {\n",
       "        text-align: right;\n",
       "    }\n",
       "</style>\n",
       "<table border=\"1\" class=\"dataframe\">\n",
       "  <thead>\n",
       "    <tr style=\"text-align: right;\">\n",
       "      <th></th>\n",
       "      <th>model_id</th>\n",
       "      <th>dataset_id</th>\n",
       "      <th>prompt_id</th>\n",
       "      <th>subset_id</th>\n",
       "      <th>input_type</th>\n",
       "      <th>layer</th>\n",
       "      <th>fold</th>\n",
       "      <th>direction_optimal_cut</th>\n",
       "      <th>direction_optimal_train_set_cut</th>\n",
       "      <th>direction_test_roc_auc</th>\n",
       "      <th>...</th>\n",
       "      <th>direction_f1_score</th>\n",
       "      <th>direction_precision_score</th>\n",
       "      <th>direction_recall_score</th>\n",
       "      <th>logistic_regression_optimal_cut</th>\n",
       "      <th>logistic_regression_optimal_train_set_cut</th>\n",
       "      <th>logistic_regression_test_roc_auc</th>\n",
       "      <th>logistic_regression_accuracy_score</th>\n",
       "      <th>logistic_regression_f1_score</th>\n",
       "      <th>logistic_regression_precision_score</th>\n",
       "      <th>logistic_regression_recall_score</th>\n",
       "    </tr>\n",
       "  </thead>\n",
       "  <tbody>\n",
       "    <tr>\n",
       "      <th>0</th>\n",
       "      <td>llama3.1_8b_chat</td>\n",
       "      <td>birth_years_4k</td>\n",
       "      <td>base</td>\n",
       "      <td>main</td>\n",
       "      <td>prompt_answer</td>\n",
       "      <td>0</td>\n",
       "      <td>0</td>\n",
       "      <td>-0.178592</td>\n",
       "      <td>-0.178592</td>\n",
       "      <td>0.571395</td>\n",
       "      <td>...</td>\n",
       "      <td>0.649903</td>\n",
       "      <td>0.558140</td>\n",
       "      <td>0.777778</td>\n",
       "      <td>0.5</td>\n",
       "      <td>0.486178</td>\n",
       "      <td>0.566594</td>\n",
       "      <td>0.548611</td>\n",
       "      <td>0.506329</td>\n",
       "      <td>0.558659</td>\n",
       "      <td>0.462963</td>\n",
       "    </tr>\n",
       "    <tr>\n",
       "      <th>1</th>\n",
       "      <td>llama3.1_8b_chat</td>\n",
       "      <td>birth_years_4k</td>\n",
       "      <td>base</td>\n",
       "      <td>main</td>\n",
       "      <td>prompt_answer</td>\n",
       "      <td>0</td>\n",
       "      <td>1</td>\n",
       "      <td>-0.155324</td>\n",
       "      <td>-0.155324</td>\n",
       "      <td>0.546514</td>\n",
       "      <td>...</td>\n",
       "      <td>0.607759</td>\n",
       "      <td>0.510870</td>\n",
       "      <td>0.750000</td>\n",
       "      <td>0.5</td>\n",
       "      <td>0.524779</td>\n",
       "      <td>0.583465</td>\n",
       "      <td>0.574468</td>\n",
       "      <td>0.595960</td>\n",
       "      <td>0.567308</td>\n",
       "      <td>0.627660</td>\n",
       "    </tr>\n",
       "    <tr>\n",
       "      <th>2</th>\n",
       "      <td>llama3.1_8b_chat</td>\n",
       "      <td>birth_years_4k</td>\n",
       "      <td>base</td>\n",
       "      <td>main</td>\n",
       "      <td>prompt_answer</td>\n",
       "      <td>0</td>\n",
       "      <td>2</td>\n",
       "      <td>-0.277454</td>\n",
       "      <td>-0.277454</td>\n",
       "      <td>0.570341</td>\n",
       "      <td>...</td>\n",
       "      <td>0.618557</td>\n",
       "      <td>0.521739</td>\n",
       "      <td>0.759494</td>\n",
       "      <td>0.5</td>\n",
       "      <td>0.500598</td>\n",
       "      <td>0.573065</td>\n",
       "      <td>0.575949</td>\n",
       "      <td>0.573248</td>\n",
       "      <td>0.576923</td>\n",
       "      <td>0.569620</td>\n",
       "    </tr>\n",
       "    <tr>\n",
       "      <th>3</th>\n",
       "      <td>llama3.1_8b_chat</td>\n",
       "      <td>birth_years_4k</td>\n",
       "      <td>base</td>\n",
       "      <td>main</td>\n",
       "      <td>prompt_answer</td>\n",
       "      <td>0</td>\n",
       "      <td>3</td>\n",
       "      <td>-0.130386</td>\n",
       "      <td>-0.130386</td>\n",
       "      <td>0.589218</td>\n",
       "      <td>...</td>\n",
       "      <td>0.651546</td>\n",
       "      <td>0.556338</td>\n",
       "      <td>0.786070</td>\n",
       "      <td>0.5</td>\n",
       "      <td>0.536275</td>\n",
       "      <td>0.582659</td>\n",
       "      <td>0.572139</td>\n",
       "      <td>0.580488</td>\n",
       "      <td>0.569378</td>\n",
       "      <td>0.592040</td>\n",
       "    </tr>\n",
       "    <tr>\n",
       "      <th>4</th>\n",
       "      <td>llama3.1_8b_chat</td>\n",
       "      <td>birth_years_4k</td>\n",
       "      <td>base</td>\n",
       "      <td>main</td>\n",
       "      <td>prompt_answer</td>\n",
       "      <td>0</td>\n",
       "      <td>4</td>\n",
       "      <td>-0.204539</td>\n",
       "      <td>-0.204539</td>\n",
       "      <td>0.529156</td>\n",
       "      <td>...</td>\n",
       "      <td>0.615079</td>\n",
       "      <td>0.514950</td>\n",
       "      <td>0.763547</td>\n",
       "      <td>0.5</td>\n",
       "      <td>0.496078</td>\n",
       "      <td>0.560945</td>\n",
       "      <td>0.549261</td>\n",
       "      <td>0.559036</td>\n",
       "      <td>0.547170</td>\n",
       "      <td>0.571429</td>\n",
       "    </tr>\n",
       "    <tr>\n",
       "      <th>...</th>\n",
       "      <td>...</td>\n",
       "      <td>...</td>\n",
       "      <td>...</td>\n",
       "      <td>...</td>\n",
       "      <td>...</td>\n",
       "      <td>...</td>\n",
       "      <td>...</td>\n",
       "      <td>...</td>\n",
       "      <td>...</td>\n",
       "      <td>...</td>\n",
       "      <td>...</td>\n",
       "      <td>...</td>\n",
       "      <td>...</td>\n",
       "      <td>...</td>\n",
       "      <td>...</td>\n",
       "      <td>...</td>\n",
       "      <td>...</td>\n",
       "      <td>...</td>\n",
       "      <td>...</td>\n",
       "      <td>...</td>\n",
       "      <td>...</td>\n",
       "    </tr>\n",
       "    <tr>\n",
       "      <th>1915</th>\n",
       "      <td>llama3.1_8b_chat</td>\n",
       "      <td>medals_9k</td>\n",
       "      <td>base</td>\n",
       "      <td>main</td>\n",
       "      <td>prompt_only</td>\n",
       "      <td>31</td>\n",
       "      <td>0</td>\n",
       "      <td>-2.189962</td>\n",
       "      <td>-2.189962</td>\n",
       "      <td>0.656234</td>\n",
       "      <td>...</td>\n",
       "      <td>0.623377</td>\n",
       "      <td>0.616216</td>\n",
       "      <td>0.630705</td>\n",
       "      <td>0.5</td>\n",
       "      <td>0.485561</td>\n",
       "      <td>0.827250</td>\n",
       "      <td>0.780083</td>\n",
       "      <td>0.784844</td>\n",
       "      <td>0.768212</td>\n",
       "      <td>0.802213</td>\n",
       "    </tr>\n",
       "    <tr>\n",
       "      <th>1916</th>\n",
       "      <td>llama3.1_8b_chat</td>\n",
       "      <td>medals_9k</td>\n",
       "      <td>base</td>\n",
       "      <td>main</td>\n",
       "      <td>prompt_only</td>\n",
       "      <td>31</td>\n",
       "      <td>1</td>\n",
       "      <td>9.103894</td>\n",
       "      <td>9.103894</td>\n",
       "      <td>0.617990</td>\n",
       "      <td>...</td>\n",
       "      <td>0.471560</td>\n",
       "      <td>0.681698</td>\n",
       "      <td>0.360449</td>\n",
       "      <td>0.5</td>\n",
       "      <td>0.496121</td>\n",
       "      <td>0.829042</td>\n",
       "      <td>0.777700</td>\n",
       "      <td>0.779708</td>\n",
       "      <td>0.772727</td>\n",
       "      <td>0.786816</td>\n",
       "    </tr>\n",
       "    <tr>\n",
       "      <th>1917</th>\n",
       "      <td>llama3.1_8b_chat</td>\n",
       "      <td>medals_9k</td>\n",
       "      <td>base</td>\n",
       "      <td>main</td>\n",
       "      <td>prompt_only</td>\n",
       "      <td>31</td>\n",
       "      <td>2</td>\n",
       "      <td>8.675277</td>\n",
       "      <td>8.675277</td>\n",
       "      <td>0.600867</td>\n",
       "      <td>...</td>\n",
       "      <td>0.447653</td>\n",
       "      <td>0.666667</td>\n",
       "      <td>0.336957</td>\n",
       "      <td>0.5</td>\n",
       "      <td>0.507359</td>\n",
       "      <td>0.806724</td>\n",
       "      <td>0.745924</td>\n",
       "      <td>0.748318</td>\n",
       "      <td>0.741333</td>\n",
       "      <td>0.755435</td>\n",
       "    </tr>\n",
       "    <tr>\n",
       "      <th>1918</th>\n",
       "      <td>llama3.1_8b_chat</td>\n",
       "      <td>medals_9k</td>\n",
       "      <td>base</td>\n",
       "      <td>main</td>\n",
       "      <td>prompt_only</td>\n",
       "      <td>31</td>\n",
       "      <td>3</td>\n",
       "      <td>6.025213</td>\n",
       "      <td>6.025213</td>\n",
       "      <td>0.648096</td>\n",
       "      <td>...</td>\n",
       "      <td>0.465116</td>\n",
       "      <td>0.695187</td>\n",
       "      <td>0.349462</td>\n",
       "      <td>0.5</td>\n",
       "      <td>0.448641</td>\n",
       "      <td>0.810443</td>\n",
       "      <td>0.762097</td>\n",
       "      <td>0.764940</td>\n",
       "      <td>0.755906</td>\n",
       "      <td>0.774194</td>\n",
       "    </tr>\n",
       "    <tr>\n",
       "      <th>1919</th>\n",
       "      <td>llama3.1_8b_chat</td>\n",
       "      <td>medals_9k</td>\n",
       "      <td>base</td>\n",
       "      <td>main</td>\n",
       "      <td>prompt_only</td>\n",
       "      <td>31</td>\n",
       "      <td>4</td>\n",
       "      <td>10.527833</td>\n",
       "      <td>10.527833</td>\n",
       "      <td>0.626057</td>\n",
       "      <td>...</td>\n",
       "      <td>0.443320</td>\n",
       "      <td>0.727575</td>\n",
       "      <td>0.318777</td>\n",
       "      <td>0.5</td>\n",
       "      <td>0.458607</td>\n",
       "      <td>0.813297</td>\n",
       "      <td>0.764192</td>\n",
       "      <td>0.764535</td>\n",
       "      <td>0.763425</td>\n",
       "      <td>0.765648</td>\n",
       "    </tr>\n",
       "  </tbody>\n",
       "</table>\n",
       "<p>1920 rows × 21 columns</p>\n",
       "</div>"
      ],
      "text/plain": [
       "              model_id      dataset_id prompt_id subset_id     input_type  \\\n",
       "0     llama3.1_8b_chat  birth_years_4k      base      main  prompt_answer   \n",
       "1     llama3.1_8b_chat  birth_years_4k      base      main  prompt_answer   \n",
       "2     llama3.1_8b_chat  birth_years_4k      base      main  prompt_answer   \n",
       "3     llama3.1_8b_chat  birth_years_4k      base      main  prompt_answer   \n",
       "4     llama3.1_8b_chat  birth_years_4k      base      main  prompt_answer   \n",
       "...                ...             ...       ...       ...            ...   \n",
       "1915  llama3.1_8b_chat       medals_9k      base      main    prompt_only   \n",
       "1916  llama3.1_8b_chat       medals_9k      base      main    prompt_only   \n",
       "1917  llama3.1_8b_chat       medals_9k      base      main    prompt_only   \n",
       "1918  llama3.1_8b_chat       medals_9k      base      main    prompt_only   \n",
       "1919  llama3.1_8b_chat       medals_9k      base      main    prompt_only   \n",
       "\n",
       "      layer  fold  direction_optimal_cut  direction_optimal_train_set_cut  \\\n",
       "0         0     0              -0.178592                        -0.178592   \n",
       "1         0     1              -0.155324                        -0.155324   \n",
       "2         0     2              -0.277454                        -0.277454   \n",
       "3         0     3              -0.130386                        -0.130386   \n",
       "4         0     4              -0.204539                        -0.204539   \n",
       "...     ...   ...                    ...                              ...   \n",
       "1915     31     0              -2.189962                        -2.189962   \n",
       "1916     31     1               9.103894                         9.103894   \n",
       "1917     31     2               8.675277                         8.675277   \n",
       "1918     31     3               6.025213                         6.025213   \n",
       "1919     31     4              10.527833                        10.527833   \n",
       "\n",
       "      direction_test_roc_auc  ...  direction_f1_score  \\\n",
       "0                   0.571395  ...            0.649903   \n",
       "1                   0.546514  ...            0.607759   \n",
       "2                   0.570341  ...            0.618557   \n",
       "3                   0.589218  ...            0.651546   \n",
       "4                   0.529156  ...            0.615079   \n",
       "...                      ...  ...                 ...   \n",
       "1915                0.656234  ...            0.623377   \n",
       "1916                0.617990  ...            0.471560   \n",
       "1917                0.600867  ...            0.447653   \n",
       "1918                0.648096  ...            0.465116   \n",
       "1919                0.626057  ...            0.443320   \n",
       "\n",
       "      direction_precision_score  direction_recall_score  \\\n",
       "0                      0.558140                0.777778   \n",
       "1                      0.510870                0.750000   \n",
       "2                      0.521739                0.759494   \n",
       "3                      0.556338                0.786070   \n",
       "4                      0.514950                0.763547   \n",
       "...                         ...                     ...   \n",
       "1915                   0.616216                0.630705   \n",
       "1916                   0.681698                0.360449   \n",
       "1917                   0.666667                0.336957   \n",
       "1918                   0.695187                0.349462   \n",
       "1919                   0.727575                0.318777   \n",
       "\n",
       "      logistic_regression_optimal_cut  \\\n",
       "0                                 0.5   \n",
       "1                                 0.5   \n",
       "2                                 0.5   \n",
       "3                                 0.5   \n",
       "4                                 0.5   \n",
       "...                               ...   \n",
       "1915                              0.5   \n",
       "1916                              0.5   \n",
       "1917                              0.5   \n",
       "1918                              0.5   \n",
       "1919                              0.5   \n",
       "\n",
       "      logistic_regression_optimal_train_set_cut  \\\n",
       "0                                      0.486178   \n",
       "1                                      0.524779   \n",
       "2                                      0.500598   \n",
       "3                                      0.536275   \n",
       "4                                      0.496078   \n",
       "...                                         ...   \n",
       "1915                                   0.485561   \n",
       "1916                                   0.496121   \n",
       "1917                                   0.507359   \n",
       "1918                                   0.448641   \n",
       "1919                                   0.458607   \n",
       "\n",
       "      logistic_regression_test_roc_auc  logistic_regression_accuracy_score  \\\n",
       "0                             0.566594                            0.548611   \n",
       "1                             0.583465                            0.574468   \n",
       "2                             0.573065                            0.575949   \n",
       "3                             0.582659                            0.572139   \n",
       "4                             0.560945                            0.549261   \n",
       "...                                ...                                 ...   \n",
       "1915                          0.827250                            0.780083   \n",
       "1916                          0.829042                            0.777700   \n",
       "1917                          0.806724                            0.745924   \n",
       "1918                          0.810443                            0.762097   \n",
       "1919                          0.813297                            0.764192   \n",
       "\n",
       "      logistic_regression_f1_score  logistic_regression_precision_score  \\\n",
       "0                         0.506329                             0.558659   \n",
       "1                         0.595960                             0.567308   \n",
       "2                         0.573248                             0.576923   \n",
       "3                         0.580488                             0.569378   \n",
       "4                         0.559036                             0.547170   \n",
       "...                            ...                                  ...   \n",
       "1915                      0.784844                             0.768212   \n",
       "1916                      0.779708                             0.772727   \n",
       "1917                      0.748318                             0.741333   \n",
       "1918                      0.764940                             0.755906   \n",
       "1919                      0.764535                             0.763425   \n",
       "\n",
       "      logistic_regression_recall_score  \n",
       "0                             0.462963  \n",
       "1                             0.627660  \n",
       "2                             0.569620  \n",
       "3                             0.592040  \n",
       "4                             0.571429  \n",
       "...                                ...  \n",
       "1915                          0.802213  \n",
       "1916                          0.786816  \n",
       "1917                          0.755435  \n",
       "1918                          0.774194  \n",
       "1919                          0.765648  \n",
       "\n",
       "[1920 rows x 21 columns]"
      ]
     },
     "execution_count": 8,
     "metadata": {},
     "output_type": "execute_result"
    }
   ],
   "source": [
    "\n",
    "res_dict = defaultdict(list)\n",
    "\n",
    "for (model_id, dataset_id, prompt_id, subset_id, input_type), config_df in activation_exp_configs_df.groupby([\"model_id\", \"dataset_id\", \"prompt_id\", \"subset_id\", \"input_type\"]):\n",
    "    print(f\"\\n{model_id=}, {dataset_id=}, {prompt_id=}, {subset_id=}, {input_type=}\")\n",
    "    labels_df = load_labels(\n",
    "        base_path=BASE_PATH,\n",
    "        model_id=model_id,\n",
    "        dataset_id=dataset_id,\n",
    "        prompt_id=prompt_id,\n",
    "        subset_id=subset_id,\n",
    "    )\n",
    "\n",
    "    check_indices = None\n",
    "    for layer in config_df[\"layer\"].astype(int).sort_values():\n",
    "        print(f\"{layer=}\", end=\", \")\n",
    "        activations, indices = load_activations(\n",
    "            base_path=BASE_PATH,\n",
    "            model_id=model_id,\n",
    "            dataset_id=dataset_id,\n",
    "            prompt_id=prompt_id,\n",
    "            subset_id=subset_id,\n",
    "            input_type=input_type,\n",
    "            layer=layer,\n",
    "        )\n",
    "        \n",
    "        if check_indices is None:\n",
    "            check_indices = indices.sample(frac=1, replace=False)\n",
    "        \n",
    "        if set(indices) != set(check_indices):\n",
    "            raise RuntimeError(f\"indices across layers are not the same\")\n",
    "\n",
    "        labels_df_subset = labels_df.iloc[check_indices]\n",
    "        activations = activations[check_indices]\n",
    "\n",
    "        activations_handler = ActivationsHandler(\n",
    "            activations=activations,\n",
    "            labels=labels_df_subset[\"correct\"].astype(bool),\n",
    "        )\n",
    "\n",
    "        activations_handler_folds = list(\n",
    "            activations_handler.split_dataset(split_sizes=[1/5] * 5)\n",
    "        )\n",
    "\n",
    "        fold_stats = {}\n",
    "        for fold_i, activations_handler_test in enumerate(activations_handler_folds):\n",
    "            activations_handler_train = combine_activations_handlers(\n",
    "                [ah for j, ah in enumerate(activations_handler_folds) if j != fold_i]\n",
    "            )\n",
    "            \n",
    "            activations_handler_train, pca_info = activations_handler_train.reduce_dims(pca_components=PCA_COMPONENTS)\n",
    "            \n",
    "            activations_handler_train = activations_handler_train.sample_equally_across_groups(\n",
    "                group_labels=[False, True]\n",
    "            )\n",
    "            activations_handler_test, _ = activations_handler_test.reduce_dims(pca_components=PCA_COMPONENTS, pca_info=pca_info)\n",
    "            activations_handler_test = activations_handler_test.sample_equally_across_groups(\n",
    "                group_labels=[False, True]\n",
    "            )\n",
    "\n",
    "            res_dict[\"model_id\"].append(model_id)\n",
    "            res_dict[\"dataset_id\"].append(dataset_id)\n",
    "            res_dict[\"prompt_id\"].append(prompt_id)\n",
    "            res_dict[\"subset_id\"].append(subset_id)\n",
    "            res_dict[\"input_type\"].append(input_type)\n",
    "            res_dict[\"layer\"].append(layer)\n",
    "            res_dict[\"fold\"].append(fold_i)\n",
    "\n",
    "            direction_classifier, direction_calculator = get_correctness_direction_classifier(\n",
    "                activations_handler_train=activations_handler_train,\n",
    "                activations_handler_test=activations_handler_test,\n",
    "            )\n",
    "            # res_dict[\"classifying_direction\"].append(direction_calculator.classifying_direction.tolist())\n",
    "            for key, value in direction_classifier.classification_metrics.items():\n",
    "                res_dict[f\"direction_{key}\"].append(value)\n",
    "            \n",
    "            for key, value in get_logistic_regression_classifier(\n",
    "                    activations_handler_train=activations_handler_train,\n",
    "                    activations_handler_test=activations_handler_test,\n",
    "                )[0].classification_metrics.items():\n",
    "                res_dict[f\"logistic_regression_{key}\"].append(value)\n",
    "\n",
    "\n",
    "\n",
    "res_df = pd.DataFrame(res_dict)\n",
    "res_df"
   ]
  },
  {
   "cell_type": "code",
   "execution_count": 9,
   "metadata": {},
   "outputs": [],
   "source": [
    "res_file = f\"./classification_data/res_df_llama31_8B_4_memory_datasets{PCA_COMONENTS_LABEL}.csv\""
   ]
  },
  {
   "cell_type": "code",
   "execution_count": 10,
   "metadata": {},
   "outputs": [],
   "source": [
    "res_df.to_csv(res_file, index=False)"
   ]
  },
  {
   "cell_type": "code",
   "execution_count": 11,
   "metadata": {},
   "outputs": [],
   "source": [
    "res_df = pd.read_csv(res_file)"
   ]
  },
  {
   "cell_type": "code",
   "execution_count": 11,
   "metadata": {},
   "outputs": [],
   "source": []
  },
  {
   "cell_type": "code",
   "execution_count": 12,
   "metadata": {},
   "outputs": [
    {
     "name": "stdout",
     "output_type": "stream",
     "text": [
      "conf=('llama3.1_8b_chat', 'birth_years_4k', 'base', 'main', 'prompt_answer')\n",
      "conf=('llama3.1_8b_chat', 'birth_years_4k', 'base', 'main', 'prompt_only')\n",
      "conf=('llama3.1_8b_chat', 'cities_10k', 'base', 'main', 'prompt_answer')\n",
      "conf=('llama3.1_8b_chat', 'cities_10k', 'base', 'main', 'prompt_only')\n",
      "conf=('llama3.1_8b_chat', 'football_leagues_1k', 'base', 'main', 'prompt_answer')\n",
      "conf=('llama3.1_8b_chat', 'football_leagues_1k', 'base', 'main', 'prompt_only')\n",
      "conf=('llama3.1_8b_chat', 'gsm8k', 'base_3_shot', 'main', 'prompt_answer')\n",
      "conf=('llama3.1_8b_chat', 'gsm8k', 'base_3_shot', 'main', 'prompt_only')\n",
      "conf=('llama3.1_8b_chat', 'gsm8k', 'cot_3_shot', 'main', 'prompt_answer')\n",
      "conf=('llama3.1_8b_chat', 'gsm8k', 'cot_3_shot', 'main', 'prompt_only')\n",
      "conf=('llama3.1_8b_chat', 'medals_9k', 'base', 'main', 'prompt_answer')\n",
      "conf=('llama3.1_8b_chat', 'medals_9k', 'base', 'main', 'prompt_only')\n"
     ]
    },
    {
     "data": {
      "application/vnd.plotly.v1+json": {
       "config": {
        "plotlyServerURL": "https://plot.ly"
       },
       "data": [
        {
         "legendgroup": "('llama3.1_8b_chat', 'birth_years_4k', 'base', 'main', 'prompt_answer')",
         "line": {
          "color": "#1f77b4",
          "width": 2
         },
         "marker": {
          "size": 8
         },
         "mode": "lines+markers",
         "name": "('llama3.1_8b_chat', 'birth_years_4k', 'base', 'main', 'prompt_answer')",
         "type": "scatter",
         "x": {
          "bdata": "AAECAwQFBgcICQoLDA0ODxAREhMUFRYXGBkaGxwdHh8=",
          "dtype": "i1"
         },
         "y": {
          "bdata": "QWZKeDwd5D+yDbXckWnjP4Dnddj/MeI/zOS47khj4T+abqar9BjiP77x2EmmH+I/hgdcBQGw4j/C4gcY2sDjP9eBWIzX+uQ/Lgm99qYL5j873ajA3brlP+qU/h3oA+Y/PpZpz/KW5j+iZjMjaT/mP7pKLjg88eY/iu9Y5/xk5z+eV+LnbpDnP36LKw9sPOc/lnLvoSUE5z/7hYdX2gDmPzPe8G+tuOQ/S+QLNA1O5T/tlTh2XuPjP4CPwEBX4OI/lhDU9+LQ4D+6wyT02QniP2ob9y/2ZOI/H4AcPjMD5T/egxwPgiHjP2KnzEvMSOU/zh5ivBvt5T/Uu8knJbXlPw==",
          "dtype": "f8"
         }
        },
        {
         "legendgroup": "('llama3.1_8b_chat', 'birth_years_4k', 'base', 'main', 'prompt_answer')",
         "line": {
          "width": 0
         },
         "mode": "lines",
         "name": "('llama3.1_8b_chat', 'birth_years_4k', 'base', 'main', 'prompt_answer') Max",
         "showlegend": false,
         "type": "scatter",
         "x": {
          "bdata": "AAECAwQFBgcICQoLDA0ODxAREhMUFRYXGBkaGxwdHh8=",
          "dtype": "i1"
         },
         "y": {
          "bdata": "le6M0XfZ5D8AAAAAACDkP1D/3AZeu+M/+DPhz4Q/4z/TNV3TNV3jP0PUzaBlx+M/++NlMAo45D+BxSqkPRLlP9ZczdVczeU/jYn0QOXs5j/sUGczfcbmPyxByfqdM+c/dk40eKXD5z9EAm8/JPDmP4q2GjxHoOg/GcRhNwZx6D8298e65v7oP8W5jlGc6+g/qId6qId66D9JD1TObuHnP0ZlVEZlVOY/Ixm1pY945z9bYMbyEUPnP0nIo7/tDec/cIELXOAC5z/CcKdGjjrnP2WTTTbZZOc/cFf0ZzZw5z9LLjxOfyXnP+TxeDwej+c/uHEZK8E85z+rSYjiL3LmPw==",
          "dtype": "f8"
         }
        },
        {
         "fill": "tonexty",
         "fillcolor": "rgba(31, 119, 180, 0.1)",
         "legendgroup": "('llama3.1_8b_chat', 'birth_years_4k', 'base', 'main', 'prompt_answer')",
         "line": {
          "width": 0
         },
         "mode": "lines",
         "name": "('llama3.1_8b_chat', 'birth_years_4k', 'base', 'main', 'prompt_answer') Min",
         "showlegend": false,
         "type": "scatter",
         "x": {
          "bdata": "AAECAwQFBgcICQoLDA0ODxAREhMUFRYXGBkaGxwdHh8=",
          "dtype": "i1"
         },
         "y": {
          "bdata": "Iyz3NMJy4z+LC6faLtPhPxj0BX1BX+A/IdAUAk0h4D9RFEVRFEXhPx2RYqi/HOE/chzHcRzH4T8BaaFKRjniP5+uT9en6+M/830lwNgW5T+tKzS3U3nkP1LFXSE+JOU/VVVVVVVV5T/BQutfxJPkP0aFf1HhX+Q/MchZsr/W5T+mpaWlpaXlP+eaGsOWUeY/iU8glZyX5T8QkyuIyRXkPxQ7sRM7seM/aTQajUaj4T8V01lMZzHdP+7cuXPnzt0/ahk6YLfH2j8P6MY8fbTaPxicj8H5GNw/GPQFfUFf4D9xeRF8CuTfPyxRuxK1K+E/C7ZgC7Zg4z/UQz3UQz3kPw==",
          "dtype": "f8"
         }
        },
        {
         "legendgroup": "('llama3.1_8b_chat', 'birth_years_4k', 'base', 'main', 'prompt_answer')",
         "line": {
          "width": 0
         },
         "mode": "lines",
         "name": "('llama3.1_8b_chat', 'birth_years_4k', 'base', 'main', 'prompt_answer') +1 STD",
         "showlegend": false,
         "type": "scatter",
         "x": {
          "bdata": "AAECAwQFBgcICQoLDA0ODxAREhMUFRYXGBkaGxwdHh8=",
          "dtype": "i1"
         },
         "y": {
          "bdata": "NzMqBgrG5D933smpC1bkPyvc8gAOlOM/gcsgcROi4j+yPyKRGfHiP62p5n0CHeM/6rGpdyCi4z9kokfewO/kPziBayVNwuU/NUYZrP665j+HiahJ4rLmP4IdRdo6yOY/j235/HN55z8VsVotUDPnP9K2bnHPnug/jTUF9gtj6D+7qncKT+ToP0cqHdatYOg/rbOKSZY76D+1VI1GMLXnP90QP1mE5+U/tegGtq/Q5z/m0RPYNuDnP342i4bgteY/W4tgF6F05D8EZfz1ub3mP6yafFXD3OY/hD+0aBff5z904a6kmaTmP07KOEcj0ec/4g0JPxFy5z+WnqoYRqTmPw==",
          "dtype": "f8"
         }
        },
        {
         "fill": "tonexty",
         "fillcolor": "rgba(31, 119, 180, 0.3)",
         "legendgroup": "('llama3.1_8b_chat', 'birth_years_4k', 'base', 'main', 'prompt_answer')",
         "line": {
          "width": 0
         },
         "mode": "lines",
         "name": "('llama3.1_8b_chat', 'birth_years_4k', 'base', 'main', 'prompt_answer') -1 STD",
         "showlegend": false,
         "type": "scatter",
         "x": {
          "bdata": "AAECAwQFBgcICQoLDA0ODxAREhMUFRYXGBkaGxwdHh8=",
          "dtype": "i1"
         },
         "y": {
          "bdata": "S5lq6m504z/tPKAPGH3iP9Xy+K/xz+A/F/5QbH4k4D+CnSrGz0DhP885yxVKIuE/Il0Ok+G94T8gI8hR85HiP3aCRfNhM+Q/J8xgQU9c5T/vMKk32cLkP1IMuGGVP+U/7b7ZoXG05T8vHAwZgkvlP6Le7f6oQ+U/h6ms2O1m5j+BBE3FjjzmP7XsOUgqGOY/fzFU+rTM5T9Bt4FohEzkP4mroobWieM/4d8QsmrL4j/ns7ooDM3fPwTR6/WbFd4/oiuPsEla2j/hRJrk86vaP1E44xRS2ts/usCEE08n4j+QTBTz1DzfP3aEYFB1wOI/ui+7OSZo5D8S2eg2BMbkPw==",
          "dtype": "f8"
         }
        },
        {
         "legendgroup": "('llama3.1_8b_chat', 'birth_years_4k', 'base', 'main', 'prompt_answer')",
         "marker": {
          "color": "#1f77b4",
          "opacity": 0.5,
          "size": 6
         },
         "mode": "markers",
         "name": "('llama3.1_8b_chat', 'birth_years_4k', 'base', 'main', 'prompt_answer') Fold ('direction_f1_score', 0)",
         "showlegend": false,
         "type": "scatter",
         "x": {
          "bdata": "AAECAwQFBgcICQoLDA0ODxAREhMUFRYXGBkaGxwdHh8=",
          "dtype": "i1"
         },
         "y": {
          "bdata": "DWEM+wHM5D8AAAAAACDkP15OwcspeOE/gJszVKT+4T8+kF1YjITiP3TkHDlHzuE/sj401ofG4j/YbIlGnNPkP9ZczdVczeU/jeFoQQJq5j/ZqivwKGHmPyxByfqdM+c/dk40eKXD5z9EAm8/JPDmP4q2GjxHoOg/GcRhNwZx6D8298e65v7oP/o8lCr56uc/EWgKgaYQ6D8QkyuIyRXkP15DeQ3lNeQ/mYQOwn945z9bYMbyEUPnP5iIluTM4eY/HZ++tjhY4D8KBlUPif/mP1vAmMTB++Y/4/CuHtM95z9LLjxOfyXnP5dv+ZZv+eY/XmHJiKDq5j9mZmZmZmbmPw==",
          "dtype": "f8"
         }
        },
        {
         "legendgroup": "('llama3.1_8b_chat', 'birth_years_4k', 'base', 'main', 'prompt_answer')",
         "marker": {
          "color": "#1f77b4",
          "opacity": 0.5,
          "size": 6
         },
         "mode": "markers",
         "name": "('llama3.1_8b_chat', 'birth_years_4k', 'base', 'main', 'prompt_answer') Fold ('direction_f1_score', 1)",
         "showlegend": false,
         "type": "scatter",
         "x": {
          "bdata": "AAECAwQFBgcICQoLDA0ODxAREhMUFRYXGBkaGxwdHh8=",
          "dtype": "i1"
         },
         "y": {
          "bdata": "Iyz3NMJy4z+n8PPR23XjPxj0BX1BX+A/UQ/1UA/14D8iHMIhHMLhP1kGpcLE++E/AbnXXEia4j9VVVVVVVXjPwWd9branuQ/830lwNgW5T+tKzS3U3nkP1LFXSE+JOU/VVVVVVVV5T/BQutfxJPkP+WGXSwiVeY/MchZsr/W5T/Fle4NKBPnP+eaGsOWUeY/iU8glZyX5T+2OiZ4ME/kPxQ7sRM7seM/JkOwjjbv4z8V01lMZzHdP+7cuXPnzt0/ahk6YLfH2j8P6MY8fbTaPxicj8H5GNw/5qaFt+yc5D9xeRF8CuTfP6xmuB08xeQ/C7ZgC7Zg4z9VVVVVVVXlPw==",
          "dtype": "f8"
         }
        },
        {
         "legendgroup": "('llama3.1_8b_chat', 'birth_years_4k', 'base', 'main', 'prompt_answer')",
         "marker": {
          "color": "#1f77b4",
          "opacity": 0.5,
          "size": 6
         },
         "mode": "markers",
         "name": "('llama3.1_8b_chat', 'birth_years_4k', 'base', 'main', 'prompt_answer') Fold ('direction_f1_score', 2)",
         "showlegend": false,
         "type": "scatter",
         "x": {
          "bdata": "AAECAwQFBgcICQoLDA0ODxAREhMUFRYXGBkaGxwdHh8=",
          "dtype": "i1"
         },
         "y": {
          "bdata": "lMg0bDfL4z8D7TqqJPjjP1D/3AZeu+M/FMl9Mueb4D97Mn671JPhP4doSiwO8OE/fi2TRQ4Q4j8BaaFKRjniP5+uT9en6+M/UYxcHLbU5T9QK1jq0wrmP47jOI7jOOY/v4dYGM3e5j9oCHvx/LvmP0aFf1HhX+Q/dq973ete5z+mpaWlpaXlP01PBIMoaeY/75ga2Dum5j/IqNuwCQTnP0s8QeqxxOM/aTQajUaj4T/InSXs5rfgP9D8MtD8MuA/Iiz3NMJy3z9phOWeRljeP39I4O2HBN4/TZ1fe8hl5T8zMF3nWCPhPyxRuxK1K+E/xvKI0FT75T/UQz3UQz3kPw==",
          "dtype": "f8"
         }
        },
        {
         "legendgroup": "('llama3.1_8b_chat', 'birth_years_4k', 'base', 'main', 'prompt_answer')",
         "marker": {
          "color": "#1f77b4",
          "opacity": 0.5,
          "size": 6
         },
         "mode": "markers",
         "name": "('llama3.1_8b_chat', 'birth_years_4k', 'base', 'main', 'prompt_answer') Fold ('direction_f1_score', 3)",
         "showlegend": false,
         "type": "scatter",
         "x": {
          "bdata": "AAECAwQFBgcICQoLDA0ODxAREhMUFRYXGBkaGxwdHh8=",
          "dtype": "i1"
         },
         "y": {
          "bdata": "le6M0XfZ5D+LC6faLtPhP1YgjLRjBeI/+DPhz4Q/4z/TNV3TNV3jP0PUzaBlx+M/++NlMAo45D+BxSqkPRLlP7aSx1AIruU/jYn0QOXs5j/sUGczfcbmP7ZVY1s1tuU/Xi1uwvyu5j82hXE2hXHmP6GbkuoQG+g/Xk08KxoJ6D9FIwHfvJroP8W5jlGc6+g/qId6qId66D9JD1TObuHnP/829N0rm+U/Ixm1pY945z9PYFwkhjfnP0nIo7/tDec/cIELXOAC5z/CcKdGjjrnP2WTTTbZZOc/cFf0ZzZw5z+ghDeaOr/mP+TxeDwej+c/uHEZK8E85z/pYW9Uih7mPw==",
          "dtype": "f8"
         }
        },
        {
         "legendgroup": "('llama3.1_8b_chat', 'birth_years_4k', 'base', 'main', 'prompt_answer')",
         "marker": {
          "color": "#1f77b4",
          "opacity": 0.5,
          "size": 6
         },
         "mode": "markers",
         "name": "('llama3.1_8b_chat', 'birth_years_4k', 'base', 'main', 'prompt_answer') Fold ('direction_f1_score', 4)",
         "showlegend": false,
         "type": "scatter",
         "x": {
          "bdata": "AAECAwQFBgcICQoLDA0ODxAREhMUFRYXGBkaGxwdHh8=",
          "dtype": "i1"
         },
         "y": {
          "bdata": "7Lqu67qu4z8+W7P4qa7jP2IjHTbSYeM/IdAUAk0h4D9RFEVRFEXhPx2RYqi/HOE/chzHcRzH4T8hfXztzE/jPwVO4ARO4OQ/iLjRcsz35T9k/yz+hvrkP86oNZCTzOU/TJa/ZPlL5j+MLrrooovmP0YXXXTRRec/kiRJkiRJ5z81YA46uX/nP4jYl4nHnOY/u2TtkrVL5j8QGCQ20bnmP0ZlVEZlVOY/K2CtgLUC5j+mpaWlpaXlP1iReBWJV+E/OB+D8zE43z8wS8oBkeHePwJDNR1zieA/GPQFfUFf4D9+87Q9cq3gP5YrGXd+8uU/Hh4eHh4e5j+rSYjiL3LmPw==",
          "dtype": "f8"
         }
        },
        {
         "legendgroup": "('llama3.1_8b_chat', 'birth_years_4k', 'base', 'main', 'prompt_only')",
         "line": {
          "color": "#ff7f0e",
          "width": 2
         },
         "marker": {
          "size": 8
         },
         "mode": "lines+markers",
         "name": "('llama3.1_8b_chat', 'birth_years_4k', 'base', 'main', 'prompt_only')",
         "type": "scatter",
         "x": {
          "bdata": "AAECAwQFBgcICQoLDA0ODxAREhMUFRYXGBkaGxwdHh8=",
          "dtype": "i1"
         },
         "y": {
          "bdata": "jDaDr7WE1j84oSPuUObWP/bEtm0g6Ns/+m+xUexl4D9VeQn+akXiPxnhPLwueuA/NfhpGl2k5D9OWUEIFHHkP5VNRnXiDuQ/NOKbyYdV5D/Af2f8ETXkP+0XfBOIpuM/Wb2i4Jqd5D/i3WlfuK7kPzvSVsJJX+U/9f+L5ris5T8U1bD79x3lP500EMuEdOU/q/kNSErI5T+SpMXivJPlP7VYNiBGeeU/ylYqfjHI5T+5KFDDWlbmP3KJCAsXNOY/lSUJAetn5j+EtOzpDLzmP84M1vM5AOc/1TZW12QZ5z9DzeugOxPnPxudD9msDOc/GqFN+xOW5j8WlW/c5u7mPw==",
          "dtype": "f8"
         }
        },
        {
         "legendgroup": "('llama3.1_8b_chat', 'birth_years_4k', 'base', 'main', 'prompt_only')",
         "line": {
          "width": 0
         },
         "mode": "lines",
         "name": "('llama3.1_8b_chat', 'birth_years_4k', 'base', 'main', 'prompt_only') Max",
         "showlegend": false,
         "type": "scatter",
         "x": {
          "bdata": "AAECAwQFBgcICQoLDA0ODxAREhMUFRYXGBkaGxwdHh8=",
          "dtype": "i1"
         },
         "y": {
          "bdata": "sSX4Nn+F2T+XvKtWbEfZP4bWv4gnqeE/bzBFPusG4z+3bdu2bdvlP4qd2Imd2OM/pyFU0o1i5j/eTtIwgrDmPxZlURZlUeY/GrcBDFRM5j951kocYnnmP6rVv0oFqOY/iL52TzCT5j/7zkZ9Z6PmP4iHh4eHh+c/cVR/n7dJ5z/tcRUQDMnmP0CgjyhDG+c/N8uTyDRs5z9QWpOffb/mP9zBU0z9y+Y/6CD2giXb5z/3wEbvisznP2BrxIzP5ec/CtifgP0J6D+OKDDp1DzoPwAAAAAAAOg/h+Zz/fEy6D/2gNkDZg/oP/i8WKWt8Oc/2JJDXGUK6D8+5LJioITnPw==",
          "dtype": "f8"
         }
        },
        {
         "fill": "tonexty",
         "fillcolor": "rgba(255, 127, 14, 0.1)",
         "legendgroup": "('llama3.1_8b_chat', 'birth_years_4k', 'base', 'main', 'prompt_only')",
         "line": {
          "width": 0
         },
         "mode": "lines",
         "name": "('llama3.1_8b_chat', 'birth_years_4k', 'base', 'main', 'prompt_only') Min",
         "showlegend": false,
         "type": "scatter",
         "x": {
          "bdata": "AAECAwQFBgcICQoLDA0ODxAREhMUFRYXGBkaGxwdHh8=",
          "dtype": "i1"
         },
         "y": {
          "bdata": "kW2SbZJt0j/0Qi/0Qi/UPwIzlo8YutU/P4RMYdck1z+Tm1UoKaLdP+o9FKneQ9E/KEIRilCE4j/Dr8ZEeqDiP2x0cHLxseE/Iy0it3Q34j/lCmJyBTHhP7rbC4GpQ+E/gGxPEIG64T8DXm+jPxTiP476zkZ9Z+M/jvrORn1n4z+sPBMf993iP4bLueptneI/YSm52BeW4j+66KKLLrriPxKBfTDkQOM/WOQOM/hS4z8LJZhe+yzkPyuHFtnO9+M/XAUEQ7JF5D9Ad9hWrjnlP+5bcFBiBuY//5meg9gL5j9nJV6mdmjmP4CVClCt/uU/QxaykIUs5D8F1Ox6kbXlPw==",
          "dtype": "f8"
         }
        },
        {
         "legendgroup": "('llama3.1_8b_chat', 'birth_years_4k', 'base', 'main', 'prompt_only')",
         "line": {
          "width": 0
         },
         "mode": "lines",
         "name": "('llama3.1_8b_chat', 'birth_years_4k', 'base', 'main', 'prompt_only') +1 STD",
         "showlegend": false,
         "type": "scatter",
         "x": {
          "bdata": "AAECAwQFBgcICQoLDA0ODxAREhMUFRYXGBkaGxwdHh8=",
          "dtype": "i1"
         },
         "y": {
          "bdata": "MaaUNpqD2T80iQIM9MHYP6f+hoqUsuA/5no+YDpP4z+B/LAEUejkP3a+yF5ODuU/i36lXL4W5j/MUWi1azfmP14vVgJpJuY/hdcC+BQ65j+AGRhGeF/mP7xbi9dhEeY/eD0OAzfe5j/PPYF/enXmP6iJDSIw++Y/9kUGJAlV5z/oqiBX3KHmP22OQpp5R+c/gJrfj8mj5z+TpTMTmjbnP0WowrSR8+Y/hRkLw/eC5z8ZyrglhKnnP7C99YKooOc/zE4N61fE5z84GmZIKtDnP1ku0+9rs+c/QUH5PVHk5z+x2RoaI7LnP8dRJ4ZEz+c/uQxv78sH6D+Rd9jTD6TnPw==",
          "dtype": "f8"
         }
        },
        {
         "fill": "tonexty",
         "fillcolor": "rgba(255, 127, 14, 0.3)",
         "legendgroup": "('llama3.1_8b_chat', 'birth_years_4k', 'base', 'main', 'prompt_only')",
         "line": {
          "width": 0
         },
         "mode": "lines",
         "name": "('llama3.1_8b_chat', 'birth_years_4k', 'base', 'main', 'prompt_only') -1 STD",
         "showlegend": false,
         "type": "scatter",
         "x": {
          "bdata": "AAECAwQFBgcICQoLDA0ODxAREhMUFRYXGBkaGxwdHh8=",
          "dtype": "i1"
         },
         "y": {
          "bdata": "58ZxKNGF0z88uUTQrQrVP52MX8YXa9Y/HMpIhjz52j9S7MPuCUXfP3cHYjMezNc/33Eu2Psx4z/QYBpbvKriP8xrNuhb9+E/4+w0m/pw4j8A5rayqwriPx7UbE+uO+E/Oj03vv5c4j/1fVI/9ufiP84aoGJjw+M/9LkRqWgE5D9A/0CgE5rjP83a3fuPoeM/1lg8AMvs4z+Ro1ey3/DjPyUJqov6/uM/D5RJOWsN5D9Zh+dgMQPlPzRVG5OFx+Q/XvwEF34L5T/QTnOL76flP0Pr2PcHTeY/aSyzcHhO5j/VwLwnVHTmP2/o9ysVSuY/ezUsB1wk5T+bsgblvTnmPw==",
          "dtype": "f8"
         }
        },
        {
         "legendgroup": "('llama3.1_8b_chat', 'birth_years_4k', 'base', 'main', 'prompt_only')",
         "marker": {
          "color": "#ff7f0e",
          "opacity": 0.5,
          "size": 6
         },
         "mode": "markers",
         "name": "('llama3.1_8b_chat', 'birth_years_4k', 'base', 'main', 'prompt_only') Fold ('direction_f1_score', 0)",
         "showlegend": false,
         "type": "scatter",
         "x": {
          "bdata": "AAECAwQFBgcICQoLDA0ODxAREhMUFRYXGBkaGxwdHh8=",
          "dtype": "i1"
         },
         "y": {
          "bdata": "kW2SbZJt0j/0Qi/0Qi/UPwIzlo8YutU/P4RMYdck1z+Tm1UoKaLdP0qQpwR5SuA/KEIRilCE4j/Mz3ndTLriP6EE02ufheI/oF1HlQR/4j/poosuuujiPw9y188WK+M/gGxPEIG64T8DXm+jPxTiP476zkZ9Z+M/jvrORn1n4z+sPBMf993iP4bLueptneI/YSm52BeW4j+66KKLLrriPxKBfTDkQOM/WOQOM/hS4z8LJZhe+yzkPyuHFtnO9+M/XAUEQ7JF5D9Ad9hWrjnlP+5bcFBiBuY//5meg9gL5j9nJV6mdmjmP4CVClCt/uU/QxaykIUs5D+I4i9yhgXnPw==",
          "dtype": "f8"
         }
        },
        {
         "legendgroup": "('llama3.1_8b_chat', 'birth_years_4k', 'base', 'main', 'prompt_only')",
         "marker": {
          "color": "#ff7f0e",
          "opacity": 0.5,
          "size": 6
         },
         "mode": "markers",
         "name": "('llama3.1_8b_chat', 'birth_years_4k', 'base', 'main', 'prompt_only') Fold ('direction_f1_score', 1)",
         "showlegend": false,
         "type": "scatter",
         "x": {
          "bdata": "AAECAwQFBgcICQoLDA0ODxAREhMUFRYXGBkaGxwdHh8=",
          "dtype": "i1"
         },
         "y": {
          "bdata": "EUtFLBWx1D9rTKQHKmfXP+ZF6niACNk/bzBFPusG4z/APbDRuyLjP4qd2Imd2OM/S9SuRO1K5D+6psawZZTlP6LiTSaEoeM/T+zETuzE5D8FnfW62p7kPwT9uDK3oeU/rbXWWmut5T/3DWvfsPblP1+mn0sxaOY/kICaXS+y5j9cY3GNxTXmP1xjcY3FNeY/MLiQKLJ55j9kIQtZyELmPzCsUi/tYOY/0tUnTEZo5j9ApZEc5a/mP2fRJMCab+Y/C/xa0wK/5j9u1RH1Dt7mP474MhksDec/scTNdKnY5j/V18gTne7mP5qAwWN5r+Y/07iBUWca5z8F1Ox6kbXlPw==",
          "dtype": "f8"
         }
        },
        {
         "legendgroup": "('llama3.1_8b_chat', 'birth_years_4k', 'base', 'main', 'prompt_only')",
         "marker": {
          "color": "#ff7f0e",
          "opacity": 0.5,
          "size": 6
         },
         "mode": "markers",
         "name": "('llama3.1_8b_chat', 'birth_years_4k', 'base', 'main', 'prompt_only') Fold ('direction_f1_score', 2)",
         "showlegend": false,
         "type": "scatter",
         "x": {
          "bdata": "AAECAwQFBgcICQoLDA0ODxAREhMUFRYXGBkaGxwdHh8=",
          "dtype": "i1"
         },
         "y": {
          "bdata": "uZEbuZEb2T8edSno4FHXP5lV3M7ps98/N2F+V4ub4D+3bdu2bdvlP+o9FKneQ9E/pyFU0o1i5j/eTtIwgrDmPxZlURZlUeY/0zzbSO3j5T92Xdd1XdflP6rVv0oFqOY/a/Yk38dq5j/7zkZ9Z6PmP4iHh4eHh+c/cVR/n7dJ5z/tcRUQDMnmP0CgjyhDG+c/N8uTyDRs5z9QWpOffb/mP9zBU0z9y+Y/6CD2giXb5z/3wEbvisznP2BrxIzP5ec/CtifgP0J6D+OKDDp1DzoPwAAAAAAAOg/h+Zz/fEy6D/2gNkDZg/oP/i8WKWt8Oc/2JJDXGUK6D+rqqqqqirnPw==",
          "dtype": "f8"
         }
        },
        {
         "legendgroup": "('llama3.1_8b_chat', 'birth_years_4k', 'base', 'main', 'prompt_only')",
         "marker": {
          "color": "#ff7f0e",
          "opacity": 0.5,
          "size": 6
         },
         "mode": "markers",
         "name": "('llama3.1_8b_chat', 'birth_years_4k', 'base', 'main', 'prompt_only') Fold ('direction_f1_score', 3)",
         "showlegend": false,
         "type": "scatter",
         "x": {
          "bdata": "AAECAwQFBgcICQoLDA0ODxAREhMUFRYXGBkaGxwdHh8=",
          "dtype": "i1"
         },
         "y": {
          "bdata": "sKCk49PX1j/+ZAls2k/WP0pdtTvQv9k/HFFg0ql54D9fLs1vcNXgP0xdbn+QoeI/dYt0i3SL5D9bSW0ltZXkPyHDfC/yH+Y/GrcBDFRM5j951kocYnnmP7rbC4GpQ+E/iL52TzCT5j8ndV8eWxHkP8s9jbDc0+Q/GHvKQ8yF5j/IVIZMZcjkP6J2JWpXouY/FBkH5cxb5j9KzQewM27mPxhk9cR/QeY/D/1m69Bv5j/IdYHtlKHmPwAAAAAAoOY/V6lWqVap5j/H2Tt9U+LmP7du3bp16+Y/+N5777335j/sUGczfcbmP8ThcDgcDuc/SG8hvYX05j/6o7NTH0DnPw==",
          "dtype": "f8"
         }
        },
        {
         "legendgroup": "('llama3.1_8b_chat', 'birth_years_4k', 'base', 'main', 'prompt_only')",
         "marker": {
          "color": "#ff7f0e",
          "opacity": 0.5,
          "size": 6
         },
         "mode": "markers",
         "name": "('llama3.1_8b_chat', 'birth_years_4k', 'base', 'main', 'prompt_only') Fold ('direction_f1_score', 4)",
         "showlegend": false,
         "type": "scatter",
         "x": {
          "bdata": "AAECAwQFBgcICQoLDA0ODxAREhMUFRYXGBkaGxwdHh8=",
          "dtype": "i1"
         },
         "y": {
          "bdata": "sSX4Nn+F2T+XvKtWbEfZP4bWv4gnqeE/BQutfxFP4j8Jt6tpaLbiP2i7t0pT/OI/eRWJV5F45T/Dr8ZEeqDiP2x0cHLxseE/Iy0it3Q34j/lCmJyBTHhPyZXEJMriOE/ndtrySGu4j9PpZC+5qnkP+q0LgFeseQ/HrUI+Wt25D+owlPhqfDkP0vBcOzJteQ/fBphuacR5j8kBZM5CLjlP1Jo9i8Qr+Q/z9k/icLi5D+Qyp54xWTmP0zrKhE6F+Y/HjnYxI1P5j+QN0nfWnXmP9R8rZ4dAuc/+e1ST8Zv5z8zMzMzMzPnP7VcuKtvkuc/RlTr7Iuo5j8+5LJioITnPw==",
          "dtype": "f8"
         }
        },
        {
         "legendgroup": "('llama3.1_8b_chat', 'cities_10k', 'base', 'main', 'prompt_answer')",
         "line": {
          "color": "#2ca02c",
          "width": 2
         },
         "marker": {
          "size": 8
         },
         "mode": "lines+markers",
         "name": "('llama3.1_8b_chat', 'cities_10k', 'base', 'main', 'prompt_answer')",
         "type": "scatter",
         "x": {
          "bdata": "AAECAwQFBgcICQoLDA0ODxAREhMUFRYXGBkaGxwdHh8=",
          "dtype": "i1"
         },
         "y": {
          "bdata": "gmCNCX/05T+BPi3tDEvmP7ynvdRPLuY/1ARWdgQ05j85wLmeioLmP3Q9mbboHec/eqPC6JE25z9O2W175iLnP8134U5QP+c/P8NoHehu5j+H+CdGEITmPxJ/w0qepOY/9tz8aExn5z9HNnWSobfnPxwnmZ+9wOY/Zwf6ySIv5j+/NAgeXdnlPxRr6Yfhg+Y/jM+6pnDB5j9qjoAbGYfmP7J1ZoT4guY/TbV1GOt95j+C2FbmSVvmP/DfKq8DMeY/PuUchCbt5j/79WEORD7nP3PAQcfoMuU/AJ1sWLdJ5T+i8k5P/XDlP0z3t8Omi+U/4v5rlGfa4z97P0u2JzXkPw==",
          "dtype": "f8"
         }
        },
        {
         "legendgroup": "('llama3.1_8b_chat', 'cities_10k', 'base', 'main', 'prompt_answer')",
         "line": {
          "width": 0
         },
         "mode": "lines",
         "name": "('llama3.1_8b_chat', 'cities_10k', 'base', 'main', 'prompt_answer') Max",
         "showlegend": false,
         "type": "scatter",
         "x": {
          "bdata": "AAECAwQFBgcICQoLDA0ODxAREhMUFRYXGBkaGxwdHh8=",
          "dtype": "i1"
         },
         "y": {
          "bdata": "+JruUqji5j+QclPRPKHmP0tRQmW+Q+c/DHG7YcYQ5z/zwyJl4OnmP+FikMungOc/CiRPm76v5z8eyRzvQ13nP9lgqytJoec/EGm9gG1O5z85XvKT9prnPwZj2kV+Feg/QnsJ7SW05z83RKA98u7nP2I86WkVP+c/nXfz00rS5z99I3kAyy/nPxSVuRRY9uY/e4FwZmlK5z8K16NwPQrnPxOXp+nxEuc/IXUdbg9S5z/EHXFH3BHnPzL0L20EDuc/jigL7JQ65z+uWR1GmYrnP+5XwGQc3uU/8cmQ4GvZ5T/NlyYOY7XlP54MqT+I7uU/NQNGIwKE5z/yXTiIHt/lPw==",
          "dtype": "f8"
         }
        },
        {
         "fill": "tonexty",
         "fillcolor": "rgba(44, 160, 44, 0.1)",
         "legendgroup": "('llama3.1_8b_chat', 'cities_10k', 'base', 'main', 'prompt_answer')",
         "line": {
          "width": 0
         },
         "mode": "lines",
         "name": "('llama3.1_8b_chat', 'cities_10k', 'base', 'main', 'prompt_answer') Min",
         "showlegend": false,
         "type": "scatter",
         "x": {
          "bdata": "AAECAwQFBgcICQoLDA0ODxAREhMUFRYXGBkaGxwdHh8=",
          "dtype": "i1"
         },
         "y": {
          "bdata": "bwTHJdE15T8+UlzhI8XlP6FlfQIfJeQ/Q5dm8ohi4z/yWTeYIp/lP8oRG3dyxOY/RqdVetfm5j/MUbp9ZfXmP2tjaLqD/eY/WwW1GZiu4z8FFFBAAQXkP+5phOWeRuI/lzWXNZc15z9qdafVnVbnP9qpgy8qQuY/vxArSuMj4z80WKEzWKHjP5TUjzPF0uU/C/rhXsrx5T+ToNezJOjlP/iuyQVN7eU/MHP7Pn3p5T8L+uFeyvHlP5ZaqZVaqeU/75ga2Dum5j9zJYWgc/DmP/NMMyJsneM/Owv4Opa15D/lTM7kTM7kP4fV1/V7S+U/sGdzL1Pq4D9hO+a9xSfhPw==",
          "dtype": "f8"
         }
        },
        {
         "legendgroup": "('llama3.1_8b_chat', 'cities_10k', 'base', 'main', 'prompt_answer')",
         "line": {
          "width": 0
         },
         "mode": "lines",
         "name": "('llama3.1_8b_chat', 'cities_10k', 'base', 'main', 'prompt_answer') +1 STD",
         "showlegend": false,
         "type": "scatter",
         "x": {
          "bdata": "AAECAwQFBgcICQoLDA0ODxAREhMUFRYXGBkaGxwdHh8=",
          "dtype": "i1"
         },
         "y": {
          "bdata": "peOqDUee5j8mrR+RsLDmP0gY/A7Uiec/JmTthvbI5z8DP5Et5A3nPw1ygILebuc/1wf1IsyC5z9EUy79W0nnP0pFaJo/f+c/YM+orav55z/FJ1zk7vDnP9qs0YzvF+k/OgN6vh+n5z+QXy0KhvTnPy68jZ79Huc/jifR02kF6D+CCDV9WzHnPxRraYwh/eY/EAY05bZK5z8nEpd+V/LmPxPMQIOh6+Y/f5mKj4QT5z/zCK4ezczmPzBEoR0fv+Y/7nhmW4sx5z9pI3YxcIfnP49l+FS9HeY/GZUuQHa45T9RqBa0ys/lP/xr163QyuU/nIHYiKtQ5j/1/VEOaA/mPw==",
          "dtype": "f8"
         }
        },
        {
         "fill": "tonexty",
         "fillcolor": "rgba(44, 160, 44, 0.3)",
         "legendgroup": "('llama3.1_8b_chat', 'cities_10k', 'base', 'main', 'prompt_answer')",
         "line": {
          "width": 0
         },
         "mode": "lines",
         "name": "('llama3.1_8b_chat', 'cities_10k', 'base', 'main', 'prompt_answer') -1 STD",
         "showlegend": false,
         "type": "scatter",
         "x": {
          "bdata": "AAECAwQFBgcICQoLDA0ODxAREhMUFRYXGBkaGxwdHh8=",
          "dtype": "i1"
         },
         "y": {
          "bdata": "X91vBbdK5T/czzpJaeXlPzA3f5rL0uQ/gqW+ZRKf5D9vQeIPMfflP9sIsuryzOY/HT+Qrlfq5j9YX635cPzmP1CqWgNh/+Y/HrcojSTk5D9JyfOnMRflP0pRtQhNMeQ/srZ/E3kn5z/+DL0avXrnPwqSpKB9YuY/QOciwNtY5D/8YNu+XoHkPxRraYOhCuY/CJlBaCo45j+tCmq42hvmP1EfjIVPGuY/G9FgoVHo5T8RqP+txunlP7B7tEDoouU/jlHTrMGo5j+NyE3rF/XmP1cbizkUSOQ/56SqcPja5D/zPIfqLxLlP5yCmNl8TOU/KHz/nyNk4T8BgURe51riPw==",
          "dtype": "f8"
         }
        },
        {
         "legendgroup": "('llama3.1_8b_chat', 'cities_10k', 'base', 'main', 'prompt_answer')",
         "marker": {
          "color": "#2ca02c",
          "opacity": 0.5,
          "size": 6
         },
         "mode": "markers",
         "name": "('llama3.1_8b_chat', 'cities_10k', 'base', 'main', 'prompt_answer') Fold ('direction_f1_score', 0)",
         "showlegend": false,
         "type": "scatter",
         "x": {
          "bdata": "AAECAwQFBgcICQoLDA0ODxAREhMUFRYXGBkaGxwdHh8=",
          "dtype": "i1"
         },
         "y": {
          "bdata": "+JruUqji5j+QclPRPKHmPyDk2gDzK+c/RVyrGQvw5j/zwyJl4OnmP3GS2s0TE+c/RhdddNFF5z9HmZZ96S3nP96HW0BhVOc/EGm9gG1O5z9Kt6+s3iXnP4iHh4eHh+c/QnsJ7SW05z/Aaz7Y2qPnP5I9A1HpyOY/nXfz00rS5z+dq7XbgVrmPwAjwje75OY/e4FwZmlK5z8auaQ0zI3mP/d9HHHQmeY/j1UOQK465j8L+uFeyvHlP+4S9n5y0OU/qG6H6nao5j926Ddbh37nPziVCdsgOOU/LDJfmjiM5T/NlyYOY7XlP54MqT+I7uU/fYHb3HWE4j/yXTiIHt/lPw==",
          "dtype": "f8"
         }
        },
        {
         "legendgroup": "('llama3.1_8b_chat', 'cities_10k', 'base', 'main', 'prompt_answer')",
         "marker": {
          "color": "#2ca02c",
          "opacity": 0.5,
          "size": 6
         },
         "mode": "markers",
         "name": "('llama3.1_8b_chat', 'cities_10k', 'base', 'main', 'prompt_answer') Fold ('direction_f1_score', 1)",
         "showlegend": false,
         "type": "scatter",
         "x": {
          "bdata": "AAECAwQFBgcICQoLDA0ODxAREhMUFRYXGBkaGxwdHh8=",
          "dtype": "i1"
         },
         "y": {
          "bdata": "bwTHJdE15T8+UlzhI8XlPwPu4p+Q5OY/SMzbGRLz5j9azp/l/FnmP8oRG3dyxOY/RqdVetfm5j/MUbp9ZfXmP2tjaLqD/eY/WwW1GZiu4z8FFFBAAQXkP+5phOWeRuI/+bliliM/5z9qdafVnVbnP2I86WkVP+c/vxArSuMj4z80WKEzWKHjP2XJVv6HoeY/YuvbgKGa5j+TJk2aNGnmP/iuyQVN7eU/rktp4G/e5j+73ZxGlU/mP5ZaqZVaqeU/75ga2Dum5j9Xb/VWb/XmP/NMMyJsneM/Owv4Opa15D/lTM7kTM7kPzc/KayAk+U/sGdzL1Pq4D9hO+a9xSfhPw==",
          "dtype": "f8"
         }
        },
        {
         "legendgroup": "('llama3.1_8b_chat', 'cities_10k', 'base', 'main', 'prompt_answer')",
         "marker": {
          "color": "#2ca02c",
          "opacity": 0.5,
          "size": 6
         },
         "mode": "markers",
         "name": "('llama3.1_8b_chat', 'cities_10k', 'base', 'main', 'prompt_answer') Fold ('direction_f1_score', 2)",
         "showlegend": false,
         "type": "scatter",
         "x": {
          "bdata": "AAECAwQFBgcICQoLDA0ODxAREhMUFRYXGBkaGxwdHh8=",
          "dtype": "i1"
         },
         "y": {
          "bdata": "SV8uzW9w5T9rxXaU+fflP6FlfQIfJeQ/Q5dm8ohi4z/yWTeYIp/lP6iHpBcW3uY/ci0Fw7En5z8eyRzvQ13nP4eXwgzwE+c/dPvZB7YJ5z8wCWl50PbmPz9RPWjknec/lzWXNZc15z8YujvFqdznP9qpgy8qQuY/dXbcPbrh5T/XavMo07vlP5TUjzPF0uU/C/rhXsrx5T+ToNezJOjlPySL1YREfeY/MHP7Pn3p5T+ILF1olwnmP9w+8z0cCeY/jigL7JQ65z+uWR1GmYrnP5H31ruYtuU/JFNvs0Iy5T+UEls7KbHlP2dIsfL0XuU/vFHhLtvR4z+IudAqMPbkPw==",
          "dtype": "f8"
         }
        },
        {
         "legendgroup": "('llama3.1_8b_chat', 'cities_10k', 'base', 'main', 'prompt_answer')",
         "marker": {
          "color": "#2ca02c",
          "opacity": 0.5,
          "size": 6
         },
         "mode": "markers",
         "name": "('llama3.1_8b_chat', 'cities_10k', 'base', 'main', 'prompt_answer') Fold ('direction_f1_score', 3)",
         "showlegend": false,
         "type": "scatter",
         "x": {
          "bdata": "AAECAwQFBgcICQoLDA0ODxAREhMUFRYXGBkaGxwdHh8=",
          "dtype": "i1"
         },
         "y": {
          "bdata": "Y2C19zcG5j+ERt75W5zmP0tRQmW+Q+c/DHG7YcYQ5z+3bdu2bdvmP+FikMungOc/CiRPm76v5z+EjUfzBxvnP9lgqytJoec/zXHZHdAc5z85XvKT9prnPwZj2kV+Feg/IDf+upOl5z83RKA98u7nP2lXCSo9k+Y/uBZ46BUG5z+WdWVdWVfmP1jBLCkHROY/F2zBFmzB5j/HcBWWGrrmP1P9nLCGd+Y/9AC8rOwg5j91GGUqnmvmPx6/E6wkZOY/WK9evXr15j/99hmvUEjnP+5XwGQc3uU/hbbHUBcj5T+QbukA1IrlP7lqPP7HjeU/NQNGIwKE5z/AsQj/ON3jPw==",
          "dtype": "f8"
         }
        },
        {
         "legendgroup": "('llama3.1_8b_chat', 'cities_10k', 'base', 'main', 'prompt_answer')",
         "marker": {
          "color": "#2ca02c",
          "opacity": 0.5,
          "size": 6
         },
         "mode": "markers",
         "name": "('llama3.1_8b_chat', 'cities_10k', 'base', 'main', 'prompt_answer') Fold ('direction_f1_score', 4)",
         "showlegend": false,
         "type": "scatter",
         "x": {
          "bdata": "AAECAwQFBgcICQoLDA0ODxAREhMUFRYXGBkaGxwdHh8=",
          "dtype": "i1"
         },
         "y": {
          "bdata": "doMp8lk35j/JZ91ginzmP529Nh8ubuU/R+cEyKmt5j8kZ8t/R87mP4Ck02hHX+c/WSHGPsAM5z/R/G+L5RLnP1dzNVdzNec/kfTl0vwG5z/sp2xkqtfmP6HVrVqOtec/167umAk25z/tL4grE9DnP1RIhAlO5uY/ew9vra8N5z99I3kAyy/nPxSVuRRY9uY/vTq25PEu5z8K16NwPQrnPxOXp+nxEuc/IXUdbg9S5z/EHXFH3BHnPzL0L20EDuc/tJqEKP4i5z9zJYWgc/DmP5mQdMZJlOU/8cmQ4GvZ5T9UV1FdRXXlP4fV1/V7S+U/Tbylh19/5D/KOIAfeS/lPw==",
          "dtype": "f8"
         }
        },
        {
         "legendgroup": "('llama3.1_8b_chat', 'cities_10k', 'base', 'main', 'prompt_only')",
         "line": {
          "color": "#d62728",
          "width": 2
         },
         "marker": {
          "size": 8
         },
         "mode": "lines+markers",
         "name": "('llama3.1_8b_chat', 'cities_10k', 'base', 'main', 'prompt_only')",
         "type": "scatter",
         "x": {
          "bdata": "AAECAwQFBgcICQoLDA0ODxAREhMUFRYXGBkaGxwdHh8=",
          "dtype": "i1"
         },
         "y": {
          "bdata": "7k1cGnhn4T/eXqV78b/iP44gyd76v+I/fXY0ygpL4j9wuYWXUiHiP5UcvxIok+I/wjB7I71l4j8Fz0vxm1flPxYIod16p+U/ooJrkgv24z+j5+9+3IrlPzZJEDVineU/Lt6T8kj15T/zFwYQMMLlP4D7Z0VKkeU/Gxav2Eqc5T8Hb+mK9ZPlP3dkD+VLNuU/4+d8B2o/5T/iZid3GTXlP3a+4Yy7HuU/Zjgt39Yz5T8arPB4bDHlP6KOe9WSEOU/Qr/njCU05T+SXxkoDE3lP/ZjruVa/+Q/S5FlaFTK5D9+u9AnM8vkP+LP36BzF+M/rlZ55XFY4z8GioX9AUDhPw==",
          "dtype": "f8"
         }
        },
        {
         "legendgroup": "('llama3.1_8b_chat', 'cities_10k', 'base', 'main', 'prompt_only')",
         "line": {
          "width": 0
         },
         "mode": "lines",
         "name": "('llama3.1_8b_chat', 'cities_10k', 'base', 'main', 'prompt_only') Max",
         "showlegend": false,
         "type": "scatter",
         "x": {
          "bdata": "AAECAwQFBgcICQoLDA0ODxAREhMUFRYXGBkaGxwdHh8=",
          "dtype": "i1"
         },
         "y": {
          "bdata": "q8MoU/Fc4z9xmg4mRFzjP8DOuFloUuM/mTFjxowZ4z+CaF4Pu/rjPyyIyRXE5OI/S53ENQME5T/8bBJVg7XlP6tgecasCuY/PU4Nx8rj5D8pYppu4B7mP9z4X1ZnQ+Y/9qDHlVeY5j92Yid2YifmPxm4YU+rMuY/G6a5C/4q5j/RXkJ7Ce3lP9Pw2LgFleU/kmUN62Eq5j8/aiNhIGDlP1+AmV/E7eU/cAr5WRnv5T8QwPW59hXmPxPhSUHy5+U/5l2L0WTe5T/hmf4G3a7lP6xDNnvPi+U/uPF9Bt5C5T91gnMNjz7lP8mwptPcVuQ/QOAQu45z5D9U1I3KLrHkPw==",
          "dtype": "f8"
         }
        },
        {
         "fill": "tonexty",
         "fillcolor": "rgba(214, 39, 40, 0.1)",
         "legendgroup": "('llama3.1_8b_chat', 'cities_10k', 'base', 'main', 'prompt_only')",
         "line": {
          "width": 0
         },
         "mode": "lines",
         "name": "('llama3.1_8b_chat', 'cities_10k', 'base', 'main', 'prompt_only') Min",
         "showlegend": false,
         "type": "scatter",
         "x": {
          "bdata": "AAECAwQFBgcICQoLDA0ODxAREhMUFRYXGBkaGxwdHh8=",
          "dtype": "i1"
         },
         "y": {
          "bdata": "nP5MIylM3j8FuQ3/aaDhP2OpuuJtouE/4nZakkaG4T9ti+b3K8jcP3Ekk8MIR+I/8YM5j0vf3j+s5JPQLSblP2lUW66SRuU/9TBwFp4f4z90X0mpIMLkP8ZiTmcs5uQ/Mm+dGhZC5T+JBm4R0IPlPz5dwTcTSeQ/09LS0tLS5D9YQgwF80XlP+ljxaK44OQ/XXTRRRdd5D8uaUvakrbkP3zfub5S9eM/XXTRRRdd5D9JnDcS543kP5RrlGuUa+Q/Lnssl7Zz5D/EBsvKw/HkPzVMR5R+quQ/y8HNfiFW5D+rW63pfHvkPxL778sWyuA/Qwfs9ljL4D8SHRjRgRHdPw==",
          "dtype": "f8"
         }
        },
        {
         "legendgroup": "('llama3.1_8b_chat', 'cities_10k', 'base', 'main', 'prompt_only')",
         "line": {
          "width": 0
         },
         "mode": "lines",
         "name": "('llama3.1_8b_chat', 'cities_10k', 'base', 'main', 'prompt_only') +1 STD",
         "showlegend": false,
         "type": "scatter",
         "x": {
          "bdata": "AAECAwQFBgcICQoLDA0ODxAREhMUFRYXGBkaGxwdHh8=",
          "dtype": "i1"
         },
         "y": {
          "bdata": "K5Agk6Xo4j+YaJVrtWvjPzaDJU1LaOM///a7aSTf4j+wpXVClVXkP5BvId6f1uI/cyn3qTce5T8niS1mQZHlP4vriSdQ8OU/yZIEqziX5D82/VgKBBLmPwxYd291M+Y/AWMjLyZ25j8NMnoUCQDmPxfRpHOETuY/NxkZrrQj5j9Q+sdZe9/lP6CYJ7PnhuU/EcMExQ/o5T8pGTzYhnzlP5pIjZGo3OU/q9R7LbTM5T9v+9rECdblP9POLKEDrOU/WPzokCDB5T+pNaKZ1ZTlP+zivwkcVuU/IdA0W2Ms5T+fLDMOBSDlP8roWLvZduQ/wdGw5lHP5D/NIR7ntzXkPw==",
          "dtype": "f8"
         }
        },
        {
         "fill": "tonexty",
         "fillcolor": "rgba(214, 39, 40, 0.3)",
         "legendgroup": "('llama3.1_8b_chat', 'cities_10k', 'base', 'main', 'prompt_only')",
         "line": {
          "width": 0
         },
         "mode": "lines",
         "name": "('llama3.1_8b_chat', 'cities_10k', 'base', 'main', 'prompt_only') -1 STD",
         "showlegend": false,
         "type": "scatter",
         "x": {
          "bdata": "AAECAwQFBgcICQoLDA0ODxAREhMUFRYXGBkaGxwdHh8=",
          "dtype": "i1"
         },
         "y": {
          "bdata": "YxcwQ5XM3z8kVbWLLRTiP+a9bHCqF+I/+/WsKvG24T9fmivZH9rfP5rJXEewT+I/IXD+OYVa3z/jFGp89h3lP6EkuJOlXuU/e3LSed5U4z8Q0obztAPlP2A6qfpOB+U/W1kEtmt05T/Z/ZELV4TlP+klKxcQ1OQ//xJFA+EU5T++4wq8b0jlP04w9xaw5eQ/tQz1ScSW5D+btBIWrO3kP1I0NojOYOQ/IZzekPma5D/FXAYtz4zkP3FOygkideQ/LILmiCqn5D97iZC2QgXlPwDlnMGZqOQ/dVKWdUVo5D9dSm5BYXbkP/q2ZoYNuOE/m9tB5JHh4T9+5NknmJTcPw==",
          "dtype": "f8"
         }
        },
        {
         "legendgroup": "('llama3.1_8b_chat', 'cities_10k', 'base', 'main', 'prompt_only')",
         "marker": {
          "color": "#d62728",
          "opacity": 0.5,
          "size": 6
         },
         "mode": "markers",
         "name": "('llama3.1_8b_chat', 'cities_10k', 'base', 'main', 'prompt_only') Fold ('direction_f1_score', 0)",
         "showlegend": false,
         "type": "scatter",
         "x": {
          "bdata": "AAECAwQFBgcICQoLDA0ODxAREhMUFRYXGBkaGxwdHh8=",
          "dtype": "i1"
         },
         "y": {
          "bdata": "k0022WST4T8FuQ3/aaDhP2OpuuJtouE/hrm9OwAH4j9cr/H74CHiP38m/JnwZ+I/S53ENQME5T/8bBJVg7XlP6tgecasCuY/9TBwFp4f4z8pYppu4B7mP9z4X1ZnQ+Y/9mnI/5JB5j8DM5aPGLrlP/jbFKOGv+U/N7s4MFzO5T9YQgwF80XlP/M0PV7i8uQ/QUBzfX8Z5T8uaUvakrbkP3zfub5S9eM/XXTRRRdd5D9JnDcS543kPwjMHjB7wOQ/kUrItFYw5T+MSonErzTlP6xDNnvPi+U/uPF9Bt5C5T91gnMNjz7lPxL778sWyuA/Qwfs9ljL4D9Q4KOEohbkPw==",
          "dtype": "f8"
         }
        },
        {
         "legendgroup": "('llama3.1_8b_chat', 'cities_10k', 'base', 'main', 'prompt_only')",
         "marker": {
          "color": "#d62728",
          "opacity": 0.5,
          "size": 6
         },
         "mode": "markers",
         "name": "('llama3.1_8b_chat', 'cities_10k', 'base', 'main', 'prompt_only') Fold ('direction_f1_score', 1)",
         "showlegend": false,
         "type": "scatter",
         "x": {
          "bdata": "AAECAwQFBgcICQoLDA0ODxAREhMUFRYXGBkaGxwdHh8=",
          "dtype": "i1"
         },
         "y": {
          "bdata": "HvXHxe2u4T9VLLU7UcXiP8DOuFloUuM/mTFjxowZ4z+FaXrRam3jP/MkMg3bzeI/e0STuLAQ5D85DQJdeFDlP2lUW66SRuU/PU4Nx8rj5D+5+Yco58TlP2voObMU4eU/2YT1p0/Q5T+JBm4R0IPlP+3jyXuR0uU/uWQI1tHm5T/RXkJ7Ce3lP+ljxaK44OQ/GhWcUcEZ5T8zuCDky1vlP+ypSNMHheU/jBRHgH2W5T8zag3kJHPlPy7Ml7lheeU/Lnssl7Zz5D/hmf4G3a7lPwUQds64D+U/QV6fCD8c5T+grkZH+ALlP8mwptPcVuQ/QOAQu45z5D/pBD2tjU7gPw==",
          "dtype": "f8"
         }
        },
        {
         "legendgroup": "('llama3.1_8b_chat', 'cities_10k', 'base', 'main', 'prompt_only')",
         "marker": {
          "color": "#d62728",
          "opacity": 0.5,
          "size": 6
         },
         "mode": "markers",
         "name": "('llama3.1_8b_chat', 'cities_10k', 'base', 'main', 'prompt_only') Fold ('direction_f1_score', 2)",
         "showlegend": false,
         "type": "scatter",
         "x": {
          "bdata": "AAECAwQFBgcICQoLDA0ODxAREhMUFRYXGBkaGxwdHh8=",
          "dtype": "i1"
         },
         "y": {
          "bdata": "q8MoU/Fc4z8Ub4C0UCXjP/WqzTVuF+M/4nZakkaG4T8U2N4cgLjiPyyIyRXE5OI/8YM5j0vf3j+++Z+mnCvlP0aaouTdg+U/aDA5IugJ5D90X0mpIMLkP8ZiTmcs5uQ/Mm+dGhZC5T9rjv/ADaHlPz5dwTcTSeQ/09LS0tLS5D8bOA87pEvlP2DFyNvfKeU/XXTRRRdd5D+M5IcSsUblP8ra4X/f9eQ/xPZe56cT5T92J/rHEZXkP07k1JR6xeQ/Oemfkhrw5D/EBsvKw/HkPxskD90B6OQ/y8HNfiFW5D+rW63pfHvkP201AUkG4uM/dAP/bZeL4z8c1EEd1EHdPw==",
          "dtype": "f8"
         }
        },
        {
         "legendgroup": "('llama3.1_8b_chat', 'cities_10k', 'base', 'main', 'prompt_only')",
         "marker": {
          "color": "#d62728",
          "opacity": 0.5,
          "size": 6
         },
         "mode": "markers",
         "name": "('llama3.1_8b_chat', 'cities_10k', 'base', 'main', 'prompt_only') Fold ('direction_f1_score', 3)",
         "showlegend": false,
         "type": "scatter",
         "x": {
          "bdata": "AAECAwQFBgcICQoLDA0ODxAREhMUFRYXGBkaGxwdHh8=",
          "dtype": "i1"
         },
         "y": {
          "bdata": "nP5MIylM3j926+hUZ9jiP6ONlbLHv+I/OY7jOI5j4j9ti+b3K8jcP3Ekk8MIR+I//HmVxRnt3j+s5JPQLSblP8buVNQSr+U/ob2E9hLa4z9WXMVVXMXlP4pRw9+mGOU/7lfAZBze5T9STfN3l8TlP0QUBrWcyOU/p9WdVnda5T8r62S2hpXlP0KnqOP6fOU/JliCJViC5T9Bkq0hT1DlP7vT6k6rO+U/5Y9xVNwM5T+Cbn7kCUvlP5RrlGuUa+Q/bK9mEC+S5T9Tm9rUpjblP84vZcG9zuQ/wXpxhx2f5D8jKMoJRH/kP8F4K/scUuM/9oQ9YU/Y4z9U1I3KLrHkPw==",
          "dtype": "f8"
         }
        },
        {
         "legendgroup": "('llama3.1_8b_chat', 'cities_10k', 'base', 'main', 'prompt_only')",
         "marker": {
          "color": "#d62728",
          "opacity": 0.5,
          "size": 6
         },
         "mode": "markers",
         "name": "('llama3.1_8b_chat', 'cities_10k', 'base', 'main', 'prompt_only') Fold ('direction_f1_score', 4)",
         "showlegend": false,
         "type": "scatter",
         "x": {
          "bdata": "AAECAwQFBgcICQoLDA0ODxAREhMUFRYXGBkaGxwdHh8=",
          "dtype": "i1"
         },
         "y": {
          "bdata": "AAAAAABA4T9xmg4mRFzjPw3yFjXa8+I/M2CnJdRs4j+CaF4Pu/rjP9iWMN0vfuI/DpOoGMsB5D99sjKNRV7lP0zqWCY2weU/8R/e5dXm4z+Cbn7kCUvlP3jYpbib7+U/9qDHlVeY5j92Yid2YifmPxm4YU+rMuY/G6a5C/4q5j+zZsxEpM/lP9Pw2LgFleU/kmUN62Eq5j8/aiNhIGDlP1+AmV/E7eU/cAr5WRnv5T8QwPW59hXmPxPhSUHy5+U/5l2L0WTe5T9UV1FdRXXlPzVMR5R+quQ/9Umf9Emf5D+U9OF+t7vkP2S1m0ArIOM/d0El+moX5D8SHRjRgRHdPw==",
          "dtype": "f8"
         }
        },
        {
         "legendgroup": "('llama3.1_8b_chat', 'football_leagues_1k', 'base', 'main', 'prompt_answer')",
         "line": {
          "color": "#9467bd",
          "width": 2
         },
         "marker": {
          "size": 8
         },
         "mode": "lines+markers",
         "name": "('llama3.1_8b_chat', 'football_leagues_1k', 'base', 'main', 'prompt_answer')",
         "type": "scatter",
         "x": {
          "bdata": "AAECAwQFBgcICQoLDA0ODxAREhMUFRYXGBkaGxwdHh8=",
          "dtype": "i1"
         },
         "y": {
          "bdata": "irUUIIQD4T9UyXCSfbvhP37e7I0ZAuQ/gKMcRvrH4z8ej0vxxRvkP9ZJzahokOM/ePcETzAL5D9l7FrzcKHgPxsOpx94AuE/kw+fUz0J4T+Et93hlinhPy64Z6QgCOE/nu/Utdc64T9mGcrFQhrhP0Q7+ZqLP+E/G4pmi/pl4T99oDAdTp3hP/3/+HqJOOE/Ipv1l/Dz4D9ig42UWn/gPx6Q8cjYa+A/s8hd5k/W3z87bs27b9beP0aXNSvHjuE/UmvRjmty4T87Akkl8QfiP7Eryii7T+A/rdSFQfhW3z/VM5Hs1iHePxZqclaNxNs/2QXeCLtm2D+1Uaye03bYPw==",
          "dtype": "f8"
         }
        },
        {
         "legendgroup": "('llama3.1_8b_chat', 'football_leagues_1k', 'base', 'main', 'prompt_answer')",
         "line": {
          "width": 0
         },
         "mode": "lines",
         "name": "('llama3.1_8b_chat', 'football_leagues_1k', 'base', 'main', 'prompt_answer') Max",
         "showlegend": false,
         "type": "scatter",
         "x": {
          "bdata": "AAECAwQFBgcICQoLDA0ODxAREhMUFRYXGBkaGxwdHh8=",
          "dtype": "i1"
         },
         "y": {
          "bdata": "gnW0eZ/i4j/bGJruYL/lP1VVVVVVVeU/lxUDJbzR5D9kIQtZyELmP7ZgC7ZgC+Y/F2zBFmzB5j8XbMEWbMHmP83MzMzMzOQ/Ccs9jbDc4z9ddNFFF13kPzZlTVlT1uQ/cJd6Mn675D9VVVVVVVXlP9VKrdRKreQ/lxUDJbzR5D9lTVlT1pTlP3sUrkfheuQ/gqh0ZM9A5D8UO7ETO7HjPyVJkiRJkuQ/FDuxEzux4z+llFJKKaXkP1VVVVVVVeU/Tm1qU5va5D8fhetRuB7lPx+F61G4HuU/W79SoNav5D9+eWxF0HDiP7W0tLS0tOQ/DSd1Xx5b4T8qZ7fwqzHhPw==",
          "dtype": "f8"
         }
        },
        {
         "fill": "tonexty",
         "fillcolor": "rgba(148, 103, 189, 0.1)",
         "legendgroup": "('llama3.1_8b_chat', 'football_leagues_1k', 'base', 'main', 'prompt_answer')",
         "line": {
          "width": 0
         },
         "mode": "lines",
         "name": "('llama3.1_8b_chat', 'football_leagues_1k', 'base', 'main', 'prompt_answer') Min",
         "showlegend": false,
         "type": "scatter",
         "x": {
          "bdata": "AAECAwQFBgcICQoLDA0ODxAREhMUFRYXGBkaGxwdHh8=",
          "dtype": "i1"
         },
         "y": {
          "bdata": "xhhjjDHG2D8cuZEbuZHbP7/2kMuKgeI/kiRJkiRJ4j+SJEmSJEniPypnt/CrMeE/R31no76z4T95DeU1lNfQP/MFfUFf0Nc/8wV9QV/Q1z+RhSxkIQvZP5qZmZmZmdk/FmzBFmzB1j9VVVVVVVXVP/MFfUFf0Nc/VVVVVVVV1T/zBX1BX9DXPzVlTVlT1tQ/YyELWchC1j9jIQtZyELWP2MhC1nIQtY/lD7pkz7p0z83velNb3rTP83MzMzMzNw/ned5nud53j8AAAAAAADgP5aWlpaWltY/AAAAAAAA1D8QERERERHRP7sStStRu9I/lXsaYbmn0T+SJEmSJEnSPw==",
          "dtype": "f8"
         }
        },
        {
         "legendgroup": "('llama3.1_8b_chat', 'football_leagues_1k', 'base', 'main', 'prompt_answer')",
         "line": {
          "width": 0
         },
         "mode": "lines",
         "name": "('llama3.1_8b_chat', 'football_leagues_1k', 'base', 'main', 'prompt_answer') +1 STD",
         "showlegend": false,
         "type": "scatter",
         "x": {
          "bdata": "AAECAwQFBgcICQoLDA0ODxAREhMUFRYXGBkaGxwdHh8=",
          "dtype": "i1"
         },
         "y": {
          "bdata": "A6iUfnyr4z8TkKdcyBvlPwFfkmFHKOU/xqzY9xHw5D9V6xjzLKXlP3nmz1mJnuU/6WxK0CQ/5j9S3zV0A5TmP8QSemDef+Q/3yBM5jQU5D84Ui5V8nvkP2bzp0yNf+Q/bU1Anan15D93gMtl4mXlPzbE2GBmueQ/NxiUSLVn5T9eHDzek07lPxKKexuiSuU/1Ue9jHfC5D+N8UQy0hbkP1ErlWfd5eM/WKj5ZK6R4z88XXL3w6rjP9pgtfgFR+Q/F77HRtW14z8Scn6y/RrkP6QRwCR51eM/2SYSkDah4z/21OKVeBjjP0x5PwZ6kuI/usMOt1hD3z8IB0fahEnfPw==",
          "dtype": "f8"
         }
        },
        {
         "fill": "tonexty",
         "fillcolor": "rgba(148, 103, 189, 0.3)",
         "legendgroup": "('llama3.1_8b_chat', 'football_leagues_1k', 'base', 'main', 'prompt_answer')",
         "line": {
          "width": 0
         },
         "mode": "lines",
         "name": "('llama3.1_8b_chat', 'football_leagues_1k', 'base', 'main', 'prompt_answer') -1 STD",
         "showlegend": false,
         "type": "scatter",
         "x": {
          "bdata": "AAECAwQFBgcICQoLDA0ODxAREhMUFRYXGBkaGxwdHh8=",
          "dtype": "i1"
         },
         "y": {
          "bdata": "IYYpgxe33D8qBXSQZbbcP/tdR7rr2+I/OppglOKf4j/nMn7vXpLiPzOtyvdHguE/B4K/zTvX4T/w8v/kvF3VP+QSqL0jCts/jvzjgYv82z+gORrddq7bP+35TvhnIds/niPTnAsA2z+qZJFLRp3ZP6RkM6phi9s//vdxnH/I2j84SUq4ENjbP9Dr7LThTNo/3dxbRtNK2j9uKqztxc/ZP9bpm1So49k/tUDIAkOJ2D/+IbaIV1fWP2Sba7sQrd0/GjG2rQNe3j/IJCcwyenfP3yLqFn6k9k/qFvnYoNr1z++vVytvBLWP5ThZaAmZNI/+EetWh2K0T9inBFjIqTRPw==",
          "dtype": "f8"
         }
        },
        {
         "legendgroup": "('llama3.1_8b_chat', 'football_leagues_1k', 'base', 'main', 'prompt_answer')",
         "marker": {
          "color": "#9467bd",
          "opacity": 0.5,
          "size": 6
         },
         "mode": "markers",
         "name": "('llama3.1_8b_chat', 'football_leagues_1k', 'base', 'main', 'prompt_answer') Fold ('direction_f1_score', 0)",
         "showlegend": false,
         "type": "scatter",
         "x": {
          "bdata": "AAECAwQFBgcICQoLDA0ODxAREhMUFRYXGBkaGxwdHh8=",
          "dtype": "i1"
         },
         "y": {
          "bdata": "lVJKKaWU4j/bGJruYL/lPxCN9aGxPuQ/EI31obE+5D9kIQtZyELmP2gvob2E9uI/ZmZmZmZm4j8Jyz2NsNzjP5STk5OTk+M/Ccs9jbDc4z9L1K5E7UrkPzZlTVlT1uQ/XkN5DeU15D8Gnm7ND4vkPxQ7sRM7seM/lxUDJbzR5D9lTVlT1pTlP4KodGTPQOQ/gqh0ZM9A5D8UO7ETO7HjPyVJkiRJkuQ/FDuxEzux4z+llFJKKaXkP1VVVVVVVeU/Tm1qU5va5D8fhetRuB7lPx+F61G4HuU/W79SoNav5D88PDw8PDzcP7zpTW9609s/vOlNb3rT2z88PDw8PDzcPw==",
          "dtype": "f8"
         }
        },
        {
         "legendgroup": "('llama3.1_8b_chat', 'football_leagues_1k', 'base', 'main', 'prompt_answer')",
         "marker": {
          "color": "#9467bd",
          "opacity": 0.5,
          "size": 6
         },
         "mode": "markers",
         "name": "('llama3.1_8b_chat', 'football_leagues_1k', 'base', 'main', 'prompt_answer') Fold ('direction_f1_score', 1)",
         "showlegend": false,
         "type": "scatter",
         "x": {
          "bdata": "AAECAwQFBgcICQoLDA0ODxAREhMUFRYXGBkaGxwdHh8=",
          "dtype": "i1"
         },
         "y": {
          "bdata": "gnW0eZ/i4j81SIM0SIPkPxxMkc+6weQ/cJd6Mn675D9c+NWYSA/kP1VVVVVVVeU/r169evXq5T95DeU1lNfQP/MFfUFf0Nc/8wV9QV/Q1z+RhSxkIQvZP5qZmZmZmdk/FmzBFmzB1j9VVVVVVVXVP/MFfUFf0Nc/VVVVVVVV1T/zBX1BX9DXPzVlTVlT1tQ/YyELWchC1j9jIQtZyELWP2MhC1nIQtY/lD7pkz7p0z83velNb3rTP5IkSZIkSeI/lVJKKaWU4j+CdbR5n+LiP3sJ7SW0l+A/SpCnBHlK4D9+eWxF0HDiP7sStStRu9I/VVVVVVVV1T+SJEmSJEnSPw==",
          "dtype": "f8"
         }
        },
        {
         "legendgroup": "('llama3.1_8b_chat', 'football_leagues_1k', 'base', 'main', 'prompt_answer')",
         "marker": {
          "color": "#9467bd",
          "opacity": 0.5,
          "size": 6
         },
         "mode": "markers",
         "name": "('llama3.1_8b_chat', 'football_leagues_1k', 'base', 'main', 'prompt_answer') Fold ('direction_f1_score', 2)",
         "showlegend": false,
         "type": "scatter",
         "x": {
          "bdata": "AAECAwQFBgcICQoLDA0ODxAREhMUFRYXGBkaGxwdHh8=",
          "dtype": "i1"
         },
         "y": {
          "bdata": "4uHh4eHh4T9mt/CrMZHeP1VVVVVVVeU/lxUDJbzR5D+XFQMlvNHkP7ZgC7ZgC+Y/F2zBFmzB5j8XbMEWbMHmP83MzMzMzOQ/lVJKKaWU4j9ddNFFF13kP1100UUXXeQ/cJd6Mn675D9VVVVVVVXlP9VKrdRKreQ/AAAAAAAA5D/kOI7jOI7jP3sUrkfheuQ/XkN5DeU15D8zMzMzMzPjP5zUfXlsReA/O9q8T3HJ4D9HWO5phOXeP/jee++9994/nNR9eWxF4D8AAAAAAADgP/jee++9994/dV8eWxE03D9v4VdjIj3gPy4ZgnW0ed8/exSuR+F61D+WlpaWlpbWPw==",
          "dtype": "f8"
         }
        },
        {
         "legendgroup": "('llama3.1_8b_chat', 'football_leagues_1k', 'base', 'main', 'prompt_answer')",
         "marker": {
          "color": "#9467bd",
          "opacity": 0.5,
          "size": 6
         },
         "mode": "markers",
         "name": "('llama3.1_8b_chat', 'football_leagues_1k', 'base', 'main', 'prompt_answer') Fold ('direction_f1_score', 3)",
         "showlegend": false,
         "type": "scatter",
         "x": {
          "bdata": "AAECAwQFBgcICQoLDA0ODxAREhMUFRYXGBkaGxwdHh8=",
          "dtype": "i1"
         },
         "y": {
          "bdata": "xhhjjDHG2D8cuZEbuZHbP7/2kMuKgeI/09LS0tLS4j+wd0wN7B3jPypnt/CrMeE/4ybM72px4z+g0wY6baDjPzmkJhhvZd8/sRM7sRM74T8RERERERHhPwAAAAAAAOA/ERERERER4T900UUXXXThP3AfwX0E9+E/dNFFF1104T+eEuQpQZ7iP5Z7GmG5p+E/lnsaYbmn4T/ep7hkCNbhPyIiIiIiIuI/jDHGGGOM4T8iIiIiIiLiP5IkSZIkSeI/SpCnBHlK4D9yHMdxHMfhPxEREREREeE/URRFURRF4T8AAAAAAADiP7W0tLS0tOQ/DSd1Xx5b4T8qZ7fwqzHhPw==",
          "dtype": "f8"
         }
        },
        {
         "legendgroup": "('llama3.1_8b_chat', 'football_leagues_1k', 'base', 'main', 'prompt_answer')",
         "marker": {
          "color": "#9467bd",
          "opacity": 0.5,
          "size": 6
         },
         "mode": "markers",
         "name": "('llama3.1_8b_chat', 'football_leagues_1k', 'base', 'main', 'prompt_answer') Fold ('direction_f1_score', 4)",
         "showlegend": false,
         "type": "scatter",
         "x": {
          "bdata": "AAECAwQFBgcICQoLDA0ODxAREhMUFRYXGBkaGxwdHh8=",
          "dtype": "i1"
         },
         "y": {
          "bdata": "VVVVVVVV4T9VVVVVVVXhPzMzMzMzM+M/kiRJkiRJ4j+SJEmSJEniP5IkSZIkSeI/R31no76z4T/6GJyPwfnYPxEREREREeE/mpmZmZmZ4T8q8lk3mCLfPwzlNZTXUN4/MQzDMAzD4D8HH3zwwQffPwAAAAAAAOA/0iAN0iAN4j+QBmmQBmngP8IU+awbTOE/Bx988MEH3z8c1EEd1EHdPwAAAAAAAOA/OB+D8zE43z8ZpEEapEHaP83MzMzMzNw/ned5nud53j8Y9AV9QV/gP5aWlpaWltY/AAAAAAAA1D8QERERERHRP2STTTbZZNM/lXsaYbmn0T/S0tLS0tLSPw==",
          "dtype": "f8"
         }
        },
        {
         "legendgroup": "('llama3.1_8b_chat', 'football_leagues_1k', 'base', 'main', 'prompt_only')",
         "line": {
          "color": "#8c564b",
          "width": 2
         },
         "marker": {
          "size": 8
         },
         "mode": "lines+markers",
         "name": "('llama3.1_8b_chat', 'football_leagues_1k', 'base', 'main', 'prompt_only')",
         "type": "scatter",
         "x": {
          "bdata": "AAECAwQFBgcICQoLDA0ODxAREhMUFRYXGBkaGxwdHh8=",
          "dtype": "i1"
         },
         "y": {
          "bdata": "rWbvoE+L4j/upGWHzpLkP2fpVzL5a+M/VuO+HENI4j/bC/84Yf3iP6RTP/xgL+Q/UBjCUXXH4z+Ger+FalrkPy/Z8GQ4XuM/tcX+Qwkz4z8ChRMTaT3kP/qznD/L+eM/tVlTYrbG5D+epDFT4oLmP4JZRd8KwuY/oJplhnLa5j8RjNd4QlnmPwIY8VKuTuY/LIn5LXDU5j8m0QL2RrHmP06EWPEafuY/0hdwM24Q5j+ua+yVn/jlPyYs1+b21eU/4iddXMFg5T9fHAWOxm/lPytuYBj4ZOU/o+FCwuiX5T9uMlJ0uMPlPxosy8YML+U/Ha4cugFh5D9og+N7RI3lPw==",
          "dtype": "f8"
         }
        },
        {
         "legendgroup": "('llama3.1_8b_chat', 'football_leagues_1k', 'base', 'main', 'prompt_only')",
         "line": {
          "width": 0
         },
         "mode": "lines",
         "name": "('llama3.1_8b_chat', 'football_leagues_1k', 'base', 'main', 'prompt_only') Max",
         "showlegend": false,
         "type": "scatter",
         "x": {
          "bdata": "AAECAwQFBgcICQoLDA0ODxAREhMUFRYXGBkaGxwdHh8=",
          "dtype": "i1"
         },
         "y": {
          "bdata": "0tT5tYdc5j9eLW7C/K7mP3ZiJ3ZiJ+Y/88MiZeDp5j9eLW7C/K7mP6rzaw+5rOg/hmEYhmEY5j9wgQtc4ALnP8VO7MRO7OQ/lmVZlmVZ5j+WZVmWZVnmP5ZlWZZlWeY/13Vd13Vd5z8++OCDDz7oP0N5DeU1lOc/doMp8lk36D/XdV3XdV3nP2RqYO+YGug/nDC/q8VN6D+cML+rxU3oP9mJndiJneg/aleidiVq5z9vNHV+7SHnPzXCck8jLOc/l2/5lm/55j+NifRA5ezmP4iHh4eHh+c/NcJyTyMs5z8RrKPN+xTnP9d1Xdd1Xec/Xi1uwvyu5j81wnJPIyznPw==",
          "dtype": "f8"
         }
        },
        {
         "fill": "tonexty",
         "fillcolor": "rgba(140, 86, 75, 0.1)",
         "legendgroup": "('llama3.1_8b_chat', 'football_leagues_1k', 'base', 'main', 'prompt_only')",
         "line": {
          "width": 0
         },
         "mode": "lines",
         "name": "('llama3.1_8b_chat', 'football_leagues_1k', 'base', 'main', 'prompt_only') Min",
         "showlegend": false,
         "type": "scatter",
         "x": {
          "bdata": "AAECAwQFBgcICQoLDA0ODxAREhMUFRYXGBkaGxwdHh8=",
          "dtype": "i1"
         },
         "y": {
          "bdata": "QUyuICZX4D+rqqqqqqriPxEREREREeE/lpaWlpaW1j8cx3Ecx3HcP4fG+tBYH9o/pHA9Ctej4D9+eWxF0HDiP+xRuB6F6+E/VVVVVVVV3T+rqqqqqqriP9InfdInfeI/0id90id94j/Z55CaYLzlPxZf8RVf8eU/0HBS9+Wx5T9VVVVVVVXlP1VVVVVVVeU/llqplVqp5T8XfjUm0gPlPwAAAAAAAOU/8pQgTwny5D8UFBQUFBTkPwnLPY2w3OM/nhLkKUGe4j+SJEmSJEniP2WTTTbZZOM/wXgr+xxS4z/UQR3UQR3kP355bEXQcOI/SZIkSZIk4T9ddNFFF13kPw==",
          "dtype": "f8"
         }
        },
        {
         "legendgroup": "('llama3.1_8b_chat', 'football_leagues_1k', 'base', 'main', 'prompt_only')",
         "line": {
          "width": 0
         },
         "mode": "lines",
         "name": "('llama3.1_8b_chat', 'football_leagues_1k', 'base', 'main', 'prompt_only') +1 STD",
         "showlegend": false,
         "type": "scatter",
         "x": {
          "bdata": "AAECAwQFBgcICQoLDA0ODxAREhMUFRYXGBkaGxwdHh8=",
          "dtype": "i1"
         },
         "y": {
          "bdata": "CQPfsXrf5D/p24IB5j7mP5Ql51N+POU/mchpuTZj5z/9AerQDlfmP/ZCX650teg/4jPDEyfl5T9XHh5uj8HmP8CnOYJQleQ/W1NEHQIL5j+AQtR7aK3lPwOuB1RlnuU/Cpf7qJoD5z8DDZUe24HnPwKJ1mX1bOc/0qnGoBzQ5z/XxQkhAj/nP7JtVABqb+c/vg3iH6Xf5z/npIj/U/HnP0a87lki1Oc/ZMJRL/IR5z+BHuDPzhrnP5YLoVTJFuc/PIIocvEw5z/CduusFWnnP3i1TfhhHuc/zoCp1VuZ5z/xCX5//vXmP/AZsfKvmec/6h0KKYrL5j8DFJfkPMHmPw==",
          "dtype": "f8"
         }
        },
        {
         "fill": "tonexty",
         "fillcolor": "rgba(140, 86, 75, 0.3)",
         "legendgroup": "('llama3.1_8b_chat', 'football_leagues_1k', 'base', 'main', 'prompt_only')",
         "line": {
          "width": 0
         },
         "mode": "lines",
         "name": "('llama3.1_8b_chat', 'football_leagues_1k', 'base', 'main', 'prompt_only') -1 STD",
         "showlegend": false,
         "type": "scatter",
         "x": {
          "bdata": "AAECAwQFBgcICQoLDA0ODxAREhMUFRYXGBkaGxwdHh8=",
          "dtype": "i1"
         },
         "y": {
          "bdata": "Ucr/jyQ34D/zbUgNt+biPzqtyBB0m+E/JvwnAJ9a2j9zKyhCZ0ffP6TIPpSaUt8/vvzAj8Op4T+11mCdRfPhP54KqEcgJ+I/Dzi5ahBb4D+Ex1Kqac3iP/G5MSsxVeI/YByrG9KJ4j85PM6H6YPlPwIqtFggF+Y/bosEbMjk5T9LUqXQgnPlP1LCjaXyLeU/mgQRPDvJ5T9l/XzsOXHlP1ZMwogTKOU/QG2ON+oO5T/buPhbcNbkP7ZMDXkkleQ/iM2RRpGQ4z/8wR5vd3bjP94mcziOq+M/eELcrnWW4z/rWiZpcpHkP0Q+5ZppxOI/UD4vS3n24T/N8i8TTFnkPw==",
          "dtype": "f8"
         }
        },
        {
         "legendgroup": "('llama3.1_8b_chat', 'football_leagues_1k', 'base', 'main', 'prompt_only')",
         "marker": {
          "color": "#8c564b",
          "opacity": 0.5,
          "size": 6
         },
         "mode": "markers",
         "name": "('llama3.1_8b_chat', 'football_leagues_1k', 'base', 'main', 'prompt_only') Fold ('direction_f1_score', 0)",
         "showlegend": false,
         "type": "scatter",
         "x": {
          "bdata": "AAECAwQFBgcICQoLDA0ODxAREhMUFRYXGBkaGxwdHh8=",
          "dtype": "i1"
         },
         "y": {
          "bdata": "QUyuICZX4D+rqqqqqqriP0yuICZXEOM/Fl100UUX3T8UFBQUFBTkP6uqqqqqquI/1pQ1ZU1Z4z/poosuuujiP0yuICZXEOM/6aKLLrro4j/0PM/zPM/jP9InfdInfeI/0id90id94j8c1r5h7RvmP0YXXXTRRec/QcNJ3ZfH5j8c1r5h7RvmP1VVVVVVVeU/HNa+Ye0b5j98GmG5pxHmP3waYbmnEeY/VVVVVVVV5T8c1r5h7RvmPzXCck8jLOc/0HBS9+Wx5T9Bw0ndl8fmP23ep7hkCOY/EayjzfsU5z8RrKPN+xTnP9d1Xdd1Xec/8pQgTwny5D9NMN7KPofkPw==",
          "dtype": "f8"
         }
        },
        {
         "legendgroup": "('llama3.1_8b_chat', 'football_leagues_1k', 'base', 'main', 'prompt_only')",
         "marker": {
          "color": "#8c564b",
          "opacity": 0.5,
          "size": 6
         },
         "mode": "markers",
         "name": "('llama3.1_8b_chat', 'football_leagues_1k', 'base', 'main', 'prompt_only') Fold ('direction_f1_score', 1)",
         "showlegend": false,
         "type": "scatter",
         "x": {
          "bdata": "AAECAwQFBgcICQoLDA0ODxAREhMUFRYXGBkaGxwdHh8=",
          "dtype": "i1"
         },
         "y": {
          "bdata": "ERERERER4T9dVgyU8EbjPxEREREREeE/lpaWlpaW1j8cx3Ecx3HcP4fG+tBYH9o/pHA9Ctej4D9+eWxF0HDiP+xRuB6F6+E/VVVVVVVV3T/btm3btm3jP9u2bdu2beM/1Uqt1Eqt5D9mZmZmZmbmPxZf8RVf8eU/0HBS9+Wx5T9VVVVVVVXlP9BwUvflseU/llqplVqp5T8XfjUm0gPlPwAAAAAAAOU/r169evXq5T8wlvxiyS/mP5ZaqZVaqeU/1Uqt1Eqt5D+1tLS0tLTkP2WTTTbZZOM/OL3pTW964z/UQR3UQR3kP355bEXQcOI/SZIkSZIk4T9VVVVVVVXlPw==",
          "dtype": "f8"
         }
        },
        {
         "legendgroup": "('llama3.1_8b_chat', 'football_leagues_1k', 'base', 'main', 'prompt_only')",
         "marker": {
          "color": "#8c564b",
          "opacity": 0.5,
          "size": 6
         },
         "mode": "markers",
         "name": "('llama3.1_8b_chat', 'football_leagues_1k', 'base', 'main', 'prompt_only') Fold ('direction_f1_score', 2)",
         "showlegend": false,
         "type": "scatter",
         "x": {
          "bdata": "AAECAwQFBgcICQoLDA0ODxAREhMUFRYXGBkaGxwdHh8=",
          "dtype": "i1"
         },
         "y": {
          "bdata": "q6qqqqqq4j97FK5H4XrkP5o0adKkSeM/exSuR+F65D8RERERERHhP3ZiJ3ZiJ+Y/OL3pTW964z9iJ3ZiJ3biP6uqqqqqquI/5hS8nIKX4z+rqqqqqqriP6uqqqqqquI/q6qqqqqq4j/Z55CaYLzlP5ZlWZZlWeY/RhdddNFF5z/Z55CaYLzlP9BwUvflseU/ttZaa6215j+21lprrbXmP3waYbmnEeY/8pQgTwny5D8UFBQUFBTkPwnLPY2w3OM/nhLkKUGe4j+SJEmSJEniPwnLPY2w3OM/wXgr+xxS4z/JEKyjzfvkP6uqqqqqquI/q6qqqqqq4j9ddNFFF13kPw==",
          "dtype": "f8"
         }
        },
        {
         "legendgroup": "('llama3.1_8b_chat', 'football_leagues_1k', 'base', 'main', 'prompt_only')",
         "marker": {
          "color": "#8c564b",
          "opacity": 0.5,
          "size": 6
         },
         "mode": "markers",
         "name": "('llama3.1_8b_chat', 'football_leagues_1k', 'base', 'main', 'prompt_only') Fold ('direction_f1_score', 3)",
         "showlegend": false,
         "type": "scatter",
         "x": {
          "bdata": "AAECAwQFBgcICQoLDA0ODxAREhMUFRYXGBkaGxwdHh8=",
          "dtype": "i1"
         },
         "y": {
          "bdata": "0tT5tYdc5j9eLW7C/K7mP3ZiJ3ZiJ+Y/88MiZeDp5j9eLW7C/K7mP6rzaw+5rOg/VVVVVVVV5T9ln0NqgvHmP8VO7MRO7OQ/exSuR+F65D/ylCBPCfLkP/KUIE8J8uQ/13Vd13Vd5z98GmG5pxHmP1dqpVZqpeY/TjbZZJNN5j/XdV3XdV3nP7bWWmutteY/13Vd13Vd5z/XdV3XdV3nP7bWWmutteY/ttZaa6215j+WZVmWZVnmP5eWlpaWluY/jYn0QOXs5j+NifRA5ezmP4iHh4eHh+c/NcJyTyMs5z9MZzGdxXTmP7bWWmutteY/TGcxncV05j81wnJPIyznPw==",
          "dtype": "f8"
         }
        },
        {
         "legendgroup": "('llama3.1_8b_chat', 'football_leagues_1k', 'base', 'main', 'prompt_only')",
         "marker": {
          "color": "#8c564b",
          "opacity": 0.5,
          "size": 6
         },
         "mode": "markers",
         "name": "('llama3.1_8b_chat', 'football_leagues_1k', 'base', 'main', 'prompt_only') Fold ('direction_f1_score', 4)",
         "showlegend": false,
         "type": "scatter",
         "x": {
          "bdata": "AAECAwQFBgcICQoLDA0ODxAREhMUFRYXGBkaGxwdHh8=",
          "dtype": "i1"
         },
         "y": {
          "bdata": "kiRJkiRJ4j/D9Shcj8LlP5c49XtuieM/ah7krp8t5j85BS+n4OXkPyM+gVRyXuY/hmEYhmEY5j9wgQtc4ALnP0REREREROQ/lmVZlmVZ5j+WZVmWZVnmP5ZlWZZlWeY/Xi1uwvyu5j8++OCDDz7oP0N5DeU1lOc/doMp8lk36D8zMzMzMzPnP2RqYO+YGug/nDC/q8VN6D+cML+rxU3oP9mJndiJneg/aleidiVq5z9vNHV+7SHnP1FeQ3kN5eU/l2/5lm/55j/JZ91ginzmP3ZiJ3ZiJ+Y/88MiZeDp5j8wlvxiyS/mP8prKK+hvOY/Xi1uwvyu5j/S1Pm1h1zmPw==",
          "dtype": "f8"
         }
        },
        {
         "legendgroup": "('llama3.1_8b_chat', 'gsm8k', 'base_3_shot', 'main', 'prompt_answer')",
         "line": {
          "color": "#1f77b4",
          "width": 2
         },
         "marker": {
          "size": 8
         },
         "mode": "lines+markers",
         "name": "('llama3.1_8b_chat', 'gsm8k', 'base_3_shot', 'main', 'prompt_answer')",
         "type": "scatter",
         "x": {
          "bdata": "AAECAwQFBgcICQoLDA0ODxAREhMUFRYXGBkaGxwdHh8=",
          "dtype": "i1"
         },
         "y": {
          "bdata": "f+3sL3sZ4T+Loj5fEVjhP7B46bX6GOA/fk0djWte3z8VN9L4RDrgPzs8iXo48t8/M/wnXKk04T8N69JkLeLgP2Cl4pg7bOA/Zs2V2fEr3z8261FelFTfPzuC+hqaLd4/AEIHOEVs3z8TxbMSu9jfP/GgEtbSpOA/U5QJhZGT4D+3vLwdT6rgP/3YCJ0HReA/LTb7DAAX4D/ZBr9g1R/gP6WTBcnozd8/jtFEKh324D+KgCHrhWbgP6hW91iUieA/k3N+jVM64D8oNxGwaSbgP0PIV2bQIuA/UqTQBbQ94D9ucbwyCNXfP9Yz6frR8N8/U8cNTPIY4D/i7Q8Zoe/fPw==",
          "dtype": "f8"
         }
        },
        {
         "legendgroup": "('llama3.1_8b_chat', 'gsm8k', 'base_3_shot', 'main', 'prompt_answer')",
         "line": {
          "width": 0
         },
         "mode": "lines",
         "name": "('llama3.1_8b_chat', 'gsm8k', 'base_3_shot', 'main', 'prompt_answer') Max",
         "showlegend": false,
         "type": "scatter",
         "x": {
          "bdata": "AAECAwQFBgcICQoLDA0ODxAREhMUFRYXGBkaGxwdHh8=",
          "dtype": "i1"
         },
         "y": {
          "bdata": "q6qqqqqq4j9K8+JPJJziP+6VRCoLcuE/tOljux/e4j8Y7TfluQTiPyyyPAwVn+E/91WRSlkM4j/sSyfHSkTjPzflfWMs/OE/UV5DeQ3l4T+qRT1nla7gP2RwPgbnY+A/w2IklDbe4T8rfLkhBqTjP2cxncV0FuM/T+zETuzE4j8slzA07IvhP+UuT31R7uI/BTQRNjy94j/BeCv7HFLjPw3lNZTXUOI/fjUm0gOV4z9G432FPiriPzyBNblZheI/vNgSfJu/4j8DPjlcBnziP9InfdInfeI/HSRtiCp14j8DT7fmh0XiP738aQsNWOI/kQ3ZkA3Z4D+5I+6IO+LiPw==",
          "dtype": "f8"
         }
        },
        {
         "fill": "tonexty",
         "fillcolor": "rgba(31, 119, 180, 0.1)",
         "legendgroup": "('llama3.1_8b_chat', 'gsm8k', 'base_3_shot', 'main', 'prompt_answer')",
         "line": {
          "width": 0
         },
         "mode": "lines",
         "name": "('llama3.1_8b_chat', 'gsm8k', 'base_3_shot', 'main', 'prompt_answer') Min",
         "showlegend": false,
         "type": "scatter",
         "x": {
          "bdata": "AAECAwQFBgcICQoLDA0ODxAREhMUFRYXGBkaGxwdHh8=",
          "dtype": "i1"
         },
         "y": {
          "bdata": "XXTRRRdd3D9I7bedBXzdP/McL8/x8tw/3abZwtxt2j8NuB2VJqLbP6eSvTnzFNs/PyqSHbOU4D+xcnWArFzdP/TQMbw4D90/w2wBx+fI2z/Uld4ZcJDcPwQNJ3VfHts/9gFmuHS12z8AAAAAAADaP3fu3Llz594/kMD04Gx+3z+M99EhuHjfP7V+qgVFGt0/HR4eHh4e3j+SYYO4efLdP/X7lwk3Sd0/5tqBuXZg3j/4/SPBW2PcP/GGvCFvyNs/HMdxHMdx3D/PusEU+azbPy+n4OUUvNw/EDoX1ogD2z+ufcyj4sjaPxzHcRzHcdw/c8ox1jin3D/7Jnl/HYzZPw==",
          "dtype": "f8"
         }
        },
        {
         "legendgroup": "('llama3.1_8b_chat', 'gsm8k', 'base_3_shot', 'main', 'prompt_answer')",
         "line": {
          "width": 0
         },
         "mode": "lines",
         "name": "('llama3.1_8b_chat', 'gsm8k', 'base_3_shot', 'main', 'prompt_answer') +1 STD",
         "showlegend": false,
         "type": "scatter",
         "x": {
          "bdata": "AAECAwQFBgcICQoLDA0ODxAREhMUFRYXGBkaGxwdHh8=",
          "dtype": "i1"
         },
         "y": {
          "bdata": "gwTuNefy4j951gb76d/iPxTJnjHBdOE/E3ms3cU14j89lfhxddvhP2O0jYnQruE/Acwdtg3o4T+8Gi2pdYXiP/L7DuKG3OE/KPQs5l0Z4T+HU0KlbsvgP8ojsJGIHOA/fJpG2bsr4T/bp+DAG1biP8289aIUG+I/+1iVOYbS4T/8Fj5lmX7hPxTOzOJ48+E/T0uC6Hyc4T+bXSTdmu3hP+LGgC3WTuE/aQ2obHaX4j/Q9HK4SuHhP0mRPC6eOeI/RSEZOoX44T94rt9krOThPyCk0Ue0z+E/HndX7ukD4j9IBRLinLbhP0L02gj1eeE/LrPZ5csx4T/bPFeMwVziPw==",
          "dtype": "f8"
         }
        },
        {
         "fill": "tonexty",
         "fillcolor": "rgba(31, 119, 180, 0.3)",
         "legendgroup": "('llama3.1_8b_chat', 'gsm8k', 'base_3_shot', 'main', 'prompt_answer')",
         "line": {
          "width": 0
         },
         "mode": "lines",
         "name": "('llama3.1_8b_chat', 'gsm8k', 'base_3_shot', 'main', 'prompt_answer') -1 STD",
         "showlegend": false,
         "type": "scatter",
         "x": {
          "bdata": "AAECAwQFBgcICQoLDA0ODxAREhMUFRYXGBkaGxwdHh8=",
          "dtype": "i1"
         },
         "y": {
          "bdata": "96zXUx6A3j853eyGcaDfP5hQaHRoet0/16jhXktR2j/ZsVf/KDLdP7AP9+HPhtw/ZSwyAkWB4D+7dvFAyn3eP5udbJ/g990/fbLR5icl3D9dLx9ySxLdP+G8lBIjItw/CE+BvRKB3D9wOqajPgXbPykKXxIiXd4/Vp/7oDmp3j/kxHasCazfP8zHia4sLd0/F0LoYgYj3T8vYLPIH6TcP4aZCTcl/tw/ZivDz4ep3j+IGKA7gtfdPw44ZAcVs90/w4vHwUP43D+wf4X2TdDcP83YuwnZ69w/DKOTOvzu3D9M2FSh1jzcPyl/HOS57dw/8LaDZDEA3j8OYnEZvyXbPw==",
          "dtype": "f8"
         }
        },
        {
         "legendgroup": "('llama3.1_8b_chat', 'gsm8k', 'base_3_shot', 'main', 'prompt_answer')",
         "marker": {
          "color": "#1f77b4",
          "opacity": 0.5,
          "size": 6
         },
         "mode": "markers",
         "name": "('llama3.1_8b_chat', 'gsm8k', 'base_3_shot', 'main', 'prompt_answer') Fold ('direction_f1_score', 0)",
         "showlegend": false,
         "type": "scatter",
         "x": {
          "bdata": "AAECAwQFBgcICQoLDA0ODxAREhMUFRYXGBkaGxwdHh8=",
          "dtype": "i1"
         },
         "y": {
          "bdata": "dIGIH5Rj4D/blahdidrhP+6VRCoLcuE/3abZwtxt2j9YkXgViVfhP6eSvTnzFNs/ewntJbSX4D/sSyfHSkTjP1jQLg+kZeE/UV5DeQ3l4T94Z/RS/ZzgP2RwPgbnY+A/w2IklDbe4T8rfLkhBqTjP2cxncV0FuM/T+zETuzE4j8slzA07IvhP+UuT31R7uI/BTQRNjy94j/BeCv7HFLjPw3lNZTXUOI/fjUm0gOV4z9G432FPiriPzyBNblZheI/vNgSfJu/4j8DPjlcBnziP9InfdInfeI/HSRtiCp14j8DT7fmh0XiP738aQsNWOI/kQ3ZkA3Z4D+5I+6IO+LiPw==",
          "dtype": "f8"
         }
        },
        {
         "legendgroup": "('llama3.1_8b_chat', 'gsm8k', 'base_3_shot', 'main', 'prompt_answer')",
         "marker": {
          "color": "#1f77b4",
          "opacity": 0.5,
          "size": 6
         },
         "mode": "markers",
         "name": "('llama3.1_8b_chat', 'gsm8k', 'base_3_shot', 'main', 'prompt_answer') Fold ('direction_f1_score', 1)",
         "showlegend": false,
         "type": "scatter",
         "x": {
          "bdata": "AAECAwQFBgcICQoLDA0ODxAREhMUFRYXGBkaGxwdHh8=",
          "dtype": "i1"
         },
         "y": {
          "bdata": "q6qqqqqq4j8ZQDK3h0/hPxOvNYbPBuE/vuIrvuIr3j+z+X0o1kTfP+YAyzZfDuA/gQGc+Sjb4T/F/rJ78rDgPzflfWMs/OE/w2wBx+fI2z+qRT1nla7gP47jOI7jON4/kh5NB/CS3j/oGZNHOz/gPw54/OGAx98/kMD04Gx+3z/Va+su8X3hP8wHsguLkeA/HR4eHh4e3j8aPRwLqI3eP4SwfZivut4/8XPGJwoI4T/mAMs2Xw7gP5G1/pC1/uA/hnsVzJJy4D+vNcd/4IbgP8laGen7LOE/hixkIQtZ4D+IrPaDwY3gP095iLnQKuA/vzeGq7DU4D84TKJiLAfgPw==",
          "dtype": "f8"
         }
        },
        {
         "legendgroup": "('llama3.1_8b_chat', 'gsm8k', 'base_3_shot', 'main', 'prompt_answer')",
         "marker": {
          "color": "#1f77b4",
          "opacity": 0.5,
          "size": 6
         },
         "mode": "markers",
         "name": "('llama3.1_8b_chat', 'gsm8k', 'base_3_shot', 'main', 'prompt_answer') Fold ('direction_f1_score', 2)",
         "showlegend": false,
         "type": "scatter",
         "x": {
          "bdata": "AAECAwQFBgcICQoLDA0ODxAREhMUFRYXGBkaGxwdHh8=",
          "dtype": "i1"
         },
         "y": {
          "bdata": "P/EGSAtV4j9K8+JPJJziP/McL8/x8tw/tOljux/e4j8VvJyCl1PgPyyyPAwVn+E/91WRSlkM4j/IEk+QeizhP3kN5TWU1+A/GRWb8NqA3j8v6kzjBkbdP+7XJZUP494/SODthwTe3j+e4Rme4RneP25BShVT4OA/EE3WIuZc4D/S5n2KS4bgPxrQpgFtGuA/4hnPeMYz3j/rybUUDMfeP5wtsIvLW98/1X15bEXQ4D8RyDURyDXhPwh2/1IS+uA/fzjg8YcD3j9I5iGZh2TePzgfg/MxON8/h5O6L4+t4D+784FlnizgP5/zOZ/zOd8/UVvXSD7C4D8c1EEd1EHdPw==",
          "dtype": "f8"
         }
        },
        {
         "legendgroup": "('llama3.1_8b_chat', 'gsm8k', 'base_3_shot', 'main', 'prompt_answer')",
         "marker": {
          "color": "#1f77b4",
          "opacity": 0.5,
          "size": 6
         },
         "mode": "markers",
         "name": "('llama3.1_8b_chat', 'gsm8k', 'base_3_shot', 'main', 'prompt_answer') Fold ('direction_f1_score', 3)",
         "showlegend": false,
         "type": "scatter",
         "x": {
          "bdata": "AAECAwQFBgcICQoLDA0ODxAREhMUFRYXGBkaGxwdHh8=",
          "dtype": "i1"
         },
         "y": {
          "bdata": "XXTRRRdd3D9I7bedBXzdP56dnZ2dnd0/+oONR/MH2z8NuB2VJqLbP23kRm7kRt4/y2EbRWXz4D9xgLrk1JrgP7gehetRuN4/DEb4/iGe3T/Uld4ZcJDcPwQNJ3VfHts/1EEd1EEd4D+Vy8/sQlvfPzz9EQu4098/QI8ReckO4D+M99EhuHjfP7V+qgVFGt0/Dr5vtGqZ3z+SYYO4efLdP/X7lwk3Sd0/5tqBuXZg3j/4/SPBW2PcP/GGvCFvyNs/HMdxHMdx3D/PusEU+azbPy+n4OUUvNw/EDoX1ogD2z+ufcyj4sjaPxzHcRzHcdw/c8ox1jin3D/7Jnl/HYzZPw==",
          "dtype": "f8"
         }
        },
        {
         "legendgroup": "('llama3.1_8b_chat', 'gsm8k', 'base_3_shot', 'main', 'prompt_answer')",
         "marker": {
          "color": "#1f77b4",
          "opacity": 0.5,
          "size": 6
         },
         "mode": "markers",
         "name": "('llama3.1_8b_chat', 'gsm8k', 'base_3_shot', 'main', 'prompt_answer') Fold ('direction_f1_score', 4)",
         "showlegend": false,
         "type": "scatter",
         "x": {
          "bdata": "AAECAwQFBgcICQoLDA0ODxAREhMUFRYXGBkaGxwdHh8=",
          "dtype": "i1"
         },
         "y": {
          "bdata": "68t9OpLt4T/XbJ+oHjTiPyi5ribDu+A/PNEbwRO94T8Y7TfluQTiP/cnTRstguE/PyqSHbOU4D+xcnWArFzdP/TQMbw4D90/Pb9oy9wU4D/iXgWzpBzgP+Hh4eHh4d0/9gFmuHS12z8AAAAAAADaP3fu3Llz594/cXkRfArk3z/9ySyWBgfgP5XtXQd0Y94/qr9QyjiA3z9e6sn47VLfPwg+6pYqBN8/EAMxEAMx4D9915bpiWDgP/7Awo6MTeA/zu0m9Mu24D+Oz2M9abTgP/4G3a6VE94/Z7R72Po24D/m2oG5dmDeP19c/aCjAt8/kL3qF0Vy3z845bkEsobhPw==",
          "dtype": "f8"
         }
        },
        {
         "legendgroup": "('llama3.1_8b_chat', 'gsm8k', 'base_3_shot', 'main', 'prompt_only')",
         "line": {
          "color": "#ff7f0e",
          "width": 2
         },
         "marker": {
          "size": 8
         },
         "mode": "lines+markers",
         "name": "('llama3.1_8b_chat', 'gsm8k', 'base_3_shot', 'main', 'prompt_only')",
         "type": "scatter",
         "x": {
          "bdata": "AAECAwQFBgcICQoLDA0ODxAREhMUFRYXGBkaGxwdHh8=",
          "dtype": "i1"
         },
         "y": {
          "bdata": "iCzubaxZ3j9CEhPT4FbgP21CQzsbPd8/5oubyiDT3z802Ez79vvgP19hNeXKyOA/NXUxIyHW3z96Pos2VePgP9PJO3q7POE/A1D6MQdH4D9ihJYU8r3fPyPbZC8NjOA/ul7aB8dU4T/pvG5TaCLhP7bHXe0AqOE/FiQiDLm84T+eOMTNTdfhP47T3hbha+E/Oyb5+ao14T+yAloAF6rgP30Mfad3W+E/vjk34v+34T86rNGyuZLhP+LScnxZi+E/GYrv2Ryv4T+46ea8XKThPwpOkwmTkuE/fobRuyAo4T+o8MJC9zDhPxYbIM0F6eA/u8iEBMfE4D821Xcw0l7fPw==",
          "dtype": "f8"
         }
        },
        {
         "legendgroup": "('llama3.1_8b_chat', 'gsm8k', 'base_3_shot', 'main', 'prompt_only')",
         "line": {
          "width": 0
         },
         "mode": "lines",
         "name": "('llama3.1_8b_chat', 'gsm8k', 'base_3_shot', 'main', 'prompt_only') Max",
         "showlegend": false,
         "type": "scatter",
         "x": {
          "bdata": "AAECAwQFBgcICQoLDA0ODxAREhMUFRYXGBkaGxwdHh8=",
          "dtype": "i1"
         },
         "y": {
          "bdata": "ZYA5y+af4T++5Vu+5VviPxzHcRzHceA/QRhpxwqE4T9hTLWo56ziP91sgK2EdOM/Ik5uUDU84T/ZvHDfD1XjP3bB4khO4uE/OZGME8k44T8hzLvV9wzhPywPSNa58uA/k74rbUHU4j/8ir6V9u7hPyvpK4QVOeI/YMGjoWrU4j+qCFRi02jiP5gin3WDKeI/gqMnOHqC4z/nQKIVNgfiP8prKK+hvOI/m3YUIzyw4j9MDewdUwPjP2DBo6Fq1OI/AQc/N/F64j+3QnErFLfiP2tStiZla+I/aTbd+PfW4T/V1RqpqzXiP2YcDKew5eI/TrCMPIiy4T/vTEaLVz7hPw==",
          "dtype": "f8"
         }
        },
        {
         "fill": "tonexty",
         "fillcolor": "rgba(255, 127, 14, 0.1)",
         "legendgroup": "('llama3.1_8b_chat', 'gsm8k', 'base_3_shot', 'main', 'prompt_only')",
         "line": {
          "width": 0
         },
         "mode": "lines",
         "name": "('llama3.1_8b_chat', 'gsm8k', 'base_3_shot', 'main', 'prompt_only') Min",
         "showlegend": false,
         "type": "scatter",
         "x": {
          "bdata": "AAECAwQFBgcICQoLDA0ODxAREhMUFRYXGBkaGxwdHh8=",
          "dtype": "i1"
         },
         "y": {
          "bdata": "eqiHeqiH2j8TPbiasEPdP4TFRaho/Nw/1QODC4ki2z8YF4nhzbXeP1PQwaMuBd0/P9WvKY7K2z95Ipws6GbdP0oD2fKbNOA/oC/oC/qC3j996sV86sXcP8w74EjREN8/xWQWzElJ4D+bkUNdlmrgP4qezu215OA/fQX1FdRX4D8qZ7fwqzHhP/MrAzW/MuA/lcep4Vh53D+TavK4s4TdP4piCUrW79w/Bv5V417g3z8AAAAAAADgP0+grWDkB+A/D/zAD/zA3z8d9q1w2mHfPyryWTeYIt8/tdugrBBj3z9eX19fX1/fP/LkyZMnT94/2kgYCFgd3z+rqqqqqqraPw==",
          "dtype": "f8"
         }
        },
        {
         "legendgroup": "('llama3.1_8b_chat', 'gsm8k', 'base_3_shot', 'main', 'prompt_only')",
         "line": {
          "width": 0
         },
         "mode": "lines",
         "name": "('llama3.1_8b_chat', 'gsm8k', 'base_3_shot', 'main', 'prompt_only') +1 STD",
         "showlegend": false,
         "type": "scatter",
         "x": {
          "bdata": "AAECAwQFBgcICQoLDA0ODxAREhMUFRYXGBkaGxwdHh8=",
          "dtype": "i1"
         },
         "y": {
          "bdata": "GfCCF2XS4D/UQE38+83hP5Il4u1CfuA/146OY/Z+4T/jIl+oKVriP8ScR7Drr+I/b6PuPOZF4T9SRfofb6LiPyREcovM/+E/aktTqhEa4T+ASMiWmvvgP/5h9GauIeE/v2WE2eVp4j/5Reh7ta3hP1b4qL0tN+I/WsbcSeSj4j8zYAJAF2DiPymNXNjLOeI/6D2KQQlB4z9YCRnuQN3hPyeKg8S6F+M/K6JYvYPH4j/qkr/6KsHiP0QrT0VjmuI/iM6hKHHB4j9BFP/zG8/iP7Lr8TScuuI/E8qd6psB4j9jpNnKXy3iP9r29dXtX+I/iKXPx3iV4T9BIgS/VlXhPw==",
          "dtype": "f8"
         }
        },
        {
         "fill": "tonexty",
         "fillcolor": "rgba(255, 127, 14, 0.3)",
         "legendgroup": "('llama3.1_8b_chat', 'gsm8k', 'base_3_shot', 'main', 'prompt_only')",
         "line": {
          "width": 0
         },
         "mode": "lines",
         "name": "('llama3.1_8b_chat', 'gsm8k', 'base_3_shot', 'main', 'prompt_only') -1 STD",
         "showlegend": false,
         "type": "scatter",
         "x": {
          "bdata": "AAECAwQFBgcICQoLDA0ODxAREhMUFRYXGBkaGxwdHh8=",
          "dtype": "i1"
         },
         "y": {
          "bdata": "3njWrI4O2z9gx7FTi7/dP7Y5wpqwfd0/HvoZzlSo3D8KG3WciDvfP/RLRjRUw90/jKOFzHUg3T9EbziadkjeP4JPBWmqeeA/OalCc/nn3j/Fd5z7roTdP5Coqu/X7N8/tVcwNqg/4D/ZM/UqG5fgPxaXEh3UGOE/0oFnzo3V4D8JEYZbhE7hP/MZYVX2neA/HB3QZJlU3j8Y+DUl2u3eP6Yd7RRpPt8/UdEVB3yo4D+KxeNqSGTgP4B6lrNPfOA/qkU9i8ic4D8vv86FnXngP2KwNN6JauA/6UIFjaVO4D/tPKy6jjTgP6R+lIg75N4/29dzgiro3z/qZefi9hLcPw==",
          "dtype": "f8"
         }
        },
        {
         "legendgroup": "('llama3.1_8b_chat', 'gsm8k', 'base_3_shot', 'main', 'prompt_only')",
         "marker": {
          "color": "#ff7f0e",
          "opacity": 0.5,
          "size": 6
         },
         "mode": "markers",
         "name": "('llama3.1_8b_chat', 'gsm8k', 'base_3_shot', 'main', 'prompt_only') Fold ('direction_f1_score', 0)",
         "showlegend": false,
         "type": "scatter",
         "x": {
          "bdata": "AAECAwQFBgcICQoLDA0ODxAREhMUFRYXGBkaGxwdHh8=",
          "dtype": "i1"
         },
         "y": {
          "bdata": "eqiHeqiH2j+wEfzHYbHfP4TFRaho/Nw/1QODC4ki2z8YF4nhzbXeP1PQwaMuBd0/P9WvKY7K2z95Ipws6GbdP0oD2fKbNOA/oC/oC/qC3j996sV86sXcP/HU8x1AneA/wGnVDseg4D+bkUNdlmrgP3bB4khO4uE/fQX1FdRX4D+SNkVkntvhP6dGxb+pUeE/lcep4Vh53D+TavK4s4TdP4piCUrW79w/Bv5V417g3z8AAAAAAADgP0+grWDkB+A/D/zAD/zA3z8d9q1w2mHfPyryWTeYIt8/tdugrBBj3z9eX19fX1/fP/LkyZMnT94/2kgYCFgd3z+rqqqqqqraPw==",
          "dtype": "f8"
         }
        },
        {
         "legendgroup": "('llama3.1_8b_chat', 'gsm8k', 'base_3_shot', 'main', 'prompt_only')",
         "marker": {
          "color": "#ff7f0e",
          "opacity": 0.5,
          "size": 6
         },
         "mode": "markers",
         "name": "('llama3.1_8b_chat', 'gsm8k', 'base_3_shot', 'main', 'prompt_only') Fold ('direction_f1_score', 1)",
         "showlegend": false,
         "type": "scatter",
         "x": {
          "bdata": "AAECAwQFBgcICQoLDA0ODxAREhMUFRYXGBkaGxwdHh8=",
          "dtype": "i1"
         },
         "y": {
          "bdata": "ghmEx+0z3z++5Vu+5VviPwHuZ+FjMuA/QRhpxwqE4T9hTLWo56ziP91sgK2EdOM/Ik5uUDU84T/ZvHDfD1XjPw2N9Db4vuE/OZGME8k44T8hzLvV9wzhP/3N4HI4tuA/uM6ycksZ4j/8ir6V9u7hPyvpK4QVOeI/YMGjoWrU4j+qCFRi02jiP5gin3WDKeI/YUy1qOes4j+6gJY5+S3hP3HLIw23POI/m3YUIzyw4j9MDewdUwPjPwgp7muZLOI/c08jLPc04j8ilxUDJbzhP5liy7yHr+E/KszFf31k4T8avEVsBm/hP2YcDKew5eI/TrCMPIiy4T8ChBesAmXdPw==",
          "dtype": "f8"
         }
        },
        {
         "legendgroup": "('llama3.1_8b_chat', 'gsm8k', 'base_3_shot', 'main', 'prompt_only')",
         "marker": {
          "color": "#ff7f0e",
          "opacity": 0.5,
          "size": 6
         },
         "mode": "markers",
         "name": "('llama3.1_8b_chat', 'gsm8k', 'base_3_shot', 'main', 'prompt_only') Fold ('direction_f1_score', 2)",
         "showlegend": false,
         "type": "scatter",
         "x": {
          "bdata": "AAECAwQFBgcICQoLDA0ODxAREhMUFRYXGBkaGxwdHh8=",
          "dtype": "i1"
         },
         "y": {
          "bdata": "qs+0Nf5u3j8TPbiasEPdPyygNno4FuA/OZGME8k44T/SIA3SIA3iPx2RYqi/HOE/XQhiiwwT4T8/Wk1CFH/hP3bB4khO4uE/6wZT5LNu4D8bxM2T78jgPywPSNa58uA/xWQWzElJ4D83T74jwwbhPwaSwHpjBuI//Iq+lfbu4T9bgWPWaVHiPyRSDPWXI+I/gqMnOHqC4z96C+ktpLfgP8prKK+hvOI/juM4juM44j86wDWNLf7hP2DBo6Fq1OI/RXcoie5Q4j/YG5Wih73hP2tStiZla+I/aTbd+PfW4T/V1RqpqzXiPxdddNFFF+E/oDVJ59BA4T/vTEaLVz7hPw==",
          "dtype": "f8"
         }
        },
        {
         "legendgroup": "('llama3.1_8b_chat', 'gsm8k', 'base_3_shot', 'main', 'prompt_only')",
         "marker": {
          "color": "#ff7f0e",
          "opacity": 0.5,
          "size": 6
         },
         "mode": "markers",
         "name": "('llama3.1_8b_chat', 'gsm8k', 'base_3_shot', 'main', 'prompt_only') Fold ('direction_f1_score', 3)",
         "showlegend": false,
         "type": "scatter",
         "x": {
          "bdata": "AAECAwQFBgcICQoLDA0ODxAREhMUFRYXGBkaGxwdHh8=",
          "dtype": "i1"
         },
         "y": {
          "bdata": "ZYA5y+af4T/8okjukznfPxzHcRzHceA/lPBGU+fX3j8RZrsQZrvgP42gbmtzX+E/8tfsqEXI3z8zLfhZdbrfP6RwPQrXo+A/2kCnDXTa4D+kPDXFZlLeP7N3a+Gm7eA/k74rbUHU4j/vTEaLVz7hP4qezu215OA/jVvGLeOW4T8qZ7fwqzHhP/MrAzW/MuA/aNoafzeP4D/nQKIVNgfiP3eKFs6AUOI/PKYG9o6p4T/YGWA9xBHiPy3qOat0heE/AQc/N/F64j+3QnErFLfiP1LEoZP2QeI/GiV+Romf4T9GmjHKf9DgPxF4+yGBt98/nNHuYevb4D9/pUCtXyngPw==",
          "dtype": "f8"
         }
        },
        {
         "legendgroup": "('llama3.1_8b_chat', 'gsm8k', 'base_3_shot', 'main', 'prompt_only')",
         "marker": {
          "color": "#ff7f0e",
          "opacity": 0.5,
          "size": 6
         },
         "mode": "markers",
         "name": "('llama3.1_8b_chat', 'gsm8k', 'base_3_shot', 'main', 'prompt_only') Fold ('direction_f1_score', 4)",
         "showlegend": false,
         "type": "scatter",
         "x": {
          "bdata": "AAECAwQFBgcICQoLDA0ODxAREhMUFRYXGBkaGxwdHh8=",
          "dtype": "i1"
         },
         "y": {
          "bdata": "NkxzF/xV3D+t/IQ4Kz/hPwbc6Y9YwN0/IHRU4Iur3z802j1sfRvgP1XAsM1O8d4/1e+5JU793j94+a8r1wvhP7EuPebvteE/fz7R3Gs/3z9JTuJRmvHfP8w74EjREN8/1X15bEXQ4D/M9yL/YQ3hP1wLN22HQeE/CAeNwYT94T9U8yB3/WzhP2s65hLhSeE/ERERERER4T8YCyeoRaPgP3fLCZaRB+E/UiEVUiEV4j/AdZaVW8rgP4mpxFRiKuE/vGZCTTuK4T/anw+nIVTiP8oTEJ2v7uE/7gqmlRw84T9o14y+8s/hP2xfPS7SjOE/sQ/HjPJ54D9Ci0OVf/3gPw==",
          "dtype": "f8"
         }
        },
        {
         "legendgroup": "('llama3.1_8b_chat', 'gsm8k', 'cot_3_shot', 'main', 'prompt_answer')",
         "line": {
          "color": "#2ca02c",
          "width": 2
         },
         "marker": {
          "size": 8
         },
         "mode": "lines+markers",
         "name": "('llama3.1_8b_chat', 'gsm8k', 'cot_3_shot', 'main', 'prompt_answer')",
         "type": "scatter",
         "x": {
          "bdata": "AAECAwQFBgcICQoLDA0ODxAREhMUFRYXGBkaGxwdHh8=",
          "dtype": "i1"
         },
         "y": {
          "bdata": "dzhC8StN4T+Sl6mR+ejgP77iTC0TBOE/93fe2ib44D+zPOCLYOXgP1Kz7p7tQeA/rV0geQNy3z+2oPMQewbhP9tzKV3ZaOA/ERIBIsS+4D9YA0paWULhP8FgPDC0v+E/Dpd4j4to4D9e8Uku4fbhP4Zqzglx++E/GGJQ54Fh4T8gijGLKvHhP0UwdvYEh+E/9Vl791xs4T/Bybi40hbgPy/4vv7qIuE/Xp7dTg6a4T/ubw0pHQ7hPxre20dnW+E/Ky/6DE784D/ct7BzZJHhP337uMFzkuA/5jCNoRho4T8uj3TsQBjhP/aod2u26uE/qrPG33Z14T8ApTmGmA/iPw==",
          "dtype": "f8"
         }
        },
        {
         "legendgroup": "('llama3.1_8b_chat', 'gsm8k', 'cot_3_shot', 'main', 'prompt_answer')",
         "line": {
          "width": 0
         },
         "mode": "lines",
         "name": "('llama3.1_8b_chat', 'gsm8k', 'cot_3_shot', 'main', 'prompt_answer') Max",
         "showlegend": false,
         "type": "scatter",
         "x": {
          "bdata": "AAECAwQFBgcICQoLDA0ODxAREhMUFRYXGBkaGxwdHh8=",
          "dtype": "i1"
         },
         "y": {
          "bdata": "nJQAd0tu4j8SLWophKnhP+m+yzO2KeI/f2Jpr0y24j8npORZRvThP87j0re/MuE/wjvoeuP54D+LleEbUWDiP02wo4FyFuE/91YHodS84T+jVcv8qKHhP6Srl2wsEuM/XoQX4UV44T80dn/wp+TiP3Ekk8MIR+I/bHRwcvGx4T+h0goqraDiPw27yQu1LuI/Aybj8K4e4z+1RQy6DqzhP62odQBbYuI/9s9hRLwm4z+Uz4PuBI/jP9PS0tLS0uI/au6Cv4oT4j8UO7ETO7HjP1VMM/WjjOE/aC+hvYT24j+WlAMiw73iP/VRaUGQqeM/8JIeTQfw4j+nF/nWG63jPw==",
          "dtype": "f8"
         }
        },
        {
         "fill": "tonexty",
         "fillcolor": "rgba(44, 160, 44, 0.1)",
         "legendgroup": "('llama3.1_8b_chat', 'gsm8k', 'cot_3_shot', 'main', 'prompt_answer')",
         "line": {
          "width": 0
         },
         "mode": "lines",
         "name": "('llama3.1_8b_chat', 'gsm8k', 'cot_3_shot', 'main', 'prompt_answer') Min",
         "showlegend": false,
         "type": "scatter",
         "x": {
          "bdata": "AAECAwQFBgcICQoLDA0ODxAREhMUFRYXGBkaGxwdHh8=",
          "dtype": "i1"
         },
         "y": {
          "bdata": "VoQaLXo74D9PljcL8RPgP8enQzdZ2N8/3GlQLkNk3T+v67qu67reP5AMqGcq190/g7ALwi4I2z+PjI/zCfjfP3+j7H6j7N4/AcYw6eED4D8AAAAAAADhP6EuXsgsRuA/c3eEqyCA3j8/omubMS7hP2xvDkBcieE/1ULFSRsO4T+F74iu8B3hP9k0h++3pOA/kl8s+cWS3z9InysbMWneP+fXHnJZMeA/x9MJjIvE4D/O5PcEP1XeP4IDBw4cOOA//HmVxRnt3j9Qpx0/eB7gP5/cq5/cq98/mhbjMOXU3T/Ub3xPde7fP4MGDRo0aOA/iBCjYhNe2z9ONTF8/K3bPw==",
          "dtype": "f8"
         }
        },
        {
         "legendgroup": "('llama3.1_8b_chat', 'gsm8k', 'cot_3_shot', 'main', 'prompt_answer')",
         "line": {
          "width": 0
         },
         "mode": "lines",
         "name": "('llama3.1_8b_chat', 'gsm8k', 'cot_3_shot', 'main', 'prompt_answer') +1 STD",
         "showlegend": false,
         "type": "scatter",
         "x": {
          "bdata": "AAECAwQFBgcICQoLDA0ODxAREhMUFRYXGBkaGxwdHh8=",
          "dtype": "i1"
         },
         "y": {
          "bdata": "42uu5WZH4j8KxvntT4bhPznglkQkGOI/D6LRr+1s4j/7N+y+dOvhP0f5VwbVG+E/jg8Vb0wf4T+7FQEdu+PhP+36y59+EOE/UrlvDpZs4T8904uGoYDhP4amLI4P5uI/IygaQexy4T+vu8fZRrDiP0rpT7U/QuI/ni0LoySe4T+Tm7xZbYfiP9nUC+s+JuI/7otEgxDZ4j/tcThBohjhPwqXNZM4O+I/iTFVukaG4j/bbtQzesPiP/Ks9w+zZOI/etnGyc4Z4j/VNjc+1S7jPxk7+LS2VuE/bD2TN0wB4z8mFX14kTriP12d8mYVeuM/Oid1CsSb4z/GKndKJnnkPw==",
          "dtype": "f8"
         }
        },
        {
         "fill": "tonexty",
         "fillcolor": "rgba(44, 160, 44, 0.3)",
         "legendgroup": "('llama3.1_8b_chat', 'gsm8k', 'cot_3_shot', 'main', 'prompt_answer')",
         "line": {
          "width": 0
         },
         "mode": "lines",
         "name": "('llama3.1_8b_chat', 'gsm8k', 'cot_3_shot', 'main', 'prompt_answer') -1 STD",
         "showlegend": false,
         "type": "scatter",
         "x": {
          "bdata": "AAECAwQFBgcICQoLDA0ODxAREhMUFRYXGBkaGxwdHh8=",
          "dtype": "i1"
         },
         "y": {
          "bdata": "CwXW/PBS4D8aaVk1o0vgP4bKBSwE4N8/vZvWC8AG3z/VgqixmL7fP7raCm8M0N4/PpwWFG6l3D+xK+YEOyngP5PZDTVogt8/0GqSNfIQ4D9zMwguEQThP/waTNJYmeA/8guuu1W83j8NJ8yCez3hP8LrTF6itOE/kpaVK98k4T+teKa851rhP7GL4AHL5+A/+E9k11L/3z8qQ3JgBireP1RZSGqdCuA/Mwtm49Wt4D8C4ow8gLHeP0IPwH8bUuA/twlboJq93z/GcVRS5+ffP8N385xhnN8/wEgOF8qd3z9tEtjA4OvfP4+0/G9XW+A/M4AwalOe3j90PviDFUzfPw==",
          "dtype": "f8"
         }
        },
        {
         "legendgroup": "('llama3.1_8b_chat', 'gsm8k', 'cot_3_shot', 'main', 'prompt_answer')",
         "marker": {
          "color": "#2ca02c",
          "opacity": 0.5,
          "size": 6
         },
         "mode": "markers",
         "name": "('llama3.1_8b_chat', 'gsm8k', 'cot_3_shot', 'main', 'prompt_answer') Fold ('direction_f1_score', 0)",
         "showlegend": false,
         "type": "scatter",
         "x": {
          "bdata": "AAECAwQFBgcICQoLDA0ODxAREhMUFRYXGBkaGxwdHh8=",
          "dtype": "i1"
         },
         "y": {
          "bdata": "nJQAd0tu4j8SLWophKnhP8BN/wy46d8/NMu2ZN3N4D/jTySc0rzgPxrceZE6HuA/twep63B74D8ejWwY/xLhP8DOhSC2yOA/91YHodS84T8AAAAAAADhP6EuXsgsRuA/c3eEqyCA3j8/omubMS7hPxu19b4YH+I/bHRwcvGx4T+h0goqraDiP9k0h++3pOA/vZT/So/O4T9rFHHopH3gP2/M00erSeA/dNFFF1104T9RZJ9QZJ/gP5kdUV0PLOE//HmVxRnt3j/XB02Ldn3gP5/cq5/cq98/6ANR7k3J4T8SGaIRGaLhPzcYWUWZdOA/GmosSJUy4j+INdNEfVjjPw==",
          "dtype": "f8"
         }
        },
        {
         "legendgroup": "('llama3.1_8b_chat', 'gsm8k', 'cot_3_shot', 'main', 'prompt_answer')",
         "marker": {
          "color": "#2ca02c",
          "opacity": 0.5,
          "size": 6
         },
         "mode": "markers",
         "name": "('llama3.1_8b_chat', 'gsm8k', 'cot_3_shot', 'main', 'prompt_answer') Fold ('direction_f1_score', 1)",
         "showlegend": false,
         "type": "scatter",
         "x": {
          "bdata": "AAECAwQFBgcICQoLDA0ODxAREhMUFRYXGBkaGxwdHh8=",
          "dtype": "i1"
         },
         "y": {
          "bdata": "XXTRRRdd4D8IRlHhJpLgPwai0pE9A+E//uDa60pf4T+v67qu67reP5AMqGcq190/AAAAAABg3j+PjI/zCfjfP4AA/wH8B+A/PqWHayqG4D+jVcv8qKHhP/ASWeX9LuE/UEEP4Lo44T9+seQXS37hP3Ekk8MIR+I/WJF4FYlX4T+SG7mRG7nhPw27yQu1LuI/ICAgICAg4D/6nTOXGiffP208+05pjOA/x9MJjIvE4D/O5PcEP1XeP4IDBw4cOOA/Vhghsi/54D+1jxHLQaLgP+iZ3OZKWuA/mhbjMOXU3T/2ndIYISzgP4MGDRo0aOA/iBCjYhNe2z9ONTF8/K3bPw==",
          "dtype": "f8"
         }
        },
        {
         "legendgroup": "('llama3.1_8b_chat', 'gsm8k', 'cot_3_shot', 'main', 'prompt_answer')",
         "marker": {
          "color": "#2ca02c",
          "opacity": 0.5,
          "size": 6
         },
         "mode": "markers",
         "name": "('llama3.1_8b_chat', 'gsm8k', 'cot_3_shot', 'main', 'prompt_answer') Fold ('direction_f1_score', 2)",
         "showlegend": false,
         "type": "scatter",
         "x": {
          "bdata": "AAECAwQFBgcICQoLDA0ODxAREhMUFRYXGBkaGxwdHh8=",
          "dtype": "i1"
         },
         "y": {
          "bdata": "oRd6oRd64T/wb8uZDkfhP+m+yzO2KeI/f2Jpr0y24j8npORZRvThPzw/poeBs+A/dM4555xz4D9EDA2WPcTgP02wo4FyFuE/OP5ozagY4T+L+zRRrFThP6Srl2wsEuM/WnCHKMu84D8B7K1kC4viP+ktWcXT9+E/BbIHi4tQ4T8o6GTbp+HhPw51WapB5+E/Aybj8K4e4z+1RQy6DqzhP3tPV/DNROI/kpGRkZGR4T+Uz4PuBI/jP9PS0tLS0uI/au6Cv4oT4j9Qpx0/eB7gP1VMM/WjjOE/EQ7hEA7h4D/Ub3xPde7fP0jbK29JqOE/ZQS/Yred4j8mH25WKlHiPw==",
          "dtype": "f8"
         }
        },
        {
         "legendgroup": "('llama3.1_8b_chat', 'gsm8k', 'cot_3_shot', 'main', 'prompt_answer')",
         "marker": {
          "color": "#2ca02c",
          "opacity": 0.5,
          "size": 6
         },
         "mode": "markers",
         "name": "('llama3.1_8b_chat', 'gsm8k', 'cot_3_shot', 'main', 'prompt_answer') Fold ('direction_f1_score', 3)",
         "showlegend": false,
         "type": "scatter",
         "x": {
          "bdata": "AAECAwQFBgcICQoLDA0ODxAREhMUFRYXGBkaGxwdHh8=",
          "dtype": "i1"
         },
         "y": {
          "bdata": "VoQaLXo74D+BfJEoNfbgP8enQzdZ2N8/3GlQLkNk3T+DR6ZWu7bhP87j0re/MuE/wjvoeuP54D+LleEbUWDiP/1xMG7IruA/AcYw6eED4D+cEW9GvBnhPxHifrTceuE/XoQX4UV44T/oAPTeNbbhP2xvDkBcieE/1ULFSRsO4T+F74iu8B3hP8S3EX5jJuE/kl8s+cWS3z9InysbMWneP+fXHnJZMeA/ERERERER4T/zgGSdKw/gP6cQaAqBpuA/KNkQdFhh4D9aHUaZiufiP7aY5HCG2t8/0id90id94j9eSBCqDPbgP/VRaUGQqeM/nviFtfTb4T8EMs3uOCDjPw==",
          "dtype": "f8"
         }
        },
        {
         "legendgroup": "('llama3.1_8b_chat', 'gsm8k', 'cot_3_shot', 'main', 'prompt_answer')",
         "marker": {
          "color": "#2ca02c",
          "opacity": 0.5,
          "size": 6
         },
         "mode": "markers",
         "name": "('llama3.1_8b_chat', 'gsm8k', 'cot_3_shot', 'main', 'prompt_answer') Fold ('direction_f1_score', 4)",
         "showlegend": false,
         "type": "scatter",
         "x": {
          "bdata": "AAECAwQFBgcICQoLDA0ODxAREhMUFRYXGBkaGxwdHh8=",
          "dtype": "i1"
         },
         "y": {
          "bdata": "ZHXkKucA4j9PljcL8RPgPwaSwHpjBuI/MxQ1rytD4T8cflSXmLXgPyp74hWTWeA/g7ALwi4I2z9ZLp+Q1OzgP3+j7H6j7N4/6Jnc5kpa4D/qrQIvrTvhP38UYCJRvOI/BwPVG7u53j80dn/wp+TiP8KdF6njAeI/3u/bJ2h/4T/C7EVyc1ziP57UkqwGwuE/HrfPfA9H4j8I8N0/iADfP62odQBbYuI/9s9hRLwm4z9piD9uXd7hP+xRuB6F6+E/7k5jeOYI4j8UO7ETO7HjP4rIRGQiMuE/aC+hvYT24j+WlAMiw73iP9oAWwnpZuM/8JIeTQfw4j+nF/nWG63jPw==",
          "dtype": "f8"
         }
        },
        {
         "legendgroup": "('llama3.1_8b_chat', 'gsm8k', 'cot_3_shot', 'main', 'prompt_only')",
         "line": {
          "color": "#d62728",
          "width": 2
         },
         "marker": {
          "size": 8
         },
         "mode": "lines+markers",
         "name": "('llama3.1_8b_chat', 'gsm8k', 'cot_3_shot', 'main', 'prompt_only')",
         "type": "scatter",
         "x": {
          "bdata": "AAECAwQFBgcICQoLDA0ODxAREhMUFRYXGBkaGxwdHh8=",
          "dtype": "i1"
         },
         "y": {
          "bdata": "zE1LT8ZD4j/H4LYIDrHhP1h9egC8tuE/5O7DEjiz4T8uRO2a3KjhPzGv94Yt7uE/p+GXQikL4j/u5yxsl/nhP5ZFnRT7LuA/JQf88DDJ4T++g5d7ayzhP8zvtQbfQOE/Aa2XeZi04T8aneXNFwThP67b9BD4KuE/DKFis2Mw4T/ySm0F4XDhP4roNw8eGuE/Jibpaep04T/nDgu0X1XhP/S7iXAMWuE/H74B8lwN4D8uL84p/SjgP+QMYbEbieA/bufPIDAG4D8MlhaSUA/gP3JKScVF7t8/JTKkHCgl4D9PWFZTOC7gP/680RwD1uA/JIMLkKmP4T+VmBLro43gPw==",
          "dtype": "f8"
         }
        },
        {
         "legendgroup": "('llama3.1_8b_chat', 'gsm8k', 'cot_3_shot', 'main', 'prompt_only')",
         "line": {
          "width": 0
         },
         "mode": "lines",
         "name": "('llama3.1_8b_chat', 'gsm8k', 'cot_3_shot', 'main', 'prompt_only') Max",
         "showlegend": false,
         "type": "scatter",
         "x": {
          "bdata": "AAECAwQFBgcICQoLDA0ODxAREhMUFRYXGBkaGxwdHh8=",
          "dtype": "i1"
         },
         "y": {
          "bdata": "g9Voe6Ip4z/GbQ0RsKbiPx4ZOGwtoeI/icUBPnq24j9EQoyTfNTiPyX6uSaUTuM/uSEGpGMp4z/MSqj68yTjP3p5gs7dq+I/5tqBuXZg4j/7iTdAWqjiP9FFF1100eE/ttjbxMJ84z+2Img4qfviPw7G/0KIcuI/ioRTmhd/4j+j9zH3d33iP6uqqqqqquI/wW/dWRb54T9FxnLVYNPhP9rPqpDYkuI/dm2iZNcm4j8Zv13qyfjhP1BSFiBOcOE/0dDQ0NDQ4D9cP/RaVpvgP8ThKV+AquA/LcuyLMuy4D/nzFNs/IrgP4m1dZHp+uE/gkQrbA4k4j/cq2CWlAPiPw==",
          "dtype": "f8"
         }
        },
        {
         "fill": "tonexty",
         "fillcolor": "rgba(214, 39, 40, 0.1)",
         "legendgroup": "('llama3.1_8b_chat', 'gsm8k', 'cot_3_shot', 'main', 'prompt_only')",
         "line": {
          "width": 0
         },
         "mode": "lines",
         "name": "('llama3.1_8b_chat', 'gsm8k', 'cot_3_shot', 'main', 'prompt_only') Min",
         "showlegend": false,
         "type": "scatter",
         "x": {
          "bdata": "AAECAwQFBgcICQoLDA0ODxAREhMUFRYXGBkaGxwdHh8=",
          "dtype": "i1"
         },
         "y": {
          "bdata": "N49Qfaat4T+h7UNtlJ7gP0of8a5pht4/MVDCG02d3z8EknWuPCDhP8mN3MiN3OA/4mwvvgfw4D9XWDb3gTrhP93P/dzP/dw/w/8cLgYO4T8U/Y6hEz7eP28J1s6JQ+A/R+Jq2V3k3j/F2jyXtxHfP3La043h998/6LrYxHxX4D8uDEpwyZ/gP2vfsPYNa98/AsuQ8j2b4D+ALEbHV8/gP1AHdVAHdeA/HeERHuER3j+xihGgNODdP0Zkzn66Td8/QgWa7WTA3j8wBDjNuEffP8XaPJe3Ed8/vqEn1Vcy3z8p1x0vtgTfP3sMK9NvTeA/JUmSJEmS4D/yh9iXicfcPw==",
          "dtype": "f8"
         }
        },
        {
         "legendgroup": "('llama3.1_8b_chat', 'gsm8k', 'cot_3_shot', 'main', 'prompt_only')",
         "line": {
          "width": 0
         },
         "mode": "lines",
         "name": "('llama3.1_8b_chat', 'gsm8k', 'cot_3_shot', 'main', 'prompt_only') +1 STD",
         "showlegend": false,
         "type": "scatter",
         "x": {
          "bdata": "AAECAwQFBgcICQoLDA0ODxAREhMUFRYXGBkaGxwdHh8=",
          "dtype": "i1"
         },
         "y": {
          "bdata": "oy5UnPri4j+LjSNSbHDiPyQsL8jFJeM/PiVTimrR4j/i/On4NF3iP+KSf4Bn7+I/2FkJ8mTx4j+Yp55cub7iP4wHPTcTtuE/4MHbWv5v4j+q8LeohpfiP1fkMBVr6uE/QYPxqMxE4z8Drk4mg4HiP2EVVnxJHeI/tP2QM08P4j/UEnWYuSniP9YGWUjBPeI/iwqL/qIN4j97jUfabLXhPy7s6DLJIuI/cZXadO1Q4T8IO82Fz2PhPw02EyGzU+E/mvZm+Ma34D8x+O0952rgP3yvWyYobOA/TE5JecOa4D963Bz8PZPgP4Wlq1+MjOE/Mts9zZ4q4j9GImlWkHjiPw==",
          "dtype": "f8"
         }
        },
        {
         "fill": "tonexty",
         "fillcolor": "rgba(214, 39, 40, 0.3)",
         "legendgroup": "('llama3.1_8b_chat', 'gsm8k', 'cot_3_shot', 'main', 'prompt_only')",
         "line": {
          "width": 0
         },
         "mode": "lines",
         "name": "('llama3.1_8b_chat', 'gsm8k', 'cot_3_shot', 'main', 'prompt_only') -1 STD",
         "showlegend": false,
         "type": "scatter",
         "x": {
          "bdata": "AAECAwQFBgcICQoLDA0ODxAREhMUFRYXGBkaGxwdHh8=",
          "dtype": "i1"
         },
         "y": {
          "bdata": "9WxCApKk4T8DNEq/r/HgP4zOxTiyR+A/irg0mwWV4D96i/A8hPTgP4DLb43z7OA/dmkmk+0k4T9EKLt7dTThPz8H++PFT90/akwch2Mi4T+kLe6coILfP0H7OvhSl+A/wdY9SmQk4D9jGPnqWA3fP/uhk6WmOOA/ZEQ0M3hR4D8Qg2VyCLjgP3yULaz17N8/wUFH1THc4D9TkM6NUvXgP7qLKq5PkeA/m81R3piT3T+oRp6bVdzdP3fHXYMIfd8/hLBxkjKp3j/OZ37Mc2ffP+w12z07BN8//Cv+fxlf3z9HqB9VZZLfP3fU99l5H+A/FivZUrT04D/IHXj/bkXdPw==",
          "dtype": "f8"
         }
        },
        {
         "legendgroup": "('llama3.1_8b_chat', 'gsm8k', 'cot_3_shot', 'main', 'prompt_only')",
         "marker": {
          "color": "#d62728",
          "opacity": 0.5,
          "size": 6
         },
         "mode": "markers",
         "name": "('llama3.1_8b_chat', 'gsm8k', 'cot_3_shot', 'main', 'prompt_only') Fold ('direction_f1_score', 0)",
         "showlegend": false,
         "type": "scatter",
         "x": {
          "bdata": "AAECAwQFBgcICQoLDA0ODxAREhMUFRYXGBkaGxwdHh8=",
          "dtype": "i1"
         },
         "y": {
          "bdata": "g9Voe6Ip4z+iKUM8iv/hPzKw9dQfm+I/NtJhIx024j9EQoyTfNTiPyX6uSaUTuM/uSEGpGMp4z/MSqj68yTjP3p5gs7dq+I/Mn2VMDYL4j/7iTdAWqjiP107MNcOzOE/TAWtvlTQ4j+2Img4qfviPw7G/0KIcuI/0km0HyGC4T+j9zH3d33iP6uqqqqqquI/wW/dWRb54T9FxnLVYNPhP9rPqpDYkuI/dm2iZNcm4j8Zv13qyfjhP6KRY6OF+eA/JsULZFK84D/yp8oyaxTgPwAAAAAAAOA/Atd+lMC13z8p1x0vtgTfP9qvFe4ZF+E/gkQrbA4k4j851Z3zJgPiPw==",
          "dtype": "f8"
         }
        },
        {
         "legendgroup": "('llama3.1_8b_chat', 'gsm8k', 'cot_3_shot', 'main', 'prompt_only')",
         "marker": {
          "color": "#d62728",
          "opacity": 0.5,
          "size": 6
         },
         "mode": "markers",
         "name": "('llama3.1_8b_chat', 'gsm8k', 'cot_3_shot', 'main', 'prompt_only') Fold ('direction_f1_score', 1)",
         "showlegend": false,
         "type": "scatter",
         "x": {
          "bdata": "AAECAwQFBgcICQoLDA0ODxAREhMUFRYXGBkaGxwdHh8=",
          "dtype": "i1"
         },
         "y": {
          "bdata": "YUFomMK54T+h7UNtlJ7gP0of8a5pht4/MVDCG02d3z99cE2BzljhP8mN3MiN3OA/4mwvvgfw4D/h2h5A+XnhP80KDl9IEeA/5tqBuXZg4j9Sdr9Rdr/hP9FFF1100eE/aWE+9BKT4T+su0UZrgTiPzgcDofD4eA/ioRTmhd/4j/SR6rRR6rhP5GjGxc5uuE/nsyHdCfz4T+NBntbmXjhP2FAgFWOCeE/EIcKCzEt4D/TfplX6xTgP1AuQ2Td2+A/0dDQ0NDQ4D+QQ4AJVhngP7zxhV2uDOA/LcuyLMuy4D+Vw1fpgFfgP3sMK9NvTeA/JUmSJEmS4D/cq2CWlAPiPw==",
          "dtype": "f8"
         }
        },
        {
         "legendgroup": "('llama3.1_8b_chat', 'gsm8k', 'cot_3_shot', 'main', 'prompt_only')",
         "marker": {
          "color": "#d62728",
          "opacity": 0.5,
          "size": 6
         },
         "mode": "markers",
         "name": "('llama3.1_8b_chat', 'gsm8k', 'cot_3_shot', 'main', 'prompt_only') Fold ('direction_f1_score', 2)",
         "showlegend": false,
         "type": "scatter",
         "x": {
          "bdata": "AAECAwQFBgcICQoLDA0ODxAREhMUFRYXGBkaGxwdHh8=",
          "dtype": "i1"
         },
         "y": {
          "bdata": "N49Qfaat4T/GbQ0RsKbiP0k/mcGCd+I/icUBPnq24j8d5jCHOczhP8DbMBepoeI/di3O2oV74j8Gtp76Y1PiP27fBZayXd8/g2rPyfRV4j+/Fk6//1zgP40Ge1uZeOE/ttjbxMJ84z+QLWOmg93gPyKXFQMlvOE/v4Ur4pUd4T8YFf5FhX/hP2vfsPYNa98/US1HzPWs4T+ALEbHV8/gP1AHdVAHdeA/+RklfkaJ3z8eXxczLk3eP0Zkzn66Td8/964DujFP3z9cP/RaVpvgP3Py0clHJ98/1bpsgsOG4D/nzFNs/IrgP4m1dZHp+uE/4aNuqULw4T9b+vZXJgrdPw==",
          "dtype": "f8"
         }
        },
        {
         "legendgroup": "('llama3.1_8b_chat', 'gsm8k', 'cot_3_shot', 'main', 'prompt_only')",
         "marker": {
          "color": "#d62728",
          "opacity": 0.5,
          "size": 6
         },
         "mode": "markers",
         "name": "('llama3.1_8b_chat', 'gsm8k', 'cot_3_shot', 'main', 'prompt_only') Fold ('direction_f1_score', 3)",
         "showlegend": false,
         "type": "scatter",
         "x": {
          "bdata": "AAECAwQFBgcICQoLDA0ODxAREhMUFRYXGBkaGxwdHh8=",
          "dtype": "i1"
         },
         "y": {
          "bdata": "UpstUpst4j8IknypmsHhP33aJCinmuE/PymsgJO14T8DKiK8jTLhP5zEILByaOE/RyTGs6NV4T+cU0TwIbPhP93P/dzP/dw/WGHo0kwe4T8U/Y6hEz7eP28J1s6JQ+A/drB5+6A04T9SMJmDgFvfP3La043h998/6LrYxHxX4D8uDEpwyZ/gPyuMENmXfOA/EYpQhCIU4T9QmXYO1izhP2UqnmtWh+E/HeERHuER3j+xihGgNODdPx/4gR/4gd8/IyrINgQU3z8wBDjNuEffP8ThKV+AquA/vqEn1Vcy3z/GHxtJuzXgPxgMBoPBYOA/Wr95rAmj4T/yh9iXicfcPw==",
          "dtype": "f8"
         }
        },
        {
         "legendgroup": "('llama3.1_8b_chat', 'gsm8k', 'cot_3_shot', 'main', 'prompt_only')",
         "marker": {
          "color": "#d62728",
          "opacity": 0.5,
          "size": 6
         },
         "mode": "markers",
         "name": "('llama3.1_8b_chat', 'gsm8k', 'cot_3_shot', 'main', 'prompt_only') Fold ('direction_f1_score', 4)",
         "showlegend": false,
         "type": "scatter",
         "x": {
          "bdata": "AAECAwQFBgcICQoLDA0ODxAREhMUFRYXGBkaGxwdHh8=",
          "dtype": "i1"
         },
         "y": {
          "bdata": "i0MpqTiU4j/TTIHH3G7hPx4ZOGwtoeI/XcHi7UYP4j8EknWuPCDhP61D7uulceE/7IctXDlN4j9XWDb3gTrhPwAAAAAAAOA/w/8cLgYO4T8g/ehHP/rhP9Ad9cK06uA/R+Jq2V3k3j/F2jyXtxHfP8bjusB2yuA/OBbhH6d74D8DFv6bVu3gP5hA6LWT6+A/AsuQ8j2b4D/kt4x9tmLhP9VpcpB5KeE/GomA+GhC3j8UOXsli6jgP1BSFiBOcOE/QgWa7WTA3j+Hgiu5Pb/fP8XaPJe3Ed8/UzhCqy0M4D+0HVrqhUzgPwEzXLrabeA/1Z6T6auE4T+tuHYVoNThPw==",
          "dtype": "f8"
         }
        },
        {
         "legendgroup": "('llama3.1_8b_chat', 'medals_9k', 'base', 'main', 'prompt_answer')",
         "line": {
          "color": "#9467bd",
          "width": 2
         },
         "marker": {
          "size": 8
         },
         "mode": "lines+markers",
         "name": "('llama3.1_8b_chat', 'medals_9k', 'base', 'main', 'prompt_answer')",
         "type": "scatter",
         "x": {
          "bdata": "AAECAwQFBgcICQoLDA0ODxAREhMUFRYXGBkaGxwdHh8=",
          "dtype": "i1"
         },
         "y": {
          "bdata": "tKc7rhQE4j/tHAkHIMviP7hXOqmrzOI/cM2pG7DW4z9SSQlmtArkP11WSmV+g+M/+Vkdunr34z+Qz7Ot3cfjP35OCF+m4uM/Jl8/Cxwr4z8qx3O6aQvkP2K/1DT8ruQ/HSr4l9PM5D9nJh0Mt9vkP0r9QbPa/+Q/ZiUzCMjG5D/OyffNOwzkPyX4bt65P+Q/e2Yb9QY44z+QtgvIghTjP4Zqxx+ju+E/AMAPIsM84T8r4yQniHThP2YyZPoOqOI/PlBbBeue4j/6MUk4PVriP6rQGKw8deI/Sdl5yxjp4T/KixoRHQLiPz2V/VAz/OE/SnKmMssK4j/hpRl5eIrhPw==",
          "dtype": "f8"
         }
        },
        {
         "legendgroup": "('llama3.1_8b_chat', 'medals_9k', 'base', 'main', 'prompt_answer')",
         "line": {
          "width": 0
         },
         "mode": "lines",
         "name": "('llama3.1_8b_chat', 'medals_9k', 'base', 'main', 'prompt_answer') Max",
         "showlegend": false,
         "type": "scatter",
         "x": {
          "bdata": "AAECAwQFBgcICQoLDA0ODxAREhMUFRYXGBkaGxwdHh8=",
          "dtype": "i1"
         },
         "y": {
          "bdata": "qyLdNZe04j/kmgjkmgjkP3XIo4x7S+Q//ZvpEViG5D+oT7UWgPrkPwjcWAalwuQ/s6asKWvK5D+1Qc+5Z2zkP6pJRf+emuQ/5QCzhj7y5D/Cbn4LAaPkPxBWtroAYeU/t+f3p+Kg5T+BB69vgGDlP8Jv6EsNweU/+97Mj3tk5T8Wl60Vl63lP82XJg5jteU/HeONinPI5T9PzYPc9bPlP233VmmKX+I/Amyijn7h4T/eaR+qkifiP1kBI45vVOM/f1vg2Tdl4z93jkGXedziPygQ7zwNFOM/RVStTrur4j+5UuyFH7niP84GIqpSneI/eAlr7qYg4z/SDrMGe+rhPw==",
          "dtype": "f8"
         }
        },
        {
         "fill": "tonexty",
         "fillcolor": "rgba(148, 103, 189, 0.1)",
         "legendgroup": "('llama3.1_8b_chat', 'medals_9k', 'base', 'main', 'prompt_answer')",
         "line": {
          "width": 0
         },
         "mode": "lines",
         "name": "('llama3.1_8b_chat', 'medals_9k', 'base', 'main', 'prompt_answer') Min",
         "showlegend": false,
         "type": "scatter",
         "x": {
          "bdata": "AAECAwQFBgcICQoLDA0ODxAREhMUFRYXGBkaGxwdHh8=",
          "dtype": "i1"
         },
         "y": {
          "bdata": "IplCak0F4T80pIRFx8rhPw5VOWWKD+I/pXOH+hA+4z/BeCv7HFLjP21kqtfWXeI/7mQNHf4x4z/9ueMgV9niP/h3yRhpiuI/ZqhiPD2Y4T+8t+CVdzTjP9HiqdVWFuQ/C+UCkPwU5D/8wTHJQ3bkP+3aRMmuTeQ/n8J6Cusp5D/RXkJ7Ce3hP1AuTlAuTuA/86AQMQ8K4T+PX8ev49fhP98thf4kY+E/WbMOvj0e4D+ImAeFiHngP6J1uYuXouE/UsShk/ZB4j/9qpcLVKHhP3LExp0cseE/R2X643ND4T+RbpFukW7hP7zZx5FNheE/vBnxZsSb4T++yl5PlungPw==",
          "dtype": "f8"
         }
        },
        {
         "legendgroup": "('llama3.1_8b_chat', 'medals_9k', 'base', 'main', 'prompt_answer')",
         "line": {
          "width": 0
         },
         "mode": "lines",
         "name": "('llama3.1_8b_chat', 'medals_9k', 'base', 'main', 'prompt_answer') +1 STD",
         "showlegend": false,
         "type": "scatter",
         "x": {
          "bdata": "AAECAwQFBgcICQoLDA0ODxAREhMUFRYXGBkaGxwdHh8=",
          "dtype": "i1"
         },
         "y": {
          "bdata": "PwAWr6y54j9+gzd1AtbjP4GysyVrsuM/BwyU7/NV5D8eBCY/mb/kP/gCIQP6muQ/X54m5/q55D82U7RP2mjkPy7p7VUmxeQ/WdeQlThi5D+YMG6KIcHkP7/1CMwPS+U/b9VpM2F+5T8aOPaJkjLlP3IB+HuklOU/NoeCuGZU5T8ieJrglt7lPxEEkTnOfOY/KBs3Atdg5T/XMyk4upXkP4b87W6NK+I/UF5lWozq4T+rR8g0NxbiP7Wuzp+cYOM/b+DiyQIU4z8bVvXrkdDiP8EcERH0++I/7EiFbz114j/3cROJLILiP1x97Webc+I/pWK+peep4j/7qNjzKvbhPw==",
          "dtype": "f8"
         }
        },
        {
         "fill": "tonexty",
         "fillcolor": "rgba(148, 103, 189, 0.3)",
         "legendgroup": "('llama3.1_8b_chat', 'medals_9k', 'base', 'main', 'prompt_answer')",
         "line": {
          "width": 0
         },
         "mode": "lines",
         "name": "('llama3.1_8b_chat', 'medals_9k', 'base', 'main', 'prompt_answer') -1 STD",
         "showlegend": false,
         "type": "scatter",
         "x": {
          "bdata": "AAECAwQFBgcICQoLDA0ODxAREhMUFRYXGBkaGxwdHh8=",
          "dtype": "i1"
         },
         "y": {
          "bdata": "KU9hrXxO4T9cttqYPcDhP+/8wCzs5uE/2Y6/R2xX4z+GjuyMz1XjP8Kpc8cCbOI/kxUUjfo04z/qS7ML4SbjP86zImgmAOM/8+btgP/z4T+8XXnqsVXjPwWJoJ3oEuQ/y36G/EUb5D+0FESO24TkPyL5i+oQa+Q/lsPjVyk55D96G1W74DniPznsTIOlAuI/zrH/5zYP4T9JOe5XS5PhP4bYoNC4S+E/sCG66fmO4D+rfoEZ2dLgPxe2+VSB7+E/DcDTQNMp4j/ZDZ2E6OPhP5OEIEeF7uE/pmluJ/Rc4T+dpSGZDYLhPx6tDTrLhOE/74GOv65r4T/Holr+xR7hPw==",
          "dtype": "f8"
         }
        },
        {
         "legendgroup": "('llama3.1_8b_chat', 'medals_9k', 'base', 'main', 'prompt_answer')",
         "marker": {
          "color": "#9467bd",
          "opacity": 0.5,
          "size": 6
         },
         "mode": "markers",
         "name": "('llama3.1_8b_chat', 'medals_9k', 'base', 'main', 'prompt_answer') Fold ('direction_f1_score', 0)",
         "showlegend": false,
         "type": "scatter",
         "x": {
          "bdata": "AAECAwQFBgcICQoLDA0ODxAREhMUFRYXGBkaGxwdHh8=",
          "dtype": "i1"
         },
         "y": {
          "bdata": "IplCak0F4T80pIRFx8rhP5kUL5BJ8eI/pXOH+hA+4z/BeCv7HFLjPyJTbgygjOI/7mQNHf4x4z/9ueMgV9niP/h3yRhpiuI/ZqhiPD2Y4T/Cbn4LAaPkP9HiqdVWFuQ/C+UCkPwU5D/jm0bK9q3kP+3aRMmuTeQ/+czlDn925D/RXkJ7Ce3hP1AuTlAuTuA/86AQMQ8K4T+PX8ev49fhP9eKCh2iZ+E/WbMOvj0e4D+ImAeFiHngP6J1uYuXouE/UjKvu4lR4j/9qpcLVKHhP3LExp0cseE/R2X643ND4T+RbpFukW7hPyYCa6SKhuE/vBnxZsSb4T++yl5PlungPw==",
          "dtype": "f8"
         }
        },
        {
         "legendgroup": "('llama3.1_8b_chat', 'medals_9k', 'base', 'main', 'prompt_answer')",
         "marker": {
          "color": "#9467bd",
          "opacity": 0.5,
          "size": 6
         },
         "mode": "markers",
         "name": "('llama3.1_8b_chat', 'medals_9k', 'base', 'main', 'prompt_answer') Fold ('direction_f1_score', 1)",
         "showlegend": false,
         "type": "scatter",
         "x": {
          "bdata": "AAECAwQFBgcICQoLDA0ODxAREhMUFRYXGBkaGxwdHh8=",
          "dtype": "i1"
         },
         "y": {
          "bdata": "qyLdNZe04j/kmgjkmgjkP3XIo4x7S+Q/L/s+UlYN5D80BBwQFpPkPwjcWAalwuQ/qUFm4ubD5D/TRH1YM03kP1100UUXXeQ/HNMmoBT14j+8t+CVdzTjP1HFeHowQ+U/AWKr/4lx5T8tK5Glqd3kP6VWaqVWauU/VVVVVVVV5T9oAwLHry3lP9+R9XOcNOU/w6xGEYdO4j+VUkoppZTiPzXa0ddlAOI/xUMI6KtA4T/XV/CmoW/hP9g2jwYMFuM/KNpq8ByB4j93jkGXedziP0WViF+AzOI/EtclEtcl4j/aF1Gtsy/iP328JLsBLeI/BUS5pP6u4T9EhoK2sOfhPw==",
          "dtype": "f8"
         }
        },
        {
         "legendgroup": "('llama3.1_8b_chat', 'medals_9k', 'base', 'main', 'prompt_answer')",
         "marker": {
          "color": "#9467bd",
          "opacity": 0.5,
          "size": 6
         },
         "mode": "markers",
         "name": "('llama3.1_8b_chat', 'medals_9k', 'base', 'main', 'prompt_answer') Fold ('direction_f1_score', 2)",
         "showlegend": false,
         "type": "scatter",
         "x": {
          "bdata": "AAECAwQFBgcICQoLDA0ODxAREhMUFRYXGBkaGxwdHh8=",
          "dtype": "i1"
         },
         "y": {
          "bdata": "iQWFV/Wz4j+ivIbyGsrjP4UhkDhzb+I//ZvpEViG5D+oT7UWgPrkP0VNIi2nfeQ/s6asKWvK5D+1Qc+5Z2zkP/IwtgndfeQ/bQXyaPuB4z83PuyOLFbjPxBWtroAYeU/t+f3p+Kg5T+BB69vgGDlP8Jv6EsNweU/+97Mj3tk5T8Wl60Vl63lP82XJg5jteU/HeONinPI5T9PzYPc9bPlP233VmmKX+I/lnsaYbmn4T9Y+MyrzmHhPxl6G1ZJD+M/6mQsAcKg4j+TkpKSkpLiPygQ7zwNFOM/RVStTrur4j+5UuyFH7niP84GIqpSneI/eAlr7qYg4z/SDrMGe+rhPw==",
          "dtype": "f8"
         }
        },
        {
         "legendgroup": "('llama3.1_8b_chat', 'medals_9k', 'base', 'main', 'prompt_answer')",
         "marker": {
          "color": "#9467bd",
          "opacity": 0.5,
          "size": 6
         },
         "mode": "markers",
         "name": "('llama3.1_8b_chat', 'medals_9k', 'base', 'main', 'prompt_answer') Fold ('direction_f1_score', 3)",
         "showlegend": false,
         "type": "scatter",
         "x": {
          "bdata": "AAECAwQFBgcICQoLDA0ODxAREhMUFRYXGBkaGxwdHh8=",
          "dtype": "i1"
         },
         "y": {
          "bdata": "UuPKUePK4T/EWfkJcVbiPw5VOWWKD+I/em3MCvrf4z80vyK9i4jjP21kqtfWXeI/47EOp3is4z+CN05LJLPjP6pJRf+emuQ/5QCzhj7y5D+8DujGPH3kP5WaKtlAjOQ/iUglIpWI5D92L9mTLujkP/pKGdSar+Q/E/d8Kq2H5D+79+St2jTiP3+Obucho+Q/w3aE4i2z4T+8SjFBd5XiP0mKLEJ4f+E/SOF6FK5H4T9CHdRBHdThPxLUbW3uK+I/UsShk/ZB4j82Hs0fbDziPxbPm42RV+I/lGOQBK2H4T+WexphuafhP7zZx5FNheE/RpmK55rV4T8NJ3VfHlvhPw==",
          "dtype": "f8"
         }
        },
        {
         "legendgroup": "('llama3.1_8b_chat', 'medals_9k', 'base', 'main', 'prompt_answer')",
         "marker": {
          "color": "#9467bd",
          "opacity": 0.5,
          "size": 6
         },
         "mode": "markers",
         "name": "('llama3.1_8b_chat', 'medals_9k', 'base', 'main', 'prompt_answer') Fold ('direction_f1_score', 4)",
         "showlegend": false,
         "type": "scatter",
         "x": {
          "bdata": "AAECAwQFBgcICQoLDA0ODxAREhMUFRYXGBkaGxwdHh8=",
          "dtype": "i1"
         },
         "y": {
          "bdata": "3KG6Harb4T8gOyD9sQPiP/Zih5OXQ+I/6YrUILd/4z/I4g4fR83jP/LO3+K0ZuM/q8Jj0pxo4z/HlQTmPaHjP4chk3NDbeM/6FkObADW4j9icA+tLo7kPyQkJCQkJOQ/RVsNniNQ5D/8wTHJQ3bkPx8GmfGX1uQ/n8J6Cusp5D8AAAAAAEDlPzzyUZ5RY+U/0VgfGutD5T+exnPxl7DiP98thf4kY+E/Amyijn7h4T/eaR+qkifiP1kBI45vVOM/f1vg2Tdl4z+kDzXEZXbiP1faoZTzYOI/O0oDsMjw4T89ZptScwviPwJLevnTFuI/7zqgG/P04T+DtnbxeZ3hPw==",
          "dtype": "f8"
         }
        },
        {
         "legendgroup": "('llama3.1_8b_chat', 'medals_9k', 'base', 'main', 'prompt_only')",
         "line": {
          "color": "#8c564b",
          "width": 2
         },
         "marker": {
          "size": 8
         },
         "mode": "lines+markers",
         "name": "('llama3.1_8b_chat', 'medals_9k', 'base', 'main', 'prompt_only')",
         "type": "scatter",
         "x": {
          "bdata": "AAECAwQFBgcICQoLDA0ODxAREhMUFRYXGBkaGxwdHh8=",
          "dtype": "i1"
         },
         "y": {
          "bdata": "dl5P/uGN3z/GY9eKRN7gP0Yb2ivGhOE/m9wo2AVa4z8syO774rHiPzr3iSp7VeI/FOKL8CyI4j+LruPBsAjhPzZpIjUuIeE/0LywzRSh4T+mpXsIfxPgPxAyW5xhGuE/vdm1nmo64D/DGU2ox0/hPw+tcMk4y+E/y7FfCJ+Y4T/q+YJP1vLhPz3KBvtWveE/rRFpPuCT4T+g8Oou1XrhP/CXnsQKZuE/y2Qbqrm64T/r+A17wIThPwM+eR3j9eA/h8aLVth+4D9aWaEahw/hPzKz3LCbAuE/6uOlIzEk4T8KdIAyUx7hPz2fYlO5ieE/dtYRgyH24T+wNk53hV/fPw==",
          "dtype": "f8"
         }
        },
        {
         "legendgroup": "('llama3.1_8b_chat', 'medals_9k', 'base', 'main', 'prompt_only')",
         "line": {
          "width": 0
         },
         "mode": "lines",
         "name": "('llama3.1_8b_chat', 'medals_9k', 'base', 'main', 'prompt_only') Max",
         "showlegend": false,
         "type": "scatter",
         "x": {
          "bdata": "AAECAwQFBgcICQoLDA0ODxAREhMUFRYXGBkaGxwdHh8=",
          "dtype": "i1"
         },
         "y": {
          "bdata": "0iAN0iAN4j/t2MIIVuHiP4CvTGmUpeI/IJ8imDdZ5D80H7SyZKLjP+U1lNdQXuM/9MmCSF154z9myGAacbzjP/LO3+K0ZuM/nPxN/iZ/4z/6g41H8wfjP0u23o0v7OI/UvrCeBkB4j/poLsDm03jPy2QHWKiHuM/VKhQoUKF4j+7ErUrUbviP6BdR5UEf+I/5SmyGBA/4j//GLBRFhTiP/AiCvv8meI/W3KIq0wB4z/0ZSVU/XniPwuD+K/Ym+E/DNG7EL0L4T/ybA45a3biP1sOCTFO8uE/3uPcclrn4T/kOI7jOA7iP8WClYkFK+M/xoO/2NEx4z/Oyk+Is/LjPw==",
          "dtype": "f8"
         }
        },
        {
         "fill": "tonexty",
         "fillcolor": "rgba(140, 86, 75, 0.1)",
         "legendgroup": "('llama3.1_8b_chat', 'medals_9k', 'base', 'main', 'prompt_only')",
         "line": {
          "width": 0
         },
         "mode": "lines",
         "name": "('llama3.1_8b_chat', 'medals_9k', 'base', 'main', 'prompt_only') Min",
         "showlegend": false,
         "type": "scatter",
         "x": {
          "bdata": "AAECAwQFBgcICQoLDA0ODxAREhMUFRYXGBkaGxwdHh8=",
          "dtype": "i1"
         },
         "y": {
          "bdata": "uFvnFdC42z+il+rnhDXcP0W8GfFmxNs/0jUGbZbC4j85h6GE/uvhPy2G6jpulOE/nlLbkCPg4T/yV3XdmFDbP+Rwb7F2Z9w/qs+0Nf5u3j80JtIDlbPbP51bN6nsb9s/xej46hna3D+p6FnpfOLeP1zHE7i/6eA/FFHxJhPC4D+YUVOPdFLhP/uucViZO+E/eQ3lNZTX4D/SdpoVHL7gP95BRqBVW+A/jzeyOa8K4T9HYGdXe2rgP2ot5kXdMeA/wDHrtCip3z84wyDLUS7fP8o8q6gxUuA/FIjg2KVR4D+x4FLZ3nXgP1AHdVAHdeA/rUksgt+o4D/2xYcrWl/cPw==",
          "dtype": "f8"
         }
        },
        {
         "legendgroup": "('llama3.1_8b_chat', 'medals_9k', 'base', 'main', 'prompt_only')",
         "line": {
          "width": 0
         },
         "mode": "lines",
         "name": "('llama3.1_8b_chat', 'medals_9k', 'base', 'main', 'prompt_only') +1 STD",
         "showlegend": false,
         "type": "scatter",
         "x": {
          "bdata": "AAECAwQFBgcICQoLDA0ODxAREhMUFRYXGBkaGxwdHh8=",
          "dtype": "i1"
         },
         "y": {
          "bdata": "qKpmlnXY4T8dTedGUfriP9DkOuCTj+M/r9s2+Gr84z9IhoPZwlDjP+Wf5Q0PE+M/4nd8XmAl4z+CMoJcU5/jPwDBBXOHSeM/Xpv8c41A4z/tvLe5MXziP6eXk19HGeM/VeMlyvqg4T/QM4ExRNriP7Y3nSUQrOI/+ZnqhHxA4j/orSIJ8ITiP2wNvfp/OuI/MmS3ZpMa4j8sxK062wPiP2cFdEpYTuI/dJiXtoeH4j8Qqgy8a0PiPwyi5pHEheE/ogFl2T7u4D/91fq0xi7iP5B6rXYmrOE/HdufrNC54T8UJPt1fr3hP5qqYdyOl+I/fuVU3gbe4j9LBVpoKhniPw==",
          "dtype": "f8"
         }
        },
        {
         "fill": "tonexty",
         "fillcolor": "rgba(140, 86, 75, 0.3)",
         "legendgroup": "('llama3.1_8b_chat', 'medals_9k', 'base', 'main', 'prompt_only')",
         "line": {
          "width": 0
         },
         "mode": "lines",
         "name": "('llama3.1_8b_chat', 'medals_9k', 'base', 'main', 'prompt_only') -1 STD",
         "showlegend": false,
         "type": "scatter",
         "x": {
          "bdata": "AAECAwQFBgcICQoLDA0ODxAREhMUFRYXGBkaGxwdHh8=",
          "dtype": "i1"
         },
         "y": {
          "bdata": "nGfRz9hq2z/e9I6db4TdP3ej8u7w894/h90auKC34j8QCloeAxPiP49OLkfnl+E/Rkybgvnq4T8oVYpOHOTcP9gifu6p8d0/Qt5kJ5wB4D++HH+umFXbP/KYRbL3Nt4/S6CL5rSn3T9t/zE+lorfP2giRG1h6uA/ncnUi8Hw4D/sReOVvGDhPw6HUPstQOE/KL8aFi0N4T8UHSgjz/HgP3kqyT69feA/IjGfnevt4D/GRw86FcbgP/rZC6kBZuA/bIuy03EP4D9tuY8Aj+DfP9TrC+sQWeA/t+yrmpGO4D8AxAXvJ3/gP+CTY8rje+A/bsfOJzwO4T/KYugdtozaPw==",
          "dtype": "f8"
         }
        },
        {
         "legendgroup": "('llama3.1_8b_chat', 'medals_9k', 'base', 'main', 'prompt_only')",
         "marker": {
          "color": "#8c564b",
          "opacity": 0.5,
          "size": 6
         },
         "mode": "markers",
         "name": "('llama3.1_8b_chat', 'medals_9k', 'base', 'main', 'prompt_only') Fold ('direction_f1_score', 0)",
         "showlegend": false,
         "type": "scatter",
         "x": {
          "bdata": "AAECAwQFBgcICQoLDA0ODxAREhMUFRYXGBkaGxwdHh8=",
          "dtype": "i1"
         },
         "y": {
          "bdata": "0iAN0iAN4j/I4HwMzsfiP4CvTGmUpeI/IJ8imDdZ5D80H7SyZKLjP+U1lNdQXuM/9MmCSF154z9myGAacbzjP/LO3+K0ZuM/nPxN/iZ/4z/6g41H8wfjP0u23o0v7OI/vdm5VBsy4T/poLsDm03jPy2QHWKiHuM/VKhQoUKF4j+7ErUrUbviP6BdR5UEf+I/5SmyGBA/4j//GLBRFhTiP/AiCvv8meI/W3KIq0wB4z/0ZSVU/XniPwuD+K/Ym+E/r2QRFYJ54D/ybA45a3biP1sOCTFO8uE/27Zt27Zt4T/kOI7jOA7iP8WClYkFK+M/xoO/2NEx4z/Oyk+Is/LjPw==",
          "dtype": "f8"
         }
        },
        {
         "legendgroup": "('llama3.1_8b_chat', 'medals_9k', 'base', 'main', 'prompt_only')",
         "marker": {
          "color": "#8c564b",
          "opacity": 0.5,
          "size": 6
         },
         "mode": "markers",
         "name": "('llama3.1_8b_chat', 'medals_9k', 'base', 'main', 'prompt_only') Fold ('direction_f1_score', 1)",
         "showlegend": false,
         "type": "scatter",
         "x": {
          "bdata": "AAECAwQFBgcICQoLDA0ODxAREhMUFRYXGBkaGxwdHh8=",
          "dtype": "i1"
         },
         "y": {
          "bdata": "7FG4HoXr4T/t2MIIVuHiP2tyPFCecOI/+y+DG6r/4j/um2vSTs7iP6uqqqqqquI/7F73ute94j9HkRagl7viP3qe53me5+E/EMgvh0y54T8Sd8QdcUfiPy4ygN23l+E/xej46hna3D/3qwtpsTziP1zHE7i/6eA/k3JAZLhX4T+SrfORrfPhP3TRRRdddOE/8Viylt5W4T/pEgVfli7hP/ptpVnjYuE/vw/FmujT4T/hQjjDIMvhP5T0O4VEmOA/cQiHcAiH4D8qhfQ1T6XgPxkRB+vzhuA/uj53ouEC4T+ZHVFdDyzhP+9vRvey7eE/OIUtl94P4j/g4n10CC7ePw==",
          "dtype": "f8"
         }
        },
        {
         "legendgroup": "('llama3.1_8b_chat', 'medals_9k', 'base', 'main', 'prompt_only')",
         "marker": {
          "color": "#8c564b",
          "opacity": 0.5,
          "size": 6
         },
         "mode": "markers",
         "name": "('llama3.1_8b_chat', 'medals_9k', 'base', 'main', 'prompt_only') Fold ('direction_f1_score', 2)",
         "showlegend": false,
         "type": "scatter",
         "x": {
          "bdata": "AAECAwQFBgcICQoLDA0ODxAREhMUFRYXGBkaGxwdHh8=",
          "dtype": "i1"
         },
         "y": {
          "bdata": "uFvnFdC42z+il+rnhDXcP0W8GfFmxNs/0jUGbZbC4j85h6GE/uvhPxs8R6Boq+E/nlLbkCPg4T82c1cKbQ3iP4mIiIiIiOI/QLgwqSGa4j80JtIDlbPbPzk5OTk5OeE/UvrCeBkB4j9mOPu6qlnhPzRie/1yJ+E/FFHxJhPC4D/Bq9qw233hP/uucViZO+E/eQ3lNZTX4D/SdpoVHL7gP95BRqBVW+A/jzeyOa8K4T9HYGdXe2rgP2ot5kXdMeA/wDHrtCip3z84wyDLUS7fP8o8q6gxUuA/FIjg2KVR4D+lknYXmKfgP1AHdVAHdeA/rUksgt+o4D+MiwWSWqbcPw==",
          "dtype": "f8"
         }
        },
        {
         "legendgroup": "('llama3.1_8b_chat', 'medals_9k', 'base', 'main', 'prompt_only')",
         "marker": {
          "color": "#8c564b",
          "opacity": 0.5,
          "size": 6
         },
         "mode": "markers",
         "name": "('llama3.1_8b_chat', 'medals_9k', 'base', 'main', 'prompt_only') Fold ('direction_f1_score', 3)",
         "showlegend": false,
         "type": "scatter",
         "x": {
          "bdata": "AAECAwQFBgcICQoLDA0ODxAREhMUFRYXGBkaGxwdHh8=",
          "dtype": "i1"
         },
         "y": {
          "bdata": "vRjm9u4A3D9KmTG+jjvhP/RvpkdgGeI/6FtI8g+X4z+emi2Fo3ziPy2G6jpulOE/8xLdvVFk4j/yV3XdmFDbP+Rwb7F2Z9w/qs+0Nf5u3j9IlGlVKFrcP51bN6nsb9s/c/LRyUcn3z+p6FnpfOLeP82R5khzpOE/0U550U554T+YUVOPdFLhPw+hh9BD6OE/zq0fEcTR4T+EmeyRGt/hP+1WQm/H7+E/g0emVru24T8R4n603HrhP1rWJ/BRQuE/lgnxv12Z4D+e+IW19NvhP+oNdzPxZOE/DBKb6FwL4T+x4FLZ3nXgP90Sp37PLeE/NcF4K/sc4j9wR9wRd8TdPw==",
          "dtype": "f8"
         }
        },
        {
         "legendgroup": "('llama3.1_8b_chat', 'medals_9k', 'base', 'main', 'prompt_only')",
         "marker": {
          "color": "#8c564b",
          "opacity": 0.5,
          "size": 6
         },
         "mode": "markers",
         "name": "('llama3.1_8b_chat', 'medals_9k', 'base', 'main', 'prompt_only') Fold ('direction_f1_score', 4)",
         "showlegend": false,
         "type": "scatter",
         "x": {
          "bdata": "AAECAwQFBgcICQoLDA0ODxAREhMUFRYXGBkaGxwdHh8=",
          "dtype": "i1"
         },
         "y": {
          "bdata": "Yn40CV8a3j8eqJzdwq/eP2IYhmEYhuI/Me7XJZUP4z/jC7tcGaDiP0sxQXeVYuI/9NuIYDYt4j+139ErY/vdP06/SJefNt8/UMvqulMb4T/ox/QwcBbeP84qlBTRDuI/Bv5V417g3z82BxKtsDngP8UVoI7TI+I/LL7iK77i4T/uI7iP4D7iPxJ0mxF0m+E/QhqkQRqk4T/idlqSRobhP/3N4HI4tuA/zvbiewAP4T9t8QFETG3hP626GygjJeE/DNG7EL0L4T9tcg17y77gP9AVHXyl3OA/3uPcclrn4T9ketnK4D/hP1EP9VAP9eA/chzHcRzH4T/2xYcrWl/cPw==",
          "dtype": "f8"
         }
        }
       ],
       "layout": {
        "font": {
         "color": "white"
        },
        "height": 600,
        "legend": {
         "bgcolor": "rgba(32, 32, 32, 0.8)",
         "orientation": "h",
         "x": 0.5,
         "xanchor": "center",
         "y": 1.02,
         "yanchor": "bottom"
        },
        "margin": {
         "b": 50,
         "l": 50,
         "r": 30,
         "t": 100
        },
        "paper_bgcolor": "rgba(32, 32, 32, 1)",
        "plot_bgcolor": "rgba(32, 32, 32, 1)",
        "showlegend": true,
        "template": {
         "data": {
          "bar": [
           {
            "error_x": {
             "color": "#f2f5fa"
            },
            "error_y": {
             "color": "#f2f5fa"
            },
            "marker": {
             "line": {
              "color": "rgb(17,17,17)",
              "width": 0.5
             },
             "pattern": {
              "fillmode": "overlay",
              "size": 10,
              "solidity": 0.2
             }
            },
            "type": "bar"
           }
          ],
          "barpolar": [
           {
            "marker": {
             "line": {
              "color": "rgb(17,17,17)",
              "width": 0.5
             },
             "pattern": {
              "fillmode": "overlay",
              "size": 10,
              "solidity": 0.2
             }
            },
            "type": "barpolar"
           }
          ],
          "carpet": [
           {
            "aaxis": {
             "endlinecolor": "#A2B1C6",
             "gridcolor": "#506784",
             "linecolor": "#506784",
             "minorgridcolor": "#506784",
             "startlinecolor": "#A2B1C6"
            },
            "baxis": {
             "endlinecolor": "#A2B1C6",
             "gridcolor": "#506784",
             "linecolor": "#506784",
             "minorgridcolor": "#506784",
             "startlinecolor": "#A2B1C6"
            },
            "type": "carpet"
           }
          ],
          "choropleth": [
           {
            "colorbar": {
             "outlinewidth": 0,
             "ticks": ""
            },
            "type": "choropleth"
           }
          ],
          "contour": [
           {
            "colorbar": {
             "outlinewidth": 0,
             "ticks": ""
            },
            "colorscale": [
             [
              0,
              "#0d0887"
             ],
             [
              0.1111111111111111,
              "#46039f"
             ],
             [
              0.2222222222222222,
              "#7201a8"
             ],
             [
              0.3333333333333333,
              "#9c179e"
             ],
             [
              0.4444444444444444,
              "#bd3786"
             ],
             [
              0.5555555555555556,
              "#d8576b"
             ],
             [
              0.6666666666666666,
              "#ed7953"
             ],
             [
              0.7777777777777778,
              "#fb9f3a"
             ],
             [
              0.8888888888888888,
              "#fdca26"
             ],
             [
              1,
              "#f0f921"
             ]
            ],
            "type": "contour"
           }
          ],
          "contourcarpet": [
           {
            "colorbar": {
             "outlinewidth": 0,
             "ticks": ""
            },
            "type": "contourcarpet"
           }
          ],
          "heatmap": [
           {
            "colorbar": {
             "outlinewidth": 0,
             "ticks": ""
            },
            "colorscale": [
             [
              0,
              "#0d0887"
             ],
             [
              0.1111111111111111,
              "#46039f"
             ],
             [
              0.2222222222222222,
              "#7201a8"
             ],
             [
              0.3333333333333333,
              "#9c179e"
             ],
             [
              0.4444444444444444,
              "#bd3786"
             ],
             [
              0.5555555555555556,
              "#d8576b"
             ],
             [
              0.6666666666666666,
              "#ed7953"
             ],
             [
              0.7777777777777778,
              "#fb9f3a"
             ],
             [
              0.8888888888888888,
              "#fdca26"
             ],
             [
              1,
              "#f0f921"
             ]
            ],
            "type": "heatmap"
           }
          ],
          "histogram": [
           {
            "marker": {
             "pattern": {
              "fillmode": "overlay",
              "size": 10,
              "solidity": 0.2
             }
            },
            "type": "histogram"
           }
          ],
          "histogram2d": [
           {
            "colorbar": {
             "outlinewidth": 0,
             "ticks": ""
            },
            "colorscale": [
             [
              0,
              "#0d0887"
             ],
             [
              0.1111111111111111,
              "#46039f"
             ],
             [
              0.2222222222222222,
              "#7201a8"
             ],
             [
              0.3333333333333333,
              "#9c179e"
             ],
             [
              0.4444444444444444,
              "#bd3786"
             ],
             [
              0.5555555555555556,
              "#d8576b"
             ],
             [
              0.6666666666666666,
              "#ed7953"
             ],
             [
              0.7777777777777778,
              "#fb9f3a"
             ],
             [
              0.8888888888888888,
              "#fdca26"
             ],
             [
              1,
              "#f0f921"
             ]
            ],
            "type": "histogram2d"
           }
          ],
          "histogram2dcontour": [
           {
            "colorbar": {
             "outlinewidth": 0,
             "ticks": ""
            },
            "colorscale": [
             [
              0,
              "#0d0887"
             ],
             [
              0.1111111111111111,
              "#46039f"
             ],
             [
              0.2222222222222222,
              "#7201a8"
             ],
             [
              0.3333333333333333,
              "#9c179e"
             ],
             [
              0.4444444444444444,
              "#bd3786"
             ],
             [
              0.5555555555555556,
              "#d8576b"
             ],
             [
              0.6666666666666666,
              "#ed7953"
             ],
             [
              0.7777777777777778,
              "#fb9f3a"
             ],
             [
              0.8888888888888888,
              "#fdca26"
             ],
             [
              1,
              "#f0f921"
             ]
            ],
            "type": "histogram2dcontour"
           }
          ],
          "mesh3d": [
           {
            "colorbar": {
             "outlinewidth": 0,
             "ticks": ""
            },
            "type": "mesh3d"
           }
          ],
          "parcoords": [
           {
            "line": {
             "colorbar": {
              "outlinewidth": 0,
              "ticks": ""
             }
            },
            "type": "parcoords"
           }
          ],
          "pie": [
           {
            "automargin": true,
            "type": "pie"
           }
          ],
          "scatter": [
           {
            "marker": {
             "line": {
              "color": "#283442"
             }
            },
            "type": "scatter"
           }
          ],
          "scatter3d": [
           {
            "line": {
             "colorbar": {
              "outlinewidth": 0,
              "ticks": ""
             }
            },
            "marker": {
             "colorbar": {
              "outlinewidth": 0,
              "ticks": ""
             }
            },
            "type": "scatter3d"
           }
          ],
          "scattercarpet": [
           {
            "marker": {
             "colorbar": {
              "outlinewidth": 0,
              "ticks": ""
             }
            },
            "type": "scattercarpet"
           }
          ],
          "scattergeo": [
           {
            "marker": {
             "colorbar": {
              "outlinewidth": 0,
              "ticks": ""
             }
            },
            "type": "scattergeo"
           }
          ],
          "scattergl": [
           {
            "marker": {
             "line": {
              "color": "#283442"
             }
            },
            "type": "scattergl"
           }
          ],
          "scattermap": [
           {
            "marker": {
             "colorbar": {
              "outlinewidth": 0,
              "ticks": ""
             }
            },
            "type": "scattermap"
           }
          ],
          "scattermapbox": [
           {
            "marker": {
             "colorbar": {
              "outlinewidth": 0,
              "ticks": ""
             }
            },
            "type": "scattermapbox"
           }
          ],
          "scatterpolar": [
           {
            "marker": {
             "colorbar": {
              "outlinewidth": 0,
              "ticks": ""
             }
            },
            "type": "scatterpolar"
           }
          ],
          "scatterpolargl": [
           {
            "marker": {
             "colorbar": {
              "outlinewidth": 0,
              "ticks": ""
             }
            },
            "type": "scatterpolargl"
           }
          ],
          "scatterternary": [
           {
            "marker": {
             "colorbar": {
              "outlinewidth": 0,
              "ticks": ""
             }
            },
            "type": "scatterternary"
           }
          ],
          "surface": [
           {
            "colorbar": {
             "outlinewidth": 0,
             "ticks": ""
            },
            "colorscale": [
             [
              0,
              "#0d0887"
             ],
             [
              0.1111111111111111,
              "#46039f"
             ],
             [
              0.2222222222222222,
              "#7201a8"
             ],
             [
              0.3333333333333333,
              "#9c179e"
             ],
             [
              0.4444444444444444,
              "#bd3786"
             ],
             [
              0.5555555555555556,
              "#d8576b"
             ],
             [
              0.6666666666666666,
              "#ed7953"
             ],
             [
              0.7777777777777778,
              "#fb9f3a"
             ],
             [
              0.8888888888888888,
              "#fdca26"
             ],
             [
              1,
              "#f0f921"
             ]
            ],
            "type": "surface"
           }
          ],
          "table": [
           {
            "cells": {
             "fill": {
              "color": "#506784"
             },
             "line": {
              "color": "rgb(17,17,17)"
             }
            },
            "header": {
             "fill": {
              "color": "#2a3f5f"
             },
             "line": {
              "color": "rgb(17,17,17)"
             }
            },
            "type": "table"
           }
          ]
         },
         "layout": {
          "annotationdefaults": {
           "arrowcolor": "#f2f5fa",
           "arrowhead": 0,
           "arrowwidth": 1
          },
          "autotypenumbers": "strict",
          "coloraxis": {
           "colorbar": {
            "outlinewidth": 0,
            "ticks": ""
           }
          },
          "colorscale": {
           "diverging": [
            [
             0,
             "#8e0152"
            ],
            [
             0.1,
             "#c51b7d"
            ],
            [
             0.2,
             "#de77ae"
            ],
            [
             0.3,
             "#f1b6da"
            ],
            [
             0.4,
             "#fde0ef"
            ],
            [
             0.5,
             "#f7f7f7"
            ],
            [
             0.6,
             "#e6f5d0"
            ],
            [
             0.7,
             "#b8e186"
            ],
            [
             0.8,
             "#7fbc41"
            ],
            [
             0.9,
             "#4d9221"
            ],
            [
             1,
             "#276419"
            ]
           ],
           "sequential": [
            [
             0,
             "#0d0887"
            ],
            [
             0.1111111111111111,
             "#46039f"
            ],
            [
             0.2222222222222222,
             "#7201a8"
            ],
            [
             0.3333333333333333,
             "#9c179e"
            ],
            [
             0.4444444444444444,
             "#bd3786"
            ],
            [
             0.5555555555555556,
             "#d8576b"
            ],
            [
             0.6666666666666666,
             "#ed7953"
            ],
            [
             0.7777777777777778,
             "#fb9f3a"
            ],
            [
             0.8888888888888888,
             "#fdca26"
            ],
            [
             1,
             "#f0f921"
            ]
           ],
           "sequentialminus": [
            [
             0,
             "#0d0887"
            ],
            [
             0.1111111111111111,
             "#46039f"
            ],
            [
             0.2222222222222222,
             "#7201a8"
            ],
            [
             0.3333333333333333,
             "#9c179e"
            ],
            [
             0.4444444444444444,
             "#bd3786"
            ],
            [
             0.5555555555555556,
             "#d8576b"
            ],
            [
             0.6666666666666666,
             "#ed7953"
            ],
            [
             0.7777777777777778,
             "#fb9f3a"
            ],
            [
             0.8888888888888888,
             "#fdca26"
            ],
            [
             1,
             "#f0f921"
            ]
           ]
          },
          "colorway": [
           "#636efa",
           "#EF553B",
           "#00cc96",
           "#ab63fa",
           "#FFA15A",
           "#19d3f3",
           "#FF6692",
           "#B6E880",
           "#FF97FF",
           "#FECB52"
          ],
          "font": {
           "color": "#f2f5fa"
          },
          "geo": {
           "bgcolor": "rgb(17,17,17)",
           "lakecolor": "rgb(17,17,17)",
           "landcolor": "rgb(17,17,17)",
           "showlakes": true,
           "showland": true,
           "subunitcolor": "#506784"
          },
          "hoverlabel": {
           "align": "left"
          },
          "hovermode": "closest",
          "mapbox": {
           "style": "dark"
          },
          "paper_bgcolor": "rgb(17,17,17)",
          "plot_bgcolor": "rgb(17,17,17)",
          "polar": {
           "angularaxis": {
            "gridcolor": "#506784",
            "linecolor": "#506784",
            "ticks": ""
           },
           "bgcolor": "rgb(17,17,17)",
           "radialaxis": {
            "gridcolor": "#506784",
            "linecolor": "#506784",
            "ticks": ""
           }
          },
          "scene": {
           "xaxis": {
            "backgroundcolor": "rgb(17,17,17)",
            "gridcolor": "#506784",
            "gridwidth": 2,
            "linecolor": "#506784",
            "showbackground": true,
            "ticks": "",
            "zerolinecolor": "#C8D4E3"
           },
           "yaxis": {
            "backgroundcolor": "rgb(17,17,17)",
            "gridcolor": "#506784",
            "gridwidth": 2,
            "linecolor": "#506784",
            "showbackground": true,
            "ticks": "",
            "zerolinecolor": "#C8D4E3"
           },
           "zaxis": {
            "backgroundcolor": "rgb(17,17,17)",
            "gridcolor": "#506784",
            "gridwidth": 2,
            "linecolor": "#506784",
            "showbackground": true,
            "ticks": "",
            "zerolinecolor": "#C8D4E3"
           }
          },
          "shapedefaults": {
           "line": {
            "color": "#f2f5fa"
           }
          },
          "sliderdefaults": {
           "bgcolor": "#C8D4E3",
           "bordercolor": "rgb(17,17,17)",
           "borderwidth": 1,
           "tickwidth": 0
          },
          "ternary": {
           "aaxis": {
            "gridcolor": "#506784",
            "linecolor": "#506784",
            "ticks": ""
           },
           "baxis": {
            "gridcolor": "#506784",
            "linecolor": "#506784",
            "ticks": ""
           },
           "bgcolor": "rgb(17,17,17)",
           "caxis": {
            "gridcolor": "#506784",
            "linecolor": "#506784",
            "ticks": ""
           }
          },
          "title": {
           "x": 0.05
          },
          "updatemenudefaults": {
           "bgcolor": "#506784",
           "borderwidth": 0
          },
          "xaxis": {
           "automargin": true,
           "gridcolor": "#283442",
           "linecolor": "#506784",
           "ticks": "",
           "title": {
            "standoff": 15
           },
           "zerolinecolor": "#283442",
           "zerolinewidth": 2
          },
          "yaxis": {
           "automargin": true,
           "gridcolor": "#283442",
           "linecolor": "#506784",
           "ticks": "",
           "title": {
            "standoff": 15
           },
           "zerolinecolor": "#283442",
           "zerolinewidth": 2
          }
         }
        },
        "title": {},
        "width": 1000,
        "xaxis": {
         "gridcolor": "rgba(128, 128, 128, 0.2)",
         "title": {
          "text": "Layer"
         },
         "zeroline": false
        },
        "yaxis": {
         "gridcolor": "rgba(128, 128, 128, 0.2)",
         "title": {
          "text": "Direction F1 Score"
         },
         "zeroline": false
        }
       }
      }
     },
     "metadata": {},
     "output_type": "display_data"
    },
    {
     "name": "stdout",
     "output_type": "stream",
     "text": [
      "conf=('llama3.1_8b_chat', 'birth_years_4k', 'base', 'main', 'prompt_answer')\n",
      "conf=('llama3.1_8b_chat', 'birth_years_4k', 'base', 'main', 'prompt_only')\n",
      "conf=('llama3.1_8b_chat', 'cities_10k', 'base', 'main', 'prompt_answer')\n",
      "conf=('llama3.1_8b_chat', 'cities_10k', 'base', 'main', 'prompt_only')\n",
      "conf=('llama3.1_8b_chat', 'football_leagues_1k', 'base', 'main', 'prompt_answer')\n",
      "conf=('llama3.1_8b_chat', 'football_leagues_1k', 'base', 'main', 'prompt_only')\n",
      "conf=('llama3.1_8b_chat', 'gsm8k', 'base_3_shot', 'main', 'prompt_answer')\n",
      "conf=('llama3.1_8b_chat', 'gsm8k', 'base_3_shot', 'main', 'prompt_only')\n",
      "conf=('llama3.1_8b_chat', 'gsm8k', 'cot_3_shot', 'main', 'prompt_answer')\n",
      "conf=('llama3.1_8b_chat', 'gsm8k', 'cot_3_shot', 'main', 'prompt_only')\n",
      "conf=('llama3.1_8b_chat', 'medals_9k', 'base', 'main', 'prompt_answer')\n",
      "conf=('llama3.1_8b_chat', 'medals_9k', 'base', 'main', 'prompt_only')\n"
     ]
    },
    {
     "data": {
      "application/vnd.plotly.v1+json": {
       "config": {
        "plotlyServerURL": "https://plot.ly"
       },
       "data": [
        {
         "legendgroup": "('llama3.1_8b_chat', 'birth_years_4k', 'base', 'main', 'prompt_answer')",
         "line": {
          "color": "#1f77b4",
          "width": 2
         },
         "marker": {
          "size": 8
         },
         "mode": "lines+markers",
         "name": "('llama3.1_8b_chat', 'birth_years_4k', 'base', 'main', 'prompt_answer')",
         "type": "scatter",
         "x": {
          "bdata": "AAECAwQFBgcICQoLDA0ODxAREhMUFRYXGBkaGxwdHh8=",
          "dtype": "i1"
         },
         "y": {
          "bdata": "HjF5MDIE4j/eE0/aGcriP+2HqbWU8uM/2ir0sWst5D/F2NexvOrkP8du5ytFs+U/9mxOYGMf5j+4HkmHvmXmP57MXiUKMOY/jTQJDWWF5j9BOV+Lva3mP6zji2ZhXeY/aMHC4n6y5j/qCjxjWwrmP0dzWd6wC+c/2izIdde05j+OtEVh5q7mP8Z9mExo1+Y/iwcbkcpz5j9eI/IOX4DmPz/IpoJQ3OY/IgDen6W+5j+xb+kxMB3nP0Og5zHRu+Y/ELnnPR6d5j98U4JRgmnmP35oDKFNYOY/UVR9myE+5j9IPskOHsTmP9ZIaCUovOY/M9ePpek25z8xp/4gVArnPw==",
          "dtype": "f8"
         }
        },
        {
         "legendgroup": "('llama3.1_8b_chat', 'birth_years_4k', 'base', 'main', 'prompt_answer')",
         "line": {
          "width": 0
         },
         "mode": "lines",
         "name": "('llama3.1_8b_chat', 'birth_years_4k', 'base', 'main', 'prompt_answer') Max",
         "showlegend": false,
         "type": "scatter",
         "x": {
          "bdata": "AAECAwQFBgcICQoLDA0ODxAREhMUFRYXGBkaGxwdHh8=",
          "dtype": "i1"
         },
         "y": {
          "bdata": "Z0jM2xkS4z9wdZs409rjPxcrwzeiwOQ/PC5etgH65D+mYbtZnkTmPzkZRB64iuY/l2/5lm/55j+ivIbyGsrnP3D5lm/5luc/GHmRF3mR5z8tDlX+9cPnPwAAAAAAAOg/MWuhgI7N5z9Ut0N1O1TnP2VdMCLNzug/4ncgfgfi5z9mI6iesYvnPwK2EtLNBug/DewdUwN75z9f2qIIzg7oPzQ141368Oc/cBXtTOn15z+Jv4cpoSzoP+zETuzETug/ntiJndiJ5z8+PW7G/jDoP3ZiJ3ZiJ+g/16NwPQrX5z/xCaSS87LoPxDdTL2SI+g/9eGvf1Th6D+4b8FBiRnoPw==",
          "dtype": "f8"
         }
        },
        {
         "fill": "tonexty",
         "fillcolor": "rgba(31, 119, 180, 0.1)",
         "legendgroup": "('llama3.1_8b_chat', 'birth_years_4k', 'base', 'main', 'prompt_answer')",
         "line": {
          "width": 0
         },
         "mode": "lines",
         "name": "('llama3.1_8b_chat', 'birth_years_4k', 'base', 'main', 'prompt_answer') Min",
         "showlegend": false,
         "type": "scatter",
         "x": {
          "bdata": "AAECAwQFBgcICQoLDA0ODxAREhMUFRYXGBkaGxwdHh8=",
          "dtype": "i1"
         },
         "y": {
          "bdata": "aCAqHdkz4D/JUkeIbVrhPzMzMzMzM+M/QF4Go4BD4z9oL6G9hPbiP4BIASIFiOQ/SOF6FK5H5T/yWTeYIp/lPylayw/IkOQ/6txeSw5x5T9kIQtZyELmP1VVVVVVVeU/dmVdWVfW5T8lMg3bzfLkPz1wFe1M6eU/btu2bdu25T+Dl1PwcgrmP19hTain7OU/T82D3PWz5T9P2SusCfXkP6tuAkwH5OU/bf3tgY3e5T9PzYPc9bPlP5nxufwSxeU/0V5Cewnt5T8oNUNGD+3kP0/o0yZBOeU/IMXyW6eB5D8HxlBktqjlP2PK12EJR+U/7ViBMNKO5T8IXSF0hdDlPw==",
          "dtype": "f8"
         }
        },
        {
         "legendgroup": "('llama3.1_8b_chat', 'birth_years_4k', 'base', 'main', 'prompt_answer')",
         "line": {
          "width": 0
         },
         "mode": "lines",
         "name": "('llama3.1_8b_chat', 'birth_years_4k', 'base', 'main', 'prompt_answer') +1 STD",
         "showlegend": false,
         "type": "scatter",
         "x": {
          "bdata": "AAECAwQFBgcICQoLDA0ODxAREhMUFRYXGBkaGxwdHh8=",
          "dtype": "i1"
         },
         "y": {
          "bdata": "xPdh+bsd4z+5ylNkh9LjP3bonLV+nOQ/YIpmgmfy5D82ENN36SjmPzX4efltbuY/r+HcUybQ5j9x4JmqUUDnPx6m4u2QVec/9D+Tghll5z8yOZ7ogE7nPyxkWiFgc+c/Tw7gBQKZ5z/rckSHA/HmP7jPQU1SKeg//+tAoOm05z+/PdResj/nP2vCrmu9yuc/p0cB5wNM5z/U5utxl6DnPxo7s6rBuec/5WTBgJGy5z/wTACwfCXoP1SR8T54tOc/plS08fB15z+EsAt9ornnP9Tnhh43kec/Gjn2nKuO5z/K5A0PyvLnP7Em412pyOc/Ltk/1HJq6D8Vg16Muv7nPw==",
          "dtype": "f8"
         }
        },
        {
         "fill": "tonexty",
         "fillcolor": "rgba(31, 119, 180, 0.3)",
         "legendgroup": "('llama3.1_8b_chat', 'birth_years_4k', 'base', 'main', 'prompt_answer')",
         "line": {
          "width": 0
         },
         "mode": "lines",
         "name": "('llama3.1_8b_chat', 'birth_years_4k', 'base', 'main', 'prompt_answer') -1 STD",
         "showlegend": false,
         "type": "scatter",
         "x": {
          "bdata": "AAECAwQFBgcICQoLDA0ODxAREhMUFRYXGBkaGxwdHh8=",
          "dtype": "i1"
         },
         "y": {
          "bdata": "eGqQZ6jq4D8DXUpQrMHhP2QntrWqSOM/VMuB4W9o4z9Uodzrj6zjP1nlVF4c+OQ/Pfi/bKBu5T//XPhjK4vlPx7z2lyDCuU/Jil/l7Cl5T9QOSAu+gzmPyxjvatiR+U/gXSlv/vL5T/pojM/syPlP9YWcW8P7uU/tW1PS8W05T9dK7djGh7mPyE5gi0T5OU/b8c0O5Gb5T/oX/irJmDlP2RVmlrf/uU/X5v6vrnK5T9yktKz4xTmPzKv3SQqw+U/eh0bikvE5T909vglYhnlPyjpkSNkL+U/iG8Empft5D/Gl4QOcpXlP/tq7eymr+U/ONXfdmAD5j9Ny5617RXmPw==",
          "dtype": "f8"
         }
        },
        {
         "legendgroup": "('llama3.1_8b_chat', 'birth_years_4k', 'base', 'main', 'prompt_answer')",
         "marker": {
          "color": "#1f77b4",
          "opacity": 0.5,
          "size": 6
         },
         "mode": "markers",
         "name": "('llama3.1_8b_chat', 'birth_years_4k', 'base', 'main', 'prompt_answer') Fold ('logistic_regression_f1_score', 0)",
         "showlegend": false,
         "type": "scatter",
         "x": {
          "bdata": "AAECAwQFBgcICQoLDA0ODxAREhMUFRYXGBkaGxwdHh8=",
          "dtype": "i1"
         },
         "y": {
          "bdata": "aCAqHdkz4D/JUkeIbVrhP8F4K/scUuM/X0J7Ce0l5D+U2nBe76PkP7Y/3bU/3eU/V2ekYm515j/CY3mvtsjlPwt3dumEruY/8tNiGz8t5j+C8Vb2OaTmPz+EQc6S/eU/a7j4IQxy5j+USbvcMZblP2wH5tqBueY/AAAAAAAA5j+idiVqV6LmP/ZjP/ZjP+Y/VxCTK4jJ5T9/IVaUxkfmP6tuAkwH5OU/I1aJvO8i5j+zqFnULGrmP7Nly5YtW+Y/0V5Cewnt5T8oNUNGD+3kP6weVg+rh+U/0UUXXXTR5T98GmG5pxHmP8XJin4RLuc/TYB+h1o75z+L0vjIBHrnPw==",
          "dtype": "f8"
         }
        },
        {
         "legendgroup": "('llama3.1_8b_chat', 'birth_years_4k', 'base', 'main', 'prompt_answer')",
         "marker": {
          "color": "#1f77b4",
          "opacity": 0.5,
          "size": 6
         },
         "mode": "markers",
         "name": "('llama3.1_8b_chat', 'birth_years_4k', 'base', 'main', 'prompt_answer') Fold ('logistic_regression_f1_score', 1)",
         "showlegend": false,
         "type": "scatter",
         "x": {
          "bdata": "AAECAwQFBgcICQoLDA0ODxAREhMUFRYXGBkaGxwdHh8=",
          "dtype": "i1"
         },
         "y": {
          "bdata": "Z0jM2xkS4z/qTW9605viP4RDOIRDOOQ/mv4G3a6V4z+rqqqqqirlP+AIZfS2rOU/fITAMzeQ5T/yWTeYIp/lP6rMI/FhneU/iuW3TgMp5j9kIQtZyELmPxAMyRbRnOU/dmVdWVfW5T/TPNtI7ePlPz1wFe1M6eU/ZCELWchC5j+YU/ByCl7mP2mnR4J4T+Y//5meg9gL5j+7ZO2StUvmP9PEYay2/uY/Q3kN5TWU5z+VO3MwGmjnP0422WSTTeY/Mqx/G/ru5T+/q8VNmN/lP0/o0yZBOeU/IMXyW6eB5D8HxlBktqjlP2PK12EJR+U/7ViBMNKO5T8iTYyte0bmPw==",
          "dtype": "f8"
         }
        },
        {
         "legendgroup": "('llama3.1_8b_chat', 'birth_years_4k', 'base', 'main', 'prompt_answer')",
         "marker": {
          "color": "#1f77b4",
          "opacity": 0.5,
          "size": 6
         },
         "mode": "markers",
         "name": "('llama3.1_8b_chat', 'birth_years_4k', 'base', 'main', 'prompt_answer') Fold ('logistic_regression_f1_score', 2)",
         "showlegend": false,
         "type": "scatter",
         "x": {
          "bdata": "AAECAwQFBgcICQoLDA0ODxAREhMUFRYXGBkaGxwdHh8=",
          "dtype": "i1"
         },
         "y": {
          "bdata": "vfxpCw1Y4j9wdZs409rjPxCN9aGxPuQ/PC5etgH65D+MJb9Y8ovlP5V//fCl4+U/l2/5lm/55j+ivIbyGsrnP3D5lm/5luc/GHmRF3mR5z8tDlX+9cPnP7eMW8Yt4+Y/DewdUwN75z9Ut0N1O1TnP2VdMCLNzug/iWsGCIqs5z+hAUt6+dPmPwK2EtLNBug/DewdUwN75z/rdqhuh+rmPyd2Yid2Yuc/ah7krp8t5j9TvbbuEt/nP83O2BR97uY/iVeReBWJ5z9/jevgVU/nP1dv9VZv9eY/xZnWnvw75z8oxFn5CXHmP89ZpSuMqeY/Vf71w5eO5z+JV5F4FYnnPw==",
          "dtype": "f8"
         }
        },
        {
         "legendgroup": "('llama3.1_8b_chat', 'birth_years_4k', 'base', 'main', 'prompt_answer')",
         "marker": {
          "color": "#1f77b4",
          "opacity": 0.5,
          "size": 6
         },
         "mode": "markers",
         "name": "('llama3.1_8b_chat', 'birth_years_4k', 'base', 'main', 'prompt_answer') Fold ('logistic_regression_f1_score', 3)",
         "showlegend": false,
         "type": "scatter",
         "x": {
          "bdata": "AAECAwQFBgcICQoLDA0ODxAREhMUFRYXGBkaGxwdHh8=",
          "dtype": "i1"
         },
         "y": {
          "bdata": "k7I1KVuT4j/M5tKhBrvjPxcrwzeiwOQ/zgjeOfzp5D+mYbtZnkTmPzkZRB64iuY/HuSuny1W5j/buM8DXmTmP8ln3WCKfOY/QvcidC9C5z/M2xkS83bmPwAAAAAAAOg/MWuhgI7N5z+wxkR6oHLmP1yPwvUoXOc/4ncgfgfi5z9mI6iesYvnPx1SE4y3suc/BMKz9po+5z9f2qIIzg7oPzQ141368Oc/cBXtTOn15z+Jv4cpoSzoP+zETuzETug/ntiJndiJ5z8+PW7G/jDoP3ZiJ3ZiJ+g/16NwPQrX5z/xCaSS87LoPxDdTL2SI+g/9eGvf1Th6D+4b8FBiRnoPw==",
          "dtype": "f8"
         }
        },
        {
         "legendgroup": "('llama3.1_8b_chat', 'birth_years_4k', 'base', 'main', 'prompt_answer')",
         "marker": {
          "color": "#1f77b4",
          "opacity": 0.5,
          "size": 6
         },
         "mode": "markers",
         "name": "('llama3.1_8b_chat', 'birth_years_4k', 'base', 'main', 'prompt_answer') Fold ('logistic_regression_f1_score', 4)",
         "showlegend": false,
         "type": "scatter",
         "x": {
          "bdata": "AAECAwQFBgcICQoLDA0ODxAREhMUFRYXGBkaGxwdHh8=",
          "dtype": "i1"
         },
         "y": {
          "bdata": "dd3HxJ/j4T9mZmZmZmbiPzMzMzMzM+M/QF4Go4BD4z9oL6G9hPbiP4BIASIFiOQ/SOF6FK5H5T9mZmZmZmbmPylayw/IkOQ/6txeSw5x5T9kIQtZyELmP1VVVVVVVeU/7FG4HoXr5T8lMg3bzfLkP/3b0HevbOY/btu2bdu25T+Dl1PwcgrmP19hTain7OU/T82D3PWz5T9P2SusCfXkP2UKmA9kF+Y/bf3tgY3e5T9PzYPc9bPlP5nxufwSxeU/KmKpiKUi5j/D9Shcj8LlP7Ex9yHGA+Y/CF0hdIXQ5T/LiD6gOvbmPyOhtPGOauY/fnopQHfY5j8IXSF0hdDlPw==",
          "dtype": "f8"
         }
        },
        {
         "legendgroup": "('llama3.1_8b_chat', 'birth_years_4k', 'base', 'main', 'prompt_only')",
         "line": {
          "color": "#ff7f0e",
          "width": 2
         },
         "marker": {
          "size": 8
         },
         "mode": "lines+markers",
         "name": "('llama3.1_8b_chat', 'birth_years_4k', 'base', 'main', 'prompt_only')",
         "type": "scatter",
         "x": {
          "bdata": "AAECAwQFBgcICQoLDA0ODxAREhMUFRYXGBkaGxwdHh8=",
          "dtype": "i1"
         },
         "y": {
          "bdata": "WUikShZR4T8m39Yv0tziP2bzrP4O9OI/+6/Mk1Rv4z+rkQPaPRPkP0ZXahqo9OQ/9cd6q2Fu5T8U52GujZ7lPwW7AJKGBuY/y7vcU15d5j9aKSaxFW3mPxiQ8SkHR+Y/AKK3UhBv5j+EI+1wzVvmP+aaXf3pqOY/R2Q6HK5h5j8P/7xcO0jmP2aK7VmZB+Y/1jhSfzNR5j+/SRQNV+XmP/atKCgWQ+Y/rXYEVMVT5j8SMSCgLSTmP4UiTgsIV+Y/gCCGIatL5j94UHIEJmbmP52v81vrNuY/9rP9v/mw5j+bvGrgppTmP+EP8z6wwOY/46sw2l605T8i0/4eduLlPw==",
          "dtype": "f8"
         }
        },
        {
         "legendgroup": "('llama3.1_8b_chat', 'birth_years_4k', 'base', 'main', 'prompt_only')",
         "line": {
          "width": 0
         },
         "mode": "lines",
         "name": "('llama3.1_8b_chat', 'birth_years_4k', 'base', 'main', 'prompt_only') Max",
         "showlegend": false,
         "type": "scatter",
         "x": {
          "bdata": "AAECAwQFBgcICQoLDA0ODxAREhMUFRYXGBkaGxwdHh8=",
          "dtype": "i1"
         },
         "y": {
          "bdata": "PTsEbiyD4j8kE+idupbjP389V7FsfOM//KAaDDRG5D/+lYlCNyXlP7C+D0PbuOU/6CqWjW+G5j+QclPRPKHmP5ByU9E8oeY/F9wqF9wq5z+Lp5oYPv7mP+HrbBMkjOY/OnqskmgW5z/v7u7u7u7mP46bb6CGMec/6EExyb495z91GfZKf87mP2DW+2W9X+Y/iZheYG135j/4AnU1OsLnP7dt27Zt2+Y/1r5h7RvW5j91GfZKf87mP4dwCIdwCOc/spCFLGQh5z9talOb2tTmP2HIgSam0eY/IXUdbg9S5z8ad+u8AhrnPyBm5DfVSec/UbrqwE2O5j+xelg9rB7mPw==",
          "dtype": "f8"
         }
        },
        {
         "fill": "tonexty",
         "fillcolor": "rgba(255, 127, 14, 0.1)",
         "legendgroup": "('llama3.1_8b_chat', 'birth_years_4k', 'base', 'main', 'prompt_only')",
         "line": {
          "width": 0
         },
         "mode": "lines",
         "name": "('llama3.1_8b_chat', 'birth_years_4k', 'base', 'main', 'prompt_only') Min",
         "showlegend": false,
         "type": "scatter",
         "x": {
          "bdata": "AAECAwQFBgcICQoLDA0ODxAREhMUFRYXGBkaGxwdHh8=",
          "dtype": "i1"
         },
         "y": {
          "bdata": "mh6BZUj53j9/j92h7e/hP5uypqwpa+I/cymXcimX4j+/xO2XuP3iP1WPsWFx9+M/RRRRRBFF5D+/N0T/9FrkPx1kXkoEj+Q/TOLgfWtk5T+2ksdQCK7lP69evXr16uU/XOACF7jA5T8T2ktoL6HlP23ep7hkCOY/pN7tuKHB5T881W4IojvlP6xPmIzQrOU/tmALtmAL5j81rCIMkT/mP/yys1zSv+U/2r9epf3r5T9lTVlT1pTlP59GWO5phOU/DGRSvEAm5T+hYniaC/DlP7SX0F5Ce+U/fBphuacR5j88dS0HN/vlP47jOI7jOOY/YTJCs1Y85T+jiy666KLlPw==",
          "dtype": "f8"
         }
        },
        {
         "legendgroup": "('llama3.1_8b_chat', 'birth_years_4k', 'base', 'main', 'prompt_only')",
         "line": {
          "width": 0
         },
         "mode": "lines",
         "name": "('llama3.1_8b_chat', 'birth_years_4k', 'base', 'main', 'prompt_only') +1 STD",
         "showlegend": false,
         "type": "scatter",
         "x": {
          "bdata": "AAECAwQFBgcICQoLDA0ODxAREhMUFRYXGBkaGxwdHh8=",
          "dtype": "i1"
         },
         "y": {
          "bdata": "7ftnZC7X4j+mYbP6ZpDjP+N8d/EkYuM/tq9I2CMm5D8PQ7+zeOPkP1L8B2nssOU/vZIwo/Rw5j94ozKxaJfmP8sKbJmW5uY/2p0SC+Ui5z8aZlp4OfjmPzxjjclHjOY/iG6G0Ljy5j/sEOpnONPmPwzzvDhyGOc/3IH4HFDu5j9XLElHMwHnP8zShlcNXOY/SHG+0Gx65j99GKHeb3LnP0tEIvI5s+Y/oS/uY5q25j84xaRWb6bmP3QRVp1+4uY/2afXbTML5z+34kuNdLvmP8YvSFXezeY/3wuxEwwv5z/soZ7QWg7nP2KWyY3LOuc/iEuMEng25j/xjKQ8gw/mPw==",
          "dtype": "f8"
         }
        },
        {
         "fill": "tonexty",
         "fillcolor": "rgba(255, 127, 14, 0.3)",
         "legendgroup": "('llama3.1_8b_chat', 'birth_years_4k', 'base', 'main', 'prompt_only')",
         "line": {
          "width": 0
         },
         "mode": "lines",
         "name": "('llama3.1_8b_chat', 'birth_years_4k', 'base', 'main', 'prompt_only') -1 STD",
         "showlegend": false,
         "type": "scatter",
         "x": {
          "bdata": "AAECAwQFBgcICQoLDA0ODxAREhMUFRYXGBkaGxwdHh8=",
          "dtype": "i1"
         },
         "y": {
          "bdata": "iinBYfyV3z+mXPpkPSniP+lp4gv5heI/QLBQT4W44j9H4EcAA0PjPzqyzMtjOOQ/Lf3Es85r5D+wKpGrsqXkPz9rlYp2JuU/vNmmnNeX5T+a7PHp8eHlP/S8VYrGAeY/eNXo1Gfr5T8cNvB5YuTlP8BC/sFhOeY/skZ8GwzV5T/H0TByQ4/lPwBCVFwls+U/ZADmLfon5j8Be4c7PljmP6EXL17y0uU/ub0aRPDw5T/snJvp66HlP5YzRnmRy+U/J5k01SKM5T85vph71xDmP3Qvn2L4n+U/DVxKbOcy5j9K1zbw8hrmP2CJHPCURuY/PgzVoUUy5T9TGVkBabXlPw==",
          "dtype": "f8"
         }
        },
        {
         "legendgroup": "('llama3.1_8b_chat', 'birth_years_4k', 'base', 'main', 'prompt_only')",
         "marker": {
          "color": "#ff7f0e",
          "opacity": 0.5,
          "size": 6
         },
         "mode": "markers",
         "name": "('llama3.1_8b_chat', 'birth_years_4k', 'base', 'main', 'prompt_only') Fold ('logistic_regression_f1_score', 0)",
         "showlegend": false,
         "type": "scatter",
         "x": {
          "bdata": "AAECAwQFBgcICQoLDA0ODxAREhMUFRYXGBkaGxwdHh8=",
          "dtype": "i1"
         },
         "y": {
          "bdata": "PTsEbiyD4j8f991S6E/iP389V7FsfOM/audgzRLj4z/BtoTpfvHjP1WPsWFx9+M/6CqWjW+G5j+QclPRPKHmP5ByU9E8oeY/pAXo5a4Y5z8ZCuaLKrfmP+HrbBMkjOY/OnqskmgW5z/v7u7u7u7mP46bb6CGMec/6EExyb495z91GfZKf87mP2DW+2W9X+Y/Hr8TrCRk5j8XYPIWYPLmP9ubKY/fCeY/25spj98J5j8WzToWzTrmP6+9mkG8SOY/HrpN9Rgb5j8JGk7qvjzmPz0aowpJseY/CtejcD0K5z8ad+u8AhrnPyBm5DfVSec/nN70pje95T+vXr169erlPw==",
          "dtype": "f8"
         }
        },
        {
         "legendgroup": "('llama3.1_8b_chat', 'birth_years_4k', 'base', 'main', 'prompt_only')",
         "marker": {
          "color": "#ff7f0e",
          "opacity": 0.5,
          "size": 6
         },
         "mode": "markers",
         "name": "('llama3.1_8b_chat', 'birth_years_4k', 'base', 'main', 'prompt_only') Fold ('logistic_regression_f1_score', 1)",
         "showlegend": false,
         "type": "scatter",
         "x": {
          "bdata": "AAECAwQFBgcICQoLDA0ODxAREhMUFRYXGBkaGxwdHh8=",
          "dtype": "i1"
         },
         "y": {
          "bdata": "mh6BZUj53j/Nplpj1zfjP5uypqwpa+I/M4gXySqc4z/EMvoHFcPjP7JKOVGQ2eQ/RRRRRBFF5D/eUuhPMhblP97d3d3d3eU/Ooq0AL3c5T+2YAu2YAvmPz/B541fduY/XOACF7jA5T/WsWjWsWjmP2g84xnPeOY/nuYCfHUe5j+sbHUBwsrmP6wZgZB3AeY/KJgvqtxa5j/naq7maq7mP/yys1zSv+U/Fs06Fs065j8GW7AFW7DlP59GWO5phOU/DGRSvEAm5T+hYniaC/DlPyiYL6rcWuY/mO4XP0l75j+QerfjhgbnP47jOI7jOOY/92bK43eC5T+NtgCpde3lPw==",
          "dtype": "f8"
         }
        },
        {
         "legendgroup": "('llama3.1_8b_chat', 'birth_years_4k', 'base', 'main', 'prompt_only')",
         "marker": {
          "color": "#ff7f0e",
          "opacity": 0.5,
          "size": 6
         },
         "mode": "markers",
         "name": "('llama3.1_8b_chat', 'birth_years_4k', 'base', 'main', 'prompt_only') Fold ('logistic_regression_f1_score', 2)",
         "showlegend": false,
         "type": "scatter",
         "x": {
          "bdata": "AAECAwQFBgcICQoLDA0ODxAREhMUFRYXGBkaGxwdHh8=",
          "dtype": "i1"
         },
         "y": {
          "bdata": "N8SAdCxl4j8wGzT5skHjP54S5ClBnuI/2zXVzQvQ4j+/xO2XuP3iP6pJRf+emuQ/VcKdVMKd5D+/N0T/9FrkPx1kXkoEj+Q/TOLgfWtk5T+tKWvKmrLmPyuqRPwCZOY/nuYCfHUe5j8evxOsJGTmP2Hi/chpvuY/pN7tuKHB5T9A7Z3XZ9DlPyiYL6rcWuY/tmALtmAL5j+S9iwCHdjmP4wuuuiii+Y/wWnxaxSc5j91GfZKf87mP4dwCIdwCOc/spCFLGQh5z9talOb2tTmP2HIgSam0eY/IXUdbg9S5z8/weeNX3bmP/LLznJJ/+Y/UbrqwE2O5j+jiy666KLlPw==",
          "dtype": "f8"
         }
        },
        {
         "legendgroup": "('llama3.1_8b_chat', 'birth_years_4k', 'base', 'main', 'prompt_only')",
         "marker": {
          "color": "#ff7f0e",
          "opacity": 0.5,
          "size": 6
         },
         "mode": "markers",
         "name": "('llama3.1_8b_chat', 'birth_years_4k', 'base', 'main', 'prompt_only') Fold ('logistic_regression_f1_score', 3)",
         "showlegend": false,
         "type": "scatter",
         "x": {
          "bdata": "AAECAwQFBgcICQoLDA0ODxAREhMUFRYXGBkaGxwdHh8=",
          "dtype": "i1"
         },
         "y": {
          "bdata": "+tGPfvSj3z9/j92h7e/hP/6Lb6g2GuM/cymXcimX4j/+lYlCNyXlP7C+D0PbuOU/ihZ7Ualh5T+sV69evXrlP0xoL6G9hOY/F9wqF9wq5z+Lp5oYPv7mP3waYbmnEeY/bjMF9YiJ5j+gd+paDm7mP7dt27Zt2+Y/V2ekYm515j881W4IojvlPyDcXpQcveU/iZheYG135j/4AnU1OsLnP7dt27Zt2+Y/1r5h7RvW5j9mZmZmZmbmP77PZeH7XOY/4yMT6J265j+g1RB7jH7mP5lbnZGKueU/jC666KKL5j/lhl0sIlXmP/uGtW9Y++Y/YTJCs1Y85T8aBLV/TtLlPw==",
          "dtype": "f8"
         }
        },
        {
         "legendgroup": "('llama3.1_8b_chat', 'birth_years_4k', 'base', 'main', 'prompt_only')",
         "marker": {
          "color": "#ff7f0e",
          "opacity": 0.5,
          "size": 6
         },
         "mode": "markers",
         "name": "('llama3.1_8b_chat', 'birth_years_4k', 'base', 'main', 'prompt_only') Fold ('logistic_regression_f1_score', 4)",
         "showlegend": false,
         "type": "scatter",
         "x": {
          "bdata": "AAECAwQFBgcICQoLDA0ODxAREhMUFRYXGBkaGxwdHh8=",
          "dtype": "i1"
         },
         "y": {
          "bdata": "AfKnIHhe4j8kE+idupbjP0QyD8k8JOM//KAaDDRG5D8WlBt2sYjkPwHS047MouU/vs9l4ftc5j+MLrrooovmP0CKRD/EjeY/uFynJyRO5j+2ksdQCK7lP69evXr16uU/YrXegjKs5j8T2ktoL6HlP23ep7hkCOY/5YZdLCJV5j+vsjij3cPmP6xPmIzQrOU/qsvtDzJU5j81rCIMkT/mP7F6WD2sHuY/2r9epf3r5T9lTVlT1pTlPwloJaCVgOY/vs9l4ftc5j+g1RB7jH7mP7SX0F5Ce+U/fBphuacR5j88dS0HN/vlP8myHZIWRuY/LSkHRIZ75T+xelg9rB7mPw==",
          "dtype": "f8"
         }
        },
        {
         "legendgroup": "('llama3.1_8b_chat', 'cities_10k', 'base', 'main', 'prompt_answer')",
         "line": {
          "color": "#2ca02c",
          "width": 2
         },
         "marker": {
          "size": 8
         },
         "mode": "lines+markers",
         "name": "('llama3.1_8b_chat', 'cities_10k', 'base', 'main', 'prompt_answer')",
         "type": "scatter",
         "x": {
          "bdata": "AAECAwQFBgcICQoLDA0ODxAREhMUFRYXGBkaGxwdHh8=",
          "dtype": "i1"
         },
         "y": {
          "bdata": "3R0pGpXF5D+XketFgpvkP0NNVQPrw+Q/NXBZDw285D+I2/piOknlPzC2Nef1h+U/5zaphU8w5j9uwdfi9K3mP+51G+n0Oec/Tg264W995z/2TMzCo4rnPzpBFn5pj+c/7jDJcZej5z8miqf5mK7nP2cUKCSe8ec/ukXQ9MgE6D/29Te8xxfoPxJXJaHeP+g/5/i9qis16D+6rYS+YmDoP87mWXqnWOg/4naLeqJN6D+Dnm8C4kDoPyHxdoy2Jug/yZHuGyA76D87cvk7VRjoP08q9EH5J+g/oZYWamjV5z9L3tPicQ/oP4sfX10SFeg/Beh8uLpA6D++z7q/CxfoPw==",
          "dtype": "f8"
         }
        },
        {
         "legendgroup": "('llama3.1_8b_chat', 'cities_10k', 'base', 'main', 'prompt_answer')",
         "line": {
          "width": 0
         },
         "mode": "lines",
         "name": "('llama3.1_8b_chat', 'cities_10k', 'base', 'main', 'prompt_answer') Max",
         "showlegend": false,
         "type": "scatter",
         "x": {
          "bdata": "AAECAwQFBgcICQoLDA0ODxAREhMUFRYXGBkaGxwdHh8=",
          "dtype": "i1"
         },
         "y": {
          "bdata": "kdYL2OZ05T9T4JBtQUrlPxJP057HbeU/U59WsNSn5T+7EJcGS8zlP658XD/0WuY/GQoEaPbI5j8QoBjwJGjnPwLkwGOk6+c/I8Vn158q6D8yZnKij+XnP1fq0XfI9uc/ia4UQlYm6D+xR3rRuGfoP8IrHb5+VOg/s4W52zRb6D+SirnVGanoP6MN+Wh45Og/HPKGvCFv6D8Dtjld5ZnoP2DVQ/MYoOg/6fxl2tgL6T/5gpsah6voP37VAjOWj+g/vI41ecHr6D+hO3Y1LL3oP7FHetG4Z+g/qMZLN4lB6D9L0slWFnXoP8vTQnfsaug/OFDDmKuW6D+cSMaJZJzoPw==",
          "dtype": "f8"
         }
        },
        {
         "fill": "tonexty",
         "fillcolor": "rgba(44, 160, 44, 0.1)",
         "legendgroup": "('llama3.1_8b_chat', 'cities_10k', 'base', 'main', 'prompt_answer')",
         "line": {
          "width": 0
         },
         "mode": "lines",
         "name": "('llama3.1_8b_chat', 'cities_10k', 'base', 'main', 'prompt_answer') Min",
         "showlegend": false,
         "type": "scatter",
         "x": {
          "bdata": "AAECAwQFBgcICQoLDA0ODxAREhMUFRYXGBkaGxwdHh8=",
          "dtype": "i1"
         },
         "y": {
          "bdata": "P+TVZ3Fl5D+YPWD2gNnjP6FoUDQoGuQ//HSGn87w4z8lQYAceIzkPzxRxVK7E+U/QDqWMgl25T9Pr1io0yvmP0JUTGyzzOY/5xjnGOcY5z+5cuXKlSvnP2NKkVjsQuc/SW0ltZXU5j8GF1xwwQXnP9dV37rqW+c/SLhHuEe45z/Y19fX19fnP+jn5+fn5+c/mH7pl37p5z/yVvY5pCboPx0E3Ppsxuc/VmyltLio5z/i0mCJuaLnP7i3t7e3t+c/4O/3+/1+5z+ixnZCdXDnP1PEBV3Rwec/y2VauUwr5z+hET9unKbnP7e7lM9kxuc/33vvvffe5z/WV1999dXnPw==",
          "dtype": "f8"
         }
        },
        {
         "legendgroup": "('llama3.1_8b_chat', 'cities_10k', 'base', 'main', 'prompt_answer')",
         "line": {
          "width": 0
         },
         "mode": "lines",
         "name": "('llama3.1_8b_chat', 'cities_10k', 'base', 'main', 'prompt_answer') +1 STD",
         "showlegend": false,
         "type": "scatter",
         "x": {
          "bdata": "AAECAwQFBgcICQoLDA0ODxAREhMUFRYXGBkaGxwdHh8=",
          "dtype": "i1"
         },
         "y": {
          "bdata": "/qMXwsQ75T+cuiGWSh/lPyQzYEGYaOU/xNH1Puhc5T8wqx/9gsTlP5YkmZ9OHOY/kZfzWRjQ5j9nn/929jXnP5m+80oZq+c/K+LYPPrl5z9LYeUa5tLnPyaLfEKy2uc/ue9soiok6D+pGzkv1S3oP0MQfg17Yug/kAt2I5lG6D8tGhhb7mroPx+/q5pyoug/qyDSmQZv6D8waWBNV5LoP6uFwSJnreg/RheeqxXZ6D8Ni64it6ToP6lIoRzSeOg/5MB+N3TC6D+bq49Rx4/oP0m7IGTLZ+g/ZZM0zaQ+6D+FHefR3l/oP9FULGYPUOg/v05uPNeQ6D9Ia7xJlGfoPw==",
          "dtype": "f8"
         }
        },
        {
         "fill": "tonexty",
         "fillcolor": "rgba(44, 160, 44, 0.3)",
         "legendgroup": "('llama3.1_8b_chat', 'cities_10k', 'base', 'main', 'prompt_answer')",
         "line": {
          "width": 0
         },
         "mode": "lines",
         "name": "('llama3.1_8b_chat', 'cities_10k', 'base', 'main', 'prompt_answer') -1 STD",
         "showlegend": false,
         "type": "scatter",
         "x": {
          "bdata": "AAECAwQFBgcICQoLDA0ODxAREhMUFRYXGBkaGxwdHh8=",
          "dtype": "i1"
         },
         "y": {
          "bdata": "vJc6cmVP5D+SaLX1uRfkP2JnSsU9H+Q/pg693zEb5D/gC9bI8c3kP8pH0i6d8+Q/PdZesYaQ5T91469O8yXmP0MtQ4fQyOY/cTibhuUU5z+hOLNqYULnP073r7kgROc/I3IlQQQj5z+j+BXEXC/nP4sY0jrBgOc/5H8qxvjC5z+/0VcdocTnPwXvnqdK3ec/I9Gpu1D75z9E8qgvbi7oP/FH8tHnA+g/ftZ4SS/C5z/5sTDiDN3nP5mZTPya1Oc/rmJeAMyz5z/bOGMm46DnP1WZxx8n6Oc/3Zn4Bixs5z8Rn8DzBL/nP0XqkVQV2uc/S4GLNJ7w5z80NLk1g8bnPw==",
          "dtype": "f8"
         }
        },
        {
         "legendgroup": "('llama3.1_8b_chat', 'cities_10k', 'base', 'main', 'prompt_answer')",
         "marker": {
          "color": "#2ca02c",
          "opacity": 0.5,
          "size": 6
         },
         "mode": "markers",
         "name": "('llama3.1_8b_chat', 'cities_10k', 'base', 'main', 'prompt_answer') Fold ('logistic_regression_f1_score', 0)",
         "showlegend": false,
         "type": "scatter",
         "x": {
          "bdata": "AAECAwQFBgcICQoLDA0ODxAREhMUFRYXGBkaGxwdHh8=",
          "dtype": "i1"
         },
         "y": {
          "bdata": "kdwnc74J5T8v/re6po7kPxJP057HbeU/oddEEQa25D8qR6ffVprlP91rP59o7uU/L1PBb91Z5j/EHXFH3BHnP4g/bl3eAec/ijquz1eF5z/i3A1t4p/nP1fq0XfI9uc/OC8K2gGc5z8XdI4IWaXnP0tLS0tLS+g/WqrG7vwQ6D/RitjN5gHoPzwvUscDROg/leJj/cxg6D9Y0nBY0nDoP1YLzFg+Yug/mLwFmLwF6D+nw3/vfCnoP37VAjOWj+g/kOGUPZdr6D/K96BGMTroP+FLTZtdHOg/5i3rG8kD6D9DaDCEBkPoP3e7HPqmBeg/OFDDmKuW6D+cSMaJZJzoPw==",
          "dtype": "f8"
         }
        },
        {
         "legendgroup": "('llama3.1_8b_chat', 'cities_10k', 'base', 'main', 'prompt_answer')",
         "marker": {
          "color": "#2ca02c",
          "opacity": 0.5,
          "size": 6
         },
         "mode": "markers",
         "name": "('llama3.1_8b_chat', 'cities_10k', 'base', 'main', 'prompt_answer') Fold ('logistic_regression_f1_score', 1)",
         "showlegend": false,
         "type": "scatter",
         "x": {
          "bdata": "AAECAwQFBgcICQoLDA0ODxAREhMUFRYXGBkaGxwdHh8=",
          "dtype": "i1"
         },
         "y": {
          "bdata": "TG1nD+eJ5D/RC73QC73kPyi+1SXbsuQ/+dNVD4bm5D9VVVVVVVXlPzxRxVK7E+U/QDqWMgl25T9Pr1io0yvmP5hl7p4UY+c/EgTIgcdI5z9WbKW0uKjnP16sVUSnVOc/ia4UQlYm6D8OmnzZoMnnP8IrHb5+VOg/9DzP8zzP5z+S4K0xDgToP1IOiAz3Kug/mH7pl37p5z/yVvY5pCboP/tBTp7NfOg/EOAdJhYl6D8tuEOUZV7oPwfGCimQPeg/Uwg0hUBT6D8hgEFxFgLoP+ReXiFAT+g/Me2JDKT35z91xjjSOgroP7dW5RKjEug/33vvvffe5z9QtaBIo/PnPw==",
          "dtype": "f8"
         }
        },
        {
         "legendgroup": "('llama3.1_8b_chat', 'cities_10k', 'base', 'main', 'prompt_answer')",
         "marker": {
          "color": "#2ca02c",
          "opacity": 0.5,
          "size": 6
         },
         "mode": "markers",
         "name": "('llama3.1_8b_chat', 'cities_10k', 'base', 'main', 'prompt_answer') Fold ('logistic_regression_f1_score', 2)",
         "showlegend": false,
         "type": "scatter",
         "x": {
          "bdata": "AAECAwQFBgcICQoLDA0ODxAREhMUFRYXGBkaGxwdHh8=",
          "dtype": "i1"
         },
         "y": {
          "bdata": "P+TVZ3Fl5D+YPWD2gNnjP6FoUDQoGuQ/HnFH3BF35D9JW9KWtCXlPwAAAAAAIOU/TiE/K+O95j+z9B75HWvmP0JUTGyzzOY/3CXdJolh5z+rXvI+clvnP/2uFjdhfuc/SW0ltZXU5j8GF1xwwQXnP9dV37rqW+c/SLhHuEe45z/Y19fX19fnP0CA/wD+A+g/HPKGvCFv6D8Dtjld5ZnoPzhbh36zdeg/gUyKF8ik6D/kRm7kRm7oP+3iKUr9ROg/anCyUwn+5z/8wA/8wA/oP8UcmV62Mug/malV+cbC5z+hET9unKbnP7e7lM9kxuc/DPqCvqAv6D/ml19++eXnPw==",
          "dtype": "f8"
         }
        },
        {
         "legendgroup": "('llama3.1_8b_chat', 'cities_10k', 'base', 'main', 'prompt_answer')",
         "marker": {
          "color": "#2ca02c",
          "opacity": 0.5,
          "size": 6
         },
         "mode": "markers",
         "name": "('llama3.1_8b_chat', 'cities_10k', 'base', 'main', 'prompt_answer') Fold ('logistic_regression_f1_score', 3)",
         "showlegend": false,
         "type": "scatter",
         "x": {
          "bdata": "AAECAwQFBgcICQoLDA0ODxAREhMUFRYXGBkaGxwdHh8=",
          "dtype": "i1"
         },
         "y": {
          "bdata": "opBcwOtt5D8IsDNuFprkPzGYZqK0LeQ//HSGn87w4z8lQYAceIzkPytVq1K1KuU/rVmzZs2a5T9NZTWV1VTmP0hwH8F9BOc/5xjnGOcY5z+5cuXKlSvnP2NKkVjsQuc/3evPdmip5z/jRWS8iIznP5iXl5eXl+c/Uzd6UTYk6D8AAAAAAPDnP+jn5+fn5+c/r4/aSBgI6D8gTddFnn7oPx0E3Ppsxuc/VmyltLio5z/i0mCJuaLnP7i3t7e3t+c/4O/3+/1+5z+ixnZCdXDnP1PEBV3Rwec/y2VauUwr5z/URLFSReTnPwj8AX/AH+g/BP6AP+AP6D/WV1999dXnPw==",
          "dtype": "f8"
         }
        },
        {
         "legendgroup": "('llama3.1_8b_chat', 'cities_10k', 'base', 'main', 'prompt_answer')",
         "marker": {
          "color": "#2ca02c",
          "opacity": 0.5,
          "size": 6
         },
         "mode": "markers",
         "name": "('llama3.1_8b_chat', 'cities_10k', 'base', 'main', 'prompt_answer') Fold ('logistic_regression_f1_score', 4)",
         "showlegend": false,
         "type": "scatter",
         "x": {
          "bdata": "AAECAwQFBgcICQoLDA0ODxAREhMUFRYXGBkaGxwdHh8=",
          "dtype": "i1"
         },
         "y": {
          "bdata": "kdYL2OZ05T9T4JBtQUrlP0V0SnUXa+U/U59WsNSn5T+7EJcGS8zlP658XD/0WuY/GQoEaPbI5j8QoBjwJGjnPwLkwGOk6+c/I8Vn158q6D8yZnKij+XnPw22nypSwOc/wb3Z8J7x5z+xR3rRuGfoP4gB6VjKJOg/s4W52zRb6D+SirnVGanoP6MN+Wh45Og/i/kGu1RI6D8yOB+D8zHoP2DVQ/MYoOg/6fxl2tgL6T/5gpsah6voP3t/Y2C19+c/vI41ecHr6D+hO3Y1LL3oP7FHetG4Z+g/qMZLN4lB6D9L0slWFnXoP8vTQnfsaug/8sO5RYGO6D8RIYDwQyfoPw==",
          "dtype": "f8"
         }
        },
        {
         "legendgroup": "('llama3.1_8b_chat', 'cities_10k', 'base', 'main', 'prompt_only')",
         "line": {
          "color": "#d62728",
          "width": 2
         },
         "marker": {
          "size": 8
         },
         "mode": "lines+markers",
         "name": "('llama3.1_8b_chat', 'cities_10k', 'base', 'main', 'prompt_only')",
         "type": "scatter",
         "x": {
          "bdata": "AAECAwQFBgcICQoLDA0ODxAREhMUFRYXGBkaGxwdHh8=",
          "dtype": "i1"
         },
         "y": {
          "bdata": "QuMGZt6c4j+vuB11v0XiP9oeT3cVVeI/tP6Ehynf4j/iiSxcmcPjPw4iSkQKNuQ/ubHbJ69X5T/S/C1d5AzmP79nYeSHDOc/MIkrYbUd5z9K/mSlT0bnP/5tsQTTJec/rdBe2KFN5z9GEioprUvnP06bPQxhnOc/JCq9ceLc5z+NNnZlkRXoP2UzudX+zOc/zLBVYkiz5z+d5zO314XnP1K6hLV28uc/Is2Vx4m45z/qsD3nZuDnP6IwP+kGzuc/UgS1r9ip5z8gPeWDNJ7nP1CNAfVQZuc/XRLDdkd75z9GI3L2H07nPzJk6C8sfuc/os0OzOnH5z+GqtRO1rHnPw==",
          "dtype": "f8"
         }
        },
        {
         "legendgroup": "('llama3.1_8b_chat', 'cities_10k', 'base', 'main', 'prompt_only')",
         "line": {
          "width": 0
         },
         "mode": "lines",
         "name": "('llama3.1_8b_chat', 'cities_10k', 'base', 'main', 'prompt_only') Max",
         "showlegend": false,
         "type": "scatter",
         "x": {
          "bdata": "AAECAwQFBgcICQoLDA0ODxAREhMUFRYXGBkaGxwdHh8=",
          "dtype": "i1"
         },
         "y": {
          "bdata": "bCblqSk24z/PGVXaKXziPyyIyRXE5OI/etOb3vSm4z82SrLkzALkPx9LPEHqseQ/kPloPE565T8AAAAAAFDmP+wDzHDpauc/T/HNl1rf5z/8vu/7vu/nP5U98YrJLOg//mUUBDTX5z8RIYDwQyfoP1Z+9W5Z5ec/hZukDjl96D+Ff1HhX1ToP55QHdyVk+g/IVPXX+k26D+6WYfdY9PnPy9WsF4+vOg/XkN5DeU16D/ZXbOxwDnoP/re/oswfOg/eIXkQUX55z8lS7QtDUHoPyceRNx/3uc/yEEzxEXZ5z++8F54L7znP+2dUoa+Bug/jCvZY0gh6D8eSgjrFtXnPw==",
          "dtype": "f8"
         }
        },
        {
         "fill": "tonexty",
         "fillcolor": "rgba(214, 39, 40, 0.1)",
         "legendgroup": "('llama3.1_8b_chat', 'cities_10k', 'base', 'main', 'prompt_only')",
         "line": {
          "width": 0
         },
         "mode": "lines",
         "name": "('llama3.1_8b_chat', 'cities_10k', 'base', 'main', 'prompt_only') Min",
         "showlegend": false,
         "type": "scatter",
         "x": {
          "bdata": "AAECAwQFBgcICQoLDA0ODxAREhMUFRYXGBkaGxwdHh8=",
          "dtype": "i1"
         },
         "y": {
          "bdata": "J+5ffEO14T9HfWejvrPhP2D0ziqPgeE/oyiKoiiK4j9ERilMfTnjP+sTuU2g6uM/Xhqoz0sD5T9emn2XZt/lP+OElDzLiOY/0Z9kLKph5j+kfjuL/MXmP+7AkWNZqOY/4+BC82PI5j+tKWvKmrLmP13lmfi47+Y/foAZLl3t5j8SlnsaYbnnP7mrrRVlM+c/L/RCL/RC5z8LqX5oKWLnP5x22LfCaec/bTayhP8t5z8KoYUtyU/nP8Jwp0aOOuc/OqdVUYdk5z9xQkqeZUTnP+5bh+O9Kec/Bo/lvdoi5z+p9d7U7BPnP3T1AF09QOc/7VREKJNt5z9QQADNcI3nPw==",
          "dtype": "f8"
         }
        },
        {
         "legendgroup": "('llama3.1_8b_chat', 'cities_10k', 'base', 'main', 'prompt_only')",
         "line": {
          "width": 0
         },
         "mode": "lines",
         "name": "('llama3.1_8b_chat', 'cities_10k', 'base', 'main', 'prompt_only') +1 STD",
         "showlegend": false,
         "type": "scatter",
         "x": {
          "bdata": "AAECAwQFBgcICQoLDA0ODxAREhMUFRYXGBkaGxwdHh8=",
          "dtype": "i1"
         },
         "y": {
          "bdata": "E9+JpFgr4z/AP3HaRZjiPzfcVsm43OI/UbczwCNS4z949j0BaBbkP5lxXbg1jeQ/ybCu34eH5T8m2VDDMjfmP828W18yYuc/wV4+DM+z5z+icODYgLznP8zfjfYNv+c/Sm99eSe65z9hNO7S0t3nPwFs32Zb/+c/hwIU4nd06D/9zYO8OFzoP7H+iVIsXug/L+bY4i8M6D/mkeIce7LnP50QbwLPk+g/TlSc8uMm6D8BTRERGUHoP1B0IFicReg/U5B8Vmvh5z/qILlXsgPoP4/+qfI5tuc//+aLDKvA5z8XMxSUI5XnP8i6MTRizOc/RzFEUogI6D//e7L24svnPw==",
          "dtype": "f8"
         }
        },
        {
         "fill": "tonexty",
         "fillcolor": "rgba(214, 39, 40, 0.3)",
         "legendgroup": "('llama3.1_8b_chat', 'cities_10k', 'base', 'main', 'prompt_only')",
         "line": {
          "width": 0
         },
         "mode": "lines",
         "name": "('llama3.1_8b_chat', 'cities_10k', 'base', 'main', 'prompt_only') -1 STD",
         "showlegend": false,
         "type": "scatter",
         "x": {
          "bdata": "AAECAwQFBgcICQoLDA0ODxAREhMUFRYXGBkaGxwdHh8=",
          "dtype": "i1"
         },
         "y": {
          "bdata": "ceeDJ2QO4j+eMcoPOfPhP31hRyVyzeE/F0bWTi9s4j9MHRu3ynDjP4PSNtDe3uM/qbIIcNYn5T9+IAv3leLlP7ESZ2ndtuY/n7MYtpuH5j/yi+lxHtDmPzD81BKYjOY/EDJANxzh5j8r8GV/h7nmP5vKm7FmOec/wVFmAU1F5z8dn2gO6s7nPxlo6FjRO+c/aXvS4WBa5z9UPYVRNFnnPwdkmmgeUec/9kWPnC9K5z/TFGq9tH/nP/TsXXpxVuc/UXjtCEZy5z9WWRGwtjjnPxEcWfdnFuc/uz364OM15z91E9BYHAfnP5wNnyv2L+c//WnZRUuH5z8N2famyZfnPw==",
          "dtype": "f8"
         }
        },
        {
         "legendgroup": "('llama3.1_8b_chat', 'cities_10k', 'base', 'main', 'prompt_only')",
         "marker": {
          "color": "#d62728",
          "opacity": 0.5,
          "size": 6
         },
         "mode": "markers",
         "name": "('llama3.1_8b_chat', 'cities_10k', 'base', 'main', 'prompt_only') Fold ('logistic_regression_f1_score', 0)",
         "showlegend": false,
         "type": "scatter",
         "x": {
          "bdata": "AAECAwQFBgcICQoLDA0ODxAREhMUFRYXGBkaGxwdHh8=",
          "dtype": "i1"
         },
         "y": {
          "bdata": "70T/OKKS4j9HfWejvrPhPz+ALoNcqeI/T+zETuzE4j9ERilMfTnjP+sTuU2g6uM/kPloPE565T9emn2XZt/lP+OElDzLiOY/0Z9kLKph5j+kfjuL/MXmP+7AkWNZqOY/4+BC82PI5j+tKWvKmrLmP13lmfi47+Y/foAZLl3t5j/QdNXcntrnP7mrrRVlM+c/j5e4PE2P5z/Vsbc2THPnP5x22LfCaec/K5sp4Rxv5z8KoYUtyU/nP8Jwp0aOOuc/M4sSleOZ5z9xQkqeZUTnPzXCck8jLOc/GHqhF3qh5z9RrFQR+TXnP3S9k6sLZ+c/7jxklMLU5z+kRSWSr6nnPw==",
          "dtype": "f8"
         }
        },
        {
         "legendgroup": "('llama3.1_8b_chat', 'cities_10k', 'base', 'main', 'prompt_only')",
         "marker": {
          "color": "#d62728",
          "opacity": 0.5,
          "size": 6
         },
         "mode": "markers",
         "name": "('llama3.1_8b_chat', 'cities_10k', 'base', 'main', 'prompt_only') Fold ('logistic_regression_f1_score', 1)",
         "showlegend": false,
         "type": "scatter",
         "x": {
          "bdata": "AAECAwQFBgcICQoLDA0ODxAREhMUFRYXGBkaGxwdHh8=",
          "dtype": "i1"
         },
         "y": {
          "bdata": "J+5ffEO14T/oE6nVpl3iP2D0ziqPgeE/fqT7C5/K4j9FRmE/2ujjP3WIDXzGcOQ/Xhqoz0sD5T9e4RVe4RXmP+xnynjUH+c/T/HNl1rf5z8WPdpTDYjnP35jm1FrIOc/48J8mRuW5z9898R3T3znP4KuvVPK0Oc/PBi/fq8G6D8fFcmOWUroPyCY/IHJH+g/7It7VonG5z8AAAAAAIDnPy9WsF4+vOg/XkN5DeU16D/ZXbOxwDnoP/re/oswfOg/eIXkQUX55z8lS7QtDUHoPyceRNx/3uc/yEEzxEXZ5z++8F54L7znP+2dUoa+Bug/jCvZY0gh6D/lCODqK7LnPw==",
          "dtype": "f8"
         }
        },
        {
         "legendgroup": "('llama3.1_8b_chat', 'cities_10k', 'base', 'main', 'prompt_only')",
         "marker": {
          "color": "#d62728",
          "opacity": 0.5,
          "size": 6
         },
         "mode": "markers",
         "name": "('llama3.1_8b_chat', 'cities_10k', 'base', 'main', 'prompt_only') Fold ('logistic_regression_f1_score', 2)",
         "showlegend": false,
         "type": "scatter",
         "x": {
          "bdata": "AAECAwQFBgcICQoLDA0ODxAREhMUFRYXGBkaGxwdHh8=",
          "dtype": "i1"
         },
         "y": {
          "bdata": "bCblqSk24z/PGVXaKXziPwd6CwPXYuI/m2yyySab4j+sWWJ8yrTjPz6tylhQ9+M/TDN5RLFp5T91WapB5wHmP1hjIj1QOec/aH9zefY35z/2ds8+NiPnP5L2LAId2OY/tFv41ZhI5z/qG3u8CkPnP61WIuewvec//ZzO/hQo6D+Ff1HhX1ToP0Bf2WIsVec/MAleybWw5z900UUXXXTnP5+3GqfYnuc/bTayhP8t5z+u13wRZK7nP9ot/GpMpOc/OqdVUYdk5z91Uj6dlE/nP+5bh+O9Kec/Bo/lvdoi5z+AaGriOxXnP3T1AF09QOc/Iqi61ZrO5z+texlVzLrnPw==",
          "dtype": "f8"
         }
        },
        {
         "legendgroup": "('llama3.1_8b_chat', 'cities_10k', 'base', 'main', 'prompt_only')",
         "marker": {
          "color": "#d62728",
          "opacity": 0.5,
          "size": 6
         },
         "mode": "markers",
         "name": "('llama3.1_8b_chat', 'cities_10k', 'base', 'main', 'prompt_only') Fold ('logistic_regression_f1_score', 3)",
         "showlegend": false,
         "type": "scatter",
         "x": {
          "bdata": "AAECAwQFBgcICQoLDA0ODxAREhMUFRYXGBkaGxwdHh8=",
          "dtype": "i1"
         },
         "y": {
          "bdata": "wi+QZP7E4j/m2oG5dmDiPyyIyRXE5OI/etOb3vSm4z82SrLkzALkP4gVpfGRCeQ/4WRuvKJp5T/mGqiaRvnlP6mymRLO8eY/ADbMQCi05j/DBSQhj/7mP2LNK9Vz7+Y/7K0N09wF5z8+/abeKOHmP6OfxJpXquc/egFmfhG35z8SlnsaYbnnP0QN/VUJxec/L/RCL/RC5z8LqX5oKWLnPwH/M6Owcuc/3AZURZGz5z+yZgRC3gXoP8Ps4Agirec/malV+cbC5z/7AJRnfq/nPxf8VZyQkuc/K5sp4Rxv5z8otT2PTmvnP0f+lvq1XOc/7VREKJNt5z8eSgjrFtXnPw==",
          "dtype": "f8"
         }
        },
        {
         "legendgroup": "('llama3.1_8b_chat', 'cities_10k', 'base', 'main', 'prompt_only')",
         "marker": {
          "color": "#d62728",
          "opacity": 0.5,
          "size": 6
         },
         "mode": "markers",
         "name": "('llama3.1_8b_chat', 'cities_10k', 'base', 'main', 'prompt_only') Fold ('logistic_regression_f1_score', 4)",
         "showlegend": false,
         "type": "scatter",
         "x": {
          "bdata": "AAECAwQFBgcICQoLDA0ODxAREhMUFRYXGBkaGxwdHh8=",
          "dtype": "i1"
         },
         "y": {
          "bdata": "A+dNOkrN4j+EFa08t27iP24juY3kNuI/oyiKoiiK4j/+gD/gD/jjPx9LPEHqseQ/f8xRun1l5T8AAAAAAFDmP+wDzHDpauc/Z2dnZ2dn5z/8vu/7vu/nP5U98YrJLOg//mUUBDTX5z8RIYDwQyfoP1Z+9W5Z5ec/hZukDjl96D82ceOTHTnoP55QHdyVk+g/IVPXX+k26D+6WYfdY9PnPzAgwCrHhOg/2eVDLR4U6D9TN3pRNiToP86IuEf1/ec/HLTmTMSW5z+aUKnCgJLnPzKKcx2jOOc/u3Xr1q1b5z+p9d7U7BPnP9ulC2YfbOc/pZ4NBli15z9QQADNcI3nPw==",
          "dtype": "f8"
         }
        },
        {
         "legendgroup": "('llama3.1_8b_chat', 'football_leagues_1k', 'base', 'main', 'prompt_answer')",
         "line": {
          "color": "#9467bd",
          "width": 2
         },
         "marker": {
          "size": 8
         },
         "mode": "lines+markers",
         "name": "('llama3.1_8b_chat', 'football_leagues_1k', 'base', 'main', 'prompt_answer')",
         "type": "scatter",
         "x": {
          "bdata": "AAECAwQFBgcICQoLDA0ODxAREhMUFRYXGBkaGxwdHh8=",
          "dtype": "i1"
         },
         "y": {
          "bdata": "zux3YOaj4T++v/PfjQDjPyasZgKhqeI/EJJ9x58l4j9A+HMiJ6HiP5o6ce1Qq+I/Zlv3U7OK4j/KQPqfJdfiP9SxldOxleM/56SllkcG5D/CIZt2cvjjP6IFhvfdieQ/bjcwYgVE5D92cVbCUXnkP9ZGW5LxvOQ/WJwg3+sK5T+WukTPOMzkP2g6IZUHOOQ/u7SICFaS5D/358gKq+fjP53/6uUOP+Q/wv9g5K8O5D8keUYFFzTkPxnZK6sFFuQ/rLgR0YBl4z9KzjcrA8ziP9QPFZz2IeI/mvghoI5w4j+ZE+9ElBbjP0pvp7Lm3uI/1u+QhTvI4j+vkALSnpDjPw==",
          "dtype": "f8"
         }
        },
        {
         "legendgroup": "('llama3.1_8b_chat', 'football_leagues_1k', 'base', 'main', 'prompt_answer')",
         "line": {
          "width": 0
         },
         "mode": "lines",
         "name": "('llama3.1_8b_chat', 'football_leagues_1k', 'base', 'main', 'prompt_answer') Max",
         "showlegend": false,
         "type": "scatter",
         "x": {
          "bdata": "AAECAwQFBgcICQoLDA0ODxAREhMUFRYXGBkaGxwdHh8=",
          "dtype": "i1"
         },
         "y": {
          "bdata": "XkN5DeU15D/W1dXV1dXlP7ZgC7ZgC+Y/XXTRRRdd5D9L1K5E7UrkP9uVqF2J2uU/XXTRRRdd5D/57VJPxm/nPxh6oRd6oec/jYn0QOXs5j/SA5WzW/jlP7dt27Zt2+Y/c+3AXDsw5z9qV6J2JWrnP/mKr/iKr+g/+hicj8H56D9qV6J2JWrnP2ZmZmZmZuY/t23btm3b5j/blahdidrlP9ZczdVczeU/F2iBFmiB5j98GmG5pxHmP2QhC1nIQuY/VVVVVVVV5T+VNWVNWVPmP3VQB3VQB+U/dVAHdVAH5T+mpaWlpaXlP9VKrdRKreQ/Tm1qU5va5D9kIQtZyELmPw==",
          "dtype": "f8"
         }
        },
        {
         "fill": "tonexty",
         "fillcolor": "rgba(148, 103, 189, 0.1)",
         "legendgroup": "('llama3.1_8b_chat', 'football_leagues_1k', 'base', 'main', 'prompt_answer')",
         "line": {
          "width": 0
         },
         "mode": "lines",
         "name": "('llama3.1_8b_chat', 'football_leagues_1k', 'base', 'main', 'prompt_answer') Min",
         "showlegend": false,
         "type": "scatter",
         "x": {
          "bdata": "AAECAwQFBgcICQoLDA0ODxAREhMUFRYXGBkaGxwdHh8=",
          "dtype": "i1"
         },
         "y": {
          "bdata": "n+KSIVhH2z9RFEVRFEXhP/jee++9994/HMdxHMdx3D8HH3zwwQffPwcffPDBB98/AAAAAAAA4D/RC73QC73gP9ELvdALveA/SpCnBHlK4D/d0wjLPY3gPxolfkaJn+E/3dMIyz2N4D95DeU1lNfgPxolfkaJn+E/4uHh4eHh4T/nQKIVNgfiP5Z7GmG5p+E/lnsaYbmn4T900UUXXXThP5IkSZIkSeI/dNFFF1104T8qZ7fwqzHhP3sJ7SW0l+A/SZIkSZIk4T8cx3Ecx3HcP+wb1r5h7ds/ndiJndiJ3T8I7SW0l9DeP0qQpwR5SuA/AAAAAAAA4T95DeU1lNfgPw==",
          "dtype": "f8"
         }
        },
        {
         "legendgroup": "('llama3.1_8b_chat', 'football_leagues_1k', 'base', 'main', 'prompt_answer')",
         "line": {
          "width": 0
         },
         "mode": "lines",
         "name": "('llama3.1_8b_chat', 'football_leagues_1k', 'base', 'main', 'prompt_answer') +1 STD",
         "showlegend": false,
         "type": "scatter",
         "x": {
          "bdata": "AAECAwQFBgcICQoLDA0ODxAREhMUFRYXGBkaGxwdHh8=",
          "dtype": "i1"
         },
         "y": {
          "bdata": "2ud4RMl75D+jTFuJauDkP7c5IDBgDuU/+rgImunG5D/cdMEbP5PkP8oGFVQrPuU/YUYlqhTd5D95ub69j53lP/ATRUiCJOY/kRj4o+3J5j/mBpL7pFfmPzG9JJxgAOc/bHL5i1c/5z90mr/pMlznP2q0fzbluOc/cR0rG90e6D+4DQQ2uzbnPy69ked9VeY/0oc2+wj45j+WdgCcz7XlP+kiQns7vuU/fvzKFQf55T9wSa+baznmP69iTVGOf+Y/aaGUamhO5T9aRK1y9+TlP39zdMFq1OQ/crUGZPRl5T8D5VIoL57lP65wya2f7eQ/SUUI3Mt25D8+vVrUs8vlPw==",
          "dtype": "f8"
         }
        },
        {
         "fill": "tonexty",
         "fillcolor": "rgba(148, 103, 189, 0.3)",
         "legendgroup": "('llama3.1_8b_chat', 'football_leagues_1k', 'base', 'main', 'prompt_answer')",
         "line": {
          "width": 0
         },
         "mode": "lines",
         "name": "('llama3.1_8b_chat', 'football_leagues_1k', 'base', 'main', 'prompt_answer') -1 STD",
         "showlegend": false,
         "type": "scatter",
         "x": {
          "bdata": "AAECAwQFBgcICQoLDA0ODxAREhMUFRYXGBkaGxwdHh8=",
          "dtype": "i1"
         },
         "y": {
          "bdata": "hOPt+AaY3T/ZMow2sSDhP5UerdThROA/TNbk6asI3z+keyYpD6/gP2puzYZ2GOA/a3DJ/VE44D8byDWCuxDgP7hP5l7hBuE/PTFTiaFC4T+ePKTxP5nhPxNO51JbE+I/cPxmOLNI4T94SO2acJbhP0LZNu79wOE/PxsWo/r24T90Z4VotmHiP6K3sEKRGuI/pOHaFaMs4j9YWZF5hhniP1Hck1Div+I/BgP3slgk4j/YqN1uwi7iP4NPCgV9rOE/78+ON5l84T9zsITHHWbfP1JYa+0E394/hHd6uFH23j8vQoth+Y7gP+Zthbct0OA/Y5oZL6sZ4T8gZKrPiVXhPw==",
          "dtype": "f8"
         }
        },
        {
         "legendgroup": "('llama3.1_8b_chat', 'football_leagues_1k', 'base', 'main', 'prompt_answer')",
         "marker": {
          "color": "#9467bd",
          "opacity": 0.5,
          "size": 6
         },
         "mode": "markers",
         "name": "('llama3.1_8b_chat', 'football_leagues_1k', 'base', 'main', 'prompt_answer') Fold ('logistic_regression_f1_score', 0)",
         "showlegend": false,
         "type": "scatter",
         "x": {
          "bdata": "AAECAwQFBgcICQoLDA0ODxAREhMUFRYXGBkaGxwdHh8=",
          "dtype": "i1"
         },
         "y": {
          "bdata": "LWQhC1nI4j/W1dXV1dXlP7ZgC7ZgC+Y/XXTRRRdd5D+UPumTPunjPxQ7sRM7seM/QhGKUIQi5D/WlDVlTVnjP5STk5OTk+M/WclKVrKS5T9ZyUpWspLlP9FFF1100eU/WchCFrKQ5T/UdzbqOxvlPxdddNFFF+U/1lzN1VzN5T/WXM3VXM3lP9R3Nuo7G+U/VVVVVVVV5T9VVVVVVVXlP9ZczdVczeU/F2iBFmiB5j98GmG5pxHmP3waYbmnEeY/F1100UUX5T+Uk5OTk5PjP11WDJTwRuM/9DzP8zzP4z9ObWpTm9rkPwZ9QV/QF+Q/Tm1qU5va5D9kIQtZyELmPw==",
          "dtype": "f8"
         }
        },
        {
         "legendgroup": "('llama3.1_8b_chat', 'football_leagues_1k', 'base', 'main', 'prompt_answer')",
         "marker": {
          "color": "#9467bd",
          "opacity": 0.5,
          "size": 6
         },
         "mode": "markers",
         "name": "('llama3.1_8b_chat', 'football_leagues_1k', 'base', 'main', 'prompt_answer') Fold ('logistic_regression_f1_score', 1)",
         "showlegend": false,
         "type": "scatter",
         "x": {
          "bdata": "AAECAwQFBgcICQoLDA0ODxAREhMUFRYXGBkaGxwdHh8=",
          "dtype": "i1"
         },
         "y": {
          "bdata": "LhmCdbR53z+MMcYYY4zhP5Z7GmG5p+E/HMdxHMdx3D/btm3btm3jP3sJ7SW0l+A/AAAAAAAA4D/ep7hkCNbhP5IkSZIkSeI/SpCnBHlK4D/d0wjLPY3gPyIiIiIiIuI/3dMIyz2N4D95DeU1lNfgP3AfwX0E9+E/cB/BfQT34T9+eWxF0HDiP5Z7GmG5p+E/lnsaYbmn4T900UUXXXThP5IkSZIkSeI/ZzGdxXQW4z9nMZ3FdBbjP3sJ7SW0l+A/SZIkSZIk4T8cx3Ecx3HcP+wb1r5h7ds/ndiJndiJ3T8I7SW0l9DeP0qQpwR5SuA/SZIkSZIk4T95DeU1lNfgPw==",
          "dtype": "f8"
         }
        },
        {
         "legendgroup": "('llama3.1_8b_chat', 'football_leagues_1k', 'base', 'main', 'prompt_answer')",
         "marker": {
          "color": "#9467bd",
          "opacity": 0.5,
          "size": 6
         },
         "mode": "markers",
         "name": "('llama3.1_8b_chat', 'football_leagues_1k', 'base', 'main', 'prompt_answer') Fold ('logistic_regression_f1_score', 2)",
         "showlegend": false,
         "type": "scatter",
         "x": {
          "bdata": "AAECAwQFBgcICQoLDA0ODxAREhMUFRYXGBkaGxwdHh8=",
          "dtype": "i1"
         },
         "y": {
          "bdata": "l3oyfrvU4z+XejJ+u9TjP79d6sn47eI/MzMzMzMz4z8AAAAAAADiPxQ7sRM7seM/XXTRRRdd5D/57VJPxm/nPxh6oRd6oec/jYn0QOXs5j/SA5WzW/jlP2QhC1nIQuY/c+3AXDsw5z+3bdu2bdvmP/mKr/iKr+g/l5aWlpaW5j9ONtlkk03mP6alpaWlpeU/l5aWlpaW5j9c+NWYSA/kP7W0tLS0tOQ/dVAHdVAH5T9VVVVVVVXlP2QhC1nIQuY/VVVVVVVV5T9GiZ9R4mfkP3VQB3VQB+U/dVAHdVAH5T+mpaWlpaXlP9VKrdRKreQ/oHJ2C78a4z+1tLS0tLTkPw==",
          "dtype": "f8"
         }
        },
        {
         "legendgroup": "('llama3.1_8b_chat', 'football_leagues_1k', 'base', 'main', 'prompt_answer')",
         "marker": {
          "color": "#9467bd",
          "opacity": 0.5,
          "size": 6
         },
         "mode": "markers",
         "name": "('llama3.1_8b_chat', 'football_leagues_1k', 'base', 'main', 'prompt_answer') Fold ('logistic_regression_f1_score', 3)",
         "showlegend": false,
         "type": "scatter",
         "x": {
          "bdata": "AAECAwQFBgcICQoLDA0ODxAREhMUFRYXGBkaGxwdHh8=",
          "dtype": "i1"
         },
         "y": {
          "bdata": "n+KSIVhH2z9RFEVRFEXhP/jee++9994/0Qu90Au94D8HH3zwwQffPwcffPDBB98/AAAAAAAA4D/RC73QC73gP9ELvdALveA/AAAAAAAA4j9tsskmm2ziPxolfkaJn+E/GiV+Romf4T/l7BZ+NSbiPxolfkaJn+E/4uHh4eHh4T/nQKIVNgfiP5IkSZIkSeI/bbLJJpts4j/T0tLS0tLiP6Bydgu/GuM/dNFFF1104T8qZ7fwqzHhP1MrtVIrteI/khu5kRu54T900UUXXXThPypnt/CrMeE/H/iBH/iB3z+SG7mRG7nhPwAAAAAAAOE/AAAAAAAA4T+SG7mRG7nhPw==",
          "dtype": "f8"
         }
        },
        {
         "legendgroup": "('llama3.1_8b_chat', 'football_leagues_1k', 'base', 'main', 'prompt_answer')",
         "marker": {
          "color": "#9467bd",
          "opacity": 0.5,
          "size": 6
         },
         "mode": "markers",
         "name": "('llama3.1_8b_chat', 'football_leagues_1k', 'base', 'main', 'prompt_answer') Fold ('logistic_regression_f1_score', 4)",
         "showlegend": false,
         "type": "scatter",
         "x": {
          "bdata": "AAECAwQFBgcICQoLDA0ODxAREhMUFRYXGBkaGxwdHh8=",
          "dtype": "i1"
         },
         "y": {
          "bdata": "XkN5DeU15D9sKK+hvIbiPzMzMzMzM+M/XkN5DeU15D9L1K5E7UrkP9uVqF2J2uU/XkN5DeU15D95DeU1lNfgPxQ7sRM7seM/VVVVVVVV5T9VVVVVVVXlP7dt27Zt2+Y/ZmZmZmZm5j9qV6J2JWrnP5U1ZU1ZU+Y/+hicj8H56D9qV6J2JWrnP2ZmZmZmZuY/t23btm3b5j/blahdidrlP1VVVVVVVeU/XkN5DeU15D9VVVVVVVXlP83MzMzMzOQ/FDuxEzux4z+VNWVNWVPmPzMzMzMzM+M/NmVNWVPW5D/0PM/zPM/jP0vUrkTtSuQ/9DzP8zzP4z9L1K5E7UrkPw==",
          "dtype": "f8"
         }
        },
        {
         "legendgroup": "('llama3.1_8b_chat', 'football_leagues_1k', 'base', 'main', 'prompt_only')",
         "line": {
          "color": "#8c564b",
          "width": 2
         },
         "marker": {
          "size": 8
         },
         "mode": "lines+markers",
         "name": "('llama3.1_8b_chat', 'football_leagues_1k', 'base', 'main', 'prompt_only')",
         "type": "scatter",
         "x": {
          "bdata": "AAECAwQFBgcICQoLDA0ODxAREhMUFRYXGBkaGxwdHh8=",
          "dtype": "i1"
         },
         "y": {
          "bdata": "hRwUxx1S5T/6BtsGfn7lP2Djq2XAg+U/EX0B91kl5T804XNX8BXkP25C16TcteM/DoXS0hre4z/6L72wi87jP54ygc1hlOM/gl/rrgQo5D8Zo8MXf2/kP/8PG1j4HOQ/nJlZHIdh5D8e79ssLjTkP3oFS6fqbuQ/M7HD4vXt5D/2MSh9bZzkP8+vkFtZp+Q/XZMG9O9l5D9tQ/5k/dHjP6RIkBwpEuQ/l2zV6XDx4z9rvLwRACzkP0Ls94fyquM/pfwd+RnR4j9tr+BO+OviP3X8Vw+LSuM/QtPqPzIo4z84Tl8QrHDjP1978xNVouM/691DU2iA4z+2vEVrTLPjPw==",
          "dtype": "f8"
         }
        },
        {
         "legendgroup": "('llama3.1_8b_chat', 'football_leagues_1k', 'base', 'main', 'prompt_only')",
         "line": {
          "width": 0
         },
         "mode": "lines",
         "name": "('llama3.1_8b_chat', 'football_leagues_1k', 'base', 'main', 'prompt_only') Max",
         "showlegend": false,
         "type": "scatter",
         "x": {
          "bdata": "AAECAwQFBgcICQoLDA0ODxAREhMUFRYXGBkaGxwdHh8=",
          "dtype": "i1"
         },
         "y": {
          "bdata": "/a4WN2F+5z+fdYMp8lnnP8ln3WCKfOY/13Vd13Vd5z+WZVmWZVnmP3waYbmnEeY/QcNJ3ZfH5j+21lprrbXmP7733nvvvec/fBphuacR5j9Bw0ndl8fmP23ep7hkCOY/ttZaa6215j9mZmZmZmbmP7IVQcNJ3ec/d3d3d3d35z93d3d3d3fnPxGso837FOc/QcNJ3ZfH5j93d3d3d3fnP7bWWmutteY/ttZaa6215j+21lprrbXmP3d3d3d3d+c/NcJyTyMs5z93d3d3d3fnP7IVQcNJ3ec/NcJyTyMs5z9Bw0ndl8fmPzXCck8jLOc/QcNJ3ZfH5j9MZzGdxXTmPw==",
          "dtype": "f8"
         }
        },
        {
         "fill": "tonexty",
         "fillcolor": "rgba(140, 86, 75, 0.1)",
         "legendgroup": "('llama3.1_8b_chat', 'football_leagues_1k', 'base', 'main', 'prompt_only')",
         "line": {
          "width": 0
         },
         "mode": "lines",
         "name": "('llama3.1_8b_chat', 'football_leagues_1k', 'base', 'main', 'prompt_only') Min",
         "showlegend": false,
         "type": "scatter",
         "x": {
          "bdata": "AAECAwQFBgcICQoLDA0ODxAREhMUFRYXGBkaGxwdHh8=",
          "dtype": "i1"
         },
         "y": {
          "bdata": "27Zt27Zt4z8iIiIiIiLiP51zzjnnnOM/JkOwjjbv4z9TK7VSK7XiP96nuGQI1uE/AAAAAAAA4j8iIiIiIiLiPzvavE9xyeA/kiRJkiRJ4j+MMcYYY4zhP96nuGQI1uE/Uyu1Uiu14j+MMcYYY4zhP+Lh4eHh4eE/bbLJJpts4j9tsskmm2ziP5IbuZEbueE/dNFFF1104T900UUXXXThP3TRRRdddOE/Kme38Ksx4T/ep7hkCNbhP3TRRRdddOE/EARBEARB4D/43nvvvffePwAAAAAAAOA/LhmCdbR53z8AAAAAAADhP1EURVEUReE/AAAAAAAA4T+SJEmSJEniPw==",
          "dtype": "f8"
         }
        },
        {
         "legendgroup": "('llama3.1_8b_chat', 'football_leagues_1k', 'base', 'main', 'prompt_only')",
         "line": {
          "width": 0
         },
         "mode": "lines",
         "name": "('llama3.1_8b_chat', 'football_leagues_1k', 'base', 'main', 'prompt_only') +1 STD",
         "showlegend": false,
         "type": "scatter",
         "x": {
          "bdata": "AAECAwQFBgcICQoLDA0ODxAREhMUFRYXGBkaGxwdHh8=",
          "dtype": "i1"
         },
         "y": {
          "bdata": "wDnx/ED05j+KnERgoIXnPxFeEQ4EueY/W8PITPZ95j/qV+kennflP5afpwMZTeU/Jo5xRDSs5T9J95nSK5nlPxirmnnZU+Y/hlhUp5+v5T+9jMQoxdPmP8afG0oQ0uU/3YuYwx3s5T86/L9vmA3mP0EB00ONteY/yrnI5pvZ5j9on6D21ILmP/j4xlqVx+Y/GOc/xqqT5j9couG7kHLmP8ScgSKqcOY/OOE3QlJ45j8kHS7OwV7mP+/cmoCxZOY/pFASX31v5T++dfkOcMrlP2RWsZNaJ+Y/tK7GHivQ5T+ya3B0uYflP8vhqLik0OU/fFI7olSa5T+kfW1rFFflPw==",
          "dtype": "f8"
         }
        },
        {
         "fill": "tonexty",
         "fillcolor": "rgba(140, 86, 75, 0.3)",
         "legendgroup": "('llama3.1_8b_chat', 'football_leagues_1k', 'base', 'main', 'prompt_only')",
         "line": {
          "width": 0
         },
         "mode": "lines",
         "name": "('llama3.1_8b_chat', 'football_leagues_1k', 'base', 'main', 'prompt_only') -1 STD",
         "showlegend": false,
         "type": "scatter",
         "x": {
          "bdata": "AAECAwQFBgcICQoLDA0ODxAREhMUFRYXGBkaGxwdHh8=",
          "dtype": "i1"
         },
         "y": {
          "bdata": "Sv82kfqv4z9qcXGtW3fjP69oRr18TuQ/xzY6ob3M4z9+av6PQrTiP0blBkagHuI/9nszYQEQ4j+raOCO6wPiPyS6ZyHq1OA/fmaCtmmg4j91ucIGOQviPziAGmbgZ+I/W6cadfDW4j8C4vfpw1riP7MJwwpIKOI/nKi+3k8C4z+ExK8DBrbiP6ZmWlwdh+I/oj/NITU44j9+5BoOajHhP4T0nhaos+E/9vdykY9q4T+yW0tVPvnhP5X7VI8z8eA/pqgpk7Yy4D8c6ceOgA3gP4ai/oq7beA/0PcOYTmA4D++ME6snlnhP/MUPm8FdOE/WmlMBHxm4T/I+x1rhA/iPw==",
          "dtype": "f8"
         }
        },
        {
         "legendgroup": "('llama3.1_8b_chat', 'football_leagues_1k', 'base', 'main', 'prompt_only')",
         "marker": {
          "color": "#8c564b",
          "opacity": 0.5,
          "size": 6
         },
         "mode": "markers",
         "name": "('llama3.1_8b_chat', 'football_leagues_1k', 'base', 'main', 'prompt_only') Fold ('logistic_regression_f1_score', 0)",
         "showlegend": false,
         "type": "scatter",
         "x": {
          "bdata": "AAECAwQFBgcICQoLDA0ODxAREhMUFRYXGBkaGxwdHh8=",
          "dtype": "i1"
         },
         "y": {
          "bdata": "ZmZmZmZm5j+21lprrbXmP2ZmZmZmZuY/13Vd13Vd5z+WZVmWZVnmP3waYbmnEeY/QcNJ3ZfH5j+21lprrbXmP7733nvvvec/fBphuacR5j9Bw0ndl8fmP23ep7hkCOY/ttZaa6215j9mZmZmZmbmP7IVQcNJ3ec/d3d3d3d35z93d3d3d3fnPxGso837FOc/QcNJ3ZfH5j93d3d3d3fnP7bWWmutteY/ttZaa6215j+21lprrbXmP3d3d3d3d+c/NcJyTyMs5z93d3d3d3fnP7IVQcNJ3ec/NcJyTyMs5z9Bw0ndl8fmPzXCck8jLOc/QcNJ3ZfH5j9MZzGdxXTmPw==",
          "dtype": "f8"
         }
        },
        {
         "legendgroup": "('llama3.1_8b_chat', 'football_leagues_1k', 'base', 'main', 'prompt_only')",
         "marker": {
          "color": "#8c564b",
          "opacity": 0.5,
          "size": 6
         },
         "mode": "markers",
         "name": "('llama3.1_8b_chat', 'football_leagues_1k', 'base', 'main', 'prompt_only') Fold ('logistic_regression_f1_score', 1)",
         "showlegend": false,
         "type": "scatter",
         "x": {
          "bdata": "AAECAwQFBgcICQoLDA0ODxAREhMUFRYXGBkaGxwdHh8=",
          "dtype": "i1"
         },
         "y": {
          "bdata": "27Zt27Zt4z8iIiIiIiLiP51zzjnnnOM/FEVRFEVR5D9TK7VSK7XiP96nuGQI1uE/AAAAAAAA4j8iIiIiIiLiPzvavE9xyeA/kiRJkiRJ4j+MMcYYY4zhP96nuGQI1uE/0zRN0zRN4z/TNE3TNE3jP2WTTTbZZOM/AAAAAAAA5D8AAAAAAADkPwAAAAAAAOQ/AAAAAAAA4z/ep7hkCNbhP5IkSZIkSeI/3qe4ZAjW4T/ep7hkCNbhP96nuGQI1uE/EARBEARB4D9tsskmm2ziP22yySabbOI/Uyu1Uiu14j9lk0022WTjP1MrtVIrteI/Uyu1Uiu14j9TK7VSK7XiPw==",
          "dtype": "f8"
         }
        },
        {
         "legendgroup": "('llama3.1_8b_chat', 'football_leagues_1k', 'base', 'main', 'prompt_only')",
         "marker": {
          "color": "#8c564b",
          "opacity": 0.5,
          "size": 6
         },
         "mode": "markers",
         "name": "('llama3.1_8b_chat', 'football_leagues_1k', 'base', 'main', 'prompt_only') Fold ('logistic_regression_f1_score', 2)",
         "showlegend": false,
         "type": "scatter",
         "x": {
          "bdata": "AAECAwQFBgcICQoLDA0ODxAREhMUFRYXGBkaGxwdHh8=",
          "dtype": "i1"
         },
         "y": {
          "bdata": "F341JtID5T8WX/EVX/HlP6hQoUKFCuU/VVVVVVVV5T84velNb3rjP9PS0tLS0uI/ZZNNNtlk4z8p8TNK/IziP+Lh4eHh4eE/AAAAAAAA4z9tsskmm2ziPwAAAAAAAOM/Uyu1Uiu14j+MMcYYY4zhP+Lh4eHh4eE/bbLJJpts4j9tsskmm2ziP5IbuZEbueE/dNFFF1104T900UUXXXThP3TRRRdddOE/Kme38Ksx4T/l7BZ+NSbiP3TRRRdddOE/jDHGGGOM4T/43nvvvffePwAAAAAAAOA/LhmCdbR53z8AAAAAAADhP1EURVEUReE/AAAAAAAA4T+SJEmSJEniPw==",
          "dtype": "f8"
         }
        },
        {
         "legendgroup": "('llama3.1_8b_chat', 'football_leagues_1k', 'base', 'main', 'prompt_only')",
         "marker": {
          "color": "#8c564b",
          "opacity": 0.5,
          "size": 6
         },
         "mode": "markers",
         "name": "('llama3.1_8b_chat', 'football_leagues_1k', 'base', 'main', 'prompt_only') Fold ('logistic_regression_f1_score', 3)",
         "showlegend": false,
         "type": "scatter",
         "x": {
          "bdata": "AAECAwQFBgcICQoLDA0ODxAREhMUFRYXGBkaGxwdHh8=",
          "dtype": "i1"
         },
         "y": {
          "bdata": "RERERERE5D9VVVVVVVXlP23ep7hkCOY/JkOwjjbv4z9ERERERETkP51zzjnnnOM/AAAAAAAA4z8UO7ETO7HjP1MrtVIrteI/XXTRRRdd5D9XaqVWaqXmP1100UUXXeQ/tbS0tLS05D+1tLS0tLTkP1VVVVVVVeU/AAAAAAAA5j9VVVVVVVXlP5ZlWZZlWeY/AAAAAAAA5j+ttdZaa63lP5ZlWZZlWeY/lmVZlmVZ5j8AAAAAAADmP5ZaqZVaqeU/09LS0tLS4j9TK7VSK7XiP2WTTTbZZOM/ZZNNNtlk4z8AAAAAAADjP2WTTTbZZOM/ZZNNNtlk4z/Ew8PDw8PjPw==",
          "dtype": "f8"
         }
        },
        {
         "legendgroup": "('llama3.1_8b_chat', 'football_leagues_1k', 'base', 'main', 'prompt_only')",
         "marker": {
          "color": "#8c564b",
          "opacity": 0.5,
          "size": 6
         },
         "mode": "markers",
         "name": "('llama3.1_8b_chat', 'football_leagues_1k', 'base', 'main', 'prompt_only') Fold ('logistic_regression_f1_score', 4)",
         "showlegend": false,
         "type": "scatter",
         "x": {
          "bdata": "AAECAwQFBgcICQoLDA0ODxAREhMUFRYXGBkaGxwdHh8=",
          "dtype": "i1"
         },
         "y": {
          "bdata": "/a4WN2F+5z+fdYMp8lnnP8ln3WCKfOY/7B1TA3vH5D+g0wY6baDjP15DeQ3lNeQ/oUKFChUq5D/Oyk+Is/LjP+wdUwN7x+Q/ICod2TMQ5T/sHVMDe8fkP1VVVVVVVeU/exSuR+F65D8gKh3ZMxDlPxQ7sRM7seM/HEyRz7rB5D+XejJ+u9TjP9RBHdRBHeQ/HEyRz7rB5D+rqqqqqqriP+Q4juM4juM/oNMGOm2g4z+hQoUKFSrkP+xRuB6F6+E/kiRJkiRJ4j9sKK+hvIbiP8aSXyz5xeI/xpJfLPnF4j9vMEU+6wbjP6DTBjptoOM/oNMGOm2g4z+aNGnSpEnjPw==",
          "dtype": "f8"
         }
        },
        {
         "legendgroup": "('llama3.1_8b_chat', 'gsm8k', 'base_3_shot', 'main', 'prompt_answer')",
         "line": {
          "color": "#1f77b4",
          "width": 2
         },
         "marker": {
          "size": 8
         },
         "mode": "lines+markers",
         "name": "('llama3.1_8b_chat', 'gsm8k', 'base_3_shot', 'main', 'prompt_answer')",
         "type": "scatter",
         "x": {
          "bdata": "AAECAwQFBgcICQoLDA0ODxAREhMUFRYXGBkaGxwdHh8=",
          "dtype": "i1"
         },
         "y": {
          "bdata": "jQZB4ABR4j8bWuyA0xfiP5RN70oqb+I/DpkbaBth4j+BvklgGGfiP2ZbowacYOI/chpe67J04j8t7fcSOrTiPyq/tuM9+uI/YpNBcCn34j9895kEbwfjP4TORALQ/uI/5ui2q9Cs4j+o4cdTPNbiP1cIfbzaveI/gU6VcD1l4j/uT9MzmmPiP0C//tBB1eI/FFbpemn94j+5Qzy+a8/iP/s+Wdy/3+I/4pmf+wG04j/sU2hnNKviP+oBaYr/r+I/IanmVxbE4j/6h8a1Q3LiPzoLdxBrdeI/Oirpv41p4j98mwTiJNXiPz2xlJ695eI/fvbhx+t+4j82fuB4QjXiPw==",
          "dtype": "f8"
         }
        },
        {
         "legendgroup": "('llama3.1_8b_chat', 'gsm8k', 'base_3_shot', 'main', 'prompt_answer')",
         "line": {
          "width": 0
         },
         "mode": "lines",
         "name": "('llama3.1_8b_chat', 'gsm8k', 'base_3_shot', 'main', 'prompt_answer') Max",
         "showlegend": false,
         "type": "scatter",
         "x": {
          "bdata": "AAECAwQFBgcICQoLDA0ODxAREhMUFRYXGBkaGxwdHh8=",
          "dtype": "i1"
         },
         "y": {
          "bdata": "4IxrkaCm4j/10ksvvfTiP28wRT7rBuM/FAv8JWDL4j8ep7+SC4/jP+ApJMIEJ+M/VzendMkC4z/TVIEsq37jP+Q4juM4juM/TtxmHIJX5D/pRNVGiE7kP4+1DB2w2+M/vRE80RvB4z+IFaXxkQnkPwvTszA9C+M/fmZFrQPY4j+DzX/cCe/iPzk1Vk6NleM/FFT3EPWa4z/btm3btm3jP0H5NVB+DeQ/NW8NwmSv4z964gPyyyHjPxqJpoqyp+M/K3y5IQak4z+hXnB1mzjjP2jLSxra8uI/Zu6Fig4i4z+EyV7nRsfjP1oGizyW5uM/ct8thf4k4z89kYKmwVjjPw==",
          "dtype": "f8"
         }
        },
        {
         "fill": "tonexty",
         "fillcolor": "rgba(31, 119, 180, 0.1)",
         "legendgroup": "('llama3.1_8b_chat', 'gsm8k', 'base_3_shot', 'main', 'prompt_answer')",
         "line": {
          "width": 0
         },
         "mode": "lines",
         "name": "('llama3.1_8b_chat', 'gsm8k', 'base_3_shot', 'main', 'prompt_answer') Min",
         "showlegend": false,
         "type": "scatter",
         "x": {
          "bdata": "AAECAwQFBgcICQoLDA0ODxAREhMUFRYXGBkaGxwdHh8=",
          "dtype": "i1"
         },
         "y": {
          "bdata": "kr7PEjHk4T8/NNaHxvrgP7YWDY5na+E/4uHh4eHh4T+XV+VKm8XhP58xebTzA+E/Eh/xER/x4T99QV/QF/ThP1PAm1LAm+I/jt+dRx0a4j9T5LNuMEXiPzsjFXOrM+I/PKzbMh+h4T/WGamYW53hP32ERp3we+I/I591gyny4T+tG0yRz7rhPzBTRux1OeI/jN2MFx5R4j9vlab4JRHiP2+uSJ7s9+E/HkNux5Db4T9o3WCKfNbhP+okrhkgKOI/ntSSrAbC4T+0dh9uAYXhP8yqhbaD4eE/pf1a4Z5x4T8SEhISEhLiP5gin3WDKeI/VRshOlG14T9RtZwFAynhPw==",
          "dtype": "f8"
         }
        },
        {
         "legendgroup": "('llama3.1_8b_chat', 'gsm8k', 'base_3_shot', 'main', 'prompt_answer')",
         "line": {
          "width": 0
         },
         "mode": "lines",
         "name": "('llama3.1_8b_chat', 'gsm8k', 'base_3_shot', 'main', 'prompt_answer') +1 STD",
         "showlegend": false,
         "type": "scatter",
         "x": {
          "bdata": "AAECAwQFBgcICQoLDA0ODxAREhMUFRYXGBkaGxwdHh8=",
          "dtype": "i1"
         },
         "y": {
          "bdata": "2KTfB0Oi4j/C9htuPNjiP7m9UolpC+M/vIt314nU4j9p/jfP7RrjP3TsxzKrSOM/cI+n9Yrw4j/SN/SlLFLjP3lBhjcIVuM/RlB2JwTf4z9n/9rkG9fjP9cN0ZdfzuM/gPtjKrOu4z+el2BqyfjjP8hNuUaq+uI/yizFtbfQ4j83mq6Fs9TiP3aH/6wrauM/NnoTLq2N4z+TI4Ng3WXjP92mYb8kruM/l66X5seF4z99HpbTvz3jPzPSfeQNS+M/kqzxsSRw4z+Wi352hibjP+ScyOhj7uI/kll0I2ge4z9dME7RD4XjPxu3wMfoneM/5e+nirsc4z/tcu6DJCvjPw==",
          "dtype": "f8"
         }
        },
        {
         "fill": "tonexty",
         "fillcolor": "rgba(31, 119, 180, 0.3)",
         "legendgroup": "('llama3.1_8b_chat', 'gsm8k', 'base_3_shot', 'main', 'prompt_answer')",
         "line": {
          "width": 0
         },
         "mode": "lines",
         "name": "('llama3.1_8b_chat', 'gsm8k', 'base_3_shot', 'main', 'prompt_answer') -1 STD",
         "showlegend": false,
         "type": "scatter",
         "x": {
          "bdata": "AAECAwQFBgcICQoLDA0ODxAREhMUFRYXGBkaGxwdHh8=",
          "dtype": "i1"
         },
         "y": {
          "bdata": "QmiiuL7/4T90vbyTalfhP2/diwzr0uE/YKa/+Kzt4T+ZflvxQrPhP1jKftqMeOE/dKUU4dr44T+Iovt/RxbiP9s8549znuI/ftYMuU4P4j+R71gkwjfiPzGPuGxAL+I/TNYJLe6q4T+yKy89r7PhP+bCQDILgeI/OHBlK8P54T+lBfjhgPLhPwr3/fRXQOI/8jG/xyVt4j/fY/Ub+jjiPxnXUPlaEeI/LYWnEDzi4T9biTr7qBjiP6ExVDDxFOI/sKXb/QcY4j9ehA71AL7hP5B5JThy/OE/4vpdXLO04T+bBrvyOSXiP1+raHWSLeI/F/0bBRzh4T9/idJtYD/hPw==",
          "dtype": "f8"
         }
        },
        {
         "legendgroup": "('llama3.1_8b_chat', 'gsm8k', 'base_3_shot', 'main', 'prompt_answer')",
         "marker": {
          "color": "#1f77b4",
          "opacity": 0.5,
          "size": 6
         },
         "mode": "markers",
         "name": "('llama3.1_8b_chat', 'gsm8k', 'base_3_shot', 'main', 'prompt_answer') Fold ('logistic_regression_f1_score', 0)",
         "showlegend": false,
         "type": "scatter",
         "x": {
          "bdata": "AAECAwQFBgcICQoLDA0ODxAREhMUFRYXGBkaGxwdHh8=",
          "dtype": "i1"
         },
         "y": {
          "bdata": "kr7PEjHk4T/ZMxCVjuzhP/scUhOMt+I/FAv8JWDL4j/anw+nIVTiP8pkMplMJuM/VzendMkC4z85uNkvxIriP3xkAr1T1+I/ZmZmZmbm4j+TMRmTMRnjP6G9hPYS2uM/vRE80RvB4z+IFaXxkQnkPwvTszA9C+M/EUIIIYQQ4j8apEEapEHiP2vjIV/Nk+I/PV3+ETqB4j9vlab4JRHiP2+uSJ7s9+E/JOKYgL814z/zL//yL//iP+okrhkgKOI/PebvtRHr4j/NzMzMzEziP4PNf9wJ7+I/Ugaebs0P4z941OwviCvjP/KBkR0KW+M/7klMensS4z9SBp5uzQ/jPw==",
          "dtype": "f8"
         }
        },
        {
         "legendgroup": "('llama3.1_8b_chat', 'gsm8k', 'base_3_shot', 'main', 'prompt_answer')",
         "marker": {
          "color": "#1f77b4",
          "opacity": 0.5,
          "size": 6
         },
         "mode": "markers",
         "name": "('llama3.1_8b_chat', 'gsm8k', 'base_3_shot', 'main', 'prompt_answer') Fold ('logistic_regression_f1_score', 1)",
         "showlegend": false,
         "type": "scatter",
         "x": {
          "bdata": "AAECAwQFBgcICQoLDA0ODxAREhMUFRYXGBkaGxwdHh8=",
          "dtype": "i1"
         },
         "y": {
          "bdata": "E7CIErCI4j9XIF2BdAXiP7YWDY5na+E/tV9dSIvl4T/sUbgehevhP5Jq9JFq9OE/zIqBEt5o4j99QV/QF/ThP1stWby31eI/jt+dRx0a4j8+iUlvT2LiPzsjFXOrM+I/Qybnhtqm4T/WGamYW53hPzm42S/EiuI//m1UDq9M4j+DzX/cCe/iPxNiThNiTuM/27Zt27Zt4z9CEos+hVPjP+xLJ8dKROM/fqjrbg3n4j964gPyyyHjP9PS0tLS0uI/oCyBTfvJ4j9FiLer7h3iP8yqhbaD4eE/au6Cv4oT4j+SJEmSJEniP5gin3WDKeI/VRshOlG14T+RI4ukdX3hPw==",
          "dtype": "f8"
         }
        },
        {
         "legendgroup": "('llama3.1_8b_chat', 'gsm8k', 'base_3_shot', 'main', 'prompt_answer')",
         "marker": {
          "color": "#1f77b4",
          "opacity": 0.5,
          "size": 6
         },
         "mode": "markers",
         "name": "('llama3.1_8b_chat', 'gsm8k', 'base_3_shot', 'main', 'prompt_answer') Fold ('logistic_regression_f1_score', 2)",
         "showlegend": false,
         "type": "scatter",
         "x": {
          "bdata": "AAECAwQFBgcICQoLDA0ODxAREhMUFRYXGBkaGxwdHh8=",
          "dtype": "i1"
         },
         "y": {
          "bdata": "HRoo4j9r4j8lZw63mpXiP28wRT7rBuM/RKUjewai4j8ep7+SC4/jP+ApJMIEJ+M/S3/OdnwI4j/gKSTCBCfjP+Q4juM4juM/p1U7HINC4z9f8RVf8RXjP4+1DB2w2+M/OAN9sICI4z+su0UZrgTiPwp3EYKZuuI/fmZFrQPY4j/SJ33SJ33iP1zu7GcWeeI/qmieUAsY4z8VzRNqAWPiP8OvxkR6oOI/HkNux5Db4T9ONtlkk03iPwflzFvWN+I/ntSSrAbC4T+0dh9uAYXhP7IiK7IiK+I/pf1a4Z5x4T/ONHCustviP9WhMtn5sOI//SYNZMtv4j+gBhqdRPvhPw==",
          "dtype": "f8"
         }
        },
        {
         "legendgroup": "('llama3.1_8b_chat', 'gsm8k', 'base_3_shot', 'main', 'prompt_answer')",
         "marker": {
          "color": "#1f77b4",
          "opacity": 0.5,
          "size": 6
         },
         "mode": "markers",
         "name": "('llama3.1_8b_chat', 'gsm8k', 'base_3_shot', 'main', 'prompt_answer') Fold ('logistic_regression_f1_score', 3)",
         "showlegend": false,
         "type": "scatter",
         "x": {
          "bdata": "AAECAwQFBgcICQoLDA0ODxAREhMUFRYXGBkaGxwdHh8=",
          "dtype": "i1"
         },
         "y": {
          "bdata": "IQtZyEIW4j8/NNaHxvrgPxK9ZxK9Z+I/4uHh4eHh4T+XV+VKm8XhP58xebTzA+E/Eh/xER/x4T91KflvlmDiP1PAm1LAm+I/AWmhSkY54j9T5LNuMEXiP22ZnggGUeI/PKzbMh+h4T99hEad8HviP32ERp3we+I/I591gyny4T+tG0yRz7rhPzBTRux1OeI/jN2MFx5R4j/8Jno6t9fiP4eXUVOPdOI/d8QdcUfc4T9o3WCKfNbhP7WjGOGBleI//+nD5VW54j+hXnB1mzjjP7rR1vKMXOI/WfKLJb9Y4j8SEhISEhLiP3Up+W+WYOI/xWTBSQQe4j9RtZwFAynhPw==",
          "dtype": "f8"
         }
        },
        {
         "legendgroup": "('llama3.1_8b_chat', 'gsm8k', 'base_3_shot', 'main', 'prompt_answer')",
         "marker": {
          "color": "#1f77b4",
          "opacity": 0.5,
          "size": 6
         },
         "mode": "markers",
         "name": "('llama3.1_8b_chat', 'gsm8k', 'base_3_shot', 'main', 'prompt_answer') Fold ('logistic_regression_f1_score', 4)",
         "showlegend": false,
         "type": "scatter",
         "x": {
          "bdata": "AAECAwQFBgcICQoLDA0ODxAREhMUFRYXGBkaGxwdHh8=",
          "dtype": "i1"
         },
         "y": {
          "bdata": "4IxrkaCm4j/10ksvvfTiP7NioIQ3muI/VAsrPbWw4j8JyAM+LG/iPyGebH9cneI/uSPuiDvi4j/TVIEsq37jP8MwDMMwDOM/TtxmHIJX5D/pRNVGiE7kP7zYEnybv+I/CqUWH33O4j/A+AxioQfkP+miiy666OI/09LS0tLS4j+J2pWoXYniPzk1Vk6NleM/FFT3EPWa4z/btm3btm3jP0H5NVB+DeQ/NW8NwmSv4z98fcww+hLjPxqJpoqyp+M/K3y5IQak4z98fcww+hLjP2jLSxra8uI/Zu6Fig4i4z+EyV7nRsfjP1oGizyW5uM/ct8thf4k4z89kYKmwVjjPw==",
          "dtype": "f8"
         }
        },
        {
         "legendgroup": "('llama3.1_8b_chat', 'gsm8k', 'base_3_shot', 'main', 'prompt_only')",
         "line": {
          "color": "#ff7f0e",
          "width": 2
         },
         "marker": {
          "size": 8
         },
         "mode": "lines+markers",
         "name": "('llama3.1_8b_chat', 'gsm8k', 'base_3_shot', 'main', 'prompt_only')",
         "type": "scatter",
         "x": {
          "bdata": "AAECAwQFBgcICQoLDA0ODxAREhMUFRYXGBkaGxwdHh8=",
          "dtype": "i1"
         },
         "y": {
          "bdata": "JWQi/rVp4j/S+6Z9h07iPyNNDXCXqOI/P+hgy0Kf4j/rCemUHqziPzTFWAkYE+M/Y8ReNOS54j/bg9BQBe3iP3Em/Ad8vuI/HseSzxfP4j/7Kt9rOaviPwDO3G+WJeM/WZCnCwTO4j8qUC0GiCLjPxL2Nrgq0uI/oHbsvn7V4j8MwRfdhgfjPwqV7BWIHOM/a1iN7QUe4z9dxA/LRMfiP0ol95w4oeI/1iNXwlWz4j8UOiUJ2/ziP1ZfPKl1LuM/wKWKqrX54j94T2E1HBPjP+YckDW0u+I/3LEDqHvi4j+2ZFetigXjP4erufIXveI/iGeg+WTt4j++dlaZR+PiPw==",
          "dtype": "f8"
         }
        },
        {
         "legendgroup": "('llama3.1_8b_chat', 'gsm8k', 'base_3_shot', 'main', 'prompt_only')",
         "line": {
          "width": 0
         },
         "mode": "lines",
         "name": "('llama3.1_8b_chat', 'gsm8k', 'base_3_shot', 'main', 'prompt_only') Max",
         "showlegend": false,
         "type": "scatter",
         "x": {
          "bdata": "AAECAwQFBgcICQoLDA0ODxAREhMUFRYXGBkaGxwdHh8=",
          "dtype": "i1"
         },
         "y": {
          "bdata": "/WcyzX8m4z8XN2F+V4vjPzY9CShY0+M/YGSHwtaM4z/dIUTVHULkP+E+gvsI7uM/zczMzMxM4z9kUrxAJsXjP2WTTTbZZOM/Wb1LHgw44z8ijpBRt2HjP2b9NixZEOQ/4GYkPFgX4z/LLwVGMRnkPx2jONcxiuM/5zKay2gu4z+jE4k6FizjPyw5XQDBkuM/Eo3MGzWA4z9gU4W93F/jP7AJ+u9E6eI//LPzLh4B4z9UzY0V+0jjP6EnGjX/auM/GiAosl724z/kOI7jOI7jP9AX9AV9QeM/ppPesmGm4z9OmN/V4ibkP2YdaLu3SuM/YEB/Af0F5D8zMzMzMzPjPw==",
          "dtype": "f8"
         }
        },
        {
         "fill": "tonexty",
         "fillcolor": "rgba(255, 127, 14, 0.1)",
         "legendgroup": "('llama3.1_8b_chat', 'gsm8k', 'base_3_shot', 'main', 'prompt_only')",
         "line": {
          "width": 0
         },
         "mode": "lines",
         "name": "('llama3.1_8b_chat', 'gsm8k', 'base_3_shot', 'main', 'prompt_only') Min",
         "showlegend": false,
         "type": "scatter",
         "x": {
          "bdata": "AAECAwQFBgcICQoLDA0ODxAREhMUFRYXGBkaGxwdHh8=",
          "dtype": "i1"
         },
         "y": {
          "bdata": "dyVqV6J24T9CGqRBGqThP96nuGQI1uE/yrpgRJqd4T/kKKDIUUDhP0WNkQJ33+E/bPGZNXdC4T+S/9qR/9rhPw7IBmQDsuE/PTsEbiyD4j9n5SfEWfnhP7CONu9TXOI/shgueAJr4j+eEuQpQZ7iP1FRUVFRUeE/hJkyYq/L4T/hMtVY+pLiP1vvxhd2ueI/bCivobyG4j/bi3S2QuLhP/+5e5CJNuI/Y4ctjpx44j/lIz39DoriPyaX7nMNsuI/PnKtEGRY4j/RiVhdaYfiPxPfF7X8G+I/bwuMc0cr4j+SJEmSJEniP4qd2Imd2OE/IP3oRz/64T9G432FPiriPw==",
          "dtype": "f8"
         }
        },
        {
         "legendgroup": "('llama3.1_8b_chat', 'gsm8k', 'base_3_shot', 'main', 'prompt_only')",
         "line": {
          "width": 0
         },
         "mode": "lines",
         "name": "('llama3.1_8b_chat', 'gsm8k', 'base_3_shot', 'main', 'prompt_only') +1 STD",
         "showlegend": false,
         "type": "scatter",
         "x": {
          "bdata": "AAECAwQFBgcICQoLDA0ODxAREhMUFRYXGBkaGxwdHh8=",
          "dtype": "i1"
         },
         "y": {
          "bdata": "6+6XjEEW4z8WHZVgogfjP8gFdb3qZ+M/2Zxfy/NW4z+CMKssSuTjPwtqFBnA6+M/oE3FrXeR4z+EI0xPZKrjP4m4pIFAeuM/WKJEcmUZ4z/3HWIUWjTjP21oM6IkzOM/RjjLr2og4z+mMxSIFbzjP2mqjmeKsOM/DMdz73ht4z+0sOuuL0njPwwKW5HxeOM/X3Y/0yiF4z+6B/FZvV3jP5SbrmCm6eI/8N+UfPHn4j/LAEYMhETjP3KsVh6Ne+M/KrqsUDaU4z8p70SP44rjP/WzxS8PR+M/sJgfcNKG4z9l5A7blsfjP2/g61sqa+M/lyFupkK44z+Qgvn4+VXjPw==",
          "dtype": "f8"
         }
        },
        {
         "fill": "tonexty",
         "fillcolor": "rgba(255, 127, 14, 0.3)",
         "legendgroup": "('llama3.1_8b_chat', 'gsm8k', 'base_3_shot', 'main', 'prompt_only')",
         "line": {
          "width": 0
         },
         "mode": "lines",
         "name": "('llama3.1_8b_chat', 'gsm8k', 'base_3_shot', 'main', 'prompt_only') -1 STD",
         "showlegend": false,
         "type": "scatter",
         "x": {
          "bdata": "AAECAwQFBgcICQoLDA0ODxAREhMUFRYXGBkaGxwdHh8=",
          "dtype": "i1"
         },
         "y": {
          "bdata": "X9msbyq94T+O2riabJXhP36UpSJE6eE/pTNiy5Hn4T9U4yb98nPhP10gnflvOuI/Jjv4ulDi4T8y5FRSpi/iP1mUU463AuI/5OvgLMqE4j//N1zDGCLiP5Mzhj0If+I/bOiDZ5174j+ubEaE+ojiP7tB3wjL8+E/NCZljoQ94j9k0UML3sXiPwggfpoewOI/dzrbB+O24j8AgS48zDDiPwCvP9nKWOI/vGcZCLp+4j9dcwQGMrXiPzoSIjRe4eI/VpFoBDVf4j/Hr33bVJviP9eFWjtZMOI/CMvn3yQ+4j8H5Z9/fkPiP592h4kFD+I/ea3STIci4j/sarM5lXDiPw==",
          "dtype": "f8"
         }
        },
        {
         "legendgroup": "('llama3.1_8b_chat', 'gsm8k', 'base_3_shot', 'main', 'prompt_only')",
         "marker": {
          "color": "#ff7f0e",
          "opacity": 0.5,
          "size": 6
         },
         "mode": "markers",
         "name": "('llama3.1_8b_chat', 'gsm8k', 'base_3_shot', 'main', 'prompt_only') Fold ('logistic_regression_f1_score', 0)",
         "showlegend": false,
         "type": "scatter",
         "x": {
          "bdata": "AAECAwQFBgcICQoLDA0ODxAREhMUFRYXGBkaGxwdHh8=",
          "dtype": "i1"
         },
         "y": {
          "bdata": "shgueAJr4j/pssbWcyPiP96nuGQI1uE/URIMJcFQ4j/kKKDIUUDhP0WNkQJ33+E/bPGZNXdC4T+S/9qR/9rhPw7IBmQDsuE/PTsEbiyD4j9n5SfEWfnhP7CONu9TXOI/oNTeIpN/4j+eEuQpQZ7iP1FRUVFRUeE/hJkyYq/L4T+H8hrKayjjPzc+7I4sVuM/bCivobyG4j/rbqdthPriP+ZcA/jyfuI/Gbz+3IyO4j9MDewdUwPjP2NpsoL9FeM/PnKtEGRY4j+VmEpMJabiP4tM/kntLeI/PnKtEGRY4j+8QCbFC2TiP0bjfYU+KuI/utHW8oxc4j9G432FPiriPw==",
          "dtype": "f8"
         }
        },
        {
         "legendgroup": "('llama3.1_8b_chat', 'gsm8k', 'base_3_shot', 'main', 'prompt_only')",
         "marker": {
          "color": "#ff7f0e",
          "opacity": 0.5,
          "size": 6
         },
         "mode": "markers",
         "name": "('llama3.1_8b_chat', 'gsm8k', 'base_3_shot', 'main', 'prompt_only') Fold ('logistic_regression_f1_score', 1)",
         "showlegend": false,
         "type": "scatter",
         "x": {
          "bdata": "AAECAwQFBgcICQoLDA0ODxAREhMUFRYXGBkaGxwdHh8=",
          "dtype": "i1"
         },
         "y": {
          "bdata": "dKkFAhMZ4j9CGqRBGqThPz1d/hE6geI/yrpgRJqd4T9zvRANoKjhP2B4Fhzj2+I/zczMzMxM4z98ZAK9U9fiP+DV4ibM7+I/Ic7KT4iz4j9IUPwYc9fiP4ts5/up8eI/4GYkPFgX4z/wi1r+DQnjP9Mv/dIv/eI/PN2aHxYp4z8BVvJJ6BbjP1vvxhd2ueI/gJ84eWg94z/bi3S2QuLhP3RXKSboruI/Y4ctjpx44j/lIz39DoriPyaX7nMNsuI/Dytv/u2w4j/RiVhdaYfiPxPfF7X8G+I/bwuMc0cr4j+SJEmSJEniP4qd2Imd2OE/IP3oRz/64T94tbgJ87viPw==",
          "dtype": "f8"
         }
        },
        {
         "legendgroup": "('llama3.1_8b_chat', 'gsm8k', 'base_3_shot', 'main', 'prompt_only')",
         "marker": {
          "color": "#ff7f0e",
          "opacity": 0.5,
          "size": 6
         },
         "mode": "markers",
         "name": "('llama3.1_8b_chat', 'gsm8k', 'base_3_shot', 'main', 'prompt_only') Fold ('logistic_regression_f1_score', 2)",
         "showlegend": false,
         "type": "scatter",
         "x": {
          "bdata": "AAECAwQFBgcICQoLDA0ODxAREhMUFRYXGBkaGxwdHh8=",
          "dtype": "i1"
         },
         "y": {
          "bdata": "/WcyzX8m4z8XN2F+V4vjPzY9CShY0+M/YGSHwtaM4z/dIUTVHULkP7JnICod2eM/6LoskBdF4z9DOzc1tHPjPyKOkFG3YeM/8fIWigX+4j8ijpBRt2HjP7juxiXKfeM/shgueAJr4j+rqqqqqqriP7npVPZ2BeM/jFcltuHg4j/hMtVY+pLiP3r0YT9lI+M/Eo3MGzWA4z89X/5z9yDjP/+5e5CJNuI/SZDqg8DB4j969GE/ZSPjP6EnGjX/auM/GiAosl724z+ZKuETaSvjPwFW8knoFuM/l9Ss2oPd4j9OmN/V4ibkP2YdaLu3SuM/EqW9wRcm4z/ZUqxwmCjjPw==",
          "dtype": "f8"
         }
        },
        {
         "legendgroup": "('llama3.1_8b_chat', 'gsm8k', 'base_3_shot', 'main', 'prompt_only')",
         "marker": {
          "color": "#ff7f0e",
          "opacity": 0.5,
          "size": 6
         },
         "mode": "markers",
         "name": "('llama3.1_8b_chat', 'gsm8k', 'base_3_shot', 'main', 'prompt_only') Fold ('logistic_regression_f1_score', 3)",
         "showlegend": false,
         "type": "scatter",
         "x": {
          "bdata": "AAECAwQFBgcICQoLDA0ODxAREhMUFRYXGBkaGxwdHh8=",
          "dtype": "i1"
         },
         "y": {
          "bdata": "dyVqV6J24T9SKNat1yniP84aOf811+I/VnCDbO644j/TqzXTqzXjP88tcer33OI/aS6juYzm4j+VoUHP7LXiP8EAJRUMUOI/6ymsp7Ce4j8LbpDNHVfiP6keNPLO3+I/TK4gJlcQ4z/QF/QFfUHjPx2jONcxiuM/5zKay2gu4z8xNguqPSfjP/iNLIffyOI/szZrszZr4z9gU4W93F/jP7AJ+u9E6eI/aiupraS24j9oL6G9hPbiP1MlG4iRUuM/FexAeKfn4j/kOI7jOI7jPwv307w1COM/ppPesmGm4z+/oC/oC/riP+Y8Ln37K+M/YEB/Af0F5D8zMzMzMzPjPw==",
          "dtype": "f8"
         }
        },
        {
         "legendgroup": "('llama3.1_8b_chat', 'gsm8k', 'base_3_shot', 'main', 'prompt_only')",
         "marker": {
          "color": "#ff7f0e",
          "opacity": 0.5,
          "size": 6
         },
         "mode": "markers",
         "name": "('llama3.1_8b_chat', 'gsm8k', 'base_3_shot', 'main', 'prompt_only') Fold ('logistic_regression_f1_score', 4)",
         "showlegend": false,
         "type": "scatter",
         "x": {
          "bdata": "AAECAwQFBgcICQoLDA0ODxAREhMUFRYXGBkaGxwdHh8=",
          "dtype": "i1"
         },
         "y": {
          "bdata": "HaXbV1bv4j+DvqAv6AviP5IkSZIkSeI/bOdsYC3o4j+OfWJq3fviP+E+gvsI7uM/aS6juYzm4j9kUrxAJsXjP2WTTTbZZOM/Wb1LHgw44z8KpRYffc7iP2b9NixZEOQ/Pc/zPM/z4j/LLwVGMRnkP1/ANqerPOM/7k8Rt2kn4z+jE4k6FizjPyw5XQDBkuM/aS6juYzm4j9sKK+hvIbiP21CMXJx2OI//LPzLh4B4z9UzY0V+0jjPzaPV5qwYuM/QpMvGzT54j90B9RpXHjjP9AX9AV9QeM/ZZNNNtlk4z81WTZNlk3jP4d+s3XoN+M/WlEl4hcg4z/nMprLaC7jPw==",
          "dtype": "f8"
         }
        },
        {
         "legendgroup": "('llama3.1_8b_chat', 'gsm8k', 'cot_3_shot', 'main', 'prompt_answer')",
         "line": {
          "color": "#2ca02c",
          "width": 2
         },
         "marker": {
          "size": 8
         },
         "mode": "lines+markers",
         "name": "('llama3.1_8b_chat', 'gsm8k', 'cot_3_shot', 'main', 'prompt_answer')",
         "type": "scatter",
         "x": {
          "bdata": "AAECAwQFBgcICQoLDA0ODxAREhMUFRYXGBkaGxwdHh8=",
          "dtype": "i1"
         },
         "y": {
          "bdata": "dlFbdYE54T8u4gZucnXhP1MBGuteg+E/JaLYdHxn4T9YWJGuM5bhPwxYxGbnlOE/D2NTrg774T9XYJ/kRKfhP16EJ1L4leE/UN0QSzLi4T9tm5QgFgXiP03TXfnJxuE/Iyff83Am4j9Mk575OTziP9JYUgqpE+I/+v4MyrIB4j8aUT58jfHhPxYgs5xIXOE/4sPyOv3l4T8ddmnr6Q/iPwzZ4wBEEOI/7yFrquBS4j8yMjOsu1TiP/PD6d7CGeI/zmhRdL+N4T9S9JLXLcrhP6y60eCO4+E/i81lIdlZ4j+dItinjDviPzcVBy5dPeI/YoqJEQYB4j+qNejX3fjhPw==",
          "dtype": "f8"
         }
        },
        {
         "legendgroup": "('llama3.1_8b_chat', 'gsm8k', 'cot_3_shot', 'main', 'prompt_answer')",
         "line": {
          "width": 0
         },
         "mode": "lines",
         "name": "('llama3.1_8b_chat', 'gsm8k', 'cot_3_shot', 'main', 'prompt_answer') Max",
         "showlegend": false,
         "type": "scatter",
         "x": {
          "bdata": "AAECAwQFBgcICQoLDA0ODxAREhMUFRYXGBkaGxwdHh8=",
          "dtype": "i1"
         },
         "y": {
          "bdata": "IdCFB1W54T9KcRJ6xuThP8HTrflhkeI/+CR4BlUU4j8zp3/IT93hP+TMdkMRLOI/BRwU43+y4j9tDoNY2nXiP9RBHdRBHeI/p/vMgFNN4j9Qyr7cjoziP9XqCjuD7+E/AXH7uHen4j+xhCD/85riP/CSHk0H8OI/eqBydgu/4j9zdKVjrVHiP+Lh4eHh4eE/iWJK23XW4j8i3cl8SHfiP03r6V93oeI/6dtfmSh04z/tBOYrpLXjPwuMPeUh5uI/UPMrAzW/4j++LF2i4MviP4CCm66Ah+I/TswBKPr94j/NzMzMzMziPxVT/7K16eI/SvPiTySc4j/eiv89rz7iPw==",
          "dtype": "f8"
         }
        },
        {
         "fill": "tonexty",
         "fillcolor": "rgba(44, 160, 44, 0.1)",
         "legendgroup": "('llama3.1_8b_chat', 'gsm8k', 'cot_3_shot', 'main', 'prompt_answer')",
         "line": {
          "width": 0
         },
         "mode": "lines",
         "name": "('llama3.1_8b_chat', 'gsm8k', 'cot_3_shot', 'main', 'prompt_answer') Min",
         "showlegend": false,
         "type": "scatter",
         "x": {
          "bdata": "AAECAwQFBgcICQoLDA0ODxAREhMUFRYXGBkaGxwdHh8=",
          "dtype": "i1"
         },
         "y": {
          "bdata": "RTfBWSfN4D/QKPEzSvzgPxL6LpYxyeA/MOgL+oK+4D9EEUUUUUThP2vPyfRVwuA/B3VQB3VQ4T+mCM1VZ4rgP32iudd+PuE/gtb0EYpZ4T+LgkXBomDhPwi34jdTY+E/khu5kRu54T/7LUBET6nhPzMV/NadZeE/ZYFXFnhl4T8C6pJTa8LhP6L4gpW/suA/YI2J9EDl4D8YxH/F3ozhP9Yju+31ruE/izLpIHSS4T+nGDX8bYrhPzjMNzKtaOE/2q8V7hkX4T8P/dsGVEXhP+eC947ApeE/gTGJg/et4T/fOoLSbLrhP86sF9HDz+E/54L3jsCl4T+72t9dJ6XhPw==",
          "dtype": "f8"
         }
        },
        {
         "legendgroup": "('llama3.1_8b_chat', 'gsm8k', 'cot_3_shot', 'main', 'prompt_answer')",
         "line": {
          "width": 0
         },
         "mode": "lines",
         "name": "('llama3.1_8b_chat', 'gsm8k', 'cot_3_shot', 'main', 'prompt_answer') +1 STD",
         "showlegend": false,
         "type": "scatter",
         "x": {
          "bdata": "AAECAwQFBgcICQoLDA0ODxAREhMUFRYXGBkaGxwdHh8=",
          "dtype": "i1"
         },
         "y": {
          "bdata": "sNUmPHSQ4T/iFauR7dnhPzEE7+uzQ+I/PgQWflb14T8yCV0U1dThP80PGg1mIuI/MPrWMSWN4j8faOZXEGniP43xdKh89+E/NQVbcI1H4j9pWKXot3TiP28LlxZs/+E/Z00zsJWK4j8F4FbCpqDiPzfgGP58p+I/6NUhYV6a4j+MQi/wyiriP6Ica7Aa1eE/UuB4jxOm4j9n4BMVgG/iP+qHXiAJb+I/2qnReEwG4z9WE1dgmCrjPyyMGMcYouI/2ft0zZk74j/8Pt07RmjiP7PCjbHlQOI/Q7oDkZjR4j/7Sw3FaKniP93euhhjrOI/OOZlRGte4j9R7et5jDziPw==",
          "dtype": "f8"
         }
        },
        {
         "fill": "tonexty",
         "fillcolor": "rgba(44, 160, 44, 0.3)",
         "legendgroup": "('llama3.1_8b_chat', 'gsm8k', 'cot_3_shot', 'main', 'prompt_answer')",
         "line": {
          "width": 0
         },
         "mode": "lines",
         "name": "('llama3.1_8b_chat', 'gsm8k', 'cot_3_shot', 'main', 'prompt_answer') -1 STD",
         "showlegend": false,
         "type": "scatter",
         "x": {
          "bdata": "AAECAwQFBgcICQoLDA0ODxAREhMUFRYXGBkaGxwdHh8=",
          "dtype": "i1"
         },
         "y": {
          "bdata": "PM2Pro7i4D96rmJK9xDhP3X+ROoJw+A/DECba6LZ4D9+p8VIklfhP0ugbsBoB+E/7svPKvho4T+PWFhxeeXgPy8X2vtzNOE/a7XGJdd84T9x3oNYdJXhPyubJNwnjuE/3wCLN0zC4T+TRuYwzdfhP23RixbVf+E/DCj4Mgdp4T+oX00IULjhP4oj+4h24+A/cqds5uYl4T/TC7/BU7DhPy4qaeF+seE/BJoE3HSf4T8OUQ/43n7hP7r7uvZskeE/w9UtG+Xf4D+oqUhzFSzhP6WyFRA4huE/0+DHsRni4T8/+aKKsM3hP5FLU0NXzuE/jC6t3qCj4T8DfuQ1L7XhPw==",
          "dtype": "f8"
         }
        },
        {
         "legendgroup": "('llama3.1_8b_chat', 'gsm8k', 'cot_3_shot', 'main', 'prompt_answer')",
         "marker": {
          "color": "#2ca02c",
          "opacity": 0.5,
          "size": 6
         },
         "mode": "markers",
         "name": "('llama3.1_8b_chat', 'gsm8k', 'cot_3_shot', 'main', 'prompt_answer') Fold ('logistic_regression_f1_score', 0)",
         "showlegend": false,
         "type": "scatter",
         "x": {
          "bdata": "AAECAwQFBgcICQoLDA0ODxAREhMUFRYXGBkaGxwdHh8=",
          "dtype": "i1"
         },
         "y": {
          "bdata": "RTfBWSfN4D9KcRJ6xuThP/VEMIiSZuE/tWb7RPWg4T/H/4A79LThP0zKsmGJoeE/Eh/xER/x4T9hMwbZq37hP1FsPolxZuE/NwPTdY414j8i1h/FNDXiP574hbX02+E/khu5kRu54T+xhCD/85riP9wrAkJwIeI/9cTNyb6D4T8C6pJTa8LhP+Bv3lZMHOE/2mDYmzRT4j/SIA3SIA3iP5D6gIe54+E/iEKv6mb64T9RoUKFChXiPzjMNzKtaOE/4fJENvRK4T/0NwRtld/hP+eC947ApeE/lx1aNQtF4j/fOoLSbLrhP86sF9HDz+E/54L3jsCl4T9VVVVVVdXhPw==",
          "dtype": "f8"
         }
        },
        {
         "legendgroup": "('llama3.1_8b_chat', 'gsm8k', 'cot_3_shot', 'main', 'prompt_answer')",
         "marker": {
          "color": "#2ca02c",
          "opacity": 0.5,
          "size": 6
         },
         "mode": "markers",
         "name": "('llama3.1_8b_chat', 'gsm8k', 'cot_3_shot', 'main', 'prompt_answer') Fold ('logistic_regression_f1_score', 1)",
         "showlegend": false,
         "type": "scatter",
         "x": {
          "bdata": "AAECAwQFBgcICQoLDA0ODxAREhMUFRYXGBkaGxwdHh8=",
          "dtype": "i1"
         },
         "y": {
          "bdata": "IdCFB1W54T+gZSOFWXjhPwXsFOfp3eA/SxrVlquk4T/Zbaek6GbhP2vPyfRVwuA/B3VQB3VQ4T+mCM1VZ4rgPw3BOtq8T+E/LGAyDu/q4T93xB1xR9zhP0OibF600eE/nFsjEuPZ4T8daGIabQHiP5r+1RNTvOE/Ah7gAR7g4T8rFpnwMdrhP2lpaWlpaeE/YI2J9EDl4D9X+I7oCt/hP9Yju+31ruE/J7P8GNVE4j+NJvVy1uPhP3m6WmZ1H+I/2q8V7hkX4T/zCz793bHhP6Ujewai0uE/5gDuZ+Fj4j+W4j9pZ/vhPyxgMg7v6uE/Gb9d6sn44T8iWXPCGeXhPw==",
          "dtype": "f8"
         }
        },
        {
         "legendgroup": "('llama3.1_8b_chat', 'gsm8k', 'cot_3_shot', 'main', 'prompt_answer')",
         "marker": {
          "color": "#2ca02c",
          "opacity": 0.5,
          "size": 6
         },
         "mode": "markers",
         "name": "('llama3.1_8b_chat', 'gsm8k', 'cot_3_shot', 'main', 'prompt_answer') Fold ('logistic_regression_f1_score', 2)",
         "showlegend": false,
         "type": "scatter",
         "x": {
          "bdata": "AAECAwQFBgcICQoLDA0ODxAREhMUFRYXGBkaGxwdHh8=",
          "dtype": "i1"
         },
         "y": {
          "bdata": "vM9Z63Y64T93EttJbCfhP9cHYJjK8eE/MOgL+oK+4D9EEUUUUUThPwAAAAAAYOE/7+OZorBj4j9tDoNY2nXiPyWEdYvq2+E/gtb0EYpZ4T+LgkXBomDhPwi34jdTY+E/AXH7uHen4j/7LUBET6nhP4PpqLnkLuI/eqBydgu/4j/SA5WzW/jhP6bs0tcTs+E/iWJK23XW4j8vlCmcPl/iPzIVvYK5N+I/iaUilopY4j+EFa08t27iP9I/G9I/G+I/371PGEwz4T8P/dsGVEXhP424RlwjruE/cOcpXl9s4j9sKK+hvIbiP4mlIpaKWOI/IP3oRz/64T8++OCDDz7iPw==",
          "dtype": "f8"
         }
        },
        {
         "legendgroup": "('llama3.1_8b_chat', 'gsm8k', 'cot_3_shot', 'main', 'prompt_answer')",
         "marker": {
          "color": "#2ca02c",
          "opacity": 0.5,
          "size": 6
         },
         "mode": "markers",
         "name": "('llama3.1_8b_chat', 'gsm8k', 'cot_3_shot', 'main', 'prompt_answer') Fold ('logistic_regression_f1_score', 3)",
         "showlegend": false,
         "type": "scatter",
         "x": {
          "bdata": "AAECAwQFBgcICQoLDA0ODxAREhMUFRYXGBkaGxwdHh8=",
          "dtype": "i1"
         },
         "y": {
          "bdata": "QQPf4IRO4T+5WCCpZcrhP8HTrflhkeI/+CR4BlUU4j8zp3/IT93hP+TMdkMRLOI/BRwU43+y4j9s+DIGv0DiP9RBHdRBHeI/p/vMgFNN4j9Qyr7cjoziP8Pj9Fdy4eE//SYNZMtv4j863WcGnGriP/CSHk0H8OI/DvbImR2A4j9zdKVjrVHiP+Lh4eHh4eE/W0OeoCr14T8i3cl8SHfiP03r6V93oeI/6dtfmSh04z/tBOYrpLXjPwuMPeUh5uI/UPMrAzW/4j++LF2i4MviP4CCm66Ah+I/TswBKPr94j/NzMzMzMziPxVT/7K16eI/SvPiTySc4j/eiv89rz7iPw==",
          "dtype": "f8"
         }
        },
        {
         "legendgroup": "('llama3.1_8b_chat', 'gsm8k', 'cot_3_shot', 'main', 'prompt_answer')",
         "marker": {
          "color": "#2ca02c",
          "opacity": 0.5,
          "size": 6
         },
         "mode": "markers",
         "name": "('llama3.1_8b_chat', 'gsm8k', 'cot_3_shot', 'main', 'prompt_answer') Fold ('logistic_regression_f1_score', 4)",
         "showlegend": false,
         "type": "scatter",
         "x": {
          "bdata": "AAECAwQFBgcICQoLDA0ODxAREhMUFRYXGBkaGxwdHh8=",
          "dtype": "i1"
         },
         "y": {
          "bdata": "7rxIHQ8Q4T/QKPEzSvzgPxL6LpYxyeA/kJzma/Xs4D+fk+mrhLHhP6BR4meU+OE/P1uxyISP4T/VnpPpq4ThP32iudd+PuE/Ax2NYKCj4T+sIaXOwBriP9XqCjuD7+E/hbR2AvMV4j976O171XziPzMV/NadZeE/ZYFXFnhl4T8SHdERHdHhP6L4gpW/suA/Sz9zGtx54T8YxH/F3ozhP1cekKxz5eE/izLpIHSS4T+nGDX8bYrhPzaBpQpK9+E/F7jABS5w4T/hV2MiPVDhP8TDw8PDw+E/gTGJg/et4T9mmvqcYSDiP3tkt73eNeI/goGORjDQ4T+72t9dJ6XhPw==",
          "dtype": "f8"
         }
        },
        {
         "legendgroup": "('llama3.1_8b_chat', 'gsm8k', 'cot_3_shot', 'main', 'prompt_only')",
         "line": {
          "color": "#d62728",
          "width": 2
         },
         "marker": {
          "size": 8
         },
         "mode": "lines+markers",
         "name": "('llama3.1_8b_chat', 'gsm8k', 'cot_3_shot', 'main', 'prompt_only')",
         "type": "scatter",
         "x": {
          "bdata": "AAECAwQFBgcICQoLDA0ODxAREhMUFRYXGBkaGxwdHh8=",
          "dtype": "i1"
         },
         "y": {
          "bdata": "A5mv/ayg4T8zSaRdfzjiP2IRHNXKQOI/itkTnNP34T8Fx+PZyyXiP8oON3ZuCeI/g+vl6Flb4j/Bbc9kblDiP7KAYq/ObuI/9jkqTrtf4j+OMGATI9/hP+s3s8dxZeI/ArSc+9hu4j+O/zOIsDDiP8riXvGKMOI/kOe/N/ht4j+tGmRP71XiP9NHPzgpWuI/wDdZKITV4T/iyeJhEPfhP1V+H8KDLeI/9/Aofp9p4j/2o+kQECTiP0oT07qiU+I/sCmZaHU44j+v17W9ICPiP1iUagHPHuI/tcLRqSxL4j/4dMOX9VXiPy+/0lH3OOI/cv30Nady4j8p5SM78PnhPw==",
          "dtype": "f8"
         }
        },
        {
         "legendgroup": "('llama3.1_8b_chat', 'gsm8k', 'cot_3_shot', 'main', 'prompt_only')",
         "line": {
          "width": 0
         },
         "mode": "lines",
         "name": "('llama3.1_8b_chat', 'gsm8k', 'cot_3_shot', 'main', 'prompt_only') Max",
         "showlegend": false,
         "type": "scatter",
         "x": {
          "bdata": "AAECAwQFBgcICQoLDA0ODxAREhMUFRYXGBkaGxwdHh8=",
          "dtype": "i1"
         },
         "y": {
          "bdata": "dLg/O+/i4T/64n/s5XriPyRYaP2LeOI/TgFx7GAl4j8jH4x2laDiP22TaKmFpuI/KozkADQV4z+raDAT/HriP2uIMJYL6eI/09LS0tLS4j8U7lyssXniPwVIXhChJuM/5my4xMDv4j8f2OhdkfniPwdEhnsVzOI/0Q6kSYLm4j+O7zPwFqriPy5MaoimxOI/ViCMtGMF4j9EQoyTfNTiPwAAAAAAgOI/CdY87k+Y4j/indFL9XPiP7axmJRlw+I/7kfLrRen4j/xc2Ryf8DiP16bKNm1ieI/k1NrwgHq4j/T0tLS0tLiP4nFAT56tuI/PdvVOY3/4j+ZjThtE+PiPw==",
          "dtype": "f8"
         }
        },
        {
         "fill": "tonexty",
         "fillcolor": "rgba(214, 39, 40, 0.1)",
         "legendgroup": "('llama3.1_8b_chat', 'gsm8k', 'cot_3_shot', 'main', 'prompt_only')",
         "line": {
          "width": 0
         },
         "mode": "lines",
         "name": "('llama3.1_8b_chat', 'gsm8k', 'cot_3_shot', 'main', 'prompt_only') Min",
         "showlegend": false,
         "type": "scatter",
         "x": {
          "bdata": "AAECAwQFBgcICQoLDA0ODxAREhMUFRYXGBkaGxwdHh8=",
          "dtype": "i1"
         },
         "y": {
          "bdata": "UFZKM3FX4T+amZmZmZnhPw/jXJoQHuI/5NoXzHyd4T/Ci4UT1KLhP1m5G6SyqeE/Ke1GQEq74T+KbnH+eCDiP3wTIbs3EeI/chzHcRzH4T/lgMhwr4LhP2FBaJjCueE/Q3hQ7rcg4j90Cq+TmK7hP5NdmyjZteE/RStsDiRa4T921CLkr9nhP8Ic5H+T3eE/z76Iap194T//8Fro+9LgP5I2RWSe2+E/xXA2hBz84T9Y9S8oy+3hP0S9EI/NBeI/YugxoMX94T+TXZso2bXhP2Wkbv7wlOE/ivkg3PSZ4T8EqCzJ08vhP6B0kH7lx+E/kt6hGMwI4j8hXucz923hPw==",
          "dtype": "f8"
         }
        },
        {
         "legendgroup": "('llama3.1_8b_chat', 'gsm8k', 'cot_3_shot', 'main', 'prompt_only')",
         "line": {
          "width": 0
         },
         "mode": "lines",
         "name": "('llama3.1_8b_chat', 'gsm8k', 'cot_3_shot', 'main', 'prompt_only') +1 STD",
         "showlegend": false,
         "type": "scatter",
         "x": {
          "bdata": "AAECAwQFBgcICQoLDA0ODxAREhMUFRYXGBkaGxwdHh8=",
          "dtype": "i1"
         },
         "y": {
          "bdata": "9CUrDB7V4T+/ifQydpXiP4DKNazvYuI/SSHJh0cs4j9RMrLd1ZbiP91Ra5oPbeI/zdw3OkLl4j92FTRWJHniP+ErIg9Yz+I/4tPtm5ve4j8bcV+eD0TiP26Ez2799uI/h4nzeO3J4j/tJMwaJbbiP8caZT/ymOI/GjP+woYL4z8G/d6pQqLiP4rZRa6CuuI/w2k6p8QL4j/9Ifi0uLniP10gPDljb+I/s7ccHdar4j9KxNKYnVXiP6jxy+eXoOI/SJ4lBMh74j9YofLavZXiP/FikglUgeI/LfetWq3H4j+tPoiUObniP7RQMz7AlOI/vPX15UbW4j8FP3d0u5fiPw==",
          "dtype": "f8"
         }
        },
        {
         "fill": "tonexty",
         "fillcolor": "rgba(214, 39, 40, 0.3)",
         "legendgroup": "('llama3.1_8b_chat', 'gsm8k', 'cot_3_shot', 'main', 'prompt_only')",
         "line": {
          "width": 0
         },
         "mode": "lines",
         "name": "('llama3.1_8b_chat', 'gsm8k', 'cot_3_shot', 'main', 'prompt_only') -1 STD",
         "showlegend": false,
         "type": "scatter",
         "x": {
          "bdata": "AAECAwQFBgcICQoLDA0ODxAREhMUFRYXGBkaGxwdHh8=",
          "dtype": "i1"
         },
         "y": {
          "bdata": "Egw07zts4T+nCFSIiNvhP0RYAv6lHuI/y5FesF/D4T+5WxXWwbThP7fLAlLNpeE/OfqTl3HR4T8MxmpzuCfiP4PVok9FDuI/CqBmANvg4T8B8GCINnrhP2jrliDm0+E/fd5FfsQT4j8v2pv1O6vhP82qWKMjyOE/BpyBrGnQ4T9UOOn0mwniPxy2OMLP+eE/vQV4qUOf4T/Hcc0OaDThP03cAkuk6+E/Oyo132gn4j+igwCJgvLhP+w02o2tBuI/GLUMzSL14T8GDnmgg7DhP7/FQvlJvOE/PY71+KvO4T9Dq/6asfLhP6otcmUu3eE/KAX0hQcP4j9Ni9ABJVzhPw==",
          "dtype": "f8"
         }
        },
        {
         "legendgroup": "('llama3.1_8b_chat', 'gsm8k', 'cot_3_shot', 'main', 'prompt_only')",
         "marker": {
          "color": "#d62728",
          "opacity": 0.5,
          "size": 6
         },
         "mode": "markers",
         "name": "('llama3.1_8b_chat', 'gsm8k', 'cot_3_shot', 'main', 'prompt_only') Fold ('logistic_regression_f1_score', 0)",
         "showlegend": false,
         "type": "scatter",
         "x": {
          "bdata": "AAECAwQFBgcICQoLDA0ODxAREhMUFRYXGBkaGxwdHh8=",
          "dtype": "i1"
         },
         "y": {
          "bdata": "lnsaYbmn4T92TKOU42HiP6NoLT8gQ+I/TgFx7GAl4j+SIimSIiniP1m5G6SyqeE/Ke1GQEq74T+KbnH+eCDiPwejgXYdVeI/09LS0tLS4j/lgMhwr4LhP22zJNM2S+I/Q3hQ7rcg4j90Cq+TmK7hP5NGoppwCeI/RStsDiRa4T8LcGmDYW/iP+Q4juM4DuI/z76Iap194T//8Fro+9LgP5I2RWSe2+E/CdY87k+Y4j9Y9S8oy+3hP7axmJRlw+I/0kH6lR9H4j8gueTJAbjhPxzHcRzH8eE/ivkg3PSZ4T9zTyMs9zTiP6B0kH7lx+E/kt6hGMwI4j9vcf54IJLhPw==",
          "dtype": "f8"
         }
        },
        {
         "legendgroup": "('llama3.1_8b_chat', 'gsm8k', 'cot_3_shot', 'main', 'prompt_only')",
         "marker": {
          "color": "#d62728",
          "opacity": 0.5,
          "size": 6
         },
         "mode": "markers",
         "name": "('llama3.1_8b_chat', 'gsm8k', 'cot_3_shot', 'main', 'prompt_only') Fold ('logistic_regression_f1_score', 1)",
         "showlegend": false,
         "type": "scatter",
         "x": {
          "bdata": "AAECAwQFBgcICQoLDA0ODxAREhMUFRYXGBkaGxwdHh8=",
          "dtype": "i1"
         },
         "y": {
          "bdata": "JlcQkyuI4T/64n/s5XriPw/jXJoQHuI/uiLOjwMI4j8jH4x2laDiP22TaKmFpuI/KozkADQV4z+8JR0bqHjiP3wTIbs3EeI/GOfShPCQ4j8oEk5pXvzhPy5MaoimxOI/5my4xMDv4j+pDe2uV2XiPwdEhnsVzOI/U7U9TEOr4j+ByHCvglniPy5MaoimxOI/ViCMtGMF4j9EQoyTfNTiP2j1pYJWX+I/a2Rie5xZ4j/indFL9XPiP+XmJ4UVcOI/7kfLrRen4j/xc2Ryf8DiP16bKNm1ieI/k1NrwgHq4j/T0tLS0tLiP4nFAT56tuI/PdvVOY3/4j9VVVVVVVXiPw==",
          "dtype": "f8"
         }
        },
        {
         "legendgroup": "('llama3.1_8b_chat', 'gsm8k', 'cot_3_shot', 'main', 'prompt_only')",
         "marker": {
          "color": "#d62728",
          "opacity": 0.5,
          "size": 6
         },
         "mode": "markers",
         "name": "('llama3.1_8b_chat', 'gsm8k', 'cot_3_shot', 'main', 'prompt_only') Fold ('logistic_regression_f1_score', 2)",
         "showlegend": false,
         "type": "scatter",
         "x": {
          "bdata": "AAECAwQFBgcICQoLDA0ODxAREhMUFRYXGBkaGxwdHh8=",
          "dtype": "i1"
         },
         "y": {
          "bdata": "dLg/O+/i4T9+eWxF0HDiPw+Dok4uL+I/8h//8R//4T8z+XCzUoniP5zWO1N/DeI/kB8/fvz44T83aFXm4zLiPzXBeCv7HOI/rTLOhEjp4T8U7lyssXniP5aOKuL3CuI/mOrKufUj4j8f2OhdkfniP+NMiJQeWeI/P6U9KPOs4j921CLkr9nhP0rr4lmkj+I/s1+IFaXx4T+G1r+IJ6nhP/oplzF8DeI/xXA2hBz84T+jHInOng/iP0S9EI/NBeI/29kEGroU4j+TXZso2bXhP7IhG7IhG+I/40yIlB5Z4j8EqCzJ08vhP537qxAMJ+I/MEU+6wZT4j9Pxz+4MKnhPw==",
          "dtype": "f8"
         }
        },
        {
         "legendgroup": "('llama3.1_8b_chat', 'gsm8k', 'cot_3_shot', 'main', 'prompt_only')",
         "marker": {
          "color": "#d62728",
          "opacity": 0.5,
          "size": 6
         },
         "mode": "markers",
         "name": "('llama3.1_8b_chat', 'gsm8k', 'cot_3_shot', 'main', 'prompt_only') Fold ('logistic_regression_f1_score', 3)",
         "showlegend": false,
         "type": "scatter",
         "x": {
          "bdata": "AAECAwQFBgcICQoLDA0ODxAREhMUFRYXGBkaGxwdHh8=",
          "dtype": "i1"
         },
         "y": {
          "bdata": "khu5kRu54T93Kwx0STPiPyRYaP2LeOI/0iAN0iAN4j9yHMdxHMfhPzwhV+vCE+I/IBHf3C9V4j+ev/jkJkviP2uIMJYL6eI/wxiYOIDK4j/xJhAL9ojhP2FBaJjCueE/nAmR0iNL4j+kuK9lssjhP5NdmyjZteE/KfEzSvyM4j+O7zPwFqriPwDafNO2guI/OCzEI1fG4T8Kw31SjTniP7IhG7IhG+I/cxf8VZyQ4j+d+6sQDCfiP0ivag3+VuI/coQBDZQZ4j//OYyI12TiPye98GB7buI/EzeAEjeA4j+SJEmSJEniP6vcPvbQbOI/LDpTzruu4j+ZjThtE+PiPw==",
          "dtype": "f8"
         }
        },
        {
         "legendgroup": "('llama3.1_8b_chat', 'gsm8k', 'cot_3_shot', 'main', 'prompt_only')",
         "marker": {
          "color": "#d62728",
          "opacity": 0.5,
          "size": 6
         },
         "mode": "markers",
         "name": "('llama3.1_8b_chat', 'gsm8k', 'cot_3_shot', 'main', 'prompt_only') Fold ('logistic_regression_f1_score', 4)",
         "showlegend": false,
         "type": "scatter",
         "x": {
          "bdata": "AAECAwQFBgcICQoLDA0ODxAREhMUFRYXGBkaGxwdHh8=",
          "dtype": "i1"
         },
         "y": {
          "bdata": "UFZKM3FX4T+amZmZmZnhPwcw9wMLO+I/5NoXzHyd4T/Ci4UT1KLhP04F/MKtveE/ju8z8Baq4j+raDAT/HriP1mDoHmtveI/chzHcRzH4T+5Sl3P+dnhPwVIXhChJuM/q6qqqqqq4j/mVM+iPh3iP+Q4juM4DuI/0Q6kSYLm4j/PiMOFAWHiP8Ic5H+T3eE/sqtccZfw4T+SJEmSJEniPwAAAAAAgOI/KPL6MniR4j9TiFkB5RviP01b4+/mEeI/YugxoMX94T/HcRzHcRziP2Wkbv7wlOE/dfyDC5Ma4j/+WWWcCZHiP32poNWXCuI/C7q/ASgz4j8hXucz923hPw==",
          "dtype": "f8"
         }
        },
        {
         "legendgroup": "('llama3.1_8b_chat', 'medals_9k', 'base', 'main', 'prompt_answer')",
         "line": {
          "color": "#9467bd",
          "width": 2
         },
         "marker": {
          "size": 8
         },
         "mode": "lines+markers",
         "name": "('llama3.1_8b_chat', 'medals_9k', 'base', 'main', 'prompt_answer')",
         "type": "scatter",
         "x": {
          "bdata": "AAECAwQFBgcICQoLDA0ODxAREhMUFRYXGBkaGxwdHh8=",
          "dtype": "i1"
         },
         "y": {
          "bdata": "9usZDkWF5z9rZvnMTcLnPyZzhUI/zec/7Vs6PeI66D8rWxVoKDvoPyJ8JQFrOug/apKhMMxs6D+WTJHzfWXoP5t1hOJ8mug/+G3D2Aqo6D8tFWCHoLjoP5USJi205eg/H/n6oLUb6T/OGP9/TBbpP1BfUlRs8ug/6RT/kogz6T9w7yTwAvHoP3rO22QX1Og/zpP4wxHD6D+rXcIIr+DoP5OCTgd14eg/9uakXmjo6D9TPqNB3djoPxZsRq3W4eg/3gTGCrmz6D/RZAQEd5/oP44EaeaBo+g//ZF1wLzE6D+9wpVbsaDoP5YtNE8yrOg/3XfRpU2b6D8ZyvNckZjoPw==",
          "dtype": "f8"
         }
        },
        {
         "legendgroup": "('llama3.1_8b_chat', 'medals_9k', 'base', 'main', 'prompt_answer')",
         "line": {
          "width": 0
         },
         "mode": "lines",
         "name": "('llama3.1_8b_chat', 'medals_9k', 'base', 'main', 'prompt_answer') Max",
         "showlegend": false,
         "type": "scatter",
         "x": {
          "bdata": "AAECAwQFBgcICQoLDA0ODxAREhMUFRYXGBkaGxwdHh8=",
          "dtype": "i1"
         },
         "y": {
          "bdata": "zZqsSuUS6D/aCWWce5boP7wVvpnVReg/9Tfodq2c6D/VfSLl3rLoP5Hujsw9jug/w4vz0DG86D/YSIeNdNjoPzinDlcj/+g/9OdwclUH6T/DHg/pg0npP1B7PS94Zuk/mpmZmZmZ6T9aJHx8gmvpPyTnr29Lgek/kKmvUIW/6T9K2YxVQyvpP0mSJEmSJOk/eRNzeRNz6T/2zQtRhHXpP9eqN7OnTek/MCv8VHSO6T+Rcm9ZzCHpPwNdkc3SWOk/1zndfnrb6D8Hs8JPRefoP4EOlYMH/eg/HxST7Ntz6T8GiWogiw7pP/b2MxUGHek/QY0hFAzU6D94AyviWs3oPw==",
          "dtype": "f8"
         }
        },
        {
         "fill": "tonexty",
         "fillcolor": "rgba(148, 103, 189, 0.1)",
         "legendgroup": "('llama3.1_8b_chat', 'medals_9k', 'base', 'main', 'prompt_answer')",
         "line": {
          "width": 0
         },
         "mode": "lines",
         "name": "('llama3.1_8b_chat', 'medals_9k', 'base', 'main', 'prompt_answer') Min",
         "showlegend": false,
         "type": "scatter",
         "x": {
          "bdata": "AAECAwQFBgcICQoLDA0ODxAREhMUFRYXGBkaGxwdHh8=",
          "dtype": "i1"
         },
         "y": {
          "bdata": "xiNgYogO5z9eys5WLfLmP1ft+mu8MOc/5IZC9gS15z934XV0OJHnP8BrPtjao+c/pYCVAlYK6D/TzsGaJcbnP3gBFkpXHeg/RoGjgWQU6D+O7Zrq5gXoP3XYSIeNdOg/IHAyTps46D81RAF/LsnoPwAAAAAAgOg/9Umf9Emf6D+QUZrVK0zoP76E9hLaS+g/o39PTSr65z+qNOTcZxfoP9mIwcjEU+g/i3U/OCZ56D+sIs8PKJHoP9T3bXWLj+g/MVdOFfuK6D9FKEIRilDoP5BRmtUrTOg/WMHpFxMl6D/ktVKk8j7oP2sMNtwJSeg/Sfg8KnVJ6D/AglVK/yvoPw==",
          "dtype": "f8"
         }
        },
        {
         "legendgroup": "('llama3.1_8b_chat', 'medals_9k', 'base', 'main', 'prompt_answer')",
         "line": {
          "width": 0
         },
         "mode": "lines",
         "name": "('llama3.1_8b_chat', 'medals_9k', 'base', 'main', 'prompt_answer') +1 STD",
         "showlegend": false,
         "type": "scatter",
         "x": {
          "bdata": "AAECAwQFBgcICQoLDA0ODxAREhMUFRYXGBkaGxwdHh8=",
          "dtype": "i1"
         },
         "y": {
          "bdata": "VwXPTSTs5z8bdouF+l7oP4i5gluFPeg/Bm6Hm2mf6D/Fvn2A/LDoPwRBSIZHm+g/HUBsBuy76D+UPw8EvtboP9fGMxw39+g/pwkYxP8O6T8JgvBBQS/pP23nwwbPS+k/cvm6kfe66T/UiJicCl3pPzJaAC2KYuk/+AXCgq2w6T++VHdfLE7pP/LmrwnnKOk/oFWzWoRK6T8Mrh4ExGLpPwe7/NpJRek/yGxdyYlU6T/ZDDkx1BvpP80W0MKiM+k/N3CdgKLY6D/fadsLgefoPwLOSMrn7+g/tXshgLZE6T9vun2YH/roP/OrYUts/+g/QX941HPb6D+kOhjN7NfoPw==",
          "dtype": "f8"
         }
        },
        {
         "fill": "tonexty",
         "fillcolor": "rgba(148, 103, 189, 0.3)",
         "legendgroup": "('llama3.1_8b_chat', 'medals_9k', 'base', 'main', 'prompt_answer')",
         "line": {
          "width": 0
         },
         "mode": "lines",
         "name": "('llama3.1_8b_chat', 'medals_9k', 'base', 'main', 'prompt_answer') -1 STD",
         "showlegend": false,
         "type": "scatter",
         "x": {
          "bdata": "AAECAwQFBgcICQoLDA0ODxAREhMUFRYXGBkaGxwdHh8=",
          "dtype": "i1"
         },
         "y": {
          "bdata": "ldJkzmUe5z+7VmcUoSXnP8QsiCn5XOc/1Ent3lrW5z+R96xPVMXnP0C3AnyO2ec/t+TWWqwd6D+YWRPjPfTnP18k1ajCPeg/SdJu7RVB6D9RqM/M/0HoP709iFOZf+g/zPg6sHN86D/IqGVjjs/oP25kpHtOgug/2iM8o2O26D8iitKA2ZPoPwK2B8BHf+g//NE9LZ876D9KDWYNml7oPx9KoDOgfeg/JGHs80Z86D/Nbw1S5pXoP1/BvJcKkOg/hZnulM+O6D/DXy38bFfoPxo7iQIcV+g/RajJAMNE6D8Ly60eQ0foPzmvBlP4WOg/eXAqdydb6D+OWc/sNVnoPw==",
          "dtype": "f8"
         }
        },
        {
         "legendgroup": "('llama3.1_8b_chat', 'medals_9k', 'base', 'main', 'prompt_answer')",
         "marker": {
          "color": "#9467bd",
          "opacity": 0.5,
          "size": 6
         },
         "mode": "markers",
         "name": "('llama3.1_8b_chat', 'medals_9k', 'base', 'main', 'prompt_answer') Fold ('logistic_regression_f1_score', 0)",
         "showlegend": false,
         "type": "scatter",
         "x": {
          "bdata": "AAECAwQFBgcICQoLDA0ODxAREhMUFRYXGBkaGxwdHh8=",
          "dtype": "i1"
         },
         "y": {
          "bdata": "BWoaooA/5z9gcQ74HcnnP+px+YAIkOc/9Tfodq2c6D8pR6Kz54PoP5Hujsw9jug/w4vz0DG86D/YSIeNdNjoP9HEykeJ6Og/359QetsF6T/DHg/pg0npP1B7PS94Zuk/1OakC6SO6T9aJHx8gmvpPyTnr29Lgek/kKmvUIW/6T8gE6HukCLpP8p5+Cz5EOk/eRNzeRNz6T/2zQtRhHXpP9eqN7OnTek/MCv8VHSO6T+Z8vJ0oBrpPwNdkc3SWOk/1zndfnrb6D8Hs8JPRefoP4EOlYMH/eg/HxST7Ntz6T8GiWogiw7pP/b2MxUGHek/+oyzAJvP6D/fX2zIn7ToPw==",
          "dtype": "f8"
         }
        },
        {
         "legendgroup": "('llama3.1_8b_chat', 'medals_9k', 'base', 'main', 'prompt_answer')",
         "marker": {
          "color": "#9467bd",
          "opacity": 0.5,
          "size": 6
         },
         "mode": "markers",
         "name": "('llama3.1_8b_chat', 'medals_9k', 'base', 'main', 'prompt_answer') Fold ('logistic_regression_f1_score', 1)",
         "showlegend": false,
         "type": "scatter",
         "x": {
          "bdata": "AAECAwQFBgcICQoLDA0ODxAREhMUFRYXGBkaGxwdHh8=",
          "dtype": "i1"
         },
         "y": {
          "bdata": "vvfee++95z9YrQJYrQLoP7IqAAEGJOg/rrPT3Itj6D9QxGwuHWroP69uRAvcUOg/VVVVVVV16D+cmL6J6ZvoP26JU7/nlug/pQHy9syx6D+eVwdzX9foPxUvkEnxAuk/mpmZmZmZ6T8gwMJSOD/pP5vKMXApOek/Y31orA+N6T9K2YxVQyvpP0mSJEmSJOk/sOKElDzL6D/S9XFGJevoP5lPvZhPveg/IfcwIbHP6D/Yuiz/qszoP+QtRPDvtOg/MVdOFfuK6D805ow5Y87oP0M4V/oQzeg/5nhejufl6D93pDpTz6DoPxAgnfj7t+g/QY0hFAzU6D9rQcRM5rLoPw==",
          "dtype": "f8"
         }
        },
        {
         "legendgroup": "('llama3.1_8b_chat', 'medals_9k', 'base', 'main', 'prompt_answer')",
         "marker": {
          "color": "#9467bd",
          "opacity": 0.5,
          "size": 6
         },
         "mode": "markers",
         "name": "('llama3.1_8b_chat', 'medals_9k', 'base', 'main', 'prompt_answer') Fold ('logistic_regression_f1_score', 2)",
         "showlegend": false,
         "type": "scatter",
         "x": {
          "bdata": "AAECAwQFBgcICQoLDA0ODxAREhMUFRYXGBkaGxwdHh8=",
          "dtype": "i1"
         },
         "y": {
          "bdata": "zZqsSuUS6D/aCWWce5boP7wVvpnVReg/TrMAWq2D6D/VfSLl3rLoP1qh2ubniOg/ZcCeXtS06D9hinzWDaboPzinDlcj/+g/9OdwclUH6T98fIJr2dzoPxygQvOVF+k/qpeVI6V66T9+SXPrJCrpP/5DPDtd++g/pvX0r7tQ6T/yRrqGZRPpP3T6nyEm1Og/3/SmN73p6D8gE6HukCLpP0LvZ8XrMuk/johNigQP6T+Rcm9ZzCHpP1IWIE5wEek/oJ6pXHe86D9dp31tCsToP5Zx2U69v+g/12SpEODn6D89/esuVOLoP1CenTPZz+g/t3hyiye36D94AyviWs3oPw==",
          "dtype": "f8"
         }
        },
        {
         "legendgroup": "('llama3.1_8b_chat', 'medals_9k', 'base', 'main', 'prompt_answer')",
         "marker": {
          "color": "#9467bd",
          "opacity": 0.5,
          "size": 6
         },
         "mode": "markers",
         "name": "('llama3.1_8b_chat', 'medals_9k', 'base', 'main', 'prompt_answer') Fold ('logistic_regression_f1_score', 3)",
         "showlegend": false,
         "type": "scatter",
         "x": {
          "bdata": "AAECAwQFBgcICQoLDA0ODxAREhMUFRYXGBkaGxwdHh8=",
          "dtype": "i1"
         },
         "y": {
          "bdata": "e3t7e3t75z8rDZq9EHfnPxKg6MSb1+c/5IZC9gS15z8TXcPMrfXnP8BrPtjao+c/pYCVAlYK6D/TzsGaJcbnP3gBFkpXHeg/RoGjgWQU6D+O7Zrq5gXoP/M5Ze73hug/IHAyTps46D81RAF/LsnoPwAAAAAAgOg/AgJPPRDF6D+QUZrVK0zoP76E9hLaS+g/o39PTSr65z+qNOTcZxfoP9mIwcjEU+g/i3U/OCZ56D/z9NFqEqLoP2WD/OByuug/1X15bEXQ6D83jwYMFlPoP5BRmtUrTOg/WMHpFxMl6D/ktVKk8j7oP2sMNtwJSeg/Sfg8KnVJ6D/8yhGP9pnoPw==",
          "dtype": "f8"
         }
        },
        {
         "legendgroup": "('llama3.1_8b_chat', 'medals_9k', 'base', 'main', 'prompt_answer')",
         "marker": {
          "color": "#9467bd",
          "opacity": 0.5,
          "size": 6
         },
         "mode": "markers",
         "name": "('llama3.1_8b_chat', 'medals_9k', 'base', 'main', 'prompt_answer') Fold ('logistic_regression_f1_score', 4)",
         "showlegend": false,
         "type": "scatter",
         "x": {
          "bdata": "AAECAwQFBgcICQoLDA0ODxAREhMUFRYXGBkaGxwdHh8=",
          "dtype": "i1"
         },
         "y": {
          "bdata": "xiNgYogO5z9eys5WLfLmP1ft+mu8MOc/zqUkjn/t5z934XV0OJHnP1ECz246GOg/9Lmqa0sv6D9KRFI55BroPxlVU8SEaOg/GBt61tN06D94iazyfpfoP3XYSIeNdOg/ZVXgDQ6v6D/XCUhGcNHoP9LmfYpLhug/9Umf9Emf6D9DKDYQqQfpPxl9l03pzug/WXjsQCGt6D/JyMjIyMjoP1kaakqh1eg/YWJ+oLmj6D+sIs8PKJHoP9T3bXWLj+g/2WqP2GqP6D9FKEIRilDoP98Mrd2HW+g/vibHHvlw6D8U7QiD1VLoPy4iYG4Wb+g/FcySckBk6D/AglVK/yvoPw==",
          "dtype": "f8"
         }
        },
        {
         "legendgroup": "('llama3.1_8b_chat', 'medals_9k', 'base', 'main', 'prompt_only')",
         "line": {
          "color": "#8c564b",
          "width": 2
         },
         "marker": {
          "size": 8
         },
         "mode": "lines+markers",
         "name": "('llama3.1_8b_chat', 'medals_9k', 'base', 'main', 'prompt_only')",
         "type": "scatter",
         "x": {
          "bdata": "AAECAwQFBgcICQoLDA0ODxAREhMUFRYXGBkaGxwdHh8=",
          "dtype": "i1"
         },
         "y": {
          "bdata": "P02szQY85z95mk7dK1rnP0oB7G2ugOc/OleKQG575z/byj6iVavnPwQ8f3grtec/2qBhr/HR5z90OEFUirvnP/EoM6K0+Oc/9/KiQ5Me6D+51ywVahvoP4qjl1ncZOg/zKCKICdj6D+IES3jEHvoPxgyZ9GWbOg/IyijukDH6D/cbYEXCpvoP4Pbbn1Jp+g/tH1AJjuu6D+42rQG2cToPw03FB86qug/qM1RlrOm6D8DwU5COpLoP5qnYUTaiOg/oenHO7Ci6D+mmUA1d5ToPyqdItmDvug/TURGb/2u6D9N08AqQ63oP0QsTIp1yeg/GIOaXiOU6D8CNsBpTJfoPw==",
          "dtype": "f8"
         }
        },
        {
         "legendgroup": "('llama3.1_8b_chat', 'medals_9k', 'base', 'main', 'prompt_only')",
         "line": {
          "width": 0
         },
         "mode": "lines",
         "name": "('llama3.1_8b_chat', 'medals_9k', 'base', 'main', 'prompt_only') Max",
         "showlegend": false,
         "type": "scatter",
         "x": {
          "bdata": "AAECAwQFBgcICQoLDA0ODxAREhMUFRYXGBkaGxwdHh8=",
          "dtype": "i1"
         },
         "y": {
          "bdata": "tg79ZuvQ5z+bxJMqvg/oP/ni37r+LOg/yyX9WylK6D9fzrYA9ovoP4hA3YhnPug/IHoHJehM6D+fQCo5L4voP2VV4A0Or+g/+rhBrEnH6D9q3qVU24DoP4tx3dK/0Og/MEhvG+DR6D+4uG+uSTvpP2cfPsOuAOk/B42qtZVx6T/x+0Rr4BjpP9FKhskrCuk/bYNUz6Q26T+pQlKsBTjpP9W3BI0hQOk/sEfotp9j6T8ZlVEZlVHpP1SUKmQmLOk/hixkIQtZ6T/29jMVBh3pP1PWlDVlTek/6sAqiiUo6T+0maaUhy7pP1SUKmQmLOk/EqXGHmYB6T/2/mD4cR3pPw==",
          "dtype": "f8"
         }
        },
        {
         "fill": "tonexty",
         "fillcolor": "rgba(140, 86, 75, 0.1)",
         "legendgroup": "('llama3.1_8b_chat', 'medals_9k', 'base', 'main', 'prompt_only')",
         "line": {
          "width": 0
         },
         "mode": "lines",
         "name": "('llama3.1_8b_chat', 'medals_9k', 'base', 'main', 'prompt_only') Min",
         "showlegend": false,
         "type": "scatter",
         "x": {
          "bdata": "AAECAwQFBgcICQoLDA0ODxAREhMUFRYXGBkaGxwdHh8=",
          "dtype": "i1"
         },
         "y": {
          "bdata": "1Z0tMrf85T8o3rFePzDmP+OU2/0dXOY/yTIf3IKp5j9nr5wYysrmP9KrLmKIE+c/t23btm3b5j9QnMFnes3mP65JOznLTec/L2wEpjAi5z+9YF4wL5jnP31bfI6x2Oc/krqFQnOO5z9aAZqULNrnP1oBmpQs2uc/iMkVxOQK6D/zUHAlt+fnP5cwZ12g/uc/0HUwoxEP6D+74ZhS5fvnP87C82N6GOg/bgM8Gksi6D9cGaK1SvLnP2H2u9XC4ec/Gj5C4Jkb6D9cVAr8ODvoP2xsbGxsbOg/3MFgp//t5z9DKkKLOv3nPwGkPDBsSug/5cnwl4nE5z97LSTRN/LnPw==",
          "dtype": "f8"
         }
        },
        {
         "legendgroup": "('llama3.1_8b_chat', 'medals_9k', 'base', 'main', 'prompt_only')",
         "line": {
          "width": 0
         },
         "mode": "lines",
         "name": "('llama3.1_8b_chat', 'medals_9k', 'base', 'main', 'prompt_only') +1 STD",
         "showlegend": false,
         "type": "scatter",
         "x": {
          "bdata": "AAECAwQFBgcICQoLDA0ODxAREhMUFRYXGBkaGxwdHh8=",
          "dtype": "i1"
         },
         "y": {
          "bdata": "8lHXz1r15z/qSBDIJh/oP8dOfykNN+g/tdJ+i5ge6D/w0YxdHlnoP9JcnHLNKug/pn869Q1n6D+8S9FcxmHoPwcgO266lOg/LGN0Q7nK6D9EV7bSjXPoPxKH5qXjxOg/Ha6puybf6D/MmwYXKPvoP50gk1eS3+g/P0RldG1H6T/dZ7nq7BjpP12pNWMrFOk/mNpGkiIZ6T/c4dQ1BkTpP05Aa2kKH+k/EYoF0tQo6T8dO+NcICDpP+M40kOdCOk/nYhLB44a6T8PcoIyPO/oPxqTa6DdH+k/H9IkdCUt6T++0HCz6CbpP4IKjzuHJ+k/WnLgeqYV6T/MvQDkMQ3pPw==",
          "dtype": "f8"
         }
        },
        {
         "fill": "tonexty",
         "fillcolor": "rgba(140, 86, 75, 0.3)",
         "legendgroup": "('llama3.1_8b_chat', 'medals_9k', 'base', 'main', 'prompt_only')",
         "line": {
          "width": 0
         },
         "mode": "lines",
         "name": "('llama3.1_8b_chat', 'medals_9k', 'base', 'main', 'prompt_only') -1 STD",
         "showlegend": false,
         "type": "scatter",
         "x": {
          "bdata": "AAECAwQFBgcICQoLDA0ODxAREhMUFRYXGBkaGxwdHh8=",
          "dtype": "i1"
         },
         "y": {
          "bdata": "jEiBy7KC5j8I7IzyMJXmP82zWLJPyuY/v9uV9UPY5j/Gw/DmjP3mPzYbYn6JP+c/DsKIadU85z8sJbFLThXnP9sxK9auXOc/woLRQ21y5z8uWKNXRsPnPwLASA3VBOg/e5NrhSfn5z9Eh1Ov+frnP5NDO0ub+ec/BwzhABRH6D/bc0lEJx3oP6kNqJdnOug/0CA6ulND6D+U05TXq0XoP8wtvdRpNeg/PxGeWpIk6D/pRronVAToP1EW8UQXCeg/pUpEcNIq6D89wf43sjnoPzqn2REqXeg/e7ZnatUw6D/c1RCinTPoPwZOCdlja+g/1pNUQqAS6D84rn/vZiHoPw==",
          "dtype": "f8"
         }
        },
        {
         "legendgroup": "('llama3.1_8b_chat', 'medals_9k', 'base', 'main', 'prompt_only')",
         "marker": {
          "color": "#8c564b",
          "opacity": 0.5,
          "size": 6
         },
         "mode": "markers",
         "name": "('llama3.1_8b_chat', 'medals_9k', 'base', 'main', 'prompt_only') Fold ('logistic_regression_f1_score', 0)",
         "showlegend": false,
         "type": "scatter",
         "x": {
          "bdata": "AAECAwQFBgcICQoLDA0ODxAREhMUFRYXGBkaGxwdHh8=",
          "dtype": "i1"
         },
         "y": {
          "bdata": "+dMWGrCk5z+bxJMqvg/oP9EUlQZFBOg/GAjOo7Pt5z/M+PinhB3oP8CiBlH4Deg/RqLU2MMs6D8hC1nIQhboP+b8jneTjOg/QLPbQeu36D9q3qVU24DoP3rTm970pug/MEhvG+DR6D+4uG+uSTvpP2cfPsOuAOk/B42qtZVx6T+X7dT7iw3pP9FKhskrCuk/bYNUz6Q26T/c6yFADS3pP9W3BI0hQOk/sEfotp9j6T8ZlVEZlVHpP1SUKmQmLOk/hixkIQtZ6T/29jMVBh3pP1PWlDVlTek/6sAqiiUo6T+0maaUhy7pP1SUKmQmLOk/EqXGHmYB6T/2/mD4cR3pPw==",
          "dtype": "f8"
         }
        },
        {
         "legendgroup": "('llama3.1_8b_chat', 'medals_9k', 'base', 'main', 'prompt_only')",
         "marker": {
          "color": "#8c564b",
          "opacity": 0.5,
          "size": 6
         },
         "mode": "markers",
         "name": "('llama3.1_8b_chat', 'medals_9k', 'base', 'main', 'prompt_only') Fold ('logistic_regression_f1_score', 1)",
         "showlegend": false,
         "type": "scatter",
         "x": {
          "bdata": "AAECAwQFBgcICQoLDA0ODxAREhMUFRYXGBkaGxwdHh8=",
          "dtype": "i1"
         },
         "y": {
          "bdata": "tg79ZuvQ5z+F+KrVNwroP/ni37r+LOg/yyX9WylK6D9fzrYA9ovoP4hA3YhnPug/IHoHJehM6D+fQCo5L4voP2VV4A0Or+g/+rhBrEnH6D/GZ9+8EEXoP4tx3dK/0Og/nKqrmct66D+DSC/cYJHoP6jbafiAb+g/T4aMSSLf6D/x+0Rr4BjpP8asNHpEBek/oStL53jW6D+pQlKsBTjpPyyDUmHi/eg/4EmzHIbv6D9TEviANO7oP6TN5Hj10+g/pJsq0QLI6D+Qx6hKFq7oP5bTuarf9eg/eW4YeW4Y6T9s83oCihHpP+7ZaTPB/ug/7tlpM8H+6D9tojF3XvPoPw==",
          "dtype": "f8"
         }
        },
        {
         "legendgroup": "('llama3.1_8b_chat', 'medals_9k', 'base', 'main', 'prompt_only')",
         "marker": {
          "color": "#8c564b",
          "opacity": 0.5,
          "size": 6
         },
         "mode": "markers",
         "name": "('llama3.1_8b_chat', 'medals_9k', 'base', 'main', 'prompt_only') Fold ('logistic_regression_f1_score', 2)",
         "showlegend": false,
         "type": "scatter",
         "x": {
          "bdata": "AAECAwQFBgcICQoLDA0ODxAREhMUFRYXGBkaGxwdHh8=",
          "dtype": "i1"
         },
         "y": {
          "bdata": "1Z0tMrf85T8o3rFePzDmP+OU2/0dXOY/yTIf3IKp5j9nr5wYysrmP9KrLmKIE+c/t23btm3b5j9QnMFnes3mP65JOznLTec/L2wEpjAi5z+9YF4wL5jnP31bfI6x2Oc/krqFQnOO5z9aAZqULNrnP1oBmpQs2uc/iMkVxOQK6D/zUHAlt+fnP5cwZ12g/uc/0HUwoxEP6D+74ZhS5fvnP87C82N6GOg/bgM8Gksi6D9cGaK1SvLnP2H2u9XC4ec/Gj5C4Jkb6D9cVAr8ODvoP+sGU+Szbug/3MFgp//t5z9DKkKLOv3nPwGkPDBsSug/5cnwl4nE5z97LSTRN/LnPw==",
          "dtype": "f8"
         }
        },
        {
         "legendgroup": "('llama3.1_8b_chat', 'medals_9k', 'base', 'main', 'prompt_only')",
         "marker": {
          "color": "#8c564b",
          "opacity": 0.5,
          "size": 6
         },
         "mode": "markers",
         "name": "('llama3.1_8b_chat', 'medals_9k', 'base', 'main', 'prompt_only') Fold ('logistic_regression_f1_score', 3)",
         "showlegend": false,
         "type": "scatter",
         "x": {
          "bdata": "AAECAwQFBgcICQoLDA0ODxAREhMUFRYXGBkaGxwdHh8=",
          "dtype": "i1"
         },
         "y": {
          "bdata": "dGy+G35U5z8lZ58NFU/nP4O9JkZqbec/dRFDnLg05z+ycow6yWTnPxdOtV2mo+c/4h4ny3gQ6D+W1NGJELDnPxbbbKK6m+c/7oQJJPbs5z9mFAQ01/fnP8j4nvnNQeg/iHG/Lql86D+Kj9Tui0voP+gKNy5jJeg/2DYCbYCy6D8hQqIcFIvoP8VUYioxleg//3Yi2/ql6D9+uvRlcbjoP+hVFme0e+g/7I3nQ3xR6D/9ELR0O3boP0w1fby2iOg/yhXE5Api6D9uiVO/55boP5P0ngwumug/+85GfWej6D/ysmSwU5ToP4sOYb2QhOg/arckj+J96D8GzsLzY3roPw==",
          "dtype": "f8"
         }
        },
        {
         "legendgroup": "('llama3.1_8b_chat', 'medals_9k', 'base', 'main', 'prompt_only')",
         "marker": {
          "color": "#8c564b",
          "opacity": 0.5,
          "size": 6
         },
         "mode": "markers",
         "name": "('llama3.1_8b_chat', 'medals_9k', 'base', 'main', 'prompt_only') Fold ('logistic_regression_f1_score', 4)",
         "showlegend": false,
         "type": "scatter",
         "x": {
          "bdata": "AAECAwQFBgcICQoLDA0ODxAREhMUFRYXGBkaGxwdHh8=",
          "dtype": "i1"
         },
         "y": {
          "bdata": "RZVdNVFl5z/xAfnlkCnnP0W8JCCciOc//kGGyg5T5z/+DGEvnn/nP+NOtMBKhuc/QnsJ7SW05z+bXS+ytornP6VV6Mlftuc/e2EDmoQK6D9Ne/jzHzPoP2aYYYYZZug/FAVVfPuX6D+HxdNh8XToPyrzipgyr+g/+bTgdCbW6D+vqFrM+m3oP53Mpactoeg/pdhPiv2k6D/WeoZ8077oP4i/A+LvgOg/W+HZvZR66D9L8+mG0zLoP1q4n+atQeg/E3RSc76O6D/wYwjvFknoP2xsbGxsbOg/QpV0BPiY6D8qtvsCsJDoP4S8Si5n9eg/J4++Xx2i6D8ecUfcEXfoPw==",
          "dtype": "f8"
         }
        }
       ],
       "layout": {
        "font": {
         "color": "white"
        },
        "height": 600,
        "legend": {
         "bgcolor": "rgba(32, 32, 32, 0.8)",
         "orientation": "h",
         "x": 0.5,
         "xanchor": "center",
         "y": 1.02,
         "yanchor": "bottom"
        },
        "margin": {
         "b": 50,
         "l": 50,
         "r": 30,
         "t": 100
        },
        "paper_bgcolor": "rgba(32, 32, 32, 1)",
        "plot_bgcolor": "rgba(32, 32, 32, 1)",
        "showlegend": true,
        "template": {
         "data": {
          "bar": [
           {
            "error_x": {
             "color": "#f2f5fa"
            },
            "error_y": {
             "color": "#f2f5fa"
            },
            "marker": {
             "line": {
              "color": "rgb(17,17,17)",
              "width": 0.5
             },
             "pattern": {
              "fillmode": "overlay",
              "size": 10,
              "solidity": 0.2
             }
            },
            "type": "bar"
           }
          ],
          "barpolar": [
           {
            "marker": {
             "line": {
              "color": "rgb(17,17,17)",
              "width": 0.5
             },
             "pattern": {
              "fillmode": "overlay",
              "size": 10,
              "solidity": 0.2
             }
            },
            "type": "barpolar"
           }
          ],
          "carpet": [
           {
            "aaxis": {
             "endlinecolor": "#A2B1C6",
             "gridcolor": "#506784",
             "linecolor": "#506784",
             "minorgridcolor": "#506784",
             "startlinecolor": "#A2B1C6"
            },
            "baxis": {
             "endlinecolor": "#A2B1C6",
             "gridcolor": "#506784",
             "linecolor": "#506784",
             "minorgridcolor": "#506784",
             "startlinecolor": "#A2B1C6"
            },
            "type": "carpet"
           }
          ],
          "choropleth": [
           {
            "colorbar": {
             "outlinewidth": 0,
             "ticks": ""
            },
            "type": "choropleth"
           }
          ],
          "contour": [
           {
            "colorbar": {
             "outlinewidth": 0,
             "ticks": ""
            },
            "colorscale": [
             [
              0,
              "#0d0887"
             ],
             [
              0.1111111111111111,
              "#46039f"
             ],
             [
              0.2222222222222222,
              "#7201a8"
             ],
             [
              0.3333333333333333,
              "#9c179e"
             ],
             [
              0.4444444444444444,
              "#bd3786"
             ],
             [
              0.5555555555555556,
              "#d8576b"
             ],
             [
              0.6666666666666666,
              "#ed7953"
             ],
             [
              0.7777777777777778,
              "#fb9f3a"
             ],
             [
              0.8888888888888888,
              "#fdca26"
             ],
             [
              1,
              "#f0f921"
             ]
            ],
            "type": "contour"
           }
          ],
          "contourcarpet": [
           {
            "colorbar": {
             "outlinewidth": 0,
             "ticks": ""
            },
            "type": "contourcarpet"
           }
          ],
          "heatmap": [
           {
            "colorbar": {
             "outlinewidth": 0,
             "ticks": ""
            },
            "colorscale": [
             [
              0,
              "#0d0887"
             ],
             [
              0.1111111111111111,
              "#46039f"
             ],
             [
              0.2222222222222222,
              "#7201a8"
             ],
             [
              0.3333333333333333,
              "#9c179e"
             ],
             [
              0.4444444444444444,
              "#bd3786"
             ],
             [
              0.5555555555555556,
              "#d8576b"
             ],
             [
              0.6666666666666666,
              "#ed7953"
             ],
             [
              0.7777777777777778,
              "#fb9f3a"
             ],
             [
              0.8888888888888888,
              "#fdca26"
             ],
             [
              1,
              "#f0f921"
             ]
            ],
            "type": "heatmap"
           }
          ],
          "histogram": [
           {
            "marker": {
             "pattern": {
              "fillmode": "overlay",
              "size": 10,
              "solidity": 0.2
             }
            },
            "type": "histogram"
           }
          ],
          "histogram2d": [
           {
            "colorbar": {
             "outlinewidth": 0,
             "ticks": ""
            },
            "colorscale": [
             [
              0,
              "#0d0887"
             ],
             [
              0.1111111111111111,
              "#46039f"
             ],
             [
              0.2222222222222222,
              "#7201a8"
             ],
             [
              0.3333333333333333,
              "#9c179e"
             ],
             [
              0.4444444444444444,
              "#bd3786"
             ],
             [
              0.5555555555555556,
              "#d8576b"
             ],
             [
              0.6666666666666666,
              "#ed7953"
             ],
             [
              0.7777777777777778,
              "#fb9f3a"
             ],
             [
              0.8888888888888888,
              "#fdca26"
             ],
             [
              1,
              "#f0f921"
             ]
            ],
            "type": "histogram2d"
           }
          ],
          "histogram2dcontour": [
           {
            "colorbar": {
             "outlinewidth": 0,
             "ticks": ""
            },
            "colorscale": [
             [
              0,
              "#0d0887"
             ],
             [
              0.1111111111111111,
              "#46039f"
             ],
             [
              0.2222222222222222,
              "#7201a8"
             ],
             [
              0.3333333333333333,
              "#9c179e"
             ],
             [
              0.4444444444444444,
              "#bd3786"
             ],
             [
              0.5555555555555556,
              "#d8576b"
             ],
             [
              0.6666666666666666,
              "#ed7953"
             ],
             [
              0.7777777777777778,
              "#fb9f3a"
             ],
             [
              0.8888888888888888,
              "#fdca26"
             ],
             [
              1,
              "#f0f921"
             ]
            ],
            "type": "histogram2dcontour"
           }
          ],
          "mesh3d": [
           {
            "colorbar": {
             "outlinewidth": 0,
             "ticks": ""
            },
            "type": "mesh3d"
           }
          ],
          "parcoords": [
           {
            "line": {
             "colorbar": {
              "outlinewidth": 0,
              "ticks": ""
             }
            },
            "type": "parcoords"
           }
          ],
          "pie": [
           {
            "automargin": true,
            "type": "pie"
           }
          ],
          "scatter": [
           {
            "marker": {
             "line": {
              "color": "#283442"
             }
            },
            "type": "scatter"
           }
          ],
          "scatter3d": [
           {
            "line": {
             "colorbar": {
              "outlinewidth": 0,
              "ticks": ""
             }
            },
            "marker": {
             "colorbar": {
              "outlinewidth": 0,
              "ticks": ""
             }
            },
            "type": "scatter3d"
           }
          ],
          "scattercarpet": [
           {
            "marker": {
             "colorbar": {
              "outlinewidth": 0,
              "ticks": ""
             }
            },
            "type": "scattercarpet"
           }
          ],
          "scattergeo": [
           {
            "marker": {
             "colorbar": {
              "outlinewidth": 0,
              "ticks": ""
             }
            },
            "type": "scattergeo"
           }
          ],
          "scattergl": [
           {
            "marker": {
             "line": {
              "color": "#283442"
             }
            },
            "type": "scattergl"
           }
          ],
          "scattermap": [
           {
            "marker": {
             "colorbar": {
              "outlinewidth": 0,
              "ticks": ""
             }
            },
            "type": "scattermap"
           }
          ],
          "scattermapbox": [
           {
            "marker": {
             "colorbar": {
              "outlinewidth": 0,
              "ticks": ""
             }
            },
            "type": "scattermapbox"
           }
          ],
          "scatterpolar": [
           {
            "marker": {
             "colorbar": {
              "outlinewidth": 0,
              "ticks": ""
             }
            },
            "type": "scatterpolar"
           }
          ],
          "scatterpolargl": [
           {
            "marker": {
             "colorbar": {
              "outlinewidth": 0,
              "ticks": ""
             }
            },
            "type": "scatterpolargl"
           }
          ],
          "scatterternary": [
           {
            "marker": {
             "colorbar": {
              "outlinewidth": 0,
              "ticks": ""
             }
            },
            "type": "scatterternary"
           }
          ],
          "surface": [
           {
            "colorbar": {
             "outlinewidth": 0,
             "ticks": ""
            },
            "colorscale": [
             [
              0,
              "#0d0887"
             ],
             [
              0.1111111111111111,
              "#46039f"
             ],
             [
              0.2222222222222222,
              "#7201a8"
             ],
             [
              0.3333333333333333,
              "#9c179e"
             ],
             [
              0.4444444444444444,
              "#bd3786"
             ],
             [
              0.5555555555555556,
              "#d8576b"
             ],
             [
              0.6666666666666666,
              "#ed7953"
             ],
             [
              0.7777777777777778,
              "#fb9f3a"
             ],
             [
              0.8888888888888888,
              "#fdca26"
             ],
             [
              1,
              "#f0f921"
             ]
            ],
            "type": "surface"
           }
          ],
          "table": [
           {
            "cells": {
             "fill": {
              "color": "#506784"
             },
             "line": {
              "color": "rgb(17,17,17)"
             }
            },
            "header": {
             "fill": {
              "color": "#2a3f5f"
             },
             "line": {
              "color": "rgb(17,17,17)"
             }
            },
            "type": "table"
           }
          ]
         },
         "layout": {
          "annotationdefaults": {
           "arrowcolor": "#f2f5fa",
           "arrowhead": 0,
           "arrowwidth": 1
          },
          "autotypenumbers": "strict",
          "coloraxis": {
           "colorbar": {
            "outlinewidth": 0,
            "ticks": ""
           }
          },
          "colorscale": {
           "diverging": [
            [
             0,
             "#8e0152"
            ],
            [
             0.1,
             "#c51b7d"
            ],
            [
             0.2,
             "#de77ae"
            ],
            [
             0.3,
             "#f1b6da"
            ],
            [
             0.4,
             "#fde0ef"
            ],
            [
             0.5,
             "#f7f7f7"
            ],
            [
             0.6,
             "#e6f5d0"
            ],
            [
             0.7,
             "#b8e186"
            ],
            [
             0.8,
             "#7fbc41"
            ],
            [
             0.9,
             "#4d9221"
            ],
            [
             1,
             "#276419"
            ]
           ],
           "sequential": [
            [
             0,
             "#0d0887"
            ],
            [
             0.1111111111111111,
             "#46039f"
            ],
            [
             0.2222222222222222,
             "#7201a8"
            ],
            [
             0.3333333333333333,
             "#9c179e"
            ],
            [
             0.4444444444444444,
             "#bd3786"
            ],
            [
             0.5555555555555556,
             "#d8576b"
            ],
            [
             0.6666666666666666,
             "#ed7953"
            ],
            [
             0.7777777777777778,
             "#fb9f3a"
            ],
            [
             0.8888888888888888,
             "#fdca26"
            ],
            [
             1,
             "#f0f921"
            ]
           ],
           "sequentialminus": [
            [
             0,
             "#0d0887"
            ],
            [
             0.1111111111111111,
             "#46039f"
            ],
            [
             0.2222222222222222,
             "#7201a8"
            ],
            [
             0.3333333333333333,
             "#9c179e"
            ],
            [
             0.4444444444444444,
             "#bd3786"
            ],
            [
             0.5555555555555556,
             "#d8576b"
            ],
            [
             0.6666666666666666,
             "#ed7953"
            ],
            [
             0.7777777777777778,
             "#fb9f3a"
            ],
            [
             0.8888888888888888,
             "#fdca26"
            ],
            [
             1,
             "#f0f921"
            ]
           ]
          },
          "colorway": [
           "#636efa",
           "#EF553B",
           "#00cc96",
           "#ab63fa",
           "#FFA15A",
           "#19d3f3",
           "#FF6692",
           "#B6E880",
           "#FF97FF",
           "#FECB52"
          ],
          "font": {
           "color": "#f2f5fa"
          },
          "geo": {
           "bgcolor": "rgb(17,17,17)",
           "lakecolor": "rgb(17,17,17)",
           "landcolor": "rgb(17,17,17)",
           "showlakes": true,
           "showland": true,
           "subunitcolor": "#506784"
          },
          "hoverlabel": {
           "align": "left"
          },
          "hovermode": "closest",
          "mapbox": {
           "style": "dark"
          },
          "paper_bgcolor": "rgb(17,17,17)",
          "plot_bgcolor": "rgb(17,17,17)",
          "polar": {
           "angularaxis": {
            "gridcolor": "#506784",
            "linecolor": "#506784",
            "ticks": ""
           },
           "bgcolor": "rgb(17,17,17)",
           "radialaxis": {
            "gridcolor": "#506784",
            "linecolor": "#506784",
            "ticks": ""
           }
          },
          "scene": {
           "xaxis": {
            "backgroundcolor": "rgb(17,17,17)",
            "gridcolor": "#506784",
            "gridwidth": 2,
            "linecolor": "#506784",
            "showbackground": true,
            "ticks": "",
            "zerolinecolor": "#C8D4E3"
           },
           "yaxis": {
            "backgroundcolor": "rgb(17,17,17)",
            "gridcolor": "#506784",
            "gridwidth": 2,
            "linecolor": "#506784",
            "showbackground": true,
            "ticks": "",
            "zerolinecolor": "#C8D4E3"
           },
           "zaxis": {
            "backgroundcolor": "rgb(17,17,17)",
            "gridcolor": "#506784",
            "gridwidth": 2,
            "linecolor": "#506784",
            "showbackground": true,
            "ticks": "",
            "zerolinecolor": "#C8D4E3"
           }
          },
          "shapedefaults": {
           "line": {
            "color": "#f2f5fa"
           }
          },
          "sliderdefaults": {
           "bgcolor": "#C8D4E3",
           "bordercolor": "rgb(17,17,17)",
           "borderwidth": 1,
           "tickwidth": 0
          },
          "ternary": {
           "aaxis": {
            "gridcolor": "#506784",
            "linecolor": "#506784",
            "ticks": ""
           },
           "baxis": {
            "gridcolor": "#506784",
            "linecolor": "#506784",
            "ticks": ""
           },
           "bgcolor": "rgb(17,17,17)",
           "caxis": {
            "gridcolor": "#506784",
            "linecolor": "#506784",
            "ticks": ""
           }
          },
          "title": {
           "x": 0.05
          },
          "updatemenudefaults": {
           "bgcolor": "#506784",
           "borderwidth": 0
          },
          "xaxis": {
           "automargin": true,
           "gridcolor": "#283442",
           "linecolor": "#506784",
           "ticks": "",
           "title": {
            "standoff": 15
           },
           "zerolinecolor": "#283442",
           "zerolinewidth": 2
          },
          "yaxis": {
           "automargin": true,
           "gridcolor": "#283442",
           "linecolor": "#506784",
           "ticks": "",
           "title": {
            "standoff": 15
           },
           "zerolinecolor": "#283442",
           "zerolinewidth": 2
          }
         }
        },
        "title": {},
        "width": 1000,
        "xaxis": {
         "gridcolor": "rgba(128, 128, 128, 0.2)",
         "title": {
          "text": "Layer"
         },
         "zeroline": false
        },
        "yaxis": {
         "gridcolor": "rgba(128, 128, 128, 0.2)",
         "title": {
          "text": "Logistic Regression F1 Score"
         },
         "zeroline": false
        }
       }
      }
     },
     "metadata": {},
     "output_type": "display_data"
    }
   ],
   "source": [
    "for classifier in [\"direction\", \"logistic_regression\"]:\n",
    "    # for metric in [\"f1_score\", \"accuracy_score\", \"precision_score\", \"recall_score\"]:\n",
    "    for metric in [\"f1_score\"]:\n",
    "        plot_dict = {}\n",
    "        for conf, res_df_ in res_df.groupby([\"model_id\", \"dataset_id\", \"prompt_id\", \"subset_id\", \"input_type\"]):\n",
    "            # if conf[4] != \"prompt_only\":\n",
    "            #     continue\n",
    "            \n",
    "            print(f\"{conf=}\")\n",
    "            res_df_pivot = pd.pivot(\n",
    "                res_df_.drop(columns=[\"model_id\", \"dataset_id\", \"prompt_id\", \"subset_id\", \"input_type\"]),\n",
    "                index='layer',\n",
    "                columns='fold',\n",
    "                # values=['direction_f1_score', 'logistic_regression_f1_score']  # add all metrics you want to keep\n",
    "            )\n",
    "            # for classifier in [\"direction\", \"logistic_regression\"]:\n",
    "            #     for metric in [\"f1_score\", \"accuracy_score\", \"precision_score\", \"recall_score\"]:\n",
    "            plot_dict[str(conf)] = res_df_pivot[[f\"{classifier}_{metric}\"]]\n",
    "\n",
    "        plot_interactive_lineplot(\n",
    "            plot_dict,\n",
    "            x_label=\"Layer\",\n",
    "            y_label=f\"{classifier}_{metric}\".replace(\"_\", \" \").title(),\n",
    "            save_path=f\"./classification_data/figures/res_df_llama31_8B_4_memory_datasets_{classifier}_{metric}{PCA_COMONENTS_LABEL}.html\"\n",
    "        ).show()\n",
    "\n"
   ]
  },
  {
   "cell_type": "code",
   "execution_count": null,
   "metadata": {},
   "outputs": [],
   "source": []
  },
  {
   "cell_type": "code",
   "execution_count": null,
   "metadata": {},
   "outputs": [],
   "source": []
  }
 ],
 "metadata": {
  "kernelspec": {
   "display_name": "venv",
   "language": "python",
   "name": "python3"
  },
  "language_info": {
   "codemirror_mode": {
    "name": "ipython",
    "version": 3
   },
   "file_extension": ".py",
   "mimetype": "text/x-python",
   "name": "python",
   "nbconvert_exporter": "python",
   "pygments_lexer": "ipython3",
   "version": "3.11.3"
  }
 },
 "nbformat": 4,
 "nbformat_minor": 2
}
