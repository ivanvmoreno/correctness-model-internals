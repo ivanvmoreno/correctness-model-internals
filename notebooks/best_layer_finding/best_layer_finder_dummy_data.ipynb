{
 "cells": [
  {
   "cell_type": "code",
   "execution_count": 1,
   "metadata": {},
   "outputs": [
    {
     "data": {
      "text/plain": [
       "['/Library/Frameworks/Python.framework/Versions/3.11/lib/python311.zip',\n",
       " '/Library/Frameworks/Python.framework/Versions/3.11/lib/python3.11',\n",
       " '/Library/Frameworks/Python.framework/Versions/3.11/lib/python3.11/lib-dynload',\n",
       " '',\n",
       " '/Users/anton/dev/MARS/correctness-model-internals/venv/lib/python3.11/site-packages',\n",
       " '/Users/anton/dev/MARS/correctness-model-internals']"
      ]
     },
     "execution_count": 1,
     "metadata": {},
     "output_type": "execute_result"
    }
   ],
   "source": [
    "import sys\n",
    "from pathlib import Path\n",
    "\n",
    "# Add the src directory to Python path\n",
    "src_path = str(Path(\"./\").resolve().parent.parent)\n",
    "if src_path not in sys.path:\n",
    "    sys.path.append(src_path)\n",
    "\n",
    "sys.path"
   ]
  },
  {
   "cell_type": "code",
   "execution_count": 2,
   "metadata": {},
   "outputs": [],
   "source": [
    "from collections import defaultdict\n",
    "\n",
    "import pandas as pd\n",
    "\n",
    "from src.classifying import (\n",
    "    ActivationsHandler,\n",
    "    combine_activations_handlers,\n",
    "    get_correctness_direction_classifier,\n",
    "    get_logistic_regression_classifier,\n",
    "    get_between_class_variance_and_within_class_variance,\n",
    ")\n",
    "from src.visualisations.utils import plot_interactive_lineplot\n",
    "from src.utils.data import load_activations, load_labels, get_experiment_activations_configs_df_subset\n"
   ]
  },
  {
   "cell_type": "code",
   "execution_count": 3,
   "metadata": {},
   "outputs": [],
   "source": [
    "BASE_PATH = \"../../data_for_classification\""
   ]
  },
  {
   "cell_type": "code",
   "execution_count": 8,
   "metadata": {},
   "outputs": [],
   "source": [
    "import numpy as np\n",
    "import torch as pt\n",
    "from pathlib import Path\n",
    "import os\n",
    "\n",
    "def generate_dummy_data(base_path: str, n_layers: int = 32, n_files: int = 4, \n",
    "                       points_per_file: int = 25, n_dims: int = 10):\n",
    "    \"\"\"\n",
    "    Generate dummy activation data with specific separation patterns across layers.\n",
    "    \n",
    "    Parameters:\n",
    "    -----------\n",
    "    base_path : str\n",
    "        Base path for saving the data\n",
    "    n_layers : int\n",
    "        Number of layers to generate\n",
    "    n_files : int\n",
    "        Number of files per layer\n",
    "    points_per_file : int\n",
    "        Number of points per file\n",
    "    n_dims : int\n",
    "        Number of dimensions for each point\n",
    "    \"\"\"\n",
    "    \n",
    "    # Create base directories\n",
    "    base_path = Path(base_path)\n",
    "    activations_path = base_path / \"activations\" / \"dummy_model\" / \"test_dataset\" / \"base\" / \"main\" / \"prompt_only\"\n",
    "    labels_path = base_path / \"evaluations\" / \"dummy_model\" / \"test_dataset\" / \"base\"\n",
    "    \n",
    "    os.makedirs(activations_path, exist_ok=True)\n",
    "    os.makedirs(labels_path, exist_ok=True)\n",
    "    \n",
    "    # Generate indices and labels\n",
    "    total_points = n_files * points_per_file\n",
    "    indices = np.arange(total_points)\n",
    "    labels = np.zeros(total_points, dtype=bool)\n",
    "    labels[total_points//2:] = True  # Half True, Half False\n",
    "    \n",
    "    # Save labels\n",
    "    labels_df = pd.DataFrame({\n",
    "        'index': indices,\n",
    "        'correct': labels\n",
    "    })\n",
    "    labels_df.to_csv(labels_path / \"main_generations_evaluated.csv\", index=False)\n",
    "    \n",
    "    # Function to calculate separation factor for each layer\n",
    "    def get_separation_factor(layer):\n",
    "        # Max separation at layer 15\n",
    "        if layer <= 15:\n",
    "            return (layer / 15) ** 2  # Quadratic increase to layer 15\n",
    "        else:\n",
    "            return max(0.1, 1 - ((layer - 15) / 16) ** 2)  # Quadratic decrease after\n",
    "    \n",
    "    # Generate data for each layer\n",
    "    for layer in range(n_layers):\n",
    "        layer_path = activations_path / f\"layer_{layer}\"\n",
    "        os.makedirs(layer_path, exist_ok=True)\n",
    "        \n",
    "        separation = get_separation_factor(layer)\n",
    "        \n",
    "        # Base distributions\n",
    "        false_base = np.random.normal(0, 1, (total_points//2, n_dims))\n",
    "        true_base = np.random.normal(0, 1, (total_points//2, n_dims))\n",
    "        \n",
    "        # Add separation\n",
    "        separation_vector = np.random.normal(0, 1, n_dims)\n",
    "        separation_vector = separation_vector / np.linalg.norm(separation_vector)\n",
    "        true_base += separation * 5 * separation_vector\n",
    "        \n",
    "        # Combine and shuffle consistently\n",
    "        all_data = np.vstack([false_base, true_base])\n",
    "        \n",
    "        # Split into files\n",
    "        for file_idx in range(n_files):\n",
    "            start_idx = file_idx * points_per_file\n",
    "            end_idx = start_idx + points_per_file\n",
    "            \n",
    "            file_data = pt.tensor(all_data[start_idx:end_idx]).float()\n",
    "            pt.save(file_data, layer_path / f\"batch_{file_idx*points_per_file}.pt\")\n",
    "\n",
    "\n",
    "generate_dummy_data(\"../../data_for_classification\")"
   ]
  },
  {
   "cell_type": "code",
   "execution_count": 9,
   "metadata": {},
   "outputs": [
    {
     "data": {
      "text/html": [
       "<div>\n",
       "<style scoped>\n",
       "    .dataframe tbody tr th:only-of-type {\n",
       "        vertical-align: middle;\n",
       "    }\n",
       "\n",
       "    .dataframe tbody tr th {\n",
       "        vertical-align: top;\n",
       "    }\n",
       "\n",
       "    .dataframe thead th {\n",
       "        text-align: right;\n",
       "    }\n",
       "</style>\n",
       "<table border=\"1\" class=\"dataframe\">\n",
       "  <thead>\n",
       "    <tr style=\"text-align: right;\">\n",
       "      <th></th>\n",
       "      <th>model_id</th>\n",
       "      <th>dataset_id</th>\n",
       "      <th>prompt_id</th>\n",
       "      <th>subset_id</th>\n",
       "      <th>input_type</th>\n",
       "      <th>layer</th>\n",
       "      <th>path</th>\n",
       "    </tr>\n",
       "  </thead>\n",
       "  <tbody>\n",
       "    <tr>\n",
       "      <th>384</th>\n",
       "      <td>dummy_model</td>\n",
       "      <td>test_dataset</td>\n",
       "      <td>base</td>\n",
       "      <td>main</td>\n",
       "      <td>prompt_only</td>\n",
       "      <td>0</td>\n",
       "      <td>../../data_for_classification/activations/dumm...</td>\n",
       "    </tr>\n",
       "    <tr>\n",
       "      <th>385</th>\n",
       "      <td>dummy_model</td>\n",
       "      <td>test_dataset</td>\n",
       "      <td>base</td>\n",
       "      <td>main</td>\n",
       "      <td>prompt_only</td>\n",
       "      <td>7</td>\n",
       "      <td>../../data_for_classification/activations/dumm...</td>\n",
       "    </tr>\n",
       "    <tr>\n",
       "      <th>386</th>\n",
       "      <td>dummy_model</td>\n",
       "      <td>test_dataset</td>\n",
       "      <td>base</td>\n",
       "      <td>main</td>\n",
       "      <td>prompt_only</td>\n",
       "      <td>9</td>\n",
       "      <td>../../data_for_classification/activations/dumm...</td>\n",
       "    </tr>\n",
       "    <tr>\n",
       "      <th>387</th>\n",
       "      <td>dummy_model</td>\n",
       "      <td>test_dataset</td>\n",
       "      <td>base</td>\n",
       "      <td>main</td>\n",
       "      <td>prompt_only</td>\n",
       "      <td>17</td>\n",
       "      <td>../../data_for_classification/activations/dumm...</td>\n",
       "    </tr>\n",
       "    <tr>\n",
       "      <th>388</th>\n",
       "      <td>dummy_model</td>\n",
       "      <td>test_dataset</td>\n",
       "      <td>base</td>\n",
       "      <td>main</td>\n",
       "      <td>prompt_only</td>\n",
       "      <td>28</td>\n",
       "      <td>../../data_for_classification/activations/dumm...</td>\n",
       "    </tr>\n",
       "    <tr>\n",
       "      <th>389</th>\n",
       "      <td>dummy_model</td>\n",
       "      <td>test_dataset</td>\n",
       "      <td>base</td>\n",
       "      <td>main</td>\n",
       "      <td>prompt_only</td>\n",
       "      <td>10</td>\n",
       "      <td>../../data_for_classification/activations/dumm...</td>\n",
       "    </tr>\n",
       "    <tr>\n",
       "      <th>390</th>\n",
       "      <td>dummy_model</td>\n",
       "      <td>test_dataset</td>\n",
       "      <td>base</td>\n",
       "      <td>main</td>\n",
       "      <td>prompt_only</td>\n",
       "      <td>26</td>\n",
       "      <td>../../data_for_classification/activations/dumm...</td>\n",
       "    </tr>\n",
       "    <tr>\n",
       "      <th>391</th>\n",
       "      <td>dummy_model</td>\n",
       "      <td>test_dataset</td>\n",
       "      <td>base</td>\n",
       "      <td>main</td>\n",
       "      <td>prompt_only</td>\n",
       "      <td>19</td>\n",
       "      <td>../../data_for_classification/activations/dumm...</td>\n",
       "    </tr>\n",
       "    <tr>\n",
       "      <th>392</th>\n",
       "      <td>dummy_model</td>\n",
       "      <td>test_dataset</td>\n",
       "      <td>base</td>\n",
       "      <td>main</td>\n",
       "      <td>prompt_only</td>\n",
       "      <td>21</td>\n",
       "      <td>../../data_for_classification/activations/dumm...</td>\n",
       "    </tr>\n",
       "    <tr>\n",
       "      <th>393</th>\n",
       "      <td>dummy_model</td>\n",
       "      <td>test_dataset</td>\n",
       "      <td>base</td>\n",
       "      <td>main</td>\n",
       "      <td>prompt_only</td>\n",
       "      <td>8</td>\n",
       "      <td>../../data_for_classification/activations/dumm...</td>\n",
       "    </tr>\n",
       "    <tr>\n",
       "      <th>394</th>\n",
       "      <td>dummy_model</td>\n",
       "      <td>test_dataset</td>\n",
       "      <td>base</td>\n",
       "      <td>main</td>\n",
       "      <td>prompt_only</td>\n",
       "      <td>6</td>\n",
       "      <td>../../data_for_classification/activations/dumm...</td>\n",
       "    </tr>\n",
       "    <tr>\n",
       "      <th>395</th>\n",
       "      <td>dummy_model</td>\n",
       "      <td>test_dataset</td>\n",
       "      <td>base</td>\n",
       "      <td>main</td>\n",
       "      <td>prompt_only</td>\n",
       "      <td>1</td>\n",
       "      <td>../../data_for_classification/activations/dumm...</td>\n",
       "    </tr>\n",
       "    <tr>\n",
       "      <th>396</th>\n",
       "      <td>dummy_model</td>\n",
       "      <td>test_dataset</td>\n",
       "      <td>base</td>\n",
       "      <td>main</td>\n",
       "      <td>prompt_only</td>\n",
       "      <td>20</td>\n",
       "      <td>../../data_for_classification/activations/dumm...</td>\n",
       "    </tr>\n",
       "    <tr>\n",
       "      <th>397</th>\n",
       "      <td>dummy_model</td>\n",
       "      <td>test_dataset</td>\n",
       "      <td>base</td>\n",
       "      <td>main</td>\n",
       "      <td>prompt_only</td>\n",
       "      <td>27</td>\n",
       "      <td>../../data_for_classification/activations/dumm...</td>\n",
       "    </tr>\n",
       "    <tr>\n",
       "      <th>398</th>\n",
       "      <td>dummy_model</td>\n",
       "      <td>test_dataset</td>\n",
       "      <td>base</td>\n",
       "      <td>main</td>\n",
       "      <td>prompt_only</td>\n",
       "      <td>18</td>\n",
       "      <td>../../data_for_classification/activations/dumm...</td>\n",
       "    </tr>\n",
       "    <tr>\n",
       "      <th>399</th>\n",
       "      <td>dummy_model</td>\n",
       "      <td>test_dataset</td>\n",
       "      <td>base</td>\n",
       "      <td>main</td>\n",
       "      <td>prompt_only</td>\n",
       "      <td>11</td>\n",
       "      <td>../../data_for_classification/activations/dumm...</td>\n",
       "    </tr>\n",
       "    <tr>\n",
       "      <th>400</th>\n",
       "      <td>dummy_model</td>\n",
       "      <td>test_dataset</td>\n",
       "      <td>base</td>\n",
       "      <td>main</td>\n",
       "      <td>prompt_only</td>\n",
       "      <td>16</td>\n",
       "      <td>../../data_for_classification/activations/dumm...</td>\n",
       "    </tr>\n",
       "    <tr>\n",
       "      <th>401</th>\n",
       "      <td>dummy_model</td>\n",
       "      <td>test_dataset</td>\n",
       "      <td>base</td>\n",
       "      <td>main</td>\n",
       "      <td>prompt_only</td>\n",
       "      <td>29</td>\n",
       "      <td>../../data_for_classification/activations/dumm...</td>\n",
       "    </tr>\n",
       "    <tr>\n",
       "      <th>402</th>\n",
       "      <td>dummy_model</td>\n",
       "      <td>test_dataset</td>\n",
       "      <td>base</td>\n",
       "      <td>main</td>\n",
       "      <td>prompt_only</td>\n",
       "      <td>30</td>\n",
       "      <td>../../data_for_classification/activations/dumm...</td>\n",
       "    </tr>\n",
       "    <tr>\n",
       "      <th>403</th>\n",
       "      <td>dummy_model</td>\n",
       "      <td>test_dataset</td>\n",
       "      <td>base</td>\n",
       "      <td>main</td>\n",
       "      <td>prompt_only</td>\n",
       "      <td>31</td>\n",
       "      <td>../../data_for_classification/activations/dumm...</td>\n",
       "    </tr>\n",
       "    <tr>\n",
       "      <th>404</th>\n",
       "      <td>dummy_model</td>\n",
       "      <td>test_dataset</td>\n",
       "      <td>base</td>\n",
       "      <td>main</td>\n",
       "      <td>prompt_only</td>\n",
       "      <td>13</td>\n",
       "      <td>../../data_for_classification/activations/dumm...</td>\n",
       "    </tr>\n",
       "    <tr>\n",
       "      <th>405</th>\n",
       "      <td>dummy_model</td>\n",
       "      <td>test_dataset</td>\n",
       "      <td>base</td>\n",
       "      <td>main</td>\n",
       "      <td>prompt_only</td>\n",
       "      <td>14</td>\n",
       "      <td>../../data_for_classification/activations/dumm...</td>\n",
       "    </tr>\n",
       "    <tr>\n",
       "      <th>406</th>\n",
       "      <td>dummy_model</td>\n",
       "      <td>test_dataset</td>\n",
       "      <td>base</td>\n",
       "      <td>main</td>\n",
       "      <td>prompt_only</td>\n",
       "      <td>22</td>\n",
       "      <td>../../data_for_classification/activations/dumm...</td>\n",
       "    </tr>\n",
       "    <tr>\n",
       "      <th>407</th>\n",
       "      <td>dummy_model</td>\n",
       "      <td>test_dataset</td>\n",
       "      <td>base</td>\n",
       "      <td>main</td>\n",
       "      <td>prompt_only</td>\n",
       "      <td>25</td>\n",
       "      <td>../../data_for_classification/activations/dumm...</td>\n",
       "    </tr>\n",
       "    <tr>\n",
       "      <th>408</th>\n",
       "      <td>dummy_model</td>\n",
       "      <td>test_dataset</td>\n",
       "      <td>base</td>\n",
       "      <td>main</td>\n",
       "      <td>prompt_only</td>\n",
       "      <td>4</td>\n",
       "      <td>../../data_for_classification/activations/dumm...</td>\n",
       "    </tr>\n",
       "    <tr>\n",
       "      <th>409</th>\n",
       "      <td>dummy_model</td>\n",
       "      <td>test_dataset</td>\n",
       "      <td>base</td>\n",
       "      <td>main</td>\n",
       "      <td>prompt_only</td>\n",
       "      <td>3</td>\n",
       "      <td>../../data_for_classification/activations/dumm...</td>\n",
       "    </tr>\n",
       "    <tr>\n",
       "      <th>410</th>\n",
       "      <td>dummy_model</td>\n",
       "      <td>test_dataset</td>\n",
       "      <td>base</td>\n",
       "      <td>main</td>\n",
       "      <td>prompt_only</td>\n",
       "      <td>24</td>\n",
       "      <td>../../data_for_classification/activations/dumm...</td>\n",
       "    </tr>\n",
       "    <tr>\n",
       "      <th>411</th>\n",
       "      <td>dummy_model</td>\n",
       "      <td>test_dataset</td>\n",
       "      <td>base</td>\n",
       "      <td>main</td>\n",
       "      <td>prompt_only</td>\n",
       "      <td>23</td>\n",
       "      <td>../../data_for_classification/activations/dumm...</td>\n",
       "    </tr>\n",
       "    <tr>\n",
       "      <th>412</th>\n",
       "      <td>dummy_model</td>\n",
       "      <td>test_dataset</td>\n",
       "      <td>base</td>\n",
       "      <td>main</td>\n",
       "      <td>prompt_only</td>\n",
       "      <td>15</td>\n",
       "      <td>../../data_for_classification/activations/dumm...</td>\n",
       "    </tr>\n",
       "    <tr>\n",
       "      <th>413</th>\n",
       "      <td>dummy_model</td>\n",
       "      <td>test_dataset</td>\n",
       "      <td>base</td>\n",
       "      <td>main</td>\n",
       "      <td>prompt_only</td>\n",
       "      <td>12</td>\n",
       "      <td>../../data_for_classification/activations/dumm...</td>\n",
       "    </tr>\n",
       "    <tr>\n",
       "      <th>414</th>\n",
       "      <td>dummy_model</td>\n",
       "      <td>test_dataset</td>\n",
       "      <td>base</td>\n",
       "      <td>main</td>\n",
       "      <td>prompt_only</td>\n",
       "      <td>2</td>\n",
       "      <td>../../data_for_classification/activations/dumm...</td>\n",
       "    </tr>\n",
       "    <tr>\n",
       "      <th>415</th>\n",
       "      <td>dummy_model</td>\n",
       "      <td>test_dataset</td>\n",
       "      <td>base</td>\n",
       "      <td>main</td>\n",
       "      <td>prompt_only</td>\n",
       "      <td>5</td>\n",
       "      <td>../../data_for_classification/activations/dumm...</td>\n",
       "    </tr>\n",
       "  </tbody>\n",
       "</table>\n",
       "</div>"
      ],
      "text/plain": [
       "        model_id    dataset_id prompt_id subset_id   input_type  layer  \\\n",
       "384  dummy_model  test_dataset      base      main  prompt_only      0   \n",
       "385  dummy_model  test_dataset      base      main  prompt_only      7   \n",
       "386  dummy_model  test_dataset      base      main  prompt_only      9   \n",
       "387  dummy_model  test_dataset      base      main  prompt_only     17   \n",
       "388  dummy_model  test_dataset      base      main  prompt_only     28   \n",
       "389  dummy_model  test_dataset      base      main  prompt_only     10   \n",
       "390  dummy_model  test_dataset      base      main  prompt_only     26   \n",
       "391  dummy_model  test_dataset      base      main  prompt_only     19   \n",
       "392  dummy_model  test_dataset      base      main  prompt_only     21   \n",
       "393  dummy_model  test_dataset      base      main  prompt_only      8   \n",
       "394  dummy_model  test_dataset      base      main  prompt_only      6   \n",
       "395  dummy_model  test_dataset      base      main  prompt_only      1   \n",
       "396  dummy_model  test_dataset      base      main  prompt_only     20   \n",
       "397  dummy_model  test_dataset      base      main  prompt_only     27   \n",
       "398  dummy_model  test_dataset      base      main  prompt_only     18   \n",
       "399  dummy_model  test_dataset      base      main  prompt_only     11   \n",
       "400  dummy_model  test_dataset      base      main  prompt_only     16   \n",
       "401  dummy_model  test_dataset      base      main  prompt_only     29   \n",
       "402  dummy_model  test_dataset      base      main  prompt_only     30   \n",
       "403  dummy_model  test_dataset      base      main  prompt_only     31   \n",
       "404  dummy_model  test_dataset      base      main  prompt_only     13   \n",
       "405  dummy_model  test_dataset      base      main  prompt_only     14   \n",
       "406  dummy_model  test_dataset      base      main  prompt_only     22   \n",
       "407  dummy_model  test_dataset      base      main  prompt_only     25   \n",
       "408  dummy_model  test_dataset      base      main  prompt_only      4   \n",
       "409  dummy_model  test_dataset      base      main  prompt_only      3   \n",
       "410  dummy_model  test_dataset      base      main  prompt_only     24   \n",
       "411  dummy_model  test_dataset      base      main  prompt_only     23   \n",
       "412  dummy_model  test_dataset      base      main  prompt_only     15   \n",
       "413  dummy_model  test_dataset      base      main  prompt_only     12   \n",
       "414  dummy_model  test_dataset      base      main  prompt_only      2   \n",
       "415  dummy_model  test_dataset      base      main  prompt_only      5   \n",
       "\n",
       "                                                  path  \n",
       "384  ../../data_for_classification/activations/dumm...  \n",
       "385  ../../data_for_classification/activations/dumm...  \n",
       "386  ../../data_for_classification/activations/dumm...  \n",
       "387  ../../data_for_classification/activations/dumm...  \n",
       "388  ../../data_for_classification/activations/dumm...  \n",
       "389  ../../data_for_classification/activations/dumm...  \n",
       "390  ../../data_for_classification/activations/dumm...  \n",
       "391  ../../data_for_classification/activations/dumm...  \n",
       "392  ../../data_for_classification/activations/dumm...  \n",
       "393  ../../data_for_classification/activations/dumm...  \n",
       "394  ../../data_for_classification/activations/dumm...  \n",
       "395  ../../data_for_classification/activations/dumm...  \n",
       "396  ../../data_for_classification/activations/dumm...  \n",
       "397  ../../data_for_classification/activations/dumm...  \n",
       "398  ../../data_for_classification/activations/dumm...  \n",
       "399  ../../data_for_classification/activations/dumm...  \n",
       "400  ../../data_for_classification/activations/dumm...  \n",
       "401  ../../data_for_classification/activations/dumm...  \n",
       "402  ../../data_for_classification/activations/dumm...  \n",
       "403  ../../data_for_classification/activations/dumm...  \n",
       "404  ../../data_for_classification/activations/dumm...  \n",
       "405  ../../data_for_classification/activations/dumm...  \n",
       "406  ../../data_for_classification/activations/dumm...  \n",
       "407  ../../data_for_classification/activations/dumm...  \n",
       "408  ../../data_for_classification/activations/dumm...  \n",
       "409  ../../data_for_classification/activations/dumm...  \n",
       "410  ../../data_for_classification/activations/dumm...  \n",
       "411  ../../data_for_classification/activations/dumm...  \n",
       "412  ../../data_for_classification/activations/dumm...  \n",
       "413  ../../data_for_classification/activations/dumm...  \n",
       "414  ../../data_for_classification/activations/dumm...  \n",
       "415  ../../data_for_classification/activations/dumm...  "
      ]
     },
     "execution_count": 9,
     "metadata": {},
     "output_type": "execute_result"
    }
   ],
   "source": [
    "# Set None to get all\n",
    "# MODEL_ID = \"llama3.1_8b_chat\"\n",
    "MODEL_ID = \"dummy_model\"\n",
    "# DATASET_ID = \"gsm8k\"\n",
    "# PROMPT_ID = \"cot_3_shot\"\n",
    "# SUBSET_ID = \"main\"\n",
    "# INPUT_TYPE = \"prompt_only\"\n",
    "DATASET_ID = None\n",
    "PROMPT_ID = None\n",
    "SUBSET_ID = None\n",
    "INPUT_TYPE = None\n",
    "\n",
    "activation_exp_configs_df = get_experiment_activations_configs_df_subset(\n",
    "    base_path=BASE_PATH,\n",
    "    model_id=MODEL_ID,\n",
    "    dataset_id=DATASET_ID,\n",
    "    prompt_id=PROMPT_ID,\n",
    "    subset_id=SUBSET_ID,\n",
    "    input_type=INPUT_TYPE,\n",
    ")\n",
    "activation_exp_configs_df"
   ]
  },
  {
   "cell_type": "code",
   "execution_count": 10,
   "metadata": {},
   "outputs": [
    {
     "name": "stdout",
     "output_type": "stream",
     "text": [
      "\n",
      "model_id='dummy_model', dataset_id='test_dataset', prompt_id='base', subset_id='main', input_type='prompt_only'\n",
      "layer=0, layer=1, layer=2, layer=3, layer=4, layer=5, layer=6, layer=7, layer=8, layer=9, layer=10, layer=11, layer=12, layer=13, layer=14, layer=15, layer=16, layer=17, layer=18, layer=19, layer=20, layer=21, layer=22, layer=23, layer=24, layer=25, layer=26, layer=27, layer=28, layer=29, layer=30, layer=31, "
     ]
    }
   ],
   "source": [
    "between_over_within_class_variance_dict = defaultdict(list)\n",
    "\n",
    "for (model_id, dataset_id, prompt_id, subset_id, input_type), config_df in activation_exp_configs_df.groupby([\"model_id\", \"dataset_id\", \"prompt_id\", \"subset_id\", \"input_type\"]):\n",
    "    print(f\"\\n{model_id=}, {dataset_id=}, {prompt_id=}, {subset_id=}, {input_type=}\")\n",
    "    labels_df = load_labels(\n",
    "        base_path=BASE_PATH,\n",
    "        model_id=model_id,\n",
    "        dataset_id=dataset_id,\n",
    "        prompt_id=prompt_id,\n",
    "        subset_id=subset_id,\n",
    "    )\n",
    "\n",
    "    check_indices = None\n",
    "    for layer in config_df[\"layer\"].astype(int).sort_values():\n",
    "        print(f\"{layer=}\", end=\", \")\n",
    "        activations, indices = load_activations(\n",
    "            base_path=BASE_PATH,\n",
    "            model_id=model_id,\n",
    "            dataset_id=dataset_id,\n",
    "            prompt_id=prompt_id,\n",
    "            subset_id=subset_id,\n",
    "            input_type=input_type,\n",
    "            layer=layer,\n",
    "        )\n",
    "        \n",
    "        if check_indices is None:\n",
    "            check_indices = indices.sample(frac=1, replace=False)\n",
    "        \n",
    "        if set(indices) != set(check_indices):\n",
    "            raise RuntimeError(f\"indices across layers are not the same\")\n",
    "\n",
    "        labels_df_subset = labels_df.iloc[check_indices]\n",
    "        activations = activations[check_indices]\n",
    "\n",
    "        activations_handler = ActivationsHandler(\n",
    "            activations=activations,\n",
    "            labels=labels_df_subset[\"correct\"].astype(bool),\n",
    "        )\n",
    "\n",
    "        between_class_variance, within_class_variance = get_between_class_variance_and_within_class_variance(\n",
    "            activations_handler.sample_equally_across_groups(group_labels=(False, True)),\n",
    "            group_labels=(False, True)\n",
    "        )\n",
    "        between_over_within_class_variance_dict[\"model_id\"].append(model_id)\n",
    "        between_over_within_class_variance_dict[\"dataset_id\"].append(dataset_id)\n",
    "        between_over_within_class_variance_dict[\"prompt_id\"].append(prompt_id)\n",
    "        between_over_within_class_variance_dict[\"subset_id\"].append(subset_id)\n",
    "        between_over_within_class_variance_dict[\"input_type\"].append(input_type)\n",
    "        between_over_within_class_variance_dict[\"layer\"].append(layer)\n",
    "        between_over_within_class_variance_dict[\"between_class_variance\"].append(between_class_variance)\n",
    "        between_over_within_class_variance_dict[\"within_class_variance\"].append(within_class_variance)\n",
    "        between_over_within_class_variance_dict[\"between_over_within_class_variance\"].append(between_class_variance/within_class_variance)\n",
    "\n",
    "between_over_within_class_variance_df = pd.DataFrame(between_over_within_class_variance_dict)\n"
   ]
  },
  {
   "cell_type": "code",
   "execution_count": 11,
   "metadata": {},
   "outputs": [
    {
     "data": {
      "application/vnd.plotly.v1+json": {
       "config": {
        "plotlyServerURL": "https://plot.ly"
       },
       "data": [
        {
         "legendgroup": "('dummy_model', 'test_dataset', 'base', 'main', 'prompt_only')",
         "line": {
          "color": "#1f77b4",
          "width": 2
         },
         "marker": {
          "size": 8
         },
         "mode": "lines+markers",
         "name": "('dummy_model', 'test_dataset', 'base', 'main', 'prompt_only')",
         "type": "scatter",
         "x": {
          "bdata": "AAECAwQFBgcICQoLDA0ODxAREhMUFRYXGBkaGxwdHh8=",
          "dtype": "i1"
         },
         "y": {
          "bdata": "Fcn6JbStlD9wNxj7TkmKP0Yv1wzQCpQ/IVaA54s9ez/EU4k4fZF/Pz5cnwGdLmw/4kthKqbTkT+tQSW9bRWIPx3PtyYUga0/ZsA1MMJYwD+4dy2OgXbAP5moaZeV98c/gRE6pJYCzT/KrBWKzazVPx3MUGa0G9w/rJbkRBdL4z9aWHxpOy/iPxmF3N7kY+M/wPMY+6/S4j+vZ1Ye2PzgPwsH5yoqdOM/p8t3vtCu2T+7I7o+T7XdP2hxc8OvJ9c/AlPW9XLG1j8uZiv55E/SP4uobFFt1sU/1a1M7GFkwT8HyfhCksCxP+cN+rzJabQ/QMkTjDBYkT/kzvx+YMSNPw==",
          "dtype": "f8"
         }
        }
       ],
       "layout": {
        "font": {
         "color": "white"
        },
        "height": 600,
        "legend": {
         "bgcolor": "rgba(32, 32, 32, 0.8)",
         "orientation": "h",
         "x": 0.5,
         "xanchor": "center",
         "y": 1.02,
         "yanchor": "bottom"
        },
        "margin": {
         "b": 50,
         "l": 50,
         "r": 30,
         "t": 100
        },
        "paper_bgcolor": "rgba(32, 32, 32, 1)",
        "plot_bgcolor": "rgba(32, 32, 32, 1)",
        "showlegend": true,
        "template": {
         "data": {
          "bar": [
           {
            "error_x": {
             "color": "#f2f5fa"
            },
            "error_y": {
             "color": "#f2f5fa"
            },
            "marker": {
             "line": {
              "color": "rgb(17,17,17)",
              "width": 0.5
             },
             "pattern": {
              "fillmode": "overlay",
              "size": 10,
              "solidity": 0.2
             }
            },
            "type": "bar"
           }
          ],
          "barpolar": [
           {
            "marker": {
             "line": {
              "color": "rgb(17,17,17)",
              "width": 0.5
             },
             "pattern": {
              "fillmode": "overlay",
              "size": 10,
              "solidity": 0.2
             }
            },
            "type": "barpolar"
           }
          ],
          "carpet": [
           {
            "aaxis": {
             "endlinecolor": "#A2B1C6",
             "gridcolor": "#506784",
             "linecolor": "#506784",
             "minorgridcolor": "#506784",
             "startlinecolor": "#A2B1C6"
            },
            "baxis": {
             "endlinecolor": "#A2B1C6",
             "gridcolor": "#506784",
             "linecolor": "#506784",
             "minorgridcolor": "#506784",
             "startlinecolor": "#A2B1C6"
            },
            "type": "carpet"
           }
          ],
          "choropleth": [
           {
            "colorbar": {
             "outlinewidth": 0,
             "ticks": ""
            },
            "type": "choropleth"
           }
          ],
          "contour": [
           {
            "colorbar": {
             "outlinewidth": 0,
             "ticks": ""
            },
            "colorscale": [
             [
              0,
              "#0d0887"
             ],
             [
              0.1111111111111111,
              "#46039f"
             ],
             [
              0.2222222222222222,
              "#7201a8"
             ],
             [
              0.3333333333333333,
              "#9c179e"
             ],
             [
              0.4444444444444444,
              "#bd3786"
             ],
             [
              0.5555555555555556,
              "#d8576b"
             ],
             [
              0.6666666666666666,
              "#ed7953"
             ],
             [
              0.7777777777777778,
              "#fb9f3a"
             ],
             [
              0.8888888888888888,
              "#fdca26"
             ],
             [
              1,
              "#f0f921"
             ]
            ],
            "type": "contour"
           }
          ],
          "contourcarpet": [
           {
            "colorbar": {
             "outlinewidth": 0,
             "ticks": ""
            },
            "type": "contourcarpet"
           }
          ],
          "heatmap": [
           {
            "colorbar": {
             "outlinewidth": 0,
             "ticks": ""
            },
            "colorscale": [
             [
              0,
              "#0d0887"
             ],
             [
              0.1111111111111111,
              "#46039f"
             ],
             [
              0.2222222222222222,
              "#7201a8"
             ],
             [
              0.3333333333333333,
              "#9c179e"
             ],
             [
              0.4444444444444444,
              "#bd3786"
             ],
             [
              0.5555555555555556,
              "#d8576b"
             ],
             [
              0.6666666666666666,
              "#ed7953"
             ],
             [
              0.7777777777777778,
              "#fb9f3a"
             ],
             [
              0.8888888888888888,
              "#fdca26"
             ],
             [
              1,
              "#f0f921"
             ]
            ],
            "type": "heatmap"
           }
          ],
          "histogram": [
           {
            "marker": {
             "pattern": {
              "fillmode": "overlay",
              "size": 10,
              "solidity": 0.2
             }
            },
            "type": "histogram"
           }
          ],
          "histogram2d": [
           {
            "colorbar": {
             "outlinewidth": 0,
             "ticks": ""
            },
            "colorscale": [
             [
              0,
              "#0d0887"
             ],
             [
              0.1111111111111111,
              "#46039f"
             ],
             [
              0.2222222222222222,
              "#7201a8"
             ],
             [
              0.3333333333333333,
              "#9c179e"
             ],
             [
              0.4444444444444444,
              "#bd3786"
             ],
             [
              0.5555555555555556,
              "#d8576b"
             ],
             [
              0.6666666666666666,
              "#ed7953"
             ],
             [
              0.7777777777777778,
              "#fb9f3a"
             ],
             [
              0.8888888888888888,
              "#fdca26"
             ],
             [
              1,
              "#f0f921"
             ]
            ],
            "type": "histogram2d"
           }
          ],
          "histogram2dcontour": [
           {
            "colorbar": {
             "outlinewidth": 0,
             "ticks": ""
            },
            "colorscale": [
             [
              0,
              "#0d0887"
             ],
             [
              0.1111111111111111,
              "#46039f"
             ],
             [
              0.2222222222222222,
              "#7201a8"
             ],
             [
              0.3333333333333333,
              "#9c179e"
             ],
             [
              0.4444444444444444,
              "#bd3786"
             ],
             [
              0.5555555555555556,
              "#d8576b"
             ],
             [
              0.6666666666666666,
              "#ed7953"
             ],
             [
              0.7777777777777778,
              "#fb9f3a"
             ],
             [
              0.8888888888888888,
              "#fdca26"
             ],
             [
              1,
              "#f0f921"
             ]
            ],
            "type": "histogram2dcontour"
           }
          ],
          "mesh3d": [
           {
            "colorbar": {
             "outlinewidth": 0,
             "ticks": ""
            },
            "type": "mesh3d"
           }
          ],
          "parcoords": [
           {
            "line": {
             "colorbar": {
              "outlinewidth": 0,
              "ticks": ""
             }
            },
            "type": "parcoords"
           }
          ],
          "pie": [
           {
            "automargin": true,
            "type": "pie"
           }
          ],
          "scatter": [
           {
            "marker": {
             "line": {
              "color": "#283442"
             }
            },
            "type": "scatter"
           }
          ],
          "scatter3d": [
           {
            "line": {
             "colorbar": {
              "outlinewidth": 0,
              "ticks": ""
             }
            },
            "marker": {
             "colorbar": {
              "outlinewidth": 0,
              "ticks": ""
             }
            },
            "type": "scatter3d"
           }
          ],
          "scattercarpet": [
           {
            "marker": {
             "colorbar": {
              "outlinewidth": 0,
              "ticks": ""
             }
            },
            "type": "scattercarpet"
           }
          ],
          "scattergeo": [
           {
            "marker": {
             "colorbar": {
              "outlinewidth": 0,
              "ticks": ""
             }
            },
            "type": "scattergeo"
           }
          ],
          "scattergl": [
           {
            "marker": {
             "line": {
              "color": "#283442"
             }
            },
            "type": "scattergl"
           }
          ],
          "scattermap": [
           {
            "marker": {
             "colorbar": {
              "outlinewidth": 0,
              "ticks": ""
             }
            },
            "type": "scattermap"
           }
          ],
          "scattermapbox": [
           {
            "marker": {
             "colorbar": {
              "outlinewidth": 0,
              "ticks": ""
             }
            },
            "type": "scattermapbox"
           }
          ],
          "scatterpolar": [
           {
            "marker": {
             "colorbar": {
              "outlinewidth": 0,
              "ticks": ""
             }
            },
            "type": "scatterpolar"
           }
          ],
          "scatterpolargl": [
           {
            "marker": {
             "colorbar": {
              "outlinewidth": 0,
              "ticks": ""
             }
            },
            "type": "scatterpolargl"
           }
          ],
          "scatterternary": [
           {
            "marker": {
             "colorbar": {
              "outlinewidth": 0,
              "ticks": ""
             }
            },
            "type": "scatterternary"
           }
          ],
          "surface": [
           {
            "colorbar": {
             "outlinewidth": 0,
             "ticks": ""
            },
            "colorscale": [
             [
              0,
              "#0d0887"
             ],
             [
              0.1111111111111111,
              "#46039f"
             ],
             [
              0.2222222222222222,
              "#7201a8"
             ],
             [
              0.3333333333333333,
              "#9c179e"
             ],
             [
              0.4444444444444444,
              "#bd3786"
             ],
             [
              0.5555555555555556,
              "#d8576b"
             ],
             [
              0.6666666666666666,
              "#ed7953"
             ],
             [
              0.7777777777777778,
              "#fb9f3a"
             ],
             [
              0.8888888888888888,
              "#fdca26"
             ],
             [
              1,
              "#f0f921"
             ]
            ],
            "type": "surface"
           }
          ],
          "table": [
           {
            "cells": {
             "fill": {
              "color": "#506784"
             },
             "line": {
              "color": "rgb(17,17,17)"
             }
            },
            "header": {
             "fill": {
              "color": "#2a3f5f"
             },
             "line": {
              "color": "rgb(17,17,17)"
             }
            },
            "type": "table"
           }
          ]
         },
         "layout": {
          "annotationdefaults": {
           "arrowcolor": "#f2f5fa",
           "arrowhead": 0,
           "arrowwidth": 1
          },
          "autotypenumbers": "strict",
          "coloraxis": {
           "colorbar": {
            "outlinewidth": 0,
            "ticks": ""
           }
          },
          "colorscale": {
           "diverging": [
            [
             0,
             "#8e0152"
            ],
            [
             0.1,
             "#c51b7d"
            ],
            [
             0.2,
             "#de77ae"
            ],
            [
             0.3,
             "#f1b6da"
            ],
            [
             0.4,
             "#fde0ef"
            ],
            [
             0.5,
             "#f7f7f7"
            ],
            [
             0.6,
             "#e6f5d0"
            ],
            [
             0.7,
             "#b8e186"
            ],
            [
             0.8,
             "#7fbc41"
            ],
            [
             0.9,
             "#4d9221"
            ],
            [
             1,
             "#276419"
            ]
           ],
           "sequential": [
            [
             0,
             "#0d0887"
            ],
            [
             0.1111111111111111,
             "#46039f"
            ],
            [
             0.2222222222222222,
             "#7201a8"
            ],
            [
             0.3333333333333333,
             "#9c179e"
            ],
            [
             0.4444444444444444,
             "#bd3786"
            ],
            [
             0.5555555555555556,
             "#d8576b"
            ],
            [
             0.6666666666666666,
             "#ed7953"
            ],
            [
             0.7777777777777778,
             "#fb9f3a"
            ],
            [
             0.8888888888888888,
             "#fdca26"
            ],
            [
             1,
             "#f0f921"
            ]
           ],
           "sequentialminus": [
            [
             0,
             "#0d0887"
            ],
            [
             0.1111111111111111,
             "#46039f"
            ],
            [
             0.2222222222222222,
             "#7201a8"
            ],
            [
             0.3333333333333333,
             "#9c179e"
            ],
            [
             0.4444444444444444,
             "#bd3786"
            ],
            [
             0.5555555555555556,
             "#d8576b"
            ],
            [
             0.6666666666666666,
             "#ed7953"
            ],
            [
             0.7777777777777778,
             "#fb9f3a"
            ],
            [
             0.8888888888888888,
             "#fdca26"
            ],
            [
             1,
             "#f0f921"
            ]
           ]
          },
          "colorway": [
           "#636efa",
           "#EF553B",
           "#00cc96",
           "#ab63fa",
           "#FFA15A",
           "#19d3f3",
           "#FF6692",
           "#B6E880",
           "#FF97FF",
           "#FECB52"
          ],
          "font": {
           "color": "#f2f5fa"
          },
          "geo": {
           "bgcolor": "rgb(17,17,17)",
           "lakecolor": "rgb(17,17,17)",
           "landcolor": "rgb(17,17,17)",
           "showlakes": true,
           "showland": true,
           "subunitcolor": "#506784"
          },
          "hoverlabel": {
           "align": "left"
          },
          "hovermode": "closest",
          "mapbox": {
           "style": "dark"
          },
          "paper_bgcolor": "rgb(17,17,17)",
          "plot_bgcolor": "rgb(17,17,17)",
          "polar": {
           "angularaxis": {
            "gridcolor": "#506784",
            "linecolor": "#506784",
            "ticks": ""
           },
           "bgcolor": "rgb(17,17,17)",
           "radialaxis": {
            "gridcolor": "#506784",
            "linecolor": "#506784",
            "ticks": ""
           }
          },
          "scene": {
           "xaxis": {
            "backgroundcolor": "rgb(17,17,17)",
            "gridcolor": "#506784",
            "gridwidth": 2,
            "linecolor": "#506784",
            "showbackground": true,
            "ticks": "",
            "zerolinecolor": "#C8D4E3"
           },
           "yaxis": {
            "backgroundcolor": "rgb(17,17,17)",
            "gridcolor": "#506784",
            "gridwidth": 2,
            "linecolor": "#506784",
            "showbackground": true,
            "ticks": "",
            "zerolinecolor": "#C8D4E3"
           },
           "zaxis": {
            "backgroundcolor": "rgb(17,17,17)",
            "gridcolor": "#506784",
            "gridwidth": 2,
            "linecolor": "#506784",
            "showbackground": true,
            "ticks": "",
            "zerolinecolor": "#C8D4E3"
           }
          },
          "shapedefaults": {
           "line": {
            "color": "#f2f5fa"
           }
          },
          "sliderdefaults": {
           "bgcolor": "#C8D4E3",
           "bordercolor": "rgb(17,17,17)",
           "borderwidth": 1,
           "tickwidth": 0
          },
          "ternary": {
           "aaxis": {
            "gridcolor": "#506784",
            "linecolor": "#506784",
            "ticks": ""
           },
           "baxis": {
            "gridcolor": "#506784",
            "linecolor": "#506784",
            "ticks": ""
           },
           "bgcolor": "rgb(17,17,17)",
           "caxis": {
            "gridcolor": "#506784",
            "linecolor": "#506784",
            "ticks": ""
           }
          },
          "title": {
           "x": 0.05
          },
          "updatemenudefaults": {
           "bgcolor": "#506784",
           "borderwidth": 0
          },
          "xaxis": {
           "automargin": true,
           "gridcolor": "#283442",
           "linecolor": "#506784",
           "ticks": "",
           "title": {
            "standoff": 15
           },
           "zerolinecolor": "#283442",
           "zerolinewidth": 2
          },
          "yaxis": {
           "automargin": true,
           "gridcolor": "#283442",
           "linecolor": "#506784",
           "ticks": "",
           "title": {
            "standoff": 15
           },
           "zerolinecolor": "#283442",
           "zerolinewidth": 2
          }
         }
        },
        "title": {},
        "width": 1000,
        "xaxis": {
         "gridcolor": "rgba(128, 128, 128, 0.2)",
         "title": {
          "text": "Layer"
         },
         "zeroline": false
        },
        "yaxis": {
         "gridcolor": "rgba(128, 128, 128, 0.2)",
         "title": {
          "text": "Between Class Variance / Within Class Variance"
         },
         "zeroline": false
        }
       }
      }
     },
     "metadata": {},
     "output_type": "display_data"
    }
   ],
   "source": [
    "plot_interactive_lineplot(\n",
    "    df_dict={str(k): v.set_index(\"layer\")[[\"between_over_within_class_variance\"]] for k, v in between_over_within_class_variance_df.groupby([\"model_id\", \"dataset_id\", \"prompt_id\", \"subset_id\", \"input_type\"])},\n",
    "    x_label=\"Layer\",\n",
    "    y_label=\"Between Class Variance / Within Class Variance\",\n",
    "    # save_path=f\"./classification_data/figures/res_df_llama31_8B_4_memory_datasets_between_over_within_class_variance.html\"\n",
    ")"
   ]
  },
  {
   "cell_type": "code",
   "execution_count": 12,
   "metadata": {},
   "outputs": [
    {
     "name": "stdout",
     "output_type": "stream",
     "text": [
      "\n",
      "model_id='dummy_model', dataset_id='test_dataset', prompt_id='base', subset_id='main', input_type='prompt_only'\n",
      "layer=0, layer=1, layer=2, layer=3, "
     ]
    },
    {
     "name": "stderr",
     "output_type": "stream",
     "text": [
      "/Users/anton/dev/MARS/correctness-model-internals/venv/lib/python3.11/site-packages/sklearn/metrics/_classification.py:1509: UndefinedMetricWarning:\n",
      "\n",
      "Precision is ill-defined and being set to 0.0 due to no predicted samples. Use `zero_division` parameter to control this behavior.\n",
      "\n"
     ]
    },
    {
     "name": "stdout",
     "output_type": "stream",
     "text": [
      "layer=4, layer=5, layer=6, layer=7, layer=8, layer=9, layer=10, layer=11, layer=12, layer=13, layer=14, layer=15, layer=16, layer=17, layer=18, layer=19, layer=20, layer=21, layer=22, layer=23, layer=24, layer=25, layer=26, layer=27, layer=28, layer=29, layer=30, layer=31, "
     ]
    },
    {
     "data": {
      "text/html": [
       "<div>\n",
       "<style scoped>\n",
       "    .dataframe tbody tr th:only-of-type {\n",
       "        vertical-align: middle;\n",
       "    }\n",
       "\n",
       "    .dataframe tbody tr th {\n",
       "        vertical-align: top;\n",
       "    }\n",
       "\n",
       "    .dataframe thead th {\n",
       "        text-align: right;\n",
       "    }\n",
       "</style>\n",
       "<table border=\"1\" class=\"dataframe\">\n",
       "  <thead>\n",
       "    <tr style=\"text-align: right;\">\n",
       "      <th></th>\n",
       "      <th>model_id</th>\n",
       "      <th>dataset_id</th>\n",
       "      <th>prompt_id</th>\n",
       "      <th>subset_id</th>\n",
       "      <th>input_type</th>\n",
       "      <th>layer</th>\n",
       "      <th>fold</th>\n",
       "      <th>direction_optimal_cut</th>\n",
       "      <th>direction_optimal_train_set_cut</th>\n",
       "      <th>direction_test_roc_auc</th>\n",
       "      <th>...</th>\n",
       "      <th>direction_f1_score</th>\n",
       "      <th>direction_precision_score</th>\n",
       "      <th>direction_recall_score</th>\n",
       "      <th>logistic_regression_optimal_cut</th>\n",
       "      <th>logistic_regression_optimal_train_set_cut</th>\n",
       "      <th>logistic_regression_test_roc_auc</th>\n",
       "      <th>logistic_regression_accuracy_score</th>\n",
       "      <th>logistic_regression_f1_score</th>\n",
       "      <th>logistic_regression_precision_score</th>\n",
       "      <th>logistic_regression_recall_score</th>\n",
       "    </tr>\n",
       "  </thead>\n",
       "  <tbody>\n",
       "    <tr>\n",
       "      <th>0</th>\n",
       "      <td>dummy_model</td>\n",
       "      <td>test_dataset</td>\n",
       "      <td>base</td>\n",
       "      <td>main</td>\n",
       "      <td>prompt_only</td>\n",
       "      <td>0</td>\n",
       "      <td>0</td>\n",
       "      <td>0.329361</td>\n",
       "      <td>0.329361</td>\n",
       "      <td>0.388889</td>\n",
       "      <td>...</td>\n",
       "      <td>0.363636</td>\n",
       "      <td>0.400000</td>\n",
       "      <td>0.333333</td>\n",
       "      <td>0.5</td>\n",
       "      <td>0.581598</td>\n",
       "      <td>0.472222</td>\n",
       "      <td>0.416667</td>\n",
       "      <td>0.363636</td>\n",
       "      <td>0.400000</td>\n",
       "      <td>0.333333</td>\n",
       "    </tr>\n",
       "    <tr>\n",
       "      <th>1</th>\n",
       "      <td>dummy_model</td>\n",
       "      <td>test_dataset</td>\n",
       "      <td>base</td>\n",
       "      <td>main</td>\n",
       "      <td>prompt_only</td>\n",
       "      <td>0</td>\n",
       "      <td>1</td>\n",
       "      <td>-0.325044</td>\n",
       "      <td>-0.325044</td>\n",
       "      <td>0.444444</td>\n",
       "      <td>...</td>\n",
       "      <td>0.545455</td>\n",
       "      <td>0.461538</td>\n",
       "      <td>0.666667</td>\n",
       "      <td>0.5</td>\n",
       "      <td>0.457369</td>\n",
       "      <td>0.370370</td>\n",
       "      <td>0.444444</td>\n",
       "      <td>0.444444</td>\n",
       "      <td>0.444444</td>\n",
       "      <td>0.444444</td>\n",
       "    </tr>\n",
       "    <tr>\n",
       "      <th>2</th>\n",
       "      <td>dummy_model</td>\n",
       "      <td>test_dataset</td>\n",
       "      <td>base</td>\n",
       "      <td>main</td>\n",
       "      <td>prompt_only</td>\n",
       "      <td>0</td>\n",
       "      <td>2</td>\n",
       "      <td>0.678965</td>\n",
       "      <td>0.678965</td>\n",
       "      <td>0.395062</td>\n",
       "      <td>...</td>\n",
       "      <td>0.000000</td>\n",
       "      <td>0.000000</td>\n",
       "      <td>0.000000</td>\n",
       "      <td>0.5</td>\n",
       "      <td>0.513589</td>\n",
       "      <td>0.506173</td>\n",
       "      <td>0.500000</td>\n",
       "      <td>0.470588</td>\n",
       "      <td>0.500000</td>\n",
       "      <td>0.444444</td>\n",
       "    </tr>\n",
       "    <tr>\n",
       "      <th>3</th>\n",
       "      <td>dummy_model</td>\n",
       "      <td>test_dataset</td>\n",
       "      <td>base</td>\n",
       "      <td>main</td>\n",
       "      <td>prompt_only</td>\n",
       "      <td>0</td>\n",
       "      <td>3</td>\n",
       "      <td>0.352300</td>\n",
       "      <td>0.352300</td>\n",
       "      <td>0.638889</td>\n",
       "      <td>...</td>\n",
       "      <td>0.250000</td>\n",
       "      <td>0.500000</td>\n",
       "      <td>0.166667</td>\n",
       "      <td>0.5</td>\n",
       "      <td>0.553421</td>\n",
       "      <td>0.694444</td>\n",
       "      <td>0.500000</td>\n",
       "      <td>0.250000</td>\n",
       "      <td>0.500000</td>\n",
       "      <td>0.166667</td>\n",
       "    </tr>\n",
       "    <tr>\n",
       "      <th>4</th>\n",
       "      <td>dummy_model</td>\n",
       "      <td>test_dataset</td>\n",
       "      <td>base</td>\n",
       "      <td>main</td>\n",
       "      <td>prompt_only</td>\n",
       "      <td>0</td>\n",
       "      <td>4</td>\n",
       "      <td>0.377595</td>\n",
       "      <td>0.377595</td>\n",
       "      <td>0.578125</td>\n",
       "      <td>...</td>\n",
       "      <td>0.705882</td>\n",
       "      <td>0.666667</td>\n",
       "      <td>0.750000</td>\n",
       "      <td>0.5</td>\n",
       "      <td>0.590566</td>\n",
       "      <td>0.578125</td>\n",
       "      <td>0.500000</td>\n",
       "      <td>0.600000</td>\n",
       "      <td>0.500000</td>\n",
       "      <td>0.750000</td>\n",
       "    </tr>\n",
       "    <tr>\n",
       "      <th>...</th>\n",
       "      <td>...</td>\n",
       "      <td>...</td>\n",
       "      <td>...</td>\n",
       "      <td>...</td>\n",
       "      <td>...</td>\n",
       "      <td>...</td>\n",
       "      <td>...</td>\n",
       "      <td>...</td>\n",
       "      <td>...</td>\n",
       "      <td>...</td>\n",
       "      <td>...</td>\n",
       "      <td>...</td>\n",
       "      <td>...</td>\n",
       "      <td>...</td>\n",
       "      <td>...</td>\n",
       "      <td>...</td>\n",
       "      <td>...</td>\n",
       "      <td>...</td>\n",
       "      <td>...</td>\n",
       "      <td>...</td>\n",
       "      <td>...</td>\n",
       "    </tr>\n",
       "    <tr>\n",
       "      <th>155</th>\n",
       "      <td>dummy_model</td>\n",
       "      <td>test_dataset</td>\n",
       "      <td>base</td>\n",
       "      <td>main</td>\n",
       "      <td>prompt_only</td>\n",
       "      <td>31</td>\n",
       "      <td>0</td>\n",
       "      <td>-0.178290</td>\n",
       "      <td>-0.178290</td>\n",
       "      <td>0.361111</td>\n",
       "      <td>...</td>\n",
       "      <td>0.363636</td>\n",
       "      <td>0.400000</td>\n",
       "      <td>0.333333</td>\n",
       "      <td>0.5</td>\n",
       "      <td>0.501011</td>\n",
       "      <td>0.416667</td>\n",
       "      <td>0.416667</td>\n",
       "      <td>0.363636</td>\n",
       "      <td>0.400000</td>\n",
       "      <td>0.333333</td>\n",
       "    </tr>\n",
       "    <tr>\n",
       "      <th>156</th>\n",
       "      <td>dummy_model</td>\n",
       "      <td>test_dataset</td>\n",
       "      <td>base</td>\n",
       "      <td>main</td>\n",
       "      <td>prompt_only</td>\n",
       "      <td>31</td>\n",
       "      <td>1</td>\n",
       "      <td>-0.232068</td>\n",
       "      <td>-0.232068</td>\n",
       "      <td>0.493827</td>\n",
       "      <td>...</td>\n",
       "      <td>0.666667</td>\n",
       "      <td>0.583333</td>\n",
       "      <td>0.777778</td>\n",
       "      <td>0.5</td>\n",
       "      <td>0.400573</td>\n",
       "      <td>0.493827</td>\n",
       "      <td>0.388889</td>\n",
       "      <td>0.352941</td>\n",
       "      <td>0.375000</td>\n",
       "      <td>0.333333</td>\n",
       "    </tr>\n",
       "    <tr>\n",
       "      <th>157</th>\n",
       "      <td>dummy_model</td>\n",
       "      <td>test_dataset</td>\n",
       "      <td>base</td>\n",
       "      <td>main</td>\n",
       "      <td>prompt_only</td>\n",
       "      <td>31</td>\n",
       "      <td>2</td>\n",
       "      <td>0.347537</td>\n",
       "      <td>0.347537</td>\n",
       "      <td>0.703704</td>\n",
       "      <td>...</td>\n",
       "      <td>0.625000</td>\n",
       "      <td>0.714286</td>\n",
       "      <td>0.555556</td>\n",
       "      <td>0.5</td>\n",
       "      <td>0.580901</td>\n",
       "      <td>0.716049</td>\n",
       "      <td>0.666667</td>\n",
       "      <td>0.666667</td>\n",
       "      <td>0.666667</td>\n",
       "      <td>0.666667</td>\n",
       "    </tr>\n",
       "    <tr>\n",
       "      <th>158</th>\n",
       "      <td>dummy_model</td>\n",
       "      <td>test_dataset</td>\n",
       "      <td>base</td>\n",
       "      <td>main</td>\n",
       "      <td>prompt_only</td>\n",
       "      <td>31</td>\n",
       "      <td>3</td>\n",
       "      <td>0.310377</td>\n",
       "      <td>0.310377</td>\n",
       "      <td>0.750000</td>\n",
       "      <td>...</td>\n",
       "      <td>0.600000</td>\n",
       "      <td>0.750000</td>\n",
       "      <td>0.500000</td>\n",
       "      <td>0.5</td>\n",
       "      <td>0.563677</td>\n",
       "      <td>0.777778</td>\n",
       "      <td>0.583333</td>\n",
       "      <td>0.545455</td>\n",
       "      <td>0.600000</td>\n",
       "      <td>0.500000</td>\n",
       "    </tr>\n",
       "    <tr>\n",
       "      <th>159</th>\n",
       "      <td>dummy_model</td>\n",
       "      <td>test_dataset</td>\n",
       "      <td>base</td>\n",
       "      <td>main</td>\n",
       "      <td>prompt_only</td>\n",
       "      <td>31</td>\n",
       "      <td>4</td>\n",
       "      <td>-0.230763</td>\n",
       "      <td>-0.230763</td>\n",
       "      <td>0.625000</td>\n",
       "      <td>...</td>\n",
       "      <td>0.588235</td>\n",
       "      <td>0.555556</td>\n",
       "      <td>0.625000</td>\n",
       "      <td>0.5</td>\n",
       "      <td>0.547915</td>\n",
       "      <td>0.515625</td>\n",
       "      <td>0.500000</td>\n",
       "      <td>0.428571</td>\n",
       "      <td>0.500000</td>\n",
       "      <td>0.375000</td>\n",
       "    </tr>\n",
       "  </tbody>\n",
       "</table>\n",
       "<p>160 rows × 21 columns</p>\n",
       "</div>"
      ],
      "text/plain": [
       "        model_id    dataset_id prompt_id subset_id   input_type  layer  fold  \\\n",
       "0    dummy_model  test_dataset      base      main  prompt_only      0     0   \n",
       "1    dummy_model  test_dataset      base      main  prompt_only      0     1   \n",
       "2    dummy_model  test_dataset      base      main  prompt_only      0     2   \n",
       "3    dummy_model  test_dataset      base      main  prompt_only      0     3   \n",
       "4    dummy_model  test_dataset      base      main  prompt_only      0     4   \n",
       "..           ...           ...       ...       ...          ...    ...   ...   \n",
       "155  dummy_model  test_dataset      base      main  prompt_only     31     0   \n",
       "156  dummy_model  test_dataset      base      main  prompt_only     31     1   \n",
       "157  dummy_model  test_dataset      base      main  prompt_only     31     2   \n",
       "158  dummy_model  test_dataset      base      main  prompt_only     31     3   \n",
       "159  dummy_model  test_dataset      base      main  prompt_only     31     4   \n",
       "\n",
       "     direction_optimal_cut  direction_optimal_train_set_cut  \\\n",
       "0                 0.329361                         0.329361   \n",
       "1                -0.325044                        -0.325044   \n",
       "2                 0.678965                         0.678965   \n",
       "3                 0.352300                         0.352300   \n",
       "4                 0.377595                         0.377595   \n",
       "..                     ...                              ...   \n",
       "155              -0.178290                        -0.178290   \n",
       "156              -0.232068                        -0.232068   \n",
       "157               0.347537                         0.347537   \n",
       "158               0.310377                         0.310377   \n",
       "159              -0.230763                        -0.230763   \n",
       "\n",
       "     direction_test_roc_auc  ...  direction_f1_score  \\\n",
       "0                  0.388889  ...            0.363636   \n",
       "1                  0.444444  ...            0.545455   \n",
       "2                  0.395062  ...            0.000000   \n",
       "3                  0.638889  ...            0.250000   \n",
       "4                  0.578125  ...            0.705882   \n",
       "..                      ...  ...                 ...   \n",
       "155                0.361111  ...            0.363636   \n",
       "156                0.493827  ...            0.666667   \n",
       "157                0.703704  ...            0.625000   \n",
       "158                0.750000  ...            0.600000   \n",
       "159                0.625000  ...            0.588235   \n",
       "\n",
       "     direction_precision_score  direction_recall_score  \\\n",
       "0                     0.400000                0.333333   \n",
       "1                     0.461538                0.666667   \n",
       "2                     0.000000                0.000000   \n",
       "3                     0.500000                0.166667   \n",
       "4                     0.666667                0.750000   \n",
       "..                         ...                     ...   \n",
       "155                   0.400000                0.333333   \n",
       "156                   0.583333                0.777778   \n",
       "157                   0.714286                0.555556   \n",
       "158                   0.750000                0.500000   \n",
       "159                   0.555556                0.625000   \n",
       "\n",
       "     logistic_regression_optimal_cut  \\\n",
       "0                                0.5   \n",
       "1                                0.5   \n",
       "2                                0.5   \n",
       "3                                0.5   \n",
       "4                                0.5   \n",
       "..                               ...   \n",
       "155                              0.5   \n",
       "156                              0.5   \n",
       "157                              0.5   \n",
       "158                              0.5   \n",
       "159                              0.5   \n",
       "\n",
       "     logistic_regression_optimal_train_set_cut  \\\n",
       "0                                     0.581598   \n",
       "1                                     0.457369   \n",
       "2                                     0.513589   \n",
       "3                                     0.553421   \n",
       "4                                     0.590566   \n",
       "..                                         ...   \n",
       "155                                   0.501011   \n",
       "156                                   0.400573   \n",
       "157                                   0.580901   \n",
       "158                                   0.563677   \n",
       "159                                   0.547915   \n",
       "\n",
       "     logistic_regression_test_roc_auc  logistic_regression_accuracy_score  \\\n",
       "0                            0.472222                            0.416667   \n",
       "1                            0.370370                            0.444444   \n",
       "2                            0.506173                            0.500000   \n",
       "3                            0.694444                            0.500000   \n",
       "4                            0.578125                            0.500000   \n",
       "..                                ...                                 ...   \n",
       "155                          0.416667                            0.416667   \n",
       "156                          0.493827                            0.388889   \n",
       "157                          0.716049                            0.666667   \n",
       "158                          0.777778                            0.583333   \n",
       "159                          0.515625                            0.500000   \n",
       "\n",
       "     logistic_regression_f1_score  logistic_regression_precision_score  \\\n",
       "0                        0.363636                             0.400000   \n",
       "1                        0.444444                             0.444444   \n",
       "2                        0.470588                             0.500000   \n",
       "3                        0.250000                             0.500000   \n",
       "4                        0.600000                             0.500000   \n",
       "..                            ...                                  ...   \n",
       "155                      0.363636                             0.400000   \n",
       "156                      0.352941                             0.375000   \n",
       "157                      0.666667                             0.666667   \n",
       "158                      0.545455                             0.600000   \n",
       "159                      0.428571                             0.500000   \n",
       "\n",
       "     logistic_regression_recall_score  \n",
       "0                            0.333333  \n",
       "1                            0.444444  \n",
       "2                            0.444444  \n",
       "3                            0.166667  \n",
       "4                            0.750000  \n",
       "..                                ...  \n",
       "155                          0.333333  \n",
       "156                          0.333333  \n",
       "157                          0.666667  \n",
       "158                          0.500000  \n",
       "159                          0.375000  \n",
       "\n",
       "[160 rows x 21 columns]"
      ]
     },
     "execution_count": 12,
     "metadata": {},
     "output_type": "execute_result"
    }
   ],
   "source": [
    "\n",
    "res_dict = defaultdict(list)\n",
    "\n",
    "for (model_id, dataset_id, prompt_id, subset_id, input_type), config_df in activation_exp_configs_df.groupby([\"model_id\", \"dataset_id\", \"prompt_id\", \"subset_id\", \"input_type\"]):\n",
    "    print(f\"\\n{model_id=}, {dataset_id=}, {prompt_id=}, {subset_id=}, {input_type=}\")\n",
    "    labels_df = load_labels(\n",
    "        base_path=BASE_PATH,\n",
    "        model_id=model_id,\n",
    "        dataset_id=dataset_id,\n",
    "        prompt_id=prompt_id,\n",
    "        subset_id=subset_id,\n",
    "    )\n",
    "\n",
    "    check_indices = None\n",
    "    for layer in config_df[\"layer\"].astype(int).sort_values():\n",
    "        print(f\"{layer=}\", end=\", \")\n",
    "        activations, indices = load_activations(\n",
    "            base_path=BASE_PATH,\n",
    "            model_id=model_id,\n",
    "            dataset_id=dataset_id,\n",
    "            prompt_id=prompt_id,\n",
    "            subset_id=subset_id,\n",
    "            input_type=input_type,\n",
    "            layer=layer,\n",
    "        )\n",
    "        \n",
    "        if check_indices is None:\n",
    "            check_indices = indices.sample(frac=1, replace=False)\n",
    "        \n",
    "        if set(indices) != set(check_indices):\n",
    "            raise RuntimeError(f\"indices across layers are not the same\")\n",
    "\n",
    "        labels_df_subset = labels_df.iloc[check_indices]\n",
    "        activations = activations[check_indices]\n",
    "\n",
    "        activations_handler = ActivationsHandler(\n",
    "            activations=activations,\n",
    "            labels=labels_df_subset[\"correct\"].astype(bool),\n",
    "        )\n",
    "\n",
    "        activations_handler_folds = list(\n",
    "            activations_handler.split_dataset(split_sizes=[1/5] * 5)\n",
    "        )\n",
    "\n",
    "        fold_stats = {}\n",
    "        for fold_i, activations_handler_test in enumerate(activations_handler_folds):\n",
    "            activations_handler_train = combine_activations_handlers(\n",
    "                [ah for j, ah in enumerate(activations_handler_folds) if j != fold_i]\n",
    "            ).sample_equally_across_groups(\n",
    "                group_labels=[False, True]\n",
    "            )\n",
    "            activations_handler_test = activations_handler_test.sample_equally_across_groups(\n",
    "                group_labels=[False, True]\n",
    "            )\n",
    "\n",
    "            res_dict[\"model_id\"].append(model_id)\n",
    "            res_dict[\"dataset_id\"].append(dataset_id)\n",
    "            res_dict[\"prompt_id\"].append(prompt_id)\n",
    "            res_dict[\"subset_id\"].append(subset_id)\n",
    "            res_dict[\"input_type\"].append(input_type)\n",
    "            res_dict[\"layer\"].append(layer)\n",
    "            res_dict[\"fold\"].append(fold_i)\n",
    "\n",
    "            direction_classifier, direction_calculator = get_correctness_direction_classifier(\n",
    "                activations_handler_train=activations_handler_train,\n",
    "                activations_handler_test=activations_handler_test,\n",
    "            )\n",
    "            # res_dict[\"classifying_direction\"].append(direction_calculator.classifying_direction.tolist())\n",
    "            for key, value in direction_classifier.classification_metrics.items():\n",
    "                res_dict[f\"direction_{key}\"].append(value)\n",
    "            \n",
    "            for key, value in get_logistic_regression_classifier(\n",
    "                    activations_handler_train=activations_handler_train,\n",
    "                    activations_handler_test=activations_handler_test,\n",
    "                )[0].classification_metrics.items():\n",
    "                res_dict[f\"logistic_regression_{key}\"].append(value)\n",
    "\n",
    "\n",
    "\n",
    "res_df = pd.DataFrame(res_dict)\n",
    "res_df"
   ]
  },
  {
   "cell_type": "code",
   "execution_count": 8,
   "metadata": {},
   "outputs": [],
   "source": [
    "# res_file = \"./classification_data/res_df_llama31_8B_4_memory_datasets.csv\""
   ]
  },
  {
   "cell_type": "code",
   "execution_count": 9,
   "metadata": {},
   "outputs": [],
   "source": [
    "# res_df.to_csv(res_file, index=False)"
   ]
  },
  {
   "cell_type": "code",
   "execution_count": 10,
   "metadata": {},
   "outputs": [],
   "source": [
    "# res_df = pd.read_csv(res_file)"
   ]
  },
  {
   "cell_type": "code",
   "execution_count": 11,
   "metadata": {},
   "outputs": [],
   "source": []
  },
  {
   "cell_type": "code",
   "execution_count": 13,
   "metadata": {},
   "outputs": [
    {
     "name": "stdout",
     "output_type": "stream",
     "text": [
      "conf=('dummy_model', 'test_dataset', 'base', 'main', 'prompt_only')\n"
     ]
    },
    {
     "data": {
      "application/vnd.plotly.v1+json": {
       "config": {
        "plotlyServerURL": "https://plot.ly"
       },
       "data": [
        {
         "legendgroup": "('dummy_model', 'test_dataset', 'base', 'main', 'prompt_only')",
         "line": {
          "color": "#1f77b4",
          "width": 2
         },
         "marker": {
          "size": 8
         },
         "mode": "lines+markers",
         "name": "('dummy_model', 'test_dataset', 'base', 'main', 'prompt_only')",
         "type": "scatter",
         "x": {
          "bdata": "AAECAwQFBgcICQoLDA0ODxAREhMUFRYXGBkaGxwdHh8=",
          "dtype": "i1"
         },
         "y": {
          "bdata": "4Mdq9iTf1z82Z+v0iy3fP/26r/u6r9s/rENpTs+X2D+mYJ8WuZrdP4sDe/Jp4dg/0/GacgR/3D9Fr47NcFHfP9bqzHl2++c/xpJfLPnF6j8jGSeScSLpP/7cz/3cz+0/XoxrXoxr7j8z/8uYZTLvP5NfLPnFku8/a9+w9g1r7z9r37D2DWvvP6Cfn5+fn+8/oJ+fn5+f7z+gn5+fn5/vP143wV43we4/MlR2mLrc7j+TXyz5xZLvP1YTz4pGAu4/7iXzCfBe7j9dcKtccKvsP7afOunSbew/vj78X8oq6j9uemO+2KbnPx++wtaCbOY/HYOAMwLN2T8zLrVq2jLiPw==",
          "dtype": "f8"
         }
        },
        {
         "legendgroup": "('dummy_model', 'test_dataset', 'base', 'main', 'prompt_only')",
         "line": {
          "width": 0
         },
         "mode": "lines",
         "name": "('dummy_model', 'test_dataset', 'base', 'main', 'prompt_only') Max",
         "showlegend": false,
         "type": "scatter",
         "x": {
          "bdata": "AAECAwQFBgcICQoLDA0ODxAREhMUFRYXGBkaGxwdHh8=",
          "dtype": "i1"
         },
         "y": {
          "bdata": "l5aWlpaW5j/ZiZ3YiZ3oPxQ7sRM7seM/q6qqqqqq4j9VVVVVVVXlP9PS0tLS0uI/VVVVVVVV5T9VVVVVVVXlPwAAAAAAAOw/AAAAAAAA8D/e3d3d3d3tPwAAAAAAAPA/AAAAAAAA8D8AAAAAAADwPwAAAAAAAPA/AAAAAAAA8D8AAAAAAADwPwAAAAAAAPA/AAAAAAAA8D8AAAAAAADwPwAAAAAAAPA/AAAAAAAA8D8AAAAAAADwPwAAAAAAAPA/AAAAAAAA8D8AAAAAAADwPx4eHh4eHu4/AAAAAAAA8D/btm3btm3rPyivobyG8uo/OL3pTW964z9VVVVVVVXlPw==",
          "dtype": "f8"
         }
        },
        {
         "fill": "tonexty",
         "fillcolor": "rgba(31, 119, 180, 0.1)",
         "legendgroup": "('dummy_model', 'test_dataset', 'base', 'main', 'prompt_only')",
         "line": {
          "width": 0
         },
         "mode": "lines",
         "name": "('dummy_model', 'test_dataset', 'base', 'main', 'prompt_only') Min",
         "showlegend": false,
         "type": "scatter",
         "x": {
          "bdata": "AAECAwQFBgcICQoLDA0ODxAREhMUFRYXGBkaGxwdHh8=",
          "dtype": "i1"
         },
         "y": {
          "bdata": "AAAAAAAAAAAUO7ETO7HTPwAAAAAAAAAAERERERERwT8RERERERHRPwAAAAAAAAAARhdddNFFxz9GF1100UXXP5IkSZIkSeI/AAAAAAAA6D8zMzMzMzPjP9mJndiJneg/HMdxHMdx7D/e3d3d3d3tP97d3d3d3e0/F1100UUX7T8XXXTRRRftPx4eHh4eHu4/Hh4eHh4e7j8eHh4eHh7uP57YiZ3Yie0/HMdxHMdx7D/e3d3d3d3tP5qZmZmZmek/AAAAAAAA7D8UO7ETO7HjP5qZmZmZmek/l5aWlpaW5j8UO7ETO7HjP5IkSZIkSeI/AAAAAAAAAABGF1100UXXPw==",
          "dtype": "f8"
         }
        },
        {
         "legendgroup": "('dummy_model', 'test_dataset', 'base', 'main', 'prompt_only')",
         "line": {
          "width": 0
         },
         "mode": "lines",
         "name": "('dummy_model', 'test_dataset', 'base', 'main', 'prompt_only') +1 STD",
         "showlegend": false,
         "type": "scatter",
         "x": {
          "bdata": "AAECAwQFBgcICQoLDA0ODxAREhMUFRYXGBkaGxwdHh8=",
          "dtype": "i1"
         },
         "y": {
          "bdata": "oP9QgeGf5D8zH3ZJMw3mP8hShcyGyOU/LltTxgAX4j+pbaodhenjP7klqpiF7eM/Qdk58z764z9i7cPOZFjjP92IQeVJrus/uIGVt6vY7T8HVg8stdjtPyqldk3DjPA/bE+tnoT77z9sVOg5bCbwP/OmnXuBQ/A/eimRqA1c8D96KZGoDVzwP0+TA16QO/A/T5MDXpA78D9PkwNekDvwP8WvqRd06u8/yi9s0Ok/8D/zpp17gUPwP0kgUBkbdfA/Cy4xO64J8D8GXEp4eufwP+/0HFXRKu4/IVt7qUKw7j/VEDIylhLrP9HB2y5aceo/s/rvqD2M5D/x55VPsv3lPw==",
          "dtype": "f8"
         }
        },
        {
         "fill": "tonexty",
         "fillcolor": "rgba(31, 119, 180, 0.3)",
         "legendgroup": "('dummy_model', 'test_dataset', 'base', 'main', 'prompt_only')",
         "line": {
          "width": 0
         },
         "mode": "lines",
         "name": "('dummy_model', 'test_dataset', 'base', 'main', 'prompt_only') -1 STD",
         "showlegend": false,
         "type": "scatter",
         "x": {
          "bdata": "AAECAwQFBgcICQoLDA0ODxAREhMUFRYXGBkaGxwdHh8=",
          "dtype": "i1"
         },
         "y": {
          "bdata": "/EHOqBv6uT8GkOpWsUDSP9OgqbzQnMc/+aFXIDoDyj/65enxZ2LTP0l3Q2eRz8M/JDHC/ooJ0T/Hg5X9F/LXP89MWA6jSOQ/1KMpoUaz5z8/3D74LWzkP6hvsmAzhuo/UMkpHpTb7D+OVce98hfuPz9xHfuInu4/4Ws/nAAe7j/haz+cAB7uP6EYOIMeyO4/oRg4gx7I7j+hGDiDHsjuP/e+2KX6l+0/z0gUkKE57T8/cR37iJ7uPxnm/eJWGus/xu+DnYOq7D+uKMLI64fnP31KWH3UsOo/WyJ9FlKl5T8H5JRKGzvkP226qX6rZ+I/qSFCKhIDxT/q6KgLBdDcPw==",
          "dtype": "f8"
         }
        },
        {
         "legendgroup": "('dummy_model', 'test_dataset', 'base', 'main', 'prompt_only')",
         "marker": {
          "color": "#1f77b4",
          "opacity": 0.5,
          "size": 6
         },
         "mode": "markers",
         "name": "('dummy_model', 'test_dataset', 'base', 'main', 'prompt_only') Fold ('direction_f1_score', 0)",
         "showlegend": false,
         "type": "scatter",
         "x": {
          "bdata": "AAECAwQFBgcICQoLDA0ODxAREhMUFRYXGBkaGxwdHh8=",
          "dtype": "i1"
         },
         "y": {
          "bdata": "RhdddNFF1z9GF1100UXXPwAAAAAAAAAAERERERER4T9GF1100UXXP9PS0tLS0uI/HMdxHMdx3D9GF1100UXXP0YXXXTRRec/q6qqqqqq6j8zMzMzMzPjPwAAAAAAAPA/ntiJndiJ7T8AAAAAAADwPwAAAAAAAPA/AAAAAAAA8D8AAAAAAADwPwAAAAAAAPA/AAAAAAAA8D8AAAAAAADwPwAAAAAAAPA/AAAAAAAA8D8AAAAAAADwPwAAAAAAAPA/AAAAAAAA8D8AAAAAAADwP5qZmZmZmek/AAAAAAAA8D+3bdu2bdvmP1VVVVVVVeU/AAAAAAAAAABGF1100UXXPw==",
          "dtype": "f8"
         }
        },
        {
         "legendgroup": "('dummy_model', 'test_dataset', 'base', 'main', 'prompt_only')",
         "marker": {
          "color": "#1f77b4",
          "opacity": 0.5,
          "size": 6
         },
         "mode": "markers",
         "name": "('dummy_model', 'test_dataset', 'base', 'main', 'prompt_only') Fold ('direction_f1_score', 1)",
         "showlegend": false,
         "type": "scatter",
         "x": {
          "bdata": "AAECAwQFBgcICQoLDA0ODxAREhMUFRYXGBkaGxwdHh8=",
          "dtype": "i1"
         },
         "y": {
          "bdata": "dNFFF1104T8UO7ETO7HTPwAAAAAAAOA/q6qqqqqq4j8RERERERHRP3Icx3Ecx+E/ERERERER4T95DeU1lNfgPwAAAAAAAOg/mpmZmZmZ6T8vuuiiiy7qPwAAAAAAAPA/AAAAAAAA8D8AAAAAAADwPwAAAAAAAPA/AAAAAAAA8D8AAAAAAADwPwAAAAAAAPA/AAAAAAAA8D8AAAAAAADwPx4eHh4eHu4/AAAAAAAA8D8AAAAAAADwPwAAAAAAAPA/AAAAAAAA8D8AAAAAAADwPx4eHh4eHu4/l5aWlpaW5j8or6G8hvLqP5IkSZIkSeI/OL3pTW964z9VVVVVVVXlPw==",
          "dtype": "f8"
         }
        },
        {
         "legendgroup": "('dummy_model', 'test_dataset', 'base', 'main', 'prompt_only')",
         "marker": {
          "color": "#1f77b4",
          "opacity": 0.5,
          "size": 6
         },
         "mode": "markers",
         "name": "('dummy_model', 'test_dataset', 'base', 'main', 'prompt_only') Fold ('direction_f1_score', 2)",
         "showlegend": false,
         "type": "scatter",
         "x": {
          "bdata": "AAECAwQFBgcICQoLDA0ODxAREhMUFRYXGBkaGxwdHh8=",
          "dtype": "i1"
         },
         "y": {
          "bdata": "AAAAAAAAAABeQ3kN5TXkP57neZ7ned4/ERERERERwT9VVVVVVVXlP5qZmZmZmdk/VVVVVVVV5T+e2Imd2IndP1paWlpaWuo/AAAAAAAA6D9VVVVVVVXlPxzHcRzHcew/Hh4eHh4e7j8eHh4eHh7uPwAAAAAAAPA/AAAAAAAA8D8AAAAAAADwPx4eHh4eHu4/Hh4eHh4e7j8eHh4eHh7uPx4eHh4eHu4/HMdxHMdx7D8AAAAAAADwP5qZmZmZmek/DeU1lNdQ7j8UO7ETO7HjPxzHcRzHcew/t23btm3b5j/btm3btm3rP1paWlpaWuo/dNFFF1104T8AAAAAAADkPw==",
          "dtype": "f8"
         }
        },
        {
         "legendgroup": "('dummy_model', 'test_dataset', 'base', 'main', 'prompt_only')",
         "marker": {
          "color": "#1f77b4",
          "opacity": 0.5,
          "size": 6
         },
         "mode": "markers",
         "name": "('dummy_model', 'test_dataset', 'base', 'main', 'prompt_only') Fold ('direction_f1_score', 3)",
         "showlegend": false,
         "type": "scatter",
         "x": {
          "bdata": "AAECAwQFBgcICQoLDA0ODxAREhMUFRYXGBkaGxwdHh8=",
          "dtype": "i1"
         },
         "y": {
          "bdata": "AAAAAAAA0D/ZiZ3YiZ3oPxQ7sRM7seM/RhdddNFF1z8cx3Ecx3HcPwAAAAAAAAAAmpmZmZmZ2T9VVVVVVVXlP5IkSZIkSeI/mpmZmZmZ6T8XXXTRRRftPwAAAAAAAPA/AAAAAAAA8D8AAAAAAADwPwAAAAAAAPA/F1100UUX7T8XXXTRRRftPwAAAAAAAPA/AAAAAAAA8D8AAAAAAADwP57YiZ3Yie0/AAAAAAAA8D8AAAAAAADwPwAAAAAAAPA/ntiJndiJ7T+e2Imd2IntP57YiZ3Yie0/RhdddNFF5z8UO7ETO7HjPzMzMzMzM+M/mpmZmZmZ2T8zMzMzMzPjPw==",
          "dtype": "f8"
         }
        },
        {
         "legendgroup": "('dummy_model', 'test_dataset', 'base', 'main', 'prompt_only')",
         "marker": {
          "color": "#1f77b4",
          "opacity": 0.5,
          "size": 6
         },
         "mode": "markers",
         "name": "('dummy_model', 'test_dataset', 'base', 'main', 'prompt_only') Fold ('direction_f1_score', 4)",
         "showlegend": false,
         "type": "scatter",
         "x": {
          "bdata": "AAECAwQFBgcICQoLDA0ODxAREhMUFRYXGBkaGxwdHh8=",
          "dtype": "i1"
         },
         "y": {
          "bdata": "l5aWlpaW5j9GF1100UXXP5IkSZIkSeI/FDuxEzux0z+SJEmSJEniP5qZmZmZmdk/RhdddNFFxz/btm3btm3bPwAAAAAAAOw/AAAAAAAA8D/e3d3d3d3tP9mJndiJneg/HMdxHMdx7D/e3d3d3d3tP97d3d3d3e0/AAAAAAAA8D8AAAAAAADwPwAAAAAAAPA/AAAAAAAA8D8AAAAAAADwPwAAAAAAAPA/3t3d3d3d7T/e3d3d3d3tPxzHcRzHcew/AAAAAAAA7D8eHh4eHh7uPxzHcRzHcew/Hh4eHh4e7j9VVVVVVVXlPyivobyG8uo/ntiJndiJ3T/T0tLS0tLiPw==",
          "dtype": "f8"
         }
        }
       ],
       "layout": {
        "font": {
         "color": "white"
        },
        "height": 600,
        "legend": {
         "bgcolor": "rgba(32, 32, 32, 0.8)",
         "orientation": "h",
         "x": 0.5,
         "xanchor": "center",
         "y": 1.02,
         "yanchor": "bottom"
        },
        "margin": {
         "b": 50,
         "l": 50,
         "r": 30,
         "t": 100
        },
        "paper_bgcolor": "rgba(32, 32, 32, 1)",
        "plot_bgcolor": "rgba(32, 32, 32, 1)",
        "showlegend": true,
        "template": {
         "data": {
          "bar": [
           {
            "error_x": {
             "color": "#f2f5fa"
            },
            "error_y": {
             "color": "#f2f5fa"
            },
            "marker": {
             "line": {
              "color": "rgb(17,17,17)",
              "width": 0.5
             },
             "pattern": {
              "fillmode": "overlay",
              "size": 10,
              "solidity": 0.2
             }
            },
            "type": "bar"
           }
          ],
          "barpolar": [
           {
            "marker": {
             "line": {
              "color": "rgb(17,17,17)",
              "width": 0.5
             },
             "pattern": {
              "fillmode": "overlay",
              "size": 10,
              "solidity": 0.2
             }
            },
            "type": "barpolar"
           }
          ],
          "carpet": [
           {
            "aaxis": {
             "endlinecolor": "#A2B1C6",
             "gridcolor": "#506784",
             "linecolor": "#506784",
             "minorgridcolor": "#506784",
             "startlinecolor": "#A2B1C6"
            },
            "baxis": {
             "endlinecolor": "#A2B1C6",
             "gridcolor": "#506784",
             "linecolor": "#506784",
             "minorgridcolor": "#506784",
             "startlinecolor": "#A2B1C6"
            },
            "type": "carpet"
           }
          ],
          "choropleth": [
           {
            "colorbar": {
             "outlinewidth": 0,
             "ticks": ""
            },
            "type": "choropleth"
           }
          ],
          "contour": [
           {
            "colorbar": {
             "outlinewidth": 0,
             "ticks": ""
            },
            "colorscale": [
             [
              0,
              "#0d0887"
             ],
             [
              0.1111111111111111,
              "#46039f"
             ],
             [
              0.2222222222222222,
              "#7201a8"
             ],
             [
              0.3333333333333333,
              "#9c179e"
             ],
             [
              0.4444444444444444,
              "#bd3786"
             ],
             [
              0.5555555555555556,
              "#d8576b"
             ],
             [
              0.6666666666666666,
              "#ed7953"
             ],
             [
              0.7777777777777778,
              "#fb9f3a"
             ],
             [
              0.8888888888888888,
              "#fdca26"
             ],
             [
              1,
              "#f0f921"
             ]
            ],
            "type": "contour"
           }
          ],
          "contourcarpet": [
           {
            "colorbar": {
             "outlinewidth": 0,
             "ticks": ""
            },
            "type": "contourcarpet"
           }
          ],
          "heatmap": [
           {
            "colorbar": {
             "outlinewidth": 0,
             "ticks": ""
            },
            "colorscale": [
             [
              0,
              "#0d0887"
             ],
             [
              0.1111111111111111,
              "#46039f"
             ],
             [
              0.2222222222222222,
              "#7201a8"
             ],
             [
              0.3333333333333333,
              "#9c179e"
             ],
             [
              0.4444444444444444,
              "#bd3786"
             ],
             [
              0.5555555555555556,
              "#d8576b"
             ],
             [
              0.6666666666666666,
              "#ed7953"
             ],
             [
              0.7777777777777778,
              "#fb9f3a"
             ],
             [
              0.8888888888888888,
              "#fdca26"
             ],
             [
              1,
              "#f0f921"
             ]
            ],
            "type": "heatmap"
           }
          ],
          "histogram": [
           {
            "marker": {
             "pattern": {
              "fillmode": "overlay",
              "size": 10,
              "solidity": 0.2
             }
            },
            "type": "histogram"
           }
          ],
          "histogram2d": [
           {
            "colorbar": {
             "outlinewidth": 0,
             "ticks": ""
            },
            "colorscale": [
             [
              0,
              "#0d0887"
             ],
             [
              0.1111111111111111,
              "#46039f"
             ],
             [
              0.2222222222222222,
              "#7201a8"
             ],
             [
              0.3333333333333333,
              "#9c179e"
             ],
             [
              0.4444444444444444,
              "#bd3786"
             ],
             [
              0.5555555555555556,
              "#d8576b"
             ],
             [
              0.6666666666666666,
              "#ed7953"
             ],
             [
              0.7777777777777778,
              "#fb9f3a"
             ],
             [
              0.8888888888888888,
              "#fdca26"
             ],
             [
              1,
              "#f0f921"
             ]
            ],
            "type": "histogram2d"
           }
          ],
          "histogram2dcontour": [
           {
            "colorbar": {
             "outlinewidth": 0,
             "ticks": ""
            },
            "colorscale": [
             [
              0,
              "#0d0887"
             ],
             [
              0.1111111111111111,
              "#46039f"
             ],
             [
              0.2222222222222222,
              "#7201a8"
             ],
             [
              0.3333333333333333,
              "#9c179e"
             ],
             [
              0.4444444444444444,
              "#bd3786"
             ],
             [
              0.5555555555555556,
              "#d8576b"
             ],
             [
              0.6666666666666666,
              "#ed7953"
             ],
             [
              0.7777777777777778,
              "#fb9f3a"
             ],
             [
              0.8888888888888888,
              "#fdca26"
             ],
             [
              1,
              "#f0f921"
             ]
            ],
            "type": "histogram2dcontour"
           }
          ],
          "mesh3d": [
           {
            "colorbar": {
             "outlinewidth": 0,
             "ticks": ""
            },
            "type": "mesh3d"
           }
          ],
          "parcoords": [
           {
            "line": {
             "colorbar": {
              "outlinewidth": 0,
              "ticks": ""
             }
            },
            "type": "parcoords"
           }
          ],
          "pie": [
           {
            "automargin": true,
            "type": "pie"
           }
          ],
          "scatter": [
           {
            "marker": {
             "line": {
              "color": "#283442"
             }
            },
            "type": "scatter"
           }
          ],
          "scatter3d": [
           {
            "line": {
             "colorbar": {
              "outlinewidth": 0,
              "ticks": ""
             }
            },
            "marker": {
             "colorbar": {
              "outlinewidth": 0,
              "ticks": ""
             }
            },
            "type": "scatter3d"
           }
          ],
          "scattercarpet": [
           {
            "marker": {
             "colorbar": {
              "outlinewidth": 0,
              "ticks": ""
             }
            },
            "type": "scattercarpet"
           }
          ],
          "scattergeo": [
           {
            "marker": {
             "colorbar": {
              "outlinewidth": 0,
              "ticks": ""
             }
            },
            "type": "scattergeo"
           }
          ],
          "scattergl": [
           {
            "marker": {
             "line": {
              "color": "#283442"
             }
            },
            "type": "scattergl"
           }
          ],
          "scattermap": [
           {
            "marker": {
             "colorbar": {
              "outlinewidth": 0,
              "ticks": ""
             }
            },
            "type": "scattermap"
           }
          ],
          "scattermapbox": [
           {
            "marker": {
             "colorbar": {
              "outlinewidth": 0,
              "ticks": ""
             }
            },
            "type": "scattermapbox"
           }
          ],
          "scatterpolar": [
           {
            "marker": {
             "colorbar": {
              "outlinewidth": 0,
              "ticks": ""
             }
            },
            "type": "scatterpolar"
           }
          ],
          "scatterpolargl": [
           {
            "marker": {
             "colorbar": {
              "outlinewidth": 0,
              "ticks": ""
             }
            },
            "type": "scatterpolargl"
           }
          ],
          "scatterternary": [
           {
            "marker": {
             "colorbar": {
              "outlinewidth": 0,
              "ticks": ""
             }
            },
            "type": "scatterternary"
           }
          ],
          "surface": [
           {
            "colorbar": {
             "outlinewidth": 0,
             "ticks": ""
            },
            "colorscale": [
             [
              0,
              "#0d0887"
             ],
             [
              0.1111111111111111,
              "#46039f"
             ],
             [
              0.2222222222222222,
              "#7201a8"
             ],
             [
              0.3333333333333333,
              "#9c179e"
             ],
             [
              0.4444444444444444,
              "#bd3786"
             ],
             [
              0.5555555555555556,
              "#d8576b"
             ],
             [
              0.6666666666666666,
              "#ed7953"
             ],
             [
              0.7777777777777778,
              "#fb9f3a"
             ],
             [
              0.8888888888888888,
              "#fdca26"
             ],
             [
              1,
              "#f0f921"
             ]
            ],
            "type": "surface"
           }
          ],
          "table": [
           {
            "cells": {
             "fill": {
              "color": "#506784"
             },
             "line": {
              "color": "rgb(17,17,17)"
             }
            },
            "header": {
             "fill": {
              "color": "#2a3f5f"
             },
             "line": {
              "color": "rgb(17,17,17)"
             }
            },
            "type": "table"
           }
          ]
         },
         "layout": {
          "annotationdefaults": {
           "arrowcolor": "#f2f5fa",
           "arrowhead": 0,
           "arrowwidth": 1
          },
          "autotypenumbers": "strict",
          "coloraxis": {
           "colorbar": {
            "outlinewidth": 0,
            "ticks": ""
           }
          },
          "colorscale": {
           "diverging": [
            [
             0,
             "#8e0152"
            ],
            [
             0.1,
             "#c51b7d"
            ],
            [
             0.2,
             "#de77ae"
            ],
            [
             0.3,
             "#f1b6da"
            ],
            [
             0.4,
             "#fde0ef"
            ],
            [
             0.5,
             "#f7f7f7"
            ],
            [
             0.6,
             "#e6f5d0"
            ],
            [
             0.7,
             "#b8e186"
            ],
            [
             0.8,
             "#7fbc41"
            ],
            [
             0.9,
             "#4d9221"
            ],
            [
             1,
             "#276419"
            ]
           ],
           "sequential": [
            [
             0,
             "#0d0887"
            ],
            [
             0.1111111111111111,
             "#46039f"
            ],
            [
             0.2222222222222222,
             "#7201a8"
            ],
            [
             0.3333333333333333,
             "#9c179e"
            ],
            [
             0.4444444444444444,
             "#bd3786"
            ],
            [
             0.5555555555555556,
             "#d8576b"
            ],
            [
             0.6666666666666666,
             "#ed7953"
            ],
            [
             0.7777777777777778,
             "#fb9f3a"
            ],
            [
             0.8888888888888888,
             "#fdca26"
            ],
            [
             1,
             "#f0f921"
            ]
           ],
           "sequentialminus": [
            [
             0,
             "#0d0887"
            ],
            [
             0.1111111111111111,
             "#46039f"
            ],
            [
             0.2222222222222222,
             "#7201a8"
            ],
            [
             0.3333333333333333,
             "#9c179e"
            ],
            [
             0.4444444444444444,
             "#bd3786"
            ],
            [
             0.5555555555555556,
             "#d8576b"
            ],
            [
             0.6666666666666666,
             "#ed7953"
            ],
            [
             0.7777777777777778,
             "#fb9f3a"
            ],
            [
             0.8888888888888888,
             "#fdca26"
            ],
            [
             1,
             "#f0f921"
            ]
           ]
          },
          "colorway": [
           "#636efa",
           "#EF553B",
           "#00cc96",
           "#ab63fa",
           "#FFA15A",
           "#19d3f3",
           "#FF6692",
           "#B6E880",
           "#FF97FF",
           "#FECB52"
          ],
          "font": {
           "color": "#f2f5fa"
          },
          "geo": {
           "bgcolor": "rgb(17,17,17)",
           "lakecolor": "rgb(17,17,17)",
           "landcolor": "rgb(17,17,17)",
           "showlakes": true,
           "showland": true,
           "subunitcolor": "#506784"
          },
          "hoverlabel": {
           "align": "left"
          },
          "hovermode": "closest",
          "mapbox": {
           "style": "dark"
          },
          "paper_bgcolor": "rgb(17,17,17)",
          "plot_bgcolor": "rgb(17,17,17)",
          "polar": {
           "angularaxis": {
            "gridcolor": "#506784",
            "linecolor": "#506784",
            "ticks": ""
           },
           "bgcolor": "rgb(17,17,17)",
           "radialaxis": {
            "gridcolor": "#506784",
            "linecolor": "#506784",
            "ticks": ""
           }
          },
          "scene": {
           "xaxis": {
            "backgroundcolor": "rgb(17,17,17)",
            "gridcolor": "#506784",
            "gridwidth": 2,
            "linecolor": "#506784",
            "showbackground": true,
            "ticks": "",
            "zerolinecolor": "#C8D4E3"
           },
           "yaxis": {
            "backgroundcolor": "rgb(17,17,17)",
            "gridcolor": "#506784",
            "gridwidth": 2,
            "linecolor": "#506784",
            "showbackground": true,
            "ticks": "",
            "zerolinecolor": "#C8D4E3"
           },
           "zaxis": {
            "backgroundcolor": "rgb(17,17,17)",
            "gridcolor": "#506784",
            "gridwidth": 2,
            "linecolor": "#506784",
            "showbackground": true,
            "ticks": "",
            "zerolinecolor": "#C8D4E3"
           }
          },
          "shapedefaults": {
           "line": {
            "color": "#f2f5fa"
           }
          },
          "sliderdefaults": {
           "bgcolor": "#C8D4E3",
           "bordercolor": "rgb(17,17,17)",
           "borderwidth": 1,
           "tickwidth": 0
          },
          "ternary": {
           "aaxis": {
            "gridcolor": "#506784",
            "linecolor": "#506784",
            "ticks": ""
           },
           "baxis": {
            "gridcolor": "#506784",
            "linecolor": "#506784",
            "ticks": ""
           },
           "bgcolor": "rgb(17,17,17)",
           "caxis": {
            "gridcolor": "#506784",
            "linecolor": "#506784",
            "ticks": ""
           }
          },
          "title": {
           "x": 0.05
          },
          "updatemenudefaults": {
           "bgcolor": "#506784",
           "borderwidth": 0
          },
          "xaxis": {
           "automargin": true,
           "gridcolor": "#283442",
           "linecolor": "#506784",
           "ticks": "",
           "title": {
            "standoff": 15
           },
           "zerolinecolor": "#283442",
           "zerolinewidth": 2
          },
          "yaxis": {
           "automargin": true,
           "gridcolor": "#283442",
           "linecolor": "#506784",
           "ticks": "",
           "title": {
            "standoff": 15
           },
           "zerolinecolor": "#283442",
           "zerolinewidth": 2
          }
         }
        },
        "title": {},
        "width": 1000,
        "xaxis": {
         "gridcolor": "rgba(128, 128, 128, 0.2)",
         "title": {
          "text": "Layer"
         },
         "zeroline": false
        },
        "yaxis": {
         "gridcolor": "rgba(128, 128, 128, 0.2)",
         "title": {
          "text": "Direction F1 Score"
         },
         "zeroline": false
        }
       }
      }
     },
     "metadata": {},
     "output_type": "display_data"
    },
    {
     "name": "stdout",
     "output_type": "stream",
     "text": [
      "conf=('dummy_model', 'test_dataset', 'base', 'main', 'prompt_only')\n"
     ]
    },
    {
     "data": {
      "application/vnd.plotly.v1+json": {
       "config": {
        "plotlyServerURL": "https://plot.ly"
       },
       "data": [
        {
         "legendgroup": "('dummy_model', 'test_dataset', 'base', 'main', 'prompt_only')",
         "line": {
          "color": "#1f77b4",
          "width": 2
         },
         "marker": {
          "size": 8
         },
         "mode": "lines+markers",
         "name": "('dummy_model', 'test_dataset', 'base', 'main', 'prompt_only')",
         "type": "scatter",
         "x": {
          "bdata": "AAECAwQFBgcICQoLDA0ODxAREhMUFRYXGBkaGxwdHh8=",
          "dtype": "i1"
         },
         "y": {
          "bdata": "leBDBDk/2z8ZVZioOUjjP7JJJg3j/OE/ksUV4yNZ1D+NHMTIQYzcPz18R0H1kdE/Y3rZyuA/4T/1khrqfIzdP/yOl0DXTOk/8xZg8hZg6j9SyhSlTFHqP4i9khTsTO0/ffHCCCB97T/AlyG/lyHvPwAAAAAAAPA/QPADP/AD7z8AAAAAAADwPwAAAAAAAPA/IPiBH/iB7z8g+IEf+IHvPwCRtf6Qte4/nfo9t8Sp7z+d+j23xKnvP2N+SLTci+0/nuEZnuEZ7j9gN8FeN8HuP0q9jtTrSO0/IKPXH6PX6z+cS0TPfnfmP7L3Dmzgsec/zifRZsFq4D918LeMTSzePw==",
          "dtype": "f8"
         }
        },
        {
         "legendgroup": "('dummy_model', 'test_dataset', 'base', 'main', 'prompt_only')",
         "line": {
          "width": 0
         },
         "mode": "lines",
         "name": "('dummy_model', 'test_dataset', 'base', 'main', 'prompt_only') Max",
         "showlegend": false,
         "type": "scatter",
         "x": {
          "bdata": "AAECAwQFBgcICQoLDA0ODxAREhMUFRYXGBkaGxwdHh8=",
          "dtype": "i1"
         },
         "y": {
          "bdata": "MzMzMzMz4z9DeQ3lNZTnP1VVVVVVVeU/kiRJkiRJ4j8zMzMzMzPjP3Icx3Ecx+E/VVVVVVVV5T9VVVVVVVXlPwAAAAAAAOw/AAAAAAAA8D/e3d3d3d3tPwAAAAAAAPA/AAAAAAAA8D8AAAAAAADwPwAAAAAAAPA/AAAAAAAA8D8AAAAAAADwPwAAAAAAAPA/AAAAAAAA8D8AAAAAAADwPwAAAAAAAPA/AAAAAAAA8D8AAAAAAADwPwAAAAAAAPA/AAAAAAAA8D8AAAAAAADwPwAAAAAAAPA/Hh4eHh4e7j9aWlpaWlrqPxzHcRzHcew/FDuxEzux4z9VVVVVVVXlPw==",
          "dtype": "f8"
         }
        },
        {
         "fill": "tonexty",
         "fillcolor": "rgba(31, 119, 180, 0.1)",
         "legendgroup": "('dummy_model', 'test_dataset', 'base', 'main', 'prompt_only')",
         "line": {
          "width": 0
         },
         "mode": "lines",
         "name": "('dummy_model', 'test_dataset', 'base', 'main', 'prompt_only') Min",
         "showlegend": false,
         "type": "scatter",
         "x": {
          "bdata": "AAECAwQFBgcICQoLDA0ODxAREhMUFRYXGBkaGxwdHh8=",
          "dtype": "i1"
         },
         "y": {
          "bdata": "AAAAAAAA0D8RERERERHRP0YXXXTRRdc/AAAAAAAAAAARERERERHRPwAAAAAAAAAAkiRJkiRJ0j9GF1100UXXP1VVVVVVVeU/t23btm3b5j9GF1100UXnP9u2bdu2bes/WlpaWlpa6j+e2Imd2IntPwAAAAAAAPA/ntiJndiJ7T8AAAAAAADwPwAAAAAAAPA/ntiJndiJ7T+e2Imd2IntP9u2bdu2bes/DeU1lNdQ7j8N5TWU11DuP6uqqqqqquo/27Zt27Zt6z+e2Imd2IntPxzHcRzHcew/OY7jOI7j6D8AAAAAAADgP3TRRRdddOE/mpmZmZmZ2T+XlpaWlpbWPw==",
          "dtype": "f8"
         }
        },
        {
         "legendgroup": "('dummy_model', 'test_dataset', 'base', 'main', 'prompt_only')",
         "line": {
          "width": 0
         },
         "mode": "lines",
         "name": "('dummy_model', 'test_dataset', 'base', 'main', 'prompt_only') +1 STD",
         "showlegend": false,
         "type": "scatter",
         "x": {
          "bdata": "AAECAwQFBgcICQoLDA0ODxAREhMUFRYXGBkaGxwdHh8=",
          "dtype": "i1"
         },
         "y": {
          "bdata": "qipUVorH4T9hHv98NX7pP+YBowRA3uU/buS9t2ce4T+sojpFW6XiPznY6mumJ98/39Kv0/3y5T/7MKH++oriP0REB3o/J+w/LewHatnm7T+WK5IfwrDsP/CY/xxXAe8/ZWzHddP67z9W5CjATivwPwAAAAAAAPA/EYeLQYsu8D8AAAAAAADwPwAAAAAAAPA/aA8sLORN8D9oDyws5E3wP8QJ+1WrW/A/H+KkRks18D8f4qRGSzXwP5B3KAoHFfA/6I/YorQE8D/Hr6kXdOrvPyItA/UI1O4/uNKB6nX57T/8on6Q8tbqP1l53SaUCuw/+qImJV1E4z+ukplCR1rjPw==",
          "dtype": "f8"
         }
        },
        {
         "fill": "tonexty",
         "fillcolor": "rgba(31, 119, 180, 0.3)",
         "legendgroup": "('dummy_model', 'test_dataset', 'base', 'main', 'prompt_only')",
         "line": {
          "width": 0
         },
         "mode": "lines",
         "name": "('dummy_model', 'test_dataset', 'base', 'main', 'prompt_only') -1 STD",
         "showlegend": false,
         "type": "scatter",
         "x": {
          "bdata": "AAECAwQFBgcICQoLDA0ODxAREhMUFRYXGBkaGxwdHh8=",
          "dtype": "i1"
         },
         "y": {
          "bdata": "1mvfW13v0j+iF2OoeyTaP/0iUysMN9w/Hgm/WuHVuT/B8xIHzc3TPwgCIbUg4q8/zkMGhIcZ2T/zw/LWAwPWP7TZJwdvcuY/uUG4elTZ5j8OaZcq1/HnPyDiJQyBmOs/lXa+m2z/6j/TZvH9keztPwAAAAAAAPA/X9Lw+smq7T8AAAAAAADwPwAAAAAAAPA/cNGr5ido7j9w0avmJ2juP3gOdVHLs+w//DAy4fLo7j/8MDLh8ujuP6cNQFSr7eo/bKOC9lkq7D/5vtil+pftP3JNGrTOves/iHMtVdC16T889AkOCxjiPwt2QLEsWeM/RFn3UEsi2z+NuzyUDKTVPw==",
          "dtype": "f8"
         }
        },
        {
         "legendgroup": "('dummy_model', 'test_dataset', 'base', 'main', 'prompt_only')",
         "marker": {
          "color": "#1f77b4",
          "opacity": 0.5,
          "size": 6
         },
         "mode": "markers",
         "name": "('dummy_model', 'test_dataset', 'base', 'main', 'prompt_only') Fold ('logistic_regression_f1_score', 0)",
         "showlegend": false,
         "type": "scatter",
         "x": {
          "bdata": "AAECAwQFBgcICQoLDA0ODxAREhMUFRYXGBkaGxwdHh8=",
          "dtype": "i1"
         },
         "y": {
          "bdata": "RhdddNFF1z8UO7ETO7HjP0YXXXTRRdc/kiRJkiRJ4j9GF1100UXXP0YXXXTRRcc/MzMzMzMz4z9GF1100UXXP0YXXXTRRec/q6qqqqqq6j9GF1100UXnPxdddNFFF+0/F1100UUX7T+e2Imd2IntPwAAAAAAAPA/ntiJndiJ7T8AAAAAAADwPwAAAAAAAPA/ntiJndiJ7T8AAAAAAADwPwAAAAAAAPA/AAAAAAAA8D8AAAAAAADwPwAAAAAAAPA/ntiJndiJ7T8AAAAAAADwPwAAAAAAAPA/ntiJndiJ7T+amZmZmZnpP1VVVVVVVeU/mpmZmZmZ2T9GF1100UXXPw==",
          "dtype": "f8"
         }
        },
        {
         "legendgroup": "('dummy_model', 'test_dataset', 'base', 'main', 'prompt_only')",
         "marker": {
          "color": "#1f77b4",
          "opacity": 0.5,
          "size": 6
         },
         "mode": "markers",
         "name": "('dummy_model', 'test_dataset', 'base', 'main', 'prompt_only') Fold ('logistic_regression_f1_score', 1)",
         "showlegend": false,
         "type": "scatter",
         "x": {
          "bdata": "AAECAwQFBgcICQoLDA0ODxAREhMUFRYXGBkaGxwdHh8=",
          "dtype": "i1"
         },
         "y": {
          "bdata": "HMdxHMdx3D8RERERERHRP15DeQ3lNeQ/AAAAAAAA2D8RERERERHRP3Icx3Ecx+E/kiRJkiRJ4j8or6G8hvLaPyivobyG8uo/t23btm3b5j8vuuiiiy7qPwAAAAAAAPA/AAAAAAAA8D8AAAAAAADwPwAAAAAAAPA/AAAAAAAA8D8AAAAAAADwPwAAAAAAAPA/AAAAAAAA8D8AAAAAAADwPx4eHh4eHu4/AAAAAAAA8D8N5TWU11DuPwAAAAAAAPA/AAAAAAAA8D8AAAAAAADwPxzHcRzHcew/OY7jOI7j6D9aWlpaWlrqP1paWlpaWuo/09LS0tLS4j+XlpaWlpbWPw==",
          "dtype": "f8"
         }
        },
        {
         "legendgroup": "('dummy_model', 'test_dataset', 'base', 'main', 'prompt_only')",
         "marker": {
          "color": "#1f77b4",
          "opacity": 0.5,
          "size": 6
         },
         "mode": "markers",
         "name": "('dummy_model', 'test_dataset', 'base', 'main', 'prompt_only') Fold ('logistic_regression_f1_score', 2)",
         "showlegend": false,
         "type": "scatter",
         "x": {
          "bdata": "AAECAwQFBgcICQoLDA0ODxAREhMUFRYXGBkaGxwdHh8=",
          "dtype": "i1"
         },
         "y": {
          "bdata": "Hh4eHh4e3j9DeQ3lNZTnPxEREREREeE/HMdxHMdxzD9yHMdxHMfhP5qZmZmZmdk/VVVVVVVV5T/btm3btm3bPyivobyG8uo/WlpaWlpa6j+amZmZmZnpPxzHcRzHcew/AAAAAAAA7D8eHh4eHh7uPwAAAAAAAPA/AAAAAAAA8D8AAAAAAADwPwAAAAAAAPA/AAAAAAAA8D8AAAAAAADwPwAAAAAAAPA/DeU1lNdQ7j8AAAAAAADwPx4eHh4eHu4/AAAAAAAA8D8eHh4eHh7uPxzHcRzHcew/AAAAAAAA7D8YhmEYhmHoPzmO4ziO4+g/AAAAAAAA4D9VVVVVVVXlPw==",
          "dtype": "f8"
         }
        },
        {
         "legendgroup": "('dummy_model', 'test_dataset', 'base', 'main', 'prompt_only')",
         "marker": {
          "color": "#1f77b4",
          "opacity": 0.5,
          "size": 6
         },
         "mode": "markers",
         "name": "('dummy_model', 'test_dataset', 'base', 'main', 'prompt_only') Fold ('logistic_regression_f1_score', 3)",
         "showlegend": false,
         "type": "scatter",
         "x": {
          "bdata": "AAECAwQFBgcICQoLDA0ODxAREhMUFRYXGBkaGxwdHh8=",
          "dtype": "i1"
         },
         "y": {
          "bdata": "AAAAAAAA0D9GF1100UXnPxQ7sRM7seM/AAAAAAAAAAAzMzMzMzPjPwAAAAAAAAAAkiRJkiRJ4j9VVVVVVVXlP1VVVVVVVeU/AAAAAAAA6D+rqqqqqqrqP57YiZ3Yie0/AAAAAAAA8D8AAAAAAADwPwAAAAAAAPA/ntiJndiJ7T8AAAAAAADwPwAAAAAAAPA/AAAAAAAA8D+e2Imd2IntP9u2bdu2bes/AAAAAAAA8D8AAAAAAADwP6uqqqqqquo/ntiJndiJ7T+e2Imd2IntPxdddNFFF+0/q6qqqqqq6j8AAAAAAADgP3TRRRdddOE/FDuxEzux4z900UUXXXThPw==",
          "dtype": "f8"
         }
        },
        {
         "legendgroup": "('dummy_model', 'test_dataset', 'base', 'main', 'prompt_only')",
         "marker": {
          "color": "#1f77b4",
          "opacity": 0.5,
          "size": 6
         },
         "mode": "markers",
         "name": "('dummy_model', 'test_dataset', 'base', 'main', 'prompt_only') Fold ('logistic_regression_f1_score', 4)",
         "showlegend": false,
         "type": "scatter",
         "x": {
          "bdata": "AAECAwQFBgcICQoLDA0ODxAREhMUFRYXGBkaGxwdHh8=",
          "dtype": "i1"
         },
         "y": {
          "bdata": "MzMzMzMz4z9VVVVVVVXlP1VVVVVVVeU/KK+hvIby2j8cx3Ecx3HcPx4eHh4eHs4/kiRJkiRJ0j/btm3btm3bPwAAAAAAAOw/AAAAAAAA8D/e3d3d3d3tP9u2bdu2bes/WlpaWlpa6j8AAAAAAADwPwAAAAAAAPA/AAAAAAAA8D8AAAAAAADwPwAAAAAAAPA/AAAAAAAA8D8AAAAAAADwPwAAAAAAAPA/AAAAAAAA8D8AAAAAAADwPyivobyG8uo/27Zt27Zt6z8eHh4eHh7uPxzHcRzHcew/Hh4eHh4e7j8AAAAAAADkPxzHcRzHcew/ntiJndiJ3T/btm3btm3bPw==",
          "dtype": "f8"
         }
        }
       ],
       "layout": {
        "font": {
         "color": "white"
        },
        "height": 600,
        "legend": {
         "bgcolor": "rgba(32, 32, 32, 0.8)",
         "orientation": "h",
         "x": 0.5,
         "xanchor": "center",
         "y": 1.02,
         "yanchor": "bottom"
        },
        "margin": {
         "b": 50,
         "l": 50,
         "r": 30,
         "t": 100
        },
        "paper_bgcolor": "rgba(32, 32, 32, 1)",
        "plot_bgcolor": "rgba(32, 32, 32, 1)",
        "showlegend": true,
        "template": {
         "data": {
          "bar": [
           {
            "error_x": {
             "color": "#f2f5fa"
            },
            "error_y": {
             "color": "#f2f5fa"
            },
            "marker": {
             "line": {
              "color": "rgb(17,17,17)",
              "width": 0.5
             },
             "pattern": {
              "fillmode": "overlay",
              "size": 10,
              "solidity": 0.2
             }
            },
            "type": "bar"
           }
          ],
          "barpolar": [
           {
            "marker": {
             "line": {
              "color": "rgb(17,17,17)",
              "width": 0.5
             },
             "pattern": {
              "fillmode": "overlay",
              "size": 10,
              "solidity": 0.2
             }
            },
            "type": "barpolar"
           }
          ],
          "carpet": [
           {
            "aaxis": {
             "endlinecolor": "#A2B1C6",
             "gridcolor": "#506784",
             "linecolor": "#506784",
             "minorgridcolor": "#506784",
             "startlinecolor": "#A2B1C6"
            },
            "baxis": {
             "endlinecolor": "#A2B1C6",
             "gridcolor": "#506784",
             "linecolor": "#506784",
             "minorgridcolor": "#506784",
             "startlinecolor": "#A2B1C6"
            },
            "type": "carpet"
           }
          ],
          "choropleth": [
           {
            "colorbar": {
             "outlinewidth": 0,
             "ticks": ""
            },
            "type": "choropleth"
           }
          ],
          "contour": [
           {
            "colorbar": {
             "outlinewidth": 0,
             "ticks": ""
            },
            "colorscale": [
             [
              0,
              "#0d0887"
             ],
             [
              0.1111111111111111,
              "#46039f"
             ],
             [
              0.2222222222222222,
              "#7201a8"
             ],
             [
              0.3333333333333333,
              "#9c179e"
             ],
             [
              0.4444444444444444,
              "#bd3786"
             ],
             [
              0.5555555555555556,
              "#d8576b"
             ],
             [
              0.6666666666666666,
              "#ed7953"
             ],
             [
              0.7777777777777778,
              "#fb9f3a"
             ],
             [
              0.8888888888888888,
              "#fdca26"
             ],
             [
              1,
              "#f0f921"
             ]
            ],
            "type": "contour"
           }
          ],
          "contourcarpet": [
           {
            "colorbar": {
             "outlinewidth": 0,
             "ticks": ""
            },
            "type": "contourcarpet"
           }
          ],
          "heatmap": [
           {
            "colorbar": {
             "outlinewidth": 0,
             "ticks": ""
            },
            "colorscale": [
             [
              0,
              "#0d0887"
             ],
             [
              0.1111111111111111,
              "#46039f"
             ],
             [
              0.2222222222222222,
              "#7201a8"
             ],
             [
              0.3333333333333333,
              "#9c179e"
             ],
             [
              0.4444444444444444,
              "#bd3786"
             ],
             [
              0.5555555555555556,
              "#d8576b"
             ],
             [
              0.6666666666666666,
              "#ed7953"
             ],
             [
              0.7777777777777778,
              "#fb9f3a"
             ],
             [
              0.8888888888888888,
              "#fdca26"
             ],
             [
              1,
              "#f0f921"
             ]
            ],
            "type": "heatmap"
           }
          ],
          "histogram": [
           {
            "marker": {
             "pattern": {
              "fillmode": "overlay",
              "size": 10,
              "solidity": 0.2
             }
            },
            "type": "histogram"
           }
          ],
          "histogram2d": [
           {
            "colorbar": {
             "outlinewidth": 0,
             "ticks": ""
            },
            "colorscale": [
             [
              0,
              "#0d0887"
             ],
             [
              0.1111111111111111,
              "#46039f"
             ],
             [
              0.2222222222222222,
              "#7201a8"
             ],
             [
              0.3333333333333333,
              "#9c179e"
             ],
             [
              0.4444444444444444,
              "#bd3786"
             ],
             [
              0.5555555555555556,
              "#d8576b"
             ],
             [
              0.6666666666666666,
              "#ed7953"
             ],
             [
              0.7777777777777778,
              "#fb9f3a"
             ],
             [
              0.8888888888888888,
              "#fdca26"
             ],
             [
              1,
              "#f0f921"
             ]
            ],
            "type": "histogram2d"
           }
          ],
          "histogram2dcontour": [
           {
            "colorbar": {
             "outlinewidth": 0,
             "ticks": ""
            },
            "colorscale": [
             [
              0,
              "#0d0887"
             ],
             [
              0.1111111111111111,
              "#46039f"
             ],
             [
              0.2222222222222222,
              "#7201a8"
             ],
             [
              0.3333333333333333,
              "#9c179e"
             ],
             [
              0.4444444444444444,
              "#bd3786"
             ],
             [
              0.5555555555555556,
              "#d8576b"
             ],
             [
              0.6666666666666666,
              "#ed7953"
             ],
             [
              0.7777777777777778,
              "#fb9f3a"
             ],
             [
              0.8888888888888888,
              "#fdca26"
             ],
             [
              1,
              "#f0f921"
             ]
            ],
            "type": "histogram2dcontour"
           }
          ],
          "mesh3d": [
           {
            "colorbar": {
             "outlinewidth": 0,
             "ticks": ""
            },
            "type": "mesh3d"
           }
          ],
          "parcoords": [
           {
            "line": {
             "colorbar": {
              "outlinewidth": 0,
              "ticks": ""
             }
            },
            "type": "parcoords"
           }
          ],
          "pie": [
           {
            "automargin": true,
            "type": "pie"
           }
          ],
          "scatter": [
           {
            "marker": {
             "line": {
              "color": "#283442"
             }
            },
            "type": "scatter"
           }
          ],
          "scatter3d": [
           {
            "line": {
             "colorbar": {
              "outlinewidth": 0,
              "ticks": ""
             }
            },
            "marker": {
             "colorbar": {
              "outlinewidth": 0,
              "ticks": ""
             }
            },
            "type": "scatter3d"
           }
          ],
          "scattercarpet": [
           {
            "marker": {
             "colorbar": {
              "outlinewidth": 0,
              "ticks": ""
             }
            },
            "type": "scattercarpet"
           }
          ],
          "scattergeo": [
           {
            "marker": {
             "colorbar": {
              "outlinewidth": 0,
              "ticks": ""
             }
            },
            "type": "scattergeo"
           }
          ],
          "scattergl": [
           {
            "marker": {
             "line": {
              "color": "#283442"
             }
            },
            "type": "scattergl"
           }
          ],
          "scattermap": [
           {
            "marker": {
             "colorbar": {
              "outlinewidth": 0,
              "ticks": ""
             }
            },
            "type": "scattermap"
           }
          ],
          "scattermapbox": [
           {
            "marker": {
             "colorbar": {
              "outlinewidth": 0,
              "ticks": ""
             }
            },
            "type": "scattermapbox"
           }
          ],
          "scatterpolar": [
           {
            "marker": {
             "colorbar": {
              "outlinewidth": 0,
              "ticks": ""
             }
            },
            "type": "scatterpolar"
           }
          ],
          "scatterpolargl": [
           {
            "marker": {
             "colorbar": {
              "outlinewidth": 0,
              "ticks": ""
             }
            },
            "type": "scatterpolargl"
           }
          ],
          "scatterternary": [
           {
            "marker": {
             "colorbar": {
              "outlinewidth": 0,
              "ticks": ""
             }
            },
            "type": "scatterternary"
           }
          ],
          "surface": [
           {
            "colorbar": {
             "outlinewidth": 0,
             "ticks": ""
            },
            "colorscale": [
             [
              0,
              "#0d0887"
             ],
             [
              0.1111111111111111,
              "#46039f"
             ],
             [
              0.2222222222222222,
              "#7201a8"
             ],
             [
              0.3333333333333333,
              "#9c179e"
             ],
             [
              0.4444444444444444,
              "#bd3786"
             ],
             [
              0.5555555555555556,
              "#d8576b"
             ],
             [
              0.6666666666666666,
              "#ed7953"
             ],
             [
              0.7777777777777778,
              "#fb9f3a"
             ],
             [
              0.8888888888888888,
              "#fdca26"
             ],
             [
              1,
              "#f0f921"
             ]
            ],
            "type": "surface"
           }
          ],
          "table": [
           {
            "cells": {
             "fill": {
              "color": "#506784"
             },
             "line": {
              "color": "rgb(17,17,17)"
             }
            },
            "header": {
             "fill": {
              "color": "#2a3f5f"
             },
             "line": {
              "color": "rgb(17,17,17)"
             }
            },
            "type": "table"
           }
          ]
         },
         "layout": {
          "annotationdefaults": {
           "arrowcolor": "#f2f5fa",
           "arrowhead": 0,
           "arrowwidth": 1
          },
          "autotypenumbers": "strict",
          "coloraxis": {
           "colorbar": {
            "outlinewidth": 0,
            "ticks": ""
           }
          },
          "colorscale": {
           "diverging": [
            [
             0,
             "#8e0152"
            ],
            [
             0.1,
             "#c51b7d"
            ],
            [
             0.2,
             "#de77ae"
            ],
            [
             0.3,
             "#f1b6da"
            ],
            [
             0.4,
             "#fde0ef"
            ],
            [
             0.5,
             "#f7f7f7"
            ],
            [
             0.6,
             "#e6f5d0"
            ],
            [
             0.7,
             "#b8e186"
            ],
            [
             0.8,
             "#7fbc41"
            ],
            [
             0.9,
             "#4d9221"
            ],
            [
             1,
             "#276419"
            ]
           ],
           "sequential": [
            [
             0,
             "#0d0887"
            ],
            [
             0.1111111111111111,
             "#46039f"
            ],
            [
             0.2222222222222222,
             "#7201a8"
            ],
            [
             0.3333333333333333,
             "#9c179e"
            ],
            [
             0.4444444444444444,
             "#bd3786"
            ],
            [
             0.5555555555555556,
             "#d8576b"
            ],
            [
             0.6666666666666666,
             "#ed7953"
            ],
            [
             0.7777777777777778,
             "#fb9f3a"
            ],
            [
             0.8888888888888888,
             "#fdca26"
            ],
            [
             1,
             "#f0f921"
            ]
           ],
           "sequentialminus": [
            [
             0,
             "#0d0887"
            ],
            [
             0.1111111111111111,
             "#46039f"
            ],
            [
             0.2222222222222222,
             "#7201a8"
            ],
            [
             0.3333333333333333,
             "#9c179e"
            ],
            [
             0.4444444444444444,
             "#bd3786"
            ],
            [
             0.5555555555555556,
             "#d8576b"
            ],
            [
             0.6666666666666666,
             "#ed7953"
            ],
            [
             0.7777777777777778,
             "#fb9f3a"
            ],
            [
             0.8888888888888888,
             "#fdca26"
            ],
            [
             1,
             "#f0f921"
            ]
           ]
          },
          "colorway": [
           "#636efa",
           "#EF553B",
           "#00cc96",
           "#ab63fa",
           "#FFA15A",
           "#19d3f3",
           "#FF6692",
           "#B6E880",
           "#FF97FF",
           "#FECB52"
          ],
          "font": {
           "color": "#f2f5fa"
          },
          "geo": {
           "bgcolor": "rgb(17,17,17)",
           "lakecolor": "rgb(17,17,17)",
           "landcolor": "rgb(17,17,17)",
           "showlakes": true,
           "showland": true,
           "subunitcolor": "#506784"
          },
          "hoverlabel": {
           "align": "left"
          },
          "hovermode": "closest",
          "mapbox": {
           "style": "dark"
          },
          "paper_bgcolor": "rgb(17,17,17)",
          "plot_bgcolor": "rgb(17,17,17)",
          "polar": {
           "angularaxis": {
            "gridcolor": "#506784",
            "linecolor": "#506784",
            "ticks": ""
           },
           "bgcolor": "rgb(17,17,17)",
           "radialaxis": {
            "gridcolor": "#506784",
            "linecolor": "#506784",
            "ticks": ""
           }
          },
          "scene": {
           "xaxis": {
            "backgroundcolor": "rgb(17,17,17)",
            "gridcolor": "#506784",
            "gridwidth": 2,
            "linecolor": "#506784",
            "showbackground": true,
            "ticks": "",
            "zerolinecolor": "#C8D4E3"
           },
           "yaxis": {
            "backgroundcolor": "rgb(17,17,17)",
            "gridcolor": "#506784",
            "gridwidth": 2,
            "linecolor": "#506784",
            "showbackground": true,
            "ticks": "",
            "zerolinecolor": "#C8D4E3"
           },
           "zaxis": {
            "backgroundcolor": "rgb(17,17,17)",
            "gridcolor": "#506784",
            "gridwidth": 2,
            "linecolor": "#506784",
            "showbackground": true,
            "ticks": "",
            "zerolinecolor": "#C8D4E3"
           }
          },
          "shapedefaults": {
           "line": {
            "color": "#f2f5fa"
           }
          },
          "sliderdefaults": {
           "bgcolor": "#C8D4E3",
           "bordercolor": "rgb(17,17,17)",
           "borderwidth": 1,
           "tickwidth": 0
          },
          "ternary": {
           "aaxis": {
            "gridcolor": "#506784",
            "linecolor": "#506784",
            "ticks": ""
           },
           "baxis": {
            "gridcolor": "#506784",
            "linecolor": "#506784",
            "ticks": ""
           },
           "bgcolor": "rgb(17,17,17)",
           "caxis": {
            "gridcolor": "#506784",
            "linecolor": "#506784",
            "ticks": ""
           }
          },
          "title": {
           "x": 0.05
          },
          "updatemenudefaults": {
           "bgcolor": "#506784",
           "borderwidth": 0
          },
          "xaxis": {
           "automargin": true,
           "gridcolor": "#283442",
           "linecolor": "#506784",
           "ticks": "",
           "title": {
            "standoff": 15
           },
           "zerolinecolor": "#283442",
           "zerolinewidth": 2
          },
          "yaxis": {
           "automargin": true,
           "gridcolor": "#283442",
           "linecolor": "#506784",
           "ticks": "",
           "title": {
            "standoff": 15
           },
           "zerolinecolor": "#283442",
           "zerolinewidth": 2
          }
         }
        },
        "title": {},
        "width": 1000,
        "xaxis": {
         "gridcolor": "rgba(128, 128, 128, 0.2)",
         "title": {
          "text": "Layer"
         },
         "zeroline": false
        },
        "yaxis": {
         "gridcolor": "rgba(128, 128, 128, 0.2)",
         "title": {
          "text": "Logistic Regression F1 Score"
         },
         "zeroline": false
        }
       }
      }
     },
     "metadata": {},
     "output_type": "display_data"
    }
   ],
   "source": [
    "for classifier in [\"direction\", \"logistic_regression\"]:\n",
    "    # for metric in [\"f1_score\", \"accuracy_score\", \"precision_score\", \"recall_score\"]:\n",
    "    for metric in [\"f1_score\"]:\n",
    "        plot_dict = {}\n",
    "        for conf, res_df_ in res_df.groupby([\"model_id\", \"dataset_id\", \"prompt_id\", \"subset_id\", \"input_type\"]):\n",
    "            # if conf[4] != \"prompt_only\":\n",
    "            #     continue\n",
    "            \n",
    "            print(f\"{conf=}\")\n",
    "            res_df_pivot = pd.pivot(\n",
    "                res_df_.drop(columns=[\"model_id\", \"dataset_id\", \"prompt_id\", \"subset_id\", \"input_type\"]),\n",
    "                index='layer',\n",
    "                columns='fold',\n",
    "                # values=['direction_f1_score', 'logistic_regression_f1_score']  # add all metrics you want to keep\n",
    "            )\n",
    "            # for classifier in [\"direction\", \"logistic_regression\"]:\n",
    "            #     for metric in [\"f1_score\", \"accuracy_score\", \"precision_score\", \"recall_score\"]:\n",
    "            plot_dict[str(conf)] = res_df_pivot[[f\"{classifier}_{metric}\"]]\n",
    "\n",
    "        plot_interactive_lineplot(\n",
    "            plot_dict,\n",
    "            x_label=\"Layer\",\n",
    "            y_label=f\"{classifier}_{metric}\".replace(\"_\", \" \").title(),\n",
    "            # save_path=f\"./classification_data/figures/res_df_llama31_8B_4_memory_datasets_{classifier}_{metric}.html\"\n",
    "        ).show()\n",
    "\n"
   ]
  },
  {
   "cell_type": "code",
   "execution_count": null,
   "metadata": {},
   "outputs": [],
   "source": []
  },
  {
   "cell_type": "code",
   "execution_count": null,
   "metadata": {},
   "outputs": [],
   "source": []
  }
 ],
 "metadata": {
  "kernelspec": {
   "display_name": "venv",
   "language": "python",
   "name": "python3"
  },
  "language_info": {
   "codemirror_mode": {
    "name": "ipython",
    "version": 3
   },
   "file_extension": ".py",
   "mimetype": "text/x-python",
   "name": "python",
   "nbconvert_exporter": "python",
   "pygments_lexer": "ipython3",
   "version": "3.11.3"
  }
 },
 "nbformat": 4,
 "nbformat_minor": 2
}
