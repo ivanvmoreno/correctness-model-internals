{
 "cells": [
  {
   "cell_type": "code",
   "execution_count": 1,
   "metadata": {},
   "outputs": [
    {
     "data": {
      "text/plain": [
       "['/Library/Frameworks/Python.framework/Versions/3.11/lib/python311.zip',\n",
       " '/Library/Frameworks/Python.framework/Versions/3.11/lib/python3.11',\n",
       " '/Library/Frameworks/Python.framework/Versions/3.11/lib/python3.11/lib-dynload',\n",
       " '',\n",
       " '/Users/anton/dev/MARS/correctness-model-internals/venv/lib/python3.11/site-packages',\n",
       " '/Users/anton/dev/MARS/correctness-model-internals']"
      ]
     },
     "execution_count": 1,
     "metadata": {},
     "output_type": "execute_result"
    }
   ],
   "source": [
    "import sys\n",
    "from pathlib import Path\n",
    "\n",
    "# Add the src directory to Python path\n",
    "src_path = str(Path(\"./\").resolve().parent)\n",
    "if src_path not in sys.path:\n",
    "    sys.path.append(src_path)\n",
    "\n",
    "sys.path"
   ]
  },
  {
   "cell_type": "code",
   "execution_count": 2,
   "metadata": {},
   "outputs": [],
   "source": [
    "from pathlib import Path\n",
    "from collections import defaultdict\n",
    "\n",
    "import torch as pt\n",
    "import pandas as pd\n",
    "# import seaborn as sns\n",
    "\n",
    "from src.classifying import (\n",
    "    ActivationsHandler,\n",
    "    combine_activations_handlers,\n",
    "    get_correctness_direction_classifier,\n",
    "    get_logistic_regression_classifier,\n",
    ")\n",
    "\n",
    "# sns.set_theme(style=\"whitegrid\")\n"
   ]
  },
  {
   "cell_type": "code",
   "execution_count": 3,
   "metadata": {},
   "outputs": [],
   "source": [
    "def load_activations(\n",
    "    model_id,\n",
    "    dataset_id,\n",
    "    prompt_id,\n",
    "    subset_id,\n",
    "    input_type,\n",
    "    layer,\n",
    "    batch_ids=None,\n",
    "):\n",
    "    if batch_ids:\n",
    "        batch_ids = [int(batch_id) for batch_id in batch_ids]\n",
    "\n",
    "    paths = sorted(\n",
    "        list(\n",
    "            Path(\n",
    "                f\"../activations/{model_id}/{dataset_id}/{prompt_id}/{subset_id}/{input_type}/layer_{layer}\"\n",
    "            ).iterdir()\n",
    "        ),\n",
    "        key=lambda p: int(p.stem.split(\"_\")[-1]),\n",
    "    )\n",
    "\n",
    "    activations_list, indices = [], []\n",
    "    batch_size = None\n",
    "    for batch_file in paths:\n",
    "        batch_id = int(batch_file.stem.split(\"_\")[-1])\n",
    "        if batch_ids and batch_id not in batch_ids:\n",
    "            continue\n",
    "\n",
    "        activations = pt.load(batch_file, map_location=pt.device(\"cpu\"))\n",
    "        activations_list.append(activations)\n",
    "\n",
    "        batch_size = activations.shape[0]\n",
    "\n",
    "        if batch_size is None:\n",
    "            batch_size = activations.shape[0]\n",
    "        else:\n",
    "            assert batch_size == activations.shape[0]\n",
    "\n",
    "        indices.append(\n",
    "            pd.Series(range(batch_size), name=\"index\") + batch_id * batch_size\n",
    "        )\n",
    "    return (\n",
    "        pt.cat(activations_list, dim=0),\n",
    "        pd.concat(indices).reset_index(drop=True),\n",
    "    )\n",
    "\n",
    "\n",
    "def load_labels(model_id, dataset_id, prompt_id, subset_id, indices=None):\n",
    "    paths = list(\n",
    "        Path(f\"../evaluations/{model_id}/{dataset_id}/{prompt_id}/\").iterdir()\n",
    "    )\n",
    "    for path in paths:\n",
    "        filename = path.stem\n",
    "        if subset_id != filename.split(\"_generations_evaluated\")[0]:\n",
    "            continue\n",
    "        df = pd.read_csv(path)\n",
    "        if indices is not None:\n",
    "            df = df.iloc[indices].reset_index(drop=True)\n",
    "        return df\n",
    "    raise ValueError(\n",
    "        f\"No labels found for {model_id} {dataset_id} {prompt_id} {subset_id}\"\n",
    "    )\n"
   ]
  },
  {
   "cell_type": "code",
   "execution_count": 41,
   "metadata": {},
   "outputs": [
    {
     "data": {
      "text/html": [
       "<div>\n",
       "<style scoped>\n",
       "    .dataframe tbody tr th:only-of-type {\n",
       "        vertical-align: middle;\n",
       "    }\n",
       "\n",
       "    .dataframe tbody tr th {\n",
       "        vertical-align: top;\n",
       "    }\n",
       "\n",
       "    .dataframe thead th {\n",
       "        text-align: right;\n",
       "    }\n",
       "</style>\n",
       "<table border=\"1\" class=\"dataframe\">\n",
       "  <thead>\n",
       "    <tr style=\"text-align: right;\">\n",
       "      <th></th>\n",
       "      <th>model_id</th>\n",
       "      <th>dataset_id</th>\n",
       "      <th>prompt_id</th>\n",
       "      <th>subset_id</th>\n",
       "      <th>input_type</th>\n",
       "      <th>layer</th>\n",
       "      <th>path</th>\n",
       "    </tr>\n",
       "  </thead>\n",
       "  <tbody>\n",
       "    <tr>\n",
       "      <th>0</th>\n",
       "      <td>llama3_3b_chat</td>\n",
       "      <td>football_leagues_1k</td>\n",
       "      <td>base</td>\n",
       "      <td>main</td>\n",
       "      <td>prompt_only</td>\n",
       "      <td>0</td>\n",
       "      <td>../activations/llama3_3b_chat/football_leagues...</td>\n",
       "    </tr>\n",
       "    <tr>\n",
       "      <th>1</th>\n",
       "      <td>llama3_3b_chat</td>\n",
       "      <td>football_leagues_1k</td>\n",
       "      <td>base</td>\n",
       "      <td>main</td>\n",
       "      <td>prompt_only</td>\n",
       "      <td>7</td>\n",
       "      <td>../activations/llama3_3b_chat/football_leagues...</td>\n",
       "    </tr>\n",
       "    <tr>\n",
       "      <th>2</th>\n",
       "      <td>llama3_3b_chat</td>\n",
       "      <td>football_leagues_1k</td>\n",
       "      <td>base</td>\n",
       "      <td>main</td>\n",
       "      <td>prompt_only</td>\n",
       "      <td>9</td>\n",
       "      <td>../activations/llama3_3b_chat/football_leagues...</td>\n",
       "    </tr>\n",
       "    <tr>\n",
       "      <th>3</th>\n",
       "      <td>llama3_3b_chat</td>\n",
       "      <td>football_leagues_1k</td>\n",
       "      <td>base</td>\n",
       "      <td>main</td>\n",
       "      <td>prompt_only</td>\n",
       "      <td>17</td>\n",
       "      <td>../activations/llama3_3b_chat/football_leagues...</td>\n",
       "    </tr>\n",
       "    <tr>\n",
       "      <th>4</th>\n",
       "      <td>llama3_3b_chat</td>\n",
       "      <td>football_leagues_1k</td>\n",
       "      <td>base</td>\n",
       "      <td>main</td>\n",
       "      <td>prompt_only</td>\n",
       "      <td>10</td>\n",
       "      <td>../activations/llama3_3b_chat/football_leagues...</td>\n",
       "    </tr>\n",
       "    <tr>\n",
       "      <th>...</th>\n",
       "      <td>...</td>\n",
       "      <td>...</td>\n",
       "      <td>...</td>\n",
       "      <td>...</td>\n",
       "      <td>...</td>\n",
       "      <td>...</td>\n",
       "      <td>...</td>\n",
       "    </tr>\n",
       "    <tr>\n",
       "      <th>499</th>\n",
       "      <td>llama3_3b_chat</td>\n",
       "      <td>birth_years_4k</td>\n",
       "      <td>base</td>\n",
       "      <td>main</td>\n",
       "      <td>prompt_answer</td>\n",
       "      <td>23</td>\n",
       "      <td>../activations/llama3_3b_chat/birth_years_4k/b...</td>\n",
       "    </tr>\n",
       "    <tr>\n",
       "      <th>500</th>\n",
       "      <td>llama3_3b_chat</td>\n",
       "      <td>birth_years_4k</td>\n",
       "      <td>base</td>\n",
       "      <td>main</td>\n",
       "      <td>prompt_answer</td>\n",
       "      <td>15</td>\n",
       "      <td>../activations/llama3_3b_chat/birth_years_4k/b...</td>\n",
       "    </tr>\n",
       "    <tr>\n",
       "      <th>501</th>\n",
       "      <td>llama3_3b_chat</td>\n",
       "      <td>birth_years_4k</td>\n",
       "      <td>base</td>\n",
       "      <td>main</td>\n",
       "      <td>prompt_answer</td>\n",
       "      <td>12</td>\n",
       "      <td>../activations/llama3_3b_chat/birth_years_4k/b...</td>\n",
       "    </tr>\n",
       "    <tr>\n",
       "      <th>502</th>\n",
       "      <td>llama3_3b_chat</td>\n",
       "      <td>birth_years_4k</td>\n",
       "      <td>base</td>\n",
       "      <td>main</td>\n",
       "      <td>prompt_answer</td>\n",
       "      <td>2</td>\n",
       "      <td>../activations/llama3_3b_chat/birth_years_4k/b...</td>\n",
       "    </tr>\n",
       "    <tr>\n",
       "      <th>503</th>\n",
       "      <td>llama3_3b_chat</td>\n",
       "      <td>birth_years_4k</td>\n",
       "      <td>base</td>\n",
       "      <td>main</td>\n",
       "      <td>prompt_answer</td>\n",
       "      <td>5</td>\n",
       "      <td>../activations/llama3_3b_chat/birth_years_4k/b...</td>\n",
       "    </tr>\n",
       "  </tbody>\n",
       "</table>\n",
       "<p>504 rows × 7 columns</p>\n",
       "</div>"
      ],
      "text/plain": [
       "           model_id           dataset_id prompt_id subset_id     input_type  \\\n",
       "0    llama3_3b_chat  football_leagues_1k      base      main    prompt_only   \n",
       "1    llama3_3b_chat  football_leagues_1k      base      main    prompt_only   \n",
       "2    llama3_3b_chat  football_leagues_1k      base      main    prompt_only   \n",
       "3    llama3_3b_chat  football_leagues_1k      base      main    prompt_only   \n",
       "4    llama3_3b_chat  football_leagues_1k      base      main    prompt_only   \n",
       "..              ...                  ...       ...       ...            ...   \n",
       "499  llama3_3b_chat       birth_years_4k      base      main  prompt_answer   \n",
       "500  llama3_3b_chat       birth_years_4k      base      main  prompt_answer   \n",
       "501  llama3_3b_chat       birth_years_4k      base      main  prompt_answer   \n",
       "502  llama3_3b_chat       birth_years_4k      base      main  prompt_answer   \n",
       "503  llama3_3b_chat       birth_years_4k      base      main  prompt_answer   \n",
       "\n",
       "     layer                                               path  \n",
       "0        0  ../activations/llama3_3b_chat/football_leagues...  \n",
       "1        7  ../activations/llama3_3b_chat/football_leagues...  \n",
       "2        9  ../activations/llama3_3b_chat/football_leagues...  \n",
       "3       17  ../activations/llama3_3b_chat/football_leagues...  \n",
       "4       10  ../activations/llama3_3b_chat/football_leagues...  \n",
       "..     ...                                                ...  \n",
       "499     23  ../activations/llama3_3b_chat/birth_years_4k/b...  \n",
       "500     15  ../activations/llama3_3b_chat/birth_years_4k/b...  \n",
       "501     12  ../activations/llama3_3b_chat/birth_years_4k/b...  \n",
       "502      2  ../activations/llama3_3b_chat/birth_years_4k/b...  \n",
       "503      5  ../activations/llama3_3b_chat/birth_years_4k/b...  \n",
       "\n",
       "[504 rows x 7 columns]"
      ]
     },
     "execution_count": 41,
     "metadata": {},
     "output_type": "execute_result"
    }
   ],
   "source": [
    "all_activation_exp_configs = defaultdict(list)\n",
    "for model_path in Path(\"../activations\").iterdir():\n",
    "    for dataset_path in model_path.iterdir():\n",
    "        for prompt_path in dataset_path.iterdir():\n",
    "            for subset_path in prompt_path.iterdir():\n",
    "                for input_type_path in subset_path.iterdir():\n",
    "                    for layer_path in input_type_path.iterdir():\n",
    "                        all_activation_exp_configs[\"model_id\"].append(model_path.stem)\n",
    "                        all_activation_exp_configs[\"dataset_id\"].append(dataset_path.stem)\n",
    "                        all_activation_exp_configs[\"prompt_id\"].append(prompt_path.stem)\n",
    "                        all_activation_exp_configs[\"subset_id\"].append(subset_path.stem)\n",
    "                        all_activation_exp_configs[\"input_type\"].append(input_type_path.stem)\n",
    "                        all_activation_exp_configs[\"layer\"].append(int(layer_path.stem.split(\"_\")[-1]))\n",
    "                        all_activation_exp_configs[\"path\"].append(layer_path)\n",
    "all_activation_exp_configs_df = pd.DataFrame(all_activation_exp_configs)\n",
    "all_activation_exp_configs_df\n"
   ]
  },
  {
   "cell_type": "code",
   "execution_count": 42,
   "metadata": {},
   "outputs": [
    {
     "data": {
      "text/html": [
       "<div>\n",
       "<style scoped>\n",
       "    .dataframe tbody tr th:only-of-type {\n",
       "        vertical-align: middle;\n",
       "    }\n",
       "\n",
       "    .dataframe tbody tr th {\n",
       "        vertical-align: top;\n",
       "    }\n",
       "\n",
       "    .dataframe thead th {\n",
       "        text-align: right;\n",
       "    }\n",
       "</style>\n",
       "<table border=\"1\" class=\"dataframe\">\n",
       "  <thead>\n",
       "    <tr style=\"text-align: right;\">\n",
       "      <th></th>\n",
       "      <th>model_id</th>\n",
       "      <th>dataset_id</th>\n",
       "      <th>prompt_id</th>\n",
       "      <th>subset_id</th>\n",
       "      <th>input_type</th>\n",
       "      <th>layer</th>\n",
       "      <th>path</th>\n",
       "    </tr>\n",
       "  </thead>\n",
       "  <tbody>\n",
       "    <tr>\n",
       "      <th>168</th>\n",
       "      <td>llama3_3b_chat</td>\n",
       "      <td>gsm8k</td>\n",
       "      <td>cot_3_shot</td>\n",
       "      <td>main</td>\n",
       "      <td>prompt_only</td>\n",
       "      <td>0</td>\n",
       "      <td>../activations/llama3_3b_chat/gsm8k/cot_3_shot...</td>\n",
       "    </tr>\n",
       "    <tr>\n",
       "      <th>169</th>\n",
       "      <td>llama3_3b_chat</td>\n",
       "      <td>gsm8k</td>\n",
       "      <td>cot_3_shot</td>\n",
       "      <td>main</td>\n",
       "      <td>prompt_only</td>\n",
       "      <td>7</td>\n",
       "      <td>../activations/llama3_3b_chat/gsm8k/cot_3_shot...</td>\n",
       "    </tr>\n",
       "    <tr>\n",
       "      <th>170</th>\n",
       "      <td>llama3_3b_chat</td>\n",
       "      <td>gsm8k</td>\n",
       "      <td>cot_3_shot</td>\n",
       "      <td>main</td>\n",
       "      <td>prompt_only</td>\n",
       "      <td>9</td>\n",
       "      <td>../activations/llama3_3b_chat/gsm8k/cot_3_shot...</td>\n",
       "    </tr>\n",
       "    <tr>\n",
       "      <th>171</th>\n",
       "      <td>llama3_3b_chat</td>\n",
       "      <td>gsm8k</td>\n",
       "      <td>cot_3_shot</td>\n",
       "      <td>main</td>\n",
       "      <td>prompt_only</td>\n",
       "      <td>17</td>\n",
       "      <td>../activations/llama3_3b_chat/gsm8k/cot_3_shot...</td>\n",
       "    </tr>\n",
       "    <tr>\n",
       "      <th>172</th>\n",
       "      <td>llama3_3b_chat</td>\n",
       "      <td>gsm8k</td>\n",
       "      <td>cot_3_shot</td>\n",
       "      <td>main</td>\n",
       "      <td>prompt_only</td>\n",
       "      <td>10</td>\n",
       "      <td>../activations/llama3_3b_chat/gsm8k/cot_3_shot...</td>\n",
       "    </tr>\n",
       "    <tr>\n",
       "      <th>173</th>\n",
       "      <td>llama3_3b_chat</td>\n",
       "      <td>gsm8k</td>\n",
       "      <td>cot_3_shot</td>\n",
       "      <td>main</td>\n",
       "      <td>prompt_only</td>\n",
       "      <td>26</td>\n",
       "      <td>../activations/llama3_3b_chat/gsm8k/cot_3_shot...</td>\n",
       "    </tr>\n",
       "    <tr>\n",
       "      <th>174</th>\n",
       "      <td>llama3_3b_chat</td>\n",
       "      <td>gsm8k</td>\n",
       "      <td>cot_3_shot</td>\n",
       "      <td>main</td>\n",
       "      <td>prompt_only</td>\n",
       "      <td>19</td>\n",
       "      <td>../activations/llama3_3b_chat/gsm8k/cot_3_shot...</td>\n",
       "    </tr>\n",
       "    <tr>\n",
       "      <th>175</th>\n",
       "      <td>llama3_3b_chat</td>\n",
       "      <td>gsm8k</td>\n",
       "      <td>cot_3_shot</td>\n",
       "      <td>main</td>\n",
       "      <td>prompt_only</td>\n",
       "      <td>21</td>\n",
       "      <td>../activations/llama3_3b_chat/gsm8k/cot_3_shot...</td>\n",
       "    </tr>\n",
       "    <tr>\n",
       "      <th>176</th>\n",
       "      <td>llama3_3b_chat</td>\n",
       "      <td>gsm8k</td>\n",
       "      <td>cot_3_shot</td>\n",
       "      <td>main</td>\n",
       "      <td>prompt_only</td>\n",
       "      <td>8</td>\n",
       "      <td>../activations/llama3_3b_chat/gsm8k/cot_3_shot...</td>\n",
       "    </tr>\n",
       "    <tr>\n",
       "      <th>177</th>\n",
       "      <td>llama3_3b_chat</td>\n",
       "      <td>gsm8k</td>\n",
       "      <td>cot_3_shot</td>\n",
       "      <td>main</td>\n",
       "      <td>prompt_only</td>\n",
       "      <td>6</td>\n",
       "      <td>../activations/llama3_3b_chat/gsm8k/cot_3_shot...</td>\n",
       "    </tr>\n",
       "    <tr>\n",
       "      <th>178</th>\n",
       "      <td>llama3_3b_chat</td>\n",
       "      <td>gsm8k</td>\n",
       "      <td>cot_3_shot</td>\n",
       "      <td>main</td>\n",
       "      <td>prompt_only</td>\n",
       "      <td>1</td>\n",
       "      <td>../activations/llama3_3b_chat/gsm8k/cot_3_shot...</td>\n",
       "    </tr>\n",
       "    <tr>\n",
       "      <th>179</th>\n",
       "      <td>llama3_3b_chat</td>\n",
       "      <td>gsm8k</td>\n",
       "      <td>cot_3_shot</td>\n",
       "      <td>main</td>\n",
       "      <td>prompt_only</td>\n",
       "      <td>20</td>\n",
       "      <td>../activations/llama3_3b_chat/gsm8k/cot_3_shot...</td>\n",
       "    </tr>\n",
       "    <tr>\n",
       "      <th>180</th>\n",
       "      <td>llama3_3b_chat</td>\n",
       "      <td>gsm8k</td>\n",
       "      <td>cot_3_shot</td>\n",
       "      <td>main</td>\n",
       "      <td>prompt_only</td>\n",
       "      <td>27</td>\n",
       "      <td>../activations/llama3_3b_chat/gsm8k/cot_3_shot...</td>\n",
       "    </tr>\n",
       "    <tr>\n",
       "      <th>181</th>\n",
       "      <td>llama3_3b_chat</td>\n",
       "      <td>gsm8k</td>\n",
       "      <td>cot_3_shot</td>\n",
       "      <td>main</td>\n",
       "      <td>prompt_only</td>\n",
       "      <td>18</td>\n",
       "      <td>../activations/llama3_3b_chat/gsm8k/cot_3_shot...</td>\n",
       "    </tr>\n",
       "    <tr>\n",
       "      <th>182</th>\n",
       "      <td>llama3_3b_chat</td>\n",
       "      <td>gsm8k</td>\n",
       "      <td>cot_3_shot</td>\n",
       "      <td>main</td>\n",
       "      <td>prompt_only</td>\n",
       "      <td>11</td>\n",
       "      <td>../activations/llama3_3b_chat/gsm8k/cot_3_shot...</td>\n",
       "    </tr>\n",
       "    <tr>\n",
       "      <th>183</th>\n",
       "      <td>llama3_3b_chat</td>\n",
       "      <td>gsm8k</td>\n",
       "      <td>cot_3_shot</td>\n",
       "      <td>main</td>\n",
       "      <td>prompt_only</td>\n",
       "      <td>16</td>\n",
       "      <td>../activations/llama3_3b_chat/gsm8k/cot_3_shot...</td>\n",
       "    </tr>\n",
       "    <tr>\n",
       "      <th>184</th>\n",
       "      <td>llama3_3b_chat</td>\n",
       "      <td>gsm8k</td>\n",
       "      <td>cot_3_shot</td>\n",
       "      <td>main</td>\n",
       "      <td>prompt_only</td>\n",
       "      <td>13</td>\n",
       "      <td>../activations/llama3_3b_chat/gsm8k/cot_3_shot...</td>\n",
       "    </tr>\n",
       "    <tr>\n",
       "      <th>185</th>\n",
       "      <td>llama3_3b_chat</td>\n",
       "      <td>gsm8k</td>\n",
       "      <td>cot_3_shot</td>\n",
       "      <td>main</td>\n",
       "      <td>prompt_only</td>\n",
       "      <td>14</td>\n",
       "      <td>../activations/llama3_3b_chat/gsm8k/cot_3_shot...</td>\n",
       "    </tr>\n",
       "    <tr>\n",
       "      <th>186</th>\n",
       "      <td>llama3_3b_chat</td>\n",
       "      <td>gsm8k</td>\n",
       "      <td>cot_3_shot</td>\n",
       "      <td>main</td>\n",
       "      <td>prompt_only</td>\n",
       "      <td>22</td>\n",
       "      <td>../activations/llama3_3b_chat/gsm8k/cot_3_shot...</td>\n",
       "    </tr>\n",
       "    <tr>\n",
       "      <th>187</th>\n",
       "      <td>llama3_3b_chat</td>\n",
       "      <td>gsm8k</td>\n",
       "      <td>cot_3_shot</td>\n",
       "      <td>main</td>\n",
       "      <td>prompt_only</td>\n",
       "      <td>25</td>\n",
       "      <td>../activations/llama3_3b_chat/gsm8k/cot_3_shot...</td>\n",
       "    </tr>\n",
       "    <tr>\n",
       "      <th>188</th>\n",
       "      <td>llama3_3b_chat</td>\n",
       "      <td>gsm8k</td>\n",
       "      <td>cot_3_shot</td>\n",
       "      <td>main</td>\n",
       "      <td>prompt_only</td>\n",
       "      <td>4</td>\n",
       "      <td>../activations/llama3_3b_chat/gsm8k/cot_3_shot...</td>\n",
       "    </tr>\n",
       "    <tr>\n",
       "      <th>189</th>\n",
       "      <td>llama3_3b_chat</td>\n",
       "      <td>gsm8k</td>\n",
       "      <td>cot_3_shot</td>\n",
       "      <td>main</td>\n",
       "      <td>prompt_only</td>\n",
       "      <td>3</td>\n",
       "      <td>../activations/llama3_3b_chat/gsm8k/cot_3_shot...</td>\n",
       "    </tr>\n",
       "    <tr>\n",
       "      <th>190</th>\n",
       "      <td>llama3_3b_chat</td>\n",
       "      <td>gsm8k</td>\n",
       "      <td>cot_3_shot</td>\n",
       "      <td>main</td>\n",
       "      <td>prompt_only</td>\n",
       "      <td>24</td>\n",
       "      <td>../activations/llama3_3b_chat/gsm8k/cot_3_shot...</td>\n",
       "    </tr>\n",
       "    <tr>\n",
       "      <th>191</th>\n",
       "      <td>llama3_3b_chat</td>\n",
       "      <td>gsm8k</td>\n",
       "      <td>cot_3_shot</td>\n",
       "      <td>main</td>\n",
       "      <td>prompt_only</td>\n",
       "      <td>23</td>\n",
       "      <td>../activations/llama3_3b_chat/gsm8k/cot_3_shot...</td>\n",
       "    </tr>\n",
       "    <tr>\n",
       "      <th>192</th>\n",
       "      <td>llama3_3b_chat</td>\n",
       "      <td>gsm8k</td>\n",
       "      <td>cot_3_shot</td>\n",
       "      <td>main</td>\n",
       "      <td>prompt_only</td>\n",
       "      <td>15</td>\n",
       "      <td>../activations/llama3_3b_chat/gsm8k/cot_3_shot...</td>\n",
       "    </tr>\n",
       "    <tr>\n",
       "      <th>193</th>\n",
       "      <td>llama3_3b_chat</td>\n",
       "      <td>gsm8k</td>\n",
       "      <td>cot_3_shot</td>\n",
       "      <td>main</td>\n",
       "      <td>prompt_only</td>\n",
       "      <td>12</td>\n",
       "      <td>../activations/llama3_3b_chat/gsm8k/cot_3_shot...</td>\n",
       "    </tr>\n",
       "    <tr>\n",
       "      <th>194</th>\n",
       "      <td>llama3_3b_chat</td>\n",
       "      <td>gsm8k</td>\n",
       "      <td>cot_3_shot</td>\n",
       "      <td>main</td>\n",
       "      <td>prompt_only</td>\n",
       "      <td>2</td>\n",
       "      <td>../activations/llama3_3b_chat/gsm8k/cot_3_shot...</td>\n",
       "    </tr>\n",
       "    <tr>\n",
       "      <th>195</th>\n",
       "      <td>llama3_3b_chat</td>\n",
       "      <td>gsm8k</td>\n",
       "      <td>cot_3_shot</td>\n",
       "      <td>main</td>\n",
       "      <td>prompt_only</td>\n",
       "      <td>5</td>\n",
       "      <td>../activations/llama3_3b_chat/gsm8k/cot_3_shot...</td>\n",
       "    </tr>\n",
       "  </tbody>\n",
       "</table>\n",
       "</div>"
      ],
      "text/plain": [
       "           model_id dataset_id   prompt_id subset_id   input_type  layer  \\\n",
       "168  llama3_3b_chat      gsm8k  cot_3_shot      main  prompt_only      0   \n",
       "169  llama3_3b_chat      gsm8k  cot_3_shot      main  prompt_only      7   \n",
       "170  llama3_3b_chat      gsm8k  cot_3_shot      main  prompt_only      9   \n",
       "171  llama3_3b_chat      gsm8k  cot_3_shot      main  prompt_only     17   \n",
       "172  llama3_3b_chat      gsm8k  cot_3_shot      main  prompt_only     10   \n",
       "173  llama3_3b_chat      gsm8k  cot_3_shot      main  prompt_only     26   \n",
       "174  llama3_3b_chat      gsm8k  cot_3_shot      main  prompt_only     19   \n",
       "175  llama3_3b_chat      gsm8k  cot_3_shot      main  prompt_only     21   \n",
       "176  llama3_3b_chat      gsm8k  cot_3_shot      main  prompt_only      8   \n",
       "177  llama3_3b_chat      gsm8k  cot_3_shot      main  prompt_only      6   \n",
       "178  llama3_3b_chat      gsm8k  cot_3_shot      main  prompt_only      1   \n",
       "179  llama3_3b_chat      gsm8k  cot_3_shot      main  prompt_only     20   \n",
       "180  llama3_3b_chat      gsm8k  cot_3_shot      main  prompt_only     27   \n",
       "181  llama3_3b_chat      gsm8k  cot_3_shot      main  prompt_only     18   \n",
       "182  llama3_3b_chat      gsm8k  cot_3_shot      main  prompt_only     11   \n",
       "183  llama3_3b_chat      gsm8k  cot_3_shot      main  prompt_only     16   \n",
       "184  llama3_3b_chat      gsm8k  cot_3_shot      main  prompt_only     13   \n",
       "185  llama3_3b_chat      gsm8k  cot_3_shot      main  prompt_only     14   \n",
       "186  llama3_3b_chat      gsm8k  cot_3_shot      main  prompt_only     22   \n",
       "187  llama3_3b_chat      gsm8k  cot_3_shot      main  prompt_only     25   \n",
       "188  llama3_3b_chat      gsm8k  cot_3_shot      main  prompt_only      4   \n",
       "189  llama3_3b_chat      gsm8k  cot_3_shot      main  prompt_only      3   \n",
       "190  llama3_3b_chat      gsm8k  cot_3_shot      main  prompt_only     24   \n",
       "191  llama3_3b_chat      gsm8k  cot_3_shot      main  prompt_only     23   \n",
       "192  llama3_3b_chat      gsm8k  cot_3_shot      main  prompt_only     15   \n",
       "193  llama3_3b_chat      gsm8k  cot_3_shot      main  prompt_only     12   \n",
       "194  llama3_3b_chat      gsm8k  cot_3_shot      main  prompt_only      2   \n",
       "195  llama3_3b_chat      gsm8k  cot_3_shot      main  prompt_only      5   \n",
       "\n",
       "                                                  path  \n",
       "168  ../activations/llama3_3b_chat/gsm8k/cot_3_shot...  \n",
       "169  ../activations/llama3_3b_chat/gsm8k/cot_3_shot...  \n",
       "170  ../activations/llama3_3b_chat/gsm8k/cot_3_shot...  \n",
       "171  ../activations/llama3_3b_chat/gsm8k/cot_3_shot...  \n",
       "172  ../activations/llama3_3b_chat/gsm8k/cot_3_shot...  \n",
       "173  ../activations/llama3_3b_chat/gsm8k/cot_3_shot...  \n",
       "174  ../activations/llama3_3b_chat/gsm8k/cot_3_shot...  \n",
       "175  ../activations/llama3_3b_chat/gsm8k/cot_3_shot...  \n",
       "176  ../activations/llama3_3b_chat/gsm8k/cot_3_shot...  \n",
       "177  ../activations/llama3_3b_chat/gsm8k/cot_3_shot...  \n",
       "178  ../activations/llama3_3b_chat/gsm8k/cot_3_shot...  \n",
       "179  ../activations/llama3_3b_chat/gsm8k/cot_3_shot...  \n",
       "180  ../activations/llama3_3b_chat/gsm8k/cot_3_shot...  \n",
       "181  ../activations/llama3_3b_chat/gsm8k/cot_3_shot...  \n",
       "182  ../activations/llama3_3b_chat/gsm8k/cot_3_shot...  \n",
       "183  ../activations/llama3_3b_chat/gsm8k/cot_3_shot...  \n",
       "184  ../activations/llama3_3b_chat/gsm8k/cot_3_shot...  \n",
       "185  ../activations/llama3_3b_chat/gsm8k/cot_3_shot...  \n",
       "186  ../activations/llama3_3b_chat/gsm8k/cot_3_shot...  \n",
       "187  ../activations/llama3_3b_chat/gsm8k/cot_3_shot...  \n",
       "188  ../activations/llama3_3b_chat/gsm8k/cot_3_shot...  \n",
       "189  ../activations/llama3_3b_chat/gsm8k/cot_3_shot...  \n",
       "190  ../activations/llama3_3b_chat/gsm8k/cot_3_shot...  \n",
       "191  ../activations/llama3_3b_chat/gsm8k/cot_3_shot...  \n",
       "192  ../activations/llama3_3b_chat/gsm8k/cot_3_shot...  \n",
       "193  ../activations/llama3_3b_chat/gsm8k/cot_3_shot...  \n",
       "194  ../activations/llama3_3b_chat/gsm8k/cot_3_shot...  \n",
       "195  ../activations/llama3_3b_chat/gsm8k/cot_3_shot...  "
      ]
     },
     "execution_count": 42,
     "metadata": {},
     "output_type": "execute_result"
    }
   ],
   "source": [
    "# Set None to get all\n",
    "MODEL_ID = \"llama3_3b_chat\"\n",
    "DATASET_ID = \"gsm8k\"\n",
    "PROMPT_ID = \"cot_3_shot\"\n",
    "SUBSET_ID = \"main\"\n",
    "INPUT_TYPE = \"prompt_only\"\n",
    "# DATASET_ID = None\n",
    "# PROMPT_ID = None\n",
    "# SUBSET_ID = None\n",
    "# INPUT_TYPE = None\n",
    "\n",
    "\n",
    "activation_exp_configs_df = all_activation_exp_configs_df.copy()\n",
    "\n",
    "if MODEL_ID != None:\n",
    "    activation_exp_configs_df = activation_exp_configs_df[activation_exp_configs_df[\"model_id\"] == MODEL_ID]\n",
    "if DATASET_ID != None:\n",
    "    activation_exp_configs_df = activation_exp_configs_df[activation_exp_configs_df[\"dataset_id\"] == DATASET_ID]\n",
    "if PROMPT_ID != None:\n",
    "    activation_exp_configs_df = activation_exp_configs_df[activation_exp_configs_df[\"prompt_id\"] == PROMPT_ID]\n",
    "if SUBSET_ID != None:\n",
    "    activation_exp_configs_df = activation_exp_configs_df[activation_exp_configs_df[\"subset_id\"] == SUBSET_ID]\n",
    "if INPUT_TYPE != None:\n",
    "    activation_exp_configs_df = activation_exp_configs_df[activation_exp_configs_df[\"input_type\"] == INPUT_TYPE]\n",
    "\n",
    "\n",
    "activation_exp_configs_df"
   ]
  },
  {
   "cell_type": "code",
   "execution_count": 43,
   "metadata": {},
   "outputs": [
    {
     "name": "stdout",
     "output_type": "stream",
     "text": [
      "           model_id dataset_id   prompt_id subset_id   input_type  layer  \\\n",
      "168  llama3_3b_chat      gsm8k  cot_3_shot      main  prompt_only      0   \n",
      "169  llama3_3b_chat      gsm8k  cot_3_shot      main  prompt_only      7   \n",
      "170  llama3_3b_chat      gsm8k  cot_3_shot      main  prompt_only      9   \n",
      "171  llama3_3b_chat      gsm8k  cot_3_shot      main  prompt_only     17   \n",
      "172  llama3_3b_chat      gsm8k  cot_3_shot      main  prompt_only     10   \n",
      "173  llama3_3b_chat      gsm8k  cot_3_shot      main  prompt_only     26   \n",
      "174  llama3_3b_chat      gsm8k  cot_3_shot      main  prompt_only     19   \n",
      "175  llama3_3b_chat      gsm8k  cot_3_shot      main  prompt_only     21   \n",
      "176  llama3_3b_chat      gsm8k  cot_3_shot      main  prompt_only      8   \n",
      "177  llama3_3b_chat      gsm8k  cot_3_shot      main  prompt_only      6   \n",
      "178  llama3_3b_chat      gsm8k  cot_3_shot      main  prompt_only      1   \n",
      "179  llama3_3b_chat      gsm8k  cot_3_shot      main  prompt_only     20   \n",
      "180  llama3_3b_chat      gsm8k  cot_3_shot      main  prompt_only     27   \n",
      "181  llama3_3b_chat      gsm8k  cot_3_shot      main  prompt_only     18   \n",
      "182  llama3_3b_chat      gsm8k  cot_3_shot      main  prompt_only     11   \n",
      "183  llama3_3b_chat      gsm8k  cot_3_shot      main  prompt_only     16   \n",
      "184  llama3_3b_chat      gsm8k  cot_3_shot      main  prompt_only     13   \n",
      "185  llama3_3b_chat      gsm8k  cot_3_shot      main  prompt_only     14   \n",
      "186  llama3_3b_chat      gsm8k  cot_3_shot      main  prompt_only     22   \n",
      "187  llama3_3b_chat      gsm8k  cot_3_shot      main  prompt_only     25   \n",
      "188  llama3_3b_chat      gsm8k  cot_3_shot      main  prompt_only      4   \n",
      "189  llama3_3b_chat      gsm8k  cot_3_shot      main  prompt_only      3   \n",
      "190  llama3_3b_chat      gsm8k  cot_3_shot      main  prompt_only     24   \n",
      "191  llama3_3b_chat      gsm8k  cot_3_shot      main  prompt_only     23   \n",
      "192  llama3_3b_chat      gsm8k  cot_3_shot      main  prompt_only     15   \n",
      "193  llama3_3b_chat      gsm8k  cot_3_shot      main  prompt_only     12   \n",
      "194  llama3_3b_chat      gsm8k  cot_3_shot      main  prompt_only      2   \n",
      "195  llama3_3b_chat      gsm8k  cot_3_shot      main  prompt_only      5   \n",
      "\n",
      "                                                  path  \n",
      "168  ../activations/llama3_3b_chat/gsm8k/cot_3_shot...  \n",
      "169  ../activations/llama3_3b_chat/gsm8k/cot_3_shot...  \n",
      "170  ../activations/llama3_3b_chat/gsm8k/cot_3_shot...  \n",
      "171  ../activations/llama3_3b_chat/gsm8k/cot_3_shot...  \n",
      "172  ../activations/llama3_3b_chat/gsm8k/cot_3_shot...  \n",
      "173  ../activations/llama3_3b_chat/gsm8k/cot_3_shot...  \n",
      "174  ../activations/llama3_3b_chat/gsm8k/cot_3_shot...  \n",
      "175  ../activations/llama3_3b_chat/gsm8k/cot_3_shot...  \n",
      "176  ../activations/llama3_3b_chat/gsm8k/cot_3_shot...  \n",
      "177  ../activations/llama3_3b_chat/gsm8k/cot_3_shot...  \n",
      "178  ../activations/llama3_3b_chat/gsm8k/cot_3_shot...  \n",
      "179  ../activations/llama3_3b_chat/gsm8k/cot_3_shot...  \n",
      "180  ../activations/llama3_3b_chat/gsm8k/cot_3_shot...  \n",
      "181  ../activations/llama3_3b_chat/gsm8k/cot_3_shot...  \n",
      "182  ../activations/llama3_3b_chat/gsm8k/cot_3_shot...  \n",
      "183  ../activations/llama3_3b_chat/gsm8k/cot_3_shot...  \n",
      "184  ../activations/llama3_3b_chat/gsm8k/cot_3_shot...  \n",
      "185  ../activations/llama3_3b_chat/gsm8k/cot_3_shot...  \n",
      "186  ../activations/llama3_3b_chat/gsm8k/cot_3_shot...  \n",
      "187  ../activations/llama3_3b_chat/gsm8k/cot_3_shot...  \n",
      "188  ../activations/llama3_3b_chat/gsm8k/cot_3_shot...  \n",
      "189  ../activations/llama3_3b_chat/gsm8k/cot_3_shot...  \n",
      "190  ../activations/llama3_3b_chat/gsm8k/cot_3_shot...  \n",
      "191  ../activations/llama3_3b_chat/gsm8k/cot_3_shot...  \n",
      "192  ../activations/llama3_3b_chat/gsm8k/cot_3_shot...  \n",
      "193  ../activations/llama3_3b_chat/gsm8k/cot_3_shot...  \n",
      "194  ../activations/llama3_3b_chat/gsm8k/cot_3_shot...  \n",
      "195  ../activations/llama3_3b_chat/gsm8k/cot_3_shot...  \n"
     ]
    }
   ],
   "source": [
    "for x in activation_exp_configs_df.groupby([\"model_id\", \"dataset_id\", \"prompt_id\", \"subset_id\", \"input_type\"]):\n",
    "    print(x[1])"
   ]
  },
  {
   "cell_type": "code",
   "execution_count": 48,
   "metadata": {},
   "outputs": [
    {
     "name": "stdout",
     "output_type": "stream",
     "text": [
      "\n",
      "model_id='llama3_3b_chat', dataset_id='gsm8k', prompt_id='cot_3_shot', subset_id='main', input_type='prompt_only'\n",
      "layer=0, layer=1, layer=2, layer=3, layer=4, layer=5, layer=6, layer=7, layer=8, layer=9, layer=10, layer=11, layer=12, layer=13, layer=14, layer=15, layer=16, layer=17, layer=18, layer=19, layer=20, layer=21, layer=22, layer=23, layer=24, layer=25, layer=26, layer=27, "
     ]
    },
    {
     "data": {
      "text/html": [
       "<div>\n",
       "<style scoped>\n",
       "    .dataframe tbody tr th:only-of-type {\n",
       "        vertical-align: middle;\n",
       "    }\n",
       "\n",
       "    .dataframe tbody tr th {\n",
       "        vertical-align: top;\n",
       "    }\n",
       "\n",
       "    .dataframe thead th {\n",
       "        text-align: right;\n",
       "    }\n",
       "</style>\n",
       "<table border=\"1\" class=\"dataframe\">\n",
       "  <thead>\n",
       "    <tr style=\"text-align: right;\">\n",
       "      <th></th>\n",
       "      <th>model_id</th>\n",
       "      <th>dataset_id</th>\n",
       "      <th>prompt_id</th>\n",
       "      <th>subset_id</th>\n",
       "      <th>input_type</th>\n",
       "      <th>layer</th>\n",
       "      <th>fold</th>\n",
       "      <th>direction_optimal_cut</th>\n",
       "      <th>direction_optimal_train_set_cut</th>\n",
       "      <th>direction_test_roc_auc</th>\n",
       "      <th>...</th>\n",
       "      <th>direction_f1_score</th>\n",
       "      <th>direction_precision_score</th>\n",
       "      <th>direction_recall_score</th>\n",
       "      <th>logistic_regression_optimal_cut</th>\n",
       "      <th>logistic_regression_optimal_train_set_cut</th>\n",
       "      <th>logistic_regression_test_roc_auc</th>\n",
       "      <th>logistic_regression_accuracy_score</th>\n",
       "      <th>logistic_regression_f1_score</th>\n",
       "      <th>logistic_regression_precision_score</th>\n",
       "      <th>logistic_regression_recall_score</th>\n",
       "    </tr>\n",
       "  </thead>\n",
       "  <tbody>\n",
       "    <tr>\n",
       "      <th>0</th>\n",
       "      <td>llama3_3b_chat</td>\n",
       "      <td>gsm8k</td>\n",
       "      <td>cot_3_shot</td>\n",
       "      <td>main</td>\n",
       "      <td>prompt_only</td>\n",
       "      <td>0</td>\n",
       "      <td>0</td>\n",
       "      <td>0.017149</td>\n",
       "      <td>0.017149</td>\n",
       "      <td>1.0</td>\n",
       "      <td>...</td>\n",
       "      <td>0.8</td>\n",
       "      <td>1.0</td>\n",
       "      <td>0.666667</td>\n",
       "      <td>0.5</td>\n",
       "      <td>0.999421</td>\n",
       "      <td>1.0</td>\n",
       "      <td>1.0</td>\n",
       "      <td>1.0</td>\n",
       "      <td>1.0</td>\n",
       "      <td>1.0</td>\n",
       "    </tr>\n",
       "    <tr>\n",
       "      <th>1</th>\n",
       "      <td>llama3_3b_chat</td>\n",
       "      <td>gsm8k</td>\n",
       "      <td>cot_3_shot</td>\n",
       "      <td>main</td>\n",
       "      <td>prompt_only</td>\n",
       "      <td>0</td>\n",
       "      <td>1</td>\n",
       "      <td>0.017149</td>\n",
       "      <td>0.017149</td>\n",
       "      <td>1.0</td>\n",
       "      <td>...</td>\n",
       "      <td>0.8</td>\n",
       "      <td>1.0</td>\n",
       "      <td>0.666667</td>\n",
       "      <td>0.5</td>\n",
       "      <td>0.999421</td>\n",
       "      <td>1.0</td>\n",
       "      <td>1.0</td>\n",
       "      <td>1.0</td>\n",
       "      <td>1.0</td>\n",
       "      <td>1.0</td>\n",
       "    </tr>\n",
       "    <tr>\n",
       "      <th>2</th>\n",
       "      <td>llama3_3b_chat</td>\n",
       "      <td>gsm8k</td>\n",
       "      <td>cot_3_shot</td>\n",
       "      <td>main</td>\n",
       "      <td>prompt_only</td>\n",
       "      <td>0</td>\n",
       "      <td>2</td>\n",
       "      <td>0.017149</td>\n",
       "      <td>0.017149</td>\n",
       "      <td>1.0</td>\n",
       "      <td>...</td>\n",
       "      <td>0.8</td>\n",
       "      <td>1.0</td>\n",
       "      <td>0.666667</td>\n",
       "      <td>0.5</td>\n",
       "      <td>0.999421</td>\n",
       "      <td>1.0</td>\n",
       "      <td>1.0</td>\n",
       "      <td>1.0</td>\n",
       "      <td>1.0</td>\n",
       "      <td>1.0</td>\n",
       "    </tr>\n",
       "    <tr>\n",
       "      <th>3</th>\n",
       "      <td>llama3_3b_chat</td>\n",
       "      <td>gsm8k</td>\n",
       "      <td>cot_3_shot</td>\n",
       "      <td>main</td>\n",
       "      <td>prompt_only</td>\n",
       "      <td>0</td>\n",
       "      <td>3</td>\n",
       "      <td>0.017149</td>\n",
       "      <td>0.017149</td>\n",
       "      <td>1.0</td>\n",
       "      <td>...</td>\n",
       "      <td>0.8</td>\n",
       "      <td>1.0</td>\n",
       "      <td>0.666667</td>\n",
       "      <td>0.5</td>\n",
       "      <td>0.999421</td>\n",
       "      <td>1.0</td>\n",
       "      <td>1.0</td>\n",
       "      <td>1.0</td>\n",
       "      <td>1.0</td>\n",
       "      <td>1.0</td>\n",
       "    </tr>\n",
       "    <tr>\n",
       "      <th>4</th>\n",
       "      <td>llama3_3b_chat</td>\n",
       "      <td>gsm8k</td>\n",
       "      <td>cot_3_shot</td>\n",
       "      <td>main</td>\n",
       "      <td>prompt_only</td>\n",
       "      <td>0</td>\n",
       "      <td>4</td>\n",
       "      <td>0.017149</td>\n",
       "      <td>0.017149</td>\n",
       "      <td>1.0</td>\n",
       "      <td>...</td>\n",
       "      <td>0.8</td>\n",
       "      <td>1.0</td>\n",
       "      <td>0.666667</td>\n",
       "      <td>0.5</td>\n",
       "      <td>0.999421</td>\n",
       "      <td>1.0</td>\n",
       "      <td>1.0</td>\n",
       "      <td>1.0</td>\n",
       "      <td>1.0</td>\n",
       "      <td>1.0</td>\n",
       "    </tr>\n",
       "    <tr>\n",
       "      <th>...</th>\n",
       "      <td>...</td>\n",
       "      <td>...</td>\n",
       "      <td>...</td>\n",
       "      <td>...</td>\n",
       "      <td>...</td>\n",
       "      <td>...</td>\n",
       "      <td>...</td>\n",
       "      <td>...</td>\n",
       "      <td>...</td>\n",
       "      <td>...</td>\n",
       "      <td>...</td>\n",
       "      <td>...</td>\n",
       "      <td>...</td>\n",
       "      <td>...</td>\n",
       "      <td>...</td>\n",
       "      <td>...</td>\n",
       "      <td>...</td>\n",
       "      <td>...</td>\n",
       "      <td>...</td>\n",
       "      <td>...</td>\n",
       "      <td>...</td>\n",
       "    </tr>\n",
       "    <tr>\n",
       "      <th>135</th>\n",
       "      <td>llama3_3b_chat</td>\n",
       "      <td>gsm8k</td>\n",
       "      <td>cot_3_shot</td>\n",
       "      <td>main</td>\n",
       "      <td>prompt_only</td>\n",
       "      <td>27</td>\n",
       "      <td>0</td>\n",
       "      <td>9.218114</td>\n",
       "      <td>9.218114</td>\n",
       "      <td>1.0</td>\n",
       "      <td>...</td>\n",
       "      <td>1.0</td>\n",
       "      <td>1.0</td>\n",
       "      <td>1.000000</td>\n",
       "      <td>0.5</td>\n",
       "      <td>0.999593</td>\n",
       "      <td>1.0</td>\n",
       "      <td>1.0</td>\n",
       "      <td>1.0</td>\n",
       "      <td>1.0</td>\n",
       "      <td>1.0</td>\n",
       "    </tr>\n",
       "    <tr>\n",
       "      <th>136</th>\n",
       "      <td>llama3_3b_chat</td>\n",
       "      <td>gsm8k</td>\n",
       "      <td>cot_3_shot</td>\n",
       "      <td>main</td>\n",
       "      <td>prompt_only</td>\n",
       "      <td>27</td>\n",
       "      <td>1</td>\n",
       "      <td>9.218114</td>\n",
       "      <td>9.218114</td>\n",
       "      <td>1.0</td>\n",
       "      <td>...</td>\n",
       "      <td>1.0</td>\n",
       "      <td>1.0</td>\n",
       "      <td>1.000000</td>\n",
       "      <td>0.5</td>\n",
       "      <td>0.999593</td>\n",
       "      <td>1.0</td>\n",
       "      <td>1.0</td>\n",
       "      <td>1.0</td>\n",
       "      <td>1.0</td>\n",
       "      <td>1.0</td>\n",
       "    </tr>\n",
       "    <tr>\n",
       "      <th>137</th>\n",
       "      <td>llama3_3b_chat</td>\n",
       "      <td>gsm8k</td>\n",
       "      <td>cot_3_shot</td>\n",
       "      <td>main</td>\n",
       "      <td>prompt_only</td>\n",
       "      <td>27</td>\n",
       "      <td>2</td>\n",
       "      <td>9.218114</td>\n",
       "      <td>9.218114</td>\n",
       "      <td>1.0</td>\n",
       "      <td>...</td>\n",
       "      <td>1.0</td>\n",
       "      <td>1.0</td>\n",
       "      <td>1.000000</td>\n",
       "      <td>0.5</td>\n",
       "      <td>0.999593</td>\n",
       "      <td>1.0</td>\n",
       "      <td>1.0</td>\n",
       "      <td>1.0</td>\n",
       "      <td>1.0</td>\n",
       "      <td>1.0</td>\n",
       "    </tr>\n",
       "    <tr>\n",
       "      <th>138</th>\n",
       "      <td>llama3_3b_chat</td>\n",
       "      <td>gsm8k</td>\n",
       "      <td>cot_3_shot</td>\n",
       "      <td>main</td>\n",
       "      <td>prompt_only</td>\n",
       "      <td>27</td>\n",
       "      <td>3</td>\n",
       "      <td>9.218114</td>\n",
       "      <td>9.218114</td>\n",
       "      <td>1.0</td>\n",
       "      <td>...</td>\n",
       "      <td>1.0</td>\n",
       "      <td>1.0</td>\n",
       "      <td>1.000000</td>\n",
       "      <td>0.5</td>\n",
       "      <td>0.999593</td>\n",
       "      <td>1.0</td>\n",
       "      <td>1.0</td>\n",
       "      <td>1.0</td>\n",
       "      <td>1.0</td>\n",
       "      <td>1.0</td>\n",
       "    </tr>\n",
       "    <tr>\n",
       "      <th>139</th>\n",
       "      <td>llama3_3b_chat</td>\n",
       "      <td>gsm8k</td>\n",
       "      <td>cot_3_shot</td>\n",
       "      <td>main</td>\n",
       "      <td>prompt_only</td>\n",
       "      <td>27</td>\n",
       "      <td>4</td>\n",
       "      <td>9.218114</td>\n",
       "      <td>9.218114</td>\n",
       "      <td>1.0</td>\n",
       "      <td>...</td>\n",
       "      <td>1.0</td>\n",
       "      <td>1.0</td>\n",
       "      <td>1.000000</td>\n",
       "      <td>0.5</td>\n",
       "      <td>0.999593</td>\n",
       "      <td>1.0</td>\n",
       "      <td>1.0</td>\n",
       "      <td>1.0</td>\n",
       "      <td>1.0</td>\n",
       "      <td>1.0</td>\n",
       "    </tr>\n",
       "  </tbody>\n",
       "</table>\n",
       "<p>140 rows × 21 columns</p>\n",
       "</div>"
      ],
      "text/plain": [
       "           model_id dataset_id   prompt_id subset_id   input_type  layer  \\\n",
       "0    llama3_3b_chat      gsm8k  cot_3_shot      main  prompt_only      0   \n",
       "1    llama3_3b_chat      gsm8k  cot_3_shot      main  prompt_only      0   \n",
       "2    llama3_3b_chat      gsm8k  cot_3_shot      main  prompt_only      0   \n",
       "3    llama3_3b_chat      gsm8k  cot_3_shot      main  prompt_only      0   \n",
       "4    llama3_3b_chat      gsm8k  cot_3_shot      main  prompt_only      0   \n",
       "..              ...        ...         ...       ...          ...    ...   \n",
       "135  llama3_3b_chat      gsm8k  cot_3_shot      main  prompt_only     27   \n",
       "136  llama3_3b_chat      gsm8k  cot_3_shot      main  prompt_only     27   \n",
       "137  llama3_3b_chat      gsm8k  cot_3_shot      main  prompt_only     27   \n",
       "138  llama3_3b_chat      gsm8k  cot_3_shot      main  prompt_only     27   \n",
       "139  llama3_3b_chat      gsm8k  cot_3_shot      main  prompt_only     27   \n",
       "\n",
       "     fold  direction_optimal_cut  direction_optimal_train_set_cut  \\\n",
       "0       0               0.017149                         0.017149   \n",
       "1       1               0.017149                         0.017149   \n",
       "2       2               0.017149                         0.017149   \n",
       "3       3               0.017149                         0.017149   \n",
       "4       4               0.017149                         0.017149   \n",
       "..    ...                    ...                              ...   \n",
       "135     0               9.218114                         9.218114   \n",
       "136     1               9.218114                         9.218114   \n",
       "137     2               9.218114                         9.218114   \n",
       "138     3               9.218114                         9.218114   \n",
       "139     4               9.218114                         9.218114   \n",
       "\n",
       "     direction_test_roc_auc  ...  direction_f1_score  \\\n",
       "0                       1.0  ...                 0.8   \n",
       "1                       1.0  ...                 0.8   \n",
       "2                       1.0  ...                 0.8   \n",
       "3                       1.0  ...                 0.8   \n",
       "4                       1.0  ...                 0.8   \n",
       "..                      ...  ...                 ...   \n",
       "135                     1.0  ...                 1.0   \n",
       "136                     1.0  ...                 1.0   \n",
       "137                     1.0  ...                 1.0   \n",
       "138                     1.0  ...                 1.0   \n",
       "139                     1.0  ...                 1.0   \n",
       "\n",
       "     direction_precision_score  direction_recall_score  \\\n",
       "0                          1.0                0.666667   \n",
       "1                          1.0                0.666667   \n",
       "2                          1.0                0.666667   \n",
       "3                          1.0                0.666667   \n",
       "4                          1.0                0.666667   \n",
       "..                         ...                     ...   \n",
       "135                        1.0                1.000000   \n",
       "136                        1.0                1.000000   \n",
       "137                        1.0                1.000000   \n",
       "138                        1.0                1.000000   \n",
       "139                        1.0                1.000000   \n",
       "\n",
       "     logistic_regression_optimal_cut  \\\n",
       "0                                0.5   \n",
       "1                                0.5   \n",
       "2                                0.5   \n",
       "3                                0.5   \n",
       "4                                0.5   \n",
       "..                               ...   \n",
       "135                              0.5   \n",
       "136                              0.5   \n",
       "137                              0.5   \n",
       "138                              0.5   \n",
       "139                              0.5   \n",
       "\n",
       "     logistic_regression_optimal_train_set_cut  \\\n",
       "0                                     0.999421   \n",
       "1                                     0.999421   \n",
       "2                                     0.999421   \n",
       "3                                     0.999421   \n",
       "4                                     0.999421   \n",
       "..                                         ...   \n",
       "135                                   0.999593   \n",
       "136                                   0.999593   \n",
       "137                                   0.999593   \n",
       "138                                   0.999593   \n",
       "139                                   0.999593   \n",
       "\n",
       "     logistic_regression_test_roc_auc  logistic_regression_accuracy_score  \\\n",
       "0                                 1.0                                 1.0   \n",
       "1                                 1.0                                 1.0   \n",
       "2                                 1.0                                 1.0   \n",
       "3                                 1.0                                 1.0   \n",
       "4                                 1.0                                 1.0   \n",
       "..                                ...                                 ...   \n",
       "135                               1.0                                 1.0   \n",
       "136                               1.0                                 1.0   \n",
       "137                               1.0                                 1.0   \n",
       "138                               1.0                                 1.0   \n",
       "139                               1.0                                 1.0   \n",
       "\n",
       "     logistic_regression_f1_score  logistic_regression_precision_score  \\\n",
       "0                             1.0                                  1.0   \n",
       "1                             1.0                                  1.0   \n",
       "2                             1.0                                  1.0   \n",
       "3                             1.0                                  1.0   \n",
       "4                             1.0                                  1.0   \n",
       "..                            ...                                  ...   \n",
       "135                           1.0                                  1.0   \n",
       "136                           1.0                                  1.0   \n",
       "137                           1.0                                  1.0   \n",
       "138                           1.0                                  1.0   \n",
       "139                           1.0                                  1.0   \n",
       "\n",
       "     logistic_regression_recall_score  \n",
       "0                                 1.0  \n",
       "1                                 1.0  \n",
       "2                                 1.0  \n",
       "3                                 1.0  \n",
       "4                                 1.0  \n",
       "..                                ...  \n",
       "135                               1.0  \n",
       "136                               1.0  \n",
       "137                               1.0  \n",
       "138                               1.0  \n",
       "139                               1.0  \n",
       "\n",
       "[140 rows x 21 columns]"
      ]
     },
     "execution_count": 48,
     "metadata": {},
     "output_type": "execute_result"
    }
   ],
   "source": [
    "\n",
    "res_dict = defaultdict(list)\n",
    "\n",
    "for (model_id, dataset_id, prompt_id, subset_id, input_type), config_df in activation_exp_configs_df.groupby([\"model_id\", \"dataset_id\", \"prompt_id\", \"subset_id\", \"input_type\"]):\n",
    "    print(f\"\\n{model_id=}, {dataset_id=}, {prompt_id=}, {subset_id=}, {input_type=}\")\n",
    "    labels_df = load_labels(\n",
    "        model_id=model_id,\n",
    "        dataset_id=dataset_id,\n",
    "        prompt_id=prompt_id,\n",
    "        subset_id=subset_id,\n",
    "    )\n",
    "\n",
    "    check_indices = None\n",
    "    for layer in config_df[\"layer\"].astype(int).sort_values():\n",
    "        print(f\"{layer=}\", end=\", \")\n",
    "        activations, indices = load_activations(\n",
    "            model_id=model_id,\n",
    "            dataset_id=dataset_id,\n",
    "            prompt_id=prompt_id,\n",
    "            subset_id=subset_id,\n",
    "            input_type=input_type,\n",
    "            layer=layer,\n",
    "        )\n",
    "        \n",
    "        if check_indices is None:\n",
    "            check_indices = indices.sample(frac=1, replace=False)\n",
    "        \n",
    "        if set(indices) != set(check_indices):\n",
    "            raise RuntimeError(f\"indices across layers are not the same\")\n",
    "\n",
    "        labels_df_subset = labels_df.iloc[check_indices]\n",
    "        activations = activations[check_indices]\n",
    "        \n",
    "        labels_df_subset = pd.concat([labels_df_subset]*10, axis=0)\n",
    "        activations = pt.cat([activations]*10, dim=0)\n",
    "\n",
    "        activations_handler = ActivationsHandler(\n",
    "            activations=activations,\n",
    "            labels=labels_df_subset[\"correct\"].astype(bool),\n",
    "        )\n",
    "\n",
    "        activations_handler_folds = list(\n",
    "            activations_handler.split_dataset(split_sizes=[1/5] * 5)\n",
    "        )\n",
    "\n",
    "        fold_stats = {}\n",
    "        for fold_i, activations_handler_test in enumerate(activations_handler_folds):\n",
    "            activations_handler_train = combine_activations_handlers(\n",
    "                [ah for j, ah in enumerate(activations_handler_folds) if j != fold_i]\n",
    "            ).sample_equally_across_groups(\n",
    "                group_labels=[False, True]\n",
    "            )\n",
    "            activations_handler_test = activations_handler_test.sample_equally_across_groups(\n",
    "                group_labels=[False, True]\n",
    "            )\n",
    "\n",
    "            res_dict[\"model_id\"].append(model_id)\n",
    "            res_dict[\"dataset_id\"].append(dataset_id)\n",
    "            res_dict[\"prompt_id\"].append(prompt_id)\n",
    "            res_dict[\"subset_id\"].append(subset_id)\n",
    "            res_dict[\"input_type\"].append(input_type)\n",
    "            res_dict[\"layer\"].append(layer)\n",
    "            res_dict[f\"fold\"].append(fold_i)\n",
    "\n",
    "            direction_classifier, direction_calculator = get_correctness_direction_classifier(\n",
    "                activations_handler_train=activations_handler_train,\n",
    "                activations_handler_test=activations_handler_test,\n",
    "            )\n",
    "            # res_dict[\"classifying_direction\"].append(direction_calculator.classifying_direction.tolist())\n",
    "            for key, value in direction_classifier.classification_metrics.items():\n",
    "                res_dict[f\"direction_{key}\"].append(value)\n",
    "            \n",
    "            for key, value in get_logistic_regression_classifier(\n",
    "                    activations_handler_train=activations_handler_train,\n",
    "                    activations_handler_test=activations_handler_test,\n",
    "                )[0].classification_metrics.items():\n",
    "                res_dict[f\"logistic_regression_{key}\"].append(value)\n",
    "\n",
    "\n",
    "\n",
    "res_df = pd.DataFrame(res_dict)\n",
    "res_df"
   ]
  },
  {
   "cell_type": "code",
   "execution_count": 45,
   "metadata": {},
   "outputs": [],
   "source": [
    "\n",
    "import plotly.graph_objects as go\n",
    "def plot_interactive_lineplot(df, x_label, y_label, title=None):\n",
    "    fig = go.Figure()\n",
    "    \n",
    "    # Calculate statistics for each column\n",
    "    means = df.mean(axis=1)\n",
    "\n",
    "    # Add mean line\n",
    "    fig.add_trace(go.Scatter(\n",
    "        x=df.index,\n",
    "        y=means,\n",
    "        mode='lines+markers',\n",
    "        line=dict(color='#1f77b4', width=2),\n",
    "        marker=dict(size=8),\n",
    "        name='Mean'\n",
    "    ))\n",
    "\n",
    "    if df.shape[1] > 1:\n",
    "        multiple_vals = True\n",
    "        stds = df.std(axis=1)\n",
    "        mins = df.min(axis=1)\n",
    "        maxs = df.max(axis=1)\n",
    "    else:\n",
    "        multiple_vals = False\n",
    "    \n",
    "    if multiple_vals:\n",
    "    # Add min/max range (very faint)\n",
    "        fig.add_trace(go.Scatter(\n",
    "            x=df.index,\n",
    "            y=maxs,\n",
    "            mode='lines',\n",
    "            line=dict(width=0),\n",
    "            showlegend=False,\n",
    "            name='Max'\n",
    "        ))\n",
    "        fig.add_trace(go.Scatter(\n",
    "            x=df.index,\n",
    "            y=mins,\n",
    "            mode='lines',\n",
    "            line=dict(width=0),\n",
    "            fillcolor='rgba(68, 138, 255, 0.1)',  # Very faint blue\n",
    "            fill='tonexty',\n",
    "            showlegend=False,\n",
    "            name='Min'\n",
    "        ))\n",
    "    \n",
    "        # Add ±1 std range (moderately faint)\n",
    "        fig.add_trace(go.Scatter(\n",
    "            x=df.index,\n",
    "            y=means + stds,\n",
    "            mode='lines',\n",
    "            line=dict(width=0),\n",
    "            showlegend=False,\n",
    "            name='+1 STD'\n",
    "        ))\n",
    "        fig.add_trace(go.Scatter(\n",
    "            x=df.index,\n",
    "            y=means - stds,\n",
    "            mode='lines',\n",
    "            line=dict(width=0),\n",
    "            fillcolor='rgba(68, 138, 255, 0.3)',  # Slightly more visible blue\n",
    "            fill='tonexty',\n",
    "            showlegend=False,\n",
    "            name='-1 STD'\n",
    "        ))\n",
    "        \n",
    "\n",
    "    \n",
    "        # Add individual points for each fold\n",
    "        for col in df.columns:\n",
    "            fig.add_trace(go.Scatter(\n",
    "                x=df.index,\n",
    "                y=df[col],\n",
    "                mode='markers',\n",
    "                marker=dict(\n",
    "                    color='#1f77b4',\n",
    "                    size=6,\n",
    "                    opacity=0.5\n",
    "                ),\n",
    "                showlegend=False,\n",
    "                name=f'Fold {col}'\n",
    "            ))\n",
    "    \n",
    "    fig.update_layout(\n",
    "        title=title,\n",
    "        yaxis_title=y_label,\n",
    "        xaxis_title=x_label,\n",
    "        template='plotly_dark',\n",
    "        plot_bgcolor='rgba(32, 32, 32, 1)',\n",
    "        paper_bgcolor='rgba(32, 32, 32, 1)',\n",
    "        font=dict(color='white'),\n",
    "        margin=dict(t=50, l=50, r=30),\n",
    "        showlegend=False\n",
    "    )\n",
    "    \n",
    "    # Update axes for consistency with dark theme\n",
    "    fig.update_xaxes(gridcolor='rgba(128, 128, 128, 0.2)', zeroline=False)\n",
    "    fig.update_yaxes(gridcolor='rgba(128, 128, 128, 0.2)', zeroline=False)\n",
    "    \n",
    "    return fig\n",
    "\n"
   ]
  },
  {
   "cell_type": "code",
   "execution_count": 46,
   "metadata": {},
   "outputs": [
    {
     "data": {
      "text/html": [
       "<div>\n",
       "<style scoped>\n",
       "    .dataframe tbody tr th:only-of-type {\n",
       "        vertical-align: middle;\n",
       "    }\n",
       "\n",
       "    .dataframe tbody tr th {\n",
       "        vertical-align: top;\n",
       "    }\n",
       "\n",
       "    .dataframe thead tr th {\n",
       "        text-align: left;\n",
       "    }\n",
       "\n",
       "    .dataframe thead tr:last-of-type th {\n",
       "        text-align: right;\n",
       "    }\n",
       "</style>\n",
       "<table border=\"1\" class=\"dataframe\">\n",
       "  <thead>\n",
       "    <tr>\n",
       "      <th></th>\n",
       "      <th colspan=\"5\" halign=\"left\">direction_optimal_cut</th>\n",
       "      <th colspan=\"5\" halign=\"left\">direction_optimal_train_set_cut</th>\n",
       "      <th>...</th>\n",
       "      <th colspan=\"5\" halign=\"left\">logistic_regression_precision_score</th>\n",
       "      <th colspan=\"5\" halign=\"left\">logistic_regression_recall_score</th>\n",
       "    </tr>\n",
       "    <tr>\n",
       "      <th>fold</th>\n",
       "      <th>0</th>\n",
       "      <th>1</th>\n",
       "      <th>2</th>\n",
       "      <th>3</th>\n",
       "      <th>4</th>\n",
       "      <th>0</th>\n",
       "      <th>1</th>\n",
       "      <th>2</th>\n",
       "      <th>3</th>\n",
       "      <th>4</th>\n",
       "      <th>...</th>\n",
       "      <th>0</th>\n",
       "      <th>1</th>\n",
       "      <th>2</th>\n",
       "      <th>3</th>\n",
       "      <th>4</th>\n",
       "      <th>0</th>\n",
       "      <th>1</th>\n",
       "      <th>2</th>\n",
       "      <th>3</th>\n",
       "      <th>4</th>\n",
       "    </tr>\n",
       "    <tr>\n",
       "      <th>layer</th>\n",
       "      <th></th>\n",
       "      <th></th>\n",
       "      <th></th>\n",
       "      <th></th>\n",
       "      <th></th>\n",
       "      <th></th>\n",
       "      <th></th>\n",
       "      <th></th>\n",
       "      <th></th>\n",
       "      <th></th>\n",
       "      <th></th>\n",
       "      <th></th>\n",
       "      <th></th>\n",
       "      <th></th>\n",
       "      <th></th>\n",
       "      <th></th>\n",
       "      <th></th>\n",
       "      <th></th>\n",
       "      <th></th>\n",
       "      <th></th>\n",
       "      <th></th>\n",
       "    </tr>\n",
       "  </thead>\n",
       "  <tbody>\n",
       "    <tr>\n",
       "      <th>0</th>\n",
       "      <td>0.018484</td>\n",
       "      <td>0.018484</td>\n",
       "      <td>0.018484</td>\n",
       "      <td>0.018484</td>\n",
       "      <td>0.018484</td>\n",
       "      <td>0.018484</td>\n",
       "      <td>0.018484</td>\n",
       "      <td>0.018484</td>\n",
       "      <td>0.018484</td>\n",
       "      <td>0.018484</td>\n",
       "      <td>...</td>\n",
       "      <td>1.0</td>\n",
       "      <td>1.0</td>\n",
       "      <td>1.0</td>\n",
       "      <td>1.0</td>\n",
       "      <td>1.0</td>\n",
       "      <td>1.0</td>\n",
       "      <td>1.0</td>\n",
       "      <td>1.0</td>\n",
       "      <td>1.0</td>\n",
       "      <td>1.0</td>\n",
       "    </tr>\n",
       "    <tr>\n",
       "      <th>1</th>\n",
       "      <td>0.018109</td>\n",
       "      <td>0.018109</td>\n",
       "      <td>0.018109</td>\n",
       "      <td>0.018109</td>\n",
       "      <td>0.018109</td>\n",
       "      <td>0.018109</td>\n",
       "      <td>0.018109</td>\n",
       "      <td>0.018109</td>\n",
       "      <td>0.018109</td>\n",
       "      <td>0.018109</td>\n",
       "      <td>...</td>\n",
       "      <td>1.0</td>\n",
       "      <td>1.0</td>\n",
       "      <td>1.0</td>\n",
       "      <td>1.0</td>\n",
       "      <td>1.0</td>\n",
       "      <td>1.0</td>\n",
       "      <td>1.0</td>\n",
       "      <td>1.0</td>\n",
       "      <td>1.0</td>\n",
       "      <td>1.0</td>\n",
       "    </tr>\n",
       "    <tr>\n",
       "      <th>2</th>\n",
       "      <td>0.026479</td>\n",
       "      <td>0.026479</td>\n",
       "      <td>0.026479</td>\n",
       "      <td>0.026479</td>\n",
       "      <td>0.026479</td>\n",
       "      <td>0.026479</td>\n",
       "      <td>0.026479</td>\n",
       "      <td>0.026479</td>\n",
       "      <td>0.026479</td>\n",
       "      <td>0.026479</td>\n",
       "      <td>...</td>\n",
       "      <td>1.0</td>\n",
       "      <td>1.0</td>\n",
       "      <td>1.0</td>\n",
       "      <td>1.0</td>\n",
       "      <td>1.0</td>\n",
       "      <td>1.0</td>\n",
       "      <td>1.0</td>\n",
       "      <td>1.0</td>\n",
       "      <td>1.0</td>\n",
       "      <td>1.0</td>\n",
       "    </tr>\n",
       "    <tr>\n",
       "      <th>3</th>\n",
       "      <td>0.067752</td>\n",
       "      <td>0.067752</td>\n",
       "      <td>0.067752</td>\n",
       "      <td>0.067752</td>\n",
       "      <td>0.067752</td>\n",
       "      <td>0.067752</td>\n",
       "      <td>0.067752</td>\n",
       "      <td>0.067752</td>\n",
       "      <td>0.067752</td>\n",
       "      <td>0.067752</td>\n",
       "      <td>...</td>\n",
       "      <td>1.0</td>\n",
       "      <td>1.0</td>\n",
       "      <td>1.0</td>\n",
       "      <td>1.0</td>\n",
       "      <td>1.0</td>\n",
       "      <td>1.0</td>\n",
       "      <td>1.0</td>\n",
       "      <td>1.0</td>\n",
       "      <td>1.0</td>\n",
       "      <td>1.0</td>\n",
       "    </tr>\n",
       "    <tr>\n",
       "      <th>4</th>\n",
       "      <td>0.117733</td>\n",
       "      <td>0.117733</td>\n",
       "      <td>0.117733</td>\n",
       "      <td>0.117733</td>\n",
       "      <td>0.117733</td>\n",
       "      <td>0.117733</td>\n",
       "      <td>0.117733</td>\n",
       "      <td>0.117733</td>\n",
       "      <td>0.117733</td>\n",
       "      <td>0.117733</td>\n",
       "      <td>...</td>\n",
       "      <td>1.0</td>\n",
       "      <td>1.0</td>\n",
       "      <td>1.0</td>\n",
       "      <td>1.0</td>\n",
       "      <td>1.0</td>\n",
       "      <td>1.0</td>\n",
       "      <td>1.0</td>\n",
       "      <td>1.0</td>\n",
       "      <td>1.0</td>\n",
       "      <td>1.0</td>\n",
       "    </tr>\n",
       "    <tr>\n",
       "      <th>5</th>\n",
       "      <td>0.220754</td>\n",
       "      <td>0.220754</td>\n",
       "      <td>0.220754</td>\n",
       "      <td>0.220754</td>\n",
       "      <td>0.220754</td>\n",
       "      <td>0.220754</td>\n",
       "      <td>0.220754</td>\n",
       "      <td>0.220754</td>\n",
       "      <td>0.220754</td>\n",
       "      <td>0.220754</td>\n",
       "      <td>...</td>\n",
       "      <td>1.0</td>\n",
       "      <td>1.0</td>\n",
       "      <td>1.0</td>\n",
       "      <td>1.0</td>\n",
       "      <td>1.0</td>\n",
       "      <td>1.0</td>\n",
       "      <td>1.0</td>\n",
       "      <td>1.0</td>\n",
       "      <td>1.0</td>\n",
       "      <td>1.0</td>\n",
       "    </tr>\n",
       "    <tr>\n",
       "      <th>6</th>\n",
       "      <td>0.258142</td>\n",
       "      <td>0.258142</td>\n",
       "      <td>0.258142</td>\n",
       "      <td>0.258142</td>\n",
       "      <td>0.258142</td>\n",
       "      <td>0.258142</td>\n",
       "      <td>0.258142</td>\n",
       "      <td>0.258142</td>\n",
       "      <td>0.258142</td>\n",
       "      <td>0.258142</td>\n",
       "      <td>...</td>\n",
       "      <td>1.0</td>\n",
       "      <td>1.0</td>\n",
       "      <td>1.0</td>\n",
       "      <td>1.0</td>\n",
       "      <td>1.0</td>\n",
       "      <td>1.0</td>\n",
       "      <td>1.0</td>\n",
       "      <td>1.0</td>\n",
       "      <td>1.0</td>\n",
       "      <td>1.0</td>\n",
       "    </tr>\n",
       "    <tr>\n",
       "      <th>7</th>\n",
       "      <td>0.238972</td>\n",
       "      <td>0.238972</td>\n",
       "      <td>0.238972</td>\n",
       "      <td>0.238972</td>\n",
       "      <td>0.238972</td>\n",
       "      <td>0.238972</td>\n",
       "      <td>0.238972</td>\n",
       "      <td>0.238972</td>\n",
       "      <td>0.238972</td>\n",
       "      <td>0.238972</td>\n",
       "      <td>...</td>\n",
       "      <td>1.0</td>\n",
       "      <td>1.0</td>\n",
       "      <td>1.0</td>\n",
       "      <td>1.0</td>\n",
       "      <td>1.0</td>\n",
       "      <td>1.0</td>\n",
       "      <td>1.0</td>\n",
       "      <td>1.0</td>\n",
       "      <td>1.0</td>\n",
       "      <td>1.0</td>\n",
       "    </tr>\n",
       "    <tr>\n",
       "      <th>8</th>\n",
       "      <td>0.282022</td>\n",
       "      <td>0.282022</td>\n",
       "      <td>0.282022</td>\n",
       "      <td>0.282022</td>\n",
       "      <td>0.282022</td>\n",
       "      <td>0.282022</td>\n",
       "      <td>0.282022</td>\n",
       "      <td>0.282022</td>\n",
       "      <td>0.282022</td>\n",
       "      <td>0.282022</td>\n",
       "      <td>...</td>\n",
       "      <td>1.0</td>\n",
       "      <td>1.0</td>\n",
       "      <td>1.0</td>\n",
       "      <td>1.0</td>\n",
       "      <td>1.0</td>\n",
       "      <td>1.0</td>\n",
       "      <td>1.0</td>\n",
       "      <td>1.0</td>\n",
       "      <td>1.0</td>\n",
       "      <td>1.0</td>\n",
       "    </tr>\n",
       "    <tr>\n",
       "      <th>9</th>\n",
       "      <td>0.379920</td>\n",
       "      <td>0.379920</td>\n",
       "      <td>0.379920</td>\n",
       "      <td>0.379920</td>\n",
       "      <td>0.379920</td>\n",
       "      <td>0.379920</td>\n",
       "      <td>0.379920</td>\n",
       "      <td>0.379920</td>\n",
       "      <td>0.379920</td>\n",
       "      <td>0.379920</td>\n",
       "      <td>...</td>\n",
       "      <td>1.0</td>\n",
       "      <td>1.0</td>\n",
       "      <td>1.0</td>\n",
       "      <td>1.0</td>\n",
       "      <td>1.0</td>\n",
       "      <td>1.0</td>\n",
       "      <td>1.0</td>\n",
       "      <td>1.0</td>\n",
       "      <td>1.0</td>\n",
       "      <td>1.0</td>\n",
       "    </tr>\n",
       "    <tr>\n",
       "      <th>10</th>\n",
       "      <td>0.425370</td>\n",
       "      <td>0.425370</td>\n",
       "      <td>0.425370</td>\n",
       "      <td>0.425370</td>\n",
       "      <td>0.425370</td>\n",
       "      <td>0.425370</td>\n",
       "      <td>0.425370</td>\n",
       "      <td>0.425370</td>\n",
       "      <td>0.425370</td>\n",
       "      <td>0.425370</td>\n",
       "      <td>...</td>\n",
       "      <td>1.0</td>\n",
       "      <td>1.0</td>\n",
       "      <td>1.0</td>\n",
       "      <td>1.0</td>\n",
       "      <td>1.0</td>\n",
       "      <td>1.0</td>\n",
       "      <td>1.0</td>\n",
       "      <td>1.0</td>\n",
       "      <td>1.0</td>\n",
       "      <td>1.0</td>\n",
       "    </tr>\n",
       "    <tr>\n",
       "      <th>11</th>\n",
       "      <td>0.486659</td>\n",
       "      <td>0.486659</td>\n",
       "      <td>0.486659</td>\n",
       "      <td>0.486659</td>\n",
       "      <td>0.486659</td>\n",
       "      <td>0.486659</td>\n",
       "      <td>0.486659</td>\n",
       "      <td>0.486659</td>\n",
       "      <td>0.486659</td>\n",
       "      <td>0.486659</td>\n",
       "      <td>...</td>\n",
       "      <td>1.0</td>\n",
       "      <td>1.0</td>\n",
       "      <td>1.0</td>\n",
       "      <td>1.0</td>\n",
       "      <td>1.0</td>\n",
       "      <td>1.0</td>\n",
       "      <td>1.0</td>\n",
       "      <td>1.0</td>\n",
       "      <td>1.0</td>\n",
       "      <td>1.0</td>\n",
       "    </tr>\n",
       "    <tr>\n",
       "      <th>12</th>\n",
       "      <td>0.279405</td>\n",
       "      <td>0.279405</td>\n",
       "      <td>0.279405</td>\n",
       "      <td>0.279405</td>\n",
       "      <td>0.279405</td>\n",
       "      <td>0.279405</td>\n",
       "      <td>0.279405</td>\n",
       "      <td>0.279405</td>\n",
       "      <td>0.279405</td>\n",
       "      <td>0.279405</td>\n",
       "      <td>...</td>\n",
       "      <td>1.0</td>\n",
       "      <td>1.0</td>\n",
       "      <td>1.0</td>\n",
       "      <td>1.0</td>\n",
       "      <td>1.0</td>\n",
       "      <td>1.0</td>\n",
       "      <td>1.0</td>\n",
       "      <td>1.0</td>\n",
       "      <td>1.0</td>\n",
       "      <td>1.0</td>\n",
       "    </tr>\n",
       "    <tr>\n",
       "      <th>13</th>\n",
       "      <td>0.475915</td>\n",
       "      <td>0.475915</td>\n",
       "      <td>0.475915</td>\n",
       "      <td>0.475915</td>\n",
       "      <td>0.475915</td>\n",
       "      <td>0.475915</td>\n",
       "      <td>0.475915</td>\n",
       "      <td>0.475915</td>\n",
       "      <td>0.475915</td>\n",
       "      <td>0.475915</td>\n",
       "      <td>...</td>\n",
       "      <td>1.0</td>\n",
       "      <td>1.0</td>\n",
       "      <td>1.0</td>\n",
       "      <td>1.0</td>\n",
       "      <td>1.0</td>\n",
       "      <td>1.0</td>\n",
       "      <td>1.0</td>\n",
       "      <td>1.0</td>\n",
       "      <td>1.0</td>\n",
       "      <td>1.0</td>\n",
       "    </tr>\n",
       "    <tr>\n",
       "      <th>14</th>\n",
       "      <td>0.631386</td>\n",
       "      <td>0.631386</td>\n",
       "      <td>0.631386</td>\n",
       "      <td>0.631386</td>\n",
       "      <td>0.631386</td>\n",
       "      <td>0.631386</td>\n",
       "      <td>0.631386</td>\n",
       "      <td>0.631386</td>\n",
       "      <td>0.631386</td>\n",
       "      <td>0.631386</td>\n",
       "      <td>...</td>\n",
       "      <td>1.0</td>\n",
       "      <td>1.0</td>\n",
       "      <td>1.0</td>\n",
       "      <td>1.0</td>\n",
       "      <td>1.0</td>\n",
       "      <td>1.0</td>\n",
       "      <td>1.0</td>\n",
       "      <td>1.0</td>\n",
       "      <td>1.0</td>\n",
       "      <td>1.0</td>\n",
       "    </tr>\n",
       "    <tr>\n",
       "      <th>15</th>\n",
       "      <td>1.170434</td>\n",
       "      <td>1.170434</td>\n",
       "      <td>1.170434</td>\n",
       "      <td>1.170434</td>\n",
       "      <td>1.170434</td>\n",
       "      <td>1.170434</td>\n",
       "      <td>1.170434</td>\n",
       "      <td>1.170434</td>\n",
       "      <td>1.170434</td>\n",
       "      <td>1.170434</td>\n",
       "      <td>...</td>\n",
       "      <td>1.0</td>\n",
       "      <td>1.0</td>\n",
       "      <td>1.0</td>\n",
       "      <td>1.0</td>\n",
       "      <td>1.0</td>\n",
       "      <td>1.0</td>\n",
       "      <td>1.0</td>\n",
       "      <td>1.0</td>\n",
       "      <td>1.0</td>\n",
       "      <td>1.0</td>\n",
       "    </tr>\n",
       "    <tr>\n",
       "      <th>16</th>\n",
       "      <td>1.559813</td>\n",
       "      <td>1.559813</td>\n",
       "      <td>1.559813</td>\n",
       "      <td>1.559813</td>\n",
       "      <td>1.559813</td>\n",
       "      <td>1.559813</td>\n",
       "      <td>1.559813</td>\n",
       "      <td>1.559813</td>\n",
       "      <td>1.559813</td>\n",
       "      <td>1.559813</td>\n",
       "      <td>...</td>\n",
       "      <td>1.0</td>\n",
       "      <td>1.0</td>\n",
       "      <td>1.0</td>\n",
       "      <td>1.0</td>\n",
       "      <td>1.0</td>\n",
       "      <td>1.0</td>\n",
       "      <td>1.0</td>\n",
       "      <td>1.0</td>\n",
       "      <td>1.0</td>\n",
       "      <td>1.0</td>\n",
       "    </tr>\n",
       "    <tr>\n",
       "      <th>17</th>\n",
       "      <td>1.591349</td>\n",
       "      <td>1.591349</td>\n",
       "      <td>1.591349</td>\n",
       "      <td>1.591349</td>\n",
       "      <td>1.591349</td>\n",
       "      <td>1.591349</td>\n",
       "      <td>1.591349</td>\n",
       "      <td>1.591349</td>\n",
       "      <td>1.591349</td>\n",
       "      <td>1.591349</td>\n",
       "      <td>...</td>\n",
       "      <td>1.0</td>\n",
       "      <td>1.0</td>\n",
       "      <td>1.0</td>\n",
       "      <td>1.0</td>\n",
       "      <td>1.0</td>\n",
       "      <td>1.0</td>\n",
       "      <td>1.0</td>\n",
       "      <td>1.0</td>\n",
       "      <td>1.0</td>\n",
       "      <td>1.0</td>\n",
       "    </tr>\n",
       "    <tr>\n",
       "      <th>18</th>\n",
       "      <td>1.702580</td>\n",
       "      <td>1.702580</td>\n",
       "      <td>1.702580</td>\n",
       "      <td>1.702580</td>\n",
       "      <td>1.702580</td>\n",
       "      <td>1.702580</td>\n",
       "      <td>1.702580</td>\n",
       "      <td>1.702580</td>\n",
       "      <td>1.702580</td>\n",
       "      <td>1.702580</td>\n",
       "      <td>...</td>\n",
       "      <td>1.0</td>\n",
       "      <td>1.0</td>\n",
       "      <td>1.0</td>\n",
       "      <td>1.0</td>\n",
       "      <td>1.0</td>\n",
       "      <td>1.0</td>\n",
       "      <td>1.0</td>\n",
       "      <td>1.0</td>\n",
       "      <td>1.0</td>\n",
       "      <td>1.0</td>\n",
       "    </tr>\n",
       "    <tr>\n",
       "      <th>19</th>\n",
       "      <td>2.382833</td>\n",
       "      <td>2.382833</td>\n",
       "      <td>2.382833</td>\n",
       "      <td>2.382833</td>\n",
       "      <td>2.382833</td>\n",
       "      <td>2.382833</td>\n",
       "      <td>2.382833</td>\n",
       "      <td>2.382833</td>\n",
       "      <td>2.382833</td>\n",
       "      <td>2.382833</td>\n",
       "      <td>...</td>\n",
       "      <td>1.0</td>\n",
       "      <td>1.0</td>\n",
       "      <td>1.0</td>\n",
       "      <td>1.0</td>\n",
       "      <td>1.0</td>\n",
       "      <td>1.0</td>\n",
       "      <td>1.0</td>\n",
       "      <td>1.0</td>\n",
       "      <td>1.0</td>\n",
       "      <td>1.0</td>\n",
       "    </tr>\n",
       "    <tr>\n",
       "      <th>20</th>\n",
       "      <td>3.148934</td>\n",
       "      <td>3.148934</td>\n",
       "      <td>3.148934</td>\n",
       "      <td>3.148934</td>\n",
       "      <td>3.148934</td>\n",
       "      <td>3.148934</td>\n",
       "      <td>3.148934</td>\n",
       "      <td>3.148934</td>\n",
       "      <td>3.148934</td>\n",
       "      <td>3.148934</td>\n",
       "      <td>...</td>\n",
       "      <td>1.0</td>\n",
       "      <td>1.0</td>\n",
       "      <td>1.0</td>\n",
       "      <td>1.0</td>\n",
       "      <td>1.0</td>\n",
       "      <td>1.0</td>\n",
       "      <td>1.0</td>\n",
       "      <td>1.0</td>\n",
       "      <td>1.0</td>\n",
       "      <td>1.0</td>\n",
       "    </tr>\n",
       "    <tr>\n",
       "      <th>21</th>\n",
       "      <td>3.954280</td>\n",
       "      <td>3.954280</td>\n",
       "      <td>3.954280</td>\n",
       "      <td>3.954280</td>\n",
       "      <td>3.954280</td>\n",
       "      <td>3.954280</td>\n",
       "      <td>3.954280</td>\n",
       "      <td>3.954280</td>\n",
       "      <td>3.954280</td>\n",
       "      <td>3.954280</td>\n",
       "      <td>...</td>\n",
       "      <td>1.0</td>\n",
       "      <td>1.0</td>\n",
       "      <td>1.0</td>\n",
       "      <td>1.0</td>\n",
       "      <td>1.0</td>\n",
       "      <td>1.0</td>\n",
       "      <td>1.0</td>\n",
       "      <td>1.0</td>\n",
       "      <td>1.0</td>\n",
       "      <td>1.0</td>\n",
       "    </tr>\n",
       "    <tr>\n",
       "      <th>22</th>\n",
       "      <td>4.375031</td>\n",
       "      <td>4.375031</td>\n",
       "      <td>4.375031</td>\n",
       "      <td>4.375031</td>\n",
       "      <td>4.375031</td>\n",
       "      <td>4.375031</td>\n",
       "      <td>4.375031</td>\n",
       "      <td>4.375031</td>\n",
       "      <td>4.375031</td>\n",
       "      <td>4.375031</td>\n",
       "      <td>...</td>\n",
       "      <td>1.0</td>\n",
       "      <td>1.0</td>\n",
       "      <td>1.0</td>\n",
       "      <td>1.0</td>\n",
       "      <td>1.0</td>\n",
       "      <td>1.0</td>\n",
       "      <td>1.0</td>\n",
       "      <td>1.0</td>\n",
       "      <td>1.0</td>\n",
       "      <td>1.0</td>\n",
       "    </tr>\n",
       "    <tr>\n",
       "      <th>23</th>\n",
       "      <td>4.685648</td>\n",
       "      <td>4.685648</td>\n",
       "      <td>4.685648</td>\n",
       "      <td>4.685648</td>\n",
       "      <td>4.685648</td>\n",
       "      <td>4.685648</td>\n",
       "      <td>4.685648</td>\n",
       "      <td>4.685648</td>\n",
       "      <td>4.685648</td>\n",
       "      <td>4.685648</td>\n",
       "      <td>...</td>\n",
       "      <td>1.0</td>\n",
       "      <td>1.0</td>\n",
       "      <td>1.0</td>\n",
       "      <td>1.0</td>\n",
       "      <td>1.0</td>\n",
       "      <td>1.0</td>\n",
       "      <td>1.0</td>\n",
       "      <td>1.0</td>\n",
       "      <td>1.0</td>\n",
       "      <td>1.0</td>\n",
       "    </tr>\n",
       "    <tr>\n",
       "      <th>24</th>\n",
       "      <td>4.867054</td>\n",
       "      <td>4.867054</td>\n",
       "      <td>4.867054</td>\n",
       "      <td>4.867054</td>\n",
       "      <td>4.867054</td>\n",
       "      <td>4.867054</td>\n",
       "      <td>4.867054</td>\n",
       "      <td>4.867054</td>\n",
       "      <td>4.867054</td>\n",
       "      <td>4.867054</td>\n",
       "      <td>...</td>\n",
       "      <td>1.0</td>\n",
       "      <td>1.0</td>\n",
       "      <td>1.0</td>\n",
       "      <td>1.0</td>\n",
       "      <td>1.0</td>\n",
       "      <td>1.0</td>\n",
       "      <td>1.0</td>\n",
       "      <td>1.0</td>\n",
       "      <td>1.0</td>\n",
       "      <td>1.0</td>\n",
       "    </tr>\n",
       "    <tr>\n",
       "      <th>25</th>\n",
       "      <td>5.836430</td>\n",
       "      <td>5.836430</td>\n",
       "      <td>5.836430</td>\n",
       "      <td>5.836430</td>\n",
       "      <td>5.836430</td>\n",
       "      <td>5.836430</td>\n",
       "      <td>5.836430</td>\n",
       "      <td>5.836430</td>\n",
       "      <td>5.836430</td>\n",
       "      <td>5.836430</td>\n",
       "      <td>...</td>\n",
       "      <td>1.0</td>\n",
       "      <td>1.0</td>\n",
       "      <td>1.0</td>\n",
       "      <td>1.0</td>\n",
       "      <td>1.0</td>\n",
       "      <td>1.0</td>\n",
       "      <td>1.0</td>\n",
       "      <td>1.0</td>\n",
       "      <td>1.0</td>\n",
       "      <td>1.0</td>\n",
       "    </tr>\n",
       "    <tr>\n",
       "      <th>26</th>\n",
       "      <td>7.010482</td>\n",
       "      <td>7.010482</td>\n",
       "      <td>7.010482</td>\n",
       "      <td>7.010482</td>\n",
       "      <td>7.010482</td>\n",
       "      <td>7.010482</td>\n",
       "      <td>7.010482</td>\n",
       "      <td>7.010482</td>\n",
       "      <td>7.010482</td>\n",
       "      <td>7.010482</td>\n",
       "      <td>...</td>\n",
       "      <td>1.0</td>\n",
       "      <td>1.0</td>\n",
       "      <td>1.0</td>\n",
       "      <td>1.0</td>\n",
       "      <td>1.0</td>\n",
       "      <td>1.0</td>\n",
       "      <td>1.0</td>\n",
       "      <td>1.0</td>\n",
       "      <td>1.0</td>\n",
       "      <td>1.0</td>\n",
       "    </tr>\n",
       "    <tr>\n",
       "      <th>27</th>\n",
       "      <td>8.714273</td>\n",
       "      <td>8.714273</td>\n",
       "      <td>8.714273</td>\n",
       "      <td>8.714273</td>\n",
       "      <td>8.714273</td>\n",
       "      <td>8.714273</td>\n",
       "      <td>8.714273</td>\n",
       "      <td>8.714273</td>\n",
       "      <td>8.714273</td>\n",
       "      <td>8.714273</td>\n",
       "      <td>...</td>\n",
       "      <td>1.0</td>\n",
       "      <td>1.0</td>\n",
       "      <td>1.0</td>\n",
       "      <td>1.0</td>\n",
       "      <td>1.0</td>\n",
       "      <td>1.0</td>\n",
       "      <td>1.0</td>\n",
       "      <td>1.0</td>\n",
       "      <td>1.0</td>\n",
       "      <td>1.0</td>\n",
       "    </tr>\n",
       "  </tbody>\n",
       "</table>\n",
       "<p>28 rows × 70 columns</p>\n",
       "</div>"
      ],
      "text/plain": [
       "      direction_optimal_cut                                          \\\n",
       "fold                      0         1         2         3         4   \n",
       "layer                                                                 \n",
       "0                  0.018484  0.018484  0.018484  0.018484  0.018484   \n",
       "1                  0.018109  0.018109  0.018109  0.018109  0.018109   \n",
       "2                  0.026479  0.026479  0.026479  0.026479  0.026479   \n",
       "3                  0.067752  0.067752  0.067752  0.067752  0.067752   \n",
       "4                  0.117733  0.117733  0.117733  0.117733  0.117733   \n",
       "5                  0.220754  0.220754  0.220754  0.220754  0.220754   \n",
       "6                  0.258142  0.258142  0.258142  0.258142  0.258142   \n",
       "7                  0.238972  0.238972  0.238972  0.238972  0.238972   \n",
       "8                  0.282022  0.282022  0.282022  0.282022  0.282022   \n",
       "9                  0.379920  0.379920  0.379920  0.379920  0.379920   \n",
       "10                 0.425370  0.425370  0.425370  0.425370  0.425370   \n",
       "11                 0.486659  0.486659  0.486659  0.486659  0.486659   \n",
       "12                 0.279405  0.279405  0.279405  0.279405  0.279405   \n",
       "13                 0.475915  0.475915  0.475915  0.475915  0.475915   \n",
       "14                 0.631386  0.631386  0.631386  0.631386  0.631386   \n",
       "15                 1.170434  1.170434  1.170434  1.170434  1.170434   \n",
       "16                 1.559813  1.559813  1.559813  1.559813  1.559813   \n",
       "17                 1.591349  1.591349  1.591349  1.591349  1.591349   \n",
       "18                 1.702580  1.702580  1.702580  1.702580  1.702580   \n",
       "19                 2.382833  2.382833  2.382833  2.382833  2.382833   \n",
       "20                 3.148934  3.148934  3.148934  3.148934  3.148934   \n",
       "21                 3.954280  3.954280  3.954280  3.954280  3.954280   \n",
       "22                 4.375031  4.375031  4.375031  4.375031  4.375031   \n",
       "23                 4.685648  4.685648  4.685648  4.685648  4.685648   \n",
       "24                 4.867054  4.867054  4.867054  4.867054  4.867054   \n",
       "25                 5.836430  5.836430  5.836430  5.836430  5.836430   \n",
       "26                 7.010482  7.010482  7.010482  7.010482  7.010482   \n",
       "27                 8.714273  8.714273  8.714273  8.714273  8.714273   \n",
       "\n",
       "      direction_optimal_train_set_cut                                          \\\n",
       "fold                                0         1         2         3         4   \n",
       "layer                                                                           \n",
       "0                            0.018484  0.018484  0.018484  0.018484  0.018484   \n",
       "1                            0.018109  0.018109  0.018109  0.018109  0.018109   \n",
       "2                            0.026479  0.026479  0.026479  0.026479  0.026479   \n",
       "3                            0.067752  0.067752  0.067752  0.067752  0.067752   \n",
       "4                            0.117733  0.117733  0.117733  0.117733  0.117733   \n",
       "5                            0.220754  0.220754  0.220754  0.220754  0.220754   \n",
       "6                            0.258142  0.258142  0.258142  0.258142  0.258142   \n",
       "7                            0.238972  0.238972  0.238972  0.238972  0.238972   \n",
       "8                            0.282022  0.282022  0.282022  0.282022  0.282022   \n",
       "9                            0.379920  0.379920  0.379920  0.379920  0.379920   \n",
       "10                           0.425370  0.425370  0.425370  0.425370  0.425370   \n",
       "11                           0.486659  0.486659  0.486659  0.486659  0.486659   \n",
       "12                           0.279405  0.279405  0.279405  0.279405  0.279405   \n",
       "13                           0.475915  0.475915  0.475915  0.475915  0.475915   \n",
       "14                           0.631386  0.631386  0.631386  0.631386  0.631386   \n",
       "15                           1.170434  1.170434  1.170434  1.170434  1.170434   \n",
       "16                           1.559813  1.559813  1.559813  1.559813  1.559813   \n",
       "17                           1.591349  1.591349  1.591349  1.591349  1.591349   \n",
       "18                           1.702580  1.702580  1.702580  1.702580  1.702580   \n",
       "19                           2.382833  2.382833  2.382833  2.382833  2.382833   \n",
       "20                           3.148934  3.148934  3.148934  3.148934  3.148934   \n",
       "21                           3.954280  3.954280  3.954280  3.954280  3.954280   \n",
       "22                           4.375031  4.375031  4.375031  4.375031  4.375031   \n",
       "23                           4.685648  4.685648  4.685648  4.685648  4.685648   \n",
       "24                           4.867054  4.867054  4.867054  4.867054  4.867054   \n",
       "25                           5.836430  5.836430  5.836430  5.836430  5.836430   \n",
       "26                           7.010482  7.010482  7.010482  7.010482  7.010482   \n",
       "27                           8.714273  8.714273  8.714273  8.714273  8.714273   \n",
       "\n",
       "       ... logistic_regression_precision_score                      \\\n",
       "fold   ...                                   0    1    2    3    4   \n",
       "layer  ...                                                           \n",
       "0      ...                                 1.0  1.0  1.0  1.0  1.0   \n",
       "1      ...                                 1.0  1.0  1.0  1.0  1.0   \n",
       "2      ...                                 1.0  1.0  1.0  1.0  1.0   \n",
       "3      ...                                 1.0  1.0  1.0  1.0  1.0   \n",
       "4      ...                                 1.0  1.0  1.0  1.0  1.0   \n",
       "5      ...                                 1.0  1.0  1.0  1.0  1.0   \n",
       "6      ...                                 1.0  1.0  1.0  1.0  1.0   \n",
       "7      ...                                 1.0  1.0  1.0  1.0  1.0   \n",
       "8      ...                                 1.0  1.0  1.0  1.0  1.0   \n",
       "9      ...                                 1.0  1.0  1.0  1.0  1.0   \n",
       "10     ...                                 1.0  1.0  1.0  1.0  1.0   \n",
       "11     ...                                 1.0  1.0  1.0  1.0  1.0   \n",
       "12     ...                                 1.0  1.0  1.0  1.0  1.0   \n",
       "13     ...                                 1.0  1.0  1.0  1.0  1.0   \n",
       "14     ...                                 1.0  1.0  1.0  1.0  1.0   \n",
       "15     ...                                 1.0  1.0  1.0  1.0  1.0   \n",
       "16     ...                                 1.0  1.0  1.0  1.0  1.0   \n",
       "17     ...                                 1.0  1.0  1.0  1.0  1.0   \n",
       "18     ...                                 1.0  1.0  1.0  1.0  1.0   \n",
       "19     ...                                 1.0  1.0  1.0  1.0  1.0   \n",
       "20     ...                                 1.0  1.0  1.0  1.0  1.0   \n",
       "21     ...                                 1.0  1.0  1.0  1.0  1.0   \n",
       "22     ...                                 1.0  1.0  1.0  1.0  1.0   \n",
       "23     ...                                 1.0  1.0  1.0  1.0  1.0   \n",
       "24     ...                                 1.0  1.0  1.0  1.0  1.0   \n",
       "25     ...                                 1.0  1.0  1.0  1.0  1.0   \n",
       "26     ...                                 1.0  1.0  1.0  1.0  1.0   \n",
       "27     ...                                 1.0  1.0  1.0  1.0  1.0   \n",
       "\n",
       "      logistic_regression_recall_score                      \n",
       "fold                                 0    1    2    3    4  \n",
       "layer                                                       \n",
       "0                                  1.0  1.0  1.0  1.0  1.0  \n",
       "1                                  1.0  1.0  1.0  1.0  1.0  \n",
       "2                                  1.0  1.0  1.0  1.0  1.0  \n",
       "3                                  1.0  1.0  1.0  1.0  1.0  \n",
       "4                                  1.0  1.0  1.0  1.0  1.0  \n",
       "5                                  1.0  1.0  1.0  1.0  1.0  \n",
       "6                                  1.0  1.0  1.0  1.0  1.0  \n",
       "7                                  1.0  1.0  1.0  1.0  1.0  \n",
       "8                                  1.0  1.0  1.0  1.0  1.0  \n",
       "9                                  1.0  1.0  1.0  1.0  1.0  \n",
       "10                                 1.0  1.0  1.0  1.0  1.0  \n",
       "11                                 1.0  1.0  1.0  1.0  1.0  \n",
       "12                                 1.0  1.0  1.0  1.0  1.0  \n",
       "13                                 1.0  1.0  1.0  1.0  1.0  \n",
       "14                                 1.0  1.0  1.0  1.0  1.0  \n",
       "15                                 1.0  1.0  1.0  1.0  1.0  \n",
       "16                                 1.0  1.0  1.0  1.0  1.0  \n",
       "17                                 1.0  1.0  1.0  1.0  1.0  \n",
       "18                                 1.0  1.0  1.0  1.0  1.0  \n",
       "19                                 1.0  1.0  1.0  1.0  1.0  \n",
       "20                                 1.0  1.0  1.0  1.0  1.0  \n",
       "21                                 1.0  1.0  1.0  1.0  1.0  \n",
       "22                                 1.0  1.0  1.0  1.0  1.0  \n",
       "23                                 1.0  1.0  1.0  1.0  1.0  \n",
       "24                                 1.0  1.0  1.0  1.0  1.0  \n",
       "25                                 1.0  1.0  1.0  1.0  1.0  \n",
       "26                                 1.0  1.0  1.0  1.0  1.0  \n",
       "27                                 1.0  1.0  1.0  1.0  1.0  \n",
       "\n",
       "[28 rows x 70 columns]"
      ]
     },
     "execution_count": 46,
     "metadata": {},
     "output_type": "execute_result"
    }
   ],
   "source": [
    "\n",
    "res_df_pivot =pd.pivot(\n",
    "    res_df,\n",
    "    index='layer',\n",
    "    columns='fold',\n",
    "    # values=['direction_f1_score', 'logistic_regression_f1_score']  # add all metrics you want to keep\n",
    ")\n",
    "res_df_pivot"
   ]
  },
  {
   "cell_type": "code",
   "execution_count": 47,
   "metadata": {},
   "outputs": [
    {
     "data": {
      "application/vnd.plotly.v1+json": {
       "config": {
        "plotlyServerURL": "https://plot.ly"
       },
       "data": [
        {
         "line": {
          "color": "#1f77b4",
          "width": 2
         },
         "marker": {
          "size": 8
         },
         "mode": "lines+markers",
         "name": "Mean",
         "type": "scatter",
         "x": {
          "bdata": "AAECAwQFBgcICQoLDA0ODxAREhMUFRYXGBkaGw==",
          "dtype": "i1"
         },
         "y": {
          "bdata": "ntiJndiJ7T+e2Imd2IntP0YXXXTRRec/ntiJndiJ7T+e2Imd2IntP5qZmZmZmek/mpmZmZmZ6T+e2Imd2IntPwAAAAAAAPA/AAAAAAAA8D+amZmZmZnpPwAAAAAAAPA/AAAAAAAA8D8AAAAAAADwPwAAAAAAAPA/AAAAAAAA8D+amZmZmZnpP5qZmZmZmek/AAAAAAAA8D8AAAAAAADwPwAAAAAAAPA/AAAAAAAA8D+amZmZmZnpPwAAAAAAAPA/AAAAAAAA8D8AAAAAAADwPwAAAAAAAPA/AAAAAAAA8D8=",
          "dtype": "f8"
         }
        },
        {
         "line": {
          "width": 0
         },
         "mode": "lines",
         "name": "Max",
         "showlegend": false,
         "type": "scatter",
         "x": {
          "bdata": "AAECAwQFBgcICQoLDA0ODxAREhMUFRYXGBkaGw==",
          "dtype": "i1"
         },
         "y": {
          "bdata": "ntiJndiJ7T+e2Imd2IntP0YXXXTRRec/ntiJndiJ7T+e2Imd2IntP5qZmZmZmek/mpmZmZmZ6T+e2Imd2IntPwAAAAAAAPA/AAAAAAAA8D+amZmZmZnpPwAAAAAAAPA/AAAAAAAA8D8AAAAAAADwPwAAAAAAAPA/AAAAAAAA8D+amZmZmZnpP5qZmZmZmek/AAAAAAAA8D8AAAAAAADwPwAAAAAAAPA/AAAAAAAA8D+amZmZmZnpPwAAAAAAAPA/AAAAAAAA8D8AAAAAAADwPwAAAAAAAPA/AAAAAAAA8D8=",
          "dtype": "f8"
         }
        },
        {
         "fill": "tonexty",
         "fillcolor": "rgba(68, 138, 255, 0.1)",
         "line": {
          "width": 0
         },
         "mode": "lines",
         "name": "Min",
         "showlegend": false,
         "type": "scatter",
         "x": {
          "bdata": "AAECAwQFBgcICQoLDA0ODxAREhMUFRYXGBkaGw==",
          "dtype": "i1"
         },
         "y": {
          "bdata": "ntiJndiJ7T+e2Imd2IntP0YXXXTRRec/ntiJndiJ7T+e2Imd2IntP5qZmZmZmek/mpmZmZmZ6T+e2Imd2IntPwAAAAAAAPA/AAAAAAAA8D+amZmZmZnpPwAAAAAAAPA/AAAAAAAA8D8AAAAAAADwPwAAAAAAAPA/AAAAAAAA8D+amZmZmZnpP5qZmZmZmek/AAAAAAAA8D8AAAAAAADwPwAAAAAAAPA/AAAAAAAA8D+amZmZmZnpPwAAAAAAAPA/AAAAAAAA8D8AAAAAAADwPwAAAAAAAPA/AAAAAAAA8D8=",
          "dtype": "f8"
         }
        },
        {
         "line": {
          "width": 0
         },
         "mode": "lines",
         "name": "+1 STD",
         "showlegend": false,
         "type": "scatter",
         "x": {
          "bdata": "AAECAwQFBgcICQoLDA0ODxAREhMUFRYXGBkaGw==",
          "dtype": "i1"
         },
         "y": {
          "bdata": "ntiJndiJ7T+e2Imd2IntP0YXXXTRRec/ntiJndiJ7T+e2Imd2IntP5qZmZmZmek/mpmZmZmZ6T+e2Imd2IntPwAAAAAAAPA/AAAAAAAA8D+amZmZmZnpPwAAAAAAAPA/AAAAAAAA8D8AAAAAAADwPwAAAAAAAPA/AAAAAAAA8D+amZmZmZnpP5qZmZmZmek/AAAAAAAA8D8AAAAAAADwPwAAAAAAAPA/AAAAAAAA8D+amZmZmZnpPwAAAAAAAPA/AAAAAAAA8D8AAAAAAADwPwAAAAAAAPA/AAAAAAAA8D8=",
          "dtype": "f8"
         }
        },
        {
         "fill": "tonexty",
         "fillcolor": "rgba(68, 138, 255, 0.3)",
         "line": {
          "width": 0
         },
         "mode": "lines",
         "name": "-1 STD",
         "showlegend": false,
         "type": "scatter",
         "x": {
          "bdata": "AAECAwQFBgcICQoLDA0ODxAREhMUFRYXGBkaGw==",
          "dtype": "i1"
         },
         "y": {
          "bdata": "ntiJndiJ7T+e2Imd2IntP0YXXXTRRec/ntiJndiJ7T+e2Imd2IntP5qZmZmZmek/mpmZmZmZ6T+e2Imd2IntPwAAAAAAAPA/AAAAAAAA8D+amZmZmZnpPwAAAAAAAPA/AAAAAAAA8D8AAAAAAADwPwAAAAAAAPA/AAAAAAAA8D+amZmZmZnpP5qZmZmZmek/AAAAAAAA8D8AAAAAAADwPwAAAAAAAPA/AAAAAAAA8D+amZmZmZnpPwAAAAAAAPA/AAAAAAAA8D8AAAAAAADwPwAAAAAAAPA/AAAAAAAA8D8=",
          "dtype": "f8"
         }
        },
        {
         "marker": {
          "color": "#1f77b4",
          "opacity": 0.5,
          "size": 6
         },
         "mode": "markers",
         "name": "Fold ('direction_f1_score', 0)",
         "showlegend": false,
         "type": "scatter",
         "x": {
          "bdata": "AAECAwQFBgcICQoLDA0ODxAREhMUFRYXGBkaGw==",
          "dtype": "i1"
         },
         "y": {
          "bdata": "ntiJndiJ7T+e2Imd2IntP0YXXXTRRec/ntiJndiJ7T+e2Imd2IntP5qZmZmZmek/mpmZmZmZ6T+e2Imd2IntPwAAAAAAAPA/AAAAAAAA8D+amZmZmZnpPwAAAAAAAPA/AAAAAAAA8D8AAAAAAADwPwAAAAAAAPA/AAAAAAAA8D+amZmZmZnpP5qZmZmZmek/AAAAAAAA8D8AAAAAAADwPwAAAAAAAPA/AAAAAAAA8D+amZmZmZnpPwAAAAAAAPA/AAAAAAAA8D8AAAAAAADwPwAAAAAAAPA/AAAAAAAA8D8=",
          "dtype": "f8"
         }
        },
        {
         "marker": {
          "color": "#1f77b4",
          "opacity": 0.5,
          "size": 6
         },
         "mode": "markers",
         "name": "Fold ('direction_f1_score', 1)",
         "showlegend": false,
         "type": "scatter",
         "x": {
          "bdata": "AAECAwQFBgcICQoLDA0ODxAREhMUFRYXGBkaGw==",
          "dtype": "i1"
         },
         "y": {
          "bdata": "ntiJndiJ7T+e2Imd2IntP0YXXXTRRec/ntiJndiJ7T+e2Imd2IntP5qZmZmZmek/mpmZmZmZ6T+e2Imd2IntPwAAAAAAAPA/AAAAAAAA8D+amZmZmZnpPwAAAAAAAPA/AAAAAAAA8D8AAAAAAADwPwAAAAAAAPA/AAAAAAAA8D+amZmZmZnpP5qZmZmZmek/AAAAAAAA8D8AAAAAAADwPwAAAAAAAPA/AAAAAAAA8D+amZmZmZnpPwAAAAAAAPA/AAAAAAAA8D8AAAAAAADwPwAAAAAAAPA/AAAAAAAA8D8=",
          "dtype": "f8"
         }
        },
        {
         "marker": {
          "color": "#1f77b4",
          "opacity": 0.5,
          "size": 6
         },
         "mode": "markers",
         "name": "Fold ('direction_f1_score', 2)",
         "showlegend": false,
         "type": "scatter",
         "x": {
          "bdata": "AAECAwQFBgcICQoLDA0ODxAREhMUFRYXGBkaGw==",
          "dtype": "i1"
         },
         "y": {
          "bdata": "ntiJndiJ7T+e2Imd2IntP0YXXXTRRec/ntiJndiJ7T+e2Imd2IntP5qZmZmZmek/mpmZmZmZ6T+e2Imd2IntPwAAAAAAAPA/AAAAAAAA8D+amZmZmZnpPwAAAAAAAPA/AAAAAAAA8D8AAAAAAADwPwAAAAAAAPA/AAAAAAAA8D+amZmZmZnpP5qZmZmZmek/AAAAAAAA8D8AAAAAAADwPwAAAAAAAPA/AAAAAAAA8D+amZmZmZnpPwAAAAAAAPA/AAAAAAAA8D8AAAAAAADwPwAAAAAAAPA/AAAAAAAA8D8=",
          "dtype": "f8"
         }
        },
        {
         "marker": {
          "color": "#1f77b4",
          "opacity": 0.5,
          "size": 6
         },
         "mode": "markers",
         "name": "Fold ('direction_f1_score', 3)",
         "showlegend": false,
         "type": "scatter",
         "x": {
          "bdata": "AAECAwQFBgcICQoLDA0ODxAREhMUFRYXGBkaGw==",
          "dtype": "i1"
         },
         "y": {
          "bdata": "ntiJndiJ7T+e2Imd2IntP0YXXXTRRec/ntiJndiJ7T+e2Imd2IntP5qZmZmZmek/mpmZmZmZ6T+e2Imd2IntPwAAAAAAAPA/AAAAAAAA8D+amZmZmZnpPwAAAAAAAPA/AAAAAAAA8D8AAAAAAADwPwAAAAAAAPA/AAAAAAAA8D+amZmZmZnpP5qZmZmZmek/AAAAAAAA8D8AAAAAAADwPwAAAAAAAPA/AAAAAAAA8D+amZmZmZnpPwAAAAAAAPA/AAAAAAAA8D8AAAAAAADwPwAAAAAAAPA/AAAAAAAA8D8=",
          "dtype": "f8"
         }
        },
        {
         "marker": {
          "color": "#1f77b4",
          "opacity": 0.5,
          "size": 6
         },
         "mode": "markers",
         "name": "Fold ('direction_f1_score', 4)",
         "showlegend": false,
         "type": "scatter",
         "x": {
          "bdata": "AAECAwQFBgcICQoLDA0ODxAREhMUFRYXGBkaGw==",
          "dtype": "i1"
         },
         "y": {
          "bdata": "ntiJndiJ7T+e2Imd2IntP0YXXXTRRec/ntiJndiJ7T+e2Imd2IntP5qZmZmZmek/mpmZmZmZ6T+e2Imd2IntPwAAAAAAAPA/AAAAAAAA8D+amZmZmZnpPwAAAAAAAPA/AAAAAAAA8D8AAAAAAADwPwAAAAAAAPA/AAAAAAAA8D+amZmZmZnpP5qZmZmZmek/AAAAAAAA8D8AAAAAAADwPwAAAAAAAPA/AAAAAAAA8D+amZmZmZnpPwAAAAAAAPA/AAAAAAAA8D8AAAAAAADwPwAAAAAAAPA/AAAAAAAA8D8=",
          "dtype": "f8"
         }
        }
       ],
       "layout": {
        "font": {
         "color": "white"
        },
        "margin": {
         "l": 50,
         "r": 30,
         "t": 50
        },
        "paper_bgcolor": "rgba(32, 32, 32, 1)",
        "plot_bgcolor": "rgba(32, 32, 32, 1)",
        "showlegend": false,
        "template": {
         "data": {
          "bar": [
           {
            "error_x": {
             "color": "#f2f5fa"
            },
            "error_y": {
             "color": "#f2f5fa"
            },
            "marker": {
             "line": {
              "color": "rgb(17,17,17)",
              "width": 0.5
             },
             "pattern": {
              "fillmode": "overlay",
              "size": 10,
              "solidity": 0.2
             }
            },
            "type": "bar"
           }
          ],
          "barpolar": [
           {
            "marker": {
             "line": {
              "color": "rgb(17,17,17)",
              "width": 0.5
             },
             "pattern": {
              "fillmode": "overlay",
              "size": 10,
              "solidity": 0.2
             }
            },
            "type": "barpolar"
           }
          ],
          "carpet": [
           {
            "aaxis": {
             "endlinecolor": "#A2B1C6",
             "gridcolor": "#506784",
             "linecolor": "#506784",
             "minorgridcolor": "#506784",
             "startlinecolor": "#A2B1C6"
            },
            "baxis": {
             "endlinecolor": "#A2B1C6",
             "gridcolor": "#506784",
             "linecolor": "#506784",
             "minorgridcolor": "#506784",
             "startlinecolor": "#A2B1C6"
            },
            "type": "carpet"
           }
          ],
          "choropleth": [
           {
            "colorbar": {
             "outlinewidth": 0,
             "ticks": ""
            },
            "type": "choropleth"
           }
          ],
          "contour": [
           {
            "colorbar": {
             "outlinewidth": 0,
             "ticks": ""
            },
            "colorscale": [
             [
              0,
              "#0d0887"
             ],
             [
              0.1111111111111111,
              "#46039f"
             ],
             [
              0.2222222222222222,
              "#7201a8"
             ],
             [
              0.3333333333333333,
              "#9c179e"
             ],
             [
              0.4444444444444444,
              "#bd3786"
             ],
             [
              0.5555555555555556,
              "#d8576b"
             ],
             [
              0.6666666666666666,
              "#ed7953"
             ],
             [
              0.7777777777777778,
              "#fb9f3a"
             ],
             [
              0.8888888888888888,
              "#fdca26"
             ],
             [
              1,
              "#f0f921"
             ]
            ],
            "type": "contour"
           }
          ],
          "contourcarpet": [
           {
            "colorbar": {
             "outlinewidth": 0,
             "ticks": ""
            },
            "type": "contourcarpet"
           }
          ],
          "heatmap": [
           {
            "colorbar": {
             "outlinewidth": 0,
             "ticks": ""
            },
            "colorscale": [
             [
              0,
              "#0d0887"
             ],
             [
              0.1111111111111111,
              "#46039f"
             ],
             [
              0.2222222222222222,
              "#7201a8"
             ],
             [
              0.3333333333333333,
              "#9c179e"
             ],
             [
              0.4444444444444444,
              "#bd3786"
             ],
             [
              0.5555555555555556,
              "#d8576b"
             ],
             [
              0.6666666666666666,
              "#ed7953"
             ],
             [
              0.7777777777777778,
              "#fb9f3a"
             ],
             [
              0.8888888888888888,
              "#fdca26"
             ],
             [
              1,
              "#f0f921"
             ]
            ],
            "type": "heatmap"
           }
          ],
          "histogram": [
           {
            "marker": {
             "pattern": {
              "fillmode": "overlay",
              "size": 10,
              "solidity": 0.2
             }
            },
            "type": "histogram"
           }
          ],
          "histogram2d": [
           {
            "colorbar": {
             "outlinewidth": 0,
             "ticks": ""
            },
            "colorscale": [
             [
              0,
              "#0d0887"
             ],
             [
              0.1111111111111111,
              "#46039f"
             ],
             [
              0.2222222222222222,
              "#7201a8"
             ],
             [
              0.3333333333333333,
              "#9c179e"
             ],
             [
              0.4444444444444444,
              "#bd3786"
             ],
             [
              0.5555555555555556,
              "#d8576b"
             ],
             [
              0.6666666666666666,
              "#ed7953"
             ],
             [
              0.7777777777777778,
              "#fb9f3a"
             ],
             [
              0.8888888888888888,
              "#fdca26"
             ],
             [
              1,
              "#f0f921"
             ]
            ],
            "type": "histogram2d"
           }
          ],
          "histogram2dcontour": [
           {
            "colorbar": {
             "outlinewidth": 0,
             "ticks": ""
            },
            "colorscale": [
             [
              0,
              "#0d0887"
             ],
             [
              0.1111111111111111,
              "#46039f"
             ],
             [
              0.2222222222222222,
              "#7201a8"
             ],
             [
              0.3333333333333333,
              "#9c179e"
             ],
             [
              0.4444444444444444,
              "#bd3786"
             ],
             [
              0.5555555555555556,
              "#d8576b"
             ],
             [
              0.6666666666666666,
              "#ed7953"
             ],
             [
              0.7777777777777778,
              "#fb9f3a"
             ],
             [
              0.8888888888888888,
              "#fdca26"
             ],
             [
              1,
              "#f0f921"
             ]
            ],
            "type": "histogram2dcontour"
           }
          ],
          "mesh3d": [
           {
            "colorbar": {
             "outlinewidth": 0,
             "ticks": ""
            },
            "type": "mesh3d"
           }
          ],
          "parcoords": [
           {
            "line": {
             "colorbar": {
              "outlinewidth": 0,
              "ticks": ""
             }
            },
            "type": "parcoords"
           }
          ],
          "pie": [
           {
            "automargin": true,
            "type": "pie"
           }
          ],
          "scatter": [
           {
            "marker": {
             "line": {
              "color": "#283442"
             }
            },
            "type": "scatter"
           }
          ],
          "scatter3d": [
           {
            "line": {
             "colorbar": {
              "outlinewidth": 0,
              "ticks": ""
             }
            },
            "marker": {
             "colorbar": {
              "outlinewidth": 0,
              "ticks": ""
             }
            },
            "type": "scatter3d"
           }
          ],
          "scattercarpet": [
           {
            "marker": {
             "colorbar": {
              "outlinewidth": 0,
              "ticks": ""
             }
            },
            "type": "scattercarpet"
           }
          ],
          "scattergeo": [
           {
            "marker": {
             "colorbar": {
              "outlinewidth": 0,
              "ticks": ""
             }
            },
            "type": "scattergeo"
           }
          ],
          "scattergl": [
           {
            "marker": {
             "line": {
              "color": "#283442"
             }
            },
            "type": "scattergl"
           }
          ],
          "scattermap": [
           {
            "marker": {
             "colorbar": {
              "outlinewidth": 0,
              "ticks": ""
             }
            },
            "type": "scattermap"
           }
          ],
          "scattermapbox": [
           {
            "marker": {
             "colorbar": {
              "outlinewidth": 0,
              "ticks": ""
             }
            },
            "type": "scattermapbox"
           }
          ],
          "scatterpolar": [
           {
            "marker": {
             "colorbar": {
              "outlinewidth": 0,
              "ticks": ""
             }
            },
            "type": "scatterpolar"
           }
          ],
          "scatterpolargl": [
           {
            "marker": {
             "colorbar": {
              "outlinewidth": 0,
              "ticks": ""
             }
            },
            "type": "scatterpolargl"
           }
          ],
          "scatterternary": [
           {
            "marker": {
             "colorbar": {
              "outlinewidth": 0,
              "ticks": ""
             }
            },
            "type": "scatterternary"
           }
          ],
          "surface": [
           {
            "colorbar": {
             "outlinewidth": 0,
             "ticks": ""
            },
            "colorscale": [
             [
              0,
              "#0d0887"
             ],
             [
              0.1111111111111111,
              "#46039f"
             ],
             [
              0.2222222222222222,
              "#7201a8"
             ],
             [
              0.3333333333333333,
              "#9c179e"
             ],
             [
              0.4444444444444444,
              "#bd3786"
             ],
             [
              0.5555555555555556,
              "#d8576b"
             ],
             [
              0.6666666666666666,
              "#ed7953"
             ],
             [
              0.7777777777777778,
              "#fb9f3a"
             ],
             [
              0.8888888888888888,
              "#fdca26"
             ],
             [
              1,
              "#f0f921"
             ]
            ],
            "type": "surface"
           }
          ],
          "table": [
           {
            "cells": {
             "fill": {
              "color": "#506784"
             },
             "line": {
              "color": "rgb(17,17,17)"
             }
            },
            "header": {
             "fill": {
              "color": "#2a3f5f"
             },
             "line": {
              "color": "rgb(17,17,17)"
             }
            },
            "type": "table"
           }
          ]
         },
         "layout": {
          "annotationdefaults": {
           "arrowcolor": "#f2f5fa",
           "arrowhead": 0,
           "arrowwidth": 1
          },
          "autotypenumbers": "strict",
          "coloraxis": {
           "colorbar": {
            "outlinewidth": 0,
            "ticks": ""
           }
          },
          "colorscale": {
           "diverging": [
            [
             0,
             "#8e0152"
            ],
            [
             0.1,
             "#c51b7d"
            ],
            [
             0.2,
             "#de77ae"
            ],
            [
             0.3,
             "#f1b6da"
            ],
            [
             0.4,
             "#fde0ef"
            ],
            [
             0.5,
             "#f7f7f7"
            ],
            [
             0.6,
             "#e6f5d0"
            ],
            [
             0.7,
             "#b8e186"
            ],
            [
             0.8,
             "#7fbc41"
            ],
            [
             0.9,
             "#4d9221"
            ],
            [
             1,
             "#276419"
            ]
           ],
           "sequential": [
            [
             0,
             "#0d0887"
            ],
            [
             0.1111111111111111,
             "#46039f"
            ],
            [
             0.2222222222222222,
             "#7201a8"
            ],
            [
             0.3333333333333333,
             "#9c179e"
            ],
            [
             0.4444444444444444,
             "#bd3786"
            ],
            [
             0.5555555555555556,
             "#d8576b"
            ],
            [
             0.6666666666666666,
             "#ed7953"
            ],
            [
             0.7777777777777778,
             "#fb9f3a"
            ],
            [
             0.8888888888888888,
             "#fdca26"
            ],
            [
             1,
             "#f0f921"
            ]
           ],
           "sequentialminus": [
            [
             0,
             "#0d0887"
            ],
            [
             0.1111111111111111,
             "#46039f"
            ],
            [
             0.2222222222222222,
             "#7201a8"
            ],
            [
             0.3333333333333333,
             "#9c179e"
            ],
            [
             0.4444444444444444,
             "#bd3786"
            ],
            [
             0.5555555555555556,
             "#d8576b"
            ],
            [
             0.6666666666666666,
             "#ed7953"
            ],
            [
             0.7777777777777778,
             "#fb9f3a"
            ],
            [
             0.8888888888888888,
             "#fdca26"
            ],
            [
             1,
             "#f0f921"
            ]
           ]
          },
          "colorway": [
           "#636efa",
           "#EF553B",
           "#00cc96",
           "#ab63fa",
           "#FFA15A",
           "#19d3f3",
           "#FF6692",
           "#B6E880",
           "#FF97FF",
           "#FECB52"
          ],
          "font": {
           "color": "#f2f5fa"
          },
          "geo": {
           "bgcolor": "rgb(17,17,17)",
           "lakecolor": "rgb(17,17,17)",
           "landcolor": "rgb(17,17,17)",
           "showlakes": true,
           "showland": true,
           "subunitcolor": "#506784"
          },
          "hoverlabel": {
           "align": "left"
          },
          "hovermode": "closest",
          "mapbox": {
           "style": "dark"
          },
          "paper_bgcolor": "rgb(17,17,17)",
          "plot_bgcolor": "rgb(17,17,17)",
          "polar": {
           "angularaxis": {
            "gridcolor": "#506784",
            "linecolor": "#506784",
            "ticks": ""
           },
           "bgcolor": "rgb(17,17,17)",
           "radialaxis": {
            "gridcolor": "#506784",
            "linecolor": "#506784",
            "ticks": ""
           }
          },
          "scene": {
           "xaxis": {
            "backgroundcolor": "rgb(17,17,17)",
            "gridcolor": "#506784",
            "gridwidth": 2,
            "linecolor": "#506784",
            "showbackground": true,
            "ticks": "",
            "zerolinecolor": "#C8D4E3"
           },
           "yaxis": {
            "backgroundcolor": "rgb(17,17,17)",
            "gridcolor": "#506784",
            "gridwidth": 2,
            "linecolor": "#506784",
            "showbackground": true,
            "ticks": "",
            "zerolinecolor": "#C8D4E3"
           },
           "zaxis": {
            "backgroundcolor": "rgb(17,17,17)",
            "gridcolor": "#506784",
            "gridwidth": 2,
            "linecolor": "#506784",
            "showbackground": true,
            "ticks": "",
            "zerolinecolor": "#C8D4E3"
           }
          },
          "shapedefaults": {
           "line": {
            "color": "#f2f5fa"
           }
          },
          "sliderdefaults": {
           "bgcolor": "#C8D4E3",
           "bordercolor": "rgb(17,17,17)",
           "borderwidth": 1,
           "tickwidth": 0
          },
          "ternary": {
           "aaxis": {
            "gridcolor": "#506784",
            "linecolor": "#506784",
            "ticks": ""
           },
           "baxis": {
            "gridcolor": "#506784",
            "linecolor": "#506784",
            "ticks": ""
           },
           "bgcolor": "rgb(17,17,17)",
           "caxis": {
            "gridcolor": "#506784",
            "linecolor": "#506784",
            "ticks": ""
           }
          },
          "title": {
           "x": 0.05
          },
          "updatemenudefaults": {
           "bgcolor": "#506784",
           "borderwidth": 0
          },
          "xaxis": {
           "automargin": true,
           "gridcolor": "#283442",
           "linecolor": "#506784",
           "ticks": "",
           "title": {
            "standoff": 15
           },
           "zerolinecolor": "#283442",
           "zerolinewidth": 2
          },
          "yaxis": {
           "automargin": true,
           "gridcolor": "#283442",
           "linecolor": "#506784",
           "ticks": "",
           "title": {
            "standoff": 15
           },
           "zerolinecolor": "#283442",
           "zerolinewidth": 2
          }
         }
        },
        "title": {},
        "xaxis": {
         "gridcolor": "rgba(128, 128, 128, 0.2)",
         "title": {
          "text": "Layer"
         },
         "zeroline": false
        },
        "yaxis": {
         "gridcolor": "rgba(128, 128, 128, 0.2)",
         "title": {
          "text": "Direction F1 Score"
         },
         "zeroline": false
        }
       }
      }
     },
     "metadata": {},
     "output_type": "display_data"
    },
    {
     "data": {
      "application/vnd.plotly.v1+json": {
       "config": {
        "plotlyServerURL": "https://plot.ly"
       },
       "data": [
        {
         "line": {
          "color": "#1f77b4",
          "width": 2
         },
         "marker": {
          "size": 8
         },
         "mode": "lines+markers",
         "name": "Mean",
         "type": "scatter",
         "x": {
          "bdata": "AAECAwQFBgcICQoLDA0ODxAREhMUFRYXGBkaGw==",
          "dtype": "i1"
         },
         "y": {
          "bdata": "VVVVVVVV7T9VVVVVVVXtPwAAAAAAAOg/VVVVVVVV7T9VVVVVVVXtP6uqqqqqquo/q6qqqqqq6j9VVVVVVVXtPwAAAAAAAPA/AAAAAAAA8D+rqqqqqqrqPwAAAAAAAPA/AAAAAAAA8D8AAAAAAADwPwAAAAAAAPA/AAAAAAAA8D+rqqqqqqrqP6uqqqqqquo/AAAAAAAA8D8AAAAAAADwPwAAAAAAAPA/AAAAAAAA8D+rqqqqqqrqPwAAAAAAAPA/AAAAAAAA8D8AAAAAAADwPwAAAAAAAPA/AAAAAAAA8D8=",
          "dtype": "f8"
         }
        },
        {
         "line": {
          "width": 0
         },
         "mode": "lines",
         "name": "Max",
         "showlegend": false,
         "type": "scatter",
         "x": {
          "bdata": "AAECAwQFBgcICQoLDA0ODxAREhMUFRYXGBkaGw==",
          "dtype": "i1"
         },
         "y": {
          "bdata": "VVVVVVVV7T9VVVVVVVXtPwAAAAAAAOg/VVVVVVVV7T9VVVVVVVXtP6uqqqqqquo/q6qqqqqq6j9VVVVVVVXtPwAAAAAAAPA/AAAAAAAA8D+rqqqqqqrqPwAAAAAAAPA/AAAAAAAA8D8AAAAAAADwPwAAAAAAAPA/AAAAAAAA8D+rqqqqqqrqP6uqqqqqquo/AAAAAAAA8D8AAAAAAADwPwAAAAAAAPA/AAAAAAAA8D+rqqqqqqrqPwAAAAAAAPA/AAAAAAAA8D8AAAAAAADwPwAAAAAAAPA/AAAAAAAA8D8=",
          "dtype": "f8"
         }
        },
        {
         "fill": "tonexty",
         "fillcolor": "rgba(68, 138, 255, 0.1)",
         "line": {
          "width": 0
         },
         "mode": "lines",
         "name": "Min",
         "showlegend": false,
         "type": "scatter",
         "x": {
          "bdata": "AAECAwQFBgcICQoLDA0ODxAREhMUFRYXGBkaGw==",
          "dtype": "i1"
         },
         "y": {
          "bdata": "VVVVVVVV7T9VVVVVVVXtPwAAAAAAAOg/VVVVVVVV7T9VVVVVVVXtP6uqqqqqquo/q6qqqqqq6j9VVVVVVVXtPwAAAAAAAPA/AAAAAAAA8D+rqqqqqqrqPwAAAAAAAPA/AAAAAAAA8D8AAAAAAADwPwAAAAAAAPA/AAAAAAAA8D+rqqqqqqrqP6uqqqqqquo/AAAAAAAA8D8AAAAAAADwPwAAAAAAAPA/AAAAAAAA8D+rqqqqqqrqPwAAAAAAAPA/AAAAAAAA8D8AAAAAAADwPwAAAAAAAPA/AAAAAAAA8D8=",
          "dtype": "f8"
         }
        },
        {
         "line": {
          "width": 0
         },
         "mode": "lines",
         "name": "+1 STD",
         "showlegend": false,
         "type": "scatter",
         "x": {
          "bdata": "AAECAwQFBgcICQoLDA0ODxAREhMUFRYXGBkaGw==",
          "dtype": "i1"
         },
         "y": {
          "bdata": "VVVVVVVV7T9VVVVVVVXtPwAAAAAAAOg/VVVVVVVV7T9VVVVVVVXtP6uqqqqqquo/q6qqqqqq6j9VVVVVVVXtPwAAAAAAAPA/AAAAAAAA8D+rqqqqqqrqPwAAAAAAAPA/AAAAAAAA8D8AAAAAAADwPwAAAAAAAPA/AAAAAAAA8D+rqqqqqqrqP6uqqqqqquo/AAAAAAAA8D8AAAAAAADwPwAAAAAAAPA/AAAAAAAA8D+rqqqqqqrqPwAAAAAAAPA/AAAAAAAA8D8AAAAAAADwPwAAAAAAAPA/AAAAAAAA8D8=",
          "dtype": "f8"
         }
        },
        {
         "fill": "tonexty",
         "fillcolor": "rgba(68, 138, 255, 0.3)",
         "line": {
          "width": 0
         },
         "mode": "lines",
         "name": "-1 STD",
         "showlegend": false,
         "type": "scatter",
         "x": {
          "bdata": "AAECAwQFBgcICQoLDA0ODxAREhMUFRYXGBkaGw==",
          "dtype": "i1"
         },
         "y": {
          "bdata": "VVVVVVVV7T9VVVVVVVXtPwAAAAAAAOg/VVVVVVVV7T9VVVVVVVXtP6uqqqqqquo/q6qqqqqq6j9VVVVVVVXtPwAAAAAAAPA/AAAAAAAA8D+rqqqqqqrqPwAAAAAAAPA/AAAAAAAA8D8AAAAAAADwPwAAAAAAAPA/AAAAAAAA8D+rqqqqqqrqP6uqqqqqquo/AAAAAAAA8D8AAAAAAADwPwAAAAAAAPA/AAAAAAAA8D+rqqqqqqrqPwAAAAAAAPA/AAAAAAAA8D8AAAAAAADwPwAAAAAAAPA/AAAAAAAA8D8=",
          "dtype": "f8"
         }
        },
        {
         "marker": {
          "color": "#1f77b4",
          "opacity": 0.5,
          "size": 6
         },
         "mode": "markers",
         "name": "Fold ('direction_accuracy_score', 0)",
         "showlegend": false,
         "type": "scatter",
         "x": {
          "bdata": "AAECAwQFBgcICQoLDA0ODxAREhMUFRYXGBkaGw==",
          "dtype": "i1"
         },
         "y": {
          "bdata": "VVVVVVVV7T9VVVVVVVXtPwAAAAAAAOg/VVVVVVVV7T9VVVVVVVXtP6uqqqqqquo/q6qqqqqq6j9VVVVVVVXtPwAAAAAAAPA/AAAAAAAA8D+rqqqqqqrqPwAAAAAAAPA/AAAAAAAA8D8AAAAAAADwPwAAAAAAAPA/AAAAAAAA8D+rqqqqqqrqP6uqqqqqquo/AAAAAAAA8D8AAAAAAADwPwAAAAAAAPA/AAAAAAAA8D+rqqqqqqrqPwAAAAAAAPA/AAAAAAAA8D8AAAAAAADwPwAAAAAAAPA/AAAAAAAA8D8=",
          "dtype": "f8"
         }
        },
        {
         "marker": {
          "color": "#1f77b4",
          "opacity": 0.5,
          "size": 6
         },
         "mode": "markers",
         "name": "Fold ('direction_accuracy_score', 1)",
         "showlegend": false,
         "type": "scatter",
         "x": {
          "bdata": "AAECAwQFBgcICQoLDA0ODxAREhMUFRYXGBkaGw==",
          "dtype": "i1"
         },
         "y": {
          "bdata": "VVVVVVVV7T9VVVVVVVXtPwAAAAAAAOg/VVVVVVVV7T9VVVVVVVXtP6uqqqqqquo/q6qqqqqq6j9VVVVVVVXtPwAAAAAAAPA/AAAAAAAA8D+rqqqqqqrqPwAAAAAAAPA/AAAAAAAA8D8AAAAAAADwPwAAAAAAAPA/AAAAAAAA8D+rqqqqqqrqP6uqqqqqquo/AAAAAAAA8D8AAAAAAADwPwAAAAAAAPA/AAAAAAAA8D+rqqqqqqrqPwAAAAAAAPA/AAAAAAAA8D8AAAAAAADwPwAAAAAAAPA/AAAAAAAA8D8=",
          "dtype": "f8"
         }
        },
        {
         "marker": {
          "color": "#1f77b4",
          "opacity": 0.5,
          "size": 6
         },
         "mode": "markers",
         "name": "Fold ('direction_accuracy_score', 2)",
         "showlegend": false,
         "type": "scatter",
         "x": {
          "bdata": "AAECAwQFBgcICQoLDA0ODxAREhMUFRYXGBkaGw==",
          "dtype": "i1"
         },
         "y": {
          "bdata": "VVVVVVVV7T9VVVVVVVXtPwAAAAAAAOg/VVVVVVVV7T9VVVVVVVXtP6uqqqqqquo/q6qqqqqq6j9VVVVVVVXtPwAAAAAAAPA/AAAAAAAA8D+rqqqqqqrqPwAAAAAAAPA/AAAAAAAA8D8AAAAAAADwPwAAAAAAAPA/AAAAAAAA8D+rqqqqqqrqP6uqqqqqquo/AAAAAAAA8D8AAAAAAADwPwAAAAAAAPA/AAAAAAAA8D+rqqqqqqrqPwAAAAAAAPA/AAAAAAAA8D8AAAAAAADwPwAAAAAAAPA/AAAAAAAA8D8=",
          "dtype": "f8"
         }
        },
        {
         "marker": {
          "color": "#1f77b4",
          "opacity": 0.5,
          "size": 6
         },
         "mode": "markers",
         "name": "Fold ('direction_accuracy_score', 3)",
         "showlegend": false,
         "type": "scatter",
         "x": {
          "bdata": "AAECAwQFBgcICQoLDA0ODxAREhMUFRYXGBkaGw==",
          "dtype": "i1"
         },
         "y": {
          "bdata": "VVVVVVVV7T9VVVVVVVXtPwAAAAAAAOg/VVVVVVVV7T9VVVVVVVXtP6uqqqqqquo/q6qqqqqq6j9VVVVVVVXtPwAAAAAAAPA/AAAAAAAA8D+rqqqqqqrqPwAAAAAAAPA/AAAAAAAA8D8AAAAAAADwPwAAAAAAAPA/AAAAAAAA8D+rqqqqqqrqP6uqqqqqquo/AAAAAAAA8D8AAAAAAADwPwAAAAAAAPA/AAAAAAAA8D+rqqqqqqrqPwAAAAAAAPA/AAAAAAAA8D8AAAAAAADwPwAAAAAAAPA/AAAAAAAA8D8=",
          "dtype": "f8"
         }
        },
        {
         "marker": {
          "color": "#1f77b4",
          "opacity": 0.5,
          "size": 6
         },
         "mode": "markers",
         "name": "Fold ('direction_accuracy_score', 4)",
         "showlegend": false,
         "type": "scatter",
         "x": {
          "bdata": "AAECAwQFBgcICQoLDA0ODxAREhMUFRYXGBkaGw==",
          "dtype": "i1"
         },
         "y": {
          "bdata": "VVVVVVVV7T9VVVVVVVXtPwAAAAAAAOg/VVVVVVVV7T9VVVVVVVXtP6uqqqqqquo/q6qqqqqq6j9VVVVVVVXtPwAAAAAAAPA/AAAAAAAA8D+rqqqqqqrqPwAAAAAAAPA/AAAAAAAA8D8AAAAAAADwPwAAAAAAAPA/AAAAAAAA8D+rqqqqqqrqP6uqqqqqquo/AAAAAAAA8D8AAAAAAADwPwAAAAAAAPA/AAAAAAAA8D+rqqqqqqrqPwAAAAAAAPA/AAAAAAAA8D8AAAAAAADwPwAAAAAAAPA/AAAAAAAA8D8=",
          "dtype": "f8"
         }
        }
       ],
       "layout": {
        "font": {
         "color": "white"
        },
        "margin": {
         "l": 50,
         "r": 30,
         "t": 50
        },
        "paper_bgcolor": "rgba(32, 32, 32, 1)",
        "plot_bgcolor": "rgba(32, 32, 32, 1)",
        "showlegend": false,
        "template": {
         "data": {
          "bar": [
           {
            "error_x": {
             "color": "#f2f5fa"
            },
            "error_y": {
             "color": "#f2f5fa"
            },
            "marker": {
             "line": {
              "color": "rgb(17,17,17)",
              "width": 0.5
             },
             "pattern": {
              "fillmode": "overlay",
              "size": 10,
              "solidity": 0.2
             }
            },
            "type": "bar"
           }
          ],
          "barpolar": [
           {
            "marker": {
             "line": {
              "color": "rgb(17,17,17)",
              "width": 0.5
             },
             "pattern": {
              "fillmode": "overlay",
              "size": 10,
              "solidity": 0.2
             }
            },
            "type": "barpolar"
           }
          ],
          "carpet": [
           {
            "aaxis": {
             "endlinecolor": "#A2B1C6",
             "gridcolor": "#506784",
             "linecolor": "#506784",
             "minorgridcolor": "#506784",
             "startlinecolor": "#A2B1C6"
            },
            "baxis": {
             "endlinecolor": "#A2B1C6",
             "gridcolor": "#506784",
             "linecolor": "#506784",
             "minorgridcolor": "#506784",
             "startlinecolor": "#A2B1C6"
            },
            "type": "carpet"
           }
          ],
          "choropleth": [
           {
            "colorbar": {
             "outlinewidth": 0,
             "ticks": ""
            },
            "type": "choropleth"
           }
          ],
          "contour": [
           {
            "colorbar": {
             "outlinewidth": 0,
             "ticks": ""
            },
            "colorscale": [
             [
              0,
              "#0d0887"
             ],
             [
              0.1111111111111111,
              "#46039f"
             ],
             [
              0.2222222222222222,
              "#7201a8"
             ],
             [
              0.3333333333333333,
              "#9c179e"
             ],
             [
              0.4444444444444444,
              "#bd3786"
             ],
             [
              0.5555555555555556,
              "#d8576b"
             ],
             [
              0.6666666666666666,
              "#ed7953"
             ],
             [
              0.7777777777777778,
              "#fb9f3a"
             ],
             [
              0.8888888888888888,
              "#fdca26"
             ],
             [
              1,
              "#f0f921"
             ]
            ],
            "type": "contour"
           }
          ],
          "contourcarpet": [
           {
            "colorbar": {
             "outlinewidth": 0,
             "ticks": ""
            },
            "type": "contourcarpet"
           }
          ],
          "heatmap": [
           {
            "colorbar": {
             "outlinewidth": 0,
             "ticks": ""
            },
            "colorscale": [
             [
              0,
              "#0d0887"
             ],
             [
              0.1111111111111111,
              "#46039f"
             ],
             [
              0.2222222222222222,
              "#7201a8"
             ],
             [
              0.3333333333333333,
              "#9c179e"
             ],
             [
              0.4444444444444444,
              "#bd3786"
             ],
             [
              0.5555555555555556,
              "#d8576b"
             ],
             [
              0.6666666666666666,
              "#ed7953"
             ],
             [
              0.7777777777777778,
              "#fb9f3a"
             ],
             [
              0.8888888888888888,
              "#fdca26"
             ],
             [
              1,
              "#f0f921"
             ]
            ],
            "type": "heatmap"
           }
          ],
          "histogram": [
           {
            "marker": {
             "pattern": {
              "fillmode": "overlay",
              "size": 10,
              "solidity": 0.2
             }
            },
            "type": "histogram"
           }
          ],
          "histogram2d": [
           {
            "colorbar": {
             "outlinewidth": 0,
             "ticks": ""
            },
            "colorscale": [
             [
              0,
              "#0d0887"
             ],
             [
              0.1111111111111111,
              "#46039f"
             ],
             [
              0.2222222222222222,
              "#7201a8"
             ],
             [
              0.3333333333333333,
              "#9c179e"
             ],
             [
              0.4444444444444444,
              "#bd3786"
             ],
             [
              0.5555555555555556,
              "#d8576b"
             ],
             [
              0.6666666666666666,
              "#ed7953"
             ],
             [
              0.7777777777777778,
              "#fb9f3a"
             ],
             [
              0.8888888888888888,
              "#fdca26"
             ],
             [
              1,
              "#f0f921"
             ]
            ],
            "type": "histogram2d"
           }
          ],
          "histogram2dcontour": [
           {
            "colorbar": {
             "outlinewidth": 0,
             "ticks": ""
            },
            "colorscale": [
             [
              0,
              "#0d0887"
             ],
             [
              0.1111111111111111,
              "#46039f"
             ],
             [
              0.2222222222222222,
              "#7201a8"
             ],
             [
              0.3333333333333333,
              "#9c179e"
             ],
             [
              0.4444444444444444,
              "#bd3786"
             ],
             [
              0.5555555555555556,
              "#d8576b"
             ],
             [
              0.6666666666666666,
              "#ed7953"
             ],
             [
              0.7777777777777778,
              "#fb9f3a"
             ],
             [
              0.8888888888888888,
              "#fdca26"
             ],
             [
              1,
              "#f0f921"
             ]
            ],
            "type": "histogram2dcontour"
           }
          ],
          "mesh3d": [
           {
            "colorbar": {
             "outlinewidth": 0,
             "ticks": ""
            },
            "type": "mesh3d"
           }
          ],
          "parcoords": [
           {
            "line": {
             "colorbar": {
              "outlinewidth": 0,
              "ticks": ""
             }
            },
            "type": "parcoords"
           }
          ],
          "pie": [
           {
            "automargin": true,
            "type": "pie"
           }
          ],
          "scatter": [
           {
            "marker": {
             "line": {
              "color": "#283442"
             }
            },
            "type": "scatter"
           }
          ],
          "scatter3d": [
           {
            "line": {
             "colorbar": {
              "outlinewidth": 0,
              "ticks": ""
             }
            },
            "marker": {
             "colorbar": {
              "outlinewidth": 0,
              "ticks": ""
             }
            },
            "type": "scatter3d"
           }
          ],
          "scattercarpet": [
           {
            "marker": {
             "colorbar": {
              "outlinewidth": 0,
              "ticks": ""
             }
            },
            "type": "scattercarpet"
           }
          ],
          "scattergeo": [
           {
            "marker": {
             "colorbar": {
              "outlinewidth": 0,
              "ticks": ""
             }
            },
            "type": "scattergeo"
           }
          ],
          "scattergl": [
           {
            "marker": {
             "line": {
              "color": "#283442"
             }
            },
            "type": "scattergl"
           }
          ],
          "scattermap": [
           {
            "marker": {
             "colorbar": {
              "outlinewidth": 0,
              "ticks": ""
             }
            },
            "type": "scattermap"
           }
          ],
          "scattermapbox": [
           {
            "marker": {
             "colorbar": {
              "outlinewidth": 0,
              "ticks": ""
             }
            },
            "type": "scattermapbox"
           }
          ],
          "scatterpolar": [
           {
            "marker": {
             "colorbar": {
              "outlinewidth": 0,
              "ticks": ""
             }
            },
            "type": "scatterpolar"
           }
          ],
          "scatterpolargl": [
           {
            "marker": {
             "colorbar": {
              "outlinewidth": 0,
              "ticks": ""
             }
            },
            "type": "scatterpolargl"
           }
          ],
          "scatterternary": [
           {
            "marker": {
             "colorbar": {
              "outlinewidth": 0,
              "ticks": ""
             }
            },
            "type": "scatterternary"
           }
          ],
          "surface": [
           {
            "colorbar": {
             "outlinewidth": 0,
             "ticks": ""
            },
            "colorscale": [
             [
              0,
              "#0d0887"
             ],
             [
              0.1111111111111111,
              "#46039f"
             ],
             [
              0.2222222222222222,
              "#7201a8"
             ],
             [
              0.3333333333333333,
              "#9c179e"
             ],
             [
              0.4444444444444444,
              "#bd3786"
             ],
             [
              0.5555555555555556,
              "#d8576b"
             ],
             [
              0.6666666666666666,
              "#ed7953"
             ],
             [
              0.7777777777777778,
              "#fb9f3a"
             ],
             [
              0.8888888888888888,
              "#fdca26"
             ],
             [
              1,
              "#f0f921"
             ]
            ],
            "type": "surface"
           }
          ],
          "table": [
           {
            "cells": {
             "fill": {
              "color": "#506784"
             },
             "line": {
              "color": "rgb(17,17,17)"
             }
            },
            "header": {
             "fill": {
              "color": "#2a3f5f"
             },
             "line": {
              "color": "rgb(17,17,17)"
             }
            },
            "type": "table"
           }
          ]
         },
         "layout": {
          "annotationdefaults": {
           "arrowcolor": "#f2f5fa",
           "arrowhead": 0,
           "arrowwidth": 1
          },
          "autotypenumbers": "strict",
          "coloraxis": {
           "colorbar": {
            "outlinewidth": 0,
            "ticks": ""
           }
          },
          "colorscale": {
           "diverging": [
            [
             0,
             "#8e0152"
            ],
            [
             0.1,
             "#c51b7d"
            ],
            [
             0.2,
             "#de77ae"
            ],
            [
             0.3,
             "#f1b6da"
            ],
            [
             0.4,
             "#fde0ef"
            ],
            [
             0.5,
             "#f7f7f7"
            ],
            [
             0.6,
             "#e6f5d0"
            ],
            [
             0.7,
             "#b8e186"
            ],
            [
             0.8,
             "#7fbc41"
            ],
            [
             0.9,
             "#4d9221"
            ],
            [
             1,
             "#276419"
            ]
           ],
           "sequential": [
            [
             0,
             "#0d0887"
            ],
            [
             0.1111111111111111,
             "#46039f"
            ],
            [
             0.2222222222222222,
             "#7201a8"
            ],
            [
             0.3333333333333333,
             "#9c179e"
            ],
            [
             0.4444444444444444,
             "#bd3786"
            ],
            [
             0.5555555555555556,
             "#d8576b"
            ],
            [
             0.6666666666666666,
             "#ed7953"
            ],
            [
             0.7777777777777778,
             "#fb9f3a"
            ],
            [
             0.8888888888888888,
             "#fdca26"
            ],
            [
             1,
             "#f0f921"
            ]
           ],
           "sequentialminus": [
            [
             0,
             "#0d0887"
            ],
            [
             0.1111111111111111,
             "#46039f"
            ],
            [
             0.2222222222222222,
             "#7201a8"
            ],
            [
             0.3333333333333333,
             "#9c179e"
            ],
            [
             0.4444444444444444,
             "#bd3786"
            ],
            [
             0.5555555555555556,
             "#d8576b"
            ],
            [
             0.6666666666666666,
             "#ed7953"
            ],
            [
             0.7777777777777778,
             "#fb9f3a"
            ],
            [
             0.8888888888888888,
             "#fdca26"
            ],
            [
             1,
             "#f0f921"
            ]
           ]
          },
          "colorway": [
           "#636efa",
           "#EF553B",
           "#00cc96",
           "#ab63fa",
           "#FFA15A",
           "#19d3f3",
           "#FF6692",
           "#B6E880",
           "#FF97FF",
           "#FECB52"
          ],
          "font": {
           "color": "#f2f5fa"
          },
          "geo": {
           "bgcolor": "rgb(17,17,17)",
           "lakecolor": "rgb(17,17,17)",
           "landcolor": "rgb(17,17,17)",
           "showlakes": true,
           "showland": true,
           "subunitcolor": "#506784"
          },
          "hoverlabel": {
           "align": "left"
          },
          "hovermode": "closest",
          "mapbox": {
           "style": "dark"
          },
          "paper_bgcolor": "rgb(17,17,17)",
          "plot_bgcolor": "rgb(17,17,17)",
          "polar": {
           "angularaxis": {
            "gridcolor": "#506784",
            "linecolor": "#506784",
            "ticks": ""
           },
           "bgcolor": "rgb(17,17,17)",
           "radialaxis": {
            "gridcolor": "#506784",
            "linecolor": "#506784",
            "ticks": ""
           }
          },
          "scene": {
           "xaxis": {
            "backgroundcolor": "rgb(17,17,17)",
            "gridcolor": "#506784",
            "gridwidth": 2,
            "linecolor": "#506784",
            "showbackground": true,
            "ticks": "",
            "zerolinecolor": "#C8D4E3"
           },
           "yaxis": {
            "backgroundcolor": "rgb(17,17,17)",
            "gridcolor": "#506784",
            "gridwidth": 2,
            "linecolor": "#506784",
            "showbackground": true,
            "ticks": "",
            "zerolinecolor": "#C8D4E3"
           },
           "zaxis": {
            "backgroundcolor": "rgb(17,17,17)",
            "gridcolor": "#506784",
            "gridwidth": 2,
            "linecolor": "#506784",
            "showbackground": true,
            "ticks": "",
            "zerolinecolor": "#C8D4E3"
           }
          },
          "shapedefaults": {
           "line": {
            "color": "#f2f5fa"
           }
          },
          "sliderdefaults": {
           "bgcolor": "#C8D4E3",
           "bordercolor": "rgb(17,17,17)",
           "borderwidth": 1,
           "tickwidth": 0
          },
          "ternary": {
           "aaxis": {
            "gridcolor": "#506784",
            "linecolor": "#506784",
            "ticks": ""
           },
           "baxis": {
            "gridcolor": "#506784",
            "linecolor": "#506784",
            "ticks": ""
           },
           "bgcolor": "rgb(17,17,17)",
           "caxis": {
            "gridcolor": "#506784",
            "linecolor": "#506784",
            "ticks": ""
           }
          },
          "title": {
           "x": 0.05
          },
          "updatemenudefaults": {
           "bgcolor": "#506784",
           "borderwidth": 0
          },
          "xaxis": {
           "automargin": true,
           "gridcolor": "#283442",
           "linecolor": "#506784",
           "ticks": "",
           "title": {
            "standoff": 15
           },
           "zerolinecolor": "#283442",
           "zerolinewidth": 2
          },
          "yaxis": {
           "automargin": true,
           "gridcolor": "#283442",
           "linecolor": "#506784",
           "ticks": "",
           "title": {
            "standoff": 15
           },
           "zerolinecolor": "#283442",
           "zerolinewidth": 2
          }
         }
        },
        "title": {},
        "xaxis": {
         "gridcolor": "rgba(128, 128, 128, 0.2)",
         "title": {
          "text": "Layer"
         },
         "zeroline": false
        },
        "yaxis": {
         "gridcolor": "rgba(128, 128, 128, 0.2)",
         "title": {
          "text": "Direction Accuracy Score"
         },
         "zeroline": false
        }
       }
      }
     },
     "metadata": {},
     "output_type": "display_data"
    },
    {
     "data": {
      "application/vnd.plotly.v1+json": {
       "config": {
        "plotlyServerURL": "https://plot.ly"
       },
       "data": [
        {
         "line": {
          "color": "#1f77b4",
          "width": 2
         },
         "marker": {
          "size": 8
         },
         "mode": "lines+markers",
         "name": "Mean",
         "type": "scatter",
         "x": {
          "bdata": "AAECAwQFBgcICQoLDA0ODxAREhMUFRYXGBkaGw==",
          "dtype": "i1"
         },
         "y": {
          "bdata": "27Zt27Zt6z/btm3btm3rP5qZmZmZmek/27Zt27Zt6z/btm3btm3rPwAAAAAAAPA/AAAAAAAA8D/btm3btm3rPwAAAAAAAPA/AAAAAAAA8D8AAAAAAADwPwAAAAAAAPA/AAAAAAAA8D8AAAAAAADwPwAAAAAAAPA/AAAAAAAA8D8AAAAAAADwPwAAAAAAAPA/AAAAAAAA8D8AAAAAAADwPwAAAAAAAPA/AAAAAAAA8D8AAAAAAADwPwAAAAAAAPA/AAAAAAAA8D8AAAAAAADwPwAAAAAAAPA/AAAAAAAA8D8=",
          "dtype": "f8"
         }
        },
        {
         "line": {
          "width": 0
         },
         "mode": "lines",
         "name": "Max",
         "showlegend": false,
         "type": "scatter",
         "x": {
          "bdata": "AAECAwQFBgcICQoLDA0ODxAREhMUFRYXGBkaGw==",
          "dtype": "i1"
         },
         "y": {
          "bdata": "27Zt27Zt6z/btm3btm3rP5qZmZmZmek/27Zt27Zt6z/btm3btm3rPwAAAAAAAPA/AAAAAAAA8D/btm3btm3rPwAAAAAAAPA/AAAAAAAA8D8AAAAAAADwPwAAAAAAAPA/AAAAAAAA8D8AAAAAAADwPwAAAAAAAPA/AAAAAAAA8D8AAAAAAADwPwAAAAAAAPA/AAAAAAAA8D8AAAAAAADwPwAAAAAAAPA/AAAAAAAA8D8AAAAAAADwPwAAAAAAAPA/AAAAAAAA8D8AAAAAAADwPwAAAAAAAPA/AAAAAAAA8D8=",
          "dtype": "f8"
         }
        },
        {
         "fill": "tonexty",
         "fillcolor": "rgba(68, 138, 255, 0.1)",
         "line": {
          "width": 0
         },
         "mode": "lines",
         "name": "Min",
         "showlegend": false,
         "type": "scatter",
         "x": {
          "bdata": "AAECAwQFBgcICQoLDA0ODxAREhMUFRYXGBkaGw==",
          "dtype": "i1"
         },
         "y": {
          "bdata": "27Zt27Zt6z/btm3btm3rP5qZmZmZmek/27Zt27Zt6z/btm3btm3rPwAAAAAAAPA/AAAAAAAA8D/btm3btm3rPwAAAAAAAPA/AAAAAAAA8D8AAAAAAADwPwAAAAAAAPA/AAAAAAAA8D8AAAAAAADwPwAAAAAAAPA/AAAAAAAA8D8AAAAAAADwPwAAAAAAAPA/AAAAAAAA8D8AAAAAAADwPwAAAAAAAPA/AAAAAAAA8D8AAAAAAADwPwAAAAAAAPA/AAAAAAAA8D8AAAAAAADwPwAAAAAAAPA/AAAAAAAA8D8=",
          "dtype": "f8"
         }
        },
        {
         "line": {
          "width": 0
         },
         "mode": "lines",
         "name": "+1 STD",
         "showlegend": false,
         "type": "scatter",
         "x": {
          "bdata": "AAECAwQFBgcICQoLDA0ODxAREhMUFRYXGBkaGw==",
          "dtype": "i1"
         },
         "y": {
          "bdata": "27Zt27Zt6z/btm3btm3rP5qZmZmZmek/27Zt27Zt6z/btm3btm3rPwAAAAAAAPA/AAAAAAAA8D/btm3btm3rPwAAAAAAAPA/AAAAAAAA8D8AAAAAAADwPwAAAAAAAPA/AAAAAAAA8D8AAAAAAADwPwAAAAAAAPA/AAAAAAAA8D8AAAAAAADwPwAAAAAAAPA/AAAAAAAA8D8AAAAAAADwPwAAAAAAAPA/AAAAAAAA8D8AAAAAAADwPwAAAAAAAPA/AAAAAAAA8D8AAAAAAADwPwAAAAAAAPA/AAAAAAAA8D8=",
          "dtype": "f8"
         }
        },
        {
         "fill": "tonexty",
         "fillcolor": "rgba(68, 138, 255, 0.3)",
         "line": {
          "width": 0
         },
         "mode": "lines",
         "name": "-1 STD",
         "showlegend": false,
         "type": "scatter",
         "x": {
          "bdata": "AAECAwQFBgcICQoLDA0ODxAREhMUFRYXGBkaGw==",
          "dtype": "i1"
         },
         "y": {
          "bdata": "27Zt27Zt6z/btm3btm3rP5qZmZmZmek/27Zt27Zt6z/btm3btm3rPwAAAAAAAPA/AAAAAAAA8D/btm3btm3rPwAAAAAAAPA/AAAAAAAA8D8AAAAAAADwPwAAAAAAAPA/AAAAAAAA8D8AAAAAAADwPwAAAAAAAPA/AAAAAAAA8D8AAAAAAADwPwAAAAAAAPA/AAAAAAAA8D8AAAAAAADwPwAAAAAAAPA/AAAAAAAA8D8AAAAAAADwPwAAAAAAAPA/AAAAAAAA8D8AAAAAAADwPwAAAAAAAPA/AAAAAAAA8D8=",
          "dtype": "f8"
         }
        },
        {
         "marker": {
          "color": "#1f77b4",
          "opacity": 0.5,
          "size": 6
         },
         "mode": "markers",
         "name": "Fold ('direction_precision_score', 0)",
         "showlegend": false,
         "type": "scatter",
         "x": {
          "bdata": "AAECAwQFBgcICQoLDA0ODxAREhMUFRYXGBkaGw==",
          "dtype": "i1"
         },
         "y": {
          "bdata": "27Zt27Zt6z/btm3btm3rP5qZmZmZmek/27Zt27Zt6z/btm3btm3rPwAAAAAAAPA/AAAAAAAA8D/btm3btm3rPwAAAAAAAPA/AAAAAAAA8D8AAAAAAADwPwAAAAAAAPA/AAAAAAAA8D8AAAAAAADwPwAAAAAAAPA/AAAAAAAA8D8AAAAAAADwPwAAAAAAAPA/AAAAAAAA8D8AAAAAAADwPwAAAAAAAPA/AAAAAAAA8D8AAAAAAADwPwAAAAAAAPA/AAAAAAAA8D8AAAAAAADwPwAAAAAAAPA/AAAAAAAA8D8=",
          "dtype": "f8"
         }
        },
        {
         "marker": {
          "color": "#1f77b4",
          "opacity": 0.5,
          "size": 6
         },
         "mode": "markers",
         "name": "Fold ('direction_precision_score', 1)",
         "showlegend": false,
         "type": "scatter",
         "x": {
          "bdata": "AAECAwQFBgcICQoLDA0ODxAREhMUFRYXGBkaGw==",
          "dtype": "i1"
         },
         "y": {
          "bdata": "27Zt27Zt6z/btm3btm3rP5qZmZmZmek/27Zt27Zt6z/btm3btm3rPwAAAAAAAPA/AAAAAAAA8D/btm3btm3rPwAAAAAAAPA/AAAAAAAA8D8AAAAAAADwPwAAAAAAAPA/AAAAAAAA8D8AAAAAAADwPwAAAAAAAPA/AAAAAAAA8D8AAAAAAADwPwAAAAAAAPA/AAAAAAAA8D8AAAAAAADwPwAAAAAAAPA/AAAAAAAA8D8AAAAAAADwPwAAAAAAAPA/AAAAAAAA8D8AAAAAAADwPwAAAAAAAPA/AAAAAAAA8D8=",
          "dtype": "f8"
         }
        },
        {
         "marker": {
          "color": "#1f77b4",
          "opacity": 0.5,
          "size": 6
         },
         "mode": "markers",
         "name": "Fold ('direction_precision_score', 2)",
         "showlegend": false,
         "type": "scatter",
         "x": {
          "bdata": "AAECAwQFBgcICQoLDA0ODxAREhMUFRYXGBkaGw==",
          "dtype": "i1"
         },
         "y": {
          "bdata": "27Zt27Zt6z/btm3btm3rP5qZmZmZmek/27Zt27Zt6z/btm3btm3rPwAAAAAAAPA/AAAAAAAA8D/btm3btm3rPwAAAAAAAPA/AAAAAAAA8D8AAAAAAADwPwAAAAAAAPA/AAAAAAAA8D8AAAAAAADwPwAAAAAAAPA/AAAAAAAA8D8AAAAAAADwPwAAAAAAAPA/AAAAAAAA8D8AAAAAAADwPwAAAAAAAPA/AAAAAAAA8D8AAAAAAADwPwAAAAAAAPA/AAAAAAAA8D8AAAAAAADwPwAAAAAAAPA/AAAAAAAA8D8=",
          "dtype": "f8"
         }
        },
        {
         "marker": {
          "color": "#1f77b4",
          "opacity": 0.5,
          "size": 6
         },
         "mode": "markers",
         "name": "Fold ('direction_precision_score', 3)",
         "showlegend": false,
         "type": "scatter",
         "x": {
          "bdata": "AAECAwQFBgcICQoLDA0ODxAREhMUFRYXGBkaGw==",
          "dtype": "i1"
         },
         "y": {
          "bdata": "27Zt27Zt6z/btm3btm3rP5qZmZmZmek/27Zt27Zt6z/btm3btm3rPwAAAAAAAPA/AAAAAAAA8D/btm3btm3rPwAAAAAAAPA/AAAAAAAA8D8AAAAAAADwPwAAAAAAAPA/AAAAAAAA8D8AAAAAAADwPwAAAAAAAPA/AAAAAAAA8D8AAAAAAADwPwAAAAAAAPA/AAAAAAAA8D8AAAAAAADwPwAAAAAAAPA/AAAAAAAA8D8AAAAAAADwPwAAAAAAAPA/AAAAAAAA8D8AAAAAAADwPwAAAAAAAPA/AAAAAAAA8D8=",
          "dtype": "f8"
         }
        },
        {
         "marker": {
          "color": "#1f77b4",
          "opacity": 0.5,
          "size": 6
         },
         "mode": "markers",
         "name": "Fold ('direction_precision_score', 4)",
         "showlegend": false,
         "type": "scatter",
         "x": {
          "bdata": "AAECAwQFBgcICQoLDA0ODxAREhMUFRYXGBkaGw==",
          "dtype": "i1"
         },
         "y": {
          "bdata": "27Zt27Zt6z/btm3btm3rP5qZmZmZmek/27Zt27Zt6z/btm3btm3rPwAAAAAAAPA/AAAAAAAA8D/btm3btm3rPwAAAAAAAPA/AAAAAAAA8D8AAAAAAADwPwAAAAAAAPA/AAAAAAAA8D8AAAAAAADwPwAAAAAAAPA/AAAAAAAA8D8AAAAAAADwPwAAAAAAAPA/AAAAAAAA8D8AAAAAAADwPwAAAAAAAPA/AAAAAAAA8D8AAAAAAADwPwAAAAAAAPA/AAAAAAAA8D8AAAAAAADwPwAAAAAAAPA/AAAAAAAA8D8=",
          "dtype": "f8"
         }
        }
       ],
       "layout": {
        "font": {
         "color": "white"
        },
        "margin": {
         "l": 50,
         "r": 30,
         "t": 50
        },
        "paper_bgcolor": "rgba(32, 32, 32, 1)",
        "plot_bgcolor": "rgba(32, 32, 32, 1)",
        "showlegend": false,
        "template": {
         "data": {
          "bar": [
           {
            "error_x": {
             "color": "#f2f5fa"
            },
            "error_y": {
             "color": "#f2f5fa"
            },
            "marker": {
             "line": {
              "color": "rgb(17,17,17)",
              "width": 0.5
             },
             "pattern": {
              "fillmode": "overlay",
              "size": 10,
              "solidity": 0.2
             }
            },
            "type": "bar"
           }
          ],
          "barpolar": [
           {
            "marker": {
             "line": {
              "color": "rgb(17,17,17)",
              "width": 0.5
             },
             "pattern": {
              "fillmode": "overlay",
              "size": 10,
              "solidity": 0.2
             }
            },
            "type": "barpolar"
           }
          ],
          "carpet": [
           {
            "aaxis": {
             "endlinecolor": "#A2B1C6",
             "gridcolor": "#506784",
             "linecolor": "#506784",
             "minorgridcolor": "#506784",
             "startlinecolor": "#A2B1C6"
            },
            "baxis": {
             "endlinecolor": "#A2B1C6",
             "gridcolor": "#506784",
             "linecolor": "#506784",
             "minorgridcolor": "#506784",
             "startlinecolor": "#A2B1C6"
            },
            "type": "carpet"
           }
          ],
          "choropleth": [
           {
            "colorbar": {
             "outlinewidth": 0,
             "ticks": ""
            },
            "type": "choropleth"
           }
          ],
          "contour": [
           {
            "colorbar": {
             "outlinewidth": 0,
             "ticks": ""
            },
            "colorscale": [
             [
              0,
              "#0d0887"
             ],
             [
              0.1111111111111111,
              "#46039f"
             ],
             [
              0.2222222222222222,
              "#7201a8"
             ],
             [
              0.3333333333333333,
              "#9c179e"
             ],
             [
              0.4444444444444444,
              "#bd3786"
             ],
             [
              0.5555555555555556,
              "#d8576b"
             ],
             [
              0.6666666666666666,
              "#ed7953"
             ],
             [
              0.7777777777777778,
              "#fb9f3a"
             ],
             [
              0.8888888888888888,
              "#fdca26"
             ],
             [
              1,
              "#f0f921"
             ]
            ],
            "type": "contour"
           }
          ],
          "contourcarpet": [
           {
            "colorbar": {
             "outlinewidth": 0,
             "ticks": ""
            },
            "type": "contourcarpet"
           }
          ],
          "heatmap": [
           {
            "colorbar": {
             "outlinewidth": 0,
             "ticks": ""
            },
            "colorscale": [
             [
              0,
              "#0d0887"
             ],
             [
              0.1111111111111111,
              "#46039f"
             ],
             [
              0.2222222222222222,
              "#7201a8"
             ],
             [
              0.3333333333333333,
              "#9c179e"
             ],
             [
              0.4444444444444444,
              "#bd3786"
             ],
             [
              0.5555555555555556,
              "#d8576b"
             ],
             [
              0.6666666666666666,
              "#ed7953"
             ],
             [
              0.7777777777777778,
              "#fb9f3a"
             ],
             [
              0.8888888888888888,
              "#fdca26"
             ],
             [
              1,
              "#f0f921"
             ]
            ],
            "type": "heatmap"
           }
          ],
          "histogram": [
           {
            "marker": {
             "pattern": {
              "fillmode": "overlay",
              "size": 10,
              "solidity": 0.2
             }
            },
            "type": "histogram"
           }
          ],
          "histogram2d": [
           {
            "colorbar": {
             "outlinewidth": 0,
             "ticks": ""
            },
            "colorscale": [
             [
              0,
              "#0d0887"
             ],
             [
              0.1111111111111111,
              "#46039f"
             ],
             [
              0.2222222222222222,
              "#7201a8"
             ],
             [
              0.3333333333333333,
              "#9c179e"
             ],
             [
              0.4444444444444444,
              "#bd3786"
             ],
             [
              0.5555555555555556,
              "#d8576b"
             ],
             [
              0.6666666666666666,
              "#ed7953"
             ],
             [
              0.7777777777777778,
              "#fb9f3a"
             ],
             [
              0.8888888888888888,
              "#fdca26"
             ],
             [
              1,
              "#f0f921"
             ]
            ],
            "type": "histogram2d"
           }
          ],
          "histogram2dcontour": [
           {
            "colorbar": {
             "outlinewidth": 0,
             "ticks": ""
            },
            "colorscale": [
             [
              0,
              "#0d0887"
             ],
             [
              0.1111111111111111,
              "#46039f"
             ],
             [
              0.2222222222222222,
              "#7201a8"
             ],
             [
              0.3333333333333333,
              "#9c179e"
             ],
             [
              0.4444444444444444,
              "#bd3786"
             ],
             [
              0.5555555555555556,
              "#d8576b"
             ],
             [
              0.6666666666666666,
              "#ed7953"
             ],
             [
              0.7777777777777778,
              "#fb9f3a"
             ],
             [
              0.8888888888888888,
              "#fdca26"
             ],
             [
              1,
              "#f0f921"
             ]
            ],
            "type": "histogram2dcontour"
           }
          ],
          "mesh3d": [
           {
            "colorbar": {
             "outlinewidth": 0,
             "ticks": ""
            },
            "type": "mesh3d"
           }
          ],
          "parcoords": [
           {
            "line": {
             "colorbar": {
              "outlinewidth": 0,
              "ticks": ""
             }
            },
            "type": "parcoords"
           }
          ],
          "pie": [
           {
            "automargin": true,
            "type": "pie"
           }
          ],
          "scatter": [
           {
            "marker": {
             "line": {
              "color": "#283442"
             }
            },
            "type": "scatter"
           }
          ],
          "scatter3d": [
           {
            "line": {
             "colorbar": {
              "outlinewidth": 0,
              "ticks": ""
             }
            },
            "marker": {
             "colorbar": {
              "outlinewidth": 0,
              "ticks": ""
             }
            },
            "type": "scatter3d"
           }
          ],
          "scattercarpet": [
           {
            "marker": {
             "colorbar": {
              "outlinewidth": 0,
              "ticks": ""
             }
            },
            "type": "scattercarpet"
           }
          ],
          "scattergeo": [
           {
            "marker": {
             "colorbar": {
              "outlinewidth": 0,
              "ticks": ""
             }
            },
            "type": "scattergeo"
           }
          ],
          "scattergl": [
           {
            "marker": {
             "line": {
              "color": "#283442"
             }
            },
            "type": "scattergl"
           }
          ],
          "scattermap": [
           {
            "marker": {
             "colorbar": {
              "outlinewidth": 0,
              "ticks": ""
             }
            },
            "type": "scattermap"
           }
          ],
          "scattermapbox": [
           {
            "marker": {
             "colorbar": {
              "outlinewidth": 0,
              "ticks": ""
             }
            },
            "type": "scattermapbox"
           }
          ],
          "scatterpolar": [
           {
            "marker": {
             "colorbar": {
              "outlinewidth": 0,
              "ticks": ""
             }
            },
            "type": "scatterpolar"
           }
          ],
          "scatterpolargl": [
           {
            "marker": {
             "colorbar": {
              "outlinewidth": 0,
              "ticks": ""
             }
            },
            "type": "scatterpolargl"
           }
          ],
          "scatterternary": [
           {
            "marker": {
             "colorbar": {
              "outlinewidth": 0,
              "ticks": ""
             }
            },
            "type": "scatterternary"
           }
          ],
          "surface": [
           {
            "colorbar": {
             "outlinewidth": 0,
             "ticks": ""
            },
            "colorscale": [
             [
              0,
              "#0d0887"
             ],
             [
              0.1111111111111111,
              "#46039f"
             ],
             [
              0.2222222222222222,
              "#7201a8"
             ],
             [
              0.3333333333333333,
              "#9c179e"
             ],
             [
              0.4444444444444444,
              "#bd3786"
             ],
             [
              0.5555555555555556,
              "#d8576b"
             ],
             [
              0.6666666666666666,
              "#ed7953"
             ],
             [
              0.7777777777777778,
              "#fb9f3a"
             ],
             [
              0.8888888888888888,
              "#fdca26"
             ],
             [
              1,
              "#f0f921"
             ]
            ],
            "type": "surface"
           }
          ],
          "table": [
           {
            "cells": {
             "fill": {
              "color": "#506784"
             },
             "line": {
              "color": "rgb(17,17,17)"
             }
            },
            "header": {
             "fill": {
              "color": "#2a3f5f"
             },
             "line": {
              "color": "rgb(17,17,17)"
             }
            },
            "type": "table"
           }
          ]
         },
         "layout": {
          "annotationdefaults": {
           "arrowcolor": "#f2f5fa",
           "arrowhead": 0,
           "arrowwidth": 1
          },
          "autotypenumbers": "strict",
          "coloraxis": {
           "colorbar": {
            "outlinewidth": 0,
            "ticks": ""
           }
          },
          "colorscale": {
           "diverging": [
            [
             0,
             "#8e0152"
            ],
            [
             0.1,
             "#c51b7d"
            ],
            [
             0.2,
             "#de77ae"
            ],
            [
             0.3,
             "#f1b6da"
            ],
            [
             0.4,
             "#fde0ef"
            ],
            [
             0.5,
             "#f7f7f7"
            ],
            [
             0.6,
             "#e6f5d0"
            ],
            [
             0.7,
             "#b8e186"
            ],
            [
             0.8,
             "#7fbc41"
            ],
            [
             0.9,
             "#4d9221"
            ],
            [
             1,
             "#276419"
            ]
           ],
           "sequential": [
            [
             0,
             "#0d0887"
            ],
            [
             0.1111111111111111,
             "#46039f"
            ],
            [
             0.2222222222222222,
             "#7201a8"
            ],
            [
             0.3333333333333333,
             "#9c179e"
            ],
            [
             0.4444444444444444,
             "#bd3786"
            ],
            [
             0.5555555555555556,
             "#d8576b"
            ],
            [
             0.6666666666666666,
             "#ed7953"
            ],
            [
             0.7777777777777778,
             "#fb9f3a"
            ],
            [
             0.8888888888888888,
             "#fdca26"
            ],
            [
             1,
             "#f0f921"
            ]
           ],
           "sequentialminus": [
            [
             0,
             "#0d0887"
            ],
            [
             0.1111111111111111,
             "#46039f"
            ],
            [
             0.2222222222222222,
             "#7201a8"
            ],
            [
             0.3333333333333333,
             "#9c179e"
            ],
            [
             0.4444444444444444,
             "#bd3786"
            ],
            [
             0.5555555555555556,
             "#d8576b"
            ],
            [
             0.6666666666666666,
             "#ed7953"
            ],
            [
             0.7777777777777778,
             "#fb9f3a"
            ],
            [
             0.8888888888888888,
             "#fdca26"
            ],
            [
             1,
             "#f0f921"
            ]
           ]
          },
          "colorway": [
           "#636efa",
           "#EF553B",
           "#00cc96",
           "#ab63fa",
           "#FFA15A",
           "#19d3f3",
           "#FF6692",
           "#B6E880",
           "#FF97FF",
           "#FECB52"
          ],
          "font": {
           "color": "#f2f5fa"
          },
          "geo": {
           "bgcolor": "rgb(17,17,17)",
           "lakecolor": "rgb(17,17,17)",
           "landcolor": "rgb(17,17,17)",
           "showlakes": true,
           "showland": true,
           "subunitcolor": "#506784"
          },
          "hoverlabel": {
           "align": "left"
          },
          "hovermode": "closest",
          "mapbox": {
           "style": "dark"
          },
          "paper_bgcolor": "rgb(17,17,17)",
          "plot_bgcolor": "rgb(17,17,17)",
          "polar": {
           "angularaxis": {
            "gridcolor": "#506784",
            "linecolor": "#506784",
            "ticks": ""
           },
           "bgcolor": "rgb(17,17,17)",
           "radialaxis": {
            "gridcolor": "#506784",
            "linecolor": "#506784",
            "ticks": ""
           }
          },
          "scene": {
           "xaxis": {
            "backgroundcolor": "rgb(17,17,17)",
            "gridcolor": "#506784",
            "gridwidth": 2,
            "linecolor": "#506784",
            "showbackground": true,
            "ticks": "",
            "zerolinecolor": "#C8D4E3"
           },
           "yaxis": {
            "backgroundcolor": "rgb(17,17,17)",
            "gridcolor": "#506784",
            "gridwidth": 2,
            "linecolor": "#506784",
            "showbackground": true,
            "ticks": "",
            "zerolinecolor": "#C8D4E3"
           },
           "zaxis": {
            "backgroundcolor": "rgb(17,17,17)",
            "gridcolor": "#506784",
            "gridwidth": 2,
            "linecolor": "#506784",
            "showbackground": true,
            "ticks": "",
            "zerolinecolor": "#C8D4E3"
           }
          },
          "shapedefaults": {
           "line": {
            "color": "#f2f5fa"
           }
          },
          "sliderdefaults": {
           "bgcolor": "#C8D4E3",
           "bordercolor": "rgb(17,17,17)",
           "borderwidth": 1,
           "tickwidth": 0
          },
          "ternary": {
           "aaxis": {
            "gridcolor": "#506784",
            "linecolor": "#506784",
            "ticks": ""
           },
           "baxis": {
            "gridcolor": "#506784",
            "linecolor": "#506784",
            "ticks": ""
           },
           "bgcolor": "rgb(17,17,17)",
           "caxis": {
            "gridcolor": "#506784",
            "linecolor": "#506784",
            "ticks": ""
           }
          },
          "title": {
           "x": 0.05
          },
          "updatemenudefaults": {
           "bgcolor": "#506784",
           "borderwidth": 0
          },
          "xaxis": {
           "automargin": true,
           "gridcolor": "#283442",
           "linecolor": "#506784",
           "ticks": "",
           "title": {
            "standoff": 15
           },
           "zerolinecolor": "#283442",
           "zerolinewidth": 2
          },
          "yaxis": {
           "automargin": true,
           "gridcolor": "#283442",
           "linecolor": "#506784",
           "ticks": "",
           "title": {
            "standoff": 15
           },
           "zerolinecolor": "#283442",
           "zerolinewidth": 2
          }
         }
        },
        "title": {},
        "xaxis": {
         "gridcolor": "rgba(128, 128, 128, 0.2)",
         "title": {
          "text": "Layer"
         },
         "zeroline": false
        },
        "yaxis": {
         "gridcolor": "rgba(128, 128, 128, 0.2)",
         "title": {
          "text": "Direction Precision Score"
         },
         "zeroline": false
        }
       }
      }
     },
     "metadata": {},
     "output_type": "display_data"
    },
    {
     "data": {
      "application/vnd.plotly.v1+json": {
       "config": {
        "plotlyServerURL": "https://plot.ly"
       },
       "data": [
        {
         "line": {
          "color": "#1f77b4",
          "width": 2
         },
         "marker": {
          "size": 8
         },
         "mode": "lines+markers",
         "name": "Mean",
         "type": "scatter",
         "x": {
          "bdata": "AAECAwQFBgcICQoLDA0ODxAREhMUFRYXGBkaGw==",
          "dtype": "i1"
         },
         "y": {
          "bdata": "AAAAAAAA8D8AAAAAAADwP1VVVVVVVeU/AAAAAAAA8D8AAAAAAADwP1VVVVVVVeU/VVVVVVVV5T8AAAAAAADwPwAAAAAAAPA/AAAAAAAA8D9VVVVVVVXlPwAAAAAAAPA/AAAAAAAA8D8AAAAAAADwPwAAAAAAAPA/AAAAAAAA8D9VVVVVVVXlP1VVVVVVVeU/AAAAAAAA8D8AAAAAAADwPwAAAAAAAPA/AAAAAAAA8D9VVVVVVVXlPwAAAAAAAPA/AAAAAAAA8D8AAAAAAADwPwAAAAAAAPA/AAAAAAAA8D8=",
          "dtype": "f8"
         }
        },
        {
         "line": {
          "width": 0
         },
         "mode": "lines",
         "name": "Max",
         "showlegend": false,
         "type": "scatter",
         "x": {
          "bdata": "AAECAwQFBgcICQoLDA0ODxAREhMUFRYXGBkaGw==",
          "dtype": "i1"
         },
         "y": {
          "bdata": "AAAAAAAA8D8AAAAAAADwP1VVVVVVVeU/AAAAAAAA8D8AAAAAAADwP1VVVVVVVeU/VVVVVVVV5T8AAAAAAADwPwAAAAAAAPA/AAAAAAAA8D9VVVVVVVXlPwAAAAAAAPA/AAAAAAAA8D8AAAAAAADwPwAAAAAAAPA/AAAAAAAA8D9VVVVVVVXlP1VVVVVVVeU/AAAAAAAA8D8AAAAAAADwPwAAAAAAAPA/AAAAAAAA8D9VVVVVVVXlPwAAAAAAAPA/AAAAAAAA8D8AAAAAAADwPwAAAAAAAPA/AAAAAAAA8D8=",
          "dtype": "f8"
         }
        },
        {
         "fill": "tonexty",
         "fillcolor": "rgba(68, 138, 255, 0.1)",
         "line": {
          "width": 0
         },
         "mode": "lines",
         "name": "Min",
         "showlegend": false,
         "type": "scatter",
         "x": {
          "bdata": "AAECAwQFBgcICQoLDA0ODxAREhMUFRYXGBkaGw==",
          "dtype": "i1"
         },
         "y": {
          "bdata": "AAAAAAAA8D8AAAAAAADwP1VVVVVVVeU/AAAAAAAA8D8AAAAAAADwP1VVVVVVVeU/VVVVVVVV5T8AAAAAAADwPwAAAAAAAPA/AAAAAAAA8D9VVVVVVVXlPwAAAAAAAPA/AAAAAAAA8D8AAAAAAADwPwAAAAAAAPA/AAAAAAAA8D9VVVVVVVXlP1VVVVVVVeU/AAAAAAAA8D8AAAAAAADwPwAAAAAAAPA/AAAAAAAA8D9VVVVVVVXlPwAAAAAAAPA/AAAAAAAA8D8AAAAAAADwPwAAAAAAAPA/AAAAAAAA8D8=",
          "dtype": "f8"
         }
        },
        {
         "line": {
          "width": 0
         },
         "mode": "lines",
         "name": "+1 STD",
         "showlegend": false,
         "type": "scatter",
         "x": {
          "bdata": "AAECAwQFBgcICQoLDA0ODxAREhMUFRYXGBkaGw==",
          "dtype": "i1"
         },
         "y": {
          "bdata": "AAAAAAAA8D8AAAAAAADwP1VVVVVVVeU/AAAAAAAA8D8AAAAAAADwP1VVVVVVVeU/VVVVVVVV5T8AAAAAAADwPwAAAAAAAPA/AAAAAAAA8D9VVVVVVVXlPwAAAAAAAPA/AAAAAAAA8D8AAAAAAADwPwAAAAAAAPA/AAAAAAAA8D9VVVVVVVXlP1VVVVVVVeU/AAAAAAAA8D8AAAAAAADwPwAAAAAAAPA/AAAAAAAA8D9VVVVVVVXlPwAAAAAAAPA/AAAAAAAA8D8AAAAAAADwPwAAAAAAAPA/AAAAAAAA8D8=",
          "dtype": "f8"
         }
        },
        {
         "fill": "tonexty",
         "fillcolor": "rgba(68, 138, 255, 0.3)",
         "line": {
          "width": 0
         },
         "mode": "lines",
         "name": "-1 STD",
         "showlegend": false,
         "type": "scatter",
         "x": {
          "bdata": "AAECAwQFBgcICQoLDA0ODxAREhMUFRYXGBkaGw==",
          "dtype": "i1"
         },
         "y": {
          "bdata": "AAAAAAAA8D8AAAAAAADwP1VVVVVVVeU/AAAAAAAA8D8AAAAAAADwP1VVVVVVVeU/VVVVVVVV5T8AAAAAAADwPwAAAAAAAPA/AAAAAAAA8D9VVVVVVVXlPwAAAAAAAPA/AAAAAAAA8D8AAAAAAADwPwAAAAAAAPA/AAAAAAAA8D9VVVVVVVXlP1VVVVVVVeU/AAAAAAAA8D8AAAAAAADwPwAAAAAAAPA/AAAAAAAA8D9VVVVVVVXlPwAAAAAAAPA/AAAAAAAA8D8AAAAAAADwPwAAAAAAAPA/AAAAAAAA8D8=",
          "dtype": "f8"
         }
        },
        {
         "marker": {
          "color": "#1f77b4",
          "opacity": 0.5,
          "size": 6
         },
         "mode": "markers",
         "name": "Fold ('direction_recall_score', 0)",
         "showlegend": false,
         "type": "scatter",
         "x": {
          "bdata": "AAECAwQFBgcICQoLDA0ODxAREhMUFRYXGBkaGw==",
          "dtype": "i1"
         },
         "y": {
          "bdata": "AAAAAAAA8D8AAAAAAADwP1VVVVVVVeU/AAAAAAAA8D8AAAAAAADwP1VVVVVVVeU/VVVVVVVV5T8AAAAAAADwPwAAAAAAAPA/AAAAAAAA8D9VVVVVVVXlPwAAAAAAAPA/AAAAAAAA8D8AAAAAAADwPwAAAAAAAPA/AAAAAAAA8D9VVVVVVVXlP1VVVVVVVeU/AAAAAAAA8D8AAAAAAADwPwAAAAAAAPA/AAAAAAAA8D9VVVVVVVXlPwAAAAAAAPA/AAAAAAAA8D8AAAAAAADwPwAAAAAAAPA/AAAAAAAA8D8=",
          "dtype": "f8"
         }
        },
        {
         "marker": {
          "color": "#1f77b4",
          "opacity": 0.5,
          "size": 6
         },
         "mode": "markers",
         "name": "Fold ('direction_recall_score', 1)",
         "showlegend": false,
         "type": "scatter",
         "x": {
          "bdata": "AAECAwQFBgcICQoLDA0ODxAREhMUFRYXGBkaGw==",
          "dtype": "i1"
         },
         "y": {
          "bdata": "AAAAAAAA8D8AAAAAAADwP1VVVVVVVeU/AAAAAAAA8D8AAAAAAADwP1VVVVVVVeU/VVVVVVVV5T8AAAAAAADwPwAAAAAAAPA/AAAAAAAA8D9VVVVVVVXlPwAAAAAAAPA/AAAAAAAA8D8AAAAAAADwPwAAAAAAAPA/AAAAAAAA8D9VVVVVVVXlP1VVVVVVVeU/AAAAAAAA8D8AAAAAAADwPwAAAAAAAPA/AAAAAAAA8D9VVVVVVVXlPwAAAAAAAPA/AAAAAAAA8D8AAAAAAADwPwAAAAAAAPA/AAAAAAAA8D8=",
          "dtype": "f8"
         }
        },
        {
         "marker": {
          "color": "#1f77b4",
          "opacity": 0.5,
          "size": 6
         },
         "mode": "markers",
         "name": "Fold ('direction_recall_score', 2)",
         "showlegend": false,
         "type": "scatter",
         "x": {
          "bdata": "AAECAwQFBgcICQoLDA0ODxAREhMUFRYXGBkaGw==",
          "dtype": "i1"
         },
         "y": {
          "bdata": "AAAAAAAA8D8AAAAAAADwP1VVVVVVVeU/AAAAAAAA8D8AAAAAAADwP1VVVVVVVeU/VVVVVVVV5T8AAAAAAADwPwAAAAAAAPA/AAAAAAAA8D9VVVVVVVXlPwAAAAAAAPA/AAAAAAAA8D8AAAAAAADwPwAAAAAAAPA/AAAAAAAA8D9VVVVVVVXlP1VVVVVVVeU/AAAAAAAA8D8AAAAAAADwPwAAAAAAAPA/AAAAAAAA8D9VVVVVVVXlPwAAAAAAAPA/AAAAAAAA8D8AAAAAAADwPwAAAAAAAPA/AAAAAAAA8D8=",
          "dtype": "f8"
         }
        },
        {
         "marker": {
          "color": "#1f77b4",
          "opacity": 0.5,
          "size": 6
         },
         "mode": "markers",
         "name": "Fold ('direction_recall_score', 3)",
         "showlegend": false,
         "type": "scatter",
         "x": {
          "bdata": "AAECAwQFBgcICQoLDA0ODxAREhMUFRYXGBkaGw==",
          "dtype": "i1"
         },
         "y": {
          "bdata": "AAAAAAAA8D8AAAAAAADwP1VVVVVVVeU/AAAAAAAA8D8AAAAAAADwP1VVVVVVVeU/VVVVVVVV5T8AAAAAAADwPwAAAAAAAPA/AAAAAAAA8D9VVVVVVVXlPwAAAAAAAPA/AAAAAAAA8D8AAAAAAADwPwAAAAAAAPA/AAAAAAAA8D9VVVVVVVXlP1VVVVVVVeU/AAAAAAAA8D8AAAAAAADwPwAAAAAAAPA/AAAAAAAA8D9VVVVVVVXlPwAAAAAAAPA/AAAAAAAA8D8AAAAAAADwPwAAAAAAAPA/AAAAAAAA8D8=",
          "dtype": "f8"
         }
        },
        {
         "marker": {
          "color": "#1f77b4",
          "opacity": 0.5,
          "size": 6
         },
         "mode": "markers",
         "name": "Fold ('direction_recall_score', 4)",
         "showlegend": false,
         "type": "scatter",
         "x": {
          "bdata": "AAECAwQFBgcICQoLDA0ODxAREhMUFRYXGBkaGw==",
          "dtype": "i1"
         },
         "y": {
          "bdata": "AAAAAAAA8D8AAAAAAADwP1VVVVVVVeU/AAAAAAAA8D8AAAAAAADwP1VVVVVVVeU/VVVVVVVV5T8AAAAAAADwPwAAAAAAAPA/AAAAAAAA8D9VVVVVVVXlPwAAAAAAAPA/AAAAAAAA8D8AAAAAAADwPwAAAAAAAPA/AAAAAAAA8D9VVVVVVVXlP1VVVVVVVeU/AAAAAAAA8D8AAAAAAADwPwAAAAAAAPA/AAAAAAAA8D9VVVVVVVXlPwAAAAAAAPA/AAAAAAAA8D8AAAAAAADwPwAAAAAAAPA/AAAAAAAA8D8=",
          "dtype": "f8"
         }
        }
       ],
       "layout": {
        "font": {
         "color": "white"
        },
        "margin": {
         "l": 50,
         "r": 30,
         "t": 50
        },
        "paper_bgcolor": "rgba(32, 32, 32, 1)",
        "plot_bgcolor": "rgba(32, 32, 32, 1)",
        "showlegend": false,
        "template": {
         "data": {
          "bar": [
           {
            "error_x": {
             "color": "#f2f5fa"
            },
            "error_y": {
             "color": "#f2f5fa"
            },
            "marker": {
             "line": {
              "color": "rgb(17,17,17)",
              "width": 0.5
             },
             "pattern": {
              "fillmode": "overlay",
              "size": 10,
              "solidity": 0.2
             }
            },
            "type": "bar"
           }
          ],
          "barpolar": [
           {
            "marker": {
             "line": {
              "color": "rgb(17,17,17)",
              "width": 0.5
             },
             "pattern": {
              "fillmode": "overlay",
              "size": 10,
              "solidity": 0.2
             }
            },
            "type": "barpolar"
           }
          ],
          "carpet": [
           {
            "aaxis": {
             "endlinecolor": "#A2B1C6",
             "gridcolor": "#506784",
             "linecolor": "#506784",
             "minorgridcolor": "#506784",
             "startlinecolor": "#A2B1C6"
            },
            "baxis": {
             "endlinecolor": "#A2B1C6",
             "gridcolor": "#506784",
             "linecolor": "#506784",
             "minorgridcolor": "#506784",
             "startlinecolor": "#A2B1C6"
            },
            "type": "carpet"
           }
          ],
          "choropleth": [
           {
            "colorbar": {
             "outlinewidth": 0,
             "ticks": ""
            },
            "type": "choropleth"
           }
          ],
          "contour": [
           {
            "colorbar": {
             "outlinewidth": 0,
             "ticks": ""
            },
            "colorscale": [
             [
              0,
              "#0d0887"
             ],
             [
              0.1111111111111111,
              "#46039f"
             ],
             [
              0.2222222222222222,
              "#7201a8"
             ],
             [
              0.3333333333333333,
              "#9c179e"
             ],
             [
              0.4444444444444444,
              "#bd3786"
             ],
             [
              0.5555555555555556,
              "#d8576b"
             ],
             [
              0.6666666666666666,
              "#ed7953"
             ],
             [
              0.7777777777777778,
              "#fb9f3a"
             ],
             [
              0.8888888888888888,
              "#fdca26"
             ],
             [
              1,
              "#f0f921"
             ]
            ],
            "type": "contour"
           }
          ],
          "contourcarpet": [
           {
            "colorbar": {
             "outlinewidth": 0,
             "ticks": ""
            },
            "type": "contourcarpet"
           }
          ],
          "heatmap": [
           {
            "colorbar": {
             "outlinewidth": 0,
             "ticks": ""
            },
            "colorscale": [
             [
              0,
              "#0d0887"
             ],
             [
              0.1111111111111111,
              "#46039f"
             ],
             [
              0.2222222222222222,
              "#7201a8"
             ],
             [
              0.3333333333333333,
              "#9c179e"
             ],
             [
              0.4444444444444444,
              "#bd3786"
             ],
             [
              0.5555555555555556,
              "#d8576b"
             ],
             [
              0.6666666666666666,
              "#ed7953"
             ],
             [
              0.7777777777777778,
              "#fb9f3a"
             ],
             [
              0.8888888888888888,
              "#fdca26"
             ],
             [
              1,
              "#f0f921"
             ]
            ],
            "type": "heatmap"
           }
          ],
          "histogram": [
           {
            "marker": {
             "pattern": {
              "fillmode": "overlay",
              "size": 10,
              "solidity": 0.2
             }
            },
            "type": "histogram"
           }
          ],
          "histogram2d": [
           {
            "colorbar": {
             "outlinewidth": 0,
             "ticks": ""
            },
            "colorscale": [
             [
              0,
              "#0d0887"
             ],
             [
              0.1111111111111111,
              "#46039f"
             ],
             [
              0.2222222222222222,
              "#7201a8"
             ],
             [
              0.3333333333333333,
              "#9c179e"
             ],
             [
              0.4444444444444444,
              "#bd3786"
             ],
             [
              0.5555555555555556,
              "#d8576b"
             ],
             [
              0.6666666666666666,
              "#ed7953"
             ],
             [
              0.7777777777777778,
              "#fb9f3a"
             ],
             [
              0.8888888888888888,
              "#fdca26"
             ],
             [
              1,
              "#f0f921"
             ]
            ],
            "type": "histogram2d"
           }
          ],
          "histogram2dcontour": [
           {
            "colorbar": {
             "outlinewidth": 0,
             "ticks": ""
            },
            "colorscale": [
             [
              0,
              "#0d0887"
             ],
             [
              0.1111111111111111,
              "#46039f"
             ],
             [
              0.2222222222222222,
              "#7201a8"
             ],
             [
              0.3333333333333333,
              "#9c179e"
             ],
             [
              0.4444444444444444,
              "#bd3786"
             ],
             [
              0.5555555555555556,
              "#d8576b"
             ],
             [
              0.6666666666666666,
              "#ed7953"
             ],
             [
              0.7777777777777778,
              "#fb9f3a"
             ],
             [
              0.8888888888888888,
              "#fdca26"
             ],
             [
              1,
              "#f0f921"
             ]
            ],
            "type": "histogram2dcontour"
           }
          ],
          "mesh3d": [
           {
            "colorbar": {
             "outlinewidth": 0,
             "ticks": ""
            },
            "type": "mesh3d"
           }
          ],
          "parcoords": [
           {
            "line": {
             "colorbar": {
              "outlinewidth": 0,
              "ticks": ""
             }
            },
            "type": "parcoords"
           }
          ],
          "pie": [
           {
            "automargin": true,
            "type": "pie"
           }
          ],
          "scatter": [
           {
            "marker": {
             "line": {
              "color": "#283442"
             }
            },
            "type": "scatter"
           }
          ],
          "scatter3d": [
           {
            "line": {
             "colorbar": {
              "outlinewidth": 0,
              "ticks": ""
             }
            },
            "marker": {
             "colorbar": {
              "outlinewidth": 0,
              "ticks": ""
             }
            },
            "type": "scatter3d"
           }
          ],
          "scattercarpet": [
           {
            "marker": {
             "colorbar": {
              "outlinewidth": 0,
              "ticks": ""
             }
            },
            "type": "scattercarpet"
           }
          ],
          "scattergeo": [
           {
            "marker": {
             "colorbar": {
              "outlinewidth": 0,
              "ticks": ""
             }
            },
            "type": "scattergeo"
           }
          ],
          "scattergl": [
           {
            "marker": {
             "line": {
              "color": "#283442"
             }
            },
            "type": "scattergl"
           }
          ],
          "scattermap": [
           {
            "marker": {
             "colorbar": {
              "outlinewidth": 0,
              "ticks": ""
             }
            },
            "type": "scattermap"
           }
          ],
          "scattermapbox": [
           {
            "marker": {
             "colorbar": {
              "outlinewidth": 0,
              "ticks": ""
             }
            },
            "type": "scattermapbox"
           }
          ],
          "scatterpolar": [
           {
            "marker": {
             "colorbar": {
              "outlinewidth": 0,
              "ticks": ""
             }
            },
            "type": "scatterpolar"
           }
          ],
          "scatterpolargl": [
           {
            "marker": {
             "colorbar": {
              "outlinewidth": 0,
              "ticks": ""
             }
            },
            "type": "scatterpolargl"
           }
          ],
          "scatterternary": [
           {
            "marker": {
             "colorbar": {
              "outlinewidth": 0,
              "ticks": ""
             }
            },
            "type": "scatterternary"
           }
          ],
          "surface": [
           {
            "colorbar": {
             "outlinewidth": 0,
             "ticks": ""
            },
            "colorscale": [
             [
              0,
              "#0d0887"
             ],
             [
              0.1111111111111111,
              "#46039f"
             ],
             [
              0.2222222222222222,
              "#7201a8"
             ],
             [
              0.3333333333333333,
              "#9c179e"
             ],
             [
              0.4444444444444444,
              "#bd3786"
             ],
             [
              0.5555555555555556,
              "#d8576b"
             ],
             [
              0.6666666666666666,
              "#ed7953"
             ],
             [
              0.7777777777777778,
              "#fb9f3a"
             ],
             [
              0.8888888888888888,
              "#fdca26"
             ],
             [
              1,
              "#f0f921"
             ]
            ],
            "type": "surface"
           }
          ],
          "table": [
           {
            "cells": {
             "fill": {
              "color": "#506784"
             },
             "line": {
              "color": "rgb(17,17,17)"
             }
            },
            "header": {
             "fill": {
              "color": "#2a3f5f"
             },
             "line": {
              "color": "rgb(17,17,17)"
             }
            },
            "type": "table"
           }
          ]
         },
         "layout": {
          "annotationdefaults": {
           "arrowcolor": "#f2f5fa",
           "arrowhead": 0,
           "arrowwidth": 1
          },
          "autotypenumbers": "strict",
          "coloraxis": {
           "colorbar": {
            "outlinewidth": 0,
            "ticks": ""
           }
          },
          "colorscale": {
           "diverging": [
            [
             0,
             "#8e0152"
            ],
            [
             0.1,
             "#c51b7d"
            ],
            [
             0.2,
             "#de77ae"
            ],
            [
             0.3,
             "#f1b6da"
            ],
            [
             0.4,
             "#fde0ef"
            ],
            [
             0.5,
             "#f7f7f7"
            ],
            [
             0.6,
             "#e6f5d0"
            ],
            [
             0.7,
             "#b8e186"
            ],
            [
             0.8,
             "#7fbc41"
            ],
            [
             0.9,
             "#4d9221"
            ],
            [
             1,
             "#276419"
            ]
           ],
           "sequential": [
            [
             0,
             "#0d0887"
            ],
            [
             0.1111111111111111,
             "#46039f"
            ],
            [
             0.2222222222222222,
             "#7201a8"
            ],
            [
             0.3333333333333333,
             "#9c179e"
            ],
            [
             0.4444444444444444,
             "#bd3786"
            ],
            [
             0.5555555555555556,
             "#d8576b"
            ],
            [
             0.6666666666666666,
             "#ed7953"
            ],
            [
             0.7777777777777778,
             "#fb9f3a"
            ],
            [
             0.8888888888888888,
             "#fdca26"
            ],
            [
             1,
             "#f0f921"
            ]
           ],
           "sequentialminus": [
            [
             0,
             "#0d0887"
            ],
            [
             0.1111111111111111,
             "#46039f"
            ],
            [
             0.2222222222222222,
             "#7201a8"
            ],
            [
             0.3333333333333333,
             "#9c179e"
            ],
            [
             0.4444444444444444,
             "#bd3786"
            ],
            [
             0.5555555555555556,
             "#d8576b"
            ],
            [
             0.6666666666666666,
             "#ed7953"
            ],
            [
             0.7777777777777778,
             "#fb9f3a"
            ],
            [
             0.8888888888888888,
             "#fdca26"
            ],
            [
             1,
             "#f0f921"
            ]
           ]
          },
          "colorway": [
           "#636efa",
           "#EF553B",
           "#00cc96",
           "#ab63fa",
           "#FFA15A",
           "#19d3f3",
           "#FF6692",
           "#B6E880",
           "#FF97FF",
           "#FECB52"
          ],
          "font": {
           "color": "#f2f5fa"
          },
          "geo": {
           "bgcolor": "rgb(17,17,17)",
           "lakecolor": "rgb(17,17,17)",
           "landcolor": "rgb(17,17,17)",
           "showlakes": true,
           "showland": true,
           "subunitcolor": "#506784"
          },
          "hoverlabel": {
           "align": "left"
          },
          "hovermode": "closest",
          "mapbox": {
           "style": "dark"
          },
          "paper_bgcolor": "rgb(17,17,17)",
          "plot_bgcolor": "rgb(17,17,17)",
          "polar": {
           "angularaxis": {
            "gridcolor": "#506784",
            "linecolor": "#506784",
            "ticks": ""
           },
           "bgcolor": "rgb(17,17,17)",
           "radialaxis": {
            "gridcolor": "#506784",
            "linecolor": "#506784",
            "ticks": ""
           }
          },
          "scene": {
           "xaxis": {
            "backgroundcolor": "rgb(17,17,17)",
            "gridcolor": "#506784",
            "gridwidth": 2,
            "linecolor": "#506784",
            "showbackground": true,
            "ticks": "",
            "zerolinecolor": "#C8D4E3"
           },
           "yaxis": {
            "backgroundcolor": "rgb(17,17,17)",
            "gridcolor": "#506784",
            "gridwidth": 2,
            "linecolor": "#506784",
            "showbackground": true,
            "ticks": "",
            "zerolinecolor": "#C8D4E3"
           },
           "zaxis": {
            "backgroundcolor": "rgb(17,17,17)",
            "gridcolor": "#506784",
            "gridwidth": 2,
            "linecolor": "#506784",
            "showbackground": true,
            "ticks": "",
            "zerolinecolor": "#C8D4E3"
           }
          },
          "shapedefaults": {
           "line": {
            "color": "#f2f5fa"
           }
          },
          "sliderdefaults": {
           "bgcolor": "#C8D4E3",
           "bordercolor": "rgb(17,17,17)",
           "borderwidth": 1,
           "tickwidth": 0
          },
          "ternary": {
           "aaxis": {
            "gridcolor": "#506784",
            "linecolor": "#506784",
            "ticks": ""
           },
           "baxis": {
            "gridcolor": "#506784",
            "linecolor": "#506784",
            "ticks": ""
           },
           "bgcolor": "rgb(17,17,17)",
           "caxis": {
            "gridcolor": "#506784",
            "linecolor": "#506784",
            "ticks": ""
           }
          },
          "title": {
           "x": 0.05
          },
          "updatemenudefaults": {
           "bgcolor": "#506784",
           "borderwidth": 0
          },
          "xaxis": {
           "automargin": true,
           "gridcolor": "#283442",
           "linecolor": "#506784",
           "ticks": "",
           "title": {
            "standoff": 15
           },
           "zerolinecolor": "#283442",
           "zerolinewidth": 2
          },
          "yaxis": {
           "automargin": true,
           "gridcolor": "#283442",
           "linecolor": "#506784",
           "ticks": "",
           "title": {
            "standoff": 15
           },
           "zerolinecolor": "#283442",
           "zerolinewidth": 2
          }
         }
        },
        "title": {},
        "xaxis": {
         "gridcolor": "rgba(128, 128, 128, 0.2)",
         "title": {
          "text": "Layer"
         },
         "zeroline": false
        },
        "yaxis": {
         "gridcolor": "rgba(128, 128, 128, 0.2)",
         "title": {
          "text": "Direction Recall Score"
         },
         "zeroline": false
        }
       }
      }
     },
     "metadata": {},
     "output_type": "display_data"
    },
    {
     "data": {
      "application/vnd.plotly.v1+json": {
       "config": {
        "plotlyServerURL": "https://plot.ly"
       },
       "data": [
        {
         "line": {
          "color": "#1f77b4",
          "width": 2
         },
         "marker": {
          "size": 8
         },
         "mode": "lines+markers",
         "name": "Mean",
         "type": "scatter",
         "x": {
          "bdata": "AAECAwQFBgcICQoLDA0ODxAREhMUFRYXGBkaGw==",
          "dtype": "i1"
         },
         "y": {
          "bdata": "AAAAAAAA8D8AAAAAAADwPwAAAAAAAPA/AAAAAAAA8D8AAAAAAADwPwAAAAAAAPA/AAAAAAAA8D8AAAAAAADwPwAAAAAAAPA/AAAAAAAA8D8AAAAAAADwPwAAAAAAAPA/AAAAAAAA8D8AAAAAAADwPwAAAAAAAPA/AAAAAAAA8D8AAAAAAADwPwAAAAAAAPA/AAAAAAAA8D8AAAAAAADwPwAAAAAAAPA/AAAAAAAA8D8AAAAAAADwPwAAAAAAAPA/AAAAAAAA8D8AAAAAAADwPwAAAAAAAPA/AAAAAAAA8D8=",
          "dtype": "f8"
         }
        },
        {
         "line": {
          "width": 0
         },
         "mode": "lines",
         "name": "Max",
         "showlegend": false,
         "type": "scatter",
         "x": {
          "bdata": "AAECAwQFBgcICQoLDA0ODxAREhMUFRYXGBkaGw==",
          "dtype": "i1"
         },
         "y": {
          "bdata": "AAAAAAAA8D8AAAAAAADwPwAAAAAAAPA/AAAAAAAA8D8AAAAAAADwPwAAAAAAAPA/AAAAAAAA8D8AAAAAAADwPwAAAAAAAPA/AAAAAAAA8D8AAAAAAADwPwAAAAAAAPA/AAAAAAAA8D8AAAAAAADwPwAAAAAAAPA/AAAAAAAA8D8AAAAAAADwPwAAAAAAAPA/AAAAAAAA8D8AAAAAAADwPwAAAAAAAPA/AAAAAAAA8D8AAAAAAADwPwAAAAAAAPA/AAAAAAAA8D8AAAAAAADwPwAAAAAAAPA/AAAAAAAA8D8=",
          "dtype": "f8"
         }
        },
        {
         "fill": "tonexty",
         "fillcolor": "rgba(68, 138, 255, 0.1)",
         "line": {
          "width": 0
         },
         "mode": "lines",
         "name": "Min",
         "showlegend": false,
         "type": "scatter",
         "x": {
          "bdata": "AAECAwQFBgcICQoLDA0ODxAREhMUFRYXGBkaGw==",
          "dtype": "i1"
         },
         "y": {
          "bdata": "AAAAAAAA8D8AAAAAAADwPwAAAAAAAPA/AAAAAAAA8D8AAAAAAADwPwAAAAAAAPA/AAAAAAAA8D8AAAAAAADwPwAAAAAAAPA/AAAAAAAA8D8AAAAAAADwPwAAAAAAAPA/AAAAAAAA8D8AAAAAAADwPwAAAAAAAPA/AAAAAAAA8D8AAAAAAADwPwAAAAAAAPA/AAAAAAAA8D8AAAAAAADwPwAAAAAAAPA/AAAAAAAA8D8AAAAAAADwPwAAAAAAAPA/AAAAAAAA8D8AAAAAAADwPwAAAAAAAPA/AAAAAAAA8D8=",
          "dtype": "f8"
         }
        },
        {
         "line": {
          "width": 0
         },
         "mode": "lines",
         "name": "+1 STD",
         "showlegend": false,
         "type": "scatter",
         "x": {
          "bdata": "AAECAwQFBgcICQoLDA0ODxAREhMUFRYXGBkaGw==",
          "dtype": "i1"
         },
         "y": {
          "bdata": "AAAAAAAA8D8AAAAAAADwPwAAAAAAAPA/AAAAAAAA8D8AAAAAAADwPwAAAAAAAPA/AAAAAAAA8D8AAAAAAADwPwAAAAAAAPA/AAAAAAAA8D8AAAAAAADwPwAAAAAAAPA/AAAAAAAA8D8AAAAAAADwPwAAAAAAAPA/AAAAAAAA8D8AAAAAAADwPwAAAAAAAPA/AAAAAAAA8D8AAAAAAADwPwAAAAAAAPA/AAAAAAAA8D8AAAAAAADwPwAAAAAAAPA/AAAAAAAA8D8AAAAAAADwPwAAAAAAAPA/AAAAAAAA8D8=",
          "dtype": "f8"
         }
        },
        {
         "fill": "tonexty",
         "fillcolor": "rgba(68, 138, 255, 0.3)",
         "line": {
          "width": 0
         },
         "mode": "lines",
         "name": "-1 STD",
         "showlegend": false,
         "type": "scatter",
         "x": {
          "bdata": "AAECAwQFBgcICQoLDA0ODxAREhMUFRYXGBkaGw==",
          "dtype": "i1"
         },
         "y": {
          "bdata": "AAAAAAAA8D8AAAAAAADwPwAAAAAAAPA/AAAAAAAA8D8AAAAAAADwPwAAAAAAAPA/AAAAAAAA8D8AAAAAAADwPwAAAAAAAPA/AAAAAAAA8D8AAAAAAADwPwAAAAAAAPA/AAAAAAAA8D8AAAAAAADwPwAAAAAAAPA/AAAAAAAA8D8AAAAAAADwPwAAAAAAAPA/AAAAAAAA8D8AAAAAAADwPwAAAAAAAPA/AAAAAAAA8D8AAAAAAADwPwAAAAAAAPA/AAAAAAAA8D8AAAAAAADwPwAAAAAAAPA/AAAAAAAA8D8=",
          "dtype": "f8"
         }
        },
        {
         "marker": {
          "color": "#1f77b4",
          "opacity": 0.5,
          "size": 6
         },
         "mode": "markers",
         "name": "Fold ('logistic_regression_f1_score', 0)",
         "showlegend": false,
         "type": "scatter",
         "x": {
          "bdata": "AAECAwQFBgcICQoLDA0ODxAREhMUFRYXGBkaGw==",
          "dtype": "i1"
         },
         "y": {
          "bdata": "AAAAAAAA8D8AAAAAAADwPwAAAAAAAPA/AAAAAAAA8D8AAAAAAADwPwAAAAAAAPA/AAAAAAAA8D8AAAAAAADwPwAAAAAAAPA/AAAAAAAA8D8AAAAAAADwPwAAAAAAAPA/AAAAAAAA8D8AAAAAAADwPwAAAAAAAPA/AAAAAAAA8D8AAAAAAADwPwAAAAAAAPA/AAAAAAAA8D8AAAAAAADwPwAAAAAAAPA/AAAAAAAA8D8AAAAAAADwPwAAAAAAAPA/AAAAAAAA8D8AAAAAAADwPwAAAAAAAPA/AAAAAAAA8D8=",
          "dtype": "f8"
         }
        },
        {
         "marker": {
          "color": "#1f77b4",
          "opacity": 0.5,
          "size": 6
         },
         "mode": "markers",
         "name": "Fold ('logistic_regression_f1_score', 1)",
         "showlegend": false,
         "type": "scatter",
         "x": {
          "bdata": "AAECAwQFBgcICQoLDA0ODxAREhMUFRYXGBkaGw==",
          "dtype": "i1"
         },
         "y": {
          "bdata": "AAAAAAAA8D8AAAAAAADwPwAAAAAAAPA/AAAAAAAA8D8AAAAAAADwPwAAAAAAAPA/AAAAAAAA8D8AAAAAAADwPwAAAAAAAPA/AAAAAAAA8D8AAAAAAADwPwAAAAAAAPA/AAAAAAAA8D8AAAAAAADwPwAAAAAAAPA/AAAAAAAA8D8AAAAAAADwPwAAAAAAAPA/AAAAAAAA8D8AAAAAAADwPwAAAAAAAPA/AAAAAAAA8D8AAAAAAADwPwAAAAAAAPA/AAAAAAAA8D8AAAAAAADwPwAAAAAAAPA/AAAAAAAA8D8=",
          "dtype": "f8"
         }
        },
        {
         "marker": {
          "color": "#1f77b4",
          "opacity": 0.5,
          "size": 6
         },
         "mode": "markers",
         "name": "Fold ('logistic_regression_f1_score', 2)",
         "showlegend": false,
         "type": "scatter",
         "x": {
          "bdata": "AAECAwQFBgcICQoLDA0ODxAREhMUFRYXGBkaGw==",
          "dtype": "i1"
         },
         "y": {
          "bdata": "AAAAAAAA8D8AAAAAAADwPwAAAAAAAPA/AAAAAAAA8D8AAAAAAADwPwAAAAAAAPA/AAAAAAAA8D8AAAAAAADwPwAAAAAAAPA/AAAAAAAA8D8AAAAAAADwPwAAAAAAAPA/AAAAAAAA8D8AAAAAAADwPwAAAAAAAPA/AAAAAAAA8D8AAAAAAADwPwAAAAAAAPA/AAAAAAAA8D8AAAAAAADwPwAAAAAAAPA/AAAAAAAA8D8AAAAAAADwPwAAAAAAAPA/AAAAAAAA8D8AAAAAAADwPwAAAAAAAPA/AAAAAAAA8D8=",
          "dtype": "f8"
         }
        },
        {
         "marker": {
          "color": "#1f77b4",
          "opacity": 0.5,
          "size": 6
         },
         "mode": "markers",
         "name": "Fold ('logistic_regression_f1_score', 3)",
         "showlegend": false,
         "type": "scatter",
         "x": {
          "bdata": "AAECAwQFBgcICQoLDA0ODxAREhMUFRYXGBkaGw==",
          "dtype": "i1"
         },
         "y": {
          "bdata": "AAAAAAAA8D8AAAAAAADwPwAAAAAAAPA/AAAAAAAA8D8AAAAAAADwPwAAAAAAAPA/AAAAAAAA8D8AAAAAAADwPwAAAAAAAPA/AAAAAAAA8D8AAAAAAADwPwAAAAAAAPA/AAAAAAAA8D8AAAAAAADwPwAAAAAAAPA/AAAAAAAA8D8AAAAAAADwPwAAAAAAAPA/AAAAAAAA8D8AAAAAAADwPwAAAAAAAPA/AAAAAAAA8D8AAAAAAADwPwAAAAAAAPA/AAAAAAAA8D8AAAAAAADwPwAAAAAAAPA/AAAAAAAA8D8=",
          "dtype": "f8"
         }
        },
        {
         "marker": {
          "color": "#1f77b4",
          "opacity": 0.5,
          "size": 6
         },
         "mode": "markers",
         "name": "Fold ('logistic_regression_f1_score', 4)",
         "showlegend": false,
         "type": "scatter",
         "x": {
          "bdata": "AAECAwQFBgcICQoLDA0ODxAREhMUFRYXGBkaGw==",
          "dtype": "i1"
         },
         "y": {
          "bdata": "AAAAAAAA8D8AAAAAAADwPwAAAAAAAPA/AAAAAAAA8D8AAAAAAADwPwAAAAAAAPA/AAAAAAAA8D8AAAAAAADwPwAAAAAAAPA/AAAAAAAA8D8AAAAAAADwPwAAAAAAAPA/AAAAAAAA8D8AAAAAAADwPwAAAAAAAPA/AAAAAAAA8D8AAAAAAADwPwAAAAAAAPA/AAAAAAAA8D8AAAAAAADwPwAAAAAAAPA/AAAAAAAA8D8AAAAAAADwPwAAAAAAAPA/AAAAAAAA8D8AAAAAAADwPwAAAAAAAPA/AAAAAAAA8D8=",
          "dtype": "f8"
         }
        }
       ],
       "layout": {
        "font": {
         "color": "white"
        },
        "margin": {
         "l": 50,
         "r": 30,
         "t": 50
        },
        "paper_bgcolor": "rgba(32, 32, 32, 1)",
        "plot_bgcolor": "rgba(32, 32, 32, 1)",
        "showlegend": false,
        "template": {
         "data": {
          "bar": [
           {
            "error_x": {
             "color": "#f2f5fa"
            },
            "error_y": {
             "color": "#f2f5fa"
            },
            "marker": {
             "line": {
              "color": "rgb(17,17,17)",
              "width": 0.5
             },
             "pattern": {
              "fillmode": "overlay",
              "size": 10,
              "solidity": 0.2
             }
            },
            "type": "bar"
           }
          ],
          "barpolar": [
           {
            "marker": {
             "line": {
              "color": "rgb(17,17,17)",
              "width": 0.5
             },
             "pattern": {
              "fillmode": "overlay",
              "size": 10,
              "solidity": 0.2
             }
            },
            "type": "barpolar"
           }
          ],
          "carpet": [
           {
            "aaxis": {
             "endlinecolor": "#A2B1C6",
             "gridcolor": "#506784",
             "linecolor": "#506784",
             "minorgridcolor": "#506784",
             "startlinecolor": "#A2B1C6"
            },
            "baxis": {
             "endlinecolor": "#A2B1C6",
             "gridcolor": "#506784",
             "linecolor": "#506784",
             "minorgridcolor": "#506784",
             "startlinecolor": "#A2B1C6"
            },
            "type": "carpet"
           }
          ],
          "choropleth": [
           {
            "colorbar": {
             "outlinewidth": 0,
             "ticks": ""
            },
            "type": "choropleth"
           }
          ],
          "contour": [
           {
            "colorbar": {
             "outlinewidth": 0,
             "ticks": ""
            },
            "colorscale": [
             [
              0,
              "#0d0887"
             ],
             [
              0.1111111111111111,
              "#46039f"
             ],
             [
              0.2222222222222222,
              "#7201a8"
             ],
             [
              0.3333333333333333,
              "#9c179e"
             ],
             [
              0.4444444444444444,
              "#bd3786"
             ],
             [
              0.5555555555555556,
              "#d8576b"
             ],
             [
              0.6666666666666666,
              "#ed7953"
             ],
             [
              0.7777777777777778,
              "#fb9f3a"
             ],
             [
              0.8888888888888888,
              "#fdca26"
             ],
             [
              1,
              "#f0f921"
             ]
            ],
            "type": "contour"
           }
          ],
          "contourcarpet": [
           {
            "colorbar": {
             "outlinewidth": 0,
             "ticks": ""
            },
            "type": "contourcarpet"
           }
          ],
          "heatmap": [
           {
            "colorbar": {
             "outlinewidth": 0,
             "ticks": ""
            },
            "colorscale": [
             [
              0,
              "#0d0887"
             ],
             [
              0.1111111111111111,
              "#46039f"
             ],
             [
              0.2222222222222222,
              "#7201a8"
             ],
             [
              0.3333333333333333,
              "#9c179e"
             ],
             [
              0.4444444444444444,
              "#bd3786"
             ],
             [
              0.5555555555555556,
              "#d8576b"
             ],
             [
              0.6666666666666666,
              "#ed7953"
             ],
             [
              0.7777777777777778,
              "#fb9f3a"
             ],
             [
              0.8888888888888888,
              "#fdca26"
             ],
             [
              1,
              "#f0f921"
             ]
            ],
            "type": "heatmap"
           }
          ],
          "histogram": [
           {
            "marker": {
             "pattern": {
              "fillmode": "overlay",
              "size": 10,
              "solidity": 0.2
             }
            },
            "type": "histogram"
           }
          ],
          "histogram2d": [
           {
            "colorbar": {
             "outlinewidth": 0,
             "ticks": ""
            },
            "colorscale": [
             [
              0,
              "#0d0887"
             ],
             [
              0.1111111111111111,
              "#46039f"
             ],
             [
              0.2222222222222222,
              "#7201a8"
             ],
             [
              0.3333333333333333,
              "#9c179e"
             ],
             [
              0.4444444444444444,
              "#bd3786"
             ],
             [
              0.5555555555555556,
              "#d8576b"
             ],
             [
              0.6666666666666666,
              "#ed7953"
             ],
             [
              0.7777777777777778,
              "#fb9f3a"
             ],
             [
              0.8888888888888888,
              "#fdca26"
             ],
             [
              1,
              "#f0f921"
             ]
            ],
            "type": "histogram2d"
           }
          ],
          "histogram2dcontour": [
           {
            "colorbar": {
             "outlinewidth": 0,
             "ticks": ""
            },
            "colorscale": [
             [
              0,
              "#0d0887"
             ],
             [
              0.1111111111111111,
              "#46039f"
             ],
             [
              0.2222222222222222,
              "#7201a8"
             ],
             [
              0.3333333333333333,
              "#9c179e"
             ],
             [
              0.4444444444444444,
              "#bd3786"
             ],
             [
              0.5555555555555556,
              "#d8576b"
             ],
             [
              0.6666666666666666,
              "#ed7953"
             ],
             [
              0.7777777777777778,
              "#fb9f3a"
             ],
             [
              0.8888888888888888,
              "#fdca26"
             ],
             [
              1,
              "#f0f921"
             ]
            ],
            "type": "histogram2dcontour"
           }
          ],
          "mesh3d": [
           {
            "colorbar": {
             "outlinewidth": 0,
             "ticks": ""
            },
            "type": "mesh3d"
           }
          ],
          "parcoords": [
           {
            "line": {
             "colorbar": {
              "outlinewidth": 0,
              "ticks": ""
             }
            },
            "type": "parcoords"
           }
          ],
          "pie": [
           {
            "automargin": true,
            "type": "pie"
           }
          ],
          "scatter": [
           {
            "marker": {
             "line": {
              "color": "#283442"
             }
            },
            "type": "scatter"
           }
          ],
          "scatter3d": [
           {
            "line": {
             "colorbar": {
              "outlinewidth": 0,
              "ticks": ""
             }
            },
            "marker": {
             "colorbar": {
              "outlinewidth": 0,
              "ticks": ""
             }
            },
            "type": "scatter3d"
           }
          ],
          "scattercarpet": [
           {
            "marker": {
             "colorbar": {
              "outlinewidth": 0,
              "ticks": ""
             }
            },
            "type": "scattercarpet"
           }
          ],
          "scattergeo": [
           {
            "marker": {
             "colorbar": {
              "outlinewidth": 0,
              "ticks": ""
             }
            },
            "type": "scattergeo"
           }
          ],
          "scattergl": [
           {
            "marker": {
             "line": {
              "color": "#283442"
             }
            },
            "type": "scattergl"
           }
          ],
          "scattermap": [
           {
            "marker": {
             "colorbar": {
              "outlinewidth": 0,
              "ticks": ""
             }
            },
            "type": "scattermap"
           }
          ],
          "scattermapbox": [
           {
            "marker": {
             "colorbar": {
              "outlinewidth": 0,
              "ticks": ""
             }
            },
            "type": "scattermapbox"
           }
          ],
          "scatterpolar": [
           {
            "marker": {
             "colorbar": {
              "outlinewidth": 0,
              "ticks": ""
             }
            },
            "type": "scatterpolar"
           }
          ],
          "scatterpolargl": [
           {
            "marker": {
             "colorbar": {
              "outlinewidth": 0,
              "ticks": ""
             }
            },
            "type": "scatterpolargl"
           }
          ],
          "scatterternary": [
           {
            "marker": {
             "colorbar": {
              "outlinewidth": 0,
              "ticks": ""
             }
            },
            "type": "scatterternary"
           }
          ],
          "surface": [
           {
            "colorbar": {
             "outlinewidth": 0,
             "ticks": ""
            },
            "colorscale": [
             [
              0,
              "#0d0887"
             ],
             [
              0.1111111111111111,
              "#46039f"
             ],
             [
              0.2222222222222222,
              "#7201a8"
             ],
             [
              0.3333333333333333,
              "#9c179e"
             ],
             [
              0.4444444444444444,
              "#bd3786"
             ],
             [
              0.5555555555555556,
              "#d8576b"
             ],
             [
              0.6666666666666666,
              "#ed7953"
             ],
             [
              0.7777777777777778,
              "#fb9f3a"
             ],
             [
              0.8888888888888888,
              "#fdca26"
             ],
             [
              1,
              "#f0f921"
             ]
            ],
            "type": "surface"
           }
          ],
          "table": [
           {
            "cells": {
             "fill": {
              "color": "#506784"
             },
             "line": {
              "color": "rgb(17,17,17)"
             }
            },
            "header": {
             "fill": {
              "color": "#2a3f5f"
             },
             "line": {
              "color": "rgb(17,17,17)"
             }
            },
            "type": "table"
           }
          ]
         },
         "layout": {
          "annotationdefaults": {
           "arrowcolor": "#f2f5fa",
           "arrowhead": 0,
           "arrowwidth": 1
          },
          "autotypenumbers": "strict",
          "coloraxis": {
           "colorbar": {
            "outlinewidth": 0,
            "ticks": ""
           }
          },
          "colorscale": {
           "diverging": [
            [
             0,
             "#8e0152"
            ],
            [
             0.1,
             "#c51b7d"
            ],
            [
             0.2,
             "#de77ae"
            ],
            [
             0.3,
             "#f1b6da"
            ],
            [
             0.4,
             "#fde0ef"
            ],
            [
             0.5,
             "#f7f7f7"
            ],
            [
             0.6,
             "#e6f5d0"
            ],
            [
             0.7,
             "#b8e186"
            ],
            [
             0.8,
             "#7fbc41"
            ],
            [
             0.9,
             "#4d9221"
            ],
            [
             1,
             "#276419"
            ]
           ],
           "sequential": [
            [
             0,
             "#0d0887"
            ],
            [
             0.1111111111111111,
             "#46039f"
            ],
            [
             0.2222222222222222,
             "#7201a8"
            ],
            [
             0.3333333333333333,
             "#9c179e"
            ],
            [
             0.4444444444444444,
             "#bd3786"
            ],
            [
             0.5555555555555556,
             "#d8576b"
            ],
            [
             0.6666666666666666,
             "#ed7953"
            ],
            [
             0.7777777777777778,
             "#fb9f3a"
            ],
            [
             0.8888888888888888,
             "#fdca26"
            ],
            [
             1,
             "#f0f921"
            ]
           ],
           "sequentialminus": [
            [
             0,
             "#0d0887"
            ],
            [
             0.1111111111111111,
             "#46039f"
            ],
            [
             0.2222222222222222,
             "#7201a8"
            ],
            [
             0.3333333333333333,
             "#9c179e"
            ],
            [
             0.4444444444444444,
             "#bd3786"
            ],
            [
             0.5555555555555556,
             "#d8576b"
            ],
            [
             0.6666666666666666,
             "#ed7953"
            ],
            [
             0.7777777777777778,
             "#fb9f3a"
            ],
            [
             0.8888888888888888,
             "#fdca26"
            ],
            [
             1,
             "#f0f921"
            ]
           ]
          },
          "colorway": [
           "#636efa",
           "#EF553B",
           "#00cc96",
           "#ab63fa",
           "#FFA15A",
           "#19d3f3",
           "#FF6692",
           "#B6E880",
           "#FF97FF",
           "#FECB52"
          ],
          "font": {
           "color": "#f2f5fa"
          },
          "geo": {
           "bgcolor": "rgb(17,17,17)",
           "lakecolor": "rgb(17,17,17)",
           "landcolor": "rgb(17,17,17)",
           "showlakes": true,
           "showland": true,
           "subunitcolor": "#506784"
          },
          "hoverlabel": {
           "align": "left"
          },
          "hovermode": "closest",
          "mapbox": {
           "style": "dark"
          },
          "paper_bgcolor": "rgb(17,17,17)",
          "plot_bgcolor": "rgb(17,17,17)",
          "polar": {
           "angularaxis": {
            "gridcolor": "#506784",
            "linecolor": "#506784",
            "ticks": ""
           },
           "bgcolor": "rgb(17,17,17)",
           "radialaxis": {
            "gridcolor": "#506784",
            "linecolor": "#506784",
            "ticks": ""
           }
          },
          "scene": {
           "xaxis": {
            "backgroundcolor": "rgb(17,17,17)",
            "gridcolor": "#506784",
            "gridwidth": 2,
            "linecolor": "#506784",
            "showbackground": true,
            "ticks": "",
            "zerolinecolor": "#C8D4E3"
           },
           "yaxis": {
            "backgroundcolor": "rgb(17,17,17)",
            "gridcolor": "#506784",
            "gridwidth": 2,
            "linecolor": "#506784",
            "showbackground": true,
            "ticks": "",
            "zerolinecolor": "#C8D4E3"
           },
           "zaxis": {
            "backgroundcolor": "rgb(17,17,17)",
            "gridcolor": "#506784",
            "gridwidth": 2,
            "linecolor": "#506784",
            "showbackground": true,
            "ticks": "",
            "zerolinecolor": "#C8D4E3"
           }
          },
          "shapedefaults": {
           "line": {
            "color": "#f2f5fa"
           }
          },
          "sliderdefaults": {
           "bgcolor": "#C8D4E3",
           "bordercolor": "rgb(17,17,17)",
           "borderwidth": 1,
           "tickwidth": 0
          },
          "ternary": {
           "aaxis": {
            "gridcolor": "#506784",
            "linecolor": "#506784",
            "ticks": ""
           },
           "baxis": {
            "gridcolor": "#506784",
            "linecolor": "#506784",
            "ticks": ""
           },
           "bgcolor": "rgb(17,17,17)",
           "caxis": {
            "gridcolor": "#506784",
            "linecolor": "#506784",
            "ticks": ""
           }
          },
          "title": {
           "x": 0.05
          },
          "updatemenudefaults": {
           "bgcolor": "#506784",
           "borderwidth": 0
          },
          "xaxis": {
           "automargin": true,
           "gridcolor": "#283442",
           "linecolor": "#506784",
           "ticks": "",
           "title": {
            "standoff": 15
           },
           "zerolinecolor": "#283442",
           "zerolinewidth": 2
          },
          "yaxis": {
           "automargin": true,
           "gridcolor": "#283442",
           "linecolor": "#506784",
           "ticks": "",
           "title": {
            "standoff": 15
           },
           "zerolinecolor": "#283442",
           "zerolinewidth": 2
          }
         }
        },
        "title": {},
        "xaxis": {
         "gridcolor": "rgba(128, 128, 128, 0.2)",
         "title": {
          "text": "Layer"
         },
         "zeroline": false
        },
        "yaxis": {
         "gridcolor": "rgba(128, 128, 128, 0.2)",
         "title": {
          "text": "Logistic Regression F1 Score"
         },
         "zeroline": false
        }
       }
      }
     },
     "metadata": {},
     "output_type": "display_data"
    },
    {
     "data": {
      "application/vnd.plotly.v1+json": {
       "config": {
        "plotlyServerURL": "https://plot.ly"
       },
       "data": [
        {
         "line": {
          "color": "#1f77b4",
          "width": 2
         },
         "marker": {
          "size": 8
         },
         "mode": "lines+markers",
         "name": "Mean",
         "type": "scatter",
         "x": {
          "bdata": "AAECAwQFBgcICQoLDA0ODxAREhMUFRYXGBkaGw==",
          "dtype": "i1"
         },
         "y": {
          "bdata": "AAAAAAAA8D8AAAAAAADwPwAAAAAAAPA/AAAAAAAA8D8AAAAAAADwPwAAAAAAAPA/AAAAAAAA8D8AAAAAAADwPwAAAAAAAPA/AAAAAAAA8D8AAAAAAADwPwAAAAAAAPA/AAAAAAAA8D8AAAAAAADwPwAAAAAAAPA/AAAAAAAA8D8AAAAAAADwPwAAAAAAAPA/AAAAAAAA8D8AAAAAAADwPwAAAAAAAPA/AAAAAAAA8D8AAAAAAADwPwAAAAAAAPA/AAAAAAAA8D8AAAAAAADwPwAAAAAAAPA/AAAAAAAA8D8=",
          "dtype": "f8"
         }
        },
        {
         "line": {
          "width": 0
         },
         "mode": "lines",
         "name": "Max",
         "showlegend": false,
         "type": "scatter",
         "x": {
          "bdata": "AAECAwQFBgcICQoLDA0ODxAREhMUFRYXGBkaGw==",
          "dtype": "i1"
         },
         "y": {
          "bdata": "AAAAAAAA8D8AAAAAAADwPwAAAAAAAPA/AAAAAAAA8D8AAAAAAADwPwAAAAAAAPA/AAAAAAAA8D8AAAAAAADwPwAAAAAAAPA/AAAAAAAA8D8AAAAAAADwPwAAAAAAAPA/AAAAAAAA8D8AAAAAAADwPwAAAAAAAPA/AAAAAAAA8D8AAAAAAADwPwAAAAAAAPA/AAAAAAAA8D8AAAAAAADwPwAAAAAAAPA/AAAAAAAA8D8AAAAAAADwPwAAAAAAAPA/AAAAAAAA8D8AAAAAAADwPwAAAAAAAPA/AAAAAAAA8D8=",
          "dtype": "f8"
         }
        },
        {
         "fill": "tonexty",
         "fillcolor": "rgba(68, 138, 255, 0.1)",
         "line": {
          "width": 0
         },
         "mode": "lines",
         "name": "Min",
         "showlegend": false,
         "type": "scatter",
         "x": {
          "bdata": "AAECAwQFBgcICQoLDA0ODxAREhMUFRYXGBkaGw==",
          "dtype": "i1"
         },
         "y": {
          "bdata": "AAAAAAAA8D8AAAAAAADwPwAAAAAAAPA/AAAAAAAA8D8AAAAAAADwPwAAAAAAAPA/AAAAAAAA8D8AAAAAAADwPwAAAAAAAPA/AAAAAAAA8D8AAAAAAADwPwAAAAAAAPA/AAAAAAAA8D8AAAAAAADwPwAAAAAAAPA/AAAAAAAA8D8AAAAAAADwPwAAAAAAAPA/AAAAAAAA8D8AAAAAAADwPwAAAAAAAPA/AAAAAAAA8D8AAAAAAADwPwAAAAAAAPA/AAAAAAAA8D8AAAAAAADwPwAAAAAAAPA/AAAAAAAA8D8=",
          "dtype": "f8"
         }
        },
        {
         "line": {
          "width": 0
         },
         "mode": "lines",
         "name": "+1 STD",
         "showlegend": false,
         "type": "scatter",
         "x": {
          "bdata": "AAECAwQFBgcICQoLDA0ODxAREhMUFRYXGBkaGw==",
          "dtype": "i1"
         },
         "y": {
          "bdata": "AAAAAAAA8D8AAAAAAADwPwAAAAAAAPA/AAAAAAAA8D8AAAAAAADwPwAAAAAAAPA/AAAAAAAA8D8AAAAAAADwPwAAAAAAAPA/AAAAAAAA8D8AAAAAAADwPwAAAAAAAPA/AAAAAAAA8D8AAAAAAADwPwAAAAAAAPA/AAAAAAAA8D8AAAAAAADwPwAAAAAAAPA/AAAAAAAA8D8AAAAAAADwPwAAAAAAAPA/AAAAAAAA8D8AAAAAAADwPwAAAAAAAPA/AAAAAAAA8D8AAAAAAADwPwAAAAAAAPA/AAAAAAAA8D8=",
          "dtype": "f8"
         }
        },
        {
         "fill": "tonexty",
         "fillcolor": "rgba(68, 138, 255, 0.3)",
         "line": {
          "width": 0
         },
         "mode": "lines",
         "name": "-1 STD",
         "showlegend": false,
         "type": "scatter",
         "x": {
          "bdata": "AAECAwQFBgcICQoLDA0ODxAREhMUFRYXGBkaGw==",
          "dtype": "i1"
         },
         "y": {
          "bdata": "AAAAAAAA8D8AAAAAAADwPwAAAAAAAPA/AAAAAAAA8D8AAAAAAADwPwAAAAAAAPA/AAAAAAAA8D8AAAAAAADwPwAAAAAAAPA/AAAAAAAA8D8AAAAAAADwPwAAAAAAAPA/AAAAAAAA8D8AAAAAAADwPwAAAAAAAPA/AAAAAAAA8D8AAAAAAADwPwAAAAAAAPA/AAAAAAAA8D8AAAAAAADwPwAAAAAAAPA/AAAAAAAA8D8AAAAAAADwPwAAAAAAAPA/AAAAAAAA8D8AAAAAAADwPwAAAAAAAPA/AAAAAAAA8D8=",
          "dtype": "f8"
         }
        },
        {
         "marker": {
          "color": "#1f77b4",
          "opacity": 0.5,
          "size": 6
         },
         "mode": "markers",
         "name": "Fold ('logistic_regression_accuracy_score', 0)",
         "showlegend": false,
         "type": "scatter",
         "x": {
          "bdata": "AAECAwQFBgcICQoLDA0ODxAREhMUFRYXGBkaGw==",
          "dtype": "i1"
         },
         "y": {
          "bdata": "AAAAAAAA8D8AAAAAAADwPwAAAAAAAPA/AAAAAAAA8D8AAAAAAADwPwAAAAAAAPA/AAAAAAAA8D8AAAAAAADwPwAAAAAAAPA/AAAAAAAA8D8AAAAAAADwPwAAAAAAAPA/AAAAAAAA8D8AAAAAAADwPwAAAAAAAPA/AAAAAAAA8D8AAAAAAADwPwAAAAAAAPA/AAAAAAAA8D8AAAAAAADwPwAAAAAAAPA/AAAAAAAA8D8AAAAAAADwPwAAAAAAAPA/AAAAAAAA8D8AAAAAAADwPwAAAAAAAPA/AAAAAAAA8D8=",
          "dtype": "f8"
         }
        },
        {
         "marker": {
          "color": "#1f77b4",
          "opacity": 0.5,
          "size": 6
         },
         "mode": "markers",
         "name": "Fold ('logistic_regression_accuracy_score', 1)",
         "showlegend": false,
         "type": "scatter",
         "x": {
          "bdata": "AAECAwQFBgcICQoLDA0ODxAREhMUFRYXGBkaGw==",
          "dtype": "i1"
         },
         "y": {
          "bdata": "AAAAAAAA8D8AAAAAAADwPwAAAAAAAPA/AAAAAAAA8D8AAAAAAADwPwAAAAAAAPA/AAAAAAAA8D8AAAAAAADwPwAAAAAAAPA/AAAAAAAA8D8AAAAAAADwPwAAAAAAAPA/AAAAAAAA8D8AAAAAAADwPwAAAAAAAPA/AAAAAAAA8D8AAAAAAADwPwAAAAAAAPA/AAAAAAAA8D8AAAAAAADwPwAAAAAAAPA/AAAAAAAA8D8AAAAAAADwPwAAAAAAAPA/AAAAAAAA8D8AAAAAAADwPwAAAAAAAPA/AAAAAAAA8D8=",
          "dtype": "f8"
         }
        },
        {
         "marker": {
          "color": "#1f77b4",
          "opacity": 0.5,
          "size": 6
         },
         "mode": "markers",
         "name": "Fold ('logistic_regression_accuracy_score', 2)",
         "showlegend": false,
         "type": "scatter",
         "x": {
          "bdata": "AAECAwQFBgcICQoLDA0ODxAREhMUFRYXGBkaGw==",
          "dtype": "i1"
         },
         "y": {
          "bdata": "AAAAAAAA8D8AAAAAAADwPwAAAAAAAPA/AAAAAAAA8D8AAAAAAADwPwAAAAAAAPA/AAAAAAAA8D8AAAAAAADwPwAAAAAAAPA/AAAAAAAA8D8AAAAAAADwPwAAAAAAAPA/AAAAAAAA8D8AAAAAAADwPwAAAAAAAPA/AAAAAAAA8D8AAAAAAADwPwAAAAAAAPA/AAAAAAAA8D8AAAAAAADwPwAAAAAAAPA/AAAAAAAA8D8AAAAAAADwPwAAAAAAAPA/AAAAAAAA8D8AAAAAAADwPwAAAAAAAPA/AAAAAAAA8D8=",
          "dtype": "f8"
         }
        },
        {
         "marker": {
          "color": "#1f77b4",
          "opacity": 0.5,
          "size": 6
         },
         "mode": "markers",
         "name": "Fold ('logistic_regression_accuracy_score', 3)",
         "showlegend": false,
         "type": "scatter",
         "x": {
          "bdata": "AAECAwQFBgcICQoLDA0ODxAREhMUFRYXGBkaGw==",
          "dtype": "i1"
         },
         "y": {
          "bdata": "AAAAAAAA8D8AAAAAAADwPwAAAAAAAPA/AAAAAAAA8D8AAAAAAADwPwAAAAAAAPA/AAAAAAAA8D8AAAAAAADwPwAAAAAAAPA/AAAAAAAA8D8AAAAAAADwPwAAAAAAAPA/AAAAAAAA8D8AAAAAAADwPwAAAAAAAPA/AAAAAAAA8D8AAAAAAADwPwAAAAAAAPA/AAAAAAAA8D8AAAAAAADwPwAAAAAAAPA/AAAAAAAA8D8AAAAAAADwPwAAAAAAAPA/AAAAAAAA8D8AAAAAAADwPwAAAAAAAPA/AAAAAAAA8D8=",
          "dtype": "f8"
         }
        },
        {
         "marker": {
          "color": "#1f77b4",
          "opacity": 0.5,
          "size": 6
         },
         "mode": "markers",
         "name": "Fold ('logistic_regression_accuracy_score', 4)",
         "showlegend": false,
         "type": "scatter",
         "x": {
          "bdata": "AAECAwQFBgcICQoLDA0ODxAREhMUFRYXGBkaGw==",
          "dtype": "i1"
         },
         "y": {
          "bdata": "AAAAAAAA8D8AAAAAAADwPwAAAAAAAPA/AAAAAAAA8D8AAAAAAADwPwAAAAAAAPA/AAAAAAAA8D8AAAAAAADwPwAAAAAAAPA/AAAAAAAA8D8AAAAAAADwPwAAAAAAAPA/AAAAAAAA8D8AAAAAAADwPwAAAAAAAPA/AAAAAAAA8D8AAAAAAADwPwAAAAAAAPA/AAAAAAAA8D8AAAAAAADwPwAAAAAAAPA/AAAAAAAA8D8AAAAAAADwPwAAAAAAAPA/AAAAAAAA8D8AAAAAAADwPwAAAAAAAPA/AAAAAAAA8D8=",
          "dtype": "f8"
         }
        }
       ],
       "layout": {
        "font": {
         "color": "white"
        },
        "margin": {
         "l": 50,
         "r": 30,
         "t": 50
        },
        "paper_bgcolor": "rgba(32, 32, 32, 1)",
        "plot_bgcolor": "rgba(32, 32, 32, 1)",
        "showlegend": false,
        "template": {
         "data": {
          "bar": [
           {
            "error_x": {
             "color": "#f2f5fa"
            },
            "error_y": {
             "color": "#f2f5fa"
            },
            "marker": {
             "line": {
              "color": "rgb(17,17,17)",
              "width": 0.5
             },
             "pattern": {
              "fillmode": "overlay",
              "size": 10,
              "solidity": 0.2
             }
            },
            "type": "bar"
           }
          ],
          "barpolar": [
           {
            "marker": {
             "line": {
              "color": "rgb(17,17,17)",
              "width": 0.5
             },
             "pattern": {
              "fillmode": "overlay",
              "size": 10,
              "solidity": 0.2
             }
            },
            "type": "barpolar"
           }
          ],
          "carpet": [
           {
            "aaxis": {
             "endlinecolor": "#A2B1C6",
             "gridcolor": "#506784",
             "linecolor": "#506784",
             "minorgridcolor": "#506784",
             "startlinecolor": "#A2B1C6"
            },
            "baxis": {
             "endlinecolor": "#A2B1C6",
             "gridcolor": "#506784",
             "linecolor": "#506784",
             "minorgridcolor": "#506784",
             "startlinecolor": "#A2B1C6"
            },
            "type": "carpet"
           }
          ],
          "choropleth": [
           {
            "colorbar": {
             "outlinewidth": 0,
             "ticks": ""
            },
            "type": "choropleth"
           }
          ],
          "contour": [
           {
            "colorbar": {
             "outlinewidth": 0,
             "ticks": ""
            },
            "colorscale": [
             [
              0,
              "#0d0887"
             ],
             [
              0.1111111111111111,
              "#46039f"
             ],
             [
              0.2222222222222222,
              "#7201a8"
             ],
             [
              0.3333333333333333,
              "#9c179e"
             ],
             [
              0.4444444444444444,
              "#bd3786"
             ],
             [
              0.5555555555555556,
              "#d8576b"
             ],
             [
              0.6666666666666666,
              "#ed7953"
             ],
             [
              0.7777777777777778,
              "#fb9f3a"
             ],
             [
              0.8888888888888888,
              "#fdca26"
             ],
             [
              1,
              "#f0f921"
             ]
            ],
            "type": "contour"
           }
          ],
          "contourcarpet": [
           {
            "colorbar": {
             "outlinewidth": 0,
             "ticks": ""
            },
            "type": "contourcarpet"
           }
          ],
          "heatmap": [
           {
            "colorbar": {
             "outlinewidth": 0,
             "ticks": ""
            },
            "colorscale": [
             [
              0,
              "#0d0887"
             ],
             [
              0.1111111111111111,
              "#46039f"
             ],
             [
              0.2222222222222222,
              "#7201a8"
             ],
             [
              0.3333333333333333,
              "#9c179e"
             ],
             [
              0.4444444444444444,
              "#bd3786"
             ],
             [
              0.5555555555555556,
              "#d8576b"
             ],
             [
              0.6666666666666666,
              "#ed7953"
             ],
             [
              0.7777777777777778,
              "#fb9f3a"
             ],
             [
              0.8888888888888888,
              "#fdca26"
             ],
             [
              1,
              "#f0f921"
             ]
            ],
            "type": "heatmap"
           }
          ],
          "histogram": [
           {
            "marker": {
             "pattern": {
              "fillmode": "overlay",
              "size": 10,
              "solidity": 0.2
             }
            },
            "type": "histogram"
           }
          ],
          "histogram2d": [
           {
            "colorbar": {
             "outlinewidth": 0,
             "ticks": ""
            },
            "colorscale": [
             [
              0,
              "#0d0887"
             ],
             [
              0.1111111111111111,
              "#46039f"
             ],
             [
              0.2222222222222222,
              "#7201a8"
             ],
             [
              0.3333333333333333,
              "#9c179e"
             ],
             [
              0.4444444444444444,
              "#bd3786"
             ],
             [
              0.5555555555555556,
              "#d8576b"
             ],
             [
              0.6666666666666666,
              "#ed7953"
             ],
             [
              0.7777777777777778,
              "#fb9f3a"
             ],
             [
              0.8888888888888888,
              "#fdca26"
             ],
             [
              1,
              "#f0f921"
             ]
            ],
            "type": "histogram2d"
           }
          ],
          "histogram2dcontour": [
           {
            "colorbar": {
             "outlinewidth": 0,
             "ticks": ""
            },
            "colorscale": [
             [
              0,
              "#0d0887"
             ],
             [
              0.1111111111111111,
              "#46039f"
             ],
             [
              0.2222222222222222,
              "#7201a8"
             ],
             [
              0.3333333333333333,
              "#9c179e"
             ],
             [
              0.4444444444444444,
              "#bd3786"
             ],
             [
              0.5555555555555556,
              "#d8576b"
             ],
             [
              0.6666666666666666,
              "#ed7953"
             ],
             [
              0.7777777777777778,
              "#fb9f3a"
             ],
             [
              0.8888888888888888,
              "#fdca26"
             ],
             [
              1,
              "#f0f921"
             ]
            ],
            "type": "histogram2dcontour"
           }
          ],
          "mesh3d": [
           {
            "colorbar": {
             "outlinewidth": 0,
             "ticks": ""
            },
            "type": "mesh3d"
           }
          ],
          "parcoords": [
           {
            "line": {
             "colorbar": {
              "outlinewidth": 0,
              "ticks": ""
             }
            },
            "type": "parcoords"
           }
          ],
          "pie": [
           {
            "automargin": true,
            "type": "pie"
           }
          ],
          "scatter": [
           {
            "marker": {
             "line": {
              "color": "#283442"
             }
            },
            "type": "scatter"
           }
          ],
          "scatter3d": [
           {
            "line": {
             "colorbar": {
              "outlinewidth": 0,
              "ticks": ""
             }
            },
            "marker": {
             "colorbar": {
              "outlinewidth": 0,
              "ticks": ""
             }
            },
            "type": "scatter3d"
           }
          ],
          "scattercarpet": [
           {
            "marker": {
             "colorbar": {
              "outlinewidth": 0,
              "ticks": ""
             }
            },
            "type": "scattercarpet"
           }
          ],
          "scattergeo": [
           {
            "marker": {
             "colorbar": {
              "outlinewidth": 0,
              "ticks": ""
             }
            },
            "type": "scattergeo"
           }
          ],
          "scattergl": [
           {
            "marker": {
             "line": {
              "color": "#283442"
             }
            },
            "type": "scattergl"
           }
          ],
          "scattermap": [
           {
            "marker": {
             "colorbar": {
              "outlinewidth": 0,
              "ticks": ""
             }
            },
            "type": "scattermap"
           }
          ],
          "scattermapbox": [
           {
            "marker": {
             "colorbar": {
              "outlinewidth": 0,
              "ticks": ""
             }
            },
            "type": "scattermapbox"
           }
          ],
          "scatterpolar": [
           {
            "marker": {
             "colorbar": {
              "outlinewidth": 0,
              "ticks": ""
             }
            },
            "type": "scatterpolar"
           }
          ],
          "scatterpolargl": [
           {
            "marker": {
             "colorbar": {
              "outlinewidth": 0,
              "ticks": ""
             }
            },
            "type": "scatterpolargl"
           }
          ],
          "scatterternary": [
           {
            "marker": {
             "colorbar": {
              "outlinewidth": 0,
              "ticks": ""
             }
            },
            "type": "scatterternary"
           }
          ],
          "surface": [
           {
            "colorbar": {
             "outlinewidth": 0,
             "ticks": ""
            },
            "colorscale": [
             [
              0,
              "#0d0887"
             ],
             [
              0.1111111111111111,
              "#46039f"
             ],
             [
              0.2222222222222222,
              "#7201a8"
             ],
             [
              0.3333333333333333,
              "#9c179e"
             ],
             [
              0.4444444444444444,
              "#bd3786"
             ],
             [
              0.5555555555555556,
              "#d8576b"
             ],
             [
              0.6666666666666666,
              "#ed7953"
             ],
             [
              0.7777777777777778,
              "#fb9f3a"
             ],
             [
              0.8888888888888888,
              "#fdca26"
             ],
             [
              1,
              "#f0f921"
             ]
            ],
            "type": "surface"
           }
          ],
          "table": [
           {
            "cells": {
             "fill": {
              "color": "#506784"
             },
             "line": {
              "color": "rgb(17,17,17)"
             }
            },
            "header": {
             "fill": {
              "color": "#2a3f5f"
             },
             "line": {
              "color": "rgb(17,17,17)"
             }
            },
            "type": "table"
           }
          ]
         },
         "layout": {
          "annotationdefaults": {
           "arrowcolor": "#f2f5fa",
           "arrowhead": 0,
           "arrowwidth": 1
          },
          "autotypenumbers": "strict",
          "coloraxis": {
           "colorbar": {
            "outlinewidth": 0,
            "ticks": ""
           }
          },
          "colorscale": {
           "diverging": [
            [
             0,
             "#8e0152"
            ],
            [
             0.1,
             "#c51b7d"
            ],
            [
             0.2,
             "#de77ae"
            ],
            [
             0.3,
             "#f1b6da"
            ],
            [
             0.4,
             "#fde0ef"
            ],
            [
             0.5,
             "#f7f7f7"
            ],
            [
             0.6,
             "#e6f5d0"
            ],
            [
             0.7,
             "#b8e186"
            ],
            [
             0.8,
             "#7fbc41"
            ],
            [
             0.9,
             "#4d9221"
            ],
            [
             1,
             "#276419"
            ]
           ],
           "sequential": [
            [
             0,
             "#0d0887"
            ],
            [
             0.1111111111111111,
             "#46039f"
            ],
            [
             0.2222222222222222,
             "#7201a8"
            ],
            [
             0.3333333333333333,
             "#9c179e"
            ],
            [
             0.4444444444444444,
             "#bd3786"
            ],
            [
             0.5555555555555556,
             "#d8576b"
            ],
            [
             0.6666666666666666,
             "#ed7953"
            ],
            [
             0.7777777777777778,
             "#fb9f3a"
            ],
            [
             0.8888888888888888,
             "#fdca26"
            ],
            [
             1,
             "#f0f921"
            ]
           ],
           "sequentialminus": [
            [
             0,
             "#0d0887"
            ],
            [
             0.1111111111111111,
             "#46039f"
            ],
            [
             0.2222222222222222,
             "#7201a8"
            ],
            [
             0.3333333333333333,
             "#9c179e"
            ],
            [
             0.4444444444444444,
             "#bd3786"
            ],
            [
             0.5555555555555556,
             "#d8576b"
            ],
            [
             0.6666666666666666,
             "#ed7953"
            ],
            [
             0.7777777777777778,
             "#fb9f3a"
            ],
            [
             0.8888888888888888,
             "#fdca26"
            ],
            [
             1,
             "#f0f921"
            ]
           ]
          },
          "colorway": [
           "#636efa",
           "#EF553B",
           "#00cc96",
           "#ab63fa",
           "#FFA15A",
           "#19d3f3",
           "#FF6692",
           "#B6E880",
           "#FF97FF",
           "#FECB52"
          ],
          "font": {
           "color": "#f2f5fa"
          },
          "geo": {
           "bgcolor": "rgb(17,17,17)",
           "lakecolor": "rgb(17,17,17)",
           "landcolor": "rgb(17,17,17)",
           "showlakes": true,
           "showland": true,
           "subunitcolor": "#506784"
          },
          "hoverlabel": {
           "align": "left"
          },
          "hovermode": "closest",
          "mapbox": {
           "style": "dark"
          },
          "paper_bgcolor": "rgb(17,17,17)",
          "plot_bgcolor": "rgb(17,17,17)",
          "polar": {
           "angularaxis": {
            "gridcolor": "#506784",
            "linecolor": "#506784",
            "ticks": ""
           },
           "bgcolor": "rgb(17,17,17)",
           "radialaxis": {
            "gridcolor": "#506784",
            "linecolor": "#506784",
            "ticks": ""
           }
          },
          "scene": {
           "xaxis": {
            "backgroundcolor": "rgb(17,17,17)",
            "gridcolor": "#506784",
            "gridwidth": 2,
            "linecolor": "#506784",
            "showbackground": true,
            "ticks": "",
            "zerolinecolor": "#C8D4E3"
           },
           "yaxis": {
            "backgroundcolor": "rgb(17,17,17)",
            "gridcolor": "#506784",
            "gridwidth": 2,
            "linecolor": "#506784",
            "showbackground": true,
            "ticks": "",
            "zerolinecolor": "#C8D4E3"
           },
           "zaxis": {
            "backgroundcolor": "rgb(17,17,17)",
            "gridcolor": "#506784",
            "gridwidth": 2,
            "linecolor": "#506784",
            "showbackground": true,
            "ticks": "",
            "zerolinecolor": "#C8D4E3"
           }
          },
          "shapedefaults": {
           "line": {
            "color": "#f2f5fa"
           }
          },
          "sliderdefaults": {
           "bgcolor": "#C8D4E3",
           "bordercolor": "rgb(17,17,17)",
           "borderwidth": 1,
           "tickwidth": 0
          },
          "ternary": {
           "aaxis": {
            "gridcolor": "#506784",
            "linecolor": "#506784",
            "ticks": ""
           },
           "baxis": {
            "gridcolor": "#506784",
            "linecolor": "#506784",
            "ticks": ""
           },
           "bgcolor": "rgb(17,17,17)",
           "caxis": {
            "gridcolor": "#506784",
            "linecolor": "#506784",
            "ticks": ""
           }
          },
          "title": {
           "x": 0.05
          },
          "updatemenudefaults": {
           "bgcolor": "#506784",
           "borderwidth": 0
          },
          "xaxis": {
           "automargin": true,
           "gridcolor": "#283442",
           "linecolor": "#506784",
           "ticks": "",
           "title": {
            "standoff": 15
           },
           "zerolinecolor": "#283442",
           "zerolinewidth": 2
          },
          "yaxis": {
           "automargin": true,
           "gridcolor": "#283442",
           "linecolor": "#506784",
           "ticks": "",
           "title": {
            "standoff": 15
           },
           "zerolinecolor": "#283442",
           "zerolinewidth": 2
          }
         }
        },
        "title": {},
        "xaxis": {
         "gridcolor": "rgba(128, 128, 128, 0.2)",
         "title": {
          "text": "Layer"
         },
         "zeroline": false
        },
        "yaxis": {
         "gridcolor": "rgba(128, 128, 128, 0.2)",
         "title": {
          "text": "Logistic Regression Accuracy Score"
         },
         "zeroline": false
        }
       }
      }
     },
     "metadata": {},
     "output_type": "display_data"
    },
    {
     "data": {
      "application/vnd.plotly.v1+json": {
       "config": {
        "plotlyServerURL": "https://plot.ly"
       },
       "data": [
        {
         "line": {
          "color": "#1f77b4",
          "width": 2
         },
         "marker": {
          "size": 8
         },
         "mode": "lines+markers",
         "name": "Mean",
         "type": "scatter",
         "x": {
          "bdata": "AAECAwQFBgcICQoLDA0ODxAREhMUFRYXGBkaGw==",
          "dtype": "i1"
         },
         "y": {
          "bdata": "AAAAAAAA8D8AAAAAAADwPwAAAAAAAPA/AAAAAAAA8D8AAAAAAADwPwAAAAAAAPA/AAAAAAAA8D8AAAAAAADwPwAAAAAAAPA/AAAAAAAA8D8AAAAAAADwPwAAAAAAAPA/AAAAAAAA8D8AAAAAAADwPwAAAAAAAPA/AAAAAAAA8D8AAAAAAADwPwAAAAAAAPA/AAAAAAAA8D8AAAAAAADwPwAAAAAAAPA/AAAAAAAA8D8AAAAAAADwPwAAAAAAAPA/AAAAAAAA8D8AAAAAAADwPwAAAAAAAPA/AAAAAAAA8D8=",
          "dtype": "f8"
         }
        },
        {
         "line": {
          "width": 0
         },
         "mode": "lines",
         "name": "Max",
         "showlegend": false,
         "type": "scatter",
         "x": {
          "bdata": "AAECAwQFBgcICQoLDA0ODxAREhMUFRYXGBkaGw==",
          "dtype": "i1"
         },
         "y": {
          "bdata": "AAAAAAAA8D8AAAAAAADwPwAAAAAAAPA/AAAAAAAA8D8AAAAAAADwPwAAAAAAAPA/AAAAAAAA8D8AAAAAAADwPwAAAAAAAPA/AAAAAAAA8D8AAAAAAADwPwAAAAAAAPA/AAAAAAAA8D8AAAAAAADwPwAAAAAAAPA/AAAAAAAA8D8AAAAAAADwPwAAAAAAAPA/AAAAAAAA8D8AAAAAAADwPwAAAAAAAPA/AAAAAAAA8D8AAAAAAADwPwAAAAAAAPA/AAAAAAAA8D8AAAAAAADwPwAAAAAAAPA/AAAAAAAA8D8=",
          "dtype": "f8"
         }
        },
        {
         "fill": "tonexty",
         "fillcolor": "rgba(68, 138, 255, 0.1)",
         "line": {
          "width": 0
         },
         "mode": "lines",
         "name": "Min",
         "showlegend": false,
         "type": "scatter",
         "x": {
          "bdata": "AAECAwQFBgcICQoLDA0ODxAREhMUFRYXGBkaGw==",
          "dtype": "i1"
         },
         "y": {
          "bdata": "AAAAAAAA8D8AAAAAAADwPwAAAAAAAPA/AAAAAAAA8D8AAAAAAADwPwAAAAAAAPA/AAAAAAAA8D8AAAAAAADwPwAAAAAAAPA/AAAAAAAA8D8AAAAAAADwPwAAAAAAAPA/AAAAAAAA8D8AAAAAAADwPwAAAAAAAPA/AAAAAAAA8D8AAAAAAADwPwAAAAAAAPA/AAAAAAAA8D8AAAAAAADwPwAAAAAAAPA/AAAAAAAA8D8AAAAAAADwPwAAAAAAAPA/AAAAAAAA8D8AAAAAAADwPwAAAAAAAPA/AAAAAAAA8D8=",
          "dtype": "f8"
         }
        },
        {
         "line": {
          "width": 0
         },
         "mode": "lines",
         "name": "+1 STD",
         "showlegend": false,
         "type": "scatter",
         "x": {
          "bdata": "AAECAwQFBgcICQoLDA0ODxAREhMUFRYXGBkaGw==",
          "dtype": "i1"
         },
         "y": {
          "bdata": "AAAAAAAA8D8AAAAAAADwPwAAAAAAAPA/AAAAAAAA8D8AAAAAAADwPwAAAAAAAPA/AAAAAAAA8D8AAAAAAADwPwAAAAAAAPA/AAAAAAAA8D8AAAAAAADwPwAAAAAAAPA/AAAAAAAA8D8AAAAAAADwPwAAAAAAAPA/AAAAAAAA8D8AAAAAAADwPwAAAAAAAPA/AAAAAAAA8D8AAAAAAADwPwAAAAAAAPA/AAAAAAAA8D8AAAAAAADwPwAAAAAAAPA/AAAAAAAA8D8AAAAAAADwPwAAAAAAAPA/AAAAAAAA8D8=",
          "dtype": "f8"
         }
        },
        {
         "fill": "tonexty",
         "fillcolor": "rgba(68, 138, 255, 0.3)",
         "line": {
          "width": 0
         },
         "mode": "lines",
         "name": "-1 STD",
         "showlegend": false,
         "type": "scatter",
         "x": {
          "bdata": "AAECAwQFBgcICQoLDA0ODxAREhMUFRYXGBkaGw==",
          "dtype": "i1"
         },
         "y": {
          "bdata": "AAAAAAAA8D8AAAAAAADwPwAAAAAAAPA/AAAAAAAA8D8AAAAAAADwPwAAAAAAAPA/AAAAAAAA8D8AAAAAAADwPwAAAAAAAPA/AAAAAAAA8D8AAAAAAADwPwAAAAAAAPA/AAAAAAAA8D8AAAAAAADwPwAAAAAAAPA/AAAAAAAA8D8AAAAAAADwPwAAAAAAAPA/AAAAAAAA8D8AAAAAAADwPwAAAAAAAPA/AAAAAAAA8D8AAAAAAADwPwAAAAAAAPA/AAAAAAAA8D8AAAAAAADwPwAAAAAAAPA/AAAAAAAA8D8=",
          "dtype": "f8"
         }
        },
        {
         "marker": {
          "color": "#1f77b4",
          "opacity": 0.5,
          "size": 6
         },
         "mode": "markers",
         "name": "Fold ('logistic_regression_precision_score', 0)",
         "showlegend": false,
         "type": "scatter",
         "x": {
          "bdata": "AAECAwQFBgcICQoLDA0ODxAREhMUFRYXGBkaGw==",
          "dtype": "i1"
         },
         "y": {
          "bdata": "AAAAAAAA8D8AAAAAAADwPwAAAAAAAPA/AAAAAAAA8D8AAAAAAADwPwAAAAAAAPA/AAAAAAAA8D8AAAAAAADwPwAAAAAAAPA/AAAAAAAA8D8AAAAAAADwPwAAAAAAAPA/AAAAAAAA8D8AAAAAAADwPwAAAAAAAPA/AAAAAAAA8D8AAAAAAADwPwAAAAAAAPA/AAAAAAAA8D8AAAAAAADwPwAAAAAAAPA/AAAAAAAA8D8AAAAAAADwPwAAAAAAAPA/AAAAAAAA8D8AAAAAAADwPwAAAAAAAPA/AAAAAAAA8D8=",
          "dtype": "f8"
         }
        },
        {
         "marker": {
          "color": "#1f77b4",
          "opacity": 0.5,
          "size": 6
         },
         "mode": "markers",
         "name": "Fold ('logistic_regression_precision_score', 1)",
         "showlegend": false,
         "type": "scatter",
         "x": {
          "bdata": "AAECAwQFBgcICQoLDA0ODxAREhMUFRYXGBkaGw==",
          "dtype": "i1"
         },
         "y": {
          "bdata": "AAAAAAAA8D8AAAAAAADwPwAAAAAAAPA/AAAAAAAA8D8AAAAAAADwPwAAAAAAAPA/AAAAAAAA8D8AAAAAAADwPwAAAAAAAPA/AAAAAAAA8D8AAAAAAADwPwAAAAAAAPA/AAAAAAAA8D8AAAAAAADwPwAAAAAAAPA/AAAAAAAA8D8AAAAAAADwPwAAAAAAAPA/AAAAAAAA8D8AAAAAAADwPwAAAAAAAPA/AAAAAAAA8D8AAAAAAADwPwAAAAAAAPA/AAAAAAAA8D8AAAAAAADwPwAAAAAAAPA/AAAAAAAA8D8=",
          "dtype": "f8"
         }
        },
        {
         "marker": {
          "color": "#1f77b4",
          "opacity": 0.5,
          "size": 6
         },
         "mode": "markers",
         "name": "Fold ('logistic_regression_precision_score', 2)",
         "showlegend": false,
         "type": "scatter",
         "x": {
          "bdata": "AAECAwQFBgcICQoLDA0ODxAREhMUFRYXGBkaGw==",
          "dtype": "i1"
         },
         "y": {
          "bdata": "AAAAAAAA8D8AAAAAAADwPwAAAAAAAPA/AAAAAAAA8D8AAAAAAADwPwAAAAAAAPA/AAAAAAAA8D8AAAAAAADwPwAAAAAAAPA/AAAAAAAA8D8AAAAAAADwPwAAAAAAAPA/AAAAAAAA8D8AAAAAAADwPwAAAAAAAPA/AAAAAAAA8D8AAAAAAADwPwAAAAAAAPA/AAAAAAAA8D8AAAAAAADwPwAAAAAAAPA/AAAAAAAA8D8AAAAAAADwPwAAAAAAAPA/AAAAAAAA8D8AAAAAAADwPwAAAAAAAPA/AAAAAAAA8D8=",
          "dtype": "f8"
         }
        },
        {
         "marker": {
          "color": "#1f77b4",
          "opacity": 0.5,
          "size": 6
         },
         "mode": "markers",
         "name": "Fold ('logistic_regression_precision_score', 3)",
         "showlegend": false,
         "type": "scatter",
         "x": {
          "bdata": "AAECAwQFBgcICQoLDA0ODxAREhMUFRYXGBkaGw==",
          "dtype": "i1"
         },
         "y": {
          "bdata": "AAAAAAAA8D8AAAAAAADwPwAAAAAAAPA/AAAAAAAA8D8AAAAAAADwPwAAAAAAAPA/AAAAAAAA8D8AAAAAAADwPwAAAAAAAPA/AAAAAAAA8D8AAAAAAADwPwAAAAAAAPA/AAAAAAAA8D8AAAAAAADwPwAAAAAAAPA/AAAAAAAA8D8AAAAAAADwPwAAAAAAAPA/AAAAAAAA8D8AAAAAAADwPwAAAAAAAPA/AAAAAAAA8D8AAAAAAADwPwAAAAAAAPA/AAAAAAAA8D8AAAAAAADwPwAAAAAAAPA/AAAAAAAA8D8=",
          "dtype": "f8"
         }
        },
        {
         "marker": {
          "color": "#1f77b4",
          "opacity": 0.5,
          "size": 6
         },
         "mode": "markers",
         "name": "Fold ('logistic_regression_precision_score', 4)",
         "showlegend": false,
         "type": "scatter",
         "x": {
          "bdata": "AAECAwQFBgcICQoLDA0ODxAREhMUFRYXGBkaGw==",
          "dtype": "i1"
         },
         "y": {
          "bdata": "AAAAAAAA8D8AAAAAAADwPwAAAAAAAPA/AAAAAAAA8D8AAAAAAADwPwAAAAAAAPA/AAAAAAAA8D8AAAAAAADwPwAAAAAAAPA/AAAAAAAA8D8AAAAAAADwPwAAAAAAAPA/AAAAAAAA8D8AAAAAAADwPwAAAAAAAPA/AAAAAAAA8D8AAAAAAADwPwAAAAAAAPA/AAAAAAAA8D8AAAAAAADwPwAAAAAAAPA/AAAAAAAA8D8AAAAAAADwPwAAAAAAAPA/AAAAAAAA8D8AAAAAAADwPwAAAAAAAPA/AAAAAAAA8D8=",
          "dtype": "f8"
         }
        }
       ],
       "layout": {
        "font": {
         "color": "white"
        },
        "margin": {
         "l": 50,
         "r": 30,
         "t": 50
        },
        "paper_bgcolor": "rgba(32, 32, 32, 1)",
        "plot_bgcolor": "rgba(32, 32, 32, 1)",
        "showlegend": false,
        "template": {
         "data": {
          "bar": [
           {
            "error_x": {
             "color": "#f2f5fa"
            },
            "error_y": {
             "color": "#f2f5fa"
            },
            "marker": {
             "line": {
              "color": "rgb(17,17,17)",
              "width": 0.5
             },
             "pattern": {
              "fillmode": "overlay",
              "size": 10,
              "solidity": 0.2
             }
            },
            "type": "bar"
           }
          ],
          "barpolar": [
           {
            "marker": {
             "line": {
              "color": "rgb(17,17,17)",
              "width": 0.5
             },
             "pattern": {
              "fillmode": "overlay",
              "size": 10,
              "solidity": 0.2
             }
            },
            "type": "barpolar"
           }
          ],
          "carpet": [
           {
            "aaxis": {
             "endlinecolor": "#A2B1C6",
             "gridcolor": "#506784",
             "linecolor": "#506784",
             "minorgridcolor": "#506784",
             "startlinecolor": "#A2B1C6"
            },
            "baxis": {
             "endlinecolor": "#A2B1C6",
             "gridcolor": "#506784",
             "linecolor": "#506784",
             "minorgridcolor": "#506784",
             "startlinecolor": "#A2B1C6"
            },
            "type": "carpet"
           }
          ],
          "choropleth": [
           {
            "colorbar": {
             "outlinewidth": 0,
             "ticks": ""
            },
            "type": "choropleth"
           }
          ],
          "contour": [
           {
            "colorbar": {
             "outlinewidth": 0,
             "ticks": ""
            },
            "colorscale": [
             [
              0,
              "#0d0887"
             ],
             [
              0.1111111111111111,
              "#46039f"
             ],
             [
              0.2222222222222222,
              "#7201a8"
             ],
             [
              0.3333333333333333,
              "#9c179e"
             ],
             [
              0.4444444444444444,
              "#bd3786"
             ],
             [
              0.5555555555555556,
              "#d8576b"
             ],
             [
              0.6666666666666666,
              "#ed7953"
             ],
             [
              0.7777777777777778,
              "#fb9f3a"
             ],
             [
              0.8888888888888888,
              "#fdca26"
             ],
             [
              1,
              "#f0f921"
             ]
            ],
            "type": "contour"
           }
          ],
          "contourcarpet": [
           {
            "colorbar": {
             "outlinewidth": 0,
             "ticks": ""
            },
            "type": "contourcarpet"
           }
          ],
          "heatmap": [
           {
            "colorbar": {
             "outlinewidth": 0,
             "ticks": ""
            },
            "colorscale": [
             [
              0,
              "#0d0887"
             ],
             [
              0.1111111111111111,
              "#46039f"
             ],
             [
              0.2222222222222222,
              "#7201a8"
             ],
             [
              0.3333333333333333,
              "#9c179e"
             ],
             [
              0.4444444444444444,
              "#bd3786"
             ],
             [
              0.5555555555555556,
              "#d8576b"
             ],
             [
              0.6666666666666666,
              "#ed7953"
             ],
             [
              0.7777777777777778,
              "#fb9f3a"
             ],
             [
              0.8888888888888888,
              "#fdca26"
             ],
             [
              1,
              "#f0f921"
             ]
            ],
            "type": "heatmap"
           }
          ],
          "histogram": [
           {
            "marker": {
             "pattern": {
              "fillmode": "overlay",
              "size": 10,
              "solidity": 0.2
             }
            },
            "type": "histogram"
           }
          ],
          "histogram2d": [
           {
            "colorbar": {
             "outlinewidth": 0,
             "ticks": ""
            },
            "colorscale": [
             [
              0,
              "#0d0887"
             ],
             [
              0.1111111111111111,
              "#46039f"
             ],
             [
              0.2222222222222222,
              "#7201a8"
             ],
             [
              0.3333333333333333,
              "#9c179e"
             ],
             [
              0.4444444444444444,
              "#bd3786"
             ],
             [
              0.5555555555555556,
              "#d8576b"
             ],
             [
              0.6666666666666666,
              "#ed7953"
             ],
             [
              0.7777777777777778,
              "#fb9f3a"
             ],
             [
              0.8888888888888888,
              "#fdca26"
             ],
             [
              1,
              "#f0f921"
             ]
            ],
            "type": "histogram2d"
           }
          ],
          "histogram2dcontour": [
           {
            "colorbar": {
             "outlinewidth": 0,
             "ticks": ""
            },
            "colorscale": [
             [
              0,
              "#0d0887"
             ],
             [
              0.1111111111111111,
              "#46039f"
             ],
             [
              0.2222222222222222,
              "#7201a8"
             ],
             [
              0.3333333333333333,
              "#9c179e"
             ],
             [
              0.4444444444444444,
              "#bd3786"
             ],
             [
              0.5555555555555556,
              "#d8576b"
             ],
             [
              0.6666666666666666,
              "#ed7953"
             ],
             [
              0.7777777777777778,
              "#fb9f3a"
             ],
             [
              0.8888888888888888,
              "#fdca26"
             ],
             [
              1,
              "#f0f921"
             ]
            ],
            "type": "histogram2dcontour"
           }
          ],
          "mesh3d": [
           {
            "colorbar": {
             "outlinewidth": 0,
             "ticks": ""
            },
            "type": "mesh3d"
           }
          ],
          "parcoords": [
           {
            "line": {
             "colorbar": {
              "outlinewidth": 0,
              "ticks": ""
             }
            },
            "type": "parcoords"
           }
          ],
          "pie": [
           {
            "automargin": true,
            "type": "pie"
           }
          ],
          "scatter": [
           {
            "marker": {
             "line": {
              "color": "#283442"
             }
            },
            "type": "scatter"
           }
          ],
          "scatter3d": [
           {
            "line": {
             "colorbar": {
              "outlinewidth": 0,
              "ticks": ""
             }
            },
            "marker": {
             "colorbar": {
              "outlinewidth": 0,
              "ticks": ""
             }
            },
            "type": "scatter3d"
           }
          ],
          "scattercarpet": [
           {
            "marker": {
             "colorbar": {
              "outlinewidth": 0,
              "ticks": ""
             }
            },
            "type": "scattercarpet"
           }
          ],
          "scattergeo": [
           {
            "marker": {
             "colorbar": {
              "outlinewidth": 0,
              "ticks": ""
             }
            },
            "type": "scattergeo"
           }
          ],
          "scattergl": [
           {
            "marker": {
             "line": {
              "color": "#283442"
             }
            },
            "type": "scattergl"
           }
          ],
          "scattermap": [
           {
            "marker": {
             "colorbar": {
              "outlinewidth": 0,
              "ticks": ""
             }
            },
            "type": "scattermap"
           }
          ],
          "scattermapbox": [
           {
            "marker": {
             "colorbar": {
              "outlinewidth": 0,
              "ticks": ""
             }
            },
            "type": "scattermapbox"
           }
          ],
          "scatterpolar": [
           {
            "marker": {
             "colorbar": {
              "outlinewidth": 0,
              "ticks": ""
             }
            },
            "type": "scatterpolar"
           }
          ],
          "scatterpolargl": [
           {
            "marker": {
             "colorbar": {
              "outlinewidth": 0,
              "ticks": ""
             }
            },
            "type": "scatterpolargl"
           }
          ],
          "scatterternary": [
           {
            "marker": {
             "colorbar": {
              "outlinewidth": 0,
              "ticks": ""
             }
            },
            "type": "scatterternary"
           }
          ],
          "surface": [
           {
            "colorbar": {
             "outlinewidth": 0,
             "ticks": ""
            },
            "colorscale": [
             [
              0,
              "#0d0887"
             ],
             [
              0.1111111111111111,
              "#46039f"
             ],
             [
              0.2222222222222222,
              "#7201a8"
             ],
             [
              0.3333333333333333,
              "#9c179e"
             ],
             [
              0.4444444444444444,
              "#bd3786"
             ],
             [
              0.5555555555555556,
              "#d8576b"
             ],
             [
              0.6666666666666666,
              "#ed7953"
             ],
             [
              0.7777777777777778,
              "#fb9f3a"
             ],
             [
              0.8888888888888888,
              "#fdca26"
             ],
             [
              1,
              "#f0f921"
             ]
            ],
            "type": "surface"
           }
          ],
          "table": [
           {
            "cells": {
             "fill": {
              "color": "#506784"
             },
             "line": {
              "color": "rgb(17,17,17)"
             }
            },
            "header": {
             "fill": {
              "color": "#2a3f5f"
             },
             "line": {
              "color": "rgb(17,17,17)"
             }
            },
            "type": "table"
           }
          ]
         },
         "layout": {
          "annotationdefaults": {
           "arrowcolor": "#f2f5fa",
           "arrowhead": 0,
           "arrowwidth": 1
          },
          "autotypenumbers": "strict",
          "coloraxis": {
           "colorbar": {
            "outlinewidth": 0,
            "ticks": ""
           }
          },
          "colorscale": {
           "diverging": [
            [
             0,
             "#8e0152"
            ],
            [
             0.1,
             "#c51b7d"
            ],
            [
             0.2,
             "#de77ae"
            ],
            [
             0.3,
             "#f1b6da"
            ],
            [
             0.4,
             "#fde0ef"
            ],
            [
             0.5,
             "#f7f7f7"
            ],
            [
             0.6,
             "#e6f5d0"
            ],
            [
             0.7,
             "#b8e186"
            ],
            [
             0.8,
             "#7fbc41"
            ],
            [
             0.9,
             "#4d9221"
            ],
            [
             1,
             "#276419"
            ]
           ],
           "sequential": [
            [
             0,
             "#0d0887"
            ],
            [
             0.1111111111111111,
             "#46039f"
            ],
            [
             0.2222222222222222,
             "#7201a8"
            ],
            [
             0.3333333333333333,
             "#9c179e"
            ],
            [
             0.4444444444444444,
             "#bd3786"
            ],
            [
             0.5555555555555556,
             "#d8576b"
            ],
            [
             0.6666666666666666,
             "#ed7953"
            ],
            [
             0.7777777777777778,
             "#fb9f3a"
            ],
            [
             0.8888888888888888,
             "#fdca26"
            ],
            [
             1,
             "#f0f921"
            ]
           ],
           "sequentialminus": [
            [
             0,
             "#0d0887"
            ],
            [
             0.1111111111111111,
             "#46039f"
            ],
            [
             0.2222222222222222,
             "#7201a8"
            ],
            [
             0.3333333333333333,
             "#9c179e"
            ],
            [
             0.4444444444444444,
             "#bd3786"
            ],
            [
             0.5555555555555556,
             "#d8576b"
            ],
            [
             0.6666666666666666,
             "#ed7953"
            ],
            [
             0.7777777777777778,
             "#fb9f3a"
            ],
            [
             0.8888888888888888,
             "#fdca26"
            ],
            [
             1,
             "#f0f921"
            ]
           ]
          },
          "colorway": [
           "#636efa",
           "#EF553B",
           "#00cc96",
           "#ab63fa",
           "#FFA15A",
           "#19d3f3",
           "#FF6692",
           "#B6E880",
           "#FF97FF",
           "#FECB52"
          ],
          "font": {
           "color": "#f2f5fa"
          },
          "geo": {
           "bgcolor": "rgb(17,17,17)",
           "lakecolor": "rgb(17,17,17)",
           "landcolor": "rgb(17,17,17)",
           "showlakes": true,
           "showland": true,
           "subunitcolor": "#506784"
          },
          "hoverlabel": {
           "align": "left"
          },
          "hovermode": "closest",
          "mapbox": {
           "style": "dark"
          },
          "paper_bgcolor": "rgb(17,17,17)",
          "plot_bgcolor": "rgb(17,17,17)",
          "polar": {
           "angularaxis": {
            "gridcolor": "#506784",
            "linecolor": "#506784",
            "ticks": ""
           },
           "bgcolor": "rgb(17,17,17)",
           "radialaxis": {
            "gridcolor": "#506784",
            "linecolor": "#506784",
            "ticks": ""
           }
          },
          "scene": {
           "xaxis": {
            "backgroundcolor": "rgb(17,17,17)",
            "gridcolor": "#506784",
            "gridwidth": 2,
            "linecolor": "#506784",
            "showbackground": true,
            "ticks": "",
            "zerolinecolor": "#C8D4E3"
           },
           "yaxis": {
            "backgroundcolor": "rgb(17,17,17)",
            "gridcolor": "#506784",
            "gridwidth": 2,
            "linecolor": "#506784",
            "showbackground": true,
            "ticks": "",
            "zerolinecolor": "#C8D4E3"
           },
           "zaxis": {
            "backgroundcolor": "rgb(17,17,17)",
            "gridcolor": "#506784",
            "gridwidth": 2,
            "linecolor": "#506784",
            "showbackground": true,
            "ticks": "",
            "zerolinecolor": "#C8D4E3"
           }
          },
          "shapedefaults": {
           "line": {
            "color": "#f2f5fa"
           }
          },
          "sliderdefaults": {
           "bgcolor": "#C8D4E3",
           "bordercolor": "rgb(17,17,17)",
           "borderwidth": 1,
           "tickwidth": 0
          },
          "ternary": {
           "aaxis": {
            "gridcolor": "#506784",
            "linecolor": "#506784",
            "ticks": ""
           },
           "baxis": {
            "gridcolor": "#506784",
            "linecolor": "#506784",
            "ticks": ""
           },
           "bgcolor": "rgb(17,17,17)",
           "caxis": {
            "gridcolor": "#506784",
            "linecolor": "#506784",
            "ticks": ""
           }
          },
          "title": {
           "x": 0.05
          },
          "updatemenudefaults": {
           "bgcolor": "#506784",
           "borderwidth": 0
          },
          "xaxis": {
           "automargin": true,
           "gridcolor": "#283442",
           "linecolor": "#506784",
           "ticks": "",
           "title": {
            "standoff": 15
           },
           "zerolinecolor": "#283442",
           "zerolinewidth": 2
          },
          "yaxis": {
           "automargin": true,
           "gridcolor": "#283442",
           "linecolor": "#506784",
           "ticks": "",
           "title": {
            "standoff": 15
           },
           "zerolinecolor": "#283442",
           "zerolinewidth": 2
          }
         }
        },
        "title": {},
        "xaxis": {
         "gridcolor": "rgba(128, 128, 128, 0.2)",
         "title": {
          "text": "Layer"
         },
         "zeroline": false
        },
        "yaxis": {
         "gridcolor": "rgba(128, 128, 128, 0.2)",
         "title": {
          "text": "Logistic Regression Precision Score"
         },
         "zeroline": false
        }
       }
      }
     },
     "metadata": {},
     "output_type": "display_data"
    },
    {
     "data": {
      "application/vnd.plotly.v1+json": {
       "config": {
        "plotlyServerURL": "https://plot.ly"
       },
       "data": [
        {
         "line": {
          "color": "#1f77b4",
          "width": 2
         },
         "marker": {
          "size": 8
         },
         "mode": "lines+markers",
         "name": "Mean",
         "type": "scatter",
         "x": {
          "bdata": "AAECAwQFBgcICQoLDA0ODxAREhMUFRYXGBkaGw==",
          "dtype": "i1"
         },
         "y": {
          "bdata": "AAAAAAAA8D8AAAAAAADwPwAAAAAAAPA/AAAAAAAA8D8AAAAAAADwPwAAAAAAAPA/AAAAAAAA8D8AAAAAAADwPwAAAAAAAPA/AAAAAAAA8D8AAAAAAADwPwAAAAAAAPA/AAAAAAAA8D8AAAAAAADwPwAAAAAAAPA/AAAAAAAA8D8AAAAAAADwPwAAAAAAAPA/AAAAAAAA8D8AAAAAAADwPwAAAAAAAPA/AAAAAAAA8D8AAAAAAADwPwAAAAAAAPA/AAAAAAAA8D8AAAAAAADwPwAAAAAAAPA/AAAAAAAA8D8=",
          "dtype": "f8"
         }
        },
        {
         "line": {
          "width": 0
         },
         "mode": "lines",
         "name": "Max",
         "showlegend": false,
         "type": "scatter",
         "x": {
          "bdata": "AAECAwQFBgcICQoLDA0ODxAREhMUFRYXGBkaGw==",
          "dtype": "i1"
         },
         "y": {
          "bdata": "AAAAAAAA8D8AAAAAAADwPwAAAAAAAPA/AAAAAAAA8D8AAAAAAADwPwAAAAAAAPA/AAAAAAAA8D8AAAAAAADwPwAAAAAAAPA/AAAAAAAA8D8AAAAAAADwPwAAAAAAAPA/AAAAAAAA8D8AAAAAAADwPwAAAAAAAPA/AAAAAAAA8D8AAAAAAADwPwAAAAAAAPA/AAAAAAAA8D8AAAAAAADwPwAAAAAAAPA/AAAAAAAA8D8AAAAAAADwPwAAAAAAAPA/AAAAAAAA8D8AAAAAAADwPwAAAAAAAPA/AAAAAAAA8D8=",
          "dtype": "f8"
         }
        },
        {
         "fill": "tonexty",
         "fillcolor": "rgba(68, 138, 255, 0.1)",
         "line": {
          "width": 0
         },
         "mode": "lines",
         "name": "Min",
         "showlegend": false,
         "type": "scatter",
         "x": {
          "bdata": "AAECAwQFBgcICQoLDA0ODxAREhMUFRYXGBkaGw==",
          "dtype": "i1"
         },
         "y": {
          "bdata": "AAAAAAAA8D8AAAAAAADwPwAAAAAAAPA/AAAAAAAA8D8AAAAAAADwPwAAAAAAAPA/AAAAAAAA8D8AAAAAAADwPwAAAAAAAPA/AAAAAAAA8D8AAAAAAADwPwAAAAAAAPA/AAAAAAAA8D8AAAAAAADwPwAAAAAAAPA/AAAAAAAA8D8AAAAAAADwPwAAAAAAAPA/AAAAAAAA8D8AAAAAAADwPwAAAAAAAPA/AAAAAAAA8D8AAAAAAADwPwAAAAAAAPA/AAAAAAAA8D8AAAAAAADwPwAAAAAAAPA/AAAAAAAA8D8=",
          "dtype": "f8"
         }
        },
        {
         "line": {
          "width": 0
         },
         "mode": "lines",
         "name": "+1 STD",
         "showlegend": false,
         "type": "scatter",
         "x": {
          "bdata": "AAECAwQFBgcICQoLDA0ODxAREhMUFRYXGBkaGw==",
          "dtype": "i1"
         },
         "y": {
          "bdata": "AAAAAAAA8D8AAAAAAADwPwAAAAAAAPA/AAAAAAAA8D8AAAAAAADwPwAAAAAAAPA/AAAAAAAA8D8AAAAAAADwPwAAAAAAAPA/AAAAAAAA8D8AAAAAAADwPwAAAAAAAPA/AAAAAAAA8D8AAAAAAADwPwAAAAAAAPA/AAAAAAAA8D8AAAAAAADwPwAAAAAAAPA/AAAAAAAA8D8AAAAAAADwPwAAAAAAAPA/AAAAAAAA8D8AAAAAAADwPwAAAAAAAPA/AAAAAAAA8D8AAAAAAADwPwAAAAAAAPA/AAAAAAAA8D8=",
          "dtype": "f8"
         }
        },
        {
         "fill": "tonexty",
         "fillcolor": "rgba(68, 138, 255, 0.3)",
         "line": {
          "width": 0
         },
         "mode": "lines",
         "name": "-1 STD",
         "showlegend": false,
         "type": "scatter",
         "x": {
          "bdata": "AAECAwQFBgcICQoLDA0ODxAREhMUFRYXGBkaGw==",
          "dtype": "i1"
         },
         "y": {
          "bdata": "AAAAAAAA8D8AAAAAAADwPwAAAAAAAPA/AAAAAAAA8D8AAAAAAADwPwAAAAAAAPA/AAAAAAAA8D8AAAAAAADwPwAAAAAAAPA/AAAAAAAA8D8AAAAAAADwPwAAAAAAAPA/AAAAAAAA8D8AAAAAAADwPwAAAAAAAPA/AAAAAAAA8D8AAAAAAADwPwAAAAAAAPA/AAAAAAAA8D8AAAAAAADwPwAAAAAAAPA/AAAAAAAA8D8AAAAAAADwPwAAAAAAAPA/AAAAAAAA8D8AAAAAAADwPwAAAAAAAPA/AAAAAAAA8D8=",
          "dtype": "f8"
         }
        },
        {
         "marker": {
          "color": "#1f77b4",
          "opacity": 0.5,
          "size": 6
         },
         "mode": "markers",
         "name": "Fold ('logistic_regression_recall_score', 0)",
         "showlegend": false,
         "type": "scatter",
         "x": {
          "bdata": "AAECAwQFBgcICQoLDA0ODxAREhMUFRYXGBkaGw==",
          "dtype": "i1"
         },
         "y": {
          "bdata": "AAAAAAAA8D8AAAAAAADwPwAAAAAAAPA/AAAAAAAA8D8AAAAAAADwPwAAAAAAAPA/AAAAAAAA8D8AAAAAAADwPwAAAAAAAPA/AAAAAAAA8D8AAAAAAADwPwAAAAAAAPA/AAAAAAAA8D8AAAAAAADwPwAAAAAAAPA/AAAAAAAA8D8AAAAAAADwPwAAAAAAAPA/AAAAAAAA8D8AAAAAAADwPwAAAAAAAPA/AAAAAAAA8D8AAAAAAADwPwAAAAAAAPA/AAAAAAAA8D8AAAAAAADwPwAAAAAAAPA/AAAAAAAA8D8=",
          "dtype": "f8"
         }
        },
        {
         "marker": {
          "color": "#1f77b4",
          "opacity": 0.5,
          "size": 6
         },
         "mode": "markers",
         "name": "Fold ('logistic_regression_recall_score', 1)",
         "showlegend": false,
         "type": "scatter",
         "x": {
          "bdata": "AAECAwQFBgcICQoLDA0ODxAREhMUFRYXGBkaGw==",
          "dtype": "i1"
         },
         "y": {
          "bdata": "AAAAAAAA8D8AAAAAAADwPwAAAAAAAPA/AAAAAAAA8D8AAAAAAADwPwAAAAAAAPA/AAAAAAAA8D8AAAAAAADwPwAAAAAAAPA/AAAAAAAA8D8AAAAAAADwPwAAAAAAAPA/AAAAAAAA8D8AAAAAAADwPwAAAAAAAPA/AAAAAAAA8D8AAAAAAADwPwAAAAAAAPA/AAAAAAAA8D8AAAAAAADwPwAAAAAAAPA/AAAAAAAA8D8AAAAAAADwPwAAAAAAAPA/AAAAAAAA8D8AAAAAAADwPwAAAAAAAPA/AAAAAAAA8D8=",
          "dtype": "f8"
         }
        },
        {
         "marker": {
          "color": "#1f77b4",
          "opacity": 0.5,
          "size": 6
         },
         "mode": "markers",
         "name": "Fold ('logistic_regression_recall_score', 2)",
         "showlegend": false,
         "type": "scatter",
         "x": {
          "bdata": "AAECAwQFBgcICQoLDA0ODxAREhMUFRYXGBkaGw==",
          "dtype": "i1"
         },
         "y": {
          "bdata": "AAAAAAAA8D8AAAAAAADwPwAAAAAAAPA/AAAAAAAA8D8AAAAAAADwPwAAAAAAAPA/AAAAAAAA8D8AAAAAAADwPwAAAAAAAPA/AAAAAAAA8D8AAAAAAADwPwAAAAAAAPA/AAAAAAAA8D8AAAAAAADwPwAAAAAAAPA/AAAAAAAA8D8AAAAAAADwPwAAAAAAAPA/AAAAAAAA8D8AAAAAAADwPwAAAAAAAPA/AAAAAAAA8D8AAAAAAADwPwAAAAAAAPA/AAAAAAAA8D8AAAAAAADwPwAAAAAAAPA/AAAAAAAA8D8=",
          "dtype": "f8"
         }
        },
        {
         "marker": {
          "color": "#1f77b4",
          "opacity": 0.5,
          "size": 6
         },
         "mode": "markers",
         "name": "Fold ('logistic_regression_recall_score', 3)",
         "showlegend": false,
         "type": "scatter",
         "x": {
          "bdata": "AAECAwQFBgcICQoLDA0ODxAREhMUFRYXGBkaGw==",
          "dtype": "i1"
         },
         "y": {
          "bdata": "AAAAAAAA8D8AAAAAAADwPwAAAAAAAPA/AAAAAAAA8D8AAAAAAADwPwAAAAAAAPA/AAAAAAAA8D8AAAAAAADwPwAAAAAAAPA/AAAAAAAA8D8AAAAAAADwPwAAAAAAAPA/AAAAAAAA8D8AAAAAAADwPwAAAAAAAPA/AAAAAAAA8D8AAAAAAADwPwAAAAAAAPA/AAAAAAAA8D8AAAAAAADwPwAAAAAAAPA/AAAAAAAA8D8AAAAAAADwPwAAAAAAAPA/AAAAAAAA8D8AAAAAAADwPwAAAAAAAPA/AAAAAAAA8D8=",
          "dtype": "f8"
         }
        },
        {
         "marker": {
          "color": "#1f77b4",
          "opacity": 0.5,
          "size": 6
         },
         "mode": "markers",
         "name": "Fold ('logistic_regression_recall_score', 4)",
         "showlegend": false,
         "type": "scatter",
         "x": {
          "bdata": "AAECAwQFBgcICQoLDA0ODxAREhMUFRYXGBkaGw==",
          "dtype": "i1"
         },
         "y": {
          "bdata": "AAAAAAAA8D8AAAAAAADwPwAAAAAAAPA/AAAAAAAA8D8AAAAAAADwPwAAAAAAAPA/AAAAAAAA8D8AAAAAAADwPwAAAAAAAPA/AAAAAAAA8D8AAAAAAADwPwAAAAAAAPA/AAAAAAAA8D8AAAAAAADwPwAAAAAAAPA/AAAAAAAA8D8AAAAAAADwPwAAAAAAAPA/AAAAAAAA8D8AAAAAAADwPwAAAAAAAPA/AAAAAAAA8D8AAAAAAADwPwAAAAAAAPA/AAAAAAAA8D8AAAAAAADwPwAAAAAAAPA/AAAAAAAA8D8=",
          "dtype": "f8"
         }
        }
       ],
       "layout": {
        "font": {
         "color": "white"
        },
        "margin": {
         "l": 50,
         "r": 30,
         "t": 50
        },
        "paper_bgcolor": "rgba(32, 32, 32, 1)",
        "plot_bgcolor": "rgba(32, 32, 32, 1)",
        "showlegend": false,
        "template": {
         "data": {
          "bar": [
           {
            "error_x": {
             "color": "#f2f5fa"
            },
            "error_y": {
             "color": "#f2f5fa"
            },
            "marker": {
             "line": {
              "color": "rgb(17,17,17)",
              "width": 0.5
             },
             "pattern": {
              "fillmode": "overlay",
              "size": 10,
              "solidity": 0.2
             }
            },
            "type": "bar"
           }
          ],
          "barpolar": [
           {
            "marker": {
             "line": {
              "color": "rgb(17,17,17)",
              "width": 0.5
             },
             "pattern": {
              "fillmode": "overlay",
              "size": 10,
              "solidity": 0.2
             }
            },
            "type": "barpolar"
           }
          ],
          "carpet": [
           {
            "aaxis": {
             "endlinecolor": "#A2B1C6",
             "gridcolor": "#506784",
             "linecolor": "#506784",
             "minorgridcolor": "#506784",
             "startlinecolor": "#A2B1C6"
            },
            "baxis": {
             "endlinecolor": "#A2B1C6",
             "gridcolor": "#506784",
             "linecolor": "#506784",
             "minorgridcolor": "#506784",
             "startlinecolor": "#A2B1C6"
            },
            "type": "carpet"
           }
          ],
          "choropleth": [
           {
            "colorbar": {
             "outlinewidth": 0,
             "ticks": ""
            },
            "type": "choropleth"
           }
          ],
          "contour": [
           {
            "colorbar": {
             "outlinewidth": 0,
             "ticks": ""
            },
            "colorscale": [
             [
              0,
              "#0d0887"
             ],
             [
              0.1111111111111111,
              "#46039f"
             ],
             [
              0.2222222222222222,
              "#7201a8"
             ],
             [
              0.3333333333333333,
              "#9c179e"
             ],
             [
              0.4444444444444444,
              "#bd3786"
             ],
             [
              0.5555555555555556,
              "#d8576b"
             ],
             [
              0.6666666666666666,
              "#ed7953"
             ],
             [
              0.7777777777777778,
              "#fb9f3a"
             ],
             [
              0.8888888888888888,
              "#fdca26"
             ],
             [
              1,
              "#f0f921"
             ]
            ],
            "type": "contour"
           }
          ],
          "contourcarpet": [
           {
            "colorbar": {
             "outlinewidth": 0,
             "ticks": ""
            },
            "type": "contourcarpet"
           }
          ],
          "heatmap": [
           {
            "colorbar": {
             "outlinewidth": 0,
             "ticks": ""
            },
            "colorscale": [
             [
              0,
              "#0d0887"
             ],
             [
              0.1111111111111111,
              "#46039f"
             ],
             [
              0.2222222222222222,
              "#7201a8"
             ],
             [
              0.3333333333333333,
              "#9c179e"
             ],
             [
              0.4444444444444444,
              "#bd3786"
             ],
             [
              0.5555555555555556,
              "#d8576b"
             ],
             [
              0.6666666666666666,
              "#ed7953"
             ],
             [
              0.7777777777777778,
              "#fb9f3a"
             ],
             [
              0.8888888888888888,
              "#fdca26"
             ],
             [
              1,
              "#f0f921"
             ]
            ],
            "type": "heatmap"
           }
          ],
          "histogram": [
           {
            "marker": {
             "pattern": {
              "fillmode": "overlay",
              "size": 10,
              "solidity": 0.2
             }
            },
            "type": "histogram"
           }
          ],
          "histogram2d": [
           {
            "colorbar": {
             "outlinewidth": 0,
             "ticks": ""
            },
            "colorscale": [
             [
              0,
              "#0d0887"
             ],
             [
              0.1111111111111111,
              "#46039f"
             ],
             [
              0.2222222222222222,
              "#7201a8"
             ],
             [
              0.3333333333333333,
              "#9c179e"
             ],
             [
              0.4444444444444444,
              "#bd3786"
             ],
             [
              0.5555555555555556,
              "#d8576b"
             ],
             [
              0.6666666666666666,
              "#ed7953"
             ],
             [
              0.7777777777777778,
              "#fb9f3a"
             ],
             [
              0.8888888888888888,
              "#fdca26"
             ],
             [
              1,
              "#f0f921"
             ]
            ],
            "type": "histogram2d"
           }
          ],
          "histogram2dcontour": [
           {
            "colorbar": {
             "outlinewidth": 0,
             "ticks": ""
            },
            "colorscale": [
             [
              0,
              "#0d0887"
             ],
             [
              0.1111111111111111,
              "#46039f"
             ],
             [
              0.2222222222222222,
              "#7201a8"
             ],
             [
              0.3333333333333333,
              "#9c179e"
             ],
             [
              0.4444444444444444,
              "#bd3786"
             ],
             [
              0.5555555555555556,
              "#d8576b"
             ],
             [
              0.6666666666666666,
              "#ed7953"
             ],
             [
              0.7777777777777778,
              "#fb9f3a"
             ],
             [
              0.8888888888888888,
              "#fdca26"
             ],
             [
              1,
              "#f0f921"
             ]
            ],
            "type": "histogram2dcontour"
           }
          ],
          "mesh3d": [
           {
            "colorbar": {
             "outlinewidth": 0,
             "ticks": ""
            },
            "type": "mesh3d"
           }
          ],
          "parcoords": [
           {
            "line": {
             "colorbar": {
              "outlinewidth": 0,
              "ticks": ""
             }
            },
            "type": "parcoords"
           }
          ],
          "pie": [
           {
            "automargin": true,
            "type": "pie"
           }
          ],
          "scatter": [
           {
            "marker": {
             "line": {
              "color": "#283442"
             }
            },
            "type": "scatter"
           }
          ],
          "scatter3d": [
           {
            "line": {
             "colorbar": {
              "outlinewidth": 0,
              "ticks": ""
             }
            },
            "marker": {
             "colorbar": {
              "outlinewidth": 0,
              "ticks": ""
             }
            },
            "type": "scatter3d"
           }
          ],
          "scattercarpet": [
           {
            "marker": {
             "colorbar": {
              "outlinewidth": 0,
              "ticks": ""
             }
            },
            "type": "scattercarpet"
           }
          ],
          "scattergeo": [
           {
            "marker": {
             "colorbar": {
              "outlinewidth": 0,
              "ticks": ""
             }
            },
            "type": "scattergeo"
           }
          ],
          "scattergl": [
           {
            "marker": {
             "line": {
              "color": "#283442"
             }
            },
            "type": "scattergl"
           }
          ],
          "scattermap": [
           {
            "marker": {
             "colorbar": {
              "outlinewidth": 0,
              "ticks": ""
             }
            },
            "type": "scattermap"
           }
          ],
          "scattermapbox": [
           {
            "marker": {
             "colorbar": {
              "outlinewidth": 0,
              "ticks": ""
             }
            },
            "type": "scattermapbox"
           }
          ],
          "scatterpolar": [
           {
            "marker": {
             "colorbar": {
              "outlinewidth": 0,
              "ticks": ""
             }
            },
            "type": "scatterpolar"
           }
          ],
          "scatterpolargl": [
           {
            "marker": {
             "colorbar": {
              "outlinewidth": 0,
              "ticks": ""
             }
            },
            "type": "scatterpolargl"
           }
          ],
          "scatterternary": [
           {
            "marker": {
             "colorbar": {
              "outlinewidth": 0,
              "ticks": ""
             }
            },
            "type": "scatterternary"
           }
          ],
          "surface": [
           {
            "colorbar": {
             "outlinewidth": 0,
             "ticks": ""
            },
            "colorscale": [
             [
              0,
              "#0d0887"
             ],
             [
              0.1111111111111111,
              "#46039f"
             ],
             [
              0.2222222222222222,
              "#7201a8"
             ],
             [
              0.3333333333333333,
              "#9c179e"
             ],
             [
              0.4444444444444444,
              "#bd3786"
             ],
             [
              0.5555555555555556,
              "#d8576b"
             ],
             [
              0.6666666666666666,
              "#ed7953"
             ],
             [
              0.7777777777777778,
              "#fb9f3a"
             ],
             [
              0.8888888888888888,
              "#fdca26"
             ],
             [
              1,
              "#f0f921"
             ]
            ],
            "type": "surface"
           }
          ],
          "table": [
           {
            "cells": {
             "fill": {
              "color": "#506784"
             },
             "line": {
              "color": "rgb(17,17,17)"
             }
            },
            "header": {
             "fill": {
              "color": "#2a3f5f"
             },
             "line": {
              "color": "rgb(17,17,17)"
             }
            },
            "type": "table"
           }
          ]
         },
         "layout": {
          "annotationdefaults": {
           "arrowcolor": "#f2f5fa",
           "arrowhead": 0,
           "arrowwidth": 1
          },
          "autotypenumbers": "strict",
          "coloraxis": {
           "colorbar": {
            "outlinewidth": 0,
            "ticks": ""
           }
          },
          "colorscale": {
           "diverging": [
            [
             0,
             "#8e0152"
            ],
            [
             0.1,
             "#c51b7d"
            ],
            [
             0.2,
             "#de77ae"
            ],
            [
             0.3,
             "#f1b6da"
            ],
            [
             0.4,
             "#fde0ef"
            ],
            [
             0.5,
             "#f7f7f7"
            ],
            [
             0.6,
             "#e6f5d0"
            ],
            [
             0.7,
             "#b8e186"
            ],
            [
             0.8,
             "#7fbc41"
            ],
            [
             0.9,
             "#4d9221"
            ],
            [
             1,
             "#276419"
            ]
           ],
           "sequential": [
            [
             0,
             "#0d0887"
            ],
            [
             0.1111111111111111,
             "#46039f"
            ],
            [
             0.2222222222222222,
             "#7201a8"
            ],
            [
             0.3333333333333333,
             "#9c179e"
            ],
            [
             0.4444444444444444,
             "#bd3786"
            ],
            [
             0.5555555555555556,
             "#d8576b"
            ],
            [
             0.6666666666666666,
             "#ed7953"
            ],
            [
             0.7777777777777778,
             "#fb9f3a"
            ],
            [
             0.8888888888888888,
             "#fdca26"
            ],
            [
             1,
             "#f0f921"
            ]
           ],
           "sequentialminus": [
            [
             0,
             "#0d0887"
            ],
            [
             0.1111111111111111,
             "#46039f"
            ],
            [
             0.2222222222222222,
             "#7201a8"
            ],
            [
             0.3333333333333333,
             "#9c179e"
            ],
            [
             0.4444444444444444,
             "#bd3786"
            ],
            [
             0.5555555555555556,
             "#d8576b"
            ],
            [
             0.6666666666666666,
             "#ed7953"
            ],
            [
             0.7777777777777778,
             "#fb9f3a"
            ],
            [
             0.8888888888888888,
             "#fdca26"
            ],
            [
             1,
             "#f0f921"
            ]
           ]
          },
          "colorway": [
           "#636efa",
           "#EF553B",
           "#00cc96",
           "#ab63fa",
           "#FFA15A",
           "#19d3f3",
           "#FF6692",
           "#B6E880",
           "#FF97FF",
           "#FECB52"
          ],
          "font": {
           "color": "#f2f5fa"
          },
          "geo": {
           "bgcolor": "rgb(17,17,17)",
           "lakecolor": "rgb(17,17,17)",
           "landcolor": "rgb(17,17,17)",
           "showlakes": true,
           "showland": true,
           "subunitcolor": "#506784"
          },
          "hoverlabel": {
           "align": "left"
          },
          "hovermode": "closest",
          "mapbox": {
           "style": "dark"
          },
          "paper_bgcolor": "rgb(17,17,17)",
          "plot_bgcolor": "rgb(17,17,17)",
          "polar": {
           "angularaxis": {
            "gridcolor": "#506784",
            "linecolor": "#506784",
            "ticks": ""
           },
           "bgcolor": "rgb(17,17,17)",
           "radialaxis": {
            "gridcolor": "#506784",
            "linecolor": "#506784",
            "ticks": ""
           }
          },
          "scene": {
           "xaxis": {
            "backgroundcolor": "rgb(17,17,17)",
            "gridcolor": "#506784",
            "gridwidth": 2,
            "linecolor": "#506784",
            "showbackground": true,
            "ticks": "",
            "zerolinecolor": "#C8D4E3"
           },
           "yaxis": {
            "backgroundcolor": "rgb(17,17,17)",
            "gridcolor": "#506784",
            "gridwidth": 2,
            "linecolor": "#506784",
            "showbackground": true,
            "ticks": "",
            "zerolinecolor": "#C8D4E3"
           },
           "zaxis": {
            "backgroundcolor": "rgb(17,17,17)",
            "gridcolor": "#506784",
            "gridwidth": 2,
            "linecolor": "#506784",
            "showbackground": true,
            "ticks": "",
            "zerolinecolor": "#C8D4E3"
           }
          },
          "shapedefaults": {
           "line": {
            "color": "#f2f5fa"
           }
          },
          "sliderdefaults": {
           "bgcolor": "#C8D4E3",
           "bordercolor": "rgb(17,17,17)",
           "borderwidth": 1,
           "tickwidth": 0
          },
          "ternary": {
           "aaxis": {
            "gridcolor": "#506784",
            "linecolor": "#506784",
            "ticks": ""
           },
           "baxis": {
            "gridcolor": "#506784",
            "linecolor": "#506784",
            "ticks": ""
           },
           "bgcolor": "rgb(17,17,17)",
           "caxis": {
            "gridcolor": "#506784",
            "linecolor": "#506784",
            "ticks": ""
           }
          },
          "title": {
           "x": 0.05
          },
          "updatemenudefaults": {
           "bgcolor": "#506784",
           "borderwidth": 0
          },
          "xaxis": {
           "automargin": true,
           "gridcolor": "#283442",
           "linecolor": "#506784",
           "ticks": "",
           "title": {
            "standoff": 15
           },
           "zerolinecolor": "#283442",
           "zerolinewidth": 2
          },
          "yaxis": {
           "automargin": true,
           "gridcolor": "#283442",
           "linecolor": "#506784",
           "ticks": "",
           "title": {
            "standoff": 15
           },
           "zerolinecolor": "#283442",
           "zerolinewidth": 2
          }
         }
        },
        "title": {},
        "xaxis": {
         "gridcolor": "rgba(128, 128, 128, 0.2)",
         "title": {
          "text": "Layer"
         },
         "zeroline": false
        },
        "yaxis": {
         "gridcolor": "rgba(128, 128, 128, 0.2)",
         "title": {
          "text": "Logistic Regression Recall Score"
         },
         "zeroline": false
        }
       }
      }
     },
     "metadata": {},
     "output_type": "display_data"
    }
   ],
   "source": [
    "for classifier in [\"direction\", \"logistic_regression\"]:\n",
    "    for metric in [\"f1_score\", \"accuracy_score\", \"precision_score\", \"recall_score\"]:\n",
    "        plot_interactive_lineplot(\n",
    "            res_df_pivot[[f\"{classifier}_{metric}\"]],\n",
    "            x_label=\"Layer\",\n",
    "            y_label=f\"{classifier}_{metric}\".replace(\"_\", \" \").title()\n",
    "        ).show()"
   ]
  },
  {
   "cell_type": "code",
   "execution_count": 22,
   "metadata": {},
   "outputs": [],
   "source": [
    "# def plot_interactive_box(df, x_label, y_label, title=None):\n",
    "#     fig = go.Figure()\n",
    "    \n",
    "#     # Create box plot\n",
    "#     fig.add_trace(go.Box(\n",
    "#         x=[idx for idx in df.index for _ in range(len(df.columns))],  # Repeat each index for each fold\n",
    "#         y=df.values.flatten(),  # Flatten all values\n",
    "#         boxpoints='all',  # Show all points\n",
    "#         jitter=0,        # No jitter for points\n",
    "#         pointpos=0,      # Position points at center\n",
    "#         marker=dict(\n",
    "#             color='#1f77b4',\n",
    "#             size=8,\n",
    "#             opacity=0.5\n",
    "#         ),\n",
    "#         line=dict(\n",
    "#             color='#1f77b4',\n",
    "#             width=2\n",
    "#         ),\n",
    "#         fillcolor='rgba(68, 138, 255, 0.5)',\n",
    "#         opacity=0.6,\n",
    "#         showlegend=False,\n",
    "#         boxmean=True,    # Show mean as a dashed line\n",
    "#         width=0.5        # Width of boxes\n",
    "#     ))\n",
    "\n",
    "#     fig.update_layout(\n",
    "#         title=title,\n",
    "#         yaxis_title=y_label,\n",
    "#         xaxis_title=x_label,\n",
    "#         template='plotly_dark',\n",
    "#         plot_bgcolor='rgba(32, 32, 32, 1)',\n",
    "#         paper_bgcolor='rgba(32, 32, 32, 1)',\n",
    "#         font=dict(color='white'),\n",
    "#         margin=dict(t=50, l=50, r=30),\n",
    "#         showlegend=False\n",
    "#     )\n",
    "    \n",
    "#     # Update axes for consistency with dark theme\n",
    "#     fig.update_xaxes(gridcolor='rgba(128, 128, 128, 0.2)', zeroline=False)\n",
    "#     fig.update_yaxes(gridcolor='rgba(128, 128, 128, 0.2)', zeroline=False)\n",
    "    \n",
    "#     return fig\n",
    "\n",
    "# plot_interactive_box(res_df, x_label=\"Layer\", y_label=\"F1 Score\").show()"
   ]
  },
  {
   "cell_type": "code",
   "execution_count": null,
   "metadata": {},
   "outputs": [],
   "source": []
  },
  {
   "cell_type": "code",
   "execution_count": null,
   "metadata": {},
   "outputs": [],
   "source": []
  }
 ],
 "metadata": {
  "kernelspec": {
   "display_name": "venv",
   "language": "python",
   "name": "python3"
  },
  "language_info": {
   "codemirror_mode": {
    "name": "ipython",
    "version": 3
   },
   "file_extension": ".py",
   "mimetype": "text/x-python",
   "name": "python",
   "nbconvert_exporter": "python",
   "pygments_lexer": "ipython3",
   "version": "3.11.3"
  }
 },
 "nbformat": 4,
 "nbformat_minor": 2
}
