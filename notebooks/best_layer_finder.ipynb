{
 "cells": [
  {
   "cell_type": "code",
   "execution_count": 1,
   "metadata": {},
   "outputs": [
    {
     "data": {
      "text/plain": [
       "['/Users/anton/dev/MARS/correctness-model-internals/notebooks',\n",
       " '/Library/Frameworks/Python.framework/Versions/3.11/lib/python311.zip',\n",
       " '/Library/Frameworks/Python.framework/Versions/3.11/lib/python3.11',\n",
       " '/Library/Frameworks/Python.framework/Versions/3.11/lib/python3.11/lib-dynload',\n",
       " '',\n",
       " '/Users/anton/dev/.virtual_envs/default_env/lib/python3.11/site-packages',\n",
       " '/Users/anton/dev/MARS/correctness-model-internals']"
      ]
     },
     "execution_count": 1,
     "metadata": {},
     "output_type": "execute_result"
    }
   ],
   "source": [
    "import sys\n",
    "from pathlib import Path\n",
    "\n",
    "# Add the src directory to Python path\n",
    "src_path = str(Path(\"./\").resolve().parent)\n",
    "if src_path not in sys.path:\n",
    "    sys.path.append(src_path)\n",
    "\n",
    "sys.path"
   ]
  },
  {
   "cell_type": "code",
   "execution_count": 8,
   "metadata": {},
   "outputs": [],
   "source": [
    "from pathlib import Path\n",
    "\n",
    "import torch as pt\n",
    "import pandas as pd\n",
    "# import seaborn as sns\n",
    "\n",
    "# sns.set_theme(style=\"whitegrid\")\n"
   ]
  },
  {
   "cell_type": "code",
   "execution_count": 20,
   "metadata": {},
   "outputs": [],
   "source": [
    "def load_activations(\n",
    "    model_id,\n",
    "    dataset_id,\n",
    "    prompt_id,\n",
    "    subset_id,\n",
    "    input_type,\n",
    "    layer,\n",
    "    batch_ids=None,\n",
    "):\n",
    "    if batch_ids:\n",
    "        batch_ids = [int(batch_id) for batch_id in batch_ids]\n",
    "\n",
    "    paths = sorted(\n",
    "        list(\n",
    "            Path(\n",
    "                f\"../activations/{model_id}/{dataset_id}/{prompt_id}/{subset_id}/{input_type}\"\n",
    "            ).iterdir()\n",
    "        ),\n",
    "        key=lambda p: int(p.stem.split(\"_\")[-1]),\n",
    "    )\n",
    "\n",
    "    activations_list, indices = [], []\n",
    "    batch_size = None\n",
    "    for batch_file in paths:\n",
    "        batch_id = int(batch_file.stem.split(\"_\")[-1])\n",
    "        if batch_ids and batch_id not in batch_ids:\n",
    "            continue\n",
    "\n",
    "        activations = pt.load(batch_file, map_location=pt.device(\"cpu\"))[layer]\n",
    "        activations_list.append(activations)\n",
    "\n",
    "        batch_size = activations.shape[0]\n",
    "\n",
    "        if batch_size is None:\n",
    "            batch_size = activations.shape[0]\n",
    "        else:\n",
    "            assert batch_size == activations.shape[0]\n",
    "\n",
    "        indices.append(\n",
    "            pd.Series(range(batch_size), name=\"index\") + batch_id * batch_size\n",
    "        )\n",
    "    return (\n",
    "        pt.cat(activations_list, dim=0),\n",
    "        pd.concat(indices).reset_index(drop=True),\n",
    "    )\n",
    "\n",
    "\n",
    "def load_labels(model_id, dataset_id, prompt_id, subset_id, indices=None):\n",
    "    paths = list(\n",
    "        Path(f\"../evaluations/{model_id}/{dataset_id}/{prompt_id}/\").iterdir()\n",
    "    )\n",
    "    for path in paths:\n",
    "        filename = path.stem\n",
    "        if subset_id != filename.split(\"_generations_evaluated\")[0]:\n",
    "            continue\n",
    "        df = pd.read_csv(path)\n",
    "        if indices is not None:\n",
    "            df = df.iloc[indices].reset_index(drop=True)\n",
    "        return df\n",
    "    raise ValueError(\n",
    "        f\"No labels found for {model_id} {dataset_id} {prompt_id} {subset_id}\"\n",
    "    )\n"
   ]
  },
  {
   "cell_type": "code",
   "execution_count": 21,
   "metadata": {},
   "outputs": [],
   "source": [
    "MODEL_ID = \"llama3_3b_chat\"\n",
    "DATASET_ID = \"gsm8k\"\n",
    "PROMPT_ID = \"base_3_shot\"\n",
    "SUBSET_ID = \"main\"\n",
    "INPUT_TYPE = \"prompt_only\""
   ]
  },
  {
   "cell_type": "code",
   "execution_count": 22,
   "metadata": {},
   "outputs": [],
   "source": [
    "from src.classifying import (\n",
    "    ActivationsHandler,\n",
    "    combine_activations_handlers,\n",
    "    get_correctness_direction_classifier,\n",
    "    get_logistic_regression_classifier,\n",
    ")"
   ]
  },
  {
   "cell_type": "code",
   "execution_count": 28,
   "metadata": {},
   "outputs": [
    {
     "name": "stdout",
     "output_type": "stream",
     "text": [
      "layer 1\n"
     ]
    },
    {
     "name": "stderr",
     "output_type": "stream",
     "text": [
      "/var/folders/qd/cz9h19sd335142892r1531f40000gn/T/ipykernel_20048/1785407799.py:29: FutureWarning: You are using `torch.load` with `weights_only=False` (the current default value), which uses the default pickle module implicitly. It is possible to construct malicious pickle data which will execute arbitrary code during unpickling (See https://github.com/pytorch/pytorch/blob/main/SECURITY.md#untrusted-models for more details). In a future release, the default value for `weights_only` will be flipped to `True`. This limits the functions that could be executed during unpickling. Arbitrary objects will no longer be allowed to be loaded via this mode unless they are explicitly allowlisted by the user via `torch.serialization.add_safe_globals`. We recommend you start setting `weights_only=True` for any use case where you don't have full control of the loaded file. Please open an issue on GitHub for any issues related to this experimental feature.\n",
      "  activations = pt.load(batch_file, map_location=pt.device(\"cpu\"))[layer]\n",
      "/Users/anton/dev/MARS/correctness-model-internals/src/classifying/activations_handler.py:58: FutureWarning: The behavior of array concatenation with empty entries is deprecated. In a future version, this will no longer exclude empty items when determining the result dtype. To retain the old behavior, exclude the empty entries before the concat operation.\n",
      "  labels=pd.concat([self.labels, other.labels]),\n",
      "/Users/anton/dev/MARS/correctness-model-internals/src/classifying/activations_handler.py:58: FutureWarning: The behavior of array concatenation with empty entries is deprecated. In a future version, this will no longer exclude empty items when determining the result dtype. To retain the old behavior, exclude the empty entries before the concat operation.\n",
      "  labels=pd.concat([self.labels, other.labels]),\n",
      "/var/folders/qd/cz9h19sd335142892r1531f40000gn/T/ipykernel_20048/1785407799.py:29: FutureWarning: You are using `torch.load` with `weights_only=False` (the current default value), which uses the default pickle module implicitly. It is possible to construct malicious pickle data which will execute arbitrary code during unpickling (See https://github.com/pytorch/pytorch/blob/main/SECURITY.md#untrusted-models for more details). In a future release, the default value for `weights_only` will be flipped to `True`. This limits the functions that could be executed during unpickling. Arbitrary objects will no longer be allowed to be loaded via this mode unless they are explicitly allowlisted by the user via `torch.serialization.add_safe_globals`. We recommend you start setting `weights_only=True` for any use case where you don't have full control of the loaded file. Please open an issue on GitHub for any issues related to this experimental feature.\n",
      "  activations = pt.load(batch_file, map_location=pt.device(\"cpu\"))[layer]\n"
     ]
    },
    {
     "data": {
      "text/html": [
       "<div>\n",
       "<style scoped>\n",
       "    .dataframe tbody tr th:only-of-type {\n",
       "        vertical-align: middle;\n",
       "    }\n",
       "\n",
       "    .dataframe tbody tr th {\n",
       "        vertical-align: top;\n",
       "    }\n",
       "\n",
       "    .dataframe thead th {\n",
       "        text-align: right;\n",
       "    }\n",
       "</style>\n",
       "<table border=\"1\" class=\"dataframe\">\n",
       "  <thead>\n",
       "    <tr style=\"text-align: right;\">\n",
       "      <th></th>\n",
       "      <th>layer</th>\n",
       "      <th>fold_n</th>\n",
       "      <th>direction_optimal_cut</th>\n",
       "      <th>direction_optimal_train_set_cut</th>\n",
       "      <th>direction_test_roc_auc</th>\n",
       "      <th>direction_accuracy_score</th>\n",
       "      <th>direction_f1_score</th>\n",
       "      <th>logistic_regression_optimal_cut</th>\n",
       "      <th>logistic_regression_optimal_train_set_cut</th>\n",
       "      <th>logistic_regression_test_roc_auc</th>\n",
       "      <th>logistic_regression_accuracy_score</th>\n",
       "      <th>logistic_regression_f1_score</th>\n",
       "    </tr>\n",
       "  </thead>\n",
       "  <tbody>\n",
       "    <tr>\n",
       "      <th>0</th>\n",
       "      <td>1</td>\n",
       "      <td>0</td>\n",
       "      <td>0.161888</td>\n",
       "      <td>0.161888</td>\n",
       "      <td>1.0</td>\n",
       "      <td>1.0</td>\n",
       "      <td>1.0</td>\n",
       "      <td>0.5</td>\n",
       "      <td>0.999332</td>\n",
       "      <td>1.0</td>\n",
       "      <td>0.9</td>\n",
       "      <td>0.9</td>\n",
       "    </tr>\n",
       "    <tr>\n",
       "      <th>1</th>\n",
       "      <td>1</td>\n",
       "      <td>1</td>\n",
       "      <td>0.251568</td>\n",
       "      <td>0.251568</td>\n",
       "      <td>1.0</td>\n",
       "      <td>1.0</td>\n",
       "      <td>1.0</td>\n",
       "      <td>0.5</td>\n",
       "      <td>0.998992</td>\n",
       "      <td>1.0</td>\n",
       "      <td>1.0</td>\n",
       "      <td>1.0</td>\n",
       "    </tr>\n",
       "  </tbody>\n",
       "</table>\n",
       "</div>"
      ],
      "text/plain": [
       "   layer  fold_n  direction_optimal_cut  direction_optimal_train_set_cut  \\\n",
       "0      1       0               0.161888                         0.161888   \n",
       "1      1       1               0.251568                         0.251568   \n",
       "\n",
       "   direction_test_roc_auc  direction_accuracy_score  direction_f1_score  \\\n",
       "0                     1.0                       1.0                 1.0   \n",
       "1                     1.0                       1.0                 1.0   \n",
       "\n",
       "   logistic_regression_optimal_cut  logistic_regression_optimal_train_set_cut  \\\n",
       "0                              0.5                                   0.999332   \n",
       "1                              0.5                                   0.998992   \n",
       "\n",
       "   logistic_regression_test_roc_auc  logistic_regression_accuracy_score  \\\n",
       "0                               1.0                                 0.9   \n",
       "1                               1.0                                 1.0   \n",
       "\n",
       "   logistic_regression_f1_score  \n",
       "0                           0.9  \n",
       "1                           1.0  "
      ]
     },
     "execution_count": 28,
     "metadata": {},
     "output_type": "execute_result"
    }
   ],
   "source": [
    "from collections import defaultdict\n",
    "\n",
    "res_dict = defaultdict(list)\n",
    "for layer in range(100):\n",
    "    try:\n",
    "        activations, indices = load_activations(\n",
    "            model_id=MODEL_ID,\n",
    "            dataset_id=DATASET_ID,\n",
    "            prompt_id=PROMPT_ID,\n",
    "            subset_id=SUBSET_ID,\n",
    "            input_type=INPUT_TYPE,\n",
    "            layer=layer,\n",
    "        )\n",
    "    except KeyError as e:\n",
    "        continue\n",
    "    print(f\"layer {layer}\")\n",
    "    labels_df = load_labels(\n",
    "        model_id=MODEL_ID,\n",
    "        dataset_id=DATASET_ID,\n",
    "        prompt_id=PROMPT_ID,\n",
    "        subset_id=SUBSET_ID,\n",
    "        indices=indices,\n",
    "    )\n",
    "\n",
    "    ################### DELETE ME ###################\n",
    "    activations = pt.cat([activations]*10, dim=0)\n",
    "    labels_df = pd.concat([labels_df]*10, axis=0).reset_index(drop=True)\n",
    "    ################### DELETE ME ###################\n",
    "\n",
    "    activation_handler = ActivationsHandler(\n",
    "        activations=activations, labels=labels_df[\"correct\"].astype(bool)\n",
    "    )\n",
    "\n",
    "    activation_handler = (\n",
    "        activation_handler.sample_equally_across_groups(\n",
    "            group_labels=[False, True]\n",
    "        )\n",
    "    )\n",
    "\n",
    "    activations_handler_folds = list(\n",
    "        activation_handler.split_dataset(split_sizes=[0.5] * 2)\n",
    "    )\n",
    "\n",
    "    # fold_stats = {}\n",
    "    for fold_i, activations_handler_test in enumerate(activations_handler_folds):\n",
    "        activations_handler_train = combine_activations_handlers(\n",
    "            [ah for j, ah in enumerate(activations_handler_folds) if j != fold_i]\n",
    "        )\n",
    "        # stats_dict = {\n",
    "        #     \"n_train\": activations_handler_train.activations.shape[0],\n",
    "        #     \"n_test\": activations_handler_test.activations.shape[0],\n",
    "        # }\n",
    "\n",
    "        # direction_classifier, direction_calculator = (\n",
    "        #     get_correctness_direction_classifier(\n",
    "        #         activations_handler_train=activations_handler_train,\n",
    "        #         activations_handler_test=activations_handler_test,\n",
    "        #     )\n",
    "        # )\n",
    "        # stats_dict[\"correctness_direction_classifier\"] = (\n",
    "        #     direction_classifier.classification_metrics\n",
    "        # )\n",
    "        # stats_dict[\"activation_space_directions\"] = {\n",
    "        #     name: getattr(direction_calculator, name).tolist()\n",
    "        #     for name in [\n",
    "        #         \"classifying_direction\",\n",
    "        #         \"mean_activations\",\n",
    "        #         \"centroid_from\",\n",
    "        #         \"centroid_to\",\n",
    "        #         \"max_activations_from\",\n",
    "        #         \"min_activations_from\",\n",
    "        #         \"max_activations_to\",\n",
    "        #         \"min_activations_to\",\n",
    "        #     ]\n",
    "        # }\n",
    "\n",
    "        # stats_dict[\"logistic_regression_classifier\"] = (\n",
    "        #     get_logistic_regression_classifier(\n",
    "        #         activations_handler_train=activations_handler_train,\n",
    "        #         activations_handler_test=activations_handler_test,\n",
    "        #     )[0].classification_metrics\n",
    "        # )\n",
    "        res_dict[\"layer\"].append(layer)\n",
    "        res_dict[f\"fold_n\"].append(fold_i)\n",
    "\n",
    "        for key, value in get_correctness_direction_classifier(\n",
    "                activations_handler_train=activations_handler_train,\n",
    "                activations_handler_test=activations_handler_test,\n",
    "            )[0].classification_metrics.items():\n",
    "            res_dict[f\"direction_{key}\"].append(value)\n",
    "        \n",
    "        for key, value in get_logistic_regression_classifier(\n",
    "                activations_handler_train=activations_handler_train,\n",
    "                activations_handler_test=activations_handler_test,\n",
    "            )[0].classification_metrics.items():\n",
    "            res_dict[f\"logistic_regression_{key}\"].append(value)\n",
    "\n",
    "res_df = pd.DataFrame(res_dict)\n",
    "res_df\n"
   ]
  },
  {
   "cell_type": "code",
   "execution_count": 24,
   "metadata": {},
   "outputs": [],
   "source": [
    "# experiment_results = {\n",
    "#     \"llama3_3b_chat\": {\n",
    "#         \"gsm8k\": {\n",
    "#             \"base_3_shot\": {\n",
    "#                 \"main\": {\n",
    "#                     \"prompt_answer\": {\n",
    "#                         1: {\n",
    "#                             \"fold_1\": {\n",
    "#                                 \"correctness_direction_classifier\": {\n",
    "#                                     \"optimal_cut\": 0.5,\n",
    "#                                     \"optimal_train_set_cut\": 0.5,\n",
    "#                                     \"test_roc_auc\": 0.7,\n",
    "#                                     \"accuracy\": 0.6,\n",
    "#                                     \"f1_score\": 0.7,\n",
    "#                                 },\n",
    "#                             },\n",
    "#                             \"fold_2\": {\n",
    "#                                 \"correctness_direction_classifier\": {\n",
    "#                                     \"optimal_cut\": 0.5,\n",
    "#                                     \"optimal_train_set_cut\": 0.5,\n",
    "#                                     \"test_roc_auc\": 0.8,\n",
    "#                                     \"accuracy\": 0.7,\n",
    "#                                     \"f1_score\": 0.8,\n",
    "#                                 },\n",
    "#                             },\n",
    "#                             \"fold_3\": {\n",
    "#                                 \"correctness_direction_classifier\": {\n",
    "#                                     \"optimal_cut\": 0.5,\n",
    "#                                     \"optimal_train_set_cut\": 0.5,\n",
    "#                                     \"test_roc_auc\": 0.9,\n",
    "#                                     \"accuracy\": 0.8,\n",
    "#                                     \"f1_score\": 0.9,\n",
    "#                                 },\n",
    "#                             },\n",
    "#                         },\n",
    "#                         2: {\n",
    "#                             \"fold_1\": {\n",
    "#                                 \"correctness_direction_classifier\": {\n",
    "#                                     \"optimal_cut\": 0.5,\n",
    "#                                     \"optimal_train_set_cut\": 0.5,\n",
    "#                                     \"test_roc_auc\": 0.7,\n",
    "#                                     \"accuracy\": 0.6,\n",
    "#                                     \"f1_score\": 0.7,\n",
    "#                                 },\n",
    "#                             },\n",
    "#                             \"fold_2\": {\n",
    "#                                 \"correctness_direction_classifier\": {\n",
    "#                                     \"optimal_cut\": 0.5,\n",
    "#                                     \"optimal_train_set_cut\": 0.5,\n",
    "#                                     \"test_roc_auc\": 0.8,\n",
    "#                                     \"accuracy\": 0.7,\n",
    "#                                     \"f1_score\": 0.8,\n",
    "#                                 },\n",
    "#                             },\n",
    "#                             \"fold_3\": {\n",
    "#                                 \"correctness_direction_classifier\": {\n",
    "#                                     \"optimal_cut\": 0.5,\n",
    "#                                     \"optimal_train_set_cut\": 0.5,\n",
    "#                                     \"test_roc_auc\": 0.9,\n",
    "#                                     \"accuracy\": 0.8,\n",
    "#                                     \"f1_score\": 0.9,\n",
    "#                                 },\n",
    "#                             },\n",
    "#                         },\n",
    "#                         3: {\n",
    "#                             \"fold_1\": {\n",
    "#                                 \"correctness_direction_classifier\": {\n",
    "#                                     \"optimal_cut\": 0.5,\n",
    "#                                     \"optimal_train_set_cut\": 0.5,\n",
    "#                                     \"test_roc_auc\": 0.7,\n",
    "#                                     \"accuracy\": 0.6,\n",
    "#                                     \"f1_score\": 0.7,\n",
    "#                                 },\n",
    "#                             },\n",
    "#                             \"fold_2\": {\n",
    "#                                 \"correctness_direction_classifier\": {\n",
    "#                                     \"optimal_cut\": 0.5,\n",
    "#                                     \"optimal_train_set_cut\": 0.5,\n",
    "#                                     \"test_roc_auc\": 0.8,\n",
    "#                                     \"accuracy\": 0.7,\n",
    "#                                     \"f1_score\": 0.8,\n",
    "#                                 },\n",
    "#                             },\n",
    "#                             \"fold_3\": {\n",
    "#                                 \"correctness_direction_classifier\": {\n",
    "#                                     \"optimal_cut\": 0.5,\n",
    "#                                     \"optimal_train_set_cut\": 0.5,\n",
    "#                                     \"test_roc_auc\": 0.9,\n",
    "#                                     \"accuracy\": 0.8,\n",
    "#                                     \"f1_score\": 0.9,\n",
    "#                                 },\n",
    "#                             },\n",
    "#                         },\n",
    "#                         4: {\n",
    "#                             \"fold_1\": {\n",
    "#                                 \"correctness_direction_classifier\": {\n",
    "#                                     \"optimal_cut\": 0.5,\n",
    "#                                     \"optimal_train_set_cut\": 0.5,\n",
    "#                                     \"test_roc_auc\": 0.7,\n",
    "#                                     \"accuracy\": 0.6,\n",
    "#                                     \"f1_score\": 0.7,\n",
    "#                                 },\n",
    "#                             },\n",
    "#                             \"fold_2\": {\n",
    "#                                 \"correctness_direction_classifier\": {\n",
    "#                                     \"optimal_cut\": 0.5,\n",
    "#                                     \"optimal_train_set_cut\": 0.5,\n",
    "#                                     \"test_roc_auc\": 0.8,\n",
    "#                                     \"accuracy\": 0.7,\n",
    "#                                     \"f1_score\": 0.8,\n",
    "#                                 },\n",
    "#                             },\n",
    "#                             \"fold_3\": {\n",
    "#                                 \"correctness_direction_classifier\": {\n",
    "#                                     \"optimal_cut\": 0.5,\n",
    "#                                     \"optimal_train_set_cut\": 0.5,\n",
    "#                                     \"test_roc_auc\": 0.9,\n",
    "#                                     \"accuracy\": 0.8,\n",
    "#                                     \"f1_score\": 0.9,\n",
    "#                                 },\n",
    "#                             },\n",
    "#                         },\n",
    "#                         5: {\n",
    "#                             \"fold_1\": {\n",
    "#                                 \"correctness_direction_classifier\": {\n",
    "#                                     \"optimal_cut\": 0.5,\n",
    "#                                     \"optimal_train_set_cut\": 0.5,\n",
    "#                                     \"test_roc_auc\": 0.7,\n",
    "#                                     \"accuracy\": 0.6,\n",
    "#                                     \"f1_score\": 0.7,\n",
    "#                                 },\n",
    "#                             },\n",
    "#                             \"fold_2\": {\n",
    "#                                 \"correctness_direction_classifier\": {\n",
    "#                                     \"optimal_cut\": 0.5,\n",
    "#                                     \"optimal_train_set_cut\": 0.5,\n",
    "#                                     \"test_roc_auc\": 0.8,\n",
    "#                                     \"accuracy\": 0.7,\n",
    "#                                     \"f1_score\": 0.8,\n",
    "#                                 },\n",
    "#                             },\n",
    "#                             \"fold_3\": {\n",
    "#                                 \"correctness_direction_classifier\": {\n",
    "#                                     \"optimal_cut\": 0.5,\n",
    "#                                     \"optimal_train_set_cut\": 0.5,\n",
    "#                                     \"test_roc_auc\": 0.9,\n",
    "#                                     \"accuracy\": 0.8,\n",
    "#                                     \"f1_score\": 0.9,\n",
    "#                                 },\n",
    "#                             },\n",
    "#                         },\n",
    "#                     }\n",
    "#                 }\n",
    "#             }\n",
    "#         }\n",
    "#     }\n",
    "# }\n",
    "\n"
   ]
  },
  {
   "cell_type": "code",
   "execution_count": 49,
   "metadata": {},
   "outputs": [
    {
     "data": {
      "application/vnd.plotly.v1+json": {
       "config": {
        "plotlyServerURL": "https://plot.ly"
       },
       "data": [
        {
         "line": {
          "width": 0
         },
         "mode": "lines",
         "name": "Max",
         "showlegend": false,
         "type": "scatter",
         "x": [
          1,
          2,
          3,
          4,
          5
         ],
         "y": [
          0.47671355787873676,
          1.5435708175362823,
          1.4399720694450129,
          1.4615620386348285,
          0.6048306609581958
         ]
        },
        {
         "fill": "tonexty",
         "fillcolor": "rgba(68, 138, 255, 0.1)",
         "line": {
          "width": 0
         },
         "mode": "lines",
         "name": "Min",
         "showlegend": false,
         "type": "scatter",
         "x": [
          1,
          2,
          3,
          4,
          5
         ],
         "y": [
          -0.011126854798837127,
          0.8960136793416913,
          0.4693578993358682,
          0.3813769228367718,
          0.208600134517832
         ]
        },
        {
         "line": {
          "width": 0
         },
         "mode": "lines",
         "name": "+1 STD",
         "showlegend": false,
         "type": "scatter",
         "x": [
          1,
          2,
          3,
          4,
          5
         ],
         "y": [
          0.5295460346908049,
          1.5508075523467793,
          1.4059096144544005,
          1.5176068073608415,
          0.5916499357380239
         ]
        },
        {
         "fill": "tonexty",
         "fillcolor": "rgba(68, 138, 255, 0.3)",
         "line": {
          "width": 0
         },
         "mode": "lines",
         "name": "-1 STD",
         "showlegend": false,
         "type": "scatter",
         "x": [
          1,
          2,
          3,
          4,
          5
         ],
         "y": [
          0.020329099490996594,
          0.9027953645550202,
          0.4260998006153927,
          0.42398918151511167,
          0.19209784345107564
         ]
        },
        {
         "line": {
          "color": "#1f77b4",
          "width": 2
         },
         "marker": {
          "size": 8
         },
         "mode": "lines+markers",
         "name": "Mean",
         "type": "scatter",
         "x": [
          1,
          2,
          3,
          4,
          5
         ],
         "y": [
          0.2749375670909007,
          1.2268014584508997,
          0.9160047075348966,
          0.9707979944379765,
          0.3918738895945498
         ]
        },
        {
         "marker": {
          "color": "#1f77b4",
          "opacity": 0.5,
          "size": 6
         },
         "mode": "markers",
         "name": "Fold 0",
         "showlegend": false,
         "type": "scatter",
         "x": [
          1,
          2,
          3,
          4,
          5
         ],
         "y": [
          -0.011126854798837127,
          1.5435708175362823,
          1.4399720694450129,
          1.4615620386348285,
          0.6048306609581958
         ]
        },
        {
         "marker": {
          "color": "#1f77b4",
          "opacity": 0.5,
          "size": 6
         },
         "mode": "markers",
         "name": "Fold 1",
         "showlegend": false,
         "type": "scatter",
         "x": [
          1,
          2,
          3,
          4,
          5
         ],
         "y": [
          0.47671355787873676,
          1.2408198784747253,
          0.8386841538238092,
          1.0694550218423293,
          0.36219087330762145
         ]
        },
        {
         "marker": {
          "color": "#1f77b4",
          "opacity": 0.5,
          "size": 6
         },
         "mode": "markers",
         "name": "Fold 2",
         "showlegend": false,
         "type": "scatter",
         "x": [
          1,
          2,
          3,
          4,
          5
         ],
         "y": [
          0.35922599819280254,
          0.8960136793416913,
          0.4693578993358682,
          0.3813769228367718,
          0.208600134517832
         ]
        }
       ],
       "layout": {
        "font": {
         "color": "white"
        },
        "margin": {
         "l": 50,
         "r": 30,
         "t": 50
        },
        "paper_bgcolor": "rgba(32, 32, 32, 1)",
        "plot_bgcolor": "rgba(32, 32, 32, 1)",
        "showlegend": false,
        "template": {
         "data": {
          "bar": [
           {
            "error_x": {
             "color": "#f2f5fa"
            },
            "error_y": {
             "color": "#f2f5fa"
            },
            "marker": {
             "line": {
              "color": "rgb(17,17,17)",
              "width": 0.5
             },
             "pattern": {
              "fillmode": "overlay",
              "size": 10,
              "solidity": 0.2
             }
            },
            "type": "bar"
           }
          ],
          "barpolar": [
           {
            "marker": {
             "line": {
              "color": "rgb(17,17,17)",
              "width": 0.5
             },
             "pattern": {
              "fillmode": "overlay",
              "size": 10,
              "solidity": 0.2
             }
            },
            "type": "barpolar"
           }
          ],
          "carpet": [
           {
            "aaxis": {
             "endlinecolor": "#A2B1C6",
             "gridcolor": "#506784",
             "linecolor": "#506784",
             "minorgridcolor": "#506784",
             "startlinecolor": "#A2B1C6"
            },
            "baxis": {
             "endlinecolor": "#A2B1C6",
             "gridcolor": "#506784",
             "linecolor": "#506784",
             "minorgridcolor": "#506784",
             "startlinecolor": "#A2B1C6"
            },
            "type": "carpet"
           }
          ],
          "choropleth": [
           {
            "colorbar": {
             "outlinewidth": 0,
             "ticks": ""
            },
            "type": "choropleth"
           }
          ],
          "contour": [
           {
            "colorbar": {
             "outlinewidth": 0,
             "ticks": ""
            },
            "colorscale": [
             [
              0,
              "#0d0887"
             ],
             [
              0.1111111111111111,
              "#46039f"
             ],
             [
              0.2222222222222222,
              "#7201a8"
             ],
             [
              0.3333333333333333,
              "#9c179e"
             ],
             [
              0.4444444444444444,
              "#bd3786"
             ],
             [
              0.5555555555555556,
              "#d8576b"
             ],
             [
              0.6666666666666666,
              "#ed7953"
             ],
             [
              0.7777777777777778,
              "#fb9f3a"
             ],
             [
              0.8888888888888888,
              "#fdca26"
             ],
             [
              1,
              "#f0f921"
             ]
            ],
            "type": "contour"
           }
          ],
          "contourcarpet": [
           {
            "colorbar": {
             "outlinewidth": 0,
             "ticks": ""
            },
            "type": "contourcarpet"
           }
          ],
          "heatmap": [
           {
            "colorbar": {
             "outlinewidth": 0,
             "ticks": ""
            },
            "colorscale": [
             [
              0,
              "#0d0887"
             ],
             [
              0.1111111111111111,
              "#46039f"
             ],
             [
              0.2222222222222222,
              "#7201a8"
             ],
             [
              0.3333333333333333,
              "#9c179e"
             ],
             [
              0.4444444444444444,
              "#bd3786"
             ],
             [
              0.5555555555555556,
              "#d8576b"
             ],
             [
              0.6666666666666666,
              "#ed7953"
             ],
             [
              0.7777777777777778,
              "#fb9f3a"
             ],
             [
              0.8888888888888888,
              "#fdca26"
             ],
             [
              1,
              "#f0f921"
             ]
            ],
            "type": "heatmap"
           }
          ],
          "heatmapgl": [
           {
            "colorbar": {
             "outlinewidth": 0,
             "ticks": ""
            },
            "colorscale": [
             [
              0,
              "#0d0887"
             ],
             [
              0.1111111111111111,
              "#46039f"
             ],
             [
              0.2222222222222222,
              "#7201a8"
             ],
             [
              0.3333333333333333,
              "#9c179e"
             ],
             [
              0.4444444444444444,
              "#bd3786"
             ],
             [
              0.5555555555555556,
              "#d8576b"
             ],
             [
              0.6666666666666666,
              "#ed7953"
             ],
             [
              0.7777777777777778,
              "#fb9f3a"
             ],
             [
              0.8888888888888888,
              "#fdca26"
             ],
             [
              1,
              "#f0f921"
             ]
            ],
            "type": "heatmapgl"
           }
          ],
          "histogram": [
           {
            "marker": {
             "pattern": {
              "fillmode": "overlay",
              "size": 10,
              "solidity": 0.2
             }
            },
            "type": "histogram"
           }
          ],
          "histogram2d": [
           {
            "colorbar": {
             "outlinewidth": 0,
             "ticks": ""
            },
            "colorscale": [
             [
              0,
              "#0d0887"
             ],
             [
              0.1111111111111111,
              "#46039f"
             ],
             [
              0.2222222222222222,
              "#7201a8"
             ],
             [
              0.3333333333333333,
              "#9c179e"
             ],
             [
              0.4444444444444444,
              "#bd3786"
             ],
             [
              0.5555555555555556,
              "#d8576b"
             ],
             [
              0.6666666666666666,
              "#ed7953"
             ],
             [
              0.7777777777777778,
              "#fb9f3a"
             ],
             [
              0.8888888888888888,
              "#fdca26"
             ],
             [
              1,
              "#f0f921"
             ]
            ],
            "type": "histogram2d"
           }
          ],
          "histogram2dcontour": [
           {
            "colorbar": {
             "outlinewidth": 0,
             "ticks": ""
            },
            "colorscale": [
             [
              0,
              "#0d0887"
             ],
             [
              0.1111111111111111,
              "#46039f"
             ],
             [
              0.2222222222222222,
              "#7201a8"
             ],
             [
              0.3333333333333333,
              "#9c179e"
             ],
             [
              0.4444444444444444,
              "#bd3786"
             ],
             [
              0.5555555555555556,
              "#d8576b"
             ],
             [
              0.6666666666666666,
              "#ed7953"
             ],
             [
              0.7777777777777778,
              "#fb9f3a"
             ],
             [
              0.8888888888888888,
              "#fdca26"
             ],
             [
              1,
              "#f0f921"
             ]
            ],
            "type": "histogram2dcontour"
           }
          ],
          "mesh3d": [
           {
            "colorbar": {
             "outlinewidth": 0,
             "ticks": ""
            },
            "type": "mesh3d"
           }
          ],
          "parcoords": [
           {
            "line": {
             "colorbar": {
              "outlinewidth": 0,
              "ticks": ""
             }
            },
            "type": "parcoords"
           }
          ],
          "pie": [
           {
            "automargin": true,
            "type": "pie"
           }
          ],
          "scatter": [
           {
            "marker": {
             "line": {
              "color": "#283442"
             }
            },
            "type": "scatter"
           }
          ],
          "scatter3d": [
           {
            "line": {
             "colorbar": {
              "outlinewidth": 0,
              "ticks": ""
             }
            },
            "marker": {
             "colorbar": {
              "outlinewidth": 0,
              "ticks": ""
             }
            },
            "type": "scatter3d"
           }
          ],
          "scattercarpet": [
           {
            "marker": {
             "colorbar": {
              "outlinewidth": 0,
              "ticks": ""
             }
            },
            "type": "scattercarpet"
           }
          ],
          "scattergeo": [
           {
            "marker": {
             "colorbar": {
              "outlinewidth": 0,
              "ticks": ""
             }
            },
            "type": "scattergeo"
           }
          ],
          "scattergl": [
           {
            "marker": {
             "line": {
              "color": "#283442"
             }
            },
            "type": "scattergl"
           }
          ],
          "scattermapbox": [
           {
            "marker": {
             "colorbar": {
              "outlinewidth": 0,
              "ticks": ""
             }
            },
            "type": "scattermapbox"
           }
          ],
          "scatterpolar": [
           {
            "marker": {
             "colorbar": {
              "outlinewidth": 0,
              "ticks": ""
             }
            },
            "type": "scatterpolar"
           }
          ],
          "scatterpolargl": [
           {
            "marker": {
             "colorbar": {
              "outlinewidth": 0,
              "ticks": ""
             }
            },
            "type": "scatterpolargl"
           }
          ],
          "scatterternary": [
           {
            "marker": {
             "colorbar": {
              "outlinewidth": 0,
              "ticks": ""
             }
            },
            "type": "scatterternary"
           }
          ],
          "surface": [
           {
            "colorbar": {
             "outlinewidth": 0,
             "ticks": ""
            },
            "colorscale": [
             [
              0,
              "#0d0887"
             ],
             [
              0.1111111111111111,
              "#46039f"
             ],
             [
              0.2222222222222222,
              "#7201a8"
             ],
             [
              0.3333333333333333,
              "#9c179e"
             ],
             [
              0.4444444444444444,
              "#bd3786"
             ],
             [
              0.5555555555555556,
              "#d8576b"
             ],
             [
              0.6666666666666666,
              "#ed7953"
             ],
             [
              0.7777777777777778,
              "#fb9f3a"
             ],
             [
              0.8888888888888888,
              "#fdca26"
             ],
             [
              1,
              "#f0f921"
             ]
            ],
            "type": "surface"
           }
          ],
          "table": [
           {
            "cells": {
             "fill": {
              "color": "#506784"
             },
             "line": {
              "color": "rgb(17,17,17)"
             }
            },
            "header": {
             "fill": {
              "color": "#2a3f5f"
             },
             "line": {
              "color": "rgb(17,17,17)"
             }
            },
            "type": "table"
           }
          ]
         },
         "layout": {
          "annotationdefaults": {
           "arrowcolor": "#f2f5fa",
           "arrowhead": 0,
           "arrowwidth": 1
          },
          "autotypenumbers": "strict",
          "coloraxis": {
           "colorbar": {
            "outlinewidth": 0,
            "ticks": ""
           }
          },
          "colorscale": {
           "diverging": [
            [
             0,
             "#8e0152"
            ],
            [
             0.1,
             "#c51b7d"
            ],
            [
             0.2,
             "#de77ae"
            ],
            [
             0.3,
             "#f1b6da"
            ],
            [
             0.4,
             "#fde0ef"
            ],
            [
             0.5,
             "#f7f7f7"
            ],
            [
             0.6,
             "#e6f5d0"
            ],
            [
             0.7,
             "#b8e186"
            ],
            [
             0.8,
             "#7fbc41"
            ],
            [
             0.9,
             "#4d9221"
            ],
            [
             1,
             "#276419"
            ]
           ],
           "sequential": [
            [
             0,
             "#0d0887"
            ],
            [
             0.1111111111111111,
             "#46039f"
            ],
            [
             0.2222222222222222,
             "#7201a8"
            ],
            [
             0.3333333333333333,
             "#9c179e"
            ],
            [
             0.4444444444444444,
             "#bd3786"
            ],
            [
             0.5555555555555556,
             "#d8576b"
            ],
            [
             0.6666666666666666,
             "#ed7953"
            ],
            [
             0.7777777777777778,
             "#fb9f3a"
            ],
            [
             0.8888888888888888,
             "#fdca26"
            ],
            [
             1,
             "#f0f921"
            ]
           ],
           "sequentialminus": [
            [
             0,
             "#0d0887"
            ],
            [
             0.1111111111111111,
             "#46039f"
            ],
            [
             0.2222222222222222,
             "#7201a8"
            ],
            [
             0.3333333333333333,
             "#9c179e"
            ],
            [
             0.4444444444444444,
             "#bd3786"
            ],
            [
             0.5555555555555556,
             "#d8576b"
            ],
            [
             0.6666666666666666,
             "#ed7953"
            ],
            [
             0.7777777777777778,
             "#fb9f3a"
            ],
            [
             0.8888888888888888,
             "#fdca26"
            ],
            [
             1,
             "#f0f921"
            ]
           ]
          },
          "colorway": [
           "#636efa",
           "#EF553B",
           "#00cc96",
           "#ab63fa",
           "#FFA15A",
           "#19d3f3",
           "#FF6692",
           "#B6E880",
           "#FF97FF",
           "#FECB52"
          ],
          "font": {
           "color": "#f2f5fa"
          },
          "geo": {
           "bgcolor": "rgb(17,17,17)",
           "lakecolor": "rgb(17,17,17)",
           "landcolor": "rgb(17,17,17)",
           "showlakes": true,
           "showland": true,
           "subunitcolor": "#506784"
          },
          "hoverlabel": {
           "align": "left"
          },
          "hovermode": "closest",
          "mapbox": {
           "style": "dark"
          },
          "paper_bgcolor": "rgb(17,17,17)",
          "plot_bgcolor": "rgb(17,17,17)",
          "polar": {
           "angularaxis": {
            "gridcolor": "#506784",
            "linecolor": "#506784",
            "ticks": ""
           },
           "bgcolor": "rgb(17,17,17)",
           "radialaxis": {
            "gridcolor": "#506784",
            "linecolor": "#506784",
            "ticks": ""
           }
          },
          "scene": {
           "xaxis": {
            "backgroundcolor": "rgb(17,17,17)",
            "gridcolor": "#506784",
            "gridwidth": 2,
            "linecolor": "#506784",
            "showbackground": true,
            "ticks": "",
            "zerolinecolor": "#C8D4E3"
           },
           "yaxis": {
            "backgroundcolor": "rgb(17,17,17)",
            "gridcolor": "#506784",
            "gridwidth": 2,
            "linecolor": "#506784",
            "showbackground": true,
            "ticks": "",
            "zerolinecolor": "#C8D4E3"
           },
           "zaxis": {
            "backgroundcolor": "rgb(17,17,17)",
            "gridcolor": "#506784",
            "gridwidth": 2,
            "linecolor": "#506784",
            "showbackground": true,
            "ticks": "",
            "zerolinecolor": "#C8D4E3"
           }
          },
          "shapedefaults": {
           "line": {
            "color": "#f2f5fa"
           }
          },
          "sliderdefaults": {
           "bgcolor": "#C8D4E3",
           "bordercolor": "rgb(17,17,17)",
           "borderwidth": 1,
           "tickwidth": 0
          },
          "ternary": {
           "aaxis": {
            "gridcolor": "#506784",
            "linecolor": "#506784",
            "ticks": ""
           },
           "baxis": {
            "gridcolor": "#506784",
            "linecolor": "#506784",
            "ticks": ""
           },
           "bgcolor": "rgb(17,17,17)",
           "caxis": {
            "gridcolor": "#506784",
            "linecolor": "#506784",
            "ticks": ""
           }
          },
          "title": {
           "x": 0.05
          },
          "updatemenudefaults": {
           "bgcolor": "#506784",
           "borderwidth": 0
          },
          "xaxis": {
           "automargin": true,
           "gridcolor": "#283442",
           "linecolor": "#506784",
           "ticks": "",
           "title": {
            "standoff": 15
           },
           "zerolinecolor": "#283442",
           "zerolinewidth": 2
          },
          "yaxis": {
           "automargin": true,
           "gridcolor": "#283442",
           "linecolor": "#506784",
           "ticks": "",
           "title": {
            "standoff": 15
           },
           "zerolinecolor": "#283442",
           "zerolinewidth": 2
          }
         }
        },
        "title": {},
        "xaxis": {
         "gridcolor": "rgba(128, 128, 128, 0.2)",
         "title": {
          "text": "Layer"
         },
         "zeroline": false
        },
        "yaxis": {
         "gridcolor": "rgba(128, 128, 128, 0.2)",
         "title": {
          "text": "F1 Score"
         },
         "zeroline": false
        }
       }
      }
     },
     "metadata": {},
     "output_type": "display_data"
    }
   ],
   "source": [
    "\n",
    "import plotly.graph_objects as go\n",
    "def plot_interactive_lineplot(df, x_label, y_label, title=None):\n",
    "    fig = go.Figure()\n",
    "    \n",
    "    # Calculate statistics for each column\n",
    "    means = df.mean(axis=1)\n",
    "    stds = df.std(axis=1)\n",
    "    mins = df.min(axis=1)\n",
    "    maxs = df.max(axis=1)\n",
    "    \n",
    "    # Add min/max range (very faint)\n",
    "    fig.add_trace(go.Scatter(\n",
    "        x=df.index,\n",
    "        y=maxs,\n",
    "        mode='lines',\n",
    "        line=dict(width=0),\n",
    "        showlegend=False,\n",
    "        name='Max'\n",
    "    ))\n",
    "    fig.add_trace(go.Scatter(\n",
    "        x=df.index,\n",
    "        y=mins,\n",
    "        mode='lines',\n",
    "        line=dict(width=0),\n",
    "        fillcolor='rgba(68, 138, 255, 0.1)',  # Very faint blue\n",
    "        fill='tonexty',\n",
    "        showlegend=False,\n",
    "        name='Min'\n",
    "    ))\n",
    "    \n",
    "    # Add ±1 std range (moderately faint)\n",
    "    fig.add_trace(go.Scatter(\n",
    "        x=df.index,\n",
    "        y=means + stds,\n",
    "        mode='lines',\n",
    "        line=dict(width=0),\n",
    "        showlegend=False,\n",
    "        name='+1 STD'\n",
    "    ))\n",
    "    fig.add_trace(go.Scatter(\n",
    "        x=df.index,\n",
    "        y=means - stds,\n",
    "        mode='lines',\n",
    "        line=dict(width=0),\n",
    "        fillcolor='rgba(68, 138, 255, 0.3)',  # Slightly more visible blue\n",
    "        fill='tonexty',\n",
    "        showlegend=False,\n",
    "        name='-1 STD'\n",
    "    ))\n",
    "    \n",
    "    # Add mean line\n",
    "    fig.add_trace(go.Scatter(\n",
    "        x=df.index,\n",
    "        y=means,\n",
    "        mode='lines+markers',\n",
    "        line=dict(color='#1f77b4', width=2),\n",
    "        marker=dict(size=8),\n",
    "        name='Mean'\n",
    "    ))\n",
    "    \n",
    "    # Add individual points for each fold\n",
    "    for col in df.columns:\n",
    "        fig.add_trace(go.Scatter(\n",
    "            x=df.index,\n",
    "            y=df[col],\n",
    "            mode='markers',\n",
    "            marker=dict(\n",
    "                color='#1f77b4',\n",
    "                size=6,\n",
    "                opacity=0.5\n",
    "            ),\n",
    "            showlegend=False,\n",
    "            name=f'Fold {col}'\n",
    "        ))\n",
    "    \n",
    "    fig.update_layout(\n",
    "        title=title,\n",
    "        yaxis_title=y_label,\n",
    "        xaxis_title=x_label,\n",
    "        template='plotly_dark',\n",
    "        plot_bgcolor='rgba(32, 32, 32, 1)',\n",
    "        paper_bgcolor='rgba(32, 32, 32, 1)',\n",
    "        font=dict(color='white'),\n",
    "        margin=dict(t=50, l=50, r=30),\n",
    "        showlegend=False\n",
    "    )\n",
    "    \n",
    "    # Update axes for consistency with dark theme\n",
    "    fig.update_xaxes(gridcolor='rgba(128, 128, 128, 0.2)', zeroline=False)\n",
    "    fig.update_yaxes(gridcolor='rgba(128, 128, 128, 0.2)', zeroline=False)\n",
    "    \n",
    "    return fig\n",
    "\n",
    "def get_layer_performance_df(layer_results, classifier_name, metric_name):\n",
    "    res_dict = {}\n",
    "    for layer, layer_stats in layer_results.items():\n",
    "        metric_val_folds = pd.Series([fold_stats[classifier_name][metric_name] for fold_stats in layer_stats.values()])\n",
    "        res_dict[layer] = metric_val_folds + np.random.normal(0, 0.5, 3)\n",
    "    res_df = pd.DataFrame(res_dict).T.sort_index()\n",
    "    return res_df\n",
    "    return \n",
    "\n",
    "res_df = get_layer_performance_df(experiment_results[\"llama3_3b_chat\"][\"gsm8k\"][\"base_3_shot\"][\"main\"][\"prompt_answer\"], \"correctness_direction_classifier\", \"f1_score\")\n",
    "plot_interactive_lineplot(res_df, x_label=\"Layer\", y_label=\"F1 Score\").show()\n",
    "            "
   ]
  },
  {
   "cell_type": "code",
   "execution_count": 52,
   "metadata": {},
   "outputs": [
    {
     "data": {
      "application/vnd.plotly.v1+json": {
       "config": {
        "plotlyServerURL": "https://plot.ly"
       },
       "data": [
        {
         "boxmean": true,
         "boxpoints": "all",
         "fillcolor": "rgba(68, 138, 255, 0.5)",
         "jitter": 0,
         "line": {
          "color": "#1f77b4",
          "width": 2
         },
         "marker": {
          "color": "#1f77b4",
          "opacity": 0.5,
          "size": 8
         },
         "opacity": 0.6,
         "pointpos": 0,
         "showlegend": false,
         "type": "box",
         "width": 0.5,
         "x": [
          1,
          1,
          1,
          2,
          2,
          2,
          3,
          3,
          3,
          4,
          4,
          4,
          5,
          5,
          5
         ],
         "y": [
          -0.011126854798837127,
          0.47671355787873676,
          0.35922599819280254,
          1.5435708175362823,
          1.2408198784747253,
          0.8960136793416913,
          1.4399720694450129,
          0.8386841538238092,
          0.4693578993358682,
          1.4615620386348285,
          1.0694550218423293,
          0.3813769228367718,
          0.6048306609581958,
          0.36219087330762145,
          0.208600134517832
         ]
        }
       ],
       "layout": {
        "font": {
         "color": "white"
        },
        "margin": {
         "l": 50,
         "r": 30,
         "t": 50
        },
        "paper_bgcolor": "rgba(32, 32, 32, 1)",
        "plot_bgcolor": "rgba(32, 32, 32, 1)",
        "showlegend": false,
        "template": {
         "data": {
          "bar": [
           {
            "error_x": {
             "color": "#f2f5fa"
            },
            "error_y": {
             "color": "#f2f5fa"
            },
            "marker": {
             "line": {
              "color": "rgb(17,17,17)",
              "width": 0.5
             },
             "pattern": {
              "fillmode": "overlay",
              "size": 10,
              "solidity": 0.2
             }
            },
            "type": "bar"
           }
          ],
          "barpolar": [
           {
            "marker": {
             "line": {
              "color": "rgb(17,17,17)",
              "width": 0.5
             },
             "pattern": {
              "fillmode": "overlay",
              "size": 10,
              "solidity": 0.2
             }
            },
            "type": "barpolar"
           }
          ],
          "carpet": [
           {
            "aaxis": {
             "endlinecolor": "#A2B1C6",
             "gridcolor": "#506784",
             "linecolor": "#506784",
             "minorgridcolor": "#506784",
             "startlinecolor": "#A2B1C6"
            },
            "baxis": {
             "endlinecolor": "#A2B1C6",
             "gridcolor": "#506784",
             "linecolor": "#506784",
             "minorgridcolor": "#506784",
             "startlinecolor": "#A2B1C6"
            },
            "type": "carpet"
           }
          ],
          "choropleth": [
           {
            "colorbar": {
             "outlinewidth": 0,
             "ticks": ""
            },
            "type": "choropleth"
           }
          ],
          "contour": [
           {
            "colorbar": {
             "outlinewidth": 0,
             "ticks": ""
            },
            "colorscale": [
             [
              0,
              "#0d0887"
             ],
             [
              0.1111111111111111,
              "#46039f"
             ],
             [
              0.2222222222222222,
              "#7201a8"
             ],
             [
              0.3333333333333333,
              "#9c179e"
             ],
             [
              0.4444444444444444,
              "#bd3786"
             ],
             [
              0.5555555555555556,
              "#d8576b"
             ],
             [
              0.6666666666666666,
              "#ed7953"
             ],
             [
              0.7777777777777778,
              "#fb9f3a"
             ],
             [
              0.8888888888888888,
              "#fdca26"
             ],
             [
              1,
              "#f0f921"
             ]
            ],
            "type": "contour"
           }
          ],
          "contourcarpet": [
           {
            "colorbar": {
             "outlinewidth": 0,
             "ticks": ""
            },
            "type": "contourcarpet"
           }
          ],
          "heatmap": [
           {
            "colorbar": {
             "outlinewidth": 0,
             "ticks": ""
            },
            "colorscale": [
             [
              0,
              "#0d0887"
             ],
             [
              0.1111111111111111,
              "#46039f"
             ],
             [
              0.2222222222222222,
              "#7201a8"
             ],
             [
              0.3333333333333333,
              "#9c179e"
             ],
             [
              0.4444444444444444,
              "#bd3786"
             ],
             [
              0.5555555555555556,
              "#d8576b"
             ],
             [
              0.6666666666666666,
              "#ed7953"
             ],
             [
              0.7777777777777778,
              "#fb9f3a"
             ],
             [
              0.8888888888888888,
              "#fdca26"
             ],
             [
              1,
              "#f0f921"
             ]
            ],
            "type": "heatmap"
           }
          ],
          "heatmapgl": [
           {
            "colorbar": {
             "outlinewidth": 0,
             "ticks": ""
            },
            "colorscale": [
             [
              0,
              "#0d0887"
             ],
             [
              0.1111111111111111,
              "#46039f"
             ],
             [
              0.2222222222222222,
              "#7201a8"
             ],
             [
              0.3333333333333333,
              "#9c179e"
             ],
             [
              0.4444444444444444,
              "#bd3786"
             ],
             [
              0.5555555555555556,
              "#d8576b"
             ],
             [
              0.6666666666666666,
              "#ed7953"
             ],
             [
              0.7777777777777778,
              "#fb9f3a"
             ],
             [
              0.8888888888888888,
              "#fdca26"
             ],
             [
              1,
              "#f0f921"
             ]
            ],
            "type": "heatmapgl"
           }
          ],
          "histogram": [
           {
            "marker": {
             "pattern": {
              "fillmode": "overlay",
              "size": 10,
              "solidity": 0.2
             }
            },
            "type": "histogram"
           }
          ],
          "histogram2d": [
           {
            "colorbar": {
             "outlinewidth": 0,
             "ticks": ""
            },
            "colorscale": [
             [
              0,
              "#0d0887"
             ],
             [
              0.1111111111111111,
              "#46039f"
             ],
             [
              0.2222222222222222,
              "#7201a8"
             ],
             [
              0.3333333333333333,
              "#9c179e"
             ],
             [
              0.4444444444444444,
              "#bd3786"
             ],
             [
              0.5555555555555556,
              "#d8576b"
             ],
             [
              0.6666666666666666,
              "#ed7953"
             ],
             [
              0.7777777777777778,
              "#fb9f3a"
             ],
             [
              0.8888888888888888,
              "#fdca26"
             ],
             [
              1,
              "#f0f921"
             ]
            ],
            "type": "histogram2d"
           }
          ],
          "histogram2dcontour": [
           {
            "colorbar": {
             "outlinewidth": 0,
             "ticks": ""
            },
            "colorscale": [
             [
              0,
              "#0d0887"
             ],
             [
              0.1111111111111111,
              "#46039f"
             ],
             [
              0.2222222222222222,
              "#7201a8"
             ],
             [
              0.3333333333333333,
              "#9c179e"
             ],
             [
              0.4444444444444444,
              "#bd3786"
             ],
             [
              0.5555555555555556,
              "#d8576b"
             ],
             [
              0.6666666666666666,
              "#ed7953"
             ],
             [
              0.7777777777777778,
              "#fb9f3a"
             ],
             [
              0.8888888888888888,
              "#fdca26"
             ],
             [
              1,
              "#f0f921"
             ]
            ],
            "type": "histogram2dcontour"
           }
          ],
          "mesh3d": [
           {
            "colorbar": {
             "outlinewidth": 0,
             "ticks": ""
            },
            "type": "mesh3d"
           }
          ],
          "parcoords": [
           {
            "line": {
             "colorbar": {
              "outlinewidth": 0,
              "ticks": ""
             }
            },
            "type": "parcoords"
           }
          ],
          "pie": [
           {
            "automargin": true,
            "type": "pie"
           }
          ],
          "scatter": [
           {
            "marker": {
             "line": {
              "color": "#283442"
             }
            },
            "type": "scatter"
           }
          ],
          "scatter3d": [
           {
            "line": {
             "colorbar": {
              "outlinewidth": 0,
              "ticks": ""
             }
            },
            "marker": {
             "colorbar": {
              "outlinewidth": 0,
              "ticks": ""
             }
            },
            "type": "scatter3d"
           }
          ],
          "scattercarpet": [
           {
            "marker": {
             "colorbar": {
              "outlinewidth": 0,
              "ticks": ""
             }
            },
            "type": "scattercarpet"
           }
          ],
          "scattergeo": [
           {
            "marker": {
             "colorbar": {
              "outlinewidth": 0,
              "ticks": ""
             }
            },
            "type": "scattergeo"
           }
          ],
          "scattergl": [
           {
            "marker": {
             "line": {
              "color": "#283442"
             }
            },
            "type": "scattergl"
           }
          ],
          "scattermapbox": [
           {
            "marker": {
             "colorbar": {
              "outlinewidth": 0,
              "ticks": ""
             }
            },
            "type": "scattermapbox"
           }
          ],
          "scatterpolar": [
           {
            "marker": {
             "colorbar": {
              "outlinewidth": 0,
              "ticks": ""
             }
            },
            "type": "scatterpolar"
           }
          ],
          "scatterpolargl": [
           {
            "marker": {
             "colorbar": {
              "outlinewidth": 0,
              "ticks": ""
             }
            },
            "type": "scatterpolargl"
           }
          ],
          "scatterternary": [
           {
            "marker": {
             "colorbar": {
              "outlinewidth": 0,
              "ticks": ""
             }
            },
            "type": "scatterternary"
           }
          ],
          "surface": [
           {
            "colorbar": {
             "outlinewidth": 0,
             "ticks": ""
            },
            "colorscale": [
             [
              0,
              "#0d0887"
             ],
             [
              0.1111111111111111,
              "#46039f"
             ],
             [
              0.2222222222222222,
              "#7201a8"
             ],
             [
              0.3333333333333333,
              "#9c179e"
             ],
             [
              0.4444444444444444,
              "#bd3786"
             ],
             [
              0.5555555555555556,
              "#d8576b"
             ],
             [
              0.6666666666666666,
              "#ed7953"
             ],
             [
              0.7777777777777778,
              "#fb9f3a"
             ],
             [
              0.8888888888888888,
              "#fdca26"
             ],
             [
              1,
              "#f0f921"
             ]
            ],
            "type": "surface"
           }
          ],
          "table": [
           {
            "cells": {
             "fill": {
              "color": "#506784"
             },
             "line": {
              "color": "rgb(17,17,17)"
             }
            },
            "header": {
             "fill": {
              "color": "#2a3f5f"
             },
             "line": {
              "color": "rgb(17,17,17)"
             }
            },
            "type": "table"
           }
          ]
         },
         "layout": {
          "annotationdefaults": {
           "arrowcolor": "#f2f5fa",
           "arrowhead": 0,
           "arrowwidth": 1
          },
          "autotypenumbers": "strict",
          "coloraxis": {
           "colorbar": {
            "outlinewidth": 0,
            "ticks": ""
           }
          },
          "colorscale": {
           "diverging": [
            [
             0,
             "#8e0152"
            ],
            [
             0.1,
             "#c51b7d"
            ],
            [
             0.2,
             "#de77ae"
            ],
            [
             0.3,
             "#f1b6da"
            ],
            [
             0.4,
             "#fde0ef"
            ],
            [
             0.5,
             "#f7f7f7"
            ],
            [
             0.6,
             "#e6f5d0"
            ],
            [
             0.7,
             "#b8e186"
            ],
            [
             0.8,
             "#7fbc41"
            ],
            [
             0.9,
             "#4d9221"
            ],
            [
             1,
             "#276419"
            ]
           ],
           "sequential": [
            [
             0,
             "#0d0887"
            ],
            [
             0.1111111111111111,
             "#46039f"
            ],
            [
             0.2222222222222222,
             "#7201a8"
            ],
            [
             0.3333333333333333,
             "#9c179e"
            ],
            [
             0.4444444444444444,
             "#bd3786"
            ],
            [
             0.5555555555555556,
             "#d8576b"
            ],
            [
             0.6666666666666666,
             "#ed7953"
            ],
            [
             0.7777777777777778,
             "#fb9f3a"
            ],
            [
             0.8888888888888888,
             "#fdca26"
            ],
            [
             1,
             "#f0f921"
            ]
           ],
           "sequentialminus": [
            [
             0,
             "#0d0887"
            ],
            [
             0.1111111111111111,
             "#46039f"
            ],
            [
             0.2222222222222222,
             "#7201a8"
            ],
            [
             0.3333333333333333,
             "#9c179e"
            ],
            [
             0.4444444444444444,
             "#bd3786"
            ],
            [
             0.5555555555555556,
             "#d8576b"
            ],
            [
             0.6666666666666666,
             "#ed7953"
            ],
            [
             0.7777777777777778,
             "#fb9f3a"
            ],
            [
             0.8888888888888888,
             "#fdca26"
            ],
            [
             1,
             "#f0f921"
            ]
           ]
          },
          "colorway": [
           "#636efa",
           "#EF553B",
           "#00cc96",
           "#ab63fa",
           "#FFA15A",
           "#19d3f3",
           "#FF6692",
           "#B6E880",
           "#FF97FF",
           "#FECB52"
          ],
          "font": {
           "color": "#f2f5fa"
          },
          "geo": {
           "bgcolor": "rgb(17,17,17)",
           "lakecolor": "rgb(17,17,17)",
           "landcolor": "rgb(17,17,17)",
           "showlakes": true,
           "showland": true,
           "subunitcolor": "#506784"
          },
          "hoverlabel": {
           "align": "left"
          },
          "hovermode": "closest",
          "mapbox": {
           "style": "dark"
          },
          "paper_bgcolor": "rgb(17,17,17)",
          "plot_bgcolor": "rgb(17,17,17)",
          "polar": {
           "angularaxis": {
            "gridcolor": "#506784",
            "linecolor": "#506784",
            "ticks": ""
           },
           "bgcolor": "rgb(17,17,17)",
           "radialaxis": {
            "gridcolor": "#506784",
            "linecolor": "#506784",
            "ticks": ""
           }
          },
          "scene": {
           "xaxis": {
            "backgroundcolor": "rgb(17,17,17)",
            "gridcolor": "#506784",
            "gridwidth": 2,
            "linecolor": "#506784",
            "showbackground": true,
            "ticks": "",
            "zerolinecolor": "#C8D4E3"
           },
           "yaxis": {
            "backgroundcolor": "rgb(17,17,17)",
            "gridcolor": "#506784",
            "gridwidth": 2,
            "linecolor": "#506784",
            "showbackground": true,
            "ticks": "",
            "zerolinecolor": "#C8D4E3"
           },
           "zaxis": {
            "backgroundcolor": "rgb(17,17,17)",
            "gridcolor": "#506784",
            "gridwidth": 2,
            "linecolor": "#506784",
            "showbackground": true,
            "ticks": "",
            "zerolinecolor": "#C8D4E3"
           }
          },
          "shapedefaults": {
           "line": {
            "color": "#f2f5fa"
           }
          },
          "sliderdefaults": {
           "bgcolor": "#C8D4E3",
           "bordercolor": "rgb(17,17,17)",
           "borderwidth": 1,
           "tickwidth": 0
          },
          "ternary": {
           "aaxis": {
            "gridcolor": "#506784",
            "linecolor": "#506784",
            "ticks": ""
           },
           "baxis": {
            "gridcolor": "#506784",
            "linecolor": "#506784",
            "ticks": ""
           },
           "bgcolor": "rgb(17,17,17)",
           "caxis": {
            "gridcolor": "#506784",
            "linecolor": "#506784",
            "ticks": ""
           }
          },
          "title": {
           "x": 0.05
          },
          "updatemenudefaults": {
           "bgcolor": "#506784",
           "borderwidth": 0
          },
          "xaxis": {
           "automargin": true,
           "gridcolor": "#283442",
           "linecolor": "#506784",
           "ticks": "",
           "title": {
            "standoff": 15
           },
           "zerolinecolor": "#283442",
           "zerolinewidth": 2
          },
          "yaxis": {
           "automargin": true,
           "gridcolor": "#283442",
           "linecolor": "#506784",
           "ticks": "",
           "title": {
            "standoff": 15
           },
           "zerolinecolor": "#283442",
           "zerolinewidth": 2
          }
         }
        },
        "title": {},
        "xaxis": {
         "gridcolor": "rgba(128, 128, 128, 0.2)",
         "title": {
          "text": "Layer"
         },
         "zeroline": false
        },
        "yaxis": {
         "gridcolor": "rgba(128, 128, 128, 0.2)",
         "title": {
          "text": "F1 Score"
         },
         "zeroline": false
        }
       }
      }
     },
     "metadata": {},
     "output_type": "display_data"
    }
   ],
   "source": [
    "def plot_interactive_box(df, x_label, y_label, title=None):\n",
    "    fig = go.Figure()\n",
    "    \n",
    "    # Create box plot\n",
    "    fig.add_trace(go.Box(\n",
    "        x=[idx for idx in df.index for _ in range(len(df.columns))],  # Repeat each index for each fold\n",
    "        y=df.values.flatten(),  # Flatten all values\n",
    "        boxpoints='all',  # Show all points\n",
    "        jitter=0,        # No jitter for points\n",
    "        pointpos=0,      # Position points at center\n",
    "        marker=dict(\n",
    "            color='#1f77b4',\n",
    "            size=8,\n",
    "            opacity=0.5\n",
    "        ),\n",
    "        line=dict(\n",
    "            color='#1f77b4',\n",
    "            width=2\n",
    "        ),\n",
    "        fillcolor='rgba(68, 138, 255, 0.5)',\n",
    "        opacity=0.6,\n",
    "        showlegend=False,\n",
    "        boxmean=True,    # Show mean as a dashed line\n",
    "        width=0.5        # Width of boxes\n",
    "    ))\n",
    "\n",
    "    fig.update_layout(\n",
    "        title=title,\n",
    "        yaxis_title=y_label,\n",
    "        xaxis_title=x_label,\n",
    "        template='plotly_dark',\n",
    "        plot_bgcolor='rgba(32, 32, 32, 1)',\n",
    "        paper_bgcolor='rgba(32, 32, 32, 1)',\n",
    "        font=dict(color='white'),\n",
    "        margin=dict(t=50, l=50, r=30),\n",
    "        showlegend=False\n",
    "    )\n",
    "    \n",
    "    # Update axes for consistency with dark theme\n",
    "    fig.update_xaxes(gridcolor='rgba(128, 128, 128, 0.2)', zeroline=False)\n",
    "    fig.update_yaxes(gridcolor='rgba(128, 128, 128, 0.2)', zeroline=False)\n",
    "    \n",
    "    return fig\n",
    "\n",
    "plot_interactive_box(res_df, x_label=\"Layer\", y_label=\"F1 Score\").show()"
   ]
  },
  {
   "cell_type": "code",
   "execution_count": null,
   "metadata": {},
   "outputs": [],
   "source": []
  }
 ],
 "metadata": {
  "kernelspec": {
   "display_name": "default_env",
   "language": "python",
   "name": "python3"
  },
  "language_info": {
   "codemirror_mode": {
    "name": "ipython",
    "version": 3
   },
   "file_extension": ".py",
   "mimetype": "text/x-python",
   "name": "python",
   "nbconvert_exporter": "python",
   "pygments_lexer": "ipython3",
   "version": "3.11.3"
  }
 },
 "nbformat": 4,
 "nbformat_minor": 2
}
