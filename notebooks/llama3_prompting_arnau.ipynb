{
 "cells": [
  {
   "cell_type": "code",
   "execution_count": 1,
   "metadata": {},
   "outputs": [
    {
     "name": "stderr",
     "output_type": "stream",
     "text": [
      "/home/arnau/Desktop/Cambridge/MARS/correctness-model-internals/venv/lib/python3.11/site-packages/tqdm/auto.py:21: TqdmWarning: IProgress not found. Please update jupyter and ipywidgets. See https://ipywidgets.readthedocs.io/en/stable/user_install.html\n",
      "  from .autonotebook import tqdm as notebook_tqdm\n"
     ]
    }
   ],
   "source": [
    "import os\n",
    "from typing import Tuple\n",
    "\n",
    "import pandas as pd\n",
    "import torch\n",
    "from transformers import AutoTokenizer, AutoModelForCausalLM\n",
    "import os\n",
    "import argparse\n",
    "\n",
    "import pandas as pd\n",
    "import pickle\n",
    "from tqdm import tqdm"
   ]
  },
  {
   "cell_type": "code",
   "execution_count": null,
   "metadata": {},
   "outputs": [
    {
     "name": "stderr",
     "output_type": "stream",
     "text": [
      "Loading checkpoint shards: 100%|██████████| 4/4 [00:18<00:00,  4.58s/it]\n"
     ]
    }
   ],
   "source": [
    "device=\"cuda:0\"\n",
    "model = AutoModelForCausalLM.from_pretrained('../../../models/llama3_8b_chat_hf/').to(device)\n",
    "model.eval()\n",
    "tokenizer = AutoTokenizer.from_pretrained('../../../models/llama3_8b_chat_hf/')"
   ]
  },
  {
   "cell_type": "code",
   "execution_count": 3,
   "metadata": {},
   "outputs": [],
   "source": [
    "def generate(tokenizer, model, prompt: str) -> Tuple[str, str]:\n",
    "    input_ids = tokenizer.encode(prompt, return_tensors=\"pt\").to(model.device)\n",
    "\n",
    "    with torch.no_grad():\n",
    "        outputs = model(input_ids)\n",
    "        logits = outputs.logits\n",
    "        last_token_logits = logits[0, -1, :]  # Logits for the last token\n",
    "        masked_logits = last_token_logits.clone()\n",
    "        top_unconst_token_id = torch.argmax(last_token_logits).item()\n",
    "        top_unconst_token = tokenizer.decode([top_unconst_token_id])\n",
    "\n",
    "    return top_unconst_token, top_unconst_token_id"
   ]
  },
  {
   "cell_type": "markdown",
   "metadata": {},
   "source": [
    "## Prompting Cities"
   ]
  },
  {
   "cell_type": "code",
   "execution_count": 4,
   "metadata": {},
   "outputs": [
    {
     "name": "stdout",
     "output_type": "stream",
     "text": [
      "9984\n"
     ]
    },
    {
     "data": {
      "text/html": [
       "<div>\n",
       "<style scoped>\n",
       "    .dataframe tbody tr th:only-of-type {\n",
       "        vertical-align: middle;\n",
       "    }\n",
       "\n",
       "    .dataframe tbody tr th {\n",
       "        vertical-align: top;\n",
       "    }\n",
       "\n",
       "    .dataframe thead th {\n",
       "        text-align: right;\n",
       "    }\n",
       "</style>\n",
       "<table border=\"1\" class=\"dataframe\">\n",
       "  <thead>\n",
       "    <tr style=\"text-align: right;\">\n",
       "      <th></th>\n",
       "      <th>Unnamed: 0</th>\n",
       "      <th>statement</th>\n",
       "      <th>label</th>\n",
       "      <th>city</th>\n",
       "      <th>country</th>\n",
       "      <th>correct_country</th>\n",
       "      <th>question</th>\n",
       "      <th>question_with_answer</th>\n",
       "    </tr>\n",
       "  </thead>\n",
       "  <tbody>\n",
       "    <tr>\n",
       "      <th>0</th>\n",
       "      <td>0</td>\n",
       "      <td>The city of Kostomloty Pierwsze is in Poland.</td>\n",
       "      <td>1</td>\n",
       "      <td>Kostomloty Pierwsze</td>\n",
       "      <td>Poland</td>\n",
       "      <td>Poland</td>\n",
       "      <td>In which country is the city of Kostomloty Pie...</td>\n",
       "      <td>In which country is the city of Kostomloty Pie...</td>\n",
       "    </tr>\n",
       "    <tr>\n",
       "      <th>1</th>\n",
       "      <td>1</td>\n",
       "      <td>The city of Bognankro is in Côte d'Ivoire.</td>\n",
       "      <td>1</td>\n",
       "      <td>Bognankro</td>\n",
       "      <td>Côte d'Ivoire</td>\n",
       "      <td>Côte d'Ivoire</td>\n",
       "      <td>In which country is the city of Bognankro loca...</td>\n",
       "      <td>In which country is the city of Bognankro loca...</td>\n",
       "    </tr>\n",
       "    <tr>\n",
       "      <th>2</th>\n",
       "      <td>2</td>\n",
       "      <td>The city of Le Raincy is in France.</td>\n",
       "      <td>1</td>\n",
       "      <td>Le Raincy</td>\n",
       "      <td>France</td>\n",
       "      <td>France</td>\n",
       "      <td>In which country is the city of Le Raincy loca...</td>\n",
       "      <td>In which country is the city of Le Raincy loca...</td>\n",
       "    </tr>\n",
       "    <tr>\n",
       "      <th>3</th>\n",
       "      <td>3</td>\n",
       "      <td>The city of Tobol is in Kazakhstan.</td>\n",
       "      <td>1</td>\n",
       "      <td>Tobol</td>\n",
       "      <td>Kazakhstan</td>\n",
       "      <td>Kazakhstan</td>\n",
       "      <td>In which country is the city of Tobol located?</td>\n",
       "      <td>In which country is the city of Tobol located?...</td>\n",
       "    </tr>\n",
       "    <tr>\n",
       "      <th>4</th>\n",
       "      <td>4</td>\n",
       "      <td>The city of Tayabas Ibaba is in Philippines.</td>\n",
       "      <td>1</td>\n",
       "      <td>Tayabas Ibaba</td>\n",
       "      <td>Philippines</td>\n",
       "      <td>Philippines</td>\n",
       "      <td>In which country is the city of Tayabas Ibaba ...</td>\n",
       "      <td>In which country is the city of Tayabas Ibaba ...</td>\n",
       "    </tr>\n",
       "  </tbody>\n",
       "</table>\n",
       "</div>"
      ],
      "text/plain": [
       "   Unnamed: 0                                      statement  label  \\\n",
       "0           0  The city of Kostomloty Pierwsze is in Poland.      1   \n",
       "1           1     The city of Bognankro is in Côte d'Ivoire.      1   \n",
       "2           2            The city of Le Raincy is in France.      1   \n",
       "3           3            The city of Tobol is in Kazakhstan.      1   \n",
       "4           4   The city of Tayabas Ibaba is in Philippines.      1   \n",
       "\n",
       "                  city        country correct_country  \\\n",
       "0  Kostomloty Pierwsze         Poland          Poland   \n",
       "1            Bognankro  Côte d'Ivoire   Côte d'Ivoire   \n",
       "2            Le Raincy         France          France   \n",
       "3                Tobol     Kazakhstan      Kazakhstan   \n",
       "4        Tayabas Ibaba    Philippines     Philippines   \n",
       "\n",
       "                                            question  \\\n",
       "0  In which country is the city of Kostomloty Pie...   \n",
       "1  In which country is the city of Bognankro loca...   \n",
       "2  In which country is the city of Le Raincy loca...   \n",
       "3     In which country is the city of Tobol located?   \n",
       "4  In which country is the city of Tayabas Ibaba ...   \n",
       "\n",
       "                                question_with_answer  \n",
       "0  In which country is the city of Kostomloty Pie...  \n",
       "1  In which country is the city of Bognankro loca...  \n",
       "2  In which country is the city of Le Raincy loca...  \n",
       "3  In which country is the city of Tobol located?...  \n",
       "4  In which country is the city of Tayabas Ibaba ...  "
      ]
     },
     "execution_count": 4,
     "metadata": {},
     "output_type": "execute_result"
    }
   ],
   "source": [
    "dataset_path = \"../../datasets/cities_expansions/cities_questions_augmented_2.csv\"\n",
    "df_all = pd.read_csv(dataset_path)\n",
    "\n",
    "with open('../../datasets/cities_expansions/countries_dictionary.pkl', 'rb') as f:\n",
    "    country_names = pickle.load(f)\n",
    "\n",
    "print(len(df_all))\n",
    "df_all.head()"
   ]
  },
  {
   "cell_type": "code",
   "execution_count": 5,
   "metadata": {},
   "outputs": [
    {
     "name": "stdout",
     "output_type": "stream",
     "text": [
      "2\n"
     ]
    },
    {
     "name": "stderr",
     "output_type": "stream",
     "text": [
      "  0%|          | 0/1000 [00:00<?, ?it/s]We detected that you are passing `past_key_values` as a tuple and this is deprecated and will be removed in v4.43. Please use an appropriate `Cache` class (https://huggingface.co/docs/transformers/v4.41.3/en/internal/generation_utils#transformers.Cache)\n",
      " 55%|█████▍    | 546/1000 [07:50<06:31,  1.16it/s]\n"
     ]
    },
    {
     "ename": "KeyboardInterrupt",
     "evalue": "",
     "output_type": "error",
     "traceback": [
      "\u001b[0;31m---------------------------------------------------------------------------\u001b[0m",
      "\u001b[0;31mKeyboardInterrupt\u001b[0m                         Traceback (most recent call last)",
      "Cell \u001b[0;32mIn[5], line 11\u001b[0m\n\u001b[1;32m      8\u001b[0m answer \u001b[38;5;241m=\u001b[39m \u001b[38;5;124m'\u001b[39m\u001b[38;5;124m'\u001b[39m\n\u001b[1;32m     10\u001b[0m \u001b[38;5;28;01mfor\u001b[39;00m i \u001b[38;5;129;01min\u001b[39;00m \u001b[38;5;28mrange\u001b[39m(\u001b[38;5;241m1000\u001b[39m):\n\u001b[0;32m---> 11\u001b[0m     token_decoded, token_id \u001b[38;5;241m=\u001b[39m \u001b[43mgenerate\u001b[49m\u001b[43m(\u001b[49m\u001b[43mtokenizer\u001b[49m\u001b[43m,\u001b[49m\u001b[43m \u001b[49m\u001b[43mmodel\u001b[49m\u001b[43m,\u001b[49m\u001b[43m \u001b[49m\u001b[43mquestion\u001b[49m\u001b[43m)\u001b[49m\n\u001b[1;32m     12\u001b[0m     \u001b[38;5;28;01mif\u001b[39;00m \u001b[38;5;124m\"\u001b[39m\u001b[38;5;124mI finished\u001b[39m\u001b[38;5;124m\"\u001b[39m \u001b[38;5;129;01min\u001b[39;00m answer:\n\u001b[1;32m     13\u001b[0m         \u001b[38;5;28;01mbreak\u001b[39;00m\n",
      "Cell \u001b[0;32mIn[3], line 9\u001b[0m, in \u001b[0;36mgenerate\u001b[0;34m(tokenizer, model, prompt)\u001b[0m\n\u001b[1;32m      7\u001b[0m     last_token_logits \u001b[38;5;241m=\u001b[39m logits[\u001b[38;5;241m0\u001b[39m, \u001b[38;5;241m-\u001b[39m\u001b[38;5;241m1\u001b[39m, :]  \u001b[38;5;66;03m# Logits for the last token\u001b[39;00m\n\u001b[1;32m      8\u001b[0m     masked_logits \u001b[38;5;241m=\u001b[39m last_token_logits\u001b[38;5;241m.\u001b[39mclone()\n\u001b[0;32m----> 9\u001b[0m     top_unconst_token_id \u001b[38;5;241m=\u001b[39m \u001b[43mtorch\u001b[49m\u001b[38;5;241;43m.\u001b[39;49m\u001b[43margmax\u001b[49m\u001b[43m(\u001b[49m\u001b[43mlast_token_logits\u001b[49m\u001b[43m)\u001b[49m\u001b[38;5;241;43m.\u001b[39;49m\u001b[43mitem\u001b[49m\u001b[43m(\u001b[49m\u001b[43m)\u001b[49m\n\u001b[1;32m     10\u001b[0m     top_unconst_token \u001b[38;5;241m=\u001b[39m tokenizer\u001b[38;5;241m.\u001b[39mdecode([top_unconst_token_id])\n\u001b[1;32m     12\u001b[0m \u001b[38;5;28;01mreturn\u001b[39;00m top_unconst_token, top_unconst_token_id\n",
      "\u001b[0;31mKeyboardInterrupt\u001b[0m: "
     ]
    }
   ],
   "source": [
    "for j in range(3, 10):\n",
    "    print(j)\n",
    "    df = df_all[j*1000:(j+1)*1000]\n",
    "    answer_list, questions = [], []\n",
    "    for index, row in tqdm(df.iterrows(), total=df.shape[0]):\n",
    "        if row['label'] == 1:\n",
    "            question = \"End your answer with the sentence 'I finished'. Do not consider England, Scotland, Wales and Northern Ireland countries, the country is the UK. Here are some examples of questions that might help you. In which country is the city of Barcelona located? Spain. I finished. In which country is the city of Berlin located? Germany. I finished. \" + row[\"question\"]\n",
    "            answer = ''\n",
    "            \n",
    "            for i in range(1000):\n",
    "                token_decoded, token_id = generate(tokenizer, model, question)\n",
    "                if \"I finished\" in answer:\n",
    "                    break\n",
    "\n",
    "                question = question + token_decoded\n",
    "                answer = answer + token_decoded\n",
    "                \n",
    "            answer_list.append(answer.strip())\n",
    "            questions.append(question)\n",
    "            #print(f\"{question=}\")\n",
    "        else:\n",
    "            answer_list.append(None)\n",
    "            questions.append(None)\n",
    "\n",
    "        \n",
    "    df['answer'] =  answer_list\n",
    "    df['filtered_answer'] = df['answer'].str.slice(stop=-12)\n",
    "    df['is_correct'] = df.apply(lambda row : row['filtered_answer'] in country_names[row['correct_country']], axis=1) #df['is_correct'] = (df['filtered_answer'] == df['correct_country'])\n",
    "    print('Accuracy: ' + str(df['is_correct'].sum()/df['label'].sum()))\n",
    "    df.to_csv(\"../../datasets/cities_expansions/cities_questions_augmented_2_labeled_\" + str(j) + \".csv\")"
   ]
  },
  {
   "cell_type": "code",
   "execution_count": null,
   "metadata": {},
   "outputs": [],
   "source": [
    "df.to_csv(\"../../datasets/cities_expansions/cities_questions_augmented_2_labeled.csv\")"
   ]
  },
  {
   "cell_type": "markdown",
   "metadata": {},
   "source": [
    "## Prompting birth years"
   ]
  },
  {
   "cell_type": "code",
   "execution_count": 3,
   "metadata": {},
   "outputs": [
    {
     "name": "stdout",
     "output_type": "stream",
     "text": [
      "4430\n"
     ]
    },
    {
     "data": {
      "text/html": [
       "<div>\n",
       "<style scoped>\n",
       "    .dataframe tbody tr th:only-of-type {\n",
       "        vertical-align: middle;\n",
       "    }\n",
       "\n",
       "    .dataframe tbody tr th {\n",
       "        vertical-align: top;\n",
       "    }\n",
       "\n",
       "    .dataframe thead th {\n",
       "        text-align: right;\n",
       "    }\n",
       "</style>\n",
       "<table border=\"1\" class=\"dataframe\">\n",
       "  <thead>\n",
       "    <tr style=\"text-align: right;\">\n",
       "      <th></th>\n",
       "      <th>question</th>\n",
       "      <th>answer</th>\n",
       "      <th>filtered_answer</th>\n",
       "      <th>correct_answer</th>\n",
       "      <th>is_correct</th>\n",
       "    </tr>\n",
       "  </thead>\n",
       "  <tbody>\n",
       "    <tr>\n",
       "      <th>0</th>\n",
       "      <td>What year was Hank Aaron born?</td>\n",
       "      <td>-</td>\n",
       "      <td>-</td>\n",
       "      <td>1934</td>\n",
       "      <td>-</td>\n",
       "    </tr>\n",
       "    <tr>\n",
       "      <th>1</th>\n",
       "      <td>What year was Sani Abacha born?</td>\n",
       "      <td>-</td>\n",
       "      <td>-</td>\n",
       "      <td>1943</td>\n",
       "      <td>-</td>\n",
       "    </tr>\n",
       "    <tr>\n",
       "      <th>2</th>\n",
       "      <td>What year was Claudio Abbado born?</td>\n",
       "      <td>-</td>\n",
       "      <td>-</td>\n",
       "      <td>1933</td>\n",
       "      <td>-</td>\n",
       "    </tr>\n",
       "    <tr>\n",
       "      <th>3</th>\n",
       "      <td>What year was Mahmoud Abbas born?</td>\n",
       "      <td>-</td>\n",
       "      <td>-</td>\n",
       "      <td>1935</td>\n",
       "      <td>-</td>\n",
       "    </tr>\n",
       "    <tr>\n",
       "      <th>4</th>\n",
       "      <td>What year was Omar Abdel Rahman born?</td>\n",
       "      <td>-</td>\n",
       "      <td>-</td>\n",
       "      <td>1938</td>\n",
       "      <td>-</td>\n",
       "    </tr>\n",
       "  </tbody>\n",
       "</table>\n",
       "</div>"
      ],
      "text/plain": [
       "                                question answer filtered_answer  \\\n",
       "0         What year was Hank Aaron born?      -               -   \n",
       "1        What year was Sani Abacha born?      -               -   \n",
       "2     What year was Claudio Abbado born?      -               -   \n",
       "3      What year was Mahmoud Abbas born?      -               -   \n",
       "4  What year was Omar Abdel Rahman born?      -               -   \n",
       "\n",
       "   correct_answer is_correct  \n",
       "0            1934          -  \n",
       "1            1943          -  \n",
       "2            1933          -  \n",
       "3            1935          -  \n",
       "4            1938          -  "
      ]
     },
     "execution_count": 3,
     "metadata": {},
     "output_type": "execute_result"
    }
   ],
   "source": [
    "dataset_path = \"../datasets/custom/birth_years.csv\"\n",
    "df_all = pd.read_csv(dataset_path)\n",
    "\n",
    "#with open('../../datasets/cities_expansions/countries_dictionary.pkl', 'rb') as f:\n",
    "#    country_names = pickle.load(f)\n",
    "\n",
    "print(len(df_all))\n",
    "df_all.head()"
   ]
  },
  {
   "cell_type": "code",
   "execution_count": null,
   "metadata": {},
   "outputs": [],
   "source": [
    "question = \"\"\n",
    "answer = ''\n",
    "\n",
    "for i in range(1000):\n",
    "    token_decoded, token_id = generate(tokenizer, model, question)\n",
    "    if \"I finished\" in answer:\n",
    "        break\n",
    "\n",
    "    question = question + token_decoded\n",
    "    answer = answer + token_decoded"
   ]
  },
  {
   "cell_type": "code",
   "execution_count": null,
   "metadata": {},
   "outputs": [],
   "source": [
    "answer_list, questions = [], []\n",
    "for index, row in tqdm(df.iterrows(), total=df.shape[0]):\n",
    "    if row['label'] == 1:\n",
    "        question = \"End your answer with the sentence 'I finished'. Here are some examples of question that might help you. What year was Claudio Abbado born? 1933. I finished. What year was Lionel Messi born?. 1987. I finished. \" + row[\"question\"]\n",
    "        answer = ''\n",
    "        \n",
    "        for i in range(1000):\n",
    "            token_decoded, token_id = generate(tokenizer, model, question)\n",
    "            if \"I finished\" in answer:\n",
    "                break\n",
    "\n",
    "            question = question + token_decoded\n",
    "            answer = answer + token_decoded\n",
    "            \n",
    "        answer_list.append(answer.strip())\n",
    "        questions.append(question)\n",
    "        #print(f\"{question=}\")\n",
    "    else:\n",
    "        answer_list.append(None)\n",
    "        questions.append(None)\n",
    "\n",
    "    \n",
    "df['answer'] =  answer_list\n",
    "df['filtered_answer'] = df['answer'].str.slice(stop=-12)\n",
    "df['is_correct'] = df.apply(lambda row : row['filtered_answer'] in country_names[row['correct_country']], axis=1) #df['is_correct'] = (df['filtered_answer'] == df['correct_country'])\n",
    "print('Accuracy: ' + str(df['is_correct'].sum()/df['label'].sum()))\n",
    "df.to_csv(\"../../datasets/cities_expansions/cities_questions_augmented_2_labeled_\" + str(j) + \".csv\")"
   ]
  }
 ],
 "metadata": {
  "kernelspec": {
   "display_name": "venv",
   "language": "python",
   "name": "python3"
  },
  "language_info": {
   "codemirror_mode": {
    "name": "ipython",
    "version": 3
   },
   "file_extension": ".py",
   "mimetype": "text/x-python",
   "name": "python",
   "nbconvert_exporter": "python",
   "pygments_lexer": "ipython3",
   "version": "3.11.11"
  }
 },
 "nbformat": 4,
 "nbformat_minor": 2
}
