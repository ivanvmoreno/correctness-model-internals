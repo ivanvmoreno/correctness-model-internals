{
 "cells": [
  {
   "cell_type": "code",
   "execution_count": 1,
   "metadata": {},
   "outputs": [],
   "source": [
    "import os\n",
    "import torch\n",
    "import sys\n",
    "import pandas as pd\n",
    "import numpy as np\n",
    "import re\n",
    "import matplotlib.pyplot as plt\n",
    "from sklearn.decomposition import PCA\n",
    "parent_dir = os.path.abspath(\"..\")\n",
    "sys.path.append(parent_dir)\n",
    "\n",
    "\n",
    "from src.classifying import (\n",
    "    ActivationsHandler,\n",
    "    get_correctness_direction_classifier\n",
    ")\n",
    "\n",
    "def extract_number(filename):\n",
    "    match = re.search(r'\\d+', filename)\n",
    "    return int(match.group()) if match else -1"
   ]
  },
  {
   "cell_type": "code",
   "execution_count": 10,
   "metadata": {},
   "outputs": [],
   "source": [
    "model = \"mistral_7b_instruct\"\n",
    "train_dataset = \"trivia_qa_2_60k\"\n",
    "test_dataset = \"birth_years_4k\"\n",
    "\n",
    "activations_train_path = \"/home/arnau/Desktop/Cambridge/MARS/correctness-model-internals/activations/raw/\" + model + \"/\" + train_dataset + \"/base/main/prompt_only/layer_20\"  \n",
    "activation_train_files = sorted([f for f in os.listdir(activations_train_path) if f.endswith(\".pt\")], key=extract_number)\n",
    "activations_train_list = [torch.load(os.path.join(activations_train_path, f), map_location='cpu').cpu() for f in activation_train_files]\n",
    "activations_train_raw = torch.cat(activations_train_list, dim=0)\n",
    "activations_test_path = \"/home/arnau/Desktop/Cambridge/MARS/correctness-model-internals/activations/raw/\" + model + \"/\" + test_dataset + \"/base/main/prompt_only/layer_20\"  \n",
    "activation_test_files = sorted([f for f in os.listdir(activations_test_path) if f.endswith(\".pt\")], key=extract_number)\n",
    "activations_test_list = [torch.load(os.path.join(activations_test_path, f), map_location='cpu').cpu() for f in activation_test_files]\n",
    "activations_test_raw = torch.cat(activations_test_list, dim=0)\n",
    "df_train = pd.read_csv(\"/home/arnau/Desktop/Cambridge/MARS/correctness-model-internals/evaluations/\" + model + \"/\" + train_dataset + \"/base/main_generations_evaluated.csv\")\n",
    "labels_train = df_train[\"correct\"].to_numpy()\n",
    "df_test = pd.read_csv(\"/home/arnau/Desktop/Cambridge/MARS/correctness-model-internals/evaluations/\" + model + \"/\" + test_dataset + \"/base/main_generations_evaluated.csv\")\n",
    "labels_test = df_test[\"correct\"].to_numpy()\n",
    "prompts_raw_train = df_train[\"prompt\"].to_numpy()\n",
    "prompts_raw_test = df_test[\"prompt\"].to_numpy()\n",
    "#prompts_train = [prompt[483:-8] for prompt in prompts_raw_train]\n",
    "prompts_train = [prompt[527:-8] for prompt in prompts_raw_train]\n",
    "#prompts_test = [prompt[346:-8] for prompt in prompts_raw_test]\n",
    "prompts_test = [prompt[390:-8] for prompt in prompts_raw_test]\n",
    "answers_train = df_train[\"answer\"].to_numpy()\n",
    "answers_test = df_test[\"answer\"].to_numpy()\n",
    "ground_truth_train = df_train[\"ground_truth\"].to_numpy()\n",
    "ground_truth_test = df_test[\"ground_truth\"].to_numpy()\n",
    "idk_test = df_test[\"idk_response\"].to_numpy()"
   ]
  },
  {
   "cell_type": "code",
   "execution_count": 3,
   "metadata": {},
   "outputs": [
    {
     "name": "stdout",
     "output_type": "stream",
     "text": [
      "Train\n",
      "Correct: 48962\n",
      "Incorrect: 9584\n",
      "Total labels: 58546\n",
      "Percentage correct: 83.62996618043931\n",
      "Test\n",
      "Correct: 3078\n",
      "Incorrect: 1352\n",
      "Total labels: 4430\n",
      "Percentage correct: 69.48081264108352\n"
     ]
    }
   ],
   "source": [
    "print(\"Train\")\n",
    "print(\"Correct:\", sum(labels_train))\n",
    "print(\"Incorrect:\", len(labels_train) - sum(labels_train))\n",
    "print(\"Total labels:\", len(labels_train))\n",
    "print(\"Percentage correct:\", (sum(labels_train) / len(labels_train)) * 100)\n",
    "print(\"Test\")\n",
    "print(\"Correct:\", sum(labels_test))\n",
    "print(\"Incorrect:\", len(labels_test) - sum(labels_test))\n",
    "print(\"Total labels:\", len(labels_test))\n",
    "print(\"Percentage correct:\", (sum(labels_test) / len(labels_test)) * 100)"
   ]
  },
  {
   "cell_type": "code",
   "execution_count": 4,
   "metadata": {},
   "outputs": [],
   "source": [
    "train_size = 9500\n",
    "indices_correct_train = [i for i, x in enumerate(labels_train) if x == 1][:train_size]\n",
    "indices_incorrect_train = [i for i, x in enumerate(labels_train) if x == 0][:train_size]\n",
    "indices_train = indices_correct_train + indices_incorrect_train\n",
    "activations_train = activations_train_raw[indices_train]\n",
    "labels_train = torch.tensor(np.array([1 if idx in set(indices_correct_train) else 0 for idx in indices_train]), dtype=torch.bool)\n",
    "\n",
    "test_size = 1300\n",
    "indices_correct_test = [i for i, x in enumerate(labels_test) if x == 1][:test_size]\n",
    "indices_incorrect_test = [i for i, x in enumerate(labels_test) if x == 0][:test_size]\n",
    "indices_test = indices_correct_test + indices_incorrect_test\n",
    "activations_test = activations_test_raw[indices_test]\n",
    "labels_test = torch.tensor(np.array([1 if idx in set(indices_correct_test) else 0 for idx in indices_test]), dtype=torch.bool)"
   ]
  },
  {
   "cell_type": "code",
   "execution_count": 11,
   "metadata": {},
   "outputs": [
    {
     "data": {
      "text/plain": [
       "array([False, False, False, ..., False, False, False])"
      ]
     },
     "execution_count": 11,
     "metadata": {},
     "output_type": "execute_result"
    }
   ],
   "source": [
    "idk_test"
   ]
  },
  {
   "cell_type": "code",
   "execution_count": null,
   "metadata": {},
   "outputs": [],
   "source": [
    "# given a list of indices, indices_test, and a vector of bools, idk_test, return a vector of bools of size len(indices_test) that contains true if the corresponding index in idk_test is true\n"
   ]
  },
  {
   "cell_type": "code",
   "execution_count": 5,
   "metadata": {},
   "outputs": [],
   "source": [
    "activations_handler_train = ActivationsHandler(\n",
    "  activations=activations_train, # torch tensor of [batch, activations]\n",
    "  labels=labels_train, # each row label should correspond to the row in activations_tensor\n",
    ")\n",
    "\n",
    "activations_handler_test = ActivationsHandler(\n",
    "  activations=activations_test, # torch tensor of [batch, activations]\n",
    "  labels=labels_test, # each row label should correspond to the row in activations_tensor\n",
    ")\n",
    "\n",
    "direction_classifier, direction_calculator = get_correctness_direction_classifier(\n",
    "  activations_handler_train=activations_handler_train,\n",
    "  activations_handler_test=activations_handler_test,\n",
    ")"
   ]
  },
  {
   "cell_type": "code",
   "execution_count": 6,
   "metadata": {},
   "outputs": [
    {
     "data": {
      "text/plain": [
       "{'optimal_cut': -0.12102754414081573,\n",
       " 'optimal_train_set_cut': -0.12102754414081573,\n",
       " 'test_roc_auc': 0.8844396449704142,\n",
       " 'accuracy_score': 0.5,\n",
       " 'f1_score': 0.6666666666666666,\n",
       " 'precision_score': 0.5,\n",
       " 'recall_score': 1.0}"
      ]
     },
     "execution_count": 6,
     "metadata": {},
     "output_type": "execute_result"
    }
   ],
   "source": [
    "direction_classifier.classification_metrics"
   ]
  },
  {
   "cell_type": "code",
   "execution_count": null,
   "metadata": {},
   "outputs": [
    {
     "data": {
      "text/plain": [
       "<Figure size 1000x500 with 0 Axes>"
      ]
     },
     "metadata": {},
     "output_type": "display_data"
    },
    {
     "data": {
      "image/png": "[encoded data removed]",
      "text/plain": [
       "<Figure size 1000x500 with 1 Axes>"
      ]
     },
     "metadata": {},
     "output_type": "display_data"
    }
   ],
   "source": [
    "test_scores = direction_classifier.test_classification_score\n",
    "test_classes = direction_classifier.test_labels\n",
    "idk_labels = []\n",
    "for idx in indices_test:\n",
    "    idk_labels.append(idk_test[idx])\n",
    "# convert to pd.Series\n",
    "idk_labels = pd.Series(idk_labels)\n",
    "\n",
    "# Extract scores for each class\n",
    "class_0_scores = test_scores[test_classes == 1].numpy()\n",
    "class_1_scores = test_scores[(test_classes == 0) & (idk_labels == 0)].numpy()\n",
    "class_2_scores = test_scores[(test_classes == 0) & (idk_labels == 1)].numpy()\n",
    "\n",
    "# Plot distributions\n",
    "plt.figure(figsize=(10, 5))\n",
    "num_bins = 50  # You can adjust the number of bins\n",
    "bins = np.linspace(test_scores.min(), test_scores.max(), num_bins + 1)\n",
    "\n",
    "# Plot with uniform bins\n",
    "plt.figure(figsize=(10, 5))\n",
    "plt.hist(class_0_scores, bins=bins, alpha=0.6, color='red', label='Right')\n",
    "plt.hist(class_1_scores, bins=bins, alpha=0.6, color='blue', label='Wrong')\n",
    "plt.hist(class_2_scores, bins=bins, alpha=0.8, color='green', label='IDK')\n",
    "\n",
    "plt.xlabel('Score')\n",
    "plt.ylabel('Frequency')\n",
    "plt.title('Birth Years data, direction from TriviaQA, mistral_7b_instruct')\n",
    "plt.legend()\n",
    "plt.grid()\n",
    "plt.show()\n",
    "plt.legend()"
   ]
  },
  {
   "cell_type": "markdown",
   "metadata": {},
   "source": [
    "### cities"
   ]
  },
  {
   "cell_type": "code",
   "execution_count": 37,
   "metadata": {},
   "outputs": [],
   "source": [
    "test_dataset = \"cities_10k\"\n",
    "model = \"mistral_7b_instruct\"\n",
    "activations_test_path = \"/home/arnau/Desktop/Cambridge/MARS/correctness-model-internals/activations/raw/\" + model + \"/\" + test_dataset + \"/base/main/prompt_only/layer_20\"  \n",
    "activation_test_files = sorted([f for f in os.listdir(activations_test_path) if f.endswith(\".pt\")], key=extract_number)\n",
    "activations_test_list = [torch.load(os.path.join(activations_test_path, f), map_location='cpu').cpu() for f in activation_test_files]\n",
    "activations_test_raw = torch.cat(activations_test_list, dim=0)\n",
    "df_test = pd.read_csv(\"/home/arnau/Desktop/Cambridge/MARS/correctness-model-internals/evaluations/\" + model + \"/\" + test_dataset + \"/base/main_generations_evaluated.csv\")\n",
    "labels_test = df_test[\"correct\"].to_numpy()\n",
    "idk_test = df_test[\"idk_response\"].to_numpy()\n",
    "train_size = 9500\n",
    "indices_correct_train = [i for i, x in enumerate(labels_train) if x == 1][:train_size]\n",
    "indices_incorrect_train = [i for i, x in enumerate(labels_train) if x == 0][:train_size]\n",
    "indices_train = indices_correct_train + indices_incorrect_train\n",
    "activations_train = activations_train_raw[indices_train]\n",
    "labels_train = torch.tensor(np.array([1 if idx in set(indices_correct_train) else 0 for idx in indices_train]), dtype=torch.bool)"
   ]
  },
  {
   "cell_type": "code",
   "execution_count": 38,
   "metadata": {},
   "outputs": [],
   "source": [
    "activations_handler_train = ActivationsHandler(\n",
    "  activations=activations_train, # torch tensor of [batch, activations]\n",
    "  labels=labels_train, # each row label should correspond to the row in activations_tensor\n",
    ")\n",
    "activations_handler_test = ActivationsHandler(\n",
    "  activations=activations_test_raw, # torch tensor of [batch, activations]\n",
    "  labels=labels_test, # each row label should correspond to the row in activations_tensor\n",
    ")\n",
    "direction_classifier, direction_calculator = get_correctness_direction_classifier(\n",
    "  activations_handler_train=activations_handler_train,\n",
    "  activations_handler_test=activations_handler_test,\n",
    ")"
   ]
  },
  {
   "cell_type": "code",
   "execution_count": 39,
   "metadata": {},
   "outputs": [
    {
     "data": {
      "text/plain": [
       "{'optimal_cut': -0.12102754414081573,\n",
       " 'optimal_train_set_cut': -0.12102754414081573,\n",
       " 'test_roc_auc': 0.890466065642306,\n",
       " 'accuracy_score': 0.5186298076923077,\n",
       " 'f1_score': 0.6559278350515464,\n",
       " 'precision_score': 0.48806733432772215,\n",
       " 'recall_score': 0.9997817546922741}"
      ]
     },
     "execution_count": 39,
     "metadata": {},
     "output_type": "execute_result"
    }
   ],
   "source": [
    "direction_classifier.classification_metrics"
   ]
  },
  {
   "cell_type": "code",
   "execution_count": 49,
   "metadata": {},
   "outputs": [
    {
     "name": "stdout",
     "output_type": "stream",
     "text": [
      "4582\n",
      "1994\n",
      "3408\n"
     ]
    }
   ],
   "source": [
    "print(len(class_0_scores))\n",
    "print(len(class_1_scores))\n",
    "print(len(class_2_scores))"
   ]
  },
  {
   "cell_type": "code",
   "execution_count": 53,
   "metadata": {},
   "outputs": [
    {
     "data": {
      "text/plain": [
       "<Figure size 1000x500 with 0 Axes>"
      ]
     },
     "metadata": {},
     "output_type": "display_data"
    },
    {
     "data": {
      "image/png": "[encoded data removed]",
      "text/plain": [
       "<Figure size 1000x500 with 1 Axes>"
      ]
     },
     "metadata": {},
     "output_type": "display_data"
    }
   ],
   "source": [
    "test_scores = direction_classifier.test_classification_score\n",
    "test_classes = direction_classifier.test_labels\n",
    "idk_labels = pd.Series(idk_test)\n",
    "\n",
    "# Extract scores for each class\n",
    "class_0_scores = test_scores[test_classes == 1].numpy()[:1990]\n",
    "class_1_scores = test_scores[(test_classes == 0) & (idk_labels == 0)].numpy()[:1990]\n",
    "class_2_scores = test_scores[(test_classes == 0) & (idk_labels == 1)].numpy()[:1990]\n",
    "\n",
    "# Plot distributions\n",
    "plt.figure(figsize=(10, 5))\n",
    "num_bins = 50  # You can adjust the number of bins\n",
    "bins = np.linspace(test_scores.min(), test_scores.max(), num_bins + 1)\n",
    "\n",
    "# Plot with uniform bins\n",
    "plt.figure(figsize=(10, 5))\n",
    "plt.hist(class_0_scores, bins=bins, alpha=0.6, color='red', label='Right')\n",
    "plt.hist(class_1_scores, bins=bins, alpha=0.6, color='blue', label='Wrong')\n",
    "plt.hist(class_2_scores, bins=bins, alpha=0.8, color='green', label='IDK')\n",
    "\n",
    "plt.xlabel('Score')\n",
    "plt.ylabel('Frequency')\n",
    "plt.title('Cities data, direction from TriviaQA, mistral_7b_instruct')\n",
    "plt.legend()\n",
    "plt.grid()\n",
    "plt.show()"
   ]
  }
 ],
 "metadata": {
  "kernelspec": {
   "display_name": "ml_env",
   "language": "python",
   "name": "python3"
  },
  "language_info": {
   "codemirror_mode": {
    "name": "ipython",
    "version": 3
   },
   "file_extension": ".py",
   "mimetype": "text/x-python",
   "name": "python",
   "nbconvert_exporter": "python",
   "pygments_lexer": "ipython3",
   "version": "3.12.3"
  }
 },
 "nbformat": 4,
 "nbformat_minor": 2
}
