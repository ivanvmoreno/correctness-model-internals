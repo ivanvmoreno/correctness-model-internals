{
 "cells": [
  {
   "cell_type": "markdown",
   "metadata": {},
   "source": [
    "## Generate countries dataset"
   ]
  },
  {
   "cell_type": "code",
   "execution_count": 2,
   "metadata": {},
   "outputs": [],
   "source": [
    "import pandas as pd\n",
    "import pickle"
   ]
  },
  {
   "cell_type": "code",
   "execution_count": 4,
   "metadata": {},
   "outputs": [
    {
     "name": "stdout",
     "output_type": "stream",
     "text": [
      "110826\n"
     ]
    },
    {
     "data": {
      "text/html": [
       "<div>\n",
       "<style scoped>\n",
       "    .dataframe tbody tr th:only-of-type {\n",
       "        vertical-align: middle;\n",
       "    }\n",
       "\n",
       "    .dataframe tbody tr th {\n",
       "        vertical-align: top;\n",
       "    }\n",
       "\n",
       "    .dataframe thead th {\n",
       "        text-align: right;\n",
       "    }\n",
       "</style>\n",
       "<table border=\"1\" class=\"dataframe\">\n",
       "  <thead>\n",
       "    <tr style=\"text-align: right;\">\n",
       "      <th></th>\n",
       "      <th>city</th>\n",
       "      <th>country</th>\n",
       "      <th>population</th>\n",
       "    </tr>\n",
       "  </thead>\n",
       "  <tbody>\n",
       "    <tr>\n",
       "      <th>0</th>\n",
       "      <td>Huayllati</td>\n",
       "      <td>Peru</td>\n",
       "      <td>515</td>\n",
       "    </tr>\n",
       "    <tr>\n",
       "      <th>1</th>\n",
       "      <td>Duraznopampa</td>\n",
       "      <td>Peru</td>\n",
       "      <td>249</td>\n",
       "    </tr>\n",
       "    <tr>\n",
       "      <th>2</th>\n",
       "      <td>Kimbiri</td>\n",
       "      <td>Peru</td>\n",
       "      <td>4369</td>\n",
       "    </tr>\n",
       "    <tr>\n",
       "      <th>3</th>\n",
       "      <td>Urb. Santo Domingo</td>\n",
       "      <td>Peru</td>\n",
       "      <td>5000</td>\n",
       "    </tr>\n",
       "    <tr>\n",
       "      <th>6</th>\n",
       "      <td>Kimbe</td>\n",
       "      <td>Papua New Guinea</td>\n",
       "      <td>18847</td>\n",
       "    </tr>\n",
       "  </tbody>\n",
       "</table>\n",
       "</div>"
      ],
      "text/plain": [
       "                 city           country  population\n",
       "0           Huayllati              Peru         515\n",
       "1        Duraznopampa              Peru         249\n",
       "2             Kimbiri              Peru        4369\n",
       "3  Urb. Santo Domingo              Peru        5000\n",
       "6               Kimbe  Papua New Guinea       18847"
      ]
     },
     "execution_count": 4,
     "metadata": {},
     "output_type": "execute_result"
    }
   ],
   "source": [
    "cities_ds = \"../../datasets/cities_questions_augmented/all_cities.csv\"\n",
    "cities = pd.read_csv(cities_ds, sep=';')\n",
    "cities = cities[['ASCII Name', 'Country name EN', 'Population']]\n",
    "cities.columns = ['city', 'country', 'population']\n",
    "cities = cities[cities['population'] != 0]\n",
    "cities = cities.drop_duplicates(subset=['city'], keep=False)\n",
    "#cities = cities[isinstance(cities['city'], str)]\n",
    "cities = cities[cities.apply(lambda row : isinstance(row['city'], str), axis=1)]\n",
    "cities = cities[cities.apply(lambda row : isinstance(row['country'], str), axis=1)]\n",
    "print(len(cities))\n",
    "cities.head()\n",
    "#df['is_correct'] = df.apply(lambda row : row['filtered_answer'] in country_names[row['correct_country']], axis=1) "
   ]
  },
  {
   "cell_type": "code",
   "execution_count": null,
   "metadata": {},
   "outputs": [],
   "source": [
    "selection = cities.sample(10000)"
   ]
  },
  {
   "cell_type": "code",
   "execution_count": null,
   "metadata": {},
   "outputs": [],
   "source": [
    "cities_questions_augmented = pd.DataFrame(columns=[\"statement\", \"label\", \"city\", \"country\", \"correct_country\", \"question\", \"question_with_answer\"])\n",
    "for index, row in selection.iterrows():\n",
    "    row = {\"statement\": \"The city of \" + row['city'] + \" is in \" + row['country'] + \".\", \n",
    "            \"label\": 1, \n",
    "            \"city\": row['city'], \n",
    "            \"country\": row['country'], \n",
    "            \"correct_country\": row['country'], \n",
    "            \"question\": \"In which country is the city of \" + row['city'] + \" located?\", \n",
    "            \"question_with_answer\": \"In which country is the city of \" + row['city'] + \" located? \" + row['country'] + \".\"}\n",
    "    row_df = pd.Series(row).to_frame().T\n",
    "    cities_questions_augmented = pd.concat([cities_questions_augmented, row_df], axis=0, ignore_index=True)"
   ]
  },
  {
   "cell_type": "code",
   "execution_count": null,
   "metadata": {},
   "outputs": [],
   "source": [
    "cities_questions_augmented"
   ]
  },
  {
   "cell_type": "code",
   "execution_count": null,
   "metadata": {},
   "outputs": [],
   "source": [
    "cities_questions_augmented.to_csv(\"../../datasets/cities_expansions/cities_questions_augmented_2.csv\")"
   ]
  },
  {
   "cell_type": "markdown",
   "metadata": {},
   "source": [
    "## Create countries dictionary"
   ]
  },
  {
   "cell_type": "code",
   "execution_count": 3,
   "metadata": {},
   "outputs": [],
   "source": [
    "set(cities['country'])\n",
    "country_names = {}\n",
    "for country in set(cities['country']):\n",
    "    country_names[country] = [country]\n",
    "country_names['Russian Federation'].append('Russia')\n",
    "country_names['Viet Nam'].append('Vietnam')\n",
    "country_names['Venezuela, Bolivarian Rep. of'].append('Venezuela')\n",
    "country_names['United States'].append('USA')\n",
    "country_names['United States'].append('the USA')\n",
    "country_names['United States'].append('The USA')\n",
    "country_names['United States'].append('The United States')\n",
    "country_names['Congo, Democratic Republic of the'].append('Congo')\n",
    "country_names['Hong Kong, China'].append('Hong Kong')\n",
    "country_names['Iran, Islamic Rep. of'].append('Iran')\n",
    "country_names['West Bank and Gaza Strip'].append('Palestine')\n",
    "country_names['United Kingdom'].append('UK')\n",
    "country_names['United Kingdom'].append('the UK')\n",
    "country_names['United Kingdom'].append('The UK')\n",
    "country_names[\"Korea, Dem. People's Rep. of\"].append('North Korea')\n",
    "country_names['Korea, Republic of'].append('South Korea')\n",
    "country_names['Sudan, The Republic of'].append('Sudan')"
   ]
  },
  {
   "cell_type": "code",
   "execution_count": 4,
   "metadata": {},
   "outputs": [],
   "source": [
    "with open('../../datasets/cities_expansions/countries_dictionary.pkl', 'wb') as f:\n",
    "    pickle.dump(country_names, f)"
   ]
  },
  {
   "cell_type": "markdown",
   "metadata": {},
   "source": [
    "## Create 'statement' dataset"
   ]
  },
  {
   "cell_type": "code",
   "execution_count": 19,
   "metadata": {},
   "outputs": [],
   "source": [
    "cities = pd.read_csv(\"../../datasets/cities_expansions/cities_questions_augmented_2.csv\")"
   ]
  },
  {
   "cell_type": "code",
   "execution_count": 20,
   "metadata": {},
   "outputs": [
    {
     "data": {
      "text/html": [
       "<div>\n",
       "<style scoped>\n",
       "    .dataframe tbody tr th:only-of-type {\n",
       "        vertical-align: middle;\n",
       "    }\n",
       "\n",
       "    .dataframe tbody tr th {\n",
       "        vertical-align: top;\n",
       "    }\n",
       "\n",
       "    .dataframe thead th {\n",
       "        text-align: right;\n",
       "    }\n",
       "</style>\n",
       "<table border=\"1\" class=\"dataframe\">\n",
       "  <thead>\n",
       "    <tr style=\"text-align: right;\">\n",
       "      <th></th>\n",
       "      <th>Unnamed: 0</th>\n",
       "      <th>statement</th>\n",
       "      <th>label</th>\n",
       "      <th>city</th>\n",
       "      <th>country</th>\n",
       "      <th>correct_country</th>\n",
       "      <th>question</th>\n",
       "      <th>question_with_answer</th>\n",
       "    </tr>\n",
       "  </thead>\n",
       "  <tbody>\n",
       "    <tr>\n",
       "      <th>0</th>\n",
       "      <td>0</td>\n",
       "      <td>The city of Kostomloty Pierwsze is in Poland.</td>\n",
       "      <td>1</td>\n",
       "      <td>Kostomloty Pierwsze</td>\n",
       "      <td>Poland</td>\n",
       "      <td>Poland</td>\n",
       "      <td>In which country is the city of Kostomloty Pie...</td>\n",
       "      <td>In which country is the city of Kostomloty Pie...</td>\n",
       "    </tr>\n",
       "    <tr>\n",
       "      <th>1</th>\n",
       "      <td>1</td>\n",
       "      <td>The city of Bognankro is in Côte d'Ivoire.</td>\n",
       "      <td>1</td>\n",
       "      <td>Bognankro</td>\n",
       "      <td>Côte d'Ivoire</td>\n",
       "      <td>Côte d'Ivoire</td>\n",
       "      <td>In which country is the city of Bognankro loca...</td>\n",
       "      <td>In which country is the city of Bognankro loca...</td>\n",
       "    </tr>\n",
       "    <tr>\n",
       "      <th>2</th>\n",
       "      <td>2</td>\n",
       "      <td>The city of Le Raincy is in France.</td>\n",
       "      <td>1</td>\n",
       "      <td>Le Raincy</td>\n",
       "      <td>France</td>\n",
       "      <td>France</td>\n",
       "      <td>In which country is the city of Le Raincy loca...</td>\n",
       "      <td>In which country is the city of Le Raincy loca...</td>\n",
       "    </tr>\n",
       "    <tr>\n",
       "      <th>3</th>\n",
       "      <td>3</td>\n",
       "      <td>The city of Tobol is in Kazakhstan.</td>\n",
       "      <td>1</td>\n",
       "      <td>Tobol</td>\n",
       "      <td>Kazakhstan</td>\n",
       "      <td>Kazakhstan</td>\n",
       "      <td>In which country is the city of Tobol located?</td>\n",
       "      <td>In which country is the city of Tobol located?...</td>\n",
       "    </tr>\n",
       "    <tr>\n",
       "      <th>4</th>\n",
       "      <td>4</td>\n",
       "      <td>The city of Tayabas Ibaba is in Philippines.</td>\n",
       "      <td>1</td>\n",
       "      <td>Tayabas Ibaba</td>\n",
       "      <td>Philippines</td>\n",
       "      <td>Philippines</td>\n",
       "      <td>In which country is the city of Tayabas Ibaba ...</td>\n",
       "      <td>In which country is the city of Tayabas Ibaba ...</td>\n",
       "    </tr>\n",
       "  </tbody>\n",
       "</table>\n",
       "</div>"
      ],
      "text/plain": [
       "   Unnamed: 0                                      statement  label  \\\n",
       "0           0  The city of Kostomloty Pierwsze is in Poland.      1   \n",
       "1           1     The city of Bognankro is in Côte d'Ivoire.      1   \n",
       "2           2            The city of Le Raincy is in France.      1   \n",
       "3           3            The city of Tobol is in Kazakhstan.      1   \n",
       "4           4   The city of Tayabas Ibaba is in Philippines.      1   \n",
       "\n",
       "                  city        country correct_country  \\\n",
       "0  Kostomloty Pierwsze         Poland          Poland   \n",
       "1            Bognankro  Côte d'Ivoire   Côte d'Ivoire   \n",
       "2            Le Raincy         France          France   \n",
       "3                Tobol     Kazakhstan      Kazakhstan   \n",
       "4        Tayabas Ibaba    Philippines     Philippines   \n",
       "\n",
       "                                            question  \\\n",
       "0  In which country is the city of Kostomloty Pie...   \n",
       "1  In which country is the city of Bognankro loca...   \n",
       "2  In which country is the city of Le Raincy loca...   \n",
       "3     In which country is the city of Tobol located?   \n",
       "4  In which country is the city of Tayabas Ibaba ...   \n",
       "\n",
       "                                question_with_answer  \n",
       "0  In which country is the city of Kostomloty Pie...  \n",
       "1  In which country is the city of Bognankro loca...  \n",
       "2  In which country is the city of Le Raincy loca...  \n",
       "3  In which country is the city of Tobol located?...  \n",
       "4  In which country is the city of Tayabas Ibaba ...  "
      ]
     },
     "execution_count": 20,
     "metadata": {},
     "output_type": "execute_result"
    }
   ],
   "source": [
    "cities.head()"
   ]
  },
  {
   "cell_type": "code",
   "execution_count": 21,
   "metadata": {},
   "outputs": [
    {
     "data": {
      "text/plain": [
       "9984"
      ]
     },
     "execution_count": 21,
     "metadata": {},
     "output_type": "execute_result"
    }
   ],
   "source": [
    "len(cities)"
   ]
  },
  {
   "cell_type": "code",
   "execution_count": 22,
   "metadata": {},
   "outputs": [],
   "source": [
    "cities_new = cities[['question']]"
   ]
  },
  {
   "cell_type": "code",
   "execution_count": 23,
   "metadata": {},
   "outputs": [],
   "source": [
    "cities_new.columns = ['statement']"
   ]
  },
  {
   "cell_type": "code",
   "execution_count": 24,
   "metadata": {},
   "outputs": [],
   "source": [
    "cities_new.to_csv(\"../../datasets/cities_questions_augmented_2_for_activations.csv\")"
   ]
  },
  {
   "cell_type": "markdown",
   "metadata": {},
   "source": [
    "Then run: \n",
    "python3 generate_acts.py --model_family Llama3 --model_size 8B --model_type chat --layers 12 --datasets cities_questions_augmented_2_for_activations --device cuda:0 --output_dir acts/\n"
   ]
  }
 ],
 "metadata": {
  "kernelspec": {
   "display_name": "venv",
   "language": "python",
   "name": "python3"
  },
  "language_info": {
   "codemirror_mode": {
    "name": "ipython",
    "version": 3
   },
   "file_extension": ".py",
   "mimetype": "text/x-python",
   "name": "python",
   "nbconvert_exporter": "python",
   "pygments_lexer": "ipython3",
   "version": "3.11.10"
  }
 },
 "nbformat": 4,
 "nbformat_minor": 2
}
