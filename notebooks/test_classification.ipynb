{
 "cells": [
  {
   "cell_type": "code",
   "execution_count": 9,
   "metadata": {},
   "outputs": [],
   "source": [
    "import pandas as pd\n",
    "import seaborn as sns\n",
    "\n",
    "sns.set_theme(style=\"whitegrid\")\n"
   ]
  },
  {
   "cell_type": "code",
   "execution_count": 49,
   "metadata": {},
   "outputs": [
    {
     "data": {
      "application/vnd.plotly.v1+json": {
       "config": {
        "plotlyServerURL": "https://plot.ly"
       },
       "data": [
        {
         "line": {
          "width": 0
         },
         "mode": "lines",
         "name": "Max",
         "showlegend": false,
         "type": "scatter",
         "x": [
          1,
          2,
          3,
          4,
          5
         ],
         "y": [
          0.47671355787873676,
          1.5435708175362823,
          1.4399720694450129,
          1.4615620386348285,
          0.6048306609581958
         ]
        },
        {
         "fill": "tonexty",
         "fillcolor": "rgba(68, 138, 255, 0.1)",
         "line": {
          "width": 0
         },
         "mode": "lines",
         "name": "Min",
         "showlegend": false,
         "type": "scatter",
         "x": [
          1,
          2,
          3,
          4,
          5
         ],
         "y": [
          -0.011126854798837127,
          0.8960136793416913,
          0.4693578993358682,
          0.3813769228367718,
          0.208600134517832
         ]
        },
        {
         "line": {
          "width": 0
         },
         "mode": "lines",
         "name": "+1 STD",
         "showlegend": false,
         "type": "scatter",
         "x": [
          1,
          2,
          3,
          4,
          5
         ],
         "y": [
          0.5295460346908049,
          1.5508075523467793,
          1.4059096144544005,
          1.5176068073608415,
          0.5916499357380239
         ]
        },
        {
         "fill": "tonexty",
         "fillcolor": "rgba(68, 138, 255, 0.3)",
         "line": {
          "width": 0
         },
         "mode": "lines",
         "name": "-1 STD",
         "showlegend": false,
         "type": "scatter",
         "x": [
          1,
          2,
          3,
          4,
          5
         ],
         "y": [
          0.020329099490996594,
          0.9027953645550202,
          0.4260998006153927,
          0.42398918151511167,
          0.19209784345107564
         ]
        },
        {
         "line": {
          "color": "#1f77b4",
          "width": 2
         },
         "marker": {
          "size": 8
         },
         "mode": "lines+markers",
         "name": "Mean",
         "type": "scatter",
         "x": [
          1,
          2,
          3,
          4,
          5
         ],
         "y": [
          0.2749375670909007,
          1.2268014584508997,
          0.9160047075348966,
          0.9707979944379765,
          0.3918738895945498
         ]
        },
        {
         "marker": {
          "color": "#1f77b4",
          "opacity": 0.5,
          "size": 6
         },
         "mode": "markers",
         "name": "Fold 0",
         "showlegend": false,
         "type": "scatter",
         "x": [
          1,
          2,
          3,
          4,
          5
         ],
         "y": [
          -0.011126854798837127,
          1.5435708175362823,
          1.4399720694450129,
          1.4615620386348285,
          0.6048306609581958
         ]
        },
        {
         "marker": {
          "color": "#1f77b4",
          "opacity": 0.5,
          "size": 6
         },
         "mode": "markers",
         "name": "Fold 1",
         "showlegend": false,
         "type": "scatter",
         "x": [
          1,
          2,
          3,
          4,
          5
         ],
         "y": [
          0.47671355787873676,
          1.2408198784747253,
          0.8386841538238092,
          1.0694550218423293,
          0.36219087330762145
         ]
        },
        {
         "marker": {
          "color": "#1f77b4",
          "opacity": 0.5,
          "size": 6
         },
         "mode": "markers",
         "name": "Fold 2",
         "showlegend": false,
         "type": "scatter",
         "x": [
          1,
          2,
          3,
          4,
          5
         ],
         "y": [
          0.35922599819280254,
          0.8960136793416913,
          0.4693578993358682,
          0.3813769228367718,
          0.208600134517832
         ]
        }
       ],
       "layout": {
        "font": {
         "color": "white"
        },
        "margin": {
         "l": 50,
         "r": 30,
         "t": 50
        },
        "paper_bgcolor": "rgba(32, 32, 32, 1)",
        "plot_bgcolor": "rgba(32, 32, 32, 1)",
        "showlegend": false,
        "template": {
         "data": {
          "bar": [
           {
            "error_x": {
             "color": "#f2f5fa"
            },
            "error_y": {
             "color": "#f2f5fa"
            },
            "marker": {
             "line": {
              "color": "rgb(17,17,17)",
              "width": 0.5
             },
             "pattern": {
              "fillmode": "overlay",
              "size": 10,
              "solidity": 0.2
             }
            },
            "type": "bar"
           }
          ],
          "barpolar": [
           {
            "marker": {
             "line": {
              "color": "rgb(17,17,17)",
              "width": 0.5
             },
             "pattern": {
              "fillmode": "overlay",
              "size": 10,
              "solidity": 0.2
             }
            },
            "type": "barpolar"
           }
          ],
          "carpet": [
           {
            "aaxis": {
             "endlinecolor": "#A2B1C6",
             "gridcolor": "#506784",
             "linecolor": "#506784",
             "minorgridcolor": "#506784",
             "startlinecolor": "#A2B1C6"
            },
            "baxis": {
             "endlinecolor": "#A2B1C6",
             "gridcolor": "#506784",
             "linecolor": "#506784",
             "minorgridcolor": "#506784",
             "startlinecolor": "#A2B1C6"
            },
            "type": "carpet"
           }
          ],
          "choropleth": [
           {
            "colorbar": {
             "outlinewidth": 0,
             "ticks": ""
            },
            "type": "choropleth"
           }
          ],
          "contour": [
           {
            "colorbar": {
             "outlinewidth": 0,
             "ticks": ""
            },
            "colorscale": [
             [
              0,
              "#0d0887"
             ],
             [
              0.1111111111111111,
              "#46039f"
             ],
             [
              0.2222222222222222,
              "#7201a8"
             ],
             [
              0.3333333333333333,
              "#9c179e"
             ],
             [
              0.4444444444444444,
              "#bd3786"
             ],
             [
              0.5555555555555556,
              "#d8576b"
             ],
             [
              0.6666666666666666,
              "#ed7953"
             ],
             [
              0.7777777777777778,
              "#fb9f3a"
             ],
             [
              0.8888888888888888,
              "#fdca26"
             ],
             [
              1,
              "#f0f921"
             ]
            ],
            "type": "contour"
           }
          ],
          "contourcarpet": [
           {
            "colorbar": {
             "outlinewidth": 0,
             "ticks": ""
            },
            "type": "contourcarpet"
           }
          ],
          "heatmap": [
           {
            "colorbar": {
             "outlinewidth": 0,
             "ticks": ""
            },
            "colorscale": [
             [
              0,
              "#0d0887"
             ],
             [
              0.1111111111111111,
              "#46039f"
             ],
             [
              0.2222222222222222,
              "#7201a8"
             ],
             [
              0.3333333333333333,
              "#9c179e"
             ],
             [
              0.4444444444444444,
              "#bd3786"
             ],
             [
              0.5555555555555556,
              "#d8576b"
             ],
             [
              0.6666666666666666,
              "#ed7953"
             ],
             [
              0.7777777777777778,
              "#fb9f3a"
             ],
             [
              0.8888888888888888,
              "#fdca26"
             ],
             [
              1,
              "#f0f921"
             ]
            ],
            "type": "heatmap"
           }
          ],
          "heatmapgl": [
           {
            "colorbar": {
             "outlinewidth": 0,
             "ticks": ""
            },
            "colorscale": [
             [
              0,
              "#0d0887"
             ],
             [
              0.1111111111111111,
              "#46039f"
             ],
             [
              0.2222222222222222,
              "#7201a8"
             ],
             [
              0.3333333333333333,
              "#9c179e"
             ],
             [
              0.4444444444444444,
              "#bd3786"
             ],
             [
              0.5555555555555556,
              "#d8576b"
             ],
             [
              0.6666666666666666,
              "#ed7953"
             ],
             [
              0.7777777777777778,
              "#fb9f3a"
             ],
             [
              0.8888888888888888,
              "#fdca26"
             ],
             [
              1,
              "#f0f921"
             ]
            ],
            "type": "heatmapgl"
           }
          ],
          "histogram": [
           {
            "marker": {
             "pattern": {
              "fillmode": "overlay",
              "size": 10,
              "solidity": 0.2
             }
            },
            "type": "histogram"
           }
          ],
          "histogram2d": [
           {
            "colorbar": {
             "outlinewidth": 0,
             "ticks": ""
            },
            "colorscale": [
             [
              0,
              "#0d0887"
             ],
             [
              0.1111111111111111,
              "#46039f"
             ],
             [
              0.2222222222222222,
              "#7201a8"
             ],
             [
              0.3333333333333333,
              "#9c179e"
             ],
             [
              0.4444444444444444,
              "#bd3786"
             ],
             [
              0.5555555555555556,
              "#d8576b"
             ],
             [
              0.6666666666666666,
              "#ed7953"
             ],
             [
              0.7777777777777778,
              "#fb9f3a"
             ],
             [
              0.8888888888888888,
              "#fdca26"
             ],
             [
              1,
              "#f0f921"
             ]
            ],
            "type": "histogram2d"
           }
          ],
          "histogram2dcontour": [
           {
            "colorbar": {
             "outlinewidth": 0,
             "ticks": ""
            },
            "colorscale": [
             [
              0,
              "#0d0887"
             ],
             [
              0.1111111111111111,
              "#46039f"
             ],
             [
              0.2222222222222222,
              "#7201a8"
             ],
             [
              0.3333333333333333,
              "#9c179e"
             ],
             [
              0.4444444444444444,
              "#bd3786"
             ],
             [
              0.5555555555555556,
              "#d8576b"
             ],
             [
              0.6666666666666666,
              "#ed7953"
             ],
             [
              0.7777777777777778,
              "#fb9f3a"
             ],
             [
              0.8888888888888888,
              "#fdca26"
             ],
             [
              1,
              "#f0f921"
             ]
            ],
            "type": "histogram2dcontour"
           }
          ],
          "mesh3d": [
           {
            "colorbar": {
             "outlinewidth": 0,
             "ticks": ""
            },
            "type": "mesh3d"
           }
          ],
          "parcoords": [
           {
            "line": {
             "colorbar": {
              "outlinewidth": 0,
              "ticks": ""
             }
            },
            "type": "parcoords"
           }
          ],
          "pie": [
           {
            "automargin": true,
            "type": "pie"
           }
          ],
          "scatter": [
           {
            "marker": {
             "line": {
              "color": "#283442"
             }
            },
            "type": "scatter"
           }
          ],
          "scatter3d": [
           {
            "line": {
             "colorbar": {
              "outlinewidth": 0,
              "ticks": ""
             }
            },
            "marker": {
             "colorbar": {
              "outlinewidth": 0,
              "ticks": ""
             }
            },
            "type": "scatter3d"
           }
          ],
          "scattercarpet": [
           {
            "marker": {
             "colorbar": {
              "outlinewidth": 0,
              "ticks": ""
             }
            },
            "type": "scattercarpet"
           }
          ],
          "scattergeo": [
           {
            "marker": {
             "colorbar": {
              "outlinewidth": 0,
              "ticks": ""
             }
            },
            "type": "scattergeo"
           }
          ],
          "scattergl": [
           {
            "marker": {
             "line": {
              "color": "#283442"
             }
            },
            "type": "scattergl"
           }
          ],
          "scattermapbox": [
           {
            "marker": {
             "colorbar": {
              "outlinewidth": 0,
              "ticks": ""
             }
            },
            "type": "scattermapbox"
           }
          ],
          "scatterpolar": [
           {
            "marker": {
             "colorbar": {
              "outlinewidth": 0,
              "ticks": ""
             }
            },
            "type": "scatterpolar"
           }
          ],
          "scatterpolargl": [
           {
            "marker": {
             "colorbar": {
              "outlinewidth": 0,
              "ticks": ""
             }
            },
            "type": "scatterpolargl"
           }
          ],
          "scatterternary": [
           {
            "marker": {
             "colorbar": {
              "outlinewidth": 0,
              "ticks": ""
             }
            },
            "type": "scatterternary"
           }
          ],
          "surface": [
           {
            "colorbar": {
             "outlinewidth": 0,
             "ticks": ""
            },
            "colorscale": [
             [
              0,
              "#0d0887"
             ],
             [
              0.1111111111111111,
              "#46039f"
             ],
             [
              0.2222222222222222,
              "#7201a8"
             ],
             [
              0.3333333333333333,
              "#9c179e"
             ],
             [
              0.4444444444444444,
              "#bd3786"
             ],
             [
              0.5555555555555556,
              "#d8576b"
             ],
             [
              0.6666666666666666,
              "#ed7953"
             ],
             [
              0.7777777777777778,
              "#fb9f3a"
             ],
             [
              0.8888888888888888,
              "#fdca26"
             ],
             [
              1,
              "#f0f921"
             ]
            ],
            "type": "surface"
           }
          ],
          "table": [
           {
            "cells": {
             "fill": {
              "color": "#506784"
             },
             "line": {
              "color": "rgb(17,17,17)"
             }
            },
            "header": {
             "fill": {
              "color": "#2a3f5f"
             },
             "line": {
              "color": "rgb(17,17,17)"
             }
            },
            "type": "table"
           }
          ]
         },
         "layout": {
          "annotationdefaults": {
           "arrowcolor": "#f2f5fa",
           "arrowhead": 0,
           "arrowwidth": 1
          },
          "autotypenumbers": "strict",
          "coloraxis": {
           "colorbar": {
            "outlinewidth": 0,
            "ticks": ""
           }
          },
          "colorscale": {
           "diverging": [
            [
             0,
             "#8e0152"
            ],
            [
             0.1,
             "#c51b7d"
            ],
            [
             0.2,
             "#de77ae"
            ],
            [
             0.3,
             "#f1b6da"
            ],
            [
             0.4,
             "#fde0ef"
            ],
            [
             0.5,
             "#f7f7f7"
            ],
            [
             0.6,
             "#e6f5d0"
            ],
            [
             0.7,
             "#b8e186"
            ],
            [
             0.8,
             "#7fbc41"
            ],
            [
             0.9,
             "#4d9221"
            ],
            [
             1,
             "#276419"
            ]
           ],
           "sequential": [
            [
             0,
             "#0d0887"
            ],
            [
             0.1111111111111111,
             "#46039f"
            ],
            [
             0.2222222222222222,
             "#7201a8"
            ],
            [
             0.3333333333333333,
             "#9c179e"
            ],
            [
             0.4444444444444444,
             "#bd3786"
            ],
            [
             0.5555555555555556,
             "#d8576b"
            ],
            [
             0.6666666666666666,
             "#ed7953"
            ],
            [
             0.7777777777777778,
             "#fb9f3a"
            ],
            [
             0.8888888888888888,
             "#fdca26"
            ],
            [
             1,
             "#f0f921"
            ]
           ],
           "sequentialminus": [
            [
             0,
             "#0d0887"
            ],
            [
             0.1111111111111111,
             "#46039f"
            ],
            [
             0.2222222222222222,
             "#7201a8"
            ],
            [
             0.3333333333333333,
             "#9c179e"
            ],
            [
             0.4444444444444444,
             "#bd3786"
            ],
            [
             0.5555555555555556,
             "#d8576b"
            ],
            [
             0.6666666666666666,
             "#ed7953"
            ],
            [
             0.7777777777777778,
             "#fb9f3a"
            ],
            [
             0.8888888888888888,
             "#fdca26"
            ],
            [
             1,
             "#f0f921"
            ]
           ]
          },
          "colorway": [
           "#636efa",
           "#EF553B",
           "#00cc96",
           "#ab63fa",
           "#FFA15A",
           "#19d3f3",
           "#FF6692",
           "#B6E880",
           "#FF97FF",
           "#FECB52"
          ],
          "font": {
           "color": "#f2f5fa"
          },
          "geo": {
           "bgcolor": "rgb(17,17,17)",
           "lakecolor": "rgb(17,17,17)",
           "landcolor": "rgb(17,17,17)",
           "showlakes": true,
           "showland": true,
           "subunitcolor": "#506784"
          },
          "hoverlabel": {
           "align": "left"
          },
          "hovermode": "closest",
          "mapbox": {
           "style": "dark"
          },
          "paper_bgcolor": "rgb(17,17,17)",
          "plot_bgcolor": "rgb(17,17,17)",
          "polar": {
           "angularaxis": {
            "gridcolor": "#506784",
            "linecolor": "#506784",
            "ticks": ""
           },
           "bgcolor": "rgb(17,17,17)",
           "radialaxis": {
            "gridcolor": "#506784",
            "linecolor": "#506784",
            "ticks": ""
           }
          },
          "scene": {
           "xaxis": {
            "backgroundcolor": "rgb(17,17,17)",
            "gridcolor": "#506784",
            "gridwidth": 2,
            "linecolor": "#506784",
            "showbackground": true,
            "ticks": "",
            "zerolinecolor": "#C8D4E3"
           },
           "yaxis": {
            "backgroundcolor": "rgb(17,17,17)",
            "gridcolor": "#506784",
            "gridwidth": 2,
            "linecolor": "#506784",
            "showbackground": true,
            "ticks": "",
            "zerolinecolor": "#C8D4E3"
           },
           "zaxis": {
            "backgroundcolor": "rgb(17,17,17)",
            "gridcolor": "#506784",
            "gridwidth": 2,
            "linecolor": "#506784",
            "showbackground": true,
            "ticks": "",
            "zerolinecolor": "#C8D4E3"
           }
          },
          "shapedefaults": {
           "line": {
            "color": "#f2f5fa"
           }
          },
          "sliderdefaults": {
           "bgcolor": "#C8D4E3",
           "bordercolor": "rgb(17,17,17)",
           "borderwidth": 1,
           "tickwidth": 0
          },
          "ternary": {
           "aaxis": {
            "gridcolor": "#506784",
            "linecolor": "#506784",
            "ticks": ""
           },
           "baxis": {
            "gridcolor": "#506784",
            "linecolor": "#506784",
            "ticks": ""
           },
           "bgcolor": "rgb(17,17,17)",
           "caxis": {
            "gridcolor": "#506784",
            "linecolor": "#506784",
            "ticks": ""
           }
          },
          "title": {
           "x": 0.05
          },
          "updatemenudefaults": {
           "bgcolor": "#506784",
           "borderwidth": 0
          },
          "xaxis": {
           "automargin": true,
           "gridcolor": "#283442",
           "linecolor": "#506784",
           "ticks": "",
           "title": {
            "standoff": 15
           },
           "zerolinecolor": "#283442",
           "zerolinewidth": 2
          },
          "yaxis": {
           "automargin": true,
           "gridcolor": "#283442",
           "linecolor": "#506784",
           "ticks": "",
           "title": {
            "standoff": 15
           },
           "zerolinecolor": "#283442",
           "zerolinewidth": 2
          }
         }
        },
        "title": {},
        "xaxis": {
         "gridcolor": "rgba(128, 128, 128, 0.2)",
         "title": {
          "text": "Layer"
         },
         "zeroline": false
        },
        "yaxis": {
         "gridcolor": "rgba(128, 128, 128, 0.2)",
         "title": {
          "text": "F1 Score"
         },
         "zeroline": false
        }
       }
      }
     },
     "metadata": {},
     "output_type": "display_data"
    }
   ],
   "source": [
    "experiment_results = {\n",
    "    \"llama3_3b_chat\": {\n",
    "        \"gsm8k\": {\n",
    "            \"base_3_shot\": {\n",
    "                \"main\": {\n",
    "                    \"prompt_answer\": {\n",
    "                        1: {\n",
    "                            \"fold_1\": {\n",
    "                                \"correctness_direction_classifier\": {\n",
    "                                    \"optimal_cut\": 0.5,\n",
    "                                    \"optimal_train_set_cut\": 0.5,\n",
    "                                    \"test_roc_auc\": 0.7,\n",
    "                                    \"accuracy\": 0.6,\n",
    "                                    \"f1_score\": 0.7,\n",
    "                                },\n",
    "                            },\n",
    "                            \"fold_2\": {\n",
    "                                \"correctness_direction_classifier\": {\n",
    "                                    \"optimal_cut\": 0.5,\n",
    "                                    \"optimal_train_set_cut\": 0.5,\n",
    "                                    \"test_roc_auc\": 0.8,\n",
    "                                    \"accuracy\": 0.7,\n",
    "                                    \"f1_score\": 0.8,\n",
    "                                },\n",
    "                            },\n",
    "                            \"fold_3\": {\n",
    "                                \"correctness_direction_classifier\": {\n",
    "                                    \"optimal_cut\": 0.5,\n",
    "                                    \"optimal_train_set_cut\": 0.5,\n",
    "                                    \"test_roc_auc\": 0.9,\n",
    "                                    \"accuracy\": 0.8,\n",
    "                                    \"f1_score\": 0.9,\n",
    "                                },\n",
    "                            },\n",
    "                        },\n",
    "                        2: {\n",
    "                            \"fold_1\": {\n",
    "                                \"correctness_direction_classifier\": {\n",
    "                                    \"optimal_cut\": 0.5,\n",
    "                                    \"optimal_train_set_cut\": 0.5,\n",
    "                                    \"test_roc_auc\": 0.7,\n",
    "                                    \"accuracy\": 0.6,\n",
    "                                    \"f1_score\": 0.7,\n",
    "                                },\n",
    "                            },\n",
    "                            \"fold_2\": {\n",
    "                                \"correctness_direction_classifier\": {\n",
    "                                    \"optimal_cut\": 0.5,\n",
    "                                    \"optimal_train_set_cut\": 0.5,\n",
    "                                    \"test_roc_auc\": 0.8,\n",
    "                                    \"accuracy\": 0.7,\n",
    "                                    \"f1_score\": 0.8,\n",
    "                                },\n",
    "                            },\n",
    "                            \"fold_3\": {\n",
    "                                \"correctness_direction_classifier\": {\n",
    "                                    \"optimal_cut\": 0.5,\n",
    "                                    \"optimal_train_set_cut\": 0.5,\n",
    "                                    \"test_roc_auc\": 0.9,\n",
    "                                    \"accuracy\": 0.8,\n",
    "                                    \"f1_score\": 0.9,\n",
    "                                },\n",
    "                            },\n",
    "                        },\n",
    "                        3: {\n",
    "                            \"fold_1\": {\n",
    "                                \"correctness_direction_classifier\": {\n",
    "                                    \"optimal_cut\": 0.5,\n",
    "                                    \"optimal_train_set_cut\": 0.5,\n",
    "                                    \"test_roc_auc\": 0.7,\n",
    "                                    \"accuracy\": 0.6,\n",
    "                                    \"f1_score\": 0.7,\n",
    "                                },\n",
    "                            },\n",
    "                            \"fold_2\": {\n",
    "                                \"correctness_direction_classifier\": {\n",
    "                                    \"optimal_cut\": 0.5,\n",
    "                                    \"optimal_train_set_cut\": 0.5,\n",
    "                                    \"test_roc_auc\": 0.8,\n",
    "                                    \"accuracy\": 0.7,\n",
    "                                    \"f1_score\": 0.8,\n",
    "                                },\n",
    "                            },\n",
    "                            \"fold_3\": {\n",
    "                                \"correctness_direction_classifier\": {\n",
    "                                    \"optimal_cut\": 0.5,\n",
    "                                    \"optimal_train_set_cut\": 0.5,\n",
    "                                    \"test_roc_auc\": 0.9,\n",
    "                                    \"accuracy\": 0.8,\n",
    "                                    \"f1_score\": 0.9,\n",
    "                                },\n",
    "                            },\n",
    "                        },\n",
    "                        4: {\n",
    "                            \"fold_1\": {\n",
    "                                \"correctness_direction_classifier\": {\n",
    "                                    \"optimal_cut\": 0.5,\n",
    "                                    \"optimal_train_set_cut\": 0.5,\n",
    "                                    \"test_roc_auc\": 0.7,\n",
    "                                    \"accuracy\": 0.6,\n",
    "                                    \"f1_score\": 0.7,\n",
    "                                },\n",
    "                            },\n",
    "                            \"fold_2\": {\n",
    "                                \"correctness_direction_classifier\": {\n",
    "                                    \"optimal_cut\": 0.5,\n",
    "                                    \"optimal_train_set_cut\": 0.5,\n",
    "                                    \"test_roc_auc\": 0.8,\n",
    "                                    \"accuracy\": 0.7,\n",
    "                                    \"f1_score\": 0.8,\n",
    "                                },\n",
    "                            },\n",
    "                            \"fold_3\": {\n",
    "                                \"correctness_direction_classifier\": {\n",
    "                                    \"optimal_cut\": 0.5,\n",
    "                                    \"optimal_train_set_cut\": 0.5,\n",
    "                                    \"test_roc_auc\": 0.9,\n",
    "                                    \"accuracy\": 0.8,\n",
    "                                    \"f1_score\": 0.9,\n",
    "                                },\n",
    "                            },\n",
    "                        },\n",
    "                        5: {\n",
    "                            \"fold_1\": {\n",
    "                                \"correctness_direction_classifier\": {\n",
    "                                    \"optimal_cut\": 0.5,\n",
    "                                    \"optimal_train_set_cut\": 0.5,\n",
    "                                    \"test_roc_auc\": 0.7,\n",
    "                                    \"accuracy\": 0.6,\n",
    "                                    \"f1_score\": 0.7,\n",
    "                                },\n",
    "                            },\n",
    "                            \"fold_2\": {\n",
    "                                \"correctness_direction_classifier\": {\n",
    "                                    \"optimal_cut\": 0.5,\n",
    "                                    \"optimal_train_set_cut\": 0.5,\n",
    "                                    \"test_roc_auc\": 0.8,\n",
    "                                    \"accuracy\": 0.7,\n",
    "                                    \"f1_score\": 0.8,\n",
    "                                },\n",
    "                            },\n",
    "                            \"fold_3\": {\n",
    "                                \"correctness_direction_classifier\": {\n",
    "                                    \"optimal_cut\": 0.5,\n",
    "                                    \"optimal_train_set_cut\": 0.5,\n",
    "                                    \"test_roc_auc\": 0.9,\n",
    "                                    \"accuracy\": 0.8,\n",
    "                                    \"f1_score\": 0.9,\n",
    "                                },\n",
    "                            },\n",
    "                        },\n",
    "                    }\n",
    "                }\n",
    "            }\n",
    "        }\n",
    "    }\n",
    "}\n",
    "\n",
    "\n",
    "import plotly.graph_objects as go\n",
    "def plot_interactive_lineplot(df, x_label, y_label, title=None):\n",
    "    fig = go.Figure()\n",
    "    \n",
    "    # Calculate statistics for each column\n",
    "    means = df.mean(axis=1)\n",
    "    stds = df.std(axis=1)\n",
    "    mins = df.min(axis=1)\n",
    "    maxs = df.max(axis=1)\n",
    "    \n",
    "    # Add min/max range (very faint)\n",
    "    fig.add_trace(go.Scatter(\n",
    "        x=df.index,\n",
    "        y=maxs,\n",
    "        mode='lines',\n",
    "        line=dict(width=0),\n",
    "        showlegend=False,\n",
    "        name='Max'\n",
    "    ))\n",
    "    fig.add_trace(go.Scatter(\n",
    "        x=df.index,\n",
    "        y=mins,\n",
    "        mode='lines',\n",
    "        line=dict(width=0),\n",
    "        fillcolor='rgba(68, 138, 255, 0.1)',  # Very faint blue\n",
    "        fill='tonexty',\n",
    "        showlegend=False,\n",
    "        name='Min'\n",
    "    ))\n",
    "    \n",
    "    # Add ±1 std range (moderately faint)\n",
    "    fig.add_trace(go.Scatter(\n",
    "        x=df.index,\n",
    "        y=means + stds,\n",
    "        mode='lines',\n",
    "        line=dict(width=0),\n",
    "        showlegend=False,\n",
    "        name='+1 STD'\n",
    "    ))\n",
    "    fig.add_trace(go.Scatter(\n",
    "        x=df.index,\n",
    "        y=means - stds,\n",
    "        mode='lines',\n",
    "        line=dict(width=0),\n",
    "        fillcolor='rgba(68, 138, 255, 0.3)',  # Slightly more visible blue\n",
    "        fill='tonexty',\n",
    "        showlegend=False,\n",
    "        name='-1 STD'\n",
    "    ))\n",
    "    \n",
    "    # Add mean line\n",
    "    fig.add_trace(go.Scatter(\n",
    "        x=df.index,\n",
    "        y=means,\n",
    "        mode='lines+markers',\n",
    "        line=dict(color='#1f77b4', width=2),\n",
    "        marker=dict(size=8),\n",
    "        name='Mean'\n",
    "    ))\n",
    "    \n",
    "    # Add individual points for each fold\n",
    "    for col in df.columns:\n",
    "        fig.add_trace(go.Scatter(\n",
    "            x=df.index,\n",
    "            y=df[col],\n",
    "            mode='markers',\n",
    "            marker=dict(\n",
    "                color='#1f77b4',\n",
    "                size=6,\n",
    "                opacity=0.5\n",
    "            ),\n",
    "            showlegend=False,\n",
    "            name=f'Fold {col}'\n",
    "        ))\n",
    "    \n",
    "    fig.update_layout(\n",
    "        title=title,\n",
    "        yaxis_title=y_label,\n",
    "        xaxis_title=x_label,\n",
    "        template='plotly_dark',\n",
    "        plot_bgcolor='rgba(32, 32, 32, 1)',\n",
    "        paper_bgcolor='rgba(32, 32, 32, 1)',\n",
    "        font=dict(color='white'),\n",
    "        margin=dict(t=50, l=50, r=30),\n",
    "        showlegend=False\n",
    "    )\n",
    "    \n",
    "    # Update axes for consistency with dark theme\n",
    "    fig.update_xaxes(gridcolor='rgba(128, 128, 128, 0.2)', zeroline=False)\n",
    "    fig.update_yaxes(gridcolor='rgba(128, 128, 128, 0.2)', zeroline=False)\n",
    "    \n",
    "    return fig\n",
    "\n",
    "def get_layer_performance_df(layer_results, classifier_name, metric_name):\n",
    "    res_dict = {}\n",
    "    for layer, layer_stats in layer_results.items():\n",
    "        metric_val_folds = pd.Series([fold_stats[classifier_name][metric_name] for fold_stats in layer_stats.values()])\n",
    "        res_dict[layer] = metric_val_folds + np.random.normal(0, 0.5, 3)\n",
    "    res_df = pd.DataFrame(res_dict).T.sort_index()\n",
    "    return res_df\n",
    "    return \n",
    "\n",
    "res_df = get_layer_performance_df(experiment_results[\"llama3_3b_chat\"][\"gsm8k\"][\"base_3_shot\"][\"main\"][\"prompt_answer\"], \"correctness_direction_classifier\", \"f1_score\")\n",
    "plot_interactive_lineplot(res_df, x_label=\"Layer\", y_label=\"F1 Score\").show()\n",
    "            "
   ]
  },
  {
   "cell_type": "code",
   "execution_count": 52,
   "metadata": {},
   "outputs": [
    {
     "data": {
      "application/vnd.plotly.v1+json": {
       "config": {
        "plotlyServerURL": "https://plot.ly"
       },
       "data": [
        {
         "boxmean": true,
         "boxpoints": "all",
         "fillcolor": "rgba(68, 138, 255, 0.5)",
         "jitter": 0,
         "line": {
          "color": "#1f77b4",
          "width": 2
         },
         "marker": {
          "color": "#1f77b4",
          "opacity": 0.5,
          "size": 8
         },
         "opacity": 0.6,
         "pointpos": 0,
         "showlegend": false,
         "type": "box",
         "width": 0.5,
         "x": [
          1,
          1,
          1,
          2,
          2,
          2,
          3,
          3,
          3,
          4,
          4,
          4,
          5,
          5,
          5
         ],
         "y": [
          -0.011126854798837127,
          0.47671355787873676,
          0.35922599819280254,
          1.5435708175362823,
          1.2408198784747253,
          0.8960136793416913,
          1.4399720694450129,
          0.8386841538238092,
          0.4693578993358682,
          1.4615620386348285,
          1.0694550218423293,
          0.3813769228367718,
          0.6048306609581958,
          0.36219087330762145,
          0.208600134517832
         ]
        }
       ],
       "layout": {
        "font": {
         "color": "white"
        },
        "margin": {
         "l": 50,
         "r": 30,
         "t": 50
        },
        "paper_bgcolor": "rgba(32, 32, 32, 1)",
        "plot_bgcolor": "rgba(32, 32, 32, 1)",
        "showlegend": false,
        "template": {
         "data": {
          "bar": [
           {
            "error_x": {
             "color": "#f2f5fa"
            },
            "error_y": {
             "color": "#f2f5fa"
            },
            "marker": {
             "line": {
              "color": "rgb(17,17,17)",
              "width": 0.5
             },
             "pattern": {
              "fillmode": "overlay",
              "size": 10,
              "solidity": 0.2
             }
            },
            "type": "bar"
           }
          ],
          "barpolar": [
           {
            "marker": {
             "line": {
              "color": "rgb(17,17,17)",
              "width": 0.5
             },
             "pattern": {
              "fillmode": "overlay",
              "size": 10,
              "solidity": 0.2
             }
            },
            "type": "barpolar"
           }
          ],
          "carpet": [
           {
            "aaxis": {
             "endlinecolor": "#A2B1C6",
             "gridcolor": "#506784",
             "linecolor": "#506784",
             "minorgridcolor": "#506784",
             "startlinecolor": "#A2B1C6"
            },
            "baxis": {
             "endlinecolor": "#A2B1C6",
             "gridcolor": "#506784",
             "linecolor": "#506784",
             "minorgridcolor": "#506784",
             "startlinecolor": "#A2B1C6"
            },
            "type": "carpet"
           }
          ],
          "choropleth": [
           {
            "colorbar": {
             "outlinewidth": 0,
             "ticks": ""
            },
            "type": "choropleth"
           }
          ],
          "contour": [
           {
            "colorbar": {
             "outlinewidth": 0,
             "ticks": ""
            },
            "colorscale": [
             [
              0,
              "#0d0887"
             ],
             [
              0.1111111111111111,
              "#46039f"
             ],
             [
              0.2222222222222222,
              "#7201a8"
             ],
             [
              0.3333333333333333,
              "#9c179e"
             ],
             [
              0.4444444444444444,
              "#bd3786"
             ],
             [
              0.5555555555555556,
              "#d8576b"
             ],
             [
              0.6666666666666666,
              "#ed7953"
             ],
             [
              0.7777777777777778,
              "#fb9f3a"
             ],
             [
              0.8888888888888888,
              "#fdca26"
             ],
             [
              1,
              "#f0f921"
             ]
            ],
            "type": "contour"
           }
          ],
          "contourcarpet": [
           {
            "colorbar": {
             "outlinewidth": 0,
             "ticks": ""
            },
            "type": "contourcarpet"
           }
          ],
          "heatmap": [
           {
            "colorbar": {
             "outlinewidth": 0,
             "ticks": ""
            },
            "colorscale": [
             [
              0,
              "#0d0887"
             ],
             [
              0.1111111111111111,
              "#46039f"
             ],
             [
              0.2222222222222222,
              "#7201a8"
             ],
             [
              0.3333333333333333,
              "#9c179e"
             ],
             [
              0.4444444444444444,
              "#bd3786"
             ],
             [
              0.5555555555555556,
              "#d8576b"
             ],
             [
              0.6666666666666666,
              "#ed7953"
             ],
             [
              0.7777777777777778,
              "#fb9f3a"
             ],
             [
              0.8888888888888888,
              "#fdca26"
             ],
             [
              1,
              "#f0f921"
             ]
            ],
            "type": "heatmap"
           }
          ],
          "heatmapgl": [
           {
            "colorbar": {
             "outlinewidth": 0,
             "ticks": ""
            },
            "colorscale": [
             [
              0,
              "#0d0887"
             ],
             [
              0.1111111111111111,
              "#46039f"
             ],
             [
              0.2222222222222222,
              "#7201a8"
             ],
             [
              0.3333333333333333,
              "#9c179e"
             ],
             [
              0.4444444444444444,
              "#bd3786"
             ],
             [
              0.5555555555555556,
              "#d8576b"
             ],
             [
              0.6666666666666666,
              "#ed7953"
             ],
             [
              0.7777777777777778,
              "#fb9f3a"
             ],
             [
              0.8888888888888888,
              "#fdca26"
             ],
             [
              1,
              "#f0f921"
             ]
            ],
            "type": "heatmapgl"
           }
          ],
          "histogram": [
           {
            "marker": {
             "pattern": {
              "fillmode": "overlay",
              "size": 10,
              "solidity": 0.2
             }
            },
            "type": "histogram"
           }
          ],
          "histogram2d": [
           {
            "colorbar": {
             "outlinewidth": 0,
             "ticks": ""
            },
            "colorscale": [
             [
              0,
              "#0d0887"
             ],
             [
              0.1111111111111111,
              "#46039f"
             ],
             [
              0.2222222222222222,
              "#7201a8"
             ],
             [
              0.3333333333333333,
              "#9c179e"
             ],
             [
              0.4444444444444444,
              "#bd3786"
             ],
             [
              0.5555555555555556,
              "#d8576b"
             ],
             [
              0.6666666666666666,
              "#ed7953"
             ],
             [
              0.7777777777777778,
              "#fb9f3a"
             ],
             [
              0.8888888888888888,
              "#fdca26"
             ],
             [
              1,
              "#f0f921"
             ]
            ],
            "type": "histogram2d"
           }
          ],
          "histogram2dcontour": [
           {
            "colorbar": {
             "outlinewidth": 0,
             "ticks": ""
            },
            "colorscale": [
             [
              0,
              "#0d0887"
             ],
             [
              0.1111111111111111,
              "#46039f"
             ],
             [
              0.2222222222222222,
              "#7201a8"
             ],
             [
              0.3333333333333333,
              "#9c179e"
             ],
             [
              0.4444444444444444,
              "#bd3786"
             ],
             [
              0.5555555555555556,
              "#d8576b"
             ],
             [
              0.6666666666666666,
              "#ed7953"
             ],
             [
              0.7777777777777778,
              "#fb9f3a"
             ],
             [
              0.8888888888888888,
              "#fdca26"
             ],
             [
              1,
              "#f0f921"
             ]
            ],
            "type": "histogram2dcontour"
           }
          ],
          "mesh3d": [
           {
            "colorbar": {
             "outlinewidth": 0,
             "ticks": ""
            },
            "type": "mesh3d"
           }
          ],
          "parcoords": [
           {
            "line": {
             "colorbar": {
              "outlinewidth": 0,
              "ticks": ""
             }
            },
            "type": "parcoords"
           }
          ],
          "pie": [
           {
            "automargin": true,
            "type": "pie"
           }
          ],
          "scatter": [
           {
            "marker": {
             "line": {
              "color": "#283442"
             }
            },
            "type": "scatter"
           }
          ],
          "scatter3d": [
           {
            "line": {
             "colorbar": {
              "outlinewidth": 0,
              "ticks": ""
             }
            },
            "marker": {
             "colorbar": {
              "outlinewidth": 0,
              "ticks": ""
             }
            },
            "type": "scatter3d"
           }
          ],
          "scattercarpet": [
           {
            "marker": {
             "colorbar": {
              "outlinewidth": 0,
              "ticks": ""
             }
            },
            "type": "scattercarpet"
           }
          ],
          "scattergeo": [
           {
            "marker": {
             "colorbar": {
              "outlinewidth": 0,
              "ticks": ""
             }
            },
            "type": "scattergeo"
           }
          ],
          "scattergl": [
           {
            "marker": {
             "line": {
              "color": "#283442"
             }
            },
            "type": "scattergl"
           }
          ],
          "scattermapbox": [
           {
            "marker": {
             "colorbar": {
              "outlinewidth": 0,
              "ticks": ""
             }
            },
            "type": "scattermapbox"
           }
          ],
          "scatterpolar": [
           {
            "marker": {
             "colorbar": {
              "outlinewidth": 0,
              "ticks": ""
             }
            },
            "type": "scatterpolar"
           }
          ],
          "scatterpolargl": [
           {
            "marker": {
             "colorbar": {
              "outlinewidth": 0,
              "ticks": ""
             }
            },
            "type": "scatterpolargl"
           }
          ],
          "scatterternary": [
           {
            "marker": {
             "colorbar": {
              "outlinewidth": 0,
              "ticks": ""
             }
            },
            "type": "scatterternary"
           }
          ],
          "surface": [
           {
            "colorbar": {
             "outlinewidth": 0,
             "ticks": ""
            },
            "colorscale": [
             [
              0,
              "#0d0887"
             ],
             [
              0.1111111111111111,
              "#46039f"
             ],
             [
              0.2222222222222222,
              "#7201a8"
             ],
             [
              0.3333333333333333,
              "#9c179e"
             ],
             [
              0.4444444444444444,
              "#bd3786"
             ],
             [
              0.5555555555555556,
              "#d8576b"
             ],
             [
              0.6666666666666666,
              "#ed7953"
             ],
             [
              0.7777777777777778,
              "#fb9f3a"
             ],
             [
              0.8888888888888888,
              "#fdca26"
             ],
             [
              1,
              "#f0f921"
             ]
            ],
            "type": "surface"
           }
          ],
          "table": [
           {
            "cells": {
             "fill": {
              "color": "#506784"
             },
             "line": {
              "color": "rgb(17,17,17)"
             }
            },
            "header": {
             "fill": {
              "color": "#2a3f5f"
             },
             "line": {
              "color": "rgb(17,17,17)"
             }
            },
            "type": "table"
           }
          ]
         },
         "layout": {
          "annotationdefaults": {
           "arrowcolor": "#f2f5fa",
           "arrowhead": 0,
           "arrowwidth": 1
          },
          "autotypenumbers": "strict",
          "coloraxis": {
           "colorbar": {
            "outlinewidth": 0,
            "ticks": ""
           }
          },
          "colorscale": {
           "diverging": [
            [
             0,
             "#8e0152"
            ],
            [
             0.1,
             "#c51b7d"
            ],
            [
             0.2,
             "#de77ae"
            ],
            [
             0.3,
             "#f1b6da"
            ],
            [
             0.4,
             "#fde0ef"
            ],
            [
             0.5,
             "#f7f7f7"
            ],
            [
             0.6,
             "#e6f5d0"
            ],
            [
             0.7,
             "#b8e186"
            ],
            [
             0.8,
             "#7fbc41"
            ],
            [
             0.9,
             "#4d9221"
            ],
            [
             1,
             "#276419"
            ]
           ],
           "sequential": [
            [
             0,
             "#0d0887"
            ],
            [
             0.1111111111111111,
             "#46039f"
            ],
            [
             0.2222222222222222,
             "#7201a8"
            ],
            [
             0.3333333333333333,
             "#9c179e"
            ],
            [
             0.4444444444444444,
             "#bd3786"
            ],
            [
             0.5555555555555556,
             "#d8576b"
            ],
            [
             0.6666666666666666,
             "#ed7953"
            ],
            [
             0.7777777777777778,
             "#fb9f3a"
            ],
            [
             0.8888888888888888,
             "#fdca26"
            ],
            [
             1,
             "#f0f921"
            ]
           ],
           "sequentialminus": [
            [
             0,
             "#0d0887"
            ],
            [
             0.1111111111111111,
             "#46039f"
            ],
            [
             0.2222222222222222,
             "#7201a8"
            ],
            [
             0.3333333333333333,
             "#9c179e"
            ],
            [
             0.4444444444444444,
             "#bd3786"
            ],
            [
             0.5555555555555556,
             "#d8576b"
            ],
            [
             0.6666666666666666,
             "#ed7953"
            ],
            [
             0.7777777777777778,
             "#fb9f3a"
            ],
            [
             0.8888888888888888,
             "#fdca26"
            ],
            [
             1,
             "#f0f921"
            ]
           ]
          },
          "colorway": [
           "#636efa",
           "#EF553B",
           "#00cc96",
           "#ab63fa",
           "#FFA15A",
           "#19d3f3",
           "#FF6692",
           "#B6E880",
           "#FF97FF",
           "#FECB52"
          ],
          "font": {
           "color": "#f2f5fa"
          },
          "geo": {
           "bgcolor": "rgb(17,17,17)",
           "lakecolor": "rgb(17,17,17)",
           "landcolor": "rgb(17,17,17)",
           "showlakes": true,
           "showland": true,
           "subunitcolor": "#506784"
          },
          "hoverlabel": {
           "align": "left"
          },
          "hovermode": "closest",
          "mapbox": {
           "style": "dark"
          },
          "paper_bgcolor": "rgb(17,17,17)",
          "plot_bgcolor": "rgb(17,17,17)",
          "polar": {
           "angularaxis": {
            "gridcolor": "#506784",
            "linecolor": "#506784",
            "ticks": ""
           },
           "bgcolor": "rgb(17,17,17)",
           "radialaxis": {
            "gridcolor": "#506784",
            "linecolor": "#506784",
            "ticks": ""
           }
          },
          "scene": {
           "xaxis": {
            "backgroundcolor": "rgb(17,17,17)",
            "gridcolor": "#506784",
            "gridwidth": 2,
            "linecolor": "#506784",
            "showbackground": true,
            "ticks": "",
            "zerolinecolor": "#C8D4E3"
           },
           "yaxis": {
            "backgroundcolor": "rgb(17,17,17)",
            "gridcolor": "#506784",
            "gridwidth": 2,
            "linecolor": "#506784",
            "showbackground": true,
            "ticks": "",
            "zerolinecolor": "#C8D4E3"
           },
           "zaxis": {
            "backgroundcolor": "rgb(17,17,17)",
            "gridcolor": "#506784",
            "gridwidth": 2,
            "linecolor": "#506784",
            "showbackground": true,
            "ticks": "",
            "zerolinecolor": "#C8D4E3"
           }
          },
          "shapedefaults": {
           "line": {
            "color": "#f2f5fa"
           }
          },
          "sliderdefaults": {
           "bgcolor": "#C8D4E3",
           "bordercolor": "rgb(17,17,17)",
           "borderwidth": 1,
           "tickwidth": 0
          },
          "ternary": {
           "aaxis": {
            "gridcolor": "#506784",
            "linecolor": "#506784",
            "ticks": ""
           },
           "baxis": {
            "gridcolor": "#506784",
            "linecolor": "#506784",
            "ticks": ""
           },
           "bgcolor": "rgb(17,17,17)",
           "caxis": {
            "gridcolor": "#506784",
            "linecolor": "#506784",
            "ticks": ""
           }
          },
          "title": {
           "x": 0.05
          },
          "updatemenudefaults": {
           "bgcolor": "#506784",
           "borderwidth": 0
          },
          "xaxis": {
           "automargin": true,
           "gridcolor": "#283442",
           "linecolor": "#506784",
           "ticks": "",
           "title": {
            "standoff": 15
           },
           "zerolinecolor": "#283442",
           "zerolinewidth": 2
          },
          "yaxis": {
           "automargin": true,
           "gridcolor": "#283442",
           "linecolor": "#506784",
           "ticks": "",
           "title": {
            "standoff": 15
           },
           "zerolinecolor": "#283442",
           "zerolinewidth": 2
          }
         }
        },
        "title": {},
        "xaxis": {
         "gridcolor": "rgba(128, 128, 128, 0.2)",
         "title": {
          "text": "Layer"
         },
         "zeroline": false
        },
        "yaxis": {
         "gridcolor": "rgba(128, 128, 128, 0.2)",
         "title": {
          "text": "F1 Score"
         },
         "zeroline": false
        }
       }
      }
     },
     "metadata": {},
     "output_type": "display_data"
    }
   ],
   "source": [
    "def plot_interactive_box(df, x_label, y_label, title=None):\n",
    "    fig = go.Figure()\n",
    "    \n",
    "    # Create box plot\n",
    "    fig.add_trace(go.Box(\n",
    "        x=[idx for idx in df.index for _ in range(len(df.columns))],  # Repeat each index for each fold\n",
    "        y=df.values.flatten(),  # Flatten all values\n",
    "        boxpoints='all',  # Show all points\n",
    "        jitter=0,        # No jitter for points\n",
    "        pointpos=0,      # Position points at center\n",
    "        marker=dict(\n",
    "            color='#1f77b4',\n",
    "            size=8,\n",
    "            opacity=0.5\n",
    "        ),\n",
    "        line=dict(\n",
    "            color='#1f77b4',\n",
    "            width=2\n",
    "        ),\n",
    "        fillcolor='rgba(68, 138, 255, 0.5)',\n",
    "        opacity=0.6,\n",
    "        showlegend=False,\n",
    "        boxmean=True,    # Show mean as a dashed line\n",
    "        width=0.5        # Width of boxes\n",
    "    ))\n",
    "\n",
    "    fig.update_layout(\n",
    "        title=title,\n",
    "        yaxis_title=y_label,\n",
    "        xaxis_title=x_label,\n",
    "        template='plotly_dark',\n",
    "        plot_bgcolor='rgba(32, 32, 32, 1)',\n",
    "        paper_bgcolor='rgba(32, 32, 32, 1)',\n",
    "        font=dict(color='white'),\n",
    "        margin=dict(t=50, l=50, r=30),\n",
    "        showlegend=False\n",
    "    )\n",
    "    \n",
    "    # Update axes for consistency with dark theme\n",
    "    fig.update_xaxes(gridcolor='rgba(128, 128, 128, 0.2)', zeroline=False)\n",
    "    fig.update_yaxes(gridcolor='rgba(128, 128, 128, 0.2)', zeroline=False)\n",
    "    \n",
    "    return fig\n",
    "\n",
    "plot_interactive_box(res_df, x_label=\"Layer\", y_label=\"F1 Score\").show()"
   ]
  },
  {
   "cell_type": "code",
   "execution_count": null,
   "metadata": {},
   "outputs": [],
   "source": []
  }
 ],
 "metadata": {
  "kernelspec": {
   "display_name": "default_env",
   "language": "python",
   "name": "python3"
  },
  "language_info": {
   "codemirror_mode": {
    "name": "ipython",
    "version": 3
   },
   "file_extension": ".py",
   "mimetype": "text/x-python",
   "name": "python",
   "nbconvert_exporter": "python",
   "pygments_lexer": "ipython3",
   "version": "3.11.3"
  }
 },
 "nbformat": 4,
 "nbformat_minor": 2
}
