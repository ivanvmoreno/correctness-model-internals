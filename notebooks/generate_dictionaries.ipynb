{
 "cells": [
  {
   "cell_type": "code",
   "execution_count": 1,
   "id": "cb2b3d6c",
   "metadata": {},
   "outputs": [],
   "source": [
    "import pandas as pd"
   ]
  },
  {
   "cell_type": "code",
   "execution_count": 19,
   "id": "d46625bc",
   "metadata": {},
   "outputs": [
    {
     "name": "stdout",
     "output_type": "stream",
     "text": [
      "mistral_7b_instruct\n",
      "      dataset_id_test  test_roc_auc\n",
      "0      birth_years_4k      0.866411\n",
      "1          cities_10k      0.880377\n",
      "2               gsm8k      0.578577\n",
      "3  math_operations_6k      0.782090\n",
      "4           medals_9k      0.644637\n",
      "5      notable_people      0.760428\n",
      "6     trivia_qa_2_60k      0.795890\n",
      "llama3.1_8b_chat\n",
      "      dataset_id_test  test_roc_auc\n",
      "0      birth_years_4k      0.855534\n",
      "1          cities_10k      0.732079\n",
      "2               gsm8k      0.534442\n",
      "3  math_operations_6k      0.857661\n",
      "4           medals_9k      0.679591\n",
      "5      notable_people      0.722169\n",
      "6     trivia_qa_2_60k      0.804026\n",
      "ministral_8b_instruct\n",
      "      dataset_id_test  test_roc_auc\n",
      "0      birth_years_4k      0.824587\n",
      "1          cities_10k      0.839758\n",
      "2               gsm8k      0.577933\n",
      "3  math_operations_6k      0.843538\n",
      "4           medals_9k      0.669570\n",
      "5      notable_people      0.680100\n",
      "6     trivia_qa_2_60k      0.734102\n",
      "qwen_2.5_7b_instruct\n",
      "      dataset_id_test  test_roc_auc\n",
      "0      birth_years_4k      0.789612\n",
      "1          cities_10k      0.842274\n",
      "2               gsm8k      0.601138\n",
      "3  math_operations_6k      0.836525\n",
      "4           medals_9k      0.586149\n",
      "5      notable_people      0.800071\n",
      "6     trivia_qa_2_60k      0.757525\n"
     ]
    }
   ],
   "source": [
    "df = pd.read_csv(\"/home/arnau/Desktop/MARS/correctness-model-internals/notebooks/best_layer_finding/mistral_7b_instruct/classification_data/final_data_2.csv\")\n",
    "df = df[df[\"dataset_id_train\"] == \"trivia_qa_2_60k\"] # select rows where dataset_id_train = \"trivia_qa_2_60k\"\n",
    "df = df[[\"dataset_id_test\", \"direction__center_from_origin_True__classifier_cut_zero__test_roc_auc\"]]\n",
    "df = df.groupby(\"dataset_id_test\").mean().reset_index()\n",
    "df = df.rename(columns={\"direction__center_from_origin_True__classifier_cut_zero__test_roc_auc\": \"test_roc_auc\"})\n",
    "df = df.reset_index(drop=True)\n",
    "print(\"mistral_7b_instruct\")\n",
    "print(df)\n",
    "df = pd.read_csv(\"/home/arnau/Desktop/MARS/correctness-model-internals/notebooks/best_layer_finding/llama3.1_8b_chat/classification_data/final_data_2.csv\")\n",
    "df = df[df[\"dataset_id_train\"] == \"trivia_qa_2_60k\"] # select rows where dataset_id_train = \"trivia_qa_2_60k\"\n",
    "df = df[[\"dataset_id_test\", \"direction__center_from_origin_True__classifier_cut_zero__test_roc_auc\"]]\n",
    "df = df.groupby(\"dataset_id_test\").mean().reset_index()\n",
    "df = df.rename(columns={\"direction__center_from_origin_True__classifier_cut_zero__test_roc_auc\": \"test_roc_auc\"})\n",
    "df = df.reset_index(drop=True)\n",
    "print(\"llama3.1_8b_chat\")\n",
    "print(df)\n",
    "df = pd.read_csv(\"/home/arnau/Desktop/MARS/correctness-model-internals/notebooks/best_layer_finding/ministral_8b_instruct/classification_data/final_data_2.csv\")\n",
    "df = df[df[\"dataset_id_train\"] == \"trivia_qa_2_60k\"] # select rows where dataset_id_train = \"trivia_qa_2_60k\"\n",
    "df = df[[\"dataset_id_test\", \"direction__center_from_origin_True__classifier_cut_zero__test_roc_auc\"]]\n",
    "df = df.groupby(\"dataset_id_test\").mean().reset_index()\n",
    "df = df.rename(columns={\"direction__center_from_origin_True__classifier_cut_zero__test_roc_auc\": \"test_roc_auc\"})\n",
    "df = df.reset_index(drop=True)\n",
    "print(\"ministral_8b_instruct\")\n",
    "print(df)\n",
    "df = pd.read_csv(\"/home/arnau/Desktop/MARS/correctness-model-internals/notebooks/best_layer_finding/qwen_2.5_7b_instruct/classification_data/final_data_2.csv\")\n",
    "df = df[df[\"dataset_id_train\"] == \"trivia_qa_2_60k\"] # select rows where dataset_id_train = \"trivia_qa_2_60k\"\n",
    "df = df[[\"dataset_id_test\", \"direction__center_from_origin_True__classifier_cut_zero__test_roc_auc\"]]\n",
    "df = df.groupby(\"dataset_id_test\").mean().reset_index()\n",
    "df = df.rename(columns={\"direction__center_from_origin_True__classifier_cut_zero__test_roc_auc\": \"test_roc_auc\"})\n",
    "df = df.reset_index(drop=True)\n",
    "print(\"qwen_2.5_7b_instruct\")\n",
    "print(df)"
   ]
  },
  {
   "cell_type": "code",
   "execution_count": 20,
   "id": "8be630b9",
   "metadata": {},
   "outputs": [
    {
     "name": "stdout",
     "output_type": "stream",
     "text": [
      "      dataset_id_test  test_roc_auc\n",
      "0      birth_years_4k      0.886669\n",
      "1          cities_10k      0.864604\n",
      "2               gsm8k      0.631184\n",
      "3  math_operations_6k      0.730612\n",
      "4           medals_9k      0.538776\n",
      "5      notable_people      0.808954\n",
      "6     trivia_qa_2_60k      0.712957\n"
     ]
    }
   ],
   "source": [
    "df = pd.read_csv(\"/home/arnau/Desktop/MARS/correctness-model-internals/notebooks/best_layer_finding/mistral_7b_instruct/classification_data/final_data_2.csv\")\n",
    "df = df[df[\"dataset_id_train\"] == \"notable_people\"] \n",
    "df = df[[\"dataset_id_test\", \"direction__center_from_origin_True__classifier_cut_zero__test_roc_auc\"]]\n",
    "df = df.groupby(\"dataset_id_test\").mean().reset_index()\n",
    "df = df.rename(columns={\"direction__center_from_origin_True__classifier_cut_zero__test_roc_auc\": \"test_roc_auc\"})\n",
    "df = df.reset_index(drop=True)\n",
    "print(df)"
   ]
  }
 ],
 "metadata": {
  "kernelspec": {
   "display_name": "ml_env",
   "language": "python",
   "name": "python3"
  },
  "language_info": {
   "codemirror_mode": {
    "name": "ipython",
    "version": 3
   },
   "file_extension": ".py",
   "mimetype": "text/x-python",
   "name": "python",
   "nbconvert_exporter": "python",
   "pygments_lexer": "ipython3",
   "version": "3.12.3"
  }
 },
 "nbformat": 4,
 "nbformat_minor": 5
}
