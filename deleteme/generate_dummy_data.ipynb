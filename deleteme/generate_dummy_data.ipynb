{
 "cells": [
  {
   "cell_type": "code",
   "execution_count": 14,
   "metadata": {},
   "outputs": [],
   "source": [
    "import pandas as pd\n",
    "import torch as pt\n",
    "import numpy as np"
   ]
  },
  {
   "cell_type": "code",
   "execution_count": 15,
   "metadata": {},
   "outputs": [
    {
     "name": "stdout",
     "output_type": "stream",
     "text": [
      "0\n",
      "torch.Size([25, 4096])\n",
      "1\n",
      "torch.Size([25, 4096])\n",
      "2\n",
      "torch.Size([25, 4096])\n",
      "3\n",
      "torch.Size([25, 4096])\n",
      "4\n",
      "torch.Size([25, 4096])\n",
      "5\n",
      "torch.Size([25, 4096])\n",
      "6\n",
      "torch.Size([25, 4096])\n",
      "7\n",
      "torch.Size([25, 4096])\n",
      "8\n",
      "torch.Size([25, 4096])\n",
      "9\n",
      "torch.Size([25, 4096])\n",
      "10\n",
      "torch.Size([25, 4096])\n",
      "11\n",
      "torch.Size([25, 4096])\n",
      "12\n",
      "torch.Size([25, 4096])\n",
      "13\n",
      "torch.Size([25, 4096])\n",
      "14\n",
      "torch.Size([25, 4096])\n",
      "15\n",
      "torch.Size([25, 4096])\n",
      "16\n",
      "torch.Size([25, 4096])\n",
      "17\n",
      "torch.Size([25, 4096])\n",
      "18\n",
      "torch.Size([25, 4096])\n",
      "19\n",
      "torch.Size([25, 4096])\n",
      "20\n",
      "torch.Size([25, 4096])\n",
      "21\n",
      "torch.Size([25, 4096])\n",
      "22\n",
      "torch.Size([25, 4096])\n",
      "23\n",
      "torch.Size([25, 4096])\n",
      "24\n",
      "torch.Size([25, 4096])\n",
      "25\n",
      "torch.Size([25, 4096])\n",
      "26\n",
      "torch.Size([25, 4096])\n",
      "27\n",
      "torch.Size([25, 4096])\n",
      "28\n",
      "torch.Size([25, 4096])\n",
      "29\n",
      "torch.Size([25, 4096])\n",
      "30\n",
      "torch.Size([25, 4096])\n",
      "31\n",
      "torch.Size([25, 4096])\n",
      "32\n",
      "torch.Size([25, 4096])\n",
      "33\n",
      "torch.Size([25, 4096])\n",
      "34\n",
      "torch.Size([25, 4096])\n",
      "35\n",
      "torch.Size([25, 4096])\n",
      "36\n",
      "torch.Size([25, 4096])\n",
      "37\n",
      "torch.Size([25, 4096])\n",
      "38\n",
      "torch.Size([25, 4096])\n",
      "39\n",
      "torch.Size([25, 4096])\n"
     ]
    }
   ],
   "source": [
    "n_acts = 4096\n",
    "n_samples = 1000\n",
    "batch_size = 25\n",
    "\n",
    "true_dir = np.random.normal(100, 10, n_acts)\n",
    "# false_dir = np.random.normal(100, 10, n_acts)\n",
    "false_dir = true_dir + 0.5\n",
    "\n",
    "labels = []\n",
    "for i in range(n_samples // batch_size):\n",
    "    print(i)\n",
    "    tensor_list = []\n",
    "    for j in range(batch_size):\n",
    "        is_correct =  np.random.uniform(0, 1) > 0.5\n",
    "        tensor_list.append((true_dir if is_correct else false_dir) + np.random.normal(0, 10, n_acts))\n",
    "        labels.append(is_correct)\n",
    "    acts = pt.from_numpy(np.stack(tensor_list, axis=0))\n",
    "    print(acts.shape)\n",
    "    pt.save(acts, f\"./acts/llama3_8b/dummy_dataset/something_layer12_{(i+1)*batch_size}.pt\")"
   ]
  },
  {
   "cell_type": "code",
   "execution_count": 16,
   "metadata": {},
   "outputs": [],
   "source": [
    "pd.DataFrame({\"correct\": labels}).to_csv(\"./labels/labels.csv\")"
   ]
  },
  {
   "cell_type": "code",
   "execution_count": null,
   "metadata": {},
   "outputs": [],
   "source": []
  },
  {
   "cell_type": "code",
   "execution_count": null,
   "metadata": {},
   "outputs": [],
   "source": []
  },
  {
   "cell_type": "code",
   "execution_count": null,
   "metadata": {},
   "outputs": [],
   "source": []
  },
  {
   "cell_type": "code",
   "execution_count": null,
   "metadata": {},
   "outputs": [],
   "source": []
  }
 ],
 "metadata": {
  "kernelspec": {
   "display_name": "default_env",
   "language": "python",
   "name": "python3"
  },
  "language_info": {
   "codemirror_mode": {
    "name": "ipython",
    "version": 3
   },
   "file_extension": ".py",
   "mimetype": "text/x-python",
   "name": "python",
   "nbconvert_exporter": "python",
   "pygments_lexer": "ipython3",
   "version": "3.11.3"
  }
 },
 "nbformat": 4,
 "nbformat_minor": 2
}
