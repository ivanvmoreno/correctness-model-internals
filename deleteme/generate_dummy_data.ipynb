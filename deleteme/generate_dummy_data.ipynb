{
 "cells": [
  {
   "cell_type": "code",
   "execution_count": 2,
   "metadata": {},
   "outputs": [],
   "source": [
    "import torch as pt\n",
    "import numpy as np\n",
    "import pandas as pd\n"
   ]
  },
  {
   "cell_type": "code",
   "execution_count": 24,
   "metadata": {},
   "outputs": [],
   "source": [
    "correct_dir = np.random.normal(100, 10, 4096)\n",
    "# incorrect_dir = np.random.normal(100, 10, 4096)\n",
    "incorrect_dir = correct_dir + 1\n",
    "\n",
    "acts = []\n",
    "res_labels = []\n",
    "for i in range(1_000):\n",
    "    acts.append(np.random.normal(0, 10, 4096) + correct_dir)\n",
    "    res_labels.append(True)\n",
    "    acts.append(np.random.normal(0, 10, 4096) + incorrect_dir)\n",
    "    res_labels.append(False)\n"
   ]
  },
  {
   "cell_type": "code",
   "execution_count": 25,
   "metadata": {},
   "outputs": [],
   "source": [
    "from torch.utils.data import DataLoader, TensorDataset\n",
    "\n",
    "# Create a sample tensor\n",
    "data = pt.from_numpy(np.stack(acts))\n",
    "\n",
    "# Define batch size\n",
    "batch_size = 25\n",
    "\n",
    "# Use TensorDataset to wrap the tensor\n",
    "dataset = TensorDataset(data)\n",
    "\n",
    "# Create DataLoader\n",
    "dataloader = DataLoader(dataset, batch_size=batch_size, shuffle=False)\n",
    "\n",
    "from pathlib import Path\n",
    "Path(\"./acts/dummy_data/\").mkdir(parents=True, exist_ok=True)\n",
    "# Iterate over batches\n",
    "for i, batch in enumerate(dataloader):\n",
    "    pt.save(batch[0], f\"./acts/dummy_data/something_some_layer_12_{i*25}.pt\")"
   ]
  },
  {
   "cell_type": "code",
   "execution_count": 26,
   "metadata": {},
   "outputs": [],
   "source": [
    "res_s = pd.Series(res_labels)\n",
    "res_s.name = \"correct\"\n",
    "\n",
    "Path(\"./qa_file/dummy_data/\").mkdir(parents=True, exist_ok=True)\n",
    "\n",
    "res_s.to_frame().to_csv(\"./qa_file/dummy_data/labels.csv\", index=False)"
   ]
  },
  {
   "cell_type": "code",
   "execution_count": null,
   "metadata": {},
   "outputs": [],
   "source": []
  },
  {
   "cell_type": "code",
   "execution_count": null,
   "metadata": {},
   "outputs": [],
   "source": []
  },
  {
   "cell_type": "code",
   "execution_count": null,
   "metadata": {},
   "outputs": [],
   "source": []
  }
 ],
 "metadata": {
  "kernelspec": {
   "display_name": "default_env",
   "language": "python",
   "name": "python3"
  },
  "language_info": {
   "codemirror_mode": {
    "name": "ipython",
    "version": 3
   },
   "file_extension": ".py",
   "mimetype": "text/x-python",
   "name": "python",
   "nbconvert_exporter": "python",
   "pygments_lexer": "ipython3",
   "version": "3.11.3"
  }
 },
 "nbformat": 4,
 "nbformat_minor": 2
}
